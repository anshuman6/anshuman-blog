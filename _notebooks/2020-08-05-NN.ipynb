{
 "cells": [
  {
   "cell_type": "code",
   "execution_count": null,
   "metadata": {},
   "outputs": [],
   "source": [
    "# \"Building a basic Neural Network from scratch - Kudzu\"\n",
    "\n",
    "- badges: true\n",
    "- author: Anshuman Gupta"
   ]
  },
  {
   "cell_type": "markdown",
   "metadata": {},
   "source": [
    "#### In this project, the idea is to write a classifier to differentiate between handwritten digits 3 and 8, from the MNIST database.\n",
    "\n",
    "#### I will using a custom built neural network library called Kudzu.This has been developed as a part of KTF/Foundations course of Univ.ai (www.univ.ai). The source code for Kudzu Library and and this notebook can be found on my git-hub profile : www.https://github.com/anshuman6 under the folder project-solution. Any feedback and comments are welcome. Please feel free to email me at: anshuman6@gmail.com\n",
    "\n",
    "#### 1. I will be using the MNIST database. \n",
    "\n",
    "#### 2. I will be comparing the results of the 4 layer NN to a standard logistic regression"
   ]
  },
  {
   "cell_type": "markdown",
   "metadata": {},
   "source": [
    "##### Importing all the necessary libraries"
   ]
  },
  {
   "cell_type": "code",
   "execution_count": 22,
   "metadata": {},
   "outputs": [
    {
     "name": "stdout",
     "output_type": "stream",
     "text": [
      "The autoreload extension is already loaded. To reload it, use:\n",
      "  %reload_ext autoreload\n"
     ]
    }
   ],
   "source": [
    "%load_ext autoreload\n",
    "%autoreload 2"
   ]
  },
  {
   "cell_type": "code",
   "execution_count": 23,
   "metadata": {},
   "outputs": [],
   "source": [
    "%matplotlib inline\n",
    "import numpy as np\n",
    "import matplotlib.pyplot as plt\n",
    "import pandas as pd"
   ]
  },
  {
   "cell_type": "markdown",
   "metadata": {},
   "source": [
    "##### The following command helps us download MNIST from notebook itself. You can skip this if you already have MNIST. You can also download it via your terminal."
   ]
  },
  {
   "cell_type": "code",
   "execution_count": 24,
   "metadata": {},
   "outputs": [],
   "source": [
    "#!pip install mnist # Please note, it is commented out for now, you can remove comment if you want to install it"
   ]
  },
  {
   "cell_type": "markdown",
   "metadata": {},
   "source": [
    "#### Preparing the Data"
   ]
  },
  {
   "cell_type": "code",
   "execution_count": 25,
   "metadata": {},
   "outputs": [],
   "source": [
    "import mnist"
   ]
  },
  {
   "cell_type": "code",
   "execution_count": 26,
   "metadata": {},
   "outputs": [],
   "source": [
    "train_images = mnist.train_images()\n",
    "train_labels = mnist.train_labels()"
   ]
  },
  {
   "cell_type": "code",
   "execution_count": 27,
   "metadata": {},
   "outputs": [
    {
     "data": {
      "text/plain": [
       "((60000, 28, 28), (60000,))"
      ]
     },
     "execution_count": 27,
     "metadata": {},
     "output_type": "execute_result"
    }
   ],
   "source": [
    "train_images.shape, train_labels.shape"
   ]
  },
  {
   "cell_type": "code",
   "execution_count": 28,
   "metadata": {},
   "outputs": [],
   "source": [
    "test_images = mnist.test_imaprges()\n",
    "test_labels = mnist.test_labels()"
   ]
  },
  {
   "cell_type": "code",
   "execution_count": 29,
   "metadata": {},
   "outputs": [
    {
     "data": {
      "text/plain": [
       "((10000, 28, 28), (10000,))"
      ]
     },
     "execution_count": 29,
     "metadata": {},
     "output_type": "execute_result"
    }
   ],
   "source": [
    "test_images.shape, test_labels.shape"
   ]
  },
  {
   "cell_type": "code",
   "execution_count": 30,
   "metadata": {},
   "outputs": [
    {
     "name": "stdout",
     "output_type": "stream",
     "text": [
      "2\n"
     ]
    },
    {
     "data": {
      "text/plain": [
       "<matplotlib.image.AxesImage at 0x120f43d90>"
      ]
     },
     "execution_count": 30,
     "metadata": {},
     "output_type": "execute_result"
    },
    {
     "data": {
      "image/png": "[encoded data removed]",
      "text/plain": [
       "<Figure size 432x288 with 1 Axes>"
      ]
     },
     "metadata": {
      "needs_background": "light"
     },
     "output_type": "display_data"
    }
   ],
   "source": [
    "image_index = 7776 # You may select anything up to 60,000\n",
    "print(train_labels[image_index]) \n",
    "plt.imshow(train_images[image_index], cmap='Greys')"
   ]
  },
  {
   "cell_type": "markdown",
   "metadata": {},
   "source": [
    "## Filter data to get 3 and 8 out"
   ]
  },
  {
   "cell_type": "code",
   "execution_count": 31,
   "metadata": {},
   "outputs": [],
   "source": [
    "train_filter = np.where((train_labels == 3 ) | (train_labels == 8))\n",
    "test_filter = np.where((test_labels == 3) | (test_labels == 8))\n",
    "X_train, y_train = train_images[train_filter], train_labels[train_filter]\n",
    "X_test, y_test = test_images[test_filter], test_labels[test_filter]"
   ]
  },
  {
   "cell_type": "markdown",
   "metadata": {},
   "source": [
    "##### We normalize the pizel values in the 0 to 1 range"
   ]
  },
  {
   "cell_type": "code",
   "execution_count": 32,
   "metadata": {},
   "outputs": [],
   "source": [
    "X_train = X_train/255.\n",
    "X_test = X_test/255."
   ]
  },
  {
   "cell_type": "markdown",
   "metadata": {},
   "source": [
    "And setup the labels as 1 (when the digit is 3) and 0 (when the digit is 8)"
   ]
  },
  {
   "cell_type": "code",
   "execution_count": 33,
   "metadata": {},
   "outputs": [],
   "source": [
    "y_train = 1*(y_train==3)\n",
    "y_test = 1*(y_test==3)"
   ]
  },
  {
   "cell_type": "code",
   "execution_count": 34,
   "metadata": {},
   "outputs": [
    {
     "data": {
      "text/plain": [
       "((11982, 28, 28), (1984, 28, 28))"
      ]
     },
     "execution_count": 34,
     "metadata": {},
     "output_type": "execute_result"
    }
   ],
   "source": [
    "X_train.shape, X_test.shape"
   ]
  },
  {
   "cell_type": "markdown",
   "metadata": {},
   "source": [
    "##### We reshape the data to flatten the image pixels into a set of features or co-variates:"
   ]
  },
  {
   "cell_type": "code",
   "execution_count": 35,
   "metadata": {},
   "outputs": [
    {
     "data": {
      "text/plain": [
       "((11982, 784), (1984, 784))"
      ]
     },
     "execution_count": 35,
     "metadata": {},
     "output_type": "execute_result"
    }
   ],
   "source": [
    "X_train = X_train.reshape(X_train.shape[0], -1)\n",
    "X_test = X_test.reshape(X_test.shape[0], -1)\n",
    "X_train.shape, X_test.shape"
   ]
  },
  {
   "cell_type": "markdown",
   "metadata": {},
   "source": [
    "##### Importing Kudzu library and its functionality"
   ]
  },
  {
   "cell_type": "code",
   "execution_count": 36,
   "metadata": {},
   "outputs": [],
   "source": [
    "from kudzu.data import Data, Dataloader, Sampler\n",
    "from kudzu.callbacks import AccCallback\n",
    "from kudzu.loss import MSE\n",
    "from kudzu.layer import Affine, Sigmoid\n",
    "from kudzu.model import Model\n",
    "from kudzu.optim import GD\n",
    "from kudzu.train import Learner\n",
    "from kudzu.callbacks import ClfCallback\n",
    "from kudzu.layer import Sigmoid\n",
    "from kudzu.layer import Relu"
   ]
  },
  {
   "cell_type": "markdown",
   "metadata": {},
   "source": [
    "##### We are creating a class, just so that we can use it to store our parameters for us"
   ]
  },
  {
   "cell_type": "code",
   "execution_count": 37,
   "metadata": {},
   "outputs": [],
   "source": [
    "class Config:\n",
    "    pass\n",
    "config = Config()\n",
    "config.lr = 0.001\n",
    "config.num_epochs = 250\n",
    "config.bs = 50"
   ]
  },
  {
   "cell_type": "markdown",
   "metadata": {},
   "source": [
    "##### Initializing Data"
   ]
  },
  {
   "cell_type": "code",
   "execution_count": 45,
   "metadata": {},
   "outputs": [],
   "source": [
    "data = Data(X_train, y_train.reshape(-1,1))\n",
    "loss = MSE()\n",
    "opt = GD(config.lr)\n",
    "sampler = Sampler(data, config.bs, shuffle=True)\n",
    "dl = Dataloader(data, sampler)"
   ]
  },
  {
   "cell_type": "markdown",
   "metadata": {},
   "source": [
    "##### Constructing 2 different layers, one for NN and one only for logistic regression."
   ]
  },
  {
   "cell_type": "markdown",
   "metadata": {},
   "source": [
    "##### Creating containers for data to be passed, to calculate accuracies"
   ]
  },
  {
   "cell_type": "code",
   "execution_count": 50,
   "metadata": {},
   "outputs": [],
   "source": [
    "training_xdata = X_train\n",
    "testing_xdata = X_test\n",
    "training_ydata = y_train.reshape(-1,1)\n",
    "testing_ydata = y_test.reshape(-1,1)"
   ]
  },
  {
   "cell_type": "markdown",
   "metadata": {},
   "source": [
    "##### Initializing models and Running training loop: "
   ]
  },
  {
   "cell_type": "code",
   "execution_count": 51,
   "metadata": {},
   "outputs": [],
   "source": [
    "layers = [Affine(\"first\", 784, 100), Relu(\"first\"), Affine(\"second\", 100, 100), Relu(\"second\"), Affine(\"third\", 100, 2), Affine(\"final\", 2, 1), Sigmoid(\"final\")]\n",
    "\n",
    "model_neural = Model(layers)\n",
    "model_logistic = Model([Affine(\"logits\", 784, 1), Sigmoid(\"sigmoid\")])"
   ]
  },
  {
   "cell_type": "code",
   "execution_count": 52,
   "metadata": {},
   "outputs": [],
   "source": [
    "learner1 = Learner(loss, model_neural, opt, config.num_epochs)\n",
    "acc1 = ClfCallback(learner1, config.bs, training_xdata , testing_xdata, training_ydata, testing_ydata)\n",
    "learner1.set_callbacks([acc1])"
   ]
  },
  {
   "cell_type": "code",
   "execution_count": 53,
   "metadata": {},
   "outputs": [
    {
     "name": "stdout",
     "output_type": "stream",
     "text": [
      "Epoch 0 Loss 0.21587375645147028\n",
      "train accuracy is: 0.8014521782674011, test accuracy is 0.8119959677419355\n",
      "Epoch 10 Loss 0.0641355938444957\n",
      "train accuracy is: 0.9369888165581706, test accuracy is 0.9465725806451613\n",
      "Epoch 20 Loss 0.043680777271245905\n",
      "train accuracy is: 0.9548489400767819, test accuracy is 0.9637096774193549\n",
      "Epoch 30 Loss 0.03634810925978096\n",
      "train accuracy is: 0.9609414121181773, test accuracy is 0.9642137096774194\n",
      "Epoch 40 Loss 0.03238566753706255\n",
      "train accuracy is: 0.9641962944416625, test accuracy is 0.9672379032258065\n",
      "Epoch 50 Loss 0.02980347065925132\n",
      "train accuracy is: 0.9659489233850777, test accuracy is 0.96875\n",
      "Epoch 60 Loss 0.027917909176434906\n",
      "train accuracy is: 0.9687030545818728, test accuracy is 0.9707661290322581\n",
      "Epoch 70 Loss 0.02645882241114433\n",
      "train accuracy is: 0.970288766483058, test accuracy is 0.9707661290322581\n",
      "Epoch 80 Loss 0.025264485547163568\n",
      "train accuracy is: 0.9711233516942079, test accuracy is 0.9712701612903226\n",
      "Epoch 90 Loss 0.024257240188830145\n",
      "train accuracy is: 0.971957936905358, test accuracy is 0.9727822580645161\n",
      "Epoch 100 Loss 0.023381981401672716\n",
      "train accuracy is: 0.9735436488065431, test accuracy is 0.9722782258064516\n",
      "Epoch 110 Loss 0.02262346571293497\n",
      "train accuracy is: 0.9746286095810383, test accuracy is 0.9717741935483871\n",
      "Epoch 120 Loss 0.02193303743847425\n",
      "train accuracy is: 0.9753797362710733, test accuracy is 0.9717741935483871\n",
      "Epoch 130 Loss 0.021305662440618548\n",
      "train accuracy is: 0.9762143214822233, test accuracy is 0.9722782258064516\n",
      "Epoch 140 Loss 0.020733129508643176\n",
      "train accuracy is: 0.9767150726089133, test accuracy is 0.9717741935483871\n",
      "Epoch 150 Loss 0.020207007024250673\n",
      "train accuracy is: 0.9775496578200634, test accuracy is 0.9717741935483871\n",
      "Epoch 160 Loss 0.019703440268001155\n",
      "train accuracy is: 0.9779669504256384, test accuracy is 0.9727822580645161\n",
      "Epoch 170 Loss 0.01922791999467421\n",
      "train accuracy is: 0.9788849941579035, test accuracy is 0.9727822580645161\n",
      "Epoch 180 Loss 0.018781036401460977\n",
      "train accuracy is: 0.9793022867634785, test accuracy is 0.9727822580645161\n",
      "Epoch 190 Loss 0.018353504349870722\n",
      "train accuracy is: 0.9798030378901685, test accuracy is 0.9737903225806451\n",
      "Epoch 200 Loss 0.017941882443979547\n",
      "train accuracy is: 0.9803037890168587, test accuracy is 0.9742943548387096\n",
      "Epoch 210 Loss 0.01754941078917614\n",
      "train accuracy is: 0.9807210816224337, test accuracy is 0.9747983870967742\n",
      "Epoch 220 Loss 0.017162248290271957\n",
      "train accuracy is: 0.9818060423969287, test accuracy is 0.9753024193548387\n",
      "Epoch 230 Loss 0.01678963213948108\n",
      "train accuracy is: 0.9823067935236187, test accuracy is 0.9758064516129032\n",
      "Epoch 240 Loss 0.016435127282948922\n",
      "train accuracy is: 0.9831413787347688, test accuracy is 0.9758064516129032\n"
     ]
    },
    {
     "data": {
      "text/plain": [
       "0.0029814417704133035"
      ]
     },
     "execution_count": 53,
     "metadata": {},
     "output_type": "execute_result"
    }
   ],
   "source": [
    "learner1.train_loop(dl)"
   ]
  },
  {
   "cell_type": "markdown",
   "metadata": {},
   "source": [
    "##### Now running only the logistic regression based classification to compare results with NN"
   ]
  },
  {
   "cell_type": "code",
   "execution_count": 54,
   "metadata": {},
   "outputs": [],
   "source": [
    "learner2 = Learner(loss, model_logistic, opt, config.num_epochs)\n",
    "acc2 = ClfCallback(learner2, config.bs, training_xdata , testing_xdata, training_ydata, testing_ydata)\n",
    "learner2.set_callbacks([acc2])"
   ]
  },
  {
   "cell_type": "code",
   "execution_count": 55,
   "metadata": {},
   "outputs": [
    {
     "name": "stdout",
     "output_type": "stream",
     "text": [
      "Epoch 0 Loss 0.23310067118288552\n",
      "train accuracy is: 0.7071440494074445, test accuracy is 0.6844758064516129\n",
      "Epoch 10 Loss 0.10301889604331908\n",
      "train accuracy is: 0.9059422467033884, test accuracy is 0.9138104838709677\n",
      "Epoch 20 Loss 0.07934076305054875\n",
      "train accuracy is: 0.9272241695877149, test accuracy is 0.9334677419354839\n",
      "Epoch 30 Loss 0.06839336345290317\n",
      "train accuracy is: 0.9354031046569855, test accuracy is 0.9415322580645161\n",
      "Epoch 40 Loss 0.061808383017500225\n",
      "train accuracy is: 0.9399933233183108, test accuracy is 0.9450604838709677\n",
      "Epoch 50 Loss 0.05731925785087446\n",
      "train accuracy is: 0.943248205641796, test accuracy is 0.9501008064516129\n",
      "Epoch 60 Loss 0.054019398704461985\n",
      "train accuracy is: 0.9460023368385913, test accuracy is 0.9556451612903226\n",
      "Epoch 70 Loss 0.051466757594799545\n",
      "train accuracy is: 0.9480053413453514, test accuracy is 0.9571572580645161\n",
      "Epoch 80 Loss 0.04941845455891547\n",
      "train accuracy is: 0.9502587214154565, test accuracy is 0.9591733870967742\n",
      "Epoch 90 Loss 0.04772703315775368\n",
      "train accuracy is: 0.9515940577532966, test accuracy is 0.9586693548387096\n",
      "Epoch 100 Loss 0.04630122815822085\n",
      "train accuracy is: 0.9525121014855616, test accuracy is 0.9596774193548387\n",
      "Epoch 110 Loss 0.045078572426398934\n",
      "train accuracy is: 0.9535136037389418, test accuracy is 0.9601814516129032\n",
      "Epoch 120 Loss 0.04401245778445887\n",
      "train accuracy is: 0.9540978133867468, test accuracy is 0.9611895161290323\n",
      "Epoch 130 Loss 0.04307218743039437\n",
      "train accuracy is: 0.9550158571190118, test accuracy is 0.9621975806451613\n",
      "Epoch 140 Loss 0.04223656045565592\n",
      "train accuracy is: 0.9562677349357369, test accuracy is 0.9621975806451613\n",
      "Epoch 150 Loss 0.04148559635798026\n",
      "train accuracy is: 0.957018861625772, test accuracy is 0.9621975806451613\n",
      "Epoch 160 Loss 0.04080560053650538\n",
      "train accuracy is: 0.957185778668002, test accuracy is 0.9627016129032258\n",
      "Epoch 170 Loss 0.04018739075151504\n",
      "train accuracy is: 0.957519612752462, test accuracy is 0.9632056451612904\n",
      "Epoch 180 Loss 0.03962050301601629\n",
      "train accuracy is: 0.958020363879152, test accuracy is 0.9627016129032258\n",
      "Epoch 190 Loss 0.039098823085489016\n",
      "train accuracy is: 0.9583541979636121, test accuracy is 0.9627016129032258\n",
      "Epoch 200 Loss 0.038616197659197785\n",
      "train accuracy is: 0.9589384076114171, test accuracy is 0.9637096774193549\n",
      "Epoch 210 Loss 0.038168604785175204\n",
      "train accuracy is: 0.9592722416958771, test accuracy is 0.9637096774193549\n",
      "Epoch 220 Loss 0.037750809926013\n",
      "train accuracy is: 0.9591887831747622, test accuracy is 0.9647177419354839\n",
      "Epoch 230 Loss 0.037360533267791714\n",
      "train accuracy is: 0.9593557002169921, test accuracy is 0.9652217741935484\n",
      "Epoch 240 Loss 0.03699437274679825\n",
      "train accuracy is: 0.9595226172592222, test accuracy is 0.9652217741935484\n"
     ]
    },
    {
     "data": {
      "text/plain": [
       "0.02195694733756507"
      ]
     },
     "execution_count": 55,
     "metadata": {},
     "output_type": "execute_result"
    }
   ],
   "source": [
    "learner2.train_loop(dl)"
   ]
  },
  {
   "cell_type": "markdown",
   "metadata": {},
   "source": [
    "### Comparing results of NN and LR"
   ]
  },
  {
   "cell_type": "code",
   "execution_count": 63,
   "metadata": {},
   "outputs": [
    {
     "data": {
      "text/plain": [
       "<matplotlib.legend.Legend at 0x116996790>"
      ]
     },
     "execution_count": 63,
     "metadata": {},
     "output_type": "execute_result"
    },
    {
     "data": {
      "image/png": "[encoded data removed]",
      "text/plain": [
       "<Figure size 432x288 with 1 Axes>"
      ]
     },
     "metadata": {
      "needs_background": "light"
     },
     "output_type": "display_data"
    }
   ],
   "source": [
    "plt.plot(acc1.val_accuracies, 'g-', label = \"Val Accuracies - NN\")\n",
    "plt.plot(acc1.accuracies, 'r-', label = \"Accuracies - NN\")\n",
    "plt.plot(acc2.val_accuracies, 'b-', label = \"Val Accuracies - LR\")\n",
    "plt.plot(acc2.accuracies, 'k-', label = \"Accuracies - LR\")\n",
    "plt.legend()"
   ]
  },
  {
   "cell_type": "markdown",
   "metadata": {},
   "source": [
    "### Clearly NN has a better accuracy over LR; NN is overfitting - Validation accuracy (green) has dropped below training accuracy (orange), also they are diverging. This problem is not seen in LR"
   ]
  },
  {
   "cell_type": "code",
   "execution_count": null,
   "metadata": {},
   "outputs": [],
   "source": []
  },
  {
   "cell_type": "code",
   "execution_count": null,
   "metadata": {},
   "outputs": [],
   "source": []
  },
  {
   "cell_type": "code",
   "execution_count": null,
   "metadata": {},
   "outputs": [],
   "source": []
  },
  {
   "cell_type": "code",
   "execution_count": null,
   "metadata": {},
   "outputs": [],
   "source": []
  },
  {
   "cell_type": "code",
   "execution_count": null,
   "metadata": {},
   "outputs": [],
   "source": []
  },
  {
   "cell_type": "code",
   "execution_count": null,
   "metadata": {},
   "outputs": [],
   "source": []
  },
  {
   "cell_type": "code",
   "execution_count": null,
   "metadata": {},
   "outputs": [],
   "source": []
  },
  {
   "cell_type": "code",
   "execution_count": null,
   "metadata": {},
   "outputs": [],
   "source": []
  }
 ],
 "metadata": {
  "kernelspec": {
   "display_name": "Python 3",
   "language": "python",
   "name": "python3"
  },
  "language_info": {
   "codemirror_mode": {
    "name": "ipython",
    "version": 3
   },
   "file_extension": ".py",
   "mimetype": "text/x-python",
   "name": "python",
   "nbconvert_exporter": "python",
   "pygments_lexer": "ipython3",
   "version": "3.7.6"
  }
 },
 "nbformat": 4,
 "nbformat_minor": 4
}
