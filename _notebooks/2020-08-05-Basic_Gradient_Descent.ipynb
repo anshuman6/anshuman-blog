{
 "cells": [
  {
   "cell_type": "markdown",
   "metadata": {
    "papermill": {
     "duration": 0.019531,
     "end_time": "2020-08-23T00:29:31.404075",
     "exception": false,
     "start_time": "2020-08-23T00:29:31.384544",
     "status": "completed"
    },
    "tags": []
   },
   "source": [
    "# Basic gradient descent implementation in python\n",
    "\n",
    "- badges: true\n",
    "- author: Anshuman Gupta"
   ]
  },
  {
   "cell_type": "code",
   "execution_count": 1,
   "metadata": {
    "execution": {
     "iopub.execute_input": "2020-08-23T00:29:31.440266Z",
     "iopub.status.busy": "2020-08-23T00:29:31.439165Z",
     "iopub.status.idle": "2020-08-23T00:29:31.441346Z",
     "shell.execute_reply": "2020-08-23T00:29:31.442153Z"
    },
    "papermill": {
     "duration": 0.023377,
     "end_time": "2020-08-23T00:29:31.442403",
     "exception": false,
     "start_time": "2020-08-23T00:29:31.419026",
     "status": "completed"
    },
    "tags": []
   },
   "outputs": [],
   "source": [
    "# Import all important packages"
   ]
  },
  {
   "cell_type": "code",
   "execution_count": 2,
   "metadata": {
    "execution": {
     "iopub.execute_input": "2020-08-23T00:29:31.479117Z",
     "iopub.status.busy": "2020-08-23T00:29:31.478506Z",
     "iopub.status.idle": "2020-08-23T00:29:32.022545Z",
     "shell.execute_reply": "2020-08-23T00:29:32.021440Z"
    },
    "papermill": {
     "duration": 0.563284,
     "end_time": "2020-08-23T00:29:32.022698",
     "exception": false,
     "start_time": "2020-08-23T00:29:31.459414",
     "status": "completed"
    },
    "tags": []
   },
   "outputs": [],
   "source": [
    "import pandas as pd\n",
    "import numpy as np\n",
    "import matplotlib.pyplot as plt"
   ]
  },
  {
   "cell_type": "code",
   "execution_count": 3,
   "metadata": {
    "execution": {
     "iopub.execute_input": "2020-08-23T00:29:32.055348Z",
     "iopub.status.busy": "2020-08-23T00:29:32.054734Z",
     "iopub.status.idle": "2020-08-23T00:29:32.057010Z",
     "shell.execute_reply": "2020-08-23T00:29:32.056498Z"
    },
    "papermill": {
     "duration": 0.01989,
     "end_time": "2020-08-23T00:29:32.057138",
     "exception": false,
     "start_time": "2020-08-23T00:29:32.037248",
     "status": "completed"
    },
    "tags": []
   },
   "outputs": [],
   "source": [
    "#Define our main function"
   ]
  },
  {
   "cell_type": "code",
   "execution_count": 4,
   "metadata": {
    "execution": {
     "iopub.execute_input": "2020-08-23T00:29:32.091833Z",
     "iopub.status.busy": "2020-08-23T00:29:32.090768Z",
     "iopub.status.idle": "2020-08-23T00:29:32.092978Z",
     "shell.execute_reply": "2020-08-23T00:29:32.093795Z"
    },
    "papermill": {
     "duration": 0.022697,
     "end_time": "2020-08-23T00:29:32.094020",
     "exception": false,
     "start_time": "2020-08-23T00:29:32.071323",
     "status": "completed"
    },
    "tags": []
   },
   "outputs": [],
   "source": [
    "def f_func(x):\n",
    "    return ((x*x) + 3)"
   ]
  },
  {
   "cell_type": "code",
   "execution_count": 5,
   "metadata": {
    "execution": {
     "iopub.execute_input": "2020-08-23T00:29:32.127689Z",
     "iopub.status.busy": "2020-08-23T00:29:32.127080Z",
     "iopub.status.idle": "2020-08-23T00:29:32.128455Z",
     "shell.execute_reply": "2020-08-23T00:29:32.129061Z"
    },
    "papermill": {
     "duration": 0.019874,
     "end_time": "2020-08-23T00:29:32.129201",
     "exception": false,
     "start_time": "2020-08-23T00:29:32.109327",
     "status": "completed"
    },
    "tags": []
   },
   "outputs": [],
   "source": [
    "# Lets try to visualize the shape of our main function\n",
    "# So let us generate random x values, which we will feed into f, to generate f values for plotting."
   ]
  },
  {
   "cell_type": "code",
   "execution_count": 6,
   "metadata": {
    "execution": {
     "iopub.execute_input": "2020-08-23T00:29:32.162470Z",
     "iopub.status.busy": "2020-08-23T00:29:32.161862Z",
     "iopub.status.idle": "2020-08-23T00:29:32.163940Z",
     "shell.execute_reply": "2020-08-23T00:29:32.164522Z"
    },
    "papermill": {
     "duration": 0.021202,
     "end_time": "2020-08-23T00:29:32.164681",
     "exception": false,
     "start_time": "2020-08-23T00:29:32.143479",
     "status": "completed"
    },
    "tags": []
   },
   "outputs": [],
   "source": [
    "x_vals = np.linspace(-5,5,100)"
   ]
  },
  {
   "cell_type": "code",
   "execution_count": 7,
   "metadata": {
    "execution": {
     "iopub.execute_input": "2020-08-23T00:29:32.196361Z",
     "iopub.status.busy": "2020-08-23T00:29:32.195766Z",
     "iopub.status.idle": "2020-08-23T00:29:32.198079Z",
     "shell.execute_reply": "2020-08-23T00:29:32.197600Z"
    },
    "papermill": {
     "duration": 0.019366,
     "end_time": "2020-08-23T00:29:32.198199",
     "exception": false,
     "start_time": "2020-08-23T00:29:32.178833",
     "status": "completed"
    },
    "tags": []
   },
   "outputs": [],
   "source": [
    "# Now plotting a graph between x values (defined as x_vals and generating as a linear set of values from -5 to 5)"
   ]
  },
  {
   "cell_type": "code",
   "execution_count": 8,
   "metadata": {
    "execution": {
     "iopub.execute_input": "2020-08-23T00:29:32.291624Z",
     "iopub.status.busy": "2020-08-23T00:29:32.282110Z",
     "iopub.status.idle": "2020-08-23T00:29:32.403840Z",
     "shell.execute_reply": "2020-08-23T00:29:32.403308Z"
    },
    "papermill": {
     "duration": 0.191752,
     "end_time": "2020-08-23T00:29:32.403977",
     "exception": false,
     "start_time": "2020-08-23T00:29:32.212225",
     "status": "completed"
    },
    "tags": []
   },
   "outputs": [
    {
     "data": {
      "text/plain": [
       "[<matplotlib.lines.Line2D at 0x7efe9e6cab70>]"
      ]
     },
     "execution_count": 8,
     "metadata": {},
     "output_type": "execute_result"
    },
    {
     "data": {
      "image/png": "[encoded data removed]",
      "text/plain": [
       "<Figure size 432x288 with 1 Axes>"
      ]
     },
     "metadata": {
      "needs_background": "light"
     },
     "output_type": "display_data"
    }
   ],
   "source": [
    "plt.plot(x_vals, f_func(x_vals))"
   ]
  },
  {
   "cell_type": "code",
   "execution_count": 9,
   "metadata": {
    "execution": {
     "iopub.execute_input": "2020-08-23T00:29:32.441136Z",
     "iopub.status.busy": "2020-08-23T00:29:32.440502Z",
     "iopub.status.idle": "2020-08-23T00:29:32.443842Z",
     "shell.execute_reply": "2020-08-23T00:29:32.443035Z"
    },
    "papermill": {
     "duration": 0.023124,
     "end_time": "2020-08-23T00:29:32.443966",
     "exception": false,
     "start_time": "2020-08-23T00:29:32.420842",
     "status": "completed"
    },
    "tags": []
   },
   "outputs": [],
   "source": [
    "# Visually we can see that global minima seems to be at 0, lets verify this by grad descent also"
   ]
  },
  {
   "cell_type": "code",
   "execution_count": 10,
   "metadata": {
    "execution": {
     "iopub.execute_input": "2020-08-23T00:29:32.479282Z",
     "iopub.status.busy": "2020-08-23T00:29:32.478272Z",
     "iopub.status.idle": "2020-08-23T00:29:32.483014Z",
     "shell.execute_reply": "2020-08-23T00:29:32.482287Z"
    },
    "papermill": {
     "duration": 0.024148,
     "end_time": "2020-08-23T00:29:32.483143",
     "exception": false,
     "start_time": "2020-08-23T00:29:32.458995",
     "status": "completed"
    },
    "tags": []
   },
   "outputs": [],
   "source": [
    "# Now let us calculate and define a function for the derivate of the main function which will then be used in derivative descent.\n",
    "# Let us call this f_prime"
   ]
  },
  {
   "cell_type": "code",
   "execution_count": null,
   "metadata": {
    "papermill": {
     "duration": 0.014987,
     "end_time": "2020-08-23T00:29:32.513091",
     "exception": false,
     "start_time": "2020-08-23T00:29:32.498104",
     "status": "completed"
    },
    "tags": []
   },
   "outputs": [],
   "source": []
  },
  {
   "cell_type": "code",
   "execution_count": 11,
   "metadata": {
    "execution": {
     "iopub.execute_input": "2020-08-23T00:29:32.549832Z",
     "iopub.status.busy": "2020-08-23T00:29:32.548620Z",
     "iopub.status.idle": "2020-08-23T00:29:32.551466Z",
     "shell.execute_reply": "2020-08-23T00:29:32.550987Z"
    },
    "papermill": {
     "duration": 0.023241,
     "end_time": "2020-08-23T00:29:32.551586",
     "exception": false,
     "start_time": "2020-08-23T00:29:32.528345",
     "status": "completed"
    },
    "tags": []
   },
   "outputs": [],
   "source": [
    "def f_prime(x):\n",
    "    return ((2*x))"
   ]
  },
  {
   "cell_type": "code",
   "execution_count": 12,
   "metadata": {
    "execution": {
     "iopub.execute_input": "2020-08-23T00:29:32.587349Z",
     "iopub.status.busy": "2020-08-23T00:29:32.586337Z",
     "iopub.status.idle": "2020-08-23T00:29:32.592148Z",
     "shell.execute_reply": "2020-08-23T00:29:32.591564Z"
    },
    "papermill": {
     "duration": 0.025502,
     "end_time": "2020-08-23T00:29:32.592273",
     "exception": false,
     "start_time": "2020-08-23T00:29:32.566771",
     "status": "completed"
    },
    "tags": []
   },
   "outputs": [],
   "source": [
    "# Now let us define the derivate descent function"
   ]
  },
  {
   "cell_type": "code",
   "execution_count": 13,
   "metadata": {
    "execution": {
     "iopub.execute_input": "2020-08-23T00:29:32.630006Z",
     "iopub.status.busy": "2020-08-23T00:29:32.629354Z",
     "iopub.status.idle": "2020-08-23T00:29:32.631778Z",
     "shell.execute_reply": "2020-08-23T00:29:32.632270Z"
    },
    "papermill": {
     "duration": 0.02322,
     "end_time": "2020-08-23T00:29:32.632402",
     "exception": false,
     "start_time": "2020-08-23T00:29:32.609182",
     "status": "completed"
    },
    "tags": []
   },
   "outputs": [],
   "source": [
    "def derivative_descent(start,f_prime, lr):\n",
    "    \n",
    "    vals = []\n",
    "    current = start\n",
    "    while (current > 0.01):\n",
    "        \n",
    "        old = current\n",
    "        move = lr*f_prime(old)\n",
    "        current = old - move\n",
    "        vals.append(current)\n",
    "\n",
    "    return vals\n",
    "    "
   ]
  },
  {
   "cell_type": "code",
   "execution_count": 14,
   "metadata": {
    "execution": {
     "iopub.execute_input": "2020-08-23T00:29:32.670351Z",
     "iopub.status.busy": "2020-08-23T00:29:32.669273Z",
     "iopub.status.idle": "2020-08-23T00:29:32.673756Z",
     "shell.execute_reply": "2020-08-23T00:29:32.674216Z"
    },
    "papermill": {
     "duration": 0.026821,
     "end_time": "2020-08-23T00:29:32.674352",
     "exception": false,
     "start_time": "2020-08-23T00:29:32.647531",
     "status": "completed"
    },
    "tags": []
   },
   "outputs": [],
   "source": [
    "output = derivative_descent(3, f_prime, 0.001)"
   ]
  },
  {
   "cell_type": "code",
   "execution_count": 15,
   "metadata": {
    "execution": {
     "iopub.execute_input": "2020-08-23T00:29:32.721882Z",
     "iopub.status.busy": "2020-08-23T00:29:32.721280Z",
     "iopub.status.idle": "2020-08-23T00:29:32.847680Z",
     "shell.execute_reply": "2020-08-23T00:29:32.847180Z"
    },
    "papermill": {
     "duration": 0.15838,
     "end_time": "2020-08-23T00:29:32.847814",
     "exception": false,
     "start_time": "2020-08-23T00:29:32.689434",
     "status": "completed"
    },
    "tags": []
   },
   "outputs": [
    {
     "data": {
      "text/plain": [
       "[<matplotlib.lines.Line2D at 0x7efe9e5d2278>]"
      ]
     },
     "execution_count": 15,
     "metadata": {},
     "output_type": "execute_result"
    },
    {
     "data": {
      "image/png": "[encoded data removed]",
      "text/plain": [
       "<Figure size 432x288 with 1 Axes>"
      ]
     },
     "metadata": {
      "needs_background": "light"
     },
     "output_type": "display_data"
    }
   ],
   "source": [
    "plt.plot(output)"
   ]
  },
  {
   "cell_type": "code",
   "execution_count": 16,
   "metadata": {
    "execution": {
     "iopub.execute_input": "2020-08-23T00:29:32.885723Z",
     "iopub.status.busy": "2020-08-23T00:29:32.885121Z",
     "iopub.status.idle": "2020-08-23T00:29:32.889858Z",
     "shell.execute_reply": "2020-08-23T00:29:32.889366Z"
    },
    "papermill": {
     "duration": 0.025672,
     "end_time": "2020-08-23T00:29:32.889983",
     "exception": false,
     "start_time": "2020-08-23T00:29:32.864311",
     "status": "completed"
    },
    "tags": []
   },
   "outputs": [],
   "source": [
    "# The above figure shows how we started from x = 5 and progressively dropped to about 0 in 3000 iterations"
   ]
  },
  {
   "cell_type": "code",
   "execution_count": 17,
   "metadata": {
    "execution": {
     "iopub.execute_input": "2020-08-23T00:29:32.927053Z",
     "iopub.status.busy": "2020-08-23T00:29:32.926451Z",
     "iopub.status.idle": "2020-08-23T00:29:32.929184Z",
     "shell.execute_reply": "2020-08-23T00:29:32.928688Z"
    },
    "papermill": {
     "duration": 0.023085,
     "end_time": "2020-08-23T00:29:32.929307",
     "exception": false,
     "start_time": "2020-08-23T00:29:32.906222",
     "status": "completed"
    },
    "tags": []
   },
   "outputs": [],
   "source": [
    "# Now lets use the output values of these x and put into main function to visualize"
   ]
  },
  {
   "cell_type": "code",
   "execution_count": 18,
   "metadata": {
    "execution": {
     "iopub.execute_input": "2020-08-23T00:29:32.992796Z",
     "iopub.status.busy": "2020-08-23T00:29:32.991329Z",
     "iopub.status.idle": "2020-08-23T00:29:33.095720Z",
     "shell.execute_reply": "2020-08-23T00:29:33.095105Z"
    },
    "papermill": {
     "duration": 0.150413,
     "end_time": "2020-08-23T00:29:33.095847",
     "exception": false,
     "start_time": "2020-08-23T00:29:32.945434",
     "status": "completed"
    },
    "tags": []
   },
   "outputs": [
    {
     "data": {
      "text/plain": [
       "[<matplotlib.lines.Line2D at 0x7efe9e5deb38>]"
      ]
     },
     "execution_count": 18,
     "metadata": {},
     "output_type": "execute_result"
    },
    {
     "data": {
      "image/png": "[encoded data removed]",
      "text/plain": [
       "<Figure size 432x288 with 1 Axes>"
      ]
     },
     "metadata": {
      "needs_background": "light"
     },
     "output_type": "display_data"
    }
   ],
   "source": [
    "plt.plot(x_vals, f_func(x_vals))\n",
    "plt.plot(output, [f_func(elem) for elem in output], 'rx', alpha = 0.1)"
   ]
  },
  {
   "cell_type": "code",
   "execution_count": 19,
   "metadata": {
    "execution": {
     "iopub.execute_input": "2020-08-23T00:29:33.136788Z",
     "iopub.status.busy": "2020-08-23T00:29:33.135658Z",
     "iopub.status.idle": "2020-08-23T00:29:33.137814Z",
     "shell.execute_reply": "2020-08-23T00:29:33.138360Z"
    },
    "papermill": {
     "duration": 0.025001,
     "end_time": "2020-08-23T00:29:33.138494",
     "exception": false,
     "start_time": "2020-08-23T00:29:33.113493",
     "status": "completed"
    },
    "tags": []
   },
   "outputs": [],
   "source": [
    "# As we can see above.. we started at x=3... and dropped down, following the red path to x=0 ---> which is our minima"
   ]
  }
 ],
 "metadata": {
  "kernelspec": {
   "display_name": "Python 3",
   "language": "python",
   "name": "python3"
  },
  "language_info": {
   "codemirror_mode": {
    "name": "ipython",
    "version": 3
   },
   "file_extension": ".py",
   "mimetype": "text/x-python",
   "name": "python",
   "nbconvert_exporter": "python",
   "pygments_lexer": "ipython3",
   "version": "3.6.11"
  },
  "papermill": {
   "duration": 3.156778,
   "end_time": "2020-08-23T00:29:33.463210",
   "environment_variables": {},
   "exception": null,
   "input_path": "2020-08-05-Basic_Gradient_Descent.ipynb",
   "output_path": "2020-08-05-Basic_Gradient_Descent.ipynb",
   "parameters": {},
   "start_time": "2020-08-23T00:29:30.306432",
   "version": "2.1.2"
  }
 },
 "nbformat": 4,
 "nbformat_minor": 4
}