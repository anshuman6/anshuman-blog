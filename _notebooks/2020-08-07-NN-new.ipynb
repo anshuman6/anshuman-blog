{
 "cells": [
  {
   "cell_type": "markdown",
   "metadata": {
    "papermill": {
     "duration": 0.033645,
     "end_time": "2020-08-20T00:27:32.702259",
     "exception": false,
     "start_time": "2020-08-20T00:27:32.668614",
     "status": "completed"
    },
    "tags": []
   },
   "source": [
    "# \"Building a basic Neural Network from scratch - Kudzu\"\n",
    "\n",
    "- badges: true\n",
    "- author: Anshuman Gupta"
   ]
  },
  {
   "cell_type": "markdown",
   "metadata": {
    "papermill": {
     "duration": 0.030085,
     "end_time": "2020-08-20T00:27:32.761822",
     "exception": false,
     "start_time": "2020-08-20T00:27:32.731737",
     "status": "completed"
    },
    "tags": []
   },
   "source": [
    "#### In this project, the idea is to write a classifier to differentiate between handwritten digits 3 and 8, from the MNIST database.\n",
    "\n",
    "#### I will using a custom built neural network library called Kudzu.This has been developed as a part of KTF/Foundations course of Univ.ai (www.univ.ai). The source code for Kudzu Library and and this notebook can be found on my git-hub profile : www.https://github.com/anshuman6 under the folder project-solution. Any feedback and comments are welcome. Please feel free to email me at: anshuman6@gmail.com\n",
    "\n",
    "#### 1. I will be using the MNIST database. \n",
    "\n",
    "#### 2. I will be comparing the results of the 4 layer NN to a standard logistic regression"
   ]
  },
  {
   "cell_type": "markdown",
   "metadata": {
    "papermill": {
     "duration": 0.030826,
     "end_time": "2020-08-20T00:27:32.823239",
     "exception": false,
     "start_time": "2020-08-20T00:27:32.792413",
     "status": "completed"
    },
    "tags": []
   },
   "source": [
    "##### Importing all the necessary libraries"
   ]
  },
  {
   "cell_type": "code",
   "execution_count": 1,
   "metadata": {
    "execution": {
     "iopub.execute_input": "2020-08-20T00:27:32.891188Z",
     "iopub.status.busy": "2020-08-20T00:27:32.890500Z",
     "iopub.status.idle": "2020-08-20T00:27:32.903495Z",
     "shell.execute_reply": "2020-08-20T00:27:32.902768Z"
    },
    "papermill": {
     "duration": 0.048863,
     "end_time": "2020-08-20T00:27:32.903672",
     "exception": false,
     "start_time": "2020-08-20T00:27:32.854809",
     "status": "completed"
    },
    "tags": []
   },
   "outputs": [],
   "source": [
    "%load_ext autoreload\n",
    "%autoreload 2"
   ]
  },
  {
   "cell_type": "code",
   "execution_count": 2,
   "metadata": {
    "execution": {
     "iopub.execute_input": "2020-08-20T00:27:32.970295Z",
     "iopub.status.busy": "2020-08-20T00:27:32.969608Z",
     "iopub.status.idle": "2020-08-20T00:27:33.582042Z",
     "shell.execute_reply": "2020-08-20T00:27:33.581426Z"
    },
    "papermill": {
     "duration": 0.646953,
     "end_time": "2020-08-20T00:27:33.582222",
     "exception": false,
     "start_time": "2020-08-20T00:27:32.935269",
     "status": "completed"
    },
    "tags": []
   },
   "outputs": [],
   "source": [
    "%matplotlib inline\n",
    "import numpy as np\n",
    "import matplotlib.pyplot as plt\n",
    "import pandas as pd"
   ]
  },
  {
   "cell_type": "markdown",
   "metadata": {
    "papermill": {
     "duration": 0.034409,
     "end_time": "2020-08-20T00:27:33.647402",
     "exception": false,
     "start_time": "2020-08-20T00:27:33.612993",
     "status": "completed"
    },
    "tags": []
   },
   "source": [
    "##### The following command helps us download MNIST from notebook itself. You can skip this if you already have MNIST. You can also download it via your terminal."
   ]
  },
  {
   "cell_type": "code",
   "execution_count": 3,
   "metadata": {
    "execution": {
     "iopub.execute_input": "2020-08-20T00:27:33.712191Z",
     "iopub.status.busy": "2020-08-20T00:27:33.711505Z",
     "iopub.status.idle": "2020-08-20T00:27:35.292464Z",
     "shell.execute_reply": "2020-08-20T00:27:35.293086Z"
    },
    "papermill": {
     "duration": 1.615863,
     "end_time": "2020-08-20T00:27:35.293261",
     "exception": false,
     "start_time": "2020-08-20T00:27:33.677398",
     "status": "completed"
    },
    "tags": []
   },
   "outputs": [
    {
     "name": "stdout",
     "output_type": "stream",
     "text": [
      "Collecting mnist\r\n"
     ]
    },
    {
     "name": "stdout",
     "output_type": "stream",
     "text": [
      "  Downloading mnist-0.2.2-py2.py3-none-any.whl (3.5 kB)\r\n"
     ]
    },
    {
     "name": "stdout",
     "output_type": "stream",
     "text": [
      "Requirement already satisfied: numpy in /opt/hostedtoolcache/Python/3.6.11/x64/lib/python3.6/site-packages (from mnist) (1.19.1)\r\n"
     ]
    },
    {
     "name": "stdout",
     "output_type": "stream",
     "text": [
      "Installing collected packages: mnist\r\n",
      "Successfully installed mnist-0.2.2\r\n"
     ]
    },
    {
     "name": "stdout",
     "output_type": "stream",
     "text": [
      "\u001b[33mWARNING: You are using pip version 20.2.1; however, version 20.2.2 is available.\r\n",
      "You should consider upgrading via the '/opt/hostedtoolcache/Python/3.6.11/x64/bin/python -m pip install --upgrade pip' command.\u001b[0m\r\n"
     ]
    }
   ],
   "source": [
    "!pip install mnist # Please note, it is commented out for now, you can remove comment if you want to install it"
   ]
  },
  {
   "cell_type": "markdown",
   "metadata": {
    "papermill": {
     "duration": 0.031984,
     "end_time": "2020-08-20T00:27:35.356764",
     "exception": false,
     "start_time": "2020-08-20T00:27:35.324780",
     "status": "completed"
    },
    "tags": []
   },
   "source": [
    "#### Preparing the Data"
   ]
  },
  {
   "cell_type": "code",
   "execution_count": 4,
   "metadata": {
    "execution": {
     "iopub.execute_input": "2020-08-20T00:27:35.432276Z",
     "iopub.status.busy": "2020-08-20T00:27:35.423797Z",
     "iopub.status.idle": "2020-08-20T00:27:35.439488Z",
     "shell.execute_reply": "2020-08-20T00:27:35.440103Z"
    },
    "papermill": {
     "duration": 0.051049,
     "end_time": "2020-08-20T00:27:35.440252",
     "exception": false,
     "start_time": "2020-08-20T00:27:35.389203",
     "status": "completed"
    },
    "tags": []
   },
   "outputs": [],
   "source": [
    "import mnist"
   ]
  },
  {
   "cell_type": "code",
   "execution_count": 5,
   "metadata": {
    "execution": {
     "iopub.execute_input": "2020-08-20T00:27:35.506342Z",
     "iopub.status.busy": "2020-08-20T00:27:35.505546Z",
     "iopub.status.idle": "2020-08-20T00:27:36.300253Z",
     "shell.execute_reply": "2020-08-20T00:27:36.300760Z"
    },
    "papermill": {
     "duration": 0.828969,
     "end_time": "2020-08-20T00:27:36.300933",
     "exception": false,
     "start_time": "2020-08-20T00:27:35.471964",
     "status": "completed"
    },
    "tags": []
   },
   "outputs": [],
   "source": [
    "train_images = mnist.train_images()\n",
    "train_labels = mnist.train_labels()"
   ]
  },
  {
   "cell_type": "code",
   "execution_count": 6,
   "metadata": {
    "execution": {
     "iopub.execute_input": "2020-08-20T00:27:36.369367Z",
     "iopub.status.busy": "2020-08-20T00:27:36.368672Z",
     "iopub.status.idle": "2020-08-20T00:27:36.385816Z",
     "shell.execute_reply": "2020-08-20T00:27:36.385294Z"
    },
    "papermill": {
     "duration": 0.053292,
     "end_time": "2020-08-20T00:27:36.385944",
     "exception": false,
     "start_time": "2020-08-20T00:27:36.332652",
     "status": "completed"
    },
    "tags": []
   },
   "outputs": [
    {
     "data": {
      "text/plain": [
       "((60000, 28, 28), (60000,))"
      ]
     },
     "execution_count": 6,
     "metadata": {},
     "output_type": "execute_result"
    }
   ],
   "source": [
    "train_images.shape, train_labels.shape"
   ]
  },
  {
   "cell_type": "code",
   "execution_count": 7,
   "metadata": {
    "execution": {
     "iopub.execute_input": "2020-08-20T00:27:36.451271Z",
     "iopub.status.busy": "2020-08-20T00:27:36.450613Z",
     "iopub.status.idle": "2020-08-20T00:27:36.722786Z",
     "shell.execute_reply": "2020-08-20T00:27:36.723819Z"
    },
    "papermill": {
     "duration": 0.307461,
     "end_time": "2020-08-20T00:27:36.723995",
     "exception": false,
     "start_time": "2020-08-20T00:27:36.416534",
     "status": "completed"
    },
    "tags": []
   },
   "outputs": [],
   "source": [
    "test_images = mnist.test_images()\n",
    "test_labels = mnist.test_labels()"
   ]
  },
  {
   "cell_type": "code",
   "execution_count": 8,
   "metadata": {
    "execution": {
     "iopub.execute_input": "2020-08-20T00:27:36.805086Z",
     "iopub.status.busy": "2020-08-20T00:27:36.804363Z",
     "iopub.status.idle": "2020-08-20T00:27:36.819879Z",
     "shell.execute_reply": "2020-08-20T00:27:36.819163Z"
    },
    "papermill": {
     "duration": 0.059177,
     "end_time": "2020-08-20T00:27:36.820031",
     "exception": false,
     "start_time": "2020-08-20T00:27:36.760854",
     "status": "completed"
    },
    "tags": []
   },
   "outputs": [
    {
     "data": {
      "text/plain": [
       "((10000, 28, 28), (10000,))"
      ]
     },
     "execution_count": 8,
     "metadata": {},
     "output_type": "execute_result"
    }
   ],
   "source": [
    "test_images.shape, test_labels.shape"
   ]
  },
  {
   "cell_type": "code",
   "execution_count": 9,
   "metadata": {
    "execution": {
     "iopub.execute_input": "2020-08-20T00:27:36.889370Z",
     "iopub.status.busy": "2020-08-20T00:27:36.888679Z",
     "iopub.status.idle": "2020-08-20T00:27:37.071279Z",
     "shell.execute_reply": "2020-08-20T00:27:37.070674Z"
    },
    "papermill": {
     "duration": 0.219132,
     "end_time": "2020-08-20T00:27:37.071480",
     "exception": false,
     "start_time": "2020-08-20T00:27:36.852348",
     "status": "completed"
    },
    "tags": []
   },
   "outputs": [
    {
     "name": "stdout",
     "output_type": "stream",
     "text": [
      "2\n"
     ]
    },
    {
     "data": {
      "text/plain": [
       "<matplotlib.image.AxesImage at 0x7f2cb83f1278>"
      ]
     },
     "execution_count": 9,
     "metadata": {},
     "output_type": "execute_result"
    },
    {
     "data": {
      "image/png": "[encoded data removed]",
      "text/plain": [
       "<Figure size 432x288 with 1 Axes>"
      ]
     },
     "metadata": {
      "needs_background": "light"
     },
     "output_type": "display_data"
    }
   ],
   "source": [
    "image_index = 7776 # You may select anything up to 60,000\n",
    "print(train_labels[image_index]) \n",
    "plt.imshow(train_images[image_index], cmap='Greys')"
   ]
  },
  {
   "cell_type": "markdown",
   "metadata": {
    "papermill": {
     "duration": 0.034721,
     "end_time": "2020-08-20T00:27:37.140390",
     "exception": false,
     "start_time": "2020-08-20T00:27:37.105669",
     "status": "completed"
    },
    "tags": []
   },
   "source": [
    "## Filter data to get 3 and 8 out"
   ]
  },
  {
   "cell_type": "code",
   "execution_count": 10,
   "metadata": {
    "execution": {
     "iopub.execute_input": "2020-08-20T00:27:37.220347Z",
     "iopub.status.busy": "2020-08-20T00:27:37.215408Z",
     "iopub.status.idle": "2020-08-20T00:27:37.237423Z",
     "shell.execute_reply": "2020-08-20T00:27:37.236805Z"
    },
    "papermill": {
     "duration": 0.062312,
     "end_time": "2020-08-20T00:27:37.237586",
     "exception": false,
     "start_time": "2020-08-20T00:27:37.175274",
     "status": "completed"
    },
    "tags": []
   },
   "outputs": [],
   "source": [
    "train_filter = np.where((train_labels == 3 ) | (train_labels == 8))\n",
    "test_filter = np.where((test_labels == 3) | (test_labels == 8))\n",
    "X_train, y_train = train_images[train_filter], train_labels[train_filter]\n",
    "X_test, y_test = test_images[test_filter], test_labels[test_filter]"
   ]
  },
  {
   "cell_type": "markdown",
   "metadata": {
    "papermill": {
     "duration": 0.03246,
     "end_time": "2020-08-20T00:27:37.305432",
     "exception": false,
     "start_time": "2020-08-20T00:27:37.272972",
     "status": "completed"
    },
    "tags": []
   },
   "source": [
    "##### We normalize the pizel values in the 0 to 1 range"
   ]
  },
  {
   "cell_type": "code",
   "execution_count": 11,
   "metadata": {
    "execution": {
     "iopub.execute_input": "2020-08-20T00:27:37.376041Z",
     "iopub.status.busy": "2020-08-20T00:27:37.375274Z",
     "iopub.status.idle": "2020-08-20T00:27:37.439319Z",
     "shell.execute_reply": "2020-08-20T00:27:37.440007Z"
    },
    "papermill": {
     "duration": 0.101247,
     "end_time": "2020-08-20T00:27:37.440257",
     "exception": false,
     "start_time": "2020-08-20T00:27:37.339010",
     "status": "completed"
    },
    "tags": []
   },
   "outputs": [],
   "source": [
    "X_train = X_train/255.\n",
    "X_test = X_test/255."
   ]
  },
  {
   "cell_type": "markdown",
   "metadata": {
    "papermill": {
     "duration": 0.033245,
     "end_time": "2020-08-20T00:27:37.508868",
     "exception": false,
     "start_time": "2020-08-20T00:27:37.475623",
     "status": "completed"
    },
    "tags": []
   },
   "source": [
    "And setup the labels as 1 (when the digit is 3) and 0 (when the digit is 8)"
   ]
  },
  {
   "cell_type": "code",
   "execution_count": 12,
   "metadata": {
    "execution": {
     "iopub.execute_input": "2020-08-20T00:27:37.581490Z",
     "iopub.status.busy": "2020-08-20T00:27:37.580715Z",
     "iopub.status.idle": "2020-08-20T00:27:37.595204Z",
     "shell.execute_reply": "2020-08-20T00:27:37.594619Z"
    },
    "papermill": {
     "duration": 0.051874,
     "end_time": "2020-08-20T00:27:37.595349",
     "exception": false,
     "start_time": "2020-08-20T00:27:37.543475",
     "status": "completed"
    },
    "tags": []
   },
   "outputs": [],
   "source": [
    "y_train = 1*(y_train==3)\n",
    "y_test = 1*(y_test==3)"
   ]
  },
  {
   "cell_type": "code",
   "execution_count": 13,
   "metadata": {
    "execution": {
     "iopub.execute_input": "2020-08-20T00:27:37.670183Z",
     "iopub.status.busy": "2020-08-20T00:27:37.669494Z",
     "iopub.status.idle": "2020-08-20T00:27:37.685463Z",
     "shell.execute_reply": "2020-08-20T00:27:37.684829Z"
    },
    "papermill": {
     "duration": 0.056366,
     "end_time": "2020-08-20T00:27:37.685612",
     "exception": false,
     "start_time": "2020-08-20T00:27:37.629246",
     "status": "completed"
    },
    "tags": []
   },
   "outputs": [
    {
     "data": {
      "text/plain": [
       "((11982, 28, 28), (1984, 28, 28))"
      ]
     },
     "execution_count": 13,
     "metadata": {},
     "output_type": "execute_result"
    }
   ],
   "source": [
    "X_train.shape, X_test.shape"
   ]
  },
  {
   "cell_type": "markdown",
   "metadata": {
    "papermill": {
     "duration": 0.034456,
     "end_time": "2020-08-20T00:27:37.755094",
     "exception": false,
     "start_time": "2020-08-20T00:27:37.720638",
     "status": "completed"
    },
    "tags": []
   },
   "source": [
    "##### We reshape the data to flatten the image pixels into a set of features or co-variates:"
   ]
  },
  {
   "cell_type": "code",
   "execution_count": 14,
   "metadata": {
    "execution": {
     "iopub.execute_input": "2020-08-20T00:27:37.828802Z",
     "iopub.status.busy": "2020-08-20T00:27:37.828098Z",
     "iopub.status.idle": "2020-08-20T00:27:37.843511Z",
     "shell.execute_reply": "2020-08-20T00:27:37.844187Z"
    },
    "papermill": {
     "duration": 0.05396,
     "end_time": "2020-08-20T00:27:37.844360",
     "exception": false,
     "start_time": "2020-08-20T00:27:37.790400",
     "status": "completed"
    },
    "tags": []
   },
   "outputs": [
    {
     "data": {
      "text/plain": [
       "((11982, 784), (1984, 784))"
      ]
     },
     "execution_count": 14,
     "metadata": {},
     "output_type": "execute_result"
    }
   ],
   "source": [
    "X_train = X_train.reshape(X_train.shape[0], -1)\n",
    "X_test = X_test.reshape(X_test.shape[0], -1)\n",
    "X_train.shape, X_test.shape"
   ]
  },
  {
   "cell_type": "markdown",
   "metadata": {
    "papermill": {
     "duration": 0.035473,
     "end_time": "2020-08-20T00:27:37.914990",
     "exception": false,
     "start_time": "2020-08-20T00:27:37.879517",
     "status": "completed"
    },
    "tags": []
   },
   "source": [
    "##### Importing Kudzu library and its functionality"
   ]
  },
  {
   "cell_type": "code",
   "execution_count": 15,
   "metadata": {
    "execution": {
     "iopub.execute_input": "2020-08-20T00:27:37.988650Z",
     "iopub.status.busy": "2020-08-20T00:27:37.987949Z",
     "iopub.status.idle": "2020-08-20T00:27:38.010120Z",
     "shell.execute_reply": "2020-08-20T00:27:38.009442Z"
    },
    "papermill": {
     "duration": 0.061536,
     "end_time": "2020-08-20T00:27:38.010278",
     "exception": false,
     "start_time": "2020-08-20T00:27:37.948742",
     "status": "completed"
    },
    "tags": []
   },
   "outputs": [],
   "source": [
    "from kudzu.data import Data, Dataloader, Sampler\n",
    "from kudzu.callbacks import AccCallback\n",
    "from kudzu.loss import MSE\n",
    "from kudzu.layer import Affine, Sigmoid\n",
    "from kudzu.model import Model\n",
    "from kudzu.optim import GD\n",
    "from kudzu.train import Learner\n",
    "from kudzu.callbacks import ClfCallback\n",
    "from kudzu.layer import Sigmoid\n",
    "from kudzu.layer import Relu"
   ]
  },
  {
   "cell_type": "markdown",
   "metadata": {
    "papermill": {
     "duration": 0.036244,
     "end_time": "2020-08-20T00:27:38.081477",
     "exception": false,
     "start_time": "2020-08-20T00:27:38.045233",
     "status": "completed"
    },
    "tags": []
   },
   "source": [
    "##### We are creating a class, just so that we can use it to store our parameters for us"
   ]
  },
  {
   "cell_type": "code",
   "execution_count": 16,
   "metadata": {
    "execution": {
     "iopub.execute_input": "2020-08-20T00:27:38.156034Z",
     "iopub.status.busy": "2020-08-20T00:27:38.155314Z",
     "iopub.status.idle": "2020-08-20T00:27:38.171643Z",
     "shell.execute_reply": "2020-08-20T00:27:38.172303Z"
    },
    "papermill": {
     "duration": 0.055737,
     "end_time": "2020-08-20T00:27:38.172477",
     "exception": false,
     "start_time": "2020-08-20T00:27:38.116740",
     "status": "completed"
    },
    "tags": []
   },
   "outputs": [],
   "source": [
    "class Config:\n",
    "    pass\n",
    "config = Config()\n",
    "config.lr = 0.001\n",
    "config.num_epochs = 250\n",
    "config.bs = 50"
   ]
  },
  {
   "cell_type": "markdown",
   "metadata": {
    "papermill": {
     "duration": 0.034916,
     "end_time": "2020-08-20T00:27:38.246795",
     "exception": false,
     "start_time": "2020-08-20T00:27:38.211879",
     "status": "completed"
    },
    "tags": []
   },
   "source": [
    "##### Initializing Data"
   ]
  },
  {
   "cell_type": "code",
   "execution_count": 17,
   "metadata": {
    "execution": {
     "iopub.execute_input": "2020-08-20T00:27:38.322594Z",
     "iopub.status.busy": "2020-08-20T00:27:38.321858Z",
     "iopub.status.idle": "2020-08-20T00:27:38.335517Z",
     "shell.execute_reply": "2020-08-20T00:27:38.336093Z"
    },
    "papermill": {
     "duration": 0.053437,
     "end_time": "2020-08-20T00:27:38.336310",
     "exception": false,
     "start_time": "2020-08-20T00:27:38.282873",
     "status": "completed"
    },
    "tags": []
   },
   "outputs": [],
   "source": [
    "data = Data(X_train, y_train.reshape(-1,1))\n",
    "loss = MSE()\n",
    "opt = GD(config.lr)\n",
    "sampler = Sampler(data, config.bs, shuffle=True)\n",
    "dl = Dataloader(data, sampler)"
   ]
  },
  {
   "cell_type": "markdown",
   "metadata": {
    "papermill": {
     "duration": 0.035058,
     "end_time": "2020-08-20T00:27:38.406502",
     "exception": false,
     "start_time": "2020-08-20T00:27:38.371444",
     "status": "completed"
    },
    "tags": []
   },
   "source": [
    "##### Constructing 2 different layers, one for NN and one only for logistic regression."
   ]
  },
  {
   "cell_type": "markdown",
   "metadata": {
    "papermill": {
     "duration": 0.046146,
     "end_time": "2020-08-20T00:27:38.487168",
     "exception": false,
     "start_time": "2020-08-20T00:27:38.441022",
     "status": "completed"
    },
    "tags": []
   },
   "source": [
    "##### Creating containers for data to be passed, to calculate accuracies"
   ]
  },
  {
   "cell_type": "code",
   "execution_count": 18,
   "metadata": {
    "execution": {
     "iopub.execute_input": "2020-08-20T00:27:38.567005Z",
     "iopub.status.busy": "2020-08-20T00:27:38.566249Z",
     "iopub.status.idle": "2020-08-20T00:27:38.580533Z",
     "shell.execute_reply": "2020-08-20T00:27:38.579979Z"
    },
    "papermill": {
     "duration": 0.054426,
     "end_time": "2020-08-20T00:27:38.580705",
     "exception": false,
     "start_time": "2020-08-20T00:27:38.526279",
     "status": "completed"
    },
    "tags": []
   },
   "outputs": [],
   "source": [
    "training_xdata = X_train\n",
    "testing_xdata = X_test\n",
    "training_ydata = y_train.reshape(-1,1)\n",
    "testing_ydata = y_test.reshape(-1,1)"
   ]
  },
  {
   "cell_type": "markdown",
   "metadata": {
    "papermill": {
     "duration": 0.034209,
     "end_time": "2020-08-20T00:27:38.649948",
     "exception": false,
     "start_time": "2020-08-20T00:27:38.615739",
     "status": "completed"
    },
    "tags": []
   },
   "source": [
    "##### Initializing models and Running training loop: "
   ]
  },
  {
   "cell_type": "code",
   "execution_count": 19,
   "metadata": {
    "execution": {
     "iopub.execute_input": "2020-08-20T00:27:38.732215Z",
     "iopub.status.busy": "2020-08-20T00:27:38.731492Z",
     "iopub.status.idle": "2020-08-20T00:27:38.750070Z",
     "shell.execute_reply": "2020-08-20T00:27:38.749538Z"
    },
    "papermill": {
     "duration": 0.063712,
     "end_time": "2020-08-20T00:27:38.750234",
     "exception": false,
     "start_time": "2020-08-20T00:27:38.686522",
     "status": "completed"
    },
    "tags": []
   },
   "outputs": [],
   "source": [
    "layers = [Affine(\"first\", 784, 100), Relu(\"first\"), Affine(\"second\", 100, 100), Relu(\"second\"), Affine(\"third\", 100, 2), Affine(\"final\", 2, 1), Sigmoid(\"final\")]\n",
    "\n",
    "model_neural = Model(layers)\n",
    "model_logistic = Model([Affine(\"logits\", 784, 1), Sigmoid(\"sigmoid\")])"
   ]
  },
  {
   "cell_type": "code",
   "execution_count": 20,
   "metadata": {
    "execution": {
     "iopub.execute_input": "2020-08-20T00:27:38.822818Z",
     "iopub.status.busy": "2020-08-20T00:27:38.822141Z",
     "iopub.status.idle": "2020-08-20T00:27:38.835619Z",
     "shell.execute_reply": "2020-08-20T00:27:38.834977Z"
    },
    "papermill": {
     "duration": 0.05136,
     "end_time": "2020-08-20T00:27:38.835755",
     "exception": false,
     "start_time": "2020-08-20T00:27:38.784395",
     "status": "completed"
    },
    "tags": []
   },
   "outputs": [],
   "source": [
    "learner1 = Learner(loss, model_neural, opt, config.num_epochs)\n",
    "acc1 = ClfCallback(learner1, config.bs, training_xdata , testing_xdata, training_ydata, testing_ydata)\n",
    "learner1.set_callbacks([acc1])"
   ]
  },
  {
   "cell_type": "code",
   "execution_count": 21,
   "metadata": {
    "execution": {
     "iopub.execute_input": "2020-08-20T00:27:38.908865Z",
     "iopub.status.busy": "2020-08-20T00:27:38.908148Z",
     "iopub.status.idle": "2020-08-20T00:29:43.294836Z",
     "shell.execute_reply": "2020-08-20T00:29:43.294280Z"
    },
    "papermill": {
     "duration": 124.4243,
     "end_time": "2020-08-20T00:29:43.294995",
     "exception": false,
     "start_time": "2020-08-20T00:27:38.870695",
     "status": "completed"
    },
    "tags": []
   },
   "outputs": [
    {
     "name": "stdout",
     "output_type": "stream",
     "text": [
      "Epoch 0 Loss 0.2539774781920031\n",
      "train accuracy is: 0.48531130028375896, test accuracy is 0.4889112903225806\n"
     ]
    },
    {
     "name": "stdout",
     "output_type": "stream",
     "text": [
      "Epoch 10 Loss 0.24197381308003998\n",
      "train accuracy is: 0.6974628609581038, test accuracy is 0.7323588709677419\n"
     ]
    },
    {
     "name": "stdout",
     "output_type": "stream",
     "text": [
      "Epoch 20 Loss 0.20514856808244356\n",
      "train accuracy is: 0.8644633617092305, test accuracy is 0.8845766129032258\n"
     ]
    },
    {
     "name": "stdout",
     "output_type": "stream",
     "text": [
      "Epoch 30 Loss 0.11068679151631204\n",
      "train accuracy is: 0.9025204473376732, test accuracy is 0.9112903225806451\n"
     ]
    },
    {
     "name": "stdout",
     "output_type": "stream",
     "text": [
      "Epoch 40 Loss 0.06716261424519249\n",
      "train accuracy is: 0.9292271740944751, test accuracy is 0.9344758064516129\n"
     ]
    },
    {
     "name": "stdout",
     "output_type": "stream",
     "text": [
      "Epoch 50 Loss 0.051185515907258006\n",
      "train accuracy is: 0.9418294107828409, test accuracy is 0.9506048387096774\n"
     ]
    },
    {
     "name": "stdout",
     "output_type": "stream",
     "text": [
      "Epoch 60 Loss 0.0433353301691667\n",
      "train accuracy is: 0.9495075947254215, test accuracy is 0.9596774193548387\n"
     ]
    },
    {
     "name": "stdout",
     "output_type": "stream",
     "text": [
      "Epoch 70 Loss 0.03876921309303774\n",
      "train accuracy is: 0.9550158571190118, test accuracy is 0.9637096774193549\n"
     ]
    },
    {
     "name": "stdout",
     "output_type": "stream",
     "text": [
      "Epoch 80 Loss 0.03575997865088795\n",
      "train accuracy is: 0.9582707394424971, test accuracy is 0.9652217741935484\n"
     ]
    },
    {
     "name": "stdout",
     "output_type": "stream",
     "text": [
      "Epoch 90 Loss 0.03357980903690245\n",
      "train accuracy is: 0.9606075780337172, test accuracy is 0.9657258064516129\n"
     ]
    },
    {
     "name": "stdout",
     "output_type": "stream",
     "text": [
      "Epoch 100 Loss 0.03189352256497514\n",
      "train accuracy is: 0.9622767484560174, test accuracy is 0.9672379032258065\n"
     ]
    },
    {
     "name": "stdout",
     "output_type": "stream",
     "text": [
      "Epoch 110 Loss 0.03053764946091782\n",
      "train accuracy is: 0.9641962944416625, test accuracy is 0.9682459677419355\n"
     ]
    },
    {
     "name": "stdout",
     "output_type": "stream",
     "text": [
      "Epoch 120 Loss 0.029399543234463373\n",
      "train accuracy is: 0.9652812552161576, test accuracy is 0.9692540322580645\n"
     ]
    },
    {
     "name": "stdout",
     "output_type": "stream",
     "text": [
      "Epoch 130 Loss 0.02842982843827964\n",
      "train accuracy is: 0.9658654648639626, test accuracy is 0.9702620967741935\n"
     ]
    },
    {
     "name": "stdout",
     "output_type": "stream",
     "text": [
      "Epoch 140 Loss 0.027579553680122566\n",
      "train accuracy is: 0.9670338841595727, test accuracy is 0.9702620967741935\n"
     ]
    },
    {
     "name": "stdout",
     "output_type": "stream",
     "text": [
      "Epoch 150 Loss 0.026822945341083402\n",
      "train accuracy is: 0.9681188449340677, test accuracy is 0.9707661290322581\n"
     ]
    },
    {
     "name": "stdout",
     "output_type": "stream",
     "text": [
      "Epoch 160 Loss 0.02614133375863948\n",
      "train accuracy is: 0.9688699716241028, test accuracy is 0.9702620967741935\n"
     ]
    },
    {
     "name": "stdout",
     "output_type": "stream",
     "text": [
      "Epoch 170 Loss 0.025531141486972643\n",
      "train accuracy is: 0.9697045568352529, test accuracy is 0.969758064516129\n"
     ]
    },
    {
     "name": "stdout",
     "output_type": "stream",
     "text": [
      "Epoch 180 Loss 0.024962732453330853\n",
      "train accuracy is: 0.9701218494408279, test accuracy is 0.9692540322580645\n"
     ]
    },
    {
     "name": "stdout",
     "output_type": "stream",
     "text": [
      "Epoch 190 Loss 0.024433358923288174\n",
      "train accuracy is: 0.971206810215323, test accuracy is 0.96875\n"
     ]
    },
    {
     "name": "stdout",
     "output_type": "stream",
     "text": [
      "Epoch 200 Loss 0.02392400813065595\n",
      "train accuracy is: 0.971874478384243, test accuracy is 0.9692540322580645\n"
     ]
    },
    {
     "name": "stdout",
     "output_type": "stream",
     "text": [
      "Epoch 210 Loss 0.023469682841817698\n",
      "train accuracy is: 0.972375229510933, test accuracy is 0.96875\n"
     ]
    },
    {
     "name": "stdout",
     "output_type": "stream",
     "text": [
      "Epoch 220 Loss 0.02303782610413586\n",
      "train accuracy is: 0.9731263562009681, test accuracy is 0.9682459677419355\n"
     ]
    },
    {
     "name": "stdout",
     "output_type": "stream",
     "text": [
      "Epoch 230 Loss 0.022624694582742196\n",
      "train accuracy is: 0.9735436488065431, test accuracy is 0.967741935483871\n"
     ]
    },
    {
     "name": "stdout",
     "output_type": "stream",
     "text": [
      "Epoch 240 Loss 0.022230820285965586\n",
      "train accuracy is: 0.9738774828910032, test accuracy is 0.9682459677419355\n"
     ]
    },
    {
     "data": {
      "text/plain": [
       "0.00992892712198154"
      ]
     },
     "execution_count": 21,
     "metadata": {},
     "output_type": "execute_result"
    }
   ],
   "source": [
    "learner1.train_loop(dl)"
   ]
  },
  {
   "cell_type": "markdown",
   "metadata": {
    "papermill": {
     "duration": 0.042522,
     "end_time": "2020-08-20T00:29:43.383605",
     "exception": false,
     "start_time": "2020-08-20T00:29:43.341083",
     "status": "completed"
    },
    "tags": []
   },
   "source": [
    "##### Now running only the logistic regression based classification to compare results with NN"
   ]
  },
  {
   "cell_type": "code",
   "execution_count": 22,
   "metadata": {
    "execution": {
     "iopub.execute_input": "2020-08-20T00:29:43.472816Z",
     "iopub.status.busy": "2020-08-20T00:29:43.472133Z",
     "iopub.status.idle": "2020-08-20T00:29:43.484303Z",
     "shell.execute_reply": "2020-08-20T00:29:43.484792Z"
    },
    "papermill": {
     "duration": 0.058873,
     "end_time": "2020-08-20T00:29:43.484943",
     "exception": false,
     "start_time": "2020-08-20T00:29:43.426070",
     "status": "completed"
    },
    "tags": []
   },
   "outputs": [],
   "source": [
    "learner2 = Learner(loss, model_logistic, opt, config.num_epochs)\n",
    "acc2 = ClfCallback(learner2, config.bs, training_xdata , testing_xdata, training_ydata, testing_ydata)\n",
    "learner2.set_callbacks([acc2])"
   ]
  },
  {
   "cell_type": "code",
   "execution_count": 23,
   "metadata": {
    "execution": {
     "iopub.execute_input": "2020-08-20T00:29:43.571653Z",
     "iopub.status.busy": "2020-08-20T00:29:43.570922Z",
     "iopub.status.idle": "2020-08-20T00:30:02.556328Z",
     "shell.execute_reply": "2020-08-20T00:30:02.556987Z"
    },
    "papermill": {
     "duration": 19.031615,
     "end_time": "2020-08-20T00:30:02.557156",
     "exception": false,
     "start_time": "2020-08-20T00:29:43.525541",
     "status": "completed"
    },
    "tags": []
   },
   "outputs": [
    {
     "name": "stdout",
     "output_type": "stream",
     "text": [
      "Epoch 0 Loss 0.24665112547418416\n",
      "train accuracy is: 0.6624937406109164, test accuracy is 0.6673387096774194\n"
     ]
    },
    {
     "name": "stdout",
     "output_type": "stream",
     "text": [
      "Epoch 10 Loss 0.1040851760413655\n",
      "train accuracy is: 0.9061091637456185, test accuracy is 0.9153225806451613\n"
     ]
    },
    {
     "name": "stdout",
     "output_type": "stream",
     "text": [
      "Epoch 20 Loss 0.07951006175591999\n",
      "train accuracy is: 0.928058754798865, test accuracy is 0.9369959677419355\n"
     ]
    },
    {
     "name": "stdout",
     "output_type": "stream",
     "text": [
      "Epoch 30 Loss 0.0682772028306633\n",
      "train accuracy is: 0.9368218995159405, test accuracy is 0.9480846774193549\n"
     ]
    },
    {
     "name": "stdout",
     "output_type": "stream",
     "text": [
      "Epoch 40 Loss 0.061565158206576945\n",
      "train accuracy is: 0.942580537472876, test accuracy is 0.952116935483871\n"
     ]
    },
    {
     "name": "stdout",
     "output_type": "stream",
     "text": [
      "Epoch 50 Loss 0.057015217697587335\n",
      "train accuracy is: 0.9450842931063261, test accuracy is 0.9556451612903226\n"
     ]
    },
    {
     "name": "stdout",
     "output_type": "stream",
     "text": [
      "Epoch 60 Loss 0.05368242663762063\n",
      "train accuracy is: 0.9473376731764314, test accuracy is 0.9586693548387096\n"
     ]
    },
    {
     "name": "stdout",
     "output_type": "stream",
     "text": [
      "Epoch 70 Loss 0.051116739892008996\n",
      "train accuracy is: 0.9503421799365716, test accuracy is 0.9601814516129032\n"
     ]
    },
    {
     "name": "stdout",
     "output_type": "stream",
     "text": [
      "Epoch 80 Loss 0.04906337528169468\n",
      "train accuracy is: 0.9517609747955266, test accuracy is 0.9611895161290323\n"
     ]
    },
    {
     "name": "stdout",
     "output_type": "stream",
     "text": [
      "Epoch 90 Loss 0.047374784429027476\n",
      "train accuracy is: 0.9531797696544817, test accuracy is 0.9627016129032258\n"
     ]
    },
    {
     "name": "stdout",
     "output_type": "stream",
     "text": [
      "Epoch 100 Loss 0.04595624516461116\n",
      "train accuracy is: 0.9535136037389418, test accuracy is 0.9652217741935484\n"
     ]
    },
    {
     "name": "stdout",
     "output_type": "stream",
     "text": [
      "Epoch 110 Loss 0.044739929148473\n",
      "train accuracy is: 0.9545151059923218, test accuracy is 0.9662298387096774\n"
     ]
    },
    {
     "name": "stdout",
     "output_type": "stream",
     "text": [
      "Epoch 120 Loss 0.04368355432456643\n",
      "train accuracy is: 0.9552662326823569, test accuracy is 0.9667338709677419\n"
     ]
    },
    {
     "name": "stdout",
     "output_type": "stream",
     "text": [
      "Epoch 130 Loss 0.04275450917928178\n",
      "train accuracy is: 0.9559339008512769, test accuracy is 0.9667338709677419\n"
     ]
    },
    {
     "name": "stdout",
     "output_type": "stream",
     "text": [
      "Epoch 140 Loss 0.04192889751463285\n",
      "train accuracy is: 0.956685027541312, test accuracy is 0.9667338709677419\n"
     ]
    },
    {
     "name": "stdout",
     "output_type": "stream",
     "text": [
      "Epoch 150 Loss 0.041188226783015806\n",
      "train accuracy is: 0.9577699883158071, test accuracy is 0.9667338709677419\n"
     ]
    },
    {
     "name": "stdout",
     "output_type": "stream",
     "text": [
      "Epoch 160 Loss 0.04052007899856751\n",
      "train accuracy is: 0.9578534468369221, test accuracy is 0.9667338709677419\n"
     ]
    },
    {
     "name": "stdout",
     "output_type": "stream",
     "text": [
      "Epoch 170 Loss 0.03991119932999083\n",
      "train accuracy is: 0.9584376564847271, test accuracy is 0.9667338709677419\n"
     ]
    },
    {
     "name": "stdout",
     "output_type": "stream",
     "text": [
      "Epoch 180 Loss 0.03935548638036139\n",
      "train accuracy is: 0.958604573526957, test accuracy is 0.9662298387096774\n"
     ]
    },
    {
     "name": "stdout",
     "output_type": "stream",
     "text": [
      "Epoch 190 Loss 0.03884359592776555\n",
      "train accuracy is: 0.9585211150058421, test accuracy is 0.9662298387096774\n"
     ]
    },
    {
     "name": "stdout",
     "output_type": "stream",
     "text": [
      "Epoch 200 Loss 0.03837064075875801\n",
      "train accuracy is: 0.9587714905691871, test accuracy is 0.9667338709677419\n"
     ]
    },
    {
     "name": "stdout",
     "output_type": "stream",
     "text": [
      "Epoch 210 Loss 0.0379322970369347\n",
      "train accuracy is: 0.9591053246536472, test accuracy is 0.9667338709677419\n"
     ]
    },
    {
     "name": "stdout",
     "output_type": "stream",
     "text": [
      "Epoch 220 Loss 0.037523735901297844\n",
      "train accuracy is: 0.9590218661325322, test accuracy is 0.9667338709677419\n"
     ]
    },
    {
     "name": "stdout",
     "output_type": "stream",
     "text": [
      "Epoch 230 Loss 0.037142316398423095\n",
      "train accuracy is: 0.9592722416958771, test accuracy is 0.9672379032258065\n"
     ]
    },
    {
     "name": "stdout",
     "output_type": "stream",
     "text": [
      "Epoch 240 Loss 0.036784762912493066\n",
      "train accuracy is: 0.9596895343014522, test accuracy is 0.967741935483871\n"
     ]
    },
    {
     "data": {
      "text/plain": [
       "0.04948041744863668"
      ]
     },
     "execution_count": 23,
     "metadata": {},
     "output_type": "execute_result"
    }
   ],
   "source": [
    "learner2.train_loop(dl)"
   ]
  },
  {
   "cell_type": "markdown",
   "metadata": {
    "papermill": {
     "duration": 0.060257,
     "end_time": "2020-08-20T00:30:02.668986",
     "exception": false,
     "start_time": "2020-08-20T00:30:02.608729",
     "status": "completed"
    },
    "tags": []
   },
   "source": [
    "### Comparing results of NN and LR"
   ]
  },
  {
   "cell_type": "code",
   "execution_count": 24,
   "metadata": {
    "execution": {
     "iopub.execute_input": "2020-08-20T00:30:02.780325Z",
     "iopub.status.busy": "2020-08-20T00:30:02.779652Z",
     "iopub.status.idle": "2020-08-20T00:30:03.034633Z",
     "shell.execute_reply": "2020-08-20T00:30:03.035203Z"
    },
    "papermill": {
     "duration": 0.31216,
     "end_time": "2020-08-20T00:30:03.035395",
     "exception": false,
     "start_time": "2020-08-20T00:30:02.723235",
     "status": "completed"
    },
    "tags": []
   },
   "outputs": [
    {
     "data": {
      "text/plain": [
       "<matplotlib.legend.Legend at 0x7f2cb7fc8978>"
      ]
     },
     "execution_count": 24,
     "metadata": {},
     "output_type": "execute_result"
    },
    {
     "data": {
      "image/png": "[encoded data removed]",
      "text/plain": [
       "<Figure size 576x360 with 1 Axes>"
      ]
     },
     "metadata": {
      "needs_background": "light"
     },
     "output_type": "display_data"
    }
   ],
   "source": [
    "plt.figure(figsize=(8,5))\n",
    "plt.plot(acc1.val_accuracies, 'g-', label = \"Val Accuracies - NN\")\n",
    "plt.plot(acc1.accuracies, 'r-', label = \"Accuracies - NN\")\n",
    "plt.plot(acc2.val_accuracies, 'b-', label = \"Val Accuracies - Logistic Reg\")\n",
    "plt.plot(acc2.accuracies, 'k-', label = \"Accuracies - Logistic Reg\")\n",
    "plt.ylim(0.8,1) ## for a more spread out view\n",
    "plt.legend()"
   ]
  },
  {
   "cell_type": "markdown",
   "metadata": {
    "papermill": {
     "duration": 0.055123,
     "end_time": "2020-08-20T00:30:03.143403",
     "exception": false,
     "start_time": "2020-08-20T00:30:03.088280",
     "status": "completed"
    },
    "tags": []
   },
   "source": [
    "### Clearly NN has a better accuracy over LR; NN is overfitting - Validation accuracy (green) has dropped below training accuracy (orange), also they are diverging. This problem is not seen in LR"
   ]
  },
  {
   "cell_type": "markdown",
   "metadata": {
    "papermill": {
     "duration": 0.053005,
     "end_time": "2020-08-20T00:30:03.252032",
     "exception": false,
     "start_time": "2020-08-20T00:30:03.199027",
     "status": "completed"
    },
    "tags": []
   },
   "source": [
    "##### Now we will be moving through the network, till the output of the second last affine where we get a 2 dimensional output. We will be plotting this 2d output and probability contours"
   ]
  },
  {
   "cell_type": "code",
   "execution_count": 25,
   "metadata": {
    "execution": {
     "iopub.execute_input": "2020-08-20T00:30:03.359259Z",
     "iopub.status.busy": "2020-08-20T00:30:03.358509Z",
     "iopub.status.idle": "2020-08-20T00:30:03.373573Z",
     "shell.execute_reply": "2020-08-20T00:30:03.372837Z"
    },
    "papermill": {
     "duration": 0.07129,
     "end_time": "2020-08-20T00:30:03.373728",
     "exception": false,
     "start_time": "2020-08-20T00:30:03.302438",
     "status": "completed"
    },
    "tags": []
   },
   "outputs": [],
   "source": [
    "model_new = Model(layers[:-2])"
   ]
  },
  {
   "cell_type": "code",
   "execution_count": 26,
   "metadata": {
    "execution": {
     "iopub.execute_input": "2020-08-20T00:30:03.482808Z",
     "iopub.status.busy": "2020-08-20T00:30:03.482061Z",
     "iopub.status.idle": "2020-08-20T00:30:03.509453Z",
     "shell.execute_reply": "2020-08-20T00:30:03.510105Z"
    },
    "papermill": {
     "duration": 0.084329,
     "end_time": "2020-08-20T00:30:03.510291",
     "exception": false,
     "start_time": "2020-08-20T00:30:03.425962",
     "status": "completed"
    },
    "tags": []
   },
   "outputs": [],
   "source": [
    "plot_testing = model_new(testing_xdata)"
   ]
  },
  {
   "cell_type": "markdown",
   "metadata": {
    "papermill": {
     "duration": 0.056602,
     "end_time": "2020-08-20T00:30:03.620796",
     "exception": false,
     "start_time": "2020-08-20T00:30:03.564194",
     "status": "completed"
    },
    "tags": []
   },
   "source": [
    "##### Plotting the scatter plot of points and color coding by class"
   ]
  },
  {
   "cell_type": "code",
   "execution_count": 27,
   "metadata": {
    "execution": {
     "iopub.execute_input": "2020-08-20T00:30:03.763347Z",
     "iopub.status.busy": "2020-08-20T00:30:03.762657Z",
     "iopub.status.idle": "2020-08-20T00:30:04.000115Z",
     "shell.execute_reply": "2020-08-20T00:30:04.000728Z"
    },
    "papermill": {
     "duration": 0.295839,
     "end_time": "2020-08-20T00:30:04.000895",
     "exception": false,
     "start_time": "2020-08-20T00:30:03.705056",
     "status": "completed"
    },
    "tags": []
   },
   "outputs": [
    {
     "data": {
      "image/png": "[encoded data removed]",
      "text/plain": [
       "<Figure size 576x504 with 1 Axes>"
      ]
     },
     "metadata": {
      "needs_background": "light"
     },
     "output_type": "display_data"
    }
   ],
   "source": [
    "plt.figure(figsize=(8,7))\n",
    "plt.scatter(plot_testing[:,0], plot_testing[:,1], alpha = 0.1, c = y_test.ravel());"
   ]
  },
  {
   "cell_type": "markdown",
   "metadata": {
    "papermill": {
     "duration": 0.053223,
     "end_time": "2020-08-20T00:30:04.115713",
     "exception": false,
     "start_time": "2020-08-20T00:30:04.062490",
     "status": "completed"
    },
    "tags": []
   },
   "source": [
    "##### Plotting probability contours"
   ]
  },
  {
   "cell_type": "code",
   "execution_count": 28,
   "metadata": {
    "execution": {
     "iopub.execute_input": "2020-08-20T00:30:04.230878Z",
     "iopub.status.busy": "2020-08-20T00:30:04.230135Z",
     "iopub.status.idle": "2020-08-20T00:30:04.243840Z",
     "shell.execute_reply": "2020-08-20T00:30:04.244422Z"
    },
    "papermill": {
     "duration": 0.073271,
     "end_time": "2020-08-20T00:30:04.244611",
     "exception": false,
     "start_time": "2020-08-20T00:30:04.171340",
     "status": "completed"
    },
    "tags": []
   },
   "outputs": [],
   "source": [
    "model_prob = Model(layers[-2:]) ## picking only last two layers to get probability. That is affine followed by sigmoid"
   ]
  },
  {
   "cell_type": "code",
   "execution_count": 29,
   "metadata": {
    "execution": {
     "iopub.execute_input": "2020-08-20T00:30:04.359527Z",
     "iopub.status.busy": "2020-08-20T00:30:04.358784Z",
     "iopub.status.idle": "2020-08-20T00:30:04.374329Z",
     "shell.execute_reply": "2020-08-20T00:30:04.374862Z"
    },
    "papermill": {
     "duration": 0.075222,
     "end_time": "2020-08-20T00:30:04.375036",
     "exception": false,
     "start_time": "2020-08-20T00:30:04.299814",
     "status": "completed"
    },
    "tags": []
   },
   "outputs": [],
   "source": [
    "xgrid = np.linspace(-4, 1, 100) ## Adjust these values based on above chart, roughly -4 to 1\n",
    "ygrid = np.linspace(-7.5, 7.5, 100) ## Adjust these values based on above chart, roughly -7.5, 7.5\n",
    "xg, yg = np.meshgrid(xgrid, ygrid)\n",
    "# xg and yg are now both 100X100, lets convert them to single arrays \n",
    "\n",
    "xg_interim = np.ravel(xg)\n",
    "yg_interim = np.ravel(yg)\n",
    "\n",
    "## xg_interim, yg_interim are now arrays of len 10000, now we will stack them and then transpose to get desired shape of n rows, 2 columns\n",
    "\n",
    "X_interim = np.vstack((xg_interim, yg_interim)) ## Please note vstack takes in a tuple\n",
    "X = X_interim.T\n",
    "\n",
    "## We want a shape of n rows and 2 columns to be able to feed this to last affine\n",
    "## This last affine takes only two columns, hence the above transformation\n",
    "probability_contour = model_prob(X).reshape(100,100) ## to make it consistent with xg, yg"
   ]
  },
  {
   "cell_type": "code",
   "execution_count": 30,
   "metadata": {
    "execution": {
     "iopub.execute_input": "2020-08-20T00:30:04.488086Z",
     "iopub.status.busy": "2020-08-20T00:30:04.487345Z",
     "iopub.status.idle": "2020-08-20T00:30:04.757746Z",
     "shell.execute_reply": "2020-08-20T00:30:04.758319Z"
    },
    "papermill": {
     "duration": 0.329902,
     "end_time": "2020-08-20T00:30:04.758508",
     "exception": false,
     "start_time": "2020-08-20T00:30:04.428606",
     "status": "completed"
    },
    "tags": []
   },
   "outputs": [
    {
     "data": {
      "image/png": "[encoded data removed]",
      "text/plain": [
       "<Figure size 576x504 with 1 Axes>"
      ]
     },
     "metadata": {
      "needs_background": "light"
     },
     "output_type": "display_data"
    }
   ],
   "source": [
    "plt.figure(figsize=(8,7))\n",
    "plt.scatter(plot_testing[:,0], plot_testing[:,1], alpha = 0.1, c = y_test.ravel())\n",
    "contours = plt.contour(xg,yg,probability_contour)\n",
    "plt.clabel(contours, inline = True );"
   ]
  }
 ],
 "metadata": {
  "kernelspec": {
   "display_name": "Python 3",
   "language": "python",
   "name": "python3"
  },
  "language_info": {
   "codemirror_mode": {
    "name": "ipython",
    "version": 3
   },
   "file_extension": ".py",
   "mimetype": "text/x-python",
   "name": "python",
   "nbconvert_exporter": "python",
   "pygments_lexer": "ipython3",
   "version": "3.6.11"
  },
  "papermill": {
   "duration": 153.695307,
   "end_time": "2020-08-20T00:30:05.227121",
   "environment_variables": {},
   "exception": null,
   "input_path": "2020-08-07-NN-new.ipynb",
   "output_path": "2020-08-07-NN-new.ipynb",
   "parameters": {},
   "start_time": "2020-08-20T00:27:31.531814",
   "version": "2.1.2"
  }
 },
 "nbformat": 4,
 "nbformat_minor": 4
}