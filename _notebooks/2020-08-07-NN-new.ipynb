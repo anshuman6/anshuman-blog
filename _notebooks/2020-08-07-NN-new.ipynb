{
 "cells": [
  {
   "cell_type": "markdown",
   "metadata": {
    "papermill": {
     "duration": 0.029049,
     "end_time": "2020-08-27T00:28:57.044397",
     "exception": false,
     "start_time": "2020-08-27T00:28:57.015348",
     "status": "completed"
    },
    "tags": []
   },
   "source": [
    "# \"Building a basic Neural Network from scratch - Kudzu\"\n",
    "\n",
    "- badges: true\n",
    "- author: Anshuman Gupta"
   ]
  },
  {
   "cell_type": "markdown",
   "metadata": {
    "papermill": {
     "duration": 0.024615,
     "end_time": "2020-08-27T00:28:57.095629",
     "exception": false,
     "start_time": "2020-08-27T00:28:57.071014",
     "status": "completed"
    },
    "tags": []
   },
   "source": [
    "#### In this project, the idea is to write a classifier to differentiate between handwritten digits 3 and 8, from the MNIST database.\n",
    "\n",
    "#### I will using a custom built neural network library called Kudzu.This has been developed as a part of KTF/Foundations course of Univ.ai (www.univ.ai). The source code for Kudzu Library and and this notebook can be found on my git-hub profile : www.https://github.com/anshuman6 under the folder project-solution. Any feedback and comments are welcome. Please feel free to email me at: anshuman6@gmail.com\n",
    "\n",
    "#### 1. I will be using the MNIST database. \n",
    "\n",
    "#### 2. I will be comparing the results of the 4 layer NN to a standard logistic regression"
   ]
  },
  {
   "cell_type": "markdown",
   "metadata": {
    "papermill": {
     "duration": 0.023728,
     "end_time": "2020-08-27T00:28:57.143626",
     "exception": false,
     "start_time": "2020-08-27T00:28:57.119898",
     "status": "completed"
    },
    "tags": []
   },
   "source": [
    "##### Importing all the necessary libraries"
   ]
  },
  {
   "cell_type": "code",
   "execution_count": 1,
   "metadata": {
    "execution": {
     "iopub.execute_input": "2020-08-27T00:28:57.199346Z",
     "iopub.status.busy": "2020-08-27T00:28:57.198768Z",
     "iopub.status.idle": "2020-08-27T00:28:57.208186Z",
     "shell.execute_reply": "2020-08-27T00:28:57.208931Z"
    },
    "papermill": {
     "duration": 0.041055,
     "end_time": "2020-08-27T00:28:57.209078",
     "exception": false,
     "start_time": "2020-08-27T00:28:57.168023",
     "status": "completed"
    },
    "tags": []
   },
   "outputs": [],
   "source": [
    "%load_ext autoreload\n",
    "%autoreload 2"
   ]
  },
  {
   "cell_type": "code",
   "execution_count": 2,
   "metadata": {
    "execution": {
     "iopub.execute_input": "2020-08-27T00:28:57.260914Z",
     "iopub.status.busy": "2020-08-27T00:28:57.260160Z",
     "iopub.status.idle": "2020-08-27T00:28:57.758542Z",
     "shell.execute_reply": "2020-08-27T00:28:57.758034Z"
    },
    "papermill": {
     "duration": 0.526458,
     "end_time": "2020-08-27T00:28:57.758672",
     "exception": false,
     "start_time": "2020-08-27T00:28:57.232214",
     "status": "completed"
    },
    "tags": []
   },
   "outputs": [],
   "source": [
    "%matplotlib inline\n",
    "import numpy as np\n",
    "import matplotlib.pyplot as plt\n",
    "import pandas as pd"
   ]
  },
  {
   "cell_type": "markdown",
   "metadata": {
    "papermill": {
     "duration": 0.025258,
     "end_time": "2020-08-27T00:28:57.810854",
     "exception": false,
     "start_time": "2020-08-27T00:28:57.785596",
     "status": "completed"
    },
    "tags": []
   },
   "source": [
    "##### The following command helps us download MNIST from notebook itself. You can skip this if you already have MNIST. You can also download it via your terminal."
   ]
  },
  {
   "cell_type": "code",
   "execution_count": 3,
   "metadata": {
    "execution": {
     "iopub.execute_input": "2020-08-27T00:28:57.863142Z",
     "iopub.status.busy": "2020-08-27T00:28:57.862586Z",
     "iopub.status.idle": "2020-08-27T00:28:59.151731Z",
     "shell.execute_reply": "2020-08-27T00:28:59.152141Z"
    },
    "papermill": {
     "duration": 1.317492,
     "end_time": "2020-08-27T00:28:59.152290",
     "exception": false,
     "start_time": "2020-08-27T00:28:57.834798",
     "status": "completed"
    },
    "tags": []
   },
   "outputs": [
    {
     "name": "stdout",
     "output_type": "stream",
     "text": [
      "Collecting mnist\r\n"
     ]
    },
    {
     "name": "stdout",
     "output_type": "stream",
     "text": [
      "  Downloading mnist-0.2.2-py2.py3-none-any.whl (3.5 kB)\r\n"
     ]
    },
    {
     "name": "stdout",
     "output_type": "stream",
     "text": [
      "Requirement already satisfied: numpy in /opt/hostedtoolcache/Python/3.6.11/x64/lib/python3.6/site-packages (from mnist) (1.19.1)\r\n"
     ]
    },
    {
     "name": "stdout",
     "output_type": "stream",
     "text": [
      "Installing collected packages: mnist\r\n"
     ]
    },
    {
     "name": "stdout",
     "output_type": "stream",
     "text": [
      "Successfully installed mnist-0.2.2\r\n"
     ]
    }
   ],
   "source": [
    "!pip install mnist # Please note, it is commented out for now, you can remove comment if you want to install it"
   ]
  },
  {
   "cell_type": "markdown",
   "metadata": {
    "papermill": {
     "duration": 0.026942,
     "end_time": "2020-08-27T00:28:59.203701",
     "exception": false,
     "start_time": "2020-08-27T00:28:59.176759",
     "status": "completed"
    },
    "tags": []
   },
   "source": [
    "#### Preparing the Data"
   ]
  },
  {
   "cell_type": "code",
   "execution_count": 4,
   "metadata": {
    "execution": {
     "iopub.execute_input": "2020-08-27T00:28:59.259505Z",
     "iopub.status.busy": "2020-08-27T00:28:59.258992Z",
     "iopub.status.idle": "2020-08-27T00:28:59.272107Z",
     "shell.execute_reply": "2020-08-27T00:28:59.271588Z"
    },
    "papermill": {
     "duration": 0.04079,
     "end_time": "2020-08-27T00:28:59.272215",
     "exception": false,
     "start_time": "2020-08-27T00:28:59.231425",
     "status": "completed"
    },
    "tags": []
   },
   "outputs": [],
   "source": [
    "import mnist"
   ]
  },
  {
   "cell_type": "code",
   "execution_count": 5,
   "metadata": {
    "execution": {
     "iopub.execute_input": "2020-08-27T00:28:59.325681Z",
     "iopub.status.busy": "2020-08-27T00:28:59.325174Z",
     "iopub.status.idle": "2020-08-27T00:29:00.028302Z",
     "shell.execute_reply": "2020-08-27T00:29:00.027811Z"
    },
    "papermill": {
     "duration": 0.731156,
     "end_time": "2020-08-27T00:29:00.028434",
     "exception": false,
     "start_time": "2020-08-27T00:28:59.297278",
     "status": "completed"
    },
    "tags": []
   },
   "outputs": [],
   "source": [
    "train_images = mnist.train_images()\n",
    "train_labels = mnist.train_labels()"
   ]
  },
  {
   "cell_type": "code",
   "execution_count": 6,
   "metadata": {
    "execution": {
     "iopub.execute_input": "2020-08-27T00:29:00.085290Z",
     "iopub.status.busy": "2020-08-27T00:29:00.084648Z",
     "iopub.status.idle": "2020-08-27T00:29:00.098349Z",
     "shell.execute_reply": "2020-08-27T00:29:00.097893Z"
    },
    "papermill": {
     "duration": 0.04456,
     "end_time": "2020-08-27T00:29:00.098464",
     "exception": false,
     "start_time": "2020-08-27T00:29:00.053904",
     "status": "completed"
    },
    "tags": []
   },
   "outputs": [
    {
     "data": {
      "text/plain": [
       "((60000, 28, 28), (60000,))"
      ]
     },
     "execution_count": 6,
     "metadata": {},
     "output_type": "execute_result"
    }
   ],
   "source": [
    "train_images.shape, train_labels.shape"
   ]
  },
  {
   "cell_type": "code",
   "execution_count": 7,
   "metadata": {
    "execution": {
     "iopub.execute_input": "2020-08-27T00:29:00.151937Z",
     "iopub.status.busy": "2020-08-27T00:29:00.151426Z",
     "iopub.status.idle": "2020-08-27T00:29:00.451721Z",
     "shell.execute_reply": "2020-08-27T00:29:00.450955Z"
    },
    "papermill": {
     "duration": 0.328393,
     "end_time": "2020-08-27T00:29:00.451904",
     "exception": false,
     "start_time": "2020-08-27T00:29:00.123511",
     "status": "completed"
    },
    "tags": []
   },
   "outputs": [],
   "source": [
    "test_images = mnist.test_images()\n",
    "test_labels = mnist.test_labels()"
   ]
  },
  {
   "cell_type": "code",
   "execution_count": 8,
   "metadata": {
    "execution": {
     "iopub.execute_input": "2020-08-27T00:29:00.510783Z",
     "iopub.status.busy": "2020-08-27T00:29:00.510200Z",
     "iopub.status.idle": "2020-08-27T00:29:00.522444Z",
     "shell.execute_reply": "2020-08-27T00:29:00.521991Z"
    },
    "papermill": {
     "duration": 0.042981,
     "end_time": "2020-08-27T00:29:00.522553",
     "exception": false,
     "start_time": "2020-08-27T00:29:00.479572",
     "status": "completed"
    },
    "tags": []
   },
   "outputs": [
    {
     "data": {
      "text/plain": [
       "((10000, 28, 28), (10000,))"
      ]
     },
     "execution_count": 8,
     "metadata": {},
     "output_type": "execute_result"
    }
   ],
   "source": [
    "test_images.shape, test_labels.shape"
   ]
  },
  {
   "cell_type": "code",
   "execution_count": 9,
   "metadata": {
    "execution": {
     "iopub.execute_input": "2020-08-27T00:29:00.577758Z",
     "iopub.status.busy": "2020-08-27T00:29:00.577206Z",
     "iopub.status.idle": "2020-08-27T00:29:00.739305Z",
     "shell.execute_reply": "2020-08-27T00:29:00.738772Z"
    },
    "papermill": {
     "duration": 0.19167,
     "end_time": "2020-08-27T00:29:00.739430",
     "exception": false,
     "start_time": "2020-08-27T00:29:00.547760",
     "status": "completed"
    },
    "tags": []
   },
   "outputs": [
    {
     "name": "stdout",
     "output_type": "stream",
     "text": [
      "2\n"
     ]
    },
    {
     "data": {
      "text/plain": [
       "<matplotlib.image.AxesImage at 0x7fc62ddc0b70>"
      ]
     },
     "execution_count": 9,
     "metadata": {},
     "output_type": "execute_result"
    },
    {
     "data": {
      "image/png": "[encoded data removed]",
      "text/plain": [
       "<Figure size 432x288 with 1 Axes>"
      ]
     },
     "metadata": {
      "needs_background": "light"
     },
     "output_type": "display_data"
    }
   ],
   "source": [
    "image_index = 7776 # You may select anything up to 60,000\n",
    "print(train_labels[image_index]) \n",
    "plt.imshow(train_images[image_index], cmap='Greys')"
   ]
  },
  {
   "cell_type": "markdown",
   "metadata": {
    "papermill": {
     "duration": 0.027687,
     "end_time": "2020-08-27T00:29:00.798255",
     "exception": false,
     "start_time": "2020-08-27T00:29:00.770568",
     "status": "completed"
    },
    "tags": []
   },
   "source": [
    "## Filter data to get 3 and 8 out"
   ]
  },
  {
   "cell_type": "code",
   "execution_count": 10,
   "metadata": {
    "execution": {
     "iopub.execute_input": "2020-08-27T00:29:00.856809Z",
     "iopub.status.busy": "2020-08-27T00:29:00.856261Z",
     "iopub.status.idle": "2020-08-27T00:29:00.873014Z",
     "shell.execute_reply": "2020-08-27T00:29:00.872534Z"
    },
    "papermill": {
     "duration": 0.046628,
     "end_time": "2020-08-27T00:29:00.873130",
     "exception": false,
     "start_time": "2020-08-27T00:29:00.826502",
     "status": "completed"
    },
    "tags": []
   },
   "outputs": [],
   "source": [
    "train_filter = np.where((train_labels == 3 ) | (train_labels == 8))\n",
    "test_filter = np.where((test_labels == 3) | (test_labels == 8))\n",
    "X_train, y_train = train_images[train_filter], train_labels[train_filter]\n",
    "X_test, y_test = test_images[test_filter], test_labels[test_filter]"
   ]
  },
  {
   "cell_type": "markdown",
   "metadata": {
    "papermill": {
     "duration": 0.026367,
     "end_time": "2020-08-27T00:29:00.926852",
     "exception": false,
     "start_time": "2020-08-27T00:29:00.900485",
     "status": "completed"
    },
    "tags": []
   },
   "source": [
    "##### We normalize the pizel values in the 0 to 1 range"
   ]
  },
  {
   "cell_type": "code",
   "execution_count": 11,
   "metadata": {
    "execution": {
     "iopub.execute_input": "2020-08-27T00:29:00.991395Z",
     "iopub.status.busy": "2020-08-27T00:29:00.990795Z",
     "iopub.status.idle": "2020-08-27T00:29:01.051708Z",
     "shell.execute_reply": "2020-08-27T00:29:01.051160Z"
    },
    "papermill": {
     "duration": 0.094152,
     "end_time": "2020-08-27T00:29:01.051842",
     "exception": false,
     "start_time": "2020-08-27T00:29:00.957690",
     "status": "completed"
    },
    "tags": []
   },
   "outputs": [],
   "source": [
    "X_train = X_train/255.\n",
    "X_test = X_test/255."
   ]
  },
  {
   "cell_type": "markdown",
   "metadata": {
    "papermill": {
     "duration": 0.028419,
     "end_time": "2020-08-27T00:29:01.112638",
     "exception": false,
     "start_time": "2020-08-27T00:29:01.084219",
     "status": "completed"
    },
    "tags": []
   },
   "source": [
    "And setup the labels as 1 (when the digit is 3) and 0 (when the digit is 8)"
   ]
  },
  {
   "cell_type": "code",
   "execution_count": 12,
   "metadata": {
    "execution": {
     "iopub.execute_input": "2020-08-27T00:29:01.172693Z",
     "iopub.status.busy": "2020-08-27T00:29:01.172159Z",
     "iopub.status.idle": "2020-08-27T00:29:01.183200Z",
     "shell.execute_reply": "2020-08-27T00:29:01.182674Z"
    },
    "papermill": {
     "duration": 0.043039,
     "end_time": "2020-08-27T00:29:01.183323",
     "exception": false,
     "start_time": "2020-08-27T00:29:01.140284",
     "status": "completed"
    },
    "tags": []
   },
   "outputs": [],
   "source": [
    "y_train = 1*(y_train==3)\n",
    "y_test = 1*(y_test==3)"
   ]
  },
  {
   "cell_type": "code",
   "execution_count": 13,
   "metadata": {
    "execution": {
     "iopub.execute_input": "2020-08-27T00:29:01.240590Z",
     "iopub.status.busy": "2020-08-27T00:29:01.240077Z",
     "iopub.status.idle": "2020-08-27T00:29:01.252611Z",
     "shell.execute_reply": "2020-08-27T00:29:01.253232Z"
    },
    "papermill": {
     "duration": 0.042044,
     "end_time": "2020-08-27T00:29:01.253383",
     "exception": false,
     "start_time": "2020-08-27T00:29:01.211339",
     "status": "completed"
    },
    "tags": []
   },
   "outputs": [
    {
     "data": {
      "text/plain": [
       "((11982, 28, 28), (1984, 28, 28))"
      ]
     },
     "execution_count": 13,
     "metadata": {},
     "output_type": "execute_result"
    }
   ],
   "source": [
    "X_train.shape, X_test.shape"
   ]
  },
  {
   "cell_type": "markdown",
   "metadata": {
    "papermill": {
     "duration": 0.031436,
     "end_time": "2020-08-27T00:29:01.313240",
     "exception": false,
     "start_time": "2020-08-27T00:29:01.281804",
     "status": "completed"
    },
    "tags": []
   },
   "source": [
    "##### We reshape the data to flatten the image pixels into a set of features or co-variates:"
   ]
  },
  {
   "cell_type": "code",
   "execution_count": 14,
   "metadata": {
    "execution": {
     "iopub.execute_input": "2020-08-27T00:29:01.376048Z",
     "iopub.status.busy": "2020-08-27T00:29:01.375537Z",
     "iopub.status.idle": "2020-08-27T00:29:01.388453Z",
     "shell.execute_reply": "2020-08-27T00:29:01.388014Z"
    },
    "papermill": {
     "duration": 0.046009,
     "end_time": "2020-08-27T00:29:01.388560",
     "exception": false,
     "start_time": "2020-08-27T00:29:01.342551",
     "status": "completed"
    },
    "tags": []
   },
   "outputs": [
    {
     "data": {
      "text/plain": [
       "((11982, 784), (1984, 784))"
      ]
     },
     "execution_count": 14,
     "metadata": {},
     "output_type": "execute_result"
    }
   ],
   "source": [
    "X_train = X_train.reshape(X_train.shape[0], -1)\n",
    "X_test = X_test.reshape(X_test.shape[0], -1)\n",
    "X_train.shape, X_test.shape"
   ]
  },
  {
   "cell_type": "markdown",
   "metadata": {
    "papermill": {
     "duration": 0.031799,
     "end_time": "2020-08-27T00:29:01.448351",
     "exception": false,
     "start_time": "2020-08-27T00:29:01.416552",
     "status": "completed"
    },
    "tags": []
   },
   "source": [
    "##### Importing Kudzu library and its functionality"
   ]
  },
  {
   "cell_type": "code",
   "execution_count": 15,
   "metadata": {
    "execution": {
     "iopub.execute_input": "2020-08-27T00:29:01.508813Z",
     "iopub.status.busy": "2020-08-27T00:29:01.508178Z",
     "iopub.status.idle": "2020-08-27T00:29:01.525367Z",
     "shell.execute_reply": "2020-08-27T00:29:01.524794Z"
    },
    "papermill": {
     "duration": 0.04874,
     "end_time": "2020-08-27T00:29:01.525519",
     "exception": false,
     "start_time": "2020-08-27T00:29:01.476779",
     "status": "completed"
    },
    "tags": []
   },
   "outputs": [],
   "source": [
    "from kudzu.data import Data, Dataloader, Sampler\n",
    "from kudzu.callbacks import AccCallback\n",
    "from kudzu.loss import MSE\n",
    "from kudzu.layer import Affine, Sigmoid\n",
    "from kudzu.model import Model\n",
    "from kudzu.optim import GD\n",
    "from kudzu.train import Learner\n",
    "from kudzu.callbacks import ClfCallback\n",
    "from kudzu.layer import Sigmoid\n",
    "from kudzu.layer import Relu"
   ]
  },
  {
   "cell_type": "markdown",
   "metadata": {
    "papermill": {
     "duration": 0.029632,
     "end_time": "2020-08-27T00:29:01.582357",
     "exception": false,
     "start_time": "2020-08-27T00:29:01.552725",
     "status": "completed"
    },
    "tags": []
   },
   "source": [
    "##### We are creating a class, just so that we can use it to store our parameters for us"
   ]
  },
  {
   "cell_type": "code",
   "execution_count": 16,
   "metadata": {
    "execution": {
     "iopub.execute_input": "2020-08-27T00:29:01.645720Z",
     "iopub.status.busy": "2020-08-27T00:29:01.645115Z",
     "iopub.status.idle": "2020-08-27T00:29:01.658484Z",
     "shell.execute_reply": "2020-08-27T00:29:01.657894Z"
    },
    "papermill": {
     "duration": 0.046894,
     "end_time": "2020-08-27T00:29:01.658654",
     "exception": false,
     "start_time": "2020-08-27T00:29:01.611760",
     "status": "completed"
    },
    "tags": []
   },
   "outputs": [],
   "source": [
    "class Config:\n",
    "    pass\n",
    "config = Config()\n",
    "config.lr = 0.001\n",
    "config.num_epochs = 250\n",
    "config.bs = 50"
   ]
  },
  {
   "cell_type": "markdown",
   "metadata": {
    "papermill": {
     "duration": 0.033781,
     "end_time": "2020-08-27T00:29:01.724985",
     "exception": false,
     "start_time": "2020-08-27T00:29:01.691204",
     "status": "completed"
    },
    "tags": []
   },
   "source": [
    "##### Initializing Data"
   ]
  },
  {
   "cell_type": "code",
   "execution_count": 17,
   "metadata": {
    "execution": {
     "iopub.execute_input": "2020-08-27T00:29:01.792917Z",
     "iopub.status.busy": "2020-08-27T00:29:01.792333Z",
     "iopub.status.idle": "2020-08-27T00:29:01.804382Z",
     "shell.execute_reply": "2020-08-27T00:29:01.803916Z"
    },
    "papermill": {
     "duration": 0.046545,
     "end_time": "2020-08-27T00:29:01.804493",
     "exception": false,
     "start_time": "2020-08-27T00:29:01.757948",
     "status": "completed"
    },
    "tags": []
   },
   "outputs": [],
   "source": [
    "data = Data(X_train, y_train.reshape(-1,1))\n",
    "loss = MSE()\n",
    "opt = GD(config.lr)\n",
    "sampler = Sampler(data, config.bs, shuffle=True)\n",
    "dl = Dataloader(data, sampler)"
   ]
  },
  {
   "cell_type": "markdown",
   "metadata": {
    "papermill": {
     "duration": 0.028099,
     "end_time": "2020-08-27T00:29:01.862225",
     "exception": false,
     "start_time": "2020-08-27T00:29:01.834126",
     "status": "completed"
    },
    "tags": []
   },
   "source": [
    "##### Constructing 2 different layers, one for NN and one only for logistic regression."
   ]
  },
  {
   "cell_type": "markdown",
   "metadata": {
    "papermill": {
     "duration": 0.029846,
     "end_time": "2020-08-27T00:29:01.919323",
     "exception": false,
     "start_time": "2020-08-27T00:29:01.889477",
     "status": "completed"
    },
    "tags": []
   },
   "source": [
    "##### Creating containers for data to be passed, to calculate accuracies"
   ]
  },
  {
   "cell_type": "code",
   "execution_count": 18,
   "metadata": {
    "execution": {
     "iopub.execute_input": "2020-08-27T00:29:01.987635Z",
     "iopub.status.busy": "2020-08-27T00:29:01.987097Z",
     "iopub.status.idle": "2020-08-27T00:29:01.998557Z",
     "shell.execute_reply": "2020-08-27T00:29:01.998035Z"
    },
    "papermill": {
     "duration": 0.047102,
     "end_time": "2020-08-27T00:29:01.998702",
     "exception": false,
     "start_time": "2020-08-27T00:29:01.951600",
     "status": "completed"
    },
    "tags": []
   },
   "outputs": [],
   "source": [
    "training_xdata = X_train\n",
    "testing_xdata = X_test\n",
    "training_ydata = y_train.reshape(-1,1)\n",
    "testing_ydata = y_test.reshape(-1,1)"
   ]
  },
  {
   "cell_type": "markdown",
   "metadata": {
    "papermill": {
     "duration": 0.029613,
     "end_time": "2020-08-27T00:29:02.057768",
     "exception": false,
     "start_time": "2020-08-27T00:29:02.028155",
     "status": "completed"
    },
    "tags": []
   },
   "source": [
    "##### Initializing models and Running training loop: "
   ]
  },
  {
   "cell_type": "code",
   "execution_count": 19,
   "metadata": {
    "execution": {
     "iopub.execute_input": "2020-08-27T00:29:02.121002Z",
     "iopub.status.busy": "2020-08-27T00:29:02.120461Z",
     "iopub.status.idle": "2020-08-27T00:29:02.134827Z",
     "shell.execute_reply": "2020-08-27T00:29:02.134393Z"
    },
    "papermill": {
     "duration": 0.047372,
     "end_time": "2020-08-27T00:29:02.134932",
     "exception": false,
     "start_time": "2020-08-27T00:29:02.087560",
     "status": "completed"
    },
    "tags": []
   },
   "outputs": [],
   "source": [
    "layers = [Affine(\"first\", 784, 100), Relu(\"first\"), Affine(\"second\", 100, 100), Relu(\"second\"), Affine(\"third\", 100, 2), Affine(\"final\", 2, 1), Sigmoid(\"final\")]\n",
    "\n",
    "model_neural = Model(layers)\n",
    "model_logistic = Model([Affine(\"logits\", 784, 1), Sigmoid(\"sigmoid\")])"
   ]
  },
  {
   "cell_type": "code",
   "execution_count": 20,
   "metadata": {
    "execution": {
     "iopub.execute_input": "2020-08-27T00:29:02.194436Z",
     "iopub.status.busy": "2020-08-27T00:29:02.193825Z",
     "iopub.status.idle": "2020-08-27T00:29:02.204046Z",
     "shell.execute_reply": "2020-08-27T00:29:02.203597Z"
    },
    "papermill": {
     "duration": 0.042428,
     "end_time": "2020-08-27T00:29:02.204155",
     "exception": false,
     "start_time": "2020-08-27T00:29:02.161727",
     "status": "completed"
    },
    "tags": []
   },
   "outputs": [],
   "source": [
    "learner1 = Learner(loss, model_neural, opt, config.num_epochs)\n",
    "acc1 = ClfCallback(learner1, config.bs, training_xdata , testing_xdata, training_ydata, testing_ydata)\n",
    "learner1.set_callbacks([acc1])"
   ]
  },
  {
   "cell_type": "code",
   "execution_count": 21,
   "metadata": {
    "execution": {
     "iopub.execute_input": "2020-08-27T00:29:02.267788Z",
     "iopub.status.busy": "2020-08-27T00:29:02.267267Z",
     "iopub.status.idle": "2020-08-27T00:31:13.554648Z",
     "shell.execute_reply": "2020-08-27T00:31:13.555157Z"
    },
    "papermill": {
     "duration": 131.320111,
     "end_time": "2020-08-27T00:31:13.555358",
     "exception": false,
     "start_time": "2020-08-27T00:29:02.235247",
     "status": "completed"
    },
    "tags": []
   },
   "outputs": [
    {
     "name": "stdout",
     "output_type": "stream",
     "text": [
      "Epoch 0 Loss 0.2495046064409785\n",
      "train accuracy is: 0.5615923885828743, test accuracy is 0.5806451612903226\n"
     ]
    },
    {
     "name": "stdout",
     "output_type": "stream",
     "text": [
      "Epoch 10 Loss 0.1925774684051615\n",
      "train accuracy is: 0.8688032048072108, test accuracy is 0.8951612903225806\n"
     ]
    },
    {
     "name": "stdout",
     "output_type": "stream",
     "text": [
      "Epoch 20 Loss 0.095090139455069\n",
      "train accuracy is: 0.9084460023368386, test accuracy is 0.9254032258064516\n"
     ]
    },
    {
     "name": "stdout",
     "output_type": "stream",
     "text": [
      "Epoch 30 Loss 0.06150904647563375\n",
      "train accuracy is: 0.9328993490235353, test accuracy is 0.9455645161290323\n"
     ]
    },
    {
     "name": "stdout",
     "output_type": "stream",
     "text": [
      "Epoch 40 Loss 0.048249117042597836\n",
      "train accuracy is: 0.9465030879652813, test accuracy is 0.9601814516129032\n"
     ]
    },
    {
     "name": "stdout",
     "output_type": "stream",
     "text": [
      "Epoch 50 Loss 0.041333712739395144\n",
      "train accuracy is: 0.9526790185277917, test accuracy is 0.9672379032258065\n"
     ]
    },
    {
     "name": "stdout",
     "output_type": "stream",
     "text": [
      "Epoch 60 Loss 0.03712509432150271\n",
      "train accuracy is: 0.957269237189117, test accuracy is 0.9732862903225806\n"
     ]
    },
    {
     "name": "stdout",
     "output_type": "stream",
     "text": [
      "Epoch 70 Loss 0.0342542093570016\n",
      "train accuracy is: 0.9604406609914873, test accuracy is 0.9727822580645161\n"
     ]
    },
    {
     "name": "stdout",
     "output_type": "stream",
     "text": [
      "Epoch 80 Loss 0.03213713076850262\n",
      "train accuracy is: 0.9626940410615924, test accuracy is 0.9727822580645161\n"
     ]
    },
    {
     "name": "stdout",
     "output_type": "stream",
     "text": [
      "Epoch 90 Loss 0.030477841746412677\n",
      "train accuracy is: 0.9646970455683526, test accuracy is 0.9722782258064516\n"
     ]
    },
    {
     "name": "stdout",
     "output_type": "stream",
     "text": [
      "Epoch 100 Loss 0.029143201037320352\n",
      "train accuracy is: 0.9658654648639626, test accuracy is 0.9722782258064516\n"
     ]
    },
    {
     "name": "stdout",
     "output_type": "stream",
     "text": [
      "Epoch 110 Loss 0.02801281941575668\n",
      "train accuracy is: 0.9669504256384577, test accuracy is 0.9722782258064516\n"
     ]
    },
    {
     "name": "stdout",
     "output_type": "stream",
     "text": [
      "Epoch 120 Loss 0.027040485904638503\n",
      "train accuracy is: 0.9678684693707228, test accuracy is 0.9732862903225806\n"
     ]
    },
    {
     "name": "stdout",
     "output_type": "stream",
     "text": [
      "Epoch 130 Loss 0.026203410615851807\n",
      "train accuracy is: 0.9691203471874479, test accuracy is 0.9712701612903226\n"
     ]
    },
    {
     "name": "stdout",
     "output_type": "stream",
     "text": [
      "Epoch 140 Loss 0.02545642530086236\n",
      "train accuracy is: 0.970372225004173, test accuracy is 0.9717741935483871\n"
     ]
    },
    {
     "name": "stdout",
     "output_type": "stream",
     "text": [
      "Epoch 150 Loss 0.024791864884343328\n",
      "train accuracy is: 0.9711233516942079, test accuracy is 0.9722782258064516\n"
     ]
    },
    {
     "name": "stdout",
     "output_type": "stream",
     "text": [
      "Epoch 160 Loss 0.024185990711881346\n",
      "train accuracy is: 0.9722083124687031, test accuracy is 0.9722782258064516\n"
     ]
    },
    {
     "name": "stdout",
     "output_type": "stream",
     "text": [
      "Epoch 170 Loss 0.023626694397987993\n",
      "train accuracy is: 0.972458688032048, test accuracy is 0.9722782258064516\n"
     ]
    },
    {
     "name": "stdout",
     "output_type": "stream",
     "text": [
      "Epoch 180 Loss 0.023102906810034143\n",
      "train accuracy is: 0.9735436488065431, test accuracy is 0.9727822580645161\n"
     ]
    },
    {
     "name": "stdout",
     "output_type": "stream",
     "text": [
      "Epoch 190 Loss 0.02262466461600391\n",
      "train accuracy is: 0.9743782340176932, test accuracy is 0.9727822580645161\n"
     ]
    },
    {
     "name": "stdout",
     "output_type": "stream",
     "text": [
      "Epoch 200 Loss 0.022165346824786825\n",
      "train accuracy is: 0.9746286095810383, test accuracy is 0.9732862903225806\n"
     ]
    },
    {
     "name": "stdout",
     "output_type": "stream",
     "text": [
      "Epoch 210 Loss 0.021735324975931187\n",
      "train accuracy is: 0.9751293607077283, test accuracy is 0.9732862903225806\n"
     ]
    },
    {
     "name": "stdout",
     "output_type": "stream",
     "text": [
      "Epoch 220 Loss 0.021323195088659763\n",
      "train accuracy is: 0.9757135703555333, test accuracy is 0.9732862903225806\n"
     ]
    },
    {
     "name": "stdout",
     "output_type": "stream",
     "text": [
      "Epoch 230 Loss 0.020935520445035022\n",
      "train accuracy is: 0.9761308629611083, test accuracy is 0.9732862903225806\n"
     ]
    },
    {
     "name": "stdout",
     "output_type": "stream",
     "text": [
      "Epoch 240 Loss 0.020564694531716953\n",
      "train accuracy is: 0.9767985311300283, test accuracy is 0.9742943548387096\n"
     ]
    },
    {
     "data": {
      "text/plain": [
       "0.0033990159170219497"
      ]
     },
     "execution_count": 21,
     "metadata": {},
     "output_type": "execute_result"
    }
   ],
   "source": [
    "learner1.train_loop(dl)"
   ]
  },
  {
   "cell_type": "markdown",
   "metadata": {
    "papermill": {
     "duration": 0.037395,
     "end_time": "2020-08-27T00:31:13.633511",
     "exception": false,
     "start_time": "2020-08-27T00:31:13.596116",
     "status": "completed"
    },
    "tags": []
   },
   "source": [
    "##### Now running only the logistic regression based classification to compare results with NN"
   ]
  },
  {
   "cell_type": "code",
   "execution_count": 22,
   "metadata": {
    "execution": {
     "iopub.execute_input": "2020-08-27T00:31:13.718163Z",
     "iopub.status.busy": "2020-08-27T00:31:13.717040Z",
     "iopub.status.idle": "2020-08-27T00:31:13.729210Z",
     "shell.execute_reply": "2020-08-27T00:31:13.729639Z"
    },
    "papermill": {
     "duration": 0.057454,
     "end_time": "2020-08-27T00:31:13.729800",
     "exception": false,
     "start_time": "2020-08-27T00:31:13.672346",
     "status": "completed"
    },
    "tags": []
   },
   "outputs": [],
   "source": [
    "learner2 = Learner(loss, model_logistic, opt, config.num_epochs)\n",
    "acc2 = ClfCallback(learner2, config.bs, training_xdata , testing_xdata, training_ydata, testing_ydata)\n",
    "learner2.set_callbacks([acc2])"
   ]
  },
  {
   "cell_type": "code",
   "execution_count": 23,
   "metadata": {
    "execution": {
     "iopub.execute_input": "2020-08-27T00:31:13.810978Z",
     "iopub.status.busy": "2020-08-27T00:31:13.810296Z",
     "iopub.status.idle": "2020-08-27T00:31:32.983763Z",
     "shell.execute_reply": "2020-08-27T00:31:32.984663Z"
    },
    "papermill": {
     "duration": 19.215179,
     "end_time": "2020-08-27T00:31:32.984971",
     "exception": false,
     "start_time": "2020-08-27T00:31:13.769792",
     "status": "completed"
    },
    "tags": []
   },
   "outputs": [
    {
     "name": "stdout",
     "output_type": "stream",
     "text": [
      "Epoch 0 Loss 0.25510356436654663\n",
      "train accuracy is: 0.6227674845601736, test accuracy is 0.6345766129032258\n"
     ]
    },
    {
     "name": "stdout",
     "output_type": "stream",
     "text": [
      "Epoch 10 Loss 0.10234872226014952\n",
      "train accuracy is: 0.9176264396594892, test accuracy is 0.9269153225806451\n"
     ]
    },
    {
     "name": "stdout",
     "output_type": "stream",
     "text": [
      "Epoch 20 Loss 0.0783369880421102\n",
      "train accuracy is: 0.9318143882490403, test accuracy is 0.9420362903225806\n"
     ]
    },
    {
     "name": "stdout",
     "output_type": "stream",
     "text": [
      "Epoch 30 Loss 0.06750486617452925\n",
      "train accuracy is: 0.9398264062760808, test accuracy is 0.9480846774193549\n"
     ]
    },
    {
     "name": "stdout",
     "output_type": "stream",
     "text": [
      "Epoch 40 Loss 0.06102478146973716\n",
      "train accuracy is: 0.943832415289601, test accuracy is 0.9516129032258065\n"
     ]
    },
    {
     "name": "stdout",
     "output_type": "stream",
     "text": [
      "Epoch 50 Loss 0.05661417399303248\n",
      "train accuracy is: 0.9458354197963612, test accuracy is 0.953125\n"
     ]
    },
    {
     "name": "stdout",
     "output_type": "stream",
     "text": [
      "Epoch 60 Loss 0.05337135082838273\n",
      "train accuracy is: 0.9482557169086964, test accuracy is 0.9536290322580645\n"
     ]
    },
    {
     "name": "stdout",
     "output_type": "stream",
     "text": [
      "Epoch 70 Loss 0.050864298310475\n",
      "train accuracy is: 0.9495910532465365, test accuracy is 0.954133064516129\n"
     ]
    },
    {
     "name": "stdout",
     "output_type": "stream",
     "text": [
      "Epoch 80 Loss 0.04885217740134882\n",
      "train accuracy is: 0.9507594725421465, test accuracy is 0.9561491935483871\n"
     ]
    },
    {
     "name": "stdout",
     "output_type": "stream",
     "text": [
      "Epoch 90 Loss 0.04719326499584634\n",
      "train accuracy is: 0.9526790185277917, test accuracy is 0.9571572580645161\n"
     ]
    },
    {
     "name": "stdout",
     "output_type": "stream",
     "text": [
      "Epoch 100 Loss 0.04579431127771202\n",
      "train accuracy is: 0.9537639793022867, test accuracy is 0.9581653225806451\n"
     ]
    },
    {
     "name": "stdout",
     "output_type": "stream",
     "text": [
      "Epoch 110 Loss 0.044594000021846075\n",
      "train accuracy is: 0.9544316474712068, test accuracy is 0.9606854838709677\n"
     ]
    },
    {
     "name": "stdout",
     "output_type": "stream",
     "text": [
      "Epoch 120 Loss 0.04354809460609338\n",
      "train accuracy is: 0.9555166082457018, test accuracy is 0.9606854838709677\n"
     ]
    },
    {
     "name": "stdout",
     "output_type": "stream",
     "text": [
      "Epoch 130 Loss 0.042628413210168296\n",
      "train accuracy is: 0.956100817893507, test accuracy is 0.9601814516129032\n"
     ]
    },
    {
     "name": "stdout",
     "output_type": "stream",
     "text": [
      "Epoch 140 Loss 0.04180832924748064\n",
      "train accuracy is: 0.957269237189117, test accuracy is 0.9601814516129032\n"
     ]
    },
    {
     "name": "stdout",
     "output_type": "stream",
     "text": [
      "Epoch 150 Loss 0.04107309220998759\n",
      "train accuracy is: 0.9579369053580371, test accuracy is 0.9601814516129032\n"
     ]
    },
    {
     "name": "stdout",
     "output_type": "stream",
     "text": [
      "Epoch 160 Loss 0.040408057286301674\n",
      "train accuracy is: 0.9582707394424971, test accuracy is 0.9601814516129032\n"
     ]
    },
    {
     "name": "stdout",
     "output_type": "stream",
     "text": [
      "Epoch 170 Loss 0.039802822060661644\n",
      "train accuracy is: 0.9591053246536472, test accuracy is 0.9606854838709677\n"
     ]
    },
    {
     "name": "stdout",
     "output_type": "stream",
     "text": [
      "Epoch 180 Loss 0.03924946824528416\n",
      "train accuracy is: 0.9596895343014522, test accuracy is 0.9611895161290323\n"
     ]
    },
    {
     "name": "stdout",
     "output_type": "stream",
     "text": [
      "Epoch 190 Loss 0.0387387359056222\n",
      "train accuracy is: 0.9601068269070272, test accuracy is 0.9616935483870968\n"
     ]
    },
    {
     "name": "stdout",
     "output_type": "stream",
     "text": [
      "Epoch 200 Loss 0.03826690570153349\n",
      "train accuracy is: 0.9601902854281422, test accuracy is 0.9621975806451613\n"
     ]
    },
    {
     "name": "stdout",
     "output_type": "stream",
     "text": [
      "Epoch 210 Loss 0.03782983992380536\n",
      "train accuracy is: 0.9603572024703723, test accuracy is 0.9627016129032258\n"
     ]
    },
    {
     "name": "stdout",
     "output_type": "stream",
     "text": [
      "Epoch 220 Loss 0.03742210672882914\n",
      "train accuracy is: 0.9608579535970623, test accuracy is 0.9632056451612904\n"
     ]
    },
    {
     "name": "stdout",
     "output_type": "stream",
     "text": [
      "Epoch 230 Loss 0.037040165253571705\n",
      "train accuracy is: 0.9609414121181773, test accuracy is 0.9632056451612904\n"
     ]
    },
    {
     "name": "stdout",
     "output_type": "stream",
     "text": [
      "Epoch 240 Loss 0.03668297663498821\n",
      "train accuracy is: 0.9613587047237523, test accuracy is 0.9632056451612904\n"
     ]
    },
    {
     "data": {
      "text/plain": [
       "0.032902312577669304"
      ]
     },
     "execution_count": 23,
     "metadata": {},
     "output_type": "execute_result"
    }
   ],
   "source": [
    "learner2.train_loop(dl)"
   ]
  },
  {
   "cell_type": "markdown",
   "metadata": {
    "papermill": {
     "duration": 0.043506,
     "end_time": "2020-08-27T00:31:33.070071",
     "exception": false,
     "start_time": "2020-08-27T00:31:33.026565",
     "status": "completed"
    },
    "tags": []
   },
   "source": [
    "### Comparing results of NN and LR"
   ]
  },
  {
   "cell_type": "code",
   "execution_count": 24,
   "metadata": {
    "execution": {
     "iopub.execute_input": "2020-08-27T00:31:33.162096Z",
     "iopub.status.busy": "2020-08-27T00:31:33.161138Z",
     "iopub.status.idle": "2020-08-27T00:31:33.396817Z",
     "shell.execute_reply": "2020-08-27T00:31:33.397354Z"
    },
    "papermill": {
     "duration": 0.284413,
     "end_time": "2020-08-27T00:31:33.397523",
     "exception": false,
     "start_time": "2020-08-27T00:31:33.113110",
     "status": "completed"
    },
    "tags": []
   },
   "outputs": [
    {
     "data": {
      "text/plain": [
       "<matplotlib.legend.Legend at 0x7fc62d9a22e8>"
      ]
     },
     "execution_count": 24,
     "metadata": {},
     "output_type": "execute_result"
    },
    {
     "data": {
      "image/png": "[encoded data removed]",
      "text/plain": [
       "<Figure size 576x360 with 1 Axes>"
      ]
     },
     "metadata": {
      "needs_background": "light"
     },
     "output_type": "display_data"
    }
   ],
   "source": [
    "plt.figure(figsize=(8,5))\n",
    "plt.plot(acc1.val_accuracies, 'g-', label = \"Val Accuracies - NN\")\n",
    "plt.plot(acc1.accuracies, 'r-', label = \"Accuracies - NN\")\n",
    "plt.plot(acc2.val_accuracies, 'b-', label = \"Val Accuracies - Logistic Reg\")\n",
    "plt.plot(acc2.accuracies, 'k-', label = \"Accuracies - Logistic Reg\")\n",
    "plt.ylim(0.8,1) ## for a more spread out view\n",
    "plt.legend()"
   ]
  },
  {
   "cell_type": "markdown",
   "metadata": {
    "papermill": {
     "duration": 0.043227,
     "end_time": "2020-08-27T00:31:33.486085",
     "exception": false,
     "start_time": "2020-08-27T00:31:33.442858",
     "status": "completed"
    },
    "tags": []
   },
   "source": [
    "### Clearly NN has a better accuracy over LR; NN is overfitting - Validation accuracy (green) has dropped below training accuracy (orange), also they are diverging. This problem is not seen in LR"
   ]
  },
  {
   "cell_type": "markdown",
   "metadata": {
    "papermill": {
     "duration": 0.042808,
     "end_time": "2020-08-27T00:31:33.577072",
     "exception": false,
     "start_time": "2020-08-27T00:31:33.534264",
     "status": "completed"
    },
    "tags": []
   },
   "source": [
    "##### Now we will be moving through the network, till the output of the second last affine where we get a 2 dimensional output. We will be plotting this 2d output and probability contours"
   ]
  },
  {
   "cell_type": "code",
   "execution_count": 25,
   "metadata": {
    "execution": {
     "iopub.execute_input": "2020-08-27T00:31:33.662339Z",
     "iopub.status.busy": "2020-08-27T00:31:33.661832Z",
     "iopub.status.idle": "2020-08-27T00:31:33.673654Z",
     "shell.execute_reply": "2020-08-27T00:31:33.673170Z"
    },
    "papermill": {
     "duration": 0.05552,
     "end_time": "2020-08-27T00:31:33.673765",
     "exception": false,
     "start_time": "2020-08-27T00:31:33.618245",
     "status": "completed"
    },
    "tags": []
   },
   "outputs": [],
   "source": [
    "model_new = Model(layers[:-2])"
   ]
  },
  {
   "cell_type": "code",
   "execution_count": 26,
   "metadata": {
    "execution": {
     "iopub.execute_input": "2020-08-27T00:31:33.773754Z",
     "iopub.status.busy": "2020-08-27T00:31:33.773224Z",
     "iopub.status.idle": "2020-08-27T00:31:33.801214Z",
     "shell.execute_reply": "2020-08-27T00:31:33.801918Z"
    },
    "papermill": {
     "duration": 0.073795,
     "end_time": "2020-08-27T00:31:33.802082",
     "exception": false,
     "start_time": "2020-08-27T00:31:33.728287",
     "status": "completed"
    },
    "tags": []
   },
   "outputs": [],
   "source": [
    "plot_testing = model_new(testing_xdata)"
   ]
  },
  {
   "cell_type": "markdown",
   "metadata": {
    "papermill": {
     "duration": 0.065968,
     "end_time": "2020-08-27T00:31:33.916532",
     "exception": false,
     "start_time": "2020-08-27T00:31:33.850564",
     "status": "completed"
    },
    "tags": []
   },
   "source": [
    "##### Plotting the scatter plot of points and color coding by class"
   ]
  },
  {
   "cell_type": "code",
   "execution_count": 27,
   "metadata": {
    "execution": {
     "iopub.execute_input": "2020-08-27T00:31:34.006854Z",
     "iopub.status.busy": "2020-08-27T00:31:34.006311Z",
     "iopub.status.idle": "2020-08-27T00:31:34.219533Z",
     "shell.execute_reply": "2020-08-27T00:31:34.220120Z"
    },
    "papermill": {
     "duration": 0.259777,
     "end_time": "2020-08-27T00:31:34.220284",
     "exception": false,
     "start_time": "2020-08-27T00:31:33.960507",
     "status": "completed"
    },
    "tags": []
   },
   "outputs": [
    {
     "data": {
      "image/png": "[encoded data removed]",
      "text/plain": [
       "<Figure size 576x504 with 1 Axes>"
      ]
     },
     "metadata": {
      "needs_background": "light"
     },
     "output_type": "display_data"
    }
   ],
   "source": [
    "plt.figure(figsize=(8,7))\n",
    "plt.scatter(plot_testing[:,0], plot_testing[:,1], alpha = 0.1, c = y_test.ravel());"
   ]
  },
  {
   "cell_type": "markdown",
   "metadata": {
    "papermill": {
     "duration": 0.049028,
     "end_time": "2020-08-27T00:31:34.315939",
     "exception": false,
     "start_time": "2020-08-27T00:31:34.266911",
     "status": "completed"
    },
    "tags": []
   },
   "source": [
    "##### Plotting probability contours"
   ]
  },
  {
   "cell_type": "code",
   "execution_count": 28,
   "metadata": {
    "execution": {
     "iopub.execute_input": "2020-08-27T00:31:34.421755Z",
     "iopub.status.busy": "2020-08-27T00:31:34.421199Z",
     "iopub.status.idle": "2020-08-27T00:31:34.432701Z",
     "shell.execute_reply": "2020-08-27T00:31:34.432215Z"
    },
    "papermill": {
     "duration": 0.064591,
     "end_time": "2020-08-27T00:31:34.432816",
     "exception": false,
     "start_time": "2020-08-27T00:31:34.368225",
     "status": "completed"
    },
    "tags": []
   },
   "outputs": [],
   "source": [
    "model_prob = Model(layers[-2:]) ## picking only last two layers to get probability. That is affine followed by sigmoid"
   ]
  },
  {
   "cell_type": "code",
   "execution_count": 29,
   "metadata": {
    "execution": {
     "iopub.execute_input": "2020-08-27T00:31:34.524886Z",
     "iopub.status.busy": "2020-08-27T00:31:34.524363Z",
     "iopub.status.idle": "2020-08-27T00:31:34.537508Z",
     "shell.execute_reply": "2020-08-27T00:31:34.537942Z"
    },
    "papermill": {
     "duration": 0.062525,
     "end_time": "2020-08-27T00:31:34.538072",
     "exception": false,
     "start_time": "2020-08-27T00:31:34.475547",
     "status": "completed"
    },
    "tags": []
   },
   "outputs": [],
   "source": [
    "xgrid = np.linspace(-4, 1, 100) ## Adjust these values based on above chart, roughly -4 to 1\n",
    "ygrid = np.linspace(-7.5, 7.5, 100) ## Adjust these values based on above chart, roughly -7.5, 7.5\n",
    "xg, yg = np.meshgrid(xgrid, ygrid)\n",
    "# xg and yg are now both 100X100, lets convert them to single arrays \n",
    "\n",
    "xg_interim = np.ravel(xg)\n",
    "yg_interim = np.ravel(yg)\n",
    "\n",
    "## xg_interim, yg_interim are now arrays of len 10000, now we will stack them and then transpose to get desired shape of n rows, 2 columns\n",
    "\n",
    "X_interim = np.vstack((xg_interim, yg_interim)) ## Please note vstack takes in a tuple\n",
    "X = X_interim.T\n",
    "\n",
    "## We want a shape of n rows and 2 columns to be able to feed this to last affine\n",
    "## This last affine takes only two columns, hence the above transformation\n",
    "probability_contour = model_prob(X).reshape(100,100) ## to make it consistent with xg, yg"
   ]
  },
  {
   "cell_type": "code",
   "execution_count": 30,
   "metadata": {
    "execution": {
     "iopub.execute_input": "2020-08-27T00:31:34.642162Z",
     "iopub.status.busy": "2020-08-27T00:31:34.641637Z",
     "iopub.status.idle": "2020-08-27T00:31:34.891574Z",
     "shell.execute_reply": "2020-08-27T00:31:34.891120Z"
    },
    "papermill": {
     "duration": 0.306871,
     "end_time": "2020-08-27T00:31:34.891698",
     "exception": false,
     "start_time": "2020-08-27T00:31:34.584827",
     "status": "completed"
    },
    "tags": []
   },
   "outputs": [
    {
     "data": {
      "image/png": "[encoded data removed]",
      "text/plain": [
       "<Figure size 576x504 with 1 Axes>"
      ]
     },
     "metadata": {
      "needs_background": "light"
     },
     "output_type": "display_data"
    }
   ],
   "source": [
    "plt.figure(figsize=(8,7))\n",
    "plt.scatter(plot_testing[:,0], plot_testing[:,1], alpha = 0.1, c = y_test.ravel())\n",
    "contours = plt.contour(xg,yg,probability_contour)\n",
    "plt.clabel(contours, inline = True );"
   ]
  }
 ],
 "metadata": {
  "kernelspec": {
   "display_name": "Python 3",
   "language": "python",
   "name": "python3"
  },
  "language_info": {
   "codemirror_mode": {
    "name": "ipython",
    "version": 3
   },
   "file_extension": ".py",
   "mimetype": "text/x-python",
   "name": "python",
   "nbconvert_exporter": "python",
   "pygments_lexer": "ipython3",
   "version": "3.6.11"
  },
  "papermill": {
   "duration": 159.193667,
   "end_time": "2020-08-27T00:31:35.243505",
   "environment_variables": {},
   "exception": null,
   "input_path": "2020-08-07-NN-new.ipynb",
   "output_path": "2020-08-07-NN-new.ipynb",
   "parameters": {},
   "start_time": "2020-08-27T00:28:56.049838",
   "version": "2.1.2"
  }
 },
 "nbformat": 4,
 "nbformat_minor": 4
}