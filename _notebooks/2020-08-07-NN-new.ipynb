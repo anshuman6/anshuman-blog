{
 "cells": [
  {
   "cell_type": "markdown",
   "metadata": {
    "papermill": {
     "duration": 0.037994,
     "end_time": "2020-08-20T20:13:15.242563",
     "exception": false,
     "start_time": "2020-08-20T20:13:15.204569",
     "status": "completed"
    },
    "tags": []
   },
   "source": [
    "# \"Building a basic Neural Network from scratch - Kudzu\"\n",
    "\n",
    "- badges: true\n",
    "- author: Anshuman Gupta"
   ]
  },
  {
   "cell_type": "markdown",
   "metadata": {
    "papermill": {
     "duration": 0.028739,
     "end_time": "2020-08-20T20:13:15.303677",
     "exception": false,
     "start_time": "2020-08-20T20:13:15.274938",
     "status": "completed"
    },
    "tags": []
   },
   "source": [
    "#### In this project, the idea is to write a classifier to differentiate between handwritten digits 3 and 8, from the MNIST database.\n",
    "\n",
    "#### I will using a custom built neural network library called Kudzu.This has been developed as a part of KTF/Foundations course of Univ.ai (www.univ.ai). The source code for Kudzu Library and and this notebook can be found on my git-hub profile : www.https://github.com/anshuman6 under the folder project-solution. Any feedback and comments are welcome. Please feel free to email me at: anshuman6@gmail.com\n",
    "\n",
    "#### 1. I will be using the MNIST database. \n",
    "\n",
    "#### 2. I will be comparing the results of the 4 layer NN to a standard logistic regression"
   ]
  },
  {
   "cell_type": "markdown",
   "metadata": {
    "papermill": {
     "duration": 0.038141,
     "end_time": "2020-08-20T20:13:15.370060",
     "exception": false,
     "start_time": "2020-08-20T20:13:15.331919",
     "status": "completed"
    },
    "tags": []
   },
   "source": [
    "##### Importing all the necessary libraries"
   ]
  },
  {
   "cell_type": "code",
   "execution_count": 1,
   "metadata": {
    "execution": {
     "iopub.execute_input": "2020-08-20T20:13:15.436591Z",
     "iopub.status.busy": "2020-08-20T20:13:15.435756Z",
     "iopub.status.idle": "2020-08-20T20:13:15.454436Z",
     "shell.execute_reply": "2020-08-20T20:13:15.453300Z"
    },
    "papermill": {
     "duration": 0.053812,
     "end_time": "2020-08-20T20:13:15.454607",
     "exception": false,
     "start_time": "2020-08-20T20:13:15.400795",
     "status": "completed"
    },
    "tags": []
   },
   "outputs": [],
   "source": [
    "%load_ext autoreload\n",
    "%autoreload 2"
   ]
  },
  {
   "cell_type": "code",
   "execution_count": 2,
   "metadata": {
    "execution": {
     "iopub.execute_input": "2020-08-20T20:13:15.526884Z",
     "iopub.status.busy": "2020-08-20T20:13:15.521360Z",
     "iopub.status.idle": "2020-08-20T20:13:16.120386Z",
     "shell.execute_reply": "2020-08-20T20:13:16.120894Z"
    },
    "papermill": {
     "duration": 0.638176,
     "end_time": "2020-08-20T20:13:16.121054",
     "exception": false,
     "start_time": "2020-08-20T20:13:15.482878",
     "status": "completed"
    },
    "tags": []
   },
   "outputs": [],
   "source": [
    "%matplotlib inline\n",
    "import numpy as np\n",
    "import matplotlib.pyplot as plt\n",
    "import pandas as pd"
   ]
  },
  {
   "cell_type": "markdown",
   "metadata": {
    "papermill": {
     "duration": 0.029624,
     "end_time": "2020-08-20T20:13:16.179486",
     "exception": false,
     "start_time": "2020-08-20T20:13:16.149862",
     "status": "completed"
    },
    "tags": []
   },
   "source": [
    "##### The following command helps us download MNIST from notebook itself. You can skip this if you already have MNIST. You can also download it via your terminal."
   ]
  },
  {
   "cell_type": "code",
   "execution_count": 3,
   "metadata": {
    "execution": {
     "iopub.execute_input": "2020-08-20T20:13:16.256930Z",
     "iopub.status.busy": "2020-08-20T20:13:16.246787Z",
     "iopub.status.idle": "2020-08-20T20:13:17.801789Z",
     "shell.execute_reply": "2020-08-20T20:13:17.800819Z"
    },
    "papermill": {
     "duration": 1.593096,
     "end_time": "2020-08-20T20:13:17.801971",
     "exception": false,
     "start_time": "2020-08-20T20:13:16.208875",
     "status": "completed"
    },
    "tags": []
   },
   "outputs": [
    {
     "name": "stdout",
     "output_type": "stream",
     "text": [
      "Collecting mnist\r\n"
     ]
    },
    {
     "name": "stdout",
     "output_type": "stream",
     "text": [
      "  Downloading mnist-0.2.2-py2.py3-none-any.whl (3.5 kB)\r\n"
     ]
    },
    {
     "name": "stdout",
     "output_type": "stream",
     "text": [
      "Requirement already satisfied: numpy in /opt/hostedtoolcache/Python/3.6.11/x64/lib/python3.6/site-packages (from mnist) (1.19.1)\r\n"
     ]
    },
    {
     "name": "stdout",
     "output_type": "stream",
     "text": [
      "Installing collected packages: mnist\r\n"
     ]
    },
    {
     "name": "stdout",
     "output_type": "stream",
     "text": [
      "Successfully installed mnist-0.2.2\r\n"
     ]
    }
   ],
   "source": [
    "!pip install mnist # Please note, it is commented out for now, you can remove comment if you want to install it"
   ]
  },
  {
   "cell_type": "markdown",
   "metadata": {
    "papermill": {
     "duration": 0.029808,
     "end_time": "2020-08-20T20:13:17.865233",
     "exception": false,
     "start_time": "2020-08-20T20:13:17.835425",
     "status": "completed"
    },
    "tags": []
   },
   "source": [
    "#### Preparing the Data"
   ]
  },
  {
   "cell_type": "code",
   "execution_count": 4,
   "metadata": {
    "execution": {
     "iopub.execute_input": "2020-08-20T20:13:17.942159Z",
     "iopub.status.busy": "2020-08-20T20:13:17.928630Z",
     "iopub.status.idle": "2020-08-20T20:13:17.945958Z",
     "shell.execute_reply": "2020-08-20T20:13:17.945258Z"
    },
    "papermill": {
     "duration": 0.051109,
     "end_time": "2020-08-20T20:13:17.946112",
     "exception": false,
     "start_time": "2020-08-20T20:13:17.895003",
     "status": "completed"
    },
    "tags": []
   },
   "outputs": [],
   "source": [
    "import mnist"
   ]
  },
  {
   "cell_type": "code",
   "execution_count": 5,
   "metadata": {
    "execution": {
     "iopub.execute_input": "2020-08-20T20:13:18.024237Z",
     "iopub.status.busy": "2020-08-20T20:13:18.014708Z",
     "iopub.status.idle": "2020-08-20T20:13:19.010881Z",
     "shell.execute_reply": "2020-08-20T20:13:19.011451Z"
    },
    "papermill": {
     "duration": 1.034122,
     "end_time": "2020-08-20T20:13:19.011626",
     "exception": false,
     "start_time": "2020-08-20T20:13:17.977504",
     "status": "completed"
    },
    "tags": []
   },
   "outputs": [],
   "source": [
    "train_images = mnist.train_images()\n",
    "train_labels = mnist.train_labels()"
   ]
  },
  {
   "cell_type": "code",
   "execution_count": 6,
   "metadata": {
    "execution": {
     "iopub.execute_input": "2020-08-20T20:13:19.079176Z",
     "iopub.status.busy": "2020-08-20T20:13:19.078411Z",
     "iopub.status.idle": "2020-08-20T20:13:19.101190Z",
     "shell.execute_reply": "2020-08-20T20:13:19.100632Z"
    },
    "papermill": {
     "duration": 0.058703,
     "end_time": "2020-08-20T20:13:19.101328",
     "exception": false,
     "start_time": "2020-08-20T20:13:19.042625",
     "status": "completed"
    },
    "tags": []
   },
   "outputs": [
    {
     "data": {
      "text/plain": [
       "((60000, 28, 28), (60000,))"
      ]
     },
     "execution_count": 6,
     "metadata": {},
     "output_type": "execute_result"
    }
   ],
   "source": [
    "train_images.shape, train_labels.shape"
   ]
  },
  {
   "cell_type": "code",
   "execution_count": 7,
   "metadata": {
    "execution": {
     "iopub.execute_input": "2020-08-20T20:13:19.175277Z",
     "iopub.status.busy": "2020-08-20T20:13:19.174263Z",
     "iopub.status.idle": "2020-08-20T20:13:19.536097Z",
     "shell.execute_reply": "2020-08-20T20:13:19.536704Z"
    },
    "papermill": {
     "duration": 0.401449,
     "end_time": "2020-08-20T20:13:19.536877",
     "exception": false,
     "start_time": "2020-08-20T20:13:19.135428",
     "status": "completed"
    },
    "tags": []
   },
   "outputs": [],
   "source": [
    "test_images = mnist.test_images()\n",
    "test_labels = mnist.test_labels()"
   ]
  },
  {
   "cell_type": "code",
   "execution_count": 8,
   "metadata": {
    "execution": {
     "iopub.execute_input": "2020-08-20T20:13:19.610111Z",
     "iopub.status.busy": "2020-08-20T20:13:19.609422Z",
     "iopub.status.idle": "2020-08-20T20:13:19.621152Z",
     "shell.execute_reply": "2020-08-20T20:13:19.621814Z"
    },
    "papermill": {
     "duration": 0.050764,
     "end_time": "2020-08-20T20:13:19.622000",
     "exception": false,
     "start_time": "2020-08-20T20:13:19.571236",
     "status": "completed"
    },
    "tags": []
   },
   "outputs": [
    {
     "data": {
      "text/plain": [
       "((10000, 28, 28), (10000,))"
      ]
     },
     "execution_count": 8,
     "metadata": {},
     "output_type": "execute_result"
    }
   ],
   "source": [
    "test_images.shape, test_labels.shape"
   ]
  },
  {
   "cell_type": "code",
   "execution_count": 9,
   "metadata": {
    "execution": {
     "iopub.execute_input": "2020-08-20T20:13:19.687650Z",
     "iopub.status.busy": "2020-08-20T20:13:19.686982Z",
     "iopub.status.idle": "2020-08-20T20:13:19.871771Z",
     "shell.execute_reply": "2020-08-20T20:13:19.873238Z"
    },
    "papermill": {
     "duration": 0.221189,
     "end_time": "2020-08-20T20:13:19.873939",
     "exception": false,
     "start_time": "2020-08-20T20:13:19.652750",
     "status": "completed"
    },
    "tags": []
   },
   "outputs": [
    {
     "name": "stdout",
     "output_type": "stream",
     "text": [
      "2\n"
     ]
    },
    {
     "data": {
      "text/plain": [
       "<matplotlib.image.AxesImage at 0x7f87635a7278>"
      ]
     },
     "execution_count": 9,
     "metadata": {},
     "output_type": "execute_result"
    },
    {
     "data": {
      "image/png": "[encoded data removed]",
      "text/plain": [
       "<Figure size 432x288 with 1 Axes>"
      ]
     },
     "metadata": {
      "needs_background": "light"
     },
     "output_type": "display_data"
    }
   ],
   "source": [
    "image_index = 7776 # You may select anything up to 60,000\n",
    "print(train_labels[image_index]) \n",
    "plt.imshow(train_images[image_index], cmap='Greys')"
   ]
  },
  {
   "cell_type": "markdown",
   "metadata": {
    "papermill": {
     "duration": 0.03103,
     "end_time": "2020-08-20T20:13:19.945946",
     "exception": false,
     "start_time": "2020-08-20T20:13:19.914916",
     "status": "completed"
    },
    "tags": []
   },
   "source": [
    "## Filter data to get 3 and 8 out"
   ]
  },
  {
   "cell_type": "code",
   "execution_count": 10,
   "metadata": {
    "execution": {
     "iopub.execute_input": "2020-08-20T20:13:20.038776Z",
     "iopub.status.busy": "2020-08-20T20:13:20.031919Z",
     "iopub.status.idle": "2020-08-20T20:13:20.052708Z",
     "shell.execute_reply": "2020-08-20T20:13:20.052134Z"
    },
    "papermill": {
     "duration": 0.075787,
     "end_time": "2020-08-20T20:13:20.052866",
     "exception": false,
     "start_time": "2020-08-20T20:13:19.977079",
     "status": "completed"
    },
    "tags": []
   },
   "outputs": [],
   "source": [
    "train_filter = np.where((train_labels == 3 ) | (train_labels == 8))\n",
    "test_filter = np.where((test_labels == 3) | (test_labels == 8))\n",
    "X_train, y_train = train_images[train_filter], train_labels[train_filter]\n",
    "X_test, y_test = test_images[test_filter], test_labels[test_filter]"
   ]
  },
  {
   "cell_type": "markdown",
   "metadata": {
    "papermill": {
     "duration": 0.035284,
     "end_time": "2020-08-20T20:13:20.129361",
     "exception": false,
     "start_time": "2020-08-20T20:13:20.094077",
     "status": "completed"
    },
    "tags": []
   },
   "source": [
    "##### We normalize the pizel values in the 0 to 1 range"
   ]
  },
  {
   "cell_type": "code",
   "execution_count": 11,
   "metadata": {
    "execution": {
     "iopub.execute_input": "2020-08-20T20:13:20.218924Z",
     "iopub.status.busy": "2020-08-20T20:13:20.218158Z",
     "iopub.status.idle": "2020-08-20T20:13:20.285837Z",
     "shell.execute_reply": "2020-08-20T20:13:20.285262Z"
    },
    "papermill": {
     "duration": 0.11665,
     "end_time": "2020-08-20T20:13:20.286019",
     "exception": false,
     "start_time": "2020-08-20T20:13:20.169369",
     "status": "completed"
    },
    "tags": []
   },
   "outputs": [],
   "source": [
    "X_train = X_train/255.\n",
    "X_test = X_test/255."
   ]
  },
  {
   "cell_type": "markdown",
   "metadata": {
    "papermill": {
     "duration": 0.033005,
     "end_time": "2020-08-20T20:13:20.353227",
     "exception": false,
     "start_time": "2020-08-20T20:13:20.320222",
     "status": "completed"
    },
    "tags": []
   },
   "source": [
    "And setup the labels as 1 (when the digit is 3) and 0 (when the digit is 8)"
   ]
  },
  {
   "cell_type": "code",
   "execution_count": 12,
   "metadata": {
    "execution": {
     "iopub.execute_input": "2020-08-20T20:13:20.428037Z",
     "iopub.status.busy": "2020-08-20T20:13:20.427354Z",
     "iopub.status.idle": "2020-08-20T20:13:20.440133Z",
     "shell.execute_reply": "2020-08-20T20:13:20.440709Z"
    },
    "papermill": {
     "duration": 0.05128,
     "end_time": "2020-08-20T20:13:20.440876",
     "exception": false,
     "start_time": "2020-08-20T20:13:20.389596",
     "status": "completed"
    },
    "tags": []
   },
   "outputs": [],
   "source": [
    "y_train = 1*(y_train==3)\n",
    "y_test = 1*(y_test==3)"
   ]
  },
  {
   "cell_type": "code",
   "execution_count": 13,
   "metadata": {
    "execution": {
     "iopub.execute_input": "2020-08-20T20:13:20.515970Z",
     "iopub.status.busy": "2020-08-20T20:13:20.515310Z",
     "iopub.status.idle": "2020-08-20T20:13:20.530165Z",
     "shell.execute_reply": "2020-08-20T20:13:20.530754Z"
    },
    "papermill": {
     "duration": 0.052433,
     "end_time": "2020-08-20T20:13:20.530935",
     "exception": false,
     "start_time": "2020-08-20T20:13:20.478502",
     "status": "completed"
    },
    "tags": []
   },
   "outputs": [
    {
     "data": {
      "text/plain": [
       "((11982, 28, 28), (1984, 28, 28))"
      ]
     },
     "execution_count": 13,
     "metadata": {},
     "output_type": "execute_result"
    }
   ],
   "source": [
    "X_train.shape, X_test.shape"
   ]
  },
  {
   "cell_type": "markdown",
   "metadata": {
    "papermill": {
     "duration": 0.03487,
     "end_time": "2020-08-20T20:13:20.605137",
     "exception": false,
     "start_time": "2020-08-20T20:13:20.570267",
     "status": "completed"
    },
    "tags": []
   },
   "source": [
    "##### We reshape the data to flatten the image pixels into a set of features or co-variates:"
   ]
  },
  {
   "cell_type": "code",
   "execution_count": 14,
   "metadata": {
    "execution": {
     "iopub.execute_input": "2020-08-20T20:13:20.682899Z",
     "iopub.status.busy": "2020-08-20T20:13:20.682236Z",
     "iopub.status.idle": "2020-08-20T20:13:20.700332Z",
     "shell.execute_reply": "2020-08-20T20:13:20.700819Z"
    },
    "papermill": {
     "duration": 0.058619,
     "end_time": "2020-08-20T20:13:20.700984",
     "exception": false,
     "start_time": "2020-08-20T20:13:20.642365",
     "status": "completed"
    },
    "tags": []
   },
   "outputs": [
    {
     "data": {
      "text/plain": [
       "((11982, 784), (1984, 784))"
      ]
     },
     "execution_count": 14,
     "metadata": {},
     "output_type": "execute_result"
    }
   ],
   "source": [
    "X_train = X_train.reshape(X_train.shape[0], -1)\n",
    "X_test = X_test.reshape(X_test.shape[0], -1)\n",
    "X_train.shape, X_test.shape"
   ]
  },
  {
   "cell_type": "markdown",
   "metadata": {
    "papermill": {
     "duration": 0.03705,
     "end_time": "2020-08-20T20:13:20.772995",
     "exception": false,
     "start_time": "2020-08-20T20:13:20.735945",
     "status": "completed"
    },
    "tags": []
   },
   "source": [
    "##### Importing Kudzu library and its functionality"
   ]
  },
  {
   "cell_type": "code",
   "execution_count": 15,
   "metadata": {
    "execution": {
     "iopub.execute_input": "2020-08-20T20:13:20.850237Z",
     "iopub.status.busy": "2020-08-20T20:13:20.849400Z",
     "iopub.status.idle": "2020-08-20T20:13:20.867604Z",
     "shell.execute_reply": "2020-08-20T20:13:20.868119Z"
    },
    "papermill": {
     "duration": 0.060783,
     "end_time": "2020-08-20T20:13:20.868294",
     "exception": false,
     "start_time": "2020-08-20T20:13:20.807511",
     "status": "completed"
    },
    "tags": []
   },
   "outputs": [],
   "source": [
    "from kudzu.data import Data, Dataloader, Sampler\n",
    "from kudzu.callbacks import AccCallback\n",
    "from kudzu.loss import MSE\n",
    "from kudzu.layer import Affine, Sigmoid\n",
    "from kudzu.model import Model\n",
    "from kudzu.optim import GD\n",
    "from kudzu.train import Learner\n",
    "from kudzu.callbacks import ClfCallback\n",
    "from kudzu.layer import Sigmoid\n",
    "from kudzu.layer import Relu"
   ]
  },
  {
   "cell_type": "markdown",
   "metadata": {
    "papermill": {
     "duration": 0.034159,
     "end_time": "2020-08-20T20:13:20.936709",
     "exception": false,
     "start_time": "2020-08-20T20:13:20.902550",
     "status": "completed"
    },
    "tags": []
   },
   "source": [
    "##### We are creating a class, just so that we can use it to store our parameters for us"
   ]
  },
  {
   "cell_type": "code",
   "execution_count": 16,
   "metadata": {
    "execution": {
     "iopub.execute_input": "2020-08-20T20:13:21.027731Z",
     "iopub.status.busy": "2020-08-20T20:13:21.027073Z",
     "iopub.status.idle": "2020-08-20T20:13:21.039777Z",
     "shell.execute_reply": "2020-08-20T20:13:21.040414Z"
    },
    "papermill": {
     "duration": 0.064461,
     "end_time": "2020-08-20T20:13:21.040565",
     "exception": false,
     "start_time": "2020-08-20T20:13:20.976104",
     "status": "completed"
    },
    "tags": []
   },
   "outputs": [],
   "source": [
    "class Config:\n",
    "    pass\n",
    "config = Config()\n",
    "config.lr = 0.001\n",
    "config.num_epochs = 250\n",
    "config.bs = 50"
   ]
  },
  {
   "cell_type": "markdown",
   "metadata": {
    "papermill": {
     "duration": 0.038255,
     "end_time": "2020-08-20T20:13:21.120684",
     "exception": false,
     "start_time": "2020-08-20T20:13:21.082429",
     "status": "completed"
    },
    "tags": []
   },
   "source": [
    "##### Initializing Data"
   ]
  },
  {
   "cell_type": "code",
   "execution_count": 17,
   "metadata": {
    "execution": {
     "iopub.execute_input": "2020-08-20T20:13:21.204717Z",
     "iopub.status.busy": "2020-08-20T20:13:21.204056Z",
     "iopub.status.idle": "2020-08-20T20:13:21.214631Z",
     "shell.execute_reply": "2020-08-20T20:13:21.215169Z"
    },
    "papermill": {
     "duration": 0.05618,
     "end_time": "2020-08-20T20:13:21.215351",
     "exception": false,
     "start_time": "2020-08-20T20:13:21.159171",
     "status": "completed"
    },
    "tags": []
   },
   "outputs": [],
   "source": [
    "data = Data(X_train, y_train.reshape(-1,1))\n",
    "loss = MSE()\n",
    "opt = GD(config.lr)\n",
    "sampler = Sampler(data, config.bs, shuffle=True)\n",
    "dl = Dataloader(data, sampler)"
   ]
  },
  {
   "cell_type": "markdown",
   "metadata": {
    "papermill": {
     "duration": 0.043232,
     "end_time": "2020-08-20T20:13:21.294806",
     "exception": false,
     "start_time": "2020-08-20T20:13:21.251574",
     "status": "completed"
    },
    "tags": []
   },
   "source": [
    "##### Constructing 2 different layers, one for NN and one only for logistic regression."
   ]
  },
  {
   "cell_type": "markdown",
   "metadata": {
    "papermill": {
     "duration": 0.037602,
     "end_time": "2020-08-20T20:13:21.386709",
     "exception": false,
     "start_time": "2020-08-20T20:13:21.349107",
     "status": "completed"
    },
    "tags": []
   },
   "source": [
    "##### Creating containers for data to be passed, to calculate accuracies"
   ]
  },
  {
   "cell_type": "code",
   "execution_count": 18,
   "metadata": {
    "execution": {
     "iopub.execute_input": "2020-08-20T20:13:21.461616Z",
     "iopub.status.busy": "2020-08-20T20:13:21.460953Z",
     "iopub.status.idle": "2020-08-20T20:13:21.475357Z",
     "shell.execute_reply": "2020-08-20T20:13:21.474632Z"
    },
    "papermill": {
     "duration": 0.051719,
     "end_time": "2020-08-20T20:13:21.475504",
     "exception": false,
     "start_time": "2020-08-20T20:13:21.423785",
     "status": "completed"
    },
    "tags": []
   },
   "outputs": [],
   "source": [
    "training_xdata = X_train\n",
    "testing_xdata = X_test\n",
    "training_ydata = y_train.reshape(-1,1)\n",
    "testing_ydata = y_test.reshape(-1,1)"
   ]
  },
  {
   "cell_type": "markdown",
   "metadata": {
    "papermill": {
     "duration": 0.034922,
     "end_time": "2020-08-20T20:13:21.546716",
     "exception": false,
     "start_time": "2020-08-20T20:13:21.511794",
     "status": "completed"
    },
    "tags": []
   },
   "source": [
    "##### Initializing models and Running training loop: "
   ]
  },
  {
   "cell_type": "code",
   "execution_count": 19,
   "metadata": {
    "execution": {
     "iopub.execute_input": "2020-08-20T20:13:21.636594Z",
     "iopub.status.busy": "2020-08-20T20:13:21.635897Z",
     "iopub.status.idle": "2020-08-20T20:13:21.656429Z",
     "shell.execute_reply": "2020-08-20T20:13:21.655829Z"
    },
    "papermill": {
     "duration": 0.072009,
     "end_time": "2020-08-20T20:13:21.656582",
     "exception": false,
     "start_time": "2020-08-20T20:13:21.584573",
     "status": "completed"
    },
    "tags": []
   },
   "outputs": [],
   "source": [
    "layers = [Affine(\"first\", 784, 100), Relu(\"first\"), Affine(\"second\", 100, 100), Relu(\"second\"), Affine(\"third\", 100, 2), Affine(\"final\", 2, 1), Sigmoid(\"final\")]\n",
    "\n",
    "model_neural = Model(layers)\n",
    "model_logistic = Model([Affine(\"logits\", 784, 1), Sigmoid(\"sigmoid\")])"
   ]
  },
  {
   "cell_type": "code",
   "execution_count": 20,
   "metadata": {
    "execution": {
     "iopub.execute_input": "2020-08-20T20:13:21.744211Z",
     "iopub.status.busy": "2020-08-20T20:13:21.737296Z",
     "iopub.status.idle": "2020-08-20T20:13:21.746867Z",
     "shell.execute_reply": "2020-08-20T20:13:21.746347Z"
    },
    "papermill": {
     "duration": 0.05542,
     "end_time": "2020-08-20T20:13:21.747010",
     "exception": false,
     "start_time": "2020-08-20T20:13:21.691590",
     "status": "completed"
    },
    "tags": []
   },
   "outputs": [],
   "source": [
    "learner1 = Learner(loss, model_neural, opt, config.num_epochs)\n",
    "acc1 = ClfCallback(learner1, config.bs, training_xdata , testing_xdata, training_ydata, testing_ydata)\n",
    "learner1.set_callbacks([acc1])"
   ]
  },
  {
   "cell_type": "code",
   "execution_count": 21,
   "metadata": {
    "execution": {
     "iopub.execute_input": "2020-08-20T20:13:21.826740Z",
     "iopub.status.busy": "2020-08-20T20:13:21.826073Z",
     "iopub.status.idle": "2020-08-20T20:15:35.994872Z",
     "shell.execute_reply": "2020-08-20T20:15:35.995393Z"
    },
    "papermill": {
     "duration": 134.213361,
     "end_time": "2020-08-20T20:15:35.995573",
     "exception": false,
     "start_time": "2020-08-20T20:13:21.782212",
     "status": "completed"
    },
    "tags": []
   },
   "outputs": [
    {
     "name": "stdout",
     "output_type": "stream",
     "text": [
      "Epoch 0 Loss 0.22553797002779521\n",
      "train accuracy is: 0.7505424803872476, test accuracy is 0.7575604838709677\n"
     ]
    },
    {
     "name": "stdout",
     "output_type": "stream",
     "text": [
      "Epoch 10 Loss 0.0837020754391369\n",
      "train accuracy is: 0.9197963612084794, test accuracy is 0.9324596774193549\n"
     ]
    },
    {
     "name": "stdout",
     "output_type": "stream",
     "text": [
      "Epoch 20 Loss 0.05170066241199466\n",
      "train accuracy is: 0.9485060924720414, test accuracy is 0.9576612903225806\n"
     ]
    },
    {
     "name": "stdout",
     "output_type": "stream",
     "text": [
      "Epoch 30 Loss 0.040713021452328156\n",
      "train accuracy is: 0.9567684860624269, test accuracy is 0.9632056451612904\n"
     ]
    },
    {
     "name": "stdout",
     "output_type": "stream",
     "text": [
      "Epoch 40 Loss 0.03538028516860295\n",
      "train accuracy is: 0.9608579535970623, test accuracy is 0.9672379032258065\n"
     ]
    },
    {
     "name": "stdout",
     "output_type": "stream",
     "text": [
      "Epoch 50 Loss 0.03217741639174884\n",
      "train accuracy is: 0.9636955433149724, test accuracy is 0.967741935483871\n"
     ]
    },
    {
     "name": "stdout",
     "output_type": "stream",
     "text": [
      "Epoch 60 Loss 0.029977763030787186\n",
      "train accuracy is: 0.9660323819061927, test accuracy is 0.96875\n"
     ]
    },
    {
     "name": "stdout",
     "output_type": "stream",
     "text": [
      "Epoch 70 Loss 0.02834884601124028\n",
      "train accuracy is: 0.9676180938073777, test accuracy is 0.96875\n"
     ]
    },
    {
     "name": "stdout",
     "output_type": "stream",
     "text": [
      "Epoch 80 Loss 0.027053401686396052\n",
      "train accuracy is: 0.9689534301452178, test accuracy is 0.9707661290322581\n"
     ]
    },
    {
     "name": "stdout",
     "output_type": "stream",
     "text": [
      "Epoch 90 Loss 0.025981802104899806\n",
      "train accuracy is: 0.970372225004173, test accuracy is 0.9722782258064516\n"
     ]
    },
    {
     "name": "stdout",
     "output_type": "stream",
     "text": [
      "Epoch 100 Loss 0.025089325487578158\n",
      "train accuracy is: 0.971874478384243, test accuracy is 0.9732862903225806\n"
     ]
    },
    {
     "name": "stdout",
     "output_type": "stream",
     "text": [
      "Epoch 110 Loss 0.024300867236591396\n",
      "train accuracy is: 0.9726256050742781, test accuracy is 0.9747983870967742\n"
     ]
    },
    {
     "name": "stdout",
     "output_type": "stream",
     "text": [
      "Epoch 120 Loss 0.023592923313210692\n",
      "train accuracy is: 0.9733767317643132, test accuracy is 0.9737903225806451\n"
     ]
    },
    {
     "name": "stdout",
     "output_type": "stream",
     "text": [
      "Epoch 130 Loss 0.02296927444786556\n",
      "train accuracy is: 0.9742947754965782, test accuracy is 0.9737903225806451\n"
     ]
    },
    {
     "name": "stdout",
     "output_type": "stream",
     "text": [
      "Epoch 140 Loss 0.022396753678993863\n",
      "train accuracy is: 0.9749624436654982, test accuracy is 0.9737903225806451\n"
     ]
    },
    {
     "name": "stdout",
     "output_type": "stream",
     "text": [
      "Epoch 150 Loss 0.02187087346449361\n",
      "train accuracy is: 0.9755466533133033, test accuracy is 0.9732862903225806\n"
     ]
    },
    {
     "name": "stdout",
     "output_type": "stream",
     "text": [
      "Epoch 160 Loss 0.021379663142593205\n",
      "train accuracy is: 0.9756301118344183, test accuracy is 0.9727822580645161\n"
     ]
    },
    {
     "name": "stdout",
     "output_type": "stream",
     "text": [
      "Epoch 170 Loss 0.02091044695652295\n",
      "train accuracy is: 0.9762143214822233, test accuracy is 0.9722782258064516\n"
     ]
    },
    {
     "name": "stdout",
     "output_type": "stream",
     "text": [
      "Epoch 180 Loss 0.020475932807008435\n",
      "train accuracy is: 0.9765481555666834, test accuracy is 0.9727822580645161\n"
     ]
    },
    {
     "name": "stdout",
     "output_type": "stream",
     "text": [
      "Epoch 190 Loss 0.020062713665968162\n",
      "train accuracy is: 0.9775496578200634, test accuracy is 0.9727822580645161\n"
     ]
    },
    {
     "name": "stdout",
     "output_type": "stream",
     "text": [
      "Epoch 200 Loss 0.01966905703043751\n",
      "train accuracy is: 0.9782173259889835, test accuracy is 0.9732862903225806\n"
     ]
    },
    {
     "name": "stdout",
     "output_type": "stream",
     "text": [
      "Epoch 210 Loss 0.019292534246689624\n",
      "train accuracy is: 0.9788015356367885, test accuracy is 0.9732862903225806\n"
     ]
    },
    {
     "name": "stdout",
     "output_type": "stream",
     "text": [
      "Epoch 220 Loss 0.018920160580233273\n",
      "train accuracy is: 0.9794692038057086, test accuracy is 0.9732862903225806\n"
     ]
    },
    {
     "name": "stdout",
     "output_type": "stream",
     "text": [
      "Epoch 230 Loss 0.018554908647518763\n",
      "train accuracy is: 0.9796361208479386, test accuracy is 0.9732862903225806\n"
     ]
    },
    {
     "name": "stdout",
     "output_type": "stream",
     "text": [
      "Epoch 240 Loss 0.018211754571837612\n",
      "train accuracy is: 0.9802203304957436, test accuracy is 0.9737903225806451\n"
     ]
    },
    {
     "data": {
      "text/plain": [
       "0.0028356939115041536"
      ]
     },
     "execution_count": 21,
     "metadata": {},
     "output_type": "execute_result"
    }
   ],
   "source": [
    "learner1.train_loop(dl)"
   ]
  },
  {
   "cell_type": "markdown",
   "metadata": {
    "papermill": {
     "duration": 0.055513,
     "end_time": "2020-08-20T20:15:36.095260",
     "exception": false,
     "start_time": "2020-08-20T20:15:36.039747",
     "status": "completed"
    },
    "tags": []
   },
   "source": [
    "##### Now running only the logistic regression based classification to compare results with NN"
   ]
  },
  {
   "cell_type": "code",
   "execution_count": 22,
   "metadata": {
    "execution": {
     "iopub.execute_input": "2020-08-20T20:15:36.194740Z",
     "iopub.status.busy": "2020-08-20T20:15:36.194086Z",
     "iopub.status.idle": "2020-08-20T20:15:36.202349Z",
     "shell.execute_reply": "2020-08-20T20:15:36.202885Z"
    },
    "papermill": {
     "duration": 0.063417,
     "end_time": "2020-08-20T20:15:36.203043",
     "exception": false,
     "start_time": "2020-08-20T20:15:36.139626",
     "status": "completed"
    },
    "tags": []
   },
   "outputs": [],
   "source": [
    "learner2 = Learner(loss, model_logistic, opt, config.num_epochs)\n",
    "acc2 = ClfCallback(learner2, config.bs, training_xdata , testing_xdata, training_ydata, testing_ydata)\n",
    "learner2.set_callbacks([acc2])"
   ]
  },
  {
   "cell_type": "code",
   "execution_count": 23,
   "metadata": {
    "execution": {
     "iopub.execute_input": "2020-08-20T20:15:36.300063Z",
     "iopub.status.busy": "2020-08-20T20:15:36.299417Z",
     "iopub.status.idle": "2020-08-20T20:15:55.379592Z",
     "shell.execute_reply": "2020-08-20T20:15:55.380443Z"
    },
    "papermill": {
     "duration": 19.13491,
     "end_time": "2020-08-20T20:15:55.380609",
     "exception": false,
     "start_time": "2020-08-20T20:15:36.245699",
     "status": "completed"
    },
    "tags": []
   },
   "outputs": [
    {
     "name": "stdout",
     "output_type": "stream",
     "text": [
      "Epoch 0 Loss 0.2396605319930249\n",
      "train accuracy is: 0.7047237522951093, test accuracy is 0.7116935483870968\n"
     ]
    },
    {
     "name": "stdout",
     "output_type": "stream",
     "text": [
      "Epoch 10 Loss 0.10317972742425886\n",
      "train accuracy is: 0.9063595393089634, test accuracy is 0.9173387096774194\n"
     ]
    },
    {
     "name": "stdout",
     "output_type": "stream",
     "text": [
      "Epoch 20 Loss 0.07907930132455913\n",
      "train accuracy is: 0.928392588883325, test accuracy is 0.9425403225806451\n"
     ]
    },
    {
     "name": "stdout",
     "output_type": "stream",
     "text": [
      "Epoch 30 Loss 0.06790325014466538\n",
      "train accuracy is: 0.9384910699382407, test accuracy is 0.9516129032258065\n"
     ]
    },
    {
     "name": "stdout",
     "output_type": "stream",
     "text": [
      "Epoch 40 Loss 0.06121021533376569\n",
      "train accuracy is: 0.943748956768486, test accuracy is 0.9561491935483871\n"
     ]
    },
    {
     "name": "stdout",
     "output_type": "stream",
     "text": [
      "Epoch 50 Loss 0.05667756081164476\n",
      "train accuracy is: 0.9460023368385913, test accuracy is 0.9606854838709677\n"
     ]
    },
    {
     "name": "stdout",
     "output_type": "stream",
     "text": [
      "Epoch 60 Loss 0.05336780099466672\n",
      "train accuracy is: 0.9483391754298114, test accuracy is 0.9606854838709677\n"
     ]
    },
    {
     "name": "stdout",
     "output_type": "stream",
     "text": [
      "Epoch 70 Loss 0.050822075423581976\n",
      "train accuracy is: 0.9497579702887665, test accuracy is 0.9627016129032258\n"
     ]
    },
    {
     "name": "stdout",
     "output_type": "stream",
     "text": [
      "Epoch 80 Loss 0.04878887273337212\n",
      "train accuracy is: 0.9510098481054916, test accuracy is 0.9637096774193549\n"
     ]
    },
    {
     "name": "stdout",
     "output_type": "stream",
     "text": [
      "Epoch 90 Loss 0.047119072681645224\n",
      "train accuracy is: 0.9523451844433317, test accuracy is 0.9642137096774194\n"
     ]
    },
    {
     "name": "stdout",
     "output_type": "stream",
     "text": [
      "Epoch 100 Loss 0.045715658336421855\n",
      "train accuracy is: 0.9530128526122517, test accuracy is 0.9652217741935484\n"
     ]
    },
    {
     "name": "stdout",
     "output_type": "stream",
     "text": [
      "Epoch 110 Loss 0.044515088474073844\n",
      "train accuracy is: 0.9541812719078618, test accuracy is 0.9662298387096774\n"
     ]
    },
    {
     "name": "stdout",
     "output_type": "stream",
     "text": [
      "Epoch 120 Loss 0.04347212552016487\n",
      "train accuracy is: 0.9552662326823569, test accuracy is 0.9662298387096774\n"
     ]
    },
    {
     "name": "stdout",
     "output_type": "stream",
     "text": [
      "Epoch 130 Loss 0.04255490345952501\n",
      "train accuracy is: 0.956685027541312, test accuracy is 0.9662298387096774\n"
     ]
    },
    {
     "name": "stdout",
     "output_type": "stream",
     "text": [
      "Epoch 140 Loss 0.04174011755420222\n",
      "train accuracy is: 0.957603071273577, test accuracy is 0.9667338709677419\n"
     ]
    },
    {
     "name": "stdout",
     "output_type": "stream",
     "text": [
      "Epoch 150 Loss 0.041009833048621276\n",
      "train accuracy is: 0.958103822400267, test accuracy is 0.967741935483871\n"
     ]
    },
    {
     "name": "stdout",
     "output_type": "stream",
     "text": [
      "Epoch 160 Loss 0.04034954582207045\n",
      "train accuracy is: 0.9585211150058421, test accuracy is 0.967741935483871\n"
     ]
    },
    {
     "name": "stdout",
     "output_type": "stream",
     "text": [
      "Epoch 170 Loss 0.03974943654324397\n",
      "train accuracy is: 0.9587714905691871, test accuracy is 0.967741935483871\n"
     ]
    },
    {
     "name": "stdout",
     "output_type": "stream",
     "text": [
      "Epoch 180 Loss 0.03920024712628427\n",
      "train accuracy is: 0.9590218661325322, test accuracy is 0.967741935483871\n"
     ]
    },
    {
     "name": "stdout",
     "output_type": "stream",
     "text": [
      "Epoch 190 Loss 0.03869507686494425\n",
      "train accuracy is: 0.9591887831747622, test accuracy is 0.9672379032258065\n"
     ]
    },
    {
     "name": "stdout",
     "output_type": "stream",
     "text": [
      "Epoch 200 Loss 0.03822825411063735\n",
      "train accuracy is: 0.9595226172592222, test accuracy is 0.967741935483871\n"
     ]
    },
    {
     "name": "stdout",
     "output_type": "stream",
     "text": [
      "Epoch 210 Loss 0.03779523938143234\n",
      "train accuracy is: 0.9596060757803372, test accuracy is 0.9682459677419355\n"
     ]
    },
    {
     "name": "stdout",
     "output_type": "stream",
     "text": [
      "Epoch 220 Loss 0.03739177414059195\n",
      "train accuracy is: 0.9596895343014522, test accuracy is 0.96875\n"
     ]
    },
    {
     "name": "stdout",
     "output_type": "stream",
     "text": [
      "Epoch 230 Loss 0.03701490979543656\n",
      "train accuracy is: 0.9600233683859122, test accuracy is 0.9692540322580645\n"
     ]
    },
    {
     "name": "stdout",
     "output_type": "stream",
     "text": [
      "Epoch 240 Loss 0.036661220182635554\n",
      "train accuracy is: 0.9602737439492572, test accuracy is 0.9692540322580645\n"
     ]
    },
    {
     "data": {
      "text/plain": [
       "0.03431385462031695"
      ]
     },
     "execution_count": 23,
     "metadata": {},
     "output_type": "execute_result"
    }
   ],
   "source": [
    "learner2.train_loop(dl)"
   ]
  },
  {
   "cell_type": "markdown",
   "metadata": {
    "papermill": {
     "duration": 0.070123,
     "end_time": "2020-08-20T20:15:55.505643",
     "exception": false,
     "start_time": "2020-08-20T20:15:55.435520",
     "status": "completed"
    },
    "tags": []
   },
   "source": [
    "### Comparing results of NN and LR"
   ]
  },
  {
   "cell_type": "code",
   "execution_count": 24,
   "metadata": {
    "execution": {
     "iopub.execute_input": "2020-08-20T20:15:55.630781Z",
     "iopub.status.busy": "2020-08-20T20:15:55.628239Z",
     "iopub.status.idle": "2020-08-20T20:15:55.874153Z",
     "shell.execute_reply": "2020-08-20T20:15:55.874703Z"
    },
    "papermill": {
     "duration": 0.316301,
     "end_time": "2020-08-20T20:15:55.874872",
     "exception": false,
     "start_time": "2020-08-20T20:15:55.558571",
     "status": "completed"
    },
    "tags": []
   },
   "outputs": [
    {
     "data": {
      "text/plain": [
       "<matplotlib.legend.Legend at 0x7f876317d9e8>"
      ]
     },
     "execution_count": 24,
     "metadata": {},
     "output_type": "execute_result"
    },
    {
     "data": {
      "image/png": "[encoded data removed]",
      "text/plain": [
       "<Figure size 576x360 with 1 Axes>"
      ]
     },
     "metadata": {
      "needs_background": "light"
     },
     "output_type": "display_data"
    }
   ],
   "source": [
    "plt.figure(figsize=(8,5))\n",
    "plt.plot(acc1.val_accuracies, 'g-', label = \"Val Accuracies - NN\")\n",
    "plt.plot(acc1.accuracies, 'r-', label = \"Accuracies - NN\")\n",
    "plt.plot(acc2.val_accuracies, 'b-', label = \"Val Accuracies - Logistic Reg\")\n",
    "plt.plot(acc2.accuracies, 'k-', label = \"Accuracies - Logistic Reg\")\n",
    "plt.ylim(0.8,1) ## for a more spread out view\n",
    "plt.legend()"
   ]
  },
  {
   "cell_type": "markdown",
   "metadata": {
    "papermill": {
     "duration": 0.057593,
     "end_time": "2020-08-20T20:15:55.987976",
     "exception": false,
     "start_time": "2020-08-20T20:15:55.930383",
     "status": "completed"
    },
    "tags": []
   },
   "source": [
    "### Clearly NN has a better accuracy over LR; NN is overfitting - Validation accuracy (green) has dropped below training accuracy (orange), also they are diverging. This problem is not seen in LR"
   ]
  },
  {
   "cell_type": "markdown",
   "metadata": {
    "papermill": {
     "duration": 0.054605,
     "end_time": "2020-08-20T20:15:56.093771",
     "exception": false,
     "start_time": "2020-08-20T20:15:56.039166",
     "status": "completed"
    },
    "tags": []
   },
   "source": [
    "##### Now we will be moving through the network, till the output of the second last affine where we get a 2 dimensional output. We will be plotting this 2d output and probability contours"
   ]
  },
  {
   "cell_type": "code",
   "execution_count": 25,
   "metadata": {
    "execution": {
     "iopub.execute_input": "2020-08-20T20:15:56.210792Z",
     "iopub.status.busy": "2020-08-20T20:15:56.204019Z",
     "iopub.status.idle": "2020-08-20T20:15:56.217263Z",
     "shell.execute_reply": "2020-08-20T20:15:56.217730Z"
    },
    "papermill": {
     "duration": 0.069633,
     "end_time": "2020-08-20T20:15:56.217883",
     "exception": false,
     "start_time": "2020-08-20T20:15:56.148250",
     "status": "completed"
    },
    "tags": []
   },
   "outputs": [],
   "source": [
    "model_new = Model(layers[:-2])"
   ]
  },
  {
   "cell_type": "code",
   "execution_count": 26,
   "metadata": {
    "execution": {
     "iopub.execute_input": "2020-08-20T20:15:56.344240Z",
     "iopub.status.busy": "2020-08-20T20:15:56.343563Z",
     "iopub.status.idle": "2020-08-20T20:15:56.366531Z",
     "shell.execute_reply": "2020-08-20T20:15:56.367090Z"
    },
    "papermill": {
     "duration": 0.087748,
     "end_time": "2020-08-20T20:15:56.367262",
     "exception": false,
     "start_time": "2020-08-20T20:15:56.279514",
     "status": "completed"
    },
    "tags": []
   },
   "outputs": [],
   "source": [
    "plot_testing = model_new(testing_xdata)"
   ]
  },
  {
   "cell_type": "markdown",
   "metadata": {
    "papermill": {
     "duration": 0.074418,
     "end_time": "2020-08-20T20:15:56.501115",
     "exception": false,
     "start_time": "2020-08-20T20:15:56.426697",
     "status": "completed"
    },
    "tags": []
   },
   "source": [
    "##### Plotting the scatter plot of points and color coding by class"
   ]
  },
  {
   "cell_type": "code",
   "execution_count": 27,
   "metadata": {
    "execution": {
     "iopub.execute_input": "2020-08-20T20:15:56.631965Z",
     "iopub.status.busy": "2020-08-20T20:15:56.627755Z",
     "iopub.status.idle": "2020-08-20T20:15:56.839050Z",
     "shell.execute_reply": "2020-08-20T20:15:56.839565Z"
    },
    "papermill": {
     "duration": 0.284545,
     "end_time": "2020-08-20T20:15:56.839735",
     "exception": false,
     "start_time": "2020-08-20T20:15:56.555190",
     "status": "completed"
    },
    "tags": []
   },
   "outputs": [
    {
     "data": {
      "image/png": "[encoded data removed]",
      "text/plain": [
       "<Figure size 576x504 with 1 Axes>"
      ]
     },
     "metadata": {
      "needs_background": "light"
     },
     "output_type": "display_data"
    }
   ],
   "source": [
    "plt.figure(figsize=(8,7))\n",
    "plt.scatter(plot_testing[:,0], plot_testing[:,1], alpha = 0.1, c = y_test.ravel());"
   ]
  },
  {
   "cell_type": "markdown",
   "metadata": {
    "papermill": {
     "duration": 0.052622,
     "end_time": "2020-08-20T20:15:56.946503",
     "exception": false,
     "start_time": "2020-08-20T20:15:56.893881",
     "status": "completed"
    },
    "tags": []
   },
   "source": [
    "##### Plotting probability contours"
   ]
  },
  {
   "cell_type": "code",
   "execution_count": 28,
   "metadata": {
    "execution": {
     "iopub.execute_input": "2020-08-20T20:15:57.057178Z",
     "iopub.status.busy": "2020-08-20T20:15:57.056539Z",
     "iopub.status.idle": "2020-08-20T20:15:57.071037Z",
     "shell.execute_reply": "2020-08-20T20:15:57.071569Z"
    },
    "papermill": {
     "duration": 0.071402,
     "end_time": "2020-08-20T20:15:57.071718",
     "exception": false,
     "start_time": "2020-08-20T20:15:57.000316",
     "status": "completed"
    },
    "tags": []
   },
   "outputs": [],
   "source": [
    "model_prob = Model(layers[-2:]) ## picking only last two layers to get probability. That is affine followed by sigmoid"
   ]
  },
  {
   "cell_type": "code",
   "execution_count": 29,
   "metadata": {
    "execution": {
     "iopub.execute_input": "2020-08-20T20:15:57.188245Z",
     "iopub.status.busy": "2020-08-20T20:15:57.187564Z",
     "iopub.status.idle": "2020-08-20T20:15:57.203725Z",
     "shell.execute_reply": "2020-08-20T20:15:57.204255Z"
    },
    "papermill": {
     "duration": 0.077741,
     "end_time": "2020-08-20T20:15:57.204436",
     "exception": false,
     "start_time": "2020-08-20T20:15:57.126695",
     "status": "completed"
    },
    "tags": []
   },
   "outputs": [],
   "source": [
    "xgrid = np.linspace(-4, 1, 100) ## Adjust these values based on above chart, roughly -4 to 1\n",
    "ygrid = np.linspace(-7.5, 7.5, 100) ## Adjust these values based on above chart, roughly -7.5, 7.5\n",
    "xg, yg = np.meshgrid(xgrid, ygrid)\n",
    "# xg and yg are now both 100X100, lets convert them to single arrays \n",
    "\n",
    "xg_interim = np.ravel(xg)\n",
    "yg_interim = np.ravel(yg)\n",
    "\n",
    "## xg_interim, yg_interim are now arrays of len 10000, now we will stack them and then transpose to get desired shape of n rows, 2 columns\n",
    "\n",
    "X_interim = np.vstack((xg_interim, yg_interim)) ## Please note vstack takes in a tuple\n",
    "X = X_interim.T\n",
    "\n",
    "## We want a shape of n rows and 2 columns to be able to feed this to last affine\n",
    "## This last affine takes only two columns, hence the above transformation\n",
    "probability_contour = model_prob(X).reshape(100,100) ## to make it consistent with xg, yg"
   ]
  },
  {
   "cell_type": "code",
   "execution_count": 30,
   "metadata": {
    "execution": {
     "iopub.execute_input": "2020-08-20T20:15:57.341824Z",
     "iopub.status.busy": "2020-08-20T20:15:57.341183Z",
     "iopub.status.idle": "2020-08-20T20:15:57.623804Z",
     "shell.execute_reply": "2020-08-20T20:15:57.624430Z"
    },
    "papermill": {
     "duration": 0.362525,
     "end_time": "2020-08-20T20:15:57.624615",
     "exception": false,
     "start_time": "2020-08-20T20:15:57.262090",
     "status": "completed"
    },
    "tags": []
   },
   "outputs": [
    {
     "data": {
      "image/png": "[encoded data removed]",
      "text/plain": [
       "<Figure size 576x504 with 1 Axes>"
      ]
     },
     "metadata": {
      "needs_background": "light"
     },
     "output_type": "display_data"
    }
   ],
   "source": [
    "plt.figure(figsize=(8,7))\n",
    "plt.scatter(plot_testing[:,0], plot_testing[:,1], alpha = 0.1, c = y_test.ravel())\n",
    "contours = plt.contour(xg,yg,probability_contour)\n",
    "plt.clabel(contours, inline = True );"
   ]
  }
 ],
 "metadata": {
  "kernelspec": {
   "display_name": "Python 3",
   "language": "python",
   "name": "python3"
  },
  "language_info": {
   "codemirror_mode": {
    "name": "ipython",
    "version": 3
   },
   "file_extension": ".py",
   "mimetype": "text/x-python",
   "name": "python",
   "nbconvert_exporter": "python",
   "pygments_lexer": "ipython3",
   "version": "3.6.11"
  },
  "papermill": {
   "duration": 163.991552,
   "end_time": "2020-08-20T20:15:58.090426",
   "environment_variables": {},
   "exception": null,
   "input_path": "2020-08-07-NN-new.ipynb",
   "output_path": "2020-08-07-NN-new.ipynb",
   "parameters": {},
   "start_time": "2020-08-20T20:13:14.098874",
   "version": "2.1.2"
  }
 },
 "nbformat": 4,
 "nbformat_minor": 4
}