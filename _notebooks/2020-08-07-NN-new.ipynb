{
 "cells": [
  {
   "cell_type": "markdown",
   "metadata": {
    "papermill": {
     "duration": 0.029716,
     "end_time": "2020-08-19T00:28:08.837759",
     "exception": false,
     "start_time": "2020-08-19T00:28:08.808043",
     "status": "completed"
    },
    "tags": []
   },
   "source": [
    "# \"Building a basic Neural Network from scratch - Kudzu\"\n",
    "\n",
    "- badges: true\n",
    "- author: Anshuman Gupta"
   ]
  },
  {
   "cell_type": "markdown",
   "metadata": {
    "papermill": {
     "duration": 0.025367,
     "end_time": "2020-08-19T00:28:08.890817",
     "exception": false,
     "start_time": "2020-08-19T00:28:08.865450",
     "status": "completed"
    },
    "tags": []
   },
   "source": [
    "#### In this project, the idea is to write a classifier to differentiate between handwritten digits 3 and 8, from the MNIST database.\n",
    "\n",
    "#### I will using a custom built neural network library called Kudzu.This has been developed as a part of KTF/Foundations course of Univ.ai (www.univ.ai). The source code for Kudzu Library and and this notebook can be found on my git-hub profile : www.https://github.com/anshuman6 under the folder project-solution. Any feedback and comments are welcome. Please feel free to email me at: anshuman6@gmail.com\n",
    "\n",
    "#### 1. I will be using the MNIST database. \n",
    "\n",
    "#### 2. I will be comparing the results of the 4 layer NN to a standard logistic regression"
   ]
  },
  {
   "cell_type": "markdown",
   "metadata": {
    "papermill": {
     "duration": 0.025594,
     "end_time": "2020-08-19T00:28:08.941606",
     "exception": false,
     "start_time": "2020-08-19T00:28:08.916012",
     "status": "completed"
    },
    "tags": []
   },
   "source": [
    "##### Importing all the necessary libraries"
   ]
  },
  {
   "cell_type": "code",
   "execution_count": 1,
   "metadata": {
    "execution": {
     "iopub.execute_input": "2020-08-19T00:28:08.998006Z",
     "iopub.status.busy": "2020-08-19T00:28:08.997450Z",
     "iopub.status.idle": "2020-08-19T00:28:09.010502Z",
     "shell.execute_reply": "2020-08-19T00:28:09.010929Z"
    },
    "papermill": {
     "duration": 0.043872,
     "end_time": "2020-08-19T00:28:09.011079",
     "exception": false,
     "start_time": "2020-08-19T00:28:08.967207",
     "status": "completed"
    },
    "tags": []
   },
   "outputs": [],
   "source": [
    "%load_ext autoreload\n",
    "%autoreload 2"
   ]
  },
  {
   "cell_type": "code",
   "execution_count": 2,
   "metadata": {
    "execution": {
     "iopub.execute_input": "2020-08-19T00:28:09.066028Z",
     "iopub.status.busy": "2020-08-19T00:28:09.065442Z",
     "iopub.status.idle": "2020-08-19T00:28:09.609610Z",
     "shell.execute_reply": "2020-08-19T00:28:09.608786Z"
    },
    "papermill": {
     "duration": 0.574058,
     "end_time": "2020-08-19T00:28:09.609749",
     "exception": false,
     "start_time": "2020-08-19T00:28:09.035691",
     "status": "completed"
    },
    "tags": []
   },
   "outputs": [],
   "source": [
    "%matplotlib inline\n",
    "import numpy as np\n",
    "import matplotlib.pyplot as plt\n",
    "import pandas as pd"
   ]
  },
  {
   "cell_type": "markdown",
   "metadata": {
    "papermill": {
     "duration": 0.026551,
     "end_time": "2020-08-19T00:28:09.663486",
     "exception": false,
     "start_time": "2020-08-19T00:28:09.636935",
     "status": "completed"
    },
    "tags": []
   },
   "source": [
    "##### The following command helps us download MNIST from notebook itself. You can skip this if you already have MNIST. You can also download it via your terminal."
   ]
  },
  {
   "cell_type": "code",
   "execution_count": 3,
   "metadata": {
    "execution": {
     "iopub.execute_input": "2020-08-19T00:28:09.720720Z",
     "iopub.status.busy": "2020-08-19T00:28:09.720112Z",
     "iopub.status.idle": "2020-08-19T00:28:11.083274Z",
     "shell.execute_reply": "2020-08-19T00:28:11.082465Z"
    },
    "papermill": {
     "duration": 1.394521,
     "end_time": "2020-08-19T00:28:11.083468",
     "exception": false,
     "start_time": "2020-08-19T00:28:09.688947",
     "status": "completed"
    },
    "tags": []
   },
   "outputs": [
    {
     "name": "stdout",
     "output_type": "stream",
     "text": [
      "Collecting mnist\r\n",
      "  Downloading mnist-0.2.2-py2.py3-none-any.whl (3.5 kB)\r\n"
     ]
    },
    {
     "name": "stdout",
     "output_type": "stream",
     "text": [
      "Requirement already satisfied: numpy in /opt/hostedtoolcache/Python/3.6.11/x64/lib/python3.6/site-packages (from mnist) (1.19.1)\r\n"
     ]
    },
    {
     "name": "stdout",
     "output_type": "stream",
     "text": [
      "Installing collected packages: mnist\r\n",
      "Successfully installed mnist-0.2.2\r\n"
     ]
    },
    {
     "name": "stdout",
     "output_type": "stream",
     "text": [
      "\u001b[33mWARNING: You are using pip version 20.2.1; however, version 20.2.2 is available.\r\n",
      "You should consider upgrading via the '/opt/hostedtoolcache/Python/3.6.11/x64/bin/python -m pip install --upgrade pip' command.\u001b[0m\r\n"
     ]
    }
   ],
   "source": [
    "!pip install mnist # Please note, it is commented out for now, you can remove comment if you want to install it"
   ]
  },
  {
   "cell_type": "markdown",
   "metadata": {
    "papermill": {
     "duration": 0.026032,
     "end_time": "2020-08-19T00:28:11.137379",
     "exception": false,
     "start_time": "2020-08-19T00:28:11.111347",
     "status": "completed"
    },
    "tags": []
   },
   "source": [
    "#### Preparing the Data"
   ]
  },
  {
   "cell_type": "code",
   "execution_count": 4,
   "metadata": {
    "execution": {
     "iopub.execute_input": "2020-08-19T00:28:11.205031Z",
     "iopub.status.busy": "2020-08-19T00:28:11.196363Z",
     "iopub.status.idle": "2020-08-19T00:28:11.211251Z",
     "shell.execute_reply": "2020-08-19T00:28:11.211763Z"
    },
    "papermill": {
     "duration": 0.0474,
     "end_time": "2020-08-19T00:28:11.211919",
     "exception": false,
     "start_time": "2020-08-19T00:28:11.164519",
     "status": "completed"
    },
    "tags": []
   },
   "outputs": [],
   "source": [
    "import mnist"
   ]
  },
  {
   "cell_type": "code",
   "execution_count": 5,
   "metadata": {
    "execution": {
     "iopub.execute_input": "2020-08-19T00:28:11.269317Z",
     "iopub.status.busy": "2020-08-19T00:28:11.268782Z",
     "iopub.status.idle": "2020-08-19T00:28:12.032920Z",
     "shell.execute_reply": "2020-08-19T00:28:12.031935Z"
    },
    "papermill": {
     "duration": 0.794364,
     "end_time": "2020-08-19T00:28:12.033067",
     "exception": false,
     "start_time": "2020-08-19T00:28:11.238703",
     "status": "completed"
    },
    "tags": []
   },
   "outputs": [],
   "source": [
    "train_images = mnist.train_images()\n",
    "train_labels = mnist.train_labels()"
   ]
  },
  {
   "cell_type": "code",
   "execution_count": 6,
   "metadata": {
    "execution": {
     "iopub.execute_input": "2020-08-19T00:28:12.089796Z",
     "iopub.status.busy": "2020-08-19T00:28:12.089264Z",
     "iopub.status.idle": "2020-08-19T00:28:12.104408Z",
     "shell.execute_reply": "2020-08-19T00:28:12.103946Z"
    },
    "papermill": {
     "duration": 0.045203,
     "end_time": "2020-08-19T00:28:12.104532",
     "exception": false,
     "start_time": "2020-08-19T00:28:12.059329",
     "status": "completed"
    },
    "tags": []
   },
   "outputs": [
    {
     "data": {
      "text/plain": [
       "((60000, 28, 28), (60000,))"
      ]
     },
     "execution_count": 6,
     "metadata": {},
     "output_type": "execute_result"
    }
   ],
   "source": [
    "train_images.shape, train_labels.shape"
   ]
  },
  {
   "cell_type": "code",
   "execution_count": 7,
   "metadata": {
    "execution": {
     "iopub.execute_input": "2020-08-19T00:28:12.163358Z",
     "iopub.status.busy": "2020-08-19T00:28:12.162345Z",
     "iopub.status.idle": "2020-08-19T00:28:12.446692Z",
     "shell.execute_reply": "2020-08-19T00:28:12.445609Z"
    },
    "papermill": {
     "duration": 0.315853,
     "end_time": "2020-08-19T00:28:12.446834",
     "exception": false,
     "start_time": "2020-08-19T00:28:12.130981",
     "status": "completed"
    },
    "tags": []
   },
   "outputs": [],
   "source": [
    "test_images = mnist.test_images()\n",
    "test_labels = mnist.test_labels()"
   ]
  },
  {
   "cell_type": "code",
   "execution_count": 8,
   "metadata": {
    "execution": {
     "iopub.execute_input": "2020-08-19T00:28:12.513233Z",
     "iopub.status.busy": "2020-08-19T00:28:12.506527Z",
     "iopub.status.idle": "2020-08-19T00:28:12.519064Z",
     "shell.execute_reply": "2020-08-19T00:28:12.518589Z"
    },
    "papermill": {
     "duration": 0.044458,
     "end_time": "2020-08-19T00:28:12.519195",
     "exception": false,
     "start_time": "2020-08-19T00:28:12.474737",
     "status": "completed"
    },
    "tags": []
   },
   "outputs": [
    {
     "data": {
      "text/plain": [
       "((10000, 28, 28), (10000,))"
      ]
     },
     "execution_count": 8,
     "metadata": {},
     "output_type": "execute_result"
    }
   ],
   "source": [
    "test_images.shape, test_labels.shape"
   ]
  },
  {
   "cell_type": "code",
   "execution_count": 9,
   "metadata": {
    "execution": {
     "iopub.execute_input": "2020-08-19T00:28:12.593493Z",
     "iopub.status.busy": "2020-08-19T00:28:12.592107Z",
     "iopub.status.idle": "2020-08-19T00:28:12.767406Z",
     "shell.execute_reply": "2020-08-19T00:28:12.766870Z"
    },
    "papermill": {
     "duration": 0.209437,
     "end_time": "2020-08-19T00:28:12.767541",
     "exception": false,
     "start_time": "2020-08-19T00:28:12.558104",
     "status": "completed"
    },
    "tags": []
   },
   "outputs": [
    {
     "name": "stdout",
     "output_type": "stream",
     "text": [
      "2\n"
     ]
    },
    {
     "data": {
      "text/plain": [
       "<matplotlib.image.AxesImage at 0x7f82f08007b8>"
      ]
     },
     "execution_count": 9,
     "metadata": {},
     "output_type": "execute_result"
    },
    {
     "data": {
      "image/png": "[encoded data removed]",
      "text/plain": [
       "<Figure size 432x288 with 1 Axes>"
      ]
     },
     "metadata": {
      "needs_background": "light"
     },
     "output_type": "display_data"
    }
   ],
   "source": [
    "image_index = 7776 # You may select anything up to 60,000\n",
    "print(train_labels[image_index]) \n",
    "plt.imshow(train_images[image_index], cmap='Greys')"
   ]
  },
  {
   "cell_type": "markdown",
   "metadata": {
    "papermill": {
     "duration": 0.029912,
     "end_time": "2020-08-19T00:28:12.831264",
     "exception": false,
     "start_time": "2020-08-19T00:28:12.801352",
     "status": "completed"
    },
    "tags": []
   },
   "source": [
    "## Filter data to get 3 and 8 out"
   ]
  },
  {
   "cell_type": "code",
   "execution_count": 10,
   "metadata": {
    "execution": {
     "iopub.execute_input": "2020-08-19T00:28:12.895971Z",
     "iopub.status.busy": "2020-08-19T00:28:12.895341Z",
     "iopub.status.idle": "2020-08-19T00:28:12.916372Z",
     "shell.execute_reply": "2020-08-19T00:28:12.916847Z"
    },
    "papermill": {
     "duration": 0.056986,
     "end_time": "2020-08-19T00:28:12.917020",
     "exception": false,
     "start_time": "2020-08-19T00:28:12.860034",
     "status": "completed"
    },
    "tags": []
   },
   "outputs": [],
   "source": [
    "train_filter = np.where((train_labels == 3 ) | (train_labels == 8))\n",
    "test_filter = np.where((test_labels == 3) | (test_labels == 8))\n",
    "X_train, y_train = train_images[train_filter], train_labels[train_filter]\n",
    "X_test, y_test = test_images[test_filter], test_labels[test_filter]"
   ]
  },
  {
   "cell_type": "markdown",
   "metadata": {
    "papermill": {
     "duration": 0.029467,
     "end_time": "2020-08-19T00:28:12.980401",
     "exception": false,
     "start_time": "2020-08-19T00:28:12.950934",
     "status": "completed"
    },
    "tags": []
   },
   "source": [
    "##### We normalize the pizel values in the 0 to 1 range"
   ]
  },
  {
   "cell_type": "code",
   "execution_count": 11,
   "metadata": {
    "execution": {
     "iopub.execute_input": "2020-08-19T00:28:13.041384Z",
     "iopub.status.busy": "2020-08-19T00:28:13.040828Z",
     "iopub.status.idle": "2020-08-19T00:28:13.093167Z",
     "shell.execute_reply": "2020-08-19T00:28:13.092654Z"
    },
    "papermill": {
     "duration": 0.084591,
     "end_time": "2020-08-19T00:28:13.093297",
     "exception": false,
     "start_time": "2020-08-19T00:28:13.008706",
     "status": "completed"
    },
    "tags": []
   },
   "outputs": [],
   "source": [
    "X_train = X_train/255.\n",
    "X_test = X_test/255."
   ]
  },
  {
   "cell_type": "markdown",
   "metadata": {
    "papermill": {
     "duration": 0.029883,
     "end_time": "2020-08-19T00:28:13.152786",
     "exception": false,
     "start_time": "2020-08-19T00:28:13.122903",
     "status": "completed"
    },
    "tags": []
   },
   "source": [
    "And setup the labels as 1 (when the digit is 3) and 0 (when the digit is 8)"
   ]
  },
  {
   "cell_type": "code",
   "execution_count": 12,
   "metadata": {
    "execution": {
     "iopub.execute_input": "2020-08-19T00:28:13.217362Z",
     "iopub.status.busy": "2020-08-19T00:28:13.216799Z",
     "iopub.status.idle": "2020-08-19T00:28:13.232460Z",
     "shell.execute_reply": "2020-08-19T00:28:13.232000Z"
    },
    "papermill": {
     "duration": 0.050605,
     "end_time": "2020-08-19T00:28:13.232590",
     "exception": false,
     "start_time": "2020-08-19T00:28:13.181985",
     "status": "completed"
    },
    "tags": []
   },
   "outputs": [],
   "source": [
    "y_train = 1*(y_train==3)\n",
    "y_test = 1*(y_test==3)"
   ]
  },
  {
   "cell_type": "code",
   "execution_count": 13,
   "metadata": {
    "execution": {
     "iopub.execute_input": "2020-08-19T00:28:13.303192Z",
     "iopub.status.busy": "2020-08-19T00:28:13.302627Z",
     "iopub.status.idle": "2020-08-19T00:28:13.316219Z",
     "shell.execute_reply": "2020-08-19T00:28:13.315653Z"
    },
    "papermill": {
     "duration": 0.047292,
     "end_time": "2020-08-19T00:28:13.316365",
     "exception": false,
     "start_time": "2020-08-19T00:28:13.269073",
     "status": "completed"
    },
    "tags": []
   },
   "outputs": [
    {
     "data": {
      "text/plain": [
       "((11982, 28, 28), (1984, 28, 28))"
      ]
     },
     "execution_count": 13,
     "metadata": {},
     "output_type": "execute_result"
    }
   ],
   "source": [
    "X_train.shape, X_test.shape"
   ]
  },
  {
   "cell_type": "markdown",
   "metadata": {
    "papermill": {
     "duration": 0.029599,
     "end_time": "2020-08-19T00:28:13.386805",
     "exception": false,
     "start_time": "2020-08-19T00:28:13.357206",
     "status": "completed"
    },
    "tags": []
   },
   "source": [
    "##### We reshape the data to flatten the image pixels into a set of features or co-variates:"
   ]
  },
  {
   "cell_type": "code",
   "execution_count": 14,
   "metadata": {
    "execution": {
     "iopub.execute_input": "2020-08-19T00:28:13.450787Z",
     "iopub.status.busy": "2020-08-19T00:28:13.450238Z",
     "iopub.status.idle": "2020-08-19T00:28:13.467080Z",
     "shell.execute_reply": "2020-08-19T00:28:13.467516Z"
    },
    "papermill": {
     "duration": 0.051229,
     "end_time": "2020-08-19T00:28:13.467655",
     "exception": false,
     "start_time": "2020-08-19T00:28:13.416426",
     "status": "completed"
    },
    "tags": []
   },
   "outputs": [
    {
     "data": {
      "text/plain": [
       "((11982, 784), (1984, 784))"
      ]
     },
     "execution_count": 14,
     "metadata": {},
     "output_type": "execute_result"
    }
   ],
   "source": [
    "X_train = X_train.reshape(X_train.shape[0], -1)\n",
    "X_test = X_test.reshape(X_test.shape[0], -1)\n",
    "X_train.shape, X_test.shape"
   ]
  },
  {
   "cell_type": "markdown",
   "metadata": {
    "papermill": {
     "duration": 0.029219,
     "end_time": "2020-08-19T00:28:13.524699",
     "exception": false,
     "start_time": "2020-08-19T00:28:13.495480",
     "status": "completed"
    },
    "tags": []
   },
   "source": [
    "##### Importing Kudzu library and its functionality"
   ]
  },
  {
   "cell_type": "code",
   "execution_count": 15,
   "metadata": {
    "execution": {
     "iopub.execute_input": "2020-08-19T00:28:13.591301Z",
     "iopub.status.busy": "2020-08-19T00:28:13.590744Z",
     "iopub.status.idle": "2020-08-19T00:28:13.612507Z",
     "shell.execute_reply": "2020-08-19T00:28:13.612960Z"
    },
    "papermill": {
     "duration": 0.058174,
     "end_time": "2020-08-19T00:28:13.613102",
     "exception": false,
     "start_time": "2020-08-19T00:28:13.554928",
     "status": "completed"
    },
    "tags": []
   },
   "outputs": [],
   "source": [
    "from kudzu.data import Data, Dataloader, Sampler\n",
    "from kudzu.callbacks import AccCallback\n",
    "from kudzu.loss import MSE\n",
    "from kudzu.layer import Affine, Sigmoid\n",
    "from kudzu.model import Model\n",
    "from kudzu.optim import GD\n",
    "from kudzu.train import Learner\n",
    "from kudzu.callbacks import ClfCallback\n",
    "from kudzu.layer import Sigmoid\n",
    "from kudzu.layer import Relu"
   ]
  },
  {
   "cell_type": "markdown",
   "metadata": {
    "papermill": {
     "duration": 0.028493,
     "end_time": "2020-08-19T00:28:13.670024",
     "exception": false,
     "start_time": "2020-08-19T00:28:13.641531",
     "status": "completed"
    },
    "tags": []
   },
   "source": [
    "##### We are creating a class, just so that we can use it to store our parameters for us"
   ]
  },
  {
   "cell_type": "code",
   "execution_count": 16,
   "metadata": {
    "execution": {
     "iopub.execute_input": "2020-08-19T00:28:13.733993Z",
     "iopub.status.busy": "2020-08-19T00:28:13.733447Z",
     "iopub.status.idle": "2020-08-19T00:28:13.746856Z",
     "shell.execute_reply": "2020-08-19T00:28:13.747306Z"
    },
    "papermill": {
     "duration": 0.04824,
     "end_time": "2020-08-19T00:28:13.747447",
     "exception": false,
     "start_time": "2020-08-19T00:28:13.699207",
     "status": "completed"
    },
    "tags": []
   },
   "outputs": [],
   "source": [
    "class Config:\n",
    "    pass\n",
    "config = Config()\n",
    "config.lr = 0.001\n",
    "config.num_epochs = 250\n",
    "config.bs = 50"
   ]
  },
  {
   "cell_type": "markdown",
   "metadata": {
    "papermill": {
     "duration": 0.029021,
     "end_time": "2020-08-19T00:28:13.803832",
     "exception": false,
     "start_time": "2020-08-19T00:28:13.774811",
     "status": "completed"
    },
    "tags": []
   },
   "source": [
    "##### Initializing Data"
   ]
  },
  {
   "cell_type": "code",
   "execution_count": 17,
   "metadata": {
    "execution": {
     "iopub.execute_input": "2020-08-19T00:28:13.864970Z",
     "iopub.status.busy": "2020-08-19T00:28:13.864395Z",
     "iopub.status.idle": "2020-08-19T00:28:13.878580Z",
     "shell.execute_reply": "2020-08-19T00:28:13.878095Z"
    },
    "papermill": {
     "duration": 0.047114,
     "end_time": "2020-08-19T00:28:13.878713",
     "exception": false,
     "start_time": "2020-08-19T00:28:13.831599",
     "status": "completed"
    },
    "tags": []
   },
   "outputs": [],
   "source": [
    "data = Data(X_train, y_train.reshape(-1,1))\n",
    "loss = MSE()\n",
    "opt = GD(config.lr)\n",
    "sampler = Sampler(data, config.bs, shuffle=True)\n",
    "dl = Dataloader(data, sampler)"
   ]
  },
  {
   "cell_type": "markdown",
   "metadata": {
    "papermill": {
     "duration": 0.027574,
     "end_time": "2020-08-19T00:28:13.934571",
     "exception": false,
     "start_time": "2020-08-19T00:28:13.906997",
     "status": "completed"
    },
    "tags": []
   },
   "source": [
    "##### Constructing 2 different layers, one for NN and one only for logistic regression."
   ]
  },
  {
   "cell_type": "markdown",
   "metadata": {
    "papermill": {
     "duration": 0.034545,
     "end_time": "2020-08-19T00:28:13.999464",
     "exception": false,
     "start_time": "2020-08-19T00:28:13.964919",
     "status": "completed"
    },
    "tags": []
   },
   "source": [
    "##### Creating containers for data to be passed, to calculate accuracies"
   ]
  },
  {
   "cell_type": "code",
   "execution_count": 18,
   "metadata": {
    "execution": {
     "iopub.execute_input": "2020-08-19T00:28:14.061533Z",
     "iopub.status.busy": "2020-08-19T00:28:14.060799Z",
     "iopub.status.idle": "2020-08-19T00:28:14.076559Z",
     "shell.execute_reply": "2020-08-19T00:28:14.075599Z"
    },
    "papermill": {
     "duration": 0.047923,
     "end_time": "2020-08-19T00:28:14.076775",
     "exception": false,
     "start_time": "2020-08-19T00:28:14.028852",
     "status": "completed"
    },
    "tags": []
   },
   "outputs": [],
   "source": [
    "training_xdata = X_train\n",
    "testing_xdata = X_test\n",
    "training_ydata = y_train.reshape(-1,1)\n",
    "testing_ydata = y_test.reshape(-1,1)"
   ]
  },
  {
   "cell_type": "markdown",
   "metadata": {
    "papermill": {
     "duration": 0.028064,
     "end_time": "2020-08-19T00:28:14.136219",
     "exception": false,
     "start_time": "2020-08-19T00:28:14.108155",
     "status": "completed"
    },
    "tags": []
   },
   "source": [
    "##### Initializing models and Running training loop: "
   ]
  },
  {
   "cell_type": "code",
   "execution_count": 19,
   "metadata": {
    "execution": {
     "iopub.execute_input": "2020-08-19T00:28:14.199795Z",
     "iopub.status.busy": "2020-08-19T00:28:14.199243Z",
     "iopub.status.idle": "2020-08-19T00:28:14.217943Z",
     "shell.execute_reply": "2020-08-19T00:28:14.217430Z"
    },
    "papermill": {
     "duration": 0.053285,
     "end_time": "2020-08-19T00:28:14.218071",
     "exception": false,
     "start_time": "2020-08-19T00:28:14.164786",
     "status": "completed"
    },
    "tags": []
   },
   "outputs": [],
   "source": [
    "layers = [Affine(\"first\", 784, 100), Relu(\"first\"), Affine(\"second\", 100, 100), Relu(\"second\"), Affine(\"third\", 100, 2), Affine(\"final\", 2, 1), Sigmoid(\"final\")]\n",
    "\n",
    "model_neural = Model(layers)\n",
    "model_logistic = Model([Affine(\"logits\", 784, 1), Sigmoid(\"sigmoid\")])"
   ]
  },
  {
   "cell_type": "code",
   "execution_count": 20,
   "metadata": {
    "execution": {
     "iopub.execute_input": "2020-08-19T00:28:14.281790Z",
     "iopub.status.busy": "2020-08-19T00:28:14.281246Z",
     "iopub.status.idle": "2020-08-19T00:28:14.294698Z",
     "shell.execute_reply": "2020-08-19T00:28:14.295154Z"
    },
    "papermill": {
     "duration": 0.048196,
     "end_time": "2020-08-19T00:28:14.295301",
     "exception": false,
     "start_time": "2020-08-19T00:28:14.247105",
     "status": "completed"
    },
    "tags": []
   },
   "outputs": [],
   "source": [
    "learner1 = Learner(loss, model_neural, opt, config.num_epochs)\n",
    "acc1 = ClfCallback(learner1, config.bs, training_xdata , testing_xdata, training_ydata, testing_ydata)\n",
    "learner1.set_callbacks([acc1])"
   ]
  },
  {
   "cell_type": "code",
   "execution_count": 21,
   "metadata": {
    "execution": {
     "iopub.execute_input": "2020-08-19T00:28:14.356405Z",
     "iopub.status.busy": "2020-08-19T00:28:14.355835Z",
     "iopub.status.idle": "2020-08-19T00:29:37.389357Z",
     "shell.execute_reply": "2020-08-19T00:29:37.388575Z"
    },
    "papermill": {
     "duration": 83.065857,
     "end_time": "2020-08-19T00:29:37.389483",
     "exception": false,
     "start_time": "2020-08-19T00:28:14.323626",
     "status": "completed"
    },
    "tags": []
   },
   "outputs": [
    {
     "name": "stdout",
     "output_type": "stream",
     "text": [
      "Epoch 0 Loss 0.2381437562516237\n",
      "train accuracy is: 0.7134868970121849, test accuracy is 0.7202620967741935\n"
     ]
    },
    {
     "name": "stdout",
     "output_type": "stream",
     "text": [
      "Epoch 10 Loss 0.12469295530884615\n",
      "train accuracy is: 0.900934735436488, test accuracy is 0.9168346774193549\n"
     ]
    },
    {
     "name": "stdout",
     "output_type": "stream",
     "text": [
      "Epoch 20 Loss 0.06761473602872803\n",
      "train accuracy is: 0.9312301786012351, test accuracy is 0.9440524193548387\n"
     ]
    },
    {
     "name": "stdout",
     "output_type": "stream",
     "text": [
      "Epoch 30 Loss 0.05030930603806988\n",
      "train accuracy is: 0.9452512101485562, test accuracy is 0.954133064516129\n"
     ]
    },
    {
     "name": "stdout",
     "output_type": "stream",
     "text": [
      "Epoch 40 Loss 0.04239577652598948\n",
      "train accuracy is: 0.9505090969788015, test accuracy is 0.9586693548387096\n"
     ]
    },
    {
     "name": "stdout",
     "output_type": "stream",
     "text": [
      "Epoch 50 Loss 0.03784565516890079\n",
      "train accuracy is: 0.9556835252879319, test accuracy is 0.9611895161290323\n"
     ]
    },
    {
     "name": "stdout",
     "output_type": "stream",
     "text": [
      "Epoch 60 Loss 0.03482394175340869\n",
      "train accuracy is: 0.9606075780337172, test accuracy is 0.9642137096774194\n"
     ]
    },
    {
     "name": "stdout",
     "output_type": "stream",
     "text": [
      "Epoch 70 Loss 0.03260113105250355\n",
      "train accuracy is: 0.9622767484560174, test accuracy is 0.9642137096774194\n"
     ]
    },
    {
     "name": "stdout",
     "output_type": "stream",
     "text": [
      "Epoch 80 Loss 0.030855727468004544\n",
      "train accuracy is: 0.9640293773994325, test accuracy is 0.9657258064516129\n"
     ]
    },
    {
     "name": "stdout",
     "output_type": "stream",
     "text": [
      "Epoch 90 Loss 0.029420849285906294\n",
      "train accuracy is: 0.9654481722583875, test accuracy is 0.9667338709677419\n"
     ]
    },
    {
     "name": "stdout",
     "output_type": "stream",
     "text": [
      "Epoch 100 Loss 0.028199153797074415\n",
      "train accuracy is: 0.9672842597229178, test accuracy is 0.9667338709677419\n"
     ]
    },
    {
     "name": "stdout",
     "output_type": "stream",
     "text": [
      "Epoch 110 Loss 0.02714564989705627\n",
      "train accuracy is: 0.9684526790185278, test accuracy is 0.9692540322580645\n"
     ]
    },
    {
     "name": "stdout",
     "output_type": "stream",
     "text": [
      "Epoch 120 Loss 0.026213415118760935\n",
      "train accuracy is: 0.9697880153563679, test accuracy is 0.9717741935483871\n"
     ]
    },
    {
     "name": "stdout",
     "output_type": "stream",
     "text": [
      "Epoch 130 Loss 0.025385289160326344\n",
      "train accuracy is: 0.9705391420464029, test accuracy is 0.9722782258064516\n"
     ]
    },
    {
     "name": "stdout",
     "output_type": "stream",
     "text": [
      "Epoch 140 Loss 0.024639845344971868\n",
      "train accuracy is: 0.971791019863128, test accuracy is 0.9727822580645161\n"
     ]
    },
    {
     "name": "stdout",
     "output_type": "stream",
     "text": [
      "Epoch 150 Loss 0.023957917717620954\n",
      "train accuracy is: 0.9727925221165081, test accuracy is 0.9727822580645161\n"
     ]
    },
    {
     "name": "stdout",
     "output_type": "stream",
     "text": [
      "Epoch 160 Loss 0.02332508907009877\n",
      "train accuracy is: 0.9735436488065431, test accuracy is 0.9722782258064516\n"
     ]
    },
    {
     "name": "stdout",
     "output_type": "stream",
     "text": [
      "Epoch 170 Loss 0.022747796719326547\n",
      "train accuracy is: 0.9742947754965782, test accuracy is 0.9722782258064516\n"
     ]
    },
    {
     "name": "stdout",
     "output_type": "stream",
     "text": [
      "Epoch 180 Loss 0.022197874838392837\n",
      "train accuracy is: 0.9753797362710733, test accuracy is 0.9722782258064516\n"
     ]
    },
    {
     "name": "stdout",
     "output_type": "stream",
     "text": [
      "Epoch 190 Loss 0.021678551515344084\n",
      "train accuracy is: 0.9760474044399933, test accuracy is 0.9722782258064516\n"
     ]
    },
    {
     "name": "stdout",
     "output_type": "stream",
     "text": [
      "Epoch 200 Loss 0.021176743690380976\n",
      "train accuracy is: 0.9764646970455684, test accuracy is 0.9732862903225806\n"
     ]
    },
    {
     "name": "stdout",
     "output_type": "stream",
     "text": [
      "Epoch 210 Loss 0.02070188599345313\n",
      "train accuracy is: 0.9772158237356035, test accuracy is 0.9737903225806451\n"
     ]
    },
    {
     "name": "stdout",
     "output_type": "stream",
     "text": [
      "Epoch 220 Loss 0.020241337025615393\n",
      "train accuracy is: 0.9778000333834085, test accuracy is 0.9742943548387096\n"
     ]
    },
    {
     "name": "stdout",
     "output_type": "stream",
     "text": [
      "Epoch 230 Loss 0.01979565964835428\n",
      "train accuracy is: 0.9781338674678685, test accuracy is 0.9747983870967742\n"
     ]
    },
    {
     "name": "stdout",
     "output_type": "stream",
     "text": [
      "Epoch 240 Loss 0.01936204988092036\n",
      "train accuracy is: 0.9787180771156735, test accuracy is 0.9747983870967742\n"
     ]
    },
    {
     "data": {
      "text/plain": [
       "0.007938967211582153"
      ]
     },
     "execution_count": 21,
     "metadata": {},
     "output_type": "execute_result"
    }
   ],
   "source": [
    "learner1.train_loop(dl)"
   ]
  },
  {
   "cell_type": "markdown",
   "metadata": {
    "papermill": {
     "duration": 0.034583,
     "end_time": "2020-08-19T00:29:37.459227",
     "exception": false,
     "start_time": "2020-08-19T00:29:37.424644",
     "status": "completed"
    },
    "tags": []
   },
   "source": [
    "##### Now running only the logistic regression based classification to compare results with NN"
   ]
  },
  {
   "cell_type": "code",
   "execution_count": 22,
   "metadata": {
    "execution": {
     "iopub.execute_input": "2020-08-19T00:29:37.536813Z",
     "iopub.status.busy": "2020-08-19T00:29:37.536263Z",
     "iopub.status.idle": "2020-08-19T00:29:37.550317Z",
     "shell.execute_reply": "2020-08-19T00:29:37.549736Z"
    },
    "papermill": {
     "duration": 0.054796,
     "end_time": "2020-08-19T00:29:37.550449",
     "exception": false,
     "start_time": "2020-08-19T00:29:37.495653",
     "status": "completed"
    },
    "tags": []
   },
   "outputs": [],
   "source": [
    "learner2 = Learner(loss, model_logistic, opt, config.num_epochs)\n",
    "acc2 = ClfCallback(learner2, config.bs, training_xdata , testing_xdata, training_ydata, testing_ydata)\n",
    "learner2.set_callbacks([acc2])"
   ]
  },
  {
   "cell_type": "code",
   "execution_count": 23,
   "metadata": {
    "execution": {
     "iopub.execute_input": "2020-08-19T00:29:37.623208Z",
     "iopub.status.busy": "2020-08-19T00:29:37.622673Z",
     "iopub.status.idle": "2020-08-19T00:29:52.916999Z",
     "shell.execute_reply": "2020-08-19T00:29:52.917810Z"
    },
    "papermill": {
     "duration": 15.333247,
     "end_time": "2020-08-19T00:29:52.917968",
     "exception": false,
     "start_time": "2020-08-19T00:29:37.584721",
     "status": "completed"
    },
    "tags": []
   },
   "outputs": [
    {
     "name": "stdout",
     "output_type": "stream",
     "text": [
      "Epoch 0 Loss 0.22650454561809952\n",
      "train accuracy is: 0.7341011517275914, test accuracy is 0.7308467741935484\n"
     ]
    },
    {
     "name": "stdout",
     "output_type": "stream",
     "text": [
      "Epoch 10 Loss 0.10090146398572011\n",
      "train accuracy is: 0.9086129193790686, test accuracy is 0.9233870967741935\n"
     ]
    },
    {
     "name": "stdout",
     "output_type": "stream",
     "text": [
      "Epoch 20 Loss 0.07812091168798536\n",
      "train accuracy is: 0.92864296444667, test accuracy is 0.938508064516129\n"
     ]
    },
    {
     "name": "stdout",
     "output_type": "stream",
     "text": [
      "Epoch 30 Loss 0.06746700444827483\n",
      "train accuracy is: 0.9377399432482056, test accuracy is 0.9490927419354839\n"
     ]
    },
    {
     "name": "stdout",
     "output_type": "stream",
     "text": [
      "Epoch 40 Loss 0.06103616969193985\n",
      "train accuracy is: 0.942830913036221, test accuracy is 0.952116935483871\n"
     ]
    },
    {
     "name": "stdout",
     "output_type": "stream",
     "text": [
      "Epoch 50 Loss 0.05665051457698232\n",
      "train accuracy is: 0.9462527124019362, test accuracy is 0.9546370967741935\n"
     ]
    },
    {
     "name": "stdout",
     "output_type": "stream",
     "text": [
      "Epoch 60 Loss 0.053428094351359\n",
      "train accuracy is: 0.9486730095142714, test accuracy is 0.9561491935483871\n"
     ]
    },
    {
     "name": "stdout",
     "output_type": "stream",
     "text": [
      "Epoch 70 Loss 0.050937294166751725\n",
      "train accuracy is: 0.9498414288098815, test accuracy is 0.9581653225806451\n"
     ]
    },
    {
     "name": "stdout",
     "output_type": "stream",
     "text": [
      "Epoch 80 Loss 0.048939460894614976\n",
      "train accuracy is: 0.9513436821899516, test accuracy is 0.9601814516129032\n"
     ]
    },
    {
     "name": "stdout",
     "output_type": "stream",
     "text": [
      "Epoch 90 Loss 0.04729072766766036\n",
      "train accuracy is: 0.9525955600066767, test accuracy is 0.9627016129032258\n"
     ]
    },
    {
     "name": "stdout",
     "output_type": "stream",
     "text": [
      "Epoch 100 Loss 0.04590073548570159\n",
      "train accuracy is: 0.9536805207811717, test accuracy is 0.9642137096774194\n"
     ]
    },
    {
     "name": "stdout",
     "output_type": "stream",
     "text": [
      "Epoch 110 Loss 0.04470746139120179\n",
      "train accuracy is: 0.9545985645134368, test accuracy is 0.9647177419354839\n"
     ]
    },
    {
     "name": "stdout",
     "output_type": "stream",
     "text": [
      "Epoch 120 Loss 0.04366836335992782\n",
      "train accuracy is: 0.9554331497245869, test accuracy is 0.9652217741935484\n"
     ]
    },
    {
     "name": "stdout",
     "output_type": "stream",
     "text": [
      "Epoch 130 Loss 0.04275272466563704\n",
      "train accuracy is: 0.9559339008512769, test accuracy is 0.9652217741935484\n"
     ]
    },
    {
     "name": "stdout",
     "output_type": "stream",
     "text": [
      "Epoch 140 Loss 0.041937480864357564\n",
      "train accuracy is: 0.956601569020197, test accuracy is 0.9652217741935484\n"
     ]
    },
    {
     "name": "stdout",
     "output_type": "stream",
     "text": [
      "Epoch 150 Loss 0.04120490134606268\n",
      "train accuracy is: 0.957102320146887, test accuracy is 0.9657258064516129\n"
     ]
    },
    {
     "name": "stdout",
     "output_type": "stream",
     "text": [
      "Epoch 160 Loss 0.04054159906748106\n",
      "train accuracy is: 0.957603071273577, test accuracy is 0.9647177419354839\n"
     ]
    },
    {
     "name": "stdout",
     "output_type": "stream",
     "text": [
      "Epoch 170 Loss 0.03993791884842546\n",
      "train accuracy is: 0.958020363879152, test accuracy is 0.9647177419354839\n"
     ]
    },
    {
     "name": "stdout",
     "output_type": "stream",
     "text": [
      "Epoch 180 Loss 0.039385114738137064\n",
      "train accuracy is: 0.958604573526957, test accuracy is 0.9647177419354839\n"
     ]
    },
    {
     "name": "stdout",
     "output_type": "stream",
     "text": [
      "Epoch 190 Loss 0.03887555296039987\n",
      "train accuracy is: 0.9591053246536472, test accuracy is 0.9657258064516129\n"
     ]
    },
    {
     "name": "stdout",
     "output_type": "stream",
     "text": [
      "Epoch 200 Loss 0.038403935630262134\n",
      "train accuracy is: 0.9596895343014522, test accuracy is 0.9657258064516129\n"
     ]
    },
    {
     "name": "stdout",
     "output_type": "stream",
     "text": [
      "Epoch 210 Loss 0.037966276022216285\n",
      "train accuracy is: 0.9601068269070272, test accuracy is 0.9657258064516129\n"
     ]
    },
    {
     "name": "stdout",
     "output_type": "stream",
     "text": [
      "Epoch 220 Loss 0.03755845094630317\n",
      "train accuracy is: 0.9604406609914873, test accuracy is 0.9652217741935484\n"
     ]
    },
    {
     "name": "stdout",
     "output_type": "stream",
     "text": [
      "Epoch 230 Loss 0.037176313978244974\n",
      "train accuracy is: 0.9606910365548322, test accuracy is 0.9657258064516129\n"
     ]
    },
    {
     "name": "stdout",
     "output_type": "stream",
     "text": [
      "Epoch 240 Loss 0.036818608807131836\n",
      "train accuracy is: 0.9608579535970623, test accuracy is 0.9662298387096774\n"
     ]
    },
    {
     "data": {
      "text/plain": [
       "0.05265650459542761"
      ]
     },
     "execution_count": 23,
     "metadata": {},
     "output_type": "execute_result"
    }
   ],
   "source": [
    "learner2.train_loop(dl)"
   ]
  },
  {
   "cell_type": "markdown",
   "metadata": {
    "papermill": {
     "duration": 0.043792,
     "end_time": "2020-08-19T00:29:53.006699",
     "exception": false,
     "start_time": "2020-08-19T00:29:52.962907",
     "status": "completed"
    },
    "tags": []
   },
   "source": [
    "### Comparing results of NN and LR"
   ]
  },
  {
   "cell_type": "code",
   "execution_count": 24,
   "metadata": {
    "execution": {
     "iopub.execute_input": "2020-08-19T00:29:53.101890Z",
     "iopub.status.busy": "2020-08-19T00:29:53.100858Z",
     "iopub.status.idle": "2020-08-19T00:29:53.317765Z",
     "shell.execute_reply": "2020-08-19T00:29:53.318233Z"
    },
    "papermill": {
     "duration": 0.267424,
     "end_time": "2020-08-19T00:29:53.318395",
     "exception": false,
     "start_time": "2020-08-19T00:29:53.050971",
     "status": "completed"
    },
    "tags": []
   },
   "outputs": [
    {
     "data": {
      "text/plain": [
       "<matplotlib.legend.Legend at 0x7f82f03e59b0>"
      ]
     },
     "execution_count": 24,
     "metadata": {},
     "output_type": "execute_result"
    },
    {
     "data": {
      "image/png": "[encoded data removed]",
      "text/plain": [
       "<Figure size 576x360 with 1 Axes>"
      ]
     },
     "metadata": {
      "needs_background": "light"
     },
     "output_type": "display_data"
    }
   ],
   "source": [
    "plt.figure(figsize=(8,5))\n",
    "plt.plot(acc1.val_accuracies, 'g-', label = \"Val Accuracies - NN\")\n",
    "plt.plot(acc1.accuracies, 'r-', label = \"Accuracies - NN\")\n",
    "plt.plot(acc2.val_accuracies, 'b-', label = \"Val Accuracies - Logistic Reg\")\n",
    "plt.plot(acc2.accuracies, 'k-', label = \"Accuracies - Logistic Reg\")\n",
    "plt.ylim(0.8,1) ## for a more spread out view\n",
    "plt.legend()"
   ]
  },
  {
   "cell_type": "markdown",
   "metadata": {
    "papermill": {
     "duration": 0.045296,
     "end_time": "2020-08-19T00:29:53.410430",
     "exception": false,
     "start_time": "2020-08-19T00:29:53.365134",
     "status": "completed"
    },
    "tags": []
   },
   "source": [
    "### Clearly NN has a better accuracy over LR; NN is overfitting - Validation accuracy (green) has dropped below training accuracy (orange), also they are diverging. This problem is not seen in LR"
   ]
  },
  {
   "cell_type": "markdown",
   "metadata": {
    "papermill": {
     "duration": 0.045019,
     "end_time": "2020-08-19T00:29:53.502186",
     "exception": false,
     "start_time": "2020-08-19T00:29:53.457167",
     "status": "completed"
    },
    "tags": []
   },
   "source": [
    "##### Now we will be moving through the network, till the output of the second last affine where we get a 2 dimensional output. We will be plotting this 2d output and probability contours"
   ]
  },
  {
   "cell_type": "code",
   "execution_count": 25,
   "metadata": {
    "execution": {
     "iopub.execute_input": "2020-08-19T00:29:53.597214Z",
     "iopub.status.busy": "2020-08-19T00:29:53.596594Z",
     "iopub.status.idle": "2020-08-19T00:29:53.610493Z",
     "shell.execute_reply": "2020-08-19T00:29:53.609992Z"
    },
    "papermill": {
     "duration": 0.063371,
     "end_time": "2020-08-19T00:29:53.610618",
     "exception": false,
     "start_time": "2020-08-19T00:29:53.547247",
     "status": "completed"
    },
    "tags": []
   },
   "outputs": [],
   "source": [
    "model_new = Model(layers[:-2])"
   ]
  },
  {
   "cell_type": "code",
   "execution_count": 26,
   "metadata": {
    "execution": {
     "iopub.execute_input": "2020-08-19T00:29:53.705295Z",
     "iopub.status.busy": "2020-08-19T00:29:53.704709Z",
     "iopub.status.idle": "2020-08-19T00:29:53.727802Z",
     "shell.execute_reply": "2020-08-19T00:29:53.728322Z"
    },
    "papermill": {
     "duration": 0.073358,
     "end_time": "2020-08-19T00:29:53.728483",
     "exception": false,
     "start_time": "2020-08-19T00:29:53.655125",
     "status": "completed"
    },
    "tags": []
   },
   "outputs": [],
   "source": [
    "plot_testing = model_new(testing_xdata)"
   ]
  },
  {
   "cell_type": "markdown",
   "metadata": {
    "papermill": {
     "duration": 0.044565,
     "end_time": "2020-08-19T00:29:53.820479",
     "exception": false,
     "start_time": "2020-08-19T00:29:53.775914",
     "status": "completed"
    },
    "tags": []
   },
   "source": [
    "##### Plotting the scatter plot of points and color coding by class"
   ]
  },
  {
   "cell_type": "code",
   "execution_count": 27,
   "metadata": {
    "execution": {
     "iopub.execute_input": "2020-08-19T00:29:53.918698Z",
     "iopub.status.busy": "2020-08-19T00:29:53.918096Z",
     "iopub.status.idle": "2020-08-19T00:29:54.135912Z",
     "shell.execute_reply": "2020-08-19T00:29:54.136368Z"
    },
    "papermill": {
     "duration": 0.270027,
     "end_time": "2020-08-19T00:29:54.136514",
     "exception": false,
     "start_time": "2020-08-19T00:29:53.866487",
     "status": "completed"
    },
    "tags": []
   },
   "outputs": [
    {
     "data": {
      "image/png": "[encoded data removed]",
      "text/plain": [
       "<Figure size 576x504 with 1 Axes>"
      ]
     },
     "metadata": {
      "needs_background": "light"
     },
     "output_type": "display_data"
    }
   ],
   "source": [
    "plt.figure(figsize=(8,7))\n",
    "plt.scatter(plot_testing[:,0], plot_testing[:,1], alpha = 0.1, c = y_test.ravel());"
   ]
  },
  {
   "cell_type": "markdown",
   "metadata": {
    "papermill": {
     "duration": 0.048392,
     "end_time": "2020-08-19T00:29:54.258964",
     "exception": false,
     "start_time": "2020-08-19T00:29:54.210572",
     "status": "completed"
    },
    "tags": []
   },
   "source": [
    "##### Plotting probability contours"
   ]
  },
  {
   "cell_type": "code",
   "execution_count": 28,
   "metadata": {
    "execution": {
     "iopub.execute_input": "2020-08-19T00:29:54.359556Z",
     "iopub.status.busy": "2020-08-19T00:29:54.359011Z",
     "iopub.status.idle": "2020-08-19T00:29:54.370755Z",
     "shell.execute_reply": "2020-08-19T00:29:54.371168Z"
    },
    "papermill": {
     "duration": 0.064209,
     "end_time": "2020-08-19T00:29:54.371310",
     "exception": false,
     "start_time": "2020-08-19T00:29:54.307101",
     "status": "completed"
    },
    "tags": []
   },
   "outputs": [],
   "source": [
    "model_prob = Model(layers[-2:]) ## picking only last two layers to get probability. That is affine followed by sigmoid"
   ]
  },
  {
   "cell_type": "code",
   "execution_count": 29,
   "metadata": {
    "execution": {
     "iopub.execute_input": "2020-08-19T00:29:54.471550Z",
     "iopub.status.busy": "2020-08-19T00:29:54.470810Z",
     "iopub.status.idle": "2020-08-19T00:29:54.484655Z",
     "shell.execute_reply": "2020-08-19T00:29:54.485083Z"
    },
    "papermill": {
     "duration": 0.06812,
     "end_time": "2020-08-19T00:29:54.485236",
     "exception": false,
     "start_time": "2020-08-19T00:29:54.417116",
     "status": "completed"
    },
    "tags": []
   },
   "outputs": [],
   "source": [
    "xgrid = np.linspace(-4, 1, 100) ## Adjust these values based on above chart, roughly -4 to 1\n",
    "ygrid = np.linspace(-7.5, 7.5, 100) ## Adjust these values based on above chart, roughly -7.5, 7.5\n",
    "xg, yg = np.meshgrid(xgrid, ygrid)\n",
    "# xg and yg are now both 100X100, lets convert them to single arrays \n",
    "\n",
    "xg_interim = np.ravel(xg)\n",
    "yg_interim = np.ravel(yg)\n",
    "\n",
    "## xg_interim, yg_interim are now arrays of len 10000, now we will stack them and then transpose to get desired shape of n rows, 2 columns\n",
    "\n",
    "X_interim = np.vstack((xg_interim, yg_interim)) ## Please note vstack takes in a tuple\n",
    "X = X_interim.T\n",
    "\n",
    "## We want a shape of n rows and 2 columns to be able to feed this to last affine\n",
    "## This last affine takes only two columns, hence the above transformation\n",
    "probability_contour = model_prob(X).reshape(100,100) ## to make it consistent with xg, yg"
   ]
  },
  {
   "cell_type": "code",
   "execution_count": 30,
   "metadata": {
    "execution": {
     "iopub.execute_input": "2020-08-19T00:29:54.589852Z",
     "iopub.status.busy": "2020-08-19T00:29:54.589260Z",
     "iopub.status.idle": "2020-08-19T00:29:54.810942Z",
     "shell.execute_reply": "2020-08-19T00:29:54.810437Z"
    },
    "papermill": {
     "duration": 0.278096,
     "end_time": "2020-08-19T00:29:54.811078",
     "exception": false,
     "start_time": "2020-08-19T00:29:54.532982",
     "status": "completed"
    },
    "tags": []
   },
   "outputs": [
    {
     "data": {
      "image/png": "[encoded data removed]",
      "text/plain": [
       "<Figure size 576x504 with 1 Axes>"
      ]
     },
     "metadata": {
      "needs_background": "light"
     },
     "output_type": "display_data"
    }
   ],
   "source": [
    "plt.figure(figsize=(8,7))\n",
    "plt.scatter(plot_testing[:,0], plot_testing[:,1], alpha = 0.1, c = y_test.ravel())\n",
    "contours = plt.contour(xg,yg,probability_contour)\n",
    "plt.clabel(contours, inline = True );"
   ]
  }
 ],
 "metadata": {
  "kernelspec": {
   "display_name": "Python 3",
   "language": "python",
   "name": "python3"
  },
  "language_info": {
   "codemirror_mode": {
    "name": "ipython",
    "version": 3
   },
   "file_extension": ".py",
   "mimetype": "text/x-python",
   "name": "python",
   "nbconvert_exporter": "python",
   "pygments_lexer": "ipython3",
   "version": "3.6.11"
  },
  "papermill": {
   "duration": 108.346686,
   "end_time": "2020-08-19T00:29:56.096425",
   "environment_variables": {},
   "exception": null,
   "input_path": "2020-08-07-NN-new.ipynb",
   "output_path": "2020-08-07-NN-new.ipynb",
   "parameters": {},
   "start_time": "2020-08-19T00:28:07.749739",
   "version": "2.1.2"
  }
 },
 "nbformat": 4,
 "nbformat_minor": 4
}