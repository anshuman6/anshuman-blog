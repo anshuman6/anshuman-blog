{
 "cells": [
  {
   "cell_type": "markdown",
   "metadata": {
    "papermill": {
     "duration": 0.035744,
     "end_time": "2020-08-09T08:48:01.083859",
     "exception": false,
     "start_time": "2020-08-09T08:48:01.048115",
     "status": "completed"
    },
    "tags": []
   },
   "source": [
    "# \"Building a basic Neural Network from scratch - Kudzu\"\n",
    "\n",
    "- badges: true\n",
    "- author: Anshuman Gupta"
   ]
  },
  {
   "cell_type": "markdown",
   "metadata": {
    "papermill": {
     "duration": 0.02979,
     "end_time": "2020-08-09T08:48:01.142712",
     "exception": false,
     "start_time": "2020-08-09T08:48:01.112922",
     "status": "completed"
    },
    "tags": []
   },
   "source": [
    "#### In this project, the idea is to write a classifier to differentiate between handwritten digits 3 and 8, from the MNIST database.\n",
    "\n",
    "#### I will using a custom built neural network library called Kudzu.This has been developed as a part of KTF/Foundations course of Univ.ai (www.univ.ai). The source code for Kudzu Library and and this notebook can be found on my git-hub profile : www.https://github.com/anshuman6 under the folder project-solution. Any feedback and comments are welcome. Please feel free to email me at: anshuman6@gmail.com\n",
    "\n",
    "#### 1. I will be using the MNIST database. \n",
    "\n",
    "#### 2. I will be comparing the results of the 4 layer NN to a standard logistic regression"
   ]
  },
  {
   "cell_type": "markdown",
   "metadata": {
    "papermill": {
     "duration": 0.028295,
     "end_time": "2020-08-09T08:48:01.198912",
     "exception": false,
     "start_time": "2020-08-09T08:48:01.170617",
     "status": "completed"
    },
    "tags": []
   },
   "source": [
    "##### Importing all the necessary libraries"
   ]
  },
  {
   "cell_type": "code",
   "execution_count": 1,
   "metadata": {
    "execution": {
     "iopub.execute_input": "2020-08-09T08:48:01.261620Z",
     "iopub.status.busy": "2020-08-09T08:48:01.260972Z",
     "iopub.status.idle": "2020-08-09T08:48:01.273580Z",
     "shell.execute_reply": "2020-08-09T08:48:01.272949Z"
    },
    "papermill": {
     "duration": 0.045799,
     "end_time": "2020-08-09T08:48:01.273719",
     "exception": false,
     "start_time": "2020-08-09T08:48:01.227920",
     "status": "completed"
    },
    "tags": []
   },
   "outputs": [],
   "source": [
    "%load_ext autoreload\n",
    "%autoreload 2"
   ]
  },
  {
   "cell_type": "code",
   "execution_count": 2,
   "metadata": {
    "execution": {
     "iopub.execute_input": "2020-08-09T08:48:01.335007Z",
     "iopub.status.busy": "2020-08-09T08:48:01.334419Z",
     "iopub.status.idle": "2020-08-09T08:48:01.923354Z",
     "shell.execute_reply": "2020-08-09T08:48:01.922829Z"
    },
    "papermill": {
     "duration": 0.620708,
     "end_time": "2020-08-09T08:48:01.923597",
     "exception": false,
     "start_time": "2020-08-09T08:48:01.302889",
     "status": "completed"
    },
    "tags": []
   },
   "outputs": [],
   "source": [
    "%matplotlib inline\n",
    "import numpy as np\n",
    "import matplotlib.pyplot as plt\n",
    "import pandas as pd"
   ]
  },
  {
   "cell_type": "markdown",
   "metadata": {
    "papermill": {
     "duration": 0.029988,
     "end_time": "2020-08-09T08:48:01.984295",
     "exception": false,
     "start_time": "2020-08-09T08:48:01.954307",
     "status": "completed"
    },
    "tags": []
   },
   "source": [
    "##### The following command helps us download MNIST from notebook itself. You can skip this if you already have MNIST. You can also download it via your terminal."
   ]
  },
  {
   "cell_type": "code",
   "execution_count": 3,
   "metadata": {
    "execution": {
     "iopub.execute_input": "2020-08-09T08:48:02.049241Z",
     "iopub.status.busy": "2020-08-09T08:48:02.048619Z",
     "iopub.status.idle": "2020-08-09T08:48:03.472730Z",
     "shell.execute_reply": "2020-08-09T08:48:03.472228Z"
    },
    "papermill": {
     "duration": 1.460125,
     "end_time": "2020-08-09T08:48:03.472873",
     "exception": false,
     "start_time": "2020-08-09T08:48:02.012748",
     "status": "completed"
    },
    "tags": []
   },
   "outputs": [
    {
     "name": "stdout",
     "output_type": "stream",
     "text": [
      "Collecting mnist\r\n"
     ]
    },
    {
     "name": "stdout",
     "output_type": "stream",
     "text": [
      "  Downloading mnist-0.2.2-py2.py3-none-any.whl (3.5 kB)\r\n",
      "Requirement already satisfied: numpy in /opt/hostedtoolcache/Python/3.6.11/x64/lib/python3.6/site-packages (from mnist) (1.19.1)\r\n"
     ]
    },
    {
     "name": "stdout",
     "output_type": "stream",
     "text": [
      "Installing collected packages: mnist\r\n"
     ]
    },
    {
     "name": "stdout",
     "output_type": "stream",
     "text": [
      "Successfully installed mnist-0.2.2\r\n"
     ]
    },
    {
     "name": "stdout",
     "output_type": "stream",
     "text": [
      "\u001b[33mWARNING: You are using pip version 20.2; however, version 20.2.1 is available.\r\n",
      "You should consider upgrading via the '/opt/hostedtoolcache/Python/3.6.11/x64/bin/python -m pip install --upgrade pip' command.\u001b[0m\r\n"
     ]
    }
   ],
   "source": [
    "!pip install mnist # Please note, it is commented out for now, you can remove comment if you want to install it"
   ]
  },
  {
   "cell_type": "markdown",
   "metadata": {
    "papermill": {
     "duration": 0.027579,
     "end_time": "2020-08-09T08:48:03.532480",
     "exception": false,
     "start_time": "2020-08-09T08:48:03.504901",
     "status": "completed"
    },
    "tags": []
   },
   "source": [
    "#### Preparing the Data"
   ]
  },
  {
   "cell_type": "code",
   "execution_count": 4,
   "metadata": {
    "execution": {
     "iopub.execute_input": "2020-08-09T08:48:03.591669Z",
     "iopub.status.busy": "2020-08-09T08:48:03.591095Z",
     "iopub.status.idle": "2020-08-09T08:48:03.604592Z",
     "shell.execute_reply": "2020-08-09T08:48:03.604123Z"
    },
    "papermill": {
     "duration": 0.0448,
     "end_time": "2020-08-09T08:48:03.604764",
     "exception": false,
     "start_time": "2020-08-09T08:48:03.559964",
     "status": "completed"
    },
    "tags": []
   },
   "outputs": [],
   "source": [
    "import mnist"
   ]
  },
  {
   "cell_type": "code",
   "execution_count": 5,
   "metadata": {
    "execution": {
     "iopub.execute_input": "2020-08-09T08:48:03.668834Z",
     "iopub.status.busy": "2020-08-09T08:48:03.668018Z",
     "iopub.status.idle": "2020-08-09T08:48:05.356792Z",
     "shell.execute_reply": "2020-08-09T08:48:05.355225Z"
    },
    "papermill": {
     "duration": 1.72009,
     "end_time": "2020-08-09T08:48:05.356958",
     "exception": false,
     "start_time": "2020-08-09T08:48:03.636868",
     "status": "completed"
    },
    "tags": []
   },
   "outputs": [],
   "source": [
    "train_images = mnist.train_images()\n",
    "train_labels = mnist.train_labels()"
   ]
  },
  {
   "cell_type": "code",
   "execution_count": 6,
   "metadata": {
    "execution": {
     "iopub.execute_input": "2020-08-09T08:48:05.417895Z",
     "iopub.status.busy": "2020-08-09T08:48:05.416985Z",
     "iopub.status.idle": "2020-08-09T08:48:05.432359Z",
     "shell.execute_reply": "2020-08-09T08:48:05.431851Z"
    },
    "papermill": {
     "duration": 0.047559,
     "end_time": "2020-08-09T08:48:05.432477",
     "exception": false,
     "start_time": "2020-08-09T08:48:05.384918",
     "status": "completed"
    },
    "tags": []
   },
   "outputs": [
    {
     "data": {
      "text/plain": [
       "((60000, 28, 28), (60000,))"
      ]
     },
     "execution_count": 6,
     "metadata": {},
     "output_type": "execute_result"
    }
   ],
   "source": [
    "train_images.shape, train_labels.shape"
   ]
  },
  {
   "cell_type": "code",
   "execution_count": 7,
   "metadata": {
    "execution": {
     "iopub.execute_input": "2020-08-09T08:48:05.494017Z",
     "iopub.status.busy": "2020-08-09T08:48:05.493470Z",
     "iopub.status.idle": "2020-08-09T08:48:06.388181Z",
     "shell.execute_reply": "2020-08-09T08:48:06.387251Z"
    },
    "papermill": {
     "duration": 0.928078,
     "end_time": "2020-08-09T08:48:06.388373",
     "exception": false,
     "start_time": "2020-08-09T08:48:05.460295",
     "status": "completed"
    },
    "tags": []
   },
   "outputs": [],
   "source": [
    "test_images = mnist.test_images()\n",
    "test_labels = mnist.test_labels()"
   ]
  },
  {
   "cell_type": "code",
   "execution_count": 8,
   "metadata": {
    "execution": {
     "iopub.execute_input": "2020-08-09T08:48:06.456708Z",
     "iopub.status.busy": "2020-08-09T08:48:06.456102Z",
     "iopub.status.idle": "2020-08-09T08:48:06.468890Z",
     "shell.execute_reply": "2020-08-09T08:48:06.469481Z"
    },
    "papermill": {
     "duration": 0.049185,
     "end_time": "2020-08-09T08:48:06.469608",
     "exception": false,
     "start_time": "2020-08-09T08:48:06.420423",
     "status": "completed"
    },
    "tags": []
   },
   "outputs": [
    {
     "data": {
      "text/plain": [
       "((10000, 28, 28), (10000,))"
      ]
     },
     "execution_count": 8,
     "metadata": {},
     "output_type": "execute_result"
    }
   ],
   "source": [
    "test_images.shape, test_labels.shape"
   ]
  },
  {
   "cell_type": "code",
   "execution_count": 9,
   "metadata": {
    "execution": {
     "iopub.execute_input": "2020-08-09T08:48:06.547467Z",
     "iopub.status.busy": "2020-08-09T08:48:06.546535Z",
     "iopub.status.idle": "2020-08-09T08:48:06.738584Z",
     "shell.execute_reply": "2020-08-09T08:48:06.738086Z"
    },
    "papermill": {
     "duration": 0.238749,
     "end_time": "2020-08-09T08:48:06.738702",
     "exception": false,
     "start_time": "2020-08-09T08:48:06.499953",
     "status": "completed"
    },
    "tags": []
   },
   "outputs": [
    {
     "name": "stdout",
     "output_type": "stream",
     "text": [
      "2\n"
     ]
    },
    {
     "data": {
      "text/plain": [
       "<matplotlib.image.AxesImage at 0x7f54aeb049e8>"
      ]
     },
     "execution_count": 9,
     "metadata": {},
     "output_type": "execute_result"
    },
    {
     "data": {
      "image/png": "[encoded data removed]",
      "text/plain": [
       "<Figure size 432x288 with 1 Axes>"
      ]
     },
     "metadata": {
      "needs_background": "light"
     },
     "output_type": "display_data"
    }
   ],
   "source": [
    "image_index = 7776 # You may select anything up to 60,000\n",
    "print(train_labels[image_index]) \n",
    "plt.imshow(train_images[image_index], cmap='Greys')"
   ]
  },
  {
   "cell_type": "markdown",
   "metadata": {
    "papermill": {
     "duration": 0.029088,
     "end_time": "2020-08-09T08:48:06.797284",
     "exception": false,
     "start_time": "2020-08-09T08:48:06.768196",
     "status": "completed"
    },
    "tags": []
   },
   "source": [
    "## Filter data to get 3 and 8 out"
   ]
  },
  {
   "cell_type": "code",
   "execution_count": 10,
   "metadata": {
    "execution": {
     "iopub.execute_input": "2020-08-09T08:48:06.865574Z",
     "iopub.status.busy": "2020-08-09T08:48:06.859831Z",
     "iopub.status.idle": "2020-08-09T08:48:06.878058Z",
     "shell.execute_reply": "2020-08-09T08:48:06.878541Z"
    },
    "papermill": {
     "duration": 0.052486,
     "end_time": "2020-08-09T08:48:06.878683",
     "exception": false,
     "start_time": "2020-08-09T08:48:06.826197",
     "status": "completed"
    },
    "tags": []
   },
   "outputs": [],
   "source": [
    "train_filter = np.where((train_labels == 3 ) | (train_labels == 8))\n",
    "test_filter = np.where((test_labels == 3) | (test_labels == 8))\n",
    "X_train, y_train = train_images[train_filter], train_labels[train_filter]\n",
    "X_test, y_test = test_images[test_filter], test_labels[test_filter]"
   ]
  },
  {
   "cell_type": "markdown",
   "metadata": {
    "papermill": {
     "duration": 0.031053,
     "end_time": "2020-08-09T08:48:06.938490",
     "exception": false,
     "start_time": "2020-08-09T08:48:06.907437",
     "status": "completed"
    },
    "tags": []
   },
   "source": [
    "##### We normalize the pizel values in the 0 to 1 range"
   ]
  },
  {
   "cell_type": "code",
   "execution_count": 11,
   "metadata": {
    "execution": {
     "iopub.execute_input": "2020-08-09T08:48:07.028492Z",
     "iopub.status.busy": "2020-08-09T08:48:07.027639Z",
     "iopub.status.idle": "2020-08-09T08:48:07.088506Z",
     "shell.execute_reply": "2020-08-09T08:48:07.089013Z"
    },
    "papermill": {
     "duration": 0.111308,
     "end_time": "2020-08-09T08:48:07.089169",
     "exception": false,
     "start_time": "2020-08-09T08:48:06.977861",
     "status": "completed"
    },
    "tags": []
   },
   "outputs": [],
   "source": [
    "X_train = X_train/255.\n",
    "X_test = X_test/255."
   ]
  },
  {
   "cell_type": "markdown",
   "metadata": {
    "papermill": {
     "duration": 0.034286,
     "end_time": "2020-08-09T08:48:07.160291",
     "exception": false,
     "start_time": "2020-08-09T08:48:07.126005",
     "status": "completed"
    },
    "tags": []
   },
   "source": [
    "And setup the labels as 1 (when the digit is 3) and 0 (when the digit is 8)"
   ]
  },
  {
   "cell_type": "code",
   "execution_count": 12,
   "metadata": {
    "execution": {
     "iopub.execute_input": "2020-08-09T08:48:07.235066Z",
     "iopub.status.busy": "2020-08-09T08:48:07.234423Z",
     "iopub.status.idle": "2020-08-09T08:48:07.247348Z",
     "shell.execute_reply": "2020-08-09T08:48:07.246426Z"
    },
    "papermill": {
     "duration": 0.057258,
     "end_time": "2020-08-09T08:48:07.247512",
     "exception": false,
     "start_time": "2020-08-09T08:48:07.190254",
     "status": "completed"
    },
    "tags": []
   },
   "outputs": [],
   "source": [
    "y_train = 1*(y_train==3)\n",
    "y_test = 1*(y_test==3)"
   ]
  },
  {
   "cell_type": "code",
   "execution_count": 13,
   "metadata": {
    "execution": {
     "iopub.execute_input": "2020-08-09T08:48:07.310021Z",
     "iopub.status.busy": "2020-08-09T08:48:07.309242Z",
     "iopub.status.idle": "2020-08-09T08:48:07.321295Z",
     "shell.execute_reply": "2020-08-09T08:48:07.320614Z"
    },
    "papermill": {
     "duration": 0.044284,
     "end_time": "2020-08-09T08:48:07.321409",
     "exception": false,
     "start_time": "2020-08-09T08:48:07.277125",
     "status": "completed"
    },
    "tags": []
   },
   "outputs": [
    {
     "data": {
      "text/plain": [
       "((11982, 28, 28), (1984, 28, 28))"
      ]
     },
     "execution_count": 13,
     "metadata": {},
     "output_type": "execute_result"
    }
   ],
   "source": [
    "X_train.shape, X_test.shape"
   ]
  },
  {
   "cell_type": "markdown",
   "metadata": {
    "papermill": {
     "duration": 0.030758,
     "end_time": "2020-08-09T08:48:07.384414",
     "exception": false,
     "start_time": "2020-08-09T08:48:07.353656",
     "status": "completed"
    },
    "tags": []
   },
   "source": [
    "##### We reshape the data to flatten the image pixels into a set of features or co-variates:"
   ]
  },
  {
   "cell_type": "code",
   "execution_count": 14,
   "metadata": {
    "execution": {
     "iopub.execute_input": "2020-08-09T08:48:07.448086Z",
     "iopub.status.busy": "2020-08-09T08:48:07.447529Z",
     "iopub.status.idle": "2020-08-09T08:48:07.460631Z",
     "shell.execute_reply": "2020-08-09T08:48:07.460177Z"
    },
    "papermill": {
     "duration": 0.04713,
     "end_time": "2020-08-09T08:48:07.460823",
     "exception": false,
     "start_time": "2020-08-09T08:48:07.413693",
     "status": "completed"
    },
    "tags": []
   },
   "outputs": [
    {
     "data": {
      "text/plain": [
       "((11982, 784), (1984, 784))"
      ]
     },
     "execution_count": 14,
     "metadata": {},
     "output_type": "execute_result"
    }
   ],
   "source": [
    "X_train = X_train.reshape(X_train.shape[0], -1)\n",
    "X_test = X_test.reshape(X_test.shape[0], -1)\n",
    "X_train.shape, X_test.shape"
   ]
  },
  {
   "cell_type": "markdown",
   "metadata": {
    "papermill": {
     "duration": 0.031929,
     "end_time": "2020-08-09T08:48:07.524902",
     "exception": false,
     "start_time": "2020-08-09T08:48:07.492973",
     "status": "completed"
    },
    "tags": []
   },
   "source": [
    "##### Importing Kudzu library and its functionality"
   ]
  },
  {
   "cell_type": "code",
   "execution_count": 15,
   "metadata": {
    "execution": {
     "iopub.execute_input": "2020-08-09T08:48:07.589686Z",
     "iopub.status.busy": "2020-08-09T08:48:07.589017Z",
     "iopub.status.idle": "2020-08-09T08:48:07.609764Z",
     "shell.execute_reply": "2020-08-09T08:48:07.608914Z"
    },
    "papermill": {
     "duration": 0.05511,
     "end_time": "2020-08-09T08:48:07.609905",
     "exception": false,
     "start_time": "2020-08-09T08:48:07.554795",
     "status": "completed"
    },
    "tags": []
   },
   "outputs": [],
   "source": [
    "from kudzu.data import Data, Dataloader, Sampler\n",
    "from kudzu.callbacks import AccCallback\n",
    "from kudzu.loss import MSE\n",
    "from kudzu.layer import Affine, Sigmoid\n",
    "from kudzu.model import Model\n",
    "from kudzu.optim import GD\n",
    "from kudzu.train import Learner\n",
    "from kudzu.callbacks import ClfCallback\n",
    "from kudzu.layer import Sigmoid\n",
    "from kudzu.layer import Relu"
   ]
  },
  {
   "cell_type": "markdown",
   "metadata": {
    "papermill": {
     "duration": 0.031755,
     "end_time": "2020-08-09T08:48:07.676368",
     "exception": false,
     "start_time": "2020-08-09T08:48:07.644613",
     "status": "completed"
    },
    "tags": []
   },
   "source": [
    "##### We are creating a class, just so that we can use it to store our parameters for us"
   ]
  },
  {
   "cell_type": "code",
   "execution_count": 16,
   "metadata": {
    "execution": {
     "iopub.execute_input": "2020-08-09T08:48:07.747561Z",
     "iopub.status.busy": "2020-08-09T08:48:07.746526Z",
     "iopub.status.idle": "2020-08-09T08:48:07.758772Z",
     "shell.execute_reply": "2020-08-09T08:48:07.759238Z"
    },
    "papermill": {
     "duration": 0.048465,
     "end_time": "2020-08-09T08:48:07.759364",
     "exception": false,
     "start_time": "2020-08-09T08:48:07.710899",
     "status": "completed"
    },
    "tags": []
   },
   "outputs": [],
   "source": [
    "class Config:\n",
    "    pass\n",
    "config = Config()\n",
    "config.lr = 0.001\n",
    "config.num_epochs = 250\n",
    "config.bs = 50"
   ]
  },
  {
   "cell_type": "markdown",
   "metadata": {
    "papermill": {
     "duration": 0.029385,
     "end_time": "2020-08-09T08:48:07.819550",
     "exception": false,
     "start_time": "2020-08-09T08:48:07.790165",
     "status": "completed"
    },
    "tags": []
   },
   "source": [
    "##### Initializing Data"
   ]
  },
  {
   "cell_type": "code",
   "execution_count": 17,
   "metadata": {
    "execution": {
     "iopub.execute_input": "2020-08-09T08:48:07.883891Z",
     "iopub.status.busy": "2020-08-09T08:48:07.883312Z",
     "iopub.status.idle": "2020-08-09T08:48:07.895318Z",
     "shell.execute_reply": "2020-08-09T08:48:07.894859Z"
    },
    "papermill": {
     "duration": 0.046335,
     "end_time": "2020-08-09T08:48:07.895442",
     "exception": false,
     "start_time": "2020-08-09T08:48:07.849107",
     "status": "completed"
    },
    "tags": []
   },
   "outputs": [],
   "source": [
    "data = Data(X_train, y_train.reshape(-1,1))\n",
    "loss = MSE()\n",
    "opt = GD(config.lr)\n",
    "sampler = Sampler(data, config.bs, shuffle=True)\n",
    "dl = Dataloader(data, sampler)"
   ]
  },
  {
   "cell_type": "markdown",
   "metadata": {
    "papermill": {
     "duration": 0.029531,
     "end_time": "2020-08-09T08:48:07.953142",
     "exception": false,
     "start_time": "2020-08-09T08:48:07.923611",
     "status": "completed"
    },
    "tags": []
   },
   "source": [
    "##### Constructing 2 different layers, one for NN and one only for logistic regression."
   ]
  },
  {
   "cell_type": "markdown",
   "metadata": {
    "papermill": {
     "duration": 0.029335,
     "end_time": "2020-08-09T08:48:08.011080",
     "exception": false,
     "start_time": "2020-08-09T08:48:07.981745",
     "status": "completed"
    },
    "tags": []
   },
   "source": [
    "##### Creating containers for data to be passed, to calculate accuracies"
   ]
  },
  {
   "cell_type": "code",
   "execution_count": 18,
   "metadata": {
    "execution": {
     "iopub.execute_input": "2020-08-09T08:48:08.077413Z",
     "iopub.status.busy": "2020-08-09T08:48:08.076862Z",
     "iopub.status.idle": "2020-08-09T08:48:08.088608Z",
     "shell.execute_reply": "2020-08-09T08:48:08.089253Z"
    },
    "papermill": {
     "duration": 0.049025,
     "end_time": "2020-08-09T08:48:08.089377",
     "exception": false,
     "start_time": "2020-08-09T08:48:08.040352",
     "status": "completed"
    },
    "tags": []
   },
   "outputs": [],
   "source": [
    "training_xdata = X_train\n",
    "testing_xdata = X_test\n",
    "training_ydata = y_train.reshape(-1,1)\n",
    "testing_ydata = y_test.reshape(-1,1)"
   ]
  },
  {
   "cell_type": "markdown",
   "metadata": {
    "papermill": {
     "duration": 0.043502,
     "end_time": "2020-08-09T08:48:08.170728",
     "exception": false,
     "start_time": "2020-08-09T08:48:08.127226",
     "status": "completed"
    },
    "tags": []
   },
   "source": [
    "##### Initializing models and Running training loop: "
   ]
  },
  {
   "cell_type": "code",
   "execution_count": 19,
   "metadata": {
    "execution": {
     "iopub.execute_input": "2020-08-09T08:48:08.242951Z",
     "iopub.status.busy": "2020-08-09T08:48:08.242360Z",
     "iopub.status.idle": "2020-08-09T08:48:08.258703Z",
     "shell.execute_reply": "2020-08-09T08:48:08.258166Z"
    },
    "papermill": {
     "duration": 0.053184,
     "end_time": "2020-08-09T08:48:08.258857",
     "exception": false,
     "start_time": "2020-08-09T08:48:08.205673",
     "status": "completed"
    },
    "tags": []
   },
   "outputs": [],
   "source": [
    "layers = [Affine(\"first\", 784, 100), Relu(\"first\"), Affine(\"second\", 100, 100), Relu(\"second\"), Affine(\"third\", 100, 2), Affine(\"final\", 2, 1), Sigmoid(\"final\")]\n",
    "\n",
    "model_neural = Model(layers)\n",
    "model_logistic = Model([Affine(\"logits\", 784, 1), Sigmoid(\"sigmoid\")])"
   ]
  },
  {
   "cell_type": "code",
   "execution_count": 20,
   "metadata": {
    "execution": {
     "iopub.execute_input": "2020-08-09T08:48:08.326547Z",
     "iopub.status.busy": "2020-08-09T08:48:08.326004Z",
     "iopub.status.idle": "2020-08-09T08:48:08.336855Z",
     "shell.execute_reply": "2020-08-09T08:48:08.336362Z"
    },
    "papermill": {
     "duration": 0.044552,
     "end_time": "2020-08-09T08:48:08.336964",
     "exception": false,
     "start_time": "2020-08-09T08:48:08.292412",
     "status": "completed"
    },
    "tags": []
   },
   "outputs": [],
   "source": [
    "learner1 = Learner(loss, model_neural, opt, config.num_epochs)\n",
    "acc1 = ClfCallback(learner1, config.bs, training_xdata , testing_xdata, training_ydata, testing_ydata)\n",
    "learner1.set_callbacks([acc1])"
   ]
  },
  {
   "cell_type": "code",
   "execution_count": 21,
   "metadata": {
    "execution": {
     "iopub.execute_input": "2020-08-09T08:48:08.402927Z",
     "iopub.status.busy": "2020-08-09T08:48:08.402270Z",
     "iopub.status.idle": "2020-08-09T08:50:24.941433Z",
     "shell.execute_reply": "2020-08-09T08:50:24.942466Z"
    },
    "papermill": {
     "duration": 136.573637,
     "end_time": "2020-08-09T08:50:24.942654",
     "exception": false,
     "start_time": "2020-08-09T08:48:08.369017",
     "status": "completed"
    },
    "tags": []
   },
   "outputs": [
    {
     "name": "stdout",
     "output_type": "stream",
     "text": [
      "Epoch 0 Loss 0.24432593192570384\n",
      "train accuracy is: 0.5919712902687364, test accuracy is 0.5801411290322581\n"
     ]
    },
    {
     "name": "stdout",
     "output_type": "stream",
     "text": [
      "Epoch 10 Loss 0.0958394645094234\n",
      "train accuracy is: 0.9115339676180938, test accuracy is 0.9203629032258065\n"
     ]
    },
    {
     "name": "stdout",
     "output_type": "stream",
     "text": [
      "Epoch 20 Loss 0.05894409268973469\n",
      "train accuracy is: 0.9369053580370555, test accuracy is 0.9435483870967742\n"
     ]
    },
    {
     "name": "stdout",
     "output_type": "stream",
     "text": [
      "Epoch 30 Loss 0.04615983176006063\n",
      "train accuracy is: 0.9475880487397763, test accuracy is 0.9556451612903226\n"
     ]
    },
    {
     "name": "stdout",
     "output_type": "stream",
     "text": [
      "Epoch 40 Loss 0.03967433735321773\n",
      "train accuracy is: 0.9545151059923218, test accuracy is 0.9632056451612904\n"
     ]
    },
    {
     "name": "stdout",
     "output_type": "stream",
     "text": [
      "Epoch 50 Loss 0.03566510580885028\n",
      "train accuracy is: 0.9593557002169921, test accuracy is 0.9667338709677419\n"
     ]
    },
    {
     "name": "stdout",
     "output_type": "stream",
     "text": [
      "Epoch 60 Loss 0.03288796709676237\n",
      "train accuracy is: 0.9623602069771323, test accuracy is 0.9692540322580645\n"
     ]
    },
    {
     "name": "stdout",
     "output_type": "stream",
     "text": [
      "Epoch 70 Loss 0.030763705405789786\n",
      "train accuracy is: 0.9647805040894676, test accuracy is 0.9692540322580645\n"
     ]
    },
    {
     "name": "stdout",
     "output_type": "stream",
     "text": [
      "Epoch 80 Loss 0.029073257511220564\n",
      "train accuracy is: 0.9669504256384577, test accuracy is 0.9707661290322581\n"
     ]
    },
    {
     "name": "stdout",
     "output_type": "stream",
     "text": [
      "Epoch 90 Loss 0.027678606999544657\n",
      "train accuracy is: 0.9683692204974128, test accuracy is 0.9717741935483871\n"
     ]
    },
    {
     "name": "stdout",
     "output_type": "stream",
     "text": [
      "Epoch 100 Loss 0.02649826890328021\n",
      "train accuracy is: 0.9694541812719079, test accuracy is 0.9727822580645161\n"
     ]
    },
    {
     "name": "stdout",
     "output_type": "stream",
     "text": [
      "Epoch 110 Loss 0.025468617576794313\n",
      "train accuracy is: 0.9704556835252879, test accuracy is 0.9727822580645161\n"
     ]
    },
    {
     "name": "stdout",
     "output_type": "stream",
     "text": [
      "Epoch 120 Loss 0.02454317725291046\n",
      "train accuracy is: 0.9726256050742781, test accuracy is 0.9727822580645161\n"
     ]
    },
    {
     "name": "stdout",
     "output_type": "stream",
     "text": [
      "Epoch 130 Loss 0.02371280854951954\n",
      "train accuracy is: 0.9736271073276581, test accuracy is 0.9722782258064516\n"
     ]
    },
    {
     "name": "stdout",
     "output_type": "stream",
     "text": [
      "Epoch 140 Loss 0.022976460951383566\n",
      "train accuracy is: 0.9744616925388082, test accuracy is 0.9732862903225806\n"
     ]
    },
    {
     "name": "stdout",
     "output_type": "stream",
     "text": [
      "Epoch 150 Loss 0.022307067904455694\n",
      "train accuracy is: 0.9757970288766483, test accuracy is 0.9727822580645161\n"
     ]
    },
    {
     "name": "stdout",
     "output_type": "stream",
     "text": [
      "Epoch 160 Loss 0.021689332597708288\n",
      "train accuracy is: 0.9765481555666834, test accuracy is 0.9732862903225806\n"
     ]
    },
    {
     "name": "stdout",
     "output_type": "stream",
     "text": [
      "Epoch 170 Loss 0.021124804061728\n",
      "train accuracy is: 0.9767985311300283, test accuracy is 0.9732862903225806\n"
     ]
    },
    {
     "name": "stdout",
     "output_type": "stream",
     "text": [
      "Epoch 180 Loss 0.020599315637904\n",
      "train accuracy is: 0.9773827407778334, test accuracy is 0.9747983870967742\n"
     ]
    },
    {
     "name": "stdout",
     "output_type": "stream",
     "text": [
      "Epoch 190 Loss 0.020105160744945623\n",
      "train accuracy is: 0.9777165748622935, test accuracy is 0.9747983870967742\n"
     ]
    },
    {
     "name": "stdout",
     "output_type": "stream",
     "text": [
      "Epoch 200 Loss 0.019636557889542886\n",
      "train accuracy is: 0.9783842430312135, test accuracy is 0.9747983870967742\n"
     ]
    },
    {
     "name": "stdout",
     "output_type": "stream",
     "text": [
      "Epoch 210 Loss 0.019190633907668415\n",
      "train accuracy is: 0.9786346185945585, test accuracy is 0.9742943548387096\n"
     ]
    },
    {
     "name": "stdout",
     "output_type": "stream",
     "text": [
      "Epoch 220 Loss 0.01877389625190338\n",
      "train accuracy is: 0.9789684526790186, test accuracy is 0.9742943548387096\n"
     ]
    },
    {
     "name": "stdout",
     "output_type": "stream",
     "text": [
      "Epoch 230 Loss 0.018374312496824426\n",
      "train accuracy is: 0.9798864964112836, test accuracy is 0.9747983870967742\n"
     ]
    },
    {
     "name": "stdout",
     "output_type": "stream",
     "text": [
      "Epoch 240 Loss 0.017985613698228348\n",
      "train accuracy is: 0.9803037890168587, test accuracy is 0.9753024193548387\n"
     ]
    },
    {
     "data": {
      "text/plain": [
       "0.0021931710996729425"
      ]
     },
     "execution_count": 21,
     "metadata": {},
     "output_type": "execute_result"
    }
   ],
   "source": [
    "learner1.train_loop(dl)"
   ]
  },
  {
   "cell_type": "markdown",
   "metadata": {
    "papermill": {
     "duration": 0.038343,
     "end_time": "2020-08-09T08:50:25.023254",
     "exception": false,
     "start_time": "2020-08-09T08:50:24.984911",
     "status": "completed"
    },
    "tags": []
   },
   "source": [
    "##### Now running only the logistic regression based classification to compare results with NN"
   ]
  },
  {
   "cell_type": "code",
   "execution_count": 22,
   "metadata": {
    "execution": {
     "iopub.execute_input": "2020-08-09T08:50:25.117177Z",
     "iopub.status.busy": "2020-08-09T08:50:25.115439Z",
     "iopub.status.idle": "2020-08-09T08:50:25.128291Z",
     "shell.execute_reply": "2020-08-09T08:50:25.128812Z"
    },
    "papermill": {
     "duration": 0.065529,
     "end_time": "2020-08-09T08:50:25.129006",
     "exception": false,
     "start_time": "2020-08-09T08:50:25.063477",
     "status": "completed"
    },
    "tags": []
   },
   "outputs": [],
   "source": [
    "learner2 = Learner(loss, model_logistic, opt, config.num_epochs)\n",
    "acc2 = ClfCallback(learner2, config.bs, training_xdata , testing_xdata, training_ydata, testing_ydata)\n",
    "learner2.set_callbacks([acc2])"
   ]
  },
  {
   "cell_type": "code",
   "execution_count": 23,
   "metadata": {
    "execution": {
     "iopub.execute_input": "2020-08-09T08:50:25.219181Z",
     "iopub.status.busy": "2020-08-09T08:50:25.217966Z",
     "iopub.status.idle": "2020-08-09T08:50:45.638010Z",
     "shell.execute_reply": "2020-08-09T08:50:45.638834Z"
    },
    "papermill": {
     "duration": 20.468172,
     "end_time": "2020-08-09T08:50:45.639040",
     "exception": false,
     "start_time": "2020-08-09T08:50:25.170868",
     "status": "completed"
    },
    "tags": []
   },
   "outputs": [
    {
     "name": "stdout",
     "output_type": "stream",
     "text": [
      "Epoch 0 Loss 0.2636860029313961\n",
      "train accuracy is: 0.5763645468202303, test accuracy is 0.6164314516129032\n"
     ]
    },
    {
     "name": "stdout",
     "output_type": "stream",
     "text": [
      "Epoch 10 Loss 0.10692408860024807\n",
      "train accuracy is: 0.9055249540978134, test accuracy is 0.9243951612903226\n"
     ]
    },
    {
     "name": "stdout",
     "output_type": "stream",
     "text": [
      "Epoch 20 Loss 0.08111686760640704\n",
      "train accuracy is: 0.9257219162076448, test accuracy is 0.9415322580645161\n"
     ]
    },
    {
     "name": "stdout",
     "output_type": "stream",
     "text": [
      "Epoch 30 Loss 0.06947900112413365\n",
      "train accuracy is: 0.9337339342346853, test accuracy is 0.9501008064516129\n"
     ]
    },
    {
     "name": "stdout",
     "output_type": "stream",
     "text": [
      "Epoch 40 Loss 0.06256750046236567\n",
      "train accuracy is: 0.9390752795860458, test accuracy is 0.954133064516129\n"
     ]
    },
    {
     "name": "stdout",
     "output_type": "stream",
     "text": [
      "Epoch 50 Loss 0.05789473092424519\n",
      "train accuracy is: 0.942747454515106, test accuracy is 0.9561491935483871\n"
     ]
    },
    {
     "name": "stdout",
     "output_type": "stream",
     "text": [
      "Epoch 60 Loss 0.05448294158276582\n",
      "train accuracy is: 0.9455850442330161, test accuracy is 0.9596774193548387\n"
     ]
    },
    {
     "name": "stdout",
     "output_type": "stream",
     "text": [
      "Epoch 70 Loss 0.051858194543289944\n",
      "train accuracy is: 0.9470038390919713, test accuracy is 0.9611895161290323\n"
     ]
    },
    {
     "name": "stdout",
     "output_type": "stream",
     "text": [
      "Epoch 80 Loss 0.0497611223475957\n",
      "train accuracy is: 0.9493406776831914, test accuracy is 0.9627016129032258\n"
     ]
    },
    {
     "name": "stdout",
     "output_type": "stream",
     "text": [
      "Epoch 90 Loss 0.04803552970098759\n",
      "train accuracy is: 0.9510933066266066, test accuracy is 0.9632056451612904\n"
     ]
    },
    {
     "name": "stdout",
     "output_type": "stream",
     "text": [
      "Epoch 100 Loss 0.04658459325735457\n",
      "train accuracy is: 0.9516775162744117, test accuracy is 0.9632056451612904\n"
     ]
    },
    {
     "name": "stdout",
     "output_type": "stream",
     "text": [
      "Epoch 110 Loss 0.045341994900267815\n",
      "train accuracy is: 0.9529293940911367, test accuracy is 0.9642137096774194\n"
     ]
    },
    {
     "name": "stdout",
     "output_type": "stream",
     "text": [
      "Epoch 120 Loss 0.04426171668474514\n",
      "train accuracy is: 0.9535970622600568, test accuracy is 0.9642137096774194\n"
     ]
    },
    {
     "name": "stdout",
     "output_type": "stream",
     "text": [
      "Epoch 130 Loss 0.04331195538705341\n",
      "train accuracy is: 0.9547654815556669, test accuracy is 0.9652217741935484\n"
     ]
    },
    {
     "name": "stdout",
     "output_type": "stream",
     "text": [
      "Epoch 140 Loss 0.04246563210313559\n",
      "train accuracy is: 0.9555166082457018, test accuracy is 0.9652217741935484\n"
     ]
    },
    {
     "name": "stdout",
     "output_type": "stream",
     "text": [
      "Epoch 150 Loss 0.041708362765762536\n",
      "train accuracy is: 0.9563511934568519, test accuracy is 0.9657258064516129\n"
     ]
    },
    {
     "name": "stdout",
     "output_type": "stream",
     "text": [
      "Epoch 160 Loss 0.04102259361712371\n",
      "train accuracy is: 0.956935403104657, test accuracy is 0.9652217741935484\n"
     ]
    },
    {
     "name": "stdout",
     "output_type": "stream",
     "text": [
      "Epoch 170 Loss 0.04039938490344452\n",
      "train accuracy is: 0.957686529794692, test accuracy is 0.9657258064516129\n"
     ]
    },
    {
     "name": "stdout",
     "output_type": "stream",
     "text": [
      "Epoch 180 Loss 0.03982796909283101\n",
      "train accuracy is: 0.9581872809213821, test accuracy is 0.9672379032258065\n"
     ]
    },
    {
     "name": "stdout",
     "output_type": "stream",
     "text": [
      "Epoch 190 Loss 0.03930213760018311\n",
      "train accuracy is: 0.9587714905691871, test accuracy is 0.967741935483871\n"
     ]
    },
    {
     "name": "stdout",
     "output_type": "stream",
     "text": [
      "Epoch 200 Loss 0.0388170533248167\n",
      "train accuracy is: 0.9587714905691871, test accuracy is 0.967741935483871\n"
     ]
    },
    {
     "name": "stdout",
     "output_type": "stream",
     "text": [
      "Epoch 210 Loss 0.038365865698804714\n",
      "train accuracy is: 0.9594391587381071, test accuracy is 0.967741935483871\n"
     ]
    },
    {
     "name": "stdout",
     "output_type": "stream",
     "text": [
      "Epoch 220 Loss 0.037945676862464126\n",
      "train accuracy is: 0.9599399098647972, test accuracy is 0.967741935483871\n"
     ]
    },
    {
     "name": "stdout",
     "output_type": "stream",
     "text": [
      "Epoch 230 Loss 0.03755321241616782\n",
      "train accuracy is: 0.9601902854281422, test accuracy is 0.9682459677419355\n"
     ]
    },
    {
     "name": "stdout",
     "output_type": "stream",
     "text": [
      "Epoch 240 Loss 0.03718414968184182\n",
      "train accuracy is: 0.9606075780337172, test accuracy is 0.96875\n"
     ]
    },
    {
     "data": {
      "text/plain": [
       "0.02232983567593593"
      ]
     },
     "execution_count": 23,
     "metadata": {},
     "output_type": "execute_result"
    }
   ],
   "source": [
    "learner2.train_loop(dl)"
   ]
  },
  {
   "cell_type": "markdown",
   "metadata": {
    "papermill": {
     "duration": 0.050543,
     "end_time": "2020-08-09T08:50:45.744427",
     "exception": false,
     "start_time": "2020-08-09T08:50:45.693884",
     "status": "completed"
    },
    "tags": []
   },
   "source": [
    "### Comparing results of NN and LR"
   ]
  },
  {
   "cell_type": "code",
   "execution_count": 24,
   "metadata": {
    "execution": {
     "iopub.execute_input": "2020-08-09T08:50:45.850162Z",
     "iopub.status.busy": "2020-08-09T08:50:45.849592Z",
     "iopub.status.idle": "2020-08-09T08:50:46.127606Z",
     "shell.execute_reply": "2020-08-09T08:50:46.127084Z"
    },
    "papermill": {
     "duration": 0.332076,
     "end_time": "2020-08-09T08:50:46.127737",
     "exception": false,
     "start_time": "2020-08-09T08:50:45.795661",
     "status": "completed"
    },
    "tags": []
   },
   "outputs": [
    {
     "data": {
      "text/plain": [
       "<matplotlib.legend.Legend at 0x7f54ae6ee198>"
      ]
     },
     "execution_count": 24,
     "metadata": {},
     "output_type": "execute_result"
    },
    {
     "data": {
      "image/png": "[encoded data removed]",
      "text/plain": [
       "<Figure size 576x360 with 1 Axes>"
      ]
     },
     "metadata": {
      "needs_background": "light"
     },
     "output_type": "display_data"
    }
   ],
   "source": [
    "plt.figure(figsize=(8,5))\n",
    "plt.plot(acc1.val_accuracies, 'g-', label = \"Val Accuracies - NN\")\n",
    "plt.plot(acc1.accuracies, 'r-', label = \"Accuracies - NN\")\n",
    "plt.plot(acc2.val_accuracies, 'b-', label = \"Val Accuracies - Logistic Reg\")\n",
    "plt.plot(acc2.accuracies, 'k-', label = \"Accuracies - Logistic Reg\")\n",
    "plt.ylim(0.8,1) ## for a more spread out view\n",
    "plt.legend()"
   ]
  },
  {
   "cell_type": "markdown",
   "metadata": {
    "papermill": {
     "duration": 0.053013,
     "end_time": "2020-08-09T08:50:46.230920",
     "exception": false,
     "start_time": "2020-08-09T08:50:46.177907",
     "status": "completed"
    },
    "tags": []
   },
   "source": [
    "### Clearly NN has a better accuracy over LR; NN is overfitting - Validation accuracy (green) has dropped below training accuracy (orange), also they are diverging. This problem is not seen in LR"
   ]
  },
  {
   "cell_type": "markdown",
   "metadata": {
    "papermill": {
     "duration": 0.04932,
     "end_time": "2020-08-09T08:50:46.333085",
     "exception": false,
     "start_time": "2020-08-09T08:50:46.283765",
     "status": "completed"
    },
    "tags": []
   },
   "source": [
    "##### Now we will be moving through the network, till the output of the second last affine where we get a 2 dimensional output. We will be plotting this 2d output and probability contours"
   ]
  },
  {
   "cell_type": "code",
   "execution_count": 25,
   "metadata": {
    "execution": {
     "iopub.execute_input": "2020-08-09T08:50:46.452137Z",
     "iopub.status.busy": "2020-08-09T08:50:46.451528Z",
     "iopub.status.idle": "2020-08-09T08:50:46.465212Z",
     "shell.execute_reply": "2020-08-09T08:50:46.469202Z"
    },
    "papermill": {
     "duration": 0.076181,
     "end_time": "2020-08-09T08:50:46.469351",
     "exception": false,
     "start_time": "2020-08-09T08:50:46.393170",
     "status": "completed"
    },
    "tags": []
   },
   "outputs": [],
   "source": [
    "model_new = Model(layers[:-2])"
   ]
  },
  {
   "cell_type": "code",
   "execution_count": 26,
   "metadata": {
    "execution": {
     "iopub.execute_input": "2020-08-09T08:50:46.574734Z",
     "iopub.status.busy": "2020-08-09T08:50:46.573966Z",
     "iopub.status.idle": "2020-08-09T08:50:46.602191Z",
     "shell.execute_reply": "2020-08-09T08:50:46.603054Z"
    },
    "papermill": {
     "duration": 0.084279,
     "end_time": "2020-08-09T08:50:46.603218",
     "exception": false,
     "start_time": "2020-08-09T08:50:46.518939",
     "status": "completed"
    },
    "tags": []
   },
   "outputs": [],
   "source": [
    "plot_testing = model_new(testing_xdata)"
   ]
  },
  {
   "cell_type": "markdown",
   "metadata": {
    "papermill": {
     "duration": 0.074684,
     "end_time": "2020-08-09T08:50:46.733072",
     "exception": false,
     "start_time": "2020-08-09T08:50:46.658388",
     "status": "completed"
    },
    "tags": []
   },
   "source": [
    "##### Plotting the scatter plot of points and color coding by class"
   ]
  },
  {
   "cell_type": "code",
   "execution_count": 27,
   "metadata": {
    "execution": {
     "iopub.execute_input": "2020-08-09T08:50:46.847282Z",
     "iopub.status.busy": "2020-08-09T08:50:46.846668Z",
     "iopub.status.idle": "2020-08-09T08:50:47.100634Z",
     "shell.execute_reply": "2020-08-09T08:50:47.099543Z"
    },
    "papermill": {
     "duration": 0.312938,
     "end_time": "2020-08-09T08:50:47.100991",
     "exception": false,
     "start_time": "2020-08-09T08:50:46.788053",
     "status": "completed"
    },
    "tags": []
   },
   "outputs": [
    {
     "data": {
      "image/png": "[encoded data removed]",
      "text/plain": [
       "<Figure size 576x504 with 1 Axes>"
      ]
     },
     "metadata": {
      "needs_background": "light"
     },
     "output_type": "display_data"
    }
   ],
   "source": [
    "plt.figure(figsize=(8,7))\n",
    "plt.scatter(plot_testing[:,0], plot_testing[:,1], alpha = 0.1, c = y_test.ravel());"
   ]
  },
  {
   "cell_type": "markdown",
   "metadata": {
    "papermill": {
     "duration": 0.05375,
     "end_time": "2020-08-09T08:50:47.217540",
     "exception": false,
     "start_time": "2020-08-09T08:50:47.163790",
     "status": "completed"
    },
    "tags": []
   },
   "source": [
    "##### Plotting probability contours"
   ]
  },
  {
   "cell_type": "code",
   "execution_count": 28,
   "metadata": {
    "execution": {
     "iopub.execute_input": "2020-08-09T08:50:47.334015Z",
     "iopub.status.busy": "2020-08-09T08:50:47.333411Z",
     "iopub.status.idle": "2020-08-09T08:50:47.345682Z",
     "shell.execute_reply": "2020-08-09T08:50:47.346276Z"
    },
    "papermill": {
     "duration": 0.076062,
     "end_time": "2020-08-09T08:50:47.346471",
     "exception": false,
     "start_time": "2020-08-09T08:50:47.270409",
     "status": "completed"
    },
    "tags": []
   },
   "outputs": [],
   "source": [
    "model_prob = Model(layers[-2:]) ## picking only last two layers to get probability. That is affine followed by sigmoid"
   ]
  },
  {
   "cell_type": "code",
   "execution_count": 29,
   "metadata": {
    "execution": {
     "iopub.execute_input": "2020-08-09T08:50:47.468783Z",
     "iopub.status.busy": "2020-08-09T08:50:47.468036Z",
     "iopub.status.idle": "2020-08-09T08:50:47.482991Z",
     "shell.execute_reply": "2020-08-09T08:50:47.483531Z"
    },
    "papermill": {
     "duration": 0.079778,
     "end_time": "2020-08-09T08:50:47.483714",
     "exception": false,
     "start_time": "2020-08-09T08:50:47.403936",
     "status": "completed"
    },
    "tags": []
   },
   "outputs": [],
   "source": [
    "xgrid = np.linspace(-4, 1, 100) ## Adjust these values based on above chart, roughly -4 to 1\n",
    "ygrid = np.linspace(-7.5, 7.5, 100) ## Adjust these values based on above chart, roughly -7.5, 7.5\n",
    "xg, yg = np.meshgrid(xgrid, ygrid)\n",
    "# xg and yg are now both 100X100, lets convert them to single arrays \n",
    "\n",
    "xg_interim = np.ravel(xg)\n",
    "yg_interim = np.ravel(yg)\n",
    "\n",
    "## xg_interim, yg_interim are now arrays of len 10000, now we will stack them and then transpose to get desired shape of n rows, 2 columns\n",
    "\n",
    "X_interim = np.vstack((xg_interim, yg_interim)) ## Please note vstack takes in a tuple\n",
    "X = X_interim.T\n",
    "\n",
    "## We want a shape of n rows and 2 columns to be able to feed this to last affine\n",
    "## This last affine takes only two columns, hence the above transformation\n",
    "probability_contour = model_prob(X).reshape(100,100) ## to make it consistent with xg, yg"
   ]
  },
  {
   "cell_type": "code",
   "execution_count": 30,
   "metadata": {
    "execution": {
     "iopub.execute_input": "2020-08-09T08:50:47.602858Z",
     "iopub.status.busy": "2020-08-09T08:50:47.602220Z",
     "iopub.status.idle": "2020-08-09T08:50:47.882984Z",
     "shell.execute_reply": "2020-08-09T08:50:47.883574Z"
    },
    "papermill": {
     "duration": 0.343967,
     "end_time": "2020-08-09T08:50:47.883806",
     "exception": false,
     "start_time": "2020-08-09T08:50:47.539839",
     "status": "completed"
    },
    "tags": []
   },
   "outputs": [
    {
     "data": {
      "image/png": "[encoded data removed]",
      "text/plain": [
       "<Figure size 576x504 with 1 Axes>"
      ]
     },
     "metadata": {
      "needs_background": "light"
     },
     "output_type": "display_data"
    }
   ],
   "source": [
    "plt.figure(figsize=(8,7))\n",
    "plt.scatter(plot_testing[:,0], plot_testing[:,1], alpha = 0.1, c = y_test.ravel())\n",
    "contours = plt.contour(xg,yg,probability_contour)\n",
    "plt.clabel(contours, inline = True );"
   ]
  }
 ],
 "metadata": {
  "kernelspec": {
   "display_name": "Python 3",
   "language": "python",
   "name": "python3"
  },
  "language_info": {
   "codemirror_mode": {
    "name": "ipython",
    "version": 3
   },
   "file_extension": ".py",
   "mimetype": "text/x-python",
   "name": "python",
   "nbconvert_exporter": "python",
   "pygments_lexer": "ipython3",
   "version": "3.6.11"
  },
  "papermill": {
   "duration": 168.428656,
   "end_time": "2020-08-09T08:50:48.349291",
   "environment_variables": {},
   "exception": null,
   "input_path": "2020-08-07-NN-new.ipynb",
   "output_path": "2020-08-07-NN-new.ipynb",
   "parameters": {},
   "start_time": "2020-08-09T08:47:59.920635",
   "version": "2.1.2"
  }
 },
 "nbformat": 4,
 "nbformat_minor": 4
}