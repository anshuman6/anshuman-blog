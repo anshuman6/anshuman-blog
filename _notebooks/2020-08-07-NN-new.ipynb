{
 "cells": [
  {
   "cell_type": "markdown",
   "metadata": {
    "papermill": {
     "duration": 0.03566,
     "end_time": "2020-08-15T10:11:48.745361",
     "exception": false,
     "start_time": "2020-08-15T10:11:48.709701",
     "status": "completed"
    },
    "tags": []
   },
   "source": [
    "# \"Building a basic Neural Network from scratch - Kudzu\"\n",
    "\n",
    "- badges: true\n",
    "- author: Anshuman Gupta"
   ]
  },
  {
   "cell_type": "markdown",
   "metadata": {
    "papermill": {
     "duration": 0.027962,
     "end_time": "2020-08-15T10:11:48.801858",
     "exception": false,
     "start_time": "2020-08-15T10:11:48.773896",
     "status": "completed"
    },
    "tags": []
   },
   "source": [
    "#### In this project, the idea is to write a classifier to differentiate between handwritten digits 3 and 8, from the MNIST database.\n",
    "\n",
    "#### I will using a custom built neural network library called Kudzu.This has been developed as a part of KTF/Foundations course of Univ.ai (www.univ.ai). The source code for Kudzu Library and and this notebook can be found on my git-hub profile : www.https://github.com/anshuman6 under the folder project-solution. Any feedback and comments are welcome. Please feel free to email me at: anshuman6@gmail.com\n",
    "\n",
    "#### 1. I will be using the MNIST database. \n",
    "\n",
    "#### 2. I will be comparing the results of the 4 layer NN to a standard logistic regression"
   ]
  },
  {
   "cell_type": "markdown",
   "metadata": {
    "papermill": {
     "duration": 0.027715,
     "end_time": "2020-08-15T10:11:48.857948",
     "exception": false,
     "start_time": "2020-08-15T10:11:48.830233",
     "status": "completed"
    },
    "tags": []
   },
   "source": [
    "##### Importing all the necessary libraries"
   ]
  },
  {
   "cell_type": "code",
   "execution_count": 1,
   "metadata": {
    "execution": {
     "iopub.execute_input": "2020-08-15T10:11:48.920115Z",
     "iopub.status.busy": "2020-08-15T10:11:48.919517Z",
     "iopub.status.idle": "2020-08-15T10:11:48.932543Z",
     "shell.execute_reply": "2020-08-15T10:11:48.932013Z"
    },
    "papermill": {
     "duration": 0.045891,
     "end_time": "2020-08-15T10:11:48.932687",
     "exception": false,
     "start_time": "2020-08-15T10:11:48.886796",
     "status": "completed"
    },
    "tags": []
   },
   "outputs": [],
   "source": [
    "%load_ext autoreload\n",
    "%autoreload 2"
   ]
  },
  {
   "cell_type": "code",
   "execution_count": 2,
   "metadata": {
    "execution": {
     "iopub.execute_input": "2020-08-15T10:11:48.994340Z",
     "iopub.status.busy": "2020-08-15T10:11:48.993212Z",
     "iopub.status.idle": "2020-08-15T10:11:49.571139Z",
     "shell.execute_reply": "2020-08-15T10:11:49.570329Z"
    },
    "papermill": {
     "duration": 0.610116,
     "end_time": "2020-08-15T10:11:49.571281",
     "exception": false,
     "start_time": "2020-08-15T10:11:48.961165",
     "status": "completed"
    },
    "tags": []
   },
   "outputs": [],
   "source": [
    "%matplotlib inline\n",
    "import numpy as np\n",
    "import matplotlib.pyplot as plt\n",
    "import pandas as pd"
   ]
  },
  {
   "cell_type": "markdown",
   "metadata": {
    "papermill": {
     "duration": 0.028751,
     "end_time": "2020-08-15T10:11:49.628723",
     "exception": false,
     "start_time": "2020-08-15T10:11:49.599972",
     "status": "completed"
    },
    "tags": []
   },
   "source": [
    "##### The following command helps us download MNIST from notebook itself. You can skip this if you already have MNIST. You can also download it via your terminal."
   ]
  },
  {
   "cell_type": "code",
   "execution_count": 3,
   "metadata": {
    "execution": {
     "iopub.execute_input": "2020-08-15T10:11:49.703086Z",
     "iopub.status.busy": "2020-08-15T10:11:49.702484Z",
     "iopub.status.idle": "2020-08-15T10:11:51.168239Z",
     "shell.execute_reply": "2020-08-15T10:11:51.167152Z"
    },
    "papermill": {
     "duration": 1.498037,
     "end_time": "2020-08-15T10:11:51.168397",
     "exception": false,
     "start_time": "2020-08-15T10:11:49.670360",
     "status": "completed"
    },
    "tags": []
   },
   "outputs": [
    {
     "name": "stdout",
     "output_type": "stream",
     "text": [
      "Collecting mnist\r\n",
      "  Downloading mnist-0.2.2-py2.py3-none-any.whl (3.5 kB)\r\n"
     ]
    },
    {
     "name": "stdout",
     "output_type": "stream",
     "text": [
      "Requirement already satisfied: numpy in /opt/hostedtoolcache/Python/3.6.11/x64/lib/python3.6/site-packages (from mnist) (1.19.1)\r\n"
     ]
    },
    {
     "name": "stdout",
     "output_type": "stream",
     "text": [
      "Installing collected packages: mnist\r\n",
      "Successfully installed mnist-0.2.2\r\n"
     ]
    },
    {
     "name": "stdout",
     "output_type": "stream",
     "text": [
      "\u001b[33mWARNING: You are using pip version 20.2.1; however, version 20.2.2 is available.\r\n",
      "You should consider upgrading via the '/opt/hostedtoolcache/Python/3.6.11/x64/bin/python -m pip install --upgrade pip' command.\u001b[0m\r\n"
     ]
    }
   ],
   "source": [
    "!pip install mnist # Please note, it is commented out for now, you can remove comment if you want to install it"
   ]
  },
  {
   "cell_type": "markdown",
   "metadata": {
    "papermill": {
     "duration": 0.028926,
     "end_time": "2020-08-15T10:11:51.226894",
     "exception": false,
     "start_time": "2020-08-15T10:11:51.197968",
     "status": "completed"
    },
    "tags": []
   },
   "source": [
    "#### Preparing the Data"
   ]
  },
  {
   "cell_type": "code",
   "execution_count": 4,
   "metadata": {
    "execution": {
     "iopub.execute_input": "2020-08-15T10:11:51.290038Z",
     "iopub.status.busy": "2020-08-15T10:11:51.289426Z",
     "iopub.status.idle": "2020-08-15T10:11:51.306472Z",
     "shell.execute_reply": "2020-08-15T10:11:51.305939Z"
    },
    "papermill": {
     "duration": 0.050476,
     "end_time": "2020-08-15T10:11:51.306605",
     "exception": false,
     "start_time": "2020-08-15T10:11:51.256129",
     "status": "completed"
    },
    "tags": []
   },
   "outputs": [],
   "source": [
    "import mnist"
   ]
  },
  {
   "cell_type": "code",
   "execution_count": 5,
   "metadata": {
    "execution": {
     "iopub.execute_input": "2020-08-15T10:11:51.384741Z",
     "iopub.status.busy": "2020-08-15T10:11:51.384036Z",
     "iopub.status.idle": "2020-08-15T10:11:52.150781Z",
     "shell.execute_reply": "2020-08-15T10:11:52.149852Z"
    },
    "papermill": {
     "duration": 0.810626,
     "end_time": "2020-08-15T10:11:52.150928",
     "exception": false,
     "start_time": "2020-08-15T10:11:51.340302",
     "status": "completed"
    },
    "tags": []
   },
   "outputs": [],
   "source": [
    "train_images = mnist.train_images()\n",
    "train_labels = mnist.train_labels()"
   ]
  },
  {
   "cell_type": "code",
   "execution_count": 6,
   "metadata": {
    "execution": {
     "iopub.execute_input": "2020-08-15T10:11:52.214292Z",
     "iopub.status.busy": "2020-08-15T10:11:52.213170Z",
     "iopub.status.idle": "2020-08-15T10:11:52.228225Z",
     "shell.execute_reply": "2020-08-15T10:11:52.228726Z"
    },
    "papermill": {
     "duration": 0.047883,
     "end_time": "2020-08-15T10:11:52.228871",
     "exception": false,
     "start_time": "2020-08-15T10:11:52.180988",
     "status": "completed"
    },
    "tags": []
   },
   "outputs": [
    {
     "data": {
      "text/plain": [
       "((60000, 28, 28), (60000,))"
      ]
     },
     "execution_count": 6,
     "metadata": {},
     "output_type": "execute_result"
    }
   ],
   "source": [
    "train_images.shape, train_labels.shape"
   ]
  },
  {
   "cell_type": "code",
   "execution_count": 7,
   "metadata": {
    "execution": {
     "iopub.execute_input": "2020-08-15T10:11:52.299263Z",
     "iopub.status.busy": "2020-08-15T10:11:52.298624Z",
     "iopub.status.idle": "2020-08-15T10:11:52.581298Z",
     "shell.execute_reply": "2020-08-15T10:11:52.580236Z"
    },
    "papermill": {
     "duration": 0.319949,
     "end_time": "2020-08-15T10:11:52.581443",
     "exception": false,
     "start_time": "2020-08-15T10:11:52.261494",
     "status": "completed"
    },
    "tags": []
   },
   "outputs": [],
   "source": [
    "test_images = mnist.test_images()\n",
    "test_labels = mnist.test_labels()"
   ]
  },
  {
   "cell_type": "code",
   "execution_count": 8,
   "metadata": {
    "execution": {
     "iopub.execute_input": "2020-08-15T10:11:52.645527Z",
     "iopub.status.busy": "2020-08-15T10:11:52.644937Z",
     "iopub.status.idle": "2020-08-15T10:11:52.661467Z",
     "shell.execute_reply": "2020-08-15T10:11:52.660959Z"
    },
    "papermill": {
     "duration": 0.050705,
     "end_time": "2020-08-15T10:11:52.661597",
     "exception": false,
     "start_time": "2020-08-15T10:11:52.610892",
     "status": "completed"
    },
    "tags": []
   },
   "outputs": [
    {
     "data": {
      "text/plain": [
       "((10000, 28, 28), (10000,))"
      ]
     },
     "execution_count": 8,
     "metadata": {},
     "output_type": "execute_result"
    }
   ],
   "source": [
    "test_images.shape, test_labels.shape"
   ]
  },
  {
   "cell_type": "code",
   "execution_count": 9,
   "metadata": {
    "execution": {
     "iopub.execute_input": "2020-08-15T10:11:52.729808Z",
     "iopub.status.busy": "2020-08-15T10:11:52.729216Z",
     "iopub.status.idle": "2020-08-15T10:11:52.886105Z",
     "shell.execute_reply": "2020-08-15T10:11:52.886735Z"
    },
    "papermill": {
     "duration": 0.193045,
     "end_time": "2020-08-15T10:11:52.886896",
     "exception": false,
     "start_time": "2020-08-15T10:11:52.693851",
     "status": "completed"
    },
    "tags": []
   },
   "outputs": [
    {
     "name": "stdout",
     "output_type": "stream",
     "text": [
      "2\n"
     ]
    },
    {
     "data": {
      "text/plain": [
       "<matplotlib.image.AxesImage at 0x7fc0df17e320>"
      ]
     },
     "execution_count": 9,
     "metadata": {},
     "output_type": "execute_result"
    },
    {
     "data": {
      "image/png": "[encoded data removed]",
      "text/plain": [
       "<Figure size 432x288 with 1 Axes>"
      ]
     },
     "metadata": {
      "needs_background": "light"
     },
     "output_type": "display_data"
    }
   ],
   "source": [
    "image_index = 7776 # You may select anything up to 60,000\n",
    "print(train_labels[image_index]) \n",
    "plt.imshow(train_images[image_index], cmap='Greys')"
   ]
  },
  {
   "cell_type": "markdown",
   "metadata": {
    "papermill": {
     "duration": 0.033019,
     "end_time": "2020-08-15T10:11:52.959207",
     "exception": false,
     "start_time": "2020-08-15T10:11:52.926188",
     "status": "completed"
    },
    "tags": []
   },
   "source": [
    "## Filter data to get 3 and 8 out"
   ]
  },
  {
   "cell_type": "code",
   "execution_count": 10,
   "metadata": {
    "execution": {
     "iopub.execute_input": "2020-08-15T10:11:53.026339Z",
     "iopub.status.busy": "2020-08-15T10:11:53.025717Z",
     "iopub.status.idle": "2020-08-15T10:11:53.046266Z",
     "shell.execute_reply": "2020-08-15T10:11:53.045323Z"
    },
    "papermill": {
     "duration": 0.055798,
     "end_time": "2020-08-15T10:11:53.046526",
     "exception": false,
     "start_time": "2020-08-15T10:11:52.990728",
     "status": "completed"
    },
    "tags": []
   },
   "outputs": [],
   "source": [
    "train_filter = np.where((train_labels == 3 ) | (train_labels == 8))\n",
    "test_filter = np.where((test_labels == 3) | (test_labels == 8))\n",
    "X_train, y_train = train_images[train_filter], train_labels[train_filter]\n",
    "X_test, y_test = test_images[test_filter], test_labels[test_filter]"
   ]
  },
  {
   "cell_type": "markdown",
   "metadata": {
    "papermill": {
     "duration": 0.032644,
     "end_time": "2020-08-15T10:11:53.114574",
     "exception": false,
     "start_time": "2020-08-15T10:11:53.081930",
     "status": "completed"
    },
    "tags": []
   },
   "source": [
    "##### We normalize the pizel values in the 0 to 1 range"
   ]
  },
  {
   "cell_type": "code",
   "execution_count": 11,
   "metadata": {
    "execution": {
     "iopub.execute_input": "2020-08-15T10:11:53.180989Z",
     "iopub.status.busy": "2020-08-15T10:11:53.180393Z",
     "iopub.status.idle": "2020-08-15T10:11:53.234082Z",
     "shell.execute_reply": "2020-08-15T10:11:53.233560Z"
    },
    "papermill": {
     "duration": 0.088791,
     "end_time": "2020-08-15T10:11:53.234225",
     "exception": false,
     "start_time": "2020-08-15T10:11:53.145434",
     "status": "completed"
    },
    "tags": []
   },
   "outputs": [],
   "source": [
    "X_train = X_train/255.\n",
    "X_test = X_test/255."
   ]
  },
  {
   "cell_type": "markdown",
   "metadata": {
    "papermill": {
     "duration": 0.031254,
     "end_time": "2020-08-15T10:11:53.296582",
     "exception": false,
     "start_time": "2020-08-15T10:11:53.265328",
     "status": "completed"
    },
    "tags": []
   },
   "source": [
    "And setup the labels as 1 (when the digit is 3) and 0 (when the digit is 8)"
   ]
  },
  {
   "cell_type": "code",
   "execution_count": 12,
   "metadata": {
    "execution": {
     "iopub.execute_input": "2020-08-15T10:11:53.363921Z",
     "iopub.status.busy": "2020-08-15T10:11:53.363329Z",
     "iopub.status.idle": "2020-08-15T10:11:53.376580Z",
     "shell.execute_reply": "2020-08-15T10:11:53.376103Z"
    },
    "papermill": {
     "duration": 0.04921,
     "end_time": "2020-08-15T10:11:53.376709",
     "exception": false,
     "start_time": "2020-08-15T10:11:53.327499",
     "status": "completed"
    },
    "tags": []
   },
   "outputs": [],
   "source": [
    "y_train = 1*(y_train==3)\n",
    "y_test = 1*(y_test==3)"
   ]
  },
  {
   "cell_type": "code",
   "execution_count": 13,
   "metadata": {
    "execution": {
     "iopub.execute_input": "2020-08-15T10:11:53.443286Z",
     "iopub.status.busy": "2020-08-15T10:11:53.442698Z",
     "iopub.status.idle": "2020-08-15T10:11:53.457726Z",
     "shell.execute_reply": "2020-08-15T10:11:53.458200Z"
    },
    "papermill": {
     "duration": 0.050166,
     "end_time": "2020-08-15T10:11:53.458342",
     "exception": false,
     "start_time": "2020-08-15T10:11:53.408176",
     "status": "completed"
    },
    "tags": []
   },
   "outputs": [
    {
     "data": {
      "text/plain": [
       "((11982, 28, 28), (1984, 28, 28))"
      ]
     },
     "execution_count": 13,
     "metadata": {},
     "output_type": "execute_result"
    }
   ],
   "source": [
    "X_train.shape, X_test.shape"
   ]
  },
  {
   "cell_type": "markdown",
   "metadata": {
    "papermill": {
     "duration": 0.031125,
     "end_time": "2020-08-15T10:11:53.521027",
     "exception": false,
     "start_time": "2020-08-15T10:11:53.489902",
     "status": "completed"
    },
    "tags": []
   },
   "source": [
    "##### We reshape the data to flatten the image pixels into a set of features or co-variates:"
   ]
  },
  {
   "cell_type": "code",
   "execution_count": 14,
   "metadata": {
    "execution": {
     "iopub.execute_input": "2020-08-15T10:11:53.589214Z",
     "iopub.status.busy": "2020-08-15T10:11:53.588606Z",
     "iopub.status.idle": "2020-08-15T10:11:53.604022Z",
     "shell.execute_reply": "2020-08-15T10:11:53.604463Z"
    },
    "papermill": {
     "duration": 0.051737,
     "end_time": "2020-08-15T10:11:53.604615",
     "exception": false,
     "start_time": "2020-08-15T10:11:53.552878",
     "status": "completed"
    },
    "tags": []
   },
   "outputs": [
    {
     "data": {
      "text/plain": [
       "((11982, 784), (1984, 784))"
      ]
     },
     "execution_count": 14,
     "metadata": {},
     "output_type": "execute_result"
    }
   ],
   "source": [
    "X_train = X_train.reshape(X_train.shape[0], -1)\n",
    "X_test = X_test.reshape(X_test.shape[0], -1)\n",
    "X_train.shape, X_test.shape"
   ]
  },
  {
   "cell_type": "markdown",
   "metadata": {
    "papermill": {
     "duration": 0.034871,
     "end_time": "2020-08-15T10:11:53.674053",
     "exception": false,
     "start_time": "2020-08-15T10:11:53.639182",
     "status": "completed"
    },
    "tags": []
   },
   "source": [
    "##### Importing Kudzu library and its functionality"
   ]
  },
  {
   "cell_type": "code",
   "execution_count": 15,
   "metadata": {
    "execution": {
     "iopub.execute_input": "2020-08-15T10:11:53.749603Z",
     "iopub.status.busy": "2020-08-15T10:11:53.749003Z",
     "iopub.status.idle": "2020-08-15T10:11:53.769004Z",
     "shell.execute_reply": "2020-08-15T10:11:53.768510Z"
    },
    "papermill": {
     "duration": 0.059964,
     "end_time": "2020-08-15T10:11:53.769136",
     "exception": false,
     "start_time": "2020-08-15T10:11:53.709172",
     "status": "completed"
    },
    "tags": []
   },
   "outputs": [],
   "source": [
    "from kudzu.data import Data, Dataloader, Sampler\n",
    "from kudzu.callbacks import AccCallback\n",
    "from kudzu.loss import MSE\n",
    "from kudzu.layer import Affine, Sigmoid\n",
    "from kudzu.model import Model\n",
    "from kudzu.optim import GD\n",
    "from kudzu.train import Learner\n",
    "from kudzu.callbacks import ClfCallback\n",
    "from kudzu.layer import Sigmoid\n",
    "from kudzu.layer import Relu"
   ]
  },
  {
   "cell_type": "markdown",
   "metadata": {
    "papermill": {
     "duration": 0.031136,
     "end_time": "2020-08-15T10:11:53.832017",
     "exception": false,
     "start_time": "2020-08-15T10:11:53.800881",
     "status": "completed"
    },
    "tags": []
   },
   "source": [
    "##### We are creating a class, just so that we can use it to store our parameters for us"
   ]
  },
  {
   "cell_type": "code",
   "execution_count": 16,
   "metadata": {
    "execution": {
     "iopub.execute_input": "2020-08-15T10:11:53.908127Z",
     "iopub.status.busy": "2020-08-15T10:11:53.907411Z",
     "iopub.status.idle": "2020-08-15T10:11:53.920416Z",
     "shell.execute_reply": "2020-08-15T10:11:53.920928Z"
    },
    "papermill": {
     "duration": 0.054085,
     "end_time": "2020-08-15T10:11:53.921077",
     "exception": false,
     "start_time": "2020-08-15T10:11:53.866992",
     "status": "completed"
    },
    "tags": []
   },
   "outputs": [],
   "source": [
    "class Config:\n",
    "    pass\n",
    "config = Config()\n",
    "config.lr = 0.001\n",
    "config.num_epochs = 250\n",
    "config.bs = 50"
   ]
  },
  {
   "cell_type": "markdown",
   "metadata": {
    "papermill": {
     "duration": 0.031959,
     "end_time": "2020-08-15T10:11:53.986921",
     "exception": false,
     "start_time": "2020-08-15T10:11:53.954962",
     "status": "completed"
    },
    "tags": []
   },
   "source": [
    "##### Initializing Data"
   ]
  },
  {
   "cell_type": "code",
   "execution_count": 17,
   "metadata": {
    "execution": {
     "iopub.execute_input": "2020-08-15T10:11:54.057147Z",
     "iopub.status.busy": "2020-08-15T10:11:54.056371Z",
     "iopub.status.idle": "2020-08-15T10:11:54.071284Z",
     "shell.execute_reply": "2020-08-15T10:11:54.071726Z"
    },
    "papermill": {
     "duration": 0.053304,
     "end_time": "2020-08-15T10:11:54.071875",
     "exception": false,
     "start_time": "2020-08-15T10:11:54.018571",
     "status": "completed"
    },
    "tags": []
   },
   "outputs": [],
   "source": [
    "data = Data(X_train, y_train.reshape(-1,1))\n",
    "loss = MSE()\n",
    "opt = GD(config.lr)\n",
    "sampler = Sampler(data, config.bs, shuffle=True)\n",
    "dl = Dataloader(data, sampler)"
   ]
  },
  {
   "cell_type": "markdown",
   "metadata": {
    "papermill": {
     "duration": 0.032048,
     "end_time": "2020-08-15T10:11:54.136069",
     "exception": false,
     "start_time": "2020-08-15T10:11:54.104021",
     "status": "completed"
    },
    "tags": []
   },
   "source": [
    "##### Constructing 2 different layers, one for NN and one only for logistic regression."
   ]
  },
  {
   "cell_type": "markdown",
   "metadata": {
    "papermill": {
     "duration": 0.031545,
     "end_time": "2020-08-15T10:11:54.201045",
     "exception": false,
     "start_time": "2020-08-15T10:11:54.169500",
     "status": "completed"
    },
    "tags": []
   },
   "source": [
    "##### Creating containers for data to be passed, to calculate accuracies"
   ]
  },
  {
   "cell_type": "code",
   "execution_count": 18,
   "metadata": {
    "execution": {
     "iopub.execute_input": "2020-08-15T10:11:54.268495Z",
     "iopub.status.busy": "2020-08-15T10:11:54.267860Z",
     "iopub.status.idle": "2020-08-15T10:11:54.283879Z",
     "shell.execute_reply": "2020-08-15T10:11:54.283268Z"
    },
    "papermill": {
     "duration": 0.050657,
     "end_time": "2020-08-15T10:11:54.284016",
     "exception": false,
     "start_time": "2020-08-15T10:11:54.233359",
     "status": "completed"
    },
    "tags": []
   },
   "outputs": [],
   "source": [
    "training_xdata = X_train\n",
    "testing_xdata = X_test\n",
    "training_ydata = y_train.reshape(-1,1)\n",
    "testing_ydata = y_test.reshape(-1,1)"
   ]
  },
  {
   "cell_type": "markdown",
   "metadata": {
    "papermill": {
     "duration": 0.032351,
     "end_time": "2020-08-15T10:11:54.350106",
     "exception": false,
     "start_time": "2020-08-15T10:11:54.317755",
     "status": "completed"
    },
    "tags": []
   },
   "source": [
    "##### Initializing models and Running training loop: "
   ]
  },
  {
   "cell_type": "code",
   "execution_count": 19,
   "metadata": {
    "execution": {
     "iopub.execute_input": "2020-08-15T10:11:54.418348Z",
     "iopub.status.busy": "2020-08-15T10:11:54.417737Z",
     "iopub.status.idle": "2020-08-15T10:11:54.436128Z",
     "shell.execute_reply": "2020-08-15T10:11:54.436601Z"
    },
    "papermill": {
     "duration": 0.05419,
     "end_time": "2020-08-15T10:11:54.436743",
     "exception": false,
     "start_time": "2020-08-15T10:11:54.382553",
     "status": "completed"
    },
    "tags": []
   },
   "outputs": [],
   "source": [
    "layers = [Affine(\"first\", 784, 100), Relu(\"first\"), Affine(\"second\", 100, 100), Relu(\"second\"), Affine(\"third\", 100, 2), Affine(\"final\", 2, 1), Sigmoid(\"final\")]\n",
    "\n",
    "model_neural = Model(layers)\n",
    "model_logistic = Model([Affine(\"logits\", 784, 1), Sigmoid(\"sigmoid\")])"
   ]
  },
  {
   "cell_type": "code",
   "execution_count": 20,
   "metadata": {
    "execution": {
     "iopub.execute_input": "2020-08-15T10:11:54.509969Z",
     "iopub.status.busy": "2020-08-15T10:11:54.509379Z",
     "iopub.status.idle": "2020-08-15T10:11:54.524164Z",
     "shell.execute_reply": "2020-08-15T10:11:54.524612Z"
    },
    "papermill": {
     "duration": 0.05201,
     "end_time": "2020-08-15T10:11:54.524761",
     "exception": false,
     "start_time": "2020-08-15T10:11:54.472751",
     "status": "completed"
    },
    "tags": []
   },
   "outputs": [],
   "source": [
    "learner1 = Learner(loss, model_neural, opt, config.num_epochs)\n",
    "acc1 = ClfCallback(learner1, config.bs, training_xdata , testing_xdata, training_ydata, testing_ydata)\n",
    "learner1.set_callbacks([acc1])"
   ]
  },
  {
   "cell_type": "code",
   "execution_count": 21,
   "metadata": {
    "execution": {
     "iopub.execute_input": "2020-08-15T10:11:54.594540Z",
     "iopub.status.busy": "2020-08-15T10:11:54.593735Z",
     "iopub.status.idle": "2020-08-15T10:13:27.021571Z",
     "shell.execute_reply": "2020-08-15T10:13:27.022340Z"
    },
    "papermill": {
     "duration": 92.465056,
     "end_time": "2020-08-15T10:13:27.022521",
     "exception": false,
     "start_time": "2020-08-15T10:11:54.557465",
     "status": "completed"
    },
    "tags": []
   },
   "outputs": [
    {
     "name": "stdout",
     "output_type": "stream",
     "text": [
      "Epoch 0 Loss 0.2408165075814093\n",
      "train accuracy is: 0.671507260891337, test accuracy is 0.6587701612903226\n"
     ]
    },
    {
     "name": "stdout",
     "output_type": "stream",
     "text": [
      "Epoch 10 Loss 0.10925693279238112\n",
      "train accuracy is: 0.9034384910699382, test accuracy is 0.9122983870967742\n"
     ]
    },
    {
     "name": "stdout",
     "output_type": "stream",
     "text": [
      "Epoch 20 Loss 0.06302801505295227\n",
      "train accuracy is: 0.9364880654314806, test accuracy is 0.9475806451612904\n"
     ]
    },
    {
     "name": "stdout",
     "output_type": "stream",
     "text": [
      "Epoch 30 Loss 0.047902750642819444\n",
      "train accuracy is: 0.9485895509931564, test accuracy is 0.9591733870967742\n"
     ]
    },
    {
     "name": "stdout",
     "output_type": "stream",
     "text": [
      "Epoch 40 Loss 0.04079175417115225\n",
      "train accuracy is: 0.9540143548656318, test accuracy is 0.9647177419354839\n"
     ]
    },
    {
     "name": "stdout",
     "output_type": "stream",
     "text": [
      "Epoch 50 Loss 0.036651458231705236\n",
      "train accuracy is: 0.9585211150058421, test accuracy is 0.9657258064516129\n"
     ]
    },
    {
     "name": "stdout",
     "output_type": "stream",
     "text": [
      "Epoch 60 Loss 0.03385060089336601\n",
      "train accuracy is: 0.9616925388082124, test accuracy is 0.969758064516129\n"
     ]
    },
    {
     "name": "stdout",
     "output_type": "stream",
     "text": [
      "Epoch 70 Loss 0.03178445739385104\n",
      "train accuracy is: 0.9628609581038224, test accuracy is 0.9702620967741935\n"
     ]
    },
    {
     "name": "stdout",
     "output_type": "stream",
     "text": [
      "Epoch 80 Loss 0.030157561415841846\n",
      "train accuracy is: 0.9643632114838925, test accuracy is 0.969758064516129\n"
     ]
    },
    {
     "name": "stdout",
     "output_type": "stream",
     "text": [
      "Epoch 90 Loss 0.028821067589570485\n",
      "train accuracy is: 0.9664496745117677, test accuracy is 0.9707661290322581\n"
     ]
    },
    {
     "name": "stdout",
     "output_type": "stream",
     "text": [
      "Epoch 100 Loss 0.02769981491463528\n",
      "train accuracy is: 0.9672842597229178, test accuracy is 0.9717741935483871\n"
     ]
    },
    {
     "name": "stdout",
     "output_type": "stream",
     "text": [
      "Epoch 110 Loss 0.026728325058380763\n",
      "train accuracy is: 0.9688699716241028, test accuracy is 0.9722782258064516\n"
     ]
    },
    {
     "name": "stdout",
     "output_type": "stream",
     "text": [
      "Epoch 120 Loss 0.025877782882690572\n",
      "train accuracy is: 0.9702053079619429, test accuracy is 0.9722782258064516\n"
     ]
    },
    {
     "name": "stdout",
     "output_type": "stream",
     "text": [
      "Epoch 130 Loss 0.025117650880805305\n",
      "train accuracy is: 0.971039893173093, test accuracy is 0.9717741935483871\n"
     ]
    },
    {
     "name": "stdout",
     "output_type": "stream",
     "text": [
      "Epoch 140 Loss 0.024430610256571263\n",
      "train accuracy is: 0.9721248539475881, test accuracy is 0.9722782258064516\n"
     ]
    },
    {
     "name": "stdout",
     "output_type": "stream",
     "text": [
      "Epoch 150 Loss 0.023802389121198177\n",
      "train accuracy is: 0.9725421465531631, test accuracy is 0.9722782258064516\n"
     ]
    },
    {
     "name": "stdout",
     "output_type": "stream",
     "text": [
      "Epoch 160 Loss 0.023229880483791203\n",
      "train accuracy is: 0.9732098147220831, test accuracy is 0.9717741935483871\n"
     ]
    },
    {
     "name": "stdout",
     "output_type": "stream",
     "text": [
      "Epoch 170 Loss 0.022689597518771178\n",
      "train accuracy is: 0.9736271073276581, test accuracy is 0.9722782258064516\n"
     ]
    },
    {
     "name": "stdout",
     "output_type": "stream",
     "text": [
      "Epoch 180 Loss 0.022188509543233387\n",
      "train accuracy is: 0.9739609414121182, test accuracy is 0.9717741935483871\n"
     ]
    },
    {
     "name": "stdout",
     "output_type": "stream",
     "text": [
      "Epoch 190 Loss 0.02171675672336465\n",
      "train accuracy is: 0.9745451510599232, test accuracy is 0.9722782258064516\n"
     ]
    },
    {
     "name": "stdout",
     "output_type": "stream",
     "text": [
      "Epoch 200 Loss 0.02126276448748108\n",
      "train accuracy is: 0.9752128192288433, test accuracy is 0.9727822580645161\n"
     ]
    },
    {
     "name": "stdout",
     "output_type": "stream",
     "text": [
      "Epoch 210 Loss 0.020832283672251765\n",
      "train accuracy is: 0.9760474044399933, test accuracy is 0.9732862903225806\n"
     ]
    },
    {
     "name": "stdout",
     "output_type": "stream",
     "text": [
      "Epoch 220 Loss 0.020416487122185887\n",
      "train accuracy is: 0.9765481555666834, test accuracy is 0.9737903225806451\n"
     ]
    },
    {
     "name": "stdout",
     "output_type": "stream",
     "text": [
      "Epoch 230 Loss 0.020011042338534468\n",
      "train accuracy is: 0.9769654481722584, test accuracy is 0.9737903225806451\n"
     ]
    },
    {
     "name": "stdout",
     "output_type": "stream",
     "text": [
      "Epoch 240 Loss 0.01962093341888913\n",
      "train accuracy is: 0.9772992822567184, test accuracy is 0.9742943548387096\n"
     ]
    },
    {
     "data": {
      "text/plain": [
       "0.0035950478649508523"
      ]
     },
     "execution_count": 21,
     "metadata": {},
     "output_type": "execute_result"
    }
   ],
   "source": [
    "learner1.train_loop(dl)"
   ]
  },
  {
   "cell_type": "markdown",
   "metadata": {
    "papermill": {
     "duration": 0.038998,
     "end_time": "2020-08-15T10:13:27.101157",
     "exception": false,
     "start_time": "2020-08-15T10:13:27.062159",
     "status": "completed"
    },
    "tags": []
   },
   "source": [
    "##### Now running only the logistic regression based classification to compare results with NN"
   ]
  },
  {
   "cell_type": "code",
   "execution_count": 22,
   "metadata": {
    "execution": {
     "iopub.execute_input": "2020-08-15T10:13:27.188667Z",
     "iopub.status.busy": "2020-08-15T10:13:27.187616Z",
     "iopub.status.idle": "2020-08-15T10:13:27.195793Z",
     "shell.execute_reply": "2020-08-15T10:13:27.195316Z"
    },
    "papermill": {
     "duration": 0.05605,
     "end_time": "2020-08-15T10:13:27.195925",
     "exception": false,
     "start_time": "2020-08-15T10:13:27.139875",
     "status": "completed"
    },
    "tags": []
   },
   "outputs": [],
   "source": [
    "learner2 = Learner(loss, model_logistic, opt, config.num_epochs)\n",
    "acc2 = ClfCallback(learner2, config.bs, training_xdata , testing_xdata, training_ydata, testing_ydata)\n",
    "learner2.set_callbacks([acc2])"
   ]
  },
  {
   "cell_type": "code",
   "execution_count": 23,
   "metadata": {
    "execution": {
     "iopub.execute_input": "2020-08-15T10:13:27.293212Z",
     "iopub.status.busy": "2020-08-15T10:13:27.292465Z",
     "iopub.status.idle": "2020-08-15T10:13:43.694639Z",
     "shell.execute_reply": "2020-08-15T10:13:43.695511Z"
    },
    "papermill": {
     "duration": 16.455243,
     "end_time": "2020-08-15T10:13:43.695679",
     "exception": false,
     "start_time": "2020-08-15T10:13:27.240436",
     "status": "completed"
    },
    "tags": []
   },
   "outputs": [
    {
     "name": "stdout",
     "output_type": "stream",
     "text": [
      "Epoch 0 Loss 0.22209295677156066\n",
      "train accuracy is: 0.7623101318644634, test accuracy is 0.7746975806451613\n"
     ]
    },
    {
     "name": "stdout",
     "output_type": "stream",
     "text": [
      "Epoch 10 Loss 0.10128569082708332\n",
      "train accuracy is: 0.9122016357870139, test accuracy is 0.9163306451612904\n"
     ]
    },
    {
     "name": "stdout",
     "output_type": "stream",
     "text": [
      "Epoch 20 Loss 0.07842148741305914\n",
      "train accuracy is: 0.9298948422633951, test accuracy is 0.9354838709677419\n"
     ]
    },
    {
     "name": "stdout",
     "output_type": "stream",
     "text": [
      "Epoch 30 Loss 0.06761764603660193\n",
      "train accuracy is: 0.9375730262059756, test accuracy is 0.9445564516129032\n"
     ]
    },
    {
     "name": "stdout",
     "output_type": "stream",
     "text": [
      "Epoch 40 Loss 0.061077865055488206\n",
      "train accuracy is: 0.9419963278250709, test accuracy is 0.952116935483871\n"
     ]
    },
    {
     "name": "stdout",
     "output_type": "stream",
     "text": [
      "Epoch 50 Loss 0.05661464212168906\n",
      "train accuracy is: 0.9451677516274412, test accuracy is 0.9546370967741935\n"
     ]
    },
    {
     "name": "stdout",
     "output_type": "stream",
     "text": [
      "Epoch 60 Loss 0.05333741223305886\n",
      "train accuracy is: 0.9471707561342013, test accuracy is 0.954133064516129\n"
     ]
    },
    {
     "name": "stdout",
     "output_type": "stream",
     "text": [
      "Epoch 70 Loss 0.05080909899525775\n",
      "train accuracy is: 0.9478384243031214, test accuracy is 0.9551411290322581\n"
     ]
    },
    {
     "name": "stdout",
     "output_type": "stream",
     "text": [
      "Epoch 80 Loss 0.048784784370613746\n",
      "train accuracy is: 0.9504256384576866, test accuracy is 0.9571572580645161\n"
     ]
    },
    {
     "name": "stdout",
     "output_type": "stream",
     "text": [
      "Epoch 90 Loss 0.04711888451302353\n",
      "train accuracy is: 0.9522617259222167, test accuracy is 0.9591733870967742\n"
     ]
    },
    {
     "name": "stdout",
     "output_type": "stream",
     "text": [
      "Epoch 100 Loss 0.04571615593780433\n",
      "train accuracy is: 0.9530128526122517, test accuracy is 0.9596774193548387\n"
     ]
    },
    {
     "name": "stdout",
     "output_type": "stream",
     "text": [
      "Epoch 110 Loss 0.04451594347469171\n",
      "train accuracy is: 0.9540978133867468, test accuracy is 0.9621975806451613\n"
     ]
    },
    {
     "name": "stdout",
     "output_type": "stream",
     "text": [
      "Epoch 120 Loss 0.043472209347680486\n",
      "train accuracy is: 0.9547654815556669, test accuracy is 0.9637096774193549\n"
     ]
    },
    {
     "name": "stdout",
     "output_type": "stream",
     "text": [
      "Epoch 130 Loss 0.0425549855347551\n",
      "train accuracy is: 0.9556000667668169, test accuracy is 0.9642137096774194\n"
     ]
    },
    {
     "name": "stdout",
     "output_type": "stream",
     "text": [
      "Epoch 140 Loss 0.04173870162499612\n",
      "train accuracy is: 0.9562677349357369, test accuracy is 0.9637096774193549\n"
     ]
    },
    {
     "name": "stdout",
     "output_type": "stream",
     "text": [
      "Epoch 150 Loss 0.04100726778149724\n",
      "train accuracy is: 0.956685027541312, test accuracy is 0.9637096774193549\n"
     ]
    },
    {
     "name": "stdout",
     "output_type": "stream",
     "text": [
      "Epoch 160 Loss 0.040346655098127154\n",
      "train accuracy is: 0.957185778668002, test accuracy is 0.9642137096774194\n"
     ]
    },
    {
     "name": "stdout",
     "output_type": "stream",
     "text": [
      "Epoch 170 Loss 0.039744700608727965\n",
      "train accuracy is: 0.9579369053580371, test accuracy is 0.9647177419354839\n"
     ]
    },
    {
     "name": "stdout",
     "output_type": "stream",
     "text": [
      "Epoch 180 Loss 0.03919487906998744\n",
      "train accuracy is: 0.9585211150058421, test accuracy is 0.9657258064516129\n"
     ]
    },
    {
     "name": "stdout",
     "output_type": "stream",
     "text": [
      "Epoch 190 Loss 0.03868921643389773\n",
      "train accuracy is: 0.9595226172592222, test accuracy is 0.9662298387096774\n"
     ]
    },
    {
     "name": "stdout",
     "output_type": "stream",
     "text": [
      "Epoch 200 Loss 0.038221871844618255\n",
      "train accuracy is: 0.9598564513436821, test accuracy is 0.9662298387096774\n"
     ]
    },
    {
     "name": "stdout",
     "output_type": "stream",
     "text": [
      "Epoch 210 Loss 0.037787955073506185\n",
      "train accuracy is: 0.9603572024703723, test accuracy is 0.9662298387096774\n"
     ]
    },
    {
     "name": "stdout",
     "output_type": "stream",
     "text": [
      "Epoch 220 Loss 0.03738389298383678\n",
      "train accuracy is: 0.9606075780337172, test accuracy is 0.9662298387096774\n"
     ]
    },
    {
     "name": "stdout",
     "output_type": "stream",
     "text": [
      "Epoch 230 Loss 0.03700644811274499\n",
      "train accuracy is: 0.9609414121181773, test accuracy is 0.9667338709677419\n"
     ]
    },
    {
     "name": "stdout",
     "output_type": "stream",
     "text": [
      "Epoch 240 Loss 0.03665272347768729\n",
      "train accuracy is: 0.9610248706392923, test accuracy is 0.9662298387096774\n"
     ]
    },
    {
     "data": {
      "text/plain": [
       "0.018890741782942585"
      ]
     },
     "execution_count": 23,
     "metadata": {},
     "output_type": "execute_result"
    }
   ],
   "source": [
    "learner2.train_loop(dl)"
   ]
  },
  {
   "cell_type": "markdown",
   "metadata": {
    "papermill": {
     "duration": 0.046159,
     "end_time": "2020-08-15T10:13:43.788995",
     "exception": false,
     "start_time": "2020-08-15T10:13:43.742836",
     "status": "completed"
    },
    "tags": []
   },
   "source": [
    "### Comparing results of NN and LR"
   ]
  },
  {
   "cell_type": "code",
   "execution_count": 24,
   "metadata": {
    "execution": {
     "iopub.execute_input": "2020-08-15T10:13:43.890271Z",
     "iopub.status.busy": "2020-08-15T10:13:43.888869Z",
     "iopub.status.idle": "2020-08-15T10:13:44.105833Z",
     "shell.execute_reply": "2020-08-15T10:13:44.105291Z"
    },
    "papermill": {
     "duration": 0.269296,
     "end_time": "2020-08-15T10:13:44.105969",
     "exception": false,
     "start_time": "2020-08-15T10:13:43.836673",
     "status": "completed"
    },
    "tags": []
   },
   "outputs": [
    {
     "data": {
      "text/plain": [
       "<matplotlib.legend.Legend at 0x7fc0ded55f98>"
      ]
     },
     "execution_count": 24,
     "metadata": {},
     "output_type": "execute_result"
    },
    {
     "data": {
      "image/png": "[encoded data removed]",
      "text/plain": [
       "<Figure size 576x360 with 1 Axes>"
      ]
     },
     "metadata": {
      "needs_background": "light"
     },
     "output_type": "display_data"
    }
   ],
   "source": [
    "plt.figure(figsize=(8,5))\n",
    "plt.plot(acc1.val_accuracies, 'g-', label = \"Val Accuracies - NN\")\n",
    "plt.plot(acc1.accuracies, 'r-', label = \"Accuracies - NN\")\n",
    "plt.plot(acc2.val_accuracies, 'b-', label = \"Val Accuracies - Logistic Reg\")\n",
    "plt.plot(acc2.accuracies, 'k-', label = \"Accuracies - Logistic Reg\")\n",
    "plt.ylim(0.8,1) ## for a more spread out view\n",
    "plt.legend()"
   ]
  },
  {
   "cell_type": "markdown",
   "metadata": {
    "papermill": {
     "duration": 0.047421,
     "end_time": "2020-08-15T10:13:44.201548",
     "exception": false,
     "start_time": "2020-08-15T10:13:44.154127",
     "status": "completed"
    },
    "tags": []
   },
   "source": [
    "### Clearly NN has a better accuracy over LR; NN is overfitting - Validation accuracy (green) has dropped below training accuracy (orange), also they are diverging. This problem is not seen in LR"
   ]
  },
  {
   "cell_type": "markdown",
   "metadata": {
    "papermill": {
     "duration": 0.047491,
     "end_time": "2020-08-15T10:13:44.296593",
     "exception": false,
     "start_time": "2020-08-15T10:13:44.249102",
     "status": "completed"
    },
    "tags": []
   },
   "source": [
    "##### Now we will be moving through the network, till the output of the second last affine where we get a 2 dimensional output. We will be plotting this 2d output and probability contours"
   ]
  },
  {
   "cell_type": "code",
   "execution_count": 25,
   "metadata": {
    "execution": {
     "iopub.execute_input": "2020-08-15T10:13:44.396583Z",
     "iopub.status.busy": "2020-08-15T10:13:44.395982Z",
     "iopub.status.idle": "2020-08-15T10:13:44.410382Z",
     "shell.execute_reply": "2020-08-15T10:13:44.409869Z"
    },
    "papermill": {
     "duration": 0.066429,
     "end_time": "2020-08-15T10:13:44.410540",
     "exception": false,
     "start_time": "2020-08-15T10:13:44.344111",
     "status": "completed"
    },
    "tags": []
   },
   "outputs": [],
   "source": [
    "model_new = Model(layers[:-2])"
   ]
  },
  {
   "cell_type": "code",
   "execution_count": 26,
   "metadata": {
    "execution": {
     "iopub.execute_input": "2020-08-15T10:13:44.510406Z",
     "iopub.status.busy": "2020-08-15T10:13:44.509793Z",
     "iopub.status.idle": "2020-08-15T10:13:44.530340Z",
     "shell.execute_reply": "2020-08-15T10:13:44.531270Z"
    },
    "papermill": {
     "duration": 0.073266,
     "end_time": "2020-08-15T10:13:44.531435",
     "exception": false,
     "start_time": "2020-08-15T10:13:44.458169",
     "status": "completed"
    },
    "tags": []
   },
   "outputs": [],
   "source": [
    "plot_testing = model_new(testing_xdata)"
   ]
  },
  {
   "cell_type": "markdown",
   "metadata": {
    "papermill": {
     "duration": 0.047632,
     "end_time": "2020-08-15T10:13:44.627485",
     "exception": false,
     "start_time": "2020-08-15T10:13:44.579853",
     "status": "completed"
    },
    "tags": []
   },
   "source": [
    "##### Plotting the scatter plot of points and color coding by class"
   ]
  },
  {
   "cell_type": "code",
   "execution_count": 27,
   "metadata": {
    "execution": {
     "iopub.execute_input": "2020-08-15T10:13:44.735141Z",
     "iopub.status.busy": "2020-08-15T10:13:44.734504Z",
     "iopub.status.idle": "2020-08-15T10:13:44.948194Z",
     "shell.execute_reply": "2020-08-15T10:13:44.948772Z"
    },
    "papermill": {
     "duration": 0.273881,
     "end_time": "2020-08-15T10:13:44.949037",
     "exception": false,
     "start_time": "2020-08-15T10:13:44.675156",
     "status": "completed"
    },
    "tags": []
   },
   "outputs": [
    {
     "data": {
      "image/png": "[encoded data removed]",
      "text/plain": [
       "<Figure size 576x504 with 1 Axes>"
      ]
     },
     "metadata": {
      "needs_background": "light"
     },
     "output_type": "display_data"
    }
   ],
   "source": [
    "plt.figure(figsize=(8,7))\n",
    "plt.scatter(plot_testing[:,0], plot_testing[:,1], alpha = 0.1, c = y_test.ravel());"
   ]
  },
  {
   "cell_type": "markdown",
   "metadata": {
    "papermill": {
     "duration": 0.05437,
     "end_time": "2020-08-15T10:13:45.088956",
     "exception": false,
     "start_time": "2020-08-15T10:13:45.034586",
     "status": "completed"
    },
    "tags": []
   },
   "source": [
    "##### Plotting probability contours"
   ]
  },
  {
   "cell_type": "code",
   "execution_count": 28,
   "metadata": {
    "execution": {
     "iopub.execute_input": "2020-08-15T10:13:45.195076Z",
     "iopub.status.busy": "2020-08-15T10:13:45.194468Z",
     "iopub.status.idle": "2020-08-15T10:13:45.206913Z",
     "shell.execute_reply": "2020-08-15T10:13:45.207394Z"
    },
    "papermill": {
     "duration": 0.068483,
     "end_time": "2020-08-15T10:13:45.207548",
     "exception": false,
     "start_time": "2020-08-15T10:13:45.139065",
     "status": "completed"
    },
    "tags": []
   },
   "outputs": [],
   "source": [
    "model_prob = Model(layers[-2:]) ## picking only last two layers to get probability. That is affine followed by sigmoid"
   ]
  },
  {
   "cell_type": "code",
   "execution_count": 29,
   "metadata": {
    "execution": {
     "iopub.execute_input": "2020-08-15T10:13:45.312856Z",
     "iopub.status.busy": "2020-08-15T10:13:45.312239Z",
     "iopub.status.idle": "2020-08-15T10:13:45.327157Z",
     "shell.execute_reply": "2020-08-15T10:13:45.327617Z"
    },
    "papermill": {
     "duration": 0.070547,
     "end_time": "2020-08-15T10:13:45.327776",
     "exception": false,
     "start_time": "2020-08-15T10:13:45.257229",
     "status": "completed"
    },
    "tags": []
   },
   "outputs": [],
   "source": [
    "xgrid = np.linspace(-4, 1, 100) ## Adjust these values based on above chart, roughly -4 to 1\n",
    "ygrid = np.linspace(-7.5, 7.5, 100) ## Adjust these values based on above chart, roughly -7.5, 7.5\n",
    "xg, yg = np.meshgrid(xgrid, ygrid)\n",
    "# xg and yg are now both 100X100, lets convert them to single arrays \n",
    "\n",
    "xg_interim = np.ravel(xg)\n",
    "yg_interim = np.ravel(yg)\n",
    "\n",
    "## xg_interim, yg_interim are now arrays of len 10000, now we will stack them and then transpose to get desired shape of n rows, 2 columns\n",
    "\n",
    "X_interim = np.vstack((xg_interim, yg_interim)) ## Please note vstack takes in a tuple\n",
    "X = X_interim.T\n",
    "\n",
    "## We want a shape of n rows and 2 columns to be able to feed this to last affine\n",
    "## This last affine takes only two columns, hence the above transformation\n",
    "probability_contour = model_prob(X).reshape(100,100) ## to make it consistent with xg, yg"
   ]
  },
  {
   "cell_type": "code",
   "execution_count": 30,
   "metadata": {
    "execution": {
     "iopub.execute_input": "2020-08-15T10:13:45.443784Z",
     "iopub.status.busy": "2020-08-15T10:13:45.443167Z",
     "iopub.status.idle": "2020-08-15T10:13:45.670640Z",
     "shell.execute_reply": "2020-08-15T10:13:45.671219Z"
    },
    "papermill": {
     "duration": 0.292964,
     "end_time": "2020-08-15T10:13:45.671389",
     "exception": false,
     "start_time": "2020-08-15T10:13:45.378425",
     "status": "completed"
    },
    "tags": []
   },
   "outputs": [
    {
     "data": {
      "image/png": "[encoded data removed]",
      "text/plain": [
       "<Figure size 576x504 with 1 Axes>"
      ]
     },
     "metadata": {
      "needs_background": "light"
     },
     "output_type": "display_data"
    }
   ],
   "source": [
    "plt.figure(figsize=(8,7))\n",
    "plt.scatter(plot_testing[:,0], plot_testing[:,1], alpha = 0.1, c = y_test.ravel())\n",
    "contours = plt.contour(xg,yg,probability_contour)\n",
    "plt.clabel(contours, inline = True );"
   ]
  }
 ],
 "metadata": {
  "kernelspec": {
   "display_name": "Python 3",
   "language": "python",
   "name": "python3"
  },
  "language_info": {
   "codemirror_mode": {
    "name": "ipython",
    "version": 3
   },
   "file_extension": ".py",
   "mimetype": "text/x-python",
   "name": "python",
   "nbconvert_exporter": "python",
   "pygments_lexer": "ipython3",
   "version": "3.6.11"
  },
  "papermill": {
   "duration": 119.424947,
   "end_time": "2020-08-15T10:13:47.028404",
   "environment_variables": {},
   "exception": null,
   "input_path": "2020-08-07-NN-new.ipynb",
   "output_path": "2020-08-07-NN-new.ipynb",
   "parameters": {},
   "start_time": "2020-08-15T10:11:47.603457",
   "version": "2.1.2"
  }
 },
 "nbformat": 4,
 "nbformat_minor": 4
}