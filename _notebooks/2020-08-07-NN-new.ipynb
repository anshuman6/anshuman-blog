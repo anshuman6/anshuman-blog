{
 "cells": [
  {
   "cell_type": "markdown",
   "metadata": {
    "papermill": {
     "duration": 0.030818,
     "end_time": "2020-08-28T10:12:46.843385",
     "exception": false,
     "start_time": "2020-08-28T10:12:46.812567",
     "status": "completed"
    },
    "tags": []
   },
   "source": [
    "# \"Building a basic Neural Network from scratch - Kudzu\"\n",
    "\n",
    "- badges: true\n",
    "- author: Anshuman Gupta"
   ]
  },
  {
   "cell_type": "markdown",
   "metadata": {
    "papermill": {
     "duration": 0.026126,
     "end_time": "2020-08-28T10:12:46.896237",
     "exception": false,
     "start_time": "2020-08-28T10:12:46.870111",
     "status": "completed"
    },
    "tags": []
   },
   "source": [
    "#### In this project, the idea is to write a classifier to differentiate between handwritten digits 3 and 8, from the MNIST database.\n",
    "\n",
    "#### I will using a custom built neural network library called Kudzu.This has been developed as a part of KTF/Foundations course of Univ.ai (www.univ.ai). The source code for Kudzu Library and and this notebook can be found on my git-hub profile : www.https://github.com/anshuman6 under the folder project-solution. Any feedback and comments are welcome. Please feel free to email me at: anshuman6@gmail.com\n",
    "\n",
    "#### 1. I will be using the MNIST database. \n",
    "\n",
    "#### 2. I will be comparing the results of the 4 layer NN to a standard logistic regression"
   ]
  },
  {
   "cell_type": "markdown",
   "metadata": {
    "papermill": {
     "duration": 0.026097,
     "end_time": "2020-08-28T10:12:46.947755",
     "exception": false,
     "start_time": "2020-08-28T10:12:46.921658",
     "status": "completed"
    },
    "tags": []
   },
   "source": [
    "##### Importing all the necessary libraries"
   ]
  },
  {
   "cell_type": "code",
   "execution_count": 1,
   "metadata": {
    "execution": {
     "iopub.execute_input": "2020-08-28T10:12:47.006457Z",
     "iopub.status.busy": "2020-08-28T10:12:47.005887Z",
     "iopub.status.idle": "2020-08-28T10:12:47.016691Z",
     "shell.execute_reply": "2020-08-28T10:12:47.017232Z"
    },
    "papermill": {
     "duration": 0.042422,
     "end_time": "2020-08-28T10:12:47.017418",
     "exception": false,
     "start_time": "2020-08-28T10:12:46.974996",
     "status": "completed"
    },
    "tags": []
   },
   "outputs": [],
   "source": [
    "%load_ext autoreload\n",
    "%autoreload 2"
   ]
  },
  {
   "cell_type": "code",
   "execution_count": 2,
   "metadata": {
    "execution": {
     "iopub.execute_input": "2020-08-28T10:12:47.078858Z",
     "iopub.status.busy": "2020-08-28T10:12:47.078140Z",
     "iopub.status.idle": "2020-08-28T10:12:47.657116Z",
     "shell.execute_reply": "2020-08-28T10:12:47.656200Z"
    },
    "papermill": {
     "duration": 0.613899,
     "end_time": "2020-08-28T10:12:47.657310",
     "exception": false,
     "start_time": "2020-08-28T10:12:47.043411",
     "status": "completed"
    },
    "tags": []
   },
   "outputs": [],
   "source": [
    "%matplotlib inline\n",
    "import numpy as np\n",
    "import matplotlib.pyplot as plt\n",
    "import pandas as pd"
   ]
  },
  {
   "cell_type": "markdown",
   "metadata": {
    "papermill": {
     "duration": 0.02642,
     "end_time": "2020-08-28T10:12:47.711862",
     "exception": false,
     "start_time": "2020-08-28T10:12:47.685442",
     "status": "completed"
    },
    "tags": []
   },
   "source": [
    "##### The following command helps us download MNIST from notebook itself. You can skip this if you already have MNIST. You can also download it via your terminal."
   ]
  },
  {
   "cell_type": "code",
   "execution_count": 3,
   "metadata": {
    "execution": {
     "iopub.execute_input": "2020-08-28T10:12:47.777592Z",
     "iopub.status.busy": "2020-08-28T10:12:47.776952Z",
     "iopub.status.idle": "2020-08-28T10:12:49.131187Z",
     "shell.execute_reply": "2020-08-28T10:12:49.130254Z"
    },
    "papermill": {
     "duration": 1.393023,
     "end_time": "2020-08-28T10:12:49.131352",
     "exception": false,
     "start_time": "2020-08-28T10:12:47.738329",
     "status": "completed"
    },
    "tags": []
   },
   "outputs": [
    {
     "name": "stdout",
     "output_type": "stream",
     "text": [
      "Collecting mnist\r\n"
     ]
    },
    {
     "name": "stdout",
     "output_type": "stream",
     "text": [
      "  Downloading mnist-0.2.2-py2.py3-none-any.whl (3.5 kB)\r\n",
      "Requirement already satisfied: numpy in /opt/hostedtoolcache/Python/3.6.11/x64/lib/python3.6/site-packages (from mnist) (1.19.1)\r\n"
     ]
    },
    {
     "name": "stdout",
     "output_type": "stream",
     "text": [
      "Installing collected packages: mnist\r\n"
     ]
    },
    {
     "name": "stdout",
     "output_type": "stream",
     "text": [
      "Successfully installed mnist-0.2.2\r\n"
     ]
    }
   ],
   "source": [
    "!pip install mnist # Please note, it is commented out for now, you can remove comment if you want to install it"
   ]
  },
  {
   "cell_type": "markdown",
   "metadata": {
    "papermill": {
     "duration": 0.027878,
     "end_time": "2020-08-28T10:12:49.188377",
     "exception": false,
     "start_time": "2020-08-28T10:12:49.160499",
     "status": "completed"
    },
    "tags": []
   },
   "source": [
    "#### Preparing the Data"
   ]
  },
  {
   "cell_type": "code",
   "execution_count": 4,
   "metadata": {
    "execution": {
     "iopub.execute_input": "2020-08-28T10:12:49.257939Z",
     "iopub.status.busy": "2020-08-28T10:12:49.251526Z",
     "iopub.status.idle": "2020-08-28T10:12:49.262679Z",
     "shell.execute_reply": "2020-08-28T10:12:49.262234Z"
    },
    "papermill": {
     "duration": 0.048099,
     "end_time": "2020-08-28T10:12:49.262804",
     "exception": false,
     "start_time": "2020-08-28T10:12:49.214705",
     "status": "completed"
    },
    "tags": []
   },
   "outputs": [],
   "source": [
    "import mnist"
   ]
  },
  {
   "cell_type": "code",
   "execution_count": 5,
   "metadata": {
    "execution": {
     "iopub.execute_input": "2020-08-28T10:12:49.321056Z",
     "iopub.status.busy": "2020-08-28T10:12:49.320432Z",
     "iopub.status.idle": "2020-08-28T10:12:50.217682Z",
     "shell.execute_reply": "2020-08-28T10:12:50.218248Z"
    },
    "papermill": {
     "duration": 0.929014,
     "end_time": "2020-08-28T10:12:50.218457",
     "exception": false,
     "start_time": "2020-08-28T10:12:49.289443",
     "status": "completed"
    },
    "tags": []
   },
   "outputs": [],
   "source": [
    "train_images = mnist.train_images()\n",
    "train_labels = mnist.train_labels()"
   ]
  },
  {
   "cell_type": "code",
   "execution_count": 6,
   "metadata": {
    "execution": {
     "iopub.execute_input": "2020-08-28T10:12:50.284839Z",
     "iopub.status.busy": "2020-08-28T10:12:50.284182Z",
     "iopub.status.idle": "2020-08-28T10:12:50.296428Z",
     "shell.execute_reply": "2020-08-28T10:12:50.295926Z"
    },
    "papermill": {
     "duration": 0.049709,
     "end_time": "2020-08-28T10:12:50.296567",
     "exception": false,
     "start_time": "2020-08-28T10:12:50.246858",
     "status": "completed"
    },
    "tags": []
   },
   "outputs": [
    {
     "data": {
      "text/plain": [
       "((60000, 28, 28), (60000,))"
      ]
     },
     "execution_count": 6,
     "metadata": {},
     "output_type": "execute_result"
    }
   ],
   "source": [
    "train_images.shape, train_labels.shape"
   ]
  },
  {
   "cell_type": "code",
   "execution_count": 7,
   "metadata": {
    "execution": {
     "iopub.execute_input": "2020-08-28T10:12:50.355788Z",
     "iopub.status.busy": "2020-08-28T10:12:50.355228Z",
     "iopub.status.idle": "2020-08-28T10:12:50.765645Z",
     "shell.execute_reply": "2020-08-28T10:12:50.764288Z"
    },
    "papermill": {
     "duration": 0.441324,
     "end_time": "2020-08-28T10:12:50.765815",
     "exception": false,
     "start_time": "2020-08-28T10:12:50.324491",
     "status": "completed"
    },
    "tags": []
   },
   "outputs": [],
   "source": [
    "test_images = mnist.test_images()\n",
    "test_labels = mnist.test_labels()"
   ]
  },
  {
   "cell_type": "code",
   "execution_count": 8,
   "metadata": {
    "execution": {
     "iopub.execute_input": "2020-08-28T10:12:50.836719Z",
     "iopub.status.busy": "2020-08-28T10:12:50.829449Z",
     "iopub.status.idle": "2020-08-28T10:12:50.839581Z",
     "shell.execute_reply": "2020-08-28T10:12:50.839187Z"
    },
    "papermill": {
     "duration": 0.045515,
     "end_time": "2020-08-28T10:12:50.839697",
     "exception": false,
     "start_time": "2020-08-28T10:12:50.794182",
     "status": "completed"
    },
    "tags": []
   },
   "outputs": [
    {
     "data": {
      "text/plain": [
       "((10000, 28, 28), (10000,))"
      ]
     },
     "execution_count": 8,
     "metadata": {},
     "output_type": "execute_result"
    }
   ],
   "source": [
    "test_images.shape, test_labels.shape"
   ]
  },
  {
   "cell_type": "code",
   "execution_count": 9,
   "metadata": {
    "execution": {
     "iopub.execute_input": "2020-08-28T10:12:50.896005Z",
     "iopub.status.busy": "2020-08-28T10:12:50.895418Z",
     "iopub.status.idle": "2020-08-28T10:12:51.037245Z",
     "shell.execute_reply": "2020-08-28T10:12:51.036741Z"
    },
    "papermill": {
     "duration": 0.171936,
     "end_time": "2020-08-28T10:12:51.037379",
     "exception": false,
     "start_time": "2020-08-28T10:12:50.865443",
     "status": "completed"
    },
    "tags": []
   },
   "outputs": [
    {
     "name": "stdout",
     "output_type": "stream",
     "text": [
      "2\n"
     ]
    },
    {
     "data": {
      "text/plain": [
       "<matplotlib.image.AxesImage at 0x7fdf94f78ba8>"
      ]
     },
     "execution_count": 9,
     "metadata": {},
     "output_type": "execute_result"
    },
    {
     "data": {
      "image/png": "[encoded data removed]",
      "text/plain": [
       "<Figure size 432x288 with 1 Axes>"
      ]
     },
     "metadata": {
      "needs_background": "light"
     },
     "output_type": "display_data"
    }
   ],
   "source": [
    "image_index = 7776 # You may select anything up to 60,000\n",
    "print(train_labels[image_index]) \n",
    "plt.imshow(train_images[image_index], cmap='Greys')"
   ]
  },
  {
   "cell_type": "markdown",
   "metadata": {
    "papermill": {
     "duration": 0.027324,
     "end_time": "2020-08-28T10:12:51.092243",
     "exception": false,
     "start_time": "2020-08-28T10:12:51.064919",
     "status": "completed"
    },
    "tags": []
   },
   "source": [
    "## Filter data to get 3 and 8 out"
   ]
  },
  {
   "cell_type": "code",
   "execution_count": 10,
   "metadata": {
    "execution": {
     "iopub.execute_input": "2020-08-28T10:12:51.162227Z",
     "iopub.status.busy": "2020-08-28T10:12:51.153275Z",
     "iopub.status.idle": "2020-08-28T10:12:51.170156Z",
     "shell.execute_reply": "2020-08-28T10:12:51.170577Z"
    },
    "papermill": {
     "duration": 0.051488,
     "end_time": "2020-08-28T10:12:51.170729",
     "exception": false,
     "start_time": "2020-08-28T10:12:51.119241",
     "status": "completed"
    },
    "tags": []
   },
   "outputs": [],
   "source": [
    "train_filter = np.where((train_labels == 3 ) | (train_labels == 8))\n",
    "test_filter = np.where((test_labels == 3) | (test_labels == 8))\n",
    "X_train, y_train = train_images[train_filter], train_labels[train_filter]\n",
    "X_test, y_test = test_images[test_filter], test_labels[test_filter]"
   ]
  },
  {
   "cell_type": "markdown",
   "metadata": {
    "papermill": {
     "duration": 0.027722,
     "end_time": "2020-08-28T10:12:51.225492",
     "exception": false,
     "start_time": "2020-08-28T10:12:51.197770",
     "status": "completed"
    },
    "tags": []
   },
   "source": [
    "##### We normalize the pizel values in the 0 to 1 range"
   ]
  },
  {
   "cell_type": "code",
   "execution_count": 11,
   "metadata": {
    "execution": {
     "iopub.execute_input": "2020-08-28T10:12:51.285968Z",
     "iopub.status.busy": "2020-08-28T10:12:51.285410Z",
     "iopub.status.idle": "2020-08-28T10:12:51.336113Z",
     "shell.execute_reply": "2020-08-28T10:12:51.335468Z"
    },
    "papermill": {
     "duration": 0.083341,
     "end_time": "2020-08-28T10:12:51.336276",
     "exception": false,
     "start_time": "2020-08-28T10:12:51.252935",
     "status": "completed"
    },
    "tags": []
   },
   "outputs": [],
   "source": [
    "X_train = X_train/255.\n",
    "X_test = X_test/255."
   ]
  },
  {
   "cell_type": "markdown",
   "metadata": {
    "papermill": {
     "duration": 0.028403,
     "end_time": "2020-08-28T10:12:51.392981",
     "exception": false,
     "start_time": "2020-08-28T10:12:51.364578",
     "status": "completed"
    },
    "tags": []
   },
   "source": [
    "And setup the labels as 1 (when the digit is 3) and 0 (when the digit is 8)"
   ]
  },
  {
   "cell_type": "code",
   "execution_count": 12,
   "metadata": {
    "execution": {
     "iopub.execute_input": "2020-08-28T10:12:51.452860Z",
     "iopub.status.busy": "2020-08-28T10:12:51.452268Z",
     "iopub.status.idle": "2020-08-28T10:12:51.464749Z",
     "shell.execute_reply": "2020-08-28T10:12:51.465199Z"
    },
    "papermill": {
     "duration": 0.045314,
     "end_time": "2020-08-28T10:12:51.465344",
     "exception": false,
     "start_time": "2020-08-28T10:12:51.420030",
     "status": "completed"
    },
    "tags": []
   },
   "outputs": [],
   "source": [
    "y_train = 1*(y_train==3)\n",
    "y_test = 1*(y_test==3)"
   ]
  },
  {
   "cell_type": "code",
   "execution_count": 13,
   "metadata": {
    "execution": {
     "iopub.execute_input": "2020-08-28T10:12:51.525321Z",
     "iopub.status.busy": "2020-08-28T10:12:51.524776Z",
     "iopub.status.idle": "2020-08-28T10:12:51.539679Z",
     "shell.execute_reply": "2020-08-28T10:12:51.539226Z"
    },
    "papermill": {
     "duration": 0.046888,
     "end_time": "2020-08-28T10:12:51.539807",
     "exception": false,
     "start_time": "2020-08-28T10:12:51.492919",
     "status": "completed"
    },
    "tags": []
   },
   "outputs": [
    {
     "data": {
      "text/plain": [
       "((11982, 28, 28), (1984, 28, 28))"
      ]
     },
     "execution_count": 13,
     "metadata": {},
     "output_type": "execute_result"
    }
   ],
   "source": [
    "X_train.shape, X_test.shape"
   ]
  },
  {
   "cell_type": "markdown",
   "metadata": {
    "papermill": {
     "duration": 0.027008,
     "end_time": "2020-08-28T10:12:51.593846",
     "exception": false,
     "start_time": "2020-08-28T10:12:51.566838",
     "status": "completed"
    },
    "tags": []
   },
   "source": [
    "##### We reshape the data to flatten the image pixels into a set of features or co-variates:"
   ]
  },
  {
   "cell_type": "code",
   "execution_count": 14,
   "metadata": {
    "execution": {
     "iopub.execute_input": "2020-08-28T10:12:51.658455Z",
     "iopub.status.busy": "2020-08-28T10:12:51.657851Z",
     "iopub.status.idle": "2020-08-28T10:12:51.671063Z",
     "shell.execute_reply": "2020-08-28T10:12:51.670608Z"
    },
    "papermill": {
     "duration": 0.04881,
     "end_time": "2020-08-28T10:12:51.671192",
     "exception": false,
     "start_time": "2020-08-28T10:12:51.622382",
     "status": "completed"
    },
    "tags": []
   },
   "outputs": [
    {
     "data": {
      "text/plain": [
       "((11982, 784), (1984, 784))"
      ]
     },
     "execution_count": 14,
     "metadata": {},
     "output_type": "execute_result"
    }
   ],
   "source": [
    "X_train = X_train.reshape(X_train.shape[0], -1)\n",
    "X_test = X_test.reshape(X_test.shape[0], -1)\n",
    "X_train.shape, X_test.shape"
   ]
  },
  {
   "cell_type": "markdown",
   "metadata": {
    "papermill": {
     "duration": 0.029411,
     "end_time": "2020-08-28T10:12:51.728837",
     "exception": false,
     "start_time": "2020-08-28T10:12:51.699426",
     "status": "completed"
    },
    "tags": []
   },
   "source": [
    "##### Importing Kudzu library and its functionality"
   ]
  },
  {
   "cell_type": "code",
   "execution_count": 15,
   "metadata": {
    "execution": {
     "iopub.execute_input": "2020-08-28T10:12:51.793616Z",
     "iopub.status.busy": "2020-08-28T10:12:51.793033Z",
     "iopub.status.idle": "2020-08-28T10:12:51.811715Z",
     "shell.execute_reply": "2020-08-28T10:12:51.811250Z"
    },
    "papermill": {
     "duration": 0.054055,
     "end_time": "2020-08-28T10:12:51.811849",
     "exception": false,
     "start_time": "2020-08-28T10:12:51.757794",
     "status": "completed"
    },
    "tags": []
   },
   "outputs": [],
   "source": [
    "from kudzu.data import Data, Dataloader, Sampler\n",
    "from kudzu.callbacks import AccCallback\n",
    "from kudzu.loss import MSE\n",
    "from kudzu.layer import Affine, Sigmoid\n",
    "from kudzu.model import Model\n",
    "from kudzu.optim import GD\n",
    "from kudzu.train import Learner\n",
    "from kudzu.callbacks import ClfCallback\n",
    "from kudzu.layer import Sigmoid\n",
    "from kudzu.layer import Relu"
   ]
  },
  {
   "cell_type": "markdown",
   "metadata": {
    "papermill": {
     "duration": 0.028874,
     "end_time": "2020-08-28T10:12:51.870782",
     "exception": false,
     "start_time": "2020-08-28T10:12:51.841908",
     "status": "completed"
    },
    "tags": []
   },
   "source": [
    "##### We are creating a class, just so that we can use it to store our parameters for us"
   ]
  },
  {
   "cell_type": "code",
   "execution_count": 16,
   "metadata": {
    "execution": {
     "iopub.execute_input": "2020-08-28T10:12:51.935164Z",
     "iopub.status.busy": "2020-08-28T10:12:51.934535Z",
     "iopub.status.idle": "2020-08-28T10:12:51.947373Z",
     "shell.execute_reply": "2020-08-28T10:12:51.946909Z"
    },
    "papermill": {
     "duration": 0.047065,
     "end_time": "2020-08-28T10:12:51.947506",
     "exception": false,
     "start_time": "2020-08-28T10:12:51.900441",
     "status": "completed"
    },
    "tags": []
   },
   "outputs": [],
   "source": [
    "class Config:\n",
    "    pass\n",
    "config = Config()\n",
    "config.lr = 0.001\n",
    "config.num_epochs = 250\n",
    "config.bs = 50"
   ]
  },
  {
   "cell_type": "markdown",
   "metadata": {
    "papermill": {
     "duration": 0.028971,
     "end_time": "2020-08-28T10:12:52.005371",
     "exception": false,
     "start_time": "2020-08-28T10:12:51.976400",
     "status": "completed"
    },
    "tags": []
   },
   "source": [
    "##### Initializing Data"
   ]
  },
  {
   "cell_type": "code",
   "execution_count": 17,
   "metadata": {
    "execution": {
     "iopub.execute_input": "2020-08-28T10:12:52.070168Z",
     "iopub.status.busy": "2020-08-28T10:12:52.069609Z",
     "iopub.status.idle": "2020-08-28T10:12:52.083444Z",
     "shell.execute_reply": "2020-08-28T10:12:52.083918Z"
    },
    "papermill": {
     "duration": 0.048728,
     "end_time": "2020-08-28T10:12:52.084063",
     "exception": false,
     "start_time": "2020-08-28T10:12:52.035335",
     "status": "completed"
    },
    "tags": []
   },
   "outputs": [],
   "source": [
    "data = Data(X_train, y_train.reshape(-1,1))\n",
    "loss = MSE()\n",
    "opt = GD(config.lr)\n",
    "sampler = Sampler(data, config.bs, shuffle=True)\n",
    "dl = Dataloader(data, sampler)"
   ]
  },
  {
   "cell_type": "markdown",
   "metadata": {
    "papermill": {
     "duration": 0.028865,
     "end_time": "2020-08-28T10:12:52.141439",
     "exception": false,
     "start_time": "2020-08-28T10:12:52.112574",
     "status": "completed"
    },
    "tags": []
   },
   "source": [
    "##### Constructing 2 different layers, one for NN and one only for logistic regression."
   ]
  },
  {
   "cell_type": "markdown",
   "metadata": {
    "papermill": {
     "duration": 0.028914,
     "end_time": "2020-08-28T10:12:52.200615",
     "exception": false,
     "start_time": "2020-08-28T10:12:52.171701",
     "status": "completed"
    },
    "tags": []
   },
   "source": [
    "##### Creating containers for data to be passed, to calculate accuracies"
   ]
  },
  {
   "cell_type": "code",
   "execution_count": 18,
   "metadata": {
    "execution": {
     "iopub.execute_input": "2020-08-28T10:12:52.269329Z",
     "iopub.status.busy": "2020-08-28T10:12:52.268756Z",
     "iopub.status.idle": "2020-08-28T10:12:52.277617Z",
     "shell.execute_reply": "2020-08-28T10:12:52.278064Z"
    },
    "papermill": {
     "duration": 0.048056,
     "end_time": "2020-08-28T10:12:52.278233",
     "exception": false,
     "start_time": "2020-08-28T10:12:52.230177",
     "status": "completed"
    },
    "tags": []
   },
   "outputs": [],
   "source": [
    "training_xdata = X_train\n",
    "testing_xdata = X_test\n",
    "training_ydata = y_train.reshape(-1,1)\n",
    "testing_ydata = y_test.reshape(-1,1)"
   ]
  },
  {
   "cell_type": "markdown",
   "metadata": {
    "papermill": {
     "duration": 0.029114,
     "end_time": "2020-08-28T10:12:52.335982",
     "exception": false,
     "start_time": "2020-08-28T10:12:52.306868",
     "status": "completed"
    },
    "tags": []
   },
   "source": [
    "##### Initializing models and Running training loop: "
   ]
  },
  {
   "cell_type": "code",
   "execution_count": 19,
   "metadata": {
    "execution": {
     "iopub.execute_input": "2020-08-28T10:12:52.401168Z",
     "iopub.status.busy": "2020-08-28T10:12:52.400552Z",
     "iopub.status.idle": "2020-08-28T10:12:52.418203Z",
     "shell.execute_reply": "2020-08-28T10:12:52.417717Z"
    },
    "papermill": {
     "duration": 0.053327,
     "end_time": "2020-08-28T10:12:52.418337",
     "exception": false,
     "start_time": "2020-08-28T10:12:52.365010",
     "status": "completed"
    },
    "tags": []
   },
   "outputs": [],
   "source": [
    "layers = [Affine(\"first\", 784, 100), Relu(\"first\"), Affine(\"second\", 100, 100), Relu(\"second\"), Affine(\"third\", 100, 2), Affine(\"final\", 2, 1), Sigmoid(\"final\")]\n",
    "\n",
    "model_neural = Model(layers)\n",
    "model_logistic = Model([Affine(\"logits\", 784, 1), Sigmoid(\"sigmoid\")])"
   ]
  },
  {
   "cell_type": "code",
   "execution_count": 20,
   "metadata": {
    "execution": {
     "iopub.execute_input": "2020-08-28T10:12:52.483102Z",
     "iopub.status.busy": "2020-08-28T10:12:52.482536Z",
     "iopub.status.idle": "2020-08-28T10:12:52.495013Z",
     "shell.execute_reply": "2020-08-28T10:12:52.494562Z"
    },
    "papermill": {
     "duration": 0.046604,
     "end_time": "2020-08-28T10:12:52.495141",
     "exception": false,
     "start_time": "2020-08-28T10:12:52.448537",
     "status": "completed"
    },
    "tags": []
   },
   "outputs": [],
   "source": [
    "learner1 = Learner(loss, model_neural, opt, config.num_epochs)\n",
    "acc1 = ClfCallback(learner1, config.bs, training_xdata , testing_xdata, training_ydata, testing_ydata)\n",
    "learner1.set_callbacks([acc1])"
   ]
  },
  {
   "cell_type": "code",
   "execution_count": 21,
   "metadata": {
    "execution": {
     "iopub.execute_input": "2020-08-28T10:12:52.559883Z",
     "iopub.status.busy": "2020-08-28T10:12:52.559223Z",
     "iopub.status.idle": "2020-08-28T10:14:15.286097Z",
     "shell.execute_reply": "2020-08-28T10:14:15.286851Z"
    },
    "papermill": {
     "duration": 82.762807,
     "end_time": "2020-08-28T10:14:15.287034",
     "exception": false,
     "start_time": "2020-08-28T10:12:52.524227",
     "status": "completed"
    },
    "tags": []
   },
   "outputs": [
    {
     "name": "stdout",
     "output_type": "stream",
     "text": [
      "Epoch 0 Loss 0.2132997560982286\n",
      "train accuracy is: 0.7897679853113003, test accuracy is 0.813508064516129\n"
     ]
    },
    {
     "name": "stdout",
     "output_type": "stream",
     "text": [
      "Epoch 10 Loss 0.062155428386537794\n",
      "train accuracy is: 0.9356534802203305, test accuracy is 0.9420362903225806\n"
     ]
    },
    {
     "name": "stdout",
     "output_type": "stream",
     "text": [
      "Epoch 20 Loss 0.04391972340065586\n",
      "train accuracy is: 0.9516775162744117, test accuracy is 0.9576612903225806\n"
     ]
    },
    {
     "name": "stdout",
     "output_type": "stream",
     "text": [
      "Epoch 30 Loss 0.036744038966116256\n",
      "train accuracy is: 0.9596895343014522, test accuracy is 0.9637096774193549\n"
     ]
    },
    {
     "name": "stdout",
     "output_type": "stream",
     "text": [
      "Epoch 40 Loss 0.03276050939327718\n",
      "train accuracy is: 0.9636955433149724, test accuracy is 0.9672379032258065\n"
     ]
    },
    {
     "name": "stdout",
     "output_type": "stream",
     "text": [
      "Epoch 50 Loss 0.03011751675089878\n",
      "train accuracy is: 0.9661992989484226, test accuracy is 0.9702620967741935\n"
     ]
    },
    {
     "name": "stdout",
     "output_type": "stream",
     "text": [
      "Epoch 60 Loss 0.02818155228847046\n",
      "train accuracy is: 0.9678684693707228, test accuracy is 0.9712701612903226\n"
     ]
    },
    {
     "name": "stdout",
     "output_type": "stream",
     "text": [
      "Epoch 70 Loss 0.026664205235772533\n",
      "train accuracy is: 0.9699549323985979, test accuracy is 0.9727822580645161\n"
     ]
    },
    {
     "name": "stdout",
     "output_type": "stream",
     "text": [
      "Epoch 80 Loss 0.025427153383953738\n",
      "train accuracy is: 0.970956434651978, test accuracy is 0.9732862903225806\n"
     ]
    },
    {
     "name": "stdout",
     "output_type": "stream",
     "text": [
      "Epoch 90 Loss 0.024359478509928204\n",
      "train accuracy is: 0.9716241028208981, test accuracy is 0.9732862903225806\n"
     ]
    },
    {
     "name": "stdout",
     "output_type": "stream",
     "text": [
      "Epoch 100 Loss 0.023425806688315037\n",
      "train accuracy is: 0.9732098147220831, test accuracy is 0.9732862903225806\n"
     ]
    },
    {
     "name": "stdout",
     "output_type": "stream",
     "text": [
      "Epoch 110 Loss 0.022595877934018606\n",
      "train accuracy is: 0.9747120681021533, test accuracy is 0.9753024193548387\n"
     ]
    },
    {
     "name": "stdout",
     "output_type": "stream",
     "text": [
      "Epoch 120 Loss 0.021827600242582\n",
      "train accuracy is: 0.9759639459188784, test accuracy is 0.9753024193548387\n"
     ]
    },
    {
     "name": "stdout",
     "output_type": "stream",
     "text": [
      "Epoch 130 Loss 0.021126879094796946\n",
      "train accuracy is: 0.9764646970455684, test accuracy is 0.9778225806451613\n"
     ]
    },
    {
     "name": "stdout",
     "output_type": "stream",
     "text": [
      "Epoch 140 Loss 0.02046778072331897\n",
      "train accuracy is: 0.9775496578200634, test accuracy is 0.9778225806451613\n"
     ]
    },
    {
     "name": "stdout",
     "output_type": "stream",
     "text": [
      "Epoch 150 Loss 0.019862731779722732\n",
      "train accuracy is: 0.9783007845100985, test accuracy is 0.9783266129032258\n"
     ]
    },
    {
     "name": "stdout",
     "output_type": "stream",
     "text": [
      "Epoch 160 Loss 0.01926399998048916\n",
      "train accuracy is: 0.9789684526790186, test accuracy is 0.9773185483870968\n"
     ]
    },
    {
     "name": "stdout",
     "output_type": "stream",
     "text": [
      "Epoch 170 Loss 0.018732299364390522\n",
      "train accuracy is: 0.9800534134535136, test accuracy is 0.9773185483870968\n"
     ]
    },
    {
     "name": "stdout",
     "output_type": "stream",
     "text": [
      "Epoch 180 Loss 0.01821039626542203\n",
      "train accuracy is: 0.9805541645802036, test accuracy is 0.9778225806451613\n"
     ]
    },
    {
     "name": "stdout",
     "output_type": "stream",
     "text": [
      "Epoch 190 Loss 0.017721465204002435\n",
      "train accuracy is: 0.9808879986646637, test accuracy is 0.9773185483870968\n"
     ]
    },
    {
     "name": "stdout",
     "output_type": "stream",
     "text": [
      "Epoch 200 Loss 0.017237470346805752\n",
      "train accuracy is: 0.9818060423969287, test accuracy is 0.9783266129032258\n"
     ]
    },
    {
     "name": "stdout",
     "output_type": "stream",
     "text": [
      "Epoch 210 Loss 0.016783106279241015\n",
      "train accuracy is: 0.9826406276080788, test accuracy is 0.9768145161290323\n"
     ]
    },
    {
     "name": "stdout",
     "output_type": "stream",
     "text": [
      "Epoch 220 Loss 0.016358761282489042\n",
      "train accuracy is: 0.9828910031714237, test accuracy is 0.9773185483870968\n"
     ]
    },
    {
     "name": "stdout",
     "output_type": "stream",
     "text": [
      "Epoch 230 Loss 0.015946455161353446\n",
      "train accuracy is: 0.9833917542981139, test accuracy is 0.9783266129032258\n"
     ]
    },
    {
     "name": "stdout",
     "output_type": "stream",
     "text": [
      "Epoch 240 Loss 0.015544533924682651\n",
      "train accuracy is: 0.9838090469036889, test accuracy is 0.9798387096774194\n"
     ]
    },
    {
     "data": {
      "text/plain": [
       "0.002578115638215132"
      ]
     },
     "execution_count": 21,
     "metadata": {},
     "output_type": "execute_result"
    }
   ],
   "source": [
    "learner1.train_loop(dl)"
   ]
  },
  {
   "cell_type": "markdown",
   "metadata": {
    "papermill": {
     "duration": 0.037274,
     "end_time": "2020-08-28T10:14:15.362405",
     "exception": false,
     "start_time": "2020-08-28T10:14:15.325131",
     "status": "completed"
    },
    "tags": []
   },
   "source": [
    "##### Now running only the logistic regression based classification to compare results with NN"
   ]
  },
  {
   "cell_type": "code",
   "execution_count": 22,
   "metadata": {
    "execution": {
     "iopub.execute_input": "2020-08-28T10:14:15.440409Z",
     "iopub.status.busy": "2020-08-28T10:14:15.439609Z",
     "iopub.status.idle": "2020-08-28T10:14:15.453253Z",
     "shell.execute_reply": "2020-08-28T10:14:15.452738Z"
    },
    "papermill": {
     "duration": 0.054514,
     "end_time": "2020-08-28T10:14:15.453393",
     "exception": false,
     "start_time": "2020-08-28T10:14:15.398879",
     "status": "completed"
    },
    "tags": []
   },
   "outputs": [],
   "source": [
    "learner2 = Learner(loss, model_logistic, opt, config.num_epochs)\n",
    "acc2 = ClfCallback(learner2, config.bs, training_xdata , testing_xdata, training_ydata, testing_ydata)\n",
    "learner2.set_callbacks([acc2])"
   ]
  },
  {
   "cell_type": "code",
   "execution_count": 23,
   "metadata": {
    "execution": {
     "iopub.execute_input": "2020-08-28T10:14:15.530606Z",
     "iopub.status.busy": "2020-08-28T10:14:15.530059Z",
     "iopub.status.idle": "2020-08-28T10:14:30.944496Z",
     "shell.execute_reply": "2020-08-28T10:14:30.945343Z"
    },
    "papermill": {
     "duration": 15.454897,
     "end_time": "2020-08-28T10:14:30.945506",
     "exception": false,
     "start_time": "2020-08-28T10:14:15.490609",
     "status": "completed"
    },
    "tags": []
   },
   "outputs": [
    {
     "name": "stdout",
     "output_type": "stream",
     "text": [
      "Epoch 0 Loss 0.2267427835246852\n",
      "train accuracy is: 0.7408612919379068, test accuracy is 0.7651209677419355\n"
     ]
    },
    {
     "name": "stdout",
     "output_type": "stream",
     "text": [
      "Epoch 10 Loss 0.10278566585414198\n",
      "train accuracy is: 0.9070272074778835, test accuracy is 0.9193548387096774\n"
     ]
    },
    {
     "name": "stdout",
     "output_type": "stream",
     "text": [
      "Epoch 20 Loss 0.07967782891441628\n",
      "train accuracy is: 0.9255549991654148, test accuracy is 0.9400201612903226\n"
     ]
    },
    {
     "name": "stdout",
     "output_type": "stream",
     "text": [
      "Epoch 30 Loss 0.06877640956155359\n",
      "train accuracy is: 0.9343181438824903, test accuracy is 0.9480846774193549\n"
     ]
    },
    {
     "name": "stdout",
     "output_type": "stream",
     "text": [
      "Epoch 40 Loss 0.062146665969669605\n",
      "train accuracy is: 0.9394091136705057, test accuracy is 0.9516129032258065\n"
     ]
    },
    {
     "name": "stdout",
     "output_type": "stream",
     "text": [
      "Epoch 50 Loss 0.057603084532801864\n",
      "train accuracy is: 0.942830913036221, test accuracy is 0.9546370967741935\n"
     ]
    },
    {
     "name": "stdout",
     "output_type": "stream",
     "text": [
      "Epoch 60 Loss 0.05425346778406377\n",
      "train accuracy is: 0.9461692538808212, test accuracy is 0.9571572580645161\n"
     ]
    },
    {
     "name": "stdout",
     "output_type": "stream",
     "text": [
      "Epoch 70 Loss 0.05166037186462897\n",
      "train accuracy is: 0.9481722583875813, test accuracy is 0.9576612903225806\n"
     ]
    },
    {
     "name": "stdout",
     "output_type": "stream",
     "text": [
      "Epoch 80 Loss 0.04958147191123085\n",
      "train accuracy is: 0.9496745117676515, test accuracy is 0.9591733870967742\n"
     ]
    },
    {
     "name": "stdout",
     "output_type": "stream",
     "text": [
      "Epoch 90 Loss 0.04786602198496536\n",
      "train accuracy is: 0.9507594725421465, test accuracy is 0.9596774193548387\n"
     ]
    },
    {
     "name": "stdout",
     "output_type": "stream",
     "text": [
      "Epoch 100 Loss 0.04642106769650054\n",
      "train accuracy is: 0.9518444333166416, test accuracy is 0.9601814516129032\n"
     ]
    },
    {
     "name": "stdout",
     "output_type": "stream",
     "text": [
      "Epoch 110 Loss 0.04518107230886681\n",
      "train accuracy is: 0.9530128526122517, test accuracy is 0.9601814516129032\n"
     ]
    },
    {
     "name": "stdout",
     "output_type": "stream",
     "text": [
      "Epoch 120 Loss 0.044102760256807975\n",
      "train accuracy is: 0.9533466866967117, test accuracy is 0.9611895161290323\n"
     ]
    },
    {
     "name": "stdout",
     "output_type": "stream",
     "text": [
      "Epoch 130 Loss 0.043153045827137394\n",
      "train accuracy is: 0.9540143548656318, test accuracy is 0.9627016129032258\n"
     ]
    },
    {
     "name": "stdout",
     "output_type": "stream",
     "text": [
      "Epoch 140 Loss 0.04230919997178941\n",
      "train accuracy is: 0.9550158571190118, test accuracy is 0.9637096774193549\n"
     ]
    },
    {
     "name": "stdout",
     "output_type": "stream",
     "text": [
      "Epoch 150 Loss 0.04155151198966321\n",
      "train accuracy is: 0.9553496912034719, test accuracy is 0.9647177419354839\n"
     ]
    },
    {
     "name": "stdout",
     "output_type": "stream",
     "text": [
      "Epoch 160 Loss 0.04086628064490374\n",
      "train accuracy is: 0.956017359372392, test accuracy is 0.9647177419354839\n"
     ]
    },
    {
     "name": "stdout",
     "output_type": "stream",
     "text": [
      "Epoch 170 Loss 0.04024321125681259\n",
      "train accuracy is: 0.956434651977967, test accuracy is 0.9647177419354839\n"
     ]
    },
    {
     "name": "stdout",
     "output_type": "stream",
     "text": [
      "Epoch 180 Loss 0.03967246957209467\n",
      "train accuracy is: 0.956935403104657, test accuracy is 0.9647177419354839\n"
     ]
    },
    {
     "name": "stdout",
     "output_type": "stream",
     "text": [
      "Epoch 190 Loss 0.0391484399458158\n",
      "train accuracy is: 0.957269237189117, test accuracy is 0.9652217741935484\n"
     ]
    },
    {
     "name": "stdout",
     "output_type": "stream",
     "text": [
      "Epoch 200 Loss 0.03866310814936921\n",
      "train accuracy is: 0.958020363879152, test accuracy is 0.9652217741935484\n"
     ]
    },
    {
     "name": "stdout",
     "output_type": "stream",
     "text": [
      "Epoch 210 Loss 0.03821246156121953\n",
      "train accuracy is: 0.9581872809213821, test accuracy is 0.9662298387096774\n"
     ]
    },
    {
     "name": "stdout",
     "output_type": "stream",
     "text": [
      "Epoch 220 Loss 0.03779321662586052\n",
      "train accuracy is: 0.9591053246536472, test accuracy is 0.9657258064516129\n"
     ]
    },
    {
     "name": "stdout",
     "output_type": "stream",
     "text": [
      "Epoch 230 Loss 0.037401292990870104\n",
      "train accuracy is: 0.9595226172592222, test accuracy is 0.9657258064516129\n"
     ]
    },
    {
     "name": "stdout",
     "output_type": "stream",
     "text": [
      "Epoch 240 Loss 0.03703387479162146\n",
      "train accuracy is: 0.9600233683859122, test accuracy is 0.9657258064516129\n"
     ]
    },
    {
     "data": {
      "text/plain": [
       "0.06694599076868792"
      ]
     },
     "execution_count": 23,
     "metadata": {},
     "output_type": "execute_result"
    }
   ],
   "source": [
    "learner2.train_loop(dl)"
   ]
  },
  {
   "cell_type": "markdown",
   "metadata": {
    "papermill": {
     "duration": 0.043645,
     "end_time": "2020-08-28T10:14:31.033431",
     "exception": false,
     "start_time": "2020-08-28T10:14:30.989786",
     "status": "completed"
    },
    "tags": []
   },
   "source": [
    "### Comparing results of NN and LR"
   ]
  },
  {
   "cell_type": "code",
   "execution_count": 24,
   "metadata": {
    "execution": {
     "iopub.execute_input": "2020-08-28T10:14:31.133338Z",
     "iopub.status.busy": "2020-08-28T10:14:31.132575Z",
     "iopub.status.idle": "2020-08-28T10:14:31.336452Z",
     "shell.execute_reply": "2020-08-28T10:14:31.336936Z"
    },
    "papermill": {
     "duration": 0.25535,
     "end_time": "2020-08-28T10:14:31.337107",
     "exception": false,
     "start_time": "2020-08-28T10:14:31.081757",
     "status": "completed"
    },
    "tags": []
   },
   "outputs": [
    {
     "data": {
      "text/plain": [
       "<matplotlib.legend.Legend at 0x7fdf94b5d2e8>"
      ]
     },
     "execution_count": 24,
     "metadata": {},
     "output_type": "execute_result"
    },
    {
     "data": {
      "image/png": "[encoded data removed]",
      "text/plain": [
       "<Figure size 576x360 with 1 Axes>"
      ]
     },
     "metadata": {
      "needs_background": "light"
     },
     "output_type": "display_data"
    }
   ],
   "source": [
    "plt.figure(figsize=(8,5))\n",
    "plt.plot(acc1.val_accuracies, 'g-', label = \"Val Accuracies - NN\")\n",
    "plt.plot(acc1.accuracies, 'r-', label = \"Accuracies - NN\")\n",
    "plt.plot(acc2.val_accuracies, 'b-', label = \"Val Accuracies - Logistic Reg\")\n",
    "plt.plot(acc2.accuracies, 'k-', label = \"Accuracies - Logistic Reg\")\n",
    "plt.ylim(0.8,1) ## for a more spread out view\n",
    "plt.legend()"
   ]
  },
  {
   "cell_type": "markdown",
   "metadata": {
    "papermill": {
     "duration": 0.04859,
     "end_time": "2020-08-28T10:14:31.431216",
     "exception": false,
     "start_time": "2020-08-28T10:14:31.382626",
     "status": "completed"
    },
    "tags": []
   },
   "source": [
    "### Clearly NN has a better accuracy over LR; NN is overfitting - Validation accuracy (green) has dropped below training accuracy (orange), also they are diverging. This problem is not seen in LR"
   ]
  },
  {
   "cell_type": "markdown",
   "metadata": {
    "papermill": {
     "duration": 0.043462,
     "end_time": "2020-08-28T10:14:31.520646",
     "exception": false,
     "start_time": "2020-08-28T10:14:31.477184",
     "status": "completed"
    },
    "tags": []
   },
   "source": [
    "##### Now we will be moving through the network, till the output of the second last affine where we get a 2 dimensional output. We will be plotting this 2d output and probability contours"
   ]
  },
  {
   "cell_type": "code",
   "execution_count": 25,
   "metadata": {
    "execution": {
     "iopub.execute_input": "2020-08-28T10:14:31.612874Z",
     "iopub.status.busy": "2020-08-28T10:14:31.612246Z",
     "iopub.status.idle": "2020-08-28T10:14:31.624670Z",
     "shell.execute_reply": "2020-08-28T10:14:31.624160Z"
    },
    "papermill": {
     "duration": 0.060934,
     "end_time": "2020-08-28T10:14:31.624800",
     "exception": false,
     "start_time": "2020-08-28T10:14:31.563866",
     "status": "completed"
    },
    "tags": []
   },
   "outputs": [],
   "source": [
    "model_new = Model(layers[:-2])"
   ]
  },
  {
   "cell_type": "code",
   "execution_count": 26,
   "metadata": {
    "execution": {
     "iopub.execute_input": "2020-08-28T10:14:31.728197Z",
     "iopub.status.busy": "2020-08-28T10:14:31.726637Z",
     "iopub.status.idle": "2020-08-28T10:14:31.744613Z",
     "shell.execute_reply": "2020-08-28T10:14:31.745089Z"
    },
    "papermill": {
     "duration": 0.072151,
     "end_time": "2020-08-28T10:14:31.745243",
     "exception": false,
     "start_time": "2020-08-28T10:14:31.673092",
     "status": "completed"
    },
    "tags": []
   },
   "outputs": [],
   "source": [
    "plot_testing = model_new(testing_xdata)"
   ]
  },
  {
   "cell_type": "markdown",
   "metadata": {
    "papermill": {
     "duration": 0.046009,
     "end_time": "2020-08-28T10:14:31.837329",
     "exception": false,
     "start_time": "2020-08-28T10:14:31.791320",
     "status": "completed"
    },
    "tags": []
   },
   "source": [
    "##### Plotting the scatter plot of points and color coding by class"
   ]
  },
  {
   "cell_type": "code",
   "execution_count": 27,
   "metadata": {
    "execution": {
     "iopub.execute_input": "2020-08-28T10:14:31.938208Z",
     "iopub.status.busy": "2020-08-28T10:14:31.937460Z",
     "iopub.status.idle": "2020-08-28T10:14:32.159626Z",
     "shell.execute_reply": "2020-08-28T10:14:32.160116Z"
    },
    "papermill": {
     "duration": 0.278212,
     "end_time": "2020-08-28T10:14:32.160270",
     "exception": false,
     "start_time": "2020-08-28T10:14:31.882058",
     "status": "completed"
    },
    "tags": []
   },
   "outputs": [
    {
     "data": {
      "image/png": "[encoded data removed]",
      "text/plain": [
       "<Figure size 576x504 with 1 Axes>"
      ]
     },
     "metadata": {
      "needs_background": "light"
     },
     "output_type": "display_data"
    }
   ],
   "source": [
    "plt.figure(figsize=(8,7))\n",
    "plt.scatter(plot_testing[:,0], plot_testing[:,1], alpha = 0.1, c = y_test.ravel());"
   ]
  },
  {
   "cell_type": "markdown",
   "metadata": {
    "papermill": {
     "duration": 0.04759,
     "end_time": "2020-08-28T10:14:32.285129",
     "exception": false,
     "start_time": "2020-08-28T10:14:32.237539",
     "status": "completed"
    },
    "tags": []
   },
   "source": [
    "##### Plotting probability contours"
   ]
  },
  {
   "cell_type": "code",
   "execution_count": 28,
   "metadata": {
    "execution": {
     "iopub.execute_input": "2020-08-28T10:14:32.389086Z",
     "iopub.status.busy": "2020-08-28T10:14:32.388485Z",
     "iopub.status.idle": "2020-08-28T10:14:32.401565Z",
     "shell.execute_reply": "2020-08-28T10:14:32.401073Z"
    },
    "papermill": {
     "duration": 0.064801,
     "end_time": "2020-08-28T10:14:32.401721",
     "exception": false,
     "start_time": "2020-08-28T10:14:32.336920",
     "status": "completed"
    },
    "tags": []
   },
   "outputs": [],
   "source": [
    "model_prob = Model(layers[-2:]) ## picking only last two layers to get probability. That is affine followed by sigmoid"
   ]
  },
  {
   "cell_type": "code",
   "execution_count": 29,
   "metadata": {
    "execution": {
     "iopub.execute_input": "2020-08-28T10:14:32.502722Z",
     "iopub.status.busy": "2020-08-28T10:14:32.502105Z",
     "iopub.status.idle": "2020-08-28T10:14:32.514971Z",
     "shell.execute_reply": "2020-08-28T10:14:32.515405Z"
    },
    "papermill": {
     "duration": 0.066423,
     "end_time": "2020-08-28T10:14:32.515555",
     "exception": false,
     "start_time": "2020-08-28T10:14:32.449132",
     "status": "completed"
    },
    "tags": []
   },
   "outputs": [],
   "source": [
    "xgrid = np.linspace(-4, 1, 100) ## Adjust these values based on above chart, roughly -4 to 1\n",
    "ygrid = np.linspace(-7.5, 7.5, 100) ## Adjust these values based on above chart, roughly -7.5, 7.5\n",
    "xg, yg = np.meshgrid(xgrid, ygrid)\n",
    "# xg and yg are now both 100X100, lets convert them to single arrays \n",
    "\n",
    "xg_interim = np.ravel(xg)\n",
    "yg_interim = np.ravel(yg)\n",
    "\n",
    "## xg_interim, yg_interim are now arrays of len 10000, now we will stack them and then transpose to get desired shape of n rows, 2 columns\n",
    "\n",
    "X_interim = np.vstack((xg_interim, yg_interim)) ## Please note vstack takes in a tuple\n",
    "X = X_interim.T\n",
    "\n",
    "## We want a shape of n rows and 2 columns to be able to feed this to last affine\n",
    "## This last affine takes only two columns, hence the above transformation\n",
    "probability_contour = model_prob(X).reshape(100,100) ## to make it consistent with xg, yg"
   ]
  },
  {
   "cell_type": "code",
   "execution_count": 30,
   "metadata": {
    "execution": {
     "iopub.execute_input": "2020-08-28T10:14:32.626520Z",
     "iopub.status.busy": "2020-08-28T10:14:32.625751Z",
     "iopub.status.idle": "2020-08-28T10:14:32.863525Z",
     "shell.execute_reply": "2020-08-28T10:14:32.864071Z"
    },
    "papermill": {
     "duration": 0.29715,
     "end_time": "2020-08-28T10:14:32.864261",
     "exception": false,
     "start_time": "2020-08-28T10:14:32.567111",
     "status": "completed"
    },
    "tags": []
   },
   "outputs": [
    {
     "data": {
      "image/png": "[encoded data removed]",
      "text/plain": [
       "<Figure size 576x504 with 1 Axes>"
      ]
     },
     "metadata": {
      "needs_background": "light"
     },
     "output_type": "display_data"
    }
   ],
   "source": [
    "plt.figure(figsize=(8,7))\n",
    "plt.scatter(plot_testing[:,0], plot_testing[:,1], alpha = 0.1, c = y_test.ravel())\n",
    "contours = plt.contour(xg,yg,probability_contour)\n",
    "plt.clabel(contours, inline = True );"
   ]
  }
 ],
 "metadata": {
  "kernelspec": {
   "display_name": "Python 3",
   "language": "python",
   "name": "python3"
  },
  "language_info": {
   "codemirror_mode": {
    "name": "ipython",
    "version": 3
   },
   "file_extension": ".py",
   "mimetype": "text/x-python",
   "name": "python",
   "nbconvert_exporter": "python",
   "pygments_lexer": "ipython3",
   "version": "3.6.11"
  },
  "papermill": {
   "duration": 108.367387,
   "end_time": "2020-08-28T10:14:34.112967",
   "environment_variables": {},
   "exception": null,
   "input_path": "2020-08-07-NN-new.ipynb",
   "output_path": "2020-08-07-NN-new.ipynb",
   "parameters": {},
   "start_time": "2020-08-28T10:12:45.745580",
   "version": "2.1.2"
  }
 },
 "nbformat": 4,
 "nbformat_minor": 4
}