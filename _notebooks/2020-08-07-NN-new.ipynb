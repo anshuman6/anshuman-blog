{
 "cells": [
  {
   "cell_type": "markdown",
   "metadata": {
    "papermill": {
     "duration": 0.028096,
     "end_time": "2020-08-21T20:13:04.872703",
     "exception": false,
     "start_time": "2020-08-21T20:13:04.844607",
     "status": "completed"
    },
    "tags": []
   },
   "source": [
    "# \"Building a basic Neural Network from scratch - Kudzu\"\n",
    "\n",
    "- badges: true\n",
    "- author: Anshuman Gupta"
   ]
  },
  {
   "cell_type": "markdown",
   "metadata": {
    "papermill": {
     "duration": 0.025004,
     "end_time": "2020-08-21T20:13:04.922569",
     "exception": false,
     "start_time": "2020-08-21T20:13:04.897565",
     "status": "completed"
    },
    "tags": []
   },
   "source": [
    "#### In this project, the idea is to write a classifier to differentiate between handwritten digits 3 and 8, from the MNIST database.\n",
    "\n",
    "#### I will using a custom built neural network library called Kudzu.This has been developed as a part of KTF/Foundations course of Univ.ai (www.univ.ai). The source code for Kudzu Library and and this notebook can be found on my git-hub profile : www.https://github.com/anshuman6 under the folder project-solution. Any feedback and comments are welcome. Please feel free to email me at: anshuman6@gmail.com\n",
    "\n",
    "#### 1. I will be using the MNIST database. \n",
    "\n",
    "#### 2. I will be comparing the results of the 4 layer NN to a standard logistic regression"
   ]
  },
  {
   "cell_type": "markdown",
   "metadata": {
    "papermill": {
     "duration": 0.024023,
     "end_time": "2020-08-21T20:13:04.971052",
     "exception": false,
     "start_time": "2020-08-21T20:13:04.947029",
     "status": "completed"
    },
    "tags": []
   },
   "source": [
    "##### Importing all the necessary libraries"
   ]
  },
  {
   "cell_type": "code",
   "execution_count": 1,
   "metadata": {
    "execution": {
     "iopub.execute_input": "2020-08-21T20:13:05.032552Z",
     "iopub.status.busy": "2020-08-21T20:13:05.031995Z",
     "iopub.status.idle": "2020-08-21T20:13:05.041645Z",
     "shell.execute_reply": "2020-08-21T20:13:05.042158Z"
    },
    "papermill": {
     "duration": 0.042534,
     "end_time": "2020-08-21T20:13:05.042294",
     "exception": false,
     "start_time": "2020-08-21T20:13:04.999760",
     "status": "completed"
    },
    "tags": []
   },
   "outputs": [],
   "source": [
    "%load_ext autoreload\n",
    "%autoreload 2"
   ]
  },
  {
   "cell_type": "code",
   "execution_count": 2,
   "metadata": {
    "execution": {
     "iopub.execute_input": "2020-08-21T20:13:05.098719Z",
     "iopub.status.busy": "2020-08-21T20:13:05.098100Z",
     "iopub.status.idle": "2020-08-21T20:13:05.588256Z",
     "shell.execute_reply": "2020-08-21T20:13:05.588669Z"
    },
    "papermill": {
     "duration": 0.519958,
     "end_time": "2020-08-21T20:13:05.588815",
     "exception": false,
     "start_time": "2020-08-21T20:13:05.068857",
     "status": "completed"
    },
    "tags": []
   },
   "outputs": [],
   "source": [
    "%matplotlib inline\n",
    "import numpy as np\n",
    "import matplotlib.pyplot as plt\n",
    "import pandas as pd"
   ]
  },
  {
   "cell_type": "markdown",
   "metadata": {
    "papermill": {
     "duration": 0.024461,
     "end_time": "2020-08-21T20:13:05.638785",
     "exception": false,
     "start_time": "2020-08-21T20:13:05.614324",
     "status": "completed"
    },
    "tags": []
   },
   "source": [
    "##### The following command helps us download MNIST from notebook itself. You can skip this if you already have MNIST. You can also download it via your terminal."
   ]
  },
  {
   "cell_type": "code",
   "execution_count": 3,
   "metadata": {
    "execution": {
     "iopub.execute_input": "2020-08-21T20:13:05.691351Z",
     "iopub.status.busy": "2020-08-21T20:13:05.690730Z",
     "iopub.status.idle": "2020-08-21T20:13:07.009195Z",
     "shell.execute_reply": "2020-08-21T20:13:07.008689Z"
    },
    "papermill": {
     "duration": 1.345881,
     "end_time": "2020-08-21T20:13:07.009317",
     "exception": false,
     "start_time": "2020-08-21T20:13:05.663436",
     "status": "completed"
    },
    "tags": []
   },
   "outputs": [
    {
     "name": "stdout",
     "output_type": "stream",
     "text": [
      "Collecting mnist\r\n"
     ]
    },
    {
     "name": "stdout",
     "output_type": "stream",
     "text": [
      "  Downloading mnist-0.2.2-py2.py3-none-any.whl (3.5 kB)\r\n"
     ]
    },
    {
     "name": "stdout",
     "output_type": "stream",
     "text": [
      "Requirement already satisfied: numpy in /opt/hostedtoolcache/Python/3.6.11/x64/lib/python3.6/site-packages (from mnist) (1.19.1)\r\n"
     ]
    },
    {
     "name": "stdout",
     "output_type": "stream",
     "text": [
      "Installing collected packages: mnist\r\n",
      "Successfully installed mnist-0.2.2\r\n"
     ]
    }
   ],
   "source": [
    "!pip install mnist # Please note, it is commented out for now, you can remove comment if you want to install it"
   ]
  },
  {
   "cell_type": "markdown",
   "metadata": {
    "papermill": {
     "duration": 0.030203,
     "end_time": "2020-08-21T20:13:07.064950",
     "exception": false,
     "start_time": "2020-08-21T20:13:07.034747",
     "status": "completed"
    },
    "tags": []
   },
   "source": [
    "#### Preparing the Data"
   ]
  },
  {
   "cell_type": "code",
   "execution_count": 4,
   "metadata": {
    "execution": {
     "iopub.execute_input": "2020-08-21T20:13:07.121805Z",
     "iopub.status.busy": "2020-08-21T20:13:07.121138Z",
     "iopub.status.idle": "2020-08-21T20:13:07.135740Z",
     "shell.execute_reply": "2020-08-21T20:13:07.135105Z"
    },
    "papermill": {
     "duration": 0.043883,
     "end_time": "2020-08-21T20:13:07.135855",
     "exception": false,
     "start_time": "2020-08-21T20:13:07.091972",
     "status": "completed"
    },
    "tags": []
   },
   "outputs": [],
   "source": [
    "import mnist"
   ]
  },
  {
   "cell_type": "code",
   "execution_count": 5,
   "metadata": {
    "execution": {
     "iopub.execute_input": "2020-08-21T20:13:07.198460Z",
     "iopub.status.busy": "2020-08-21T20:13:07.191487Z",
     "iopub.status.idle": "2020-08-21T20:13:07.915373Z",
     "shell.execute_reply": "2020-08-21T20:13:07.914412Z"
    },
    "papermill": {
     "duration": 0.753269,
     "end_time": "2020-08-21T20:13:07.915498",
     "exception": false,
     "start_time": "2020-08-21T20:13:07.162229",
     "status": "completed"
    },
    "tags": []
   },
   "outputs": [],
   "source": [
    "train_images = mnist.train_images()\n",
    "train_labels = mnist.train_labels()"
   ]
  },
  {
   "cell_type": "code",
   "execution_count": 6,
   "metadata": {
    "execution": {
     "iopub.execute_input": "2020-08-21T20:13:07.969957Z",
     "iopub.status.busy": "2020-08-21T20:13:07.969300Z",
     "iopub.status.idle": "2020-08-21T20:13:07.982584Z",
     "shell.execute_reply": "2020-08-21T20:13:07.982168Z"
    },
    "papermill": {
     "duration": 0.042325,
     "end_time": "2020-08-21T20:13:07.982694",
     "exception": false,
     "start_time": "2020-08-21T20:13:07.940369",
     "status": "completed"
    },
    "tags": []
   },
   "outputs": [
    {
     "data": {
      "text/plain": [
       "((60000, 28, 28), (60000,))"
      ]
     },
     "execution_count": 6,
     "metadata": {},
     "output_type": "execute_result"
    }
   ],
   "source": [
    "train_images.shape, train_labels.shape"
   ]
  },
  {
   "cell_type": "code",
   "execution_count": 7,
   "metadata": {
    "execution": {
     "iopub.execute_input": "2020-08-21T20:13:08.041787Z",
     "iopub.status.busy": "2020-08-21T20:13:08.041258Z",
     "iopub.status.idle": "2020-08-21T20:13:08.312073Z",
     "shell.execute_reply": "2020-08-21T20:13:08.312888Z"
    },
    "papermill": {
     "duration": 0.299847,
     "end_time": "2020-08-21T20:13:08.313073",
     "exception": false,
     "start_time": "2020-08-21T20:13:08.013226",
     "status": "completed"
    },
    "tags": []
   },
   "outputs": [],
   "source": [
    "test_images = mnist.test_images()\n",
    "test_labels = mnist.test_labels()"
   ]
  },
  {
   "cell_type": "code",
   "execution_count": 8,
   "metadata": {
    "execution": {
     "iopub.execute_input": "2020-08-21T20:13:08.374987Z",
     "iopub.status.busy": "2020-08-21T20:13:08.366801Z",
     "iopub.status.idle": "2020-08-21T20:13:08.378908Z",
     "shell.execute_reply": "2020-08-21T20:13:08.378338Z"
    },
    "papermill": {
     "duration": 0.040085,
     "end_time": "2020-08-21T20:13:08.379069",
     "exception": false,
     "start_time": "2020-08-21T20:13:08.338984",
     "status": "completed"
    },
    "tags": []
   },
   "outputs": [
    {
     "data": {
      "text/plain": [
       "((10000, 28, 28), (10000,))"
      ]
     },
     "execution_count": 8,
     "metadata": {},
     "output_type": "execute_result"
    }
   ],
   "source": [
    "test_images.shape, test_labels.shape"
   ]
  },
  {
   "cell_type": "code",
   "execution_count": 9,
   "metadata": {
    "execution": {
     "iopub.execute_input": "2020-08-21T20:13:08.436652Z",
     "iopub.status.busy": "2020-08-21T20:13:08.436082Z",
     "iopub.status.idle": "2020-08-21T20:13:08.601808Z",
     "shell.execute_reply": "2020-08-21T20:13:08.602500Z"
    },
    "papermill": {
     "duration": 0.195023,
     "end_time": "2020-08-21T20:13:08.602643",
     "exception": false,
     "start_time": "2020-08-21T20:13:08.407620",
     "status": "completed"
    },
    "tags": []
   },
   "outputs": [
    {
     "name": "stdout",
     "output_type": "stream",
     "text": [
      "2\n"
     ]
    },
    {
     "data": {
      "text/plain": [
       "<matplotlib.image.AxesImage at 0x7f6ced40e860>"
      ]
     },
     "execution_count": 9,
     "metadata": {},
     "output_type": "execute_result"
    },
    {
     "data": {
      "image/png": "[encoded data removed]",
      "text/plain": [
       "<Figure size 432x288 with 1 Axes>"
      ]
     },
     "metadata": {
      "needs_background": "light"
     },
     "output_type": "display_data"
    }
   ],
   "source": [
    "image_index = 7776 # You may select anything up to 60,000\n",
    "print(train_labels[image_index]) \n",
    "plt.imshow(train_images[image_index], cmap='Greys')"
   ]
  },
  {
   "cell_type": "markdown",
   "metadata": {
    "papermill": {
     "duration": 0.025848,
     "end_time": "2020-08-21T20:13:08.654821",
     "exception": false,
     "start_time": "2020-08-21T20:13:08.628973",
     "status": "completed"
    },
    "tags": []
   },
   "source": [
    "## Filter data to get 3 and 8 out"
   ]
  },
  {
   "cell_type": "code",
   "execution_count": 10,
   "metadata": {
    "execution": {
     "iopub.execute_input": "2020-08-21T20:13:08.712506Z",
     "iopub.status.busy": "2020-08-21T20:13:08.711942Z",
     "iopub.status.idle": "2020-08-21T20:13:08.729132Z",
     "shell.execute_reply": "2020-08-21T20:13:08.728706Z"
    },
    "papermill": {
     "duration": 0.048504,
     "end_time": "2020-08-21T20:13:08.729247",
     "exception": false,
     "start_time": "2020-08-21T20:13:08.680743",
     "status": "completed"
    },
    "tags": []
   },
   "outputs": [],
   "source": [
    "train_filter = np.where((train_labels == 3 ) | (train_labels == 8))\n",
    "test_filter = np.where((test_labels == 3) | (test_labels == 8))\n",
    "X_train, y_train = train_images[train_filter], train_labels[train_filter]\n",
    "X_test, y_test = test_images[test_filter], test_labels[test_filter]"
   ]
  },
  {
   "cell_type": "markdown",
   "metadata": {
    "papermill": {
     "duration": 0.027333,
     "end_time": "2020-08-21T20:13:08.782568",
     "exception": false,
     "start_time": "2020-08-21T20:13:08.755235",
     "status": "completed"
    },
    "tags": []
   },
   "source": [
    "##### We normalize the pizel values in the 0 to 1 range"
   ]
  },
  {
   "cell_type": "code",
   "execution_count": 11,
   "metadata": {
    "execution": {
     "iopub.execute_input": "2020-08-21T20:13:08.839588Z",
     "iopub.status.busy": "2020-08-21T20:13:08.839056Z",
     "iopub.status.idle": "2020-08-21T20:13:08.895803Z",
     "shell.execute_reply": "2020-08-21T20:13:08.896255Z"
    },
    "papermill": {
     "duration": 0.086722,
     "end_time": "2020-08-21T20:13:08.896409",
     "exception": false,
     "start_time": "2020-08-21T20:13:08.809687",
     "status": "completed"
    },
    "tags": []
   },
   "outputs": [],
   "source": [
    "X_train = X_train/255.\n",
    "X_test = X_test/255."
   ]
  },
  {
   "cell_type": "markdown",
   "metadata": {
    "papermill": {
     "duration": 0.027112,
     "end_time": "2020-08-21T20:13:08.951502",
     "exception": false,
     "start_time": "2020-08-21T20:13:08.924390",
     "status": "completed"
    },
    "tags": []
   },
   "source": [
    "And setup the labels as 1 (when the digit is 3) and 0 (when the digit is 8)"
   ]
  },
  {
   "cell_type": "code",
   "execution_count": 12,
   "metadata": {
    "execution": {
     "iopub.execute_input": "2020-08-21T20:13:09.006853Z",
     "iopub.status.busy": "2020-08-21T20:13:09.006293Z",
     "iopub.status.idle": "2020-08-21T20:13:09.016859Z",
     "shell.execute_reply": "2020-08-21T20:13:09.016420Z"
    },
    "papermill": {
     "duration": 0.039028,
     "end_time": "2020-08-21T20:13:09.017025",
     "exception": false,
     "start_time": "2020-08-21T20:13:08.977997",
     "status": "completed"
    },
    "tags": []
   },
   "outputs": [],
   "source": [
    "y_train = 1*(y_train==3)\n",
    "y_test = 1*(y_test==3)"
   ]
  },
  {
   "cell_type": "code",
   "execution_count": 13,
   "metadata": {
    "execution": {
     "iopub.execute_input": "2020-08-21T20:13:09.076099Z",
     "iopub.status.busy": "2020-08-21T20:13:09.075475Z",
     "iopub.status.idle": "2020-08-21T20:13:09.087374Z",
     "shell.execute_reply": "2020-08-21T20:13:09.086941Z"
    },
    "papermill": {
     "duration": 0.0443,
     "end_time": "2020-08-21T20:13:09.087475",
     "exception": false,
     "start_time": "2020-08-21T20:13:09.043175",
     "status": "completed"
    },
    "tags": []
   },
   "outputs": [
    {
     "data": {
      "text/plain": [
       "((11982, 28, 28), (1984, 28, 28))"
      ]
     },
     "execution_count": 13,
     "metadata": {},
     "output_type": "execute_result"
    }
   ],
   "source": [
    "X_train.shape, X_test.shape"
   ]
  },
  {
   "cell_type": "markdown",
   "metadata": {
    "papermill": {
     "duration": 0.026737,
     "end_time": "2020-08-21T20:13:09.143717",
     "exception": false,
     "start_time": "2020-08-21T20:13:09.116980",
     "status": "completed"
    },
    "tags": []
   },
   "source": [
    "##### We reshape the data to flatten the image pixels into a set of features or co-variates:"
   ]
  },
  {
   "cell_type": "code",
   "execution_count": 14,
   "metadata": {
    "execution": {
     "iopub.execute_input": "2020-08-21T20:13:09.202742Z",
     "iopub.status.busy": "2020-08-21T20:13:09.202214Z",
     "iopub.status.idle": "2020-08-21T20:13:09.214350Z",
     "shell.execute_reply": "2020-08-21T20:13:09.214843Z"
    },
    "papermill": {
     "duration": 0.042567,
     "end_time": "2020-08-21T20:13:09.214994",
     "exception": false,
     "start_time": "2020-08-21T20:13:09.172427",
     "status": "completed"
    },
    "tags": []
   },
   "outputs": [
    {
     "data": {
      "text/plain": [
       "((11982, 784), (1984, 784))"
      ]
     },
     "execution_count": 14,
     "metadata": {},
     "output_type": "execute_result"
    }
   ],
   "source": [
    "X_train = X_train.reshape(X_train.shape[0], -1)\n",
    "X_test = X_test.reshape(X_test.shape[0], -1)\n",
    "X_train.shape, X_test.shape"
   ]
  },
  {
   "cell_type": "markdown",
   "metadata": {
    "papermill": {
     "duration": 0.030636,
     "end_time": "2020-08-21T20:13:09.277053",
     "exception": false,
     "start_time": "2020-08-21T20:13:09.246417",
     "status": "completed"
    },
    "tags": []
   },
   "source": [
    "##### Importing Kudzu library and its functionality"
   ]
  },
  {
   "cell_type": "code",
   "execution_count": 15,
   "metadata": {
    "execution": {
     "iopub.execute_input": "2020-08-21T20:13:09.339345Z",
     "iopub.status.busy": "2020-08-21T20:13:09.338792Z",
     "iopub.status.idle": "2020-08-21T20:13:09.355857Z",
     "shell.execute_reply": "2020-08-21T20:13:09.355258Z"
    },
    "papermill": {
     "duration": 0.048106,
     "end_time": "2020-08-21T20:13:09.355973",
     "exception": false,
     "start_time": "2020-08-21T20:13:09.307867",
     "status": "completed"
    },
    "tags": []
   },
   "outputs": [],
   "source": [
    "from kudzu.data import Data, Dataloader, Sampler\n",
    "from kudzu.callbacks import AccCallback\n",
    "from kudzu.loss import MSE\n",
    "from kudzu.layer import Affine, Sigmoid\n",
    "from kudzu.model import Model\n",
    "from kudzu.optim import GD\n",
    "from kudzu.train import Learner\n",
    "from kudzu.callbacks import ClfCallback\n",
    "from kudzu.layer import Sigmoid\n",
    "from kudzu.layer import Relu"
   ]
  },
  {
   "cell_type": "markdown",
   "metadata": {
    "papermill": {
     "duration": 0.027527,
     "end_time": "2020-08-21T20:13:09.412191",
     "exception": false,
     "start_time": "2020-08-21T20:13:09.384664",
     "status": "completed"
    },
    "tags": []
   },
   "source": [
    "##### We are creating a class, just so that we can use it to store our parameters for us"
   ]
  },
  {
   "cell_type": "code",
   "execution_count": 16,
   "metadata": {
    "execution": {
     "iopub.execute_input": "2020-08-21T20:13:09.470880Z",
     "iopub.status.busy": "2020-08-21T20:13:09.470138Z",
     "iopub.status.idle": "2020-08-21T20:13:09.482075Z",
     "shell.execute_reply": "2020-08-21T20:13:09.482610Z"
    },
    "papermill": {
     "duration": 0.042688,
     "end_time": "2020-08-21T20:13:09.482738",
     "exception": false,
     "start_time": "2020-08-21T20:13:09.440050",
     "status": "completed"
    },
    "tags": []
   },
   "outputs": [],
   "source": [
    "class Config:\n",
    "    pass\n",
    "config = Config()\n",
    "config.lr = 0.001\n",
    "config.num_epochs = 250\n",
    "config.bs = 50"
   ]
  },
  {
   "cell_type": "markdown",
   "metadata": {
    "papermill": {
     "duration": 0.031293,
     "end_time": "2020-08-21T20:13:09.547282",
     "exception": false,
     "start_time": "2020-08-21T20:13:09.515989",
     "status": "completed"
    },
    "tags": []
   },
   "source": [
    "##### Initializing Data"
   ]
  },
  {
   "cell_type": "code",
   "execution_count": 17,
   "metadata": {
    "execution": {
     "iopub.execute_input": "2020-08-21T20:13:09.616977Z",
     "iopub.status.busy": "2020-08-21T20:13:09.616314Z",
     "iopub.status.idle": "2020-08-21T20:13:09.628277Z",
     "shell.execute_reply": "2020-08-21T20:13:09.627780Z"
    },
    "papermill": {
     "duration": 0.051462,
     "end_time": "2020-08-21T20:13:09.628411",
     "exception": false,
     "start_time": "2020-08-21T20:13:09.576949",
     "status": "completed"
    },
    "tags": []
   },
   "outputs": [],
   "source": [
    "data = Data(X_train, y_train.reshape(-1,1))\n",
    "loss = MSE()\n",
    "opt = GD(config.lr)\n",
    "sampler = Sampler(data, config.bs, shuffle=True)\n",
    "dl = Dataloader(data, sampler)"
   ]
  },
  {
   "cell_type": "markdown",
   "metadata": {
    "papermill": {
     "duration": 0.027473,
     "end_time": "2020-08-21T20:13:09.685184",
     "exception": false,
     "start_time": "2020-08-21T20:13:09.657711",
     "status": "completed"
    },
    "tags": []
   },
   "source": [
    "##### Constructing 2 different layers, one for NN and one only for logistic regression."
   ]
  },
  {
   "cell_type": "markdown",
   "metadata": {
    "papermill": {
     "duration": 0.026539,
     "end_time": "2020-08-21T20:13:09.739326",
     "exception": false,
     "start_time": "2020-08-21T20:13:09.712787",
     "status": "completed"
    },
    "tags": []
   },
   "source": [
    "##### Creating containers for data to be passed, to calculate accuracies"
   ]
  },
  {
   "cell_type": "code",
   "execution_count": 18,
   "metadata": {
    "execution": {
     "iopub.execute_input": "2020-08-21T20:13:09.797377Z",
     "iopub.status.busy": "2020-08-21T20:13:09.796744Z",
     "iopub.status.idle": "2020-08-21T20:13:09.810031Z",
     "shell.execute_reply": "2020-08-21T20:13:09.810512Z"
    },
    "papermill": {
     "duration": 0.042798,
     "end_time": "2020-08-21T20:13:09.810638",
     "exception": false,
     "start_time": "2020-08-21T20:13:09.767840",
     "status": "completed"
    },
    "tags": []
   },
   "outputs": [],
   "source": [
    "training_xdata = X_train\n",
    "testing_xdata = X_test\n",
    "training_ydata = y_train.reshape(-1,1)\n",
    "testing_ydata = y_test.reshape(-1,1)"
   ]
  },
  {
   "cell_type": "markdown",
   "metadata": {
    "papermill": {
     "duration": 0.029658,
     "end_time": "2020-08-21T20:13:09.870149",
     "exception": false,
     "start_time": "2020-08-21T20:13:09.840491",
     "status": "completed"
    },
    "tags": []
   },
   "source": [
    "##### Initializing models and Running training loop: "
   ]
  },
  {
   "cell_type": "code",
   "execution_count": 19,
   "metadata": {
    "execution": {
     "iopub.execute_input": "2020-08-21T20:13:09.928888Z",
     "iopub.status.busy": "2020-08-21T20:13:09.928283Z",
     "iopub.status.idle": "2020-08-21T20:13:09.942877Z",
     "shell.execute_reply": "2020-08-21T20:13:09.943311Z"
    },
    "papermill": {
     "duration": 0.045281,
     "end_time": "2020-08-21T20:13:09.943429",
     "exception": false,
     "start_time": "2020-08-21T20:13:09.898148",
     "status": "completed"
    },
    "tags": []
   },
   "outputs": [],
   "source": [
    "layers = [Affine(\"first\", 784, 100), Relu(\"first\"), Affine(\"second\", 100, 100), Relu(\"second\"), Affine(\"third\", 100, 2), Affine(\"final\", 2, 1), Sigmoid(\"final\")]\n",
    "\n",
    "model_neural = Model(layers)\n",
    "model_logistic = Model([Affine(\"logits\", 784, 1), Sigmoid(\"sigmoid\")])"
   ]
  },
  {
   "cell_type": "code",
   "execution_count": 20,
   "metadata": {
    "execution": {
     "iopub.execute_input": "2020-08-21T20:13:10.002160Z",
     "iopub.status.busy": "2020-08-21T20:13:10.001546Z",
     "iopub.status.idle": "2020-08-21T20:13:10.011668Z",
     "shell.execute_reply": "2020-08-21T20:13:10.012161Z"
    },
    "papermill": {
     "duration": 0.041431,
     "end_time": "2020-08-21T20:13:10.012279",
     "exception": false,
     "start_time": "2020-08-21T20:13:09.970848",
     "status": "completed"
    },
    "tags": []
   },
   "outputs": [],
   "source": [
    "learner1 = Learner(loss, model_neural, opt, config.num_epochs)\n",
    "acc1 = ClfCallback(learner1, config.bs, training_xdata , testing_xdata, training_ydata, testing_ydata)\n",
    "learner1.set_callbacks([acc1])"
   ]
  },
  {
   "cell_type": "code",
   "execution_count": 21,
   "metadata": {
    "execution": {
     "iopub.execute_input": "2020-08-21T20:13:10.070769Z",
     "iopub.status.busy": "2020-08-21T20:13:10.070218Z",
     "iopub.status.idle": "2020-08-21T20:15:19.012176Z",
     "shell.execute_reply": "2020-08-21T20:15:19.012908Z"
    },
    "papermill": {
     "duration": 128.973877,
     "end_time": "2020-08-21T20:15:19.013057",
     "exception": false,
     "start_time": "2020-08-21T20:13:10.039180",
     "status": "completed"
    },
    "tags": []
   },
   "outputs": [
    {
     "name": "stdout",
     "output_type": "stream",
     "text": [
      "Epoch 0 Loss 0.20465077109517296\n",
      "train accuracy is: 0.8030378901685862, test accuracy is 0.8099798387096774\n"
     ]
    },
    {
     "name": "stdout",
     "output_type": "stream",
     "text": [
      "Epoch 10 Loss 0.05359099350340652\n",
      "train accuracy is: 0.9441662493740611, test accuracy is 0.9566532258064516\n"
     ]
    },
    {
     "name": "stdout",
     "output_type": "stream",
     "text": [
      "Epoch 20 Loss 0.03910202710381409\n",
      "train accuracy is: 0.956518110499082, test accuracy is 0.9647177419354839\n"
     ]
    },
    {
     "name": "stdout",
     "output_type": "stream",
     "text": [
      "Epoch 30 Loss 0.03327121822219422\n",
      "train accuracy is: 0.9620263728926723, test accuracy is 0.969758064516129\n"
     ]
    },
    {
     "name": "stdout",
     "output_type": "stream",
     "text": [
      "Epoch 40 Loss 0.029841609440700186\n",
      "train accuracy is: 0.9654481722583875, test accuracy is 0.9717741935483871\n"
     ]
    },
    {
     "name": "stdout",
     "output_type": "stream",
     "text": [
      "Epoch 50 Loss 0.027434575957502653\n",
      "train accuracy is: 0.9680353864129527, test accuracy is 0.9722782258064516\n"
     ]
    },
    {
     "name": "stdout",
     "output_type": "stream",
     "text": [
      "Epoch 60 Loss 0.025554341821661598\n",
      "train accuracy is: 0.9697880153563679, test accuracy is 0.9732862903225806\n"
     ]
    },
    {
     "name": "stdout",
     "output_type": "stream",
     "text": [
      "Epoch 70 Loss 0.024034620651434534\n",
      "train accuracy is: 0.971290268736438, test accuracy is 0.9742943548387096\n"
     ]
    },
    {
     "name": "stdout",
     "output_type": "stream",
     "text": [
      "Epoch 80 Loss 0.022729096756968464\n",
      "train accuracy is: 0.9730428976798531, test accuracy is 0.9747983870967742\n"
     ]
    },
    {
     "name": "stdout",
     "output_type": "stream",
     "text": [
      "Epoch 90 Loss 0.021623328520181877\n",
      "train accuracy is: 0.9742113169754631, test accuracy is 0.9747983870967742\n"
     ]
    },
    {
     "name": "stdout",
     "output_type": "stream",
     "text": [
      "Epoch 100 Loss 0.02062871740446197\n",
      "train accuracy is: 0.9757135703555333, test accuracy is 0.9763104838709677\n"
     ]
    },
    {
     "name": "stdout",
     "output_type": "stream",
     "text": [
      "Epoch 110 Loss 0.019679379234582253\n",
      "train accuracy is: 0.9769654481722584, test accuracy is 0.9753024193548387\n"
     ]
    },
    {
     "name": "stdout",
     "output_type": "stream",
     "text": [
      "Epoch 120 Loss 0.018885470821173932\n",
      "train accuracy is: 0.9783007845100985, test accuracy is 0.9758064516129032\n"
     ]
    },
    {
     "name": "stdout",
     "output_type": "stream",
     "text": [
      "Epoch 130 Loss 0.018110799498446285\n",
      "train accuracy is: 0.9796361208479386, test accuracy is 0.9753024193548387\n"
     ]
    },
    {
     "name": "stdout",
     "output_type": "stream",
     "text": [
      "Epoch 140 Loss 0.017397655408715497\n",
      "train accuracy is: 0.9805541645802036, test accuracy is 0.9778225806451613\n"
     ]
    },
    {
     "name": "stdout",
     "output_type": "stream",
     "text": [
      "Epoch 150 Loss 0.016732292595564986\n",
      "train accuracy is: 0.9815556668335838, test accuracy is 0.9778225806451613\n"
     ]
    },
    {
     "name": "stdout",
     "output_type": "stream",
     "text": [
      "Epoch 160 Loss 0.0161161579816259\n",
      "train accuracy is: 0.9827240861291938, test accuracy is 0.9783266129032258\n"
     ]
    },
    {
     "name": "stdout",
     "output_type": "stream",
     "text": [
      "Epoch 170 Loss 0.015529343993982495\n",
      "train accuracy is: 0.9833082957769989, test accuracy is 0.9793346774193549\n"
     ]
    },
    {
     "name": "stdout",
     "output_type": "stream",
     "text": [
      "Epoch 180 Loss 0.015001792521504298\n",
      "train accuracy is: 0.984727090635954, test accuracy is 0.9798387096774194\n"
     ]
    },
    {
     "name": "stdout",
     "output_type": "stream",
     "text": [
      "Epoch 190 Loss 0.014500377444252057\n",
      "train accuracy is: 0.9853947588048739, test accuracy is 0.9798387096774194\n"
     ]
    },
    {
     "name": "stdout",
     "output_type": "stream",
     "text": [
      "Epoch 200 Loss 0.014035926729857925\n",
      "train accuracy is: 0.9859789684526791, test accuracy is 0.9803427419354839\n"
     ]
    },
    {
     "name": "stdout",
     "output_type": "stream",
     "text": [
      "Epoch 210 Loss 0.013591759348777713\n",
      "train accuracy is: 0.986730095142714, test accuracy is 0.9818548387096774\n"
     ]
    },
    {
     "name": "stdout",
     "output_type": "stream",
     "text": [
      "Epoch 220 Loss 0.013179738843893092\n",
      "train accuracy is: 0.9871473877482891, test accuracy is 0.9818548387096774\n"
     ]
    },
    {
     "name": "stdout",
     "output_type": "stream",
     "text": [
      "Epoch 230 Loss 0.01278867830218508\n",
      "train accuracy is: 0.9875646803538641, test accuracy is 0.9818548387096774\n"
     ]
    },
    {
     "name": "stdout",
     "output_type": "stream",
     "text": [
      "Epoch 240 Loss 0.012415540054755782\n",
      "train accuracy is: 0.9878985144383241, test accuracy is 0.9818548387096774\n"
     ]
    },
    {
     "data": {
      "text/plain": [
       "0.02518523507261368"
      ]
     },
     "execution_count": 21,
     "metadata": {},
     "output_type": "execute_result"
    }
   ],
   "source": [
    "learner1.train_loop(dl)"
   ]
  },
  {
   "cell_type": "markdown",
   "metadata": {
    "papermill": {
     "duration": 0.03615,
     "end_time": "2020-08-21T20:15:19.083856",
     "exception": false,
     "start_time": "2020-08-21T20:15:19.047706",
     "status": "completed"
    },
    "tags": []
   },
   "source": [
    "##### Now running only the logistic regression based classification to compare results with NN"
   ]
  },
  {
   "cell_type": "code",
   "execution_count": 22,
   "metadata": {
    "execution": {
     "iopub.execute_input": "2020-08-21T20:15:19.155852Z",
     "iopub.status.busy": "2020-08-21T20:15:19.155334Z",
     "iopub.status.idle": "2020-08-21T20:15:19.167108Z",
     "shell.execute_reply": "2020-08-21T20:15:19.166607Z"
    },
    "papermill": {
     "duration": 0.049312,
     "end_time": "2020-08-21T20:15:19.167214",
     "exception": false,
     "start_time": "2020-08-21T20:15:19.117902",
     "status": "completed"
    },
    "tags": []
   },
   "outputs": [],
   "source": [
    "learner2 = Learner(loss, model_logistic, opt, config.num_epochs)\n",
    "acc2 = ClfCallback(learner2, config.bs, training_xdata , testing_xdata, training_ydata, testing_ydata)\n",
    "learner2.set_callbacks([acc2])"
   ]
  },
  {
   "cell_type": "code",
   "execution_count": 23,
   "metadata": {
    "execution": {
     "iopub.execute_input": "2020-08-21T20:15:19.240172Z",
     "iopub.status.busy": "2020-08-21T20:15:19.239462Z",
     "iopub.status.idle": "2020-08-21T20:15:38.283064Z",
     "shell.execute_reply": "2020-08-21T20:15:38.283732Z"
    },
    "papermill": {
     "duration": 19.081877,
     "end_time": "2020-08-21T20:15:38.283940",
     "exception": false,
     "start_time": "2020-08-21T20:15:19.202063",
     "status": "completed"
    },
    "tags": []
   },
   "outputs": [
    {
     "name": "stdout",
     "output_type": "stream",
     "text": [
      "Epoch 0 Loss 0.2542054236354336\n",
      "train accuracy is: 0.6338674678684694, test accuracy is 0.6522177419354839\n"
     ]
    },
    {
     "name": "stdout",
     "output_type": "stream",
     "text": [
      "Epoch 10 Loss 0.10712799314095352\n",
      "train accuracy is: 0.899766316140878, test accuracy is 0.9067540322580645\n"
     ]
    },
    {
     "name": "stdout",
     "output_type": "stream",
     "text": [
      "Epoch 20 Loss 0.08112391011752786\n",
      "train accuracy is: 0.9255549991654148, test accuracy is 0.9324596774193549\n"
     ]
    },
    {
     "name": "stdout",
     "output_type": "stream",
     "text": [
      "Epoch 30 Loss 0.06937829067390686\n",
      "train accuracy is: 0.9349023535302955, test accuracy is 0.9435483870967742\n"
     ]
    },
    {
     "name": "stdout",
     "output_type": "stream",
     "text": [
      "Epoch 40 Loss 0.06243112474423802\n",
      "train accuracy is: 0.9399933233183108, test accuracy is 0.9495967741935484\n"
     ]
    },
    {
     "name": "stdout",
     "output_type": "stream",
     "text": [
      "Epoch 50 Loss 0.057746262013525396\n",
      "train accuracy is: 0.942914371557336, test accuracy is 0.952116935483871\n"
     ]
    },
    {
     "name": "stdout",
     "output_type": "stream",
     "text": [
      "Epoch 60 Loss 0.05432880805287406\n",
      "train accuracy is: 0.9451677516274412, test accuracy is 0.9536290322580645\n"
     ]
    },
    {
     "name": "stdout",
     "output_type": "stream",
     "text": [
      "Epoch 70 Loss 0.051696700726083455\n",
      "train accuracy is: 0.9470872976130863, test accuracy is 0.9551411290322581\n"
     ]
    },
    {
     "name": "stdout",
     "output_type": "stream",
     "text": [
      "Epoch 80 Loss 0.049595906552828126\n",
      "train accuracy is: 0.9486730095142714, test accuracy is 0.9576612903225806\n"
     ]
    },
    {
     "name": "stdout",
     "output_type": "stream",
     "text": [
      "Epoch 90 Loss 0.04786712433511702\n",
      "train accuracy is: 0.9500083458521115, test accuracy is 0.9586693548387096\n"
     ]
    },
    {
     "name": "stdout",
     "output_type": "stream",
     "text": [
      "Epoch 100 Loss 0.046414002767727655\n",
      "train accuracy is: 0.9515105992321816, test accuracy is 0.9601814516129032\n"
     ]
    },
    {
     "name": "stdout",
     "output_type": "stream",
     "text": [
      "Epoch 110 Loss 0.04516971131260646\n",
      "train accuracy is: 0.9520948088799867, test accuracy is 0.9611895161290323\n"
     ]
    },
    {
     "name": "stdout",
     "output_type": "stream",
     "text": [
      "Epoch 120 Loss 0.04409011439847734\n",
      "train accuracy is: 0.9528459355700217, test accuracy is 0.9621975806451613\n"
     ]
    },
    {
     "name": "stdout",
     "output_type": "stream",
     "text": [
      "Epoch 130 Loss 0.04313972322521248\n",
      "train accuracy is: 0.9538474378234018, test accuracy is 0.9637096774193549\n"
     ]
    },
    {
     "name": "stdout",
     "output_type": "stream",
     "text": [
      "Epoch 140 Loss 0.042295356889887246\n",
      "train accuracy is: 0.9552662326823569, test accuracy is 0.9642137096774194\n"
     ]
    },
    {
     "name": "stdout",
     "output_type": "stream",
     "text": [
      "Epoch 150 Loss 0.04153836371250321\n",
      "train accuracy is: 0.9558504423301619, test accuracy is 0.9642137096774194\n"
     ]
    },
    {
     "name": "stdout",
     "output_type": "stream",
     "text": [
      "Epoch 160 Loss 0.04085440451285781\n",
      "train accuracy is: 0.9563511934568519, test accuracy is 0.9637096774193549\n"
     ]
    },
    {
     "name": "stdout",
     "output_type": "stream",
     "text": [
      "Epoch 170 Loss 0.040233212274920306\n",
      "train accuracy is: 0.956518110499082, test accuracy is 0.9642137096774194\n"
     ]
    },
    {
     "name": "stdout",
     "output_type": "stream",
     "text": [
      "Epoch 180 Loss 0.03966442406923945\n",
      "train accuracy is: 0.957185778668002, test accuracy is 0.9647177419354839\n"
     ]
    },
    {
     "name": "stdout",
     "output_type": "stream",
     "text": [
      "Epoch 190 Loss 0.039141112859234106\n",
      "train accuracy is: 0.957519612752462, test accuracy is 0.9652217741935484\n"
     ]
    },
    {
     "name": "stdout",
     "output_type": "stream",
     "text": [
      "Epoch 200 Loss 0.03865810165679368\n",
      "train accuracy is: 0.9579369053580371, test accuracy is 0.9652217741935484\n"
     ]
    },
    {
     "name": "stdout",
     "output_type": "stream",
     "text": [
      "Epoch 210 Loss 0.03820942371211542\n",
      "train accuracy is: 0.9589384076114171, test accuracy is 0.9652217741935484\n"
     ]
    },
    {
     "name": "stdout",
     "output_type": "stream",
     "text": [
      "Epoch 220 Loss 0.037792445417091834\n",
      "train accuracy is: 0.9595226172592222, test accuracy is 0.9657258064516129\n"
     ]
    },
    {
     "name": "stdout",
     "output_type": "stream",
     "text": [
      "Epoch 230 Loss 0.03740224403489078\n",
      "train accuracy is: 0.9597729928225672, test accuracy is 0.9662298387096774\n"
     ]
    },
    {
     "name": "stdout",
     "output_type": "stream",
     "text": [
      "Epoch 240 Loss 0.03703703045154731\n",
      "train accuracy is: 0.9602737439492572, test accuracy is 0.9662298387096774\n"
     ]
    },
    {
     "data": {
      "text/plain": [
       "0.026761267258821515"
      ]
     },
     "execution_count": 23,
     "metadata": {},
     "output_type": "execute_result"
    }
   ],
   "source": [
    "learner2.train_loop(dl)"
   ]
  },
  {
   "cell_type": "markdown",
   "metadata": {
    "papermill": {
     "duration": 0.0421,
     "end_time": "2020-08-21T20:15:38.372188",
     "exception": false,
     "start_time": "2020-08-21T20:15:38.330088",
     "status": "completed"
    },
    "tags": []
   },
   "source": [
    "### Comparing results of NN and LR"
   ]
  },
  {
   "cell_type": "code",
   "execution_count": 24,
   "metadata": {
    "execution": {
     "iopub.execute_input": "2020-08-21T20:15:38.465793Z",
     "iopub.status.busy": "2020-08-21T20:15:38.465163Z",
     "iopub.status.idle": "2020-08-21T20:15:38.693053Z",
     "shell.execute_reply": "2020-08-21T20:15:38.693568Z"
    },
    "papermill": {
     "duration": 0.276539,
     "end_time": "2020-08-21T20:15:38.693750",
     "exception": false,
     "start_time": "2020-08-21T20:15:38.417211",
     "status": "completed"
    },
    "tags": []
   },
   "outputs": [
    {
     "data": {
      "text/plain": [
       "<matplotlib.legend.Legend at 0x7f6ce93d7828>"
      ]
     },
     "execution_count": 24,
     "metadata": {},
     "output_type": "execute_result"
    },
    {
     "data": {
      "image/png": "[encoded data removed]",
      "text/plain": [
       "<Figure size 576x360 with 1 Axes>"
      ]
     },
     "metadata": {
      "needs_background": "light"
     },
     "output_type": "display_data"
    }
   ],
   "source": [
    "plt.figure(figsize=(8,5))\n",
    "plt.plot(acc1.val_accuracies, 'g-', label = \"Val Accuracies - NN\")\n",
    "plt.plot(acc1.accuracies, 'r-', label = \"Accuracies - NN\")\n",
    "plt.plot(acc2.val_accuracies, 'b-', label = \"Val Accuracies - Logistic Reg\")\n",
    "plt.plot(acc2.accuracies, 'k-', label = \"Accuracies - Logistic Reg\")\n",
    "plt.ylim(0.8,1) ## for a more spread out view\n",
    "plt.legend()"
   ]
  },
  {
   "cell_type": "markdown",
   "metadata": {
    "papermill": {
     "duration": 0.043298,
     "end_time": "2020-08-21T20:15:38.778015",
     "exception": false,
     "start_time": "2020-08-21T20:15:38.734717",
     "status": "completed"
    },
    "tags": []
   },
   "source": [
    "### Clearly NN has a better accuracy over LR; NN is overfitting - Validation accuracy (green) has dropped below training accuracy (orange), also they are diverging. This problem is not seen in LR"
   ]
  },
  {
   "cell_type": "markdown",
   "metadata": {
    "papermill": {
     "duration": 0.041732,
     "end_time": "2020-08-21T20:15:38.864548",
     "exception": false,
     "start_time": "2020-08-21T20:15:38.822816",
     "status": "completed"
    },
    "tags": []
   },
   "source": [
    "##### Now we will be moving through the network, till the output of the second last affine where we get a 2 dimensional output. We will be plotting this 2d output and probability contours"
   ]
  },
  {
   "cell_type": "code",
   "execution_count": 25,
   "metadata": {
    "execution": {
     "iopub.execute_input": "2020-08-21T20:15:38.957436Z",
     "iopub.status.busy": "2020-08-21T20:15:38.956843Z",
     "iopub.status.idle": "2020-08-21T20:15:38.968995Z",
     "shell.execute_reply": "2020-08-21T20:15:38.968473Z"
    },
    "papermill": {
     "duration": 0.059655,
     "end_time": "2020-08-21T20:15:38.969141",
     "exception": false,
     "start_time": "2020-08-21T20:15:38.909486",
     "status": "completed"
    },
    "tags": []
   },
   "outputs": [],
   "source": [
    "model_new = Model(layers[:-2])"
   ]
  },
  {
   "cell_type": "code",
   "execution_count": 26,
   "metadata": {
    "execution": {
     "iopub.execute_input": "2020-08-21T20:15:39.068310Z",
     "iopub.status.busy": "2020-08-21T20:15:39.067562Z",
     "iopub.status.idle": "2020-08-21T20:15:39.096453Z",
     "shell.execute_reply": "2020-08-21T20:15:39.097195Z"
    },
    "papermill": {
     "duration": 0.082256,
     "end_time": "2020-08-21T20:15:39.097370",
     "exception": false,
     "start_time": "2020-08-21T20:15:39.015114",
     "status": "completed"
    },
    "tags": []
   },
   "outputs": [],
   "source": [
    "plot_testing = model_new(testing_xdata)"
   ]
  },
  {
   "cell_type": "markdown",
   "metadata": {
    "papermill": {
     "duration": 0.046847,
     "end_time": "2020-08-21T20:15:39.191871",
     "exception": false,
     "start_time": "2020-08-21T20:15:39.145024",
     "status": "completed"
    },
    "tags": []
   },
   "source": [
    "##### Plotting the scatter plot of points and color coding by class"
   ]
  },
  {
   "cell_type": "code",
   "execution_count": 27,
   "metadata": {
    "execution": {
     "iopub.execute_input": "2020-08-21T20:15:39.313694Z",
     "iopub.status.busy": "2020-08-21T20:15:39.313144Z",
     "iopub.status.idle": "2020-08-21T20:15:39.526001Z",
     "shell.execute_reply": "2020-08-21T20:15:39.526443Z"
    },
    "papermill": {
     "duration": 0.266458,
     "end_time": "2020-08-21T20:15:39.526634",
     "exception": false,
     "start_time": "2020-08-21T20:15:39.260176",
     "status": "completed"
    },
    "tags": []
   },
   "outputs": [
    {
     "data": {
      "image/png": "[encoded data removed]",
      "text/plain": [
       "<Figure size 576x504 with 1 Axes>"
      ]
     },
     "metadata": {
      "needs_background": "light"
     },
     "output_type": "display_data"
    }
   ],
   "source": [
    "plt.figure(figsize=(8,7))\n",
    "plt.scatter(plot_testing[:,0], plot_testing[:,1], alpha = 0.1, c = y_test.ravel());"
   ]
  },
  {
   "cell_type": "markdown",
   "metadata": {
    "papermill": {
     "duration": 0.043442,
     "end_time": "2020-08-21T20:15:39.613563",
     "exception": false,
     "start_time": "2020-08-21T20:15:39.570121",
     "status": "completed"
    },
    "tags": []
   },
   "source": [
    "##### Plotting probability contours"
   ]
  },
  {
   "cell_type": "code",
   "execution_count": 28,
   "metadata": {
    "execution": {
     "iopub.execute_input": "2020-08-21T20:15:39.703775Z",
     "iopub.status.busy": "2020-08-21T20:15:39.703178Z",
     "iopub.status.idle": "2020-08-21T20:15:39.713623Z",
     "shell.execute_reply": "2020-08-21T20:15:39.714105Z"
    },
    "papermill": {
     "duration": 0.058269,
     "end_time": "2020-08-21T20:15:39.714235",
     "exception": false,
     "start_time": "2020-08-21T20:15:39.655966",
     "status": "completed"
    },
    "tags": []
   },
   "outputs": [],
   "source": [
    "model_prob = Model(layers[-2:]) ## picking only last two layers to get probability. That is affine followed by sigmoid"
   ]
  },
  {
   "cell_type": "code",
   "execution_count": 29,
   "metadata": {
    "execution": {
     "iopub.execute_input": "2020-08-21T20:15:39.805869Z",
     "iopub.status.busy": "2020-08-21T20:15:39.805255Z",
     "iopub.status.idle": "2020-08-21T20:15:39.817677Z",
     "shell.execute_reply": "2020-08-21T20:15:39.818264Z"
    },
    "papermill": {
     "duration": 0.062067,
     "end_time": "2020-08-21T20:15:39.818479",
     "exception": false,
     "start_time": "2020-08-21T20:15:39.756412",
     "status": "completed"
    },
    "tags": []
   },
   "outputs": [],
   "source": [
    "xgrid = np.linspace(-4, 1, 100) ## Adjust these values based on above chart, roughly -4 to 1\n",
    "ygrid = np.linspace(-7.5, 7.5, 100) ## Adjust these values based on above chart, roughly -7.5, 7.5\n",
    "xg, yg = np.meshgrid(xgrid, ygrid)\n",
    "# xg and yg are now both 100X100, lets convert them to single arrays \n",
    "\n",
    "xg_interim = np.ravel(xg)\n",
    "yg_interim = np.ravel(yg)\n",
    "\n",
    "## xg_interim, yg_interim are now arrays of len 10000, now we will stack them and then transpose to get desired shape of n rows, 2 columns\n",
    "\n",
    "X_interim = np.vstack((xg_interim, yg_interim)) ## Please note vstack takes in a tuple\n",
    "X = X_interim.T\n",
    "\n",
    "## We want a shape of n rows and 2 columns to be able to feed this to last affine\n",
    "## This last affine takes only two columns, hence the above transformation\n",
    "probability_contour = model_prob(X).reshape(100,100) ## to make it consistent with xg, yg"
   ]
  },
  {
   "cell_type": "code",
   "execution_count": 30,
   "metadata": {
    "execution": {
     "iopub.execute_input": "2020-08-21T20:15:39.915566Z",
     "iopub.status.busy": "2020-08-21T20:15:39.914930Z",
     "iopub.status.idle": "2020-08-21T20:15:40.160277Z",
     "shell.execute_reply": "2020-08-21T20:15:40.159808Z"
    },
    "papermill": {
     "duration": 0.29819,
     "end_time": "2020-08-21T20:15:40.160400",
     "exception": false,
     "start_time": "2020-08-21T20:15:39.862210",
     "status": "completed"
    },
    "tags": []
   },
   "outputs": [
    {
     "data": {
      "image/png": "[encoded data removed]",
      "text/plain": [
       "<Figure size 576x504 with 1 Axes>"
      ]
     },
     "metadata": {
      "needs_background": "light"
     },
     "output_type": "display_data"
    }
   ],
   "source": [
    "plt.figure(figsize=(8,7))\n",
    "plt.scatter(plot_testing[:,0], plot_testing[:,1], alpha = 0.1, c = y_test.ravel())\n",
    "contours = plt.contour(xg,yg,probability_contour)\n",
    "plt.clabel(contours, inline = True );"
   ]
  }
 ],
 "metadata": {
  "kernelspec": {
   "display_name": "Python 3",
   "language": "python",
   "name": "python3"
  },
  "language_info": {
   "codemirror_mode": {
    "name": "ipython",
    "version": 3
   },
   "file_extension": ".py",
   "mimetype": "text/x-python",
   "name": "python",
   "nbconvert_exporter": "python",
   "pygments_lexer": "ipython3",
   "version": "3.6.11"
  },
  "papermill": {
   "duration": 156.716147,
   "end_time": "2020-08-21T20:15:40.513090",
   "environment_variables": {},
   "exception": null,
   "input_path": "2020-08-07-NN-new.ipynb",
   "output_path": "2020-08-07-NN-new.ipynb",
   "parameters": {},
   "start_time": "2020-08-21T20:13:03.796943",
   "version": "2.1.2"
  }
 },
 "nbformat": 4,
 "nbformat_minor": 4
}