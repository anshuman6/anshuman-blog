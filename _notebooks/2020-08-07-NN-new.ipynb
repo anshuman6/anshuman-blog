{
 "cells": [
  {
   "cell_type": "markdown",
   "metadata": {
    "papermill": {
     "duration": 0.033764,
     "end_time": "2020-08-26T00:28:55.758650",
     "exception": false,
     "start_time": "2020-08-26T00:28:55.724886",
     "status": "completed"
    },
    "tags": []
   },
   "source": [
    "# \"Building a basic Neural Network from scratch - Kudzu\"\n",
    "\n",
    "- badges: true\n",
    "- author: Anshuman Gupta"
   ]
  },
  {
   "cell_type": "markdown",
   "metadata": {
    "papermill": {
     "duration": 0.030528,
     "end_time": "2020-08-26T00:28:55.822028",
     "exception": false,
     "start_time": "2020-08-26T00:28:55.791500",
     "status": "completed"
    },
    "tags": []
   },
   "source": [
    "#### In this project, the idea is to write a classifier to differentiate between handwritten digits 3 and 8, from the MNIST database.\n",
    "\n",
    "#### I will using a custom built neural network library called Kudzu.This has been developed as a part of KTF/Foundations course of Univ.ai (www.univ.ai). The source code for Kudzu Library and and this notebook can be found on my git-hub profile : www.https://github.com/anshuman6 under the folder project-solution. Any feedback and comments are welcome. Please feel free to email me at: anshuman6@gmail.com\n",
    "\n",
    "#### 1. I will be using the MNIST database. \n",
    "\n",
    "#### 2. I will be comparing the results of the 4 layer NN to a standard logistic regression"
   ]
  },
  {
   "cell_type": "markdown",
   "metadata": {
    "papermill": {
     "duration": 0.028609,
     "end_time": "2020-08-26T00:28:55.879225",
     "exception": false,
     "start_time": "2020-08-26T00:28:55.850616",
     "status": "completed"
    },
    "tags": []
   },
   "source": [
    "##### Importing all the necessary libraries"
   ]
  },
  {
   "cell_type": "code",
   "execution_count": 1,
   "metadata": {
    "execution": {
     "iopub.execute_input": "2020-08-26T00:28:55.938786Z",
     "iopub.status.busy": "2020-08-26T00:28:55.938060Z",
     "iopub.status.idle": "2020-08-26T00:28:55.948961Z",
     "shell.execute_reply": "2020-08-26T00:28:55.948432Z"
    },
    "papermill": {
     "duration": 0.042083,
     "end_time": "2020-08-26T00:28:55.949102",
     "exception": false,
     "start_time": "2020-08-26T00:28:55.907019",
     "status": "completed"
    },
    "tags": []
   },
   "outputs": [],
   "source": [
    "%load_ext autoreload\n",
    "%autoreload 2"
   ]
  },
  {
   "cell_type": "code",
   "execution_count": 2,
   "metadata": {
    "execution": {
     "iopub.execute_input": "2020-08-26T00:28:56.007035Z",
     "iopub.status.busy": "2020-08-26T00:28:56.006445Z",
     "iopub.status.idle": "2020-08-26T00:28:56.541622Z",
     "shell.execute_reply": "2020-08-26T00:28:56.540799Z"
    },
    "papermill": {
     "duration": 0.565668,
     "end_time": "2020-08-26T00:28:56.541761",
     "exception": false,
     "start_time": "2020-08-26T00:28:55.976093",
     "status": "completed"
    },
    "tags": []
   },
   "outputs": [],
   "source": [
    "%matplotlib inline\n",
    "import numpy as np\n",
    "import matplotlib.pyplot as plt\n",
    "import pandas as pd"
   ]
  },
  {
   "cell_type": "markdown",
   "metadata": {
    "papermill": {
     "duration": 0.033858,
     "end_time": "2020-08-26T00:28:56.605809",
     "exception": false,
     "start_time": "2020-08-26T00:28:56.571951",
     "status": "completed"
    },
    "tags": []
   },
   "source": [
    "##### The following command helps us download MNIST from notebook itself. You can skip this if you already have MNIST. You can also download it via your terminal."
   ]
  },
  {
   "cell_type": "code",
   "execution_count": 3,
   "metadata": {
    "execution": {
     "iopub.execute_input": "2020-08-26T00:28:56.665267Z",
     "iopub.status.busy": "2020-08-26T00:28:56.664633Z",
     "iopub.status.idle": "2020-08-26T00:28:58.115443Z",
     "shell.execute_reply": "2020-08-26T00:28:58.115927Z"
    },
    "papermill": {
     "duration": 1.482346,
     "end_time": "2020-08-26T00:28:58.116090",
     "exception": false,
     "start_time": "2020-08-26T00:28:56.633744",
     "status": "completed"
    },
    "tags": []
   },
   "outputs": [
    {
     "name": "stdout",
     "output_type": "stream",
     "text": [
      "Collecting mnist\r\n"
     ]
    },
    {
     "name": "stdout",
     "output_type": "stream",
     "text": [
      "  Downloading mnist-0.2.2-py2.py3-none-any.whl (3.5 kB)\r\n",
      "Requirement already satisfied: numpy in /opt/hostedtoolcache/Python/3.6.11/x64/lib/python3.6/site-packages (from mnist) (1.19.1)\r\n"
     ]
    },
    {
     "name": "stdout",
     "output_type": "stream",
     "text": [
      "Installing collected packages: mnist\r\n",
      "Successfully installed mnist-0.2.2\r\n"
     ]
    }
   ],
   "source": [
    "!pip install mnist # Please note, it is commented out for now, you can remove comment if you want to install it"
   ]
  },
  {
   "cell_type": "markdown",
   "metadata": {
    "papermill": {
     "duration": 0.02699,
     "end_time": "2020-08-26T00:28:58.171529",
     "exception": false,
     "start_time": "2020-08-26T00:28:58.144539",
     "status": "completed"
    },
    "tags": []
   },
   "source": [
    "#### Preparing the Data"
   ]
  },
  {
   "cell_type": "code",
   "execution_count": 4,
   "metadata": {
    "execution": {
     "iopub.execute_input": "2020-08-26T00:28:58.230231Z",
     "iopub.status.busy": "2020-08-26T00:28:58.229645Z",
     "iopub.status.idle": "2020-08-26T00:28:58.243594Z",
     "shell.execute_reply": "2020-08-26T00:28:58.243010Z"
    },
    "papermill": {
     "duration": 0.044465,
     "end_time": "2020-08-26T00:28:58.243718",
     "exception": false,
     "start_time": "2020-08-26T00:28:58.199253",
     "status": "completed"
    },
    "tags": []
   },
   "outputs": [],
   "source": [
    "import mnist"
   ]
  },
  {
   "cell_type": "code",
   "execution_count": 5,
   "metadata": {
    "execution": {
     "iopub.execute_input": "2020-08-26T00:28:58.303007Z",
     "iopub.status.busy": "2020-08-26T00:28:58.302423Z",
     "iopub.status.idle": "2020-08-26T00:29:01.553822Z",
     "shell.execute_reply": "2020-08-26T00:29:01.553259Z"
    },
    "papermill": {
     "duration": 3.282698,
     "end_time": "2020-08-26T00:29:01.553985",
     "exception": false,
     "start_time": "2020-08-26T00:28:58.271287",
     "status": "completed"
    },
    "tags": []
   },
   "outputs": [],
   "source": [
    "train_images = mnist.train_images()\n",
    "train_labels = mnist.train_labels()"
   ]
  },
  {
   "cell_type": "code",
   "execution_count": 6,
   "metadata": {
    "execution": {
     "iopub.execute_input": "2020-08-26T00:29:01.620814Z",
     "iopub.status.busy": "2020-08-26T00:29:01.619960Z",
     "iopub.status.idle": "2020-08-26T00:29:01.636061Z",
     "shell.execute_reply": "2020-08-26T00:29:01.635485Z"
    },
    "papermill": {
     "duration": 0.050081,
     "end_time": "2020-08-26T00:29:01.636232",
     "exception": false,
     "start_time": "2020-08-26T00:29:01.586151",
     "status": "completed"
    },
    "tags": []
   },
   "outputs": [
    {
     "data": {
      "text/plain": [
       "((60000, 28, 28), (60000,))"
      ]
     },
     "execution_count": 6,
     "metadata": {},
     "output_type": "execute_result"
    }
   ],
   "source": [
    "train_images.shape, train_labels.shape"
   ]
  },
  {
   "cell_type": "code",
   "execution_count": 7,
   "metadata": {
    "execution": {
     "iopub.execute_input": "2020-08-26T00:29:01.696974Z",
     "iopub.status.busy": "2020-08-26T00:29:01.696326Z",
     "iopub.status.idle": "2020-08-26T00:29:02.210835Z",
     "shell.execute_reply": "2020-08-26T00:29:02.210308Z"
    },
    "papermill": {
     "duration": 0.546526,
     "end_time": "2020-08-26T00:29:02.210975",
     "exception": false,
     "start_time": "2020-08-26T00:29:01.664449",
     "status": "completed"
    },
    "tags": []
   },
   "outputs": [],
   "source": [
    "test_images = mnist.test_images()\n",
    "test_labels = mnist.test_labels()"
   ]
  },
  {
   "cell_type": "code",
   "execution_count": 8,
   "metadata": {
    "execution": {
     "iopub.execute_input": "2020-08-26T00:29:02.272939Z",
     "iopub.status.busy": "2020-08-26T00:29:02.272322Z",
     "iopub.status.idle": "2020-08-26T00:29:02.286183Z",
     "shell.execute_reply": "2020-08-26T00:29:02.285618Z"
    },
    "papermill": {
     "duration": 0.045367,
     "end_time": "2020-08-26T00:29:02.286319",
     "exception": false,
     "start_time": "2020-08-26T00:29:02.240952",
     "status": "completed"
    },
    "tags": []
   },
   "outputs": [
    {
     "data": {
      "text/plain": [
       "((10000, 28, 28), (10000,))"
      ]
     },
     "execution_count": 8,
     "metadata": {},
     "output_type": "execute_result"
    }
   ],
   "source": [
    "test_images.shape, test_labels.shape"
   ]
  },
  {
   "cell_type": "code",
   "execution_count": 9,
   "metadata": {
    "execution": {
     "iopub.execute_input": "2020-08-26T00:29:02.348666Z",
     "iopub.status.busy": "2020-08-26T00:29:02.348052Z",
     "iopub.status.idle": "2020-08-26T00:29:02.512282Z",
     "shell.execute_reply": "2020-08-26T00:29:02.512817Z"
    },
    "papermill": {
     "duration": 0.197271,
     "end_time": "2020-08-26T00:29:02.513024",
     "exception": false,
     "start_time": "2020-08-26T00:29:02.315753",
     "status": "completed"
    },
    "tags": []
   },
   "outputs": [
    {
     "name": "stdout",
     "output_type": "stream",
     "text": [
      "2\n"
     ]
    },
    {
     "data": {
      "text/plain": [
       "<matplotlib.image.AxesImage at 0x7f53d4fb9b00>"
      ]
     },
     "execution_count": 9,
     "metadata": {},
     "output_type": "execute_result"
    },
    {
     "data": {
      "image/png": "[encoded data removed]",
      "text/plain": [
       "<Figure size 432x288 with 1 Axes>"
      ]
     },
     "metadata": {
      "needs_background": "light"
     },
     "output_type": "display_data"
    }
   ],
   "source": [
    "image_index = 7776 # You may select anything up to 60,000\n",
    "print(train_labels[image_index]) \n",
    "plt.imshow(train_images[image_index], cmap='Greys')"
   ]
  },
  {
   "cell_type": "markdown",
   "metadata": {
    "papermill": {
     "duration": 0.032639,
     "end_time": "2020-08-26T00:29:02.578331",
     "exception": false,
     "start_time": "2020-08-26T00:29:02.545692",
     "status": "completed"
    },
    "tags": []
   },
   "source": [
    "## Filter data to get 3 and 8 out"
   ]
  },
  {
   "cell_type": "code",
   "execution_count": 10,
   "metadata": {
    "execution": {
     "iopub.execute_input": "2020-08-26T00:29:02.646970Z",
     "iopub.status.busy": "2020-08-26T00:29:02.646301Z",
     "iopub.status.idle": "2020-08-26T00:29:02.665553Z",
     "shell.execute_reply": "2020-08-26T00:29:02.664921Z"
    },
    "papermill": {
     "duration": 0.05655,
     "end_time": "2020-08-26T00:29:02.665700",
     "exception": false,
     "start_time": "2020-08-26T00:29:02.609150",
     "status": "completed"
    },
    "tags": []
   },
   "outputs": [],
   "source": [
    "train_filter = np.where((train_labels == 3 ) | (train_labels == 8))\n",
    "test_filter = np.where((test_labels == 3) | (test_labels == 8))\n",
    "X_train, y_train = train_images[train_filter], train_labels[train_filter]\n",
    "X_test, y_test = test_images[test_filter], test_labels[test_filter]"
   ]
  },
  {
   "cell_type": "markdown",
   "metadata": {
    "papermill": {
     "duration": 0.032678,
     "end_time": "2020-08-26T00:29:02.729487",
     "exception": false,
     "start_time": "2020-08-26T00:29:02.696809",
     "status": "completed"
    },
    "tags": []
   },
   "source": [
    "##### We normalize the pizel values in the 0 to 1 range"
   ]
  },
  {
   "cell_type": "code",
   "execution_count": 11,
   "metadata": {
    "execution": {
     "iopub.execute_input": "2020-08-26T00:29:02.796660Z",
     "iopub.status.busy": "2020-08-26T00:29:02.796002Z",
     "iopub.status.idle": "2020-08-26T00:29:02.855719Z",
     "shell.execute_reply": "2020-08-26T00:29:02.855122Z"
    },
    "papermill": {
     "duration": 0.094453,
     "end_time": "2020-08-26T00:29:02.855869",
     "exception": false,
     "start_time": "2020-08-26T00:29:02.761416",
     "status": "completed"
    },
    "tags": []
   },
   "outputs": [],
   "source": [
    "X_train = X_train/255.\n",
    "X_test = X_test/255."
   ]
  },
  {
   "cell_type": "markdown",
   "metadata": {
    "papermill": {
     "duration": 0.032972,
     "end_time": "2020-08-26T00:29:02.920264",
     "exception": false,
     "start_time": "2020-08-26T00:29:02.887292",
     "status": "completed"
    },
    "tags": []
   },
   "source": [
    "And setup the labels as 1 (when the digit is 3) and 0 (when the digit is 8)"
   ]
  },
  {
   "cell_type": "code",
   "execution_count": 12,
   "metadata": {
    "execution": {
     "iopub.execute_input": "2020-08-26T00:29:02.990687Z",
     "iopub.status.busy": "2020-08-26T00:29:02.990063Z",
     "iopub.status.idle": "2020-08-26T00:29:03.002443Z",
     "shell.execute_reply": "2020-08-26T00:29:03.001879Z"
    },
    "papermill": {
     "duration": 0.051489,
     "end_time": "2020-08-26T00:29:03.002581",
     "exception": false,
     "start_time": "2020-08-26T00:29:02.951092",
     "status": "completed"
    },
    "tags": []
   },
   "outputs": [],
   "source": [
    "y_train = 1*(y_train==3)\n",
    "y_test = 1*(y_test==3)"
   ]
  },
  {
   "cell_type": "code",
   "execution_count": 13,
   "metadata": {
    "execution": {
     "iopub.execute_input": "2020-08-26T00:29:03.072242Z",
     "iopub.status.busy": "2020-08-26T00:29:03.066407Z",
     "iopub.status.idle": "2020-08-26T00:29:03.081242Z",
     "shell.execute_reply": "2020-08-26T00:29:03.081793Z"
    },
    "papermill": {
     "duration": 0.048641,
     "end_time": "2020-08-26T00:29:03.081949",
     "exception": false,
     "start_time": "2020-08-26T00:29:03.033308",
     "status": "completed"
    },
    "tags": []
   },
   "outputs": [
    {
     "data": {
      "text/plain": [
       "((11982, 28, 28), (1984, 28, 28))"
      ]
     },
     "execution_count": 13,
     "metadata": {},
     "output_type": "execute_result"
    }
   ],
   "source": [
    "X_train.shape, X_test.shape"
   ]
  },
  {
   "cell_type": "markdown",
   "metadata": {
    "papermill": {
     "duration": 0.030286,
     "end_time": "2020-08-26T00:29:03.143173",
     "exception": false,
     "start_time": "2020-08-26T00:29:03.112887",
     "status": "completed"
    },
    "tags": []
   },
   "source": [
    "##### We reshape the data to flatten the image pixels into a set of features or co-variates:"
   ]
  },
  {
   "cell_type": "code",
   "execution_count": 14,
   "metadata": {
    "execution": {
     "iopub.execute_input": "2020-08-26T00:29:03.206991Z",
     "iopub.status.busy": "2020-08-26T00:29:03.206334Z",
     "iopub.status.idle": "2020-08-26T00:29:03.220691Z",
     "shell.execute_reply": "2020-08-26T00:29:03.220148Z"
    },
    "papermill": {
     "duration": 0.048159,
     "end_time": "2020-08-26T00:29:03.220815",
     "exception": false,
     "start_time": "2020-08-26T00:29:03.172656",
     "status": "completed"
    },
    "tags": []
   },
   "outputs": [
    {
     "data": {
      "text/plain": [
       "((11982, 784), (1984, 784))"
      ]
     },
     "execution_count": 14,
     "metadata": {},
     "output_type": "execute_result"
    }
   ],
   "source": [
    "X_train = X_train.reshape(X_train.shape[0], -1)\n",
    "X_test = X_test.reshape(X_test.shape[0], -1)\n",
    "X_train.shape, X_test.shape"
   ]
  },
  {
   "cell_type": "markdown",
   "metadata": {
    "papermill": {
     "duration": 0.031565,
     "end_time": "2020-08-26T00:29:03.281747",
     "exception": false,
     "start_time": "2020-08-26T00:29:03.250182",
     "status": "completed"
    },
    "tags": []
   },
   "source": [
    "##### Importing Kudzu library and its functionality"
   ]
  },
  {
   "cell_type": "code",
   "execution_count": 15,
   "metadata": {
    "execution": {
     "iopub.execute_input": "2020-08-26T00:29:03.348911Z",
     "iopub.status.busy": "2020-08-26T00:29:03.348233Z",
     "iopub.status.idle": "2020-08-26T00:29:03.366709Z",
     "shell.execute_reply": "2020-08-26T00:29:03.366201Z"
    },
    "papermill": {
     "duration": 0.053917,
     "end_time": "2020-08-26T00:29:03.366835",
     "exception": false,
     "start_time": "2020-08-26T00:29:03.312918",
     "status": "completed"
    },
    "tags": []
   },
   "outputs": [],
   "source": [
    "from kudzu.data import Data, Dataloader, Sampler\n",
    "from kudzu.callbacks import AccCallback\n",
    "from kudzu.loss import MSE\n",
    "from kudzu.layer import Affine, Sigmoid\n",
    "from kudzu.model import Model\n",
    "from kudzu.optim import GD\n",
    "from kudzu.train import Learner\n",
    "from kudzu.callbacks import ClfCallback\n",
    "from kudzu.layer import Sigmoid\n",
    "from kudzu.layer import Relu"
   ]
  },
  {
   "cell_type": "markdown",
   "metadata": {
    "papermill": {
     "duration": 0.032065,
     "end_time": "2020-08-26T00:29:03.429801",
     "exception": false,
     "start_time": "2020-08-26T00:29:03.397736",
     "status": "completed"
    },
    "tags": []
   },
   "source": [
    "##### We are creating a class, just so that we can use it to store our parameters for us"
   ]
  },
  {
   "cell_type": "code",
   "execution_count": 16,
   "metadata": {
    "execution": {
     "iopub.execute_input": "2020-08-26T00:29:03.500033Z",
     "iopub.status.busy": "2020-08-26T00:29:03.499370Z",
     "iopub.status.idle": "2020-08-26T00:29:03.511693Z",
     "shell.execute_reply": "2020-08-26T00:29:03.512176Z"
    },
    "papermill": {
     "duration": 0.048523,
     "end_time": "2020-08-26T00:29:03.512313",
     "exception": false,
     "start_time": "2020-08-26T00:29:03.463790",
     "status": "completed"
    },
    "tags": []
   },
   "outputs": [],
   "source": [
    "class Config:\n",
    "    pass\n",
    "config = Config()\n",
    "config.lr = 0.001\n",
    "config.num_epochs = 250\n",
    "config.bs = 50"
   ]
  },
  {
   "cell_type": "markdown",
   "metadata": {
    "papermill": {
     "duration": 0.033795,
     "end_time": "2020-08-26T00:29:03.575505",
     "exception": false,
     "start_time": "2020-08-26T00:29:03.541710",
     "status": "completed"
    },
    "tags": []
   },
   "source": [
    "##### Initializing Data"
   ]
  },
  {
   "cell_type": "code",
   "execution_count": 17,
   "metadata": {
    "execution": {
     "iopub.execute_input": "2020-08-26T00:29:03.642900Z",
     "iopub.status.busy": "2020-08-26T00:29:03.641630Z",
     "iopub.status.idle": "2020-08-26T00:29:03.653995Z",
     "shell.execute_reply": "2020-08-26T00:29:03.654525Z"
    },
    "papermill": {
     "duration": 0.046167,
     "end_time": "2020-08-26T00:29:03.654665",
     "exception": false,
     "start_time": "2020-08-26T00:29:03.608498",
     "status": "completed"
    },
    "tags": []
   },
   "outputs": [],
   "source": [
    "data = Data(X_train, y_train.reshape(-1,1))\n",
    "loss = MSE()\n",
    "opt = GD(config.lr)\n",
    "sampler = Sampler(data, config.bs, shuffle=True)\n",
    "dl = Dataloader(data, sampler)"
   ]
  },
  {
   "cell_type": "markdown",
   "metadata": {
    "papermill": {
     "duration": 0.031248,
     "end_time": "2020-08-26T00:29:03.715067",
     "exception": false,
     "start_time": "2020-08-26T00:29:03.683819",
     "status": "completed"
    },
    "tags": []
   },
   "source": [
    "##### Constructing 2 different layers, one for NN and one only for logistic regression."
   ]
  },
  {
   "cell_type": "markdown",
   "metadata": {
    "papermill": {
     "duration": 0.03098,
     "end_time": "2020-08-26T00:29:03.778315",
     "exception": false,
     "start_time": "2020-08-26T00:29:03.747335",
     "status": "completed"
    },
    "tags": []
   },
   "source": [
    "##### Creating containers for data to be passed, to calculate accuracies"
   ]
  },
  {
   "cell_type": "code",
   "execution_count": 18,
   "metadata": {
    "execution": {
     "iopub.execute_input": "2020-08-26T00:29:03.843165Z",
     "iopub.status.busy": "2020-08-26T00:29:03.842586Z",
     "iopub.status.idle": "2020-08-26T00:29:03.854480Z",
     "shell.execute_reply": "2020-08-26T00:29:03.854990Z"
    },
    "papermill": {
     "duration": 0.044981,
     "end_time": "2020-08-26T00:29:03.855128",
     "exception": false,
     "start_time": "2020-08-26T00:29:03.810147",
     "status": "completed"
    },
    "tags": []
   },
   "outputs": [],
   "source": [
    "training_xdata = X_train\n",
    "testing_xdata = X_test\n",
    "training_ydata = y_train.reshape(-1,1)\n",
    "testing_ydata = y_test.reshape(-1,1)"
   ]
  },
  {
   "cell_type": "markdown",
   "metadata": {
    "papermill": {
     "duration": 0.030849,
     "end_time": "2020-08-26T00:29:03.917725",
     "exception": false,
     "start_time": "2020-08-26T00:29:03.886876",
     "status": "completed"
    },
    "tags": []
   },
   "source": [
    "##### Initializing models and Running training loop: "
   ]
  },
  {
   "cell_type": "code",
   "execution_count": 19,
   "metadata": {
    "execution": {
     "iopub.execute_input": "2020-08-26T00:29:03.990135Z",
     "iopub.status.busy": "2020-08-26T00:29:03.989500Z",
     "iopub.status.idle": "2020-08-26T00:29:04.007803Z",
     "shell.execute_reply": "2020-08-26T00:29:04.007275Z"
    },
    "papermill": {
     "duration": 0.055472,
     "end_time": "2020-08-26T00:29:04.007937",
     "exception": false,
     "start_time": "2020-08-26T00:29:03.952465",
     "status": "completed"
    },
    "tags": []
   },
   "outputs": [],
   "source": [
    "layers = [Affine(\"first\", 784, 100), Relu(\"first\"), Affine(\"second\", 100, 100), Relu(\"second\"), Affine(\"third\", 100, 2), Affine(\"final\", 2, 1), Sigmoid(\"final\")]\n",
    "\n",
    "model_neural = Model(layers)\n",
    "model_logistic = Model([Affine(\"logits\", 784, 1), Sigmoid(\"sigmoid\")])"
   ]
  },
  {
   "cell_type": "code",
   "execution_count": 20,
   "metadata": {
    "execution": {
     "iopub.execute_input": "2020-08-26T00:29:04.078454Z",
     "iopub.status.busy": "2020-08-26T00:29:04.077813Z",
     "iopub.status.idle": "2020-08-26T00:29:04.090217Z",
     "shell.execute_reply": "2020-08-26T00:29:04.090840Z"
    },
    "papermill": {
     "duration": 0.052387,
     "end_time": "2020-08-26T00:29:04.091015",
     "exception": false,
     "start_time": "2020-08-26T00:29:04.038628",
     "status": "completed"
    },
    "tags": []
   },
   "outputs": [],
   "source": [
    "learner1 = Learner(loss, model_neural, opt, config.num_epochs)\n",
    "acc1 = ClfCallback(learner1, config.bs, training_xdata , testing_xdata, training_ydata, testing_ydata)\n",
    "learner1.set_callbacks([acc1])"
   ]
  },
  {
   "cell_type": "code",
   "execution_count": 21,
   "metadata": {
    "execution": {
     "iopub.execute_input": "2020-08-26T00:29:04.158317Z",
     "iopub.status.busy": "2020-08-26T00:29:04.157635Z",
     "iopub.status.idle": "2020-08-26T00:31:04.577314Z",
     "shell.execute_reply": "2020-08-26T00:31:04.577797Z"
    },
    "papermill": {
     "duration": 120.45479,
     "end_time": "2020-08-26T00:31:04.577976",
     "exception": false,
     "start_time": "2020-08-26T00:29:04.123186",
     "status": "completed"
    },
    "tags": []
   },
   "outputs": [
    {
     "name": "stdout",
     "output_type": "stream",
     "text": [
      "Epoch 0 Loss 0.2483507311433191\n",
      "train accuracy is: 0.6082457018861626, test accuracy is 0.5942540322580645\n"
     ]
    },
    {
     "name": "stdout",
     "output_type": "stream",
     "text": [
      "Epoch 10 Loss 0.09698938153950096\n",
      "train accuracy is: 0.9198798197295944, test accuracy is 0.9243951612903226\n"
     ]
    },
    {
     "name": "stdout",
     "output_type": "stream",
     "text": [
      "Epoch 20 Loss 0.0573620230608853\n",
      "train accuracy is: 0.9414121181772659, test accuracy is 0.9455645161290323\n"
     ]
    },
    {
     "name": "stdout",
     "output_type": "stream",
     "text": [
      "Epoch 30 Loss 0.04446623755830744\n",
      "train accuracy is: 0.9517609747955266, test accuracy is 0.9571572580645161\n"
     ]
    },
    {
     "name": "stdout",
     "output_type": "stream",
     "text": [
      "Epoch 40 Loss 0.03810336135128959\n",
      "train accuracy is: 0.957603071273577, test accuracy is 0.9621975806451613\n"
     ]
    },
    {
     "name": "stdout",
     "output_type": "stream",
     "text": [
      "Epoch 50 Loss 0.03416405797754375\n",
      "train accuracy is: 0.9617759973293273, test accuracy is 0.9637096774193549\n"
     ]
    },
    {
     "name": "stdout",
     "output_type": "stream",
     "text": [
      "Epoch 60 Loss 0.03147692587019327\n",
      "train accuracy is: 0.9639459188783175, test accuracy is 0.9662298387096774\n"
     ]
    },
    {
     "name": "stdout",
     "output_type": "stream",
     "text": [
      "Epoch 70 Loss 0.02946743187910247\n",
      "train accuracy is: 0.9661158404273076, test accuracy is 0.9682459677419355\n"
     ]
    },
    {
     "name": "stdout",
     "output_type": "stream",
     "text": [
      "Epoch 80 Loss 0.027909434698415083\n",
      "train accuracy is: 0.9677015523284928, test accuracy is 0.9682459677419355\n"
     ]
    },
    {
     "name": "stdout",
     "output_type": "stream",
     "text": [
      "Epoch 90 Loss 0.02660947578488862\n",
      "train accuracy is: 0.9693707227507928, test accuracy is 0.9682459677419355\n"
     ]
    },
    {
     "name": "stdout",
     "output_type": "stream",
     "text": [
      "Epoch 100 Loss 0.025528861998089233\n",
      "train accuracy is: 0.9705391420464029, test accuracy is 0.967741935483871\n"
     ]
    },
    {
     "name": "stdout",
     "output_type": "stream",
     "text": [
      "Epoch 110 Loss 0.024593829454689575\n",
      "train accuracy is: 0.971540644299783, test accuracy is 0.9682459677419355\n"
     ]
    },
    {
     "name": "stdout",
     "output_type": "stream",
     "text": [
      "Epoch 120 Loss 0.023767326864344858\n",
      "train accuracy is: 0.9725421465531631, test accuracy is 0.969758064516129\n"
     ]
    },
    {
     "name": "stdout",
     "output_type": "stream",
     "text": [
      "Epoch 130 Loss 0.023010105692972623\n",
      "train accuracy is: 0.9737105658487731, test accuracy is 0.9702620967741935\n"
     ]
    },
    {
     "name": "stdout",
     "output_type": "stream",
     "text": [
      "Epoch 140 Loss 0.02233275369581084\n",
      "train accuracy is: 0.9744616925388082, test accuracy is 0.9707661290322581\n"
     ]
    },
    {
     "name": "stdout",
     "output_type": "stream",
     "text": [
      "Epoch 150 Loss 0.02170514413707437\n",
      "train accuracy is: 0.9752128192288433, test accuracy is 0.9722782258064516\n"
     ]
    },
    {
     "name": "stdout",
     "output_type": "stream",
     "text": [
      "Epoch 160 Loss 0.021118506220592546\n",
      "train accuracy is: 0.9758804873977633, test accuracy is 0.9737903225806451\n"
     ]
    },
    {
     "name": "stdout",
     "output_type": "stream",
     "text": [
      "Epoch 170 Loss 0.02056414317206033\n",
      "train accuracy is: 0.9763812385244534, test accuracy is 0.9737903225806451\n"
     ]
    },
    {
     "name": "stdout",
     "output_type": "stream",
     "text": [
      "Epoch 180 Loss 0.02004658849927251\n",
      "train accuracy is: 0.9771323652144884, test accuracy is 0.9737903225806451\n"
     ]
    },
    {
     "name": "stdout",
     "output_type": "stream",
     "text": [
      "Epoch 190 Loss 0.019545992401690627\n",
      "train accuracy is: 0.9783007845100985, test accuracy is 0.9737903225806451\n"
     ]
    },
    {
     "name": "stdout",
     "output_type": "stream",
     "text": [
      "Epoch 200 Loss 0.01908521882818223\n",
      "train accuracy is: 0.9786346185945585, test accuracy is 0.9737903225806451\n"
     ]
    },
    {
     "name": "stdout",
     "output_type": "stream",
     "text": [
      "Epoch 210 Loss 0.018636889006578266\n",
      "train accuracy is: 0.9789684526790186, test accuracy is 0.9737903225806451\n"
     ]
    },
    {
     "name": "stdout",
     "output_type": "stream",
     "text": [
      "Epoch 220 Loss 0.018200876562690725\n",
      "train accuracy is: 0.9793022867634785, test accuracy is 0.9742943548387096\n"
     ]
    },
    {
     "name": "stdout",
     "output_type": "stream",
     "text": [
      "Epoch 230 Loss 0.01779146307061482\n",
      "train accuracy is: 0.9799699549323986, test accuracy is 0.9747983870967742\n"
     ]
    },
    {
     "name": "stdout",
     "output_type": "stream",
     "text": [
      "Epoch 240 Loss 0.0173931670126187\n",
      "train accuracy is: 0.9811383742280086, test accuracy is 0.9753024193548387\n"
     ]
    },
    {
     "data": {
      "text/plain": [
       "0.014662854318685352"
      ]
     },
     "execution_count": 21,
     "metadata": {},
     "output_type": "execute_result"
    }
   ],
   "source": [
    "learner1.train_loop(dl)"
   ]
  },
  {
   "cell_type": "markdown",
   "metadata": {
    "papermill": {
     "duration": 0.042217,
     "end_time": "2020-08-26T00:31:04.661928",
     "exception": false,
     "start_time": "2020-08-26T00:31:04.619711",
     "status": "completed"
    },
    "tags": []
   },
   "source": [
    "##### Now running only the logistic regression based classification to compare results with NN"
   ]
  },
  {
   "cell_type": "code",
   "execution_count": 22,
   "metadata": {
    "execution": {
     "iopub.execute_input": "2020-08-26T00:31:04.765919Z",
     "iopub.status.busy": "2020-08-26T00:31:04.765251Z",
     "iopub.status.idle": "2020-08-26T00:31:04.778104Z",
     "shell.execute_reply": "2020-08-26T00:31:04.778650Z"
    },
    "papermill": {
     "duration": 0.076264,
     "end_time": "2020-08-26T00:31:04.778860",
     "exception": false,
     "start_time": "2020-08-26T00:31:04.702596",
     "status": "completed"
    },
    "tags": []
   },
   "outputs": [],
   "source": [
    "learner2 = Learner(loss, model_logistic, opt, config.num_epochs)\n",
    "acc2 = ClfCallback(learner2, config.bs, training_xdata , testing_xdata, training_ydata, testing_ydata)\n",
    "learner2.set_callbacks([acc2])"
   ]
  },
  {
   "cell_type": "code",
   "execution_count": 23,
   "metadata": {
    "execution": {
     "iopub.execute_input": "2020-08-26T00:31:04.865504Z",
     "iopub.status.busy": "2020-08-26T00:31:04.864859Z",
     "iopub.status.idle": "2020-08-26T00:31:22.748637Z",
     "shell.execute_reply": "2020-08-26T00:31:22.748120Z"
    },
    "papermill": {
     "duration": 17.927855,
     "end_time": "2020-08-26T00:31:22.748782",
     "exception": false,
     "start_time": "2020-08-26T00:31:04.820927",
     "status": "completed"
    },
    "tags": []
   },
   "outputs": [
    {
     "name": "stdout",
     "output_type": "stream",
     "text": [
      "Epoch 0 Loss 0.23974590420460445\n",
      "train accuracy is: 0.7191620764480053, test accuracy is 0.7338709677419355\n"
     ]
    },
    {
     "name": "stdout",
     "output_type": "stream",
     "text": [
      "Epoch 10 Loss 0.10092408862352319\n",
      "train accuracy is: 0.915039225504924, test accuracy is 0.9294354838709677\n"
     ]
    },
    {
     "name": "stdout",
     "output_type": "stream",
     "text": [
      "Epoch 20 Loss 0.07838943913948059\n",
      "train accuracy is: 0.92847604740444, test accuracy is 0.9420362903225806\n"
     ]
    },
    {
     "name": "stdout",
     "output_type": "stream",
     "text": [
      "Epoch 30 Loss 0.06791901907079756\n",
      "train accuracy is: 0.9354031046569855, test accuracy is 0.9495967741935484\n"
     ]
    },
    {
     "name": "stdout",
     "output_type": "stream",
     "text": [
      "Epoch 40 Loss 0.061549478949686806\n",
      "train accuracy is: 0.9403271574027708, test accuracy is 0.9526209677419355\n"
     ]
    },
    {
     "name": "stdout",
     "output_type": "stream",
     "text": [
      "Epoch 50 Loss 0.057161797482335\n",
      "train accuracy is: 0.943164747120681, test accuracy is 0.9546370967741935\n"
     ]
    },
    {
     "name": "stdout",
     "output_type": "stream",
     "text": [
      "Epoch 60 Loss 0.05391550294151447\n",
      "train accuracy is: 0.9462527124019362, test accuracy is 0.9561491935483871\n"
     ]
    },
    {
     "name": "stdout",
     "output_type": "stream",
     "text": [
      "Epoch 70 Loss 0.05139203220552451\n",
      "train accuracy is: 0.9480887998664663, test accuracy is 0.9586693548387096\n"
     ]
    },
    {
     "name": "stdout",
     "output_type": "stream",
     "text": [
      "Epoch 80 Loss 0.049359709073540106\n",
      "train accuracy is: 0.9500083458521115, test accuracy is 0.9601814516129032\n"
     ]
    },
    {
     "name": "stdout",
     "output_type": "stream",
     "text": [
      "Epoch 90 Loss 0.0476782384093915\n",
      "train accuracy is: 0.9514271407110666, test accuracy is 0.9621975806451613\n"
     ]
    },
    {
     "name": "stdout",
     "output_type": "stream",
     "text": [
      "Epoch 100 Loss 0.04625778840735118\n",
      "train accuracy is: 0.9526790185277917, test accuracy is 0.9637096774193549\n"
     ]
    },
    {
     "name": "stdout",
     "output_type": "stream",
     "text": [
      "Epoch 110 Loss 0.045037181025057736\n",
      "train accuracy is: 0.9537639793022867, test accuracy is 0.9647177419354839\n"
     ]
    },
    {
     "name": "stdout",
     "output_type": "stream",
     "text": [
      "Epoch 120 Loss 0.04397318607650781\n",
      "train accuracy is: 0.9546820230345519, test accuracy is 0.9647177419354839\n"
     ]
    },
    {
     "name": "stdout",
     "output_type": "stream",
     "text": [
      "Epoch 130 Loss 0.0430362829605449\n",
      "train accuracy is: 0.9554331497245869, test accuracy is 0.9647177419354839\n"
     ]
    },
    {
     "name": "stdout",
     "output_type": "stream",
     "text": [
      "Epoch 140 Loss 0.042200581927346034\n",
      "train accuracy is: 0.956518110499082, test accuracy is 0.9662298387096774\n"
     ]
    },
    {
     "name": "stdout",
     "output_type": "stream",
     "text": [
      "Epoch 150 Loss 0.041451097499458266\n",
      "train accuracy is: 0.956851944583542, test accuracy is 0.9662298387096774\n"
     ]
    },
    {
     "name": "stdout",
     "output_type": "stream",
     "text": [
      "Epoch 160 Loss 0.04077204625692069\n",
      "train accuracy is: 0.957436154231347, test accuracy is 0.9662298387096774\n"
     ]
    },
    {
     "name": "stdout",
     "output_type": "stream",
     "text": [
      "Epoch 170 Loss 0.04015416664472438\n",
      "train accuracy is: 0.9581872809213821, test accuracy is 0.9662298387096774\n"
     ]
    },
    {
     "name": "stdout",
     "output_type": "stream",
     "text": [
      "Epoch 180 Loss 0.039588527557565596\n",
      "train accuracy is: 0.9581872809213821, test accuracy is 0.9662298387096774\n"
     ]
    },
    {
     "name": "stdout",
     "output_type": "stream",
     "text": [
      "Epoch 190 Loss 0.039067197743412545\n",
      "train accuracy is: 0.9589384076114171, test accuracy is 0.9662298387096774\n"
     ]
    },
    {
     "name": "stdout",
     "output_type": "stream",
     "text": [
      "Epoch 200 Loss 0.038585295311992285\n",
      "train accuracy is: 0.9590218661325322, test accuracy is 0.9657258064516129\n"
     ]
    },
    {
     "name": "stdout",
     "output_type": "stream",
     "text": [
      "Epoch 210 Loss 0.038138298704417734\n",
      "train accuracy is: 0.9591887831747622, test accuracy is 0.9662298387096774\n"
     ]
    },
    {
     "name": "stdout",
     "output_type": "stream",
     "text": [
      "Epoch 220 Loss 0.037721276688735816\n",
      "train accuracy is: 0.9596060757803372, test accuracy is 0.9662298387096774\n"
     ]
    },
    {
     "name": "stdout",
     "output_type": "stream",
     "text": [
      "Epoch 230 Loss 0.037331955452953744\n",
      "train accuracy is: 0.9598564513436821, test accuracy is 0.9662298387096774\n"
     ]
    },
    {
     "name": "stdout",
     "output_type": "stream",
     "text": [
      "Epoch 240 Loss 0.03696686628667463\n",
      "train accuracy is: 0.9599399098647972, test accuracy is 0.9662298387096774\n"
     ]
    },
    {
     "data": {
      "text/plain": [
       "0.045338095129329785"
      ]
     },
     "execution_count": 23,
     "metadata": {},
     "output_type": "execute_result"
    }
   ],
   "source": [
    "learner2.train_loop(dl)"
   ]
  },
  {
   "cell_type": "markdown",
   "metadata": {
    "papermill": {
     "duration": 0.05093,
     "end_time": "2020-08-26T00:31:22.854013",
     "exception": false,
     "start_time": "2020-08-26T00:31:22.803083",
     "status": "completed"
    },
    "tags": []
   },
   "source": [
    "### Comparing results of NN and LR"
   ]
  },
  {
   "cell_type": "code",
   "execution_count": 24,
   "metadata": {
    "execution": {
     "iopub.execute_input": "2020-08-26T00:31:22.955909Z",
     "iopub.status.busy": "2020-08-26T00:31:22.954318Z",
     "iopub.status.idle": "2020-08-26T00:31:23.197671Z",
     "shell.execute_reply": "2020-08-26T00:31:23.197111Z"
    },
    "papermill": {
     "duration": 0.295847,
     "end_time": "2020-08-26T00:31:23.197827",
     "exception": false,
     "start_time": "2020-08-26T00:31:22.901980",
     "status": "completed"
    },
    "tags": []
   },
   "outputs": [
    {
     "data": {
      "text/plain": [
       "<matplotlib.legend.Legend at 0x7f53d4b9f208>"
      ]
     },
     "execution_count": 24,
     "metadata": {},
     "output_type": "execute_result"
    },
    {
     "data": {
      "image/png": "[encoded data removed]",
      "text/plain": [
       "<Figure size 576x360 with 1 Axes>"
      ]
     },
     "metadata": {
      "needs_background": "light"
     },
     "output_type": "display_data"
    }
   ],
   "source": [
    "plt.figure(figsize=(8,5))\n",
    "plt.plot(acc1.val_accuracies, 'g-', label = \"Val Accuracies - NN\")\n",
    "plt.plot(acc1.accuracies, 'r-', label = \"Accuracies - NN\")\n",
    "plt.plot(acc2.val_accuracies, 'b-', label = \"Val Accuracies - Logistic Reg\")\n",
    "plt.plot(acc2.accuracies, 'k-', label = \"Accuracies - Logistic Reg\")\n",
    "plt.ylim(0.8,1) ## for a more spread out view\n",
    "plt.legend()"
   ]
  },
  {
   "cell_type": "markdown",
   "metadata": {
    "papermill": {
     "duration": 0.049852,
     "end_time": "2020-08-26T00:31:23.299669",
     "exception": false,
     "start_time": "2020-08-26T00:31:23.249817",
     "status": "completed"
    },
    "tags": []
   },
   "source": [
    "### Clearly NN has a better accuracy over LR; NN is overfitting - Validation accuracy (green) has dropped below training accuracy (orange), also they are diverging. This problem is not seen in LR"
   ]
  },
  {
   "cell_type": "markdown",
   "metadata": {
    "papermill": {
     "duration": 0.050305,
     "end_time": "2020-08-26T00:31:23.400963",
     "exception": false,
     "start_time": "2020-08-26T00:31:23.350658",
     "status": "completed"
    },
    "tags": []
   },
   "source": [
    "##### Now we will be moving through the network, till the output of the second last affine where we get a 2 dimensional output. We will be plotting this 2d output and probability contours"
   ]
  },
  {
   "cell_type": "code",
   "execution_count": 25,
   "metadata": {
    "execution": {
     "iopub.execute_input": "2020-08-26T00:31:23.507919Z",
     "iopub.status.busy": "2020-08-26T00:31:23.506919Z",
     "iopub.status.idle": "2020-08-26T00:31:23.520292Z",
     "shell.execute_reply": "2020-08-26T00:31:23.519567Z"
    },
    "papermill": {
     "duration": 0.066392,
     "end_time": "2020-08-26T00:31:23.520446",
     "exception": false,
     "start_time": "2020-08-26T00:31:23.454054",
     "status": "completed"
    },
    "tags": []
   },
   "outputs": [],
   "source": [
    "model_new = Model(layers[:-2])"
   ]
  },
  {
   "cell_type": "code",
   "execution_count": 26,
   "metadata": {
    "execution": {
     "iopub.execute_input": "2020-08-26T00:31:23.628609Z",
     "iopub.status.busy": "2020-08-26T00:31:23.627968Z",
     "iopub.status.idle": "2020-08-26T00:31:23.653501Z",
     "shell.execute_reply": "2020-08-26T00:31:23.654225Z"
    },
    "papermill": {
     "duration": 0.081742,
     "end_time": "2020-08-26T00:31:23.654388",
     "exception": false,
     "start_time": "2020-08-26T00:31:23.572646",
     "status": "completed"
    },
    "tags": []
   },
   "outputs": [],
   "source": [
    "plot_testing = model_new(testing_xdata)"
   ]
  },
  {
   "cell_type": "markdown",
   "metadata": {
    "papermill": {
     "duration": 0.053848,
     "end_time": "2020-08-26T00:31:23.760495",
     "exception": false,
     "start_time": "2020-08-26T00:31:23.706647",
     "status": "completed"
    },
    "tags": []
   },
   "source": [
    "##### Plotting the scatter plot of points and color coding by class"
   ]
  },
  {
   "cell_type": "code",
   "execution_count": 27,
   "metadata": {
    "execution": {
     "iopub.execute_input": "2020-08-26T00:31:23.888667Z",
     "iopub.status.busy": "2020-08-26T00:31:23.888026Z",
     "iopub.status.idle": "2020-08-26T00:31:24.096743Z",
     "shell.execute_reply": "2020-08-26T00:31:24.097266Z"
    },
    "papermill": {
     "duration": 0.283559,
     "end_time": "2020-08-26T00:31:24.097442",
     "exception": false,
     "start_time": "2020-08-26T00:31:23.813883",
     "status": "completed"
    },
    "tags": []
   },
   "outputs": [
    {
     "data": {
      "image/png": "[encoded data removed]",
      "text/plain": [
       "<Figure size 576x504 with 1 Axes>"
      ]
     },
     "metadata": {
      "needs_background": "light"
     },
     "output_type": "display_data"
    }
   ],
   "source": [
    "plt.figure(figsize=(8,7))\n",
    "plt.scatter(plot_testing[:,0], plot_testing[:,1], alpha = 0.1, c = y_test.ravel());"
   ]
  },
  {
   "cell_type": "markdown",
   "metadata": {
    "papermill": {
     "duration": 0.049942,
     "end_time": "2020-08-26T00:31:24.196579",
     "exception": false,
     "start_time": "2020-08-26T00:31:24.146637",
     "status": "completed"
    },
    "tags": []
   },
   "source": [
    "##### Plotting probability contours"
   ]
  },
  {
   "cell_type": "code",
   "execution_count": 28,
   "metadata": {
    "execution": {
     "iopub.execute_input": "2020-08-26T00:31:24.304391Z",
     "iopub.status.busy": "2020-08-26T00:31:24.303195Z",
     "iopub.status.idle": "2020-08-26T00:31:24.314066Z",
     "shell.execute_reply": "2020-08-26T00:31:24.314713Z"
    },
    "papermill": {
     "duration": 0.068876,
     "end_time": "2020-08-26T00:31:24.314857",
     "exception": false,
     "start_time": "2020-08-26T00:31:24.245981",
     "status": "completed"
    },
    "tags": []
   },
   "outputs": [],
   "source": [
    "model_prob = Model(layers[-2:]) ## picking only last two layers to get probability. That is affine followed by sigmoid"
   ]
  },
  {
   "cell_type": "code",
   "execution_count": 29,
   "metadata": {
    "execution": {
     "iopub.execute_input": "2020-08-26T00:31:24.418479Z",
     "iopub.status.busy": "2020-08-26T00:31:24.417832Z",
     "iopub.status.idle": "2020-08-26T00:31:24.430951Z",
     "shell.execute_reply": "2020-08-26T00:31:24.431437Z"
    },
    "papermill": {
     "duration": 0.069854,
     "end_time": "2020-08-26T00:31:24.431589",
     "exception": false,
     "start_time": "2020-08-26T00:31:24.361735",
     "status": "completed"
    },
    "tags": []
   },
   "outputs": [],
   "source": [
    "xgrid = np.linspace(-4, 1, 100) ## Adjust these values based on above chart, roughly -4 to 1\n",
    "ygrid = np.linspace(-7.5, 7.5, 100) ## Adjust these values based on above chart, roughly -7.5, 7.5\n",
    "xg, yg = np.meshgrid(xgrid, ygrid)\n",
    "# xg and yg are now both 100X100, lets convert them to single arrays \n",
    "\n",
    "xg_interim = np.ravel(xg)\n",
    "yg_interim = np.ravel(yg)\n",
    "\n",
    "## xg_interim, yg_interim are now arrays of len 10000, now we will stack them and then transpose to get desired shape of n rows, 2 columns\n",
    "\n",
    "X_interim = np.vstack((xg_interim, yg_interim)) ## Please note vstack takes in a tuple\n",
    "X = X_interim.T\n",
    "\n",
    "## We want a shape of n rows and 2 columns to be able to feed this to last affine\n",
    "## This last affine takes only two columns, hence the above transformation\n",
    "probability_contour = model_prob(X).reshape(100,100) ## to make it consistent with xg, yg"
   ]
  },
  {
   "cell_type": "code",
   "execution_count": 30,
   "metadata": {
    "execution": {
     "iopub.execute_input": "2020-08-26T00:31:24.543749Z",
     "iopub.status.busy": "2020-08-26T00:31:24.543026Z",
     "iopub.status.idle": "2020-08-26T00:31:24.810685Z",
     "shell.execute_reply": "2020-08-26T00:31:24.809868Z"
    },
    "papermill": {
     "duration": 0.324005,
     "end_time": "2020-08-26T00:31:24.810829",
     "exception": false,
     "start_time": "2020-08-26T00:31:24.486824",
     "status": "completed"
    },
    "tags": []
   },
   "outputs": [
    {
     "data": {
      "image/png": "[encoded data removed]",
      "text/plain": [
       "<Figure size 576x504 with 1 Axes>"
      ]
     },
     "metadata": {
      "needs_background": "light"
     },
     "output_type": "display_data"
    }
   ],
   "source": [
    "plt.figure(figsize=(8,7))\n",
    "plt.scatter(plot_testing[:,0], plot_testing[:,1], alpha = 0.1, c = y_test.ravel())\n",
    "contours = plt.contour(xg,yg,probability_contour)\n",
    "plt.clabel(contours, inline = True );"
   ]
  }
 ],
 "metadata": {
  "kernelspec": {
   "display_name": "Python 3",
   "language": "python",
   "name": "python3"
  },
  "language_info": {
   "codemirror_mode": {
    "name": "ipython",
    "version": 3
   },
   "file_extension": ".py",
   "mimetype": "text/x-python",
   "name": "python",
   "nbconvert_exporter": "python",
   "pygments_lexer": "ipython3",
   "version": "3.6.11"
  },
  "papermill": {
   "duration": 151.381597,
   "end_time": "2020-08-26T00:31:26.021512",
   "environment_variables": {},
   "exception": null,
   "input_path": "2020-08-07-NN-new.ipynb",
   "output_path": "2020-08-07-NN-new.ipynb",
   "parameters": {},
   "start_time": "2020-08-26T00:28:54.639915",
   "version": "2.1.2"
  }
 },
 "nbformat": 4,
 "nbformat_minor": 4
}