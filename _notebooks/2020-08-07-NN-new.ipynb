{
 "cells": [
  {
   "cell_type": "markdown",
   "metadata": {
    "papermill": {
     "duration": 0.033801,
     "end_time": "2020-08-19T20:12:34.277736",
     "exception": false,
     "start_time": "2020-08-19T20:12:34.243935",
     "status": "completed"
    },
    "tags": []
   },
   "source": [
    "# \"Building a basic Neural Network from scratch - Kudzu\"\n",
    "\n",
    "- badges: true\n",
    "- author: Anshuman Gupta"
   ]
  },
  {
   "cell_type": "markdown",
   "metadata": {
    "papermill": {
     "duration": 0.027883,
     "end_time": "2020-08-19T20:12:34.334141",
     "exception": false,
     "start_time": "2020-08-19T20:12:34.306258",
     "status": "completed"
    },
    "tags": []
   },
   "source": [
    "#### In this project, the idea is to write a classifier to differentiate between handwritten digits 3 and 8, from the MNIST database.\n",
    "\n",
    "#### I will using a custom built neural network library called Kudzu.This has been developed as a part of KTF/Foundations course of Univ.ai (www.univ.ai). The source code for Kudzu Library and and this notebook can be found on my git-hub profile : www.https://github.com/anshuman6 under the folder project-solution. Any feedback and comments are welcome. Please feel free to email me at: anshuman6@gmail.com\n",
    "\n",
    "#### 1. I will be using the MNIST database. \n",
    "\n",
    "#### 2. I will be comparing the results of the 4 layer NN to a standard logistic regression"
   ]
  },
  {
   "cell_type": "markdown",
   "metadata": {
    "papermill": {
     "duration": 0.028168,
     "end_time": "2020-08-19T20:12:34.390092",
     "exception": false,
     "start_time": "2020-08-19T20:12:34.361924",
     "status": "completed"
    },
    "tags": []
   },
   "source": [
    "##### Importing all the necessary libraries"
   ]
  },
  {
   "cell_type": "code",
   "execution_count": 1,
   "metadata": {
    "execution": {
     "iopub.execute_input": "2020-08-19T20:12:34.453422Z",
     "iopub.status.busy": "2020-08-19T20:12:34.452762Z",
     "iopub.status.idle": "2020-08-19T20:12:34.463412Z",
     "shell.execute_reply": "2020-08-19T20:12:34.463954Z"
    },
    "papermill": {
     "duration": 0.044273,
     "end_time": "2020-08-19T20:12:34.464112",
     "exception": false,
     "start_time": "2020-08-19T20:12:34.419839",
     "status": "completed"
    },
    "tags": []
   },
   "outputs": [],
   "source": [
    "%load_ext autoreload\n",
    "%autoreload 2"
   ]
  },
  {
   "cell_type": "code",
   "execution_count": 2,
   "metadata": {
    "execution": {
     "iopub.execute_input": "2020-08-19T20:12:34.527337Z",
     "iopub.status.busy": "2020-08-19T20:12:34.526675Z",
     "iopub.status.idle": "2020-08-19T20:12:35.070768Z",
     "shell.execute_reply": "2020-08-19T20:12:35.069966Z"
    },
    "papermill": {
     "duration": 0.579138,
     "end_time": "2020-08-19T20:12:35.070918",
     "exception": false,
     "start_time": "2020-08-19T20:12:34.491780",
     "status": "completed"
    },
    "tags": []
   },
   "outputs": [],
   "source": [
    "%matplotlib inline\n",
    "import numpy as np\n",
    "import matplotlib.pyplot as plt\n",
    "import pandas as pd"
   ]
  },
  {
   "cell_type": "markdown",
   "metadata": {
    "papermill": {
     "duration": 0.029632,
     "end_time": "2020-08-19T20:12:35.129712",
     "exception": false,
     "start_time": "2020-08-19T20:12:35.100080",
     "status": "completed"
    },
    "tags": []
   },
   "source": [
    "##### The following command helps us download MNIST from notebook itself. You can skip this if you already have MNIST. You can also download it via your terminal."
   ]
  },
  {
   "cell_type": "code",
   "execution_count": 3,
   "metadata": {
    "execution": {
     "iopub.execute_input": "2020-08-19T20:12:35.194567Z",
     "iopub.status.busy": "2020-08-19T20:12:35.193923Z",
     "iopub.status.idle": "2020-08-19T20:12:36.944967Z",
     "shell.execute_reply": "2020-08-19T20:12:36.945458Z"
    },
    "papermill": {
     "duration": 1.788718,
     "end_time": "2020-08-19T20:12:36.945617",
     "exception": false,
     "start_time": "2020-08-19T20:12:35.156899",
     "status": "completed"
    },
    "tags": []
   },
   "outputs": [
    {
     "name": "stdout",
     "output_type": "stream",
     "text": [
      "Collecting mnist\r\n"
     ]
    },
    {
     "name": "stdout",
     "output_type": "stream",
     "text": [
      "  Downloading mnist-0.2.2-py2.py3-none-any.whl (3.5 kB)\r\n"
     ]
    },
    {
     "name": "stdout",
     "output_type": "stream",
     "text": [
      "Requirement already satisfied: numpy in /opt/hostedtoolcache/Python/3.6.11/x64/lib/python3.6/site-packages (from mnist) (1.19.1)\r\n"
     ]
    },
    {
     "name": "stdout",
     "output_type": "stream",
     "text": [
      "Installing collected packages: mnist\r\n"
     ]
    },
    {
     "name": "stdout",
     "output_type": "stream",
     "text": [
      "Successfully installed mnist-0.2.2\r\n"
     ]
    },
    {
     "name": "stdout",
     "output_type": "stream",
     "text": [
      "\u001b[33mWARNING: You are using pip version 20.2.1; however, version 20.2.2 is available.\r\n",
      "You should consider upgrading via the '/opt/hostedtoolcache/Python/3.6.11/x64/bin/python -m pip install --upgrade pip' command.\u001b[0m\r\n"
     ]
    }
   ],
   "source": [
    "!pip install mnist # Please note, it is commented out for now, you can remove comment if you want to install it"
   ]
  },
  {
   "cell_type": "markdown",
   "metadata": {
    "papermill": {
     "duration": 0.028296,
     "end_time": "2020-08-19T20:12:37.002404",
     "exception": false,
     "start_time": "2020-08-19T20:12:36.974108",
     "status": "completed"
    },
    "tags": []
   },
   "source": [
    "#### Preparing the Data"
   ]
  },
  {
   "cell_type": "code",
   "execution_count": 4,
   "metadata": {
    "execution": {
     "iopub.execute_input": "2020-08-19T20:12:37.067464Z",
     "iopub.status.busy": "2020-08-19T20:12:37.066884Z",
     "iopub.status.idle": "2020-08-19T20:12:37.079802Z",
     "shell.execute_reply": "2020-08-19T20:12:37.080278Z"
    },
    "papermill": {
     "duration": 0.0497,
     "end_time": "2020-08-19T20:12:37.080425",
     "exception": false,
     "start_time": "2020-08-19T20:12:37.030725",
     "status": "completed"
    },
    "tags": []
   },
   "outputs": [],
   "source": [
    "import mnist"
   ]
  },
  {
   "cell_type": "code",
   "execution_count": 5,
   "metadata": {
    "execution": {
     "iopub.execute_input": "2020-08-19T20:12:37.142811Z",
     "iopub.status.busy": "2020-08-19T20:12:37.142168Z",
     "iopub.status.idle": "2020-08-19T20:12:38.820895Z",
     "shell.execute_reply": "2020-08-19T20:12:38.819811Z"
    },
    "papermill": {
     "duration": 1.712103,
     "end_time": "2020-08-19T20:12:38.821059",
     "exception": false,
     "start_time": "2020-08-19T20:12:37.108956",
     "status": "completed"
    },
    "tags": []
   },
   "outputs": [],
   "source": [
    "train_images = mnist.train_images()\n",
    "train_labels = mnist.train_labels()"
   ]
  },
  {
   "cell_type": "code",
   "execution_count": 6,
   "metadata": {
    "execution": {
     "iopub.execute_input": "2020-08-19T20:12:38.890628Z",
     "iopub.status.busy": "2020-08-19T20:12:38.883895Z",
     "iopub.status.idle": "2020-08-19T20:12:38.898129Z",
     "shell.execute_reply": "2020-08-19T20:12:38.898672Z"
    },
    "papermill": {
     "duration": 0.048334,
     "end_time": "2020-08-19T20:12:38.898825",
     "exception": false,
     "start_time": "2020-08-19T20:12:38.850491",
     "status": "completed"
    },
    "tags": []
   },
   "outputs": [
    {
     "data": {
      "text/plain": [
       "((60000, 28, 28), (60000,))"
      ]
     },
     "execution_count": 6,
     "metadata": {},
     "output_type": "execute_result"
    }
   ],
   "source": [
    "train_images.shape, train_labels.shape"
   ]
  },
  {
   "cell_type": "code",
   "execution_count": 7,
   "metadata": {
    "execution": {
     "iopub.execute_input": "2020-08-19T20:12:38.964895Z",
     "iopub.status.busy": "2020-08-19T20:12:38.964271Z",
     "iopub.status.idle": "2020-08-19T20:12:39.826287Z",
     "shell.execute_reply": "2020-08-19T20:12:39.826776Z"
    },
    "papermill": {
     "duration": 0.896466,
     "end_time": "2020-08-19T20:12:39.826937",
     "exception": false,
     "start_time": "2020-08-19T20:12:38.930471",
     "status": "completed"
    },
    "tags": []
   },
   "outputs": [],
   "source": [
    "test_images = mnist.test_images()\n",
    "test_labels = mnist.test_labels()"
   ]
  },
  {
   "cell_type": "code",
   "execution_count": 8,
   "metadata": {
    "execution": {
     "iopub.execute_input": "2020-08-19T20:12:39.892304Z",
     "iopub.status.busy": "2020-08-19T20:12:39.891562Z",
     "iopub.status.idle": "2020-08-19T20:12:39.902112Z",
     "shell.execute_reply": "2020-08-19T20:12:39.902673Z"
    },
    "papermill": {
     "duration": 0.047337,
     "end_time": "2020-08-19T20:12:39.902813",
     "exception": false,
     "start_time": "2020-08-19T20:12:39.855476",
     "status": "completed"
    },
    "tags": []
   },
   "outputs": [
    {
     "data": {
      "text/plain": [
       "((10000, 28, 28), (10000,))"
      ]
     },
     "execution_count": 8,
     "metadata": {},
     "output_type": "execute_result"
    }
   ],
   "source": [
    "test_images.shape, test_labels.shape"
   ]
  },
  {
   "cell_type": "code",
   "execution_count": 9,
   "metadata": {
    "execution": {
     "iopub.execute_input": "2020-08-19T20:12:39.971126Z",
     "iopub.status.busy": "2020-08-19T20:12:39.970454Z",
     "iopub.status.idle": "2020-08-19T20:12:40.136474Z",
     "shell.execute_reply": "2020-08-19T20:12:40.137021Z"
    },
    "papermill": {
     "duration": 0.202748,
     "end_time": "2020-08-19T20:12:40.137222",
     "exception": false,
     "start_time": "2020-08-19T20:12:39.934474",
     "status": "completed"
    },
    "tags": []
   },
   "outputs": [
    {
     "name": "stdout",
     "output_type": "stream",
     "text": [
      "2\n"
     ]
    },
    {
     "data": {
      "text/plain": [
       "<matplotlib.image.AxesImage at 0x7faa1d37f240>"
      ]
     },
     "execution_count": 9,
     "metadata": {},
     "output_type": "execute_result"
    },
    {
     "data": {
      "image/png": "[encoded data removed]",
      "text/plain": [
       "<Figure size 432x288 with 1 Axes>"
      ]
     },
     "metadata": {
      "needs_background": "light"
     },
     "output_type": "display_data"
    }
   ],
   "source": [
    "image_index = 7776 # You may select anything up to 60,000\n",
    "print(train_labels[image_index]) \n",
    "plt.imshow(train_images[image_index], cmap='Greys')"
   ]
  },
  {
   "cell_type": "markdown",
   "metadata": {
    "papermill": {
     "duration": 0.03217,
     "end_time": "2020-08-19T20:12:40.203615",
     "exception": false,
     "start_time": "2020-08-19T20:12:40.171445",
     "status": "completed"
    },
    "tags": []
   },
   "source": [
    "## Filter data to get 3 and 8 out"
   ]
  },
  {
   "cell_type": "code",
   "execution_count": 10,
   "metadata": {
    "execution": {
     "iopub.execute_input": "2020-08-19T20:12:40.270456Z",
     "iopub.status.busy": "2020-08-19T20:12:40.269381Z",
     "iopub.status.idle": "2020-08-19T20:12:40.290453Z",
     "shell.execute_reply": "2020-08-19T20:12:40.289849Z"
    },
    "papermill": {
     "duration": 0.055989,
     "end_time": "2020-08-19T20:12:40.290609",
     "exception": false,
     "start_time": "2020-08-19T20:12:40.234620",
     "status": "completed"
    },
    "tags": []
   },
   "outputs": [],
   "source": [
    "train_filter = np.where((train_labels == 3 ) | (train_labels == 8))\n",
    "test_filter = np.where((test_labels == 3) | (test_labels == 8))\n",
    "X_train, y_train = train_images[train_filter], train_labels[train_filter]\n",
    "X_test, y_test = test_images[test_filter], test_labels[test_filter]"
   ]
  },
  {
   "cell_type": "markdown",
   "metadata": {
    "papermill": {
     "duration": 0.030808,
     "end_time": "2020-08-19T20:12:40.354896",
     "exception": false,
     "start_time": "2020-08-19T20:12:40.324088",
     "status": "completed"
    },
    "tags": []
   },
   "source": [
    "##### We normalize the pizel values in the 0 to 1 range"
   ]
  },
  {
   "cell_type": "code",
   "execution_count": 11,
   "metadata": {
    "execution": {
     "iopub.execute_input": "2020-08-19T20:12:40.424812Z",
     "iopub.status.busy": "2020-08-19T20:12:40.424171Z",
     "iopub.status.idle": "2020-08-19T20:12:40.486271Z",
     "shell.execute_reply": "2020-08-19T20:12:40.486841Z"
    },
    "papermill": {
     "duration": 0.099659,
     "end_time": "2020-08-19T20:12:40.487020",
     "exception": false,
     "start_time": "2020-08-19T20:12:40.387361",
     "status": "completed"
    },
    "tags": []
   },
   "outputs": [],
   "source": [
    "X_train = X_train/255.\n",
    "X_test = X_test/255."
   ]
  },
  {
   "cell_type": "markdown",
   "metadata": {
    "papermill": {
     "duration": 0.032742,
     "end_time": "2020-08-19T20:12:40.551904",
     "exception": false,
     "start_time": "2020-08-19T20:12:40.519162",
     "status": "completed"
    },
    "tags": []
   },
   "source": [
    "And setup the labels as 1 (when the digit is 3) and 0 (when the digit is 8)"
   ]
  },
  {
   "cell_type": "code",
   "execution_count": 12,
   "metadata": {
    "execution": {
     "iopub.execute_input": "2020-08-19T20:12:40.629395Z",
     "iopub.status.busy": "2020-08-19T20:12:40.620133Z",
     "iopub.status.idle": "2020-08-19T20:12:40.632178Z",
     "shell.execute_reply": "2020-08-19T20:12:40.632833Z"
    },
    "papermill": {
     "duration": 0.049491,
     "end_time": "2020-08-19T20:12:40.633001",
     "exception": false,
     "start_time": "2020-08-19T20:12:40.583510",
     "status": "completed"
    },
    "tags": []
   },
   "outputs": [],
   "source": [
    "y_train = 1*(y_train==3)\n",
    "y_test = 1*(y_test==3)"
   ]
  },
  {
   "cell_type": "code",
   "execution_count": 13,
   "metadata": {
    "execution": {
     "iopub.execute_input": "2020-08-19T20:12:40.710843Z",
     "iopub.status.busy": "2020-08-19T20:12:40.704091Z",
     "iopub.status.idle": "2020-08-19T20:12:40.714156Z",
     "shell.execute_reply": "2020-08-19T20:12:40.714696Z"
    },
    "papermill": {
     "duration": 0.050584,
     "end_time": "2020-08-19T20:12:40.714856",
     "exception": false,
     "start_time": "2020-08-19T20:12:40.664272",
     "status": "completed"
    },
    "tags": []
   },
   "outputs": [
    {
     "data": {
      "text/plain": [
       "((11982, 28, 28), (1984, 28, 28))"
      ]
     },
     "execution_count": 13,
     "metadata": {},
     "output_type": "execute_result"
    }
   ],
   "source": [
    "X_train.shape, X_test.shape"
   ]
  },
  {
   "cell_type": "markdown",
   "metadata": {
    "papermill": {
     "duration": 0.031898,
     "end_time": "2020-08-19T20:12:40.778994",
     "exception": false,
     "start_time": "2020-08-19T20:12:40.747096",
     "status": "completed"
    },
    "tags": []
   },
   "source": [
    "##### We reshape the data to flatten the image pixels into a set of features or co-variates:"
   ]
  },
  {
   "cell_type": "code",
   "execution_count": 14,
   "metadata": {
    "execution": {
     "iopub.execute_input": "2020-08-19T20:12:40.847488Z",
     "iopub.status.busy": "2020-08-19T20:12:40.846813Z",
     "iopub.status.idle": "2020-08-19T20:12:40.860505Z",
     "shell.execute_reply": "2020-08-19T20:12:40.861262Z"
    },
    "papermill": {
     "duration": 0.050934,
     "end_time": "2020-08-19T20:12:40.861408",
     "exception": false,
     "start_time": "2020-08-19T20:12:40.810474",
     "status": "completed"
    },
    "tags": []
   },
   "outputs": [
    {
     "data": {
      "text/plain": [
       "((11982, 784), (1984, 784))"
      ]
     },
     "execution_count": 14,
     "metadata": {},
     "output_type": "execute_result"
    }
   ],
   "source": [
    "X_train = X_train.reshape(X_train.shape[0], -1)\n",
    "X_test = X_test.reshape(X_test.shape[0], -1)\n",
    "X_train.shape, X_test.shape"
   ]
  },
  {
   "cell_type": "markdown",
   "metadata": {
    "papermill": {
     "duration": 0.033177,
     "end_time": "2020-08-19T20:12:40.927348",
     "exception": false,
     "start_time": "2020-08-19T20:12:40.894171",
     "status": "completed"
    },
    "tags": []
   },
   "source": [
    "##### Importing Kudzu library and its functionality"
   ]
  },
  {
   "cell_type": "code",
   "execution_count": 15,
   "metadata": {
    "execution": {
     "iopub.execute_input": "2020-08-19T20:12:41.008861Z",
     "iopub.status.busy": "2020-08-19T20:12:41.002497Z",
     "iopub.status.idle": "2020-08-19T20:12:41.018065Z",
     "shell.execute_reply": "2020-08-19T20:12:41.018589Z"
    },
    "papermill": {
     "duration": 0.058897,
     "end_time": "2020-08-19T20:12:41.018737",
     "exception": false,
     "start_time": "2020-08-19T20:12:40.959840",
     "status": "completed"
    },
    "tags": []
   },
   "outputs": [],
   "source": [
    "from kudzu.data import Data, Dataloader, Sampler\n",
    "from kudzu.callbacks import AccCallback\n",
    "from kudzu.loss import MSE\n",
    "from kudzu.layer import Affine, Sigmoid\n",
    "from kudzu.model import Model\n",
    "from kudzu.optim import GD\n",
    "from kudzu.train import Learner\n",
    "from kudzu.callbacks import ClfCallback\n",
    "from kudzu.layer import Sigmoid\n",
    "from kudzu.layer import Relu"
   ]
  },
  {
   "cell_type": "markdown",
   "metadata": {
    "papermill": {
     "duration": 0.031259,
     "end_time": "2020-08-19T20:12:41.081154",
     "exception": false,
     "start_time": "2020-08-19T20:12:41.049895",
     "status": "completed"
    },
    "tags": []
   },
   "source": [
    "##### We are creating a class, just so that we can use it to store our parameters for us"
   ]
  },
  {
   "cell_type": "code",
   "execution_count": 16,
   "metadata": {
    "execution": {
     "iopub.execute_input": "2020-08-19T20:12:41.160902Z",
     "iopub.status.busy": "2020-08-19T20:12:41.154668Z",
     "iopub.status.idle": "2020-08-19T20:12:41.163394Z",
     "shell.execute_reply": "2020-08-19T20:12:41.163862Z"
    },
    "papermill": {
     "duration": 0.05166,
     "end_time": "2020-08-19T20:12:41.164008",
     "exception": false,
     "start_time": "2020-08-19T20:12:41.112348",
     "status": "completed"
    },
    "tags": []
   },
   "outputs": [],
   "source": [
    "class Config:\n",
    "    pass\n",
    "config = Config()\n",
    "config.lr = 0.001\n",
    "config.num_epochs = 250\n",
    "config.bs = 50"
   ]
  },
  {
   "cell_type": "markdown",
   "metadata": {
    "papermill": {
     "duration": 0.03252,
     "end_time": "2020-08-19T20:12:41.229438",
     "exception": false,
     "start_time": "2020-08-19T20:12:41.196918",
     "status": "completed"
    },
    "tags": []
   },
   "source": [
    "##### Initializing Data"
   ]
  },
  {
   "cell_type": "code",
   "execution_count": 17,
   "metadata": {
    "execution": {
     "iopub.execute_input": "2020-08-19T20:12:41.314224Z",
     "iopub.status.busy": "2020-08-19T20:12:41.313328Z",
     "iopub.status.idle": "2020-08-19T20:12:41.320613Z",
     "shell.execute_reply": "2020-08-19T20:12:41.320041Z"
    },
    "papermill": {
     "duration": 0.057696,
     "end_time": "2020-08-19T20:12:41.320756",
     "exception": false,
     "start_time": "2020-08-19T20:12:41.263060",
     "status": "completed"
    },
    "tags": []
   },
   "outputs": [],
   "source": [
    "data = Data(X_train, y_train.reshape(-1,1))\n",
    "loss = MSE()\n",
    "opt = GD(config.lr)\n",
    "sampler = Sampler(data, config.bs, shuffle=True)\n",
    "dl = Dataloader(data, sampler)"
   ]
  },
  {
   "cell_type": "markdown",
   "metadata": {
    "papermill": {
     "duration": 0.030976,
     "end_time": "2020-08-19T20:12:41.385249",
     "exception": false,
     "start_time": "2020-08-19T20:12:41.354273",
     "status": "completed"
    },
    "tags": []
   },
   "source": [
    "##### Constructing 2 different layers, one for NN and one only for logistic regression."
   ]
  },
  {
   "cell_type": "markdown",
   "metadata": {
    "papermill": {
     "duration": 0.031957,
     "end_time": "2020-08-19T20:12:41.448497",
     "exception": false,
     "start_time": "2020-08-19T20:12:41.416540",
     "status": "completed"
    },
    "tags": []
   },
   "source": [
    "##### Creating containers for data to be passed, to calculate accuracies"
   ]
  },
  {
   "cell_type": "code",
   "execution_count": 18,
   "metadata": {
    "execution": {
     "iopub.execute_input": "2020-08-19T20:12:41.521526Z",
     "iopub.status.busy": "2020-08-19T20:12:41.520904Z",
     "iopub.status.idle": "2020-08-19T20:12:41.530285Z",
     "shell.execute_reply": "2020-08-19T20:12:41.530847Z"
    },
    "papermill": {
     "duration": 0.049885,
     "end_time": "2020-08-19T20:12:41.530992",
     "exception": false,
     "start_time": "2020-08-19T20:12:41.481107",
     "status": "completed"
    },
    "tags": []
   },
   "outputs": [],
   "source": [
    "training_xdata = X_train\n",
    "testing_xdata = X_test\n",
    "training_ydata = y_train.reshape(-1,1)\n",
    "testing_ydata = y_test.reshape(-1,1)"
   ]
  },
  {
   "cell_type": "markdown",
   "metadata": {
    "papermill": {
     "duration": 0.03093,
     "end_time": "2020-08-19T20:12:41.594064",
     "exception": false,
     "start_time": "2020-08-19T20:12:41.563134",
     "status": "completed"
    },
    "tags": []
   },
   "source": [
    "##### Initializing models and Running training loop: "
   ]
  },
  {
   "cell_type": "code",
   "execution_count": 19,
   "metadata": {
    "execution": {
     "iopub.execute_input": "2020-08-19T20:12:41.664985Z",
     "iopub.status.busy": "2020-08-19T20:12:41.664340Z",
     "iopub.status.idle": "2020-08-19T20:12:41.680737Z",
     "shell.execute_reply": "2020-08-19T20:12:41.681298Z"
    },
    "papermill": {
     "duration": 0.055187,
     "end_time": "2020-08-19T20:12:41.681451",
     "exception": false,
     "start_time": "2020-08-19T20:12:41.626264",
     "status": "completed"
    },
    "tags": []
   },
   "outputs": [],
   "source": [
    "layers = [Affine(\"first\", 784, 100), Relu(\"first\"), Affine(\"second\", 100, 100), Relu(\"second\"), Affine(\"third\", 100, 2), Affine(\"final\", 2, 1), Sigmoid(\"final\")]\n",
    "\n",
    "model_neural = Model(layers)\n",
    "model_logistic = Model([Affine(\"logits\", 784, 1), Sigmoid(\"sigmoid\")])"
   ]
  },
  {
   "cell_type": "code",
   "execution_count": 20,
   "metadata": {
    "execution": {
     "iopub.execute_input": "2020-08-19T20:12:41.753158Z",
     "iopub.status.busy": "2020-08-19T20:12:41.752496Z",
     "iopub.status.idle": "2020-08-19T20:12:41.761697Z",
     "shell.execute_reply": "2020-08-19T20:12:41.762299Z"
    },
    "papermill": {
     "duration": 0.050097,
     "end_time": "2020-08-19T20:12:41.762445",
     "exception": false,
     "start_time": "2020-08-19T20:12:41.712348",
     "status": "completed"
    },
    "tags": []
   },
   "outputs": [],
   "source": [
    "learner1 = Learner(loss, model_neural, opt, config.num_epochs)\n",
    "acc1 = ClfCallback(learner1, config.bs, training_xdata , testing_xdata, training_ydata, testing_ydata)\n",
    "learner1.set_callbacks([acc1])"
   ]
  },
  {
   "cell_type": "code",
   "execution_count": 21,
   "metadata": {
    "execution": {
     "iopub.execute_input": "2020-08-19T20:12:41.841454Z",
     "iopub.status.busy": "2020-08-19T20:12:41.835321Z",
     "iopub.status.idle": "2020-08-19T20:14:41.025711Z",
     "shell.execute_reply": "2020-08-19T20:14:41.026355Z"
    },
    "papermill": {
     "duration": 119.23211,
     "end_time": "2020-08-19T20:14:41.026517",
     "exception": false,
     "start_time": "2020-08-19T20:12:41.794407",
     "status": "completed"
    },
    "tags": []
   },
   "outputs": [
    {
     "name": "stdout",
     "output_type": "stream",
     "text": [
      "Epoch 0 Loss 0.2467866264171911\n",
      "train accuracy is: 0.5903021198464363, test accuracy is 0.6018145161290323\n"
     ]
    },
    {
     "name": "stdout",
     "output_type": "stream",
     "text": [
      "Epoch 10 Loss 0.17268028932766274\n",
      "train accuracy is: 0.8897512936070773, test accuracy is 0.9042338709677419\n"
     ]
    },
    {
     "name": "stdout",
     "output_type": "stream",
     "text": [
      "Epoch 20 Loss 0.08239338887673939\n",
      "train accuracy is: 0.9222166583208146, test accuracy is 0.9390120967741935\n"
     ]
    },
    {
     "name": "stdout",
     "output_type": "stream",
     "text": [
      "Epoch 30 Loss 0.05419492908814191\n",
      "train accuracy is: 0.9419963278250709, test accuracy is 0.9571572580645161\n"
     ]
    },
    {
     "name": "stdout",
     "output_type": "stream",
     "text": [
      "Epoch 40 Loss 0.04332306524192448\n",
      "train accuracy is: 0.9520948088799867, test accuracy is 0.9642137096774194\n"
     ]
    },
    {
     "name": "stdout",
     "output_type": "stream",
     "text": [
      "Epoch 50 Loss 0.037794427181938935\n",
      "train accuracy is: 0.957102320146887, test accuracy is 0.9667338709677419\n"
     ]
    },
    {
     "name": "stdout",
     "output_type": "stream",
     "text": [
      "Epoch 60 Loss 0.03441725468096087\n",
      "train accuracy is: 0.9604406609914873, test accuracy is 0.9702620967741935\n"
     ]
    },
    {
     "name": "stdout",
     "output_type": "stream",
     "text": [
      "Epoch 70 Loss 0.03209025970189859\n",
      "train accuracy is: 0.9633617092305125, test accuracy is 0.9707661290322581\n"
     ]
    },
    {
     "name": "stdout",
     "output_type": "stream",
     "text": [
      "Epoch 80 Loss 0.030369786913573154\n",
      "train accuracy is: 0.9651977966950426, test accuracy is 0.9717741935483871\n"
     ]
    },
    {
     "name": "stdout",
     "output_type": "stream",
     "text": [
      "Epoch 90 Loss 0.029014766342942623\n",
      "train accuracy is: 0.9667835085962276, test accuracy is 0.9722782258064516\n"
     ]
    },
    {
     "name": "stdout",
     "output_type": "stream",
     "text": [
      "Epoch 100 Loss 0.027912017218991024\n",
      "train accuracy is: 0.9676180938073777, test accuracy is 0.9717741935483871\n"
     ]
    },
    {
     "name": "stdout",
     "output_type": "stream",
     "text": [
      "Epoch 110 Loss 0.02698390949363289\n",
      "train accuracy is: 0.9688699716241028, test accuracy is 0.9717741935483871\n"
     ]
    },
    {
     "name": "stdout",
     "output_type": "stream",
     "text": [
      "Epoch 120 Loss 0.026180331430463458\n",
      "train accuracy is: 0.9698714738774828, test accuracy is 0.9707661290322581\n"
     ]
    },
    {
     "name": "stdout",
     "output_type": "stream",
     "text": [
      "Epoch 130 Loss 0.025462587599037245\n",
      "train accuracy is: 0.970956434651978, test accuracy is 0.9712701612903226\n"
     ]
    },
    {
     "name": "stdout",
     "output_type": "stream",
     "text": [
      "Epoch 140 Loss 0.024820797568656804\n",
      "train accuracy is: 0.971707561342013, test accuracy is 0.9717741935483871\n"
     ]
    },
    {
     "name": "stdout",
     "output_type": "stream",
     "text": [
      "Epoch 150 Loss 0.02423142402440807\n",
      "train accuracy is: 0.972458688032048, test accuracy is 0.9712701612903226\n"
     ]
    },
    {
     "name": "stdout",
     "output_type": "stream",
     "text": [
      "Epoch 160 Loss 0.023698574341075564\n",
      "train accuracy is: 0.972458688032048, test accuracy is 0.9717741935483871\n"
     ]
    },
    {
     "name": "stdout",
     "output_type": "stream",
     "text": [
      "Epoch 170 Loss 0.02319841313669878\n",
      "train accuracy is: 0.9729594391587381, test accuracy is 0.9712701612903226\n"
     ]
    },
    {
     "name": "stdout",
     "output_type": "stream",
     "text": [
      "Epoch 180 Loss 0.022737353050942506\n",
      "train accuracy is: 0.9734601902854282, test accuracy is 0.9712701612903226\n"
     ]
    },
    {
     "name": "stdout",
     "output_type": "stream",
     "text": [
      "Epoch 190 Loss 0.022293911663463076\n",
      "train accuracy is: 0.9737940243698882, test accuracy is 0.9712701612903226\n"
     ]
    },
    {
     "name": "stdout",
     "output_type": "stream",
     "text": [
      "Epoch 200 Loss 0.021878537049494842\n",
      "train accuracy is: 0.9748789851443832, test accuracy is 0.9712701612903226\n"
     ]
    },
    {
     "name": "stdout",
     "output_type": "stream",
     "text": [
      "Epoch 210 Loss 0.021485434733120867\n",
      "train accuracy is: 0.9747955266232682, test accuracy is 0.9717741935483871\n"
     ]
    },
    {
     "name": "stdout",
     "output_type": "stream",
     "text": [
      "Epoch 220 Loss 0.02111174920332861\n",
      "train accuracy is: 0.9757135703555333, test accuracy is 0.9727822580645161\n"
     ]
    },
    {
     "name": "stdout",
     "output_type": "stream",
     "text": [
      "Epoch 230 Loss 0.020760554272191166\n",
      "train accuracy is: 0.9763812385244534, test accuracy is 0.9727822580645161\n"
     ]
    },
    {
     "name": "stdout",
     "output_type": "stream",
     "text": [
      "Epoch 240 Loss 0.020418273726746275\n",
      "train accuracy is: 0.9767985311300283, test accuracy is 0.9727822580645161\n"
     ]
    },
    {
     "data": {
      "text/plain": [
       "0.04023349319956077"
      ]
     },
     "execution_count": 21,
     "metadata": {},
     "output_type": "execute_result"
    }
   ],
   "source": [
    "learner1.train_loop(dl)"
   ]
  },
  {
   "cell_type": "markdown",
   "metadata": {
    "papermill": {
     "duration": 0.040525,
     "end_time": "2020-08-19T20:14:41.109705",
     "exception": false,
     "start_time": "2020-08-19T20:14:41.069180",
     "status": "completed"
    },
    "tags": []
   },
   "source": [
    "##### Now running only the logistic regression based classification to compare results with NN"
   ]
  },
  {
   "cell_type": "code",
   "execution_count": 22,
   "metadata": {
    "execution": {
     "iopub.execute_input": "2020-08-19T20:14:41.199642Z",
     "iopub.status.busy": "2020-08-19T20:14:41.198989Z",
     "iopub.status.idle": "2020-08-19T20:14:41.209442Z",
     "shell.execute_reply": "2020-08-19T20:14:41.209979Z"
    },
    "papermill": {
     "duration": 0.058813,
     "end_time": "2020-08-19T20:14:41.210151",
     "exception": false,
     "start_time": "2020-08-19T20:14:41.151338",
     "status": "completed"
    },
    "tags": []
   },
   "outputs": [],
   "source": [
    "learner2 = Learner(loss, model_logistic, opt, config.num_epochs)\n",
    "acc2 = ClfCallback(learner2, config.bs, training_xdata , testing_xdata, training_ydata, testing_ydata)\n",
    "learner2.set_callbacks([acc2])"
   ]
  },
  {
   "cell_type": "code",
   "execution_count": 23,
   "metadata": {
    "execution": {
     "iopub.execute_input": "2020-08-19T20:14:41.300101Z",
     "iopub.status.busy": "2020-08-19T20:14:41.298729Z",
     "iopub.status.idle": "2020-08-19T20:14:58.967454Z",
     "shell.execute_reply": "2020-08-19T20:14:58.968257Z"
    },
    "papermill": {
     "duration": 17.718558,
     "end_time": "2020-08-19T20:14:58.968446",
     "exception": false,
     "start_time": "2020-08-19T20:14:41.249888",
     "status": "completed"
    },
    "tags": []
   },
   "outputs": [
    {
     "name": "stdout",
     "output_type": "stream",
     "text": [
      "Epoch 0 Loss 0.26592408396903544\n",
      "train accuracy is: 0.5777833416791854, test accuracy is 0.5498991935483871\n"
     ]
    },
    {
     "name": "stdout",
     "output_type": "stream",
     "text": [
      "Epoch 10 Loss 0.10554775557490731\n",
      "train accuracy is: 0.9072775830412285, test accuracy is 0.9122983870967742\n"
     ]
    },
    {
     "name": "stdout",
     "output_type": "stream",
     "text": [
      "Epoch 20 Loss 0.0802866080789532\n",
      "train accuracy is: 0.9264730428976798, test accuracy is 0.9380040322580645\n"
     ]
    },
    {
     "name": "stdout",
     "output_type": "stream",
     "text": [
      "Epoch 30 Loss 0.06903102708771058\n",
      "train accuracy is: 0.9341512268402604, test accuracy is 0.9470766129032258\n"
     ]
    },
    {
     "name": "stdout",
     "output_type": "stream",
     "text": [
      "Epoch 40 Loss 0.06233261825354174\n",
      "train accuracy is: 0.9389083625438157, test accuracy is 0.9501008064516129\n"
     ]
    },
    {
     "name": "stdout",
     "output_type": "stream",
     "text": [
      "Epoch 50 Loss 0.05777927066811341\n",
      "train accuracy is: 0.9424970789517609, test accuracy is 0.9536290322580645\n"
     ]
    },
    {
     "name": "stdout",
     "output_type": "stream",
     "text": [
      "Epoch 60 Loss 0.05443548291268427\n",
      "train accuracy is: 0.9455015857119012, test accuracy is 0.9581653225806451\n"
     ]
    },
    {
     "name": "stdout",
     "output_type": "stream",
     "text": [
      "Epoch 70 Loss 0.05184966298402996\n",
      "train accuracy is: 0.9482557169086964, test accuracy is 0.9581653225806451\n"
     ]
    },
    {
     "name": "stdout",
     "output_type": "stream",
     "text": [
      "Epoch 80 Loss 0.04977570720202198\n",
      "train accuracy is: 0.9495910532465365, test accuracy is 0.9596774193548387\n"
     ]
    },
    {
     "name": "stdout",
     "output_type": "stream",
     "text": [
      "Epoch 90 Loss 0.04806174840283725\n",
      "train accuracy is: 0.9509263895843766, test accuracy is 0.9606854838709677\n"
     ]
    },
    {
     "name": "stdout",
     "output_type": "stream",
     "text": [
      "Epoch 100 Loss 0.046617727781675486\n",
      "train accuracy is: 0.9522617259222167, test accuracy is 0.9611895161290323\n"
     ]
    },
    {
     "name": "stdout",
     "output_type": "stream",
     "text": [
      "Epoch 110 Loss 0.045377868232935506\n",
      "train accuracy is: 0.9531797696544817, test accuracy is 0.9621975806451613\n"
     ]
    },
    {
     "name": "stdout",
     "output_type": "stream",
     "text": [
      "Epoch 120 Loss 0.04429815608884938\n",
      "train accuracy is: 0.9540978133867468, test accuracy is 0.9621975806451613\n"
     ]
    },
    {
     "name": "stdout",
     "output_type": "stream",
     "text": [
      "Epoch 130 Loss 0.04334648478086902\n",
      "train accuracy is: 0.9549323985978968, test accuracy is 0.9627016129032258\n"
     ]
    },
    {
     "name": "stdout",
     "output_type": "stream",
     "text": [
      "Epoch 140 Loss 0.04249947942556386\n",
      "train accuracy is: 0.9557669838090469, test accuracy is 0.9632056451612904\n"
     ]
    },
    {
     "name": "stdout",
     "output_type": "stream",
     "text": [
      "Epoch 150 Loss 0.04173923886837083\n",
      "train accuracy is: 0.956685027541312, test accuracy is 0.9642137096774194\n"
     ]
    },
    {
     "name": "stdout",
     "output_type": "stream",
     "text": [
      "Epoch 160 Loss 0.04105165739635252\n",
      "train accuracy is: 0.957519612752462, test accuracy is 0.9652217741935484\n"
     ]
    },
    {
     "name": "stdout",
     "output_type": "stream",
     "text": [
      "Epoch 170 Loss 0.04042554091811234\n",
      "train accuracy is: 0.9581872809213821, test accuracy is 0.9652217741935484\n"
     ]
    },
    {
     "name": "stdout",
     "output_type": "stream",
     "text": [
      "Epoch 180 Loss 0.03985244707451197\n",
      "train accuracy is: 0.9586880320480721, test accuracy is 0.9657258064516129\n"
     ]
    },
    {
     "name": "stdout",
     "output_type": "stream",
     "text": [
      "Epoch 190 Loss 0.03932560683023819\n",
      "train accuracy is: 0.9591053246536472, test accuracy is 0.9657258064516129\n"
     ]
    },
    {
     "name": "stdout",
     "output_type": "stream",
     "text": [
      "Epoch 200 Loss 0.03883767245373803\n",
      "train accuracy is: 0.9591887831747622, test accuracy is 0.9662298387096774\n"
     ]
    },
    {
     "name": "stdout",
     "output_type": "stream",
     "text": [
      "Epoch 210 Loss 0.03838548850251536\n",
      "train accuracy is: 0.9596060757803372, test accuracy is 0.9667338709677419\n"
     ]
    },
    {
     "name": "stdout",
     "output_type": "stream",
     "text": [
      "Epoch 220 Loss 0.037964411669952985\n",
      "train accuracy is: 0.9598564513436821, test accuracy is 0.9672379032258065\n"
     ]
    },
    {
     "name": "stdout",
     "output_type": "stream",
     "text": [
      "Epoch 230 Loss 0.037570231074662\n",
      "train accuracy is: 0.9601068269070272, test accuracy is 0.9672379032258065\n"
     ]
    },
    {
     "name": "stdout",
     "output_type": "stream",
     "text": [
      "Epoch 240 Loss 0.03720109043997655\n",
      "train accuracy is: 0.9607744950759473, test accuracy is 0.9672379032258065\n"
     ]
    },
    {
     "data": {
      "text/plain": [
       "0.03972842189656618"
      ]
     },
     "execution_count": 23,
     "metadata": {},
     "output_type": "execute_result"
    }
   ],
   "source": [
    "learner2.train_loop(dl)"
   ]
  },
  {
   "cell_type": "markdown",
   "metadata": {
    "papermill": {
     "duration": 0.050523,
     "end_time": "2020-08-19T20:14:59.071143",
     "exception": false,
     "start_time": "2020-08-19T20:14:59.020620",
     "status": "completed"
    },
    "tags": []
   },
   "source": [
    "### Comparing results of NN and LR"
   ]
  },
  {
   "cell_type": "code",
   "execution_count": 24,
   "metadata": {
    "execution": {
     "iopub.execute_input": "2020-08-19T20:14:59.176832Z",
     "iopub.status.busy": "2020-08-19T20:14:59.176144Z",
     "iopub.status.idle": "2020-08-19T20:14:59.404328Z",
     "shell.execute_reply": "2020-08-19T20:14:59.404779Z"
    },
    "papermill": {
     "duration": 0.283679,
     "end_time": "2020-08-19T20:14:59.404934",
     "exception": false,
     "start_time": "2020-08-19T20:14:59.121255",
     "status": "completed"
    },
    "tags": []
   },
   "outputs": [
    {
     "data": {
      "text/plain": [
       "<matplotlib.legend.Legend at 0x7faa1cf559b0>"
      ]
     },
     "execution_count": 24,
     "metadata": {},
     "output_type": "execute_result"
    },
    {
     "data": {
      "image/png": "[encoded data removed]",
      "text/plain": [
       "<Figure size 576x360 with 1 Axes>"
      ]
     },
     "metadata": {
      "needs_background": "light"
     },
     "output_type": "display_data"
    }
   ],
   "source": [
    "plt.figure(figsize=(8,5))\n",
    "plt.plot(acc1.val_accuracies, 'g-', label = \"Val Accuracies - NN\")\n",
    "plt.plot(acc1.accuracies, 'r-', label = \"Accuracies - NN\")\n",
    "plt.plot(acc2.val_accuracies, 'b-', label = \"Val Accuracies - Logistic Reg\")\n",
    "plt.plot(acc2.accuracies, 'k-', label = \"Accuracies - Logistic Reg\")\n",
    "plt.ylim(0.8,1) ## for a more spread out view\n",
    "plt.legend()"
   ]
  },
  {
   "cell_type": "markdown",
   "metadata": {
    "papermill": {
     "duration": 0.05363,
     "end_time": "2020-08-19T20:14:59.509440",
     "exception": false,
     "start_time": "2020-08-19T20:14:59.455810",
     "status": "completed"
    },
    "tags": []
   },
   "source": [
    "### Clearly NN has a better accuracy over LR; NN is overfitting - Validation accuracy (green) has dropped below training accuracy (orange), also they are diverging. This problem is not seen in LR"
   ]
  },
  {
   "cell_type": "markdown",
   "metadata": {
    "papermill": {
     "duration": 0.050072,
     "end_time": "2020-08-19T20:14:59.606781",
     "exception": false,
     "start_time": "2020-08-19T20:14:59.556709",
     "status": "completed"
    },
    "tags": []
   },
   "source": [
    "##### Now we will be moving through the network, till the output of the second last affine where we get a 2 dimensional output. We will be plotting this 2d output and probability contours"
   ]
  },
  {
   "cell_type": "code",
   "execution_count": 25,
   "metadata": {
    "execution": {
     "iopub.execute_input": "2020-08-19T20:14:59.715503Z",
     "iopub.status.busy": "2020-08-19T20:14:59.706197Z",
     "iopub.status.idle": "2020-08-19T20:14:59.717747Z",
     "shell.execute_reply": "2020-08-19T20:14:59.718311Z"
    },
    "papermill": {
     "duration": 0.063253,
     "end_time": "2020-08-19T20:14:59.718450",
     "exception": false,
     "start_time": "2020-08-19T20:14:59.655197",
     "status": "completed"
    },
    "tags": []
   },
   "outputs": [],
   "source": [
    "model_new = Model(layers[:-2])"
   ]
  },
  {
   "cell_type": "code",
   "execution_count": 26,
   "metadata": {
    "execution": {
     "iopub.execute_input": "2020-08-19T20:14:59.822246Z",
     "iopub.status.busy": "2020-08-19T20:14:59.821550Z",
     "iopub.status.idle": "2020-08-19T20:14:59.845463Z",
     "shell.execute_reply": "2020-08-19T20:14:59.846185Z"
    },
    "papermill": {
     "duration": 0.080167,
     "end_time": "2020-08-19T20:14:59.846367",
     "exception": false,
     "start_time": "2020-08-19T20:14:59.766200",
     "status": "completed"
    },
    "tags": []
   },
   "outputs": [],
   "source": [
    "plot_testing = model_new(testing_xdata)"
   ]
  },
  {
   "cell_type": "markdown",
   "metadata": {
    "papermill": {
     "duration": 0.051234,
     "end_time": "2020-08-19T20:14:59.949586",
     "exception": false,
     "start_time": "2020-08-19T20:14:59.898352",
     "status": "completed"
    },
    "tags": []
   },
   "source": [
    "##### Plotting the scatter plot of points and color coding by class"
   ]
  },
  {
   "cell_type": "code",
   "execution_count": 27,
   "metadata": {
    "execution": {
     "iopub.execute_input": "2020-08-19T20:15:00.145514Z",
     "iopub.status.busy": "2020-08-19T20:15:00.112143Z",
     "iopub.status.idle": "2020-08-19T20:15:00.310642Z",
     "shell.execute_reply": "2020-08-19T20:15:00.311217Z"
    },
    "papermill": {
     "duration": 0.28808,
     "end_time": "2020-08-19T20:15:00.311383",
     "exception": false,
     "start_time": "2020-08-19T20:15:00.023303",
     "status": "completed"
    },
    "tags": []
   },
   "outputs": [
    {
     "data": {
      "image/png": "[encoded data removed]",
      "text/plain": [
       "<Figure size 576x504 with 1 Axes>"
      ]
     },
     "metadata": {
      "needs_background": "light"
     },
     "output_type": "display_data"
    }
   ],
   "source": [
    "plt.figure(figsize=(8,7))\n",
    "plt.scatter(plot_testing[:,0], plot_testing[:,1], alpha = 0.1, c = y_test.ravel());"
   ]
  },
  {
   "cell_type": "markdown",
   "metadata": {
    "papermill": {
     "duration": 0.054412,
     "end_time": "2020-08-19T20:15:00.423049",
     "exception": false,
     "start_time": "2020-08-19T20:15:00.368637",
     "status": "completed"
    },
    "tags": []
   },
   "source": [
    "##### Plotting probability contours"
   ]
  },
  {
   "cell_type": "code",
   "execution_count": 28,
   "metadata": {
    "execution": {
     "iopub.execute_input": "2020-08-19T20:15:00.532696Z",
     "iopub.status.busy": "2020-08-19T20:15:00.532085Z",
     "iopub.status.idle": "2020-08-19T20:15:00.543426Z",
     "shell.execute_reply": "2020-08-19T20:15:00.543906Z"
    },
    "papermill": {
     "duration": 0.068201,
     "end_time": "2020-08-19T20:15:00.544062",
     "exception": false,
     "start_time": "2020-08-19T20:15:00.475861",
     "status": "completed"
    },
    "tags": []
   },
   "outputs": [],
   "source": [
    "model_prob = Model(layers[-2:]) ## picking only last two layers to get probability. That is affine followed by sigmoid"
   ]
  },
  {
   "cell_type": "code",
   "execution_count": 29,
   "metadata": {
    "execution": {
     "iopub.execute_input": "2020-08-19T20:15:00.659180Z",
     "iopub.status.busy": "2020-08-19T20:15:00.651514Z",
     "iopub.status.idle": "2020-08-19T20:15:00.668643Z",
     "shell.execute_reply": "2020-08-19T20:15:00.669100Z"
    },
    "papermill": {
     "duration": 0.073805,
     "end_time": "2020-08-19T20:15:00.669253",
     "exception": false,
     "start_time": "2020-08-19T20:15:00.595448",
     "status": "completed"
    },
    "tags": []
   },
   "outputs": [],
   "source": [
    "xgrid = np.linspace(-4, 1, 100) ## Adjust these values based on above chart, roughly -4 to 1\n",
    "ygrid = np.linspace(-7.5, 7.5, 100) ## Adjust these values based on above chart, roughly -7.5, 7.5\n",
    "xg, yg = np.meshgrid(xgrid, ygrid)\n",
    "# xg and yg are now both 100X100, lets convert them to single arrays \n",
    "\n",
    "xg_interim = np.ravel(xg)\n",
    "yg_interim = np.ravel(yg)\n",
    "\n",
    "## xg_interim, yg_interim are now arrays of len 10000, now we will stack them and then transpose to get desired shape of n rows, 2 columns\n",
    "\n",
    "X_interim = np.vstack((xg_interim, yg_interim)) ## Please note vstack takes in a tuple\n",
    "X = X_interim.T\n",
    "\n",
    "## We want a shape of n rows and 2 columns to be able to feed this to last affine\n",
    "## This last affine takes only two columns, hence the above transformation\n",
    "probability_contour = model_prob(X).reshape(100,100) ## to make it consistent with xg, yg"
   ]
  },
  {
   "cell_type": "code",
   "execution_count": 30,
   "metadata": {
    "execution": {
     "iopub.execute_input": "2020-08-19T20:15:00.808859Z",
     "iopub.status.busy": "2020-08-19T20:15:00.797632Z",
     "iopub.status.idle": "2020-08-19T20:15:01.052745Z",
     "shell.execute_reply": "2020-08-19T20:15:01.053222Z"
    },
    "papermill": {
     "duration": 0.332646,
     "end_time": "2020-08-19T20:15:01.053378",
     "exception": false,
     "start_time": "2020-08-19T20:15:00.720732",
     "status": "completed"
    },
    "tags": []
   },
   "outputs": [
    {
     "data": {
      "image/png": "[encoded data removed]",
      "text/plain": [
       "<Figure size 576x504 with 1 Axes>"
      ]
     },
     "metadata": {
      "needs_background": "light"
     },
     "output_type": "display_data"
    }
   ],
   "source": [
    "plt.figure(figsize=(8,7))\n",
    "plt.scatter(plot_testing[:,0], plot_testing[:,1], alpha = 0.1, c = y_test.ravel())\n",
    "contours = plt.contour(xg,yg,probability_contour)\n",
    "plt.clabel(contours, inline = True );"
   ]
  }
 ],
 "metadata": {
  "kernelspec": {
   "display_name": "Python 3",
   "language": "python",
   "name": "python3"
  },
  "language_info": {
   "codemirror_mode": {
    "name": "ipython",
    "version": 3
   },
   "file_extension": ".py",
   "mimetype": "text/x-python",
   "name": "python",
   "nbconvert_exporter": "python",
   "pygments_lexer": "ipython3",
   "version": "3.6.11"
  },
  "papermill": {
   "duration": 149.403638,
   "end_time": "2020-08-19T20:15:02.494919",
   "environment_variables": {},
   "exception": null,
   "input_path": "2020-08-07-NN-new.ipynb",
   "output_path": "2020-08-07-NN-new.ipynb",
   "parameters": {},
   "start_time": "2020-08-19T20:12:33.091281",
   "version": "2.1.2"
  }
 },
 "nbformat": 4,
 "nbformat_minor": 4
}