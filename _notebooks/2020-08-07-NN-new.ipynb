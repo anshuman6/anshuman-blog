{
 "cells": [
  {
   "cell_type": "markdown",
   "metadata": {
    "papermill": {
     "duration": 0.035685,
     "end_time": "2020-08-29T10:09:27.361922",
     "exception": false,
     "start_time": "2020-08-29T10:09:27.326237",
     "status": "completed"
    },
    "tags": []
   },
   "source": [
    "# \"Building a basic Neural Network from scratch - Kudzu\"\n",
    "\n",
    "- badges: true\n",
    "- author: Anshuman Gupta"
   ]
  },
  {
   "cell_type": "markdown",
   "metadata": {
    "papermill": {
     "duration": 0.028774,
     "end_time": "2020-08-29T10:09:27.422703",
     "exception": false,
     "start_time": "2020-08-29T10:09:27.393929",
     "status": "completed"
    },
    "tags": []
   },
   "source": [
    "#### In this project, the idea is to write a classifier to differentiate between handwritten digits 3 and 8, from the MNIST database.\n",
    "\n",
    "#### I will using a custom built neural network library called Kudzu.This has been developed as a part of KTF/Foundations course of Univ.ai (www.univ.ai). The source code for Kudzu Library and and this notebook can be found on my git-hub profile : www.https://github.com/anshuman6 under the folder project-solution. Any feedback and comments are welcome. Please feel free to email me at: anshuman6@gmail.com\n",
    "\n",
    "#### 1. I will be using the MNIST database. \n",
    "\n",
    "#### 2. I will be comparing the results of the 4 layer NN to a standard logistic regression"
   ]
  },
  {
   "cell_type": "markdown",
   "metadata": {
    "papermill": {
     "duration": 0.030255,
     "end_time": "2020-08-29T10:09:27.481083",
     "exception": false,
     "start_time": "2020-08-29T10:09:27.450828",
     "status": "completed"
    },
    "tags": []
   },
   "source": [
    "##### Importing all the necessary libraries"
   ]
  },
  {
   "cell_type": "code",
   "execution_count": 1,
   "metadata": {
    "execution": {
     "iopub.execute_input": "2020-08-29T10:09:27.547599Z",
     "iopub.status.busy": "2020-08-29T10:09:27.546830Z",
     "iopub.status.idle": "2020-08-29T10:09:27.558218Z",
     "shell.execute_reply": "2020-08-29T10:09:27.557700Z"
    },
    "papermill": {
     "duration": 0.048906,
     "end_time": "2020-08-29T10:09:27.558358",
     "exception": false,
     "start_time": "2020-08-29T10:09:27.509452",
     "status": "completed"
    },
    "tags": []
   },
   "outputs": [],
   "source": [
    "%load_ext autoreload\n",
    "%autoreload 2"
   ]
  },
  {
   "cell_type": "code",
   "execution_count": 2,
   "metadata": {
    "execution": {
     "iopub.execute_input": "2020-08-29T10:09:27.621693Z",
     "iopub.status.busy": "2020-08-29T10:09:27.621044Z",
     "iopub.status.idle": "2020-08-29T10:09:28.201395Z",
     "shell.execute_reply": "2020-08-29T10:09:28.200832Z"
    },
    "papermill": {
     "duration": 0.612923,
     "end_time": "2020-08-29T10:09:28.201535",
     "exception": false,
     "start_time": "2020-08-29T10:09:27.588612",
     "status": "completed"
    },
    "tags": []
   },
   "outputs": [],
   "source": [
    "%matplotlib inline\n",
    "import numpy as np\n",
    "import matplotlib.pyplot as plt\n",
    "import pandas as pd"
   ]
  },
  {
   "cell_type": "markdown",
   "metadata": {
    "papermill": {
     "duration": 0.029669,
     "end_time": "2020-08-29T10:09:28.260984",
     "exception": false,
     "start_time": "2020-08-29T10:09:28.231315",
     "status": "completed"
    },
    "tags": []
   },
   "source": [
    "##### The following command helps us download MNIST from notebook itself. You can skip this if you already have MNIST. You can also download it via your terminal."
   ]
  },
  {
   "cell_type": "code",
   "execution_count": 3,
   "metadata": {
    "execution": {
     "iopub.execute_input": "2020-08-29T10:09:28.324765Z",
     "iopub.status.busy": "2020-08-29T10:09:28.324107Z",
     "iopub.status.idle": "2020-08-29T10:09:29.824983Z",
     "shell.execute_reply": "2020-08-29T10:09:29.823897Z"
    },
    "papermill": {
     "duration": 1.534736,
     "end_time": "2020-08-29T10:09:29.825113",
     "exception": false,
     "start_time": "2020-08-29T10:09:28.290377",
     "status": "completed"
    },
    "tags": []
   },
   "outputs": [
    {
     "name": "stdout",
     "output_type": "stream",
     "text": [
      "Collecting mnist\r\n"
     ]
    },
    {
     "name": "stdout",
     "output_type": "stream",
     "text": [
      "  Downloading mnist-0.2.2-py2.py3-none-any.whl (3.5 kB)\r\n",
      "Requirement already satisfied: numpy in /opt/hostedtoolcache/Python/3.6.11/x64/lib/python3.6/site-packages (from mnist) (1.19.1)\r\n"
     ]
    },
    {
     "name": "stdout",
     "output_type": "stream",
     "text": [
      "Installing collected packages: mnist\r\n"
     ]
    },
    {
     "name": "stdout",
     "output_type": "stream",
     "text": [
      "Successfully installed mnist-0.2.2\r\n"
     ]
    }
   ],
   "source": [
    "!pip install mnist # Please note, it is commented out for now, you can remove comment if you want to install it"
   ]
  },
  {
   "cell_type": "markdown",
   "metadata": {
    "papermill": {
     "duration": 0.03,
     "end_time": "2020-08-29T10:09:29.885797",
     "exception": false,
     "start_time": "2020-08-29T10:09:29.855797",
     "status": "completed"
    },
    "tags": []
   },
   "source": [
    "#### Preparing the Data"
   ]
  },
  {
   "cell_type": "code",
   "execution_count": 4,
   "metadata": {
    "execution": {
     "iopub.execute_input": "2020-08-29T10:09:29.950326Z",
     "iopub.status.busy": "2020-08-29T10:09:29.949665Z",
     "iopub.status.idle": "2020-08-29T10:09:29.964821Z",
     "shell.execute_reply": "2020-08-29T10:09:29.964179Z"
    },
    "papermill": {
     "duration": 0.047586,
     "end_time": "2020-08-29T10:09:29.964960",
     "exception": false,
     "start_time": "2020-08-29T10:09:29.917374",
     "status": "completed"
    },
    "tags": []
   },
   "outputs": [],
   "source": [
    "import mnist"
   ]
  },
  {
   "cell_type": "code",
   "execution_count": 5,
   "metadata": {
    "execution": {
     "iopub.execute_input": "2020-08-29T10:09:30.030530Z",
     "iopub.status.busy": "2020-08-29T10:09:30.029874Z",
     "iopub.status.idle": "2020-08-29T10:09:30.786448Z",
     "shell.execute_reply": "2020-08-29T10:09:30.787005Z"
    },
    "papermill": {
     "duration": 0.792225,
     "end_time": "2020-08-29T10:09:30.787191",
     "exception": false,
     "start_time": "2020-08-29T10:09:29.994966",
     "status": "completed"
    },
    "tags": []
   },
   "outputs": [],
   "source": [
    "train_images = mnist.train_images()\n",
    "train_labels = mnist.train_labels()"
   ]
  },
  {
   "cell_type": "code",
   "execution_count": 6,
   "metadata": {
    "execution": {
     "iopub.execute_input": "2020-08-29T10:09:30.855848Z",
     "iopub.status.busy": "2020-08-29T10:09:30.855113Z",
     "iopub.status.idle": "2020-08-29T10:09:30.871244Z",
     "shell.execute_reply": "2020-08-29T10:09:30.870669Z"
    },
    "papermill": {
     "duration": 0.052648,
     "end_time": "2020-08-29T10:09:30.871379",
     "exception": false,
     "start_time": "2020-08-29T10:09:30.818731",
     "status": "completed"
    },
    "tags": []
   },
   "outputs": [
    {
     "data": {
      "text/plain": [
       "((60000, 28, 28), (60000,))"
      ]
     },
     "execution_count": 6,
     "metadata": {},
     "output_type": "execute_result"
    }
   ],
   "source": [
    "train_images.shape, train_labels.shape"
   ]
  },
  {
   "cell_type": "code",
   "execution_count": 7,
   "metadata": {
    "execution": {
     "iopub.execute_input": "2020-08-29T10:09:30.939633Z",
     "iopub.status.busy": "2020-08-29T10:09:30.938991Z",
     "iopub.status.idle": "2020-08-29T10:09:31.196296Z",
     "shell.execute_reply": "2020-08-29T10:09:31.195672Z"
    },
    "papermill": {
     "duration": 0.293245,
     "end_time": "2020-08-29T10:09:31.196511",
     "exception": false,
     "start_time": "2020-08-29T10:09:30.903266",
     "status": "completed"
    },
    "tags": []
   },
   "outputs": [],
   "source": [
    "test_images = mnist.test_images()\n",
    "test_labels = mnist.test_labels()"
   ]
  },
  {
   "cell_type": "code",
   "execution_count": 8,
   "metadata": {
    "execution": {
     "iopub.execute_input": "2020-08-29T10:09:31.262884Z",
     "iopub.status.busy": "2020-08-29T10:09:31.262134Z",
     "iopub.status.idle": "2020-08-29T10:09:31.275520Z",
     "shell.execute_reply": "2020-08-29T10:09:31.276125Z"
    },
    "papermill": {
     "duration": 0.049462,
     "end_time": "2020-08-29T10:09:31.276298",
     "exception": false,
     "start_time": "2020-08-29T10:09:31.226836",
     "status": "completed"
    },
    "tags": []
   },
   "outputs": [
    {
     "data": {
      "text/plain": [
       "((10000, 28, 28), (10000,))"
      ]
     },
     "execution_count": 8,
     "metadata": {},
     "output_type": "execute_result"
    }
   ],
   "source": [
    "test_images.shape, test_labels.shape"
   ]
  },
  {
   "cell_type": "code",
   "execution_count": 9,
   "metadata": {
    "execution": {
     "iopub.execute_input": "2020-08-29T10:09:31.344367Z",
     "iopub.status.busy": "2020-08-29T10:09:31.343719Z",
     "iopub.status.idle": "2020-08-29T10:09:31.530241Z",
     "shell.execute_reply": "2020-08-29T10:09:31.530805Z"
    },
    "papermill": {
     "duration": 0.22292,
     "end_time": "2020-08-29T10:09:31.530983",
     "exception": false,
     "start_time": "2020-08-29T10:09:31.308063",
     "status": "completed"
    },
    "tags": []
   },
   "outputs": [
    {
     "name": "stdout",
     "output_type": "stream",
     "text": [
      "2\n"
     ]
    },
    {
     "data": {
      "text/plain": [
       "<matplotlib.image.AxesImage at 0x7fb3f1331b38>"
      ]
     },
     "execution_count": 9,
     "metadata": {},
     "output_type": "execute_result"
    },
    {
     "data": {
      "image/png": "[encoded data removed]",
      "text/plain": [
       "<Figure size 432x288 with 1 Axes>"
      ]
     },
     "metadata": {
      "needs_background": "light"
     },
     "output_type": "display_data"
    }
   ],
   "source": [
    "image_index = 7776 # You may select anything up to 60,000\n",
    "print(train_labels[image_index]) \n",
    "plt.imshow(train_images[image_index], cmap='Greys')"
   ]
  },
  {
   "cell_type": "markdown",
   "metadata": {
    "papermill": {
     "duration": 0.033029,
     "end_time": "2020-08-29T10:09:31.597446",
     "exception": false,
     "start_time": "2020-08-29T10:09:31.564417",
     "status": "completed"
    },
    "tags": []
   },
   "source": [
    "## Filter data to get 3 and 8 out"
   ]
  },
  {
   "cell_type": "code",
   "execution_count": 10,
   "metadata": {
    "execution": {
     "iopub.execute_input": "2020-08-29T10:09:31.669153Z",
     "iopub.status.busy": "2020-08-29T10:09:31.668346Z",
     "iopub.status.idle": "2020-08-29T10:09:31.691138Z",
     "shell.execute_reply": "2020-08-29T10:09:31.691667Z"
    },
    "papermill": {
     "duration": 0.063695,
     "end_time": "2020-08-29T10:09:31.691848",
     "exception": false,
     "start_time": "2020-08-29T10:09:31.628153",
     "status": "completed"
    },
    "tags": []
   },
   "outputs": [],
   "source": [
    "train_filter = np.where((train_labels == 3 ) | (train_labels == 8))\n",
    "test_filter = np.where((test_labels == 3) | (test_labels == 8))\n",
    "X_train, y_train = train_images[train_filter], train_labels[train_filter]\n",
    "X_test, y_test = test_images[test_filter], test_labels[test_filter]"
   ]
  },
  {
   "cell_type": "markdown",
   "metadata": {
    "papermill": {
     "duration": 0.032977,
     "end_time": "2020-08-29T10:09:31.758562",
     "exception": false,
     "start_time": "2020-08-29T10:09:31.725585",
     "status": "completed"
    },
    "tags": []
   },
   "source": [
    "##### We normalize the pizel values in the 0 to 1 range"
   ]
  },
  {
   "cell_type": "code",
   "execution_count": 11,
   "metadata": {
    "execution": {
     "iopub.execute_input": "2020-08-29T10:09:31.830026Z",
     "iopub.status.busy": "2020-08-29T10:09:31.829366Z",
     "iopub.status.idle": "2020-08-29T10:09:31.894681Z",
     "shell.execute_reply": "2020-08-29T10:09:31.893810Z"
    },
    "papermill": {
     "duration": 0.102638,
     "end_time": "2020-08-29T10:09:31.894849",
     "exception": false,
     "start_time": "2020-08-29T10:09:31.792211",
     "status": "completed"
    },
    "tags": []
   },
   "outputs": [],
   "source": [
    "X_train = X_train/255.\n",
    "X_test = X_test/255."
   ]
  },
  {
   "cell_type": "markdown",
   "metadata": {
    "papermill": {
     "duration": 0.033972,
     "end_time": "2020-08-29T10:09:31.960975",
     "exception": false,
     "start_time": "2020-08-29T10:09:31.927003",
     "status": "completed"
    },
    "tags": []
   },
   "source": [
    "And setup the labels as 1 (when the digit is 3) and 0 (when the digit is 8)"
   ]
  },
  {
   "cell_type": "code",
   "execution_count": 12,
   "metadata": {
    "execution": {
     "iopub.execute_input": "2020-08-29T10:09:32.032103Z",
     "iopub.status.busy": "2020-08-29T10:09:32.030398Z",
     "iopub.status.idle": "2020-08-29T10:09:32.044572Z",
     "shell.execute_reply": "2020-08-29T10:09:32.043822Z"
    },
    "papermill": {
     "duration": 0.051614,
     "end_time": "2020-08-29T10:09:32.044819",
     "exception": false,
     "start_time": "2020-08-29T10:09:31.993205",
     "status": "completed"
    },
    "tags": []
   },
   "outputs": [],
   "source": [
    "y_train = 1*(y_train==3)\n",
    "y_test = 1*(y_test==3)"
   ]
  },
  {
   "cell_type": "code",
   "execution_count": 13,
   "metadata": {
    "execution": {
     "iopub.execute_input": "2020-08-29T10:09:32.121288Z",
     "iopub.status.busy": "2020-08-29T10:09:32.120700Z",
     "iopub.status.idle": "2020-08-29T10:09:32.134648Z",
     "shell.execute_reply": "2020-08-29T10:09:32.135452Z"
    },
    "papermill": {
     "duration": 0.05536,
     "end_time": "2020-08-29T10:09:32.135598",
     "exception": false,
     "start_time": "2020-08-29T10:09:32.080238",
     "status": "completed"
    },
    "tags": []
   },
   "outputs": [
    {
     "data": {
      "text/plain": [
       "((11982, 28, 28), (1984, 28, 28))"
      ]
     },
     "execution_count": 13,
     "metadata": {},
     "output_type": "execute_result"
    }
   ],
   "source": [
    "X_train.shape, X_test.shape"
   ]
  },
  {
   "cell_type": "markdown",
   "metadata": {
    "papermill": {
     "duration": 0.035064,
     "end_time": "2020-08-29T10:09:32.207464",
     "exception": false,
     "start_time": "2020-08-29T10:09:32.172400",
     "status": "completed"
    },
    "tags": []
   },
   "source": [
    "##### We reshape the data to flatten the image pixels into a set of features or co-variates:"
   ]
  },
  {
   "cell_type": "code",
   "execution_count": 14,
   "metadata": {
    "execution": {
     "iopub.execute_input": "2020-08-29T10:09:32.277095Z",
     "iopub.status.busy": "2020-08-29T10:09:32.276461Z",
     "iopub.status.idle": "2020-08-29T10:09:32.291453Z",
     "shell.execute_reply": "2020-08-29T10:09:32.290962Z"
    },
    "papermill": {
     "duration": 0.051456,
     "end_time": "2020-08-29T10:09:32.291570",
     "exception": false,
     "start_time": "2020-08-29T10:09:32.240114",
     "status": "completed"
    },
    "tags": []
   },
   "outputs": [
    {
     "data": {
      "text/plain": [
       "((11982, 784), (1984, 784))"
      ]
     },
     "execution_count": 14,
     "metadata": {},
     "output_type": "execute_result"
    }
   ],
   "source": [
    "X_train = X_train.reshape(X_train.shape[0], -1)\n",
    "X_test = X_test.reshape(X_test.shape[0], -1)\n",
    "X_train.shape, X_test.shape"
   ]
  },
  {
   "cell_type": "markdown",
   "metadata": {
    "papermill": {
     "duration": 0.032331,
     "end_time": "2020-08-29T10:09:32.357471",
     "exception": false,
     "start_time": "2020-08-29T10:09:32.325140",
     "status": "completed"
    },
    "tags": []
   },
   "source": [
    "##### Importing Kudzu library and its functionality"
   ]
  },
  {
   "cell_type": "code",
   "execution_count": 15,
   "metadata": {
    "execution": {
     "iopub.execute_input": "2020-08-29T10:09:32.428296Z",
     "iopub.status.busy": "2020-08-29T10:09:32.427722Z",
     "iopub.status.idle": "2020-08-29T10:09:32.448094Z",
     "shell.execute_reply": "2020-08-29T10:09:32.447536Z"
    },
    "papermill": {
     "duration": 0.058743,
     "end_time": "2020-08-29T10:09:32.448216",
     "exception": false,
     "start_time": "2020-08-29T10:09:32.389473",
     "status": "completed"
    },
    "tags": []
   },
   "outputs": [],
   "source": [
    "from kudzu.data import Data, Dataloader, Sampler\n",
    "from kudzu.callbacks import AccCallback\n",
    "from kudzu.loss import MSE\n",
    "from kudzu.layer import Affine, Sigmoid\n",
    "from kudzu.model import Model\n",
    "from kudzu.optim import GD\n",
    "from kudzu.train import Learner\n",
    "from kudzu.callbacks import ClfCallback\n",
    "from kudzu.layer import Sigmoid\n",
    "from kudzu.layer import Relu"
   ]
  },
  {
   "cell_type": "markdown",
   "metadata": {
    "papermill": {
     "duration": 0.032913,
     "end_time": "2020-08-29T10:09:32.515480",
     "exception": false,
     "start_time": "2020-08-29T10:09:32.482567",
     "status": "completed"
    },
    "tags": []
   },
   "source": [
    "##### We are creating a class, just so that we can use it to store our parameters for us"
   ]
  },
  {
   "cell_type": "code",
   "execution_count": 16,
   "metadata": {
    "execution": {
     "iopub.execute_input": "2020-08-29T10:09:32.588019Z",
     "iopub.status.busy": "2020-08-29T10:09:32.587091Z",
     "iopub.status.idle": "2020-08-29T10:09:32.599984Z",
     "shell.execute_reply": "2020-08-29T10:09:32.600522Z"
    },
    "papermill": {
     "duration": 0.053168,
     "end_time": "2020-08-29T10:09:32.600710",
     "exception": false,
     "start_time": "2020-08-29T10:09:32.547542",
     "status": "completed"
    },
    "tags": []
   },
   "outputs": [],
   "source": [
    "class Config:\n",
    "    pass\n",
    "config = Config()\n",
    "config.lr = 0.001\n",
    "config.num_epochs = 250\n",
    "config.bs = 50"
   ]
  },
  {
   "cell_type": "markdown",
   "metadata": {
    "papermill": {
     "duration": 0.035014,
     "end_time": "2020-08-29T10:09:32.668266",
     "exception": false,
     "start_time": "2020-08-29T10:09:32.633252",
     "status": "completed"
    },
    "tags": []
   },
   "source": [
    "##### Initializing Data"
   ]
  },
  {
   "cell_type": "code",
   "execution_count": 17,
   "metadata": {
    "execution": {
     "iopub.execute_input": "2020-08-29T10:09:32.742338Z",
     "iopub.status.busy": "2020-08-29T10:09:32.741753Z",
     "iopub.status.idle": "2020-08-29T10:09:32.755027Z",
     "shell.execute_reply": "2020-08-29T10:09:32.754391Z"
    },
    "papermill": {
     "duration": 0.05104,
     "end_time": "2020-08-29T10:09:32.755176",
     "exception": false,
     "start_time": "2020-08-29T10:09:32.704136",
     "status": "completed"
    },
    "tags": []
   },
   "outputs": [],
   "source": [
    "data = Data(X_train, y_train.reshape(-1,1))\n",
    "loss = MSE()\n",
    "opt = GD(config.lr)\n",
    "sampler = Sampler(data, config.bs, shuffle=True)\n",
    "dl = Dataloader(data, sampler)"
   ]
  },
  {
   "cell_type": "markdown",
   "metadata": {
    "papermill": {
     "duration": 0.035159,
     "end_time": "2020-08-29T10:09:32.823009",
     "exception": false,
     "start_time": "2020-08-29T10:09:32.787850",
     "status": "completed"
    },
    "tags": []
   },
   "source": [
    "##### Constructing 2 different layers, one for NN and one only for logistic regression."
   ]
  },
  {
   "cell_type": "markdown",
   "metadata": {
    "papermill": {
     "duration": 0.033284,
     "end_time": "2020-08-29T10:09:32.889184",
     "exception": false,
     "start_time": "2020-08-29T10:09:32.855900",
     "status": "completed"
    },
    "tags": []
   },
   "source": [
    "##### Creating containers for data to be passed, to calculate accuracies"
   ]
  },
  {
   "cell_type": "code",
   "execution_count": 18,
   "metadata": {
    "execution": {
     "iopub.execute_input": "2020-08-29T10:09:32.959427Z",
     "iopub.status.busy": "2020-08-29T10:09:32.958749Z",
     "iopub.status.idle": "2020-08-29T10:09:32.972096Z",
     "shell.execute_reply": "2020-08-29T10:09:32.971494Z"
    },
    "papermill": {
     "duration": 0.051059,
     "end_time": "2020-08-29T10:09:32.972218",
     "exception": false,
     "start_time": "2020-08-29T10:09:32.921159",
     "status": "completed"
    },
    "tags": []
   },
   "outputs": [],
   "source": [
    "training_xdata = X_train\n",
    "testing_xdata = X_test\n",
    "training_ydata = y_train.reshape(-1,1)\n",
    "testing_ydata = y_test.reshape(-1,1)"
   ]
  },
  {
   "cell_type": "markdown",
   "metadata": {
    "papermill": {
     "duration": 0.031942,
     "end_time": "2020-08-29T10:09:33.037235",
     "exception": false,
     "start_time": "2020-08-29T10:09:33.005293",
     "status": "completed"
    },
    "tags": []
   },
   "source": [
    "##### Initializing models and Running training loop: "
   ]
  },
  {
   "cell_type": "code",
   "execution_count": 19,
   "metadata": {
    "execution": {
     "iopub.execute_input": "2020-08-29T10:09:33.107687Z",
     "iopub.status.busy": "2020-08-29T10:09:33.107015Z",
     "iopub.status.idle": "2020-08-29T10:09:33.124252Z",
     "shell.execute_reply": "2020-08-29T10:09:33.124817Z"
    },
    "papermill": {
     "duration": 0.055462,
     "end_time": "2020-08-29T10:09:33.124954",
     "exception": false,
     "start_time": "2020-08-29T10:09:33.069492",
     "status": "completed"
    },
    "tags": []
   },
   "outputs": [],
   "source": [
    "layers = [Affine(\"first\", 784, 100), Relu(\"first\"), Affine(\"second\", 100, 100), Relu(\"second\"), Affine(\"third\", 100, 2), Affine(\"final\", 2, 1), Sigmoid(\"final\")]\n",
    "\n",
    "model_neural = Model(layers)\n",
    "model_logistic = Model([Affine(\"logits\", 784, 1), Sigmoid(\"sigmoid\")])"
   ]
  },
  {
   "cell_type": "code",
   "execution_count": 20,
   "metadata": {
    "execution": {
     "iopub.execute_input": "2020-08-29T10:09:33.197179Z",
     "iopub.status.busy": "2020-08-29T10:09:33.196491Z",
     "iopub.status.idle": "2020-08-29T10:09:33.210131Z",
     "shell.execute_reply": "2020-08-29T10:09:33.209629Z"
    },
    "papermill": {
     "duration": 0.053081,
     "end_time": "2020-08-29T10:09:33.210261",
     "exception": false,
     "start_time": "2020-08-29T10:09:33.157180",
     "status": "completed"
    },
    "tags": []
   },
   "outputs": [],
   "source": [
    "learner1 = Learner(loss, model_neural, opt, config.num_epochs)\n",
    "acc1 = ClfCallback(learner1, config.bs, training_xdata , testing_xdata, training_ydata, testing_ydata)\n",
    "learner1.set_callbacks([acc1])"
   ]
  },
  {
   "cell_type": "code",
   "execution_count": 21,
   "metadata": {
    "execution": {
     "iopub.execute_input": "2020-08-29T10:09:33.277535Z",
     "iopub.status.busy": "2020-08-29T10:09:33.276833Z",
     "iopub.status.idle": "2020-08-29T10:11:50.778126Z",
     "shell.execute_reply": "2020-08-29T10:11:50.778889Z"
    },
    "papermill": {
     "duration": 137.537564,
     "end_time": "2020-08-29T10:11:50.779217",
     "exception": false,
     "start_time": "2020-08-29T10:09:33.241653",
     "status": "completed"
    },
    "tags": []
   },
   "outputs": [
    {
     "name": "stdout",
     "output_type": "stream",
     "text": [
      "Epoch 0 Loss 0.2377525667257724\n",
      "train accuracy is: 0.7318477716574863, test accuracy is 0.7318548387096774\n"
     ]
    },
    {
     "name": "stdout",
     "output_type": "stream",
     "text": [
      "Epoch 10 Loss 0.07444673573438723\n",
      "train accuracy is: 0.9276414621932899, test accuracy is 0.9334677419354839\n"
     ]
    },
    {
     "name": "stdout",
     "output_type": "stream",
     "text": [
      "Epoch 20 Loss 0.05032075322504384\n",
      "train accuracy is: 0.9460023368385913, test accuracy is 0.9551411290322581\n"
     ]
    },
    {
     "name": "stdout",
     "output_type": "stream",
     "text": [
      "Epoch 30 Loss 0.041433234776114276\n",
      "train accuracy is: 0.9550158571190118, test accuracy is 0.9621975806451613\n"
     ]
    },
    {
     "name": "stdout",
     "output_type": "stream",
     "text": [
      "Epoch 40 Loss 0.03660875912903833\n",
      "train accuracy is: 0.9602737439492572, test accuracy is 0.9647177419354839\n"
     ]
    },
    {
     "name": "stdout",
     "output_type": "stream",
     "text": [
      "Epoch 50 Loss 0.03349998826180057\n",
      "train accuracy is: 0.9629444166249375, test accuracy is 0.9672379032258065\n"
     ]
    },
    {
     "name": "stdout",
     "output_type": "stream",
     "text": [
      "Epoch 60 Loss 0.03127904035259931\n",
      "train accuracy is: 0.9650308796528125, test accuracy is 0.96875\n"
     ]
    },
    {
     "name": "stdout",
     "output_type": "stream",
     "text": [
      "Epoch 70 Loss 0.029572826728512403\n",
      "train accuracy is: 0.9672008012018027, test accuracy is 0.9682459677419355\n"
     ]
    },
    {
     "name": "stdout",
     "output_type": "stream",
     "text": [
      "Epoch 80 Loss 0.028219788627103438\n",
      "train accuracy is: 0.9688699716241028, test accuracy is 0.9707661290322581\n"
     ]
    },
    {
     "name": "stdout",
     "output_type": "stream",
     "text": [
      "Epoch 90 Loss 0.02710693468402134\n",
      "train accuracy is: 0.9699549323985979, test accuracy is 0.9702620967741935\n"
     ]
    },
    {
     "name": "stdout",
     "output_type": "stream",
     "text": [
      "Epoch 100 Loss 0.026153181760343123\n",
      "train accuracy is: 0.970789517609748, test accuracy is 0.969758064516129\n"
     ]
    },
    {
     "name": "stdout",
     "output_type": "stream",
     "text": [
      "Epoch 110 Loss 0.025325793684624457\n",
      "train accuracy is: 0.971290268736438, test accuracy is 0.9722782258064516\n"
     ]
    },
    {
     "name": "stdout",
     "output_type": "stream",
     "text": [
      "Epoch 120 Loss 0.024581411991316932\n",
      "train accuracy is: 0.971957936905358, test accuracy is 0.9727822580645161\n"
     ]
    },
    {
     "name": "stdout",
     "output_type": "stream",
     "text": [
      "Epoch 130 Loss 0.023903720111409003\n",
      "train accuracy is: 0.9728759806376232, test accuracy is 0.9737903225806451\n"
     ]
    },
    {
     "name": "stdout",
     "output_type": "stream",
     "text": [
      "Epoch 140 Loss 0.023312391039097012\n",
      "train accuracy is: 0.9732098147220831, test accuracy is 0.9742943548387096\n"
     ]
    },
    {
     "name": "stdout",
     "output_type": "stream",
     "text": [
      "Epoch 150 Loss 0.02275208077345371\n",
      "train accuracy is: 0.9737105658487731, test accuracy is 0.9753024193548387\n"
     ]
    },
    {
     "name": "stdout",
     "output_type": "stream",
     "text": [
      "Epoch 160 Loss 0.02222810643044528\n",
      "train accuracy is: 0.9747120681021533, test accuracy is 0.9747983870967742\n"
     ]
    },
    {
     "name": "stdout",
     "output_type": "stream",
     "text": [
      "Epoch 170 Loss 0.021738062895438004\n",
      "train accuracy is: 0.9755466533133033, test accuracy is 0.9742943548387096\n"
     ]
    },
    {
     "name": "stdout",
     "output_type": "stream",
     "text": [
      "Epoch 180 Loss 0.02127050849797675\n",
      "train accuracy is: 0.9762143214822233, test accuracy is 0.9742943548387096\n"
     ]
    },
    {
     "name": "stdout",
     "output_type": "stream",
     "text": [
      "Epoch 190 Loss 0.02082461976626869\n",
      "train accuracy is: 0.9769654481722584, test accuracy is 0.9747983870967742\n"
     ]
    },
    {
     "name": "stdout",
     "output_type": "stream",
     "text": [
      "Epoch 200 Loss 0.02040637381957419\n",
      "train accuracy is: 0.9773827407778334, test accuracy is 0.9747983870967742\n"
     ]
    },
    {
     "name": "stdout",
     "output_type": "stream",
     "text": [
      "Epoch 210 Loss 0.02000001731422593\n",
      "train accuracy is: 0.9780504089467534, test accuracy is 0.9753024193548387\n"
     ]
    },
    {
     "name": "stdout",
     "output_type": "stream",
     "text": [
      "Epoch 220 Loss 0.019608856374723812\n",
      "train accuracy is: 0.9786346185945585, test accuracy is 0.9758064516129032\n"
     ]
    },
    {
     "name": "stdout",
     "output_type": "stream",
     "text": [
      "Epoch 230 Loss 0.019230506069702183\n",
      "train accuracy is: 0.9786346185945585, test accuracy is 0.9758064516129032\n"
     ]
    },
    {
     "name": "stdout",
     "output_type": "stream",
     "text": [
      "Epoch 240 Loss 0.01885726179917066\n",
      "train accuracy is: 0.9790519112001336, test accuracy is 0.9758064516129032\n"
     ]
    },
    {
     "data": {
      "text/plain": [
       "0.013637334990772736"
      ]
     },
     "execution_count": 21,
     "metadata": {},
     "output_type": "execute_result"
    }
   ],
   "source": [
    "learner1.train_loop(dl)"
   ]
  },
  {
   "cell_type": "markdown",
   "metadata": {
    "papermill": {
     "duration": 0.042342,
     "end_time": "2020-08-29T10:11:50.863851",
     "exception": false,
     "start_time": "2020-08-29T10:11:50.821509",
     "status": "completed"
    },
    "tags": []
   },
   "source": [
    "##### Now running only the logistic regression based classification to compare results with NN"
   ]
  },
  {
   "cell_type": "code",
   "execution_count": 22,
   "metadata": {
    "execution": {
     "iopub.execute_input": "2020-08-29T10:11:50.952117Z",
     "iopub.status.busy": "2020-08-29T10:11:50.951496Z",
     "iopub.status.idle": "2020-08-29T10:11:50.963074Z",
     "shell.execute_reply": "2020-08-29T10:11:50.963538Z"
    },
    "papermill": {
     "duration": 0.058451,
     "end_time": "2020-08-29T10:11:50.963732",
     "exception": false,
     "start_time": "2020-08-29T10:11:50.905281",
     "status": "completed"
    },
    "tags": []
   },
   "outputs": [],
   "source": [
    "learner2 = Learner(loss, model_logistic, opt, config.num_epochs)\n",
    "acc2 = ClfCallback(learner2, config.bs, training_xdata , testing_xdata, training_ydata, testing_ydata)\n",
    "learner2.set_callbacks([acc2])"
   ]
  },
  {
   "cell_type": "code",
   "execution_count": 23,
   "metadata": {
    "execution": {
     "iopub.execute_input": "2020-08-29T10:11:51.052988Z",
     "iopub.status.busy": "2020-08-29T10:11:51.052234Z",
     "iopub.status.idle": "2020-08-29T10:12:11.459946Z",
     "shell.execute_reply": "2020-08-29T10:12:11.460863Z"
    },
    "papermill": {
     "duration": 20.455283,
     "end_time": "2020-08-29T10:12:11.461048",
     "exception": false,
     "start_time": "2020-08-29T10:11:51.005765",
     "status": "completed"
    },
    "tags": []
   },
   "outputs": [
    {
     "name": "stdout",
     "output_type": "stream",
     "text": [
      "Epoch 0 Loss 0.23208763961458434\n",
      "train accuracy is: 0.7461191787681523, test accuracy is 0.7373991935483871\n"
     ]
    },
    {
     "name": "stdout",
     "output_type": "stream",
     "text": [
      "Epoch 10 Loss 0.09745028719429598\n",
      "train accuracy is: 0.9204640293773995, test accuracy is 0.9319556451612904\n"
     ]
    },
    {
     "name": "stdout",
     "output_type": "stream",
     "text": [
      "Epoch 20 Loss 0.07610863415215356\n",
      "train accuracy is: 0.9305625104323152, test accuracy is 0.9405241935483871\n"
     ]
    },
    {
     "name": "stdout",
     "output_type": "stream",
     "text": [
      "Epoch 30 Loss 0.06624408735031058\n",
      "train accuracy is: 0.9370722750792856, test accuracy is 0.9450604838709677\n"
     ]
    },
    {
     "name": "stdout",
     "output_type": "stream",
     "text": [
      "Epoch 40 Loss 0.060221989612594354\n",
      "train accuracy is: 0.942580537472876, test accuracy is 0.9516129032258065\n"
     ]
    },
    {
     "name": "stdout",
     "output_type": "stream",
     "text": [
      "Epoch 50 Loss 0.05605836695840553\n",
      "train accuracy is: 0.9462527124019362, test accuracy is 0.954133064516129\n"
     ]
    },
    {
     "name": "stdout",
     "output_type": "stream",
     "text": [
      "Epoch 60 Loss 0.05296242228489321\n",
      "train accuracy is: 0.9480053413453514, test accuracy is 0.9561491935483871\n"
     ]
    },
    {
     "name": "stdout",
     "output_type": "stream",
     "text": [
      "Epoch 70 Loss 0.05054985597614866\n",
      "train accuracy is: 0.9496745117676515, test accuracy is 0.9581653225806451\n"
     ]
    },
    {
     "name": "stdout",
     "output_type": "stream",
     "text": [
      "Epoch 80 Loss 0.04860198282805711\n",
      "train accuracy is: 0.9517609747955266, test accuracy is 0.9596774193548387\n"
     ]
    },
    {
     "name": "stdout",
     "output_type": "stream",
     "text": [
      "Epoch 90 Loss 0.04698681406301292\n",
      "train accuracy is: 0.9529293940911367, test accuracy is 0.9611895161290323\n"
     ]
    },
    {
     "name": "stdout",
     "output_type": "stream",
     "text": [
      "Epoch 100 Loss 0.045619526527634235\n",
      "train accuracy is: 0.9539308963445168, test accuracy is 0.9616935483870968\n"
     ]
    },
    {
     "name": "stdout",
     "output_type": "stream",
     "text": [
      "Epoch 110 Loss 0.04444350389361706\n",
      "train accuracy is: 0.9546820230345519, test accuracy is 0.9632056451612904\n"
     ]
    },
    {
     "name": "stdout",
     "output_type": "stream",
     "text": [
      "Epoch 120 Loss 0.04341897705373772\n",
      "train accuracy is: 0.9554331497245869, test accuracy is 0.9637096774193549\n"
     ]
    },
    {
     "name": "stdout",
     "output_type": "stream",
     "text": [
      "Epoch 130 Loss 0.04251287048502711\n",
      "train accuracy is: 0.9561842764146219, test accuracy is 0.9637096774193549\n"
     ]
    },
    {
     "name": "stdout",
     "output_type": "stream",
     "text": [
      "Epoch 140 Loss 0.0417085434048568\n",
      "train accuracy is: 0.9567684860624269, test accuracy is 0.9647177419354839\n"
     ]
    },
    {
     "name": "stdout",
     "output_type": "stream",
     "text": [
      "Epoch 150 Loss 0.040985138298143695\n",
      "train accuracy is: 0.957686529794692, test accuracy is 0.9652217741935484\n"
     ]
    },
    {
     "name": "stdout",
     "output_type": "stream",
     "text": [
      "Epoch 160 Loss 0.04032924633981336\n",
      "train accuracy is: 0.9581872809213821, test accuracy is 0.9652217741935484\n"
     ]
    },
    {
     "name": "stdout",
     "output_type": "stream",
     "text": [
      "Epoch 170 Loss 0.03973306781958908\n",
      "train accuracy is: 0.9584376564847271, test accuracy is 0.9647177419354839\n"
     ]
    },
    {
     "name": "stdout",
     "output_type": "stream",
     "text": [
      "Epoch 180 Loss 0.039186062423336235\n",
      "train accuracy is: 0.9587714905691871, test accuracy is 0.9647177419354839\n"
     ]
    },
    {
     "name": "stdout",
     "output_type": "stream",
     "text": [
      "Epoch 190 Loss 0.038683394448199786\n",
      "train accuracy is: 0.9589384076114171, test accuracy is 0.9647177419354839\n"
     ]
    },
    {
     "name": "stdout",
     "output_type": "stream",
     "text": [
      "Epoch 200 Loss 0.03821860383058323\n",
      "train accuracy is: 0.9594391587381071, test accuracy is 0.9647177419354839\n"
     ]
    },
    {
     "name": "stdout",
     "output_type": "stream",
     "text": [
      "Epoch 210 Loss 0.03778634923922105\n",
      "train accuracy is: 0.9596895343014522, test accuracy is 0.9647177419354839\n"
     ]
    },
    {
     "name": "stdout",
     "output_type": "stream",
     "text": [
      "Epoch 220 Loss 0.03738427238209248\n",
      "train accuracy is: 0.9601068269070272, test accuracy is 0.9657258064516129\n"
     ]
    },
    {
     "name": "stdout",
     "output_type": "stream",
     "text": [
      "Epoch 230 Loss 0.03700813864476025\n",
      "train accuracy is: 0.9607744950759473, test accuracy is 0.9657258064516129\n"
     ]
    },
    {
     "name": "stdout",
     "output_type": "stream",
     "text": [
      "Epoch 240 Loss 0.03665466273838694\n",
      "train accuracy is: 0.9609414121181773, test accuracy is 0.9657258064516129\n"
     ]
    },
    {
     "data": {
      "text/plain": [
       "0.06839981408424851"
      ]
     },
     "execution_count": 23,
     "metadata": {},
     "output_type": "execute_result"
    }
   ],
   "source": [
    "learner2.train_loop(dl)"
   ]
  },
  {
   "cell_type": "markdown",
   "metadata": {
    "papermill": {
     "duration": 0.050745,
     "end_time": "2020-08-29T10:12:11.563504",
     "exception": false,
     "start_time": "2020-08-29T10:12:11.512759",
     "status": "completed"
    },
    "tags": []
   },
   "source": [
    "### Comparing results of NN and LR"
   ]
  },
  {
   "cell_type": "code",
   "execution_count": 24,
   "metadata": {
    "execution": {
     "iopub.execute_input": "2020-08-29T10:12:11.670950Z",
     "iopub.status.busy": "2020-08-29T10:12:11.670332Z",
     "iopub.status.idle": "2020-08-29T10:12:11.926481Z",
     "shell.execute_reply": "2020-08-29T10:12:11.925510Z"
    },
    "papermill": {
     "duration": 0.313798,
     "end_time": "2020-08-29T10:12:11.926630",
     "exception": false,
     "start_time": "2020-08-29T10:12:11.612832",
     "status": "completed"
    },
    "tags": []
   },
   "outputs": [
    {
     "data": {
      "text/plain": [
       "<matplotlib.legend.Legend at 0x7fb3f0f132b0>"
      ]
     },
     "execution_count": 24,
     "metadata": {},
     "output_type": "execute_result"
    },
    {
     "data": {
      "image/png": "[encoded data removed]",
      "text/plain": [
       "<Figure size 576x360 with 1 Axes>"
      ]
     },
     "metadata": {
      "needs_background": "light"
     },
     "output_type": "display_data"
    }
   ],
   "source": [
    "plt.figure(figsize=(8,5))\n",
    "plt.plot(acc1.val_accuracies, 'g-', label = \"Val Accuracies - NN\")\n",
    "plt.plot(acc1.accuracies, 'r-', label = \"Accuracies - NN\")\n",
    "plt.plot(acc2.val_accuracies, 'b-', label = \"Val Accuracies - Logistic Reg\")\n",
    "plt.plot(acc2.accuracies, 'k-', label = \"Accuracies - Logistic Reg\")\n",
    "plt.ylim(0.8,1) ## for a more spread out view\n",
    "plt.legend()"
   ]
  },
  {
   "cell_type": "markdown",
   "metadata": {
    "papermill": {
     "duration": 0.052101,
     "end_time": "2020-08-29T10:12:12.031464",
     "exception": false,
     "start_time": "2020-08-29T10:12:11.979363",
     "status": "completed"
    },
    "tags": []
   },
   "source": [
    "### Clearly NN has a better accuracy over LR; NN is overfitting - Validation accuracy (green) has dropped below training accuracy (orange), also they are diverging. This problem is not seen in LR"
   ]
  },
  {
   "cell_type": "markdown",
   "metadata": {
    "papermill": {
     "duration": 0.053292,
     "end_time": "2020-08-29T10:12:12.137224",
     "exception": false,
     "start_time": "2020-08-29T10:12:12.083932",
     "status": "completed"
    },
    "tags": []
   },
   "source": [
    "##### Now we will be moving through the network, till the output of the second last affine where we get a 2 dimensional output. We will be plotting this 2d output and probability contours"
   ]
  },
  {
   "cell_type": "code",
   "execution_count": 25,
   "metadata": {
    "execution": {
     "iopub.execute_input": "2020-08-29T10:12:12.246765Z",
     "iopub.status.busy": "2020-08-29T10:12:12.245441Z",
     "iopub.status.idle": "2020-08-29T10:12:12.260572Z",
     "shell.execute_reply": "2020-08-29T10:12:12.260014Z"
    },
    "papermill": {
     "duration": 0.071491,
     "end_time": "2020-08-29T10:12:12.260738",
     "exception": false,
     "start_time": "2020-08-29T10:12:12.189247",
     "status": "completed"
    },
    "tags": []
   },
   "outputs": [],
   "source": [
    "model_new = Model(layers[:-2])"
   ]
  },
  {
   "cell_type": "code",
   "execution_count": 26,
   "metadata": {
    "execution": {
     "iopub.execute_input": "2020-08-29T10:12:12.369307Z",
     "iopub.status.busy": "2020-08-29T10:12:12.368736Z",
     "iopub.status.idle": "2020-08-29T10:12:12.397608Z",
     "shell.execute_reply": "2020-08-29T10:12:12.398143Z"
    },
    "papermill": {
     "duration": 0.084914,
     "end_time": "2020-08-29T10:12:12.398338",
     "exception": false,
     "start_time": "2020-08-29T10:12:12.313424",
     "status": "completed"
    },
    "tags": []
   },
   "outputs": [],
   "source": [
    "plot_testing = model_new(testing_xdata)"
   ]
  },
  {
   "cell_type": "markdown",
   "metadata": {
    "papermill": {
     "duration": 0.059453,
     "end_time": "2020-08-29T10:12:12.513148",
     "exception": false,
     "start_time": "2020-08-29T10:12:12.453695",
     "status": "completed"
    },
    "tags": []
   },
   "source": [
    "##### Plotting the scatter plot of points and color coding by class"
   ]
  },
  {
   "cell_type": "code",
   "execution_count": 27,
   "metadata": {
    "execution": {
     "iopub.execute_input": "2020-08-29T10:12:12.642297Z",
     "iopub.status.busy": "2020-08-29T10:12:12.641599Z",
     "iopub.status.idle": "2020-08-29T10:12:12.880125Z",
     "shell.execute_reply": "2020-08-29T10:12:12.880657Z"
    },
    "papermill": {
     "duration": 0.295108,
     "end_time": "2020-08-29T10:12:12.880863",
     "exception": false,
     "start_time": "2020-08-29T10:12:12.585755",
     "status": "completed"
    },
    "tags": []
   },
   "outputs": [
    {
     "data": {
      "image/png": "[encoded data removed]",
      "text/plain": [
       "<Figure size 576x504 with 1 Axes>"
      ]
     },
     "metadata": {
      "needs_background": "light"
     },
     "output_type": "display_data"
    }
   ],
   "source": [
    "plt.figure(figsize=(8,7))\n",
    "plt.scatter(plot_testing[:,0], plot_testing[:,1], alpha = 0.1, c = y_test.ravel());"
   ]
  },
  {
   "cell_type": "markdown",
   "metadata": {
    "papermill": {
     "duration": 0.053967,
     "end_time": "2020-08-29T10:12:12.988843",
     "exception": false,
     "start_time": "2020-08-29T10:12:12.934876",
     "status": "completed"
    },
    "tags": []
   },
   "source": [
    "##### Plotting probability contours"
   ]
  },
  {
   "cell_type": "code",
   "execution_count": 28,
   "metadata": {
    "execution": {
     "iopub.execute_input": "2020-08-29T10:12:13.104713Z",
     "iopub.status.busy": "2020-08-29T10:12:13.104136Z",
     "iopub.status.idle": "2020-08-29T10:12:13.118383Z",
     "shell.execute_reply": "2020-08-29T10:12:13.117763Z"
    },
    "papermill": {
     "duration": 0.0746,
     "end_time": "2020-08-29T10:12:13.118509",
     "exception": false,
     "start_time": "2020-08-29T10:12:13.043909",
     "status": "completed"
    },
    "tags": []
   },
   "outputs": [],
   "source": [
    "model_prob = Model(layers[-2:]) ## picking only last two layers to get probability. That is affine followed by sigmoid"
   ]
  },
  {
   "cell_type": "code",
   "execution_count": 29,
   "metadata": {
    "execution": {
     "iopub.execute_input": "2020-08-29T10:12:13.224478Z",
     "iopub.status.busy": "2020-08-29T10:12:13.223787Z",
     "iopub.status.idle": "2020-08-29T10:12:13.237497Z",
     "shell.execute_reply": "2020-08-29T10:12:13.238023Z"
    },
    "papermill": {
     "duration": 0.068225,
     "end_time": "2020-08-29T10:12:13.238177",
     "exception": false,
     "start_time": "2020-08-29T10:12:13.169952",
     "status": "completed"
    },
    "tags": []
   },
   "outputs": [],
   "source": [
    "xgrid = np.linspace(-4, 1, 100) ## Adjust these values based on above chart, roughly -4 to 1\n",
    "ygrid = np.linspace(-7.5, 7.5, 100) ## Adjust these values based on above chart, roughly -7.5, 7.5\n",
    "xg, yg = np.meshgrid(xgrid, ygrid)\n",
    "# xg and yg are now both 100X100, lets convert them to single arrays \n",
    "\n",
    "xg_interim = np.ravel(xg)\n",
    "yg_interim = np.ravel(yg)\n",
    "\n",
    "## xg_interim, yg_interim are now arrays of len 10000, now we will stack them and then transpose to get desired shape of n rows, 2 columns\n",
    "\n",
    "X_interim = np.vstack((xg_interim, yg_interim)) ## Please note vstack takes in a tuple\n",
    "X = X_interim.T\n",
    "\n",
    "## We want a shape of n rows and 2 columns to be able to feed this to last affine\n",
    "## This last affine takes only two columns, hence the above transformation\n",
    "probability_contour = model_prob(X).reshape(100,100) ## to make it consistent with xg, yg"
   ]
  },
  {
   "cell_type": "code",
   "execution_count": 30,
   "metadata": {
    "execution": {
     "iopub.execute_input": "2020-08-29T10:12:13.350457Z",
     "iopub.status.busy": "2020-08-29T10:12:13.349790Z",
     "iopub.status.idle": "2020-08-29T10:12:13.624968Z",
     "shell.execute_reply": "2020-08-29T10:12:13.625471Z"
    },
    "papermill": {
     "duration": 0.335561,
     "end_time": "2020-08-29T10:12:13.625631",
     "exception": false,
     "start_time": "2020-08-29T10:12:13.290070",
     "status": "completed"
    },
    "tags": []
   },
   "outputs": [
    {
     "data": {
      "image/png": "[encoded data removed]",
      "text/plain": [
       "<Figure size 576x504 with 1 Axes>"
      ]
     },
     "metadata": {
      "needs_background": "light"
     },
     "output_type": "display_data"
    }
   ],
   "source": [
    "plt.figure(figsize=(8,7))\n",
    "plt.scatter(plot_testing[:,0], plot_testing[:,1], alpha = 0.1, c = y_test.ravel())\n",
    "contours = plt.contour(xg,yg,probability_contour)\n",
    "plt.clabel(contours, inline = True );"
   ]
  }
 ],
 "metadata": {
  "kernelspec": {
   "display_name": "Python 3",
   "language": "python",
   "name": "python3"
  },
  "language_info": {
   "codemirror_mode": {
    "name": "ipython",
    "version": 3
   },
   "file_extension": ".py",
   "mimetype": "text/x-python",
   "name": "python",
   "nbconvert_exporter": "python",
   "pygments_lexer": "ipython3",
   "version": "3.6.11"
  },
  "papermill": {
   "duration": 167.860168,
   "end_time": "2020-08-29T10:12:14.086900",
   "environment_variables": {},
   "exception": null,
   "input_path": "2020-08-07-NN-new.ipynb",
   "output_path": "2020-08-07-NN-new.ipynb",
   "parameters": {},
   "start_time": "2020-08-29T10:09:26.226732",
   "version": "2.1.2"
  }
 },
 "nbformat": 4,
 "nbformat_minor": 4
}