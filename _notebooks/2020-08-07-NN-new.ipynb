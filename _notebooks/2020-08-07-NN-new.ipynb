{
 "cells": [
  {
   "cell_type": "markdown",
   "metadata": {
    "papermill": {
     "duration": 0.032213,
     "end_time": "2020-08-20T10:11:50.673592",
     "exception": false,
     "start_time": "2020-08-20T10:11:50.641379",
     "status": "completed"
    },
    "tags": []
   },
   "source": [
    "# \"Building a basic Neural Network from scratch - Kudzu\"\n",
    "\n",
    "- badges: true\n",
    "- author: Anshuman Gupta"
   ]
  },
  {
   "cell_type": "markdown",
   "metadata": {
    "papermill": {
     "duration": 0.027044,
     "end_time": "2020-08-20T10:11:50.728498",
     "exception": false,
     "start_time": "2020-08-20T10:11:50.701454",
     "status": "completed"
    },
    "tags": []
   },
   "source": [
    "#### In this project, the idea is to write a classifier to differentiate between handwritten digits 3 and 8, from the MNIST database.\n",
    "\n",
    "#### I will using a custom built neural network library called Kudzu.This has been developed as a part of KTF/Foundations course of Univ.ai (www.univ.ai). The source code for Kudzu Library and and this notebook can be found on my git-hub profile : www.https://github.com/anshuman6 under the folder project-solution. Any feedback and comments are welcome. Please feel free to email me at: anshuman6@gmail.com\n",
    "\n",
    "#### 1. I will be using the MNIST database. \n",
    "\n",
    "#### 2. I will be comparing the results of the 4 layer NN to a standard logistic regression"
   ]
  },
  {
   "cell_type": "markdown",
   "metadata": {
    "papermill": {
     "duration": 0.027028,
     "end_time": "2020-08-20T10:11:50.782682",
     "exception": false,
     "start_time": "2020-08-20T10:11:50.755654",
     "status": "completed"
    },
    "tags": []
   },
   "source": [
    "##### Importing all the necessary libraries"
   ]
  },
  {
   "cell_type": "code",
   "execution_count": 1,
   "metadata": {
    "execution": {
     "iopub.execute_input": "2020-08-20T10:11:50.845179Z",
     "iopub.status.busy": "2020-08-20T10:11:50.844549Z",
     "iopub.status.idle": "2020-08-20T10:11:50.857143Z",
     "shell.execute_reply": "2020-08-20T10:11:50.857660Z"
    },
    "papermill": {
     "duration": 0.047267,
     "end_time": "2020-08-20T10:11:50.857831",
     "exception": false,
     "start_time": "2020-08-20T10:11:50.810564",
     "status": "completed"
    },
    "tags": []
   },
   "outputs": [],
   "source": [
    "%load_ext autoreload\n",
    "%autoreload 2"
   ]
  },
  {
   "cell_type": "code",
   "execution_count": 2,
   "metadata": {
    "execution": {
     "iopub.execute_input": "2020-08-20T10:11:50.916979Z",
     "iopub.status.busy": "2020-08-20T10:11:50.916368Z",
     "iopub.status.idle": "2020-08-20T10:11:51.484231Z",
     "shell.execute_reply": "2020-08-20T10:11:51.483352Z"
    },
    "papermill": {
     "duration": 0.599545,
     "end_time": "2020-08-20T10:11:51.484452",
     "exception": false,
     "start_time": "2020-08-20T10:11:50.884907",
     "status": "completed"
    },
    "tags": []
   },
   "outputs": [],
   "source": [
    "%matplotlib inline\n",
    "import numpy as np\n",
    "import matplotlib.pyplot as plt\n",
    "import pandas as pd"
   ]
  },
  {
   "cell_type": "markdown",
   "metadata": {
    "papermill": {
     "duration": 0.026634,
     "end_time": "2020-08-20T10:11:51.539702",
     "exception": false,
     "start_time": "2020-08-20T10:11:51.513068",
     "status": "completed"
    },
    "tags": []
   },
   "source": [
    "##### The following command helps us download MNIST from notebook itself. You can skip this if you already have MNIST. You can also download it via your terminal."
   ]
  },
  {
   "cell_type": "code",
   "execution_count": 3,
   "metadata": {
    "execution": {
     "iopub.execute_input": "2020-08-20T10:11:51.597986Z",
     "iopub.status.busy": "2020-08-20T10:11:51.597394Z",
     "iopub.status.idle": "2020-08-20T10:11:53.204136Z",
     "shell.execute_reply": "2020-08-20T10:11:53.203606Z"
    },
    "papermill": {
     "duration": 1.638045,
     "end_time": "2020-08-20T10:11:53.204281",
     "exception": false,
     "start_time": "2020-08-20T10:11:51.566236",
     "status": "completed"
    },
    "tags": []
   },
   "outputs": [
    {
     "name": "stdout",
     "output_type": "stream",
     "text": [
      "Collecting mnist\r\n"
     ]
    },
    {
     "name": "stdout",
     "output_type": "stream",
     "text": [
      "  Downloading mnist-0.2.2-py2.py3-none-any.whl (3.5 kB)\r\n"
     ]
    },
    {
     "name": "stdout",
     "output_type": "stream",
     "text": [
      "Requirement already satisfied: numpy in /opt/hostedtoolcache/Python/3.6.11/x64/lib/python3.6/site-packages (from mnist) (1.19.1)\r\n"
     ]
    },
    {
     "name": "stdout",
     "output_type": "stream",
     "text": [
      "Installing collected packages: mnist\r\n",
      "Successfully installed mnist-0.2.2\r\n"
     ]
    }
   ],
   "source": [
    "!pip install mnist # Please note, it is commented out for now, you can remove comment if you want to install it"
   ]
  },
  {
   "cell_type": "markdown",
   "metadata": {
    "papermill": {
     "duration": 0.02923,
     "end_time": "2020-08-20T10:11:53.265870",
     "exception": false,
     "start_time": "2020-08-20T10:11:53.236640",
     "status": "completed"
    },
    "tags": []
   },
   "source": [
    "#### Preparing the Data"
   ]
  },
  {
   "cell_type": "code",
   "execution_count": 4,
   "metadata": {
    "execution": {
     "iopub.execute_input": "2020-08-20T10:11:53.331337Z",
     "iopub.status.busy": "2020-08-20T10:11:53.330267Z",
     "iopub.status.idle": "2020-08-20T10:11:53.343757Z",
     "shell.execute_reply": "2020-08-20T10:11:53.344243Z"
    },
    "papermill": {
     "duration": 0.050431,
     "end_time": "2020-08-20T10:11:53.344404",
     "exception": false,
     "start_time": "2020-08-20T10:11:53.293973",
     "status": "completed"
    },
    "tags": []
   },
   "outputs": [],
   "source": [
    "import mnist"
   ]
  },
  {
   "cell_type": "code",
   "execution_count": 5,
   "metadata": {
    "execution": {
     "iopub.execute_input": "2020-08-20T10:11:53.411627Z",
     "iopub.status.busy": "2020-08-20T10:11:53.411043Z",
     "iopub.status.idle": "2020-08-20T10:11:55.150331Z",
     "shell.execute_reply": "2020-08-20T10:11:55.151162Z"
    },
    "papermill": {
     "duration": 1.774906,
     "end_time": "2020-08-20T10:11:55.151314",
     "exception": false,
     "start_time": "2020-08-20T10:11:53.376408",
     "status": "completed"
    },
    "tags": []
   },
   "outputs": [],
   "source": [
    "train_images = mnist.train_images()\n",
    "train_labels = mnist.train_labels()"
   ]
  },
  {
   "cell_type": "code",
   "execution_count": 6,
   "metadata": {
    "execution": {
     "iopub.execute_input": "2020-08-20T10:11:55.212667Z",
     "iopub.status.busy": "2020-08-20T10:11:55.212101Z",
     "iopub.status.idle": "2020-08-20T10:11:55.227926Z",
     "shell.execute_reply": "2020-08-20T10:11:55.227222Z"
    },
    "papermill": {
     "duration": 0.048676,
     "end_time": "2020-08-20T10:11:55.228057",
     "exception": false,
     "start_time": "2020-08-20T10:11:55.179381",
     "status": "completed"
    },
    "tags": []
   },
   "outputs": [
    {
     "data": {
      "text/plain": [
       "((60000, 28, 28), (60000,))"
      ]
     },
     "execution_count": 6,
     "metadata": {},
     "output_type": "execute_result"
    }
   ],
   "source": [
    "train_images.shape, train_labels.shape"
   ]
  },
  {
   "cell_type": "code",
   "execution_count": 7,
   "metadata": {
    "execution": {
     "iopub.execute_input": "2020-08-20T10:11:55.288201Z",
     "iopub.status.busy": "2020-08-20T10:11:55.287429Z",
     "iopub.status.idle": "2020-08-20T10:11:56.152190Z",
     "shell.execute_reply": "2020-08-20T10:11:56.151264Z"
    },
    "papermill": {
     "duration": 0.896465,
     "end_time": "2020-08-20T10:11:56.152404",
     "exception": false,
     "start_time": "2020-08-20T10:11:55.255939",
     "status": "completed"
    },
    "tags": []
   },
   "outputs": [],
   "source": [
    "test_images = mnist.test_images()\n",
    "test_labels = mnist.test_labels()"
   ]
  },
  {
   "cell_type": "code",
   "execution_count": 8,
   "metadata": {
    "execution": {
     "iopub.execute_input": "2020-08-20T10:11:56.217221Z",
     "iopub.status.busy": "2020-08-20T10:11:56.216063Z",
     "iopub.status.idle": "2020-08-20T10:11:56.232492Z",
     "shell.execute_reply": "2020-08-20T10:11:56.231987Z"
    },
    "papermill": {
     "duration": 0.050366,
     "end_time": "2020-08-20T10:11:56.232618",
     "exception": false,
     "start_time": "2020-08-20T10:11:56.182252",
     "status": "completed"
    },
    "tags": []
   },
   "outputs": [
    {
     "data": {
      "text/plain": [
       "((10000, 28, 28), (10000,))"
      ]
     },
     "execution_count": 8,
     "metadata": {},
     "output_type": "execute_result"
    }
   ],
   "source": [
    "test_images.shape, test_labels.shape"
   ]
  },
  {
   "cell_type": "code",
   "execution_count": 9,
   "metadata": {
    "execution": {
     "iopub.execute_input": "2020-08-20T10:11:56.297270Z",
     "iopub.status.busy": "2020-08-20T10:11:56.296687Z",
     "iopub.status.idle": "2020-08-20T10:11:56.459742Z",
     "shell.execute_reply": "2020-08-20T10:11:56.459228Z"
    },
    "papermill": {
     "duration": 0.197871,
     "end_time": "2020-08-20T10:11:56.459885",
     "exception": false,
     "start_time": "2020-08-20T10:11:56.262014",
     "status": "completed"
    },
    "tags": []
   },
   "outputs": [
    {
     "name": "stdout",
     "output_type": "stream",
     "text": [
      "2\n"
     ]
    },
    {
     "data": {
      "text/plain": [
       "<matplotlib.image.AxesImage at 0x7fe70b5a7320>"
      ]
     },
     "execution_count": 9,
     "metadata": {},
     "output_type": "execute_result"
    },
    {
     "data": {
      "image/png": "[encoded data removed]",
      "text/plain": [
       "<Figure size 432x288 with 1 Axes>"
      ]
     },
     "metadata": {
      "needs_background": "light"
     },
     "output_type": "display_data"
    }
   ],
   "source": [
    "image_index = 7776 # You may select anything up to 60,000\n",
    "print(train_labels[image_index]) \n",
    "plt.imshow(train_images[image_index], cmap='Greys')"
   ]
  },
  {
   "cell_type": "markdown",
   "metadata": {
    "papermill": {
     "duration": 0.035217,
     "end_time": "2020-08-20T10:11:56.527738",
     "exception": false,
     "start_time": "2020-08-20T10:11:56.492521",
     "status": "completed"
    },
    "tags": []
   },
   "source": [
    "## Filter data to get 3 and 8 out"
   ]
  },
  {
   "cell_type": "code",
   "execution_count": 10,
   "metadata": {
    "execution": {
     "iopub.execute_input": "2020-08-20T10:11:56.594970Z",
     "iopub.status.busy": "2020-08-20T10:11:56.593924Z",
     "iopub.status.idle": "2020-08-20T10:11:56.612343Z",
     "shell.execute_reply": "2020-08-20T10:11:56.611772Z"
    },
    "papermill": {
     "duration": 0.054904,
     "end_time": "2020-08-20T10:11:56.612465",
     "exception": false,
     "start_time": "2020-08-20T10:11:56.557561",
     "status": "completed"
    },
    "tags": []
   },
   "outputs": [],
   "source": [
    "train_filter = np.where((train_labels == 3 ) | (train_labels == 8))\n",
    "test_filter = np.where((test_labels == 3) | (test_labels == 8))\n",
    "X_train, y_train = train_images[train_filter], train_labels[train_filter]\n",
    "X_test, y_test = test_images[test_filter], test_labels[test_filter]"
   ]
  },
  {
   "cell_type": "markdown",
   "metadata": {
    "papermill": {
     "duration": 0.030815,
     "end_time": "2020-08-20T10:11:56.673480",
     "exception": false,
     "start_time": "2020-08-20T10:11:56.642665",
     "status": "completed"
    },
    "tags": []
   },
   "source": [
    "##### We normalize the pizel values in the 0 to 1 range"
   ]
  },
  {
   "cell_type": "code",
   "execution_count": 11,
   "metadata": {
    "execution": {
     "iopub.execute_input": "2020-08-20T10:11:56.741315Z",
     "iopub.status.busy": "2020-08-20T10:11:56.740699Z",
     "iopub.status.idle": "2020-08-20T10:11:56.795654Z",
     "shell.execute_reply": "2020-08-20T10:11:56.795072Z"
    },
    "papermill": {
     "duration": 0.090544,
     "end_time": "2020-08-20T10:11:56.795788",
     "exception": false,
     "start_time": "2020-08-20T10:11:56.705244",
     "status": "completed"
    },
    "tags": []
   },
   "outputs": [],
   "source": [
    "X_train = X_train/255.\n",
    "X_test = X_test/255."
   ]
  },
  {
   "cell_type": "markdown",
   "metadata": {
    "papermill": {
     "duration": 0.030733,
     "end_time": "2020-08-20T10:11:56.857506",
     "exception": false,
     "start_time": "2020-08-20T10:11:56.826773",
     "status": "completed"
    },
    "tags": []
   },
   "source": [
    "And setup the labels as 1 (when the digit is 3) and 0 (when the digit is 8)"
   ]
  },
  {
   "cell_type": "code",
   "execution_count": 12,
   "metadata": {
    "execution": {
     "iopub.execute_input": "2020-08-20T10:11:56.922362Z",
     "iopub.status.busy": "2020-08-20T10:11:56.921721Z",
     "iopub.status.idle": "2020-08-20T10:11:56.934618Z",
     "shell.execute_reply": "2020-08-20T10:11:56.934100Z"
    },
    "papermill": {
     "duration": 0.047383,
     "end_time": "2020-08-20T10:11:56.934745",
     "exception": false,
     "start_time": "2020-08-20T10:11:56.887362",
     "status": "completed"
    },
    "tags": []
   },
   "outputs": [],
   "source": [
    "y_train = 1*(y_train==3)\n",
    "y_test = 1*(y_test==3)"
   ]
  },
  {
   "cell_type": "code",
   "execution_count": 13,
   "metadata": {
    "execution": {
     "iopub.execute_input": "2020-08-20T10:11:57.002588Z",
     "iopub.status.busy": "2020-08-20T10:11:57.002004Z",
     "iopub.status.idle": "2020-08-20T10:11:57.016416Z",
     "shell.execute_reply": "2020-08-20T10:11:57.015918Z"
    },
    "papermill": {
     "duration": 0.051201,
     "end_time": "2020-08-20T10:11:57.016542",
     "exception": false,
     "start_time": "2020-08-20T10:11:56.965341",
     "status": "completed"
    },
    "tags": []
   },
   "outputs": [
    {
     "data": {
      "text/plain": [
       "((11982, 28, 28), (1984, 28, 28))"
      ]
     },
     "execution_count": 13,
     "metadata": {},
     "output_type": "execute_result"
    }
   ],
   "source": [
    "X_train.shape, X_test.shape"
   ]
  },
  {
   "cell_type": "markdown",
   "metadata": {
    "papermill": {
     "duration": 0.030727,
     "end_time": "2020-08-20T10:11:57.079089",
     "exception": false,
     "start_time": "2020-08-20T10:11:57.048362",
     "status": "completed"
    },
    "tags": []
   },
   "source": [
    "##### We reshape the data to flatten the image pixels into a set of features or co-variates:"
   ]
  },
  {
   "cell_type": "code",
   "execution_count": 14,
   "metadata": {
    "execution": {
     "iopub.execute_input": "2020-08-20T10:11:57.155386Z",
     "iopub.status.busy": "2020-08-20T10:11:57.154792Z",
     "iopub.status.idle": "2020-08-20T10:11:57.169640Z",
     "shell.execute_reply": "2020-08-20T10:11:57.169158Z"
    },
    "papermill": {
     "duration": 0.059317,
     "end_time": "2020-08-20T10:11:57.169770",
     "exception": false,
     "start_time": "2020-08-20T10:11:57.110453",
     "status": "completed"
    },
    "tags": []
   },
   "outputs": [
    {
     "data": {
      "text/plain": [
       "((11982, 784), (1984, 784))"
      ]
     },
     "execution_count": 14,
     "metadata": {},
     "output_type": "execute_result"
    }
   ],
   "source": [
    "X_train = X_train.reshape(X_train.shape[0], -1)\n",
    "X_test = X_test.reshape(X_test.shape[0], -1)\n",
    "X_train.shape, X_test.shape"
   ]
  },
  {
   "cell_type": "markdown",
   "metadata": {
    "papermill": {
     "duration": 0.029477,
     "end_time": "2020-08-20T10:11:57.229724",
     "exception": false,
     "start_time": "2020-08-20T10:11:57.200247",
     "status": "completed"
    },
    "tags": []
   },
   "source": [
    "##### Importing Kudzu library and its functionality"
   ]
  },
  {
   "cell_type": "code",
   "execution_count": 15,
   "metadata": {
    "execution": {
     "iopub.execute_input": "2020-08-20T10:11:57.298885Z",
     "iopub.status.busy": "2020-08-20T10:11:57.298326Z",
     "iopub.status.idle": "2020-08-20T10:11:57.316879Z",
     "shell.execute_reply": "2020-08-20T10:11:57.316214Z"
    },
    "papermill": {
     "duration": 0.057269,
     "end_time": "2020-08-20T10:11:57.317080",
     "exception": false,
     "start_time": "2020-08-20T10:11:57.259811",
     "status": "completed"
    },
    "tags": []
   },
   "outputs": [],
   "source": [
    "from kudzu.data import Data, Dataloader, Sampler\n",
    "from kudzu.callbacks import AccCallback\n",
    "from kudzu.loss import MSE\n",
    "from kudzu.layer import Affine, Sigmoid\n",
    "from kudzu.model import Model\n",
    "from kudzu.optim import GD\n",
    "from kudzu.train import Learner\n",
    "from kudzu.callbacks import ClfCallback\n",
    "from kudzu.layer import Sigmoid\n",
    "from kudzu.layer import Relu"
   ]
  },
  {
   "cell_type": "markdown",
   "metadata": {
    "papermill": {
     "duration": 0.029568,
     "end_time": "2020-08-20T10:11:57.377489",
     "exception": false,
     "start_time": "2020-08-20T10:11:57.347921",
     "status": "completed"
    },
    "tags": []
   },
   "source": [
    "##### We are creating a class, just so that we can use it to store our parameters for us"
   ]
  },
  {
   "cell_type": "code",
   "execution_count": 16,
   "metadata": {
    "execution": {
     "iopub.execute_input": "2020-08-20T10:11:57.443738Z",
     "iopub.status.busy": "2020-08-20T10:11:57.442725Z",
     "iopub.status.idle": "2020-08-20T10:11:57.458651Z",
     "shell.execute_reply": "2020-08-20T10:11:57.458145Z"
    },
    "papermill": {
     "duration": 0.049977,
     "end_time": "2020-08-20T10:11:57.458765",
     "exception": false,
     "start_time": "2020-08-20T10:11:57.408788",
     "status": "completed"
    },
    "tags": []
   },
   "outputs": [],
   "source": [
    "class Config:\n",
    "    pass\n",
    "config = Config()\n",
    "config.lr = 0.001\n",
    "config.num_epochs = 250\n",
    "config.bs = 50"
   ]
  },
  {
   "cell_type": "markdown",
   "metadata": {
    "papermill": {
     "duration": 0.028971,
     "end_time": "2020-08-20T10:11:57.517554",
     "exception": false,
     "start_time": "2020-08-20T10:11:57.488583",
     "status": "completed"
    },
    "tags": []
   },
   "source": [
    "##### Initializing Data"
   ]
  },
  {
   "cell_type": "code",
   "execution_count": 17,
   "metadata": {
    "execution": {
     "iopub.execute_input": "2020-08-20T10:11:57.592526Z",
     "iopub.status.busy": "2020-08-20T10:11:57.591979Z",
     "iopub.status.idle": "2020-08-20T10:11:57.604097Z",
     "shell.execute_reply": "2020-08-20T10:11:57.603603Z"
    },
    "papermill": {
     "duration": 0.055539,
     "end_time": "2020-08-20T10:11:57.604218",
     "exception": false,
     "start_time": "2020-08-20T10:11:57.548679",
     "status": "completed"
    },
    "tags": []
   },
   "outputs": [],
   "source": [
    "data = Data(X_train, y_train.reshape(-1,1))\n",
    "loss = MSE()\n",
    "opt = GD(config.lr)\n",
    "sampler = Sampler(data, config.bs, shuffle=True)\n",
    "dl = Dataloader(data, sampler)"
   ]
  },
  {
   "cell_type": "markdown",
   "metadata": {
    "papermill": {
     "duration": 0.03038,
     "end_time": "2020-08-20T10:11:57.664366",
     "exception": false,
     "start_time": "2020-08-20T10:11:57.633986",
     "status": "completed"
    },
    "tags": []
   },
   "source": [
    "##### Constructing 2 different layers, one for NN and one only for logistic regression."
   ]
  },
  {
   "cell_type": "markdown",
   "metadata": {
    "papermill": {
     "duration": 0.030148,
     "end_time": "2020-08-20T10:11:57.725004",
     "exception": false,
     "start_time": "2020-08-20T10:11:57.694856",
     "status": "completed"
    },
    "tags": []
   },
   "source": [
    "##### Creating containers for data to be passed, to calculate accuracies"
   ]
  },
  {
   "cell_type": "code",
   "execution_count": 18,
   "metadata": {
    "execution": {
     "iopub.execute_input": "2020-08-20T10:11:57.789072Z",
     "iopub.status.busy": "2020-08-20T10:11:57.788452Z",
     "iopub.status.idle": "2020-08-20T10:11:57.803201Z",
     "shell.execute_reply": "2020-08-20T10:11:57.803639Z"
    },
    "papermill": {
     "duration": 0.04875,
     "end_time": "2020-08-20T10:11:57.803774",
     "exception": false,
     "start_time": "2020-08-20T10:11:57.755024",
     "status": "completed"
    },
    "tags": []
   },
   "outputs": [],
   "source": [
    "training_xdata = X_train\n",
    "testing_xdata = X_test\n",
    "training_ydata = y_train.reshape(-1,1)\n",
    "testing_ydata = y_test.reshape(-1,1)"
   ]
  },
  {
   "cell_type": "markdown",
   "metadata": {
    "papermill": {
     "duration": 0.029742,
     "end_time": "2020-08-20T10:11:57.863344",
     "exception": false,
     "start_time": "2020-08-20T10:11:57.833602",
     "status": "completed"
    },
    "tags": []
   },
   "source": [
    "##### Initializing models and Running training loop: "
   ]
  },
  {
   "cell_type": "code",
   "execution_count": 19,
   "metadata": {
    "execution": {
     "iopub.execute_input": "2020-08-20T10:11:57.928102Z",
     "iopub.status.busy": "2020-08-20T10:11:57.927527Z",
     "iopub.status.idle": "2020-08-20T10:11:57.944988Z",
     "shell.execute_reply": "2020-08-20T10:11:57.944457Z"
    },
    "papermill": {
     "duration": 0.052102,
     "end_time": "2020-08-20T10:11:57.945105",
     "exception": false,
     "start_time": "2020-08-20T10:11:57.893003",
     "status": "completed"
    },
    "tags": []
   },
   "outputs": [],
   "source": [
    "layers = [Affine(\"first\", 784, 100), Relu(\"first\"), Affine(\"second\", 100, 100), Relu(\"second\"), Affine(\"third\", 100, 2), Affine(\"final\", 2, 1), Sigmoid(\"final\")]\n",
    "\n",
    "model_neural = Model(layers)\n",
    "model_logistic = Model([Affine(\"logits\", 784, 1), Sigmoid(\"sigmoid\")])"
   ]
  },
  {
   "cell_type": "code",
   "execution_count": 20,
   "metadata": {
    "execution": {
     "iopub.execute_input": "2020-08-20T10:11:58.010071Z",
     "iopub.status.busy": "2020-08-20T10:11:58.009480Z",
     "iopub.status.idle": "2020-08-20T10:11:58.025404Z",
     "shell.execute_reply": "2020-08-20T10:11:58.024911Z"
    },
    "papermill": {
     "duration": 0.050438,
     "end_time": "2020-08-20T10:11:58.025536",
     "exception": false,
     "start_time": "2020-08-20T10:11:57.975098",
     "status": "completed"
    },
    "tags": []
   },
   "outputs": [],
   "source": [
    "learner1 = Learner(loss, model_neural, opt, config.num_epochs)\n",
    "acc1 = ClfCallback(learner1, config.bs, training_xdata , testing_xdata, training_ydata, testing_ydata)\n",
    "learner1.set_callbacks([acc1])"
   ]
  },
  {
   "cell_type": "code",
   "execution_count": 21,
   "metadata": {
    "execution": {
     "iopub.execute_input": "2020-08-20T10:11:58.091276Z",
     "iopub.status.busy": "2020-08-20T10:11:58.090717Z",
     "iopub.status.idle": "2020-08-20T10:13:22.336357Z",
     "shell.execute_reply": "2020-08-20T10:13:22.337193Z"
    },
    "papermill": {
     "duration": 84.281336,
     "end_time": "2020-08-20T10:13:22.337360",
     "exception": false,
     "start_time": "2020-08-20T10:11:58.056024",
     "status": "completed"
    },
    "tags": []
   },
   "outputs": [
    {
     "name": "stdout",
     "output_type": "stream",
     "text": [
      "Epoch 0 Loss 0.21580982384329458\n",
      "train accuracy is: 0.8294942413620431, test accuracy is 0.8210685483870968\n"
     ]
    },
    {
     "name": "stdout",
     "output_type": "stream",
     "text": [
      "Epoch 10 Loss 0.0531278230791063\n",
      "train accuracy is: 0.9458354197963612, test accuracy is 0.953125\n"
     ]
    },
    {
     "name": "stdout",
     "output_type": "stream",
     "text": [
      "Epoch 20 Loss 0.03890969019930544\n",
      "train accuracy is: 0.9584376564847271, test accuracy is 0.9621975806451613\n"
     ]
    },
    {
     "name": "stdout",
     "output_type": "stream",
     "text": [
      "Epoch 30 Loss 0.03313273726779931\n",
      "train accuracy is: 0.9644466700050075, test accuracy is 0.9647177419354839\n"
     ]
    },
    {
     "name": "stdout",
     "output_type": "stream",
     "text": [
      "Epoch 40 Loss 0.029774564132454537\n",
      "train accuracy is: 0.9677015523284928, test accuracy is 0.9682459677419355\n"
     ]
    },
    {
     "name": "stdout",
     "output_type": "stream",
     "text": [
      "Epoch 50 Loss 0.0275159534601196\n",
      "train accuracy is: 0.9701218494408279, test accuracy is 0.969758064516129\n"
     ]
    },
    {
     "name": "stdout",
     "output_type": "stream",
     "text": [
      "Epoch 60 Loss 0.025836560491456537\n",
      "train accuracy is: 0.971373727257553, test accuracy is 0.9707661290322581\n"
     ]
    },
    {
     "name": "stdout",
     "output_type": "stream",
     "text": [
      "Epoch 70 Loss 0.02449628406631844\n",
      "train accuracy is: 0.9735436488065431, test accuracy is 0.9702620967741935\n"
     ]
    },
    {
     "name": "stdout",
     "output_type": "stream",
     "text": [
      "Epoch 80 Loss 0.023380209391795834\n",
      "train accuracy is: 0.9747955266232682, test accuracy is 0.9712701612903226\n"
     ]
    },
    {
     "name": "stdout",
     "output_type": "stream",
     "text": [
      "Epoch 90 Loss 0.022431061570742313\n",
      "train accuracy is: 0.9758804873977633, test accuracy is 0.9717741935483871\n"
     ]
    },
    {
     "name": "stdout",
     "output_type": "stream",
     "text": [
      "Epoch 100 Loss 0.02159740663235838\n",
      "train accuracy is: 0.9764646970455684, test accuracy is 0.9737903225806451\n"
     ]
    },
    {
     "name": "stdout",
     "output_type": "stream",
     "text": [
      "Epoch 110 Loss 0.0208395750909606\n",
      "train accuracy is: 0.9771323652144884, test accuracy is 0.9747983870967742\n"
     ]
    },
    {
     "name": "stdout",
     "output_type": "stream",
     "text": [
      "Epoch 120 Loss 0.020165759574656807\n",
      "train accuracy is: 0.9774661992989484, test accuracy is 0.9747983870967742\n"
     ]
    },
    {
     "name": "stdout",
     "output_type": "stream",
     "text": [
      "Epoch 130 Loss 0.019523286028681714\n",
      "train accuracy is: 0.9785511600734434, test accuracy is 0.9747983870967742\n"
     ]
    },
    {
     "name": "stdout",
     "output_type": "stream",
     "text": [
      "Epoch 140 Loss 0.01890129857998827\n",
      "train accuracy is: 0.9794692038057086, test accuracy is 0.9747983870967742\n"
     ]
    },
    {
     "name": "stdout",
     "output_type": "stream",
     "text": [
      "Epoch 150 Loss 0.01831835117507269\n",
      "train accuracy is: 0.9802203304957436, test accuracy is 0.9747983870967742\n"
     ]
    },
    {
     "name": "stdout",
     "output_type": "stream",
     "text": [
      "Epoch 160 Loss 0.01777968342621326\n",
      "train accuracy is: 0.9807210816224337, test accuracy is 0.9753024193548387\n"
     ]
    },
    {
     "name": "stdout",
     "output_type": "stream",
     "text": [
      "Epoch 170 Loss 0.01728242657959626\n",
      "train accuracy is: 0.9815556668335838, test accuracy is 0.9753024193548387\n"
     ]
    },
    {
     "name": "stdout",
     "output_type": "stream",
     "text": [
      "Epoch 180 Loss 0.016796063296272323\n",
      "train accuracy is: 0.9820564179602738, test accuracy is 0.9753024193548387\n"
     ]
    },
    {
     "name": "stdout",
     "output_type": "stream",
     "text": [
      "Epoch 190 Loss 0.016336422817290967\n",
      "train accuracy is: 0.9825571690869638, test accuracy is 0.9758064516129032\n"
     ]
    },
    {
     "name": "stdout",
     "output_type": "stream",
     "text": [
      "Epoch 200 Loss 0.015893587571027303\n",
      "train accuracy is: 0.9831413787347688, test accuracy is 0.9768145161290323\n"
     ]
    },
    {
     "name": "stdout",
     "output_type": "stream",
     "text": [
      "Epoch 210 Loss 0.015470617077559574\n",
      "train accuracy is: 0.9836421298614588, test accuracy is 0.9768145161290323\n"
     ]
    },
    {
     "name": "stdout",
     "output_type": "stream",
     "text": [
      "Epoch 220 Loss 0.015041898192641338\n",
      "train accuracy is: 0.9843097980303789, test accuracy is 0.9773185483870968\n"
     ]
    },
    {
     "name": "stdout",
     "output_type": "stream",
     "text": [
      "Epoch 230 Loss 0.014649643920038086\n",
      "train accuracy is: 0.984727090635954, test accuracy is 0.9773185483870968\n"
     ]
    },
    {
     "name": "stdout",
     "output_type": "stream",
     "text": [
      "Epoch 240 Loss 0.014264113728954659\n",
      "train accuracy is: 0.985311300283759, test accuracy is 0.9773185483870968\n"
     ]
    },
    {
     "data": {
      "text/plain": [
       "0.005428480071828441"
      ]
     },
     "execution_count": 21,
     "metadata": {},
     "output_type": "execute_result"
    }
   ],
   "source": [
    "learner1.train_loop(dl)"
   ]
  },
  {
   "cell_type": "markdown",
   "metadata": {
    "papermill": {
     "duration": 0.037334,
     "end_time": "2020-08-20T10:13:22.413439",
     "exception": false,
     "start_time": "2020-08-20T10:13:22.376105",
     "status": "completed"
    },
    "tags": []
   },
   "source": [
    "##### Now running only the logistic regression based classification to compare results with NN"
   ]
  },
  {
   "cell_type": "code",
   "execution_count": 22,
   "metadata": {
    "execution": {
     "iopub.execute_input": "2020-08-20T10:13:22.493375Z",
     "iopub.status.busy": "2020-08-20T10:13:22.492459Z",
     "iopub.status.idle": "2020-08-20T10:13:22.506929Z",
     "shell.execute_reply": "2020-08-20T10:13:22.506413Z"
    },
    "papermill": {
     "duration": 0.05609,
     "end_time": "2020-08-20T10:13:22.507060",
     "exception": false,
     "start_time": "2020-08-20T10:13:22.450970",
     "status": "completed"
    },
    "tags": []
   },
   "outputs": [],
   "source": [
    "learner2 = Learner(loss, model_logistic, opt, config.num_epochs)\n",
    "acc2 = ClfCallback(learner2, config.bs, training_xdata , testing_xdata, training_ydata, testing_ydata)\n",
    "learner2.set_callbacks([acc2])"
   ]
  },
  {
   "cell_type": "code",
   "execution_count": 23,
   "metadata": {
    "execution": {
     "iopub.execute_input": "2020-08-20T10:13:22.589928Z",
     "iopub.status.busy": "2020-08-20T10:13:22.589302Z",
     "iopub.status.idle": "2020-08-20T10:13:38.086719Z",
     "shell.execute_reply": "2020-08-20T10:13:38.087631Z"
    },
    "papermill": {
     "duration": 15.543941,
     "end_time": "2020-08-20T10:13:38.087788",
     "exception": false,
     "start_time": "2020-08-20T10:13:22.543847",
     "status": "completed"
    },
    "tags": []
   },
   "outputs": [
    {
     "name": "stdout",
     "output_type": "stream",
     "text": [
      "Epoch 0 Loss 0.2203408998229039\n",
      "train accuracy is: 0.785845434818895, test accuracy is 0.7878024193548387\n"
     ]
    },
    {
     "name": "stdout",
     "output_type": "stream",
     "text": [
      "Epoch 10 Loss 0.09922706211931771\n",
      "train accuracy is: 0.914204640293774, test accuracy is 0.9279233870967742\n"
     ]
    },
    {
     "name": "stdout",
     "output_type": "stream",
     "text": [
      "Epoch 20 Loss 0.07785067965630853\n",
      "train accuracy is: 0.9296444667000501, test accuracy is 0.9435483870967742\n"
     ]
    },
    {
     "name": "stdout",
     "output_type": "stream",
     "text": [
      "Epoch 30 Loss 0.06758386458539911\n",
      "train accuracy is: 0.9375730262059756, test accuracy is 0.9490927419354839\n"
     ]
    },
    {
     "name": "stdout",
     "output_type": "stream",
     "text": [
      "Epoch 40 Loss 0.06127309091109991\n",
      "train accuracy is: 0.9424136204306459, test accuracy is 0.9526209677419355\n"
     ]
    },
    {
     "name": "stdout",
     "output_type": "stream",
     "text": [
      "Epoch 50 Loss 0.05691561347960515\n",
      "train accuracy is: 0.9450008345852111, test accuracy is 0.9546370967741935\n"
     ]
    },
    {
     "name": "stdout",
     "output_type": "stream",
     "text": [
      "Epoch 60 Loss 0.053686144695124935\n",
      "train accuracy is: 0.9477549657820064, test accuracy is 0.9561491935483871\n"
     ]
    },
    {
     "name": "stdout",
     "output_type": "stream",
     "text": [
      "Epoch 70 Loss 0.051175923388635226\n",
      "train accuracy is: 0.9495910532465365, test accuracy is 0.9576612903225806\n"
     ]
    },
    {
     "name": "stdout",
     "output_type": "stream",
     "text": [
      "Epoch 80 Loss 0.04915585503178704\n",
      "train accuracy is: 0.9510098481054916, test accuracy is 0.9591733870967742\n"
     ]
    },
    {
     "name": "stdout",
     "output_type": "stream",
     "text": [
      "Epoch 90 Loss 0.047486969264860415\n",
      "train accuracy is: 0.9521782674011017, test accuracy is 0.9596774193548387\n"
     ]
    },
    {
     "name": "stdout",
     "output_type": "stream",
     "text": [
      "Epoch 100 Loss 0.046077864220689525\n",
      "train accuracy is: 0.9530128526122517, test accuracy is 0.9606854838709677\n"
     ]
    },
    {
     "name": "stdout",
     "output_type": "stream",
     "text": [
      "Epoch 110 Loss 0.04486670769129943\n",
      "train accuracy is: 0.9532632281755967, test accuracy is 0.9627016129032258\n"
     ]
    },
    {
     "name": "stdout",
     "output_type": "stream",
     "text": [
      "Epoch 120 Loss 0.04381446571808709\n",
      "train accuracy is: 0.9535970622600568, test accuracy is 0.9637096774193549\n"
     ]
    },
    {
     "name": "stdout",
     "output_type": "stream",
     "text": [
      "Epoch 130 Loss 0.04288631541515767\n",
      "train accuracy is: 0.9548489400767819, test accuracy is 0.9642137096774194\n"
     ]
    },
    {
     "name": "stdout",
     "output_type": "stream",
     "text": [
      "Epoch 140 Loss 0.04206067993331965\n",
      "train accuracy is: 0.9557669838090469, test accuracy is 0.9637096774193549\n"
     ]
    },
    {
     "name": "stdout",
     "output_type": "stream",
     "text": [
      "Epoch 150 Loss 0.04131889450176391\n",
      "train accuracy is: 0.956685027541312, test accuracy is 0.9642137096774194\n"
     ]
    },
    {
     "name": "stdout",
     "output_type": "stream",
     "text": [
      "Epoch 160 Loss 0.040648554866462384\n",
      "train accuracy is: 0.957018861625772, test accuracy is 0.9647177419354839\n"
     ]
    },
    {
     "name": "stdout",
     "output_type": "stream",
     "text": [
      "Epoch 170 Loss 0.040039004224978865\n",
      "train accuracy is: 0.957269237189117, test accuracy is 0.9647177419354839\n"
     ]
    },
    {
     "name": "stdout",
     "output_type": "stream",
     "text": [
      "Epoch 180 Loss 0.03948077424118751\n",
      "train accuracy is: 0.957603071273577, test accuracy is 0.9652217741935484\n"
     ]
    },
    {
     "name": "stdout",
     "output_type": "stream",
     "text": [
      "Epoch 190 Loss 0.038966582383525954\n",
      "train accuracy is: 0.9581872809213821, test accuracy is 0.9657258064516129\n"
     ]
    },
    {
     "name": "stdout",
     "output_type": "stream",
     "text": [
      "Epoch 200 Loss 0.03849147727606377\n",
      "train accuracy is: 0.9590218661325322, test accuracy is 0.9662298387096774\n"
     ]
    },
    {
     "name": "stdout",
     "output_type": "stream",
     "text": [
      "Epoch 210 Loss 0.03805052425088866\n",
      "train accuracy is: 0.9594391587381071, test accuracy is 0.9662298387096774\n"
     ]
    },
    {
     "name": "stdout",
     "output_type": "stream",
     "text": [
      "Epoch 220 Loss 0.03764029365318249\n",
      "train accuracy is: 0.9601068269070272, test accuracy is 0.9667338709677419\n"
     ]
    },
    {
     "name": "stdout",
     "output_type": "stream",
     "text": [
      "Epoch 230 Loss 0.037255743607218894\n",
      "train accuracy is: 0.9600233683859122, test accuracy is 0.9667338709677419\n"
     ]
    },
    {
     "name": "stdout",
     "output_type": "stream",
     "text": [
      "Epoch 240 Loss 0.036895687785519674\n",
      "train accuracy is: 0.9601902854281422, test accuracy is 0.9667338709677419\n"
     ]
    },
    {
     "data": {
      "text/plain": [
       "0.055064036802339796"
      ]
     },
     "execution_count": 23,
     "metadata": {},
     "output_type": "execute_result"
    }
   ],
   "source": [
    "learner2.train_loop(dl)"
   ]
  },
  {
   "cell_type": "markdown",
   "metadata": {
    "papermill": {
     "duration": 0.045976,
     "end_time": "2020-08-20T10:13:38.179900",
     "exception": false,
     "start_time": "2020-08-20T10:13:38.133924",
     "status": "completed"
    },
    "tags": []
   },
   "source": [
    "### Comparing results of NN and LR"
   ]
  },
  {
   "cell_type": "code",
   "execution_count": 24,
   "metadata": {
    "execution": {
     "iopub.execute_input": "2020-08-20T10:13:38.277676Z",
     "iopub.status.busy": "2020-08-20T10:13:38.277047Z",
     "iopub.status.idle": "2020-08-20T10:13:38.494089Z",
     "shell.execute_reply": "2020-08-20T10:13:38.493567Z"
    },
    "papermill": {
     "duration": 0.26862,
     "end_time": "2020-08-20T10:13:38.494225",
     "exception": false,
     "start_time": "2020-08-20T10:13:38.225605",
     "status": "completed"
    },
    "tags": []
   },
   "outputs": [
    {
     "data": {
      "text/plain": [
       "<matplotlib.legend.Legend at 0x7fe70b17da90>"
      ]
     },
     "execution_count": 24,
     "metadata": {},
     "output_type": "execute_result"
    },
    {
     "data": {
      "image/png": "[encoded data removed]",
      "text/plain": [
       "<Figure size 576x360 with 1 Axes>"
      ]
     },
     "metadata": {
      "needs_background": "light"
     },
     "output_type": "display_data"
    }
   ],
   "source": [
    "plt.figure(figsize=(8,5))\n",
    "plt.plot(acc1.val_accuracies, 'g-', label = \"Val Accuracies - NN\")\n",
    "plt.plot(acc1.accuracies, 'r-', label = \"Accuracies - NN\")\n",
    "plt.plot(acc2.val_accuracies, 'b-', label = \"Val Accuracies - Logistic Reg\")\n",
    "plt.plot(acc2.accuracies, 'k-', label = \"Accuracies - Logistic Reg\")\n",
    "plt.ylim(0.8,1) ## for a more spread out view\n",
    "plt.legend()"
   ]
  },
  {
   "cell_type": "markdown",
   "metadata": {
    "papermill": {
     "duration": 0.046961,
     "end_time": "2020-08-20T10:13:38.588646",
     "exception": false,
     "start_time": "2020-08-20T10:13:38.541685",
     "status": "completed"
    },
    "tags": []
   },
   "source": [
    "### Clearly NN has a better accuracy over LR; NN is overfitting - Validation accuracy (green) has dropped below training accuracy (orange), also they are diverging. This problem is not seen in LR"
   ]
  },
  {
   "cell_type": "markdown",
   "metadata": {
    "papermill": {
     "duration": 0.046516,
     "end_time": "2020-08-20T10:13:38.681961",
     "exception": false,
     "start_time": "2020-08-20T10:13:38.635445",
     "status": "completed"
    },
    "tags": []
   },
   "source": [
    "##### Now we will be moving through the network, till the output of the second last affine where we get a 2 dimensional output. We will be plotting this 2d output and probability contours"
   ]
  },
  {
   "cell_type": "code",
   "execution_count": 25,
   "metadata": {
    "execution": {
     "iopub.execute_input": "2020-08-20T10:13:38.782077Z",
     "iopub.status.busy": "2020-08-20T10:13:38.780532Z",
     "iopub.status.idle": "2020-08-20T10:13:38.794717Z",
     "shell.execute_reply": "2020-08-20T10:13:38.794203Z"
    },
    "papermill": {
     "duration": 0.066217,
     "end_time": "2020-08-20T10:13:38.794849",
     "exception": false,
     "start_time": "2020-08-20T10:13:38.728632",
     "status": "completed"
    },
    "tags": []
   },
   "outputs": [],
   "source": [
    "model_new = Model(layers[:-2])"
   ]
  },
  {
   "cell_type": "code",
   "execution_count": 26,
   "metadata": {
    "execution": {
     "iopub.execute_input": "2020-08-20T10:13:38.893115Z",
     "iopub.status.busy": "2020-08-20T10:13:38.892499Z",
     "iopub.status.idle": "2020-08-20T10:13:38.914056Z",
     "shell.execute_reply": "2020-08-20T10:13:38.914560Z"
    },
    "papermill": {
     "duration": 0.073029,
     "end_time": "2020-08-20T10:13:38.914721",
     "exception": false,
     "start_time": "2020-08-20T10:13:38.841692",
     "status": "completed"
    },
    "tags": []
   },
   "outputs": [],
   "source": [
    "plot_testing = model_new(testing_xdata)"
   ]
  },
  {
   "cell_type": "markdown",
   "metadata": {
    "papermill": {
     "duration": 0.047958,
     "end_time": "2020-08-20T10:13:39.013357",
     "exception": false,
     "start_time": "2020-08-20T10:13:38.965399",
     "status": "completed"
    },
    "tags": []
   },
   "source": [
    "##### Plotting the scatter plot of points and color coding by class"
   ]
  },
  {
   "cell_type": "code",
   "execution_count": 27,
   "metadata": {
    "execution": {
     "iopub.execute_input": "2020-08-20T10:13:39.119129Z",
     "iopub.status.busy": "2020-08-20T10:13:39.118317Z",
     "iopub.status.idle": "2020-08-20T10:13:39.331413Z",
     "shell.execute_reply": "2020-08-20T10:13:39.331889Z"
    },
    "papermill": {
     "duration": 0.270003,
     "end_time": "2020-08-20T10:13:39.332046",
     "exception": false,
     "start_time": "2020-08-20T10:13:39.062043",
     "status": "completed"
    },
    "tags": []
   },
   "outputs": [
    {
     "data": {
      "image/png": "[encoded data removed]",
      "text/plain": [
       "<Figure size 576x504 with 1 Axes>"
      ]
     },
     "metadata": {
      "needs_background": "light"
     },
     "output_type": "display_data"
    }
   ],
   "source": [
    "plt.figure(figsize=(8,7))\n",
    "plt.scatter(plot_testing[:,0], plot_testing[:,1], alpha = 0.1, c = y_test.ravel());"
   ]
  },
  {
   "cell_type": "markdown",
   "metadata": {
    "papermill": {
     "duration": 0.048834,
     "end_time": "2020-08-20T10:13:39.456008",
     "exception": false,
     "start_time": "2020-08-20T10:13:39.407174",
     "status": "completed"
    },
    "tags": []
   },
   "source": [
    "##### Plotting probability contours"
   ]
  },
  {
   "cell_type": "code",
   "execution_count": 28,
   "metadata": {
    "execution": {
     "iopub.execute_input": "2020-08-20T10:13:39.561476Z",
     "iopub.status.busy": "2020-08-20T10:13:39.560495Z",
     "iopub.status.idle": "2020-08-20T10:13:39.574383Z",
     "shell.execute_reply": "2020-08-20T10:13:39.573838Z"
    },
    "papermill": {
     "duration": 0.068997,
     "end_time": "2020-08-20T10:13:39.574513",
     "exception": false,
     "start_time": "2020-08-20T10:13:39.505516",
     "status": "completed"
    },
    "tags": []
   },
   "outputs": [],
   "source": [
    "model_prob = Model(layers[-2:]) ## picking only last two layers to get probability. That is affine followed by sigmoid"
   ]
  },
  {
   "cell_type": "code",
   "execution_count": 29,
   "metadata": {
    "execution": {
     "iopub.execute_input": "2020-08-20T10:13:39.682677Z",
     "iopub.status.busy": "2020-08-20T10:13:39.682071Z",
     "iopub.status.idle": "2020-08-20T10:13:39.698050Z",
     "shell.execute_reply": "2020-08-20T10:13:39.698576Z"
    },
    "papermill": {
     "duration": 0.073215,
     "end_time": "2020-08-20T10:13:39.698801",
     "exception": false,
     "start_time": "2020-08-20T10:13:39.625586",
     "status": "completed"
    },
    "tags": []
   },
   "outputs": [],
   "source": [
    "xgrid = np.linspace(-4, 1, 100) ## Adjust these values based on above chart, roughly -4 to 1\n",
    "ygrid = np.linspace(-7.5, 7.5, 100) ## Adjust these values based on above chart, roughly -7.5, 7.5\n",
    "xg, yg = np.meshgrid(xgrid, ygrid)\n",
    "# xg and yg are now both 100X100, lets convert them to single arrays \n",
    "\n",
    "xg_interim = np.ravel(xg)\n",
    "yg_interim = np.ravel(yg)\n",
    "\n",
    "## xg_interim, yg_interim are now arrays of len 10000, now we will stack them and then transpose to get desired shape of n rows, 2 columns\n",
    "\n",
    "X_interim = np.vstack((xg_interim, yg_interim)) ## Please note vstack takes in a tuple\n",
    "X = X_interim.T\n",
    "\n",
    "## We want a shape of n rows and 2 columns to be able to feed this to last affine\n",
    "## This last affine takes only two columns, hence the above transformation\n",
    "probability_contour = model_prob(X).reshape(100,100) ## to make it consistent with xg, yg"
   ]
  },
  {
   "cell_type": "code",
   "execution_count": 30,
   "metadata": {
    "execution": {
     "iopub.execute_input": "2020-08-20T10:13:39.810906Z",
     "iopub.status.busy": "2020-08-20T10:13:39.810304Z",
     "iopub.status.idle": "2020-08-20T10:13:40.044374Z",
     "shell.execute_reply": "2020-08-20T10:13:40.043560Z"
    },
    "papermill": {
     "duration": 0.293907,
     "end_time": "2020-08-20T10:13:40.044519",
     "exception": false,
     "start_time": "2020-08-20T10:13:39.750612",
     "status": "completed"
    },
    "tags": []
   },
   "outputs": [
    {
     "data": {
      "image/png": "[encoded data removed]",
      "text/plain": [
       "<Figure size 576x504 with 1 Axes>"
      ]
     },
     "metadata": {
      "needs_background": "light"
     },
     "output_type": "display_data"
    }
   ],
   "source": [
    "plt.figure(figsize=(8,7))\n",
    "plt.scatter(plot_testing[:,0], plot_testing[:,1], alpha = 0.1, c = y_test.ravel())\n",
    "contours = plt.contour(xg,yg,probability_contour)\n",
    "plt.clabel(contours, inline = True );"
   ]
  }
 ],
 "metadata": {
  "kernelspec": {
   "display_name": "Python 3",
   "language": "python",
   "name": "python3"
  },
  "language_info": {
   "codemirror_mode": {
    "name": "ipython",
    "version": 3
   },
   "file_extension": ".py",
   "mimetype": "text/x-python",
   "name": "python",
   "nbconvert_exporter": "python",
   "pygments_lexer": "ipython3",
   "version": "3.6.11"
  },
  "papermill": {
   "duration": 110.947657,
   "end_time": "2020-08-20T10:13:40.510358",
   "environment_variables": {},
   "exception": null,
   "input_path": "2020-08-07-NN-new.ipynb",
   "output_path": "2020-08-07-NN-new.ipynb",
   "parameters": {},
   "start_time": "2020-08-20T10:11:49.562701",
   "version": "2.1.2"
  }
 },
 "nbformat": 4,
 "nbformat_minor": 4
}