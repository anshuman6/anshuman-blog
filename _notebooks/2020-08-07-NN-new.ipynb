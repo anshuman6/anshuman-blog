{
 "cells": [
  {
   "cell_type": "markdown",
   "metadata": {
    "papermill": {
     "duration": 0.034552,
     "end_time": "2020-08-16T10:13:21.876925",
     "exception": false,
     "start_time": "2020-08-16T10:13:21.842373",
     "status": "completed"
    },
    "tags": []
   },
   "source": [
    "# \"Building a basic Neural Network from scratch - Kudzu\"\n",
    "\n",
    "- badges: true\n",
    "- author: Anshuman Gupta"
   ]
  },
  {
   "cell_type": "markdown",
   "metadata": {
    "papermill": {
     "duration": 0.030514,
     "end_time": "2020-08-16T10:13:21.937356",
     "exception": false,
     "start_time": "2020-08-16T10:13:21.906842",
     "status": "completed"
    },
    "tags": []
   },
   "source": [
    "#### In this project, the idea is to write a classifier to differentiate between handwritten digits 3 and 8, from the MNIST database.\n",
    "\n",
    "#### I will using a custom built neural network library called Kudzu.This has been developed as a part of KTF/Foundations course of Univ.ai (www.univ.ai). The source code for Kudzu Library and and this notebook can be found on my git-hub profile : www.https://github.com/anshuman6 under the folder project-solution. Any feedback and comments are welcome. Please feel free to email me at: anshuman6@gmail.com\n",
    "\n",
    "#### 1. I will be using the MNIST database. \n",
    "\n",
    "#### 2. I will be comparing the results of the 4 layer NN to a standard logistic regression"
   ]
  },
  {
   "cell_type": "markdown",
   "metadata": {
    "papermill": {
     "duration": 0.030554,
     "end_time": "2020-08-16T10:13:21.998230",
     "exception": false,
     "start_time": "2020-08-16T10:13:21.967676",
     "status": "completed"
    },
    "tags": []
   },
   "source": [
    "##### Importing all the necessary libraries"
   ]
  },
  {
   "cell_type": "code",
   "execution_count": 1,
   "metadata": {
    "execution": {
     "iopub.execute_input": "2020-08-16T10:13:22.065133Z",
     "iopub.status.busy": "2020-08-16T10:13:22.064288Z",
     "iopub.status.idle": "2020-08-16T10:13:22.075365Z",
     "shell.execute_reply": "2020-08-16T10:13:22.075938Z"
    },
    "papermill": {
     "duration": 0.047113,
     "end_time": "2020-08-16T10:13:22.076099",
     "exception": false,
     "start_time": "2020-08-16T10:13:22.028986",
     "status": "completed"
    },
    "tags": []
   },
   "outputs": [],
   "source": [
    "%load_ext autoreload\n",
    "%autoreload 2"
   ]
  },
  {
   "cell_type": "code",
   "execution_count": 2,
   "metadata": {
    "execution": {
     "iopub.execute_input": "2020-08-16T10:13:22.141644Z",
     "iopub.status.busy": "2020-08-16T10:13:22.141072Z",
     "iopub.status.idle": "2020-08-16T10:13:22.719942Z",
     "shell.execute_reply": "2020-08-16T10:13:22.720486Z"
    },
    "papermill": {
     "duration": 0.613347,
     "end_time": "2020-08-16T10:13:22.720706",
     "exception": false,
     "start_time": "2020-08-16T10:13:22.107359",
     "status": "completed"
    },
    "tags": []
   },
   "outputs": [],
   "source": [
    "%matplotlib inline\n",
    "import numpy as np\n",
    "import matplotlib.pyplot as plt\n",
    "import pandas as pd"
   ]
  },
  {
   "cell_type": "markdown",
   "metadata": {
    "papermill": {
     "duration": 0.028404,
     "end_time": "2020-08-16T10:13:22.778700",
     "exception": false,
     "start_time": "2020-08-16T10:13:22.750296",
     "status": "completed"
    },
    "tags": []
   },
   "source": [
    "##### The following command helps us download MNIST from notebook itself. You can skip this if you already have MNIST. You can also download it via your terminal."
   ]
  },
  {
   "cell_type": "code",
   "execution_count": 3,
   "metadata": {
    "execution": {
     "iopub.execute_input": "2020-08-16T10:13:22.846786Z",
     "iopub.status.busy": "2020-08-16T10:13:22.845773Z",
     "iopub.status.idle": "2020-08-16T10:13:24.400261Z",
     "shell.execute_reply": "2020-08-16T10:13:24.398784Z"
    },
    "papermill": {
     "duration": 1.59194,
     "end_time": "2020-08-16T10:13:24.400399",
     "exception": false,
     "start_time": "2020-08-16T10:13:22.808459",
     "status": "completed"
    },
    "tags": []
   },
   "outputs": [
    {
     "name": "stdout",
     "output_type": "stream",
     "text": [
      "Collecting mnist\r\n"
     ]
    },
    {
     "name": "stdout",
     "output_type": "stream",
     "text": [
      "  Downloading mnist-0.2.2-py2.py3-none-any.whl (3.5 kB)\r\n"
     ]
    },
    {
     "name": "stdout",
     "output_type": "stream",
     "text": [
      "Requirement already satisfied: numpy in /opt/hostedtoolcache/Python/3.6.11/x64/lib/python3.6/site-packages (from mnist) (1.19.1)\r\n"
     ]
    },
    {
     "name": "stdout",
     "output_type": "stream",
     "text": [
      "Installing collected packages: mnist\r\n"
     ]
    },
    {
     "name": "stdout",
     "output_type": "stream",
     "text": [
      "Successfully installed mnist-0.2.2\r\n"
     ]
    },
    {
     "name": "stdout",
     "output_type": "stream",
     "text": [
      "\u001b[33mWARNING: You are using pip version 20.2.1; however, version 20.2.2 is available.\r\n",
      "You should consider upgrading via the '/opt/hostedtoolcache/Python/3.6.11/x64/bin/python -m pip install --upgrade pip' command.\u001b[0m\r\n"
     ]
    }
   ],
   "source": [
    "!pip install mnist # Please note, it is commented out for now, you can remove comment if you want to install it"
   ]
  },
  {
   "cell_type": "markdown",
   "metadata": {
    "papermill": {
     "duration": 0.032294,
     "end_time": "2020-08-16T10:13:24.465191",
     "exception": false,
     "start_time": "2020-08-16T10:13:24.432897",
     "status": "completed"
    },
    "tags": []
   },
   "source": [
    "#### Preparing the Data"
   ]
  },
  {
   "cell_type": "code",
   "execution_count": 4,
   "metadata": {
    "execution": {
     "iopub.execute_input": "2020-08-16T10:13:24.541600Z",
     "iopub.status.busy": "2020-08-16T10:13:24.534299Z",
     "iopub.status.idle": "2020-08-16T10:13:24.549170Z",
     "shell.execute_reply": "2020-08-16T10:13:24.548577Z"
    },
    "papermill": {
     "duration": 0.052128,
     "end_time": "2020-08-16T10:13:24.549374",
     "exception": false,
     "start_time": "2020-08-16T10:13:24.497246",
     "status": "completed"
    },
    "tags": []
   },
   "outputs": [],
   "source": [
    "import mnist"
   ]
  },
  {
   "cell_type": "code",
   "execution_count": 5,
   "metadata": {
    "execution": {
     "iopub.execute_input": "2020-08-16T10:13:24.619974Z",
     "iopub.status.busy": "2020-08-16T10:13:24.619287Z",
     "iopub.status.idle": "2020-08-16T10:13:25.292595Z",
     "shell.execute_reply": "2020-08-16T10:13:25.291558Z"
    },
    "papermill": {
     "duration": 0.70995,
     "end_time": "2020-08-16T10:13:25.292773",
     "exception": false,
     "start_time": "2020-08-16T10:13:24.582823",
     "status": "completed"
    },
    "tags": []
   },
   "outputs": [],
   "source": [
    "train_images = mnist.train_images()\n",
    "train_labels = mnist.train_labels()"
   ]
  },
  {
   "cell_type": "code",
   "execution_count": 6,
   "metadata": {
    "execution": {
     "iopub.execute_input": "2020-08-16T10:13:25.364918Z",
     "iopub.status.busy": "2020-08-16T10:13:25.362287Z",
     "iopub.status.idle": "2020-08-16T10:13:25.378542Z",
     "shell.execute_reply": "2020-08-16T10:13:25.377870Z"
    },
    "papermill": {
     "duration": 0.05237,
     "end_time": "2020-08-16T10:13:25.378674",
     "exception": false,
     "start_time": "2020-08-16T10:13:25.326304",
     "status": "completed"
    },
    "tags": []
   },
   "outputs": [
    {
     "data": {
      "text/plain": [
       "((60000, 28, 28), (60000,))"
      ]
     },
     "execution_count": 6,
     "metadata": {},
     "output_type": "execute_result"
    }
   ],
   "source": [
    "train_images.shape, train_labels.shape"
   ]
  },
  {
   "cell_type": "code",
   "execution_count": 7,
   "metadata": {
    "execution": {
     "iopub.execute_input": "2020-08-16T10:13:25.474451Z",
     "iopub.status.busy": "2020-08-16T10:13:25.471666Z",
     "iopub.status.idle": "2020-08-16T10:13:25.742458Z",
     "shell.execute_reply": "2020-08-16T10:13:25.742990Z"
    },
    "papermill": {
     "duration": 0.327415,
     "end_time": "2020-08-16T10:13:25.743212",
     "exception": false,
     "start_time": "2020-08-16T10:13:25.415797",
     "status": "completed"
    },
    "tags": []
   },
   "outputs": [],
   "source": [
    "test_images = mnist.test_images()\n",
    "test_labels = mnist.test_labels()"
   ]
  },
  {
   "cell_type": "code",
   "execution_count": 8,
   "metadata": {
    "execution": {
     "iopub.execute_input": "2020-08-16T10:13:25.818155Z",
     "iopub.status.busy": "2020-08-16T10:13:25.817533Z",
     "iopub.status.idle": "2020-08-16T10:13:25.831422Z",
     "shell.execute_reply": "2020-08-16T10:13:25.832151Z"
    },
    "papermill": {
     "duration": 0.05294,
     "end_time": "2020-08-16T10:13:25.832312",
     "exception": false,
     "start_time": "2020-08-16T10:13:25.779372",
     "status": "completed"
    },
    "tags": []
   },
   "outputs": [
    {
     "data": {
      "text/plain": [
       "((10000, 28, 28), (10000,))"
      ]
     },
     "execution_count": 8,
     "metadata": {},
     "output_type": "execute_result"
    }
   ],
   "source": [
    "test_images.shape, test_labels.shape"
   ]
  },
  {
   "cell_type": "code",
   "execution_count": 9,
   "metadata": {
    "execution": {
     "iopub.execute_input": "2020-08-16T10:13:25.904221Z",
     "iopub.status.busy": "2020-08-16T10:13:25.903542Z",
     "iopub.status.idle": "2020-08-16T10:13:26.091807Z",
     "shell.execute_reply": "2020-08-16T10:13:26.092475Z"
    },
    "papermill": {
     "duration": 0.22697,
     "end_time": "2020-08-16T10:13:26.092652",
     "exception": false,
     "start_time": "2020-08-16T10:13:25.865682",
     "status": "completed"
    },
    "tags": []
   },
   "outputs": [
    {
     "name": "stdout",
     "output_type": "stream",
     "text": [
      "2\n"
     ]
    },
    {
     "data": {
      "text/plain": [
       "<matplotlib.image.AxesImage at 0x7f4a1e991320>"
      ]
     },
     "execution_count": 9,
     "metadata": {},
     "output_type": "execute_result"
    },
    {
     "data": {
      "image/png": "[encoded data removed]",
      "text/plain": [
       "<Figure size 432x288 with 1 Axes>"
      ]
     },
     "metadata": {
      "needs_background": "light"
     },
     "output_type": "display_data"
    }
   ],
   "source": [
    "image_index = 7776 # You may select anything up to 60,000\n",
    "print(train_labels[image_index]) \n",
    "plt.imshow(train_images[image_index], cmap='Greys')"
   ]
  },
  {
   "cell_type": "markdown",
   "metadata": {
    "papermill": {
     "duration": 0.035187,
     "end_time": "2020-08-16T10:13:26.162060",
     "exception": false,
     "start_time": "2020-08-16T10:13:26.126873",
     "status": "completed"
    },
    "tags": []
   },
   "source": [
    "## Filter data to get 3 and 8 out"
   ]
  },
  {
   "cell_type": "code",
   "execution_count": 10,
   "metadata": {
    "execution": {
     "iopub.execute_input": "2020-08-16T10:13:26.234434Z",
     "iopub.status.busy": "2020-08-16T10:13:26.233791Z",
     "iopub.status.idle": "2020-08-16T10:13:26.253775Z",
     "shell.execute_reply": "2020-08-16T10:13:26.254352Z"
    },
    "papermill": {
     "duration": 0.060207,
     "end_time": "2020-08-16T10:13:26.254522",
     "exception": false,
     "start_time": "2020-08-16T10:13:26.194315",
     "status": "completed"
    },
    "tags": []
   },
   "outputs": [],
   "source": [
    "train_filter = np.where((train_labels == 3 ) | (train_labels == 8))\n",
    "test_filter = np.where((test_labels == 3) | (test_labels == 8))\n",
    "X_train, y_train = train_images[train_filter], train_labels[train_filter]\n",
    "X_test, y_test = test_images[test_filter], test_labels[test_filter]"
   ]
  },
  {
   "cell_type": "markdown",
   "metadata": {
    "papermill": {
     "duration": 0.034999,
     "end_time": "2020-08-16T10:13:26.324616",
     "exception": false,
     "start_time": "2020-08-16T10:13:26.289617",
     "status": "completed"
    },
    "tags": []
   },
   "source": [
    "##### We normalize the pizel values in the 0 to 1 range"
   ]
  },
  {
   "cell_type": "code",
   "execution_count": 11,
   "metadata": {
    "execution": {
     "iopub.execute_input": "2020-08-16T10:13:26.399086Z",
     "iopub.status.busy": "2020-08-16T10:13:26.398337Z",
     "iopub.status.idle": "2020-08-16T10:13:26.464108Z",
     "shell.execute_reply": "2020-08-16T10:13:26.464614Z"
    },
    "papermill": {
     "duration": 0.105335,
     "end_time": "2020-08-16T10:13:26.464837",
     "exception": false,
     "start_time": "2020-08-16T10:13:26.359502",
     "status": "completed"
    },
    "tags": []
   },
   "outputs": [],
   "source": [
    "X_train = X_train/255.\n",
    "X_test = X_test/255."
   ]
  },
  {
   "cell_type": "markdown",
   "metadata": {
    "papermill": {
     "duration": 0.035208,
     "end_time": "2020-08-16T10:13:26.534267",
     "exception": false,
     "start_time": "2020-08-16T10:13:26.499059",
     "status": "completed"
    },
    "tags": []
   },
   "source": [
    "And setup the labels as 1 (when the digit is 3) and 0 (when the digit is 8)"
   ]
  },
  {
   "cell_type": "code",
   "execution_count": 12,
   "metadata": {
    "execution": {
     "iopub.execute_input": "2020-08-16T10:13:26.608154Z",
     "iopub.status.busy": "2020-08-16T10:13:26.607443Z",
     "iopub.status.idle": "2020-08-16T10:13:26.623572Z",
     "shell.execute_reply": "2020-08-16T10:13:26.623062Z"
    },
    "papermill": {
     "duration": 0.054666,
     "end_time": "2020-08-16T10:13:26.623729",
     "exception": false,
     "start_time": "2020-08-16T10:13:26.569063",
     "status": "completed"
    },
    "tags": []
   },
   "outputs": [],
   "source": [
    "y_train = 1*(y_train==3)\n",
    "y_test = 1*(y_test==3)"
   ]
  },
  {
   "cell_type": "code",
   "execution_count": 13,
   "metadata": {
    "execution": {
     "iopub.execute_input": "2020-08-16T10:13:26.696579Z",
     "iopub.status.busy": "2020-08-16T10:13:26.695856Z",
     "iopub.status.idle": "2020-08-16T10:13:26.710456Z",
     "shell.execute_reply": "2020-08-16T10:13:26.709697Z"
    },
    "papermill": {
     "duration": 0.052111,
     "end_time": "2020-08-16T10:13:26.710606",
     "exception": false,
     "start_time": "2020-08-16T10:13:26.658495",
     "status": "completed"
    },
    "tags": []
   },
   "outputs": [
    {
     "data": {
      "text/plain": [
       "((11982, 28, 28), (1984, 28, 28))"
      ]
     },
     "execution_count": 13,
     "metadata": {},
     "output_type": "execute_result"
    }
   ],
   "source": [
    "X_train.shape, X_test.shape"
   ]
  },
  {
   "cell_type": "markdown",
   "metadata": {
    "papermill": {
     "duration": 0.033564,
     "end_time": "2020-08-16T10:13:26.776121",
     "exception": false,
     "start_time": "2020-08-16T10:13:26.742557",
     "status": "completed"
    },
    "tags": []
   },
   "source": [
    "##### We reshape the data to flatten the image pixels into a set of features or co-variates:"
   ]
  },
  {
   "cell_type": "code",
   "execution_count": 14,
   "metadata": {
    "execution": {
     "iopub.execute_input": "2020-08-16T10:13:26.851027Z",
     "iopub.status.busy": "2020-08-16T10:13:26.850317Z",
     "iopub.status.idle": "2020-08-16T10:13:26.865372Z",
     "shell.execute_reply": "2020-08-16T10:13:26.864797Z"
    },
    "papermill": {
     "duration": 0.056968,
     "end_time": "2020-08-16T10:13:26.865503",
     "exception": false,
     "start_time": "2020-08-16T10:13:26.808535",
     "status": "completed"
    },
    "tags": []
   },
   "outputs": [
    {
     "data": {
      "text/plain": [
       "((11982, 784), (1984, 784))"
      ]
     },
     "execution_count": 14,
     "metadata": {},
     "output_type": "execute_result"
    }
   ],
   "source": [
    "X_train = X_train.reshape(X_train.shape[0], -1)\n",
    "X_test = X_test.reshape(X_test.shape[0], -1)\n",
    "X_train.shape, X_test.shape"
   ]
  },
  {
   "cell_type": "markdown",
   "metadata": {
    "papermill": {
     "duration": 0.037931,
     "end_time": "2020-08-16T10:13:26.938641",
     "exception": false,
     "start_time": "2020-08-16T10:13:26.900710",
     "status": "completed"
    },
    "tags": []
   },
   "source": [
    "##### Importing Kudzu library and its functionality"
   ]
  },
  {
   "cell_type": "code",
   "execution_count": 15,
   "metadata": {
    "execution": {
     "iopub.execute_input": "2020-08-16T10:13:27.016375Z",
     "iopub.status.busy": "2020-08-16T10:13:27.015686Z",
     "iopub.status.idle": "2020-08-16T10:13:27.035535Z",
     "shell.execute_reply": "2020-08-16T10:13:27.035003Z"
    },
    "papermill": {
     "duration": 0.05999,
     "end_time": "2020-08-16T10:13:27.035658",
     "exception": false,
     "start_time": "2020-08-16T10:13:26.975668",
     "status": "completed"
    },
    "tags": []
   },
   "outputs": [],
   "source": [
    "from kudzu.data import Data, Dataloader, Sampler\n",
    "from kudzu.callbacks import AccCallback\n",
    "from kudzu.loss import MSE\n",
    "from kudzu.layer import Affine, Sigmoid\n",
    "from kudzu.model import Model\n",
    "from kudzu.optim import GD\n",
    "from kudzu.train import Learner\n",
    "from kudzu.callbacks import ClfCallback\n",
    "from kudzu.layer import Sigmoid\n",
    "from kudzu.layer import Relu"
   ]
  },
  {
   "cell_type": "markdown",
   "metadata": {
    "papermill": {
     "duration": 0.037037,
     "end_time": "2020-08-16T10:13:27.110434",
     "exception": false,
     "start_time": "2020-08-16T10:13:27.073397",
     "status": "completed"
    },
    "tags": []
   },
   "source": [
    "##### We are creating a class, just so that we can use it to store our parameters for us"
   ]
  },
  {
   "cell_type": "code",
   "execution_count": 16,
   "metadata": {
    "execution": {
     "iopub.execute_input": "2020-08-16T10:13:27.193731Z",
     "iopub.status.busy": "2020-08-16T10:13:27.185440Z",
     "iopub.status.idle": "2020-08-16T10:13:27.200461Z",
     "shell.execute_reply": "2020-08-16T10:13:27.200976Z"
    },
    "papermill": {
     "duration": 0.055157,
     "end_time": "2020-08-16T10:13:27.201127",
     "exception": false,
     "start_time": "2020-08-16T10:13:27.145970",
     "status": "completed"
    },
    "tags": []
   },
   "outputs": [],
   "source": [
    "class Config:\n",
    "    pass\n",
    "config = Config()\n",
    "config.lr = 0.001\n",
    "config.num_epochs = 250\n",
    "config.bs = 50"
   ]
  },
  {
   "cell_type": "markdown",
   "metadata": {
    "papermill": {
     "duration": 0.032242,
     "end_time": "2020-08-16T10:13:27.270297",
     "exception": false,
     "start_time": "2020-08-16T10:13:27.238055",
     "status": "completed"
    },
    "tags": []
   },
   "source": [
    "##### Initializing Data"
   ]
  },
  {
   "cell_type": "code",
   "execution_count": 17,
   "metadata": {
    "execution": {
     "iopub.execute_input": "2020-08-16T10:13:27.339454Z",
     "iopub.status.busy": "2020-08-16T10:13:27.338801Z",
     "iopub.status.idle": "2020-08-16T10:13:27.353327Z",
     "shell.execute_reply": "2020-08-16T10:13:27.352833Z"
    },
    "papermill": {
     "duration": 0.051027,
     "end_time": "2020-08-16T10:13:27.353447",
     "exception": false,
     "start_time": "2020-08-16T10:13:27.302420",
     "status": "completed"
    },
    "tags": []
   },
   "outputs": [],
   "source": [
    "data = Data(X_train, y_train.reshape(-1,1))\n",
    "loss = MSE()\n",
    "opt = GD(config.lr)\n",
    "sampler = Sampler(data, config.bs, shuffle=True)\n",
    "dl = Dataloader(data, sampler)"
   ]
  },
  {
   "cell_type": "markdown",
   "metadata": {
    "papermill": {
     "duration": 0.035358,
     "end_time": "2020-08-16T10:13:27.422228",
     "exception": false,
     "start_time": "2020-08-16T10:13:27.386870",
     "status": "completed"
    },
    "tags": []
   },
   "source": [
    "##### Constructing 2 different layers, one for NN and one only for logistic regression."
   ]
  },
  {
   "cell_type": "markdown",
   "metadata": {
    "papermill": {
     "duration": 0.035392,
     "end_time": "2020-08-16T10:13:27.500041",
     "exception": false,
     "start_time": "2020-08-16T10:13:27.464649",
     "status": "completed"
    },
    "tags": []
   },
   "source": [
    "##### Creating containers for data to be passed, to calculate accuracies"
   ]
  },
  {
   "cell_type": "code",
   "execution_count": 18,
   "metadata": {
    "execution": {
     "iopub.execute_input": "2020-08-16T10:13:27.576186Z",
     "iopub.status.busy": "2020-08-16T10:13:27.575555Z",
     "iopub.status.idle": "2020-08-16T10:13:27.588713Z",
     "shell.execute_reply": "2020-08-16T10:13:27.589390Z"
    },
    "papermill": {
     "duration": 0.052396,
     "end_time": "2020-08-16T10:13:27.589562",
     "exception": false,
     "start_time": "2020-08-16T10:13:27.537166",
     "status": "completed"
    },
    "tags": []
   },
   "outputs": [],
   "source": [
    "training_xdata = X_train\n",
    "testing_xdata = X_test\n",
    "training_ydata = y_train.reshape(-1,1)\n",
    "testing_ydata = y_test.reshape(-1,1)"
   ]
  },
  {
   "cell_type": "markdown",
   "metadata": {
    "papermill": {
     "duration": 0.035132,
     "end_time": "2020-08-16T10:13:27.658984",
     "exception": false,
     "start_time": "2020-08-16T10:13:27.623852",
     "status": "completed"
    },
    "tags": []
   },
   "source": [
    "##### Initializing models and Running training loop: "
   ]
  },
  {
   "cell_type": "code",
   "execution_count": 19,
   "metadata": {
    "execution": {
     "iopub.execute_input": "2020-08-16T10:13:27.733851Z",
     "iopub.status.busy": "2020-08-16T10:13:27.733204Z",
     "iopub.status.idle": "2020-08-16T10:13:27.751378Z",
     "shell.execute_reply": "2020-08-16T10:13:27.750797Z"
    },
    "papermill": {
     "duration": 0.057307,
     "end_time": "2020-08-16T10:13:27.751516",
     "exception": false,
     "start_time": "2020-08-16T10:13:27.694209",
     "status": "completed"
    },
    "tags": []
   },
   "outputs": [],
   "source": [
    "layers = [Affine(\"first\", 784, 100), Relu(\"first\"), Affine(\"second\", 100, 100), Relu(\"second\"), Affine(\"third\", 100, 2), Affine(\"final\", 2, 1), Sigmoid(\"final\")]\n",
    "\n",
    "model_neural = Model(layers)\n",
    "model_logistic = Model([Affine(\"logits\", 784, 1), Sigmoid(\"sigmoid\")])"
   ]
  },
  {
   "cell_type": "code",
   "execution_count": 20,
   "metadata": {
    "execution": {
     "iopub.execute_input": "2020-08-16T10:13:27.825900Z",
     "iopub.status.busy": "2020-08-16T10:13:27.825265Z",
     "iopub.status.idle": "2020-08-16T10:13:27.838041Z",
     "shell.execute_reply": "2020-08-16T10:13:27.838551Z"
    },
    "papermill": {
     "duration": 0.051553,
     "end_time": "2020-08-16T10:13:27.838702",
     "exception": false,
     "start_time": "2020-08-16T10:13:27.787149",
     "status": "completed"
    },
    "tags": []
   },
   "outputs": [],
   "source": [
    "learner1 = Learner(loss, model_neural, opt, config.num_epochs)\n",
    "acc1 = ClfCallback(learner1, config.bs, training_xdata , testing_xdata, training_ydata, testing_ydata)\n",
    "learner1.set_callbacks([acc1])"
   ]
  },
  {
   "cell_type": "code",
   "execution_count": 21,
   "metadata": {
    "execution": {
     "iopub.execute_input": "2020-08-16T10:13:27.910801Z",
     "iopub.status.busy": "2020-08-16T10:13:27.910037Z",
     "iopub.status.idle": "2020-08-16T10:15:46.819402Z",
     "shell.execute_reply": "2020-08-16T10:15:46.819902Z"
    },
    "papermill": {
     "duration": 138.947726,
     "end_time": "2020-08-16T10:15:46.820073",
     "exception": false,
     "start_time": "2020-08-16T10:13:27.872347",
     "status": "completed"
    },
    "tags": []
   },
   "outputs": [
    {
     "name": "stdout",
     "output_type": "stream",
     "text": [
      "Epoch 0 Loss 0.23728264747530328\n",
      "train accuracy is: 0.6505591720914705, test accuracy is 0.6612903225806451\n"
     ]
    },
    {
     "name": "stdout",
     "output_type": "stream",
     "text": [
      "Epoch 10 Loss 0.11878698780958961\n",
      "train accuracy is: 0.900934735436488, test accuracy is 0.9032258064516129\n"
     ]
    },
    {
     "name": "stdout",
     "output_type": "stream",
     "text": [
      "Epoch 20 Loss 0.06787655551094195\n",
      "train accuracy is: 0.9316474712068102, test accuracy is 0.9349798387096774\n"
     ]
    },
    {
     "name": "stdout",
     "output_type": "stream",
     "text": [
      "Epoch 30 Loss 0.05133335139790525\n",
      "train accuracy is: 0.9441662493740611, test accuracy is 0.954133064516129\n"
     ]
    },
    {
     "name": "stdout",
     "output_type": "stream",
     "text": [
      "Epoch 40 Loss 0.04350864184459978\n",
      "train accuracy is: 0.9520113503588716, test accuracy is 0.9591733870967742\n"
     ]
    },
    {
     "name": "stdout",
     "output_type": "stream",
     "text": [
      "Epoch 50 Loss 0.038848088320246464\n",
      "train accuracy is: 0.9550993156401268, test accuracy is 0.9637096774193549\n"
     ]
    },
    {
     "name": "stdout",
     "output_type": "stream",
     "text": [
      "Epoch 60 Loss 0.03569183934064982\n",
      "train accuracy is: 0.9588549490903021, test accuracy is 0.9647177419354839\n"
     ]
    },
    {
     "name": "stdout",
     "output_type": "stream",
     "text": [
      "Epoch 70 Loss 0.03334415038247984\n",
      "train accuracy is: 0.9610248706392923, test accuracy is 0.967741935483871\n"
     ]
    },
    {
     "name": "stdout",
     "output_type": "stream",
     "text": [
      "Epoch 80 Loss 0.03150884980225969\n",
      "train accuracy is: 0.9625271240193624, test accuracy is 0.9692540322580645\n"
     ]
    },
    {
     "name": "stdout",
     "output_type": "stream",
     "text": [
      "Epoch 90 Loss 0.03001903630650364\n",
      "train accuracy is: 0.9641128359205475, test accuracy is 0.9712701612903226\n"
     ]
    },
    {
     "name": "stdout",
     "output_type": "stream",
     "text": [
      "Epoch 100 Loss 0.028766872576129855\n",
      "train accuracy is: 0.9657820063428476, test accuracy is 0.9712701612903226\n"
     ]
    },
    {
     "name": "stdout",
     "output_type": "stream",
     "text": [
      "Epoch 110 Loss 0.02768908433969778\n",
      "train accuracy is: 0.9670338841595727, test accuracy is 0.9717741935483871\n"
     ]
    },
    {
     "name": "stdout",
     "output_type": "stream",
     "text": [
      "Epoch 120 Loss 0.026750113640846757\n",
      "train accuracy is: 0.9677850108496078, test accuracy is 0.9722782258064516\n"
     ]
    },
    {
     "name": "stdout",
     "output_type": "stream",
     "text": [
      "Epoch 130 Loss 0.025907968979412964\n",
      "train accuracy is: 0.9692038057085628, test accuracy is 0.9727822580645161\n"
     ]
    },
    {
     "name": "stdout",
     "output_type": "stream",
     "text": [
      "Epoch 140 Loss 0.025145380573739193\n",
      "train accuracy is: 0.9697880153563679, test accuracy is 0.9727822580645161\n"
     ]
    },
    {
     "name": "stdout",
     "output_type": "stream",
     "text": [
      "Epoch 150 Loss 0.024443858736262144\n",
      "train accuracy is: 0.970872976130863, test accuracy is 0.9737903225806451\n"
     ]
    },
    {
     "name": "stdout",
     "output_type": "stream",
     "text": [
      "Epoch 160 Loss 0.023803049557815075\n",
      "train accuracy is: 0.9722083124687031, test accuracy is 0.9742943548387096\n"
     ]
    },
    {
     "name": "stdout",
     "output_type": "stream",
     "text": [
      "Epoch 170 Loss 0.023207653328692714\n",
      "train accuracy is: 0.9733767317643132, test accuracy is 0.9737903225806451\n"
     ]
    },
    {
     "name": "stdout",
     "output_type": "stream",
     "text": [
      "Epoch 180 Loss 0.022654762770801053\n",
      "train accuracy is: 0.9739609414121182, test accuracy is 0.9737903225806451\n"
     ]
    },
    {
     "name": "stdout",
     "output_type": "stream",
     "text": [
      "Epoch 190 Loss 0.02213387282188859\n",
      "train accuracy is: 0.9748789851443832, test accuracy is 0.9732862903225806\n"
     ]
    },
    {
     "name": "stdout",
     "output_type": "stream",
     "text": [
      "Epoch 200 Loss 0.021635388870536437\n",
      "train accuracy is: 0.9755466533133033, test accuracy is 0.9727822580645161\n"
     ]
    },
    {
     "name": "stdout",
     "output_type": "stream",
     "text": [
      "Epoch 210 Loss 0.02116739732585009\n",
      "train accuracy is: 0.9757135703555333, test accuracy is 0.9727822580645161\n"
     ]
    },
    {
     "name": "stdout",
     "output_type": "stream",
     "text": [
      "Epoch 220 Loss 0.02072725308897367\n",
      "train accuracy is: 0.9761308629611083, test accuracy is 0.9727822580645161\n"
     ]
    },
    {
     "name": "stdout",
     "output_type": "stream",
     "text": [
      "Epoch 230 Loss 0.02030739860694788\n",
      "train accuracy is: 0.9762977800033383, test accuracy is 0.9732862903225806\n"
     ]
    },
    {
     "name": "stdout",
     "output_type": "stream",
     "text": [
      "Epoch 240 Loss 0.019915732474013653\n",
      "train accuracy is: 0.9769654481722584, test accuracy is 0.9727822580645161\n"
     ]
    },
    {
     "data": {
      "text/plain": [
       "0.030877122504913448"
      ]
     },
     "execution_count": 21,
     "metadata": {},
     "output_type": "execute_result"
    }
   ],
   "source": [
    "learner1.train_loop(dl)"
   ]
  },
  {
   "cell_type": "markdown",
   "metadata": {
    "papermill": {
     "duration": 0.045587,
     "end_time": "2020-08-16T10:15:46.909881",
     "exception": false,
     "start_time": "2020-08-16T10:15:46.864294",
     "status": "completed"
    },
    "tags": []
   },
   "source": [
    "##### Now running only the logistic regression based classification to compare results with NN"
   ]
  },
  {
   "cell_type": "code",
   "execution_count": 22,
   "metadata": {
    "execution": {
     "iopub.execute_input": "2020-08-16T10:15:47.002250Z",
     "iopub.status.busy": "2020-08-16T10:15:47.001582Z",
     "iopub.status.idle": "2020-08-16T10:15:47.028873Z",
     "shell.execute_reply": "2020-08-16T10:15:47.028309Z"
    },
    "papermill": {
     "duration": 0.076398,
     "end_time": "2020-08-16T10:15:47.028998",
     "exception": false,
     "start_time": "2020-08-16T10:15:46.952600",
     "status": "completed"
    },
    "tags": []
   },
   "outputs": [],
   "source": [
    "learner2 = Learner(loss, model_logistic, opt, config.num_epochs)\n",
    "acc2 = ClfCallback(learner2, config.bs, training_xdata , testing_xdata, training_ydata, testing_ydata)\n",
    "learner2.set_callbacks([acc2])"
   ]
  },
  {
   "cell_type": "code",
   "execution_count": 23,
   "metadata": {
    "execution": {
     "iopub.execute_input": "2020-08-16T10:15:47.119892Z",
     "iopub.status.busy": "2020-08-16T10:15:47.119127Z",
     "iopub.status.idle": "2020-08-16T10:16:07.595543Z",
     "shell.execute_reply": "2020-08-16T10:16:07.596465Z"
    },
    "papermill": {
     "duration": 20.524212,
     "end_time": "2020-08-16T10:16:07.596634",
     "exception": false,
     "start_time": "2020-08-16T10:15:47.072422",
     "status": "completed"
    },
    "tags": []
   },
   "outputs": [
    {
     "name": "stdout",
     "output_type": "stream",
     "text": [
      "Epoch 0 Loss 0.2355952330548922\n",
      "train accuracy is: 0.6965448172258387, test accuracy is 0.7268145161290323\n"
     ]
    },
    {
     "name": "stdout",
     "output_type": "stream",
     "text": [
      "Epoch 10 Loss 0.1061061564622853\n",
      "train accuracy is: 0.8983475212819229, test accuracy is 0.9112903225806451\n"
     ]
    },
    {
     "name": "stdout",
     "output_type": "stream",
     "text": [
      "Epoch 20 Loss 0.08180117617267395\n",
      "train accuracy is: 0.9207978634618594, test accuracy is 0.9334677419354839\n"
     ]
    },
    {
     "name": "stdout",
     "output_type": "stream",
     "text": [
      "Epoch 30 Loss 0.07017737542293859\n",
      "train accuracy is: 0.9318143882490403, test accuracy is 0.9460685483870968\n"
     ]
    },
    {
     "name": "stdout",
     "output_type": "stream",
     "text": [
      "Epoch 40 Loss 0.06309849306354177\n",
      "train accuracy is: 0.9391587381071608, test accuracy is 0.9511088709677419\n"
     ]
    },
    {
     "name": "stdout",
     "output_type": "stream",
     "text": [
      "Epoch 50 Loss 0.05826836638650967\n",
      "train accuracy is: 0.943748956768486, test accuracy is 0.952116935483871\n"
     ]
    },
    {
     "name": "stdout",
     "output_type": "stream",
     "text": [
      "Epoch 60 Loss 0.054732957525707594\n",
      "train accuracy is: 0.9465030879652813, test accuracy is 0.9556451612903226\n"
     ]
    },
    {
     "name": "stdout",
     "output_type": "stream",
     "text": [
      "Epoch 70 Loss 0.05201381099781753\n",
      "train accuracy is: 0.9485060924720414, test accuracy is 0.9571572580645161\n"
     ]
    },
    {
     "name": "stdout",
     "output_type": "stream",
     "text": [
      "Epoch 80 Loss 0.04984462479481707\n",
      "train accuracy is: 0.9500083458521115, test accuracy is 0.9591733870967742\n"
     ]
    },
    {
     "name": "stdout",
     "output_type": "stream",
     "text": [
      "Epoch 90 Loss 0.04806564139195031\n",
      "train accuracy is: 0.9514271407110666, test accuracy is 0.9616935483870968\n"
     ]
    },
    {
     "name": "stdout",
     "output_type": "stream",
     "text": [
      "Epoch 100 Loss 0.046573066327655434\n",
      "train accuracy is: 0.9524286429644466, test accuracy is 0.9616935483870968\n"
     ]
    },
    {
     "name": "stdout",
     "output_type": "stream",
     "text": [
      "Epoch 110 Loss 0.045297669117759065\n",
      "train accuracy is: 0.9536805207811717, test accuracy is 0.9621975806451613\n"
     ]
    },
    {
     "name": "stdout",
     "output_type": "stream",
     "text": [
      "Epoch 120 Loss 0.04419288224465289\n",
      "train accuracy is: 0.9545985645134368, test accuracy is 0.9621975806451613\n"
     ]
    },
    {
     "name": "stdout",
     "output_type": "stream",
     "text": [
      "Epoch 130 Loss 0.04322257290696337\n",
      "train accuracy is: 0.9561842764146219, test accuracy is 0.9632056451612904\n"
     ]
    },
    {
     "name": "stdout",
     "output_type": "stream",
     "text": [
      "Epoch 140 Loss 0.04236180522582484\n",
      "train accuracy is: 0.956851944583542, test accuracy is 0.9632056451612904\n"
     ]
    },
    {
     "name": "stdout",
     "output_type": "stream",
     "text": [
      "Epoch 150 Loss 0.04159212740705065\n",
      "train accuracy is: 0.956851944583542, test accuracy is 0.9632056451612904\n"
     ]
    },
    {
     "name": "stdout",
     "output_type": "stream",
     "text": [
      "Epoch 160 Loss 0.040897583671632015\n",
      "train accuracy is: 0.957269237189117, test accuracy is 0.9642137096774194\n"
     ]
    },
    {
     "name": "stdout",
     "output_type": "stream",
     "text": [
      "Epoch 170 Loss 0.04026640688052951\n",
      "train accuracy is: 0.958020363879152, test accuracy is 0.9647177419354839\n"
     ]
    },
    {
     "name": "stdout",
     "output_type": "stream",
     "text": [
      "Epoch 180 Loss 0.039689292213805856\n",
      "train accuracy is: 0.958604573526957, test accuracy is 0.9647177419354839\n"
     ]
    },
    {
     "name": "stdout",
     "output_type": "stream",
     "text": [
      "Epoch 190 Loss 0.03915999661221759\n",
      "train accuracy is: 0.9590218661325322, test accuracy is 0.9652217741935484\n"
     ]
    },
    {
     "name": "stdout",
     "output_type": "stream",
     "text": [
      "Epoch 200 Loss 0.03867135959018948\n",
      "train accuracy is: 0.9596060757803372, test accuracy is 0.9652217741935484\n"
     ]
    },
    {
     "name": "stdout",
     "output_type": "stream",
     "text": [
      "Epoch 210 Loss 0.038217806111121994\n",
      "train accuracy is: 0.9597729928225672, test accuracy is 0.9652217741935484\n"
     ]
    },
    {
     "name": "stdout",
     "output_type": "stream",
     "text": [
      "Epoch 220 Loss 0.03779684472624632\n",
      "train accuracy is: 0.9602737439492572, test accuracy is 0.9652217741935484\n"
     ]
    },
    {
     "name": "stdout",
     "output_type": "stream",
     "text": [
      "Epoch 230 Loss 0.03740293801561793\n",
      "train accuracy is: 0.9604406609914873, test accuracy is 0.9652217741935484\n"
     ]
    },
    {
     "name": "stdout",
     "output_type": "stream",
     "text": [
      "Epoch 240 Loss 0.037034397950007056\n",
      "train accuracy is: 0.9606075780337172, test accuracy is 0.9652217741935484\n"
     ]
    },
    {
     "data": {
      "text/plain": [
       "0.050851226691805376"
      ]
     },
     "execution_count": 23,
     "metadata": {},
     "output_type": "execute_result"
    }
   ],
   "source": [
    "learner2.train_loop(dl)"
   ]
  },
  {
   "cell_type": "markdown",
   "metadata": {
    "papermill": {
     "duration": 0.051284,
     "end_time": "2020-08-16T10:16:07.704754",
     "exception": false,
     "start_time": "2020-08-16T10:16:07.653470",
     "status": "completed"
    },
    "tags": []
   },
   "source": [
    "### Comparing results of NN and LR"
   ]
  },
  {
   "cell_type": "code",
   "execution_count": 24,
   "metadata": {
    "execution": {
     "iopub.execute_input": "2020-08-16T10:16:07.810314Z",
     "iopub.status.busy": "2020-08-16T10:16:07.809681Z",
     "iopub.status.idle": "2020-08-16T10:16:08.067522Z",
     "shell.execute_reply": "2020-08-16T10:16:08.066950Z"
    },
    "papermill": {
     "duration": 0.311855,
     "end_time": "2020-08-16T10:16:08.067668",
     "exception": false,
     "start_time": "2020-08-16T10:16:07.755813",
     "status": "completed"
    },
    "tags": []
   },
   "outputs": [
    {
     "data": {
      "text/plain": [
       "<matplotlib.legend.Legend at 0x7f4a1e567a20>"
      ]
     },
     "execution_count": 24,
     "metadata": {},
     "output_type": "execute_result"
    },
    {
     "data": {
      "image/png": "[encoded data removed]",
      "text/plain": [
       "<Figure size 576x360 with 1 Axes>"
      ]
     },
     "metadata": {
      "needs_background": "light"
     },
     "output_type": "display_data"
    }
   ],
   "source": [
    "plt.figure(figsize=(8,5))\n",
    "plt.plot(acc1.val_accuracies, 'g-', label = \"Val Accuracies - NN\")\n",
    "plt.plot(acc1.accuracies, 'r-', label = \"Accuracies - NN\")\n",
    "plt.plot(acc2.val_accuracies, 'b-', label = \"Val Accuracies - Logistic Reg\")\n",
    "plt.plot(acc2.accuracies, 'k-', label = \"Accuracies - Logistic Reg\")\n",
    "plt.ylim(0.8,1) ## for a more spread out view\n",
    "plt.legend()"
   ]
  },
  {
   "cell_type": "markdown",
   "metadata": {
    "papermill": {
     "duration": 0.054043,
     "end_time": "2020-08-16T10:16:08.172689",
     "exception": false,
     "start_time": "2020-08-16T10:16:08.118646",
     "status": "completed"
    },
    "tags": []
   },
   "source": [
    "### Clearly NN has a better accuracy over LR; NN is overfitting - Validation accuracy (green) has dropped below training accuracy (orange), also they are diverging. This problem is not seen in LR"
   ]
  },
  {
   "cell_type": "markdown",
   "metadata": {
    "papermill": {
     "duration": 0.051642,
     "end_time": "2020-08-16T10:16:08.277307",
     "exception": false,
     "start_time": "2020-08-16T10:16:08.225665",
     "status": "completed"
    },
    "tags": []
   },
   "source": [
    "##### Now we will be moving through the network, till the output of the second last affine where we get a 2 dimensional output. We will be plotting this 2d output and probability contours"
   ]
  },
  {
   "cell_type": "code",
   "execution_count": 25,
   "metadata": {
    "execution": {
     "iopub.execute_input": "2020-08-16T10:16:08.387141Z",
     "iopub.status.busy": "2020-08-16T10:16:08.386264Z",
     "iopub.status.idle": "2020-08-16T10:16:08.398339Z",
     "shell.execute_reply": "2020-08-16T10:16:08.398829Z"
    },
    "papermill": {
     "duration": 0.069613,
     "end_time": "2020-08-16T10:16:08.398969",
     "exception": false,
     "start_time": "2020-08-16T10:16:08.329356",
     "status": "completed"
    },
    "tags": []
   },
   "outputs": [],
   "source": [
    "model_new = Model(layers[:-2])"
   ]
  },
  {
   "cell_type": "code",
   "execution_count": 26,
   "metadata": {
    "execution": {
     "iopub.execute_input": "2020-08-16T10:16:08.504563Z",
     "iopub.status.busy": "2020-08-16T10:16:08.504004Z",
     "iopub.status.idle": "2020-08-16T10:16:08.530819Z",
     "shell.execute_reply": "2020-08-16T10:16:08.531383Z"
    },
    "papermill": {
     "duration": 0.082597,
     "end_time": "2020-08-16T10:16:08.531567",
     "exception": false,
     "start_time": "2020-08-16T10:16:08.448970",
     "status": "completed"
    },
    "tags": []
   },
   "outputs": [],
   "source": [
    "plot_testing = model_new(testing_xdata)"
   ]
  },
  {
   "cell_type": "markdown",
   "metadata": {
    "papermill": {
     "duration": 0.073689,
     "end_time": "2020-08-16T10:16:08.657223",
     "exception": false,
     "start_time": "2020-08-16T10:16:08.583534",
     "status": "completed"
    },
    "tags": []
   },
   "source": [
    "##### Plotting the scatter plot of points and color coding by class"
   ]
  },
  {
   "cell_type": "code",
   "execution_count": 27,
   "metadata": {
    "execution": {
     "iopub.execute_input": "2020-08-16T10:16:08.769737Z",
     "iopub.status.busy": "2020-08-16T10:16:08.769016Z",
     "iopub.status.idle": "2020-08-16T10:16:08.987793Z",
     "shell.execute_reply": "2020-08-16T10:16:08.988317Z"
    },
    "papermill": {
     "duration": 0.276473,
     "end_time": "2020-08-16T10:16:08.988489",
     "exception": false,
     "start_time": "2020-08-16T10:16:08.712016",
     "status": "completed"
    },
    "tags": []
   },
   "outputs": [
    {
     "data": {
      "image/png": "[encoded data removed]",
      "text/plain": [
       "<Figure size 576x504 with 1 Axes>"
      ]
     },
     "metadata": {
      "needs_background": "light"
     },
     "output_type": "display_data"
    }
   ],
   "source": [
    "plt.figure(figsize=(8,7))\n",
    "plt.scatter(plot_testing[:,0], plot_testing[:,1], alpha = 0.1, c = y_test.ravel());"
   ]
  },
  {
   "cell_type": "markdown",
   "metadata": {
    "papermill": {
     "duration": 0.05317,
     "end_time": "2020-08-16T10:16:09.095494",
     "exception": false,
     "start_time": "2020-08-16T10:16:09.042324",
     "status": "completed"
    },
    "tags": []
   },
   "source": [
    "##### Plotting probability contours"
   ]
  },
  {
   "cell_type": "code",
   "execution_count": 28,
   "metadata": {
    "execution": {
     "iopub.execute_input": "2020-08-16T10:16:09.212172Z",
     "iopub.status.busy": "2020-08-16T10:16:09.211525Z",
     "iopub.status.idle": "2020-08-16T10:16:09.225023Z",
     "shell.execute_reply": "2020-08-16T10:16:09.224261Z"
    },
    "papermill": {
     "duration": 0.074801,
     "end_time": "2020-08-16T10:16:09.225162",
     "exception": false,
     "start_time": "2020-08-16T10:16:09.150361",
     "status": "completed"
    },
    "tags": []
   },
   "outputs": [],
   "source": [
    "model_prob = Model(layers[-2:]) ## picking only last two layers to get probability. That is affine followed by sigmoid"
   ]
  },
  {
   "cell_type": "code",
   "execution_count": 29,
   "metadata": {
    "execution": {
     "iopub.execute_input": "2020-08-16T10:16:09.338308Z",
     "iopub.status.busy": "2020-08-16T10:16:09.337347Z",
     "iopub.status.idle": "2020-08-16T10:16:09.353442Z",
     "shell.execute_reply": "2020-08-16T10:16:09.353910Z"
    },
    "papermill": {
     "duration": 0.075192,
     "end_time": "2020-08-16T10:16:09.354059",
     "exception": false,
     "start_time": "2020-08-16T10:16:09.278867",
     "status": "completed"
    },
    "tags": []
   },
   "outputs": [],
   "source": [
    "xgrid = np.linspace(-4, 1, 100) ## Adjust these values based on above chart, roughly -4 to 1\n",
    "ygrid = np.linspace(-7.5, 7.5, 100) ## Adjust these values based on above chart, roughly -7.5, 7.5\n",
    "xg, yg = np.meshgrid(xgrid, ygrid)\n",
    "# xg and yg are now both 100X100, lets convert them to single arrays \n",
    "\n",
    "xg_interim = np.ravel(xg)\n",
    "yg_interim = np.ravel(yg)\n",
    "\n",
    "## xg_interim, yg_interim are now arrays of len 10000, now we will stack them and then transpose to get desired shape of n rows, 2 columns\n",
    "\n",
    "X_interim = np.vstack((xg_interim, yg_interim)) ## Please note vstack takes in a tuple\n",
    "X = X_interim.T\n",
    "\n",
    "## We want a shape of n rows and 2 columns to be able to feed this to last affine\n",
    "## This last affine takes only two columns, hence the above transformation\n",
    "probability_contour = model_prob(X).reshape(100,100) ## to make it consistent with xg, yg"
   ]
  },
  {
   "cell_type": "code",
   "execution_count": 30,
   "metadata": {
    "execution": {
     "iopub.execute_input": "2020-08-16T10:16:09.467616Z",
     "iopub.status.busy": "2020-08-16T10:16:09.466927Z",
     "iopub.status.idle": "2020-08-16T10:16:09.746095Z",
     "shell.execute_reply": "2020-08-16T10:16:09.745210Z"
    },
    "papermill": {
     "duration": 0.339037,
     "end_time": "2020-08-16T10:16:09.746236",
     "exception": false,
     "start_time": "2020-08-16T10:16:09.407199",
     "status": "completed"
    },
    "tags": []
   },
   "outputs": [
    {
     "data": {
      "image/png": "[encoded data removed]",
      "text/plain": [
       "<Figure size 576x504 with 1 Axes>"
      ]
     },
     "metadata": {
      "needs_background": "light"
     },
     "output_type": "display_data"
    }
   ],
   "source": [
    "plt.figure(figsize=(8,7))\n",
    "plt.scatter(plot_testing[:,0], plot_testing[:,1], alpha = 0.1, c = y_test.ravel())\n",
    "contours = plt.contour(xg,yg,probability_contour)\n",
    "plt.clabel(contours, inline = True );"
   ]
  }
 ],
 "metadata": {
  "kernelspec": {
   "display_name": "Python 3",
   "language": "python",
   "name": "python3"
  },
  "language_info": {
   "codemirror_mode": {
    "name": "ipython",
    "version": 3
   },
   "file_extension": ".py",
   "mimetype": "text/x-python",
   "name": "python",
   "nbconvert_exporter": "python",
   "pygments_lexer": "ipython3",
   "version": "3.6.11"
  },
  "papermill": {
   "duration": 170.437651,
   "end_time": "2020-08-16T10:16:11.170829",
   "environment_variables": {},
   "exception": null,
   "input_path": "2020-08-07-NN-new.ipynb",
   "output_path": "2020-08-07-NN-new.ipynb",
   "parameters": {},
   "start_time": "2020-08-16T10:13:20.733178",
   "version": "2.1.2"
  }
 },
 "nbformat": 4,
 "nbformat_minor": 4
}