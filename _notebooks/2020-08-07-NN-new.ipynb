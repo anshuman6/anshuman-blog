{
 "cells": [
  {
   "cell_type": "markdown",
   "metadata": {
    "papermill": {
     "duration": 0.038698,
     "end_time": "2020-08-24T00:28:53.053197",
     "exception": false,
     "start_time": "2020-08-24T00:28:53.014499",
     "status": "completed"
    },
    "tags": []
   },
   "source": [
    "# \"Building a basic Neural Network from scratch - Kudzu\"\n",
    "\n",
    "- badges: true\n",
    "- author: Anshuman Gupta"
   ]
  },
  {
   "cell_type": "markdown",
   "metadata": {
    "papermill": {
     "duration": 0.029541,
     "end_time": "2020-08-24T00:28:53.112677",
     "exception": false,
     "start_time": "2020-08-24T00:28:53.083136",
     "status": "completed"
    },
    "tags": []
   },
   "source": [
    "#### In this project, the idea is to write a classifier to differentiate between handwritten digits 3 and 8, from the MNIST database.\n",
    "\n",
    "#### I will using a custom built neural network library called Kudzu.This has been developed as a part of KTF/Foundations course of Univ.ai (www.univ.ai). The source code for Kudzu Library and and this notebook can be found on my git-hub profile : www.https://github.com/anshuman6 under the folder project-solution. Any feedback and comments are welcome. Please feel free to email me at: anshuman6@gmail.com\n",
    "\n",
    "#### 1. I will be using the MNIST database. \n",
    "\n",
    "#### 2. I will be comparing the results of the 4 layer NN to a standard logistic regression"
   ]
  },
  {
   "cell_type": "markdown",
   "metadata": {
    "papermill": {
     "duration": 0.028732,
     "end_time": "2020-08-24T00:28:53.171865",
     "exception": false,
     "start_time": "2020-08-24T00:28:53.143133",
     "status": "completed"
    },
    "tags": []
   },
   "source": [
    "##### Importing all the necessary libraries"
   ]
  },
  {
   "cell_type": "code",
   "execution_count": 1,
   "metadata": {
    "execution": {
     "iopub.execute_input": "2020-08-24T00:28:53.238559Z",
     "iopub.status.busy": "2020-08-24T00:28:53.237844Z",
     "iopub.status.idle": "2020-08-24T00:28:53.249589Z",
     "shell.execute_reply": "2020-08-24T00:28:53.249061Z"
    },
    "papermill": {
     "duration": 0.04643,
     "end_time": "2020-08-24T00:28:53.249736",
     "exception": false,
     "start_time": "2020-08-24T00:28:53.203306",
     "status": "completed"
    },
    "tags": []
   },
   "outputs": [],
   "source": [
    "%load_ext autoreload\n",
    "%autoreload 2"
   ]
  },
  {
   "cell_type": "code",
   "execution_count": 2,
   "metadata": {
    "execution": {
     "iopub.execute_input": "2020-08-24T00:28:53.312997Z",
     "iopub.status.busy": "2020-08-24T00:28:53.312345Z",
     "iopub.status.idle": "2020-08-24T00:28:53.944124Z",
     "shell.execute_reply": "2020-08-24T00:28:53.943536Z"
    },
    "papermill": {
     "duration": 0.664858,
     "end_time": "2020-08-24T00:28:53.944316",
     "exception": false,
     "start_time": "2020-08-24T00:28:53.279458",
     "status": "completed"
    },
    "tags": []
   },
   "outputs": [],
   "source": [
    "%matplotlib inline\n",
    "import numpy as np\n",
    "import matplotlib.pyplot as plt\n",
    "import pandas as pd"
   ]
  },
  {
   "cell_type": "markdown",
   "metadata": {
    "papermill": {
     "duration": 0.029184,
     "end_time": "2020-08-24T00:28:54.003760",
     "exception": false,
     "start_time": "2020-08-24T00:28:53.974576",
     "status": "completed"
    },
    "tags": []
   },
   "source": [
    "##### The following command helps us download MNIST from notebook itself. You can skip this if you already have MNIST. You can also download it via your terminal."
   ]
  },
  {
   "cell_type": "code",
   "execution_count": 3,
   "metadata": {
    "execution": {
     "iopub.execute_input": "2020-08-24T00:28:54.069384Z",
     "iopub.status.busy": "2020-08-24T00:28:54.068738Z",
     "iopub.status.idle": "2020-08-24T00:28:55.580473Z",
     "shell.execute_reply": "2020-08-24T00:28:55.579254Z"
    },
    "papermill": {
     "duration": 1.546527,
     "end_time": "2020-08-24T00:28:55.580634",
     "exception": false,
     "start_time": "2020-08-24T00:28:54.034107",
     "status": "completed"
    },
    "tags": []
   },
   "outputs": [
    {
     "name": "stdout",
     "output_type": "stream",
     "text": [
      "Collecting mnist\r\n"
     ]
    },
    {
     "name": "stdout",
     "output_type": "stream",
     "text": [
      "  Downloading mnist-0.2.2-py2.py3-none-any.whl (3.5 kB)\r\n",
      "Requirement already satisfied: numpy in /opt/hostedtoolcache/Python/3.6.11/x64/lib/python3.6/site-packages (from mnist) (1.19.1)\r\n"
     ]
    },
    {
     "name": "stdout",
     "output_type": "stream",
     "text": [
      "Installing collected packages: mnist\r\n",
      "Successfully installed mnist-0.2.2\r\n"
     ]
    }
   ],
   "source": [
    "!pip install mnist # Please note, it is commented out for now, you can remove comment if you want to install it"
   ]
  },
  {
   "cell_type": "markdown",
   "metadata": {
    "papermill": {
     "duration": 0.031529,
     "end_time": "2020-08-24T00:28:55.643399",
     "exception": false,
     "start_time": "2020-08-24T00:28:55.611870",
     "status": "completed"
    },
    "tags": []
   },
   "source": [
    "#### Preparing the Data"
   ]
  },
  {
   "cell_type": "code",
   "execution_count": 4,
   "metadata": {
    "execution": {
     "iopub.execute_input": "2020-08-24T00:28:55.717035Z",
     "iopub.status.busy": "2020-08-24T00:28:55.708709Z",
     "iopub.status.idle": "2020-08-24T00:28:55.724386Z",
     "shell.execute_reply": "2020-08-24T00:28:55.724861Z"
    },
    "papermill": {
     "duration": 0.050702,
     "end_time": "2020-08-24T00:28:55.725010",
     "exception": false,
     "start_time": "2020-08-24T00:28:55.674308",
     "status": "completed"
    },
    "tags": []
   },
   "outputs": [],
   "source": [
    "import mnist"
   ]
  },
  {
   "cell_type": "code",
   "execution_count": 5,
   "metadata": {
    "execution": {
     "iopub.execute_input": "2020-08-24T00:28:55.788480Z",
     "iopub.status.busy": "2020-08-24T00:28:55.787844Z",
     "iopub.status.idle": "2020-08-24T00:28:56.536695Z",
     "shell.execute_reply": "2020-08-24T00:28:56.537314Z"
    },
    "papermill": {
     "duration": 0.782215,
     "end_time": "2020-08-24T00:28:56.537482",
     "exception": false,
     "start_time": "2020-08-24T00:28:55.755267",
     "status": "completed"
    },
    "tags": []
   },
   "outputs": [],
   "source": [
    "train_images = mnist.train_images()\n",
    "train_labels = mnist.train_labels()"
   ]
  },
  {
   "cell_type": "code",
   "execution_count": 6,
   "metadata": {
    "execution": {
     "iopub.execute_input": "2020-08-24T00:28:56.603700Z",
     "iopub.status.busy": "2020-08-24T00:28:56.602726Z",
     "iopub.status.idle": "2020-08-24T00:28:56.621687Z",
     "shell.execute_reply": "2020-08-24T00:28:56.621137Z"
    },
    "papermill": {
     "duration": 0.053358,
     "end_time": "2020-08-24T00:28:56.621949",
     "exception": false,
     "start_time": "2020-08-24T00:28:56.568591",
     "status": "completed"
    },
    "tags": []
   },
   "outputs": [
    {
     "data": {
      "text/plain": [
       "((60000, 28, 28), (60000,))"
      ]
     },
     "execution_count": 6,
     "metadata": {},
     "output_type": "execute_result"
    }
   ],
   "source": [
    "train_images.shape, train_labels.shape"
   ]
  },
  {
   "cell_type": "code",
   "execution_count": 7,
   "metadata": {
    "execution": {
     "iopub.execute_input": "2020-08-24T00:28:56.687027Z",
     "iopub.status.busy": "2020-08-24T00:28:56.686308Z",
     "iopub.status.idle": "2020-08-24T00:28:56.939281Z",
     "shell.execute_reply": "2020-08-24T00:28:56.939775Z"
    },
    "papermill": {
     "duration": 0.286527,
     "end_time": "2020-08-24T00:28:56.939946",
     "exception": false,
     "start_time": "2020-08-24T00:28:56.653419",
     "status": "completed"
    },
    "tags": []
   },
   "outputs": [],
   "source": [
    "test_images = mnist.test_images()\n",
    "test_labels = mnist.test_labels()"
   ]
  },
  {
   "cell_type": "code",
   "execution_count": 8,
   "metadata": {
    "execution": {
     "iopub.execute_input": "2020-08-24T00:28:57.005284Z",
     "iopub.status.busy": "2020-08-24T00:28:57.004583Z",
     "iopub.status.idle": "2020-08-24T00:28:57.018890Z",
     "shell.execute_reply": "2020-08-24T00:28:57.018341Z"
    },
    "papermill": {
     "duration": 0.048716,
     "end_time": "2020-08-24T00:28:57.019024",
     "exception": false,
     "start_time": "2020-08-24T00:28:56.970308",
     "status": "completed"
    },
    "tags": []
   },
   "outputs": [
    {
     "data": {
      "text/plain": [
       "((10000, 28, 28), (10000,))"
      ]
     },
     "execution_count": 8,
     "metadata": {},
     "output_type": "execute_result"
    }
   ],
   "source": [
    "test_images.shape, test_labels.shape"
   ]
  },
  {
   "cell_type": "code",
   "execution_count": 9,
   "metadata": {
    "execution": {
     "iopub.execute_input": "2020-08-24T00:28:57.087732Z",
     "iopub.status.busy": "2020-08-24T00:28:57.087046Z",
     "iopub.status.idle": "2020-08-24T00:28:57.265300Z",
     "shell.execute_reply": "2020-08-24T00:28:57.265932Z"
    },
    "papermill": {
     "duration": 0.215004,
     "end_time": "2020-08-24T00:28:57.266162",
     "exception": false,
     "start_time": "2020-08-24T00:28:57.051158",
     "status": "completed"
    },
    "tags": []
   },
   "outputs": [
    {
     "name": "stdout",
     "output_type": "stream",
     "text": [
      "2\n"
     ]
    },
    {
     "data": {
      "text/plain": [
       "<matplotlib.image.AxesImage at 0x7f84e7eb30f0>"
      ]
     },
     "execution_count": 9,
     "metadata": {},
     "output_type": "execute_result"
    },
    {
     "data": {
      "image/png": "[encoded data removed]",
      "text/plain": [
       "<Figure size 432x288 with 1 Axes>"
      ]
     },
     "metadata": {
      "needs_background": "light"
     },
     "output_type": "display_data"
    }
   ],
   "source": [
    "image_index = 7776 # You may select anything up to 60,000\n",
    "print(train_labels[image_index]) \n",
    "plt.imshow(train_images[image_index], cmap='Greys')"
   ]
  },
  {
   "cell_type": "markdown",
   "metadata": {
    "papermill": {
     "duration": 0.031772,
     "end_time": "2020-08-24T00:28:57.330465",
     "exception": false,
     "start_time": "2020-08-24T00:28:57.298693",
     "status": "completed"
    },
    "tags": []
   },
   "source": [
    "## Filter data to get 3 and 8 out"
   ]
  },
  {
   "cell_type": "code",
   "execution_count": 10,
   "metadata": {
    "execution": {
     "iopub.execute_input": "2020-08-24T00:28:57.397223Z",
     "iopub.status.busy": "2020-08-24T00:28:57.396599Z",
     "iopub.status.idle": "2020-08-24T00:28:57.426935Z",
     "shell.execute_reply": "2020-08-24T00:28:57.426257Z"
    },
    "papermill": {
     "duration": 0.065166,
     "end_time": "2020-08-24T00:28:57.427076",
     "exception": false,
     "start_time": "2020-08-24T00:28:57.361910",
     "status": "completed"
    },
    "tags": []
   },
   "outputs": [],
   "source": [
    "train_filter = np.where((train_labels == 3 ) | (train_labels == 8))\n",
    "test_filter = np.where((test_labels == 3) | (test_labels == 8))\n",
    "X_train, y_train = train_images[train_filter], train_labels[train_filter]\n",
    "X_test, y_test = test_images[test_filter], test_labels[test_filter]"
   ]
  },
  {
   "cell_type": "markdown",
   "metadata": {
    "papermill": {
     "duration": 0.03083,
     "end_time": "2020-08-24T00:28:57.489064",
     "exception": false,
     "start_time": "2020-08-24T00:28:57.458234",
     "status": "completed"
    },
    "tags": []
   },
   "source": [
    "##### We normalize the pizel values in the 0 to 1 range"
   ]
  },
  {
   "cell_type": "code",
   "execution_count": 11,
   "metadata": {
    "execution": {
     "iopub.execute_input": "2020-08-24T00:28:57.557340Z",
     "iopub.status.busy": "2020-08-24T00:28:57.556466Z",
     "iopub.status.idle": "2020-08-24T00:28:57.621013Z",
     "shell.execute_reply": "2020-08-24T00:28:57.620111Z"
    },
    "papermill": {
     "duration": 0.10075,
     "end_time": "2020-08-24T00:28:57.621187",
     "exception": false,
     "start_time": "2020-08-24T00:28:57.520437",
     "status": "completed"
    },
    "tags": []
   },
   "outputs": [],
   "source": [
    "X_train = X_train/255.\n",
    "X_test = X_test/255."
   ]
  },
  {
   "cell_type": "markdown",
   "metadata": {
    "papermill": {
     "duration": 0.031519,
     "end_time": "2020-08-24T00:28:57.687852",
     "exception": false,
     "start_time": "2020-08-24T00:28:57.656333",
     "status": "completed"
    },
    "tags": []
   },
   "source": [
    "And setup the labels as 1 (when the digit is 3) and 0 (when the digit is 8)"
   ]
  },
  {
   "cell_type": "code",
   "execution_count": 12,
   "metadata": {
    "execution": {
     "iopub.execute_input": "2020-08-24T00:28:57.755673Z",
     "iopub.status.busy": "2020-08-24T00:28:57.755055Z",
     "iopub.status.idle": "2020-08-24T00:28:57.768599Z",
     "shell.execute_reply": "2020-08-24T00:28:57.768039Z"
    },
    "papermill": {
     "duration": 0.049358,
     "end_time": "2020-08-24T00:28:57.768724",
     "exception": false,
     "start_time": "2020-08-24T00:28:57.719366",
     "status": "completed"
    },
    "tags": []
   },
   "outputs": [],
   "source": [
    "y_train = 1*(y_train==3)\n",
    "y_test = 1*(y_test==3)"
   ]
  },
  {
   "cell_type": "code",
   "execution_count": 13,
   "metadata": {
    "execution": {
     "iopub.execute_input": "2020-08-24T00:28:57.834933Z",
     "iopub.status.busy": "2020-08-24T00:28:57.834317Z",
     "iopub.status.idle": "2020-08-24T00:28:57.848508Z",
     "shell.execute_reply": "2020-08-24T00:28:57.847969Z"
    },
    "papermill": {
     "duration": 0.048538,
     "end_time": "2020-08-24T00:28:57.848631",
     "exception": false,
     "start_time": "2020-08-24T00:28:57.800093",
     "status": "completed"
    },
    "tags": []
   },
   "outputs": [
    {
     "data": {
      "text/plain": [
       "((11982, 28, 28), (1984, 28, 28))"
      ]
     },
     "execution_count": 13,
     "metadata": {},
     "output_type": "execute_result"
    }
   ],
   "source": [
    "X_train.shape, X_test.shape"
   ]
  },
  {
   "cell_type": "markdown",
   "metadata": {
    "papermill": {
     "duration": 0.031109,
     "end_time": "2020-08-24T00:28:57.911516",
     "exception": false,
     "start_time": "2020-08-24T00:28:57.880407",
     "status": "completed"
    },
    "tags": []
   },
   "source": [
    "##### We reshape the data to flatten the image pixels into a set of features or co-variates:"
   ]
  },
  {
   "cell_type": "code",
   "execution_count": 14,
   "metadata": {
    "execution": {
     "iopub.execute_input": "2020-08-24T00:28:57.981893Z",
     "iopub.status.busy": "2020-08-24T00:28:57.981187Z",
     "iopub.status.idle": "2020-08-24T00:28:57.997133Z",
     "shell.execute_reply": "2020-08-24T00:28:57.996550Z"
    },
    "papermill": {
     "duration": 0.052595,
     "end_time": "2020-08-24T00:28:57.997282",
     "exception": false,
     "start_time": "2020-08-24T00:28:57.944687",
     "status": "completed"
    },
    "tags": []
   },
   "outputs": [
    {
     "data": {
      "text/plain": [
       "((11982, 784), (1984, 784))"
      ]
     },
     "execution_count": 14,
     "metadata": {},
     "output_type": "execute_result"
    }
   ],
   "source": [
    "X_train = X_train.reshape(X_train.shape[0], -1)\n",
    "X_test = X_test.reshape(X_test.shape[0], -1)\n",
    "X_train.shape, X_test.shape"
   ]
  },
  {
   "cell_type": "markdown",
   "metadata": {
    "papermill": {
     "duration": 0.033714,
     "end_time": "2020-08-24T00:28:58.064991",
     "exception": false,
     "start_time": "2020-08-24T00:28:58.031277",
     "status": "completed"
    },
    "tags": []
   },
   "source": [
    "##### Importing Kudzu library and its functionality"
   ]
  },
  {
   "cell_type": "code",
   "execution_count": 15,
   "metadata": {
    "execution": {
     "iopub.execute_input": "2020-08-24T00:28:58.140024Z",
     "iopub.status.busy": "2020-08-24T00:28:58.138903Z",
     "iopub.status.idle": "2020-08-24T00:28:58.162764Z",
     "shell.execute_reply": "2020-08-24T00:28:58.163348Z"
    },
    "papermill": {
     "duration": 0.064266,
     "end_time": "2020-08-24T00:28:58.163499",
     "exception": false,
     "start_time": "2020-08-24T00:28:58.099233",
     "status": "completed"
    },
    "tags": []
   },
   "outputs": [],
   "source": [
    "from kudzu.data import Data, Dataloader, Sampler\n",
    "from kudzu.callbacks import AccCallback\n",
    "from kudzu.loss import MSE\n",
    "from kudzu.layer import Affine, Sigmoid\n",
    "from kudzu.model import Model\n",
    "from kudzu.optim import GD\n",
    "from kudzu.train import Learner\n",
    "from kudzu.callbacks import ClfCallback\n",
    "from kudzu.layer import Sigmoid\n",
    "from kudzu.layer import Relu"
   ]
  },
  {
   "cell_type": "markdown",
   "metadata": {
    "papermill": {
     "duration": 0.035018,
     "end_time": "2020-08-24T00:28:58.234960",
     "exception": false,
     "start_time": "2020-08-24T00:28:58.199942",
     "status": "completed"
    },
    "tags": []
   },
   "source": [
    "##### We are creating a class, just so that we can use it to store our parameters for us"
   ]
  },
  {
   "cell_type": "code",
   "execution_count": 16,
   "metadata": {
    "execution": {
     "iopub.execute_input": "2020-08-24T00:28:58.307186Z",
     "iopub.status.busy": "2020-08-24T00:28:58.306551Z",
     "iopub.status.idle": "2020-08-24T00:28:58.319685Z",
     "shell.execute_reply": "2020-08-24T00:28:58.319128Z"
    },
    "papermill": {
     "duration": 0.051033,
     "end_time": "2020-08-24T00:28:58.319814",
     "exception": false,
     "start_time": "2020-08-24T00:28:58.268781",
     "status": "completed"
    },
    "tags": []
   },
   "outputs": [],
   "source": [
    "class Config:\n",
    "    pass\n",
    "config = Config()\n",
    "config.lr = 0.001\n",
    "config.num_epochs = 250\n",
    "config.bs = 50"
   ]
  },
  {
   "cell_type": "markdown",
   "metadata": {
    "papermill": {
     "duration": 0.031752,
     "end_time": "2020-08-24T00:28:58.384873",
     "exception": false,
     "start_time": "2020-08-24T00:28:58.353121",
     "status": "completed"
    },
    "tags": []
   },
   "source": [
    "##### Initializing Data"
   ]
  },
  {
   "cell_type": "code",
   "execution_count": 17,
   "metadata": {
    "execution": {
     "iopub.execute_input": "2020-08-24T00:28:58.455294Z",
     "iopub.status.busy": "2020-08-24T00:28:58.454611Z",
     "iopub.status.idle": "2020-08-24T00:28:58.467575Z",
     "shell.execute_reply": "2020-08-24T00:28:58.468122Z"
    },
    "papermill": {
     "duration": 0.050156,
     "end_time": "2020-08-24T00:28:58.468296",
     "exception": false,
     "start_time": "2020-08-24T00:28:58.418140",
     "status": "completed"
    },
    "tags": []
   },
   "outputs": [],
   "source": [
    "data = Data(X_train, y_train.reshape(-1,1))\n",
    "loss = MSE()\n",
    "opt = GD(config.lr)\n",
    "sampler = Sampler(data, config.bs, shuffle=True)\n",
    "dl = Dataloader(data, sampler)"
   ]
  },
  {
   "cell_type": "markdown",
   "metadata": {
    "papermill": {
     "duration": 0.033904,
     "end_time": "2020-08-24T00:28:58.533729",
     "exception": false,
     "start_time": "2020-08-24T00:28:58.499825",
     "status": "completed"
    },
    "tags": []
   },
   "source": [
    "##### Constructing 2 different layers, one for NN and one only for logistic regression."
   ]
  },
  {
   "cell_type": "markdown",
   "metadata": {
    "papermill": {
     "duration": 0.032552,
     "end_time": "2020-08-24T00:28:58.598955",
     "exception": false,
     "start_time": "2020-08-24T00:28:58.566403",
     "status": "completed"
    },
    "tags": []
   },
   "source": [
    "##### Creating containers for data to be passed, to calculate accuracies"
   ]
  },
  {
   "cell_type": "code",
   "execution_count": 18,
   "metadata": {
    "execution": {
     "iopub.execute_input": "2020-08-24T00:28:58.672130Z",
     "iopub.status.busy": "2020-08-24T00:28:58.671390Z",
     "iopub.status.idle": "2020-08-24T00:28:58.685075Z",
     "shell.execute_reply": "2020-08-24T00:28:58.685657Z"
    },
    "papermill": {
     "duration": 0.053687,
     "end_time": "2020-08-24T00:28:58.685868",
     "exception": false,
     "start_time": "2020-08-24T00:28:58.632181",
     "status": "completed"
    },
    "tags": []
   },
   "outputs": [],
   "source": [
    "training_xdata = X_train\n",
    "testing_xdata = X_test\n",
    "training_ydata = y_train.reshape(-1,1)\n",
    "testing_ydata = y_test.reshape(-1,1)"
   ]
  },
  {
   "cell_type": "markdown",
   "metadata": {
    "papermill": {
     "duration": 0.033552,
     "end_time": "2020-08-24T00:28:58.752945",
     "exception": false,
     "start_time": "2020-08-24T00:28:58.719393",
     "status": "completed"
    },
    "tags": []
   },
   "source": [
    "##### Initializing models and Running training loop: "
   ]
  },
  {
   "cell_type": "code",
   "execution_count": 19,
   "metadata": {
    "execution": {
     "iopub.execute_input": "2020-08-24T00:28:58.823020Z",
     "iopub.status.busy": "2020-08-24T00:28:58.822323Z",
     "iopub.status.idle": "2020-08-24T00:28:58.839716Z",
     "shell.execute_reply": "2020-08-24T00:28:58.840351Z"
    },
    "papermill": {
     "duration": 0.055132,
     "end_time": "2020-08-24T00:28:58.840559",
     "exception": false,
     "start_time": "2020-08-24T00:28:58.785427",
     "status": "completed"
    },
    "tags": []
   },
   "outputs": [],
   "source": [
    "layers = [Affine(\"first\", 784, 100), Relu(\"first\"), Affine(\"second\", 100, 100), Relu(\"second\"), Affine(\"third\", 100, 2), Affine(\"final\", 2, 1), Sigmoid(\"final\")]\n",
    "\n",
    "model_neural = Model(layers)\n",
    "model_logistic = Model([Affine(\"logits\", 784, 1), Sigmoid(\"sigmoid\")])"
   ]
  },
  {
   "cell_type": "code",
   "execution_count": 20,
   "metadata": {
    "execution": {
     "iopub.execute_input": "2020-08-24T00:28:58.909401Z",
     "iopub.status.busy": "2020-08-24T00:28:58.908757Z",
     "iopub.status.idle": "2020-08-24T00:28:58.922948Z",
     "shell.execute_reply": "2020-08-24T00:28:58.922344Z"
    },
    "papermill": {
     "duration": 0.049935,
     "end_time": "2020-08-24T00:28:58.923071",
     "exception": false,
     "start_time": "2020-08-24T00:28:58.873136",
     "status": "completed"
    },
    "tags": []
   },
   "outputs": [],
   "source": [
    "learner1 = Learner(loss, model_neural, opt, config.num_epochs)\n",
    "acc1 = ClfCallback(learner1, config.bs, training_xdata , testing_xdata, training_ydata, testing_ydata)\n",
    "learner1.set_callbacks([acc1])"
   ]
  },
  {
   "cell_type": "code",
   "execution_count": 21,
   "metadata": {
    "execution": {
     "iopub.execute_input": "2020-08-24T00:28:58.992184Z",
     "iopub.status.busy": "2020-08-24T00:28:58.991389Z",
     "iopub.status.idle": "2020-08-24T00:31:17.372438Z",
     "shell.execute_reply": "2020-08-24T00:31:17.373223Z"
    },
    "papermill": {
     "duration": 138.417817,
     "end_time": "2020-08-24T00:31:17.373375",
     "exception": false,
     "start_time": "2020-08-24T00:28:58.955558",
     "status": "completed"
    },
    "tags": []
   },
   "outputs": [
    {
     "name": "stdout",
     "output_type": "stream",
     "text": [
      "Epoch 0 Loss 0.2469926434377343\n",
      "train accuracy is: 0.6248539475880487, test accuracy is 0.6164314516129032\n"
     ]
    },
    {
     "name": "stdout",
     "output_type": "stream",
     "text": [
      "Epoch 10 Loss 0.10064230984332687\n",
      "train accuracy is: 0.9031046569854783, test accuracy is 0.9102822580645161\n"
     ]
    },
    {
     "name": "stdout",
     "output_type": "stream",
     "text": [
      "Epoch 20 Loss 0.06083320728918742\n",
      "train accuracy is: 0.9353196461358705, test accuracy is 0.9405241935483871\n"
     ]
    },
    {
     "name": "stdout",
     "output_type": "stream",
     "text": [
      "Epoch 30 Loss 0.04686846077935249\n",
      "train accuracy is: 0.9480053413453514, test accuracy is 0.9526209677419355\n"
     ]
    },
    {
     "name": "stdout",
     "output_type": "stream",
     "text": [
      "Epoch 40 Loss 0.04011950341910662\n",
      "train accuracy is: 0.9540143548656318, test accuracy is 0.9621975806451613\n"
     ]
    },
    {
     "name": "stdout",
     "output_type": "stream",
     "text": [
      "Epoch 50 Loss 0.036141850076632245\n",
      "train accuracy is: 0.957436154231347, test accuracy is 0.9642137096774194\n"
     ]
    },
    {
     "name": "stdout",
     "output_type": "stream",
     "text": [
      "Epoch 60 Loss 0.03343801364760297\n",
      "train accuracy is: 0.9602737439492572, test accuracy is 0.9657258064516129\n"
     ]
    },
    {
     "name": "stdout",
     "output_type": "stream",
     "text": [
      "Epoch 70 Loss 0.031441988866893214\n",
      "train accuracy is: 0.9618594558504423, test accuracy is 0.9682459677419355\n"
     ]
    },
    {
     "name": "stdout",
     "output_type": "stream",
     "text": [
      "Epoch 80 Loss 0.02986840554600603\n",
      "train accuracy is: 0.9640293773994325, test accuracy is 0.967741935483871\n"
     ]
    },
    {
     "name": "stdout",
     "output_type": "stream",
     "text": [
      "Epoch 90 Loss 0.02857054788387729\n",
      "train accuracy is: 0.9662827574695376, test accuracy is 0.969758064516129\n"
     ]
    },
    {
     "name": "stdout",
     "output_type": "stream",
     "text": [
      "Epoch 100 Loss 0.02747998132327038\n",
      "train accuracy is: 0.9673677182440327, test accuracy is 0.9707661290322581\n"
     ]
    },
    {
     "name": "stdout",
     "output_type": "stream",
     "text": [
      "Epoch 110 Loss 0.026522367114930664\n",
      "train accuracy is: 0.9683692204974128, test accuracy is 0.9702620967741935\n"
     ]
    },
    {
     "name": "stdout",
     "output_type": "stream",
     "text": [
      "Epoch 120 Loss 0.02567491898074466\n",
      "train accuracy is: 0.9694541812719079, test accuracy is 0.9702620967741935\n"
     ]
    },
    {
     "name": "stdout",
     "output_type": "stream",
     "text": [
      "Epoch 130 Loss 0.024925406045528696\n",
      "train accuracy is: 0.9706226005675179, test accuracy is 0.9707661290322581\n"
     ]
    },
    {
     "name": "stdout",
     "output_type": "stream",
     "text": [
      "Epoch 140 Loss 0.02424206131677778\n",
      "train accuracy is: 0.971874478384243, test accuracy is 0.9707661290322581\n"
     ]
    },
    {
     "name": "stdout",
     "output_type": "stream",
     "text": [
      "Epoch 150 Loss 0.02361177646034152\n",
      "train accuracy is: 0.9726256050742781, test accuracy is 0.9717741935483871\n"
     ]
    },
    {
     "name": "stdout",
     "output_type": "stream",
     "text": [
      "Epoch 160 Loss 0.023025112902002872\n",
      "train accuracy is: 0.9732932732431981, test accuracy is 0.9722782258064516\n"
     ]
    },
    {
     "name": "stdout",
     "output_type": "stream",
     "text": [
      "Epoch 170 Loss 0.022465698670161256\n",
      "train accuracy is: 0.9741278584543482, test accuracy is 0.9727822580645161\n"
     ]
    },
    {
     "name": "stdout",
     "output_type": "stream",
     "text": [
      "Epoch 180 Loss 0.02194811854947601\n",
      "train accuracy is: 0.9747955266232682, test accuracy is 0.9737903225806451\n"
     ]
    },
    {
     "name": "stdout",
     "output_type": "stream",
     "text": [
      "Epoch 190 Loss 0.021457605074832554\n",
      "train accuracy is: 0.9752962777499583, test accuracy is 0.9747983870967742\n"
     ]
    },
    {
     "name": "stdout",
     "output_type": "stream",
     "text": [
      "Epoch 200 Loss 0.02099614750366801\n",
      "train accuracy is: 0.9760474044399933, test accuracy is 0.9747983870967742\n"
     ]
    },
    {
     "name": "stdout",
     "output_type": "stream",
     "text": [
      "Epoch 210 Loss 0.020550441333756542\n",
      "train accuracy is: 0.9766316140877984, test accuracy is 0.9753024193548387\n"
     ]
    },
    {
     "name": "stdout",
     "output_type": "stream",
     "text": [
      "Epoch 220 Loss 0.020128734782690835\n",
      "train accuracy is: 0.9773827407778334, test accuracy is 0.9747983870967742\n"
     ]
    },
    {
     "name": "stdout",
     "output_type": "stream",
     "text": [
      "Epoch 230 Loss 0.01971532871854961\n",
      "train accuracy is: 0.9778834919045235, test accuracy is 0.9747983870967742\n"
     ]
    },
    {
     "name": "stdout",
     "output_type": "stream",
     "text": [
      "Epoch 240 Loss 0.019315334554519677\n",
      "train accuracy is: 0.9785511600734434, test accuracy is 0.9753024193548387\n"
     ]
    },
    {
     "data": {
      "text/plain": [
       "0.007759364197207111"
      ]
     },
     "execution_count": 21,
     "metadata": {},
     "output_type": "execute_result"
    }
   ],
   "source": [
    "learner1.train_loop(dl)"
   ]
  },
  {
   "cell_type": "markdown",
   "metadata": {
    "papermill": {
     "duration": 0.042154,
     "end_time": "2020-08-24T00:31:17.460128",
     "exception": false,
     "start_time": "2020-08-24T00:31:17.417974",
     "status": "completed"
    },
    "tags": []
   },
   "source": [
    "##### Now running only the logistic regression based classification to compare results with NN"
   ]
  },
  {
   "cell_type": "code",
   "execution_count": 22,
   "metadata": {
    "execution": {
     "iopub.execute_input": "2020-08-24T00:31:17.548692Z",
     "iopub.status.busy": "2020-08-24T00:31:17.547983Z",
     "iopub.status.idle": "2020-08-24T00:31:17.562022Z",
     "shell.execute_reply": "2020-08-24T00:31:17.562539Z"
    },
    "papermill": {
     "duration": 0.061689,
     "end_time": "2020-08-24T00:31:17.562722",
     "exception": false,
     "start_time": "2020-08-24T00:31:17.501033",
     "status": "completed"
    },
    "tags": []
   },
   "outputs": [],
   "source": [
    "learner2 = Learner(loss, model_logistic, opt, config.num_epochs)\n",
    "acc2 = ClfCallback(learner2, config.bs, training_xdata , testing_xdata, training_ydata, testing_ydata)\n",
    "learner2.set_callbacks([acc2])"
   ]
  },
  {
   "cell_type": "code",
   "execution_count": 23,
   "metadata": {
    "execution": {
     "iopub.execute_input": "2020-08-24T00:31:17.673718Z",
     "iopub.status.busy": "2020-08-24T00:31:17.668999Z",
     "iopub.status.idle": "2020-08-24T00:31:38.044655Z",
     "shell.execute_reply": "2020-08-24T00:31:38.045458Z"
    },
    "papermill": {
     "duration": 20.437141,
     "end_time": "2020-08-24T00:31:38.045830",
     "exception": false,
     "start_time": "2020-08-24T00:31:17.608689",
     "status": "completed"
    },
    "tags": []
   },
   "outputs": [
    {
     "name": "stdout",
     "output_type": "stream",
     "text": [
      "Epoch 0 Loss 0.22632044442299185\n",
      "train accuracy is: 0.7337673176431314, test accuracy is 0.7580645161290323\n"
     ]
    },
    {
     "name": "stdout",
     "output_type": "stream",
     "text": [
      "Epoch 10 Loss 0.1050071294590722\n",
      "train accuracy is: 0.9053580370555834, test accuracy is 0.9193548387096774\n"
     ]
    },
    {
     "name": "stdout",
     "output_type": "stream",
     "text": [
      "Epoch 20 Loss 0.08054533211471511\n",
      "train accuracy is: 0.9263061258554498, test accuracy is 0.9390120967741935\n"
     ]
    },
    {
     "name": "stdout",
     "output_type": "stream",
     "text": [
      "Epoch 30 Loss 0.06914061004471007\n",
      "train accuracy is: 0.9349858120514104, test accuracy is 0.9490927419354839\n"
     ]
    },
    {
     "name": "stdout",
     "output_type": "stream",
     "text": [
      "Epoch 40 Loss 0.062304163756739896\n",
      "train accuracy is: 0.9406609914872308, test accuracy is 0.953125\n"
     ]
    },
    {
     "name": "stdout",
     "output_type": "stream",
     "text": [
      "Epoch 50 Loss 0.057667140234264704\n",
      "train accuracy is: 0.9444166249374061, test accuracy is 0.9546370967741935\n"
     ]
    },
    {
     "name": "stdout",
     "output_type": "stream",
     "text": [
      "Epoch 60 Loss 0.054275984514626015\n",
      "train accuracy is: 0.9470872976130863, test accuracy is 0.9551411290322581\n"
     ]
    },
    {
     "name": "stdout",
     "output_type": "stream",
     "text": [
      "Epoch 70 Loss 0.05166359403068007\n",
      "train accuracy is: 0.9482557169086964, test accuracy is 0.9556451612903226\n"
     ]
    },
    {
     "name": "stdout",
     "output_type": "stream",
     "text": [
      "Epoch 80 Loss 0.04957529404929287\n",
      "train accuracy is: 0.9500083458521115, test accuracy is 0.9586693548387096\n"
     ]
    },
    {
     "name": "stdout",
     "output_type": "stream",
     "text": [
      "Epoch 90 Loss 0.047856737683497304\n",
      "train accuracy is: 0.9515940577532966, test accuracy is 0.9596774193548387\n"
     ]
    },
    {
     "name": "stdout",
     "output_type": "stream",
     "text": [
      "Epoch 100 Loss 0.04641054050984102\n",
      "train accuracy is: 0.9523451844433317, test accuracy is 0.9596774193548387\n"
     ]
    },
    {
     "name": "stdout",
     "output_type": "stream",
     "text": [
      "Epoch 110 Loss 0.04517333866100116\n",
      "train accuracy is: 0.9534301452178268, test accuracy is 0.9611895161290323\n"
     ]
    },
    {
     "name": "stdout",
     "output_type": "stream",
     "text": [
      "Epoch 120 Loss 0.044096561493691136\n",
      "train accuracy is: 0.9546820230345519, test accuracy is 0.9627016129032258\n"
     ]
    },
    {
     "name": "stdout",
     "output_type": "stream",
     "text": [
      "Epoch 130 Loss 0.04314944548104437\n",
      "train accuracy is: 0.9557669838090469, test accuracy is 0.9627016129032258\n"
     ]
    },
    {
     "name": "stdout",
     "output_type": "stream",
     "text": [
      "Epoch 140 Loss 0.0423064097666797\n",
      "train accuracy is: 0.956518110499082, test accuracy is 0.9632056451612904\n"
     ]
    },
    {
     "name": "stdout",
     "output_type": "stream",
     "text": [
      "Epoch 150 Loss 0.04155132056579446\n",
      "train accuracy is: 0.956851944583542, test accuracy is 0.9642137096774194\n"
     ]
    },
    {
     "name": "stdout",
     "output_type": "stream",
     "text": [
      "Epoch 160 Loss 0.040867847287151975\n",
      "train accuracy is: 0.957436154231347, test accuracy is 0.9647177419354839\n"
     ]
    },
    {
     "name": "stdout",
     "output_type": "stream",
     "text": [
      "Epoch 170 Loss 0.04024597060293629\n",
      "train accuracy is: 0.9579369053580371, test accuracy is 0.9652217741935484\n"
     ]
    },
    {
     "name": "stdout",
     "output_type": "stream",
     "text": [
      "Epoch 180 Loss 0.03967635712095293\n",
      "train accuracy is: 0.958103822400267, test accuracy is 0.9652217741935484\n"
     ]
    },
    {
     "name": "stdout",
     "output_type": "stream",
     "text": [
      "Epoch 190 Loss 0.039152822682203464\n",
      "train accuracy is: 0.9583541979636121, test accuracy is 0.9647177419354839\n"
     ]
    },
    {
     "name": "stdout",
     "output_type": "stream",
     "text": [
      "Epoch 200 Loss 0.03866887429538894\n",
      "train accuracy is: 0.9590218661325322, test accuracy is 0.9647177419354839\n"
     ]
    },
    {
     "name": "stdout",
     "output_type": "stream",
     "text": [
      "Epoch 210 Loss 0.0382189475712678\n",
      "train accuracy is: 0.9594391587381071, test accuracy is 0.9642137096774194\n"
     ]
    },
    {
     "name": "stdout",
     "output_type": "stream",
     "text": [
      "Epoch 220 Loss 0.03780033467228155\n",
      "train accuracy is: 0.9599399098647972, test accuracy is 0.9647177419354839\n"
     ]
    },
    {
     "name": "stdout",
     "output_type": "stream",
     "text": [
      "Epoch 230 Loss 0.03740874530127036\n",
      "train accuracy is: 0.9601902854281422, test accuracy is 0.9657258064516129\n"
     ]
    },
    {
     "name": "stdout",
     "output_type": "stream",
     "text": [
      "Epoch 240 Loss 0.03704136920948331\n",
      "train accuracy is: 0.9605241195126022, test accuracy is 0.9662298387096774\n"
     ]
    },
    {
     "data": {
      "text/plain": [
       "0.01623998401997381"
      ]
     },
     "execution_count": 23,
     "metadata": {},
     "output_type": "execute_result"
    }
   ],
   "source": [
    "learner2.train_loop(dl)"
   ]
  },
  {
   "cell_type": "markdown",
   "metadata": {
    "papermill": {
     "duration": 0.066528,
     "end_time": "2020-08-24T00:31:38.163497",
     "exception": false,
     "start_time": "2020-08-24T00:31:38.096969",
     "status": "completed"
    },
    "tags": []
   },
   "source": [
    "### Comparing results of NN and LR"
   ]
  },
  {
   "cell_type": "code",
   "execution_count": 24,
   "metadata": {
    "execution": {
     "iopub.execute_input": "2020-08-24T00:31:38.274141Z",
     "iopub.status.busy": "2020-08-24T00:31:38.273090Z",
     "iopub.status.idle": "2020-08-24T00:31:38.531909Z",
     "shell.execute_reply": "2020-08-24T00:31:38.531264Z"
    },
    "papermill": {
     "duration": 0.318836,
     "end_time": "2020-08-24T00:31:38.532063",
     "exception": false,
     "start_time": "2020-08-24T00:31:38.213227",
     "status": "completed"
    },
    "tags": []
   },
   "outputs": [
    {
     "data": {
      "text/plain": [
       "<matplotlib.legend.Legend at 0x7f84e7a88828>"
      ]
     },
     "execution_count": 24,
     "metadata": {},
     "output_type": "execute_result"
    },
    {
     "data": {
      "image/png": "[encoded data removed]",
      "text/plain": [
       "<Figure size 576x360 with 1 Axes>"
      ]
     },
     "metadata": {
      "needs_background": "light"
     },
     "output_type": "display_data"
    }
   ],
   "source": [
    "plt.figure(figsize=(8,5))\n",
    "plt.plot(acc1.val_accuracies, 'g-', label = \"Val Accuracies - NN\")\n",
    "plt.plot(acc1.accuracies, 'r-', label = \"Accuracies - NN\")\n",
    "plt.plot(acc2.val_accuracies, 'b-', label = \"Val Accuracies - Logistic Reg\")\n",
    "plt.plot(acc2.accuracies, 'k-', label = \"Accuracies - Logistic Reg\")\n",
    "plt.ylim(0.8,1) ## for a more spread out view\n",
    "plt.legend()"
   ]
  },
  {
   "cell_type": "markdown",
   "metadata": {
    "papermill": {
     "duration": 0.052748,
     "end_time": "2020-08-24T00:31:38.638180",
     "exception": false,
     "start_time": "2020-08-24T00:31:38.585432",
     "status": "completed"
    },
    "tags": []
   },
   "source": [
    "### Clearly NN has a better accuracy over LR; NN is overfitting - Validation accuracy (green) has dropped below training accuracy (orange), also they are diverging. This problem is not seen in LR"
   ]
  },
  {
   "cell_type": "markdown",
   "metadata": {
    "papermill": {
     "duration": 0.050922,
     "end_time": "2020-08-24T00:31:38.741112",
     "exception": false,
     "start_time": "2020-08-24T00:31:38.690190",
     "status": "completed"
    },
    "tags": []
   },
   "source": [
    "##### Now we will be moving through the network, till the output of the second last affine where we get a 2 dimensional output. We will be plotting this 2d output and probability contours"
   ]
  },
  {
   "cell_type": "code",
   "execution_count": 25,
   "metadata": {
    "execution": {
     "iopub.execute_input": "2020-08-24T00:31:38.849543Z",
     "iopub.status.busy": "2020-08-24T00:31:38.848841Z",
     "iopub.status.idle": "2020-08-24T00:31:38.862061Z",
     "shell.execute_reply": "2020-08-24T00:31:38.861419Z"
    },
    "papermill": {
     "duration": 0.068695,
     "end_time": "2020-08-24T00:31:38.862187",
     "exception": false,
     "start_time": "2020-08-24T00:31:38.793492",
     "status": "completed"
    },
    "tags": []
   },
   "outputs": [],
   "source": [
    "model_new = Model(layers[:-2])"
   ]
  },
  {
   "cell_type": "code",
   "execution_count": 26,
   "metadata": {
    "execution": {
     "iopub.execute_input": "2020-08-24T00:31:38.966649Z",
     "iopub.status.busy": "2020-08-24T00:31:38.965938Z",
     "iopub.status.idle": "2020-08-24T00:31:38.992973Z",
     "shell.execute_reply": "2020-08-24T00:31:38.993670Z"
    },
    "papermill": {
     "duration": 0.08181,
     "end_time": "2020-08-24T00:31:38.993839",
     "exception": false,
     "start_time": "2020-08-24T00:31:38.912029",
     "status": "completed"
    },
    "tags": []
   },
   "outputs": [],
   "source": [
    "plot_testing = model_new(testing_xdata)"
   ]
  },
  {
   "cell_type": "markdown",
   "metadata": {
    "papermill": {
     "duration": 0.051469,
     "end_time": "2020-08-24T00:31:39.096377",
     "exception": false,
     "start_time": "2020-08-24T00:31:39.044908",
     "status": "completed"
    },
    "tags": []
   },
   "source": [
    "##### Plotting the scatter plot of points and color coding by class"
   ]
  },
  {
   "cell_type": "code",
   "execution_count": 27,
   "metadata": {
    "execution": {
     "iopub.execute_input": "2020-08-24T00:31:39.224481Z",
     "iopub.status.busy": "2020-08-24T00:31:39.223703Z",
     "iopub.status.idle": "2020-08-24T00:31:39.463536Z",
     "shell.execute_reply": "2020-08-24T00:31:39.464023Z"
    },
    "papermill": {
     "duration": 0.294195,
     "end_time": "2020-08-24T00:31:39.464204",
     "exception": false,
     "start_time": "2020-08-24T00:31:39.170009",
     "status": "completed"
    },
    "tags": []
   },
   "outputs": [
    {
     "data": {
      "image/png": "[encoded data removed]",
      "text/plain": [
       "<Figure size 576x504 with 1 Axes>"
      ]
     },
     "metadata": {
      "needs_background": "light"
     },
     "output_type": "display_data"
    }
   ],
   "source": [
    "plt.figure(figsize=(8,7))\n",
    "plt.scatter(plot_testing[:,0], plot_testing[:,1], alpha = 0.1, c = y_test.ravel());"
   ]
  },
  {
   "cell_type": "markdown",
   "metadata": {
    "papermill": {
     "duration": 0.05211,
     "end_time": "2020-08-24T00:31:39.567883",
     "exception": false,
     "start_time": "2020-08-24T00:31:39.515773",
     "status": "completed"
    },
    "tags": []
   },
   "source": [
    "##### Plotting probability contours"
   ]
  },
  {
   "cell_type": "code",
   "execution_count": 28,
   "metadata": {
    "execution": {
     "iopub.execute_input": "2020-08-24T00:31:39.680781Z",
     "iopub.status.busy": "2020-08-24T00:31:39.679904Z",
     "iopub.status.idle": "2020-08-24T00:31:39.693057Z",
     "shell.execute_reply": "2020-08-24T00:31:39.693608Z"
    },
    "papermill": {
     "duration": 0.074313,
     "end_time": "2020-08-24T00:31:39.693795",
     "exception": false,
     "start_time": "2020-08-24T00:31:39.619482",
     "status": "completed"
    },
    "tags": []
   },
   "outputs": [],
   "source": [
    "model_prob = Model(layers[-2:]) ## picking only last two layers to get probability. That is affine followed by sigmoid"
   ]
  },
  {
   "cell_type": "code",
   "execution_count": 29,
   "metadata": {
    "execution": {
     "iopub.execute_input": "2020-08-24T00:31:39.802046Z",
     "iopub.status.busy": "2020-08-24T00:31:39.801371Z",
     "iopub.status.idle": "2020-08-24T00:31:39.818578Z",
     "shell.execute_reply": "2020-08-24T00:31:39.819083Z"
    },
    "papermill": {
     "duration": 0.073814,
     "end_time": "2020-08-24T00:31:39.819266",
     "exception": false,
     "start_time": "2020-08-24T00:31:39.745452",
     "status": "completed"
    },
    "tags": []
   },
   "outputs": [],
   "source": [
    "xgrid = np.linspace(-4, 1, 100) ## Adjust these values based on above chart, roughly -4 to 1\n",
    "ygrid = np.linspace(-7.5, 7.5, 100) ## Adjust these values based on above chart, roughly -7.5, 7.5\n",
    "xg, yg = np.meshgrid(xgrid, ygrid)\n",
    "# xg and yg are now both 100X100, lets convert them to single arrays \n",
    "\n",
    "xg_interim = np.ravel(xg)\n",
    "yg_interim = np.ravel(yg)\n",
    "\n",
    "## xg_interim, yg_interim are now arrays of len 10000, now we will stack them and then transpose to get desired shape of n rows, 2 columns\n",
    "\n",
    "X_interim = np.vstack((xg_interim, yg_interim)) ## Please note vstack takes in a tuple\n",
    "X = X_interim.T\n",
    "\n",
    "## We want a shape of n rows and 2 columns to be able to feed this to last affine\n",
    "## This last affine takes only two columns, hence the above transformation\n",
    "probability_contour = model_prob(X).reshape(100,100) ## to make it consistent with xg, yg"
   ]
  },
  {
   "cell_type": "code",
   "execution_count": 30,
   "metadata": {
    "execution": {
     "iopub.execute_input": "2020-08-24T00:31:39.930014Z",
     "iopub.status.busy": "2020-08-24T00:31:39.929244Z",
     "iopub.status.idle": "2020-08-24T00:31:40.210439Z",
     "shell.execute_reply": "2020-08-24T00:31:40.209825Z"
    },
    "papermill": {
     "duration": 0.337588,
     "end_time": "2020-08-24T00:31:40.210578",
     "exception": false,
     "start_time": "2020-08-24T00:31:39.872990",
     "status": "completed"
    },
    "tags": []
   },
   "outputs": [
    {
     "data": {
      "image/png": "[encoded data removed]",
      "text/plain": [
       "<Figure size 576x504 with 1 Axes>"
      ]
     },
     "metadata": {
      "needs_background": "light"
     },
     "output_type": "display_data"
    }
   ],
   "source": [
    "plt.figure(figsize=(8,7))\n",
    "plt.scatter(plot_testing[:,0], plot_testing[:,1], alpha = 0.1, c = y_test.ravel())\n",
    "contours = plt.contour(xg,yg,probability_contour)\n",
    "plt.clabel(contours, inline = True );"
   ]
  }
 ],
 "metadata": {
  "kernelspec": {
   "display_name": "Python 3",
   "language": "python",
   "name": "python3"
  },
  "language_info": {
   "codemirror_mode": {
    "name": "ipython",
    "version": 3
   },
   "file_extension": ".py",
   "mimetype": "text/x-python",
   "name": "python",
   "nbconvert_exporter": "python",
   "pygments_lexer": "ipython3",
   "version": "3.6.11"
  },
  "papermill": {
   "duration": 168.666126,
   "end_time": "2020-08-24T00:31:40.575596",
   "environment_variables": {},
   "exception": null,
   "input_path": "2020-08-07-NN-new.ipynb",
   "output_path": "2020-08-07-NN-new.ipynb",
   "parameters": {},
   "start_time": "2020-08-24T00:28:51.909470",
   "version": "2.1.2"
  }
 },
 "nbformat": 4,
 "nbformat_minor": 4
}