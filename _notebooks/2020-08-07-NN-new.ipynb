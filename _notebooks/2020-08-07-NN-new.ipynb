{
 "cells": [
  {
   "cell_type": "markdown",
   "metadata": {
    "papermill": {
     "duration": 0.035397,
     "end_time": "2020-08-17T10:12:11.043095",
     "exception": false,
     "start_time": "2020-08-17T10:12:11.007698",
     "status": "completed"
    },
    "tags": []
   },
   "source": [
    "# \"Building a basic Neural Network from scratch - Kudzu\"\n",
    "\n",
    "- badges: true\n",
    "- author: Anshuman Gupta"
   ]
  },
  {
   "cell_type": "markdown",
   "metadata": {
    "papermill": {
     "duration": 0.027708,
     "end_time": "2020-08-17T10:12:11.100483",
     "exception": false,
     "start_time": "2020-08-17T10:12:11.072775",
     "status": "completed"
    },
    "tags": []
   },
   "source": [
    "#### In this project, the idea is to write a classifier to differentiate between handwritten digits 3 and 8, from the MNIST database.\n",
    "\n",
    "#### I will using a custom built neural network library called Kudzu.This has been developed as a part of KTF/Foundations course of Univ.ai (www.univ.ai). The source code for Kudzu Library and and this notebook can be found on my git-hub profile : www.https://github.com/anshuman6 under the folder project-solution. Any feedback and comments are welcome. Please feel free to email me at: anshuman6@gmail.com\n",
    "\n",
    "#### 1. I will be using the MNIST database. \n",
    "\n",
    "#### 2. I will be comparing the results of the 4 layer NN to a standard logistic regression"
   ]
  },
  {
   "cell_type": "markdown",
   "metadata": {
    "papermill": {
     "duration": 0.028136,
     "end_time": "2020-08-17T10:12:11.156801",
     "exception": false,
     "start_time": "2020-08-17T10:12:11.128665",
     "status": "completed"
    },
    "tags": []
   },
   "source": [
    "##### Importing all the necessary libraries"
   ]
  },
  {
   "cell_type": "code",
   "execution_count": 1,
   "metadata": {
    "execution": {
     "iopub.execute_input": "2020-08-17T10:12:11.227130Z",
     "iopub.status.busy": "2020-08-17T10:12:11.226511Z",
     "iopub.status.idle": "2020-08-17T10:12:11.233782Z",
     "shell.execute_reply": "2020-08-17T10:12:11.233166Z"
    },
    "papermill": {
     "duration": 0.048478,
     "end_time": "2020-08-17T10:12:11.233938",
     "exception": false,
     "start_time": "2020-08-17T10:12:11.185460",
     "status": "completed"
    },
    "tags": []
   },
   "outputs": [],
   "source": [
    "%load_ext autoreload\n",
    "%autoreload 2"
   ]
  },
  {
   "cell_type": "code",
   "execution_count": 2,
   "metadata": {
    "execution": {
     "iopub.execute_input": "2020-08-17T10:12:11.298119Z",
     "iopub.status.busy": "2020-08-17T10:12:11.297346Z",
     "iopub.status.idle": "2020-08-17T10:12:11.915578Z",
     "shell.execute_reply": "2020-08-17T10:12:11.916491Z"
    },
    "papermill": {
     "duration": 0.653676,
     "end_time": "2020-08-17T10:12:11.916668",
     "exception": false,
     "start_time": "2020-08-17T10:12:11.262992",
     "status": "completed"
    },
    "tags": []
   },
   "outputs": [],
   "source": [
    "%matplotlib inline\n",
    "import numpy as np\n",
    "import matplotlib.pyplot as plt\n",
    "import pandas as pd"
   ]
  },
  {
   "cell_type": "markdown",
   "metadata": {
    "papermill": {
     "duration": 0.032594,
     "end_time": "2020-08-17T10:12:11.978713",
     "exception": false,
     "start_time": "2020-08-17T10:12:11.946119",
     "status": "completed"
    },
    "tags": []
   },
   "source": [
    "##### The following command helps us download MNIST from notebook itself. You can skip this if you already have MNIST. You can also download it via your terminal."
   ]
  },
  {
   "cell_type": "code",
   "execution_count": 3,
   "metadata": {
    "execution": {
     "iopub.execute_input": "2020-08-17T10:12:12.048496Z",
     "iopub.status.busy": "2020-08-17T10:12:12.043488Z",
     "iopub.status.idle": "2020-08-17T10:12:13.613588Z",
     "shell.execute_reply": "2020-08-17T10:12:13.612304Z"
    },
    "papermill": {
     "duration": 1.602584,
     "end_time": "2020-08-17T10:12:13.613745",
     "exception": false,
     "start_time": "2020-08-17T10:12:12.011161",
     "status": "completed"
    },
    "tags": []
   },
   "outputs": [
    {
     "name": "stdout",
     "output_type": "stream",
     "text": [
      "Collecting mnist\r\n"
     ]
    },
    {
     "name": "stdout",
     "output_type": "stream",
     "text": [
      "  Downloading mnist-0.2.2-py2.py3-none-any.whl (3.5 kB)\r\n"
     ]
    },
    {
     "name": "stdout",
     "output_type": "stream",
     "text": [
      "Requirement already satisfied: numpy in /opt/hostedtoolcache/Python/3.6.11/x64/lib/python3.6/site-packages (from mnist) (1.19.1)\r\n"
     ]
    },
    {
     "name": "stdout",
     "output_type": "stream",
     "text": [
      "Installing collected packages: mnist\r\n"
     ]
    },
    {
     "name": "stdout",
     "output_type": "stream",
     "text": [
      "Successfully installed mnist-0.2.2\r\n"
     ]
    },
    {
     "name": "stdout",
     "output_type": "stream",
     "text": [
      "\u001b[33mWARNING: You are using pip version 20.2.1; however, version 20.2.2 is available.\r\n",
      "You should consider upgrading via the '/opt/hostedtoolcache/Python/3.6.11/x64/bin/python -m pip install --upgrade pip' command.\u001b[0m\r\n"
     ]
    }
   ],
   "source": [
    "!pip install mnist # Please note, it is commented out for now, you can remove comment if you want to install it"
   ]
  },
  {
   "cell_type": "markdown",
   "metadata": {
    "papermill": {
     "duration": 0.030381,
     "end_time": "2020-08-17T10:12:13.673853",
     "exception": false,
     "start_time": "2020-08-17T10:12:13.643472",
     "status": "completed"
    },
    "tags": []
   },
   "source": [
    "#### Preparing the Data"
   ]
  },
  {
   "cell_type": "code",
   "execution_count": 4,
   "metadata": {
    "execution": {
     "iopub.execute_input": "2020-08-17T10:12:13.744649Z",
     "iopub.status.busy": "2020-08-17T10:12:13.738779Z",
     "iopub.status.idle": "2020-08-17T10:12:13.755442Z",
     "shell.execute_reply": "2020-08-17T10:12:13.756002Z"
    },
    "papermill": {
     "duration": 0.051576,
     "end_time": "2020-08-17T10:12:13.756163",
     "exception": false,
     "start_time": "2020-08-17T10:12:13.704587",
     "status": "completed"
    },
    "tags": []
   },
   "outputs": [],
   "source": [
    "import mnist"
   ]
  },
  {
   "cell_type": "code",
   "execution_count": 5,
   "metadata": {
    "execution": {
     "iopub.execute_input": "2020-08-17T10:12:13.822225Z",
     "iopub.status.busy": "2020-08-17T10:12:13.821531Z",
     "iopub.status.idle": "2020-08-17T10:12:14.818378Z",
     "shell.execute_reply": "2020-08-17T10:12:14.817843Z"
    },
    "papermill": {
     "duration": 1.03212,
     "end_time": "2020-08-17T10:12:14.818522",
     "exception": false,
     "start_time": "2020-08-17T10:12:13.786402",
     "status": "completed"
    },
    "tags": []
   },
   "outputs": [],
   "source": [
    "train_images = mnist.train_images()\n",
    "train_labels = mnist.train_labels()"
   ]
  },
  {
   "cell_type": "code",
   "execution_count": 6,
   "metadata": {
    "execution": {
     "iopub.execute_input": "2020-08-17T10:12:14.883731Z",
     "iopub.status.busy": "2020-08-17T10:12:14.883110Z",
     "iopub.status.idle": "2020-08-17T10:12:14.899417Z",
     "shell.execute_reply": "2020-08-17T10:12:14.900587Z"
    },
    "papermill": {
     "duration": 0.051592,
     "end_time": "2020-08-17T10:12:14.900858",
     "exception": false,
     "start_time": "2020-08-17T10:12:14.849266",
     "status": "completed"
    },
    "tags": []
   },
   "outputs": [
    {
     "data": {
      "text/plain": [
       "((60000, 28, 28), (60000,))"
      ]
     },
     "execution_count": 6,
     "metadata": {},
     "output_type": "execute_result"
    }
   ],
   "source": [
    "train_images.shape, train_labels.shape"
   ]
  },
  {
   "cell_type": "code",
   "execution_count": 7,
   "metadata": {
    "execution": {
     "iopub.execute_input": "2020-08-17T10:12:14.972490Z",
     "iopub.status.busy": "2020-08-17T10:12:14.971873Z",
     "iopub.status.idle": "2020-08-17T10:12:15.420257Z",
     "shell.execute_reply": "2020-08-17T10:12:15.419018Z"
    },
    "papermill": {
     "duration": 0.483397,
     "end_time": "2020-08-17T10:12:15.420458",
     "exception": false,
     "start_time": "2020-08-17T10:12:14.937061",
     "status": "completed"
    },
    "tags": []
   },
   "outputs": [],
   "source": [
    "test_images = mnist.test_images()\n",
    "test_labels = mnist.test_labels()"
   ]
  },
  {
   "cell_type": "code",
   "execution_count": 8,
   "metadata": {
    "execution": {
     "iopub.execute_input": "2020-08-17T10:12:15.487276Z",
     "iopub.status.busy": "2020-08-17T10:12:15.486669Z",
     "iopub.status.idle": "2020-08-17T10:12:15.503796Z",
     "shell.execute_reply": "2020-08-17T10:12:15.503250Z"
    },
    "papermill": {
     "duration": 0.051195,
     "end_time": "2020-08-17T10:12:15.503935",
     "exception": false,
     "start_time": "2020-08-17T10:12:15.452740",
     "status": "completed"
    },
    "tags": []
   },
   "outputs": [
    {
     "data": {
      "text/plain": [
       "((10000, 28, 28), (10000,))"
      ]
     },
     "execution_count": 8,
     "metadata": {},
     "output_type": "execute_result"
    }
   ],
   "source": [
    "test_images.shape, test_labels.shape"
   ]
  },
  {
   "cell_type": "code",
   "execution_count": 9,
   "metadata": {
    "execution": {
     "iopub.execute_input": "2020-08-17T10:12:15.568277Z",
     "iopub.status.busy": "2020-08-17T10:12:15.567663Z",
     "iopub.status.idle": "2020-08-17T10:12:15.723201Z",
     "shell.execute_reply": "2020-08-17T10:12:15.724070Z"
    },
    "papermill": {
     "duration": 0.190235,
     "end_time": "2020-08-17T10:12:15.724320",
     "exception": false,
     "start_time": "2020-08-17T10:12:15.534085",
     "status": "completed"
    },
    "tags": []
   },
   "outputs": [
    {
     "name": "stdout",
     "output_type": "stream",
     "text": [
      "2\n"
     ]
    },
    {
     "data": {
      "text/plain": [
       "<matplotlib.image.AxesImage at 0x7f6dbd65d2b0>"
      ]
     },
     "execution_count": 9,
     "metadata": {},
     "output_type": "execute_result"
    },
    {
     "data": {
      "image/png": "[encoded data removed]",
      "text/plain": [
       "<Figure size 432x288 with 1 Axes>"
      ]
     },
     "metadata": {
      "needs_background": "light"
     },
     "output_type": "display_data"
    }
   ],
   "source": [
    "image_index = 7776 # You may select anything up to 60,000\n",
    "print(train_labels[image_index]) \n",
    "plt.imshow(train_images[image_index], cmap='Greys')"
   ]
  },
  {
   "cell_type": "markdown",
   "metadata": {
    "papermill": {
     "duration": 0.036131,
     "end_time": "2020-08-17T10:12:15.793022",
     "exception": false,
     "start_time": "2020-08-17T10:12:15.756891",
     "status": "completed"
    },
    "tags": []
   },
   "source": [
    "## Filter data to get 3 and 8 out"
   ]
  },
  {
   "cell_type": "code",
   "execution_count": 10,
   "metadata": {
    "execution": {
     "iopub.execute_input": "2020-08-17T10:12:15.861180Z",
     "iopub.status.busy": "2020-08-17T10:12:15.860562Z",
     "iopub.status.idle": "2020-08-17T10:12:15.882378Z",
     "shell.execute_reply": "2020-08-17T10:12:15.881801Z"
    },
    "papermill": {
     "duration": 0.057851,
     "end_time": "2020-08-17T10:12:15.882521",
     "exception": false,
     "start_time": "2020-08-17T10:12:15.824670",
     "status": "completed"
    },
    "tags": []
   },
   "outputs": [],
   "source": [
    "train_filter = np.where((train_labels == 3 ) | (train_labels == 8))\n",
    "test_filter = np.where((test_labels == 3) | (test_labels == 8))\n",
    "X_train, y_train = train_images[train_filter], train_labels[train_filter]\n",
    "X_test, y_test = test_images[test_filter], test_labels[test_filter]"
   ]
  },
  {
   "cell_type": "markdown",
   "metadata": {
    "papermill": {
     "duration": 0.033729,
     "end_time": "2020-08-17T10:12:15.948098",
     "exception": false,
     "start_time": "2020-08-17T10:12:15.914369",
     "status": "completed"
    },
    "tags": []
   },
   "source": [
    "##### We normalize the pizel values in the 0 to 1 range"
   ]
  },
  {
   "cell_type": "code",
   "execution_count": 11,
   "metadata": {
    "execution": {
     "iopub.execute_input": "2020-08-17T10:12:16.016967Z",
     "iopub.status.busy": "2020-08-17T10:12:16.016362Z",
     "iopub.status.idle": "2020-08-17T10:12:16.073166Z",
     "shell.execute_reply": "2020-08-17T10:12:16.072551Z"
    },
    "papermill": {
     "duration": 0.093013,
     "end_time": "2020-08-17T10:12:16.073308",
     "exception": false,
     "start_time": "2020-08-17T10:12:15.980295",
     "status": "completed"
    },
    "tags": []
   },
   "outputs": [],
   "source": [
    "X_train = X_train/255.\n",
    "X_test = X_test/255."
   ]
  },
  {
   "cell_type": "markdown",
   "metadata": {
    "papermill": {
     "duration": 0.031684,
     "end_time": "2020-08-17T10:12:16.137867",
     "exception": false,
     "start_time": "2020-08-17T10:12:16.106183",
     "status": "completed"
    },
    "tags": []
   },
   "source": [
    "And setup the labels as 1 (when the digit is 3) and 0 (when the digit is 8)"
   ]
  },
  {
   "cell_type": "code",
   "execution_count": 12,
   "metadata": {
    "execution": {
     "iopub.execute_input": "2020-08-17T10:12:16.205375Z",
     "iopub.status.busy": "2020-08-17T10:12:16.204782Z",
     "iopub.status.idle": "2020-08-17T10:12:16.219719Z",
     "shell.execute_reply": "2020-08-17T10:12:16.218742Z"
    },
    "papermill": {
     "duration": 0.050731,
     "end_time": "2020-08-17T10:12:16.219943",
     "exception": false,
     "start_time": "2020-08-17T10:12:16.169212",
     "status": "completed"
    },
    "tags": []
   },
   "outputs": [],
   "source": [
    "y_train = 1*(y_train==3)\n",
    "y_test = 1*(y_test==3)"
   ]
  },
  {
   "cell_type": "code",
   "execution_count": 13,
   "metadata": {
    "execution": {
     "iopub.execute_input": "2020-08-17T10:12:16.293100Z",
     "iopub.status.busy": "2020-08-17T10:12:16.292496Z",
     "iopub.status.idle": "2020-08-17T10:12:16.307882Z",
     "shell.execute_reply": "2020-08-17T10:12:16.308421Z"
    },
    "papermill": {
     "duration": 0.05411,
     "end_time": "2020-08-17T10:12:16.308578",
     "exception": false,
     "start_time": "2020-08-17T10:12:16.254468",
     "status": "completed"
    },
    "tags": []
   },
   "outputs": [
    {
     "data": {
      "text/plain": [
       "((11982, 28, 28), (1984, 28, 28))"
      ]
     },
     "execution_count": 13,
     "metadata": {},
     "output_type": "execute_result"
    }
   ],
   "source": [
    "X_train.shape, X_test.shape"
   ]
  },
  {
   "cell_type": "markdown",
   "metadata": {
    "papermill": {
     "duration": 0.032114,
     "end_time": "2020-08-17T10:12:16.373607",
     "exception": false,
     "start_time": "2020-08-17T10:12:16.341493",
     "status": "completed"
    },
    "tags": []
   },
   "source": [
    "##### We reshape the data to flatten the image pixels into a set of features or co-variates:"
   ]
  },
  {
   "cell_type": "code",
   "execution_count": 14,
   "metadata": {
    "execution": {
     "iopub.execute_input": "2020-08-17T10:12:16.448461Z",
     "iopub.status.busy": "2020-08-17T10:12:16.443850Z",
     "iopub.status.idle": "2020-08-17T10:12:16.460576Z",
     "shell.execute_reply": "2020-08-17T10:12:16.460071Z"
    },
    "papermill": {
     "duration": 0.055269,
     "end_time": "2020-08-17T10:12:16.460718",
     "exception": false,
     "start_time": "2020-08-17T10:12:16.405449",
     "status": "completed"
    },
    "tags": []
   },
   "outputs": [
    {
     "data": {
      "text/plain": [
       "((11982, 784), (1984, 784))"
      ]
     },
     "execution_count": 14,
     "metadata": {},
     "output_type": "execute_result"
    }
   ],
   "source": [
    "X_train = X_train.reshape(X_train.shape[0], -1)\n",
    "X_test = X_test.reshape(X_test.shape[0], -1)\n",
    "X_train.shape, X_test.shape"
   ]
  },
  {
   "cell_type": "markdown",
   "metadata": {
    "papermill": {
     "duration": 0.031829,
     "end_time": "2020-08-17T10:12:16.526273",
     "exception": false,
     "start_time": "2020-08-17T10:12:16.494444",
     "status": "completed"
    },
    "tags": []
   },
   "source": [
    "##### Importing Kudzu library and its functionality"
   ]
  },
  {
   "cell_type": "code",
   "execution_count": 15,
   "metadata": {
    "execution": {
     "iopub.execute_input": "2020-08-17T10:12:16.596815Z",
     "iopub.status.busy": "2020-08-17T10:12:16.596212Z",
     "iopub.status.idle": "2020-08-17T10:12:16.619629Z",
     "shell.execute_reply": "2020-08-17T10:12:16.619095Z"
    },
    "papermill": {
     "duration": 0.06032,
     "end_time": "2020-08-17T10:12:16.619771",
     "exception": false,
     "start_time": "2020-08-17T10:12:16.559451",
     "status": "completed"
    },
    "tags": []
   },
   "outputs": [],
   "source": [
    "from kudzu.data import Data, Dataloader, Sampler\n",
    "from kudzu.callbacks import AccCallback\n",
    "from kudzu.loss import MSE\n",
    "from kudzu.layer import Affine, Sigmoid\n",
    "from kudzu.model import Model\n",
    "from kudzu.optim import GD\n",
    "from kudzu.train import Learner\n",
    "from kudzu.callbacks import ClfCallback\n",
    "from kudzu.layer import Sigmoid\n",
    "from kudzu.layer import Relu"
   ]
  },
  {
   "cell_type": "markdown",
   "metadata": {
    "papermill": {
     "duration": 0.031954,
     "end_time": "2020-08-17T10:12:16.684326",
     "exception": false,
     "start_time": "2020-08-17T10:12:16.652372",
     "status": "completed"
    },
    "tags": []
   },
   "source": [
    "##### We are creating a class, just so that we can use it to store our parameters for us"
   ]
  },
  {
   "cell_type": "code",
   "execution_count": 16,
   "metadata": {
    "execution": {
     "iopub.execute_input": "2020-08-17T10:12:16.755640Z",
     "iopub.status.busy": "2020-08-17T10:12:16.755024Z",
     "iopub.status.idle": "2020-08-17T10:12:16.770690Z",
     "shell.execute_reply": "2020-08-17T10:12:16.770201Z"
    },
    "papermill": {
     "duration": 0.053661,
     "end_time": "2020-08-17T10:12:16.770829",
     "exception": false,
     "start_time": "2020-08-17T10:12:16.717168",
     "status": "completed"
    },
    "tags": []
   },
   "outputs": [],
   "source": [
    "class Config:\n",
    "    pass\n",
    "config = Config()\n",
    "config.lr = 0.001\n",
    "config.num_epochs = 250\n",
    "config.bs = 50"
   ]
  },
  {
   "cell_type": "markdown",
   "metadata": {
    "papermill": {
     "duration": 0.032282,
     "end_time": "2020-08-17T10:12:16.836375",
     "exception": false,
     "start_time": "2020-08-17T10:12:16.804093",
     "status": "completed"
    },
    "tags": []
   },
   "source": [
    "##### Initializing Data"
   ]
  },
  {
   "cell_type": "code",
   "execution_count": 17,
   "metadata": {
    "execution": {
     "iopub.execute_input": "2020-08-17T10:12:16.905593Z",
     "iopub.status.busy": "2020-08-17T10:12:16.904986Z",
     "iopub.status.idle": "2020-08-17T10:12:16.920003Z",
     "shell.execute_reply": "2020-08-17T10:12:16.919493Z"
    },
    "papermill": {
     "duration": 0.0513,
     "end_time": "2020-08-17T10:12:16.920140",
     "exception": false,
     "start_time": "2020-08-17T10:12:16.868840",
     "status": "completed"
    },
    "tags": []
   },
   "outputs": [],
   "source": [
    "data = Data(X_train, y_train.reshape(-1,1))\n",
    "loss = MSE()\n",
    "opt = GD(config.lr)\n",
    "sampler = Sampler(data, config.bs, shuffle=True)\n",
    "dl = Dataloader(data, sampler)"
   ]
  },
  {
   "cell_type": "markdown",
   "metadata": {
    "papermill": {
     "duration": 0.032293,
     "end_time": "2020-08-17T10:12:16.987038",
     "exception": false,
     "start_time": "2020-08-17T10:12:16.954745",
     "status": "completed"
    },
    "tags": []
   },
   "source": [
    "##### Constructing 2 different layers, one for NN and one only for logistic regression."
   ]
  },
  {
   "cell_type": "markdown",
   "metadata": {
    "papermill": {
     "duration": 0.032339,
     "end_time": "2020-08-17T10:12:17.053544",
     "exception": false,
     "start_time": "2020-08-17T10:12:17.021205",
     "status": "completed"
    },
    "tags": []
   },
   "source": [
    "##### Creating containers for data to be passed, to calculate accuracies"
   ]
  },
  {
   "cell_type": "code",
   "execution_count": 18,
   "metadata": {
    "execution": {
     "iopub.execute_input": "2020-08-17T10:12:17.123362Z",
     "iopub.status.busy": "2020-08-17T10:12:17.122754Z",
     "iopub.status.idle": "2020-08-17T10:12:17.137501Z",
     "shell.execute_reply": "2020-08-17T10:12:17.136981Z"
    },
    "papermill": {
     "duration": 0.051611,
     "end_time": "2020-08-17T10:12:17.137635",
     "exception": false,
     "start_time": "2020-08-17T10:12:17.086024",
     "status": "completed"
    },
    "tags": []
   },
   "outputs": [],
   "source": [
    "training_xdata = X_train\n",
    "testing_xdata = X_test\n",
    "training_ydata = y_train.reshape(-1,1)\n",
    "testing_ydata = y_test.reshape(-1,1)"
   ]
  },
  {
   "cell_type": "markdown",
   "metadata": {
    "papermill": {
     "duration": 0.032326,
     "end_time": "2020-08-17T10:12:17.203721",
     "exception": false,
     "start_time": "2020-08-17T10:12:17.171395",
     "status": "completed"
    },
    "tags": []
   },
   "source": [
    "##### Initializing models and Running training loop: "
   ]
  },
  {
   "cell_type": "code",
   "execution_count": 19,
   "metadata": {
    "execution": {
     "iopub.execute_input": "2020-08-17T10:12:17.273635Z",
     "iopub.status.busy": "2020-08-17T10:12:17.273026Z",
     "iopub.status.idle": "2020-08-17T10:12:17.293545Z",
     "shell.execute_reply": "2020-08-17T10:12:17.292902Z"
    },
    "papermill": {
     "duration": 0.058288,
     "end_time": "2020-08-17T10:12:17.293701",
     "exception": false,
     "start_time": "2020-08-17T10:12:17.235413",
     "status": "completed"
    },
    "tags": []
   },
   "outputs": [],
   "source": [
    "layers = [Affine(\"first\", 784, 100), Relu(\"first\"), Affine(\"second\", 100, 100), Relu(\"second\"), Affine(\"third\", 100, 2), Affine(\"final\", 2, 1), Sigmoid(\"final\")]\n",
    "\n",
    "model_neural = Model(layers)\n",
    "model_logistic = Model([Affine(\"logits\", 784, 1), Sigmoid(\"sigmoid\")])"
   ]
  },
  {
   "cell_type": "code",
   "execution_count": 20,
   "metadata": {
    "execution": {
     "iopub.execute_input": "2020-08-17T10:12:17.363818Z",
     "iopub.status.busy": "2020-08-17T10:12:17.363097Z",
     "iopub.status.idle": "2020-08-17T10:12:17.376761Z",
     "shell.execute_reply": "2020-08-17T10:12:17.376272Z"
    },
    "papermill": {
     "duration": 0.049536,
     "end_time": "2020-08-17T10:12:17.376896",
     "exception": false,
     "start_time": "2020-08-17T10:12:17.327360",
     "status": "completed"
    },
    "tags": []
   },
   "outputs": [],
   "source": [
    "learner1 = Learner(loss, model_neural, opt, config.num_epochs)\n",
    "acc1 = ClfCallback(learner1, config.bs, training_xdata , testing_xdata, training_ydata, testing_ydata)\n",
    "learner1.set_callbacks([acc1])"
   ]
  },
  {
   "cell_type": "code",
   "execution_count": 21,
   "metadata": {
    "execution": {
     "iopub.execute_input": "2020-08-17T10:12:17.445355Z",
     "iopub.status.busy": "2020-08-17T10:12:17.444688Z",
     "iopub.status.idle": "2020-08-17T10:13:47.485138Z",
     "shell.execute_reply": "2020-08-17T10:13:47.484636Z"
    },
    "papermill": {
     "duration": 90.076465,
     "end_time": "2020-08-17T10:13:47.485281",
     "exception": false,
     "start_time": "2020-08-17T10:12:17.408816",
     "status": "completed"
    },
    "tags": []
   },
   "outputs": [
    {
     "name": "stdout",
     "output_type": "stream",
     "text": [
      "Epoch 0 Loss 0.2409709169287883\n",
      "train accuracy is: 0.6944583541979636, test accuracy is 0.7056451612903226\n"
     ]
    },
    {
     "name": "stdout",
     "output_type": "stream",
     "text": [
      "Epoch 10 Loss 0.14064816681090583\n",
      "train accuracy is: 0.884994157903522, test accuracy is 0.891633064516129\n"
     ]
    },
    {
     "name": "stdout",
     "output_type": "stream",
     "text": [
      "Epoch 20 Loss 0.07500499972887124\n",
      "train accuracy is: 0.9223835753630446, test accuracy is 0.936491935483871\n"
     ]
    },
    {
     "name": "stdout",
     "output_type": "stream",
     "text": [
      "Epoch 30 Loss 0.05352328163944946\n",
      "train accuracy is: 0.943748956768486, test accuracy is 0.953125\n"
     ]
    },
    {
     "name": "stdout",
     "output_type": "stream",
     "text": [
      "Epoch 40 Loss 0.04389732617439917\n",
      "train accuracy is: 0.9514271407110666, test accuracy is 0.9606854838709677\n"
     ]
    },
    {
     "name": "stdout",
     "output_type": "stream",
     "text": [
      "Epoch 50 Loss 0.038616380102780894\n",
      "train accuracy is: 0.956518110499082, test accuracy is 0.9657258064516129\n"
     ]
    },
    {
     "name": "stdout",
     "output_type": "stream",
     "text": [
      "Epoch 60 Loss 0.03526385452652444\n",
      "train accuracy is: 0.9592722416958771, test accuracy is 0.9667338709677419\n"
     ]
    },
    {
     "name": "stdout",
     "output_type": "stream",
     "text": [
      "Epoch 70 Loss 0.03288644800457208\n",
      "train accuracy is: 0.9617759973293273, test accuracy is 0.9682459677419355\n"
     ]
    },
    {
     "name": "stdout",
     "output_type": "stream",
     "text": [
      "Epoch 80 Loss 0.03107811929249101\n",
      "train accuracy is: 0.9641128359205475, test accuracy is 0.969758064516129\n"
     ]
    },
    {
     "name": "stdout",
     "output_type": "stream",
     "text": [
      "Epoch 90 Loss 0.029642006723507284\n",
      "train accuracy is: 0.9657820063428476, test accuracy is 0.9707661290322581\n"
     ]
    },
    {
     "name": "stdout",
     "output_type": "stream",
     "text": [
      "Epoch 100 Loss 0.028447591196006802\n",
      "train accuracy is: 0.9673677182440327, test accuracy is 0.9707661290322581\n"
     ]
    },
    {
     "name": "stdout",
     "output_type": "stream",
     "text": [
      "Epoch 110 Loss 0.027438586236624884\n",
      "train accuracy is: 0.9686195960607578, test accuracy is 0.9707661290322581\n"
     ]
    },
    {
     "name": "stdout",
     "output_type": "stream",
     "text": [
      "Epoch 120 Loss 0.02656207273203902\n",
      "train accuracy is: 0.9690368886663329, test accuracy is 0.9722782258064516\n"
     ]
    },
    {
     "name": "stdout",
     "output_type": "stream",
     "text": [
      "Epoch 130 Loss 0.025785302677902147\n",
      "train accuracy is: 0.9697045568352529, test accuracy is 0.9722782258064516\n"
     ]
    },
    {
     "name": "stdout",
     "output_type": "stream",
     "text": [
      "Epoch 140 Loss 0.025079958131553674\n",
      "train accuracy is: 0.9705391420464029, test accuracy is 0.9727822580645161\n"
     ]
    },
    {
     "name": "stdout",
     "output_type": "stream",
     "text": [
      "Epoch 150 Loss 0.024440757562390183\n",
      "train accuracy is: 0.9711233516942079, test accuracy is 0.9727822580645161\n"
     ]
    },
    {
     "name": "stdout",
     "output_type": "stream",
     "text": [
      "Epoch 160 Loss 0.023854978560570624\n",
      "train accuracy is: 0.971874478384243, test accuracy is 0.9742943548387096\n"
     ]
    },
    {
     "name": "stdout",
     "output_type": "stream",
     "text": [
      "Epoch 170 Loss 0.023310004636191137\n",
      "train accuracy is: 0.972375229510933, test accuracy is 0.9747983870967742\n"
     ]
    },
    {
     "name": "stdout",
     "output_type": "stream",
     "text": [
      "Epoch 180 Loss 0.022794012305648533\n",
      "train accuracy is: 0.9736271073276581, test accuracy is 0.9742943548387096\n"
     ]
    },
    {
     "name": "stdout",
     "output_type": "stream",
     "text": [
      "Epoch 190 Loss 0.022328437086955505\n",
      "train accuracy is: 0.9744616925388082, test accuracy is 0.9747983870967742\n"
     ]
    },
    {
     "name": "stdout",
     "output_type": "stream",
     "text": [
      "Epoch 200 Loss 0.02188137383242755\n",
      "train accuracy is: 0.9749624436654982, test accuracy is 0.9747983870967742\n"
     ]
    },
    {
     "name": "stdout",
     "output_type": "stream",
     "text": [
      "Epoch 210 Loss 0.02145765225848675\n",
      "train accuracy is: 0.9752962777499583, test accuracy is 0.9758064516129032\n"
     ]
    },
    {
     "name": "stdout",
     "output_type": "stream",
     "text": [
      "Epoch 220 Loss 0.021055766485727906\n",
      "train accuracy is: 0.9761308629611083, test accuracy is 0.9758064516129032\n"
     ]
    },
    {
     "name": "stdout",
     "output_type": "stream",
     "text": [
      "Epoch 230 Loss 0.020664280614861044\n",
      "train accuracy is: 0.9763812385244534, test accuracy is 0.9758064516129032\n"
     ]
    },
    {
     "name": "stdout",
     "output_type": "stream",
     "text": [
      "Epoch 240 Loss 0.020291353444054108\n",
      "train accuracy is: 0.9770489066933734, test accuracy is 0.9763104838709677\n"
     ]
    },
    {
     "data": {
      "text/plain": [
       "0.0199238184105908"
      ]
     },
     "execution_count": 21,
     "metadata": {},
     "output_type": "execute_result"
    }
   ],
   "source": [
    "learner1.train_loop(dl)"
   ]
  },
  {
   "cell_type": "markdown",
   "metadata": {
    "papermill": {
     "duration": 0.040149,
     "end_time": "2020-08-17T10:13:47.566410",
     "exception": false,
     "start_time": "2020-08-17T10:13:47.526261",
     "status": "completed"
    },
    "tags": []
   },
   "source": [
    "##### Now running only the logistic regression based classification to compare results with NN"
   ]
  },
  {
   "cell_type": "code",
   "execution_count": 22,
   "metadata": {
    "execution": {
     "iopub.execute_input": "2020-08-17T10:13:47.651870Z",
     "iopub.status.busy": "2020-08-17T10:13:47.651218Z",
     "iopub.status.idle": "2020-08-17T10:13:47.666296Z",
     "shell.execute_reply": "2020-08-17T10:13:47.665795Z"
    },
    "papermill": {
     "duration": 0.060369,
     "end_time": "2020-08-17T10:13:47.666436",
     "exception": false,
     "start_time": "2020-08-17T10:13:47.606067",
     "status": "completed"
    },
    "tags": []
   },
   "outputs": [],
   "source": [
    "learner2 = Learner(loss, model_logistic, opt, config.num_epochs)\n",
    "acc2 = ClfCallback(learner2, config.bs, training_xdata , testing_xdata, training_ydata, testing_ydata)\n",
    "learner2.set_callbacks([acc2])"
   ]
  },
  {
   "cell_type": "code",
   "execution_count": 23,
   "metadata": {
    "execution": {
     "iopub.execute_input": "2020-08-17T10:13:47.751842Z",
     "iopub.status.busy": "2020-08-17T10:13:47.751214Z",
     "iopub.status.idle": "2020-08-17T10:14:04.234773Z",
     "shell.execute_reply": "2020-08-17T10:14:04.235543Z"
    },
    "papermill": {
     "duration": 16.528627,
     "end_time": "2020-08-17T10:14:04.235726",
     "exception": false,
     "start_time": "2020-08-17T10:13:47.707099",
     "status": "completed"
    },
    "tags": []
   },
   "outputs": [
    {
     "name": "stdout",
     "output_type": "stream",
     "text": [
      "Epoch 0 Loss 0.255351341035295\n",
      "train accuracy is: 0.6271907861792689, test accuracy is 0.623991935483871\n"
     ]
    },
    {
     "name": "stdout",
     "output_type": "stream",
     "text": [
      "Epoch 10 Loss 0.10905543879627584\n",
      "train accuracy is: 0.8965114338173927, test accuracy is 0.9087701612903226\n"
     ]
    },
    {
     "name": "stdout",
     "output_type": "stream",
     "text": [
      "Epoch 20 Loss 0.08312497617885638\n",
      "train accuracy is: 0.9201301952929394, test accuracy is 0.9339717741935484\n"
     ]
    },
    {
     "name": "stdout",
     "output_type": "stream",
     "text": [
      "Epoch 30 Loss 0.07120716179154873\n",
      "train accuracy is: 0.9313970956434652, test accuracy is 0.9470766129032258\n"
     ]
    },
    {
     "name": "stdout",
     "output_type": "stream",
     "text": [
      "Epoch 40 Loss 0.06405791288490613\n",
      "train accuracy is: 0.9379068602904357, test accuracy is 0.9485887096774194\n"
     ]
    },
    {
     "name": "stdout",
     "output_type": "stream",
     "text": [
      "Epoch 50 Loss 0.05919165908255267\n",
      "train accuracy is: 0.9412452011350358, test accuracy is 0.952116935483871\n"
     ]
    },
    {
     "name": "stdout",
     "output_type": "stream",
     "text": [
      "Epoch 60 Loss 0.05562120151799444\n",
      "train accuracy is: 0.9434985812051411, test accuracy is 0.9561491935483871\n"
     ]
    },
    {
     "name": "stdout",
     "output_type": "stream",
     "text": [
      "Epoch 70 Loss 0.052863598046289\n",
      "train accuracy is: 0.9454181271907862, test accuracy is 0.9571572580645161\n"
     ]
    },
    {
     "name": "stdout",
     "output_type": "stream",
     "text": [
      "Epoch 80 Loss 0.05065507786354181\n",
      "train accuracy is: 0.9470038390919713, test accuracy is 0.9581653225806451\n"
     ]
    },
    {
     "name": "stdout",
     "output_type": "stream",
     "text": [
      "Epoch 90 Loss 0.04883658552058483\n",
      "train accuracy is: 0.9484226339509264, test accuracy is 0.9596774193548387\n"
     ]
    },
    {
     "name": "stdout",
     "output_type": "stream",
     "text": [
      "Epoch 100 Loss 0.04730414899328826\n",
      "train accuracy is: 0.9498414288098815, test accuracy is 0.9606854838709677\n"
     ]
    },
    {
     "name": "stdout",
     "output_type": "stream",
     "text": [
      "Epoch 110 Loss 0.04599141372951607\n",
      "train accuracy is: 0.9516775162744117, test accuracy is 0.9621975806451613\n"
     ]
    },
    {
     "name": "stdout",
     "output_type": "stream",
     "text": [
      "Epoch 120 Loss 0.04485040795031052\n",
      "train accuracy is: 0.9528459355700217, test accuracy is 0.9621975806451613\n"
     ]
    },
    {
     "name": "stdout",
     "output_type": "stream",
     "text": [
      "Epoch 130 Loss 0.04384644879778517\n",
      "train accuracy is: 0.9536805207811717, test accuracy is 0.9621975806451613\n"
     ]
    },
    {
     "name": "stdout",
     "output_type": "stream",
     "text": [
      "Epoch 140 Loss 0.042953681338055896\n",
      "train accuracy is: 0.9545985645134368, test accuracy is 0.9621975806451613\n"
     ]
    },
    {
     "name": "stdout",
     "output_type": "stream",
     "text": [
      "Epoch 150 Loss 0.042153368057635796\n",
      "train accuracy is: 0.9550993156401268, test accuracy is 0.9627016129032258\n"
     ]
    },
    {
     "name": "stdout",
     "output_type": "stream",
     "text": [
      "Epoch 160 Loss 0.04143048839718564\n",
      "train accuracy is: 0.9563511934568519, test accuracy is 0.9637096774193549\n"
     ]
    },
    {
     "name": "stdout",
     "output_type": "stream",
     "text": [
      "Epoch 170 Loss 0.040772728488495426\n",
      "train accuracy is: 0.956851944583542, test accuracy is 0.9642137096774194\n"
     ]
    },
    {
     "name": "stdout",
     "output_type": "stream",
     "text": [
      "Epoch 180 Loss 0.040171018439186974\n",
      "train accuracy is: 0.957269237189117, test accuracy is 0.9647177419354839\n"
     ]
    },
    {
     "name": "stdout",
     "output_type": "stream",
     "text": [
      "Epoch 190 Loss 0.03961765464618413\n",
      "train accuracy is: 0.957686529794692, test accuracy is 0.9652217741935484\n"
     ]
    },
    {
     "name": "stdout",
     "output_type": "stream",
     "text": [
      "Epoch 200 Loss 0.039107060714696495\n",
      "train accuracy is: 0.9579369053580371, test accuracy is 0.9652217741935484\n"
     ]
    },
    {
     "name": "stdout",
     "output_type": "stream",
     "text": [
      "Epoch 210 Loss 0.03863302670233892\n",
      "train accuracy is: 0.958103822400267, test accuracy is 0.9652217741935484\n"
     ]
    },
    {
     "name": "stdout",
     "output_type": "stream",
     "text": [
      "Epoch 220 Loss 0.03819136268202683\n",
      "train accuracy is: 0.9584376564847271, test accuracy is 0.9657258064516129\n"
     ]
    },
    {
     "name": "stdout",
     "output_type": "stream",
     "text": [
      "Epoch 230 Loss 0.03777982504617912\n",
      "train accuracy is: 0.9588549490903021, test accuracy is 0.9667338709677419\n"
     ]
    },
    {
     "name": "stdout",
     "output_type": "stream",
     "text": [
      "Epoch 240 Loss 0.03739346485437085\n",
      "train accuracy is: 0.9592722416958771, test accuracy is 0.9667338709677419\n"
     ]
    },
    {
     "data": {
      "text/plain": [
       "0.01751644052340206"
      ]
     },
     "execution_count": 23,
     "metadata": {},
     "output_type": "execute_result"
    }
   ],
   "source": [
    "learner2.train_loop(dl)"
   ]
  },
  {
   "cell_type": "markdown",
   "metadata": {
    "papermill": {
     "duration": 0.047862,
     "end_time": "2020-08-17T10:14:04.331707",
     "exception": false,
     "start_time": "2020-08-17T10:14:04.283845",
     "status": "completed"
    },
    "tags": []
   },
   "source": [
    "### Comparing results of NN and LR"
   ]
  },
  {
   "cell_type": "code",
   "execution_count": 24,
   "metadata": {
    "execution": {
     "iopub.execute_input": "2020-08-17T10:14:04.439947Z",
     "iopub.status.busy": "2020-08-17T10:14:04.439201Z",
     "iopub.status.idle": "2020-08-17T10:14:04.666672Z",
     "shell.execute_reply": "2020-08-17T10:14:04.667174Z"
    },
    "papermill": {
     "duration": 0.281746,
     "end_time": "2020-08-17T10:14:04.667333",
     "exception": false,
     "start_time": "2020-08-17T10:14:04.385587",
     "status": "completed"
    },
    "tags": []
   },
   "outputs": [
    {
     "data": {
      "text/plain": [
       "<matplotlib.legend.Legend at 0x7f6dbd233a20>"
      ]
     },
     "execution_count": 24,
     "metadata": {},
     "output_type": "execute_result"
    },
    {
     "data": {
      "image/png": "[encoded data removed]",
      "text/plain": [
       "<Figure size 576x360 with 1 Axes>"
      ]
     },
     "metadata": {
      "needs_background": "light"
     },
     "output_type": "display_data"
    }
   ],
   "source": [
    "plt.figure(figsize=(8,5))\n",
    "plt.plot(acc1.val_accuracies, 'g-', label = \"Val Accuracies - NN\")\n",
    "plt.plot(acc1.accuracies, 'r-', label = \"Accuracies - NN\")\n",
    "plt.plot(acc2.val_accuracies, 'b-', label = \"Val Accuracies - Logistic Reg\")\n",
    "plt.plot(acc2.accuracies, 'k-', label = \"Accuracies - Logistic Reg\")\n",
    "plt.ylim(0.8,1) ## for a more spread out view\n",
    "plt.legend()"
   ]
  },
  {
   "cell_type": "markdown",
   "metadata": {
    "papermill": {
     "duration": 0.048836,
     "end_time": "2020-08-17T10:14:04.764549",
     "exception": false,
     "start_time": "2020-08-17T10:14:04.715713",
     "status": "completed"
    },
    "tags": []
   },
   "source": [
    "### Clearly NN has a better accuracy over LR; NN is overfitting - Validation accuracy (green) has dropped below training accuracy (orange), also they are diverging. This problem is not seen in LR"
   ]
  },
  {
   "cell_type": "markdown",
   "metadata": {
    "papermill": {
     "duration": 0.048921,
     "end_time": "2020-08-17T10:14:04.861566",
     "exception": false,
     "start_time": "2020-08-17T10:14:04.812645",
     "status": "completed"
    },
    "tags": []
   },
   "source": [
    "##### Now we will be moving through the network, till the output of the second last affine where we get a 2 dimensional output. We will be plotting this 2d output and probability contours"
   ]
  },
  {
   "cell_type": "code",
   "execution_count": 25,
   "metadata": {
    "execution": {
     "iopub.execute_input": "2020-08-17T10:14:04.964748Z",
     "iopub.status.busy": "2020-08-17T10:14:04.964133Z",
     "iopub.status.idle": "2020-08-17T10:14:04.979366Z",
     "shell.execute_reply": "2020-08-17T10:14:04.978468Z"
    },
    "papermill": {
     "duration": 0.069217,
     "end_time": "2020-08-17T10:14:04.979600",
     "exception": false,
     "start_time": "2020-08-17T10:14:04.910383",
     "status": "completed"
    },
    "tags": []
   },
   "outputs": [],
   "source": [
    "model_new = Model(layers[:-2])"
   ]
  },
  {
   "cell_type": "code",
   "execution_count": 26,
   "metadata": {
    "execution": {
     "iopub.execute_input": "2020-08-17T10:14:05.085868Z",
     "iopub.status.busy": "2020-08-17T10:14:05.085265Z",
     "iopub.status.idle": "2020-08-17T10:14:05.108766Z",
     "shell.execute_reply": "2020-08-17T10:14:05.109333Z"
    },
    "papermill": {
     "duration": 0.077473,
     "end_time": "2020-08-17T10:14:05.109501",
     "exception": false,
     "start_time": "2020-08-17T10:14:05.032028",
     "status": "completed"
    },
    "tags": []
   },
   "outputs": [],
   "source": [
    "plot_testing = model_new(testing_xdata)"
   ]
  },
  {
   "cell_type": "markdown",
   "metadata": {
    "papermill": {
     "duration": 0.048944,
     "end_time": "2020-08-17T10:14:05.207800",
     "exception": false,
     "start_time": "2020-08-17T10:14:05.158856",
     "status": "completed"
    },
    "tags": []
   },
   "source": [
    "##### Plotting the scatter plot of points and color coding by class"
   ]
  },
  {
   "cell_type": "code",
   "execution_count": 27,
   "metadata": {
    "execution": {
     "iopub.execute_input": "2020-08-17T10:14:05.346266Z",
     "iopub.status.busy": "2020-08-17T10:14:05.345654Z",
     "iopub.status.idle": "2020-08-17T10:14:05.562637Z",
     "shell.execute_reply": "2020-08-17T10:14:05.563309Z"
    },
    "papermill": {
     "duration": 0.307024,
     "end_time": "2020-08-17T10:14:05.563494",
     "exception": false,
     "start_time": "2020-08-17T10:14:05.256470",
     "status": "completed"
    },
    "tags": []
   },
   "outputs": [
    {
     "data": {
      "image/png": "[encoded data removed]",
      "text/plain": [
       "<Figure size 576x504 with 1 Axes>"
      ]
     },
     "metadata": {
      "needs_background": "light"
     },
     "output_type": "display_data"
    }
   ],
   "source": [
    "plt.figure(figsize=(8,7))\n",
    "plt.scatter(plot_testing[:,0], plot_testing[:,1], alpha = 0.1, c = y_test.ravel());"
   ]
  },
  {
   "cell_type": "markdown",
   "metadata": {
    "papermill": {
     "duration": 0.0513,
     "end_time": "2020-08-17T10:14:05.667251",
     "exception": false,
     "start_time": "2020-08-17T10:14:05.615951",
     "status": "completed"
    },
    "tags": []
   },
   "source": [
    "##### Plotting probability contours"
   ]
  },
  {
   "cell_type": "code",
   "execution_count": 28,
   "metadata": {
    "execution": {
     "iopub.execute_input": "2020-08-17T10:14:05.774631Z",
     "iopub.status.busy": "2020-08-17T10:14:05.774021Z",
     "iopub.status.idle": "2020-08-17T10:14:05.788999Z",
     "shell.execute_reply": "2020-08-17T10:14:05.788074Z"
    },
    "papermill": {
     "duration": 0.071025,
     "end_time": "2020-08-17T10:14:05.789215",
     "exception": false,
     "start_time": "2020-08-17T10:14:05.718190",
     "status": "completed"
    },
    "tags": []
   },
   "outputs": [],
   "source": [
    "model_prob = Model(layers[-2:]) ## picking only last two layers to get probability. That is affine followed by sigmoid"
   ]
  },
  {
   "cell_type": "code",
   "execution_count": 29,
   "metadata": {
    "execution": {
     "iopub.execute_input": "2020-08-17T10:14:05.908859Z",
     "iopub.status.busy": "2020-08-17T10:14:05.906712Z",
     "iopub.status.idle": "2020-08-17T10:14:05.923843Z",
     "shell.execute_reply": "2020-08-17T10:14:05.924316Z"
    },
    "papermill": {
     "duration": 0.07679,
     "end_time": "2020-08-17T10:14:05.924481",
     "exception": false,
     "start_time": "2020-08-17T10:14:05.847691",
     "status": "completed"
    },
    "tags": []
   },
   "outputs": [],
   "source": [
    "xgrid = np.linspace(-4, 1, 100) ## Adjust these values based on above chart, roughly -4 to 1\n",
    "ygrid = np.linspace(-7.5, 7.5, 100) ## Adjust these values based on above chart, roughly -7.5, 7.5\n",
    "xg, yg = np.meshgrid(xgrid, ygrid)\n",
    "# xg and yg are now both 100X100, lets convert them to single arrays \n",
    "\n",
    "xg_interim = np.ravel(xg)\n",
    "yg_interim = np.ravel(yg)\n",
    "\n",
    "## xg_interim, yg_interim are now arrays of len 10000, now we will stack them and then transpose to get desired shape of n rows, 2 columns\n",
    "\n",
    "X_interim = np.vstack((xg_interim, yg_interim)) ## Please note vstack takes in a tuple\n",
    "X = X_interim.T\n",
    "\n",
    "## We want a shape of n rows and 2 columns to be able to feed this to last affine\n",
    "## This last affine takes only two columns, hence the above transformation\n",
    "probability_contour = model_prob(X).reshape(100,100) ## to make it consistent with xg, yg"
   ]
  },
  {
   "cell_type": "code",
   "execution_count": 30,
   "metadata": {
    "execution": {
     "iopub.execute_input": "2020-08-17T10:14:06.037353Z",
     "iopub.status.busy": "2020-08-17T10:14:06.036734Z",
     "iopub.status.idle": "2020-08-17T10:14:06.314798Z",
     "shell.execute_reply": "2020-08-17T10:14:06.314271Z"
    },
    "papermill": {
     "duration": 0.339744,
     "end_time": "2020-08-17T10:14:06.314932",
     "exception": false,
     "start_time": "2020-08-17T10:14:05.975188",
     "status": "completed"
    },
    "tags": []
   },
   "outputs": [
    {
     "data": {
      "image/png": "[encoded data removed]",
      "text/plain": [
       "<Figure size 576x504 with 1 Axes>"
      ]
     },
     "metadata": {
      "needs_background": "light"
     },
     "output_type": "display_data"
    }
   ],
   "source": [
    "plt.figure(figsize=(8,7))\n",
    "plt.scatter(plot_testing[:,0], plot_testing[:,1], alpha = 0.1, c = y_test.ravel())\n",
    "contours = plt.contour(xg,yg,probability_contour)\n",
    "plt.clabel(contours, inline = True );"
   ]
  }
 ],
 "metadata": {
  "kernelspec": {
   "display_name": "Python 3",
   "language": "python",
   "name": "python3"
  },
  "language_info": {
   "codemirror_mode": {
    "name": "ipython",
    "version": 3
   },
   "file_extension": ".py",
   "mimetype": "text/x-python",
   "name": "python",
   "nbconvert_exporter": "python",
   "pygments_lexer": "ipython3",
   "version": "3.6.11"
  },
  "papermill": {
   "duration": 116.874281,
   "end_time": "2020-08-17T10:14:06.779028",
   "environment_variables": {},
   "exception": null,
   "input_path": "2020-08-07-NN-new.ipynb",
   "output_path": "2020-08-07-NN-new.ipynb",
   "parameters": {},
   "start_time": "2020-08-17T10:12:09.904747",
   "version": "2.1.2"
  }
 },
 "nbformat": 4,
 "nbformat_minor": 4
}