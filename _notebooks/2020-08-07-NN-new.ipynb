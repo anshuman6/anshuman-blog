{
 "cells": [
  {
   "cell_type": "markdown",
   "metadata": {
    "papermill": {
     "duration": 0.035842,
     "end_time": "2020-08-13T10:12:17.818411",
     "exception": false,
     "start_time": "2020-08-13T10:12:17.782569",
     "status": "completed"
    },
    "tags": []
   },
   "source": [
    "# \"Building a basic Neural Network from scratch - Kudzu\"\n",
    "\n",
    "- badges: true\n",
    "- author: Anshuman Gupta"
   ]
  },
  {
   "cell_type": "markdown",
   "metadata": {
    "papermill": {
     "duration": 0.031476,
     "end_time": "2020-08-13T10:12:17.886318",
     "exception": false,
     "start_time": "2020-08-13T10:12:17.854842",
     "status": "completed"
    },
    "tags": []
   },
   "source": [
    "#### In this project, the idea is to write a classifier to differentiate between handwritten digits 3 and 8, from the MNIST database.\n",
    "\n",
    "#### I will using a custom built neural network library called Kudzu.This has been developed as a part of KTF/Foundations course of Univ.ai (www.univ.ai). The source code for Kudzu Library and and this notebook can be found on my git-hub profile : www.https://github.com/anshuman6 under the folder project-solution. Any feedback and comments are welcome. Please feel free to email me at: anshuman6@gmail.com\n",
    "\n",
    "#### 1. I will be using the MNIST database. \n",
    "\n",
    "#### 2. I will be comparing the results of the 4 layer NN to a standard logistic regression"
   ]
  },
  {
   "cell_type": "markdown",
   "metadata": {
    "papermill": {
     "duration": 0.0308,
     "end_time": "2020-08-13T10:12:17.946077",
     "exception": false,
     "start_time": "2020-08-13T10:12:17.915277",
     "status": "completed"
    },
    "tags": []
   },
   "source": [
    "##### Importing all the necessary libraries"
   ]
  },
  {
   "cell_type": "code",
   "execution_count": 1,
   "metadata": {
    "execution": {
     "iopub.execute_input": "2020-08-13T10:12:18.015021Z",
     "iopub.status.busy": "2020-08-13T10:12:18.014393Z",
     "iopub.status.idle": "2020-08-13T10:12:18.026737Z",
     "shell.execute_reply": "2020-08-13T10:12:18.026159Z"
    },
    "papermill": {
     "duration": 0.048349,
     "end_time": "2020-08-13T10:12:18.026919",
     "exception": false,
     "start_time": "2020-08-13T10:12:17.978570",
     "status": "completed"
    },
    "tags": []
   },
   "outputs": [],
   "source": [
    "%load_ext autoreload\n",
    "%autoreload 2"
   ]
  },
  {
   "cell_type": "code",
   "execution_count": 2,
   "metadata": {
    "execution": {
     "iopub.execute_input": "2020-08-13T10:12:18.091427Z",
     "iopub.status.busy": "2020-08-13T10:12:18.090749Z",
     "iopub.status.idle": "2020-08-13T10:12:18.728759Z",
     "shell.execute_reply": "2020-08-13T10:12:18.727850Z"
    },
    "papermill": {
     "duration": 0.672573,
     "end_time": "2020-08-13T10:12:18.728909",
     "exception": false,
     "start_time": "2020-08-13T10:12:18.056336",
     "status": "completed"
    },
    "tags": []
   },
   "outputs": [],
   "source": [
    "%matplotlib inline\n",
    "import numpy as np\n",
    "import matplotlib.pyplot as plt\n",
    "import pandas as pd"
   ]
  },
  {
   "cell_type": "markdown",
   "metadata": {
    "papermill": {
     "duration": 0.028152,
     "end_time": "2020-08-13T10:12:18.789046",
     "exception": false,
     "start_time": "2020-08-13T10:12:18.760894",
     "status": "completed"
    },
    "tags": []
   },
   "source": [
    "##### The following command helps us download MNIST from notebook itself. You can skip this if you already have MNIST. You can also download it via your terminal."
   ]
  },
  {
   "cell_type": "code",
   "execution_count": 3,
   "metadata": {
    "execution": {
     "iopub.execute_input": "2020-08-13T10:12:18.848700Z",
     "iopub.status.busy": "2020-08-13T10:12:18.848091Z",
     "iopub.status.idle": "2020-08-13T10:12:20.467091Z",
     "shell.execute_reply": "2020-08-13T10:12:20.467728Z"
    },
    "papermill": {
     "duration": 1.651241,
     "end_time": "2020-08-13T10:12:20.467910",
     "exception": false,
     "start_time": "2020-08-13T10:12:18.816669",
     "status": "completed"
    },
    "tags": []
   },
   "outputs": [
    {
     "name": "stdout",
     "output_type": "stream",
     "text": [
      "Collecting mnist\r\n"
     ]
    },
    {
     "name": "stdout",
     "output_type": "stream",
     "text": [
      "  Downloading mnist-0.2.2-py2.py3-none-any.whl (3.5 kB)\r\n"
     ]
    },
    {
     "name": "stdout",
     "output_type": "stream",
     "text": [
      "Requirement already satisfied: numpy in /opt/hostedtoolcache/Python/3.6.11/x64/lib/python3.6/site-packages (from mnist) (1.19.1)\r\n"
     ]
    },
    {
     "name": "stdout",
     "output_type": "stream",
     "text": [
      "Installing collected packages: mnist\r\n"
     ]
    },
    {
     "name": "stdout",
     "output_type": "stream",
     "text": [
      "Successfully installed mnist-0.2.2\r\n"
     ]
    },
    {
     "name": "stdout",
     "output_type": "stream",
     "text": [
      "\u001b[33mWARNING: You are using pip version 20.2.1; however, version 20.2.2 is available.\r\n",
      "You should consider upgrading via the '/opt/hostedtoolcache/Python/3.6.11/x64/bin/python -m pip install --upgrade pip' command.\u001b[0m\r\n"
     ]
    }
   ],
   "source": [
    "!pip install mnist # Please note, it is commented out for now, you can remove comment if you want to install it"
   ]
  },
  {
   "cell_type": "markdown",
   "metadata": {
    "papermill": {
     "duration": 0.034289,
     "end_time": "2020-08-13T10:12:20.535661",
     "exception": false,
     "start_time": "2020-08-13T10:12:20.501372",
     "status": "completed"
    },
    "tags": []
   },
   "source": [
    "#### Preparing the Data"
   ]
  },
  {
   "cell_type": "code",
   "execution_count": 4,
   "metadata": {
    "execution": {
     "iopub.execute_input": "2020-08-13T10:12:20.605114Z",
     "iopub.status.busy": "2020-08-13T10:12:20.604400Z",
     "iopub.status.idle": "2020-08-13T10:12:20.622581Z",
     "shell.execute_reply": "2020-08-13T10:12:20.622013Z"
    },
    "papermill": {
     "duration": 0.054373,
     "end_time": "2020-08-13T10:12:20.622719",
     "exception": false,
     "start_time": "2020-08-13T10:12:20.568346",
     "status": "completed"
    },
    "tags": []
   },
   "outputs": [],
   "source": [
    "import mnist"
   ]
  },
  {
   "cell_type": "code",
   "execution_count": 5,
   "metadata": {
    "execution": {
     "iopub.execute_input": "2020-08-13T10:12:20.695151Z",
     "iopub.status.busy": "2020-08-13T10:12:20.694229Z",
     "iopub.status.idle": "2020-08-13T10:12:21.905768Z",
     "shell.execute_reply": "2020-08-13T10:12:21.905243Z"
    },
    "papermill": {
     "duration": 1.248264,
     "end_time": "2020-08-13T10:12:21.905912",
     "exception": false,
     "start_time": "2020-08-13T10:12:20.657648",
     "status": "completed"
    },
    "tags": []
   },
   "outputs": [],
   "source": [
    "train_images = mnist.train_images()\n",
    "train_labels = mnist.train_labels()"
   ]
  },
  {
   "cell_type": "code",
   "execution_count": 6,
   "metadata": {
    "execution": {
     "iopub.execute_input": "2020-08-13T10:12:21.976158Z",
     "iopub.status.busy": "2020-08-13T10:12:21.975523Z",
     "iopub.status.idle": "2020-08-13T10:12:21.992620Z",
     "shell.execute_reply": "2020-08-13T10:12:21.992037Z"
    },
    "papermill": {
     "duration": 0.053603,
     "end_time": "2020-08-13T10:12:21.992760",
     "exception": false,
     "start_time": "2020-08-13T10:12:21.939157",
     "status": "completed"
    },
    "tags": []
   },
   "outputs": [
    {
     "data": {
      "text/plain": [
       "((60000, 28, 28), (60000,))"
      ]
     },
     "execution_count": 6,
     "metadata": {},
     "output_type": "execute_result"
    }
   ],
   "source": [
    "train_images.shape, train_labels.shape"
   ]
  },
  {
   "cell_type": "code",
   "execution_count": 7,
   "metadata": {
    "execution": {
     "iopub.execute_input": "2020-08-13T10:12:22.065669Z",
     "iopub.status.busy": "2020-08-13T10:12:22.065041Z",
     "iopub.status.idle": "2020-08-13T10:12:22.643786Z",
     "shell.execute_reply": "2020-08-13T10:12:22.643209Z"
    },
    "papermill": {
     "duration": 0.617223,
     "end_time": "2020-08-13T10:12:22.643929",
     "exception": false,
     "start_time": "2020-08-13T10:12:22.026706",
     "status": "completed"
    },
    "tags": []
   },
   "outputs": [],
   "source": [
    "test_images = mnist.test_images()\n",
    "test_labels = mnist.test_labels()"
   ]
  },
  {
   "cell_type": "code",
   "execution_count": 8,
   "metadata": {
    "execution": {
     "iopub.execute_input": "2020-08-13T10:12:22.714101Z",
     "iopub.status.busy": "2020-08-13T10:12:22.713110Z",
     "iopub.status.idle": "2020-08-13T10:12:22.731303Z",
     "shell.execute_reply": "2020-08-13T10:12:22.730732Z"
    },
    "papermill": {
     "duration": 0.054332,
     "end_time": "2020-08-13T10:12:22.731444",
     "exception": false,
     "start_time": "2020-08-13T10:12:22.677112",
     "status": "completed"
    },
    "tags": []
   },
   "outputs": [
    {
     "data": {
      "text/plain": [
       "((10000, 28, 28), (10000,))"
      ]
     },
     "execution_count": 8,
     "metadata": {},
     "output_type": "execute_result"
    }
   ],
   "source": [
    "test_images.shape, test_labels.shape"
   ]
  },
  {
   "cell_type": "code",
   "execution_count": 9,
   "metadata": {
    "execution": {
     "iopub.execute_input": "2020-08-13T10:12:22.812992Z",
     "iopub.status.busy": "2020-08-13T10:12:22.812355Z",
     "iopub.status.idle": "2020-08-13T10:12:23.009127Z",
     "shell.execute_reply": "2020-08-13T10:12:23.009755Z"
    },
    "papermill": {
     "duration": 0.241958,
     "end_time": "2020-08-13T10:12:23.009979",
     "exception": false,
     "start_time": "2020-08-13T10:12:22.768021",
     "status": "completed"
    },
    "tags": []
   },
   "outputs": [
    {
     "name": "stdout",
     "output_type": "stream",
     "text": [
      "2\n"
     ]
    },
    {
     "data": {
      "text/plain": [
       "<matplotlib.image.AxesImage at 0x7f47606b7320>"
      ]
     },
     "execution_count": 9,
     "metadata": {},
     "output_type": "execute_result"
    },
    {
     "data": {
      "image/png": "[encoded data removed]",
      "text/plain": [
       "<Figure size 432x288 with 1 Axes>"
      ]
     },
     "metadata": {
      "needs_background": "light"
     },
     "output_type": "display_data"
    }
   ],
   "source": [
    "image_index = 7776 # You may select anything up to 60,000\n",
    "print(train_labels[image_index]) \n",
    "plt.imshow(train_images[image_index], cmap='Greys')"
   ]
  },
  {
   "cell_type": "markdown",
   "metadata": {
    "papermill": {
     "duration": 0.037311,
     "end_time": "2020-08-13T10:12:23.084541",
     "exception": false,
     "start_time": "2020-08-13T10:12:23.047230",
     "status": "completed"
    },
    "tags": []
   },
   "source": [
    "## Filter data to get 3 and 8 out"
   ]
  },
  {
   "cell_type": "code",
   "execution_count": 10,
   "metadata": {
    "execution": {
     "iopub.execute_input": "2020-08-13T10:12:23.167877Z",
     "iopub.status.busy": "2020-08-13T10:12:23.161370Z",
     "iopub.status.idle": "2020-08-13T10:12:23.184140Z",
     "shell.execute_reply": "2020-08-13T10:12:23.183447Z"
    },
    "papermill": {
     "duration": 0.062994,
     "end_time": "2020-08-13T10:12:23.184321",
     "exception": false,
     "start_time": "2020-08-13T10:12:23.121327",
     "status": "completed"
    },
    "tags": []
   },
   "outputs": [],
   "source": [
    "train_filter = np.where((train_labels == 3 ) | (train_labels == 8))\n",
    "test_filter = np.where((test_labels == 3) | (test_labels == 8))\n",
    "X_train, y_train = train_images[train_filter], train_labels[train_filter]\n",
    "X_test, y_test = test_images[test_filter], test_labels[test_filter]"
   ]
  },
  {
   "cell_type": "markdown",
   "metadata": {
    "papermill": {
     "duration": 0.033681,
     "end_time": "2020-08-13T10:12:23.258282",
     "exception": false,
     "start_time": "2020-08-13T10:12:23.224601",
     "status": "completed"
    },
    "tags": []
   },
   "source": [
    "##### We normalize the pizel values in the 0 to 1 range"
   ]
  },
  {
   "cell_type": "code",
   "execution_count": 11,
   "metadata": {
    "execution": {
     "iopub.execute_input": "2020-08-13T10:12:23.336882Z",
     "iopub.status.busy": "2020-08-13T10:12:23.336248Z",
     "iopub.status.idle": "2020-08-13T10:12:23.392612Z",
     "shell.execute_reply": "2020-08-13T10:12:23.393102Z"
    },
    "papermill": {
     "duration": 0.101676,
     "end_time": "2020-08-13T10:12:23.393276",
     "exception": false,
     "start_time": "2020-08-13T10:12:23.291600",
     "status": "completed"
    },
    "tags": []
   },
   "outputs": [],
   "source": [
    "X_train = X_train/255.\n",
    "X_test = X_test/255."
   ]
  },
  {
   "cell_type": "markdown",
   "metadata": {
    "papermill": {
     "duration": 0.035315,
     "end_time": "2020-08-13T10:12:23.471645",
     "exception": false,
     "start_time": "2020-08-13T10:12:23.436330",
     "status": "completed"
    },
    "tags": []
   },
   "source": [
    "And setup the labels as 1 (when the digit is 3) and 0 (when the digit is 8)"
   ]
  },
  {
   "cell_type": "code",
   "execution_count": 12,
   "metadata": {
    "execution": {
     "iopub.execute_input": "2020-08-13T10:12:23.551967Z",
     "iopub.status.busy": "2020-08-13T10:12:23.551348Z",
     "iopub.status.idle": "2020-08-13T10:12:23.567743Z",
     "shell.execute_reply": "2020-08-13T10:12:23.567075Z"
    },
    "papermill": {
     "duration": 0.058561,
     "end_time": "2020-08-13T10:12:23.567927",
     "exception": false,
     "start_time": "2020-08-13T10:12:23.509366",
     "status": "completed"
    },
    "tags": []
   },
   "outputs": [],
   "source": [
    "y_train = 1*(y_train==3)\n",
    "y_test = 1*(y_test==3)"
   ]
  },
  {
   "cell_type": "code",
   "execution_count": 13,
   "metadata": {
    "execution": {
     "iopub.execute_input": "2020-08-13T10:12:23.646258Z",
     "iopub.status.busy": "2020-08-13T10:12:23.645166Z",
     "iopub.status.idle": "2020-08-13T10:12:23.666976Z",
     "shell.execute_reply": "2020-08-13T10:12:23.666334Z"
    },
    "papermill": {
     "duration": 0.061647,
     "end_time": "2020-08-13T10:12:23.667129",
     "exception": false,
     "start_time": "2020-08-13T10:12:23.605482",
     "status": "completed"
    },
    "tags": []
   },
   "outputs": [
    {
     "data": {
      "text/plain": [
       "((11982, 28, 28), (1984, 28, 28))"
      ]
     },
     "execution_count": 13,
     "metadata": {},
     "output_type": "execute_result"
    }
   ],
   "source": [
    "X_train.shape, X_test.shape"
   ]
  },
  {
   "cell_type": "markdown",
   "metadata": {
    "papermill": {
     "duration": 0.033792,
     "end_time": "2020-08-13T10:12:23.735884",
     "exception": false,
     "start_time": "2020-08-13T10:12:23.702092",
     "status": "completed"
    },
    "tags": []
   },
   "source": [
    "##### We reshape the data to flatten the image pixels into a set of features or co-variates:"
   ]
  },
  {
   "cell_type": "code",
   "execution_count": 14,
   "metadata": {
    "execution": {
     "iopub.execute_input": "2020-08-13T10:12:23.803863Z",
     "iopub.status.busy": "2020-08-13T10:12:23.803239Z",
     "iopub.status.idle": "2020-08-13T10:12:23.819938Z",
     "shell.execute_reply": "2020-08-13T10:12:23.820629Z"
    },
    "papermill": {
     "duration": 0.053048,
     "end_time": "2020-08-13T10:12:23.820800",
     "exception": false,
     "start_time": "2020-08-13T10:12:23.767752",
     "status": "completed"
    },
    "tags": []
   },
   "outputs": [
    {
     "data": {
      "text/plain": [
       "((11982, 784), (1984, 784))"
      ]
     },
     "execution_count": 14,
     "metadata": {},
     "output_type": "execute_result"
    }
   ],
   "source": [
    "X_train = X_train.reshape(X_train.shape[0], -1)\n",
    "X_test = X_test.reshape(X_test.shape[0], -1)\n",
    "X_train.shape, X_test.shape"
   ]
  },
  {
   "cell_type": "markdown",
   "metadata": {
    "papermill": {
     "duration": 0.035721,
     "end_time": "2020-08-13T10:12:23.893634",
     "exception": false,
     "start_time": "2020-08-13T10:12:23.857913",
     "status": "completed"
    },
    "tags": []
   },
   "source": [
    "##### Importing Kudzu library and its functionality"
   ]
  },
  {
   "cell_type": "code",
   "execution_count": 15,
   "metadata": {
    "execution": {
     "iopub.execute_input": "2020-08-13T10:12:23.978431Z",
     "iopub.status.busy": "2020-08-13T10:12:23.977829Z",
     "iopub.status.idle": "2020-08-13T10:12:23.998576Z",
     "shell.execute_reply": "2020-08-13T10:12:23.999149Z"
    },
    "papermill": {
     "duration": 0.068334,
     "end_time": "2020-08-13T10:12:23.999332",
     "exception": false,
     "start_time": "2020-08-13T10:12:23.930998",
     "status": "completed"
    },
    "tags": []
   },
   "outputs": [],
   "source": [
    "from kudzu.data import Data, Dataloader, Sampler\n",
    "from kudzu.callbacks import AccCallback\n",
    "from kudzu.loss import MSE\n",
    "from kudzu.layer import Affine, Sigmoid\n",
    "from kudzu.model import Model\n",
    "from kudzu.optim import GD\n",
    "from kudzu.train import Learner\n",
    "from kudzu.callbacks import ClfCallback\n",
    "from kudzu.layer import Sigmoid\n",
    "from kudzu.layer import Relu"
   ]
  },
  {
   "cell_type": "markdown",
   "metadata": {
    "papermill": {
     "duration": 0.035311,
     "end_time": "2020-08-13T10:12:24.069458",
     "exception": false,
     "start_time": "2020-08-13T10:12:24.034147",
     "status": "completed"
    },
    "tags": []
   },
   "source": [
    "##### We are creating a class, just so that we can use it to store our parameters for us"
   ]
  },
  {
   "cell_type": "code",
   "execution_count": 16,
   "metadata": {
    "execution": {
     "iopub.execute_input": "2020-08-13T10:12:24.147597Z",
     "iopub.status.busy": "2020-08-13T10:12:24.146847Z",
     "iopub.status.idle": "2020-08-13T10:12:24.161713Z",
     "shell.execute_reply": "2020-08-13T10:12:24.161181Z"
    },
    "papermill": {
     "duration": 0.057017,
     "end_time": "2020-08-13T10:12:24.161850",
     "exception": false,
     "start_time": "2020-08-13T10:12:24.104833",
     "status": "completed"
    },
    "tags": []
   },
   "outputs": [],
   "source": [
    "class Config:\n",
    "    pass\n",
    "config = Config()\n",
    "config.lr = 0.001\n",
    "config.num_epochs = 250\n",
    "config.bs = 50"
   ]
  },
  {
   "cell_type": "markdown",
   "metadata": {
    "papermill": {
     "duration": 0.03764,
     "end_time": "2020-08-13T10:12:24.238138",
     "exception": false,
     "start_time": "2020-08-13T10:12:24.200498",
     "status": "completed"
    },
    "tags": []
   },
   "source": [
    "##### Initializing Data"
   ]
  },
  {
   "cell_type": "code",
   "execution_count": 17,
   "metadata": {
    "execution": {
     "iopub.execute_input": "2020-08-13T10:12:24.319440Z",
     "iopub.status.busy": "2020-08-13T10:12:24.318810Z",
     "iopub.status.idle": "2020-08-13T10:12:24.333897Z",
     "shell.execute_reply": "2020-08-13T10:12:24.333375Z"
    },
    "papermill": {
     "duration": 0.056324,
     "end_time": "2020-08-13T10:12:24.334044",
     "exception": false,
     "start_time": "2020-08-13T10:12:24.277720",
     "status": "completed"
    },
    "tags": []
   },
   "outputs": [],
   "source": [
    "data = Data(X_train, y_train.reshape(-1,1))\n",
    "loss = MSE()\n",
    "opt = GD(config.lr)\n",
    "sampler = Sampler(data, config.bs, shuffle=True)\n",
    "dl = Dataloader(data, sampler)"
   ]
  },
  {
   "cell_type": "markdown",
   "metadata": {
    "papermill": {
     "duration": 0.031949,
     "end_time": "2020-08-13T10:12:24.398198",
     "exception": false,
     "start_time": "2020-08-13T10:12:24.366249",
     "status": "completed"
    },
    "tags": []
   },
   "source": [
    "##### Constructing 2 different layers, one for NN and one only for logistic regression."
   ]
  },
  {
   "cell_type": "markdown",
   "metadata": {
    "papermill": {
     "duration": 0.032594,
     "end_time": "2020-08-13T10:12:24.462747",
     "exception": false,
     "start_time": "2020-08-13T10:12:24.430153",
     "status": "completed"
    },
    "tags": []
   },
   "source": [
    "##### Creating containers for data to be passed, to calculate accuracies"
   ]
  },
  {
   "cell_type": "code",
   "execution_count": 18,
   "metadata": {
    "execution": {
     "iopub.execute_input": "2020-08-13T10:12:24.530826Z",
     "iopub.status.busy": "2020-08-13T10:12:24.530186Z",
     "iopub.status.idle": "2020-08-13T10:12:24.545254Z",
     "shell.execute_reply": "2020-08-13T10:12:24.544487Z"
    },
    "papermill": {
     "duration": 0.050987,
     "end_time": "2020-08-13T10:12:24.545410",
     "exception": false,
     "start_time": "2020-08-13T10:12:24.494423",
     "status": "completed"
    },
    "tags": []
   },
   "outputs": [],
   "source": [
    "training_xdata = X_train\n",
    "testing_xdata = X_test\n",
    "training_ydata = y_train.reshape(-1,1)\n",
    "testing_ydata = y_test.reshape(-1,1)"
   ]
  },
  {
   "cell_type": "markdown",
   "metadata": {
    "papermill": {
     "duration": 0.037341,
     "end_time": "2020-08-13T10:12:24.620738",
     "exception": false,
     "start_time": "2020-08-13T10:12:24.583397",
     "status": "completed"
    },
    "tags": []
   },
   "source": [
    "##### Initializing models and Running training loop: "
   ]
  },
  {
   "cell_type": "code",
   "execution_count": 19,
   "metadata": {
    "execution": {
     "iopub.execute_input": "2020-08-13T10:12:24.702014Z",
     "iopub.status.busy": "2020-08-13T10:12:24.701323Z",
     "iopub.status.idle": "2020-08-13T10:12:24.721177Z",
     "shell.execute_reply": "2020-08-13T10:12:24.721676Z"
    },
    "papermill": {
     "duration": 0.061726,
     "end_time": "2020-08-13T10:12:24.721980",
     "exception": false,
     "start_time": "2020-08-13T10:12:24.660254",
     "status": "completed"
    },
    "tags": []
   },
   "outputs": [],
   "source": [
    "layers = [Affine(\"first\", 784, 100), Relu(\"first\"), Affine(\"second\", 100, 100), Relu(\"second\"), Affine(\"third\", 100, 2), Affine(\"final\", 2, 1), Sigmoid(\"final\")]\n",
    "\n",
    "model_neural = Model(layers)\n",
    "model_logistic = Model([Affine(\"logits\", 784, 1), Sigmoid(\"sigmoid\")])"
   ]
  },
  {
   "cell_type": "code",
   "execution_count": 20,
   "metadata": {
    "execution": {
     "iopub.execute_input": "2020-08-13T10:12:24.803700Z",
     "iopub.status.busy": "2020-08-13T10:12:24.803056Z",
     "iopub.status.idle": "2020-08-13T10:12:24.817611Z",
     "shell.execute_reply": "2020-08-13T10:12:24.817081Z"
    },
    "papermill": {
     "duration": 0.057169,
     "end_time": "2020-08-13T10:12:24.817754",
     "exception": false,
     "start_time": "2020-08-13T10:12:24.760585",
     "status": "completed"
    },
    "tags": []
   },
   "outputs": [],
   "source": [
    "learner1 = Learner(loss, model_neural, opt, config.num_epochs)\n",
    "acc1 = ClfCallback(learner1, config.bs, training_xdata , testing_xdata, training_ydata, testing_ydata)\n",
    "learner1.set_callbacks([acc1])"
   ]
  },
  {
   "cell_type": "code",
   "execution_count": 21,
   "metadata": {
    "execution": {
     "iopub.execute_input": "2020-08-13T10:12:24.896019Z",
     "iopub.status.busy": "2020-08-13T10:12:24.895312Z",
     "iopub.status.idle": "2020-08-13T10:14:09.983792Z",
     "shell.execute_reply": "2020-08-13T10:14:09.983255Z"
    },
    "papermill": {
     "duration": 105.13056,
     "end_time": "2020-08-13T10:14:09.983941",
     "exception": false,
     "start_time": "2020-08-13T10:12:24.853381",
     "status": "completed"
    },
    "tags": []
   },
   "outputs": [
    {
     "name": "stdout",
     "output_type": "stream",
     "text": [
      "Epoch 0 Loss 0.24939142288596\n",
      "train accuracy is: 0.6220163578701385, test accuracy is 0.6265120967741935\n"
     ]
    },
    {
     "name": "stdout",
     "output_type": "stream",
     "text": [
      "Epoch 10 Loss 0.24676921700216647\n",
      "train accuracy is: 0.728175596728426, test accuracy is 0.7459677419354839\n"
     ]
    },
    {
     "name": "stdout",
     "output_type": "stream",
     "text": [
      "Epoch 20 Loss 0.23200873251984952\n",
      "train accuracy is: 0.8413453513603739, test accuracy is 0.8563508064516129\n"
     ]
    },
    {
     "name": "stdout",
     "output_type": "stream",
     "text": [
      "Epoch 30 Loss 0.1545134658299121\n",
      "train accuracy is: 0.8922550492405275, test accuracy is 0.9017137096774194\n"
     ]
    },
    {
     "name": "stdout",
     "output_type": "stream",
     "text": [
      "Epoch 40 Loss 0.07945602721320771\n",
      "train accuracy is: 0.9175429811383742, test accuracy is 0.9269153225806451\n"
     ]
    },
    {
     "name": "stdout",
     "output_type": "stream",
     "text": [
      "Epoch 50 Loss 0.05660225653614505\n",
      "train accuracy is: 0.9356534802203305, test accuracy is 0.9480846774193549\n"
     ]
    },
    {
     "name": "stdout",
     "output_type": "stream",
     "text": [
      "Epoch 60 Loss 0.04611816966467066\n",
      "train accuracy is: 0.9473376731764314, test accuracy is 0.9576612903225806\n"
     ]
    },
    {
     "name": "stdout",
     "output_type": "stream",
     "text": [
      "Epoch 70 Loss 0.040230574669891155\n",
      "train accuracy is: 0.9540143548656318, test accuracy is 0.9637096774193549\n"
     ]
    },
    {
     "name": "stdout",
     "output_type": "stream",
     "text": [
      "Epoch 80 Loss 0.03647220040335162\n",
      "train accuracy is: 0.9578534468369221, test accuracy is 0.9662298387096774\n"
     ]
    },
    {
     "name": "stdout",
     "output_type": "stream",
     "text": [
      "Epoch 90 Loss 0.033844551268863855\n",
      "train accuracy is: 0.9611083291604072, test accuracy is 0.967741935483871\n"
     ]
    },
    {
     "name": "stdout",
     "output_type": "stream",
     "text": [
      "Epoch 100 Loss 0.03187987923377571\n",
      "train accuracy is: 0.9630278751460524, test accuracy is 0.9692540322580645\n"
     ]
    },
    {
     "name": "stdout",
     "output_type": "stream",
     "text": [
      "Epoch 110 Loss 0.030338374465879305\n",
      "train accuracy is: 0.9644466700050075, test accuracy is 0.9707661290322581\n"
     ]
    },
    {
     "name": "stdout",
     "output_type": "stream",
     "text": [
      "Epoch 120 Loss 0.02908346984193063\n",
      "train accuracy is: 0.9654481722583875, test accuracy is 0.9707661290322581\n"
     ]
    },
    {
     "name": "stdout",
     "output_type": "stream",
     "text": [
      "Epoch 130 Loss 0.02802516740029462\n",
      "train accuracy is: 0.9668669671173427, test accuracy is 0.9717741935483871\n"
     ]
    },
    {
     "name": "stdout",
     "output_type": "stream",
     "text": [
      "Epoch 140 Loss 0.027108265926464495\n",
      "train accuracy is: 0.9677850108496078, test accuracy is 0.9717741935483871\n"
     ]
    },
    {
     "name": "stdout",
     "output_type": "stream",
     "text": [
      "Epoch 150 Loss 0.026298984044897646\n",
      "train accuracy is: 0.9690368886663329, test accuracy is 0.9712701612903226\n"
     ]
    },
    {
     "name": "stdout",
     "output_type": "stream",
     "text": [
      "Epoch 160 Loss 0.025577323025894792\n",
      "train accuracy is: 0.9694541812719079, test accuracy is 0.9722782258064516\n"
     ]
    },
    {
     "name": "stdout",
     "output_type": "stream",
     "text": [
      "Epoch 170 Loss 0.024926097144799833\n",
      "train accuracy is: 0.9705391420464029, test accuracy is 0.9727822580645161\n"
     ]
    },
    {
     "name": "stdout",
     "output_type": "stream",
     "text": [
      "Epoch 180 Loss 0.024327043470725757\n",
      "train accuracy is: 0.970956434651978, test accuracy is 0.9727822580645161\n"
     ]
    },
    {
     "name": "stdout",
     "output_type": "stream",
     "text": [
      "Epoch 190 Loss 0.023766798730744613\n",
      "train accuracy is: 0.971791019863128, test accuracy is 0.9737903225806451\n"
     ]
    },
    {
     "name": "stdout",
     "output_type": "stream",
     "text": [
      "Epoch 200 Loss 0.02325177191273572\n",
      "train accuracy is: 0.9729594391587381, test accuracy is 0.9737903225806451\n"
     ]
    },
    {
     "name": "stdout",
     "output_type": "stream",
     "text": [
      "Epoch 210 Loss 0.022762570065495983\n",
      "train accuracy is: 0.9737940243698882, test accuracy is 0.9737903225806451\n"
     ]
    },
    {
     "name": "stdout",
     "output_type": "stream",
     "text": [
      "Epoch 220 Loss 0.02230948302456353\n",
      "train accuracy is: 0.9743782340176932, test accuracy is 0.9737903225806451\n"
     ]
    },
    {
     "name": "stdout",
     "output_type": "stream",
     "text": [
      "Epoch 230 Loss 0.02187003610081708\n",
      "train accuracy is: 0.9748789851443832, test accuracy is 0.9737903225806451\n"
     ]
    },
    {
     "name": "stdout",
     "output_type": "stream",
     "text": [
      "Epoch 240 Loss 0.0214632359088708\n",
      "train accuracy is: 0.9754631947921882, test accuracy is 0.9737903225806451\n"
     ]
    },
    {
     "data": {
      "text/plain": [
       "0.037770006633657024"
      ]
     },
     "execution_count": 21,
     "metadata": {},
     "output_type": "execute_result"
    }
   ],
   "source": [
    "learner1.train_loop(dl)"
   ]
  },
  {
   "cell_type": "markdown",
   "metadata": {
    "papermill": {
     "duration": 0.039665,
     "end_time": "2020-08-13T10:14:10.064106",
     "exception": false,
     "start_time": "2020-08-13T10:14:10.024441",
     "status": "completed"
    },
    "tags": []
   },
   "source": [
    "##### Now running only the logistic regression based classification to compare results with NN"
   ]
  },
  {
   "cell_type": "code",
   "execution_count": 22,
   "metadata": {
    "execution": {
     "iopub.execute_input": "2020-08-13T10:14:10.152559Z",
     "iopub.status.busy": "2020-08-13T10:14:10.151936Z",
     "iopub.status.idle": "2020-08-13T10:14:10.172796Z",
     "shell.execute_reply": "2020-08-13T10:14:10.173342Z"
    },
    "papermill": {
     "duration": 0.066954,
     "end_time": "2020-08-13T10:14:10.173524",
     "exception": false,
     "start_time": "2020-08-13T10:14:10.106570",
     "status": "completed"
    },
    "tags": []
   },
   "outputs": [],
   "source": [
    "learner2 = Learner(loss, model_logistic, opt, config.num_epochs)\n",
    "acc2 = ClfCallback(learner2, config.bs, training_xdata , testing_xdata, training_ydata, testing_ydata)\n",
    "learner2.set_callbacks([acc2])"
   ]
  },
  {
   "cell_type": "code",
   "execution_count": 23,
   "metadata": {
    "execution": {
     "iopub.execute_input": "2020-08-13T10:14:10.260561Z",
     "iopub.status.busy": "2020-08-13T10:14:10.259909Z",
     "iopub.status.idle": "2020-08-13T10:14:30.090045Z",
     "shell.execute_reply": "2020-08-13T10:14:30.090899Z"
    },
    "papermill": {
     "duration": 19.877849,
     "end_time": "2020-08-13T10:14:30.091068",
     "exception": false,
     "start_time": "2020-08-13T10:14:10.213219",
     "status": "completed"
    },
    "tags": []
   },
   "outputs": [
    {
     "name": "stdout",
     "output_type": "stream",
     "text": [
      "Epoch 0 Loss 0.24070705019872798\n",
      "train accuracy is: 0.6808546152562177, test accuracy is 0.6683467741935484\n"
     ]
    },
    {
     "name": "stdout",
     "output_type": "stream",
     "text": [
      "Epoch 10 Loss 0.10102477643403425\n",
      "train accuracy is: 0.914037723251544, test accuracy is 0.9168346774193549\n"
     ]
    },
    {
     "name": "stdout",
     "output_type": "stream",
     "text": [
      "Epoch 20 Loss 0.07809580377956243\n",
      "train accuracy is: 0.9298948422633951, test accuracy is 0.9380040322580645\n"
     ]
    },
    {
     "name": "stdout",
     "output_type": "stream",
     "text": [
      "Epoch 30 Loss 0.06749847682032614\n",
      "train accuracy is: 0.9358203972625605, test accuracy is 0.9475806451612904\n"
     ]
    },
    {
     "name": "stdout",
     "output_type": "stream",
     "text": [
      "Epoch 40 Loss 0.0610945554179195\n",
      "train accuracy is: 0.9409948255716909, test accuracy is 0.953125\n"
     ]
    },
    {
     "name": "stdout",
     "output_type": "stream",
     "text": [
      "Epoch 50 Loss 0.05671372364904475\n",
      "train accuracy is: 0.9442497078951761, test accuracy is 0.9581653225806451\n"
     ]
    },
    {
     "name": "stdout",
     "output_type": "stream",
     "text": [
      "Epoch 60 Loss 0.05349243408355641\n",
      "train accuracy is: 0.9466700050075113, test accuracy is 0.9611895161290323\n"
     ]
    },
    {
     "name": "stdout",
     "output_type": "stream",
     "text": [
      "Epoch 70 Loss 0.05099990406634343\n",
      "train accuracy is: 0.9488399265565014, test accuracy is 0.9621975806451613\n"
     ]
    },
    {
     "name": "stdout",
     "output_type": "stream",
     "text": [
      "Epoch 80 Loss 0.04900136085111323\n",
      "train accuracy is: 0.9508429310632616, test accuracy is 0.9621975806451613\n"
     ]
    },
    {
     "name": "stdout",
     "output_type": "stream",
     "text": [
      "Epoch 90 Loss 0.047353896463608706\n",
      "train accuracy is: 0.9521782674011017, test accuracy is 0.9616935483870968\n"
     ]
    },
    {
     "name": "stdout",
     "output_type": "stream",
     "text": [
      "Epoch 100 Loss 0.045966040210697195\n",
      "train accuracy is: 0.9532632281755967, test accuracy is 0.9632056451612904\n"
     ]
    },
    {
     "name": "stdout",
     "output_type": "stream",
     "text": [
      "Epoch 110 Loss 0.04477647726027015\n",
      "train accuracy is: 0.9541812719078618, test accuracy is 0.9632056451612904\n"
     ]
    },
    {
     "name": "stdout",
     "output_type": "stream",
     "text": [
      "Epoch 120 Loss 0.04373903453270469\n",
      "train accuracy is: 0.9548489400767819, test accuracy is 0.9632056451612904\n"
     ]
    },
    {
     "name": "stdout",
     "output_type": "stream",
     "text": [
      "Epoch 130 Loss 0.04282743893770456\n",
      "train accuracy is: 0.9556000667668169, test accuracy is 0.9637096774193549\n"
     ]
    },
    {
     "name": "stdout",
     "output_type": "stream",
     "text": [
      "Epoch 140 Loss 0.042016201409655764\n",
      "train accuracy is: 0.956434651977967, test accuracy is 0.9647177419354839\n"
     ]
    },
    {
     "name": "stdout",
     "output_type": "stream",
     "text": [
      "Epoch 150 Loss 0.0412875610145682\n",
      "train accuracy is: 0.956851944583542, test accuracy is 0.9657258064516129\n"
     ]
    },
    {
     "name": "stdout",
     "output_type": "stream",
     "text": [
      "Epoch 160 Loss 0.04062965034088676\n",
      "train accuracy is: 0.956935403104657, test accuracy is 0.9662298387096774\n"
     ]
    },
    {
     "name": "stdout",
     "output_type": "stream",
     "text": [
      "Epoch 170 Loss 0.040029365683397676\n",
      "train accuracy is: 0.957436154231347, test accuracy is 0.9662298387096774\n"
     ]
    },
    {
     "name": "stdout",
     "output_type": "stream",
     "text": [
      "Epoch 180 Loss 0.03947986089673318\n",
      "train accuracy is: 0.958020363879152, test accuracy is 0.9657258064516129\n"
     ]
    },
    {
     "name": "stdout",
     "output_type": "stream",
     "text": [
      "Epoch 190 Loss 0.038975081849234386\n",
      "train accuracy is: 0.9583541979636121, test accuracy is 0.9662298387096774\n"
     ]
    },
    {
     "name": "stdout",
     "output_type": "stream",
     "text": [
      "Epoch 200 Loss 0.0385076257760211\n",
      "train accuracy is: 0.9588549490903021, test accuracy is 0.9657258064516129\n"
     ]
    },
    {
     "name": "stdout",
     "output_type": "stream",
     "text": [
      "Epoch 210 Loss 0.03807325912351996\n",
      "train accuracy is: 0.9589384076114171, test accuracy is 0.9657258064516129\n"
     ]
    },
    {
     "name": "stdout",
     "output_type": "stream",
     "text": [
      "Epoch 220 Loss 0.0376688154870814\n",
      "train accuracy is: 0.9591053246536472, test accuracy is 0.9652217741935484\n"
     ]
    },
    {
     "name": "stdout",
     "output_type": "stream",
     "text": [
      "Epoch 230 Loss 0.03729063545041629\n",
      "train accuracy is: 0.9593557002169921, test accuracy is 0.9662298387096774\n"
     ]
    },
    {
     "name": "stdout",
     "output_type": "stream",
     "text": [
      "Epoch 240 Loss 0.03693569186113801\n",
      "train accuracy is: 0.9596060757803372, test accuracy is 0.9667338709677419\n"
     ]
    },
    {
     "data": {
      "text/plain": [
       "0.028051659216314948"
      ]
     },
     "execution_count": 23,
     "metadata": {},
     "output_type": "execute_result"
    }
   ],
   "source": [
    "learner2.train_loop(dl)"
   ]
  },
  {
   "cell_type": "markdown",
   "metadata": {
    "papermill": {
     "duration": 0.055674,
     "end_time": "2020-08-13T10:14:30.200565",
     "exception": false,
     "start_time": "2020-08-13T10:14:30.144891",
     "status": "completed"
    },
    "tags": []
   },
   "source": [
    "### Comparing results of NN and LR"
   ]
  },
  {
   "cell_type": "code",
   "execution_count": 24,
   "metadata": {
    "execution": {
     "iopub.execute_input": "2020-08-13T10:14:30.311107Z",
     "iopub.status.busy": "2020-08-13T10:14:30.310440Z",
     "iopub.status.idle": "2020-08-13T10:14:30.573150Z",
     "shell.execute_reply": "2020-08-13T10:14:30.572609Z"
    },
    "papermill": {
     "duration": 0.322335,
     "end_time": "2020-08-13T10:14:30.573291",
     "exception": false,
     "start_time": "2020-08-13T10:14:30.250956",
     "status": "completed"
    },
    "tags": []
   },
   "outputs": [
    {
     "data": {
      "text/plain": [
       "<matplotlib.legend.Legend at 0x7f476028ff98>"
      ]
     },
     "execution_count": 24,
     "metadata": {},
     "output_type": "execute_result"
    },
    {
     "data": {
      "image/png": "[encoded data removed]",
      "text/plain": [
       "<Figure size 576x360 with 1 Axes>"
      ]
     },
     "metadata": {
      "needs_background": "light"
     },
     "output_type": "display_data"
    }
   ],
   "source": [
    "plt.figure(figsize=(8,5))\n",
    "plt.plot(acc1.val_accuracies, 'g-', label = \"Val Accuracies - NN\")\n",
    "plt.plot(acc1.accuracies, 'r-', label = \"Accuracies - NN\")\n",
    "plt.plot(acc2.val_accuracies, 'b-', label = \"Val Accuracies - Logistic Reg\")\n",
    "plt.plot(acc2.accuracies, 'k-', label = \"Accuracies - Logistic Reg\")\n",
    "plt.ylim(0.8,1) ## for a more spread out view\n",
    "plt.legend()"
   ]
  },
  {
   "cell_type": "markdown",
   "metadata": {
    "papermill": {
     "duration": 0.049284,
     "end_time": "2020-08-13T10:14:30.674566",
     "exception": false,
     "start_time": "2020-08-13T10:14:30.625282",
     "status": "completed"
    },
    "tags": []
   },
   "source": [
    "### Clearly NN has a better accuracy over LR; NN is overfitting - Validation accuracy (green) has dropped below training accuracy (orange), also they are diverging. This problem is not seen in LR"
   ]
  },
  {
   "cell_type": "markdown",
   "metadata": {
    "papermill": {
     "duration": 0.051354,
     "end_time": "2020-08-13T10:14:30.774702",
     "exception": false,
     "start_time": "2020-08-13T10:14:30.723348",
     "status": "completed"
    },
    "tags": []
   },
   "source": [
    "##### Now we will be moving through the network, till the output of the second last affine where we get a 2 dimensional output. We will be plotting this 2d output and probability contours"
   ]
  },
  {
   "cell_type": "code",
   "execution_count": 25,
   "metadata": {
    "execution": {
     "iopub.execute_input": "2020-08-13T10:14:30.887330Z",
     "iopub.status.busy": "2020-08-13T10:14:30.875936Z",
     "iopub.status.idle": "2020-08-13T10:14:30.889965Z",
     "shell.execute_reply": "2020-08-13T10:14:30.889236Z"
    },
    "papermill": {
     "duration": 0.066777,
     "end_time": "2020-08-13T10:14:30.890111",
     "exception": false,
     "start_time": "2020-08-13T10:14:30.823334",
     "status": "completed"
    },
    "tags": []
   },
   "outputs": [],
   "source": [
    "model_new = Model(layers[:-2])"
   ]
  },
  {
   "cell_type": "code",
   "execution_count": 26,
   "metadata": {
    "execution": {
     "iopub.execute_input": "2020-08-13T10:14:30.999121Z",
     "iopub.status.busy": "2020-08-13T10:14:30.998474Z",
     "iopub.status.idle": "2020-08-13T10:14:31.023609Z",
     "shell.execute_reply": "2020-08-13T10:14:31.024502Z"
    },
    "papermill": {
     "duration": 0.081091,
     "end_time": "2020-08-13T10:14:31.024692",
     "exception": false,
     "start_time": "2020-08-13T10:14:30.943601",
     "status": "completed"
    },
    "tags": []
   },
   "outputs": [],
   "source": [
    "plot_testing = model_new(testing_xdata)"
   ]
  },
  {
   "cell_type": "markdown",
   "metadata": {
    "papermill": {
     "duration": 0.052595,
     "end_time": "2020-08-13T10:14:31.130147",
     "exception": false,
     "start_time": "2020-08-13T10:14:31.077552",
     "status": "completed"
    },
    "tags": []
   },
   "source": [
    "##### Plotting the scatter plot of points and color coding by class"
   ]
  },
  {
   "cell_type": "code",
   "execution_count": 27,
   "metadata": {
    "execution": {
     "iopub.execute_input": "2020-08-13T10:14:31.277849Z",
     "iopub.status.busy": "2020-08-13T10:14:31.277233Z",
     "iopub.status.idle": "2020-08-13T10:14:31.501544Z",
     "shell.execute_reply": "2020-08-13T10:14:31.502048Z"
    },
    "papermill": {
     "duration": 0.284686,
     "end_time": "2020-08-13T10:14:31.502214",
     "exception": false,
     "start_time": "2020-08-13T10:14:31.217528",
     "status": "completed"
    },
    "tags": []
   },
   "outputs": [
    {
     "data": {
      "image/png": "[encoded data removed]",
      "text/plain": [
       "<Figure size 576x504 with 1 Axes>"
      ]
     },
     "metadata": {
      "needs_background": "light"
     },
     "output_type": "display_data"
    }
   ],
   "source": [
    "plt.figure(figsize=(8,7))\n",
    "plt.scatter(plot_testing[:,0], plot_testing[:,1], alpha = 0.1, c = y_test.ravel());"
   ]
  },
  {
   "cell_type": "markdown",
   "metadata": {
    "papermill": {
     "duration": 0.050375,
     "end_time": "2020-08-13T10:14:31.603810",
     "exception": false,
     "start_time": "2020-08-13T10:14:31.553435",
     "status": "completed"
    },
    "tags": []
   },
   "source": [
    "##### Plotting probability contours"
   ]
  },
  {
   "cell_type": "code",
   "execution_count": 28,
   "metadata": {
    "execution": {
     "iopub.execute_input": "2020-08-13T10:14:31.709865Z",
     "iopub.status.busy": "2020-08-13T10:14:31.709250Z",
     "iopub.status.idle": "2020-08-13T10:14:31.723441Z",
     "shell.execute_reply": "2020-08-13T10:14:31.723961Z"
    },
    "papermill": {
     "duration": 0.069276,
     "end_time": "2020-08-13T10:14:31.724125",
     "exception": false,
     "start_time": "2020-08-13T10:14:31.654849",
     "status": "completed"
    },
    "tags": []
   },
   "outputs": [],
   "source": [
    "model_prob = Model(layers[-2:]) ## picking only last two layers to get probability. That is affine followed by sigmoid"
   ]
  },
  {
   "cell_type": "code",
   "execution_count": 29,
   "metadata": {
    "execution": {
     "iopub.execute_input": "2020-08-13T10:14:31.842422Z",
     "iopub.status.busy": "2020-08-13T10:14:31.841770Z",
     "iopub.status.idle": "2020-08-13T10:14:31.858027Z",
     "shell.execute_reply": "2020-08-13T10:14:31.858678Z"
    },
    "papermill": {
     "duration": 0.079999,
     "end_time": "2020-08-13T10:14:31.858875",
     "exception": false,
     "start_time": "2020-08-13T10:14:31.778876",
     "status": "completed"
    },
    "tags": []
   },
   "outputs": [],
   "source": [
    "xgrid = np.linspace(-4, 1, 100) ## Adjust these values based on above chart, roughly -4 to 1\n",
    "ygrid = np.linspace(-7.5, 7.5, 100) ## Adjust these values based on above chart, roughly -7.5, 7.5\n",
    "xg, yg = np.meshgrid(xgrid, ygrid)\n",
    "# xg and yg are now both 100X100, lets convert them to single arrays \n",
    "\n",
    "xg_interim = np.ravel(xg)\n",
    "yg_interim = np.ravel(yg)\n",
    "\n",
    "## xg_interim, yg_interim are now arrays of len 10000, now we will stack them and then transpose to get desired shape of n rows, 2 columns\n",
    "\n",
    "X_interim = np.vstack((xg_interim, yg_interim)) ## Please note vstack takes in a tuple\n",
    "X = X_interim.T\n",
    "\n",
    "## We want a shape of n rows and 2 columns to be able to feed this to last affine\n",
    "## This last affine takes only two columns, hence the above transformation\n",
    "probability_contour = model_prob(X).reshape(100,100) ## to make it consistent with xg, yg"
   ]
  },
  {
   "cell_type": "code",
   "execution_count": 30,
   "metadata": {
    "execution": {
     "iopub.execute_input": "2020-08-13T10:14:31.965568Z",
     "iopub.status.busy": "2020-08-13T10:14:31.964949Z",
     "iopub.status.idle": "2020-08-13T10:14:32.243412Z",
     "shell.execute_reply": "2020-08-13T10:14:32.244062Z"
    },
    "papermill": {
     "duration": 0.334023,
     "end_time": "2020-08-13T10:14:32.244236",
     "exception": false,
     "start_time": "2020-08-13T10:14:31.910213",
     "status": "completed"
    },
    "tags": []
   },
   "outputs": [
    {
     "data": {
      "image/png": "[encoded data removed]",
      "text/plain": [
       "<Figure size 576x504 with 1 Axes>"
      ]
     },
     "metadata": {
      "needs_background": "light"
     },
     "output_type": "display_data"
    }
   ],
   "source": [
    "plt.figure(figsize=(8,7))\n",
    "plt.scatter(plot_testing[:,0], plot_testing[:,1], alpha = 0.1, c = y_test.ravel())\n",
    "contours = plt.contour(xg,yg,probability_contour)\n",
    "plt.clabel(contours, inline = True );"
   ]
  }
 ],
 "metadata": {
  "kernelspec": {
   "display_name": "Python 3",
   "language": "python",
   "name": "python3"
  },
  "language_info": {
   "codemirror_mode": {
    "name": "ipython",
    "version": 3
   },
   "file_extension": ".py",
   "mimetype": "text/x-python",
   "name": "python",
   "nbconvert_exporter": "python",
   "pygments_lexer": "ipython3",
   "version": "3.6.11"
  },
  "papermill": {
   "duration": 136.05836,
   "end_time": "2020-08-13T10:14:32.715716",
   "environment_variables": {},
   "exception": null,
   "input_path": "2020-08-07-NN-new.ipynb",
   "output_path": "2020-08-07-NN-new.ipynb",
   "parameters": {},
   "start_time": "2020-08-13T10:12:16.657356",
   "version": "2.1.2"
  }
 },
 "nbformat": 4,
 "nbformat_minor": 4
}