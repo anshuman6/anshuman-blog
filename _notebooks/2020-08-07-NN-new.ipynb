{
 "cells": [
  {
   "cell_type": "markdown",
   "metadata": {
    "papermill": {
     "duration": 0.033134,
     "end_time": "2020-08-16T00:28:02.274400",
     "exception": false,
     "start_time": "2020-08-16T00:28:02.241266",
     "status": "completed"
    },
    "tags": []
   },
   "source": [
    "# \"Building a basic Neural Network from scratch - Kudzu\"\n",
    "\n",
    "- badges: true\n",
    "- author: Anshuman Gupta"
   ]
  },
  {
   "cell_type": "markdown",
   "metadata": {
    "papermill": {
     "duration": 0.028731,
     "end_time": "2020-08-16T00:28:02.332396",
     "exception": false,
     "start_time": "2020-08-16T00:28:02.303665",
     "status": "completed"
    },
    "tags": []
   },
   "source": [
    "#### In this project, the idea is to write a classifier to differentiate between handwritten digits 3 and 8, from the MNIST database.\n",
    "\n",
    "#### I will using a custom built neural network library called Kudzu.This has been developed as a part of KTF/Foundations course of Univ.ai (www.univ.ai). The source code for Kudzu Library and and this notebook can be found on my git-hub profile : www.https://github.com/anshuman6 under the folder project-solution. Any feedback and comments are welcome. Please feel free to email me at: anshuman6@gmail.com\n",
    "\n",
    "#### 1. I will be using the MNIST database. \n",
    "\n",
    "#### 2. I will be comparing the results of the 4 layer NN to a standard logistic regression"
   ]
  },
  {
   "cell_type": "markdown",
   "metadata": {
    "papermill": {
     "duration": 0.028164,
     "end_time": "2020-08-16T00:28:02.388876",
     "exception": false,
     "start_time": "2020-08-16T00:28:02.360712",
     "status": "completed"
    },
    "tags": []
   },
   "source": [
    "##### Importing all the necessary libraries"
   ]
  },
  {
   "cell_type": "code",
   "execution_count": 1,
   "metadata": {
    "execution": {
     "iopub.execute_input": "2020-08-16T00:28:02.456498Z",
     "iopub.status.busy": "2020-08-16T00:28:02.454646Z",
     "iopub.status.idle": "2020-08-16T00:28:02.466731Z",
     "shell.execute_reply": "2020-08-16T00:28:02.466097Z"
    },
    "papermill": {
     "duration": 0.048794,
     "end_time": "2020-08-16T00:28:02.466898",
     "exception": false,
     "start_time": "2020-08-16T00:28:02.418104",
     "status": "completed"
    },
    "tags": []
   },
   "outputs": [],
   "source": [
    "%load_ext autoreload\n",
    "%autoreload 2"
   ]
  },
  {
   "cell_type": "code",
   "execution_count": 2,
   "metadata": {
    "execution": {
     "iopub.execute_input": "2020-08-16T00:28:02.528989Z",
     "iopub.status.busy": "2020-08-16T00:28:02.528180Z",
     "iopub.status.idle": "2020-08-16T00:28:03.145552Z",
     "shell.execute_reply": "2020-08-16T00:28:03.146158Z"
    },
    "papermill": {
     "duration": 0.650717,
     "end_time": "2020-08-16T00:28:03.146354",
     "exception": false,
     "start_time": "2020-08-16T00:28:02.495637",
     "status": "completed"
    },
    "tags": []
   },
   "outputs": [],
   "source": [
    "%matplotlib inline\n",
    "import numpy as np\n",
    "import matplotlib.pyplot as plt\n",
    "import pandas as pd"
   ]
  },
  {
   "cell_type": "markdown",
   "metadata": {
    "papermill": {
     "duration": 0.027885,
     "end_time": "2020-08-16T00:28:03.203604",
     "exception": false,
     "start_time": "2020-08-16T00:28:03.175719",
     "status": "completed"
    },
    "tags": []
   },
   "source": [
    "##### The following command helps us download MNIST from notebook itself. You can skip this if you already have MNIST. You can also download it via your terminal."
   ]
  },
  {
   "cell_type": "code",
   "execution_count": 3,
   "metadata": {
    "execution": {
     "iopub.execute_input": "2020-08-16T00:28:03.264202Z",
     "iopub.status.busy": "2020-08-16T00:28:03.263612Z",
     "iopub.status.idle": "2020-08-16T00:28:04.785537Z",
     "shell.execute_reply": "2020-08-16T00:28:04.784345Z"
    },
    "papermill": {
     "duration": 1.554032,
     "end_time": "2020-08-16T00:28:04.785695",
     "exception": false,
     "start_time": "2020-08-16T00:28:03.231663",
     "status": "completed"
    },
    "tags": []
   },
   "outputs": [
    {
     "name": "stdout",
     "output_type": "stream",
     "text": [
      "Collecting mnist\r\n"
     ]
    },
    {
     "name": "stdout",
     "output_type": "stream",
     "text": [
      "  Downloading mnist-0.2.2-py2.py3-none-any.whl (3.5 kB)\r\n"
     ]
    },
    {
     "name": "stdout",
     "output_type": "stream",
     "text": [
      "Requirement already satisfied: numpy in /opt/hostedtoolcache/Python/3.6.11/x64/lib/python3.6/site-packages (from mnist) (1.19.1)\r\n"
     ]
    },
    {
     "name": "stdout",
     "output_type": "stream",
     "text": [
      "Installing collected packages: mnist\r\n",
      "Successfully installed mnist-0.2.2\r\n"
     ]
    },
    {
     "name": "stdout",
     "output_type": "stream",
     "text": [
      "\u001b[33mWARNING: You are using pip version 20.2.1; however, version 20.2.2 is available.\r\n",
      "You should consider upgrading via the '/opt/hostedtoolcache/Python/3.6.11/x64/bin/python -m pip install --upgrade pip' command.\u001b[0m\r\n"
     ]
    }
   ],
   "source": [
    "!pip install mnist # Please note, it is commented out for now, you can remove comment if you want to install it"
   ]
  },
  {
   "cell_type": "markdown",
   "metadata": {
    "papermill": {
     "duration": 0.030857,
     "end_time": "2020-08-16T00:28:04.847270",
     "exception": false,
     "start_time": "2020-08-16T00:28:04.816413",
     "status": "completed"
    },
    "tags": []
   },
   "source": [
    "#### Preparing the Data"
   ]
  },
  {
   "cell_type": "code",
   "execution_count": 4,
   "metadata": {
    "execution": {
     "iopub.execute_input": "2020-08-16T00:28:04.918139Z",
     "iopub.status.busy": "2020-08-16T00:28:04.911239Z",
     "iopub.status.idle": "2020-08-16T00:28:04.928013Z",
     "shell.execute_reply": "2020-08-16T00:28:04.928470Z"
    },
    "papermill": {
     "duration": 0.051214,
     "end_time": "2020-08-16T00:28:04.928633",
     "exception": false,
     "start_time": "2020-08-16T00:28:04.877419",
     "status": "completed"
    },
    "tags": []
   },
   "outputs": [],
   "source": [
    "import mnist"
   ]
  },
  {
   "cell_type": "code",
   "execution_count": 5,
   "metadata": {
    "execution": {
     "iopub.execute_input": "2020-08-16T00:28:04.991896Z",
     "iopub.status.busy": "2020-08-16T00:28:04.991307Z",
     "iopub.status.idle": "2020-08-16T00:28:05.703493Z",
     "shell.execute_reply": "2020-08-16T00:28:05.702954Z"
    },
    "papermill": {
     "duration": 0.744966,
     "end_time": "2020-08-16T00:28:05.703637",
     "exception": false,
     "start_time": "2020-08-16T00:28:04.958671",
     "status": "completed"
    },
    "tags": []
   },
   "outputs": [],
   "source": [
    "train_images = mnist.train_images()\n",
    "train_labels = mnist.train_labels()"
   ]
  },
  {
   "cell_type": "code",
   "execution_count": 6,
   "metadata": {
    "execution": {
     "iopub.execute_input": "2020-08-16T00:28:05.770110Z",
     "iopub.status.busy": "2020-08-16T00:28:05.769371Z",
     "iopub.status.idle": "2020-08-16T00:28:05.785072Z",
     "shell.execute_reply": "2020-08-16T00:28:05.785536Z"
    },
    "papermill": {
     "duration": 0.050154,
     "end_time": "2020-08-16T00:28:05.785695",
     "exception": false,
     "start_time": "2020-08-16T00:28:05.735541",
     "status": "completed"
    },
    "tags": []
   },
   "outputs": [
    {
     "data": {
      "text/plain": [
       "((60000, 28, 28), (60000,))"
      ]
     },
     "execution_count": 6,
     "metadata": {},
     "output_type": "execute_result"
    }
   ],
   "source": [
    "train_images.shape, train_labels.shape"
   ]
  },
  {
   "cell_type": "code",
   "execution_count": 7,
   "metadata": {
    "execution": {
     "iopub.execute_input": "2020-08-16T00:28:05.850005Z",
     "iopub.status.busy": "2020-08-16T00:28:05.849420Z",
     "iopub.status.idle": "2020-08-16T00:28:06.122994Z",
     "shell.execute_reply": "2020-08-16T00:28:06.122460Z"
    },
    "papermill": {
     "duration": 0.307152,
     "end_time": "2020-08-16T00:28:06.123141",
     "exception": false,
     "start_time": "2020-08-16T00:28:05.815989",
     "status": "completed"
    },
    "tags": []
   },
   "outputs": [],
   "source": [
    "test_images = mnist.test_images()\n",
    "test_labels = mnist.test_labels()"
   ]
  },
  {
   "cell_type": "code",
   "execution_count": 8,
   "metadata": {
    "execution": {
     "iopub.execute_input": "2020-08-16T00:28:06.189836Z",
     "iopub.status.busy": "2020-08-16T00:28:06.188997Z",
     "iopub.status.idle": "2020-08-16T00:28:06.202971Z",
     "shell.execute_reply": "2020-08-16T00:28:06.202206Z"
    },
    "papermill": {
     "duration": 0.049296,
     "end_time": "2020-08-16T00:28:06.203111",
     "exception": false,
     "start_time": "2020-08-16T00:28:06.153815",
     "status": "completed"
    },
    "tags": []
   },
   "outputs": [
    {
     "data": {
      "text/plain": [
       "((10000, 28, 28), (10000,))"
      ]
     },
     "execution_count": 8,
     "metadata": {},
     "output_type": "execute_result"
    }
   ],
   "source": [
    "test_images.shape, test_labels.shape"
   ]
  },
  {
   "cell_type": "code",
   "execution_count": 9,
   "metadata": {
    "execution": {
     "iopub.execute_input": "2020-08-16T00:28:06.275239Z",
     "iopub.status.busy": "2020-08-16T00:28:06.274504Z",
     "iopub.status.idle": "2020-08-16T00:28:06.436238Z",
     "shell.execute_reply": "2020-08-16T00:28:06.436706Z"
    },
    "papermill": {
     "duration": 0.197974,
     "end_time": "2020-08-16T00:28:06.436869",
     "exception": false,
     "start_time": "2020-08-16T00:28:06.238895",
     "status": "completed"
    },
    "tags": []
   },
   "outputs": [
    {
     "name": "stdout",
     "output_type": "stream",
     "text": [
      "2\n"
     ]
    },
    {
     "data": {
      "text/plain": [
       "<matplotlib.image.AxesImage at 0x7fdf093fe2b0>"
      ]
     },
     "execution_count": 9,
     "metadata": {},
     "output_type": "execute_result"
    },
    {
     "data": {
      "image/png": "[encoded data removed]",
      "text/plain": [
       "<Figure size 432x288 with 1 Axes>"
      ]
     },
     "metadata": {
      "needs_background": "light"
     },
     "output_type": "display_data"
    }
   ],
   "source": [
    "image_index = 7776 # You may select anything up to 60,000\n",
    "print(train_labels[image_index]) \n",
    "plt.imshow(train_images[image_index], cmap='Greys')"
   ]
  },
  {
   "cell_type": "markdown",
   "metadata": {
    "papermill": {
     "duration": 0.033351,
     "end_time": "2020-08-16T00:28:06.503200",
     "exception": false,
     "start_time": "2020-08-16T00:28:06.469849",
     "status": "completed"
    },
    "tags": []
   },
   "source": [
    "## Filter data to get 3 and 8 out"
   ]
  },
  {
   "cell_type": "code",
   "execution_count": 10,
   "metadata": {
    "execution": {
     "iopub.execute_input": "2020-08-16T00:28:06.570948Z",
     "iopub.status.busy": "2020-08-16T00:28:06.570350Z",
     "iopub.status.idle": "2020-08-16T00:28:06.592804Z",
     "shell.execute_reply": "2020-08-16T00:28:06.592261Z"
    },
    "papermill": {
     "duration": 0.058292,
     "end_time": "2020-08-16T00:28:06.592939",
     "exception": false,
     "start_time": "2020-08-16T00:28:06.534647",
     "status": "completed"
    },
    "tags": []
   },
   "outputs": [],
   "source": [
    "train_filter = np.where((train_labels == 3 ) | (train_labels == 8))\n",
    "test_filter = np.where((test_labels == 3) | (test_labels == 8))\n",
    "X_train, y_train = train_images[train_filter], train_labels[train_filter]\n",
    "X_test, y_test = test_images[test_filter], test_labels[test_filter]"
   ]
  },
  {
   "cell_type": "markdown",
   "metadata": {
    "papermill": {
     "duration": 0.031405,
     "end_time": "2020-08-16T00:28:06.656943",
     "exception": false,
     "start_time": "2020-08-16T00:28:06.625538",
     "status": "completed"
    },
    "tags": []
   },
   "source": [
    "##### We normalize the pizel values in the 0 to 1 range"
   ]
  },
  {
   "cell_type": "code",
   "execution_count": 11,
   "metadata": {
    "execution": {
     "iopub.execute_input": "2020-08-16T00:28:06.724452Z",
     "iopub.status.busy": "2020-08-16T00:28:06.723853Z",
     "iopub.status.idle": "2020-08-16T00:28:06.778355Z",
     "shell.execute_reply": "2020-08-16T00:28:06.777818Z"
    },
    "papermill": {
     "duration": 0.090248,
     "end_time": "2020-08-16T00:28:06.778503",
     "exception": false,
     "start_time": "2020-08-16T00:28:06.688255",
     "status": "completed"
    },
    "tags": []
   },
   "outputs": [],
   "source": [
    "X_train = X_train/255.\n",
    "X_test = X_test/255."
   ]
  },
  {
   "cell_type": "markdown",
   "metadata": {
    "papermill": {
     "duration": 0.03104,
     "end_time": "2020-08-16T00:28:06.840611",
     "exception": false,
     "start_time": "2020-08-16T00:28:06.809571",
     "status": "completed"
    },
    "tags": []
   },
   "source": [
    "And setup the labels as 1 (when the digit is 3) and 0 (when the digit is 8)"
   ]
  },
  {
   "cell_type": "code",
   "execution_count": 12,
   "metadata": {
    "execution": {
     "iopub.execute_input": "2020-08-16T00:28:06.906268Z",
     "iopub.status.busy": "2020-08-16T00:28:06.905676Z",
     "iopub.status.idle": "2020-08-16T00:28:06.922043Z",
     "shell.execute_reply": "2020-08-16T00:28:06.921539Z"
    },
    "papermill": {
     "duration": 0.050793,
     "end_time": "2020-08-16T00:28:06.922190",
     "exception": false,
     "start_time": "2020-08-16T00:28:06.871397",
     "status": "completed"
    },
    "tags": []
   },
   "outputs": [],
   "source": [
    "y_train = 1*(y_train==3)\n",
    "y_test = 1*(y_test==3)"
   ]
  },
  {
   "cell_type": "code",
   "execution_count": 13,
   "metadata": {
    "execution": {
     "iopub.execute_input": "2020-08-16T00:28:06.988159Z",
     "iopub.status.busy": "2020-08-16T00:28:06.987192Z",
     "iopub.status.idle": "2020-08-16T00:28:07.003053Z",
     "shell.execute_reply": "2020-08-16T00:28:07.002564Z"
    },
    "papermill": {
     "duration": 0.050161,
     "end_time": "2020-08-16T00:28:07.003188",
     "exception": false,
     "start_time": "2020-08-16T00:28:06.953027",
     "status": "completed"
    },
    "tags": []
   },
   "outputs": [
    {
     "data": {
      "text/plain": [
       "((11982, 28, 28), (1984, 28, 28))"
      ]
     },
     "execution_count": 13,
     "metadata": {},
     "output_type": "execute_result"
    }
   ],
   "source": [
    "X_train.shape, X_test.shape"
   ]
  },
  {
   "cell_type": "markdown",
   "metadata": {
    "papermill": {
     "duration": 0.032139,
     "end_time": "2020-08-16T00:28:07.067237",
     "exception": false,
     "start_time": "2020-08-16T00:28:07.035098",
     "status": "completed"
    },
    "tags": []
   },
   "source": [
    "##### We reshape the data to flatten the image pixels into a set of features or co-variates:"
   ]
  },
  {
   "cell_type": "code",
   "execution_count": 14,
   "metadata": {
    "execution": {
     "iopub.execute_input": "2020-08-16T00:28:07.137304Z",
     "iopub.status.busy": "2020-08-16T00:28:07.136648Z",
     "iopub.status.idle": "2020-08-16T00:28:07.150810Z",
     "shell.execute_reply": "2020-08-16T00:28:07.151263Z"
    },
    "papermill": {
     "duration": 0.051661,
     "end_time": "2020-08-16T00:28:07.151420",
     "exception": false,
     "start_time": "2020-08-16T00:28:07.099759",
     "status": "completed"
    },
    "tags": []
   },
   "outputs": [
    {
     "data": {
      "text/plain": [
       "((11982, 784), (1984, 784))"
      ]
     },
     "execution_count": 14,
     "metadata": {},
     "output_type": "execute_result"
    }
   ],
   "source": [
    "X_train = X_train.reshape(X_train.shape[0], -1)\n",
    "X_test = X_test.reshape(X_test.shape[0], -1)\n",
    "X_train.shape, X_test.shape"
   ]
  },
  {
   "cell_type": "markdown",
   "metadata": {
    "papermill": {
     "duration": 0.032777,
     "end_time": "2020-08-16T00:28:07.219695",
     "exception": false,
     "start_time": "2020-08-16T00:28:07.186918",
     "status": "completed"
    },
    "tags": []
   },
   "source": [
    "##### Importing Kudzu library and its functionality"
   ]
  },
  {
   "cell_type": "code",
   "execution_count": 15,
   "metadata": {
    "execution": {
     "iopub.execute_input": "2020-08-16T00:28:07.288749Z",
     "iopub.status.busy": "2020-08-16T00:28:07.288125Z",
     "iopub.status.idle": "2020-08-16T00:28:07.308863Z",
     "shell.execute_reply": "2020-08-16T00:28:07.308320Z"
    },
    "papermill": {
     "duration": 0.057415,
     "end_time": "2020-08-16T00:28:07.309061",
     "exception": false,
     "start_time": "2020-08-16T00:28:07.251646",
     "status": "completed"
    },
    "tags": []
   },
   "outputs": [],
   "source": [
    "from kudzu.data import Data, Dataloader, Sampler\n",
    "from kudzu.callbacks import AccCallback\n",
    "from kudzu.loss import MSE\n",
    "from kudzu.layer import Affine, Sigmoid\n",
    "from kudzu.model import Model\n",
    "from kudzu.optim import GD\n",
    "from kudzu.train import Learner\n",
    "from kudzu.callbacks import ClfCallback\n",
    "from kudzu.layer import Sigmoid\n",
    "from kudzu.layer import Relu"
   ]
  },
  {
   "cell_type": "markdown",
   "metadata": {
    "papermill": {
     "duration": 0.03177,
     "end_time": "2020-08-16T00:28:07.372740",
     "exception": false,
     "start_time": "2020-08-16T00:28:07.340970",
     "status": "completed"
    },
    "tags": []
   },
   "source": [
    "##### We are creating a class, just so that we can use it to store our parameters for us"
   ]
  },
  {
   "cell_type": "code",
   "execution_count": 16,
   "metadata": {
    "execution": {
     "iopub.execute_input": "2020-08-16T00:28:07.443246Z",
     "iopub.status.busy": "2020-08-16T00:28:07.442581Z",
     "iopub.status.idle": "2020-08-16T00:28:07.457778Z",
     "shell.execute_reply": "2020-08-16T00:28:07.457269Z"
    },
    "papermill": {
     "duration": 0.052532,
     "end_time": "2020-08-16T00:28:07.457916",
     "exception": false,
     "start_time": "2020-08-16T00:28:07.405384",
     "status": "completed"
    },
    "tags": []
   },
   "outputs": [],
   "source": [
    "class Config:\n",
    "    pass\n",
    "config = Config()\n",
    "config.lr = 0.001\n",
    "config.num_epochs = 250\n",
    "config.bs = 50"
   ]
  },
  {
   "cell_type": "markdown",
   "metadata": {
    "papermill": {
     "duration": 0.032491,
     "end_time": "2020-08-16T00:28:07.522066",
     "exception": false,
     "start_time": "2020-08-16T00:28:07.489575",
     "status": "completed"
    },
    "tags": []
   },
   "source": [
    "##### Initializing Data"
   ]
  },
  {
   "cell_type": "code",
   "execution_count": 17,
   "metadata": {
    "execution": {
     "iopub.execute_input": "2020-08-16T00:28:07.592118Z",
     "iopub.status.busy": "2020-08-16T00:28:07.591518Z",
     "iopub.status.idle": "2020-08-16T00:28:07.605637Z",
     "shell.execute_reply": "2020-08-16T00:28:07.606104Z"
    },
    "papermill": {
     "duration": 0.050956,
     "end_time": "2020-08-16T00:28:07.606266",
     "exception": false,
     "start_time": "2020-08-16T00:28:07.555310",
     "status": "completed"
    },
    "tags": []
   },
   "outputs": [],
   "source": [
    "data = Data(X_train, y_train.reshape(-1,1))\n",
    "loss = MSE()\n",
    "opt = GD(config.lr)\n",
    "sampler = Sampler(data, config.bs, shuffle=True)\n",
    "dl = Dataloader(data, sampler)"
   ]
  },
  {
   "cell_type": "markdown",
   "metadata": {
    "papermill": {
     "duration": 0.030922,
     "end_time": "2020-08-16T00:28:07.668490",
     "exception": false,
     "start_time": "2020-08-16T00:28:07.637568",
     "status": "completed"
    },
    "tags": []
   },
   "source": [
    "##### Constructing 2 different layers, one for NN and one only for logistic regression."
   ]
  },
  {
   "cell_type": "markdown",
   "metadata": {
    "papermill": {
     "duration": 0.03107,
     "end_time": "2020-08-16T00:28:07.730759",
     "exception": false,
     "start_time": "2020-08-16T00:28:07.699689",
     "status": "completed"
    },
    "tags": []
   },
   "source": [
    "##### Creating containers for data to be passed, to calculate accuracies"
   ]
  },
  {
   "cell_type": "code",
   "execution_count": 18,
   "metadata": {
    "execution": {
     "iopub.execute_input": "2020-08-16T00:28:07.808668Z",
     "iopub.status.busy": "2020-08-16T00:28:07.808040Z",
     "iopub.status.idle": "2020-08-16T00:28:07.814393Z",
     "shell.execute_reply": "2020-08-16T00:28:07.814848Z"
    },
    "papermill": {
     "duration": 0.053398,
     "end_time": "2020-08-16T00:28:07.815010",
     "exception": false,
     "start_time": "2020-08-16T00:28:07.761612",
     "status": "completed"
    },
    "tags": []
   },
   "outputs": [],
   "source": [
    "training_xdata = X_train\n",
    "testing_xdata = X_test\n",
    "training_ydata = y_train.reshape(-1,1)\n",
    "testing_ydata = y_test.reshape(-1,1)"
   ]
  },
  {
   "cell_type": "markdown",
   "metadata": {
    "papermill": {
     "duration": 0.032524,
     "end_time": "2020-08-16T00:28:07.879608",
     "exception": false,
     "start_time": "2020-08-16T00:28:07.847084",
     "status": "completed"
    },
    "tags": []
   },
   "source": [
    "##### Initializing models and Running training loop: "
   ]
  },
  {
   "cell_type": "code",
   "execution_count": 19,
   "metadata": {
    "execution": {
     "iopub.execute_input": "2020-08-16T00:28:07.947852Z",
     "iopub.status.busy": "2020-08-16T00:28:07.947154Z",
     "iopub.status.idle": "2020-08-16T00:28:07.965598Z",
     "shell.execute_reply": "2020-08-16T00:28:07.965105Z"
    },
    "papermill": {
     "duration": 0.054686,
     "end_time": "2020-08-16T00:28:07.965734",
     "exception": false,
     "start_time": "2020-08-16T00:28:07.911048",
     "status": "completed"
    },
    "tags": []
   },
   "outputs": [],
   "source": [
    "layers = [Affine(\"first\", 784, 100), Relu(\"first\"), Affine(\"second\", 100, 100), Relu(\"second\"), Affine(\"third\", 100, 2), Affine(\"final\", 2, 1), Sigmoid(\"final\")]\n",
    "\n",
    "model_neural = Model(layers)\n",
    "model_logistic = Model([Affine(\"logits\", 784, 1), Sigmoid(\"sigmoid\")])"
   ]
  },
  {
   "cell_type": "code",
   "execution_count": 20,
   "metadata": {
    "execution": {
     "iopub.execute_input": "2020-08-16T00:28:08.032869Z",
     "iopub.status.busy": "2020-08-16T00:28:08.032270Z",
     "iopub.status.idle": "2020-08-16T00:28:08.045614Z",
     "shell.execute_reply": "2020-08-16T00:28:08.045080Z"
    },
    "papermill": {
     "duration": 0.048637,
     "end_time": "2020-08-16T00:28:08.045747",
     "exception": false,
     "start_time": "2020-08-16T00:28:07.997110",
     "status": "completed"
    },
    "tags": []
   },
   "outputs": [],
   "source": [
    "learner1 = Learner(loss, model_neural, opt, config.num_epochs)\n",
    "acc1 = ClfCallback(learner1, config.bs, training_xdata , testing_xdata, training_ydata, testing_ydata)\n",
    "learner1.set_callbacks([acc1])"
   ]
  },
  {
   "cell_type": "code",
   "execution_count": 21,
   "metadata": {
    "execution": {
     "iopub.execute_input": "2020-08-16T00:28:08.116616Z",
     "iopub.status.busy": "2020-08-16T00:28:08.116029Z",
     "iopub.status.idle": "2020-08-16T00:29:44.358220Z",
     "shell.execute_reply": "2020-08-16T00:29:44.357389Z"
    },
    "papermill": {
     "duration": 96.278772,
     "end_time": "2020-08-16T00:29:44.358367",
     "exception": false,
     "start_time": "2020-08-16T00:28:08.079595",
     "status": "completed"
    },
    "tags": []
   },
   "outputs": [
    {
     "name": "stdout",
     "output_type": "stream",
     "text": [
      "Epoch 0 Loss 0.26457860916444426\n",
      "train accuracy is: 0.5321315306292772, test accuracy is 0.5554435483870968\n"
     ]
    },
    {
     "name": "stdout",
     "output_type": "stream",
     "text": [
      "Epoch 10 Loss 0.08892429447122158\n",
      "train accuracy is: 0.9260557502921049, test accuracy is 0.9274193548387096\n"
     ]
    },
    {
     "name": "stdout",
     "output_type": "stream",
     "text": [
      "Epoch 20 Loss 0.05367350859662661\n",
      "train accuracy is: 0.9450842931063261, test accuracy is 0.9475806451612904\n"
     ]
    },
    {
     "name": "stdout",
     "output_type": "stream",
     "text": [
      "Epoch 30 Loss 0.04274103115051799\n",
      "train accuracy is: 0.9530963111333667, test accuracy is 0.9576612903225806\n"
     ]
    },
    {
     "name": "stdout",
     "output_type": "stream",
     "text": [
      "Epoch 40 Loss 0.03714901522118387\n",
      "train accuracy is: 0.9581872809213821, test accuracy is 0.9616935483870968\n"
     ]
    },
    {
     "name": "stdout",
     "output_type": "stream",
     "text": [
      "Epoch 50 Loss 0.03363921140102484\n",
      "train accuracy is: 0.9609414121181773, test accuracy is 0.9621975806451613\n"
     ]
    },
    {
     "name": "stdout",
     "output_type": "stream",
     "text": [
      "Epoch 60 Loss 0.031196534949069668\n",
      "train accuracy is: 0.9643632114838925, test accuracy is 0.9647177419354839\n"
     ]
    },
    {
     "name": "stdout",
     "output_type": "stream",
     "text": [
      "Epoch 70 Loss 0.02933934630252893\n",
      "train accuracy is: 0.9661992989484226, test accuracy is 0.9662298387096774\n"
     ]
    },
    {
     "name": "stdout",
     "output_type": "stream",
     "text": [
      "Epoch 80 Loss 0.02785544425128614\n",
      "train accuracy is: 0.9677015523284928, test accuracy is 0.9662298387096774\n"
     ]
    },
    {
     "name": "stdout",
     "output_type": "stream",
     "text": [
      "Epoch 90 Loss 0.026631123242311046\n",
      "train accuracy is: 0.9689534301452178, test accuracy is 0.9672379032258065\n"
     ]
    },
    {
     "name": "stdout",
     "output_type": "stream",
     "text": [
      "Epoch 100 Loss 0.025599225268945088\n",
      "train accuracy is: 0.970956434651978, test accuracy is 0.9672379032258065\n"
     ]
    },
    {
     "name": "stdout",
     "output_type": "stream",
     "text": [
      "Epoch 110 Loss 0.024709982238124716\n",
      "train accuracy is: 0.971206810215323, test accuracy is 0.96875\n"
     ]
    },
    {
     "name": "stdout",
     "output_type": "stream",
     "text": [
      "Epoch 120 Loss 0.023920424770168452\n",
      "train accuracy is: 0.971874478384243, test accuracy is 0.9692540322580645\n"
     ]
    },
    {
     "name": "stdout",
     "output_type": "stream",
     "text": [
      "Epoch 130 Loss 0.023221956079330378\n",
      "train accuracy is: 0.9731263562009681, test accuracy is 0.96875\n"
     ]
    },
    {
     "name": "stdout",
     "output_type": "stream",
     "text": [
      "Epoch 140 Loss 0.022584171746278147\n",
      "train accuracy is: 0.9735436488065431, test accuracy is 0.969758064516129\n"
     ]
    },
    {
     "name": "stdout",
     "output_type": "stream",
     "text": [
      "Epoch 150 Loss 0.022000465583949122\n",
      "train accuracy is: 0.9742947754965782, test accuracy is 0.9707661290322581\n"
     ]
    },
    {
     "name": "stdout",
     "output_type": "stream",
     "text": [
      "Epoch 160 Loss 0.021465550569723112\n",
      "train accuracy is: 0.9750459021866132, test accuracy is 0.9712701612903226\n"
     ]
    },
    {
     "name": "stdout",
     "output_type": "stream",
     "text": [
      "Epoch 170 Loss 0.020974757210549276\n",
      "train accuracy is: 0.9756301118344183, test accuracy is 0.9717741935483871\n"
     ]
    },
    {
     "name": "stdout",
     "output_type": "stream",
     "text": [
      "Epoch 180 Loss 0.020515436707304605\n",
      "train accuracy is: 0.9764646970455684, test accuracy is 0.9707661290322581\n"
     ]
    },
    {
     "name": "stdout",
     "output_type": "stream",
     "text": [
      "Epoch 190 Loss 0.02008599773345293\n",
      "train accuracy is: 0.9770489066933734, test accuracy is 0.9712701612903226\n"
     ]
    },
    {
     "name": "stdout",
     "output_type": "stream",
     "text": [
      "Epoch 200 Loss 0.01967433083282287\n",
      "train accuracy is: 0.9777165748622935, test accuracy is 0.9722782258064516\n"
     ]
    },
    {
     "name": "stdout",
     "output_type": "stream",
     "text": [
      "Epoch 210 Loss 0.01928455034053278\n",
      "train accuracy is: 0.9784677015523285, test accuracy is 0.9727822580645161\n"
     ]
    },
    {
     "name": "stdout",
     "output_type": "stream",
     "text": [
      "Epoch 220 Loss 0.018914613767602707\n",
      "train accuracy is: 0.9786346185945585, test accuracy is 0.9727822580645161\n"
     ]
    },
    {
     "name": "stdout",
     "output_type": "stream",
     "text": [
      "Epoch 230 Loss 0.018551629412477545\n",
      "train accuracy is: 0.9793022867634785, test accuracy is 0.9727822580645161\n"
     ]
    },
    {
     "name": "stdout",
     "output_type": "stream",
     "text": [
      "Epoch 240 Loss 0.01821292048312755\n",
      "train accuracy is: 0.9794692038057086, test accuracy is 0.9737903225806451\n"
     ]
    },
    {
     "data": {
      "text/plain": [
       "0.02545658996306313"
      ]
     },
     "execution_count": 21,
     "metadata": {},
     "output_type": "execute_result"
    }
   ],
   "source": [
    "learner1.train_loop(dl)"
   ]
  },
  {
   "cell_type": "markdown",
   "metadata": {
    "papermill": {
     "duration": 0.038698,
     "end_time": "2020-08-16T00:29:44.436819",
     "exception": false,
     "start_time": "2020-08-16T00:29:44.398121",
     "status": "completed"
    },
    "tags": []
   },
   "source": [
    "##### Now running only the logistic regression based classification to compare results with NN"
   ]
  },
  {
   "cell_type": "code",
   "execution_count": 22,
   "metadata": {
    "execution": {
     "iopub.execute_input": "2020-08-16T00:29:44.521824Z",
     "iopub.status.busy": "2020-08-16T00:29:44.520424Z",
     "iopub.status.idle": "2020-08-16T00:29:44.533248Z",
     "shell.execute_reply": "2020-08-16T00:29:44.533717Z"
    },
    "papermill": {
     "duration": 0.05794,
     "end_time": "2020-08-16T00:29:44.533875",
     "exception": false,
     "start_time": "2020-08-16T00:29:44.475935",
     "status": "completed"
    },
    "tags": []
   },
   "outputs": [],
   "source": [
    "learner2 = Learner(loss, model_logistic, opt, config.num_epochs)\n",
    "acc2 = ClfCallback(learner2, config.bs, training_xdata , testing_xdata, training_ydata, testing_ydata)\n",
    "learner2.set_callbacks([acc2])"
   ]
  },
  {
   "cell_type": "code",
   "execution_count": 23,
   "metadata": {
    "execution": {
     "iopub.execute_input": "2020-08-16T00:29:44.615678Z",
     "iopub.status.busy": "2020-08-16T00:29:44.615097Z",
     "iopub.status.idle": "2020-08-16T00:30:02.478457Z",
     "shell.execute_reply": "2020-08-16T00:30:02.479191Z"
    },
    "papermill": {
     "duration": 17.906449,
     "end_time": "2020-08-16T00:30:02.479361",
     "exception": false,
     "start_time": "2020-08-16T00:29:44.572912",
     "status": "completed"
    },
    "tags": []
   },
   "outputs": [
    {
     "name": "stdout",
     "output_type": "stream",
     "text": [
      "Epoch 0 Loss 0.24732173622763773\n",
      "train accuracy is: 0.6659155399766317, test accuracy is 0.6738911290322581\n"
     ]
    },
    {
     "name": "stdout",
     "output_type": "stream",
     "text": [
      "Epoch 10 Loss 0.10274490219649342\n",
      "train accuracy is: 0.9126189283925888, test accuracy is 0.9259072580645161\n"
     ]
    },
    {
     "name": "stdout",
     "output_type": "stream",
     "text": [
      "Epoch 20 Loss 0.0787500541846366\n",
      "train accuracy is: 0.9291437155733601, test accuracy is 0.9450604838709677\n"
     ]
    },
    {
     "name": "stdout",
     "output_type": "stream",
     "text": [
      "Epoch 30 Loss 0.06786090577411366\n",
      "train accuracy is: 0.9362376898681355, test accuracy is 0.9495967741935484\n"
     ]
    },
    {
     "name": "stdout",
     "output_type": "stream",
     "text": [
      "Epoch 40 Loss 0.06134579849254779\n",
      "train accuracy is: 0.942580537472876, test accuracy is 0.9561491935483871\n"
     ]
    },
    {
     "name": "stdout",
     "output_type": "stream",
     "text": [
      "Epoch 50 Loss 0.05691255053268178\n",
      "train accuracy is: 0.9460857953597063, test accuracy is 0.9586693548387096\n"
     ]
    },
    {
     "name": "stdout",
     "output_type": "stream",
     "text": [
      "Epoch 60 Loss 0.05365494446798414\n",
      "train accuracy is: 0.9475880487397763, test accuracy is 0.9596774193548387\n"
     ]
    },
    {
     "name": "stdout",
     "output_type": "stream",
     "text": [
      "Epoch 70 Loss 0.05113495143462345\n",
      "train accuracy is: 0.9495910532465365, test accuracy is 0.9596774193548387\n"
     ]
    },
    {
     "name": "stdout",
     "output_type": "stream",
     "text": [
      "Epoch 80 Loss 0.049113366362580825\n",
      "train accuracy is: 0.9508429310632616, test accuracy is 0.9606854838709677\n"
     ]
    },
    {
     "name": "stdout",
     "output_type": "stream",
     "text": [
      "Epoch 90 Loss 0.04744552352596477\n",
      "train accuracy is: 0.9519278918377566, test accuracy is 0.9621975806451613\n"
     ]
    },
    {
     "name": "stdout",
     "output_type": "stream",
     "text": [
      "Epoch 100 Loss 0.04603920906426028\n",
      "train accuracy is: 0.9527624770489067, test accuracy is 0.9632056451612904\n"
     ]
    },
    {
     "name": "stdout",
     "output_type": "stream",
     "text": [
      "Epoch 110 Loss 0.04483259356491837\n",
      "train accuracy is: 0.9535970622600568, test accuracy is 0.9632056451612904\n"
     ]
    },
    {
     "name": "stdout",
     "output_type": "stream",
     "text": [
      "Epoch 120 Loss 0.043782198117770406\n",
      "train accuracy is: 0.9540978133867468, test accuracy is 0.9642137096774194\n"
     ]
    },
    {
     "name": "stdout",
     "output_type": "stream",
     "text": [
      "Epoch 130 Loss 0.042856368970591044\n",
      "train accuracy is: 0.9549323985978968, test accuracy is 0.9642137096774194\n"
     ]
    },
    {
     "name": "stdout",
     "output_type": "stream",
     "text": [
      "Epoch 140 Loss 0.042032916345383815\n",
      "train accuracy is: 0.9555166082457018, test accuracy is 0.9652217741935484\n"
     ]
    },
    {
     "name": "stdout",
     "output_type": "stream",
     "text": [
      "Epoch 150 Loss 0.041294194528895066\n",
      "train accuracy is: 0.956100817893507, test accuracy is 0.9652217741935484\n"
     ]
    },
    {
     "name": "stdout",
     "output_type": "stream",
     "text": [
      "Epoch 160 Loss 0.04062437789565765\n",
      "train accuracy is: 0.9562677349357369, test accuracy is 0.9652217741935484\n"
     ]
    },
    {
     "name": "stdout",
     "output_type": "stream",
     "text": [
      "Epoch 170 Loss 0.04001573483619698\n",
      "train accuracy is: 0.956851944583542, test accuracy is 0.9647177419354839\n"
     ]
    },
    {
     "name": "stdout",
     "output_type": "stream",
     "text": [
      "Epoch 180 Loss 0.03945884446168293\n",
      "train accuracy is: 0.957269237189117, test accuracy is 0.9652217741935484\n"
     ]
    },
    {
     "name": "stdout",
     "output_type": "stream",
     "text": [
      "Epoch 190 Loss 0.03894526832431543\n",
      "train accuracy is: 0.9577699883158071, test accuracy is 0.9657258064516129\n"
     ]
    },
    {
     "name": "stdout",
     "output_type": "stream",
     "text": [
      "Epoch 200 Loss 0.038471577178931515\n",
      "train accuracy is: 0.9583541979636121, test accuracy is 0.9657258064516129\n"
     ]
    },
    {
     "name": "stdout",
     "output_type": "stream",
     "text": [
      "Epoch 210 Loss 0.03803109684685968\n",
      "train accuracy is: 0.9586880320480721, test accuracy is 0.9662298387096774\n"
     ]
    },
    {
     "name": "stdout",
     "output_type": "stream",
     "text": [
      "Epoch 220 Loss 0.03762101716541262\n",
      "train accuracy is: 0.9591053246536472, test accuracy is 0.9662298387096774\n"
     ]
    },
    {
     "name": "stdout",
     "output_type": "stream",
     "text": [
      "Epoch 230 Loss 0.03723697385376838\n",
      "train accuracy is: 0.9594391587381071, test accuracy is 0.9662298387096774\n"
     ]
    },
    {
     "name": "stdout",
     "output_type": "stream",
     "text": [
      "Epoch 240 Loss 0.03687721002463769\n",
      "train accuracy is: 0.9598564513436821, test accuracy is 0.9672379032258065\n"
     ]
    },
    {
     "data": {
      "text/plain": [
       "0.02491255606214056"
      ]
     },
     "execution_count": 23,
     "metadata": {},
     "output_type": "execute_result"
    }
   ],
   "source": [
    "learner2.train_loop(dl)"
   ]
  },
  {
   "cell_type": "markdown",
   "metadata": {
    "papermill": {
     "duration": 0.047218,
     "end_time": "2020-08-16T00:30:02.574296",
     "exception": false,
     "start_time": "2020-08-16T00:30:02.527078",
     "status": "completed"
    },
    "tags": []
   },
   "source": [
    "### Comparing results of NN and LR"
   ]
  },
  {
   "cell_type": "code",
   "execution_count": 24,
   "metadata": {
    "execution": {
     "iopub.execute_input": "2020-08-16T00:30:02.674391Z",
     "iopub.status.busy": "2020-08-16T00:30:02.673787Z",
     "iopub.status.idle": "2020-08-16T00:30:02.911507Z",
     "shell.execute_reply": "2020-08-16T00:30:02.912106Z"
    },
    "papermill": {
     "duration": 0.2917,
     "end_time": "2020-08-16T00:30:02.912278",
     "exception": false,
     "start_time": "2020-08-16T00:30:02.620578",
     "status": "completed"
    },
    "tags": []
   },
   "outputs": [
    {
     "data": {
      "text/plain": [
       "<matplotlib.legend.Legend at 0x7fdf08fd5a20>"
      ]
     },
     "execution_count": 24,
     "metadata": {},
     "output_type": "execute_result"
    },
    {
     "data": {
      "image/png": "[encoded data removed]",
      "text/plain": [
       "<Figure size 576x360 with 1 Axes>"
      ]
     },
     "metadata": {
      "needs_background": "light"
     },
     "output_type": "display_data"
    }
   ],
   "source": [
    "plt.figure(figsize=(8,5))\n",
    "plt.plot(acc1.val_accuracies, 'g-', label = \"Val Accuracies - NN\")\n",
    "plt.plot(acc1.accuracies, 'r-', label = \"Accuracies - NN\")\n",
    "plt.plot(acc2.val_accuracies, 'b-', label = \"Val Accuracies - Logistic Reg\")\n",
    "plt.plot(acc2.accuracies, 'k-', label = \"Accuracies - Logistic Reg\")\n",
    "plt.ylim(0.8,1) ## for a more spread out view\n",
    "plt.legend()"
   ]
  },
  {
   "cell_type": "markdown",
   "metadata": {
    "papermill": {
     "duration": 0.049171,
     "end_time": "2020-08-16T00:30:03.012494",
     "exception": false,
     "start_time": "2020-08-16T00:30:02.963323",
     "status": "completed"
    },
    "tags": []
   },
   "source": [
    "### Clearly NN has a better accuracy over LR; NN is overfitting - Validation accuracy (green) has dropped below training accuracy (orange), also they are diverging. This problem is not seen in LR"
   ]
  },
  {
   "cell_type": "markdown",
   "metadata": {
    "papermill": {
     "duration": 0.048644,
     "end_time": "2020-08-16T00:30:03.113146",
     "exception": false,
     "start_time": "2020-08-16T00:30:03.064502",
     "status": "completed"
    },
    "tags": []
   },
   "source": [
    "##### Now we will be moving through the network, till the output of the second last affine where we get a 2 dimensional output. We will be plotting this 2d output and probability contours"
   ]
  },
  {
   "cell_type": "code",
   "execution_count": 25,
   "metadata": {
    "execution": {
     "iopub.execute_input": "2020-08-16T00:30:03.224066Z",
     "iopub.status.busy": "2020-08-16T00:30:03.223452Z",
     "iopub.status.idle": "2020-08-16T00:30:03.235925Z",
     "shell.execute_reply": "2020-08-16T00:30:03.236434Z"
    },
    "papermill": {
     "duration": 0.070055,
     "end_time": "2020-08-16T00:30:03.236596",
     "exception": false,
     "start_time": "2020-08-16T00:30:03.166541",
     "status": "completed"
    },
    "tags": []
   },
   "outputs": [],
   "source": [
    "model_new = Model(layers[:-2])"
   ]
  },
  {
   "cell_type": "code",
   "execution_count": 26,
   "metadata": {
    "execution": {
     "iopub.execute_input": "2020-08-16T00:30:03.338803Z",
     "iopub.status.busy": "2020-08-16T00:30:03.338206Z",
     "iopub.status.idle": "2020-08-16T00:30:03.360505Z",
     "shell.execute_reply": "2020-08-16T00:30:03.361081Z"
    },
    "papermill": {
     "duration": 0.075371,
     "end_time": "2020-08-16T00:30:03.361251",
     "exception": false,
     "start_time": "2020-08-16T00:30:03.285880",
     "status": "completed"
    },
    "tags": []
   },
   "outputs": [],
   "source": [
    "plot_testing = model_new(testing_xdata)"
   ]
  },
  {
   "cell_type": "markdown",
   "metadata": {
    "papermill": {
     "duration": 0.048524,
     "end_time": "2020-08-16T00:30:03.459582",
     "exception": false,
     "start_time": "2020-08-16T00:30:03.411058",
     "status": "completed"
    },
    "tags": []
   },
   "source": [
    "##### Plotting the scatter plot of points and color coding by class"
   ]
  },
  {
   "cell_type": "code",
   "execution_count": 27,
   "metadata": {
    "execution": {
     "iopub.execute_input": "2020-08-16T00:30:03.592932Z",
     "iopub.status.busy": "2020-08-16T00:30:03.592331Z",
     "iopub.status.idle": "2020-08-16T00:30:03.823483Z",
     "shell.execute_reply": "2020-08-16T00:30:03.822957Z"
    },
    "papermill": {
     "duration": 0.285019,
     "end_time": "2020-08-16T00:30:03.823621",
     "exception": false,
     "start_time": "2020-08-16T00:30:03.538602",
     "status": "completed"
    },
    "tags": []
   },
   "outputs": [
    {
     "data": {
      "image/png": "[encoded data removed]",
      "text/plain": [
       "<Figure size 576x504 with 1 Axes>"
      ]
     },
     "metadata": {
      "needs_background": "light"
     },
     "output_type": "display_data"
    }
   ],
   "source": [
    "plt.figure(figsize=(8,7))\n",
    "plt.scatter(plot_testing[:,0], plot_testing[:,1], alpha = 0.1, c = y_test.ravel());"
   ]
  },
  {
   "cell_type": "markdown",
   "metadata": {
    "papermill": {
     "duration": 0.057255,
     "end_time": "2020-08-16T00:30:03.933856",
     "exception": false,
     "start_time": "2020-08-16T00:30:03.876601",
     "status": "completed"
    },
    "tags": []
   },
   "source": [
    "##### Plotting probability contours"
   ]
  },
  {
   "cell_type": "code",
   "execution_count": 28,
   "metadata": {
    "execution": {
     "iopub.execute_input": "2020-08-16T00:30:04.043761Z",
     "iopub.status.busy": "2020-08-16T00:30:04.043151Z",
     "iopub.status.idle": "2020-08-16T00:30:04.058534Z",
     "shell.execute_reply": "2020-08-16T00:30:04.057991Z"
    },
    "papermill": {
     "duration": 0.072296,
     "end_time": "2020-08-16T00:30:04.058671",
     "exception": false,
     "start_time": "2020-08-16T00:30:03.986375",
     "status": "completed"
    },
    "tags": []
   },
   "outputs": [],
   "source": [
    "model_prob = Model(layers[-2:]) ## picking only last two layers to get probability. That is affine followed by sigmoid"
   ]
  },
  {
   "cell_type": "code",
   "execution_count": 29,
   "metadata": {
    "execution": {
     "iopub.execute_input": "2020-08-16T00:30:04.168684Z",
     "iopub.status.busy": "2020-08-16T00:30:04.168001Z",
     "iopub.status.idle": "2020-08-16T00:30:04.181836Z",
     "shell.execute_reply": "2020-08-16T00:30:04.182304Z"
    },
    "papermill": {
     "duration": 0.071199,
     "end_time": "2020-08-16T00:30:04.182469",
     "exception": false,
     "start_time": "2020-08-16T00:30:04.111270",
     "status": "completed"
    },
    "tags": []
   },
   "outputs": [],
   "source": [
    "xgrid = np.linspace(-4, 1, 100) ## Adjust these values based on above chart, roughly -4 to 1\n",
    "ygrid = np.linspace(-7.5, 7.5, 100) ## Adjust these values based on above chart, roughly -7.5, 7.5\n",
    "xg, yg = np.meshgrid(xgrid, ygrid)\n",
    "# xg and yg are now both 100X100, lets convert them to single arrays \n",
    "\n",
    "xg_interim = np.ravel(xg)\n",
    "yg_interim = np.ravel(yg)\n",
    "\n",
    "## xg_interim, yg_interim are now arrays of len 10000, now we will stack them and then transpose to get desired shape of n rows, 2 columns\n",
    "\n",
    "X_interim = np.vstack((xg_interim, yg_interim)) ## Please note vstack takes in a tuple\n",
    "X = X_interim.T\n",
    "\n",
    "## We want a shape of n rows and 2 columns to be able to feed this to last affine\n",
    "## This last affine takes only two columns, hence the above transformation\n",
    "probability_contour = model_prob(X).reshape(100,100) ## to make it consistent with xg, yg"
   ]
  },
  {
   "cell_type": "code",
   "execution_count": 30,
   "metadata": {
    "execution": {
     "iopub.execute_input": "2020-08-16T00:30:04.290833Z",
     "iopub.status.busy": "2020-08-16T00:30:04.290199Z",
     "iopub.status.idle": "2020-08-16T00:30:04.542645Z",
     "shell.execute_reply": "2020-08-16T00:30:04.543139Z"
    },
    "papermill": {
     "duration": 0.309363,
     "end_time": "2020-08-16T00:30:04.543303",
     "exception": false,
     "start_time": "2020-08-16T00:30:04.233940",
     "status": "completed"
    },
    "tags": []
   },
   "outputs": [
    {
     "data": {
      "image/png": "[encoded data removed]",
      "text/plain": [
       "<Figure size 576x504 with 1 Axes>"
      ]
     },
     "metadata": {
      "needs_background": "light"
     },
     "output_type": "display_data"
    }
   ],
   "source": [
    "plt.figure(figsize=(8,7))\n",
    "plt.scatter(plot_testing[:,0], plot_testing[:,1], alpha = 0.1, c = y_test.ravel())\n",
    "contours = plt.contour(xg,yg,probability_contour)\n",
    "plt.clabel(contours, inline = True );"
   ]
  }
 ],
 "metadata": {
  "kernelspec": {
   "display_name": "Python 3",
   "language": "python",
   "name": "python3"
  },
  "language_info": {
   "codemirror_mode": {
    "name": "ipython",
    "version": 3
   },
   "file_extension": ".py",
   "mimetype": "text/x-python",
   "name": "python",
   "nbconvert_exporter": "python",
   "pygments_lexer": "ipython3",
   "version": "3.6.11"
  },
  "papermill": {
   "duration": 124.224779,
   "end_time": "2020-08-16T00:30:05.012516",
   "environment_variables": {},
   "exception": null,
   "input_path": "2020-08-07-NN-new.ipynb",
   "output_path": "2020-08-07-NN-new.ipynb",
   "parameters": {},
   "start_time": "2020-08-16T00:28:00.787737",
   "version": "2.1.2"
  }
 },
 "nbformat": 4,
 "nbformat_minor": 4
}