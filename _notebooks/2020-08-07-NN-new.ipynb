{
 "cells": [
  {
   "cell_type": "markdown",
   "metadata": {
    "papermill": {
     "duration": 0.041501,
     "end_time": "2020-08-13T20:18:45.866607",
     "exception": false,
     "start_time": "2020-08-13T20:18:45.825106",
     "status": "completed"
    },
    "tags": []
   },
   "source": [
    "# \"Building a basic Neural Network from scratch - Kudzu\"\n",
    "\n",
    "- badges: true\n",
    "- author: Anshuman Gupta"
   ]
  },
  {
   "cell_type": "markdown",
   "metadata": {
    "papermill": {
     "duration": 0.028288,
     "end_time": "2020-08-13T20:18:45.924577",
     "exception": false,
     "start_time": "2020-08-13T20:18:45.896289",
     "status": "completed"
    },
    "tags": []
   },
   "source": [
    "#### In this project, the idea is to write a classifier to differentiate between handwritten digits 3 and 8, from the MNIST database.\n",
    "\n",
    "#### I will using a custom built neural network library called Kudzu.This has been developed as a part of KTF/Foundations course of Univ.ai (www.univ.ai). The source code for Kudzu Library and and this notebook can be found on my git-hub profile : www.https://github.com/anshuman6 under the folder project-solution. Any feedback and comments are welcome. Please feel free to email me at: anshuman6@gmail.com\n",
    "\n",
    "#### 1. I will be using the MNIST database. \n",
    "\n",
    "#### 2. I will be comparing the results of the 4 layer NN to a standard logistic regression"
   ]
  },
  {
   "cell_type": "markdown",
   "metadata": {
    "papermill": {
     "duration": 0.031329,
     "end_time": "2020-08-13T20:18:45.986643",
     "exception": false,
     "start_time": "2020-08-13T20:18:45.955314",
     "status": "completed"
    },
    "tags": []
   },
   "source": [
    "##### Importing all the necessary libraries"
   ]
  },
  {
   "cell_type": "code",
   "execution_count": 1,
   "metadata": {
    "execution": {
     "iopub.execute_input": "2020-08-13T20:18:46.058398Z",
     "iopub.status.busy": "2020-08-13T20:18:46.057701Z",
     "iopub.status.idle": "2020-08-13T20:18:46.068640Z",
     "shell.execute_reply": "2020-08-13T20:18:46.069158Z"
    },
    "papermill": {
     "duration": 0.047485,
     "end_time": "2020-08-13T20:18:46.069325",
     "exception": false,
     "start_time": "2020-08-13T20:18:46.021840",
     "status": "completed"
    },
    "tags": []
   },
   "outputs": [],
   "source": [
    "%load_ext autoreload\n",
    "%autoreload 2"
   ]
  },
  {
   "cell_type": "code",
   "execution_count": 2,
   "metadata": {
    "execution": {
     "iopub.execute_input": "2020-08-13T20:18:46.136274Z",
     "iopub.status.busy": "2020-08-13T20:18:46.135450Z",
     "iopub.status.idle": "2020-08-13T20:18:46.755856Z",
     "shell.execute_reply": "2020-08-13T20:18:46.756458Z"
    },
    "papermill": {
     "duration": 0.657719,
     "end_time": "2020-08-13T20:18:46.756674",
     "exception": false,
     "start_time": "2020-08-13T20:18:46.098955",
     "status": "completed"
    },
    "tags": []
   },
   "outputs": [],
   "source": [
    "%matplotlib inline\n",
    "import numpy as np\n",
    "import matplotlib.pyplot as plt\n",
    "import pandas as pd"
   ]
  },
  {
   "cell_type": "markdown",
   "metadata": {
    "papermill": {
     "duration": 0.02861,
     "end_time": "2020-08-13T20:18:46.816506",
     "exception": false,
     "start_time": "2020-08-13T20:18:46.787896",
     "status": "completed"
    },
    "tags": []
   },
   "source": [
    "##### The following command helps us download MNIST from notebook itself. You can skip this if you already have MNIST. You can also download it via your terminal."
   ]
  },
  {
   "cell_type": "code",
   "execution_count": 3,
   "metadata": {
    "execution": {
     "iopub.execute_input": "2020-08-13T20:18:46.886439Z",
     "iopub.status.busy": "2020-08-13T20:18:46.885740Z",
     "iopub.status.idle": "2020-08-13T20:18:48.431417Z",
     "shell.execute_reply": "2020-08-13T20:18:48.430832Z"
    },
    "papermill": {
     "duration": 1.5818,
     "end_time": "2020-08-13T20:18:48.431567",
     "exception": false,
     "start_time": "2020-08-13T20:18:46.849767",
     "status": "completed"
    },
    "tags": []
   },
   "outputs": [
    {
     "name": "stdout",
     "output_type": "stream",
     "text": [
      "Collecting mnist\r\n"
     ]
    },
    {
     "name": "stdout",
     "output_type": "stream",
     "text": [
      "  Downloading mnist-0.2.2-py2.py3-none-any.whl (3.5 kB)\r\n"
     ]
    },
    {
     "name": "stdout",
     "output_type": "stream",
     "text": [
      "Requirement already satisfied: numpy in /opt/hostedtoolcache/Python/3.6.11/x64/lib/python3.6/site-packages (from mnist) (1.19.1)\r\n"
     ]
    },
    {
     "name": "stdout",
     "output_type": "stream",
     "text": [
      "Installing collected packages: mnist\r\n"
     ]
    },
    {
     "name": "stdout",
     "output_type": "stream",
     "text": [
      "Successfully installed mnist-0.2.2\r\n"
     ]
    },
    {
     "name": "stdout",
     "output_type": "stream",
     "text": [
      "\u001b[33mWARNING: You are using pip version 20.2.1; however, version 20.2.2 is available.\r\n",
      "You should consider upgrading via the '/opt/hostedtoolcache/Python/3.6.11/x64/bin/python -m pip install --upgrade pip' command.\u001b[0m\r\n"
     ]
    }
   ],
   "source": [
    "!pip install mnist # Please note, it is commented out for now, you can remove comment if you want to install it"
   ]
  },
  {
   "cell_type": "markdown",
   "metadata": {
    "papermill": {
     "duration": 0.029931,
     "end_time": "2020-08-13T20:18:48.492905",
     "exception": false,
     "start_time": "2020-08-13T20:18:48.462974",
     "status": "completed"
    },
    "tags": []
   },
   "source": [
    "#### Preparing the Data"
   ]
  },
  {
   "cell_type": "code",
   "execution_count": 4,
   "metadata": {
    "execution": {
     "iopub.execute_input": "2020-08-13T20:18:48.560791Z",
     "iopub.status.busy": "2020-08-13T20:18:48.559955Z",
     "iopub.status.idle": "2020-08-13T20:18:48.575799Z",
     "shell.execute_reply": "2020-08-13T20:18:48.575139Z"
    },
    "papermill": {
     "duration": 0.05177,
     "end_time": "2020-08-13T20:18:48.575991",
     "exception": false,
     "start_time": "2020-08-13T20:18:48.524221",
     "status": "completed"
    },
    "tags": []
   },
   "outputs": [],
   "source": [
    "import mnist"
   ]
  },
  {
   "cell_type": "code",
   "execution_count": 5,
   "metadata": {
    "execution": {
     "iopub.execute_input": "2020-08-13T20:18:48.646537Z",
     "iopub.status.busy": "2020-08-13T20:18:48.645927Z",
     "iopub.status.idle": "2020-08-13T20:18:49.391163Z",
     "shell.execute_reply": "2020-08-13T20:18:49.390549Z"
    },
    "papermill": {
     "duration": 0.780883,
     "end_time": "2020-08-13T20:18:49.391341",
     "exception": false,
     "start_time": "2020-08-13T20:18:48.610458",
     "status": "completed"
    },
    "tags": []
   },
   "outputs": [],
   "source": [
    "train_images = mnist.train_images()\n",
    "train_labels = mnist.train_labels()"
   ]
  },
  {
   "cell_type": "code",
   "execution_count": 6,
   "metadata": {
    "execution": {
     "iopub.execute_input": "2020-08-13T20:18:49.460471Z",
     "iopub.status.busy": "2020-08-13T20:18:49.459778Z",
     "iopub.status.idle": "2020-08-13T20:18:49.477600Z",
     "shell.execute_reply": "2020-08-13T20:18:49.477052Z"
    },
    "papermill": {
     "duration": 0.052629,
     "end_time": "2020-08-13T20:18:49.477768",
     "exception": false,
     "start_time": "2020-08-13T20:18:49.425139",
     "status": "completed"
    },
    "tags": []
   },
   "outputs": [
    {
     "data": {
      "text/plain": [
       "((60000, 28, 28), (60000,))"
      ]
     },
     "execution_count": 6,
     "metadata": {},
     "output_type": "execute_result"
    }
   ],
   "source": [
    "train_images.shape, train_labels.shape"
   ]
  },
  {
   "cell_type": "code",
   "execution_count": 7,
   "metadata": {
    "execution": {
     "iopub.execute_input": "2020-08-13T20:18:49.545561Z",
     "iopub.status.busy": "2020-08-13T20:18:49.544942Z",
     "iopub.status.idle": "2020-08-13T20:18:49.831480Z",
     "shell.execute_reply": "2020-08-13T20:18:49.830707Z"
    },
    "papermill": {
     "duration": 0.320774,
     "end_time": "2020-08-13T20:18:49.831699",
     "exception": false,
     "start_time": "2020-08-13T20:18:49.510925",
     "status": "completed"
    },
    "tags": []
   },
   "outputs": [],
   "source": [
    "test_images = mnist.test_images()\n",
    "test_labels = mnist.test_labels()"
   ]
  },
  {
   "cell_type": "code",
   "execution_count": 8,
   "metadata": {
    "execution": {
     "iopub.execute_input": "2020-08-13T20:18:49.914637Z",
     "iopub.status.busy": "2020-08-13T20:18:49.909813Z",
     "iopub.status.idle": "2020-08-13T20:18:49.925235Z",
     "shell.execute_reply": "2020-08-13T20:18:49.926249Z"
    },
    "papermill": {
     "duration": 0.057017,
     "end_time": "2020-08-13T20:18:49.926527",
     "exception": false,
     "start_time": "2020-08-13T20:18:49.869510",
     "status": "completed"
    },
    "tags": []
   },
   "outputs": [
    {
     "data": {
      "text/plain": [
       "((10000, 28, 28), (10000,))"
      ]
     },
     "execution_count": 8,
     "metadata": {},
     "output_type": "execute_result"
    }
   ],
   "source": [
    "test_images.shape, test_labels.shape"
   ]
  },
  {
   "cell_type": "code",
   "execution_count": 9,
   "metadata": {
    "execution": {
     "iopub.execute_input": "2020-08-13T20:18:50.004601Z",
     "iopub.status.busy": "2020-08-13T20:18:50.003900Z",
     "iopub.status.idle": "2020-08-13T20:18:50.207880Z",
     "shell.execute_reply": "2020-08-13T20:18:50.208389Z"
    },
    "papermill": {
     "duration": 0.245623,
     "end_time": "2020-08-13T20:18:50.208559",
     "exception": false,
     "start_time": "2020-08-13T20:18:49.962936",
     "status": "completed"
    },
    "tags": []
   },
   "outputs": [
    {
     "name": "stdout",
     "output_type": "stream",
     "text": [
      "2\n"
     ]
    },
    {
     "data": {
      "text/plain": [
       "<matplotlib.image.AxesImage at 0x7f584f74c320>"
      ]
     },
     "execution_count": 9,
     "metadata": {},
     "output_type": "execute_result"
    },
    {
     "data": {
      "image/png": "[encoded data removed]",
      "text/plain": [
       "<Figure size 432x288 with 1 Axes>"
      ]
     },
     "metadata": {
      "needs_background": "light"
     },
     "output_type": "display_data"
    }
   ],
   "source": [
    "image_index = 7776 # You may select anything up to 60,000\n",
    "print(train_labels[image_index]) \n",
    "plt.imshow(train_images[image_index], cmap='Greys')"
   ]
  },
  {
   "cell_type": "markdown",
   "metadata": {
    "papermill": {
     "duration": 0.037485,
     "end_time": "2020-08-13T20:18:50.283373",
     "exception": false,
     "start_time": "2020-08-13T20:18:50.245888",
     "status": "completed"
    },
    "tags": []
   },
   "source": [
    "## Filter data to get 3 and 8 out"
   ]
  },
  {
   "cell_type": "code",
   "execution_count": 10,
   "metadata": {
    "execution": {
     "iopub.execute_input": "2020-08-13T20:18:50.357112Z",
     "iopub.status.busy": "2020-08-13T20:18:50.356298Z",
     "iopub.status.idle": "2020-08-13T20:18:50.376974Z",
     "shell.execute_reply": "2020-08-13T20:18:50.376390Z"
    },
    "papermill": {
     "duration": 0.057771,
     "end_time": "2020-08-13T20:18:50.377133",
     "exception": false,
     "start_time": "2020-08-13T20:18:50.319362",
     "status": "completed"
    },
    "tags": []
   },
   "outputs": [],
   "source": [
    "train_filter = np.where((train_labels == 3 ) | (train_labels == 8))\n",
    "test_filter = np.where((test_labels == 3) | (test_labels == 8))\n",
    "X_train, y_train = train_images[train_filter], train_labels[train_filter]\n",
    "X_test, y_test = test_images[test_filter], test_labels[test_filter]"
   ]
  },
  {
   "cell_type": "markdown",
   "metadata": {
    "papermill": {
     "duration": 0.034848,
     "end_time": "2020-08-13T20:18:50.446957",
     "exception": false,
     "start_time": "2020-08-13T20:18:50.412109",
     "status": "completed"
    },
    "tags": []
   },
   "source": [
    "##### We normalize the pizel values in the 0 to 1 range"
   ]
  },
  {
   "cell_type": "code",
   "execution_count": 11,
   "metadata": {
    "execution": {
     "iopub.execute_input": "2020-08-13T20:18:50.521366Z",
     "iopub.status.busy": "2020-08-13T20:18:50.520743Z",
     "iopub.status.idle": "2020-08-13T20:18:50.584036Z",
     "shell.execute_reply": "2020-08-13T20:18:50.583495Z"
    },
    "papermill": {
     "duration": 0.102263,
     "end_time": "2020-08-13T20:18:50.584190",
     "exception": false,
     "start_time": "2020-08-13T20:18:50.481927",
     "status": "completed"
    },
    "tags": []
   },
   "outputs": [],
   "source": [
    "X_train = X_train/255.\n",
    "X_test = X_test/255."
   ]
  },
  {
   "cell_type": "markdown",
   "metadata": {
    "papermill": {
     "duration": 0.033929,
     "end_time": "2020-08-13T20:18:50.653805",
     "exception": false,
     "start_time": "2020-08-13T20:18:50.619876",
     "status": "completed"
    },
    "tags": []
   },
   "source": [
    "And setup the labels as 1 (when the digit is 3) and 0 (when the digit is 8)"
   ]
  },
  {
   "cell_type": "code",
   "execution_count": 12,
   "metadata": {
    "execution": {
     "iopub.execute_input": "2020-08-13T20:18:50.723787Z",
     "iopub.status.busy": "2020-08-13T20:18:50.723113Z",
     "iopub.status.idle": "2020-08-13T20:18:50.736526Z",
     "shell.execute_reply": "2020-08-13T20:18:50.737121Z"
    },
    "papermill": {
     "duration": 0.050351,
     "end_time": "2020-08-13T20:18:50.737296",
     "exception": false,
     "start_time": "2020-08-13T20:18:50.686945",
     "status": "completed"
    },
    "tags": []
   },
   "outputs": [],
   "source": [
    "y_train = 1*(y_train==3)\n",
    "y_test = 1*(y_test==3)"
   ]
  },
  {
   "cell_type": "code",
   "execution_count": 13,
   "metadata": {
    "execution": {
     "iopub.execute_input": "2020-08-13T20:18:50.807519Z",
     "iopub.status.busy": "2020-08-13T20:18:50.806709Z",
     "iopub.status.idle": "2020-08-13T20:18:50.820206Z",
     "shell.execute_reply": "2020-08-13T20:18:50.820778Z"
    },
    "papermill": {
     "duration": 0.05011,
     "end_time": "2020-08-13T20:18:50.820932",
     "exception": false,
     "start_time": "2020-08-13T20:18:50.770822",
     "status": "completed"
    },
    "tags": []
   },
   "outputs": [
    {
     "data": {
      "text/plain": [
       "((11982, 28, 28), (1984, 28, 28))"
      ]
     },
     "execution_count": 13,
     "metadata": {},
     "output_type": "execute_result"
    }
   ],
   "source": [
    "X_train.shape, X_test.shape"
   ]
  },
  {
   "cell_type": "markdown",
   "metadata": {
    "papermill": {
     "duration": 0.035989,
     "end_time": "2020-08-13T20:18:50.890981",
     "exception": false,
     "start_time": "2020-08-13T20:18:50.854992",
     "status": "completed"
    },
    "tags": []
   },
   "source": [
    "##### We reshape the data to flatten the image pixels into a set of features or co-variates:"
   ]
  },
  {
   "cell_type": "code",
   "execution_count": 14,
   "metadata": {
    "execution": {
     "iopub.execute_input": "2020-08-13T20:18:50.971614Z",
     "iopub.status.busy": "2020-08-13T20:18:50.970985Z",
     "iopub.status.idle": "2020-08-13T20:18:50.987077Z",
     "shell.execute_reply": "2020-08-13T20:18:50.986444Z"
    },
    "papermill": {
     "duration": 0.056687,
     "end_time": "2020-08-13T20:18:50.987229",
     "exception": false,
     "start_time": "2020-08-13T20:18:50.930542",
     "status": "completed"
    },
    "tags": []
   },
   "outputs": [
    {
     "data": {
      "text/plain": [
       "((11982, 784), (1984, 784))"
      ]
     },
     "execution_count": 14,
     "metadata": {},
     "output_type": "execute_result"
    }
   ],
   "source": [
    "X_train = X_train.reshape(X_train.shape[0], -1)\n",
    "X_test = X_test.reshape(X_test.shape[0], -1)\n",
    "X_train.shape, X_test.shape"
   ]
  },
  {
   "cell_type": "markdown",
   "metadata": {
    "papermill": {
     "duration": 0.034084,
     "end_time": "2020-08-13T20:18:51.054645",
     "exception": false,
     "start_time": "2020-08-13T20:18:51.020561",
     "status": "completed"
    },
    "tags": []
   },
   "source": [
    "##### Importing Kudzu library and its functionality"
   ]
  },
  {
   "cell_type": "code",
   "execution_count": 15,
   "metadata": {
    "execution": {
     "iopub.execute_input": "2020-08-13T20:18:51.126770Z",
     "iopub.status.busy": "2020-08-13T20:18:51.126183Z",
     "iopub.status.idle": "2020-08-13T20:18:51.146922Z",
     "shell.execute_reply": "2020-08-13T20:18:51.146228Z"
    },
    "papermill": {
     "duration": 0.059623,
     "end_time": "2020-08-13T20:18:51.147054",
     "exception": false,
     "start_time": "2020-08-13T20:18:51.087431",
     "status": "completed"
    },
    "tags": []
   },
   "outputs": [],
   "source": [
    "from kudzu.data import Data, Dataloader, Sampler\n",
    "from kudzu.callbacks import AccCallback\n",
    "from kudzu.loss import MSE\n",
    "from kudzu.layer import Affine, Sigmoid\n",
    "from kudzu.model import Model\n",
    "from kudzu.optim import GD\n",
    "from kudzu.train import Learner\n",
    "from kudzu.callbacks import ClfCallback\n",
    "from kudzu.layer import Sigmoid\n",
    "from kudzu.layer import Relu"
   ]
  },
  {
   "cell_type": "markdown",
   "metadata": {
    "papermill": {
     "duration": 0.031239,
     "end_time": "2020-08-13T20:18:51.212236",
     "exception": false,
     "start_time": "2020-08-13T20:18:51.180997",
     "status": "completed"
    },
    "tags": []
   },
   "source": [
    "##### We are creating a class, just so that we can use it to store our parameters for us"
   ]
  },
  {
   "cell_type": "code",
   "execution_count": 16,
   "metadata": {
    "execution": {
     "iopub.execute_input": "2020-08-13T20:18:51.282857Z",
     "iopub.status.busy": "2020-08-13T20:18:51.282277Z",
     "iopub.status.idle": "2020-08-13T20:18:51.295165Z",
     "shell.execute_reply": "2020-08-13T20:18:51.295902Z"
    },
    "papermill": {
     "duration": 0.050207,
     "end_time": "2020-08-13T20:18:51.296077",
     "exception": false,
     "start_time": "2020-08-13T20:18:51.245870",
     "status": "completed"
    },
    "tags": []
   },
   "outputs": [],
   "source": [
    "class Config:\n",
    "    pass\n",
    "config = Config()\n",
    "config.lr = 0.001\n",
    "config.num_epochs = 250\n",
    "config.bs = 50"
   ]
  },
  {
   "cell_type": "markdown",
   "metadata": {
    "papermill": {
     "duration": 0.0332,
     "end_time": "2020-08-13T20:18:51.364088",
     "exception": false,
     "start_time": "2020-08-13T20:18:51.330888",
     "status": "completed"
    },
    "tags": []
   },
   "source": [
    "##### Initializing Data"
   ]
  },
  {
   "cell_type": "code",
   "execution_count": 17,
   "metadata": {
    "execution": {
     "iopub.execute_input": "2020-08-13T20:18:51.433537Z",
     "iopub.status.busy": "2020-08-13T20:18:51.432667Z",
     "iopub.status.idle": "2020-08-13T20:18:51.448230Z",
     "shell.execute_reply": "2020-08-13T20:18:51.448836Z"
    },
    "papermill": {
     "duration": 0.053332,
     "end_time": "2020-08-13T20:18:51.448996",
     "exception": false,
     "start_time": "2020-08-13T20:18:51.395664",
     "status": "completed"
    },
    "tags": []
   },
   "outputs": [],
   "source": [
    "data = Data(X_train, y_train.reshape(-1,1))\n",
    "loss = MSE()\n",
    "opt = GD(config.lr)\n",
    "sampler = Sampler(data, config.bs, shuffle=True)\n",
    "dl = Dataloader(data, sampler)"
   ]
  },
  {
   "cell_type": "markdown",
   "metadata": {
    "papermill": {
     "duration": 0.03486,
     "end_time": "2020-08-13T20:18:51.519748",
     "exception": false,
     "start_time": "2020-08-13T20:18:51.484888",
     "status": "completed"
    },
    "tags": []
   },
   "source": [
    "##### Constructing 2 different layers, one for NN and one only for logistic regression."
   ]
  },
  {
   "cell_type": "markdown",
   "metadata": {
    "papermill": {
     "duration": 0.035249,
     "end_time": "2020-08-13T20:18:51.589436",
     "exception": false,
     "start_time": "2020-08-13T20:18:51.554187",
     "status": "completed"
    },
    "tags": []
   },
   "source": [
    "##### Creating containers for data to be passed, to calculate accuracies"
   ]
  },
  {
   "cell_type": "code",
   "execution_count": 18,
   "metadata": {
    "execution": {
     "iopub.execute_input": "2020-08-13T20:18:51.663744Z",
     "iopub.status.busy": "2020-08-13T20:18:51.663005Z",
     "iopub.status.idle": "2020-08-13T20:18:51.675911Z",
     "shell.execute_reply": "2020-08-13T20:18:51.676481Z"
    },
    "papermill": {
     "duration": 0.051496,
     "end_time": "2020-08-13T20:18:51.676618",
     "exception": false,
     "start_time": "2020-08-13T20:18:51.625122",
     "status": "completed"
    },
    "tags": []
   },
   "outputs": [],
   "source": [
    "training_xdata = X_train\n",
    "testing_xdata = X_test\n",
    "training_ydata = y_train.reshape(-1,1)\n",
    "testing_ydata = y_test.reshape(-1,1)"
   ]
  },
  {
   "cell_type": "markdown",
   "metadata": {
    "papermill": {
     "duration": 0.033893,
     "end_time": "2020-08-13T20:18:51.743000",
     "exception": false,
     "start_time": "2020-08-13T20:18:51.709107",
     "status": "completed"
    },
    "tags": []
   },
   "source": [
    "##### Initializing models and Running training loop: "
   ]
  },
  {
   "cell_type": "code",
   "execution_count": 19,
   "metadata": {
    "execution": {
     "iopub.execute_input": "2020-08-13T20:18:51.824426Z",
     "iopub.status.busy": "2020-08-13T20:18:51.823520Z",
     "iopub.status.idle": "2020-08-13T20:18:51.841566Z",
     "shell.execute_reply": "2020-08-13T20:18:51.840761Z"
    },
    "papermill": {
     "duration": 0.065217,
     "end_time": "2020-08-13T20:18:51.841709",
     "exception": false,
     "start_time": "2020-08-13T20:18:51.776492",
     "status": "completed"
    },
    "tags": []
   },
   "outputs": [],
   "source": [
    "layers = [Affine(\"first\", 784, 100), Relu(\"first\"), Affine(\"second\", 100, 100), Relu(\"second\"), Affine(\"third\", 100, 2), Affine(\"final\", 2, 1), Sigmoid(\"final\")]\n",
    "\n",
    "model_neural = Model(layers)\n",
    "model_logistic = Model([Affine(\"logits\", 784, 1), Sigmoid(\"sigmoid\")])"
   ]
  },
  {
   "cell_type": "code",
   "execution_count": 20,
   "metadata": {
    "execution": {
     "iopub.execute_input": "2020-08-13T20:18:51.918253Z",
     "iopub.status.busy": "2020-08-13T20:18:51.917590Z",
     "iopub.status.idle": "2020-08-13T20:18:51.930078Z",
     "shell.execute_reply": "2020-08-13T20:18:51.930679Z"
    },
    "papermill": {
     "duration": 0.053071,
     "end_time": "2020-08-13T20:18:51.930827",
     "exception": false,
     "start_time": "2020-08-13T20:18:51.877756",
     "status": "completed"
    },
    "tags": []
   },
   "outputs": [],
   "source": [
    "learner1 = Learner(loss, model_neural, opt, config.num_epochs)\n",
    "acc1 = ClfCallback(learner1, config.bs, training_xdata , testing_xdata, training_ydata, testing_ydata)\n",
    "learner1.set_callbacks([acc1])"
   ]
  },
  {
   "cell_type": "code",
   "execution_count": 21,
   "metadata": {
    "execution": {
     "iopub.execute_input": "2020-08-13T20:18:52.006771Z",
     "iopub.status.busy": "2020-08-13T20:18:52.006015Z",
     "iopub.status.idle": "2020-08-13T20:21:09.426177Z",
     "shell.execute_reply": "2020-08-13T20:21:09.427070Z"
    },
    "papermill": {
     "duration": 137.461274,
     "end_time": "2020-08-13T20:21:09.427222",
     "exception": false,
     "start_time": "2020-08-13T20:18:51.965948",
     "status": "completed"
    },
    "tags": []
   },
   "outputs": [
    {
     "name": "stdout",
     "output_type": "stream",
     "text": [
      "Epoch 0 Loss 0.24450984786718\n",
      "train accuracy is: 0.5881321982974461, test accuracy is 0.5967741935483871\n"
     ]
    },
    {
     "name": "stdout",
     "output_type": "stream",
     "text": [
      "Epoch 10 Loss 0.13235728643430686\n",
      "train accuracy is: 0.8869137038891671, test accuracy is 0.8986895161290323\n"
     ]
    },
    {
     "name": "stdout",
     "output_type": "stream",
     "text": [
      "Epoch 20 Loss 0.0701993326147908\n",
      "train accuracy is: 0.928559505925555, test accuracy is 0.9410282258064516\n"
     ]
    },
    {
     "name": "stdout",
     "output_type": "stream",
     "text": [
      "Epoch 30 Loss 0.05080533603283597\n",
      "train accuracy is: 0.9445835419796361, test accuracy is 0.9581653225806451\n"
     ]
    },
    {
     "name": "stdout",
     "output_type": "stream",
     "text": [
      "Epoch 40 Loss 0.042387065977513766\n",
      "train accuracy is: 0.9527624770489067, test accuracy is 0.9667338709677419\n"
     ]
    },
    {
     "name": "stdout",
     "output_type": "stream",
     "text": [
      "Epoch 50 Loss 0.037784761696774236\n",
      "train accuracy is: 0.957185778668002, test accuracy is 0.967741935483871\n"
     ]
    },
    {
     "name": "stdout",
     "output_type": "stream",
     "text": [
      "Epoch 60 Loss 0.0348044595499799\n",
      "train accuracy is: 0.9608579535970623, test accuracy is 0.96875\n"
     ]
    },
    {
     "name": "stdout",
     "output_type": "stream",
     "text": [
      "Epoch 70 Loss 0.0326670756475523\n",
      "train accuracy is: 0.9629444166249375, test accuracy is 0.9702620967741935\n"
     ]
    },
    {
     "name": "stdout",
     "output_type": "stream",
     "text": [
      "Epoch 80 Loss 0.03101187051977959\n",
      "train accuracy is: 0.9646135870472375, test accuracy is 0.9702620967741935\n"
     ]
    },
    {
     "name": "stdout",
     "output_type": "stream",
     "text": [
      "Epoch 90 Loss 0.02967341274928311\n",
      "train accuracy is: 0.9654481722583875, test accuracy is 0.9702620967741935\n"
     ]
    },
    {
     "name": "stdout",
     "output_type": "stream",
     "text": [
      "Epoch 100 Loss 0.028546131248280142\n",
      "train accuracy is: 0.9667000500751126, test accuracy is 0.9717741935483871\n"
     ]
    },
    {
     "name": "stdout",
     "output_type": "stream",
     "text": [
      "Epoch 110 Loss 0.02757820330279745\n",
      "train accuracy is: 0.9680353864129527, test accuracy is 0.9722782258064516\n"
     ]
    },
    {
     "name": "stdout",
     "output_type": "stream",
     "text": [
      "Epoch 120 Loss 0.02673191785704829\n",
      "train accuracy is: 0.9685361375396428, test accuracy is 0.9727822580645161\n"
     ]
    },
    {
     "name": "stdout",
     "output_type": "stream",
     "text": [
      "Epoch 130 Loss 0.025974673879068093\n",
      "train accuracy is: 0.9692038057085628, test accuracy is 0.9727822580645161\n"
     ]
    },
    {
     "name": "stdout",
     "output_type": "stream",
     "text": [
      "Epoch 140 Loss 0.025286870795195246\n",
      "train accuracy is: 0.9698714738774828, test accuracy is 0.9727822580645161\n"
     ]
    },
    {
     "name": "stdout",
     "output_type": "stream",
     "text": [
      "Epoch 150 Loss 0.02466967460913852\n",
      "train accuracy is: 0.9706226005675179, test accuracy is 0.9732862903225806\n"
     ]
    },
    {
     "name": "stdout",
     "output_type": "stream",
     "text": [
      "Epoch 160 Loss 0.024094729104653163\n",
      "train accuracy is: 0.971206810215323, test accuracy is 0.9727822580645161\n"
     ]
    },
    {
     "name": "stdout",
     "output_type": "stream",
     "text": [
      "Epoch 170 Loss 0.02357396426901268\n",
      "train accuracy is: 0.9725421465531631, test accuracy is 0.9717741935483871\n"
     ]
    },
    {
     "name": "stdout",
     "output_type": "stream",
     "text": [
      "Epoch 180 Loss 0.02308090644551474\n",
      "train accuracy is: 0.9731263562009681, test accuracy is 0.9727822580645161\n"
     ]
    },
    {
     "name": "stdout",
     "output_type": "stream",
     "text": [
      "Epoch 190 Loss 0.022623730641700705\n",
      "train accuracy is: 0.9737105658487731, test accuracy is 0.9717741935483871\n"
     ]
    },
    {
     "name": "stdout",
     "output_type": "stream",
     "text": [
      "Epoch 200 Loss 0.02218586327261072\n",
      "train accuracy is: 0.9744616925388082, test accuracy is 0.9717741935483871\n"
     ]
    },
    {
     "name": "stdout",
     "output_type": "stream",
     "text": [
      "Epoch 210 Loss 0.02176969150391372\n",
      "train accuracy is: 0.9753797362710733, test accuracy is 0.9722782258064516\n"
     ]
    },
    {
     "name": "stdout",
     "output_type": "stream",
     "text": [
      "Epoch 220 Loss 0.0213686351969307\n",
      "train accuracy is: 0.9757135703555333, test accuracy is 0.9722782258064516\n"
     ]
    },
    {
     "name": "stdout",
     "output_type": "stream",
     "text": [
      "Epoch 230 Loss 0.020987739079304943\n",
      "train accuracy is: 0.9758804873977633, test accuracy is 0.9722782258064516\n"
     ]
    },
    {
     "name": "stdout",
     "output_type": "stream",
     "text": [
      "Epoch 240 Loss 0.020617001801744955\n",
      "train accuracy is: 0.9765481555666834, test accuracy is 0.9722782258064516\n"
     ]
    },
    {
     "data": {
      "text/plain": [
       "0.0067292479254144515"
      ]
     },
     "execution_count": 21,
     "metadata": {},
     "output_type": "execute_result"
    }
   ],
   "source": [
    "learner1.train_loop(dl)"
   ]
  },
  {
   "cell_type": "markdown",
   "metadata": {
    "papermill": {
     "duration": 0.0433,
     "end_time": "2020-08-13T20:21:09.513224",
     "exception": false,
     "start_time": "2020-08-13T20:21:09.469924",
     "status": "completed"
    },
    "tags": []
   },
   "source": [
    "##### Now running only the logistic regression based classification to compare results with NN"
   ]
  },
  {
   "cell_type": "code",
   "execution_count": 22,
   "metadata": {
    "execution": {
     "iopub.execute_input": "2020-08-13T20:21:09.605625Z",
     "iopub.status.busy": "2020-08-13T20:21:09.604748Z",
     "iopub.status.idle": "2020-08-13T20:21:09.619813Z",
     "shell.execute_reply": "2020-08-13T20:21:09.620331Z"
    },
    "papermill": {
     "duration": 0.065237,
     "end_time": "2020-08-13T20:21:09.620580",
     "exception": false,
     "start_time": "2020-08-13T20:21:09.555343",
     "status": "completed"
    },
    "tags": []
   },
   "outputs": [],
   "source": [
    "learner2 = Learner(loss, model_logistic, opt, config.num_epochs)\n",
    "acc2 = ClfCallback(learner2, config.bs, training_xdata , testing_xdata, training_ydata, testing_ydata)\n",
    "learner2.set_callbacks([acc2])"
   ]
  },
  {
   "cell_type": "code",
   "execution_count": 23,
   "metadata": {
    "execution": {
     "iopub.execute_input": "2020-08-13T20:21:09.715122Z",
     "iopub.status.busy": "2020-08-13T20:21:09.714403Z",
     "iopub.status.idle": "2020-08-13T20:21:29.552004Z",
     "shell.execute_reply": "2020-08-13T20:21:29.552651Z"
    },
    "papermill": {
     "duration": 19.888506,
     "end_time": "2020-08-13T20:21:29.552914",
     "exception": false,
     "start_time": "2020-08-13T20:21:09.664408",
     "status": "completed"
    },
    "tags": []
   },
   "outputs": [
    {
     "name": "stdout",
     "output_type": "stream",
     "text": [
      "Epoch 0 Loss 0.23499119149806255\n",
      "train accuracy is: 0.6919545985645135, test accuracy is 0.6824596774193549\n"
     ]
    },
    {
     "name": "stdout",
     "output_type": "stream",
     "text": [
      "Epoch 10 Loss 0.1039281966798495\n",
      "train accuracy is: 0.9084460023368386, test accuracy is 0.9238911290322581\n"
     ]
    },
    {
     "name": "stdout",
     "output_type": "stream",
     "text": [
      "Epoch 20 Loss 0.08012947111277152\n",
      "train accuracy is: 0.9272241695877149, test accuracy is 0.9375\n"
     ]
    },
    {
     "name": "stdout",
     "output_type": "stream",
     "text": [
      "Epoch 30 Loss 0.06893948620753673\n",
      "train accuracy is: 0.9350692705725254, test accuracy is 0.9465725806451613\n"
     ]
    },
    {
     "name": "stdout",
     "output_type": "stream",
     "text": [
      "Epoch 40 Loss 0.06216757465813444\n",
      "train accuracy is: 0.9399933233183108, test accuracy is 0.9526209677419355\n"
     ]
    },
    {
     "name": "stdout",
     "output_type": "stream",
     "text": [
      "Epoch 50 Loss 0.05754241663272324\n",
      "train accuracy is: 0.943415122684026, test accuracy is 0.9546370967741935\n"
     ]
    },
    {
     "name": "stdout",
     "output_type": "stream",
     "text": [
      "Epoch 60 Loss 0.05414731317906321\n",
      "train accuracy is: 0.9466700050075113, test accuracy is 0.9566532258064516\n"
     ]
    },
    {
     "name": "stdout",
     "output_type": "stream",
     "text": [
      "Epoch 70 Loss 0.05152629515736824\n",
      "train accuracy is: 0.9494241362043064, test accuracy is 0.9596774193548387\n"
     ]
    },
    {
     "name": "stdout",
     "output_type": "stream",
     "text": [
      "Epoch 80 Loss 0.04942860461044048\n",
      "train accuracy is: 0.9513436821899516, test accuracy is 0.9611895161290323\n"
     ]
    },
    {
     "name": "stdout",
     "output_type": "stream",
     "text": [
      "Epoch 90 Loss 0.04770181303490937\n",
      "train accuracy is: 0.9519278918377566, test accuracy is 0.9627016129032258\n"
     ]
    },
    {
     "name": "stdout",
     "output_type": "stream",
     "text": [
      "Epoch 100 Loss 0.046248411439902284\n",
      "train accuracy is: 0.9531797696544817, test accuracy is 0.9642137096774194\n"
     ]
    },
    {
     "name": "stdout",
     "output_type": "stream",
     "text": [
      "Epoch 110 Loss 0.04500648273432279\n",
      "train accuracy is: 0.9534301452178268, test accuracy is 0.9652217741935484\n"
     ]
    },
    {
     "name": "stdout",
     "output_type": "stream",
     "text": [
      "Epoch 120 Loss 0.04392626249552184\n",
      "train accuracy is: 0.9542647304289767, test accuracy is 0.9647177419354839\n"
     ]
    },
    {
     "name": "stdout",
     "output_type": "stream",
     "text": [
      "Epoch 130 Loss 0.04297590528492249\n",
      "train accuracy is: 0.9550993156401268, test accuracy is 0.9667338709677419\n"
     ]
    },
    {
     "name": "stdout",
     "output_type": "stream",
     "text": [
      "Epoch 140 Loss 0.04213230541467081\n",
      "train accuracy is: 0.9563511934568519, test accuracy is 0.9667338709677419\n"
     ]
    },
    {
     "name": "stdout",
     "output_type": "stream",
     "text": [
      "Epoch 150 Loss 0.04137628171351278\n",
      "train accuracy is: 0.957436154231347, test accuracy is 0.9667338709677419\n"
     ]
    },
    {
     "name": "stdout",
     "output_type": "stream",
     "text": [
      "Epoch 160 Loss 0.040693259835836305\n",
      "train accuracy is: 0.9581872809213821, test accuracy is 0.967741935483871\n"
     ]
    },
    {
     "name": "stdout",
     "output_type": "stream",
     "text": [
      "Epoch 170 Loss 0.04007196023400872\n",
      "train accuracy is: 0.958604573526957, test accuracy is 0.967741935483871\n"
     ]
    },
    {
     "name": "stdout",
     "output_type": "stream",
     "text": [
      "Epoch 180 Loss 0.039504118581895266\n",
      "train accuracy is: 0.9590218661325322, test accuracy is 0.967741935483871\n"
     ]
    },
    {
     "name": "stdout",
     "output_type": "stream",
     "text": [
      "Epoch 190 Loss 0.03898243114150344\n",
      "train accuracy is: 0.9595226172592222, test accuracy is 0.967741935483871\n"
     ]
    },
    {
     "name": "stdout",
     "output_type": "stream",
     "text": [
      "Epoch 200 Loss 0.03850050497707005\n",
      "train accuracy is: 0.9596060757803372, test accuracy is 0.967741935483871\n"
     ]
    },
    {
     "name": "stdout",
     "output_type": "stream",
     "text": [
      "Epoch 210 Loss 0.03805280571447929\n",
      "train accuracy is: 0.9596895343014522, test accuracy is 0.9682459677419355\n"
     ]
    },
    {
     "name": "stdout",
     "output_type": "stream",
     "text": [
      "Epoch 220 Loss 0.03763676828302223\n",
      "train accuracy is: 0.9602737439492572, test accuracy is 0.9682459677419355\n"
     ]
    },
    {
     "name": "stdout",
     "output_type": "stream",
     "text": [
      "Epoch 230 Loss 0.03724811723897259\n",
      "train accuracy is: 0.9606910365548322, test accuracy is 0.9682459677419355\n"
     ]
    },
    {
     "name": "stdout",
     "output_type": "stream",
     "text": [
      "Epoch 240 Loss 0.03688397446184921\n",
      "train accuracy is: 0.9609414121181773, test accuracy is 0.96875\n"
     ]
    },
    {
     "data": {
      "text/plain": [
       "0.055320750443549976"
      ]
     },
     "execution_count": 23,
     "metadata": {},
     "output_type": "execute_result"
    }
   ],
   "source": [
    "learner2.train_loop(dl)"
   ]
  },
  {
   "cell_type": "markdown",
   "metadata": {
    "papermill": {
     "duration": 0.053728,
     "end_time": "2020-08-13T20:21:29.657947",
     "exception": false,
     "start_time": "2020-08-13T20:21:29.604219",
     "status": "completed"
    },
    "tags": []
   },
   "source": [
    "### Comparing results of NN and LR"
   ]
  },
  {
   "cell_type": "code",
   "execution_count": 24,
   "metadata": {
    "execution": {
     "iopub.execute_input": "2020-08-13T20:21:29.768809Z",
     "iopub.status.busy": "2020-08-13T20:21:29.768167Z",
     "iopub.status.idle": "2020-08-13T20:21:30.048237Z",
     "shell.execute_reply": "2020-08-13T20:21:30.048804Z"
    },
    "papermill": {
     "duration": 0.338771,
     "end_time": "2020-08-13T20:21:30.048993",
     "exception": false,
     "start_time": "2020-08-13T20:21:29.710222",
     "status": "completed"
    },
    "tags": []
   },
   "outputs": [
    {
     "data": {
      "text/plain": [
       "<matplotlib.legend.Legend at 0x7f584f327a20>"
      ]
     },
     "execution_count": 24,
     "metadata": {},
     "output_type": "execute_result"
    },
    {
     "data": {
      "image/png": "[encoded data removed]",
      "text/plain": [
       "<Figure size 576x360 with 1 Axes>"
      ]
     },
     "metadata": {
      "needs_background": "light"
     },
     "output_type": "display_data"
    }
   ],
   "source": [
    "plt.figure(figsize=(8,5))\n",
    "plt.plot(acc1.val_accuracies, 'g-', label = \"Val Accuracies - NN\")\n",
    "plt.plot(acc1.accuracies, 'r-', label = \"Accuracies - NN\")\n",
    "plt.plot(acc2.val_accuracies, 'b-', label = \"Val Accuracies - Logistic Reg\")\n",
    "plt.plot(acc2.accuracies, 'k-', label = \"Accuracies - Logistic Reg\")\n",
    "plt.ylim(0.8,1) ## for a more spread out view\n",
    "plt.legend()"
   ]
  },
  {
   "cell_type": "markdown",
   "metadata": {
    "papermill": {
     "duration": 0.053586,
     "end_time": "2020-08-13T20:21:30.156662",
     "exception": false,
     "start_time": "2020-08-13T20:21:30.103076",
     "status": "completed"
    },
    "tags": []
   },
   "source": [
    "### Clearly NN has a better accuracy over LR; NN is overfitting - Validation accuracy (green) has dropped below training accuracy (orange), also they are diverging. This problem is not seen in LR"
   ]
  },
  {
   "cell_type": "markdown",
   "metadata": {
    "papermill": {
     "duration": 0.049986,
     "end_time": "2020-08-13T20:21:30.256983",
     "exception": false,
     "start_time": "2020-08-13T20:21:30.206997",
     "status": "completed"
    },
    "tags": []
   },
   "source": [
    "##### Now we will be moving through the network, till the output of the second last affine where we get a 2 dimensional output. We will be plotting this 2d output and probability contours"
   ]
  },
  {
   "cell_type": "code",
   "execution_count": 25,
   "metadata": {
    "execution": {
     "iopub.execute_input": "2020-08-13T20:21:30.365798Z",
     "iopub.status.busy": "2020-08-13T20:21:30.364334Z",
     "iopub.status.idle": "2020-08-13T20:21:30.377256Z",
     "shell.execute_reply": "2020-08-13T20:21:30.377918Z"
    },
    "papermill": {
     "duration": 0.068157,
     "end_time": "2020-08-13T20:21:30.378084",
     "exception": false,
     "start_time": "2020-08-13T20:21:30.309927",
     "status": "completed"
    },
    "tags": []
   },
   "outputs": [],
   "source": [
    "model_new = Model(layers[:-2])"
   ]
  },
  {
   "cell_type": "code",
   "execution_count": 26,
   "metadata": {
    "execution": {
     "iopub.execute_input": "2020-08-13T20:21:30.490313Z",
     "iopub.status.busy": "2020-08-13T20:21:30.483508Z",
     "iopub.status.idle": "2020-08-13T20:21:30.509335Z",
     "shell.execute_reply": "2020-08-13T20:21:30.510041Z"
    },
    "papermill": {
     "duration": 0.081157,
     "end_time": "2020-08-13T20:21:30.510191",
     "exception": false,
     "start_time": "2020-08-13T20:21:30.429034",
     "status": "completed"
    },
    "tags": []
   },
   "outputs": [],
   "source": [
    "plot_testing = model_new(testing_xdata)"
   ]
  },
  {
   "cell_type": "markdown",
   "metadata": {
    "papermill": {
     "duration": 0.082612,
     "end_time": "2020-08-13T20:21:30.642690",
     "exception": false,
     "start_time": "2020-08-13T20:21:30.560078",
     "status": "completed"
    },
    "tags": []
   },
   "source": [
    "##### Plotting the scatter plot of points and color coding by class"
   ]
  },
  {
   "cell_type": "code",
   "execution_count": 27,
   "metadata": {
    "execution": {
     "iopub.execute_input": "2020-08-13T20:21:30.760399Z",
     "iopub.status.busy": "2020-08-13T20:21:30.759728Z",
     "iopub.status.idle": "2020-08-13T20:21:31.012787Z",
     "shell.execute_reply": "2020-08-13T20:21:31.013351Z"
    },
    "papermill": {
     "duration": 0.31616,
     "end_time": "2020-08-13T20:21:31.013538",
     "exception": false,
     "start_time": "2020-08-13T20:21:30.697378",
     "status": "completed"
    },
    "tags": []
   },
   "outputs": [
    {
     "data": {
      "image/png": "[encoded data removed]",
      "text/plain": [
       "<Figure size 576x504 with 1 Axes>"
      ]
     },
     "metadata": {
      "needs_background": "light"
     },
     "output_type": "display_data"
    }
   ],
   "source": [
    "plt.figure(figsize=(8,7))\n",
    "plt.scatter(plot_testing[:,0], plot_testing[:,1], alpha = 0.1, c = y_test.ravel());"
   ]
  },
  {
   "cell_type": "markdown",
   "metadata": {
    "papermill": {
     "duration": 0.054033,
     "end_time": "2020-08-13T20:21:31.137766",
     "exception": false,
     "start_time": "2020-08-13T20:21:31.083733",
     "status": "completed"
    },
    "tags": []
   },
   "source": [
    "##### Plotting probability contours"
   ]
  },
  {
   "cell_type": "code",
   "execution_count": 28,
   "metadata": {
    "execution": {
     "iopub.execute_input": "2020-08-13T20:21:31.244413Z",
     "iopub.status.busy": "2020-08-13T20:21:31.243711Z",
     "iopub.status.idle": "2020-08-13T20:21:31.257030Z",
     "shell.execute_reply": "2020-08-13T20:21:31.257654Z"
    },
    "papermill": {
     "duration": 0.068108,
     "end_time": "2020-08-13T20:21:31.257798",
     "exception": false,
     "start_time": "2020-08-13T20:21:31.189690",
     "status": "completed"
    },
    "tags": []
   },
   "outputs": [],
   "source": [
    "model_prob = Model(layers[-2:]) ## picking only last two layers to get probability. That is affine followed by sigmoid"
   ]
  },
  {
   "cell_type": "code",
   "execution_count": 29,
   "metadata": {
    "execution": {
     "iopub.execute_input": "2020-08-13T20:21:31.367226Z",
     "iopub.status.busy": "2020-08-13T20:21:31.366623Z",
     "iopub.status.idle": "2020-08-13T20:21:31.382752Z",
     "shell.execute_reply": "2020-08-13T20:21:31.383329Z"
    },
    "papermill": {
     "duration": 0.079242,
     "end_time": "2020-08-13T20:21:31.383527",
     "exception": false,
     "start_time": "2020-08-13T20:21:31.304285",
     "status": "completed"
    },
    "tags": []
   },
   "outputs": [],
   "source": [
    "xgrid = np.linspace(-4, 1, 100) ## Adjust these values based on above chart, roughly -4 to 1\n",
    "ygrid = np.linspace(-7.5, 7.5, 100) ## Adjust these values based on above chart, roughly -7.5, 7.5\n",
    "xg, yg = np.meshgrid(xgrid, ygrid)\n",
    "# xg and yg are now both 100X100, lets convert them to single arrays \n",
    "\n",
    "xg_interim = np.ravel(xg)\n",
    "yg_interim = np.ravel(yg)\n",
    "\n",
    "## xg_interim, yg_interim are now arrays of len 10000, now we will stack them and then transpose to get desired shape of n rows, 2 columns\n",
    "\n",
    "X_interim = np.vstack((xg_interim, yg_interim)) ## Please note vstack takes in a tuple\n",
    "X = X_interim.T\n",
    "\n",
    "## We want a shape of n rows and 2 columns to be able to feed this to last affine\n",
    "## This last affine takes only two columns, hence the above transformation\n",
    "probability_contour = model_prob(X).reshape(100,100) ## to make it consistent with xg, yg"
   ]
  },
  {
   "cell_type": "code",
   "execution_count": 30,
   "metadata": {
    "execution": {
     "iopub.execute_input": "2020-08-13T20:21:31.499516Z",
     "iopub.status.busy": "2020-08-13T20:21:31.498900Z",
     "iopub.status.idle": "2020-08-13T20:21:31.805335Z",
     "shell.execute_reply": "2020-08-13T20:21:31.804246Z"
    },
    "papermill": {
     "duration": 0.370266,
     "end_time": "2020-08-13T20:21:31.805514",
     "exception": false,
     "start_time": "2020-08-13T20:21:31.435248",
     "status": "completed"
    },
    "tags": []
   },
   "outputs": [
    {
     "data": {
      "image/png": "[encoded data removed]",
      "text/plain": [
       "<Figure size 576x504 with 1 Axes>"
      ]
     },
     "metadata": {
      "needs_background": "light"
     },
     "output_type": "display_data"
    }
   ],
   "source": [
    "plt.figure(figsize=(8,7))\n",
    "plt.scatter(plot_testing[:,0], plot_testing[:,1], alpha = 0.1, c = y_test.ravel())\n",
    "contours = plt.contour(xg,yg,probability_contour)\n",
    "plt.clabel(contours, inline = True );"
   ]
  }
 ],
 "metadata": {
  "kernelspec": {
   "display_name": "Python 3",
   "language": "python",
   "name": "python3"
  },
  "language_info": {
   "codemirror_mode": {
    "name": "ipython",
    "version": 3
   },
   "file_extension": ".py",
   "mimetype": "text/x-python",
   "name": "python",
   "nbconvert_exporter": "python",
   "pygments_lexer": "ipython3",
   "version": "3.6.11"
  },
  "papermill": {
   "duration": 168.436574,
   "end_time": "2020-08-13T20:21:33.139115",
   "environment_variables": {},
   "exception": null,
   "input_path": "2020-08-07-NN-new.ipynb",
   "output_path": "2020-08-07-NN-new.ipynb",
   "parameters": {},
   "start_time": "2020-08-13T20:18:44.702541",
   "version": "2.1.2"
  }
 },
 "nbformat": 4,
 "nbformat_minor": 4
}