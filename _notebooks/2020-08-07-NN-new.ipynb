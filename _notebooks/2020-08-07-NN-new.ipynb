{
 "cells": [
  {
   "cell_type": "markdown",
   "metadata": {
    "papermill": {
     "duration": 0.036508,
     "end_time": "2020-08-10T10:11:21.091212",
     "exception": false,
     "start_time": "2020-08-10T10:11:21.054704",
     "status": "completed"
    },
    "tags": []
   },
   "source": [
    "# \"Building a basic Neural Network from scratch - Kudzu\"\n",
    "\n",
    "- badges: true\n",
    "- author: Anshuman Gupta"
   ]
  },
  {
   "cell_type": "markdown",
   "metadata": {
    "papermill": {
     "duration": 0.029449,
     "end_time": "2020-08-10T10:11:21.149681",
     "exception": false,
     "start_time": "2020-08-10T10:11:21.120232",
     "status": "completed"
    },
    "tags": []
   },
   "source": [
    "#### In this project, the idea is to write a classifier to differentiate between handwritten digits 3 and 8, from the MNIST database.\n",
    "\n",
    "#### I will using a custom built neural network library called Kudzu.This has been developed as a part of KTF/Foundations course of Univ.ai (www.univ.ai). The source code for Kudzu Library and and this notebook can be found on my git-hub profile : www.https://github.com/anshuman6 under the folder project-solution. Any feedback and comments are welcome. Please feel free to email me at: anshuman6@gmail.com\n",
    "\n",
    "#### 1. I will be using the MNIST database. \n",
    "\n",
    "#### 2. I will be comparing the results of the 4 layer NN to a standard logistic regression"
   ]
  },
  {
   "cell_type": "markdown",
   "metadata": {
    "papermill": {
     "duration": 0.028949,
     "end_time": "2020-08-10T10:11:21.207773",
     "exception": false,
     "start_time": "2020-08-10T10:11:21.178824",
     "status": "completed"
    },
    "tags": []
   },
   "source": [
    "##### Importing all the necessary libraries"
   ]
  },
  {
   "cell_type": "code",
   "execution_count": 1,
   "metadata": {
    "execution": {
     "iopub.execute_input": "2020-08-10T10:11:21.272339Z",
     "iopub.status.busy": "2020-08-10T10:11:21.271582Z",
     "iopub.status.idle": "2020-08-10T10:11:21.282970Z",
     "shell.execute_reply": "2020-08-10T10:11:21.283544Z"
    },
    "papermill": {
     "duration": 0.046291,
     "end_time": "2020-08-10T10:11:21.283778",
     "exception": false,
     "start_time": "2020-08-10T10:11:21.237487",
     "status": "completed"
    },
    "tags": []
   },
   "outputs": [],
   "source": [
    "%load_ext autoreload\n",
    "%autoreload 2"
   ]
  },
  {
   "cell_type": "code",
   "execution_count": 2,
   "metadata": {
    "execution": {
     "iopub.execute_input": "2020-08-10T10:11:21.347555Z",
     "iopub.status.busy": "2020-08-10T10:11:21.346979Z",
     "iopub.status.idle": "2020-08-10T10:11:21.921720Z",
     "shell.execute_reply": "2020-08-10T10:11:21.922253Z"
    },
    "papermill": {
     "duration": 0.608216,
     "end_time": "2020-08-10T10:11:21.922410",
     "exception": false,
     "start_time": "2020-08-10T10:11:21.314194",
     "status": "completed"
    },
    "tags": []
   },
   "outputs": [],
   "source": [
    "%matplotlib inline\n",
    "import numpy as np\n",
    "import matplotlib.pyplot as plt\n",
    "import pandas as pd"
   ]
  },
  {
   "cell_type": "markdown",
   "metadata": {
    "papermill": {
     "duration": 0.031667,
     "end_time": "2020-08-10T10:11:21.985089",
     "exception": false,
     "start_time": "2020-08-10T10:11:21.953422",
     "status": "completed"
    },
    "tags": []
   },
   "source": [
    "##### The following command helps us download MNIST from notebook itself. You can skip this if you already have MNIST. You can also download it via your terminal."
   ]
  },
  {
   "cell_type": "code",
   "execution_count": 3,
   "metadata": {
    "execution": {
     "iopub.execute_input": "2020-08-10T10:11:22.047534Z",
     "iopub.status.busy": "2020-08-10T10:11:22.046939Z",
     "iopub.status.idle": "2020-08-10T10:11:23.528278Z",
     "shell.execute_reply": "2020-08-10T10:11:23.529072Z"
    },
    "papermill": {
     "duration": 1.514408,
     "end_time": "2020-08-10T10:11:23.529284",
     "exception": false,
     "start_time": "2020-08-10T10:11:22.014876",
     "status": "completed"
    },
    "tags": []
   },
   "outputs": [
    {
     "name": "stdout",
     "output_type": "stream",
     "text": [
      "Collecting mnist\r\n"
     ]
    },
    {
     "name": "stdout",
     "output_type": "stream",
     "text": [
      "  Downloading mnist-0.2.2-py2.py3-none-any.whl (3.5 kB)\r\n",
      "Requirement already satisfied: numpy in /opt/hostedtoolcache/Python/3.6.11/x64/lib/python3.6/site-packages (from mnist) (1.19.1)\r\n"
     ]
    },
    {
     "name": "stdout",
     "output_type": "stream",
     "text": [
      "Installing collected packages: mnist\r\n"
     ]
    },
    {
     "name": "stdout",
     "output_type": "stream",
     "text": [
      "Successfully installed mnist-0.2.2\r\n"
     ]
    },
    {
     "name": "stdout",
     "output_type": "stream",
     "text": [
      "\u001b[33mWARNING: You are using pip version 20.2; however, version 20.2.1 is available.\r\n",
      "You should consider upgrading via the '/opt/hostedtoolcache/Python/3.6.11/x64/bin/python -m pip install --upgrade pip' command.\u001b[0m\r\n"
     ]
    }
   ],
   "source": [
    "!pip install mnist # Please note, it is commented out for now, you can remove comment if you want to install it"
   ]
  },
  {
   "cell_type": "markdown",
   "metadata": {
    "papermill": {
     "duration": 0.03029,
     "end_time": "2020-08-10T10:11:23.590838",
     "exception": false,
     "start_time": "2020-08-10T10:11:23.560548",
     "status": "completed"
    },
    "tags": []
   },
   "source": [
    "#### Preparing the Data"
   ]
  },
  {
   "cell_type": "code",
   "execution_count": 4,
   "metadata": {
    "execution": {
     "iopub.execute_input": "2020-08-10T10:11:23.657448Z",
     "iopub.status.busy": "2020-08-10T10:11:23.656760Z",
     "iopub.status.idle": "2020-08-10T10:11:23.671152Z",
     "shell.execute_reply": "2020-08-10T10:11:23.670636Z"
    },
    "papermill": {
     "duration": 0.050037,
     "end_time": "2020-08-10T10:11:23.671276",
     "exception": false,
     "start_time": "2020-08-10T10:11:23.621239",
     "status": "completed"
    },
    "tags": []
   },
   "outputs": [],
   "source": [
    "import mnist"
   ]
  },
  {
   "cell_type": "code",
   "execution_count": 5,
   "metadata": {
    "execution": {
     "iopub.execute_input": "2020-08-10T10:11:23.734186Z",
     "iopub.status.busy": "2020-08-10T10:11:23.733617Z",
     "iopub.status.idle": "2020-08-10T10:11:24.584694Z",
     "shell.execute_reply": "2020-08-10T10:11:24.585161Z"
    },
    "papermill": {
     "duration": 0.884019,
     "end_time": "2020-08-10T10:11:24.585324",
     "exception": false,
     "start_time": "2020-08-10T10:11:23.701305",
     "status": "completed"
    },
    "tags": []
   },
   "outputs": [],
   "source": [
    "train_images = mnist.train_images()\n",
    "train_labels = mnist.train_labels()"
   ]
  },
  {
   "cell_type": "code",
   "execution_count": 6,
   "metadata": {
    "execution": {
     "iopub.execute_input": "2020-08-10T10:11:24.658920Z",
     "iopub.status.busy": "2020-08-10T10:11:24.658254Z",
     "iopub.status.idle": "2020-08-10T10:11:24.677210Z",
     "shell.execute_reply": "2020-08-10T10:11:24.677828Z"
    },
    "papermill": {
     "duration": 0.05697,
     "end_time": "2020-08-10T10:11:24.677977",
     "exception": false,
     "start_time": "2020-08-10T10:11:24.621007",
     "status": "completed"
    },
    "tags": []
   },
   "outputs": [
    {
     "data": {
      "text/plain": [
       "((60000, 28, 28), (60000,))"
      ]
     },
     "execution_count": 6,
     "metadata": {},
     "output_type": "execute_result"
    }
   ],
   "source": [
    "train_images.shape, train_labels.shape"
   ]
  },
  {
   "cell_type": "code",
   "execution_count": 7,
   "metadata": {
    "execution": {
     "iopub.execute_input": "2020-08-10T10:11:24.750558Z",
     "iopub.status.busy": "2020-08-10T10:11:24.749865Z",
     "iopub.status.idle": "2020-08-10T10:11:24.999296Z",
     "shell.execute_reply": "2020-08-10T10:11:24.998752Z"
    },
    "papermill": {
     "duration": 0.287297,
     "end_time": "2020-08-10T10:11:24.999452",
     "exception": false,
     "start_time": "2020-08-10T10:11:24.712155",
     "status": "completed"
    },
    "tags": []
   },
   "outputs": [],
   "source": [
    "test_images = mnist.test_images()\n",
    "test_labels = mnist.test_labels()"
   ]
  },
  {
   "cell_type": "code",
   "execution_count": 8,
   "metadata": {
    "execution": {
     "iopub.execute_input": "2020-08-10T10:11:25.067509Z",
     "iopub.status.busy": "2020-08-10T10:11:25.066846Z",
     "iopub.status.idle": "2020-08-10T10:11:25.084336Z",
     "shell.execute_reply": "2020-08-10T10:11:25.083720Z"
    },
    "papermill": {
     "duration": 0.053228,
     "end_time": "2020-08-10T10:11:25.084479",
     "exception": false,
     "start_time": "2020-08-10T10:11:25.031251",
     "status": "completed"
    },
    "tags": []
   },
   "outputs": [
    {
     "data": {
      "text/plain": [
       "((10000, 28, 28), (10000,))"
      ]
     },
     "execution_count": 8,
     "metadata": {},
     "output_type": "execute_result"
    }
   ],
   "source": [
    "test_images.shape, test_labels.shape"
   ]
  },
  {
   "cell_type": "code",
   "execution_count": 9,
   "metadata": {
    "execution": {
     "iopub.execute_input": "2020-08-10T10:11:25.150429Z",
     "iopub.status.busy": "2020-08-10T10:11:25.149867Z",
     "iopub.status.idle": "2020-08-10T10:11:25.359465Z",
     "shell.execute_reply": "2020-08-10T10:11:25.358923Z"
    },
    "papermill": {
     "duration": 0.242895,
     "end_time": "2020-08-10T10:11:25.359619",
     "exception": false,
     "start_time": "2020-08-10T10:11:25.116724",
     "status": "completed"
    },
    "tags": []
   },
   "outputs": [
    {
     "name": "stdout",
     "output_type": "stream",
     "text": [
      "2\n"
     ]
    },
    {
     "data": {
      "text/plain": [
       "<matplotlib.image.AxesImage at 0x7fea67eb5358>"
      ]
     },
     "execution_count": 9,
     "metadata": {},
     "output_type": "execute_result"
    },
    {
     "data": {
      "image/png": "[encoded data removed]",
      "text/plain": [
       "<Figure size 432x288 with 1 Axes>"
      ]
     },
     "metadata": {
      "needs_background": "light"
     },
     "output_type": "display_data"
    }
   ],
   "source": [
    "image_index = 7776 # You may select anything up to 60,000\n",
    "print(train_labels[image_index]) \n",
    "plt.imshow(train_images[image_index], cmap='Greys')"
   ]
  },
  {
   "cell_type": "markdown",
   "metadata": {
    "papermill": {
     "duration": 0.033576,
     "end_time": "2020-08-10T10:11:25.429014",
     "exception": false,
     "start_time": "2020-08-10T10:11:25.395438",
     "status": "completed"
    },
    "tags": []
   },
   "source": [
    "## Filter data to get 3 and 8 out"
   ]
  },
  {
   "cell_type": "code",
   "execution_count": 10,
   "metadata": {
    "execution": {
     "iopub.execute_input": "2020-08-10T10:11:25.499787Z",
     "iopub.status.busy": "2020-08-10T10:11:25.498972Z",
     "iopub.status.idle": "2020-08-10T10:11:25.519427Z",
     "shell.execute_reply": "2020-08-10T10:11:25.518858Z"
    },
    "papermill": {
     "duration": 0.057633,
     "end_time": "2020-08-10T10:11:25.519561",
     "exception": false,
     "start_time": "2020-08-10T10:11:25.461928",
     "status": "completed"
    },
    "tags": []
   },
   "outputs": [],
   "source": [
    "train_filter = np.where((train_labels == 3 ) | (train_labels == 8))\n",
    "test_filter = np.where((test_labels == 3) | (test_labels == 8))\n",
    "X_train, y_train = train_images[train_filter], train_labels[train_filter]\n",
    "X_test, y_test = test_images[test_filter], test_labels[test_filter]"
   ]
  },
  {
   "cell_type": "markdown",
   "metadata": {
    "papermill": {
     "duration": 0.032098,
     "end_time": "2020-08-10T10:11:25.587630",
     "exception": false,
     "start_time": "2020-08-10T10:11:25.555532",
     "status": "completed"
    },
    "tags": []
   },
   "source": [
    "##### We normalize the pizel values in the 0 to 1 range"
   ]
  },
  {
   "cell_type": "code",
   "execution_count": 11,
   "metadata": {
    "execution": {
     "iopub.execute_input": "2020-08-10T10:11:25.666507Z",
     "iopub.status.busy": "2020-08-10T10:11:25.665722Z",
     "iopub.status.idle": "2020-08-10T10:11:25.728534Z",
     "shell.execute_reply": "2020-08-10T10:11:25.727977Z"
    },
    "papermill": {
     "duration": 0.109386,
     "end_time": "2020-08-10T10:11:25.728676",
     "exception": false,
     "start_time": "2020-08-10T10:11:25.619290",
     "status": "completed"
    },
    "tags": []
   },
   "outputs": [],
   "source": [
    "X_train = X_train/255.\n",
    "X_test = X_test/255."
   ]
  },
  {
   "cell_type": "markdown",
   "metadata": {
    "papermill": {
     "duration": 0.031348,
     "end_time": "2020-08-10T10:11:25.792221",
     "exception": false,
     "start_time": "2020-08-10T10:11:25.760873",
     "status": "completed"
    },
    "tags": []
   },
   "source": [
    "And setup the labels as 1 (when the digit is 3) and 0 (when the digit is 8)"
   ]
  },
  {
   "cell_type": "code",
   "execution_count": 12,
   "metadata": {
    "execution": {
     "iopub.execute_input": "2020-08-10T10:11:25.859394Z",
     "iopub.status.busy": "2020-08-10T10:11:25.858696Z",
     "iopub.status.idle": "2020-08-10T10:11:25.871020Z",
     "shell.execute_reply": "2020-08-10T10:11:25.870534Z"
    },
    "papermill": {
     "duration": 0.048139,
     "end_time": "2020-08-10T10:11:25.871133",
     "exception": false,
     "start_time": "2020-08-10T10:11:25.822994",
     "status": "completed"
    },
    "tags": []
   },
   "outputs": [],
   "source": [
    "y_train = 1*(y_train==3)\n",
    "y_test = 1*(y_test==3)"
   ]
  },
  {
   "cell_type": "code",
   "execution_count": 13,
   "metadata": {
    "execution": {
     "iopub.execute_input": "2020-08-10T10:11:25.942434Z",
     "iopub.status.busy": "2020-08-10T10:11:25.941801Z",
     "iopub.status.idle": "2020-08-10T10:11:25.956567Z",
     "shell.execute_reply": "2020-08-10T10:11:25.955797Z"
    },
    "papermill": {
     "duration": 0.052044,
     "end_time": "2020-08-10T10:11:25.956718",
     "exception": false,
     "start_time": "2020-08-10T10:11:25.904674",
     "status": "completed"
    },
    "tags": []
   },
   "outputs": [
    {
     "data": {
      "text/plain": [
       "((11982, 28, 28), (1984, 28, 28))"
      ]
     },
     "execution_count": 13,
     "metadata": {},
     "output_type": "execute_result"
    }
   ],
   "source": [
    "X_train.shape, X_test.shape"
   ]
  },
  {
   "cell_type": "markdown",
   "metadata": {
    "papermill": {
     "duration": 0.032907,
     "end_time": "2020-08-10T10:11:26.021062",
     "exception": false,
     "start_time": "2020-08-10T10:11:25.988155",
     "status": "completed"
    },
    "tags": []
   },
   "source": [
    "##### We reshape the data to flatten the image pixels into a set of features or co-variates:"
   ]
  },
  {
   "cell_type": "code",
   "execution_count": 14,
   "metadata": {
    "execution": {
     "iopub.execute_input": "2020-08-10T10:11:26.105710Z",
     "iopub.status.busy": "2020-08-10T10:11:26.105070Z",
     "iopub.status.idle": "2020-08-10T10:11:26.119175Z",
     "shell.execute_reply": "2020-08-10T10:11:26.118719Z"
    },
    "papermill": {
     "duration": 0.06034,
     "end_time": "2020-08-10T10:11:26.119318",
     "exception": false,
     "start_time": "2020-08-10T10:11:26.058978",
     "status": "completed"
    },
    "tags": []
   },
   "outputs": [
    {
     "data": {
      "text/plain": [
       "((11982, 784), (1984, 784))"
      ]
     },
     "execution_count": 14,
     "metadata": {},
     "output_type": "execute_result"
    }
   ],
   "source": [
    "X_train = X_train.reshape(X_train.shape[0], -1)\n",
    "X_test = X_test.reshape(X_test.shape[0], -1)\n",
    "X_train.shape, X_test.shape"
   ]
  },
  {
   "cell_type": "markdown",
   "metadata": {
    "papermill": {
     "duration": 0.031706,
     "end_time": "2020-08-10T10:11:26.182878",
     "exception": false,
     "start_time": "2020-08-10T10:11:26.151172",
     "status": "completed"
    },
    "tags": []
   },
   "source": [
    "##### Importing Kudzu library and its functionality"
   ]
  },
  {
   "cell_type": "code",
   "execution_count": 15,
   "metadata": {
    "execution": {
     "iopub.execute_input": "2020-08-10T10:11:26.252155Z",
     "iopub.status.busy": "2020-08-10T10:11:26.251536Z",
     "iopub.status.idle": "2020-08-10T10:11:26.270646Z",
     "shell.execute_reply": "2020-08-10T10:11:26.271295Z"
    },
    "papermill": {
     "duration": 0.055197,
     "end_time": "2020-08-10T10:11:26.271467",
     "exception": false,
     "start_time": "2020-08-10T10:11:26.216270",
     "status": "completed"
    },
    "tags": []
   },
   "outputs": [],
   "source": [
    "from kudzu.data import Data, Dataloader, Sampler\n",
    "from kudzu.callbacks import AccCallback\n",
    "from kudzu.loss import MSE\n",
    "from kudzu.layer import Affine, Sigmoid\n",
    "from kudzu.model import Model\n",
    "from kudzu.optim import GD\n",
    "from kudzu.train import Learner\n",
    "from kudzu.callbacks import ClfCallback\n",
    "from kudzu.layer import Sigmoid\n",
    "from kudzu.layer import Relu"
   ]
  },
  {
   "cell_type": "markdown",
   "metadata": {
    "papermill": {
     "duration": 0.032849,
     "end_time": "2020-08-10T10:11:26.336087",
     "exception": false,
     "start_time": "2020-08-10T10:11:26.303238",
     "status": "completed"
    },
    "tags": []
   },
   "source": [
    "##### We are creating a class, just so that we can use it to store our parameters for us"
   ]
  },
  {
   "cell_type": "code",
   "execution_count": 16,
   "metadata": {
    "execution": {
     "iopub.execute_input": "2020-08-10T10:11:26.406077Z",
     "iopub.status.busy": "2020-08-10T10:11:26.405415Z",
     "iopub.status.idle": "2020-08-10T10:11:26.417960Z",
     "shell.execute_reply": "2020-08-10T10:11:26.417461Z"
    },
    "papermill": {
     "duration": 0.048497,
     "end_time": "2020-08-10T10:11:26.418176",
     "exception": false,
     "start_time": "2020-08-10T10:11:26.369679",
     "status": "completed"
    },
    "tags": []
   },
   "outputs": [],
   "source": [
    "class Config:\n",
    "    pass\n",
    "config = Config()\n",
    "config.lr = 0.001\n",
    "config.num_epochs = 250\n",
    "config.bs = 50"
   ]
  },
  {
   "cell_type": "markdown",
   "metadata": {
    "papermill": {
     "duration": 0.033012,
     "end_time": "2020-08-10T10:11:26.484171",
     "exception": false,
     "start_time": "2020-08-10T10:11:26.451159",
     "status": "completed"
    },
    "tags": []
   },
   "source": [
    "##### Initializing Data"
   ]
  },
  {
   "cell_type": "code",
   "execution_count": 17,
   "metadata": {
    "execution": {
     "iopub.execute_input": "2020-08-10T10:11:26.557656Z",
     "iopub.status.busy": "2020-08-10T10:11:26.557002Z",
     "iopub.status.idle": "2020-08-10T10:11:26.573387Z",
     "shell.execute_reply": "2020-08-10T10:11:26.572893Z"
    },
    "papermill": {
     "duration": 0.055648,
     "end_time": "2020-08-10T10:11:26.573513",
     "exception": false,
     "start_time": "2020-08-10T10:11:26.517865",
     "status": "completed"
    },
    "tags": []
   },
   "outputs": [],
   "source": [
    "data = Data(X_train, y_train.reshape(-1,1))\n",
    "loss = MSE()\n",
    "opt = GD(config.lr)\n",
    "sampler = Sampler(data, config.bs, shuffle=True)\n",
    "dl = Dataloader(data, sampler)"
   ]
  },
  {
   "cell_type": "markdown",
   "metadata": {
    "papermill": {
     "duration": 0.032375,
     "end_time": "2020-08-10T10:11:26.639655",
     "exception": false,
     "start_time": "2020-08-10T10:11:26.607280",
     "status": "completed"
    },
    "tags": []
   },
   "source": [
    "##### Constructing 2 different layers, one for NN and one only for logistic regression."
   ]
  },
  {
   "cell_type": "markdown",
   "metadata": {
    "papermill": {
     "duration": 0.032837,
     "end_time": "2020-08-10T10:11:26.705107",
     "exception": false,
     "start_time": "2020-08-10T10:11:26.672270",
     "status": "completed"
    },
    "tags": []
   },
   "source": [
    "##### Creating containers for data to be passed, to calculate accuracies"
   ]
  },
  {
   "cell_type": "code",
   "execution_count": 18,
   "metadata": {
    "execution": {
     "iopub.execute_input": "2020-08-10T10:11:26.775580Z",
     "iopub.status.busy": "2020-08-10T10:11:26.774980Z",
     "iopub.status.idle": "2020-08-10T10:11:26.787642Z",
     "shell.execute_reply": "2020-08-10T10:11:26.788315Z"
    },
    "papermill": {
     "duration": 0.050617,
     "end_time": "2020-08-10T10:11:26.788472",
     "exception": false,
     "start_time": "2020-08-10T10:11:26.737855",
     "status": "completed"
    },
    "tags": []
   },
   "outputs": [],
   "source": [
    "training_xdata = X_train\n",
    "testing_xdata = X_test\n",
    "training_ydata = y_train.reshape(-1,1)\n",
    "testing_ydata = y_test.reshape(-1,1)"
   ]
  },
  {
   "cell_type": "markdown",
   "metadata": {
    "papermill": {
     "duration": 0.040522,
     "end_time": "2020-08-10T10:11:26.860506",
     "exception": false,
     "start_time": "2020-08-10T10:11:26.819984",
     "status": "completed"
    },
    "tags": []
   },
   "source": [
    "##### Initializing models and Running training loop: "
   ]
  },
  {
   "cell_type": "code",
   "execution_count": 19,
   "metadata": {
    "execution": {
     "iopub.execute_input": "2020-08-10T10:11:26.928422Z",
     "iopub.status.busy": "2020-08-10T10:11:26.927810Z",
     "iopub.status.idle": "2020-08-10T10:11:26.945275Z",
     "shell.execute_reply": "2020-08-10T10:11:26.944693Z"
    },
    "papermill": {
     "duration": 0.053397,
     "end_time": "2020-08-10T10:11:26.945396",
     "exception": false,
     "start_time": "2020-08-10T10:11:26.891999",
     "status": "completed"
    },
    "tags": []
   },
   "outputs": [],
   "source": [
    "layers = [Affine(\"first\", 784, 100), Relu(\"first\"), Affine(\"second\", 100, 100), Relu(\"second\"), Affine(\"third\", 100, 2), Affine(\"final\", 2, 1), Sigmoid(\"final\")]\n",
    "\n",
    "model_neural = Model(layers)\n",
    "model_logistic = Model([Affine(\"logits\", 784, 1), Sigmoid(\"sigmoid\")])"
   ]
  },
  {
   "cell_type": "code",
   "execution_count": 20,
   "metadata": {
    "execution": {
     "iopub.execute_input": "2020-08-10T10:11:27.012053Z",
     "iopub.status.busy": "2020-08-10T10:11:27.011345Z",
     "iopub.status.idle": "2020-08-10T10:11:27.023824Z",
     "shell.execute_reply": "2020-08-10T10:11:27.023258Z"
    },
    "papermill": {
     "duration": 0.047988,
     "end_time": "2020-08-10T10:11:27.024038",
     "exception": false,
     "start_time": "2020-08-10T10:11:26.976050",
     "status": "completed"
    },
    "tags": []
   },
   "outputs": [],
   "source": [
    "learner1 = Learner(loss, model_neural, opt, config.num_epochs)\n",
    "acc1 = ClfCallback(learner1, config.bs, training_xdata , testing_xdata, training_ydata, testing_ydata)\n",
    "learner1.set_callbacks([acc1])"
   ]
  },
  {
   "cell_type": "code",
   "execution_count": 21,
   "metadata": {
    "execution": {
     "iopub.execute_input": "2020-08-10T10:11:27.102123Z",
     "iopub.status.busy": "2020-08-10T10:11:27.101454Z",
     "iopub.status.idle": "2020-08-10T10:13:46.907418Z",
     "shell.execute_reply": "2020-08-10T10:13:46.906502Z"
    },
    "papermill": {
     "duration": 139.850333,
     "end_time": "2020-08-10T10:13:46.907629",
     "exception": false,
     "start_time": "2020-08-10T10:11:27.057296",
     "status": "completed"
    },
    "tags": []
   },
   "outputs": [
    {
     "name": "stdout",
     "output_type": "stream",
     "text": [
      "Epoch 0 Loss 0.2269264452492351\n",
      "train accuracy is: 0.7773326656651645, test accuracy is 0.7837701612903226\n"
     ]
    },
    {
     "name": "stdout",
     "output_type": "stream",
     "text": [
      "Epoch 10 Loss 0.07063532295042196\n",
      "train accuracy is: 0.9311467200801202, test accuracy is 0.9410282258064516\n"
     ]
    },
    {
     "name": "stdout",
     "output_type": "stream",
     "text": [
      "Epoch 20 Loss 0.04750801388720807\n",
      "train accuracy is: 0.9492572191620764, test accuracy is 0.9551411290322581\n"
     ]
    },
    {
     "name": "stdout",
     "output_type": "stream",
     "text": [
      "Epoch 30 Loss 0.038799203334765095\n",
      "train accuracy is: 0.956851944583542, test accuracy is 0.9632056451612904\n"
     ]
    },
    {
     "name": "stdout",
     "output_type": "stream",
     "text": [
      "Epoch 40 Loss 0.03416858040346077\n",
      "train accuracy is: 0.9617759973293273, test accuracy is 0.9642137096774194\n"
     ]
    },
    {
     "name": "stdout",
     "output_type": "stream",
     "text": [
      "Epoch 50 Loss 0.031198690055252946\n",
      "train accuracy is: 0.9645301285261225, test accuracy is 0.9657258064516129\n"
     ]
    },
    {
     "name": "stdout",
     "output_type": "stream",
     "text": [
      "Epoch 60 Loss 0.02906137776008412\n",
      "train accuracy is: 0.9659489233850777, test accuracy is 0.9682459677419355\n"
     ]
    },
    {
     "name": "stdout",
     "output_type": "stream",
     "text": [
      "Epoch 70 Loss 0.02739431175545017\n",
      "train accuracy is: 0.9680353864129527, test accuracy is 0.96875\n"
     ]
    },
    {
     "name": "stdout",
     "output_type": "stream",
     "text": [
      "Epoch 80 Loss 0.026026291799436604\n",
      "train accuracy is: 0.9696210983141379, test accuracy is 0.9692540322580645\n"
     ]
    },
    {
     "name": "stdout",
     "output_type": "stream",
     "text": [
      "Epoch 90 Loss 0.024859584792057975\n",
      "train accuracy is: 0.970872976130863, test accuracy is 0.9702620967741935\n"
     ]
    },
    {
     "name": "stdout",
     "output_type": "stream",
     "text": [
      "Epoch 100 Loss 0.023836395230924196\n",
      "train accuracy is: 0.9722083124687031, test accuracy is 0.9717741935483871\n"
     ]
    },
    {
     "name": "stdout",
     "output_type": "stream",
     "text": [
      "Epoch 110 Loss 0.022919868536848027\n",
      "train accuracy is: 0.9739609414121182, test accuracy is 0.9722782258064516\n"
     ]
    },
    {
     "name": "stdout",
     "output_type": "stream",
     "text": [
      "Epoch 120 Loss 0.022095091166852578\n",
      "train accuracy is: 0.9748789851443832, test accuracy is 0.9727822580645161\n"
     ]
    },
    {
     "name": "stdout",
     "output_type": "stream",
     "text": [
      "Epoch 130 Loss 0.02133472166373647\n",
      "train accuracy is: 0.9758804873977633, test accuracy is 0.9732862903225806\n"
     ]
    },
    {
     "name": "stdout",
     "output_type": "stream",
     "text": [
      "Epoch 140 Loss 0.020651402021980014\n",
      "train accuracy is: 0.9771323652144884, test accuracy is 0.9742943548387096\n"
     ]
    },
    {
     "name": "stdout",
     "output_type": "stream",
     "text": [
      "Epoch 150 Loss 0.020003913919554892\n",
      "train accuracy is: 0.9781338674678685, test accuracy is 0.9747983870967742\n"
     ]
    },
    {
     "name": "stdout",
     "output_type": "stream",
     "text": [
      "Epoch 160 Loss 0.019398659614017884\n",
      "train accuracy is: 0.9788849941579035, test accuracy is 0.9753024193548387\n"
     ]
    },
    {
     "name": "stdout",
     "output_type": "stream",
     "text": [
      "Epoch 170 Loss 0.018834940513584014\n",
      "train accuracy is: 0.9792188282423635, test accuracy is 0.9753024193548387\n"
     ]
    },
    {
     "name": "stdout",
     "output_type": "stream",
     "text": [
      "Epoch 180 Loss 0.018288234515042946\n",
      "train accuracy is: 0.9804707060590886, test accuracy is 0.9758064516129032\n"
     ]
    },
    {
     "name": "stdout",
     "output_type": "stream",
     "text": [
      "Epoch 190 Loss 0.017774346372744956\n",
      "train accuracy is: 0.9810549157068936, test accuracy is 0.9768145161290323\n"
     ]
    },
    {
     "name": "stdout",
     "output_type": "stream",
     "text": [
      "Epoch 200 Loss 0.01728211112400969\n",
      "train accuracy is: 0.9819729594391587, test accuracy is 0.9773185483870968\n"
     ]
    },
    {
     "name": "stdout",
     "output_type": "stream",
     "text": [
      "Epoch 210 Loss 0.0168136084332331\n",
      "train accuracy is: 0.9826406276080788, test accuracy is 0.9778225806451613\n"
     ]
    },
    {
     "name": "stdout",
     "output_type": "stream",
     "text": [
      "Epoch 220 Loss 0.016374421790206203\n",
      "train accuracy is: 0.9832248372558838, test accuracy is 0.9778225806451613\n"
     ]
    },
    {
     "name": "stdout",
     "output_type": "stream",
     "text": [
      "Epoch 230 Loss 0.015961707954573294\n",
      "train accuracy is: 0.9838090469036889, test accuracy is 0.9778225806451613\n"
     ]
    },
    {
     "name": "stdout",
     "output_type": "stream",
     "text": [
      "Epoch 240 Loss 0.01556502732424906\n",
      "train accuracy is: 0.9841428809881488, test accuracy is 0.9783266129032258\n"
     ]
    },
    {
     "data": {
      "text/plain": [
       "0.0006232568364495368"
      ]
     },
     "execution_count": 21,
     "metadata": {},
     "output_type": "execute_result"
    }
   ],
   "source": [
    "learner1.train_loop(dl)"
   ]
  },
  {
   "cell_type": "markdown",
   "metadata": {
    "papermill": {
     "duration": 0.042162,
     "end_time": "2020-08-10T10:13:46.992392",
     "exception": false,
     "start_time": "2020-08-10T10:13:46.950230",
     "status": "completed"
    },
    "tags": []
   },
   "source": [
    "##### Now running only the logistic regression based classification to compare results with NN"
   ]
  },
  {
   "cell_type": "code",
   "execution_count": 22,
   "metadata": {
    "execution": {
     "iopub.execute_input": "2020-08-10T10:13:47.081421Z",
     "iopub.status.busy": "2020-08-10T10:13:47.080745Z",
     "iopub.status.idle": "2020-08-10T10:13:47.093158Z",
     "shell.execute_reply": "2020-08-10T10:13:47.092522Z"
    },
    "papermill": {
     "duration": 0.060069,
     "end_time": "2020-08-10T10:13:47.093314",
     "exception": false,
     "start_time": "2020-08-10T10:13:47.033245",
     "status": "completed"
    },
    "tags": []
   },
   "outputs": [],
   "source": [
    "learner2 = Learner(loss, model_logistic, opt, config.num_epochs)\n",
    "acc2 = ClfCallback(learner2, config.bs, training_xdata , testing_xdata, training_ydata, testing_ydata)\n",
    "learner2.set_callbacks([acc2])"
   ]
  },
  {
   "cell_type": "code",
   "execution_count": 23,
   "metadata": {
    "execution": {
     "iopub.execute_input": "2020-08-10T10:13:47.184760Z",
     "iopub.status.busy": "2020-08-10T10:13:47.182059Z",
     "iopub.status.idle": "2020-08-10T10:14:07.802465Z",
     "shell.execute_reply": "2020-08-10T10:14:07.803279Z"
    },
    "papermill": {
     "duration": 20.667544,
     "end_time": "2020-08-10T10:14:07.803473",
     "exception": false,
     "start_time": "2020-08-10T10:13:47.135929",
     "status": "completed"
    },
    "tags": []
   },
   "outputs": [
    {
     "name": "stdout",
     "output_type": "stream",
     "text": [
      "Epoch 0 Loss 0.2391534054620842\n",
      "train accuracy is: 0.7184944082790853, test accuracy is 0.7409274193548387\n"
     ]
    },
    {
     "name": "stdout",
     "output_type": "stream",
     "text": [
      "Epoch 10 Loss 0.10178584471946708\n",
      "train accuracy is: 0.9112835920547487, test accuracy is 0.9238911290322581\n"
     ]
    },
    {
     "name": "stdout",
     "output_type": "stream",
     "text": [
      "Epoch 20 Loss 0.07867202465278396\n",
      "train accuracy is: 0.9288098814889, test accuracy is 0.9380040322580645\n"
     ]
    },
    {
     "name": "stdout",
     "output_type": "stream",
     "text": [
      "Epoch 30 Loss 0.06800171490447061\n",
      "train accuracy is: 0.9375730262059756, test accuracy is 0.9450604838709677\n"
     ]
    },
    {
     "name": "stdout",
     "output_type": "stream",
     "text": [
      "Epoch 40 Loss 0.06155794227076981\n",
      "train accuracy is: 0.9420797863461859, test accuracy is 0.9485887096774194\n"
     ]
    },
    {
     "name": "stdout",
     "output_type": "stream",
     "text": [
      "Epoch 50 Loss 0.05714868051060704\n",
      "train accuracy is: 0.9448339175429812, test accuracy is 0.9506048387096774\n"
     ]
    },
    {
     "name": "stdout",
     "output_type": "stream",
     "text": [
      "Epoch 60 Loss 0.05389793670924524\n",
      "train accuracy is: 0.9465030879652813, test accuracy is 0.952116935483871\n"
     ]
    },
    {
     "name": "stdout",
     "output_type": "stream",
     "text": [
      "Epoch 70 Loss 0.05137899980143265\n",
      "train accuracy is: 0.9485895509931564, test accuracy is 0.9546370967741935\n"
     ]
    },
    {
     "name": "stdout",
     "output_type": "stream",
     "text": [
      "Epoch 80 Loss 0.04935493495548457\n",
      "train accuracy is: 0.9500918043732265, test accuracy is 0.9556451612903226\n"
     ]
    },
    {
     "name": "stdout",
     "output_type": "stream",
     "text": [
      "Epoch 90 Loss 0.04768406601617035\n",
      "train accuracy is: 0.9520113503588716, test accuracy is 0.9571572580645161\n"
     ]
    },
    {
     "name": "stdout",
     "output_type": "stream",
     "text": [
      "Epoch 100 Loss 0.04627291008626323\n",
      "train accuracy is: 0.9524286429644466, test accuracy is 0.9576612903225806\n"
     ]
    },
    {
     "name": "stdout",
     "output_type": "stream",
     "text": [
      "Epoch 110 Loss 0.0450615519055123\n",
      "train accuracy is: 0.9535970622600568, test accuracy is 0.9591733870967742\n"
     ]
    },
    {
     "name": "stdout",
     "output_type": "stream",
     "text": [
      "Epoch 120 Loss 0.04400562469078334\n",
      "train accuracy is: 0.9545985645134368, test accuracy is 0.9601814516129032\n"
     ]
    },
    {
     "name": "stdout",
     "output_type": "stream",
     "text": [
      "Epoch 130 Loss 0.043075194829484846\n",
      "train accuracy is: 0.9555166082457018, test accuracy is 0.9616935483870968\n"
     ]
    },
    {
     "name": "stdout",
     "output_type": "stream",
     "text": [
      "Epoch 140 Loss 0.04224651005261071\n",
      "train accuracy is: 0.9562677349357369, test accuracy is 0.9642137096774194\n"
     ]
    },
    {
     "name": "stdout",
     "output_type": "stream",
     "text": [
      "Epoch 150 Loss 0.04150262784204929\n",
      "train accuracy is: 0.956685027541312, test accuracy is 0.9647177419354839\n"
     ]
    },
    {
     "name": "stdout",
     "output_type": "stream",
     "text": [
      "Epoch 160 Loss 0.04082875068812656\n",
      "train accuracy is: 0.957185778668002, test accuracy is 0.9647177419354839\n"
     ]
    },
    {
     "name": "stdout",
     "output_type": "stream",
     "text": [
      "Epoch 170 Loss 0.04021527228574257\n",
      "train accuracy is: 0.9578534468369221, test accuracy is 0.9647177419354839\n"
     ]
    },
    {
     "name": "stdout",
     "output_type": "stream",
     "text": [
      "Epoch 180 Loss 0.039652436517481175\n",
      "train accuracy is: 0.9585211150058421, test accuracy is 0.9652217741935484\n"
     ]
    },
    {
     "name": "stdout",
     "output_type": "stream",
     "text": [
      "Epoch 190 Loss 0.039135464327161446\n",
      "train accuracy is: 0.9588549490903021, test accuracy is 0.9657258064516129\n"
     ]
    },
    {
     "name": "stdout",
     "output_type": "stream",
     "text": [
      "Epoch 200 Loss 0.0386565413340886\n",
      "train accuracy is: 0.9595226172592222, test accuracy is 0.9662298387096774\n"
     ]
    },
    {
     "name": "stdout",
     "output_type": "stream",
     "text": [
      "Epoch 210 Loss 0.038212030873978425\n",
      "train accuracy is: 0.9599399098647972, test accuracy is 0.9667338709677419\n"
     ]
    },
    {
     "name": "stdout",
     "output_type": "stream",
     "text": [
      "Epoch 220 Loss 0.03779790504064589\n",
      "train accuracy is: 0.9600233683859122, test accuracy is 0.9667338709677419\n"
     ]
    },
    {
     "name": "stdout",
     "output_type": "stream",
     "text": [
      "Epoch 230 Loss 0.037410847730777116\n",
      "train accuracy is: 0.9604406609914873, test accuracy is 0.9662298387096774\n"
     ]
    },
    {
     "name": "stdout",
     "output_type": "stream",
     "text": [
      "Epoch 240 Loss 0.037047202157412584\n",
      "train accuracy is: 0.9606910365548322, test accuracy is 0.9662298387096774\n"
     ]
    },
    {
     "data": {
      "text/plain": [
       "0.030962255551162166"
      ]
     },
     "execution_count": 23,
     "metadata": {},
     "output_type": "execute_result"
    }
   ],
   "source": [
    "learner2.train_loop(dl)"
   ]
  },
  {
   "cell_type": "markdown",
   "metadata": {
    "papermill": {
     "duration": 0.048784,
     "end_time": "2020-08-10T10:14:07.902071",
     "exception": false,
     "start_time": "2020-08-10T10:14:07.853287",
     "status": "completed"
    },
    "tags": []
   },
   "source": [
    "### Comparing results of NN and LR"
   ]
  },
  {
   "cell_type": "code",
   "execution_count": 24,
   "metadata": {
    "execution": {
     "iopub.execute_input": "2020-08-10T10:14:08.008462Z",
     "iopub.status.busy": "2020-08-10T10:14:08.007829Z",
     "iopub.status.idle": "2020-08-10T10:14:08.284620Z",
     "shell.execute_reply": "2020-08-10T10:14:08.285105Z"
    },
    "papermill": {
     "duration": 0.334964,
     "end_time": "2020-08-10T10:14:08.285372",
     "exception": false,
     "start_time": "2020-08-10T10:14:07.950408",
     "status": "completed"
    },
    "tags": []
   },
   "outputs": [
    {
     "data": {
      "text/plain": [
       "<matplotlib.legend.Legend at 0x7fea67a8eac8>"
      ]
     },
     "execution_count": 24,
     "metadata": {},
     "output_type": "execute_result"
    },
    {
     "data": {
      "image/png": "[encoded data removed]",
      "text/plain": [
       "<Figure size 576x360 with 1 Axes>"
      ]
     },
     "metadata": {
      "needs_background": "light"
     },
     "output_type": "display_data"
    }
   ],
   "source": [
    "plt.figure(figsize=(8,5))\n",
    "plt.plot(acc1.val_accuracies, 'g-', label = \"Val Accuracies - NN\")\n",
    "plt.plot(acc1.accuracies, 'r-', label = \"Accuracies - NN\")\n",
    "plt.plot(acc2.val_accuracies, 'b-', label = \"Val Accuracies - Logistic Reg\")\n",
    "plt.plot(acc2.accuracies, 'k-', label = \"Accuracies - Logistic Reg\")\n",
    "plt.ylim(0.8,1) ## for a more spread out view\n",
    "plt.legend()"
   ]
  },
  {
   "cell_type": "markdown",
   "metadata": {
    "papermill": {
     "duration": 0.049123,
     "end_time": "2020-08-10T10:14:08.385417",
     "exception": false,
     "start_time": "2020-08-10T10:14:08.336294",
     "status": "completed"
    },
    "tags": []
   },
   "source": [
    "### Clearly NN has a better accuracy over LR; NN is overfitting - Validation accuracy (green) has dropped below training accuracy (orange), also they are diverging. This problem is not seen in LR"
   ]
  },
  {
   "cell_type": "markdown",
   "metadata": {
    "papermill": {
     "duration": 0.04821,
     "end_time": "2020-08-10T10:14:08.486511",
     "exception": false,
     "start_time": "2020-08-10T10:14:08.438301",
     "status": "completed"
    },
    "tags": []
   },
   "source": [
    "##### Now we will be moving through the network, till the output of the second last affine where we get a 2 dimensional output. We will be plotting this 2d output and probability contours"
   ]
  },
  {
   "cell_type": "code",
   "execution_count": 25,
   "metadata": {
    "execution": {
     "iopub.execute_input": "2020-08-10T10:14:08.592760Z",
     "iopub.status.busy": "2020-08-10T10:14:08.592063Z",
     "iopub.status.idle": "2020-08-10T10:14:08.603524Z",
     "shell.execute_reply": "2020-08-10T10:14:08.603002Z"
    },
    "papermill": {
     "duration": 0.06842,
     "end_time": "2020-08-10T10:14:08.603652",
     "exception": false,
     "start_time": "2020-08-10T10:14:08.535232",
     "status": "completed"
    },
    "tags": []
   },
   "outputs": [],
   "source": [
    "model_new = Model(layers[:-2])"
   ]
  },
  {
   "cell_type": "code",
   "execution_count": 26,
   "metadata": {
    "execution": {
     "iopub.execute_input": "2020-08-10T10:14:08.711928Z",
     "iopub.status.busy": "2020-08-10T10:14:08.711227Z",
     "iopub.status.idle": "2020-08-10T10:14:08.739291Z",
     "shell.execute_reply": "2020-08-10T10:14:08.740245Z"
    },
    "papermill": {
     "duration": 0.082418,
     "end_time": "2020-08-10T10:14:08.740417",
     "exception": false,
     "start_time": "2020-08-10T10:14:08.657999",
     "status": "completed"
    },
    "tags": []
   },
   "outputs": [],
   "source": [
    "plot_testing = model_new(testing_xdata)"
   ]
  },
  {
   "cell_type": "markdown",
   "metadata": {
    "papermill": {
     "duration": 0.070937,
     "end_time": "2020-08-10T10:14:08.872105",
     "exception": false,
     "start_time": "2020-08-10T10:14:08.801168",
     "status": "completed"
    },
    "tags": []
   },
   "source": [
    "##### Plotting the scatter plot of points and color coding by class"
   ]
  },
  {
   "cell_type": "code",
   "execution_count": 27,
   "metadata": {
    "execution": {
     "iopub.execute_input": "2020-08-10T10:14:08.975166Z",
     "iopub.status.busy": "2020-08-10T10:14:08.974557Z",
     "iopub.status.idle": "2020-08-10T10:14:09.211114Z",
     "shell.execute_reply": "2020-08-10T10:14:09.211584Z"
    },
    "papermill": {
     "duration": 0.290248,
     "end_time": "2020-08-10T10:14:09.211742",
     "exception": false,
     "start_time": "2020-08-10T10:14:08.921494",
     "status": "completed"
    },
    "tags": []
   },
   "outputs": [
    {
     "data": {
      "image/png": "[encoded data removed]",
      "text/plain": [
       "<Figure size 576x504 with 1 Axes>"
      ]
     },
     "metadata": {
      "needs_background": "light"
     },
     "output_type": "display_data"
    }
   ],
   "source": [
    "plt.figure(figsize=(8,7))\n",
    "plt.scatter(plot_testing[:,0], plot_testing[:,1], alpha = 0.1, c = y_test.ravel());"
   ]
  },
  {
   "cell_type": "markdown",
   "metadata": {
    "papermill": {
     "duration": 0.054557,
     "end_time": "2020-08-10T10:14:09.319798",
     "exception": false,
     "start_time": "2020-08-10T10:14:09.265241",
     "status": "completed"
    },
    "tags": []
   },
   "source": [
    "##### Plotting probability contours"
   ]
  },
  {
   "cell_type": "code",
   "execution_count": 28,
   "metadata": {
    "execution": {
     "iopub.execute_input": "2020-08-10T10:14:09.431226Z",
     "iopub.status.busy": "2020-08-10T10:14:09.430582Z",
     "iopub.status.idle": "2020-08-10T10:14:09.442958Z",
     "shell.execute_reply": "2020-08-10T10:14:09.443643Z"
    },
    "papermill": {
     "duration": 0.068921,
     "end_time": "2020-08-10T10:14:09.443813",
     "exception": false,
     "start_time": "2020-08-10T10:14:09.374892",
     "status": "completed"
    },
    "tags": []
   },
   "outputs": [],
   "source": [
    "model_prob = Model(layers[-2:]) ## picking only last two layers to get probability. That is affine followed by sigmoid"
   ]
  },
  {
   "cell_type": "code",
   "execution_count": 29,
   "metadata": {
    "execution": {
     "iopub.execute_input": "2020-08-10T10:14:09.559194Z",
     "iopub.status.busy": "2020-08-10T10:14:09.558572Z",
     "iopub.status.idle": "2020-08-10T10:14:09.573990Z",
     "shell.execute_reply": "2020-08-10T10:14:09.574550Z"
    },
    "papermill": {
     "duration": 0.075047,
     "end_time": "2020-08-10T10:14:09.574709",
     "exception": false,
     "start_time": "2020-08-10T10:14:09.499662",
     "status": "completed"
    },
    "tags": []
   },
   "outputs": [],
   "source": [
    "xgrid = np.linspace(-4, 1, 100) ## Adjust these values based on above chart, roughly -4 to 1\n",
    "ygrid = np.linspace(-7.5, 7.5, 100) ## Adjust these values based on above chart, roughly -7.5, 7.5\n",
    "xg, yg = np.meshgrid(xgrid, ygrid)\n",
    "# xg and yg are now both 100X100, lets convert them to single arrays \n",
    "\n",
    "xg_interim = np.ravel(xg)\n",
    "yg_interim = np.ravel(yg)\n",
    "\n",
    "## xg_interim, yg_interim are now arrays of len 10000, now we will stack them and then transpose to get desired shape of n rows, 2 columns\n",
    "\n",
    "X_interim = np.vstack((xg_interim, yg_interim)) ## Please note vstack takes in a tuple\n",
    "X = X_interim.T\n",
    "\n",
    "## We want a shape of n rows and 2 columns to be able to feed this to last affine\n",
    "## This last affine takes only two columns, hence the above transformation\n",
    "probability_contour = model_prob(X).reshape(100,100) ## to make it consistent with xg, yg"
   ]
  },
  {
   "cell_type": "code",
   "execution_count": 30,
   "metadata": {
    "execution": {
     "iopub.execute_input": "2020-08-10T10:14:09.692738Z",
     "iopub.status.busy": "2020-08-10T10:14:09.692185Z",
     "iopub.status.idle": "2020-08-10T10:14:09.994971Z",
     "shell.execute_reply": "2020-08-10T10:14:09.994354Z"
    },
    "papermill": {
     "duration": 0.361348,
     "end_time": "2020-08-10T10:14:09.995135",
     "exception": false,
     "start_time": "2020-08-10T10:14:09.633787",
     "status": "completed"
    },
    "tags": []
   },
   "outputs": [
    {
     "data": {
      "image/png": "[encoded data removed]",
      "text/plain": [
       "<Figure size 576x504 with 1 Axes>"
      ]
     },
     "metadata": {
      "needs_background": "light"
     },
     "output_type": "display_data"
    }
   ],
   "source": [
    "plt.figure(figsize=(8,7))\n",
    "plt.scatter(plot_testing[:,0], plot_testing[:,1], alpha = 0.1, c = y_test.ravel())\n",
    "contours = plt.contour(xg,yg,probability_contour)\n",
    "plt.clabel(contours, inline = True );"
   ]
  }
 ],
 "metadata": {
  "kernelspec": {
   "display_name": "Python 3",
   "language": "python",
   "name": "python3"
  },
  "language_info": {
   "codemirror_mode": {
    "name": "ipython",
    "version": 3
   },
   "file_extension": ".py",
   "mimetype": "text/x-python",
   "name": "python",
   "nbconvert_exporter": "python",
   "pygments_lexer": "ipython3",
   "version": "3.6.11"
  },
  "papermill": {
   "duration": 170.388335,
   "end_time": "2020-08-10T10:14:10.360570",
   "environment_variables": {},
   "exception": null,
   "input_path": "2020-08-07-NN-new.ipynb",
   "output_path": "2020-08-07-NN-new.ipynb",
   "parameters": {},
   "start_time": "2020-08-10T10:11:19.972235",
   "version": "2.1.2"
  }
 },
 "nbformat": 4,
 "nbformat_minor": 4
}