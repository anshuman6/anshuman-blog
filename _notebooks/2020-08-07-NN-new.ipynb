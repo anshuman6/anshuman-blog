{
 "cells": [
  {
   "cell_type": "markdown",
   "metadata": {
    "papermill": {
     "duration": 0.038,
     "end_time": "2020-08-27T20:16:31.681914",
     "exception": false,
     "start_time": "2020-08-27T20:16:31.643914",
     "status": "completed"
    },
    "tags": []
   },
   "source": [
    "# \"Building a basic Neural Network from scratch - Kudzu\"\n",
    "\n",
    "- badges: true\n",
    "- author: Anshuman Gupta"
   ]
  },
  {
   "cell_type": "markdown",
   "metadata": {
    "papermill": {
     "duration": 0.034509,
     "end_time": "2020-08-27T20:16:31.751328",
     "exception": false,
     "start_time": "2020-08-27T20:16:31.716819",
     "status": "completed"
    },
    "tags": []
   },
   "source": [
    "#### In this project, the idea is to write a classifier to differentiate between handwritten digits 3 and 8, from the MNIST database.\n",
    "\n",
    "#### I will using a custom built neural network library called Kudzu.This has been developed as a part of KTF/Foundations course of Univ.ai (www.univ.ai). The source code for Kudzu Library and and this notebook can be found on my git-hub profile : www.https://github.com/anshuman6 under the folder project-solution. Any feedback and comments are welcome. Please feel free to email me at: anshuman6@gmail.com\n",
    "\n",
    "#### 1. I will be using the MNIST database. \n",
    "\n",
    "#### 2. I will be comparing the results of the 4 layer NN to a standard logistic regression"
   ]
  },
  {
   "cell_type": "markdown",
   "metadata": {
    "papermill": {
     "duration": 0.033916,
     "end_time": "2020-08-27T20:16:31.818044",
     "exception": false,
     "start_time": "2020-08-27T20:16:31.784128",
     "status": "completed"
    },
    "tags": []
   },
   "source": [
    "##### Importing all the necessary libraries"
   ]
  },
  {
   "cell_type": "code",
   "execution_count": 1,
   "metadata": {
    "execution": {
     "iopub.execute_input": "2020-08-27T20:16:31.893101Z",
     "iopub.status.busy": "2020-08-27T20:16:31.892410Z",
     "iopub.status.idle": "2020-08-27T20:16:31.905684Z",
     "shell.execute_reply": "2020-08-27T20:16:31.905070Z"
    },
    "papermill": {
     "duration": 0.052045,
     "end_time": "2020-08-27T20:16:31.905852",
     "exception": false,
     "start_time": "2020-08-27T20:16:31.853807",
     "status": "completed"
    },
    "tags": []
   },
   "outputs": [],
   "source": [
    "%load_ext autoreload\n",
    "%autoreload 2"
   ]
  },
  {
   "cell_type": "code",
   "execution_count": 2,
   "metadata": {
    "execution": {
     "iopub.execute_input": "2020-08-27T20:16:31.976866Z",
     "iopub.status.busy": "2020-08-27T20:16:31.976162Z",
     "iopub.status.idle": "2020-08-27T20:16:32.642706Z",
     "shell.execute_reply": "2020-08-27T20:16:32.641707Z"
    },
    "papermill": {
     "duration": 0.704657,
     "end_time": "2020-08-27T20:16:32.642868",
     "exception": false,
     "start_time": "2020-08-27T20:16:31.938211",
     "status": "completed"
    },
    "tags": []
   },
   "outputs": [],
   "source": [
    "%matplotlib inline\n",
    "import numpy as np\n",
    "import matplotlib.pyplot as plt\n",
    "import pandas as pd"
   ]
  },
  {
   "cell_type": "markdown",
   "metadata": {
    "papermill": {
     "duration": 0.034085,
     "end_time": "2020-08-27T20:16:32.711431",
     "exception": false,
     "start_time": "2020-08-27T20:16:32.677346",
     "status": "completed"
    },
    "tags": []
   },
   "source": [
    "##### The following command helps us download MNIST from notebook itself. You can skip this if you already have MNIST. You can also download it via your terminal."
   ]
  },
  {
   "cell_type": "code",
   "execution_count": 3,
   "metadata": {
    "execution": {
     "iopub.execute_input": "2020-08-27T20:16:32.784864Z",
     "iopub.status.busy": "2020-08-27T20:16:32.781583Z",
     "iopub.status.idle": "2020-08-27T20:16:34.543554Z",
     "shell.execute_reply": "2020-08-27T20:16:34.542916Z"
    },
    "papermill": {
     "duration": 1.799264,
     "end_time": "2020-08-27T20:16:34.543718",
     "exception": false,
     "start_time": "2020-08-27T20:16:32.744454",
     "status": "completed"
    },
    "tags": []
   },
   "outputs": [
    {
     "name": "stdout",
     "output_type": "stream",
     "text": [
      "Collecting mnist\r\n"
     ]
    },
    {
     "name": "stdout",
     "output_type": "stream",
     "text": [
      "  Downloading mnist-0.2.2-py2.py3-none-any.whl (3.5 kB)\r\n"
     ]
    },
    {
     "name": "stdout",
     "output_type": "stream",
     "text": [
      "Requirement already satisfied: numpy in /opt/hostedtoolcache/Python/3.6.11/x64/lib/python3.6/site-packages (from mnist) (1.19.1)\r\n"
     ]
    },
    {
     "name": "stdout",
     "output_type": "stream",
     "text": [
      "Installing collected packages: mnist\r\n"
     ]
    },
    {
     "name": "stdout",
     "output_type": "stream",
     "text": [
      "Successfully installed mnist-0.2.2\r\n"
     ]
    }
   ],
   "source": [
    "!pip install mnist # Please note, it is commented out for now, you can remove comment if you want to install it"
   ]
  },
  {
   "cell_type": "markdown",
   "metadata": {
    "papermill": {
     "duration": 0.035319,
     "end_time": "2020-08-27T20:16:34.614365",
     "exception": false,
     "start_time": "2020-08-27T20:16:34.579046",
     "status": "completed"
    },
    "tags": []
   },
   "source": [
    "#### Preparing the Data"
   ]
  },
  {
   "cell_type": "code",
   "execution_count": 4,
   "metadata": {
    "execution": {
     "iopub.execute_input": "2020-08-27T20:16:34.704407Z",
     "iopub.status.busy": "2020-08-27T20:16:34.697572Z",
     "iopub.status.idle": "2020-08-27T20:16:34.710227Z",
     "shell.execute_reply": "2020-08-27T20:16:34.709513Z"
    },
    "papermill": {
     "duration": 0.060337,
     "end_time": "2020-08-27T20:16:34.710412",
     "exception": false,
     "start_time": "2020-08-27T20:16:34.650075",
     "status": "completed"
    },
    "tags": []
   },
   "outputs": [],
   "source": [
    "import mnist"
   ]
  },
  {
   "cell_type": "code",
   "execution_count": 5,
   "metadata": {
    "execution": {
     "iopub.execute_input": "2020-08-27T20:16:34.793144Z",
     "iopub.status.busy": "2020-08-27T20:16:34.792382Z",
     "iopub.status.idle": "2020-08-27T20:16:36.585287Z",
     "shell.execute_reply": "2020-08-27T20:16:36.584675Z"
    },
    "papermill": {
     "duration": 1.834385,
     "end_time": "2020-08-27T20:16:36.585443",
     "exception": false,
     "start_time": "2020-08-27T20:16:34.751058",
     "status": "completed"
    },
    "tags": []
   },
   "outputs": [],
   "source": [
    "train_images = mnist.train_images()\n",
    "train_labels = mnist.train_labels()"
   ]
  },
  {
   "cell_type": "code",
   "execution_count": 6,
   "metadata": {
    "execution": {
     "iopub.execute_input": "2020-08-27T20:16:36.659592Z",
     "iopub.status.busy": "2020-08-27T20:16:36.658811Z",
     "iopub.status.idle": "2020-08-27T20:16:36.676597Z",
     "shell.execute_reply": "2020-08-27T20:16:36.677386Z"
    },
    "papermill": {
     "duration": 0.057044,
     "end_time": "2020-08-27T20:16:36.677570",
     "exception": false,
     "start_time": "2020-08-27T20:16:36.620526",
     "status": "completed"
    },
    "tags": []
   },
   "outputs": [
    {
     "data": {
      "text/plain": [
       "((60000, 28, 28), (60000,))"
      ]
     },
     "execution_count": 6,
     "metadata": {},
     "output_type": "execute_result"
    }
   ],
   "source": [
    "train_images.shape, train_labels.shape"
   ]
  },
  {
   "cell_type": "code",
   "execution_count": 7,
   "metadata": {
    "execution": {
     "iopub.execute_input": "2020-08-27T20:16:36.771478Z",
     "iopub.status.busy": "2020-08-27T20:16:36.770694Z",
     "iopub.status.idle": "2020-08-27T20:16:37.648414Z",
     "shell.execute_reply": "2020-08-27T20:16:37.647725Z"
    },
    "papermill": {
     "duration": 0.931842,
     "end_time": "2020-08-27T20:16:37.648572",
     "exception": false,
     "start_time": "2020-08-27T20:16:36.716730",
     "status": "completed"
    },
    "tags": []
   },
   "outputs": [],
   "source": [
    "test_images = mnist.test_images()\n",
    "test_labels = mnist.test_labels()"
   ]
  },
  {
   "cell_type": "code",
   "execution_count": 8,
   "metadata": {
    "execution": {
     "iopub.execute_input": "2020-08-27T20:16:37.722341Z",
     "iopub.status.busy": "2020-08-27T20:16:37.721649Z",
     "iopub.status.idle": "2020-08-27T20:16:37.737643Z",
     "shell.execute_reply": "2020-08-27T20:16:37.737087Z"
    },
    "papermill": {
     "duration": 0.054651,
     "end_time": "2020-08-27T20:16:37.737837",
     "exception": false,
     "start_time": "2020-08-27T20:16:37.683186",
     "status": "completed"
    },
    "tags": []
   },
   "outputs": [
    {
     "data": {
      "text/plain": [
       "((10000, 28, 28), (10000,))"
      ]
     },
     "execution_count": 8,
     "metadata": {},
     "output_type": "execute_result"
    }
   ],
   "source": [
    "test_images.shape, test_labels.shape"
   ]
  },
  {
   "cell_type": "code",
   "execution_count": 9,
   "metadata": {
    "execution": {
     "iopub.execute_input": "2020-08-27T20:16:37.817712Z",
     "iopub.status.busy": "2020-08-27T20:16:37.816960Z",
     "iopub.status.idle": "2020-08-27T20:16:38.013559Z",
     "shell.execute_reply": "2020-08-27T20:16:38.012979Z"
    },
    "papermill": {
     "duration": 0.239155,
     "end_time": "2020-08-27T20:16:38.013734",
     "exception": false,
     "start_time": "2020-08-27T20:16:37.774579",
     "status": "completed"
    },
    "tags": []
   },
   "outputs": [
    {
     "name": "stdout",
     "output_type": "stream",
     "text": [
      "2\n"
     ]
    },
    {
     "data": {
      "text/plain": [
       "<matplotlib.image.AxesImage at 0x7fd5d570f0f0>"
      ]
     },
     "execution_count": 9,
     "metadata": {},
     "output_type": "execute_result"
    },
    {
     "data": {
      "image/png": "[encoded data removed]",
      "text/plain": [
       "<Figure size 432x288 with 1 Axes>"
      ]
     },
     "metadata": {
      "needs_background": "light"
     },
     "output_type": "display_data"
    }
   ],
   "source": [
    "image_index = 7776 # You may select anything up to 60,000\n",
    "print(train_labels[image_index]) \n",
    "plt.imshow(train_images[image_index], cmap='Greys')"
   ]
  },
  {
   "cell_type": "markdown",
   "metadata": {
    "papermill": {
     "duration": 0.036437,
     "end_time": "2020-08-27T20:16:38.086452",
     "exception": false,
     "start_time": "2020-08-27T20:16:38.050015",
     "status": "completed"
    },
    "tags": []
   },
   "source": [
    "## Filter data to get 3 and 8 out"
   ]
  },
  {
   "cell_type": "code",
   "execution_count": 10,
   "metadata": {
    "execution": {
     "iopub.execute_input": "2020-08-27T20:16:38.172328Z",
     "iopub.status.busy": "2020-08-27T20:16:38.167518Z",
     "iopub.status.idle": "2020-08-27T20:16:38.190041Z",
     "shell.execute_reply": "2020-08-27T20:16:38.189345Z"
    },
    "papermill": {
     "duration": 0.065187,
     "end_time": "2020-08-27T20:16:38.190197",
     "exception": false,
     "start_time": "2020-08-27T20:16:38.125010",
     "status": "completed"
    },
    "tags": []
   },
   "outputs": [],
   "source": [
    "train_filter = np.where((train_labels == 3 ) | (train_labels == 8))\n",
    "test_filter = np.where((test_labels == 3) | (test_labels == 8))\n",
    "X_train, y_train = train_images[train_filter], train_labels[train_filter]\n",
    "X_test, y_test = test_images[test_filter], test_labels[test_filter]"
   ]
  },
  {
   "cell_type": "markdown",
   "metadata": {
    "papermill": {
     "duration": 0.037123,
     "end_time": "2020-08-27T20:16:38.263353",
     "exception": false,
     "start_time": "2020-08-27T20:16:38.226230",
     "status": "completed"
    },
    "tags": []
   },
   "source": [
    "##### We normalize the pizel values in the 0 to 1 range"
   ]
  },
  {
   "cell_type": "code",
   "execution_count": 11,
   "metadata": {
    "execution": {
     "iopub.execute_input": "2020-08-27T20:16:38.353646Z",
     "iopub.status.busy": "2020-08-27T20:16:38.352936Z",
     "iopub.status.idle": "2020-08-27T20:16:38.414001Z",
     "shell.execute_reply": "2020-08-27T20:16:38.413401Z"
    },
    "papermill": {
     "duration": 0.112598,
     "end_time": "2020-08-27T20:16:38.414165",
     "exception": false,
     "start_time": "2020-08-27T20:16:38.301567",
     "status": "completed"
    },
    "tags": []
   },
   "outputs": [],
   "source": [
    "X_train = X_train/255.\n",
    "X_test = X_test/255."
   ]
  },
  {
   "cell_type": "markdown",
   "metadata": {
    "papermill": {
     "duration": 0.037737,
     "end_time": "2020-08-27T20:16:38.488858",
     "exception": false,
     "start_time": "2020-08-27T20:16:38.451121",
     "status": "completed"
    },
    "tags": []
   },
   "source": [
    "And setup the labels as 1 (when the digit is 3) and 0 (when the digit is 8)"
   ]
  },
  {
   "cell_type": "code",
   "execution_count": 12,
   "metadata": {
    "execution": {
     "iopub.execute_input": "2020-08-27T20:16:38.573371Z",
     "iopub.status.busy": "2020-08-27T20:16:38.572626Z",
     "iopub.status.idle": "2020-08-27T20:16:38.584370Z",
     "shell.execute_reply": "2020-08-27T20:16:38.583723Z"
    },
    "papermill": {
     "duration": 0.057867,
     "end_time": "2020-08-27T20:16:38.584530",
     "exception": false,
     "start_time": "2020-08-27T20:16:38.526663",
     "status": "completed"
    },
    "tags": []
   },
   "outputs": [],
   "source": [
    "y_train = 1*(y_train==3)\n",
    "y_test = 1*(y_test==3)"
   ]
  },
  {
   "cell_type": "code",
   "execution_count": 13,
   "metadata": {
    "execution": {
     "iopub.execute_input": "2020-08-27T20:16:38.667271Z",
     "iopub.status.busy": "2020-08-27T20:16:38.666535Z",
     "iopub.status.idle": "2020-08-27T20:16:38.683802Z",
     "shell.execute_reply": "2020-08-27T20:16:38.681175Z"
    },
    "papermill": {
     "duration": 0.061076,
     "end_time": "2020-08-27T20:16:38.684156",
     "exception": false,
     "start_time": "2020-08-27T20:16:38.623080",
     "status": "completed"
    },
    "tags": []
   },
   "outputs": [
    {
     "data": {
      "text/plain": [
       "((11982, 28, 28), (1984, 28, 28))"
      ]
     },
     "execution_count": 13,
     "metadata": {},
     "output_type": "execute_result"
    }
   ],
   "source": [
    "X_train.shape, X_test.shape"
   ]
  },
  {
   "cell_type": "markdown",
   "metadata": {
    "papermill": {
     "duration": 0.038616,
     "end_time": "2020-08-27T20:16:38.763781",
     "exception": false,
     "start_time": "2020-08-27T20:16:38.725165",
     "status": "completed"
    },
    "tags": []
   },
   "source": [
    "##### We reshape the data to flatten the image pixels into a set of features or co-variates:"
   ]
  },
  {
   "cell_type": "code",
   "execution_count": 14,
   "metadata": {
    "execution": {
     "iopub.execute_input": "2020-08-27T20:16:38.847529Z",
     "iopub.status.busy": "2020-08-27T20:16:38.846786Z",
     "iopub.status.idle": "2020-08-27T20:16:38.864998Z",
     "shell.execute_reply": "2020-08-27T20:16:38.863974Z"
    },
    "papermill": {
     "duration": 0.061241,
     "end_time": "2020-08-27T20:16:38.865158",
     "exception": false,
     "start_time": "2020-08-27T20:16:38.803917",
     "status": "completed"
    },
    "tags": []
   },
   "outputs": [
    {
     "data": {
      "text/plain": [
       "((11982, 784), (1984, 784))"
      ]
     },
     "execution_count": 14,
     "metadata": {},
     "output_type": "execute_result"
    }
   ],
   "source": [
    "X_train = X_train.reshape(X_train.shape[0], -1)\n",
    "X_test = X_test.reshape(X_test.shape[0], -1)\n",
    "X_train.shape, X_test.shape"
   ]
  },
  {
   "cell_type": "markdown",
   "metadata": {
    "papermill": {
     "duration": 0.057163,
     "end_time": "2020-08-27T20:16:38.986727",
     "exception": false,
     "start_time": "2020-08-27T20:16:38.929564",
     "status": "completed"
    },
    "tags": []
   },
   "source": [
    "##### Importing Kudzu library and its functionality"
   ]
  },
  {
   "cell_type": "code",
   "execution_count": 15,
   "metadata": {
    "execution": {
     "iopub.execute_input": "2020-08-27T20:16:39.065661Z",
     "iopub.status.busy": "2020-08-27T20:16:39.064981Z",
     "iopub.status.idle": "2020-08-27T20:16:39.086150Z",
     "shell.execute_reply": "2020-08-27T20:16:39.085568Z"
    },
    "papermill": {
     "duration": 0.063063,
     "end_time": "2020-08-27T20:16:39.086314",
     "exception": false,
     "start_time": "2020-08-27T20:16:39.023251",
     "status": "completed"
    },
    "tags": []
   },
   "outputs": [],
   "source": [
    "from kudzu.data import Data, Dataloader, Sampler\n",
    "from kudzu.callbacks import AccCallback\n",
    "from kudzu.loss import MSE\n",
    "from kudzu.layer import Affine, Sigmoid\n",
    "from kudzu.model import Model\n",
    "from kudzu.optim import GD\n",
    "from kudzu.train import Learner\n",
    "from kudzu.callbacks import ClfCallback\n",
    "from kudzu.layer import Sigmoid\n",
    "from kudzu.layer import Relu"
   ]
  },
  {
   "cell_type": "markdown",
   "metadata": {
    "papermill": {
     "duration": 0.037256,
     "end_time": "2020-08-27T20:16:39.161018",
     "exception": false,
     "start_time": "2020-08-27T20:16:39.123762",
     "status": "completed"
    },
    "tags": []
   },
   "source": [
    "##### We are creating a class, just so that we can use it to store our parameters for us"
   ]
  },
  {
   "cell_type": "code",
   "execution_count": 16,
   "metadata": {
    "execution": {
     "iopub.execute_input": "2020-08-27T20:16:39.240755Z",
     "iopub.status.busy": "2020-08-27T20:16:39.240055Z",
     "iopub.status.idle": "2020-08-27T20:16:39.270793Z",
     "shell.execute_reply": "2020-08-27T20:16:39.267818Z"
    },
    "papermill": {
     "duration": 0.072329,
     "end_time": "2020-08-27T20:16:39.270986",
     "exception": false,
     "start_time": "2020-08-27T20:16:39.198657",
     "status": "completed"
    },
    "tags": []
   },
   "outputs": [],
   "source": [
    "class Config:\n",
    "    pass\n",
    "config = Config()\n",
    "config.lr = 0.001\n",
    "config.num_epochs = 250\n",
    "config.bs = 50"
   ]
  },
  {
   "cell_type": "markdown",
   "metadata": {
    "papermill": {
     "duration": 0.037887,
     "end_time": "2020-08-27T20:16:39.348170",
     "exception": false,
     "start_time": "2020-08-27T20:16:39.310283",
     "status": "completed"
    },
    "tags": []
   },
   "source": [
    "##### Initializing Data"
   ]
  },
  {
   "cell_type": "code",
   "execution_count": 17,
   "metadata": {
    "execution": {
     "iopub.execute_input": "2020-08-27T20:16:39.458830Z",
     "iopub.status.busy": "2020-08-27T20:16:39.458131Z",
     "iopub.status.idle": "2020-08-27T20:16:39.471972Z",
     "shell.execute_reply": "2020-08-27T20:16:39.472573Z"
    },
    "papermill": {
     "duration": 0.064201,
     "end_time": "2020-08-27T20:16:39.472760",
     "exception": false,
     "start_time": "2020-08-27T20:16:39.408559",
     "status": "completed"
    },
    "tags": []
   },
   "outputs": [],
   "source": [
    "data = Data(X_train, y_train.reshape(-1,1))\n",
    "loss = MSE()\n",
    "opt = GD(config.lr)\n",
    "sampler = Sampler(data, config.bs, shuffle=True)\n",
    "dl = Dataloader(data, sampler)"
   ]
  },
  {
   "cell_type": "markdown",
   "metadata": {
    "papermill": {
     "duration": 0.039927,
     "end_time": "2020-08-27T20:16:39.561345",
     "exception": false,
     "start_time": "2020-08-27T20:16:39.521418",
     "status": "completed"
    },
    "tags": []
   },
   "source": [
    "##### Constructing 2 different layers, one for NN and one only for logistic regression."
   ]
  },
  {
   "cell_type": "markdown",
   "metadata": {
    "papermill": {
     "duration": 0.041679,
     "end_time": "2020-08-27T20:16:39.648195",
     "exception": false,
     "start_time": "2020-08-27T20:16:39.606516",
     "status": "completed"
    },
    "tags": []
   },
   "source": [
    "##### Creating containers for data to be passed, to calculate accuracies"
   ]
  },
  {
   "cell_type": "code",
   "execution_count": 18,
   "metadata": {
    "execution": {
     "iopub.execute_input": "2020-08-27T20:16:39.729381Z",
     "iopub.status.busy": "2020-08-27T20:16:39.728624Z",
     "iopub.status.idle": "2020-08-27T20:16:39.746300Z",
     "shell.execute_reply": "2020-08-27T20:16:39.745703Z"
    },
    "papermill": {
     "duration": 0.060579,
     "end_time": "2020-08-27T20:16:39.746464",
     "exception": false,
     "start_time": "2020-08-27T20:16:39.685885",
     "status": "completed"
    },
    "tags": []
   },
   "outputs": [],
   "source": [
    "training_xdata = X_train\n",
    "testing_xdata = X_test\n",
    "training_ydata = y_train.reshape(-1,1)\n",
    "testing_ydata = y_test.reshape(-1,1)"
   ]
  },
  {
   "cell_type": "markdown",
   "metadata": {
    "papermill": {
     "duration": 0.037529,
     "end_time": "2020-08-27T20:16:39.821516",
     "exception": false,
     "start_time": "2020-08-27T20:16:39.783987",
     "status": "completed"
    },
    "tags": []
   },
   "source": [
    "##### Initializing models and Running training loop: "
   ]
  },
  {
   "cell_type": "code",
   "execution_count": 19,
   "metadata": {
    "execution": {
     "iopub.execute_input": "2020-08-27T20:16:39.905438Z",
     "iopub.status.busy": "2020-08-27T20:16:39.904713Z",
     "iopub.status.idle": "2020-08-27T20:16:39.923283Z",
     "shell.execute_reply": "2020-08-27T20:16:39.923915Z"
    },
    "papermill": {
     "duration": 0.064256,
     "end_time": "2020-08-27T20:16:39.924124",
     "exception": false,
     "start_time": "2020-08-27T20:16:39.859868",
     "status": "completed"
    },
    "tags": []
   },
   "outputs": [],
   "source": [
    "layers = [Affine(\"first\", 784, 100), Relu(\"first\"), Affine(\"second\", 100, 100), Relu(\"second\"), Affine(\"third\", 100, 2), Affine(\"final\", 2, 1), Sigmoid(\"final\")]\n",
    "\n",
    "model_neural = Model(layers)\n",
    "model_logistic = Model([Affine(\"logits\", 784, 1), Sigmoid(\"sigmoid\")])"
   ]
  },
  {
   "cell_type": "code",
   "execution_count": 20,
   "metadata": {
    "execution": {
     "iopub.execute_input": "2020-08-27T20:16:40.006201Z",
     "iopub.status.busy": "2020-08-27T20:16:40.005405Z",
     "iopub.status.idle": "2020-08-27T20:16:40.019575Z",
     "shell.execute_reply": "2020-08-27T20:16:40.020171Z"
    },
    "papermill": {
     "duration": 0.059279,
     "end_time": "2020-08-27T20:16:40.020367",
     "exception": false,
     "start_time": "2020-08-27T20:16:39.961088",
     "status": "completed"
    },
    "tags": []
   },
   "outputs": [],
   "source": [
    "learner1 = Learner(loss, model_neural, opt, config.num_epochs)\n",
    "acc1 = ClfCallback(learner1, config.bs, training_xdata , testing_xdata, training_ydata, testing_ydata)\n",
    "learner1.set_callbacks([acc1])"
   ]
  },
  {
   "cell_type": "code",
   "execution_count": 21,
   "metadata": {
    "execution": {
     "iopub.execute_input": "2020-08-27T20:16:40.117297Z",
     "iopub.status.busy": "2020-08-27T20:16:40.108912Z",
     "iopub.status.idle": "2020-08-27T20:19:06.315354Z",
     "shell.execute_reply": "2020-08-27T20:19:06.316392Z"
    },
    "papermill": {
     "duration": 146.256283,
     "end_time": "2020-08-27T20:19:06.316563",
     "exception": false,
     "start_time": "2020-08-27T20:16:40.060280",
     "status": "completed"
    },
    "tags": []
   },
   "outputs": [
    {
     "name": "stdout",
     "output_type": "stream",
     "text": [
      "Epoch 0 Loss 0.21599198181733423\n",
      "train accuracy is: 0.8060423969287264, test accuracy is 0.8069556451612904\n"
     ]
    },
    {
     "name": "stdout",
     "output_type": "stream",
     "text": [
      "Epoch 10 Loss 0.06536574247786238\n",
      "train accuracy is: 0.9359038557836755, test accuracy is 0.9480846774193549\n"
     ]
    },
    {
     "name": "stdout",
     "output_type": "stream",
     "text": [
      "Epoch 20 Loss 0.046459402022932306\n",
      "train accuracy is: 0.9504256384576866, test accuracy is 0.9601814516129032\n"
     ]
    },
    {
     "name": "stdout",
     "output_type": "stream",
     "text": [
      "Epoch 30 Loss 0.038849418052019746\n",
      "train accuracy is: 0.957102320146887, test accuracy is 0.9662298387096774\n"
     ]
    },
    {
     "name": "stdout",
     "output_type": "stream",
     "text": [
      "Epoch 40 Loss 0.034473246944400175\n",
      "train accuracy is: 0.9616925388082124, test accuracy is 0.9692540322580645\n"
     ]
    },
    {
     "name": "stdout",
     "output_type": "stream",
     "text": [
      "Epoch 50 Loss 0.03152181132718627\n",
      "train accuracy is: 0.9640293773994325, test accuracy is 0.9722782258064516\n"
     ]
    },
    {
     "name": "stdout",
     "output_type": "stream",
     "text": [
      "Epoch 60 Loss 0.02933623634832488\n",
      "train accuracy is: 0.9670338841595727, test accuracy is 0.9727822580645161\n"
     ]
    },
    {
     "name": "stdout",
     "output_type": "stream",
     "text": [
      "Epoch 70 Loss 0.02760986217001188\n",
      "train accuracy is: 0.9682023034551828, test accuracy is 0.9737903225806451\n"
     ]
    },
    {
     "name": "stdout",
     "output_type": "stream",
     "text": [
      "Epoch 80 Loss 0.026195774191761174\n",
      "train accuracy is: 0.970372225004173, test accuracy is 0.9747983870967742\n"
     ]
    },
    {
     "name": "stdout",
     "output_type": "stream",
     "text": [
      "Epoch 90 Loss 0.024985356948454135\n",
      "train accuracy is: 0.971373727257553, test accuracy is 0.9747983870967742\n"
     ]
    },
    {
     "name": "stdout",
     "output_type": "stream",
     "text": [
      "Epoch 100 Loss 0.023930860175758066\n",
      "train accuracy is: 0.9729594391587381, test accuracy is 0.9753024193548387\n"
     ]
    },
    {
     "name": "stdout",
     "output_type": "stream",
     "text": [
      "Epoch 110 Loss 0.022982852612217743\n",
      "train accuracy is: 0.9742113169754631, test accuracy is 0.9758064516129032\n"
     ]
    },
    {
     "name": "stdout",
     "output_type": "stream",
     "text": [
      "Epoch 120 Loss 0.022139588133481308\n",
      "train accuracy is: 0.9757135703555333, test accuracy is 0.9747983870967742\n"
     ]
    },
    {
     "name": "stdout",
     "output_type": "stream",
     "text": [
      "Epoch 130 Loss 0.021373031733474226\n",
      "train accuracy is: 0.9765481555666834, test accuracy is 0.9758064516129032\n"
     ]
    },
    {
     "name": "stdout",
     "output_type": "stream",
     "text": [
      "Epoch 140 Loss 0.020673291710328102\n",
      "train accuracy is: 0.9772158237356035, test accuracy is 0.9773185483870968\n"
     ]
    },
    {
     "name": "stdout",
     "output_type": "stream",
     "text": [
      "Epoch 150 Loss 0.020024929563736606\n",
      "train accuracy is: 0.9778834919045235, test accuracy is 0.9778225806451613\n"
     ]
    },
    {
     "name": "stdout",
     "output_type": "stream",
     "text": [
      "Epoch 160 Loss 0.01942526209765111\n",
      "train accuracy is: 0.9786346185945585, test accuracy is 0.9783266129032258\n"
     ]
    },
    {
     "name": "stdout",
     "output_type": "stream",
     "text": [
      "Epoch 170 Loss 0.01886463673515088\n",
      "train accuracy is: 0.9795526623268236, test accuracy is 0.9783266129032258\n"
     ]
    },
    {
     "name": "stdout",
     "output_type": "stream",
     "text": [
      "Epoch 180 Loss 0.018341069435607794\n",
      "train accuracy is: 0.9802203304957436, test accuracy is 0.9783266129032258\n"
     ]
    },
    {
     "name": "stdout",
     "output_type": "stream",
     "text": [
      "Epoch 190 Loss 0.01784778101349436\n",
      "train accuracy is: 0.9808879986646637, test accuracy is 0.9783266129032258\n"
     ]
    },
    {
     "name": "stdout",
     "output_type": "stream",
     "text": [
      "Epoch 200 Loss 0.01738033229053428\n",
      "train accuracy is: 0.9816391253546987, test accuracy is 0.9788306451612904\n"
     ]
    },
    {
     "name": "stdout",
     "output_type": "stream",
     "text": [
      "Epoch 210 Loss 0.01694002967025099\n",
      "train accuracy is: 0.9821398764813888, test accuracy is 0.9783266129032258\n"
     ]
    },
    {
     "name": "stdout",
     "output_type": "stream",
     "text": [
      "Epoch 220 Loss 0.01651846075178568\n",
      "train accuracy is: 0.9823067935236187, test accuracy is 0.9788306451612904\n"
     ]
    },
    {
     "name": "stdout",
     "output_type": "stream",
     "text": [
      "Epoch 230 Loss 0.016116789236534937\n",
      "train accuracy is: 0.9828075446503088, test accuracy is 0.9788306451612904\n"
     ]
    },
    {
     "name": "stdout",
     "output_type": "stream",
     "text": [
      "Epoch 240 Loss 0.015730731901042887\n",
      "train accuracy is: 0.9833917542981139, test accuracy is 0.9798387096774194\n"
     ]
    },
    {
     "data": {
      "text/plain": [
       "0.03233563041285087"
      ]
     },
     "execution_count": 21,
     "metadata": {},
     "output_type": "execute_result"
    }
   ],
   "source": [
    "learner1.train_loop(dl)"
   ]
  },
  {
   "cell_type": "markdown",
   "metadata": {
    "papermill": {
     "duration": 0.047094,
     "end_time": "2020-08-27T20:19:06.410113",
     "exception": false,
     "start_time": "2020-08-27T20:19:06.363019",
     "status": "completed"
    },
    "tags": []
   },
   "source": [
    "##### Now running only the logistic regression based classification to compare results with NN"
   ]
  },
  {
   "cell_type": "code",
   "execution_count": 22,
   "metadata": {
    "execution": {
     "iopub.execute_input": "2020-08-27T20:19:06.511451Z",
     "iopub.status.busy": "2020-08-27T20:19:06.509068Z",
     "iopub.status.idle": "2020-08-27T20:19:06.523678Z",
     "shell.execute_reply": "2020-08-27T20:19:06.524201Z"
    },
    "papermill": {
     "duration": 0.068038,
     "end_time": "2020-08-27T20:19:06.524379",
     "exception": false,
     "start_time": "2020-08-27T20:19:06.456341",
     "status": "completed"
    },
    "tags": []
   },
   "outputs": [],
   "source": [
    "learner2 = Learner(loss, model_logistic, opt, config.num_epochs)\n",
    "acc2 = ClfCallback(learner2, config.bs, training_xdata , testing_xdata, training_ydata, testing_ydata)\n",
    "learner2.set_callbacks([acc2])"
   ]
  },
  {
   "cell_type": "code",
   "execution_count": 23,
   "metadata": {
    "execution": {
     "iopub.execute_input": "2020-08-27T20:19:06.624710Z",
     "iopub.status.busy": "2020-08-27T20:19:06.623991Z",
     "iopub.status.idle": "2020-08-27T20:19:27.697562Z",
     "shell.execute_reply": "2020-08-27T20:19:27.698537Z"
    },
    "papermill": {
     "duration": 21.128057,
     "end_time": "2020-08-27T20:19:27.698727",
     "exception": false,
     "start_time": "2020-08-27T20:19:06.570670",
     "status": "completed"
    },
    "tags": []
   },
   "outputs": [
    {
     "name": "stdout",
     "output_type": "stream",
     "text": [
      "Epoch 0 Loss 0.273766740231873\n",
      "train accuracy is: 0.5358871640794525, test accuracy is 0.5604838709677419\n"
     ]
    },
    {
     "name": "stdout",
     "output_type": "stream",
     "text": [
      "Epoch 10 Loss 0.10699569211910488\n",
      "train accuracy is: 0.9055249540978134, test accuracy is 0.9092741935483871\n"
     ]
    },
    {
     "name": "stdout",
     "output_type": "stream",
     "text": [
      "Epoch 20 Loss 0.08135168325377727\n",
      "train accuracy is: 0.9249707895176097, test accuracy is 0.9344758064516129\n"
     ]
    },
    {
     "name": "stdout",
     "output_type": "stream",
     "text": [
      "Epoch 30 Loss 0.06962686400982661\n",
      "train accuracy is: 0.9331497245868803, test accuracy is 0.9430443548387096\n"
     ]
    },
    {
     "name": "stdout",
     "output_type": "stream",
     "text": [
      "Epoch 40 Loss 0.0626061166533724\n",
      "train accuracy is: 0.9391587381071608, test accuracy is 0.9511088709677419\n"
     ]
    },
    {
     "name": "stdout",
     "output_type": "stream",
     "text": [
      "Epoch 50 Loss 0.05784894459812998\n",
      "train accuracy is: 0.9441662493740611, test accuracy is 0.954133064516129\n"
     ]
    },
    {
     "name": "stdout",
     "output_type": "stream",
     "text": [
      "Epoch 60 Loss 0.054372859119865065\n",
      "train accuracy is: 0.9473376731764314, test accuracy is 0.9561491935483871\n"
     ]
    },
    {
     "name": "stdout",
     "output_type": "stream",
     "text": [
      "Epoch 70 Loss 0.051699743678003285\n",
      "train accuracy is: 0.9496745117676515, test accuracy is 0.9566532258064516\n"
     ]
    },
    {
     "name": "stdout",
     "output_type": "stream",
     "text": [
      "Epoch 80 Loss 0.04956580631129307\n",
      "train accuracy is: 0.9510098481054916, test accuracy is 0.9616935483870968\n"
     ]
    },
    {
     "name": "stdout",
     "output_type": "stream",
     "text": [
      "Epoch 90 Loss 0.04781602795061038\n",
      "train accuracy is: 0.9520113503588716, test accuracy is 0.9637096774193549\n"
     ]
    },
    {
     "name": "stdout",
     "output_type": "stream",
     "text": [
      "Epoch 100 Loss 0.04634631966252076\n",
      "train accuracy is: 0.9532632281755967, test accuracy is 0.9637096774193549\n"
     ]
    },
    {
     "name": "stdout",
     "output_type": "stream",
     "text": [
      "Epoch 110 Loss 0.045088798503215836\n",
      "train accuracy is: 0.9540978133867468, test accuracy is 0.9652217741935484\n"
     ]
    },
    {
     "name": "stdout",
     "output_type": "stream",
     "text": [
      "Epoch 120 Loss 0.04399844024606177\n",
      "train accuracy is: 0.9547654815556669, test accuracy is 0.9647177419354839\n"
     ]
    },
    {
     "name": "stdout",
     "output_type": "stream",
     "text": [
      "Epoch 130 Loss 0.04303966369358356\n",
      "train accuracy is: 0.9554331497245869, test accuracy is 0.9657258064516129\n"
     ]
    },
    {
     "name": "stdout",
     "output_type": "stream",
     "text": [
      "Epoch 140 Loss 0.042188713813882305\n",
      "train accuracy is: 0.956017359372392, test accuracy is 0.9672379032258065\n"
     ]
    },
    {
     "name": "stdout",
     "output_type": "stream",
     "text": [
      "Epoch 150 Loss 0.04142663901135256\n",
      "train accuracy is: 0.957269237189117, test accuracy is 0.967741935483871\n"
     ]
    },
    {
     "name": "stdout",
     "output_type": "stream",
     "text": [
      "Epoch 160 Loss 0.04073860617154301\n",
      "train accuracy is: 0.9578534468369221, test accuracy is 0.967741935483871\n"
     ]
    },
    {
     "name": "stdout",
     "output_type": "stream",
     "text": [
      "Epoch 170 Loss 0.040113789233025395\n",
      "train accuracy is: 0.9582707394424971, test accuracy is 0.967741935483871\n"
     ]
    },
    {
     "name": "stdout",
     "output_type": "stream",
     "text": [
      "Epoch 180 Loss 0.03954298436117724\n",
      "train accuracy is: 0.958604573526957, test accuracy is 0.9682459677419355\n"
     ]
    },
    {
     "name": "stdout",
     "output_type": "stream",
     "text": [
      "Epoch 190 Loss 0.03901677571309358\n",
      "train accuracy is: 0.9591053246536472, test accuracy is 0.9682459677419355\n"
     ]
    },
    {
     "name": "stdout",
     "output_type": "stream",
     "text": [
      "Epoch 200 Loss 0.03853225696981298\n",
      "train accuracy is: 0.9593557002169921, test accuracy is 0.9682459677419355\n"
     ]
    },
    {
     "name": "stdout",
     "output_type": "stream",
     "text": [
      "Epoch 210 Loss 0.038081992326285\n",
      "train accuracy is: 0.9595226172592222, test accuracy is 0.967741935483871\n"
     ]
    },
    {
     "name": "stdout",
     "output_type": "stream",
     "text": [
      "Epoch 220 Loss 0.037663400452942926\n",
      "train accuracy is: 0.9596895343014522, test accuracy is 0.9682459677419355\n"
     ]
    },
    {
     "name": "stdout",
     "output_type": "stream",
     "text": [
      "Epoch 230 Loss 0.037272800413932654\n",
      "train accuracy is: 0.9598564513436821, test accuracy is 0.9682459677419355\n"
     ]
    },
    {
     "name": "stdout",
     "output_type": "stream",
     "text": [
      "Epoch 240 Loss 0.03690656416148292\n",
      "train accuracy is: 0.9603572024703723, test accuracy is 0.9692540322580645\n"
     ]
    },
    {
     "data": {
      "text/plain": [
       "0.03651909784631922"
      ]
     },
     "execution_count": 23,
     "metadata": {},
     "output_type": "execute_result"
    }
   ],
   "source": [
    "learner2.train_loop(dl)"
   ]
  },
  {
   "cell_type": "markdown",
   "metadata": {
    "papermill": {
     "duration": 0.059521,
     "end_time": "2020-08-27T20:19:27.814825",
     "exception": false,
     "start_time": "2020-08-27T20:19:27.755304",
     "status": "completed"
    },
    "tags": []
   },
   "source": [
    "### Comparing results of NN and LR"
   ]
  },
  {
   "cell_type": "code",
   "execution_count": 24,
   "metadata": {
    "execution": {
     "iopub.execute_input": "2020-08-27T20:19:27.938496Z",
     "iopub.status.busy": "2020-08-27T20:19:27.937158Z",
     "iopub.status.idle": "2020-08-27T20:19:28.216938Z",
     "shell.execute_reply": "2020-08-27T20:19:28.216364Z"
    },
    "papermill": {
     "duration": 0.345918,
     "end_time": "2020-08-27T20:19:28.217098",
     "exception": false,
     "start_time": "2020-08-27T20:19:27.871180",
     "status": "completed"
    },
    "tags": []
   },
   "outputs": [
    {
     "data": {
      "text/plain": [
       "<matplotlib.legend.Legend at 0x7fd5d52f12e8>"
      ]
     },
     "execution_count": 24,
     "metadata": {},
     "output_type": "execute_result"
    },
    {
     "data": {
      "image/png": "[encoded data removed]",
      "text/plain": [
       "<Figure size 576x360 with 1 Axes>"
      ]
     },
     "metadata": {
      "needs_background": "light"
     },
     "output_type": "display_data"
    }
   ],
   "source": [
    "plt.figure(figsize=(8,5))\n",
    "plt.plot(acc1.val_accuracies, 'g-', label = \"Val Accuracies - NN\")\n",
    "plt.plot(acc1.accuracies, 'r-', label = \"Accuracies - NN\")\n",
    "plt.plot(acc2.val_accuracies, 'b-', label = \"Val Accuracies - Logistic Reg\")\n",
    "plt.plot(acc2.accuracies, 'k-', label = \"Accuracies - Logistic Reg\")\n",
    "plt.ylim(0.8,1) ## for a more spread out view\n",
    "plt.legend()"
   ]
  },
  {
   "cell_type": "markdown",
   "metadata": {
    "papermill": {
     "duration": 0.05937,
     "end_time": "2020-08-27T20:19:28.337082",
     "exception": false,
     "start_time": "2020-08-27T20:19:28.277712",
     "status": "completed"
    },
    "tags": []
   },
   "source": [
    "### Clearly NN has a better accuracy over LR; NN is overfitting - Validation accuracy (green) has dropped below training accuracy (orange), also they are diverging. This problem is not seen in LR"
   ]
  },
  {
   "cell_type": "markdown",
   "metadata": {
    "papermill": {
     "duration": 0.057613,
     "end_time": "2020-08-27T20:19:28.455601",
     "exception": false,
     "start_time": "2020-08-27T20:19:28.397988",
     "status": "completed"
    },
    "tags": []
   },
   "source": [
    "##### Now we will be moving through the network, till the output of the second last affine where we get a 2 dimensional output. We will be plotting this 2d output and probability contours"
   ]
  },
  {
   "cell_type": "code",
   "execution_count": 25,
   "metadata": {
    "execution": {
     "iopub.execute_input": "2020-08-27T20:19:28.582244Z",
     "iopub.status.busy": "2020-08-27T20:19:28.578244Z",
     "iopub.status.idle": "2020-08-27T20:19:28.596466Z",
     "shell.execute_reply": "2020-08-27T20:19:28.597087Z"
    },
    "papermill": {
     "duration": 0.082198,
     "end_time": "2020-08-27T20:19:28.597280",
     "exception": false,
     "start_time": "2020-08-27T20:19:28.515082",
     "status": "completed"
    },
    "tags": []
   },
   "outputs": [],
   "source": [
    "model_new = Model(layers[:-2])"
   ]
  },
  {
   "cell_type": "code",
   "execution_count": 26,
   "metadata": {
    "execution": {
     "iopub.execute_input": "2020-08-27T20:19:28.719435Z",
     "iopub.status.busy": "2020-08-27T20:19:28.718721Z",
     "iopub.status.idle": "2020-08-27T20:19:28.747687Z",
     "shell.execute_reply": "2020-08-27T20:19:28.748262Z"
    },
    "papermill": {
     "duration": 0.092563,
     "end_time": "2020-08-27T20:19:28.748460",
     "exception": false,
     "start_time": "2020-08-27T20:19:28.655897",
     "status": "completed"
    },
    "tags": []
   },
   "outputs": [],
   "source": [
    "plot_testing = model_new(testing_xdata)"
   ]
  },
  {
   "cell_type": "markdown",
   "metadata": {
    "papermill": {
     "duration": 0.096918,
     "end_time": "2020-08-27T20:19:28.906435",
     "exception": false,
     "start_time": "2020-08-27T20:19:28.809517",
     "status": "completed"
    },
    "tags": []
   },
   "source": [
    "##### Plotting the scatter plot of points and color coding by class"
   ]
  },
  {
   "cell_type": "code",
   "execution_count": 27,
   "metadata": {
    "execution": {
     "iopub.execute_input": "2020-08-27T20:19:29.045021Z",
     "iopub.status.busy": "2020-08-27T20:19:29.044302Z",
     "iopub.status.idle": "2020-08-27T20:19:29.312983Z",
     "shell.execute_reply": "2020-08-27T20:19:29.313724Z"
    },
    "papermill": {
     "duration": 0.348493,
     "end_time": "2020-08-27T20:19:29.313903",
     "exception": false,
     "start_time": "2020-08-27T20:19:28.965410",
     "status": "completed"
    },
    "tags": []
   },
   "outputs": [
    {
     "data": {
      "image/png": "[encoded data removed]",
      "text/plain": [
       "<Figure size 576x504 with 1 Axes>"
      ]
     },
     "metadata": {
      "needs_background": "light"
     },
     "output_type": "display_data"
    }
   ],
   "source": [
    "plt.figure(figsize=(8,7))\n",
    "plt.scatter(plot_testing[:,0], plot_testing[:,1], alpha = 0.1, c = y_test.ravel());"
   ]
  },
  {
   "cell_type": "markdown",
   "metadata": {
    "papermill": {
     "duration": 0.058428,
     "end_time": "2020-08-27T20:19:29.433847",
     "exception": false,
     "start_time": "2020-08-27T20:19:29.375419",
     "status": "completed"
    },
    "tags": []
   },
   "source": [
    "##### Plotting probability contours"
   ]
  },
  {
   "cell_type": "code",
   "execution_count": 28,
   "metadata": {
    "execution": {
     "iopub.execute_input": "2020-08-27T20:19:29.557324Z",
     "iopub.status.busy": "2020-08-27T20:19:29.556628Z",
     "iopub.status.idle": "2020-08-27T20:19:29.571282Z",
     "shell.execute_reply": "2020-08-27T20:19:29.570506Z"
    },
    "papermill": {
     "duration": 0.078238,
     "end_time": "2020-08-27T20:19:29.571531",
     "exception": false,
     "start_time": "2020-08-27T20:19:29.493293",
     "status": "completed"
    },
    "tags": []
   },
   "outputs": [],
   "source": [
    "model_prob = Model(layers[-2:]) ## picking only last two layers to get probability. That is affine followed by sigmoid"
   ]
  },
  {
   "cell_type": "code",
   "execution_count": 29,
   "metadata": {
    "execution": {
     "iopub.execute_input": "2020-08-27T20:19:29.699234Z",
     "iopub.status.busy": "2020-08-27T20:19:29.698478Z",
     "iopub.status.idle": "2020-08-27T20:19:29.716624Z",
     "shell.execute_reply": "2020-08-27T20:19:29.717210Z"
    },
    "papermill": {
     "duration": 0.085255,
     "end_time": "2020-08-27T20:19:29.717420",
     "exception": false,
     "start_time": "2020-08-27T20:19:29.632165",
     "status": "completed"
    },
    "tags": []
   },
   "outputs": [],
   "source": [
    "xgrid = np.linspace(-4, 1, 100) ## Adjust these values based on above chart, roughly -4 to 1\n",
    "ygrid = np.linspace(-7.5, 7.5, 100) ## Adjust these values based on above chart, roughly -7.5, 7.5\n",
    "xg, yg = np.meshgrid(xgrid, ygrid)\n",
    "# xg and yg are now both 100X100, lets convert them to single arrays \n",
    "\n",
    "xg_interim = np.ravel(xg)\n",
    "yg_interim = np.ravel(yg)\n",
    "\n",
    "## xg_interim, yg_interim are now arrays of len 10000, now we will stack them and then transpose to get desired shape of n rows, 2 columns\n",
    "\n",
    "X_interim = np.vstack((xg_interim, yg_interim)) ## Please note vstack takes in a tuple\n",
    "X = X_interim.T\n",
    "\n",
    "## We want a shape of n rows and 2 columns to be able to feed this to last affine\n",
    "## This last affine takes only two columns, hence the above transformation\n",
    "probability_contour = model_prob(X).reshape(100,100) ## to make it consistent with xg, yg"
   ]
  },
  {
   "cell_type": "code",
   "execution_count": 30,
   "metadata": {
    "execution": {
     "iopub.execute_input": "2020-08-27T20:19:29.845642Z",
     "iopub.status.busy": "2020-08-27T20:19:29.844925Z",
     "iopub.status.idle": "2020-08-27T20:19:30.144729Z",
     "shell.execute_reply": "2020-08-27T20:19:30.145406Z"
    },
    "papermill": {
     "duration": 0.368091,
     "end_time": "2020-08-27T20:19:30.145587",
     "exception": false,
     "start_time": "2020-08-27T20:19:29.777496",
     "status": "completed"
    },
    "tags": []
   },
   "outputs": [
    {
     "data": {
      "image/png": "[encoded data removed]",
      "text/plain": [
       "<Figure size 576x504 with 1 Axes>"
      ]
     },
     "metadata": {
      "needs_background": "light"
     },
     "output_type": "display_data"
    }
   ],
   "source": [
    "plt.figure(figsize=(8,7))\n",
    "plt.scatter(plot_testing[:,0], plot_testing[:,1], alpha = 0.1, c = y_test.ravel())\n",
    "contours = plt.contour(xg,yg,probability_contour)\n",
    "plt.clabel(contours, inline = True );"
   ]
  }
 ],
 "metadata": {
  "kernelspec": {
   "display_name": "Python 3",
   "language": "python",
   "name": "python3"
  },
  "language_info": {
   "codemirror_mode": {
    "name": "ipython",
    "version": 3
   },
   "file_extension": ".py",
   "mimetype": "text/x-python",
   "name": "python",
   "nbconvert_exporter": "python",
   "pygments_lexer": "ipython3",
   "version": "3.6.11"
  },
  "papermill": {
   "duration": 180.168394,
   "end_time": "2020-08-27T20:19:30.616084",
   "environment_variables": {},
   "exception": null,
   "input_path": "2020-08-07-NN-new.ipynb",
   "output_path": "2020-08-07-NN-new.ipynb",
   "parameters": {},
   "start_time": "2020-08-27T20:16:30.447690",
   "version": "2.1.2"
  }
 },
 "nbformat": 4,
 "nbformat_minor": 4
}