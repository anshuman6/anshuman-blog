{
 "cells": [
  {
   "cell_type": "markdown",
   "metadata": {
    "papermill": {
     "duration": 0.029521,
     "end_time": "2020-08-26T10:11:54.790821",
     "exception": false,
     "start_time": "2020-08-26T10:11:54.761300",
     "status": "completed"
    },
    "tags": []
   },
   "source": [
    "# \"Building a basic Neural Network from scratch - Kudzu\"\n",
    "\n",
    "- badges: true\n",
    "- author: Anshuman Gupta"
   ]
  },
  {
   "cell_type": "markdown",
   "metadata": {
    "papermill": {
     "duration": 0.025225,
     "end_time": "2020-08-26T10:11:54.841680",
     "exception": false,
     "start_time": "2020-08-26T10:11:54.816455",
     "status": "completed"
    },
    "tags": []
   },
   "source": [
    "#### In this project, the idea is to write a classifier to differentiate between handwritten digits 3 and 8, from the MNIST database.\n",
    "\n",
    "#### I will using a custom built neural network library called Kudzu.This has been developed as a part of KTF/Foundations course of Univ.ai (www.univ.ai). The source code for Kudzu Library and and this notebook can be found on my git-hub profile : www.https://github.com/anshuman6 under the folder project-solution. Any feedback and comments are welcome. Please feel free to email me at: anshuman6@gmail.com\n",
    "\n",
    "#### 1. I will be using the MNIST database. \n",
    "\n",
    "#### 2. I will be comparing the results of the 4 layer NN to a standard logistic regression"
   ]
  },
  {
   "cell_type": "markdown",
   "metadata": {
    "papermill": {
     "duration": 0.02632,
     "end_time": "2020-08-26T10:11:54.893164",
     "exception": false,
     "start_time": "2020-08-26T10:11:54.866844",
     "status": "completed"
    },
    "tags": []
   },
   "source": [
    "##### Importing all the necessary libraries"
   ]
  },
  {
   "cell_type": "code",
   "execution_count": 1,
   "metadata": {
    "execution": {
     "iopub.execute_input": "2020-08-26T10:11:54.951605Z",
     "iopub.status.busy": "2020-08-26T10:11:54.951183Z",
     "iopub.status.idle": "2020-08-26T10:11:54.962020Z",
     "shell.execute_reply": "2020-08-26T10:11:54.961534Z"
    },
    "papermill": {
     "duration": 0.041953,
     "end_time": "2020-08-26T10:11:54.962159",
     "exception": false,
     "start_time": "2020-08-26T10:11:54.920206",
     "status": "completed"
    },
    "tags": []
   },
   "outputs": [],
   "source": [
    "%load_ext autoreload\n",
    "%autoreload 2"
   ]
  },
  {
   "cell_type": "code",
   "execution_count": 2,
   "metadata": {
    "execution": {
     "iopub.execute_input": "2020-08-26T10:11:55.020691Z",
     "iopub.status.busy": "2020-08-26T10:11:55.020125Z",
     "iopub.status.idle": "2020-08-26T10:11:55.565167Z",
     "shell.execute_reply": "2020-08-26T10:11:55.564533Z"
    },
    "papermill": {
     "duration": 0.577198,
     "end_time": "2020-08-26T10:11:55.565329",
     "exception": false,
     "start_time": "2020-08-26T10:11:54.988131",
     "status": "completed"
    },
    "tags": []
   },
   "outputs": [],
   "source": [
    "%matplotlib inline\n",
    "import numpy as np\n",
    "import matplotlib.pyplot as plt\n",
    "import pandas as pd"
   ]
  },
  {
   "cell_type": "markdown",
   "metadata": {
    "papermill": {
     "duration": 0.025588,
     "end_time": "2020-08-26T10:11:55.620067",
     "exception": false,
     "start_time": "2020-08-26T10:11:55.594479",
     "status": "completed"
    },
    "tags": []
   },
   "source": [
    "##### The following command helps us download MNIST from notebook itself. You can skip this if you already have MNIST. You can also download it via your terminal."
   ]
  },
  {
   "cell_type": "code",
   "execution_count": 3,
   "metadata": {
    "execution": {
     "iopub.execute_input": "2020-08-26T10:11:55.679424Z",
     "iopub.status.busy": "2020-08-26T10:11:55.678864Z",
     "iopub.status.idle": "2020-08-26T10:11:57.062110Z",
     "shell.execute_reply": "2020-08-26T10:11:57.060629Z"
    },
    "papermill": {
     "duration": 1.415907,
     "end_time": "2020-08-26T10:11:57.062265",
     "exception": false,
     "start_time": "2020-08-26T10:11:55.646358",
     "status": "completed"
    },
    "tags": []
   },
   "outputs": [
    {
     "name": "stdout",
     "output_type": "stream",
     "text": [
      "Collecting mnist\r\n"
     ]
    },
    {
     "name": "stdout",
     "output_type": "stream",
     "text": [
      "  Downloading mnist-0.2.2-py2.py3-none-any.whl (3.5 kB)\r\n",
      "Requirement already satisfied: numpy in /opt/hostedtoolcache/Python/3.6.11/x64/lib/python3.6/site-packages (from mnist) (1.19.1)\r\n"
     ]
    },
    {
     "name": "stdout",
     "output_type": "stream",
     "text": [
      "Installing collected packages: mnist\r\n"
     ]
    },
    {
     "name": "stdout",
     "output_type": "stream",
     "text": [
      "Successfully installed mnist-0.2.2\r\n"
     ]
    }
   ],
   "source": [
    "!pip install mnist # Please note, it is commented out for now, you can remove comment if you want to install it"
   ]
  },
  {
   "cell_type": "markdown",
   "metadata": {
    "papermill": {
     "duration": 0.027654,
     "end_time": "2020-08-26T10:11:57.117410",
     "exception": false,
     "start_time": "2020-08-26T10:11:57.089756",
     "status": "completed"
    },
    "tags": []
   },
   "source": [
    "#### Preparing the Data"
   ]
  },
  {
   "cell_type": "code",
   "execution_count": 4,
   "metadata": {
    "execution": {
     "iopub.execute_input": "2020-08-26T10:11:57.181396Z",
     "iopub.status.busy": "2020-08-26T10:11:57.176154Z",
     "iopub.status.idle": "2020-08-26T10:11:57.194045Z",
     "shell.execute_reply": "2020-08-26T10:11:57.193450Z"
    },
    "papermill": {
     "duration": 0.048869,
     "end_time": "2020-08-26T10:11:57.194191",
     "exception": false,
     "start_time": "2020-08-26T10:11:57.145322",
     "status": "completed"
    },
    "tags": []
   },
   "outputs": [],
   "source": [
    "import mnist"
   ]
  },
  {
   "cell_type": "code",
   "execution_count": 5,
   "metadata": {
    "execution": {
     "iopub.execute_input": "2020-08-26T10:11:57.261893Z",
     "iopub.status.busy": "2020-08-26T10:11:57.261283Z",
     "iopub.status.idle": "2020-08-26T10:11:58.053515Z",
     "shell.execute_reply": "2020-08-26T10:11:58.052951Z"
    },
    "papermill": {
     "duration": 0.831206,
     "end_time": "2020-08-26T10:11:58.053651",
     "exception": false,
     "start_time": "2020-08-26T10:11:57.222445",
     "status": "completed"
    },
    "tags": []
   },
   "outputs": [],
   "source": [
    "train_images = mnist.train_images()\n",
    "train_labels = mnist.train_labels()"
   ]
  },
  {
   "cell_type": "code",
   "execution_count": 6,
   "metadata": {
    "execution": {
     "iopub.execute_input": "2020-08-26T10:11:58.117175Z",
     "iopub.status.busy": "2020-08-26T10:11:58.116488Z",
     "iopub.status.idle": "2020-08-26T10:11:58.133601Z",
     "shell.execute_reply": "2020-08-26T10:11:58.134102Z"
    },
    "papermill": {
     "duration": 0.050159,
     "end_time": "2020-08-26T10:11:58.134258",
     "exception": false,
     "start_time": "2020-08-26T10:11:58.084099",
     "status": "completed"
    },
    "tags": []
   },
   "outputs": [
    {
     "data": {
      "text/plain": [
       "((60000, 28, 28), (60000,))"
      ]
     },
     "execution_count": 6,
     "metadata": {},
     "output_type": "execute_result"
    }
   ],
   "source": [
    "train_images.shape, train_labels.shape"
   ]
  },
  {
   "cell_type": "code",
   "execution_count": 7,
   "metadata": {
    "execution": {
     "iopub.execute_input": "2020-08-26T10:11:58.193354Z",
     "iopub.status.busy": "2020-08-26T10:11:58.192811Z",
     "iopub.status.idle": "2020-08-26T10:11:58.458254Z",
     "shell.execute_reply": "2020-08-26T10:11:58.458978Z"
    },
    "papermill": {
     "duration": 0.297801,
     "end_time": "2020-08-26T10:11:58.459133",
     "exception": false,
     "start_time": "2020-08-26T10:11:58.161332",
     "status": "completed"
    },
    "tags": []
   },
   "outputs": [],
   "source": [
    "test_images = mnist.test_images()\n",
    "test_labels = mnist.test_labels()"
   ]
  },
  {
   "cell_type": "code",
   "execution_count": 8,
   "metadata": {
    "execution": {
     "iopub.execute_input": "2020-08-26T10:11:58.525434Z",
     "iopub.status.busy": "2020-08-26T10:11:58.517611Z",
     "iopub.status.idle": "2020-08-26T10:11:58.530160Z",
     "shell.execute_reply": "2020-08-26T10:11:58.530626Z"
    },
    "papermill": {
     "duration": 0.044035,
     "end_time": "2020-08-26T10:11:58.530772",
     "exception": false,
     "start_time": "2020-08-26T10:11:58.486737",
     "status": "completed"
    },
    "tags": []
   },
   "outputs": [
    {
     "data": {
      "text/plain": [
       "((10000, 28, 28), (10000,))"
      ]
     },
     "execution_count": 8,
     "metadata": {},
     "output_type": "execute_result"
    }
   ],
   "source": [
    "test_images.shape, test_labels.shape"
   ]
  },
  {
   "cell_type": "code",
   "execution_count": 9,
   "metadata": {
    "execution": {
     "iopub.execute_input": "2020-08-26T10:11:58.589973Z",
     "iopub.status.busy": "2020-08-26T10:11:58.589283Z",
     "iopub.status.idle": "2020-08-26T10:11:58.740256Z",
     "shell.execute_reply": "2020-08-26T10:11:58.739556Z"
    },
    "papermill": {
     "duration": 0.182154,
     "end_time": "2020-08-26T10:11:58.740439",
     "exception": false,
     "start_time": "2020-08-26T10:11:58.558285",
     "status": "completed"
    },
    "tags": []
   },
   "outputs": [
    {
     "name": "stdout",
     "output_type": "stream",
     "text": [
      "2\n"
     ]
    },
    {
     "data": {
      "text/plain": [
       "<matplotlib.image.AxesImage at 0x7f51ae6b3a90>"
      ]
     },
     "execution_count": 9,
     "metadata": {},
     "output_type": "execute_result"
    },
    {
     "data": {
      "image/png": "[encoded data removed]",
      "text/plain": [
       "<Figure size 432x288 with 1 Axes>"
      ]
     },
     "metadata": {
      "needs_background": "light"
     },
     "output_type": "display_data"
    }
   ],
   "source": [
    "image_index = 7776 # You may select anything up to 60,000\n",
    "print(train_labels[image_index]) \n",
    "plt.imshow(train_images[image_index], cmap='Greys')"
   ]
  },
  {
   "cell_type": "markdown",
   "metadata": {
    "papermill": {
     "duration": 0.030351,
     "end_time": "2020-08-26T10:11:58.803571",
     "exception": false,
     "start_time": "2020-08-26T10:11:58.773220",
     "status": "completed"
    },
    "tags": []
   },
   "source": [
    "## Filter data to get 3 and 8 out"
   ]
  },
  {
   "cell_type": "code",
   "execution_count": 10,
   "metadata": {
    "execution": {
     "iopub.execute_input": "2020-08-26T10:11:58.869448Z",
     "iopub.status.busy": "2020-08-26T10:11:58.864659Z",
     "iopub.status.idle": "2020-08-26T10:11:58.887051Z",
     "shell.execute_reply": "2020-08-26T10:11:58.886441Z"
    },
    "papermill": {
     "duration": 0.054942,
     "end_time": "2020-08-26T10:11:58.887200",
     "exception": false,
     "start_time": "2020-08-26T10:11:58.832258",
     "status": "completed"
    },
    "tags": []
   },
   "outputs": [],
   "source": [
    "train_filter = np.where((train_labels == 3 ) | (train_labels == 8))\n",
    "test_filter = np.where((test_labels == 3) | (test_labels == 8))\n",
    "X_train, y_train = train_images[train_filter], train_labels[train_filter]\n",
    "X_test, y_test = test_images[test_filter], test_labels[test_filter]"
   ]
  },
  {
   "cell_type": "markdown",
   "metadata": {
    "papermill": {
     "duration": 0.029265,
     "end_time": "2020-08-26T10:11:58.948197",
     "exception": false,
     "start_time": "2020-08-26T10:11:58.918932",
     "status": "completed"
    },
    "tags": []
   },
   "source": [
    "##### We normalize the pizel values in the 0 to 1 range"
   ]
  },
  {
   "cell_type": "code",
   "execution_count": 11,
   "metadata": {
    "execution": {
     "iopub.execute_input": "2020-08-26T10:11:59.011865Z",
     "iopub.status.busy": "2020-08-26T10:11:59.010852Z",
     "iopub.status.idle": "2020-08-26T10:11:59.066294Z",
     "shell.execute_reply": "2020-08-26T10:11:59.065638Z"
    },
    "papermill": {
     "duration": 0.089183,
     "end_time": "2020-08-26T10:11:59.066422",
     "exception": false,
     "start_time": "2020-08-26T10:11:58.977239",
     "status": "completed"
    },
    "tags": []
   },
   "outputs": [],
   "source": [
    "X_train = X_train/255.\n",
    "X_test = X_test/255."
   ]
  },
  {
   "cell_type": "markdown",
   "metadata": {
    "papermill": {
     "duration": 0.03076,
     "end_time": "2020-08-26T10:11:59.127646",
     "exception": false,
     "start_time": "2020-08-26T10:11:59.096886",
     "status": "completed"
    },
    "tags": []
   },
   "source": [
    "And setup the labels as 1 (when the digit is 3) and 0 (when the digit is 8)"
   ]
  },
  {
   "cell_type": "code",
   "execution_count": 12,
   "metadata": {
    "execution": {
     "iopub.execute_input": "2020-08-26T10:11:59.191445Z",
     "iopub.status.busy": "2020-08-26T10:11:59.190911Z",
     "iopub.status.idle": "2020-08-26T10:11:59.205101Z",
     "shell.execute_reply": "2020-08-26T10:11:59.205607Z"
    },
    "papermill": {
     "duration": 0.047652,
     "end_time": "2020-08-26T10:11:59.205762",
     "exception": false,
     "start_time": "2020-08-26T10:11:59.158110",
     "status": "completed"
    },
    "tags": []
   },
   "outputs": [],
   "source": [
    "y_train = 1*(y_train==3)\n",
    "y_test = 1*(y_test==3)"
   ]
  },
  {
   "cell_type": "code",
   "execution_count": 13,
   "metadata": {
    "execution": {
     "iopub.execute_input": "2020-08-26T10:11:59.269291Z",
     "iopub.status.busy": "2020-08-26T10:11:59.268692Z",
     "iopub.status.idle": "2020-08-26T10:11:59.282665Z",
     "shell.execute_reply": "2020-08-26T10:11:59.282188Z"
    },
    "papermill": {
     "duration": 0.047913,
     "end_time": "2020-08-26T10:11:59.282786",
     "exception": false,
     "start_time": "2020-08-26T10:11:59.234873",
     "status": "completed"
    },
    "tags": []
   },
   "outputs": [
    {
     "data": {
      "text/plain": [
       "((11982, 28, 28), (1984, 28, 28))"
      ]
     },
     "execution_count": 13,
     "metadata": {},
     "output_type": "execute_result"
    }
   ],
   "source": [
    "X_train.shape, X_test.shape"
   ]
  },
  {
   "cell_type": "markdown",
   "metadata": {
    "papermill": {
     "duration": 0.029689,
     "end_time": "2020-08-26T10:11:59.342315",
     "exception": false,
     "start_time": "2020-08-26T10:11:59.312626",
     "status": "completed"
    },
    "tags": []
   },
   "source": [
    "##### We reshape the data to flatten the image pixels into a set of features or co-variates:"
   ]
  },
  {
   "cell_type": "code",
   "execution_count": 14,
   "metadata": {
    "execution": {
     "iopub.execute_input": "2020-08-26T10:11:59.406561Z",
     "iopub.status.busy": "2020-08-26T10:11:59.405993Z",
     "iopub.status.idle": "2020-08-26T10:11:59.421994Z",
     "shell.execute_reply": "2020-08-26T10:11:59.421488Z"
    },
    "papermill": {
     "duration": 0.050426,
     "end_time": "2020-08-26T10:11:59.422121",
     "exception": false,
     "start_time": "2020-08-26T10:11:59.371695",
     "status": "completed"
    },
    "tags": []
   },
   "outputs": [
    {
     "data": {
      "text/plain": [
       "((11982, 784), (1984, 784))"
      ]
     },
     "execution_count": 14,
     "metadata": {},
     "output_type": "execute_result"
    }
   ],
   "source": [
    "X_train = X_train.reshape(X_train.shape[0], -1)\n",
    "X_test = X_test.reshape(X_test.shape[0], -1)\n",
    "X_train.shape, X_test.shape"
   ]
  },
  {
   "cell_type": "markdown",
   "metadata": {
    "papermill": {
     "duration": 0.031255,
     "end_time": "2020-08-26T10:11:59.482215",
     "exception": false,
     "start_time": "2020-08-26T10:11:59.450960",
     "status": "completed"
    },
    "tags": []
   },
   "source": [
    "##### Importing Kudzu library and its functionality"
   ]
  },
  {
   "cell_type": "code",
   "execution_count": 15,
   "metadata": {
    "execution": {
     "iopub.execute_input": "2020-08-26T10:11:59.548570Z",
     "iopub.status.busy": "2020-08-26T10:11:59.548030Z",
     "iopub.status.idle": "2020-08-26T10:11:59.569675Z",
     "shell.execute_reply": "2020-08-26T10:11:59.569059Z"
    },
    "papermill": {
     "duration": 0.057445,
     "end_time": "2020-08-26T10:11:59.569827",
     "exception": false,
     "start_time": "2020-08-26T10:11:59.512382",
     "status": "completed"
    },
    "tags": []
   },
   "outputs": [],
   "source": [
    "from kudzu.data import Data, Dataloader, Sampler\n",
    "from kudzu.callbacks import AccCallback\n",
    "from kudzu.loss import MSE\n",
    "from kudzu.layer import Affine, Sigmoid\n",
    "from kudzu.model import Model\n",
    "from kudzu.optim import GD\n",
    "from kudzu.train import Learner\n",
    "from kudzu.callbacks import ClfCallback\n",
    "from kudzu.layer import Sigmoid\n",
    "from kudzu.layer import Relu"
   ]
  },
  {
   "cell_type": "markdown",
   "metadata": {
    "papermill": {
     "duration": 0.028937,
     "end_time": "2020-08-26T10:11:59.628739",
     "exception": false,
     "start_time": "2020-08-26T10:11:59.599802",
     "status": "completed"
    },
    "tags": []
   },
   "source": [
    "##### We are creating a class, just so that we can use it to store our parameters for us"
   ]
  },
  {
   "cell_type": "code",
   "execution_count": 16,
   "metadata": {
    "execution": {
     "iopub.execute_input": "2020-08-26T10:11:59.695326Z",
     "iopub.status.busy": "2020-08-26T10:11:59.694732Z",
     "iopub.status.idle": "2020-08-26T10:11:59.708340Z",
     "shell.execute_reply": "2020-08-26T10:11:59.708847Z"
    },
    "papermill": {
     "duration": 0.049418,
     "end_time": "2020-08-26T10:11:59.709002",
     "exception": false,
     "start_time": "2020-08-26T10:11:59.659584",
     "status": "completed"
    },
    "tags": []
   },
   "outputs": [],
   "source": [
    "class Config:\n",
    "    pass\n",
    "config = Config()\n",
    "config.lr = 0.001\n",
    "config.num_epochs = 250\n",
    "config.bs = 50"
   ]
  },
  {
   "cell_type": "markdown",
   "metadata": {
    "papermill": {
     "duration": 0.030064,
     "end_time": "2020-08-26T10:11:59.769847",
     "exception": false,
     "start_time": "2020-08-26T10:11:59.739783",
     "status": "completed"
    },
    "tags": []
   },
   "source": [
    "##### Initializing Data"
   ]
  },
  {
   "cell_type": "code",
   "execution_count": 17,
   "metadata": {
    "execution": {
     "iopub.execute_input": "2020-08-26T10:11:59.835857Z",
     "iopub.status.busy": "2020-08-26T10:11:59.835318Z",
     "iopub.status.idle": "2020-08-26T10:11:59.848151Z",
     "shell.execute_reply": "2020-08-26T10:11:59.848583Z"
    },
    "papermill": {
     "duration": 0.048946,
     "end_time": "2020-08-26T10:11:59.848757",
     "exception": false,
     "start_time": "2020-08-26T10:11:59.799811",
     "status": "completed"
    },
    "tags": []
   },
   "outputs": [],
   "source": [
    "data = Data(X_train, y_train.reshape(-1,1))\n",
    "loss = MSE()\n",
    "opt = GD(config.lr)\n",
    "sampler = Sampler(data, config.bs, shuffle=True)\n",
    "dl = Dataloader(data, sampler)"
   ]
  },
  {
   "cell_type": "markdown",
   "metadata": {
    "papermill": {
     "duration": 0.029695,
     "end_time": "2020-08-26T10:11:59.908339",
     "exception": false,
     "start_time": "2020-08-26T10:11:59.878644",
     "status": "completed"
    },
    "tags": []
   },
   "source": [
    "##### Constructing 2 different layers, one for NN and one only for logistic regression."
   ]
  },
  {
   "cell_type": "markdown",
   "metadata": {
    "papermill": {
     "duration": 0.029819,
     "end_time": "2020-08-26T10:11:59.968297",
     "exception": false,
     "start_time": "2020-08-26T10:11:59.938478",
     "status": "completed"
    },
    "tags": []
   },
   "source": [
    "##### Creating containers for data to be passed, to calculate accuracies"
   ]
  },
  {
   "cell_type": "code",
   "execution_count": 18,
   "metadata": {
    "execution": {
     "iopub.execute_input": "2020-08-26T10:12:00.033176Z",
     "iopub.status.busy": "2020-08-26T10:12:00.032631Z",
     "iopub.status.idle": "2020-08-26T10:12:00.046249Z",
     "shell.execute_reply": "2020-08-26T10:12:00.045785Z"
    },
    "papermill": {
     "duration": 0.048617,
     "end_time": "2020-08-26T10:12:00.046369",
     "exception": false,
     "start_time": "2020-08-26T10:11:59.997752",
     "status": "completed"
    },
    "tags": []
   },
   "outputs": [],
   "source": [
    "training_xdata = X_train\n",
    "testing_xdata = X_test\n",
    "training_ydata = y_train.reshape(-1,1)\n",
    "testing_ydata = y_test.reshape(-1,1)"
   ]
  },
  {
   "cell_type": "markdown",
   "metadata": {
    "papermill": {
     "duration": 0.029352,
     "end_time": "2020-08-26T10:12:00.105512",
     "exception": false,
     "start_time": "2020-08-26T10:12:00.076160",
     "status": "completed"
    },
    "tags": []
   },
   "source": [
    "##### Initializing models and Running training loop: "
   ]
  },
  {
   "cell_type": "code",
   "execution_count": 19,
   "metadata": {
    "execution": {
     "iopub.execute_input": "2020-08-26T10:12:00.171477Z",
     "iopub.status.busy": "2020-08-26T10:12:00.170905Z",
     "iopub.status.idle": "2020-08-26T10:12:00.188455Z",
     "shell.execute_reply": "2020-08-26T10:12:00.188953Z"
    },
    "papermill": {
     "duration": 0.054131,
     "end_time": "2020-08-26T10:12:00.189106",
     "exception": false,
     "start_time": "2020-08-26T10:12:00.134975",
     "status": "completed"
    },
    "tags": []
   },
   "outputs": [],
   "source": [
    "layers = [Affine(\"first\", 784, 100), Relu(\"first\"), Affine(\"second\", 100, 100), Relu(\"second\"), Affine(\"third\", 100, 2), Affine(\"final\", 2, 1), Sigmoid(\"final\")]\n",
    "\n",
    "model_neural = Model(layers)\n",
    "model_logistic = Model([Affine(\"logits\", 784, 1), Sigmoid(\"sigmoid\")])"
   ]
  },
  {
   "cell_type": "code",
   "execution_count": 20,
   "metadata": {
    "execution": {
     "iopub.execute_input": "2020-08-26T10:12:00.254600Z",
     "iopub.status.busy": "2020-08-26T10:12:00.254010Z",
     "iopub.status.idle": "2020-08-26T10:12:00.267260Z",
     "shell.execute_reply": "2020-08-26T10:12:00.266733Z"
    },
    "papermill": {
     "duration": 0.047819,
     "end_time": "2020-08-26T10:12:00.267388",
     "exception": false,
     "start_time": "2020-08-26T10:12:00.219569",
     "status": "completed"
    },
    "tags": []
   },
   "outputs": [],
   "source": [
    "learner1 = Learner(loss, model_neural, opt, config.num_epochs)\n",
    "acc1 = ClfCallback(learner1, config.bs, training_xdata , testing_xdata, training_ydata, testing_ydata)\n",
    "learner1.set_callbacks([acc1])"
   ]
  },
  {
   "cell_type": "code",
   "execution_count": 21,
   "metadata": {
    "execution": {
     "iopub.execute_input": "2020-08-26T10:12:00.333406Z",
     "iopub.status.busy": "2020-08-26T10:12:00.332816Z",
     "iopub.status.idle": "2020-08-26T10:13:23.955149Z",
     "shell.execute_reply": "2020-08-26T10:13:23.955958Z"
    },
    "papermill": {
     "duration": 83.657889,
     "end_time": "2020-08-26T10:13:23.956115",
     "exception": false,
     "start_time": "2020-08-26T10:12:00.298226",
     "status": "completed"
    },
    "tags": []
   },
   "outputs": [
    {
     "name": "stdout",
     "output_type": "stream",
     "text": [
      "Epoch 0 Loss 0.23874952193026056\n",
      "train accuracy is: 0.6836087464530128, test accuracy is 0.6663306451612904\n"
     ]
    },
    {
     "name": "stdout",
     "output_type": "stream",
     "text": [
      "Epoch 10 Loss 0.09237573915066677\n",
      "train accuracy is: 0.914538474378234, test accuracy is 0.9284274193548387\n"
     ]
    },
    {
     "name": "stdout",
     "output_type": "stream",
     "text": [
      "Epoch 20 Loss 0.05770910774194199\n",
      "train accuracy is: 0.9384910699382407, test accuracy is 0.9495967741935484\n"
     ]
    },
    {
     "name": "stdout",
     "output_type": "stream",
     "text": [
      "Epoch 30 Loss 0.045651300576177035\n",
      "train accuracy is: 0.9483391754298114, test accuracy is 0.9566532258064516\n"
     ]
    },
    {
     "name": "stdout",
     "output_type": "stream",
     "text": [
      "Epoch 40 Loss 0.03957404792890287\n",
      "train accuracy is: 0.9556835252879319, test accuracy is 0.9647177419354839\n"
     ]
    },
    {
     "name": "stdout",
     "output_type": "stream",
     "text": [
      "Epoch 50 Loss 0.03587249077898124\n",
      "train accuracy is: 0.9596060757803372, test accuracy is 0.96875\n"
     ]
    },
    {
     "name": "stdout",
     "output_type": "stream",
     "text": [
      "Epoch 60 Loss 0.03333267326829437\n",
      "train accuracy is: 0.9615256217659823, test accuracy is 0.9692540322580645\n"
     ]
    },
    {
     "name": "stdout",
     "output_type": "stream",
     "text": [
      "Epoch 70 Loss 0.03143844488989776\n",
      "train accuracy is: 0.9636955433149724, test accuracy is 0.969758064516129\n"
     ]
    },
    {
     "name": "stdout",
     "output_type": "stream",
     "text": [
      "Epoch 80 Loss 0.029938306247028684\n",
      "train accuracy is: 0.9654481722583875, test accuracy is 0.969758064516129\n"
     ]
    },
    {
     "name": "stdout",
     "output_type": "stream",
     "text": [
      "Epoch 90 Loss 0.02870502207593327\n",
      "train accuracy is: 0.9663662159906526, test accuracy is 0.969758064516129\n"
     ]
    },
    {
     "name": "stdout",
     "output_type": "stream",
     "text": [
      "Epoch 100 Loss 0.027669759185680303\n",
      "train accuracy is: 0.9676180938073777, test accuracy is 0.9712701612903226\n"
     ]
    },
    {
     "name": "stdout",
     "output_type": "stream",
     "text": [
      "Epoch 110 Loss 0.026773824919130204\n",
      "train accuracy is: 0.9686195960607578, test accuracy is 0.9717741935483871\n"
     ]
    },
    {
     "name": "stdout",
     "output_type": "stream",
     "text": [
      "Epoch 120 Loss 0.0259671492619637\n",
      "train accuracy is: 0.9692872642296778, test accuracy is 0.9717741935483871\n"
     ]
    },
    {
     "name": "stdout",
     "output_type": "stream",
     "text": [
      "Epoch 130 Loss 0.02526059909848154\n",
      "train accuracy is: 0.9701218494408279, test accuracy is 0.9717741935483871\n"
     ]
    },
    {
     "name": "stdout",
     "output_type": "stream",
     "text": [
      "Epoch 140 Loss 0.024611579890706697\n",
      "train accuracy is: 0.9705391420464029, test accuracy is 0.9727822580645161\n"
     ]
    },
    {
     "name": "stdout",
     "output_type": "stream",
     "text": [
      "Epoch 150 Loss 0.024018676170723372\n",
      "train accuracy is: 0.971791019863128, test accuracy is 0.9737903225806451\n"
     ]
    },
    {
     "name": "stdout",
     "output_type": "stream",
     "text": [
      "Epoch 160 Loss 0.023462416188185793\n",
      "train accuracy is: 0.9721248539475881, test accuracy is 0.9742943548387096\n"
     ]
    },
    {
     "name": "stdout",
     "output_type": "stream",
     "text": [
      "Epoch 170 Loss 0.02294217226514548\n",
      "train accuracy is: 0.9728759806376232, test accuracy is 0.9737903225806451\n"
     ]
    },
    {
     "name": "stdout",
     "output_type": "stream",
     "text": [
      "Epoch 180 Loss 0.022450741452351753\n",
      "train accuracy is: 0.9738774828910032, test accuracy is 0.9742943548387096\n"
     ]
    },
    {
     "name": "stdout",
     "output_type": "stream",
     "text": [
      "Epoch 190 Loss 0.02197604218710702\n",
      "train accuracy is: 0.9742947754965782, test accuracy is 0.9737903225806451\n"
     ]
    },
    {
     "name": "stdout",
     "output_type": "stream",
     "text": [
      "Epoch 200 Loss 0.021515843803775886\n",
      "train accuracy is: 0.9752962777499583, test accuracy is 0.9742943548387096\n"
     ]
    },
    {
     "name": "stdout",
     "output_type": "stream",
     "text": [
      "Epoch 210 Loss 0.021066769219194762\n",
      "train accuracy is: 0.9762143214822233, test accuracy is 0.9742943548387096\n"
     ]
    },
    {
     "name": "stdout",
     "output_type": "stream",
     "text": [
      "Epoch 220 Loss 0.02063851887233418\n",
      "train accuracy is: 0.9764646970455684, test accuracy is 0.9742943548387096\n"
     ]
    },
    {
     "name": "stdout",
     "output_type": "stream",
     "text": [
      "Epoch 230 Loss 0.020222017346152147\n",
      "train accuracy is: 0.9772992822567184, test accuracy is 0.9747983870967742\n"
     ]
    },
    {
     "name": "stdout",
     "output_type": "stream",
     "text": [
      "Epoch 240 Loss 0.01981074641199218\n",
      "train accuracy is: 0.9778000333834085, test accuracy is 0.9747983870967742\n"
     ]
    },
    {
     "data": {
      "text/plain": [
       "0.002579355485505543"
      ]
     },
     "execution_count": 21,
     "metadata": {},
     "output_type": "execute_result"
    }
   ],
   "source": [
    "learner1.train_loop(dl)"
   ]
  },
  {
   "cell_type": "markdown",
   "metadata": {
    "papermill": {
     "duration": 0.040683,
     "end_time": "2020-08-26T10:13:24.035387",
     "exception": false,
     "start_time": "2020-08-26T10:13:23.994704",
     "status": "completed"
    },
    "tags": []
   },
   "source": [
    "##### Now running only the logistic regression based classification to compare results with NN"
   ]
  },
  {
   "cell_type": "code",
   "execution_count": 22,
   "metadata": {
    "execution": {
     "iopub.execute_input": "2020-08-26T10:13:24.120360Z",
     "iopub.status.busy": "2020-08-26T10:13:24.119807Z",
     "iopub.status.idle": "2020-08-26T10:13:24.129553Z",
     "shell.execute_reply": "2020-08-26T10:13:24.129034Z"
    },
    "papermill": {
     "duration": 0.054995,
     "end_time": "2020-08-26T10:13:24.129679",
     "exception": false,
     "start_time": "2020-08-26T10:13:24.074684",
     "status": "completed"
    },
    "tags": []
   },
   "outputs": [],
   "source": [
    "learner2 = Learner(loss, model_logistic, opt, config.num_epochs)\n",
    "acc2 = ClfCallback(learner2, config.bs, training_xdata , testing_xdata, training_ydata, testing_ydata)\n",
    "learner2.set_callbacks([acc2])"
   ]
  },
  {
   "cell_type": "code",
   "execution_count": 23,
   "metadata": {
    "execution": {
     "iopub.execute_input": "2020-08-26T10:13:24.208044Z",
     "iopub.status.busy": "2020-08-26T10:13:24.207490Z",
     "iopub.status.idle": "2020-08-26T10:13:39.274574Z",
     "shell.execute_reply": "2020-08-26T10:13:39.275412Z"
    },
    "papermill": {
     "duration": 15.107497,
     "end_time": "2020-08-26T10:13:39.275577",
     "exception": false,
     "start_time": "2020-08-26T10:13:24.168080",
     "status": "completed"
    },
    "tags": []
   },
   "outputs": [
    {
     "name": "stdout",
     "output_type": "stream",
     "text": [
      "Epoch 0 Loss 0.26400901594008713\n",
      "train accuracy is: 0.5932231680854615, test accuracy is 0.5811491935483871\n"
     ]
    },
    {
     "name": "stdout",
     "output_type": "stream",
     "text": [
      "Epoch 10 Loss 0.10306249897693845\n",
      "train accuracy is: 0.913536972124854, test accuracy is 0.9259072580645161\n"
     ]
    },
    {
     "name": "stdout",
     "output_type": "stream",
     "text": [
      "Epoch 20 Loss 0.07829301715874319\n",
      "train accuracy is: 0.9293106326155901, test accuracy is 0.9440524193548387\n"
     ]
    },
    {
     "name": "stdout",
     "output_type": "stream",
     "text": [
      "Epoch 30 Loss 0.06730010352363143\n",
      "train accuracy is: 0.9374895676848606, test accuracy is 0.9490927419354839\n"
     ]
    },
    {
     "name": "stdout",
     "output_type": "stream",
     "text": [
      "Epoch 40 Loss 0.06080553080361477\n",
      "train accuracy is: 0.942246703388416, test accuracy is 0.9536290322580645\n"
     ]
    },
    {
     "name": "stdout",
     "output_type": "stream",
     "text": [
      "Epoch 50 Loss 0.05641913982172997\n",
      "train accuracy is: 0.9465865464863963, test accuracy is 0.9566532258064516\n"
     ]
    },
    {
     "name": "stdout",
     "output_type": "stream",
     "text": [
      "Epoch 60 Loss 0.053210539852175005\n",
      "train accuracy is: 0.9490068435987314, test accuracy is 0.9581653225806451\n"
     ]
    },
    {
     "name": "stdout",
     "output_type": "stream",
     "text": [
      "Epoch 70 Loss 0.05073940840401342\n",
      "train accuracy is: 0.9506760140210315, test accuracy is 0.9596774193548387\n"
     ]
    },
    {
     "name": "stdout",
     "output_type": "stream",
     "text": [
      "Epoch 80 Loss 0.04875985738423288\n",
      "train accuracy is: 0.9520113503588716, test accuracy is 0.9606854838709677\n"
     ]
    },
    {
     "name": "stdout",
     "output_type": "stream",
     "text": [
      "Epoch 90 Loss 0.0471295381664699\n",
      "train accuracy is: 0.9532632281755967, test accuracy is 0.9627016129032258\n"
     ]
    },
    {
     "name": "stdout",
     "output_type": "stream",
     "text": [
      "Epoch 100 Loss 0.04575583168297967\n",
      "train accuracy is: 0.9539308963445168, test accuracy is 0.9637096774193549\n"
     ]
    },
    {
     "name": "stdout",
     "output_type": "stream",
     "text": [
      "Epoch 110 Loss 0.0445766534815172\n",
      "train accuracy is: 0.9548489400767819, test accuracy is 0.9637096774193549\n"
     ]
    },
    {
     "name": "stdout",
     "output_type": "stream",
     "text": [
      "Epoch 120 Loss 0.04355152958733732\n",
      "train accuracy is: 0.9556835252879319, test accuracy is 0.9652217741935484\n"
     ]
    },
    {
     "name": "stdout",
     "output_type": "stream",
     "text": [
      "Epoch 130 Loss 0.04264837602417618\n",
      "train accuracy is: 0.9567684860624269, test accuracy is 0.9652217741935484\n"
     ]
    },
    {
     "name": "stdout",
     "output_type": "stream",
     "text": [
      "Epoch 140 Loss 0.04184359023143386\n",
      "train accuracy is: 0.957269237189117, test accuracy is 0.9662298387096774\n"
     ]
    },
    {
     "name": "stdout",
     "output_type": "stream",
     "text": [
      "Epoch 150 Loss 0.041121112572293006\n",
      "train accuracy is: 0.957686529794692, test accuracy is 0.9667338709677419\n"
     ]
    },
    {
     "name": "stdout",
     "output_type": "stream",
     "text": [
      "Epoch 160 Loss 0.040466948972538455\n",
      "train accuracy is: 0.9583541979636121, test accuracy is 0.9672379032258065\n"
     ]
    },
    {
     "name": "stdout",
     "output_type": "stream",
     "text": [
      "Epoch 170 Loss 0.039871648927839766\n",
      "train accuracy is: 0.9582707394424971, test accuracy is 0.9672379032258065\n"
     ]
    },
    {
     "name": "stdout",
     "output_type": "stream",
     "text": [
      "Epoch 180 Loss 0.039326135212710535\n",
      "train accuracy is: 0.9591053246536472, test accuracy is 0.9667338709677419\n"
     ]
    },
    {
     "name": "stdout",
     "output_type": "stream",
     "text": [
      "Epoch 190 Loss 0.03882408334504225\n",
      "train accuracy is: 0.9595226172592222, test accuracy is 0.9672379032258065\n"
     ]
    },
    {
     "name": "stdout",
     "output_type": "stream",
     "text": [
      "Epoch 200 Loss 0.038359225814747946\n",
      "train accuracy is: 0.9597729928225672, test accuracy is 0.9672379032258065\n"
     ]
    },
    {
     "name": "stdout",
     "output_type": "stream",
     "text": [
      "Epoch 210 Loss 0.037927278676001756\n",
      "train accuracy is: 0.9602737439492572, test accuracy is 0.9672379032258065\n"
     ]
    },
    {
     "name": "stdout",
     "output_type": "stream",
     "text": [
      "Epoch 220 Loss 0.037524427708599484\n",
      "train accuracy is: 0.9604406609914873, test accuracy is 0.967741935483871\n"
     ]
    },
    {
     "name": "stdout",
     "output_type": "stream",
     "text": [
      "Epoch 230 Loss 0.03714774468841318\n",
      "train accuracy is: 0.9606075780337172, test accuracy is 0.9682459677419355\n"
     ]
    },
    {
     "name": "stdout",
     "output_type": "stream",
     "text": [
      "Epoch 240 Loss 0.036794399632138985\n",
      "train accuracy is: 0.9609414121181773, test accuracy is 0.9682459677419355\n"
     ]
    },
    {
     "data": {
      "text/plain": [
       "0.022912356191826848"
      ]
     },
     "execution_count": 23,
     "metadata": {},
     "output_type": "execute_result"
    }
   ],
   "source": [
    "learner2.train_loop(dl)"
   ]
  },
  {
   "cell_type": "markdown",
   "metadata": {
    "papermill": {
     "duration": 0.044828,
     "end_time": "2020-08-26T10:13:39.368934",
     "exception": false,
     "start_time": "2020-08-26T10:13:39.324106",
     "status": "completed"
    },
    "tags": []
   },
   "source": [
    "### Comparing results of NN and LR"
   ]
  },
  {
   "cell_type": "code",
   "execution_count": 24,
   "metadata": {
    "execution": {
     "iopub.execute_input": "2020-08-26T10:13:39.463475Z",
     "iopub.status.busy": "2020-08-26T10:13:39.462459Z",
     "iopub.status.idle": "2020-08-26T10:13:39.670957Z",
     "shell.execute_reply": "2020-08-26T10:13:39.670474Z"
    },
    "papermill": {
     "duration": 0.257434,
     "end_time": "2020-08-26T10:13:39.671084",
     "exception": false,
     "start_time": "2020-08-26T10:13:39.413650",
     "status": "completed"
    },
    "tags": []
   },
   "outputs": [
    {
     "data": {
      "text/plain": [
       "<matplotlib.legend.Legend at 0x7f51ae297240>"
      ]
     },
     "execution_count": 24,
     "metadata": {},
     "output_type": "execute_result"
    },
    {
     "data": {
      "image/png": "[encoded data removed]",
      "text/plain": [
       "<Figure size 576x360 with 1 Axes>"
      ]
     },
     "metadata": {
      "needs_background": "light"
     },
     "output_type": "display_data"
    }
   ],
   "source": [
    "plt.figure(figsize=(8,5))\n",
    "plt.plot(acc1.val_accuracies, 'g-', label = \"Val Accuracies - NN\")\n",
    "plt.plot(acc1.accuracies, 'r-', label = \"Accuracies - NN\")\n",
    "plt.plot(acc2.val_accuracies, 'b-', label = \"Val Accuracies - Logistic Reg\")\n",
    "plt.plot(acc2.accuracies, 'k-', label = \"Accuracies - Logistic Reg\")\n",
    "plt.ylim(0.8,1) ## for a more spread out view\n",
    "plt.legend()"
   ]
  },
  {
   "cell_type": "markdown",
   "metadata": {
    "papermill": {
     "duration": 0.046477,
     "end_time": "2020-08-26T10:13:39.763013",
     "exception": false,
     "start_time": "2020-08-26T10:13:39.716536",
     "status": "completed"
    },
    "tags": []
   },
   "source": [
    "### Clearly NN has a better accuracy over LR; NN is overfitting - Validation accuracy (green) has dropped below training accuracy (orange), also they are diverging. This problem is not seen in LR"
   ]
  },
  {
   "cell_type": "markdown",
   "metadata": {
    "papermill": {
     "duration": 0.044892,
     "end_time": "2020-08-26T10:13:39.852688",
     "exception": false,
     "start_time": "2020-08-26T10:13:39.807796",
     "status": "completed"
    },
    "tags": []
   },
   "source": [
    "##### Now we will be moving through the network, till the output of the second last affine where we get a 2 dimensional output. We will be plotting this 2d output and probability contours"
   ]
  },
  {
   "cell_type": "code",
   "execution_count": 25,
   "metadata": {
    "execution": {
     "iopub.execute_input": "2020-08-26T10:13:39.953096Z",
     "iopub.status.busy": "2020-08-26T10:13:39.952439Z",
     "iopub.status.idle": "2020-08-26T10:13:39.964630Z",
     "shell.execute_reply": "2020-08-26T10:13:39.964049Z"
    },
    "papermill": {
     "duration": 0.066292,
     "end_time": "2020-08-26T10:13:39.964758",
     "exception": false,
     "start_time": "2020-08-26T10:13:39.898466",
     "status": "completed"
    },
    "tags": []
   },
   "outputs": [],
   "source": [
    "model_new = Model(layers[:-2])"
   ]
  },
  {
   "cell_type": "code",
   "execution_count": 26,
   "metadata": {
    "execution": {
     "iopub.execute_input": "2020-08-26T10:13:40.063034Z",
     "iopub.status.busy": "2020-08-26T10:13:40.062262Z",
     "iopub.status.idle": "2020-08-26T10:13:40.082877Z",
     "shell.execute_reply": "2020-08-26T10:13:40.083372Z"
    },
    "papermill": {
     "duration": 0.073359,
     "end_time": "2020-08-26T10:13:40.083534",
     "exception": false,
     "start_time": "2020-08-26T10:13:40.010175",
     "status": "completed"
    },
    "tags": []
   },
   "outputs": [],
   "source": [
    "plot_testing = model_new(testing_xdata)"
   ]
  },
  {
   "cell_type": "markdown",
   "metadata": {
    "papermill": {
     "duration": 0.046359,
     "end_time": "2020-08-26T10:13:40.177281",
     "exception": false,
     "start_time": "2020-08-26T10:13:40.130922",
     "status": "completed"
    },
    "tags": []
   },
   "source": [
    "##### Plotting the scatter plot of points and color coding by class"
   ]
  },
  {
   "cell_type": "code",
   "execution_count": 27,
   "metadata": {
    "execution": {
     "iopub.execute_input": "2020-08-26T10:13:40.274339Z",
     "iopub.status.busy": "2020-08-26T10:13:40.273759Z",
     "iopub.status.idle": "2020-08-26T10:13:40.482776Z",
     "shell.execute_reply": "2020-08-26T10:13:40.482263Z"
    },
    "papermill": {
     "duration": 0.260293,
     "end_time": "2020-08-26T10:13:40.482919",
     "exception": false,
     "start_time": "2020-08-26T10:13:40.222626",
     "status": "completed"
    },
    "tags": []
   },
   "outputs": [
    {
     "data": {
      "image/png": "[encoded data removed]",
      "text/plain": [
       "<Figure size 576x504 with 1 Axes>"
      ]
     },
     "metadata": {
      "needs_background": "light"
     },
     "output_type": "display_data"
    }
   ],
   "source": [
    "plt.figure(figsize=(8,7))\n",
    "plt.scatter(plot_testing[:,0], plot_testing[:,1], alpha = 0.1, c = y_test.ravel());"
   ]
  },
  {
   "cell_type": "markdown",
   "metadata": {
    "papermill": {
     "duration": 0.049349,
     "end_time": "2020-08-26T10:13:40.605426",
     "exception": false,
     "start_time": "2020-08-26T10:13:40.556077",
     "status": "completed"
    },
    "tags": []
   },
   "source": [
    "##### Plotting probability contours"
   ]
  },
  {
   "cell_type": "code",
   "execution_count": 28,
   "metadata": {
    "execution": {
     "iopub.execute_input": "2020-08-26T10:13:40.710398Z",
     "iopub.status.busy": "2020-08-26T10:13:40.709805Z",
     "iopub.status.idle": "2020-08-26T10:13:40.723050Z",
     "shell.execute_reply": "2020-08-26T10:13:40.722521Z"
    },
    "papermill": {
     "duration": 0.068282,
     "end_time": "2020-08-26T10:13:40.723218",
     "exception": false,
     "start_time": "2020-08-26T10:13:40.654936",
     "status": "completed"
    },
    "tags": []
   },
   "outputs": [],
   "source": [
    "model_prob = Model(layers[-2:]) ## picking only last two layers to get probability. That is affine followed by sigmoid"
   ]
  },
  {
   "cell_type": "code",
   "execution_count": 29,
   "metadata": {
    "execution": {
     "iopub.execute_input": "2020-08-26T10:13:40.829755Z",
     "iopub.status.busy": "2020-08-26T10:13:40.829188Z",
     "iopub.status.idle": "2020-08-26T10:13:40.845285Z",
     "shell.execute_reply": "2020-08-26T10:13:40.845695Z"
    },
    "papermill": {
     "duration": 0.071458,
     "end_time": "2020-08-26T10:13:40.845843",
     "exception": false,
     "start_time": "2020-08-26T10:13:40.774385",
     "status": "completed"
    },
    "tags": []
   },
   "outputs": [],
   "source": [
    "xgrid = np.linspace(-4, 1, 100) ## Adjust these values based on above chart, roughly -4 to 1\n",
    "ygrid = np.linspace(-7.5, 7.5, 100) ## Adjust these values based on above chart, roughly -7.5, 7.5\n",
    "xg, yg = np.meshgrid(xgrid, ygrid)\n",
    "# xg and yg are now both 100X100, lets convert them to single arrays \n",
    "\n",
    "xg_interim = np.ravel(xg)\n",
    "yg_interim = np.ravel(yg)\n",
    "\n",
    "## xg_interim, yg_interim are now arrays of len 10000, now we will stack them and then transpose to get desired shape of n rows, 2 columns\n",
    "\n",
    "X_interim = np.vstack((xg_interim, yg_interim)) ## Please note vstack takes in a tuple\n",
    "X = X_interim.T\n",
    "\n",
    "## We want a shape of n rows and 2 columns to be able to feed this to last affine\n",
    "## This last affine takes only two columns, hence the above transformation\n",
    "probability_contour = model_prob(X).reshape(100,100) ## to make it consistent with xg, yg"
   ]
  },
  {
   "cell_type": "code",
   "execution_count": 30,
   "metadata": {
    "execution": {
     "iopub.execute_input": "2020-08-26T10:13:40.950227Z",
     "iopub.status.busy": "2020-08-26T10:13:40.949640Z",
     "iopub.status.idle": "2020-08-26T10:13:41.199509Z",
     "shell.execute_reply": "2020-08-26T10:13:41.199947Z"
    },
    "papermill": {
     "duration": 0.305149,
     "end_time": "2020-08-26T10:13:41.200092",
     "exception": false,
     "start_time": "2020-08-26T10:13:40.894943",
     "status": "completed"
    },
    "tags": []
   },
   "outputs": [
    {
     "data": {
      "image/png": "[encoded data removed]",
      "text/plain": [
       "<Figure size 576x504 with 1 Axes>"
      ]
     },
     "metadata": {
      "needs_background": "light"
     },
     "output_type": "display_data"
    }
   ],
   "source": [
    "plt.figure(figsize=(8,7))\n",
    "plt.scatter(plot_testing[:,0], plot_testing[:,1], alpha = 0.1, c = y_test.ravel())\n",
    "contours = plt.contour(xg,yg,probability_contour)\n",
    "plt.clabel(contours, inline = True );"
   ]
  }
 ],
 "metadata": {
  "kernelspec": {
   "display_name": "Python 3",
   "language": "python",
   "name": "python3"
  },
  "language_info": {
   "codemirror_mode": {
    "name": "ipython",
    "version": 3
   },
   "file_extension": ".py",
   "mimetype": "text/x-python",
   "name": "python",
   "nbconvert_exporter": "python",
   "pygments_lexer": "ipython3",
   "version": "3.6.11"
  },
  "papermill": {
   "duration": 107.978282,
   "end_time": "2020-08-26T10:13:41.661382",
   "environment_variables": {},
   "exception": null,
   "input_path": "2020-08-07-NN-new.ipynb",
   "output_path": "2020-08-07-NN-new.ipynb",
   "parameters": {},
   "start_time": "2020-08-26T10:11:53.683100",
   "version": "2.1.2"
  }
 },
 "nbformat": 4,
 "nbformat_minor": 4
}