{
 "cells": [
  {
   "cell_type": "markdown",
   "metadata": {
    "papermill": {
     "duration": 0.150313,
     "end_time": "2020-08-15T20:13:02.975168",
     "exception": false,
     "start_time": "2020-08-15T20:13:02.824855",
     "status": "completed"
    },
    "tags": []
   },
   "source": [
    "# \"Building a basic Neural Network from scratch - Kudzu\"\n",
    "\n",
    "- badges: true\n",
    "- author: Anshuman Gupta"
   ]
  },
  {
   "cell_type": "markdown",
   "metadata": {
    "papermill": {
     "duration": 0.020831,
     "end_time": "2020-08-15T20:13:03.019686",
     "exception": false,
     "start_time": "2020-08-15T20:13:02.998855",
     "status": "completed"
    },
    "tags": []
   },
   "source": [
    "#### In this project, the idea is to write a classifier to differentiate between handwritten digits 3 and 8, from the MNIST database.\n",
    "\n",
    "#### I will using a custom built neural network library called Kudzu.This has been developed as a part of KTF/Foundations course of Univ.ai (www.univ.ai). The source code for Kudzu Library and and this notebook can be found on my git-hub profile : www.https://github.com/anshuman6 under the folder project-solution. Any feedback and comments are welcome. Please feel free to email me at: anshuman6@gmail.com\n",
    "\n",
    "#### 1. I will be using the MNIST database. \n",
    "\n",
    "#### 2. I will be comparing the results of the 4 layer NN to a standard logistic regression"
   ]
  },
  {
   "cell_type": "markdown",
   "metadata": {
    "papermill": {
     "duration": 0.022797,
     "end_time": "2020-08-15T20:13:03.063904",
     "exception": false,
     "start_time": "2020-08-15T20:13:03.041107",
     "status": "completed"
    },
    "tags": []
   },
   "source": [
    "##### Importing all the necessary libraries"
   ]
  },
  {
   "cell_type": "code",
   "execution_count": 1,
   "metadata": {
    "execution": {
     "iopub.execute_input": "2020-08-15T20:13:03.113240Z",
     "iopub.status.busy": "2020-08-15T20:13:03.112818Z",
     "iopub.status.idle": "2020-08-15T20:13:03.121635Z",
     "shell.execute_reply": "2020-08-15T20:13:03.122165Z"
    },
    "papermill": {
     "duration": 0.03666,
     "end_time": "2020-08-15T20:13:03.122308",
     "exception": false,
     "start_time": "2020-08-15T20:13:03.085648",
     "status": "completed"
    },
    "tags": []
   },
   "outputs": [],
   "source": [
    "%load_ext autoreload\n",
    "%autoreload 2"
   ]
  },
  {
   "cell_type": "code",
   "execution_count": 2,
   "metadata": {
    "execution": {
     "iopub.execute_input": "2020-08-15T20:13:03.178161Z",
     "iopub.status.busy": "2020-08-15T20:13:03.177147Z",
     "iopub.status.idle": "2020-08-15T20:13:03.659157Z",
     "shell.execute_reply": "2020-08-15T20:13:03.658061Z"
    },
    "papermill": {
     "duration": 0.511177,
     "end_time": "2020-08-15T20:13:03.659305",
     "exception": false,
     "start_time": "2020-08-15T20:13:03.148128",
     "status": "completed"
    },
    "tags": []
   },
   "outputs": [],
   "source": [
    "%matplotlib inline\n",
    "import numpy as np\n",
    "import matplotlib.pyplot as plt\n",
    "import pandas as pd"
   ]
  },
  {
   "cell_type": "markdown",
   "metadata": {
    "papermill": {
     "duration": 0.188831,
     "end_time": "2020-08-15T20:13:03.878846",
     "exception": false,
     "start_time": "2020-08-15T20:13:03.690015",
     "status": "completed"
    },
    "tags": []
   },
   "source": [
    "##### The following command helps us download MNIST from notebook itself. You can skip this if you already have MNIST. You can also download it via your terminal."
   ]
  },
  {
   "cell_type": "code",
   "execution_count": 3,
   "metadata": {
    "execution": {
     "iopub.execute_input": "2020-08-15T20:13:04.286869Z",
     "iopub.status.busy": "2020-08-15T20:13:04.286323Z",
     "iopub.status.idle": "2020-08-15T20:13:05.560534Z",
     "shell.execute_reply": "2020-08-15T20:13:05.559635Z"
    },
    "papermill": {
     "duration": 1.36044,
     "end_time": "2020-08-15T20:13:05.560654",
     "exception": false,
     "start_time": "2020-08-15T20:13:04.200214",
     "status": "completed"
    },
    "tags": []
   },
   "outputs": [
    {
     "name": "stdout",
     "output_type": "stream",
     "text": [
      "Collecting mnist\r\n"
     ]
    },
    {
     "name": "stdout",
     "output_type": "stream",
     "text": [
      "  Downloading mnist-0.2.2-py2.py3-none-any.whl (3.5 kB)\r\n"
     ]
    },
    {
     "name": "stdout",
     "output_type": "stream",
     "text": [
      "Requirement already satisfied: numpy in /opt/hostedtoolcache/Python/3.6.11/x64/lib/python3.6/site-packages (from mnist) (1.19.1)\r\n"
     ]
    },
    {
     "name": "stdout",
     "output_type": "stream",
     "text": [
      "Installing collected packages: mnist\r\n",
      "Successfully installed mnist-0.2.2\r\n"
     ]
    },
    {
     "name": "stdout",
     "output_type": "stream",
     "text": [
      "\u001b[33mWARNING: You are using pip version 20.2.1; however, version 20.2.2 is available.\r\n",
      "You should consider upgrading via the '/opt/hostedtoolcache/Python/3.6.11/x64/bin/python -m pip install --upgrade pip' command.\u001b[0m\r\n"
     ]
    }
   ],
   "source": [
    "!pip install mnist # Please note, it is commented out for now, you can remove comment if you want to install it"
   ]
  },
  {
   "cell_type": "markdown",
   "metadata": {
    "papermill": {
     "duration": 0.021384,
     "end_time": "2020-08-15T20:13:05.603778",
     "exception": false,
     "start_time": "2020-08-15T20:13:05.582394",
     "status": "completed"
    },
    "tags": []
   },
   "source": [
    "#### Preparing the Data"
   ]
  },
  {
   "cell_type": "code",
   "execution_count": 4,
   "metadata": {
    "execution": {
     "iopub.execute_input": "2020-08-15T20:13:05.658057Z",
     "iopub.status.busy": "2020-08-15T20:13:05.656647Z",
     "iopub.status.idle": "2020-08-15T20:13:05.669665Z",
     "shell.execute_reply": "2020-08-15T20:13:05.670204Z"
    },
    "papermill": {
     "duration": 0.044134,
     "end_time": "2020-08-15T20:13:05.670367",
     "exception": false,
     "start_time": "2020-08-15T20:13:05.626233",
     "status": "completed"
    },
    "tags": []
   },
   "outputs": [],
   "source": [
    "import mnist"
   ]
  },
  {
   "cell_type": "code",
   "execution_count": 5,
   "metadata": {
    "execution": {
     "iopub.execute_input": "2020-08-15T20:13:05.728529Z",
     "iopub.status.busy": "2020-08-15T20:13:05.720892Z",
     "iopub.status.idle": "2020-08-15T20:13:06.453894Z",
     "shell.execute_reply": "2020-08-15T20:13:06.453365Z"
    },
    "papermill": {
     "duration": 0.758749,
     "end_time": "2020-08-15T20:13:06.454021",
     "exception": false,
     "start_time": "2020-08-15T20:13:05.695272",
     "status": "completed"
    },
    "tags": []
   },
   "outputs": [],
   "source": [
    "train_images = mnist.train_images()\n",
    "train_labels = mnist.train_labels()"
   ]
  },
  {
   "cell_type": "code",
   "execution_count": 6,
   "metadata": {
    "execution": {
     "iopub.execute_input": "2020-08-15T20:13:06.500869Z",
     "iopub.status.busy": "2020-08-15T20:13:06.499783Z",
     "iopub.status.idle": "2020-08-15T20:13:06.511187Z",
     "shell.execute_reply": "2020-08-15T20:13:06.511608Z"
    },
    "papermill": {
     "duration": 0.036261,
     "end_time": "2020-08-15T20:13:06.511735",
     "exception": false,
     "start_time": "2020-08-15T20:13:06.475474",
     "status": "completed"
    },
    "tags": []
   },
   "outputs": [
    {
     "data": {
      "text/plain": [
       "((60000, 28, 28), (60000,))"
      ]
     },
     "execution_count": 6,
     "metadata": {},
     "output_type": "execute_result"
    }
   ],
   "source": [
    "train_images.shape, train_labels.shape"
   ]
  },
  {
   "cell_type": "code",
   "execution_count": 7,
   "metadata": {
    "execution": {
     "iopub.execute_input": "2020-08-15T20:13:06.560887Z",
     "iopub.status.busy": "2020-08-15T20:13:06.560486Z",
     "iopub.status.idle": "2020-08-15T20:13:06.825948Z",
     "shell.execute_reply": "2020-08-15T20:13:06.825313Z"
    },
    "papermill": {
     "duration": 0.290754,
     "end_time": "2020-08-15T20:13:06.826104",
     "exception": false,
     "start_time": "2020-08-15T20:13:06.535350",
     "status": "completed"
    },
    "tags": []
   },
   "outputs": [],
   "source": [
    "test_images = mnist.test_images()\n",
    "test_labels = mnist.test_labels()"
   ]
  },
  {
   "cell_type": "code",
   "execution_count": 8,
   "metadata": {
    "execution": {
     "iopub.execute_input": "2020-08-15T20:13:06.874359Z",
     "iopub.status.busy": "2020-08-15T20:13:06.873784Z",
     "iopub.status.idle": "2020-08-15T20:13:06.889093Z",
     "shell.execute_reply": "2020-08-15T20:13:06.888716Z"
    },
    "papermill": {
     "duration": 0.039993,
     "end_time": "2020-08-15T20:13:06.889191",
     "exception": false,
     "start_time": "2020-08-15T20:13:06.849198",
     "status": "completed"
    },
    "tags": []
   },
   "outputs": [
    {
     "data": {
      "text/plain": [
       "((10000, 28, 28), (10000,))"
      ]
     },
     "execution_count": 8,
     "metadata": {},
     "output_type": "execute_result"
    }
   ],
   "source": [
    "test_images.shape, test_labels.shape"
   ]
  },
  {
   "cell_type": "code",
   "execution_count": 9,
   "metadata": {
    "execution": {
     "iopub.execute_input": "2020-08-15T20:13:06.935970Z",
     "iopub.status.busy": "2020-08-15T20:13:06.935547Z",
     "iopub.status.idle": "2020-08-15T20:13:07.065940Z",
     "shell.execute_reply": "2020-08-15T20:13:07.065402Z"
    },
    "papermill": {
     "duration": 0.155045,
     "end_time": "2020-08-15T20:13:07.066082",
     "exception": false,
     "start_time": "2020-08-15T20:13:06.911037",
     "status": "completed"
    },
    "tags": []
   },
   "outputs": [
    {
     "name": "stdout",
     "output_type": "stream",
     "text": [
      "2\n"
     ]
    },
    {
     "data": {
      "text/plain": [
       "<matplotlib.image.AxesImage at 0x7f417ed562e8>"
      ]
     },
     "execution_count": 9,
     "metadata": {},
     "output_type": "execute_result"
    },
    {
     "data": {
      "image/png": "[encoded data removed]",
      "text/plain": [
       "<Figure size 432x288 with 1 Axes>"
      ]
     },
     "metadata": {
      "needs_background": "light"
     },
     "output_type": "display_data"
    }
   ],
   "source": [
    "image_index = 7776 # You may select anything up to 60,000\n",
    "print(train_labels[image_index]) \n",
    "plt.imshow(train_images[image_index], cmap='Greys')"
   ]
  },
  {
   "cell_type": "markdown",
   "metadata": {
    "papermill": {
     "duration": 0.023953,
     "end_time": "2020-08-15T20:13:07.115238",
     "exception": false,
     "start_time": "2020-08-15T20:13:07.091285",
     "status": "completed"
    },
    "tags": []
   },
   "source": [
    "## Filter data to get 3 and 8 out"
   ]
  },
  {
   "cell_type": "code",
   "execution_count": 10,
   "metadata": {
    "execution": {
     "iopub.execute_input": "2020-08-15T20:13:07.164457Z",
     "iopub.status.busy": "2020-08-15T20:13:07.164035Z",
     "iopub.status.idle": "2020-08-15T20:13:07.181336Z",
     "shell.execute_reply": "2020-08-15T20:13:07.180843Z"
    },
    "papermill": {
     "duration": 0.043684,
     "end_time": "2020-08-15T20:13:07.181454",
     "exception": false,
     "start_time": "2020-08-15T20:13:07.137770",
     "status": "completed"
    },
    "tags": []
   },
   "outputs": [],
   "source": [
    "train_filter = np.where((train_labels == 3 ) | (train_labels == 8))\n",
    "test_filter = np.where((test_labels == 3) | (test_labels == 8))\n",
    "X_train, y_train = train_images[train_filter], train_labels[train_filter]\n",
    "X_test, y_test = test_images[test_filter], test_labels[test_filter]"
   ]
  },
  {
   "cell_type": "markdown",
   "metadata": {
    "papermill": {
     "duration": 0.022464,
     "end_time": "2020-08-15T20:13:07.232520",
     "exception": false,
     "start_time": "2020-08-15T20:13:07.210056",
     "status": "completed"
    },
    "tags": []
   },
   "source": [
    "##### We normalize the pizel values in the 0 to 1 range"
   ]
  },
  {
   "cell_type": "code",
   "execution_count": 11,
   "metadata": {
    "execution": {
     "iopub.execute_input": "2020-08-15T20:13:07.281927Z",
     "iopub.status.busy": "2020-08-15T20:13:07.281418Z",
     "iopub.status.idle": "2020-08-15T20:13:07.331075Z",
     "shell.execute_reply": "2020-08-15T20:13:07.330147Z"
    },
    "papermill": {
     "duration": 0.075197,
     "end_time": "2020-08-15T20:13:07.331291",
     "exception": false,
     "start_time": "2020-08-15T20:13:07.256094",
     "status": "completed"
    },
    "tags": []
   },
   "outputs": [],
   "source": [
    "X_train = X_train/255.\n",
    "X_test = X_test/255."
   ]
  },
  {
   "cell_type": "markdown",
   "metadata": {
    "papermill": {
     "duration": 0.0231,
     "end_time": "2020-08-15T20:13:07.379513",
     "exception": false,
     "start_time": "2020-08-15T20:13:07.356413",
     "status": "completed"
    },
    "tags": []
   },
   "source": [
    "And setup the labels as 1 (when the digit is 3) and 0 (when the digit is 8)"
   ]
  },
  {
   "cell_type": "code",
   "execution_count": 12,
   "metadata": {
    "execution": {
     "iopub.execute_input": "2020-08-15T20:13:07.428055Z",
     "iopub.status.busy": "2020-08-15T20:13:07.427619Z",
     "iopub.status.idle": "2020-08-15T20:13:07.438349Z",
     "shell.execute_reply": "2020-08-15T20:13:07.437947Z"
    },
    "papermill": {
     "duration": 0.036876,
     "end_time": "2020-08-15T20:13:07.438441",
     "exception": false,
     "start_time": "2020-08-15T20:13:07.401565",
     "status": "completed"
    },
    "tags": []
   },
   "outputs": [],
   "source": [
    "y_train = 1*(y_train==3)\n",
    "y_test = 1*(y_test==3)"
   ]
  },
  {
   "cell_type": "code",
   "execution_count": 13,
   "metadata": {
    "execution": {
     "iopub.execute_input": "2020-08-15T20:13:07.488116Z",
     "iopub.status.busy": "2020-08-15T20:13:07.487678Z",
     "iopub.status.idle": "2020-08-15T20:13:07.498146Z",
     "shell.execute_reply": "2020-08-15T20:13:07.498473Z"
    },
    "papermill": {
     "duration": 0.037349,
     "end_time": "2020-08-15T20:13:07.498567",
     "exception": false,
     "start_time": "2020-08-15T20:13:07.461218",
     "status": "completed"
    },
    "tags": []
   },
   "outputs": [
    {
     "data": {
      "text/plain": [
       "((11982, 28, 28), (1984, 28, 28))"
      ]
     },
     "execution_count": 13,
     "metadata": {},
     "output_type": "execute_result"
    }
   ],
   "source": [
    "X_train.shape, X_test.shape"
   ]
  },
  {
   "cell_type": "markdown",
   "metadata": {
    "papermill": {
     "duration": 0.022789,
     "end_time": "2020-08-15T20:13:07.544503",
     "exception": false,
     "start_time": "2020-08-15T20:13:07.521714",
     "status": "completed"
    },
    "tags": []
   },
   "source": [
    "##### We reshape the data to flatten the image pixels into a set of features or co-variates:"
   ]
  },
  {
   "cell_type": "code",
   "execution_count": 14,
   "metadata": {
    "execution": {
     "iopub.execute_input": "2020-08-15T20:13:07.596589Z",
     "iopub.status.busy": "2020-08-15T20:13:07.596182Z",
     "iopub.status.idle": "2020-08-15T20:13:07.607909Z",
     "shell.execute_reply": "2020-08-15T20:13:07.608265Z"
    },
    "papermill": {
     "duration": 0.039125,
     "end_time": "2020-08-15T20:13:07.608357",
     "exception": false,
     "start_time": "2020-08-15T20:13:07.569232",
     "status": "completed"
    },
    "tags": []
   },
   "outputs": [
    {
     "data": {
      "text/plain": [
       "((11982, 784), (1984, 784))"
      ]
     },
     "execution_count": 14,
     "metadata": {},
     "output_type": "execute_result"
    }
   ],
   "source": [
    "X_train = X_train.reshape(X_train.shape[0], -1)\n",
    "X_test = X_test.reshape(X_test.shape[0], -1)\n",
    "X_train.shape, X_test.shape"
   ]
  },
  {
   "cell_type": "markdown",
   "metadata": {
    "papermill": {
     "duration": 0.022897,
     "end_time": "2020-08-15T20:13:07.653743",
     "exception": false,
     "start_time": "2020-08-15T20:13:07.630846",
     "status": "completed"
    },
    "tags": []
   },
   "source": [
    "##### Importing Kudzu library and its functionality"
   ]
  },
  {
   "cell_type": "code",
   "execution_count": 15,
   "metadata": {
    "execution": {
     "iopub.execute_input": "2020-08-15T20:13:07.711558Z",
     "iopub.status.busy": "2020-08-15T20:13:07.710976Z",
     "iopub.status.idle": "2020-08-15T20:13:07.726588Z",
     "shell.execute_reply": "2020-08-15T20:13:07.726238Z"
    },
    "papermill": {
     "duration": 0.047509,
     "end_time": "2020-08-15T20:13:07.726671",
     "exception": false,
     "start_time": "2020-08-15T20:13:07.679162",
     "status": "completed"
    },
    "tags": []
   },
   "outputs": [],
   "source": [
    "from kudzu.data import Data, Dataloader, Sampler\n",
    "from kudzu.callbacks import AccCallback\n",
    "from kudzu.loss import MSE\n",
    "from kudzu.layer import Affine, Sigmoid\n",
    "from kudzu.model import Model\n",
    "from kudzu.optim import GD\n",
    "from kudzu.train import Learner\n",
    "from kudzu.callbacks import ClfCallback\n",
    "from kudzu.layer import Sigmoid\n",
    "from kudzu.layer import Relu"
   ]
  },
  {
   "cell_type": "markdown",
   "metadata": {
    "papermill": {
     "duration": 0.025244,
     "end_time": "2020-08-15T20:13:07.774234",
     "exception": false,
     "start_time": "2020-08-15T20:13:07.748990",
     "status": "completed"
    },
    "tags": []
   },
   "source": [
    "##### We are creating a class, just so that we can use it to store our parameters for us"
   ]
  },
  {
   "cell_type": "code",
   "execution_count": 16,
   "metadata": {
    "execution": {
     "iopub.execute_input": "2020-08-15T20:13:07.831945Z",
     "iopub.status.busy": "2020-08-15T20:13:07.831523Z",
     "iopub.status.idle": "2020-08-15T20:13:07.841814Z",
     "shell.execute_reply": "2020-08-15T20:13:07.841414Z"
    },
    "papermill": {
     "duration": 0.039546,
     "end_time": "2020-08-15T20:13:07.841897",
     "exception": false,
     "start_time": "2020-08-15T20:13:07.802351",
     "status": "completed"
    },
    "tags": []
   },
   "outputs": [],
   "source": [
    "class Config:\n",
    "    pass\n",
    "config = Config()\n",
    "config.lr = 0.001\n",
    "config.num_epochs = 250\n",
    "config.bs = 50"
   ]
  },
  {
   "cell_type": "markdown",
   "metadata": {
    "papermill": {
     "duration": 0.024046,
     "end_time": "2020-08-15T20:13:07.888513",
     "exception": false,
     "start_time": "2020-08-15T20:13:07.864467",
     "status": "completed"
    },
    "tags": []
   },
   "source": [
    "##### Initializing Data"
   ]
  },
  {
   "cell_type": "code",
   "execution_count": 17,
   "metadata": {
    "execution": {
     "iopub.execute_input": "2020-08-15T20:13:07.942980Z",
     "iopub.status.busy": "2020-08-15T20:13:07.942573Z",
     "iopub.status.idle": "2020-08-15T20:13:07.951296Z",
     "shell.execute_reply": "2020-08-15T20:13:07.951723Z"
    },
    "papermill": {
     "duration": 0.03742,
     "end_time": "2020-08-15T20:13:07.951815",
     "exception": false,
     "start_time": "2020-08-15T20:13:07.914395",
     "status": "completed"
    },
    "tags": []
   },
   "outputs": [],
   "source": [
    "data = Data(X_train, y_train.reshape(-1,1))\n",
    "loss = MSE()\n",
    "opt = GD(config.lr)\n",
    "sampler = Sampler(data, config.bs, shuffle=True)\n",
    "dl = Dataloader(data, sampler)"
   ]
  },
  {
   "cell_type": "markdown",
   "metadata": {
    "papermill": {
     "duration": 0.02573,
     "end_time": "2020-08-15T20:13:08.002272",
     "exception": false,
     "start_time": "2020-08-15T20:13:07.976542",
     "status": "completed"
    },
    "tags": []
   },
   "source": [
    "##### Constructing 2 different layers, one for NN and one only for logistic regression."
   ]
  },
  {
   "cell_type": "markdown",
   "metadata": {
    "papermill": {
     "duration": 0.031631,
     "end_time": "2020-08-15T20:13:08.061760",
     "exception": false,
     "start_time": "2020-08-15T20:13:08.030129",
     "status": "completed"
    },
    "tags": []
   },
   "source": [
    "##### Creating containers for data to be passed, to calculate accuracies"
   ]
  },
  {
   "cell_type": "code",
   "execution_count": 18,
   "metadata": {
    "execution": {
     "iopub.execute_input": "2020-08-15T20:13:08.122006Z",
     "iopub.status.busy": "2020-08-15T20:13:08.121446Z",
     "iopub.status.idle": "2020-08-15T20:13:08.134678Z",
     "shell.execute_reply": "2020-08-15T20:13:08.134178Z"
    },
    "papermill": {
     "duration": 0.043567,
     "end_time": "2020-08-15T20:13:08.134800",
     "exception": false,
     "start_time": "2020-08-15T20:13:08.091233",
     "status": "completed"
    },
    "tags": []
   },
   "outputs": [],
   "source": [
    "training_xdata = X_train\n",
    "testing_xdata = X_test\n",
    "training_ydata = y_train.reshape(-1,1)\n",
    "testing_ydata = y_test.reshape(-1,1)"
   ]
  },
  {
   "cell_type": "markdown",
   "metadata": {
    "papermill": {
     "duration": 0.029789,
     "end_time": "2020-08-15T20:13:08.193908",
     "exception": false,
     "start_time": "2020-08-15T20:13:08.164119",
     "status": "completed"
    },
    "tags": []
   },
   "source": [
    "##### Initializing models and Running training loop: "
   ]
  },
  {
   "cell_type": "code",
   "execution_count": 19,
   "metadata": {
    "execution": {
     "iopub.execute_input": "2020-08-15T20:13:08.258529Z",
     "iopub.status.busy": "2020-08-15T20:13:08.258111Z",
     "iopub.status.idle": "2020-08-15T20:13:08.277211Z",
     "shell.execute_reply": "2020-08-15T20:13:08.276751Z"
    },
    "papermill": {
     "duration": 0.053064,
     "end_time": "2020-08-15T20:13:08.277321",
     "exception": false,
     "start_time": "2020-08-15T20:13:08.224257",
     "status": "completed"
    },
    "tags": []
   },
   "outputs": [],
   "source": [
    "layers = [Affine(\"first\", 784, 100), Relu(\"first\"), Affine(\"second\", 100, 100), Relu(\"second\"), Affine(\"third\", 100, 2), Affine(\"final\", 2, 1), Sigmoid(\"final\")]\n",
    "\n",
    "model_neural = Model(layers)\n",
    "model_logistic = Model([Affine(\"logits\", 784, 1), Sigmoid(\"sigmoid\")])"
   ]
  },
  {
   "cell_type": "code",
   "execution_count": 20,
   "metadata": {
    "execution": {
     "iopub.execute_input": "2020-08-15T20:13:08.343380Z",
     "iopub.status.busy": "2020-08-15T20:13:08.342690Z",
     "iopub.status.idle": "2020-08-15T20:13:08.355577Z",
     "shell.execute_reply": "2020-08-15T20:13:08.356076Z"
    },
    "papermill": {
     "duration": 0.052273,
     "end_time": "2020-08-15T20:13:08.356213",
     "exception": false,
     "start_time": "2020-08-15T20:13:08.303940",
     "status": "completed"
    },
    "tags": []
   },
   "outputs": [],
   "source": [
    "learner1 = Learner(loss, model_neural, opt, config.num_epochs)\n",
    "acc1 = ClfCallback(learner1, config.bs, training_xdata , testing_xdata, training_ydata, testing_ydata)\n",
    "learner1.set_callbacks([acc1])"
   ]
  },
  {
   "cell_type": "code",
   "execution_count": 21,
   "metadata": {
    "execution": {
     "iopub.execute_input": "2020-08-15T20:13:08.411635Z",
     "iopub.status.busy": "2020-08-15T20:13:08.411229Z",
     "iopub.status.idle": "2020-08-15T20:14:22.937821Z",
     "shell.execute_reply": "2020-08-15T20:14:22.938571Z"
    },
    "papermill": {
     "duration": 74.555162,
     "end_time": "2020-08-15T20:14:22.938725",
     "exception": false,
     "start_time": "2020-08-15T20:13:08.383563",
     "status": "completed"
    },
    "tags": []
   },
   "outputs": [
    {
     "name": "stdout",
     "output_type": "stream",
     "text": [
      "Epoch 0 Loss 0.25420905039209396\n",
      "train accuracy is: 0.6591553997663161, test accuracy is 0.688508064516129\n"
     ]
    },
    {
     "name": "stdout",
     "output_type": "stream",
     "text": [
      "Epoch 10 Loss 0.0738012858609798\n",
      "train accuracy is: 0.9254715406442998, test accuracy is 0.9349798387096774\n"
     ]
    },
    {
     "name": "stdout",
     "output_type": "stream",
     "text": [
      "Epoch 20 Loss 0.048632970970084156\n",
      "train accuracy is: 0.9492572191620764, test accuracy is 0.9581653225806451\n"
     ]
    },
    {
     "name": "stdout",
     "output_type": "stream",
     "text": [
      "Epoch 30 Loss 0.03973482275812541\n",
      "train accuracy is: 0.957018861625772, test accuracy is 0.9652217741935484\n"
     ]
    },
    {
     "name": "stdout",
     "output_type": "stream",
     "text": [
      "Epoch 40 Loss 0.03515496819815886\n",
      "train accuracy is: 0.9608579535970623, test accuracy is 0.967741935483871\n"
     ]
    },
    {
     "name": "stdout",
     "output_type": "stream",
     "text": [
      "Epoch 50 Loss 0.03226279366487699\n",
      "train accuracy is: 0.9641128359205475, test accuracy is 0.96875\n"
     ]
    },
    {
     "name": "stdout",
     "output_type": "stream",
     "text": [
      "Epoch 60 Loss 0.030199656119499808\n",
      "train accuracy is: 0.9660323819061927, test accuracy is 0.9692540322580645\n"
     ]
    },
    {
     "name": "stdout",
     "output_type": "stream",
     "text": [
      "Epoch 70 Loss 0.02861709380376367\n",
      "train accuracy is: 0.9676180938073777, test accuracy is 0.969758064516129\n"
     ]
    },
    {
     "name": "stdout",
     "output_type": "stream",
     "text": [
      "Epoch 80 Loss 0.027358056582024132\n",
      "train accuracy is: 0.9684526790185278, test accuracy is 0.969758064516129\n"
     ]
    },
    {
     "name": "stdout",
     "output_type": "stream",
     "text": [
      "Epoch 90 Loss 0.026304028343518516\n",
      "train accuracy is: 0.9702053079619429, test accuracy is 0.9707661290322581\n"
     ]
    },
    {
     "name": "stdout",
     "output_type": "stream",
     "text": [
      "Epoch 100 Loss 0.02539299347315701\n",
      "train accuracy is: 0.9707060590886329, test accuracy is 0.9707661290322581\n"
     ]
    },
    {
     "name": "stdout",
     "output_type": "stream",
     "text": [
      "Epoch 110 Loss 0.024613827716050782\n",
      "train accuracy is: 0.971540644299783, test accuracy is 0.9707661290322581\n"
     ]
    },
    {
     "name": "stdout",
     "output_type": "stream",
     "text": [
      "Epoch 120 Loss 0.023917592556871557\n",
      "train accuracy is: 0.9731263562009681, test accuracy is 0.9717741935483871\n"
     ]
    },
    {
     "name": "stdout",
     "output_type": "stream",
     "text": [
      "Epoch 130 Loss 0.023295773430824\n",
      "train accuracy is: 0.9735436488065431, test accuracy is 0.9717741935483871\n"
     ]
    },
    {
     "name": "stdout",
     "output_type": "stream",
     "text": [
      "Epoch 140 Loss 0.022724174413037503\n",
      "train accuracy is: 0.9741278584543482, test accuracy is 0.9717741935483871\n"
     ]
    },
    {
     "name": "stdout",
     "output_type": "stream",
     "text": [
      "Epoch 150 Loss 0.02220136840900505\n",
      "train accuracy is: 0.9751293607077283, test accuracy is 0.9727822580645161\n"
     ]
    },
    {
     "name": "stdout",
     "output_type": "stream",
     "text": [
      "Epoch 160 Loss 0.021709140704518078\n",
      "train accuracy is: 0.9758804873977633, test accuracy is 0.9732862903225806\n"
     ]
    },
    {
     "name": "stdout",
     "output_type": "stream",
     "text": [
      "Epoch 170 Loss 0.021247742137326452\n",
      "train accuracy is: 0.9767150726089133, test accuracy is 0.9727822580645161\n"
     ]
    },
    {
     "name": "stdout",
     "output_type": "stream",
     "text": [
      "Epoch 180 Loss 0.0208098905311136\n",
      "train accuracy is: 0.9774661992989484, test accuracy is 0.9727822580645161\n"
     ]
    },
    {
     "name": "stdout",
     "output_type": "stream",
     "text": [
      "Epoch 190 Loss 0.020402174787960126\n",
      "train accuracy is: 0.9780504089467534, test accuracy is 0.9722782258064516\n"
     ]
    },
    {
     "name": "stdout",
     "output_type": "stream",
     "text": [
      "Epoch 200 Loss 0.02000035599686516\n",
      "train accuracy is: 0.9785511600734434, test accuracy is 0.9727822580645161\n"
     ]
    },
    {
     "name": "stdout",
     "output_type": "stream",
     "text": [
      "Epoch 210 Loss 0.019631094335049046\n",
      "train accuracy is: 0.9788015356367885, test accuracy is 0.9727822580645161\n"
     ]
    },
    {
     "name": "stdout",
     "output_type": "stream",
     "text": [
      "Epoch 220 Loss 0.019264065988959998\n",
      "train accuracy is: 0.9789684526790186, test accuracy is 0.9727822580645161\n"
     ]
    },
    {
     "name": "stdout",
     "output_type": "stream",
     "text": [
      "Epoch 230 Loss 0.01891173785286615\n",
      "train accuracy is: 0.9792188282423635, test accuracy is 0.9742943548387096\n"
     ]
    },
    {
     "name": "stdout",
     "output_type": "stream",
     "text": [
      "Epoch 240 Loss 0.018569636713084436\n",
      "train accuracy is: 0.9797195793690536, test accuracy is 0.9742943548387096\n"
     ]
    },
    {
     "data": {
      "text/plain": [
       "0.03473590297387111"
      ]
     },
     "execution_count": 21,
     "metadata": {},
     "output_type": "execute_result"
    }
   ],
   "source": [
    "learner1.train_loop(dl)"
   ]
  },
  {
   "cell_type": "markdown",
   "metadata": {
    "papermill": {
     "duration": 0.031973,
     "end_time": "2020-08-15T20:14:23.001577",
     "exception": false,
     "start_time": "2020-08-15T20:14:22.969604",
     "status": "completed"
    },
    "tags": []
   },
   "source": [
    "##### Now running only the logistic regression based classification to compare results with NN"
   ]
  },
  {
   "cell_type": "code",
   "execution_count": 22,
   "metadata": {
    "execution": {
     "iopub.execute_input": "2020-08-15T20:14:23.069460Z",
     "iopub.status.busy": "2020-08-15T20:14:23.068850Z",
     "iopub.status.idle": "2020-08-15T20:14:23.082279Z",
     "shell.execute_reply": "2020-08-15T20:14:23.081837Z"
    },
    "papermill": {
     "duration": 0.050267,
     "end_time": "2020-08-15T20:14:23.082382",
     "exception": false,
     "start_time": "2020-08-15T20:14:23.032115",
     "status": "completed"
    },
    "tags": []
   },
   "outputs": [],
   "source": [
    "learner2 = Learner(loss, model_logistic, opt, config.num_epochs)\n",
    "acc2 = ClfCallback(learner2, config.bs, training_xdata , testing_xdata, training_ydata, testing_ydata)\n",
    "learner2.set_callbacks([acc2])"
   ]
  },
  {
   "cell_type": "code",
   "execution_count": 23,
   "metadata": {
    "execution": {
     "iopub.execute_input": "2020-08-15T20:14:23.151404Z",
     "iopub.status.busy": "2020-08-15T20:14:23.150952Z",
     "iopub.status.idle": "2020-08-15T20:14:37.133237Z",
     "shell.execute_reply": "2020-08-15T20:14:37.133887Z"
    },
    "papermill": {
     "duration": 14.016616,
     "end_time": "2020-08-15T20:14:37.134059",
     "exception": false,
     "start_time": "2020-08-15T20:14:23.117443",
     "status": "completed"
    },
    "tags": []
   },
   "outputs": [
    {
     "name": "stdout",
     "output_type": "stream",
     "text": [
      "Epoch 0 Loss 0.2363942942187113\n",
      "train accuracy is: 0.7154899015189451, test accuracy is 0.7116935483870968\n"
     ]
    },
    {
     "name": "stdout",
     "output_type": "stream",
     "text": [
      "Epoch 10 Loss 0.10171899144623744\n",
      "train accuracy is: 0.9123685528292439, test accuracy is 0.921875\n"
     ]
    },
    {
     "name": "stdout",
     "output_type": "stream",
     "text": [
      "Epoch 20 Loss 0.07875107493381907\n",
      "train accuracy is: 0.9281422133199799, test accuracy is 0.9380040322580645\n"
     ]
    },
    {
     "name": "stdout",
     "output_type": "stream",
     "text": [
      "Epoch 30 Loss 0.06811900413864681\n",
      "train accuracy is: 0.9373226506426307, test accuracy is 0.9495967741935484\n"
     ]
    },
    {
     "name": "stdout",
     "output_type": "stream",
     "text": [
      "Epoch 40 Loss 0.06168934556076217\n",
      "train accuracy is: 0.9420797863461859, test accuracy is 0.953125\n"
     ]
    },
    {
     "name": "stdout",
     "output_type": "stream",
     "text": [
      "Epoch 50 Loss 0.05728472160488219\n",
      "train accuracy is: 0.9450008345852111, test accuracy is 0.9546370967741935\n"
     ]
    },
    {
     "name": "stdout",
     "output_type": "stream",
     "text": [
      "Epoch 60 Loss 0.05403548928460844\n",
      "train accuracy is: 0.9475045902186613, test accuracy is 0.9586693548387096\n"
     ]
    },
    {
     "name": "stdout",
     "output_type": "stream",
     "text": [
      "Epoch 70 Loss 0.05151615055188418\n",
      "train accuracy is: 0.9492572191620764, test accuracy is 0.9606854838709677\n"
     ]
    },
    {
     "name": "stdout",
     "output_type": "stream",
     "text": [
      "Epoch 80 Loss 0.04949153792744996\n",
      "train accuracy is: 0.9508429310632616, test accuracy is 0.9621975806451613\n"
     ]
    },
    {
     "name": "stdout",
     "output_type": "stream",
     "text": [
      "Epoch 90 Loss 0.047818362348011914\n",
      "train accuracy is: 0.9525955600066767, test accuracy is 0.9642137096774194\n"
     ]
    },
    {
     "name": "stdout",
     "output_type": "stream",
     "text": [
      "Epoch 100 Loss 0.046406247455510787\n",
      "train accuracy is: 0.9528459355700217, test accuracy is 0.9652217741935484\n"
     ]
    },
    {
     "name": "stdout",
     "output_type": "stream",
     "text": [
      "Epoch 110 Loss 0.0451935926958816\n",
      "train accuracy is: 0.9540143548656318, test accuracy is 0.9652217741935484\n"
     ]
    },
    {
     "name": "stdout",
     "output_type": "stream",
     "text": [
      "Epoch 120 Loss 0.044136529785607906\n",
      "train accuracy is: 0.9546820230345519, test accuracy is 0.9642137096774194\n"
     ]
    },
    {
     "name": "stdout",
     "output_type": "stream",
     "text": [
      "Epoch 130 Loss 0.04320500607195848\n",
      "train accuracy is: 0.9558504423301619, test accuracy is 0.9642137096774194\n"
     ]
    },
    {
     "name": "stdout",
     "output_type": "stream",
     "text": [
      "Epoch 140 Loss 0.04237570297214625\n",
      "train accuracy is: 0.956601569020197, test accuracy is 0.9642137096774194\n"
     ]
    },
    {
     "name": "stdout",
     "output_type": "stream",
     "text": [
      "Epoch 150 Loss 0.04163031371328969\n",
      "train accuracy is: 0.957185778668002, test accuracy is 0.9642137096774194\n"
     ]
    },
    {
     "name": "stdout",
     "output_type": "stream",
     "text": [
      "Epoch 160 Loss 0.04095630727254641\n",
      "train accuracy is: 0.9577699883158071, test accuracy is 0.9647177419354839\n"
     ]
    },
    {
     "name": "stdout",
     "output_type": "stream",
     "text": [
      "Epoch 170 Loss 0.04034198120372505\n",
      "train accuracy is: 0.958103822400267, test accuracy is 0.9652217741935484\n"
     ]
    },
    {
     "name": "stdout",
     "output_type": "stream",
     "text": [
      "Epoch 180 Loss 0.039779590391310654\n",
      "train accuracy is: 0.9581872809213821, test accuracy is 0.9657258064516129\n"
     ]
    },
    {
     "name": "stdout",
     "output_type": "stream",
     "text": [
      "Epoch 190 Loss 0.039261523704477976\n",
      "train accuracy is: 0.9584376564847271, test accuracy is 0.9657258064516129\n"
     ]
    },
    {
     "name": "stdout",
     "output_type": "stream",
     "text": [
      "Epoch 200 Loss 0.0387829266318293\n",
      "train accuracy is: 0.958604573526957, test accuracy is 0.9667338709677419\n"
     ]
    },
    {
     "name": "stdout",
     "output_type": "stream",
     "text": [
      "Epoch 210 Loss 0.03833689613733701\n",
      "train accuracy is: 0.9593557002169921, test accuracy is 0.9667338709677419\n"
     ]
    },
    {
     "name": "stdout",
     "output_type": "stream",
     "text": [
      "Epoch 220 Loss 0.03792166864524151\n",
      "train accuracy is: 0.9595226172592222, test accuracy is 0.967741935483871\n"
     ]
    },
    {
     "name": "stdout",
     "output_type": "stream",
     "text": [
      "Epoch 230 Loss 0.037533980077062455\n",
      "train accuracy is: 0.9597729928225672, test accuracy is 0.9672379032258065\n"
     ]
    },
    {
     "name": "stdout",
     "output_type": "stream",
     "text": [
      "Epoch 240 Loss 0.03716963857695132\n",
      "train accuracy is: 0.9600233683859122, test accuracy is 0.9672379032258065\n"
     ]
    },
    {
     "data": {
      "text/plain": [
       "0.051974987234222246"
      ]
     },
     "execution_count": 23,
     "metadata": {},
     "output_type": "execute_result"
    }
   ],
   "source": [
    "learner2.train_loop(dl)"
   ]
  },
  {
   "cell_type": "markdown",
   "metadata": {
    "papermill": {
     "duration": 0.035499,
     "end_time": "2020-08-15T20:14:37.208434",
     "exception": false,
     "start_time": "2020-08-15T20:14:37.172935",
     "status": "completed"
    },
    "tags": []
   },
   "source": [
    "### Comparing results of NN and LR"
   ]
  },
  {
   "cell_type": "code",
   "execution_count": 24,
   "metadata": {
    "execution": {
     "iopub.execute_input": "2020-08-15T20:14:37.286518Z",
     "iopub.status.busy": "2020-08-15T20:14:37.286077Z",
     "iopub.status.idle": "2020-08-15T20:14:37.457104Z",
     "shell.execute_reply": "2020-08-15T20:14:37.456616Z"
    },
    "papermill": {
     "duration": 0.211126,
     "end_time": "2020-08-15T20:14:37.457240",
     "exception": false,
     "start_time": "2020-08-15T20:14:37.246114",
     "status": "completed"
    },
    "tags": []
   },
   "outputs": [
    {
     "data": {
      "text/plain": [
       "<matplotlib.legend.Legend at 0x7f417e92c9e8>"
      ]
     },
     "execution_count": 24,
     "metadata": {},
     "output_type": "execute_result"
    },
    {
     "data": {
      "image/png": "[encoded data removed]",
      "text/plain": [
       "<Figure size 576x360 with 1 Axes>"
      ]
     },
     "metadata": {
      "needs_background": "light"
     },
     "output_type": "display_data"
    }
   ],
   "source": [
    "plt.figure(figsize=(8,5))\n",
    "plt.plot(acc1.val_accuracies, 'g-', label = \"Val Accuracies - NN\")\n",
    "plt.plot(acc1.accuracies, 'r-', label = \"Accuracies - NN\")\n",
    "plt.plot(acc2.val_accuracies, 'b-', label = \"Val Accuracies - Logistic Reg\")\n",
    "plt.plot(acc2.accuracies, 'k-', label = \"Accuracies - Logistic Reg\")\n",
    "plt.ylim(0.8,1) ## for a more spread out view\n",
    "plt.legend()"
   ]
  },
  {
   "cell_type": "markdown",
   "metadata": {
    "papermill": {
     "duration": 0.036732,
     "end_time": "2020-08-15T20:14:37.540387",
     "exception": false,
     "start_time": "2020-08-15T20:14:37.503655",
     "status": "completed"
    },
    "tags": []
   },
   "source": [
    "### Clearly NN has a better accuracy over LR; NN is overfitting - Validation accuracy (green) has dropped below training accuracy (orange), also they are diverging. This problem is not seen in LR"
   ]
  },
  {
   "cell_type": "markdown",
   "metadata": {
    "papermill": {
     "duration": 0.044298,
     "end_time": "2020-08-15T20:14:37.624082",
     "exception": false,
     "start_time": "2020-08-15T20:14:37.579784",
     "status": "completed"
    },
    "tags": []
   },
   "source": [
    "##### Now we will be moving through the network, till the output of the second last affine where we get a 2 dimensional output. We will be plotting this 2d output and probability contours"
   ]
  },
  {
   "cell_type": "code",
   "execution_count": 25,
   "metadata": {
    "execution": {
     "iopub.execute_input": "2020-08-15T20:14:37.705806Z",
     "iopub.status.busy": "2020-08-15T20:14:37.705273Z",
     "iopub.status.idle": "2020-08-15T20:14:37.716241Z",
     "shell.execute_reply": "2020-08-15T20:14:37.716678Z"
    },
    "papermill": {
     "duration": 0.053317,
     "end_time": "2020-08-15T20:14:37.716801",
     "exception": false,
     "start_time": "2020-08-15T20:14:37.663484",
     "status": "completed"
    },
    "tags": []
   },
   "outputs": [],
   "source": [
    "model_new = Model(layers[:-2])"
   ]
  },
  {
   "cell_type": "code",
   "execution_count": 26,
   "metadata": {
    "execution": {
     "iopub.execute_input": "2020-08-15T20:14:37.802843Z",
     "iopub.status.busy": "2020-08-15T20:14:37.802286Z",
     "iopub.status.idle": "2020-08-15T20:14:37.820099Z",
     "shell.execute_reply": "2020-08-15T20:14:37.820466Z"
    },
    "papermill": {
     "duration": 0.062405,
     "end_time": "2020-08-15T20:14:37.820573",
     "exception": false,
     "start_time": "2020-08-15T20:14:37.758168",
     "status": "completed"
    },
    "tags": []
   },
   "outputs": [],
   "source": [
    "plot_testing = model_new(testing_xdata)"
   ]
  },
  {
   "cell_type": "markdown",
   "metadata": {
    "papermill": {
     "duration": 0.036713,
     "end_time": "2020-08-15T20:14:37.897600",
     "exception": false,
     "start_time": "2020-08-15T20:14:37.860887",
     "status": "completed"
    },
    "tags": []
   },
   "source": [
    "##### Plotting the scatter plot of points and color coding by class"
   ]
  },
  {
   "cell_type": "code",
   "execution_count": 27,
   "metadata": {
    "execution": {
     "iopub.execute_input": "2020-08-15T20:14:38.008408Z",
     "iopub.status.busy": "2020-08-15T20:14:38.007975Z",
     "iopub.status.idle": "2020-08-15T20:14:38.173358Z",
     "shell.execute_reply": "2020-08-15T20:14:38.173750Z"
    },
    "papermill": {
     "duration": 0.236484,
     "end_time": "2020-08-15T20:14:38.173876",
     "exception": false,
     "start_time": "2020-08-15T20:14:37.937392",
     "status": "completed"
    },
    "tags": []
   },
   "outputs": [
    {
     "data": {
      "image/png": "[encoded data removed]",
      "text/plain": [
       "<Figure size 576x504 with 1 Axes>"
      ]
     },
     "metadata": {
      "needs_background": "light"
     },
     "output_type": "display_data"
    }
   ],
   "source": [
    "plt.figure(figsize=(8,7))\n",
    "plt.scatter(plot_testing[:,0], plot_testing[:,1], alpha = 0.1, c = y_test.ravel());"
   ]
  },
  {
   "cell_type": "markdown",
   "metadata": {
    "papermill": {
     "duration": 0.039873,
     "end_time": "2020-08-15T20:14:38.259252",
     "exception": false,
     "start_time": "2020-08-15T20:14:38.219379",
     "status": "completed"
    },
    "tags": []
   },
   "source": [
    "##### Plotting probability contours"
   ]
  },
  {
   "cell_type": "code",
   "execution_count": 28,
   "metadata": {
    "execution": {
     "iopub.execute_input": "2020-08-15T20:14:38.342110Z",
     "iopub.status.busy": "2020-08-15T20:14:38.341569Z",
     "iopub.status.idle": "2020-08-15T20:14:38.351832Z",
     "shell.execute_reply": "2020-08-15T20:14:38.352381Z"
    },
    "papermill": {
     "duration": 0.054317,
     "end_time": "2020-08-15T20:14:38.352519",
     "exception": false,
     "start_time": "2020-08-15T20:14:38.298202",
     "status": "completed"
    },
    "tags": []
   },
   "outputs": [],
   "source": [
    "model_prob = Model(layers[-2:]) ## picking only last two layers to get probability. That is affine followed by sigmoid"
   ]
  },
  {
   "cell_type": "code",
   "execution_count": 29,
   "metadata": {
    "execution": {
     "iopub.execute_input": "2020-08-15T20:14:38.437639Z",
     "iopub.status.busy": "2020-08-15T20:14:38.437181Z",
     "iopub.status.idle": "2020-08-15T20:14:38.450309Z",
     "shell.execute_reply": "2020-08-15T20:14:38.450662Z"
    },
    "papermill": {
     "duration": 0.05807,
     "end_time": "2020-08-15T20:14:38.450764",
     "exception": false,
     "start_time": "2020-08-15T20:14:38.392694",
     "status": "completed"
    },
    "tags": []
   },
   "outputs": [],
   "source": [
    "xgrid = np.linspace(-4, 1, 100) ## Adjust these values based on above chart, roughly -4 to 1\n",
    "ygrid = np.linspace(-7.5, 7.5, 100) ## Adjust these values based on above chart, roughly -7.5, 7.5\n",
    "xg, yg = np.meshgrid(xgrid, ygrid)\n",
    "# xg and yg are now both 100X100, lets convert them to single arrays \n",
    "\n",
    "xg_interim = np.ravel(xg)\n",
    "yg_interim = np.ravel(yg)\n",
    "\n",
    "## xg_interim, yg_interim are now arrays of len 10000, now we will stack them and then transpose to get desired shape of n rows, 2 columns\n",
    "\n",
    "X_interim = np.vstack((xg_interim, yg_interim)) ## Please note vstack takes in a tuple\n",
    "X = X_interim.T\n",
    "\n",
    "## We want a shape of n rows and 2 columns to be able to feed this to last affine\n",
    "## This last affine takes only two columns, hence the above transformation\n",
    "probability_contour = model_prob(X).reshape(100,100) ## to make it consistent with xg, yg"
   ]
  },
  {
   "cell_type": "code",
   "execution_count": 30,
   "metadata": {
    "execution": {
     "iopub.execute_input": "2020-08-15T20:14:38.552911Z",
     "iopub.status.busy": "2020-08-15T20:14:38.552502Z",
     "iopub.status.idle": "2020-08-15T20:14:38.734686Z",
     "shell.execute_reply": "2020-08-15T20:14:38.734034Z"
    },
    "papermill": {
     "duration": 0.240297,
     "end_time": "2020-08-15T20:14:38.734785",
     "exception": false,
     "start_time": "2020-08-15T20:14:38.494488",
     "status": "completed"
    },
    "tags": []
   },
   "outputs": [
    {
     "data": {
      "image/png": "[encoded data removed]",
      "text/plain": [
       "<Figure size 576x504 with 1 Axes>"
      ]
     },
     "metadata": {
      "needs_background": "light"
     },
     "output_type": "display_data"
    }
   ],
   "source": [
    "plt.figure(figsize=(8,7))\n",
    "plt.scatter(plot_testing[:,0], plot_testing[:,1], alpha = 0.1, c = y_test.ravel())\n",
    "contours = plt.contour(xg,yg,probability_contour)\n",
    "plt.clabel(contours, inline = True );"
   ]
  }
 ],
 "metadata": {
  "kernelspec": {
   "display_name": "Python 3",
   "language": "python",
   "name": "python3"
  },
  "language_info": {
   "codemirror_mode": {
    "name": "ipython",
    "version": 3
   },
   "file_extension": ".py",
   "mimetype": "text/x-python",
   "name": "python",
   "nbconvert_exporter": "python",
   "pygments_lexer": "ipython3",
   "version": "3.6.11"
  },
  "papermill": {
   "duration": 97.199768,
   "end_time": "2020-08-15T20:14:39.187879",
   "environment_variables": {},
   "exception": null,
   "input_path": "2020-08-07-NN-new.ipynb",
   "output_path": "2020-08-07-NN-new.ipynb",
   "parameters": {},
   "start_time": "2020-08-15T20:13:01.988111",
   "version": "2.1.2"
  }
 },
 "nbformat": 4,
 "nbformat_minor": 4
}