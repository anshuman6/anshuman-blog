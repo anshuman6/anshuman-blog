{
 "cells": [
  {
   "cell_type": "markdown",
   "metadata": {
    "papermill": {
     "duration": 0.02993,
     "end_time": "2020-08-29T00:17:19.683061",
     "exception": false,
     "start_time": "2020-08-29T00:17:19.653131",
     "status": "completed"
    },
    "tags": []
   },
   "source": [
    "# \"Building a basic Neural Network from scratch - Kudzu\"\n",
    "\n",
    "- badges: true\n",
    "- author: Anshuman Gupta"
   ]
  },
  {
   "cell_type": "markdown",
   "metadata": {
    "papermill": {
     "duration": 0.02507,
     "end_time": "2020-08-29T00:17:19.734124",
     "exception": false,
     "start_time": "2020-08-29T00:17:19.709054",
     "status": "completed"
    },
    "tags": []
   },
   "source": [
    "#### In this project, the idea is to write a classifier to differentiate between handwritten digits 3 and 8, from the MNIST database.\n",
    "\n",
    "#### I will using a custom built neural network library called Kudzu.This has been developed as a part of KTF/Foundations course of Univ.ai (www.univ.ai). The source code for Kudzu Library and and this notebook can be found on my git-hub profile : www.https://github.com/anshuman6 under the folder project-solution. Any feedback and comments are welcome. Please feel free to email me at: anshuman6@gmail.com\n",
    "\n",
    "#### 1. I will be using the MNIST database. \n",
    "\n",
    "#### 2. I will be comparing the results of the 4 layer NN to a standard logistic regression"
   ]
  },
  {
   "cell_type": "markdown",
   "metadata": {
    "papermill": {
     "duration": 0.02423,
     "end_time": "2020-08-29T00:17:19.782267",
     "exception": false,
     "start_time": "2020-08-29T00:17:19.758037",
     "status": "completed"
    },
    "tags": []
   },
   "source": [
    "##### Importing all the necessary libraries"
   ]
  },
  {
   "cell_type": "code",
   "execution_count": 1,
   "metadata": {
    "execution": {
     "iopub.execute_input": "2020-08-29T00:17:19.838502Z",
     "iopub.status.busy": "2020-08-29T00:17:19.837930Z",
     "iopub.status.idle": "2020-08-29T00:17:19.847387Z",
     "shell.execute_reply": "2020-08-29T00:17:19.847818Z"
    },
    "papermill": {
     "duration": 0.038822,
     "end_time": "2020-08-29T00:17:19.847955",
     "exception": false,
     "start_time": "2020-08-29T00:17:19.809133",
     "status": "completed"
    },
    "tags": []
   },
   "outputs": [],
   "source": [
    "%load_ext autoreload\n",
    "%autoreload 2"
   ]
  },
  {
   "cell_type": "code",
   "execution_count": 2,
   "metadata": {
    "execution": {
     "iopub.execute_input": "2020-08-29T00:17:19.898733Z",
     "iopub.status.busy": "2020-08-29T00:17:19.898173Z",
     "iopub.status.idle": "2020-08-29T00:17:20.398866Z",
     "shell.execute_reply": "2020-08-29T00:17:20.398390Z"
    },
    "papermill": {
     "duration": 0.527828,
     "end_time": "2020-08-29T00:17:20.398994",
     "exception": false,
     "start_time": "2020-08-29T00:17:19.871166",
     "status": "completed"
    },
    "tags": []
   },
   "outputs": [],
   "source": [
    "%matplotlib inline\n",
    "import numpy as np\n",
    "import matplotlib.pyplot as plt\n",
    "import pandas as pd"
   ]
  },
  {
   "cell_type": "markdown",
   "metadata": {
    "papermill": {
     "duration": 0.029445,
     "end_time": "2020-08-29T00:17:20.454451",
     "exception": false,
     "start_time": "2020-08-29T00:17:20.425006",
     "status": "completed"
    },
    "tags": []
   },
   "source": [
    "##### The following command helps us download MNIST from notebook itself. You can skip this if you already have MNIST. You can also download it via your terminal."
   ]
  },
  {
   "cell_type": "code",
   "execution_count": 3,
   "metadata": {
    "execution": {
     "iopub.execute_input": "2020-08-29T00:17:20.509822Z",
     "iopub.status.busy": "2020-08-29T00:17:20.509275Z",
     "iopub.status.idle": "2020-08-29T00:17:21.815819Z",
     "shell.execute_reply": "2020-08-29T00:17:21.815210Z"
    },
    "papermill": {
     "duration": 1.333838,
     "end_time": "2020-08-29T00:17:21.815952",
     "exception": false,
     "start_time": "2020-08-29T00:17:20.482114",
     "status": "completed"
    },
    "tags": []
   },
   "outputs": [
    {
     "name": "stdout",
     "output_type": "stream",
     "text": [
      "Collecting mnist\r\n"
     ]
    },
    {
     "name": "stdout",
     "output_type": "stream",
     "text": [
      "  Downloading mnist-0.2.2-py2.py3-none-any.whl (3.5 kB)\r\n",
      "Requirement already satisfied: numpy in /opt/hostedtoolcache/Python/3.6.11/x64/lib/python3.6/site-packages (from mnist) (1.19.1)\r\n"
     ]
    },
    {
     "name": "stdout",
     "output_type": "stream",
     "text": [
      "Installing collected packages: mnist\r\n"
     ]
    },
    {
     "name": "stdout",
     "output_type": "stream",
     "text": [
      "Successfully installed mnist-0.2.2\r\n"
     ]
    }
   ],
   "source": [
    "!pip install mnist # Please note, it is commented out for now, you can remove comment if you want to install it"
   ]
  },
  {
   "cell_type": "markdown",
   "metadata": {
    "papermill": {
     "duration": 0.027969,
     "end_time": "2020-08-29T00:17:21.873984",
     "exception": false,
     "start_time": "2020-08-29T00:17:21.846015",
     "status": "completed"
    },
    "tags": []
   },
   "source": [
    "#### Preparing the Data"
   ]
  },
  {
   "cell_type": "code",
   "execution_count": 4,
   "metadata": {
    "execution": {
     "iopub.execute_input": "2020-08-29T00:17:21.929049Z",
     "iopub.status.busy": "2020-08-29T00:17:21.928495Z",
     "iopub.status.idle": "2020-08-29T00:17:21.941846Z",
     "shell.execute_reply": "2020-08-29T00:17:21.942313Z"
    },
    "papermill": {
     "duration": 0.042443,
     "end_time": "2020-08-29T00:17:21.942437",
     "exception": false,
     "start_time": "2020-08-29T00:17:21.899994",
     "status": "completed"
    },
    "tags": []
   },
   "outputs": [],
   "source": [
    "import mnist"
   ]
  },
  {
   "cell_type": "code",
   "execution_count": 5,
   "metadata": {
    "execution": {
     "iopub.execute_input": "2020-08-29T00:17:22.008803Z",
     "iopub.status.busy": "2020-08-29T00:17:22.008189Z",
     "iopub.status.idle": "2020-08-29T00:17:22.753944Z",
     "shell.execute_reply": "2020-08-29T00:17:22.753448Z"
    },
    "papermill": {
     "duration": 0.77914,
     "end_time": "2020-08-29T00:17:22.754072",
     "exception": false,
     "start_time": "2020-08-29T00:17:21.974932",
     "status": "completed"
    },
    "tags": []
   },
   "outputs": [],
   "source": [
    "train_images = mnist.train_images()\n",
    "train_labels = mnist.train_labels()"
   ]
  },
  {
   "cell_type": "code",
   "execution_count": 6,
   "metadata": {
    "execution": {
     "iopub.execute_input": "2020-08-29T00:17:22.809137Z",
     "iopub.status.busy": "2020-08-29T00:17:22.808505Z",
     "iopub.status.idle": "2020-08-29T00:17:22.822687Z",
     "shell.execute_reply": "2020-08-29T00:17:22.822253Z"
    },
    "papermill": {
     "duration": 0.0425,
     "end_time": "2020-08-29T00:17:22.822791",
     "exception": false,
     "start_time": "2020-08-29T00:17:22.780291",
     "status": "completed"
    },
    "tags": []
   },
   "outputs": [
    {
     "data": {
      "text/plain": [
       "((60000, 28, 28), (60000,))"
      ]
     },
     "execution_count": 6,
     "metadata": {},
     "output_type": "execute_result"
    }
   ],
   "source": [
    "train_images.shape, train_labels.shape"
   ]
  },
  {
   "cell_type": "code",
   "execution_count": 7,
   "metadata": {
    "execution": {
     "iopub.execute_input": "2020-08-29T00:17:22.876046Z",
     "iopub.status.busy": "2020-08-29T00:17:22.875517Z",
     "iopub.status.idle": "2020-08-29T00:17:23.112493Z",
     "shell.execute_reply": "2020-08-29T00:17:23.111911Z"
    },
    "papermill": {
     "duration": 0.265275,
     "end_time": "2020-08-29T00:17:23.112622",
     "exception": false,
     "start_time": "2020-08-29T00:17:22.847347",
     "status": "completed"
    },
    "tags": []
   },
   "outputs": [],
   "source": [
    "test_images = mnist.test_images()\n",
    "test_labels = mnist.test_labels()"
   ]
  },
  {
   "cell_type": "code",
   "execution_count": 8,
   "metadata": {
    "execution": {
     "iopub.execute_input": "2020-08-29T00:17:23.167926Z",
     "iopub.status.busy": "2020-08-29T00:17:23.167389Z",
     "iopub.status.idle": "2020-08-29T00:17:23.179855Z",
     "shell.execute_reply": "2020-08-29T00:17:23.179417Z"
    },
    "papermill": {
     "duration": 0.041655,
     "end_time": "2020-08-29T00:17:23.179961",
     "exception": false,
     "start_time": "2020-08-29T00:17:23.138306",
     "status": "completed"
    },
    "tags": []
   },
   "outputs": [
    {
     "data": {
      "text/plain": [
       "((10000, 28, 28), (10000,))"
      ]
     },
     "execution_count": 8,
     "metadata": {},
     "output_type": "execute_result"
    }
   ],
   "source": [
    "test_images.shape, test_labels.shape"
   ]
  },
  {
   "cell_type": "code",
   "execution_count": 9,
   "metadata": {
    "execution": {
     "iopub.execute_input": "2020-08-29T00:17:23.233247Z",
     "iopub.status.busy": "2020-08-29T00:17:23.232681Z",
     "iopub.status.idle": "2020-08-29T00:17:23.394910Z",
     "shell.execute_reply": "2020-08-29T00:17:23.395497Z"
    },
    "papermill": {
     "duration": 0.190535,
     "end_time": "2020-08-29T00:17:23.395714",
     "exception": false,
     "start_time": "2020-08-29T00:17:23.205179",
     "status": "completed"
    },
    "tags": []
   },
   "outputs": [
    {
     "name": "stdout",
     "output_type": "stream",
     "text": [
      "2\n"
     ]
    },
    {
     "data": {
      "text/plain": [
       "<matplotlib.image.AxesImage at 0x7f30a4841b38>"
      ]
     },
     "execution_count": 9,
     "metadata": {},
     "output_type": "execute_result"
    },
    {
     "data": {
      "image/png": "[encoded data removed]",
      "text/plain": [
       "<Figure size 432x288 with 1 Axes>"
      ]
     },
     "metadata": {
      "needs_background": "light"
     },
     "output_type": "display_data"
    }
   ],
   "source": [
    "image_index = 7776 # You may select anything up to 60,000\n",
    "print(train_labels[image_index]) \n",
    "plt.imshow(train_images[image_index], cmap='Greys')"
   ]
  },
  {
   "cell_type": "markdown",
   "metadata": {
    "papermill": {
     "duration": 0.029262,
     "end_time": "2020-08-29T00:17:23.454575",
     "exception": false,
     "start_time": "2020-08-29T00:17:23.425313",
     "status": "completed"
    },
    "tags": []
   },
   "source": [
    "## Filter data to get 3 and 8 out"
   ]
  },
  {
   "cell_type": "code",
   "execution_count": 10,
   "metadata": {
    "execution": {
     "iopub.execute_input": "2020-08-29T00:17:23.520827Z",
     "iopub.status.busy": "2020-08-29T00:17:23.520230Z",
     "iopub.status.idle": "2020-08-29T00:17:23.538635Z",
     "shell.execute_reply": "2020-08-29T00:17:23.538178Z"
    },
    "papermill": {
     "duration": 0.051325,
     "end_time": "2020-08-29T00:17:23.538751",
     "exception": false,
     "start_time": "2020-08-29T00:17:23.487426",
     "status": "completed"
    },
    "tags": []
   },
   "outputs": [],
   "source": [
    "train_filter = np.where((train_labels == 3 ) | (train_labels == 8))\n",
    "test_filter = np.where((test_labels == 3) | (test_labels == 8))\n",
    "X_train, y_train = train_images[train_filter], train_labels[train_filter]\n",
    "X_test, y_test = test_images[test_filter], test_labels[test_filter]"
   ]
  },
  {
   "cell_type": "markdown",
   "metadata": {
    "papermill": {
     "duration": 0.027105,
     "end_time": "2020-08-29T00:17:23.593713",
     "exception": false,
     "start_time": "2020-08-29T00:17:23.566608",
     "status": "completed"
    },
    "tags": []
   },
   "source": [
    "##### We normalize the pizel values in the 0 to 1 range"
   ]
  },
  {
   "cell_type": "code",
   "execution_count": 11,
   "metadata": {
    "execution": {
     "iopub.execute_input": "2020-08-29T00:17:23.657088Z",
     "iopub.status.busy": "2020-08-29T00:17:23.656378Z",
     "iopub.status.idle": "2020-08-29T00:17:23.714216Z",
     "shell.execute_reply": "2020-08-29T00:17:23.714672Z"
    },
    "papermill": {
     "duration": 0.093086,
     "end_time": "2020-08-29T00:17:23.714826",
     "exception": false,
     "start_time": "2020-08-29T00:17:23.621740",
     "status": "completed"
    },
    "tags": []
   },
   "outputs": [],
   "source": [
    "X_train = X_train/255.\n",
    "X_test = X_test/255."
   ]
  },
  {
   "cell_type": "markdown",
   "metadata": {
    "papermill": {
     "duration": 0.027184,
     "end_time": "2020-08-29T00:17:23.770722",
     "exception": false,
     "start_time": "2020-08-29T00:17:23.743538",
     "status": "completed"
    },
    "tags": []
   },
   "source": [
    "And setup the labels as 1 (when the digit is 3) and 0 (when the digit is 8)"
   ]
  },
  {
   "cell_type": "code",
   "execution_count": 12,
   "metadata": {
    "execution": {
     "iopub.execute_input": "2020-08-29T00:17:23.827767Z",
     "iopub.status.busy": "2020-08-29T00:17:23.827208Z",
     "iopub.status.idle": "2020-08-29T00:17:23.842849Z",
     "shell.execute_reply": "2020-08-29T00:17:23.842302Z"
    },
    "papermill": {
     "duration": 0.045633,
     "end_time": "2020-08-29T00:17:23.842959",
     "exception": false,
     "start_time": "2020-08-29T00:17:23.797326",
     "status": "completed"
    },
    "tags": []
   },
   "outputs": [],
   "source": [
    "y_train = 1*(y_train==3)\n",
    "y_test = 1*(y_test==3)"
   ]
  },
  {
   "cell_type": "code",
   "execution_count": 13,
   "metadata": {
    "execution": {
     "iopub.execute_input": "2020-08-29T00:17:23.907175Z",
     "iopub.status.busy": "2020-08-29T00:17:23.906344Z",
     "iopub.status.idle": "2020-08-29T00:17:23.918174Z",
     "shell.execute_reply": "2020-08-29T00:17:23.917714Z"
    },
    "papermill": {
     "duration": 0.044642,
     "end_time": "2020-08-29T00:17:23.918305",
     "exception": false,
     "start_time": "2020-08-29T00:17:23.873663",
     "status": "completed"
    },
    "tags": []
   },
   "outputs": [
    {
     "data": {
      "text/plain": [
       "((11982, 28, 28), (1984, 28, 28))"
      ]
     },
     "execution_count": 13,
     "metadata": {},
     "output_type": "execute_result"
    }
   ],
   "source": [
    "X_train.shape, X_test.shape"
   ]
  },
  {
   "cell_type": "markdown",
   "metadata": {
    "papermill": {
     "duration": 0.02914,
     "end_time": "2020-08-29T00:17:23.974173",
     "exception": false,
     "start_time": "2020-08-29T00:17:23.945033",
     "status": "completed"
    },
    "tags": []
   },
   "source": [
    "##### We reshape the data to flatten the image pixels into a set of features or co-variates:"
   ]
  },
  {
   "cell_type": "code",
   "execution_count": 14,
   "metadata": {
    "execution": {
     "iopub.execute_input": "2020-08-29T00:17:24.037467Z",
     "iopub.status.busy": "2020-08-29T00:17:24.036897Z",
     "iopub.status.idle": "2020-08-29T00:17:24.048785Z",
     "shell.execute_reply": "2020-08-29T00:17:24.049370Z"
    },
    "papermill": {
     "duration": 0.043349,
     "end_time": "2020-08-29T00:17:24.049495",
     "exception": false,
     "start_time": "2020-08-29T00:17:24.006146",
     "status": "completed"
    },
    "tags": []
   },
   "outputs": [
    {
     "data": {
      "text/plain": [
       "((11982, 784), (1984, 784))"
      ]
     },
     "execution_count": 14,
     "metadata": {},
     "output_type": "execute_result"
    }
   ],
   "source": [
    "X_train = X_train.reshape(X_train.shape[0], -1)\n",
    "X_test = X_test.reshape(X_test.shape[0], -1)\n",
    "X_train.shape, X_test.shape"
   ]
  },
  {
   "cell_type": "markdown",
   "metadata": {
    "papermill": {
     "duration": 0.035635,
     "end_time": "2020-08-29T00:17:24.118713",
     "exception": false,
     "start_time": "2020-08-29T00:17:24.083078",
     "status": "completed"
    },
    "tags": []
   },
   "source": [
    "##### Importing Kudzu library and its functionality"
   ]
  },
  {
   "cell_type": "code",
   "execution_count": 15,
   "metadata": {
    "execution": {
     "iopub.execute_input": "2020-08-29T00:17:24.178725Z",
     "iopub.status.busy": "2020-08-29T00:17:24.178139Z",
     "iopub.status.idle": "2020-08-29T00:17:24.194936Z",
     "shell.execute_reply": "2020-08-29T00:17:24.194475Z"
    },
    "papermill": {
     "duration": 0.048325,
     "end_time": "2020-08-29T00:17:24.195040",
     "exception": false,
     "start_time": "2020-08-29T00:17:24.146715",
     "status": "completed"
    },
    "tags": []
   },
   "outputs": [],
   "source": [
    "from kudzu.data import Data, Dataloader, Sampler\n",
    "from kudzu.callbacks import AccCallback\n",
    "from kudzu.loss import MSE\n",
    "from kudzu.layer import Affine, Sigmoid\n",
    "from kudzu.model import Model\n",
    "from kudzu.optim import GD\n",
    "from kudzu.train import Learner\n",
    "from kudzu.callbacks import ClfCallback\n",
    "from kudzu.layer import Sigmoid\n",
    "from kudzu.layer import Relu"
   ]
  },
  {
   "cell_type": "markdown",
   "metadata": {
    "papermill": {
     "duration": 0.027353,
     "end_time": "2020-08-29T00:17:24.249875",
     "exception": false,
     "start_time": "2020-08-29T00:17:24.222522",
     "status": "completed"
    },
    "tags": []
   },
   "source": [
    "##### We are creating a class, just so that we can use it to store our parameters for us"
   ]
  },
  {
   "cell_type": "code",
   "execution_count": 16,
   "metadata": {
    "execution": {
     "iopub.execute_input": "2020-08-29T00:17:24.307579Z",
     "iopub.status.busy": "2020-08-29T00:17:24.306993Z",
     "iopub.status.idle": "2020-08-29T00:17:24.317712Z",
     "shell.execute_reply": "2020-08-29T00:17:24.317179Z"
    },
    "papermill": {
     "duration": 0.04059,
     "end_time": "2020-08-29T00:17:24.317825",
     "exception": false,
     "start_time": "2020-08-29T00:17:24.277235",
     "status": "completed"
    },
    "tags": []
   },
   "outputs": [],
   "source": [
    "class Config:\n",
    "    pass\n",
    "config = Config()\n",
    "config.lr = 0.001\n",
    "config.num_epochs = 250\n",
    "config.bs = 50"
   ]
  },
  {
   "cell_type": "markdown",
   "metadata": {
    "papermill": {
     "duration": 0.027086,
     "end_time": "2020-08-29T00:17:24.371162",
     "exception": false,
     "start_time": "2020-08-29T00:17:24.344076",
     "status": "completed"
    },
    "tags": []
   },
   "source": [
    "##### Initializing Data"
   ]
  },
  {
   "cell_type": "code",
   "execution_count": 17,
   "metadata": {
    "execution": {
     "iopub.execute_input": "2020-08-29T00:17:24.430983Z",
     "iopub.status.busy": "2020-08-29T00:17:24.430468Z",
     "iopub.status.idle": "2020-08-29T00:17:24.441885Z",
     "shell.execute_reply": "2020-08-29T00:17:24.441354Z"
    },
    "papermill": {
     "duration": 0.043192,
     "end_time": "2020-08-29T00:17:24.441994",
     "exception": false,
     "start_time": "2020-08-29T00:17:24.398802",
     "status": "completed"
    },
    "tags": []
   },
   "outputs": [],
   "source": [
    "data = Data(X_train, y_train.reshape(-1,1))\n",
    "loss = MSE()\n",
    "opt = GD(config.lr)\n",
    "sampler = Sampler(data, config.bs, shuffle=True)\n",
    "dl = Dataloader(data, sampler)"
   ]
  },
  {
   "cell_type": "markdown",
   "metadata": {
    "papermill": {
     "duration": 0.031295,
     "end_time": "2020-08-29T00:17:24.502085",
     "exception": false,
     "start_time": "2020-08-29T00:17:24.470790",
     "status": "completed"
    },
    "tags": []
   },
   "source": [
    "##### Constructing 2 different layers, one for NN and one only for logistic regression."
   ]
  },
  {
   "cell_type": "markdown",
   "metadata": {
    "papermill": {
     "duration": 0.02672,
     "end_time": "2020-08-29T00:17:24.557075",
     "exception": false,
     "start_time": "2020-08-29T00:17:24.530355",
     "status": "completed"
    },
    "tags": []
   },
   "source": [
    "##### Creating containers for data to be passed, to calculate accuracies"
   ]
  },
  {
   "cell_type": "code",
   "execution_count": 18,
   "metadata": {
    "execution": {
     "iopub.execute_input": "2020-08-29T00:17:24.614876Z",
     "iopub.status.busy": "2020-08-29T00:17:24.614183Z",
     "iopub.status.idle": "2020-08-29T00:17:24.625411Z",
     "shell.execute_reply": "2020-08-29T00:17:24.624836Z"
    },
    "papermill": {
     "duration": 0.041456,
     "end_time": "2020-08-29T00:17:24.625526",
     "exception": false,
     "start_time": "2020-08-29T00:17:24.584070",
     "status": "completed"
    },
    "tags": []
   },
   "outputs": [],
   "source": [
    "training_xdata = X_train\n",
    "testing_xdata = X_test\n",
    "training_ydata = y_train.reshape(-1,1)\n",
    "testing_ydata = y_test.reshape(-1,1)"
   ]
  },
  {
   "cell_type": "markdown",
   "metadata": {
    "papermill": {
     "duration": 0.027935,
     "end_time": "2020-08-29T00:17:24.681399",
     "exception": false,
     "start_time": "2020-08-29T00:17:24.653464",
     "status": "completed"
    },
    "tags": []
   },
   "source": [
    "##### Initializing models and Running training loop: "
   ]
  },
  {
   "cell_type": "code",
   "execution_count": 19,
   "metadata": {
    "execution": {
     "iopub.execute_input": "2020-08-29T00:17:24.739461Z",
     "iopub.status.busy": "2020-08-29T00:17:24.738896Z",
     "iopub.status.idle": "2020-08-29T00:17:24.752675Z",
     "shell.execute_reply": "2020-08-29T00:17:24.752155Z"
    },
    "papermill": {
     "duration": 0.043991,
     "end_time": "2020-08-29T00:17:24.752799",
     "exception": false,
     "start_time": "2020-08-29T00:17:24.708808",
     "status": "completed"
    },
    "tags": []
   },
   "outputs": [],
   "source": [
    "layers = [Affine(\"first\", 784, 100), Relu(\"first\"), Affine(\"second\", 100, 100), Relu(\"second\"), Affine(\"third\", 100, 2), Affine(\"final\", 2, 1), Sigmoid(\"final\")]\n",
    "\n",
    "model_neural = Model(layers)\n",
    "model_logistic = Model([Affine(\"logits\", 784, 1), Sigmoid(\"sigmoid\")])"
   ]
  },
  {
   "cell_type": "code",
   "execution_count": 20,
   "metadata": {
    "execution": {
     "iopub.execute_input": "2020-08-29T00:17:24.810367Z",
     "iopub.status.busy": "2020-08-29T00:17:24.809839Z",
     "iopub.status.idle": "2020-08-29T00:17:24.820373Z",
     "shell.execute_reply": "2020-08-29T00:17:24.819882Z"
    },
    "papermill": {
     "duration": 0.041211,
     "end_time": "2020-08-29T00:17:24.820478",
     "exception": false,
     "start_time": "2020-08-29T00:17:24.779267",
     "status": "completed"
    },
    "tags": []
   },
   "outputs": [],
   "source": [
    "learner1 = Learner(loss, model_neural, opt, config.num_epochs)\n",
    "acc1 = ClfCallback(learner1, config.bs, training_xdata , testing_xdata, training_ydata, testing_ydata)\n",
    "learner1.set_callbacks([acc1])"
   ]
  },
  {
   "cell_type": "code",
   "execution_count": 21,
   "metadata": {
    "execution": {
     "iopub.execute_input": "2020-08-29T00:17:24.879935Z",
     "iopub.status.busy": "2020-08-29T00:17:24.879341Z",
     "iopub.status.idle": "2020-08-29T00:19:35.218435Z",
     "shell.execute_reply": "2020-08-29T00:19:35.218892Z"
    },
    "papermill": {
     "duration": 130.370826,
     "end_time": "2020-08-29T00:19:35.219063",
     "exception": false,
     "start_time": "2020-08-29T00:17:24.848237",
     "status": "completed"
    },
    "tags": []
   },
   "outputs": [
    {
     "name": "stdout",
     "output_type": "stream",
     "text": [
      "Epoch 0 Loss 0.1965756995433066\n",
      "train accuracy is: 0.8314972458688032, test accuracy is 0.8487903225806451\n"
     ]
    },
    {
     "name": "stdout",
     "output_type": "stream",
     "text": [
      "Epoch 10 Loss 0.047349936828338685\n",
      "train accuracy is: 0.9474211316975463, test accuracy is 0.9591733870967742\n"
     ]
    },
    {
     "name": "stdout",
     "output_type": "stream",
     "text": [
      "Epoch 20 Loss 0.0360437765759151\n",
      "train accuracy is: 0.9600233683859122, test accuracy is 0.9637096774193549\n"
     ]
    },
    {
     "name": "stdout",
     "output_type": "stream",
     "text": [
      "Epoch 30 Loss 0.03130216303846945\n",
      "train accuracy is: 0.9652812552161576, test accuracy is 0.967741935483871\n"
     ]
    },
    {
     "name": "stdout",
     "output_type": "stream",
     "text": [
      "Epoch 40 Loss 0.028530388477506354\n",
      "train accuracy is: 0.9678684693707228, test accuracy is 0.969758064516129\n"
     ]
    },
    {
     "name": "stdout",
     "output_type": "stream",
     "text": [
      "Epoch 50 Loss 0.02662677235667086\n",
      "train accuracy is: 0.9705391420464029, test accuracy is 0.9702620967741935\n"
     ]
    },
    {
     "name": "stdout",
     "output_type": "stream",
     "text": [
      "Epoch 60 Loss 0.02520520530150638\n",
      "train accuracy is: 0.971707561342013, test accuracy is 0.9722782258064516\n"
     ]
    },
    {
     "name": "stdout",
     "output_type": "stream",
     "text": [
      "Epoch 70 Loss 0.02407007889195112\n",
      "train accuracy is: 0.9728759806376232, test accuracy is 0.9717741935483871\n"
     ]
    },
    {
     "name": "stdout",
     "output_type": "stream",
     "text": [
      "Epoch 80 Loss 0.023124337841827332\n",
      "train accuracy is: 0.9745451510599232, test accuracy is 0.9717741935483871\n"
     ]
    },
    {
     "name": "stdout",
     "output_type": "stream",
     "text": [
      "Epoch 90 Loss 0.022321764361050513\n",
      "train accuracy is: 0.9754631947921882, test accuracy is 0.9712701612903226\n"
     ]
    },
    {
     "name": "stdout",
     "output_type": "stream",
     "text": [
      "Epoch 100 Loss 0.02160714930979193\n",
      "train accuracy is: 0.9763812385244534, test accuracy is 0.9717741935483871\n"
     ]
    },
    {
     "name": "stdout",
     "output_type": "stream",
     "text": [
      "Epoch 110 Loss 0.02093718072468526\n",
      "train accuracy is: 0.9771323652144884, test accuracy is 0.9712701612903226\n"
     ]
    },
    {
     "name": "stdout",
     "output_type": "stream",
     "text": [
      "Epoch 120 Loss 0.020316932522115402\n",
      "train accuracy is: 0.9769654481722584, test accuracy is 0.9717741935483871\n"
     ]
    },
    {
     "name": "stdout",
     "output_type": "stream",
     "text": [
      "Epoch 130 Loss 0.01977382792323752\n",
      "train accuracy is: 0.9777165748622935, test accuracy is 0.9722782258064516\n"
     ]
    },
    {
     "name": "stdout",
     "output_type": "stream",
     "text": [
      "Epoch 140 Loss 0.01924344622855494\n",
      "train accuracy is: 0.9783842430312135, test accuracy is 0.9722782258064516\n"
     ]
    },
    {
     "name": "stdout",
     "output_type": "stream",
     "text": [
      "Epoch 150 Loss 0.018720745906284697\n",
      "train accuracy is: 0.9791353697212486, test accuracy is 0.9727822580645161\n"
     ]
    },
    {
     "name": "stdout",
     "output_type": "stream",
     "text": [
      "Epoch 160 Loss 0.0182503569690344\n",
      "train accuracy is: 0.9798030378901685, test accuracy is 0.9737903225806451\n"
     ]
    },
    {
     "name": "stdout",
     "output_type": "stream",
     "text": [
      "Epoch 170 Loss 0.01778927857619697\n",
      "train accuracy is: 0.9808045401435487, test accuracy is 0.9737903225806451\n"
     ]
    },
    {
     "name": "stdout",
     "output_type": "stream",
     "text": [
      "Epoch 180 Loss 0.017350369706723455\n",
      "train accuracy is: 0.9817225838758137, test accuracy is 0.9737903225806451\n"
     ]
    },
    {
     "name": "stdout",
     "output_type": "stream",
     "text": [
      "Epoch 190 Loss 0.016929207736078755\n",
      "train accuracy is: 0.9821398764813888, test accuracy is 0.9742943548387096\n"
     ]
    },
    {
     "name": "stdout",
     "output_type": "stream",
     "text": [
      "Epoch 200 Loss 0.016524971248921213\n",
      "train accuracy is: 0.9823902520447337, test accuracy is 0.9747983870967742\n"
     ]
    },
    {
     "name": "stdout",
     "output_type": "stream",
     "text": [
      "Epoch 210 Loss 0.016121664057122665\n",
      "train accuracy is: 0.9828075446503088, test accuracy is 0.9747983870967742\n"
     ]
    },
    {
     "name": "stdout",
     "output_type": "stream",
     "text": [
      "Epoch 220 Loss 0.015741988266034103\n",
      "train accuracy is: 0.9833917542981139, test accuracy is 0.9753024193548387\n"
     ]
    },
    {
     "name": "stdout",
     "output_type": "stream",
     "text": [
      "Epoch 230 Loss 0.015384369404439182\n",
      "train accuracy is: 0.9840594224670339, test accuracy is 0.9753024193548387\n"
     ]
    },
    {
     "name": "stdout",
     "output_type": "stream",
     "text": [
      "Epoch 240 Loss 0.01499924500997542\n",
      "train accuracy is: 0.9844767150726089, test accuracy is 0.9763104838709677\n"
     ]
    },
    {
     "data": {
      "text/plain": [
       "0.02566920717139942"
      ]
     },
     "execution_count": 21,
     "metadata": {},
     "output_type": "execute_result"
    }
   ],
   "source": [
    "learner1.train_loop(dl)"
   ]
  },
  {
   "cell_type": "markdown",
   "metadata": {
    "papermill": {
     "duration": 0.041537,
     "end_time": "2020-08-29T00:19:35.298887",
     "exception": false,
     "start_time": "2020-08-29T00:19:35.257350",
     "status": "completed"
    },
    "tags": []
   },
   "source": [
    "##### Now running only the logistic regression based classification to compare results with NN"
   ]
  },
  {
   "cell_type": "code",
   "execution_count": 22,
   "metadata": {
    "execution": {
     "iopub.execute_input": "2020-08-29T00:19:35.378554Z",
     "iopub.status.busy": "2020-08-29T00:19:35.377623Z",
     "iopub.status.idle": "2020-08-29T00:19:35.390757Z",
     "shell.execute_reply": "2020-08-29T00:19:35.390314Z"
    },
    "papermill": {
     "duration": 0.054443,
     "end_time": "2020-08-29T00:19:35.390870",
     "exception": false,
     "start_time": "2020-08-29T00:19:35.336427",
     "status": "completed"
    },
    "tags": []
   },
   "outputs": [],
   "source": [
    "learner2 = Learner(loss, model_logistic, opt, config.num_epochs)\n",
    "acc2 = ClfCallback(learner2, config.bs, training_xdata , testing_xdata, training_ydata, testing_ydata)\n",
    "learner2.set_callbacks([acc2])"
   ]
  },
  {
   "cell_type": "code",
   "execution_count": 23,
   "metadata": {
    "execution": {
     "iopub.execute_input": "2020-08-29T00:19:35.461522Z",
     "iopub.status.busy": "2020-08-29T00:19:35.460771Z",
     "iopub.status.idle": "2020-08-29T00:19:53.959978Z",
     "shell.execute_reply": "2020-08-29T00:19:53.959510Z"
    },
    "papermill": {
     "duration": 18.536121,
     "end_time": "2020-08-29T00:19:53.960116",
     "exception": false,
     "start_time": "2020-08-29T00:19:35.423995",
     "status": "completed"
    },
    "tags": []
   },
   "outputs": [
    {
     "name": "stdout",
     "output_type": "stream",
     "text": [
      "Epoch 0 Loss 0.2586552889606845\n",
      "train accuracy is: 0.6095810382240027, test accuracy is 0.5962701612903226\n"
     ]
    },
    {
     "name": "stdout",
     "output_type": "stream",
     "text": [
      "Epoch 10 Loss 0.1051896794139291\n",
      "train accuracy is: 0.9062760807878485, test accuracy is 0.9223790322580645\n"
     ]
    },
    {
     "name": "stdout",
     "output_type": "stream",
     "text": [
      "Epoch 20 Loss 0.07937508300658168\n",
      "train accuracy is: 0.9288098814889, test accuracy is 0.9445564516129032\n"
     ]
    },
    {
     "name": "stdout",
     "output_type": "stream",
     "text": [
      "Epoch 30 Loss 0.06794857179458207\n",
      "train accuracy is: 0.9386579869804708, test accuracy is 0.9536290322580645\n"
     ]
    },
    {
     "name": "stdout",
     "output_type": "stream",
     "text": [
      "Epoch 40 Loss 0.06121251156415565\n",
      "train accuracy is: 0.9439993323318311, test accuracy is 0.9556451612903226\n"
     ]
    },
    {
     "name": "stdout",
     "output_type": "stream",
     "text": [
      "Epoch 50 Loss 0.0566682271315163\n",
      "train accuracy is: 0.9468369220497412, test accuracy is 0.9586693548387096\n"
     ]
    },
    {
     "name": "stdout",
     "output_type": "stream",
     "text": [
      "Epoch 60 Loss 0.05335271906408272\n",
      "train accuracy is: 0.9491737606409615, test accuracy is 0.9596774193548387\n"
     ]
    },
    {
     "name": "stdout",
     "output_type": "stream",
     "text": [
      "Epoch 70 Loss 0.05080033340318078\n",
      "train accuracy is: 0.9502587214154565, test accuracy is 0.9611895161290323\n"
     ]
    },
    {
     "name": "stdout",
     "output_type": "stream",
     "text": [
      "Epoch 80 Loss 0.0487608936584618\n",
      "train accuracy is: 0.9520113503588716, test accuracy is 0.9632056451612904\n"
     ]
    },
    {
     "name": "stdout",
     "output_type": "stream",
     "text": [
      "Epoch 90 Loss 0.047084237869022064\n",
      "train accuracy is: 0.9535970622600568, test accuracy is 0.9642137096774194\n"
     ]
    },
    {
     "name": "stdout",
     "output_type": "stream",
     "text": [
      "Epoch 100 Loss 0.04567469537797483\n",
      "train accuracy is: 0.9545151059923218, test accuracy is 0.9652217741935484\n"
     ]
    },
    {
     "name": "stdout",
     "output_type": "stream",
     "text": [
      "Epoch 110 Loss 0.04446889502464717\n",
      "train accuracy is: 0.9551827741612419, test accuracy is 0.9652217741935484\n"
     ]
    },
    {
     "name": "stdout",
     "output_type": "stream",
     "text": [
      "Epoch 120 Loss 0.043420792360966125\n",
      "train accuracy is: 0.9562677349357369, test accuracy is 0.9657258064516129\n"
     ]
    },
    {
     "name": "stdout",
     "output_type": "stream",
     "text": [
      "Epoch 130 Loss 0.04249799285983881\n",
      "train accuracy is: 0.957018861625772, test accuracy is 0.9657258064516129\n"
     ]
    },
    {
     "name": "stdout",
     "output_type": "stream",
     "text": [
      "Epoch 140 Loss 0.04167972454728345\n",
      "train accuracy is: 0.9579369053580371, test accuracy is 0.9662298387096774\n"
     ]
    },
    {
     "name": "stdout",
     "output_type": "stream",
     "text": [
      "Epoch 150 Loss 0.040945853767806135\n",
      "train accuracy is: 0.9583541979636121, test accuracy is 0.9667338709677419\n"
     ]
    },
    {
     "name": "stdout",
     "output_type": "stream",
     "text": [
      "Epoch 160 Loss 0.040282688097370185\n",
      "train accuracy is: 0.9585211150058421, test accuracy is 0.9682459677419355\n"
     ]
    },
    {
     "name": "stdout",
     "output_type": "stream",
     "text": [
      "Epoch 170 Loss 0.039680981575755746\n",
      "train accuracy is: 0.9589384076114171, test accuracy is 0.9682459677419355\n"
     ]
    },
    {
     "name": "stdout",
     "output_type": "stream",
     "text": [
      "Epoch 180 Loss 0.039129512563892736\n",
      "train accuracy is: 0.9591887831747622, test accuracy is 0.9682459677419355\n"
     ]
    },
    {
     "name": "stdout",
     "output_type": "stream",
     "text": [
      "Epoch 190 Loss 0.038623338576225276\n",
      "train accuracy is: 0.9597729928225672, test accuracy is 0.9682459677419355\n"
     ]
    },
    {
     "name": "stdout",
     "output_type": "stream",
     "text": [
      "Epoch 200 Loss 0.038154536147102416\n",
      "train accuracy is: 0.9601902854281422, test accuracy is 0.9692540322580645\n"
     ]
    },
    {
     "name": "stdout",
     "output_type": "stream",
     "text": [
      "Epoch 210 Loss 0.03772050569934542\n",
      "train accuracy is: 0.9602737439492572, test accuracy is 0.9692540322580645\n"
     ]
    },
    {
     "name": "stdout",
     "output_type": "stream",
     "text": [
      "Epoch 220 Loss 0.03731636882693178\n",
      "train accuracy is: 0.9604406609914873, test accuracy is 0.9692540322580645\n"
     ]
    },
    {
     "name": "stdout",
     "output_type": "stream",
     "text": [
      "Epoch 230 Loss 0.0369391039458185\n",
      "train accuracy is: 0.9610248706392923, test accuracy is 0.9692540322580645\n"
     ]
    },
    {
     "name": "stdout",
     "output_type": "stream",
     "text": [
      "Epoch 240 Loss 0.036584878248767404\n",
      "train accuracy is: 0.9611917876815222, test accuracy is 0.9692540322580645\n"
     ]
    },
    {
     "data": {
      "text/plain": [
       "0.012946641561911443"
      ]
     },
     "execution_count": 23,
     "metadata": {},
     "output_type": "execute_result"
    }
   ],
   "source": [
    "learner2.train_loop(dl)"
   ]
  },
  {
   "cell_type": "markdown",
   "metadata": {
    "papermill": {
     "duration": 0.043929,
     "end_time": "2020-08-29T00:19:54.047487",
     "exception": false,
     "start_time": "2020-08-29T00:19:54.003558",
     "status": "completed"
    },
    "tags": []
   },
   "source": [
    "### Comparing results of NN and LR"
   ]
  },
  {
   "cell_type": "code",
   "execution_count": 24,
   "metadata": {
    "execution": {
     "iopub.execute_input": "2020-08-29T00:19:54.149905Z",
     "iopub.status.busy": "2020-08-29T00:19:54.149245Z",
     "iopub.status.idle": "2020-08-29T00:19:54.386620Z",
     "shell.execute_reply": "2020-08-29T00:19:54.386090Z"
    },
    "papermill": {
     "duration": 0.290335,
     "end_time": "2020-08-29T00:19:54.386755",
     "exception": false,
     "start_time": "2020-08-29T00:19:54.096420",
     "status": "completed"
    },
    "tags": []
   },
   "outputs": [
    {
     "data": {
      "text/plain": [
       "<matplotlib.legend.Legend at 0x7f30a44262b0>"
      ]
     },
     "execution_count": 24,
     "metadata": {},
     "output_type": "execute_result"
    },
    {
     "data": {
      "image/png": "[encoded data removed]",
      "text/plain": [
       "<Figure size 576x360 with 1 Axes>"
      ]
     },
     "metadata": {
      "needs_background": "light"
     },
     "output_type": "display_data"
    }
   ],
   "source": [
    "plt.figure(figsize=(8,5))\n",
    "plt.plot(acc1.val_accuracies, 'g-', label = \"Val Accuracies - NN\")\n",
    "plt.plot(acc1.accuracies, 'r-', label = \"Accuracies - NN\")\n",
    "plt.plot(acc2.val_accuracies, 'b-', label = \"Val Accuracies - Logistic Reg\")\n",
    "plt.plot(acc2.accuracies, 'k-', label = \"Accuracies - Logistic Reg\")\n",
    "plt.ylim(0.8,1) ## for a more spread out view\n",
    "plt.legend()"
   ]
  },
  {
   "cell_type": "markdown",
   "metadata": {
    "papermill": {
     "duration": 0.045928,
     "end_time": "2020-08-29T00:19:54.476182",
     "exception": false,
     "start_time": "2020-08-29T00:19:54.430254",
     "status": "completed"
    },
    "tags": []
   },
   "source": [
    "### Clearly NN has a better accuracy over LR; NN is overfitting - Validation accuracy (green) has dropped below training accuracy (orange), also they are diverging. This problem is not seen in LR"
   ]
  },
  {
   "cell_type": "markdown",
   "metadata": {
    "papermill": {
     "duration": 0.042856,
     "end_time": "2020-08-29T00:19:54.563241",
     "exception": false,
     "start_time": "2020-08-29T00:19:54.520385",
     "status": "completed"
    },
    "tags": []
   },
   "source": [
    "##### Now we will be moving through the network, till the output of the second last affine where we get a 2 dimensional output. We will be plotting this 2d output and probability contours"
   ]
  },
  {
   "cell_type": "code",
   "execution_count": 25,
   "metadata": {
    "execution": {
     "iopub.execute_input": "2020-08-29T00:19:54.660338Z",
     "iopub.status.busy": "2020-08-29T00:19:54.659791Z",
     "iopub.status.idle": "2020-08-29T00:19:54.670434Z",
     "shell.execute_reply": "2020-08-29T00:19:54.670870Z"
    },
    "papermill": {
     "duration": 0.05894,
     "end_time": "2020-08-29T00:19:54.671018",
     "exception": false,
     "start_time": "2020-08-29T00:19:54.612078",
     "status": "completed"
    },
    "tags": []
   },
   "outputs": [],
   "source": [
    "model_new = Model(layers[:-2])"
   ]
  },
  {
   "cell_type": "code",
   "execution_count": 26,
   "metadata": {
    "execution": {
     "iopub.execute_input": "2020-08-29T00:19:54.764573Z",
     "iopub.status.busy": "2020-08-29T00:19:54.763846Z",
     "iopub.status.idle": "2020-08-29T00:19:54.788720Z",
     "shell.execute_reply": "2020-08-29T00:19:54.789483Z"
    },
    "papermill": {
     "duration": 0.076767,
     "end_time": "2020-08-29T00:19:54.789617",
     "exception": false,
     "start_time": "2020-08-29T00:19:54.712850",
     "status": "completed"
    },
    "tags": []
   },
   "outputs": [],
   "source": [
    "plot_testing = model_new(testing_xdata)"
   ]
  },
  {
   "cell_type": "markdown",
   "metadata": {
    "papermill": {
     "duration": 0.061801,
     "end_time": "2020-08-29T00:19:54.898452",
     "exception": false,
     "start_time": "2020-08-29T00:19:54.836651",
     "status": "completed"
    },
    "tags": []
   },
   "source": [
    "##### Plotting the scatter plot of points and color coding by class"
   ]
  },
  {
   "cell_type": "code",
   "execution_count": 27,
   "metadata": {
    "execution": {
     "iopub.execute_input": "2020-08-29T00:19:54.988228Z",
     "iopub.status.busy": "2020-08-29T00:19:54.987574Z",
     "iopub.status.idle": "2020-08-29T00:19:55.176606Z",
     "shell.execute_reply": "2020-08-29T00:19:55.177073Z"
    },
    "papermill": {
     "duration": 0.235519,
     "end_time": "2020-08-29T00:19:55.177242",
     "exception": false,
     "start_time": "2020-08-29T00:19:54.941723",
     "status": "completed"
    },
    "tags": []
   },
   "outputs": [
    {
     "data": {
      "image/png": "[encoded data removed]",
      "text/plain": [
       "<Figure size 576x504 with 1 Axes>"
      ]
     },
     "metadata": {
      "needs_background": "light"
     },
     "output_type": "display_data"
    }
   ],
   "source": [
    "plt.figure(figsize=(8,7))\n",
    "plt.scatter(plot_testing[:,0], plot_testing[:,1], alpha = 0.1, c = y_test.ravel());"
   ]
  },
  {
   "cell_type": "markdown",
   "metadata": {
    "papermill": {
     "duration": 0.045984,
     "end_time": "2020-08-29T00:19:55.270395",
     "exception": false,
     "start_time": "2020-08-29T00:19:55.224411",
     "status": "completed"
    },
    "tags": []
   },
   "source": [
    "##### Plotting probability contours"
   ]
  },
  {
   "cell_type": "code",
   "execution_count": 28,
   "metadata": {
    "execution": {
     "iopub.execute_input": "2020-08-29T00:19:55.360886Z",
     "iopub.status.busy": "2020-08-29T00:19:55.360283Z",
     "iopub.status.idle": "2020-08-29T00:19:55.371136Z",
     "shell.execute_reply": "2020-08-29T00:19:55.371597Z"
    },
    "papermill": {
     "duration": 0.057962,
     "end_time": "2020-08-29T00:19:55.371743",
     "exception": false,
     "start_time": "2020-08-29T00:19:55.313781",
     "status": "completed"
    },
    "tags": []
   },
   "outputs": [],
   "source": [
    "model_prob = Model(layers[-2:]) ## picking only last two layers to get probability. That is affine followed by sigmoid"
   ]
  },
  {
   "cell_type": "code",
   "execution_count": 29,
   "metadata": {
    "execution": {
     "iopub.execute_input": "2020-08-29T00:19:55.465712Z",
     "iopub.status.busy": "2020-08-29T00:19:55.465052Z",
     "iopub.status.idle": "2020-08-29T00:19:55.476762Z",
     "shell.execute_reply": "2020-08-29T00:19:55.477315Z"
    },
    "papermill": {
     "duration": 0.060743,
     "end_time": "2020-08-29T00:19:55.477475",
     "exception": false,
     "start_time": "2020-08-29T00:19:55.416732",
     "status": "completed"
    },
    "tags": []
   },
   "outputs": [],
   "source": [
    "xgrid = np.linspace(-4, 1, 100) ## Adjust these values based on above chart, roughly -4 to 1\n",
    "ygrid = np.linspace(-7.5, 7.5, 100) ## Adjust these values based on above chart, roughly -7.5, 7.5\n",
    "xg, yg = np.meshgrid(xgrid, ygrid)\n",
    "# xg and yg are now both 100X100, lets convert them to single arrays \n",
    "\n",
    "xg_interim = np.ravel(xg)\n",
    "yg_interim = np.ravel(yg)\n",
    "\n",
    "## xg_interim, yg_interim are now arrays of len 10000, now we will stack them and then transpose to get desired shape of n rows, 2 columns\n",
    "\n",
    "X_interim = np.vstack((xg_interim, yg_interim)) ## Please note vstack takes in a tuple\n",
    "X = X_interim.T\n",
    "\n",
    "## We want a shape of n rows and 2 columns to be able to feed this to last affine\n",
    "## This last affine takes only two columns, hence the above transformation\n",
    "probability_contour = model_prob(X).reshape(100,100) ## to make it consistent with xg, yg"
   ]
  },
  {
   "cell_type": "code",
   "execution_count": 30,
   "metadata": {
    "execution": {
     "iopub.execute_input": "2020-08-29T00:19:55.583047Z",
     "iopub.status.busy": "2020-08-29T00:19:55.582387Z",
     "iopub.status.idle": "2020-08-29T00:19:55.815153Z",
     "shell.execute_reply": "2020-08-29T00:19:55.814566Z"
    },
    "papermill": {
     "duration": 0.291553,
     "end_time": "2020-08-29T00:19:55.815355",
     "exception": false,
     "start_time": "2020-08-29T00:19:55.523802",
     "status": "completed"
    },
    "tags": []
   },
   "outputs": [
    {
     "data": {
      "image/png": "[encoded data removed]",
      "text/plain": [
       "<Figure size 576x504 with 1 Axes>"
      ]
     },
     "metadata": {
      "needs_background": "light"
     },
     "output_type": "display_data"
    }
   ],
   "source": [
    "plt.figure(figsize=(8,7))\n",
    "plt.scatter(plot_testing[:,0], plot_testing[:,1], alpha = 0.1, c = y_test.ravel())\n",
    "contours = plt.contour(xg,yg,probability_contour)\n",
    "plt.clabel(contours, inline = True );"
   ]
  }
 ],
 "metadata": {
  "kernelspec": {
   "display_name": "Python 3",
   "language": "python",
   "name": "python3"
  },
  "language_info": {
   "codemirror_mode": {
    "name": "ipython",
    "version": 3
   },
   "file_extension": ".py",
   "mimetype": "text/x-python",
   "name": "python",
   "nbconvert_exporter": "python",
   "pygments_lexer": "ipython3",
   "version": "3.6.11"
  },
  "papermill": {
   "duration": 158.351804,
   "end_time": "2020-08-29T00:19:57.054570",
   "environment_variables": {},
   "exception": null,
   "input_path": "2020-08-07-NN-new.ipynb",
   "output_path": "2020-08-07-NN-new.ipynb",
   "parameters": {},
   "start_time": "2020-08-29T00:17:18.702766",
   "version": "2.1.2"
  }
 },
 "nbformat": 4,
 "nbformat_minor": 4
}