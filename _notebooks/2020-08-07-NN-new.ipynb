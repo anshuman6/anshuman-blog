{
 "cells": [
  {
   "cell_type": "markdown",
   "metadata": {
    "papermill": {
     "duration": 0.026427,
     "end_time": "2020-08-28T00:31:40.590396",
     "exception": false,
     "start_time": "2020-08-28T00:31:40.563969",
     "status": "completed"
    },
    "tags": []
   },
   "source": [
    "# \"Building a basic Neural Network from scratch - Kudzu\"\n",
    "\n",
    "- badges: true\n",
    "- author: Anshuman Gupta"
   ]
  },
  {
   "cell_type": "markdown",
   "metadata": {
    "papermill": {
     "duration": 0.024116,
     "end_time": "2020-08-28T00:31:40.640288",
     "exception": false,
     "start_time": "2020-08-28T00:31:40.616172",
     "status": "completed"
    },
    "tags": []
   },
   "source": [
    "#### In this project, the idea is to write a classifier to differentiate between handwritten digits 3 and 8, from the MNIST database.\n",
    "\n",
    "#### I will using a custom built neural network library called Kudzu.This has been developed as a part of KTF/Foundations course of Univ.ai (www.univ.ai). The source code for Kudzu Library and and this notebook can be found on my git-hub profile : www.https://github.com/anshuman6 under the folder project-solution. Any feedback and comments are welcome. Please feel free to email me at: anshuman6@gmail.com\n",
    "\n",
    "#### 1. I will be using the MNIST database. \n",
    "\n",
    "#### 2. I will be comparing the results of the 4 layer NN to a standard logistic regression"
   ]
  },
  {
   "cell_type": "markdown",
   "metadata": {
    "papermill": {
     "duration": 0.025125,
     "end_time": "2020-08-28T00:31:40.690997",
     "exception": false,
     "start_time": "2020-08-28T00:31:40.665872",
     "status": "completed"
    },
    "tags": []
   },
   "source": [
    "##### Importing all the necessary libraries"
   ]
  },
  {
   "cell_type": "code",
   "execution_count": 1,
   "metadata": {
    "execution": {
     "iopub.execute_input": "2020-08-28T00:31:40.742879Z",
     "iopub.status.busy": "2020-08-28T00:31:40.742335Z",
     "iopub.status.idle": "2020-08-28T00:31:40.751674Z",
     "shell.execute_reply": "2020-08-28T00:31:40.752133Z"
    },
    "papermill": {
     "duration": 0.037822,
     "end_time": "2020-08-28T00:31:40.752259",
     "exception": false,
     "start_time": "2020-08-28T00:31:40.714437",
     "status": "completed"
    },
    "tags": []
   },
   "outputs": [],
   "source": [
    "%load_ext autoreload\n",
    "%autoreload 2"
   ]
  },
  {
   "cell_type": "code",
   "execution_count": 2,
   "metadata": {
    "execution": {
     "iopub.execute_input": "2020-08-28T00:31:40.803959Z",
     "iopub.status.busy": "2020-08-28T00:31:40.803480Z",
     "iopub.status.idle": "2020-08-28T00:31:41.310410Z",
     "shell.execute_reply": "2020-08-28T00:31:41.310977Z"
    },
    "papermill": {
     "duration": 0.534902,
     "end_time": "2020-08-28T00:31:41.311165",
     "exception": false,
     "start_time": "2020-08-28T00:31:40.776263",
     "status": "completed"
    },
    "tags": []
   },
   "outputs": [],
   "source": [
    "%matplotlib inline\n",
    "import numpy as np\n",
    "import matplotlib.pyplot as plt\n",
    "import pandas as pd"
   ]
  },
  {
   "cell_type": "markdown",
   "metadata": {
    "papermill": {
     "duration": 0.025619,
     "end_time": "2020-08-28T00:31:41.364158",
     "exception": false,
     "start_time": "2020-08-28T00:31:41.338539",
     "status": "completed"
    },
    "tags": []
   },
   "source": [
    "##### The following command helps us download MNIST from notebook itself. You can skip this if you already have MNIST. You can also download it via your terminal."
   ]
  },
  {
   "cell_type": "code",
   "execution_count": 3,
   "metadata": {
    "execution": {
     "iopub.execute_input": "2020-08-28T00:31:41.414286Z",
     "iopub.status.busy": "2020-08-28T00:31:41.413749Z",
     "iopub.status.idle": "2020-08-28T00:31:42.680607Z",
     "shell.execute_reply": "2020-08-28T00:31:42.680053Z"
    },
    "papermill": {
     "duration": 1.293947,
     "end_time": "2020-08-28T00:31:42.680741",
     "exception": false,
     "start_time": "2020-08-28T00:31:41.386794",
     "status": "completed"
    },
    "tags": []
   },
   "outputs": [
    {
     "name": "stdout",
     "output_type": "stream",
     "text": [
      "Collecting mnist\r\n"
     ]
    },
    {
     "name": "stdout",
     "output_type": "stream",
     "text": [
      "  Downloading mnist-0.2.2-py2.py3-none-any.whl (3.5 kB)\r\n"
     ]
    },
    {
     "name": "stdout",
     "output_type": "stream",
     "text": [
      "Requirement already satisfied: numpy in /opt/hostedtoolcache/Python/3.6.11/x64/lib/python3.6/site-packages (from mnist) (1.19.1)\r\n"
     ]
    },
    {
     "name": "stdout",
     "output_type": "stream",
     "text": [
      "Installing collected packages: mnist\r\n",
      "Successfully installed mnist-0.2.2\r\n"
     ]
    }
   ],
   "source": [
    "!pip install mnist # Please note, it is commented out for now, you can remove comment if you want to install it"
   ]
  },
  {
   "cell_type": "markdown",
   "metadata": {
    "papermill": {
     "duration": 0.023089,
     "end_time": "2020-08-28T00:31:42.732153",
     "exception": false,
     "start_time": "2020-08-28T00:31:42.709064",
     "status": "completed"
    },
    "tags": []
   },
   "source": [
    "#### Preparing the Data"
   ]
  },
  {
   "cell_type": "code",
   "execution_count": 4,
   "metadata": {
    "execution": {
     "iopub.execute_input": "2020-08-28T00:31:42.793600Z",
     "iopub.status.busy": "2020-08-28T00:31:42.786894Z",
     "iopub.status.idle": "2020-08-28T00:31:42.799854Z",
     "shell.execute_reply": "2020-08-28T00:31:42.799391Z"
    },
    "papermill": {
     "duration": 0.040991,
     "end_time": "2020-08-28T00:31:42.799965",
     "exception": false,
     "start_time": "2020-08-28T00:31:42.758974",
     "status": "completed"
    },
    "tags": []
   },
   "outputs": [],
   "source": [
    "import mnist"
   ]
  },
  {
   "cell_type": "code",
   "execution_count": 5,
   "metadata": {
    "execution": {
     "iopub.execute_input": "2020-08-28T00:31:42.856475Z",
     "iopub.status.busy": "2020-08-28T00:31:42.855942Z",
     "iopub.status.idle": "2020-08-28T00:31:43.595421Z",
     "shell.execute_reply": "2020-08-28T00:31:43.594816Z"
    },
    "papermill": {
     "duration": 0.768765,
     "end_time": "2020-08-28T00:31:43.595581",
     "exception": false,
     "start_time": "2020-08-28T00:31:42.826816",
     "status": "completed"
    },
    "tags": []
   },
   "outputs": [],
   "source": [
    "train_images = mnist.train_images()\n",
    "train_labels = mnist.train_labels()"
   ]
  },
  {
   "cell_type": "code",
   "execution_count": 6,
   "metadata": {
    "execution": {
     "iopub.execute_input": "2020-08-28T00:31:43.646073Z",
     "iopub.status.busy": "2020-08-28T00:31:43.645539Z",
     "iopub.status.idle": "2020-08-28T00:31:43.658880Z",
     "shell.execute_reply": "2020-08-28T00:31:43.658474Z"
    },
    "papermill": {
     "duration": 0.039716,
     "end_time": "2020-08-28T00:31:43.658981",
     "exception": false,
     "start_time": "2020-08-28T00:31:43.619265",
     "status": "completed"
    },
    "tags": []
   },
   "outputs": [
    {
     "data": {
      "text/plain": [
       "((60000, 28, 28), (60000,))"
      ]
     },
     "execution_count": 6,
     "metadata": {},
     "output_type": "execute_result"
    }
   ],
   "source": [
    "train_images.shape, train_labels.shape"
   ]
  },
  {
   "cell_type": "code",
   "execution_count": 7,
   "metadata": {
    "execution": {
     "iopub.execute_input": "2020-08-28T00:31:43.715535Z",
     "iopub.status.busy": "2020-08-28T00:31:43.715061Z",
     "iopub.status.idle": "2020-08-28T00:31:43.991838Z",
     "shell.execute_reply": "2020-08-28T00:31:43.991274Z"
    },
    "papermill": {
     "duration": 0.305869,
     "end_time": "2020-08-28T00:31:43.991972",
     "exception": false,
     "start_time": "2020-08-28T00:31:43.686103",
     "status": "completed"
    },
    "tags": []
   },
   "outputs": [],
   "source": [
    "test_images = mnist.test_images()\n",
    "test_labels = mnist.test_labels()"
   ]
  },
  {
   "cell_type": "code",
   "execution_count": 8,
   "metadata": {
    "execution": {
     "iopub.execute_input": "2020-08-28T00:31:44.044066Z",
     "iopub.status.busy": "2020-08-28T00:31:44.043597Z",
     "iopub.status.idle": "2020-08-28T00:31:44.056361Z",
     "shell.execute_reply": "2020-08-28T00:31:44.056823Z"
    },
    "papermill": {
     "duration": 0.041122,
     "end_time": "2020-08-28T00:31:44.056994",
     "exception": false,
     "start_time": "2020-08-28T00:31:44.015872",
     "status": "completed"
    },
    "tags": []
   },
   "outputs": [
    {
     "data": {
      "text/plain": [
       "((10000, 28, 28), (10000,))"
      ]
     },
     "execution_count": 8,
     "metadata": {},
     "output_type": "execute_result"
    }
   ],
   "source": [
    "test_images.shape, test_labels.shape"
   ]
  },
  {
   "cell_type": "code",
   "execution_count": 9,
   "metadata": {
    "execution": {
     "iopub.execute_input": "2020-08-28T00:31:44.108728Z",
     "iopub.status.busy": "2020-08-28T00:31:44.108101Z",
     "iopub.status.idle": "2020-08-28T00:31:44.241688Z",
     "shell.execute_reply": "2020-08-28T00:31:44.242249Z"
    },
    "papermill": {
     "duration": 0.161828,
     "end_time": "2020-08-28T00:31:44.242416",
     "exception": false,
     "start_time": "2020-08-28T00:31:44.080588",
     "status": "completed"
    },
    "tags": []
   },
   "outputs": [
    {
     "name": "stdout",
     "output_type": "stream",
     "text": [
      "2\n"
     ]
    },
    {
     "data": {
      "text/plain": [
       "<matplotlib.image.AxesImage at 0x7f946c8e5b38>"
      ]
     },
     "execution_count": 9,
     "metadata": {},
     "output_type": "execute_result"
    },
    {
     "data": {
      "image/png": "[encoded data removed]",
      "text/plain": [
       "<Figure size 432x288 with 1 Axes>"
      ]
     },
     "metadata": {
      "needs_background": "light"
     },
     "output_type": "display_data"
    }
   ],
   "source": [
    "image_index = 7776 # You may select anything up to 60,000\n",
    "print(train_labels[image_index]) \n",
    "plt.imshow(train_images[image_index], cmap='Greys')"
   ]
  },
  {
   "cell_type": "markdown",
   "metadata": {
    "papermill": {
     "duration": 0.026786,
     "end_time": "2020-08-28T00:31:44.295921",
     "exception": false,
     "start_time": "2020-08-28T00:31:44.269135",
     "status": "completed"
    },
    "tags": []
   },
   "source": [
    "## Filter data to get 3 and 8 out"
   ]
  },
  {
   "cell_type": "code",
   "execution_count": 10,
   "metadata": {
    "execution": {
     "iopub.execute_input": "2020-08-28T00:31:44.351108Z",
     "iopub.status.busy": "2020-08-28T00:31:44.350549Z",
     "iopub.status.idle": "2020-08-28T00:31:44.366724Z",
     "shell.execute_reply": "2020-08-28T00:31:44.366318Z"
    },
    "papermill": {
     "duration": 0.047277,
     "end_time": "2020-08-28T00:31:44.366822",
     "exception": false,
     "start_time": "2020-08-28T00:31:44.319545",
     "status": "completed"
    },
    "tags": []
   },
   "outputs": [],
   "source": [
    "train_filter = np.where((train_labels == 3 ) | (train_labels == 8))\n",
    "test_filter = np.where((test_labels == 3) | (test_labels == 8))\n",
    "X_train, y_train = train_images[train_filter], train_labels[train_filter]\n",
    "X_test, y_test = test_images[test_filter], test_labels[test_filter]"
   ]
  },
  {
   "cell_type": "markdown",
   "metadata": {
    "papermill": {
     "duration": 0.027693,
     "end_time": "2020-08-28T00:31:44.420242",
     "exception": false,
     "start_time": "2020-08-28T00:31:44.392549",
     "status": "completed"
    },
    "tags": []
   },
   "source": [
    "##### We normalize the pizel values in the 0 to 1 range"
   ]
  },
  {
   "cell_type": "code",
   "execution_count": 11,
   "metadata": {
    "execution": {
     "iopub.execute_input": "2020-08-28T00:31:44.477928Z",
     "iopub.status.busy": "2020-08-28T00:31:44.477520Z",
     "iopub.status.idle": "2020-08-28T00:31:44.523531Z",
     "shell.execute_reply": "2020-08-28T00:31:44.522899Z"
    },
    "papermill": {
     "duration": 0.076261,
     "end_time": "2020-08-28T00:31:44.523684",
     "exception": false,
     "start_time": "2020-08-28T00:31:44.447423",
     "status": "completed"
    },
    "tags": []
   },
   "outputs": [],
   "source": [
    "X_train = X_train/255.\n",
    "X_test = X_test/255."
   ]
  },
  {
   "cell_type": "markdown",
   "metadata": {
    "papermill": {
     "duration": 0.026403,
     "end_time": "2020-08-28T00:31:44.579611",
     "exception": false,
     "start_time": "2020-08-28T00:31:44.553208",
     "status": "completed"
    },
    "tags": []
   },
   "source": [
    "And setup the labels as 1 (when the digit is 3) and 0 (when the digit is 8)"
   ]
  },
  {
   "cell_type": "code",
   "execution_count": 12,
   "metadata": {
    "execution": {
     "iopub.execute_input": "2020-08-28T00:31:44.638824Z",
     "iopub.status.busy": "2020-08-28T00:31:44.638350Z",
     "iopub.status.idle": "2020-08-28T00:31:44.649755Z",
     "shell.execute_reply": "2020-08-28T00:31:44.649313Z"
    },
    "papermill": {
     "duration": 0.042372,
     "end_time": "2020-08-28T00:31:44.649857",
     "exception": false,
     "start_time": "2020-08-28T00:31:44.607485",
     "status": "completed"
    },
    "tags": []
   },
   "outputs": [],
   "source": [
    "y_train = 1*(y_train==3)\n",
    "y_test = 1*(y_test==3)"
   ]
  },
  {
   "cell_type": "code",
   "execution_count": 13,
   "metadata": {
    "execution": {
     "iopub.execute_input": "2020-08-28T00:31:44.704565Z",
     "iopub.status.busy": "2020-08-28T00:31:44.704011Z",
     "iopub.status.idle": "2020-08-28T00:31:44.726992Z",
     "shell.execute_reply": "2020-08-28T00:31:44.727352Z"
    },
    "papermill": {
     "duration": 0.052401,
     "end_time": "2020-08-28T00:31:44.727467",
     "exception": false,
     "start_time": "2020-08-28T00:31:44.675066",
     "status": "completed"
    },
    "tags": []
   },
   "outputs": [
    {
     "data": {
      "text/plain": [
       "((11982, 28, 28), (1984, 28, 28))"
      ]
     },
     "execution_count": 13,
     "metadata": {},
     "output_type": "execute_result"
    }
   ],
   "source": [
    "X_train.shape, X_test.shape"
   ]
  },
  {
   "cell_type": "markdown",
   "metadata": {
    "papermill": {
     "duration": 0.02652,
     "end_time": "2020-08-28T00:31:44.781096",
     "exception": false,
     "start_time": "2020-08-28T00:31:44.754576",
     "status": "completed"
    },
    "tags": []
   },
   "source": [
    "##### We reshape the data to flatten the image pixels into a set of features or co-variates:"
   ]
  },
  {
   "cell_type": "code",
   "execution_count": 14,
   "metadata": {
    "execution": {
     "iopub.execute_input": "2020-08-28T00:31:44.841572Z",
     "iopub.status.busy": "2020-08-28T00:31:44.835251Z",
     "iopub.status.idle": "2020-08-28T00:31:44.847119Z",
     "shell.execute_reply": "2020-08-28T00:31:44.846688Z"
    },
    "papermill": {
     "duration": 0.041181,
     "end_time": "2020-08-28T00:31:44.847231",
     "exception": false,
     "start_time": "2020-08-28T00:31:44.806050",
     "status": "completed"
    },
    "tags": []
   },
   "outputs": [
    {
     "data": {
      "text/plain": [
       "((11982, 784), (1984, 784))"
      ]
     },
     "execution_count": 14,
     "metadata": {},
     "output_type": "execute_result"
    }
   ],
   "source": [
    "X_train = X_train.reshape(X_train.shape[0], -1)\n",
    "X_test = X_test.reshape(X_test.shape[0], -1)\n",
    "X_train.shape, X_test.shape"
   ]
  },
  {
   "cell_type": "markdown",
   "metadata": {
    "papermill": {
     "duration": 0.026999,
     "end_time": "2020-08-28T00:31:44.901179",
     "exception": false,
     "start_time": "2020-08-28T00:31:44.874180",
     "status": "completed"
    },
    "tags": []
   },
   "source": [
    "##### Importing Kudzu library and its functionality"
   ]
  },
  {
   "cell_type": "code",
   "execution_count": 15,
   "metadata": {
    "execution": {
     "iopub.execute_input": "2020-08-28T00:31:44.962463Z",
     "iopub.status.busy": "2020-08-28T00:31:44.961928Z",
     "iopub.status.idle": "2020-08-28T00:31:44.979182Z",
     "shell.execute_reply": "2020-08-28T00:31:44.978829Z"
    },
    "papermill": {
     "duration": 0.050117,
     "end_time": "2020-08-28T00:31:44.979268",
     "exception": false,
     "start_time": "2020-08-28T00:31:44.929151",
     "status": "completed"
    },
    "tags": []
   },
   "outputs": [],
   "source": [
    "from kudzu.data import Data, Dataloader, Sampler\n",
    "from kudzu.callbacks import AccCallback\n",
    "from kudzu.loss import MSE\n",
    "from kudzu.layer import Affine, Sigmoid\n",
    "from kudzu.model import Model\n",
    "from kudzu.optim import GD\n",
    "from kudzu.train import Learner\n",
    "from kudzu.callbacks import ClfCallback\n",
    "from kudzu.layer import Sigmoid\n",
    "from kudzu.layer import Relu"
   ]
  },
  {
   "cell_type": "markdown",
   "metadata": {
    "papermill": {
     "duration": 0.026307,
     "end_time": "2020-08-28T00:31:45.030989",
     "exception": false,
     "start_time": "2020-08-28T00:31:45.004682",
     "status": "completed"
    },
    "tags": []
   },
   "source": [
    "##### We are creating a class, just so that we can use it to store our parameters for us"
   ]
  },
  {
   "cell_type": "code",
   "execution_count": 16,
   "metadata": {
    "execution": {
     "iopub.execute_input": "2020-08-28T00:31:45.091878Z",
     "iopub.status.busy": "2020-08-28T00:31:45.091333Z",
     "iopub.status.idle": "2020-08-28T00:31:45.103299Z",
     "shell.execute_reply": "2020-08-28T00:31:45.103694Z"
    },
    "papermill": {
     "duration": 0.043048,
     "end_time": "2020-08-28T00:31:45.103805",
     "exception": false,
     "start_time": "2020-08-28T00:31:45.060757",
     "status": "completed"
    },
    "tags": []
   },
   "outputs": [],
   "source": [
    "class Config:\n",
    "    pass\n",
    "config = Config()\n",
    "config.lr = 0.001\n",
    "config.num_epochs = 250\n",
    "config.bs = 50"
   ]
  },
  {
   "cell_type": "markdown",
   "metadata": {
    "papermill": {
     "duration": 0.025753,
     "end_time": "2020-08-28T00:31:45.156812",
     "exception": false,
     "start_time": "2020-08-28T00:31:45.131059",
     "status": "completed"
    },
    "tags": []
   },
   "source": [
    "##### Initializing Data"
   ]
  },
  {
   "cell_type": "code",
   "execution_count": 17,
   "metadata": {
    "execution": {
     "iopub.execute_input": "2020-08-28T00:31:45.214261Z",
     "iopub.status.busy": "2020-08-28T00:31:45.213707Z",
     "iopub.status.idle": "2020-08-28T00:31:45.225234Z",
     "shell.execute_reply": "2020-08-28T00:31:45.225730Z"
    },
    "papermill": {
     "duration": 0.042628,
     "end_time": "2020-08-28T00:31:45.225868",
     "exception": false,
     "start_time": "2020-08-28T00:31:45.183240",
     "status": "completed"
    },
    "tags": []
   },
   "outputs": [],
   "source": [
    "data = Data(X_train, y_train.reshape(-1,1))\n",
    "loss = MSE()\n",
    "opt = GD(config.lr)\n",
    "sampler = Sampler(data, config.bs, shuffle=True)\n",
    "dl = Dataloader(data, sampler)"
   ]
  },
  {
   "cell_type": "markdown",
   "metadata": {
    "papermill": {
     "duration": 0.027698,
     "end_time": "2020-08-28T00:31:45.280074",
     "exception": false,
     "start_time": "2020-08-28T00:31:45.252376",
     "status": "completed"
    },
    "tags": []
   },
   "source": [
    "##### Constructing 2 different layers, one for NN and one only for logistic regression."
   ]
  },
  {
   "cell_type": "markdown",
   "metadata": {
    "papermill": {
     "duration": 0.028098,
     "end_time": "2020-08-28T00:31:45.339145",
     "exception": false,
     "start_time": "2020-08-28T00:31:45.311047",
     "status": "completed"
    },
    "tags": []
   },
   "source": [
    "##### Creating containers for data to be passed, to calculate accuracies"
   ]
  },
  {
   "cell_type": "code",
   "execution_count": 18,
   "metadata": {
    "execution": {
     "iopub.execute_input": "2020-08-28T00:31:45.395384Z",
     "iopub.status.busy": "2020-08-28T00:31:45.394902Z",
     "iopub.status.idle": "2020-08-28T00:31:45.405815Z",
     "shell.execute_reply": "2020-08-28T00:31:45.406362Z"
    },
    "papermill": {
     "duration": 0.040842,
     "end_time": "2020-08-28T00:31:45.406500",
     "exception": false,
     "start_time": "2020-08-28T00:31:45.365658",
     "status": "completed"
    },
    "tags": []
   },
   "outputs": [],
   "source": [
    "training_xdata = X_train\n",
    "testing_xdata = X_test\n",
    "training_ydata = y_train.reshape(-1,1)\n",
    "testing_ydata = y_test.reshape(-1,1)"
   ]
  },
  {
   "cell_type": "markdown",
   "metadata": {
    "papermill": {
     "duration": 0.026527,
     "end_time": "2020-08-28T00:31:45.457765",
     "exception": false,
     "start_time": "2020-08-28T00:31:45.431238",
     "status": "completed"
    },
    "tags": []
   },
   "source": [
    "##### Initializing models and Running training loop: "
   ]
  },
  {
   "cell_type": "code",
   "execution_count": 19,
   "metadata": {
    "execution": {
     "iopub.execute_input": "2020-08-28T00:31:45.513211Z",
     "iopub.status.busy": "2020-08-28T00:31:45.512710Z",
     "iopub.status.idle": "2020-08-28T00:31:45.529767Z",
     "shell.execute_reply": "2020-08-28T00:31:45.529179Z"
    },
    "papermill": {
     "duration": 0.04668,
     "end_time": "2020-08-28T00:31:45.529903",
     "exception": false,
     "start_time": "2020-08-28T00:31:45.483223",
     "status": "completed"
    },
    "tags": []
   },
   "outputs": [],
   "source": [
    "layers = [Affine(\"first\", 784, 100), Relu(\"first\"), Affine(\"second\", 100, 100), Relu(\"second\"), Affine(\"third\", 100, 2), Affine(\"final\", 2, 1), Sigmoid(\"final\")]\n",
    "\n",
    "model_neural = Model(layers)\n",
    "model_logistic = Model([Affine(\"logits\", 784, 1), Sigmoid(\"sigmoid\")])"
   ]
  },
  {
   "cell_type": "code",
   "execution_count": 20,
   "metadata": {
    "execution": {
     "iopub.execute_input": "2020-08-28T00:31:45.589800Z",
     "iopub.status.busy": "2020-08-28T00:31:45.589314Z",
     "iopub.status.idle": "2020-08-28T00:31:45.601236Z",
     "shell.execute_reply": "2020-08-28T00:31:45.600742Z"
    },
    "papermill": {
     "duration": 0.042311,
     "end_time": "2020-08-28T00:31:45.601355",
     "exception": false,
     "start_time": "2020-08-28T00:31:45.559044",
     "status": "completed"
    },
    "tags": []
   },
   "outputs": [],
   "source": [
    "learner1 = Learner(loss, model_neural, opt, config.num_epochs)\n",
    "acc1 = ClfCallback(learner1, config.bs, training_xdata , testing_xdata, training_ydata, testing_ydata)\n",
    "learner1.set_callbacks([acc1])"
   ]
  },
  {
   "cell_type": "code",
   "execution_count": 21,
   "metadata": {
    "execution": {
     "iopub.execute_input": "2020-08-28T00:31:45.657932Z",
     "iopub.status.busy": "2020-08-28T00:31:45.657400Z",
     "iopub.status.idle": "2020-08-28T00:33:05.419023Z",
     "shell.execute_reply": "2020-08-28T00:33:05.418521Z"
    },
    "papermill": {
     "duration": 79.790154,
     "end_time": "2020-08-28T00:33:05.419153",
     "exception": false,
     "start_time": "2020-08-28T00:31:45.628999",
     "status": "completed"
    },
    "tags": []
   },
   "outputs": [
    {
     "name": "stdout",
     "output_type": "stream",
     "text": [
      "Epoch 0 Loss 0.24076002564536203\n",
      "train accuracy is: 0.6558170589217159, test accuracy is 0.6890120967741935\n"
     ]
    },
    {
     "name": "stdout",
     "output_type": "stream",
     "text": [
      "Epoch 10 Loss 0.13961581344490356\n",
      "train accuracy is: 0.8975963945918878, test accuracy is 0.9107862903225806\n"
     ]
    },
    {
     "name": "stdout",
     "output_type": "stream",
     "text": [
      "Epoch 20 Loss 0.07244583259619752\n",
      "train accuracy is: 0.9264730428976798, test accuracy is 0.9400201612903226\n"
     ]
    },
    {
     "name": "stdout",
     "output_type": "stream",
     "text": [
      "Epoch 30 Loss 0.05204537409579019\n",
      "train accuracy is: 0.943331664162911, test accuracy is 0.9526209677419355\n"
     ]
    },
    {
     "name": "stdout",
     "output_type": "stream",
     "text": [
      "Epoch 40 Loss 0.04307091527174591\n",
      "train accuracy is: 0.9515940577532966, test accuracy is 0.9621975806451613\n"
     ]
    },
    {
     "name": "stdout",
     "output_type": "stream",
     "text": [
      "Epoch 50 Loss 0.03814980977432138\n",
      "train accuracy is: 0.958103822400267, test accuracy is 0.9637096774193549\n"
     ]
    },
    {
     "name": "stdout",
     "output_type": "stream",
     "text": [
      "Epoch 60 Loss 0.035020826144308057\n",
      "train accuracy is: 0.9606910365548322, test accuracy is 0.9647177419354839\n"
     ]
    },
    {
     "name": "stdout",
     "output_type": "stream",
     "text": [
      "Epoch 70 Loss 0.032788011286519494\n",
      "train accuracy is: 0.9627774995827074, test accuracy is 0.9642137096774194\n"
     ]
    },
    {
     "name": "stdout",
     "output_type": "stream",
     "text": [
      "Epoch 80 Loss 0.031113914047037835\n",
      "train accuracy is: 0.9649474211316975, test accuracy is 0.9657258064516129\n"
     ]
    },
    {
     "name": "stdout",
     "output_type": "stream",
     "text": [
      "Epoch 90 Loss 0.029767781047034054\n",
      "train accuracy is: 0.9662827574695376, test accuracy is 0.9667338709677419\n"
     ]
    },
    {
     "name": "stdout",
     "output_type": "stream",
     "text": [
      "Epoch 100 Loss 0.02865193404366689\n",
      "train accuracy is: 0.9672008012018027, test accuracy is 0.9667338709677419\n"
     ]
    },
    {
     "name": "stdout",
     "output_type": "stream",
     "text": [
      "Epoch 110 Loss 0.027693786742346984\n",
      "train accuracy is: 0.9677015523284928, test accuracy is 0.967741935483871\n"
     ]
    },
    {
     "name": "stdout",
     "output_type": "stream",
     "text": [
      "Epoch 120 Loss 0.026863696700170678\n",
      "train accuracy is: 0.9692872642296778, test accuracy is 0.9682459677419355\n"
     ]
    },
    {
     "name": "stdout",
     "output_type": "stream",
     "text": [
      "Epoch 130 Loss 0.026124844215683833\n",
      "train accuracy is: 0.9697045568352529, test accuracy is 0.9682459677419355\n"
     ]
    },
    {
     "name": "stdout",
     "output_type": "stream",
     "text": [
      "Epoch 140 Loss 0.025455628283446958\n",
      "train accuracy is: 0.970372225004173, test accuracy is 0.9672379032258065\n"
     ]
    },
    {
     "name": "stdout",
     "output_type": "stream",
     "text": [
      "Epoch 150 Loss 0.024847838381302476\n",
      "train accuracy is: 0.971039893173093, test accuracy is 0.967741935483871\n"
     ]
    },
    {
     "name": "stdout",
     "output_type": "stream",
     "text": [
      "Epoch 160 Loss 0.024293310105881937\n",
      "train accuracy is: 0.9716241028208981, test accuracy is 0.96875\n"
     ]
    },
    {
     "name": "stdout",
     "output_type": "stream",
     "text": [
      "Epoch 170 Loss 0.02377374806307591\n",
      "train accuracy is: 0.9727090635953931, test accuracy is 0.9692540322580645\n"
     ]
    },
    {
     "name": "stdout",
     "output_type": "stream",
     "text": [
      "Epoch 180 Loss 0.023288997204108514\n",
      "train accuracy is: 0.9735436488065431, test accuracy is 0.9702620967741935\n"
     ]
    },
    {
     "name": "stdout",
     "output_type": "stream",
     "text": [
      "Epoch 190 Loss 0.0228324485566818\n",
      "train accuracy is: 0.9738774828910032, test accuracy is 0.9707661290322581\n"
     ]
    },
    {
     "name": "stdout",
     "output_type": "stream",
     "text": [
      "Epoch 200 Loss 0.022402524010246623\n",
      "train accuracy is: 0.9741278584543482, test accuracy is 0.9707661290322581\n"
     ]
    },
    {
     "name": "stdout",
     "output_type": "stream",
     "text": [
      "Epoch 210 Loss 0.021992271712732634\n",
      "train accuracy is: 0.9747120681021533, test accuracy is 0.9702620967741935\n"
     ]
    },
    {
     "name": "stdout",
     "output_type": "stream",
     "text": [
      "Epoch 220 Loss 0.02160516016409314\n",
      "train accuracy is: 0.9750459021866132, test accuracy is 0.9702620967741935\n"
     ]
    },
    {
     "name": "stdout",
     "output_type": "stream",
     "text": [
      "Epoch 230 Loss 0.021229344715104112\n",
      "train accuracy is: 0.9758804873977633, test accuracy is 0.9707661290322581\n"
     ]
    },
    {
     "name": "stdout",
     "output_type": "stream",
     "text": [
      "Epoch 240 Loss 0.020872540792815933\n",
      "train accuracy is: 0.9760474044399933, test accuracy is 0.9707661290322581\n"
     ]
    },
    {
     "data": {
      "text/plain": [
       "0.025268206285136447"
      ]
     },
     "execution_count": 21,
     "metadata": {},
     "output_type": "execute_result"
    }
   ],
   "source": [
    "learner1.train_loop(dl)"
   ]
  },
  {
   "cell_type": "markdown",
   "metadata": {
    "papermill": {
     "duration": 0.036887,
     "end_time": "2020-08-28T00:33:05.491736",
     "exception": false,
     "start_time": "2020-08-28T00:33:05.454849",
     "status": "completed"
    },
    "tags": []
   },
   "source": [
    "##### Now running only the logistic regression based classification to compare results with NN"
   ]
  },
  {
   "cell_type": "code",
   "execution_count": 22,
   "metadata": {
    "execution": {
     "iopub.execute_input": "2020-08-28T00:33:05.566043Z",
     "iopub.status.busy": "2020-08-28T00:33:05.565497Z",
     "iopub.status.idle": "2020-08-28T00:33:05.576248Z",
     "shell.execute_reply": "2020-08-28T00:33:05.576695Z"
    },
    "papermill": {
     "duration": 0.049638,
     "end_time": "2020-08-28T00:33:05.576838",
     "exception": false,
     "start_time": "2020-08-28T00:33:05.527200",
     "status": "completed"
    },
    "tags": []
   },
   "outputs": [],
   "source": [
    "learner2 = Learner(loss, model_logistic, opt, config.num_epochs)\n",
    "acc2 = ClfCallback(learner2, config.bs, training_xdata , testing_xdata, training_ydata, testing_ydata)\n",
    "learner2.set_callbacks([acc2])"
   ]
  },
  {
   "cell_type": "code",
   "execution_count": 23,
   "metadata": {
    "execution": {
     "iopub.execute_input": "2020-08-28T00:33:05.653826Z",
     "iopub.status.busy": "2020-08-28T00:33:05.653287Z",
     "iopub.status.idle": "2020-08-28T00:33:20.062099Z",
     "shell.execute_reply": "2020-08-28T00:33:20.062555Z"
    },
    "papermill": {
     "duration": 14.450472,
     "end_time": "2020-08-28T00:33:20.062703",
     "exception": false,
     "start_time": "2020-08-28T00:33:05.612231",
     "status": "completed"
    },
    "tags": []
   },
   "outputs": [
    {
     "name": "stdout",
     "output_type": "stream",
     "text": [
      "Epoch 0 Loss 0.23592326481419512\n",
      "train accuracy is: 0.6946252712401936, test accuracy is 0.6814516129032258\n"
     ]
    },
    {
     "name": "stdout",
     "output_type": "stream",
     "text": [
      "Epoch 10 Loss 0.1019985430128803\n",
      "train accuracy is: 0.9117843431814389, test accuracy is 0.920866935483871\n"
     ]
    },
    {
     "name": "stdout",
     "output_type": "stream",
     "text": [
      "Epoch 20 Loss 0.078103979364183\n",
      "train accuracy is: 0.9300617593056251, test accuracy is 0.9380040322580645\n"
     ]
    },
    {
     "name": "stdout",
     "output_type": "stream",
     "text": [
      "Epoch 30 Loss 0.06709227675783491\n",
      "train accuracy is: 0.9401602403605408, test accuracy is 0.9460685483870968\n"
     ]
    },
    {
     "name": "stdout",
     "output_type": "stream",
     "text": [
      "Epoch 40 Loss 0.06051862278932035\n",
      "train accuracy is: 0.9444166249374061, test accuracy is 0.9526209677419355\n"
     ]
    },
    {
     "name": "stdout",
     "output_type": "stream",
     "text": [
      "Epoch 50 Loss 0.0560737551608313\n",
      "train accuracy is: 0.9467534635286263, test accuracy is 0.9561491935483871\n"
     ]
    },
    {
     "name": "stdout",
     "output_type": "stream",
     "text": [
      "Epoch 60 Loss 0.05282899857560681\n",
      "train accuracy is: 0.9494241362043064, test accuracy is 0.9576612903225806\n"
     ]
    },
    {
     "name": "stdout",
     "output_type": "stream",
     "text": [
      "Epoch 70 Loss 0.05033671677266102\n",
      "train accuracy is: 0.9510933066266066, test accuracy is 0.9581653225806451\n"
     ]
    },
    {
     "name": "stdout",
     "output_type": "stream",
     "text": [
      "Epoch 80 Loss 0.04834641781823394\n",
      "train accuracy is: 0.9520113503588716, test accuracy is 0.9586693548387096\n"
     ]
    },
    {
     "name": "stdout",
     "output_type": "stream",
     "text": [
      "Epoch 90 Loss 0.04671409749091323\n",
      "train accuracy is: 0.9531797696544817, test accuracy is 0.9601814516129032\n"
     ]
    },
    {
     "name": "stdout",
     "output_type": "stream",
     "text": [
      "Epoch 100 Loss 0.045342177917858224\n",
      "train accuracy is: 0.9543481889500918, test accuracy is 0.9601814516129032\n"
     ]
    },
    {
     "name": "stdout",
     "output_type": "stream",
     "text": [
      "Epoch 110 Loss 0.04416868249267103\n",
      "train accuracy is: 0.9553496912034719, test accuracy is 0.9627016129032258\n"
     ]
    },
    {
     "name": "stdout",
     "output_type": "stream",
     "text": [
      "Epoch 120 Loss 0.04314964037232204\n",
      "train accuracy is: 0.9561842764146219, test accuracy is 0.9652217741935484\n"
     ]
    },
    {
     "name": "stdout",
     "output_type": "stream",
     "text": [
      "Epoch 130 Loss 0.0422536769531404\n",
      "train accuracy is: 0.957102320146887, test accuracy is 0.9652217741935484\n"
     ]
    },
    {
     "name": "stdout",
     "output_type": "stream",
     "text": [
      "Epoch 140 Loss 0.04145744485794255\n",
      "train accuracy is: 0.958020363879152, test accuracy is 0.9657258064516129\n"
     ]
    },
    {
     "name": "stdout",
     "output_type": "stream",
     "text": [
      "Epoch 150 Loss 0.040744086033123204\n",
      "train accuracy is: 0.9586880320480721, test accuracy is 0.9657258064516129\n"
     ]
    },
    {
     "name": "stdout",
     "output_type": "stream",
     "text": [
      "Epoch 160 Loss 0.040099434397665425\n",
      "train accuracy is: 0.9588549490903021, test accuracy is 0.9652217741935484\n"
     ]
    },
    {
     "name": "stdout",
     "output_type": "stream",
     "text": [
      "Epoch 170 Loss 0.03951332634422128\n",
      "train accuracy is: 0.9596895343014522, test accuracy is 0.9652217741935484\n"
     ]
    },
    {
     "name": "stdout",
     "output_type": "stream",
     "text": [
      "Epoch 180 Loss 0.0389768564706669\n",
      "train accuracy is: 0.9599399098647972, test accuracy is 0.9652217741935484\n"
     ]
    },
    {
     "name": "stdout",
     "output_type": "stream",
     "text": [
      "Epoch 190 Loss 0.03848360569259529\n",
      "train accuracy is: 0.9602737439492572, test accuracy is 0.9657258064516129\n"
     ]
    },
    {
     "name": "stdout",
     "output_type": "stream",
     "text": [
      "Epoch 200 Loss 0.03802747189645348\n",
      "train accuracy is: 0.9605241195126022, test accuracy is 0.9662298387096774\n"
     ]
    },
    {
     "name": "stdout",
     "output_type": "stream",
     "text": [
      "Epoch 210 Loss 0.03760425541282422\n",
      "train accuracy is: 0.9607744950759473, test accuracy is 0.9662298387096774\n"
     ]
    },
    {
     "name": "stdout",
     "output_type": "stream",
     "text": [
      "Epoch 220 Loss 0.037210291083506826\n",
      "train accuracy is: 0.9611083291604072, test accuracy is 0.9657258064516129\n"
     ]
    },
    {
     "name": "stdout",
     "output_type": "stream",
     "text": [
      "Epoch 230 Loss 0.03684136114194287\n",
      "train accuracy is: 0.9614421632448673, test accuracy is 0.9657258064516129\n"
     ]
    },
    {
     "name": "stdout",
     "output_type": "stream",
     "text": [
      "Epoch 240 Loss 0.036496166265770597\n",
      "train accuracy is: 0.9616090802870974, test accuracy is 0.9662298387096774\n"
     ]
    },
    {
     "data": {
      "text/plain": [
       "0.06340294886702191"
      ]
     },
     "execution_count": 23,
     "metadata": {},
     "output_type": "execute_result"
    }
   ],
   "source": [
    "learner2.train_loop(dl)"
   ]
  },
  {
   "cell_type": "markdown",
   "metadata": {
    "papermill": {
     "duration": 0.043374,
     "end_time": "2020-08-28T00:33:20.150045",
     "exception": false,
     "start_time": "2020-08-28T00:33:20.106671",
     "status": "completed"
    },
    "tags": []
   },
   "source": [
    "### Comparing results of NN and LR"
   ]
  },
  {
   "cell_type": "code",
   "execution_count": 24,
   "metadata": {
    "execution": {
     "iopub.execute_input": "2020-08-28T00:33:20.253537Z",
     "iopub.status.busy": "2020-08-28T00:33:20.252738Z",
     "iopub.status.idle": "2020-08-28T00:33:20.457642Z",
     "shell.execute_reply": "2020-08-28T00:33:20.457058Z"
    },
    "papermill": {
     "duration": 0.260602,
     "end_time": "2020-08-28T00:33:20.457770",
     "exception": false,
     "start_time": "2020-08-28T00:33:20.197168",
     "status": "completed"
    },
    "tags": []
   },
   "outputs": [
    {
     "data": {
      "text/plain": [
       "<matplotlib.legend.Legend at 0x7f9465d1e2e8>"
      ]
     },
     "execution_count": 24,
     "metadata": {},
     "output_type": "execute_result"
    },
    {
     "data": {
      "image/png": "[encoded data removed]",
      "text/plain": [
       "<Figure size 576x360 with 1 Axes>"
      ]
     },
     "metadata": {
      "needs_background": "light"
     },
     "output_type": "display_data"
    }
   ],
   "source": [
    "plt.figure(figsize=(8,5))\n",
    "plt.plot(acc1.val_accuracies, 'g-', label = \"Val Accuracies - NN\")\n",
    "plt.plot(acc1.accuracies, 'r-', label = \"Accuracies - NN\")\n",
    "plt.plot(acc2.val_accuracies, 'b-', label = \"Val Accuracies - Logistic Reg\")\n",
    "plt.plot(acc2.accuracies, 'k-', label = \"Accuracies - Logistic Reg\")\n",
    "plt.ylim(0.8,1) ## for a more spread out view\n",
    "plt.legend()"
   ]
  },
  {
   "cell_type": "markdown",
   "metadata": {
    "papermill": {
     "duration": 0.037251,
     "end_time": "2020-08-28T00:33:20.536968",
     "exception": false,
     "start_time": "2020-08-28T00:33:20.499717",
     "status": "completed"
    },
    "tags": []
   },
   "source": [
    "### Clearly NN has a better accuracy over LR; NN is overfitting - Validation accuracy (green) has dropped below training accuracy (orange), also they are diverging. This problem is not seen in LR"
   ]
  },
  {
   "cell_type": "markdown",
   "metadata": {
    "papermill": {
     "duration": 0.039449,
     "end_time": "2020-08-28T00:33:20.614494",
     "exception": false,
     "start_time": "2020-08-28T00:33:20.575045",
     "status": "completed"
    },
    "tags": []
   },
   "source": [
    "##### Now we will be moving through the network, till the output of the second last affine where we get a 2 dimensional output. We will be plotting this 2d output and probability contours"
   ]
  },
  {
   "cell_type": "code",
   "execution_count": 25,
   "metadata": {
    "execution": {
     "iopub.execute_input": "2020-08-28T00:33:20.699937Z",
     "iopub.status.busy": "2020-08-28T00:33:20.699462Z",
     "iopub.status.idle": "2020-08-28T00:33:20.711617Z",
     "shell.execute_reply": "2020-08-28T00:33:20.712157Z"
    },
    "papermill": {
     "duration": 0.058141,
     "end_time": "2020-08-28T00:33:20.712294",
     "exception": false,
     "start_time": "2020-08-28T00:33:20.654153",
     "status": "completed"
    },
    "tags": []
   },
   "outputs": [],
   "source": [
    "model_new = Model(layers[:-2])"
   ]
  },
  {
   "cell_type": "code",
   "execution_count": 26,
   "metadata": {
    "execution": {
     "iopub.execute_input": "2020-08-28T00:33:20.795407Z",
     "iopub.status.busy": "2020-08-28T00:33:20.794876Z",
     "iopub.status.idle": "2020-08-28T00:33:20.812401Z",
     "shell.execute_reply": "2020-08-28T00:33:20.812801Z"
    },
    "papermill": {
     "duration": 0.060716,
     "end_time": "2020-08-28T00:33:20.812932",
     "exception": false,
     "start_time": "2020-08-28T00:33:20.752216",
     "status": "completed"
    },
    "tags": []
   },
   "outputs": [],
   "source": [
    "plot_testing = model_new(testing_xdata)"
   ]
  },
  {
   "cell_type": "markdown",
   "metadata": {
    "papermill": {
     "duration": 0.040392,
     "end_time": "2020-08-28T00:33:20.894800",
     "exception": false,
     "start_time": "2020-08-28T00:33:20.854408",
     "status": "completed"
    },
    "tags": []
   },
   "source": [
    "##### Plotting the scatter plot of points and color coding by class"
   ]
  },
  {
   "cell_type": "code",
   "execution_count": 27,
   "metadata": {
    "execution": {
     "iopub.execute_input": "2020-08-28T00:33:21.005819Z",
     "iopub.status.busy": "2020-08-28T00:33:21.005281Z",
     "iopub.status.idle": "2020-08-28T00:33:21.226628Z",
     "shell.execute_reply": "2020-08-28T00:33:21.226115Z"
    },
    "papermill": {
     "duration": 0.290072,
     "end_time": "2020-08-28T00:33:21.226764",
     "exception": false,
     "start_time": "2020-08-28T00:33:20.936692",
     "status": "completed"
    },
    "tags": []
   },
   "outputs": [
    {
     "data": {
      "image/png": "[encoded data removed]",
      "text/plain": [
       "<Figure size 576x504 with 1 Axes>"
      ]
     },
     "metadata": {
      "needs_background": "light"
     },
     "output_type": "display_data"
    }
   ],
   "source": [
    "plt.figure(figsize=(8,7))\n",
    "plt.scatter(plot_testing[:,0], plot_testing[:,1], alpha = 0.1, c = y_test.ravel());"
   ]
  },
  {
   "cell_type": "markdown",
   "metadata": {
    "papermill": {
     "duration": 0.04269,
     "end_time": "2020-08-28T00:33:21.316484",
     "exception": false,
     "start_time": "2020-08-28T00:33:21.273794",
     "status": "completed"
    },
    "tags": []
   },
   "source": [
    "##### Plotting probability contours"
   ]
  },
  {
   "cell_type": "code",
   "execution_count": 28,
   "metadata": {
    "execution": {
     "iopub.execute_input": "2020-08-28T00:33:21.409157Z",
     "iopub.status.busy": "2020-08-28T00:33:21.408647Z",
     "iopub.status.idle": "2020-08-28T00:33:21.421323Z",
     "shell.execute_reply": "2020-08-28T00:33:21.420897Z"
    },
    "papermill": {
     "duration": 0.058984,
     "end_time": "2020-08-28T00:33:21.421429",
     "exception": false,
     "start_time": "2020-08-28T00:33:21.362445",
     "status": "completed"
    },
    "tags": []
   },
   "outputs": [],
   "source": [
    "model_prob = Model(layers[-2:]) ## picking only last two layers to get probability. That is affine followed by sigmoid"
   ]
  },
  {
   "cell_type": "code",
   "execution_count": 29,
   "metadata": {
    "execution": {
     "iopub.execute_input": "2020-08-28T00:33:21.510864Z",
     "iopub.status.busy": "2020-08-28T00:33:21.510313Z",
     "iopub.status.idle": "2020-08-28T00:33:21.523962Z",
     "shell.execute_reply": "2020-08-28T00:33:21.524377Z"
    },
    "papermill": {
     "duration": 0.062089,
     "end_time": "2020-08-28T00:33:21.524499",
     "exception": false,
     "start_time": "2020-08-28T00:33:21.462410",
     "status": "completed"
    },
    "tags": []
   },
   "outputs": [],
   "source": [
    "xgrid = np.linspace(-4, 1, 100) ## Adjust these values based on above chart, roughly -4 to 1\n",
    "ygrid = np.linspace(-7.5, 7.5, 100) ## Adjust these values based on above chart, roughly -7.5, 7.5\n",
    "xg, yg = np.meshgrid(xgrid, ygrid)\n",
    "# xg and yg are now both 100X100, lets convert them to single arrays \n",
    "\n",
    "xg_interim = np.ravel(xg)\n",
    "yg_interim = np.ravel(yg)\n",
    "\n",
    "## xg_interim, yg_interim are now arrays of len 10000, now we will stack them and then transpose to get desired shape of n rows, 2 columns\n",
    "\n",
    "X_interim = np.vstack((xg_interim, yg_interim)) ## Please note vstack takes in a tuple\n",
    "X = X_interim.T\n",
    "\n",
    "## We want a shape of n rows and 2 columns to be able to feed this to last affine\n",
    "## This last affine takes only two columns, hence the above transformation\n",
    "probability_contour = model_prob(X).reshape(100,100) ## to make it consistent with xg, yg"
   ]
  },
  {
   "cell_type": "code",
   "execution_count": 30,
   "metadata": {
    "execution": {
     "iopub.execute_input": "2020-08-28T00:33:21.634182Z",
     "iopub.status.busy": "2020-08-28T00:33:21.633692Z",
     "iopub.status.idle": "2020-08-28T00:33:21.850163Z",
     "shell.execute_reply": "2020-08-28T00:33:21.849577Z"
    },
    "papermill": {
     "duration": 0.278367,
     "end_time": "2020-08-28T00:33:21.850300",
     "exception": false,
     "start_time": "2020-08-28T00:33:21.571933",
     "status": "completed"
    },
    "tags": []
   },
   "outputs": [
    {
     "data": {
      "image/png": "[encoded data removed]",
      "text/plain": [
       "<Figure size 576x504 with 1 Axes>"
      ]
     },
     "metadata": {
      "needs_background": "light"
     },
     "output_type": "display_data"
    }
   ],
   "source": [
    "plt.figure(figsize=(8,7))\n",
    "plt.scatter(plot_testing[:,0], plot_testing[:,1], alpha = 0.1, c = y_test.ravel())\n",
    "contours = plt.contour(xg,yg,probability_contour)\n",
    "plt.clabel(contours, inline = True );"
   ]
  }
 ],
 "metadata": {
  "kernelspec": {
   "display_name": "Python 3",
   "language": "python",
   "name": "python3"
  },
  "language_info": {
   "codemirror_mode": {
    "name": "ipython",
    "version": 3
   },
   "file_extension": ".py",
   "mimetype": "text/x-python",
   "name": "python",
   "nbconvert_exporter": "python",
   "pygments_lexer": "ipython3",
   "version": "3.6.11"
  },
  "papermill": {
   "duration": 102.682875,
   "end_time": "2020-08-28T00:33:22.203523",
   "environment_variables": {},
   "exception": null,
   "input_path": "2020-08-07-NN-new.ipynb",
   "output_path": "2020-08-07-NN-new.ipynb",
   "parameters": {},
   "start_time": "2020-08-28T00:31:39.520648",
   "version": "2.1.2"
  }
 },
 "nbformat": 4,
 "nbformat_minor": 4
}