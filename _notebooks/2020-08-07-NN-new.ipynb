{
 "cells": [
  {
   "cell_type": "markdown",
   "metadata": {
    "papermill": {
     "duration": 0.035212,
     "end_time": "2020-08-23T00:29:45.972310",
     "exception": false,
     "start_time": "2020-08-23T00:29:45.937098",
     "status": "completed"
    },
    "tags": []
   },
   "source": [
    "# \"Building a basic Neural Network from scratch - Kudzu\"\n",
    "\n",
    "- badges: true\n",
    "- author: Anshuman Gupta"
   ]
  },
  {
   "cell_type": "markdown",
   "metadata": {
    "papermill": {
     "duration": 0.028299,
     "end_time": "2020-08-23T00:29:46.030174",
     "exception": false,
     "start_time": "2020-08-23T00:29:46.001875",
     "status": "completed"
    },
    "tags": []
   },
   "source": [
    "#### In this project, the idea is to write a classifier to differentiate between handwritten digits 3 and 8, from the MNIST database.\n",
    "\n",
    "#### I will using a custom built neural network library called Kudzu.This has been developed as a part of KTF/Foundations course of Univ.ai (www.univ.ai). The source code for Kudzu Library and and this notebook can be found on my git-hub profile : www.https://github.com/anshuman6 under the folder project-solution. Any feedback and comments are welcome. Please feel free to email me at: anshuman6@gmail.com\n",
    "\n",
    "#### 1. I will be using the MNIST database. \n",
    "\n",
    "#### 2. I will be comparing the results of the 4 layer NN to a standard logistic regression"
   ]
  },
  {
   "cell_type": "markdown",
   "metadata": {
    "papermill": {
     "duration": 0.028388,
     "end_time": "2020-08-23T00:29:46.087379",
     "exception": false,
     "start_time": "2020-08-23T00:29:46.058991",
     "status": "completed"
    },
    "tags": []
   },
   "source": [
    "##### Importing all the necessary libraries"
   ]
  },
  {
   "cell_type": "code",
   "execution_count": 1,
   "metadata": {
    "execution": {
     "iopub.execute_input": "2020-08-23T00:29:46.152436Z",
     "iopub.status.busy": "2020-08-23T00:29:46.151832Z",
     "iopub.status.idle": "2020-08-23T00:29:46.163608Z",
     "shell.execute_reply": "2020-08-23T00:29:46.164093Z"
    },
    "papermill": {
     "duration": 0.047247,
     "end_time": "2020-08-23T00:29:46.164252",
     "exception": false,
     "start_time": "2020-08-23T00:29:46.117005",
     "status": "completed"
    },
    "tags": []
   },
   "outputs": [],
   "source": [
    "%load_ext autoreload\n",
    "%autoreload 2"
   ]
  },
  {
   "cell_type": "code",
   "execution_count": 2,
   "metadata": {
    "execution": {
     "iopub.execute_input": "2020-08-23T00:29:46.227537Z",
     "iopub.status.busy": "2020-08-23T00:29:46.226938Z",
     "iopub.status.idle": "2020-08-23T00:29:46.814109Z",
     "shell.execute_reply": "2020-08-23T00:29:46.813055Z"
    },
    "papermill": {
     "duration": 0.620913,
     "end_time": "2020-08-23T00:29:46.814319",
     "exception": false,
     "start_time": "2020-08-23T00:29:46.193406",
     "status": "completed"
    },
    "tags": []
   },
   "outputs": [],
   "source": [
    "%matplotlib inline\n",
    "import numpy as np\n",
    "import matplotlib.pyplot as plt\n",
    "import pandas as pd"
   ]
  },
  {
   "cell_type": "markdown",
   "metadata": {
    "papermill": {
     "duration": 0.028784,
     "end_time": "2020-08-23T00:29:46.873147",
     "exception": false,
     "start_time": "2020-08-23T00:29:46.844363",
     "status": "completed"
    },
    "tags": []
   },
   "source": [
    "##### The following command helps us download MNIST from notebook itself. You can skip this if you already have MNIST. You can also download it via your terminal."
   ]
  },
  {
   "cell_type": "code",
   "execution_count": 3,
   "metadata": {
    "execution": {
     "iopub.execute_input": "2020-08-23T00:29:46.934623Z",
     "iopub.status.busy": "2020-08-23T00:29:46.934015Z",
     "iopub.status.idle": "2020-08-23T00:29:48.435680Z",
     "shell.execute_reply": "2020-08-23T00:29:48.434691Z"
    },
    "papermill": {
     "duration": 1.534111,
     "end_time": "2020-08-23T00:29:48.435840",
     "exception": false,
     "start_time": "2020-08-23T00:29:46.901729",
     "status": "completed"
    },
    "tags": []
   },
   "outputs": [
    {
     "name": "stdout",
     "output_type": "stream",
     "text": [
      "Collecting mnist\r\n"
     ]
    },
    {
     "name": "stdout",
     "output_type": "stream",
     "text": [
      "  Downloading mnist-0.2.2-py2.py3-none-any.whl (3.5 kB)\r\n"
     ]
    },
    {
     "name": "stdout",
     "output_type": "stream",
     "text": [
      "Requirement already satisfied: numpy in /opt/hostedtoolcache/Python/3.6.11/x64/lib/python3.6/site-packages (from mnist) (1.19.1)\r\n"
     ]
    },
    {
     "name": "stdout",
     "output_type": "stream",
     "text": [
      "Installing collected packages: mnist\r\n"
     ]
    },
    {
     "name": "stdout",
     "output_type": "stream",
     "text": [
      "Successfully installed mnist-0.2.2\r\n"
     ]
    }
   ],
   "source": [
    "!pip install mnist # Please note, it is commented out for now, you can remove comment if you want to install it"
   ]
  },
  {
   "cell_type": "markdown",
   "metadata": {
    "papermill": {
     "duration": 0.029882,
     "end_time": "2020-08-23T00:29:48.496491",
     "exception": false,
     "start_time": "2020-08-23T00:29:48.466609",
     "status": "completed"
    },
    "tags": []
   },
   "source": [
    "#### Preparing the Data"
   ]
  },
  {
   "cell_type": "code",
   "execution_count": 4,
   "metadata": {
    "execution": {
     "iopub.execute_input": "2020-08-23T00:29:48.560911Z",
     "iopub.status.busy": "2020-08-23T00:29:48.560281Z",
     "iopub.status.idle": "2020-08-23T00:29:48.576226Z",
     "shell.execute_reply": "2020-08-23T00:29:48.575696Z"
    },
    "papermill": {
     "duration": 0.049949,
     "end_time": "2020-08-23T00:29:48.576359",
     "exception": false,
     "start_time": "2020-08-23T00:29:48.526410",
     "status": "completed"
    },
    "tags": []
   },
   "outputs": [],
   "source": [
    "import mnist"
   ]
  },
  {
   "cell_type": "code",
   "execution_count": 5,
   "metadata": {
    "execution": {
     "iopub.execute_input": "2020-08-23T00:29:48.641253Z",
     "iopub.status.busy": "2020-08-23T00:29:48.639932Z",
     "iopub.status.idle": "2020-08-23T00:29:49.373538Z",
     "shell.execute_reply": "2020-08-23T00:29:49.372172Z"
    },
    "papermill": {
     "duration": 0.767279,
     "end_time": "2020-08-23T00:29:49.373687",
     "exception": false,
     "start_time": "2020-08-23T00:29:48.606408",
     "status": "completed"
    },
    "tags": []
   },
   "outputs": [],
   "source": [
    "train_images = mnist.train_images()\n",
    "train_labels = mnist.train_labels()"
   ]
  },
  {
   "cell_type": "code",
   "execution_count": 6,
   "metadata": {
    "execution": {
     "iopub.execute_input": "2020-08-23T00:29:49.439791Z",
     "iopub.status.busy": "2020-08-23T00:29:49.439186Z",
     "iopub.status.idle": "2020-08-23T00:29:49.456832Z",
     "shell.execute_reply": "2020-08-23T00:29:49.456320Z"
    },
    "papermill": {
     "duration": 0.051619,
     "end_time": "2020-08-23T00:29:49.456966",
     "exception": false,
     "start_time": "2020-08-23T00:29:49.405347",
     "status": "completed"
    },
    "tags": []
   },
   "outputs": [
    {
     "data": {
      "text/plain": [
       "((60000, 28, 28), (60000,))"
      ]
     },
     "execution_count": 6,
     "metadata": {},
     "output_type": "execute_result"
    }
   ],
   "source": [
    "train_images.shape, train_labels.shape"
   ]
  },
  {
   "cell_type": "code",
   "execution_count": 7,
   "metadata": {
    "execution": {
     "iopub.execute_input": "2020-08-23T00:29:49.522209Z",
     "iopub.status.busy": "2020-08-23T00:29:49.521613Z",
     "iopub.status.idle": "2020-08-23T00:29:49.779641Z",
     "shell.execute_reply": "2020-08-23T00:29:49.779078Z"
    },
    "papermill": {
     "duration": 0.292947,
     "end_time": "2020-08-23T00:29:49.779780",
     "exception": false,
     "start_time": "2020-08-23T00:29:49.486833",
     "status": "completed"
    },
    "tags": []
   },
   "outputs": [],
   "source": [
    "test_images = mnist.test_images()\n",
    "test_labels = mnist.test_labels()"
   ]
  },
  {
   "cell_type": "code",
   "execution_count": 8,
   "metadata": {
    "execution": {
     "iopub.execute_input": "2020-08-23T00:29:49.853945Z",
     "iopub.status.busy": "2020-08-23T00:29:49.853341Z",
     "iopub.status.idle": "2020-08-23T00:29:49.870229Z",
     "shell.execute_reply": "2020-08-23T00:29:49.869745Z"
    },
    "papermill": {
     "duration": 0.057317,
     "end_time": "2020-08-23T00:29:49.870360",
     "exception": false,
     "start_time": "2020-08-23T00:29:49.813043",
     "status": "completed"
    },
    "tags": []
   },
   "outputs": [
    {
     "data": {
      "text/plain": [
       "((10000, 28, 28), (10000,))"
      ]
     },
     "execution_count": 8,
     "metadata": {},
     "output_type": "execute_result"
    }
   ],
   "source": [
    "test_images.shape, test_labels.shape"
   ]
  },
  {
   "cell_type": "code",
   "execution_count": 9,
   "metadata": {
    "execution": {
     "iopub.execute_input": "2020-08-23T00:29:49.936246Z",
     "iopub.status.busy": "2020-08-23T00:29:49.935662Z",
     "iopub.status.idle": "2020-08-23T00:29:50.093631Z",
     "shell.execute_reply": "2020-08-23T00:29:50.092996Z"
    },
    "papermill": {
     "duration": 0.192379,
     "end_time": "2020-08-23T00:29:50.093778",
     "exception": false,
     "start_time": "2020-08-23T00:29:49.901399",
     "status": "completed"
    },
    "tags": []
   },
   "outputs": [
    {
     "name": "stdout",
     "output_type": "stream",
     "text": [
      "2\n"
     ]
    },
    {
     "data": {
      "text/plain": [
       "<matplotlib.image.AxesImage at 0x7efe645f40b8>"
      ]
     },
     "execution_count": 9,
     "metadata": {},
     "output_type": "execute_result"
    },
    {
     "data": {
      "image/png": "[encoded data removed]",
      "text/plain": [
       "<Figure size 432x288 with 1 Axes>"
      ]
     },
     "metadata": {
      "needs_background": "light"
     },
     "output_type": "display_data"
    }
   ],
   "source": [
    "image_index = 7776 # You may select anything up to 60,000\n",
    "print(train_labels[image_index]) \n",
    "plt.imshow(train_images[image_index], cmap='Greys')"
   ]
  },
  {
   "cell_type": "markdown",
   "metadata": {
    "papermill": {
     "duration": 0.031986,
     "end_time": "2020-08-23T00:29:50.158051",
     "exception": false,
     "start_time": "2020-08-23T00:29:50.126065",
     "status": "completed"
    },
    "tags": []
   },
   "source": [
    "## Filter data to get 3 and 8 out"
   ]
  },
  {
   "cell_type": "code",
   "execution_count": 10,
   "metadata": {
    "execution": {
     "iopub.execute_input": "2020-08-23T00:29:50.234627Z",
     "iopub.status.busy": "2020-08-23T00:29:50.226956Z",
     "iopub.status.idle": "2020-08-23T00:29:50.249036Z",
     "shell.execute_reply": "2020-08-23T00:29:50.249616Z"
    },
    "papermill": {
     "duration": 0.059642,
     "end_time": "2020-08-23T00:29:50.249841",
     "exception": false,
     "start_time": "2020-08-23T00:29:50.190199",
     "status": "completed"
    },
    "tags": []
   },
   "outputs": [],
   "source": [
    "train_filter = np.where((train_labels == 3 ) | (train_labels == 8))\n",
    "test_filter = np.where((test_labels == 3) | (test_labels == 8))\n",
    "X_train, y_train = train_images[train_filter], train_labels[train_filter]\n",
    "X_test, y_test = test_images[test_filter], test_labels[test_filter]"
   ]
  },
  {
   "cell_type": "markdown",
   "metadata": {
    "papermill": {
     "duration": 0.031871,
     "end_time": "2020-08-23T00:29:50.313763",
     "exception": false,
     "start_time": "2020-08-23T00:29:50.281892",
     "status": "completed"
    },
    "tags": []
   },
   "source": [
    "##### We normalize the pizel values in the 0 to 1 range"
   ]
  },
  {
   "cell_type": "code",
   "execution_count": 11,
   "metadata": {
    "execution": {
     "iopub.execute_input": "2020-08-23T00:29:50.380811Z",
     "iopub.status.busy": "2020-08-23T00:29:50.380163Z",
     "iopub.status.idle": "2020-08-23T00:29:50.437592Z",
     "shell.execute_reply": "2020-08-23T00:29:50.436897Z"
    },
    "papermill": {
     "duration": 0.092399,
     "end_time": "2020-08-23T00:29:50.437740",
     "exception": false,
     "start_time": "2020-08-23T00:29:50.345341",
     "status": "completed"
    },
    "tags": []
   },
   "outputs": [],
   "source": [
    "X_train = X_train/255.\n",
    "X_test = X_test/255."
   ]
  },
  {
   "cell_type": "markdown",
   "metadata": {
    "papermill": {
     "duration": 0.032265,
     "end_time": "2020-08-23T00:29:50.502836",
     "exception": false,
     "start_time": "2020-08-23T00:29:50.470571",
     "status": "completed"
    },
    "tags": []
   },
   "source": [
    "And setup the labels as 1 (when the digit is 3) and 0 (when the digit is 8)"
   ]
  },
  {
   "cell_type": "code",
   "execution_count": 12,
   "metadata": {
    "execution": {
     "iopub.execute_input": "2020-08-23T00:29:50.570610Z",
     "iopub.status.busy": "2020-08-23T00:29:50.570012Z",
     "iopub.status.idle": "2020-08-23T00:29:50.583556Z",
     "shell.execute_reply": "2020-08-23T00:29:50.583070Z"
    },
    "papermill": {
     "duration": 0.049103,
     "end_time": "2020-08-23T00:29:50.583685",
     "exception": false,
     "start_time": "2020-08-23T00:29:50.534582",
     "status": "completed"
    },
    "tags": []
   },
   "outputs": [],
   "source": [
    "y_train = 1*(y_train==3)\n",
    "y_test = 1*(y_test==3)"
   ]
  },
  {
   "cell_type": "code",
   "execution_count": 13,
   "metadata": {
    "execution": {
     "iopub.execute_input": "2020-08-23T00:29:50.652289Z",
     "iopub.status.busy": "2020-08-23T00:29:50.651694Z",
     "iopub.status.idle": "2020-08-23T00:29:50.665082Z",
     "shell.execute_reply": "2020-08-23T00:29:50.665598Z"
    },
    "papermill": {
     "duration": 0.050139,
     "end_time": "2020-08-23T00:29:50.665739",
     "exception": false,
     "start_time": "2020-08-23T00:29:50.615600",
     "status": "completed"
    },
    "tags": []
   },
   "outputs": [
    {
     "data": {
      "text/plain": [
       "((11982, 28, 28), (1984, 28, 28))"
      ]
     },
     "execution_count": 13,
     "metadata": {},
     "output_type": "execute_result"
    }
   ],
   "source": [
    "X_train.shape, X_test.shape"
   ]
  },
  {
   "cell_type": "markdown",
   "metadata": {
    "papermill": {
     "duration": 0.032828,
     "end_time": "2020-08-23T00:29:50.730359",
     "exception": false,
     "start_time": "2020-08-23T00:29:50.697531",
     "status": "completed"
    },
    "tags": []
   },
   "source": [
    "##### We reshape the data to flatten the image pixels into a set of features or co-variates:"
   ]
  },
  {
   "cell_type": "code",
   "execution_count": 14,
   "metadata": {
    "execution": {
     "iopub.execute_input": "2020-08-23T00:29:50.801117Z",
     "iopub.status.busy": "2020-08-23T00:29:50.800486Z",
     "iopub.status.idle": "2020-08-23T00:29:50.814721Z",
     "shell.execute_reply": "2020-08-23T00:29:50.815176Z"
    },
    "papermill": {
     "duration": 0.051929,
     "end_time": "2020-08-23T00:29:50.815320",
     "exception": false,
     "start_time": "2020-08-23T00:29:50.763391",
     "status": "completed"
    },
    "tags": []
   },
   "outputs": [
    {
     "data": {
      "text/plain": [
       "((11982, 784), (1984, 784))"
      ]
     },
     "execution_count": 14,
     "metadata": {},
     "output_type": "execute_result"
    }
   ],
   "source": [
    "X_train = X_train.reshape(X_train.shape[0], -1)\n",
    "X_test = X_test.reshape(X_test.shape[0], -1)\n",
    "X_train.shape, X_test.shape"
   ]
  },
  {
   "cell_type": "markdown",
   "metadata": {
    "papermill": {
     "duration": 0.032483,
     "end_time": "2020-08-23T00:29:50.881554",
     "exception": false,
     "start_time": "2020-08-23T00:29:50.849071",
     "status": "completed"
    },
    "tags": []
   },
   "source": [
    "##### Importing Kudzu library and its functionality"
   ]
  },
  {
   "cell_type": "code",
   "execution_count": 15,
   "metadata": {
    "execution": {
     "iopub.execute_input": "2020-08-23T00:29:50.951499Z",
     "iopub.status.busy": "2020-08-23T00:29:50.950903Z",
     "iopub.status.idle": "2020-08-23T00:29:50.971375Z",
     "shell.execute_reply": "2020-08-23T00:29:50.971836Z"
    },
    "papermill": {
     "duration": 0.057844,
     "end_time": "2020-08-23T00:29:50.971980",
     "exception": false,
     "start_time": "2020-08-23T00:29:50.914136",
     "status": "completed"
    },
    "tags": []
   },
   "outputs": [],
   "source": [
    "from kudzu.data import Data, Dataloader, Sampler\n",
    "from kudzu.callbacks import AccCallback\n",
    "from kudzu.loss import MSE\n",
    "from kudzu.layer import Affine, Sigmoid\n",
    "from kudzu.model import Model\n",
    "from kudzu.optim import GD\n",
    "from kudzu.train import Learner\n",
    "from kudzu.callbacks import ClfCallback\n",
    "from kudzu.layer import Sigmoid\n",
    "from kudzu.layer import Relu"
   ]
  },
  {
   "cell_type": "markdown",
   "metadata": {
    "papermill": {
     "duration": 0.032339,
     "end_time": "2020-08-23T00:29:51.036505",
     "exception": false,
     "start_time": "2020-08-23T00:29:51.004166",
     "status": "completed"
    },
    "tags": []
   },
   "source": [
    "##### We are creating a class, just so that we can use it to store our parameters for us"
   ]
  },
  {
   "cell_type": "code",
   "execution_count": 16,
   "metadata": {
    "execution": {
     "iopub.execute_input": "2020-08-23T00:29:51.105560Z",
     "iopub.status.busy": "2020-08-23T00:29:51.104958Z",
     "iopub.status.idle": "2020-08-23T00:29:51.118494Z",
     "shell.execute_reply": "2020-08-23T00:29:51.118978Z"
    },
    "papermill": {
     "duration": 0.050318,
     "end_time": "2020-08-23T00:29:51.119118",
     "exception": false,
     "start_time": "2020-08-23T00:29:51.068800",
     "status": "completed"
    },
    "tags": []
   },
   "outputs": [],
   "source": [
    "class Config:\n",
    "    pass\n",
    "config = Config()\n",
    "config.lr = 0.001\n",
    "config.num_epochs = 250\n",
    "config.bs = 50"
   ]
  },
  {
   "cell_type": "markdown",
   "metadata": {
    "papermill": {
     "duration": 0.032309,
     "end_time": "2020-08-23T00:29:51.184015",
     "exception": false,
     "start_time": "2020-08-23T00:29:51.151706",
     "status": "completed"
    },
    "tags": []
   },
   "source": [
    "##### Initializing Data"
   ]
  },
  {
   "cell_type": "code",
   "execution_count": 17,
   "metadata": {
    "execution": {
     "iopub.execute_input": "2020-08-23T00:29:51.256911Z",
     "iopub.status.busy": "2020-08-23T00:29:51.256287Z",
     "iopub.status.idle": "2020-08-23T00:29:51.269340Z",
     "shell.execute_reply": "2020-08-23T00:29:51.268745Z"
    },
    "papermill": {
     "duration": 0.051801,
     "end_time": "2020-08-23T00:29:51.269463",
     "exception": false,
     "start_time": "2020-08-23T00:29:51.217662",
     "status": "completed"
    },
    "tags": []
   },
   "outputs": [],
   "source": [
    "data = Data(X_train, y_train.reshape(-1,1))\n",
    "loss = MSE()\n",
    "opt = GD(config.lr)\n",
    "sampler = Sampler(data, config.bs, shuffle=True)\n",
    "dl = Dataloader(data, sampler)"
   ]
  },
  {
   "cell_type": "markdown",
   "metadata": {
    "papermill": {
     "duration": 0.032137,
     "end_time": "2020-08-23T00:29:51.333854",
     "exception": false,
     "start_time": "2020-08-23T00:29:51.301717",
     "status": "completed"
    },
    "tags": []
   },
   "source": [
    "##### Constructing 2 different layers, one for NN and one only for logistic regression."
   ]
  },
  {
   "cell_type": "markdown",
   "metadata": {
    "papermill": {
     "duration": 0.032501,
     "end_time": "2020-08-23T00:29:51.398739",
     "exception": false,
     "start_time": "2020-08-23T00:29:51.366238",
     "status": "completed"
    },
    "tags": []
   },
   "source": [
    "##### Creating containers for data to be passed, to calculate accuracies"
   ]
  },
  {
   "cell_type": "code",
   "execution_count": 18,
   "metadata": {
    "execution": {
     "iopub.execute_input": "2020-08-23T00:29:51.468539Z",
     "iopub.status.busy": "2020-08-23T00:29:51.467939Z",
     "iopub.status.idle": "2020-08-23T00:29:51.481190Z",
     "shell.execute_reply": "2020-08-23T00:29:51.481704Z"
    },
    "papermill": {
     "duration": 0.050925,
     "end_time": "2020-08-23T00:29:51.481852",
     "exception": false,
     "start_time": "2020-08-23T00:29:51.430927",
     "status": "completed"
    },
    "tags": []
   },
   "outputs": [],
   "source": [
    "training_xdata = X_train\n",
    "testing_xdata = X_test\n",
    "training_ydata = y_train.reshape(-1,1)\n",
    "testing_ydata = y_test.reshape(-1,1)"
   ]
  },
  {
   "cell_type": "markdown",
   "metadata": {
    "papermill": {
     "duration": 0.032362,
     "end_time": "2020-08-23T00:29:51.546579",
     "exception": false,
     "start_time": "2020-08-23T00:29:51.514217",
     "status": "completed"
    },
    "tags": []
   },
   "source": [
    "##### Initializing models and Running training loop: "
   ]
  },
  {
   "cell_type": "code",
   "execution_count": 19,
   "metadata": {
    "execution": {
     "iopub.execute_input": "2020-08-23T00:29:51.618204Z",
     "iopub.status.busy": "2020-08-23T00:29:51.617597Z",
     "iopub.status.idle": "2020-08-23T00:29:51.638243Z",
     "shell.execute_reply": "2020-08-23T00:29:51.637726Z"
    },
    "papermill": {
     "duration": 0.059443,
     "end_time": "2020-08-23T00:29:51.638367",
     "exception": false,
     "start_time": "2020-08-23T00:29:51.578924",
     "status": "completed"
    },
    "tags": []
   },
   "outputs": [],
   "source": [
    "layers = [Affine(\"first\", 784, 100), Relu(\"first\"), Affine(\"second\", 100, 100), Relu(\"second\"), Affine(\"third\", 100, 2), Affine(\"final\", 2, 1), Sigmoid(\"final\")]\n",
    "\n",
    "model_neural = Model(layers)\n",
    "model_logistic = Model([Affine(\"logits\", 784, 1), Sigmoid(\"sigmoid\")])"
   ]
  },
  {
   "cell_type": "code",
   "execution_count": 20,
   "metadata": {
    "execution": {
     "iopub.execute_input": "2020-08-23T00:29:51.708555Z",
     "iopub.status.busy": "2020-08-23T00:29:51.707865Z",
     "iopub.status.idle": "2020-08-23T00:29:51.723819Z",
     "shell.execute_reply": "2020-08-23T00:29:51.722851Z"
    },
    "papermill": {
     "duration": 0.053332,
     "end_time": "2020-08-23T00:29:51.724017",
     "exception": false,
     "start_time": "2020-08-23T00:29:51.670685",
     "status": "completed"
    },
    "tags": []
   },
   "outputs": [],
   "source": [
    "learner1 = Learner(loss, model_neural, opt, config.num_epochs)\n",
    "acc1 = ClfCallback(learner1, config.bs, training_xdata , testing_xdata, training_ydata, testing_ydata)\n",
    "learner1.set_callbacks([acc1])"
   ]
  },
  {
   "cell_type": "code",
   "execution_count": 21,
   "metadata": {
    "execution": {
     "iopub.execute_input": "2020-08-23T00:29:51.796857Z",
     "iopub.status.busy": "2020-08-23T00:29:51.796202Z",
     "iopub.status.idle": "2020-08-23T00:31:19.929906Z",
     "shell.execute_reply": "2020-08-23T00:31:19.930740Z"
    },
    "papermill": {
     "duration": 88.171235,
     "end_time": "2020-08-23T00:31:19.930910",
     "exception": false,
     "start_time": "2020-08-23T00:29:51.759675",
     "status": "completed"
    },
    "tags": []
   },
   "outputs": [
    {
     "name": "stdout",
     "output_type": "stream",
     "text": [
      "Epoch 0 Loss 0.2516213076254313\n",
      "train accuracy is: 0.7186613253213153, test accuracy is 0.7590725806451613\n"
     ]
    },
    {
     "name": "stdout",
     "output_type": "stream",
     "text": [
      "Epoch 10 Loss 0.06122109386707327\n",
      "train accuracy is: 0.9340677683191454, test accuracy is 0.9501008064516129\n"
     ]
    },
    {
     "name": "stdout",
     "output_type": "stream",
     "text": [
      "Epoch 20 Loss 0.0431749129732611\n",
      "train accuracy is: 0.9522617259222167, test accuracy is 0.9621975806451613\n"
     ]
    },
    {
     "name": "stdout",
     "output_type": "stream",
     "text": [
      "Epoch 30 Loss 0.03586046228081718\n",
      "train accuracy is: 0.9596060757803372, test accuracy is 0.9672379032258065\n"
     ]
    },
    {
     "name": "stdout",
     "output_type": "stream",
     "text": [
      "Epoch 40 Loss 0.03179289347357573\n",
      "train accuracy is: 0.9638624603572025, test accuracy is 0.969758064516129\n"
     ]
    },
    {
     "name": "stdout",
     "output_type": "stream",
     "text": [
      "Epoch 50 Loss 0.029113115894940846\n",
      "train accuracy is: 0.9670338841595727, test accuracy is 0.9702620967741935\n"
     ]
    },
    {
     "name": "stdout",
     "output_type": "stream",
     "text": [
      "Epoch 60 Loss 0.027178496314160392\n",
      "train accuracy is: 0.9695376397930229, test accuracy is 0.9702620967741935\n"
     ]
    },
    {
     "name": "stdout",
     "output_type": "stream",
     "text": [
      "Epoch 70 Loss 0.025671202325864177\n",
      "train accuracy is: 0.9706226005675179, test accuracy is 0.9702620967741935\n"
     ]
    },
    {
     "name": "stdout",
     "output_type": "stream",
     "text": [
      "Epoch 80 Loss 0.024454337000629003\n",
      "train accuracy is: 0.9725421465531631, test accuracy is 0.9707661290322581\n"
     ]
    },
    {
     "name": "stdout",
     "output_type": "stream",
     "text": [
      "Epoch 90 Loss 0.0234219675188627\n",
      "train accuracy is: 0.9739609414121182, test accuracy is 0.9707661290322581\n"
     ]
    },
    {
     "name": "stdout",
     "output_type": "stream",
     "text": [
      "Epoch 100 Loss 0.022531787425972002\n",
      "train accuracy is: 0.9745451510599232, test accuracy is 0.9702620967741935\n"
     ]
    },
    {
     "name": "stdout",
     "output_type": "stream",
     "text": [
      "Epoch 110 Loss 0.021721605093358447\n",
      "train accuracy is: 0.9756301118344183, test accuracy is 0.9712701612903226\n"
     ]
    },
    {
     "name": "stdout",
     "output_type": "stream",
     "text": [
      "Epoch 120 Loss 0.0210092206648488\n",
      "train accuracy is: 0.9760474044399933, test accuracy is 0.9727822580645161\n"
     ]
    },
    {
     "name": "stdout",
     "output_type": "stream",
     "text": [
      "Epoch 130 Loss 0.020349408790558722\n",
      "train accuracy is: 0.9767985311300283, test accuracy is 0.9737903225806451\n"
     ]
    },
    {
     "name": "stdout",
     "output_type": "stream",
     "text": [
      "Epoch 140 Loss 0.01975893603554114\n",
      "train accuracy is: 0.9772992822567184, test accuracy is 0.9742943548387096\n"
     ]
    },
    {
     "name": "stdout",
     "output_type": "stream",
     "text": [
      "Epoch 150 Loss 0.01920274480802368\n",
      "train accuracy is: 0.9784677015523285, test accuracy is 0.9747983870967742\n"
     ]
    },
    {
     "name": "stdout",
     "output_type": "stream",
     "text": [
      "Epoch 160 Loss 0.018685884322220698\n",
      "train accuracy is: 0.9789684526790186, test accuracy is 0.9753024193548387\n"
     ]
    },
    {
     "name": "stdout",
     "output_type": "stream",
     "text": [
      "Epoch 170 Loss 0.0181980832971608\n",
      "train accuracy is: 0.9795526623268236, test accuracy is 0.9758064516129032\n"
     ]
    },
    {
     "name": "stdout",
     "output_type": "stream",
     "text": [
      "Epoch 180 Loss 0.017735921072226365\n",
      "train accuracy is: 0.9802203304957436, test accuracy is 0.9747983870967742\n"
     ]
    },
    {
     "name": "stdout",
     "output_type": "stream",
     "text": [
      "Epoch 190 Loss 0.017287166462127405\n",
      "train accuracy is: 0.9808045401435487, test accuracy is 0.9753024193548387\n"
     ]
    },
    {
     "name": "stdout",
     "output_type": "stream",
     "text": [
      "Epoch 200 Loss 0.01685464009038728\n",
      "train accuracy is: 0.9815556668335838, test accuracy is 0.9763104838709677\n"
     ]
    },
    {
     "name": "stdout",
     "output_type": "stream",
     "text": [
      "Epoch 210 Loss 0.01644263422151938\n",
      "train accuracy is: 0.9820564179602738, test accuracy is 0.9768145161290323\n"
     ]
    },
    {
     "name": "stdout",
     "output_type": "stream",
     "text": [
      "Epoch 220 Loss 0.016037020012345662\n",
      "train accuracy is: 0.9827240861291938, test accuracy is 0.9773185483870968\n"
     ]
    },
    {
     "name": "stdout",
     "output_type": "stream",
     "text": [
      "Epoch 230 Loss 0.015650320417040103\n",
      "train accuracy is: 0.9831413787347688, test accuracy is 0.9778225806451613\n"
     ]
    },
    {
     "name": "stdout",
     "output_type": "stream",
     "text": [
      "Epoch 240 Loss 0.015274709583052755\n",
      "train accuracy is: 0.9833917542981139, test accuracy is 0.9778225806451613\n"
     ]
    },
    {
     "data": {
      "text/plain": [
       "0.06106155884215544"
      ]
     },
     "execution_count": 21,
     "metadata": {},
     "output_type": "execute_result"
    }
   ],
   "source": [
    "learner1.train_loop(dl)"
   ]
  },
  {
   "cell_type": "markdown",
   "metadata": {
    "papermill": {
     "duration": 0.040791,
     "end_time": "2020-08-23T00:31:20.013362",
     "exception": false,
     "start_time": "2020-08-23T00:31:19.972571",
     "status": "completed"
    },
    "tags": []
   },
   "source": [
    "##### Now running only the logistic regression based classification to compare results with NN"
   ]
  },
  {
   "cell_type": "code",
   "execution_count": 22,
   "metadata": {
    "execution": {
     "iopub.execute_input": "2020-08-23T00:31:20.101242Z",
     "iopub.status.busy": "2020-08-23T00:31:20.100152Z",
     "iopub.status.idle": "2020-08-23T00:31:20.112982Z",
     "shell.execute_reply": "2020-08-23T00:31:20.112452Z"
    },
    "papermill": {
     "duration": 0.059123,
     "end_time": "2020-08-23T00:31:20.113120",
     "exception": false,
     "start_time": "2020-08-23T00:31:20.053997",
     "status": "completed"
    },
    "tags": []
   },
   "outputs": [],
   "source": [
    "learner2 = Learner(loss, model_logistic, opt, config.num_epochs)\n",
    "acc2 = ClfCallback(learner2, config.bs, training_xdata , testing_xdata, training_ydata, testing_ydata)\n",
    "learner2.set_callbacks([acc2])"
   ]
  },
  {
   "cell_type": "code",
   "execution_count": 23,
   "metadata": {
    "execution": {
     "iopub.execute_input": "2020-08-23T00:31:20.201827Z",
     "iopub.status.busy": "2020-08-23T00:31:20.201237Z",
     "iopub.status.idle": "2020-08-23T00:31:36.137867Z",
     "shell.execute_reply": "2020-08-23T00:31:36.138648Z"
    },
    "papermill": {
     "duration": 15.985054,
     "end_time": "2020-08-23T00:31:36.138815",
     "exception": false,
     "start_time": "2020-08-23T00:31:20.153761",
     "status": "completed"
    },
    "tags": []
   },
   "outputs": [
    {
     "name": "stdout",
     "output_type": "stream",
     "text": [
      "Epoch 0 Loss 0.23873781707131936\n",
      "train accuracy is: 0.6897846770155233, test accuracy is 0.7076612903225806\n"
     ]
    },
    {
     "name": "stdout",
     "output_type": "stream",
     "text": [
      "Epoch 10 Loss 0.10280345813419833\n",
      "train accuracy is: 0.9073610415623435, test accuracy is 0.922883064516129\n"
     ]
    },
    {
     "name": "stdout",
     "output_type": "stream",
     "text": [
      "Epoch 20 Loss 0.07922702644789856\n",
      "train accuracy is: 0.9256384576865297, test accuracy is 0.938508064516129\n"
     ]
    },
    {
     "name": "stdout",
     "output_type": "stream",
     "text": [
      "Epoch 30 Loss 0.06831440700525887\n",
      "train accuracy is: 0.9355700216992154, test accuracy is 0.9455645161290323\n"
     ]
    },
    {
     "name": "stdout",
     "output_type": "stream",
     "text": [
      "Epoch 40 Loss 0.061753573187229495\n",
      "train accuracy is: 0.9405775329661158, test accuracy is 0.9490927419354839\n"
     ]
    },
    {
     "name": "stdout",
     "output_type": "stream",
     "text": [
      "Epoch 50 Loss 0.05728039799960177\n",
      "train accuracy is: 0.942914371557336, test accuracy is 0.9546370967741935\n"
     ]
    },
    {
     "name": "stdout",
     "output_type": "stream",
     "text": [
      "Epoch 60 Loss 0.05399633784137408\n",
      "train accuracy is: 0.9460857953597063, test accuracy is 0.9581653225806451\n"
     ]
    },
    {
     "name": "stdout",
     "output_type": "stream",
     "text": [
      "Epoch 70 Loss 0.05145778560856766\n",
      "train accuracy is: 0.9480053413453514, test accuracy is 0.9621975806451613\n"
     ]
    },
    {
     "name": "stdout",
     "output_type": "stream",
     "text": [
      "Epoch 80 Loss 0.04942214975771835\n",
      "train accuracy is: 0.9496745117676515, test accuracy is 0.9627016129032258\n"
     ]
    },
    {
     "name": "stdout",
     "output_type": "stream",
     "text": [
      "Epoch 90 Loss 0.04774238510508044\n",
      "train accuracy is: 0.9515940577532966, test accuracy is 0.9627016129032258\n"
     ]
    },
    {
     "name": "stdout",
     "output_type": "stream",
     "text": [
      "Epoch 100 Loss 0.04632755740586972\n",
      "train accuracy is: 0.9520948088799867, test accuracy is 0.9632056451612904\n"
     ]
    },
    {
     "name": "stdout",
     "output_type": "stream",
     "text": [
      "Epoch 110 Loss 0.045112090019010995\n",
      "train accuracy is: 0.9532632281755967, test accuracy is 0.9632056451612904\n"
     ]
    },
    {
     "name": "stdout",
     "output_type": "stream",
     "text": [
      "Epoch 120 Loss 0.04405407643271064\n",
      "train accuracy is: 0.9537639793022867, test accuracy is 0.9642137096774194\n"
     ]
    },
    {
     "name": "stdout",
     "output_type": "stream",
     "text": [
      "Epoch 130 Loss 0.04312035431312753\n",
      "train accuracy is: 0.9545151059923218, test accuracy is 0.9647177419354839\n"
     ]
    },
    {
     "name": "stdout",
     "output_type": "stream",
     "text": [
      "Epoch 140 Loss 0.04229004947141395\n",
      "train accuracy is: 0.9551827741612419, test accuracy is 0.9642137096774194\n"
     ]
    },
    {
     "name": "stdout",
     "output_type": "stream",
     "text": [
      "Epoch 150 Loss 0.04154383185543931\n",
      "train accuracy is: 0.9557669838090469, test accuracy is 0.9652217741935484\n"
     ]
    },
    {
     "name": "stdout",
     "output_type": "stream",
     "text": [
      "Epoch 160 Loss 0.040868666122589555\n",
      "train accuracy is: 0.956100817893507, test accuracy is 0.9657258064516129\n"
     ]
    },
    {
     "name": "stdout",
     "output_type": "stream",
     "text": [
      "Epoch 170 Loss 0.04025302169599055\n",
      "train accuracy is: 0.956434651977967, test accuracy is 0.9652217741935484\n"
     ]
    },
    {
     "name": "stdout",
     "output_type": "stream",
     "text": [
      "Epoch 180 Loss 0.03968921390855249\n",
      "train accuracy is: 0.956935403104657, test accuracy is 0.9652217741935484\n"
     ]
    },
    {
     "name": "stdout",
     "output_type": "stream",
     "text": [
      "Epoch 190 Loss 0.03916921494510687\n",
      "train accuracy is: 0.957603071273577, test accuracy is 0.9657258064516129\n"
     ]
    },
    {
     "name": "stdout",
     "output_type": "stream",
     "text": [
      "Epoch 200 Loss 0.038688306801099505\n",
      "train accuracy is: 0.9582707394424971, test accuracy is 0.9662298387096774\n"
     ]
    },
    {
     "name": "stdout",
     "output_type": "stream",
     "text": [
      "Epoch 210 Loss 0.038242103861680504\n",
      "train accuracy is: 0.9588549490903021, test accuracy is 0.9662298387096774\n"
     ]
    },
    {
     "name": "stdout",
     "output_type": "stream",
     "text": [
      "Epoch 220 Loss 0.03782591349950149\n",
      "train accuracy is: 0.9589384076114171, test accuracy is 0.9662298387096774\n"
     ]
    },
    {
     "name": "stdout",
     "output_type": "stream",
     "text": [
      "Epoch 230 Loss 0.037436324678522565\n",
      "train accuracy is: 0.9594391587381071, test accuracy is 0.9662298387096774\n"
     ]
    },
    {
     "name": "stdout",
     "output_type": "stream",
     "text": [
      "Epoch 240 Loss 0.03707102736878804\n",
      "train accuracy is: 0.9598564513436821, test accuracy is 0.9662298387096774\n"
     ]
    },
    {
     "data": {
      "text/plain": [
       "0.03441369962518442"
      ]
     },
     "execution_count": 23,
     "metadata": {},
     "output_type": "execute_result"
    }
   ],
   "source": [
    "learner2.train_loop(dl)"
   ]
  },
  {
   "cell_type": "markdown",
   "metadata": {
    "papermill": {
     "duration": 0.049099,
     "end_time": "2020-08-23T00:31:36.237773",
     "exception": false,
     "start_time": "2020-08-23T00:31:36.188674",
     "status": "completed"
    },
    "tags": []
   },
   "source": [
    "### Comparing results of NN and LR"
   ]
  },
  {
   "cell_type": "code",
   "execution_count": 24,
   "metadata": {
    "execution": {
     "iopub.execute_input": "2020-08-23T00:31:36.340298Z",
     "iopub.status.busy": "2020-08-23T00:31:36.339285Z",
     "iopub.status.idle": "2020-08-23T00:31:36.562264Z",
     "shell.execute_reply": "2020-08-23T00:31:36.561725Z"
    },
    "papermill": {
     "duration": 0.276288,
     "end_time": "2020-08-23T00:31:36.562398",
     "exception": false,
     "start_time": "2020-08-23T00:31:36.286110",
     "status": "completed"
    },
    "tags": []
   },
   "outputs": [
    {
     "data": {
      "text/plain": [
       "<matplotlib.legend.Legend at 0x7efe641c97f0>"
      ]
     },
     "execution_count": 24,
     "metadata": {},
     "output_type": "execute_result"
    },
    {
     "data": {
      "image/png": "[encoded data removed]",
      "text/plain": [
       "<Figure size 576x360 with 1 Axes>"
      ]
     },
     "metadata": {
      "needs_background": "light"
     },
     "output_type": "display_data"
    }
   ],
   "source": [
    "plt.figure(figsize=(8,5))\n",
    "plt.plot(acc1.val_accuracies, 'g-', label = \"Val Accuracies - NN\")\n",
    "plt.plot(acc1.accuracies, 'r-', label = \"Accuracies - NN\")\n",
    "plt.plot(acc2.val_accuracies, 'b-', label = \"Val Accuracies - Logistic Reg\")\n",
    "plt.plot(acc2.accuracies, 'k-', label = \"Accuracies - Logistic Reg\")\n",
    "plt.ylim(0.8,1) ## for a more spread out view\n",
    "plt.legend()"
   ]
  },
  {
   "cell_type": "markdown",
   "metadata": {
    "papermill": {
     "duration": 0.050218,
     "end_time": "2020-08-23T00:31:36.662620",
     "exception": false,
     "start_time": "2020-08-23T00:31:36.612402",
     "status": "completed"
    },
    "tags": []
   },
   "source": [
    "### Clearly NN has a better accuracy over LR; NN is overfitting - Validation accuracy (green) has dropped below training accuracy (orange), also they are diverging. This problem is not seen in LR"
   ]
  },
  {
   "cell_type": "markdown",
   "metadata": {
    "papermill": {
     "duration": 0.050126,
     "end_time": "2020-08-23T00:31:36.763206",
     "exception": false,
     "start_time": "2020-08-23T00:31:36.713080",
     "status": "completed"
    },
    "tags": []
   },
   "source": [
    "##### Now we will be moving through the network, till the output of the second last affine where we get a 2 dimensional output. We will be plotting this 2d output and probability contours"
   ]
  },
  {
   "cell_type": "code",
   "execution_count": 25,
   "metadata": {
    "execution": {
     "iopub.execute_input": "2020-08-23T00:31:36.867563Z",
     "iopub.status.busy": "2020-08-23T00:31:36.866969Z",
     "iopub.status.idle": "2020-08-23T00:31:36.881665Z",
     "shell.execute_reply": "2020-08-23T00:31:36.880998Z"
    },
    "papermill": {
     "duration": 0.068945,
     "end_time": "2020-08-23T00:31:36.881821",
     "exception": false,
     "start_time": "2020-08-23T00:31:36.812876",
     "status": "completed"
    },
    "tags": []
   },
   "outputs": [],
   "source": [
    "model_new = Model(layers[:-2])"
   ]
  },
  {
   "cell_type": "code",
   "execution_count": 26,
   "metadata": {
    "execution": {
     "iopub.execute_input": "2020-08-23T00:31:36.986465Z",
     "iopub.status.busy": "2020-08-23T00:31:36.985873Z",
     "iopub.status.idle": "2020-08-23T00:31:37.006892Z",
     "shell.execute_reply": "2020-08-23T00:31:37.007390Z"
    },
    "papermill": {
     "duration": 0.074615,
     "end_time": "2020-08-23T00:31:37.007540",
     "exception": false,
     "start_time": "2020-08-23T00:31:36.932925",
     "status": "completed"
    },
    "tags": []
   },
   "outputs": [],
   "source": [
    "plot_testing = model_new(testing_xdata)"
   ]
  },
  {
   "cell_type": "markdown",
   "metadata": {
    "papermill": {
     "duration": 0.050975,
     "end_time": "2020-08-23T00:31:37.108428",
     "exception": false,
     "start_time": "2020-08-23T00:31:37.057453",
     "status": "completed"
    },
    "tags": []
   },
   "source": [
    "##### Plotting the scatter plot of points and color coding by class"
   ]
  },
  {
   "cell_type": "code",
   "execution_count": 27,
   "metadata": {
    "execution": {
     "iopub.execute_input": "2020-08-23T00:31:37.240617Z",
     "iopub.status.busy": "2020-08-23T00:31:37.239615Z",
     "iopub.status.idle": "2020-08-23T00:31:37.434735Z",
     "shell.execute_reply": "2020-08-23T00:31:37.435443Z"
    },
    "papermill": {
     "duration": 0.276632,
     "end_time": "2020-08-23T00:31:37.435653",
     "exception": false,
     "start_time": "2020-08-23T00:31:37.159021",
     "status": "completed"
    },
    "tags": []
   },
   "outputs": [
    {
     "data": {
      "image/png": "[encoded data removed]",
      "text/plain": [
       "<Figure size 576x504 with 1 Axes>"
      ]
     },
     "metadata": {
      "needs_background": "light"
     },
     "output_type": "display_data"
    }
   ],
   "source": [
    "plt.figure(figsize=(8,7))\n",
    "plt.scatter(plot_testing[:,0], plot_testing[:,1], alpha = 0.1, c = y_test.ravel());"
   ]
  },
  {
   "cell_type": "markdown",
   "metadata": {
    "papermill": {
     "duration": 0.051781,
     "end_time": "2020-08-23T00:31:37.540013",
     "exception": false,
     "start_time": "2020-08-23T00:31:37.488232",
     "status": "completed"
    },
    "tags": []
   },
   "source": [
    "##### Plotting probability contours"
   ]
  },
  {
   "cell_type": "code",
   "execution_count": 28,
   "metadata": {
    "execution": {
     "iopub.execute_input": "2020-08-23T00:31:37.649261Z",
     "iopub.status.busy": "2020-08-23T00:31:37.648655Z",
     "iopub.status.idle": "2020-08-23T00:31:37.663249Z",
     "shell.execute_reply": "2020-08-23T00:31:37.664167Z"
    },
    "papermill": {
     "duration": 0.072079,
     "end_time": "2020-08-23T00:31:37.664419",
     "exception": false,
     "start_time": "2020-08-23T00:31:37.592340",
     "status": "completed"
    },
    "tags": []
   },
   "outputs": [],
   "source": [
    "model_prob = Model(layers[-2:]) ## picking only last two layers to get probability. That is affine followed by sigmoid"
   ]
  },
  {
   "cell_type": "code",
   "execution_count": 29,
   "metadata": {
    "execution": {
     "iopub.execute_input": "2020-08-23T00:31:37.778405Z",
     "iopub.status.busy": "2020-08-23T00:31:37.777796Z",
     "iopub.status.idle": "2020-08-23T00:31:37.793933Z",
     "shell.execute_reply": "2020-08-23T00:31:37.794398Z"
    },
    "papermill": {
     "duration": 0.075619,
     "end_time": "2020-08-23T00:31:37.794550",
     "exception": false,
     "start_time": "2020-08-23T00:31:37.718931",
     "status": "completed"
    },
    "tags": []
   },
   "outputs": [],
   "source": [
    "xgrid = np.linspace(-4, 1, 100) ## Adjust these values based on above chart, roughly -4 to 1\n",
    "ygrid = np.linspace(-7.5, 7.5, 100) ## Adjust these values based on above chart, roughly -7.5, 7.5\n",
    "xg, yg = np.meshgrid(xgrid, ygrid)\n",
    "# xg and yg are now both 100X100, lets convert them to single arrays \n",
    "\n",
    "xg_interim = np.ravel(xg)\n",
    "yg_interim = np.ravel(yg)\n",
    "\n",
    "## xg_interim, yg_interim are now arrays of len 10000, now we will stack them and then transpose to get desired shape of n rows, 2 columns\n",
    "\n",
    "X_interim = np.vstack((xg_interim, yg_interim)) ## Please note vstack takes in a tuple\n",
    "X = X_interim.T\n",
    "\n",
    "## We want a shape of n rows and 2 columns to be able to feed this to last affine\n",
    "## This last affine takes only two columns, hence the above transformation\n",
    "probability_contour = model_prob(X).reshape(100,100) ## to make it consistent with xg, yg"
   ]
  },
  {
   "cell_type": "code",
   "execution_count": 30,
   "metadata": {
    "execution": {
     "iopub.execute_input": "2020-08-23T00:31:37.914127Z",
     "iopub.status.busy": "2020-08-23T00:31:37.913522Z",
     "iopub.status.idle": "2020-08-23T00:31:38.140032Z",
     "shell.execute_reply": "2020-08-23T00:31:38.139494Z"
    },
    "papermill": {
     "duration": 0.293011,
     "end_time": "2020-08-23T00:31:38.140170",
     "exception": false,
     "start_time": "2020-08-23T00:31:37.847159",
     "status": "completed"
    },
    "tags": []
   },
   "outputs": [
    {
     "data": {
      "image/png": "[encoded data removed]",
      "text/plain": [
       "<Figure size 576x504 with 1 Axes>"
      ]
     },
     "metadata": {
      "needs_background": "light"
     },
     "output_type": "display_data"
    }
   ],
   "source": [
    "plt.figure(figsize=(8,7))\n",
    "plt.scatter(plot_testing[:,0], plot_testing[:,1], alpha = 0.1, c = y_test.ravel())\n",
    "contours = plt.contour(xg,yg,probability_contour)\n",
    "plt.clabel(contours, inline = True );"
   ]
  }
 ],
 "metadata": {
  "kernelspec": {
   "display_name": "Python 3",
   "language": "python",
   "name": "python3"
  },
  "language_info": {
   "codemirror_mode": {
    "name": "ipython",
    "version": 3
   },
   "file_extension": ".py",
   "mimetype": "text/x-python",
   "name": "python",
   "nbconvert_exporter": "python",
   "pygments_lexer": "ipython3",
   "version": "3.6.11"
  },
  "papermill": {
   "duration": 113.757898,
   "end_time": "2020-08-23T00:31:38.604346",
   "environment_variables": {},
   "exception": null,
   "input_path": "2020-08-07-NN-new.ipynb",
   "output_path": "2020-08-07-NN-new.ipynb",
   "parameters": {},
   "start_time": "2020-08-23T00:29:44.846448",
   "version": "2.1.2"
  }
 },
 "nbformat": 4,
 "nbformat_minor": 4
}