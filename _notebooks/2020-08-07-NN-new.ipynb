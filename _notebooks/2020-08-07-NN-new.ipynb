{
 "cells": [
  {
   "cell_type": "markdown",
   "metadata": {
    "papermill": {
     "duration": 0.031224,
     "end_time": "2020-08-22T10:11:35.574634",
     "exception": false,
     "start_time": "2020-08-22T10:11:35.543410",
     "status": "completed"
    },
    "tags": []
   },
   "source": [
    "# \"Building a basic Neural Network from scratch - Kudzu\"\n",
    "\n",
    "- badges: true\n",
    "- author: Anshuman Gupta"
   ]
  },
  {
   "cell_type": "markdown",
   "metadata": {
    "papermill": {
     "duration": 0.02449,
     "end_time": "2020-08-22T10:11:35.625188",
     "exception": false,
     "start_time": "2020-08-22T10:11:35.600698",
     "status": "completed"
    },
    "tags": []
   },
   "source": [
    "#### In this project, the idea is to write a classifier to differentiate between handwritten digits 3 and 8, from the MNIST database.\n",
    "\n",
    "#### I will using a custom built neural network library called Kudzu.This has been developed as a part of KTF/Foundations course of Univ.ai (www.univ.ai). The source code for Kudzu Library and and this notebook can be found on my git-hub profile : www.https://github.com/anshuman6 under the folder project-solution. Any feedback and comments are welcome. Please feel free to email me at: anshuman6@gmail.com\n",
    "\n",
    "#### 1. I will be using the MNIST database. \n",
    "\n",
    "#### 2. I will be comparing the results of the 4 layer NN to a standard logistic regression"
   ]
  },
  {
   "cell_type": "markdown",
   "metadata": {
    "papermill": {
     "duration": 0.023487,
     "end_time": "2020-08-22T10:11:35.673197",
     "exception": false,
     "start_time": "2020-08-22T10:11:35.649710",
     "status": "completed"
    },
    "tags": []
   },
   "source": [
    "##### Importing all the necessary libraries"
   ]
  },
  {
   "cell_type": "code",
   "execution_count": 1,
   "metadata": {
    "execution": {
     "iopub.execute_input": "2020-08-22T10:11:35.723977Z",
     "iopub.status.busy": "2020-08-22T10:11:35.723447Z",
     "iopub.status.idle": "2020-08-22T10:11:35.732546Z",
     "shell.execute_reply": "2020-08-22T10:11:35.732086Z"
    },
    "papermill": {
     "duration": 0.035742,
     "end_time": "2020-08-22T10:11:35.732663",
     "exception": false,
     "start_time": "2020-08-22T10:11:35.696921",
     "status": "completed"
    },
    "tags": []
   },
   "outputs": [],
   "source": [
    "%load_ext autoreload\n",
    "%autoreload 2"
   ]
  },
  {
   "cell_type": "code",
   "execution_count": 2,
   "metadata": {
    "execution": {
     "iopub.execute_input": "2020-08-22T10:11:35.782530Z",
     "iopub.status.busy": "2020-08-22T10:11:35.782001Z",
     "iopub.status.idle": "2020-08-22T10:11:36.232270Z",
     "shell.execute_reply": "2020-08-22T10:11:36.231478Z"
    },
    "papermill": {
     "duration": 0.476505,
     "end_time": "2020-08-22T10:11:36.232395",
     "exception": false,
     "start_time": "2020-08-22T10:11:35.755890",
     "status": "completed"
    },
    "tags": []
   },
   "outputs": [],
   "source": [
    "%matplotlib inline\n",
    "import numpy as np\n",
    "import matplotlib.pyplot as plt\n",
    "import pandas as pd"
   ]
  },
  {
   "cell_type": "markdown",
   "metadata": {
    "papermill": {
     "duration": 0.023208,
     "end_time": "2020-08-22T10:11:36.278815",
     "exception": false,
     "start_time": "2020-08-22T10:11:36.255607",
     "status": "completed"
    },
    "tags": []
   },
   "source": [
    "##### The following command helps us download MNIST from notebook itself. You can skip this if you already have MNIST. You can also download it via your terminal."
   ]
  },
  {
   "cell_type": "code",
   "execution_count": 3,
   "metadata": {
    "execution": {
     "iopub.execute_input": "2020-08-22T10:11:36.334599Z",
     "iopub.status.busy": "2020-08-22T10:11:36.327649Z",
     "iopub.status.idle": "2020-08-22T10:11:37.535561Z",
     "shell.execute_reply": "2020-08-22T10:11:37.534567Z"
    },
    "papermill": {
     "duration": 1.234114,
     "end_time": "2020-08-22T10:11:37.535703",
     "exception": false,
     "start_time": "2020-08-22T10:11:36.301589",
     "status": "completed"
    },
    "tags": []
   },
   "outputs": [
    {
     "name": "stdout",
     "output_type": "stream",
     "text": [
      "Collecting mnist\r\n"
     ]
    },
    {
     "name": "stdout",
     "output_type": "stream",
     "text": [
      "  Downloading mnist-0.2.2-py2.py3-none-any.whl (3.5 kB)\r\n",
      "Requirement already satisfied: numpy in /opt/hostedtoolcache/Python/3.6.11/x64/lib/python3.6/site-packages (from mnist) (1.19.1)\r\n"
     ]
    },
    {
     "name": "stdout",
     "output_type": "stream",
     "text": [
      "Installing collected packages: mnist\r\n"
     ]
    },
    {
     "name": "stdout",
     "output_type": "stream",
     "text": [
      "Successfully installed mnist-0.2.2\r\n"
     ]
    }
   ],
   "source": [
    "!pip install mnist # Please note, it is commented out for now, you can remove comment if you want to install it"
   ]
  },
  {
   "cell_type": "markdown",
   "metadata": {
    "papermill": {
     "duration": 0.025319,
     "end_time": "2020-08-22T10:11:37.587847",
     "exception": false,
     "start_time": "2020-08-22T10:11:37.562528",
     "status": "completed"
    },
    "tags": []
   },
   "source": [
    "#### Preparing the Data"
   ]
  },
  {
   "cell_type": "code",
   "execution_count": 4,
   "metadata": {
    "execution": {
     "iopub.execute_input": "2020-08-22T10:11:37.643832Z",
     "iopub.status.busy": "2020-08-22T10:11:37.642628Z",
     "iopub.status.idle": "2020-08-22T10:11:37.654515Z",
     "shell.execute_reply": "2020-08-22T10:11:37.654940Z"
    },
    "papermill": {
     "duration": 0.041806,
     "end_time": "2020-08-22T10:11:37.655068",
     "exception": false,
     "start_time": "2020-08-22T10:11:37.613262",
     "status": "completed"
    },
    "tags": []
   },
   "outputs": [],
   "source": [
    "import mnist"
   ]
  },
  {
   "cell_type": "code",
   "execution_count": 5,
   "metadata": {
    "execution": {
     "iopub.execute_input": "2020-08-22T10:11:37.708178Z",
     "iopub.status.busy": "2020-08-22T10:11:37.707659Z",
     "iopub.status.idle": "2020-08-22T10:11:38.567195Z",
     "shell.execute_reply": "2020-08-22T10:11:38.566218Z"
    },
    "papermill": {
     "duration": 0.887125,
     "end_time": "2020-08-22T10:11:38.567323",
     "exception": false,
     "start_time": "2020-08-22T10:11:37.680198",
     "status": "completed"
    },
    "tags": []
   },
   "outputs": [],
   "source": [
    "train_images = mnist.train_images()\n",
    "train_labels = mnist.train_labels()"
   ]
  },
  {
   "cell_type": "code",
   "execution_count": 6,
   "metadata": {
    "execution": {
     "iopub.execute_input": "2020-08-22T10:11:38.621192Z",
     "iopub.status.busy": "2020-08-22T10:11:38.619760Z",
     "iopub.status.idle": "2020-08-22T10:11:38.632181Z",
     "shell.execute_reply": "2020-08-22T10:11:38.632619Z"
    },
    "papermill": {
     "duration": 0.039718,
     "end_time": "2020-08-22T10:11:38.632740",
     "exception": false,
     "start_time": "2020-08-22T10:11:38.593022",
     "status": "completed"
    },
    "tags": []
   },
   "outputs": [
    {
     "data": {
      "text/plain": [
       "((60000, 28, 28), (60000,))"
      ]
     },
     "execution_count": 6,
     "metadata": {},
     "output_type": "execute_result"
    }
   ],
   "source": [
    "train_images.shape, train_labels.shape"
   ]
  },
  {
   "cell_type": "code",
   "execution_count": 7,
   "metadata": {
    "execution": {
     "iopub.execute_input": "2020-08-22T10:11:38.687362Z",
     "iopub.status.busy": "2020-08-22T10:11:38.686827Z",
     "iopub.status.idle": "2020-08-22T10:11:38.910213Z",
     "shell.execute_reply": "2020-08-22T10:11:38.909552Z"
    },
    "papermill": {
     "duration": 0.251053,
     "end_time": "2020-08-22T10:11:38.910348",
     "exception": false,
     "start_time": "2020-08-22T10:11:38.659295",
     "status": "completed"
    },
    "tags": []
   },
   "outputs": [],
   "source": [
    "test_images = mnist.test_images()\n",
    "test_labels = mnist.test_labels()"
   ]
  },
  {
   "cell_type": "code",
   "execution_count": 8,
   "metadata": {
    "execution": {
     "iopub.execute_input": "2020-08-22T10:11:38.965063Z",
     "iopub.status.busy": "2020-08-22T10:11:38.964029Z",
     "iopub.status.idle": "2020-08-22T10:11:38.979657Z",
     "shell.execute_reply": "2020-08-22T10:11:38.978992Z"
    },
    "papermill": {
     "duration": 0.043407,
     "end_time": "2020-08-22T10:11:38.979782",
     "exception": false,
     "start_time": "2020-08-22T10:11:38.936375",
     "status": "completed"
    },
    "tags": []
   },
   "outputs": [
    {
     "data": {
      "text/plain": [
       "((10000, 28, 28), (10000,))"
      ]
     },
     "execution_count": 8,
     "metadata": {},
     "output_type": "execute_result"
    }
   ],
   "source": [
    "test_images.shape, test_labels.shape"
   ]
  },
  {
   "cell_type": "code",
   "execution_count": 9,
   "metadata": {
    "execution": {
     "iopub.execute_input": "2020-08-22T10:11:39.033706Z",
     "iopub.status.busy": "2020-08-22T10:11:39.033176Z",
     "iopub.status.idle": "2020-08-22T10:11:39.183974Z",
     "shell.execute_reply": "2020-08-22T10:11:39.183194Z"
    },
    "papermill": {
     "duration": 0.178345,
     "end_time": "2020-08-22T10:11:39.184091",
     "exception": false,
     "start_time": "2020-08-22T10:11:39.005746",
     "status": "completed"
    },
    "tags": []
   },
   "outputs": [
    {
     "name": "stdout",
     "output_type": "stream",
     "text": [
      "2\n"
     ]
    },
    {
     "data": {
      "text/plain": [
       "<matplotlib.image.AxesImage at 0x7f188bf730b8>"
      ]
     },
     "execution_count": 9,
     "metadata": {},
     "output_type": "execute_result"
    },
    {
     "data": {
      "image/png": "[encoded data removed]",
      "text/plain": [
       "<Figure size 432x288 with 1 Axes>"
      ]
     },
     "metadata": {
      "needs_background": "light"
     },
     "output_type": "display_data"
    }
   ],
   "source": [
    "image_index = 7776 # You may select anything up to 60,000\n",
    "print(train_labels[image_index]) \n",
    "plt.imshow(train_images[image_index], cmap='Greys')"
   ]
  },
  {
   "cell_type": "markdown",
   "metadata": {
    "papermill": {
     "duration": 0.025359,
     "end_time": "2020-08-22T10:11:39.235492",
     "exception": false,
     "start_time": "2020-08-22T10:11:39.210133",
     "status": "completed"
    },
    "tags": []
   },
   "source": [
    "## Filter data to get 3 and 8 out"
   ]
  },
  {
   "cell_type": "code",
   "execution_count": 10,
   "metadata": {
    "execution": {
     "iopub.execute_input": "2020-08-22T10:11:39.289874Z",
     "iopub.status.busy": "2020-08-22T10:11:39.289318Z",
     "iopub.status.idle": "2020-08-22T10:11:39.305208Z",
     "shell.execute_reply": "2020-08-22T10:11:39.304686Z"
    },
    "papermill": {
     "duration": 0.044237,
     "end_time": "2020-08-22T10:11:39.305318",
     "exception": false,
     "start_time": "2020-08-22T10:11:39.261081",
     "status": "completed"
    },
    "tags": []
   },
   "outputs": [],
   "source": [
    "train_filter = np.where((train_labels == 3 ) | (train_labels == 8))\n",
    "test_filter = np.where((test_labels == 3) | (test_labels == 8))\n",
    "X_train, y_train = train_images[train_filter], train_labels[train_filter]\n",
    "X_test, y_test = test_images[test_filter], test_labels[test_filter]"
   ]
  },
  {
   "cell_type": "markdown",
   "metadata": {
    "papermill": {
     "duration": 0.025441,
     "end_time": "2020-08-22T10:11:39.355963",
     "exception": false,
     "start_time": "2020-08-22T10:11:39.330522",
     "status": "completed"
    },
    "tags": []
   },
   "source": [
    "##### We normalize the pizel values in the 0 to 1 range"
   ]
  },
  {
   "cell_type": "code",
   "execution_count": 11,
   "metadata": {
    "execution": {
     "iopub.execute_input": "2020-08-22T10:11:39.412498Z",
     "iopub.status.busy": "2020-08-22T10:11:39.411940Z",
     "iopub.status.idle": "2020-08-22T10:11:39.470460Z",
     "shell.execute_reply": "2020-08-22T10:11:39.469729Z"
    },
    "papermill": {
     "duration": 0.087628,
     "end_time": "2020-08-22T10:11:39.470668",
     "exception": false,
     "start_time": "2020-08-22T10:11:39.383040",
     "status": "completed"
    },
    "tags": []
   },
   "outputs": [],
   "source": [
    "X_train = X_train/255.\n",
    "X_test = X_test/255."
   ]
  },
  {
   "cell_type": "markdown",
   "metadata": {
    "papermill": {
     "duration": 0.02761,
     "end_time": "2020-08-22T10:11:39.530555",
     "exception": false,
     "start_time": "2020-08-22T10:11:39.502945",
     "status": "completed"
    },
    "tags": []
   },
   "source": [
    "And setup the labels as 1 (when the digit is 3) and 0 (when the digit is 8)"
   ]
  },
  {
   "cell_type": "code",
   "execution_count": 12,
   "metadata": {
    "execution": {
     "iopub.execute_input": "2020-08-22T10:11:39.585508Z",
     "iopub.status.busy": "2020-08-22T10:11:39.584974Z",
     "iopub.status.idle": "2020-08-22T10:11:39.595836Z",
     "shell.execute_reply": "2020-08-22T10:11:39.595375Z"
    },
    "papermill": {
     "duration": 0.039595,
     "end_time": "2020-08-22T10:11:39.595944",
     "exception": false,
     "start_time": "2020-08-22T10:11:39.556349",
     "status": "completed"
    },
    "tags": []
   },
   "outputs": [],
   "source": [
    "y_train = 1*(y_train==3)\n",
    "y_test = 1*(y_test==3)"
   ]
  },
  {
   "cell_type": "code",
   "execution_count": 13,
   "metadata": {
    "execution": {
     "iopub.execute_input": "2020-08-22T10:11:39.650714Z",
     "iopub.status.busy": "2020-08-22T10:11:39.650181Z",
     "iopub.status.idle": "2020-08-22T10:11:39.660266Z",
     "shell.execute_reply": "2020-08-22T10:11:39.660717Z"
    },
    "papermill": {
     "duration": 0.039145,
     "end_time": "2020-08-22T10:11:39.660836",
     "exception": false,
     "start_time": "2020-08-22T10:11:39.621691",
     "status": "completed"
    },
    "tags": []
   },
   "outputs": [
    {
     "data": {
      "text/plain": [
       "((11982, 28, 28), (1984, 28, 28))"
      ]
     },
     "execution_count": 13,
     "metadata": {},
     "output_type": "execute_result"
    }
   ],
   "source": [
    "X_train.shape, X_test.shape"
   ]
  },
  {
   "cell_type": "markdown",
   "metadata": {
    "papermill": {
     "duration": 0.026033,
     "end_time": "2020-08-22T10:11:39.712731",
     "exception": false,
     "start_time": "2020-08-22T10:11:39.686698",
     "status": "completed"
    },
    "tags": []
   },
   "source": [
    "##### We reshape the data to flatten the image pixels into a set of features or co-variates:"
   ]
  },
  {
   "cell_type": "code",
   "execution_count": 14,
   "metadata": {
    "execution": {
     "iopub.execute_input": "2020-08-22T10:11:39.768025Z",
     "iopub.status.busy": "2020-08-22T10:11:39.767511Z",
     "iopub.status.idle": "2020-08-22T10:11:39.779185Z",
     "shell.execute_reply": "2020-08-22T10:11:39.779610Z"
    },
    "papermill": {
     "duration": 0.040886,
     "end_time": "2020-08-22T10:11:39.779723",
     "exception": false,
     "start_time": "2020-08-22T10:11:39.738837",
     "status": "completed"
    },
    "tags": []
   },
   "outputs": [
    {
     "data": {
      "text/plain": [
       "((11982, 784), (1984, 784))"
      ]
     },
     "execution_count": 14,
     "metadata": {},
     "output_type": "execute_result"
    }
   ],
   "source": [
    "X_train = X_train.reshape(X_train.shape[0], -1)\n",
    "X_test = X_test.reshape(X_test.shape[0], -1)\n",
    "X_train.shape, X_test.shape"
   ]
  },
  {
   "cell_type": "markdown",
   "metadata": {
    "papermill": {
     "duration": 0.025727,
     "end_time": "2020-08-22T10:11:39.831185",
     "exception": false,
     "start_time": "2020-08-22T10:11:39.805458",
     "status": "completed"
    },
    "tags": []
   },
   "source": [
    "##### Importing Kudzu library and its functionality"
   ]
  },
  {
   "cell_type": "code",
   "execution_count": 15,
   "metadata": {
    "execution": {
     "iopub.execute_input": "2020-08-22T10:11:39.886748Z",
     "iopub.status.busy": "2020-08-22T10:11:39.886146Z",
     "iopub.status.idle": "2020-08-22T10:11:39.901920Z",
     "shell.execute_reply": "2020-08-22T10:11:39.901295Z"
    },
    "papermill": {
     "duration": 0.044813,
     "end_time": "2020-08-22T10:11:39.902046",
     "exception": false,
     "start_time": "2020-08-22T10:11:39.857233",
     "status": "completed"
    },
    "tags": []
   },
   "outputs": [],
   "source": [
    "from kudzu.data import Data, Dataloader, Sampler\n",
    "from kudzu.callbacks import AccCallback\n",
    "from kudzu.loss import MSE\n",
    "from kudzu.layer import Affine, Sigmoid\n",
    "from kudzu.model import Model\n",
    "from kudzu.optim import GD\n",
    "from kudzu.train import Learner\n",
    "from kudzu.callbacks import ClfCallback\n",
    "from kudzu.layer import Sigmoid\n",
    "from kudzu.layer import Relu"
   ]
  },
  {
   "cell_type": "markdown",
   "metadata": {
    "papermill": {
     "duration": 0.027466,
     "end_time": "2020-08-22T10:11:39.956180",
     "exception": false,
     "start_time": "2020-08-22T10:11:39.928714",
     "status": "completed"
    },
    "tags": []
   },
   "source": [
    "##### We are creating a class, just so that we can use it to store our parameters for us"
   ]
  },
  {
   "cell_type": "code",
   "execution_count": 16,
   "metadata": {
    "execution": {
     "iopub.execute_input": "2020-08-22T10:11:40.019117Z",
     "iopub.status.busy": "2020-08-22T10:11:40.018561Z",
     "iopub.status.idle": "2020-08-22T10:11:40.027781Z",
     "shell.execute_reply": "2020-08-22T10:11:40.028205Z"
    },
    "papermill": {
     "duration": 0.043585,
     "end_time": "2020-08-22T10:11:40.028317",
     "exception": false,
     "start_time": "2020-08-22T10:11:39.984732",
     "status": "completed"
    },
    "tags": []
   },
   "outputs": [],
   "source": [
    "class Config:\n",
    "    pass\n",
    "config = Config()\n",
    "config.lr = 0.001\n",
    "config.num_epochs = 250\n",
    "config.bs = 50"
   ]
  },
  {
   "cell_type": "markdown",
   "metadata": {
    "papermill": {
     "duration": 0.026732,
     "end_time": "2020-08-22T10:11:40.080286",
     "exception": false,
     "start_time": "2020-08-22T10:11:40.053554",
     "status": "completed"
    },
    "tags": []
   },
   "source": [
    "##### Initializing Data"
   ]
  },
  {
   "cell_type": "code",
   "execution_count": 17,
   "metadata": {
    "execution": {
     "iopub.execute_input": "2020-08-22T10:11:40.136179Z",
     "iopub.status.busy": "2020-08-22T10:11:40.135225Z",
     "iopub.status.idle": "2020-08-22T10:11:40.144768Z",
     "shell.execute_reply": "2020-08-22T10:11:40.145215Z"
    },
    "papermill": {
     "duration": 0.038664,
     "end_time": "2020-08-22T10:11:40.145328",
     "exception": false,
     "start_time": "2020-08-22T10:11:40.106664",
     "status": "completed"
    },
    "tags": []
   },
   "outputs": [],
   "source": [
    "data = Data(X_train, y_train.reshape(-1,1))\n",
    "loss = MSE()\n",
    "opt = GD(config.lr)\n",
    "sampler = Sampler(data, config.bs, shuffle=True)\n",
    "dl = Dataloader(data, sampler)"
   ]
  },
  {
   "cell_type": "markdown",
   "metadata": {
    "papermill": {
     "duration": 0.025634,
     "end_time": "2020-08-22T10:11:40.197563",
     "exception": false,
     "start_time": "2020-08-22T10:11:40.171929",
     "status": "completed"
    },
    "tags": []
   },
   "source": [
    "##### Constructing 2 different layers, one for NN and one only for logistic regression."
   ]
  },
  {
   "cell_type": "markdown",
   "metadata": {
    "papermill": {
     "duration": 0.027419,
     "end_time": "2020-08-22T10:11:40.250810",
     "exception": false,
     "start_time": "2020-08-22T10:11:40.223391",
     "status": "completed"
    },
    "tags": []
   },
   "source": [
    "##### Creating containers for data to be passed, to calculate accuracies"
   ]
  },
  {
   "cell_type": "code",
   "execution_count": 18,
   "metadata": {
    "execution": {
     "iopub.execute_input": "2020-08-22T10:11:40.306048Z",
     "iopub.status.busy": "2020-08-22T10:11:40.305481Z",
     "iopub.status.idle": "2020-08-22T10:11:40.315455Z",
     "shell.execute_reply": "2020-08-22T10:11:40.315007Z"
    },
    "papermill": {
     "duration": 0.038556,
     "end_time": "2020-08-22T10:11:40.315557",
     "exception": false,
     "start_time": "2020-08-22T10:11:40.277001",
     "status": "completed"
    },
    "tags": []
   },
   "outputs": [],
   "source": [
    "training_xdata = X_train\n",
    "testing_xdata = X_test\n",
    "training_ydata = y_train.reshape(-1,1)\n",
    "testing_ydata = y_test.reshape(-1,1)"
   ]
  },
  {
   "cell_type": "markdown",
   "metadata": {
    "papermill": {
     "duration": 0.025891,
     "end_time": "2020-08-22T10:11:40.367214",
     "exception": false,
     "start_time": "2020-08-22T10:11:40.341323",
     "status": "completed"
    },
    "tags": []
   },
   "source": [
    "##### Initializing models and Running training loop: "
   ]
  },
  {
   "cell_type": "code",
   "execution_count": 19,
   "metadata": {
    "execution": {
     "iopub.execute_input": "2020-08-22T10:11:40.422689Z",
     "iopub.status.busy": "2020-08-22T10:11:40.422161Z",
     "iopub.status.idle": "2020-08-22T10:11:40.434614Z",
     "shell.execute_reply": "2020-08-22T10:11:40.434103Z"
    },
    "papermill": {
     "duration": 0.041389,
     "end_time": "2020-08-22T10:11:40.434717",
     "exception": false,
     "start_time": "2020-08-22T10:11:40.393328",
     "status": "completed"
    },
    "tags": []
   },
   "outputs": [],
   "source": [
    "layers = [Affine(\"first\", 784, 100), Relu(\"first\"), Affine(\"second\", 100, 100), Relu(\"second\"), Affine(\"third\", 100, 2), Affine(\"final\", 2, 1), Sigmoid(\"final\")]\n",
    "\n",
    "model_neural = Model(layers)\n",
    "model_logistic = Model([Affine(\"logits\", 784, 1), Sigmoid(\"sigmoid\")])"
   ]
  },
  {
   "cell_type": "code",
   "execution_count": 20,
   "metadata": {
    "execution": {
     "iopub.execute_input": "2020-08-22T10:11:40.489243Z",
     "iopub.status.busy": "2020-08-22T10:11:40.488703Z",
     "iopub.status.idle": "2020-08-22T10:11:40.499794Z",
     "shell.execute_reply": "2020-08-22T10:11:40.499329Z"
    },
    "papermill": {
     "duration": 0.039792,
     "end_time": "2020-08-22T10:11:40.499899",
     "exception": false,
     "start_time": "2020-08-22T10:11:40.460107",
     "status": "completed"
    },
    "tags": []
   },
   "outputs": [],
   "source": [
    "learner1 = Learner(loss, model_neural, opt, config.num_epochs)\n",
    "acc1 = ClfCallback(learner1, config.bs, training_xdata , testing_xdata, training_ydata, testing_ydata)\n",
    "learner1.set_callbacks([acc1])"
   ]
  },
  {
   "cell_type": "code",
   "execution_count": 21,
   "metadata": {
    "execution": {
     "iopub.execute_input": "2020-08-22T10:11:40.559187Z",
     "iopub.status.busy": "2020-08-22T10:11:40.558674Z",
     "iopub.status.idle": "2020-08-22T10:13:39.609847Z",
     "shell.execute_reply": "2020-08-22T10:13:39.610531Z"
    },
    "papermill": {
     "duration": 119.081409,
     "end_time": "2020-08-22T10:13:39.610674",
     "exception": false,
     "start_time": "2020-08-22T10:11:40.529265",
     "status": "completed"
    },
    "tags": []
   },
   "outputs": [
    {
     "name": "stdout",
     "output_type": "stream",
     "text": [
      "Epoch 0 Loss 0.2596328878930266\n",
      "train accuracy is: 0.48890001669170424, test accuracy is 0.49294354838709675\n"
     ]
    },
    {
     "name": "stdout",
     "output_type": "stream",
     "text": [
      "Epoch 10 Loss 0.17084183979750156\n",
      "train accuracy is: 0.8736437990318812, test accuracy is 0.8850806451612904\n"
     ]
    },
    {
     "name": "stdout",
     "output_type": "stream",
     "text": [
      "Epoch 20 Loss 0.08547319031038983\n",
      "train accuracy is: 0.9177933567017192, test accuracy is 0.9274193548387096\n"
     ]
    },
    {
     "name": "stdout",
     "output_type": "stream",
     "text": [
      "Epoch 30 Loss 0.05631222249410096\n",
      "train accuracy is: 0.9424970789517609, test accuracy is 0.9506048387096774\n"
     ]
    },
    {
     "name": "stdout",
     "output_type": "stream",
     "text": [
      "Epoch 40 Loss 0.043975019323377856\n",
      "train accuracy is: 0.9525121014855616, test accuracy is 0.9586693548387096\n"
     ]
    },
    {
     "name": "stdout",
     "output_type": "stream",
     "text": [
      "Epoch 50 Loss 0.03771676154087536\n",
      "train accuracy is: 0.9601068269070272, test accuracy is 0.9632056451612904\n"
     ]
    },
    {
     "name": "stdout",
     "output_type": "stream",
     "text": [
      "Epoch 60 Loss 0.033999234426141806\n",
      "train accuracy is: 0.9630278751460524, test accuracy is 0.9672379032258065\n"
     ]
    },
    {
     "name": "stdout",
     "output_type": "stream",
     "text": [
      "Epoch 70 Loss 0.03149871978899694\n",
      "train accuracy is: 0.9651143381739276, test accuracy is 0.9682459677419355\n"
     ]
    },
    {
     "name": "stdout",
     "output_type": "stream",
     "text": [
      "Epoch 80 Loss 0.02965066675048982\n",
      "train accuracy is: 0.9661158404273076, test accuracy is 0.9682459677419355\n"
     ]
    },
    {
     "name": "stdout",
     "output_type": "stream",
     "text": [
      "Epoch 90 Loss 0.02819239673428685\n",
      "train accuracy is: 0.9674511767651477, test accuracy is 0.969758064516129\n"
     ]
    },
    {
     "name": "stdout",
     "output_type": "stream",
     "text": [
      "Epoch 100 Loss 0.027005210664732236\n",
      "train accuracy is: 0.9685361375396428, test accuracy is 0.9702620967741935\n"
     ]
    },
    {
     "name": "stdout",
     "output_type": "stream",
     "text": [
      "Epoch 110 Loss 0.02599180482326052\n",
      "train accuracy is: 0.9700383909197129, test accuracy is 0.9692540322580645\n"
     ]
    },
    {
     "name": "stdout",
     "output_type": "stream",
     "text": [
      "Epoch 120 Loss 0.025101280352060256\n",
      "train accuracy is: 0.970288766483058, test accuracy is 0.9692540322580645\n"
     ]
    },
    {
     "name": "stdout",
     "output_type": "stream",
     "text": [
      "Epoch 130 Loss 0.024320176670596806\n",
      "train accuracy is: 0.9716241028208981, test accuracy is 0.969758064516129\n"
     ]
    },
    {
     "name": "stdout",
     "output_type": "stream",
     "text": [
      "Epoch 140 Loss 0.023624328910904057\n",
      "train accuracy is: 0.9727090635953931, test accuracy is 0.9692540322580645\n"
     ]
    },
    {
     "name": "stdout",
     "output_type": "stream",
     "text": [
      "Epoch 150 Loss 0.02298516591935254\n",
      "train accuracy is: 0.9730428976798531, test accuracy is 0.9707661290322581\n"
     ]
    },
    {
     "name": "stdout",
     "output_type": "stream",
     "text": [
      "Epoch 160 Loss 0.02239835948383623\n",
      "train accuracy is: 0.9739609414121182, test accuracy is 0.9702620967741935\n"
     ]
    },
    {
     "name": "stdout",
     "output_type": "stream",
     "text": [
      "Epoch 170 Loss 0.02185972161159122\n",
      "train accuracy is: 0.9740443999332332, test accuracy is 0.9702620967741935\n"
     ]
    },
    {
     "name": "stdout",
     "output_type": "stream",
     "text": [
      "Epoch 180 Loss 0.021342186645329542\n",
      "train accuracy is: 0.9747120681021533, test accuracy is 0.9707661290322581\n"
     ]
    },
    {
     "name": "stdout",
     "output_type": "stream",
     "text": [
      "Epoch 190 Loss 0.020875397531924512\n",
      "train accuracy is: 0.9755466533133033, test accuracy is 0.9707661290322581\n"
     ]
    },
    {
     "name": "stdout",
     "output_type": "stream",
     "text": [
      "Epoch 200 Loss 0.020432473528762683\n",
      "train accuracy is: 0.9767985311300283, test accuracy is 0.9707661290322581\n"
     ]
    },
    {
     "name": "stdout",
     "output_type": "stream",
     "text": [
      "Epoch 210 Loss 0.02001623882804356\n",
      "train accuracy is: 0.9773827407778334, test accuracy is 0.9707661290322581\n"
     ]
    },
    {
     "name": "stdout",
     "output_type": "stream",
     "text": [
      "Epoch 220 Loss 0.019613170767037932\n",
      "train accuracy is: 0.9776331163411784, test accuracy is 0.9717741935483871\n"
     ]
    },
    {
     "name": "stdout",
     "output_type": "stream",
     "text": [
      "Epoch 230 Loss 0.019233498870540343\n",
      "train accuracy is: 0.9781338674678685, test accuracy is 0.9727822580645161\n"
     ]
    },
    {
     "name": "stdout",
     "output_type": "stream",
     "text": [
      "Epoch 240 Loss 0.018865741590701885\n",
      "train accuracy is: 0.9787180771156735, test accuracy is 0.9727822580645161\n"
     ]
    },
    {
     "data": {
      "text/plain": [
       "0.0714349330268895"
      ]
     },
     "execution_count": 21,
     "metadata": {},
     "output_type": "execute_result"
    }
   ],
   "source": [
    "learner1.train_loop(dl)"
   ]
  },
  {
   "cell_type": "markdown",
   "metadata": {
    "papermill": {
     "duration": 0.035059,
     "end_time": "2020-08-22T10:13:39.683959",
     "exception": false,
     "start_time": "2020-08-22T10:13:39.648900",
     "status": "completed"
    },
    "tags": []
   },
   "source": [
    "##### Now running only the logistic regression based classification to compare results with NN"
   ]
  },
  {
   "cell_type": "code",
   "execution_count": 22,
   "metadata": {
    "execution": {
     "iopub.execute_input": "2020-08-22T10:13:39.751712Z",
     "iopub.status.busy": "2020-08-22T10:13:39.751178Z",
     "iopub.status.idle": "2020-08-22T10:13:39.761666Z",
     "shell.execute_reply": "2020-08-22T10:13:39.761162Z"
    },
    "papermill": {
     "duration": 0.045624,
     "end_time": "2020-08-22T10:13:39.761791",
     "exception": false,
     "start_time": "2020-08-22T10:13:39.716167",
     "status": "completed"
    },
    "tags": []
   },
   "outputs": [],
   "source": [
    "learner2 = Learner(loss, model_logistic, opt, config.num_epochs)\n",
    "acc2 = ClfCallback(learner2, config.bs, training_xdata , testing_xdata, training_ydata, testing_ydata)\n",
    "learner2.set_callbacks([acc2])"
   ]
  },
  {
   "cell_type": "code",
   "execution_count": 23,
   "metadata": {
    "execution": {
     "iopub.execute_input": "2020-08-22T10:13:39.836597Z",
     "iopub.status.busy": "2020-08-22T10:13:39.829413Z",
     "iopub.status.idle": "2020-08-22T10:13:56.817302Z",
     "shell.execute_reply": "2020-08-22T10:13:56.818107Z"
    },
    "papermill": {
     "duration": 17.023786,
     "end_time": "2020-08-22T10:13:56.818270",
     "exception": false,
     "start_time": "2020-08-22T10:13:39.794484",
     "status": "completed"
    },
    "tags": []
   },
   "outputs": [
    {
     "name": "stdout",
     "output_type": "stream",
     "text": [
      "Epoch 0 Loss 0.2489057925055257\n",
      "train accuracy is: 0.6439659489233851, test accuracy is 0.6522177419354839\n"
     ]
    },
    {
     "name": "stdout",
     "output_type": "stream",
     "text": [
      "Epoch 10 Loss 0.10714054264274052\n",
      "train accuracy is: 0.8977633116341178, test accuracy is 0.9067540322580645\n"
     ]
    },
    {
     "name": "stdout",
     "output_type": "stream",
     "text": [
      "Epoch 20 Loss 0.08151323369386806\n",
      "train accuracy is: 0.9237189117008847, test accuracy is 0.9329637096774194\n"
     ]
    },
    {
     "name": "stdout",
     "output_type": "stream",
     "text": [
      "Epoch 30 Loss 0.06971533402748169\n",
      "train accuracy is: 0.9342346853613754, test accuracy is 0.9455645161290323\n"
     ]
    },
    {
     "name": "stdout",
     "output_type": "stream",
     "text": [
      "Epoch 40 Loss 0.06265559157015879\n",
      "train accuracy is: 0.9396594892338508, test accuracy is 0.9516129032258065\n"
     ]
    },
    {
     "name": "stdout",
     "output_type": "stream",
     "text": [
      "Epoch 50 Loss 0.05787031309881482\n",
      "train accuracy is: 0.943748956768486, test accuracy is 0.9556451612903226\n"
     ]
    },
    {
     "name": "stdout",
     "output_type": "stream",
     "text": [
      "Epoch 60 Loss 0.054372747168117845\n",
      "train accuracy is: 0.9465865464863963, test accuracy is 0.9576612903225806\n"
     ]
    },
    {
     "name": "stdout",
     "output_type": "stream",
     "text": [
      "Epoch 70 Loss 0.051683229099705075\n",
      "train accuracy is: 0.9488399265565014, test accuracy is 0.9591733870967742\n"
     ]
    },
    {
     "name": "stdout",
     "output_type": "stream",
     "text": [
      "Epoch 80 Loss 0.0495363073275933\n",
      "train accuracy is: 0.9503421799365716, test accuracy is 0.9616935483870968\n"
     ]
    },
    {
     "name": "stdout",
     "output_type": "stream",
     "text": [
      "Epoch 90 Loss 0.04777251111023321\n",
      "train accuracy is: 0.9512602236688366, test accuracy is 0.9621975806451613\n"
     ]
    },
    {
     "name": "stdout",
     "output_type": "stream",
     "text": [
      "Epoch 100 Loss 0.046291647353260516\n",
      "train accuracy is: 0.9529293940911367, test accuracy is 0.9632056451612904\n"
     ]
    },
    {
     "name": "stdout",
     "output_type": "stream",
     "text": [
      "Epoch 110 Loss 0.04502655361986494\n",
      "train accuracy is: 0.9538474378234018, test accuracy is 0.9642137096774194\n"
     ]
    },
    {
     "name": "stdout",
     "output_type": "stream",
     "text": [
      "Epoch 120 Loss 0.043928363486716394\n",
      "train accuracy is: 0.9551827741612419, test accuracy is 0.9642137096774194\n"
     ]
    },
    {
     "name": "stdout",
     "output_type": "stream",
     "text": [
      "Epoch 130 Loss 0.04296525124462554\n",
      "train accuracy is: 0.956100817893507, test accuracy is 0.9647177419354839\n"
     ]
    },
    {
     "name": "stdout",
     "output_type": "stream",
     "text": [
      "Epoch 140 Loss 0.04210890537875909\n",
      "train accuracy is: 0.956935403104657, test accuracy is 0.9657258064516129\n"
     ]
    },
    {
     "name": "stdout",
     "output_type": "stream",
     "text": [
      "Epoch 150 Loss 0.04134316449202305\n",
      "train accuracy is: 0.957269237189117, test accuracy is 0.9657258064516129\n"
     ]
    },
    {
     "name": "stdout",
     "output_type": "stream",
     "text": [
      "Epoch 160 Loss 0.04065262865935726\n",
      "train accuracy is: 0.9579369053580371, test accuracy is 0.9657258064516129\n"
     ]
    },
    {
     "name": "stdout",
     "output_type": "stream",
     "text": [
      "Epoch 170 Loss 0.04002499419515784\n",
      "train accuracy is: 0.958604573526957, test accuracy is 0.9657258064516129\n"
     ]
    },
    {
     "name": "stdout",
     "output_type": "stream",
     "text": [
      "Epoch 180 Loss 0.039451876155261904\n",
      "train accuracy is: 0.9589384076114171, test accuracy is 0.9657258064516129\n"
     ]
    },
    {
     "name": "stdout",
     "output_type": "stream",
     "text": [
      "Epoch 190 Loss 0.03892433342200127\n",
      "train accuracy is: 0.9590218661325322, test accuracy is 0.9657258064516129\n"
     ]
    },
    {
     "name": "stdout",
     "output_type": "stream",
     "text": [
      "Epoch 200 Loss 0.03843842932321377\n",
      "train accuracy is: 0.9594391587381071, test accuracy is 0.9657258064516129\n"
     ]
    },
    {
     "name": "stdout",
     "output_type": "stream",
     "text": [
      "Epoch 210 Loss 0.03798865426683657\n",
      "train accuracy is: 0.9600233683859122, test accuracy is 0.9662298387096774\n"
     ]
    },
    {
     "name": "stdout",
     "output_type": "stream",
     "text": [
      "Epoch 220 Loss 0.037568923366698405\n",
      "train accuracy is: 0.9601902854281422, test accuracy is 0.9662298387096774\n"
     ]
    },
    {
     "name": "stdout",
     "output_type": "stream",
     "text": [
      "Epoch 230 Loss 0.03717794674220126\n",
      "train accuracy is: 0.9606075780337172, test accuracy is 0.9662298387096774\n"
     ]
    },
    {
     "name": "stdout",
     "output_type": "stream",
     "text": [
      "Epoch 240 Loss 0.03681199849197306\n",
      "train accuracy is: 0.9608579535970623, test accuracy is 0.9672379032258065\n"
     ]
    },
    {
     "data": {
      "text/plain": [
       "0.01776147848840069"
      ]
     },
     "execution_count": 23,
     "metadata": {},
     "output_type": "execute_result"
    }
   ],
   "source": [
    "learner2.train_loop(dl)"
   ]
  },
  {
   "cell_type": "markdown",
   "metadata": {
    "papermill": {
     "duration": 0.041229,
     "end_time": "2020-08-22T10:13:56.899705",
     "exception": false,
     "start_time": "2020-08-22T10:13:56.858476",
     "status": "completed"
    },
    "tags": []
   },
   "source": [
    "### Comparing results of NN and LR"
   ]
  },
  {
   "cell_type": "code",
   "execution_count": 24,
   "metadata": {
    "execution": {
     "iopub.execute_input": "2020-08-22T10:13:56.990169Z",
     "iopub.status.busy": "2020-08-22T10:13:56.989625Z",
     "iopub.status.idle": "2020-08-22T10:13:57.200684Z",
     "shell.execute_reply": "2020-08-22T10:13:57.200252Z"
    },
    "papermill": {
     "duration": 0.260558,
     "end_time": "2020-08-22T10:13:57.200799",
     "exception": false,
     "start_time": "2020-08-22T10:13:56.940241",
     "status": "completed"
    },
    "tags": []
   },
   "outputs": [
    {
     "data": {
      "text/plain": [
       "<matplotlib.legend.Legend at 0x7f188bb47828>"
      ]
     },
     "execution_count": 24,
     "metadata": {},
     "output_type": "execute_result"
    },
    {
     "data": {
      "image/png": "[encoded data removed]",
      "text/plain": [
       "<Figure size 576x360 with 1 Axes>"
      ]
     },
     "metadata": {
      "needs_background": "light"
     },
     "output_type": "display_data"
    }
   ],
   "source": [
    "plt.figure(figsize=(8,5))\n",
    "plt.plot(acc1.val_accuracies, 'g-', label = \"Val Accuracies - NN\")\n",
    "plt.plot(acc1.accuracies, 'r-', label = \"Accuracies - NN\")\n",
    "plt.plot(acc2.val_accuracies, 'b-', label = \"Val Accuracies - Logistic Reg\")\n",
    "plt.plot(acc2.accuracies, 'k-', label = \"Accuracies - Logistic Reg\")\n",
    "plt.ylim(0.8,1) ## for a more spread out view\n",
    "plt.legend()"
   ]
  },
  {
   "cell_type": "markdown",
   "metadata": {
    "papermill": {
     "duration": 0.047753,
     "end_time": "2020-08-22T10:13:57.291557",
     "exception": false,
     "start_time": "2020-08-22T10:13:57.243804",
     "status": "completed"
    },
    "tags": []
   },
   "source": [
    "### Clearly NN has a better accuracy over LR; NN is overfitting - Validation accuracy (green) has dropped below training accuracy (orange), also they are diverging. This problem is not seen in LR"
   ]
  },
  {
   "cell_type": "markdown",
   "metadata": {
    "papermill": {
     "duration": 0.041795,
     "end_time": "2020-08-22T10:13:57.374093",
     "exception": false,
     "start_time": "2020-08-22T10:13:57.332298",
     "status": "completed"
    },
    "tags": []
   },
   "source": [
    "##### Now we will be moving through the network, till the output of the second last affine where we get a 2 dimensional output. We will be plotting this 2d output and probability contours"
   ]
  },
  {
   "cell_type": "code",
   "execution_count": 25,
   "metadata": {
    "execution": {
     "iopub.execute_input": "2020-08-22T10:13:57.460382Z",
     "iopub.status.busy": "2020-08-22T10:13:57.459798Z",
     "iopub.status.idle": "2020-08-22T10:13:57.472382Z",
     "shell.execute_reply": "2020-08-22T10:13:57.471870Z"
    },
    "papermill": {
     "duration": 0.058321,
     "end_time": "2020-08-22T10:13:57.472489",
     "exception": false,
     "start_time": "2020-08-22T10:13:57.414168",
     "status": "completed"
    },
    "tags": []
   },
   "outputs": [],
   "source": [
    "model_new = Model(layers[:-2])"
   ]
  },
  {
   "cell_type": "code",
   "execution_count": 26,
   "metadata": {
    "execution": {
     "iopub.execute_input": "2020-08-22T10:13:57.555168Z",
     "iopub.status.busy": "2020-08-22T10:13:57.554657Z",
     "iopub.status.idle": "2020-08-22T10:13:57.576035Z",
     "shell.execute_reply": "2020-08-22T10:13:57.576535Z"
    },
    "papermill": {
     "duration": 0.063659,
     "end_time": "2020-08-22T10:13:57.576656",
     "exception": false,
     "start_time": "2020-08-22T10:13:57.512997",
     "status": "completed"
    },
    "tags": []
   },
   "outputs": [],
   "source": [
    "plot_testing = model_new(testing_xdata)"
   ]
  },
  {
   "cell_type": "markdown",
   "metadata": {
    "papermill": {
     "duration": 0.039429,
     "end_time": "2020-08-22T10:13:57.656516",
     "exception": false,
     "start_time": "2020-08-22T10:13:57.617087",
     "status": "completed"
    },
    "tags": []
   },
   "source": [
    "##### Plotting the scatter plot of points and color coding by class"
   ]
  },
  {
   "cell_type": "code",
   "execution_count": 27,
   "metadata": {
    "execution": {
     "iopub.execute_input": "2020-08-22T10:13:57.762416Z",
     "iopub.status.busy": "2020-08-22T10:13:57.756562Z",
     "iopub.status.idle": "2020-08-22T10:13:57.948504Z",
     "shell.execute_reply": "2020-08-22T10:13:57.949063Z"
    },
    "papermill": {
     "duration": 0.236795,
     "end_time": "2020-08-22T10:13:57.949215",
     "exception": false,
     "start_time": "2020-08-22T10:13:57.712420",
     "status": "completed"
    },
    "tags": []
   },
   "outputs": [
    {
     "data": {
      "image/png": "[encoded data removed]",
      "text/plain": [
       "<Figure size 576x504 with 1 Axes>"
      ]
     },
     "metadata": {
      "needs_background": "light"
     },
     "output_type": "display_data"
    }
   ],
   "source": [
    "plt.figure(figsize=(8,7))\n",
    "plt.scatter(plot_testing[:,0], plot_testing[:,1], alpha = 0.1, c = y_test.ravel());"
   ]
  },
  {
   "cell_type": "markdown",
   "metadata": {
    "papermill": {
     "duration": 0.043053,
     "end_time": "2020-08-22T10:13:58.043134",
     "exception": false,
     "start_time": "2020-08-22T10:13:58.000081",
     "status": "completed"
    },
    "tags": []
   },
   "source": [
    "##### Plotting probability contours"
   ]
  },
  {
   "cell_type": "code",
   "execution_count": 28,
   "metadata": {
    "execution": {
     "iopub.execute_input": "2020-08-22T10:13:58.134535Z",
     "iopub.status.busy": "2020-08-22T10:13:58.133976Z",
     "iopub.status.idle": "2020-08-22T10:13:58.145073Z",
     "shell.execute_reply": "2020-08-22T10:13:58.145512Z"
    },
    "papermill": {
     "duration": 0.058156,
     "end_time": "2020-08-22T10:13:58.145637",
     "exception": false,
     "start_time": "2020-08-22T10:13:58.087481",
     "status": "completed"
    },
    "tags": []
   },
   "outputs": [],
   "source": [
    "model_prob = Model(layers[-2:]) ## picking only last two layers to get probability. That is affine followed by sigmoid"
   ]
  },
  {
   "cell_type": "code",
   "execution_count": 29,
   "metadata": {
    "execution": {
     "iopub.execute_input": "2020-08-22T10:13:58.232169Z",
     "iopub.status.busy": "2020-08-22T10:13:58.231622Z",
     "iopub.status.idle": "2020-08-22T10:13:58.242461Z",
     "shell.execute_reply": "2020-08-22T10:13:58.242876Z"
    },
    "papermill": {
     "duration": 0.056106,
     "end_time": "2020-08-22T10:13:58.243001",
     "exception": false,
     "start_time": "2020-08-22T10:13:58.186895",
     "status": "completed"
    },
    "tags": []
   },
   "outputs": [],
   "source": [
    "xgrid = np.linspace(-4, 1, 100) ## Adjust these values based on above chart, roughly -4 to 1\n",
    "ygrid = np.linspace(-7.5, 7.5, 100) ## Adjust these values based on above chart, roughly -7.5, 7.5\n",
    "xg, yg = np.meshgrid(xgrid, ygrid)\n",
    "# xg and yg are now both 100X100, lets convert them to single arrays \n",
    "\n",
    "xg_interim = np.ravel(xg)\n",
    "yg_interim = np.ravel(yg)\n",
    "\n",
    "## xg_interim, yg_interim are now arrays of len 10000, now we will stack them and then transpose to get desired shape of n rows, 2 columns\n",
    "\n",
    "X_interim = np.vstack((xg_interim, yg_interim)) ## Please note vstack takes in a tuple\n",
    "X = X_interim.T\n",
    "\n",
    "## We want a shape of n rows and 2 columns to be able to feed this to last affine\n",
    "## This last affine takes only two columns, hence the above transformation\n",
    "probability_contour = model_prob(X).reshape(100,100) ## to make it consistent with xg, yg"
   ]
  },
  {
   "cell_type": "code",
   "execution_count": 30,
   "metadata": {
    "execution": {
     "iopub.execute_input": "2020-08-22T10:13:58.335858Z",
     "iopub.status.busy": "2020-08-22T10:13:58.335202Z",
     "iopub.status.idle": "2020-08-22T10:13:58.571511Z",
     "shell.execute_reply": "2020-08-22T10:13:58.571060Z"
    },
    "papermill": {
     "duration": 0.287529,
     "end_time": "2020-08-22T10:13:58.571631",
     "exception": false,
     "start_time": "2020-08-22T10:13:58.284102",
     "status": "completed"
    },
    "tags": []
   },
   "outputs": [
    {
     "data": {
      "image/png": "[encoded data removed]",
      "text/plain": [
       "<Figure size 576x504 with 1 Axes>"
      ]
     },
     "metadata": {
      "needs_background": "light"
     },
     "output_type": "display_data"
    }
   ],
   "source": [
    "plt.figure(figsize=(8,7))\n",
    "plt.scatter(plot_testing[:,0], plot_testing[:,1], alpha = 0.1, c = y_test.ravel())\n",
    "contours = plt.contour(xg,yg,probability_contour)\n",
    "plt.clabel(contours, inline = True );"
   ]
  }
 ],
 "metadata": {
  "kernelspec": {
   "display_name": "Python 3",
   "language": "python",
   "name": "python3"
  },
  "language_info": {
   "codemirror_mode": {
    "name": "ipython",
    "version": 3
   },
   "file_extension": ".py",
   "mimetype": "text/x-python",
   "name": "python",
   "nbconvert_exporter": "python",
   "pygments_lexer": "ipython3",
   "version": "3.6.11"
  },
  "papermill": {
   "duration": 145.327095,
   "end_time": "2020-08-22T10:13:59.846566",
   "environment_variables": {},
   "exception": null,
   "input_path": "2020-08-07-NN-new.ipynb",
   "output_path": "2020-08-07-NN-new.ipynb",
   "parameters": {},
   "start_time": "2020-08-22T10:11:34.519471",
   "version": "2.1.2"
  }
 },
 "nbformat": 4,
 "nbformat_minor": 4
}