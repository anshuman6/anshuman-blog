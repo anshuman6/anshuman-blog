{
 "cells": [
  {
   "cell_type": "markdown",
   "metadata": {
    "papermill": {
     "duration": 0.034829,
     "end_time": "2020-08-14T10:11:36.219368",
     "exception": false,
     "start_time": "2020-08-14T10:11:36.184539",
     "status": "completed"
    },
    "tags": []
   },
   "source": [
    "# \"Building a basic Neural Network from scratch - Kudzu\"\n",
    "\n",
    "- badges: true\n",
    "- author: Anshuman Gupta"
   ]
  },
  {
   "cell_type": "markdown",
   "metadata": {
    "papermill": {
     "duration": 0.028789,
     "end_time": "2020-08-14T10:11:36.281607",
     "exception": false,
     "start_time": "2020-08-14T10:11:36.252818",
     "status": "completed"
    },
    "tags": []
   },
   "source": [
    "#### In this project, the idea is to write a classifier to differentiate between handwritten digits 3 and 8, from the MNIST database.\n",
    "\n",
    "#### I will using a custom built neural network library called Kudzu.This has been developed as a part of KTF/Foundations course of Univ.ai (www.univ.ai). The source code for Kudzu Library and and this notebook can be found on my git-hub profile : www.https://github.com/anshuman6 under the folder project-solution. Any feedback and comments are welcome. Please feel free to email me at: anshuman6@gmail.com\n",
    "\n",
    "#### 1. I will be using the MNIST database. \n",
    "\n",
    "#### 2. I will be comparing the results of the 4 layer NN to a standard logistic regression"
   ]
  },
  {
   "cell_type": "markdown",
   "metadata": {
    "papermill": {
     "duration": 0.028715,
     "end_time": "2020-08-14T10:11:36.337691",
     "exception": false,
     "start_time": "2020-08-14T10:11:36.308976",
     "status": "completed"
    },
    "tags": []
   },
   "source": [
    "##### Importing all the necessary libraries"
   ]
  },
  {
   "cell_type": "code",
   "execution_count": 1,
   "metadata": {
    "execution": {
     "iopub.execute_input": "2020-08-14T10:11:36.402924Z",
     "iopub.status.busy": "2020-08-14T10:11:36.402221Z",
     "iopub.status.idle": "2020-08-14T10:11:36.413635Z",
     "shell.execute_reply": "2020-08-14T10:11:36.414382Z"
    },
    "papermill": {
     "duration": 0.046481,
     "end_time": "2020-08-14T10:11:36.414590",
     "exception": false,
     "start_time": "2020-08-14T10:11:36.368109",
     "status": "completed"
    },
    "tags": []
   },
   "outputs": [],
   "source": [
    "%load_ext autoreload\n",
    "%autoreload 2"
   ]
  },
  {
   "cell_type": "code",
   "execution_count": 2,
   "metadata": {
    "execution": {
     "iopub.execute_input": "2020-08-14T10:11:36.484982Z",
     "iopub.status.busy": "2020-08-14T10:11:36.484184Z",
     "iopub.status.idle": "2020-08-14T10:11:37.110731Z",
     "shell.execute_reply": "2020-08-14T10:11:37.110101Z"
    },
    "papermill": {
     "duration": 0.663824,
     "end_time": "2020-08-14T10:11:37.110883",
     "exception": false,
     "start_time": "2020-08-14T10:11:36.447059",
     "status": "completed"
    },
    "tags": []
   },
   "outputs": [],
   "source": [
    "%matplotlib inline\n",
    "import numpy as np\n",
    "import matplotlib.pyplot as plt\n",
    "import pandas as pd"
   ]
  },
  {
   "cell_type": "markdown",
   "metadata": {
    "papermill": {
     "duration": 0.033631,
     "end_time": "2020-08-14T10:11:37.177399",
     "exception": false,
     "start_time": "2020-08-14T10:11:37.143768",
     "status": "completed"
    },
    "tags": []
   },
   "source": [
    "##### The following command helps us download MNIST from notebook itself. You can skip this if you already have MNIST. You can also download it via your terminal."
   ]
  },
  {
   "cell_type": "code",
   "execution_count": 3,
   "metadata": {
    "execution": {
     "iopub.execute_input": "2020-08-14T10:11:37.248919Z",
     "iopub.status.busy": "2020-08-14T10:11:37.248200Z",
     "iopub.status.idle": "2020-08-14T10:11:38.857460Z",
     "shell.execute_reply": "2020-08-14T10:11:38.857994Z"
    },
    "papermill": {
     "duration": 1.648454,
     "end_time": "2020-08-14T10:11:38.858161",
     "exception": false,
     "start_time": "2020-08-14T10:11:37.209707",
     "status": "completed"
    },
    "tags": []
   },
   "outputs": [
    {
     "name": "stdout",
     "output_type": "stream",
     "text": [
      "Collecting mnist\r\n"
     ]
    },
    {
     "name": "stdout",
     "output_type": "stream",
     "text": [
      "  Downloading mnist-0.2.2-py2.py3-none-any.whl (3.5 kB)\r\n"
     ]
    },
    {
     "name": "stdout",
     "output_type": "stream",
     "text": [
      "Requirement already satisfied: numpy in /opt/hostedtoolcache/Python/3.6.11/x64/lib/python3.6/site-packages (from mnist) (1.19.1)\r\n"
     ]
    },
    {
     "name": "stdout",
     "output_type": "stream",
     "text": [
      "Installing collected packages: mnist\r\n"
     ]
    },
    {
     "name": "stdout",
     "output_type": "stream",
     "text": [
      "Successfully installed mnist-0.2.2\r\n"
     ]
    },
    {
     "name": "stdout",
     "output_type": "stream",
     "text": [
      "\u001b[33mWARNING: You are using pip version 20.2.1; however, version 20.2.2 is available.\r\n",
      "You should consider upgrading via the '/opt/hostedtoolcache/Python/3.6.11/x64/bin/python -m pip install --upgrade pip' command.\u001b[0m\r\n"
     ]
    }
   ],
   "source": [
    "!pip install mnist # Please note, it is commented out for now, you can remove comment if you want to install it"
   ]
  },
  {
   "cell_type": "markdown",
   "metadata": {
    "papermill": {
     "duration": 0.035119,
     "end_time": "2020-08-14T10:11:38.927758",
     "exception": false,
     "start_time": "2020-08-14T10:11:38.892639",
     "status": "completed"
    },
    "tags": []
   },
   "source": [
    "#### Preparing the Data"
   ]
  },
  {
   "cell_type": "code",
   "execution_count": 4,
   "metadata": {
    "execution": {
     "iopub.execute_input": "2020-08-14T10:11:39.012040Z",
     "iopub.status.busy": "2020-08-14T10:11:39.002446Z",
     "iopub.status.idle": "2020-08-14T10:11:39.019154Z",
     "shell.execute_reply": "2020-08-14T10:11:39.019749Z"
    },
    "papermill": {
     "duration": 0.059088,
     "end_time": "2020-08-14T10:11:39.019970",
     "exception": false,
     "start_time": "2020-08-14T10:11:38.960882",
     "status": "completed"
    },
    "tags": []
   },
   "outputs": [],
   "source": [
    "import mnist"
   ]
  },
  {
   "cell_type": "code",
   "execution_count": 5,
   "metadata": {
    "execution": {
     "iopub.execute_input": "2020-08-14T10:11:39.091899Z",
     "iopub.status.busy": "2020-08-14T10:11:39.091198Z",
     "iopub.status.idle": "2020-08-14T10:11:40.643251Z",
     "shell.execute_reply": "2020-08-14T10:11:40.642665Z"
    },
    "papermill": {
     "duration": 1.590496,
     "end_time": "2020-08-14T10:11:40.643419",
     "exception": false,
     "start_time": "2020-08-14T10:11:39.052923",
     "status": "completed"
    },
    "tags": []
   },
   "outputs": [],
   "source": [
    "train_images = mnist.train_images()\n",
    "train_labels = mnist.train_labels()"
   ]
  },
  {
   "cell_type": "code",
   "execution_count": 6,
   "metadata": {
    "execution": {
     "iopub.execute_input": "2020-08-14T10:11:40.723177Z",
     "iopub.status.busy": "2020-08-14T10:11:40.716341Z",
     "iopub.status.idle": "2020-08-14T10:11:40.730015Z",
     "shell.execute_reply": "2020-08-14T10:11:40.729519Z"
    },
    "papermill": {
     "duration": 0.05512,
     "end_time": "2020-08-14T10:11:40.730137",
     "exception": false,
     "start_time": "2020-08-14T10:11:40.675017",
     "status": "completed"
    },
    "tags": []
   },
   "outputs": [
    {
     "data": {
      "text/plain": [
       "((60000, 28, 28), (60000,))"
      ]
     },
     "execution_count": 6,
     "metadata": {},
     "output_type": "execute_result"
    }
   ],
   "source": [
    "train_images.shape, train_labels.shape"
   ]
  },
  {
   "cell_type": "code",
   "execution_count": 7,
   "metadata": {
    "execution": {
     "iopub.execute_input": "2020-08-14T10:11:40.803017Z",
     "iopub.status.busy": "2020-08-14T10:11:40.802473Z",
     "iopub.status.idle": "2020-08-14T10:11:41.702338Z",
     "shell.execute_reply": "2020-08-14T10:11:41.702837Z"
    },
    "papermill": {
     "duration": 0.939245,
     "end_time": "2020-08-14T10:11:41.703003",
     "exception": false,
     "start_time": "2020-08-14T10:11:40.763758",
     "status": "completed"
    },
    "tags": []
   },
   "outputs": [],
   "source": [
    "test_images = mnist.test_images()\n",
    "test_labels = mnist.test_labels()"
   ]
  },
  {
   "cell_type": "code",
   "execution_count": 8,
   "metadata": {
    "execution": {
     "iopub.execute_input": "2020-08-14T10:11:41.781277Z",
     "iopub.status.busy": "2020-08-14T10:11:41.780592Z",
     "iopub.status.idle": "2020-08-14T10:11:41.794940Z",
     "shell.execute_reply": "2020-08-14T10:11:41.794397Z"
    },
    "papermill": {
     "duration": 0.055548,
     "end_time": "2020-08-14T10:11:41.795108",
     "exception": false,
     "start_time": "2020-08-14T10:11:41.739560",
     "status": "completed"
    },
    "tags": []
   },
   "outputs": [
    {
     "data": {
      "text/plain": [
       "((10000, 28, 28), (10000,))"
      ]
     },
     "execution_count": 8,
     "metadata": {},
     "output_type": "execute_result"
    }
   ],
   "source": [
    "test_images.shape, test_labels.shape"
   ]
  },
  {
   "cell_type": "code",
   "execution_count": 9,
   "metadata": {
    "execution": {
     "iopub.execute_input": "2020-08-14T10:11:41.867831Z",
     "iopub.status.busy": "2020-08-14T10:11:41.866843Z",
     "iopub.status.idle": "2020-08-14T10:11:42.059065Z",
     "shell.execute_reply": "2020-08-14T10:11:42.059619Z"
    },
    "papermill": {
     "duration": 0.232232,
     "end_time": "2020-08-14T10:11:42.059791",
     "exception": false,
     "start_time": "2020-08-14T10:11:41.827559",
     "status": "completed"
    },
    "tags": []
   },
   "outputs": [
    {
     "name": "stdout",
     "output_type": "stream",
     "text": [
      "2\n"
     ]
    },
    {
     "data": {
      "text/plain": [
       "<matplotlib.image.AxesImage at 0x7fa45212a6d8>"
      ]
     },
     "execution_count": 9,
     "metadata": {},
     "output_type": "execute_result"
    },
    {
     "data": {
      "image/png": "[encoded data removed]",
      "text/plain": [
       "<Figure size 432x288 with 1 Axes>"
      ]
     },
     "metadata": {
      "needs_background": "light"
     },
     "output_type": "display_data"
    }
   ],
   "source": [
    "image_index = 7776 # You may select anything up to 60,000\n",
    "print(train_labels[image_index]) \n",
    "plt.imshow(train_images[image_index], cmap='Greys')"
   ]
  },
  {
   "cell_type": "markdown",
   "metadata": {
    "papermill": {
     "duration": 0.03445,
     "end_time": "2020-08-14T10:11:42.128447",
     "exception": false,
     "start_time": "2020-08-14T10:11:42.093997",
     "status": "completed"
    },
    "tags": []
   },
   "source": [
    "## Filter data to get 3 and 8 out"
   ]
  },
  {
   "cell_type": "code",
   "execution_count": 10,
   "metadata": {
    "execution": {
     "iopub.execute_input": "2020-08-14T10:11:42.209752Z",
     "iopub.status.busy": "2020-08-14T10:11:42.209036Z",
     "iopub.status.idle": "2020-08-14T10:11:42.231050Z",
     "shell.execute_reply": "2020-08-14T10:11:42.230515Z"
    },
    "papermill": {
     "duration": 0.06573,
     "end_time": "2020-08-14T10:11:42.231192",
     "exception": false,
     "start_time": "2020-08-14T10:11:42.165462",
     "status": "completed"
    },
    "tags": []
   },
   "outputs": [],
   "source": [
    "train_filter = np.where((train_labels == 3 ) | (train_labels == 8))\n",
    "test_filter = np.where((test_labels == 3) | (test_labels == 8))\n",
    "X_train, y_train = train_images[train_filter], train_labels[train_filter]\n",
    "X_test, y_test = test_images[test_filter], test_labels[test_filter]"
   ]
  },
  {
   "cell_type": "markdown",
   "metadata": {
    "papermill": {
     "duration": 0.03425,
     "end_time": "2020-08-14T10:11:42.302019",
     "exception": false,
     "start_time": "2020-08-14T10:11:42.267769",
     "status": "completed"
    },
    "tags": []
   },
   "source": [
    "##### We normalize the pizel values in the 0 to 1 range"
   ]
  },
  {
   "cell_type": "code",
   "execution_count": 11,
   "metadata": {
    "execution": {
     "iopub.execute_input": "2020-08-14T10:11:42.376774Z",
     "iopub.status.busy": "2020-08-14T10:11:42.376172Z",
     "iopub.status.idle": "2020-08-14T10:11:42.439991Z",
     "shell.execute_reply": "2020-08-14T10:11:42.439454Z"
    },
    "papermill": {
     "duration": 0.102338,
     "end_time": "2020-08-14T10:11:42.440121",
     "exception": false,
     "start_time": "2020-08-14T10:11:42.337783",
     "status": "completed"
    },
    "tags": []
   },
   "outputs": [],
   "source": [
    "X_train = X_train/255.\n",
    "X_test = X_test/255."
   ]
  },
  {
   "cell_type": "markdown",
   "metadata": {
    "papermill": {
     "duration": 0.035331,
     "end_time": "2020-08-14T10:11:42.511416",
     "exception": false,
     "start_time": "2020-08-14T10:11:42.476085",
     "status": "completed"
    },
    "tags": []
   },
   "source": [
    "And setup the labels as 1 (when the digit is 3) and 0 (when the digit is 8)"
   ]
  },
  {
   "cell_type": "code",
   "execution_count": 12,
   "metadata": {
    "execution": {
     "iopub.execute_input": "2020-08-14T10:11:42.590443Z",
     "iopub.status.busy": "2020-08-14T10:11:42.589750Z",
     "iopub.status.idle": "2020-08-14T10:11:42.602560Z",
     "shell.execute_reply": "2020-08-14T10:11:42.602046Z"
    },
    "papermill": {
     "duration": 0.055661,
     "end_time": "2020-08-14T10:11:42.602694",
     "exception": false,
     "start_time": "2020-08-14T10:11:42.547033",
     "status": "completed"
    },
    "tags": []
   },
   "outputs": [],
   "source": [
    "y_train = 1*(y_train==3)\n",
    "y_test = 1*(y_test==3)"
   ]
  },
  {
   "cell_type": "code",
   "execution_count": 13,
   "metadata": {
    "execution": {
     "iopub.execute_input": "2020-08-14T10:11:42.675887Z",
     "iopub.status.busy": "2020-08-14T10:11:42.674974Z",
     "iopub.status.idle": "2020-08-14T10:11:42.690275Z",
     "shell.execute_reply": "2020-08-14T10:11:42.689721Z"
    },
    "papermill": {
     "duration": 0.051694,
     "end_time": "2020-08-14T10:11:42.690399",
     "exception": false,
     "start_time": "2020-08-14T10:11:42.638705",
     "status": "completed"
    },
    "tags": []
   },
   "outputs": [
    {
     "data": {
      "text/plain": [
       "((11982, 28, 28), (1984, 28, 28))"
      ]
     },
     "execution_count": 13,
     "metadata": {},
     "output_type": "execute_result"
    }
   ],
   "source": [
    "X_train.shape, X_test.shape"
   ]
  },
  {
   "cell_type": "markdown",
   "metadata": {
    "papermill": {
     "duration": 0.032145,
     "end_time": "2020-08-14T10:11:42.757382",
     "exception": false,
     "start_time": "2020-08-14T10:11:42.725237",
     "status": "completed"
    },
    "tags": []
   },
   "source": [
    "##### We reshape the data to flatten the image pixels into a set of features or co-variates:"
   ]
  },
  {
   "cell_type": "code",
   "execution_count": 14,
   "metadata": {
    "execution": {
     "iopub.execute_input": "2020-08-14T10:11:42.833209Z",
     "iopub.status.busy": "2020-08-14T10:11:42.832471Z",
     "iopub.status.idle": "2020-08-14T10:11:42.846656Z",
     "shell.execute_reply": "2020-08-14T10:11:42.846124Z"
    },
    "papermill": {
     "duration": 0.0543,
     "end_time": "2020-08-14T10:11:42.846783",
     "exception": false,
     "start_time": "2020-08-14T10:11:42.792483",
     "status": "completed"
    },
    "tags": []
   },
   "outputs": [
    {
     "data": {
      "text/plain": [
       "((11982, 784), (1984, 784))"
      ]
     },
     "execution_count": 14,
     "metadata": {},
     "output_type": "execute_result"
    }
   ],
   "source": [
    "X_train = X_train.reshape(X_train.shape[0], -1)\n",
    "X_test = X_test.reshape(X_test.shape[0], -1)\n",
    "X_train.shape, X_test.shape"
   ]
  },
  {
   "cell_type": "markdown",
   "metadata": {
    "papermill": {
     "duration": 0.035289,
     "end_time": "2020-08-14T10:11:42.918770",
     "exception": false,
     "start_time": "2020-08-14T10:11:42.883481",
     "status": "completed"
    },
    "tags": []
   },
   "source": [
    "##### Importing Kudzu library and its functionality"
   ]
  },
  {
   "cell_type": "code",
   "execution_count": 15,
   "metadata": {
    "execution": {
     "iopub.execute_input": "2020-08-14T10:11:42.998379Z",
     "iopub.status.busy": "2020-08-14T10:11:42.997740Z",
     "iopub.status.idle": "2020-08-14T10:11:43.016631Z",
     "shell.execute_reply": "2020-08-14T10:11:43.015943Z"
    },
    "papermill": {
     "duration": 0.062022,
     "end_time": "2020-08-14T10:11:43.016783",
     "exception": false,
     "start_time": "2020-08-14T10:11:42.954761",
     "status": "completed"
    },
    "tags": []
   },
   "outputs": [],
   "source": [
    "from kudzu.data import Data, Dataloader, Sampler\n",
    "from kudzu.callbacks import AccCallback\n",
    "from kudzu.loss import MSE\n",
    "from kudzu.layer import Affine, Sigmoid\n",
    "from kudzu.model import Model\n",
    "from kudzu.optim import GD\n",
    "from kudzu.train import Learner\n",
    "from kudzu.callbacks import ClfCallback\n",
    "from kudzu.layer import Sigmoid\n",
    "from kudzu.layer import Relu"
   ]
  },
  {
   "cell_type": "markdown",
   "metadata": {
    "papermill": {
     "duration": 0.037064,
     "end_time": "2020-08-14T10:11:43.090623",
     "exception": false,
     "start_time": "2020-08-14T10:11:43.053559",
     "status": "completed"
    },
    "tags": []
   },
   "source": [
    "##### We are creating a class, just so that we can use it to store our parameters for us"
   ]
  },
  {
   "cell_type": "code",
   "execution_count": 16,
   "metadata": {
    "execution": {
     "iopub.execute_input": "2020-08-14T10:11:43.163159Z",
     "iopub.status.busy": "2020-08-14T10:11:43.162581Z",
     "iopub.status.idle": "2020-08-14T10:11:43.176844Z",
     "shell.execute_reply": "2020-08-14T10:11:43.176185Z"
    },
    "papermill": {
     "duration": 0.054014,
     "end_time": "2020-08-14T10:11:43.177018",
     "exception": false,
     "start_time": "2020-08-14T10:11:43.123004",
     "status": "completed"
    },
    "tags": []
   },
   "outputs": [],
   "source": [
    "class Config:\n",
    "    pass\n",
    "config = Config()\n",
    "config.lr = 0.001\n",
    "config.num_epochs = 250\n",
    "config.bs = 50"
   ]
  },
  {
   "cell_type": "markdown",
   "metadata": {
    "papermill": {
     "duration": 0.034246,
     "end_time": "2020-08-14T10:11:43.246766",
     "exception": false,
     "start_time": "2020-08-14T10:11:43.212520",
     "status": "completed"
    },
    "tags": []
   },
   "source": [
    "##### Initializing Data"
   ]
  },
  {
   "cell_type": "code",
   "execution_count": 17,
   "metadata": {
    "execution": {
     "iopub.execute_input": "2020-08-14T10:11:43.315541Z",
     "iopub.status.busy": "2020-08-14T10:11:43.314859Z",
     "iopub.status.idle": "2020-08-14T10:11:43.328839Z",
     "shell.execute_reply": "2020-08-14T10:11:43.329483Z"
    },
    "papermill": {
     "duration": 0.051108,
     "end_time": "2020-08-14T10:11:43.329715",
     "exception": false,
     "start_time": "2020-08-14T10:11:43.278607",
     "status": "completed"
    },
    "tags": []
   },
   "outputs": [],
   "source": [
    "data = Data(X_train, y_train.reshape(-1,1))\n",
    "loss = MSE()\n",
    "opt = GD(config.lr)\n",
    "sampler = Sampler(data, config.bs, shuffle=True)\n",
    "dl = Dataloader(data, sampler)"
   ]
  },
  {
   "cell_type": "markdown",
   "metadata": {
    "papermill": {
     "duration": 0.031196,
     "end_time": "2020-08-14T10:11:43.393123",
     "exception": false,
     "start_time": "2020-08-14T10:11:43.361927",
     "status": "completed"
    },
    "tags": []
   },
   "source": [
    "##### Constructing 2 different layers, one for NN and one only for logistic regression."
   ]
  },
  {
   "cell_type": "markdown",
   "metadata": {
    "papermill": {
     "duration": 0.035254,
     "end_time": "2020-08-14T10:11:43.461226",
     "exception": false,
     "start_time": "2020-08-14T10:11:43.425972",
     "status": "completed"
    },
    "tags": []
   },
   "source": [
    "##### Creating containers for data to be passed, to calculate accuracies"
   ]
  },
  {
   "cell_type": "code",
   "execution_count": 18,
   "metadata": {
    "execution": {
     "iopub.execute_input": "2020-08-14T10:11:43.539792Z",
     "iopub.status.busy": "2020-08-14T10:11:43.539105Z",
     "iopub.status.idle": "2020-08-14T10:11:43.552792Z",
     "shell.execute_reply": "2020-08-14T10:11:43.552177Z"
    },
    "papermill": {
     "duration": 0.05641,
     "end_time": "2020-08-14T10:11:43.552945",
     "exception": false,
     "start_time": "2020-08-14T10:11:43.496535",
     "status": "completed"
    },
    "tags": []
   },
   "outputs": [],
   "source": [
    "training_xdata = X_train\n",
    "testing_xdata = X_test\n",
    "training_ydata = y_train.reshape(-1,1)\n",
    "testing_ydata = y_test.reshape(-1,1)"
   ]
  },
  {
   "cell_type": "markdown",
   "metadata": {
    "papermill": {
     "duration": 0.036715,
     "end_time": "2020-08-14T10:11:43.627876",
     "exception": false,
     "start_time": "2020-08-14T10:11:43.591161",
     "status": "completed"
    },
    "tags": []
   },
   "source": [
    "##### Initializing models and Running training loop: "
   ]
  },
  {
   "cell_type": "code",
   "execution_count": 19,
   "metadata": {
    "execution": {
     "iopub.execute_input": "2020-08-14T10:11:43.697534Z",
     "iopub.status.busy": "2020-08-14T10:11:43.696711Z",
     "iopub.status.idle": "2020-08-14T10:11:43.715348Z",
     "shell.execute_reply": "2020-08-14T10:11:43.715853Z"
    },
    "papermill": {
     "duration": 0.055222,
     "end_time": "2020-08-14T10:11:43.715987",
     "exception": false,
     "start_time": "2020-08-14T10:11:43.660765",
     "status": "completed"
    },
    "tags": []
   },
   "outputs": [],
   "source": [
    "layers = [Affine(\"first\", 784, 100), Relu(\"first\"), Affine(\"second\", 100, 100), Relu(\"second\"), Affine(\"third\", 100, 2), Affine(\"final\", 2, 1), Sigmoid(\"final\")]\n",
    "\n",
    "model_neural = Model(layers)\n",
    "model_logistic = Model([Affine(\"logits\", 784, 1), Sigmoid(\"sigmoid\")])"
   ]
  },
  {
   "cell_type": "code",
   "execution_count": 20,
   "metadata": {
    "execution": {
     "iopub.execute_input": "2020-08-14T10:11:43.789619Z",
     "iopub.status.busy": "2020-08-14T10:11:43.788989Z",
     "iopub.status.idle": "2020-08-14T10:11:43.802664Z",
     "shell.execute_reply": "2020-08-14T10:11:43.802138Z"
    },
    "papermill": {
     "duration": 0.052474,
     "end_time": "2020-08-14T10:11:43.802792",
     "exception": false,
     "start_time": "2020-08-14T10:11:43.750318",
     "status": "completed"
    },
    "tags": []
   },
   "outputs": [],
   "source": [
    "learner1 = Learner(loss, model_neural, opt, config.num_epochs)\n",
    "acc1 = ClfCallback(learner1, config.bs, training_xdata , testing_xdata, training_ydata, testing_ydata)\n",
    "learner1.set_callbacks([acc1])"
   ]
  },
  {
   "cell_type": "code",
   "execution_count": 21,
   "metadata": {
    "execution": {
     "iopub.execute_input": "2020-08-14T10:11:43.879988Z",
     "iopub.status.busy": "2020-08-14T10:11:43.879282Z",
     "iopub.status.idle": "2020-08-14T10:14:00.449119Z",
     "shell.execute_reply": "2020-08-14T10:14:00.449644Z"
    },
    "papermill": {
     "duration": 136.613428,
     "end_time": "2020-08-14T10:14:00.449799",
     "exception": false,
     "start_time": "2020-08-14T10:11:43.836371",
     "status": "completed"
    },
    "tags": []
   },
   "outputs": [
    {
     "name": "stdout",
     "output_type": "stream",
     "text": [
      "Epoch 0 Loss 0.23703867383457458\n",
      "train accuracy is: 0.7376064096144216, test accuracy is 0.7479838709677419\n"
     ]
    },
    {
     "name": "stdout",
     "output_type": "stream",
     "text": [
      "Epoch 10 Loss 0.06301268313642427\n",
      "train accuracy is: 0.9353196461358705, test accuracy is 0.9475806451612904\n"
     ]
    },
    {
     "name": "stdout",
     "output_type": "stream",
     "text": [
      "Epoch 20 Loss 0.04445949318402634\n",
      "train accuracy is: 0.9497579702887665, test accuracy is 0.9616935483870968\n"
     ]
    },
    {
     "name": "stdout",
     "output_type": "stream",
     "text": [
      "Epoch 30 Loss 0.037367150388229235\n",
      "train accuracy is: 0.956685027541312, test accuracy is 0.9642137096774194\n"
     ]
    },
    {
     "name": "stdout",
     "output_type": "stream",
     "text": [
      "Epoch 40 Loss 0.03344211699997497\n",
      "train accuracy is: 0.9618594558504423, test accuracy is 0.9667338709677419\n"
     ]
    },
    {
     "name": "stdout",
     "output_type": "stream",
     "text": [
      "Epoch 50 Loss 0.03082083106161682\n",
      "train accuracy is: 0.9649474211316975, test accuracy is 0.9667338709677419\n"
     ]
    },
    {
     "name": "stdout",
     "output_type": "stream",
     "text": [
      "Epoch 60 Loss 0.028886054374594468\n",
      "train accuracy is: 0.9677015523284928, test accuracy is 0.967741935483871\n"
     ]
    },
    {
     "name": "stdout",
     "output_type": "stream",
     "text": [
      "Epoch 70 Loss 0.02737392276785783\n",
      "train accuracy is: 0.9692038057085628, test accuracy is 0.969758064516129\n"
     ]
    },
    {
     "name": "stdout",
     "output_type": "stream",
     "text": [
      "Epoch 80 Loss 0.026148206769430804\n",
      "train accuracy is: 0.9705391420464029, test accuracy is 0.9682459677419355\n"
     ]
    },
    {
     "name": "stdout",
     "output_type": "stream",
     "text": [
      "Epoch 90 Loss 0.025118287947398597\n",
      "train accuracy is: 0.971791019863128, test accuracy is 0.967741935483871\n"
     ]
    },
    {
     "name": "stdout",
     "output_type": "stream",
     "text": [
      "Epoch 100 Loss 0.024217585454681622\n",
      "train accuracy is: 0.972375229510933, test accuracy is 0.9682459677419355\n"
     ]
    },
    {
     "name": "stdout",
     "output_type": "stream",
     "text": [
      "Epoch 110 Loss 0.023416264641794568\n",
      "train accuracy is: 0.9728759806376232, test accuracy is 0.9692540322580645\n"
     ]
    },
    {
     "name": "stdout",
     "output_type": "stream",
     "text": [
      "Epoch 120 Loss 0.022696642036495695\n",
      "train accuracy is: 0.9742947754965782, test accuracy is 0.969758064516129\n"
     ]
    },
    {
     "name": "stdout",
     "output_type": "stream",
     "text": [
      "Epoch 130 Loss 0.022049328065538668\n",
      "train accuracy is: 0.9746286095810383, test accuracy is 0.9702620967741935\n"
     ]
    },
    {
     "name": "stdout",
     "output_type": "stream",
     "text": [
      "Epoch 140 Loss 0.02144581316087542\n",
      "train accuracy is: 0.9755466533133033, test accuracy is 0.9717741935483871\n"
     ]
    },
    {
     "name": "stdout",
     "output_type": "stream",
     "text": [
      "Epoch 150 Loss 0.020883655850620308\n",
      "train accuracy is: 0.9764646970455684, test accuracy is 0.9727822580645161\n"
     ]
    },
    {
     "name": "stdout",
     "output_type": "stream",
     "text": [
      "Epoch 160 Loss 0.02036116694226263\n",
      "train accuracy is: 0.9772992822567184, test accuracy is 0.9737903225806451\n"
     ]
    },
    {
     "name": "stdout",
     "output_type": "stream",
     "text": [
      "Epoch 170 Loss 0.01986864198064355\n",
      "train accuracy is: 0.9777165748622935, test accuracy is 0.9737903225806451\n"
     ]
    },
    {
     "name": "stdout",
     "output_type": "stream",
     "text": [
      "Epoch 180 Loss 0.01940264214891451\n",
      "train accuracy is: 0.9786346185945585, test accuracy is 0.9742943548387096\n"
     ]
    },
    {
     "name": "stdout",
     "output_type": "stream",
     "text": [
      "Epoch 190 Loss 0.018959188401336195\n",
      "train accuracy is: 0.9792188282423635, test accuracy is 0.9747983870967742\n"
     ]
    },
    {
     "name": "stdout",
     "output_type": "stream",
     "text": [
      "Epoch 200 Loss 0.018526582337192298\n",
      "train accuracy is: 0.9794692038057086, test accuracy is 0.9747983870967742\n"
     ]
    },
    {
     "name": "stdout",
     "output_type": "stream",
     "text": [
      "Epoch 210 Loss 0.01809721549974691\n",
      "train accuracy is: 0.9801368719746286, test accuracy is 0.9747983870967742\n"
     ]
    },
    {
     "name": "stdout",
     "output_type": "stream",
     "text": [
      "Epoch 220 Loss 0.017686126150808716\n",
      "train accuracy is: 0.9803872475379736, test accuracy is 0.9747983870967742\n"
     ]
    },
    {
     "name": "stdout",
     "output_type": "stream",
     "text": [
      "Epoch 230 Loss 0.01728477173147675\n",
      "train accuracy is: 0.9808879986646637, test accuracy is 0.9747983870967742\n"
     ]
    },
    {
     "name": "stdout",
     "output_type": "stream",
     "text": [
      "Epoch 240 Loss 0.016909946569919673\n",
      "train accuracy is: 0.9809714571857787, test accuracy is 0.9758064516129032\n"
     ]
    },
    {
     "data": {
      "text/plain": [
       "0.02037936000975859"
      ]
     },
     "execution_count": 21,
     "metadata": {},
     "output_type": "execute_result"
    }
   ],
   "source": [
    "learner1.train_loop(dl)"
   ]
  },
  {
   "cell_type": "markdown",
   "metadata": {
    "papermill": {
     "duration": 0.04236,
     "end_time": "2020-08-14T10:14:00.534978",
     "exception": false,
     "start_time": "2020-08-14T10:14:00.492618",
     "status": "completed"
    },
    "tags": []
   },
   "source": [
    "##### Now running only the logistic regression based classification to compare results with NN"
   ]
  },
  {
   "cell_type": "code",
   "execution_count": 22,
   "metadata": {
    "execution": {
     "iopub.execute_input": "2020-08-14T10:14:00.633377Z",
     "iopub.status.busy": "2020-08-14T10:14:00.630965Z",
     "iopub.status.idle": "2020-08-14T10:14:00.641228Z",
     "shell.execute_reply": "2020-08-14T10:14:00.641654Z"
    },
    "papermill": {
     "duration": 0.062833,
     "end_time": "2020-08-14T10:14:00.641778",
     "exception": false,
     "start_time": "2020-08-14T10:14:00.578945",
     "status": "completed"
    },
    "tags": []
   },
   "outputs": [],
   "source": [
    "learner2 = Learner(loss, model_logistic, opt, config.num_epochs)\n",
    "acc2 = ClfCallback(learner2, config.bs, training_xdata , testing_xdata, training_ydata, testing_ydata)\n",
    "learner2.set_callbacks([acc2])"
   ]
  },
  {
   "cell_type": "code",
   "execution_count": 23,
   "metadata": {
    "execution": {
     "iopub.execute_input": "2020-08-14T10:14:00.733463Z",
     "iopub.status.busy": "2020-08-14T10:14:00.726103Z",
     "iopub.status.idle": "2020-08-14T10:14:20.857908Z",
     "shell.execute_reply": "2020-08-14T10:14:20.857323Z"
    },
    "papermill": {
     "duration": 20.17718,
     "end_time": "2020-08-14T10:14:20.858039",
     "exception": false,
     "start_time": "2020-08-14T10:14:00.680859",
     "status": "completed"
    },
    "tags": []
   },
   "outputs": [
    {
     "name": "stdout",
     "output_type": "stream",
     "text": [
      "Epoch 0 Loss 0.2562380581277844\n",
      "train accuracy is: 0.6079118678017026, test accuracy is 0.6285282258064516\n"
     ]
    },
    {
     "name": "stdout",
     "output_type": "stream",
     "text": [
      "Epoch 10 Loss 0.10597779830268093\n",
      "train accuracy is: 0.9073610415623435, test accuracy is 0.9183467741935484\n"
     ]
    },
    {
     "name": "stdout",
     "output_type": "stream",
     "text": [
      "Epoch 20 Loss 0.08049915699028447\n",
      "train accuracy is: 0.9263061258554498, test accuracy is 0.9369959677419355\n"
     ]
    },
    {
     "name": "stdout",
     "output_type": "stream",
     "text": [
      "Epoch 30 Loss 0.06896446435823869\n",
      "train accuracy is: 0.9364046069103655, test accuracy is 0.9460685483870968\n"
     ]
    },
    {
     "name": "stdout",
     "output_type": "stream",
     "text": [
      "Epoch 40 Loss 0.06211289433917941\n",
      "train accuracy is: 0.9404940744450009, test accuracy is 0.9506048387096774\n"
     ]
    },
    {
     "name": "stdout",
     "output_type": "stream",
     "text": [
      "Epoch 50 Loss 0.057483431069319135\n",
      "train accuracy is: 0.9445835419796361, test accuracy is 0.9526209677419355\n"
     ]
    },
    {
     "name": "stdout",
     "output_type": "stream",
     "text": [
      "Epoch 60 Loss 0.0541068580414795\n",
      "train accuracy is: 0.9466700050075113, test accuracy is 0.9566532258064516\n"
     ]
    },
    {
     "name": "stdout",
     "output_type": "stream",
     "text": [
      "Epoch 70 Loss 0.05150795985041561\n",
      "train accuracy is: 0.9483391754298114, test accuracy is 0.9591733870967742\n"
     ]
    },
    {
     "name": "stdout",
     "output_type": "stream",
     "text": [
      "Epoch 80 Loss 0.04943136986952588\n",
      "train accuracy is: 0.9498414288098815, test accuracy is 0.9606854838709677\n"
     ]
    },
    {
     "name": "stdout",
     "output_type": "stream",
     "text": [
      "Epoch 90 Loss 0.04772344271364394\n",
      "train accuracy is: 0.9512602236688366, test accuracy is 0.9611895161290323\n"
     ]
    },
    {
     "name": "stdout",
     "output_type": "stream",
     "text": [
      "Epoch 100 Loss 0.04628604524682559\n",
      "train accuracy is: 0.9525955600066767, test accuracy is 0.9611895161290323\n"
     ]
    },
    {
     "name": "stdout",
     "output_type": "stream",
     "text": [
      "Epoch 110 Loss 0.045055451814125694\n",
      "train accuracy is: 0.9533466866967117, test accuracy is 0.9621975806451613\n"
     ]
    },
    {
     "name": "stdout",
     "output_type": "stream",
     "text": [
      "Epoch 120 Loss 0.04398697213598993\n",
      "train accuracy is: 0.9542647304289767, test accuracy is 0.9637096774193549\n"
     ]
    },
    {
     "name": "stdout",
     "output_type": "stream",
     "text": [
      "Epoch 130 Loss 0.04304538720068704\n",
      "train accuracy is: 0.9550993156401268, test accuracy is 0.9637096774193549\n"
     ]
    },
    {
     "name": "stdout",
     "output_type": "stream",
     "text": [
      "Epoch 140 Loss 0.042209181042993184\n",
      "train accuracy is: 0.9558504423301619, test accuracy is 0.9642137096774194\n"
     ]
    },
    {
     "name": "stdout",
     "output_type": "stream",
     "text": [
      "Epoch 150 Loss 0.041458812906835806\n",
      "train accuracy is: 0.956434651977967, test accuracy is 0.9652217741935484\n"
     ]
    },
    {
     "name": "stdout",
     "output_type": "stream",
     "text": [
      "Epoch 160 Loss 0.04078054081427458\n",
      "train accuracy is: 0.957436154231347, test accuracy is 0.9657258064516129\n"
     ]
    },
    {
     "name": "stdout",
     "output_type": "stream",
     "text": [
      "Epoch 170 Loss 0.040163505150058204\n",
      "train accuracy is: 0.9578534468369221, test accuracy is 0.9662298387096774\n"
     ]
    },
    {
     "name": "stdout",
     "output_type": "stream",
     "text": [
      "Epoch 180 Loss 0.03959930092829997\n",
      "train accuracy is: 0.958103822400267, test accuracy is 0.9662298387096774\n"
     ]
    },
    {
     "name": "stdout",
     "output_type": "stream",
     "text": [
      "Epoch 190 Loss 0.03907924060338957\n",
      "train accuracy is: 0.9587714905691871, test accuracy is 0.9662298387096774\n"
     ]
    },
    {
     "name": "stdout",
     "output_type": "stream",
     "text": [
      "Epoch 200 Loss 0.038599707792705926\n",
      "train accuracy is: 0.9590218661325322, test accuracy is 0.9662298387096774\n"
     ]
    },
    {
     "name": "stdout",
     "output_type": "stream",
     "text": [
      "Epoch 210 Loss 0.038153190083128445\n",
      "train accuracy is: 0.9591053246536472, test accuracy is 0.9662298387096774\n"
     ]
    },
    {
     "name": "stdout",
     "output_type": "stream",
     "text": [
      "Epoch 220 Loss 0.03773869144301444\n",
      "train accuracy is: 0.9593557002169921, test accuracy is 0.9667338709677419\n"
     ]
    },
    {
     "name": "stdout",
     "output_type": "stream",
     "text": [
      "Epoch 230 Loss 0.03735068440893964\n",
      "train accuracy is: 0.9596060757803372, test accuracy is 0.9667338709677419\n"
     ]
    },
    {
     "name": "stdout",
     "output_type": "stream",
     "text": [
      "Epoch 240 Loss 0.03698720577979701\n",
      "train accuracy is: 0.9602737439492572, test accuracy is 0.9667338709677419\n"
     ]
    },
    {
     "data": {
      "text/plain": [
       "0.03636031644257334"
      ]
     },
     "execution_count": 23,
     "metadata": {},
     "output_type": "execute_result"
    }
   ],
   "source": [
    "learner2.train_loop(dl)"
   ]
  },
  {
   "cell_type": "markdown",
   "metadata": {
    "papermill": {
     "duration": 0.054169,
     "end_time": "2020-08-14T10:14:20.964221",
     "exception": false,
     "start_time": "2020-08-14T10:14:20.910052",
     "status": "completed"
    },
    "tags": []
   },
   "source": [
    "### Comparing results of NN and LR"
   ]
  },
  {
   "cell_type": "code",
   "execution_count": 24,
   "metadata": {
    "execution": {
     "iopub.execute_input": "2020-08-14T10:14:21.075137Z",
     "iopub.status.busy": "2020-08-14T10:14:21.074468Z",
     "iopub.status.idle": "2020-08-14T10:14:21.326007Z",
     "shell.execute_reply": "2020-08-14T10:14:21.326524Z"
    },
    "papermill": {
     "duration": 0.311376,
     "end_time": "2020-08-14T10:14:21.326697",
     "exception": false,
     "start_time": "2020-08-14T10:14:21.015321",
     "status": "completed"
    },
    "tags": []
   },
   "outputs": [
    {
     "data": {
      "text/plain": [
       "<matplotlib.legend.Legend at 0x7fa451d0b940>"
      ]
     },
     "execution_count": 24,
     "metadata": {},
     "output_type": "execute_result"
    },
    {
     "data": {
      "image/png": "[encoded data removed]",
      "text/plain": [
       "<Figure size 576x360 with 1 Axes>"
      ]
     },
     "metadata": {
      "needs_background": "light"
     },
     "output_type": "display_data"
    }
   ],
   "source": [
    "plt.figure(figsize=(8,5))\n",
    "plt.plot(acc1.val_accuracies, 'g-', label = \"Val Accuracies - NN\")\n",
    "plt.plot(acc1.accuracies, 'r-', label = \"Accuracies - NN\")\n",
    "plt.plot(acc2.val_accuracies, 'b-', label = \"Val Accuracies - Logistic Reg\")\n",
    "plt.plot(acc2.accuracies, 'k-', label = \"Accuracies - Logistic Reg\")\n",
    "plt.ylim(0.8,1) ## for a more spread out view\n",
    "plt.legend()"
   ]
  },
  {
   "cell_type": "markdown",
   "metadata": {
    "papermill": {
     "duration": 0.055535,
     "end_time": "2020-08-14T10:14:21.435767",
     "exception": false,
     "start_time": "2020-08-14T10:14:21.380232",
     "status": "completed"
    },
    "tags": []
   },
   "source": [
    "### Clearly NN has a better accuracy over LR; NN is overfitting - Validation accuracy (green) has dropped below training accuracy (orange), also they are diverging. This problem is not seen in LR"
   ]
  },
  {
   "cell_type": "markdown",
   "metadata": {
    "papermill": {
     "duration": 0.052754,
     "end_time": "2020-08-14T10:14:21.545164",
     "exception": false,
     "start_time": "2020-08-14T10:14:21.492410",
     "status": "completed"
    },
    "tags": []
   },
   "source": [
    "##### Now we will be moving through the network, till the output of the second last affine where we get a 2 dimensional output. We will be plotting this 2d output and probability contours"
   ]
  },
  {
   "cell_type": "code",
   "execution_count": 25,
   "metadata": {
    "execution": {
     "iopub.execute_input": "2020-08-14T10:14:21.651376Z",
     "iopub.status.busy": "2020-08-14T10:14:21.650578Z",
     "iopub.status.idle": "2020-08-14T10:14:21.663103Z",
     "shell.execute_reply": "2020-08-14T10:14:21.663788Z"
    },
    "papermill": {
     "duration": 0.069614,
     "end_time": "2020-08-14T10:14:21.663955",
     "exception": false,
     "start_time": "2020-08-14T10:14:21.594341",
     "status": "completed"
    },
    "tags": []
   },
   "outputs": [],
   "source": [
    "model_new = Model(layers[:-2])"
   ]
  },
  {
   "cell_type": "code",
   "execution_count": 26,
   "metadata": {
    "execution": {
     "iopub.execute_input": "2020-08-14T10:14:21.776883Z",
     "iopub.status.busy": "2020-08-14T10:14:21.776124Z",
     "iopub.status.idle": "2020-08-14T10:14:21.802802Z",
     "shell.execute_reply": "2020-08-14T10:14:21.803741Z"
    },
    "papermill": {
     "duration": 0.086389,
     "end_time": "2020-08-14T10:14:21.803930",
     "exception": false,
     "start_time": "2020-08-14T10:14:21.717541",
     "status": "completed"
    },
    "tags": []
   },
   "outputs": [],
   "source": [
    "plot_testing = model_new(testing_xdata)"
   ]
  },
  {
   "cell_type": "markdown",
   "metadata": {
    "papermill": {
     "duration": 0.082518,
     "end_time": "2020-08-14T10:14:21.941083",
     "exception": false,
     "start_time": "2020-08-14T10:14:21.858565",
     "status": "completed"
    },
    "tags": []
   },
   "source": [
    "##### Plotting the scatter plot of points and color coding by class"
   ]
  },
  {
   "cell_type": "code",
   "execution_count": 27,
   "metadata": {
    "execution": {
     "iopub.execute_input": "2020-08-14T10:14:22.057548Z",
     "iopub.status.busy": "2020-08-14T10:14:22.056941Z",
     "iopub.status.idle": "2020-08-14T10:14:22.315320Z",
     "shell.execute_reply": "2020-08-14T10:14:22.315931Z"
    },
    "papermill": {
     "duration": 0.319006,
     "end_time": "2020-08-14T10:14:22.316169",
     "exception": false,
     "start_time": "2020-08-14T10:14:21.997163",
     "status": "completed"
    },
    "tags": []
   },
   "outputs": [
    {
     "data": {
      "image/png": "[encoded data removed]",
      "text/plain": [
       "<Figure size 576x504 with 1 Axes>"
      ]
     },
     "metadata": {
      "needs_background": "light"
     },
     "output_type": "display_data"
    }
   ],
   "source": [
    "plt.figure(figsize=(8,7))\n",
    "plt.scatter(plot_testing[:,0], plot_testing[:,1], alpha = 0.1, c = y_test.ravel());"
   ]
  },
  {
   "cell_type": "markdown",
   "metadata": {
    "papermill": {
     "duration": 0.052366,
     "end_time": "2020-08-14T10:14:22.426817",
     "exception": false,
     "start_time": "2020-08-14T10:14:22.374451",
     "status": "completed"
    },
    "tags": []
   },
   "source": [
    "##### Plotting probability contours"
   ]
  },
  {
   "cell_type": "code",
   "execution_count": 28,
   "metadata": {
    "execution": {
     "iopub.execute_input": "2020-08-14T10:14:22.549794Z",
     "iopub.status.busy": "2020-08-14T10:14:22.542039Z",
     "iopub.status.idle": "2020-08-14T10:14:22.555132Z",
     "shell.execute_reply": "2020-08-14T10:14:22.554666Z"
    },
    "papermill": {
     "duration": 0.070512,
     "end_time": "2020-08-14T10:14:22.555252",
     "exception": false,
     "start_time": "2020-08-14T10:14:22.484740",
     "status": "completed"
    },
    "tags": []
   },
   "outputs": [],
   "source": [
    "model_prob = Model(layers[-2:]) ## picking only last two layers to get probability. That is affine followed by sigmoid"
   ]
  },
  {
   "cell_type": "code",
   "execution_count": 29,
   "metadata": {
    "execution": {
     "iopub.execute_input": "2020-08-14T10:14:22.672296Z",
     "iopub.status.busy": "2020-08-14T10:14:22.671547Z",
     "iopub.status.idle": "2020-08-14T10:14:22.684995Z",
     "shell.execute_reply": "2020-08-14T10:14:22.685474Z"
    },
    "papermill": {
     "duration": 0.075732,
     "end_time": "2020-08-14T10:14:22.685649",
     "exception": false,
     "start_time": "2020-08-14T10:14:22.609917",
     "status": "completed"
    },
    "tags": []
   },
   "outputs": [],
   "source": [
    "xgrid = np.linspace(-4, 1, 100) ## Adjust these values based on above chart, roughly -4 to 1\n",
    "ygrid = np.linspace(-7.5, 7.5, 100) ## Adjust these values based on above chart, roughly -7.5, 7.5\n",
    "xg, yg = np.meshgrid(xgrid, ygrid)\n",
    "# xg and yg are now both 100X100, lets convert them to single arrays \n",
    "\n",
    "xg_interim = np.ravel(xg)\n",
    "yg_interim = np.ravel(yg)\n",
    "\n",
    "## xg_interim, yg_interim are now arrays of len 10000, now we will stack them and then transpose to get desired shape of n rows, 2 columns\n",
    "\n",
    "X_interim = np.vstack((xg_interim, yg_interim)) ## Please note vstack takes in a tuple\n",
    "X = X_interim.T\n",
    "\n",
    "## We want a shape of n rows and 2 columns to be able to feed this to last affine\n",
    "## This last affine takes only two columns, hence the above transformation\n",
    "probability_contour = model_prob(X).reshape(100,100) ## to make it consistent with xg, yg"
   ]
  },
  {
   "cell_type": "code",
   "execution_count": 30,
   "metadata": {
    "execution": {
     "iopub.execute_input": "2020-08-14T10:14:22.809317Z",
     "iopub.status.busy": "2020-08-14T10:14:22.808594Z",
     "iopub.status.idle": "2020-08-14T10:14:23.082374Z",
     "shell.execute_reply": "2020-08-14T10:14:23.082963Z"
    },
    "papermill": {
     "duration": 0.34121,
     "end_time": "2020-08-14T10:14:23.083139",
     "exception": false,
     "start_time": "2020-08-14T10:14:22.741929",
     "status": "completed"
    },
    "tags": []
   },
   "outputs": [
    {
     "data": {
      "image/png": "[encoded data removed]",
      "text/plain": [
       "<Figure size 576x504 with 1 Axes>"
      ]
     },
     "metadata": {
      "needs_background": "light"
     },
     "output_type": "display_data"
    }
   ],
   "source": [
    "plt.figure(figsize=(8,7))\n",
    "plt.scatter(plot_testing[:,0], plot_testing[:,1], alpha = 0.1, c = y_test.ravel())\n",
    "contours = plt.contour(xg,yg,probability_contour)\n",
    "plt.clabel(contours, inline = True );"
   ]
  }
 ],
 "metadata": {
  "kernelspec": {
   "display_name": "Python 3",
   "language": "python",
   "name": "python3"
  },
  "language_info": {
   "codemirror_mode": {
    "name": "ipython",
    "version": 3
   },
   "file_extension": ".py",
   "mimetype": "text/x-python",
   "name": "python",
   "nbconvert_exporter": "python",
   "pygments_lexer": "ipython3",
   "version": "3.6.11"
  },
  "papermill": {
   "duration": 169.41047,
   "end_time": "2020-08-14T10:14:24.447629",
   "environment_variables": {},
   "exception": null,
   "input_path": "2020-08-07-NN-new.ipynb",
   "output_path": "2020-08-07-NN-new.ipynb",
   "parameters": {},
   "start_time": "2020-08-14T10:11:35.037159",
   "version": "2.1.2"
  }
 },
 "nbformat": 4,
 "nbformat_minor": 4
}