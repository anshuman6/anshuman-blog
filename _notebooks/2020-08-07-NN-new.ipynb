{
 "cells": [
  {
   "cell_type": "markdown",
   "metadata": {
    "papermill": {
     "duration": 0.033291,
     "end_time": "2020-08-17T20:12:42.508514",
     "exception": false,
     "start_time": "2020-08-17T20:12:42.475223",
     "status": "completed"
    },
    "tags": []
   },
   "source": [
    "# \"Building a basic Neural Network from scratch - Kudzu\"\n",
    "\n",
    "- badges: true\n",
    "- author: Anshuman Gupta"
   ]
  },
  {
   "cell_type": "markdown",
   "metadata": {
    "papermill": {
     "duration": 0.028991,
     "end_time": "2020-08-17T20:12:42.567221",
     "exception": false,
     "start_time": "2020-08-17T20:12:42.538230",
     "status": "completed"
    },
    "tags": []
   },
   "source": [
    "#### In this project, the idea is to write a classifier to differentiate between handwritten digits 3 and 8, from the MNIST database.\n",
    "\n",
    "#### I will using a custom built neural network library called Kudzu.This has been developed as a part of KTF/Foundations course of Univ.ai (www.univ.ai). The source code for Kudzu Library and and this notebook can be found on my git-hub profile : www.https://github.com/anshuman6 under the folder project-solution. Any feedback and comments are welcome. Please feel free to email me at: anshuman6@gmail.com\n",
    "\n",
    "#### 1. I will be using the MNIST database. \n",
    "\n",
    "#### 2. I will be comparing the results of the 4 layer NN to a standard logistic regression"
   ]
  },
  {
   "cell_type": "markdown",
   "metadata": {
    "papermill": {
     "duration": 0.027898,
     "end_time": "2020-08-17T20:12:42.622889",
     "exception": false,
     "start_time": "2020-08-17T20:12:42.594991",
     "status": "completed"
    },
    "tags": []
   },
   "source": [
    "##### Importing all the necessary libraries"
   ]
  },
  {
   "cell_type": "code",
   "execution_count": 1,
   "metadata": {
    "execution": {
     "iopub.execute_input": "2020-08-17T20:12:42.685942Z",
     "iopub.status.busy": "2020-08-17T20:12:42.685301Z",
     "iopub.status.idle": "2020-08-17T20:12:42.697208Z",
     "shell.execute_reply": "2020-08-17T20:12:42.696708Z"
    },
    "papermill": {
     "duration": 0.045361,
     "end_time": "2020-08-17T20:12:42.697354",
     "exception": false,
     "start_time": "2020-08-17T20:12:42.651993",
     "status": "completed"
    },
    "tags": []
   },
   "outputs": [],
   "source": [
    "%load_ext autoreload\n",
    "%autoreload 2"
   ]
  },
  {
   "cell_type": "code",
   "execution_count": 2,
   "metadata": {
    "execution": {
     "iopub.execute_input": "2020-08-17T20:12:42.760469Z",
     "iopub.status.busy": "2020-08-17T20:12:42.759882Z",
     "iopub.status.idle": "2020-08-17T20:12:43.379001Z",
     "shell.execute_reply": "2020-08-17T20:12:43.378385Z"
    },
    "papermill": {
     "duration": 0.651779,
     "end_time": "2020-08-17T20:12:43.379163",
     "exception": false,
     "start_time": "2020-08-17T20:12:42.727384",
     "status": "completed"
    },
    "tags": []
   },
   "outputs": [],
   "source": [
    "%matplotlib inline\n",
    "import numpy as np\n",
    "import matplotlib.pyplot as plt\n",
    "import pandas as pd"
   ]
  },
  {
   "cell_type": "markdown",
   "metadata": {
    "papermill": {
     "duration": 0.030372,
     "end_time": "2020-08-17T20:12:43.439778",
     "exception": false,
     "start_time": "2020-08-17T20:12:43.409406",
     "status": "completed"
    },
    "tags": []
   },
   "source": [
    "##### The following command helps us download MNIST from notebook itself. You can skip this if you already have MNIST. You can also download it via your terminal."
   ]
  },
  {
   "cell_type": "code",
   "execution_count": 3,
   "metadata": {
    "execution": {
     "iopub.execute_input": "2020-08-17T20:12:43.501285Z",
     "iopub.status.busy": "2020-08-17T20:12:43.500684Z",
     "iopub.status.idle": "2020-08-17T20:12:44.996923Z",
     "shell.execute_reply": "2020-08-17T20:12:44.996370Z"
    },
    "papermill": {
     "duration": 1.52859,
     "end_time": "2020-08-17T20:12:44.997061",
     "exception": false,
     "start_time": "2020-08-17T20:12:43.468471",
     "status": "completed"
    },
    "tags": []
   },
   "outputs": [
    {
     "name": "stdout",
     "output_type": "stream",
     "text": [
      "Collecting mnist\r\n"
     ]
    },
    {
     "name": "stdout",
     "output_type": "stream",
     "text": [
      "  Downloading mnist-0.2.2-py2.py3-none-any.whl (3.5 kB)\r\n"
     ]
    },
    {
     "name": "stdout",
     "output_type": "stream",
     "text": [
      "Requirement already satisfied: numpy in /opt/hostedtoolcache/Python/3.6.11/x64/lib/python3.6/site-packages (from mnist) (1.19.1)\r\n"
     ]
    },
    {
     "name": "stdout",
     "output_type": "stream",
     "text": [
      "Installing collected packages: mnist\r\n"
     ]
    },
    {
     "name": "stdout",
     "output_type": "stream",
     "text": [
      "Successfully installed mnist-0.2.2\r\n"
     ]
    },
    {
     "name": "stdout",
     "output_type": "stream",
     "text": [
      "\u001b[33mWARNING: You are using pip version 20.2.1; however, version 20.2.2 is available.\r\n",
      "You should consider upgrading via the '/opt/hostedtoolcache/Python/3.6.11/x64/bin/python -m pip install --upgrade pip' command.\u001b[0m\r\n"
     ]
    }
   ],
   "source": [
    "!pip install mnist # Please note, it is commented out for now, you can remove comment if you want to install it"
   ]
  },
  {
   "cell_type": "markdown",
   "metadata": {
    "papermill": {
     "duration": 0.036051,
     "end_time": "2020-08-17T20:12:45.063867",
     "exception": false,
     "start_time": "2020-08-17T20:12:45.027816",
     "status": "completed"
    },
    "tags": []
   },
   "source": [
    "#### Preparing the Data"
   ]
  },
  {
   "cell_type": "code",
   "execution_count": 4,
   "metadata": {
    "execution": {
     "iopub.execute_input": "2020-08-17T20:12:45.131762Z",
     "iopub.status.busy": "2020-08-17T20:12:45.131160Z",
     "iopub.status.idle": "2020-08-17T20:12:45.147629Z",
     "shell.execute_reply": "2020-08-17T20:12:45.147127Z"
    },
    "papermill": {
     "duration": 0.051932,
     "end_time": "2020-08-17T20:12:45.147767",
     "exception": false,
     "start_time": "2020-08-17T20:12:45.095835",
     "status": "completed"
    },
    "tags": []
   },
   "outputs": [],
   "source": [
    "import mnist"
   ]
  },
  {
   "cell_type": "code",
   "execution_count": 5,
   "metadata": {
    "execution": {
     "iopub.execute_input": "2020-08-17T20:12:45.211962Z",
     "iopub.status.busy": "2020-08-17T20:12:45.211374Z",
     "iopub.status.idle": "2020-08-17T20:12:49.210982Z",
     "shell.execute_reply": "2020-08-17T20:12:49.209710Z"
    },
    "papermill": {
     "duration": 4.032756,
     "end_time": "2020-08-17T20:12:49.211129",
     "exception": false,
     "start_time": "2020-08-17T20:12:45.178373",
     "status": "completed"
    },
    "tags": []
   },
   "outputs": [],
   "source": [
    "train_images = mnist.train_images()\n",
    "train_labels = mnist.train_labels()"
   ]
  },
  {
   "cell_type": "code",
   "execution_count": 6,
   "metadata": {
    "execution": {
     "iopub.execute_input": "2020-08-17T20:12:49.282920Z",
     "iopub.status.busy": "2020-08-17T20:12:49.278004Z",
     "iopub.status.idle": "2020-08-17T20:12:49.294969Z",
     "shell.execute_reply": "2020-08-17T20:12:49.294491Z"
    },
    "papermill": {
     "duration": 0.05187,
     "end_time": "2020-08-17T20:12:49.295103",
     "exception": false,
     "start_time": "2020-08-17T20:12:49.243233",
     "status": "completed"
    },
    "tags": []
   },
   "outputs": [
    {
     "data": {
      "text/plain": [
       "((60000, 28, 28), (60000,))"
      ]
     },
     "execution_count": 6,
     "metadata": {},
     "output_type": "execute_result"
    }
   ],
   "source": [
    "train_images.shape, train_labels.shape"
   ]
  },
  {
   "cell_type": "code",
   "execution_count": 7,
   "metadata": {
    "execution": {
     "iopub.execute_input": "2020-08-17T20:12:49.359743Z",
     "iopub.status.busy": "2020-08-17T20:12:49.359148Z",
     "iopub.status.idle": "2020-08-17T20:12:50.865318Z",
     "shell.execute_reply": "2020-08-17T20:12:50.865859Z"
    },
    "papermill": {
     "duration": 1.540958,
     "end_time": "2020-08-17T20:12:50.866026",
     "exception": false,
     "start_time": "2020-08-17T20:12:49.325068",
     "status": "completed"
    },
    "tags": []
   },
   "outputs": [],
   "source": [
    "test_images = mnist.test_images()\n",
    "test_labels = mnist.test_labels()"
   ]
  },
  {
   "cell_type": "code",
   "execution_count": 8,
   "metadata": {
    "execution": {
     "iopub.execute_input": "2020-08-17T20:12:50.939847Z",
     "iopub.status.busy": "2020-08-17T20:12:50.939211Z",
     "iopub.status.idle": "2020-08-17T20:12:50.953488Z",
     "shell.execute_reply": "2020-08-17T20:12:50.954076Z"
    },
    "papermill": {
     "duration": 0.050939,
     "end_time": "2020-08-17T20:12:50.954229",
     "exception": false,
     "start_time": "2020-08-17T20:12:50.903290",
     "status": "completed"
    },
    "tags": []
   },
   "outputs": [
    {
     "data": {
      "text/plain": [
       "((10000, 28, 28), (10000,))"
      ]
     },
     "execution_count": 8,
     "metadata": {},
     "output_type": "execute_result"
    }
   ],
   "source": [
    "test_images.shape, test_labels.shape"
   ]
  },
  {
   "cell_type": "code",
   "execution_count": 9,
   "metadata": {
    "execution": {
     "iopub.execute_input": "2020-08-17T20:12:51.024640Z",
     "iopub.status.busy": "2020-08-17T20:12:51.024043Z",
     "iopub.status.idle": "2020-08-17T20:12:51.184077Z",
     "shell.execute_reply": "2020-08-17T20:12:51.184658Z"
    },
    "papermill": {
     "duration": 0.196647,
     "end_time": "2020-08-17T20:12:51.184834",
     "exception": false,
     "start_time": "2020-08-17T20:12:50.988187",
     "status": "completed"
    },
    "tags": []
   },
   "outputs": [
    {
     "name": "stdout",
     "output_type": "stream",
     "text": [
      "2\n"
     ]
    },
    {
     "data": {
      "text/plain": [
       "<matplotlib.image.AxesImage at 0x7f15082f2320>"
      ]
     },
     "execution_count": 9,
     "metadata": {},
     "output_type": "execute_result"
    },
    {
     "data": {
      "image/png": "[encoded data removed]",
      "text/plain": [
       "<Figure size 432x288 with 1 Axes>"
      ]
     },
     "metadata": {
      "needs_background": "light"
     },
     "output_type": "display_data"
    }
   ],
   "source": [
    "image_index = 7776 # You may select anything up to 60,000\n",
    "print(train_labels[image_index]) \n",
    "plt.imshow(train_images[image_index], cmap='Greys')"
   ]
  },
  {
   "cell_type": "markdown",
   "metadata": {
    "papermill": {
     "duration": 0.033818,
     "end_time": "2020-08-17T20:12:51.251118",
     "exception": false,
     "start_time": "2020-08-17T20:12:51.217300",
     "status": "completed"
    },
    "tags": []
   },
   "source": [
    "## Filter data to get 3 and 8 out"
   ]
  },
  {
   "cell_type": "code",
   "execution_count": 10,
   "metadata": {
    "execution": {
     "iopub.execute_input": "2020-08-17T20:12:51.320091Z",
     "iopub.status.busy": "2020-08-17T20:12:51.319369Z",
     "iopub.status.idle": "2020-08-17T20:12:51.338932Z",
     "shell.execute_reply": "2020-08-17T20:12:51.338422Z"
    },
    "papermill": {
     "duration": 0.055414,
     "end_time": "2020-08-17T20:12:51.339074",
     "exception": false,
     "start_time": "2020-08-17T20:12:51.283660",
     "status": "completed"
    },
    "tags": []
   },
   "outputs": [],
   "source": [
    "train_filter = np.where((train_labels == 3 ) | (train_labels == 8))\n",
    "test_filter = np.where((test_labels == 3) | (test_labels == 8))\n",
    "X_train, y_train = train_images[train_filter], train_labels[train_filter]\n",
    "X_test, y_test = test_images[test_filter], test_labels[test_filter]"
   ]
  },
  {
   "cell_type": "markdown",
   "metadata": {
    "papermill": {
     "duration": 0.031638,
     "end_time": "2020-08-17T20:12:51.402765",
     "exception": false,
     "start_time": "2020-08-17T20:12:51.371127",
     "status": "completed"
    },
    "tags": []
   },
   "source": [
    "##### We normalize the pizel values in the 0 to 1 range"
   ]
  },
  {
   "cell_type": "code",
   "execution_count": 11,
   "metadata": {
    "execution": {
     "iopub.execute_input": "2020-08-17T20:12:51.473171Z",
     "iopub.status.busy": "2020-08-17T20:12:51.472579Z",
     "iopub.status.idle": "2020-08-17T20:12:51.527167Z",
     "shell.execute_reply": "2020-08-17T20:12:51.526559Z"
    },
    "papermill": {
     "duration": 0.091518,
     "end_time": "2020-08-17T20:12:51.527330",
     "exception": false,
     "start_time": "2020-08-17T20:12:51.435812",
     "status": "completed"
    },
    "tags": []
   },
   "outputs": [],
   "source": [
    "X_train = X_train/255.\n",
    "X_test = X_test/255."
   ]
  },
  {
   "cell_type": "markdown",
   "metadata": {
    "papermill": {
     "duration": 0.035077,
     "end_time": "2020-08-17T20:12:51.600616",
     "exception": false,
     "start_time": "2020-08-17T20:12:51.565539",
     "status": "completed"
    },
    "tags": []
   },
   "source": [
    "And setup the labels as 1 (when the digit is 3) and 0 (when the digit is 8)"
   ]
  },
  {
   "cell_type": "code",
   "execution_count": 12,
   "metadata": {
    "execution": {
     "iopub.execute_input": "2020-08-17T20:12:51.668907Z",
     "iopub.status.busy": "2020-08-17T20:12:51.668309Z",
     "iopub.status.idle": "2020-08-17T20:12:51.682723Z",
     "shell.execute_reply": "2020-08-17T20:12:51.682233Z"
    },
    "papermill": {
     "duration": 0.050143,
     "end_time": "2020-08-17T20:12:51.682857",
     "exception": false,
     "start_time": "2020-08-17T20:12:51.632714",
     "status": "completed"
    },
    "tags": []
   },
   "outputs": [],
   "source": [
    "y_train = 1*(y_train==3)\n",
    "y_test = 1*(y_test==3)"
   ]
  },
  {
   "cell_type": "code",
   "execution_count": 13,
   "metadata": {
    "execution": {
     "iopub.execute_input": "2020-08-17T20:12:51.753304Z",
     "iopub.status.busy": "2020-08-17T20:12:51.752640Z",
     "iopub.status.idle": "2020-08-17T20:12:51.766567Z",
     "shell.execute_reply": "2020-08-17T20:12:51.767056Z"
    },
    "papermill": {
     "duration": 0.051361,
     "end_time": "2020-08-17T20:12:51.767254",
     "exception": false,
     "start_time": "2020-08-17T20:12:51.715893",
     "status": "completed"
    },
    "tags": []
   },
   "outputs": [
    {
     "data": {
      "text/plain": [
       "((11982, 28, 28), (1984, 28, 28))"
      ]
     },
     "execution_count": 13,
     "metadata": {},
     "output_type": "execute_result"
    }
   ],
   "source": [
    "X_train.shape, X_test.shape"
   ]
  },
  {
   "cell_type": "markdown",
   "metadata": {
    "papermill": {
     "duration": 0.032185,
     "end_time": "2020-08-17T20:12:51.833154",
     "exception": false,
     "start_time": "2020-08-17T20:12:51.800969",
     "status": "completed"
    },
    "tags": []
   },
   "source": [
    "##### We reshape the data to flatten the image pixels into a set of features or co-variates:"
   ]
  },
  {
   "cell_type": "code",
   "execution_count": 14,
   "metadata": {
    "execution": {
     "iopub.execute_input": "2020-08-17T20:12:51.903277Z",
     "iopub.status.busy": "2020-08-17T20:12:51.902676Z",
     "iopub.status.idle": "2020-08-17T20:12:51.917588Z",
     "shell.execute_reply": "2020-08-17T20:12:51.916985Z"
    },
    "papermill": {
     "duration": 0.052488,
     "end_time": "2020-08-17T20:12:51.917718",
     "exception": false,
     "start_time": "2020-08-17T20:12:51.865230",
     "status": "completed"
    },
    "tags": []
   },
   "outputs": [
    {
     "data": {
      "text/plain": [
       "((11982, 784), (1984, 784))"
      ]
     },
     "execution_count": 14,
     "metadata": {},
     "output_type": "execute_result"
    }
   ],
   "source": [
    "X_train = X_train.reshape(X_train.shape[0], -1)\n",
    "X_test = X_test.reshape(X_test.shape[0], -1)\n",
    "X_train.shape, X_test.shape"
   ]
  },
  {
   "cell_type": "markdown",
   "metadata": {
    "papermill": {
     "duration": 0.033182,
     "end_time": "2020-08-17T20:12:51.985130",
     "exception": false,
     "start_time": "2020-08-17T20:12:51.951948",
     "status": "completed"
    },
    "tags": []
   },
   "source": [
    "##### Importing Kudzu library and its functionality"
   ]
  },
  {
   "cell_type": "code",
   "execution_count": 15,
   "metadata": {
    "execution": {
     "iopub.execute_input": "2020-08-17T20:12:52.061272Z",
     "iopub.status.busy": "2020-08-17T20:12:52.060557Z",
     "iopub.status.idle": "2020-08-17T20:12:52.082530Z",
     "shell.execute_reply": "2020-08-17T20:12:52.083157Z"
    },
    "papermill": {
     "duration": 0.061053,
     "end_time": "2020-08-17T20:12:52.083353",
     "exception": false,
     "start_time": "2020-08-17T20:12:52.022300",
     "status": "completed"
    },
    "tags": []
   },
   "outputs": [],
   "source": [
    "from kudzu.data import Data, Dataloader, Sampler\n",
    "from kudzu.callbacks import AccCallback\n",
    "from kudzu.loss import MSE\n",
    "from kudzu.layer import Affine, Sigmoid\n",
    "from kudzu.model import Model\n",
    "from kudzu.optim import GD\n",
    "from kudzu.train import Learner\n",
    "from kudzu.callbacks import ClfCallback\n",
    "from kudzu.layer import Sigmoid\n",
    "from kudzu.layer import Relu"
   ]
  },
  {
   "cell_type": "markdown",
   "metadata": {
    "papermill": {
     "duration": 0.031987,
     "end_time": "2020-08-17T20:12:52.149494",
     "exception": false,
     "start_time": "2020-08-17T20:12:52.117507",
     "status": "completed"
    },
    "tags": []
   },
   "source": [
    "##### We are creating a class, just so that we can use it to store our parameters for us"
   ]
  },
  {
   "cell_type": "code",
   "execution_count": 16,
   "metadata": {
    "execution": {
     "iopub.execute_input": "2020-08-17T20:12:52.218216Z",
     "iopub.status.busy": "2020-08-17T20:12:52.217570Z",
     "iopub.status.idle": "2020-08-17T20:12:52.232169Z",
     "shell.execute_reply": "2020-08-17T20:12:52.231688Z"
    },
    "papermill": {
     "duration": 0.050317,
     "end_time": "2020-08-17T20:12:52.232305",
     "exception": false,
     "start_time": "2020-08-17T20:12:52.181988",
     "status": "completed"
    },
    "tags": []
   },
   "outputs": [],
   "source": [
    "class Config:\n",
    "    pass\n",
    "config = Config()\n",
    "config.lr = 0.001\n",
    "config.num_epochs = 250\n",
    "config.bs = 50"
   ]
  },
  {
   "cell_type": "markdown",
   "metadata": {
    "papermill": {
     "duration": 0.033574,
     "end_time": "2020-08-17T20:12:52.300479",
     "exception": false,
     "start_time": "2020-08-17T20:12:52.266905",
     "status": "completed"
    },
    "tags": []
   },
   "source": [
    "##### Initializing Data"
   ]
  },
  {
   "cell_type": "code",
   "execution_count": 17,
   "metadata": {
    "execution": {
     "iopub.execute_input": "2020-08-17T20:12:52.374986Z",
     "iopub.status.busy": "2020-08-17T20:12:52.374393Z",
     "iopub.status.idle": "2020-08-17T20:12:52.388384Z",
     "shell.execute_reply": "2020-08-17T20:12:52.387855Z"
    },
    "papermill": {
     "duration": 0.054457,
     "end_time": "2020-08-17T20:12:52.388518",
     "exception": false,
     "start_time": "2020-08-17T20:12:52.334061",
     "status": "completed"
    },
    "tags": []
   },
   "outputs": [],
   "source": [
    "data = Data(X_train, y_train.reshape(-1,1))\n",
    "loss = MSE()\n",
    "opt = GD(config.lr)\n",
    "sampler = Sampler(data, config.bs, shuffle=True)\n",
    "dl = Dataloader(data, sampler)"
   ]
  },
  {
   "cell_type": "markdown",
   "metadata": {
    "papermill": {
     "duration": 0.031971,
     "end_time": "2020-08-17T20:12:52.452505",
     "exception": false,
     "start_time": "2020-08-17T20:12:52.420534",
     "status": "completed"
    },
    "tags": []
   },
   "source": [
    "##### Constructing 2 different layers, one for NN and one only for logistic regression."
   ]
  },
  {
   "cell_type": "markdown",
   "metadata": {
    "papermill": {
     "duration": 0.031879,
     "end_time": "2020-08-17T20:12:52.516247",
     "exception": false,
     "start_time": "2020-08-17T20:12:52.484368",
     "status": "completed"
    },
    "tags": []
   },
   "source": [
    "##### Creating containers for data to be passed, to calculate accuracies"
   ]
  },
  {
   "cell_type": "code",
   "execution_count": 18,
   "metadata": {
    "execution": {
     "iopub.execute_input": "2020-08-17T20:12:52.584910Z",
     "iopub.status.busy": "2020-08-17T20:12:52.584325Z",
     "iopub.status.idle": "2020-08-17T20:12:52.597730Z",
     "shell.execute_reply": "2020-08-17T20:12:52.598205Z"
    },
    "papermill": {
     "duration": 0.050143,
     "end_time": "2020-08-17T20:12:52.598360",
     "exception": false,
     "start_time": "2020-08-17T20:12:52.548217",
     "status": "completed"
    },
    "tags": []
   },
   "outputs": [],
   "source": [
    "training_xdata = X_train\n",
    "testing_xdata = X_test\n",
    "training_ydata = y_train.reshape(-1,1)\n",
    "testing_ydata = y_test.reshape(-1,1)"
   ]
  },
  {
   "cell_type": "markdown",
   "metadata": {
    "papermill": {
     "duration": 0.034762,
     "end_time": "2020-08-17T20:12:52.664781",
     "exception": false,
     "start_time": "2020-08-17T20:12:52.630019",
     "status": "completed"
    },
    "tags": []
   },
   "source": [
    "##### Initializing models and Running training loop: "
   ]
  },
  {
   "cell_type": "code",
   "execution_count": 19,
   "metadata": {
    "execution": {
     "iopub.execute_input": "2020-08-17T20:12:52.735835Z",
     "iopub.status.busy": "2020-08-17T20:12:52.735216Z",
     "iopub.status.idle": "2020-08-17T20:12:52.755206Z",
     "shell.execute_reply": "2020-08-17T20:12:52.754668Z"
    },
    "papermill": {
     "duration": 0.058615,
     "end_time": "2020-08-17T20:12:52.755338",
     "exception": false,
     "start_time": "2020-08-17T20:12:52.696723",
     "status": "completed"
    },
    "tags": []
   },
   "outputs": [],
   "source": [
    "layers = [Affine(\"first\", 784, 100), Relu(\"first\"), Affine(\"second\", 100, 100), Relu(\"second\"), Affine(\"third\", 100, 2), Affine(\"final\", 2, 1), Sigmoid(\"final\")]\n",
    "\n",
    "model_neural = Model(layers)\n",
    "model_logistic = Model([Affine(\"logits\", 784, 1), Sigmoid(\"sigmoid\")])"
   ]
  },
  {
   "cell_type": "code",
   "execution_count": 20,
   "metadata": {
    "execution": {
     "iopub.execute_input": "2020-08-17T20:12:52.826565Z",
     "iopub.status.busy": "2020-08-17T20:12:52.825964Z",
     "iopub.status.idle": "2020-08-17T20:12:52.839773Z",
     "shell.execute_reply": "2020-08-17T20:12:52.839246Z"
    },
    "papermill": {
     "duration": 0.052253,
     "end_time": "2020-08-17T20:12:52.839903",
     "exception": false,
     "start_time": "2020-08-17T20:12:52.787650",
     "status": "completed"
    },
    "tags": []
   },
   "outputs": [],
   "source": [
    "learner1 = Learner(loss, model_neural, opt, config.num_epochs)\n",
    "acc1 = ClfCallback(learner1, config.bs, training_xdata , testing_xdata, training_ydata, testing_ydata)\n",
    "learner1.set_callbacks([acc1])"
   ]
  },
  {
   "cell_type": "code",
   "execution_count": 21,
   "metadata": {
    "execution": {
     "iopub.execute_input": "2020-08-17T20:12:52.909107Z",
     "iopub.status.busy": "2020-08-17T20:12:52.908461Z",
     "iopub.status.idle": "2020-08-17T20:14:26.845769Z",
     "shell.execute_reply": "2020-08-17T20:14:26.846591Z"
    },
    "papermill": {
     "duration": 93.974376,
     "end_time": "2020-08-17T20:14:26.846752",
     "exception": false,
     "start_time": "2020-08-17T20:12:52.872376",
     "status": "completed"
    },
    "tags": []
   },
   "outputs": [
    {
     "name": "stdout",
     "output_type": "stream",
     "text": [
      "Epoch 0 Loss 0.25836954982165705\n",
      "train accuracy is: 0.5013353363378401, test accuracy is 0.5070564516129032\n"
     ]
    },
    {
     "name": "stdout",
     "output_type": "stream",
     "text": [
      "Epoch 10 Loss 0.14043650531326088\n",
      "train accuracy is: 0.8941745952261726, test accuracy is 0.9032258064516129\n"
     ]
    },
    {
     "name": "stdout",
     "output_type": "stream",
     "text": [
      "Epoch 20 Loss 0.07477764868100578\n",
      "train accuracy is: 0.9243031213486897, test accuracy is 0.9339717741935484\n"
     ]
    },
    {
     "name": "stdout",
     "output_type": "stream",
     "text": [
      "Epoch 30 Loss 0.05406921442287828\n",
      "train accuracy is: 0.9402436988816558, test accuracy is 0.9511088709677419\n"
     ]
    },
    {
     "name": "stdout",
     "output_type": "stream",
     "text": [
      "Epoch 40 Loss 0.04461857348516799\n",
      "train accuracy is: 0.9490903021198465, test accuracy is 0.9647177419354839\n"
     ]
    },
    {
     "name": "stdout",
     "output_type": "stream",
     "text": [
      "Epoch 50 Loss 0.039338324506798396\n",
      "train accuracy is: 0.9545151059923218, test accuracy is 0.96875\n"
     ]
    },
    {
     "name": "stdout",
     "output_type": "stream",
     "text": [
      "Epoch 60 Loss 0.03592974029553253\n",
      "train accuracy is: 0.958020363879152, test accuracy is 0.967741935483871\n"
     ]
    },
    {
     "name": "stdout",
     "output_type": "stream",
     "text": [
      "Epoch 70 Loss 0.033490056911601916\n",
      "train accuracy is: 0.9607744950759473, test accuracy is 0.9692540322580645\n"
     ]
    },
    {
     "name": "stdout",
     "output_type": "stream",
     "text": [
      "Epoch 80 Loss 0.03163027255453585\n",
      "train accuracy is: 0.9626105825404774, test accuracy is 0.969758064516129\n"
     ]
    },
    {
     "name": "stdout",
     "output_type": "stream",
     "text": [
      "Epoch 90 Loss 0.03014116686498209\n",
      "train accuracy is: 0.9638624603572025, test accuracy is 0.9702620967741935\n"
     ]
    },
    {
     "name": "stdout",
     "output_type": "stream",
     "text": [
      "Epoch 100 Loss 0.02889651871182085\n",
      "train accuracy is: 0.9656150893006176, test accuracy is 0.969758064516129\n"
     ]
    },
    {
     "name": "stdout",
     "output_type": "stream",
     "text": [
      "Epoch 110 Loss 0.027842466721689774\n",
      "train accuracy is: 0.9667000500751126, test accuracy is 0.9712701612903226\n"
     ]
    },
    {
     "name": "stdout",
     "output_type": "stream",
     "text": [
      "Epoch 120 Loss 0.026922440138957462\n",
      "train accuracy is: 0.9680353864129527, test accuracy is 0.9712701612903226\n"
     ]
    },
    {
     "name": "stdout",
     "output_type": "stream",
     "text": [
      "Epoch 130 Loss 0.02611137938066769\n",
      "train accuracy is: 0.9682857619762978, test accuracy is 0.9712701612903226\n"
     ]
    },
    {
     "name": "stdout",
     "output_type": "stream",
     "text": [
      "Epoch 140 Loss 0.025385709734871864\n",
      "train accuracy is: 0.9695376397930229, test accuracy is 0.9722782258064516\n"
     ]
    },
    {
     "name": "stdout",
     "output_type": "stream",
     "text": [
      "Epoch 150 Loss 0.02472423261877898\n",
      "train accuracy is: 0.970372225004173, test accuracy is 0.9717741935483871\n"
     ]
    },
    {
     "name": "stdout",
     "output_type": "stream",
     "text": [
      "Epoch 160 Loss 0.024124903156327957\n",
      "train accuracy is: 0.971791019863128, test accuracy is 0.9712701612903226\n"
     ]
    },
    {
     "name": "stdout",
     "output_type": "stream",
     "text": [
      "Epoch 170 Loss 0.023571295656737882\n",
      "train accuracy is: 0.972375229510933, test accuracy is 0.9707661290322581\n"
     ]
    },
    {
     "name": "stdout",
     "output_type": "stream",
     "text": [
      "Epoch 180 Loss 0.023057511559738453\n",
      "train accuracy is: 0.9730428976798531, test accuracy is 0.9707661290322581\n"
     ]
    },
    {
     "name": "stdout",
     "output_type": "stream",
     "text": [
      "Epoch 190 Loss 0.02257689168248322\n",
      "train accuracy is: 0.9738774828910032, test accuracy is 0.9707661290322581\n"
     ]
    },
    {
     "name": "stdout",
     "output_type": "stream",
     "text": [
      "Epoch 200 Loss 0.022125574288754928\n",
      "train accuracy is: 0.9744616925388082, test accuracy is 0.9712701612903226\n"
     ]
    },
    {
     "name": "stdout",
     "output_type": "stream",
     "text": [
      "Epoch 210 Loss 0.021685157950534693\n",
      "train accuracy is: 0.9752128192288433, test accuracy is 0.9722782258064516\n"
     ]
    },
    {
     "name": "stdout",
     "output_type": "stream",
     "text": [
      "Epoch 220 Loss 0.021288715014284233\n",
      "train accuracy is: 0.9756301118344183, test accuracy is 0.9722782258064516\n"
     ]
    },
    {
     "name": "stdout",
     "output_type": "stream",
     "text": [
      "Epoch 230 Loss 0.02089789269834746\n",
      "train accuracy is: 0.9759639459188784, test accuracy is 0.9707661290322581\n"
     ]
    },
    {
     "name": "stdout",
     "output_type": "stream",
     "text": [
      "Epoch 240 Loss 0.02053944527333604\n",
      "train accuracy is: 0.9763812385244534, test accuracy is 0.9717741935483871\n"
     ]
    },
    {
     "data": {
      "text/plain": [
       "0.0064200250425827925"
      ]
     },
     "execution_count": 21,
     "metadata": {},
     "output_type": "execute_result"
    }
   ],
   "source": [
    "learner1.train_loop(dl)"
   ]
  },
  {
   "cell_type": "markdown",
   "metadata": {
    "papermill": {
     "duration": 0.04082,
     "end_time": "2020-08-17T20:14:26.928031",
     "exception": false,
     "start_time": "2020-08-17T20:14:26.887211",
     "status": "completed"
    },
    "tags": []
   },
   "source": [
    "##### Now running only the logistic regression based classification to compare results with NN"
   ]
  },
  {
   "cell_type": "code",
   "execution_count": 22,
   "metadata": {
    "execution": {
     "iopub.execute_input": "2020-08-17T20:14:27.017783Z",
     "iopub.status.busy": "2020-08-17T20:14:27.016781Z",
     "iopub.status.idle": "2020-08-17T20:14:27.027366Z",
     "shell.execute_reply": "2020-08-17T20:14:27.026848Z"
    },
    "papermill": {
     "duration": 0.056903,
     "end_time": "2020-08-17T20:14:27.027499",
     "exception": false,
     "start_time": "2020-08-17T20:14:26.970596",
     "status": "completed"
    },
    "tags": []
   },
   "outputs": [],
   "source": [
    "learner2 = Learner(loss, model_logistic, opt, config.num_epochs)\n",
    "acc2 = ClfCallback(learner2, config.bs, training_xdata , testing_xdata, training_ydata, testing_ydata)\n",
    "learner2.set_callbacks([acc2])"
   ]
  },
  {
   "cell_type": "code",
   "execution_count": 23,
   "metadata": {
    "execution": {
     "iopub.execute_input": "2020-08-17T20:14:27.123175Z",
     "iopub.status.busy": "2020-08-17T20:14:27.122561Z",
     "iopub.status.idle": "2020-08-17T20:14:44.275842Z",
     "shell.execute_reply": "2020-08-17T20:14:44.276624Z"
    },
    "papermill": {
     "duration": 17.198939,
     "end_time": "2020-08-17T20:14:44.276790",
     "exception": false,
     "start_time": "2020-08-17T20:14:27.077851",
     "status": "completed"
    },
    "tags": []
   },
   "outputs": [
    {
     "name": "stdout",
     "output_type": "stream",
     "text": [
      "Epoch 0 Loss 0.24470047389105656\n",
      "train accuracy is: 0.6801869470872977, test accuracy is 0.6794354838709677\n"
     ]
    },
    {
     "name": "stdout",
     "output_type": "stream",
     "text": [
      "Epoch 10 Loss 0.10210358201666232\n",
      "train accuracy is: 0.9106993824069437, test accuracy is 0.9203629032258065\n"
     ]
    },
    {
     "name": "stdout",
     "output_type": "stream",
     "text": [
      "Epoch 20 Loss 0.07866807158898678\n",
      "train accuracy is: 0.9262226673343348, test accuracy is 0.9354838709677419\n"
     ]
    },
    {
     "name": "stdout",
     "output_type": "stream",
     "text": [
      "Epoch 30 Loss 0.06789398030268953\n",
      "train accuracy is: 0.9347354364880655, test accuracy is 0.9460685483870968\n"
     ]
    },
    {
     "name": "stdout",
     "output_type": "stream",
     "text": [
      "Epoch 40 Loss 0.06139999951787359\n",
      "train accuracy is: 0.9404106159238859, test accuracy is 0.9490927419354839\n"
     ]
    },
    {
     "name": "stdout",
     "output_type": "stream",
     "text": [
      "Epoch 50 Loss 0.05696210595074915\n",
      "train accuracy is: 0.9441662493740611, test accuracy is 0.9561491935483871\n"
     ]
    },
    {
     "name": "stdout",
     "output_type": "stream",
     "text": [
      "Epoch 60 Loss 0.0536949653655373\n",
      "train accuracy is: 0.9466700050075113, test accuracy is 0.9581653225806451\n"
     ]
    },
    {
     "name": "stdout",
     "output_type": "stream",
     "text": [
      "Epoch 70 Loss 0.0511622112408306\n",
      "train accuracy is: 0.9492572191620764, test accuracy is 0.9601814516129032\n"
     ]
    },
    {
     "name": "stdout",
     "output_type": "stream",
     "text": [
      "Epoch 80 Loss 0.04912847958393231\n",
      "train accuracy is: 0.9505925554999165, test accuracy is 0.9621975806451613\n"
     ]
    },
    {
     "name": "stdout",
     "output_type": "stream",
     "text": [
      "Epoch 90 Loss 0.04745035984222144\n",
      "train accuracy is: 0.9516775162744117, test accuracy is 0.9616935483870968\n"
     ]
    },
    {
     "name": "stdout",
     "output_type": "stream",
     "text": [
      "Epoch 100 Loss 0.04603418603793634\n",
      "train accuracy is: 0.9530963111333667, test accuracy is 0.9621975806451613\n"
     ]
    },
    {
     "name": "stdout",
     "output_type": "stream",
     "text": [
      "Epoch 110 Loss 0.04481768623895144\n",
      "train accuracy is: 0.9546820230345519, test accuracy is 0.9647177419354839\n"
     ]
    },
    {
     "name": "stdout",
     "output_type": "stream",
     "text": [
      "Epoch 120 Loss 0.0437602081574139\n",
      "train accuracy is: 0.9551827741612419, test accuracy is 0.9647177419354839\n"
     ]
    },
    {
     "name": "stdout",
     "output_type": "stream",
     "text": [
      "Epoch 130 Loss 0.04282823940294954\n",
      "train accuracy is: 0.9559339008512769, test accuracy is 0.9657258064516129\n"
     ]
    },
    {
     "name": "stdout",
     "output_type": "stream",
     "text": [
      "Epoch 140 Loss 0.04199856019726773\n",
      "train accuracy is: 0.956434651977967, test accuracy is 0.9657258064516129\n"
     ]
    },
    {
     "name": "stdout",
     "output_type": "stream",
     "text": [
      "Epoch 150 Loss 0.04125433349627998\n",
      "train accuracy is: 0.956601569020197, test accuracy is 0.9657258064516129\n"
     ]
    },
    {
     "name": "stdout",
     "output_type": "stream",
     "text": [
      "Epoch 160 Loss 0.04058149623218493\n",
      "train accuracy is: 0.956935403104657, test accuracy is 0.9657258064516129\n"
     ]
    },
    {
     "name": "stdout",
     "output_type": "stream",
     "text": [
      "Epoch 170 Loss 0.03996862006435524\n",
      "train accuracy is: 0.9578534468369221, test accuracy is 0.9657258064516129\n"
     ]
    },
    {
     "name": "stdout",
     "output_type": "stream",
     "text": [
      "Epoch 180 Loss 0.039407904630524425\n",
      "train accuracy is: 0.958020363879152, test accuracy is 0.9657258064516129\n"
     ]
    },
    {
     "name": "stdout",
     "output_type": "stream",
     "text": [
      "Epoch 190 Loss 0.038892721887045976\n",
      "train accuracy is: 0.9583541979636121, test accuracy is 0.9657258064516129\n"
     ]
    },
    {
     "name": "stdout",
     "output_type": "stream",
     "text": [
      "Epoch 200 Loss 0.0384155344861841\n",
      "train accuracy is: 0.9589384076114171, test accuracy is 0.9657258064516129\n"
     ]
    },
    {
     "name": "stdout",
     "output_type": "stream",
     "text": [
      "Epoch 210 Loss 0.03797295943498731\n",
      "train accuracy is: 0.9591053246536472, test accuracy is 0.9662298387096774\n"
     ]
    },
    {
     "name": "stdout",
     "output_type": "stream",
     "text": [
      "Epoch 220 Loss 0.03756107903588795\n",
      "train accuracy is: 0.9595226172592222, test accuracy is 0.9662298387096774\n"
     ]
    },
    {
     "name": "stdout",
     "output_type": "stream",
     "text": [
      "Epoch 230 Loss 0.037175374277347184\n",
      "train accuracy is: 0.9596895343014522, test accuracy is 0.9662298387096774\n"
     ]
    },
    {
     "name": "stdout",
     "output_type": "stream",
     "text": [
      "Epoch 240 Loss 0.03681465109091136\n",
      "train accuracy is: 0.9599399098647972, test accuracy is 0.9662298387096774\n"
     ]
    },
    {
     "data": {
      "text/plain": [
       "0.02034675934876453"
      ]
     },
     "execution_count": 23,
     "metadata": {},
     "output_type": "execute_result"
    }
   ],
   "source": [
    "learner2.train_loop(dl)"
   ]
  },
  {
   "cell_type": "markdown",
   "metadata": {
    "papermill": {
     "duration": 0.048945,
     "end_time": "2020-08-17T20:14:44.383463",
     "exception": false,
     "start_time": "2020-08-17T20:14:44.334518",
     "status": "completed"
    },
    "tags": []
   },
   "source": [
    "### Comparing results of NN and LR"
   ]
  },
  {
   "cell_type": "code",
   "execution_count": 24,
   "metadata": {
    "execution": {
     "iopub.execute_input": "2020-08-17T20:14:44.485046Z",
     "iopub.status.busy": "2020-08-17T20:14:44.482436Z",
     "iopub.status.idle": "2020-08-17T20:14:44.703957Z",
     "shell.execute_reply": "2020-08-17T20:14:44.703460Z"
    },
    "papermill": {
     "duration": 0.272867,
     "end_time": "2020-08-17T20:14:44.704101",
     "exception": false,
     "start_time": "2020-08-17T20:14:44.431234",
     "status": "completed"
    },
    "tags": []
   },
   "outputs": [
    {
     "data": {
      "text/plain": [
       "<matplotlib.legend.Legend at 0x7f1507ec89e8>"
      ]
     },
     "execution_count": 24,
     "metadata": {},
     "output_type": "execute_result"
    },
    {
     "data": {
      "image/png": "[encoded data removed]",
      "text/plain": [
       "<Figure size 576x360 with 1 Axes>"
      ]
     },
     "metadata": {
      "needs_background": "light"
     },
     "output_type": "display_data"
    }
   ],
   "source": [
    "plt.figure(figsize=(8,5))\n",
    "plt.plot(acc1.val_accuracies, 'g-', label = \"Val Accuracies - NN\")\n",
    "plt.plot(acc1.accuracies, 'r-', label = \"Accuracies - NN\")\n",
    "plt.plot(acc2.val_accuracies, 'b-', label = \"Val Accuracies - Logistic Reg\")\n",
    "plt.plot(acc2.accuracies, 'k-', label = \"Accuracies - Logistic Reg\")\n",
    "plt.ylim(0.8,1) ## for a more spread out view\n",
    "plt.legend()"
   ]
  },
  {
   "cell_type": "markdown",
   "metadata": {
    "papermill": {
     "duration": 0.049488,
     "end_time": "2020-08-17T20:14:44.802531",
     "exception": false,
     "start_time": "2020-08-17T20:14:44.753043",
     "status": "completed"
    },
    "tags": []
   },
   "source": [
    "### Clearly NN has a better accuracy over LR; NN is overfitting - Validation accuracy (green) has dropped below training accuracy (orange), also they are diverging. This problem is not seen in LR"
   ]
  },
  {
   "cell_type": "markdown",
   "metadata": {
    "papermill": {
     "duration": 0.051554,
     "end_time": "2020-08-17T20:14:44.903004",
     "exception": false,
     "start_time": "2020-08-17T20:14:44.851450",
     "status": "completed"
    },
    "tags": []
   },
   "source": [
    "##### Now we will be moving through the network, till the output of the second last affine where we get a 2 dimensional output. We will be plotting this 2d output and probability contours"
   ]
  },
  {
   "cell_type": "code",
   "execution_count": 25,
   "metadata": {
    "execution": {
     "iopub.execute_input": "2020-08-17T20:14:45.008622Z",
     "iopub.status.busy": "2020-08-17T20:14:45.007956Z",
     "iopub.status.idle": "2020-08-17T20:14:45.020332Z",
     "shell.execute_reply": "2020-08-17T20:14:45.020804Z"
    },
    "papermill": {
     "duration": 0.067839,
     "end_time": "2020-08-17T20:14:45.020967",
     "exception": false,
     "start_time": "2020-08-17T20:14:44.953128",
     "status": "completed"
    },
    "tags": []
   },
   "outputs": [],
   "source": [
    "model_new = Model(layers[:-2])"
   ]
  },
  {
   "cell_type": "code",
   "execution_count": 26,
   "metadata": {
    "execution": {
     "iopub.execute_input": "2020-08-17T20:14:45.135173Z",
     "iopub.status.busy": "2020-08-17T20:14:45.134525Z",
     "iopub.status.idle": "2020-08-17T20:14:45.156007Z",
     "shell.execute_reply": "2020-08-17T20:14:45.156505Z"
    },
    "papermill": {
     "duration": 0.075801,
     "end_time": "2020-08-17T20:14:45.156676",
     "exception": false,
     "start_time": "2020-08-17T20:14:45.080875",
     "status": "completed"
    },
    "tags": []
   },
   "outputs": [],
   "source": [
    "plot_testing = model_new(testing_xdata)"
   ]
  },
  {
   "cell_type": "markdown",
   "metadata": {
    "papermill": {
     "duration": 0.048155,
     "end_time": "2020-08-17T20:14:45.253130",
     "exception": false,
     "start_time": "2020-08-17T20:14:45.204975",
     "status": "completed"
    },
    "tags": []
   },
   "source": [
    "##### Plotting the scatter plot of points and color coding by class"
   ]
  },
  {
   "cell_type": "code",
   "execution_count": 27,
   "metadata": {
    "execution": {
     "iopub.execute_input": "2020-08-17T20:14:45.388414Z",
     "iopub.status.busy": "2020-08-17T20:14:45.387786Z",
     "iopub.status.idle": "2020-08-17T20:14:45.644190Z",
     "shell.execute_reply": "2020-08-17T20:14:45.643124Z"
    },
    "papermill": {
     "duration": 0.313066,
     "end_time": "2020-08-17T20:14:45.644327",
     "exception": false,
     "start_time": "2020-08-17T20:14:45.331261",
     "status": "completed"
    },
    "tags": []
   },
   "outputs": [
    {
     "data": {
      "image/png": "[encoded data removed]",
      "text/plain": [
       "<Figure size 576x504 with 1 Axes>"
      ]
     },
     "metadata": {
      "needs_background": "light"
     },
     "output_type": "display_data"
    }
   ],
   "source": [
    "plt.figure(figsize=(8,7))\n",
    "plt.scatter(plot_testing[:,0], plot_testing[:,1], alpha = 0.1, c = y_test.ravel());"
   ]
  },
  {
   "cell_type": "markdown",
   "metadata": {
    "papermill": {
     "duration": 0.053399,
     "end_time": "2020-08-17T20:14:45.759891",
     "exception": false,
     "start_time": "2020-08-17T20:14:45.706492",
     "status": "completed"
    },
    "tags": []
   },
   "source": [
    "##### Plotting probability contours"
   ]
  },
  {
   "cell_type": "code",
   "execution_count": 28,
   "metadata": {
    "execution": {
     "iopub.execute_input": "2020-08-17T20:14:45.876496Z",
     "iopub.status.busy": "2020-08-17T20:14:45.875878Z",
     "iopub.status.idle": "2020-08-17T20:14:45.890755Z",
     "shell.execute_reply": "2020-08-17T20:14:45.890072Z"
    },
    "papermill": {
     "duration": 0.074969,
     "end_time": "2020-08-17T20:14:45.890888",
     "exception": false,
     "start_time": "2020-08-17T20:14:45.815919",
     "status": "completed"
    },
    "tags": []
   },
   "outputs": [],
   "source": [
    "model_prob = Model(layers[-2:]) ## picking only last two layers to get probability. That is affine followed by sigmoid"
   ]
  },
  {
   "cell_type": "code",
   "execution_count": 29,
   "metadata": {
    "execution": {
     "iopub.execute_input": "2020-08-17T20:14:46.003189Z",
     "iopub.status.busy": "2020-08-17T20:14:46.002580Z",
     "iopub.status.idle": "2020-08-17T20:14:46.017649Z",
     "shell.execute_reply": "2020-08-17T20:14:46.018155Z"
    },
    "papermill": {
     "duration": 0.072695,
     "end_time": "2020-08-17T20:14:46.018323",
     "exception": false,
     "start_time": "2020-08-17T20:14:45.945628",
     "status": "completed"
    },
    "tags": []
   },
   "outputs": [],
   "source": [
    "xgrid = np.linspace(-4, 1, 100) ## Adjust these values based on above chart, roughly -4 to 1\n",
    "ygrid = np.linspace(-7.5, 7.5, 100) ## Adjust these values based on above chart, roughly -7.5, 7.5\n",
    "xg, yg = np.meshgrid(xgrid, ygrid)\n",
    "# xg and yg are now both 100X100, lets convert them to single arrays \n",
    "\n",
    "xg_interim = np.ravel(xg)\n",
    "yg_interim = np.ravel(yg)\n",
    "\n",
    "## xg_interim, yg_interim are now arrays of len 10000, now we will stack them and then transpose to get desired shape of n rows, 2 columns\n",
    "\n",
    "X_interim = np.vstack((xg_interim, yg_interim)) ## Please note vstack takes in a tuple\n",
    "X = X_interim.T\n",
    "\n",
    "## We want a shape of n rows and 2 columns to be able to feed this to last affine\n",
    "## This last affine takes only two columns, hence the above transformation\n",
    "probability_contour = model_prob(X).reshape(100,100) ## to make it consistent with xg, yg"
   ]
  },
  {
   "cell_type": "code",
   "execution_count": 30,
   "metadata": {
    "execution": {
     "iopub.execute_input": "2020-08-17T20:14:46.132766Z",
     "iopub.status.busy": "2020-08-17T20:14:46.132172Z",
     "iopub.status.idle": "2020-08-17T20:14:46.392802Z",
     "shell.execute_reply": "2020-08-17T20:14:46.392240Z"
    },
    "papermill": {
     "duration": 0.318908,
     "end_time": "2020-08-17T20:14:46.392939",
     "exception": false,
     "start_time": "2020-08-17T20:14:46.074031",
     "status": "completed"
    },
    "tags": []
   },
   "outputs": [
    {
     "data": {
      "image/png": "[encoded data removed]",
      "text/plain": [
       "<Figure size 576x504 with 1 Axes>"
      ]
     },
     "metadata": {
      "needs_background": "light"
     },
     "output_type": "display_data"
    }
   ],
   "source": [
    "plt.figure(figsize=(8,7))\n",
    "plt.scatter(plot_testing[:,0], plot_testing[:,1], alpha = 0.1, c = y_test.ravel())\n",
    "contours = plt.contour(xg,yg,probability_contour)\n",
    "plt.clabel(contours, inline = True );"
   ]
  }
 ],
 "metadata": {
  "kernelspec": {
   "display_name": "Python 3",
   "language": "python",
   "name": "python3"
  },
  "language_info": {
   "codemirror_mode": {
    "name": "ipython",
    "version": 3
   },
   "file_extension": ".py",
   "mimetype": "text/x-python",
   "name": "python",
   "nbconvert_exporter": "python",
   "pygments_lexer": "ipython3",
   "version": "3.6.11"
  },
  "papermill": {
   "duration": 126.423461,
   "end_time": "2020-08-17T20:14:47.801855",
   "environment_variables": {},
   "exception": null,
   "input_path": "2020-08-07-NN-new.ipynb",
   "output_path": "2020-08-07-NN-new.ipynb",
   "parameters": {},
   "start_time": "2020-08-17T20:12:41.378394",
   "version": "2.1.2"
  }
 },
 "nbformat": 4,
 "nbformat_minor": 4
}