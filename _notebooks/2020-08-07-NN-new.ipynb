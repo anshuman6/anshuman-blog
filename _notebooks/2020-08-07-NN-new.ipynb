{
 "cells": [
  {
   "cell_type": "markdown",
   "metadata": {
    "papermill": {
     "duration": 0.035409,
     "end_time": "2020-08-21T00:28:13.180473",
     "exception": false,
     "start_time": "2020-08-21T00:28:13.145064",
     "status": "completed"
    },
    "tags": []
   },
   "source": [
    "# \"Building a basic Neural Network from scratch - Kudzu\"\n",
    "\n",
    "- badges: true\n",
    "- author: Anshuman Gupta"
   ]
  },
  {
   "cell_type": "markdown",
   "metadata": {
    "papermill": {
     "duration": 0.029876,
     "end_time": "2020-08-21T00:28:13.241279",
     "exception": false,
     "start_time": "2020-08-21T00:28:13.211403",
     "status": "completed"
    },
    "tags": []
   },
   "source": [
    "#### In this project, the idea is to write a classifier to differentiate between handwritten digits 3 and 8, from the MNIST database.\n",
    "\n",
    "#### I will using a custom built neural network library called Kudzu.This has been developed as a part of KTF/Foundations course of Univ.ai (www.univ.ai). The source code for Kudzu Library and and this notebook can be found on my git-hub profile : www.https://github.com/anshuman6 under the folder project-solution. Any feedback and comments are welcome. Please feel free to email me at: anshuman6@gmail.com\n",
    "\n",
    "#### 1. I will be using the MNIST database. \n",
    "\n",
    "#### 2. I will be comparing the results of the 4 layer NN to a standard logistic regression"
   ]
  },
  {
   "cell_type": "markdown",
   "metadata": {
    "papermill": {
     "duration": 0.028973,
     "end_time": "2020-08-21T00:28:13.300019",
     "exception": false,
     "start_time": "2020-08-21T00:28:13.271046",
     "status": "completed"
    },
    "tags": []
   },
   "source": [
    "##### Importing all the necessary libraries"
   ]
  },
  {
   "cell_type": "code",
   "execution_count": 1,
   "metadata": {
    "execution": {
     "iopub.execute_input": "2020-08-21T00:28:13.368234Z",
     "iopub.status.busy": "2020-08-21T00:28:13.367536Z",
     "iopub.status.idle": "2020-08-21T00:28:13.378566Z",
     "shell.execute_reply": "2020-08-21T00:28:13.379301Z"
    },
    "papermill": {
     "duration": 0.047749,
     "end_time": "2020-08-21T00:28:13.379480",
     "exception": false,
     "start_time": "2020-08-21T00:28:13.331731",
     "status": "completed"
    },
    "tags": []
   },
   "outputs": [],
   "source": [
    "%load_ext autoreload\n",
    "%autoreload 2"
   ]
  },
  {
   "cell_type": "code",
   "execution_count": 2,
   "metadata": {
    "execution": {
     "iopub.execute_input": "2020-08-21T00:28:13.442991Z",
     "iopub.status.busy": "2020-08-21T00:28:13.442408Z",
     "iopub.status.idle": "2020-08-21T00:28:14.031913Z",
     "shell.execute_reply": "2020-08-21T00:28:14.032784Z"
    },
    "papermill": {
     "duration": 0.624378,
     "end_time": "2020-08-21T00:28:14.033006",
     "exception": false,
     "start_time": "2020-08-21T00:28:13.408628",
     "status": "completed"
    },
    "tags": []
   },
   "outputs": [],
   "source": [
    "%matplotlib inline\n",
    "import numpy as np\n",
    "import matplotlib.pyplot as plt\n",
    "import pandas as pd"
   ]
  },
  {
   "cell_type": "markdown",
   "metadata": {
    "papermill": {
     "duration": 0.030603,
     "end_time": "2020-08-21T00:28:14.093794",
     "exception": false,
     "start_time": "2020-08-21T00:28:14.063191",
     "status": "completed"
    },
    "tags": []
   },
   "source": [
    "##### The following command helps us download MNIST from notebook itself. You can skip this if you already have MNIST. You can also download it via your terminal."
   ]
  },
  {
   "cell_type": "code",
   "execution_count": 3,
   "metadata": {
    "execution": {
     "iopub.execute_input": "2020-08-21T00:28:14.169506Z",
     "iopub.status.busy": "2020-08-21T00:28:14.161627Z",
     "iopub.status.idle": "2020-08-21T00:28:15.605314Z",
     "shell.execute_reply": "2020-08-21T00:28:15.605726Z"
    },
    "papermill": {
     "duration": 1.481067,
     "end_time": "2020-08-21T00:28:15.605916",
     "exception": false,
     "start_time": "2020-08-21T00:28:14.124849",
     "status": "completed"
    },
    "tags": []
   },
   "outputs": [
    {
     "name": "stdout",
     "output_type": "stream",
     "text": [
      "Collecting mnist\r\n"
     ]
    },
    {
     "name": "stdout",
     "output_type": "stream",
     "text": [
      "  Downloading mnist-0.2.2-py2.py3-none-any.whl (3.5 kB)\r\n",
      "Requirement already satisfied: numpy in /opt/hostedtoolcache/Python/3.6.11/x64/lib/python3.6/site-packages (from mnist) (1.19.1)\r\n"
     ]
    },
    {
     "name": "stdout",
     "output_type": "stream",
     "text": [
      "Installing collected packages: mnist\r\n",
      "Successfully installed mnist-0.2.2\r\n"
     ]
    }
   ],
   "source": [
    "!pip install mnist # Please note, it is commented out for now, you can remove comment if you want to install it"
   ]
  },
  {
   "cell_type": "markdown",
   "metadata": {
    "papermill": {
     "duration": 0.02989,
     "end_time": "2020-08-21T00:28:15.664248",
     "exception": false,
     "start_time": "2020-08-21T00:28:15.634358",
     "status": "completed"
    },
    "tags": []
   },
   "source": [
    "#### Preparing the Data"
   ]
  },
  {
   "cell_type": "code",
   "execution_count": 4,
   "metadata": {
    "execution": {
     "iopub.execute_input": "2020-08-21T00:28:15.733379Z",
     "iopub.status.busy": "2020-08-21T00:28:15.730578Z",
     "iopub.status.idle": "2020-08-21T00:28:15.745189Z",
     "shell.execute_reply": "2020-08-21T00:28:15.744695Z"
    },
    "papermill": {
     "duration": 0.048316,
     "end_time": "2020-08-21T00:28:15.745326",
     "exception": false,
     "start_time": "2020-08-21T00:28:15.697010",
     "status": "completed"
    },
    "tags": []
   },
   "outputs": [],
   "source": [
    "import mnist"
   ]
  },
  {
   "cell_type": "code",
   "execution_count": 5,
   "metadata": {
    "execution": {
     "iopub.execute_input": "2020-08-21T00:28:15.813433Z",
     "iopub.status.busy": "2020-08-21T00:28:15.807531Z",
     "iopub.status.idle": "2020-08-21T00:28:16.828745Z",
     "shell.execute_reply": "2020-08-21T00:28:16.828190Z"
    },
    "papermill": {
     "duration": 1.056048,
     "end_time": "2020-08-21T00:28:16.828882",
     "exception": false,
     "start_time": "2020-08-21T00:28:15.772834",
     "status": "completed"
    },
    "tags": []
   },
   "outputs": [],
   "source": [
    "train_images = mnist.train_images()\n",
    "train_labels = mnist.train_labels()"
   ]
  },
  {
   "cell_type": "code",
   "execution_count": 6,
   "metadata": {
    "execution": {
     "iopub.execute_input": "2020-08-21T00:28:16.891805Z",
     "iopub.status.busy": "2020-08-21T00:28:16.891250Z",
     "iopub.status.idle": "2020-08-21T00:28:16.906785Z",
     "shell.execute_reply": "2020-08-21T00:28:16.906036Z"
    },
    "papermill": {
     "duration": 0.049323,
     "end_time": "2020-08-21T00:28:16.906928",
     "exception": false,
     "start_time": "2020-08-21T00:28:16.857605",
     "status": "completed"
    },
    "tags": []
   },
   "outputs": [
    {
     "data": {
      "text/plain": [
       "((60000, 28, 28), (60000,))"
      ]
     },
     "execution_count": 6,
     "metadata": {},
     "output_type": "execute_result"
    }
   ],
   "source": [
    "train_images.shape, train_labels.shape"
   ]
  },
  {
   "cell_type": "code",
   "execution_count": 7,
   "metadata": {
    "execution": {
     "iopub.execute_input": "2020-08-21T00:28:16.974926Z",
     "iopub.status.busy": "2020-08-21T00:28:16.974324Z",
     "iopub.status.idle": "2020-08-21T00:28:17.387095Z",
     "shell.execute_reply": "2020-08-21T00:28:17.386623Z"
    },
    "papermill": {
     "duration": 0.445277,
     "end_time": "2020-08-21T00:28:17.387222",
     "exception": false,
     "start_time": "2020-08-21T00:28:16.941945",
     "status": "completed"
    },
    "tags": []
   },
   "outputs": [],
   "source": [
    "test_images = mnist.test_images()\n",
    "test_labels = mnist.test_labels()"
   ]
  },
  {
   "cell_type": "code",
   "execution_count": 8,
   "metadata": {
    "execution": {
     "iopub.execute_input": "2020-08-21T00:28:17.446139Z",
     "iopub.status.busy": "2020-08-21T00:28:17.445493Z",
     "iopub.status.idle": "2020-08-21T00:28:17.459631Z",
     "shell.execute_reply": "2020-08-21T00:28:17.459193Z"
    },
    "papermill": {
     "duration": 0.043899,
     "end_time": "2020-08-21T00:28:17.459797",
     "exception": false,
     "start_time": "2020-08-21T00:28:17.415898",
     "status": "completed"
    },
    "tags": []
   },
   "outputs": [
    {
     "data": {
      "text/plain": [
       "((10000, 28, 28), (10000,))"
      ]
     },
     "execution_count": 8,
     "metadata": {},
     "output_type": "execute_result"
    }
   ],
   "source": [
    "test_images.shape, test_labels.shape"
   ]
  },
  {
   "cell_type": "code",
   "execution_count": 9,
   "metadata": {
    "execution": {
     "iopub.execute_input": "2020-08-21T00:28:17.516373Z",
     "iopub.status.busy": "2020-08-21T00:28:17.515561Z",
     "iopub.status.idle": "2020-08-21T00:28:17.683839Z",
     "shell.execute_reply": "2020-08-21T00:28:17.683411Z"
    },
    "papermill": {
     "duration": 0.196756,
     "end_time": "2020-08-21T00:28:17.683961",
     "exception": false,
     "start_time": "2020-08-21T00:28:17.487205",
     "status": "completed"
    },
    "tags": []
   },
   "outputs": [
    {
     "name": "stdout",
     "output_type": "stream",
     "text": [
      "2\n"
     ]
    },
    {
     "data": {
      "text/plain": [
       "<matplotlib.image.AxesImage at 0x7f822880a0f0>"
      ]
     },
     "execution_count": 9,
     "metadata": {},
     "output_type": "execute_result"
    },
    {
     "data": {
      "image/png": "[encoded data removed]",
      "text/plain": [
       "<Figure size 432x288 with 1 Axes>"
      ]
     },
     "metadata": {
      "needs_background": "light"
     },
     "output_type": "display_data"
    }
   ],
   "source": [
    "image_index = 7776 # You may select anything up to 60,000\n",
    "print(train_labels[image_index]) \n",
    "plt.imshow(train_images[image_index], cmap='Greys')"
   ]
  },
  {
   "cell_type": "markdown",
   "metadata": {
    "papermill": {
     "duration": 0.031418,
     "end_time": "2020-08-21T00:28:17.745289",
     "exception": false,
     "start_time": "2020-08-21T00:28:17.713871",
     "status": "completed"
    },
    "tags": []
   },
   "source": [
    "## Filter data to get 3 and 8 out"
   ]
  },
  {
   "cell_type": "code",
   "execution_count": 10,
   "metadata": {
    "execution": {
     "iopub.execute_input": "2020-08-21T00:28:17.803395Z",
     "iopub.status.busy": "2020-08-21T00:28:17.802694Z",
     "iopub.status.idle": "2020-08-21T00:28:17.820611Z",
     "shell.execute_reply": "2020-08-21T00:28:17.821313Z"
    },
    "papermill": {
     "duration": 0.049576,
     "end_time": "2020-08-21T00:28:17.821460",
     "exception": false,
     "start_time": "2020-08-21T00:28:17.771884",
     "status": "completed"
    },
    "tags": []
   },
   "outputs": [],
   "source": [
    "train_filter = np.where((train_labels == 3 ) | (train_labels == 8))\n",
    "test_filter = np.where((test_labels == 3) | (test_labels == 8))\n",
    "X_train, y_train = train_images[train_filter], train_labels[train_filter]\n",
    "X_test, y_test = test_images[test_filter], test_labels[test_filter]"
   ]
  },
  {
   "cell_type": "markdown",
   "metadata": {
    "papermill": {
     "duration": 0.027276,
     "end_time": "2020-08-21T00:28:17.875790",
     "exception": false,
     "start_time": "2020-08-21T00:28:17.848514",
     "status": "completed"
    },
    "tags": []
   },
   "source": [
    "##### We normalize the pizel values in the 0 to 1 range"
   ]
  },
  {
   "cell_type": "code",
   "execution_count": 11,
   "metadata": {
    "execution": {
     "iopub.execute_input": "2020-08-21T00:28:17.939534Z",
     "iopub.status.busy": "2020-08-21T00:28:17.938955Z",
     "iopub.status.idle": "2020-08-21T00:28:17.998118Z",
     "shell.execute_reply": "2020-08-21T00:28:17.997560Z"
    },
    "papermill": {
     "duration": 0.094204,
     "end_time": "2020-08-21T00:28:17.998248",
     "exception": false,
     "start_time": "2020-08-21T00:28:17.904044",
     "status": "completed"
    },
    "tags": []
   },
   "outputs": [],
   "source": [
    "X_train = X_train/255.\n",
    "X_test = X_test/255."
   ]
  },
  {
   "cell_type": "markdown",
   "metadata": {
    "papermill": {
     "duration": 0.028852,
     "end_time": "2020-08-21T00:28:18.055091",
     "exception": false,
     "start_time": "2020-08-21T00:28:18.026239",
     "status": "completed"
    },
    "tags": []
   },
   "source": [
    "And setup the labels as 1 (when the digit is 3) and 0 (when the digit is 8)"
   ]
  },
  {
   "cell_type": "code",
   "execution_count": 12,
   "metadata": {
    "execution": {
     "iopub.execute_input": "2020-08-21T00:28:18.113004Z",
     "iopub.status.busy": "2020-08-21T00:28:18.112362Z",
     "iopub.status.idle": "2020-08-21T00:28:18.124891Z",
     "shell.execute_reply": "2020-08-21T00:28:18.124116Z"
    },
    "papermill": {
     "duration": 0.043444,
     "end_time": "2020-08-21T00:28:18.125154",
     "exception": false,
     "start_time": "2020-08-21T00:28:18.081710",
     "status": "completed"
    },
    "tags": []
   },
   "outputs": [],
   "source": [
    "y_train = 1*(y_train==3)\n",
    "y_test = 1*(y_test==3)"
   ]
  },
  {
   "cell_type": "code",
   "execution_count": 13,
   "metadata": {
    "execution": {
     "iopub.execute_input": "2020-08-21T00:28:18.186811Z",
     "iopub.status.busy": "2020-08-21T00:28:18.186060Z",
     "iopub.status.idle": "2020-08-21T00:28:18.198166Z",
     "shell.execute_reply": "2020-08-21T00:28:18.197725Z"
    },
    "papermill": {
     "duration": 0.042347,
     "end_time": "2020-08-21T00:28:18.198276",
     "exception": false,
     "start_time": "2020-08-21T00:28:18.155929",
     "status": "completed"
    },
    "tags": []
   },
   "outputs": [
    {
     "data": {
      "text/plain": [
       "((11982, 28, 28), (1984, 28, 28))"
      ]
     },
     "execution_count": 13,
     "metadata": {},
     "output_type": "execute_result"
    }
   ],
   "source": [
    "X_train.shape, X_test.shape"
   ]
  },
  {
   "cell_type": "markdown",
   "metadata": {
    "papermill": {
     "duration": 0.030595,
     "end_time": "2020-08-21T00:28:18.260471",
     "exception": false,
     "start_time": "2020-08-21T00:28:18.229876",
     "status": "completed"
    },
    "tags": []
   },
   "source": [
    "##### We reshape the data to flatten the image pixels into a set of features or co-variates:"
   ]
  },
  {
   "cell_type": "code",
   "execution_count": 14,
   "metadata": {
    "execution": {
     "iopub.execute_input": "2020-08-21T00:28:18.324366Z",
     "iopub.status.busy": "2020-08-21T00:28:18.323818Z",
     "iopub.status.idle": "2020-08-21T00:28:18.337815Z",
     "shell.execute_reply": "2020-08-21T00:28:18.338295Z"
    },
    "papermill": {
     "duration": 0.048148,
     "end_time": "2020-08-21T00:28:18.338427",
     "exception": false,
     "start_time": "2020-08-21T00:28:18.290279",
     "status": "completed"
    },
    "tags": []
   },
   "outputs": [
    {
     "data": {
      "text/plain": [
       "((11982, 784), (1984, 784))"
      ]
     },
     "execution_count": 14,
     "metadata": {},
     "output_type": "execute_result"
    }
   ],
   "source": [
    "X_train = X_train.reshape(X_train.shape[0], -1)\n",
    "X_test = X_test.reshape(X_test.shape[0], -1)\n",
    "X_train.shape, X_test.shape"
   ]
  },
  {
   "cell_type": "markdown",
   "metadata": {
    "papermill": {
     "duration": 0.027222,
     "end_time": "2020-08-21T00:28:18.394577",
     "exception": false,
     "start_time": "2020-08-21T00:28:18.367355",
     "status": "completed"
    },
    "tags": []
   },
   "source": [
    "##### Importing Kudzu library and its functionality"
   ]
  },
  {
   "cell_type": "code",
   "execution_count": 15,
   "metadata": {
    "execution": {
     "iopub.execute_input": "2020-08-21T00:28:18.453566Z",
     "iopub.status.busy": "2020-08-21T00:28:18.452823Z",
     "iopub.status.idle": "2020-08-21T00:28:18.469913Z",
     "shell.execute_reply": "2020-08-21T00:28:18.469234Z"
    },
    "papermill": {
     "duration": 0.048176,
     "end_time": "2020-08-21T00:28:18.470020",
     "exception": false,
     "start_time": "2020-08-21T00:28:18.421844",
     "status": "completed"
    },
    "tags": []
   },
   "outputs": [],
   "source": [
    "from kudzu.data import Data, Dataloader, Sampler\n",
    "from kudzu.callbacks import AccCallback\n",
    "from kudzu.loss import MSE\n",
    "from kudzu.layer import Affine, Sigmoid\n",
    "from kudzu.model import Model\n",
    "from kudzu.optim import GD\n",
    "from kudzu.train import Learner\n",
    "from kudzu.callbacks import ClfCallback\n",
    "from kudzu.layer import Sigmoid\n",
    "from kudzu.layer import Relu"
   ]
  },
  {
   "cell_type": "markdown",
   "metadata": {
    "papermill": {
     "duration": 0.029698,
     "end_time": "2020-08-21T00:28:18.526269",
     "exception": false,
     "start_time": "2020-08-21T00:28:18.496571",
     "status": "completed"
    },
    "tags": []
   },
   "source": [
    "##### We are creating a class, just so that we can use it to store our parameters for us"
   ]
  },
  {
   "cell_type": "code",
   "execution_count": 16,
   "metadata": {
    "execution": {
     "iopub.execute_input": "2020-08-21T00:28:18.587490Z",
     "iopub.status.busy": "2020-08-21T00:28:18.586971Z",
     "iopub.status.idle": "2020-08-21T00:28:18.597342Z",
     "shell.execute_reply": "2020-08-21T00:28:18.597824Z"
    },
    "papermill": {
     "duration": 0.042339,
     "end_time": "2020-08-21T00:28:18.597943",
     "exception": false,
     "start_time": "2020-08-21T00:28:18.555604",
     "status": "completed"
    },
    "tags": []
   },
   "outputs": [],
   "source": [
    "class Config:\n",
    "    pass\n",
    "config = Config()\n",
    "config.lr = 0.001\n",
    "config.num_epochs = 250\n",
    "config.bs = 50"
   ]
  },
  {
   "cell_type": "markdown",
   "metadata": {
    "papermill": {
     "duration": 0.027817,
     "end_time": "2020-08-21T00:28:18.653000",
     "exception": false,
     "start_time": "2020-08-21T00:28:18.625183",
     "status": "completed"
    },
    "tags": []
   },
   "source": [
    "##### Initializing Data"
   ]
  },
  {
   "cell_type": "code",
   "execution_count": 17,
   "metadata": {
    "execution": {
     "iopub.execute_input": "2020-08-21T00:28:18.719794Z",
     "iopub.status.busy": "2020-08-21T00:28:18.719243Z",
     "iopub.status.idle": "2020-08-21T00:28:18.730650Z",
     "shell.execute_reply": "2020-08-21T00:28:18.731038Z"
    },
    "papermill": {
     "duration": 0.047283,
     "end_time": "2020-08-21T00:28:18.731162",
     "exception": false,
     "start_time": "2020-08-21T00:28:18.683879",
     "status": "completed"
    },
    "tags": []
   },
   "outputs": [],
   "source": [
    "data = Data(X_train, y_train.reshape(-1,1))\n",
    "loss = MSE()\n",
    "opt = GD(config.lr)\n",
    "sampler = Sampler(data, config.bs, shuffle=True)\n",
    "dl = Dataloader(data, sampler)"
   ]
  },
  {
   "cell_type": "markdown",
   "metadata": {
    "papermill": {
     "duration": 0.027945,
     "end_time": "2020-08-21T00:28:18.789511",
     "exception": false,
     "start_time": "2020-08-21T00:28:18.761566",
     "status": "completed"
    },
    "tags": []
   },
   "source": [
    "##### Constructing 2 different layers, one for NN and one only for logistic regression."
   ]
  },
  {
   "cell_type": "markdown",
   "metadata": {
    "papermill": {
     "duration": 0.028343,
     "end_time": "2020-08-21T00:28:18.846831",
     "exception": false,
     "start_time": "2020-08-21T00:28:18.818488",
     "status": "completed"
    },
    "tags": []
   },
   "source": [
    "##### Creating containers for data to be passed, to calculate accuracies"
   ]
  },
  {
   "cell_type": "code",
   "execution_count": 18,
   "metadata": {
    "execution": {
     "iopub.execute_input": "2020-08-21T00:28:18.907811Z",
     "iopub.status.busy": "2020-08-21T00:28:18.907299Z",
     "iopub.status.idle": "2020-08-21T00:28:18.918828Z",
     "shell.execute_reply": "2020-08-21T00:28:18.918391Z"
    },
    "papermill": {
     "duration": 0.042842,
     "end_time": "2020-08-21T00:28:18.918933",
     "exception": false,
     "start_time": "2020-08-21T00:28:18.876091",
     "status": "completed"
    },
    "tags": []
   },
   "outputs": [],
   "source": [
    "training_xdata = X_train\n",
    "testing_xdata = X_test\n",
    "training_ydata = y_train.reshape(-1,1)\n",
    "testing_ydata = y_test.reshape(-1,1)"
   ]
  },
  {
   "cell_type": "markdown",
   "metadata": {
    "papermill": {
     "duration": 0.031415,
     "end_time": "2020-08-21T00:28:18.981917",
     "exception": false,
     "start_time": "2020-08-21T00:28:18.950502",
     "status": "completed"
    },
    "tags": []
   },
   "source": [
    "##### Initializing models and Running training loop: "
   ]
  },
  {
   "cell_type": "code",
   "execution_count": 19,
   "metadata": {
    "execution": {
     "iopub.execute_input": "2020-08-21T00:28:19.049494Z",
     "iopub.status.busy": "2020-08-21T00:28:19.048817Z",
     "iopub.status.idle": "2020-08-21T00:28:19.065438Z",
     "shell.execute_reply": "2020-08-21T00:28:19.064946Z"
    },
    "papermill": {
     "duration": 0.054959,
     "end_time": "2020-08-21T00:28:19.065565",
     "exception": false,
     "start_time": "2020-08-21T00:28:19.010606",
     "status": "completed"
    },
    "tags": []
   },
   "outputs": [],
   "source": [
    "layers = [Affine(\"first\", 784, 100), Relu(\"first\"), Affine(\"second\", 100, 100), Relu(\"second\"), Affine(\"third\", 100, 2), Affine(\"final\", 2, 1), Sigmoid(\"final\")]\n",
    "\n",
    "model_neural = Model(layers)\n",
    "model_logistic = Model([Affine(\"logits\", 784, 1), Sigmoid(\"sigmoid\")])"
   ]
  },
  {
   "cell_type": "code",
   "execution_count": 20,
   "metadata": {
    "execution": {
     "iopub.execute_input": "2020-08-21T00:28:19.129874Z",
     "iopub.status.busy": "2020-08-21T00:28:19.129366Z",
     "iopub.status.idle": "2020-08-21T00:28:19.140901Z",
     "shell.execute_reply": "2020-08-21T00:28:19.141481Z"
    },
    "papermill": {
     "duration": 0.044952,
     "end_time": "2020-08-21T00:28:19.141651",
     "exception": false,
     "start_time": "2020-08-21T00:28:19.096699",
     "status": "completed"
    },
    "tags": []
   },
   "outputs": [],
   "source": [
    "learner1 = Learner(loss, model_neural, opt, config.num_epochs)\n",
    "acc1 = ClfCallback(learner1, config.bs, training_xdata , testing_xdata, training_ydata, testing_ydata)\n",
    "learner1.set_callbacks([acc1])"
   ]
  },
  {
   "cell_type": "code",
   "execution_count": 21,
   "metadata": {
    "execution": {
     "iopub.execute_input": "2020-08-21T00:28:19.206415Z",
     "iopub.status.busy": "2020-08-21T00:28:19.205484Z",
     "iopub.status.idle": "2020-08-21T00:30:30.308277Z",
     "shell.execute_reply": "2020-08-21T00:30:30.309018Z"
    },
    "papermill": {
     "duration": 131.138862,
     "end_time": "2020-08-21T00:30:30.309169",
     "exception": false,
     "start_time": "2020-08-21T00:28:19.170307",
     "status": "completed"
    },
    "tags": []
   },
   "outputs": [
    {
     "name": "stdout",
     "output_type": "stream",
     "text": [
      "Epoch 0 Loss 0.2497930324569202\n",
      "train accuracy is: 0.6387080620931397, test accuracy is 0.6461693548387096\n"
     ]
    },
    {
     "name": "stdout",
     "output_type": "stream",
     "text": [
      "Epoch 10 Loss 0.08644130676211617\n",
      "train accuracy is: 0.9143715573360041, test accuracy is 0.922883064516129\n"
     ]
    },
    {
     "name": "stdout",
     "output_type": "stream",
     "text": [
      "Epoch 20 Loss 0.05454168748897877\n",
      "train accuracy is: 0.9419963278250709, test accuracy is 0.9506048387096774\n"
     ]
    },
    {
     "name": "stdout",
     "output_type": "stream",
     "text": [
      "Epoch 30 Loss 0.042844372794559146\n",
      "train accuracy is: 0.9535970622600568, test accuracy is 0.9581653225806451\n"
     ]
    },
    {
     "name": "stdout",
     "output_type": "stream",
     "text": [
      "Epoch 40 Loss 0.03694037397220632\n",
      "train accuracy is: 0.9598564513436821, test accuracy is 0.9627016129032258\n"
     ]
    },
    {
     "name": "stdout",
     "output_type": "stream",
     "text": [
      "Epoch 50 Loss 0.03336470705252355\n",
      "train accuracy is: 0.9634451677516275, test accuracy is 0.9652217741935484\n"
     ]
    },
    {
     "name": "stdout",
     "output_type": "stream",
     "text": [
      "Epoch 60 Loss 0.030909751732544344\n",
      "train accuracy is: 0.9658654648639626, test accuracy is 0.9667338709677419\n"
     ]
    },
    {
     "name": "stdout",
     "output_type": "stream",
     "text": [
      "Epoch 70 Loss 0.02909580463446169\n",
      "train accuracy is: 0.9672842597229178, test accuracy is 0.9657258064516129\n"
     ]
    },
    {
     "name": "stdout",
     "output_type": "stream",
     "text": [
      "Epoch 80 Loss 0.02766754825565605\n",
      "train accuracy is: 0.9691203471874479, test accuracy is 0.9667338709677419\n"
     ]
    },
    {
     "name": "stdout",
     "output_type": "stream",
     "text": [
      "Epoch 90 Loss 0.026500572600114486\n",
      "train accuracy is: 0.970372225004173, test accuracy is 0.9672379032258065\n"
     ]
    },
    {
     "name": "stdout",
     "output_type": "stream",
     "text": [
      "Epoch 100 Loss 0.025517075276919803\n",
      "train accuracy is: 0.971039893173093, test accuracy is 0.967741935483871\n"
     ]
    },
    {
     "name": "stdout",
     "output_type": "stream",
     "text": [
      "Epoch 110 Loss 0.024665239002073715\n",
      "train accuracy is: 0.9722083124687031, test accuracy is 0.967741935483871\n"
     ]
    },
    {
     "name": "stdout",
     "output_type": "stream",
     "text": [
      "Epoch 120 Loss 0.023907149107905843\n",
      "train accuracy is: 0.9731263562009681, test accuracy is 0.9682459677419355\n"
     ]
    },
    {
     "name": "stdout",
     "output_type": "stream",
     "text": [
      "Epoch 130 Loss 0.023222232004737955\n",
      "train accuracy is: 0.9740443999332332, test accuracy is 0.9682459677419355\n"
     ]
    },
    {
     "name": "stdout",
     "output_type": "stream",
     "text": [
      "Epoch 140 Loss 0.022598018811558575\n",
      "train accuracy is: 0.9745451510599232, test accuracy is 0.9692540322580645\n"
     ]
    },
    {
     "name": "stdout",
     "output_type": "stream",
     "text": [
      "Epoch 150 Loss 0.02203167305119289\n",
      "train accuracy is: 0.9754631947921882, test accuracy is 0.9702620967741935\n"
     ]
    },
    {
     "name": "stdout",
     "output_type": "stream",
     "text": [
      "Epoch 160 Loss 0.021500518942745905\n",
      "train accuracy is: 0.9761308629611083, test accuracy is 0.9707661290322581\n"
     ]
    },
    {
     "name": "stdout",
     "output_type": "stream",
     "text": [
      "Epoch 170 Loss 0.0210040434132139\n",
      "train accuracy is: 0.9766316140877984, test accuracy is 0.9712701612903226\n"
     ]
    },
    {
     "name": "stdout",
     "output_type": "stream",
     "text": [
      "Epoch 180 Loss 0.020537706416045912\n",
      "train accuracy is: 0.9769654481722584, test accuracy is 0.9722782258064516\n"
     ]
    },
    {
     "name": "stdout",
     "output_type": "stream",
     "text": [
      "Epoch 190 Loss 0.02009168212769911\n",
      "train accuracy is: 0.9778000333834085, test accuracy is 0.9722782258064516\n"
     ]
    },
    {
     "name": "stdout",
     "output_type": "stream",
     "text": [
      "Epoch 200 Loss 0.019670377995870462\n",
      "train accuracy is: 0.9782173259889835, test accuracy is 0.9727822580645161\n"
     ]
    },
    {
     "name": "stdout",
     "output_type": "stream",
     "text": [
      "Epoch 210 Loss 0.01926221526472935\n",
      "train accuracy is: 0.9793022867634785, test accuracy is 0.9727822580645161\n"
     ]
    },
    {
     "name": "stdout",
     "output_type": "stream",
     "text": [
      "Epoch 220 Loss 0.018870018849864945\n",
      "train accuracy is: 0.9795526623268236, test accuracy is 0.9727822580645161\n"
     ]
    },
    {
     "name": "stdout",
     "output_type": "stream",
     "text": [
      "Epoch 230 Loss 0.018490781962268096\n",
      "train accuracy is: 0.9798030378901685, test accuracy is 0.9732862903225806\n"
     ]
    },
    {
     "name": "stdout",
     "output_type": "stream",
     "text": [
      "Epoch 240 Loss 0.01811776638197744\n",
      "train accuracy is: 0.9802203304957436, test accuracy is 0.9732862903225806\n"
     ]
    },
    {
     "data": {
      "text/plain": [
       "0.011271946071924322"
      ]
     },
     "execution_count": 21,
     "metadata": {},
     "output_type": "execute_result"
    }
   ],
   "source": [
    "learner1.train_loop(dl)"
   ]
  },
  {
   "cell_type": "markdown",
   "metadata": {
    "papermill": {
     "duration": 0.035962,
     "end_time": "2020-08-21T00:30:30.385512",
     "exception": false,
     "start_time": "2020-08-21T00:30:30.349550",
     "status": "completed"
    },
    "tags": []
   },
   "source": [
    "##### Now running only the logistic regression based classification to compare results with NN"
   ]
  },
  {
   "cell_type": "code",
   "execution_count": 22,
   "metadata": {
    "execution": {
     "iopub.execute_input": "2020-08-21T00:30:30.457462Z",
     "iopub.status.busy": "2020-08-21T00:30:30.456948Z",
     "iopub.status.idle": "2020-08-21T00:30:30.465978Z",
     "shell.execute_reply": "2020-08-21T00:30:30.466371Z"
    },
    "papermill": {
     "duration": 0.047765,
     "end_time": "2020-08-21T00:30:30.466494",
     "exception": false,
     "start_time": "2020-08-21T00:30:30.418729",
     "status": "completed"
    },
    "tags": []
   },
   "outputs": [],
   "source": [
    "learner2 = Learner(loss, model_logistic, opt, config.num_epochs)\n",
    "acc2 = ClfCallback(learner2, config.bs, training_xdata , testing_xdata, training_ydata, testing_ydata)\n",
    "learner2.set_callbacks([acc2])"
   ]
  },
  {
   "cell_type": "code",
   "execution_count": 23,
   "metadata": {
    "execution": {
     "iopub.execute_input": "2020-08-21T00:30:30.544202Z",
     "iopub.status.busy": "2020-08-21T00:30:30.543648Z",
     "iopub.status.idle": "2020-08-21T00:30:49.288647Z",
     "shell.execute_reply": "2020-08-21T00:30:49.289329Z"
    },
    "papermill": {
     "duration": 18.782922,
     "end_time": "2020-08-21T00:30:49.289474",
     "exception": false,
     "start_time": "2020-08-21T00:30:30.506552",
     "status": "completed"
    },
    "tags": []
   },
   "outputs": [
    {
     "name": "stdout",
     "output_type": "stream",
     "text": [
      "Epoch 0 Loss 0.2427918230853947\n",
      "train accuracy is: 0.699465865464864, test accuracy is 0.7162298387096774\n"
     ]
    },
    {
     "name": "stdout",
     "output_type": "stream",
     "text": [
      "Epoch 10 Loss 0.10400064776629006\n",
      "train accuracy is: 0.9104490068435988, test accuracy is 0.920866935483871\n"
     ]
    },
    {
     "name": "stdout",
     "output_type": "stream",
     "text": [
      "Epoch 20 Loss 0.08005004225007956\n",
      "train accuracy is: 0.9253046236020698, test accuracy is 0.9430443548387096\n"
     ]
    },
    {
     "name": "stdout",
     "output_type": "stream",
     "text": [
      "Epoch 30 Loss 0.06897103629937053\n",
      "train accuracy is: 0.9355700216992154, test accuracy is 0.9526209677419355\n"
     ]
    },
    {
     "name": "stdout",
     "output_type": "stream",
     "text": [
      "Epoch 40 Loss 0.062297740052952376\n",
      "train accuracy is: 0.9409948255716909, test accuracy is 0.9571572580645161\n"
     ]
    },
    {
     "name": "stdout",
     "output_type": "stream",
     "text": [
      "Epoch 50 Loss 0.05773988290559881\n",
      "train accuracy is: 0.9439158738107161, test accuracy is 0.9581653225806451\n"
     ]
    },
    {
     "name": "stdout",
     "output_type": "stream",
     "text": [
      "Epoch 60 Loss 0.054387584136332934\n",
      "train accuracy is: 0.9460023368385913, test accuracy is 0.9586693548387096\n"
     ]
    },
    {
     "name": "stdout",
     "output_type": "stream",
     "text": [
      "Epoch 70 Loss 0.05179320863546319\n",
      "train accuracy is: 0.9483391754298114, test accuracy is 0.9596774193548387\n"
     ]
    },
    {
     "name": "stdout",
     "output_type": "stream",
     "text": [
      "Epoch 80 Loss 0.04971314414115722\n",
      "train accuracy is: 0.9497579702887665, test accuracy is 0.9606854838709677\n"
     ]
    },
    {
     "name": "stdout",
     "output_type": "stream",
     "text": [
      "Epoch 90 Loss 0.04799624131569953\n",
      "train accuracy is: 0.9514271407110666, test accuracy is 0.9621975806451613\n"
     ]
    },
    {
     "name": "stdout",
     "output_type": "stream",
     "text": [
      "Epoch 100 Loss 0.046549900652893605\n",
      "train accuracy is: 0.9525121014855616, test accuracy is 0.9621975806451613\n"
     ]
    },
    {
     "name": "stdout",
     "output_type": "stream",
     "text": [
      "Epoch 110 Loss 0.045307137404001135\n",
      "train accuracy is: 0.9530963111333667, test accuracy is 0.9632056451612904\n"
     ]
    },
    {
     "name": "stdout",
     "output_type": "stream",
     "text": [
      "Epoch 120 Loss 0.0442280383445084\n",
      "train accuracy is: 0.9540978133867468, test accuracy is 0.9657258064516129\n"
     ]
    },
    {
     "name": "stdout",
     "output_type": "stream",
     "text": [
      "Epoch 130 Loss 0.04327625102138558\n",
      "train accuracy is: 0.9547654815556669, test accuracy is 0.9657258064516129\n"
     ]
    },
    {
     "name": "stdout",
     "output_type": "stream",
     "text": [
      "Epoch 140 Loss 0.042429817890588556\n",
      "train accuracy is: 0.9555166082457018, test accuracy is 0.9667338709677419\n"
     ]
    },
    {
     "name": "stdout",
     "output_type": "stream",
     "text": [
      "Epoch 150 Loss 0.0416702843705421\n",
      "train accuracy is: 0.956601569020197, test accuracy is 0.9667338709677419\n"
     ]
    },
    {
     "name": "stdout",
     "output_type": "stream",
     "text": [
      "Epoch 160 Loss 0.04098268238007829\n",
      "train accuracy is: 0.957519612752462, test accuracy is 0.9667338709677419\n"
     ]
    },
    {
     "name": "stdout",
     "output_type": "stream",
     "text": [
      "Epoch 170 Loss 0.040357416783817636\n",
      "train accuracy is: 0.9583541979636121, test accuracy is 0.9667338709677419\n"
     ]
    },
    {
     "name": "stdout",
     "output_type": "stream",
     "text": [
      "Epoch 180 Loss 0.03978549159528422\n",
      "train accuracy is: 0.9588549490903021, test accuracy is 0.9667338709677419\n"
     ]
    },
    {
     "name": "stdout",
     "output_type": "stream",
     "text": [
      "Epoch 190 Loss 0.03925882418582644\n",
      "train accuracy is: 0.9591053246536472, test accuracy is 0.9667338709677419\n"
     ]
    },
    {
     "name": "stdout",
     "output_type": "stream",
     "text": [
      "Epoch 200 Loss 0.03877215630788597\n",
      "train accuracy is: 0.9595226172592222, test accuracy is 0.9667338709677419\n"
     ]
    },
    {
     "name": "stdout",
     "output_type": "stream",
     "text": [
      "Epoch 210 Loss 0.038320129156411545\n",
      "train accuracy is: 0.9600233683859122, test accuracy is 0.9672379032258065\n"
     ]
    },
    {
     "name": "stdout",
     "output_type": "stream",
     "text": [
      "Epoch 220 Loss 0.03789959021645944\n",
      "train accuracy is: 0.9601068269070272, test accuracy is 0.9672379032258065\n"
     ]
    },
    {
     "name": "stdout",
     "output_type": "stream",
     "text": [
      "Epoch 230 Loss 0.037505757393158465\n",
      "train accuracy is: 0.9604406609914873, test accuracy is 0.9672379032258065\n"
     ]
    },
    {
     "name": "stdout",
     "output_type": "stream",
     "text": [
      "Epoch 240 Loss 0.03713651904148615\n",
      "train accuracy is: 0.9604406609914873, test accuracy is 0.967741935483871\n"
     ]
    },
    {
     "data": {
      "text/plain": [
       "0.05315607512026416"
      ]
     },
     "execution_count": 23,
     "metadata": {},
     "output_type": "execute_result"
    }
   ],
   "source": [
    "learner2.train_loop(dl)"
   ]
  },
  {
   "cell_type": "markdown",
   "metadata": {
    "papermill": {
     "duration": 0.041564,
     "end_time": "2020-08-21T00:30:49.373129",
     "exception": false,
     "start_time": "2020-08-21T00:30:49.331565",
     "status": "completed"
    },
    "tags": []
   },
   "source": [
    "### Comparing results of NN and LR"
   ]
  },
  {
   "cell_type": "code",
   "execution_count": 24,
   "metadata": {
    "execution": {
     "iopub.execute_input": "2020-08-21T00:30:49.466781Z",
     "iopub.status.busy": "2020-08-21T00:30:49.466064Z",
     "iopub.status.idle": "2020-08-21T00:30:49.719674Z",
     "shell.execute_reply": "2020-08-21T00:30:49.720313Z"
    },
    "papermill": {
     "duration": 0.306764,
     "end_time": "2020-08-21T00:30:49.720503",
     "exception": false,
     "start_time": "2020-08-21T00:30:49.413739",
     "status": "completed"
    },
    "tags": []
   },
   "outputs": [
    {
     "data": {
      "text/plain": [
       "<matplotlib.legend.Legend at 0x7f82283e0828>"
      ]
     },
     "execution_count": 24,
     "metadata": {},
     "output_type": "execute_result"
    },
    {
     "data": {
      "image/png": "[encoded data removed]",
      "text/plain": [
       "<Figure size 576x360 with 1 Axes>"
      ]
     },
     "metadata": {
      "needs_background": "light"
     },
     "output_type": "display_data"
    }
   ],
   "source": [
    "plt.figure(figsize=(8,5))\n",
    "plt.plot(acc1.val_accuracies, 'g-', label = \"Val Accuracies - NN\")\n",
    "plt.plot(acc1.accuracies, 'r-', label = \"Accuracies - NN\")\n",
    "plt.plot(acc2.val_accuracies, 'b-', label = \"Val Accuracies - Logistic Reg\")\n",
    "plt.plot(acc2.accuracies, 'k-', label = \"Accuracies - Logistic Reg\")\n",
    "plt.ylim(0.8,1) ## for a more spread out view\n",
    "plt.legend()"
   ]
  },
  {
   "cell_type": "markdown",
   "metadata": {
    "papermill": {
     "duration": 0.044459,
     "end_time": "2020-08-21T00:30:49.813102",
     "exception": false,
     "start_time": "2020-08-21T00:30:49.768643",
     "status": "completed"
    },
    "tags": []
   },
   "source": [
    "### Clearly NN has a better accuracy over LR; NN is overfitting - Validation accuracy (green) has dropped below training accuracy (orange), also they are diverging. This problem is not seen in LR"
   ]
  },
  {
   "cell_type": "markdown",
   "metadata": {
    "papermill": {
     "duration": 0.045123,
     "end_time": "2020-08-21T00:30:49.902659",
     "exception": false,
     "start_time": "2020-08-21T00:30:49.857536",
     "status": "completed"
    },
    "tags": []
   },
   "source": [
    "##### Now we will be moving through the network, till the output of the second last affine where we get a 2 dimensional output. We will be plotting this 2d output and probability contours"
   ]
  },
  {
   "cell_type": "code",
   "execution_count": 25,
   "metadata": {
    "execution": {
     "iopub.execute_input": "2020-08-21T00:30:49.998272Z",
     "iopub.status.busy": "2020-08-21T00:30:49.997672Z",
     "iopub.status.idle": "2020-08-21T00:30:50.008063Z",
     "shell.execute_reply": "2020-08-21T00:30:50.007404Z"
    },
    "papermill": {
     "duration": 0.059688,
     "end_time": "2020-08-21T00:30:50.008213",
     "exception": false,
     "start_time": "2020-08-21T00:30:49.948525",
     "status": "completed"
    },
    "tags": []
   },
   "outputs": [],
   "source": [
    "model_new = Model(layers[:-2])"
   ]
  },
  {
   "cell_type": "code",
   "execution_count": 26,
   "metadata": {
    "execution": {
     "iopub.execute_input": "2020-08-21T00:30:50.109449Z",
     "iopub.status.busy": "2020-08-21T00:30:50.108778Z",
     "iopub.status.idle": "2020-08-21T00:30:50.134793Z",
     "shell.execute_reply": "2020-08-21T00:30:50.135634Z"
    },
    "papermill": {
     "duration": 0.082028,
     "end_time": "2020-08-21T00:30:50.135824",
     "exception": false,
     "start_time": "2020-08-21T00:30:50.053796",
     "status": "completed"
    },
    "tags": []
   },
   "outputs": [],
   "source": [
    "plot_testing = model_new(testing_xdata)"
   ]
  },
  {
   "cell_type": "markdown",
   "metadata": {
    "papermill": {
     "duration": 0.046824,
     "end_time": "2020-08-21T00:30:50.235509",
     "exception": false,
     "start_time": "2020-08-21T00:30:50.188685",
     "status": "completed"
    },
    "tags": []
   },
   "source": [
    "##### Plotting the scatter plot of points and color coding by class"
   ]
  },
  {
   "cell_type": "code",
   "execution_count": 27,
   "metadata": {
    "execution": {
     "iopub.execute_input": "2020-08-21T00:30:50.357629Z",
     "iopub.status.busy": "2020-08-21T00:30:50.357067Z",
     "iopub.status.idle": "2020-08-21T00:30:50.555541Z",
     "shell.execute_reply": "2020-08-21T00:30:50.555966Z"
    },
    "papermill": {
     "duration": 0.249997,
     "end_time": "2020-08-21T00:30:50.556107",
     "exception": false,
     "start_time": "2020-08-21T00:30:50.306110",
     "status": "completed"
    },
    "tags": []
   },
   "outputs": [
    {
     "data": {
      "image/png": "[encoded data removed]",
      "text/plain": [
       "<Figure size 576x504 with 1 Axes>"
      ]
     },
     "metadata": {
      "needs_background": "light"
     },
     "output_type": "display_data"
    }
   ],
   "source": [
    "plt.figure(figsize=(8,7))\n",
    "plt.scatter(plot_testing[:,0], plot_testing[:,1], alpha = 0.1, c = y_test.ravel());"
   ]
  },
  {
   "cell_type": "markdown",
   "metadata": {
    "papermill": {
     "duration": 0.044291,
     "end_time": "2020-08-21T00:30:50.645721",
     "exception": false,
     "start_time": "2020-08-21T00:30:50.601430",
     "status": "completed"
    },
    "tags": []
   },
   "source": [
    "##### Plotting probability contours"
   ]
  },
  {
   "cell_type": "code",
   "execution_count": 28,
   "metadata": {
    "execution": {
     "iopub.execute_input": "2020-08-21T00:30:50.749603Z",
     "iopub.status.busy": "2020-08-21T00:30:50.748871Z",
     "iopub.status.idle": "2020-08-21T00:30:50.760590Z",
     "shell.execute_reply": "2020-08-21T00:30:50.760080Z"
    },
    "papermill": {
     "duration": 0.065439,
     "end_time": "2020-08-21T00:30:50.760705",
     "exception": false,
     "start_time": "2020-08-21T00:30:50.695266",
     "status": "completed"
    },
    "tags": []
   },
   "outputs": [],
   "source": [
    "model_prob = Model(layers[-2:]) ## picking only last two layers to get probability. That is affine followed by sigmoid"
   ]
  },
  {
   "cell_type": "code",
   "execution_count": 29,
   "metadata": {
    "execution": {
     "iopub.execute_input": "2020-08-21T00:30:50.863998Z",
     "iopub.status.busy": "2020-08-21T00:30:50.863303Z",
     "iopub.status.idle": "2020-08-21T00:30:50.876748Z",
     "shell.execute_reply": "2020-08-21T00:30:50.877330Z"
    },
    "papermill": {
     "duration": 0.072091,
     "end_time": "2020-08-21T00:30:50.877550",
     "exception": false,
     "start_time": "2020-08-21T00:30:50.805459",
     "status": "completed"
    },
    "tags": []
   },
   "outputs": [],
   "source": [
    "xgrid = np.linspace(-4, 1, 100) ## Adjust these values based on above chart, roughly -4 to 1\n",
    "ygrid = np.linspace(-7.5, 7.5, 100) ## Adjust these values based on above chart, roughly -7.5, 7.5\n",
    "xg, yg = np.meshgrid(xgrid, ygrid)\n",
    "# xg and yg are now both 100X100, lets convert them to single arrays \n",
    "\n",
    "xg_interim = np.ravel(xg)\n",
    "yg_interim = np.ravel(yg)\n",
    "\n",
    "## xg_interim, yg_interim are now arrays of len 10000, now we will stack them and then transpose to get desired shape of n rows, 2 columns\n",
    "\n",
    "X_interim = np.vstack((xg_interim, yg_interim)) ## Please note vstack takes in a tuple\n",
    "X = X_interim.T\n",
    "\n",
    "## We want a shape of n rows and 2 columns to be able to feed this to last affine\n",
    "## This last affine takes only two columns, hence the above transformation\n",
    "probability_contour = model_prob(X).reshape(100,100) ## to make it consistent with xg, yg"
   ]
  },
  {
   "cell_type": "code",
   "execution_count": 30,
   "metadata": {
    "execution": {
     "iopub.execute_input": "2020-08-21T00:30:50.985903Z",
     "iopub.status.busy": "2020-08-21T00:30:50.985352Z",
     "iopub.status.idle": "2020-08-21T00:30:51.247295Z",
     "shell.execute_reply": "2020-08-21T00:30:51.246662Z"
    },
    "papermill": {
     "duration": 0.321692,
     "end_time": "2020-08-21T00:30:51.247427",
     "exception": false,
     "start_time": "2020-08-21T00:30:50.925735",
     "status": "completed"
    },
    "tags": []
   },
   "outputs": [
    {
     "data": {
      "image/png": "[encoded data removed]",
      "text/plain": [
       "<Figure size 576x504 with 1 Axes>"
      ]
     },
     "metadata": {
      "needs_background": "light"
     },
     "output_type": "display_data"
    }
   ],
   "source": [
    "plt.figure(figsize=(8,7))\n",
    "plt.scatter(plot_testing[:,0], plot_testing[:,1], alpha = 0.1, c = y_test.ravel())\n",
    "contours = plt.contour(xg,yg,probability_contour)\n",
    "plt.clabel(contours, inline = True );"
   ]
  }
 ],
 "metadata": {
  "kernelspec": {
   "display_name": "Python 3",
   "language": "python",
   "name": "python3"
  },
  "language_info": {
   "codemirror_mode": {
    "name": "ipython",
    "version": 3
   },
   "file_extension": ".py",
   "mimetype": "text/x-python",
   "name": "python",
   "nbconvert_exporter": "python",
   "pygments_lexer": "ipython3",
   "version": "3.6.11"
  },
  "papermill": {
   "duration": 159.646834,
   "end_time": "2020-08-21T00:30:51.603266",
   "environment_variables": {},
   "exception": null,
   "input_path": "2020-08-07-NN-new.ipynb",
   "output_path": "2020-08-07-NN-new.ipynb",
   "parameters": {},
   "start_time": "2020-08-21T00:28:11.956432",
   "version": "2.1.2"
  }
 },
 "nbformat": 4,
 "nbformat_minor": 4
}