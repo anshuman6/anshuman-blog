{
 "cells": [
  {
   "cell_type": "markdown",
   "metadata": {
    "papermill": {
     "duration": 0.03746,
     "end_time": "2020-08-10T20:11:52.757572",
     "exception": false,
     "start_time": "2020-08-10T20:11:52.720112",
     "status": "completed"
    },
    "tags": []
   },
   "source": [
    "# \"Building a basic Neural Network from scratch - Kudzu\"\n",
    "\n",
    "- badges: true\n",
    "- author: Anshuman Gupta"
   ]
  },
  {
   "cell_type": "markdown",
   "metadata": {
    "papermill": {
     "duration": 0.031785,
     "end_time": "2020-08-10T20:11:52.822883",
     "exception": false,
     "start_time": "2020-08-10T20:11:52.791098",
     "status": "completed"
    },
    "tags": []
   },
   "source": [
    "#### In this project, the idea is to write a classifier to differentiate between handwritten digits 3 and 8, from the MNIST database.\n",
    "\n",
    "#### I will using a custom built neural network library called Kudzu.This has been developed as a part of KTF/Foundations course of Univ.ai (www.univ.ai). The source code for Kudzu Library and and this notebook can be found on my git-hub profile : www.https://github.com/anshuman6 under the folder project-solution. Any feedback and comments are welcome. Please feel free to email me at: anshuman6@gmail.com\n",
    "\n",
    "#### 1. I will be using the MNIST database. \n",
    "\n",
    "#### 2. I will be comparing the results of the 4 layer NN to a standard logistic regression"
   ]
  },
  {
   "cell_type": "markdown",
   "metadata": {
    "papermill": {
     "duration": 0.031658,
     "end_time": "2020-08-10T20:11:52.886648",
     "exception": false,
     "start_time": "2020-08-10T20:11:52.854990",
     "status": "completed"
    },
    "tags": []
   },
   "source": [
    "##### Importing all the necessary libraries"
   ]
  },
  {
   "cell_type": "code",
   "execution_count": 1,
   "metadata": {
    "execution": {
     "iopub.execute_input": "2020-08-10T20:11:52.958195Z",
     "iopub.status.busy": "2020-08-10T20:11:52.956280Z",
     "iopub.status.idle": "2020-08-10T20:11:52.968455Z",
     "shell.execute_reply": "2020-08-10T20:11:52.967785Z"
    },
    "papermill": {
     "duration": 0.049504,
     "end_time": "2020-08-10T20:11:52.968663",
     "exception": false,
     "start_time": "2020-08-10T20:11:52.919159",
     "status": "completed"
    },
    "tags": []
   },
   "outputs": [],
   "source": [
    "%load_ext autoreload\n",
    "%autoreload 2"
   ]
  },
  {
   "cell_type": "code",
   "execution_count": 2,
   "metadata": {
    "execution": {
     "iopub.execute_input": "2020-08-10T20:11:53.054211Z",
     "iopub.status.busy": "2020-08-10T20:11:53.041281Z",
     "iopub.status.idle": "2020-08-10T20:11:53.637860Z",
     "shell.execute_reply": "2020-08-10T20:11:53.637276Z"
    },
    "papermill": {
     "duration": 0.637619,
     "end_time": "2020-08-10T20:11:53.638024",
     "exception": false,
     "start_time": "2020-08-10T20:11:53.000405",
     "status": "completed"
    },
    "tags": []
   },
   "outputs": [],
   "source": [
    "%matplotlib inline\n",
    "import numpy as np\n",
    "import matplotlib.pyplot as plt\n",
    "import pandas as pd"
   ]
  },
  {
   "cell_type": "markdown",
   "metadata": {
    "papermill": {
     "duration": 0.032643,
     "end_time": "2020-08-10T20:11:53.702955",
     "exception": false,
     "start_time": "2020-08-10T20:11:53.670312",
     "status": "completed"
    },
    "tags": []
   },
   "source": [
    "##### The following command helps us download MNIST from notebook itself. You can skip this if you already have MNIST. You can also download it via your terminal."
   ]
  },
  {
   "cell_type": "code",
   "execution_count": 3,
   "metadata": {
    "execution": {
     "iopub.execute_input": "2020-08-10T20:11:53.771733Z",
     "iopub.status.busy": "2020-08-10T20:11:53.771055Z",
     "iopub.status.idle": "2020-08-10T20:11:55.490682Z",
     "shell.execute_reply": "2020-08-10T20:11:55.489407Z"
    },
    "papermill": {
     "duration": 1.755238,
     "end_time": "2020-08-10T20:11:55.490847",
     "exception": false,
     "start_time": "2020-08-10T20:11:53.735609",
     "status": "completed"
    },
    "tags": []
   },
   "outputs": [
    {
     "name": "stdout",
     "output_type": "stream",
     "text": [
      "Collecting mnist\r\n"
     ]
    },
    {
     "name": "stdout",
     "output_type": "stream",
     "text": [
      "  Downloading mnist-0.2.2-py2.py3-none-any.whl (3.5 kB)\r\n",
      "Requirement already satisfied: numpy in /opt/hostedtoolcache/Python/3.6.11/x64/lib/python3.6/site-packages (from mnist) (1.19.1)\r\n"
     ]
    },
    {
     "name": "stdout",
     "output_type": "stream",
     "text": [
      "Installing collected packages: mnist\r\n"
     ]
    },
    {
     "name": "stdout",
     "output_type": "stream",
     "text": [
      "Successfully installed mnist-0.2.2\r\n"
     ]
    },
    {
     "name": "stdout",
     "output_type": "stream",
     "text": [
      "\u001b[33mWARNING: You are using pip version 20.2; however, version 20.2.1 is available.\r\n",
      "You should consider upgrading via the '/opt/hostedtoolcache/Python/3.6.11/x64/bin/python -m pip install --upgrade pip' command.\u001b[0m\r\n"
     ]
    }
   ],
   "source": [
    "!pip install mnist # Please note, it is commented out for now, you can remove comment if you want to install it"
   ]
  },
  {
   "cell_type": "markdown",
   "metadata": {
    "papermill": {
     "duration": 0.03295,
     "end_time": "2020-08-10T20:11:55.558137",
     "exception": false,
     "start_time": "2020-08-10T20:11:55.525187",
     "status": "completed"
    },
    "tags": []
   },
   "source": [
    "#### Preparing the Data"
   ]
  },
  {
   "cell_type": "code",
   "execution_count": 4,
   "metadata": {
    "execution": {
     "iopub.execute_input": "2020-08-10T20:11:55.642056Z",
     "iopub.status.busy": "2020-08-10T20:11:55.632072Z",
     "iopub.status.idle": "2020-08-10T20:11:55.647925Z",
     "shell.execute_reply": "2020-08-10T20:11:55.648566Z"
    },
    "papermill": {
     "duration": 0.057034,
     "end_time": "2020-08-10T20:11:55.648711",
     "exception": false,
     "start_time": "2020-08-10T20:11:55.591677",
     "status": "completed"
    },
    "tags": []
   },
   "outputs": [],
   "source": [
    "import mnist"
   ]
  },
  {
   "cell_type": "code",
   "execution_count": 5,
   "metadata": {
    "execution": {
     "iopub.execute_input": "2020-08-10T20:11:55.728284Z",
     "iopub.status.busy": "2020-08-10T20:11:55.718324Z",
     "iopub.status.idle": "2020-08-10T20:11:57.415410Z",
     "shell.execute_reply": "2020-08-10T20:11:57.416014Z"
    },
    "papermill": {
     "duration": 1.733814,
     "end_time": "2020-08-10T20:11:57.416245",
     "exception": false,
     "start_time": "2020-08-10T20:11:55.682431",
     "status": "completed"
    },
    "tags": []
   },
   "outputs": [],
   "source": [
    "train_images = mnist.train_images()\n",
    "train_labels = mnist.train_labels()"
   ]
  },
  {
   "cell_type": "code",
   "execution_count": 6,
   "metadata": {
    "execution": {
     "iopub.execute_input": "2020-08-10T20:11:57.490144Z",
     "iopub.status.busy": "2020-08-10T20:11:57.489474Z",
     "iopub.status.idle": "2020-08-10T20:11:57.504726Z",
     "shell.execute_reply": "2020-08-10T20:11:57.504051Z"
    },
    "papermill": {
     "duration": 0.054488,
     "end_time": "2020-08-10T20:11:57.504862",
     "exception": false,
     "start_time": "2020-08-10T20:11:57.450374",
     "status": "completed"
    },
    "tags": []
   },
   "outputs": [
    {
     "data": {
      "text/plain": [
       "((60000, 28, 28), (60000,))"
      ]
     },
     "execution_count": 6,
     "metadata": {},
     "output_type": "execute_result"
    }
   ],
   "source": [
    "train_images.shape, train_labels.shape"
   ]
  },
  {
   "cell_type": "code",
   "execution_count": 7,
   "metadata": {
    "execution": {
     "iopub.execute_input": "2020-08-10T20:11:57.582454Z",
     "iopub.status.busy": "2020-08-10T20:11:57.581702Z",
     "iopub.status.idle": "2020-08-10T20:11:58.472409Z",
     "shell.execute_reply": "2020-08-10T20:11:58.471735Z"
    },
    "papermill": {
     "duration": 0.928002,
     "end_time": "2020-08-10T20:11:58.472606",
     "exception": false,
     "start_time": "2020-08-10T20:11:57.544604",
     "status": "completed"
    },
    "tags": []
   },
   "outputs": [],
   "source": [
    "test_images = mnist.test_images()\n",
    "test_labels = mnist.test_labels()"
   ]
  },
  {
   "cell_type": "code",
   "execution_count": 8,
   "metadata": {
    "execution": {
     "iopub.execute_input": "2020-08-10T20:11:58.546017Z",
     "iopub.status.busy": "2020-08-10T20:11:58.545316Z",
     "iopub.status.idle": "2020-08-10T20:11:58.559719Z",
     "shell.execute_reply": "2020-08-10T20:11:58.560398Z"
    },
    "papermill": {
     "duration": 0.052944,
     "end_time": "2020-08-10T20:11:58.560578",
     "exception": false,
     "start_time": "2020-08-10T20:11:58.507634",
     "status": "completed"
    },
    "tags": []
   },
   "outputs": [
    {
     "data": {
      "text/plain": [
       "((10000, 28, 28), (10000,))"
      ]
     },
     "execution_count": 8,
     "metadata": {},
     "output_type": "execute_result"
    }
   ],
   "source": [
    "test_images.shape, test_labels.shape"
   ]
  },
  {
   "cell_type": "code",
   "execution_count": 9,
   "metadata": {
    "execution": {
     "iopub.execute_input": "2020-08-10T20:11:58.633074Z",
     "iopub.status.busy": "2020-08-10T20:11:58.632316Z",
     "iopub.status.idle": "2020-08-10T20:11:58.829815Z",
     "shell.execute_reply": "2020-08-10T20:11:58.829221Z"
    },
    "papermill": {
     "duration": 0.235029,
     "end_time": "2020-08-10T20:11:58.829953",
     "exception": false,
     "start_time": "2020-08-10T20:11:58.594924",
     "status": "completed"
    },
    "tags": []
   },
   "outputs": [
    {
     "name": "stdout",
     "output_type": "stream",
     "text": [
      "2\n"
     ]
    },
    {
     "data": {
      "text/plain": [
       "<matplotlib.image.AxesImage at 0x7f4e1357e320>"
      ]
     },
     "execution_count": 9,
     "metadata": {},
     "output_type": "execute_result"
    },
    {
     "data": {
      "image/png": "[encoded data removed]",
      "text/plain": [
       "<Figure size 432x288 with 1 Axes>"
      ]
     },
     "metadata": {
      "needs_background": "light"
     },
     "output_type": "display_data"
    }
   ],
   "source": [
    "image_index = 7776 # You may select anything up to 60,000\n",
    "print(train_labels[image_index]) \n",
    "plt.imshow(train_images[image_index], cmap='Greys')"
   ]
  },
  {
   "cell_type": "markdown",
   "metadata": {
    "papermill": {
     "duration": 0.036905,
     "end_time": "2020-08-10T20:11:58.903960",
     "exception": false,
     "start_time": "2020-08-10T20:11:58.867055",
     "status": "completed"
    },
    "tags": []
   },
   "source": [
    "## Filter data to get 3 and 8 out"
   ]
  },
  {
   "cell_type": "code",
   "execution_count": 10,
   "metadata": {
    "execution": {
     "iopub.execute_input": "2020-08-10T20:11:58.980378Z",
     "iopub.status.busy": "2020-08-10T20:11:58.979696Z",
     "iopub.status.idle": "2020-08-10T20:11:58.999776Z",
     "shell.execute_reply": "2020-08-10T20:11:59.000303Z"
    },
    "papermill": {
     "duration": 0.061195,
     "end_time": "2020-08-10T20:11:59.000516",
     "exception": false,
     "start_time": "2020-08-10T20:11:58.939321",
     "status": "completed"
    },
    "tags": []
   },
   "outputs": [],
   "source": [
    "train_filter = np.where((train_labels == 3 ) | (train_labels == 8))\n",
    "test_filter = np.where((test_labels == 3) | (test_labels == 8))\n",
    "X_train, y_train = train_images[train_filter], train_labels[train_filter]\n",
    "X_test, y_test = test_images[test_filter], test_labels[test_filter]"
   ]
  },
  {
   "cell_type": "markdown",
   "metadata": {
    "papermill": {
     "duration": 0.035829,
     "end_time": "2020-08-10T20:11:59.072930",
     "exception": false,
     "start_time": "2020-08-10T20:11:59.037101",
     "status": "completed"
    },
    "tags": []
   },
   "source": [
    "##### We normalize the pizel values in the 0 to 1 range"
   ]
  },
  {
   "cell_type": "code",
   "execution_count": 11,
   "metadata": {
    "execution": {
     "iopub.execute_input": "2020-08-10T20:11:59.148546Z",
     "iopub.status.busy": "2020-08-10T20:11:59.146348Z",
     "iopub.status.idle": "2020-08-10T20:11:59.212955Z",
     "shell.execute_reply": "2020-08-10T20:11:59.212303Z"
    },
    "papermill": {
     "duration": 0.104895,
     "end_time": "2020-08-10T20:11:59.213124",
     "exception": false,
     "start_time": "2020-08-10T20:11:59.108229",
     "status": "completed"
    },
    "tags": []
   },
   "outputs": [],
   "source": [
    "X_train = X_train/255.\n",
    "X_test = X_test/255."
   ]
  },
  {
   "cell_type": "markdown",
   "metadata": {
    "papermill": {
     "duration": 0.036994,
     "end_time": "2020-08-10T20:11:59.286179",
     "exception": false,
     "start_time": "2020-08-10T20:11:59.249185",
     "status": "completed"
    },
    "tags": []
   },
   "source": [
    "And setup the labels as 1 (when the digit is 3) and 0 (when the digit is 8)"
   ]
  },
  {
   "cell_type": "code",
   "execution_count": 12,
   "metadata": {
    "execution": {
     "iopub.execute_input": "2020-08-10T20:11:59.361750Z",
     "iopub.status.busy": "2020-08-10T20:11:59.360985Z",
     "iopub.status.idle": "2020-08-10T20:11:59.375076Z",
     "shell.execute_reply": "2020-08-10T20:11:59.374429Z"
    },
    "papermill": {
     "duration": 0.053426,
     "end_time": "2020-08-10T20:11:59.375207",
     "exception": false,
     "start_time": "2020-08-10T20:11:59.321781",
     "status": "completed"
    },
    "tags": []
   },
   "outputs": [],
   "source": [
    "y_train = 1*(y_train==3)\n",
    "y_test = 1*(y_test==3)"
   ]
  },
  {
   "cell_type": "code",
   "execution_count": 13,
   "metadata": {
    "execution": {
     "iopub.execute_input": "2020-08-10T20:11:59.450820Z",
     "iopub.status.busy": "2020-08-10T20:11:59.450152Z",
     "iopub.status.idle": "2020-08-10T20:11:59.463427Z",
     "shell.execute_reply": "2020-08-10T20:11:59.464125Z"
    },
    "papermill": {
     "duration": 0.053069,
     "end_time": "2020-08-10T20:11:59.464267",
     "exception": false,
     "start_time": "2020-08-10T20:11:59.411198",
     "status": "completed"
    },
    "tags": []
   },
   "outputs": [
    {
     "data": {
      "text/plain": [
       "((11982, 28, 28), (1984, 28, 28))"
      ]
     },
     "execution_count": 13,
     "metadata": {},
     "output_type": "execute_result"
    }
   ],
   "source": [
    "X_train.shape, X_test.shape"
   ]
  },
  {
   "cell_type": "markdown",
   "metadata": {
    "papermill": {
     "duration": 0.036374,
     "end_time": "2020-08-10T20:11:59.537322",
     "exception": false,
     "start_time": "2020-08-10T20:11:59.500948",
     "status": "completed"
    },
    "tags": []
   },
   "source": [
    "##### We reshape the data to flatten the image pixels into a set of features or co-variates:"
   ]
  },
  {
   "cell_type": "code",
   "execution_count": 14,
   "metadata": {
    "execution": {
     "iopub.execute_input": "2020-08-10T20:11:59.614170Z",
     "iopub.status.busy": "2020-08-10T20:11:59.613355Z",
     "iopub.status.idle": "2020-08-10T20:11:59.627612Z",
     "shell.execute_reply": "2020-08-10T20:11:59.628262Z"
    },
    "papermill": {
     "duration": 0.054663,
     "end_time": "2020-08-10T20:11:59.628409",
     "exception": false,
     "start_time": "2020-08-10T20:11:59.573746",
     "status": "completed"
    },
    "tags": []
   },
   "outputs": [
    {
     "data": {
      "text/plain": [
       "((11982, 784), (1984, 784))"
      ]
     },
     "execution_count": 14,
     "metadata": {},
     "output_type": "execute_result"
    }
   ],
   "source": [
    "X_train = X_train.reshape(X_train.shape[0], -1)\n",
    "X_test = X_test.reshape(X_test.shape[0], -1)\n",
    "X_train.shape, X_test.shape"
   ]
  },
  {
   "cell_type": "markdown",
   "metadata": {
    "papermill": {
     "duration": 0.036365,
     "end_time": "2020-08-10T20:11:59.701214",
     "exception": false,
     "start_time": "2020-08-10T20:11:59.664849",
     "status": "completed"
    },
    "tags": []
   },
   "source": [
    "##### Importing Kudzu library and its functionality"
   ]
  },
  {
   "cell_type": "code",
   "execution_count": 15,
   "metadata": {
    "execution": {
     "iopub.execute_input": "2020-08-10T20:11:59.782474Z",
     "iopub.status.busy": "2020-08-10T20:11:59.781764Z",
     "iopub.status.idle": "2020-08-10T20:11:59.801559Z",
     "shell.execute_reply": "2020-08-10T20:11:59.802237Z"
    },
    "papermill": {
     "duration": 0.065102,
     "end_time": "2020-08-10T20:11:59.802380",
     "exception": false,
     "start_time": "2020-08-10T20:11:59.737278",
     "status": "completed"
    },
    "tags": []
   },
   "outputs": [],
   "source": [
    "from kudzu.data import Data, Dataloader, Sampler\n",
    "from kudzu.callbacks import AccCallback\n",
    "from kudzu.loss import MSE\n",
    "from kudzu.layer import Affine, Sigmoid\n",
    "from kudzu.model import Model\n",
    "from kudzu.optim import GD\n",
    "from kudzu.train import Learner\n",
    "from kudzu.callbacks import ClfCallback\n",
    "from kudzu.layer import Sigmoid\n",
    "from kudzu.layer import Relu"
   ]
  },
  {
   "cell_type": "markdown",
   "metadata": {
    "papermill": {
     "duration": 0.036931,
     "end_time": "2020-08-10T20:11:59.876743",
     "exception": false,
     "start_time": "2020-08-10T20:11:59.839812",
     "status": "completed"
    },
    "tags": []
   },
   "source": [
    "##### We are creating a class, just so that we can use it to store our parameters for us"
   ]
  },
  {
   "cell_type": "code",
   "execution_count": 16,
   "metadata": {
    "execution": {
     "iopub.execute_input": "2020-08-10T20:11:59.960290Z",
     "iopub.status.busy": "2020-08-10T20:11:59.959612Z",
     "iopub.status.idle": "2020-08-10T20:11:59.970796Z",
     "shell.execute_reply": "2020-08-10T20:11:59.971379Z"
    },
    "papermill": {
     "duration": 0.056204,
     "end_time": "2020-08-10T20:11:59.971545",
     "exception": false,
     "start_time": "2020-08-10T20:11:59.915341",
     "status": "completed"
    },
    "tags": []
   },
   "outputs": [],
   "source": [
    "class Config:\n",
    "    pass\n",
    "config = Config()\n",
    "config.lr = 0.001\n",
    "config.num_epochs = 250\n",
    "config.bs = 50"
   ]
  },
  {
   "cell_type": "markdown",
   "metadata": {
    "papermill": {
     "duration": 0.036237,
     "end_time": "2020-08-10T20:12:00.044573",
     "exception": false,
     "start_time": "2020-08-10T20:12:00.008336",
     "status": "completed"
    },
    "tags": []
   },
   "source": [
    "##### Initializing Data"
   ]
  },
  {
   "cell_type": "code",
   "execution_count": 17,
   "metadata": {
    "execution": {
     "iopub.execute_input": "2020-08-10T20:12:00.124489Z",
     "iopub.status.busy": "2020-08-10T20:12:00.123790Z",
     "iopub.status.idle": "2020-08-10T20:12:00.136276Z",
     "shell.execute_reply": "2020-08-10T20:12:00.136989Z"
    },
    "papermill": {
     "duration": 0.055669,
     "end_time": "2020-08-10T20:12:00.137139",
     "exception": false,
     "start_time": "2020-08-10T20:12:00.081470",
     "status": "completed"
    },
    "tags": []
   },
   "outputs": [],
   "source": [
    "data = Data(X_train, y_train.reshape(-1,1))\n",
    "loss = MSE()\n",
    "opt = GD(config.lr)\n",
    "sampler = Sampler(data, config.bs, shuffle=True)\n",
    "dl = Dataloader(data, sampler)"
   ]
  },
  {
   "cell_type": "markdown",
   "metadata": {
    "papermill": {
     "duration": 0.037484,
     "end_time": "2020-08-10T20:12:00.211435",
     "exception": false,
     "start_time": "2020-08-10T20:12:00.173951",
     "status": "completed"
    },
    "tags": []
   },
   "source": [
    "##### Constructing 2 different layers, one for NN and one only for logistic regression."
   ]
  },
  {
   "cell_type": "markdown",
   "metadata": {
    "papermill": {
     "duration": 0.036662,
     "end_time": "2020-08-10T20:12:00.284772",
     "exception": false,
     "start_time": "2020-08-10T20:12:00.248110",
     "status": "completed"
    },
    "tags": []
   },
   "source": [
    "##### Creating containers for data to be passed, to calculate accuracies"
   ]
  },
  {
   "cell_type": "code",
   "execution_count": 18,
   "metadata": {
    "execution": {
     "iopub.execute_input": "2020-08-10T20:12:00.370983Z",
     "iopub.status.busy": "2020-08-10T20:12:00.365084Z",
     "iopub.status.idle": "2020-08-10T20:12:00.377078Z",
     "shell.execute_reply": "2020-08-10T20:12:00.377781Z"
    },
    "papermill": {
     "duration": 0.056431,
     "end_time": "2020-08-10T20:12:00.377931",
     "exception": false,
     "start_time": "2020-08-10T20:12:00.321500",
     "status": "completed"
    },
    "tags": []
   },
   "outputs": [],
   "source": [
    "training_xdata = X_train\n",
    "testing_xdata = X_test\n",
    "training_ydata = y_train.reshape(-1,1)\n",
    "testing_ydata = y_test.reshape(-1,1)"
   ]
  },
  {
   "cell_type": "markdown",
   "metadata": {
    "papermill": {
     "duration": 0.036297,
     "end_time": "2020-08-10T20:12:00.451764",
     "exception": false,
     "start_time": "2020-08-10T20:12:00.415467",
     "status": "completed"
    },
    "tags": []
   },
   "source": [
    "##### Initializing models and Running training loop: "
   ]
  },
  {
   "cell_type": "code",
   "execution_count": 19,
   "metadata": {
    "execution": {
     "iopub.execute_input": "2020-08-10T20:12:00.528457Z",
     "iopub.status.busy": "2020-08-10T20:12:00.527786Z",
     "iopub.status.idle": "2020-08-10T20:12:00.545280Z",
     "shell.execute_reply": "2020-08-10T20:12:00.545819Z"
    },
    "papermill": {
     "duration": 0.058159,
     "end_time": "2020-08-10T20:12:00.545978",
     "exception": false,
     "start_time": "2020-08-10T20:12:00.487819",
     "status": "completed"
    },
    "tags": []
   },
   "outputs": [],
   "source": [
    "layers = [Affine(\"first\", 784, 100), Relu(\"first\"), Affine(\"second\", 100, 100), Relu(\"second\"), Affine(\"third\", 100, 2), Affine(\"final\", 2, 1), Sigmoid(\"final\")]\n",
    "\n",
    "model_neural = Model(layers)\n",
    "model_logistic = Model([Affine(\"logits\", 784, 1), Sigmoid(\"sigmoid\")])"
   ]
  },
  {
   "cell_type": "code",
   "execution_count": 20,
   "metadata": {
    "execution": {
     "iopub.execute_input": "2020-08-10T20:12:00.621793Z",
     "iopub.status.busy": "2020-08-10T20:12:00.621081Z",
     "iopub.status.idle": "2020-08-10T20:12:00.633722Z",
     "shell.execute_reply": "2020-08-10T20:12:00.633125Z"
    },
    "papermill": {
     "duration": 0.052246,
     "end_time": "2020-08-10T20:12:00.633855",
     "exception": false,
     "start_time": "2020-08-10T20:12:00.581609",
     "status": "completed"
    },
    "tags": []
   },
   "outputs": [],
   "source": [
    "learner1 = Learner(loss, model_neural, opt, config.num_epochs)\n",
    "acc1 = ClfCallback(learner1, config.bs, training_xdata , testing_xdata, training_ydata, testing_ydata)\n",
    "learner1.set_callbacks([acc1])"
   ]
  },
  {
   "cell_type": "code",
   "execution_count": 21,
   "metadata": {
    "execution": {
     "iopub.execute_input": "2020-08-10T20:12:00.713747Z",
     "iopub.status.busy": "2020-08-10T20:12:00.713074Z",
     "iopub.status.idle": "2020-08-10T20:14:14.074774Z",
     "shell.execute_reply": "2020-08-10T20:14:14.075642Z"
    },
    "papermill": {
     "duration": 133.403659,
     "end_time": "2020-08-10T20:14:14.075826",
     "exception": false,
     "start_time": "2020-08-10T20:12:00.672167",
     "status": "completed"
    },
    "tags": []
   },
   "outputs": [
    {
     "name": "stdout",
     "output_type": "stream",
     "text": [
      "Epoch 0 Loss 0.19979406959942048\n",
      "train accuracy is: 0.7832582206643298, test accuracy is 0.8119959677419355\n"
     ]
    },
    {
     "name": "stdout",
     "output_type": "stream",
     "text": [
      "Epoch 10 Loss 0.05644466220783762\n",
      "train accuracy is: 0.9393256551493907, test accuracy is 0.9511088709677419\n"
     ]
    },
    {
     "name": "stdout",
     "output_type": "stream",
     "text": [
      "Epoch 20 Loss 0.040995736771062025\n",
      "train accuracy is: 0.9535970622600568, test accuracy is 0.9591733870967742\n"
     ]
    },
    {
     "name": "stdout",
     "output_type": "stream",
     "text": [
      "Epoch 30 Loss 0.03497041340906259\n",
      "train accuracy is: 0.9605241195126022, test accuracy is 0.9632056451612904\n"
     ]
    },
    {
     "name": "stdout",
     "output_type": "stream",
     "text": [
      "Epoch 40 Loss 0.03154920135851716\n",
      "train accuracy is: 0.9648639626105825, test accuracy is 0.9662298387096774\n"
     ]
    },
    {
     "name": "stdout",
     "output_type": "stream",
     "text": [
      "Epoch 50 Loss 0.02923683099831958\n",
      "train accuracy is: 0.9666165915539977, test accuracy is 0.967741935483871\n"
     ]
    },
    {
     "name": "stdout",
     "output_type": "stream",
     "text": [
      "Epoch 60 Loss 0.027517719954585254\n",
      "train accuracy is: 0.9678684693707228, test accuracy is 0.9692540322580645\n"
     ]
    },
    {
     "name": "stdout",
     "output_type": "stream",
     "text": [
      "Epoch 70 Loss 0.026169417703193438\n",
      "train accuracy is: 0.9697880153563679, test accuracy is 0.9702620967741935\n"
     ]
    },
    {
     "name": "stdout",
     "output_type": "stream",
     "text": [
      "Epoch 80 Loss 0.025069285626955307\n",
      "train accuracy is: 0.9707060590886329, test accuracy is 0.969758064516129\n"
     ]
    },
    {
     "name": "stdout",
     "output_type": "stream",
     "text": [
      "Epoch 90 Loss 0.024134477572718284\n",
      "train accuracy is: 0.972041395426473, test accuracy is 0.9702620967741935\n"
     ]
    },
    {
     "name": "stdout",
     "output_type": "stream",
     "text": [
      "Epoch 100 Loss 0.023320158515065748\n",
      "train accuracy is: 0.9731263562009681, test accuracy is 0.9707661290322581\n"
     ]
    },
    {
     "name": "stdout",
     "output_type": "stream",
     "text": [
      "Epoch 110 Loss 0.022578581936208087\n",
      "train accuracy is: 0.9740443999332332, test accuracy is 0.9707661290322581\n"
     ]
    },
    {
     "name": "stdout",
     "output_type": "stream",
     "text": [
      "Epoch 120 Loss 0.021896195332978544\n",
      "train accuracy is: 0.9746286095810383, test accuracy is 0.9717741935483871\n"
     ]
    },
    {
     "name": "stdout",
     "output_type": "stream",
     "text": [
      "Epoch 130 Loss 0.021288007215074425\n",
      "train accuracy is: 0.9752962777499583, test accuracy is 0.9717741935483871\n"
     ]
    },
    {
     "name": "stdout",
     "output_type": "stream",
     "text": [
      "Epoch 140 Loss 0.020721806747655596\n",
      "train accuracy is: 0.9764646970455684, test accuracy is 0.9727822580645161\n"
     ]
    },
    {
     "name": "stdout",
     "output_type": "stream",
     "text": [
      "Epoch 150 Loss 0.020193134580314288\n",
      "train accuracy is: 0.9777165748622935, test accuracy is 0.9727822580645161\n"
     ]
    },
    {
     "name": "stdout",
     "output_type": "stream",
     "text": [
      "Epoch 160 Loss 0.019682366190288337\n",
      "train accuracy is: 0.9782173259889835, test accuracy is 0.9737903225806451\n"
     ]
    },
    {
     "name": "stdout",
     "output_type": "stream",
     "text": [
      "Epoch 170 Loss 0.019194001388069332\n",
      "train accuracy is: 0.9785511600734434, test accuracy is 0.9737903225806451\n"
     ]
    },
    {
     "name": "stdout",
     "output_type": "stream",
     "text": [
      "Epoch 180 Loss 0.01873523109697184\n",
      "train accuracy is: 0.9789684526790186, test accuracy is 0.9737903225806451\n"
     ]
    },
    {
     "name": "stdout",
     "output_type": "stream",
     "text": [
      "Epoch 190 Loss 0.01829247346677888\n",
      "train accuracy is: 0.9794692038057086, test accuracy is 0.9747983870967742\n"
     ]
    },
    {
     "name": "stdout",
     "output_type": "stream",
     "text": [
      "Epoch 200 Loss 0.01785821577876987\n",
      "train accuracy is: 0.9803037890168587, test accuracy is 0.9747983870967742\n"
     ]
    },
    {
     "name": "stdout",
     "output_type": "stream",
     "text": [
      "Epoch 210 Loss 0.017439967981371332\n",
      "train accuracy is: 0.9806376231013186, test accuracy is 0.9753024193548387\n"
     ]
    },
    {
     "name": "stdout",
     "output_type": "stream",
     "text": [
      "Epoch 220 Loss 0.017027381571687178\n",
      "train accuracy is: 0.9817225838758137, test accuracy is 0.9753024193548387\n"
     ]
    },
    {
     "name": "stdout",
     "output_type": "stream",
     "text": [
      "Epoch 230 Loss 0.016619649743307013\n",
      "train accuracy is: 0.9823902520447337, test accuracy is 0.9758064516129032\n"
     ]
    },
    {
     "name": "stdout",
     "output_type": "stream",
     "text": [
      "Epoch 240 Loss 0.01622701721320243\n",
      "train accuracy is: 0.9826406276080788, test accuracy is 0.9758064516129032\n"
     ]
    },
    {
     "data": {
      "text/plain": [
       "0.0034411259561027176"
      ]
     },
     "execution_count": 21,
     "metadata": {},
     "output_type": "execute_result"
    }
   ],
   "source": [
    "learner1.train_loop(dl)"
   ]
  },
  {
   "cell_type": "markdown",
   "metadata": {
    "papermill": {
     "duration": 0.044802,
     "end_time": "2020-08-10T20:14:14.166416",
     "exception": false,
     "start_time": "2020-08-10T20:14:14.121614",
     "status": "completed"
    },
    "tags": []
   },
   "source": [
    "##### Now running only the logistic regression based classification to compare results with NN"
   ]
  },
  {
   "cell_type": "code",
   "execution_count": 22,
   "metadata": {
    "execution": {
     "iopub.execute_input": "2020-08-10T20:14:14.279042Z",
     "iopub.status.busy": "2020-08-10T20:14:14.278379Z",
     "iopub.status.idle": "2020-08-10T20:14:14.287253Z",
     "shell.execute_reply": "2020-08-10T20:14:14.287762Z"
    },
    "papermill": {
     "duration": 0.072357,
     "end_time": "2020-08-10T20:14:14.287913",
     "exception": false,
     "start_time": "2020-08-10T20:14:14.215556",
     "status": "completed"
    },
    "tags": []
   },
   "outputs": [],
   "source": [
    "learner2 = Learner(loss, model_logistic, opt, config.num_epochs)\n",
    "acc2 = ClfCallback(learner2, config.bs, training_xdata , testing_xdata, training_ydata, testing_ydata)\n",
    "learner2.set_callbacks([acc2])"
   ]
  },
  {
   "cell_type": "code",
   "execution_count": 23,
   "metadata": {
    "execution": {
     "iopub.execute_input": "2020-08-10T20:14:14.385019Z",
     "iopub.status.busy": "2020-08-10T20:14:14.382916Z",
     "iopub.status.idle": "2020-08-10T20:14:33.406460Z",
     "shell.execute_reply": "2020-08-10T20:14:33.407111Z"
    },
    "papermill": {
     "duration": 19.074283,
     "end_time": "2020-08-10T20:14:33.407274",
     "exception": false,
     "start_time": "2020-08-10T20:14:14.332991",
     "status": "completed"
    },
    "tags": []
   },
   "outputs": [
    {
     "name": "stdout",
     "output_type": "stream",
     "text": [
      "Epoch 0 Loss 0.24177968390689306\n",
      "train accuracy is: 0.6990485728592889, test accuracy is 0.717741935483871\n"
     ]
    },
    {
     "name": "stdout",
     "output_type": "stream",
     "text": [
      "Epoch 10 Loss 0.10236034525344614\n",
      "train accuracy is: 0.9110332164914038, test accuracy is 0.9203629032258065\n"
     ]
    },
    {
     "name": "stdout",
     "output_type": "stream",
     "text": [
      "Epoch 20 Loss 0.07944560621072173\n",
      "train accuracy is: 0.9277249207144049, test accuracy is 0.936491935483871\n"
     ]
    },
    {
     "name": "stdout",
     "output_type": "stream",
     "text": [
      "Epoch 30 Loss 0.06872629181442706\n",
      "train accuracy is: 0.9364046069103655, test accuracy is 0.9450604838709677\n"
     ]
    },
    {
     "name": "stdout",
     "output_type": "stream",
     "text": [
      "Epoch 40 Loss 0.06218972250289185\n",
      "train accuracy is: 0.9403271574027708, test accuracy is 0.9511088709677419\n"
     ]
    },
    {
     "name": "stdout",
     "output_type": "stream",
     "text": [
      "Epoch 50 Loss 0.05769025791725041\n",
      "train accuracy is: 0.943081288599566, test accuracy is 0.9536290322580645\n"
     ]
    },
    {
     "name": "stdout",
     "output_type": "stream",
     "text": [
      "Epoch 60 Loss 0.05435935492876163\n",
      "train accuracy is: 0.9450842931063261, test accuracy is 0.9571572580645161\n"
     ]
    },
    {
     "name": "stdout",
     "output_type": "stream",
     "text": [
      "Epoch 70 Loss 0.05177372774056411\n",
      "train accuracy is: 0.9472542146553163, test accuracy is 0.9606854838709677\n"
     ]
    },
    {
     "name": "stdout",
     "output_type": "stream",
     "text": [
      "Epoch 80 Loss 0.049692574324451594\n",
      "train accuracy is: 0.9488399265565014, test accuracy is 0.9611895161290323\n"
     ]
    },
    {
     "name": "stdout",
     "output_type": "stream",
     "text": [
      "Epoch 90 Loss 0.047972999396214744\n",
      "train accuracy is: 0.9500918043732265, test accuracy is 0.9616935483870968\n"
     ]
    },
    {
     "name": "stdout",
     "output_type": "stream",
     "text": [
      "Epoch 100 Loss 0.04652078764519678\n",
      "train accuracy is: 0.9515940577532966, test accuracy is 0.9632056451612904\n"
     ]
    },
    {
     "name": "stdout",
     "output_type": "stream",
     "text": [
      "Epoch 110 Loss 0.04527406772417963\n",
      "train accuracy is: 0.9524286429644466, test accuracy is 0.9632056451612904\n"
     ]
    },
    {
     "name": "stdout",
     "output_type": "stream",
     "text": [
      "Epoch 120 Loss 0.04418833874873516\n",
      "train accuracy is: 0.9536805207811717, test accuracy is 0.9632056451612904\n"
     ]
    },
    {
     "name": "stdout",
     "output_type": "stream",
     "text": [
      "Epoch 130 Loss 0.04323184092286589\n",
      "train accuracy is: 0.9546820230345519, test accuracy is 0.9632056451612904\n"
     ]
    },
    {
     "name": "stdout",
     "output_type": "stream",
     "text": [
      "Epoch 140 Loss 0.04238052106760948\n",
      "train accuracy is: 0.9555166082457018, test accuracy is 0.9637096774193549\n"
     ]
    },
    {
     "name": "stdout",
     "output_type": "stream",
     "text": [
      "Epoch 150 Loss 0.04161637089582939\n",
      "train accuracy is: 0.956100817893507, test accuracy is 0.9642137096774194\n"
     ]
    },
    {
     "name": "stdout",
     "output_type": "stream",
     "text": [
      "Epoch 160 Loss 0.0409254128208608\n",
      "train accuracy is: 0.956851944583542, test accuracy is 0.9652217741935484\n"
     ]
    },
    {
     "name": "stdout",
     "output_type": "stream",
     "text": [
      "Epoch 170 Loss 0.04029575507463054\n",
      "train accuracy is: 0.957018861625772, test accuracy is 0.9647177419354839\n"
     ]
    },
    {
     "name": "stdout",
     "output_type": "stream",
     "text": [
      "Epoch 180 Loss 0.039720580117027414\n",
      "train accuracy is: 0.957603071273577, test accuracy is 0.9652217741935484\n"
     ]
    },
    {
     "name": "stdout",
     "output_type": "stream",
     "text": [
      "Epoch 190 Loss 0.03919106162365477\n",
      "train accuracy is: 0.9578534468369221, test accuracy is 0.9652217741935484\n"
     ]
    },
    {
     "name": "stdout",
     "output_type": "stream",
     "text": [
      "Epoch 200 Loss 0.038701578027493334\n",
      "train accuracy is: 0.9581872809213821, test accuracy is 0.9647177419354839\n"
     ]
    },
    {
     "name": "stdout",
     "output_type": "stream",
     "text": [
      "Epoch 210 Loss 0.03824735965700778\n",
      "train accuracy is: 0.9588549490903021, test accuracy is 0.9652217741935484\n"
     ]
    },
    {
     "name": "stdout",
     "output_type": "stream",
     "text": [
      "Epoch 220 Loss 0.03782423848860035\n",
      "train accuracy is: 0.9594391587381071, test accuracy is 0.9672379032258065\n"
     ]
    },
    {
     "name": "stdout",
     "output_type": "stream",
     "text": [
      "Epoch 230 Loss 0.03742932580980939\n",
      "train accuracy is: 0.9598564513436821, test accuracy is 0.9682459677419355\n"
     ]
    },
    {
     "name": "stdout",
     "output_type": "stream",
     "text": [
      "Epoch 240 Loss 0.03705779129593205\n",
      "train accuracy is: 0.9602737439492572, test accuracy is 0.9682459677419355\n"
     ]
    },
    {
     "data": {
      "text/plain": [
       "0.0836676890660884"
      ]
     },
     "execution_count": 23,
     "metadata": {},
     "output_type": "execute_result"
    }
   ],
   "source": [
    "learner2.train_loop(dl)"
   ]
  },
  {
   "cell_type": "markdown",
   "metadata": {
    "papermill": {
     "duration": 0.052433,
     "end_time": "2020-08-10T20:14:33.513212",
     "exception": false,
     "start_time": "2020-08-10T20:14:33.460779",
     "status": "completed"
    },
    "tags": []
   },
   "source": [
    "### Comparing results of NN and LR"
   ]
  },
  {
   "cell_type": "code",
   "execution_count": 24,
   "metadata": {
    "execution": {
     "iopub.execute_input": "2020-08-10T20:14:33.659969Z",
     "iopub.status.busy": "2020-08-10T20:14:33.625132Z",
     "iopub.status.idle": "2020-08-10T20:14:33.904903Z",
     "shell.execute_reply": "2020-08-10T20:14:33.905816Z"
    },
    "papermill": {
     "duration": 0.339175,
     "end_time": "2020-08-10T20:14:33.905979",
     "exception": false,
     "start_time": "2020-08-10T20:14:33.566804",
     "status": "completed"
    },
    "tags": []
   },
   "outputs": [
    {
     "data": {
      "text/plain": [
       "<matplotlib.legend.Legend at 0x7f4e13156a90>"
      ]
     },
     "execution_count": 24,
     "metadata": {},
     "output_type": "execute_result"
    },
    {
     "data": {
      "image/png": "[encoded data removed]",
      "text/plain": [
       "<Figure size 576x360 with 1 Axes>"
      ]
     },
     "metadata": {
      "needs_background": "light"
     },
     "output_type": "display_data"
    }
   ],
   "source": [
    "plt.figure(figsize=(8,5))\n",
    "plt.plot(acc1.val_accuracies, 'g-', label = \"Val Accuracies - NN\")\n",
    "plt.plot(acc1.accuracies, 'r-', label = \"Accuracies - NN\")\n",
    "plt.plot(acc2.val_accuracies, 'b-', label = \"Val Accuracies - Logistic Reg\")\n",
    "plt.plot(acc2.accuracies, 'k-', label = \"Accuracies - Logistic Reg\")\n",
    "plt.ylim(0.8,1) ## for a more spread out view\n",
    "plt.legend()"
   ]
  },
  {
   "cell_type": "markdown",
   "metadata": {
    "papermill": {
     "duration": 0.055414,
     "end_time": "2020-08-10T20:14:34.016885",
     "exception": false,
     "start_time": "2020-08-10T20:14:33.961471",
     "status": "completed"
    },
    "tags": []
   },
   "source": [
    "### Clearly NN has a better accuracy over LR; NN is overfitting - Validation accuracy (green) has dropped below training accuracy (orange), also they are diverging. This problem is not seen in LR"
   ]
  },
  {
   "cell_type": "markdown",
   "metadata": {
    "papermill": {
     "duration": 0.055762,
     "end_time": "2020-08-10T20:14:34.128399",
     "exception": false,
     "start_time": "2020-08-10T20:14:34.072637",
     "status": "completed"
    },
    "tags": []
   },
   "source": [
    "##### Now we will be moving through the network, till the output of the second last affine where we get a 2 dimensional output. We will be plotting this 2d output and probability contours"
   ]
  },
  {
   "cell_type": "code",
   "execution_count": 25,
   "metadata": {
    "execution": {
     "iopub.execute_input": "2020-08-10T20:14:34.242212Z",
     "iopub.status.busy": "2020-08-10T20:14:34.241541Z",
     "iopub.status.idle": "2020-08-10T20:14:34.254356Z",
     "shell.execute_reply": "2020-08-10T20:14:34.254915Z"
    },
    "papermill": {
     "duration": 0.071239,
     "end_time": "2020-08-10T20:14:34.255071",
     "exception": false,
     "start_time": "2020-08-10T20:14:34.183832",
     "status": "completed"
    },
    "tags": []
   },
   "outputs": [],
   "source": [
    "model_new = Model(layers[:-2])"
   ]
  },
  {
   "cell_type": "code",
   "execution_count": 26,
   "metadata": {
    "execution": {
     "iopub.execute_input": "2020-08-10T20:14:34.379711Z",
     "iopub.status.busy": "2020-08-10T20:14:34.379043Z",
     "iopub.status.idle": "2020-08-10T20:14:34.402659Z",
     "shell.execute_reply": "2020-08-10T20:14:34.403439Z"
    },
    "papermill": {
     "duration": 0.094635,
     "end_time": "2020-08-10T20:14:34.403606",
     "exception": false,
     "start_time": "2020-08-10T20:14:34.308971",
     "status": "completed"
    },
    "tags": []
   },
   "outputs": [],
   "source": [
    "plot_testing = model_new(testing_xdata)"
   ]
  },
  {
   "cell_type": "markdown",
   "metadata": {
    "papermill": {
     "duration": 0.072972,
     "end_time": "2020-08-10T20:14:34.530842",
     "exception": false,
     "start_time": "2020-08-10T20:14:34.457870",
     "status": "completed"
    },
    "tags": []
   },
   "source": [
    "##### Plotting the scatter plot of points and color coding by class"
   ]
  },
  {
   "cell_type": "code",
   "execution_count": 27,
   "metadata": {
    "execution": {
     "iopub.execute_input": "2020-08-10T20:14:34.681823Z",
     "iopub.status.busy": "2020-08-10T20:14:34.659691Z",
     "iopub.status.idle": "2020-08-10T20:14:34.904940Z",
     "shell.execute_reply": "2020-08-10T20:14:34.905493Z"
    },
    "papermill": {
     "duration": 0.319637,
     "end_time": "2020-08-10T20:14:34.905662",
     "exception": false,
     "start_time": "2020-08-10T20:14:34.586025",
     "status": "completed"
    },
    "tags": []
   },
   "outputs": [
    {
     "data": {
      "image/png": "[encoded data removed]",
      "text/plain": [
       "<Figure size 576x504 with 1 Axes>"
      ]
     },
     "metadata": {
      "needs_background": "light"
     },
     "output_type": "display_data"
    }
   ],
   "source": [
    "plt.figure(figsize=(8,7))\n",
    "plt.scatter(plot_testing[:,0], plot_testing[:,1], alpha = 0.1, c = y_test.ravel());"
   ]
  },
  {
   "cell_type": "markdown",
   "metadata": {
    "papermill": {
     "duration": 0.057063,
     "end_time": "2020-08-10T20:14:35.021255",
     "exception": false,
     "start_time": "2020-08-10T20:14:34.964192",
     "status": "completed"
    },
    "tags": []
   },
   "source": [
    "##### Plotting probability contours"
   ]
  },
  {
   "cell_type": "code",
   "execution_count": 28,
   "metadata": {
    "execution": {
     "iopub.execute_input": "2020-08-10T20:14:35.140154Z",
     "iopub.status.busy": "2020-08-10T20:14:35.139501Z",
     "iopub.status.idle": "2020-08-10T20:14:35.152548Z",
     "shell.execute_reply": "2020-08-10T20:14:35.153219Z"
    },
    "papermill": {
     "duration": 0.072593,
     "end_time": "2020-08-10T20:14:35.153367",
     "exception": false,
     "start_time": "2020-08-10T20:14:35.080774",
     "status": "completed"
    },
    "tags": []
   },
   "outputs": [],
   "source": [
    "model_prob = Model(layers[-2:]) ## picking only last two layers to get probability. That is affine followed by sigmoid"
   ]
  },
  {
   "cell_type": "code",
   "execution_count": 29,
   "metadata": {
    "execution": {
     "iopub.execute_input": "2020-08-10T20:14:35.274071Z",
     "iopub.status.busy": "2020-08-10T20:14:35.273396Z",
     "iopub.status.idle": "2020-08-10T20:14:35.285454Z",
     "shell.execute_reply": "2020-08-10T20:14:35.286022Z"
    },
    "papermill": {
     "duration": 0.076161,
     "end_time": "2020-08-10T20:14:35.286176",
     "exception": false,
     "start_time": "2020-08-10T20:14:35.210015",
     "status": "completed"
    },
    "tags": []
   },
   "outputs": [],
   "source": [
    "xgrid = np.linspace(-4, 1, 100) ## Adjust these values based on above chart, roughly -4 to 1\n",
    "ygrid = np.linspace(-7.5, 7.5, 100) ## Adjust these values based on above chart, roughly -7.5, 7.5\n",
    "xg, yg = np.meshgrid(xgrid, ygrid)\n",
    "# xg and yg are now both 100X100, lets convert them to single arrays \n",
    "\n",
    "xg_interim = np.ravel(xg)\n",
    "yg_interim = np.ravel(yg)\n",
    "\n",
    "## xg_interim, yg_interim are now arrays of len 10000, now we will stack them and then transpose to get desired shape of n rows, 2 columns\n",
    "\n",
    "X_interim = np.vstack((xg_interim, yg_interim)) ## Please note vstack takes in a tuple\n",
    "X = X_interim.T\n",
    "\n",
    "## We want a shape of n rows and 2 columns to be able to feed this to last affine\n",
    "## This last affine takes only two columns, hence the above transformation\n",
    "probability_contour = model_prob(X).reshape(100,100) ## to make it consistent with xg, yg"
   ]
  },
  {
   "cell_type": "code",
   "execution_count": 30,
   "metadata": {
    "execution": {
     "iopub.execute_input": "2020-08-10T20:14:35.410129Z",
     "iopub.status.busy": "2020-08-10T20:14:35.409465Z",
     "iopub.status.idle": "2020-08-10T20:14:35.687415Z",
     "shell.execute_reply": "2020-08-10T20:14:35.686483Z"
    },
    "papermill": {
     "duration": 0.344433,
     "end_time": "2020-08-10T20:14:35.687553",
     "exception": false,
     "start_time": "2020-08-10T20:14:35.343120",
     "status": "completed"
    },
    "tags": []
   },
   "outputs": [
    {
     "data": {
      "image/png": "[encoded data removed]",
      "text/plain": [
       "<Figure size 576x504 with 1 Axes>"
      ]
     },
     "metadata": {
      "needs_background": "light"
     },
     "output_type": "display_data"
    }
   ],
   "source": [
    "plt.figure(figsize=(8,7))\n",
    "plt.scatter(plot_testing[:,0], plot_testing[:,1], alpha = 0.1, c = y_test.ravel())\n",
    "contours = plt.contour(xg,yg,probability_contour)\n",
    "plt.clabel(contours, inline = True );"
   ]
  }
 ],
 "metadata": {
  "kernelspec": {
   "display_name": "Python 3",
   "language": "python",
   "name": "python3"
  },
  "language_info": {
   "codemirror_mode": {
    "name": "ipython",
    "version": 3
   },
   "file_extension": ".py",
   "mimetype": "text/x-python",
   "name": "python",
   "nbconvert_exporter": "python",
   "pygments_lexer": "ipython3",
   "version": "3.6.11"
  },
  "papermill": {
   "duration": 165.412139,
   "end_time": "2020-08-10T20:14:37.016221",
   "environment_variables": {},
   "exception": null,
   "input_path": "2020-08-07-NN-new.ipynb",
   "output_path": "2020-08-07-NN-new.ipynb",
   "parameters": {},
   "start_time": "2020-08-10T20:11:51.604082",
   "version": "2.1.2"
  }
 },
 "nbformat": 4,
 "nbformat_minor": 4
}