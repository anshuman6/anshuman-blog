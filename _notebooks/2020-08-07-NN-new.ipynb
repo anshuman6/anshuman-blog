{
 "cells": [
  {
   "cell_type": "markdown",
   "metadata": {
    "papermill": {
     "duration": 0.031771,
     "end_time": "2020-08-19T10:11:48.269013",
     "exception": false,
     "start_time": "2020-08-19T10:11:48.237242",
     "status": "completed"
    },
    "tags": []
   },
   "source": [
    "# \"Building a basic Neural Network from scratch - Kudzu\"\n",
    "\n",
    "- badges: true\n",
    "- author: Anshuman Gupta"
   ]
  },
  {
   "cell_type": "markdown",
   "metadata": {
    "papermill": {
     "duration": 0.02633,
     "end_time": "2020-08-19T10:11:48.321640",
     "exception": false,
     "start_time": "2020-08-19T10:11:48.295310",
     "status": "completed"
    },
    "tags": []
   },
   "source": [
    "#### In this project, the idea is to write a classifier to differentiate between handwritten digits 3 and 8, from the MNIST database.\n",
    "\n",
    "#### I will using a custom built neural network library called Kudzu.This has been developed as a part of KTF/Foundations course of Univ.ai (www.univ.ai). The source code for Kudzu Library and and this notebook can be found on my git-hub profile : www.https://github.com/anshuman6 under the folder project-solution. Any feedback and comments are welcome. Please feel free to email me at: anshuman6@gmail.com\n",
    "\n",
    "#### 1. I will be using the MNIST database. \n",
    "\n",
    "#### 2. I will be comparing the results of the 4 layer NN to a standard logistic regression"
   ]
  },
  {
   "cell_type": "markdown",
   "metadata": {
    "papermill": {
     "duration": 0.025808,
     "end_time": "2020-08-19T10:11:48.374215",
     "exception": false,
     "start_time": "2020-08-19T10:11:48.348407",
     "status": "completed"
    },
    "tags": []
   },
   "source": [
    "##### Importing all the necessary libraries"
   ]
  },
  {
   "cell_type": "code",
   "execution_count": 1,
   "metadata": {
    "execution": {
     "iopub.execute_input": "2020-08-19T10:11:48.432776Z",
     "iopub.status.busy": "2020-08-19T10:11:48.430260Z",
     "iopub.status.idle": "2020-08-19T10:11:48.444780Z",
     "shell.execute_reply": "2020-08-19T10:11:48.444331Z"
    },
    "papermill": {
     "duration": 0.043114,
     "end_time": "2020-08-19T10:11:48.444909",
     "exception": false,
     "start_time": "2020-08-19T10:11:48.401795",
     "status": "completed"
    },
    "tags": []
   },
   "outputs": [],
   "source": [
    "%load_ext autoreload\n",
    "%autoreload 2"
   ]
  },
  {
   "cell_type": "code",
   "execution_count": 2,
   "metadata": {
    "execution": {
     "iopub.execute_input": "2020-08-19T10:11:48.501540Z",
     "iopub.status.busy": "2020-08-19T10:11:48.500906Z",
     "iopub.status.idle": "2020-08-19T10:11:49.049210Z",
     "shell.execute_reply": "2020-08-19T10:11:49.048321Z"
    },
    "papermill": {
     "duration": 0.578395,
     "end_time": "2020-08-19T10:11:49.049376",
     "exception": false,
     "start_time": "2020-08-19T10:11:48.470981",
     "status": "completed"
    },
    "tags": []
   },
   "outputs": [],
   "source": [
    "%matplotlib inline\n",
    "import numpy as np\n",
    "import matplotlib.pyplot as plt\n",
    "import pandas as pd"
   ]
  },
  {
   "cell_type": "markdown",
   "metadata": {
    "papermill": {
     "duration": 0.027105,
     "end_time": "2020-08-19T10:11:49.104328",
     "exception": false,
     "start_time": "2020-08-19T10:11:49.077223",
     "status": "completed"
    },
    "tags": []
   },
   "source": [
    "##### The following command helps us download MNIST from notebook itself. You can skip this if you already have MNIST. You can also download it via your terminal."
   ]
  },
  {
   "cell_type": "code",
   "execution_count": 3,
   "metadata": {
    "execution": {
     "iopub.execute_input": "2020-08-19T10:11:49.161083Z",
     "iopub.status.busy": "2020-08-19T10:11:49.160505Z",
     "iopub.status.idle": "2020-08-19T10:11:50.632950Z",
     "shell.execute_reply": "2020-08-19T10:11:50.631941Z"
    },
    "papermill": {
     "duration": 1.502071,
     "end_time": "2020-08-19T10:11:50.633115",
     "exception": false,
     "start_time": "2020-08-19T10:11:49.131044",
     "status": "completed"
    },
    "tags": []
   },
   "outputs": [
    {
     "name": "stdout",
     "output_type": "stream",
     "text": [
      "Collecting mnist\r\n"
     ]
    },
    {
     "name": "stdout",
     "output_type": "stream",
     "text": [
      "  Downloading mnist-0.2.2-py2.py3-none-any.whl (3.5 kB)\r\n"
     ]
    },
    {
     "name": "stdout",
     "output_type": "stream",
     "text": [
      "Requirement already satisfied: numpy in /opt/hostedtoolcache/Python/3.6.11/x64/lib/python3.6/site-packages (from mnist) (1.19.1)\r\n"
     ]
    },
    {
     "name": "stdout",
     "output_type": "stream",
     "text": [
      "Installing collected packages: mnist\r\n"
     ]
    },
    {
     "name": "stdout",
     "output_type": "stream",
     "text": [
      "Successfully installed mnist-0.2.2\r\n"
     ]
    },
    {
     "name": "stdout",
     "output_type": "stream",
     "text": [
      "\u001b[33mWARNING: You are using pip version 20.2.1; however, version 20.2.2 is available.\r\n",
      "You should consider upgrading via the '/opt/hostedtoolcache/Python/3.6.11/x64/bin/python -m pip install --upgrade pip' command.\u001b[0m\r\n"
     ]
    }
   ],
   "source": [
    "!pip install mnist # Please note, it is commented out for now, you can remove comment if you want to install it"
   ]
  },
  {
   "cell_type": "markdown",
   "metadata": {
    "papermill": {
     "duration": 0.028028,
     "end_time": "2020-08-19T10:11:50.691445",
     "exception": false,
     "start_time": "2020-08-19T10:11:50.663417",
     "status": "completed"
    },
    "tags": []
   },
   "source": [
    "#### Preparing the Data"
   ]
  },
  {
   "cell_type": "code",
   "execution_count": 4,
   "metadata": {
    "execution": {
     "iopub.execute_input": "2020-08-19T10:11:50.753137Z",
     "iopub.status.busy": "2020-08-19T10:11:50.752562Z",
     "iopub.status.idle": "2020-08-19T10:11:50.768390Z",
     "shell.execute_reply": "2020-08-19T10:11:50.768958Z"
    },
    "papermill": {
     "duration": 0.048514,
     "end_time": "2020-08-19T10:11:50.769107",
     "exception": false,
     "start_time": "2020-08-19T10:11:50.720593",
     "status": "completed"
    },
    "tags": []
   },
   "outputs": [],
   "source": [
    "import mnist"
   ]
  },
  {
   "cell_type": "code",
   "execution_count": 5,
   "metadata": {
    "execution": {
     "iopub.execute_input": "2020-08-19T10:11:50.829521Z",
     "iopub.status.busy": "2020-08-19T10:11:50.828909Z",
     "iopub.status.idle": "2020-08-19T10:11:51.776061Z",
     "shell.execute_reply": "2020-08-19T10:11:51.775569Z"
    },
    "papermill": {
     "duration": 0.978506,
     "end_time": "2020-08-19T10:11:51.776309",
     "exception": false,
     "start_time": "2020-08-19T10:11:50.797803",
     "status": "completed"
    },
    "tags": []
   },
   "outputs": [],
   "source": [
    "train_images = mnist.train_images()\n",
    "train_labels = mnist.train_labels()"
   ]
  },
  {
   "cell_type": "code",
   "execution_count": 6,
   "metadata": {
    "execution": {
     "iopub.execute_input": "2020-08-19T10:11:51.839258Z",
     "iopub.status.busy": "2020-08-19T10:11:51.838483Z",
     "iopub.status.idle": "2020-08-19T10:11:51.853054Z",
     "shell.execute_reply": "2020-08-19T10:11:51.853547Z"
    },
    "papermill": {
     "duration": 0.047457,
     "end_time": "2020-08-19T10:11:51.853685",
     "exception": false,
     "start_time": "2020-08-19T10:11:51.806228",
     "status": "completed"
    },
    "tags": []
   },
   "outputs": [
    {
     "data": {
      "text/plain": [
       "((60000, 28, 28), (60000,))"
      ]
     },
     "execution_count": 6,
     "metadata": {},
     "output_type": "execute_result"
    }
   ],
   "source": [
    "train_images.shape, train_labels.shape"
   ]
  },
  {
   "cell_type": "code",
   "execution_count": 7,
   "metadata": {
    "execution": {
     "iopub.execute_input": "2020-08-19T10:11:51.915955Z",
     "iopub.status.busy": "2020-08-19T10:11:51.915382Z",
     "iopub.status.idle": "2020-08-19T10:11:52.317549Z",
     "shell.execute_reply": "2020-08-19T10:11:52.316260Z"
    },
    "papermill": {
     "duration": 0.434839,
     "end_time": "2020-08-19T10:11:52.317697",
     "exception": false,
     "start_time": "2020-08-19T10:11:51.882858",
     "status": "completed"
    },
    "tags": []
   },
   "outputs": [],
   "source": [
    "test_images = mnist.test_images()\n",
    "test_labels = mnist.test_labels()"
   ]
  },
  {
   "cell_type": "code",
   "execution_count": 8,
   "metadata": {
    "execution": {
     "iopub.execute_input": "2020-08-19T10:11:52.382965Z",
     "iopub.status.busy": "2020-08-19T10:11:52.382270Z",
     "iopub.status.idle": "2020-08-19T10:11:52.392984Z",
     "shell.execute_reply": "2020-08-19T10:11:52.392469Z"
    },
    "papermill": {
     "duration": 0.046398,
     "end_time": "2020-08-19T10:11:52.393114",
     "exception": false,
     "start_time": "2020-08-19T10:11:52.346716",
     "status": "completed"
    },
    "tags": []
   },
   "outputs": [
    {
     "data": {
      "text/plain": [
       "((10000, 28, 28), (10000,))"
      ]
     },
     "execution_count": 8,
     "metadata": {},
     "output_type": "execute_result"
    }
   ],
   "source": [
    "test_images.shape, test_labels.shape"
   ]
  },
  {
   "cell_type": "code",
   "execution_count": 9,
   "metadata": {
    "execution": {
     "iopub.execute_input": "2020-08-19T10:11:52.457694Z",
     "iopub.status.busy": "2020-08-19T10:11:52.457081Z",
     "iopub.status.idle": "2020-08-19T10:11:52.607567Z",
     "shell.execute_reply": "2020-08-19T10:11:52.607067Z"
    },
    "papermill": {
     "duration": 0.183918,
     "end_time": "2020-08-19T10:11:52.607706",
     "exception": false,
     "start_time": "2020-08-19T10:11:52.423788",
     "status": "completed"
    },
    "tags": []
   },
   "outputs": [
    {
     "name": "stdout",
     "output_type": "stream",
     "text": [
      "2\n"
     ]
    },
    {
     "data": {
      "text/plain": [
       "<matplotlib.image.AxesImage at 0x7f8721a362b0>"
      ]
     },
     "execution_count": 9,
     "metadata": {},
     "output_type": "execute_result"
    },
    {
     "data": {
      "image/png": "[encoded data removed]",
      "text/plain": [
       "<Figure size 432x288 with 1 Axes>"
      ]
     },
     "metadata": {
      "needs_background": "light"
     },
     "output_type": "display_data"
    }
   ],
   "source": [
    "image_index = 7776 # You may select anything up to 60,000\n",
    "print(train_labels[image_index]) \n",
    "plt.imshow(train_images[image_index], cmap='Greys')"
   ]
  },
  {
   "cell_type": "markdown",
   "metadata": {
    "papermill": {
     "duration": 0.030339,
     "end_time": "2020-08-19T10:11:52.668923",
     "exception": false,
     "start_time": "2020-08-19T10:11:52.638584",
     "status": "completed"
    },
    "tags": []
   },
   "source": [
    "## Filter data to get 3 and 8 out"
   ]
  },
  {
   "cell_type": "code",
   "execution_count": 10,
   "metadata": {
    "execution": {
     "iopub.execute_input": "2020-08-19T10:11:52.737283Z",
     "iopub.status.busy": "2020-08-19T10:11:52.736668Z",
     "iopub.status.idle": "2020-08-19T10:11:52.755502Z",
     "shell.execute_reply": "2020-08-19T10:11:52.756042Z"
    },
    "papermill": {
     "duration": 0.056415,
     "end_time": "2020-08-19T10:11:52.756222",
     "exception": false,
     "start_time": "2020-08-19T10:11:52.699807",
     "status": "completed"
    },
    "tags": []
   },
   "outputs": [],
   "source": [
    "train_filter = np.where((train_labels == 3 ) | (train_labels == 8))\n",
    "test_filter = np.where((test_labels == 3) | (test_labels == 8))\n",
    "X_train, y_train = train_images[train_filter], train_labels[train_filter]\n",
    "X_test, y_test = test_images[test_filter], test_labels[test_filter]"
   ]
  },
  {
   "cell_type": "markdown",
   "metadata": {
    "papermill": {
     "duration": 0.030709,
     "end_time": "2020-08-19T10:11:52.819022",
     "exception": false,
     "start_time": "2020-08-19T10:11:52.788313",
     "status": "completed"
    },
    "tags": []
   },
   "source": [
    "##### We normalize the pizel values in the 0 to 1 range"
   ]
  },
  {
   "cell_type": "code",
   "execution_count": 11,
   "metadata": {
    "execution": {
     "iopub.execute_input": "2020-08-19T10:11:52.884075Z",
     "iopub.status.busy": "2020-08-19T10:11:52.883479Z",
     "iopub.status.idle": "2020-08-19T10:11:52.937441Z",
     "shell.execute_reply": "2020-08-19T10:11:52.936778Z"
    },
    "papermill": {
     "duration": 0.088098,
     "end_time": "2020-08-19T10:11:52.937601",
     "exception": false,
     "start_time": "2020-08-19T10:11:52.849503",
     "status": "completed"
    },
    "tags": []
   },
   "outputs": [],
   "source": [
    "X_train = X_train/255.\n",
    "X_test = X_test/255."
   ]
  },
  {
   "cell_type": "markdown",
   "metadata": {
    "papermill": {
     "duration": 0.031429,
     "end_time": "2020-08-19T10:11:53.001105",
     "exception": false,
     "start_time": "2020-08-19T10:11:52.969676",
     "status": "completed"
    },
    "tags": []
   },
   "source": [
    "And setup the labels as 1 (when the digit is 3) and 0 (when the digit is 8)"
   ]
  },
  {
   "cell_type": "code",
   "execution_count": 12,
   "metadata": {
    "execution": {
     "iopub.execute_input": "2020-08-19T10:11:53.066684Z",
     "iopub.status.busy": "2020-08-19T10:11:53.066108Z",
     "iopub.status.idle": "2020-08-19T10:11:53.079312Z",
     "shell.execute_reply": "2020-08-19T10:11:53.078801Z"
    },
    "papermill": {
     "duration": 0.047816,
     "end_time": "2020-08-19T10:11:53.079440",
     "exception": false,
     "start_time": "2020-08-19T10:11:53.031624",
     "status": "completed"
    },
    "tags": []
   },
   "outputs": [],
   "source": [
    "y_train = 1*(y_train==3)\n",
    "y_test = 1*(y_test==3)"
   ]
  },
  {
   "cell_type": "code",
   "execution_count": 13,
   "metadata": {
    "execution": {
     "iopub.execute_input": "2020-08-19T10:11:53.145305Z",
     "iopub.status.busy": "2020-08-19T10:11:53.144732Z",
     "iopub.status.idle": "2020-08-19T10:11:53.159125Z",
     "shell.execute_reply": "2020-08-19T10:11:53.158624Z"
    },
    "papermill": {
     "duration": 0.04875,
     "end_time": "2020-08-19T10:11:53.159251",
     "exception": false,
     "start_time": "2020-08-19T10:11:53.110501",
     "status": "completed"
    },
    "tags": []
   },
   "outputs": [
    {
     "data": {
      "text/plain": [
       "((11982, 28, 28), (1984, 28, 28))"
      ]
     },
     "execution_count": 13,
     "metadata": {},
     "output_type": "execute_result"
    }
   ],
   "source": [
    "X_train.shape, X_test.shape"
   ]
  },
  {
   "cell_type": "markdown",
   "metadata": {
    "papermill": {
     "duration": 0.031012,
     "end_time": "2020-08-19T10:11:53.221384",
     "exception": false,
     "start_time": "2020-08-19T10:11:53.190372",
     "status": "completed"
    },
    "tags": []
   },
   "source": [
    "##### We reshape the data to flatten the image pixels into a set of features or co-variates:"
   ]
  },
  {
   "cell_type": "code",
   "execution_count": 14,
   "metadata": {
    "execution": {
     "iopub.execute_input": "2020-08-19T10:11:53.289233Z",
     "iopub.status.busy": "2020-08-19T10:11:53.288649Z",
     "iopub.status.idle": "2020-08-19T10:11:53.303278Z",
     "shell.execute_reply": "2020-08-19T10:11:53.302768Z"
    },
    "papermill": {
     "duration": 0.049598,
     "end_time": "2020-08-19T10:11:53.303406",
     "exception": false,
     "start_time": "2020-08-19T10:11:53.253808",
     "status": "completed"
    },
    "tags": []
   },
   "outputs": [
    {
     "data": {
      "text/plain": [
       "((11982, 784), (1984, 784))"
      ]
     },
     "execution_count": 14,
     "metadata": {},
     "output_type": "execute_result"
    }
   ],
   "source": [
    "X_train = X_train.reshape(X_train.shape[0], -1)\n",
    "X_test = X_test.reshape(X_test.shape[0], -1)\n",
    "X_train.shape, X_test.shape"
   ]
  },
  {
   "cell_type": "markdown",
   "metadata": {
    "papermill": {
     "duration": 0.030814,
     "end_time": "2020-08-19T10:11:53.366544",
     "exception": false,
     "start_time": "2020-08-19T10:11:53.335730",
     "status": "completed"
    },
    "tags": []
   },
   "source": [
    "##### Importing Kudzu library and its functionality"
   ]
  },
  {
   "cell_type": "code",
   "execution_count": 15,
   "metadata": {
    "execution": {
     "iopub.execute_input": "2020-08-19T10:11:53.436457Z",
     "iopub.status.busy": "2020-08-19T10:11:53.435831Z",
     "iopub.status.idle": "2020-08-19T10:11:53.456994Z",
     "shell.execute_reply": "2020-08-19T10:11:53.456423Z"
    },
    "papermill": {
     "duration": 0.059048,
     "end_time": "2020-08-19T10:11:53.457129",
     "exception": false,
     "start_time": "2020-08-19T10:11:53.398081",
     "status": "completed"
    },
    "tags": []
   },
   "outputs": [],
   "source": [
    "from kudzu.data import Data, Dataloader, Sampler\n",
    "from kudzu.callbacks import AccCallback\n",
    "from kudzu.loss import MSE\n",
    "from kudzu.layer import Affine, Sigmoid\n",
    "from kudzu.model import Model\n",
    "from kudzu.optim import GD\n",
    "from kudzu.train import Learner\n",
    "from kudzu.callbacks import ClfCallback\n",
    "from kudzu.layer import Sigmoid\n",
    "from kudzu.layer import Relu"
   ]
  },
  {
   "cell_type": "markdown",
   "metadata": {
    "papermill": {
     "duration": 0.03346,
     "end_time": "2020-08-19T10:11:53.525090",
     "exception": false,
     "start_time": "2020-08-19T10:11:53.491630",
     "status": "completed"
    },
    "tags": []
   },
   "source": [
    "##### We are creating a class, just so that we can use it to store our parameters for us"
   ]
  },
  {
   "cell_type": "code",
   "execution_count": 16,
   "metadata": {
    "execution": {
     "iopub.execute_input": "2020-08-19T10:11:53.594707Z",
     "iopub.status.busy": "2020-08-19T10:11:53.594108Z",
     "iopub.status.idle": "2020-08-19T10:11:53.606940Z",
     "shell.execute_reply": "2020-08-19T10:11:53.606465Z"
    },
    "papermill": {
     "duration": 0.049243,
     "end_time": "2020-08-19T10:11:53.607077",
     "exception": false,
     "start_time": "2020-08-19T10:11:53.557834",
     "status": "completed"
    },
    "tags": []
   },
   "outputs": [],
   "source": [
    "class Config:\n",
    "    pass\n",
    "config = Config()\n",
    "config.lr = 0.001\n",
    "config.num_epochs = 250\n",
    "config.bs = 50"
   ]
  },
  {
   "cell_type": "markdown",
   "metadata": {
    "papermill": {
     "duration": 0.031192,
     "end_time": "2020-08-19T10:11:53.669763",
     "exception": false,
     "start_time": "2020-08-19T10:11:53.638571",
     "status": "completed"
    },
    "tags": []
   },
   "source": [
    "##### Initializing Data"
   ]
  },
  {
   "cell_type": "code",
   "execution_count": 17,
   "metadata": {
    "execution": {
     "iopub.execute_input": "2020-08-19T10:11:53.739144Z",
     "iopub.status.busy": "2020-08-19T10:11:53.738558Z",
     "iopub.status.idle": "2020-08-19T10:11:53.751645Z",
     "shell.execute_reply": "2020-08-19T10:11:53.751162Z"
    },
    "papermill": {
     "duration": 0.050399,
     "end_time": "2020-08-19T10:11:53.751778",
     "exception": false,
     "start_time": "2020-08-19T10:11:53.701379",
     "status": "completed"
    },
    "tags": []
   },
   "outputs": [],
   "source": [
    "data = Data(X_train, y_train.reshape(-1,1))\n",
    "loss = MSE()\n",
    "opt = GD(config.lr)\n",
    "sampler = Sampler(data, config.bs, shuffle=True)\n",
    "dl = Dataloader(data, sampler)"
   ]
  },
  {
   "cell_type": "markdown",
   "metadata": {
    "papermill": {
     "duration": 0.031484,
     "end_time": "2020-08-19T10:11:53.814897",
     "exception": false,
     "start_time": "2020-08-19T10:11:53.783413",
     "status": "completed"
    },
    "tags": []
   },
   "source": [
    "##### Constructing 2 different layers, one for NN and one only for logistic regression."
   ]
  },
  {
   "cell_type": "markdown",
   "metadata": {
    "papermill": {
     "duration": 0.032941,
     "end_time": "2020-08-19T10:11:53.878873",
     "exception": false,
     "start_time": "2020-08-19T10:11:53.845932",
     "status": "completed"
    },
    "tags": []
   },
   "source": [
    "##### Creating containers for data to be passed, to calculate accuracies"
   ]
  },
  {
   "cell_type": "code",
   "execution_count": 18,
   "metadata": {
    "execution": {
     "iopub.execute_input": "2020-08-19T10:11:53.947818Z",
     "iopub.status.busy": "2020-08-19T10:11:53.947114Z",
     "iopub.status.idle": "2020-08-19T10:11:53.960100Z",
     "shell.execute_reply": "2020-08-19T10:11:53.959580Z"
    },
    "papermill": {
     "duration": 0.049596,
     "end_time": "2020-08-19T10:11:53.960231",
     "exception": false,
     "start_time": "2020-08-19T10:11:53.910635",
     "status": "completed"
    },
    "tags": []
   },
   "outputs": [],
   "source": [
    "training_xdata = X_train\n",
    "testing_xdata = X_test\n",
    "training_ydata = y_train.reshape(-1,1)\n",
    "testing_ydata = y_test.reshape(-1,1)"
   ]
  },
  {
   "cell_type": "markdown",
   "metadata": {
    "papermill": {
     "duration": 0.031168,
     "end_time": "2020-08-19T10:11:54.023275",
     "exception": false,
     "start_time": "2020-08-19T10:11:53.992107",
     "status": "completed"
    },
    "tags": []
   },
   "source": [
    "##### Initializing models and Running training loop: "
   ]
  },
  {
   "cell_type": "code",
   "execution_count": 19,
   "metadata": {
    "execution": {
     "iopub.execute_input": "2020-08-19T10:11:54.090960Z",
     "iopub.status.busy": "2020-08-19T10:11:54.090243Z",
     "iopub.status.idle": "2020-08-19T10:11:54.107906Z",
     "shell.execute_reply": "2020-08-19T10:11:54.107421Z"
    },
    "papermill": {
     "duration": 0.053518,
     "end_time": "2020-08-19T10:11:54.108049",
     "exception": false,
     "start_time": "2020-08-19T10:11:54.054531",
     "status": "completed"
    },
    "tags": []
   },
   "outputs": [],
   "source": [
    "layers = [Affine(\"first\", 784, 100), Relu(\"first\"), Affine(\"second\", 100, 100), Relu(\"second\"), Affine(\"third\", 100, 2), Affine(\"final\", 2, 1), Sigmoid(\"final\")]\n",
    "\n",
    "model_neural = Model(layers)\n",
    "model_logistic = Model([Affine(\"logits\", 784, 1), Sigmoid(\"sigmoid\")])"
   ]
  },
  {
   "cell_type": "code",
   "execution_count": 20,
   "metadata": {
    "execution": {
     "iopub.execute_input": "2020-08-19T10:11:54.175522Z",
     "iopub.status.busy": "2020-08-19T10:11:54.174944Z",
     "iopub.status.idle": "2020-08-19T10:11:54.188234Z",
     "shell.execute_reply": "2020-08-19T10:11:54.188712Z"
    },
    "papermill": {
     "duration": 0.049387,
     "end_time": "2020-08-19T10:11:54.188856",
     "exception": false,
     "start_time": "2020-08-19T10:11:54.139469",
     "status": "completed"
    },
    "tags": []
   },
   "outputs": [],
   "source": [
    "learner1 = Learner(loss, model_neural, opt, config.num_epochs)\n",
    "acc1 = ClfCallback(learner1, config.bs, training_xdata , testing_xdata, training_ydata, testing_ydata)\n",
    "learner1.set_callbacks([acc1])"
   ]
  },
  {
   "cell_type": "code",
   "execution_count": 21,
   "metadata": {
    "execution": {
     "iopub.execute_input": "2020-08-19T10:11:54.260242Z",
     "iopub.status.busy": "2020-08-19T10:11:54.259656Z",
     "iopub.status.idle": "2020-08-19T10:13:22.662984Z",
     "shell.execute_reply": "2020-08-19T10:13:22.663802Z"
    },
    "papermill": {
     "duration": 88.442881,
     "end_time": "2020-08-19T10:13:22.663963",
     "exception": false,
     "start_time": "2020-08-19T10:11:54.221082",
     "status": "completed"
    },
    "tags": []
   },
   "outputs": [
    {
     "name": "stdout",
     "output_type": "stream",
     "text": [
      "Epoch 0 Loss 0.2495013995323291\n",
      "train accuracy is: 0.5371390418961776, test accuracy is 0.545866935483871\n"
     ]
    },
    {
     "name": "stdout",
     "output_type": "stream",
     "text": [
      "Epoch 10 Loss 0.23763910896189866\n",
      "train accuracy is: 0.7981138374228008, test accuracy is 0.8069556451612904\n"
     ]
    },
    {
     "name": "stdout",
     "output_type": "stream",
     "text": [
      "Epoch 20 Loss 0.18018058812181187\n",
      "train accuracy is: 0.871724253046236, test accuracy is 0.8840725806451613\n"
     ]
    },
    {
     "name": "stdout",
     "output_type": "stream",
     "text": [
      "Epoch 30 Loss 0.09005858334879926\n",
      "train accuracy is: 0.9090302119846436, test accuracy is 0.9178427419354839\n"
     ]
    },
    {
     "name": "stdout",
     "output_type": "stream",
     "text": [
      "Epoch 40 Loss 0.05970931264185905\n",
      "train accuracy is: 0.9344016024036054, test accuracy is 0.9450604838709677\n"
     ]
    },
    {
     "name": "stdout",
     "output_type": "stream",
     "text": [
      "Epoch 50 Loss 0.04694979929547441\n",
      "train accuracy is: 0.9469203805708563, test accuracy is 0.9576612903225806\n"
     ]
    },
    {
     "name": "stdout",
     "output_type": "stream",
     "text": [
      "Epoch 60 Loss 0.040257124830906356\n",
      "train accuracy is: 0.9547654815556669, test accuracy is 0.9621975806451613\n"
     ]
    },
    {
     "name": "stdout",
     "output_type": "stream",
     "text": [
      "Epoch 70 Loss 0.036190037321908314\n",
      "train accuracy is: 0.958103822400267, test accuracy is 0.9647177419354839\n"
     ]
    },
    {
     "name": "stdout",
     "output_type": "stream",
     "text": [
      "Epoch 80 Loss 0.033427108328641236\n",
      "train accuracy is: 0.9614421632448673, test accuracy is 0.9657258064516129\n"
     ]
    },
    {
     "name": "stdout",
     "output_type": "stream",
     "text": [
      "Epoch 90 Loss 0.03137591541167859\n",
      "train accuracy is: 0.9636120847938574, test accuracy is 0.96875\n"
     ]
    },
    {
     "name": "stdout",
     "output_type": "stream",
     "text": [
      "Epoch 100 Loss 0.02975881025403082\n",
      "train accuracy is: 0.9646135870472375, test accuracy is 0.969758064516129\n"
     ]
    },
    {
     "name": "stdout",
     "output_type": "stream",
     "text": [
      "Epoch 110 Loss 0.028429108477329133\n",
      "train accuracy is: 0.9667000500751126, test accuracy is 0.969758064516129\n"
     ]
    },
    {
     "name": "stdout",
     "output_type": "stream",
     "text": [
      "Epoch 120 Loss 0.027312169867235916\n",
      "train accuracy is: 0.9681188449340677, test accuracy is 0.9692540322580645\n"
     ]
    },
    {
     "name": "stdout",
     "output_type": "stream",
     "text": [
      "Epoch 130 Loss 0.02635525922363569\n",
      "train accuracy is: 0.9690368886663329, test accuracy is 0.9692540322580645\n"
     ]
    },
    {
     "name": "stdout",
     "output_type": "stream",
     "text": [
      "Epoch 140 Loss 0.025514292928723693\n",
      "train accuracy is: 0.9697880153563679, test accuracy is 0.96875\n"
     ]
    },
    {
     "name": "stdout",
     "output_type": "stream",
     "text": [
      "Epoch 150 Loss 0.024776327336635446\n",
      "train accuracy is: 0.971290268736438, test accuracy is 0.9692540322580645\n"
     ]
    },
    {
     "name": "stdout",
     "output_type": "stream",
     "text": [
      "Epoch 160 Loss 0.024110028488336405\n",
      "train accuracy is: 0.9721248539475881, test accuracy is 0.9702620967741935\n"
     ]
    },
    {
     "name": "stdout",
     "output_type": "stream",
     "text": [
      "Epoch 170 Loss 0.023510591600127247\n",
      "train accuracy is: 0.9731263562009681, test accuracy is 0.9702620967741935\n"
     ]
    },
    {
     "name": "stdout",
     "output_type": "stream",
     "text": [
      "Epoch 180 Loss 0.022956399252166807\n",
      "train accuracy is: 0.9739609414121182, test accuracy is 0.9712701612903226\n"
     ]
    },
    {
     "name": "stdout",
     "output_type": "stream",
     "text": [
      "Epoch 190 Loss 0.022435542834635676\n",
      "train accuracy is: 0.9742113169754631, test accuracy is 0.9717741935483871\n"
     ]
    },
    {
     "name": "stdout",
     "output_type": "stream",
     "text": [
      "Epoch 200 Loss 0.021943272328051173\n",
      "train accuracy is: 0.9750459021866132, test accuracy is 0.9717741935483871\n"
     ]
    },
    {
     "name": "stdout",
     "output_type": "stream",
     "text": [
      "Epoch 210 Loss 0.021477193072944073\n",
      "train accuracy is: 0.9757970288766483, test accuracy is 0.9727822580645161\n"
     ]
    },
    {
     "name": "stdout",
     "output_type": "stream",
     "text": [
      "Epoch 220 Loss 0.021055521677045604\n",
      "train accuracy is: 0.9763812385244534, test accuracy is 0.9737903225806451\n"
     ]
    },
    {
     "name": "stdout",
     "output_type": "stream",
     "text": [
      "Epoch 230 Loss 0.020649325627260857\n",
      "train accuracy is: 0.9767985311300283, test accuracy is 0.9737903225806451\n"
     ]
    },
    {
     "name": "stdout",
     "output_type": "stream",
     "text": [
      "Epoch 240 Loss 0.02026074530548085\n",
      "train accuracy is: 0.9768819896511434, test accuracy is 0.9737903225806451\n"
     ]
    },
    {
     "data": {
      "text/plain": [
       "0.05780505775565736"
      ]
     },
     "execution_count": 21,
     "metadata": {},
     "output_type": "execute_result"
    }
   ],
   "source": [
    "learner1.train_loop(dl)"
   ]
  },
  {
   "cell_type": "markdown",
   "metadata": {
    "papermill": {
     "duration": 0.039262,
     "end_time": "2020-08-19T10:13:22.743243",
     "exception": false,
     "start_time": "2020-08-19T10:13:22.703981",
     "status": "completed"
    },
    "tags": []
   },
   "source": [
    "##### Now running only the logistic regression based classification to compare results with NN"
   ]
  },
  {
   "cell_type": "code",
   "execution_count": 22,
   "metadata": {
    "execution": {
     "iopub.execute_input": "2020-08-19T10:13:22.828445Z",
     "iopub.status.busy": "2020-08-19T10:13:22.825872Z",
     "iopub.status.idle": "2020-08-19T10:13:22.839323Z",
     "shell.execute_reply": "2020-08-19T10:13:22.838812Z"
    },
    "papermill": {
     "duration": 0.057655,
     "end_time": "2020-08-19T10:13:22.839453",
     "exception": false,
     "start_time": "2020-08-19T10:13:22.781798",
     "status": "completed"
    },
    "tags": []
   },
   "outputs": [],
   "source": [
    "learner2 = Learner(loss, model_logistic, opt, config.num_epochs)\n",
    "acc2 = ClfCallback(learner2, config.bs, training_xdata , testing_xdata, training_ydata, testing_ydata)\n",
    "learner2.set_callbacks([acc2])"
   ]
  },
  {
   "cell_type": "code",
   "execution_count": 23,
   "metadata": {
    "execution": {
     "iopub.execute_input": "2020-08-19T10:13:22.922187Z",
     "iopub.status.busy": "2020-08-19T10:13:22.921216Z",
     "iopub.status.idle": "2020-08-19T10:13:39.998604Z",
     "shell.execute_reply": "2020-08-19T10:13:39.999158Z"
    },
    "papermill": {
     "duration": 17.120815,
     "end_time": "2020-08-19T10:13:39.999311",
     "exception": false,
     "start_time": "2020-08-19T10:13:22.878496",
     "status": "completed"
    },
    "tags": []
   },
   "outputs": [
    {
     "name": "stdout",
     "output_type": "stream",
     "text": [
      "Epoch 0 Loss 0.25071657893150434\n",
      "train accuracy is: 0.6652478718077116, test accuracy is 0.6386088709677419\n"
     ]
    },
    {
     "name": "stdout",
     "output_type": "stream",
     "text": [
      "Epoch 10 Loss 0.10147492053555363\n",
      "train accuracy is: 0.9178768152228343, test accuracy is 0.9284274193548387\n"
     ]
    },
    {
     "name": "stdout",
     "output_type": "stream",
     "text": [
      "Epoch 20 Loss 0.07827795720554662\n",
      "train accuracy is: 0.929561008178935, test accuracy is 0.9395161290322581\n"
     ]
    },
    {
     "name": "stdout",
     "output_type": "stream",
     "text": [
      "Epoch 30 Loss 0.06764579696314621\n",
      "train accuracy is: 0.9358203972625605, test accuracy is 0.9475806451612904\n"
     ]
    },
    {
     "name": "stdout",
     "output_type": "stream",
     "text": [
      "Epoch 40 Loss 0.0612122661569746\n",
      "train accuracy is: 0.9414121181772659, test accuracy is 0.9511088709677419\n"
     ]
    },
    {
     "name": "stdout",
     "output_type": "stream",
     "text": [
      "Epoch 50 Loss 0.05679903199693006\n",
      "train accuracy is: 0.9439158738107161, test accuracy is 0.9536290322580645\n"
     ]
    },
    {
     "name": "stdout",
     "output_type": "stream",
     "text": [
      "Epoch 60 Loss 0.05354321274167929\n",
      "train accuracy is: 0.9467534635286263, test accuracy is 0.9571572580645161\n"
     ]
    },
    {
     "name": "stdout",
     "output_type": "stream",
     "text": [
      "Epoch 70 Loss 0.051016033334807455\n",
      "train accuracy is: 0.9491737606409615, test accuracy is 0.9581653225806451\n"
     ]
    },
    {
     "name": "stdout",
     "output_type": "stream",
     "text": [
      "Epoch 80 Loss 0.04898504323918509\n",
      "train accuracy is: 0.9511767651477215, test accuracy is 0.9601814516129032\n"
     ]
    },
    {
     "name": "stdout",
     "output_type": "stream",
     "text": [
      "Epoch 90 Loss 0.04730651169957166\n",
      "train accuracy is: 0.9522617259222167, test accuracy is 0.9606854838709677\n"
     ]
    },
    {
     "name": "stdout",
     "output_type": "stream",
     "text": [
      "Epoch 100 Loss 0.045891181698677515\n",
      "train accuracy is: 0.9531797696544817, test accuracy is 0.9627016129032258\n"
     ]
    },
    {
     "name": "stdout",
     "output_type": "stream",
     "text": [
      "Epoch 110 Loss 0.04467620938469843\n",
      "train accuracy is: 0.9543481889500918, test accuracy is 0.9637096774193549\n"
     ]
    },
    {
     "name": "stdout",
     "output_type": "stream",
     "text": [
      "Epoch 120 Loss 0.04361779327125623\n",
      "train accuracy is: 0.9555166082457018, test accuracy is 0.9647177419354839\n"
     ]
    },
    {
     "name": "stdout",
     "output_type": "stream",
     "text": [
      "Epoch 130 Loss 0.04268652747481024\n",
      "train accuracy is: 0.9559339008512769, test accuracy is 0.9657258064516129\n"
     ]
    },
    {
     "name": "stdout",
     "output_type": "stream",
     "text": [
      "Epoch 140 Loss 0.04185695808749965\n",
      "train accuracy is: 0.956518110499082, test accuracy is 0.9662298387096774\n"
     ]
    },
    {
     "name": "stdout",
     "output_type": "stream",
     "text": [
      "Epoch 150 Loss 0.04111418224436157\n",
      "train accuracy is: 0.957102320146887, test accuracy is 0.9667338709677419\n"
     ]
    },
    {
     "name": "stdout",
     "output_type": "stream",
     "text": [
      "Epoch 160 Loss 0.04044094399975011\n",
      "train accuracy is: 0.957603071273577, test accuracy is 0.9672379032258065\n"
     ]
    },
    {
     "name": "stdout",
     "output_type": "stream",
     "text": [
      "Epoch 170 Loss 0.039828940782097644\n",
      "train accuracy is: 0.9581872809213821, test accuracy is 0.967741935483871\n"
     ]
    },
    {
     "name": "stdout",
     "output_type": "stream",
     "text": [
      "Epoch 180 Loss 0.039268857038508485\n",
      "train accuracy is: 0.9583541979636121, test accuracy is 0.967741935483871\n"
     ]
    },
    {
     "name": "stdout",
     "output_type": "stream",
     "text": [
      "Epoch 190 Loss 0.038753391151709095\n",
      "train accuracy is: 0.9591053246536472, test accuracy is 0.9682459677419355\n"
     ]
    },
    {
     "name": "stdout",
     "output_type": "stream",
     "text": [
      "Epoch 200 Loss 0.0382774407852857\n",
      "train accuracy is: 0.9595226172592222, test accuracy is 0.9682459677419355\n"
     ]
    },
    {
     "name": "stdout",
     "output_type": "stream",
     "text": [
      "Epoch 210 Loss 0.037835903923340804\n",
      "train accuracy is: 0.9598564513436821, test accuracy is 0.96875\n"
     ]
    },
    {
     "name": "stdout",
     "output_type": "stream",
     "text": [
      "Epoch 220 Loss 0.0374239134157381\n",
      "train accuracy is: 0.9600233683859122, test accuracy is 0.96875\n"
     ]
    },
    {
     "name": "stdout",
     "output_type": "stream",
     "text": [
      "Epoch 230 Loss 0.037039392990427834\n",
      "train accuracy is: 0.9602737439492572, test accuracy is 0.9682459677419355\n"
     ]
    },
    {
     "name": "stdout",
     "output_type": "stream",
     "text": [
      "Epoch 240 Loss 0.03667880261328245\n",
      "train accuracy is: 0.9607744950759473, test accuracy is 0.9682459677419355\n"
     ]
    },
    {
     "data": {
      "text/plain": [
       "0.063980195659034"
      ]
     },
     "execution_count": 23,
     "metadata": {},
     "output_type": "execute_result"
    }
   ],
   "source": [
    "learner2.train_loop(dl)"
   ]
  },
  {
   "cell_type": "markdown",
   "metadata": {
    "papermill": {
     "duration": 0.046674,
     "end_time": "2020-08-19T10:13:40.092841",
     "exception": false,
     "start_time": "2020-08-19T10:13:40.046167",
     "status": "completed"
    },
    "tags": []
   },
   "source": [
    "### Comparing results of NN and LR"
   ]
  },
  {
   "cell_type": "code",
   "execution_count": 24,
   "metadata": {
    "execution": {
     "iopub.execute_input": "2020-08-19T10:13:40.193340Z",
     "iopub.status.busy": "2020-08-19T10:13:40.192712Z",
     "iopub.status.idle": "2020-08-19T10:13:40.420887Z",
     "shell.execute_reply": "2020-08-19T10:13:40.420365Z"
    },
    "papermill": {
     "duration": 0.279922,
     "end_time": "2020-08-19T10:13:40.421021",
     "exception": false,
     "start_time": "2020-08-19T10:13:40.141099",
     "status": "completed"
    },
    "tags": []
   },
   "outputs": [
    {
     "data": {
      "text/plain": [
       "<matplotlib.legend.Legend at 0x7f872160d978>"
      ]
     },
     "execution_count": 24,
     "metadata": {},
     "output_type": "execute_result"
    },
    {
     "data": {
      "image/png": "[encoded data removed]",
      "text/plain": [
       "<Figure size 576x360 with 1 Axes>"
      ]
     },
     "metadata": {
      "needs_background": "light"
     },
     "output_type": "display_data"
    }
   ],
   "source": [
    "plt.figure(figsize=(8,5))\n",
    "plt.plot(acc1.val_accuracies, 'g-', label = \"Val Accuracies - NN\")\n",
    "plt.plot(acc1.accuracies, 'r-', label = \"Accuracies - NN\")\n",
    "plt.plot(acc2.val_accuracies, 'b-', label = \"Val Accuracies - Logistic Reg\")\n",
    "plt.plot(acc2.accuracies, 'k-', label = \"Accuracies - Logistic Reg\")\n",
    "plt.ylim(0.8,1) ## for a more spread out view\n",
    "plt.legend()"
   ]
  },
  {
   "cell_type": "markdown",
   "metadata": {
    "papermill": {
     "duration": 0.048424,
     "end_time": "2020-08-19T10:13:40.517474",
     "exception": false,
     "start_time": "2020-08-19T10:13:40.469050",
     "status": "completed"
    },
    "tags": []
   },
   "source": [
    "### Clearly NN has a better accuracy over LR; NN is overfitting - Validation accuracy (green) has dropped below training accuracy (orange), also they are diverging. This problem is not seen in LR"
   ]
  },
  {
   "cell_type": "markdown",
   "metadata": {
    "papermill": {
     "duration": 0.048353,
     "end_time": "2020-08-19T10:13:40.614510",
     "exception": false,
     "start_time": "2020-08-19T10:13:40.566157",
     "status": "completed"
    },
    "tags": []
   },
   "source": [
    "##### Now we will be moving through the network, till the output of the second last affine where we get a 2 dimensional output. We will be plotting this 2d output and probability contours"
   ]
  },
  {
   "cell_type": "code",
   "execution_count": 25,
   "metadata": {
    "execution": {
     "iopub.execute_input": "2020-08-19T10:13:40.716263Z",
     "iopub.status.busy": "2020-08-19T10:13:40.715617Z",
     "iopub.status.idle": "2020-08-19T10:13:40.728147Z",
     "shell.execute_reply": "2020-08-19T10:13:40.727607Z"
    },
    "papermill": {
     "duration": 0.065405,
     "end_time": "2020-08-19T10:13:40.728276",
     "exception": false,
     "start_time": "2020-08-19T10:13:40.662871",
     "status": "completed"
    },
    "tags": []
   },
   "outputs": [],
   "source": [
    "model_new = Model(layers[:-2])"
   ]
  },
  {
   "cell_type": "code",
   "execution_count": 26,
   "metadata": {
    "execution": {
     "iopub.execute_input": "2020-08-19T10:13:40.828961Z",
     "iopub.status.busy": "2020-08-19T10:13:40.828372Z",
     "iopub.status.idle": "2020-08-19T10:13:40.850872Z",
     "shell.execute_reply": "2020-08-19T10:13:40.851384Z"
    },
    "papermill": {
     "duration": 0.075068,
     "end_time": "2020-08-19T10:13:40.851542",
     "exception": false,
     "start_time": "2020-08-19T10:13:40.776474",
     "status": "completed"
    },
    "tags": []
   },
   "outputs": [],
   "source": [
    "plot_testing = model_new(testing_xdata)"
   ]
  },
  {
   "cell_type": "markdown",
   "metadata": {
    "papermill": {
     "duration": 0.048166,
     "end_time": "2020-08-19T10:13:40.947968",
     "exception": false,
     "start_time": "2020-08-19T10:13:40.899802",
     "status": "completed"
    },
    "tags": []
   },
   "source": [
    "##### Plotting the scatter plot of points and color coding by class"
   ]
  },
  {
   "cell_type": "code",
   "execution_count": 27,
   "metadata": {
    "execution": {
     "iopub.execute_input": "2020-08-19T10:13:41.082706Z",
     "iopub.status.busy": "2020-08-19T10:13:41.082090Z",
     "iopub.status.idle": "2020-08-19T10:13:41.276678Z",
     "shell.execute_reply": "2020-08-19T10:13:41.276077Z"
    },
    "papermill": {
     "duration": 0.281058,
     "end_time": "2020-08-19T10:13:41.276815",
     "exception": false,
     "start_time": "2020-08-19T10:13:40.995757",
     "status": "completed"
    },
    "tags": []
   },
   "outputs": [
    {
     "data": {
      "image/png": "[encoded data removed]",
      "text/plain": [
       "<Figure size 576x504 with 1 Axes>"
      ]
     },
     "metadata": {
      "needs_background": "light"
     },
     "output_type": "display_data"
    }
   ],
   "source": [
    "plt.figure(figsize=(8,7))\n",
    "plt.scatter(plot_testing[:,0], plot_testing[:,1], alpha = 0.1, c = y_test.ravel());"
   ]
  },
  {
   "cell_type": "markdown",
   "metadata": {
    "papermill": {
     "duration": 0.049995,
     "end_time": "2020-08-19T10:13:41.384183",
     "exception": false,
     "start_time": "2020-08-19T10:13:41.334188",
     "status": "completed"
    },
    "tags": []
   },
   "source": [
    "##### Plotting probability contours"
   ]
  },
  {
   "cell_type": "code",
   "execution_count": 28,
   "metadata": {
    "execution": {
     "iopub.execute_input": "2020-08-19T10:13:41.487000Z",
     "iopub.status.busy": "2020-08-19T10:13:41.486414Z",
     "iopub.status.idle": "2020-08-19T10:13:41.499027Z",
     "shell.execute_reply": "2020-08-19T10:13:41.498471Z"
    },
    "papermill": {
     "duration": 0.06578,
     "end_time": "2020-08-19T10:13:41.499161",
     "exception": false,
     "start_time": "2020-08-19T10:13:41.433381",
     "status": "completed"
    },
    "tags": []
   },
   "outputs": [],
   "source": [
    "model_prob = Model(layers[-2:]) ## picking only last two layers to get probability. That is affine followed by sigmoid"
   ]
  },
  {
   "cell_type": "code",
   "execution_count": 29,
   "metadata": {
    "execution": {
     "iopub.execute_input": "2020-08-19T10:13:41.602865Z",
     "iopub.status.busy": "2020-08-19T10:13:41.602277Z",
     "iopub.status.idle": "2020-08-19T10:13:41.617058Z",
     "shell.execute_reply": "2020-08-19T10:13:41.617542Z"
    },
    "papermill": {
     "duration": 0.068302,
     "end_time": "2020-08-19T10:13:41.617705",
     "exception": false,
     "start_time": "2020-08-19T10:13:41.549403",
     "status": "completed"
    },
    "tags": []
   },
   "outputs": [],
   "source": [
    "xgrid = np.linspace(-4, 1, 100) ## Adjust these values based on above chart, roughly -4 to 1\n",
    "ygrid = np.linspace(-7.5, 7.5, 100) ## Adjust these values based on above chart, roughly -7.5, 7.5\n",
    "xg, yg = np.meshgrid(xgrid, ygrid)\n",
    "# xg and yg are now both 100X100, lets convert them to single arrays \n",
    "\n",
    "xg_interim = np.ravel(xg)\n",
    "yg_interim = np.ravel(yg)\n",
    "\n",
    "## xg_interim, yg_interim are now arrays of len 10000, now we will stack them and then transpose to get desired shape of n rows, 2 columns\n",
    "\n",
    "X_interim = np.vstack((xg_interim, yg_interim)) ## Please note vstack takes in a tuple\n",
    "X = X_interim.T\n",
    "\n",
    "## We want a shape of n rows and 2 columns to be able to feed this to last affine\n",
    "## This last affine takes only two columns, hence the above transformation\n",
    "probability_contour = model_prob(X).reshape(100,100) ## to make it consistent with xg, yg"
   ]
  },
  {
   "cell_type": "code",
   "execution_count": 30,
   "metadata": {
    "execution": {
     "iopub.execute_input": "2020-08-19T10:13:41.722930Z",
     "iopub.status.busy": "2020-08-19T10:13:41.722348Z",
     "iopub.status.idle": "2020-08-19T10:13:41.963625Z",
     "shell.execute_reply": "2020-08-19T10:13:41.963020Z"
    },
    "papermill": {
     "duration": 0.296805,
     "end_time": "2020-08-19T10:13:41.963760",
     "exception": false,
     "start_time": "2020-08-19T10:13:41.666955",
     "status": "completed"
    },
    "tags": []
   },
   "outputs": [
    {
     "data": {
      "image/png": "[encoded data removed]",
      "text/plain": [
       "<Figure size 576x504 with 1 Axes>"
      ]
     },
     "metadata": {
      "needs_background": "light"
     },
     "output_type": "display_data"
    }
   ],
   "source": [
    "plt.figure(figsize=(8,7))\n",
    "plt.scatter(plot_testing[:,0], plot_testing[:,1], alpha = 0.1, c = y_test.ravel())\n",
    "contours = plt.contour(xg,yg,probability_contour)\n",
    "plt.clabel(contours, inline = True );"
   ]
  }
 ],
 "metadata": {
  "kernelspec": {
   "display_name": "Python 3",
   "language": "python",
   "name": "python3"
  },
  "language_info": {
   "codemirror_mode": {
    "name": "ipython",
    "version": 3
   },
   "file_extension": ".py",
   "mimetype": "text/x-python",
   "name": "python",
   "nbconvert_exporter": "python",
   "pygments_lexer": "ipython3",
   "version": "3.6.11"
  },
  "papermill": {
   "duration": 115.253694,
   "end_time": "2020-08-19T10:13:42.423547",
   "environment_variables": {},
   "exception": null,
   "input_path": "2020-08-07-NN-new.ipynb",
   "output_path": "2020-08-07-NN-new.ipynb",
   "parameters": {},
   "start_time": "2020-08-19T10:11:47.169853",
   "version": "2.1.2"
  }
 },
 "nbformat": 4,
 "nbformat_minor": 4
}