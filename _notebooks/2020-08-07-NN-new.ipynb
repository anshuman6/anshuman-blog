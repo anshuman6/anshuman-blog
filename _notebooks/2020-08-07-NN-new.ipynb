{
 "cells": [
  {
   "cell_type": "markdown",
   "metadata": {
    "papermill": {
     "duration": 0.034373,
     "end_time": "2020-08-18T10:11:49.388906",
     "exception": false,
     "start_time": "2020-08-18T10:11:49.354533",
     "status": "completed"
    },
    "tags": []
   },
   "source": [
    "# \"Building a basic Neural Network from scratch - Kudzu\"\n",
    "\n",
    "- badges: true\n",
    "- author: Anshuman Gupta"
   ]
  },
  {
   "cell_type": "markdown",
   "metadata": {
    "papermill": {
     "duration": 0.026149,
     "end_time": "2020-08-18T10:11:49.442442",
     "exception": false,
     "start_time": "2020-08-18T10:11:49.416293",
     "status": "completed"
    },
    "tags": []
   },
   "source": [
    "#### In this project, the idea is to write a classifier to differentiate between handwritten digits 3 and 8, from the MNIST database.\n",
    "\n",
    "#### I will using a custom built neural network library called Kudzu.This has been developed as a part of KTF/Foundations course of Univ.ai (www.univ.ai). The source code for Kudzu Library and and this notebook can be found on my git-hub profile : www.https://github.com/anshuman6 under the folder project-solution. Any feedback and comments are welcome. Please feel free to email me at: anshuman6@gmail.com\n",
    "\n",
    "#### 1. I will be using the MNIST database. \n",
    "\n",
    "#### 2. I will be comparing the results of the 4 layer NN to a standard logistic regression"
   ]
  },
  {
   "cell_type": "markdown",
   "metadata": {
    "papermill": {
     "duration": 0.026285,
     "end_time": "2020-08-18T10:11:49.495639",
     "exception": false,
     "start_time": "2020-08-18T10:11:49.469354",
     "status": "completed"
    },
    "tags": []
   },
   "source": [
    "##### Importing all the necessary libraries"
   ]
  },
  {
   "cell_type": "code",
   "execution_count": 1,
   "metadata": {
    "execution": {
     "iopub.execute_input": "2020-08-18T10:11:49.557578Z",
     "iopub.status.busy": "2020-08-18T10:11:49.557006Z",
     "iopub.status.idle": "2020-08-18T10:11:49.569308Z",
     "shell.execute_reply": "2020-08-18T10:11:49.568791Z"
    },
    "papermill": {
     "duration": 0.04648,
     "end_time": "2020-08-18T10:11:49.569460",
     "exception": false,
     "start_time": "2020-08-18T10:11:49.522980",
     "status": "completed"
    },
    "tags": []
   },
   "outputs": [],
   "source": [
    "%load_ext autoreload\n",
    "%autoreload 2"
   ]
  },
  {
   "cell_type": "code",
   "execution_count": 2,
   "metadata": {
    "execution": {
     "iopub.execute_input": "2020-08-18T10:11:49.630725Z",
     "iopub.status.busy": "2020-08-18T10:11:49.630114Z",
     "iopub.status.idle": "2020-08-18T10:11:50.194690Z",
     "shell.execute_reply": "2020-08-18T10:11:50.195301Z"
    },
    "papermill": {
     "duration": 0.598099,
     "end_time": "2020-08-18T10:11:50.195458",
     "exception": false,
     "start_time": "2020-08-18T10:11:49.597359",
     "status": "completed"
    },
    "tags": []
   },
   "outputs": [],
   "source": [
    "%matplotlib inline\n",
    "import numpy as np\n",
    "import matplotlib.pyplot as plt\n",
    "import pandas as pd"
   ]
  },
  {
   "cell_type": "markdown",
   "metadata": {
    "papermill": {
     "duration": 0.027137,
     "end_time": "2020-08-18T10:11:50.250093",
     "exception": false,
     "start_time": "2020-08-18T10:11:50.222956",
     "status": "completed"
    },
    "tags": []
   },
   "source": [
    "##### The following command helps us download MNIST from notebook itself. You can skip this if you already have MNIST. You can also download it via your terminal."
   ]
  },
  {
   "cell_type": "code",
   "execution_count": 3,
   "metadata": {
    "execution": {
     "iopub.execute_input": "2020-08-18T10:11:50.308688Z",
     "iopub.status.busy": "2020-08-18T10:11:50.307559Z",
     "iopub.status.idle": "2020-08-18T10:11:51.730474Z",
     "shell.execute_reply": "2020-08-18T10:11:51.729949Z"
    },
    "papermill": {
     "duration": 1.453932,
     "end_time": "2020-08-18T10:11:51.730672",
     "exception": false,
     "start_time": "2020-08-18T10:11:50.276740",
     "status": "completed"
    },
    "tags": []
   },
   "outputs": [
    {
     "name": "stdout",
     "output_type": "stream",
     "text": [
      "Collecting mnist\r\n",
      "  Downloading mnist-0.2.2-py2.py3-none-any.whl (3.5 kB)\r\n"
     ]
    },
    {
     "name": "stdout",
     "output_type": "stream",
     "text": [
      "Requirement already satisfied: numpy in /opt/hostedtoolcache/Python/3.6.11/x64/lib/python3.6/site-packages (from mnist) (1.19.1)\r\n"
     ]
    },
    {
     "name": "stdout",
     "output_type": "stream",
     "text": [
      "Installing collected packages: mnist\r\n"
     ]
    },
    {
     "name": "stdout",
     "output_type": "stream",
     "text": [
      "Successfully installed mnist-0.2.2\r\n"
     ]
    },
    {
     "name": "stdout",
     "output_type": "stream",
     "text": [
      "\u001b[33mWARNING: You are using pip version 20.2.1; however, version 20.2.2 is available.\r\n",
      "You should consider upgrading via the '/opt/hostedtoolcache/Python/3.6.11/x64/bin/python -m pip install --upgrade pip' command.\u001b[0m\r\n"
     ]
    }
   ],
   "source": [
    "!pip install mnist # Please note, it is commented out for now, you can remove comment if you want to install it"
   ]
  },
  {
   "cell_type": "markdown",
   "metadata": {
    "papermill": {
     "duration": 0.027583,
     "end_time": "2020-08-18T10:11:51.785986",
     "exception": false,
     "start_time": "2020-08-18T10:11:51.758403",
     "status": "completed"
    },
    "tags": []
   },
   "source": [
    "#### Preparing the Data"
   ]
  },
  {
   "cell_type": "code",
   "execution_count": 4,
   "metadata": {
    "execution": {
     "iopub.execute_input": "2020-08-18T10:11:51.845842Z",
     "iopub.status.busy": "2020-08-18T10:11:51.845287Z",
     "iopub.status.idle": "2020-08-18T10:11:51.862221Z",
     "shell.execute_reply": "2020-08-18T10:11:51.861692Z"
    },
    "papermill": {
     "duration": 0.048642,
     "end_time": "2020-08-18T10:11:51.862344",
     "exception": false,
     "start_time": "2020-08-18T10:11:51.813702",
     "status": "completed"
    },
    "tags": []
   },
   "outputs": [],
   "source": [
    "import mnist"
   ]
  },
  {
   "cell_type": "code",
   "execution_count": 5,
   "metadata": {
    "execution": {
     "iopub.execute_input": "2020-08-18T10:11:51.922440Z",
     "iopub.status.busy": "2020-08-18T10:11:51.921464Z",
     "iopub.status.idle": "2020-08-18T10:11:52.676874Z",
     "shell.execute_reply": "2020-08-18T10:11:52.676032Z"
    },
    "papermill": {
     "duration": 0.786968,
     "end_time": "2020-08-18T10:11:52.677064",
     "exception": false,
     "start_time": "2020-08-18T10:11:51.890096",
     "status": "completed"
    },
    "tags": []
   },
   "outputs": [],
   "source": [
    "train_images = mnist.train_images()\n",
    "train_labels = mnist.train_labels()"
   ]
  },
  {
   "cell_type": "code",
   "execution_count": 6,
   "metadata": {
    "execution": {
     "iopub.execute_input": "2020-08-18T10:11:52.750424Z",
     "iopub.status.busy": "2020-08-18T10:11:52.749804Z",
     "iopub.status.idle": "2020-08-18T10:11:52.767816Z",
     "shell.execute_reply": "2020-08-18T10:11:52.767021Z"
    },
    "papermill": {
     "duration": 0.058848,
     "end_time": "2020-08-18T10:11:52.767952",
     "exception": false,
     "start_time": "2020-08-18T10:11:52.709104",
     "status": "completed"
    },
    "tags": []
   },
   "outputs": [
    {
     "data": {
      "text/plain": [
       "((60000, 28, 28), (60000,))"
      ]
     },
     "execution_count": 6,
     "metadata": {},
     "output_type": "execute_result"
    }
   ],
   "source": [
    "train_images.shape, train_labels.shape"
   ]
  },
  {
   "cell_type": "code",
   "execution_count": 7,
   "metadata": {
    "execution": {
     "iopub.execute_input": "2020-08-18T10:11:52.828807Z",
     "iopub.status.busy": "2020-08-18T10:11:52.828250Z",
     "iopub.status.idle": "2020-08-18T10:11:53.079614Z",
     "shell.execute_reply": "2020-08-18T10:11:53.078543Z"
    },
    "papermill": {
     "duration": 0.28366,
     "end_time": "2020-08-18T10:11:53.079752",
     "exception": false,
     "start_time": "2020-08-18T10:11:52.796092",
     "status": "completed"
    },
    "tags": []
   },
   "outputs": [],
   "source": [
    "test_images = mnist.test_images()\n",
    "test_labels = mnist.test_labels()"
   ]
  },
  {
   "cell_type": "code",
   "execution_count": 8,
   "metadata": {
    "execution": {
     "iopub.execute_input": "2020-08-18T10:11:53.141529Z",
     "iopub.status.busy": "2020-08-18T10:11:53.140977Z",
     "iopub.status.idle": "2020-08-18T10:11:53.157009Z",
     "shell.execute_reply": "2020-08-18T10:11:53.157511Z"
    },
    "papermill": {
     "duration": 0.049308,
     "end_time": "2020-08-18T10:11:53.157652",
     "exception": false,
     "start_time": "2020-08-18T10:11:53.108344",
     "status": "completed"
    },
    "tags": []
   },
   "outputs": [
    {
     "data": {
      "text/plain": [
       "((10000, 28, 28), (10000,))"
      ]
     },
     "execution_count": 8,
     "metadata": {},
     "output_type": "execute_result"
    }
   ],
   "source": [
    "test_images.shape, test_labels.shape"
   ]
  },
  {
   "cell_type": "code",
   "execution_count": 9,
   "metadata": {
    "execution": {
     "iopub.execute_input": "2020-08-18T10:11:53.221338Z",
     "iopub.status.busy": "2020-08-18T10:11:53.220649Z",
     "iopub.status.idle": "2020-08-18T10:11:53.377300Z",
     "shell.execute_reply": "2020-08-18T10:11:53.376028Z"
    },
    "papermill": {
     "duration": 0.190547,
     "end_time": "2020-08-18T10:11:53.377523",
     "exception": false,
     "start_time": "2020-08-18T10:11:53.186976",
     "status": "completed"
    },
    "tags": []
   },
   "outputs": [
    {
     "name": "stdout",
     "output_type": "stream",
     "text": [
      "2\n"
     ]
    },
    {
     "data": {
      "text/plain": [
       "<matplotlib.image.AxesImage at 0x7ff9148ad2b0>"
      ]
     },
     "execution_count": 9,
     "metadata": {},
     "output_type": "execute_result"
    },
    {
     "data": {
      "image/png": "[encoded data removed]",
      "text/plain": [
       "<Figure size 432x288 with 1 Axes>"
      ]
     },
     "metadata": {
      "needs_background": "light"
     },
     "output_type": "display_data"
    }
   ],
   "source": [
    "image_index = 7776 # You may select anything up to 60,000\n",
    "print(train_labels[image_index]) \n",
    "plt.imshow(train_images[image_index], cmap='Greys')"
   ]
  },
  {
   "cell_type": "markdown",
   "metadata": {
    "papermill": {
     "duration": 0.030574,
     "end_time": "2020-08-18T10:11:53.439452",
     "exception": false,
     "start_time": "2020-08-18T10:11:53.408878",
     "status": "completed"
    },
    "tags": []
   },
   "source": [
    "## Filter data to get 3 and 8 out"
   ]
  },
  {
   "cell_type": "code",
   "execution_count": 10,
   "metadata": {
    "execution": {
     "iopub.execute_input": "2020-08-18T10:11:53.506911Z",
     "iopub.status.busy": "2020-08-18T10:11:53.506296Z",
     "iopub.status.idle": "2020-08-18T10:11:53.529301Z",
     "shell.execute_reply": "2020-08-18T10:11:53.528587Z"
    },
    "papermill": {
     "duration": 0.059883,
     "end_time": "2020-08-18T10:11:53.529483",
     "exception": false,
     "start_time": "2020-08-18T10:11:53.469600",
     "status": "completed"
    },
    "tags": []
   },
   "outputs": [],
   "source": [
    "train_filter = np.where((train_labels == 3 ) | (train_labels == 8))\n",
    "test_filter = np.where((test_labels == 3) | (test_labels == 8))\n",
    "X_train, y_train = train_images[train_filter], train_labels[train_filter]\n",
    "X_test, y_test = test_images[test_filter], test_labels[test_filter]"
   ]
  },
  {
   "cell_type": "markdown",
   "metadata": {
    "papermill": {
     "duration": 0.029308,
     "end_time": "2020-08-18T10:11:53.588682",
     "exception": false,
     "start_time": "2020-08-18T10:11:53.559374",
     "status": "completed"
    },
    "tags": []
   },
   "source": [
    "##### We normalize the pizel values in the 0 to 1 range"
   ]
  },
  {
   "cell_type": "code",
   "execution_count": 11,
   "metadata": {
    "execution": {
     "iopub.execute_input": "2020-08-18T10:11:53.652904Z",
     "iopub.status.busy": "2020-08-18T10:11:53.652326Z",
     "iopub.status.idle": "2020-08-18T10:11:53.706345Z",
     "shell.execute_reply": "2020-08-18T10:11:53.705695Z"
    },
    "papermill": {
     "duration": 0.087967,
     "end_time": "2020-08-18T10:11:53.706513",
     "exception": false,
     "start_time": "2020-08-18T10:11:53.618546",
     "status": "completed"
    },
    "tags": []
   },
   "outputs": [],
   "source": [
    "X_train = X_train/255.\n",
    "X_test = X_test/255."
   ]
  },
  {
   "cell_type": "markdown",
   "metadata": {
    "papermill": {
     "duration": 0.03053,
     "end_time": "2020-08-18T10:11:53.770759",
     "exception": false,
     "start_time": "2020-08-18T10:11:53.740229",
     "status": "completed"
    },
    "tags": []
   },
   "source": [
    "And setup the labels as 1 (when the digit is 3) and 0 (when the digit is 8)"
   ]
  },
  {
   "cell_type": "code",
   "execution_count": 12,
   "metadata": {
    "execution": {
     "iopub.execute_input": "2020-08-18T10:11:53.834993Z",
     "iopub.status.busy": "2020-08-18T10:11:53.834298Z",
     "iopub.status.idle": "2020-08-18T10:11:53.847601Z",
     "shell.execute_reply": "2020-08-18T10:11:53.848064Z"
    },
    "papermill": {
     "duration": 0.048043,
     "end_time": "2020-08-18T10:11:53.848218",
     "exception": false,
     "start_time": "2020-08-18T10:11:53.800175",
     "status": "completed"
    },
    "tags": []
   },
   "outputs": [],
   "source": [
    "y_train = 1*(y_train==3)\n",
    "y_test = 1*(y_test==3)"
   ]
  },
  {
   "cell_type": "code",
   "execution_count": 13,
   "metadata": {
    "execution": {
     "iopub.execute_input": "2020-08-18T10:11:53.913925Z",
     "iopub.status.busy": "2020-08-18T10:11:53.912833Z",
     "iopub.status.idle": "2020-08-18T10:11:53.929101Z",
     "shell.execute_reply": "2020-08-18T10:11:53.928626Z"
    },
    "papermill": {
     "duration": 0.050243,
     "end_time": "2020-08-18T10:11:53.929224",
     "exception": false,
     "start_time": "2020-08-18T10:11:53.878981",
     "status": "completed"
    },
    "tags": []
   },
   "outputs": [
    {
     "data": {
      "text/plain": [
       "((11982, 28, 28), (1984, 28, 28))"
      ]
     },
     "execution_count": 13,
     "metadata": {},
     "output_type": "execute_result"
    }
   ],
   "source": [
    "X_train.shape, X_test.shape"
   ]
  },
  {
   "cell_type": "markdown",
   "metadata": {
    "papermill": {
     "duration": 0.030158,
     "end_time": "2020-08-18T10:11:53.990321",
     "exception": false,
     "start_time": "2020-08-18T10:11:53.960163",
     "status": "completed"
    },
    "tags": []
   },
   "source": [
    "##### We reshape the data to flatten the image pixels into a set of features or co-variates:"
   ]
  },
  {
   "cell_type": "code",
   "execution_count": 14,
   "metadata": {
    "execution": {
     "iopub.execute_input": "2020-08-18T10:11:54.055866Z",
     "iopub.status.busy": "2020-08-18T10:11:54.055278Z",
     "iopub.status.idle": "2020-08-18T10:11:54.071459Z",
     "shell.execute_reply": "2020-08-18T10:11:54.070975Z"
    },
    "papermill": {
     "duration": 0.051172,
     "end_time": "2020-08-18T10:11:54.071593",
     "exception": false,
     "start_time": "2020-08-18T10:11:54.020421",
     "status": "completed"
    },
    "tags": []
   },
   "outputs": [
    {
     "data": {
      "text/plain": [
       "((11982, 784), (1984, 784))"
      ]
     },
     "execution_count": 14,
     "metadata": {},
     "output_type": "execute_result"
    }
   ],
   "source": [
    "X_train = X_train.reshape(X_train.shape[0], -1)\n",
    "X_test = X_test.reshape(X_test.shape[0], -1)\n",
    "X_train.shape, X_test.shape"
   ]
  },
  {
   "cell_type": "markdown",
   "metadata": {
    "papermill": {
     "duration": 0.031462,
     "end_time": "2020-08-18T10:11:54.133969",
     "exception": false,
     "start_time": "2020-08-18T10:11:54.102507",
     "status": "completed"
    },
    "tags": []
   },
   "source": [
    "##### Importing Kudzu library and its functionality"
   ]
  },
  {
   "cell_type": "code",
   "execution_count": 15,
   "metadata": {
    "execution": {
     "iopub.execute_input": "2020-08-18T10:11:54.201805Z",
     "iopub.status.busy": "2020-08-18T10:11:54.201173Z",
     "iopub.status.idle": "2020-08-18T10:11:54.220421Z",
     "shell.execute_reply": "2020-08-18T10:11:54.220937Z"
    },
    "papermill": {
     "duration": 0.056663,
     "end_time": "2020-08-18T10:11:54.221104",
     "exception": false,
     "start_time": "2020-08-18T10:11:54.164441",
     "status": "completed"
    },
    "tags": []
   },
   "outputs": [],
   "source": [
    "from kudzu.data import Data, Dataloader, Sampler\n",
    "from kudzu.callbacks import AccCallback\n",
    "from kudzu.loss import MSE\n",
    "from kudzu.layer import Affine, Sigmoid\n",
    "from kudzu.model import Model\n",
    "from kudzu.optim import GD\n",
    "from kudzu.train import Learner\n",
    "from kudzu.callbacks import ClfCallback\n",
    "from kudzu.layer import Sigmoid\n",
    "from kudzu.layer import Relu"
   ]
  },
  {
   "cell_type": "markdown",
   "metadata": {
    "papermill": {
     "duration": 0.032097,
     "end_time": "2020-08-18T10:11:54.285005",
     "exception": false,
     "start_time": "2020-08-18T10:11:54.252908",
     "status": "completed"
    },
    "tags": []
   },
   "source": [
    "##### We are creating a class, just so that we can use it to store our parameters for us"
   ]
  },
  {
   "cell_type": "code",
   "execution_count": 16,
   "metadata": {
    "execution": {
     "iopub.execute_input": "2020-08-18T10:11:54.352708Z",
     "iopub.status.busy": "2020-08-18T10:11:54.352156Z",
     "iopub.status.idle": "2020-08-18T10:11:54.365907Z",
     "shell.execute_reply": "2020-08-18T10:11:54.365437Z"
    },
    "papermill": {
     "duration": 0.048947,
     "end_time": "2020-08-18T10:11:54.366029",
     "exception": false,
     "start_time": "2020-08-18T10:11:54.317082",
     "status": "completed"
    },
    "tags": []
   },
   "outputs": [],
   "source": [
    "class Config:\n",
    "    pass\n",
    "config = Config()\n",
    "config.lr = 0.001\n",
    "config.num_epochs = 250\n",
    "config.bs = 50"
   ]
  },
  {
   "cell_type": "markdown",
   "metadata": {
    "papermill": {
     "duration": 0.03035,
     "end_time": "2020-08-18T10:11:54.426166",
     "exception": false,
     "start_time": "2020-08-18T10:11:54.395816",
     "status": "completed"
    },
    "tags": []
   },
   "source": [
    "##### Initializing Data"
   ]
  },
  {
   "cell_type": "code",
   "execution_count": 17,
   "metadata": {
    "execution": {
     "iopub.execute_input": "2020-08-18T10:11:54.492645Z",
     "iopub.status.busy": "2020-08-18T10:11:54.492093Z",
     "iopub.status.idle": "2020-08-18T10:11:54.505658Z",
     "shell.execute_reply": "2020-08-18T10:11:54.506132Z"
    },
    "papermill": {
     "duration": 0.050033,
     "end_time": "2020-08-18T10:11:54.506280",
     "exception": false,
     "start_time": "2020-08-18T10:11:54.456247",
     "status": "completed"
    },
    "tags": []
   },
   "outputs": [],
   "source": [
    "data = Data(X_train, y_train.reshape(-1,1))\n",
    "loss = MSE()\n",
    "opt = GD(config.lr)\n",
    "sampler = Sampler(data, config.bs, shuffle=True)\n",
    "dl = Dataloader(data, sampler)"
   ]
  },
  {
   "cell_type": "markdown",
   "metadata": {
    "papermill": {
     "duration": 0.029962,
     "end_time": "2020-08-18T10:11:54.566424",
     "exception": false,
     "start_time": "2020-08-18T10:11:54.536462",
     "status": "completed"
    },
    "tags": []
   },
   "source": [
    "##### Constructing 2 different layers, one for NN and one only for logistic regression."
   ]
  },
  {
   "cell_type": "markdown",
   "metadata": {
    "papermill": {
     "duration": 0.031846,
     "end_time": "2020-08-18T10:11:54.629214",
     "exception": false,
     "start_time": "2020-08-18T10:11:54.597368",
     "status": "completed"
    },
    "tags": []
   },
   "source": [
    "##### Creating containers for data to be passed, to calculate accuracies"
   ]
  },
  {
   "cell_type": "code",
   "execution_count": 18,
   "metadata": {
    "execution": {
     "iopub.execute_input": "2020-08-18T10:11:54.694007Z",
     "iopub.status.busy": "2020-08-18T10:11:54.693417Z",
     "iopub.status.idle": "2020-08-18T10:11:54.707344Z",
     "shell.execute_reply": "2020-08-18T10:11:54.706812Z"
    },
    "papermill": {
     "duration": 0.047849,
     "end_time": "2020-08-18T10:11:54.707475",
     "exception": false,
     "start_time": "2020-08-18T10:11:54.659626",
     "status": "completed"
    },
    "tags": []
   },
   "outputs": [],
   "source": [
    "training_xdata = X_train\n",
    "testing_xdata = X_test\n",
    "training_ydata = y_train.reshape(-1,1)\n",
    "testing_ydata = y_test.reshape(-1,1)"
   ]
  },
  {
   "cell_type": "markdown",
   "metadata": {
    "papermill": {
     "duration": 0.030698,
     "end_time": "2020-08-18T10:11:54.769841",
     "exception": false,
     "start_time": "2020-08-18T10:11:54.739143",
     "status": "completed"
    },
    "tags": []
   },
   "source": [
    "##### Initializing models and Running training loop: "
   ]
  },
  {
   "cell_type": "code",
   "execution_count": 19,
   "metadata": {
    "execution": {
     "iopub.execute_input": "2020-08-18T10:11:54.841718Z",
     "iopub.status.busy": "2020-08-18T10:11:54.841154Z",
     "iopub.status.idle": "2020-08-18T10:11:54.858933Z",
     "shell.execute_reply": "2020-08-18T10:11:54.858305Z"
    },
    "papermill": {
     "duration": 0.053686,
     "end_time": "2020-08-18T10:11:54.859068",
     "exception": false,
     "start_time": "2020-08-18T10:11:54.805382",
     "status": "completed"
    },
    "tags": []
   },
   "outputs": [],
   "source": [
    "layers = [Affine(\"first\", 784, 100), Relu(\"first\"), Affine(\"second\", 100, 100), Relu(\"second\"), Affine(\"third\", 100, 2), Affine(\"final\", 2, 1), Sigmoid(\"final\")]\n",
    "\n",
    "model_neural = Model(layers)\n",
    "model_logistic = Model([Affine(\"logits\", 784, 1), Sigmoid(\"sigmoid\")])"
   ]
  },
  {
   "cell_type": "code",
   "execution_count": 20,
   "metadata": {
    "execution": {
     "iopub.execute_input": "2020-08-18T10:11:54.926242Z",
     "iopub.status.busy": "2020-08-18T10:11:54.925636Z",
     "iopub.status.idle": "2020-08-18T10:11:54.940828Z",
     "shell.execute_reply": "2020-08-18T10:11:54.940375Z"
    },
    "papermill": {
     "duration": 0.050819,
     "end_time": "2020-08-18T10:11:54.940954",
     "exception": false,
     "start_time": "2020-08-18T10:11:54.890135",
     "status": "completed"
    },
    "tags": []
   },
   "outputs": [],
   "source": [
    "learner1 = Learner(loss, model_neural, opt, config.num_epochs)\n",
    "acc1 = ClfCallback(learner1, config.bs, training_xdata , testing_xdata, training_ydata, testing_ydata)\n",
    "learner1.set_callbacks([acc1])"
   ]
  },
  {
   "cell_type": "code",
   "execution_count": 21,
   "metadata": {
    "execution": {
     "iopub.execute_input": "2020-08-18T10:11:55.005202Z",
     "iopub.status.busy": "2020-08-18T10:11:55.004661Z",
     "iopub.status.idle": "2020-08-18T10:13:21.064018Z",
     "shell.execute_reply": "2020-08-18T10:13:21.063533Z"
    },
    "papermill": {
     "duration": 86.093697,
     "end_time": "2020-08-18T10:13:21.064157",
     "exception": false,
     "start_time": "2020-08-18T10:11:54.970460",
     "status": "completed"
    },
    "tags": []
   },
   "outputs": [
    {
     "name": "stdout",
     "output_type": "stream",
     "text": [
      "Epoch 0 Loss 0.19252628510777361\n",
      "train accuracy is: 0.8458521115005843, test accuracy is 0.8513104838709677\n"
     ]
    },
    {
     "name": "stdout",
     "output_type": "stream",
     "text": [
      "Epoch 10 Loss 0.05813870885828086\n",
      "train accuracy is: 0.9409113670505759, test accuracy is 0.9536290322580645\n"
     ]
    },
    {
     "name": "stdout",
     "output_type": "stream",
     "text": [
      "Epoch 20 Loss 0.042229024417778455\n",
      "train accuracy is: 0.9535136037389418, test accuracy is 0.9667338709677419\n"
     ]
    },
    {
     "name": "stdout",
     "output_type": "stream",
     "text": [
      "Epoch 30 Loss 0.03577317974013578\n",
      "train accuracy is: 0.9598564513436821, test accuracy is 0.9722782258064516\n"
     ]
    },
    {
     "name": "stdout",
     "output_type": "stream",
     "text": [
      "Epoch 40 Loss 0.03207822628039993\n",
      "train accuracy is: 0.9636955433149724, test accuracy is 0.9747983870967742\n"
     ]
    },
    {
     "name": "stdout",
     "output_type": "stream",
     "text": [
      "Epoch 50 Loss 0.029575097215443068\n",
      "train accuracy is: 0.9671173426806877, test accuracy is 0.9763104838709677\n"
     ]
    },
    {
     "name": "stdout",
     "output_type": "stream",
     "text": [
      "Epoch 60 Loss 0.027689825412802824\n",
      "train accuracy is: 0.9685361375396428, test accuracy is 0.9763104838709677\n"
     ]
    },
    {
     "name": "stdout",
     "output_type": "stream",
     "text": [
      "Epoch 70 Loss 0.026194273440424742\n",
      "train accuracy is: 0.9697045568352529, test accuracy is 0.9773185483870968\n"
     ]
    },
    {
     "name": "stdout",
     "output_type": "stream",
     "text": [
      "Epoch 80 Loss 0.024954647838316902\n",
      "train accuracy is: 0.971290268736438, test accuracy is 0.9773185483870968\n"
     ]
    },
    {
     "name": "stdout",
     "output_type": "stream",
     "text": [
      "Epoch 90 Loss 0.023875323889418473\n",
      "train accuracy is: 0.972458688032048, test accuracy is 0.9778225806451613\n"
     ]
    },
    {
     "name": "stdout",
     "output_type": "stream",
     "text": [
      "Epoch 100 Loss 0.022934652572215518\n",
      "train accuracy is: 0.9734601902854282, test accuracy is 0.9783266129032258\n"
     ]
    },
    {
     "name": "stdout",
     "output_type": "stream",
     "text": [
      "Epoch 110 Loss 0.02207926342092424\n",
      "train accuracy is: 0.9750459021866132, test accuracy is 0.9788306451612904\n"
     ]
    },
    {
     "name": "stdout",
     "output_type": "stream",
     "text": [
      "Epoch 120 Loss 0.02133704849927556\n",
      "train accuracy is: 0.9761308629611083, test accuracy is 0.9783266129032258\n"
     ]
    },
    {
     "name": "stdout",
     "output_type": "stream",
     "text": [
      "Epoch 130 Loss 0.020641838728267928\n",
      "train accuracy is: 0.9772158237356035, test accuracy is 0.9793346774193549\n"
     ]
    },
    {
     "name": "stdout",
     "output_type": "stream",
     "text": [
      "Epoch 140 Loss 0.019992703619447046\n",
      "train accuracy is: 0.9777165748622935, test accuracy is 0.9793346774193549\n"
     ]
    },
    {
     "name": "stdout",
     "output_type": "stream",
     "text": [
      "Epoch 150 Loss 0.01938428479224026\n",
      "train accuracy is: 0.9783007845100985, test accuracy is 0.9793346774193549\n"
     ]
    },
    {
     "name": "stdout",
     "output_type": "stream",
     "text": [
      "Epoch 160 Loss 0.01882167598626846\n",
      "train accuracy is: 0.9790519112001336, test accuracy is 0.9793346774193549\n"
     ]
    },
    {
     "name": "stdout",
     "output_type": "stream",
     "text": [
      "Epoch 170 Loss 0.01828464372412665\n",
      "train accuracy is: 0.9795526623268236, test accuracy is 0.9793346774193549\n"
     ]
    },
    {
     "name": "stdout",
     "output_type": "stream",
     "text": [
      "Epoch 180 Loss 0.017774909539185417\n",
      "train accuracy is: 0.9803037890168587, test accuracy is 0.9793346774193549\n"
     ]
    },
    {
     "name": "stdout",
     "output_type": "stream",
     "text": [
      "Epoch 190 Loss 0.017290220982754803\n",
      "train accuracy is: 0.9810549157068936, test accuracy is 0.9803427419354839\n"
     ]
    },
    {
     "name": "stdout",
     "output_type": "stream",
     "text": [
      "Epoch 200 Loss 0.01683357875975576\n",
      "train accuracy is: 0.9817225838758137, test accuracy is 0.9793346774193549\n"
     ]
    },
    {
     "name": "stdout",
     "output_type": "stream",
     "text": [
      "Epoch 210 Loss 0.016389269846392412\n",
      "train accuracy is: 0.9823902520447337, test accuracy is 0.9793346774193549\n"
     ]
    },
    {
     "name": "stdout",
     "output_type": "stream",
     "text": [
      "Epoch 220 Loss 0.01595695506559053\n",
      "train accuracy is: 0.9829744616925388, test accuracy is 0.9798387096774194\n"
     ]
    },
    {
     "name": "stdout",
     "output_type": "stream",
     "text": [
      "Epoch 230 Loss 0.015567417648693087\n",
      "train accuracy is: 0.9840594224670339, test accuracy is 0.9798387096774194\n"
     ]
    },
    {
     "name": "stdout",
     "output_type": "stream",
     "text": [
      "Epoch 240 Loss 0.015182313092134893\n",
      "train accuracy is: 0.9843097980303789, test accuracy is 0.9798387096774194\n"
     ]
    },
    {
     "data": {
      "text/plain": [
       "0.0038019587485373287"
      ]
     },
     "execution_count": 21,
     "metadata": {},
     "output_type": "execute_result"
    }
   ],
   "source": [
    "learner1.train_loop(dl)"
   ]
  },
  {
   "cell_type": "markdown",
   "metadata": {
    "papermill": {
     "duration": 0.043775,
     "end_time": "2020-08-18T10:13:21.148189",
     "exception": false,
     "start_time": "2020-08-18T10:13:21.104414",
     "status": "completed"
    },
    "tags": []
   },
   "source": [
    "##### Now running only the logistic regression based classification to compare results with NN"
   ]
  },
  {
   "cell_type": "code",
   "execution_count": 22,
   "metadata": {
    "execution": {
     "iopub.execute_input": "2020-08-18T10:13:21.241897Z",
     "iopub.status.busy": "2020-08-18T10:13:21.240860Z",
     "iopub.status.idle": "2020-08-18T10:13:21.253022Z",
     "shell.execute_reply": "2020-08-18T10:13:21.252474Z"
    },
    "papermill": {
     "duration": 0.054777,
     "end_time": "2020-08-18T10:13:21.253167",
     "exception": false,
     "start_time": "2020-08-18T10:13:21.198390",
     "status": "completed"
    },
    "tags": []
   },
   "outputs": [],
   "source": [
    "learner2 = Learner(loss, model_logistic, opt, config.num_epochs)\n",
    "acc2 = ClfCallback(learner2, config.bs, training_xdata , testing_xdata, training_ydata, testing_ydata)\n",
    "learner2.set_callbacks([acc2])"
   ]
  },
  {
   "cell_type": "code",
   "execution_count": 23,
   "metadata": {
    "execution": {
     "iopub.execute_input": "2020-08-18T10:13:21.339408Z",
     "iopub.status.busy": "2020-08-18T10:13:21.338809Z",
     "iopub.status.idle": "2020-08-18T10:13:36.873369Z",
     "shell.execute_reply": "2020-08-18T10:13:36.874117Z"
    },
    "papermill": {
     "duration": 15.581868,
     "end_time": "2020-08-18T10:13:36.874269",
     "exception": false,
     "start_time": "2020-08-18T10:13:21.292401",
     "status": "completed"
    },
    "tags": []
   },
   "outputs": [
    {
     "name": "stdout",
     "output_type": "stream",
     "text": [
      "Epoch 0 Loss 0.26946806839070875\n",
      "train accuracy is: 0.556835252879319, test accuracy is 0.5433467741935484\n"
     ]
    },
    {
     "name": "stdout",
     "output_type": "stream",
     "text": [
      "Epoch 10 Loss 0.10684520872663095\n",
      "train accuracy is: 0.9016858621265231, test accuracy is 0.9092741935483871\n"
     ]
    },
    {
     "name": "stdout",
     "output_type": "stream",
     "text": [
      "Epoch 20 Loss 0.08084210922879514\n",
      "train accuracy is: 0.9248873309964948, test accuracy is 0.9375\n"
     ]
    },
    {
     "name": "stdout",
     "output_type": "stream",
     "text": [
      "Epoch 30 Loss 0.06919277756355745\n",
      "train accuracy is: 0.9343181438824903, test accuracy is 0.9450604838709677\n"
     ]
    },
    {
     "name": "stdout",
     "output_type": "stream",
     "text": [
      "Epoch 40 Loss 0.062290150203834445\n",
      "train accuracy is: 0.9400767818394258, test accuracy is 0.9511088709677419\n"
     ]
    },
    {
     "name": "stdout",
     "output_type": "stream",
     "text": [
      "Epoch 50 Loss 0.05762816630312454\n",
      "train accuracy is: 0.943665498247371, test accuracy is 0.9556451612903226\n"
     ]
    },
    {
     "name": "stdout",
     "output_type": "stream",
     "text": [
      "Epoch 60 Loss 0.05422046137323758\n",
      "train accuracy is: 0.9460857953597063, test accuracy is 0.9571572580645161\n"
     ]
    },
    {
     "name": "stdout",
     "output_type": "stream",
     "text": [
      "Epoch 70 Loss 0.05159846582457115\n",
      "train accuracy is: 0.9471707561342013, test accuracy is 0.9576612903225806\n"
     ]
    },
    {
     "name": "stdout",
     "output_type": "stream",
     "text": [
      "Epoch 80 Loss 0.04950004410120458\n",
      "train accuracy is: 0.9491737606409615, test accuracy is 0.9596774193548387\n"
     ]
    },
    {
     "name": "stdout",
     "output_type": "stream",
     "text": [
      "Epoch 90 Loss 0.04777535105260848\n",
      "train accuracy is: 0.9515940577532966, test accuracy is 0.9601814516129032\n"
     ]
    },
    {
     "name": "stdout",
     "output_type": "stream",
     "text": [
      "Epoch 100 Loss 0.04632374415288557\n",
      "train accuracy is: 0.9528459355700217, test accuracy is 0.9621975806451613\n"
     ]
    },
    {
     "name": "stdout",
     "output_type": "stream",
     "text": [
      "Epoch 110 Loss 0.04507981489998753\n",
      "train accuracy is: 0.9538474378234018, test accuracy is 0.9627016129032258\n"
     ]
    },
    {
     "name": "stdout",
     "output_type": "stream",
     "text": [
      "Epoch 120 Loss 0.044000027207892374\n",
      "train accuracy is: 0.9549323985978968, test accuracy is 0.9637096774193549\n"
     ]
    },
    {
     "name": "stdout",
     "output_type": "stream",
     "text": [
      "Epoch 130 Loss 0.04304961541730902\n",
      "train accuracy is: 0.9556835252879319, test accuracy is 0.9637096774193549\n"
     ]
    },
    {
     "name": "stdout",
     "output_type": "stream",
     "text": [
      "Epoch 140 Loss 0.04220469989447813\n",
      "train accuracy is: 0.9563511934568519, test accuracy is 0.9642137096774194\n"
     ]
    },
    {
     "name": "stdout",
     "output_type": "stream",
     "text": [
      "Epoch 150 Loss 0.04144722980410682\n",
      "train accuracy is: 0.9567684860624269, test accuracy is 0.9652217741935484\n"
     ]
    },
    {
     "name": "stdout",
     "output_type": "stream",
     "text": [
      "Epoch 160 Loss 0.04076248912802679\n",
      "train accuracy is: 0.957352695710232, test accuracy is 0.9657258064516129\n"
     ]
    },
    {
     "name": "stdout",
     "output_type": "stream",
     "text": [
      "Epoch 170 Loss 0.04013994512596371\n",
      "train accuracy is: 0.9577699883158071, test accuracy is 0.9652217741935484\n"
     ]
    },
    {
     "name": "stdout",
     "output_type": "stream",
     "text": [
      "Epoch 180 Loss 0.03957116771011792\n",
      "train accuracy is: 0.958020363879152, test accuracy is 0.9662298387096774\n"
     ]
    },
    {
     "name": "stdout",
     "output_type": "stream",
     "text": [
      "Epoch 190 Loss 0.03904734939125237\n",
      "train accuracy is: 0.9584376564847271, test accuracy is 0.9667338709677419\n"
     ]
    },
    {
     "name": "stdout",
     "output_type": "stream",
     "text": [
      "Epoch 200 Loss 0.03856420291966988\n",
      "train accuracy is: 0.9585211150058421, test accuracy is 0.9672379032258065\n"
     ]
    },
    {
     "name": "stdout",
     "output_type": "stream",
     "text": [
      "Epoch 210 Loss 0.03811556618954524\n",
      "train accuracy is: 0.9584376564847271, test accuracy is 0.9682459677419355\n"
     ]
    },
    {
     "name": "stdout",
     "output_type": "stream",
     "text": [
      "Epoch 220 Loss 0.037697616584405395\n",
      "train accuracy is: 0.9590218661325322, test accuracy is 0.9682459677419355\n"
     ]
    },
    {
     "name": "stdout",
     "output_type": "stream",
     "text": [
      "Epoch 230 Loss 0.03730809767496828\n",
      "train accuracy is: 0.9596060757803372, test accuracy is 0.9682459677419355\n"
     ]
    },
    {
     "name": "stdout",
     "output_type": "stream",
     "text": [
      "Epoch 240 Loss 0.03694227851851409\n",
      "train accuracy is: 0.9599399098647972, test accuracy is 0.9682459677419355\n"
     ]
    },
    {
     "data": {
      "text/plain": [
       "0.08659227914402594"
      ]
     },
     "execution_count": 23,
     "metadata": {},
     "output_type": "execute_result"
    }
   ],
   "source": [
    "learner2.train_loop(dl)"
   ]
  },
  {
   "cell_type": "markdown",
   "metadata": {
    "papermill": {
     "duration": 0.045263,
     "end_time": "2020-08-18T10:13:36.965611",
     "exception": false,
     "start_time": "2020-08-18T10:13:36.920348",
     "status": "completed"
    },
    "tags": []
   },
   "source": [
    "### Comparing results of NN and LR"
   ]
  },
  {
   "cell_type": "code",
   "execution_count": 24,
   "metadata": {
    "execution": {
     "iopub.execute_input": "2020-08-18T10:13:37.063581Z",
     "iopub.status.busy": "2020-08-18T10:13:37.062406Z",
     "iopub.status.idle": "2020-08-18T10:13:37.277631Z",
     "shell.execute_reply": "2020-08-18T10:13:37.277107Z"
    },
    "papermill": {
     "duration": 0.267417,
     "end_time": "2020-08-18T10:13:37.277757",
     "exception": false,
     "start_time": "2020-08-18T10:13:37.010340",
     "status": "completed"
    },
    "tags": []
   },
   "outputs": [
    {
     "data": {
      "text/plain": [
       "<matplotlib.legend.Legend at 0x7ff914483a20>"
      ]
     },
     "execution_count": 24,
     "metadata": {},
     "output_type": "execute_result"
    },
    {
     "data": {
      "image/png": "[encoded data removed]",
      "text/plain": [
       "<Figure size 576x360 with 1 Axes>"
      ]
     },
     "metadata": {
      "needs_background": "light"
     },
     "output_type": "display_data"
    }
   ],
   "source": [
    "plt.figure(figsize=(8,5))\n",
    "plt.plot(acc1.val_accuracies, 'g-', label = \"Val Accuracies - NN\")\n",
    "plt.plot(acc1.accuracies, 'r-', label = \"Accuracies - NN\")\n",
    "plt.plot(acc2.val_accuracies, 'b-', label = \"Val Accuracies - Logistic Reg\")\n",
    "plt.plot(acc2.accuracies, 'k-', label = \"Accuracies - Logistic Reg\")\n",
    "plt.ylim(0.8,1) ## for a more spread out view\n",
    "plt.legend()"
   ]
  },
  {
   "cell_type": "markdown",
   "metadata": {
    "papermill": {
     "duration": 0.04713,
     "end_time": "2020-08-18T10:13:37.372001",
     "exception": false,
     "start_time": "2020-08-18T10:13:37.324871",
     "status": "completed"
    },
    "tags": []
   },
   "source": [
    "### Clearly NN has a better accuracy over LR; NN is overfitting - Validation accuracy (green) has dropped below training accuracy (orange), also they are diverging. This problem is not seen in LR"
   ]
  },
  {
   "cell_type": "markdown",
   "metadata": {
    "papermill": {
     "duration": 0.046313,
     "end_time": "2020-08-18T10:13:37.464572",
     "exception": false,
     "start_time": "2020-08-18T10:13:37.418259",
     "status": "completed"
    },
    "tags": []
   },
   "source": [
    "##### Now we will be moving through the network, till the output of the second last affine where we get a 2 dimensional output. We will be plotting this 2d output and probability contours"
   ]
  },
  {
   "cell_type": "code",
   "execution_count": 25,
   "metadata": {
    "execution": {
     "iopub.execute_input": "2020-08-18T10:13:37.563753Z",
     "iopub.status.busy": "2020-08-18T10:13:37.563166Z",
     "iopub.status.idle": "2020-08-18T10:13:37.578492Z",
     "shell.execute_reply": "2020-08-18T10:13:37.578018Z"
    },
    "papermill": {
     "duration": 0.067379,
     "end_time": "2020-08-18T10:13:37.578646",
     "exception": false,
     "start_time": "2020-08-18T10:13:37.511267",
     "status": "completed"
    },
    "tags": []
   },
   "outputs": [],
   "source": [
    "model_new = Model(layers[:-2])"
   ]
  },
  {
   "cell_type": "code",
   "execution_count": 26,
   "metadata": {
    "execution": {
     "iopub.execute_input": "2020-08-18T10:13:37.679991Z",
     "iopub.status.busy": "2020-08-18T10:13:37.679435Z",
     "iopub.status.idle": "2020-08-18T10:13:37.700898Z",
     "shell.execute_reply": "2020-08-18T10:13:37.701392Z"
    },
    "papermill": {
     "duration": 0.073531,
     "end_time": "2020-08-18T10:13:37.701550",
     "exception": false,
     "start_time": "2020-08-18T10:13:37.628019",
     "status": "completed"
    },
    "tags": []
   },
   "outputs": [],
   "source": [
    "plot_testing = model_new(testing_xdata)"
   ]
  },
  {
   "cell_type": "markdown",
   "metadata": {
    "papermill": {
     "duration": 0.048138,
     "end_time": "2020-08-18T10:13:37.799337",
     "exception": false,
     "start_time": "2020-08-18T10:13:37.751199",
     "status": "completed"
    },
    "tags": []
   },
   "source": [
    "##### Plotting the scatter plot of points and color coding by class"
   ]
  },
  {
   "cell_type": "code",
   "execution_count": 27,
   "metadata": {
    "execution": {
     "iopub.execute_input": "2020-08-18T10:13:37.929644Z",
     "iopub.status.busy": "2020-08-18T10:13:37.929050Z",
     "iopub.status.idle": "2020-08-18T10:13:38.139103Z",
     "shell.execute_reply": "2020-08-18T10:13:38.139580Z"
    },
    "papermill": {
     "duration": 0.292018,
     "end_time": "2020-08-18T10:13:38.139739",
     "exception": false,
     "start_time": "2020-08-18T10:13:37.847721",
     "status": "completed"
    },
    "tags": []
   },
   "outputs": [
    {
     "data": {
      "image/png": "[encoded data removed]",
      "text/plain": [
       "<Figure size 576x504 with 1 Axes>"
      ]
     },
     "metadata": {
      "needs_background": "light"
     },
     "output_type": "display_data"
    }
   ],
   "source": [
    "plt.figure(figsize=(8,7))\n",
    "plt.scatter(plot_testing[:,0], plot_testing[:,1], alpha = 0.1, c = y_test.ravel());"
   ]
  },
  {
   "cell_type": "markdown",
   "metadata": {
    "papermill": {
     "duration": 0.048367,
     "end_time": "2020-08-18T10:13:38.237950",
     "exception": false,
     "start_time": "2020-08-18T10:13:38.189583",
     "status": "completed"
    },
    "tags": []
   },
   "source": [
    "##### Plotting probability contours"
   ]
  },
  {
   "cell_type": "code",
   "execution_count": 28,
   "metadata": {
    "execution": {
     "iopub.execute_input": "2020-08-18T10:13:38.341780Z",
     "iopub.status.busy": "2020-08-18T10:13:38.341187Z",
     "iopub.status.idle": "2020-08-18T10:13:38.353565Z",
     "shell.execute_reply": "2020-08-18T10:13:38.354039Z"
    },
    "papermill": {
     "duration": 0.067421,
     "end_time": "2020-08-18T10:13:38.354191",
     "exception": false,
     "start_time": "2020-08-18T10:13:38.286770",
     "status": "completed"
    },
    "tags": []
   },
   "outputs": [],
   "source": [
    "model_prob = Model(layers[-2:]) ## picking only last two layers to get probability. That is affine followed by sigmoid"
   ]
  },
  {
   "cell_type": "code",
   "execution_count": 29,
   "metadata": {
    "execution": {
     "iopub.execute_input": "2020-08-18T10:13:38.457172Z",
     "iopub.status.busy": "2020-08-18T10:13:38.456062Z",
     "iopub.status.idle": "2020-08-18T10:13:38.470970Z",
     "shell.execute_reply": "2020-08-18T10:13:38.471420Z"
    },
    "papermill": {
     "duration": 0.068018,
     "end_time": "2020-08-18T10:13:38.471564",
     "exception": false,
     "start_time": "2020-08-18T10:13:38.403546",
     "status": "completed"
    },
    "tags": []
   },
   "outputs": [],
   "source": [
    "xgrid = np.linspace(-4, 1, 100) ## Adjust these values based on above chart, roughly -4 to 1\n",
    "ygrid = np.linspace(-7.5, 7.5, 100) ## Adjust these values based on above chart, roughly -7.5, 7.5\n",
    "xg, yg = np.meshgrid(xgrid, ygrid)\n",
    "# xg and yg are now both 100X100, lets convert them to single arrays \n",
    "\n",
    "xg_interim = np.ravel(xg)\n",
    "yg_interim = np.ravel(yg)\n",
    "\n",
    "## xg_interim, yg_interim are now arrays of len 10000, now we will stack them and then transpose to get desired shape of n rows, 2 columns\n",
    "\n",
    "X_interim = np.vstack((xg_interim, yg_interim)) ## Please note vstack takes in a tuple\n",
    "X = X_interim.T\n",
    "\n",
    "## We want a shape of n rows and 2 columns to be able to feed this to last affine\n",
    "## This last affine takes only two columns, hence the above transformation\n",
    "probability_contour = model_prob(X).reshape(100,100) ## to make it consistent with xg, yg"
   ]
  },
  {
   "cell_type": "code",
   "execution_count": 30,
   "metadata": {
    "execution": {
     "iopub.execute_input": "2020-08-18T10:13:38.572115Z",
     "iopub.status.busy": "2020-08-18T10:13:38.571523Z",
     "iopub.status.idle": "2020-08-18T10:13:38.816760Z",
     "shell.execute_reply": "2020-08-18T10:13:38.817251Z"
    },
    "papermill": {
     "duration": 0.297553,
     "end_time": "2020-08-18T10:13:38.817406",
     "exception": false,
     "start_time": "2020-08-18T10:13:38.519853",
     "status": "completed"
    },
    "tags": []
   },
   "outputs": [
    {
     "data": {
      "image/png": "[encoded data removed]",
      "text/plain": [
       "<Figure size 576x504 with 1 Axes>"
      ]
     },
     "metadata": {
      "needs_background": "light"
     },
     "output_type": "display_data"
    }
   ],
   "source": [
    "plt.figure(figsize=(8,7))\n",
    "plt.scatter(plot_testing[:,0], plot_testing[:,1], alpha = 0.1, c = y_test.ravel())\n",
    "contours = plt.contour(xg,yg,probability_contour)\n",
    "plt.clabel(contours, inline = True );"
   ]
  }
 ],
 "metadata": {
  "kernelspec": {
   "display_name": "Python 3",
   "language": "python",
   "name": "python3"
  },
  "language_info": {
   "codemirror_mode": {
    "name": "ipython",
    "version": 3
   },
   "file_extension": ".py",
   "mimetype": "text/x-python",
   "name": "python",
   "nbconvert_exporter": "python",
   "pygments_lexer": "ipython3",
   "version": "3.6.11"
  },
  "papermill": {
   "duration": 111.004945,
   "end_time": "2020-08-18T10:13:39.277037",
   "environment_variables": {},
   "exception": null,
   "input_path": "2020-08-07-NN-new.ipynb",
   "output_path": "2020-08-07-NN-new.ipynb",
   "parameters": {},
   "start_time": "2020-08-18T10:11:48.272092",
   "version": "2.1.2"
  }
 },
 "nbformat": 4,
 "nbformat_minor": 4
}