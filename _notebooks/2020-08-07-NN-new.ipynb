{
 "cells": [
  {
   "cell_type": "markdown",
   "metadata": {
    "papermill": {
     "duration": 0.028018,
     "end_time": "2020-08-25T20:12:26.745447",
     "exception": false,
     "start_time": "2020-08-25T20:12:26.717429",
     "status": "completed"
    },
    "tags": []
   },
   "source": [
    "# \"Building a basic Neural Network from scratch - Kudzu\"\n",
    "\n",
    "- badges: true\n",
    "- author: Anshuman Gupta"
   ]
  },
  {
   "cell_type": "markdown",
   "metadata": {
    "papermill": {
     "duration": 0.023759,
     "end_time": "2020-08-25T20:12:26.794335",
     "exception": false,
     "start_time": "2020-08-25T20:12:26.770576",
     "status": "completed"
    },
    "tags": []
   },
   "source": [
    "#### In this project, the idea is to write a classifier to differentiate between handwritten digits 3 and 8, from the MNIST database.\n",
    "\n",
    "#### I will using a custom built neural network library called Kudzu.This has been developed as a part of KTF/Foundations course of Univ.ai (www.univ.ai). The source code for Kudzu Library and and this notebook can be found on my git-hub profile : www.https://github.com/anshuman6 under the folder project-solution. Any feedback and comments are welcome. Please feel free to email me at: anshuman6@gmail.com\n",
    "\n",
    "#### 1. I will be using the MNIST database. \n",
    "\n",
    "#### 2. I will be comparing the results of the 4 layer NN to a standard logistic regression"
   ]
  },
  {
   "cell_type": "markdown",
   "metadata": {
    "papermill": {
     "duration": 0.023678,
     "end_time": "2020-08-25T20:12:26.841783",
     "exception": false,
     "start_time": "2020-08-25T20:12:26.818105",
     "status": "completed"
    },
    "tags": []
   },
   "source": [
    "##### Importing all the necessary libraries"
   ]
  },
  {
   "cell_type": "code",
   "execution_count": 1,
   "metadata": {
    "execution": {
     "iopub.execute_input": "2020-08-25T20:12:26.894221Z",
     "iopub.status.busy": "2020-08-25T20:12:26.893687Z",
     "iopub.status.idle": "2020-08-25T20:12:26.902789Z",
     "shell.execute_reply": "2020-08-25T20:12:26.903194Z"
    },
    "papermill": {
     "duration": 0.037375,
     "end_time": "2020-08-25T20:12:26.903334",
     "exception": false,
     "start_time": "2020-08-25T20:12:26.865959",
     "status": "completed"
    },
    "tags": []
   },
   "outputs": [],
   "source": [
    "%load_ext autoreload\n",
    "%autoreload 2"
   ]
  },
  {
   "cell_type": "code",
   "execution_count": 2,
   "metadata": {
    "execution": {
     "iopub.execute_input": "2020-08-25T20:12:26.954820Z",
     "iopub.status.busy": "2020-08-25T20:12:26.954309Z",
     "iopub.status.idle": "2020-08-25T20:12:27.436790Z",
     "shell.execute_reply": "2020-08-25T20:12:27.436297Z"
    },
    "papermill": {
     "duration": 0.509713,
     "end_time": "2020-08-25T20:12:27.436922",
     "exception": false,
     "start_time": "2020-08-25T20:12:26.927209",
     "status": "completed"
    },
    "tags": []
   },
   "outputs": [],
   "source": [
    "%matplotlib inline\n",
    "import numpy as np\n",
    "import matplotlib.pyplot as plt\n",
    "import pandas as pd"
   ]
  },
  {
   "cell_type": "markdown",
   "metadata": {
    "papermill": {
     "duration": 0.02478,
     "end_time": "2020-08-25T20:12:27.485575",
     "exception": false,
     "start_time": "2020-08-25T20:12:27.460795",
     "status": "completed"
    },
    "tags": []
   },
   "source": [
    "##### The following command helps us download MNIST from notebook itself. You can skip this if you already have MNIST. You can also download it via your terminal."
   ]
  },
  {
   "cell_type": "code",
   "execution_count": 3,
   "metadata": {
    "execution": {
     "iopub.execute_input": "2020-08-25T20:12:27.538355Z",
     "iopub.status.busy": "2020-08-25T20:12:27.537834Z",
     "iopub.status.idle": "2020-08-25T20:12:28.775254Z",
     "shell.execute_reply": "2020-08-25T20:12:28.775707Z"
    },
    "papermill": {
     "duration": 1.266401,
     "end_time": "2020-08-25T20:12:28.775861",
     "exception": false,
     "start_time": "2020-08-25T20:12:27.509460",
     "status": "completed"
    },
    "tags": []
   },
   "outputs": [
    {
     "name": "stdout",
     "output_type": "stream",
     "text": [
      "Collecting mnist\r\n",
      "  Downloading mnist-0.2.2-py2.py3-none-any.whl (3.5 kB)\r\n"
     ]
    },
    {
     "name": "stdout",
     "output_type": "stream",
     "text": [
      "Requirement already satisfied: numpy in /opt/hostedtoolcache/Python/3.6.11/x64/lib/python3.6/site-packages (from mnist) (1.19.1)\r\n"
     ]
    },
    {
     "name": "stdout",
     "output_type": "stream",
     "text": [
      "Installing collected packages: mnist\r\n"
     ]
    },
    {
     "name": "stdout",
     "output_type": "stream",
     "text": [
      "Successfully installed mnist-0.2.2\r\n"
     ]
    }
   ],
   "source": [
    "!pip install mnist # Please note, it is commented out for now, you can remove comment if you want to install it"
   ]
  },
  {
   "cell_type": "markdown",
   "metadata": {
    "papermill": {
     "duration": 0.027978,
     "end_time": "2020-08-25T20:12:28.831719",
     "exception": false,
     "start_time": "2020-08-25T20:12:28.803741",
     "status": "completed"
    },
    "tags": []
   },
   "source": [
    "#### Preparing the Data"
   ]
  },
  {
   "cell_type": "code",
   "execution_count": 4,
   "metadata": {
    "execution": {
     "iopub.execute_input": "2020-08-25T20:12:28.908922Z",
     "iopub.status.busy": "2020-08-25T20:12:28.902575Z",
     "iopub.status.idle": "2020-08-25T20:12:28.912521Z",
     "shell.execute_reply": "2020-08-25T20:12:28.911989Z"
    },
    "papermill": {
     "duration": 0.052205,
     "end_time": "2020-08-25T20:12:28.912714",
     "exception": false,
     "start_time": "2020-08-25T20:12:28.860509",
     "status": "completed"
    },
    "tags": []
   },
   "outputs": [],
   "source": [
    "import mnist"
   ]
  },
  {
   "cell_type": "code",
   "execution_count": 5,
   "metadata": {
    "execution": {
     "iopub.execute_input": "2020-08-25T20:12:28.969613Z",
     "iopub.status.busy": "2020-08-25T20:12:28.969016Z",
     "iopub.status.idle": "2020-08-25T20:12:30.240986Z",
     "shell.execute_reply": "2020-08-25T20:12:30.239988Z"
    },
    "papermill": {
     "duration": 1.301413,
     "end_time": "2020-08-25T20:12:30.241131",
     "exception": false,
     "start_time": "2020-08-25T20:12:28.939718",
     "status": "completed"
    },
    "tags": []
   },
   "outputs": [],
   "source": [
    "train_images = mnist.train_images()\n",
    "train_labels = mnist.train_labels()"
   ]
  },
  {
   "cell_type": "code",
   "execution_count": 6,
   "metadata": {
    "execution": {
     "iopub.execute_input": "2020-08-25T20:12:30.313753Z",
     "iopub.status.busy": "2020-08-25T20:12:30.306189Z",
     "iopub.status.idle": "2020-08-25T20:12:30.320695Z",
     "shell.execute_reply": "2020-08-25T20:12:30.320116Z"
    },
    "papermill": {
     "duration": 0.048513,
     "end_time": "2020-08-25T20:12:30.320814",
     "exception": false,
     "start_time": "2020-08-25T20:12:30.272301",
     "status": "completed"
    },
    "tags": []
   },
   "outputs": [
    {
     "data": {
      "text/plain": [
       "((60000, 28, 28), (60000,))"
      ]
     },
     "execution_count": 6,
     "metadata": {},
     "output_type": "execute_result"
    }
   ],
   "source": [
    "train_images.shape, train_labels.shape"
   ]
  },
  {
   "cell_type": "code",
   "execution_count": 7,
   "metadata": {
    "execution": {
     "iopub.execute_input": "2020-08-25T20:12:30.377128Z",
     "iopub.status.busy": "2020-08-25T20:12:30.376512Z",
     "iopub.status.idle": "2020-08-25T20:12:32.485374Z",
     "shell.execute_reply": "2020-08-25T20:12:32.485822Z"
    },
    "papermill": {
     "duration": 2.13855,
     "end_time": "2020-08-25T20:12:32.486008",
     "exception": false,
     "start_time": "2020-08-25T20:12:30.347458",
     "status": "completed"
    },
    "tags": []
   },
   "outputs": [],
   "source": [
    "test_images = mnist.test_images()\n",
    "test_labels = mnist.test_labels()"
   ]
  },
  {
   "cell_type": "code",
   "execution_count": 8,
   "metadata": {
    "execution": {
     "iopub.execute_input": "2020-08-25T20:12:32.540948Z",
     "iopub.status.busy": "2020-08-25T20:12:32.540406Z",
     "iopub.status.idle": "2020-08-25T20:12:32.551644Z",
     "shell.execute_reply": "2020-08-25T20:12:32.551206Z"
    },
    "papermill": {
     "duration": 0.039601,
     "end_time": "2020-08-25T20:12:32.551746",
     "exception": false,
     "start_time": "2020-08-25T20:12:32.512145",
     "status": "completed"
    },
    "tags": []
   },
   "outputs": [
    {
     "data": {
      "text/plain": [
       "((10000, 28, 28), (10000,))"
      ]
     },
     "execution_count": 8,
     "metadata": {},
     "output_type": "execute_result"
    }
   ],
   "source": [
    "test_images.shape, test_labels.shape"
   ]
  },
  {
   "cell_type": "code",
   "execution_count": 9,
   "metadata": {
    "execution": {
     "iopub.execute_input": "2020-08-25T20:12:32.616263Z",
     "iopub.status.busy": "2020-08-25T20:12:32.615635Z",
     "iopub.status.idle": "2020-08-25T20:12:32.768256Z",
     "shell.execute_reply": "2020-08-25T20:12:32.768925Z"
    },
    "papermill": {
     "duration": 0.192298,
     "end_time": "2020-08-25T20:12:32.769069",
     "exception": false,
     "start_time": "2020-08-25T20:12:32.576771",
     "status": "completed"
    },
    "tags": []
   },
   "outputs": [
    {
     "name": "stdout",
     "output_type": "stream",
     "text": [
      "2\n"
     ]
    },
    {
     "data": {
      "text/plain": [
       "<matplotlib.image.AxesImage at 0x7f998f3bb0b8>"
      ]
     },
     "execution_count": 9,
     "metadata": {},
     "output_type": "execute_result"
    },
    {
     "data": {
      "image/png": "[encoded data removed]",
      "text/plain": [
       "<Figure size 432x288 with 1 Axes>"
      ]
     },
     "metadata": {
      "needs_background": "light"
     },
     "output_type": "display_data"
    }
   ],
   "source": [
    "image_index = 7776 # You may select anything up to 60,000\n",
    "print(train_labels[image_index]) \n",
    "plt.imshow(train_images[image_index], cmap='Greys')"
   ]
  },
  {
   "cell_type": "markdown",
   "metadata": {
    "papermill": {
     "duration": 0.034363,
     "end_time": "2020-08-25T20:12:32.839466",
     "exception": false,
     "start_time": "2020-08-25T20:12:32.805103",
     "status": "completed"
    },
    "tags": []
   },
   "source": [
    "## Filter data to get 3 and 8 out"
   ]
  },
  {
   "cell_type": "code",
   "execution_count": 10,
   "metadata": {
    "execution": {
     "iopub.execute_input": "2020-08-25T20:12:32.910644Z",
     "iopub.status.busy": "2020-08-25T20:12:32.910070Z",
     "iopub.status.idle": "2020-08-25T20:12:32.936502Z",
     "shell.execute_reply": "2020-08-25T20:12:32.935847Z"
    },
    "papermill": {
     "duration": 0.063327,
     "end_time": "2020-08-25T20:12:32.936710",
     "exception": false,
     "start_time": "2020-08-25T20:12:32.873383",
     "status": "completed"
    },
    "tags": []
   },
   "outputs": [],
   "source": [
    "train_filter = np.where((train_labels == 3 ) | (train_labels == 8))\n",
    "test_filter = np.where((test_labels == 3) | (test_labels == 8))\n",
    "X_train, y_train = train_images[train_filter], train_labels[train_filter]\n",
    "X_test, y_test = test_images[test_filter], test_labels[test_filter]"
   ]
  },
  {
   "cell_type": "markdown",
   "metadata": {
    "papermill": {
     "duration": 0.0277,
     "end_time": "2020-08-25T20:12:32.998469",
     "exception": false,
     "start_time": "2020-08-25T20:12:32.970769",
     "status": "completed"
    },
    "tags": []
   },
   "source": [
    "##### We normalize the pizel values in the 0 to 1 range"
   ]
  },
  {
   "cell_type": "code",
   "execution_count": 11,
   "metadata": {
    "execution": {
     "iopub.execute_input": "2020-08-25T20:12:33.055858Z",
     "iopub.status.busy": "2020-08-25T20:12:33.055306Z",
     "iopub.status.idle": "2020-08-25T20:12:33.112372Z",
     "shell.execute_reply": "2020-08-25T20:12:33.111751Z"
    },
    "papermill": {
     "duration": 0.087455,
     "end_time": "2020-08-25T20:12:33.112551",
     "exception": false,
     "start_time": "2020-08-25T20:12:33.025096",
     "status": "completed"
    },
    "tags": []
   },
   "outputs": [],
   "source": [
    "X_train = X_train/255.\n",
    "X_test = X_test/255."
   ]
  },
  {
   "cell_type": "markdown",
   "metadata": {
    "papermill": {
     "duration": 0.026941,
     "end_time": "2020-08-25T20:12:33.171719",
     "exception": false,
     "start_time": "2020-08-25T20:12:33.144778",
     "status": "completed"
    },
    "tags": []
   },
   "source": [
    "And setup the labels as 1 (when the digit is 3) and 0 (when the digit is 8)"
   ]
  },
  {
   "cell_type": "code",
   "execution_count": 12,
   "metadata": {
    "execution": {
     "iopub.execute_input": "2020-08-25T20:12:33.231613Z",
     "iopub.status.busy": "2020-08-25T20:12:33.230905Z",
     "iopub.status.idle": "2020-08-25T20:12:33.241887Z",
     "shell.execute_reply": "2020-08-25T20:12:33.241434Z"
    },
    "papermill": {
     "duration": 0.043162,
     "end_time": "2020-08-25T20:12:33.241991",
     "exception": false,
     "start_time": "2020-08-25T20:12:33.198829",
     "status": "completed"
    },
    "tags": []
   },
   "outputs": [],
   "source": [
    "y_train = 1*(y_train==3)\n",
    "y_test = 1*(y_test==3)"
   ]
  },
  {
   "cell_type": "code",
   "execution_count": 13,
   "metadata": {
    "execution": {
     "iopub.execute_input": "2020-08-25T20:12:33.298924Z",
     "iopub.status.busy": "2020-08-25T20:12:33.298393Z",
     "iopub.status.idle": "2020-08-25T20:12:33.307771Z",
     "shell.execute_reply": "2020-08-25T20:12:33.308561Z"
    },
    "papermill": {
     "duration": 0.039935,
     "end_time": "2020-08-25T20:12:33.308716",
     "exception": false,
     "start_time": "2020-08-25T20:12:33.268781",
     "status": "completed"
    },
    "tags": []
   },
   "outputs": [
    {
     "data": {
      "text/plain": [
       "((11982, 28, 28), (1984, 28, 28))"
      ]
     },
     "execution_count": 13,
     "metadata": {},
     "output_type": "execute_result"
    }
   ],
   "source": [
    "X_train.shape, X_test.shape"
   ]
  },
  {
   "cell_type": "markdown",
   "metadata": {
    "papermill": {
     "duration": 0.034675,
     "end_time": "2020-08-25T20:12:33.372826",
     "exception": false,
     "start_time": "2020-08-25T20:12:33.338151",
     "status": "completed"
    },
    "tags": []
   },
   "source": [
    "##### We reshape the data to flatten the image pixels into a set of features or co-variates:"
   ]
  },
  {
   "cell_type": "code",
   "execution_count": 14,
   "metadata": {
    "execution": {
     "iopub.execute_input": "2020-08-25T20:12:33.442074Z",
     "iopub.status.busy": "2020-08-25T20:12:33.441323Z",
     "iopub.status.idle": "2020-08-25T20:12:33.454217Z",
     "shell.execute_reply": "2020-08-25T20:12:33.454757Z"
    },
    "papermill": {
     "duration": 0.051668,
     "end_time": "2020-08-25T20:12:33.454895",
     "exception": false,
     "start_time": "2020-08-25T20:12:33.403227",
     "status": "completed"
    },
    "tags": []
   },
   "outputs": [
    {
     "data": {
      "text/plain": [
       "((11982, 784), (1984, 784))"
      ]
     },
     "execution_count": 14,
     "metadata": {},
     "output_type": "execute_result"
    }
   ],
   "source": [
    "X_train = X_train.reshape(X_train.shape[0], -1)\n",
    "X_test = X_test.reshape(X_test.shape[0], -1)\n",
    "X_train.shape, X_test.shape"
   ]
  },
  {
   "cell_type": "markdown",
   "metadata": {
    "papermill": {
     "duration": 0.034446,
     "end_time": "2020-08-25T20:12:33.522109",
     "exception": false,
     "start_time": "2020-08-25T20:12:33.487663",
     "status": "completed"
    },
    "tags": []
   },
   "source": [
    "##### Importing Kudzu library and its functionality"
   ]
  },
  {
   "cell_type": "code",
   "execution_count": 15,
   "metadata": {
    "execution": {
     "iopub.execute_input": "2020-08-25T20:12:33.582907Z",
     "iopub.status.busy": "2020-08-25T20:12:33.582371Z",
     "iopub.status.idle": "2020-08-25T20:12:33.597473Z",
     "shell.execute_reply": "2020-08-25T20:12:33.597908Z"
    },
    "papermill": {
     "duration": 0.046837,
     "end_time": "2020-08-25T20:12:33.598025",
     "exception": false,
     "start_time": "2020-08-25T20:12:33.551188",
     "status": "completed"
    },
    "tags": []
   },
   "outputs": [],
   "source": [
    "from kudzu.data import Data, Dataloader, Sampler\n",
    "from kudzu.callbacks import AccCallback\n",
    "from kudzu.loss import MSE\n",
    "from kudzu.layer import Affine, Sigmoid\n",
    "from kudzu.model import Model\n",
    "from kudzu.optim import GD\n",
    "from kudzu.train import Learner\n",
    "from kudzu.callbacks import ClfCallback\n",
    "from kudzu.layer import Sigmoid\n",
    "from kudzu.layer import Relu"
   ]
  },
  {
   "cell_type": "markdown",
   "metadata": {
    "papermill": {
     "duration": 0.029066,
     "end_time": "2020-08-25T20:12:33.657302",
     "exception": false,
     "start_time": "2020-08-25T20:12:33.628236",
     "status": "completed"
    },
    "tags": []
   },
   "source": [
    "##### We are creating a class, just so that we can use it to store our parameters for us"
   ]
  },
  {
   "cell_type": "code",
   "execution_count": 16,
   "metadata": {
    "execution": {
     "iopub.execute_input": "2020-08-25T20:12:33.715305Z",
     "iopub.status.busy": "2020-08-25T20:12:33.714768Z",
     "iopub.status.idle": "2020-08-25T20:12:33.724167Z",
     "shell.execute_reply": "2020-08-25T20:12:33.724629Z"
    },
    "papermill": {
     "duration": 0.039942,
     "end_time": "2020-08-25T20:12:33.724766",
     "exception": false,
     "start_time": "2020-08-25T20:12:33.684824",
     "status": "completed"
    },
    "tags": []
   },
   "outputs": [],
   "source": [
    "class Config:\n",
    "    pass\n",
    "config = Config()\n",
    "config.lr = 0.001\n",
    "config.num_epochs = 250\n",
    "config.bs = 50"
   ]
  },
  {
   "cell_type": "markdown",
   "metadata": {
    "papermill": {
     "duration": 0.027449,
     "end_time": "2020-08-25T20:12:33.779280",
     "exception": false,
     "start_time": "2020-08-25T20:12:33.751831",
     "status": "completed"
    },
    "tags": []
   },
   "source": [
    "##### Initializing Data"
   ]
  },
  {
   "cell_type": "code",
   "execution_count": 17,
   "metadata": {
    "execution": {
     "iopub.execute_input": "2020-08-25T20:12:33.839854Z",
     "iopub.status.busy": "2020-08-25T20:12:33.839110Z",
     "iopub.status.idle": "2020-08-25T20:12:33.847995Z",
     "shell.execute_reply": "2020-08-25T20:12:33.848418Z"
    },
    "papermill": {
     "duration": 0.041798,
     "end_time": "2020-08-25T20:12:33.848536",
     "exception": false,
     "start_time": "2020-08-25T20:12:33.806738",
     "status": "completed"
    },
    "tags": []
   },
   "outputs": [],
   "source": [
    "data = Data(X_train, y_train.reshape(-1,1))\n",
    "loss = MSE()\n",
    "opt = GD(config.lr)\n",
    "sampler = Sampler(data, config.bs, shuffle=True)\n",
    "dl = Dataloader(data, sampler)"
   ]
  },
  {
   "cell_type": "markdown",
   "metadata": {
    "papermill": {
     "duration": 0.027734,
     "end_time": "2020-08-25T20:12:33.903774",
     "exception": false,
     "start_time": "2020-08-25T20:12:33.876040",
     "status": "completed"
    },
    "tags": []
   },
   "source": [
    "##### Constructing 2 different layers, one for NN and one only for logistic regression."
   ]
  },
  {
   "cell_type": "markdown",
   "metadata": {
    "papermill": {
     "duration": 0.036049,
     "end_time": "2020-08-25T20:12:33.966859",
     "exception": false,
     "start_time": "2020-08-25T20:12:33.930810",
     "status": "completed"
    },
    "tags": []
   },
   "source": [
    "##### Creating containers for data to be passed, to calculate accuracies"
   ]
  },
  {
   "cell_type": "code",
   "execution_count": 18,
   "metadata": {
    "execution": {
     "iopub.execute_input": "2020-08-25T20:12:34.045862Z",
     "iopub.status.busy": "2020-08-25T20:12:34.045264Z",
     "iopub.status.idle": "2020-08-25T20:12:34.059136Z",
     "shell.execute_reply": "2020-08-25T20:12:34.060603Z"
    },
    "papermill": {
     "duration": 0.054276,
     "end_time": "2020-08-25T20:12:34.060823",
     "exception": false,
     "start_time": "2020-08-25T20:12:34.006547",
     "status": "completed"
    },
    "tags": []
   },
   "outputs": [],
   "source": [
    "training_xdata = X_train\n",
    "testing_xdata = X_test\n",
    "training_ydata = y_train.reshape(-1,1)\n",
    "testing_ydata = y_test.reshape(-1,1)"
   ]
  },
  {
   "cell_type": "markdown",
   "metadata": {
    "papermill": {
     "duration": 0.036241,
     "end_time": "2020-08-25T20:12:34.132816",
     "exception": false,
     "start_time": "2020-08-25T20:12:34.096575",
     "status": "completed"
    },
    "tags": []
   },
   "source": [
    "##### Initializing models and Running training loop: "
   ]
  },
  {
   "cell_type": "code",
   "execution_count": 19,
   "metadata": {
    "execution": {
     "iopub.execute_input": "2020-08-25T20:12:34.199580Z",
     "iopub.status.busy": "2020-08-25T20:12:34.198711Z",
     "iopub.status.idle": "2020-08-25T20:12:34.214509Z",
     "shell.execute_reply": "2020-08-25T20:12:34.215020Z"
    },
    "papermill": {
     "duration": 0.049636,
     "end_time": "2020-08-25T20:12:34.215250",
     "exception": false,
     "start_time": "2020-08-25T20:12:34.165614",
     "status": "completed"
    },
    "tags": []
   },
   "outputs": [],
   "source": [
    "layers = [Affine(\"first\", 784, 100), Relu(\"first\"), Affine(\"second\", 100, 100), Relu(\"second\"), Affine(\"third\", 100, 2), Affine(\"final\", 2, 1), Sigmoid(\"final\")]\n",
    "\n",
    "model_neural = Model(layers)\n",
    "model_logistic = Model([Affine(\"logits\", 784, 1), Sigmoid(\"sigmoid\")])"
   ]
  },
  {
   "cell_type": "code",
   "execution_count": 20,
   "metadata": {
    "execution": {
     "iopub.execute_input": "2020-08-25T20:12:34.277664Z",
     "iopub.status.busy": "2020-08-25T20:12:34.277005Z",
     "iopub.status.idle": "2020-08-25T20:12:34.287885Z",
     "shell.execute_reply": "2020-08-25T20:12:34.287425Z"
    },
    "papermill": {
     "duration": 0.042553,
     "end_time": "2020-08-25T20:12:34.287993",
     "exception": false,
     "start_time": "2020-08-25T20:12:34.245440",
     "status": "completed"
    },
    "tags": []
   },
   "outputs": [],
   "source": [
    "learner1 = Learner(loss, model_neural, opt, config.num_epochs)\n",
    "acc1 = ClfCallback(learner1, config.bs, training_xdata , testing_xdata, training_ydata, testing_ydata)\n",
    "learner1.set_callbacks([acc1])"
   ]
  },
  {
   "cell_type": "code",
   "execution_count": 21,
   "metadata": {
    "execution": {
     "iopub.execute_input": "2020-08-25T20:12:34.346712Z",
     "iopub.status.busy": "2020-08-25T20:12:34.346184Z",
     "iopub.status.idle": "2020-08-25T20:14:38.615247Z",
     "shell.execute_reply": "2020-08-25T20:14:38.615964Z"
    },
    "papermill": {
     "duration": 124.300978,
     "end_time": "2020-08-25T20:14:38.616112",
     "exception": false,
     "start_time": "2020-08-25T20:12:34.315134",
     "status": "completed"
    },
    "tags": []
   },
   "outputs": [
    {
     "name": "stdout",
     "output_type": "stream",
     "text": [
      "Epoch 0 Loss 0.24950176690989226\n",
      "train accuracy is: 0.5813720580871307, test accuracy is 0.5665322580645161\n"
     ]
    },
    {
     "name": "stdout",
     "output_type": "stream",
     "text": [
      "Epoch 10 Loss 0.24645180467952688\n",
      "train accuracy is: 0.7081455516608246, test accuracy is 0.6975806451612904\n"
     ]
    },
    {
     "name": "stdout",
     "output_type": "stream",
     "text": [
      "Epoch 20 Loss 0.22789266664190713\n",
      "train accuracy is: 0.8370055082623936, test accuracy is 0.8361895161290323\n"
     ]
    },
    {
     "name": "stdout",
     "output_type": "stream",
     "text": [
      "Epoch 30 Loss 0.13840922004870573\n",
      "train accuracy is: 0.8905858788182274, test accuracy is 0.9027217741935484\n"
     ]
    },
    {
     "name": "stdout",
     "output_type": "stream",
     "text": [
      "Epoch 40 Loss 0.0746531562420143\n",
      "train accuracy is: 0.9230512435319647, test accuracy is 0.9359879032258065\n"
     ]
    },
    {
     "name": "stdout",
     "output_type": "stream",
     "text": [
      "Epoch 50 Loss 0.05438200525328886\n",
      "train accuracy is: 0.9392421966282758, test accuracy is 0.952116935483871\n"
     ]
    },
    {
     "name": "stdout",
     "output_type": "stream",
     "text": [
      "Epoch 60 Loss 0.04485696505380546\n",
      "train accuracy is: 0.9496745117676515, test accuracy is 0.9591733870967742\n"
     ]
    },
    {
     "name": "stdout",
     "output_type": "stream",
     "text": [
      "Epoch 70 Loss 0.03947159448576308\n",
      "train accuracy is: 0.9545151059923218, test accuracy is 0.9647177419354839\n"
     ]
    },
    {
     "name": "stdout",
     "output_type": "stream",
     "text": [
      "Epoch 80 Loss 0.03604334906129451\n",
      "train accuracy is: 0.9581872809213821, test accuracy is 0.9657258064516129\n"
     ]
    },
    {
     "name": "stdout",
     "output_type": "stream",
     "text": [
      "Epoch 90 Loss 0.03363527547264694\n",
      "train accuracy is: 0.9595226172592222, test accuracy is 0.967741935483871\n"
     ]
    },
    {
     "name": "stdout",
     "output_type": "stream",
     "text": [
      "Epoch 100 Loss 0.03181818808579663\n",
      "train accuracy is: 0.9626105825404774, test accuracy is 0.967741935483871\n"
     ]
    },
    {
     "name": "stdout",
     "output_type": "stream",
     "text": [
      "Epoch 110 Loss 0.030371281597156016\n",
      "train accuracy is: 0.9647805040894676, test accuracy is 0.9702620967741935\n"
     ]
    },
    {
     "name": "stdout",
     "output_type": "stream",
     "text": [
      "Epoch 120 Loss 0.02917338213645864\n",
      "train accuracy is: 0.9658654648639626, test accuracy is 0.9707661290322581\n"
     ]
    },
    {
     "name": "stdout",
     "output_type": "stream",
     "text": [
      "Epoch 130 Loss 0.028148217795884965\n",
      "train accuracy is: 0.9665331330328827, test accuracy is 0.9707661290322581\n"
     ]
    },
    {
     "name": "stdout",
     "output_type": "stream",
     "text": [
      "Epoch 140 Loss 0.027257824463034305\n",
      "train accuracy is: 0.9677015523284928, test accuracy is 0.9702620967741935\n"
     ]
    },
    {
     "name": "stdout",
     "output_type": "stream",
     "text": [
      "Epoch 150 Loss 0.02646095155917574\n",
      "train accuracy is: 0.9686195960607578, test accuracy is 0.969758064516129\n"
     ]
    },
    {
     "name": "stdout",
     "output_type": "stream",
     "text": [
      "Epoch 160 Loss 0.02575203012667214\n",
      "train accuracy is: 0.9696210983141379, test accuracy is 0.9702620967741935\n"
     ]
    },
    {
     "name": "stdout",
     "output_type": "stream",
     "text": [
      "Epoch 170 Loss 0.02510335861741966\n",
      "train accuracy is: 0.9704556835252879, test accuracy is 0.9702620967741935\n"
     ]
    },
    {
     "name": "stdout",
     "output_type": "stream",
     "text": [
      "Epoch 180 Loss 0.02451366697797566\n",
      "train accuracy is: 0.970956434651978, test accuracy is 0.9702620967741935\n"
     ]
    },
    {
     "name": "stdout",
     "output_type": "stream",
     "text": [
      "Epoch 190 Loss 0.02397133170386579\n",
      "train accuracy is: 0.971290268736438, test accuracy is 0.9702620967741935\n"
     ]
    },
    {
     "name": "stdout",
     "output_type": "stream",
     "text": [
      "Epoch 200 Loss 0.023465199242328566\n",
      "train accuracy is: 0.9721248539475881, test accuracy is 0.9692540322580645\n"
     ]
    },
    {
     "name": "stdout",
     "output_type": "stream",
     "text": [
      "Epoch 210 Loss 0.022991188592153346\n",
      "train accuracy is: 0.9728759806376232, test accuracy is 0.9692540322580645\n"
     ]
    },
    {
     "name": "stdout",
     "output_type": "stream",
     "text": [
      "Epoch 220 Loss 0.02254332532872155\n",
      "train accuracy is: 0.9737105658487731, test accuracy is 0.969758064516129\n"
     ]
    },
    {
     "name": "stdout",
     "output_type": "stream",
     "text": [
      "Epoch 230 Loss 0.02212022368638782\n",
      "train accuracy is: 0.9741278584543482, test accuracy is 0.9702620967741935\n"
     ]
    },
    {
     "name": "stdout",
     "output_type": "stream",
     "text": [
      "Epoch 240 Loss 0.021719460517784808\n",
      "train accuracy is: 0.9747955266232682, test accuracy is 0.9717741935483871\n"
     ]
    },
    {
     "data": {
      "text/plain": [
       "0.05692675463642467"
      ]
     },
     "execution_count": 21,
     "metadata": {},
     "output_type": "execute_result"
    }
   ],
   "source": [
    "learner1.train_loop(dl)"
   ]
  },
  {
   "cell_type": "markdown",
   "metadata": {
    "papermill": {
     "duration": 0.035088,
     "end_time": "2020-08-25T20:14:38.687057",
     "exception": false,
     "start_time": "2020-08-25T20:14:38.651969",
     "status": "completed"
    },
    "tags": []
   },
   "source": [
    "##### Now running only the logistic regression based classification to compare results with NN"
   ]
  },
  {
   "cell_type": "code",
   "execution_count": 22,
   "metadata": {
    "execution": {
     "iopub.execute_input": "2020-08-25T20:14:38.761952Z",
     "iopub.status.busy": "2020-08-25T20:14:38.761179Z",
     "iopub.status.idle": "2020-08-25T20:14:38.769855Z",
     "shell.execute_reply": "2020-08-25T20:14:38.770267Z"
    },
    "papermill": {
     "duration": 0.047595,
     "end_time": "2020-08-25T20:14:38.770392",
     "exception": false,
     "start_time": "2020-08-25T20:14:38.722797",
     "status": "completed"
    },
    "tags": []
   },
   "outputs": [],
   "source": [
    "learner2 = Learner(loss, model_logistic, opt, config.num_epochs)\n",
    "acc2 = ClfCallback(learner2, config.bs, training_xdata , testing_xdata, training_ydata, testing_ydata)\n",
    "learner2.set_callbacks([acc2])"
   ]
  },
  {
   "cell_type": "code",
   "execution_count": 23,
   "metadata": {
    "execution": {
     "iopub.execute_input": "2020-08-25T20:14:38.844918Z",
     "iopub.status.busy": "2020-08-25T20:14:38.843458Z",
     "iopub.status.idle": "2020-08-25T20:14:56.878994Z",
     "shell.execute_reply": "2020-08-25T20:14:56.879714Z"
    },
    "papermill": {
     "duration": 18.075028,
     "end_time": "2020-08-25T20:14:56.879861",
     "exception": false,
     "start_time": "2020-08-25T20:14:38.804833",
     "status": "completed"
    },
    "tags": []
   },
   "outputs": [
    {
     "name": "stdout",
     "output_type": "stream",
     "text": [
      "Epoch 0 Loss 0.24381567732906534\n",
      "train accuracy is: 0.6583208145551661, test accuracy is 0.6925403225806451\n"
     ]
    },
    {
     "name": "stdout",
     "output_type": "stream",
     "text": [
      "Epoch 10 Loss 0.10284592132931236\n",
      "train accuracy is: 0.9098647971957937, test accuracy is 0.922883064516129\n"
     ]
    },
    {
     "name": "stdout",
     "output_type": "stream",
     "text": [
      "Epoch 20 Loss 0.07896387398704029\n",
      "train accuracy is: 0.9272241695877149, test accuracy is 0.9410282258064516\n"
     ]
    },
    {
     "name": "stdout",
     "output_type": "stream",
     "text": [
      "Epoch 30 Loss 0.06802652262876407\n",
      "train accuracy is: 0.9361542313470206, test accuracy is 0.9480846774193549\n"
     ]
    },
    {
     "name": "stdout",
     "output_type": "stream",
     "text": [
      "Epoch 40 Loss 0.061476911126504906\n",
      "train accuracy is: 0.9404106159238859, test accuracy is 0.9551411290322581\n"
     ]
    },
    {
     "name": "stdout",
     "output_type": "stream",
     "text": [
      "Epoch 50 Loss 0.057023841179672664\n",
      "train accuracy is: 0.943748956768486, test accuracy is 0.9556451612903226\n"
     ]
    },
    {
     "name": "stdout",
     "output_type": "stream",
     "text": [
      "Epoch 60 Loss 0.05375396272513072\n",
      "train accuracy is: 0.9461692538808212, test accuracy is 0.9576612903225806\n"
     ]
    },
    {
     "name": "stdout",
     "output_type": "stream",
     "text": [
      "Epoch 70 Loss 0.051228939647044405\n",
      "train accuracy is: 0.9483391754298114, test accuracy is 0.9586693548387096\n"
     ]
    },
    {
     "name": "stdout",
     "output_type": "stream",
     "text": [
      "Epoch 80 Loss 0.04919995606323637\n",
      "train accuracy is: 0.9496745117676515, test accuracy is 0.9596774193548387\n"
     ]
    },
    {
     "name": "stdout",
     "output_type": "stream",
     "text": [
      "Epoch 90 Loss 0.04752783982039654\n",
      "train accuracy is: 0.9506760140210315, test accuracy is 0.9611895161290323\n"
     ]
    },
    {
     "name": "stdout",
     "output_type": "stream",
     "text": [
      "Epoch 100 Loss 0.0461172954179286\n",
      "train accuracy is: 0.9521782674011017, test accuracy is 0.9616935483870968\n"
     ]
    },
    {
     "name": "stdout",
     "output_type": "stream",
     "text": [
      "Epoch 110 Loss 0.04490598176239333\n",
      "train accuracy is: 0.9529293940911367, test accuracy is 0.9616935483870968\n"
     ]
    },
    {
     "name": "stdout",
     "output_type": "stream",
     "text": [
      "Epoch 120 Loss 0.043850705056381015\n",
      "train accuracy is: 0.9540978133867468, test accuracy is 0.9616935483870968\n"
     ]
    },
    {
     "name": "stdout",
     "output_type": "stream",
     "text": [
      "Epoch 130 Loss 0.042921195581187656\n",
      "train accuracy is: 0.9554331497245869, test accuracy is 0.9632056451612904\n"
     ]
    },
    {
     "name": "stdout",
     "output_type": "stream",
     "text": [
      "Epoch 140 Loss 0.042093521238687204\n",
      "train accuracy is: 0.956434651977967, test accuracy is 0.9637096774193549\n"
     ]
    },
    {
     "name": "stdout",
     "output_type": "stream",
     "text": [
      "Epoch 150 Loss 0.04135023603647436\n",
      "train accuracy is: 0.957185778668002, test accuracy is 0.9657258064516129\n"
     ]
    },
    {
     "name": "stdout",
     "output_type": "stream",
     "text": [
      "Epoch 160 Loss 0.04067759519298128\n",
      "train accuracy is: 0.958020363879152, test accuracy is 0.9657258064516129\n"
     ]
    },
    {
     "name": "stdout",
     "output_type": "stream",
     "text": [
      "Epoch 170 Loss 0.04006358417917638\n",
      "train accuracy is: 0.958604573526957, test accuracy is 0.9657258064516129\n"
     ]
    },
    {
     "name": "stdout",
     "output_type": "stream",
     "text": [
      "Epoch 180 Loss 0.03950340575145942\n",
      "train accuracy is: 0.9585211150058421, test accuracy is 0.9662298387096774\n"
     ]
    },
    {
     "name": "stdout",
     "output_type": "stream",
     "text": [
      "Epoch 190 Loss 0.03898639442489392\n",
      "train accuracy is: 0.9591053246536472, test accuracy is 0.967741935483871\n"
     ]
    },
    {
     "name": "stdout",
     "output_type": "stream",
     "text": [
      "Epoch 200 Loss 0.03850854388422934\n",
      "train accuracy is: 0.9592722416958771, test accuracy is 0.967741935483871\n"
     ]
    },
    {
     "name": "stdout",
     "output_type": "stream",
     "text": [
      "Epoch 210 Loss 0.03806473520694156\n",
      "train accuracy is: 0.9595226172592222, test accuracy is 0.9672379032258065\n"
     ]
    },
    {
     "name": "stdout",
     "output_type": "stream",
     "text": [
      "Epoch 220 Loss 0.03765114740749394\n",
      "train accuracy is: 0.9596895343014522, test accuracy is 0.9667338709677419\n"
     ]
    },
    {
     "name": "stdout",
     "output_type": "stream",
     "text": [
      "Epoch 230 Loss 0.03726396815931978\n",
      "train accuracy is: 0.9598564513436821, test accuracy is 0.9667338709677419\n"
     ]
    },
    {
     "name": "stdout",
     "output_type": "stream",
     "text": [
      "Epoch 240 Loss 0.03690148674172278\n",
      "train accuracy is: 0.9602737439492572, test accuracy is 0.9667338709677419\n"
     ]
    },
    {
     "data": {
      "text/plain": [
       "0.041973140457637434"
      ]
     },
     "execution_count": 23,
     "metadata": {},
     "output_type": "execute_result"
    }
   ],
   "source": [
    "learner2.train_loop(dl)"
   ]
  },
  {
   "cell_type": "markdown",
   "metadata": {
    "papermill": {
     "duration": 0.041418,
     "end_time": "2020-08-25T20:14:56.964473",
     "exception": false,
     "start_time": "2020-08-25T20:14:56.923055",
     "status": "completed"
    },
    "tags": []
   },
   "source": [
    "### Comparing results of NN and LR"
   ]
  },
  {
   "cell_type": "code",
   "execution_count": 24,
   "metadata": {
    "execution": {
     "iopub.execute_input": "2020-08-25T20:14:57.059097Z",
     "iopub.status.busy": "2020-08-25T20:14:57.057605Z",
     "iopub.status.idle": "2020-08-25T20:14:57.283233Z",
     "shell.execute_reply": "2020-08-25T20:14:57.283676Z"
    },
    "papermill": {
     "duration": 0.27533,
     "end_time": "2020-08-25T20:14:57.283813",
     "exception": false,
     "start_time": "2020-08-25T20:14:57.008483",
     "status": "completed"
    },
    "tags": []
   },
   "outputs": [
    {
     "data": {
      "text/plain": [
       "<matplotlib.legend.Legend at 0x7f998ef907f0>"
      ]
     },
     "execution_count": 24,
     "metadata": {},
     "output_type": "execute_result"
    },
    {
     "data": {
      "image/png": "[encoded data removed]",
      "text/plain": [
       "<Figure size 576x360 with 1 Axes>"
      ]
     },
     "metadata": {
      "needs_background": "light"
     },
     "output_type": "display_data"
    }
   ],
   "source": [
    "plt.figure(figsize=(8,5))\n",
    "plt.plot(acc1.val_accuracies, 'g-', label = \"Val Accuracies - NN\")\n",
    "plt.plot(acc1.accuracies, 'r-', label = \"Accuracies - NN\")\n",
    "plt.plot(acc2.val_accuracies, 'b-', label = \"Val Accuracies - Logistic Reg\")\n",
    "plt.plot(acc2.accuracies, 'k-', label = \"Accuracies - Logistic Reg\")\n",
    "plt.ylim(0.8,1) ## for a more spread out view\n",
    "plt.legend()"
   ]
  },
  {
   "cell_type": "markdown",
   "metadata": {
    "papermill": {
     "duration": 0.041918,
     "end_time": "2020-08-25T20:14:57.368403",
     "exception": false,
     "start_time": "2020-08-25T20:14:57.326485",
     "status": "completed"
    },
    "tags": []
   },
   "source": [
    "### Clearly NN has a better accuracy over LR; NN is overfitting - Validation accuracy (green) has dropped below training accuracy (orange), also they are diverging. This problem is not seen in LR"
   ]
  },
  {
   "cell_type": "markdown",
   "metadata": {
    "papermill": {
     "duration": 0.0436,
     "end_time": "2020-08-25T20:14:57.454838",
     "exception": false,
     "start_time": "2020-08-25T20:14:57.411238",
     "status": "completed"
    },
    "tags": []
   },
   "source": [
    "##### Now we will be moving through the network, till the output of the second last affine where we get a 2 dimensional output. We will be plotting this 2d output and probability contours"
   ]
  },
  {
   "cell_type": "code",
   "execution_count": 25,
   "metadata": {
    "execution": {
     "iopub.execute_input": "2020-08-25T20:14:57.549908Z",
     "iopub.status.busy": "2020-08-25T20:14:57.541143Z",
     "iopub.status.idle": "2020-08-25T20:14:57.553951Z",
     "shell.execute_reply": "2020-08-25T20:14:57.554390Z"
    },
    "papermill": {
     "duration": 0.057872,
     "end_time": "2020-08-25T20:14:57.554509",
     "exception": false,
     "start_time": "2020-08-25T20:14:57.496637",
     "status": "completed"
    },
    "tags": []
   },
   "outputs": [],
   "source": [
    "model_new = Model(layers[:-2])"
   ]
  },
  {
   "cell_type": "code",
   "execution_count": 26,
   "metadata": {
    "execution": {
     "iopub.execute_input": "2020-08-25T20:14:57.645868Z",
     "iopub.status.busy": "2020-08-25T20:14:57.645323Z",
     "iopub.status.idle": "2020-08-25T20:14:57.664672Z",
     "shell.execute_reply": "2020-08-25T20:14:57.665176Z"
    },
    "papermill": {
     "duration": 0.068475,
     "end_time": "2020-08-25T20:14:57.665308",
     "exception": false,
     "start_time": "2020-08-25T20:14:57.596833",
     "status": "completed"
    },
    "tags": []
   },
   "outputs": [],
   "source": [
    "plot_testing = model_new(testing_xdata)"
   ]
  },
  {
   "cell_type": "markdown",
   "metadata": {
    "papermill": {
     "duration": 0.047213,
     "end_time": "2020-08-25T20:14:57.755619",
     "exception": false,
     "start_time": "2020-08-25T20:14:57.708406",
     "status": "completed"
    },
    "tags": []
   },
   "source": [
    "##### Plotting the scatter plot of points and color coding by class"
   ]
  },
  {
   "cell_type": "code",
   "execution_count": 27,
   "metadata": {
    "execution": {
     "iopub.execute_input": "2020-08-25T20:14:57.898702Z",
     "iopub.status.busy": "2020-08-25T20:14:57.895064Z",
     "iopub.status.idle": "2020-08-25T20:14:58.071099Z",
     "shell.execute_reply": "2020-08-25T20:14:58.071556Z"
    },
    "papermill": {
     "duration": 0.271555,
     "end_time": "2020-08-25T20:14:58.071700",
     "exception": false,
     "start_time": "2020-08-25T20:14:57.800145",
     "status": "completed"
    },
    "tags": []
   },
   "outputs": [
    {
     "data": {
      "image/png": "[encoded data removed]",
      "text/plain": [
       "<Figure size 576x504 with 1 Axes>"
      ]
     },
     "metadata": {
      "needs_background": "light"
     },
     "output_type": "display_data"
    }
   ],
   "source": [
    "plt.figure(figsize=(8,7))\n",
    "plt.scatter(plot_testing[:,0], plot_testing[:,1], alpha = 0.1, c = y_test.ravel());"
   ]
  },
  {
   "cell_type": "markdown",
   "metadata": {
    "papermill": {
     "duration": 0.04473,
     "end_time": "2020-08-25T20:14:58.162324",
     "exception": false,
     "start_time": "2020-08-25T20:14:58.117594",
     "status": "completed"
    },
    "tags": []
   },
   "source": [
    "##### Plotting probability contours"
   ]
  },
  {
   "cell_type": "code",
   "execution_count": 28,
   "metadata": {
    "execution": {
     "iopub.execute_input": "2020-08-25T20:14:58.260372Z",
     "iopub.status.busy": "2020-08-25T20:14:58.259584Z",
     "iopub.status.idle": "2020-08-25T20:14:58.270341Z",
     "shell.execute_reply": "2020-08-25T20:14:58.270794Z"
    },
    "papermill": {
     "duration": 0.063921,
     "end_time": "2020-08-25T20:14:58.270924",
     "exception": false,
     "start_time": "2020-08-25T20:14:58.207003",
     "status": "completed"
    },
    "tags": []
   },
   "outputs": [],
   "source": [
    "model_prob = Model(layers[-2:]) ## picking only last two layers to get probability. That is affine followed by sigmoid"
   ]
  },
  {
   "cell_type": "code",
   "execution_count": 29,
   "metadata": {
    "execution": {
     "iopub.execute_input": "2020-08-25T20:14:58.372571Z",
     "iopub.status.busy": "2020-08-25T20:14:58.360743Z",
     "iopub.status.idle": "2020-08-25T20:14:58.373954Z",
     "shell.execute_reply": "2020-08-25T20:14:58.373322Z"
    },
    "papermill": {
     "duration": 0.059461,
     "end_time": "2020-08-25T20:14:58.374124",
     "exception": false,
     "start_time": "2020-08-25T20:14:58.314663",
     "status": "completed"
    },
    "tags": []
   },
   "outputs": [],
   "source": [
    "xgrid = np.linspace(-4, 1, 100) ## Adjust these values based on above chart, roughly -4 to 1\n",
    "ygrid = np.linspace(-7.5, 7.5, 100) ## Adjust these values based on above chart, roughly -7.5, 7.5\n",
    "xg, yg = np.meshgrid(xgrid, ygrid)\n",
    "# xg and yg are now both 100X100, lets convert them to single arrays \n",
    "\n",
    "xg_interim = np.ravel(xg)\n",
    "yg_interim = np.ravel(yg)\n",
    "\n",
    "## xg_interim, yg_interim are now arrays of len 10000, now we will stack them and then transpose to get desired shape of n rows, 2 columns\n",
    "\n",
    "X_interim = np.vstack((xg_interim, yg_interim)) ## Please note vstack takes in a tuple\n",
    "X = X_interim.T\n",
    "\n",
    "## We want a shape of n rows and 2 columns to be able to feed this to last affine\n",
    "## This last affine takes only two columns, hence the above transformation\n",
    "probability_contour = model_prob(X).reshape(100,100) ## to make it consistent with xg, yg"
   ]
  },
  {
   "cell_type": "code",
   "execution_count": 30,
   "metadata": {
    "execution": {
     "iopub.execute_input": "2020-08-25T20:14:58.470493Z",
     "iopub.status.busy": "2020-08-25T20:14:58.469981Z",
     "iopub.status.idle": "2020-08-25T20:14:58.688478Z",
     "shell.execute_reply": "2020-08-25T20:14:58.688926Z"
    },
    "papermill": {
     "duration": 0.272427,
     "end_time": "2020-08-25T20:14:58.689060",
     "exception": false,
     "start_time": "2020-08-25T20:14:58.416633",
     "status": "completed"
    },
    "tags": []
   },
   "outputs": [
    {
     "data": {
      "image/png": "[encoded data removed]",
      "text/plain": [
       "<Figure size 576x504 with 1 Axes>"
      ]
     },
     "metadata": {
      "needs_background": "light"
     },
     "output_type": "display_data"
    }
   ],
   "source": [
    "plt.figure(figsize=(8,7))\n",
    "plt.scatter(plot_testing[:,0], plot_testing[:,1], alpha = 0.1, c = y_test.ravel())\n",
    "contours = plt.contour(xg,yg,probability_contour)\n",
    "plt.clabel(contours, inline = True );"
   ]
  }
 ],
 "metadata": {
  "kernelspec": {
   "display_name": "Python 3",
   "language": "python",
   "name": "python3"
  },
  "language_info": {
   "codemirror_mode": {
    "name": "ipython",
    "version": 3
   },
   "file_extension": ".py",
   "mimetype": "text/x-python",
   "name": "python",
   "nbconvert_exporter": "python",
   "pygments_lexer": "ipython3",
   "version": "3.6.11"
  },
  "papermill": {
   "duration": 154.339313,
   "end_time": "2020-08-25T20:15:00.022271",
   "environment_variables": {},
   "exception": null,
   "input_path": "2020-08-07-NN-new.ipynb",
   "output_path": "2020-08-07-NN-new.ipynb",
   "parameters": {},
   "start_time": "2020-08-25T20:12:25.682958",
   "version": "2.1.2"
  }
 },
 "nbformat": 4,
 "nbformat_minor": 4
}