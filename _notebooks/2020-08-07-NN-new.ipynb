{
 "cells": [
  {
   "cell_type": "markdown",
   "metadata": {
    "papermill": {
     "duration": 0.030313,
     "end_time": "2020-08-18T00:27:06.123390",
     "exception": false,
     "start_time": "2020-08-18T00:27:06.093077",
     "status": "completed"
    },
    "tags": []
   },
   "source": [
    "# \"Building a basic Neural Network from scratch - Kudzu\"\n",
    "\n",
    "- badges: true\n",
    "- author: Anshuman Gupta"
   ]
  },
  {
   "cell_type": "markdown",
   "metadata": {
    "papermill": {
     "duration": 0.024988,
     "end_time": "2020-08-18T00:27:06.174123",
     "exception": false,
     "start_time": "2020-08-18T00:27:06.149135",
     "status": "completed"
    },
    "tags": []
   },
   "source": [
    "#### In this project, the idea is to write a classifier to differentiate between handwritten digits 3 and 8, from the MNIST database.\n",
    "\n",
    "#### I will using a custom built neural network library called Kudzu.This has been developed as a part of KTF/Foundations course of Univ.ai (www.univ.ai). The source code for Kudzu Library and and this notebook can be found on my git-hub profile : www.https://github.com/anshuman6 under the folder project-solution. Any feedback and comments are welcome. Please feel free to email me at: anshuman6@gmail.com\n",
    "\n",
    "#### 1. I will be using the MNIST database. \n",
    "\n",
    "#### 2. I will be comparing the results of the 4 layer NN to a standard logistic regression"
   ]
  },
  {
   "cell_type": "markdown",
   "metadata": {
    "papermill": {
     "duration": 0.02511,
     "end_time": "2020-08-18T00:27:06.224516",
     "exception": false,
     "start_time": "2020-08-18T00:27:06.199406",
     "status": "completed"
    },
    "tags": []
   },
   "source": [
    "##### Importing all the necessary libraries"
   ]
  },
  {
   "cell_type": "code",
   "execution_count": 1,
   "metadata": {
    "execution": {
     "iopub.execute_input": "2020-08-18T00:27:06.281118Z",
     "iopub.status.busy": "2020-08-18T00:27:06.280538Z",
     "iopub.status.idle": "2020-08-18T00:27:06.292238Z",
     "shell.execute_reply": "2020-08-18T00:27:06.292688Z"
    },
    "papermill": {
     "duration": 0.042543,
     "end_time": "2020-08-18T00:27:06.292843",
     "exception": false,
     "start_time": "2020-08-18T00:27:06.250300",
     "status": "completed"
    },
    "tags": []
   },
   "outputs": [],
   "source": [
    "%load_ext autoreload\n",
    "%autoreload 2"
   ]
  },
  {
   "cell_type": "code",
   "execution_count": 2,
   "metadata": {
    "execution": {
     "iopub.execute_input": "2020-08-18T00:27:06.348713Z",
     "iopub.status.busy": "2020-08-18T00:27:06.348139Z",
     "iopub.status.idle": "2020-08-18T00:27:06.888490Z",
     "shell.execute_reply": "2020-08-18T00:27:06.887795Z"
    },
    "papermill": {
     "duration": 0.571138,
     "end_time": "2020-08-18T00:27:06.888656",
     "exception": false,
     "start_time": "2020-08-18T00:27:06.317518",
     "status": "completed"
    },
    "tags": []
   },
   "outputs": [],
   "source": [
    "%matplotlib inline\n",
    "import numpy as np\n",
    "import matplotlib.pyplot as plt\n",
    "import pandas as pd"
   ]
  },
  {
   "cell_type": "markdown",
   "metadata": {
    "papermill": {
     "duration": 0.024975,
     "end_time": "2020-08-18T00:27:06.941136",
     "exception": false,
     "start_time": "2020-08-18T00:27:06.916161",
     "status": "completed"
    },
    "tags": []
   },
   "source": [
    "##### The following command helps us download MNIST from notebook itself. You can skip this if you already have MNIST. You can also download it via your terminal."
   ]
  },
  {
   "cell_type": "code",
   "execution_count": 3,
   "metadata": {
    "execution": {
     "iopub.execute_input": "2020-08-18T00:27:06.993641Z",
     "iopub.status.busy": "2020-08-18T00:27:06.992920Z",
     "iopub.status.idle": "2020-08-18T00:27:08.312025Z",
     "shell.execute_reply": "2020-08-18T00:27:08.311453Z"
    },
    "papermill": {
     "duration": 1.347053,
     "end_time": "2020-08-18T00:27:08.312164",
     "exception": false,
     "start_time": "2020-08-18T00:27:06.965111",
     "status": "completed"
    },
    "tags": []
   },
   "outputs": [
    {
     "name": "stdout",
     "output_type": "stream",
     "text": [
      "Collecting mnist\r\n"
     ]
    },
    {
     "name": "stdout",
     "output_type": "stream",
     "text": [
      "  Downloading mnist-0.2.2-py2.py3-none-any.whl (3.5 kB)\r\n"
     ]
    },
    {
     "name": "stdout",
     "output_type": "stream",
     "text": [
      "Requirement already satisfied: numpy in /opt/hostedtoolcache/Python/3.6.11/x64/lib/python3.6/site-packages (from mnist) (1.19.1)\r\n"
     ]
    },
    {
     "name": "stdout",
     "output_type": "stream",
     "text": [
      "Installing collected packages: mnist\r\n"
     ]
    },
    {
     "name": "stdout",
     "output_type": "stream",
     "text": [
      "Successfully installed mnist-0.2.2\r\n"
     ]
    },
    {
     "name": "stdout",
     "output_type": "stream",
     "text": [
      "\u001b[33mWARNING: You are using pip version 20.2.1; however, version 20.2.2 is available.\r\n",
      "You should consider upgrading via the '/opt/hostedtoolcache/Python/3.6.11/x64/bin/python -m pip install --upgrade pip' command.\u001b[0m\r\n"
     ]
    }
   ],
   "source": [
    "!pip install mnist # Please note, it is commented out for now, you can remove comment if you want to install it"
   ]
  },
  {
   "cell_type": "markdown",
   "metadata": {
    "papermill": {
     "duration": 0.025035,
     "end_time": "2020-08-18T00:27:08.364087",
     "exception": false,
     "start_time": "2020-08-18T00:27:08.339052",
     "status": "completed"
    },
    "tags": []
   },
   "source": [
    "#### Preparing the Data"
   ]
  },
  {
   "cell_type": "code",
   "execution_count": 4,
   "metadata": {
    "execution": {
     "iopub.execute_input": "2020-08-18T00:27:08.419228Z",
     "iopub.status.busy": "2020-08-18T00:27:08.418649Z",
     "iopub.status.idle": "2020-08-18T00:27:08.433862Z",
     "shell.execute_reply": "2020-08-18T00:27:08.433371Z"
    },
    "papermill": {
     "duration": 0.045208,
     "end_time": "2020-08-18T00:27:08.433981",
     "exception": false,
     "start_time": "2020-08-18T00:27:08.388773",
     "status": "completed"
    },
    "tags": []
   },
   "outputs": [],
   "source": [
    "import mnist"
   ]
  },
  {
   "cell_type": "code",
   "execution_count": 5,
   "metadata": {
    "execution": {
     "iopub.execute_input": "2020-08-18T00:27:08.487922Z",
     "iopub.status.busy": "2020-08-18T00:27:08.487312Z",
     "iopub.status.idle": "2020-08-18T00:27:09.235421Z",
     "shell.execute_reply": "2020-08-18T00:27:09.234253Z"
    },
    "papermill": {
     "duration": 0.775996,
     "end_time": "2020-08-18T00:27:09.235561",
     "exception": false,
     "start_time": "2020-08-18T00:27:08.459565",
     "status": "completed"
    },
    "tags": []
   },
   "outputs": [],
   "source": [
    "train_images = mnist.train_images()\n",
    "train_labels = mnist.train_labels()"
   ]
  },
  {
   "cell_type": "code",
   "execution_count": 6,
   "metadata": {
    "execution": {
     "iopub.execute_input": "2020-08-18T00:27:09.292377Z",
     "iopub.status.busy": "2020-08-18T00:27:09.291211Z",
     "iopub.status.idle": "2020-08-18T00:27:09.304578Z",
     "shell.execute_reply": "2020-08-18T00:27:09.304103Z"
    },
    "papermill": {
     "duration": 0.04263,
     "end_time": "2020-08-18T00:27:09.304740",
     "exception": false,
     "start_time": "2020-08-18T00:27:09.262110",
     "status": "completed"
    },
    "tags": []
   },
   "outputs": [
    {
     "data": {
      "text/plain": [
       "((60000, 28, 28), (60000,))"
      ]
     },
     "execution_count": 6,
     "metadata": {},
     "output_type": "execute_result"
    }
   ],
   "source": [
    "train_images.shape, train_labels.shape"
   ]
  },
  {
   "cell_type": "code",
   "execution_count": 7,
   "metadata": {
    "execution": {
     "iopub.execute_input": "2020-08-18T00:27:09.360799Z",
     "iopub.status.busy": "2020-08-18T00:27:09.360236Z",
     "iopub.status.idle": "2020-08-18T00:27:10.330740Z",
     "shell.execute_reply": "2020-08-18T00:27:10.330126Z"
    },
    "papermill": {
     "duration": 1.000365,
     "end_time": "2020-08-18T00:27:10.330900",
     "exception": false,
     "start_time": "2020-08-18T00:27:09.330535",
     "status": "completed"
    },
    "tags": []
   },
   "outputs": [],
   "source": [
    "test_images = mnist.test_images()\n",
    "test_labels = mnist.test_labels()"
   ]
  },
  {
   "cell_type": "code",
   "execution_count": 8,
   "metadata": {
    "execution": {
     "iopub.execute_input": "2020-08-18T00:27:10.388847Z",
     "iopub.status.busy": "2020-08-18T00:27:10.388314Z",
     "iopub.status.idle": "2020-08-18T00:27:10.400911Z",
     "shell.execute_reply": "2020-08-18T00:27:10.400483Z"
    },
    "papermill": {
     "duration": 0.042244,
     "end_time": "2020-08-18T00:27:10.401033",
     "exception": false,
     "start_time": "2020-08-18T00:27:10.358789",
     "status": "completed"
    },
    "tags": []
   },
   "outputs": [
    {
     "data": {
      "text/plain": [
       "((10000, 28, 28), (10000,))"
      ]
     },
     "execution_count": 8,
     "metadata": {},
     "output_type": "execute_result"
    }
   ],
   "source": [
    "test_images.shape, test_labels.shape"
   ]
  },
  {
   "cell_type": "code",
   "execution_count": 9,
   "metadata": {
    "execution": {
     "iopub.execute_input": "2020-08-18T00:27:10.466404Z",
     "iopub.status.busy": "2020-08-18T00:27:10.465817Z",
     "iopub.status.idle": "2020-08-18T00:27:10.607177Z",
     "shell.execute_reply": "2020-08-18T00:27:10.606315Z"
    },
    "papermill": {
     "duration": 0.177518,
     "end_time": "2020-08-18T00:27:10.607312",
     "exception": false,
     "start_time": "2020-08-18T00:27:10.429794",
     "status": "completed"
    },
    "tags": []
   },
   "outputs": [
    {
     "name": "stdout",
     "output_type": "stream",
     "text": [
      "2\n"
     ]
    },
    {
     "data": {
      "text/plain": [
       "<matplotlib.image.AxesImage at 0x7f2a1c4712b0>"
      ]
     },
     "execution_count": 9,
     "metadata": {},
     "output_type": "execute_result"
    },
    {
     "data": {
      "image/png": "[encoded data removed]",
      "text/plain": [
       "<Figure size 432x288 with 1 Axes>"
      ]
     },
     "metadata": {
      "needs_background": "light"
     },
     "output_type": "display_data"
    }
   ],
   "source": [
    "image_index = 7776 # You may select anything up to 60,000\n",
    "print(train_labels[image_index]) \n",
    "plt.imshow(train_images[image_index], cmap='Greys')"
   ]
  },
  {
   "cell_type": "markdown",
   "metadata": {
    "papermill": {
     "duration": 0.027043,
     "end_time": "2020-08-18T00:27:10.662460",
     "exception": false,
     "start_time": "2020-08-18T00:27:10.635417",
     "status": "completed"
    },
    "tags": []
   },
   "source": [
    "## Filter data to get 3 and 8 out"
   ]
  },
  {
   "cell_type": "code",
   "execution_count": 10,
   "metadata": {
    "execution": {
     "iopub.execute_input": "2020-08-18T00:27:10.728788Z",
     "iopub.status.busy": "2020-08-18T00:27:10.723277Z",
     "iopub.status.idle": "2020-08-18T00:27:10.738396Z",
     "shell.execute_reply": "2020-08-18T00:27:10.738809Z"
    },
    "papermill": {
     "duration": 0.046939,
     "end_time": "2020-08-18T00:27:10.738937",
     "exception": false,
     "start_time": "2020-08-18T00:27:10.691998",
     "status": "completed"
    },
    "tags": []
   },
   "outputs": [],
   "source": [
    "train_filter = np.where((train_labels == 3 ) | (train_labels == 8))\n",
    "test_filter = np.where((test_labels == 3) | (test_labels == 8))\n",
    "X_train, y_train = train_images[train_filter], train_labels[train_filter]\n",
    "X_test, y_test = test_images[test_filter], test_labels[test_filter]"
   ]
  },
  {
   "cell_type": "markdown",
   "metadata": {
    "papermill": {
     "duration": 0.025653,
     "end_time": "2020-08-18T00:27:10.792685",
     "exception": false,
     "start_time": "2020-08-18T00:27:10.767032",
     "status": "completed"
    },
    "tags": []
   },
   "source": [
    "##### We normalize the pizel values in the 0 to 1 range"
   ]
  },
  {
   "cell_type": "code",
   "execution_count": 11,
   "metadata": {
    "execution": {
     "iopub.execute_input": "2020-08-18T00:27:10.846227Z",
     "iopub.status.busy": "2020-08-18T00:27:10.845815Z",
     "iopub.status.idle": "2020-08-18T00:27:10.893797Z",
     "shell.execute_reply": "2020-08-18T00:27:10.893204Z"
    },
    "papermill": {
     "duration": 0.076885,
     "end_time": "2020-08-18T00:27:10.893954",
     "exception": false,
     "start_time": "2020-08-18T00:27:10.817069",
     "status": "completed"
    },
    "tags": []
   },
   "outputs": [],
   "source": [
    "X_train = X_train/255.\n",
    "X_test = X_test/255."
   ]
  },
  {
   "cell_type": "markdown",
   "metadata": {
    "papermill": {
     "duration": 0.027494,
     "end_time": "2020-08-18T00:27:10.950265",
     "exception": false,
     "start_time": "2020-08-18T00:27:10.922771",
     "status": "completed"
    },
    "tags": []
   },
   "source": [
    "And setup the labels as 1 (when the digit is 3) and 0 (when the digit is 8)"
   ]
  },
  {
   "cell_type": "code",
   "execution_count": 12,
   "metadata": {
    "execution": {
     "iopub.execute_input": "2020-08-18T00:27:11.008489Z",
     "iopub.status.busy": "2020-08-18T00:27:11.007817Z",
     "iopub.status.idle": "2020-08-18T00:27:11.021796Z",
     "shell.execute_reply": "2020-08-18T00:27:11.021435Z"
    },
    "papermill": {
     "duration": 0.043897,
     "end_time": "2020-08-18T00:27:11.021888",
     "exception": false,
     "start_time": "2020-08-18T00:27:10.977991",
     "status": "completed"
    },
    "tags": []
   },
   "outputs": [],
   "source": [
    "y_train = 1*(y_train==3)\n",
    "y_test = 1*(y_test==3)"
   ]
  },
  {
   "cell_type": "code",
   "execution_count": 13,
   "metadata": {
    "execution": {
     "iopub.execute_input": "2020-08-18T00:27:11.079555Z",
     "iopub.status.busy": "2020-08-18T00:27:11.078978Z",
     "iopub.status.idle": "2020-08-18T00:27:11.092229Z",
     "shell.execute_reply": "2020-08-18T00:27:11.092732Z"
    },
    "papermill": {
     "duration": 0.045052,
     "end_time": "2020-08-18T00:27:11.092876",
     "exception": false,
     "start_time": "2020-08-18T00:27:11.047824",
     "status": "completed"
    },
    "tags": []
   },
   "outputs": [
    {
     "data": {
      "text/plain": [
       "((11982, 28, 28), (1984, 28, 28))"
      ]
     },
     "execution_count": 13,
     "metadata": {},
     "output_type": "execute_result"
    }
   ],
   "source": [
    "X_train.shape, X_test.shape"
   ]
  },
  {
   "cell_type": "markdown",
   "metadata": {
    "papermill": {
     "duration": 0.027719,
     "end_time": "2020-08-18T00:27:11.150785",
     "exception": false,
     "start_time": "2020-08-18T00:27:11.123066",
     "status": "completed"
    },
    "tags": []
   },
   "source": [
    "##### We reshape the data to flatten the image pixels into a set of features or co-variates:"
   ]
  },
  {
   "cell_type": "code",
   "execution_count": 14,
   "metadata": {
    "execution": {
     "iopub.execute_input": "2020-08-18T00:27:11.209407Z",
     "iopub.status.busy": "2020-08-18T00:27:11.208844Z",
     "iopub.status.idle": "2020-08-18T00:27:11.222678Z",
     "shell.execute_reply": "2020-08-18T00:27:11.223122Z"
    },
    "papermill": {
     "duration": 0.046108,
     "end_time": "2020-08-18T00:27:11.223256",
     "exception": false,
     "start_time": "2020-08-18T00:27:11.177148",
     "status": "completed"
    },
    "tags": []
   },
   "outputs": [
    {
     "data": {
      "text/plain": [
       "((11982, 784), (1984, 784))"
      ]
     },
     "execution_count": 14,
     "metadata": {},
     "output_type": "execute_result"
    }
   ],
   "source": [
    "X_train = X_train.reshape(X_train.shape[0], -1)\n",
    "X_test = X_test.reshape(X_test.shape[0], -1)\n",
    "X_train.shape, X_test.shape"
   ]
  },
  {
   "cell_type": "markdown",
   "metadata": {
    "papermill": {
     "duration": 0.027173,
     "end_time": "2020-08-18T00:27:11.277959",
     "exception": false,
     "start_time": "2020-08-18T00:27:11.250786",
     "status": "completed"
    },
    "tags": []
   },
   "source": [
    "##### Importing Kudzu library and its functionality"
   ]
  },
  {
   "cell_type": "code",
   "execution_count": 15,
   "metadata": {
    "execution": {
     "iopub.execute_input": "2020-08-18T00:27:11.341287Z",
     "iopub.status.busy": "2020-08-18T00:27:11.340811Z",
     "iopub.status.idle": "2020-08-18T00:27:11.359025Z",
     "shell.execute_reply": "2020-08-18T00:27:11.359641Z"
    },
    "papermill": {
     "duration": 0.051795,
     "end_time": "2020-08-18T00:27:11.359802",
     "exception": false,
     "start_time": "2020-08-18T00:27:11.308007",
     "status": "completed"
    },
    "tags": []
   },
   "outputs": [],
   "source": [
    "from kudzu.data import Data, Dataloader, Sampler\n",
    "from kudzu.callbacks import AccCallback\n",
    "from kudzu.loss import MSE\n",
    "from kudzu.layer import Affine, Sigmoid\n",
    "from kudzu.model import Model\n",
    "from kudzu.optim import GD\n",
    "from kudzu.train import Learner\n",
    "from kudzu.callbacks import ClfCallback\n",
    "from kudzu.layer import Sigmoid\n",
    "from kudzu.layer import Relu"
   ]
  },
  {
   "cell_type": "markdown",
   "metadata": {
    "papermill": {
     "duration": 0.025955,
     "end_time": "2020-08-18T00:27:11.412307",
     "exception": false,
     "start_time": "2020-08-18T00:27:11.386352",
     "status": "completed"
    },
    "tags": []
   },
   "source": [
    "##### We are creating a class, just so that we can use it to store our parameters for us"
   ]
  },
  {
   "cell_type": "code",
   "execution_count": 16,
   "metadata": {
    "execution": {
     "iopub.execute_input": "2020-08-18T00:27:11.477459Z",
     "iopub.status.busy": "2020-08-18T00:27:11.476858Z",
     "iopub.status.idle": "2020-08-18T00:27:11.489959Z",
     "shell.execute_reply": "2020-08-18T00:27:11.489562Z"
    },
    "papermill": {
     "duration": 0.048723,
     "end_time": "2020-08-18T00:27:11.490064",
     "exception": false,
     "start_time": "2020-08-18T00:27:11.441341",
     "status": "completed"
    },
    "tags": []
   },
   "outputs": [],
   "source": [
    "class Config:\n",
    "    pass\n",
    "config = Config()\n",
    "config.lr = 0.001\n",
    "config.num_epochs = 250\n",
    "config.bs = 50"
   ]
  },
  {
   "cell_type": "markdown",
   "metadata": {
    "papermill": {
     "duration": 0.029606,
     "end_time": "2020-08-18T00:27:11.550506",
     "exception": false,
     "start_time": "2020-08-18T00:27:11.520900",
     "status": "completed"
    },
    "tags": []
   },
   "source": [
    "##### Initializing Data"
   ]
  },
  {
   "cell_type": "code",
   "execution_count": 17,
   "metadata": {
    "execution": {
     "iopub.execute_input": "2020-08-18T00:27:11.615541Z",
     "iopub.status.busy": "2020-08-18T00:27:11.614978Z",
     "iopub.status.idle": "2020-08-18T00:27:11.628427Z",
     "shell.execute_reply": "2020-08-18T00:27:11.627919Z"
    },
    "papermill": {
     "duration": 0.048383,
     "end_time": "2020-08-18T00:27:11.628559",
     "exception": false,
     "start_time": "2020-08-18T00:27:11.580176",
     "status": "completed"
    },
    "tags": []
   },
   "outputs": [],
   "source": [
    "data = Data(X_train, y_train.reshape(-1,1))\n",
    "loss = MSE()\n",
    "opt = GD(config.lr)\n",
    "sampler = Sampler(data, config.bs, shuffle=True)\n",
    "dl = Dataloader(data, sampler)"
   ]
  },
  {
   "cell_type": "markdown",
   "metadata": {
    "papermill": {
     "duration": 0.02881,
     "end_time": "2020-08-18T00:27:11.686904",
     "exception": false,
     "start_time": "2020-08-18T00:27:11.658094",
     "status": "completed"
    },
    "tags": []
   },
   "source": [
    "##### Constructing 2 different layers, one for NN and one only for logistic regression."
   ]
  },
  {
   "cell_type": "markdown",
   "metadata": {
    "papermill": {
     "duration": 0.029701,
     "end_time": "2020-08-18T00:27:11.745485",
     "exception": false,
     "start_time": "2020-08-18T00:27:11.715784",
     "status": "completed"
    },
    "tags": []
   },
   "source": [
    "##### Creating containers for data to be passed, to calculate accuracies"
   ]
  },
  {
   "cell_type": "code",
   "execution_count": 18,
   "metadata": {
    "execution": {
     "iopub.execute_input": "2020-08-18T00:27:11.807415Z",
     "iopub.status.busy": "2020-08-18T00:27:11.806866Z",
     "iopub.status.idle": "2020-08-18T00:27:11.818691Z",
     "shell.execute_reply": "2020-08-18T00:27:11.819137Z"
    },
    "papermill": {
     "duration": 0.045907,
     "end_time": "2020-08-18T00:27:11.819277",
     "exception": false,
     "start_time": "2020-08-18T00:27:11.773370",
     "status": "completed"
    },
    "tags": []
   },
   "outputs": [],
   "source": [
    "training_xdata = X_train\n",
    "testing_xdata = X_test\n",
    "training_ydata = y_train.reshape(-1,1)\n",
    "testing_ydata = y_test.reshape(-1,1)"
   ]
  },
  {
   "cell_type": "markdown",
   "metadata": {
    "papermill": {
     "duration": 0.028181,
     "end_time": "2020-08-18T00:27:11.877279",
     "exception": false,
     "start_time": "2020-08-18T00:27:11.849098",
     "status": "completed"
    },
    "tags": []
   },
   "source": [
    "##### Initializing models and Running training loop: "
   ]
  },
  {
   "cell_type": "code",
   "execution_count": 19,
   "metadata": {
    "execution": {
     "iopub.execute_input": "2020-08-18T00:27:11.938904Z",
     "iopub.status.busy": "2020-08-18T00:27:11.938275Z",
     "iopub.status.idle": "2020-08-18T00:27:11.957603Z",
     "shell.execute_reply": "2020-08-18T00:27:11.957066Z"
    },
    "papermill": {
     "duration": 0.052581,
     "end_time": "2020-08-18T00:27:11.957733",
     "exception": false,
     "start_time": "2020-08-18T00:27:11.905152",
     "status": "completed"
    },
    "tags": []
   },
   "outputs": [],
   "source": [
    "layers = [Affine(\"first\", 784, 100), Relu(\"first\"), Affine(\"second\", 100, 100), Relu(\"second\"), Affine(\"third\", 100, 2), Affine(\"final\", 2, 1), Sigmoid(\"final\")]\n",
    "\n",
    "model_neural = Model(layers)\n",
    "model_logistic = Model([Affine(\"logits\", 784, 1), Sigmoid(\"sigmoid\")])"
   ]
  },
  {
   "cell_type": "code",
   "execution_count": 20,
   "metadata": {
    "execution": {
     "iopub.execute_input": "2020-08-18T00:27:12.019535Z",
     "iopub.status.busy": "2020-08-18T00:27:12.018955Z",
     "iopub.status.idle": "2020-08-18T00:27:12.030726Z",
     "shell.execute_reply": "2020-08-18T00:27:12.031136Z"
    },
    "papermill": {
     "duration": 0.044241,
     "end_time": "2020-08-18T00:27:12.031260",
     "exception": false,
     "start_time": "2020-08-18T00:27:11.987019",
     "status": "completed"
    },
    "tags": []
   },
   "outputs": [],
   "source": [
    "learner1 = Learner(loss, model_neural, opt, config.num_epochs)\n",
    "acc1 = ClfCallback(learner1, config.bs, training_xdata , testing_xdata, training_ydata, testing_ydata)\n",
    "learner1.set_callbacks([acc1])"
   ]
  },
  {
   "cell_type": "code",
   "execution_count": 21,
   "metadata": {
    "execution": {
     "iopub.execute_input": "2020-08-18T00:27:12.094168Z",
     "iopub.status.busy": "2020-08-18T00:27:12.093624Z",
     "iopub.status.idle": "2020-08-18T00:28:34.790358Z",
     "shell.execute_reply": "2020-08-18T00:28:34.789894Z"
    },
    "papermill": {
     "duration": 82.729713,
     "end_time": "2020-08-18T00:28:34.790487",
     "exception": false,
     "start_time": "2020-08-18T00:27:12.060774",
     "status": "completed"
    },
    "tags": []
   },
   "outputs": [
    {
     "name": "stdout",
     "output_type": "stream",
     "text": [
      "Epoch 0 Loss 0.24973379247658029\n",
      "train accuracy is: 0.5320480721081623, test accuracy is 0.5539314516129032\n"
     ]
    },
    {
     "name": "stdout",
     "output_type": "stream",
     "text": [
      "Epoch 10 Loss 0.2164494332030924\n",
      "train accuracy is: 0.8733934234685361, test accuracy is 0.8830645161290323\n"
     ]
    },
    {
     "name": "stdout",
     "output_type": "stream",
     "text": [
      "Epoch 20 Loss 0.12393534887860008\n",
      "train accuracy is: 0.9117843431814389, test accuracy is 0.922883064516129\n"
     ]
    },
    {
     "name": "stdout",
     "output_type": "stream",
     "text": [
      "Epoch 30 Loss 0.06913659050125456\n",
      "train accuracy is: 0.9328993490235353, test accuracy is 0.9430443548387096\n"
     ]
    },
    {
     "name": "stdout",
     "output_type": "stream",
     "text": [
      "Epoch 40 Loss 0.051037215376323115\n",
      "train accuracy is: 0.9448339175429812, test accuracy is 0.9516129032258065\n"
     ]
    },
    {
     "name": "stdout",
     "output_type": "stream",
     "text": [
      "Epoch 50 Loss 0.0425630102473129\n",
      "train accuracy is: 0.9520113503588716, test accuracy is 0.9576612903225806\n"
     ]
    },
    {
     "name": "stdout",
     "output_type": "stream",
     "text": [
      "Epoch 60 Loss 0.03775147016831475\n",
      "train accuracy is: 0.9559339008512769, test accuracy is 0.9606854838709677\n"
     ]
    },
    {
     "name": "stdout",
     "output_type": "stream",
     "text": [
      "Epoch 70 Loss 0.03460534189887542\n",
      "train accuracy is: 0.9600233683859122, test accuracy is 0.9642137096774194\n"
     ]
    },
    {
     "name": "stdout",
     "output_type": "stream",
     "text": [
      "Epoch 80 Loss 0.03233825555892676\n",
      "train accuracy is: 0.9623602069771323, test accuracy is 0.9657258064516129\n"
     ]
    },
    {
     "name": "stdout",
     "output_type": "stream",
     "text": [
      "Epoch 90 Loss 0.030589430790337\n",
      "train accuracy is: 0.9637790018360874, test accuracy is 0.9662298387096774\n"
     ]
    },
    {
     "name": "stdout",
     "output_type": "stream",
     "text": [
      "Epoch 100 Loss 0.029177236899496577\n",
      "train accuracy is: 0.9656985478217326, test accuracy is 0.96875\n"
     ]
    },
    {
     "name": "stdout",
     "output_type": "stream",
     "text": [
      "Epoch 110 Loss 0.027998162272875955\n",
      "train accuracy is: 0.9666165915539977, test accuracy is 0.969758064516129\n"
     ]
    },
    {
     "name": "stdout",
     "output_type": "stream",
     "text": [
      "Epoch 120 Loss 0.026995724605530822\n",
      "train accuracy is: 0.9682023034551828, test accuracy is 0.9707661290322581\n"
     ]
    },
    {
     "name": "stdout",
     "output_type": "stream",
     "text": [
      "Epoch 130 Loss 0.026117945637534497\n",
      "train accuracy is: 0.9694541812719079, test accuracy is 0.9717741935483871\n"
     ]
    },
    {
     "name": "stdout",
     "output_type": "stream",
     "text": [
      "Epoch 140 Loss 0.025344712355045082\n",
      "train accuracy is: 0.9704556835252879, test accuracy is 0.9727822580645161\n"
     ]
    },
    {
     "name": "stdout",
     "output_type": "stream",
     "text": [
      "Epoch 150 Loss 0.024648020050455802\n",
      "train accuracy is: 0.971791019863128, test accuracy is 0.9727822580645161\n"
     ]
    },
    {
     "name": "stdout",
     "output_type": "stream",
     "text": [
      "Epoch 160 Loss 0.024021442312293837\n",
      "train accuracy is: 0.972375229510933, test accuracy is 0.9727822580645161\n"
     ]
    },
    {
     "name": "stdout",
     "output_type": "stream",
     "text": [
      "Epoch 170 Loss 0.02344155723343333\n",
      "train accuracy is: 0.9729594391587381, test accuracy is 0.9727822580645161\n"
     ]
    },
    {
     "name": "stdout",
     "output_type": "stream",
     "text": [
      "Epoch 180 Loss 0.02290809982512028\n",
      "train accuracy is: 0.9735436488065431, test accuracy is 0.9722782258064516\n"
     ]
    },
    {
     "name": "stdout",
     "output_type": "stream",
     "text": [
      "Epoch 190 Loss 0.022410942645589335\n",
      "train accuracy is: 0.9742113169754631, test accuracy is 0.9727822580645161\n"
     ]
    },
    {
     "name": "stdout",
     "output_type": "stream",
     "text": [
      "Epoch 200 Loss 0.02194733509349524\n",
      "train accuracy is: 0.9749624436654982, test accuracy is 0.9727822580645161\n"
     ]
    },
    {
     "name": "stdout",
     "output_type": "stream",
     "text": [
      "Epoch 210 Loss 0.02150350589515051\n",
      "train accuracy is: 0.9756301118344183, test accuracy is 0.9722782258064516\n"
     ]
    },
    {
     "name": "stdout",
     "output_type": "stream",
     "text": [
      "Epoch 220 Loss 0.021080508704770025\n",
      "train accuracy is: 0.9761308629611083, test accuracy is 0.9727822580645161\n"
     ]
    },
    {
     "name": "stdout",
     "output_type": "stream",
     "text": [
      "Epoch 230 Loss 0.020691192493345917\n",
      "train accuracy is: 0.9766316140877984, test accuracy is 0.9732862903225806\n"
     ]
    },
    {
     "name": "stdout",
     "output_type": "stream",
     "text": [
      "Epoch 240 Loss 0.02030580281263419\n",
      "train accuracy is: 0.9771323652144884, test accuracy is 0.9732862903225806\n"
     ]
    },
    {
     "data": {
      "text/plain": [
       "0.031074468260750634"
      ]
     },
     "execution_count": 21,
     "metadata": {},
     "output_type": "execute_result"
    }
   ],
   "source": [
    "learner1.train_loop(dl)"
   ]
  },
  {
   "cell_type": "markdown",
   "metadata": {
    "papermill": {
     "duration": 0.039681,
     "end_time": "2020-08-18T00:28:34.869524",
     "exception": false,
     "start_time": "2020-08-18T00:28:34.829843",
     "status": "completed"
    },
    "tags": []
   },
   "source": [
    "##### Now running only the logistic regression based classification to compare results with NN"
   ]
  },
  {
   "cell_type": "code",
   "execution_count": 22,
   "metadata": {
    "execution": {
     "iopub.execute_input": "2020-08-18T00:28:34.956159Z",
     "iopub.status.busy": "2020-08-18T00:28:34.955017Z",
     "iopub.status.idle": "2020-08-18T00:28:34.967995Z",
     "shell.execute_reply": "2020-08-18T00:28:34.967542Z"
    },
    "papermill": {
     "duration": 0.056298,
     "end_time": "2020-08-18T00:28:34.968117",
     "exception": false,
     "start_time": "2020-08-18T00:28:34.911819",
     "status": "completed"
    },
    "tags": []
   },
   "outputs": [],
   "source": [
    "learner2 = Learner(loss, model_logistic, opt, config.num_epochs)\n",
    "acc2 = ClfCallback(learner2, config.bs, training_xdata , testing_xdata, training_ydata, testing_ydata)\n",
    "learner2.set_callbacks([acc2])"
   ]
  },
  {
   "cell_type": "code",
   "execution_count": 23,
   "metadata": {
    "execution": {
     "iopub.execute_input": "2020-08-18T00:28:35.045690Z",
     "iopub.status.busy": "2020-08-18T00:28:35.045050Z",
     "iopub.status.idle": "2020-08-18T00:28:49.628539Z",
     "shell.execute_reply": "2020-08-18T00:28:49.629011Z"
    },
    "papermill": {
     "duration": 14.624184,
     "end_time": "2020-08-18T00:28:49.629154",
     "exception": false,
     "start_time": "2020-08-18T00:28:35.004970",
     "status": "completed"
    },
    "tags": []
   },
   "outputs": [
    {
     "name": "stdout",
     "output_type": "stream",
     "text": [
      "Epoch 0 Loss 0.2547886376056918\n",
      "train accuracy is: 0.6308629611083292, test accuracy is 0.6386088709677419\n"
     ]
    },
    {
     "name": "stdout",
     "output_type": "stream",
     "text": [
      "Epoch 10 Loss 0.10553861880816814\n",
      "train accuracy is: 0.900267067267568, test accuracy is 0.9092741935483871\n"
     ]
    },
    {
     "name": "stdout",
     "output_type": "stream",
     "text": [
      "Epoch 20 Loss 0.08051734152478311\n",
      "train accuracy is: 0.9217993657152396, test accuracy is 0.9349798387096774\n"
     ]
    },
    {
     "name": "stdout",
     "output_type": "stream",
     "text": [
      "Epoch 30 Loss 0.06909886881512091\n",
      "train accuracy is: 0.9313136371223502, test accuracy is 0.9420362903225806\n"
     ]
    },
    {
     "name": "stdout",
     "output_type": "stream",
     "text": [
      "Epoch 40 Loss 0.062253849032427935\n",
      "train accuracy is: 0.9382406943748957, test accuracy is 0.9490927419354839\n"
     ]
    },
    {
     "name": "stdout",
     "output_type": "stream",
     "text": [
      "Epoch 50 Loss 0.057602424590077715\n",
      "train accuracy is: 0.942580537472876, test accuracy is 0.9536290322580645\n"
     ]
    },
    {
     "name": "stdout",
     "output_type": "stream",
     "text": [
      "Epoch 60 Loss 0.0541971007575667\n",
      "train accuracy is: 0.9466700050075113, test accuracy is 0.9551411290322581\n"
     ]
    },
    {
     "name": "stdout",
     "output_type": "stream",
     "text": [
      "Epoch 70 Loss 0.05157292690656869\n",
      "train accuracy is: 0.9489233850776164, test accuracy is 0.9586693548387096\n"
     ]
    },
    {
     "name": "stdout",
     "output_type": "stream",
     "text": [
      "Epoch 80 Loss 0.04947387865470926\n",
      "train accuracy is: 0.9503421799365716, test accuracy is 0.9601814516129032\n"
     ]
    },
    {
     "name": "stdout",
     "output_type": "stream",
     "text": [
      "Epoch 90 Loss 0.04774849317864028\n",
      "train accuracy is: 0.9511767651477215, test accuracy is 0.9616935483870968\n"
     ]
    },
    {
     "name": "stdout",
     "output_type": "stream",
     "text": [
      "Epoch 100 Loss 0.04629668380866055\n",
      "train accuracy is: 0.9523451844433317, test accuracy is 0.9611895161290323\n"
     ]
    },
    {
     "name": "stdout",
     "output_type": "stream",
     "text": [
      "Epoch 110 Loss 0.04505375864452439\n",
      "train accuracy is: 0.9530963111333667, test accuracy is 0.9637096774193549\n"
     ]
    },
    {
     "name": "stdout",
     "output_type": "stream",
     "text": [
      "Epoch 120 Loss 0.04397453325325939\n",
      "train accuracy is: 0.9541812719078618, test accuracy is 0.9647177419354839\n"
     ]
    },
    {
     "name": "stdout",
     "output_type": "stream",
     "text": [
      "Epoch 130 Loss 0.04302400473116485\n",
      "train accuracy is: 0.9550993156401268, test accuracy is 0.9642137096774194\n"
     ]
    },
    {
     "name": "stdout",
     "output_type": "stream",
     "text": [
      "Epoch 140 Loss 0.042179172399345086\n",
      "train accuracy is: 0.9558504423301619, test accuracy is 0.9642137096774194\n"
     ]
    },
    {
     "name": "stdout",
     "output_type": "stream",
     "text": [
      "Epoch 150 Loss 0.04142248379051853\n",
      "train accuracy is: 0.956601569020197, test accuracy is 0.9642137096774194\n"
     ]
    },
    {
     "name": "stdout",
     "output_type": "stream",
     "text": [
      "Epoch 160 Loss 0.04073838472312905\n",
      "train accuracy is: 0.957269237189117, test accuracy is 0.9652217741935484\n"
     ]
    },
    {
     "name": "stdout",
     "output_type": "stream",
     "text": [
      "Epoch 170 Loss 0.04011601454276871\n",
      "train accuracy is: 0.957686529794692, test accuracy is 0.9657258064516129\n"
     ]
    },
    {
     "name": "stdout",
     "output_type": "stream",
     "text": [
      "Epoch 180 Loss 0.03954596771676804\n",
      "train accuracy is: 0.9581872809213821, test accuracy is 0.9657258064516129\n"
     ]
    },
    {
     "name": "stdout",
     "output_type": "stream",
     "text": [
      "Epoch 190 Loss 0.03902185901409292\n",
      "train accuracy is: 0.9587714905691871, test accuracy is 0.9657258064516129\n"
     ]
    },
    {
     "name": "stdout",
     "output_type": "stream",
     "text": [
      "Epoch 200 Loss 0.038537036928914206\n",
      "train accuracy is: 0.9591053246536472, test accuracy is 0.9657258064516129\n"
     ]
    },
    {
     "name": "stdout",
     "output_type": "stream",
     "text": [
      "Epoch 210 Loss 0.038087879945524095\n",
      "train accuracy is: 0.9593557002169921, test accuracy is 0.9657258064516129\n"
     ]
    },
    {
     "name": "stdout",
     "output_type": "stream",
     "text": [
      "Epoch 220 Loss 0.037669391387024145\n",
      "train accuracy is: 0.9596895343014522, test accuracy is 0.9662298387096774\n"
     ]
    },
    {
     "name": "stdout",
     "output_type": "stream",
     "text": [
      "Epoch 230 Loss 0.03727760215284995\n",
      "train accuracy is: 0.9599399098647972, test accuracy is 0.9662298387096774\n"
     ]
    },
    {
     "name": "stdout",
     "output_type": "stream",
     "text": [
      "Epoch 240 Loss 0.03691097739019326\n",
      "train accuracy is: 0.9601068269070272, test accuracy is 0.9667338709677419\n"
     ]
    },
    {
     "data": {
      "text/plain": [
       "0.015497554929081165"
      ]
     },
     "execution_count": 23,
     "metadata": {},
     "output_type": "execute_result"
    }
   ],
   "source": [
    "learner2.train_loop(dl)"
   ]
  },
  {
   "cell_type": "markdown",
   "metadata": {
    "papermill": {
     "duration": 0.046822,
     "end_time": "2020-08-18T00:28:49.720312",
     "exception": false,
     "start_time": "2020-08-18T00:28:49.673490",
     "status": "completed"
    },
    "tags": []
   },
   "source": [
    "### Comparing results of NN and LR"
   ]
  },
  {
   "cell_type": "code",
   "execution_count": 24,
   "metadata": {
    "execution": {
     "iopub.execute_input": "2020-08-18T00:28:49.813136Z",
     "iopub.status.busy": "2020-08-18T00:28:49.812518Z",
     "iopub.status.idle": "2020-08-18T00:28:50.012921Z",
     "shell.execute_reply": "2020-08-18T00:28:50.012398Z"
    },
    "papermill": {
     "duration": 0.24976,
     "end_time": "2020-08-18T00:28:50.013054",
     "exception": false,
     "start_time": "2020-08-18T00:28:49.763294",
     "status": "completed"
    },
    "tags": []
   },
   "outputs": [
    {
     "data": {
      "text/plain": [
       "<matplotlib.legend.Legend at 0x7f2a1589c9e8>"
      ]
     },
     "execution_count": 24,
     "metadata": {},
     "output_type": "execute_result"
    },
    {
     "data": {
      "image/png": "[encoded data removed]",
      "text/plain": [
       "<Figure size 576x360 with 1 Axes>"
      ]
     },
     "metadata": {
      "needs_background": "light"
     },
     "output_type": "display_data"
    }
   ],
   "source": [
    "plt.figure(figsize=(8,5))\n",
    "plt.plot(acc1.val_accuracies, 'g-', label = \"Val Accuracies - NN\")\n",
    "plt.plot(acc1.accuracies, 'r-', label = \"Accuracies - NN\")\n",
    "plt.plot(acc2.val_accuracies, 'b-', label = \"Val Accuracies - Logistic Reg\")\n",
    "plt.plot(acc2.accuracies, 'k-', label = \"Accuracies - Logistic Reg\")\n",
    "plt.ylim(0.8,1) ## for a more spread out view\n",
    "plt.legend()"
   ]
  },
  {
   "cell_type": "markdown",
   "metadata": {
    "papermill": {
     "duration": 0.046408,
     "end_time": "2020-08-18T00:28:50.104852",
     "exception": false,
     "start_time": "2020-08-18T00:28:50.058444",
     "status": "completed"
    },
    "tags": []
   },
   "source": [
    "### Clearly NN has a better accuracy over LR; NN is overfitting - Validation accuracy (green) has dropped below training accuracy (orange), also they are diverging. This problem is not seen in LR"
   ]
  },
  {
   "cell_type": "markdown",
   "metadata": {
    "papermill": {
     "duration": 0.0413,
     "end_time": "2020-08-18T00:28:50.189361",
     "exception": false,
     "start_time": "2020-08-18T00:28:50.148061",
     "status": "completed"
    },
    "tags": []
   },
   "source": [
    "##### Now we will be moving through the network, till the output of the second last affine where we get a 2 dimensional output. We will be plotting this 2d output and probability contours"
   ]
  },
  {
   "cell_type": "code",
   "execution_count": 25,
   "metadata": {
    "execution": {
     "iopub.execute_input": "2020-08-18T00:28:50.274912Z",
     "iopub.status.busy": "2020-08-18T00:28:50.273332Z",
     "iopub.status.idle": "2020-08-18T00:28:50.285538Z",
     "shell.execute_reply": "2020-08-18T00:28:50.285980Z"
    },
    "papermill": {
     "duration": 0.058607,
     "end_time": "2020-08-18T00:28:50.286114",
     "exception": false,
     "start_time": "2020-08-18T00:28:50.227507",
     "status": "completed"
    },
    "tags": []
   },
   "outputs": [],
   "source": [
    "model_new = Model(layers[:-2])"
   ]
  },
  {
   "cell_type": "code",
   "execution_count": 26,
   "metadata": {
    "execution": {
     "iopub.execute_input": "2020-08-18T00:28:50.372655Z",
     "iopub.status.busy": "2020-08-18T00:28:50.372025Z",
     "iopub.status.idle": "2020-08-18T00:28:50.391414Z",
     "shell.execute_reply": "2020-08-18T00:28:50.392110Z"
    },
    "papermill": {
     "duration": 0.063634,
     "end_time": "2020-08-18T00:28:50.392253",
     "exception": false,
     "start_time": "2020-08-18T00:28:50.328619",
     "status": "completed"
    },
    "tags": []
   },
   "outputs": [],
   "source": [
    "plot_testing = model_new(testing_xdata)"
   ]
  },
  {
   "cell_type": "markdown",
   "metadata": {
    "papermill": {
     "duration": 0.042256,
     "end_time": "2020-08-18T00:28:50.477368",
     "exception": false,
     "start_time": "2020-08-18T00:28:50.435112",
     "status": "completed"
    },
    "tags": []
   },
   "source": [
    "##### Plotting the scatter plot of points and color coding by class"
   ]
  },
  {
   "cell_type": "code",
   "execution_count": 27,
   "metadata": {
    "execution": {
     "iopub.execute_input": "2020-08-18T00:28:50.590146Z",
     "iopub.status.busy": "2020-08-18T00:28:50.589140Z",
     "iopub.status.idle": "2020-08-18T00:28:50.770473Z",
     "shell.execute_reply": "2020-08-18T00:28:50.769490Z"
    },
    "papermill": {
     "duration": 0.248447,
     "end_time": "2020-08-18T00:28:50.770602",
     "exception": false,
     "start_time": "2020-08-18T00:28:50.522155",
     "status": "completed"
    },
    "tags": []
   },
   "outputs": [
    {
     "data": {
      "image/png": "[encoded data removed]",
      "text/plain": [
       "<Figure size 576x504 with 1 Axes>"
      ]
     },
     "metadata": {
      "needs_background": "light"
     },
     "output_type": "display_data"
    }
   ],
   "source": [
    "plt.figure(figsize=(8,7))\n",
    "plt.scatter(plot_testing[:,0], plot_testing[:,1], alpha = 0.1, c = y_test.ravel());"
   ]
  },
  {
   "cell_type": "markdown",
   "metadata": {
    "papermill": {
     "duration": 0.043728,
     "end_time": "2020-08-18T00:28:50.857677",
     "exception": false,
     "start_time": "2020-08-18T00:28:50.813949",
     "status": "completed"
    },
    "tags": []
   },
   "source": [
    "##### Plotting probability contours"
   ]
  },
  {
   "cell_type": "code",
   "execution_count": 28,
   "metadata": {
    "execution": {
     "iopub.execute_input": "2020-08-18T00:28:50.952117Z",
     "iopub.status.busy": "2020-08-18T00:28:50.951383Z",
     "iopub.status.idle": "2020-08-18T00:28:50.962835Z",
     "shell.execute_reply": "2020-08-18T00:28:50.962360Z"
    },
    "papermill": {
     "duration": 0.059816,
     "end_time": "2020-08-18T00:28:50.962962",
     "exception": false,
     "start_time": "2020-08-18T00:28:50.903146",
     "status": "completed"
    },
    "tags": []
   },
   "outputs": [],
   "source": [
    "model_prob = Model(layers[-2:]) ## picking only last two layers to get probability. That is affine followed by sigmoid"
   ]
  },
  {
   "cell_type": "code",
   "execution_count": 29,
   "metadata": {
    "execution": {
     "iopub.execute_input": "2020-08-18T00:28:51.060626Z",
     "iopub.status.busy": "2020-08-18T00:28:51.059373Z",
     "iopub.status.idle": "2020-08-18T00:28:51.071392Z",
     "shell.execute_reply": "2020-08-18T00:28:51.071796Z"
    },
    "papermill": {
     "duration": 0.063737,
     "end_time": "2020-08-18T00:28:51.071954",
     "exception": false,
     "start_time": "2020-08-18T00:28:51.008217",
     "status": "completed"
    },
    "tags": []
   },
   "outputs": [],
   "source": [
    "xgrid = np.linspace(-4, 1, 100) ## Adjust these values based on above chart, roughly -4 to 1\n",
    "ygrid = np.linspace(-7.5, 7.5, 100) ## Adjust these values based on above chart, roughly -7.5, 7.5\n",
    "xg, yg = np.meshgrid(xgrid, ygrid)\n",
    "# xg and yg are now both 100X100, lets convert them to single arrays \n",
    "\n",
    "xg_interim = np.ravel(xg)\n",
    "yg_interim = np.ravel(yg)\n",
    "\n",
    "## xg_interim, yg_interim are now arrays of len 10000, now we will stack them and then transpose to get desired shape of n rows, 2 columns\n",
    "\n",
    "X_interim = np.vstack((xg_interim, yg_interim)) ## Please note vstack takes in a tuple\n",
    "X = X_interim.T\n",
    "\n",
    "## We want a shape of n rows and 2 columns to be able to feed this to last affine\n",
    "## This last affine takes only two columns, hence the above transformation\n",
    "probability_contour = model_prob(X).reshape(100,100) ## to make it consistent with xg, yg"
   ]
  },
  {
   "cell_type": "code",
   "execution_count": 30,
   "metadata": {
    "execution": {
     "iopub.execute_input": "2020-08-18T00:28:51.181289Z",
     "iopub.status.busy": "2020-08-18T00:28:51.180706Z",
     "iopub.status.idle": "2020-08-18T00:28:51.389035Z",
     "shell.execute_reply": "2020-08-18T00:28:51.389912Z"
    },
    "papermill": {
     "duration": 0.2724,
     "end_time": "2020-08-18T00:28:51.390090",
     "exception": false,
     "start_time": "2020-08-18T00:28:51.117690",
     "status": "completed"
    },
    "tags": []
   },
   "outputs": [
    {
     "data": {
      "image/png": "[encoded data removed]",
      "text/plain": [
       "<Figure size 576x504 with 1 Axes>"
      ]
     },
     "metadata": {
      "needs_background": "light"
     },
     "output_type": "display_data"
    }
   ],
   "source": [
    "plt.figure(figsize=(8,7))\n",
    "plt.scatter(plot_testing[:,0], plot_testing[:,1], alpha = 0.1, c = y_test.ravel())\n",
    "contours = plt.contour(xg,yg,probability_contour)\n",
    "plt.clabel(contours, inline = True );"
   ]
  }
 ],
 "metadata": {
  "kernelspec": {
   "display_name": "Python 3",
   "language": "python",
   "name": "python3"
  },
  "language_info": {
   "codemirror_mode": {
    "name": "ipython",
    "version": 3
   },
   "file_extension": ".py",
   "mimetype": "text/x-python",
   "name": "python",
   "nbconvert_exporter": "python",
   "pygments_lexer": "ipython3",
   "version": "3.6.11"
  },
  "papermill": {
   "duration": 106.704809,
   "end_time": "2020-08-18T00:28:51.742696",
   "environment_variables": {},
   "exception": null,
   "input_path": "2020-08-07-NN-new.ipynb",
   "output_path": "2020-08-07-NN-new.ipynb",
   "parameters": {},
   "start_time": "2020-08-18T00:27:05.037887",
   "version": "2.1.2"
  }
 },
 "nbformat": 4,
 "nbformat_minor": 4
}