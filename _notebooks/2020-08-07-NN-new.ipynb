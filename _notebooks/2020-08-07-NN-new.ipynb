{
 "cells": [
  {
   "cell_type": "markdown",
   "metadata": {
    "papermill": {
     "duration": 0.034242,
     "end_time": "2020-08-23T20:13:22.517004",
     "exception": false,
     "start_time": "2020-08-23T20:13:22.482762",
     "status": "completed"
    },
    "tags": []
   },
   "source": [
    "# \"Building a basic Neural Network from scratch - Kudzu\"\n",
    "\n",
    "- badges: true\n",
    "- author: Anshuman Gupta"
   ]
  },
  {
   "cell_type": "markdown",
   "metadata": {
    "papermill": {
     "duration": 0.643115,
     "end_time": "2020-08-23T20:13:23.188662",
     "exception": false,
     "start_time": "2020-08-23T20:13:22.545547",
     "status": "completed"
    },
    "tags": []
   },
   "source": [
    "#### In this project, the idea is to write a classifier to differentiate between handwritten digits 3 and 8, from the MNIST database.\n",
    "\n",
    "#### I will using a custom built neural network library called Kudzu.This has been developed as a part of KTF/Foundations course of Univ.ai (www.univ.ai). The source code for Kudzu Library and and this notebook can be found on my git-hub profile : www.https://github.com/anshuman6 under the folder project-solution. Any feedback and comments are welcome. Please feel free to email me at: anshuman6@gmail.com\n",
    "\n",
    "#### 1. I will be using the MNIST database. \n",
    "\n",
    "#### 2. I will be comparing the results of the 4 layer NN to a standard logistic regression"
   ]
  },
  {
   "cell_type": "markdown",
   "metadata": {
    "papermill": {
     "duration": 0.110795,
     "end_time": "2020-08-23T20:13:23.549928",
     "exception": false,
     "start_time": "2020-08-23T20:13:23.439133",
     "status": "completed"
    },
    "tags": []
   },
   "source": [
    "##### Importing all the necessary libraries"
   ]
  },
  {
   "cell_type": "code",
   "execution_count": 1,
   "metadata": {
    "execution": {
     "iopub.execute_input": "2020-08-23T20:13:23.601179Z",
     "iopub.status.busy": "2020-08-23T20:13:23.599849Z",
     "iopub.status.idle": "2020-08-23T20:13:23.608799Z",
     "shell.execute_reply": "2020-08-23T20:13:23.609186Z"
    },
    "papermill": {
     "duration": 0.034879,
     "end_time": "2020-08-23T20:13:23.609299",
     "exception": false,
     "start_time": "2020-08-23T20:13:23.574420",
     "status": "completed"
    },
    "tags": []
   },
   "outputs": [],
   "source": [
    "%load_ext autoreload\n",
    "%autoreload 2"
   ]
  },
  {
   "cell_type": "code",
   "execution_count": 2,
   "metadata": {
    "execution": {
     "iopub.execute_input": "2020-08-23T20:13:23.655863Z",
     "iopub.status.busy": "2020-08-23T20:13:23.655433Z",
     "iopub.status.idle": "2020-08-23T20:13:24.107579Z",
     "shell.execute_reply": "2020-08-23T20:13:24.107145Z"
    },
    "papermill": {
     "duration": 0.477542,
     "end_time": "2020-08-23T20:13:24.107701",
     "exception": false,
     "start_time": "2020-08-23T20:13:23.630159",
     "status": "completed"
    },
    "tags": []
   },
   "outputs": [],
   "source": [
    "%matplotlib inline\n",
    "import numpy as np\n",
    "import matplotlib.pyplot as plt\n",
    "import pandas as pd"
   ]
  },
  {
   "cell_type": "markdown",
   "metadata": {
    "papermill": {
     "duration": 0.02162,
     "end_time": "2020-08-23T20:13:24.151190",
     "exception": false,
     "start_time": "2020-08-23T20:13:24.129570",
     "status": "completed"
    },
    "tags": []
   },
   "source": [
    "##### The following command helps us download MNIST from notebook itself. You can skip this if you already have MNIST. You can also download it via your terminal."
   ]
  },
  {
   "cell_type": "code",
   "execution_count": 3,
   "metadata": {
    "execution": {
     "iopub.execute_input": "2020-08-23T20:13:24.197159Z",
     "iopub.status.busy": "2020-08-23T20:13:24.196739Z",
     "iopub.status.idle": "2020-08-23T20:13:25.358826Z",
     "shell.execute_reply": "2020-08-23T20:13:25.359735Z"
    },
    "papermill": {
     "duration": 1.188268,
     "end_time": "2020-08-23T20:13:25.359919",
     "exception": false,
     "start_time": "2020-08-23T20:13:24.171651",
     "status": "completed"
    },
    "tags": []
   },
   "outputs": [
    {
     "name": "stdout",
     "output_type": "stream",
     "text": [
      "Collecting mnist\r\n"
     ]
    },
    {
     "name": "stdout",
     "output_type": "stream",
     "text": [
      "  Downloading mnist-0.2.2-py2.py3-none-any.whl (3.5 kB)\r\n"
     ]
    },
    {
     "name": "stdout",
     "output_type": "stream",
     "text": [
      "Requirement already satisfied: numpy in /opt/hostedtoolcache/Python/3.6.11/x64/lib/python3.6/site-packages (from mnist) (1.19.1)\r\n"
     ]
    },
    {
     "name": "stdout",
     "output_type": "stream",
     "text": [
      "Installing collected packages: mnist\r\n",
      "Successfully installed mnist-0.2.2\r\n"
     ]
    }
   ],
   "source": [
    "!pip install mnist # Please note, it is commented out for now, you can remove comment if you want to install it"
   ]
  },
  {
   "cell_type": "markdown",
   "metadata": {
    "papermill": {
     "duration": 0.022821,
     "end_time": "2020-08-23T20:13:25.406276",
     "exception": false,
     "start_time": "2020-08-23T20:13:25.383455",
     "status": "completed"
    },
    "tags": []
   },
   "source": [
    "#### Preparing the Data"
   ]
  },
  {
   "cell_type": "code",
   "execution_count": 4,
   "metadata": {
    "execution": {
     "iopub.execute_input": "2020-08-23T20:13:25.470185Z",
     "iopub.status.busy": "2020-08-23T20:13:25.462135Z",
     "iopub.status.idle": "2020-08-23T20:13:25.480261Z",
     "shell.execute_reply": "2020-08-23T20:13:25.480644Z"
    },
    "papermill": {
     "duration": 0.050389,
     "end_time": "2020-08-23T20:13:25.480763",
     "exception": false,
     "start_time": "2020-08-23T20:13:25.430374",
     "status": "completed"
    },
    "tags": []
   },
   "outputs": [],
   "source": [
    "import mnist"
   ]
  },
  {
   "cell_type": "code",
   "execution_count": 5,
   "metadata": {
    "execution": {
     "iopub.execute_input": "2020-08-23T20:13:25.526991Z",
     "iopub.status.busy": "2020-08-23T20:13:25.526585Z",
     "iopub.status.idle": "2020-08-23T20:13:26.236927Z",
     "shell.execute_reply": "2020-08-23T20:13:26.237792Z"
    },
    "papermill": {
     "duration": 0.735493,
     "end_time": "2020-08-23T20:13:26.238039",
     "exception": false,
     "start_time": "2020-08-23T20:13:25.502546",
     "status": "completed"
    },
    "tags": []
   },
   "outputs": [],
   "source": [
    "train_images = mnist.train_images()\n",
    "train_labels = mnist.train_labels()"
   ]
  },
  {
   "cell_type": "code",
   "execution_count": 6,
   "metadata": {
    "execution": {
     "iopub.execute_input": "2020-08-23T20:13:26.284409Z",
     "iopub.status.busy": "2020-08-23T20:13:26.283862Z",
     "iopub.status.idle": "2020-08-23T20:13:26.298113Z",
     "shell.execute_reply": "2020-08-23T20:13:26.297612Z"
    },
    "papermill": {
     "duration": 0.037933,
     "end_time": "2020-08-23T20:13:26.298229",
     "exception": false,
     "start_time": "2020-08-23T20:13:26.260296",
     "status": "completed"
    },
    "tags": []
   },
   "outputs": [
    {
     "data": {
      "text/plain": [
       "((60000, 28, 28), (60000,))"
      ]
     },
     "execution_count": 6,
     "metadata": {},
     "output_type": "execute_result"
    }
   ],
   "source": [
    "train_images.shape, train_labels.shape"
   ]
  },
  {
   "cell_type": "code",
   "execution_count": 7,
   "metadata": {
    "execution": {
     "iopub.execute_input": "2020-08-23T20:13:26.347234Z",
     "iopub.status.busy": "2020-08-23T20:13:26.346245Z",
     "iopub.status.idle": "2020-08-23T20:13:26.602719Z",
     "shell.execute_reply": "2020-08-23T20:13:26.603161Z"
    },
    "papermill": {
     "duration": 0.282176,
     "end_time": "2020-08-23T20:13:26.603316",
     "exception": false,
     "start_time": "2020-08-23T20:13:26.321140",
     "status": "completed"
    },
    "tags": []
   },
   "outputs": [],
   "source": [
    "test_images = mnist.test_images()\n",
    "test_labels = mnist.test_labels()"
   ]
  },
  {
   "cell_type": "code",
   "execution_count": 8,
   "metadata": {
    "execution": {
     "iopub.execute_input": "2020-08-23T20:13:26.657812Z",
     "iopub.status.busy": "2020-08-23T20:13:26.657233Z",
     "iopub.status.idle": "2020-08-23T20:13:26.671826Z",
     "shell.execute_reply": "2020-08-23T20:13:26.672158Z"
    },
    "papermill": {
     "duration": 0.044099,
     "end_time": "2020-08-23T20:13:26.672288",
     "exception": false,
     "start_time": "2020-08-23T20:13:26.628189",
     "status": "completed"
    },
    "tags": []
   },
   "outputs": [
    {
     "data": {
      "text/plain": [
       "((10000, 28, 28), (10000,))"
      ]
     },
     "execution_count": 8,
     "metadata": {},
     "output_type": "execute_result"
    }
   ],
   "source": [
    "test_images.shape, test_labels.shape"
   ]
  },
  {
   "cell_type": "code",
   "execution_count": 9,
   "metadata": {
    "execution": {
     "iopub.execute_input": "2020-08-23T20:13:26.721098Z",
     "iopub.status.busy": "2020-08-23T20:13:26.720694Z",
     "iopub.status.idle": "2020-08-23T20:13:26.844053Z",
     "shell.execute_reply": "2020-08-23T20:13:26.843581Z"
    },
    "papermill": {
     "duration": 0.149593,
     "end_time": "2020-08-23T20:13:26.844146",
     "exception": false,
     "start_time": "2020-08-23T20:13:26.694553",
     "status": "completed"
    },
    "tags": []
   },
   "outputs": [
    {
     "name": "stdout",
     "output_type": "stream",
     "text": [
      "2\n"
     ]
    },
    {
     "data": {
      "text/plain": [
       "<matplotlib.image.AxesImage at 0x7f5dc591e128>"
      ]
     },
     "execution_count": 9,
     "metadata": {},
     "output_type": "execute_result"
    },
    {
     "data": {
      "image/png": "[encoded data removed]",
      "text/plain": [
       "<Figure size 432x288 with 1 Axes>"
      ]
     },
     "metadata": {
      "needs_background": "light"
     },
     "output_type": "display_data"
    }
   ],
   "source": [
    "image_index = 7776 # You may select anything up to 60,000\n",
    "print(train_labels[image_index]) \n",
    "plt.imshow(train_images[image_index], cmap='Greys')"
   ]
  },
  {
   "cell_type": "markdown",
   "metadata": {
    "papermill": {
     "duration": 0.025144,
     "end_time": "2020-08-23T20:13:26.892603",
     "exception": false,
     "start_time": "2020-08-23T20:13:26.867459",
     "status": "completed"
    },
    "tags": []
   },
   "source": [
    "## Filter data to get 3 and 8 out"
   ]
  },
  {
   "cell_type": "code",
   "execution_count": 10,
   "metadata": {
    "execution": {
     "iopub.execute_input": "2020-08-23T20:13:26.947002Z",
     "iopub.status.busy": "2020-08-23T20:13:26.946588Z",
     "iopub.status.idle": "2020-08-23T20:13:26.962056Z",
     "shell.execute_reply": "2020-08-23T20:13:26.961705Z"
    },
    "papermill": {
     "duration": 0.04394,
     "end_time": "2020-08-23T20:13:26.962143",
     "exception": false,
     "start_time": "2020-08-23T20:13:26.918203",
     "status": "completed"
    },
    "tags": []
   },
   "outputs": [],
   "source": [
    "train_filter = np.where((train_labels == 3 ) | (train_labels == 8))\n",
    "test_filter = np.where((test_labels == 3) | (test_labels == 8))\n",
    "X_train, y_train = train_images[train_filter], train_labels[train_filter]\n",
    "X_test, y_test = test_images[test_filter], test_labels[test_filter]"
   ]
  },
  {
   "cell_type": "markdown",
   "metadata": {
    "papermill": {
     "duration": 0.021958,
     "end_time": "2020-08-23T20:13:27.006028",
     "exception": false,
     "start_time": "2020-08-23T20:13:26.984070",
     "status": "completed"
    },
    "tags": []
   },
   "source": [
    "##### We normalize the pizel values in the 0 to 1 range"
   ]
  },
  {
   "cell_type": "code",
   "execution_count": 11,
   "metadata": {
    "execution": {
     "iopub.execute_input": "2020-08-23T20:13:27.064073Z",
     "iopub.status.busy": "2020-08-23T20:13:27.063447Z",
     "iopub.status.idle": "2020-08-23T20:13:27.113691Z",
     "shell.execute_reply": "2020-08-23T20:13:27.114360Z"
    },
    "papermill": {
     "duration": 0.085405,
     "end_time": "2020-08-23T20:13:27.114578",
     "exception": false,
     "start_time": "2020-08-23T20:13:27.029173",
     "status": "completed"
    },
    "tags": []
   },
   "outputs": [],
   "source": [
    "X_train = X_train/255.\n",
    "X_test = X_test/255."
   ]
  },
  {
   "cell_type": "markdown",
   "metadata": {
    "papermill": {
     "duration": 0.022883,
     "end_time": "2020-08-23T20:13:27.166402",
     "exception": false,
     "start_time": "2020-08-23T20:13:27.143519",
     "status": "completed"
    },
    "tags": []
   },
   "source": [
    "And setup the labels as 1 (when the digit is 3) and 0 (when the digit is 8)"
   ]
  },
  {
   "cell_type": "code",
   "execution_count": 12,
   "metadata": {
    "execution": {
     "iopub.execute_input": "2020-08-23T20:13:27.216709Z",
     "iopub.status.busy": "2020-08-23T20:13:27.216298Z",
     "iopub.status.idle": "2020-08-23T20:13:27.229030Z",
     "shell.execute_reply": "2020-08-23T20:13:27.228697Z"
    },
    "papermill": {
     "duration": 0.038783,
     "end_time": "2020-08-23T20:13:27.229119",
     "exception": false,
     "start_time": "2020-08-23T20:13:27.190336",
     "status": "completed"
    },
    "tags": []
   },
   "outputs": [],
   "source": [
    "y_train = 1*(y_train==3)\n",
    "y_test = 1*(y_test==3)"
   ]
  },
  {
   "cell_type": "code",
   "execution_count": 13,
   "metadata": {
    "execution": {
     "iopub.execute_input": "2020-08-23T20:13:27.277932Z",
     "iopub.status.busy": "2020-08-23T20:13:27.277508Z",
     "iopub.status.idle": "2020-08-23T20:13:27.292012Z",
     "shell.execute_reply": "2020-08-23T20:13:27.292396Z"
    },
    "papermill": {
     "duration": 0.040215,
     "end_time": "2020-08-23T20:13:27.292503",
     "exception": false,
     "start_time": "2020-08-23T20:13:27.252288",
     "status": "completed"
    },
    "tags": []
   },
   "outputs": [
    {
     "data": {
      "text/plain": [
       "((11982, 28, 28), (1984, 28, 28))"
      ]
     },
     "execution_count": 13,
     "metadata": {},
     "output_type": "execute_result"
    }
   ],
   "source": [
    "X_train.shape, X_test.shape"
   ]
  },
  {
   "cell_type": "markdown",
   "metadata": {
    "papermill": {
     "duration": 0.022885,
     "end_time": "2020-08-23T20:13:27.338469",
     "exception": false,
     "start_time": "2020-08-23T20:13:27.315584",
     "status": "completed"
    },
    "tags": []
   },
   "source": [
    "##### We reshape the data to flatten the image pixels into a set of features or co-variates:"
   ]
  },
  {
   "cell_type": "code",
   "execution_count": 14,
   "metadata": {
    "execution": {
     "iopub.execute_input": "2020-08-23T20:13:27.388809Z",
     "iopub.status.busy": "2020-08-23T20:13:27.388348Z",
     "iopub.status.idle": "2020-08-23T20:13:27.400671Z",
     "shell.execute_reply": "2020-08-23T20:13:27.401126Z"
    },
    "papermill": {
     "duration": 0.040492,
     "end_time": "2020-08-23T20:13:27.401243",
     "exception": false,
     "start_time": "2020-08-23T20:13:27.360751",
     "status": "completed"
    },
    "tags": []
   },
   "outputs": [
    {
     "data": {
      "text/plain": [
       "((11982, 784), (1984, 784))"
      ]
     },
     "execution_count": 14,
     "metadata": {},
     "output_type": "execute_result"
    }
   ],
   "source": [
    "X_train = X_train.reshape(X_train.shape[0], -1)\n",
    "X_test = X_test.reshape(X_test.shape[0], -1)\n",
    "X_train.shape, X_test.shape"
   ]
  },
  {
   "cell_type": "markdown",
   "metadata": {
    "papermill": {
     "duration": 0.028367,
     "end_time": "2020-08-23T20:13:27.458128",
     "exception": false,
     "start_time": "2020-08-23T20:13:27.429761",
     "status": "completed"
    },
    "tags": []
   },
   "source": [
    "##### Importing Kudzu library and its functionality"
   ]
  },
  {
   "cell_type": "code",
   "execution_count": 15,
   "metadata": {
    "execution": {
     "iopub.execute_input": "2020-08-23T20:13:27.508884Z",
     "iopub.status.busy": "2020-08-23T20:13:27.508421Z",
     "iopub.status.idle": "2020-08-23T20:13:27.524440Z",
     "shell.execute_reply": "2020-08-23T20:13:27.524043Z"
    },
    "papermill": {
     "duration": 0.043287,
     "end_time": "2020-08-23T20:13:27.524534",
     "exception": false,
     "start_time": "2020-08-23T20:13:27.481247",
     "status": "completed"
    },
    "tags": []
   },
   "outputs": [],
   "source": [
    "from kudzu.data import Data, Dataloader, Sampler\n",
    "from kudzu.callbacks import AccCallback\n",
    "from kudzu.loss import MSE\n",
    "from kudzu.layer import Affine, Sigmoid\n",
    "from kudzu.model import Model\n",
    "from kudzu.optim import GD\n",
    "from kudzu.train import Learner\n",
    "from kudzu.callbacks import ClfCallback\n",
    "from kudzu.layer import Sigmoid\n",
    "from kudzu.layer import Relu"
   ]
  },
  {
   "cell_type": "markdown",
   "metadata": {
    "papermill": {
     "duration": 0.023475,
     "end_time": "2020-08-23T20:13:27.571208",
     "exception": false,
     "start_time": "2020-08-23T20:13:27.547733",
     "status": "completed"
    },
    "tags": []
   },
   "source": [
    "##### We are creating a class, just so that we can use it to store our parameters for us"
   ]
  },
  {
   "cell_type": "code",
   "execution_count": 16,
   "metadata": {
    "execution": {
     "iopub.execute_input": "2020-08-23T20:13:27.621470Z",
     "iopub.status.busy": "2020-08-23T20:13:27.621069Z",
     "iopub.status.idle": "2020-08-23T20:13:27.632543Z",
     "shell.execute_reply": "2020-08-23T20:13:27.632872Z"
    },
    "papermill": {
     "duration": 0.039211,
     "end_time": "2020-08-23T20:13:27.632964",
     "exception": false,
     "start_time": "2020-08-23T20:13:27.593753",
     "status": "completed"
    },
    "tags": []
   },
   "outputs": [],
   "source": [
    "class Config:\n",
    "    pass\n",
    "config = Config()\n",
    "config.lr = 0.001\n",
    "config.num_epochs = 250\n",
    "config.bs = 50"
   ]
  },
  {
   "cell_type": "markdown",
   "metadata": {
    "papermill": {
     "duration": 0.023938,
     "end_time": "2020-08-23T20:13:27.680388",
     "exception": false,
     "start_time": "2020-08-23T20:13:27.656450",
     "status": "completed"
    },
    "tags": []
   },
   "source": [
    "##### Initializing Data"
   ]
  },
  {
   "cell_type": "code",
   "execution_count": 17,
   "metadata": {
    "execution": {
     "iopub.execute_input": "2020-08-23T20:13:27.738019Z",
     "iopub.status.busy": "2020-08-23T20:13:27.737554Z",
     "iopub.status.idle": "2020-08-23T20:13:27.747977Z",
     "shell.execute_reply": "2020-08-23T20:13:27.747578Z"
    },
    "papermill": {
     "duration": 0.040737,
     "end_time": "2020-08-23T20:13:27.748071",
     "exception": false,
     "start_time": "2020-08-23T20:13:27.707334",
     "status": "completed"
    },
    "tags": []
   },
   "outputs": [],
   "source": [
    "data = Data(X_train, y_train.reshape(-1,1))\n",
    "loss = MSE()\n",
    "opt = GD(config.lr)\n",
    "sampler = Sampler(data, config.bs, shuffle=True)\n",
    "dl = Dataloader(data, sampler)"
   ]
  },
  {
   "cell_type": "markdown",
   "metadata": {
    "papermill": {
     "duration": 0.024439,
     "end_time": "2020-08-23T20:13:27.795897",
     "exception": false,
     "start_time": "2020-08-23T20:13:27.771458",
     "status": "completed"
    },
    "tags": []
   },
   "source": [
    "##### Constructing 2 different layers, one for NN and one only for logistic regression."
   ]
  },
  {
   "cell_type": "markdown",
   "metadata": {
    "papermill": {
     "duration": 0.025731,
     "end_time": "2020-08-23T20:13:27.849984",
     "exception": false,
     "start_time": "2020-08-23T20:13:27.824253",
     "status": "completed"
    },
    "tags": []
   },
   "source": [
    "##### Creating containers for data to be passed, to calculate accuracies"
   ]
  },
  {
   "cell_type": "code",
   "execution_count": 18,
   "metadata": {
    "execution": {
     "iopub.execute_input": "2020-08-23T20:13:27.933060Z",
     "iopub.status.busy": "2020-08-23T20:13:27.924569Z",
     "iopub.status.idle": "2020-08-23T20:13:27.935254Z",
     "shell.execute_reply": "2020-08-23T20:13:27.934877Z"
    },
    "papermill": {
     "duration": 0.045276,
     "end_time": "2020-08-23T20:13:27.935353",
     "exception": false,
     "start_time": "2020-08-23T20:13:27.890077",
     "status": "completed"
    },
    "tags": []
   },
   "outputs": [],
   "source": [
    "training_xdata = X_train\n",
    "testing_xdata = X_test\n",
    "training_ydata = y_train.reshape(-1,1)\n",
    "testing_ydata = y_test.reshape(-1,1)"
   ]
  },
  {
   "cell_type": "markdown",
   "metadata": {
    "papermill": {
     "duration": 0.028776,
     "end_time": "2020-08-23T20:13:27.990430",
     "exception": false,
     "start_time": "2020-08-23T20:13:27.961654",
     "status": "completed"
    },
    "tags": []
   },
   "source": [
    "##### Initializing models and Running training loop: "
   ]
  },
  {
   "cell_type": "code",
   "execution_count": 19,
   "metadata": {
    "execution": {
     "iopub.execute_input": "2020-08-23T20:13:28.051826Z",
     "iopub.status.busy": "2020-08-23T20:13:28.050770Z",
     "iopub.status.idle": "2020-08-23T20:13:28.069059Z",
     "shell.execute_reply": "2020-08-23T20:13:28.068600Z"
    },
    "papermill": {
     "duration": 0.05433,
     "end_time": "2020-08-23T20:13:28.069165",
     "exception": false,
     "start_time": "2020-08-23T20:13:28.014835",
     "status": "completed"
    },
    "tags": []
   },
   "outputs": [],
   "source": [
    "layers = [Affine(\"first\", 784, 100), Relu(\"first\"), Affine(\"second\", 100, 100), Relu(\"second\"), Affine(\"third\", 100, 2), Affine(\"final\", 2, 1), Sigmoid(\"final\")]\n",
    "\n",
    "model_neural = Model(layers)\n",
    "model_logistic = Model([Affine(\"logits\", 784, 1), Sigmoid(\"sigmoid\")])"
   ]
  },
  {
   "cell_type": "code",
   "execution_count": 20,
   "metadata": {
    "execution": {
     "iopub.execute_input": "2020-08-23T20:13:28.125844Z",
     "iopub.status.busy": "2020-08-23T20:13:28.125268Z",
     "iopub.status.idle": "2020-08-23T20:13:28.139051Z",
     "shell.execute_reply": "2020-08-23T20:13:28.138553Z"
    },
    "papermill": {
     "duration": 0.042974,
     "end_time": "2020-08-23T20:13:28.139163",
     "exception": false,
     "start_time": "2020-08-23T20:13:28.096189",
     "status": "completed"
    },
    "tags": []
   },
   "outputs": [],
   "source": [
    "learner1 = Learner(loss, model_neural, opt, config.num_epochs)\n",
    "acc1 = ClfCallback(learner1, config.bs, training_xdata , testing_xdata, training_ydata, testing_ydata)\n",
    "learner1.set_callbacks([acc1])"
   ]
  },
  {
   "cell_type": "code",
   "execution_count": 21,
   "metadata": {
    "execution": {
     "iopub.execute_input": "2020-08-23T20:13:28.196358Z",
     "iopub.status.busy": "2020-08-23T20:13:28.195896Z",
     "iopub.status.idle": "2020-08-23T20:14:41.039613Z",
     "shell.execute_reply": "2020-08-23T20:14:41.039207Z"
    },
    "papermill": {
     "duration": 72.874325,
     "end_time": "2020-08-23T20:14:41.039759",
     "exception": false,
     "start_time": "2020-08-23T20:13:28.165434",
     "status": "completed"
    },
    "tags": []
   },
   "outputs": [
    {
     "name": "stdout",
     "output_type": "stream",
     "text": [
      "Epoch 0 Loss 0.2505124061894266\n",
      "train accuracy is: 0.5928893340010015, test accuracy is 0.5957661290322581\n"
     ]
    },
    {
     "name": "stdout",
     "output_type": "stream",
     "text": [
      "Epoch 10 Loss 0.10968572175823887\n",
      "train accuracy is: 0.9169587714905691, test accuracy is 0.9248991935483871\n"
     ]
    },
    {
     "name": "stdout",
     "output_type": "stream",
     "text": [
      "Epoch 20 Loss 0.06146772632286602\n",
      "train accuracy is: 0.9411617426139208, test accuracy is 0.9460685483870968\n"
     ]
    },
    {
     "name": "stdout",
     "output_type": "stream",
     "text": [
      "Epoch 30 Loss 0.04652463372552469\n",
      "train accuracy is: 0.9502587214154565, test accuracy is 0.9576612903225806\n"
     ]
    },
    {
     "name": "stdout",
     "output_type": "stream",
     "text": [
      "Epoch 40 Loss 0.0395351136959494\n",
      "train accuracy is: 0.9563511934568519, test accuracy is 0.9611895161290323\n"
     ]
    },
    {
     "name": "stdout",
     "output_type": "stream",
     "text": [
      "Epoch 50 Loss 0.03548923559634326\n",
      "train accuracy is: 0.9606075780337172, test accuracy is 0.9637096774193549\n"
     ]
    },
    {
     "name": "stdout",
     "output_type": "stream",
     "text": [
      "Epoch 60 Loss 0.03280916756146754\n",
      "train accuracy is: 0.9621932899349024, test accuracy is 0.9657258064516129\n"
     ]
    },
    {
     "name": "stdout",
     "output_type": "stream",
     "text": [
      "Epoch 70 Loss 0.030867115116677054\n",
      "train accuracy is: 0.9644466700050075, test accuracy is 0.9662298387096774\n"
     ]
    },
    {
     "name": "stdout",
     "output_type": "stream",
     "text": [
      "Epoch 80 Loss 0.029369472642083335\n",
      "train accuracy is: 0.9662827574695376, test accuracy is 0.9672379032258065\n"
     ]
    },
    {
     "name": "stdout",
     "output_type": "stream",
     "text": [
      "Epoch 90 Loss 0.028162148757385645\n",
      "train accuracy is: 0.9673677182440327, test accuracy is 0.9692540322580645\n"
     ]
    },
    {
     "name": "stdout",
     "output_type": "stream",
     "text": [
      "Epoch 100 Loss 0.0271533805992447\n",
      "train accuracy is: 0.9687030545818728, test accuracy is 0.96875\n"
     ]
    },
    {
     "name": "stdout",
     "output_type": "stream",
     "text": [
      "Epoch 110 Loss 0.026296075782852316\n",
      "train accuracy is: 0.9693707227507928, test accuracy is 0.96875\n"
     ]
    },
    {
     "name": "stdout",
     "output_type": "stream",
     "text": [
      "Epoch 120 Loss 0.025527484837301367\n",
      "train accuracy is: 0.9701218494408279, test accuracy is 0.96875\n"
     ]
    },
    {
     "name": "stdout",
     "output_type": "stream",
     "text": [
      "Epoch 130 Loss 0.024861996351586837\n",
      "train accuracy is: 0.9711233516942079, test accuracy is 0.96875\n"
     ]
    },
    {
     "name": "stdout",
     "output_type": "stream",
     "text": [
      "Epoch 140 Loss 0.024254040375440527\n",
      "train accuracy is: 0.971957936905358, test accuracy is 0.9682459677419355\n"
     ]
    },
    {
     "name": "stdout",
     "output_type": "stream",
     "text": [
      "Epoch 150 Loss 0.023697258178720208\n",
      "train accuracy is: 0.9725421465531631, test accuracy is 0.9702620967741935\n"
     ]
    },
    {
     "name": "stdout",
     "output_type": "stream",
     "text": [
      "Epoch 160 Loss 0.023187943330541493\n",
      "train accuracy is: 0.9727925221165081, test accuracy is 0.969758064516129\n"
     ]
    },
    {
     "name": "stdout",
     "output_type": "stream",
     "text": [
      "Epoch 170 Loss 0.022711378394120484\n",
      "train accuracy is: 0.9732932732431981, test accuracy is 0.9702620967741935\n"
     ]
    },
    {
     "name": "stdout",
     "output_type": "stream",
     "text": [
      "Epoch 180 Loss 0.022263702195060752\n",
      "train accuracy is: 0.9738774828910032, test accuracy is 0.9707661290322581\n"
     ]
    },
    {
     "name": "stdout",
     "output_type": "stream",
     "text": [
      "Epoch 190 Loss 0.021836780288339092\n",
      "train accuracy is: 0.9747955266232682, test accuracy is 0.9712701612903226\n"
     ]
    },
    {
     "name": "stdout",
     "output_type": "stream",
     "text": [
      "Epoch 200 Loss 0.021430218423714766\n",
      "train accuracy is: 0.9750459021866132, test accuracy is 0.9712701612903226\n"
     ]
    },
    {
     "name": "stdout",
     "output_type": "stream",
     "text": [
      "Epoch 210 Loss 0.02104487792263615\n",
      "train accuracy is: 0.9757970288766483, test accuracy is 0.9717741935483871\n"
     ]
    },
    {
     "name": "stdout",
     "output_type": "stream",
     "text": [
      "Epoch 220 Loss 0.020672006404428317\n",
      "train accuracy is: 0.9758804873977633, test accuracy is 0.9717741935483871\n"
     ]
    },
    {
     "name": "stdout",
     "output_type": "stream",
     "text": [
      "Epoch 230 Loss 0.020323385726822886\n",
      "train accuracy is: 0.9763812385244534, test accuracy is 0.9717741935483871\n"
     ]
    },
    {
     "name": "stdout",
     "output_type": "stream",
     "text": [
      "Epoch 240 Loss 0.01997676232822593\n",
      "train accuracy is: 0.9772158237356035, test accuracy is 0.9722782258064516\n"
     ]
    },
    {
     "data": {
      "text/plain": [
       "0.05420960778691011"
      ]
     },
     "execution_count": 21,
     "metadata": {},
     "output_type": "execute_result"
    }
   ],
   "source": [
    "learner1.train_loop(dl)"
   ]
  },
  {
   "cell_type": "markdown",
   "metadata": {
    "papermill": {
     "duration": 0.034344,
     "end_time": "2020-08-23T20:14:41.110991",
     "exception": false,
     "start_time": "2020-08-23T20:14:41.076647",
     "status": "completed"
    },
    "tags": []
   },
   "source": [
    "##### Now running only the logistic regression based classification to compare results with NN"
   ]
  },
  {
   "cell_type": "code",
   "execution_count": 22,
   "metadata": {
    "execution": {
     "iopub.execute_input": "2020-08-23T20:14:41.174585Z",
     "iopub.status.busy": "2020-08-23T20:14:41.173689Z",
     "iopub.status.idle": "2020-08-23T20:14:41.184002Z",
     "shell.execute_reply": "2020-08-23T20:14:41.184341Z"
    },
    "papermill": {
     "duration": 0.043309,
     "end_time": "2020-08-23T20:14:41.184449",
     "exception": false,
     "start_time": "2020-08-23T20:14:41.141140",
     "status": "completed"
    },
    "tags": []
   },
   "outputs": [],
   "source": [
    "learner2 = Learner(loss, model_logistic, opt, config.num_epochs)\n",
    "acc2 = ClfCallback(learner2, config.bs, training_xdata , testing_xdata, training_ydata, testing_ydata)\n",
    "learner2.set_callbacks([acc2])"
   ]
  },
  {
   "cell_type": "code",
   "execution_count": 23,
   "metadata": {
    "execution": {
     "iopub.execute_input": "2020-08-23T20:14:41.247181Z",
     "iopub.status.busy": "2020-08-23T20:14:41.246784Z",
     "iopub.status.idle": "2020-08-23T20:14:53.868608Z",
     "shell.execute_reply": "2020-08-23T20:14:53.868993Z"
    },
    "papermill": {
     "duration": 12.656025,
     "end_time": "2020-08-23T20:14:53.869151",
     "exception": false,
     "start_time": "2020-08-23T20:14:41.213126",
     "status": "completed"
    },
    "tags": []
   },
   "outputs": [
    {
     "name": "stdout",
     "output_type": "stream",
     "text": [
      "Epoch 0 Loss 0.22073157775641636\n",
      "train accuracy is: 0.7832582206643298, test accuracy is 0.8009072580645161\n"
     ]
    },
    {
     "name": "stdout",
     "output_type": "stream",
     "text": [
      "Epoch 10 Loss 0.09816579167559683\n",
      "train accuracy is: 0.9178768152228343, test accuracy is 0.9314516129032258\n"
     ]
    },
    {
     "name": "stdout",
     "output_type": "stream",
     "text": [
      "Epoch 20 Loss 0.07670980315233002\n",
      "train accuracy is: 0.9298113837422801, test accuracy is 0.9425403225806451\n"
     ]
    },
    {
     "name": "stdout",
     "output_type": "stream",
     "text": [
      "Epoch 30 Loss 0.06667708570570975\n",
      "train accuracy is: 0.9382406943748957, test accuracy is 0.9495967741935484\n"
     ]
    },
    {
     "name": "stdout",
     "output_type": "stream",
     "text": [
      "Epoch 40 Loss 0.060542937713261254\n",
      "train accuracy is: 0.9420797863461859, test accuracy is 0.9556451612903226\n"
     ]
    },
    {
     "name": "stdout",
     "output_type": "stream",
     "text": [
      "Epoch 50 Loss 0.05630634936583917\n",
      "train accuracy is: 0.9467534635286263, test accuracy is 0.9566532258064516\n"
     ]
    },
    {
     "name": "stdout",
     "output_type": "stream",
     "text": [
      "Epoch 60 Loss 0.05316123753760445\n",
      "train accuracy is: 0.9490903021198465, test accuracy is 0.9601814516129032\n"
     ]
    },
    {
     "name": "stdout",
     "output_type": "stream",
     "text": [
      "Epoch 70 Loss 0.05071051151635554\n",
      "train accuracy is: 0.9500918043732265, test accuracy is 0.9596774193548387\n"
     ]
    },
    {
     "name": "stdout",
     "output_type": "stream",
     "text": [
      "Epoch 80 Loss 0.04873454316807155\n",
      "train accuracy is: 0.9516775162744117, test accuracy is 0.9601814516129032\n"
     ]
    },
    {
     "name": "stdout",
     "output_type": "stream",
     "text": [
      "Epoch 90 Loss 0.04709777707205906\n",
      "train accuracy is: 0.9531797696544817, test accuracy is 0.9611895161290323\n"
     ]
    },
    {
     "name": "stdout",
     "output_type": "stream",
     "text": [
      "Epoch 100 Loss 0.04571390149705218\n",
      "train accuracy is: 0.9540978133867468, test accuracy is 0.9616935483870968\n"
     ]
    },
    {
     "name": "stdout",
     "output_type": "stream",
     "text": [
      "Epoch 110 Loss 0.04452453168221664\n",
      "train accuracy is: 0.9550993156401268, test accuracy is 0.9637096774193549\n"
     ]
    },
    {
     "name": "stdout",
     "output_type": "stream",
     "text": [
      "Epoch 120 Loss 0.04348700315214165\n",
      "train accuracy is: 0.9557669838090469, test accuracy is 0.9657258064516129\n"
     ]
    },
    {
     "name": "stdout",
     "output_type": "stream",
     "text": [
      "Epoch 130 Loss 0.04257241142044052\n",
      "train accuracy is: 0.956518110499082, test accuracy is 0.9662298387096774\n"
     ]
    },
    {
     "name": "stdout",
     "output_type": "stream",
     "text": [
      "Epoch 140 Loss 0.04175785028228522\n",
      "train accuracy is: 0.957352695710232, test accuracy is 0.9667338709677419\n"
     ]
    },
    {
     "name": "stdout",
     "output_type": "stream",
     "text": [
      "Epoch 150 Loss 0.04102480890937227\n",
      "train accuracy is: 0.9578534468369221, test accuracy is 0.9672379032258065\n"
     ]
    },
    {
     "name": "stdout",
     "output_type": "stream",
     "text": [
      "Epoch 160 Loss 0.04036282507473428\n",
      "train accuracy is: 0.9587714905691871, test accuracy is 0.967741935483871\n"
     ]
    },
    {
     "name": "stdout",
     "output_type": "stream",
     "text": [
      "Epoch 170 Loss 0.039760065649925\n",
      "train accuracy is: 0.9590218661325322, test accuracy is 0.9682459677419355\n"
     ]
    },
    {
     "name": "stdout",
     "output_type": "stream",
     "text": [
      "Epoch 180 Loss 0.039207056531418115\n",
      "train accuracy is: 0.9593557002169921, test accuracy is 0.967741935483871\n"
     ]
    },
    {
     "name": "stdout",
     "output_type": "stream",
     "text": [
      "Epoch 190 Loss 0.03869823482571057\n",
      "train accuracy is: 0.9600233683859122, test accuracy is 0.9682459677419355\n"
     ]
    },
    {
     "name": "stdout",
     "output_type": "stream",
     "text": [
      "Epoch 200 Loss 0.038228598848775365\n",
      "train accuracy is: 0.9605241195126022, test accuracy is 0.967741935483871\n"
     ]
    },
    {
     "name": "stdout",
     "output_type": "stream",
     "text": [
      "Epoch 210 Loss 0.03779214858683819\n",
      "train accuracy is: 0.9610248706392923, test accuracy is 0.967741935483871\n"
     ]
    },
    {
     "name": "stdout",
     "output_type": "stream",
     "text": [
      "Epoch 220 Loss 0.03738536852562522\n",
      "train accuracy is: 0.9611917876815222, test accuracy is 0.967741935483871\n"
     ]
    },
    {
     "name": "stdout",
     "output_type": "stream",
     "text": [
      "Epoch 230 Loss 0.03700523079641101\n",
      "train accuracy is: 0.9615256217659823, test accuracy is 0.967741935483871\n"
     ]
    },
    {
     "name": "stdout",
     "output_type": "stream",
     "text": [
      "Epoch 240 Loss 0.03664863944728635\n",
      "train accuracy is: 0.9623602069771323, test accuracy is 0.9682459677419355\n"
     ]
    },
    {
     "data": {
      "text/plain": [
       "0.030511185064090365"
      ]
     },
     "execution_count": 23,
     "metadata": {},
     "output_type": "execute_result"
    }
   ],
   "source": [
    "learner2.train_loop(dl)"
   ]
  },
  {
   "cell_type": "markdown",
   "metadata": {
    "papermill": {
     "duration": 0.035056,
     "end_time": "2020-08-23T20:14:53.942153",
     "exception": false,
     "start_time": "2020-08-23T20:14:53.907097",
     "status": "completed"
    },
    "tags": []
   },
   "source": [
    "### Comparing results of NN and LR"
   ]
  },
  {
   "cell_type": "code",
   "execution_count": 24,
   "metadata": {
    "execution": {
     "iopub.execute_input": "2020-08-23T20:14:54.017205Z",
     "iopub.status.busy": "2020-08-23T20:14:54.016768Z",
     "iopub.status.idle": "2020-08-23T20:14:54.192422Z",
     "shell.execute_reply": "2020-08-23T20:14:54.192058Z"
    },
    "papermill": {
     "duration": 0.216335,
     "end_time": "2020-08-23T20:14:54.192517",
     "exception": false,
     "start_time": "2020-08-23T20:14:53.976182",
     "status": "completed"
    },
    "tags": []
   },
   "outputs": [
    {
     "data": {
      "text/plain": [
       "<matplotlib.legend.Legend at 0x7f5dc54f4828>"
      ]
     },
     "execution_count": 24,
     "metadata": {},
     "output_type": "execute_result"
    },
    {
     "data": {
      "image/png": "[encoded data removed]",
      "text/plain": [
       "<Figure size 576x360 with 1 Axes>"
      ]
     },
     "metadata": {
      "needs_background": "light"
     },
     "output_type": "display_data"
    }
   ],
   "source": [
    "plt.figure(figsize=(8,5))\n",
    "plt.plot(acc1.val_accuracies, 'g-', label = \"Val Accuracies - NN\")\n",
    "plt.plot(acc1.accuracies, 'r-', label = \"Accuracies - NN\")\n",
    "plt.plot(acc2.val_accuracies, 'b-', label = \"Val Accuracies - Logistic Reg\")\n",
    "plt.plot(acc2.accuracies, 'k-', label = \"Accuracies - Logistic Reg\")\n",
    "plt.ylim(0.8,1) ## for a more spread out view\n",
    "plt.legend()"
   ]
  },
  {
   "cell_type": "markdown",
   "metadata": {
    "papermill": {
     "duration": 0.035066,
     "end_time": "2020-08-23T20:14:54.271280",
     "exception": false,
     "start_time": "2020-08-23T20:14:54.236214",
     "status": "completed"
    },
    "tags": []
   },
   "source": [
    "### Clearly NN has a better accuracy over LR; NN is overfitting - Validation accuracy (green) has dropped below training accuracy (orange), also they are diverging. This problem is not seen in LR"
   ]
  },
  {
   "cell_type": "markdown",
   "metadata": {
    "papermill": {
     "duration": 0.037462,
     "end_time": "2020-08-23T20:14:54.348833",
     "exception": false,
     "start_time": "2020-08-23T20:14:54.311371",
     "status": "completed"
    },
    "tags": []
   },
   "source": [
    "##### Now we will be moving through the network, till the output of the second last affine where we get a 2 dimensional output. We will be plotting this 2d output and probability contours"
   ]
  },
  {
   "cell_type": "code",
   "execution_count": 25,
   "metadata": {
    "execution": {
     "iopub.execute_input": "2020-08-23T20:14:54.422644Z",
     "iopub.status.busy": "2020-08-23T20:14:54.422236Z",
     "iopub.status.idle": "2020-08-23T20:14:54.434116Z",
     "shell.execute_reply": "2020-08-23T20:14:54.433478Z"
    },
    "papermill": {
     "duration": 0.050645,
     "end_time": "2020-08-23T20:14:54.434225",
     "exception": false,
     "start_time": "2020-08-23T20:14:54.383580",
     "status": "completed"
    },
    "tags": []
   },
   "outputs": [],
   "source": [
    "model_new = Model(layers[:-2])"
   ]
  },
  {
   "cell_type": "code",
   "execution_count": 26,
   "metadata": {
    "execution": {
     "iopub.execute_input": "2020-08-23T20:14:54.509285Z",
     "iopub.status.busy": "2020-08-23T20:14:54.508881Z",
     "iopub.status.idle": "2020-08-23T20:14:54.529063Z",
     "shell.execute_reply": "2020-08-23T20:14:54.529504Z"
    },
    "papermill": {
     "duration": 0.058873,
     "end_time": "2020-08-23T20:14:54.529714",
     "exception": false,
     "start_time": "2020-08-23T20:14:54.470841",
     "status": "completed"
    },
    "tags": []
   },
   "outputs": [],
   "source": [
    "plot_testing = model_new(testing_xdata)"
   ]
  },
  {
   "cell_type": "markdown",
   "metadata": {
    "papermill": {
     "duration": 0.041137,
     "end_time": "2020-08-23T20:14:54.617202",
     "exception": false,
     "start_time": "2020-08-23T20:14:54.576065",
     "status": "completed"
    },
    "tags": []
   },
   "source": [
    "##### Plotting the scatter plot of points and color coding by class"
   ]
  },
  {
   "cell_type": "code",
   "execution_count": 27,
   "metadata": {
    "execution": {
     "iopub.execute_input": "2020-08-23T20:14:54.699833Z",
     "iopub.status.busy": "2020-08-23T20:14:54.699398Z",
     "iopub.status.idle": "2020-08-23T20:14:54.864226Z",
     "shell.execute_reply": "2020-08-23T20:14:54.864826Z"
    },
    "papermill": {
     "duration": 0.204037,
     "end_time": "2020-08-23T20:14:54.864958",
     "exception": false,
     "start_time": "2020-08-23T20:14:54.660921",
     "status": "completed"
    },
    "tags": []
   },
   "outputs": [
    {
     "data": {
      "image/png": "[encoded data removed]",
      "text/plain": [
       "<Figure size 576x504 with 1 Axes>"
      ]
     },
     "metadata": {
      "needs_background": "light"
     },
     "output_type": "display_data"
    }
   ],
   "source": [
    "plt.figure(figsize=(8,7))\n",
    "plt.scatter(plot_testing[:,0], plot_testing[:,1], alpha = 0.1, c = y_test.ravel());"
   ]
  },
  {
   "cell_type": "markdown",
   "metadata": {
    "papermill": {
     "duration": 0.038953,
     "end_time": "2020-08-23T20:14:54.971921",
     "exception": false,
     "start_time": "2020-08-23T20:14:54.932968",
     "status": "completed"
    },
    "tags": []
   },
   "source": [
    "##### Plotting probability contours"
   ]
  },
  {
   "cell_type": "code",
   "execution_count": 28,
   "metadata": {
    "execution": {
     "iopub.execute_input": "2020-08-23T20:14:55.051140Z",
     "iopub.status.busy": "2020-08-23T20:14:55.050648Z",
     "iopub.status.idle": "2020-08-23T20:14:55.061990Z",
     "shell.execute_reply": "2020-08-23T20:14:55.061520Z"
    },
    "papermill": {
     "duration": 0.053556,
     "end_time": "2020-08-23T20:14:55.062112",
     "exception": false,
     "start_time": "2020-08-23T20:14:55.008556",
     "status": "completed"
    },
    "tags": []
   },
   "outputs": [],
   "source": [
    "model_prob = Model(layers[-2:]) ## picking only last two layers to get probability. That is affine followed by sigmoid"
   ]
  },
  {
   "cell_type": "code",
   "execution_count": 29,
   "metadata": {
    "execution": {
     "iopub.execute_input": "2020-08-23T20:14:55.154722Z",
     "iopub.status.busy": "2020-08-23T20:14:55.154299Z",
     "iopub.status.idle": "2020-08-23T20:14:55.167002Z",
     "shell.execute_reply": "2020-08-23T20:14:55.167437Z"
    },
    "papermill": {
     "duration": 0.06104,
     "end_time": "2020-08-23T20:14:55.167600",
     "exception": false,
     "start_time": "2020-08-23T20:14:55.106560",
     "status": "completed"
    },
    "tags": []
   },
   "outputs": [],
   "source": [
    "xgrid = np.linspace(-4, 1, 100) ## Adjust these values based on above chart, roughly -4 to 1\n",
    "ygrid = np.linspace(-7.5, 7.5, 100) ## Adjust these values based on above chart, roughly -7.5, 7.5\n",
    "xg, yg = np.meshgrid(xgrid, ygrid)\n",
    "# xg and yg are now both 100X100, lets convert them to single arrays \n",
    "\n",
    "xg_interim = np.ravel(xg)\n",
    "yg_interim = np.ravel(yg)\n",
    "\n",
    "## xg_interim, yg_interim are now arrays of len 10000, now we will stack them and then transpose to get desired shape of n rows, 2 columns\n",
    "\n",
    "X_interim = np.vstack((xg_interim, yg_interim)) ## Please note vstack takes in a tuple\n",
    "X = X_interim.T\n",
    "\n",
    "## We want a shape of n rows and 2 columns to be able to feed this to last affine\n",
    "## This last affine takes only two columns, hence the above transformation\n",
    "probability_contour = model_prob(X).reshape(100,100) ## to make it consistent with xg, yg"
   ]
  },
  {
   "cell_type": "code",
   "execution_count": 30,
   "metadata": {
    "execution": {
     "iopub.execute_input": "2020-08-23T20:14:55.257287Z",
     "iopub.status.busy": "2020-08-23T20:14:55.256823Z",
     "iopub.status.idle": "2020-08-23T20:14:55.443471Z",
     "shell.execute_reply": "2020-08-23T20:14:55.442797Z"
    },
    "papermill": {
     "duration": 0.236055,
     "end_time": "2020-08-23T20:14:55.443673",
     "exception": false,
     "start_time": "2020-08-23T20:14:55.207618",
     "status": "completed"
    },
    "tags": []
   },
   "outputs": [
    {
     "data": {
      "image/png": "[encoded data removed]",
      "text/plain": [
       "<Figure size 576x504 with 1 Axes>"
      ]
     },
     "metadata": {
      "needs_background": "light"
     },
     "output_type": "display_data"
    }
   ],
   "source": [
    "plt.figure(figsize=(8,7))\n",
    "plt.scatter(plot_testing[:,0], plot_testing[:,1], alpha = 0.1, c = y_test.ravel())\n",
    "contours = plt.contour(xg,yg,probability_contour)\n",
    "plt.clabel(contours, inline = True );"
   ]
  }
 ],
 "metadata": {
  "kernelspec": {
   "display_name": "Python 3",
   "language": "python",
   "name": "python3"
  },
  "language_info": {
   "codemirror_mode": {
    "name": "ipython",
    "version": 3
   },
   "file_extension": ".py",
   "mimetype": "text/x-python",
   "name": "python",
   "nbconvert_exporter": "python",
   "pygments_lexer": "ipython3",
   "version": "3.6.11"
  },
  "papermill": {
   "duration": 95.278666,
   "end_time": "2020-08-23T20:14:56.789360",
   "environment_variables": {},
   "exception": null,
   "input_path": "2020-08-07-NN-new.ipynb",
   "output_path": "2020-08-07-NN-new.ipynb",
   "parameters": {},
   "start_time": "2020-08-23T20:13:21.510694",
   "version": "2.1.2"
  }
 },
 "nbformat": 4,
 "nbformat_minor": 4
}