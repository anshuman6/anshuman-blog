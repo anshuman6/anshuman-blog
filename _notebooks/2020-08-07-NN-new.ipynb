{
 "cells": [
  {
   "cell_type": "markdown",
   "metadata": {
    "papermill": {
     "duration": 0.028305,
     "end_time": "2020-08-09T20:12:07.500016",
     "exception": false,
     "start_time": "2020-08-09T20:12:07.471711",
     "status": "completed"
    },
    "tags": []
   },
   "source": [
    "# \"Building a basic Neural Network from scratch - Kudzu\"\n",
    "\n",
    "- badges: true\n",
    "- author: Anshuman Gupta"
   ]
  },
  {
   "cell_type": "markdown",
   "metadata": {
    "papermill": {
     "duration": 0.023643,
     "end_time": "2020-08-09T20:12:07.548058",
     "exception": false,
     "start_time": "2020-08-09T20:12:07.524415",
     "status": "completed"
    },
    "tags": []
   },
   "source": [
    "#### In this project, the idea is to write a classifier to differentiate between handwritten digits 3 and 8, from the MNIST database.\n",
    "\n",
    "#### I will using a custom built neural network library called Kudzu.This has been developed as a part of KTF/Foundations course of Univ.ai (www.univ.ai). The source code for Kudzu Library and and this notebook can be found on my git-hub profile : www.https://github.com/anshuman6 under the folder project-solution. Any feedback and comments are welcome. Please feel free to email me at: anshuman6@gmail.com\n",
    "\n",
    "#### 1. I will be using the MNIST database. \n",
    "\n",
    "#### 2. I will be comparing the results of the 4 layer NN to a standard logistic regression"
   ]
  },
  {
   "cell_type": "markdown",
   "metadata": {
    "papermill": {
     "duration": 0.023651,
     "end_time": "2020-08-09T20:12:07.595452",
     "exception": false,
     "start_time": "2020-08-09T20:12:07.571801",
     "status": "completed"
    },
    "tags": []
   },
   "source": [
    "##### Importing all the necessary libraries"
   ]
  },
  {
   "cell_type": "code",
   "execution_count": 1,
   "metadata": {
    "execution": {
     "iopub.execute_input": "2020-08-09T20:12:07.648617Z",
     "iopub.status.busy": "2020-08-09T20:12:07.648102Z",
     "iopub.status.idle": "2020-08-09T20:12:07.658114Z",
     "shell.execute_reply": "2020-08-09T20:12:07.658535Z"
    },
    "papermill": {
     "duration": 0.038641,
     "end_time": "2020-08-09T20:12:07.658669",
     "exception": false,
     "start_time": "2020-08-09T20:12:07.620028",
     "status": "completed"
    },
    "tags": []
   },
   "outputs": [],
   "source": [
    "%load_ext autoreload\n",
    "%autoreload 2"
   ]
  },
  {
   "cell_type": "code",
   "execution_count": 2,
   "metadata": {
    "execution": {
     "iopub.execute_input": "2020-08-09T20:12:07.710775Z",
     "iopub.status.busy": "2020-08-09T20:12:07.710271Z",
     "iopub.status.idle": "2020-08-09T20:12:08.184674Z",
     "shell.execute_reply": "2020-08-09T20:12:08.184168Z"
    },
    "papermill": {
     "duration": 0.502096,
     "end_time": "2020-08-09T20:12:08.184812",
     "exception": false,
     "start_time": "2020-08-09T20:12:07.682716",
     "status": "completed"
    },
    "tags": []
   },
   "outputs": [],
   "source": [
    "%matplotlib inline\n",
    "import numpy as np\n",
    "import matplotlib.pyplot as plt\n",
    "import pandas as pd"
   ]
  },
  {
   "cell_type": "markdown",
   "metadata": {
    "papermill": {
     "duration": 0.024108,
     "end_time": "2020-08-09T20:12:08.233559",
     "exception": false,
     "start_time": "2020-08-09T20:12:08.209451",
     "status": "completed"
    },
    "tags": []
   },
   "source": [
    "##### The following command helps us download MNIST from notebook itself. You can skip this if you already have MNIST. You can also download it via your terminal."
   ]
  },
  {
   "cell_type": "code",
   "execution_count": 3,
   "metadata": {
    "execution": {
     "iopub.execute_input": "2020-08-09T20:12:08.302113Z",
     "iopub.status.busy": "2020-08-09T20:12:08.296480Z",
     "iopub.status.idle": "2020-08-09T20:12:09.587575Z",
     "shell.execute_reply": "2020-08-09T20:12:09.588084Z"
    },
    "papermill": {
     "duration": 1.330707,
     "end_time": "2020-08-09T20:12:09.588246",
     "exception": false,
     "start_time": "2020-08-09T20:12:08.257539",
     "status": "completed"
    },
    "tags": []
   },
   "outputs": [
    {
     "name": "stdout",
     "output_type": "stream",
     "text": [
      "Collecting mnist\r\n"
     ]
    },
    {
     "name": "stdout",
     "output_type": "stream",
     "text": [
      "  Downloading mnist-0.2.2-py2.py3-none-any.whl (3.5 kB)\r\n",
      "Requirement already satisfied: numpy in /opt/hostedtoolcache/Python/3.6.11/x64/lib/python3.6/site-packages (from mnist) (1.19.1)\r\n"
     ]
    },
    {
     "name": "stdout",
     "output_type": "stream",
     "text": [
      "Installing collected packages: mnist\r\n"
     ]
    },
    {
     "name": "stdout",
     "output_type": "stream",
     "text": [
      "Successfully installed mnist-0.2.2\r\n",
      "\u001b[33mWARNING: You are using pip version 20.2; however, version 20.2.1 is available.\r\n",
      "You should consider upgrading via the '/opt/hostedtoolcache/Python/3.6.11/x64/bin/python -m pip install --upgrade pip' command.\u001b[0m\r\n"
     ]
    }
   ],
   "source": [
    "!pip install mnist # Please note, it is commented out for now, you can remove comment if you want to install it"
   ]
  },
  {
   "cell_type": "markdown",
   "metadata": {
    "papermill": {
     "duration": 0.02498,
     "end_time": "2020-08-09T20:12:09.639540",
     "exception": false,
     "start_time": "2020-08-09T20:12:09.614560",
     "status": "completed"
    },
    "tags": []
   },
   "source": [
    "#### Preparing the Data"
   ]
  },
  {
   "cell_type": "code",
   "execution_count": 4,
   "metadata": {
    "execution": {
     "iopub.execute_input": "2020-08-09T20:12:09.697694Z",
     "iopub.status.busy": "2020-08-09T20:12:09.697188Z",
     "iopub.status.idle": "2020-08-09T20:12:09.707235Z",
     "shell.execute_reply": "2020-08-09T20:12:09.706815Z"
    },
    "papermill": {
     "duration": 0.04293,
     "end_time": "2020-08-09T20:12:09.707338",
     "exception": false,
     "start_time": "2020-08-09T20:12:09.664408",
     "status": "completed"
    },
    "tags": []
   },
   "outputs": [],
   "source": [
    "import mnist"
   ]
  },
  {
   "cell_type": "code",
   "execution_count": 5,
   "metadata": {
    "execution": {
     "iopub.execute_input": "2020-08-09T20:12:09.764768Z",
     "iopub.status.busy": "2020-08-09T20:12:09.764277Z",
     "iopub.status.idle": "2020-08-09T20:12:10.846107Z",
     "shell.execute_reply": "2020-08-09T20:12:10.846574Z"
    },
    "papermill": {
     "duration": 1.113958,
     "end_time": "2020-08-09T20:12:10.846730",
     "exception": false,
     "start_time": "2020-08-09T20:12:09.732772",
     "status": "completed"
    },
    "tags": []
   },
   "outputs": [],
   "source": [
    "train_images = mnist.train_images()\n",
    "train_labels = mnist.train_labels()"
   ]
  },
  {
   "cell_type": "code",
   "execution_count": 6,
   "metadata": {
    "execution": {
     "iopub.execute_input": "2020-08-09T20:12:10.900859Z",
     "iopub.status.busy": "2020-08-09T20:12:10.900360Z",
     "iopub.status.idle": "2020-08-09T20:12:10.913645Z",
     "shell.execute_reply": "2020-08-09T20:12:10.913217Z"
    },
    "papermill": {
     "duration": 0.041244,
     "end_time": "2020-08-09T20:12:10.913756",
     "exception": false,
     "start_time": "2020-08-09T20:12:10.872512",
     "status": "completed"
    },
    "tags": []
   },
   "outputs": [
    {
     "data": {
      "text/plain": [
       "((60000, 28, 28), (60000,))"
      ]
     },
     "execution_count": 6,
     "metadata": {},
     "output_type": "execute_result"
    }
   ],
   "source": [
    "train_images.shape, train_labels.shape"
   ]
  },
  {
   "cell_type": "code",
   "execution_count": 7,
   "metadata": {
    "execution": {
     "iopub.execute_input": "2020-08-09T20:12:10.972004Z",
     "iopub.status.busy": "2020-08-09T20:12:10.971478Z",
     "iopub.status.idle": "2020-08-09T20:12:11.445345Z",
     "shell.execute_reply": "2020-08-09T20:12:11.444861Z"
    },
    "papermill": {
     "duration": 0.506441,
     "end_time": "2020-08-09T20:12:11.445470",
     "exception": false,
     "start_time": "2020-08-09T20:12:10.939029",
     "status": "completed"
    },
    "tags": []
   },
   "outputs": [],
   "source": [
    "test_images = mnist.test_images()\n",
    "test_labels = mnist.test_labels()"
   ]
  },
  {
   "cell_type": "code",
   "execution_count": 8,
   "metadata": {
    "execution": {
     "iopub.execute_input": "2020-08-09T20:12:11.500802Z",
     "iopub.status.busy": "2020-08-09T20:12:11.500311Z",
     "iopub.status.idle": "2020-08-09T20:12:11.511913Z",
     "shell.execute_reply": "2020-08-09T20:12:11.511469Z"
    },
    "papermill": {
     "duration": 0.041016,
     "end_time": "2020-08-09T20:12:11.512018",
     "exception": false,
     "start_time": "2020-08-09T20:12:11.471002",
     "status": "completed"
    },
    "tags": []
   },
   "outputs": [
    {
     "data": {
      "text/plain": [
       "((10000, 28, 28), (10000,))"
      ]
     },
     "execution_count": 8,
     "metadata": {},
     "output_type": "execute_result"
    }
   ],
   "source": [
    "test_images.shape, test_labels.shape"
   ]
  },
  {
   "cell_type": "code",
   "execution_count": 9,
   "metadata": {
    "execution": {
     "iopub.execute_input": "2020-08-09T20:12:11.591394Z",
     "iopub.status.busy": "2020-08-09T20:12:11.578658Z",
     "iopub.status.idle": "2020-08-09T20:12:11.710687Z",
     "shell.execute_reply": "2020-08-09T20:12:11.710188Z"
    },
    "papermill": {
     "duration": 0.173469,
     "end_time": "2020-08-09T20:12:11.710801",
     "exception": false,
     "start_time": "2020-08-09T20:12:11.537332",
     "status": "completed"
    },
    "tags": []
   },
   "outputs": [
    {
     "name": "stdout",
     "output_type": "stream",
     "text": [
      "2\n"
     ]
    },
    {
     "data": {
      "text/plain": [
       "<matplotlib.image.AxesImage at 0x7f7e15e3fb70>"
      ]
     },
     "execution_count": 9,
     "metadata": {},
     "output_type": "execute_result"
    },
    {
     "data": {
      "image/png": "[encoded data removed]",
      "text/plain": [
       "<Figure size 432x288 with 1 Axes>"
      ]
     },
     "metadata": {
      "needs_background": "light"
     },
     "output_type": "display_data"
    }
   ],
   "source": [
    "image_index = 7776 # You may select anything up to 60,000\n",
    "print(train_labels[image_index]) \n",
    "plt.imshow(train_images[image_index], cmap='Greys')"
   ]
  },
  {
   "cell_type": "markdown",
   "metadata": {
    "papermill": {
     "duration": 0.026518,
     "end_time": "2020-08-09T20:12:11.764468",
     "exception": false,
     "start_time": "2020-08-09T20:12:11.737950",
     "status": "completed"
    },
    "tags": []
   },
   "source": [
    "## Filter data to get 3 and 8 out"
   ]
  },
  {
   "cell_type": "code",
   "execution_count": 10,
   "metadata": {
    "execution": {
     "iopub.execute_input": "2020-08-09T20:12:11.821681Z",
     "iopub.status.busy": "2020-08-09T20:12:11.821167Z",
     "iopub.status.idle": "2020-08-09T20:12:11.837904Z",
     "shell.execute_reply": "2020-08-09T20:12:11.837476Z"
    },
    "papermill": {
     "duration": 0.047085,
     "end_time": "2020-08-09T20:12:11.838018",
     "exception": false,
     "start_time": "2020-08-09T20:12:11.790933",
     "status": "completed"
    },
    "tags": []
   },
   "outputs": [],
   "source": [
    "train_filter = np.where((train_labels == 3 ) | (train_labels == 8))\n",
    "test_filter = np.where((test_labels == 3) | (test_labels == 8))\n",
    "X_train, y_train = train_images[train_filter], train_labels[train_filter]\n",
    "X_test, y_test = test_images[test_filter], test_labels[test_filter]"
   ]
  },
  {
   "cell_type": "markdown",
   "metadata": {
    "papermill": {
     "duration": 0.026293,
     "end_time": "2020-08-09T20:12:11.890922",
     "exception": false,
     "start_time": "2020-08-09T20:12:11.864629",
     "status": "completed"
    },
    "tags": []
   },
   "source": [
    "##### We normalize the pizel values in the 0 to 1 range"
   ]
  },
  {
   "cell_type": "code",
   "execution_count": 11,
   "metadata": {
    "execution": {
     "iopub.execute_input": "2020-08-09T20:12:11.964363Z",
     "iopub.status.busy": "2020-08-09T20:12:11.956464Z",
     "iopub.status.idle": "2020-08-09T20:12:11.997109Z",
     "shell.execute_reply": "2020-08-09T20:12:11.996571Z"
    },
    "papermill": {
     "duration": 0.07996,
     "end_time": "2020-08-09T20:12:11.997240",
     "exception": false,
     "start_time": "2020-08-09T20:12:11.917280",
     "status": "completed"
    },
    "tags": []
   },
   "outputs": [],
   "source": [
    "X_train = X_train/255.\n",
    "X_test = X_test/255."
   ]
  },
  {
   "cell_type": "markdown",
   "metadata": {
    "papermill": {
     "duration": 0.026773,
     "end_time": "2020-08-09T20:12:12.051740",
     "exception": false,
     "start_time": "2020-08-09T20:12:12.024967",
     "status": "completed"
    },
    "tags": []
   },
   "source": [
    "And setup the labels as 1 (when the digit is 3) and 0 (when the digit is 8)"
   ]
  },
  {
   "cell_type": "code",
   "execution_count": 12,
   "metadata": {
    "execution": {
     "iopub.execute_input": "2020-08-09T20:12:12.112909Z",
     "iopub.status.busy": "2020-08-09T20:12:12.112403Z",
     "iopub.status.idle": "2020-08-09T20:12:12.121648Z",
     "shell.execute_reply": "2020-08-09T20:12:12.122052Z"
    },
    "papermill": {
     "duration": 0.044,
     "end_time": "2020-08-09T20:12:12.122187",
     "exception": false,
     "start_time": "2020-08-09T20:12:12.078187",
     "status": "completed"
    },
    "tags": []
   },
   "outputs": [],
   "source": [
    "y_train = 1*(y_train==3)\n",
    "y_test = 1*(y_test==3)"
   ]
  },
  {
   "cell_type": "code",
   "execution_count": 13,
   "metadata": {
    "execution": {
     "iopub.execute_input": "2020-08-09T20:12:12.191689Z",
     "iopub.status.busy": "2020-08-09T20:12:12.188294Z",
     "iopub.status.idle": "2020-08-09T20:12:12.194142Z",
     "shell.execute_reply": "2020-08-09T20:12:12.194521Z"
    },
    "papermill": {
     "duration": 0.046042,
     "end_time": "2020-08-09T20:12:12.194648",
     "exception": false,
     "start_time": "2020-08-09T20:12:12.148606",
     "status": "completed"
    },
    "tags": []
   },
   "outputs": [
    {
     "data": {
      "text/plain": [
       "((11982, 28, 28), (1984, 28, 28))"
      ]
     },
     "execution_count": 13,
     "metadata": {},
     "output_type": "execute_result"
    }
   ],
   "source": [
    "X_train.shape, X_test.shape"
   ]
  },
  {
   "cell_type": "markdown",
   "metadata": {
    "papermill": {
     "duration": 0.026729,
     "end_time": "2020-08-09T20:12:12.248069",
     "exception": false,
     "start_time": "2020-08-09T20:12:12.221340",
     "status": "completed"
    },
    "tags": []
   },
   "source": [
    "##### We reshape the data to flatten the image pixels into a set of features or co-variates:"
   ]
  },
  {
   "cell_type": "code",
   "execution_count": 14,
   "metadata": {
    "execution": {
     "iopub.execute_input": "2020-08-09T20:12:12.305597Z",
     "iopub.status.busy": "2020-08-09T20:12:12.305087Z",
     "iopub.status.idle": "2020-08-09T20:12:12.318026Z",
     "shell.execute_reply": "2020-08-09T20:12:12.317596Z"
    },
    "papermill": {
     "duration": 0.043275,
     "end_time": "2020-08-09T20:12:12.318141",
     "exception": false,
     "start_time": "2020-08-09T20:12:12.274866",
     "status": "completed"
    },
    "tags": []
   },
   "outputs": [
    {
     "data": {
      "text/plain": [
       "((11982, 784), (1984, 784))"
      ]
     },
     "execution_count": 14,
     "metadata": {},
     "output_type": "execute_result"
    }
   ],
   "source": [
    "X_train = X_train.reshape(X_train.shape[0], -1)\n",
    "X_test = X_test.reshape(X_test.shape[0], -1)\n",
    "X_train.shape, X_test.shape"
   ]
  },
  {
   "cell_type": "markdown",
   "metadata": {
    "papermill": {
     "duration": 0.02709,
     "end_time": "2020-08-09T20:12:12.372416",
     "exception": false,
     "start_time": "2020-08-09T20:12:12.345326",
     "status": "completed"
    },
    "tags": []
   },
   "source": [
    "##### Importing Kudzu library and its functionality"
   ]
  },
  {
   "cell_type": "code",
   "execution_count": 15,
   "metadata": {
    "execution": {
     "iopub.execute_input": "2020-08-09T20:12:12.434320Z",
     "iopub.status.busy": "2020-08-09T20:12:12.433817Z",
     "iopub.status.idle": "2020-08-09T20:12:12.449178Z",
     "shell.execute_reply": "2020-08-09T20:12:12.448770Z"
    },
    "papermill": {
     "duration": 0.049756,
     "end_time": "2020-08-09T20:12:12.449290",
     "exception": false,
     "start_time": "2020-08-09T20:12:12.399534",
     "status": "completed"
    },
    "tags": []
   },
   "outputs": [],
   "source": [
    "from kudzu.data import Data, Dataloader, Sampler\n",
    "from kudzu.callbacks import AccCallback\n",
    "from kudzu.loss import MSE\n",
    "from kudzu.layer import Affine, Sigmoid\n",
    "from kudzu.model import Model\n",
    "from kudzu.optim import GD\n",
    "from kudzu.train import Learner\n",
    "from kudzu.callbacks import ClfCallback\n",
    "from kudzu.layer import Sigmoid\n",
    "from kudzu.layer import Relu"
   ]
  },
  {
   "cell_type": "markdown",
   "metadata": {
    "papermill": {
     "duration": 0.026901,
     "end_time": "2020-08-09T20:12:12.503007",
     "exception": false,
     "start_time": "2020-08-09T20:12:12.476106",
     "status": "completed"
    },
    "tags": []
   },
   "source": [
    "##### We are creating a class, just so that we can use it to store our parameters for us"
   ]
  },
  {
   "cell_type": "code",
   "execution_count": 16,
   "metadata": {
    "execution": {
     "iopub.execute_input": "2020-08-09T20:12:12.561658Z",
     "iopub.status.busy": "2020-08-09T20:12:12.561156Z",
     "iopub.status.idle": "2020-08-09T20:12:12.570969Z",
     "shell.execute_reply": "2020-08-09T20:12:12.571349Z"
    },
    "papermill": {
     "duration": 0.041323,
     "end_time": "2020-08-09T20:12:12.571470",
     "exception": false,
     "start_time": "2020-08-09T20:12:12.530147",
     "status": "completed"
    },
    "tags": []
   },
   "outputs": [],
   "source": [
    "class Config:\n",
    "    pass\n",
    "config = Config()\n",
    "config.lr = 0.001\n",
    "config.num_epochs = 250\n",
    "config.bs = 50"
   ]
  },
  {
   "cell_type": "markdown",
   "metadata": {
    "papermill": {
     "duration": 0.026906,
     "end_time": "2020-08-09T20:12:12.625217",
     "exception": false,
     "start_time": "2020-08-09T20:12:12.598311",
     "status": "completed"
    },
    "tags": []
   },
   "source": [
    "##### Initializing Data"
   ]
  },
  {
   "cell_type": "code",
   "execution_count": 17,
   "metadata": {
    "execution": {
     "iopub.execute_input": "2020-08-09T20:12:12.683133Z",
     "iopub.status.busy": "2020-08-09T20:12:12.682630Z",
     "iopub.status.idle": "2020-08-09T20:12:12.694078Z",
     "shell.execute_reply": "2020-08-09T20:12:12.693675Z"
    },
    "papermill": {
     "duration": 0.041838,
     "end_time": "2020-08-09T20:12:12.694184",
     "exception": false,
     "start_time": "2020-08-09T20:12:12.652346",
     "status": "completed"
    },
    "tags": []
   },
   "outputs": [],
   "source": [
    "data = Data(X_train, y_train.reshape(-1,1))\n",
    "loss = MSE()\n",
    "opt = GD(config.lr)\n",
    "sampler = Sampler(data, config.bs, shuffle=True)\n",
    "dl = Dataloader(data, sampler)"
   ]
  },
  {
   "cell_type": "markdown",
   "metadata": {
    "papermill": {
     "duration": 0.027449,
     "end_time": "2020-08-09T20:12:12.748617",
     "exception": false,
     "start_time": "2020-08-09T20:12:12.721168",
     "status": "completed"
    },
    "tags": []
   },
   "source": [
    "##### Constructing 2 different layers, one for NN and one only for logistic regression."
   ]
  },
  {
   "cell_type": "markdown",
   "metadata": {
    "papermill": {
     "duration": 0.026987,
     "end_time": "2020-08-09T20:12:12.802617",
     "exception": false,
     "start_time": "2020-08-09T20:12:12.775630",
     "status": "completed"
    },
    "tags": []
   },
   "source": [
    "##### Creating containers for data to be passed, to calculate accuracies"
   ]
  },
  {
   "cell_type": "code",
   "execution_count": 18,
   "metadata": {
    "execution": {
     "iopub.execute_input": "2020-08-09T20:12:12.863179Z",
     "iopub.status.busy": "2020-08-09T20:12:12.861353Z",
     "iopub.status.idle": "2020-08-09T20:12:12.876590Z",
     "shell.execute_reply": "2020-08-09T20:12:12.876189Z"
    },
    "papermill": {
     "duration": 0.047066,
     "end_time": "2020-08-09T20:12:12.876696",
     "exception": false,
     "start_time": "2020-08-09T20:12:12.829630",
     "status": "completed"
    },
    "tags": []
   },
   "outputs": [],
   "source": [
    "training_xdata = X_train\n",
    "testing_xdata = X_test\n",
    "training_ydata = y_train.reshape(-1,1)\n",
    "testing_ydata = y_test.reshape(-1,1)"
   ]
  },
  {
   "cell_type": "markdown",
   "metadata": {
    "papermill": {
     "duration": 0.026804,
     "end_time": "2020-08-09T20:12:12.930432",
     "exception": false,
     "start_time": "2020-08-09T20:12:12.903628",
     "status": "completed"
    },
    "tags": []
   },
   "source": [
    "##### Initializing models and Running training loop: "
   ]
  },
  {
   "cell_type": "code",
   "execution_count": 19,
   "metadata": {
    "execution": {
     "iopub.execute_input": "2020-08-09T20:12:13.006094Z",
     "iopub.status.busy": "2020-08-09T20:12:13.000357Z",
     "iopub.status.idle": "2020-08-09T20:12:13.008305Z",
     "shell.execute_reply": "2020-08-09T20:12:13.007880Z"
    },
    "papermill": {
     "duration": 0.050956,
     "end_time": "2020-08-09T20:12:13.008413",
     "exception": false,
     "start_time": "2020-08-09T20:12:12.957457",
     "status": "completed"
    },
    "tags": []
   },
   "outputs": [],
   "source": [
    "layers = [Affine(\"first\", 784, 100), Relu(\"first\"), Affine(\"second\", 100, 100), Relu(\"second\"), Affine(\"third\", 100, 2), Affine(\"final\", 2, 1), Sigmoid(\"final\")]\n",
    "\n",
    "model_neural = Model(layers)\n",
    "model_logistic = Model([Affine(\"logits\", 784, 1), Sigmoid(\"sigmoid\")])"
   ]
  },
  {
   "cell_type": "code",
   "execution_count": 20,
   "metadata": {
    "execution": {
     "iopub.execute_input": "2020-08-09T20:12:13.079430Z",
     "iopub.status.busy": "2020-08-09T20:12:13.078943Z",
     "iopub.status.idle": "2020-08-09T20:12:13.080902Z",
     "shell.execute_reply": "2020-08-09T20:12:13.081278Z"
    },
    "papermill": {
     "duration": 0.046057,
     "end_time": "2020-08-09T20:12:13.081395",
     "exception": false,
     "start_time": "2020-08-09T20:12:13.035338",
     "status": "completed"
    },
    "tags": []
   },
   "outputs": [],
   "source": [
    "learner1 = Learner(loss, model_neural, opt, config.num_epochs)\n",
    "acc1 = ClfCallback(learner1, config.bs, training_xdata , testing_xdata, training_ydata, testing_ydata)\n",
    "learner1.set_callbacks([acc1])"
   ]
  },
  {
   "cell_type": "code",
   "execution_count": 21,
   "metadata": {
    "execution": {
     "iopub.execute_input": "2020-08-09T20:12:13.140334Z",
     "iopub.status.busy": "2020-08-09T20:12:13.139831Z",
     "iopub.status.idle": "2020-08-09T20:13:23.455548Z",
     "shell.execute_reply": "2020-08-09T20:13:23.456069Z"
    },
    "papermill": {
     "duration": 70.348,
     "end_time": "2020-08-09T20:13:23.456205",
     "exception": false,
     "start_time": "2020-08-09T20:12:13.108205",
     "status": "completed"
    },
    "tags": []
   },
   "outputs": [
    {
     "name": "stdout",
     "output_type": "stream",
     "text": [
      "Epoch 0 Loss 0.25236291117140286\n",
      "train accuracy is: 0.5844600233683859, test accuracy is 0.5776209677419355\n"
     ]
    },
    {
     "name": "stdout",
     "output_type": "stream",
     "text": [
      "Epoch 10 Loss 0.10775742238029529\n",
      "train accuracy is: 0.9121181772658988, test accuracy is 0.9178427419354839\n"
     ]
    },
    {
     "name": "stdout",
     "output_type": "stream",
     "text": [
      "Epoch 20 Loss 0.05989860200181366\n",
      "train accuracy is: 0.9399933233183108, test accuracy is 0.9516129032258065\n"
     ]
    },
    {
     "name": "stdout",
     "output_type": "stream",
     "text": [
      "Epoch 30 Loss 0.04530119721084728\n",
      "train accuracy is: 0.9515940577532966, test accuracy is 0.9586693548387096\n"
     ]
    },
    {
     "name": "stdout",
     "output_type": "stream",
     "text": [
      "Epoch 40 Loss 0.038748506757037726\n",
      "train accuracy is: 0.957269237189117, test accuracy is 0.9606854838709677\n"
     ]
    },
    {
     "name": "stdout",
     "output_type": "stream",
     "text": [
      "Epoch 50 Loss 0.03501493240392062\n",
      "train accuracy is: 0.9607744950759473, test accuracy is 0.9632056451612904\n"
     ]
    },
    {
     "name": "stdout",
     "output_type": "stream",
     "text": [
      "Epoch 60 Loss 0.03256888711806124\n",
      "train accuracy is: 0.9631113336671674, test accuracy is 0.9652217741935484\n"
     ]
    },
    {
     "name": "stdout",
     "output_type": "stream",
     "text": [
      "Epoch 70 Loss 0.030775058535088964\n",
      "train accuracy is: 0.9646970455683526, test accuracy is 0.9657258064516129\n"
     ]
    },
    {
     "name": "stdout",
     "output_type": "stream",
     "text": [
      "Epoch 80 Loss 0.02937841492902537\n",
      "train accuracy is: 0.9661992989484226, test accuracy is 0.9667338709677419\n"
     ]
    },
    {
     "name": "stdout",
     "output_type": "stream",
     "text": [
      "Epoch 90 Loss 0.02823078959883082\n",
      "train accuracy is: 0.9674511767651477, test accuracy is 0.9672379032258065\n"
     ]
    },
    {
     "name": "stdout",
     "output_type": "stream",
     "text": [
      "Epoch 100 Loss 0.027266586033055727\n",
      "train accuracy is: 0.9682857619762978, test accuracy is 0.9682459677419355\n"
     ]
    },
    {
     "name": "stdout",
     "output_type": "stream",
     "text": [
      "Epoch 110 Loss 0.026436286621081728\n",
      "train accuracy is: 0.9689534301452178, test accuracy is 0.96875\n"
     ]
    },
    {
     "name": "stdout",
     "output_type": "stream",
     "text": [
      "Epoch 120 Loss 0.025691357465542516\n",
      "train accuracy is: 0.9697045568352529, test accuracy is 0.96875\n"
     ]
    },
    {
     "name": "stdout",
     "output_type": "stream",
     "text": [
      "Epoch 130 Loss 0.025027888265959003\n",
      "train accuracy is: 0.9704556835252879, test accuracy is 0.9692540322580645\n"
     ]
    },
    {
     "name": "stdout",
     "output_type": "stream",
     "text": [
      "Epoch 140 Loss 0.02442353439199086\n",
      "train accuracy is: 0.971290268736438, test accuracy is 0.9692540322580645\n"
     ]
    },
    {
     "name": "stdout",
     "output_type": "stream",
     "text": [
      "Epoch 150 Loss 0.023864742820641452\n",
      "train accuracy is: 0.971874478384243, test accuracy is 0.9692540322580645\n"
     ]
    },
    {
     "name": "stdout",
     "output_type": "stream",
     "text": [
      "Epoch 160 Loss 0.02334736938344829\n",
      "train accuracy is: 0.9725421465531631, test accuracy is 0.9692540322580645\n"
     ]
    },
    {
     "name": "stdout",
     "output_type": "stream",
     "text": [
      "Epoch 170 Loss 0.022857763857883632\n",
      "train accuracy is: 0.9736271073276581, test accuracy is 0.9702620967741935\n"
     ]
    },
    {
     "name": "stdout",
     "output_type": "stream",
     "text": [
      "Epoch 180 Loss 0.022393818670925155\n",
      "train accuracy is: 0.9740443999332332, test accuracy is 0.9702620967741935\n"
     ]
    },
    {
     "name": "stdout",
     "output_type": "stream",
     "text": [
      "Epoch 190 Loss 0.021949479307841132\n",
      "train accuracy is: 0.9747120681021533, test accuracy is 0.9702620967741935\n"
     ]
    },
    {
     "name": "stdout",
     "output_type": "stream",
     "text": [
      "Epoch 200 Loss 0.02152934922583998\n",
      "train accuracy is: 0.9751293607077283, test accuracy is 0.969758064516129\n"
     ]
    },
    {
     "name": "stdout",
     "output_type": "stream",
     "text": [
      "Epoch 210 Loss 0.021124744177159007\n",
      "train accuracy is: 0.9754631947921882, test accuracy is 0.969758064516129\n"
     ]
    },
    {
     "name": "stdout",
     "output_type": "stream",
     "text": [
      "Epoch 220 Loss 0.020727115046338333\n",
      "train accuracy is: 0.9760474044399933, test accuracy is 0.9702620967741935\n"
     ]
    },
    {
     "name": "stdout",
     "output_type": "stream",
     "text": [
      "Epoch 230 Loss 0.020345974682173678\n",
      "train accuracy is: 0.9763812385244534, test accuracy is 0.9702620967741935\n"
     ]
    },
    {
     "name": "stdout",
     "output_type": "stream",
     "text": [
      "Epoch 240 Loss 0.019966253039842414\n",
      "train accuracy is: 0.9771323652144884, test accuracy is 0.9702620967741935\n"
     ]
    },
    {
     "data": {
      "text/plain": [
       "0.01580180307635636"
      ]
     },
     "execution_count": 21,
     "metadata": {},
     "output_type": "execute_result"
    }
   ],
   "source": [
    "learner1.train_loop(dl)"
   ]
  },
  {
   "cell_type": "markdown",
   "metadata": {
    "papermill": {
     "duration": 0.033753,
     "end_time": "2020-08-09T20:13:23.524150",
     "exception": false,
     "start_time": "2020-08-09T20:13:23.490397",
     "status": "completed"
    },
    "tags": []
   },
   "source": [
    "##### Now running only the logistic regression based classification to compare results with NN"
   ]
  },
  {
   "cell_type": "code",
   "execution_count": 22,
   "metadata": {
    "execution": {
     "iopub.execute_input": "2020-08-09T20:13:23.597127Z",
     "iopub.status.busy": "2020-08-09T20:13:23.596202Z",
     "iopub.status.idle": "2020-08-09T20:13:23.607728Z",
     "shell.execute_reply": "2020-08-09T20:13:23.607262Z"
    },
    "papermill": {
     "duration": 0.049738,
     "end_time": "2020-08-09T20:13:23.607836",
     "exception": false,
     "start_time": "2020-08-09T20:13:23.558098",
     "status": "completed"
    },
    "tags": []
   },
   "outputs": [],
   "source": [
    "learner2 = Learner(loss, model_logistic, opt, config.num_epochs)\n",
    "acc2 = ClfCallback(learner2, config.bs, training_xdata , testing_xdata, training_ydata, testing_ydata)\n",
    "learner2.set_callbacks([acc2])"
   ]
  },
  {
   "cell_type": "code",
   "execution_count": 23,
   "metadata": {
    "execution": {
     "iopub.execute_input": "2020-08-09T20:13:23.691642Z",
     "iopub.status.busy": "2020-08-09T20:13:23.690952Z",
     "iopub.status.idle": "2020-08-09T20:13:36.390082Z",
     "shell.execute_reply": "2020-08-09T20:13:36.390765Z"
    },
    "papermill": {
     "duration": 12.749654,
     "end_time": "2020-08-09T20:13:36.390902",
     "exception": false,
     "start_time": "2020-08-09T20:13:23.641248",
     "status": "completed"
    },
    "tags": []
   },
   "outputs": [
    {
     "name": "stdout",
     "output_type": "stream",
     "text": [
      "Epoch 0 Loss 0.2624919310902977\n",
      "train accuracy is: 0.6231847771657486, test accuracy is 0.6376008064516129\n"
     ]
    },
    {
     "name": "stdout",
     "output_type": "stream",
     "text": [
      "Epoch 10 Loss 0.10681849517621166\n",
      "train accuracy is: 0.9043565348022033, test accuracy is 0.9198588709677419\n"
     ]
    },
    {
     "name": "stdout",
     "output_type": "stream",
     "text": [
      "Epoch 20 Loss 0.08147389317564886\n",
      "train accuracy is: 0.9229677850108496, test accuracy is 0.9390120967741935\n"
     ]
    },
    {
     "name": "stdout",
     "output_type": "stream",
     "text": [
      "Epoch 30 Loss 0.06991964004826849\n",
      "train accuracy is: 0.9339843097980304, test accuracy is 0.9475806451612904\n"
     ]
    },
    {
     "name": "stdout",
     "output_type": "stream",
     "text": [
      "Epoch 40 Loss 0.06299828483941988\n",
      "train accuracy is: 0.9402436988816558, test accuracy is 0.9516129032258065\n"
     ]
    },
    {
     "name": "stdout",
     "output_type": "stream",
     "text": [
      "Epoch 50 Loss 0.05828724447861589\n",
      "train accuracy is: 0.9435820397262561, test accuracy is 0.953125\n"
     ]
    },
    {
     "name": "stdout",
     "output_type": "stream",
     "text": [
      "Epoch 60 Loss 0.05483097662475875\n",
      "train accuracy is: 0.9464196294441662, test accuracy is 0.9576612903225806\n"
     ]
    },
    {
     "name": "stdout",
     "output_type": "stream",
     "text": [
      "Epoch 70 Loss 0.05216619273614046\n",
      "train accuracy is: 0.9477549657820064, test accuracy is 0.9601814516129032\n"
     ]
    },
    {
     "name": "stdout",
     "output_type": "stream",
     "text": [
      "Epoch 80 Loss 0.05003213255451342\n",
      "train accuracy is: 0.9490068435987314, test accuracy is 0.9606854838709677\n"
     ]
    },
    {
     "name": "stdout",
     "output_type": "stream",
     "text": [
      "Epoch 90 Loss 0.04827627923741061\n",
      "train accuracy is: 0.9511767651477215, test accuracy is 0.9601814516129032\n"
     ]
    },
    {
     "name": "stdout",
     "output_type": "stream",
     "text": [
      "Epoch 100 Loss 0.046798480339596625\n",
      "train accuracy is: 0.9523451844433317, test accuracy is 0.9611895161290323\n"
     ]
    },
    {
     "name": "stdout",
     "output_type": "stream",
     "text": [
      "Epoch 110 Loss 0.045532393633185814\n",
      "train accuracy is: 0.9532632281755967, test accuracy is 0.9606854838709677\n"
     ]
    },
    {
     "name": "stdout",
     "output_type": "stream",
     "text": [
      "Epoch 120 Loss 0.0444330128209328\n",
      "train accuracy is: 0.9543481889500918, test accuracy is 0.9611895161290323\n"
     ]
    },
    {
     "name": "stdout",
     "output_type": "stream",
     "text": [
      "Epoch 130 Loss 0.04346657513517297\n",
      "train accuracy is: 0.9555166082457018, test accuracy is 0.9627016129032258\n"
     ]
    },
    {
     "name": "stdout",
     "output_type": "stream",
     "text": [
      "Epoch 140 Loss 0.04260687450868966\n",
      "train accuracy is: 0.9557669838090469, test accuracy is 0.9632056451612904\n"
     ]
    },
    {
     "name": "stdout",
     "output_type": "stream",
     "text": [
      "Epoch 150 Loss 0.0418360572645028\n",
      "train accuracy is: 0.9559339008512769, test accuracy is 0.9642137096774194\n"
     ]
    },
    {
     "name": "stdout",
     "output_type": "stream",
     "text": [
      "Epoch 160 Loss 0.041140498935116385\n",
      "train accuracy is: 0.956851944583542, test accuracy is 0.9652217741935484\n"
     ]
    },
    {
     "name": "stdout",
     "output_type": "stream",
     "text": [
      "Epoch 170 Loss 0.04050751960048498\n",
      "train accuracy is: 0.957352695710232, test accuracy is 0.9647177419354839\n"
     ]
    },
    {
     "name": "stdout",
     "output_type": "stream",
     "text": [
      "Epoch 180 Loss 0.03992876312169526\n",
      "train accuracy is: 0.9577699883158071, test accuracy is 0.9652217741935484\n"
     ]
    },
    {
     "name": "stdout",
     "output_type": "stream",
     "text": [
      "Epoch 190 Loss 0.03939672448846733\n",
      "train accuracy is: 0.958103822400267, test accuracy is 0.9657258064516129\n"
     ]
    },
    {
     "name": "stdout",
     "output_type": "stream",
     "text": [
      "Epoch 200 Loss 0.038905135816734826\n",
      "train accuracy is: 0.9588549490903021, test accuracy is 0.9657258064516129\n"
     ]
    },
    {
     "name": "stdout",
     "output_type": "stream",
     "text": [
      "Epoch 210 Loss 0.03844901651162522\n",
      "train accuracy is: 0.9588549490903021, test accuracy is 0.9657258064516129\n"
     ]
    },
    {
     "name": "stdout",
     "output_type": "stream",
     "text": [
      "Epoch 220 Loss 0.03802339971838578\n",
      "train accuracy is: 0.9594391587381071, test accuracy is 0.9657258064516129\n"
     ]
    },
    {
     "name": "stdout",
     "output_type": "stream",
     "text": [
      "Epoch 230 Loss 0.03762761362531851\n",
      "train accuracy is: 0.9598564513436821, test accuracy is 0.9657258064516129\n"
     ]
    },
    {
     "name": "stdout",
     "output_type": "stream",
     "text": [
      "Epoch 240 Loss 0.037255088333711654\n",
      "train accuracy is: 0.9600233683859122, test accuracy is 0.9667338709677419\n"
     ]
    },
    {
     "data": {
      "text/plain": [
       "0.06725529264580997"
      ]
     },
     "execution_count": 23,
     "metadata": {},
     "output_type": "execute_result"
    }
   ],
   "source": [
    "learner2.train_loop(dl)"
   ]
  },
  {
   "cell_type": "markdown",
   "metadata": {
    "papermill": {
     "duration": 0.040117,
     "end_time": "2020-08-09T20:13:36.471902",
     "exception": false,
     "start_time": "2020-08-09T20:13:36.431785",
     "status": "completed"
    },
    "tags": []
   },
   "source": [
    "### Comparing results of NN and LR"
   ]
  },
  {
   "cell_type": "code",
   "execution_count": 24,
   "metadata": {
    "execution": {
     "iopub.execute_input": "2020-08-09T20:13:36.558785Z",
     "iopub.status.busy": "2020-08-09T20:13:36.557410Z",
     "iopub.status.idle": "2020-08-09T20:13:36.750658Z",
     "shell.execute_reply": "2020-08-09T20:13:36.750190Z"
    },
    "papermill": {
     "duration": 0.238606,
     "end_time": "2020-08-09T20:13:36.750774",
     "exception": false,
     "start_time": "2020-08-09T20:13:36.512168",
     "status": "completed"
    },
    "tags": []
   },
   "outputs": [
    {
     "data": {
      "text/plain": [
       "<matplotlib.legend.Legend at 0x7f7e15a2b198>"
      ]
     },
     "execution_count": 24,
     "metadata": {},
     "output_type": "execute_result"
    },
    {
     "data": {
      "image/png": "[encoded data removed]",
      "text/plain": [
       "<Figure size 576x360 with 1 Axes>"
      ]
     },
     "metadata": {
      "needs_background": "light"
     },
     "output_type": "display_data"
    }
   ],
   "source": [
    "plt.figure(figsize=(8,5))\n",
    "plt.plot(acc1.val_accuracies, 'g-', label = \"Val Accuracies - NN\")\n",
    "plt.plot(acc1.accuracies, 'r-', label = \"Accuracies - NN\")\n",
    "plt.plot(acc2.val_accuracies, 'b-', label = \"Val Accuracies - Logistic Reg\")\n",
    "plt.plot(acc2.accuracies, 'k-', label = \"Accuracies - Logistic Reg\")\n",
    "plt.ylim(0.8,1) ## for a more spread out view\n",
    "plt.legend()"
   ]
  },
  {
   "cell_type": "markdown",
   "metadata": {
    "papermill": {
     "duration": 0.041155,
     "end_time": "2020-08-09T20:13:36.834043",
     "exception": false,
     "start_time": "2020-08-09T20:13:36.792888",
     "status": "completed"
    },
    "tags": []
   },
   "source": [
    "### Clearly NN has a better accuracy over LR; NN is overfitting - Validation accuracy (green) has dropped below training accuracy (orange), also they are diverging. This problem is not seen in LR"
   ]
  },
  {
   "cell_type": "markdown",
   "metadata": {
    "papermill": {
     "duration": 0.040999,
     "end_time": "2020-08-09T20:13:36.916156",
     "exception": false,
     "start_time": "2020-08-09T20:13:36.875157",
     "status": "completed"
    },
    "tags": []
   },
   "source": [
    "##### Now we will be moving through the network, till the output of the second last affine where we get a 2 dimensional output. We will be plotting this 2d output and probability contours"
   ]
  },
  {
   "cell_type": "code",
   "execution_count": 25,
   "metadata": {
    "execution": {
     "iopub.execute_input": "2020-08-09T20:13:37.010294Z",
     "iopub.status.busy": "2020-08-09T20:13:37.009782Z",
     "iopub.status.idle": "2020-08-09T20:13:37.016916Z",
     "shell.execute_reply": "2020-08-09T20:13:37.016494Z"
    },
    "papermill": {
     "duration": 0.059691,
     "end_time": "2020-08-09T20:13:37.017020",
     "exception": false,
     "start_time": "2020-08-09T20:13:36.957329",
     "status": "completed"
    },
    "tags": []
   },
   "outputs": [],
   "source": [
    "model_new = Model(layers[:-2])"
   ]
  },
  {
   "cell_type": "code",
   "execution_count": 26,
   "metadata": {
    "execution": {
     "iopub.execute_input": "2020-08-09T20:13:37.112946Z",
     "iopub.status.busy": "2020-08-09T20:13:37.101625Z",
     "iopub.status.idle": "2020-08-09T20:13:37.127978Z",
     "shell.execute_reply": "2020-08-09T20:13:37.128379Z"
    },
    "papermill": {
     "duration": 0.0702,
     "end_time": "2020-08-09T20:13:37.128498",
     "exception": false,
     "start_time": "2020-08-09T20:13:37.058298",
     "status": "completed"
    },
    "tags": []
   },
   "outputs": [],
   "source": [
    "plot_testing = model_new(testing_xdata)"
   ]
  },
  {
   "cell_type": "markdown",
   "metadata": {
    "papermill": {
     "duration": 0.042246,
     "end_time": "2020-08-09T20:13:37.212411",
     "exception": false,
     "start_time": "2020-08-09T20:13:37.170165",
     "status": "completed"
    },
    "tags": []
   },
   "source": [
    "##### Plotting the scatter plot of points and color coding by class"
   ]
  },
  {
   "cell_type": "code",
   "execution_count": 27,
   "metadata": {
    "execution": {
     "iopub.execute_input": "2020-08-09T20:13:37.300812Z",
     "iopub.status.busy": "2020-08-09T20:13:37.300310Z",
     "iopub.status.idle": "2020-08-09T20:13:37.486131Z",
     "shell.execute_reply": "2020-08-09T20:13:37.485693Z"
    },
    "papermill": {
     "duration": 0.232643,
     "end_time": "2020-08-09T20:13:37.486242",
     "exception": false,
     "start_time": "2020-08-09T20:13:37.253599",
     "status": "completed"
    },
    "tags": []
   },
   "outputs": [
    {
     "data": {
      "image/png": "[encoded data removed]",
      "text/plain": [
       "<Figure size 576x504 with 1 Axes>"
      ]
     },
     "metadata": {
      "needs_background": "light"
     },
     "output_type": "display_data"
    }
   ],
   "source": [
    "plt.figure(figsize=(8,7))\n",
    "plt.scatter(plot_testing[:,0], plot_testing[:,1], alpha = 0.1, c = y_test.ravel());"
   ]
  },
  {
   "cell_type": "markdown",
   "metadata": {
    "papermill": {
     "duration": 0.043011,
     "end_time": "2020-08-09T20:13:37.594318",
     "exception": false,
     "start_time": "2020-08-09T20:13:37.551307",
     "status": "completed"
    },
    "tags": []
   },
   "source": [
    "##### Plotting probability contours"
   ]
  },
  {
   "cell_type": "code",
   "execution_count": 28,
   "metadata": {
    "execution": {
     "iopub.execute_input": "2020-08-09T20:13:37.683203Z",
     "iopub.status.busy": "2020-08-09T20:13:37.682708Z",
     "iopub.status.idle": "2020-08-09T20:13:37.694428Z",
     "shell.execute_reply": "2020-08-09T20:13:37.694022Z"
    },
    "papermill": {
     "duration": 0.057391,
     "end_time": "2020-08-09T20:13:37.694535",
     "exception": false,
     "start_time": "2020-08-09T20:13:37.637144",
     "status": "completed"
    },
    "tags": []
   },
   "outputs": [],
   "source": [
    "model_prob = Model(layers[-2:]) ## picking only last two layers to get probability. That is affine followed by sigmoid"
   ]
  },
  {
   "cell_type": "code",
   "execution_count": 29,
   "metadata": {
    "execution": {
     "iopub.execute_input": "2020-08-09T20:13:37.785111Z",
     "iopub.status.busy": "2020-08-09T20:13:37.784603Z",
     "iopub.status.idle": "2020-08-09T20:13:37.796431Z",
     "shell.execute_reply": "2020-08-09T20:13:37.796817Z"
    },
    "papermill": {
     "duration": 0.059587,
     "end_time": "2020-08-09T20:13:37.796940",
     "exception": false,
     "start_time": "2020-08-09T20:13:37.737353",
     "status": "completed"
    },
    "tags": []
   },
   "outputs": [],
   "source": [
    "xgrid = np.linspace(-4, 1, 100) ## Adjust these values based on above chart, roughly -4 to 1\n",
    "ygrid = np.linspace(-7.5, 7.5, 100) ## Adjust these values based on above chart, roughly -7.5, 7.5\n",
    "xg, yg = np.meshgrid(xgrid, ygrid)\n",
    "# xg and yg are now both 100X100, lets convert them to single arrays \n",
    "\n",
    "xg_interim = np.ravel(xg)\n",
    "yg_interim = np.ravel(yg)\n",
    "\n",
    "## xg_interim, yg_interim are now arrays of len 10000, now we will stack them and then transpose to get desired shape of n rows, 2 columns\n",
    "\n",
    "X_interim = np.vstack((xg_interim, yg_interim)) ## Please note vstack takes in a tuple\n",
    "X = X_interim.T\n",
    "\n",
    "## We want a shape of n rows and 2 columns to be able to feed this to last affine\n",
    "## This last affine takes only two columns, hence the above transformation\n",
    "probability_contour = model_prob(X).reshape(100,100) ## to make it consistent with xg, yg"
   ]
  },
  {
   "cell_type": "code",
   "execution_count": 30,
   "metadata": {
    "execution": {
     "iopub.execute_input": "2020-08-09T20:13:37.896938Z",
     "iopub.status.busy": "2020-08-09T20:13:37.896435Z",
     "iopub.status.idle": "2020-08-09T20:13:38.105780Z",
     "shell.execute_reply": "2020-08-09T20:13:38.106269Z"
    },
    "papermill": {
     "duration": 0.266143,
     "end_time": "2020-08-09T20:13:38.106412",
     "exception": false,
     "start_time": "2020-08-09T20:13:37.840269",
     "status": "completed"
    },
    "tags": []
   },
   "outputs": [
    {
     "data": {
      "image/png": "[encoded data removed]",
      "text/plain": [
       "<Figure size 576x504 with 1 Axes>"
      ]
     },
     "metadata": {
      "needs_background": "light"
     },
     "output_type": "display_data"
    }
   ],
   "source": [
    "plt.figure(figsize=(8,7))\n",
    "plt.scatter(plot_testing[:,0], plot_testing[:,1], alpha = 0.1, c = y_test.ravel())\n",
    "contours = plt.contour(xg,yg,probability_contour)\n",
    "plt.clabel(contours, inline = True );"
   ]
  }
 ],
 "metadata": {
  "kernelspec": {
   "display_name": "Python 3",
   "language": "python",
   "name": "python3"
  },
  "language_info": {
   "codemirror_mode": {
    "name": "ipython",
    "version": 3
   },
   "file_extension": ".py",
   "mimetype": "text/x-python",
   "name": "python",
   "nbconvert_exporter": "python",
   "pygments_lexer": "ipython3",
   "version": "3.6.11"
  },
  "papermill": {
   "duration": 92.527302,
   "end_time": "2020-08-09T20:13:38.458615",
   "environment_variables": {},
   "exception": null,
   "input_path": "2020-08-07-NN-new.ipynb",
   "output_path": "2020-08-07-NN-new.ipynb",
   "parameters": {},
   "start_time": "2020-08-09T20:12:05.931313",
   "version": "2.1.2"
  }
 },
 "nbformat": 4,
 "nbformat_minor": 4
}