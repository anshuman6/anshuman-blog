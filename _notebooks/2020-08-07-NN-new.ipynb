{
 "cells": [
  {
   "cell_type": "markdown",
   "metadata": {
    "papermill": {
     "duration": 0.030474,
     "end_time": "2020-08-21T10:12:13.336003",
     "exception": false,
     "start_time": "2020-08-21T10:12:13.305529",
     "status": "completed"
    },
    "tags": []
   },
   "source": [
    "# \"Building a basic Neural Network from scratch - Kudzu\"\n",
    "\n",
    "- badges: true\n",
    "- author: Anshuman Gupta"
   ]
  },
  {
   "cell_type": "markdown",
   "metadata": {
    "papermill": {
     "duration": 0.025413,
     "end_time": "2020-08-21T10:12:13.388314",
     "exception": false,
     "start_time": "2020-08-21T10:12:13.362901",
     "status": "completed"
    },
    "tags": []
   },
   "source": [
    "#### In this project, the idea is to write a classifier to differentiate between handwritten digits 3 and 8, from the MNIST database.\n",
    "\n",
    "#### I will using a custom built neural network library called Kudzu.This has been developed as a part of KTF/Foundations course of Univ.ai (www.univ.ai). The source code for Kudzu Library and and this notebook can be found on my git-hub profile : www.https://github.com/anshuman6 under the folder project-solution. Any feedback and comments are welcome. Please feel free to email me at: anshuman6@gmail.com\n",
    "\n",
    "#### 1. I will be using the MNIST database. \n",
    "\n",
    "#### 2. I will be comparing the results of the 4 layer NN to a standard logistic regression"
   ]
  },
  {
   "cell_type": "markdown",
   "metadata": {
    "papermill": {
     "duration": 0.026376,
     "end_time": "2020-08-21T10:12:13.442602",
     "exception": false,
     "start_time": "2020-08-21T10:12:13.416226",
     "status": "completed"
    },
    "tags": []
   },
   "source": [
    "##### Importing all the necessary libraries"
   ]
  },
  {
   "cell_type": "code",
   "execution_count": 1,
   "metadata": {
    "execution": {
     "iopub.execute_input": "2020-08-21T10:12:13.499607Z",
     "iopub.status.busy": "2020-08-21T10:12:13.499061Z",
     "iopub.status.idle": "2020-08-21T10:12:13.508507Z",
     "shell.execute_reply": "2020-08-21T10:12:13.508031Z"
    },
    "papermill": {
     "duration": 0.039248,
     "end_time": "2020-08-21T10:12:13.508649",
     "exception": false,
     "start_time": "2020-08-21T10:12:13.469401",
     "status": "completed"
    },
    "tags": []
   },
   "outputs": [],
   "source": [
    "%load_ext autoreload\n",
    "%autoreload 2"
   ]
  },
  {
   "cell_type": "code",
   "execution_count": 2,
   "metadata": {
    "execution": {
     "iopub.execute_input": "2020-08-21T10:12:13.565018Z",
     "iopub.status.busy": "2020-08-21T10:12:13.564463Z",
     "iopub.status.idle": "2020-08-21T10:12:14.088660Z",
     "shell.execute_reply": "2020-08-21T10:12:14.088181Z"
    },
    "papermill": {
     "duration": 0.555694,
     "end_time": "2020-08-21T10:12:14.088794",
     "exception": false,
     "start_time": "2020-08-21T10:12:13.533100",
     "status": "completed"
    },
    "tags": []
   },
   "outputs": [],
   "source": [
    "%matplotlib inline\n",
    "import numpy as np\n",
    "import matplotlib.pyplot as plt\n",
    "import pandas as pd"
   ]
  },
  {
   "cell_type": "markdown",
   "metadata": {
    "papermill": {
     "duration": 0.02702,
     "end_time": "2020-08-21T10:12:14.142274",
     "exception": false,
     "start_time": "2020-08-21T10:12:14.115254",
     "status": "completed"
    },
    "tags": []
   },
   "source": [
    "##### The following command helps us download MNIST from notebook itself. You can skip this if you already have MNIST. You can also download it via your terminal."
   ]
  },
  {
   "cell_type": "code",
   "execution_count": 3,
   "metadata": {
    "execution": {
     "iopub.execute_input": "2020-08-21T10:12:14.198126Z",
     "iopub.status.busy": "2020-08-21T10:12:14.197537Z",
     "iopub.status.idle": "2020-08-21T10:12:15.616912Z",
     "shell.execute_reply": "2020-08-21T10:12:15.617357Z"
    },
    "papermill": {
     "duration": 1.447741,
     "end_time": "2020-08-21T10:12:15.617537",
     "exception": false,
     "start_time": "2020-08-21T10:12:14.169796",
     "status": "completed"
    },
    "tags": []
   },
   "outputs": [
    {
     "name": "stdout",
     "output_type": "stream",
     "text": [
      "Collecting mnist\r\n"
     ]
    },
    {
     "name": "stdout",
     "output_type": "stream",
     "text": [
      "  Downloading mnist-0.2.2-py2.py3-none-any.whl (3.5 kB)\r\n",
      "Requirement already satisfied: numpy in /opt/hostedtoolcache/Python/3.6.11/x64/lib/python3.6/site-packages (from mnist) (1.19.1)\r\n"
     ]
    },
    {
     "name": "stdout",
     "output_type": "stream",
     "text": [
      "Installing collected packages: mnist\r\n"
     ]
    },
    {
     "name": "stdout",
     "output_type": "stream",
     "text": [
      "Successfully installed mnist-0.2.2\r\n"
     ]
    }
   ],
   "source": [
    "!pip install mnist # Please note, it is commented out for now, you can remove comment if you want to install it"
   ]
  },
  {
   "cell_type": "markdown",
   "metadata": {
    "papermill": {
     "duration": 0.025587,
     "end_time": "2020-08-21T10:12:15.670306",
     "exception": false,
     "start_time": "2020-08-21T10:12:15.644719",
     "status": "completed"
    },
    "tags": []
   },
   "source": [
    "#### Preparing the Data"
   ]
  },
  {
   "cell_type": "code",
   "execution_count": 4,
   "metadata": {
    "execution": {
     "iopub.execute_input": "2020-08-21T10:12:15.727305Z",
     "iopub.status.busy": "2020-08-21T10:12:15.726753Z",
     "iopub.status.idle": "2020-08-21T10:12:15.741339Z",
     "shell.execute_reply": "2020-08-21T10:12:15.740895Z"
    },
    "papermill": {
     "duration": 0.04401,
     "end_time": "2020-08-21T10:12:15.741443",
     "exception": false,
     "start_time": "2020-08-21T10:12:15.697433",
     "status": "completed"
    },
    "tags": []
   },
   "outputs": [],
   "source": [
    "import mnist"
   ]
  },
  {
   "cell_type": "code",
   "execution_count": 5,
   "metadata": {
    "execution": {
     "iopub.execute_input": "2020-08-21T10:12:15.801608Z",
     "iopub.status.busy": "2020-08-21T10:12:15.801043Z",
     "iopub.status.idle": "2020-08-21T10:12:21.650149Z",
     "shell.execute_reply": "2020-08-21T10:12:21.650600Z"
    },
    "papermill": {
     "duration": 5.879224,
     "end_time": "2020-08-21T10:12:21.650748",
     "exception": false,
     "start_time": "2020-08-21T10:12:15.771524",
     "status": "completed"
    },
    "tags": []
   },
   "outputs": [],
   "source": [
    "train_images = mnist.train_images()\n",
    "train_labels = mnist.train_labels()"
   ]
  },
  {
   "cell_type": "code",
   "execution_count": 6,
   "metadata": {
    "execution": {
     "iopub.execute_input": "2020-08-21T10:12:21.704794Z",
     "iopub.status.busy": "2020-08-21T10:12:21.704185Z",
     "iopub.status.idle": "2020-08-21T10:12:21.717044Z",
     "shell.execute_reply": "2020-08-21T10:12:21.716603Z"
    },
    "papermill": {
     "duration": 0.041057,
     "end_time": "2020-08-21T10:12:21.717149",
     "exception": false,
     "start_time": "2020-08-21T10:12:21.676092",
     "status": "completed"
    },
    "tags": []
   },
   "outputs": [
    {
     "data": {
      "text/plain": [
       "((60000, 28, 28), (60000,))"
      ]
     },
     "execution_count": 6,
     "metadata": {},
     "output_type": "execute_result"
    }
   ],
   "source": [
    "train_images.shape, train_labels.shape"
   ]
  },
  {
   "cell_type": "code",
   "execution_count": 7,
   "metadata": {
    "execution": {
     "iopub.execute_input": "2020-08-21T10:12:21.784198Z",
     "iopub.status.busy": "2020-08-21T10:12:21.783603Z",
     "iopub.status.idle": "2020-08-21T10:12:22.639414Z",
     "shell.execute_reply": "2020-08-21T10:12:22.638921Z"
    },
    "papermill": {
     "duration": 0.895932,
     "end_time": "2020-08-21T10:12:22.639567",
     "exception": false,
     "start_time": "2020-08-21T10:12:21.743635",
     "status": "completed"
    },
    "tags": []
   },
   "outputs": [],
   "source": [
    "test_images = mnist.test_images()\n",
    "test_labels = mnist.test_labels()"
   ]
  },
  {
   "cell_type": "code",
   "execution_count": 8,
   "metadata": {
    "execution": {
     "iopub.execute_input": "2020-08-21T10:12:22.695028Z",
     "iopub.status.busy": "2020-08-21T10:12:22.694439Z",
     "iopub.status.idle": "2020-08-21T10:12:22.707378Z",
     "shell.execute_reply": "2020-08-21T10:12:22.706921Z"
    },
    "papermill": {
     "duration": 0.041586,
     "end_time": "2020-08-21T10:12:22.707486",
     "exception": false,
     "start_time": "2020-08-21T10:12:22.665900",
     "status": "completed"
    },
    "tags": []
   },
   "outputs": [
    {
     "data": {
      "text/plain": [
       "((10000, 28, 28), (10000,))"
      ]
     },
     "execution_count": 8,
     "metadata": {},
     "output_type": "execute_result"
    }
   ],
   "source": [
    "test_images.shape, test_labels.shape"
   ]
  },
  {
   "cell_type": "code",
   "execution_count": 9,
   "metadata": {
    "execution": {
     "iopub.execute_input": "2020-08-21T10:12:22.768026Z",
     "iopub.status.busy": "2020-08-21T10:12:22.767312Z",
     "iopub.status.idle": "2020-08-21T10:12:22.928827Z",
     "shell.execute_reply": "2020-08-21T10:12:22.928371Z"
    },
    "papermill": {
     "duration": 0.192024,
     "end_time": "2020-08-21T10:12:22.928945",
     "exception": false,
     "start_time": "2020-08-21T10:12:22.736921",
     "status": "completed"
    },
    "tags": []
   },
   "outputs": [
    {
     "name": "stdout",
     "output_type": "stream",
     "text": [
      "2\n"
     ]
    },
    {
     "data": {
      "text/plain": [
       "<matplotlib.image.AxesImage at 0x7f8e3cd740b8>"
      ]
     },
     "execution_count": 9,
     "metadata": {},
     "output_type": "execute_result"
    },
    {
     "data": {
      "image/png": "[encoded data removed]",
      "text/plain": [
       "<Figure size 432x288 with 1 Axes>"
      ]
     },
     "metadata": {
      "needs_background": "light"
     },
     "output_type": "display_data"
    }
   ],
   "source": [
    "image_index = 7776 # You may select anything up to 60,000\n",
    "print(train_labels[image_index]) \n",
    "plt.imshow(train_images[image_index], cmap='Greys')"
   ]
  },
  {
   "cell_type": "markdown",
   "metadata": {
    "papermill": {
     "duration": 0.028638,
     "end_time": "2020-08-21T10:12:22.986422",
     "exception": false,
     "start_time": "2020-08-21T10:12:22.957784",
     "status": "completed"
    },
    "tags": []
   },
   "source": [
    "## Filter data to get 3 and 8 out"
   ]
  },
  {
   "cell_type": "code",
   "execution_count": 10,
   "metadata": {
    "execution": {
     "iopub.execute_input": "2020-08-21T10:12:23.047978Z",
     "iopub.status.busy": "2020-08-21T10:12:23.047418Z",
     "iopub.status.idle": "2020-08-21T10:12:23.066238Z",
     "shell.execute_reply": "2020-08-21T10:12:23.066697Z"
    },
    "papermill": {
     "duration": 0.05155,
     "end_time": "2020-08-21T10:12:23.066864",
     "exception": false,
     "start_time": "2020-08-21T10:12:23.015314",
     "status": "completed"
    },
    "tags": []
   },
   "outputs": [],
   "source": [
    "train_filter = np.where((train_labels == 3 ) | (train_labels == 8))\n",
    "test_filter = np.where((test_labels == 3) | (test_labels == 8))\n",
    "X_train, y_train = train_images[train_filter], train_labels[train_filter]\n",
    "X_test, y_test = test_images[test_filter], test_labels[test_filter]"
   ]
  },
  {
   "cell_type": "markdown",
   "metadata": {
    "papermill": {
     "duration": 0.03071,
     "end_time": "2020-08-21T10:12:23.131277",
     "exception": false,
     "start_time": "2020-08-21T10:12:23.100567",
     "status": "completed"
    },
    "tags": []
   },
   "source": [
    "##### We normalize the pizel values in the 0 to 1 range"
   ]
  },
  {
   "cell_type": "code",
   "execution_count": 11,
   "metadata": {
    "execution": {
     "iopub.execute_input": "2020-08-21T10:12:23.195421Z",
     "iopub.status.busy": "2020-08-21T10:12:23.194843Z",
     "iopub.status.idle": "2020-08-21T10:12:23.250744Z",
     "shell.execute_reply": "2020-08-21T10:12:23.250199Z"
    },
    "papermill": {
     "duration": 0.089168,
     "end_time": "2020-08-21T10:12:23.250876",
     "exception": false,
     "start_time": "2020-08-21T10:12:23.161708",
     "status": "completed"
    },
    "tags": []
   },
   "outputs": [],
   "source": [
    "X_train = X_train/255.\n",
    "X_test = X_test/255."
   ]
  },
  {
   "cell_type": "markdown",
   "metadata": {
    "papermill": {
     "duration": 0.02701,
     "end_time": "2020-08-21T10:12:23.306621",
     "exception": false,
     "start_time": "2020-08-21T10:12:23.279611",
     "status": "completed"
    },
    "tags": []
   },
   "source": [
    "And setup the labels as 1 (when the digit is 3) and 0 (when the digit is 8)"
   ]
  },
  {
   "cell_type": "code",
   "execution_count": 12,
   "metadata": {
    "execution": {
     "iopub.execute_input": "2020-08-21T10:12:23.364436Z",
     "iopub.status.busy": "2020-08-21T10:12:23.363852Z",
     "iopub.status.idle": "2020-08-21T10:12:23.375367Z",
     "shell.execute_reply": "2020-08-21T10:12:23.374902Z"
    },
    "papermill": {
     "duration": 0.042079,
     "end_time": "2020-08-21T10:12:23.375475",
     "exception": false,
     "start_time": "2020-08-21T10:12:23.333396",
     "status": "completed"
    },
    "tags": []
   },
   "outputs": [],
   "source": [
    "y_train = 1*(y_train==3)\n",
    "y_test = 1*(y_test==3)"
   ]
  },
  {
   "cell_type": "code",
   "execution_count": 13,
   "metadata": {
    "execution": {
     "iopub.execute_input": "2020-08-21T10:12:23.433247Z",
     "iopub.status.busy": "2020-08-21T10:12:23.432557Z",
     "iopub.status.idle": "2020-08-21T10:12:23.443537Z",
     "shell.execute_reply": "2020-08-21T10:12:23.443042Z"
    },
    "papermill": {
     "duration": 0.040147,
     "end_time": "2020-08-21T10:12:23.443649",
     "exception": false,
     "start_time": "2020-08-21T10:12:23.403502",
     "status": "completed"
    },
    "tags": []
   },
   "outputs": [
    {
     "data": {
      "text/plain": [
       "((11982, 28, 28), (1984, 28, 28))"
      ]
     },
     "execution_count": 13,
     "metadata": {},
     "output_type": "execute_result"
    }
   ],
   "source": [
    "X_train.shape, X_test.shape"
   ]
  },
  {
   "cell_type": "markdown",
   "metadata": {
    "papermill": {
     "duration": 0.026956,
     "end_time": "2020-08-21T10:12:23.498081",
     "exception": false,
     "start_time": "2020-08-21T10:12:23.471125",
     "status": "completed"
    },
    "tags": []
   },
   "source": [
    "##### We reshape the data to flatten the image pixels into a set of features or co-variates:"
   ]
  },
  {
   "cell_type": "code",
   "execution_count": 14,
   "metadata": {
    "execution": {
     "iopub.execute_input": "2020-08-21T10:12:23.554491Z",
     "iopub.status.busy": "2020-08-21T10:12:23.553972Z",
     "iopub.status.idle": "2020-08-21T10:12:23.566236Z",
     "shell.execute_reply": "2020-08-21T10:12:23.565800Z"
    },
    "papermill": {
     "duration": 0.042156,
     "end_time": "2020-08-21T10:12:23.566337",
     "exception": false,
     "start_time": "2020-08-21T10:12:23.524181",
     "status": "completed"
    },
    "tags": []
   },
   "outputs": [
    {
     "data": {
      "text/plain": [
       "((11982, 784), (1984, 784))"
      ]
     },
     "execution_count": 14,
     "metadata": {},
     "output_type": "execute_result"
    }
   ],
   "source": [
    "X_train = X_train.reshape(X_train.shape[0], -1)\n",
    "X_test = X_test.reshape(X_test.shape[0], -1)\n",
    "X_train.shape, X_test.shape"
   ]
  },
  {
   "cell_type": "markdown",
   "metadata": {
    "papermill": {
     "duration": 0.033358,
     "end_time": "2020-08-21T10:12:23.630189",
     "exception": false,
     "start_time": "2020-08-21T10:12:23.596831",
     "status": "completed"
    },
    "tags": []
   },
   "source": [
    "##### Importing Kudzu library and its functionality"
   ]
  },
  {
   "cell_type": "code",
   "execution_count": 15,
   "metadata": {
    "execution": {
     "iopub.execute_input": "2020-08-21T10:12:23.697891Z",
     "iopub.status.busy": "2020-08-21T10:12:23.697335Z",
     "iopub.status.idle": "2020-08-21T10:12:23.713443Z",
     "shell.execute_reply": "2020-08-21T10:12:23.713881Z"
    },
    "papermill": {
     "duration": 0.051515,
     "end_time": "2020-08-21T10:12:23.714004",
     "exception": false,
     "start_time": "2020-08-21T10:12:23.662489",
     "status": "completed"
    },
    "tags": []
   },
   "outputs": [],
   "source": [
    "from kudzu.data import Data, Dataloader, Sampler\n",
    "from kudzu.callbacks import AccCallback\n",
    "from kudzu.loss import MSE\n",
    "from kudzu.layer import Affine, Sigmoid\n",
    "from kudzu.model import Model\n",
    "from kudzu.optim import GD\n",
    "from kudzu.train import Learner\n",
    "from kudzu.callbacks import ClfCallback\n",
    "from kudzu.layer import Sigmoid\n",
    "from kudzu.layer import Relu"
   ]
  },
  {
   "cell_type": "markdown",
   "metadata": {
    "papermill": {
     "duration": 0.030338,
     "end_time": "2020-08-21T10:12:23.771301",
     "exception": false,
     "start_time": "2020-08-21T10:12:23.740963",
     "status": "completed"
    },
    "tags": []
   },
   "source": [
    "##### We are creating a class, just so that we can use it to store our parameters for us"
   ]
  },
  {
   "cell_type": "code",
   "execution_count": 16,
   "metadata": {
    "execution": {
     "iopub.execute_input": "2020-08-21T10:12:23.836969Z",
     "iopub.status.busy": "2020-08-21T10:12:23.836384Z",
     "iopub.status.idle": "2020-08-21T10:12:23.844803Z",
     "shell.execute_reply": "2020-08-21T10:12:23.845263Z"
    },
    "papermill": {
     "duration": 0.04433,
     "end_time": "2020-08-21T10:12:23.845397",
     "exception": false,
     "start_time": "2020-08-21T10:12:23.801067",
     "status": "completed"
    },
    "tags": []
   },
   "outputs": [],
   "source": [
    "class Config:\n",
    "    pass\n",
    "config = Config()\n",
    "config.lr = 0.001\n",
    "config.num_epochs = 250\n",
    "config.bs = 50"
   ]
  },
  {
   "cell_type": "markdown",
   "metadata": {
    "papermill": {
     "duration": 0.029131,
     "end_time": "2020-08-21T10:12:23.903622",
     "exception": false,
     "start_time": "2020-08-21T10:12:23.874491",
     "status": "completed"
    },
    "tags": []
   },
   "source": [
    "##### Initializing Data"
   ]
  },
  {
   "cell_type": "code",
   "execution_count": 17,
   "metadata": {
    "execution": {
     "iopub.execute_input": "2020-08-21T10:12:23.963982Z",
     "iopub.status.busy": "2020-08-21T10:12:23.963430Z",
     "iopub.status.idle": "2020-08-21T10:12:23.974350Z",
     "shell.execute_reply": "2020-08-21T10:12:23.974858Z"
    },
    "papermill": {
     "duration": 0.043835,
     "end_time": "2020-08-21T10:12:23.974988",
     "exception": false,
     "start_time": "2020-08-21T10:12:23.931153",
     "status": "completed"
    },
    "tags": []
   },
   "outputs": [],
   "source": [
    "data = Data(X_train, y_train.reshape(-1,1))\n",
    "loss = MSE()\n",
    "opt = GD(config.lr)\n",
    "sampler = Sampler(data, config.bs, shuffle=True)\n",
    "dl = Dataloader(data, sampler)"
   ]
  },
  {
   "cell_type": "markdown",
   "metadata": {
    "papermill": {
     "duration": 0.027153,
     "end_time": "2020-08-21T10:12:24.029404",
     "exception": false,
     "start_time": "2020-08-21T10:12:24.002251",
     "status": "completed"
    },
    "tags": []
   },
   "source": [
    "##### Constructing 2 different layers, one for NN and one only for logistic regression."
   ]
  },
  {
   "cell_type": "markdown",
   "metadata": {
    "papermill": {
     "duration": 0.030325,
     "end_time": "2020-08-21T10:12:24.087121",
     "exception": false,
     "start_time": "2020-08-21T10:12:24.056796",
     "status": "completed"
    },
    "tags": []
   },
   "source": [
    "##### Creating containers for data to be passed, to calculate accuracies"
   ]
  },
  {
   "cell_type": "code",
   "execution_count": 18,
   "metadata": {
    "execution": {
     "iopub.execute_input": "2020-08-21T10:12:24.156597Z",
     "iopub.status.busy": "2020-08-21T10:12:24.156042Z",
     "iopub.status.idle": "2020-08-21T10:12:24.167373Z",
     "shell.execute_reply": "2020-08-21T10:12:24.166798Z"
    },
    "papermill": {
     "duration": 0.049152,
     "end_time": "2020-08-21T10:12:24.167575",
     "exception": false,
     "start_time": "2020-08-21T10:12:24.118423",
     "status": "completed"
    },
    "tags": []
   },
   "outputs": [],
   "source": [
    "training_xdata = X_train\n",
    "testing_xdata = X_test\n",
    "training_ydata = y_train.reshape(-1,1)\n",
    "testing_ydata = y_test.reshape(-1,1)"
   ]
  },
  {
   "cell_type": "markdown",
   "metadata": {
    "papermill": {
     "duration": 0.028374,
     "end_time": "2020-08-21T10:12:24.224663",
     "exception": false,
     "start_time": "2020-08-21T10:12:24.196289",
     "status": "completed"
    },
    "tags": []
   },
   "source": [
    "##### Initializing models and Running training loop: "
   ]
  },
  {
   "cell_type": "code",
   "execution_count": 19,
   "metadata": {
    "execution": {
     "iopub.execute_input": "2020-08-21T10:12:24.285944Z",
     "iopub.status.busy": "2020-08-21T10:12:24.285379Z",
     "iopub.status.idle": "2020-08-21T10:12:24.299487Z",
     "shell.execute_reply": "2020-08-21T10:12:24.299038Z"
    },
    "papermill": {
     "duration": 0.046401,
     "end_time": "2020-08-21T10:12:24.299598",
     "exception": false,
     "start_time": "2020-08-21T10:12:24.253197",
     "status": "completed"
    },
    "tags": []
   },
   "outputs": [],
   "source": [
    "layers = [Affine(\"first\", 784, 100), Relu(\"first\"), Affine(\"second\", 100, 100), Relu(\"second\"), Affine(\"third\", 100, 2), Affine(\"final\", 2, 1), Sigmoid(\"final\")]\n",
    "\n",
    "model_neural = Model(layers)\n",
    "model_logistic = Model([Affine(\"logits\", 784, 1), Sigmoid(\"sigmoid\")])"
   ]
  },
  {
   "cell_type": "code",
   "execution_count": 20,
   "metadata": {
    "execution": {
     "iopub.execute_input": "2020-08-21T10:12:24.373235Z",
     "iopub.status.busy": "2020-08-21T10:12:24.370132Z",
     "iopub.status.idle": "2020-08-21T10:12:24.375951Z",
     "shell.execute_reply": "2020-08-21T10:12:24.375450Z"
    },
    "papermill": {
     "duration": 0.048371,
     "end_time": "2020-08-21T10:12:24.376059",
     "exception": false,
     "start_time": "2020-08-21T10:12:24.327688",
     "status": "completed"
    },
    "tags": []
   },
   "outputs": [],
   "source": [
    "learner1 = Learner(loss, model_neural, opt, config.num_epochs)\n",
    "acc1 = ClfCallback(learner1, config.bs, training_xdata , testing_xdata, training_ydata, testing_ydata)\n",
    "learner1.set_callbacks([acc1])"
   ]
  },
  {
   "cell_type": "code",
   "execution_count": 21,
   "metadata": {
    "execution": {
     "iopub.execute_input": "2020-08-21T10:12:24.434616Z",
     "iopub.status.busy": "2020-08-21T10:12:24.434053Z",
     "iopub.status.idle": "2020-08-21T10:14:37.397756Z",
     "shell.execute_reply": "2020-08-21T10:14:37.398457Z"
    },
    "papermill": {
     "duration": 132.994885,
     "end_time": "2020-08-21T10:14:37.398604",
     "exception": false,
     "start_time": "2020-08-21T10:12:24.403719",
     "status": "completed"
    },
    "tags": []
   },
   "outputs": [
    {
     "name": "stdout",
     "output_type": "stream",
     "text": [
      "Epoch 0 Loss 0.2538183551995663\n",
      "train accuracy is: 0.48940076781839426, test accuracy is 0.49193548387096775\n"
     ]
    },
    {
     "name": "stdout",
     "output_type": "stream",
     "text": [
      "Epoch 10 Loss 0.19194591744768813\n",
      "train accuracy is: 0.8747287598063762, test accuracy is 0.8966733870967742\n"
     ]
    },
    {
     "name": "stdout",
     "output_type": "stream",
     "text": [
      "Epoch 20 Loss 0.0992998057834193\n",
      "train accuracy is: 0.9114505090969788, test accuracy is 0.920866935483871\n"
     ]
    },
    {
     "name": "stdout",
     "output_type": "stream",
     "text": [
      "Epoch 30 Loss 0.06273635104908651\n",
      "train accuracy is: 0.9352361876147555, test accuracy is 0.9440524193548387\n"
     ]
    },
    {
     "name": "stdout",
     "output_type": "stream",
     "text": [
      "Epoch 40 Loss 0.04847767611923943\n",
      "train accuracy is: 0.9471707561342013, test accuracy is 0.9556451612903226\n"
     ]
    },
    {
     "name": "stdout",
     "output_type": "stream",
     "text": [
      "Epoch 50 Loss 0.04124119705697471\n",
      "train accuracy is: 0.9535136037389418, test accuracy is 0.9611895161290323\n"
     ]
    },
    {
     "name": "stdout",
     "output_type": "stream",
     "text": [
      "Epoch 60 Loss 0.03693329657013432\n",
      "train accuracy is: 0.958020363879152, test accuracy is 0.9647177419354839\n"
     ]
    },
    {
     "name": "stdout",
     "output_type": "stream",
     "text": [
      "Epoch 70 Loss 0.03407140646702521\n",
      "train accuracy is: 0.9606910365548322, test accuracy is 0.9657258064516129\n"
     ]
    },
    {
     "name": "stdout",
     "output_type": "stream",
     "text": [
      "Epoch 80 Loss 0.03200969281968592\n",
      "train accuracy is: 0.9628609581038224, test accuracy is 0.967741935483871\n"
     ]
    },
    {
     "name": "stdout",
     "output_type": "stream",
     "text": [
      "Epoch 90 Loss 0.030426356380501816\n",
      "train accuracy is: 0.9649474211316975, test accuracy is 0.967741935483871\n"
     ]
    },
    {
     "name": "stdout",
     "output_type": "stream",
     "text": [
      "Epoch 100 Loss 0.029162297328269794\n",
      "train accuracy is: 0.9659489233850777, test accuracy is 0.9682459677419355\n"
     ]
    },
    {
     "name": "stdout",
     "output_type": "stream",
     "text": [
      "Epoch 110 Loss 0.02811397870939179\n",
      "train accuracy is: 0.9670338841595727, test accuracy is 0.9682459677419355\n"
     ]
    },
    {
     "name": "stdout",
     "output_type": "stream",
     "text": [
      "Epoch 120 Loss 0.027220499451457922\n",
      "train accuracy is: 0.9677850108496078, test accuracy is 0.967741935483871\n"
     ]
    },
    {
     "name": "stdout",
     "output_type": "stream",
     "text": [
      "Epoch 130 Loss 0.02643509608277016\n",
      "train accuracy is: 0.9689534301452178, test accuracy is 0.9672379032258065\n"
     ]
    },
    {
     "name": "stdout",
     "output_type": "stream",
     "text": [
      "Epoch 140 Loss 0.025725666175626806\n",
      "train accuracy is: 0.9694541812719079, test accuracy is 0.9672379032258065\n"
     ]
    },
    {
     "name": "stdout",
     "output_type": "stream",
     "text": [
      "Epoch 150 Loss 0.025078009439886074\n",
      "train accuracy is: 0.970372225004173, test accuracy is 0.9672379032258065\n"
     ]
    },
    {
     "name": "stdout",
     "output_type": "stream",
     "text": [
      "Epoch 160 Loss 0.024498664308838913\n",
      "train accuracy is: 0.9711233516942079, test accuracy is 0.9667338709677419\n"
     ]
    },
    {
     "name": "stdout",
     "output_type": "stream",
     "text": [
      "Epoch 170 Loss 0.02395422923774046\n",
      "train accuracy is: 0.971874478384243, test accuracy is 0.9672379032258065\n"
     ]
    },
    {
     "name": "stdout",
     "output_type": "stream",
     "text": [
      "Epoch 180 Loss 0.023453004782311826\n",
      "train accuracy is: 0.9727090635953931, test accuracy is 0.967741935483871\n"
     ]
    },
    {
     "name": "stdout",
     "output_type": "stream",
     "text": [
      "Epoch 190 Loss 0.022978234125480147\n",
      "train accuracy is: 0.9735436488065431, test accuracy is 0.9682459677419355\n"
     ]
    },
    {
     "name": "stdout",
     "output_type": "stream",
     "text": [
      "Epoch 200 Loss 0.0225313842725306\n",
      "train accuracy is: 0.9744616925388082, test accuracy is 0.9692540322580645\n"
     ]
    },
    {
     "name": "stdout",
     "output_type": "stream",
     "text": [
      "Epoch 210 Loss 0.02210898216441217\n",
      "train accuracy is: 0.9750459021866132, test accuracy is 0.9692540322580645\n"
     ]
    },
    {
     "name": "stdout",
     "output_type": "stream",
     "text": [
      "Epoch 220 Loss 0.02170702162467332\n",
      "train accuracy is: 0.9757135703555333, test accuracy is 0.9702620967741935\n"
     ]
    },
    {
     "name": "stdout",
     "output_type": "stream",
     "text": [
      "Epoch 230 Loss 0.021323208551946523\n",
      "train accuracy is: 0.9763812385244534, test accuracy is 0.9707661290322581\n"
     ]
    },
    {
     "name": "stdout",
     "output_type": "stream",
     "text": [
      "Epoch 240 Loss 0.020950680784068674\n",
      "train accuracy is: 0.9763812385244534, test accuracy is 0.9717741935483871\n"
     ]
    },
    {
     "data": {
      "text/plain": [
       "0.010672300289656041"
      ]
     },
     "execution_count": 21,
     "metadata": {},
     "output_type": "execute_result"
    }
   ],
   "source": [
    "learner1.train_loop(dl)"
   ]
  },
  {
   "cell_type": "markdown",
   "metadata": {
    "papermill": {
     "duration": 0.036893,
     "end_time": "2020-08-21T10:14:37.472561",
     "exception": false,
     "start_time": "2020-08-21T10:14:37.435668",
     "status": "completed"
    },
    "tags": []
   },
   "source": [
    "##### Now running only the logistic regression based classification to compare results with NN"
   ]
  },
  {
   "cell_type": "code",
   "execution_count": 22,
   "metadata": {
    "execution": {
     "iopub.execute_input": "2020-08-21T10:14:37.558938Z",
     "iopub.status.busy": "2020-08-21T10:14:37.558241Z",
     "iopub.status.idle": "2020-08-21T10:14:37.568038Z",
     "shell.execute_reply": "2020-08-21T10:14:37.567550Z"
    },
    "papermill": {
     "duration": 0.057585,
     "end_time": "2020-08-21T10:14:37.568154",
     "exception": false,
     "start_time": "2020-08-21T10:14:37.510569",
     "status": "completed"
    },
    "tags": []
   },
   "outputs": [],
   "source": [
    "learner2 = Learner(loss, model_logistic, opt, config.num_epochs)\n",
    "acc2 = ClfCallback(learner2, config.bs, training_xdata , testing_xdata, training_ydata, testing_ydata)\n",
    "learner2.set_callbacks([acc2])"
   ]
  },
  {
   "cell_type": "code",
   "execution_count": 23,
   "metadata": {
    "execution": {
     "iopub.execute_input": "2020-08-21T10:14:37.664177Z",
     "iopub.status.busy": "2020-08-21T10:14:37.662782Z",
     "iopub.status.idle": "2020-08-21T10:14:57.583508Z",
     "shell.execute_reply": "2020-08-21T10:14:57.582750Z"
    },
    "papermill": {
     "duration": 19.970259,
     "end_time": "2020-08-21T10:14:57.583638",
     "exception": false,
     "start_time": "2020-08-21T10:14:37.613379",
     "status": "completed"
    },
    "tags": []
   },
   "outputs": [
    {
     "name": "stdout",
     "output_type": "stream",
     "text": [
      "Epoch 0 Loss 0.27196656760690746\n",
      "train accuracy is: 0.5413119679519279, test accuracy is 0.5650201612903226\n"
     ]
    },
    {
     "name": "stdout",
     "output_type": "stream",
     "text": [
      "Epoch 10 Loss 0.10638049176887608\n",
      "train accuracy is: 0.9071106659989985, test accuracy is 0.9238911290322581\n"
     ]
    },
    {
     "name": "stdout",
     "output_type": "stream",
     "text": [
      "Epoch 20 Loss 0.08055769505155709\n",
      "train accuracy is: 0.9251377065598397, test accuracy is 0.9390120967741935\n"
     ]
    },
    {
     "name": "stdout",
     "output_type": "stream",
     "text": [
      "Epoch 30 Loss 0.06903818355327994\n",
      "train accuracy is: 0.9344850609247204, test accuracy is 0.9460685483870968\n"
     ]
    },
    {
     "name": "stdout",
     "output_type": "stream",
     "text": [
      "Epoch 40 Loss 0.06220307743287611\n",
      "train accuracy is: 0.9397429477549658, test accuracy is 0.9536290322580645\n"
     ]
    },
    {
     "name": "stdout",
     "output_type": "stream",
     "text": [
      "Epoch 50 Loss 0.05757441005852827\n",
      "train accuracy is: 0.9443331664162911, test accuracy is 0.9551411290322581\n"
     ]
    },
    {
     "name": "stdout",
     "output_type": "stream",
     "text": [
      "Epoch 60 Loss 0.054188826386713004\n",
      "train accuracy is: 0.9471707561342013, test accuracy is 0.9566532258064516\n"
     ]
    },
    {
     "name": "stdout",
     "output_type": "stream",
     "text": [
      "Epoch 70 Loss 0.05157685270661527\n",
      "train accuracy is: 0.9490068435987314, test accuracy is 0.9591733870967742\n"
     ]
    },
    {
     "name": "stdout",
     "output_type": "stream",
     "text": [
      "Epoch 80 Loss 0.04948688303928916\n",
      "train accuracy is: 0.9505090969788015, test accuracy is 0.9606854838709677\n"
     ]
    },
    {
     "name": "stdout",
     "output_type": "stream",
     "text": [
      "Epoch 90 Loss 0.047766024930748364\n",
      "train accuracy is: 0.9515105992321816, test accuracy is 0.9616935483870968\n"
     ]
    },
    {
     "name": "stdout",
     "output_type": "stream",
     "text": [
      "Epoch 100 Loss 0.046316757265389696\n",
      "train accuracy is: 0.9528459355700217, test accuracy is 0.9627016129032258\n"
     ]
    },
    {
     "name": "stdout",
     "output_type": "stream",
     "text": [
      "Epoch 110 Loss 0.04507466663315959\n",
      "train accuracy is: 0.9537639793022867, test accuracy is 0.9621975806451613\n"
     ]
    },
    {
     "name": "stdout",
     "output_type": "stream",
     "text": [
      "Epoch 120 Loss 0.04399489262603809\n",
      "train accuracy is: 0.9542647304289767, test accuracy is 0.9627016129032258\n"
     ]
    },
    {
     "name": "stdout",
     "output_type": "stream",
     "text": [
      "Epoch 130 Loss 0.04304504372562267\n",
      "train accuracy is: 0.9550993156401268, test accuracy is 0.9632056451612904\n"
     ]
    },
    {
     "name": "stdout",
     "output_type": "stream",
     "text": [
      "Epoch 140 Loss 0.04220058991456717\n",
      "train accuracy is: 0.9556000667668169, test accuracy is 0.9647177419354839\n"
     ]
    },
    {
     "name": "stdout",
     "output_type": "stream",
     "text": [
      "Epoch 150 Loss 0.0414421700362297\n",
      "train accuracy is: 0.956434651977967, test accuracy is 0.9647177419354839\n"
     ]
    },
    {
     "name": "stdout",
     "output_type": "stream",
     "text": [
      "Epoch 160 Loss 0.04075800139583852\n",
      "train accuracy is: 0.956685027541312, test accuracy is 0.9647177419354839\n"
     ]
    },
    {
     "name": "stdout",
     "output_type": "stream",
     "text": [
      "Epoch 170 Loss 0.040134813927282645\n",
      "train accuracy is: 0.956935403104657, test accuracy is 0.9647177419354839\n"
     ]
    },
    {
     "name": "stdout",
     "output_type": "stream",
     "text": [
      "Epoch 180 Loss 0.039564980117862365\n",
      "train accuracy is: 0.957686529794692, test accuracy is 0.9647177419354839\n"
     ]
    },
    {
     "name": "stdout",
     "output_type": "stream",
     "text": [
      "Epoch 190 Loss 0.03904070833264344\n",
      "train accuracy is: 0.9583541979636121, test accuracy is 0.9642137096774194\n"
     ]
    },
    {
     "name": "stdout",
     "output_type": "stream",
     "text": [
      "Epoch 200 Loss 0.03855636436103859\n",
      "train accuracy is: 0.958604573526957, test accuracy is 0.9647177419354839\n"
     ]
    },
    {
     "name": "stdout",
     "output_type": "stream",
     "text": [
      "Epoch 210 Loss 0.03810646366647173\n",
      "train accuracy is: 0.9594391587381071, test accuracy is 0.9642137096774194\n"
     ]
    },
    {
     "name": "stdout",
     "output_type": "stream",
     "text": [
      "Epoch 220 Loss 0.03768833871003109\n",
      "train accuracy is: 0.9596060757803372, test accuracy is 0.9647177419354839\n"
     ]
    },
    {
     "name": "stdout",
     "output_type": "stream",
     "text": [
      "Epoch 230 Loss 0.03729745214101419\n",
      "train accuracy is: 0.9601902854281422, test accuracy is 0.9647177419354839\n"
     ]
    },
    {
     "name": "stdout",
     "output_type": "stream",
     "text": [
      "Epoch 240 Loss 0.03693039900270169\n",
      "train accuracy is: 0.9606075780337172, test accuracy is 0.9647177419354839\n"
     ]
    },
    {
     "data": {
      "text/plain": [
       "0.08150465988782962"
      ]
     },
     "execution_count": 23,
     "metadata": {},
     "output_type": "execute_result"
    }
   ],
   "source": [
    "learner2.train_loop(dl)"
   ]
  },
  {
   "cell_type": "markdown",
   "metadata": {
    "papermill": {
     "duration": 0.042419,
     "end_time": "2020-08-21T10:14:57.669866",
     "exception": false,
     "start_time": "2020-08-21T10:14:57.627447",
     "status": "completed"
    },
    "tags": []
   },
   "source": [
    "### Comparing results of NN and LR"
   ]
  },
  {
   "cell_type": "code",
   "execution_count": 24,
   "metadata": {
    "execution": {
     "iopub.execute_input": "2020-08-21T10:14:57.770957Z",
     "iopub.status.busy": "2020-08-21T10:14:57.769415Z",
     "iopub.status.idle": "2020-08-21T10:14:58.040112Z",
     "shell.execute_reply": "2020-08-21T10:14:58.039615Z"
    },
    "papermill": {
     "duration": 0.326969,
     "end_time": "2020-08-21T10:14:58.040246",
     "exception": false,
     "start_time": "2020-08-21T10:14:57.713277",
     "status": "completed"
    },
    "tags": []
   },
   "outputs": [
    {
     "data": {
      "text/plain": [
       "<matplotlib.legend.Legend at 0x7f8e3c94a7b8>"
      ]
     },
     "execution_count": 24,
     "metadata": {},
     "output_type": "execute_result"
    },
    {
     "data": {
      "image/png": "[encoded data removed]",
      "text/plain": [
       "<Figure size 576x360 with 1 Axes>"
      ]
     },
     "metadata": {
      "needs_background": "light"
     },
     "output_type": "display_data"
    }
   ],
   "source": [
    "plt.figure(figsize=(8,5))\n",
    "plt.plot(acc1.val_accuracies, 'g-', label = \"Val Accuracies - NN\")\n",
    "plt.plot(acc1.accuracies, 'r-', label = \"Accuracies - NN\")\n",
    "plt.plot(acc2.val_accuracies, 'b-', label = \"Val Accuracies - Logistic Reg\")\n",
    "plt.plot(acc2.accuracies, 'k-', label = \"Accuracies - Logistic Reg\")\n",
    "plt.ylim(0.8,1) ## for a more spread out view\n",
    "plt.legend()"
   ]
  },
  {
   "cell_type": "markdown",
   "metadata": {
    "papermill": {
     "duration": 0.047085,
     "end_time": "2020-08-21T10:14:58.141043",
     "exception": false,
     "start_time": "2020-08-21T10:14:58.093958",
     "status": "completed"
    },
    "tags": []
   },
   "source": [
    "### Clearly NN has a better accuracy over LR; NN is overfitting - Validation accuracy (green) has dropped below training accuracy (orange), also they are diverging. This problem is not seen in LR"
   ]
  },
  {
   "cell_type": "markdown",
   "metadata": {
    "papermill": {
     "duration": 0.060293,
     "end_time": "2020-08-21T10:14:58.250267",
     "exception": false,
     "start_time": "2020-08-21T10:14:58.189974",
     "status": "completed"
    },
    "tags": []
   },
   "source": [
    "##### Now we will be moving through the network, till the output of the second last affine where we get a 2 dimensional output. We will be plotting this 2d output and probability contours"
   ]
  },
  {
   "cell_type": "code",
   "execution_count": 25,
   "metadata": {
    "execution": {
     "iopub.execute_input": "2020-08-21T10:14:58.362735Z",
     "iopub.status.busy": "2020-08-21T10:14:58.362159Z",
     "iopub.status.idle": "2020-08-21T10:14:58.385734Z",
     "shell.execute_reply": "2020-08-21T10:14:58.389384Z"
    },
    "papermill": {
     "duration": 0.08346,
     "end_time": "2020-08-21T10:14:58.389565",
     "exception": false,
     "start_time": "2020-08-21T10:14:58.306105",
     "status": "completed"
    },
    "tags": []
   },
   "outputs": [],
   "source": [
    "model_new = Model(layers[:-2])"
   ]
  },
  {
   "cell_type": "code",
   "execution_count": 26,
   "metadata": {
    "execution": {
     "iopub.execute_input": "2020-08-21T10:14:58.495101Z",
     "iopub.status.busy": "2020-08-21T10:14:58.494224Z",
     "iopub.status.idle": "2020-08-21T10:14:58.519250Z",
     "shell.execute_reply": "2020-08-21T10:14:58.519780Z"
    },
    "papermill": {
     "duration": 0.081487,
     "end_time": "2020-08-21T10:14:58.519919",
     "exception": false,
     "start_time": "2020-08-21T10:14:58.438432",
     "status": "completed"
    },
    "tags": []
   },
   "outputs": [],
   "source": [
    "plot_testing = model_new(testing_xdata)"
   ]
  },
  {
   "cell_type": "markdown",
   "metadata": {
    "papermill": {
     "duration": 0.067093,
     "end_time": "2020-08-21T10:14:58.642621",
     "exception": false,
     "start_time": "2020-08-21T10:14:58.575528",
     "status": "completed"
    },
    "tags": []
   },
   "source": [
    "##### Plotting the scatter plot of points and color coding by class"
   ]
  },
  {
   "cell_type": "code",
   "execution_count": 27,
   "metadata": {
    "execution": {
     "iopub.execute_input": "2020-08-21T10:14:58.757010Z",
     "iopub.status.busy": "2020-08-21T10:14:58.756414Z",
     "iopub.status.idle": "2020-08-21T10:14:58.985018Z",
     "shell.execute_reply": "2020-08-21T10:14:58.985423Z"
    },
    "papermill": {
     "duration": 0.288644,
     "end_time": "2020-08-21T10:14:58.985607",
     "exception": false,
     "start_time": "2020-08-21T10:14:58.696963",
     "status": "completed"
    },
    "tags": []
   },
   "outputs": [
    {
     "data": {
      "image/png": "[encoded data removed]",
      "text/plain": [
       "<Figure size 576x504 with 1 Axes>"
      ]
     },
     "metadata": {
      "needs_background": "light"
     },
     "output_type": "display_data"
    }
   ],
   "source": [
    "plt.figure(figsize=(8,7))\n",
    "plt.scatter(plot_testing[:,0], plot_testing[:,1], alpha = 0.1, c = y_test.ravel());"
   ]
  },
  {
   "cell_type": "markdown",
   "metadata": {
    "papermill": {
     "duration": 0.05126,
     "end_time": "2020-08-21T10:14:59.086754",
     "exception": false,
     "start_time": "2020-08-21T10:14:59.035494",
     "status": "completed"
    },
    "tags": []
   },
   "source": [
    "##### Plotting probability contours"
   ]
  },
  {
   "cell_type": "code",
   "execution_count": 28,
   "metadata": {
    "execution": {
     "iopub.execute_input": "2020-08-21T10:14:59.202370Z",
     "iopub.status.busy": "2020-08-21T10:14:59.200229Z",
     "iopub.status.idle": "2020-08-21T10:14:59.216553Z",
     "shell.execute_reply": "2020-08-21T10:14:59.215561Z"
    },
    "papermill": {
     "duration": 0.079712,
     "end_time": "2020-08-21T10:14:59.216817",
     "exception": false,
     "start_time": "2020-08-21T10:14:59.137105",
     "status": "completed"
    },
    "tags": []
   },
   "outputs": [],
   "source": [
    "model_prob = Model(layers[-2:]) ## picking only last two layers to get probability. That is affine followed by sigmoid"
   ]
  },
  {
   "cell_type": "code",
   "execution_count": 29,
   "metadata": {
    "execution": {
     "iopub.execute_input": "2020-08-21T10:14:59.329908Z",
     "iopub.status.busy": "2020-08-21T10:14:59.329253Z",
     "iopub.status.idle": "2020-08-21T10:14:59.342784Z",
     "shell.execute_reply": "2020-08-21T10:14:59.343384Z"
    },
    "papermill": {
     "duration": 0.073185,
     "end_time": "2020-08-21T10:14:59.343529",
     "exception": false,
     "start_time": "2020-08-21T10:14:59.270344",
     "status": "completed"
    },
    "tags": []
   },
   "outputs": [],
   "source": [
    "xgrid = np.linspace(-4, 1, 100) ## Adjust these values based on above chart, roughly -4 to 1\n",
    "ygrid = np.linspace(-7.5, 7.5, 100) ## Adjust these values based on above chart, roughly -7.5, 7.5\n",
    "xg, yg = np.meshgrid(xgrid, ygrid)\n",
    "# xg and yg are now both 100X100, lets convert them to single arrays \n",
    "\n",
    "xg_interim = np.ravel(xg)\n",
    "yg_interim = np.ravel(yg)\n",
    "\n",
    "## xg_interim, yg_interim are now arrays of len 10000, now we will stack them and then transpose to get desired shape of n rows, 2 columns\n",
    "\n",
    "X_interim = np.vstack((xg_interim, yg_interim)) ## Please note vstack takes in a tuple\n",
    "X = X_interim.T\n",
    "\n",
    "## We want a shape of n rows and 2 columns to be able to feed this to last affine\n",
    "## This last affine takes only two columns, hence the above transformation\n",
    "probability_contour = model_prob(X).reshape(100,100) ## to make it consistent with xg, yg"
   ]
  },
  {
   "cell_type": "code",
   "execution_count": 30,
   "metadata": {
    "execution": {
     "iopub.execute_input": "2020-08-21T10:14:59.454814Z",
     "iopub.status.busy": "2020-08-21T10:14:59.454261Z",
     "iopub.status.idle": "2020-08-21T10:14:59.707058Z",
     "shell.execute_reply": "2020-08-21T10:14:59.707483Z"
    },
    "papermill": {
     "duration": 0.314097,
     "end_time": "2020-08-21T10:14:59.707622",
     "exception": false,
     "start_time": "2020-08-21T10:14:59.393525",
     "status": "completed"
    },
    "tags": []
   },
   "outputs": [
    {
     "data": {
      "image/png": "[encoded data removed]",
      "text/plain": [
       "<Figure size 576x504 with 1 Axes>"
      ]
     },
     "metadata": {
      "needs_background": "light"
     },
     "output_type": "display_data"
    }
   ],
   "source": [
    "plt.figure(figsize=(8,7))\n",
    "plt.scatter(plot_testing[:,0], plot_testing[:,1], alpha = 0.1, c = y_test.ravel())\n",
    "contours = plt.contour(xg,yg,probability_contour)\n",
    "plt.clabel(contours, inline = True );"
   ]
  }
 ],
 "metadata": {
  "kernelspec": {
   "display_name": "Python 3",
   "language": "python",
   "name": "python3"
  },
  "language_info": {
   "codemirror_mode": {
    "name": "ipython",
    "version": 3
   },
   "file_extension": ".py",
   "mimetype": "text/x-python",
   "name": "python",
   "nbconvert_exporter": "python",
   "pygments_lexer": "ipython3",
   "version": "3.6.11"
  },
  "papermill": {
   "duration": 167.81489,
   "end_time": "2020-08-21T10:15:00.060398",
   "environment_variables": {},
   "exception": null,
   "input_path": "2020-08-07-NN-new.ipynb",
   "output_path": "2020-08-07-NN-new.ipynb",
   "parameters": {},
   "start_time": "2020-08-21T10:12:12.245508",
   "version": "2.1.2"
  }
 },
 "nbformat": 4,
 "nbformat_minor": 4
}