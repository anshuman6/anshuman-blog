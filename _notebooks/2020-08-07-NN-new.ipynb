{
 "cells": [
  {
   "cell_type": "markdown",
   "metadata": {
    "papermill": {
     "duration": 0.035651,
     "end_time": "2020-08-25T00:28:42.525769",
     "exception": false,
     "start_time": "2020-08-25T00:28:42.490118",
     "status": "completed"
    },
    "tags": []
   },
   "source": [
    "# \"Building a basic Neural Network from scratch - Kudzu\"\n",
    "\n",
    "- badges: true\n",
    "- author: Anshuman Gupta"
   ]
  },
  {
   "cell_type": "markdown",
   "metadata": {
    "papermill": {
     "duration": 0.03208,
     "end_time": "2020-08-25T00:28:42.590328",
     "exception": false,
     "start_time": "2020-08-25T00:28:42.558248",
     "status": "completed"
    },
    "tags": []
   },
   "source": [
    "#### In this project, the idea is to write a classifier to differentiate between handwritten digits 3 and 8, from the MNIST database.\n",
    "\n",
    "#### I will using a custom built neural network library called Kudzu.This has been developed as a part of KTF/Foundations course of Univ.ai (www.univ.ai). The source code for Kudzu Library and and this notebook can be found on my git-hub profile : www.https://github.com/anshuman6 under the folder project-solution. Any feedback and comments are welcome. Please feel free to email me at: anshuman6@gmail.com\n",
    "\n",
    "#### 1. I will be using the MNIST database. \n",
    "\n",
    "#### 2. I will be comparing the results of the 4 layer NN to a standard logistic regression"
   ]
  },
  {
   "cell_type": "markdown",
   "metadata": {
    "papermill": {
     "duration": 0.029833,
     "end_time": "2020-08-25T00:28:42.652276",
     "exception": false,
     "start_time": "2020-08-25T00:28:42.622443",
     "status": "completed"
    },
    "tags": []
   },
   "source": [
    "##### Importing all the necessary libraries"
   ]
  },
  {
   "cell_type": "code",
   "execution_count": 1,
   "metadata": {
    "execution": {
     "iopub.execute_input": "2020-08-25T00:28:42.718517Z",
     "iopub.status.busy": "2020-08-25T00:28:42.717748Z",
     "iopub.status.idle": "2020-08-25T00:28:42.729808Z",
     "shell.execute_reply": "2020-08-25T00:28:42.729208Z"
    },
    "papermill": {
     "duration": 0.04754,
     "end_time": "2020-08-25T00:28:42.730023",
     "exception": false,
     "start_time": "2020-08-25T00:28:42.682483",
     "status": "completed"
    },
    "tags": []
   },
   "outputs": [],
   "source": [
    "%load_ext autoreload\n",
    "%autoreload 2"
   ]
  },
  {
   "cell_type": "code",
   "execution_count": 2,
   "metadata": {
    "execution": {
     "iopub.execute_input": "2020-08-25T00:28:42.796277Z",
     "iopub.status.busy": "2020-08-25T00:28:42.795288Z",
     "iopub.status.idle": "2020-08-25T00:28:43.386774Z",
     "shell.execute_reply": "2020-08-25T00:28:43.386262Z"
    },
    "papermill": {
     "duration": 0.625276,
     "end_time": "2020-08-25T00:28:43.386917",
     "exception": false,
     "start_time": "2020-08-25T00:28:42.761641",
     "status": "completed"
    },
    "tags": []
   },
   "outputs": [],
   "source": [
    "%matplotlib inline\n",
    "import numpy as np\n",
    "import matplotlib.pyplot as plt\n",
    "import pandas as pd"
   ]
  },
  {
   "cell_type": "markdown",
   "metadata": {
    "papermill": {
     "duration": 0.03141,
     "end_time": "2020-08-25T00:28:43.450623",
     "exception": false,
     "start_time": "2020-08-25T00:28:43.419213",
     "status": "completed"
    },
    "tags": []
   },
   "source": [
    "##### The following command helps us download MNIST from notebook itself. You can skip this if you already have MNIST. You can also download it via your terminal."
   ]
  },
  {
   "cell_type": "code",
   "execution_count": 3,
   "metadata": {
    "execution": {
     "iopub.execute_input": "2020-08-25T00:28:43.519977Z",
     "iopub.status.busy": "2020-08-25T00:28:43.519132Z",
     "iopub.status.idle": "2020-08-25T00:28:45.032336Z",
     "shell.execute_reply": "2020-08-25T00:28:45.031827Z"
    },
    "papermill": {
     "duration": 1.549512,
     "end_time": "2020-08-25T00:28:45.032475",
     "exception": false,
     "start_time": "2020-08-25T00:28:43.482963",
     "status": "completed"
    },
    "tags": []
   },
   "outputs": [
    {
     "name": "stdout",
     "output_type": "stream",
     "text": [
      "Collecting mnist\r\n"
     ]
    },
    {
     "name": "stdout",
     "output_type": "stream",
     "text": [
      "  Downloading mnist-0.2.2-py2.py3-none-any.whl (3.5 kB)\r\n"
     ]
    },
    {
     "name": "stdout",
     "output_type": "stream",
     "text": [
      "Requirement already satisfied: numpy in /opt/hostedtoolcache/Python/3.6.11/x64/lib/python3.6/site-packages (from mnist) (1.19.1)\r\n"
     ]
    },
    {
     "name": "stdout",
     "output_type": "stream",
     "text": [
      "Installing collected packages: mnist\r\n"
     ]
    },
    {
     "name": "stdout",
     "output_type": "stream",
     "text": [
      "Successfully installed mnist-0.2.2\r\n"
     ]
    }
   ],
   "source": [
    "!pip install mnist # Please note, it is commented out for now, you can remove comment if you want to install it"
   ]
  },
  {
   "cell_type": "markdown",
   "metadata": {
    "papermill": {
     "duration": 0.031699,
     "end_time": "2020-08-25T00:28:45.100243",
     "exception": false,
     "start_time": "2020-08-25T00:28:45.068544",
     "status": "completed"
    },
    "tags": []
   },
   "source": [
    "#### Preparing the Data"
   ]
  },
  {
   "cell_type": "code",
   "execution_count": 4,
   "metadata": {
    "execution": {
     "iopub.execute_input": "2020-08-25T00:28:45.168165Z",
     "iopub.status.busy": "2020-08-25T00:28:45.167601Z",
     "iopub.status.idle": "2020-08-25T00:28:45.182978Z",
     "shell.execute_reply": "2020-08-25T00:28:45.182447Z"
    },
    "papermill": {
     "duration": 0.050617,
     "end_time": "2020-08-25T00:28:45.183104",
     "exception": false,
     "start_time": "2020-08-25T00:28:45.132487",
     "status": "completed"
    },
    "tags": []
   },
   "outputs": [],
   "source": [
    "import mnist"
   ]
  },
  {
   "cell_type": "code",
   "execution_count": 5,
   "metadata": {
    "execution": {
     "iopub.execute_input": "2020-08-25T00:28:45.251281Z",
     "iopub.status.busy": "2020-08-25T00:28:45.250554Z",
     "iopub.status.idle": "2020-08-25T00:28:45.994292Z",
     "shell.execute_reply": "2020-08-25T00:28:45.994748Z"
    },
    "papermill": {
     "duration": 0.780108,
     "end_time": "2020-08-25T00:28:45.994905",
     "exception": false,
     "start_time": "2020-08-25T00:28:45.214797",
     "status": "completed"
    },
    "tags": []
   },
   "outputs": [],
   "source": [
    "train_images = mnist.train_images()\n",
    "train_labels = mnist.train_labels()"
   ]
  },
  {
   "cell_type": "code",
   "execution_count": 6,
   "metadata": {
    "execution": {
     "iopub.execute_input": "2020-08-25T00:28:46.068588Z",
     "iopub.status.busy": "2020-08-25T00:28:46.068006Z",
     "iopub.status.idle": "2020-08-25T00:28:46.083645Z",
     "shell.execute_reply": "2020-08-25T00:28:46.084203Z"
    },
    "papermill": {
     "duration": 0.055642,
     "end_time": "2020-08-25T00:28:46.084350",
     "exception": false,
     "start_time": "2020-08-25T00:28:46.028708",
     "status": "completed"
    },
    "tags": []
   },
   "outputs": [
    {
     "data": {
      "text/plain": [
       "((60000, 28, 28), (60000,))"
      ]
     },
     "execution_count": 6,
     "metadata": {},
     "output_type": "execute_result"
    }
   ],
   "source": [
    "train_images.shape, train_labels.shape"
   ]
  },
  {
   "cell_type": "code",
   "execution_count": 7,
   "metadata": {
    "execution": {
     "iopub.execute_input": "2020-08-25T00:28:46.155911Z",
     "iopub.status.busy": "2020-08-25T00:28:46.155309Z",
     "iopub.status.idle": "2020-08-25T00:28:46.423413Z",
     "shell.execute_reply": "2020-08-25T00:28:46.422618Z"
    },
    "papermill": {
     "duration": 0.304349,
     "end_time": "2020-08-25T00:28:46.423590",
     "exception": false,
     "start_time": "2020-08-25T00:28:46.119241",
     "status": "completed"
    },
    "tags": []
   },
   "outputs": [],
   "source": [
    "test_images = mnist.test_images()\n",
    "test_labels = mnist.test_labels()"
   ]
  },
  {
   "cell_type": "code",
   "execution_count": 8,
   "metadata": {
    "execution": {
     "iopub.execute_input": "2020-08-25T00:28:46.497334Z",
     "iopub.status.busy": "2020-08-25T00:28:46.496530Z",
     "iopub.status.idle": "2020-08-25T00:28:46.512726Z",
     "shell.execute_reply": "2020-08-25T00:28:46.512161Z"
    },
    "papermill": {
     "duration": 0.056688,
     "end_time": "2020-08-25T00:28:46.512866",
     "exception": false,
     "start_time": "2020-08-25T00:28:46.456178",
     "status": "completed"
    },
    "tags": []
   },
   "outputs": [
    {
     "data": {
      "text/plain": [
       "((10000, 28, 28), (10000,))"
      ]
     },
     "execution_count": 8,
     "metadata": {},
     "output_type": "execute_result"
    }
   ],
   "source": [
    "test_images.shape, test_labels.shape"
   ]
  },
  {
   "cell_type": "code",
   "execution_count": 9,
   "metadata": {
    "execution": {
     "iopub.execute_input": "2020-08-25T00:28:46.586901Z",
     "iopub.status.busy": "2020-08-25T00:28:46.586254Z",
     "iopub.status.idle": "2020-08-25T00:28:46.774671Z",
     "shell.execute_reply": "2020-08-25T00:28:46.775194Z"
    },
    "papermill": {
     "duration": 0.227156,
     "end_time": "2020-08-25T00:28:46.775428",
     "exception": false,
     "start_time": "2020-08-25T00:28:46.548272",
     "status": "completed"
    },
    "tags": []
   },
   "outputs": [
    {
     "name": "stdout",
     "output_type": "stream",
     "text": [
      "2\n"
     ]
    },
    {
     "data": {
      "text/plain": [
       "<matplotlib.image.AxesImage at 0x7f388bf35080>"
      ]
     },
     "execution_count": 9,
     "metadata": {},
     "output_type": "execute_result"
    },
    {
     "data": {
      "image/png": "[encoded data removed]",
      "text/plain": [
       "<Figure size 432x288 with 1 Axes>"
      ]
     },
     "metadata": {
      "needs_background": "light"
     },
     "output_type": "display_data"
    }
   ],
   "source": [
    "image_index = 7776 # You may select anything up to 60,000\n",
    "print(train_labels[image_index]) \n",
    "plt.imshow(train_images[image_index], cmap='Greys')"
   ]
  },
  {
   "cell_type": "markdown",
   "metadata": {
    "papermill": {
     "duration": 0.035656,
     "end_time": "2020-08-25T00:28:46.847794",
     "exception": false,
     "start_time": "2020-08-25T00:28:46.812138",
     "status": "completed"
    },
    "tags": []
   },
   "source": [
    "## Filter data to get 3 and 8 out"
   ]
  },
  {
   "cell_type": "code",
   "execution_count": 10,
   "metadata": {
    "execution": {
     "iopub.execute_input": "2020-08-25T00:28:46.921938Z",
     "iopub.status.busy": "2020-08-25T00:28:46.921330Z",
     "iopub.status.idle": "2020-08-25T00:28:46.942231Z",
     "shell.execute_reply": "2020-08-25T00:28:46.941691Z"
    },
    "papermill": {
     "duration": 0.059959,
     "end_time": "2020-08-25T00:28:46.942368",
     "exception": false,
     "start_time": "2020-08-25T00:28:46.882409",
     "status": "completed"
    },
    "tags": []
   },
   "outputs": [],
   "source": [
    "train_filter = np.where((train_labels == 3 ) | (train_labels == 8))\n",
    "test_filter = np.where((test_labels == 3) | (test_labels == 8))\n",
    "X_train, y_train = train_images[train_filter], train_labels[train_filter]\n",
    "X_test, y_test = test_images[test_filter], test_labels[test_filter]"
   ]
  },
  {
   "cell_type": "markdown",
   "metadata": {
    "papermill": {
     "duration": 0.033762,
     "end_time": "2020-08-25T00:28:47.010076",
     "exception": false,
     "start_time": "2020-08-25T00:28:46.976314",
     "status": "completed"
    },
    "tags": []
   },
   "source": [
    "##### We normalize the pizel values in the 0 to 1 range"
   ]
  },
  {
   "cell_type": "code",
   "execution_count": 11,
   "metadata": {
    "execution": {
     "iopub.execute_input": "2020-08-25T00:28:47.082968Z",
     "iopub.status.busy": "2020-08-25T00:28:47.082383Z",
     "iopub.status.idle": "2020-08-25T00:28:47.147464Z",
     "shell.execute_reply": "2020-08-25T00:28:47.146822Z"
    },
    "papermill": {
     "duration": 0.10342,
     "end_time": "2020-08-25T00:28:47.147641",
     "exception": false,
     "start_time": "2020-08-25T00:28:47.044221",
     "status": "completed"
    },
    "tags": []
   },
   "outputs": [],
   "source": [
    "X_train = X_train/255.\n",
    "X_test = X_test/255."
   ]
  },
  {
   "cell_type": "markdown",
   "metadata": {
    "papermill": {
     "duration": 0.032179,
     "end_time": "2020-08-25T00:28:47.214385",
     "exception": false,
     "start_time": "2020-08-25T00:28:47.182206",
     "status": "completed"
    },
    "tags": []
   },
   "source": [
    "And setup the labels as 1 (when the digit is 3) and 0 (when the digit is 8)"
   ]
  },
  {
   "cell_type": "code",
   "execution_count": 12,
   "metadata": {
    "execution": {
     "iopub.execute_input": "2020-08-25T00:28:47.285348Z",
     "iopub.status.busy": "2020-08-25T00:28:47.284719Z",
     "iopub.status.idle": "2020-08-25T00:28:47.299027Z",
     "shell.execute_reply": "2020-08-25T00:28:47.298497Z"
    },
    "papermill": {
     "duration": 0.051117,
     "end_time": "2020-08-25T00:28:47.299157",
     "exception": false,
     "start_time": "2020-08-25T00:28:47.248040",
     "status": "completed"
    },
    "tags": []
   },
   "outputs": [],
   "source": [
    "y_train = 1*(y_train==3)\n",
    "y_test = 1*(y_test==3)"
   ]
  },
  {
   "cell_type": "code",
   "execution_count": 13,
   "metadata": {
    "execution": {
     "iopub.execute_input": "2020-08-25T00:28:47.370712Z",
     "iopub.status.busy": "2020-08-25T00:28:47.370136Z",
     "iopub.status.idle": "2020-08-25T00:28:47.385760Z",
     "shell.execute_reply": "2020-08-25T00:28:47.385201Z"
    },
    "papermill": {
     "duration": 0.052846,
     "end_time": "2020-08-25T00:28:47.385927",
     "exception": false,
     "start_time": "2020-08-25T00:28:47.333081",
     "status": "completed"
    },
    "tags": []
   },
   "outputs": [
    {
     "data": {
      "text/plain": [
       "((11982, 28, 28), (1984, 28, 28))"
      ]
     },
     "execution_count": 13,
     "metadata": {},
     "output_type": "execute_result"
    }
   ],
   "source": [
    "X_train.shape, X_test.shape"
   ]
  },
  {
   "cell_type": "markdown",
   "metadata": {
    "papermill": {
     "duration": 0.033396,
     "end_time": "2020-08-25T00:28:47.451958",
     "exception": false,
     "start_time": "2020-08-25T00:28:47.418562",
     "status": "completed"
    },
    "tags": []
   },
   "source": [
    "##### We reshape the data to flatten the image pixels into a set of features or co-variates:"
   ]
  },
  {
   "cell_type": "code",
   "execution_count": 14,
   "metadata": {
    "execution": {
     "iopub.execute_input": "2020-08-25T00:28:47.521603Z",
     "iopub.status.busy": "2020-08-25T00:28:47.521056Z",
     "iopub.status.idle": "2020-08-25T00:28:47.536036Z",
     "shell.execute_reply": "2020-08-25T00:28:47.535563Z"
    },
    "papermill": {
     "duration": 0.052041,
     "end_time": "2020-08-25T00:28:47.536153",
     "exception": false,
     "start_time": "2020-08-25T00:28:47.484112",
     "status": "completed"
    },
    "tags": []
   },
   "outputs": [
    {
     "data": {
      "text/plain": [
       "((11982, 784), (1984, 784))"
      ]
     },
     "execution_count": 14,
     "metadata": {},
     "output_type": "execute_result"
    }
   ],
   "source": [
    "X_train = X_train.reshape(X_train.shape[0], -1)\n",
    "X_test = X_test.reshape(X_test.shape[0], -1)\n",
    "X_train.shape, X_test.shape"
   ]
  },
  {
   "cell_type": "markdown",
   "metadata": {
    "papermill": {
     "duration": 0.040813,
     "end_time": "2020-08-25T00:28:47.612537",
     "exception": false,
     "start_time": "2020-08-25T00:28:47.571724",
     "status": "completed"
    },
    "tags": []
   },
   "source": [
    "##### Importing Kudzu library and its functionality"
   ]
  },
  {
   "cell_type": "code",
   "execution_count": 15,
   "metadata": {
    "execution": {
     "iopub.execute_input": "2020-08-25T00:28:47.681810Z",
     "iopub.status.busy": "2020-08-25T00:28:47.681036Z",
     "iopub.status.idle": "2020-08-25T00:28:47.701085Z",
     "shell.execute_reply": "2020-08-25T00:28:47.701621Z"
    },
    "papermill": {
     "duration": 0.057993,
     "end_time": "2020-08-25T00:28:47.701792",
     "exception": false,
     "start_time": "2020-08-25T00:28:47.643799",
     "status": "completed"
    },
    "tags": []
   },
   "outputs": [],
   "source": [
    "from kudzu.data import Data, Dataloader, Sampler\n",
    "from kudzu.callbacks import AccCallback\n",
    "from kudzu.loss import MSE\n",
    "from kudzu.layer import Affine, Sigmoid\n",
    "from kudzu.model import Model\n",
    "from kudzu.optim import GD\n",
    "from kudzu.train import Learner\n",
    "from kudzu.callbacks import ClfCallback\n",
    "from kudzu.layer import Sigmoid\n",
    "from kudzu.layer import Relu"
   ]
  },
  {
   "cell_type": "markdown",
   "metadata": {
    "papermill": {
     "duration": 0.033864,
     "end_time": "2020-08-25T00:28:47.770999",
     "exception": false,
     "start_time": "2020-08-25T00:28:47.737135",
     "status": "completed"
    },
    "tags": []
   },
   "source": [
    "##### We are creating a class, just so that we can use it to store our parameters for us"
   ]
  },
  {
   "cell_type": "code",
   "execution_count": 16,
   "metadata": {
    "execution": {
     "iopub.execute_input": "2020-08-25T00:28:47.844198Z",
     "iopub.status.busy": "2020-08-25T00:28:47.843595Z",
     "iopub.status.idle": "2020-08-25T00:28:47.857560Z",
     "shell.execute_reply": "2020-08-25T00:28:47.858028Z"
    },
    "papermill": {
     "duration": 0.052641,
     "end_time": "2020-08-25T00:28:47.858167",
     "exception": false,
     "start_time": "2020-08-25T00:28:47.805526",
     "status": "completed"
    },
    "tags": []
   },
   "outputs": [],
   "source": [
    "class Config:\n",
    "    pass\n",
    "config = Config()\n",
    "config.lr = 0.001\n",
    "config.num_epochs = 250\n",
    "config.bs = 50"
   ]
  },
  {
   "cell_type": "markdown",
   "metadata": {
    "papermill": {
     "duration": 0.03361,
     "end_time": "2020-08-25T00:28:47.925041",
     "exception": false,
     "start_time": "2020-08-25T00:28:47.891431",
     "status": "completed"
    },
    "tags": []
   },
   "source": [
    "##### Initializing Data"
   ]
  },
  {
   "cell_type": "code",
   "execution_count": 17,
   "metadata": {
    "execution": {
     "iopub.execute_input": "2020-08-25T00:28:47.998961Z",
     "iopub.status.busy": "2020-08-25T00:28:47.998142Z",
     "iopub.status.idle": "2020-08-25T00:28:48.011091Z",
     "shell.execute_reply": "2020-08-25T00:28:48.011648Z"
    },
    "papermill": {
     "duration": 0.053078,
     "end_time": "2020-08-25T00:28:48.011781",
     "exception": false,
     "start_time": "2020-08-25T00:28:47.958703",
     "status": "completed"
    },
    "tags": []
   },
   "outputs": [],
   "source": [
    "data = Data(X_train, y_train.reshape(-1,1))\n",
    "loss = MSE()\n",
    "opt = GD(config.lr)\n",
    "sampler = Sampler(data, config.bs, shuffle=True)\n",
    "dl = Dataloader(data, sampler)"
   ]
  },
  {
   "cell_type": "markdown",
   "metadata": {
    "papermill": {
     "duration": 0.036872,
     "end_time": "2020-08-25T00:28:48.082968",
     "exception": false,
     "start_time": "2020-08-25T00:28:48.046096",
     "status": "completed"
    },
    "tags": []
   },
   "source": [
    "##### Constructing 2 different layers, one for NN and one only for logistic regression."
   ]
  },
  {
   "cell_type": "markdown",
   "metadata": {
    "papermill": {
     "duration": 0.033219,
     "end_time": "2020-08-25T00:28:48.148451",
     "exception": false,
     "start_time": "2020-08-25T00:28:48.115232",
     "status": "completed"
    },
    "tags": []
   },
   "source": [
    "##### Creating containers for data to be passed, to calculate accuracies"
   ]
  },
  {
   "cell_type": "code",
   "execution_count": 18,
   "metadata": {
    "execution": {
     "iopub.execute_input": "2020-08-25T00:28:48.224052Z",
     "iopub.status.busy": "2020-08-25T00:28:48.223265Z",
     "iopub.status.idle": "2020-08-25T00:28:48.237251Z",
     "shell.execute_reply": "2020-08-25T00:28:48.236632Z"
    },
    "papermill": {
     "duration": 0.054456,
     "end_time": "2020-08-25T00:28:48.237399",
     "exception": false,
     "start_time": "2020-08-25T00:28:48.182943",
     "status": "completed"
    },
    "tags": []
   },
   "outputs": [],
   "source": [
    "training_xdata = X_train\n",
    "testing_xdata = X_test\n",
    "training_ydata = y_train.reshape(-1,1)\n",
    "testing_ydata = y_test.reshape(-1,1)"
   ]
  },
  {
   "cell_type": "markdown",
   "metadata": {
    "papermill": {
     "duration": 0.034387,
     "end_time": "2020-08-25T00:28:48.306404",
     "exception": false,
     "start_time": "2020-08-25T00:28:48.272017",
     "status": "completed"
    },
    "tags": []
   },
   "source": [
    "##### Initializing models and Running training loop: "
   ]
  },
  {
   "cell_type": "code",
   "execution_count": 19,
   "metadata": {
    "execution": {
     "iopub.execute_input": "2020-08-25T00:28:48.380586Z",
     "iopub.status.busy": "2020-08-25T00:28:48.379915Z",
     "iopub.status.idle": "2020-08-25T00:28:48.398191Z",
     "shell.execute_reply": "2020-08-25T00:28:48.398896Z"
    },
    "papermill": {
     "duration": 0.059086,
     "end_time": "2020-08-25T00:28:48.399055",
     "exception": false,
     "start_time": "2020-08-25T00:28:48.339969",
     "status": "completed"
    },
    "tags": []
   },
   "outputs": [],
   "source": [
    "layers = [Affine(\"first\", 784, 100), Relu(\"first\"), Affine(\"second\", 100, 100), Relu(\"second\"), Affine(\"third\", 100, 2), Affine(\"final\", 2, 1), Sigmoid(\"final\")]\n",
    "\n",
    "model_neural = Model(layers)\n",
    "model_logistic = Model([Affine(\"logits\", 784, 1), Sigmoid(\"sigmoid\")])"
   ]
  },
  {
   "cell_type": "code",
   "execution_count": 20,
   "metadata": {
    "execution": {
     "iopub.execute_input": "2020-08-25T00:28:48.471820Z",
     "iopub.status.busy": "2020-08-25T00:28:48.471124Z",
     "iopub.status.idle": "2020-08-25T00:28:48.482717Z",
     "shell.execute_reply": "2020-08-25T00:28:48.483225Z"
    },
    "papermill": {
     "duration": 0.050628,
     "end_time": "2020-08-25T00:28:48.483355",
     "exception": false,
     "start_time": "2020-08-25T00:28:48.432727",
     "status": "completed"
    },
    "tags": []
   },
   "outputs": [],
   "source": [
    "learner1 = Learner(loss, model_neural, opt, config.num_epochs)\n",
    "acc1 = ClfCallback(learner1, config.bs, training_xdata , testing_xdata, training_ydata, testing_ydata)\n",
    "learner1.set_callbacks([acc1])"
   ]
  },
  {
   "cell_type": "code",
   "execution_count": 21,
   "metadata": {
    "execution": {
     "iopub.execute_input": "2020-08-25T00:28:48.559056Z",
     "iopub.status.busy": "2020-08-25T00:28:48.558339Z",
     "iopub.status.idle": "2020-08-25T00:31:12.325505Z",
     "shell.execute_reply": "2020-08-25T00:31:12.326499Z"
    },
    "papermill": {
     "duration": 143.806492,
     "end_time": "2020-08-25T00:31:12.326670",
     "exception": false,
     "start_time": "2020-08-25T00:28:48.520178",
     "status": "completed"
    },
    "tags": []
   },
   "outputs": [
    {
     "name": "stdout",
     "output_type": "stream",
     "text": [
      "Epoch 0 Loss 0.22977576554030624\n",
      "train accuracy is: 0.7766649974962444, test accuracy is 0.7923387096774194\n"
     ]
    },
    {
     "name": "stdout",
     "output_type": "stream",
     "text": [
      "Epoch 10 Loss 0.0525244705506551\n",
      "train accuracy is: 0.9473376731764314, test accuracy is 0.9576612903225806\n"
     ]
    },
    {
     "name": "stdout",
     "output_type": "stream",
     "text": [
      "Epoch 20 Loss 0.03779104962197224\n",
      "train accuracy is: 0.9595226172592222, test accuracy is 0.9627016129032258\n"
     ]
    },
    {
     "name": "stdout",
     "output_type": "stream",
     "text": [
      "Epoch 30 Loss 0.03225272768449807\n",
      "train accuracy is: 0.9651143381739276, test accuracy is 0.9647177419354839\n"
     ]
    },
    {
     "name": "stdout",
     "output_type": "stream",
     "text": [
      "Epoch 40 Loss 0.029089953056230806\n",
      "train accuracy is: 0.9670338841595727, test accuracy is 0.9672379032258065\n"
     ]
    },
    {
     "name": "stdout",
     "output_type": "stream",
     "text": [
      "Epoch 50 Loss 0.02696106965691513\n",
      "train accuracy is: 0.9691203471874479, test accuracy is 0.967741935483871\n"
     ]
    },
    {
     "name": "stdout",
     "output_type": "stream",
     "text": [
      "Epoch 60 Loss 0.02535561779492863\n",
      "train accuracy is: 0.9711233516942079, test accuracy is 0.967741935483871\n"
     ]
    },
    {
     "name": "stdout",
     "output_type": "stream",
     "text": [
      "Epoch 70 Loss 0.024075302042421854\n",
      "train accuracy is: 0.9729594391587381, test accuracy is 0.9692540322580645\n"
     ]
    },
    {
     "name": "stdout",
     "output_type": "stream",
     "text": [
      "Epoch 80 Loss 0.022979327216229545\n",
      "train accuracy is: 0.9743782340176932, test accuracy is 0.9712701612903226\n"
     ]
    },
    {
     "name": "stdout",
     "output_type": "stream",
     "text": [
      "Epoch 90 Loss 0.021987395801918365\n",
      "train accuracy is: 0.9751293607077283, test accuracy is 0.9727822580645161\n"
     ]
    },
    {
     "name": "stdout",
     "output_type": "stream",
     "text": [
      "Epoch 100 Loss 0.021136778341133654\n",
      "train accuracy is: 0.9758804873977633, test accuracy is 0.9732862903225806\n"
     ]
    },
    {
     "name": "stdout",
     "output_type": "stream",
     "text": [
      "Epoch 110 Loss 0.020345496688691782\n",
      "train accuracy is: 0.9766316140877984, test accuracy is 0.9737903225806451\n"
     ]
    },
    {
     "name": "stdout",
     "output_type": "stream",
     "text": [
      "Epoch 120 Loss 0.019626066564573795\n",
      "train accuracy is: 0.9780504089467534, test accuracy is 0.9747983870967742\n"
     ]
    },
    {
     "name": "stdout",
     "output_type": "stream",
     "text": [
      "Epoch 130 Loss 0.018938825663910093\n",
      "train accuracy is: 0.9792188282423635, test accuracy is 0.9747983870967742\n"
     ]
    },
    {
     "name": "stdout",
     "output_type": "stream",
     "text": [
      "Epoch 140 Loss 0.018274905109912375\n",
      "train accuracy is: 0.9800534134535136, test accuracy is 0.9747983870967742\n"
     ]
    },
    {
     "name": "stdout",
     "output_type": "stream",
     "text": [
      "Epoch 150 Loss 0.017647311617591588\n",
      "train accuracy is: 0.9808879986646637, test accuracy is 0.9753024193548387\n"
     ]
    },
    {
     "name": "stdout",
     "output_type": "stream",
     "text": [
      "Epoch 160 Loss 0.01705387437501825\n",
      "train accuracy is: 0.9812218327491237, test accuracy is 0.9753024193548387\n"
     ]
    },
    {
     "name": "stdout",
     "output_type": "stream",
     "text": [
      "Epoch 170 Loss 0.016491562850612252\n",
      "train accuracy is: 0.9821398764813888, test accuracy is 0.9758064516129032\n"
     ]
    },
    {
     "name": "stdout",
     "output_type": "stream",
     "text": [
      "Epoch 180 Loss 0.015942022314197606\n",
      "train accuracy is: 0.9826406276080788, test accuracy is 0.9758064516129032\n"
     ]
    },
    {
     "name": "stdout",
     "output_type": "stream",
     "text": [
      "Epoch 190 Loss 0.015426346231884276\n",
      "train accuracy is: 0.9837255883825738, test accuracy is 0.9758064516129032\n"
     ]
    },
    {
     "name": "stdout",
     "output_type": "stream",
     "text": [
      "Epoch 200 Loss 0.014922672593058586\n",
      "train accuracy is: 0.9843932565514939, test accuracy is 0.9763104838709677\n"
     ]
    },
    {
     "name": "stdout",
     "output_type": "stream",
     "text": [
      "Epoch 210 Loss 0.014444437967070093\n",
      "train accuracy is: 0.985060924720414, test accuracy is 0.9778225806451613\n"
     ]
    },
    {
     "name": "stdout",
     "output_type": "stream",
     "text": [
      "Epoch 220 Loss 0.013999472218403353\n",
      "train accuracy is: 0.986145885494909, test accuracy is 0.9793346774193549\n"
     ]
    },
    {
     "name": "stdout",
     "output_type": "stream",
     "text": [
      "Epoch 230 Loss 0.013567128066030824\n",
      "train accuracy is: 0.986646636621599, test accuracy is 0.9798387096774194\n"
     ]
    },
    {
     "name": "stdout",
     "output_type": "stream",
     "text": [
      "Epoch 240 Loss 0.01316325946931776\n",
      "train accuracy is: 0.9871473877482891, test accuracy is 0.9793346774193549\n"
     ]
    },
    {
     "data": {
      "text/plain": [
       "0.0022809375132155393"
      ]
     },
     "execution_count": 21,
     "metadata": {},
     "output_type": "execute_result"
    }
   ],
   "source": [
    "learner1.train_loop(dl)"
   ]
  },
  {
   "cell_type": "markdown",
   "metadata": {
    "papermill": {
     "duration": 0.046176,
     "end_time": "2020-08-25T00:31:12.418221",
     "exception": false,
     "start_time": "2020-08-25T00:31:12.372045",
     "status": "completed"
    },
    "tags": []
   },
   "source": [
    "##### Now running only the logistic regression based classification to compare results with NN"
   ]
  },
  {
   "cell_type": "code",
   "execution_count": 22,
   "metadata": {
    "execution": {
     "iopub.execute_input": "2020-08-25T00:31:12.519096Z",
     "iopub.status.busy": "2020-08-25T00:31:12.518497Z",
     "iopub.status.idle": "2020-08-25T00:31:12.527107Z",
     "shell.execute_reply": "2020-08-25T00:31:12.526197Z"
    },
    "papermill": {
     "duration": 0.062366,
     "end_time": "2020-08-25T00:31:12.527238",
     "exception": false,
     "start_time": "2020-08-25T00:31:12.464872",
     "status": "completed"
    },
    "tags": []
   },
   "outputs": [],
   "source": [
    "learner2 = Learner(loss, model_logistic, opt, config.num_epochs)\n",
    "acc2 = ClfCallback(learner2, config.bs, training_xdata , testing_xdata, training_ydata, testing_ydata)\n",
    "learner2.set_callbacks([acc2])"
   ]
  },
  {
   "cell_type": "code",
   "execution_count": 23,
   "metadata": {
    "execution": {
     "iopub.execute_input": "2020-08-25T00:31:12.625485Z",
     "iopub.status.busy": "2020-08-25T00:31:12.624661Z",
     "iopub.status.idle": "2020-08-25T00:31:33.444862Z",
     "shell.execute_reply": "2020-08-25T00:31:33.445688Z"
    },
    "papermill": {
     "duration": 20.872274,
     "end_time": "2020-08-25T00:31:33.445911",
     "exception": false,
     "start_time": "2020-08-25T00:31:12.573637",
     "status": "completed"
    },
    "tags": []
   },
   "outputs": [
    {
     "name": "stdout",
     "output_type": "stream",
     "text": [
      "Epoch 0 Loss 0.23324262677506433\n",
      "train accuracy is: 0.7415289601068269, test accuracy is 0.7394153225806451\n"
     ]
    },
    {
     "name": "stdout",
     "output_type": "stream",
     "text": [
      "Epoch 10 Loss 0.10292372203551338\n",
      "train accuracy is: 0.9051911200133533, test accuracy is 0.9122983870967742\n"
     ]
    },
    {
     "name": "stdout",
     "output_type": "stream",
     "text": [
      "Epoch 20 Loss 0.0793143700982995\n",
      "train accuracy is: 0.9261392088132199, test accuracy is 0.9349798387096774\n"
     ]
    },
    {
     "name": "stdout",
     "output_type": "stream",
     "text": [
      "Epoch 30 Loss 0.06831263575000814\n",
      "train accuracy is: 0.9346519779669504, test accuracy is 0.9455645161290323\n"
     ]
    },
    {
     "name": "stdout",
     "output_type": "stream",
     "text": [
      "Epoch 40 Loss 0.061687761012456224\n",
      "train accuracy is: 0.9404940744450009, test accuracy is 0.952116935483871\n"
     ]
    },
    {
     "name": "stdout",
     "output_type": "stream",
     "text": [
      "Epoch 50 Loss 0.057174669811108914\n",
      "train accuracy is: 0.9450842931063261, test accuracy is 0.953125\n"
     ]
    },
    {
     "name": "stdout",
     "output_type": "stream",
     "text": [
      "Epoch 60 Loss 0.05386287513548721\n",
      "train accuracy is: 0.9476715072608913, test accuracy is 0.9546370967741935\n"
     ]
    },
    {
     "name": "stdout",
     "output_type": "stream",
     "text": [
      "Epoch 70 Loss 0.05130671348977792\n",
      "train accuracy is: 0.9491737606409615, test accuracy is 0.9571572580645161\n"
     ]
    },
    {
     "name": "stdout",
     "output_type": "stream",
     "text": [
      "Epoch 80 Loss 0.04926004696987054\n",
      "train accuracy is: 0.9505925554999165, test accuracy is 0.9586693548387096\n"
     ]
    },
    {
     "name": "stdout",
     "output_type": "stream",
     "text": [
      "Epoch 90 Loss 0.047574420495538616\n",
      "train accuracy is: 0.9515105992321816, test accuracy is 0.9596774193548387\n"
     ]
    },
    {
     "name": "stdout",
     "output_type": "stream",
     "text": [
      "Epoch 100 Loss 0.04615552116400194\n",
      "train accuracy is: 0.9530963111333667, test accuracy is 0.9611895161290323\n"
     ]
    },
    {
     "name": "stdout",
     "output_type": "stream",
     "text": [
      "Epoch 110 Loss 0.04493970065546889\n",
      "train accuracy is: 0.9540143548656318, test accuracy is 0.9632056451612904\n"
     ]
    },
    {
     "name": "stdout",
     "output_type": "stream",
     "text": [
      "Epoch 120 Loss 0.04388262723811436\n",
      "train accuracy is: 0.9547654815556669, test accuracy is 0.9647177419354839\n"
     ]
    },
    {
     "name": "stdout",
     "output_type": "stream",
     "text": [
      "Epoch 130 Loss 0.04295095494823825\n",
      "train accuracy is: 0.9554331497245869, test accuracy is 0.9642137096774194\n"
     ]
    },
    {
     "name": "stdout",
     "output_type": "stream",
     "text": [
      "Epoch 140 Loss 0.04212314646801945\n",
      "train accuracy is: 0.956518110499082, test accuracy is 0.9642137096774194\n"
     ]
    },
    {
     "name": "stdout",
     "output_type": "stream",
     "text": [
      "Epoch 150 Loss 0.0413802229998967\n",
      "train accuracy is: 0.957018861625772, test accuracy is 0.9647177419354839\n"
     ]
    },
    {
     "name": "stdout",
     "output_type": "stream",
     "text": [
      "Epoch 160 Loss 0.04070844403063737\n",
      "train accuracy is: 0.957519612752462, test accuracy is 0.9652217741935484\n"
     ]
    },
    {
     "name": "stdout",
     "output_type": "stream",
     "text": [
      "Epoch 170 Loss 0.0400976063534207\n",
      "train accuracy is: 0.957519612752462, test accuracy is 0.9657258064516129\n"
     ]
    },
    {
     "name": "stdout",
     "output_type": "stream",
     "text": [
      "Epoch 180 Loss 0.03953825912104454\n",
      "train accuracy is: 0.9579369053580371, test accuracy is 0.9657258064516129\n"
     ]
    },
    {
     "name": "stdout",
     "output_type": "stream",
     "text": [
      "Epoch 190 Loss 0.039024646486009326\n",
      "train accuracy is: 0.9584376564847271, test accuracy is 0.9657258064516129\n"
     ]
    },
    {
     "name": "stdout",
     "output_type": "stream",
     "text": [
      "Epoch 200 Loss 0.038548724581860205\n",
      "train accuracy is: 0.9591053246536472, test accuracy is 0.9662298387096774\n"
     ]
    },
    {
     "name": "stdout",
     "output_type": "stream",
     "text": [
      "Epoch 210 Loss 0.03810707990886602\n",
      "train accuracy is: 0.9596060757803372, test accuracy is 0.9662298387096774\n"
     ]
    },
    {
     "name": "stdout",
     "output_type": "stream",
     "text": [
      "Epoch 220 Loss 0.03769554710848705\n",
      "train accuracy is: 0.9597729928225672, test accuracy is 0.9662298387096774\n"
     ]
    },
    {
     "name": "stdout",
     "output_type": "stream",
     "text": [
      "Epoch 230 Loss 0.03731077330695981\n",
      "train accuracy is: 0.9603572024703723, test accuracy is 0.9662298387096774\n"
     ]
    },
    {
     "name": "stdout",
     "output_type": "stream",
     "text": [
      "Epoch 240 Loss 0.03694993840575334\n",
      "train accuracy is: 0.9607744950759473, test accuracy is 0.9662298387096774\n"
     ]
    },
    {
     "data": {
      "text/plain": [
       "0.010606273267438971"
      ]
     },
     "execution_count": 23,
     "metadata": {},
     "output_type": "execute_result"
    }
   ],
   "source": [
    "learner2.train_loop(dl)"
   ]
  },
  {
   "cell_type": "markdown",
   "metadata": {
    "papermill": {
     "duration": 0.056537,
     "end_time": "2020-08-25T00:31:33.558963",
     "exception": false,
     "start_time": "2020-08-25T00:31:33.502426",
     "status": "completed"
    },
    "tags": []
   },
   "source": [
    "### Comparing results of NN and LR"
   ]
  },
  {
   "cell_type": "code",
   "execution_count": 24,
   "metadata": {
    "execution": {
     "iopub.execute_input": "2020-08-25T00:31:33.671898Z",
     "iopub.status.busy": "2020-08-25T00:31:33.671128Z",
     "iopub.status.idle": "2020-08-25T00:31:33.933570Z",
     "shell.execute_reply": "2020-08-25T00:31:33.934087Z"
    },
    "papermill": {
     "duration": 0.320945,
     "end_time": "2020-08-25T00:31:33.934244",
     "exception": false,
     "start_time": "2020-08-25T00:31:33.613299",
     "status": "completed"
    },
    "tags": []
   },
   "outputs": [
    {
     "data": {
      "text/plain": [
       "<matplotlib.legend.Legend at 0x7f388bb087b8>"
      ]
     },
     "execution_count": 24,
     "metadata": {},
     "output_type": "execute_result"
    },
    {
     "data": {
      "image/png": "[encoded data removed]",
      "text/plain": [
       "<Figure size 576x360 with 1 Axes>"
      ]
     },
     "metadata": {
      "needs_background": "light"
     },
     "output_type": "display_data"
    }
   ],
   "source": [
    "plt.figure(figsize=(8,5))\n",
    "plt.plot(acc1.val_accuracies, 'g-', label = \"Val Accuracies - NN\")\n",
    "plt.plot(acc1.accuracies, 'r-', label = \"Accuracies - NN\")\n",
    "plt.plot(acc2.val_accuracies, 'b-', label = \"Val Accuracies - Logistic Reg\")\n",
    "plt.plot(acc2.accuracies, 'k-', label = \"Accuracies - Logistic Reg\")\n",
    "plt.ylim(0.8,1) ## for a more spread out view\n",
    "plt.legend()"
   ]
  },
  {
   "cell_type": "markdown",
   "metadata": {
    "papermill": {
     "duration": 0.051484,
     "end_time": "2020-08-25T00:31:34.037820",
     "exception": false,
     "start_time": "2020-08-25T00:31:33.986336",
     "status": "completed"
    },
    "tags": []
   },
   "source": [
    "### Clearly NN has a better accuracy over LR; NN is overfitting - Validation accuracy (green) has dropped below training accuracy (orange), also they are diverging. This problem is not seen in LR"
   ]
  },
  {
   "cell_type": "markdown",
   "metadata": {
    "papermill": {
     "duration": 0.053747,
     "end_time": "2020-08-25T00:31:34.147883",
     "exception": false,
     "start_time": "2020-08-25T00:31:34.094136",
     "status": "completed"
    },
    "tags": []
   },
   "source": [
    "##### Now we will be moving through the network, till the output of the second last affine where we get a 2 dimensional output. We will be plotting this 2d output and probability contours"
   ]
  },
  {
   "cell_type": "code",
   "execution_count": 25,
   "metadata": {
    "execution": {
     "iopub.execute_input": "2020-08-25T00:31:34.268927Z",
     "iopub.status.busy": "2020-08-25T00:31:34.268290Z",
     "iopub.status.idle": "2020-08-25T00:31:34.279102Z",
     "shell.execute_reply": "2020-08-25T00:31:34.278549Z"
    },
    "papermill": {
     "duration": 0.076058,
     "end_time": "2020-08-25T00:31:34.279238",
     "exception": false,
     "start_time": "2020-08-25T00:31:34.203180",
     "status": "completed"
    },
    "tags": []
   },
   "outputs": [],
   "source": [
    "model_new = Model(layers[:-2])"
   ]
  },
  {
   "cell_type": "code",
   "execution_count": 26,
   "metadata": {
    "execution": {
     "iopub.execute_input": "2020-08-25T00:31:34.389103Z",
     "iopub.status.busy": "2020-08-25T00:31:34.388396Z",
     "iopub.status.idle": "2020-08-25T00:31:34.418126Z",
     "shell.execute_reply": "2020-08-25T00:31:34.418921Z"
    },
    "papermill": {
     "duration": 0.087439,
     "end_time": "2020-08-25T00:31:34.419241",
     "exception": false,
     "start_time": "2020-08-25T00:31:34.331802",
     "status": "completed"
    },
    "tags": []
   },
   "outputs": [],
   "source": [
    "plot_testing = model_new(testing_xdata)"
   ]
  },
  {
   "cell_type": "markdown",
   "metadata": {
    "papermill": {
     "duration": 0.074143,
     "end_time": "2020-08-25T00:31:34.547389",
     "exception": false,
     "start_time": "2020-08-25T00:31:34.473246",
     "status": "completed"
    },
    "tags": []
   },
   "source": [
    "##### Plotting the scatter plot of points and color coding by class"
   ]
  },
  {
   "cell_type": "code",
   "execution_count": 27,
   "metadata": {
    "execution": {
     "iopub.execute_input": "2020-08-25T00:31:34.656292Z",
     "iopub.status.busy": "2020-08-25T00:31:34.655576Z",
     "iopub.status.idle": "2020-08-25T00:31:34.892295Z",
     "shell.execute_reply": "2020-08-25T00:31:34.892831Z"
    },
    "papermill": {
     "duration": 0.293082,
     "end_time": "2020-08-25T00:31:34.892999",
     "exception": false,
     "start_time": "2020-08-25T00:31:34.599917",
     "status": "completed"
    },
    "tags": []
   },
   "outputs": [
    {
     "data": {
      "image/png": "[encoded data removed]",
      "text/plain": [
       "<Figure size 576x504 with 1 Axes>"
      ]
     },
     "metadata": {
      "needs_background": "light"
     },
     "output_type": "display_data"
    }
   ],
   "source": [
    "plt.figure(figsize=(8,7))\n",
    "plt.scatter(plot_testing[:,0], plot_testing[:,1], alpha = 0.1, c = y_test.ravel());"
   ]
  },
  {
   "cell_type": "markdown",
   "metadata": {
    "papermill": {
     "duration": 0.057004,
     "end_time": "2020-08-25T00:31:35.003739",
     "exception": false,
     "start_time": "2020-08-25T00:31:34.946735",
     "status": "completed"
    },
    "tags": []
   },
   "source": [
    "##### Plotting probability contours"
   ]
  },
  {
   "cell_type": "code",
   "execution_count": 28,
   "metadata": {
    "execution": {
     "iopub.execute_input": "2020-08-25T00:31:35.119337Z",
     "iopub.status.busy": "2020-08-25T00:31:35.118788Z",
     "iopub.status.idle": "2020-08-25T00:31:35.132667Z",
     "shell.execute_reply": "2020-08-25T00:31:35.133258Z"
    },
    "papermill": {
     "duration": 0.072353,
     "end_time": "2020-08-25T00:31:35.133419",
     "exception": false,
     "start_time": "2020-08-25T00:31:35.061066",
     "status": "completed"
    },
    "tags": []
   },
   "outputs": [],
   "source": [
    "model_prob = Model(layers[-2:]) ## picking only last two layers to get probability. That is affine followed by sigmoid"
   ]
  },
  {
   "cell_type": "code",
   "execution_count": 29,
   "metadata": {
    "execution": {
     "iopub.execute_input": "2020-08-25T00:31:35.253127Z",
     "iopub.status.busy": "2020-08-25T00:31:35.252353Z",
     "iopub.status.idle": "2020-08-25T00:31:35.268573Z",
     "shell.execute_reply": "2020-08-25T00:31:35.269271Z"
    },
    "papermill": {
     "duration": 0.080533,
     "end_time": "2020-08-25T00:31:35.269452",
     "exception": false,
     "start_time": "2020-08-25T00:31:35.188919",
     "status": "completed"
    },
    "tags": []
   },
   "outputs": [],
   "source": [
    "xgrid = np.linspace(-4, 1, 100) ## Adjust these values based on above chart, roughly -4 to 1\n",
    "ygrid = np.linspace(-7.5, 7.5, 100) ## Adjust these values based on above chart, roughly -7.5, 7.5\n",
    "xg, yg = np.meshgrid(xgrid, ygrid)\n",
    "# xg and yg are now both 100X100, lets convert them to single arrays \n",
    "\n",
    "xg_interim = np.ravel(xg)\n",
    "yg_interim = np.ravel(yg)\n",
    "\n",
    "## xg_interim, yg_interim are now arrays of len 10000, now we will stack them and then transpose to get desired shape of n rows, 2 columns\n",
    "\n",
    "X_interim = np.vstack((xg_interim, yg_interim)) ## Please note vstack takes in a tuple\n",
    "X = X_interim.T\n",
    "\n",
    "## We want a shape of n rows and 2 columns to be able to feed this to last affine\n",
    "## This last affine takes only two columns, hence the above transformation\n",
    "probability_contour = model_prob(X).reshape(100,100) ## to make it consistent with xg, yg"
   ]
  },
  {
   "cell_type": "code",
   "execution_count": 30,
   "metadata": {
    "execution": {
     "iopub.execute_input": "2020-08-25T00:31:35.399024Z",
     "iopub.status.busy": "2020-08-25T00:31:35.398390Z",
     "iopub.status.idle": "2020-08-25T00:31:35.705346Z",
     "shell.execute_reply": "2020-08-25T00:31:35.704801Z"
    },
    "papermill": {
     "duration": 0.374534,
     "end_time": "2020-08-25T00:31:35.705511",
     "exception": false,
     "start_time": "2020-08-25T00:31:35.330977",
     "status": "completed"
    },
    "tags": []
   },
   "outputs": [
    {
     "data": {
      "image/png": "[encoded data removed]",
      "text/plain": [
       "<Figure size 576x504 with 1 Axes>"
      ]
     },
     "metadata": {
      "needs_background": "light"
     },
     "output_type": "display_data"
    }
   ],
   "source": [
    "plt.figure(figsize=(8,7))\n",
    "plt.scatter(plot_testing[:,0], plot_testing[:,1], alpha = 0.1, c = y_test.ravel())\n",
    "contours = plt.contour(xg,yg,probability_contour)\n",
    "plt.clabel(contours, inline = True );"
   ]
  }
 ],
 "metadata": {
  "kernelspec": {
   "display_name": "Python 3",
   "language": "python",
   "name": "python3"
  },
  "language_info": {
   "codemirror_mode": {
    "name": "ipython",
    "version": 3
   },
   "file_extension": ".py",
   "mimetype": "text/x-python",
   "name": "python",
   "nbconvert_exporter": "python",
   "pygments_lexer": "ipython3",
   "version": "3.6.11"
  },
  "papermill": {
   "duration": 174.795269,
   "end_time": "2020-08-25T00:31:36.174715",
   "environment_variables": {},
   "exception": null,
   "input_path": "2020-08-07-NN-new.ipynb",
   "output_path": "2020-08-07-NN-new.ipynb",
   "parameters": {},
   "start_time": "2020-08-25T00:28:41.379446",
   "version": "2.1.2"
  }
 },
 "nbformat": 4,
 "nbformat_minor": 4
}