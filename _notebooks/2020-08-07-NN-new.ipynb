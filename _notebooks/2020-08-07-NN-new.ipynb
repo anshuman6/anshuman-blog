{
 "cells": [
  {
   "cell_type": "markdown",
   "metadata": {
    "papermill": {
     "duration": 0.026786,
     "end_time": "2020-08-28T20:13:27.729201",
     "exception": false,
     "start_time": "2020-08-28T20:13:27.702415",
     "status": "completed"
    },
    "tags": []
   },
   "source": [
    "# \"Building a basic Neural Network from scratch - Kudzu\"\n",
    "\n",
    "- badges: true\n",
    "- author: Anshuman Gupta"
   ]
  },
  {
   "cell_type": "markdown",
   "metadata": {
    "papermill": {
     "duration": 0.023233,
     "end_time": "2020-08-28T20:13:27.774763",
     "exception": false,
     "start_time": "2020-08-28T20:13:27.751530",
     "status": "completed"
    },
    "tags": []
   },
   "source": [
    "#### In this project, the idea is to write a classifier to differentiate between handwritten digits 3 and 8, from the MNIST database.\n",
    "\n",
    "#### I will using a custom built neural network library called Kudzu.This has been developed as a part of KTF/Foundations course of Univ.ai (www.univ.ai). The source code for Kudzu Library and and this notebook can be found on my git-hub profile : www.https://github.com/anshuman6 under the folder project-solution. Any feedback and comments are welcome. Please feel free to email me at: anshuman6@gmail.com\n",
    "\n",
    "#### 1. I will be using the MNIST database. \n",
    "\n",
    "#### 2. I will be comparing the results of the 4 layer NN to a standard logistic regression"
   ]
  },
  {
   "cell_type": "markdown",
   "metadata": {
    "papermill": {
     "duration": 0.023283,
     "end_time": "2020-08-28T20:13:27.821049",
     "exception": false,
     "start_time": "2020-08-28T20:13:27.797766",
     "status": "completed"
    },
    "tags": []
   },
   "source": [
    "##### Importing all the necessary libraries"
   ]
  },
  {
   "cell_type": "code",
   "execution_count": 1,
   "metadata": {
    "execution": {
     "iopub.execute_input": "2020-08-28T20:13:27.874602Z",
     "iopub.status.busy": "2020-08-28T20:13:27.874146Z",
     "iopub.status.idle": "2020-08-28T20:13:27.885280Z",
     "shell.execute_reply": "2020-08-28T20:13:27.884756Z"
    },
    "papermill": {
     "duration": 0.040081,
     "end_time": "2020-08-28T20:13:27.885415",
     "exception": false,
     "start_time": "2020-08-28T20:13:27.845334",
     "status": "completed"
    },
    "tags": []
   },
   "outputs": [],
   "source": [
    "%load_ext autoreload\n",
    "%autoreload 2"
   ]
  },
  {
   "cell_type": "code",
   "execution_count": 2,
   "metadata": {
    "execution": {
     "iopub.execute_input": "2020-08-28T20:13:27.935074Z",
     "iopub.status.busy": "2020-08-28T20:13:27.934598Z",
     "iopub.status.idle": "2020-08-28T20:13:28.461818Z",
     "shell.execute_reply": "2020-08-28T20:13:28.460830Z"
    },
    "papermill": {
     "duration": 0.554114,
     "end_time": "2020-08-28T20:13:28.461985",
     "exception": false,
     "start_time": "2020-08-28T20:13:27.907871",
     "status": "completed"
    },
    "tags": []
   },
   "outputs": [],
   "source": [
    "%matplotlib inline\n",
    "import numpy as np\n",
    "import matplotlib.pyplot as plt\n",
    "import pandas as pd"
   ]
  },
  {
   "cell_type": "markdown",
   "metadata": {
    "papermill": {
     "duration": 0.024021,
     "end_time": "2020-08-28T20:13:28.511570",
     "exception": false,
     "start_time": "2020-08-28T20:13:28.487549",
     "status": "completed"
    },
    "tags": []
   },
   "source": [
    "##### The following command helps us download MNIST from notebook itself. You can skip this if you already have MNIST. You can also download it via your terminal."
   ]
  },
  {
   "cell_type": "code",
   "execution_count": 3,
   "metadata": {
    "execution": {
     "iopub.execute_input": "2020-08-28T20:13:28.561897Z",
     "iopub.status.busy": "2020-08-28T20:13:28.561375Z",
     "iopub.status.idle": "2020-08-28T20:13:29.837180Z",
     "shell.execute_reply": "2020-08-28T20:13:29.836558Z"
    },
    "papermill": {
     "duration": 1.302081,
     "end_time": "2020-08-28T20:13:29.837342",
     "exception": false,
     "start_time": "2020-08-28T20:13:28.535261",
     "status": "completed"
    },
    "tags": []
   },
   "outputs": [
    {
     "name": "stdout",
     "output_type": "stream",
     "text": [
      "Collecting mnist\r\n"
     ]
    },
    {
     "name": "stdout",
     "output_type": "stream",
     "text": [
      "  Downloading mnist-0.2.2-py2.py3-none-any.whl (3.5 kB)\r\n"
     ]
    },
    {
     "name": "stdout",
     "output_type": "stream",
     "text": [
      "Requirement already satisfied: numpy in /opt/hostedtoolcache/Python/3.6.11/x64/lib/python3.6/site-packages (from mnist) (1.19.1)\r\n"
     ]
    },
    {
     "name": "stdout",
     "output_type": "stream",
     "text": [
      "Installing collected packages: mnist\r\n"
     ]
    },
    {
     "name": "stdout",
     "output_type": "stream",
     "text": [
      "Successfully installed mnist-0.2.2\r\n"
     ]
    }
   ],
   "source": [
    "!pip install mnist # Please note, it is commented out for now, you can remove comment if you want to install it"
   ]
  },
  {
   "cell_type": "markdown",
   "metadata": {
    "papermill": {
     "duration": 0.0239,
     "end_time": "2020-08-28T20:13:29.888155",
     "exception": false,
     "start_time": "2020-08-28T20:13:29.864255",
     "status": "completed"
    },
    "tags": []
   },
   "source": [
    "#### Preparing the Data"
   ]
  },
  {
   "cell_type": "code",
   "execution_count": 4,
   "metadata": {
    "execution": {
     "iopub.execute_input": "2020-08-28T20:13:29.940520Z",
     "iopub.status.busy": "2020-08-28T20:13:29.939931Z",
     "iopub.status.idle": "2020-08-28T20:13:29.957264Z",
     "shell.execute_reply": "2020-08-28T20:13:29.956819Z"
    },
    "papermill": {
     "duration": 0.045641,
     "end_time": "2020-08-28T20:13:29.957388",
     "exception": false,
     "start_time": "2020-08-28T20:13:29.911747",
     "status": "completed"
    },
    "tags": []
   },
   "outputs": [],
   "source": [
    "import mnist"
   ]
  },
  {
   "cell_type": "code",
   "execution_count": 5,
   "metadata": {
    "execution": {
     "iopub.execute_input": "2020-08-28T20:13:30.013242Z",
     "iopub.status.busy": "2020-08-28T20:13:30.012647Z",
     "iopub.status.idle": "2020-08-28T20:13:30.820335Z",
     "shell.execute_reply": "2020-08-28T20:13:30.819748Z"
    },
    "papermill": {
     "duration": 0.836716,
     "end_time": "2020-08-28T20:13:30.820480",
     "exception": false,
     "start_time": "2020-08-28T20:13:29.983764",
     "status": "completed"
    },
    "tags": []
   },
   "outputs": [],
   "source": [
    "train_images = mnist.train_images()\n",
    "train_labels = mnist.train_labels()"
   ]
  },
  {
   "cell_type": "code",
   "execution_count": 6,
   "metadata": {
    "execution": {
     "iopub.execute_input": "2020-08-28T20:13:30.878225Z",
     "iopub.status.busy": "2020-08-28T20:13:30.877706Z",
     "iopub.status.idle": "2020-08-28T20:13:30.891670Z",
     "shell.execute_reply": "2020-08-28T20:13:30.892167Z"
    },
    "papermill": {
     "duration": 0.044338,
     "end_time": "2020-08-28T20:13:30.892308",
     "exception": false,
     "start_time": "2020-08-28T20:13:30.847970",
     "status": "completed"
    },
    "tags": []
   },
   "outputs": [
    {
     "data": {
      "text/plain": [
       "((60000, 28, 28), (60000,))"
      ]
     },
     "execution_count": 6,
     "metadata": {},
     "output_type": "execute_result"
    }
   ],
   "source": [
    "train_images.shape, train_labels.shape"
   ]
  },
  {
   "cell_type": "code",
   "execution_count": 7,
   "metadata": {
    "execution": {
     "iopub.execute_input": "2020-08-28T20:13:30.948268Z",
     "iopub.status.busy": "2020-08-28T20:13:30.947656Z",
     "iopub.status.idle": "2020-08-28T20:13:31.254061Z",
     "shell.execute_reply": "2020-08-28T20:13:31.253629Z"
    },
    "papermill": {
     "duration": 0.335313,
     "end_time": "2020-08-28T20:13:31.254202",
     "exception": false,
     "start_time": "2020-08-28T20:13:30.918889",
     "status": "completed"
    },
    "tags": []
   },
   "outputs": [],
   "source": [
    "test_images = mnist.test_images()\n",
    "test_labels = mnist.test_labels()"
   ]
  },
  {
   "cell_type": "code",
   "execution_count": 8,
   "metadata": {
    "execution": {
     "iopub.execute_input": "2020-08-28T20:13:31.308017Z",
     "iopub.status.busy": "2020-08-28T20:13:31.307440Z",
     "iopub.status.idle": "2020-08-28T20:13:31.321904Z",
     "shell.execute_reply": "2020-08-28T20:13:31.321402Z"
    },
    "papermill": {
     "duration": 0.042332,
     "end_time": "2020-08-28T20:13:31.322159",
     "exception": false,
     "start_time": "2020-08-28T20:13:31.279827",
     "status": "completed"
    },
    "tags": []
   },
   "outputs": [
    {
     "data": {
      "text/plain": [
       "((10000, 28, 28), (10000,))"
      ]
     },
     "execution_count": 8,
     "metadata": {},
     "output_type": "execute_result"
    }
   ],
   "source": [
    "test_images.shape, test_labels.shape"
   ]
  },
  {
   "cell_type": "code",
   "execution_count": 9,
   "metadata": {
    "execution": {
     "iopub.execute_input": "2020-08-28T20:13:31.379083Z",
     "iopub.status.busy": "2020-08-28T20:13:31.378539Z",
     "iopub.status.idle": "2020-08-28T20:13:31.515500Z",
     "shell.execute_reply": "2020-08-28T20:13:31.514727Z"
    },
    "papermill": {
     "duration": 0.166409,
     "end_time": "2020-08-28T20:13:31.515612",
     "exception": false,
     "start_time": "2020-08-28T20:13:31.349203",
     "status": "completed"
    },
    "tags": []
   },
   "outputs": [
    {
     "name": "stdout",
     "output_type": "stream",
     "text": [
      "2\n"
     ]
    },
    {
     "data": {
      "text/plain": [
       "<matplotlib.image.AxesImage at 0x7f2412e39ac8>"
      ]
     },
     "execution_count": 9,
     "metadata": {},
     "output_type": "execute_result"
    },
    {
     "data": {
      "image/png": "[encoded data removed]",
      "text/plain": [
       "<Figure size 432x288 with 1 Axes>"
      ]
     },
     "metadata": {
      "needs_background": "light"
     },
     "output_type": "display_data"
    }
   ],
   "source": [
    "image_index = 7776 # You may select anything up to 60,000\n",
    "print(train_labels[image_index]) \n",
    "plt.imshow(train_images[image_index], cmap='Greys')"
   ]
  },
  {
   "cell_type": "markdown",
   "metadata": {
    "papermill": {
     "duration": 0.027582,
     "end_time": "2020-08-28T20:13:31.569182",
     "exception": false,
     "start_time": "2020-08-28T20:13:31.541600",
     "status": "completed"
    },
    "tags": []
   },
   "source": [
    "## Filter data to get 3 and 8 out"
   ]
  },
  {
   "cell_type": "code",
   "execution_count": 10,
   "metadata": {
    "execution": {
     "iopub.execute_input": "2020-08-28T20:13:31.633056Z",
     "iopub.status.busy": "2020-08-28T20:13:31.625491Z",
     "iopub.status.idle": "2020-08-28T20:13:31.644304Z",
     "shell.execute_reply": "2020-08-28T20:13:31.643790Z"
    },
    "papermill": {
     "duration": 0.049501,
     "end_time": "2020-08-28T20:13:31.644418",
     "exception": false,
     "start_time": "2020-08-28T20:13:31.594917",
     "status": "completed"
    },
    "tags": []
   },
   "outputs": [],
   "source": [
    "train_filter = np.where((train_labels == 3 ) | (train_labels == 8))\n",
    "test_filter = np.where((test_labels == 3) | (test_labels == 8))\n",
    "X_train, y_train = train_images[train_filter], train_labels[train_filter]\n",
    "X_test, y_test = test_images[test_filter], test_labels[test_filter]"
   ]
  },
  {
   "cell_type": "markdown",
   "metadata": {
    "papermill": {
     "duration": 0.026001,
     "end_time": "2020-08-28T20:13:31.697693",
     "exception": false,
     "start_time": "2020-08-28T20:13:31.671692",
     "status": "completed"
    },
    "tags": []
   },
   "source": [
    "##### We normalize the pizel values in the 0 to 1 range"
   ]
  },
  {
   "cell_type": "code",
   "execution_count": 11,
   "metadata": {
    "execution": {
     "iopub.execute_input": "2020-08-28T20:13:31.752512Z",
     "iopub.status.busy": "2020-08-28T20:13:31.751984Z",
     "iopub.status.idle": "2020-08-28T20:13:31.803922Z",
     "shell.execute_reply": "2020-08-28T20:13:31.803296Z"
    },
    "papermill": {
     "duration": 0.081584,
     "end_time": "2020-08-28T20:13:31.804103",
     "exception": false,
     "start_time": "2020-08-28T20:13:31.722519",
     "status": "completed"
    },
    "tags": []
   },
   "outputs": [],
   "source": [
    "X_train = X_train/255.\n",
    "X_test = X_test/255."
   ]
  },
  {
   "cell_type": "markdown",
   "metadata": {
    "papermill": {
     "duration": 0.025344,
     "end_time": "2020-08-28T20:13:31.859708",
     "exception": false,
     "start_time": "2020-08-28T20:13:31.834364",
     "status": "completed"
    },
    "tags": []
   },
   "source": [
    "And setup the labels as 1 (when the digit is 3) and 0 (when the digit is 8)"
   ]
  },
  {
   "cell_type": "code",
   "execution_count": 12,
   "metadata": {
    "execution": {
     "iopub.execute_input": "2020-08-28T20:13:31.915420Z",
     "iopub.status.busy": "2020-08-28T20:13:31.914838Z",
     "iopub.status.idle": "2020-08-28T20:13:31.928023Z",
     "shell.execute_reply": "2020-08-28T20:13:31.927555Z"
    },
    "papermill": {
     "duration": 0.042352,
     "end_time": "2020-08-28T20:13:31.928171",
     "exception": false,
     "start_time": "2020-08-28T20:13:31.885819",
     "status": "completed"
    },
    "tags": []
   },
   "outputs": [],
   "source": [
    "y_train = 1*(y_train==3)\n",
    "y_test = 1*(y_test==3)"
   ]
  },
  {
   "cell_type": "code",
   "execution_count": 13,
   "metadata": {
    "execution": {
     "iopub.execute_input": "2020-08-28T20:13:31.987078Z",
     "iopub.status.busy": "2020-08-28T20:13:31.986490Z",
     "iopub.status.idle": "2020-08-28T20:13:32.001084Z",
     "shell.execute_reply": "2020-08-28T20:13:32.000584Z"
    },
    "papermill": {
     "duration": 0.045125,
     "end_time": "2020-08-28T20:13:32.001207",
     "exception": false,
     "start_time": "2020-08-28T20:13:31.956082",
     "status": "completed"
    },
    "tags": []
   },
   "outputs": [
    {
     "data": {
      "text/plain": [
       "((11982, 28, 28), (1984, 28, 28))"
      ]
     },
     "execution_count": 13,
     "metadata": {},
     "output_type": "execute_result"
    }
   ],
   "source": [
    "X_train.shape, X_test.shape"
   ]
  },
  {
   "cell_type": "markdown",
   "metadata": {
    "papermill": {
     "duration": 0.02593,
     "end_time": "2020-08-28T20:13:32.055083",
     "exception": false,
     "start_time": "2020-08-28T20:13:32.029153",
     "status": "completed"
    },
    "tags": []
   },
   "source": [
    "##### We reshape the data to flatten the image pixels into a set of features or co-variates:"
   ]
  },
  {
   "cell_type": "code",
   "execution_count": 14,
   "metadata": {
    "execution": {
     "iopub.execute_input": "2020-08-28T20:13:32.111612Z",
     "iopub.status.busy": "2020-08-28T20:13:32.111071Z",
     "iopub.status.idle": "2020-08-28T20:13:32.126007Z",
     "shell.execute_reply": "2020-08-28T20:13:32.125606Z"
    },
    "papermill": {
     "duration": 0.044749,
     "end_time": "2020-08-28T20:13:32.126101",
     "exception": false,
     "start_time": "2020-08-28T20:13:32.081352",
     "status": "completed"
    },
    "tags": []
   },
   "outputs": [
    {
     "data": {
      "text/plain": [
       "((11982, 784), (1984, 784))"
      ]
     },
     "execution_count": 14,
     "metadata": {},
     "output_type": "execute_result"
    }
   ],
   "source": [
    "X_train = X_train.reshape(X_train.shape[0], -1)\n",
    "X_test = X_test.reshape(X_test.shape[0], -1)\n",
    "X_train.shape, X_test.shape"
   ]
  },
  {
   "cell_type": "markdown",
   "metadata": {
    "papermill": {
     "duration": 0.024853,
     "end_time": "2020-08-28T20:13:32.176852",
     "exception": false,
     "start_time": "2020-08-28T20:13:32.151999",
     "status": "completed"
    },
    "tags": []
   },
   "source": [
    "##### Importing Kudzu library and its functionality"
   ]
  },
  {
   "cell_type": "code",
   "execution_count": 15,
   "metadata": {
    "execution": {
     "iopub.execute_input": "2020-08-28T20:13:32.238608Z",
     "iopub.status.busy": "2020-08-28T20:13:32.238187Z",
     "iopub.status.idle": "2020-08-28T20:13:32.259104Z",
     "shell.execute_reply": "2020-08-28T20:13:32.258504Z"
    },
    "papermill": {
     "duration": 0.052945,
     "end_time": "2020-08-28T20:13:32.259251",
     "exception": false,
     "start_time": "2020-08-28T20:13:32.206306",
     "status": "completed"
    },
    "tags": []
   },
   "outputs": [],
   "source": [
    "from kudzu.data import Data, Dataloader, Sampler\n",
    "from kudzu.callbacks import AccCallback\n",
    "from kudzu.loss import MSE\n",
    "from kudzu.layer import Affine, Sigmoid\n",
    "from kudzu.model import Model\n",
    "from kudzu.optim import GD\n",
    "from kudzu.train import Learner\n",
    "from kudzu.callbacks import ClfCallback\n",
    "from kudzu.layer import Sigmoid\n",
    "from kudzu.layer import Relu"
   ]
  },
  {
   "cell_type": "markdown",
   "metadata": {
    "papermill": {
     "duration": 0.02771,
     "end_time": "2020-08-28T20:13:32.316368",
     "exception": false,
     "start_time": "2020-08-28T20:13:32.288658",
     "status": "completed"
    },
    "tags": []
   },
   "source": [
    "##### We are creating a class, just so that we can use it to store our parameters for us"
   ]
  },
  {
   "cell_type": "code",
   "execution_count": 16,
   "metadata": {
    "execution": {
     "iopub.execute_input": "2020-08-28T20:13:32.376158Z",
     "iopub.status.busy": "2020-08-28T20:13:32.375591Z",
     "iopub.status.idle": "2020-08-28T20:13:32.388368Z",
     "shell.execute_reply": "2020-08-28T20:13:32.387828Z"
    },
    "papermill": {
     "duration": 0.042118,
     "end_time": "2020-08-28T20:13:32.388496",
     "exception": false,
     "start_time": "2020-08-28T20:13:32.346378",
     "status": "completed"
    },
    "tags": []
   },
   "outputs": [],
   "source": [
    "class Config:\n",
    "    pass\n",
    "config = Config()\n",
    "config.lr = 0.001\n",
    "config.num_epochs = 250\n",
    "config.bs = 50"
   ]
  },
  {
   "cell_type": "markdown",
   "metadata": {
    "papermill": {
     "duration": 0.026725,
     "end_time": "2020-08-28T20:13:32.438811",
     "exception": false,
     "start_time": "2020-08-28T20:13:32.412086",
     "status": "completed"
    },
    "tags": []
   },
   "source": [
    "##### Initializing Data"
   ]
  },
  {
   "cell_type": "code",
   "execution_count": 17,
   "metadata": {
    "execution": {
     "iopub.execute_input": "2020-08-28T20:13:32.496986Z",
     "iopub.status.busy": "2020-08-28T20:13:32.496569Z",
     "iopub.status.idle": "2020-08-28T20:13:32.509156Z",
     "shell.execute_reply": "2020-08-28T20:13:32.508658Z"
    },
    "papermill": {
     "duration": 0.043658,
     "end_time": "2020-08-28T20:13:32.509276",
     "exception": false,
     "start_time": "2020-08-28T20:13:32.465618",
     "status": "completed"
    },
    "tags": []
   },
   "outputs": [],
   "source": [
    "data = Data(X_train, y_train.reshape(-1,1))\n",
    "loss = MSE()\n",
    "opt = GD(config.lr)\n",
    "sampler = Sampler(data, config.bs, shuffle=True)\n",
    "dl = Dataloader(data, sampler)"
   ]
  },
  {
   "cell_type": "markdown",
   "metadata": {
    "papermill": {
     "duration": 0.025088,
     "end_time": "2020-08-28T20:13:32.563467",
     "exception": false,
     "start_time": "2020-08-28T20:13:32.538379",
     "status": "completed"
    },
    "tags": []
   },
   "source": [
    "##### Constructing 2 different layers, one for NN and one only for logistic regression."
   ]
  },
  {
   "cell_type": "markdown",
   "metadata": {
    "papermill": {
     "duration": 0.028466,
     "end_time": "2020-08-28T20:13:32.619273",
     "exception": false,
     "start_time": "2020-08-28T20:13:32.590807",
     "status": "completed"
    },
    "tags": []
   },
   "source": [
    "##### Creating containers for data to be passed, to calculate accuracies"
   ]
  },
  {
   "cell_type": "code",
   "execution_count": 18,
   "metadata": {
    "execution": {
     "iopub.execute_input": "2020-08-28T20:13:32.676263Z",
     "iopub.status.busy": "2020-08-28T20:13:32.675820Z",
     "iopub.status.idle": "2020-08-28T20:13:32.688363Z",
     "shell.execute_reply": "2020-08-28T20:13:32.687937Z"
    },
    "papermill": {
     "duration": 0.044518,
     "end_time": "2020-08-28T20:13:32.688475",
     "exception": false,
     "start_time": "2020-08-28T20:13:32.643957",
     "status": "completed"
    },
    "tags": []
   },
   "outputs": [],
   "source": [
    "training_xdata = X_train\n",
    "testing_xdata = X_test\n",
    "training_ydata = y_train.reshape(-1,1)\n",
    "testing_ydata = y_test.reshape(-1,1)"
   ]
  },
  {
   "cell_type": "markdown",
   "metadata": {
    "papermill": {
     "duration": 0.026485,
     "end_time": "2020-08-28T20:13:32.741523",
     "exception": false,
     "start_time": "2020-08-28T20:13:32.715038",
     "status": "completed"
    },
    "tags": []
   },
   "source": [
    "##### Initializing models and Running training loop: "
   ]
  },
  {
   "cell_type": "code",
   "execution_count": 19,
   "metadata": {
    "execution": {
     "iopub.execute_input": "2020-08-28T20:13:32.799422Z",
     "iopub.status.busy": "2020-08-28T20:13:32.798996Z",
     "iopub.status.idle": "2020-08-28T20:13:32.815089Z",
     "shell.execute_reply": "2020-08-28T20:13:32.815573Z"
    },
    "papermill": {
     "duration": 0.046966,
     "end_time": "2020-08-28T20:13:32.815706",
     "exception": false,
     "start_time": "2020-08-28T20:13:32.768740",
     "status": "completed"
    },
    "tags": []
   },
   "outputs": [],
   "source": [
    "layers = [Affine(\"first\", 784, 100), Relu(\"first\"), Affine(\"second\", 100, 100), Relu(\"second\"), Affine(\"third\", 100, 2), Affine(\"final\", 2, 1), Sigmoid(\"final\")]\n",
    "\n",
    "model_neural = Model(layers)\n",
    "model_logistic = Model([Affine(\"logits\", 784, 1), Sigmoid(\"sigmoid\")])"
   ]
  },
  {
   "cell_type": "code",
   "execution_count": 20,
   "metadata": {
    "execution": {
     "iopub.execute_input": "2020-08-28T20:13:32.875829Z",
     "iopub.status.busy": "2020-08-28T20:13:32.875265Z",
     "iopub.status.idle": "2020-08-28T20:13:32.889451Z",
     "shell.execute_reply": "2020-08-28T20:13:32.888980Z"
    },
    "papermill": {
     "duration": 0.045638,
     "end_time": "2020-08-28T20:13:32.889569",
     "exception": false,
     "start_time": "2020-08-28T20:13:32.843931",
     "status": "completed"
    },
    "tags": []
   },
   "outputs": [],
   "source": [
    "learner1 = Learner(loss, model_neural, opt, config.num_epochs)\n",
    "acc1 = ClfCallback(learner1, config.bs, training_xdata , testing_xdata, training_ydata, testing_ydata)\n",
    "learner1.set_callbacks([acc1])"
   ]
  },
  {
   "cell_type": "code",
   "execution_count": 21,
   "metadata": {
    "execution": {
     "iopub.execute_input": "2020-08-28T20:13:32.949290Z",
     "iopub.status.busy": "2020-08-28T20:13:32.948862Z",
     "iopub.status.idle": "2020-08-28T20:14:53.502415Z",
     "shell.execute_reply": "2020-08-28T20:14:53.502000Z"
    },
    "papermill": {
     "duration": 80.586052,
     "end_time": "2020-08-28T20:14:53.502535",
     "exception": false,
     "start_time": "2020-08-28T20:13:32.916483",
     "status": "completed"
    },
    "tags": []
   },
   "outputs": [
    {
     "name": "stdout",
     "output_type": "stream",
     "text": [
      "Epoch 0 Loss 0.2374219090574484\n",
      "train accuracy is: 0.7079786346185946, test accuracy is 0.7273185483870968\n"
     ]
    },
    {
     "name": "stdout",
     "output_type": "stream",
     "text": [
      "Epoch 10 Loss 0.08437893720373921\n",
      "train accuracy is: 0.9259722917709898, test accuracy is 0.936491935483871\n"
     ]
    },
    {
     "name": "stdout",
     "output_type": "stream",
     "text": [
      "Epoch 20 Loss 0.05259485733844468\n",
      "train accuracy is: 0.9464196294441662, test accuracy is 0.9551411290322581\n"
     ]
    },
    {
     "name": "stdout",
     "output_type": "stream",
     "text": [
      "Epoch 30 Loss 0.0418567506984621\n",
      "train accuracy is: 0.9536805207811717, test accuracy is 0.9611895161290323\n"
     ]
    },
    {
     "name": "stdout",
     "output_type": "stream",
     "text": [
      "Epoch 40 Loss 0.036598414658634996\n",
      "train accuracy is: 0.9595226172592222, test accuracy is 0.9657258064516129\n"
     ]
    },
    {
     "name": "stdout",
     "output_type": "stream",
     "text": [
      "Epoch 50 Loss 0.03338700487381888\n",
      "train accuracy is: 0.9626105825404774, test accuracy is 0.9652217741935484\n"
     ]
    },
    {
     "name": "stdout",
     "output_type": "stream",
     "text": [
      "Epoch 60 Loss 0.031172135653794827\n",
      "train accuracy is: 0.9649474211316975, test accuracy is 0.9667338709677419\n"
     ]
    },
    {
     "name": "stdout",
     "output_type": "stream",
     "text": [
      "Epoch 70 Loss 0.029509197807381808\n",
      "train accuracy is: 0.9670338841595727, test accuracy is 0.967741935483871\n"
     ]
    },
    {
     "name": "stdout",
     "output_type": "stream",
     "text": [
      "Epoch 80 Loss 0.028187255797370254\n",
      "train accuracy is: 0.9679519278918377, test accuracy is 0.9672379032258065\n"
     ]
    },
    {
     "name": "stdout",
     "output_type": "stream",
     "text": [
      "Epoch 90 Loss 0.027097033630264607\n",
      "train accuracy is: 0.9686195960607578, test accuracy is 0.9672379032258065\n"
     ]
    },
    {
     "name": "stdout",
     "output_type": "stream",
     "text": [
      "Epoch 100 Loss 0.026164170475067847\n",
      "train accuracy is: 0.9692038057085628, test accuracy is 0.9682459677419355\n"
     ]
    },
    {
     "name": "stdout",
     "output_type": "stream",
     "text": [
      "Epoch 110 Loss 0.025346588340615473\n",
      "train accuracy is: 0.970288766483058, test accuracy is 0.9692540322580645\n"
     ]
    },
    {
     "name": "stdout",
     "output_type": "stream",
     "text": [
      "Epoch 120 Loss 0.024622955651166796\n",
      "train accuracy is: 0.971206810215323, test accuracy is 0.969758064516129\n"
     ]
    },
    {
     "name": "stdout",
     "output_type": "stream",
     "text": [
      "Epoch 130 Loss 0.02396684059741233\n",
      "train accuracy is: 0.972041395426473, test accuracy is 0.969758064516129\n"
     ]
    },
    {
     "name": "stdout",
     "output_type": "stream",
     "text": [
      "Epoch 140 Loss 0.023365060006645885\n",
      "train accuracy is: 0.9727090635953931, test accuracy is 0.9707661290322581\n"
     ]
    },
    {
     "name": "stdout",
     "output_type": "stream",
     "text": [
      "Epoch 150 Loss 0.022788641421051775\n",
      "train accuracy is: 0.9736271073276581, test accuracy is 0.9727822580645161\n"
     ]
    },
    {
     "name": "stdout",
     "output_type": "stream",
     "text": [
      "Epoch 160 Loss 0.02225682989240065\n",
      "train accuracy is: 0.9740443999332332, test accuracy is 0.9717741935483871\n"
     ]
    },
    {
     "name": "stdout",
     "output_type": "stream",
     "text": [
      "Epoch 170 Loss 0.021742433421963397\n",
      "train accuracy is: 0.9747120681021533, test accuracy is 0.9717741935483871\n"
     ]
    },
    {
     "name": "stdout",
     "output_type": "stream",
     "text": [
      "Epoch 180 Loss 0.021259815841473167\n",
      "train accuracy is: 0.9754631947921882, test accuracy is 0.9722782258064516\n"
     ]
    },
    {
     "name": "stdout",
     "output_type": "stream",
     "text": [
      "Epoch 190 Loss 0.02080233993594045\n",
      "train accuracy is: 0.9760474044399933, test accuracy is 0.9727822580645161\n"
     ]
    },
    {
     "name": "stdout",
     "output_type": "stream",
     "text": [
      "Epoch 200 Loss 0.020366451628439048\n",
      "train accuracy is: 0.9764646970455684, test accuracy is 0.9732862903225806\n"
     ]
    },
    {
     "name": "stdout",
     "output_type": "stream",
     "text": [
      "Epoch 210 Loss 0.019929337532085378\n",
      "train accuracy is: 0.9770489066933734, test accuracy is 0.9737903225806451\n"
     ]
    },
    {
     "name": "stdout",
     "output_type": "stream",
     "text": [
      "Epoch 220 Loss 0.019523421786322666\n",
      "train accuracy is: 0.9774661992989484, test accuracy is 0.9742943548387096\n"
     ]
    },
    {
     "name": "stdout",
     "output_type": "stream",
     "text": [
      "Epoch 230 Loss 0.01912465926986619\n",
      "train accuracy is: 0.9773827407778334, test accuracy is 0.9753024193548387\n"
     ]
    },
    {
     "name": "stdout",
     "output_type": "stream",
     "text": [
      "Epoch 240 Loss 0.01874952788172077\n",
      "train accuracy is: 0.9782173259889835, test accuracy is 0.9758064516129032\n"
     ]
    },
    {
     "data": {
      "text/plain": [
       "0.003016493167727615"
      ]
     },
     "execution_count": 21,
     "metadata": {},
     "output_type": "execute_result"
    }
   ],
   "source": [
    "learner1.train_loop(dl)"
   ]
  },
  {
   "cell_type": "markdown",
   "metadata": {
    "papermill": {
     "duration": 0.033787,
     "end_time": "2020-08-28T20:14:53.569341",
     "exception": false,
     "start_time": "2020-08-28T20:14:53.535554",
     "status": "completed"
    },
    "tags": []
   },
   "source": [
    "##### Now running only the logistic regression based classification to compare results with NN"
   ]
  },
  {
   "cell_type": "code",
   "execution_count": 22,
   "metadata": {
    "execution": {
     "iopub.execute_input": "2020-08-28T20:14:53.651257Z",
     "iopub.status.busy": "2020-08-28T20:14:53.650663Z",
     "iopub.status.idle": "2020-08-28T20:14:53.662351Z",
     "shell.execute_reply": "2020-08-28T20:14:53.661895Z"
    },
    "papermill": {
     "duration": 0.058784,
     "end_time": "2020-08-28T20:14:53.662470",
     "exception": false,
     "start_time": "2020-08-28T20:14:53.603686",
     "status": "completed"
    },
    "tags": []
   },
   "outputs": [],
   "source": [
    "learner2 = Learner(loss, model_logistic, opt, config.num_epochs)\n",
    "acc2 = ClfCallback(learner2, config.bs, training_xdata , testing_xdata, training_ydata, testing_ydata)\n",
    "learner2.set_callbacks([acc2])"
   ]
  },
  {
   "cell_type": "code",
   "execution_count": 23,
   "metadata": {
    "execution": {
     "iopub.execute_input": "2020-08-28T20:14:53.733184Z",
     "iopub.status.busy": "2020-08-28T20:14:53.732762Z",
     "iopub.status.idle": "2020-08-28T20:15:08.108889Z",
     "shell.execute_reply": "2020-08-28T20:15:08.109574Z"
    },
    "papermill": {
     "duration": 14.414848,
     "end_time": "2020-08-28T20:15:08.109733",
     "exception": false,
     "start_time": "2020-08-28T20:14:53.694885",
     "status": "completed"
    },
    "tags": []
   },
   "outputs": [
    {
     "name": "stdout",
     "output_type": "stream",
     "text": [
      "Epoch 0 Loss 0.25451172235184705\n",
      "train accuracy is: 0.6444667000500751, test accuracy is 0.6461693548387096\n"
     ]
    },
    {
     "name": "stdout",
     "output_type": "stream",
     "text": [
      "Epoch 10 Loss 0.10177676595702549\n",
      "train accuracy is: 0.9181271907861792, test accuracy is 0.9329637096774194\n"
     ]
    },
    {
     "name": "stdout",
     "output_type": "stream",
     "text": [
      "Epoch 20 Loss 0.07767994441572204\n",
      "train accuracy is: 0.9330662660657653, test accuracy is 0.9470766129032258\n"
     ]
    },
    {
     "name": "stdout",
     "output_type": "stream",
     "text": [
      "Epoch 30 Loss 0.06696111164556329\n",
      "train accuracy is: 0.9419128693039559, test accuracy is 0.9506048387096774\n"
     ]
    },
    {
     "name": "stdout",
     "output_type": "stream",
     "text": [
      "Epoch 40 Loss 0.060592767742734255\n",
      "train accuracy is: 0.9440827908529461, test accuracy is 0.9551411290322581\n"
     ]
    },
    {
     "name": "stdout",
     "output_type": "stream",
     "text": [
      "Epoch 50 Loss 0.05627272473850915\n",
      "train accuracy is: 0.9462527124019362, test accuracy is 0.9561491935483871\n"
     ]
    },
    {
     "name": "stdout",
     "output_type": "stream",
     "text": [
      "Epoch 60 Loss 0.05309942643289007\n",
      "train accuracy is: 0.9489233850776164, test accuracy is 0.9606854838709677\n"
     ]
    },
    {
     "name": "stdout",
     "output_type": "stream",
     "text": [
      "Epoch 70 Loss 0.05064685407868873\n",
      "train accuracy is: 0.9504256384576866, test accuracy is 0.9616935483870968\n"
     ]
    },
    {
     "name": "stdout",
     "output_type": "stream",
     "text": [
      "Epoch 80 Loss 0.04867774944811743\n",
      "train accuracy is: 0.9524286429644466, test accuracy is 0.9627016129032258\n"
     ]
    },
    {
     "name": "stdout",
     "output_type": "stream",
     "text": [
      "Epoch 90 Loss 0.047052672212675166\n",
      "train accuracy is: 0.9533466866967117, test accuracy is 0.9627016129032258\n"
     ]
    },
    {
     "name": "stdout",
     "output_type": "stream",
     "text": [
      "Epoch 100 Loss 0.04568183776987296\n",
      "train accuracy is: 0.9544316474712068, test accuracy is 0.9621975806451613\n"
     ]
    },
    {
     "name": "stdout",
     "output_type": "stream",
     "text": [
      "Epoch 110 Loss 0.04450472617661232\n",
      "train accuracy is: 0.9549323985978968, test accuracy is 0.9632056451612904\n"
     ]
    },
    {
     "name": "stdout",
     "output_type": "stream",
     "text": [
      "Epoch 120 Loss 0.043478631345667706\n",
      "train accuracy is: 0.9554331497245869, test accuracy is 0.9642137096774194\n"
     ]
    },
    {
     "name": "stdout",
     "output_type": "stream",
     "text": [
      "Epoch 130 Loss 0.04257484824110666\n",
      "train accuracy is: 0.956017359372392, test accuracy is 0.9657258064516129\n"
     ]
    },
    {
     "name": "stdout",
     "output_type": "stream",
     "text": [
      "Epoch 140 Loss 0.04176972655637613\n",
      "train accuracy is: 0.9567684860624269, test accuracy is 0.9662298387096774\n"
     ]
    },
    {
     "name": "stdout",
     "output_type": "stream",
     "text": [
      "Epoch 150 Loss 0.041047042353286295\n",
      "train accuracy is: 0.957102320146887, test accuracy is 0.9652217741935484\n"
     ]
    },
    {
     "name": "stdout",
     "output_type": "stream",
     "text": [
      "Epoch 160 Loss 0.040392960097377056\n",
      "train accuracy is: 0.957686529794692, test accuracy is 0.9657258064516129\n"
     ]
    },
    {
     "name": "stdout",
     "output_type": "stream",
     "text": [
      "Epoch 170 Loss 0.03979564825911371\n",
      "train accuracy is: 0.9583541979636121, test accuracy is 0.9657258064516129\n"
     ]
    },
    {
     "name": "stdout",
     "output_type": "stream",
     "text": [
      "Epoch 180 Loss 0.0392501175209346\n",
      "train accuracy is: 0.9585211150058421, test accuracy is 0.9652217741935484\n"
     ]
    },
    {
     "name": "stdout",
     "output_type": "stream",
     "text": [
      "Epoch 190 Loss 0.038747656626024\n",
      "train accuracy is: 0.9591053246536472, test accuracy is 0.9657258064516129\n"
     ]
    },
    {
     "name": "stdout",
     "output_type": "stream",
     "text": [
      "Epoch 200 Loss 0.038282836629613196\n",
      "train accuracy is: 0.9596060757803372, test accuracy is 0.9662298387096774\n"
     ]
    },
    {
     "name": "stdout",
     "output_type": "stream",
     "text": [
      "Epoch 210 Loss 0.037850389123294595\n",
      "train accuracy is: 0.9601068269070272, test accuracy is 0.9662298387096774\n"
     ]
    },
    {
     "name": "stdout",
     "output_type": "stream",
     "text": [
      "Epoch 220 Loss 0.03744763726644232\n",
      "train accuracy is: 0.9603572024703723, test accuracy is 0.9667338709677419\n"
     ]
    },
    {
     "name": "stdout",
     "output_type": "stream",
     "text": [
      "Epoch 230 Loss 0.037071089326230405\n",
      "train accuracy is: 0.9606910365548322, test accuracy is 0.9667338709677419\n"
     ]
    },
    {
     "name": "stdout",
     "output_type": "stream",
     "text": [
      "Epoch 240 Loss 0.03671788733675878\n",
      "train accuracy is: 0.9609414121181773, test accuracy is 0.9672379032258065\n"
     ]
    },
    {
     "data": {
      "text/plain": [
       "0.0438435744490724"
      ]
     },
     "execution_count": 23,
     "metadata": {},
     "output_type": "execute_result"
    }
   ],
   "source": [
    "learner2.train_loop(dl)"
   ]
  },
  {
   "cell_type": "markdown",
   "metadata": {
    "papermill": {
     "duration": 0.042946,
     "end_time": "2020-08-28T20:15:08.195735",
     "exception": false,
     "start_time": "2020-08-28T20:15:08.152789",
     "status": "completed"
    },
    "tags": []
   },
   "source": [
    "### Comparing results of NN and LR"
   ]
  },
  {
   "cell_type": "code",
   "execution_count": 24,
   "metadata": {
    "execution": {
     "iopub.execute_input": "2020-08-28T20:15:08.281170Z",
     "iopub.status.busy": "2020-08-28T20:15:08.280451Z",
     "iopub.status.idle": "2020-08-28T20:15:08.468449Z",
     "shell.execute_reply": "2020-08-28T20:15:08.467933Z"
    },
    "papermill": {
     "duration": 0.232862,
     "end_time": "2020-08-28T20:15:08.468582",
     "exception": false,
     "start_time": "2020-08-28T20:15:08.235720",
     "status": "completed"
    },
    "tags": []
   },
   "outputs": [
    {
     "data": {
      "text/plain": [
       "<matplotlib.legend.Legend at 0x7f2412a1f278>"
      ]
     },
     "execution_count": 24,
     "metadata": {},
     "output_type": "execute_result"
    },
    {
     "data": {
      "image/png": "[encoded data removed]",
      "text/plain": [
       "<Figure size 576x360 with 1 Axes>"
      ]
     },
     "metadata": {
      "needs_background": "light"
     },
     "output_type": "display_data"
    }
   ],
   "source": [
    "plt.figure(figsize=(8,5))\n",
    "plt.plot(acc1.val_accuracies, 'g-', label = \"Val Accuracies - NN\")\n",
    "plt.plot(acc1.accuracies, 'r-', label = \"Accuracies - NN\")\n",
    "plt.plot(acc2.val_accuracies, 'b-', label = \"Val Accuracies - Logistic Reg\")\n",
    "plt.plot(acc2.accuracies, 'k-', label = \"Accuracies - Logistic Reg\")\n",
    "plt.ylim(0.8,1) ## for a more spread out view\n",
    "plt.legend()"
   ]
  },
  {
   "cell_type": "markdown",
   "metadata": {
    "papermill": {
     "duration": 0.04413,
     "end_time": "2020-08-28T20:15:08.556405",
     "exception": false,
     "start_time": "2020-08-28T20:15:08.512275",
     "status": "completed"
    },
    "tags": []
   },
   "source": [
    "### Clearly NN has a better accuracy over LR; NN is overfitting - Validation accuracy (green) has dropped below training accuracy (orange), also they are diverging. This problem is not seen in LR"
   ]
  },
  {
   "cell_type": "markdown",
   "metadata": {
    "papermill": {
     "duration": 0.04378,
     "end_time": "2020-08-28T20:15:08.646036",
     "exception": false,
     "start_time": "2020-08-28T20:15:08.602256",
     "status": "completed"
    },
    "tags": []
   },
   "source": [
    "##### Now we will be moving through the network, till the output of the second last affine where we get a 2 dimensional output. We will be plotting this 2d output and probability contours"
   ]
  },
  {
   "cell_type": "code",
   "execution_count": 25,
   "metadata": {
    "execution": {
     "iopub.execute_input": "2020-08-28T20:15:08.738603Z",
     "iopub.status.busy": "2020-08-28T20:15:08.737977Z",
     "iopub.status.idle": "2020-08-28T20:15:08.750916Z",
     "shell.execute_reply": "2020-08-28T20:15:08.751362Z"
    },
    "papermill": {
     "duration": 0.060478,
     "end_time": "2020-08-28T20:15:08.751502",
     "exception": false,
     "start_time": "2020-08-28T20:15:08.691024",
     "status": "completed"
    },
    "tags": []
   },
   "outputs": [],
   "source": [
    "model_new = Model(layers[:-2])"
   ]
  },
  {
   "cell_type": "code",
   "execution_count": 26,
   "metadata": {
    "execution": {
     "iopub.execute_input": "2020-08-28T20:15:08.835246Z",
     "iopub.status.busy": "2020-08-28T20:15:08.834710Z",
     "iopub.status.idle": "2020-08-28T20:15:08.853956Z",
     "shell.execute_reply": "2020-08-28T20:15:08.854451Z"
    },
    "papermill": {
     "duration": 0.062646,
     "end_time": "2020-08-28T20:15:08.854614",
     "exception": false,
     "start_time": "2020-08-28T20:15:08.791968",
     "status": "completed"
    },
    "tags": []
   },
   "outputs": [],
   "source": [
    "plot_testing = model_new(testing_xdata)"
   ]
  },
  {
   "cell_type": "markdown",
   "metadata": {
    "papermill": {
     "duration": 0.040637,
     "end_time": "2020-08-28T20:15:08.938030",
     "exception": false,
     "start_time": "2020-08-28T20:15:08.897393",
     "status": "completed"
    },
    "tags": []
   },
   "source": [
    "##### Plotting the scatter plot of points and color coding by class"
   ]
  },
  {
   "cell_type": "code",
   "execution_count": 27,
   "metadata": {
    "execution": {
     "iopub.execute_input": "2020-08-28T20:15:09.050260Z",
     "iopub.status.busy": "2020-08-28T20:15:09.049773Z",
     "iopub.status.idle": "2020-08-28T20:15:09.228661Z",
     "shell.execute_reply": "2020-08-28T20:15:09.229184Z"
    },
    "papermill": {
     "duration": 0.250316,
     "end_time": "2020-08-28T20:15:09.229340",
     "exception": false,
     "start_time": "2020-08-28T20:15:08.979024",
     "status": "completed"
    },
    "tags": []
   },
   "outputs": [
    {
     "data": {
      "image/png": "[encoded data removed]",
      "text/plain": [
       "<Figure size 576x504 with 1 Axes>"
      ]
     },
     "metadata": {
      "needs_background": "light"
     },
     "output_type": "display_data"
    }
   ],
   "source": [
    "plt.figure(figsize=(8,7))\n",
    "plt.scatter(plot_testing[:,0], plot_testing[:,1], alpha = 0.1, c = y_test.ravel());"
   ]
  },
  {
   "cell_type": "markdown",
   "metadata": {
    "papermill": {
     "duration": 0.040804,
     "end_time": "2020-08-28T20:15:09.312615",
     "exception": false,
     "start_time": "2020-08-28T20:15:09.271811",
     "status": "completed"
    },
    "tags": []
   },
   "source": [
    "##### Plotting probability contours"
   ]
  },
  {
   "cell_type": "code",
   "execution_count": 28,
   "metadata": {
    "execution": {
     "iopub.execute_input": "2020-08-28T20:15:09.404243Z",
     "iopub.status.busy": "2020-08-28T20:15:09.402949Z",
     "iopub.status.idle": "2020-08-28T20:15:09.417741Z",
     "shell.execute_reply": "2020-08-28T20:15:09.418207Z"
    },
    "papermill": {
     "duration": 0.063847,
     "end_time": "2020-08-28T20:15:09.418360",
     "exception": false,
     "start_time": "2020-08-28T20:15:09.354513",
     "status": "completed"
    },
    "tags": []
   },
   "outputs": [],
   "source": [
    "model_prob = Model(layers[-2:]) ## picking only last two layers to get probability. That is affine followed by sigmoid"
   ]
  },
  {
   "cell_type": "code",
   "execution_count": 29,
   "metadata": {
    "execution": {
     "iopub.execute_input": "2020-08-28T20:15:09.513885Z",
     "iopub.status.busy": "2020-08-28T20:15:09.513307Z",
     "iopub.status.idle": "2020-08-28T20:15:09.528232Z",
     "shell.execute_reply": "2020-08-28T20:15:09.528689Z"
    },
    "papermill": {
     "duration": 0.065279,
     "end_time": "2020-08-28T20:15:09.528843",
     "exception": false,
     "start_time": "2020-08-28T20:15:09.463564",
     "status": "completed"
    },
    "tags": []
   },
   "outputs": [],
   "source": [
    "xgrid = np.linspace(-4, 1, 100) ## Adjust these values based on above chart, roughly -4 to 1\n",
    "ygrid = np.linspace(-7.5, 7.5, 100) ## Adjust these values based on above chart, roughly -7.5, 7.5\n",
    "xg, yg = np.meshgrid(xgrid, ygrid)\n",
    "# xg and yg are now both 100X100, lets convert them to single arrays \n",
    "\n",
    "xg_interim = np.ravel(xg)\n",
    "yg_interim = np.ravel(yg)\n",
    "\n",
    "## xg_interim, yg_interim are now arrays of len 10000, now we will stack them and then transpose to get desired shape of n rows, 2 columns\n",
    "\n",
    "X_interim = np.vstack((xg_interim, yg_interim)) ## Please note vstack takes in a tuple\n",
    "X = X_interim.T\n",
    "\n",
    "## We want a shape of n rows and 2 columns to be able to feed this to last affine\n",
    "## This last affine takes only two columns, hence the above transformation\n",
    "probability_contour = model_prob(X).reshape(100,100) ## to make it consistent with xg, yg"
   ]
  },
  {
   "cell_type": "code",
   "execution_count": 30,
   "metadata": {
    "execution": {
     "iopub.execute_input": "2020-08-28T20:15:09.628803Z",
     "iopub.status.busy": "2020-08-28T20:15:09.625144Z",
     "iopub.status.idle": "2020-08-28T20:15:09.846798Z",
     "shell.execute_reply": "2020-08-28T20:15:09.846347Z"
    },
    "papermill": {
     "duration": 0.272846,
     "end_time": "2020-08-28T20:15:09.846930",
     "exception": false,
     "start_time": "2020-08-28T20:15:09.574084",
     "status": "completed"
    },
    "tags": []
   },
   "outputs": [
    {
     "data": {
      "image/png": "[encoded data removed]",
      "text/plain": [
       "<Figure size 576x504 with 1 Axes>"
      ]
     },
     "metadata": {
      "needs_background": "light"
     },
     "output_type": "display_data"
    }
   ],
   "source": [
    "plt.figure(figsize=(8,7))\n",
    "plt.scatter(plot_testing[:,0], plot_testing[:,1], alpha = 0.1, c = y_test.ravel())\n",
    "contours = plt.contour(xg,yg,probability_contour)\n",
    "plt.clabel(contours, inline = True );"
   ]
  }
 ],
 "metadata": {
  "kernelspec": {
   "display_name": "Python 3",
   "language": "python",
   "name": "python3"
  },
  "language_info": {
   "codemirror_mode": {
    "name": "ipython",
    "version": 3
   },
   "file_extension": ".py",
   "mimetype": "text/x-python",
   "name": "python",
   "nbconvert_exporter": "python",
   "pygments_lexer": "ipython3",
   "version": "3.6.11"
  },
  "papermill": {
   "duration": 103.627318,
   "end_time": "2020-08-28T20:15:10.299971",
   "environment_variables": {},
   "exception": null,
   "input_path": "2020-08-07-NN-new.ipynb",
   "output_path": "2020-08-07-NN-new.ipynb",
   "parameters": {},
   "start_time": "2020-08-28T20:13:26.672653",
   "version": "2.1.2"
  }
 },
 "nbformat": 4,
 "nbformat_minor": 4
}