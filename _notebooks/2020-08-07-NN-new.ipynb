{
 "cells": [
  {
   "cell_type": "markdown",
   "metadata": {
    "papermill": {
     "duration": 0.035427,
     "end_time": "2020-08-10T00:28:04.137596",
     "exception": false,
     "start_time": "2020-08-10T00:28:04.102169",
     "status": "completed"
    },
    "tags": []
   },
   "source": [
    "# \"Building a basic Neural Network from scratch - Kudzu\"\n",
    "\n",
    "- badges: true\n",
    "- author: Anshuman Gupta"
   ]
  },
  {
   "cell_type": "markdown",
   "metadata": {
    "papermill": {
     "duration": 0.029222,
     "end_time": "2020-08-10T00:28:04.198295",
     "exception": false,
     "start_time": "2020-08-10T00:28:04.169073",
     "status": "completed"
    },
    "tags": []
   },
   "source": [
    "#### In this project, the idea is to write a classifier to differentiate between handwritten digits 3 and 8, from the MNIST database.\n",
    "\n",
    "#### I will using a custom built neural network library called Kudzu.This has been developed as a part of KTF/Foundations course of Univ.ai (www.univ.ai). The source code for Kudzu Library and and this notebook can be found on my git-hub profile : www.https://github.com/anshuman6 under the folder project-solution. Any feedback and comments are welcome. Please feel free to email me at: anshuman6@gmail.com\n",
    "\n",
    "#### 1. I will be using the MNIST database. \n",
    "\n",
    "#### 2. I will be comparing the results of the 4 layer NN to a standard logistic regression"
   ]
  },
  {
   "cell_type": "markdown",
   "metadata": {
    "papermill": {
     "duration": 0.031657,
     "end_time": "2020-08-10T00:28:04.260660",
     "exception": false,
     "start_time": "2020-08-10T00:28:04.229003",
     "status": "completed"
    },
    "tags": []
   },
   "source": [
    "##### Importing all the necessary libraries"
   ]
  },
  {
   "cell_type": "code",
   "execution_count": 1,
   "metadata": {
    "execution": {
     "iopub.execute_input": "2020-08-10T00:28:04.332919Z",
     "iopub.status.busy": "2020-08-10T00:28:04.332170Z",
     "iopub.status.idle": "2020-08-10T00:28:04.344828Z",
     "shell.execute_reply": "2020-08-10T00:28:04.344226Z"
    },
    "papermill": {
     "duration": 0.051951,
     "end_time": "2020-08-10T00:28:04.344986",
     "exception": false,
     "start_time": "2020-08-10T00:28:04.293035",
     "status": "completed"
    },
    "tags": []
   },
   "outputs": [],
   "source": [
    "%load_ext autoreload\n",
    "%autoreload 2"
   ]
  },
  {
   "cell_type": "code",
   "execution_count": 2,
   "metadata": {
    "execution": {
     "iopub.execute_input": "2020-08-10T00:28:04.411129Z",
     "iopub.status.busy": "2020-08-10T00:28:04.410487Z",
     "iopub.status.idle": "2020-08-10T00:28:05.036328Z",
     "shell.execute_reply": "2020-08-10T00:28:05.035729Z"
    },
    "papermill": {
     "duration": 0.660965,
     "end_time": "2020-08-10T00:28:05.036499",
     "exception": false,
     "start_time": "2020-08-10T00:28:04.375534",
     "status": "completed"
    },
    "tags": []
   },
   "outputs": [],
   "source": [
    "%matplotlib inline\n",
    "import numpy as np\n",
    "import matplotlib.pyplot as plt\n",
    "import pandas as pd"
   ]
  },
  {
   "cell_type": "markdown",
   "metadata": {
    "papermill": {
     "duration": 0.033342,
     "end_time": "2020-08-10T00:28:05.103197",
     "exception": false,
     "start_time": "2020-08-10T00:28:05.069855",
     "status": "completed"
    },
    "tags": []
   },
   "source": [
    "##### The following command helps us download MNIST from notebook itself. You can skip this if you already have MNIST. You can also download it via your terminal."
   ]
  },
  {
   "cell_type": "code",
   "execution_count": 3,
   "metadata": {
    "execution": {
     "iopub.execute_input": "2020-08-10T00:28:05.173612Z",
     "iopub.status.busy": "2020-08-10T00:28:05.172863Z",
     "iopub.status.idle": "2020-08-10T00:28:06.805452Z",
     "shell.execute_reply": "2020-08-10T00:28:06.804478Z"
    },
    "papermill": {
     "duration": 1.669622,
     "end_time": "2020-08-10T00:28:06.805605",
     "exception": false,
     "start_time": "2020-08-10T00:28:05.135983",
     "status": "completed"
    },
    "tags": []
   },
   "outputs": [
    {
     "name": "stdout",
     "output_type": "stream",
     "text": [
      "Collecting mnist\r\n"
     ]
    },
    {
     "name": "stdout",
     "output_type": "stream",
     "text": [
      "  Downloading mnist-0.2.2-py2.py3-none-any.whl (3.5 kB)\r\n"
     ]
    },
    {
     "name": "stdout",
     "output_type": "stream",
     "text": [
      "Requirement already satisfied: numpy in /opt/hostedtoolcache/Python/3.6.11/x64/lib/python3.6/site-packages (from mnist) (1.19.1)\r\n"
     ]
    },
    {
     "name": "stdout",
     "output_type": "stream",
     "text": [
      "Installing collected packages: mnist\r\n"
     ]
    },
    {
     "name": "stdout",
     "output_type": "stream",
     "text": [
      "Successfully installed mnist-0.2.2\r\n"
     ]
    },
    {
     "name": "stdout",
     "output_type": "stream",
     "text": [
      "\u001b[33mWARNING: You are using pip version 20.2; however, version 20.2.1 is available.\r\n",
      "You should consider upgrading via the '/opt/hostedtoolcache/Python/3.6.11/x64/bin/python -m pip install --upgrade pip' command.\u001b[0m\r\n"
     ]
    }
   ],
   "source": [
    "!pip install mnist # Please note, it is commented out for now, you can remove comment if you want to install it"
   ]
  },
  {
   "cell_type": "markdown",
   "metadata": {
    "papermill": {
     "duration": 0.036287,
     "end_time": "2020-08-10T00:28:06.877203",
     "exception": false,
     "start_time": "2020-08-10T00:28:06.840916",
     "status": "completed"
    },
    "tags": []
   },
   "source": [
    "#### Preparing the Data"
   ]
  },
  {
   "cell_type": "code",
   "execution_count": 4,
   "metadata": {
    "execution": {
     "iopub.execute_input": "2020-08-10T00:28:06.952768Z",
     "iopub.status.busy": "2020-08-10T00:28:06.952042Z",
     "iopub.status.idle": "2020-08-10T00:28:06.967690Z",
     "shell.execute_reply": "2020-08-10T00:28:06.967000Z"
    },
    "papermill": {
     "duration": 0.055311,
     "end_time": "2020-08-10T00:28:06.967861",
     "exception": false,
     "start_time": "2020-08-10T00:28:06.912550",
     "status": "completed"
    },
    "tags": []
   },
   "outputs": [],
   "source": [
    "import mnist"
   ]
  },
  {
   "cell_type": "code",
   "execution_count": 5,
   "metadata": {
    "execution": {
     "iopub.execute_input": "2020-08-10T00:28:07.043604Z",
     "iopub.status.busy": "2020-08-10T00:28:07.042878Z",
     "iopub.status.idle": "2020-08-10T00:28:07.849232Z",
     "shell.execute_reply": "2020-08-10T00:28:07.848361Z"
    },
    "papermill": {
     "duration": 0.846162,
     "end_time": "2020-08-10T00:28:07.849441",
     "exception": false,
     "start_time": "2020-08-10T00:28:07.003279",
     "status": "completed"
    },
    "tags": []
   },
   "outputs": [],
   "source": [
    "train_images = mnist.train_images()\n",
    "train_labels = mnist.train_labels()"
   ]
  },
  {
   "cell_type": "code",
   "execution_count": 6,
   "metadata": {
    "execution": {
     "iopub.execute_input": "2020-08-10T00:28:07.923452Z",
     "iopub.status.busy": "2020-08-10T00:28:07.922708Z",
     "iopub.status.idle": "2020-08-10T00:28:07.939060Z",
     "shell.execute_reply": "2020-08-10T00:28:07.939657Z"
    },
    "papermill": {
     "duration": 0.055633,
     "end_time": "2020-08-10T00:28:07.939828",
     "exception": false,
     "start_time": "2020-08-10T00:28:07.884195",
     "status": "completed"
    },
    "tags": []
   },
   "outputs": [
    {
     "data": {
      "text/plain": [
       "((60000, 28, 28), (60000,))"
      ]
     },
     "execution_count": 6,
     "metadata": {},
     "output_type": "execute_result"
    }
   ],
   "source": [
    "train_images.shape, train_labels.shape"
   ]
  },
  {
   "cell_type": "code",
   "execution_count": 7,
   "metadata": {
    "execution": {
     "iopub.execute_input": "2020-08-10T00:28:08.011197Z",
     "iopub.status.busy": "2020-08-10T00:28:08.010473Z",
     "iopub.status.idle": "2020-08-10T00:28:08.286582Z",
     "shell.execute_reply": "2020-08-10T00:28:08.285906Z"
    },
    "papermill": {
     "duration": 0.313984,
     "end_time": "2020-08-10T00:28:08.286747",
     "exception": false,
     "start_time": "2020-08-10T00:28:07.972763",
     "status": "completed"
    },
    "tags": []
   },
   "outputs": [],
   "source": [
    "test_images = mnist.test_images()\n",
    "test_labels = mnist.test_labels()"
   ]
  },
  {
   "cell_type": "code",
   "execution_count": 8,
   "metadata": {
    "execution": {
     "iopub.execute_input": "2020-08-10T00:28:08.361826Z",
     "iopub.status.busy": "2020-08-10T00:28:08.361112Z",
     "iopub.status.idle": "2020-08-10T00:28:08.377067Z",
     "shell.execute_reply": "2020-08-10T00:28:08.377745Z"
    },
    "papermill": {
     "duration": 0.056059,
     "end_time": "2020-08-10T00:28:08.377927",
     "exception": false,
     "start_time": "2020-08-10T00:28:08.321868",
     "status": "completed"
    },
    "tags": []
   },
   "outputs": [
    {
     "data": {
      "text/plain": [
       "((10000, 28, 28), (10000,))"
      ]
     },
     "execution_count": 8,
     "metadata": {},
     "output_type": "execute_result"
    }
   ],
   "source": [
    "test_images.shape, test_labels.shape"
   ]
  },
  {
   "cell_type": "code",
   "execution_count": 9,
   "metadata": {
    "execution": {
     "iopub.execute_input": "2020-08-10T00:28:08.454182Z",
     "iopub.status.busy": "2020-08-10T00:28:08.453476Z",
     "iopub.status.idle": "2020-08-10T00:28:08.667607Z",
     "shell.execute_reply": "2020-08-10T00:28:08.668167Z"
    },
    "papermill": {
     "duration": 0.253589,
     "end_time": "2020-08-10T00:28:08.668342",
     "exception": false,
     "start_time": "2020-08-10T00:28:08.414753",
     "status": "completed"
    },
    "tags": []
   },
   "outputs": [
    {
     "name": "stdout",
     "output_type": "stream",
     "text": [
      "2\n"
     ]
    },
    {
     "data": {
      "text/plain": [
       "<matplotlib.image.AxesImage at 0x7f2a898d3a20>"
      ]
     },
     "execution_count": 9,
     "metadata": {},
     "output_type": "execute_result"
    },
    {
     "data": {
      "image/png": "[encoded data removed]",
      "text/plain": [
       "<Figure size 432x288 with 1 Axes>"
      ]
     },
     "metadata": {
      "needs_background": "light"
     },
     "output_type": "display_data"
    }
   ],
   "source": [
    "image_index = 7776 # You may select anything up to 60,000\n",
    "print(train_labels[image_index]) \n",
    "plt.imshow(train_images[image_index], cmap='Greys')"
   ]
  },
  {
   "cell_type": "markdown",
   "metadata": {
    "papermill": {
     "duration": 0.036977,
     "end_time": "2020-08-10T00:28:08.743483",
     "exception": false,
     "start_time": "2020-08-10T00:28:08.706506",
     "status": "completed"
    },
    "tags": []
   },
   "source": [
    "## Filter data to get 3 and 8 out"
   ]
  },
  {
   "cell_type": "code",
   "execution_count": 10,
   "metadata": {
    "execution": {
     "iopub.execute_input": "2020-08-10T00:28:08.820438Z",
     "iopub.status.busy": "2020-08-10T00:28:08.819641Z",
     "iopub.status.idle": "2020-08-10T00:28:08.840296Z",
     "shell.execute_reply": "2020-08-10T00:28:08.840960Z"
    },
    "papermill": {
     "duration": 0.061814,
     "end_time": "2020-08-10T00:28:08.841191",
     "exception": false,
     "start_time": "2020-08-10T00:28:08.779377",
     "status": "completed"
    },
    "tags": []
   },
   "outputs": [],
   "source": [
    "train_filter = np.where((train_labels == 3 ) | (train_labels == 8))\n",
    "test_filter = np.where((test_labels == 3) | (test_labels == 8))\n",
    "X_train, y_train = train_images[train_filter], train_labels[train_filter]\n",
    "X_test, y_test = test_images[test_filter], test_labels[test_filter]"
   ]
  },
  {
   "cell_type": "markdown",
   "metadata": {
    "papermill": {
     "duration": 0.033586,
     "end_time": "2020-08-10T00:28:08.911171",
     "exception": false,
     "start_time": "2020-08-10T00:28:08.877585",
     "status": "completed"
    },
    "tags": []
   },
   "source": [
    "##### We normalize the pizel values in the 0 to 1 range"
   ]
  },
  {
   "cell_type": "code",
   "execution_count": 11,
   "metadata": {
    "execution": {
     "iopub.execute_input": "2020-08-10T00:28:08.994263Z",
     "iopub.status.busy": "2020-08-10T00:28:08.993599Z",
     "iopub.status.idle": "2020-08-10T00:28:09.060790Z",
     "shell.execute_reply": "2020-08-10T00:28:09.060089Z"
    },
    "papermill": {
     "duration": 0.107901,
     "end_time": "2020-08-10T00:28:09.060980",
     "exception": false,
     "start_time": "2020-08-10T00:28:08.953079",
     "status": "completed"
    },
    "tags": []
   },
   "outputs": [],
   "source": [
    "X_train = X_train/255.\n",
    "X_test = X_test/255."
   ]
  },
  {
   "cell_type": "markdown",
   "metadata": {
    "papermill": {
     "duration": 0.037725,
     "end_time": "2020-08-10T00:28:09.136559",
     "exception": false,
     "start_time": "2020-08-10T00:28:09.098834",
     "status": "completed"
    },
    "tags": []
   },
   "source": [
    "And setup the labels as 1 (when the digit is 3) and 0 (when the digit is 8)"
   ]
  },
  {
   "cell_type": "code",
   "execution_count": 12,
   "metadata": {
    "execution": {
     "iopub.execute_input": "2020-08-10T00:28:09.215109Z",
     "iopub.status.busy": "2020-08-10T00:28:09.214448Z",
     "iopub.status.idle": "2020-08-10T00:28:09.228461Z",
     "shell.execute_reply": "2020-08-10T00:28:09.229094Z"
    },
    "papermill": {
     "duration": 0.054947,
     "end_time": "2020-08-10T00:28:09.229276",
     "exception": false,
     "start_time": "2020-08-10T00:28:09.174329",
     "status": "completed"
    },
    "tags": []
   },
   "outputs": [],
   "source": [
    "y_train = 1*(y_train==3)\n",
    "y_test = 1*(y_test==3)"
   ]
  },
  {
   "cell_type": "code",
   "execution_count": 13,
   "metadata": {
    "execution": {
     "iopub.execute_input": "2020-08-10T00:28:09.308070Z",
     "iopub.status.busy": "2020-08-10T00:28:09.307378Z",
     "iopub.status.idle": "2020-08-10T00:28:09.322439Z",
     "shell.execute_reply": "2020-08-10T00:28:09.321814Z"
    },
    "papermill": {
     "duration": 0.055165,
     "end_time": "2020-08-10T00:28:09.322578",
     "exception": false,
     "start_time": "2020-08-10T00:28:09.267413",
     "status": "completed"
    },
    "tags": []
   },
   "outputs": [
    {
     "data": {
      "text/plain": [
       "((11982, 28, 28), (1984, 28, 28))"
      ]
     },
     "execution_count": 13,
     "metadata": {},
     "output_type": "execute_result"
    }
   ],
   "source": [
    "X_train.shape, X_test.shape"
   ]
  },
  {
   "cell_type": "markdown",
   "metadata": {
    "papermill": {
     "duration": 0.034594,
     "end_time": "2020-08-10T00:28:09.394271",
     "exception": false,
     "start_time": "2020-08-10T00:28:09.359677",
     "status": "completed"
    },
    "tags": []
   },
   "source": [
    "##### We reshape the data to flatten the image pixels into a set of features or co-variates:"
   ]
  },
  {
   "cell_type": "code",
   "execution_count": 14,
   "metadata": {
    "execution": {
     "iopub.execute_input": "2020-08-10T00:28:09.469753Z",
     "iopub.status.busy": "2020-08-10T00:28:09.469088Z",
     "iopub.status.idle": "2020-08-10T00:28:09.486833Z",
     "shell.execute_reply": "2020-08-10T00:28:09.486258Z"
    },
    "papermill": {
     "duration": 0.05754,
     "end_time": "2020-08-10T00:28:09.486969",
     "exception": false,
     "start_time": "2020-08-10T00:28:09.429429",
     "status": "completed"
    },
    "tags": []
   },
   "outputs": [
    {
     "data": {
      "text/plain": [
       "((11982, 784), (1984, 784))"
      ]
     },
     "execution_count": 14,
     "metadata": {},
     "output_type": "execute_result"
    }
   ],
   "source": [
    "X_train = X_train.reshape(X_train.shape[0], -1)\n",
    "X_test = X_test.reshape(X_test.shape[0], -1)\n",
    "X_train.shape, X_test.shape"
   ]
  },
  {
   "cell_type": "markdown",
   "metadata": {
    "papermill": {
     "duration": 0.037659,
     "end_time": "2020-08-10T00:28:09.563663",
     "exception": false,
     "start_time": "2020-08-10T00:28:09.526004",
     "status": "completed"
    },
    "tags": []
   },
   "source": [
    "##### Importing Kudzu library and its functionality"
   ]
  },
  {
   "cell_type": "code",
   "execution_count": 15,
   "metadata": {
    "execution": {
     "iopub.execute_input": "2020-08-10T00:28:09.640754Z",
     "iopub.status.busy": "2020-08-10T00:28:09.640090Z",
     "iopub.status.idle": "2020-08-10T00:28:09.661352Z",
     "shell.execute_reply": "2020-08-10T00:28:09.660717Z"
    },
    "papermill": {
     "duration": 0.062046,
     "end_time": "2020-08-10T00:28:09.661545",
     "exception": false,
     "start_time": "2020-08-10T00:28:09.599499",
     "status": "completed"
    },
    "tags": []
   },
   "outputs": [],
   "source": [
    "from kudzu.data import Data, Dataloader, Sampler\n",
    "from kudzu.callbacks import AccCallback\n",
    "from kudzu.loss import MSE\n",
    "from kudzu.layer import Affine, Sigmoid\n",
    "from kudzu.model import Model\n",
    "from kudzu.optim import GD\n",
    "from kudzu.train import Learner\n",
    "from kudzu.callbacks import ClfCallback\n",
    "from kudzu.layer import Sigmoid\n",
    "from kudzu.layer import Relu"
   ]
  },
  {
   "cell_type": "markdown",
   "metadata": {
    "papermill": {
     "duration": 0.037393,
     "end_time": "2020-08-10T00:28:09.736348",
     "exception": false,
     "start_time": "2020-08-10T00:28:09.698955",
     "status": "completed"
    },
    "tags": []
   },
   "source": [
    "##### We are creating a class, just so that we can use it to store our parameters for us"
   ]
  },
  {
   "cell_type": "code",
   "execution_count": 16,
   "metadata": {
    "execution": {
     "iopub.execute_input": "2020-08-10T00:28:09.818291Z",
     "iopub.status.busy": "2020-08-10T00:28:09.817621Z",
     "iopub.status.idle": "2020-08-10T00:28:09.830693Z",
     "shell.execute_reply": "2020-08-10T00:28:09.831307Z"
    },
    "papermill": {
     "duration": 0.054547,
     "end_time": "2020-08-10T00:28:09.831528",
     "exception": false,
     "start_time": "2020-08-10T00:28:09.776981",
     "status": "completed"
    },
    "tags": []
   },
   "outputs": [],
   "source": [
    "class Config:\n",
    "    pass\n",
    "config = Config()\n",
    "config.lr = 0.001\n",
    "config.num_epochs = 250\n",
    "config.bs = 50"
   ]
  },
  {
   "cell_type": "markdown",
   "metadata": {
    "papermill": {
     "duration": 0.036002,
     "end_time": "2020-08-10T00:28:09.906259",
     "exception": false,
     "start_time": "2020-08-10T00:28:09.870257",
     "status": "completed"
    },
    "tags": []
   },
   "source": [
    "##### Initializing Data"
   ]
  },
  {
   "cell_type": "code",
   "execution_count": 17,
   "metadata": {
    "execution": {
     "iopub.execute_input": "2020-08-10T00:28:09.981773Z",
     "iopub.status.busy": "2020-08-10T00:28:09.981075Z",
     "iopub.status.idle": "2020-08-10T00:28:09.994766Z",
     "shell.execute_reply": "2020-08-10T00:28:09.994195Z"
    },
    "papermill": {
     "duration": 0.054134,
     "end_time": "2020-08-10T00:28:09.994898",
     "exception": false,
     "start_time": "2020-08-10T00:28:09.940764",
     "status": "completed"
    },
    "tags": []
   },
   "outputs": [],
   "source": [
    "data = Data(X_train, y_train.reshape(-1,1))\n",
    "loss = MSE()\n",
    "opt = GD(config.lr)\n",
    "sampler = Sampler(data, config.bs, shuffle=True)\n",
    "dl = Dataloader(data, sampler)"
   ]
  },
  {
   "cell_type": "markdown",
   "metadata": {
    "papermill": {
     "duration": 0.037575,
     "end_time": "2020-08-10T00:28:10.068322",
     "exception": false,
     "start_time": "2020-08-10T00:28:10.030747",
     "status": "completed"
    },
    "tags": []
   },
   "source": [
    "##### Constructing 2 different layers, one for NN and one only for logistic regression."
   ]
  },
  {
   "cell_type": "markdown",
   "metadata": {
    "papermill": {
     "duration": 0.038028,
     "end_time": "2020-08-10T00:28:10.142297",
     "exception": false,
     "start_time": "2020-08-10T00:28:10.104269",
     "status": "completed"
    },
    "tags": []
   },
   "source": [
    "##### Creating containers for data to be passed, to calculate accuracies"
   ]
  },
  {
   "cell_type": "code",
   "execution_count": 18,
   "metadata": {
    "execution": {
     "iopub.execute_input": "2020-08-10T00:28:10.220985Z",
     "iopub.status.busy": "2020-08-10T00:28:10.220234Z",
     "iopub.status.idle": "2020-08-10T00:28:10.233955Z",
     "shell.execute_reply": "2020-08-10T00:28:10.233380Z"
    },
    "papermill": {
     "duration": 0.055609,
     "end_time": "2020-08-10T00:28:10.234109",
     "exception": false,
     "start_time": "2020-08-10T00:28:10.178500",
     "status": "completed"
    },
    "tags": []
   },
   "outputs": [],
   "source": [
    "training_xdata = X_train\n",
    "testing_xdata = X_test\n",
    "training_ydata = y_train.reshape(-1,1)\n",
    "testing_ydata = y_test.reshape(-1,1)"
   ]
  },
  {
   "cell_type": "markdown",
   "metadata": {
    "papermill": {
     "duration": 0.036965,
     "end_time": "2020-08-10T00:28:10.308469",
     "exception": false,
     "start_time": "2020-08-10T00:28:10.271504",
     "status": "completed"
    },
    "tags": []
   },
   "source": [
    "##### Initializing models and Running training loop: "
   ]
  },
  {
   "cell_type": "code",
   "execution_count": 19,
   "metadata": {
    "execution": {
     "iopub.execute_input": "2020-08-10T00:28:10.393404Z",
     "iopub.status.busy": "2020-08-10T00:28:10.392636Z",
     "iopub.status.idle": "2020-08-10T00:28:10.412349Z",
     "shell.execute_reply": "2020-08-10T00:28:10.411779Z"
    },
    "papermill": {
     "duration": 0.062011,
     "end_time": "2020-08-10T00:28:10.412513",
     "exception": false,
     "start_time": "2020-08-10T00:28:10.350502",
     "status": "completed"
    },
    "tags": []
   },
   "outputs": [],
   "source": [
    "layers = [Affine(\"first\", 784, 100), Relu(\"first\"), Affine(\"second\", 100, 100), Relu(\"second\"), Affine(\"third\", 100, 2), Affine(\"final\", 2, 1), Sigmoid(\"final\")]\n",
    "\n",
    "model_neural = Model(layers)\n",
    "model_logistic = Model([Affine(\"logits\", 784, 1), Sigmoid(\"sigmoid\")])"
   ]
  },
  {
   "cell_type": "code",
   "execution_count": 20,
   "metadata": {
    "execution": {
     "iopub.execute_input": "2020-08-10T00:28:10.493330Z",
     "iopub.status.busy": "2020-08-10T00:28:10.492642Z",
     "iopub.status.idle": "2020-08-10T00:28:10.508185Z",
     "shell.execute_reply": "2020-08-10T00:28:10.507451Z"
    },
    "papermill": {
     "duration": 0.057479,
     "end_time": "2020-08-10T00:28:10.508342",
     "exception": false,
     "start_time": "2020-08-10T00:28:10.450863",
     "status": "completed"
    },
    "tags": []
   },
   "outputs": [],
   "source": [
    "learner1 = Learner(loss, model_neural, opt, config.num_epochs)\n",
    "acc1 = ClfCallback(learner1, config.bs, training_xdata , testing_xdata, training_ydata, testing_ydata)\n",
    "learner1.set_callbacks([acc1])"
   ]
  },
  {
   "cell_type": "code",
   "execution_count": 21,
   "metadata": {
    "execution": {
     "iopub.execute_input": "2020-08-10T00:28:10.596485Z",
     "iopub.status.busy": "2020-08-10T00:28:10.588595Z",
     "iopub.status.idle": "2020-08-10T00:30:32.327557Z",
     "shell.execute_reply": "2020-08-10T00:30:32.328459Z"
    },
    "papermill": {
     "duration": 141.782473,
     "end_time": "2020-08-10T00:30:32.328640",
     "exception": false,
     "start_time": "2020-08-10T00:28:10.546167",
     "status": "completed"
    },
    "tags": []
   },
   "outputs": [
    {
     "name": "stdout",
     "output_type": "stream",
     "text": [
      "Epoch 0 Loss 0.24520829800738092\n",
      "train accuracy is: 0.6228509430812886, test accuracy is 0.6204637096774194\n"
     ]
    },
    {
     "name": "stdout",
     "output_type": "stream",
     "text": [
      "Epoch 10 Loss 0.11301478185175597\n",
      "train accuracy is: 0.8911700884660324, test accuracy is 0.8956653225806451\n"
     ]
    },
    {
     "name": "stdout",
     "output_type": "stream",
     "text": [
      "Epoch 20 Loss 0.06825878690851143\n",
      "train accuracy is: 0.9262226673343348, test accuracy is 0.9359879032258065\n"
     ]
    },
    {
     "name": "stdout",
     "output_type": "stream",
     "text": [
      "Epoch 30 Loss 0.05112358617896959\n",
      "train accuracy is: 0.9439993323318311, test accuracy is 0.9556451612903226\n"
     ]
    },
    {
     "name": "stdout",
     "output_type": "stream",
     "text": [
      "Epoch 40 Loss 0.04248052951771011\n",
      "train accuracy is: 0.9522617259222167, test accuracy is 0.9632056451612904\n"
     ]
    },
    {
     "name": "stdout",
     "output_type": "stream",
     "text": [
      "Epoch 50 Loss 0.03741974670466319\n",
      "train accuracy is: 0.957686529794692, test accuracy is 0.9672379032258065\n"
     ]
    },
    {
     "name": "stdout",
     "output_type": "stream",
     "text": [
      "Epoch 60 Loss 0.03408357825694955\n",
      "train accuracy is: 0.9601902854281422, test accuracy is 0.969758064516129\n"
     ]
    },
    {
     "name": "stdout",
     "output_type": "stream",
     "text": [
      "Epoch 70 Loss 0.03167911303203666\n",
      "train accuracy is: 0.9624436654982473, test accuracy is 0.9712701612903226\n"
     ]
    },
    {
     "name": "stdout",
     "output_type": "stream",
     "text": [
      "Epoch 80 Loss 0.02982364058760666\n",
      "train accuracy is: 0.9648639626105825, test accuracy is 0.9717741935483871\n"
     ]
    },
    {
     "name": "stdout",
     "output_type": "stream",
     "text": [
      "Epoch 90 Loss 0.028337514492008088\n",
      "train accuracy is: 0.9670338841595727, test accuracy is 0.9707661290322581\n"
     ]
    },
    {
     "name": "stdout",
     "output_type": "stream",
     "text": [
      "Epoch 100 Loss 0.027107430058534845\n",
      "train accuracy is: 0.9688699716241028, test accuracy is 0.9717741935483871\n"
     ]
    },
    {
     "name": "stdout",
     "output_type": "stream",
     "text": [
      "Epoch 110 Loss 0.026066307673629188\n",
      "train accuracy is: 0.9702053079619429, test accuracy is 0.9722782258064516\n"
     ]
    },
    {
     "name": "stdout",
     "output_type": "stream",
     "text": [
      "Epoch 120 Loss 0.025157545649971545\n",
      "train accuracy is: 0.971290268736438, test accuracy is 0.9722782258064516\n"
     ]
    },
    {
     "name": "stdout",
     "output_type": "stream",
     "text": [
      "Epoch 130 Loss 0.024345489228180247\n",
      "train accuracy is: 0.9716241028208981, test accuracy is 0.9737903225806451\n"
     ]
    },
    {
     "name": "stdout",
     "output_type": "stream",
     "text": [
      "Epoch 140 Loss 0.02361851465911821\n",
      "train accuracy is: 0.9729594391587381, test accuracy is 0.9737903225806451\n"
     ]
    },
    {
     "name": "stdout",
     "output_type": "stream",
     "text": [
      "Epoch 150 Loss 0.022958735525862365\n",
      "train accuracy is: 0.9732932732431981, test accuracy is 0.9737903225806451\n"
     ]
    },
    {
     "name": "stdout",
     "output_type": "stream",
     "text": [
      "Epoch 160 Loss 0.022352316048392506\n",
      "train accuracy is: 0.9742947754965782, test accuracy is 0.9742943548387096\n"
     ]
    },
    {
     "name": "stdout",
     "output_type": "stream",
     "text": [
      "Epoch 170 Loss 0.02178720334005331\n",
      "train accuracy is: 0.9747955266232682, test accuracy is 0.9742943548387096\n"
     ]
    },
    {
     "name": "stdout",
     "output_type": "stream",
     "text": [
      "Epoch 180 Loss 0.021261601230864787\n",
      "train accuracy is: 0.9754631947921882, test accuracy is 0.9742943548387096\n"
     ]
    },
    {
     "name": "stdout",
     "output_type": "stream",
     "text": [
      "Epoch 190 Loss 0.020774419498956993\n",
      "train accuracy is: 0.9757970288766483, test accuracy is 0.9737903225806451\n"
     ]
    },
    {
     "name": "stdout",
     "output_type": "stream",
     "text": [
      "Epoch 200 Loss 0.020313861210122568\n",
      "train accuracy is: 0.9763812385244534, test accuracy is 0.9742943548387096\n"
     ]
    },
    {
     "name": "stdout",
     "output_type": "stream",
     "text": [
      "Epoch 210 Loss 0.01987479057012885\n",
      "train accuracy is: 0.9773827407778334, test accuracy is 0.9747983870967742\n"
     ]
    },
    {
     "name": "stdout",
     "output_type": "stream",
     "text": [
      "Epoch 220 Loss 0.01945723227877734\n",
      "train accuracy is: 0.9778000333834085, test accuracy is 0.9753024193548387\n"
     ]
    },
    {
     "name": "stdout",
     "output_type": "stream",
     "text": [
      "Epoch 230 Loss 0.019060049501773188\n",
      "train accuracy is: 0.9787180771156735, test accuracy is 0.9753024193548387\n"
     ]
    },
    {
     "name": "stdout",
     "output_type": "stream",
     "text": [
      "Epoch 240 Loss 0.01867610762090348\n",
      "train accuracy is: 0.9792188282423635, test accuracy is 0.9753024193548387\n"
     ]
    },
    {
     "data": {
      "text/plain": [
       "0.0025585035940852087"
      ]
     },
     "execution_count": 21,
     "metadata": {},
     "output_type": "execute_result"
    }
   ],
   "source": [
    "learner1.train_loop(dl)"
   ]
  },
  {
   "cell_type": "markdown",
   "metadata": {
    "papermill": {
     "duration": 0.048487,
     "end_time": "2020-08-10T00:30:32.426754",
     "exception": false,
     "start_time": "2020-08-10T00:30:32.378267",
     "status": "completed"
    },
    "tags": []
   },
   "source": [
    "##### Now running only the logistic regression based classification to compare results with NN"
   ]
  },
  {
   "cell_type": "code",
   "execution_count": 22,
   "metadata": {
    "execution": {
     "iopub.execute_input": "2020-08-10T00:30:32.523860Z",
     "iopub.status.busy": "2020-08-10T00:30:32.523141Z",
     "iopub.status.idle": "2020-08-10T00:30:32.538356Z",
     "shell.execute_reply": "2020-08-10T00:30:32.537607Z"
    },
    "papermill": {
     "duration": 0.065403,
     "end_time": "2020-08-10T00:30:32.538514",
     "exception": false,
     "start_time": "2020-08-10T00:30:32.473111",
     "status": "completed"
    },
    "tags": []
   },
   "outputs": [],
   "source": [
    "learner2 = Learner(loss, model_logistic, opt, config.num_epochs)\n",
    "acc2 = ClfCallback(learner2, config.bs, training_xdata , testing_xdata, training_ydata, testing_ydata)\n",
    "learner2.set_callbacks([acc2])"
   ]
  },
  {
   "cell_type": "code",
   "execution_count": 23,
   "metadata": {
    "execution": {
     "iopub.execute_input": "2020-08-10T00:30:32.638066Z",
     "iopub.status.busy": "2020-08-10T00:30:32.636018Z",
     "iopub.status.idle": "2020-08-10T00:30:53.568997Z",
     "shell.execute_reply": "2020-08-10T00:30:53.569657Z"
    },
    "papermill": {
     "duration": 20.984557,
     "end_time": "2020-08-10T00:30:53.569878",
     "exception": false,
     "start_time": "2020-08-10T00:30:32.585321",
     "status": "completed"
    },
    "tags": []
   },
   "outputs": [
    {
     "name": "stdout",
     "output_type": "stream",
     "text": [
      "Epoch 0 Loss 0.23169113265064448\n",
      "train accuracy is: 0.7056417960273744, test accuracy is 0.704133064516129\n"
     ]
    },
    {
     "name": "stdout",
     "output_type": "stream",
     "text": [
      "Epoch 10 Loss 0.10583473528970308\n",
      "train accuracy is: 0.8963445167751627, test accuracy is 0.9077620967741935\n"
     ]
    },
    {
     "name": "stdout",
     "output_type": "stream",
     "text": [
      "Epoch 20 Loss 0.08127025494316635\n",
      "train accuracy is: 0.9219662827574695, test accuracy is 0.9339717741935484\n"
     ]
    },
    {
     "name": "stdout",
     "output_type": "stream",
     "text": [
      "Epoch 30 Loss 0.06982684993445858\n",
      "train accuracy is: 0.9323985978968453, test accuracy is 0.9480846774193549\n"
     ]
    },
    {
     "name": "stdout",
     "output_type": "stream",
     "text": [
      "Epoch 40 Loss 0.06293745430371786\n",
      "train accuracy is: 0.9377399432482056, test accuracy is 0.952116935483871\n"
     ]
    },
    {
     "name": "stdout",
     "output_type": "stream",
     "text": [
      "Epoch 50 Loss 0.058241301800189514\n",
      "train accuracy is: 0.9406609914872308, test accuracy is 0.9566532258064516\n"
     ]
    },
    {
     "name": "stdout",
     "output_type": "stream",
     "text": [
      "Epoch 60 Loss 0.05479128539808712\n",
      "train accuracy is: 0.943832415289601, test accuracy is 0.9581653225806451\n"
     ]
    },
    {
     "name": "stdout",
     "output_type": "stream",
     "text": [
      "Epoch 70 Loss 0.052127014478713554\n",
      "train accuracy is: 0.9470872976130863, test accuracy is 0.9596774193548387\n"
     ]
    },
    {
     "name": "stdout",
     "output_type": "stream",
     "text": [
      "Epoch 80 Loss 0.04999190090694071\n",
      "train accuracy is: 0.9489233850776164, test accuracy is 0.9627016129032258\n"
     ]
    },
    {
     "name": "stdout",
     "output_type": "stream",
     "text": [
      "Epoch 90 Loss 0.048231526434408825\n",
      "train accuracy is: 0.9512602236688366, test accuracy is 0.9637096774193549\n"
     ]
    },
    {
     "name": "stdout",
     "output_type": "stream",
     "text": [
      "Epoch 100 Loss 0.04675095519488819\n",
      "train accuracy is: 0.9528459355700217, test accuracy is 0.9637096774193549\n"
     ]
    },
    {
     "name": "stdout",
     "output_type": "stream",
     "text": [
      "Epoch 110 Loss 0.04548160033603742\n",
      "train accuracy is: 0.9540978133867468, test accuracy is 0.9652217741935484\n"
     ]
    },
    {
     "name": "stdout",
     "output_type": "stream",
     "text": [
      "Epoch 120 Loss 0.044378147970552916\n",
      "train accuracy is: 0.9549323985978968, test accuracy is 0.9657258064516129\n"
     ]
    },
    {
     "name": "stdout",
     "output_type": "stream",
     "text": [
      "Epoch 130 Loss 0.04340691116262666\n",
      "train accuracy is: 0.9554331497245869, test accuracy is 0.9657258064516129\n"
     ]
    },
    {
     "name": "stdout",
     "output_type": "stream",
     "text": [
      "Epoch 140 Loss 0.042544332968077914\n",
      "train accuracy is: 0.956100817893507, test accuracy is 0.9657258064516129\n"
     ]
    },
    {
     "name": "stdout",
     "output_type": "stream",
     "text": [
      "Epoch 150 Loss 0.041769888628226524\n",
      "train accuracy is: 0.956518110499082, test accuracy is 0.9652217741935484\n"
     ]
    },
    {
     "name": "stdout",
     "output_type": "stream",
     "text": [
      "Epoch 160 Loss 0.04107112062846461\n",
      "train accuracy is: 0.957269237189117, test accuracy is 0.9652217741935484\n"
     ]
    },
    {
     "name": "stdout",
     "output_type": "stream",
     "text": [
      "Epoch 170 Loss 0.040435029637091925\n",
      "train accuracy is: 0.957603071273577, test accuracy is 0.9647177419354839\n"
     ]
    },
    {
     "name": "stdout",
     "output_type": "stream",
     "text": [
      "Epoch 180 Loss 0.03985329477050181\n",
      "train accuracy is: 0.9581872809213821, test accuracy is 0.9642137096774194\n"
     ]
    },
    {
     "name": "stdout",
     "output_type": "stream",
     "text": [
      "Epoch 190 Loss 0.03931805141684469\n",
      "train accuracy is: 0.9585211150058421, test accuracy is 0.9647177419354839\n"
     ]
    },
    {
     "name": "stdout",
     "output_type": "stream",
     "text": [
      "Epoch 200 Loss 0.0388239137309064\n",
      "train accuracy is: 0.958604573526957, test accuracy is 0.9647177419354839\n"
     ]
    },
    {
     "name": "stdout",
     "output_type": "stream",
     "text": [
      "Epoch 210 Loss 0.03836574326306924\n",
      "train accuracy is: 0.9589384076114171, test accuracy is 0.9647177419354839\n"
     ]
    },
    {
     "name": "stdout",
     "output_type": "stream",
     "text": [
      "Epoch 220 Loss 0.03793846725523919\n",
      "train accuracy is: 0.9590218661325322, test accuracy is 0.9662298387096774\n"
     ]
    },
    {
     "name": "stdout",
     "output_type": "stream",
     "text": [
      "Epoch 230 Loss 0.03754019074880883\n",
      "train accuracy is: 0.9597729928225672, test accuracy is 0.9662298387096774\n"
     ]
    },
    {
     "name": "stdout",
     "output_type": "stream",
     "text": [
      "Epoch 240 Loss 0.0371666094145772\n",
      "train accuracy is: 0.9600233683859122, test accuracy is 0.9662298387096774\n"
     ]
    },
    {
     "data": {
      "text/plain": [
       "0.013593909007787956"
      ]
     },
     "execution_count": 23,
     "metadata": {},
     "output_type": "execute_result"
    }
   ],
   "source": [
    "learner2.train_loop(dl)"
   ]
  },
  {
   "cell_type": "markdown",
   "metadata": {
    "papermill": {
     "duration": 0.056472,
     "end_time": "2020-08-10T00:30:53.684151",
     "exception": false,
     "start_time": "2020-08-10T00:30:53.627679",
     "status": "completed"
    },
    "tags": []
   },
   "source": [
    "### Comparing results of NN and LR"
   ]
  },
  {
   "cell_type": "code",
   "execution_count": 24,
   "metadata": {
    "execution": {
     "iopub.execute_input": "2020-08-10T00:30:53.804667Z",
     "iopub.status.busy": "2020-08-10T00:30:53.804009Z",
     "iopub.status.idle": "2020-08-10T00:30:54.094768Z",
     "shell.execute_reply": "2020-08-10T00:30:54.094205Z"
    },
    "papermill": {
     "duration": 0.349135,
     "end_time": "2020-08-10T00:30:54.094912",
     "exception": false,
     "start_time": "2020-08-10T00:30:53.745777",
     "status": "completed"
    },
    "tags": []
   },
   "outputs": [
    {
     "data": {
      "text/plain": [
       "<matplotlib.legend.Legend at 0x7f2a894bf160>"
      ]
     },
     "execution_count": 24,
     "metadata": {},
     "output_type": "execute_result"
    },
    {
     "data": {
      "image/png": "[encoded data removed]",
      "text/plain": [
       "<Figure size 576x360 with 1 Axes>"
      ]
     },
     "metadata": {
      "needs_background": "light"
     },
     "output_type": "display_data"
    }
   ],
   "source": [
    "plt.figure(figsize=(8,5))\n",
    "plt.plot(acc1.val_accuracies, 'g-', label = \"Val Accuracies - NN\")\n",
    "plt.plot(acc1.accuracies, 'r-', label = \"Accuracies - NN\")\n",
    "plt.plot(acc2.val_accuracies, 'b-', label = \"Val Accuracies - Logistic Reg\")\n",
    "plt.plot(acc2.accuracies, 'k-', label = \"Accuracies - Logistic Reg\")\n",
    "plt.ylim(0.8,1) ## for a more spread out view\n",
    "plt.legend()"
   ]
  },
  {
   "cell_type": "markdown",
   "metadata": {
    "papermill": {
     "duration": 0.054239,
     "end_time": "2020-08-10T00:30:54.204890",
     "exception": false,
     "start_time": "2020-08-10T00:30:54.150651",
     "status": "completed"
    },
    "tags": []
   },
   "source": [
    "### Clearly NN has a better accuracy over LR; NN is overfitting - Validation accuracy (green) has dropped below training accuracy (orange), also they are diverging. This problem is not seen in LR"
   ]
  },
  {
   "cell_type": "markdown",
   "metadata": {
    "papermill": {
     "duration": 0.057615,
     "end_time": "2020-08-10T00:30:54.319784",
     "exception": false,
     "start_time": "2020-08-10T00:30:54.262169",
     "status": "completed"
    },
    "tags": []
   },
   "source": [
    "##### Now we will be moving through the network, till the output of the second last affine where we get a 2 dimensional output. We will be plotting this 2d output and probability contours"
   ]
  },
  {
   "cell_type": "code",
   "execution_count": 25,
   "metadata": {
    "execution": {
     "iopub.execute_input": "2020-08-10T00:30:54.436356Z",
     "iopub.status.busy": "2020-08-10T00:30:54.435699Z",
     "iopub.status.idle": "2020-08-10T00:30:54.450227Z",
     "shell.execute_reply": "2020-08-10T00:30:54.449028Z"
    },
    "papermill": {
     "duration": 0.07361,
     "end_time": "2020-08-10T00:30:54.450374",
     "exception": false,
     "start_time": "2020-08-10T00:30:54.376764",
     "status": "completed"
    },
    "tags": []
   },
   "outputs": [],
   "source": [
    "model_new = Model(layers[:-2])"
   ]
  },
  {
   "cell_type": "code",
   "execution_count": 26,
   "metadata": {
    "execution": {
     "iopub.execute_input": "2020-08-10T00:30:54.572726Z",
     "iopub.status.busy": "2020-08-10T00:30:54.572086Z",
     "iopub.status.idle": "2020-08-10T00:30:54.595818Z",
     "shell.execute_reply": "2020-08-10T00:30:54.595183Z"
    },
    "papermill": {
     "duration": 0.088624,
     "end_time": "2020-08-10T00:30:54.596009",
     "exception": false,
     "start_time": "2020-08-10T00:30:54.507385",
     "status": "completed"
    },
    "tags": []
   },
   "outputs": [],
   "source": [
    "plot_testing = model_new(testing_xdata)"
   ]
  },
  {
   "cell_type": "markdown",
   "metadata": {
    "papermill": {
     "duration": 0.08232,
     "end_time": "2020-08-10T00:30:54.735957",
     "exception": false,
     "start_time": "2020-08-10T00:30:54.653637",
     "status": "completed"
    },
    "tags": []
   },
   "source": [
    "##### Plotting the scatter plot of points and color coding by class"
   ]
  },
  {
   "cell_type": "code",
   "execution_count": 27,
   "metadata": {
    "execution": {
     "iopub.execute_input": "2020-08-10T00:30:54.851870Z",
     "iopub.status.busy": "2020-08-10T00:30:54.851193Z",
     "iopub.status.idle": "2020-08-10T00:30:55.113170Z",
     "shell.execute_reply": "2020-08-10T00:30:55.113707Z"
    },
    "papermill": {
     "duration": 0.322386,
     "end_time": "2020-08-10T00:30:55.113879",
     "exception": false,
     "start_time": "2020-08-10T00:30:54.791493",
     "status": "completed"
    },
    "tags": []
   },
   "outputs": [
    {
     "data": {
      "image/png": "[encoded data removed]",
      "text/plain": [
       "<Figure size 576x504 with 1 Axes>"
      ]
     },
     "metadata": {
      "needs_background": "light"
     },
     "output_type": "display_data"
    }
   ],
   "source": [
    "plt.figure(figsize=(8,7))\n",
    "plt.scatter(plot_testing[:,0], plot_testing[:,1], alpha = 0.1, c = y_test.ravel());"
   ]
  },
  {
   "cell_type": "markdown",
   "metadata": {
    "papermill": {
     "duration": 0.0609,
     "end_time": "2020-08-10T00:30:55.232711",
     "exception": false,
     "start_time": "2020-08-10T00:30:55.171811",
     "status": "completed"
    },
    "tags": []
   },
   "source": [
    "##### Plotting probability contours"
   ]
  },
  {
   "cell_type": "code",
   "execution_count": 28,
   "metadata": {
    "execution": {
     "iopub.execute_input": "2020-08-10T00:30:55.354447Z",
     "iopub.status.busy": "2020-08-10T00:30:55.353818Z",
     "iopub.status.idle": "2020-08-10T00:30:55.368118Z",
     "shell.execute_reply": "2020-08-10T00:30:55.367272Z"
    },
    "papermill": {
     "duration": 0.076164,
     "end_time": "2020-08-10T00:30:55.368277",
     "exception": false,
     "start_time": "2020-08-10T00:30:55.292113",
     "status": "completed"
    },
    "tags": []
   },
   "outputs": [],
   "source": [
    "model_prob = Model(layers[-2:]) ## picking only last two layers to get probability. That is affine followed by sigmoid"
   ]
  },
  {
   "cell_type": "code",
   "execution_count": 29,
   "metadata": {
    "execution": {
     "iopub.execute_input": "2020-08-10T00:30:55.495647Z",
     "iopub.status.busy": "2020-08-10T00:30:55.494970Z",
     "iopub.status.idle": "2020-08-10T00:30:55.510779Z",
     "shell.execute_reply": "2020-08-10T00:30:55.511483Z"
    },
    "papermill": {
     "duration": 0.079366,
     "end_time": "2020-08-10T00:30:55.511659",
     "exception": false,
     "start_time": "2020-08-10T00:30:55.432293",
     "status": "completed"
    },
    "tags": []
   },
   "outputs": [],
   "source": [
    "xgrid = np.linspace(-4, 1, 100) ## Adjust these values based on above chart, roughly -4 to 1\n",
    "ygrid = np.linspace(-7.5, 7.5, 100) ## Adjust these values based on above chart, roughly -7.5, 7.5\n",
    "xg, yg = np.meshgrid(xgrid, ygrid)\n",
    "# xg and yg are now both 100X100, lets convert them to single arrays \n",
    "\n",
    "xg_interim = np.ravel(xg)\n",
    "yg_interim = np.ravel(yg)\n",
    "\n",
    "## xg_interim, yg_interim are now arrays of len 10000, now we will stack them and then transpose to get desired shape of n rows, 2 columns\n",
    "\n",
    "X_interim = np.vstack((xg_interim, yg_interim)) ## Please note vstack takes in a tuple\n",
    "X = X_interim.T\n",
    "\n",
    "## We want a shape of n rows and 2 columns to be able to feed this to last affine\n",
    "## This last affine takes only two columns, hence the above transformation\n",
    "probability_contour = model_prob(X).reshape(100,100) ## to make it consistent with xg, yg"
   ]
  },
  {
   "cell_type": "code",
   "execution_count": 30,
   "metadata": {
    "execution": {
     "iopub.execute_input": "2020-08-10T00:30:55.633169Z",
     "iopub.status.busy": "2020-08-10T00:30:55.631933Z",
     "iopub.status.idle": "2020-08-10T00:30:55.960173Z",
     "shell.execute_reply": "2020-08-10T00:30:55.959197Z"
    },
    "papermill": {
     "duration": 0.390872,
     "end_time": "2020-08-10T00:30:55.960349",
     "exception": false,
     "start_time": "2020-08-10T00:30:55.569477",
     "status": "completed"
    },
    "tags": []
   },
   "outputs": [
    {
     "data": {
      "image/png": "[encoded data removed]",
      "text/plain": [
       "<Figure size 576x504 with 1 Axes>"
      ]
     },
     "metadata": {
      "needs_background": "light"
     },
     "output_type": "display_data"
    }
   ],
   "source": [
    "plt.figure(figsize=(8,7))\n",
    "plt.scatter(plot_testing[:,0], plot_testing[:,1], alpha = 0.1, c = y_test.ravel())\n",
    "contours = plt.contour(xg,yg,probability_contour)\n",
    "plt.clabel(contours, inline = True );"
   ]
  }
 ],
 "metadata": {
  "kernelspec": {
   "display_name": "Python 3",
   "language": "python",
   "name": "python3"
  },
  "language_info": {
   "codemirror_mode": {
    "name": "ipython",
    "version": 3
   },
   "file_extension": ".py",
   "mimetype": "text/x-python",
   "name": "python",
   "nbconvert_exporter": "python",
   "pygments_lexer": "ipython3",
   "version": "3.6.11"
  },
  "papermill": {
   "duration": 174.459038,
   "end_time": "2020-08-10T00:30:57.433274",
   "environment_variables": {},
   "exception": null,
   "input_path": "2020-08-07-NN-new.ipynb",
   "output_path": "2020-08-07-NN-new.ipynb",
   "parameters": {},
   "start_time": "2020-08-10T00:28:02.974236",
   "version": "2.1.2"
  }
 },
 "nbformat": 4,
 "nbformat_minor": 4
}