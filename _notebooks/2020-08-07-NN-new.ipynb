{
 "cells": [
  {
   "cell_type": "markdown",
   "metadata": {
    "papermill": {
     "duration": 0.044641,
     "end_time": "2020-08-17T00:27:21.694536",
     "exception": false,
     "start_time": "2020-08-17T00:27:21.649895",
     "status": "completed"
    },
    "tags": []
   },
   "source": [
    "# \"Building a basic Neural Network from scratch - Kudzu\"\n",
    "\n",
    "- badges: true\n",
    "- author: Anshuman Gupta"
   ]
  },
  {
   "cell_type": "markdown",
   "metadata": {
    "papermill": {
     "duration": 0.025588,
     "end_time": "2020-08-17T00:27:22.641979",
     "exception": false,
     "start_time": "2020-08-17T00:27:22.616391",
     "status": "completed"
    },
    "tags": []
   },
   "source": [
    "#### In this project, the idea is to write a classifier to differentiate between handwritten digits 3 and 8, from the MNIST database.\n",
    "\n",
    "#### I will using a custom built neural network library called Kudzu.This has been developed as a part of KTF/Foundations course of Univ.ai (www.univ.ai). The source code for Kudzu Library and and this notebook can be found on my git-hub profile : www.https://github.com/anshuman6 under the folder project-solution. Any feedback and comments are welcome. Please feel free to email me at: anshuman6@gmail.com\n",
    "\n",
    "#### 1. I will be using the MNIST database. \n",
    "\n",
    "#### 2. I will be comparing the results of the 4 layer NN to a standard logistic regression"
   ]
  },
  {
   "cell_type": "markdown",
   "metadata": {
    "papermill": {
     "duration": 0.022515,
     "end_time": "2020-08-17T00:27:22.687050",
     "exception": false,
     "start_time": "2020-08-17T00:27:22.664535",
     "status": "completed"
    },
    "tags": []
   },
   "source": [
    "##### Importing all the necessary libraries"
   ]
  },
  {
   "cell_type": "code",
   "execution_count": 1,
   "metadata": {
    "execution": {
     "iopub.execute_input": "2020-08-17T00:27:22.741698Z",
     "iopub.status.busy": "2020-08-17T00:27:22.740290Z",
     "iopub.status.idle": "2020-08-17T00:27:22.750361Z",
     "shell.execute_reply": "2020-08-17T00:27:22.749902Z"
    },
    "papermill": {
     "duration": 0.03785,
     "end_time": "2020-08-17T00:27:22.750477",
     "exception": false,
     "start_time": "2020-08-17T00:27:22.712627",
     "status": "completed"
    },
    "tags": []
   },
   "outputs": [],
   "source": [
    "%load_ext autoreload\n",
    "%autoreload 2"
   ]
  },
  {
   "cell_type": "code",
   "execution_count": 2,
   "metadata": {
    "execution": {
     "iopub.execute_input": "2020-08-17T00:27:22.801087Z",
     "iopub.status.busy": "2020-08-17T00:27:22.800351Z",
     "iopub.status.idle": "2020-08-17T00:27:23.279013Z",
     "shell.execute_reply": "2020-08-17T00:27:23.277641Z"
    },
    "papermill": {
     "duration": 0.505628,
     "end_time": "2020-08-17T00:27:23.279242",
     "exception": false,
     "start_time": "2020-08-17T00:27:22.773614",
     "status": "completed"
    },
    "tags": []
   },
   "outputs": [],
   "source": [
    "%matplotlib inline\n",
    "import numpy as np\n",
    "import matplotlib.pyplot as plt\n",
    "import pandas as pd"
   ]
  },
  {
   "cell_type": "markdown",
   "metadata": {
    "papermill": {
     "duration": 0.024169,
     "end_time": "2020-08-17T00:27:23.328831",
     "exception": false,
     "start_time": "2020-08-17T00:27:23.304662",
     "status": "completed"
    },
    "tags": []
   },
   "source": [
    "##### The following command helps us download MNIST from notebook itself. You can skip this if you already have MNIST. You can also download it via your terminal."
   ]
  },
  {
   "cell_type": "code",
   "execution_count": 3,
   "metadata": {
    "execution": {
     "iopub.execute_input": "2020-08-17T00:27:23.375584Z",
     "iopub.status.busy": "2020-08-17T00:27:23.375143Z",
     "iopub.status.idle": "2020-08-17T00:27:24.643399Z",
     "shell.execute_reply": "2020-08-17T00:27:24.643960Z"
    },
    "papermill": {
     "duration": 1.294146,
     "end_time": "2020-08-17T00:27:24.644157",
     "exception": false,
     "start_time": "2020-08-17T00:27:23.350011",
     "status": "completed"
    },
    "tags": []
   },
   "outputs": [
    {
     "name": "stdout",
     "output_type": "stream",
     "text": [
      "Collecting mnist\r\n"
     ]
    },
    {
     "name": "stdout",
     "output_type": "stream",
     "text": [
      "  Downloading mnist-0.2.2-py2.py3-none-any.whl (3.5 kB)\r\n",
      "Requirement already satisfied: numpy in /opt/hostedtoolcache/Python/3.6.11/x64/lib/python3.6/site-packages (from mnist) (1.19.1)\r\n"
     ]
    },
    {
     "name": "stdout",
     "output_type": "stream",
     "text": [
      "Installing collected packages: mnist\r\n"
     ]
    },
    {
     "name": "stdout",
     "output_type": "stream",
     "text": [
      "Successfully installed mnist-0.2.2\r\n"
     ]
    },
    {
     "name": "stdout",
     "output_type": "stream",
     "text": [
      "\u001b[33mWARNING: You are using pip version 20.2.1; however, version 20.2.2 is available.\r\n",
      "You should consider upgrading via the '/opt/hostedtoolcache/Python/3.6.11/x64/bin/python -m pip install --upgrade pip' command.\u001b[0m\r\n"
     ]
    }
   ],
   "source": [
    "!pip install mnist # Please note, it is commented out for now, you can remove comment if you want to install it"
   ]
  },
  {
   "cell_type": "markdown",
   "metadata": {
    "papermill": {
     "duration": 0.022392,
     "end_time": "2020-08-17T00:27:24.690731",
     "exception": false,
     "start_time": "2020-08-17T00:27:24.668339",
     "status": "completed"
    },
    "tags": []
   },
   "source": [
    "#### Preparing the Data"
   ]
  },
  {
   "cell_type": "code",
   "execution_count": 4,
   "metadata": {
    "execution": {
     "iopub.execute_input": "2020-08-17T00:27:24.740691Z",
     "iopub.status.busy": "2020-08-17T00:27:24.740186Z",
     "iopub.status.idle": "2020-08-17T00:27:24.753293Z",
     "shell.execute_reply": "2020-08-17T00:27:24.754040Z"
    },
    "papermill": {
     "duration": 0.040313,
     "end_time": "2020-08-17T00:27:24.754192",
     "exception": false,
     "start_time": "2020-08-17T00:27:24.713879",
     "status": "completed"
    },
    "tags": []
   },
   "outputs": [],
   "source": [
    "import mnist"
   ]
  },
  {
   "cell_type": "code",
   "execution_count": 5,
   "metadata": {
    "execution": {
     "iopub.execute_input": "2020-08-17T00:27:24.803327Z",
     "iopub.status.busy": "2020-08-17T00:27:24.802362Z",
     "iopub.status.idle": "2020-08-17T00:27:25.506561Z",
     "shell.execute_reply": "2020-08-17T00:27:25.507065Z"
    },
    "papermill": {
     "duration": 0.730963,
     "end_time": "2020-08-17T00:27:25.507212",
     "exception": false,
     "start_time": "2020-08-17T00:27:24.776249",
     "status": "completed"
    },
    "tags": []
   },
   "outputs": [],
   "source": [
    "train_images = mnist.train_images()\n",
    "train_labels = mnist.train_labels()"
   ]
  },
  {
   "cell_type": "code",
   "execution_count": 6,
   "metadata": {
    "execution": {
     "iopub.execute_input": "2020-08-17T00:27:25.553864Z",
     "iopub.status.busy": "2020-08-17T00:27:25.553381Z",
     "iopub.status.idle": "2020-08-17T00:27:25.568342Z",
     "shell.execute_reply": "2020-08-17T00:27:25.567867Z"
    },
    "papermill": {
     "duration": 0.039834,
     "end_time": "2020-08-17T00:27:25.568486",
     "exception": false,
     "start_time": "2020-08-17T00:27:25.528652",
     "status": "completed"
    },
    "tags": []
   },
   "outputs": [
    {
     "data": {
      "text/plain": [
       "((60000, 28, 28), (60000,))"
      ]
     },
     "execution_count": 6,
     "metadata": {},
     "output_type": "execute_result"
    }
   ],
   "source": [
    "train_images.shape, train_labels.shape"
   ]
  },
  {
   "cell_type": "code",
   "execution_count": 7,
   "metadata": {
    "execution": {
     "iopub.execute_input": "2020-08-17T00:27:25.616928Z",
     "iopub.status.busy": "2020-08-17T00:27:25.615867Z",
     "iopub.status.idle": "2020-08-17T00:27:25.879463Z",
     "shell.execute_reply": "2020-08-17T00:27:25.877853Z"
    },
    "papermill": {
     "duration": 0.288851,
     "end_time": "2020-08-17T00:27:25.879639",
     "exception": false,
     "start_time": "2020-08-17T00:27:25.590788",
     "status": "completed"
    },
    "tags": []
   },
   "outputs": [],
   "source": [
    "test_images = mnist.test_images()\n",
    "test_labels = mnist.test_labels()"
   ]
  },
  {
   "cell_type": "code",
   "execution_count": 8,
   "metadata": {
    "execution": {
     "iopub.execute_input": "2020-08-17T00:27:25.937179Z",
     "iopub.status.busy": "2020-08-17T00:27:25.929605Z",
     "iopub.status.idle": "2020-08-17T00:27:25.941327Z",
     "shell.execute_reply": "2020-08-17T00:27:25.940781Z"
    },
    "papermill": {
     "duration": 0.038109,
     "end_time": "2020-08-17T00:27:25.941488",
     "exception": false,
     "start_time": "2020-08-17T00:27:25.903379",
     "status": "completed"
    },
    "tags": []
   },
   "outputs": [
    {
     "data": {
      "text/plain": [
       "((10000, 28, 28), (10000,))"
      ]
     },
     "execution_count": 8,
     "metadata": {},
     "output_type": "execute_result"
    }
   ],
   "source": [
    "test_images.shape, test_labels.shape"
   ]
  },
  {
   "cell_type": "code",
   "execution_count": 9,
   "metadata": {
    "execution": {
     "iopub.execute_input": "2020-08-17T00:27:25.996811Z",
     "iopub.status.busy": "2020-08-17T00:27:25.996088Z",
     "iopub.status.idle": "2020-08-17T00:27:26.116580Z",
     "shell.execute_reply": "2020-08-17T00:27:26.117068Z"
    },
    "papermill": {
     "duration": 0.14852,
     "end_time": "2020-08-17T00:27:26.117224",
     "exception": false,
     "start_time": "2020-08-17T00:27:25.968704",
     "status": "completed"
    },
    "tags": []
   },
   "outputs": [
    {
     "name": "stdout",
     "output_type": "stream",
     "text": [
      "2\n"
     ]
    },
    {
     "data": {
      "text/plain": [
       "<matplotlib.image.AxesImage at 0x7f3a87531780>"
      ]
     },
     "execution_count": 9,
     "metadata": {},
     "output_type": "execute_result"
    },
    {
     "data": {
      "image/png": "[encoded data removed]",
      "text/plain": [
       "<Figure size 432x288 with 1 Axes>"
      ]
     },
     "metadata": {
      "needs_background": "light"
     },
     "output_type": "display_data"
    }
   ],
   "source": [
    "image_index = 7776 # You may select anything up to 60,000\n",
    "print(train_labels[image_index]) \n",
    "plt.imshow(train_images[image_index], cmap='Greys')"
   ]
  },
  {
   "cell_type": "markdown",
   "metadata": {
    "papermill": {
     "duration": 0.027393,
     "end_time": "2020-08-17T00:27:26.171325",
     "exception": false,
     "start_time": "2020-08-17T00:27:26.143932",
     "status": "completed"
    },
    "tags": []
   },
   "source": [
    "## Filter data to get 3 and 8 out"
   ]
  },
  {
   "cell_type": "code",
   "execution_count": 10,
   "metadata": {
    "execution": {
     "iopub.execute_input": "2020-08-17T00:27:26.227982Z",
     "iopub.status.busy": "2020-08-17T00:27:26.227419Z",
     "iopub.status.idle": "2020-08-17T00:27:26.244822Z",
     "shell.execute_reply": "2020-08-17T00:27:26.244323Z"
    },
    "papermill": {
     "duration": 0.048464,
     "end_time": "2020-08-17T00:27:26.244940",
     "exception": false,
     "start_time": "2020-08-17T00:27:26.196476",
     "status": "completed"
    },
    "tags": []
   },
   "outputs": [],
   "source": [
    "train_filter = np.where((train_labels == 3 ) | (train_labels == 8))\n",
    "test_filter = np.where((test_labels == 3) | (test_labels == 8))\n",
    "X_train, y_train = train_images[train_filter], train_labels[train_filter]\n",
    "X_test, y_test = test_images[test_filter], test_labels[test_filter]"
   ]
  },
  {
   "cell_type": "markdown",
   "metadata": {
    "papermill": {
     "duration": 0.024789,
     "end_time": "2020-08-17T00:27:26.295261",
     "exception": false,
     "start_time": "2020-08-17T00:27:26.270472",
     "status": "completed"
    },
    "tags": []
   },
   "source": [
    "##### We normalize the pizel values in the 0 to 1 range"
   ]
  },
  {
   "cell_type": "code",
   "execution_count": 11,
   "metadata": {
    "execution": {
     "iopub.execute_input": "2020-08-17T00:27:26.352171Z",
     "iopub.status.busy": "2020-08-17T00:27:26.351605Z",
     "iopub.status.idle": "2020-08-17T00:27:26.404755Z",
     "shell.execute_reply": "2020-08-17T00:27:26.403811Z"
    },
    "papermill": {
     "duration": 0.08219,
     "end_time": "2020-08-17T00:27:26.404993",
     "exception": false,
     "start_time": "2020-08-17T00:27:26.322803",
     "status": "completed"
    },
    "tags": []
   },
   "outputs": [],
   "source": [
    "X_train = X_train/255.\n",
    "X_test = X_test/255."
   ]
  },
  {
   "cell_type": "markdown",
   "metadata": {
    "papermill": {
     "duration": 0.025874,
     "end_time": "2020-08-17T00:27:26.458551",
     "exception": false,
     "start_time": "2020-08-17T00:27:26.432677",
     "status": "completed"
    },
    "tags": []
   },
   "source": [
    "And setup the labels as 1 (when the digit is 3) and 0 (when the digit is 8)"
   ]
  },
  {
   "cell_type": "code",
   "execution_count": 12,
   "metadata": {
    "execution": {
     "iopub.execute_input": "2020-08-17T00:27:26.517003Z",
     "iopub.status.busy": "2020-08-17T00:27:26.516494Z",
     "iopub.status.idle": "2020-08-17T00:27:26.529011Z",
     "shell.execute_reply": "2020-08-17T00:27:26.528585Z"
    },
    "papermill": {
     "duration": 0.042816,
     "end_time": "2020-08-17T00:27:26.529104",
     "exception": false,
     "start_time": "2020-08-17T00:27:26.486288",
     "status": "completed"
    },
    "tags": []
   },
   "outputs": [],
   "source": [
    "y_train = 1*(y_train==3)\n",
    "y_test = 1*(y_test==3)"
   ]
  },
  {
   "cell_type": "code",
   "execution_count": 13,
   "metadata": {
    "execution": {
     "iopub.execute_input": "2020-08-17T00:27:26.584016Z",
     "iopub.status.busy": "2020-08-17T00:27:26.583456Z",
     "iopub.status.idle": "2020-08-17T00:27:26.597631Z",
     "shell.execute_reply": "2020-08-17T00:27:26.597081Z"
    },
    "papermill": {
     "duration": 0.04301,
     "end_time": "2020-08-17T00:27:26.597756",
     "exception": false,
     "start_time": "2020-08-17T00:27:26.554746",
     "status": "completed"
    },
    "tags": []
   },
   "outputs": [
    {
     "data": {
      "text/plain": [
       "((11982, 28, 28), (1984, 28, 28))"
      ]
     },
     "execution_count": 13,
     "metadata": {},
     "output_type": "execute_result"
    }
   ],
   "source": [
    "X_train.shape, X_test.shape"
   ]
  },
  {
   "cell_type": "markdown",
   "metadata": {
    "papermill": {
     "duration": 0.025811,
     "end_time": "2020-08-17T00:27:26.650976",
     "exception": false,
     "start_time": "2020-08-17T00:27:26.625165",
     "status": "completed"
    },
    "tags": []
   },
   "source": [
    "##### We reshape the data to flatten the image pixels into a set of features or co-variates:"
   ]
  },
  {
   "cell_type": "code",
   "execution_count": 14,
   "metadata": {
    "execution": {
     "iopub.execute_input": "2020-08-17T00:27:26.707691Z",
     "iopub.status.busy": "2020-08-17T00:27:26.707099Z",
     "iopub.status.idle": "2020-08-17T00:27:26.719862Z",
     "shell.execute_reply": "2020-08-17T00:27:26.720282Z"
    },
    "papermill": {
     "duration": 0.04267,
     "end_time": "2020-08-17T00:27:26.720394",
     "exception": false,
     "start_time": "2020-08-17T00:27:26.677724",
     "status": "completed"
    },
    "tags": []
   },
   "outputs": [
    {
     "data": {
      "text/plain": [
       "((11982, 784), (1984, 784))"
      ]
     },
     "execution_count": 14,
     "metadata": {},
     "output_type": "execute_result"
    }
   ],
   "source": [
    "X_train = X_train.reshape(X_train.shape[0], -1)\n",
    "X_test = X_test.reshape(X_test.shape[0], -1)\n",
    "X_train.shape, X_test.shape"
   ]
  },
  {
   "cell_type": "markdown",
   "metadata": {
    "papermill": {
     "duration": 0.025674,
     "end_time": "2020-08-17T00:27:26.771761",
     "exception": false,
     "start_time": "2020-08-17T00:27:26.746087",
     "status": "completed"
    },
    "tags": []
   },
   "source": [
    "##### Importing Kudzu library and its functionality"
   ]
  },
  {
   "cell_type": "code",
   "execution_count": 15,
   "metadata": {
    "execution": {
     "iopub.execute_input": "2020-08-17T00:27:26.834474Z",
     "iopub.status.busy": "2020-08-17T00:27:26.833883Z",
     "iopub.status.idle": "2020-08-17T00:27:26.851495Z",
     "shell.execute_reply": "2020-08-17T00:27:26.851031Z"
    },
    "papermill": {
     "duration": 0.049562,
     "end_time": "2020-08-17T00:27:26.851606",
     "exception": false,
     "start_time": "2020-08-17T00:27:26.802044",
     "status": "completed"
    },
    "tags": []
   },
   "outputs": [],
   "source": [
    "from kudzu.data import Data, Dataloader, Sampler\n",
    "from kudzu.callbacks import AccCallback\n",
    "from kudzu.loss import MSE\n",
    "from kudzu.layer import Affine, Sigmoid\n",
    "from kudzu.model import Model\n",
    "from kudzu.optim import GD\n",
    "from kudzu.train import Learner\n",
    "from kudzu.callbacks import ClfCallback\n",
    "from kudzu.layer import Sigmoid\n",
    "from kudzu.layer import Relu"
   ]
  },
  {
   "cell_type": "markdown",
   "metadata": {
    "papermill": {
     "duration": 0.0262,
     "end_time": "2020-08-17T00:27:26.903698",
     "exception": false,
     "start_time": "2020-08-17T00:27:26.877498",
     "status": "completed"
    },
    "tags": []
   },
   "source": [
    "##### We are creating a class, just so that we can use it to store our parameters for us"
   ]
  },
  {
   "cell_type": "code",
   "execution_count": 16,
   "metadata": {
    "execution": {
     "iopub.execute_input": "2020-08-17T00:27:26.963585Z",
     "iopub.status.busy": "2020-08-17T00:27:26.963080Z",
     "iopub.status.idle": "2020-08-17T00:27:26.975879Z",
     "shell.execute_reply": "2020-08-17T00:27:26.975429Z"
    },
    "papermill": {
     "duration": 0.04447,
     "end_time": "2020-08-17T00:27:26.975992",
     "exception": false,
     "start_time": "2020-08-17T00:27:26.931522",
     "status": "completed"
    },
    "tags": []
   },
   "outputs": [],
   "source": [
    "class Config:\n",
    "    pass\n",
    "config = Config()\n",
    "config.lr = 0.001\n",
    "config.num_epochs = 250\n",
    "config.bs = 50"
   ]
  },
  {
   "cell_type": "markdown",
   "metadata": {
    "papermill": {
     "duration": 0.02759,
     "end_time": "2020-08-17T00:27:27.032056",
     "exception": false,
     "start_time": "2020-08-17T00:27:27.004466",
     "status": "completed"
    },
    "tags": []
   },
   "source": [
    "##### Initializing Data"
   ]
  },
  {
   "cell_type": "code",
   "execution_count": 17,
   "metadata": {
    "execution": {
     "iopub.execute_input": "2020-08-17T00:27:27.095002Z",
     "iopub.status.busy": "2020-08-17T00:27:27.094357Z",
     "iopub.status.idle": "2020-08-17T00:27:27.108010Z",
     "shell.execute_reply": "2020-08-17T00:27:27.108487Z"
    },
    "papermill": {
     "duration": 0.047936,
     "end_time": "2020-08-17T00:27:27.108631",
     "exception": false,
     "start_time": "2020-08-17T00:27:27.060695",
     "status": "completed"
    },
    "tags": []
   },
   "outputs": [],
   "source": [
    "data = Data(X_train, y_train.reshape(-1,1))\n",
    "loss = MSE()\n",
    "opt = GD(config.lr)\n",
    "sampler = Sampler(data, config.bs, shuffle=True)\n",
    "dl = Dataloader(data, sampler)"
   ]
  },
  {
   "cell_type": "markdown",
   "metadata": {
    "papermill": {
     "duration": 0.026848,
     "end_time": "2020-08-17T00:27:27.162950",
     "exception": false,
     "start_time": "2020-08-17T00:27:27.136102",
     "status": "completed"
    },
    "tags": []
   },
   "source": [
    "##### Constructing 2 different layers, one for NN and one only for logistic regression."
   ]
  },
  {
   "cell_type": "markdown",
   "metadata": {
    "papermill": {
     "duration": 0.026173,
     "end_time": "2020-08-17T00:27:27.217778",
     "exception": false,
     "start_time": "2020-08-17T00:27:27.191605",
     "status": "completed"
    },
    "tags": []
   },
   "source": [
    "##### Creating containers for data to be passed, to calculate accuracies"
   ]
  },
  {
   "cell_type": "code",
   "execution_count": 18,
   "metadata": {
    "execution": {
     "iopub.execute_input": "2020-08-17T00:27:27.274350Z",
     "iopub.status.busy": "2020-08-17T00:27:27.273798Z",
     "iopub.status.idle": "2020-08-17T00:27:27.288106Z",
     "shell.execute_reply": "2020-08-17T00:27:27.288549Z"
    },
    "papermill": {
     "duration": 0.045435,
     "end_time": "2020-08-17T00:27:27.288669",
     "exception": false,
     "start_time": "2020-08-17T00:27:27.243234",
     "status": "completed"
    },
    "tags": []
   },
   "outputs": [],
   "source": [
    "training_xdata = X_train\n",
    "testing_xdata = X_test\n",
    "training_ydata = y_train.reshape(-1,1)\n",
    "testing_ydata = y_test.reshape(-1,1)"
   ]
  },
  {
   "cell_type": "markdown",
   "metadata": {
    "papermill": {
     "duration": 0.026872,
     "end_time": "2020-08-17T00:27:27.340746",
     "exception": false,
     "start_time": "2020-08-17T00:27:27.313874",
     "status": "completed"
    },
    "tags": []
   },
   "source": [
    "##### Initializing models and Running training loop: "
   ]
  },
  {
   "cell_type": "code",
   "execution_count": 19,
   "metadata": {
    "execution": {
     "iopub.execute_input": "2020-08-17T00:27:27.396494Z",
     "iopub.status.busy": "2020-08-17T00:27:27.395901Z",
     "iopub.status.idle": "2020-08-17T00:27:27.413664Z",
     "shell.execute_reply": "2020-08-17T00:27:27.413251Z"
    },
    "papermill": {
     "duration": 0.047009,
     "end_time": "2020-08-17T00:27:27.413763",
     "exception": false,
     "start_time": "2020-08-17T00:27:27.366754",
     "status": "completed"
    },
    "tags": []
   },
   "outputs": [],
   "source": [
    "layers = [Affine(\"first\", 784, 100), Relu(\"first\"), Affine(\"second\", 100, 100), Relu(\"second\"), Affine(\"third\", 100, 2), Affine(\"final\", 2, 1), Sigmoid(\"final\")]\n",
    "\n",
    "model_neural = Model(layers)\n",
    "model_logistic = Model([Affine(\"logits\", 784, 1), Sigmoid(\"sigmoid\")])"
   ]
  },
  {
   "cell_type": "code",
   "execution_count": 20,
   "metadata": {
    "execution": {
     "iopub.execute_input": "2020-08-17T00:27:27.472224Z",
     "iopub.status.busy": "2020-08-17T00:27:27.471690Z",
     "iopub.status.idle": "2020-08-17T00:27:27.481968Z",
     "shell.execute_reply": "2020-08-17T00:27:27.481578Z"
    },
    "papermill": {
     "duration": 0.043234,
     "end_time": "2020-08-17T00:27:27.482066",
     "exception": false,
     "start_time": "2020-08-17T00:27:27.438832",
     "status": "completed"
    },
    "tags": []
   },
   "outputs": [],
   "source": [
    "learner1 = Learner(loss, model_neural, opt, config.num_epochs)\n",
    "acc1 = ClfCallback(learner1, config.bs, training_xdata , testing_xdata, training_ydata, testing_ydata)\n",
    "learner1.set_callbacks([acc1])"
   ]
  },
  {
   "cell_type": "code",
   "execution_count": 21,
   "metadata": {
    "execution": {
     "iopub.execute_input": "2020-08-17T00:27:27.539713Z",
     "iopub.status.busy": "2020-08-17T00:27:27.539300Z",
     "iopub.status.idle": "2020-08-17T00:28:43.025414Z",
     "shell.execute_reply": "2020-08-17T00:28:43.026152Z"
    },
    "papermill": {
     "duration": 75.515381,
     "end_time": "2020-08-17T00:28:43.026312",
     "exception": false,
     "start_time": "2020-08-17T00:27:27.510931",
     "status": "completed"
    },
    "tags": []
   },
   "outputs": [
    {
     "name": "stdout",
     "output_type": "stream",
     "text": [
      "Epoch 0 Loss 0.2755458653686542\n",
      "train accuracy is: 0.5315473209814722, test accuracy is 0.5297379032258065\n"
     ]
    },
    {
     "name": "stdout",
     "output_type": "stream",
     "text": [
      "Epoch 10 Loss 0.07604538595210827\n",
      "train accuracy is: 0.9255549991654148, test accuracy is 0.9324596774193549\n"
     ]
    },
    {
     "name": "stdout",
     "output_type": "stream",
     "text": [
      "Epoch 20 Loss 0.04863847454648981\n",
      "train accuracy is: 0.9481722583875813, test accuracy is 0.9561491935483871\n"
     ]
    },
    {
     "name": "stdout",
     "output_type": "stream",
     "text": [
      "Epoch 30 Loss 0.03931758817819855\n",
      "train accuracy is: 0.956518110499082, test accuracy is 0.9642137096774194\n"
     ]
    },
    {
     "name": "stdout",
     "output_type": "stream",
     "text": [
      "Epoch 40 Loss 0.03456466127044582\n",
      "train accuracy is: 0.9606910365548322, test accuracy is 0.9637096774193549\n"
     ]
    },
    {
     "name": "stdout",
     "output_type": "stream",
     "text": [
      "Epoch 50 Loss 0.03156472307302192\n",
      "train accuracy is: 0.9636120847938574, test accuracy is 0.9652217741935484\n"
     ]
    },
    {
     "name": "stdout",
     "output_type": "stream",
     "text": [
      "Epoch 60 Loss 0.029450108243421237\n",
      "train accuracy is: 0.9654481722583875, test accuracy is 0.9662298387096774\n"
     ]
    },
    {
     "name": "stdout",
     "output_type": "stream",
     "text": [
      "Epoch 70 Loss 0.027840575150982587\n",
      "train accuracy is: 0.9680353864129527, test accuracy is 0.9662298387096774\n"
     ]
    },
    {
     "name": "stdout",
     "output_type": "stream",
     "text": [
      "Epoch 80 Loss 0.026543115768349352\n",
      "train accuracy is: 0.9688699716241028, test accuracy is 0.9672379032258065\n"
     ]
    },
    {
     "name": "stdout",
     "output_type": "stream",
     "text": [
      "Epoch 90 Loss 0.025467752852815703\n",
      "train accuracy is: 0.9697880153563679, test accuracy is 0.9682459677419355\n"
     ]
    },
    {
     "name": "stdout",
     "output_type": "stream",
     "text": [
      "Epoch 100 Loss 0.02454303714676873\n",
      "train accuracy is: 0.971457185778668, test accuracy is 0.969758064516129\n"
     ]
    },
    {
     "name": "stdout",
     "output_type": "stream",
     "text": [
      "Epoch 110 Loss 0.0237138198010732\n",
      "train accuracy is: 0.9725421465531631, test accuracy is 0.9692540322580645\n"
     ]
    },
    {
     "name": "stdout",
     "output_type": "stream",
     "text": [
      "Epoch 120 Loss 0.022982259600031824\n",
      "train accuracy is: 0.9736271073276581, test accuracy is 0.9692540322580645\n"
     ]
    },
    {
     "name": "stdout",
     "output_type": "stream",
     "text": [
      "Epoch 130 Loss 0.02233295433023502\n",
      "train accuracy is: 0.9746286095810383, test accuracy is 0.969758064516129\n"
     ]
    },
    {
     "name": "stdout",
     "output_type": "stream",
     "text": [
      "Epoch 140 Loss 0.021728003288137253\n",
      "train accuracy is: 0.9752128192288433, test accuracy is 0.969758064516129\n"
     ]
    },
    {
     "name": "stdout",
     "output_type": "stream",
     "text": [
      "Epoch 150 Loss 0.021178751844472817\n",
      "train accuracy is: 0.9757970288766483, test accuracy is 0.9702620967741935\n"
     ]
    },
    {
     "name": "stdout",
     "output_type": "stream",
     "text": [
      "Epoch 160 Loss 0.020650325567780944\n",
      "train accuracy is: 0.9764646970455684, test accuracy is 0.9707661290322581\n"
     ]
    },
    {
     "name": "stdout",
     "output_type": "stream",
     "text": [
      "Epoch 170 Loss 0.020161310553331733\n",
      "train accuracy is: 0.9772992822567184, test accuracy is 0.9707661290322581\n"
     ]
    },
    {
     "name": "stdout",
     "output_type": "stream",
     "text": [
      "Epoch 180 Loss 0.01969320731795009\n",
      "train accuracy is: 0.9779669504256384, test accuracy is 0.9717741935483871\n"
     ]
    },
    {
     "name": "stdout",
     "output_type": "stream",
     "text": [
      "Epoch 190 Loss 0.019238860588050688\n",
      "train accuracy is: 0.9784677015523285, test accuracy is 0.9717741935483871\n"
     ]
    },
    {
     "name": "stdout",
     "output_type": "stream",
     "text": [
      "Epoch 200 Loss 0.018812043546756727\n",
      "train accuracy is: 0.9798864964112836, test accuracy is 0.9722782258064516\n"
     ]
    },
    {
     "name": "stdout",
     "output_type": "stream",
     "text": [
      "Epoch 210 Loss 0.018401067881377096\n",
      "train accuracy is: 0.9801368719746286, test accuracy is 0.9727822580645161\n"
     ]
    },
    {
     "name": "stdout",
     "output_type": "stream",
     "text": [
      "Epoch 220 Loss 0.018009021874691968\n",
      "train accuracy is: 0.9803872475379736, test accuracy is 0.9732862903225806\n"
     ]
    },
    {
     "name": "stdout",
     "output_type": "stream",
     "text": [
      "Epoch 230 Loss 0.017636830859984267\n",
      "train accuracy is: 0.9809714571857787, test accuracy is 0.9732862903225806\n"
     ]
    },
    {
     "name": "stdout",
     "output_type": "stream",
     "text": [
      "Epoch 240 Loss 0.01727694179614973\n",
      "train accuracy is: 0.9813052912702387, test accuracy is 0.9737903225806451\n"
     ]
    },
    {
     "data": {
      "text/plain": [
       "0.017037871478316213"
      ]
     },
     "execution_count": 21,
     "metadata": {},
     "output_type": "execute_result"
    }
   ],
   "source": [
    "learner1.train_loop(dl)"
   ]
  },
  {
   "cell_type": "markdown",
   "metadata": {
    "papermill": {
     "duration": 0.031264,
     "end_time": "2020-08-17T00:28:43.088936",
     "exception": false,
     "start_time": "2020-08-17T00:28:43.057672",
     "status": "completed"
    },
    "tags": []
   },
   "source": [
    "##### Now running only the logistic regression based classification to compare results with NN"
   ]
  },
  {
   "cell_type": "code",
   "execution_count": 22,
   "metadata": {
    "execution": {
     "iopub.execute_input": "2020-08-17T00:28:43.155605Z",
     "iopub.status.busy": "2020-08-17T00:28:43.154045Z",
     "iopub.status.idle": "2020-08-17T00:28:43.165935Z",
     "shell.execute_reply": "2020-08-17T00:28:43.165524Z"
    },
    "papermill": {
     "duration": 0.046404,
     "end_time": "2020-08-17T00:28:43.166026",
     "exception": false,
     "start_time": "2020-08-17T00:28:43.119622",
     "status": "completed"
    },
    "tags": []
   },
   "outputs": [],
   "source": [
    "learner2 = Learner(loss, model_logistic, opt, config.num_epochs)\n",
    "acc2 = ClfCallback(learner2, config.bs, training_xdata , testing_xdata, training_ydata, testing_ydata)\n",
    "learner2.set_callbacks([acc2])"
   ]
  },
  {
   "cell_type": "code",
   "execution_count": 23,
   "metadata": {
    "execution": {
     "iopub.execute_input": "2020-08-17T00:28:43.228901Z",
     "iopub.status.busy": "2020-08-17T00:28:43.228346Z",
     "iopub.status.idle": "2020-08-17T00:28:56.629925Z",
     "shell.execute_reply": "2020-08-17T00:28:56.630551Z"
    },
    "papermill": {
     "duration": 13.434722,
     "end_time": "2020-08-17T00:28:56.630717",
     "exception": false,
     "start_time": "2020-08-17T00:28:43.195995",
     "status": "completed"
    },
    "tags": []
   },
   "outputs": [
    {
     "name": "stdout",
     "output_type": "stream",
     "text": [
      "Epoch 0 Loss 0.275330359690319\n",
      "train accuracy is: 0.528208980136872, test accuracy is 0.5241935483870968\n"
     ]
    },
    {
     "name": "stdout",
     "output_type": "stream",
     "text": [
      "Epoch 10 Loss 0.10581134292171662\n",
      "train accuracy is: 0.9091136705057586, test accuracy is 0.9193548387096774\n"
     ]
    },
    {
     "name": "stdout",
     "output_type": "stream",
     "text": [
      "Epoch 20 Loss 0.07993833562478363\n",
      "train accuracy is: 0.9292271740944751, test accuracy is 0.9390120967741935\n"
     ]
    },
    {
     "name": "stdout",
     "output_type": "stream",
     "text": [
      "Epoch 30 Loss 0.0684477019625976\n",
      "train accuracy is: 0.9384076114171257, test accuracy is 0.9470766129032258\n"
     ]
    },
    {
     "name": "stdout",
     "output_type": "stream",
     "text": [
      "Epoch 40 Loss 0.0616492990740428\n",
      "train accuracy is: 0.942330161909531, test accuracy is 0.9546370967741935\n"
     ]
    },
    {
     "name": "stdout",
     "output_type": "stream",
     "text": [
      "Epoch 50 Loss 0.05705570157622212\n",
      "train accuracy is: 0.9451677516274412, test accuracy is 0.9546370967741935\n"
     ]
    },
    {
     "name": "stdout",
     "output_type": "stream",
     "text": [
      "Epoch 60 Loss 0.0537012292942802\n",
      "train accuracy is: 0.9479218828242364, test accuracy is 0.9581653225806451\n"
     ]
    },
    {
     "name": "stdout",
     "output_type": "stream",
     "text": [
      "Epoch 70 Loss 0.05111975053025047\n",
      "train accuracy is: 0.9495910532465365, test accuracy is 0.9581653225806451\n"
     ]
    },
    {
     "name": "stdout",
     "output_type": "stream",
     "text": [
      "Epoch 80 Loss 0.049057379244196696\n",
      "train accuracy is: 0.9503421799365716, test accuracy is 0.9596774193548387\n"
     ]
    },
    {
     "name": "stdout",
     "output_type": "stream",
     "text": [
      "Epoch 90 Loss 0.0473604820459737\n",
      "train accuracy is: 0.9520948088799867, test accuracy is 0.9611895161290323\n"
     ]
    },
    {
     "name": "stdout",
     "output_type": "stream",
     "text": [
      "Epoch 100 Loss 0.045932428114582285\n",
      "train accuracy is: 0.9528459355700217, test accuracy is 0.9611895161290323\n"
     ]
    },
    {
     "name": "stdout",
     "output_type": "stream",
     "text": [
      "Epoch 110 Loss 0.044712264702179205\n",
      "train accuracy is: 0.9539308963445168, test accuracy is 0.9627016129032258\n"
     ]
    },
    {
     "name": "stdout",
     "output_type": "stream",
     "text": [
      "Epoch 120 Loss 0.043650333522321824\n",
      "train accuracy is: 0.9550993156401268, test accuracy is 0.9627016129032258\n"
     ]
    },
    {
     "name": "stdout",
     "output_type": "stream",
     "text": [
      "Epoch 130 Loss 0.04271700244903504\n",
      "train accuracy is: 0.9555166082457018, test accuracy is 0.9627016129032258\n"
     ]
    },
    {
     "name": "stdout",
     "output_type": "stream",
     "text": [
      "Epoch 140 Loss 0.041887408812152485\n",
      "train accuracy is: 0.956434651977967, test accuracy is 0.9632056451612904\n"
     ]
    },
    {
     "name": "stdout",
     "output_type": "stream",
     "text": [
      "Epoch 150 Loss 0.04114337192497468\n",
      "train accuracy is: 0.956601569020197, test accuracy is 0.9637096774193549\n"
     ]
    },
    {
     "name": "stdout",
     "output_type": "stream",
     "text": [
      "Epoch 160 Loss 0.040470866762175345\n",
      "train accuracy is: 0.957269237189117, test accuracy is 0.9652217741935484\n"
     ]
    },
    {
     "name": "stdout",
     "output_type": "stream",
     "text": [
      "Epoch 170 Loss 0.03985963732197418\n",
      "train accuracy is: 0.9579369053580371, test accuracy is 0.9652217741935484\n"
     ]
    },
    {
     "name": "stdout",
     "output_type": "stream",
     "text": [
      "Epoch 180 Loss 0.039299860767271697\n",
      "train accuracy is: 0.9584376564847271, test accuracy is 0.9657258064516129\n"
     ]
    },
    {
     "name": "stdout",
     "output_type": "stream",
     "text": [
      "Epoch 190 Loss 0.038785866385418255\n",
      "train accuracy is: 0.9589384076114171, test accuracy is 0.9657258064516129\n"
     ]
    },
    {
     "name": "stdout",
     "output_type": "stream",
     "text": [
      "Epoch 200 Loss 0.03831065814497812\n",
      "train accuracy is: 0.9593557002169921, test accuracy is 0.9662298387096774\n"
     ]
    },
    {
     "name": "stdout",
     "output_type": "stream",
     "text": [
      "Epoch 210 Loss 0.037869954216792616\n",
      "train accuracy is: 0.9596060757803372, test accuracy is 0.9657258064516129\n"
     ]
    },
    {
     "name": "stdout",
     "output_type": "stream",
     "text": [
      "Epoch 220 Loss 0.03745842288405278\n",
      "train accuracy is: 0.9600233683859122, test accuracy is 0.9667338709677419\n"
     ]
    },
    {
     "name": "stdout",
     "output_type": "stream",
     "text": [
      "Epoch 230 Loss 0.03707507267451032\n",
      "train accuracy is: 0.9602737439492572, test accuracy is 0.9672379032258065\n"
     ]
    },
    {
     "name": "stdout",
     "output_type": "stream",
     "text": [
      "Epoch 240 Loss 0.03671521457345777\n",
      "train accuracy is: 0.9606910365548322, test accuracy is 0.967741935483871\n"
     ]
    },
    {
     "data": {
      "text/plain": [
       "0.07141406866120434"
      ]
     },
     "execution_count": 23,
     "metadata": {},
     "output_type": "execute_result"
    }
   ],
   "source": [
    "learner2.train_loop(dl)"
   ]
  },
  {
   "cell_type": "markdown",
   "metadata": {
    "papermill": {
     "duration": 0.040704,
     "end_time": "2020-08-17T00:28:56.712045",
     "exception": false,
     "start_time": "2020-08-17T00:28:56.671341",
     "status": "completed"
    },
    "tags": []
   },
   "source": [
    "### Comparing results of NN and LR"
   ]
  },
  {
   "cell_type": "code",
   "execution_count": 24,
   "metadata": {
    "execution": {
     "iopub.execute_input": "2020-08-17T00:28:56.792377Z",
     "iopub.status.busy": "2020-08-17T00:28:56.790904Z",
     "iopub.status.idle": "2020-08-17T00:28:56.959965Z",
     "shell.execute_reply": "2020-08-17T00:28:56.959559Z"
    },
    "papermill": {
     "duration": 0.210282,
     "end_time": "2020-08-17T00:28:56.960080",
     "exception": false,
     "start_time": "2020-08-17T00:28:56.749798",
     "status": "completed"
    },
    "tags": []
   },
   "outputs": [
    {
     "data": {
      "text/plain": [
       "<matplotlib.legend.Legend at 0x7f3a87115978>"
      ]
     },
     "execution_count": 24,
     "metadata": {},
     "output_type": "execute_result"
    },
    {
     "data": {
      "image/png": "[encoded data removed]",
      "text/plain": [
       "<Figure size 576x360 with 1 Axes>"
      ]
     },
     "metadata": {
      "needs_background": "light"
     },
     "output_type": "display_data"
    }
   ],
   "source": [
    "plt.figure(figsize=(8,5))\n",
    "plt.plot(acc1.val_accuracies, 'g-', label = \"Val Accuracies - NN\")\n",
    "plt.plot(acc1.accuracies, 'r-', label = \"Accuracies - NN\")\n",
    "plt.plot(acc2.val_accuracies, 'b-', label = \"Val Accuracies - Logistic Reg\")\n",
    "plt.plot(acc2.accuracies, 'k-', label = \"Accuracies - Logistic Reg\")\n",
    "plt.ylim(0.8,1) ## for a more spread out view\n",
    "plt.legend()"
   ]
  },
  {
   "cell_type": "markdown",
   "metadata": {
    "papermill": {
     "duration": 0.036988,
     "end_time": "2020-08-17T00:28:57.032911",
     "exception": false,
     "start_time": "2020-08-17T00:28:56.995923",
     "status": "completed"
    },
    "tags": []
   },
   "source": [
    "### Clearly NN has a better accuracy over LR; NN is overfitting - Validation accuracy (green) has dropped below training accuracy (orange), also they are diverging. This problem is not seen in LR"
   ]
  },
  {
   "cell_type": "markdown",
   "metadata": {
    "papermill": {
     "duration": 0.038642,
     "end_time": "2020-08-17T00:28:57.115108",
     "exception": false,
     "start_time": "2020-08-17T00:28:57.076466",
     "status": "completed"
    },
    "tags": []
   },
   "source": [
    "##### Now we will be moving through the network, till the output of the second last affine where we get a 2 dimensional output. We will be plotting this 2d output and probability contours"
   ]
  },
  {
   "cell_type": "code",
   "execution_count": 25,
   "metadata": {
    "execution": {
     "iopub.execute_input": "2020-08-17T00:28:57.196321Z",
     "iopub.status.busy": "2020-08-17T00:28:57.194032Z",
     "iopub.status.idle": "2020-08-17T00:28:57.203544Z",
     "shell.execute_reply": "2020-08-17T00:28:57.202794Z"
    },
    "papermill": {
     "duration": 0.053598,
     "end_time": "2020-08-17T00:28:57.203663",
     "exception": false,
     "start_time": "2020-08-17T00:28:57.150065",
     "status": "completed"
    },
    "tags": []
   },
   "outputs": [],
   "source": [
    "model_new = Model(layers[:-2])"
   ]
  },
  {
   "cell_type": "code",
   "execution_count": 26,
   "metadata": {
    "execution": {
     "iopub.execute_input": "2020-08-17T00:28:57.279320Z",
     "iopub.status.busy": "2020-08-17T00:28:57.278843Z",
     "iopub.status.idle": "2020-08-17T00:28:57.298016Z",
     "shell.execute_reply": "2020-08-17T00:28:57.298356Z"
    },
    "papermill": {
     "duration": 0.057351,
     "end_time": "2020-08-17T00:28:57.298464",
     "exception": false,
     "start_time": "2020-08-17T00:28:57.241113",
     "status": "completed"
    },
    "tags": []
   },
   "outputs": [],
   "source": [
    "plot_testing = model_new(testing_xdata)"
   ]
  },
  {
   "cell_type": "markdown",
   "metadata": {
    "papermill": {
     "duration": 0.038632,
     "end_time": "2020-08-17T00:28:57.374557",
     "exception": false,
     "start_time": "2020-08-17T00:28:57.335925",
     "status": "completed"
    },
    "tags": []
   },
   "source": [
    "##### Plotting the scatter plot of points and color coding by class"
   ]
  },
  {
   "cell_type": "code",
   "execution_count": 27,
   "metadata": {
    "execution": {
     "iopub.execute_input": "2020-08-17T00:28:57.477137Z",
     "iopub.status.busy": "2020-08-17T00:28:57.476639Z",
     "iopub.status.idle": "2020-08-17T00:28:57.621031Z",
     "shell.execute_reply": "2020-08-17T00:28:57.621592Z"
    },
    "papermill": {
     "duration": 0.210241,
     "end_time": "2020-08-17T00:28:57.621758",
     "exception": false,
     "start_time": "2020-08-17T00:28:57.411517",
     "status": "completed"
    },
    "tags": []
   },
   "outputs": [
    {
     "data": {
      "image/png": "[encoded data removed]",
      "text/plain": [
       "<Figure size 576x504 with 1 Axes>"
      ]
     },
     "metadata": {
      "needs_background": "light"
     },
     "output_type": "display_data"
    }
   ],
   "source": [
    "plt.figure(figsize=(8,7))\n",
    "plt.scatter(plot_testing[:,0], plot_testing[:,1], alpha = 0.1, c = y_test.ravel());"
   ]
  },
  {
   "cell_type": "markdown",
   "metadata": {
    "papermill": {
     "duration": 0.038283,
     "end_time": "2020-08-17T00:28:57.698659",
     "exception": false,
     "start_time": "2020-08-17T00:28:57.660376",
     "status": "completed"
    },
    "tags": []
   },
   "source": [
    "##### Plotting probability contours"
   ]
  },
  {
   "cell_type": "code",
   "execution_count": 28,
   "metadata": {
    "execution": {
     "iopub.execute_input": "2020-08-17T00:28:57.790580Z",
     "iopub.status.busy": "2020-08-17T00:28:57.790031Z",
     "iopub.status.idle": "2020-08-17T00:28:57.802441Z",
     "shell.execute_reply": "2020-08-17T00:28:57.801935Z"
    },
    "papermill": {
     "duration": 0.060685,
     "end_time": "2020-08-17T00:28:57.802626",
     "exception": false,
     "start_time": "2020-08-17T00:28:57.741941",
     "status": "completed"
    },
    "tags": []
   },
   "outputs": [],
   "source": [
    "model_prob = Model(layers[-2:]) ## picking only last two layers to get probability. That is affine followed by sigmoid"
   ]
  },
  {
   "cell_type": "code",
   "execution_count": 29,
   "metadata": {
    "execution": {
     "iopub.execute_input": "2020-08-17T00:28:57.882937Z",
     "iopub.status.busy": "2020-08-17T00:28:57.881885Z",
     "iopub.status.idle": "2020-08-17T00:28:57.896454Z",
     "shell.execute_reply": "2020-08-17T00:28:57.896893Z"
    },
    "papermill": {
     "duration": 0.05592,
     "end_time": "2020-08-17T00:28:57.897039",
     "exception": false,
     "start_time": "2020-08-17T00:28:57.841119",
     "status": "completed"
    },
    "tags": []
   },
   "outputs": [],
   "source": [
    "xgrid = np.linspace(-4, 1, 100) ## Adjust these values based on above chart, roughly -4 to 1\n",
    "ygrid = np.linspace(-7.5, 7.5, 100) ## Adjust these values based on above chart, roughly -7.5, 7.5\n",
    "xg, yg = np.meshgrid(xgrid, ygrid)\n",
    "# xg and yg are now both 100X100, lets convert them to single arrays \n",
    "\n",
    "xg_interim = np.ravel(xg)\n",
    "yg_interim = np.ravel(yg)\n",
    "\n",
    "## xg_interim, yg_interim are now arrays of len 10000, now we will stack them and then transpose to get desired shape of n rows, 2 columns\n",
    "\n",
    "X_interim = np.vstack((xg_interim, yg_interim)) ## Please note vstack takes in a tuple\n",
    "X = X_interim.T\n",
    "\n",
    "## We want a shape of n rows and 2 columns to be able to feed this to last affine\n",
    "## This last affine takes only two columns, hence the above transformation\n",
    "probability_contour = model_prob(X).reshape(100,100) ## to make it consistent with xg, yg"
   ]
  },
  {
   "cell_type": "code",
   "execution_count": 30,
   "metadata": {
    "execution": {
     "iopub.execute_input": "2020-08-17T00:28:57.988776Z",
     "iopub.status.busy": "2020-08-17T00:28:57.987343Z",
     "iopub.status.idle": "2020-08-17T00:28:58.179482Z",
     "shell.execute_reply": "2020-08-17T00:28:58.179975Z"
    },
    "papermill": {
     "duration": 0.239831,
     "end_time": "2020-08-17T00:28:58.180144",
     "exception": false,
     "start_time": "2020-08-17T00:28:57.940313",
     "status": "completed"
    },
    "tags": []
   },
   "outputs": [
    {
     "data": {
      "image/png": "[encoded data removed]",
      "text/plain": [
       "<Figure size 576x504 with 1 Axes>"
      ]
     },
     "metadata": {
      "needs_background": "light"
     },
     "output_type": "display_data"
    }
   ],
   "source": [
    "plt.figure(figsize=(8,7))\n",
    "plt.scatter(plot_testing[:,0], plot_testing[:,1], alpha = 0.1, c = y_test.ravel())\n",
    "contours = plt.contour(xg,yg,probability_contour)\n",
    "plt.clabel(contours, inline = True );"
   ]
  }
 ],
 "metadata": {
  "kernelspec": {
   "display_name": "Python 3",
   "language": "python",
   "name": "python3"
  },
  "language_info": {
   "codemirror_mode": {
    "name": "ipython",
    "version": 3
   },
   "file_extension": ".py",
   "mimetype": "text/x-python",
   "name": "python",
   "nbconvert_exporter": "python",
   "pygments_lexer": "ipython3",
   "version": "3.6.11"
  },
  "papermill": {
   "duration": 97.90488,
   "end_time": "2020-08-17T00:28:58.527683",
   "environment_variables": {},
   "exception": null,
   "input_path": "2020-08-07-NN-new.ipynb",
   "output_path": "2020-08-07-NN-new.ipynb",
   "parameters": {},
   "start_time": "2020-08-17T00:27:20.622803",
   "version": "2.1.2"
  }
 },
 "nbformat": 4,
 "nbformat_minor": 4
}