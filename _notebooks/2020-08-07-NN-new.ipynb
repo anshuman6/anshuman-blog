{
 "cells": [
  {
   "cell_type": "markdown",
   "metadata": {
    "papermill": {
     "duration": 0.031032,
     "end_time": "2020-08-09T08:23:23.054741",
     "exception": false,
     "start_time": "2020-08-09T08:23:23.023709",
     "status": "completed"
    },
    "tags": []
   },
   "source": [
    "# \"Building a basic Neural Network from scratch - Kudzu\"\n",
    "\n",
    "- badges: true\n",
    "- author: Anshuman Gupta"
   ]
  },
  {
   "cell_type": "markdown",
   "metadata": {
    "papermill": {
     "duration": 0.026033,
     "end_time": "2020-08-09T08:23:23.107274",
     "exception": false,
     "start_time": "2020-08-09T08:23:23.081241",
     "status": "completed"
    },
    "tags": []
   },
   "source": [
    "#### In this project, the idea is to write a classifier to differentiate between handwritten digits 3 and 8, from the MNIST database.\n",
    "\n",
    "#### I will using a custom built neural network library called Kudzu.This has been developed as a part of KTF/Foundations course of Univ.ai (www.univ.ai). The source code for Kudzu Library and and this notebook can be found on my git-hub profile : www.https://github.com/anshuman6 under the folder project-solution. Any feedback and comments are welcome. Please feel free to email me at: anshuman6@gmail.com\n",
    "\n",
    "#### 1. I will be using the MNIST database. \n",
    "\n",
    "#### 2. I will be comparing the results of the 4 layer NN to a standard logistic regression"
   ]
  },
  {
   "cell_type": "markdown",
   "metadata": {
    "papermill": {
     "duration": 0.027696,
     "end_time": "2020-08-09T08:23:23.160239",
     "exception": false,
     "start_time": "2020-08-09T08:23:23.132543",
     "status": "completed"
    },
    "tags": []
   },
   "source": [
    "##### Importing all the necessary libraries"
   ]
  },
  {
   "cell_type": "code",
   "execution_count": 1,
   "metadata": {
    "execution": {
     "iopub.execute_input": "2020-08-09T08:23:23.216473Z",
     "iopub.status.busy": "2020-08-09T08:23:23.215738Z",
     "iopub.status.idle": "2020-08-09T08:23:23.226705Z",
     "shell.execute_reply": "2020-08-09T08:23:23.226068Z"
    },
    "papermill": {
     "duration": 0.042524,
     "end_time": "2020-08-09T08:23:23.226867",
     "exception": false,
     "start_time": "2020-08-09T08:23:23.184343",
     "status": "completed"
    },
    "tags": []
   },
   "outputs": [],
   "source": [
    "%load_ext autoreload\n",
    "%autoreload 2"
   ]
  },
  {
   "cell_type": "code",
   "execution_count": 2,
   "metadata": {
    "execution": {
     "iopub.execute_input": "2020-08-09T08:23:23.296904Z",
     "iopub.status.busy": "2020-08-09T08:23:23.296238Z",
     "iopub.status.idle": "2020-08-09T08:23:23.876899Z",
     "shell.execute_reply": "2020-08-09T08:23:23.876042Z"
    },
    "papermill": {
     "duration": 0.616798,
     "end_time": "2020-08-09T08:23:23.877041",
     "exception": false,
     "start_time": "2020-08-09T08:23:23.260243",
     "status": "completed"
    },
    "tags": []
   },
   "outputs": [],
   "source": [
    "%matplotlib inline\n",
    "import numpy as np\n",
    "import matplotlib.pyplot as plt\n",
    "import pandas as pd"
   ]
  },
  {
   "cell_type": "markdown",
   "metadata": {
    "papermill": {
     "duration": 0.033448,
     "end_time": "2020-08-09T08:23:23.936035",
     "exception": false,
     "start_time": "2020-08-09T08:23:23.902587",
     "status": "completed"
    },
    "tags": []
   },
   "source": [
    "##### The following command helps us download MNIST from notebook itself. You can skip this if you already have MNIST. You can also download it via your terminal."
   ]
  },
  {
   "cell_type": "code",
   "execution_count": 3,
   "metadata": {
    "execution": {
     "iopub.execute_input": "2020-08-09T08:23:24.019694Z",
     "iopub.status.busy": "2020-08-09T08:23:24.007688Z",
     "iopub.status.idle": "2020-08-09T08:23:25.817022Z",
     "shell.execute_reply": "2020-08-09T08:23:25.817592Z"
    },
    "papermill": {
     "duration": 1.84694,
     "end_time": "2020-08-09T08:23:25.817809",
     "exception": false,
     "start_time": "2020-08-09T08:23:23.970869",
     "status": "completed"
    },
    "tags": []
   },
   "outputs": [
    {
     "name": "stdout",
     "output_type": "stream",
     "text": [
      "Collecting mnist\r\n"
     ]
    },
    {
     "name": "stdout",
     "output_type": "stream",
     "text": [
      "  Downloading mnist-0.2.2-py2.py3-none-any.whl (3.5 kB)\r\n",
      "Requirement already satisfied: numpy in /opt/hostedtoolcache/Python/3.6.11/x64/lib/python3.6/site-packages (from mnist) (1.19.1)\r\n"
     ]
    },
    {
     "name": "stdout",
     "output_type": "stream",
     "text": [
      "Installing collected packages: mnist\r\n"
     ]
    },
    {
     "name": "stdout",
     "output_type": "stream",
     "text": [
      "Successfully installed mnist-0.2.2\r\n"
     ]
    },
    {
     "name": "stdout",
     "output_type": "stream",
     "text": [
      "\u001b[33mWARNING: You are using pip version 20.2; however, version 20.2.1 is available.\r\n",
      "You should consider upgrading via the '/opt/hostedtoolcache/Python/3.6.11/x64/bin/python -m pip install --upgrade pip' command.\u001b[0m\r\n"
     ]
    }
   ],
   "source": [
    "!pip install mnist # Please note, it is commented out for now, you can remove comment if you want to install it"
   ]
  },
  {
   "cell_type": "markdown",
   "metadata": {
    "papermill": {
     "duration": 0.029819,
     "end_time": "2020-08-09T08:23:25.876182",
     "exception": false,
     "start_time": "2020-08-09T08:23:25.846363",
     "status": "completed"
    },
    "tags": []
   },
   "source": [
    "#### Preparing the Data"
   ]
  },
  {
   "cell_type": "code",
   "execution_count": 4,
   "metadata": {
    "execution": {
     "iopub.execute_input": "2020-08-09T08:23:25.937837Z",
     "iopub.status.busy": "2020-08-09T08:23:25.937140Z",
     "iopub.status.idle": "2020-08-09T08:23:25.955690Z",
     "shell.execute_reply": "2020-08-09T08:23:25.956269Z"
    },
    "papermill": {
     "duration": 0.050261,
     "end_time": "2020-08-09T08:23:25.956400",
     "exception": false,
     "start_time": "2020-08-09T08:23:25.906139",
     "status": "completed"
    },
    "tags": []
   },
   "outputs": [],
   "source": [
    "import mnist"
   ]
  },
  {
   "cell_type": "code",
   "execution_count": 5,
   "metadata": {
    "execution": {
     "iopub.execute_input": "2020-08-09T08:23:26.015065Z",
     "iopub.status.busy": "2020-08-09T08:23:26.014464Z",
     "iopub.status.idle": "2020-08-09T08:23:27.712631Z",
     "shell.execute_reply": "2020-08-09T08:23:27.711952Z"
    },
    "papermill": {
     "duration": 1.730346,
     "end_time": "2020-08-09T08:23:27.712815",
     "exception": false,
     "start_time": "2020-08-09T08:23:25.982469",
     "status": "completed"
    },
    "tags": []
   },
   "outputs": [],
   "source": [
    "train_images = mnist.train_images()\n",
    "train_labels = mnist.train_labels()"
   ]
  },
  {
   "cell_type": "code",
   "execution_count": 6,
   "metadata": {
    "execution": {
     "iopub.execute_input": "2020-08-09T08:23:27.776941Z",
     "iopub.status.busy": "2020-08-09T08:23:27.776349Z",
     "iopub.status.idle": "2020-08-09T08:23:27.793274Z",
     "shell.execute_reply": "2020-08-09T08:23:27.792470Z"
    },
    "papermill": {
     "duration": 0.052233,
     "end_time": "2020-08-09T08:23:27.793407",
     "exception": false,
     "start_time": "2020-08-09T08:23:27.741174",
     "status": "completed"
    },
    "tags": []
   },
   "outputs": [
    {
     "data": {
      "text/plain": [
       "((60000, 28, 28), (60000,))"
      ]
     },
     "execution_count": 6,
     "metadata": {},
     "output_type": "execute_result"
    }
   ],
   "source": [
    "train_images.shape, train_labels.shape"
   ]
  },
  {
   "cell_type": "code",
   "execution_count": 7,
   "metadata": {
    "execution": {
     "iopub.execute_input": "2020-08-09T08:23:27.851426Z",
     "iopub.status.busy": "2020-08-09T08:23:27.850823Z",
     "iopub.status.idle": "2020-08-09T08:23:28.657249Z",
     "shell.execute_reply": "2020-08-09T08:23:28.656525Z"
    },
    "papermill": {
     "duration": 0.83581,
     "end_time": "2020-08-09T08:23:28.657450",
     "exception": false,
     "start_time": "2020-08-09T08:23:27.821640",
     "status": "completed"
    },
    "tags": []
   },
   "outputs": [],
   "source": [
    "test_images = mnist.test_images()\n",
    "test_labels = mnist.test_labels()"
   ]
  },
  {
   "cell_type": "code",
   "execution_count": 8,
   "metadata": {
    "execution": {
     "iopub.execute_input": "2020-08-09T08:23:28.733497Z",
     "iopub.status.busy": "2020-08-09T08:23:28.732866Z",
     "iopub.status.idle": "2020-08-09T08:23:28.749163Z",
     "shell.execute_reply": "2020-08-09T08:23:28.749772Z"
    },
    "papermill": {
     "duration": 0.056817,
     "end_time": "2020-08-09T08:23:28.749928",
     "exception": false,
     "start_time": "2020-08-09T08:23:28.693111",
     "status": "completed"
    },
    "tags": []
   },
   "outputs": [
    {
     "data": {
      "text/plain": [
       "((10000, 28, 28), (10000,))"
      ]
     },
     "execution_count": 8,
     "metadata": {},
     "output_type": "execute_result"
    }
   ],
   "source": [
    "test_images.shape, test_labels.shape"
   ]
  },
  {
   "cell_type": "code",
   "execution_count": 9,
   "metadata": {
    "execution": {
     "iopub.execute_input": "2020-08-09T08:23:28.810272Z",
     "iopub.status.busy": "2020-08-09T08:23:28.809620Z",
     "iopub.status.idle": "2020-08-09T08:23:29.039955Z",
     "shell.execute_reply": "2020-08-09T08:23:29.040543Z"
    },
    "papermill": {
     "duration": 0.263937,
     "end_time": "2020-08-09T08:23:29.040747",
     "exception": false,
     "start_time": "2020-08-09T08:23:28.776810",
     "status": "completed"
    },
    "tags": []
   },
   "outputs": [
    {
     "name": "stdout",
     "output_type": "stream",
     "text": [
      "2\n"
     ]
    },
    {
     "data": {
      "text/plain": [
       "<matplotlib.image.AxesImage at 0x7f9e6cd49a20>"
      ]
     },
     "execution_count": 9,
     "metadata": {},
     "output_type": "execute_result"
    },
    {
     "data": {
      "image/png": "[encoded data removed]",
      "text/plain": [
       "<Figure size 432x288 with 1 Axes>"
      ]
     },
     "metadata": {
      "needs_background": "light"
     },
     "output_type": "display_data"
    }
   ],
   "source": [
    "image_index = 7776 # You may select anything up to 60,000\n",
    "print(train_labels[image_index]) \n",
    "plt.imshow(train_images[image_index], cmap='Greys')"
   ]
  },
  {
   "cell_type": "markdown",
   "metadata": {
    "papermill": {
     "duration": 0.028257,
     "end_time": "2020-08-09T08:23:29.100719",
     "exception": false,
     "start_time": "2020-08-09T08:23:29.072462",
     "status": "completed"
    },
    "tags": []
   },
   "source": [
    "## Filter data to get 3 and 8 out"
   ]
  },
  {
   "cell_type": "code",
   "execution_count": 10,
   "metadata": {
    "execution": {
     "iopub.execute_input": "2020-08-09T08:23:29.172206Z",
     "iopub.status.busy": "2020-08-09T08:23:29.171545Z",
     "iopub.status.idle": "2020-08-09T08:23:29.191221Z",
     "shell.execute_reply": "2020-08-09T08:23:29.191777Z"
    },
    "papermill": {
     "duration": 0.057524,
     "end_time": "2020-08-09T08:23:29.191933",
     "exception": false,
     "start_time": "2020-08-09T08:23:29.134409",
     "status": "completed"
    },
    "tags": []
   },
   "outputs": [],
   "source": [
    "train_filter = np.where((train_labels == 3 ) | (train_labels == 8))\n",
    "test_filter = np.where((test_labels == 3) | (test_labels == 8))\n",
    "X_train, y_train = train_images[train_filter], train_labels[train_filter]\n",
    "X_test, y_test = test_images[test_filter], test_labels[test_filter]"
   ]
  },
  {
   "cell_type": "markdown",
   "metadata": {
    "papermill": {
     "duration": 0.028805,
     "end_time": "2020-08-09T08:23:29.251317",
     "exception": false,
     "start_time": "2020-08-09T08:23:29.222512",
     "status": "completed"
    },
    "tags": []
   },
   "source": [
    "##### We normalize the pizel values in the 0 to 1 range"
   ]
  },
  {
   "cell_type": "code",
   "execution_count": 11,
   "metadata": {
    "execution": {
     "iopub.execute_input": "2020-08-09T08:23:29.313240Z",
     "iopub.status.busy": "2020-08-09T08:23:29.312637Z",
     "iopub.status.idle": "2020-08-09T08:23:29.382005Z",
     "shell.execute_reply": "2020-08-09T08:23:29.381391Z"
    },
    "papermill": {
     "duration": 0.103409,
     "end_time": "2020-08-09T08:23:29.382146",
     "exception": false,
     "start_time": "2020-08-09T08:23:29.278737",
     "status": "completed"
    },
    "tags": []
   },
   "outputs": [],
   "source": [
    "X_train = X_train/255.\n",
    "X_test = X_test/255."
   ]
  },
  {
   "cell_type": "markdown",
   "metadata": {
    "papermill": {
     "duration": 0.028647,
     "end_time": "2020-08-09T08:23:29.440769",
     "exception": false,
     "start_time": "2020-08-09T08:23:29.412122",
     "status": "completed"
    },
    "tags": []
   },
   "source": [
    "And setup the labels as 1 (when the digit is 3) and 0 (when the digit is 8)"
   ]
  },
  {
   "cell_type": "code",
   "execution_count": 12,
   "metadata": {
    "execution": {
     "iopub.execute_input": "2020-08-09T08:23:29.507760Z",
     "iopub.status.busy": "2020-08-09T08:23:29.507123Z",
     "iopub.status.idle": "2020-08-09T08:23:29.519299Z",
     "shell.execute_reply": "2020-08-09T08:23:29.518751Z"
    },
    "papermill": {
     "duration": 0.047966,
     "end_time": "2020-08-09T08:23:29.519424",
     "exception": false,
     "start_time": "2020-08-09T08:23:29.471458",
     "status": "completed"
    },
    "tags": []
   },
   "outputs": [],
   "source": [
    "y_train = 1*(y_train==3)\n",
    "y_test = 1*(y_test==3)"
   ]
  },
  {
   "cell_type": "code",
   "execution_count": 13,
   "metadata": {
    "execution": {
     "iopub.execute_input": "2020-08-09T08:23:29.584904Z",
     "iopub.status.busy": "2020-08-09T08:23:29.584171Z",
     "iopub.status.idle": "2020-08-09T08:23:29.594902Z",
     "shell.execute_reply": "2020-08-09T08:23:29.594276Z"
    },
    "papermill": {
     "duration": 0.046179,
     "end_time": "2020-08-09T08:23:29.595044",
     "exception": false,
     "start_time": "2020-08-09T08:23:29.548865",
     "status": "completed"
    },
    "tags": []
   },
   "outputs": [
    {
     "data": {
      "text/plain": [
       "((11982, 28, 28), (1984, 28, 28))"
      ]
     },
     "execution_count": 13,
     "metadata": {},
     "output_type": "execute_result"
    }
   ],
   "source": [
    "X_train.shape, X_test.shape"
   ]
  },
  {
   "cell_type": "markdown",
   "metadata": {
    "papermill": {
     "duration": 0.035704,
     "end_time": "2020-08-09T08:23:29.666568",
     "exception": false,
     "start_time": "2020-08-09T08:23:29.630864",
     "status": "completed"
    },
    "tags": []
   },
   "source": [
    "##### We reshape the data to flatten the image pixels into a set of features or co-variates:"
   ]
  },
  {
   "cell_type": "code",
   "execution_count": 14,
   "metadata": {
    "execution": {
     "iopub.execute_input": "2020-08-09T08:23:29.751021Z",
     "iopub.status.busy": "2020-08-09T08:23:29.750296Z",
     "iopub.status.idle": "2020-08-09T08:23:29.760001Z",
     "shell.execute_reply": "2020-08-09T08:23:29.760564Z"
    },
    "papermill": {
     "duration": 0.056998,
     "end_time": "2020-08-09T08:23:29.760726",
     "exception": false,
     "start_time": "2020-08-09T08:23:29.703728",
     "status": "completed"
    },
    "tags": []
   },
   "outputs": [
    {
     "data": {
      "text/plain": [
       "((11982, 784), (1984, 784))"
      ]
     },
     "execution_count": 14,
     "metadata": {},
     "output_type": "execute_result"
    }
   ],
   "source": [
    "X_train = X_train.reshape(X_train.shape[0], -1)\n",
    "X_test = X_test.reshape(X_test.shape[0], -1)\n",
    "X_train.shape, X_test.shape"
   ]
  },
  {
   "cell_type": "markdown",
   "metadata": {
    "papermill": {
     "duration": 0.037655,
     "end_time": "2020-08-09T08:23:29.834824",
     "exception": false,
     "start_time": "2020-08-09T08:23:29.797169",
     "status": "completed"
    },
    "tags": []
   },
   "source": [
    "##### Importing Kudzu library and its functionality"
   ]
  },
  {
   "cell_type": "code",
   "execution_count": 15,
   "metadata": {
    "execution": {
     "iopub.execute_input": "2020-08-09T08:23:29.914598Z",
     "iopub.status.busy": "2020-08-09T08:23:29.913954Z",
     "iopub.status.idle": "2020-08-09T08:23:29.934424Z",
     "shell.execute_reply": "2020-08-09T08:23:29.933632Z"
    },
    "papermill": {
     "duration": 0.061839,
     "end_time": "2020-08-09T08:23:29.934582",
     "exception": false,
     "start_time": "2020-08-09T08:23:29.872743",
     "status": "completed"
    },
    "tags": []
   },
   "outputs": [],
   "source": [
    "from kudzu.data import Data, Dataloader, Sampler\n",
    "from kudzu.callbacks import AccCallback\n",
    "from kudzu.loss import MSE\n",
    "from kudzu.layer import Affine, Sigmoid\n",
    "from kudzu.model import Model\n",
    "from kudzu.optim import GD\n",
    "from kudzu.train import Learner\n",
    "from kudzu.callbacks import ClfCallback\n",
    "from kudzu.layer import Sigmoid\n",
    "from kudzu.layer import Relu"
   ]
  },
  {
   "cell_type": "markdown",
   "metadata": {
    "papermill": {
     "duration": 0.037768,
     "end_time": "2020-08-09T08:23:30.010616",
     "exception": false,
     "start_time": "2020-08-09T08:23:29.972848",
     "status": "completed"
    },
    "tags": []
   },
   "source": [
    "##### We are creating a class, just so that we can use it to store our parameters for us"
   ]
  },
  {
   "cell_type": "code",
   "execution_count": 16,
   "metadata": {
    "execution": {
     "iopub.execute_input": "2020-08-09T08:23:30.092107Z",
     "iopub.status.busy": "2020-08-09T08:23:30.091516Z",
     "iopub.status.idle": "2020-08-09T08:23:30.101708Z",
     "shell.execute_reply": "2020-08-09T08:23:30.100984Z"
    },
    "papermill": {
     "duration": 0.052177,
     "end_time": "2020-08-09T08:23:30.101827",
     "exception": false,
     "start_time": "2020-08-09T08:23:30.049650",
     "status": "completed"
    },
    "tags": []
   },
   "outputs": [],
   "source": [
    "class Config:\n",
    "    pass\n",
    "config = Config()\n",
    "config.lr = 0.001\n",
    "config.num_epochs = 250\n",
    "config.bs = 50"
   ]
  },
  {
   "cell_type": "markdown",
   "metadata": {
    "papermill": {
     "duration": 0.031442,
     "end_time": "2020-08-09T08:23:30.163254",
     "exception": false,
     "start_time": "2020-08-09T08:23:30.131812",
     "status": "completed"
    },
    "tags": []
   },
   "source": [
    "##### Initializing Data"
   ]
  },
  {
   "cell_type": "code",
   "execution_count": 17,
   "metadata": {
    "execution": {
     "iopub.execute_input": "2020-08-09T08:23:30.225848Z",
     "iopub.status.busy": "2020-08-09T08:23:30.225244Z",
     "iopub.status.idle": "2020-08-09T08:23:30.236284Z",
     "shell.execute_reply": "2020-08-09T08:23:30.236777Z"
    },
    "papermill": {
     "duration": 0.044051,
     "end_time": "2020-08-09T08:23:30.236902",
     "exception": false,
     "start_time": "2020-08-09T08:23:30.192851",
     "status": "completed"
    },
    "tags": []
   },
   "outputs": [],
   "source": [
    "data = Data(X_train, y_train.reshape(-1,1))\n",
    "loss = MSE()\n",
    "opt = GD(config.lr)\n",
    "sampler = Sampler(data, config.bs, shuffle=True)\n",
    "dl = Dataloader(data, sampler)"
   ]
  },
  {
   "cell_type": "markdown",
   "metadata": {
    "papermill": {
     "duration": 0.029683,
     "end_time": "2020-08-09T08:23:30.296389",
     "exception": false,
     "start_time": "2020-08-09T08:23:30.266706",
     "status": "completed"
    },
    "tags": []
   },
   "source": [
    "##### Constructing 2 different layers, one for NN and one only for logistic regression."
   ]
  },
  {
   "cell_type": "markdown",
   "metadata": {
    "papermill": {
     "duration": 0.028158,
     "end_time": "2020-08-09T08:23:30.353766",
     "exception": false,
     "start_time": "2020-08-09T08:23:30.325608",
     "status": "completed"
    },
    "tags": []
   },
   "source": [
    "##### Creating containers for data to be passed, to calculate accuracies"
   ]
  },
  {
   "cell_type": "code",
   "execution_count": 18,
   "metadata": {
    "execution": {
     "iopub.execute_input": "2020-08-09T08:23:30.419648Z",
     "iopub.status.busy": "2020-08-09T08:23:30.418966Z",
     "iopub.status.idle": "2020-08-09T08:23:30.431854Z",
     "shell.execute_reply": "2020-08-09T08:23:30.432413Z"
    },
    "papermill": {
     "duration": 0.049858,
     "end_time": "2020-08-09T08:23:30.432543",
     "exception": false,
     "start_time": "2020-08-09T08:23:30.382685",
     "status": "completed"
    },
    "tags": []
   },
   "outputs": [],
   "source": [
    "training_xdata = X_train\n",
    "testing_xdata = X_test\n",
    "training_ydata = y_train.reshape(-1,1)\n",
    "testing_ydata = y_test.reshape(-1,1)"
   ]
  },
  {
   "cell_type": "markdown",
   "metadata": {
    "papermill": {
     "duration": 0.03184,
     "end_time": "2020-08-09T08:23:30.493918",
     "exception": false,
     "start_time": "2020-08-09T08:23:30.462078",
     "status": "completed"
    },
    "tags": []
   },
   "source": [
    "##### Initializing models and Running training loop: "
   ]
  },
  {
   "cell_type": "code",
   "execution_count": 19,
   "metadata": {
    "execution": {
     "iopub.execute_input": "2020-08-09T08:23:30.564792Z",
     "iopub.status.busy": "2020-08-09T08:23:30.564178Z",
     "iopub.status.idle": "2020-08-09T08:23:30.581841Z",
     "shell.execute_reply": "2020-08-09T08:23:30.582567Z"
    },
    "papermill": {
     "duration": 0.058717,
     "end_time": "2020-08-09T08:23:30.582743",
     "exception": false,
     "start_time": "2020-08-09T08:23:30.524026",
     "status": "completed"
    },
    "tags": []
   },
   "outputs": [],
   "source": [
    "layers = [Affine(\"first\", 784, 100), Relu(\"first\"), Affine(\"second\", 100, 100), Relu(\"second\"), Affine(\"third\", 100, 2), Affine(\"final\", 2, 1), Sigmoid(\"final\")]\n",
    "\n",
    "model_neural = Model(layers)\n",
    "model_logistic = Model([Affine(\"logits\", 784, 1), Sigmoid(\"sigmoid\")])"
   ]
  },
  {
   "cell_type": "code",
   "execution_count": 20,
   "metadata": {
    "execution": {
     "iopub.execute_input": "2020-08-09T08:23:30.671854Z",
     "iopub.status.busy": "2020-08-09T08:23:30.671072Z",
     "iopub.status.idle": "2020-08-09T08:23:30.682109Z",
     "shell.execute_reply": "2020-08-09T08:23:30.681522Z"
    },
    "papermill": {
     "duration": 0.057876,
     "end_time": "2020-08-09T08:23:30.682264",
     "exception": false,
     "start_time": "2020-08-09T08:23:30.624388",
     "status": "completed"
    },
    "tags": []
   },
   "outputs": [],
   "source": [
    "learner1 = Learner(loss, model_neural, opt, config.num_epochs)\n",
    "acc1 = ClfCallback(learner1, config.bs, training_xdata , testing_xdata, training_ydata, testing_ydata)\n",
    "learner1.set_callbacks([acc1])"
   ]
  },
  {
   "cell_type": "code",
   "execution_count": 21,
   "metadata": {
    "execution": {
     "iopub.execute_input": "2020-08-09T08:23:30.762194Z",
     "iopub.status.busy": "2020-08-09T08:23:30.761474Z",
     "iopub.status.idle": "2020-08-09T08:25:36.542973Z",
     "shell.execute_reply": "2020-08-09T08:25:36.542332Z"
    },
    "papermill": {
     "duration": 125.822859,
     "end_time": "2020-08-09T08:25:36.543163",
     "exception": false,
     "start_time": "2020-08-09T08:23:30.720304",
     "status": "completed"
    },
    "tags": []
   },
   "outputs": [
    {
     "name": "stdout",
     "output_type": "stream",
     "text": [
      "Epoch 0 Loss 0.2510269968585367\n",
      "train accuracy is: 0.6397930228676347, test accuracy is 0.6159274193548387\n"
     ]
    },
    {
     "name": "stdout",
     "output_type": "stream",
     "text": [
      "Epoch 10 Loss 0.08760394087484122\n",
      "train accuracy is: 0.9204640293773995, test accuracy is 0.9243951612903226\n"
     ]
    },
    {
     "name": "stdout",
     "output_type": "stream",
     "text": [
      "Epoch 20 Loss 0.05430286107973056\n",
      "train accuracy is: 0.943164747120681, test accuracy is 0.9465725806451613\n"
     ]
    },
    {
     "name": "stdout",
     "output_type": "stream",
     "text": [
      "Epoch 30 Loss 0.042767218556272704\n",
      "train accuracy is: 0.9547654815556669, test accuracy is 0.9576612903225806\n"
     ]
    },
    {
     "name": "stdout",
     "output_type": "stream",
     "text": [
      "Epoch 40 Loss 0.03690621201306705\n",
      "train accuracy is: 0.9601902854281422, test accuracy is 0.9616935483870968\n"
     ]
    },
    {
     "name": "stdout",
     "output_type": "stream",
     "text": [
      "Epoch 50 Loss 0.03330597133049416\n",
      "train accuracy is: 0.9636955433149724, test accuracy is 0.9657258064516129\n"
     ]
    },
    {
     "name": "stdout",
     "output_type": "stream",
     "text": [
      "Epoch 60 Loss 0.0308012926917674\n",
      "train accuracy is: 0.9654481722583875, test accuracy is 0.967741935483871\n"
     ]
    },
    {
     "name": "stdout",
     "output_type": "stream",
     "text": [
      "Epoch 70 Loss 0.028911141419055125\n",
      "train accuracy is: 0.9682857619762978, test accuracy is 0.969758064516129\n"
     ]
    },
    {
     "name": "stdout",
     "output_type": "stream",
     "text": [
      "Epoch 80 Loss 0.027404813210178892\n",
      "train accuracy is: 0.9694541812719079, test accuracy is 0.9692540322580645\n"
     ]
    },
    {
     "name": "stdout",
     "output_type": "stream",
     "text": [
      "Epoch 90 Loss 0.026145466557275364\n",
      "train accuracy is: 0.9707060590886329, test accuracy is 0.9707661290322581\n"
     ]
    },
    {
     "name": "stdout",
     "output_type": "stream",
     "text": [
      "Epoch 100 Loss 0.025084070792914078\n",
      "train accuracy is: 0.971540644299783, test accuracy is 0.9712701612903226\n"
     ]
    },
    {
     "name": "stdout",
     "output_type": "stream",
     "text": [
      "Epoch 110 Loss 0.024153018936690147\n",
      "train accuracy is: 0.972041395426473, test accuracy is 0.9712701612903226\n"
     ]
    },
    {
     "name": "stdout",
     "output_type": "stream",
     "text": [
      "Epoch 120 Loss 0.0233352353172189\n",
      "train accuracy is: 0.9736271073276581, test accuracy is 0.9707661290322581\n"
     ]
    },
    {
     "name": "stdout",
     "output_type": "stream",
     "text": [
      "Epoch 130 Loss 0.022595557650777677\n",
      "train accuracy is: 0.9745451510599232, test accuracy is 0.9712701612903226\n"
     ]
    },
    {
     "name": "stdout",
     "output_type": "stream",
     "text": [
      "Epoch 140 Loss 0.021916726514213804\n",
      "train accuracy is: 0.9758804873977633, test accuracy is 0.9727822580645161\n"
     ]
    },
    {
     "name": "stdout",
     "output_type": "stream",
     "text": [
      "Epoch 150 Loss 0.021296001939074872\n",
      "train accuracy is: 0.9762143214822233, test accuracy is 0.9737903225806451\n"
     ]
    },
    {
     "name": "stdout",
     "output_type": "stream",
     "text": [
      "Epoch 160 Loss 0.020713298045519506\n",
      "train accuracy is: 0.9770489066933734, test accuracy is 0.9737903225806451\n"
     ]
    },
    {
     "name": "stdout",
     "output_type": "stream",
     "text": [
      "Epoch 170 Loss 0.020169483194153216\n",
      "train accuracy is: 0.9777165748622935, test accuracy is 0.9742943548387096\n"
     ]
    },
    {
     "name": "stdout",
     "output_type": "stream",
     "text": [
      "Epoch 180 Loss 0.019660676974919307\n",
      "train accuracy is: 0.9781338674678685, test accuracy is 0.9747983870967742\n"
     ]
    },
    {
     "name": "stdout",
     "output_type": "stream",
     "text": [
      "Epoch 190 Loss 0.019172812155391888\n",
      "train accuracy is: 0.9785511600734434, test accuracy is 0.9753024193548387\n"
     ]
    },
    {
     "name": "stdout",
     "output_type": "stream",
     "text": [
      "Epoch 200 Loss 0.018712725888864492\n",
      "train accuracy is: 0.9788849941579035, test accuracy is 0.9753024193548387\n"
     ]
    },
    {
     "name": "stdout",
     "output_type": "stream",
     "text": [
      "Epoch 210 Loss 0.01827339934269999\n",
      "train accuracy is: 0.9793022867634785, test accuracy is 0.9763104838709677\n"
     ]
    },
    {
     "name": "stdout",
     "output_type": "stream",
     "text": [
      "Epoch 220 Loss 0.017848354154126896\n",
      "train accuracy is: 0.9795526623268236, test accuracy is 0.9768145161290323\n"
     ]
    },
    {
     "name": "stdout",
     "output_type": "stream",
     "text": [
      "Epoch 230 Loss 0.017446620325790634\n",
      "train accuracy is: 0.9802203304957436, test accuracy is 0.9768145161290323\n"
     ]
    },
    {
     "name": "stdout",
     "output_type": "stream",
     "text": [
      "Epoch 240 Loss 0.017050756639451364\n",
      "train accuracy is: 0.9809714571857787, test accuracy is 0.9773185483870968\n"
     ]
    },
    {
     "data": {
      "text/plain": [
       "0.004436746770288873"
      ]
     },
     "execution_count": 21,
     "metadata": {},
     "output_type": "execute_result"
    }
   ],
   "source": [
    "learner1.train_loop(dl)"
   ]
  },
  {
   "cell_type": "markdown",
   "metadata": {
    "papermill": {
     "duration": 0.047356,
     "end_time": "2020-08-09T08:25:36.639438",
     "exception": false,
     "start_time": "2020-08-09T08:25:36.592082",
     "status": "completed"
    },
    "tags": []
   },
   "source": [
    "##### Now running only the logistic regression based classification to compare results with NN"
   ]
  },
  {
   "cell_type": "code",
   "execution_count": 22,
   "metadata": {
    "execution": {
     "iopub.execute_input": "2020-08-09T08:25:36.731447Z",
     "iopub.status.busy": "2020-08-09T08:25:36.722287Z",
     "iopub.status.idle": "2020-08-09T08:25:36.738313Z",
     "shell.execute_reply": "2020-08-09T08:25:36.737790Z"
    },
    "papermill": {
     "duration": 0.05954,
     "end_time": "2020-08-09T08:25:36.738452",
     "exception": false,
     "start_time": "2020-08-09T08:25:36.678912",
     "status": "completed"
    },
    "tags": []
   },
   "outputs": [],
   "source": [
    "learner2 = Learner(loss, model_logistic, opt, config.num_epochs)\n",
    "acc2 = ClfCallback(learner2, config.bs, training_xdata , testing_xdata, training_ydata, testing_ydata)\n",
    "learner2.set_callbacks([acc2])"
   ]
  },
  {
   "cell_type": "code",
   "execution_count": 23,
   "metadata": {
    "execution": {
     "iopub.execute_input": "2020-08-09T08:25:36.830018Z",
     "iopub.status.busy": "2020-08-09T08:25:36.829213Z",
     "iopub.status.idle": "2020-08-09T08:25:55.878175Z",
     "shell.execute_reply": "2020-08-09T08:25:55.878959Z"
    },
    "papermill": {
     "duration": 19.102421,
     "end_time": "2020-08-09T08:25:55.879121",
     "exception": false,
     "start_time": "2020-08-09T08:25:36.776700",
     "status": "completed"
    },
    "tags": []
   },
   "outputs": [
    {
     "name": "stdout",
     "output_type": "stream",
     "text": [
      "Epoch 0 Loss 0.24598719681077674\n",
      "train accuracy is: 0.6884493406776832, test accuracy is 0.7011088709677419\n"
     ]
    },
    {
     "name": "stdout",
     "output_type": "stream",
     "text": [
      "Epoch 10 Loss 0.1004852677271786\n",
      "train accuracy is: 0.9177933567017192, test accuracy is 0.9339717741935484\n"
     ]
    },
    {
     "name": "stdout",
     "output_type": "stream",
     "text": [
      "Epoch 20 Loss 0.07732357746193341\n",
      "train accuracy is: 0.9319813052912702, test accuracy is 0.9435483870967742\n"
     ]
    },
    {
     "name": "stdout",
     "output_type": "stream",
     "text": [
      "Epoch 30 Loss 0.06687523601393303\n",
      "train accuracy is: 0.9393256551493907, test accuracy is 0.9511088709677419\n"
     ]
    },
    {
     "name": "stdout",
     "output_type": "stream",
     "text": [
      "Epoch 40 Loss 0.06060808603485526\n",
      "train accuracy is: 0.943748956768486, test accuracy is 0.953125\n"
     ]
    },
    {
     "name": "stdout",
     "output_type": "stream",
     "text": [
      "Epoch 50 Loss 0.05632515957410576\n",
      "train accuracy is: 0.9465030879652813, test accuracy is 0.9546370967741935\n"
     ]
    },
    {
     "name": "stdout",
     "output_type": "stream",
     "text": [
      "Epoch 60 Loss 0.05316536540546856\n",
      "train accuracy is: 0.9486730095142714, test accuracy is 0.9561491935483871\n"
     ]
    },
    {
     "name": "stdout",
     "output_type": "stream",
     "text": [
      "Epoch 70 Loss 0.05071483859547775\n",
      "train accuracy is: 0.9502587214154565, test accuracy is 0.9571572580645161\n"
     ]
    },
    {
     "name": "stdout",
     "output_type": "stream",
     "text": [
      "Epoch 80 Loss 0.048741585123348107\n",
      "train accuracy is: 0.9512602236688366, test accuracy is 0.9591733870967742\n"
     ]
    },
    {
     "name": "stdout",
     "output_type": "stream",
     "text": [
      "Epoch 90 Loss 0.047109248621920265\n",
      "train accuracy is: 0.9525121014855616, test accuracy is 0.9601814516129032\n"
     ]
    },
    {
     "name": "stdout",
     "output_type": "stream",
     "text": [
      "Epoch 100 Loss 0.045731779637241385\n",
      "train accuracy is: 0.9532632281755967, test accuracy is 0.9596774193548387\n"
     ]
    },
    {
     "name": "stdout",
     "output_type": "stream",
     "text": [
      "Epoch 110 Loss 0.044546328846088175\n",
      "train accuracy is: 0.9539308963445168, test accuracy is 0.9606854838709677\n"
     ]
    },
    {
     "name": "stdout",
     "output_type": "stream",
     "text": [
      "Epoch 120 Loss 0.04351284912574272\n",
      "train accuracy is: 0.9550158571190118, test accuracy is 0.9616935483870968\n"
     ]
    },
    {
     "name": "stdout",
     "output_type": "stream",
     "text": [
      "Epoch 130 Loss 0.042601703609913874\n",
      "train accuracy is: 0.9554331497245869, test accuracy is 0.9621975806451613\n"
     ]
    },
    {
     "name": "stdout",
     "output_type": "stream",
     "text": [
      "Epoch 140 Loss 0.04178976907553809\n",
      "train accuracy is: 0.9559339008512769, test accuracy is 0.9632056451612904\n"
     ]
    },
    {
     "name": "stdout",
     "output_type": "stream",
     "text": [
      "Epoch 150 Loss 0.04106054992176319\n",
      "train accuracy is: 0.956518110499082, test accuracy is 0.9637096774193549\n"
     ]
    },
    {
     "name": "stdout",
     "output_type": "stream",
     "text": [
      "Epoch 160 Loss 0.04039969883760578\n",
      "train accuracy is: 0.957185778668002, test accuracy is 0.9637096774193549\n"
     ]
    },
    {
     "name": "stdout",
     "output_type": "stream",
     "text": [
      "Epoch 170 Loss 0.03979811729181079\n",
      "train accuracy is: 0.9577699883158071, test accuracy is 0.9627016129032258\n"
     ]
    },
    {
     "name": "stdout",
     "output_type": "stream",
     "text": [
      "Epoch 180 Loss 0.039247657116659965\n",
      "train accuracy is: 0.9583541979636121, test accuracy is 0.9627016129032258\n"
     ]
    },
    {
     "name": "stdout",
     "output_type": "stream",
     "text": [
      "Epoch 190 Loss 0.038740276004102826\n",
      "train accuracy is: 0.9586880320480721, test accuracy is 0.9632056451612904\n"
     ]
    },
    {
     "name": "stdout",
     "output_type": "stream",
     "text": [
      "Epoch 200 Loss 0.0382704790029969\n",
      "train accuracy is: 0.9590218661325322, test accuracy is 0.9632056451612904\n"
     ]
    },
    {
     "name": "stdout",
     "output_type": "stream",
     "text": [
      "Epoch 210 Loss 0.03783421997583393\n",
      "train accuracy is: 0.9593557002169921, test accuracy is 0.9627016129032258\n"
     ]
    },
    {
     "name": "stdout",
     "output_type": "stream",
     "text": [
      "Epoch 220 Loss 0.03742782686777132\n",
      "train accuracy is: 0.9599399098647972, test accuracy is 0.9632056451612904\n"
     ]
    },
    {
     "name": "stdout",
     "output_type": "stream",
     "text": [
      "Epoch 230 Loss 0.03704822258328033\n",
      "train accuracy is: 0.9605241195126022, test accuracy is 0.9642137096774194\n"
     ]
    },
    {
     "name": "stdout",
     "output_type": "stream",
     "text": [
      "Epoch 240 Loss 0.03669140116321293\n",
      "train accuracy is: 0.9606910365548322, test accuracy is 0.9637096774193549\n"
     ]
    },
    {
     "data": {
      "text/plain": [
       "0.03479481492766162"
      ]
     },
     "execution_count": 23,
     "metadata": {},
     "output_type": "execute_result"
    }
   ],
   "source": [
    "learner2.train_loop(dl)"
   ]
  },
  {
   "cell_type": "markdown",
   "metadata": {
    "papermill": {
     "duration": 0.048405,
     "end_time": "2020-08-09T08:25:55.974093",
     "exception": false,
     "start_time": "2020-08-09T08:25:55.925688",
     "status": "completed"
    },
    "tags": []
   },
   "source": [
    "### Comparing results of NN and LR"
   ]
  },
  {
   "cell_type": "code",
   "execution_count": 24,
   "metadata": {
    "execution": {
     "iopub.execute_input": "2020-08-09T08:25:56.077383Z",
     "iopub.status.busy": "2020-08-09T08:25:56.076641Z",
     "iopub.status.idle": "2020-08-09T08:25:56.336961Z",
     "shell.execute_reply": "2020-08-09T08:25:56.336423Z"
    },
    "papermill": {
     "duration": 0.312706,
     "end_time": "2020-08-09T08:25:56.337111",
     "exception": false,
     "start_time": "2020-08-09T08:25:56.024405",
     "status": "completed"
    },
    "tags": []
   },
   "outputs": [
    {
     "data": {
      "text/plain": [
       "<matplotlib.legend.Legend at 0x7f9e6c935160>"
      ]
     },
     "execution_count": 24,
     "metadata": {},
     "output_type": "execute_result"
    },
    {
     "data": {
      "image/png": "[encoded data removed]",
      "text/plain": [
       "<Figure size 576x360 with 1 Axes>"
      ]
     },
     "metadata": {
      "needs_background": "light"
     },
     "output_type": "display_data"
    }
   ],
   "source": [
    "plt.figure(figsize=(8,5))\n",
    "plt.plot(acc1.val_accuracies, 'g-', label = \"Val Accuracies - NN\")\n",
    "plt.plot(acc1.accuracies, 'r-', label = \"Accuracies - NN\")\n",
    "plt.plot(acc2.val_accuracies, 'b-', label = \"Val Accuracies - Logistic Reg\")\n",
    "plt.plot(acc2.accuracies, 'k-', label = \"Accuracies - Logistic Reg\")\n",
    "plt.ylim(0.8,1) ## for a more spread out view\n",
    "plt.legend()"
   ]
  },
  {
   "cell_type": "markdown",
   "metadata": {
    "papermill": {
     "duration": 0.045338,
     "end_time": "2020-08-09T08:25:56.432822",
     "exception": false,
     "start_time": "2020-08-09T08:25:56.387484",
     "status": "completed"
    },
    "tags": []
   },
   "source": [
    "### Clearly NN has a better accuracy over LR; NN is overfitting - Validation accuracy (green) has dropped below training accuracy (orange), also they are diverging. This problem is not seen in LR"
   ]
  },
  {
   "cell_type": "markdown",
   "metadata": {
    "papermill": {
     "duration": 0.046809,
     "end_time": "2020-08-09T08:25:56.525089",
     "exception": false,
     "start_time": "2020-08-09T08:25:56.478280",
     "status": "completed"
    },
    "tags": []
   },
   "source": [
    "##### Now we will be moving through the network, till the output of the second last affine where we get a 2 dimensional output. We will be plotting this 2d output and probability contours"
   ]
  },
  {
   "cell_type": "code",
   "execution_count": 25,
   "metadata": {
    "execution": {
     "iopub.execute_input": "2020-08-09T08:25:56.623691Z",
     "iopub.status.busy": "2020-08-09T08:25:56.622819Z",
     "iopub.status.idle": "2020-08-09T08:25:56.636959Z",
     "shell.execute_reply": "2020-08-09T08:25:56.637423Z"
    },
    "papermill": {
     "duration": 0.065802,
     "end_time": "2020-08-09T08:25:56.637553",
     "exception": false,
     "start_time": "2020-08-09T08:25:56.571751",
     "status": "completed"
    },
    "tags": []
   },
   "outputs": [],
   "source": [
    "model_new = Model(layers[:-2])"
   ]
  },
  {
   "cell_type": "code",
   "execution_count": 26,
   "metadata": {
    "execution": {
     "iopub.execute_input": "2020-08-09T08:25:56.752356Z",
     "iopub.status.busy": "2020-08-09T08:25:56.741462Z",
     "iopub.status.idle": "2020-08-09T08:25:56.771672Z",
     "shell.execute_reply": "2020-08-09T08:25:56.772385Z"
    },
    "papermill": {
     "duration": 0.089024,
     "end_time": "2020-08-09T08:25:56.772542",
     "exception": false,
     "start_time": "2020-08-09T08:25:56.683518",
     "status": "completed"
    },
    "tags": []
   },
   "outputs": [],
   "source": [
    "plot_testing = model_new(testing_xdata)"
   ]
  },
  {
   "cell_type": "markdown",
   "metadata": {
    "papermill": {
     "duration": 0.048819,
     "end_time": "2020-08-09T08:25:56.871786",
     "exception": false,
     "start_time": "2020-08-09T08:25:56.822967",
     "status": "completed"
    },
    "tags": []
   },
   "source": [
    "##### Plotting the scatter plot of points and color coding by class"
   ]
  },
  {
   "cell_type": "code",
   "execution_count": 27,
   "metadata": {
    "execution": {
     "iopub.execute_input": "2020-08-09T08:25:56.972083Z",
     "iopub.status.busy": "2020-08-09T08:25:56.971442Z",
     "iopub.status.idle": "2020-08-09T08:25:57.204976Z",
     "shell.execute_reply": "2020-08-09T08:25:57.205607Z"
    },
    "papermill": {
     "duration": 0.287076,
     "end_time": "2020-08-09T08:25:57.205791",
     "exception": false,
     "start_time": "2020-08-09T08:25:56.918715",
     "status": "completed"
    },
    "tags": []
   },
   "outputs": [
    {
     "data": {
      "image/png": "[encoded data removed]",
      "text/plain": [
       "<Figure size 576x504 with 1 Axes>"
      ]
     },
     "metadata": {
      "needs_background": "light"
     },
     "output_type": "display_data"
    }
   ],
   "source": [
    "plt.figure(figsize=(8,7))\n",
    "plt.scatter(plot_testing[:,0], plot_testing[:,1], alpha = 0.1, c = y_test.ravel());"
   ]
  },
  {
   "cell_type": "markdown",
   "metadata": {
    "papermill": {
     "duration": 0.061775,
     "end_time": "2020-08-09T08:25:57.327309",
     "exception": false,
     "start_time": "2020-08-09T08:25:57.265534",
     "status": "completed"
    },
    "tags": []
   },
   "source": [
    "##### Plotting probability contours"
   ]
  },
  {
   "cell_type": "code",
   "execution_count": 28,
   "metadata": {
    "execution": {
     "iopub.execute_input": "2020-08-09T08:25:57.436539Z",
     "iopub.status.busy": "2020-08-09T08:25:57.435892Z",
     "iopub.status.idle": "2020-08-09T08:25:57.450905Z",
     "shell.execute_reply": "2020-08-09T08:25:57.450406Z"
    },
    "papermill": {
     "duration": 0.06694,
     "end_time": "2020-08-09T08:25:57.451037",
     "exception": false,
     "start_time": "2020-08-09T08:25:57.384097",
     "status": "completed"
    },
    "tags": []
   },
   "outputs": [],
   "source": [
    "model_prob = Model(layers[-2:]) ## picking only last two layers to get probability. That is affine followed by sigmoid"
   ]
  },
  {
   "cell_type": "code",
   "execution_count": 29,
   "metadata": {
    "execution": {
     "iopub.execute_input": "2020-08-09T08:25:57.564394Z",
     "iopub.status.busy": "2020-08-09T08:25:57.563816Z",
     "iopub.status.idle": "2020-08-09T08:25:57.571176Z",
     "shell.execute_reply": "2020-08-09T08:25:57.570570Z"
    },
    "papermill": {
     "duration": 0.072624,
     "end_time": "2020-08-09T08:25:57.571336",
     "exception": false,
     "start_time": "2020-08-09T08:25:57.498712",
     "status": "completed"
    },
    "tags": []
   },
   "outputs": [],
   "source": [
    "xgrid = np.linspace(-4, 1, 100) ## Adjust these values based on above chart, roughly -4 to 1\n",
    "ygrid = np.linspace(-7.5, 7.5, 100) ## Adjust these values based on above chart, roughly -7.5, 7.5\n",
    "xg, yg = np.meshgrid(xgrid, ygrid)\n",
    "# xg and yg are now both 100X100, lets convert them to single arrays \n",
    "\n",
    "xg_interim = np.ravel(xg)\n",
    "yg_interim = np.ravel(yg)\n",
    "\n",
    "## xg_interim, yg_interim are now arrays of len 10000, now we will stack them and then transpose to get desired shape of n rows, 2 columns\n",
    "\n",
    "X_interim = np.vstack((xg_interim, yg_interim)) ## Please note vstack takes in a tuple\n",
    "X = X_interim.T\n",
    "\n",
    "## We want a shape of n rows and 2 columns to be able to feed this to last affine\n",
    "## This last affine takes only two columns, hence the above transformation\n",
    "probability_contour = model_prob(X).reshape(100,100) ## to make it consistent with xg, yg"
   ]
  },
  {
   "cell_type": "code",
   "execution_count": 30,
   "metadata": {
    "execution": {
     "iopub.execute_input": "2020-08-09T08:25:57.704755Z",
     "iopub.status.busy": "2020-08-09T08:25:57.703332Z",
     "iopub.status.idle": "2020-08-09T08:25:58.014374Z",
     "shell.execute_reply": "2020-08-09T08:25:58.014972Z"
    },
    "papermill": {
     "duration": 0.371666,
     "end_time": "2020-08-09T08:25:58.015164",
     "exception": false,
     "start_time": "2020-08-09T08:25:57.643498",
     "status": "completed"
    },
    "tags": []
   },
   "outputs": [
    {
     "data": {
      "image/png": "[encoded data removed]",
      "text/plain": [
       "<Figure size 576x504 with 1 Axes>"
      ]
     },
     "metadata": {
      "needs_background": "light"
     },
     "output_type": "display_data"
    }
   ],
   "source": [
    "plt.figure(figsize=(8,7))\n",
    "plt.scatter(plot_testing[:,0], plot_testing[:,1], alpha = 0.1, c = y_test.ravel())\n",
    "contours = plt.contour(xg,yg,probability_contour)\n",
    "plt.clabel(contours, inline = True );"
   ]
  }
 ],
 "metadata": {
  "kernelspec": {
   "display_name": "Python 3",
   "language": "python",
   "name": "python3"
  },
  "language_info": {
   "codemirror_mode": {
    "name": "ipython",
    "version": 3
   },
   "file_extension": ".py",
   "mimetype": "text/x-python",
   "name": "python",
   "nbconvert_exporter": "python",
   "pygments_lexer": "ipython3",
   "version": "3.6.11"
  },
  "papermill": {
   "duration": 157.443028,
   "end_time": "2020-08-09T08:25:59.316853",
   "environment_variables": {},
   "exception": null,
   "input_path": "2020-08-07-NN-new.ipynb",
   "output_path": "2020-08-07-NN-new.ipynb",
   "parameters": {},
   "start_time": "2020-08-09T08:23:21.873825",
   "version": "2.1.2"
  }
 },
 "nbformat": 4,
 "nbformat_minor": 4
}