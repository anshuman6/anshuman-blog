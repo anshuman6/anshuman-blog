{
 "cells": [
  {
   "cell_type": "markdown",
   "metadata": {
    "papermill": {
     "duration": 0.032169,
     "end_time": "2020-08-27T10:12:00.351031",
     "exception": false,
     "start_time": "2020-08-27T10:12:00.318862",
     "status": "completed"
    },
    "tags": []
   },
   "source": [
    "# \"Building a basic Neural Network from scratch - Kudzu\"\n",
    "\n",
    "- badges: true\n",
    "- author: Anshuman Gupta"
   ]
  },
  {
   "cell_type": "markdown",
   "metadata": {
    "papermill": {
     "duration": 0.028815,
     "end_time": "2020-08-27T10:12:00.580790",
     "exception": false,
     "start_time": "2020-08-27T10:12:00.551975",
     "status": "completed"
    },
    "tags": []
   },
   "source": [
    "#### In this project, the idea is to write a classifier to differentiate between handwritten digits 3 and 8, from the MNIST database.\n",
    "\n",
    "#### I will using a custom built neural network library called Kudzu.This has been developed as a part of KTF/Foundations course of Univ.ai (www.univ.ai). The source code for Kudzu Library and and this notebook can be found on my git-hub profile : www.https://github.com/anshuman6 under the folder project-solution. Any feedback and comments are welcome. Please feel free to email me at: anshuman6@gmail.com\n",
    "\n",
    "#### 1. I will be using the MNIST database. \n",
    "\n",
    "#### 2. I will be comparing the results of the 4 layer NN to a standard logistic regression"
   ]
  },
  {
   "cell_type": "markdown",
   "metadata": {
    "papermill": {
     "duration": 0.02996,
     "end_time": "2020-08-27T10:12:00.641768",
     "exception": false,
     "start_time": "2020-08-27T10:12:00.611808",
     "status": "completed"
    },
    "tags": []
   },
   "source": [
    "##### Importing all the necessary libraries"
   ]
  },
  {
   "cell_type": "code",
   "execution_count": 1,
   "metadata": {
    "execution": {
     "iopub.execute_input": "2020-08-27T10:12:00.706947Z",
     "iopub.status.busy": "2020-08-27T10:12:00.706209Z",
     "iopub.status.idle": "2020-08-27T10:12:00.717228Z",
     "shell.execute_reply": "2020-08-27T10:12:00.717765Z"
    },
    "papermill": {
     "duration": 0.046574,
     "end_time": "2020-08-27T10:12:00.717909",
     "exception": false,
     "start_time": "2020-08-27T10:12:00.671335",
     "status": "completed"
    },
    "tags": []
   },
   "outputs": [],
   "source": [
    "%load_ext autoreload\n",
    "%autoreload 2"
   ]
  },
  {
   "cell_type": "code",
   "execution_count": 2,
   "metadata": {
    "execution": {
     "iopub.execute_input": "2020-08-27T10:12:00.778012Z",
     "iopub.status.busy": "2020-08-27T10:12:00.777277Z",
     "iopub.status.idle": "2020-08-27T10:12:01.363877Z",
     "shell.execute_reply": "2020-08-27T10:12:01.363147Z"
    },
    "papermill": {
     "duration": 0.61906,
     "end_time": "2020-08-27T10:12:01.364077",
     "exception": false,
     "start_time": "2020-08-27T10:12:00.745017",
     "status": "completed"
    },
    "tags": []
   },
   "outputs": [],
   "source": [
    "%matplotlib inline\n",
    "import numpy as np\n",
    "import matplotlib.pyplot as plt\n",
    "import pandas as pd"
   ]
  },
  {
   "cell_type": "markdown",
   "metadata": {
    "papermill": {
     "duration": 0.02906,
     "end_time": "2020-08-27T10:12:01.424712",
     "exception": false,
     "start_time": "2020-08-27T10:12:01.395652",
     "status": "completed"
    },
    "tags": []
   },
   "source": [
    "##### The following command helps us download MNIST from notebook itself. You can skip this if you already have MNIST. You can also download it via your terminal."
   ]
  },
  {
   "cell_type": "code",
   "execution_count": 3,
   "metadata": {
    "execution": {
     "iopub.execute_input": "2020-08-27T10:12:01.490160Z",
     "iopub.status.busy": "2020-08-27T10:12:01.489489Z",
     "iopub.status.idle": "2020-08-27T10:12:02.982245Z",
     "shell.execute_reply": "2020-08-27T10:12:02.981261Z"
    },
    "papermill": {
     "duration": 1.52448,
     "end_time": "2020-08-27T10:12:02.982411",
     "exception": false,
     "start_time": "2020-08-27T10:12:01.457931",
     "status": "completed"
    },
    "tags": []
   },
   "outputs": [
    {
     "name": "stdout",
     "output_type": "stream",
     "text": [
      "Collecting mnist\r\n"
     ]
    },
    {
     "name": "stdout",
     "output_type": "stream",
     "text": [
      "  Downloading mnist-0.2.2-py2.py3-none-any.whl (3.5 kB)\r\n"
     ]
    },
    {
     "name": "stdout",
     "output_type": "stream",
     "text": [
      "Requirement already satisfied: numpy in /opt/hostedtoolcache/Python/3.6.11/x64/lib/python3.6/site-packages (from mnist) (1.19.1)\r\n"
     ]
    },
    {
     "name": "stdout",
     "output_type": "stream",
     "text": [
      "Installing collected packages: mnist\r\n"
     ]
    },
    {
     "name": "stdout",
     "output_type": "stream",
     "text": [
      "Successfully installed mnist-0.2.2\r\n"
     ]
    }
   ],
   "source": [
    "!pip install mnist # Please note, it is commented out for now, you can remove comment if you want to install it"
   ]
  },
  {
   "cell_type": "markdown",
   "metadata": {
    "papermill": {
     "duration": 0.029843,
     "end_time": "2020-08-27T10:12:03.045937",
     "exception": false,
     "start_time": "2020-08-27T10:12:03.016094",
     "status": "completed"
    },
    "tags": []
   },
   "source": [
    "#### Preparing the Data"
   ]
  },
  {
   "cell_type": "code",
   "execution_count": 4,
   "metadata": {
    "execution": {
     "iopub.execute_input": "2020-08-27T10:12:03.112030Z",
     "iopub.status.busy": "2020-08-27T10:12:03.111405Z",
     "iopub.status.idle": "2020-08-27T10:12:03.125185Z",
     "shell.execute_reply": "2020-08-27T10:12:03.125648Z"
    },
    "papermill": {
     "duration": 0.049843,
     "end_time": "2020-08-27T10:12:03.125770",
     "exception": false,
     "start_time": "2020-08-27T10:12:03.075927",
     "status": "completed"
    },
    "tags": []
   },
   "outputs": [],
   "source": [
    "import mnist"
   ]
  },
  {
   "cell_type": "code",
   "execution_count": 5,
   "metadata": {
    "execution": {
     "iopub.execute_input": "2020-08-27T10:12:03.196215Z",
     "iopub.status.busy": "2020-08-27T10:12:03.195571Z",
     "iopub.status.idle": "2020-08-27T10:12:04.162776Z",
     "shell.execute_reply": "2020-08-27T10:12:04.163261Z"
    },
    "papermill": {
     "duration": 1.008027,
     "end_time": "2020-08-27T10:12:04.163455",
     "exception": false,
     "start_time": "2020-08-27T10:12:03.155428",
     "status": "completed"
    },
    "tags": []
   },
   "outputs": [],
   "source": [
    "train_images = mnist.train_images()\n",
    "train_labels = mnist.train_labels()"
   ]
  },
  {
   "cell_type": "code",
   "execution_count": 6,
   "metadata": {
    "execution": {
     "iopub.execute_input": "2020-08-27T10:12:04.231498Z",
     "iopub.status.busy": "2020-08-27T10:12:04.230605Z",
     "iopub.status.idle": "2020-08-27T10:12:04.247567Z",
     "shell.execute_reply": "2020-08-27T10:12:04.247024Z"
    },
    "papermill": {
     "duration": 0.054545,
     "end_time": "2020-08-27T10:12:04.247707",
     "exception": false,
     "start_time": "2020-08-27T10:12:04.193162",
     "status": "completed"
    },
    "tags": []
   },
   "outputs": [
    {
     "data": {
      "text/plain": [
       "((60000, 28, 28), (60000,))"
      ]
     },
     "execution_count": 6,
     "metadata": {},
     "output_type": "execute_result"
    }
   ],
   "source": [
    "train_images.shape, train_labels.shape"
   ]
  },
  {
   "cell_type": "code",
   "execution_count": 7,
   "metadata": {
    "execution": {
     "iopub.execute_input": "2020-08-27T10:12:04.323060Z",
     "iopub.status.busy": "2020-08-27T10:12:04.322467Z",
     "iopub.status.idle": "2020-08-27T10:12:04.733101Z",
     "shell.execute_reply": "2020-08-27T10:12:04.732543Z"
    },
    "papermill": {
     "duration": 0.450163,
     "end_time": "2020-08-27T10:12:04.733251",
     "exception": false,
     "start_time": "2020-08-27T10:12:04.283088",
     "status": "completed"
    },
    "tags": []
   },
   "outputs": [],
   "source": [
    "test_images = mnist.test_images()\n",
    "test_labels = mnist.test_labels()"
   ]
  },
  {
   "cell_type": "code",
   "execution_count": 8,
   "metadata": {
    "execution": {
     "iopub.execute_input": "2020-08-27T10:12:04.798961Z",
     "iopub.status.busy": "2020-08-27T10:12:04.798285Z",
     "iopub.status.idle": "2020-08-27T10:12:04.811479Z",
     "shell.execute_reply": "2020-08-27T10:12:04.810951Z"
    },
    "papermill": {
     "duration": 0.048205,
     "end_time": "2020-08-27T10:12:04.811591",
     "exception": false,
     "start_time": "2020-08-27T10:12:04.763386",
     "status": "completed"
    },
    "tags": []
   },
   "outputs": [
    {
     "data": {
      "text/plain": [
       "((10000, 28, 28), (10000,))"
      ]
     },
     "execution_count": 8,
     "metadata": {},
     "output_type": "execute_result"
    }
   ],
   "source": [
    "test_images.shape, test_labels.shape"
   ]
  },
  {
   "cell_type": "code",
   "execution_count": 9,
   "metadata": {
    "execution": {
     "iopub.execute_input": "2020-08-27T10:12:04.881739Z",
     "iopub.status.busy": "2020-08-27T10:12:04.881093Z",
     "iopub.status.idle": "2020-08-27T10:12:05.062384Z",
     "shell.execute_reply": "2020-08-27T10:12:05.062887Z"
    },
    "papermill": {
     "duration": 0.216483,
     "end_time": "2020-08-27T10:12:05.063073",
     "exception": false,
     "start_time": "2020-08-27T10:12:04.846590",
     "status": "completed"
    },
    "tags": []
   },
   "outputs": [
    {
     "name": "stdout",
     "output_type": "stream",
     "text": [
      "2\n"
     ]
    },
    {
     "data": {
      "text/plain": [
       "<matplotlib.image.AxesImage at 0x7fdbf7881a90>"
      ]
     },
     "execution_count": 9,
     "metadata": {},
     "output_type": "execute_result"
    },
    {
     "data": {
      "image/png": "[encoded data removed]",
      "text/plain": [
       "<Figure size 432x288 with 1 Axes>"
      ]
     },
     "metadata": {
      "needs_background": "light"
     },
     "output_type": "display_data"
    }
   ],
   "source": [
    "image_index = 7776 # You may select anything up to 60,000\n",
    "print(train_labels[image_index]) \n",
    "plt.imshow(train_images[image_index], cmap='Greys')"
   ]
  },
  {
   "cell_type": "markdown",
   "metadata": {
    "papermill": {
     "duration": 0.034371,
     "end_time": "2020-08-27T10:12:05.130458",
     "exception": false,
     "start_time": "2020-08-27T10:12:05.096087",
     "status": "completed"
    },
    "tags": []
   },
   "source": [
    "## Filter data to get 3 and 8 out"
   ]
  },
  {
   "cell_type": "code",
   "execution_count": 10,
   "metadata": {
    "execution": {
     "iopub.execute_input": "2020-08-27T10:12:05.208092Z",
     "iopub.status.busy": "2020-08-27T10:12:05.207423Z",
     "iopub.status.idle": "2020-08-27T10:12:05.227788Z",
     "shell.execute_reply": "2020-08-27T10:12:05.227262Z"
    },
    "papermill": {
     "duration": 0.062663,
     "end_time": "2020-08-27T10:12:05.227925",
     "exception": false,
     "start_time": "2020-08-27T10:12:05.165262",
     "status": "completed"
    },
    "tags": []
   },
   "outputs": [],
   "source": [
    "train_filter = np.where((train_labels == 3 ) | (train_labels == 8))\n",
    "test_filter = np.where((test_labels == 3) | (test_labels == 8))\n",
    "X_train, y_train = train_images[train_filter], train_labels[train_filter]\n",
    "X_test, y_test = test_images[test_filter], test_labels[test_filter]"
   ]
  },
  {
   "cell_type": "markdown",
   "metadata": {
    "papermill": {
     "duration": 0.032761,
     "end_time": "2020-08-27T10:12:05.294062",
     "exception": false,
     "start_time": "2020-08-27T10:12:05.261301",
     "status": "completed"
    },
    "tags": []
   },
   "source": [
    "##### We normalize the pizel values in the 0 to 1 range"
   ]
  },
  {
   "cell_type": "code",
   "execution_count": 11,
   "metadata": {
    "execution": {
     "iopub.execute_input": "2020-08-27T10:12:05.362161Z",
     "iopub.status.busy": "2020-08-27T10:12:05.361564Z",
     "iopub.status.idle": "2020-08-27T10:12:05.427472Z",
     "shell.execute_reply": "2020-08-27T10:12:05.426937Z"
    },
    "papermill": {
     "duration": 0.101495,
     "end_time": "2020-08-27T10:12:05.427637",
     "exception": false,
     "start_time": "2020-08-27T10:12:05.326142",
     "status": "completed"
    },
    "tags": []
   },
   "outputs": [],
   "source": [
    "X_train = X_train/255.\n",
    "X_test = X_test/255."
   ]
  },
  {
   "cell_type": "markdown",
   "metadata": {
    "papermill": {
     "duration": 0.033295,
     "end_time": "2020-08-27T10:12:05.496154",
     "exception": false,
     "start_time": "2020-08-27T10:12:05.462859",
     "status": "completed"
    },
    "tags": []
   },
   "source": [
    "And setup the labels as 1 (when the digit is 3) and 0 (when the digit is 8)"
   ]
  },
  {
   "cell_type": "code",
   "execution_count": 12,
   "metadata": {
    "execution": {
     "iopub.execute_input": "2020-08-27T10:12:05.566827Z",
     "iopub.status.busy": "2020-08-27T10:12:05.566079Z",
     "iopub.status.idle": "2020-08-27T10:12:05.578996Z",
     "shell.execute_reply": "2020-08-27T10:12:05.578515Z"
    },
    "papermill": {
     "duration": 0.049154,
     "end_time": "2020-08-27T10:12:05.579105",
     "exception": false,
     "start_time": "2020-08-27T10:12:05.529951",
     "status": "completed"
    },
    "tags": []
   },
   "outputs": [],
   "source": [
    "y_train = 1*(y_train==3)\n",
    "y_test = 1*(y_test==3)"
   ]
  },
  {
   "cell_type": "code",
   "execution_count": 13,
   "metadata": {
    "execution": {
     "iopub.execute_input": "2020-08-27T10:12:05.647640Z",
     "iopub.status.busy": "2020-08-27T10:12:05.646903Z",
     "iopub.status.idle": "2020-08-27T10:12:05.660632Z",
     "shell.execute_reply": "2020-08-27T10:12:05.661426Z"
    },
    "papermill": {
     "duration": 0.05006,
     "end_time": "2020-08-27T10:12:05.661620",
     "exception": false,
     "start_time": "2020-08-27T10:12:05.611560",
     "status": "completed"
    },
    "tags": []
   },
   "outputs": [
    {
     "data": {
      "text/plain": [
       "((11982, 28, 28), (1984, 28, 28))"
      ]
     },
     "execution_count": 13,
     "metadata": {},
     "output_type": "execute_result"
    }
   ],
   "source": [
    "X_train.shape, X_test.shape"
   ]
  },
  {
   "cell_type": "markdown",
   "metadata": {
    "papermill": {
     "duration": 0.034795,
     "end_time": "2020-08-27T10:12:05.728567",
     "exception": false,
     "start_time": "2020-08-27T10:12:05.693772",
     "status": "completed"
    },
    "tags": []
   },
   "source": [
    "##### We reshape the data to flatten the image pixels into a set of features or co-variates:"
   ]
  },
  {
   "cell_type": "code",
   "execution_count": 14,
   "metadata": {
    "execution": {
     "iopub.execute_input": "2020-08-27T10:12:05.796303Z",
     "iopub.status.busy": "2020-08-27T10:12:05.795666Z",
     "iopub.status.idle": "2020-08-27T10:12:05.809791Z",
     "shell.execute_reply": "2020-08-27T10:12:05.809278Z"
    },
    "papermill": {
     "duration": 0.049286,
     "end_time": "2020-08-27T10:12:05.809945",
     "exception": false,
     "start_time": "2020-08-27T10:12:05.760659",
     "status": "completed"
    },
    "tags": []
   },
   "outputs": [
    {
     "data": {
      "text/plain": [
       "((11982, 784), (1984, 784))"
      ]
     },
     "execution_count": 14,
     "metadata": {},
     "output_type": "execute_result"
    }
   ],
   "source": [
    "X_train = X_train.reshape(X_train.shape[0], -1)\n",
    "X_test = X_test.reshape(X_test.shape[0], -1)\n",
    "X_train.shape, X_test.shape"
   ]
  },
  {
   "cell_type": "markdown",
   "metadata": {
    "papermill": {
     "duration": 0.03364,
     "end_time": "2020-08-27T10:12:05.878045",
     "exception": false,
     "start_time": "2020-08-27T10:12:05.844405",
     "status": "completed"
    },
    "tags": []
   },
   "source": [
    "##### Importing Kudzu library and its functionality"
   ]
  },
  {
   "cell_type": "code",
   "execution_count": 15,
   "metadata": {
    "execution": {
     "iopub.execute_input": "2020-08-27T10:12:05.951005Z",
     "iopub.status.busy": "2020-08-27T10:12:05.950369Z",
     "iopub.status.idle": "2020-08-27T10:12:05.970079Z",
     "shell.execute_reply": "2020-08-27T10:12:05.969572Z"
    },
    "papermill": {
     "duration": 0.05632,
     "end_time": "2020-08-27T10:12:05.970212",
     "exception": false,
     "start_time": "2020-08-27T10:12:05.913892",
     "status": "completed"
    },
    "tags": []
   },
   "outputs": [],
   "source": [
    "from kudzu.data import Data, Dataloader, Sampler\n",
    "from kudzu.callbacks import AccCallback\n",
    "from kudzu.loss import MSE\n",
    "from kudzu.layer import Affine, Sigmoid\n",
    "from kudzu.model import Model\n",
    "from kudzu.optim import GD\n",
    "from kudzu.train import Learner\n",
    "from kudzu.callbacks import ClfCallback\n",
    "from kudzu.layer import Sigmoid\n",
    "from kudzu.layer import Relu"
   ]
  },
  {
   "cell_type": "markdown",
   "metadata": {
    "papermill": {
     "duration": 0.034364,
     "end_time": "2020-08-27T10:12:06.039037",
     "exception": false,
     "start_time": "2020-08-27T10:12:06.004673",
     "status": "completed"
    },
    "tags": []
   },
   "source": [
    "##### We are creating a class, just so that we can use it to store our parameters for us"
   ]
  },
  {
   "cell_type": "code",
   "execution_count": 16,
   "metadata": {
    "execution": {
     "iopub.execute_input": "2020-08-27T10:12:06.109138Z",
     "iopub.status.busy": "2020-08-27T10:12:06.108538Z",
     "iopub.status.idle": "2020-08-27T10:12:06.120314Z",
     "shell.execute_reply": "2020-08-27T10:12:06.120813Z"
    },
    "papermill": {
     "duration": 0.048505,
     "end_time": "2020-08-27T10:12:06.120950",
     "exception": false,
     "start_time": "2020-08-27T10:12:06.072445",
     "status": "completed"
    },
    "tags": []
   },
   "outputs": [],
   "source": [
    "class Config:\n",
    "    pass\n",
    "config = Config()\n",
    "config.lr = 0.001\n",
    "config.num_epochs = 250\n",
    "config.bs = 50"
   ]
  },
  {
   "cell_type": "markdown",
   "metadata": {
    "papermill": {
     "duration": 0.033085,
     "end_time": "2020-08-27T10:12:06.185298",
     "exception": false,
     "start_time": "2020-08-27T10:12:06.152213",
     "status": "completed"
    },
    "tags": []
   },
   "source": [
    "##### Initializing Data"
   ]
  },
  {
   "cell_type": "code",
   "execution_count": 17,
   "metadata": {
    "execution": {
     "iopub.execute_input": "2020-08-27T10:12:06.256227Z",
     "iopub.status.busy": "2020-08-27T10:12:06.255620Z",
     "iopub.status.idle": "2020-08-27T10:12:06.266730Z",
     "shell.execute_reply": "2020-08-27T10:12:06.266136Z"
    },
    "papermill": {
     "duration": 0.048938,
     "end_time": "2020-08-27T10:12:06.266858",
     "exception": false,
     "start_time": "2020-08-27T10:12:06.217920",
     "status": "completed"
    },
    "tags": []
   },
   "outputs": [],
   "source": [
    "data = Data(X_train, y_train.reshape(-1,1))\n",
    "loss = MSE()\n",
    "opt = GD(config.lr)\n",
    "sampler = Sampler(data, config.bs, shuffle=True)\n",
    "dl = Dataloader(data, sampler)"
   ]
  },
  {
   "cell_type": "markdown",
   "metadata": {
    "papermill": {
     "duration": 0.034044,
     "end_time": "2020-08-27T10:12:06.334946",
     "exception": false,
     "start_time": "2020-08-27T10:12:06.300902",
     "status": "completed"
    },
    "tags": []
   },
   "source": [
    "##### Constructing 2 different layers, one for NN and one only for logistic regression."
   ]
  },
  {
   "cell_type": "markdown",
   "metadata": {
    "papermill": {
     "duration": 0.031828,
     "end_time": "2020-08-27T10:12:06.402195",
     "exception": false,
     "start_time": "2020-08-27T10:12:06.370367",
     "status": "completed"
    },
    "tags": []
   },
   "source": [
    "##### Creating containers for data to be passed, to calculate accuracies"
   ]
  },
  {
   "cell_type": "code",
   "execution_count": 18,
   "metadata": {
    "execution": {
     "iopub.execute_input": "2020-08-27T10:12:06.470510Z",
     "iopub.status.busy": "2020-08-27T10:12:06.469911Z",
     "iopub.status.idle": "2020-08-27T10:12:06.482076Z",
     "shell.execute_reply": "2020-08-27T10:12:06.481578Z"
    },
    "papermill": {
     "duration": 0.04868,
     "end_time": "2020-08-27T10:12:06.482187",
     "exception": false,
     "start_time": "2020-08-27T10:12:06.433507",
     "status": "completed"
    },
    "tags": []
   },
   "outputs": [],
   "source": [
    "training_xdata = X_train\n",
    "testing_xdata = X_test\n",
    "training_ydata = y_train.reshape(-1,1)\n",
    "testing_ydata = y_test.reshape(-1,1)"
   ]
  },
  {
   "cell_type": "markdown",
   "metadata": {
    "papermill": {
     "duration": 0.034985,
     "end_time": "2020-08-27T10:12:06.551565",
     "exception": false,
     "start_time": "2020-08-27T10:12:06.516580",
     "status": "completed"
    },
    "tags": []
   },
   "source": [
    "##### Initializing models and Running training loop: "
   ]
  },
  {
   "cell_type": "code",
   "execution_count": 19,
   "metadata": {
    "execution": {
     "iopub.execute_input": "2020-08-27T10:12:06.621864Z",
     "iopub.status.busy": "2020-08-27T10:12:06.621272Z",
     "iopub.status.idle": "2020-08-27T10:12:06.636436Z",
     "shell.execute_reply": "2020-08-27T10:12:06.636883Z"
    },
    "papermill": {
     "duration": 0.052399,
     "end_time": "2020-08-27T10:12:06.637010",
     "exception": false,
     "start_time": "2020-08-27T10:12:06.584611",
     "status": "completed"
    },
    "tags": []
   },
   "outputs": [],
   "source": [
    "layers = [Affine(\"first\", 784, 100), Relu(\"first\"), Affine(\"second\", 100, 100), Relu(\"second\"), Affine(\"third\", 100, 2), Affine(\"final\", 2, 1), Sigmoid(\"final\")]\n",
    "\n",
    "model_neural = Model(layers)\n",
    "model_logistic = Model([Affine(\"logits\", 784, 1), Sigmoid(\"sigmoid\")])"
   ]
  },
  {
   "cell_type": "code",
   "execution_count": 20,
   "metadata": {
    "execution": {
     "iopub.execute_input": "2020-08-27T10:12:06.703052Z",
     "iopub.status.busy": "2020-08-27T10:12:06.702255Z",
     "iopub.status.idle": "2020-08-27T10:12:06.713694Z",
     "shell.execute_reply": "2020-08-27T10:12:06.713114Z"
    },
    "papermill": {
     "duration": 0.04702,
     "end_time": "2020-08-27T10:12:06.713804",
     "exception": false,
     "start_time": "2020-08-27T10:12:06.666784",
     "status": "completed"
    },
    "tags": []
   },
   "outputs": [],
   "source": [
    "learner1 = Learner(loss, model_neural, opt, config.num_epochs)\n",
    "acc1 = ClfCallback(learner1, config.bs, training_xdata , testing_xdata, training_ydata, testing_ydata)\n",
    "learner1.set_callbacks([acc1])"
   ]
  },
  {
   "cell_type": "code",
   "execution_count": 21,
   "metadata": {
    "execution": {
     "iopub.execute_input": "2020-08-27T10:12:06.784075Z",
     "iopub.status.busy": "2020-08-27T10:12:06.783422Z",
     "iopub.status.idle": "2020-08-27T10:14:28.667238Z",
     "shell.execute_reply": "2020-08-27T10:14:28.668033Z"
    },
    "papermill": {
     "duration": 141.920746,
     "end_time": "2020-08-27T10:14:28.668193",
     "exception": false,
     "start_time": "2020-08-27T10:12:06.747447",
     "status": "completed"
    },
    "tags": []
   },
   "outputs": [
    {
     "name": "stdout",
     "output_type": "stream",
     "text": [
      "Epoch 0 Loss 0.25271112781312777\n",
      "train accuracy is: 0.5807043899182106, test accuracy is 0.5584677419354839\n"
     ]
    },
    {
     "name": "stdout",
     "output_type": "stream",
     "text": [
      "Epoch 10 Loss 0.0896771446381941\n",
      "train accuracy is: 0.9221331997996995, test accuracy is 0.9309475806451613\n"
     ]
    },
    {
     "name": "stdout",
     "output_type": "stream",
     "text": [
      "Epoch 20 Loss 0.05416841677371906\n",
      "train accuracy is: 0.9463361709230512, test accuracy is 0.9536290322580645\n"
     ]
    },
    {
     "name": "stdout",
     "output_type": "stream",
     "text": [
      "Epoch 30 Loss 0.042163163591200606\n",
      "train accuracy is: 0.9544316474712068, test accuracy is 0.9632056451612904\n"
     ]
    },
    {
     "name": "stdout",
     "output_type": "stream",
     "text": [
      "Epoch 40 Loss 0.0362654594141001\n",
      "train accuracy is: 0.9592722416958771, test accuracy is 0.9682459677419355\n"
     ]
    },
    {
     "name": "stdout",
     "output_type": "stream",
     "text": [
      "Epoch 50 Loss 0.03270529087395565\n",
      "train accuracy is: 0.9626105825404774, test accuracy is 0.9702620967741935\n"
     ]
    },
    {
     "name": "stdout",
     "output_type": "stream",
     "text": [
      "Epoch 60 Loss 0.03026376715454634\n",
      "train accuracy is: 0.9647805040894676, test accuracy is 0.9717741935483871\n"
     ]
    },
    {
     "name": "stdout",
     "output_type": "stream",
     "text": [
      "Epoch 70 Loss 0.028437542587822152\n",
      "train accuracy is: 0.9676180938073777, test accuracy is 0.9722782258064516\n"
     ]
    },
    {
     "name": "stdout",
     "output_type": "stream",
     "text": [
      "Epoch 80 Loss 0.02698567736608215\n",
      "train accuracy is: 0.9692038057085628, test accuracy is 0.9737903225806451\n"
     ]
    },
    {
     "name": "stdout",
     "output_type": "stream",
     "text": [
      "Epoch 90 Loss 0.02579740814997271\n",
      "train accuracy is: 0.970956434651978, test accuracy is 0.9732862903225806\n"
     ]
    },
    {
     "name": "stdout",
     "output_type": "stream",
     "text": [
      "Epoch 100 Loss 0.024773368084907415\n",
      "train accuracy is: 0.972291770989818, test accuracy is 0.9727822580645161\n"
     ]
    },
    {
     "name": "stdout",
     "output_type": "stream",
     "text": [
      "Epoch 110 Loss 0.023881767665138193\n",
      "train accuracy is: 0.9732932732431981, test accuracy is 0.9717741935483871\n"
     ]
    },
    {
     "name": "stdout",
     "output_type": "stream",
     "text": [
      "Epoch 120 Loss 0.02309018239607613\n",
      "train accuracy is: 0.9744616925388082, test accuracy is 0.9732862903225806\n"
     ]
    },
    {
     "name": "stdout",
     "output_type": "stream",
     "text": [
      "Epoch 130 Loss 0.022377998768355594\n",
      "train accuracy is: 0.9752128192288433, test accuracy is 0.9732862903225806\n"
     ]
    },
    {
     "name": "stdout",
     "output_type": "stream",
     "text": [
      "Epoch 140 Loss 0.021722072191233118\n",
      "train accuracy is: 0.9761308629611083, test accuracy is 0.9737903225806451\n"
     ]
    },
    {
     "name": "stdout",
     "output_type": "stream",
     "text": [
      "Epoch 150 Loss 0.0211221047042177\n",
      "train accuracy is: 0.9771323652144884, test accuracy is 0.9753024193548387\n"
     ]
    },
    {
     "name": "stdout",
     "output_type": "stream",
     "text": [
      "Epoch 160 Loss 0.02055441032987429\n",
      "train accuracy is: 0.9775496578200634, test accuracy is 0.9753024193548387\n"
     ]
    },
    {
     "name": "stdout",
     "output_type": "stream",
     "text": [
      "Epoch 170 Loss 0.02003558803603609\n",
      "train accuracy is: 0.9779669504256384, test accuracy is 0.9747983870967742\n"
     ]
    },
    {
     "name": "stdout",
     "output_type": "stream",
     "text": [
      "Epoch 180 Loss 0.019539938875636487\n",
      "train accuracy is: 0.9783007845100985, test accuracy is 0.9747983870967742\n"
     ]
    },
    {
     "name": "stdout",
     "output_type": "stream",
     "text": [
      "Epoch 190 Loss 0.019070992623118455\n",
      "train accuracy is: 0.9787180771156735, test accuracy is 0.9747983870967742\n"
     ]
    },
    {
     "name": "stdout",
     "output_type": "stream",
     "text": [
      "Epoch 200 Loss 0.018612769442991336\n",
      "train accuracy is: 0.9792188282423635, test accuracy is 0.9753024193548387\n"
     ]
    },
    {
     "name": "stdout",
     "output_type": "stream",
     "text": [
      "Epoch 210 Loss 0.018189467443153463\n",
      "train accuracy is: 0.9797195793690536, test accuracy is 0.9758064516129032\n"
     ]
    },
    {
     "name": "stdout",
     "output_type": "stream",
     "text": [
      "Epoch 220 Loss 0.01778015773452482\n",
      "train accuracy is: 0.9801368719746286, test accuracy is 0.9763104838709677\n"
     ]
    },
    {
     "name": "stdout",
     "output_type": "stream",
     "text": [
      "Epoch 230 Loss 0.01738416422042318\n",
      "train accuracy is: 0.9808045401435487, test accuracy is 0.9768145161290323\n"
     ]
    },
    {
     "name": "stdout",
     "output_type": "stream",
     "text": [
      "Epoch 240 Loss 0.01700546391380166\n",
      "train accuracy is: 0.9811383742280086, test accuracy is 0.9773185483870968\n"
     ]
    },
    {
     "data": {
      "text/plain": [
       "0.01422446269685589"
      ]
     },
     "execution_count": 21,
     "metadata": {},
     "output_type": "execute_result"
    }
   ],
   "source": [
    "learner1.train_loop(dl)"
   ]
  },
  {
   "cell_type": "markdown",
   "metadata": {
    "papermill": {
     "duration": 0.043134,
     "end_time": "2020-08-27T10:14:28.754376",
     "exception": false,
     "start_time": "2020-08-27T10:14:28.711242",
     "status": "completed"
    },
    "tags": []
   },
   "source": [
    "##### Now running only the logistic regression based classification to compare results with NN"
   ]
  },
  {
   "cell_type": "code",
   "execution_count": 22,
   "metadata": {
    "execution": {
     "iopub.execute_input": "2020-08-27T10:14:28.844114Z",
     "iopub.status.busy": "2020-08-27T10:14:28.843366Z",
     "iopub.status.idle": "2020-08-27T10:14:28.856609Z",
     "shell.execute_reply": "2020-08-27T10:14:28.855845Z"
    },
    "papermill": {
     "duration": 0.05888,
     "end_time": "2020-08-27T10:14:28.856797",
     "exception": false,
     "start_time": "2020-08-27T10:14:28.797917",
     "status": "completed"
    },
    "tags": []
   },
   "outputs": [],
   "source": [
    "learner2 = Learner(loss, model_logistic, opt, config.num_epochs)\n",
    "acc2 = ClfCallback(learner2, config.bs, training_xdata , testing_xdata, training_ydata, testing_ydata)\n",
    "learner2.set_callbacks([acc2])"
   ]
  },
  {
   "cell_type": "code",
   "execution_count": 23,
   "metadata": {
    "execution": {
     "iopub.execute_input": "2020-08-27T10:14:28.962344Z",
     "iopub.status.busy": "2020-08-27T10:14:28.961655Z",
     "iopub.status.idle": "2020-08-27T10:14:49.824459Z",
     "shell.execute_reply": "2020-08-27T10:14:49.823419Z"
    },
    "papermill": {
     "duration": 20.91728,
     "end_time": "2020-08-27T10:14:49.824659",
     "exception": false,
     "start_time": "2020-08-27T10:14:28.907379",
     "status": "completed"
    },
    "tags": []
   },
   "outputs": [
    {
     "name": "stdout",
     "output_type": "stream",
     "text": [
      "Epoch 0 Loss 0.23416916344412236\n",
      "train accuracy is: 0.7277583041228509, test accuracy is 0.7313508064516129\n"
     ]
    },
    {
     "name": "stdout",
     "output_type": "stream",
     "text": [
      "Epoch 10 Loss 0.10045729216541002\n",
      "train accuracy is: 0.915039225504924, test accuracy is 0.9254032258064516\n"
     ]
    },
    {
     "name": "stdout",
     "output_type": "stream",
     "text": [
      "Epoch 20 Loss 0.07778592746492421\n",
      "train accuracy is: 0.928726422967785, test accuracy is 0.9410282258064516\n"
     ]
    },
    {
     "name": "stdout",
     "output_type": "stream",
     "text": [
      "Epoch 30 Loss 0.06733947425809884\n",
      "train accuracy is: 0.9364046069103655, test accuracy is 0.9480846774193549\n"
     ]
    },
    {
     "name": "stdout",
     "output_type": "stream",
     "text": [
      "Epoch 40 Loss 0.06101600742117693\n",
      "train accuracy is: 0.9414121181772659, test accuracy is 0.9511088709677419\n"
     ]
    },
    {
     "name": "stdout",
     "output_type": "stream",
     "text": [
      "Epoch 50 Loss 0.05668012855252874\n",
      "train accuracy is: 0.9450842931063261, test accuracy is 0.9576612903225806\n"
     ]
    },
    {
     "name": "stdout",
     "output_type": "stream",
     "text": [
      "Epoch 60 Loss 0.053476926026615454\n",
      "train accuracy is: 0.9462527124019362, test accuracy is 0.9596774193548387\n"
     ]
    },
    {
     "name": "stdout",
     "output_type": "stream",
     "text": [
      "Epoch 70 Loss 0.0509942673527977\n",
      "train accuracy is: 0.9482557169086964, test accuracy is 0.9611895161290323\n"
     ]
    },
    {
     "name": "stdout",
     "output_type": "stream",
     "text": [
      "Epoch 80 Loss 0.04899651398371225\n",
      "train accuracy is: 0.9500918043732265, test accuracy is 0.9637096774193549\n"
     ]
    },
    {
     "name": "stdout",
     "output_type": "stream",
     "text": [
      "Epoch 90 Loss 0.04734686883497582\n",
      "train accuracy is: 0.9516775162744117, test accuracy is 0.9642137096774194\n"
     ]
    },
    {
     "name": "stdout",
     "output_type": "stream",
     "text": [
      "Epoch 100 Loss 0.045954439991990094\n",
      "train accuracy is: 0.9529293940911367, test accuracy is 0.9652217741935484\n"
     ]
    },
    {
     "name": "stdout",
     "output_type": "stream",
     "text": [
      "Epoch 110 Loss 0.0447585145950391\n",
      "train accuracy is: 0.9540978133867468, test accuracy is 0.9657258064516129\n"
     ]
    },
    {
     "name": "stdout",
     "output_type": "stream",
     "text": [
      "Epoch 120 Loss 0.043717914383055834\n",
      "train accuracy is: 0.9556835252879319, test accuracy is 0.9662298387096774\n"
     ]
    },
    {
     "name": "stdout",
     "output_type": "stream",
     "text": [
      "Epoch 130 Loss 0.042798911832137805\n",
      "train accuracy is: 0.956100817893507, test accuracy is 0.9667338709677419\n"
     ]
    },
    {
     "name": "stdout",
     "output_type": "stream",
     "text": [
      "Epoch 140 Loss 0.04198235709904718\n",
      "train accuracy is: 0.957102320146887, test accuracy is 0.9667338709677419\n"
     ]
    },
    {
     "name": "stdout",
     "output_type": "stream",
     "text": [
      "Epoch 150 Loss 0.04124906501638386\n",
      "train accuracy is: 0.957519612752462, test accuracy is 0.9667338709677419\n"
     ]
    },
    {
     "name": "stdout",
     "output_type": "stream",
     "text": [
      "Epoch 160 Loss 0.04058543135339334\n",
      "train accuracy is: 0.957519612752462, test accuracy is 0.9667338709677419\n"
     ]
    },
    {
     "name": "stdout",
     "output_type": "stream",
     "text": [
      "Epoch 170 Loss 0.03998123629529974\n",
      "train accuracy is: 0.9581872809213821, test accuracy is 0.967741935483871\n"
     ]
    },
    {
     "name": "stdout",
     "output_type": "stream",
     "text": [
      "Epoch 180 Loss 0.03942794439822804\n",
      "train accuracy is: 0.9585211150058421, test accuracy is 0.967741935483871\n"
     ]
    },
    {
     "name": "stdout",
     "output_type": "stream",
     "text": [
      "Epoch 190 Loss 0.03891852203800462\n",
      "train accuracy is: 0.9589384076114171, test accuracy is 0.967741935483871\n"
     ]
    },
    {
     "name": "stdout",
     "output_type": "stream",
     "text": [
      "Epoch 200 Loss 0.03844759462091973\n",
      "train accuracy is: 0.9589384076114171, test accuracy is 0.967741935483871\n"
     ]
    },
    {
     "name": "stdout",
     "output_type": "stream",
     "text": [
      "Epoch 210 Loss 0.03800993722173615\n",
      "train accuracy is: 0.9590218661325322, test accuracy is 0.967741935483871\n"
     ]
    },
    {
     "name": "stdout",
     "output_type": "stream",
     "text": [
      "Epoch 220 Loss 0.0376025774963713\n",
      "train accuracy is: 0.9592722416958771, test accuracy is 0.967741935483871\n"
     ]
    },
    {
     "name": "stdout",
     "output_type": "stream",
     "text": [
      "Epoch 230 Loss 0.03722083139557401\n",
      "train accuracy is: 0.9593557002169921, test accuracy is 0.967741935483871\n"
     ]
    },
    {
     "name": "stdout",
     "output_type": "stream",
     "text": [
      "Epoch 240 Loss 0.03686366164833651\n",
      "train accuracy is: 0.9599399098647972, test accuracy is 0.967741935483871\n"
     ]
    },
    {
     "data": {
      "text/plain": [
       "0.03967730149507662"
      ]
     },
     "execution_count": 23,
     "metadata": {},
     "output_type": "execute_result"
    }
   ],
   "source": [
    "learner2.train_loop(dl)"
   ]
  },
  {
   "cell_type": "markdown",
   "metadata": {
    "papermill": {
     "duration": 0.050943,
     "end_time": "2020-08-27T10:14:49.928634",
     "exception": false,
     "start_time": "2020-08-27T10:14:49.877691",
     "status": "completed"
    },
    "tags": []
   },
   "source": [
    "### Comparing results of NN and LR"
   ]
  },
  {
   "cell_type": "code",
   "execution_count": 24,
   "metadata": {
    "execution": {
     "iopub.execute_input": "2020-08-27T10:14:50.030051Z",
     "iopub.status.busy": "2020-08-27T10:14:50.029292Z",
     "iopub.status.idle": "2020-08-27T10:14:50.296914Z",
     "shell.execute_reply": "2020-08-27T10:14:50.297448Z"
    },
    "papermill": {
     "duration": 0.321067,
     "end_time": "2020-08-27T10:14:50.297605",
     "exception": false,
     "start_time": "2020-08-27T10:14:49.976538",
     "status": "completed"
    },
    "tags": []
   },
   "outputs": [
    {
     "data": {
      "text/plain": [
       "<matplotlib.legend.Legend at 0x7fdbf74671d0>"
      ]
     },
     "execution_count": 24,
     "metadata": {},
     "output_type": "execute_result"
    },
    {
     "data": {
      "image/png": "[encoded data removed]",
      "text/plain": [
       "<Figure size 576x360 with 1 Axes>"
      ]
     },
     "metadata": {
      "needs_background": "light"
     },
     "output_type": "display_data"
    }
   ],
   "source": [
    "plt.figure(figsize=(8,5))\n",
    "plt.plot(acc1.val_accuracies, 'g-', label = \"Val Accuracies - NN\")\n",
    "plt.plot(acc1.accuracies, 'r-', label = \"Accuracies - NN\")\n",
    "plt.plot(acc2.val_accuracies, 'b-', label = \"Val Accuracies - Logistic Reg\")\n",
    "plt.plot(acc2.accuracies, 'k-', label = \"Accuracies - Logistic Reg\")\n",
    "plt.ylim(0.8,1) ## for a more spread out view\n",
    "plt.legend()"
   ]
  },
  {
   "cell_type": "markdown",
   "metadata": {
    "papermill": {
     "duration": 0.054579,
     "end_time": "2020-08-27T10:14:50.412820",
     "exception": false,
     "start_time": "2020-08-27T10:14:50.358241",
     "status": "completed"
    },
    "tags": []
   },
   "source": [
    "### Clearly NN has a better accuracy over LR; NN is overfitting - Validation accuracy (green) has dropped below training accuracy (orange), also they are diverging. This problem is not seen in LR"
   ]
  },
  {
   "cell_type": "markdown",
   "metadata": {
    "papermill": {
     "duration": 0.051737,
     "end_time": "2020-08-27T10:14:50.513718",
     "exception": false,
     "start_time": "2020-08-27T10:14:50.461981",
     "status": "completed"
    },
    "tags": []
   },
   "source": [
    "##### Now we will be moving through the network, till the output of the second last affine where we get a 2 dimensional output. We will be plotting this 2d output and probability contours"
   ]
  },
  {
   "cell_type": "code",
   "execution_count": 25,
   "metadata": {
    "execution": {
     "iopub.execute_input": "2020-08-27T10:14:50.622696Z",
     "iopub.status.busy": "2020-08-27T10:14:50.621676Z",
     "iopub.status.idle": "2020-08-27T10:14:50.637523Z",
     "shell.execute_reply": "2020-08-27T10:14:50.636824Z"
    },
    "papermill": {
     "duration": 0.07115,
     "end_time": "2020-08-27T10:14:50.637681",
     "exception": false,
     "start_time": "2020-08-27T10:14:50.566531",
     "status": "completed"
    },
    "tags": []
   },
   "outputs": [],
   "source": [
    "model_new = Model(layers[:-2])"
   ]
  },
  {
   "cell_type": "code",
   "execution_count": 26,
   "metadata": {
    "execution": {
     "iopub.execute_input": "2020-08-27T10:14:50.740075Z",
     "iopub.status.busy": "2020-08-27T10:14:50.739285Z",
     "iopub.status.idle": "2020-08-27T10:14:50.766229Z",
     "shell.execute_reply": "2020-08-27T10:14:50.766768Z"
    },
    "papermill": {
     "duration": 0.079937,
     "end_time": "2020-08-27T10:14:50.766901",
     "exception": false,
     "start_time": "2020-08-27T10:14:50.686964",
     "status": "completed"
    },
    "tags": []
   },
   "outputs": [],
   "source": [
    "plot_testing = model_new(testing_xdata)"
   ]
  },
  {
   "cell_type": "markdown",
   "metadata": {
    "papermill": {
     "duration": 0.073484,
     "end_time": "2020-08-27T10:14:50.890549",
     "exception": false,
     "start_time": "2020-08-27T10:14:50.817065",
     "status": "completed"
    },
    "tags": []
   },
   "source": [
    "##### Plotting the scatter plot of points and color coding by class"
   ]
  },
  {
   "cell_type": "code",
   "execution_count": 27,
   "metadata": {
    "execution": {
     "iopub.execute_input": "2020-08-27T10:14:50.997840Z",
     "iopub.status.busy": "2020-08-27T10:14:50.997172Z",
     "iopub.status.idle": "2020-08-27T10:14:51.226934Z",
     "shell.execute_reply": "2020-08-27T10:14:51.227781Z"
    },
    "papermill": {
     "duration": 0.287135,
     "end_time": "2020-08-27T10:14:51.228032",
     "exception": false,
     "start_time": "2020-08-27T10:14:50.940897",
     "status": "completed"
    },
    "tags": []
   },
   "outputs": [
    {
     "data": {
      "image/png": "[encoded data removed]",
      "text/plain": [
       "<Figure size 576x504 with 1 Axes>"
      ]
     },
     "metadata": {
      "needs_background": "light"
     },
     "output_type": "display_data"
    }
   ],
   "source": [
    "plt.figure(figsize=(8,7))\n",
    "plt.scatter(plot_testing[:,0], plot_testing[:,1], alpha = 0.1, c = y_test.ravel());"
   ]
  },
  {
   "cell_type": "markdown",
   "metadata": {
    "papermill": {
     "duration": 0.055798,
     "end_time": "2020-08-27T10:14:51.339079",
     "exception": false,
     "start_time": "2020-08-27T10:14:51.283281",
     "status": "completed"
    },
    "tags": []
   },
   "source": [
    "##### Plotting probability contours"
   ]
  },
  {
   "cell_type": "code",
   "execution_count": 28,
   "metadata": {
    "execution": {
     "iopub.execute_input": "2020-08-27T10:14:51.451109Z",
     "iopub.status.busy": "2020-08-27T10:14:51.450518Z",
     "iopub.status.idle": "2020-08-27T10:14:51.465150Z",
     "shell.execute_reply": "2020-08-27T10:14:51.464555Z"
    },
    "papermill": {
     "duration": 0.070326,
     "end_time": "2020-08-27T10:14:51.465265",
     "exception": false,
     "start_time": "2020-08-27T10:14:51.394939",
     "status": "completed"
    },
    "tags": []
   },
   "outputs": [],
   "source": [
    "model_prob = Model(layers[-2:]) ## picking only last two layers to get probability. That is affine followed by sigmoid"
   ]
  },
  {
   "cell_type": "code",
   "execution_count": 29,
   "metadata": {
    "execution": {
     "iopub.execute_input": "2020-08-27T10:14:51.575756Z",
     "iopub.status.busy": "2020-08-27T10:14:51.575136Z",
     "iopub.status.idle": "2020-08-27T10:14:51.590198Z",
     "shell.execute_reply": "2020-08-27T10:14:51.590723Z"
    },
    "papermill": {
     "duration": 0.075438,
     "end_time": "2020-08-27T10:14:51.590879",
     "exception": false,
     "start_time": "2020-08-27T10:14:51.515441",
     "status": "completed"
    },
    "tags": []
   },
   "outputs": [],
   "source": [
    "xgrid = np.linspace(-4, 1, 100) ## Adjust these values based on above chart, roughly -4 to 1\n",
    "ygrid = np.linspace(-7.5, 7.5, 100) ## Adjust these values based on above chart, roughly -7.5, 7.5\n",
    "xg, yg = np.meshgrid(xgrid, ygrid)\n",
    "# xg and yg are now both 100X100, lets convert them to single arrays \n",
    "\n",
    "xg_interim = np.ravel(xg)\n",
    "yg_interim = np.ravel(yg)\n",
    "\n",
    "## xg_interim, yg_interim are now arrays of len 10000, now we will stack them and then transpose to get desired shape of n rows, 2 columns\n",
    "\n",
    "X_interim = np.vstack((xg_interim, yg_interim)) ## Please note vstack takes in a tuple\n",
    "X = X_interim.T\n",
    "\n",
    "## We want a shape of n rows and 2 columns to be able to feed this to last affine\n",
    "## This last affine takes only two columns, hence the above transformation\n",
    "probability_contour = model_prob(X).reshape(100,100) ## to make it consistent with xg, yg"
   ]
  },
  {
   "cell_type": "code",
   "execution_count": 30,
   "metadata": {
    "execution": {
     "iopub.execute_input": "2020-08-27T10:14:51.704952Z",
     "iopub.status.busy": "2020-08-27T10:14:51.704382Z",
     "iopub.status.idle": "2020-08-27T10:14:51.999168Z",
     "shell.execute_reply": "2020-08-27T10:14:51.998314Z"
    },
    "papermill": {
     "duration": 0.350712,
     "end_time": "2020-08-27T10:14:51.999304",
     "exception": false,
     "start_time": "2020-08-27T10:14:51.648592",
     "status": "completed"
    },
    "tags": []
   },
   "outputs": [
    {
     "data": {
      "image/png": "[encoded data removed]",
      "text/plain": [
       "<Figure size 576x504 with 1 Axes>"
      ]
     },
     "metadata": {
      "needs_background": "light"
     },
     "output_type": "display_data"
    }
   ],
   "source": [
    "plt.figure(figsize=(8,7))\n",
    "plt.scatter(plot_testing[:,0], plot_testing[:,1], alpha = 0.1, c = y_test.ravel())\n",
    "contours = plt.contour(xg,yg,probability_contour)\n",
    "plt.clabel(contours, inline = True );"
   ]
  }
 ],
 "metadata": {
  "kernelspec": {
   "display_name": "Python 3",
   "language": "python",
   "name": "python3"
  },
  "language_info": {
   "codemirror_mode": {
    "name": "ipython",
    "version": 3
   },
   "file_extension": ".py",
   "mimetype": "text/x-python",
   "name": "python",
   "nbconvert_exporter": "python",
   "pygments_lexer": "ipython3",
   "version": "3.6.11"
  },
  "papermill": {
   "duration": 173.139575,
   "end_time": "2020-08-27T10:14:52.357810",
   "environment_variables": {},
   "exception": null,
   "input_path": "2020-08-07-NN-new.ipynb",
   "output_path": "2020-08-07-NN-new.ipynb",
   "parameters": {},
   "start_time": "2020-08-27T10:11:59.218235",
   "version": "2.1.2"
  }
 },
 "nbformat": 4,
 "nbformat_minor": 4
}