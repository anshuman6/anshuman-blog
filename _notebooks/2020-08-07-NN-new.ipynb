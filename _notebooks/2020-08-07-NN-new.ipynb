{
 "cells": [
  {
   "cell_type": "markdown",
   "metadata": {
    "papermill": {
     "duration": 0.025491,
     "end_time": "2020-08-16T20:12:37.467967",
     "exception": false,
     "start_time": "2020-08-16T20:12:37.442476",
     "status": "completed"
    },
    "tags": []
   },
   "source": [
    "# \"Building a basic Neural Network from scratch - Kudzu\"\n",
    "\n",
    "- badges: true\n",
    "- author: Anshuman Gupta"
   ]
  },
  {
   "cell_type": "markdown",
   "metadata": {
    "papermill": {
     "duration": 0.02118,
     "end_time": "2020-08-16T20:12:37.510331",
     "exception": false,
     "start_time": "2020-08-16T20:12:37.489151",
     "status": "completed"
    },
    "tags": []
   },
   "source": [
    "#### In this project, the idea is to write a classifier to differentiate between handwritten digits 3 and 8, from the MNIST database.\n",
    "\n",
    "#### I will using a custom built neural network library called Kudzu.This has been developed as a part of KTF/Foundations course of Univ.ai (www.univ.ai). The source code for Kudzu Library and and this notebook can be found on my git-hub profile : www.https://github.com/anshuman6 under the folder project-solution. Any feedback and comments are welcome. Please feel free to email me at: anshuman6@gmail.com\n",
    "\n",
    "#### 1. I will be using the MNIST database. \n",
    "\n",
    "#### 2. I will be comparing the results of the 4 layer NN to a standard logistic regression"
   ]
  },
  {
   "cell_type": "markdown",
   "metadata": {
    "papermill": {
     "duration": 0.02356,
     "end_time": "2020-08-16T20:12:37.555261",
     "exception": false,
     "start_time": "2020-08-16T20:12:37.531701",
     "status": "completed"
    },
    "tags": []
   },
   "source": [
    "##### Importing all the necessary libraries"
   ]
  },
  {
   "cell_type": "code",
   "execution_count": 1,
   "metadata": {
    "execution": {
     "iopub.execute_input": "2020-08-16T20:12:37.606044Z",
     "iopub.status.busy": "2020-08-16T20:12:37.604741Z",
     "iopub.status.idle": "2020-08-16T20:12:37.614736Z",
     "shell.execute_reply": "2020-08-16T20:12:37.614160Z"
    },
    "papermill": {
     "duration": 0.037256,
     "end_time": "2020-08-16T20:12:37.614863",
     "exception": false,
     "start_time": "2020-08-16T20:12:37.577607",
     "status": "completed"
    },
    "tags": []
   },
   "outputs": [],
   "source": [
    "%load_ext autoreload\n",
    "%autoreload 2"
   ]
  },
  {
   "cell_type": "code",
   "execution_count": 2,
   "metadata": {
    "execution": {
     "iopub.execute_input": "2020-08-16T20:12:37.667801Z",
     "iopub.status.busy": "2020-08-16T20:12:37.667337Z",
     "iopub.status.idle": "2020-08-16T20:12:38.120716Z",
     "shell.execute_reply": "2020-08-16T20:12:38.119772Z"
    },
    "papermill": {
     "duration": 0.481666,
     "end_time": "2020-08-16T20:12:38.120946",
     "exception": false,
     "start_time": "2020-08-16T20:12:37.639280",
     "status": "completed"
    },
    "tags": []
   },
   "outputs": [],
   "source": [
    "%matplotlib inline\n",
    "import numpy as np\n",
    "import matplotlib.pyplot as plt\n",
    "import pandas as pd"
   ]
  },
  {
   "cell_type": "markdown",
   "metadata": {
    "papermill": {
     "duration": 0.023509,
     "end_time": "2020-08-16T20:12:38.172074",
     "exception": false,
     "start_time": "2020-08-16T20:12:38.148565",
     "status": "completed"
    },
    "tags": []
   },
   "source": [
    "##### The following command helps us download MNIST from notebook itself. You can skip this if you already have MNIST. You can also download it via your terminal."
   ]
  },
  {
   "cell_type": "code",
   "execution_count": 3,
   "metadata": {
    "execution": {
     "iopub.execute_input": "2020-08-16T20:12:38.220925Z",
     "iopub.status.busy": "2020-08-16T20:12:38.220446Z",
     "iopub.status.idle": "2020-08-16T20:12:39.489496Z",
     "shell.execute_reply": "2020-08-16T20:12:39.488913Z"
    },
    "papermill": {
     "duration": 1.294145,
     "end_time": "2020-08-16T20:12:39.489628",
     "exception": false,
     "start_time": "2020-08-16T20:12:38.195483",
     "status": "completed"
    },
    "tags": []
   },
   "outputs": [
    {
     "name": "stdout",
     "output_type": "stream",
     "text": [
      "Collecting mnist\r\n"
     ]
    },
    {
     "name": "stdout",
     "output_type": "stream",
     "text": [
      "  Downloading mnist-0.2.2-py2.py3-none-any.whl (3.5 kB)\r\n"
     ]
    },
    {
     "name": "stdout",
     "output_type": "stream",
     "text": [
      "Requirement already satisfied: numpy in /opt/hostedtoolcache/Python/3.6.11/x64/lib/python3.6/site-packages (from mnist) (1.19.1)\r\n"
     ]
    },
    {
     "name": "stdout",
     "output_type": "stream",
     "text": [
      "Installing collected packages: mnist\r\n"
     ]
    },
    {
     "name": "stdout",
     "output_type": "stream",
     "text": [
      "Successfully installed mnist-0.2.2\r\n"
     ]
    },
    {
     "name": "stdout",
     "output_type": "stream",
     "text": [
      "\u001b[33mWARNING: You are using pip version 20.2.1; however, version 20.2.2 is available.\r\n",
      "You should consider upgrading via the '/opt/hostedtoolcache/Python/3.6.11/x64/bin/python -m pip install --upgrade pip' command.\u001b[0m\r\n"
     ]
    }
   ],
   "source": [
    "!pip install mnist # Please note, it is commented out for now, you can remove comment if you want to install it"
   ]
  },
  {
   "cell_type": "markdown",
   "metadata": {
    "papermill": {
     "duration": 0.029042,
     "end_time": "2020-08-16T20:12:39.543899",
     "exception": false,
     "start_time": "2020-08-16T20:12:39.514857",
     "status": "completed"
    },
    "tags": []
   },
   "source": [
    "#### Preparing the Data"
   ]
  },
  {
   "cell_type": "code",
   "execution_count": 4,
   "metadata": {
    "execution": {
     "iopub.execute_input": "2020-08-16T20:12:39.604906Z",
     "iopub.status.busy": "2020-08-16T20:12:39.599836Z",
     "iopub.status.idle": "2020-08-16T20:12:39.613062Z",
     "shell.execute_reply": "2020-08-16T20:12:39.612660Z"
    },
    "papermill": {
     "duration": 0.042117,
     "end_time": "2020-08-16T20:12:39.613162",
     "exception": false,
     "start_time": "2020-08-16T20:12:39.571045",
     "status": "completed"
    },
    "tags": []
   },
   "outputs": [],
   "source": [
    "import mnist"
   ]
  },
  {
   "cell_type": "code",
   "execution_count": 5,
   "metadata": {
    "execution": {
     "iopub.execute_input": "2020-08-16T20:12:39.663041Z",
     "iopub.status.busy": "2020-08-16T20:12:39.662466Z",
     "iopub.status.idle": "2020-08-16T20:12:40.670215Z",
     "shell.execute_reply": "2020-08-16T20:12:40.668789Z"
    },
    "papermill": {
     "duration": 1.034115,
     "end_time": "2020-08-16T20:12:40.670436",
     "exception": false,
     "start_time": "2020-08-16T20:12:39.636321",
     "status": "completed"
    },
    "tags": []
   },
   "outputs": [],
   "source": [
    "train_images = mnist.train_images()\n",
    "train_labels = mnist.train_labels()"
   ]
  },
  {
   "cell_type": "code",
   "execution_count": 6,
   "metadata": {
    "execution": {
     "iopub.execute_input": "2020-08-16T20:12:40.732955Z",
     "iopub.status.busy": "2020-08-16T20:12:40.726709Z",
     "iopub.status.idle": "2020-08-16T20:12:40.741339Z",
     "shell.execute_reply": "2020-08-16T20:12:40.740908Z"
    },
    "papermill": {
     "duration": 0.044547,
     "end_time": "2020-08-16T20:12:40.741454",
     "exception": false,
     "start_time": "2020-08-16T20:12:40.696907",
     "status": "completed"
    },
    "tags": []
   },
   "outputs": [
    {
     "data": {
      "text/plain": [
       "((60000, 28, 28), (60000,))"
      ]
     },
     "execution_count": 6,
     "metadata": {},
     "output_type": "execute_result"
    }
   ],
   "source": [
    "train_images.shape, train_labels.shape"
   ]
  },
  {
   "cell_type": "code",
   "execution_count": 7,
   "metadata": {
    "execution": {
     "iopub.execute_input": "2020-08-16T20:12:40.800811Z",
     "iopub.status.busy": "2020-08-16T20:12:40.800283Z",
     "iopub.status.idle": "2020-08-16T20:12:41.248321Z",
     "shell.execute_reply": "2020-08-16T20:12:41.247780Z"
    },
    "papermill": {
     "duration": 0.47954,
     "end_time": "2020-08-16T20:12:41.248461",
     "exception": false,
     "start_time": "2020-08-16T20:12:40.768921",
     "status": "completed"
    },
    "tags": []
   },
   "outputs": [],
   "source": [
    "test_images = mnist.test_images()\n",
    "test_labels = mnist.test_labels()"
   ]
  },
  {
   "cell_type": "code",
   "execution_count": 8,
   "metadata": {
    "execution": {
     "iopub.execute_input": "2020-08-16T20:12:41.312222Z",
     "iopub.status.busy": "2020-08-16T20:12:41.311215Z",
     "iopub.status.idle": "2020-08-16T20:12:41.328276Z",
     "shell.execute_reply": "2020-08-16T20:12:41.327765Z"
    },
    "papermill": {
     "duration": 0.050155,
     "end_time": "2020-08-16T20:12:41.328403",
     "exception": false,
     "start_time": "2020-08-16T20:12:41.278248",
     "status": "completed"
    },
    "tags": []
   },
   "outputs": [
    {
     "data": {
      "text/plain": [
       "((10000, 28, 28), (10000,))"
      ]
     },
     "execution_count": 8,
     "metadata": {},
     "output_type": "execute_result"
    }
   ],
   "source": [
    "test_images.shape, test_labels.shape"
   ]
  },
  {
   "cell_type": "code",
   "execution_count": 9,
   "metadata": {
    "execution": {
     "iopub.execute_input": "2020-08-16T20:12:41.391473Z",
     "iopub.status.busy": "2020-08-16T20:12:41.390892Z",
     "iopub.status.idle": "2020-08-16T20:12:41.542573Z",
     "shell.execute_reply": "2020-08-16T20:12:41.542061Z"
    },
    "papermill": {
     "duration": 0.184912,
     "end_time": "2020-08-16T20:12:41.542706",
     "exception": false,
     "start_time": "2020-08-16T20:12:41.357794",
     "status": "completed"
    },
    "tags": []
   },
   "outputs": [
    {
     "name": "stdout",
     "output_type": "stream",
     "text": [
      "2\n"
     ]
    },
    {
     "data": {
      "text/plain": [
       "<matplotlib.image.AxesImage at 0x7f72317c4278>"
      ]
     },
     "execution_count": 9,
     "metadata": {},
     "output_type": "execute_result"
    },
    {
     "data": {
      "image/png": "[encoded data removed]",
      "text/plain": [
       "<Figure size 432x288 with 1 Axes>"
      ]
     },
     "metadata": {
      "needs_background": "light"
     },
     "output_type": "display_data"
    }
   ],
   "source": [
    "image_index = 7776 # You may select anything up to 60,000\n",
    "print(train_labels[image_index]) \n",
    "plt.imshow(train_images[image_index], cmap='Greys')"
   ]
  },
  {
   "cell_type": "markdown",
   "metadata": {
    "papermill": {
     "duration": 0.030789,
     "end_time": "2020-08-16T20:12:41.604912",
     "exception": false,
     "start_time": "2020-08-16T20:12:41.574123",
     "status": "completed"
    },
    "tags": []
   },
   "source": [
    "## Filter data to get 3 and 8 out"
   ]
  },
  {
   "cell_type": "code",
   "execution_count": 10,
   "metadata": {
    "execution": {
     "iopub.execute_input": "2020-08-16T20:12:41.677740Z",
     "iopub.status.busy": "2020-08-16T20:12:41.668984Z",
     "iopub.status.idle": "2020-08-16T20:12:41.687766Z",
     "shell.execute_reply": "2020-08-16T20:12:41.687292Z"
    },
    "papermill": {
     "duration": 0.054721,
     "end_time": "2020-08-16T20:12:41.687889",
     "exception": false,
     "start_time": "2020-08-16T20:12:41.633168",
     "status": "completed"
    },
    "tags": []
   },
   "outputs": [],
   "source": [
    "train_filter = np.where((train_labels == 3 ) | (train_labels == 8))\n",
    "test_filter = np.where((test_labels == 3) | (test_labels == 8))\n",
    "X_train, y_train = train_images[train_filter], train_labels[train_filter]\n",
    "X_test, y_test = test_images[test_filter], test_labels[test_filter]"
   ]
  },
  {
   "cell_type": "markdown",
   "metadata": {
    "papermill": {
     "duration": 0.028038,
     "end_time": "2020-08-16T20:12:41.741367",
     "exception": false,
     "start_time": "2020-08-16T20:12:41.713329",
     "status": "completed"
    },
    "tags": []
   },
   "source": [
    "##### We normalize the pizel values in the 0 to 1 range"
   ]
  },
  {
   "cell_type": "code",
   "execution_count": 11,
   "metadata": {
    "execution": {
     "iopub.execute_input": "2020-08-16T20:12:41.794791Z",
     "iopub.status.busy": "2020-08-16T20:12:41.794321Z",
     "iopub.status.idle": "2020-08-16T20:12:41.848116Z",
     "shell.execute_reply": "2020-08-16T20:12:41.847095Z"
    },
    "papermill": {
     "duration": 0.081744,
     "end_time": "2020-08-16T20:12:41.848369",
     "exception": false,
     "start_time": "2020-08-16T20:12:41.766625",
     "status": "completed"
    },
    "tags": []
   },
   "outputs": [],
   "source": [
    "X_train = X_train/255.\n",
    "X_test = X_test/255."
   ]
  },
  {
   "cell_type": "markdown",
   "metadata": {
    "papermill": {
     "duration": 0.026087,
     "end_time": "2020-08-16T20:12:41.903760",
     "exception": false,
     "start_time": "2020-08-16T20:12:41.877673",
     "status": "completed"
    },
    "tags": []
   },
   "source": [
    "And setup the labels as 1 (when the digit is 3) and 0 (when the digit is 8)"
   ]
  },
  {
   "cell_type": "code",
   "execution_count": 12,
   "metadata": {
    "execution": {
     "iopub.execute_input": "2020-08-16T20:12:41.954786Z",
     "iopub.status.busy": "2020-08-16T20:12:41.954310Z",
     "iopub.status.idle": "2020-08-16T20:12:41.969319Z",
     "shell.execute_reply": "2020-08-16T20:12:41.969762Z"
    },
    "papermill": {
     "duration": 0.042247,
     "end_time": "2020-08-16T20:12:41.969902",
     "exception": false,
     "start_time": "2020-08-16T20:12:41.927655",
     "status": "completed"
    },
    "tags": []
   },
   "outputs": [],
   "source": [
    "y_train = 1*(y_train==3)\n",
    "y_test = 1*(y_test==3)"
   ]
  },
  {
   "cell_type": "code",
   "execution_count": 13,
   "metadata": {
    "execution": {
     "iopub.execute_input": "2020-08-16T20:12:42.024744Z",
     "iopub.status.busy": "2020-08-16T20:12:42.024272Z",
     "iopub.status.idle": "2020-08-16T20:12:42.037028Z",
     "shell.execute_reply": "2020-08-16T20:12:42.036540Z"
    },
    "papermill": {
     "duration": 0.041173,
     "end_time": "2020-08-16T20:12:42.037146",
     "exception": false,
     "start_time": "2020-08-16T20:12:41.995973",
     "status": "completed"
    },
    "tags": []
   },
   "outputs": [
    {
     "data": {
      "text/plain": [
       "((11982, 28, 28), (1984, 28, 28))"
      ]
     },
     "execution_count": 13,
     "metadata": {},
     "output_type": "execute_result"
    }
   ],
   "source": [
    "X_train.shape, X_test.shape"
   ]
  },
  {
   "cell_type": "markdown",
   "metadata": {
    "papermill": {
     "duration": 0.024625,
     "end_time": "2020-08-16T20:12:42.086484",
     "exception": false,
     "start_time": "2020-08-16T20:12:42.061859",
     "status": "completed"
    },
    "tags": []
   },
   "source": [
    "##### We reshape the data to flatten the image pixels into a set of features or co-variates:"
   ]
  },
  {
   "cell_type": "code",
   "execution_count": 14,
   "metadata": {
    "execution": {
     "iopub.execute_input": "2020-08-16T20:12:42.141376Z",
     "iopub.status.busy": "2020-08-16T20:12:42.140854Z",
     "iopub.status.idle": "2020-08-16T20:12:42.155033Z",
     "shell.execute_reply": "2020-08-16T20:12:42.155464Z"
    },
    "papermill": {
     "duration": 0.044636,
     "end_time": "2020-08-16T20:12:42.155587",
     "exception": false,
     "start_time": "2020-08-16T20:12:42.110951",
     "status": "completed"
    },
    "tags": []
   },
   "outputs": [
    {
     "data": {
      "text/plain": [
       "((11982, 784), (1984, 784))"
      ]
     },
     "execution_count": 14,
     "metadata": {},
     "output_type": "execute_result"
    }
   ],
   "source": [
    "X_train = X_train.reshape(X_train.shape[0], -1)\n",
    "X_test = X_test.reshape(X_test.shape[0], -1)\n",
    "X_train.shape, X_test.shape"
   ]
  },
  {
   "cell_type": "markdown",
   "metadata": {
    "papermill": {
     "duration": 0.025506,
     "end_time": "2020-08-16T20:12:42.206274",
     "exception": false,
     "start_time": "2020-08-16T20:12:42.180768",
     "status": "completed"
    },
    "tags": []
   },
   "source": [
    "##### Importing Kudzu library and its functionality"
   ]
  },
  {
   "cell_type": "code",
   "execution_count": 15,
   "metadata": {
    "execution": {
     "iopub.execute_input": "2020-08-16T20:12:42.271058Z",
     "iopub.status.busy": "2020-08-16T20:12:42.270468Z",
     "iopub.status.idle": "2020-08-16T20:12:42.286865Z",
     "shell.execute_reply": "2020-08-16T20:12:42.287369Z"
    },
    "papermill": {
     "duration": 0.049436,
     "end_time": "2020-08-16T20:12:42.287496",
     "exception": false,
     "start_time": "2020-08-16T20:12:42.238060",
     "status": "completed"
    },
    "tags": []
   },
   "outputs": [],
   "source": [
    "from kudzu.data import Data, Dataloader, Sampler\n",
    "from kudzu.callbacks import AccCallback\n",
    "from kudzu.loss import MSE\n",
    "from kudzu.layer import Affine, Sigmoid\n",
    "from kudzu.model import Model\n",
    "from kudzu.optim import GD\n",
    "from kudzu.train import Learner\n",
    "from kudzu.callbacks import ClfCallback\n",
    "from kudzu.layer import Sigmoid\n",
    "from kudzu.layer import Relu"
   ]
  },
  {
   "cell_type": "markdown",
   "metadata": {
    "papermill": {
     "duration": 0.024749,
     "end_time": "2020-08-16T20:12:42.336101",
     "exception": false,
     "start_time": "2020-08-16T20:12:42.311352",
     "status": "completed"
    },
    "tags": []
   },
   "source": [
    "##### We are creating a class, just so that we can use it to store our parameters for us"
   ]
  },
  {
   "cell_type": "code",
   "execution_count": 16,
   "metadata": {
    "execution": {
     "iopub.execute_input": "2020-08-16T20:12:42.388834Z",
     "iopub.status.busy": "2020-08-16T20:12:42.388362Z",
     "iopub.status.idle": "2020-08-16T20:12:42.400405Z",
     "shell.execute_reply": "2020-08-16T20:12:42.400811Z"
    },
    "papermill": {
     "duration": 0.040126,
     "end_time": "2020-08-16T20:12:42.400918",
     "exception": false,
     "start_time": "2020-08-16T20:12:42.360792",
     "status": "completed"
    },
    "tags": []
   },
   "outputs": [],
   "source": [
    "class Config:\n",
    "    pass\n",
    "config = Config()\n",
    "config.lr = 0.001\n",
    "config.num_epochs = 250\n",
    "config.bs = 50"
   ]
  },
  {
   "cell_type": "markdown",
   "metadata": {
    "papermill": {
     "duration": 0.024866,
     "end_time": "2020-08-16T20:12:42.449962",
     "exception": false,
     "start_time": "2020-08-16T20:12:42.425096",
     "status": "completed"
    },
    "tags": []
   },
   "source": [
    "##### Initializing Data"
   ]
  },
  {
   "cell_type": "code",
   "execution_count": 17,
   "metadata": {
    "execution": {
     "iopub.execute_input": "2020-08-16T20:12:42.502828Z",
     "iopub.status.busy": "2020-08-16T20:12:42.501965Z",
     "iopub.status.idle": "2020-08-16T20:12:42.517086Z",
     "shell.execute_reply": "2020-08-16T20:12:42.517515Z"
    },
    "papermill": {
     "duration": 0.042717,
     "end_time": "2020-08-16T20:12:42.517622",
     "exception": false,
     "start_time": "2020-08-16T20:12:42.474905",
     "status": "completed"
    },
    "tags": []
   },
   "outputs": [],
   "source": [
    "data = Data(X_train, y_train.reshape(-1,1))\n",
    "loss = MSE()\n",
    "opt = GD(config.lr)\n",
    "sampler = Sampler(data, config.bs, shuffle=True)\n",
    "dl = Dataloader(data, sampler)"
   ]
  },
  {
   "cell_type": "markdown",
   "metadata": {
    "papermill": {
     "duration": 0.026842,
     "end_time": "2020-08-16T20:12:42.569195",
     "exception": false,
     "start_time": "2020-08-16T20:12:42.542353",
     "status": "completed"
    },
    "tags": []
   },
   "source": [
    "##### Constructing 2 different layers, one for NN and one only for logistic regression."
   ]
  },
  {
   "cell_type": "markdown",
   "metadata": {
    "papermill": {
     "duration": 0.025199,
     "end_time": "2020-08-16T20:12:42.619081",
     "exception": false,
     "start_time": "2020-08-16T20:12:42.593882",
     "status": "completed"
    },
    "tags": []
   },
   "source": [
    "##### Creating containers for data to be passed, to calculate accuracies"
   ]
  },
  {
   "cell_type": "code",
   "execution_count": 18,
   "metadata": {
    "execution": {
     "iopub.execute_input": "2020-08-16T20:12:42.674037Z",
     "iopub.status.busy": "2020-08-16T20:12:42.673509Z",
     "iopub.status.idle": "2020-08-16T20:12:42.685091Z",
     "shell.execute_reply": "2020-08-16T20:12:42.685490Z"
    },
    "papermill": {
     "duration": 0.042081,
     "end_time": "2020-08-16T20:12:42.685599",
     "exception": false,
     "start_time": "2020-08-16T20:12:42.643518",
     "status": "completed"
    },
    "tags": []
   },
   "outputs": [],
   "source": [
    "training_xdata = X_train\n",
    "testing_xdata = X_test\n",
    "training_ydata = y_train.reshape(-1,1)\n",
    "testing_ydata = y_test.reshape(-1,1)"
   ]
  },
  {
   "cell_type": "markdown",
   "metadata": {
    "papermill": {
     "duration": 0.028257,
     "end_time": "2020-08-16T20:12:42.738538",
     "exception": false,
     "start_time": "2020-08-16T20:12:42.710281",
     "status": "completed"
    },
    "tags": []
   },
   "source": [
    "##### Initializing models and Running training loop: "
   ]
  },
  {
   "cell_type": "code",
   "execution_count": 19,
   "metadata": {
    "execution": {
     "iopub.execute_input": "2020-08-16T20:12:42.801228Z",
     "iopub.status.busy": "2020-08-16T20:12:42.800624Z",
     "iopub.status.idle": "2020-08-16T20:12:42.817770Z",
     "shell.execute_reply": "2020-08-16T20:12:42.817281Z"
    },
    "papermill": {
     "duration": 0.045309,
     "end_time": "2020-08-16T20:12:42.817883",
     "exception": false,
     "start_time": "2020-08-16T20:12:42.772574",
     "status": "completed"
    },
    "tags": []
   },
   "outputs": [],
   "source": [
    "layers = [Affine(\"first\", 784, 100), Relu(\"first\"), Affine(\"second\", 100, 100), Relu(\"second\"), Affine(\"third\", 100, 2), Affine(\"final\", 2, 1), Sigmoid(\"final\")]\n",
    "\n",
    "model_neural = Model(layers)\n",
    "model_logistic = Model([Affine(\"logits\", 784, 1), Sigmoid(\"sigmoid\")])"
   ]
  },
  {
   "cell_type": "code",
   "execution_count": 20,
   "metadata": {
    "execution": {
     "iopub.execute_input": "2020-08-16T20:12:42.873184Z",
     "iopub.status.busy": "2020-08-16T20:12:42.872714Z",
     "iopub.status.idle": "2020-08-16T20:12:42.885741Z",
     "shell.execute_reply": "2020-08-16T20:12:42.885342Z"
    },
    "papermill": {
     "duration": 0.04145,
     "end_time": "2020-08-16T20:12:42.885834",
     "exception": false,
     "start_time": "2020-08-16T20:12:42.844384",
     "status": "completed"
    },
    "tags": []
   },
   "outputs": [],
   "source": [
    "learner1 = Learner(loss, model_neural, opt, config.num_epochs)\n",
    "acc1 = ClfCallback(learner1, config.bs, training_xdata , testing_xdata, training_ydata, testing_ydata)\n",
    "learner1.set_callbacks([acc1])"
   ]
  },
  {
   "cell_type": "code",
   "execution_count": 21,
   "metadata": {
    "execution": {
     "iopub.execute_input": "2020-08-16T20:12:42.939091Z",
     "iopub.status.busy": "2020-08-16T20:12:42.938678Z",
     "iopub.status.idle": "2020-08-16T20:14:00.262265Z",
     "shell.execute_reply": "2020-08-16T20:14:00.262774Z"
    },
    "papermill": {
     "duration": 77.352891,
     "end_time": "2020-08-16T20:14:00.262918",
     "exception": false,
     "start_time": "2020-08-16T20:12:42.910027",
     "status": "completed"
    },
    "tags": []
   },
   "outputs": [
    {
     "name": "stdout",
     "output_type": "stream",
     "text": [
      "Epoch 0 Loss 0.24712088371899585\n",
      "train accuracy is: 0.5755299616090803, test accuracy is 0.5836693548387096\n"
     ]
    },
    {
     "name": "stdout",
     "output_type": "stream",
     "text": [
      "Epoch 10 Loss 0.13924777045319073\n",
      "train accuracy is: 0.8891670839592722, test accuracy is 0.8911290322580645\n"
     ]
    },
    {
     "name": "stdout",
     "output_type": "stream",
     "text": [
      "Epoch 20 Loss 0.072887983833272\n",
      "train accuracy is: 0.9275580036721749, test accuracy is 0.9369959677419355\n"
     ]
    },
    {
     "name": "stdout",
     "output_type": "stream",
     "text": [
      "Epoch 30 Loss 0.05230329022347119\n",
      "train accuracy is: 0.9424970789517609, test accuracy is 0.9526209677419355\n"
     ]
    },
    {
     "name": "stdout",
     "output_type": "stream",
     "text": [
      "Epoch 40 Loss 0.043287546556643935\n",
      "train accuracy is: 0.9502587214154565, test accuracy is 0.9601814516129032\n"
     ]
    },
    {
     "name": "stdout",
     "output_type": "stream",
     "text": [
      "Epoch 50 Loss 0.03825455208763414\n",
      "train accuracy is: 0.9554331497245869, test accuracy is 0.9606854838709677\n"
     ]
    },
    {
     "name": "stdout",
     "output_type": "stream",
     "text": [
      "Epoch 60 Loss 0.03497616411891621\n",
      "train accuracy is: 0.9596895343014522, test accuracy is 0.9627016129032258\n"
     ]
    },
    {
     "name": "stdout",
     "output_type": "stream",
     "text": [
      "Epoch 70 Loss 0.03262023554326771\n",
      "train accuracy is: 0.9623602069771323, test accuracy is 0.9652217741935484\n"
     ]
    },
    {
     "name": "stdout",
     "output_type": "stream",
     "text": [
      "Epoch 80 Loss 0.030828721497585573\n",
      "train accuracy is: 0.9638624603572025, test accuracy is 0.9652217741935484\n"
     ]
    },
    {
     "name": "stdout",
     "output_type": "stream",
     "text": [
      "Epoch 90 Loss 0.029381955212773588\n",
      "train accuracy is: 0.9653647137372726, test accuracy is 0.9652217741935484\n"
     ]
    },
    {
     "name": "stdout",
     "output_type": "stream",
     "text": [
      "Epoch 100 Loss 0.028189775342822125\n",
      "train accuracy is: 0.9668669671173427, test accuracy is 0.9657258064516129\n"
     ]
    },
    {
     "name": "stdout",
     "output_type": "stream",
     "text": [
      "Epoch 110 Loss 0.02717443695852248\n",
      "train accuracy is: 0.9682023034551828, test accuracy is 0.9667338709677419\n"
     ]
    },
    {
     "name": "stdout",
     "output_type": "stream",
     "text": [
      "Epoch 120 Loss 0.026287217920447956\n",
      "train accuracy is: 0.9693707227507928, test accuracy is 0.9672379032258065\n"
     ]
    },
    {
     "name": "stdout",
     "output_type": "stream",
     "text": [
      "Epoch 130 Loss 0.025499019976879398\n",
      "train accuracy is: 0.9704556835252879, test accuracy is 0.96875\n"
     ]
    },
    {
     "name": "stdout",
     "output_type": "stream",
     "text": [
      "Epoch 140 Loss 0.02478706323537838\n",
      "train accuracy is: 0.9716241028208981, test accuracy is 0.9692540322580645\n"
     ]
    },
    {
     "name": "stdout",
     "output_type": "stream",
     "text": [
      "Epoch 150 Loss 0.024138840610547718\n",
      "train accuracy is: 0.972041395426473, test accuracy is 0.969758064516129\n"
     ]
    },
    {
     "name": "stdout",
     "output_type": "stream",
     "text": [
      "Epoch 160 Loss 0.023544141656496445\n",
      "train accuracy is: 0.9728759806376232, test accuracy is 0.969758064516129\n"
     ]
    },
    {
     "name": "stdout",
     "output_type": "stream",
     "text": [
      "Epoch 170 Loss 0.022990811244401083\n",
      "train accuracy is: 0.9735436488065431, test accuracy is 0.9707661290322581\n"
     ]
    },
    {
     "name": "stdout",
     "output_type": "stream",
     "text": [
      "Epoch 180 Loss 0.02247213698933448\n",
      "train accuracy is: 0.9742113169754631, test accuracy is 0.9707661290322581\n"
     ]
    },
    {
     "name": "stdout",
     "output_type": "stream",
     "text": [
      "Epoch 190 Loss 0.021986803128832878\n",
      "train accuracy is: 0.9749624436654982, test accuracy is 0.9712701612903226\n"
     ]
    },
    {
     "name": "stdout",
     "output_type": "stream",
     "text": [
      "Epoch 200 Loss 0.0215196974187989\n",
      "train accuracy is: 0.9756301118344183, test accuracy is 0.9717741935483871\n"
     ]
    },
    {
     "name": "stdout",
     "output_type": "stream",
     "text": [
      "Epoch 210 Loss 0.02107202331625456\n",
      "train accuracy is: 0.9760474044399933, test accuracy is 0.9717741935483871\n"
     ]
    },
    {
     "name": "stdout",
     "output_type": "stream",
     "text": [
      "Epoch 220 Loss 0.02065927416688644\n",
      "train accuracy is: 0.9764646970455684, test accuracy is 0.9712701612903226\n"
     ]
    },
    {
     "name": "stdout",
     "output_type": "stream",
     "text": [
      "Epoch 230 Loss 0.02023844270909953\n",
      "train accuracy is: 0.9766316140877984, test accuracy is 0.9712701612903226\n"
     ]
    },
    {
     "name": "stdout",
     "output_type": "stream",
     "text": [
      "Epoch 240 Loss 0.019835687770597615\n",
      "train accuracy is: 0.9769654481722584, test accuracy is 0.9717741935483871\n"
     ]
    },
    {
     "data": {
      "text/plain": [
       "0.004667189157087744"
      ]
     },
     "execution_count": 21,
     "metadata": {},
     "output_type": "execute_result"
    }
   ],
   "source": [
    "learner1.train_loop(dl)"
   ]
  },
  {
   "cell_type": "markdown",
   "metadata": {
    "papermill": {
     "duration": 0.034178,
     "end_time": "2020-08-16T20:14:00.331067",
     "exception": false,
     "start_time": "2020-08-16T20:14:00.296889",
     "status": "completed"
    },
    "tags": []
   },
   "source": [
    "##### Now running only the logistic regression based classification to compare results with NN"
   ]
  },
  {
   "cell_type": "code",
   "execution_count": 22,
   "metadata": {
    "execution": {
     "iopub.execute_input": "2020-08-16T20:14:00.405249Z",
     "iopub.status.busy": "2020-08-16T20:14:00.404145Z",
     "iopub.status.idle": "2020-08-16T20:14:00.415558Z",
     "shell.execute_reply": "2020-08-16T20:14:00.415949Z"
    },
    "papermill": {
     "duration": 0.050683,
     "end_time": "2020-08-16T20:14:00.416066",
     "exception": false,
     "start_time": "2020-08-16T20:14:00.365383",
     "status": "completed"
    },
    "tags": []
   },
   "outputs": [],
   "source": [
    "learner2 = Learner(loss, model_logistic, opt, config.num_epochs)\n",
    "acc2 = ClfCallback(learner2, config.bs, training_xdata , testing_xdata, training_ydata, testing_ydata)\n",
    "learner2.set_callbacks([acc2])"
   ]
  },
  {
   "cell_type": "code",
   "execution_count": 23,
   "metadata": {
    "execution": {
     "iopub.execute_input": "2020-08-16T20:14:00.493218Z",
     "iopub.status.busy": "2020-08-16T20:14:00.492649Z",
     "iopub.status.idle": "2020-08-16T20:14:15.488589Z",
     "shell.execute_reply": "2020-08-16T20:14:15.489324Z"
    },
    "papermill": {
     "duration": 15.039626,
     "end_time": "2020-08-16T20:14:15.489496",
     "exception": false,
     "start_time": "2020-08-16T20:14:00.449870",
     "status": "completed"
    },
    "tags": []
   },
   "outputs": [
    {
     "name": "stdout",
     "output_type": "stream",
     "text": [
      "Epoch 0 Loss 0.23832761846661374\n",
      "train accuracy is: 0.6956267734935737, test accuracy is 0.6814516129032258\n"
     ]
    },
    {
     "name": "stdout",
     "output_type": "stream",
     "text": [
      "Epoch 10 Loss 0.10764639873019008\n",
      "train accuracy is: 0.8923385077616425, test accuracy is 0.8971774193548387\n"
     ]
    },
    {
     "name": "stdout",
     "output_type": "stream",
     "text": [
      "Epoch 20 Loss 0.08245900808541792\n",
      "train accuracy is: 0.9194625271240193, test accuracy is 0.9284274193548387\n"
     ]
    },
    {
     "name": "stdout",
     "output_type": "stream",
     "text": [
      "Epoch 30 Loss 0.07051260758372956\n",
      "train accuracy is: 0.9316474712068102, test accuracy is 0.9420362903225806\n"
     ]
    },
    {
     "name": "stdout",
     "output_type": "stream",
     "text": [
      "Epoch 40 Loss 0.0633114841575612\n",
      "train accuracy is: 0.9386579869804708, test accuracy is 0.9495967741935484\n"
     ]
    },
    {
     "name": "stdout",
     "output_type": "stream",
     "text": [
      "Epoch 50 Loss 0.05843169633640322\n",
      "train accuracy is: 0.9424136204306459, test accuracy is 0.9536290322580645\n"
     ]
    },
    {
     "name": "stdout",
     "output_type": "stream",
     "text": [
      "Epoch 60 Loss 0.05487224281681133\n",
      "train accuracy is: 0.9455015857119012, test accuracy is 0.954133064516129\n"
     ]
    },
    {
     "name": "stdout",
     "output_type": "stream",
     "text": [
      "Epoch 70 Loss 0.05214022253864976\n",
      "train accuracy is: 0.9475880487397763, test accuracy is 0.9566532258064516\n"
     ]
    },
    {
     "name": "stdout",
     "output_type": "stream",
     "text": [
      "Epoch 80 Loss 0.04996506235892137\n",
      "train accuracy is: 0.9494241362043064, test accuracy is 0.9591733870967742\n"
     ]
    },
    {
     "name": "stdout",
     "output_type": "stream",
     "text": [
      "Epoch 90 Loss 0.048180457348130326\n",
      "train accuracy is: 0.9503421799365716, test accuracy is 0.9601814516129032\n"
     ]
    },
    {
     "name": "stdout",
     "output_type": "stream",
     "text": [
      "Epoch 100 Loss 0.04668544577586391\n",
      "train accuracy is: 0.9518444333166416, test accuracy is 0.9621975806451613\n"
     ]
    },
    {
     "name": "stdout",
     "output_type": "stream",
     "text": [
      "Epoch 110 Loss 0.0454071089635186\n",
      "train accuracy is: 0.9537639793022867, test accuracy is 0.9621975806451613\n"
     ]
    },
    {
     "name": "stdout",
     "output_type": "stream",
     "text": [
      "Epoch 120 Loss 0.04429960590562708\n",
      "train accuracy is: 0.9545985645134368, test accuracy is 0.9632056451612904\n"
     ]
    },
    {
     "name": "stdout",
     "output_type": "stream",
     "text": [
      "Epoch 130 Loss 0.04332693415924617\n",
      "train accuracy is: 0.9553496912034719, test accuracy is 0.9632056451612904\n"
     ]
    },
    {
     "name": "stdout",
     "output_type": "stream",
     "text": [
      "Epoch 140 Loss 0.042464866116693756\n",
      "train accuracy is: 0.9559339008512769, test accuracy is 0.9647177419354839\n"
     ]
    },
    {
     "name": "stdout",
     "output_type": "stream",
     "text": [
      "Epoch 150 Loss 0.04169137232350617\n",
      "train accuracy is: 0.956434651977967, test accuracy is 0.9657258064516129\n"
     ]
    },
    {
     "name": "stdout",
     "output_type": "stream",
     "text": [
      "Epoch 160 Loss 0.04099419548662359\n",
      "train accuracy is: 0.956851944583542, test accuracy is 0.9672379032258065\n"
     ]
    },
    {
     "name": "stdout",
     "output_type": "stream",
     "text": [
      "Epoch 170 Loss 0.040360981827178226\n",
      "train accuracy is: 0.957269237189117, test accuracy is 0.9672379032258065\n"
     ]
    },
    {
     "name": "stdout",
     "output_type": "stream",
     "text": [
      "Epoch 180 Loss 0.03978179864562739\n",
      "train accuracy is: 0.9577699883158071, test accuracy is 0.967741935483871\n"
     ]
    },
    {
     "name": "stdout",
     "output_type": "stream",
     "text": [
      "Epoch 190 Loss 0.0392494373594892\n",
      "train accuracy is: 0.9584376564847271, test accuracy is 0.967741935483871\n"
     ]
    },
    {
     "name": "stdout",
     "output_type": "stream",
     "text": [
      "Epoch 200 Loss 0.038758243074199845\n",
      "train accuracy is: 0.9585211150058421, test accuracy is 0.9682459677419355\n"
     ]
    },
    {
     "name": "stdout",
     "output_type": "stream",
     "text": [
      "Epoch 210 Loss 0.03830262718683189\n",
      "train accuracy is: 0.9588549490903021, test accuracy is 0.96875\n"
     ]
    },
    {
     "name": "stdout",
     "output_type": "stream",
     "text": [
      "Epoch 220 Loss 0.03787820373273117\n",
      "train accuracy is: 0.9591887831747622, test accuracy is 0.96875\n"
     ]
    },
    {
     "name": "stdout",
     "output_type": "stream",
     "text": [
      "Epoch 230 Loss 0.037481953490140746\n",
      "train accuracy is: 0.9597729928225672, test accuracy is 0.96875\n"
     ]
    },
    {
     "name": "stdout",
     "output_type": "stream",
     "text": [
      "Epoch 240 Loss 0.03711082690997451\n",
      "train accuracy is: 0.9600233683859122, test accuracy is 0.96875\n"
     ]
    },
    {
     "data": {
      "text/plain": [
       "0.07303166434485683"
      ]
     },
     "execution_count": 23,
     "metadata": {},
     "output_type": "execute_result"
    }
   ],
   "source": [
    "learner2.train_loop(dl)"
   ]
  },
  {
   "cell_type": "markdown",
   "metadata": {
    "papermill": {
     "duration": 0.043594,
     "end_time": "2020-08-16T20:14:15.577777",
     "exception": false,
     "start_time": "2020-08-16T20:14:15.534183",
     "status": "completed"
    },
    "tags": []
   },
   "source": [
    "### Comparing results of NN and LR"
   ]
  },
  {
   "cell_type": "code",
   "execution_count": 24,
   "metadata": {
    "execution": {
     "iopub.execute_input": "2020-08-16T20:14:15.674268Z",
     "iopub.status.busy": "2020-08-16T20:14:15.673210Z",
     "iopub.status.idle": "2020-08-16T20:14:15.875145Z",
     "shell.execute_reply": "2020-08-16T20:14:15.875648Z"
    },
    "papermill": {
     "duration": 0.253333,
     "end_time": "2020-08-16T20:14:15.875816",
     "exception": false,
     "start_time": "2020-08-16T20:14:15.622483",
     "status": "completed"
    },
    "tags": []
   },
   "outputs": [
    {
     "data": {
      "text/plain": [
       "<matplotlib.legend.Legend at 0x7f723139a8d0>"
      ]
     },
     "execution_count": 24,
     "metadata": {},
     "output_type": "execute_result"
    },
    {
     "data": {
      "image/png": "[encoded data removed]",
      "text/plain": [
       "<Figure size 576x360 with 1 Axes>"
      ]
     },
     "metadata": {
      "needs_background": "light"
     },
     "output_type": "display_data"
    }
   ],
   "source": [
    "plt.figure(figsize=(8,5))\n",
    "plt.plot(acc1.val_accuracies, 'g-', label = \"Val Accuracies - NN\")\n",
    "plt.plot(acc1.accuracies, 'r-', label = \"Accuracies - NN\")\n",
    "plt.plot(acc2.val_accuracies, 'b-', label = \"Val Accuracies - Logistic Reg\")\n",
    "plt.plot(acc2.accuracies, 'k-', label = \"Accuracies - Logistic Reg\")\n",
    "plt.ylim(0.8,1) ## for a more spread out view\n",
    "plt.legend()"
   ]
  },
  {
   "cell_type": "markdown",
   "metadata": {
    "papermill": {
     "duration": 0.045422,
     "end_time": "2020-08-16T20:14:15.965976",
     "exception": false,
     "start_time": "2020-08-16T20:14:15.920554",
     "status": "completed"
    },
    "tags": []
   },
   "source": [
    "### Clearly NN has a better accuracy over LR; NN is overfitting - Validation accuracy (green) has dropped below training accuracy (orange), also they are diverging. This problem is not seen in LR"
   ]
  },
  {
   "cell_type": "markdown",
   "metadata": {
    "papermill": {
     "duration": 0.04285,
     "end_time": "2020-08-16T20:14:16.049435",
     "exception": false,
     "start_time": "2020-08-16T20:14:16.006585",
     "status": "completed"
    },
    "tags": []
   },
   "source": [
    "##### Now we will be moving through the network, till the output of the second last affine where we get a 2 dimensional output. We will be plotting this 2d output and probability contours"
   ]
  },
  {
   "cell_type": "code",
   "execution_count": 25,
   "metadata": {
    "execution": {
     "iopub.execute_input": "2020-08-16T20:14:16.146226Z",
     "iopub.status.busy": "2020-08-16T20:14:16.145628Z",
     "iopub.status.idle": "2020-08-16T20:14:16.159395Z",
     "shell.execute_reply": "2020-08-16T20:14:16.158922Z"
    },
    "papermill": {
     "duration": 0.063227,
     "end_time": "2020-08-16T20:14:16.159522",
     "exception": false,
     "start_time": "2020-08-16T20:14:16.096295",
     "status": "completed"
    },
    "tags": []
   },
   "outputs": [],
   "source": [
    "model_new = Model(layers[:-2])"
   ]
  },
  {
   "cell_type": "code",
   "execution_count": 26,
   "metadata": {
    "execution": {
     "iopub.execute_input": "2020-08-16T20:14:16.253498Z",
     "iopub.status.busy": "2020-08-16T20:14:16.252914Z",
     "iopub.status.idle": "2020-08-16T20:14:16.272277Z",
     "shell.execute_reply": "2020-08-16T20:14:16.272746Z"
    },
    "papermill": {
     "duration": 0.06935,
     "end_time": "2020-08-16T20:14:16.273015",
     "exception": false,
     "start_time": "2020-08-16T20:14:16.203665",
     "status": "completed"
    },
    "tags": []
   },
   "outputs": [],
   "source": [
    "plot_testing = model_new(testing_xdata)"
   ]
  },
  {
   "cell_type": "markdown",
   "metadata": {
    "papermill": {
     "duration": 0.057033,
     "end_time": "2020-08-16T20:14:16.378719",
     "exception": false,
     "start_time": "2020-08-16T20:14:16.321686",
     "status": "completed"
    },
    "tags": []
   },
   "source": [
    "##### Plotting the scatter plot of points and color coding by class"
   ]
  },
  {
   "cell_type": "code",
   "execution_count": 27,
   "metadata": {
    "execution": {
     "iopub.execute_input": "2020-08-16T20:14:16.498954Z",
     "iopub.status.busy": "2020-08-16T20:14:16.498413Z",
     "iopub.status.idle": "2020-08-16T20:14:16.712137Z",
     "shell.execute_reply": "2020-08-16T20:14:16.712640Z"
    },
    "papermill": {
     "duration": 0.286675,
     "end_time": "2020-08-16T20:14:16.712795",
     "exception": false,
     "start_time": "2020-08-16T20:14:16.426120",
     "status": "completed"
    },
    "tags": []
   },
   "outputs": [
    {
     "data": {
      "image/png": "[encoded data removed]",
      "text/plain": [
       "<Figure size 576x504 with 1 Axes>"
      ]
     },
     "metadata": {
      "needs_background": "light"
     },
     "output_type": "display_data"
    }
   ],
   "source": [
    "plt.figure(figsize=(8,7))\n",
    "plt.scatter(plot_testing[:,0], plot_testing[:,1], alpha = 0.1, c = y_test.ravel());"
   ]
  },
  {
   "cell_type": "markdown",
   "metadata": {
    "papermill": {
     "duration": 0.049526,
     "end_time": "2020-08-16T20:14:16.813078",
     "exception": false,
     "start_time": "2020-08-16T20:14:16.763552",
     "status": "completed"
    },
    "tags": []
   },
   "source": [
    "##### Plotting probability contours"
   ]
  },
  {
   "cell_type": "code",
   "execution_count": 28,
   "metadata": {
    "execution": {
     "iopub.execute_input": "2020-08-16T20:14:16.920424Z",
     "iopub.status.busy": "2020-08-16T20:14:16.919851Z",
     "iopub.status.idle": "2020-08-16T20:14:16.932643Z",
     "shell.execute_reply": "2020-08-16T20:14:16.933101Z"
    },
    "papermill": {
     "duration": 0.069019,
     "end_time": "2020-08-16T20:14:16.933235",
     "exception": false,
     "start_time": "2020-08-16T20:14:16.864216",
     "status": "completed"
    },
    "tags": []
   },
   "outputs": [],
   "source": [
    "model_prob = Model(layers[-2:]) ## picking only last two layers to get probability. That is affine followed by sigmoid"
   ]
  },
  {
   "cell_type": "code",
   "execution_count": 29,
   "metadata": {
    "execution": {
     "iopub.execute_input": "2020-08-16T20:14:17.033948Z",
     "iopub.status.busy": "2020-08-16T20:14:17.033358Z",
     "iopub.status.idle": "2020-08-16T20:14:17.046574Z",
     "shell.execute_reply": "2020-08-16T20:14:17.046947Z"
    },
    "papermill": {
     "duration": 0.066283,
     "end_time": "2020-08-16T20:14:17.047070",
     "exception": false,
     "start_time": "2020-08-16T20:14:16.980787",
     "status": "completed"
    },
    "tags": []
   },
   "outputs": [],
   "source": [
    "xgrid = np.linspace(-4, 1, 100) ## Adjust these values based on above chart, roughly -4 to 1\n",
    "ygrid = np.linspace(-7.5, 7.5, 100) ## Adjust these values based on above chart, roughly -7.5, 7.5\n",
    "xg, yg = np.meshgrid(xgrid, ygrid)\n",
    "# xg and yg are now both 100X100, lets convert them to single arrays \n",
    "\n",
    "xg_interim = np.ravel(xg)\n",
    "yg_interim = np.ravel(yg)\n",
    "\n",
    "## xg_interim, yg_interim are now arrays of len 10000, now we will stack them and then transpose to get desired shape of n rows, 2 columns\n",
    "\n",
    "X_interim = np.vstack((xg_interim, yg_interim)) ## Please note vstack takes in a tuple\n",
    "X = X_interim.T\n",
    "\n",
    "## We want a shape of n rows and 2 columns to be able to feed this to last affine\n",
    "## This last affine takes only two columns, hence the above transformation\n",
    "probability_contour = model_prob(X).reshape(100,100) ## to make it consistent with xg, yg"
   ]
  },
  {
   "cell_type": "code",
   "execution_count": 30,
   "metadata": {
    "execution": {
     "iopub.execute_input": "2020-08-16T20:14:17.154225Z",
     "iopub.status.busy": "2020-08-16T20:14:17.153566Z",
     "iopub.status.idle": "2020-08-16T20:14:17.403221Z",
     "shell.execute_reply": "2020-08-16T20:14:17.403698Z"
    },
    "papermill": {
     "duration": 0.307639,
     "end_time": "2020-08-16T20:14:17.403854",
     "exception": false,
     "start_time": "2020-08-16T20:14:17.096215",
     "status": "completed"
    },
    "tags": []
   },
   "outputs": [
    {
     "data": {
      "image/png": "[encoded data removed]",
      "text/plain": [
       "<Figure size 576x504 with 1 Axes>"
      ]
     },
     "metadata": {
      "needs_background": "light"
     },
     "output_type": "display_data"
    }
   ],
   "source": [
    "plt.figure(figsize=(8,7))\n",
    "plt.scatter(plot_testing[:,0], plot_testing[:,1], alpha = 0.1, c = y_test.ravel())\n",
    "contours = plt.contour(xg,yg,probability_contour)\n",
    "plt.clabel(contours, inline = True );"
   ]
  }
 ],
 "metadata": {
  "kernelspec": {
   "display_name": "Python 3",
   "language": "python",
   "name": "python3"
  },
  "language_info": {
   "codemirror_mode": {
    "name": "ipython",
    "version": 3
   },
   "file_extension": ".py",
   "mimetype": "text/x-python",
   "name": "python",
   "nbconvert_exporter": "python",
   "pygments_lexer": "ipython3",
   "version": "3.6.11"
  },
  "papermill": {
   "duration": 102.293979,
   "end_time": "2020-08-16T20:14:18.865229",
   "environment_variables": {},
   "exception": null,
   "input_path": "2020-08-07-NN-new.ipynb",
   "output_path": "2020-08-07-NN-new.ipynb",
   "parameters": {},
   "start_time": "2020-08-16T20:12:36.571250",
   "version": "2.1.2"
  }
 },
 "nbformat": 4,
 "nbformat_minor": 4
}