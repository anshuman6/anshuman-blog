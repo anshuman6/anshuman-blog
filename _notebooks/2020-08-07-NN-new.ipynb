{
 "cells": [
  {
   "cell_type": "markdown",
   "metadata": {
    "papermill": {
     "duration": 0.035846,
     "end_time": "2020-08-22T00:28:34.602554",
     "exception": false,
     "start_time": "2020-08-22T00:28:34.566708",
     "status": "completed"
    },
    "tags": []
   },
   "source": [
    "# \"Building a basic Neural Network from scratch - Kudzu\"\n",
    "\n",
    "- badges: true\n",
    "- author: Anshuman Gupta"
   ]
  },
  {
   "cell_type": "markdown",
   "metadata": {
    "papermill": {
     "duration": 0.030508,
     "end_time": "2020-08-22T00:28:34.663550",
     "exception": false,
     "start_time": "2020-08-22T00:28:34.633042",
     "status": "completed"
    },
    "tags": []
   },
   "source": [
    "#### In this project, the idea is to write a classifier to differentiate between handwritten digits 3 and 8, from the MNIST database.\n",
    "\n",
    "#### I will using a custom built neural network library called Kudzu.This has been developed as a part of KTF/Foundations course of Univ.ai (www.univ.ai). The source code for Kudzu Library and and this notebook can be found on my git-hub profile : www.https://github.com/anshuman6 under the folder project-solution. Any feedback and comments are welcome. Please feel free to email me at: anshuman6@gmail.com\n",
    "\n",
    "#### 1. I will be using the MNIST database. \n",
    "\n",
    "#### 2. I will be comparing the results of the 4 layer NN to a standard logistic regression"
   ]
  },
  {
   "cell_type": "markdown",
   "metadata": {
    "papermill": {
     "duration": 0.031479,
     "end_time": "2020-08-22T00:28:34.725856",
     "exception": false,
     "start_time": "2020-08-22T00:28:34.694377",
     "status": "completed"
    },
    "tags": []
   },
   "source": [
    "##### Importing all the necessary libraries"
   ]
  },
  {
   "cell_type": "code",
   "execution_count": 1,
   "metadata": {
    "execution": {
     "iopub.execute_input": "2020-08-22T00:28:34.794643Z",
     "iopub.status.busy": "2020-08-22T00:28:34.793982Z",
     "iopub.status.idle": "2020-08-22T00:28:34.806083Z",
     "shell.execute_reply": "2020-08-22T00:28:34.806633Z"
    },
    "papermill": {
     "duration": 0.048614,
     "end_time": "2020-08-22T00:28:34.806810",
     "exception": false,
     "start_time": "2020-08-22T00:28:34.758196",
     "status": "completed"
    },
    "tags": []
   },
   "outputs": [],
   "source": [
    "%load_ext autoreload\n",
    "%autoreload 2"
   ]
  },
  {
   "cell_type": "code",
   "execution_count": 2,
   "metadata": {
    "execution": {
     "iopub.execute_input": "2020-08-22T00:28:34.873674Z",
     "iopub.status.busy": "2020-08-22T00:28:34.873024Z",
     "iopub.status.idle": "2020-08-22T00:28:35.484183Z",
     "shell.execute_reply": "2020-08-22T00:28:35.483560Z"
    },
    "papermill": {
     "duration": 0.645872,
     "end_time": "2020-08-22T00:28:35.484376",
     "exception": false,
     "start_time": "2020-08-22T00:28:34.838504",
     "status": "completed"
    },
    "tags": []
   },
   "outputs": [],
   "source": [
    "%matplotlib inline\n",
    "import numpy as np\n",
    "import matplotlib.pyplot as plt\n",
    "import pandas as pd"
   ]
  },
  {
   "cell_type": "markdown",
   "metadata": {
    "papermill": {
     "duration": 0.03294,
     "end_time": "2020-08-22T00:28:35.555529",
     "exception": false,
     "start_time": "2020-08-22T00:28:35.522589",
     "status": "completed"
    },
    "tags": []
   },
   "source": [
    "##### The following command helps us download MNIST from notebook itself. You can skip this if you already have MNIST. You can also download it via your terminal."
   ]
  },
  {
   "cell_type": "code",
   "execution_count": 3,
   "metadata": {
    "execution": {
     "iopub.execute_input": "2020-08-22T00:28:35.630468Z",
     "iopub.status.busy": "2020-08-22T00:28:35.629804Z",
     "iopub.status.idle": "2020-08-22T00:28:37.198682Z",
     "shell.execute_reply": "2020-08-22T00:28:37.198055Z"
    },
    "papermill": {
     "duration": 1.607277,
     "end_time": "2020-08-22T00:28:37.198849",
     "exception": false,
     "start_time": "2020-08-22T00:28:35.591572",
     "status": "completed"
    },
    "tags": []
   },
   "outputs": [
    {
     "name": "stdout",
     "output_type": "stream",
     "text": [
      "Collecting mnist\r\n"
     ]
    },
    {
     "name": "stdout",
     "output_type": "stream",
     "text": [
      "  Downloading mnist-0.2.2-py2.py3-none-any.whl (3.5 kB)\r\n"
     ]
    },
    {
     "name": "stdout",
     "output_type": "stream",
     "text": [
      "Requirement already satisfied: numpy in /opt/hostedtoolcache/Python/3.6.11/x64/lib/python3.6/site-packages (from mnist) (1.19.1)\r\n"
     ]
    },
    {
     "name": "stdout",
     "output_type": "stream",
     "text": [
      "Installing collected packages: mnist\r\n"
     ]
    },
    {
     "name": "stdout",
     "output_type": "stream",
     "text": [
      "Successfully installed mnist-0.2.2\r\n"
     ]
    }
   ],
   "source": [
    "!pip install mnist # Please note, it is commented out for now, you can remove comment if you want to install it"
   ]
  },
  {
   "cell_type": "markdown",
   "metadata": {
    "papermill": {
     "duration": 0.036245,
     "end_time": "2020-08-22T00:28:37.270895",
     "exception": false,
     "start_time": "2020-08-22T00:28:37.234650",
     "status": "completed"
    },
    "tags": []
   },
   "source": [
    "#### Preparing the Data"
   ]
  },
  {
   "cell_type": "code",
   "execution_count": 4,
   "metadata": {
    "execution": {
     "iopub.execute_input": "2020-08-22T00:28:37.375071Z",
     "iopub.status.busy": "2020-08-22T00:28:37.373831Z",
     "iopub.status.idle": "2020-08-22T00:28:37.378024Z",
     "shell.execute_reply": "2020-08-22T00:28:37.377409Z"
    },
    "papermill": {
     "duration": 0.071145,
     "end_time": "2020-08-22T00:28:37.378174",
     "exception": false,
     "start_time": "2020-08-22T00:28:37.307029",
     "status": "completed"
    },
    "tags": []
   },
   "outputs": [],
   "source": [
    "import mnist"
   ]
  },
  {
   "cell_type": "code",
   "execution_count": 5,
   "metadata": {
    "execution": {
     "iopub.execute_input": "2020-08-22T00:28:37.455199Z",
     "iopub.status.busy": "2020-08-22T00:28:37.454488Z",
     "iopub.status.idle": "2020-08-22T00:28:38.341488Z",
     "shell.execute_reply": "2020-08-22T00:28:38.340600Z"
    },
    "papermill": {
     "duration": 0.927521,
     "end_time": "2020-08-22T00:28:38.341653",
     "exception": false,
     "start_time": "2020-08-22T00:28:37.414132",
     "status": "completed"
    },
    "tags": []
   },
   "outputs": [],
   "source": [
    "train_images = mnist.train_images()\n",
    "train_labels = mnist.train_labels()"
   ]
  },
  {
   "cell_type": "code",
   "execution_count": 6,
   "metadata": {
    "execution": {
     "iopub.execute_input": "2020-08-22T00:28:38.431333Z",
     "iopub.status.busy": "2020-08-22T00:28:38.425848Z",
     "iopub.status.idle": "2020-08-22T00:28:38.435311Z",
     "shell.execute_reply": "2020-08-22T00:28:38.434396Z"
    },
    "papermill": {
     "duration": 0.058041,
     "end_time": "2020-08-22T00:28:38.435460",
     "exception": false,
     "start_time": "2020-08-22T00:28:38.377419",
     "status": "completed"
    },
    "tags": []
   },
   "outputs": [
    {
     "data": {
      "text/plain": [
       "((60000, 28, 28), (60000,))"
      ]
     },
     "execution_count": 6,
     "metadata": {},
     "output_type": "execute_result"
    }
   ],
   "source": [
    "train_images.shape, train_labels.shape"
   ]
  },
  {
   "cell_type": "code",
   "execution_count": 7,
   "metadata": {
    "execution": {
     "iopub.execute_input": "2020-08-22T00:28:38.512732Z",
     "iopub.status.busy": "2020-08-22T00:28:38.511970Z",
     "iopub.status.idle": "2020-08-22T00:28:38.779994Z",
     "shell.execute_reply": "2020-08-22T00:28:38.780637Z"
    },
    "papermill": {
     "duration": 0.30804,
     "end_time": "2020-08-22T00:28:38.780832",
     "exception": false,
     "start_time": "2020-08-22T00:28:38.472792",
     "status": "completed"
    },
    "tags": []
   },
   "outputs": [],
   "source": [
    "test_images = mnist.test_images()\n",
    "test_labels = mnist.test_labels()"
   ]
  },
  {
   "cell_type": "code",
   "execution_count": 8,
   "metadata": {
    "execution": {
     "iopub.execute_input": "2020-08-22T00:28:38.870304Z",
     "iopub.status.busy": "2020-08-22T00:28:38.865264Z",
     "iopub.status.idle": "2020-08-22T00:28:38.874096Z",
     "shell.execute_reply": "2020-08-22T00:28:38.873480Z"
    },
    "papermill": {
     "duration": 0.057002,
     "end_time": "2020-08-22T00:28:38.874246",
     "exception": false,
     "start_time": "2020-08-22T00:28:38.817244",
     "status": "completed"
    },
    "tags": []
   },
   "outputs": [
    {
     "data": {
      "text/plain": [
       "((10000, 28, 28), (10000,))"
      ]
     },
     "execution_count": 8,
     "metadata": {},
     "output_type": "execute_result"
    }
   ],
   "source": [
    "test_images.shape, test_labels.shape"
   ]
  },
  {
   "cell_type": "code",
   "execution_count": 9,
   "metadata": {
    "execution": {
     "iopub.execute_input": "2020-08-22T00:28:38.960258Z",
     "iopub.status.busy": "2020-08-22T00:28:38.959590Z",
     "iopub.status.idle": "2020-08-22T00:28:39.140990Z",
     "shell.execute_reply": "2020-08-22T00:28:39.140415Z"
    },
    "papermill": {
     "duration": 0.22892,
     "end_time": "2020-08-22T00:28:39.141138",
     "exception": false,
     "start_time": "2020-08-22T00:28:38.912218",
     "status": "completed"
    },
    "tags": []
   },
   "outputs": [
    {
     "name": "stdout",
     "output_type": "stream",
     "text": [
      "2\n"
     ]
    },
    {
     "data": {
      "text/plain": [
       "<matplotlib.image.AxesImage at 0x7f13b4869128>"
      ]
     },
     "execution_count": 9,
     "metadata": {},
     "output_type": "execute_result"
    },
    {
     "data": {
      "image/png": "[encoded data removed]",
      "text/plain": [
       "<Figure size 432x288 with 1 Axes>"
      ]
     },
     "metadata": {
      "needs_background": "light"
     },
     "output_type": "display_data"
    }
   ],
   "source": [
    "image_index = 7776 # You may select anything up to 60,000\n",
    "print(train_labels[image_index]) \n",
    "plt.imshow(train_images[image_index], cmap='Greys')"
   ]
  },
  {
   "cell_type": "markdown",
   "metadata": {
    "papermill": {
     "duration": 0.035053,
     "end_time": "2020-08-22T00:28:39.211280",
     "exception": false,
     "start_time": "2020-08-22T00:28:39.176227",
     "status": "completed"
    },
    "tags": []
   },
   "source": [
    "## Filter data to get 3 and 8 out"
   ]
  },
  {
   "cell_type": "code",
   "execution_count": 10,
   "metadata": {
    "execution": {
     "iopub.execute_input": "2020-08-22T00:28:39.288669Z",
     "iopub.status.busy": "2020-08-22T00:28:39.287969Z",
     "iopub.status.idle": "2020-08-22T00:28:39.306217Z",
     "shell.execute_reply": "2020-08-22T00:28:39.305662Z"
    },
    "papermill": {
     "duration": 0.061042,
     "end_time": "2020-08-22T00:28:39.306373",
     "exception": false,
     "start_time": "2020-08-22T00:28:39.245331",
     "status": "completed"
    },
    "tags": []
   },
   "outputs": [],
   "source": [
    "train_filter = np.where((train_labels == 3 ) | (train_labels == 8))\n",
    "test_filter = np.where((test_labels == 3) | (test_labels == 8))\n",
    "X_train, y_train = train_images[train_filter], train_labels[train_filter]\n",
    "X_test, y_test = test_images[test_filter], test_labels[test_filter]"
   ]
  },
  {
   "cell_type": "markdown",
   "metadata": {
    "papermill": {
     "duration": 0.043153,
     "end_time": "2020-08-22T00:28:39.391028",
     "exception": false,
     "start_time": "2020-08-22T00:28:39.347875",
     "status": "completed"
    },
    "tags": []
   },
   "source": [
    "##### We normalize the pizel values in the 0 to 1 range"
   ]
  },
  {
   "cell_type": "code",
   "execution_count": 11,
   "metadata": {
    "execution": {
     "iopub.execute_input": "2020-08-22T00:28:39.473987Z",
     "iopub.status.busy": "2020-08-22T00:28:39.473332Z",
     "iopub.status.idle": "2020-08-22T00:28:39.541150Z",
     "shell.execute_reply": "2020-08-22T00:28:39.540487Z"
    },
    "papermill": {
     "duration": 0.110081,
     "end_time": "2020-08-22T00:28:39.541317",
     "exception": false,
     "start_time": "2020-08-22T00:28:39.431236",
     "status": "completed"
    },
    "tags": []
   },
   "outputs": [],
   "source": [
    "X_train = X_train/255.\n",
    "X_test = X_test/255."
   ]
  },
  {
   "cell_type": "markdown",
   "metadata": {
    "papermill": {
     "duration": 0.040162,
     "end_time": "2020-08-22T00:28:39.621184",
     "exception": false,
     "start_time": "2020-08-22T00:28:39.581022",
     "status": "completed"
    },
    "tags": []
   },
   "source": [
    "And setup the labels as 1 (when the digit is 3) and 0 (when the digit is 8)"
   ]
  },
  {
   "cell_type": "code",
   "execution_count": 12,
   "metadata": {
    "execution": {
     "iopub.execute_input": "2020-08-22T00:28:39.722718Z",
     "iopub.status.busy": "2020-08-22T00:28:39.721975Z",
     "iopub.status.idle": "2020-08-22T00:28:39.734758Z",
     "shell.execute_reply": "2020-08-22T00:28:39.734123Z"
    },
    "papermill": {
     "duration": 0.067682,
     "end_time": "2020-08-22T00:28:39.734914",
     "exception": false,
     "start_time": "2020-08-22T00:28:39.667232",
     "status": "completed"
    },
    "tags": []
   },
   "outputs": [],
   "source": [
    "y_train = 1*(y_train==3)\n",
    "y_test = 1*(y_test==3)"
   ]
  },
  {
   "cell_type": "code",
   "execution_count": 13,
   "metadata": {
    "execution": {
     "iopub.execute_input": "2020-08-22T00:28:39.827936Z",
     "iopub.status.busy": "2020-08-22T00:28:39.827219Z",
     "iopub.status.idle": "2020-08-22T00:28:39.841736Z",
     "shell.execute_reply": "2020-08-22T00:28:39.841050Z"
    },
    "papermill": {
     "duration": 0.063485,
     "end_time": "2020-08-22T00:28:39.841893",
     "exception": false,
     "start_time": "2020-08-22T00:28:39.778408",
     "status": "completed"
    },
    "tags": []
   },
   "outputs": [
    {
     "data": {
      "text/plain": [
       "((11982, 28, 28), (1984, 28, 28))"
      ]
     },
     "execution_count": 13,
     "metadata": {},
     "output_type": "execute_result"
    }
   ],
   "source": [
    "X_train.shape, X_test.shape"
   ]
  },
  {
   "cell_type": "markdown",
   "metadata": {
    "papermill": {
     "duration": 0.040502,
     "end_time": "2020-08-22T00:28:39.921501",
     "exception": false,
     "start_time": "2020-08-22T00:28:39.880999",
     "status": "completed"
    },
    "tags": []
   },
   "source": [
    "##### We reshape the data to flatten the image pixels into a set of features or co-variates:"
   ]
  },
  {
   "cell_type": "code",
   "execution_count": 14,
   "metadata": {
    "execution": {
     "iopub.execute_input": "2020-08-22T00:28:40.022483Z",
     "iopub.status.busy": "2020-08-22T00:28:40.017777Z",
     "iopub.status.idle": "2020-08-22T00:28:40.025876Z",
     "shell.execute_reply": "2020-08-22T00:28:40.026509Z"
    },
    "papermill": {
     "duration": 0.063649,
     "end_time": "2020-08-22T00:28:40.026680",
     "exception": false,
     "start_time": "2020-08-22T00:28:39.963031",
     "status": "completed"
    },
    "tags": []
   },
   "outputs": [
    {
     "data": {
      "text/plain": [
       "((11982, 784), (1984, 784))"
      ]
     },
     "execution_count": 14,
     "metadata": {},
     "output_type": "execute_result"
    }
   ],
   "source": [
    "X_train = X_train.reshape(X_train.shape[0], -1)\n",
    "X_test = X_test.reshape(X_test.shape[0], -1)\n",
    "X_train.shape, X_test.shape"
   ]
  },
  {
   "cell_type": "markdown",
   "metadata": {
    "papermill": {
     "duration": 0.041336,
     "end_time": "2020-08-22T00:28:40.115388",
     "exception": false,
     "start_time": "2020-08-22T00:28:40.074052",
     "status": "completed"
    },
    "tags": []
   },
   "source": [
    "##### Importing Kudzu library and its functionality"
   ]
  },
  {
   "cell_type": "code",
   "execution_count": 15,
   "metadata": {
    "execution": {
     "iopub.execute_input": "2020-08-22T00:28:40.203579Z",
     "iopub.status.busy": "2020-08-22T00:28:40.202926Z",
     "iopub.status.idle": "2020-08-22T00:28:40.224102Z",
     "shell.execute_reply": "2020-08-22T00:28:40.224781Z"
    },
    "papermill": {
     "duration": 0.067321,
     "end_time": "2020-08-22T00:28:40.224937",
     "exception": false,
     "start_time": "2020-08-22T00:28:40.157616",
     "status": "completed"
    },
    "tags": []
   },
   "outputs": [],
   "source": [
    "from kudzu.data import Data, Dataloader, Sampler\n",
    "from kudzu.callbacks import AccCallback\n",
    "from kudzu.loss import MSE\n",
    "from kudzu.layer import Affine, Sigmoid\n",
    "from kudzu.model import Model\n",
    "from kudzu.optim import GD\n",
    "from kudzu.train import Learner\n",
    "from kudzu.callbacks import ClfCallback\n",
    "from kudzu.layer import Sigmoid\n",
    "from kudzu.layer import Relu"
   ]
  },
  {
   "cell_type": "markdown",
   "metadata": {
    "papermill": {
     "duration": 0.040166,
     "end_time": "2020-08-22T00:28:40.304950",
     "exception": false,
     "start_time": "2020-08-22T00:28:40.264784",
     "status": "completed"
    },
    "tags": []
   },
   "source": [
    "##### We are creating a class, just so that we can use it to store our parameters for us"
   ]
  },
  {
   "cell_type": "code",
   "execution_count": 16,
   "metadata": {
    "execution": {
     "iopub.execute_input": "2020-08-22T00:28:40.385196Z",
     "iopub.status.busy": "2020-08-22T00:28:40.384538Z",
     "iopub.status.idle": "2020-08-22T00:28:40.397821Z",
     "shell.execute_reply": "2020-08-22T00:28:40.398455Z"
    },
    "papermill": {
     "duration": 0.055495,
     "end_time": "2020-08-22T00:28:40.398608",
     "exception": false,
     "start_time": "2020-08-22T00:28:40.343113",
     "status": "completed"
    },
    "tags": []
   },
   "outputs": [],
   "source": [
    "class Config:\n",
    "    pass\n",
    "config = Config()\n",
    "config.lr = 0.001\n",
    "config.num_epochs = 250\n",
    "config.bs = 50"
   ]
  },
  {
   "cell_type": "markdown",
   "metadata": {
    "papermill": {
     "duration": 0.034892,
     "end_time": "2020-08-22T00:28:40.467604",
     "exception": false,
     "start_time": "2020-08-22T00:28:40.432712",
     "status": "completed"
    },
    "tags": []
   },
   "source": [
    "##### Initializing Data"
   ]
  },
  {
   "cell_type": "code",
   "execution_count": 17,
   "metadata": {
    "execution": {
     "iopub.execute_input": "2020-08-22T00:28:40.545760Z",
     "iopub.status.busy": "2020-08-22T00:28:40.545103Z",
     "iopub.status.idle": "2020-08-22T00:28:40.557423Z",
     "shell.execute_reply": "2020-08-22T00:28:40.558052Z"
    },
    "papermill": {
     "duration": 0.054562,
     "end_time": "2020-08-22T00:28:40.558199",
     "exception": false,
     "start_time": "2020-08-22T00:28:40.503637",
     "status": "completed"
    },
    "tags": []
   },
   "outputs": [],
   "source": [
    "data = Data(X_train, y_train.reshape(-1,1))\n",
    "loss = MSE()\n",
    "opt = GD(config.lr)\n",
    "sampler = Sampler(data, config.bs, shuffle=True)\n",
    "dl = Dataloader(data, sampler)"
   ]
  },
  {
   "cell_type": "markdown",
   "metadata": {
    "papermill": {
     "duration": 0.036929,
     "end_time": "2020-08-22T00:28:40.631714",
     "exception": false,
     "start_time": "2020-08-22T00:28:40.594785",
     "status": "completed"
    },
    "tags": []
   },
   "source": [
    "##### Constructing 2 different layers, one for NN and one only for logistic regression."
   ]
  },
  {
   "cell_type": "markdown",
   "metadata": {
    "papermill": {
     "duration": 0.042793,
     "end_time": "2020-08-22T00:28:40.713749",
     "exception": false,
     "start_time": "2020-08-22T00:28:40.670956",
     "status": "completed"
    },
    "tags": []
   },
   "source": [
    "##### Creating containers for data to be passed, to calculate accuracies"
   ]
  },
  {
   "cell_type": "code",
   "execution_count": 18,
   "metadata": {
    "execution": {
     "iopub.execute_input": "2020-08-22T00:28:40.803928Z",
     "iopub.status.busy": "2020-08-22T00:28:40.803193Z",
     "iopub.status.idle": "2020-08-22T00:28:40.815798Z",
     "shell.execute_reply": "2020-08-22T00:28:40.815139Z"
    },
    "papermill": {
     "duration": 0.060622,
     "end_time": "2020-08-22T00:28:40.815957",
     "exception": false,
     "start_time": "2020-08-22T00:28:40.755335",
     "status": "completed"
    },
    "tags": []
   },
   "outputs": [],
   "source": [
    "training_xdata = X_train\n",
    "testing_xdata = X_test\n",
    "training_ydata = y_train.reshape(-1,1)\n",
    "testing_ydata = y_test.reshape(-1,1)"
   ]
  },
  {
   "cell_type": "markdown",
   "metadata": {
    "papermill": {
     "duration": 0.033889,
     "end_time": "2020-08-22T00:28:40.885656",
     "exception": false,
     "start_time": "2020-08-22T00:28:40.851767",
     "status": "completed"
    },
    "tags": []
   },
   "source": [
    "##### Initializing models and Running training loop: "
   ]
  },
  {
   "cell_type": "code",
   "execution_count": 19,
   "metadata": {
    "execution": {
     "iopub.execute_input": "2020-08-22T00:28:40.984268Z",
     "iopub.status.busy": "2020-08-22T00:28:40.975651Z",
     "iopub.status.idle": "2020-08-22T00:28:40.986621Z",
     "shell.execute_reply": "2020-08-22T00:28:40.987208Z"
    },
    "papermill": {
     "duration": 0.065406,
     "end_time": "2020-08-22T00:28:40.987380",
     "exception": false,
     "start_time": "2020-08-22T00:28:40.921974",
     "status": "completed"
    },
    "tags": []
   },
   "outputs": [],
   "source": [
    "layers = [Affine(\"first\", 784, 100), Relu(\"first\"), Affine(\"second\", 100, 100), Relu(\"second\"), Affine(\"third\", 100, 2), Affine(\"final\", 2, 1), Sigmoid(\"final\")]\n",
    "\n",
    "model_neural = Model(layers)\n",
    "model_logistic = Model([Affine(\"logits\", 784, 1), Sigmoid(\"sigmoid\")])"
   ]
  },
  {
   "cell_type": "code",
   "execution_count": 20,
   "metadata": {
    "execution": {
     "iopub.execute_input": "2020-08-22T00:28:41.067353Z",
     "iopub.status.busy": "2020-08-22T00:28:41.066699Z",
     "iopub.status.idle": "2020-08-22T00:28:41.076857Z",
     "shell.execute_reply": "2020-08-22T00:28:41.076295Z"
    },
    "papermill": {
     "duration": 0.053921,
     "end_time": "2020-08-22T00:28:41.077001",
     "exception": false,
     "start_time": "2020-08-22T00:28:41.023080",
     "status": "completed"
    },
    "tags": []
   },
   "outputs": [],
   "source": [
    "learner1 = Learner(loss, model_neural, opt, config.num_epochs)\n",
    "acc1 = ClfCallback(learner1, config.bs, training_xdata , testing_xdata, training_ydata, testing_ydata)\n",
    "learner1.set_callbacks([acc1])"
   ]
  },
  {
   "cell_type": "code",
   "execution_count": 21,
   "metadata": {
    "execution": {
     "iopub.execute_input": "2020-08-22T00:28:41.153835Z",
     "iopub.status.busy": "2020-08-22T00:28:41.153190Z",
     "iopub.status.idle": "2020-08-22T00:30:49.932477Z",
     "shell.execute_reply": "2020-08-22T00:30:49.931892Z"
    },
    "papermill": {
     "duration": 128.817912,
     "end_time": "2020-08-22T00:30:49.932629",
     "exception": false,
     "start_time": "2020-08-22T00:28:41.114717",
     "status": "completed"
    },
    "tags": []
   },
   "outputs": [
    {
     "name": "stdout",
     "output_type": "stream",
     "text": [
      "Epoch 0 Loss 0.24526888437926928\n",
      "train accuracy is: 0.656401268569521, test accuracy is 0.6421370967741935\n"
     ]
    },
    {
     "name": "stdout",
     "output_type": "stream",
     "text": [
      "Epoch 10 Loss 0.09024455840358246\n",
      "train accuracy is: 0.9165414788849942, test accuracy is 0.9233870967741935\n"
     ]
    },
    {
     "name": "stdout",
     "output_type": "stream",
     "text": [
      "Epoch 20 Loss 0.0553738539767646\n",
      "train accuracy is: 0.9414121181772659, test accuracy is 0.9546370967741935\n"
     ]
    },
    {
     "name": "stdout",
     "output_type": "stream",
     "text": [
      "Epoch 30 Loss 0.04370310712073794\n",
      "train accuracy is: 0.9510098481054916, test accuracy is 0.9601814516129032\n"
     ]
    },
    {
     "name": "stdout",
     "output_type": "stream",
     "text": [
      "Epoch 40 Loss 0.037958898292618545\n",
      "train accuracy is: 0.956935403104657, test accuracy is 0.9637096774193549\n"
     ]
    },
    {
     "name": "stdout",
     "output_type": "stream",
     "text": [
      "Epoch 50 Loss 0.03449738182375585\n",
      "train accuracy is: 0.9605241195126022, test accuracy is 0.9647177419354839\n"
     ]
    },
    {
     "name": "stdout",
     "output_type": "stream",
     "text": [
      "Epoch 60 Loss 0.03212102875384925\n",
      "train accuracy is: 0.9631113336671674, test accuracy is 0.9667338709677419\n"
     ]
    },
    {
     "name": "stdout",
     "output_type": "stream",
     "text": [
      "Epoch 70 Loss 0.030351267627023303\n",
      "train accuracy is: 0.9647805040894676, test accuracy is 0.9682459677419355\n"
     ]
    },
    {
     "name": "stdout",
     "output_type": "stream",
     "text": [
      "Epoch 80 Loss 0.028948618582473305\n",
      "train accuracy is: 0.9658654648639626, test accuracy is 0.9702620967741935\n"
     ]
    },
    {
     "name": "stdout",
     "output_type": "stream",
     "text": [
      "Epoch 90 Loss 0.027764458193295455\n",
      "train accuracy is: 0.9671173426806877, test accuracy is 0.969758064516129\n"
     ]
    },
    {
     "name": "stdout",
     "output_type": "stream",
     "text": [
      "Epoch 100 Loss 0.02675140256476947\n",
      "train accuracy is: 0.9688699716241028, test accuracy is 0.9707661290322581\n"
     ]
    },
    {
     "name": "stdout",
     "output_type": "stream",
     "text": [
      "Epoch 110 Loss 0.025871493455686335\n",
      "train accuracy is: 0.9695376397930229, test accuracy is 0.9712701612903226\n"
     ]
    },
    {
     "name": "stdout",
     "output_type": "stream",
     "text": [
      "Epoch 120 Loss 0.025105958908187422\n",
      "train accuracy is: 0.970372225004173, test accuracy is 0.9717741935483871\n"
     ]
    },
    {
     "name": "stdout",
     "output_type": "stream",
     "text": [
      "Epoch 130 Loss 0.024419831023667207\n",
      "train accuracy is: 0.9711233516942079, test accuracy is 0.9717741935483871\n"
     ]
    },
    {
     "name": "stdout",
     "output_type": "stream",
     "text": [
      "Epoch 140 Loss 0.02379934796488666\n",
      "train accuracy is: 0.9722083124687031, test accuracy is 0.9717741935483871\n"
     ]
    },
    {
     "name": "stdout",
     "output_type": "stream",
     "text": [
      "Epoch 150 Loss 0.023219292371647236\n",
      "train accuracy is: 0.9729594391587381, test accuracy is 0.9722782258064516\n"
     ]
    },
    {
     "name": "stdout",
     "output_type": "stream",
     "text": [
      "Epoch 160 Loss 0.022684614605931578\n",
      "train accuracy is: 0.9734601902854282, test accuracy is 0.9717741935483871\n"
     ]
    },
    {
     "name": "stdout",
     "output_type": "stream",
     "text": [
      "Epoch 170 Loss 0.022189825781324623\n",
      "train accuracy is: 0.9743782340176932, test accuracy is 0.9727822580645161\n"
     ]
    },
    {
     "name": "stdout",
     "output_type": "stream",
     "text": [
      "Epoch 180 Loss 0.021725127132726285\n",
      "train accuracy is: 0.9747955266232682, test accuracy is 0.9727822580645161\n"
     ]
    },
    {
     "name": "stdout",
     "output_type": "stream",
     "text": [
      "Epoch 190 Loss 0.02128322373667246\n",
      "train accuracy is: 0.9756301118344183, test accuracy is 0.9732862903225806\n"
     ]
    },
    {
     "name": "stdout",
     "output_type": "stream",
     "text": [
      "Epoch 200 Loss 0.02086517340034219\n",
      "train accuracy is: 0.9761308629611083, test accuracy is 0.9727822580645161\n"
     ]
    },
    {
     "name": "stdout",
     "output_type": "stream",
     "text": [
      "Epoch 210 Loss 0.0204656372804168\n",
      "train accuracy is: 0.9765481555666834, test accuracy is 0.9727822580645161\n"
     ]
    },
    {
     "name": "stdout",
     "output_type": "stream",
     "text": [
      "Epoch 220 Loss 0.020082668728552296\n",
      "train accuracy is: 0.9774661992989484, test accuracy is 0.9722782258064516\n"
     ]
    },
    {
     "name": "stdout",
     "output_type": "stream",
     "text": [
      "Epoch 230 Loss 0.01971345318907356\n",
      "train accuracy is: 0.9777165748622935, test accuracy is 0.9727822580645161\n"
     ]
    },
    {
     "name": "stdout",
     "output_type": "stream",
     "text": [
      "Epoch 240 Loss 0.01936025538994022\n",
      "train accuracy is: 0.9777165748622935, test accuracy is 0.9727822580645161\n"
     ]
    },
    {
     "data": {
      "text/plain": [
       "0.012939742732587231"
      ]
     },
     "execution_count": 21,
     "metadata": {},
     "output_type": "execute_result"
    }
   ],
   "source": [
    "learner1.train_loop(dl)"
   ]
  },
  {
   "cell_type": "markdown",
   "metadata": {
    "papermill": {
     "duration": 0.044025,
     "end_time": "2020-08-22T00:30:50.020624",
     "exception": false,
     "start_time": "2020-08-22T00:30:49.976599",
     "status": "completed"
    },
    "tags": []
   },
   "source": [
    "##### Now running only the logistic regression based classification to compare results with NN"
   ]
  },
  {
   "cell_type": "code",
   "execution_count": 22,
   "metadata": {
    "execution": {
     "iopub.execute_input": "2020-08-22T00:30:50.128312Z",
     "iopub.status.busy": "2020-08-22T00:30:50.127632Z",
     "iopub.status.idle": "2020-08-22T00:30:50.139008Z",
     "shell.execute_reply": "2020-08-22T00:30:50.139536Z"
    },
    "papermill": {
     "duration": 0.074174,
     "end_time": "2020-08-22T00:30:50.139715",
     "exception": false,
     "start_time": "2020-08-22T00:30:50.065541",
     "status": "completed"
    },
    "tags": []
   },
   "outputs": [],
   "source": [
    "learner2 = Learner(loss, model_logistic, opt, config.num_epochs)\n",
    "acc2 = ClfCallback(learner2, config.bs, training_xdata , testing_xdata, training_ydata, testing_ydata)\n",
    "learner2.set_callbacks([acc2])"
   ]
  },
  {
   "cell_type": "code",
   "execution_count": 23,
   "metadata": {
    "execution": {
     "iopub.execute_input": "2020-08-22T00:30:50.250384Z",
     "iopub.status.busy": "2020-08-22T00:30:50.245161Z",
     "iopub.status.idle": "2020-08-22T00:31:09.584262Z",
     "shell.execute_reply": "2020-08-22T00:31:09.585150Z"
    },
    "papermill": {
     "duration": 19.396746,
     "end_time": "2020-08-22T00:31:09.585320",
     "exception": false,
     "start_time": "2020-08-22T00:30:50.188574",
     "status": "completed"
    },
    "tags": []
   },
   "outputs": [
    {
     "name": "stdout",
     "output_type": "stream",
     "text": [
      "Epoch 0 Loss 0.24882805209901265\n",
      "train accuracy is: 0.64304790519112, test accuracy is 0.6527217741935484\n"
     ]
    },
    {
     "name": "stdout",
     "output_type": "stream",
     "text": [
      "Epoch 10 Loss 0.10219631289638167\n",
      "train accuracy is: 0.913620430645969, test accuracy is 0.9233870967741935\n"
     ]
    },
    {
     "name": "stdout",
     "output_type": "stream",
     "text": [
      "Epoch 20 Loss 0.07805158803326018\n",
      "train accuracy is: 0.9298948422633951, test accuracy is 0.9450604838709677\n"
     ]
    },
    {
     "name": "stdout",
     "output_type": "stream",
     "text": [
      "Epoch 30 Loss 0.06715180799178945\n",
      "train accuracy is: 0.9392421966282758, test accuracy is 0.9506048387096774\n"
     ]
    },
    {
     "name": "stdout",
     "output_type": "stream",
     "text": [
      "Epoch 40 Loss 0.06065463531674327\n",
      "train accuracy is: 0.943665498247371, test accuracy is 0.952116935483871\n"
     ]
    },
    {
     "name": "stdout",
     "output_type": "stream",
     "text": [
      "Epoch 50 Loss 0.056250901564174755\n",
      "train accuracy is: 0.9467534635286263, test accuracy is 0.9556451612903226\n"
     ]
    },
    {
     "name": "stdout",
     "output_type": "stream",
     "text": [
      "Epoch 60 Loss 0.05302749689453237\n",
      "train accuracy is: 0.9486730095142714, test accuracy is 0.9561491935483871\n"
     ]
    },
    {
     "name": "stdout",
     "output_type": "stream",
     "text": [
      "Epoch 70 Loss 0.050542952025514155\n",
      "train accuracy is: 0.9507594725421465, test accuracy is 0.9566532258064516\n"
     ]
    },
    {
     "name": "stdout",
     "output_type": "stream",
     "text": [
      "Epoch 80 Loss 0.04855530671294452\n",
      "train accuracy is: 0.9521782674011017, test accuracy is 0.9591733870967742\n"
     ]
    },
    {
     "name": "stdout",
     "output_type": "stream",
     "text": [
      "Epoch 90 Loss 0.04692066470344982\n",
      "train accuracy is: 0.9533466866967117, test accuracy is 0.9596774193548387\n"
     ]
    },
    {
     "name": "stdout",
     "output_type": "stream",
     "text": [
      "Epoch 100 Loss 0.04554406260305284\n",
      "train accuracy is: 0.9542647304289767, test accuracy is 0.9606854838709677\n"
     ]
    },
    {
     "name": "stdout",
     "output_type": "stream",
     "text": [
      "Epoch 110 Loss 0.04436454338570461\n",
      "train accuracy is: 0.9545151059923218, test accuracy is 0.9611895161290323\n"
     ]
    },
    {
     "name": "stdout",
     "output_type": "stream",
     "text": [
      "Epoch 120 Loss 0.04333906937066657\n",
      "train accuracy is: 0.9550158571190118, test accuracy is 0.9616935483870968\n"
     ]
    },
    {
     "name": "stdout",
     "output_type": "stream",
     "text": [
      "Epoch 130 Loss 0.042436301038399314\n",
      "train accuracy is: 0.9556835252879319, test accuracy is 0.9632056451612904\n"
     ]
    },
    {
     "name": "stdout",
     "output_type": "stream",
     "text": [
      "Epoch 140 Loss 0.04163364208694399\n",
      "train accuracy is: 0.956017359372392, test accuracy is 0.9632056451612904\n"
     ]
    },
    {
     "name": "stdout",
     "output_type": "stream",
     "text": [
      "Epoch 150 Loss 0.04091215159732949\n",
      "train accuracy is: 0.957018861625772, test accuracy is 0.9642137096774194\n"
     ]
    },
    {
     "name": "stdout",
     "output_type": "stream",
     "text": [
      "Epoch 160 Loss 0.04026062196115349\n",
      "train accuracy is: 0.9577699883158071, test accuracy is 0.9652217741935484\n"
     ]
    },
    {
     "name": "stdout",
     "output_type": "stream",
     "text": [
      "Epoch 170 Loss 0.039667230609581654\n",
      "train accuracy is: 0.9582707394424971, test accuracy is 0.9652217741935484\n"
     ]
    },
    {
     "name": "stdout",
     "output_type": "stream",
     "text": [
      "Epoch 180 Loss 0.03912394216972372\n",
      "train accuracy is: 0.9587714905691871, test accuracy is 0.9652217741935484\n"
     ]
    },
    {
     "name": "stdout",
     "output_type": "stream",
     "text": [
      "Epoch 190 Loss 0.03862388617881734\n",
      "train accuracy is: 0.9592722416958771, test accuracy is 0.9652217741935484\n"
     ]
    },
    {
     "name": "stdout",
     "output_type": "stream",
     "text": [
      "Epoch 200 Loss 0.03816201914945491\n",
      "train accuracy is: 0.9597729928225672, test accuracy is 0.9652217741935484\n"
     ]
    },
    {
     "name": "stdout",
     "output_type": "stream",
     "text": [
      "Epoch 210 Loss 0.03773272854717783\n",
      "train accuracy is: 0.9601068269070272, test accuracy is 0.9647177419354839\n"
     ]
    },
    {
     "name": "stdout",
     "output_type": "stream",
     "text": [
      "Epoch 220 Loss 0.03733264851395267\n",
      "train accuracy is: 0.9602737439492572, test accuracy is 0.9647177419354839\n"
     ]
    },
    {
     "name": "stdout",
     "output_type": "stream",
     "text": [
      "Epoch 230 Loss 0.0369583892226744\n",
      "train accuracy is: 0.9603572024703723, test accuracy is 0.9642137096774194\n"
     ]
    },
    {
     "name": "stdout",
     "output_type": "stream",
     "text": [
      "Epoch 240 Loss 0.0366076743871632\n",
      "train accuracy is: 0.9605241195126022, test accuracy is 0.9637096774193549\n"
     ]
    },
    {
     "data": {
      "text/plain": [
       "0.10447369257245323"
      ]
     },
     "execution_count": 23,
     "metadata": {},
     "output_type": "execute_result"
    }
   ],
   "source": [
    "learner2.train_loop(dl)"
   ]
  },
  {
   "cell_type": "markdown",
   "metadata": {
    "papermill": {
     "duration": 0.05771,
     "end_time": "2020-08-22T00:31:09.695353",
     "exception": false,
     "start_time": "2020-08-22T00:31:09.637643",
     "status": "completed"
    },
    "tags": []
   },
   "source": [
    "### Comparing results of NN and LR"
   ]
  },
  {
   "cell_type": "code",
   "execution_count": 24,
   "metadata": {
    "execution": {
     "iopub.execute_input": "2020-08-22T00:31:09.858205Z",
     "iopub.status.busy": "2020-08-22T00:31:09.836333Z",
     "iopub.status.idle": "2020-08-22T00:31:10.091213Z",
     "shell.execute_reply": "2020-08-22T00:31:10.091778Z"
    },
    "papermill": {
     "duration": 0.336196,
     "end_time": "2020-08-22T00:31:10.091951",
     "exception": false,
     "start_time": "2020-08-22T00:31:09.755755",
     "status": "completed"
    },
    "tags": []
   },
   "outputs": [
    {
     "data": {
      "text/plain": [
       "<matplotlib.legend.Legend at 0x7f13b443f7f0>"
      ]
     },
     "execution_count": 24,
     "metadata": {},
     "output_type": "execute_result"
    },
    {
     "data": {
      "image/png": "[encoded data removed]",
      "text/plain": [
       "<Figure size 576x360 with 1 Axes>"
      ]
     },
     "metadata": {
      "needs_background": "light"
     },
     "output_type": "display_data"
    }
   ],
   "source": [
    "plt.figure(figsize=(8,5))\n",
    "plt.plot(acc1.val_accuracies, 'g-', label = \"Val Accuracies - NN\")\n",
    "plt.plot(acc1.accuracies, 'r-', label = \"Accuracies - NN\")\n",
    "plt.plot(acc2.val_accuracies, 'b-', label = \"Val Accuracies - Logistic Reg\")\n",
    "plt.plot(acc2.accuracies, 'k-', label = \"Accuracies - Logistic Reg\")\n",
    "plt.ylim(0.8,1) ## for a more spread out view\n",
    "plt.legend()"
   ]
  },
  {
   "cell_type": "markdown",
   "metadata": {
    "papermill": {
     "duration": 0.055239,
     "end_time": "2020-08-22T00:31:10.201415",
     "exception": false,
     "start_time": "2020-08-22T00:31:10.146176",
     "status": "completed"
    },
    "tags": []
   },
   "source": [
    "### Clearly NN has a better accuracy over LR; NN is overfitting - Validation accuracy (green) has dropped below training accuracy (orange), also they are diverging. This problem is not seen in LR"
   ]
  },
  {
   "cell_type": "markdown",
   "metadata": {
    "papermill": {
     "duration": 0.052278,
     "end_time": "2020-08-22T00:31:10.306833",
     "exception": false,
     "start_time": "2020-08-22T00:31:10.254555",
     "status": "completed"
    },
    "tags": []
   },
   "source": [
    "##### Now we will be moving through the network, till the output of the second last affine where we get a 2 dimensional output. We will be plotting this 2d output and probability contours"
   ]
  },
  {
   "cell_type": "code",
   "execution_count": 25,
   "metadata": {
    "execution": {
     "iopub.execute_input": "2020-08-22T00:31:10.433585Z",
     "iopub.status.busy": "2020-08-22T00:31:10.429175Z",
     "iopub.status.idle": "2020-08-22T00:31:10.436114Z",
     "shell.execute_reply": "2020-08-22T00:31:10.436683Z"
    },
    "papermill": {
     "duration": 0.075584,
     "end_time": "2020-08-22T00:31:10.436836",
     "exception": false,
     "start_time": "2020-08-22T00:31:10.361252",
     "status": "completed"
    },
    "tags": []
   },
   "outputs": [],
   "source": [
    "model_new = Model(layers[:-2])"
   ]
  },
  {
   "cell_type": "code",
   "execution_count": 26,
   "metadata": {
    "execution": {
     "iopub.execute_input": "2020-08-22T00:31:10.552578Z",
     "iopub.status.busy": "2020-08-22T00:31:10.551734Z",
     "iopub.status.idle": "2020-08-22T00:31:10.576304Z",
     "shell.execute_reply": "2020-08-22T00:31:10.577142Z"
    },
    "papermill": {
     "duration": 0.084271,
     "end_time": "2020-08-22T00:31:10.577332",
     "exception": false,
     "start_time": "2020-08-22T00:31:10.493061",
     "status": "completed"
    },
    "tags": []
   },
   "outputs": [],
   "source": [
    "plot_testing = model_new(testing_xdata)"
   ]
  },
  {
   "cell_type": "markdown",
   "metadata": {
    "papermill": {
     "duration": 0.086557,
     "end_time": "2020-08-22T00:31:10.726045",
     "exception": false,
     "start_time": "2020-08-22T00:31:10.639488",
     "status": "completed"
    },
    "tags": []
   },
   "source": [
    "##### Plotting the scatter plot of points and color coding by class"
   ]
  },
  {
   "cell_type": "code",
   "execution_count": 27,
   "metadata": {
    "execution": {
     "iopub.execute_input": "2020-08-22T00:31:10.855729Z",
     "iopub.status.busy": "2020-08-22T00:31:10.854948Z",
     "iopub.status.idle": "2020-08-22T00:31:11.101099Z",
     "shell.execute_reply": "2020-08-22T00:31:11.101708Z"
    },
    "papermill": {
     "duration": 0.31174,
     "end_time": "2020-08-22T00:31:11.101955",
     "exception": false,
     "start_time": "2020-08-22T00:31:10.790215",
     "status": "completed"
    },
    "tags": []
   },
   "outputs": [
    {
     "data": {
      "image/png": "[encoded data removed]",
      "text/plain": [
       "<Figure size 576x504 with 1 Axes>"
      ]
     },
     "metadata": {
      "needs_background": "light"
     },
     "output_type": "display_data"
    }
   ],
   "source": [
    "plt.figure(figsize=(8,7))\n",
    "plt.scatter(plot_testing[:,0], plot_testing[:,1], alpha = 0.1, c = y_test.ravel());"
   ]
  },
  {
   "cell_type": "markdown",
   "metadata": {
    "papermill": {
     "duration": 0.062764,
     "end_time": "2020-08-22T00:31:11.229760",
     "exception": false,
     "start_time": "2020-08-22T00:31:11.166996",
     "status": "completed"
    },
    "tags": []
   },
   "source": [
    "##### Plotting probability contours"
   ]
  },
  {
   "cell_type": "code",
   "execution_count": 28,
   "metadata": {
    "execution": {
     "iopub.execute_input": "2020-08-22T00:31:11.362139Z",
     "iopub.status.busy": "2020-08-22T00:31:11.361406Z",
     "iopub.status.idle": "2020-08-22T00:31:11.375260Z",
     "shell.execute_reply": "2020-08-22T00:31:11.374409Z"
    },
    "papermill": {
     "duration": 0.084093,
     "end_time": "2020-08-22T00:31:11.375416",
     "exception": false,
     "start_time": "2020-08-22T00:31:11.291323",
     "status": "completed"
    },
    "tags": []
   },
   "outputs": [],
   "source": [
    "model_prob = Model(layers[-2:]) ## picking only last two layers to get probability. That is affine followed by sigmoid"
   ]
  },
  {
   "cell_type": "code",
   "execution_count": 29,
   "metadata": {
    "execution": {
     "iopub.execute_input": "2020-08-22T00:31:11.500240Z",
     "iopub.status.busy": "2020-08-22T00:31:11.499565Z",
     "iopub.status.idle": "2020-08-22T00:31:11.516265Z",
     "shell.execute_reply": "2020-08-22T00:31:11.516813Z"
    },
    "papermill": {
     "duration": 0.081362,
     "end_time": "2020-08-22T00:31:11.516982",
     "exception": false,
     "start_time": "2020-08-22T00:31:11.435620",
     "status": "completed"
    },
    "tags": []
   },
   "outputs": [],
   "source": [
    "xgrid = np.linspace(-4, 1, 100) ## Adjust these values based on above chart, roughly -4 to 1\n",
    "ygrid = np.linspace(-7.5, 7.5, 100) ## Adjust these values based on above chart, roughly -7.5, 7.5\n",
    "xg, yg = np.meshgrid(xgrid, ygrid)\n",
    "# xg and yg are now both 100X100, lets convert them to single arrays \n",
    "\n",
    "xg_interim = np.ravel(xg)\n",
    "yg_interim = np.ravel(yg)\n",
    "\n",
    "## xg_interim, yg_interim are now arrays of len 10000, now we will stack them and then transpose to get desired shape of n rows, 2 columns\n",
    "\n",
    "X_interim = np.vstack((xg_interim, yg_interim)) ## Please note vstack takes in a tuple\n",
    "X = X_interim.T\n",
    "\n",
    "## We want a shape of n rows and 2 columns to be able to feed this to last affine\n",
    "## This last affine takes only two columns, hence the above transformation\n",
    "probability_contour = model_prob(X).reshape(100,100) ## to make it consistent with xg, yg"
   ]
  },
  {
   "cell_type": "code",
   "execution_count": 30,
   "metadata": {
    "execution": {
     "iopub.execute_input": "2020-08-22T00:31:11.635034Z",
     "iopub.status.busy": "2020-08-22T00:31:11.634366Z",
     "iopub.status.idle": "2020-08-22T00:31:11.926456Z",
     "shell.execute_reply": "2020-08-22T00:31:11.927026Z"
    },
    "papermill": {
     "duration": 0.352506,
     "end_time": "2020-08-22T00:31:11.927212",
     "exception": false,
     "start_time": "2020-08-22T00:31:11.574706",
     "status": "completed"
    },
    "tags": []
   },
   "outputs": [
    {
     "data": {
      "image/png": "[encoded data removed]",
      "text/plain": [
       "<Figure size 576x504 with 1 Axes>"
      ]
     },
     "metadata": {
      "needs_background": "light"
     },
     "output_type": "display_data"
    }
   ],
   "source": [
    "plt.figure(figsize=(8,7))\n",
    "plt.scatter(plot_testing[:,0], plot_testing[:,1], alpha = 0.1, c = y_test.ravel())\n",
    "contours = plt.contour(xg,yg,probability_contour)\n",
    "plt.clabel(contours, inline = True );"
   ]
  }
 ],
 "metadata": {
  "kernelspec": {
   "display_name": "Python 3",
   "language": "python",
   "name": "python3"
  },
  "language_info": {
   "codemirror_mode": {
    "name": "ipython",
    "version": 3
   },
   "file_extension": ".py",
   "mimetype": "text/x-python",
   "name": "python",
   "nbconvert_exporter": "python",
   "pygments_lexer": "ipython3",
   "version": "3.6.11"
  },
  "papermill": {
   "duration": 159.033985,
   "end_time": "2020-08-22T00:31:12.401525",
   "environment_variables": {},
   "exception": null,
   "input_path": "2020-08-07-NN-new.ipynb",
   "output_path": "2020-08-07-NN-new.ipynb",
   "parameters": {},
   "start_time": "2020-08-22T00:28:33.367540",
   "version": "2.1.2"
  }
 },
 "nbformat": 4,
 "nbformat_minor": 4
}