{
 "cells": [
  {
   "cell_type": "markdown",
   "metadata": {
    "papermill": {
     "duration": 0.032664,
     "end_time": "2020-08-14T20:13:15.396971",
     "exception": false,
     "start_time": "2020-08-14T20:13:15.364307",
     "status": "completed"
    },
    "tags": []
   },
   "source": [
    "# \"Building a basic Neural Network from scratch - Kudzu\"\n",
    "\n",
    "- badges: true\n",
    "- author: Anshuman Gupta"
   ]
  },
  {
   "cell_type": "markdown",
   "metadata": {
    "papermill": {
     "duration": 0.029322,
     "end_time": "2020-08-14T20:13:15.455953",
     "exception": false,
     "start_time": "2020-08-14T20:13:15.426631",
     "status": "completed"
    },
    "tags": []
   },
   "source": [
    "#### In this project, the idea is to write a classifier to differentiate between handwritten digits 3 and 8, from the MNIST database.\n",
    "\n",
    "#### I will using a custom built neural network library called Kudzu.This has been developed as a part of KTF/Foundations course of Univ.ai (www.univ.ai). The source code for Kudzu Library and and this notebook can be found on my git-hub profile : www.https://github.com/anshuman6 under the folder project-solution. Any feedback and comments are welcome. Please feel free to email me at: anshuman6@gmail.com\n",
    "\n",
    "#### 1. I will be using the MNIST database. \n",
    "\n",
    "#### 2. I will be comparing the results of the 4 layer NN to a standard logistic regression"
   ]
  },
  {
   "cell_type": "markdown",
   "metadata": {
    "papermill": {
     "duration": 0.029787,
     "end_time": "2020-08-14T20:13:15.514501",
     "exception": false,
     "start_time": "2020-08-14T20:13:15.484714",
     "status": "completed"
    },
    "tags": []
   },
   "source": [
    "##### Importing all the necessary libraries"
   ]
  },
  {
   "cell_type": "code",
   "execution_count": 1,
   "metadata": {
    "execution": {
     "iopub.execute_input": "2020-08-14T20:13:15.579816Z",
     "iopub.status.busy": "2020-08-14T20:13:15.579154Z",
     "iopub.status.idle": "2020-08-14T20:13:15.590475Z",
     "shell.execute_reply": "2020-08-14T20:13:15.589905Z"
    },
    "papermill": {
     "duration": 0.04623,
     "end_time": "2020-08-14T20:13:15.590628",
     "exception": false,
     "start_time": "2020-08-14T20:13:15.544398",
     "status": "completed"
    },
    "tags": []
   },
   "outputs": [],
   "source": [
    "%load_ext autoreload\n",
    "%autoreload 2"
   ]
  },
  {
   "cell_type": "code",
   "execution_count": 2,
   "metadata": {
    "execution": {
     "iopub.execute_input": "2020-08-14T20:13:15.654479Z",
     "iopub.status.busy": "2020-08-14T20:13:15.653835Z",
     "iopub.status.idle": "2020-08-14T20:13:16.225806Z",
     "shell.execute_reply": "2020-08-14T20:13:16.225211Z"
    },
    "papermill": {
     "duration": 0.605171,
     "end_time": "2020-08-14T20:13:16.225960",
     "exception": false,
     "start_time": "2020-08-14T20:13:15.620789",
     "status": "completed"
    },
    "tags": []
   },
   "outputs": [],
   "source": [
    "%matplotlib inline\n",
    "import numpy as np\n",
    "import matplotlib.pyplot as plt\n",
    "import pandas as pd"
   ]
  },
  {
   "cell_type": "markdown",
   "metadata": {
    "papermill": {
     "duration": 0.030401,
     "end_time": "2020-08-14T20:13:16.286380",
     "exception": false,
     "start_time": "2020-08-14T20:13:16.255979",
     "status": "completed"
    },
    "tags": []
   },
   "source": [
    "##### The following command helps us download MNIST from notebook itself. You can skip this if you already have MNIST. You can also download it via your terminal."
   ]
  },
  {
   "cell_type": "code",
   "execution_count": 3,
   "metadata": {
    "execution": {
     "iopub.execute_input": "2020-08-14T20:13:16.349823Z",
     "iopub.status.busy": "2020-08-14T20:13:16.349149Z",
     "iopub.status.idle": "2020-08-14T20:13:18.053974Z",
     "shell.execute_reply": "2020-08-14T20:13:18.054490Z"
    },
    "papermill": {
     "duration": 1.739091,
     "end_time": "2020-08-14T20:13:18.054664",
     "exception": false,
     "start_time": "2020-08-14T20:13:16.315573",
     "status": "completed"
    },
    "tags": []
   },
   "outputs": [
    {
     "name": "stdout",
     "output_type": "stream",
     "text": [
      "Collecting mnist\r\n"
     ]
    },
    {
     "name": "stdout",
     "output_type": "stream",
     "text": [
      "  Downloading mnist-0.2.2-py2.py3-none-any.whl (3.5 kB)\r\n"
     ]
    },
    {
     "name": "stdout",
     "output_type": "stream",
     "text": [
      "Requirement already satisfied: numpy in /opt/hostedtoolcache/Python/3.6.11/x64/lib/python3.6/site-packages (from mnist) (1.19.1)\r\n"
     ]
    },
    {
     "name": "stdout",
     "output_type": "stream",
     "text": [
      "Installing collected packages: mnist\r\n"
     ]
    },
    {
     "name": "stdout",
     "output_type": "stream",
     "text": [
      "Successfully installed mnist-0.2.2\r\n"
     ]
    },
    {
     "name": "stdout",
     "output_type": "stream",
     "text": [
      "\u001b[33mWARNING: You are using pip version 20.2.1; however, version 20.2.2 is available.\r\n",
      "You should consider upgrading via the '/opt/hostedtoolcache/Python/3.6.11/x64/bin/python -m pip install --upgrade pip' command.\u001b[0m\r\n"
     ]
    }
   ],
   "source": [
    "!pip install mnist # Please note, it is commented out for now, you can remove comment if you want to install it"
   ]
  },
  {
   "cell_type": "markdown",
   "metadata": {
    "papermill": {
     "duration": 0.030749,
     "end_time": "2020-08-14T20:13:18.117544",
     "exception": false,
     "start_time": "2020-08-14T20:13:18.086795",
     "status": "completed"
    },
    "tags": []
   },
   "source": [
    "#### Preparing the Data"
   ]
  },
  {
   "cell_type": "code",
   "execution_count": 4,
   "metadata": {
    "execution": {
     "iopub.execute_input": "2020-08-14T20:13:18.185621Z",
     "iopub.status.busy": "2020-08-14T20:13:18.184209Z",
     "iopub.status.idle": "2020-08-14T20:13:18.198754Z",
     "shell.execute_reply": "2020-08-14T20:13:18.198198Z"
    },
    "papermill": {
     "duration": 0.050787,
     "end_time": "2020-08-14T20:13:18.198921",
     "exception": false,
     "start_time": "2020-08-14T20:13:18.148134",
     "status": "completed"
    },
    "tags": []
   },
   "outputs": [],
   "source": [
    "import mnist"
   ]
  },
  {
   "cell_type": "code",
   "execution_count": 5,
   "metadata": {
    "execution": {
     "iopub.execute_input": "2020-08-14T20:13:18.266999Z",
     "iopub.status.busy": "2020-08-14T20:13:18.266366Z",
     "iopub.status.idle": "2020-08-14T20:13:20.007311Z",
     "shell.execute_reply": "2020-08-14T20:13:20.007833Z"
    },
    "papermill": {
     "duration": 1.775981,
     "end_time": "2020-08-14T20:13:20.008011",
     "exception": false,
     "start_time": "2020-08-14T20:13:18.232030",
     "status": "completed"
    },
    "tags": []
   },
   "outputs": [],
   "source": [
    "train_images = mnist.train_images()\n",
    "train_labels = mnist.train_labels()"
   ]
  },
  {
   "cell_type": "code",
   "execution_count": 6,
   "metadata": {
    "execution": {
     "iopub.execute_input": "2020-08-14T20:13:20.094948Z",
     "iopub.status.busy": "2020-08-14T20:13:20.087188Z",
     "iopub.status.idle": "2020-08-14T20:13:20.098679Z",
     "shell.execute_reply": "2020-08-14T20:13:20.098121Z"
    },
    "papermill": {
     "duration": 0.059082,
     "end_time": "2020-08-14T20:13:20.098823",
     "exception": false,
     "start_time": "2020-08-14T20:13:20.039741",
     "status": "completed"
    },
    "tags": []
   },
   "outputs": [
    {
     "data": {
      "text/plain": [
       "((60000, 28, 28), (60000,))"
      ]
     },
     "execution_count": 6,
     "metadata": {},
     "output_type": "execute_result"
    }
   ],
   "source": [
    "train_images.shape, train_labels.shape"
   ]
  },
  {
   "cell_type": "code",
   "execution_count": 7,
   "metadata": {
    "execution": {
     "iopub.execute_input": "2020-08-14T20:13:20.166226Z",
     "iopub.status.busy": "2020-08-14T20:13:20.165587Z",
     "iopub.status.idle": "2020-08-14T20:13:21.056619Z",
     "shell.execute_reply": "2020-08-14T20:13:21.057494Z"
    },
    "papermill": {
     "duration": 0.927318,
     "end_time": "2020-08-14T20:13:21.058222",
     "exception": false,
     "start_time": "2020-08-14T20:13:20.130904",
     "status": "completed"
    },
    "tags": []
   },
   "outputs": [],
   "source": [
    "test_images = mnist.test_images()\n",
    "test_labels = mnist.test_labels()"
   ]
  },
  {
   "cell_type": "code",
   "execution_count": 8,
   "metadata": {
    "execution": {
     "iopub.execute_input": "2020-08-14T20:13:21.131987Z",
     "iopub.status.busy": "2020-08-14T20:13:21.131334Z",
     "iopub.status.idle": "2020-08-14T20:13:21.145125Z",
     "shell.execute_reply": "2020-08-14T20:13:21.145783Z"
    },
    "papermill": {
     "duration": 0.05011,
     "end_time": "2020-08-14T20:13:21.145938",
     "exception": false,
     "start_time": "2020-08-14T20:13:21.095828",
     "status": "completed"
    },
    "tags": []
   },
   "outputs": [
    {
     "data": {
      "text/plain": [
       "((10000, 28, 28), (10000,))"
      ]
     },
     "execution_count": 8,
     "metadata": {},
     "output_type": "execute_result"
    }
   ],
   "source": [
    "test_images.shape, test_labels.shape"
   ]
  },
  {
   "cell_type": "code",
   "execution_count": 9,
   "metadata": {
    "execution": {
     "iopub.execute_input": "2020-08-14T20:13:21.214261Z",
     "iopub.status.busy": "2020-08-14T20:13:21.213593Z",
     "iopub.status.idle": "2020-08-14T20:13:21.399863Z",
     "shell.execute_reply": "2020-08-14T20:13:21.400399Z"
    },
    "papermill": {
     "duration": 0.222601,
     "end_time": "2020-08-14T20:13:21.400566",
     "exception": false,
     "start_time": "2020-08-14T20:13:21.177965",
     "status": "completed"
    },
    "tags": []
   },
   "outputs": [
    {
     "name": "stdout",
     "output_type": "stream",
     "text": [
      "2\n"
     ]
    },
    {
     "data": {
      "text/plain": [
       "<matplotlib.image.AxesImage at 0x7efcd57c42e8>"
      ]
     },
     "execution_count": 9,
     "metadata": {},
     "output_type": "execute_result"
    },
    {
     "data": {
      "image/png": "[encoded data removed]",
      "text/plain": [
       "<Figure size 432x288 with 1 Axes>"
      ]
     },
     "metadata": {
      "needs_background": "light"
     },
     "output_type": "display_data"
    }
   ],
   "source": [
    "image_index = 7776 # You may select anything up to 60,000\n",
    "print(train_labels[image_index]) \n",
    "plt.imshow(train_images[image_index], cmap='Greys')"
   ]
  },
  {
   "cell_type": "markdown",
   "metadata": {
    "papermill": {
     "duration": 0.032913,
     "end_time": "2020-08-14T20:13:21.466775",
     "exception": false,
     "start_time": "2020-08-14T20:13:21.433862",
     "status": "completed"
    },
    "tags": []
   },
   "source": [
    "## Filter data to get 3 and 8 out"
   ]
  },
  {
   "cell_type": "code",
   "execution_count": 10,
   "metadata": {
    "execution": {
     "iopub.execute_input": "2020-08-14T20:13:21.538136Z",
     "iopub.status.busy": "2020-08-14T20:13:21.537484Z",
     "iopub.status.idle": "2020-08-14T20:13:21.557171Z",
     "shell.execute_reply": "2020-08-14T20:13:21.556607Z"
    },
    "papermill": {
     "duration": 0.05864,
     "end_time": "2020-08-14T20:13:21.557665",
     "exception": false,
     "start_time": "2020-08-14T20:13:21.499025",
     "status": "completed"
    },
    "tags": []
   },
   "outputs": [],
   "source": [
    "train_filter = np.where((train_labels == 3 ) | (train_labels == 8))\n",
    "test_filter = np.where((test_labels == 3) | (test_labels == 8))\n",
    "X_train, y_train = train_images[train_filter], train_labels[train_filter]\n",
    "X_test, y_test = test_images[test_filter], test_labels[test_filter]"
   ]
  },
  {
   "cell_type": "markdown",
   "metadata": {
    "papermill": {
     "duration": 0.033312,
     "end_time": "2020-08-14T20:13:21.626423",
     "exception": false,
     "start_time": "2020-08-14T20:13:21.593111",
     "status": "completed"
    },
    "tags": []
   },
   "source": [
    "##### We normalize the pizel values in the 0 to 1 range"
   ]
  },
  {
   "cell_type": "code",
   "execution_count": 11,
   "metadata": {
    "execution": {
     "iopub.execute_input": "2020-08-14T20:13:21.696657Z",
     "iopub.status.busy": "2020-08-14T20:13:21.696009Z",
     "iopub.status.idle": "2020-08-14T20:13:21.760760Z",
     "shell.execute_reply": "2020-08-14T20:13:21.761519Z"
    },
    "papermill": {
     "duration": 0.102406,
     "end_time": "2020-08-14T20:13:21.761699",
     "exception": false,
     "start_time": "2020-08-14T20:13:21.659293",
     "status": "completed"
    },
    "tags": []
   },
   "outputs": [],
   "source": [
    "X_train = X_train/255.\n",
    "X_test = X_test/255."
   ]
  },
  {
   "cell_type": "markdown",
   "metadata": {
    "papermill": {
     "duration": 0.034583,
     "end_time": "2020-08-14T20:13:21.830842",
     "exception": false,
     "start_time": "2020-08-14T20:13:21.796259",
     "status": "completed"
    },
    "tags": []
   },
   "source": [
    "And setup the labels as 1 (when the digit is 3) and 0 (when the digit is 8)"
   ]
  },
  {
   "cell_type": "code",
   "execution_count": 12,
   "metadata": {
    "execution": {
     "iopub.execute_input": "2020-08-14T20:13:21.906701Z",
     "iopub.status.busy": "2020-08-14T20:13:21.906055Z",
     "iopub.status.idle": "2020-08-14T20:13:21.920634Z",
     "shell.execute_reply": "2020-08-14T20:13:21.920067Z"
    },
    "papermill": {
     "duration": 0.055738,
     "end_time": "2020-08-14T20:13:21.920774",
     "exception": false,
     "start_time": "2020-08-14T20:13:21.865036",
     "status": "completed"
    },
    "tags": []
   },
   "outputs": [],
   "source": [
    "y_train = 1*(y_train==3)\n",
    "y_test = 1*(y_test==3)"
   ]
  },
  {
   "cell_type": "code",
   "execution_count": 13,
   "metadata": {
    "execution": {
     "iopub.execute_input": "2020-08-14T20:13:21.997239Z",
     "iopub.status.busy": "2020-08-14T20:13:21.996589Z",
     "iopub.status.idle": "2020-08-14T20:13:22.010053Z",
     "shell.execute_reply": "2020-08-14T20:13:22.010739Z"
    },
    "papermill": {
     "duration": 0.055563,
     "end_time": "2020-08-14T20:13:22.010895",
     "exception": false,
     "start_time": "2020-08-14T20:13:21.955332",
     "status": "completed"
    },
    "tags": []
   },
   "outputs": [
    {
     "data": {
      "text/plain": [
       "((11982, 28, 28), (1984, 28, 28))"
      ]
     },
     "execution_count": 13,
     "metadata": {},
     "output_type": "execute_result"
    }
   ],
   "source": [
    "X_train.shape, X_test.shape"
   ]
  },
  {
   "cell_type": "markdown",
   "metadata": {
    "papermill": {
     "duration": 0.034962,
     "end_time": "2020-08-14T20:13:22.079423",
     "exception": false,
     "start_time": "2020-08-14T20:13:22.044461",
     "status": "completed"
    },
    "tags": []
   },
   "source": [
    "##### We reshape the data to flatten the image pixels into a set of features or co-variates:"
   ]
  },
  {
   "cell_type": "code",
   "execution_count": 14,
   "metadata": {
    "execution": {
     "iopub.execute_input": "2020-08-14T20:13:22.151772Z",
     "iopub.status.busy": "2020-08-14T20:13:22.151125Z",
     "iopub.status.idle": "2020-08-14T20:13:22.167554Z",
     "shell.execute_reply": "2020-08-14T20:13:22.168166Z"
    },
    "papermill": {
     "duration": 0.055081,
     "end_time": "2020-08-14T20:13:22.168331",
     "exception": false,
     "start_time": "2020-08-14T20:13:22.113250",
     "status": "completed"
    },
    "tags": []
   },
   "outputs": [
    {
     "data": {
      "text/plain": [
       "((11982, 784), (1984, 784))"
      ]
     },
     "execution_count": 14,
     "metadata": {},
     "output_type": "execute_result"
    }
   ],
   "source": [
    "X_train = X_train.reshape(X_train.shape[0], -1)\n",
    "X_test = X_test.reshape(X_test.shape[0], -1)\n",
    "X_train.shape, X_test.shape"
   ]
  },
  {
   "cell_type": "markdown",
   "metadata": {
    "papermill": {
     "duration": 0.034796,
     "end_time": "2020-08-14T20:13:22.239074",
     "exception": false,
     "start_time": "2020-08-14T20:13:22.204278",
     "status": "completed"
    },
    "tags": []
   },
   "source": [
    "##### Importing Kudzu library and its functionality"
   ]
  },
  {
   "cell_type": "code",
   "execution_count": 15,
   "metadata": {
    "execution": {
     "iopub.execute_input": "2020-08-14T20:13:22.314908Z",
     "iopub.status.busy": "2020-08-14T20:13:22.314261Z",
     "iopub.status.idle": "2020-08-14T20:13:22.335525Z",
     "shell.execute_reply": "2020-08-14T20:13:22.334966Z"
    },
    "papermill": {
     "duration": 0.060427,
     "end_time": "2020-08-14T20:13:22.335663",
     "exception": false,
     "start_time": "2020-08-14T20:13:22.275236",
     "status": "completed"
    },
    "tags": []
   },
   "outputs": [],
   "source": [
    "from kudzu.data import Data, Dataloader, Sampler\n",
    "from kudzu.callbacks import AccCallback\n",
    "from kudzu.loss import MSE\n",
    "from kudzu.layer import Affine, Sigmoid\n",
    "from kudzu.model import Model\n",
    "from kudzu.optim import GD\n",
    "from kudzu.train import Learner\n",
    "from kudzu.callbacks import ClfCallback\n",
    "from kudzu.layer import Sigmoid\n",
    "from kudzu.layer import Relu"
   ]
  },
  {
   "cell_type": "markdown",
   "metadata": {
    "papermill": {
     "duration": 0.034528,
     "end_time": "2020-08-14T20:13:22.405391",
     "exception": false,
     "start_time": "2020-08-14T20:13:22.370863",
     "status": "completed"
    },
    "tags": []
   },
   "source": [
    "##### We are creating a class, just so that we can use it to store our parameters for us"
   ]
  },
  {
   "cell_type": "code",
   "execution_count": 16,
   "metadata": {
    "execution": {
     "iopub.execute_input": "2020-08-14T20:13:22.480219Z",
     "iopub.status.busy": "2020-08-14T20:13:22.479555Z",
     "iopub.status.idle": "2020-08-14T20:13:22.494473Z",
     "shell.execute_reply": "2020-08-14T20:13:22.493916Z"
    },
    "papermill": {
     "duration": 0.054282,
     "end_time": "2020-08-14T20:13:22.494613",
     "exception": false,
     "start_time": "2020-08-14T20:13:22.440331",
     "status": "completed"
    },
    "tags": []
   },
   "outputs": [],
   "source": [
    "class Config:\n",
    "    pass\n",
    "config = Config()\n",
    "config.lr = 0.001\n",
    "config.num_epochs = 250\n",
    "config.bs = 50"
   ]
  },
  {
   "cell_type": "markdown",
   "metadata": {
    "papermill": {
     "duration": 0.03391,
     "end_time": "2020-08-14T20:13:22.562727",
     "exception": false,
     "start_time": "2020-08-14T20:13:22.528817",
     "status": "completed"
    },
    "tags": []
   },
   "source": [
    "##### Initializing Data"
   ]
  },
  {
   "cell_type": "code",
   "execution_count": 17,
   "metadata": {
    "execution": {
     "iopub.execute_input": "2020-08-14T20:13:22.636963Z",
     "iopub.status.busy": "2020-08-14T20:13:22.636225Z",
     "iopub.status.idle": "2020-08-14T20:13:22.649319Z",
     "shell.execute_reply": "2020-08-14T20:13:22.650403Z"
    },
    "papermill": {
     "duration": 0.052833,
     "end_time": "2020-08-14T20:13:22.650567",
     "exception": false,
     "start_time": "2020-08-14T20:13:22.597734",
     "status": "completed"
    },
    "tags": []
   },
   "outputs": [],
   "source": [
    "data = Data(X_train, y_train.reshape(-1,1))\n",
    "loss = MSE()\n",
    "opt = GD(config.lr)\n",
    "sampler = Sampler(data, config.bs, shuffle=True)\n",
    "dl = Dataloader(data, sampler)"
   ]
  },
  {
   "cell_type": "markdown",
   "metadata": {
    "papermill": {
     "duration": 0.034322,
     "end_time": "2020-08-14T20:13:22.723855",
     "exception": false,
     "start_time": "2020-08-14T20:13:22.689533",
     "status": "completed"
    },
    "tags": []
   },
   "source": [
    "##### Constructing 2 different layers, one for NN and one only for logistic regression."
   ]
  },
  {
   "cell_type": "markdown",
   "metadata": {
    "papermill": {
     "duration": 0.036494,
     "end_time": "2020-08-14T20:13:22.794251",
     "exception": false,
     "start_time": "2020-08-14T20:13:22.757757",
     "status": "completed"
    },
    "tags": []
   },
   "source": [
    "##### Creating containers for data to be passed, to calculate accuracies"
   ]
  },
  {
   "cell_type": "code",
   "execution_count": 18,
   "metadata": {
    "execution": {
     "iopub.execute_input": "2020-08-14T20:13:22.869132Z",
     "iopub.status.busy": "2020-08-14T20:13:22.868492Z",
     "iopub.status.idle": "2020-08-14T20:13:22.880604Z",
     "shell.execute_reply": "2020-08-14T20:13:22.881202Z"
    },
    "papermill": {
     "duration": 0.051086,
     "end_time": "2020-08-14T20:13:22.881350",
     "exception": false,
     "start_time": "2020-08-14T20:13:22.830264",
     "status": "completed"
    },
    "tags": []
   },
   "outputs": [],
   "source": [
    "training_xdata = X_train\n",
    "testing_xdata = X_test\n",
    "training_ydata = y_train.reshape(-1,1)\n",
    "testing_ydata = y_test.reshape(-1,1)"
   ]
  },
  {
   "cell_type": "markdown",
   "metadata": {
    "papermill": {
     "duration": 0.033689,
     "end_time": "2020-08-14T20:13:22.949194",
     "exception": false,
     "start_time": "2020-08-14T20:13:22.915505",
     "status": "completed"
    },
    "tags": []
   },
   "source": [
    "##### Initializing models and Running training loop: "
   ]
  },
  {
   "cell_type": "code",
   "execution_count": 19,
   "metadata": {
    "execution": {
     "iopub.execute_input": "2020-08-14T20:13:23.022065Z",
     "iopub.status.busy": "2020-08-14T20:13:23.021392Z",
     "iopub.status.idle": "2020-08-14T20:13:23.038004Z",
     "shell.execute_reply": "2020-08-14T20:13:23.037482Z"
    },
    "papermill": {
     "duration": 0.055931,
     "end_time": "2020-08-14T20:13:23.038137",
     "exception": false,
     "start_time": "2020-08-14T20:13:22.982206",
     "status": "completed"
    },
    "tags": []
   },
   "outputs": [],
   "source": [
    "layers = [Affine(\"first\", 784, 100), Relu(\"first\"), Affine(\"second\", 100, 100), Relu(\"second\"), Affine(\"third\", 100, 2), Affine(\"final\", 2, 1), Sigmoid(\"final\")]\n",
    "\n",
    "model_neural = Model(layers)\n",
    "model_logistic = Model([Affine(\"logits\", 784, 1), Sigmoid(\"sigmoid\")])"
   ]
  },
  {
   "cell_type": "code",
   "execution_count": 20,
   "metadata": {
    "execution": {
     "iopub.execute_input": "2020-08-14T20:13:23.114402Z",
     "iopub.status.busy": "2020-08-14T20:13:23.113760Z",
     "iopub.status.idle": "2020-08-14T20:13:23.126457Z",
     "shell.execute_reply": "2020-08-14T20:13:23.125936Z"
    },
    "papermill": {
     "duration": 0.050558,
     "end_time": "2020-08-14T20:13:23.126594",
     "exception": false,
     "start_time": "2020-08-14T20:13:23.076036",
     "status": "completed"
    },
    "tags": []
   },
   "outputs": [],
   "source": [
    "learner1 = Learner(loss, model_neural, opt, config.num_epochs)\n",
    "acc1 = ClfCallback(learner1, config.bs, training_xdata , testing_xdata, training_ydata, testing_ydata)\n",
    "learner1.set_callbacks([acc1])"
   ]
  },
  {
   "cell_type": "code",
   "execution_count": 21,
   "metadata": {
    "execution": {
     "iopub.execute_input": "2020-08-14T20:13:23.200054Z",
     "iopub.status.busy": "2020-08-14T20:13:23.199419Z",
     "iopub.status.idle": "2020-08-14T20:15:27.763968Z",
     "shell.execute_reply": "2020-08-14T20:15:27.763409Z"
    },
    "papermill": {
     "duration": 124.604005,
     "end_time": "2020-08-14T20:15:27.764112",
     "exception": false,
     "start_time": "2020-08-14T20:13:23.160107",
     "status": "completed"
    },
    "tags": []
   },
   "outputs": [
    {
     "name": "stdout",
     "output_type": "stream",
     "text": [
      "Epoch 0 Loss 0.23394065146771142\n",
      "train accuracy is: 0.7344349858120514, test accuracy is 0.7227822580645161\n"
     ]
    },
    {
     "name": "stdout",
     "output_type": "stream",
     "text": [
      "Epoch 10 Loss 0.09932906593662576\n",
      "train accuracy is: 0.913536972124854, test accuracy is 0.9188508064516129\n"
     ]
    },
    {
     "name": "stdout",
     "output_type": "stream",
     "text": [
      "Epoch 20 Loss 0.058925459611681386\n",
      "train accuracy is: 0.9378234017693207, test accuracy is 0.9445564516129032\n"
     ]
    },
    {
     "name": "stdout",
     "output_type": "stream",
     "text": [
      "Epoch 30 Loss 0.04590084107919064\n",
      "train accuracy is: 0.9480053413453514, test accuracy is 0.9566532258064516\n"
     ]
    },
    {
     "name": "stdout",
     "output_type": "stream",
     "text": [
      "Epoch 40 Loss 0.039500813986328244\n",
      "train accuracy is: 0.9545151059923218, test accuracy is 0.9581653225806451\n"
     ]
    },
    {
     "name": "stdout",
     "output_type": "stream",
     "text": [
      "Epoch 50 Loss 0.03561881399817553\n",
      "train accuracy is: 0.9583541979636121, test accuracy is 0.9601814516129032\n"
     ]
    },
    {
     "name": "stdout",
     "output_type": "stream",
     "text": [
      "Epoch 60 Loss 0.03292525721652379\n",
      "train accuracy is: 0.9609414121181773, test accuracy is 0.9637096774193549\n"
     ]
    },
    {
     "name": "stdout",
     "output_type": "stream",
     "text": [
      "Epoch 70 Loss 0.030916969010823834\n",
      "train accuracy is: 0.9644466700050075, test accuracy is 0.9667338709677419\n"
     ]
    },
    {
     "name": "stdout",
     "output_type": "stream",
     "text": [
      "Epoch 80 Loss 0.029329126705207712\n",
      "train accuracy is: 0.9660323819061927, test accuracy is 0.967741935483871\n"
     ]
    },
    {
     "name": "stdout",
     "output_type": "stream",
     "text": [
      "Epoch 90 Loss 0.028025628265944017\n",
      "train accuracy is: 0.9680353864129527, test accuracy is 0.9692540322580645\n"
     ]
    },
    {
     "name": "stdout",
     "output_type": "stream",
     "text": [
      "Epoch 100 Loss 0.026919633825985025\n",
      "train accuracy is: 0.9689534301452178, test accuracy is 0.969758064516129\n"
     ]
    },
    {
     "name": "stdout",
     "output_type": "stream",
     "text": [
      "Epoch 110 Loss 0.025955599237316034\n",
      "train accuracy is: 0.9702053079619429, test accuracy is 0.969758064516129\n"
     ]
    },
    {
     "name": "stdout",
     "output_type": "stream",
     "text": [
      "Epoch 120 Loss 0.025108221624386463\n",
      "train accuracy is: 0.971290268736438, test accuracy is 0.96875\n"
     ]
    },
    {
     "name": "stdout",
     "output_type": "stream",
     "text": [
      "Epoch 130 Loss 0.024352567489039283\n",
      "train accuracy is: 0.9722083124687031, test accuracy is 0.9692540322580645\n"
     ]
    },
    {
     "name": "stdout",
     "output_type": "stream",
     "text": [
      "Epoch 140 Loss 0.023666490583311526\n",
      "train accuracy is: 0.9735436488065431, test accuracy is 0.9712701612903226\n"
     ]
    },
    {
     "name": "stdout",
     "output_type": "stream",
     "text": [
      "Epoch 150 Loss 0.02303202850059693\n",
      "train accuracy is: 0.9742113169754631, test accuracy is 0.9737903225806451\n"
     ]
    },
    {
     "name": "stdout",
     "output_type": "stream",
     "text": [
      "Epoch 160 Loss 0.022461194012224996\n",
      "train accuracy is: 0.9744616925388082, test accuracy is 0.9737903225806451\n"
     ]
    },
    {
     "name": "stdout",
     "output_type": "stream",
     "text": [
      "Epoch 170 Loss 0.021927707241883237\n",
      "train accuracy is: 0.9748789851443832, test accuracy is 0.9742943548387096\n"
     ]
    },
    {
     "name": "stdout",
     "output_type": "stream",
     "text": [
      "Epoch 180 Loss 0.021430083208574858\n",
      "train accuracy is: 0.9752962777499583, test accuracy is 0.9737903225806451\n"
     ]
    },
    {
     "name": "stdout",
     "output_type": "stream",
     "text": [
      "Epoch 190 Loss 0.020962296521075487\n",
      "train accuracy is: 0.9761308629611083, test accuracy is 0.9732862903225806\n"
     ]
    },
    {
     "name": "stdout",
     "output_type": "stream",
     "text": [
      "Epoch 200 Loss 0.020527073970083694\n",
      "train accuracy is: 0.9767150726089133, test accuracy is 0.9747983870967742\n"
     ]
    },
    {
     "name": "stdout",
     "output_type": "stream",
     "text": [
      "Epoch 210 Loss 0.02011455316838956\n",
      "train accuracy is: 0.9775496578200634, test accuracy is 0.9747983870967742\n"
     ]
    },
    {
     "name": "stdout",
     "output_type": "stream",
     "text": [
      "Epoch 220 Loss 0.0197193269366282\n",
      "train accuracy is: 0.9781338674678685, test accuracy is 0.9753024193548387\n"
     ]
    },
    {
     "name": "stdout",
     "output_type": "stream",
     "text": [
      "Epoch 230 Loss 0.019347068005030006\n",
      "train accuracy is: 0.9784677015523285, test accuracy is 0.9747983870967742\n"
     ]
    },
    {
     "name": "stdout",
     "output_type": "stream",
     "text": [
      "Epoch 240 Loss 0.018987818474460228\n",
      "train accuracy is: 0.9787180771156735, test accuracy is 0.9753024193548387\n"
     ]
    },
    {
     "data": {
      "text/plain": [
       "0.0319391915145709"
      ]
     },
     "execution_count": 21,
     "metadata": {},
     "output_type": "execute_result"
    }
   ],
   "source": [
    "learner1.train_loop(dl)"
   ]
  },
  {
   "cell_type": "markdown",
   "metadata": {
    "papermill": {
     "duration": 0.041835,
     "end_time": "2020-08-14T20:15:27.848033",
     "exception": false,
     "start_time": "2020-08-14T20:15:27.806198",
     "status": "completed"
    },
    "tags": []
   },
   "source": [
    "##### Now running only the logistic regression based classification to compare results with NN"
   ]
  },
  {
   "cell_type": "code",
   "execution_count": 22,
   "metadata": {
    "execution": {
     "iopub.execute_input": "2020-08-14T20:15:27.936578Z",
     "iopub.status.busy": "2020-08-14T20:15:27.935942Z",
     "iopub.status.idle": "2020-08-14T20:15:27.947068Z",
     "shell.execute_reply": "2020-08-14T20:15:27.947588Z"
    },
    "papermill": {
     "duration": 0.058915,
     "end_time": "2020-08-14T20:15:27.947736",
     "exception": false,
     "start_time": "2020-08-14T20:15:27.888821",
     "status": "completed"
    },
    "tags": []
   },
   "outputs": [],
   "source": [
    "learner2 = Learner(loss, model_logistic, opt, config.num_epochs)\n",
    "acc2 = ClfCallback(learner2, config.bs, training_xdata , testing_xdata, training_ydata, testing_ydata)\n",
    "learner2.set_callbacks([acc2])"
   ]
  },
  {
   "cell_type": "code",
   "execution_count": 23,
   "metadata": {
    "execution": {
     "iopub.execute_input": "2020-08-14T20:15:28.042211Z",
     "iopub.status.busy": "2020-08-14T20:15:28.041454Z",
     "iopub.status.idle": "2020-08-14T20:15:47.007940Z",
     "shell.execute_reply": "2020-08-14T20:15:47.008770Z"
    },
    "papermill": {
     "duration": 19.01996,
     "end_time": "2020-08-14T20:15:47.008937",
     "exception": false,
     "start_time": "2020-08-14T20:15:27.988977",
     "status": "completed"
    },
    "tags": []
   },
   "outputs": [
    {
     "name": "stdout",
     "output_type": "stream",
     "text": [
      "Epoch 0 Loss 0.22174810146585192\n",
      "train accuracy is: 0.7441996327825071, test accuracy is 0.7762096774193549\n"
     ]
    },
    {
     "name": "stdout",
     "output_type": "stream",
     "text": [
      "Epoch 10 Loss 0.10047444532892326\n",
      "train accuracy is: 0.914538474378234, test accuracy is 0.9269153225806451\n"
     ]
    },
    {
     "name": "stdout",
     "output_type": "stream",
     "text": [
      "Epoch 20 Loss 0.07756551945887169\n",
      "train accuracy is: 0.928893340010015, test accuracy is 0.9425403225806451\n"
     ]
    },
    {
     "name": "stdout",
     "output_type": "stream",
     "text": [
      "Epoch 30 Loss 0.06694610132027198\n",
      "train accuracy is: 0.9369888165581706, test accuracy is 0.9506048387096774\n"
     ]
    },
    {
     "name": "stdout",
     "output_type": "stream",
     "text": [
      "Epoch 40 Loss 0.060559653808045226\n",
      "train accuracy is: 0.943164747120681, test accuracy is 0.9551411290322581\n"
     ]
    },
    {
     "name": "stdout",
     "output_type": "stream",
     "text": [
      "Epoch 50 Loss 0.05620497850460923\n",
      "train accuracy is: 0.9465030879652813, test accuracy is 0.9561491935483871\n"
     ]
    },
    {
     "name": "stdout",
     "output_type": "stream",
     "text": [
      "Epoch 60 Loss 0.05300725315316616\n",
      "train accuracy is: 0.9487564680353864, test accuracy is 0.9576612903225806\n"
     ]
    },
    {
     "name": "stdout",
     "output_type": "stream",
     "text": [
      "Epoch 70 Loss 0.050534399796547474\n",
      "train accuracy is: 0.9511767651477215, test accuracy is 0.9611895161290323\n"
     ]
    },
    {
     "name": "stdout",
     "output_type": "stream",
     "text": [
      "Epoch 80 Loss 0.04855104762710213\n",
      "train accuracy is: 0.9522617259222167, test accuracy is 0.9616935483870968\n"
     ]
    },
    {
     "name": "stdout",
     "output_type": "stream",
     "text": [
      "Epoch 90 Loss 0.046915746790129984\n",
      "train accuracy is: 0.9533466866967117, test accuracy is 0.9627016129032258\n"
     ]
    },
    {
     "name": "stdout",
     "output_type": "stream",
     "text": [
      "Epoch 100 Loss 0.045537884447880914\n",
      "train accuracy is: 0.9541812719078618, test accuracy is 0.9627016129032258\n"
     ]
    },
    {
     "name": "stdout",
     "output_type": "stream",
     "text": [
      "Epoch 110 Loss 0.04435643726769645\n",
      "train accuracy is: 0.9548489400767819, test accuracy is 0.9647177419354839\n"
     ]
    },
    {
     "name": "stdout",
     "output_type": "stream",
     "text": [
      "Epoch 120 Loss 0.04332687084125886\n",
      "train accuracy is: 0.956017359372392, test accuracy is 0.9657258064516129\n"
     ]
    },
    {
     "name": "stdout",
     "output_type": "stream",
     "text": [
      "Epoch 130 Loss 0.04242101595877312\n",
      "train accuracy is: 0.956851944583542, test accuracy is 0.9662298387096774\n"
     ]
    },
    {
     "name": "stdout",
     "output_type": "stream",
     "text": [
      "Epoch 140 Loss 0.041614265113783404\n",
      "train accuracy is: 0.957686529794692, test accuracy is 0.9667338709677419\n"
     ]
    },
    {
     "name": "stdout",
     "output_type": "stream",
     "text": [
      "Epoch 150 Loss 0.040890730039191206\n",
      "train accuracy is: 0.9577699883158071, test accuracy is 0.9667338709677419\n"
     ]
    },
    {
     "name": "stdout",
     "output_type": "stream",
     "text": [
      "Epoch 160 Loss 0.04023613074220495\n",
      "train accuracy is: 0.958604573526957, test accuracy is 0.9667338709677419\n"
     ]
    },
    {
     "name": "stdout",
     "output_type": "stream",
     "text": [
      "Epoch 170 Loss 0.03964077729208251\n",
      "train accuracy is: 0.9585211150058421, test accuracy is 0.9672379032258065\n"
     ]
    },
    {
     "name": "stdout",
     "output_type": "stream",
     "text": [
      "Epoch 180 Loss 0.03909483017571177\n",
      "train accuracy is: 0.9594391587381071, test accuracy is 0.9672379032258065\n"
     ]
    },
    {
     "name": "stdout",
     "output_type": "stream",
     "text": [
      "Epoch 190 Loss 0.03859297478020597\n",
      "train accuracy is: 0.9599399098647972, test accuracy is 0.9672379032258065\n"
     ]
    },
    {
     "name": "stdout",
     "output_type": "stream",
     "text": [
      "Epoch 200 Loss 0.03812914111161008\n",
      "train accuracy is: 0.9602737439492572, test accuracy is 0.9667338709677419\n"
     ]
    },
    {
     "name": "stdout",
     "output_type": "stream",
     "text": [
      "Epoch 210 Loss 0.037697937434626586\n",
      "train accuracy is: 0.9609414121181773, test accuracy is 0.9667338709677419\n"
     ]
    },
    {
     "name": "stdout",
     "output_type": "stream",
     "text": [
      "Epoch 220 Loss 0.03729652982497242\n",
      "train accuracy is: 0.9616925388082124, test accuracy is 0.9667338709677419\n"
     ]
    },
    {
     "name": "stdout",
     "output_type": "stream",
     "text": [
      "Epoch 230 Loss 0.036921795800498716\n",
      "train accuracy is: 0.9618594558504423, test accuracy is 0.9667338709677419\n"
     ]
    },
    {
     "name": "stdout",
     "output_type": "stream",
     "text": [
      "Epoch 240 Loss 0.03656966968397789\n",
      "train accuracy is: 0.9620263728926723, test accuracy is 0.9672379032258065\n"
     ]
    },
    {
     "data": {
      "text/plain": [
       "0.05677181537261221"
      ]
     },
     "execution_count": 23,
     "metadata": {},
     "output_type": "execute_result"
    }
   ],
   "source": [
    "learner2.train_loop(dl)"
   ]
  },
  {
   "cell_type": "markdown",
   "metadata": {
    "papermill": {
     "duration": 0.051127,
     "end_time": "2020-08-14T20:15:47.116700",
     "exception": false,
     "start_time": "2020-08-14T20:15:47.065573",
     "status": "completed"
    },
    "tags": []
   },
   "source": [
    "### Comparing results of NN and LR"
   ]
  },
  {
   "cell_type": "code",
   "execution_count": 24,
   "metadata": {
    "execution": {
     "iopub.execute_input": "2020-08-14T20:15:47.237007Z",
     "iopub.status.busy": "2020-08-14T20:15:47.236376Z",
     "iopub.status.idle": "2020-08-14T20:15:47.489090Z",
     "shell.execute_reply": "2020-08-14T20:15:47.489949Z"
    },
    "papermill": {
     "duration": 0.313936,
     "end_time": "2020-08-14T20:15:47.490119",
     "exception": false,
     "start_time": "2020-08-14T20:15:47.176183",
     "status": "completed"
    },
    "tags": []
   },
   "outputs": [
    {
     "data": {
      "text/plain": [
       "<matplotlib.legend.Legend at 0x7efcd539b9b0>"
      ]
     },
     "execution_count": 24,
     "metadata": {},
     "output_type": "execute_result"
    },
    {
     "data": {
      "image/png": "[encoded data removed]",
      "text/plain": [
       "<Figure size 576x360 with 1 Axes>"
      ]
     },
     "metadata": {
      "needs_background": "light"
     },
     "output_type": "display_data"
    }
   ],
   "source": [
    "plt.figure(figsize=(8,5))\n",
    "plt.plot(acc1.val_accuracies, 'g-', label = \"Val Accuracies - NN\")\n",
    "plt.plot(acc1.accuracies, 'r-', label = \"Accuracies - NN\")\n",
    "plt.plot(acc2.val_accuracies, 'b-', label = \"Val Accuracies - Logistic Reg\")\n",
    "plt.plot(acc2.accuracies, 'k-', label = \"Accuracies - Logistic Reg\")\n",
    "plt.ylim(0.8,1) ## for a more spread out view\n",
    "plt.legend()"
   ]
  },
  {
   "cell_type": "markdown",
   "metadata": {
    "papermill": {
     "duration": 0.054809,
     "end_time": "2020-08-14T20:15:47.600291",
     "exception": false,
     "start_time": "2020-08-14T20:15:47.545482",
     "status": "completed"
    },
    "tags": []
   },
   "source": [
    "### Clearly NN has a better accuracy over LR; NN is overfitting - Validation accuracy (green) has dropped below training accuracy (orange), also they are diverging. This problem is not seen in LR"
   ]
  },
  {
   "cell_type": "markdown",
   "metadata": {
    "papermill": {
     "duration": 0.064719,
     "end_time": "2020-08-14T20:15:47.728511",
     "exception": false,
     "start_time": "2020-08-14T20:15:47.663792",
     "status": "completed"
    },
    "tags": []
   },
   "source": [
    "##### Now we will be moving through the network, till the output of the second last affine where we get a 2 dimensional output. We will be plotting this 2d output and probability contours"
   ]
  },
  {
   "cell_type": "code",
   "execution_count": 25,
   "metadata": {
    "execution": {
     "iopub.execute_input": "2020-08-14T20:15:47.845661Z",
     "iopub.status.busy": "2020-08-14T20:15:47.844998Z",
     "iopub.status.idle": "2020-08-14T20:15:47.856344Z",
     "shell.execute_reply": "2020-08-14T20:15:47.856863Z"
    },
    "papermill": {
     "duration": 0.070777,
     "end_time": "2020-08-14T20:15:47.857013",
     "exception": false,
     "start_time": "2020-08-14T20:15:47.786236",
     "status": "completed"
    },
    "tags": []
   },
   "outputs": [],
   "source": [
    "model_new = Model(layers[:-2])"
   ]
  },
  {
   "cell_type": "code",
   "execution_count": 26,
   "metadata": {
    "execution": {
     "iopub.execute_input": "2020-08-14T20:15:47.976233Z",
     "iopub.status.busy": "2020-08-14T20:15:47.975600Z",
     "iopub.status.idle": "2020-08-14T20:15:47.999163Z",
     "shell.execute_reply": "2020-08-14T20:15:47.999997Z"
    },
    "papermill": {
     "duration": 0.085384,
     "end_time": "2020-08-14T20:15:48.000167",
     "exception": false,
     "start_time": "2020-08-14T20:15:47.914783",
     "status": "completed"
    },
    "tags": []
   },
   "outputs": [],
   "source": [
    "plot_testing = model_new(testing_xdata)"
   ]
  },
  {
   "cell_type": "markdown",
   "metadata": {
    "papermill": {
     "duration": 0.051545,
     "end_time": "2020-08-14T20:15:48.103920",
     "exception": false,
     "start_time": "2020-08-14T20:15:48.052375",
     "status": "completed"
    },
    "tags": []
   },
   "source": [
    "##### Plotting the scatter plot of points and color coding by class"
   ]
  },
  {
   "cell_type": "code",
   "execution_count": 27,
   "metadata": {
    "execution": {
     "iopub.execute_input": "2020-08-14T20:15:48.231288Z",
     "iopub.status.busy": "2020-08-14T20:15:48.230650Z",
     "iopub.status.idle": "2020-08-14T20:15:48.447252Z",
     "shell.execute_reply": "2020-08-14T20:15:48.446705Z"
    },
    "papermill": {
     "duration": 0.273625,
     "end_time": "2020-08-14T20:15:48.447394",
     "exception": false,
     "start_time": "2020-08-14T20:15:48.173769",
     "status": "completed"
    },
    "tags": []
   },
   "outputs": [
    {
     "data": {
      "image/png": "[encoded data removed]",
      "text/plain": [
       "<Figure size 576x504 with 1 Axes>"
      ]
     },
     "metadata": {
      "needs_background": "light"
     },
     "output_type": "display_data"
    }
   ],
   "source": [
    "plt.figure(figsize=(8,7))\n",
    "plt.scatter(plot_testing[:,0], plot_testing[:,1], alpha = 0.1, c = y_test.ravel());"
   ]
  },
  {
   "cell_type": "markdown",
   "metadata": {
    "papermill": {
     "duration": 0.05371,
     "end_time": "2020-08-14T20:15:48.552623",
     "exception": false,
     "start_time": "2020-08-14T20:15:48.498913",
     "status": "completed"
    },
    "tags": []
   },
   "source": [
    "##### Plotting probability contours"
   ]
  },
  {
   "cell_type": "code",
   "execution_count": 28,
   "metadata": {
    "execution": {
     "iopub.execute_input": "2020-08-14T20:15:48.661173Z",
     "iopub.status.busy": "2020-08-14T20:15:48.660535Z",
     "iopub.status.idle": "2020-08-14T20:15:48.672516Z",
     "shell.execute_reply": "2020-08-14T20:15:48.673010Z"
    },
    "papermill": {
     "duration": 0.069878,
     "end_time": "2020-08-14T20:15:48.673163",
     "exception": false,
     "start_time": "2020-08-14T20:15:48.603285",
     "status": "completed"
    },
    "tags": []
   },
   "outputs": [],
   "source": [
    "model_prob = Model(layers[-2:]) ## picking only last two layers to get probability. That is affine followed by sigmoid"
   ]
  },
  {
   "cell_type": "code",
   "execution_count": 29,
   "metadata": {
    "execution": {
     "iopub.execute_input": "2020-08-14T20:15:48.789109Z",
     "iopub.status.busy": "2020-08-14T20:15:48.788470Z",
     "iopub.status.idle": "2020-08-14T20:15:48.804308Z",
     "shell.execute_reply": "2020-08-14T20:15:48.804868Z"
    },
    "papermill": {
     "duration": 0.077612,
     "end_time": "2020-08-14T20:15:48.805030",
     "exception": false,
     "start_time": "2020-08-14T20:15:48.727418",
     "status": "completed"
    },
    "tags": []
   },
   "outputs": [],
   "source": [
    "xgrid = np.linspace(-4, 1, 100) ## Adjust these values based on above chart, roughly -4 to 1\n",
    "ygrid = np.linspace(-7.5, 7.5, 100) ## Adjust these values based on above chart, roughly -7.5, 7.5\n",
    "xg, yg = np.meshgrid(xgrid, ygrid)\n",
    "# xg and yg are now both 100X100, lets convert them to single arrays \n",
    "\n",
    "xg_interim = np.ravel(xg)\n",
    "yg_interim = np.ravel(yg)\n",
    "\n",
    "## xg_interim, yg_interim are now arrays of len 10000, now we will stack them and then transpose to get desired shape of n rows, 2 columns\n",
    "\n",
    "X_interim = np.vstack((xg_interim, yg_interim)) ## Please note vstack takes in a tuple\n",
    "X = X_interim.T\n",
    "\n",
    "## We want a shape of n rows and 2 columns to be able to feed this to last affine\n",
    "## This last affine takes only two columns, hence the above transformation\n",
    "probability_contour = model_prob(X).reshape(100,100) ## to make it consistent with xg, yg"
   ]
  },
  {
   "cell_type": "code",
   "execution_count": 30,
   "metadata": {
    "execution": {
     "iopub.execute_input": "2020-08-14T20:15:48.923532Z",
     "iopub.status.busy": "2020-08-14T20:15:48.922889Z",
     "iopub.status.idle": "2020-08-14T20:15:49.200723Z",
     "shell.execute_reply": "2020-08-14T20:15:49.201213Z"
    },
    "papermill": {
     "duration": 0.339268,
     "end_time": "2020-08-14T20:15:49.201378",
     "exception": false,
     "start_time": "2020-08-14T20:15:48.862110",
     "status": "completed"
    },
    "tags": []
   },
   "outputs": [
    {
     "data": {
      "image/png": "[encoded data removed]",
      "text/plain": [
       "<Figure size 576x504 with 1 Axes>"
      ]
     },
     "metadata": {
      "needs_background": "light"
     },
     "output_type": "display_data"
    }
   ],
   "source": [
    "plt.figure(figsize=(8,7))\n",
    "plt.scatter(plot_testing[:,0], plot_testing[:,1], alpha = 0.1, c = y_test.ravel())\n",
    "contours = plt.contour(xg,yg,probability_contour)\n",
    "plt.clabel(contours, inline = True );"
   ]
  }
 ],
 "metadata": {
  "kernelspec": {
   "display_name": "Python 3",
   "language": "python",
   "name": "python3"
  },
  "language_info": {
   "codemirror_mode": {
    "name": "ipython",
    "version": 3
   },
   "file_extension": ".py",
   "mimetype": "text/x-python",
   "name": "python",
   "nbconvert_exporter": "python",
   "pygments_lexer": "ipython3",
   "version": "3.6.11"
  },
  "papermill": {
   "duration": 155.290266,
   "end_time": "2020-08-14T20:15:49.566074",
   "environment_variables": {},
   "exception": null,
   "input_path": "2020-08-07-NN-new.ipynb",
   "output_path": "2020-08-07-NN-new.ipynb",
   "parameters": {},
   "start_time": "2020-08-14T20:13:14.275808",
   "version": "2.1.2"
  }
 },
 "nbformat": 4,
 "nbformat_minor": 4
}