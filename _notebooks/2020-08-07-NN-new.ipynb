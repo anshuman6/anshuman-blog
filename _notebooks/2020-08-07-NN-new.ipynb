{
 "cells": [
  {
   "cell_type": "markdown",
   "metadata": {
    "papermill": {
     "duration": 0.033961,
     "end_time": "2020-08-18T20:12:44.654867",
     "exception": false,
     "start_time": "2020-08-18T20:12:44.620906",
     "status": "completed"
    },
    "tags": []
   },
   "source": [
    "# \"Building a basic Neural Network from scratch - Kudzu\"\n",
    "\n",
    "- badges: true\n",
    "- author: Anshuman Gupta"
   ]
  },
  {
   "cell_type": "markdown",
   "metadata": {
    "papermill": {
     "duration": 0.044967,
     "end_time": "2020-08-18T20:12:44.728907",
     "exception": false,
     "start_time": "2020-08-18T20:12:44.683940",
     "status": "completed"
    },
    "tags": []
   },
   "source": [
    "#### In this project, the idea is to write a classifier to differentiate between handwritten digits 3 and 8, from the MNIST database.\n",
    "\n",
    "#### I will using a custom built neural network library called Kudzu.This has been developed as a part of KTF/Foundations course of Univ.ai (www.univ.ai). The source code for Kudzu Library and and this notebook can be found on my git-hub profile : www.https://github.com/anshuman6 under the folder project-solution. Any feedback and comments are welcome. Please feel free to email me at: anshuman6@gmail.com\n",
    "\n",
    "#### 1. I will be using the MNIST database. \n",
    "\n",
    "#### 2. I will be comparing the results of the 4 layer NN to a standard logistic regression"
   ]
  },
  {
   "cell_type": "markdown",
   "metadata": {
    "papermill": {
     "duration": 0.031288,
     "end_time": "2020-08-18T20:12:44.790568",
     "exception": false,
     "start_time": "2020-08-18T20:12:44.759280",
     "status": "completed"
    },
    "tags": []
   },
   "source": [
    "##### Importing all the necessary libraries"
   ]
  },
  {
   "cell_type": "code",
   "execution_count": 1,
   "metadata": {
    "execution": {
     "iopub.execute_input": "2020-08-18T20:12:44.859123Z",
     "iopub.status.busy": "2020-08-18T20:12:44.857271Z",
     "iopub.status.idle": "2020-08-18T20:12:44.869880Z",
     "shell.execute_reply": "2020-08-18T20:12:44.869360Z"
    },
    "papermill": {
     "duration": 0.048368,
     "end_time": "2020-08-18T20:12:44.870024",
     "exception": false,
     "start_time": "2020-08-18T20:12:44.821656",
     "status": "completed"
    },
    "tags": []
   },
   "outputs": [],
   "source": [
    "%load_ext autoreload\n",
    "%autoreload 2"
   ]
  },
  {
   "cell_type": "code",
   "execution_count": 2,
   "metadata": {
    "execution": {
     "iopub.execute_input": "2020-08-18T20:12:44.937837Z",
     "iopub.status.busy": "2020-08-18T20:12:44.937214Z",
     "iopub.status.idle": "2020-08-18T20:12:45.527482Z",
     "shell.execute_reply": "2020-08-18T20:12:45.526977Z"
    },
    "papermill": {
     "duration": 0.626763,
     "end_time": "2020-08-18T20:12:45.527620",
     "exception": false,
     "start_time": "2020-08-18T20:12:44.900857",
     "status": "completed"
    },
    "tags": []
   },
   "outputs": [],
   "source": [
    "%matplotlib inline\n",
    "import numpy as np\n",
    "import matplotlib.pyplot as plt\n",
    "import pandas as pd"
   ]
  },
  {
   "cell_type": "markdown",
   "metadata": {
    "papermill": {
     "duration": 0.028572,
     "end_time": "2020-08-18T20:12:45.585631",
     "exception": false,
     "start_time": "2020-08-18T20:12:45.557059",
     "status": "completed"
    },
    "tags": []
   },
   "source": [
    "##### The following command helps us download MNIST from notebook itself. You can skip this if you already have MNIST. You can also download it via your terminal."
   ]
  },
  {
   "cell_type": "code",
   "execution_count": 3,
   "metadata": {
    "execution": {
     "iopub.execute_input": "2020-08-18T20:12:45.652326Z",
     "iopub.status.busy": "2020-08-18T20:12:45.651437Z",
     "iopub.status.idle": "2020-08-18T20:12:47.228337Z",
     "shell.execute_reply": "2020-08-18T20:12:47.226998Z"
    },
    "papermill": {
     "duration": 1.613466,
     "end_time": "2020-08-18T20:12:47.228549",
     "exception": false,
     "start_time": "2020-08-18T20:12:45.615083",
     "status": "completed"
    },
    "tags": []
   },
   "outputs": [
    {
     "name": "stdout",
     "output_type": "stream",
     "text": [
      "Collecting mnist\r\n"
     ]
    },
    {
     "name": "stdout",
     "output_type": "stream",
     "text": [
      "  Downloading mnist-0.2.2-py2.py3-none-any.whl (3.5 kB)\r\n"
     ]
    },
    {
     "name": "stdout",
     "output_type": "stream",
     "text": [
      "Requirement already satisfied: numpy in /opt/hostedtoolcache/Python/3.6.11/x64/lib/python3.6/site-packages (from mnist) (1.19.1)\r\n"
     ]
    },
    {
     "name": "stdout",
     "output_type": "stream",
     "text": [
      "Installing collected packages: mnist\r\n"
     ]
    },
    {
     "name": "stdout",
     "output_type": "stream",
     "text": [
      "Successfully installed mnist-0.2.2\r\n"
     ]
    },
    {
     "name": "stdout",
     "output_type": "stream",
     "text": [
      "\u001b[33mWARNING: You are using pip version 20.2.1; however, version 20.2.2 is available.\r\n",
      "You should consider upgrading via the '/opt/hostedtoolcache/Python/3.6.11/x64/bin/python -m pip install --upgrade pip' command.\u001b[0m\r\n"
     ]
    }
   ],
   "source": [
    "!pip install mnist # Please note, it is commented out for now, you can remove comment if you want to install it"
   ]
  },
  {
   "cell_type": "markdown",
   "metadata": {
    "papermill": {
     "duration": 0.031493,
     "end_time": "2020-08-18T20:12:47.292365",
     "exception": false,
     "start_time": "2020-08-18T20:12:47.260872",
     "status": "completed"
    },
    "tags": []
   },
   "source": [
    "#### Preparing the Data"
   ]
  },
  {
   "cell_type": "code",
   "execution_count": 4,
   "metadata": {
    "execution": {
     "iopub.execute_input": "2020-08-18T20:12:47.361220Z",
     "iopub.status.busy": "2020-08-18T20:12:47.355654Z",
     "iopub.status.idle": "2020-08-18T20:12:47.372080Z",
     "shell.execute_reply": "2020-08-18T20:12:47.371485Z"
    },
    "papermill": {
     "duration": 0.049573,
     "end_time": "2020-08-18T20:12:47.372244",
     "exception": false,
     "start_time": "2020-08-18T20:12:47.322671",
     "status": "completed"
    },
    "tags": []
   },
   "outputs": [],
   "source": [
    "import mnist"
   ]
  },
  {
   "cell_type": "code",
   "execution_count": 5,
   "metadata": {
    "execution": {
     "iopub.execute_input": "2020-08-18T20:12:47.438319Z",
     "iopub.status.busy": "2020-08-18T20:12:47.437764Z",
     "iopub.status.idle": "2020-08-18T20:12:48.341651Z",
     "shell.execute_reply": "2020-08-18T20:12:48.341006Z"
    },
    "papermill": {
     "duration": 0.938517,
     "end_time": "2020-08-18T20:12:48.341809",
     "exception": false,
     "start_time": "2020-08-18T20:12:47.403292",
     "status": "completed"
    },
    "tags": []
   },
   "outputs": [],
   "source": [
    "train_images = mnist.train_images()\n",
    "train_labels = mnist.train_labels()"
   ]
  },
  {
   "cell_type": "code",
   "execution_count": 6,
   "metadata": {
    "execution": {
     "iopub.execute_input": "2020-08-18T20:12:48.405159Z",
     "iopub.status.busy": "2020-08-18T20:12:48.404526Z",
     "iopub.status.idle": "2020-08-18T20:12:48.421404Z",
     "shell.execute_reply": "2020-08-18T20:12:48.420899Z"
    },
    "papermill": {
     "duration": 0.05004,
     "end_time": "2020-08-18T20:12:48.421550",
     "exception": false,
     "start_time": "2020-08-18T20:12:48.371510",
     "status": "completed"
    },
    "tags": []
   },
   "outputs": [
    {
     "data": {
      "text/plain": [
       "((60000, 28, 28), (60000,))"
      ]
     },
     "execution_count": 6,
     "metadata": {},
     "output_type": "execute_result"
    }
   ],
   "source": [
    "train_images.shape, train_labels.shape"
   ]
  },
  {
   "cell_type": "code",
   "execution_count": 7,
   "metadata": {
    "execution": {
     "iopub.execute_input": "2020-08-18T20:12:48.488552Z",
     "iopub.status.busy": "2020-08-18T20:12:48.487702Z",
     "iopub.status.idle": "2020-08-18T20:12:48.787024Z",
     "shell.execute_reply": "2020-08-18T20:12:48.786455Z"
    },
    "papermill": {
     "duration": 0.335016,
     "end_time": "2020-08-18T20:12:48.787202",
     "exception": false,
     "start_time": "2020-08-18T20:12:48.452186",
     "status": "completed"
    },
    "tags": []
   },
   "outputs": [],
   "source": [
    "test_images = mnist.test_images()\n",
    "test_labels = mnist.test_labels()"
   ]
  },
  {
   "cell_type": "code",
   "execution_count": 8,
   "metadata": {
    "execution": {
     "iopub.execute_input": "2020-08-18T20:12:48.856253Z",
     "iopub.status.busy": "2020-08-18T20:12:48.855555Z",
     "iopub.status.idle": "2020-08-18T20:12:48.869851Z",
     "shell.execute_reply": "2020-08-18T20:12:48.869227Z"
    },
    "papermill": {
     "duration": 0.050072,
     "end_time": "2020-08-18T20:12:48.869976",
     "exception": false,
     "start_time": "2020-08-18T20:12:48.819904",
     "status": "completed"
    },
    "tags": []
   },
   "outputs": [
    {
     "data": {
      "text/plain": [
       "((10000, 28, 28), (10000,))"
      ]
     },
     "execution_count": 8,
     "metadata": {},
     "output_type": "execute_result"
    }
   ],
   "source": [
    "test_images.shape, test_labels.shape"
   ]
  },
  {
   "cell_type": "code",
   "execution_count": 9,
   "metadata": {
    "execution": {
     "iopub.execute_input": "2020-08-18T20:12:48.942913Z",
     "iopub.status.busy": "2020-08-18T20:12:48.942283Z",
     "iopub.status.idle": "2020-08-18T20:12:49.121039Z",
     "shell.execute_reply": "2020-08-18T20:12:49.121647Z"
    },
    "papermill": {
     "duration": 0.221215,
     "end_time": "2020-08-18T20:12:49.121877",
     "exception": false,
     "start_time": "2020-08-18T20:12:48.900662",
     "status": "completed"
    },
    "tags": []
   },
   "outputs": [
    {
     "name": "stdout",
     "output_type": "stream",
     "text": [
      "2\n"
     ]
    },
    {
     "data": {
      "text/plain": [
       "<matplotlib.image.AxesImage at 0x7f194ad862e8>"
      ]
     },
     "execution_count": 9,
     "metadata": {},
     "output_type": "execute_result"
    },
    {
     "data": {
      "image/png": "[encoded data removed]",
      "text/plain": [
       "<Figure size 432x288 with 1 Axes>"
      ]
     },
     "metadata": {
      "needs_background": "light"
     },
     "output_type": "display_data"
    }
   ],
   "source": [
    "image_index = 7776 # You may select anything up to 60,000\n",
    "print(train_labels[image_index]) \n",
    "plt.imshow(train_images[image_index], cmap='Greys')"
   ]
  },
  {
   "cell_type": "markdown",
   "metadata": {
    "papermill": {
     "duration": 0.033943,
     "end_time": "2020-08-18T20:12:49.189555",
     "exception": false,
     "start_time": "2020-08-18T20:12:49.155612",
     "status": "completed"
    },
    "tags": []
   },
   "source": [
    "## Filter data to get 3 and 8 out"
   ]
  },
  {
   "cell_type": "code",
   "execution_count": 10,
   "metadata": {
    "execution": {
     "iopub.execute_input": "2020-08-18T20:12:49.259720Z",
     "iopub.status.busy": "2020-08-18T20:12:49.258942Z",
     "iopub.status.idle": "2020-08-18T20:12:49.279702Z",
     "shell.execute_reply": "2020-08-18T20:12:49.280272Z"
    },
    "papermill": {
     "duration": 0.057686,
     "end_time": "2020-08-18T20:12:49.280553",
     "exception": false,
     "start_time": "2020-08-18T20:12:49.222867",
     "status": "completed"
    },
    "tags": []
   },
   "outputs": [],
   "source": [
    "train_filter = np.where((train_labels == 3 ) | (train_labels == 8))\n",
    "test_filter = np.where((test_labels == 3) | (test_labels == 8))\n",
    "X_train, y_train = train_images[train_filter], train_labels[train_filter]\n",
    "X_test, y_test = test_images[test_filter], test_labels[test_filter]"
   ]
  },
  {
   "cell_type": "markdown",
   "metadata": {
    "papermill": {
     "duration": 0.033157,
     "end_time": "2020-08-18T20:12:49.349352",
     "exception": false,
     "start_time": "2020-08-18T20:12:49.316195",
     "status": "completed"
    },
    "tags": []
   },
   "source": [
    "##### We normalize the pizel values in the 0 to 1 range"
   ]
  },
  {
   "cell_type": "code",
   "execution_count": 11,
   "metadata": {
    "execution": {
     "iopub.execute_input": "2020-08-18T20:12:49.420768Z",
     "iopub.status.busy": "2020-08-18T20:12:49.420082Z",
     "iopub.status.idle": "2020-08-18T20:12:49.485818Z",
     "shell.execute_reply": "2020-08-18T20:12:49.486423Z"
    },
    "papermill": {
     "duration": 0.10297,
     "end_time": "2020-08-18T20:12:49.486680",
     "exception": false,
     "start_time": "2020-08-18T20:12:49.383710",
     "status": "completed"
    },
    "tags": []
   },
   "outputs": [],
   "source": [
    "X_train = X_train/255.\n",
    "X_test = X_test/255."
   ]
  },
  {
   "cell_type": "markdown",
   "metadata": {
    "papermill": {
     "duration": 0.031909,
     "end_time": "2020-08-18T20:12:49.552690",
     "exception": false,
     "start_time": "2020-08-18T20:12:49.520781",
     "status": "completed"
    },
    "tags": []
   },
   "source": [
    "And setup the labels as 1 (when the digit is 3) and 0 (when the digit is 8)"
   ]
  },
  {
   "cell_type": "code",
   "execution_count": 12,
   "metadata": {
    "execution": {
     "iopub.execute_input": "2020-08-18T20:12:49.623758Z",
     "iopub.status.busy": "2020-08-18T20:12:49.623156Z",
     "iopub.status.idle": "2020-08-18T20:12:49.637066Z",
     "shell.execute_reply": "2020-08-18T20:12:49.636270Z"
    },
    "papermill": {
     "duration": 0.050735,
     "end_time": "2020-08-18T20:12:49.637277",
     "exception": false,
     "start_time": "2020-08-18T20:12:49.586542",
     "status": "completed"
    },
    "tags": []
   },
   "outputs": [],
   "source": [
    "y_train = 1*(y_train==3)\n",
    "y_test = 1*(y_test==3)"
   ]
  },
  {
   "cell_type": "code",
   "execution_count": 13,
   "metadata": {
    "execution": {
     "iopub.execute_input": "2020-08-18T20:12:49.708497Z",
     "iopub.status.busy": "2020-08-18T20:12:49.707900Z",
     "iopub.status.idle": "2020-08-18T20:12:49.721694Z",
     "shell.execute_reply": "2020-08-18T20:12:49.722294Z"
    },
    "papermill": {
     "duration": 0.05192,
     "end_time": "2020-08-18T20:12:49.722456",
     "exception": false,
     "start_time": "2020-08-18T20:12:49.670536",
     "status": "completed"
    },
    "tags": []
   },
   "outputs": [
    {
     "data": {
      "text/plain": [
       "((11982, 28, 28), (1984, 28, 28))"
      ]
     },
     "execution_count": 13,
     "metadata": {},
     "output_type": "execute_result"
    }
   ],
   "source": [
    "X_train.shape, X_test.shape"
   ]
  },
  {
   "cell_type": "markdown",
   "metadata": {
    "papermill": {
     "duration": 0.035128,
     "end_time": "2020-08-18T20:12:49.791588",
     "exception": false,
     "start_time": "2020-08-18T20:12:49.756460",
     "status": "completed"
    },
    "tags": []
   },
   "source": [
    "##### We reshape the data to flatten the image pixels into a set of features or co-variates:"
   ]
  },
  {
   "cell_type": "code",
   "execution_count": 14,
   "metadata": {
    "execution": {
     "iopub.execute_input": "2020-08-18T20:12:49.868137Z",
     "iopub.status.busy": "2020-08-18T20:12:49.867521Z",
     "iopub.status.idle": "2020-08-18T20:12:49.881954Z",
     "shell.execute_reply": "2020-08-18T20:12:49.881465Z"
    },
    "papermill": {
     "duration": 0.053914,
     "end_time": "2020-08-18T20:12:49.882076",
     "exception": false,
     "start_time": "2020-08-18T20:12:49.828162",
     "status": "completed"
    },
    "tags": []
   },
   "outputs": [
    {
     "data": {
      "text/plain": [
       "((11982, 784), (1984, 784))"
      ]
     },
     "execution_count": 14,
     "metadata": {},
     "output_type": "execute_result"
    }
   ],
   "source": [
    "X_train = X_train.reshape(X_train.shape[0], -1)\n",
    "X_test = X_test.reshape(X_test.shape[0], -1)\n",
    "X_train.shape, X_test.shape"
   ]
  },
  {
   "cell_type": "markdown",
   "metadata": {
    "papermill": {
     "duration": 0.031011,
     "end_time": "2020-08-18T20:12:49.947687",
     "exception": false,
     "start_time": "2020-08-18T20:12:49.916676",
     "status": "completed"
    },
    "tags": []
   },
   "source": [
    "##### Importing Kudzu library and its functionality"
   ]
  },
  {
   "cell_type": "code",
   "execution_count": 15,
   "metadata": {
    "execution": {
     "iopub.execute_input": "2020-08-18T20:12:50.023111Z",
     "iopub.status.busy": "2020-08-18T20:12:50.022455Z",
     "iopub.status.idle": "2020-08-18T20:12:50.042862Z",
     "shell.execute_reply": "2020-08-18T20:12:50.043383Z"
    },
    "papermill": {
     "duration": 0.059969,
     "end_time": "2020-08-18T20:12:50.043528",
     "exception": false,
     "start_time": "2020-08-18T20:12:49.983559",
     "status": "completed"
    },
    "tags": []
   },
   "outputs": [],
   "source": [
    "from kudzu.data import Data, Dataloader, Sampler\n",
    "from kudzu.callbacks import AccCallback\n",
    "from kudzu.loss import MSE\n",
    "from kudzu.layer import Affine, Sigmoid\n",
    "from kudzu.model import Model\n",
    "from kudzu.optim import GD\n",
    "from kudzu.train import Learner\n",
    "from kudzu.callbacks import ClfCallback\n",
    "from kudzu.layer import Sigmoid\n",
    "from kudzu.layer import Relu"
   ]
  },
  {
   "cell_type": "markdown",
   "metadata": {
    "papermill": {
     "duration": 0.034319,
     "end_time": "2020-08-18T20:12:50.113135",
     "exception": false,
     "start_time": "2020-08-18T20:12:50.078816",
     "status": "completed"
    },
    "tags": []
   },
   "source": [
    "##### We are creating a class, just so that we can use it to store our parameters for us"
   ]
  },
  {
   "cell_type": "code",
   "execution_count": 16,
   "metadata": {
    "execution": {
     "iopub.execute_input": "2020-08-18T20:12:50.188190Z",
     "iopub.status.busy": "2020-08-18T20:12:50.187470Z",
     "iopub.status.idle": "2020-08-18T20:12:50.200789Z",
     "shell.execute_reply": "2020-08-18T20:12:50.200256Z"
    },
    "papermill": {
     "duration": 0.052045,
     "end_time": "2020-08-18T20:12:50.200911",
     "exception": false,
     "start_time": "2020-08-18T20:12:50.148866",
     "status": "completed"
    },
    "tags": []
   },
   "outputs": [],
   "source": [
    "class Config:\n",
    "    pass\n",
    "config = Config()\n",
    "config.lr = 0.001\n",
    "config.num_epochs = 250\n",
    "config.bs = 50"
   ]
  },
  {
   "cell_type": "markdown",
   "metadata": {
    "papermill": {
     "duration": 0.033295,
     "end_time": "2020-08-18T20:12:50.267877",
     "exception": false,
     "start_time": "2020-08-18T20:12:50.234582",
     "status": "completed"
    },
    "tags": []
   },
   "source": [
    "##### Initializing Data"
   ]
  },
  {
   "cell_type": "code",
   "execution_count": 17,
   "metadata": {
    "execution": {
     "iopub.execute_input": "2020-08-18T20:12:50.348968Z",
     "iopub.status.busy": "2020-08-18T20:12:50.348197Z",
     "iopub.status.idle": "2020-08-18T20:12:50.362306Z",
     "shell.execute_reply": "2020-08-18T20:12:50.361769Z"
    },
    "papermill": {
     "duration": 0.05575,
     "end_time": "2020-08-18T20:12:50.362445",
     "exception": false,
     "start_time": "2020-08-18T20:12:50.306695",
     "status": "completed"
    },
    "tags": []
   },
   "outputs": [],
   "source": [
    "data = Data(X_train, y_train.reshape(-1,1))\n",
    "loss = MSE()\n",
    "opt = GD(config.lr)\n",
    "sampler = Sampler(data, config.bs, shuffle=True)\n",
    "dl = Dataloader(data, sampler)"
   ]
  },
  {
   "cell_type": "markdown",
   "metadata": {
    "papermill": {
     "duration": 0.037148,
     "end_time": "2020-08-18T20:12:50.433707",
     "exception": false,
     "start_time": "2020-08-18T20:12:50.396559",
     "status": "completed"
    },
    "tags": []
   },
   "source": [
    "##### Constructing 2 different layers, one for NN and one only for logistic regression."
   ]
  },
  {
   "cell_type": "markdown",
   "metadata": {
    "papermill": {
     "duration": 0.038144,
     "end_time": "2020-08-18T20:12:50.505196",
     "exception": false,
     "start_time": "2020-08-18T20:12:50.467052",
     "status": "completed"
    },
    "tags": []
   },
   "source": [
    "##### Creating containers for data to be passed, to calculate accuracies"
   ]
  },
  {
   "cell_type": "code",
   "execution_count": 18,
   "metadata": {
    "execution": {
     "iopub.execute_input": "2020-08-18T20:12:50.587066Z",
     "iopub.status.busy": "2020-08-18T20:12:50.586374Z",
     "iopub.status.idle": "2020-08-18T20:12:50.599479Z",
     "shell.execute_reply": "2020-08-18T20:12:50.600080Z"
    },
    "papermill": {
     "duration": 0.057022,
     "end_time": "2020-08-18T20:12:50.600253",
     "exception": false,
     "start_time": "2020-08-18T20:12:50.543231",
     "status": "completed"
    },
    "tags": []
   },
   "outputs": [],
   "source": [
    "training_xdata = X_train\n",
    "testing_xdata = X_test\n",
    "training_ydata = y_train.reshape(-1,1)\n",
    "testing_ydata = y_test.reshape(-1,1)"
   ]
  },
  {
   "cell_type": "markdown",
   "metadata": {
    "papermill": {
     "duration": 0.033995,
     "end_time": "2020-08-18T20:12:50.669996",
     "exception": false,
     "start_time": "2020-08-18T20:12:50.636001",
     "status": "completed"
    },
    "tags": []
   },
   "source": [
    "##### Initializing models and Running training loop: "
   ]
  },
  {
   "cell_type": "code",
   "execution_count": 19,
   "metadata": {
    "execution": {
     "iopub.execute_input": "2020-08-18T20:12:50.744971Z",
     "iopub.status.busy": "2020-08-18T20:12:50.744292Z",
     "iopub.status.idle": "2020-08-18T20:12:50.762106Z",
     "shell.execute_reply": "2020-08-18T20:12:50.761497Z"
    },
    "papermill": {
     "duration": 0.056974,
     "end_time": "2020-08-18T20:12:50.762231",
     "exception": false,
     "start_time": "2020-08-18T20:12:50.705257",
     "status": "completed"
    },
    "tags": []
   },
   "outputs": [],
   "source": [
    "layers = [Affine(\"first\", 784, 100), Relu(\"first\"), Affine(\"second\", 100, 100), Relu(\"second\"), Affine(\"third\", 100, 2), Affine(\"final\", 2, 1), Sigmoid(\"final\")]\n",
    "\n",
    "model_neural = Model(layers)\n",
    "model_logistic = Model([Affine(\"logits\", 784, 1), Sigmoid(\"sigmoid\")])"
   ]
  },
  {
   "cell_type": "code",
   "execution_count": 20,
   "metadata": {
    "execution": {
     "iopub.execute_input": "2020-08-18T20:12:50.837748Z",
     "iopub.status.busy": "2020-08-18T20:12:50.836888Z",
     "iopub.status.idle": "2020-08-18T20:12:50.851121Z",
     "shell.execute_reply": "2020-08-18T20:12:50.850618Z"
    },
    "papermill": {
     "duration": 0.054908,
     "end_time": "2020-08-18T20:12:50.851259",
     "exception": false,
     "start_time": "2020-08-18T20:12:50.796351",
     "status": "completed"
    },
    "tags": []
   },
   "outputs": [],
   "source": [
    "learner1 = Learner(loss, model_neural, opt, config.num_epochs)\n",
    "acc1 = ClfCallback(learner1, config.bs, training_xdata , testing_xdata, training_ydata, testing_ydata)\n",
    "learner1.set_callbacks([acc1])"
   ]
  },
  {
   "cell_type": "code",
   "execution_count": 21,
   "metadata": {
    "execution": {
     "iopub.execute_input": "2020-08-18T20:12:50.920139Z",
     "iopub.status.busy": "2020-08-18T20:12:50.919364Z",
     "iopub.status.idle": "2020-08-18T20:15:09.076292Z",
     "shell.execute_reply": "2020-08-18T20:15:09.075638Z"
    },
    "papermill": {
     "duration": 138.193285,
     "end_time": "2020-08-18T20:15:09.076427",
     "exception": false,
     "start_time": "2020-08-18T20:12:50.883142",
     "status": "completed"
    },
    "tags": []
   },
   "outputs": [
    {
     "name": "stdout",
     "output_type": "stream",
     "text": [
      "Epoch 0 Loss 0.25161190176336323\n",
      "train accuracy is: 0.4528459355700217, test accuracy is 0.45413306451612906\n"
     ]
    },
    {
     "name": "stdout",
     "output_type": "stream",
     "text": [
      "Epoch 10 Loss 0.23158770180657623\n",
      "train accuracy is: 0.8014521782674011, test accuracy is 0.8044354838709677\n"
     ]
    },
    {
     "name": "stdout",
     "output_type": "stream",
     "text": [
      "Epoch 20 Loss 0.16732875896555388\n",
      "train accuracy is: 0.8765648472709063, test accuracy is 0.889616935483871\n"
     ]
    },
    {
     "name": "stdout",
     "output_type": "stream",
     "text": [
      "Epoch 30 Loss 0.08737067588309583\n",
      "train accuracy is: 0.9176264396594892, test accuracy is 0.9299395161290323\n"
     ]
    },
    {
     "name": "stdout",
     "output_type": "stream",
     "text": [
      "Epoch 40 Loss 0.05852895935168602\n",
      "train accuracy is: 0.9379903188115507, test accuracy is 0.9475806451612904\n"
     ]
    },
    {
     "name": "stdout",
     "output_type": "stream",
     "text": [
      "Epoch 50 Loss 0.04667427021347391\n",
      "train accuracy is: 0.9480053413453514, test accuracy is 0.9566532258064516\n"
     ]
    },
    {
     "name": "stdout",
     "output_type": "stream",
     "text": [
      "Epoch 60 Loss 0.0404530161359274\n",
      "train accuracy is: 0.9537639793022867, test accuracy is 0.9616935483870968\n"
     ]
    },
    {
     "name": "stdout",
     "output_type": "stream",
     "text": [
      "Epoch 70 Loss 0.03658706102466044\n",
      "train accuracy is: 0.958103822400267, test accuracy is 0.9657258064516129\n"
     ]
    },
    {
     "name": "stdout",
     "output_type": "stream",
     "text": [
      "Epoch 80 Loss 0.03390588205575948\n",
      "train accuracy is: 0.9601902854281422, test accuracy is 0.9667338709677419\n"
     ]
    },
    {
     "name": "stdout",
     "output_type": "stream",
     "text": [
      "Epoch 90 Loss 0.03190473028791864\n",
      "train accuracy is: 0.9623602069771323, test accuracy is 0.9667338709677419\n"
     ]
    },
    {
     "name": "stdout",
     "output_type": "stream",
     "text": [
      "Epoch 100 Loss 0.03032525094035193\n",
      "train accuracy is: 0.9645301285261225, test accuracy is 0.967741935483871\n"
     ]
    },
    {
     "name": "stdout",
     "output_type": "stream",
     "text": [
      "Epoch 110 Loss 0.029040918048289056\n",
      "train accuracy is: 0.9661992989484226, test accuracy is 0.9707661290322581\n"
     ]
    },
    {
     "name": "stdout",
     "output_type": "stream",
     "text": [
      "Epoch 120 Loss 0.027947192870101112\n",
      "train accuracy is: 0.9677850108496078, test accuracy is 0.9717741935483871\n"
     ]
    },
    {
     "name": "stdout",
     "output_type": "stream",
     "text": [
      "Epoch 130 Loss 0.026997946506987492\n",
      "train accuracy is: 0.9685361375396428, test accuracy is 0.9727822580645161\n"
     ]
    },
    {
     "name": "stdout",
     "output_type": "stream",
     "text": [
      "Epoch 140 Loss 0.02615932253611451\n",
      "train accuracy is: 0.9692038057085628, test accuracy is 0.9742943548387096\n"
     ]
    },
    {
     "name": "stdout",
     "output_type": "stream",
     "text": [
      "Epoch 150 Loss 0.02541019946445583\n",
      "train accuracy is: 0.9697880153563679, test accuracy is 0.9742943548387096\n"
     ]
    },
    {
     "name": "stdout",
     "output_type": "stream",
     "text": [
      "Epoch 160 Loss 0.02472948822997762\n",
      "train accuracy is: 0.970288766483058, test accuracy is 0.9747983870967742\n"
     ]
    },
    {
     "name": "stdout",
     "output_type": "stream",
     "text": [
      "Epoch 170 Loss 0.02410702249462374\n",
      "train accuracy is: 0.971039893173093, test accuracy is 0.9747983870967742\n"
     ]
    },
    {
     "name": "stdout",
     "output_type": "stream",
     "text": [
      "Epoch 180 Loss 0.023526003769247426\n",
      "train accuracy is: 0.9721248539475881, test accuracy is 0.9742943548387096\n"
     ]
    },
    {
     "name": "stdout",
     "output_type": "stream",
     "text": [
      "Epoch 190 Loss 0.022985568518803547\n",
      "train accuracy is: 0.9732932732431981, test accuracy is 0.9742943548387096\n"
     ]
    },
    {
     "name": "stdout",
     "output_type": "stream",
     "text": [
      "Epoch 200 Loss 0.02246827985198632\n",
      "train accuracy is: 0.9735436488065431, test accuracy is 0.9753024193548387\n"
     ]
    },
    {
     "name": "stdout",
     "output_type": "stream",
     "text": [
      "Epoch 210 Loss 0.021974924251243574\n",
      "train accuracy is: 0.9743782340176932, test accuracy is 0.9753024193548387\n"
     ]
    },
    {
     "name": "stdout",
     "output_type": "stream",
     "text": [
      "Epoch 220 Loss 0.021510681556638846\n",
      "train accuracy is: 0.9752128192288433, test accuracy is 0.9753024193548387\n"
     ]
    },
    {
     "name": "stdout",
     "output_type": "stream",
     "text": [
      "Epoch 230 Loss 0.02107124844930917\n",
      "train accuracy is: 0.9757970288766483, test accuracy is 0.9758064516129032\n"
     ]
    },
    {
     "name": "stdout",
     "output_type": "stream",
     "text": [
      "Epoch 240 Loss 0.020652604167846974\n",
      "train accuracy is: 0.9765481555666834, test accuracy is 0.9747983870967742\n"
     ]
    },
    {
     "data": {
      "text/plain": [
       "0.04211470687885842"
      ]
     },
     "execution_count": 21,
     "metadata": {},
     "output_type": "execute_result"
    }
   ],
   "source": [
    "learner1.train_loop(dl)"
   ]
  },
  {
   "cell_type": "markdown",
   "metadata": {
    "papermill": {
     "duration": 0.07608,
     "end_time": "2020-08-18T20:15:09.195913",
     "exception": false,
     "start_time": "2020-08-18T20:15:09.119833",
     "status": "completed"
    },
    "tags": []
   },
   "source": [
    "##### Now running only the logistic regression based classification to compare results with NN"
   ]
  },
  {
   "cell_type": "code",
   "execution_count": 22,
   "metadata": {
    "execution": {
     "iopub.execute_input": "2020-08-18T20:15:09.284782Z",
     "iopub.status.busy": "2020-08-18T20:15:09.284231Z",
     "iopub.status.idle": "2020-08-18T20:15:09.296280Z",
     "shell.execute_reply": "2020-08-18T20:15:09.295823Z"
    },
    "papermill": {
     "duration": 0.058641,
     "end_time": "2020-08-18T20:15:09.296396",
     "exception": false,
     "start_time": "2020-08-18T20:15:09.237755",
     "status": "completed"
    },
    "tags": []
   },
   "outputs": [],
   "source": [
    "learner2 = Learner(loss, model_logistic, opt, config.num_epochs)\n",
    "acc2 = ClfCallback(learner2, config.bs, training_xdata , testing_xdata, training_ydata, testing_ydata)\n",
    "learner2.set_callbacks([acc2])"
   ]
  },
  {
   "cell_type": "code",
   "execution_count": 23,
   "metadata": {
    "execution": {
     "iopub.execute_input": "2020-08-18T20:15:09.384004Z",
     "iopub.status.busy": "2020-08-18T20:15:09.383258Z",
     "iopub.status.idle": "2020-08-18T20:15:29.563353Z",
     "shell.execute_reply": "2020-08-18T20:15:29.564161Z"
    },
    "papermill": {
     "duration": 20.228632,
     "end_time": "2020-08-18T20:15:29.564369",
     "exception": false,
     "start_time": "2020-08-18T20:15:09.335737",
     "status": "completed"
    },
    "tags": []
   },
   "outputs": [
    {
     "name": "stdout",
     "output_type": "stream",
     "text": [
      "Epoch 0 Loss 0.26672660656600167\n",
      "train accuracy is: 0.5923051243531965, test accuracy is 0.5700604838709677\n"
     ]
    },
    {
     "name": "stdout",
     "output_type": "stream",
     "text": [
      "Epoch 10 Loss 0.10300929026767387\n",
      "train accuracy is: 0.9057753296611584, test accuracy is 0.9158266129032258\n"
     ]
    },
    {
     "name": "stdout",
     "output_type": "stream",
     "text": [
      "Epoch 20 Loss 0.07955399419538174\n",
      "train accuracy is: 0.9233016190953096, test accuracy is 0.9324596774193549\n"
     ]
    },
    {
     "name": "stdout",
     "output_type": "stream",
     "text": [
      "Epoch 30 Loss 0.06887122465597681\n",
      "train accuracy is: 0.9327324319813053, test accuracy is 0.9415322580645161\n"
     ]
    },
    {
     "name": "stdout",
     "output_type": "stream",
     "text": [
      "Epoch 40 Loss 0.06240279451228378\n",
      "train accuracy is: 0.9379903188115507, test accuracy is 0.9455645161290323\n"
     ]
    },
    {
     "name": "stdout",
     "output_type": "stream",
     "text": [
      "Epoch 50 Loss 0.05795056990814853\n",
      "train accuracy is: 0.941745952261726, test accuracy is 0.9490927419354839\n"
     ]
    },
    {
     "name": "stdout",
     "output_type": "stream",
     "text": [
      "Epoch 60 Loss 0.05464920123457101\n",
      "train accuracy is: 0.943832415289601, test accuracy is 0.952116935483871\n"
     ]
    },
    {
     "name": "stdout",
     "output_type": "stream",
     "text": [
      "Epoch 70 Loss 0.0520783330731282\n",
      "train accuracy is: 0.9465865464863963, test accuracy is 0.9556451612903226\n"
     ]
    },
    {
     "name": "stdout",
     "output_type": "stream",
     "text": [
      "Epoch 80 Loss 0.050003513632075794\n",
      "train accuracy is: 0.9482557169086964, test accuracy is 0.9586693548387096\n"
     ]
    },
    {
     "name": "stdout",
     "output_type": "stream",
     "text": [
      "Epoch 90 Loss 0.048284218567983005\n",
      "train accuracy is: 0.9498414288098815, test accuracy is 0.9596774193548387\n"
     ]
    },
    {
     "name": "stdout",
     "output_type": "stream",
     "text": [
      "Epoch 100 Loss 0.04683008091820685\n",
      "train accuracy is: 0.9509263895843766, test accuracy is 0.9601814516129032\n"
     ]
    },
    {
     "name": "stdout",
     "output_type": "stream",
     "text": [
      "Epoch 110 Loss 0.04557797633556508\n",
      "train accuracy is: 0.9520948088799867, test accuracy is 0.9606854838709677\n"
     ]
    },
    {
     "name": "stdout",
     "output_type": "stream",
     "text": [
      "Epoch 120 Loss 0.04448521112999996\n",
      "train accuracy is: 0.9532632281755967, test accuracy is 0.9606854838709677\n"
     ]
    },
    {
     "name": "stdout",
     "output_type": "stream",
     "text": [
      "Epoch 130 Loss 0.043520655826536525\n",
      "train accuracy is: 0.9536805207811717, test accuracy is 0.9611895161290323\n"
     ]
    },
    {
     "name": "stdout",
     "output_type": "stream",
     "text": [
      "Epoch 140 Loss 0.042661023209096\n",
      "train accuracy is: 0.9549323985978968, test accuracy is 0.9616935483870968\n"
     ]
    },
    {
     "name": "stdout",
     "output_type": "stream",
     "text": [
      "Epoch 150 Loss 0.04188778351985104\n",
      "train accuracy is: 0.9558504423301619, test accuracy is 0.9621975806451613\n"
     ]
    },
    {
     "name": "stdout",
     "output_type": "stream",
     "text": [
      "Epoch 160 Loss 0.041188734812289435\n",
      "train accuracy is: 0.956685027541312, test accuracy is 0.9632056451612904\n"
     ]
    },
    {
     "name": "stdout",
     "output_type": "stream",
     "text": [
      "Epoch 170 Loss 0.04055083920736313\n",
      "train accuracy is: 0.957102320146887, test accuracy is 0.9632056451612904\n"
     ]
    },
    {
     "name": "stdout",
     "output_type": "stream",
     "text": [
      "Epoch 180 Loss 0.03996657545856662\n",
      "train accuracy is: 0.957436154231347, test accuracy is 0.9632056451612904\n"
     ]
    },
    {
     "name": "stdout",
     "output_type": "stream",
     "text": [
      "Epoch 190 Loss 0.03942842289782444\n",
      "train accuracy is: 0.958020363879152, test accuracy is 0.9632056451612904\n"
     ]
    },
    {
     "name": "stdout",
     "output_type": "stream",
     "text": [
      "Epoch 200 Loss 0.03893060680337789\n",
      "train accuracy is: 0.9585211150058421, test accuracy is 0.9632056451612904\n"
     ]
    },
    {
     "name": "stdout",
     "output_type": "stream",
     "text": [
      "Epoch 210 Loss 0.038468456045904494\n",
      "train accuracy is: 0.9586880320480721, test accuracy is 0.9642137096774194\n"
     ]
    },
    {
     "name": "stdout",
     "output_type": "stream",
     "text": [
      "Epoch 220 Loss 0.0380379120945519\n",
      "train accuracy is: 0.9586880320480721, test accuracy is 0.9647177419354839\n"
     ]
    },
    {
     "name": "stdout",
     "output_type": "stream",
     "text": [
      "Epoch 230 Loss 0.03763574384452906\n",
      "train accuracy is: 0.9588549490903021, test accuracy is 0.9657258064516129\n"
     ]
    },
    {
     "name": "stdout",
     "output_type": "stream",
     "text": [
      "Epoch 240 Loss 0.03725818449357384\n",
      "train accuracy is: 0.9593557002169921, test accuracy is 0.9657258064516129\n"
     ]
    },
    {
     "data": {
      "text/plain": [
       "0.02712179639337587"
      ]
     },
     "execution_count": 23,
     "metadata": {},
     "output_type": "execute_result"
    }
   ],
   "source": [
    "learner2.train_loop(dl)"
   ]
  },
  {
   "cell_type": "markdown",
   "metadata": {
    "papermill": {
     "duration": 0.055181,
     "end_time": "2020-08-18T20:15:29.672146",
     "exception": false,
     "start_time": "2020-08-18T20:15:29.616965",
     "status": "completed"
    },
    "tags": []
   },
   "source": [
    "### Comparing results of NN and LR"
   ]
  },
  {
   "cell_type": "code",
   "execution_count": 24,
   "metadata": {
    "execution": {
     "iopub.execute_input": "2020-08-18T20:15:29.781510Z",
     "iopub.status.busy": "2020-08-18T20:15:29.780906Z",
     "iopub.status.idle": "2020-08-18T20:15:30.039161Z",
     "shell.execute_reply": "2020-08-18T20:15:30.039688Z"
    },
    "papermill": {
     "duration": 0.317359,
     "end_time": "2020-08-18T20:15:30.039845",
     "exception": false,
     "start_time": "2020-08-18T20:15:29.722486",
     "status": "completed"
    },
    "tags": []
   },
   "outputs": [
    {
     "data": {
      "text/plain": [
       "<matplotlib.legend.Legend at 0x7f194a95c9e8>"
      ]
     },
     "execution_count": 24,
     "metadata": {},
     "output_type": "execute_result"
    },
    {
     "data": {
      "image/png": "[encoded data removed]",
      "text/plain": [
       "<Figure size 576x360 with 1 Axes>"
      ]
     },
     "metadata": {
      "needs_background": "light"
     },
     "output_type": "display_data"
    }
   ],
   "source": [
    "plt.figure(figsize=(8,5))\n",
    "plt.plot(acc1.val_accuracies, 'g-', label = \"Val Accuracies - NN\")\n",
    "plt.plot(acc1.accuracies, 'r-', label = \"Accuracies - NN\")\n",
    "plt.plot(acc2.val_accuracies, 'b-', label = \"Val Accuracies - Logistic Reg\")\n",
    "plt.plot(acc2.accuracies, 'k-', label = \"Accuracies - Logistic Reg\")\n",
    "plt.ylim(0.8,1) ## for a more spread out view\n",
    "plt.legend()"
   ]
  },
  {
   "cell_type": "markdown",
   "metadata": {
    "papermill": {
     "duration": 0.052669,
     "end_time": "2020-08-18T20:15:30.153866",
     "exception": false,
     "start_time": "2020-08-18T20:15:30.101197",
     "status": "completed"
    },
    "tags": []
   },
   "source": [
    "### Clearly NN has a better accuracy over LR; NN is overfitting - Validation accuracy (green) has dropped below training accuracy (orange), also they are diverging. This problem is not seen in LR"
   ]
  },
  {
   "cell_type": "markdown",
   "metadata": {
    "papermill": {
     "duration": 0.053139,
     "end_time": "2020-08-18T20:15:30.261097",
     "exception": false,
     "start_time": "2020-08-18T20:15:30.207958",
     "status": "completed"
    },
    "tags": []
   },
   "source": [
    "##### Now we will be moving through the network, till the output of the second last affine where we get a 2 dimensional output. We will be plotting this 2d output and probability contours"
   ]
  },
  {
   "cell_type": "code",
   "execution_count": 25,
   "metadata": {
    "execution": {
     "iopub.execute_input": "2020-08-18T20:15:30.370400Z",
     "iopub.status.busy": "2020-08-18T20:15:30.369663Z",
     "iopub.status.idle": "2020-08-18T20:15:30.383486Z",
     "shell.execute_reply": "2020-08-18T20:15:30.382901Z"
    },
    "papermill": {
     "duration": 0.070067,
     "end_time": "2020-08-18T20:15:30.383674",
     "exception": false,
     "start_time": "2020-08-18T20:15:30.313607",
     "status": "completed"
    },
    "tags": []
   },
   "outputs": [],
   "source": [
    "model_new = Model(layers[:-2])"
   ]
  },
  {
   "cell_type": "code",
   "execution_count": 26,
   "metadata": {
    "execution": {
     "iopub.execute_input": "2020-08-18T20:15:30.497075Z",
     "iopub.status.busy": "2020-08-18T20:15:30.496376Z",
     "iopub.status.idle": "2020-08-18T20:15:30.523863Z",
     "shell.execute_reply": "2020-08-18T20:15:30.524742Z"
    },
    "papermill": {
     "duration": 0.08462,
     "end_time": "2020-08-18T20:15:30.524925",
     "exception": false,
     "start_time": "2020-08-18T20:15:30.440305",
     "status": "completed"
    },
    "tags": []
   },
   "outputs": [],
   "source": [
    "plot_testing = model_new(testing_xdata)"
   ]
  },
  {
   "cell_type": "markdown",
   "metadata": {
    "papermill": {
     "duration": 0.074705,
     "end_time": "2020-08-18T20:15:30.651804",
     "exception": false,
     "start_time": "2020-08-18T20:15:30.577099",
     "status": "completed"
    },
    "tags": []
   },
   "source": [
    "##### Plotting the scatter plot of points and color coding by class"
   ]
  },
  {
   "cell_type": "code",
   "execution_count": 27,
   "metadata": {
    "execution": {
     "iopub.execute_input": "2020-08-18T20:15:30.759446Z",
     "iopub.status.busy": "2020-08-18T20:15:30.758862Z",
     "iopub.status.idle": "2020-08-18T20:15:30.980371Z",
     "shell.execute_reply": "2020-08-18T20:15:30.980936Z"
    },
    "papermill": {
     "duration": 0.277914,
     "end_time": "2020-08-18T20:15:30.981084",
     "exception": false,
     "start_time": "2020-08-18T20:15:30.703170",
     "status": "completed"
    },
    "tags": []
   },
   "outputs": [
    {
     "data": {
      "image/png": "[encoded data removed]",
      "text/plain": [
       "<Figure size 576x504 with 1 Axes>"
      ]
     },
     "metadata": {
      "needs_background": "light"
     },
     "output_type": "display_data"
    }
   ],
   "source": [
    "plt.figure(figsize=(8,7))\n",
    "plt.scatter(plot_testing[:,0], plot_testing[:,1], alpha = 0.1, c = y_test.ravel());"
   ]
  },
  {
   "cell_type": "markdown",
   "metadata": {
    "papermill": {
     "duration": 0.05668,
     "end_time": "2020-08-18T20:15:31.092208",
     "exception": false,
     "start_time": "2020-08-18T20:15:31.035528",
     "status": "completed"
    },
    "tags": []
   },
   "source": [
    "##### Plotting probability contours"
   ]
  },
  {
   "cell_type": "code",
   "execution_count": 28,
   "metadata": {
    "execution": {
     "iopub.execute_input": "2020-08-18T20:15:31.199789Z",
     "iopub.status.busy": "2020-08-18T20:15:31.199177Z",
     "iopub.status.idle": "2020-08-18T20:15:31.213650Z",
     "shell.execute_reply": "2020-08-18T20:15:31.212660Z"
    },
    "papermill": {
     "duration": 0.070108,
     "end_time": "2020-08-18T20:15:31.213780",
     "exception": false,
     "start_time": "2020-08-18T20:15:31.143672",
     "status": "completed"
    },
    "tags": []
   },
   "outputs": [],
   "source": [
    "model_prob = Model(layers[-2:]) ## picking only last two layers to get probability. That is affine followed by sigmoid"
   ]
  },
  {
   "cell_type": "code",
   "execution_count": 29,
   "metadata": {
    "execution": {
     "iopub.execute_input": "2020-08-18T20:15:31.327166Z",
     "iopub.status.busy": "2020-08-18T20:15:31.326467Z",
     "iopub.status.idle": "2020-08-18T20:15:31.341834Z",
     "shell.execute_reply": "2020-08-18T20:15:31.342317Z"
    },
    "papermill": {
     "duration": 0.074043,
     "end_time": "2020-08-18T20:15:31.342465",
     "exception": false,
     "start_time": "2020-08-18T20:15:31.268422",
     "status": "completed"
    },
    "tags": []
   },
   "outputs": [],
   "source": [
    "xgrid = np.linspace(-4, 1, 100) ## Adjust these values based on above chart, roughly -4 to 1\n",
    "ygrid = np.linspace(-7.5, 7.5, 100) ## Adjust these values based on above chart, roughly -7.5, 7.5\n",
    "xg, yg = np.meshgrid(xgrid, ygrid)\n",
    "# xg and yg are now both 100X100, lets convert them to single arrays \n",
    "\n",
    "xg_interim = np.ravel(xg)\n",
    "yg_interim = np.ravel(yg)\n",
    "\n",
    "## xg_interim, yg_interim are now arrays of len 10000, now we will stack them and then transpose to get desired shape of n rows, 2 columns\n",
    "\n",
    "X_interim = np.vstack((xg_interim, yg_interim)) ## Please note vstack takes in a tuple\n",
    "X = X_interim.T\n",
    "\n",
    "## We want a shape of n rows and 2 columns to be able to feed this to last affine\n",
    "## This last affine takes only two columns, hence the above transformation\n",
    "probability_contour = model_prob(X).reshape(100,100) ## to make it consistent with xg, yg"
   ]
  },
  {
   "cell_type": "code",
   "execution_count": 30,
   "metadata": {
    "execution": {
     "iopub.execute_input": "2020-08-18T20:15:31.456283Z",
     "iopub.status.busy": "2020-08-18T20:15:31.455611Z",
     "iopub.status.idle": "2020-08-18T20:15:31.728798Z",
     "shell.execute_reply": "2020-08-18T20:15:31.729398Z"
    },
    "papermill": {
     "duration": 0.334817,
     "end_time": "2020-08-18T20:15:31.729633",
     "exception": false,
     "start_time": "2020-08-18T20:15:31.394816",
     "status": "completed"
    },
    "tags": []
   },
   "outputs": [
    {
     "data": {
      "image/png": "[encoded data removed]",
      "text/plain": [
       "<Figure size 576x504 with 1 Axes>"
      ]
     },
     "metadata": {
      "needs_background": "light"
     },
     "output_type": "display_data"
    }
   ],
   "source": [
    "plt.figure(figsize=(8,7))\n",
    "plt.scatter(plot_testing[:,0], plot_testing[:,1], alpha = 0.1, c = y_test.ravel())\n",
    "contours = plt.contour(xg,yg,probability_contour)\n",
    "plt.clabel(contours, inline = True );"
   ]
  }
 ],
 "metadata": {
  "kernelspec": {
   "display_name": "Python 3",
   "language": "python",
   "name": "python3"
  },
  "language_info": {
   "codemirror_mode": {
    "name": "ipython",
    "version": 3
   },
   "file_extension": ".py",
   "mimetype": "text/x-python",
   "name": "python",
   "nbconvert_exporter": "python",
   "pygments_lexer": "ipython3",
   "version": "3.6.11"
  },
  "papermill": {
   "duration": 168.68178,
   "end_time": "2020-08-18T20:15:32.198150",
   "environment_variables": {},
   "exception": null,
   "input_path": "2020-08-07-NN-new.ipynb",
   "output_path": "2020-08-07-NN-new.ipynb",
   "parameters": {},
   "start_time": "2020-08-18T20:12:43.516370",
   "version": "2.1.2"
  }
 },
 "nbformat": 4,
 "nbformat_minor": 4
}