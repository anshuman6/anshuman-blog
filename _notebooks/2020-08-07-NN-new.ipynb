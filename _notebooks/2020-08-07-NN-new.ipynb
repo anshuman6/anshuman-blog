{
 "cells": [
  {
   "cell_type": "markdown",
   "metadata": {
    "papermill": {
     "duration": 0.033013,
     "end_time": "2020-08-24T20:12:44.747057",
     "exception": false,
     "start_time": "2020-08-24T20:12:44.714044",
     "status": "completed"
    },
    "tags": []
   },
   "source": [
    "# \"Building a basic Neural Network from scratch - Kudzu\"\n",
    "\n",
    "- badges: true\n",
    "- author: Anshuman Gupta"
   ]
  },
  {
   "cell_type": "markdown",
   "metadata": {
    "papermill": {
     "duration": 0.029246,
     "end_time": "2020-08-24T20:12:44.806815",
     "exception": false,
     "start_time": "2020-08-24T20:12:44.777569",
     "status": "completed"
    },
    "tags": []
   },
   "source": [
    "#### In this project, the idea is to write a classifier to differentiate between handwritten digits 3 and 8, from the MNIST database.\n",
    "\n",
    "#### I will using a custom built neural network library called Kudzu.This has been developed as a part of KTF/Foundations course of Univ.ai (www.univ.ai). The source code for Kudzu Library and and this notebook can be found on my git-hub profile : www.https://github.com/anshuman6 under the folder project-solution. Any feedback and comments are welcome. Please feel free to email me at: anshuman6@gmail.com\n",
    "\n",
    "#### 1. I will be using the MNIST database. \n",
    "\n",
    "#### 2. I will be comparing the results of the 4 layer NN to a standard logistic regression"
   ]
  },
  {
   "cell_type": "markdown",
   "metadata": {
    "papermill": {
     "duration": 0.028696,
     "end_time": "2020-08-24T20:12:44.864480",
     "exception": false,
     "start_time": "2020-08-24T20:12:44.835784",
     "status": "completed"
    },
    "tags": []
   },
   "source": [
    "##### Importing all the necessary libraries"
   ]
  },
  {
   "cell_type": "code",
   "execution_count": 1,
   "metadata": {
    "execution": {
     "iopub.execute_input": "2020-08-24T20:12:44.928765Z",
     "iopub.status.busy": "2020-08-24T20:12:44.928084Z",
     "iopub.status.idle": "2020-08-24T20:12:44.939886Z",
     "shell.execute_reply": "2020-08-24T20:12:44.939356Z"
    },
    "papermill": {
     "duration": 0.045608,
     "end_time": "2020-08-24T20:12:44.940032",
     "exception": false,
     "start_time": "2020-08-24T20:12:44.894424",
     "status": "completed"
    },
    "tags": []
   },
   "outputs": [],
   "source": [
    "%load_ext autoreload\n",
    "%autoreload 2"
   ]
  },
  {
   "cell_type": "code",
   "execution_count": 2,
   "metadata": {
    "execution": {
     "iopub.execute_input": "2020-08-24T20:12:45.004441Z",
     "iopub.status.busy": "2020-08-24T20:12:45.003743Z",
     "iopub.status.idle": "2020-08-24T20:12:45.615357Z",
     "shell.execute_reply": "2020-08-24T20:12:45.614481Z"
    },
    "papermill": {
     "duration": 0.644545,
     "end_time": "2020-08-24T20:12:45.615503",
     "exception": false,
     "start_time": "2020-08-24T20:12:44.970958",
     "status": "completed"
    },
    "tags": []
   },
   "outputs": [],
   "source": [
    "%matplotlib inline\n",
    "import numpy as np\n",
    "import matplotlib.pyplot as plt\n",
    "import pandas as pd"
   ]
  },
  {
   "cell_type": "markdown",
   "metadata": {
    "papermill": {
     "duration": 0.029425,
     "end_time": "2020-08-24T20:12:45.674144",
     "exception": false,
     "start_time": "2020-08-24T20:12:45.644719",
     "status": "completed"
    },
    "tags": []
   },
   "source": [
    "##### The following command helps us download MNIST from notebook itself. You can skip this if you already have MNIST. You can also download it via your terminal."
   ]
  },
  {
   "cell_type": "code",
   "execution_count": 3,
   "metadata": {
    "execution": {
     "iopub.execute_input": "2020-08-24T20:12:45.737773Z",
     "iopub.status.busy": "2020-08-24T20:12:45.736994Z",
     "iopub.status.idle": "2020-08-24T20:12:47.268048Z",
     "shell.execute_reply": "2020-08-24T20:12:47.267517Z"
    },
    "papermill": {
     "duration": 1.564859,
     "end_time": "2020-08-24T20:12:47.268193",
     "exception": false,
     "start_time": "2020-08-24T20:12:45.703334",
     "status": "completed"
    },
    "tags": []
   },
   "outputs": [
    {
     "name": "stdout",
     "output_type": "stream",
     "text": [
      "Collecting mnist\r\n"
     ]
    },
    {
     "name": "stdout",
     "output_type": "stream",
     "text": [
      "  Downloading mnist-0.2.2-py2.py3-none-any.whl (3.5 kB)\r\n"
     ]
    },
    {
     "name": "stdout",
     "output_type": "stream",
     "text": [
      "Requirement already satisfied: numpy in /opt/hostedtoolcache/Python/3.6.11/x64/lib/python3.6/site-packages (from mnist) (1.19.1)\r\n"
     ]
    },
    {
     "name": "stdout",
     "output_type": "stream",
     "text": [
      "Installing collected packages: mnist\r\n"
     ]
    },
    {
     "name": "stdout",
     "output_type": "stream",
     "text": [
      "Successfully installed mnist-0.2.2\r\n"
     ]
    }
   ],
   "source": [
    "!pip install mnist # Please note, it is commented out for now, you can remove comment if you want to install it"
   ]
  },
  {
   "cell_type": "markdown",
   "metadata": {
    "papermill": {
     "duration": 0.03026,
     "end_time": "2020-08-24T20:12:47.331002",
     "exception": false,
     "start_time": "2020-08-24T20:12:47.300742",
     "status": "completed"
    },
    "tags": []
   },
   "source": [
    "#### Preparing the Data"
   ]
  },
  {
   "cell_type": "code",
   "execution_count": 4,
   "metadata": {
    "execution": {
     "iopub.execute_input": "2020-08-24T20:12:47.394682Z",
     "iopub.status.busy": "2020-08-24T20:12:47.394040Z",
     "iopub.status.idle": "2020-08-24T20:12:47.409782Z",
     "shell.execute_reply": "2020-08-24T20:12:47.410382Z"
    },
    "papermill": {
     "duration": 0.049774,
     "end_time": "2020-08-24T20:12:47.410547",
     "exception": false,
     "start_time": "2020-08-24T20:12:47.360773",
     "status": "completed"
    },
    "tags": []
   },
   "outputs": [],
   "source": [
    "import mnist"
   ]
  },
  {
   "cell_type": "code",
   "execution_count": 5,
   "metadata": {
    "execution": {
     "iopub.execute_input": "2020-08-24T20:12:47.475921Z",
     "iopub.status.busy": "2020-08-24T20:12:47.475270Z",
     "iopub.status.idle": "2020-08-24T20:12:48.248724Z",
     "shell.execute_reply": "2020-08-24T20:12:48.248119Z"
    },
    "papermill": {
     "duration": 0.808103,
     "end_time": "2020-08-24T20:12:48.248877",
     "exception": false,
     "start_time": "2020-08-24T20:12:47.440774",
     "status": "completed"
    },
    "tags": []
   },
   "outputs": [],
   "source": [
    "train_images = mnist.train_images()\n",
    "train_labels = mnist.train_labels()"
   ]
  },
  {
   "cell_type": "code",
   "execution_count": 6,
   "metadata": {
    "execution": {
     "iopub.execute_input": "2020-08-24T20:12:48.313647Z",
     "iopub.status.busy": "2020-08-24T20:12:48.313056Z",
     "iopub.status.idle": "2020-08-24T20:12:48.329214Z",
     "shell.execute_reply": "2020-08-24T20:12:48.330096Z"
    },
    "papermill": {
     "duration": 0.050868,
     "end_time": "2020-08-24T20:12:48.330409",
     "exception": false,
     "start_time": "2020-08-24T20:12:48.279541",
     "status": "completed"
    },
    "tags": []
   },
   "outputs": [
    {
     "data": {
      "text/plain": [
       "((60000, 28, 28), (60000,))"
      ]
     },
     "execution_count": 6,
     "metadata": {},
     "output_type": "execute_result"
    }
   ],
   "source": [
    "train_images.shape, train_labels.shape"
   ]
  },
  {
   "cell_type": "code",
   "execution_count": 7,
   "metadata": {
    "execution": {
     "iopub.execute_input": "2020-08-24T20:12:48.396962Z",
     "iopub.status.busy": "2020-08-24T20:12:48.396318Z",
     "iopub.status.idle": "2020-08-24T20:12:48.728674Z",
     "shell.execute_reply": "2020-08-24T20:12:48.730011Z"
    },
    "papermill": {
     "duration": 0.367684,
     "end_time": "2020-08-24T20:12:48.730183",
     "exception": false,
     "start_time": "2020-08-24T20:12:48.362499",
     "status": "completed"
    },
    "tags": []
   },
   "outputs": [],
   "source": [
    "test_images = mnist.test_images()\n",
    "test_labels = mnist.test_labels()"
   ]
  },
  {
   "cell_type": "code",
   "execution_count": 8,
   "metadata": {
    "execution": {
     "iopub.execute_input": "2020-08-24T20:12:48.796419Z",
     "iopub.status.busy": "2020-08-24T20:12:48.795807Z",
     "iopub.status.idle": "2020-08-24T20:12:48.812865Z",
     "shell.execute_reply": "2020-08-24T20:12:48.812264Z"
    },
    "papermill": {
     "duration": 0.05128,
     "end_time": "2020-08-24T20:12:48.813001",
     "exception": false,
     "start_time": "2020-08-24T20:12:48.761721",
     "status": "completed"
    },
    "tags": []
   },
   "outputs": [
    {
     "data": {
      "text/plain": [
       "((10000, 28, 28), (10000,))"
      ]
     },
     "execution_count": 8,
     "metadata": {},
     "output_type": "execute_result"
    }
   ],
   "source": [
    "test_images.shape, test_labels.shape"
   ]
  },
  {
   "cell_type": "code",
   "execution_count": 9,
   "metadata": {
    "execution": {
     "iopub.execute_input": "2020-08-24T20:12:48.877805Z",
     "iopub.status.busy": "2020-08-24T20:12:48.877215Z",
     "iopub.status.idle": "2020-08-24T20:12:49.042348Z",
     "shell.execute_reply": "2020-08-24T20:12:49.042900Z"
    },
    "papermill": {
     "duration": 0.199621,
     "end_time": "2020-08-24T20:12:49.043066",
     "exception": false,
     "start_time": "2020-08-24T20:12:48.843445",
     "status": "completed"
    },
    "tags": []
   },
   "outputs": [
    {
     "name": "stdout",
     "output_type": "stream",
     "text": [
      "2\n"
     ]
    },
    {
     "data": {
      "text/plain": [
       "<matplotlib.image.AxesImage at 0x7fbf8595f0b8>"
      ]
     },
     "execution_count": 9,
     "metadata": {},
     "output_type": "execute_result"
    },
    {
     "data": {
      "image/png": "[encoded data removed]",
      "text/plain": [
       "<Figure size 432x288 with 1 Axes>"
      ]
     },
     "metadata": {
      "needs_background": "light"
     },
     "output_type": "display_data"
    }
   ],
   "source": [
    "image_index = 7776 # You may select anything up to 60,000\n",
    "print(train_labels[image_index]) \n",
    "plt.imshow(train_images[image_index], cmap='Greys')"
   ]
  },
  {
   "cell_type": "markdown",
   "metadata": {
    "papermill": {
     "duration": 0.033322,
     "end_time": "2020-08-24T20:12:49.109443",
     "exception": false,
     "start_time": "2020-08-24T20:12:49.076121",
     "status": "completed"
    },
    "tags": []
   },
   "source": [
    "## Filter data to get 3 and 8 out"
   ]
  },
  {
   "cell_type": "code",
   "execution_count": 10,
   "metadata": {
    "execution": {
     "iopub.execute_input": "2020-08-24T20:12:49.177259Z",
     "iopub.status.busy": "2020-08-24T20:12:49.176607Z",
     "iopub.status.idle": "2020-08-24T20:12:49.196859Z",
     "shell.execute_reply": "2020-08-24T20:12:49.196301Z"
    },
    "papermill": {
     "duration": 0.056269,
     "end_time": "2020-08-24T20:12:49.196989",
     "exception": false,
     "start_time": "2020-08-24T20:12:49.140720",
     "status": "completed"
    },
    "tags": []
   },
   "outputs": [],
   "source": [
    "train_filter = np.where((train_labels == 3 ) | (train_labels == 8))\n",
    "test_filter = np.where((test_labels == 3) | (test_labels == 8))\n",
    "X_train, y_train = train_images[train_filter], train_labels[train_filter]\n",
    "X_test, y_test = test_images[test_filter], test_labels[test_filter]"
   ]
  },
  {
   "cell_type": "markdown",
   "metadata": {
    "papermill": {
     "duration": 0.031807,
     "end_time": "2020-08-24T20:12:49.260614",
     "exception": false,
     "start_time": "2020-08-24T20:12:49.228807",
     "status": "completed"
    },
    "tags": []
   },
   "source": [
    "##### We normalize the pizel values in the 0 to 1 range"
   ]
  },
  {
   "cell_type": "code",
   "execution_count": 11,
   "metadata": {
    "execution": {
     "iopub.execute_input": "2020-08-24T20:12:49.331260Z",
     "iopub.status.busy": "2020-08-24T20:12:49.330671Z",
     "iopub.status.idle": "2020-08-24T20:12:49.387398Z",
     "shell.execute_reply": "2020-08-24T20:12:49.386174Z"
    },
    "papermill": {
     "duration": 0.09255,
     "end_time": "2020-08-24T20:12:49.387636",
     "exception": false,
     "start_time": "2020-08-24T20:12:49.295086",
     "status": "completed"
    },
    "tags": []
   },
   "outputs": [],
   "source": [
    "X_train = X_train/255.\n",
    "X_test = X_test/255."
   ]
  },
  {
   "cell_type": "markdown",
   "metadata": {
    "papermill": {
     "duration": 0.031919,
     "end_time": "2020-08-24T20:12:49.452734",
     "exception": false,
     "start_time": "2020-08-24T20:12:49.420815",
     "status": "completed"
    },
    "tags": []
   },
   "source": [
    "And setup the labels as 1 (when the digit is 3) and 0 (when the digit is 8)"
   ]
  },
  {
   "cell_type": "code",
   "execution_count": 12,
   "metadata": {
    "execution": {
     "iopub.execute_input": "2020-08-24T20:12:49.523060Z",
     "iopub.status.busy": "2020-08-24T20:12:49.522312Z",
     "iopub.status.idle": "2020-08-24T20:12:49.536996Z",
     "shell.execute_reply": "2020-08-24T20:12:49.536367Z"
    },
    "papermill": {
     "duration": 0.052543,
     "end_time": "2020-08-24T20:12:49.537135",
     "exception": false,
     "start_time": "2020-08-24T20:12:49.484592",
     "status": "completed"
    },
    "tags": []
   },
   "outputs": [],
   "source": [
    "y_train = 1*(y_train==3)\n",
    "y_test = 1*(y_test==3)"
   ]
  },
  {
   "cell_type": "code",
   "execution_count": 13,
   "metadata": {
    "execution": {
     "iopub.execute_input": "2020-08-24T20:12:49.605626Z",
     "iopub.status.busy": "2020-08-24T20:12:49.605046Z",
     "iopub.status.idle": "2020-08-24T20:12:49.620337Z",
     "shell.execute_reply": "2020-08-24T20:12:49.619772Z"
    },
    "papermill": {
     "duration": 0.050814,
     "end_time": "2020-08-24T20:12:49.620477",
     "exception": false,
     "start_time": "2020-08-24T20:12:49.569663",
     "status": "completed"
    },
    "tags": []
   },
   "outputs": [
    {
     "data": {
      "text/plain": [
       "((11982, 28, 28), (1984, 28, 28))"
      ]
     },
     "execution_count": 13,
     "metadata": {},
     "output_type": "execute_result"
    }
   ],
   "source": [
    "X_train.shape, X_test.shape"
   ]
  },
  {
   "cell_type": "markdown",
   "metadata": {
    "papermill": {
     "duration": 0.032293,
     "end_time": "2020-08-24T20:12:49.685316",
     "exception": false,
     "start_time": "2020-08-24T20:12:49.653023",
     "status": "completed"
    },
    "tags": []
   },
   "source": [
    "##### We reshape the data to flatten the image pixels into a set of features or co-variates:"
   ]
  },
  {
   "cell_type": "code",
   "execution_count": 14,
   "metadata": {
    "execution": {
     "iopub.execute_input": "2020-08-24T20:12:49.753502Z",
     "iopub.status.busy": "2020-08-24T20:12:49.752896Z",
     "iopub.status.idle": "2020-08-24T20:12:49.767432Z",
     "shell.execute_reply": "2020-08-24T20:12:49.768051Z"
    },
    "papermill": {
     "duration": 0.050976,
     "end_time": "2020-08-24T20:12:49.768210",
     "exception": false,
     "start_time": "2020-08-24T20:12:49.717234",
     "status": "completed"
    },
    "tags": []
   },
   "outputs": [
    {
     "data": {
      "text/plain": [
       "((11982, 784), (1984, 784))"
      ]
     },
     "execution_count": 14,
     "metadata": {},
     "output_type": "execute_result"
    }
   ],
   "source": [
    "X_train = X_train.reshape(X_train.shape[0], -1)\n",
    "X_test = X_test.reshape(X_test.shape[0], -1)\n",
    "X_train.shape, X_test.shape"
   ]
  },
  {
   "cell_type": "markdown",
   "metadata": {
    "papermill": {
     "duration": 0.032121,
     "end_time": "2020-08-24T20:12:49.832847",
     "exception": false,
     "start_time": "2020-08-24T20:12:49.800726",
     "status": "completed"
    },
    "tags": []
   },
   "source": [
    "##### Importing Kudzu library and its functionality"
   ]
  },
  {
   "cell_type": "code",
   "execution_count": 15,
   "metadata": {
    "execution": {
     "iopub.execute_input": "2020-08-24T20:12:49.912388Z",
     "iopub.status.busy": "2020-08-24T20:12:49.911554Z",
     "iopub.status.idle": "2020-08-24T20:12:49.945723Z",
     "shell.execute_reply": "2020-08-24T20:12:49.944361Z"
    },
    "papermill": {
     "duration": 0.08102,
     "end_time": "2020-08-24T20:12:49.945905",
     "exception": false,
     "start_time": "2020-08-24T20:12:49.864885",
     "status": "completed"
    },
    "tags": []
   },
   "outputs": [],
   "source": [
    "from kudzu.data import Data, Dataloader, Sampler\n",
    "from kudzu.callbacks import AccCallback\n",
    "from kudzu.loss import MSE\n",
    "from kudzu.layer import Affine, Sigmoid\n",
    "from kudzu.model import Model\n",
    "from kudzu.optim import GD\n",
    "from kudzu.train import Learner\n",
    "from kudzu.callbacks import ClfCallback\n",
    "from kudzu.layer import Sigmoid\n",
    "from kudzu.layer import Relu"
   ]
  },
  {
   "cell_type": "markdown",
   "metadata": {
    "papermill": {
     "duration": 0.034286,
     "end_time": "2020-08-24T20:12:50.017766",
     "exception": false,
     "start_time": "2020-08-24T20:12:49.983480",
     "status": "completed"
    },
    "tags": []
   },
   "source": [
    "##### We are creating a class, just so that we can use it to store our parameters for us"
   ]
  },
  {
   "cell_type": "code",
   "execution_count": 16,
   "metadata": {
    "execution": {
     "iopub.execute_input": "2020-08-24T20:12:50.094547Z",
     "iopub.status.busy": "2020-08-24T20:12:50.093430Z",
     "iopub.status.idle": "2020-08-24T20:12:50.107640Z",
     "shell.execute_reply": "2020-08-24T20:12:50.107157Z"
    },
    "papermill": {
     "duration": 0.055128,
     "end_time": "2020-08-24T20:12:50.107773",
     "exception": false,
     "start_time": "2020-08-24T20:12:50.052645",
     "status": "completed"
    },
    "tags": []
   },
   "outputs": [],
   "source": [
    "class Config:\n",
    "    pass\n",
    "config = Config()\n",
    "config.lr = 0.001\n",
    "config.num_epochs = 250\n",
    "config.bs = 50"
   ]
  },
  {
   "cell_type": "markdown",
   "metadata": {
    "papermill": {
     "duration": 0.032814,
     "end_time": "2020-08-24T20:12:50.174431",
     "exception": false,
     "start_time": "2020-08-24T20:12:50.141617",
     "status": "completed"
    },
    "tags": []
   },
   "source": [
    "##### Initializing Data"
   ]
  },
  {
   "cell_type": "code",
   "execution_count": 17,
   "metadata": {
    "execution": {
     "iopub.execute_input": "2020-08-24T20:12:50.250715Z",
     "iopub.status.busy": "2020-08-24T20:12:50.249974Z",
     "iopub.status.idle": "2020-08-24T20:12:50.263431Z",
     "shell.execute_reply": "2020-08-24T20:12:50.263936Z"
    },
    "papermill": {
     "duration": 0.052365,
     "end_time": "2020-08-24T20:12:50.264158",
     "exception": false,
     "start_time": "2020-08-24T20:12:50.211793",
     "status": "completed"
    },
    "tags": []
   },
   "outputs": [],
   "source": [
    "data = Data(X_train, y_train.reshape(-1,1))\n",
    "loss = MSE()\n",
    "opt = GD(config.lr)\n",
    "sampler = Sampler(data, config.bs, shuffle=True)\n",
    "dl = Dataloader(data, sampler)"
   ]
  },
  {
   "cell_type": "markdown",
   "metadata": {
    "papermill": {
     "duration": 0.032821,
     "end_time": "2020-08-24T20:12:50.329654",
     "exception": false,
     "start_time": "2020-08-24T20:12:50.296833",
     "status": "completed"
    },
    "tags": []
   },
   "source": [
    "##### Constructing 2 different layers, one for NN and one only for logistic regression."
   ]
  },
  {
   "cell_type": "markdown",
   "metadata": {
    "papermill": {
     "duration": 0.032501,
     "end_time": "2020-08-24T20:12:50.395034",
     "exception": false,
     "start_time": "2020-08-24T20:12:50.362533",
     "status": "completed"
    },
    "tags": []
   },
   "source": [
    "##### Creating containers for data to be passed, to calculate accuracies"
   ]
  },
  {
   "cell_type": "code",
   "execution_count": 18,
   "metadata": {
    "execution": {
     "iopub.execute_input": "2020-08-24T20:12:50.466458Z",
     "iopub.status.busy": "2020-08-24T20:12:50.465796Z",
     "iopub.status.idle": "2020-08-24T20:12:50.479586Z",
     "shell.execute_reply": "2020-08-24T20:12:50.478929Z"
    },
    "papermill": {
     "duration": 0.052365,
     "end_time": "2020-08-24T20:12:50.479758",
     "exception": false,
     "start_time": "2020-08-24T20:12:50.427393",
     "status": "completed"
    },
    "tags": []
   },
   "outputs": [],
   "source": [
    "training_xdata = X_train\n",
    "testing_xdata = X_test\n",
    "training_ydata = y_train.reshape(-1,1)\n",
    "testing_ydata = y_test.reshape(-1,1)"
   ]
  },
  {
   "cell_type": "markdown",
   "metadata": {
    "papermill": {
     "duration": 0.042367,
     "end_time": "2020-08-24T20:12:50.557891",
     "exception": false,
     "start_time": "2020-08-24T20:12:50.515524",
     "status": "completed"
    },
    "tags": []
   },
   "source": [
    "##### Initializing models and Running training loop: "
   ]
  },
  {
   "cell_type": "code",
   "execution_count": 19,
   "metadata": {
    "execution": {
     "iopub.execute_input": "2020-08-24T20:12:50.631730Z",
     "iopub.status.busy": "2020-08-24T20:12:50.631111Z",
     "iopub.status.idle": "2020-08-24T20:12:50.649047Z",
     "shell.execute_reply": "2020-08-24T20:12:50.649564Z"
    },
    "papermill": {
     "duration": 0.057194,
     "end_time": "2020-08-24T20:12:50.649721",
     "exception": false,
     "start_time": "2020-08-24T20:12:50.592527",
     "status": "completed"
    },
    "tags": []
   },
   "outputs": [],
   "source": [
    "layers = [Affine(\"first\", 784, 100), Relu(\"first\"), Affine(\"second\", 100, 100), Relu(\"second\"), Affine(\"third\", 100, 2), Affine(\"final\", 2, 1), Sigmoid(\"final\")]\n",
    "\n",
    "model_neural = Model(layers)\n",
    "model_logistic = Model([Affine(\"logits\", 784, 1), Sigmoid(\"sigmoid\")])"
   ]
  },
  {
   "cell_type": "code",
   "execution_count": 20,
   "metadata": {
    "execution": {
     "iopub.execute_input": "2020-08-24T20:12:50.720179Z",
     "iopub.status.busy": "2020-08-24T20:12:50.719465Z",
     "iopub.status.idle": "2020-08-24T20:12:50.733427Z",
     "shell.execute_reply": "2020-08-24T20:12:50.732921Z"
    },
    "papermill": {
     "duration": 0.051379,
     "end_time": "2020-08-24T20:12:50.733623",
     "exception": false,
     "start_time": "2020-08-24T20:12:50.682244",
     "status": "completed"
    },
    "tags": []
   },
   "outputs": [],
   "source": [
    "learner1 = Learner(loss, model_neural, opt, config.num_epochs)\n",
    "acc1 = ClfCallback(learner1, config.bs, training_xdata , testing_xdata, training_ydata, testing_ydata)\n",
    "learner1.set_callbacks([acc1])"
   ]
  },
  {
   "cell_type": "code",
   "execution_count": 21,
   "metadata": {
    "execution": {
     "iopub.execute_input": "2020-08-24T20:12:50.805531Z",
     "iopub.status.busy": "2020-08-24T20:12:50.804924Z",
     "iopub.status.idle": "2020-08-24T20:14:27.948392Z",
     "shell.execute_reply": "2020-08-24T20:14:27.947564Z"
    },
    "papermill": {
     "duration": 97.181014,
     "end_time": "2020-08-24T20:14:27.948533",
     "exception": false,
     "start_time": "2020-08-24T20:12:50.767519",
     "status": "completed"
    },
    "tags": []
   },
   "outputs": [
    {
     "name": "stdout",
     "output_type": "stream",
     "text": [
      "Epoch 0 Loss 0.24464214398775086\n",
      "train accuracy is: 0.5481555666833584, test accuracy is 0.5509072580645161\n"
     ]
    },
    {
     "name": "stdout",
     "output_type": "stream",
     "text": [
      "Epoch 10 Loss 0.10554062596783202\n",
      "train accuracy is: 0.9100317142380236, test accuracy is 0.9122983870967742\n"
     ]
    },
    {
     "name": "stdout",
     "output_type": "stream",
     "text": [
      "Epoch 20 Loss 0.062440398381452794\n",
      "train accuracy is: 0.9360707728259056, test accuracy is 0.9440524193548387\n"
     ]
    },
    {
     "name": "stdout",
     "output_type": "stream",
     "text": [
      "Epoch 30 Loss 0.047349220624066116\n",
      "train accuracy is: 0.9493406776831914, test accuracy is 0.9586693548387096\n"
     ]
    },
    {
     "name": "stdout",
     "output_type": "stream",
     "text": [
      "Epoch 40 Loss 0.04016598677224723\n",
      "train accuracy is: 0.9558504423301619, test accuracy is 0.9647177419354839\n"
     ]
    },
    {
     "name": "stdout",
     "output_type": "stream",
     "text": [
      "Epoch 50 Loss 0.036033222505774856\n",
      "train accuracy is: 0.958604573526957, test accuracy is 0.9682459677419355\n"
     ]
    },
    {
     "name": "stdout",
     "output_type": "stream",
     "text": [
      "Epoch 60 Loss 0.03330456540467759\n",
      "train accuracy is: 0.9611083291604072, test accuracy is 0.96875\n"
     ]
    },
    {
     "name": "stdout",
     "output_type": "stream",
     "text": [
      "Epoch 70 Loss 0.03132547777211264\n",
      "train accuracy is: 0.9627774995827074, test accuracy is 0.9702620967741935\n"
     ]
    },
    {
     "name": "stdout",
     "output_type": "stream",
     "text": [
      "Epoch 80 Loss 0.029784819054032262\n",
      "train accuracy is: 0.9644466700050075, test accuracy is 0.969758064516129\n"
     ]
    },
    {
     "name": "stdout",
     "output_type": "stream",
     "text": [
      "Epoch 90 Loss 0.028541080669221362\n",
      "train accuracy is: 0.9657820063428476, test accuracy is 0.9717741935483871\n"
     ]
    },
    {
     "name": "stdout",
     "output_type": "stream",
     "text": [
      "Epoch 100 Loss 0.027488648002494395\n",
      "train accuracy is: 0.9672842597229178, test accuracy is 0.9707661290322581\n"
     ]
    },
    {
     "name": "stdout",
     "output_type": "stream",
     "text": [
      "Epoch 110 Loss 0.026598619458022544\n",
      "train accuracy is: 0.9685361375396428, test accuracy is 0.9707661290322581\n"
     ]
    },
    {
     "name": "stdout",
     "output_type": "stream",
     "text": [
      "Epoch 120 Loss 0.025816047190712288\n",
      "train accuracy is: 0.9692038057085628, test accuracy is 0.9707661290322581\n"
     ]
    },
    {
     "name": "stdout",
     "output_type": "stream",
     "text": [
      "Epoch 130 Loss 0.025121049719106673\n",
      "train accuracy is: 0.9699549323985979, test accuracy is 0.9707661290322581\n"
     ]
    },
    {
     "name": "stdout",
     "output_type": "stream",
     "text": [
      "Epoch 140 Loss 0.024496659486545717\n",
      "train accuracy is: 0.9705391420464029, test accuracy is 0.9707661290322581\n"
     ]
    },
    {
     "name": "stdout",
     "output_type": "stream",
     "text": [
      "Epoch 150 Loss 0.023934988821787177\n",
      "train accuracy is: 0.9716241028208981, test accuracy is 0.9712701612903226\n"
     ]
    },
    {
     "name": "stdout",
     "output_type": "stream",
     "text": [
      "Epoch 160 Loss 0.023411452866149016\n",
      "train accuracy is: 0.971957936905358, test accuracy is 0.9712701612903226\n"
     ]
    },
    {
     "name": "stdout",
     "output_type": "stream",
     "text": [
      "Epoch 170 Loss 0.02292823862179353\n",
      "train accuracy is: 0.9726256050742781, test accuracy is 0.9712701612903226\n"
     ]
    },
    {
     "name": "stdout",
     "output_type": "stream",
     "text": [
      "Epoch 180 Loss 0.02247816457756674\n",
      "train accuracy is: 0.9734601902854282, test accuracy is 0.9717741935483871\n"
     ]
    },
    {
     "name": "stdout",
     "output_type": "stream",
     "text": [
      "Epoch 190 Loss 0.022043973401165328\n",
      "train accuracy is: 0.9740443999332332, test accuracy is 0.9717741935483871\n"
     ]
    },
    {
     "name": "stdout",
     "output_type": "stream",
     "text": [
      "Epoch 200 Loss 0.021638131040409132\n",
      "train accuracy is: 0.9746286095810383, test accuracy is 0.9722782258064516\n"
     ]
    },
    {
     "name": "stdout",
     "output_type": "stream",
     "text": [
      "Epoch 210 Loss 0.021250133659672887\n",
      "train accuracy is: 0.9752128192288433, test accuracy is 0.9712701612903226\n"
     ]
    },
    {
     "name": "stdout",
     "output_type": "stream",
     "text": [
      "Epoch 220 Loss 0.020878015461470494\n",
      "train accuracy is: 0.9757135703555333, test accuracy is 0.9722782258064516\n"
     ]
    },
    {
     "name": "stdout",
     "output_type": "stream",
     "text": [
      "Epoch 230 Loss 0.020515727343206676\n",
      "train accuracy is: 0.9759639459188784, test accuracy is 0.9722782258064516\n"
     ]
    },
    {
     "name": "stdout",
     "output_type": "stream",
     "text": [
      "Epoch 240 Loss 0.020177516320282227\n",
      "train accuracy is: 0.9762977800033383, test accuracy is 0.9722782258064516\n"
     ]
    },
    {
     "data": {
      "text/plain": [
       "0.0020510494729418026"
      ]
     },
     "execution_count": 21,
     "metadata": {},
     "output_type": "execute_result"
    }
   ],
   "source": [
    "learner1.train_loop(dl)"
   ]
  },
  {
   "cell_type": "markdown",
   "metadata": {
    "papermill": {
     "duration": 0.040507,
     "end_time": "2020-08-24T20:14:28.029583",
     "exception": false,
     "start_time": "2020-08-24T20:14:27.989076",
     "status": "completed"
    },
    "tags": []
   },
   "source": [
    "##### Now running only the logistic regression based classification to compare results with NN"
   ]
  },
  {
   "cell_type": "code",
   "execution_count": 22,
   "metadata": {
    "execution": {
     "iopub.execute_input": "2020-08-24T20:14:28.122616Z",
     "iopub.status.busy": "2020-08-24T20:14:28.121702Z",
     "iopub.status.idle": "2020-08-24T20:14:28.133737Z",
     "shell.execute_reply": "2020-08-24T20:14:28.134229Z"
    },
    "papermill": {
     "duration": 0.060791,
     "end_time": "2020-08-24T20:14:28.134384",
     "exception": false,
     "start_time": "2020-08-24T20:14:28.073593",
     "status": "completed"
    },
    "tags": []
   },
   "outputs": [],
   "source": [
    "learner2 = Learner(loss, model_logistic, opt, config.num_epochs)\n",
    "acc2 = ClfCallback(learner2, config.bs, training_xdata , testing_xdata, training_ydata, testing_ydata)\n",
    "learner2.set_callbacks([acc2])"
   ]
  },
  {
   "cell_type": "code",
   "execution_count": 23,
   "metadata": {
    "execution": {
     "iopub.execute_input": "2020-08-24T20:14:28.226403Z",
     "iopub.status.busy": "2020-08-24T20:14:28.225464Z",
     "iopub.status.idle": "2020-08-24T20:14:46.128604Z",
     "shell.execute_reply": "2020-08-24T20:14:46.129121Z"
    },
    "papermill": {
     "duration": 17.953703,
     "end_time": "2020-08-24T20:14:46.129281",
     "exception": false,
     "start_time": "2020-08-24T20:14:28.175578",
     "status": "completed"
    },
    "tags": []
   },
   "outputs": [
    {
     "name": "stdout",
     "output_type": "stream",
     "text": [
      "Epoch 0 Loss 0.2157940808174824\n",
      "train accuracy is: 0.7839258888332499, test accuracy is 0.8109879032258065\n"
     ]
    },
    {
     "name": "stdout",
     "output_type": "stream",
     "text": [
      "Epoch 10 Loss 0.10030428646613371\n",
      "train accuracy is: 0.9113670505758638, test accuracy is 0.9223790322580645\n"
     ]
    },
    {
     "name": "stdout",
     "output_type": "stream",
     "text": [
      "Epoch 20 Loss 0.07823404532662454\n",
      "train accuracy is: 0.9264730428976798, test accuracy is 0.9380040322580645\n"
     ]
    },
    {
     "name": "stdout",
     "output_type": "stream",
     "text": [
      "Epoch 30 Loss 0.06781882667711235\n",
      "train accuracy is: 0.9361542313470206, test accuracy is 0.9450604838709677\n"
     ]
    },
    {
     "name": "stdout",
     "output_type": "stream",
     "text": [
      "Epoch 40 Loss 0.06147858400412225\n",
      "train accuracy is: 0.9408279085294609, test accuracy is 0.9501008064516129\n"
     ]
    },
    {
     "name": "stdout",
     "output_type": "stream",
     "text": [
      "Epoch 50 Loss 0.05712199265754167\n",
      "train accuracy is: 0.9435820397262561, test accuracy is 0.954133064516129\n"
     ]
    },
    {
     "name": "stdout",
     "output_type": "stream",
     "text": [
      "Epoch 60 Loss 0.05390155817403936\n",
      "train accuracy is: 0.9463361709230512, test accuracy is 0.9571572580645161\n"
     ]
    },
    {
     "name": "stdout",
     "output_type": "stream",
     "text": [
      "Epoch 70 Loss 0.05140203940026014\n",
      "train accuracy is: 0.9476715072608913, test accuracy is 0.9576612903225806\n"
     ]
    },
    {
     "name": "stdout",
     "output_type": "stream",
     "text": [
      "Epoch 80 Loss 0.04938945430338544\n",
      "train accuracy is: 0.9493406776831914, test accuracy is 0.9591733870967742\n"
     ]
    },
    {
     "name": "stdout",
     "output_type": "stream",
     "text": [
      "Epoch 90 Loss 0.047725648180507244\n",
      "train accuracy is: 0.9510933066266066, test accuracy is 0.9596774193548387\n"
     ]
    },
    {
     "name": "stdout",
     "output_type": "stream",
     "text": [
      "Epoch 100 Loss 0.046319127360691256\n",
      "train accuracy is: 0.9521782674011017, test accuracy is 0.9616935483870968\n"
     ]
    },
    {
     "name": "stdout",
     "output_type": "stream",
     "text": [
      "Epoch 110 Loss 0.045110934308977335\n",
      "train accuracy is: 0.9530128526122517, test accuracy is 0.9621975806451613\n"
     ]
    },
    {
     "name": "stdout",
     "output_type": "stream",
     "text": [
      "Epoch 120 Loss 0.04405714038050225\n",
      "train accuracy is: 0.9539308963445168, test accuracy is 0.9621975806451613\n"
     ]
    },
    {
     "name": "stdout",
     "output_type": "stream",
     "text": [
      "Epoch 130 Loss 0.043128682983624655\n",
      "train accuracy is: 0.9547654815556669, test accuracy is 0.9637096774193549\n"
     ]
    },
    {
     "name": "stdout",
     "output_type": "stream",
     "text": [
      "Epoch 140 Loss 0.042301234305347844\n",
      "train accuracy is: 0.9553496912034719, test accuracy is 0.9642137096774194\n"
     ]
    },
    {
     "name": "stdout",
     "output_type": "stream",
     "text": [
      "Epoch 150 Loss 0.041557742016388774\n",
      "train accuracy is: 0.9559339008512769, test accuracy is 0.9657258064516129\n"
     ]
    },
    {
     "name": "stdout",
     "output_type": "stream",
     "text": [
      "Epoch 160 Loss 0.040884602143068806\n",
      "train accuracy is: 0.9567684860624269, test accuracy is 0.9657258064516129\n"
     ]
    },
    {
     "name": "stdout",
     "output_type": "stream",
     "text": [
      "Epoch 170 Loss 0.04027144160917696\n",
      "train accuracy is: 0.957519612752462, test accuracy is 0.9657258064516129\n"
     ]
    },
    {
     "name": "stdout",
     "output_type": "stream",
     "text": [
      "Epoch 180 Loss 0.03970965818308167\n",
      "train accuracy is: 0.9579369053580371, test accuracy is 0.9667338709677419\n"
     ]
    },
    {
     "name": "stdout",
     "output_type": "stream",
     "text": [
      "Epoch 190 Loss 0.03919234466637732\n",
      "train accuracy is: 0.958604573526957, test accuracy is 0.9667338709677419\n"
     ]
    },
    {
     "name": "stdout",
     "output_type": "stream",
     "text": [
      "Epoch 200 Loss 0.03871402602689009\n",
      "train accuracy is: 0.9590218661325322, test accuracy is 0.9662298387096774\n"
     ]
    },
    {
     "name": "stdout",
     "output_type": "stream",
     "text": [
      "Epoch 210 Loss 0.03826938317529266\n",
      "train accuracy is: 0.9596060757803372, test accuracy is 0.9662298387096774\n"
     ]
    },
    {
     "name": "stdout",
     "output_type": "stream",
     "text": [
      "Epoch 220 Loss 0.03785482707297158\n",
      "train accuracy is: 0.9596895343014522, test accuracy is 0.9667338709677419\n"
     ]
    },
    {
     "name": "stdout",
     "output_type": "stream",
     "text": [
      "Epoch 230 Loss 0.03746715642916766\n",
      "train accuracy is: 0.9596895343014522, test accuracy is 0.9672379032258065\n"
     ]
    },
    {
     "name": "stdout",
     "output_type": "stream",
     "text": [
      "Epoch 240 Loss 0.03710325352327433\n",
      "train accuracy is: 0.9599399098647972, test accuracy is 0.9672379032258065\n"
     ]
    },
    {
     "data": {
      "text/plain": [
       "0.04751496843511445"
      ]
     },
     "execution_count": 23,
     "metadata": {},
     "output_type": "execute_result"
    }
   ],
   "source": [
    "learner2.train_loop(dl)"
   ]
  },
  {
   "cell_type": "markdown",
   "metadata": {
    "papermill": {
     "duration": 0.055383,
     "end_time": "2020-08-24T20:14:46.236037",
     "exception": false,
     "start_time": "2020-08-24T20:14:46.180654",
     "status": "completed"
    },
    "tags": []
   },
   "source": [
    "### Comparing results of NN and LR"
   ]
  },
  {
   "cell_type": "code",
   "execution_count": 24,
   "metadata": {
    "execution": {
     "iopub.execute_input": "2020-08-24T20:14:46.342188Z",
     "iopub.status.busy": "2020-08-24T20:14:46.341288Z",
     "iopub.status.idle": "2020-08-24T20:14:46.576030Z",
     "shell.execute_reply": "2020-08-24T20:14:46.575428Z"
    },
    "papermill": {
     "duration": 0.290742,
     "end_time": "2020-08-24T20:14:46.576163",
     "exception": false,
     "start_time": "2020-08-24T20:14:46.285421",
     "status": "completed"
    },
    "tags": []
   },
   "outputs": [
    {
     "data": {
      "text/plain": [
       "<matplotlib.legend.Legend at 0x7fbf855357b8>"
      ]
     },
     "execution_count": 24,
     "metadata": {},
     "output_type": "execute_result"
    },
    {
     "data": {
      "image/png": "[encoded data removed]",
      "text/plain": [
       "<Figure size 576x360 with 1 Axes>"
      ]
     },
     "metadata": {
      "needs_background": "light"
     },
     "output_type": "display_data"
    }
   ],
   "source": [
    "plt.figure(figsize=(8,5))\n",
    "plt.plot(acc1.val_accuracies, 'g-', label = \"Val Accuracies - NN\")\n",
    "plt.plot(acc1.accuracies, 'r-', label = \"Accuracies - NN\")\n",
    "plt.plot(acc2.val_accuracies, 'b-', label = \"Val Accuracies - Logistic Reg\")\n",
    "plt.plot(acc2.accuracies, 'k-', label = \"Accuracies - Logistic Reg\")\n",
    "plt.ylim(0.8,1) ## for a more spread out view\n",
    "plt.legend()"
   ]
  },
  {
   "cell_type": "markdown",
   "metadata": {
    "papermill": {
     "duration": 0.050698,
     "end_time": "2020-08-24T20:14:46.676380",
     "exception": false,
     "start_time": "2020-08-24T20:14:46.625682",
     "status": "completed"
    },
    "tags": []
   },
   "source": [
    "### Clearly NN has a better accuracy over LR; NN is overfitting - Validation accuracy (green) has dropped below training accuracy (orange), also they are diverging. This problem is not seen in LR"
   ]
  },
  {
   "cell_type": "markdown",
   "metadata": {
    "papermill": {
     "duration": 0.050135,
     "end_time": "2020-08-24T20:14:46.777634",
     "exception": false,
     "start_time": "2020-08-24T20:14:46.727499",
     "status": "completed"
    },
    "tags": []
   },
   "source": [
    "##### Now we will be moving through the network, till the output of the second last affine where we get a 2 dimensional output. We will be plotting this 2d output and probability contours"
   ]
  },
  {
   "cell_type": "code",
   "execution_count": 25,
   "metadata": {
    "execution": {
     "iopub.execute_input": "2020-08-24T20:14:46.881840Z",
     "iopub.status.busy": "2020-08-24T20:14:46.881207Z",
     "iopub.status.idle": "2020-08-24T20:14:46.894602Z",
     "shell.execute_reply": "2020-08-24T20:14:46.895122Z"
    },
    "papermill": {
     "duration": 0.067983,
     "end_time": "2020-08-24T20:14:46.895275",
     "exception": false,
     "start_time": "2020-08-24T20:14:46.827292",
     "status": "completed"
    },
    "tags": []
   },
   "outputs": [],
   "source": [
    "model_new = Model(layers[:-2])"
   ]
  },
  {
   "cell_type": "code",
   "execution_count": 26,
   "metadata": {
    "execution": {
     "iopub.execute_input": "2020-08-24T20:14:47.001212Z",
     "iopub.status.busy": "2020-08-24T20:14:47.000603Z",
     "iopub.status.idle": "2020-08-24T20:14:47.023278Z",
     "shell.execute_reply": "2020-08-24T20:14:47.023778Z"
    },
    "papermill": {
     "duration": 0.077628,
     "end_time": "2020-08-24T20:14:47.023940",
     "exception": false,
     "start_time": "2020-08-24T20:14:46.946312",
     "status": "completed"
    },
    "tags": []
   },
   "outputs": [],
   "source": [
    "plot_testing = model_new(testing_xdata)"
   ]
  },
  {
   "cell_type": "markdown",
   "metadata": {
    "papermill": {
     "duration": 0.048872,
     "end_time": "2020-08-24T20:14:47.125824",
     "exception": false,
     "start_time": "2020-08-24T20:14:47.076952",
     "status": "completed"
    },
    "tags": []
   },
   "source": [
    "##### Plotting the scatter plot of points and color coding by class"
   ]
  },
  {
   "cell_type": "code",
   "execution_count": 27,
   "metadata": {
    "execution": {
     "iopub.execute_input": "2020-08-24T20:14:47.261978Z",
     "iopub.status.busy": "2020-08-24T20:14:47.261305Z",
     "iopub.status.idle": "2020-08-24T20:14:47.463705Z",
     "shell.execute_reply": "2020-08-24T20:14:47.462640Z"
    },
    "papermill": {
     "duration": 0.260332,
     "end_time": "2020-08-24T20:14:47.463848",
     "exception": false,
     "start_time": "2020-08-24T20:14:47.203516",
     "status": "completed"
    },
    "tags": []
   },
   "outputs": [
    {
     "data": {
      "image/png": "[encoded data removed]",
      "text/plain": [
       "<Figure size 576x504 with 1 Axes>"
      ]
     },
     "metadata": {
      "needs_background": "light"
     },
     "output_type": "display_data"
    }
   ],
   "source": [
    "plt.figure(figsize=(8,7))\n",
    "plt.scatter(plot_testing[:,0], plot_testing[:,1], alpha = 0.1, c = y_test.ravel());"
   ]
  },
  {
   "cell_type": "markdown",
   "metadata": {
    "papermill": {
     "duration": 0.051838,
     "end_time": "2020-08-24T20:14:47.569770",
     "exception": false,
     "start_time": "2020-08-24T20:14:47.517932",
     "status": "completed"
    },
    "tags": []
   },
   "source": [
    "##### Plotting probability contours"
   ]
  },
  {
   "cell_type": "code",
   "execution_count": 28,
   "metadata": {
    "execution": {
     "iopub.execute_input": "2020-08-24T20:14:47.679127Z",
     "iopub.status.busy": "2020-08-24T20:14:47.678393Z",
     "iopub.status.idle": "2020-08-24T20:14:47.692192Z",
     "shell.execute_reply": "2020-08-24T20:14:47.692814Z"
    },
    "papermill": {
     "duration": 0.071046,
     "end_time": "2020-08-24T20:14:47.693021",
     "exception": false,
     "start_time": "2020-08-24T20:14:47.621975",
     "status": "completed"
    },
    "tags": []
   },
   "outputs": [],
   "source": [
    "model_prob = Model(layers[-2:]) ## picking only last two layers to get probability. That is affine followed by sigmoid"
   ]
  },
  {
   "cell_type": "code",
   "execution_count": 29,
   "metadata": {
    "execution": {
     "iopub.execute_input": "2020-08-24T20:14:47.810105Z",
     "iopub.status.busy": "2020-08-24T20:14:47.809481Z",
     "iopub.status.idle": "2020-08-24T20:14:47.825335Z",
     "shell.execute_reply": "2020-08-24T20:14:47.825803Z"
    },
    "papermill": {
     "duration": 0.076244,
     "end_time": "2020-08-24T20:14:47.825965",
     "exception": false,
     "start_time": "2020-08-24T20:14:47.749721",
     "status": "completed"
    },
    "tags": []
   },
   "outputs": [],
   "source": [
    "xgrid = np.linspace(-4, 1, 100) ## Adjust these values based on above chart, roughly -4 to 1\n",
    "ygrid = np.linspace(-7.5, 7.5, 100) ## Adjust these values based on above chart, roughly -7.5, 7.5\n",
    "xg, yg = np.meshgrid(xgrid, ygrid)\n",
    "# xg and yg are now both 100X100, lets convert them to single arrays \n",
    "\n",
    "xg_interim = np.ravel(xg)\n",
    "yg_interim = np.ravel(yg)\n",
    "\n",
    "## xg_interim, yg_interim are now arrays of len 10000, now we will stack them and then transpose to get desired shape of n rows, 2 columns\n",
    "\n",
    "X_interim = np.vstack((xg_interim, yg_interim)) ## Please note vstack takes in a tuple\n",
    "X = X_interim.T\n",
    "\n",
    "## We want a shape of n rows and 2 columns to be able to feed this to last affine\n",
    "## This last affine takes only two columns, hence the above transformation\n",
    "probability_contour = model_prob(X).reshape(100,100) ## to make it consistent with xg, yg"
   ]
  },
  {
   "cell_type": "code",
   "execution_count": 30,
   "metadata": {
    "execution": {
     "iopub.execute_input": "2020-08-24T20:14:47.935317Z",
     "iopub.status.busy": "2020-08-24T20:14:47.934628Z",
     "iopub.status.idle": "2020-08-24T20:14:48.207303Z",
     "shell.execute_reply": "2020-08-24T20:14:48.207930Z"
    },
    "papermill": {
     "duration": 0.330211,
     "end_time": "2020-08-24T20:14:48.208108",
     "exception": false,
     "start_time": "2020-08-24T20:14:47.877897",
     "status": "completed"
    },
    "tags": []
   },
   "outputs": [
    {
     "data": {
      "image/png": "[encoded data removed]",
      "text/plain": [
       "<Figure size 576x504 with 1 Axes>"
      ]
     },
     "metadata": {
      "needs_background": "light"
     },
     "output_type": "display_data"
    }
   ],
   "source": [
    "plt.figure(figsize=(8,7))\n",
    "plt.scatter(plot_testing[:,0], plot_testing[:,1], alpha = 0.1, c = y_test.ravel())\n",
    "contours = plt.contour(xg,yg,probability_contour)\n",
    "plt.clabel(contours, inline = True );"
   ]
  }
 ],
 "metadata": {
  "kernelspec": {
   "display_name": "Python 3",
   "language": "python",
   "name": "python3"
  },
  "language_info": {
   "codemirror_mode": {
    "name": "ipython",
    "version": 3
   },
   "file_extension": ".py",
   "mimetype": "text/x-python",
   "name": "python",
   "nbconvert_exporter": "python",
   "pygments_lexer": "ipython3",
   "version": "3.6.11"
  },
  "papermill": {
   "duration": 125.127708,
   "end_time": "2020-08-24T20:14:48.671453",
   "environment_variables": {},
   "exception": null,
   "input_path": "2020-08-07-NN-new.ipynb",
   "output_path": "2020-08-07-NN-new.ipynb",
   "parameters": {},
   "start_time": "2020-08-24T20:12:43.543745",
   "version": "2.1.2"
  }
 },
 "nbformat": 4,
 "nbformat_minor": 4
}