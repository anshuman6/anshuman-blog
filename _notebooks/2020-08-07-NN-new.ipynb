{
 "cells": [
  {
   "cell_type": "markdown",
   "metadata": {
    "papermill": {
     "duration": 0.034529,
     "end_time": "2020-08-24T10:12:08.479220",
     "exception": false,
     "start_time": "2020-08-24T10:12:08.444691",
     "status": "completed"
    },
    "tags": []
   },
   "source": [
    "# \"Building a basic Neural Network from scratch - Kudzu\"\n",
    "\n",
    "- badges: true\n",
    "- author: Anshuman Gupta"
   ]
  },
  {
   "cell_type": "markdown",
   "metadata": {
    "papermill": {
     "duration": 0.02713,
     "end_time": "2020-08-24T10:12:08.534165",
     "exception": false,
     "start_time": "2020-08-24T10:12:08.507035",
     "status": "completed"
    },
    "tags": []
   },
   "source": [
    "#### In this project, the idea is to write a classifier to differentiate between handwritten digits 3 and 8, from the MNIST database.\n",
    "\n",
    "#### I will using a custom built neural network library called Kudzu.This has been developed as a part of KTF/Foundations course of Univ.ai (www.univ.ai). The source code for Kudzu Library and and this notebook can be found on my git-hub profile : www.https://github.com/anshuman6 under the folder project-solution. Any feedback and comments are welcome. Please feel free to email me at: anshuman6@gmail.com\n",
    "\n",
    "#### 1. I will be using the MNIST database. \n",
    "\n",
    "#### 2. I will be comparing the results of the 4 layer NN to a standard logistic regression"
   ]
  },
  {
   "cell_type": "markdown",
   "metadata": {
    "papermill": {
     "duration": 0.025607,
     "end_time": "2020-08-24T10:12:08.586769",
     "exception": false,
     "start_time": "2020-08-24T10:12:08.561162",
     "status": "completed"
    },
    "tags": []
   },
   "source": [
    "##### Importing all the necessary libraries"
   ]
  },
  {
   "cell_type": "code",
   "execution_count": 1,
   "metadata": {
    "execution": {
     "iopub.execute_input": "2020-08-24T10:12:08.644371Z",
     "iopub.status.busy": "2020-08-24T10:12:08.643751Z",
     "iopub.status.idle": "2020-08-24T10:12:08.658200Z",
     "shell.execute_reply": "2020-08-24T10:12:08.657661Z"
    },
    "papermill": {
     "duration": 0.046432,
     "end_time": "2020-08-24T10:12:08.658334",
     "exception": false,
     "start_time": "2020-08-24T10:12:08.611902",
     "status": "completed"
    },
    "tags": []
   },
   "outputs": [],
   "source": [
    "%load_ext autoreload\n",
    "%autoreload 2"
   ]
  },
  {
   "cell_type": "code",
   "execution_count": 2,
   "metadata": {
    "execution": {
     "iopub.execute_input": "2020-08-24T10:12:08.719335Z",
     "iopub.status.busy": "2020-08-24T10:12:08.718727Z",
     "iopub.status.idle": "2020-08-24T10:12:09.268018Z",
     "shell.execute_reply": "2020-08-24T10:12:09.268829Z"
    },
    "papermill": {
     "duration": 0.584745,
     "end_time": "2020-08-24T10:12:09.269386",
     "exception": false,
     "start_time": "2020-08-24T10:12:08.684641",
     "status": "completed"
    },
    "tags": []
   },
   "outputs": [],
   "source": [
    "%matplotlib inline\n",
    "import numpy as np\n",
    "import matplotlib.pyplot as plt\n",
    "import pandas as pd"
   ]
  },
  {
   "cell_type": "markdown",
   "metadata": {
    "papermill": {
     "duration": 0.027638,
     "end_time": "2020-08-24T10:12:09.325426",
     "exception": false,
     "start_time": "2020-08-24T10:12:09.297788",
     "status": "completed"
    },
    "tags": []
   },
   "source": [
    "##### The following command helps us download MNIST from notebook itself. You can skip this if you already have MNIST. You can also download it via your terminal."
   ]
  },
  {
   "cell_type": "code",
   "execution_count": 3,
   "metadata": {
    "execution": {
     "iopub.execute_input": "2020-08-24T10:12:09.384170Z",
     "iopub.status.busy": "2020-08-24T10:12:09.383585Z",
     "iopub.status.idle": "2020-08-24T10:12:10.809692Z",
     "shell.execute_reply": "2020-08-24T10:12:10.808255Z"
    },
    "papermill": {
     "duration": 1.457115,
     "end_time": "2020-08-24T10:12:10.809918",
     "exception": false,
     "start_time": "2020-08-24T10:12:09.352803",
     "status": "completed"
    },
    "tags": []
   },
   "outputs": [
    {
     "name": "stdout",
     "output_type": "stream",
     "text": [
      "Collecting mnist\r\n"
     ]
    },
    {
     "name": "stdout",
     "output_type": "stream",
     "text": [
      "  Downloading mnist-0.2.2-py2.py3-none-any.whl (3.5 kB)\r\n",
      "Requirement already satisfied: numpy in /opt/hostedtoolcache/Python/3.6.11/x64/lib/python3.6/site-packages (from mnist) (1.19.1)\r\n"
     ]
    },
    {
     "name": "stdout",
     "output_type": "stream",
     "text": [
      "Installing collected packages: mnist\r\n"
     ]
    },
    {
     "name": "stdout",
     "output_type": "stream",
     "text": [
      "Successfully installed mnist-0.2.2\r\n"
     ]
    }
   ],
   "source": [
    "!pip install mnist # Please note, it is commented out for now, you can remove comment if you want to install it"
   ]
  },
  {
   "cell_type": "markdown",
   "metadata": {
    "papermill": {
     "duration": 0.026756,
     "end_time": "2020-08-24T10:12:10.865484",
     "exception": false,
     "start_time": "2020-08-24T10:12:10.838728",
     "status": "completed"
    },
    "tags": []
   },
   "source": [
    "#### Preparing the Data"
   ]
  },
  {
   "cell_type": "code",
   "execution_count": 4,
   "metadata": {
    "execution": {
     "iopub.execute_input": "2020-08-24T10:12:10.922148Z",
     "iopub.status.busy": "2020-08-24T10:12:10.921595Z",
     "iopub.status.idle": "2020-08-24T10:12:10.937996Z",
     "shell.execute_reply": "2020-08-24T10:12:10.938510Z"
    },
    "papermill": {
     "duration": 0.046046,
     "end_time": "2020-08-24T10:12:10.938654",
     "exception": false,
     "start_time": "2020-08-24T10:12:10.892608",
     "status": "completed"
    },
    "tags": []
   },
   "outputs": [],
   "source": [
    "import mnist"
   ]
  },
  {
   "cell_type": "code",
   "execution_count": 5,
   "metadata": {
    "execution": {
     "iopub.execute_input": "2020-08-24T10:12:10.997433Z",
     "iopub.status.busy": "2020-08-24T10:12:10.996819Z",
     "iopub.status.idle": "2020-08-24T10:12:12.920777Z",
     "shell.execute_reply": "2020-08-24T10:12:12.919903Z"
    },
    "papermill": {
     "duration": 1.956993,
     "end_time": "2020-08-24T10:12:12.921002",
     "exception": false,
     "start_time": "2020-08-24T10:12:10.964009",
     "status": "completed"
    },
    "tags": []
   },
   "outputs": [],
   "source": [
    "train_images = mnist.train_images()\n",
    "train_labels = mnist.train_labels()"
   ]
  },
  {
   "cell_type": "code",
   "execution_count": 6,
   "metadata": {
    "execution": {
     "iopub.execute_input": "2020-08-24T10:12:12.985845Z",
     "iopub.status.busy": "2020-08-24T10:12:12.985243Z",
     "iopub.status.idle": "2020-08-24T10:12:13.001755Z",
     "shell.execute_reply": "2020-08-24T10:12:13.001271Z"
    },
    "papermill": {
     "duration": 0.050211,
     "end_time": "2020-08-24T10:12:13.001891",
     "exception": false,
     "start_time": "2020-08-24T10:12:12.951680",
     "status": "completed"
    },
    "tags": []
   },
   "outputs": [
    {
     "data": {
      "text/plain": [
       "((60000, 28, 28), (60000,))"
      ]
     },
     "execution_count": 6,
     "metadata": {},
     "output_type": "execute_result"
    }
   ],
   "source": [
    "train_images.shape, train_labels.shape"
   ]
  },
  {
   "cell_type": "code",
   "execution_count": 7,
   "metadata": {
    "execution": {
     "iopub.execute_input": "2020-08-24T10:12:13.063913Z",
     "iopub.status.busy": "2020-08-24T10:12:13.063325Z",
     "iopub.status.idle": "2020-08-24T10:12:13.929638Z",
     "shell.execute_reply": "2020-08-24T10:12:13.928045Z"
    },
    "papermill": {
     "duration": 0.898708,
     "end_time": "2020-08-24T10:12:13.929786",
     "exception": false,
     "start_time": "2020-08-24T10:12:13.031078",
     "status": "completed"
    },
    "tags": []
   },
   "outputs": [],
   "source": [
    "test_images = mnist.test_images()\n",
    "test_labels = mnist.test_labels()"
   ]
  },
  {
   "cell_type": "code",
   "execution_count": 8,
   "metadata": {
    "execution": {
     "iopub.execute_input": "2020-08-24T10:12:13.990447Z",
     "iopub.status.busy": "2020-08-24T10:12:13.989838Z",
     "iopub.status.idle": "2020-08-24T10:12:14.003231Z",
     "shell.execute_reply": "2020-08-24T10:12:14.004097Z"
    },
    "papermill": {
     "duration": 0.046095,
     "end_time": "2020-08-24T10:12:14.004335",
     "exception": false,
     "start_time": "2020-08-24T10:12:13.958240",
     "status": "completed"
    },
    "tags": []
   },
   "outputs": [
    {
     "data": {
      "text/plain": [
       "((10000, 28, 28), (10000,))"
      ]
     },
     "execution_count": 8,
     "metadata": {},
     "output_type": "execute_result"
    }
   ],
   "source": [
    "test_images.shape, test_labels.shape"
   ]
  },
  {
   "cell_type": "code",
   "execution_count": 9,
   "metadata": {
    "execution": {
     "iopub.execute_input": "2020-08-24T10:12:14.072687Z",
     "iopub.status.busy": "2020-08-24T10:12:14.072034Z",
     "iopub.status.idle": "2020-08-24T10:12:14.222690Z",
     "shell.execute_reply": "2020-08-24T10:12:14.222178Z"
    },
    "papermill": {
     "duration": 0.184196,
     "end_time": "2020-08-24T10:12:14.222821",
     "exception": false,
     "start_time": "2020-08-24T10:12:14.038625",
     "status": "completed"
    },
    "tags": []
   },
   "outputs": [
    {
     "name": "stdout",
     "output_type": "stream",
     "text": [
      "2\n"
     ]
    },
    {
     "data": {
      "text/plain": [
       "<matplotlib.image.AxesImage at 0x7fcdb36220f0>"
      ]
     },
     "execution_count": 9,
     "metadata": {},
     "output_type": "execute_result"
    },
    {
     "data": {
      "image/png": "[encoded data removed]",
      "text/plain": [
       "<Figure size 432x288 with 1 Axes>"
      ]
     },
     "metadata": {
      "needs_background": "light"
     },
     "output_type": "display_data"
    }
   ],
   "source": [
    "image_index = 7776 # You may select anything up to 60,000\n",
    "print(train_labels[image_index]) \n",
    "plt.imshow(train_images[image_index], cmap='Greys')"
   ]
  },
  {
   "cell_type": "markdown",
   "metadata": {
    "papermill": {
     "duration": 0.026632,
     "end_time": "2020-08-24T10:12:14.279328",
     "exception": false,
     "start_time": "2020-08-24T10:12:14.252696",
     "status": "completed"
    },
    "tags": []
   },
   "source": [
    "## Filter data to get 3 and 8 out"
   ]
  },
  {
   "cell_type": "code",
   "execution_count": 10,
   "metadata": {
    "execution": {
     "iopub.execute_input": "2020-08-24T10:12:14.351043Z",
     "iopub.status.busy": "2020-08-24T10:12:14.350347Z",
     "iopub.status.idle": "2020-08-24T10:12:14.371607Z",
     "shell.execute_reply": "2020-08-24T10:12:14.370749Z"
    },
    "papermill": {
     "duration": 0.06077,
     "end_time": "2020-08-24T10:12:14.371827",
     "exception": false,
     "start_time": "2020-08-24T10:12:14.311057",
     "status": "completed"
    },
    "tags": []
   },
   "outputs": [],
   "source": [
    "train_filter = np.where((train_labels == 3 ) | (train_labels == 8))\n",
    "test_filter = np.where((test_labels == 3) | (test_labels == 8))\n",
    "X_train, y_train = train_images[train_filter], train_labels[train_filter]\n",
    "X_test, y_test = test_images[test_filter], test_labels[test_filter]"
   ]
  },
  {
   "cell_type": "markdown",
   "metadata": {
    "papermill": {
     "duration": 0.030269,
     "end_time": "2020-08-24T10:12:14.433815",
     "exception": false,
     "start_time": "2020-08-24T10:12:14.403546",
     "status": "completed"
    },
    "tags": []
   },
   "source": [
    "##### We normalize the pizel values in the 0 to 1 range"
   ]
  },
  {
   "cell_type": "code",
   "execution_count": 11,
   "metadata": {
    "execution": {
     "iopub.execute_input": "2020-08-24T10:12:14.498254Z",
     "iopub.status.busy": "2020-08-24T10:12:14.497662Z",
     "iopub.status.idle": "2020-08-24T10:12:14.553396Z",
     "shell.execute_reply": "2020-08-24T10:12:14.552503Z"
    },
    "papermill": {
     "duration": 0.090816,
     "end_time": "2020-08-24T10:12:14.553620",
     "exception": false,
     "start_time": "2020-08-24T10:12:14.462804",
     "status": "completed"
    },
    "tags": []
   },
   "outputs": [],
   "source": [
    "X_train = X_train/255.\n",
    "X_test = X_test/255."
   ]
  },
  {
   "cell_type": "markdown",
   "metadata": {
    "papermill": {
     "duration": 0.028694,
     "end_time": "2020-08-24T10:12:14.613739",
     "exception": false,
     "start_time": "2020-08-24T10:12:14.585045",
     "status": "completed"
    },
    "tags": []
   },
   "source": [
    "And setup the labels as 1 (when the digit is 3) and 0 (when the digit is 8)"
   ]
  },
  {
   "cell_type": "code",
   "execution_count": 12,
   "metadata": {
    "execution": {
     "iopub.execute_input": "2020-08-24T10:12:14.677908Z",
     "iopub.status.busy": "2020-08-24T10:12:14.677302Z",
     "iopub.status.idle": "2020-08-24T10:12:14.690990Z",
     "shell.execute_reply": "2020-08-24T10:12:14.691496Z"
    },
    "papermill": {
     "duration": 0.048434,
     "end_time": "2020-08-24T10:12:14.691645",
     "exception": false,
     "start_time": "2020-08-24T10:12:14.643211",
     "status": "completed"
    },
    "tags": []
   },
   "outputs": [],
   "source": [
    "y_train = 1*(y_train==3)\n",
    "y_test = 1*(y_test==3)"
   ]
  },
  {
   "cell_type": "code",
   "execution_count": 13,
   "metadata": {
    "execution": {
     "iopub.execute_input": "2020-08-24T10:12:14.755982Z",
     "iopub.status.busy": "2020-08-24T10:12:14.755375Z",
     "iopub.status.idle": "2020-08-24T10:12:14.772642Z",
     "shell.execute_reply": "2020-08-24T10:12:14.772129Z"
    },
    "papermill": {
     "duration": 0.051628,
     "end_time": "2020-08-24T10:12:14.772773",
     "exception": false,
     "start_time": "2020-08-24T10:12:14.721145",
     "status": "completed"
    },
    "tags": []
   },
   "outputs": [
    {
     "data": {
      "text/plain": [
       "((11982, 28, 28), (1984, 28, 28))"
      ]
     },
     "execution_count": 13,
     "metadata": {},
     "output_type": "execute_result"
    }
   ],
   "source": [
    "X_train.shape, X_test.shape"
   ]
  },
  {
   "cell_type": "markdown",
   "metadata": {
    "papermill": {
     "duration": 0.029977,
     "end_time": "2020-08-24T10:12:14.833564",
     "exception": false,
     "start_time": "2020-08-24T10:12:14.803587",
     "status": "completed"
    },
    "tags": []
   },
   "source": [
    "##### We reshape the data to flatten the image pixels into a set of features or co-variates:"
   ]
  },
  {
   "cell_type": "code",
   "execution_count": 14,
   "metadata": {
    "execution": {
     "iopub.execute_input": "2020-08-24T10:12:14.898710Z",
     "iopub.status.busy": "2020-08-24T10:12:14.897797Z",
     "iopub.status.idle": "2020-08-24T10:12:14.914713Z",
     "shell.execute_reply": "2020-08-24T10:12:14.914240Z"
    },
    "papermill": {
     "duration": 0.051395,
     "end_time": "2020-08-24T10:12:14.914844",
     "exception": false,
     "start_time": "2020-08-24T10:12:14.863449",
     "status": "completed"
    },
    "tags": []
   },
   "outputs": [
    {
     "data": {
      "text/plain": [
       "((11982, 784), (1984, 784))"
      ]
     },
     "execution_count": 14,
     "metadata": {},
     "output_type": "execute_result"
    }
   ],
   "source": [
    "X_train = X_train.reshape(X_train.shape[0], -1)\n",
    "X_test = X_test.reshape(X_test.shape[0], -1)\n",
    "X_train.shape, X_test.shape"
   ]
  },
  {
   "cell_type": "markdown",
   "metadata": {
    "papermill": {
     "duration": 0.03104,
     "end_time": "2020-08-24T10:12:14.976466",
     "exception": false,
     "start_time": "2020-08-24T10:12:14.945426",
     "status": "completed"
    },
    "tags": []
   },
   "source": [
    "##### Importing Kudzu library and its functionality"
   ]
  },
  {
   "cell_type": "code",
   "execution_count": 15,
   "metadata": {
    "execution": {
     "iopub.execute_input": "2020-08-24T10:12:15.043844Z",
     "iopub.status.busy": "2020-08-24T10:12:15.043090Z",
     "iopub.status.idle": "2020-08-24T10:12:15.062566Z",
     "shell.execute_reply": "2020-08-24T10:12:15.061968Z"
    },
    "papermill": {
     "duration": 0.055305,
     "end_time": "2020-08-24T10:12:15.062707",
     "exception": false,
     "start_time": "2020-08-24T10:12:15.007402",
     "status": "completed"
    },
    "tags": []
   },
   "outputs": [],
   "source": [
    "from kudzu.data import Data, Dataloader, Sampler\n",
    "from kudzu.callbacks import AccCallback\n",
    "from kudzu.loss import MSE\n",
    "from kudzu.layer import Affine, Sigmoid\n",
    "from kudzu.model import Model\n",
    "from kudzu.optim import GD\n",
    "from kudzu.train import Learner\n",
    "from kudzu.callbacks import ClfCallback\n",
    "from kudzu.layer import Sigmoid\n",
    "from kudzu.layer import Relu"
   ]
  },
  {
   "cell_type": "markdown",
   "metadata": {
    "papermill": {
     "duration": 0.028635,
     "end_time": "2020-08-24T10:12:15.120330",
     "exception": false,
     "start_time": "2020-08-24T10:12:15.091695",
     "status": "completed"
    },
    "tags": []
   },
   "source": [
    "##### We are creating a class, just so that we can use it to store our parameters for us"
   ]
  },
  {
   "cell_type": "code",
   "execution_count": 16,
   "metadata": {
    "execution": {
     "iopub.execute_input": "2020-08-24T10:12:15.181126Z",
     "iopub.status.busy": "2020-08-24T10:12:15.180265Z",
     "iopub.status.idle": "2020-08-24T10:12:15.196254Z",
     "shell.execute_reply": "2020-08-24T10:12:15.195814Z"
    },
    "papermill": {
     "duration": 0.049165,
     "end_time": "2020-08-24T10:12:15.196378",
     "exception": false,
     "start_time": "2020-08-24T10:12:15.147213",
     "status": "completed"
    },
    "tags": []
   },
   "outputs": [],
   "source": [
    "class Config:\n",
    "    pass\n",
    "config = Config()\n",
    "config.lr = 0.001\n",
    "config.num_epochs = 250\n",
    "config.bs = 50"
   ]
  },
  {
   "cell_type": "markdown",
   "metadata": {
    "papermill": {
     "duration": 0.027466,
     "end_time": "2020-08-24T10:12:15.254776",
     "exception": false,
     "start_time": "2020-08-24T10:12:15.227310",
     "status": "completed"
    },
    "tags": []
   },
   "source": [
    "##### Initializing Data"
   ]
  },
  {
   "cell_type": "code",
   "execution_count": 17,
   "metadata": {
    "execution": {
     "iopub.execute_input": "2020-08-24T10:12:15.329375Z",
     "iopub.status.busy": "2020-08-24T10:12:15.328676Z",
     "iopub.status.idle": "2020-08-24T10:12:15.342724Z",
     "shell.execute_reply": "2020-08-24T10:12:15.342183Z"
    },
    "papermill": {
     "duration": 0.056606,
     "end_time": "2020-08-24T10:12:15.342853",
     "exception": false,
     "start_time": "2020-08-24T10:12:15.286247",
     "status": "completed"
    },
    "tags": []
   },
   "outputs": [],
   "source": [
    "data = Data(X_train, y_train.reshape(-1,1))\n",
    "loss = MSE()\n",
    "opt = GD(config.lr)\n",
    "sampler = Sampler(data, config.bs, shuffle=True)\n",
    "dl = Dataloader(data, sampler)"
   ]
  },
  {
   "cell_type": "markdown",
   "metadata": {
    "papermill": {
     "duration": 0.03478,
     "end_time": "2020-08-24T10:12:15.412140",
     "exception": false,
     "start_time": "2020-08-24T10:12:15.377360",
     "status": "completed"
    },
    "tags": []
   },
   "source": [
    "##### Constructing 2 different layers, one for NN and one only for logistic regression."
   ]
  },
  {
   "cell_type": "markdown",
   "metadata": {
    "papermill": {
     "duration": 0.030127,
     "end_time": "2020-08-24T10:12:15.472904",
     "exception": false,
     "start_time": "2020-08-24T10:12:15.442777",
     "status": "completed"
    },
    "tags": []
   },
   "source": [
    "##### Creating containers for data to be passed, to calculate accuracies"
   ]
  },
  {
   "cell_type": "code",
   "execution_count": 18,
   "metadata": {
    "execution": {
     "iopub.execute_input": "2020-08-24T10:12:15.542620Z",
     "iopub.status.busy": "2020-08-24T10:12:15.542022Z",
     "iopub.status.idle": "2020-08-24T10:12:15.553030Z",
     "shell.execute_reply": "2020-08-24T10:12:15.553517Z"
    },
    "papermill": {
     "duration": 0.04945,
     "end_time": "2020-08-24T10:12:15.553673",
     "exception": false,
     "start_time": "2020-08-24T10:12:15.504223",
     "status": "completed"
    },
    "tags": []
   },
   "outputs": [],
   "source": [
    "training_xdata = X_train\n",
    "testing_xdata = X_test\n",
    "training_ydata = y_train.reshape(-1,1)\n",
    "testing_ydata = y_test.reshape(-1,1)"
   ]
  },
  {
   "cell_type": "markdown",
   "metadata": {
    "papermill": {
     "duration": 0.030158,
     "end_time": "2020-08-24T10:12:15.614833",
     "exception": false,
     "start_time": "2020-08-24T10:12:15.584675",
     "status": "completed"
    },
    "tags": []
   },
   "source": [
    "##### Initializing models and Running training loop: "
   ]
  },
  {
   "cell_type": "code",
   "execution_count": 19,
   "metadata": {
    "execution": {
     "iopub.execute_input": "2020-08-24T10:12:15.682262Z",
     "iopub.status.busy": "2020-08-24T10:12:15.681659Z",
     "iopub.status.idle": "2020-08-24T10:12:15.699998Z",
     "shell.execute_reply": "2020-08-24T10:12:15.699557Z"
    },
    "papermill": {
     "duration": 0.05489,
     "end_time": "2020-08-24T10:12:15.700123",
     "exception": false,
     "start_time": "2020-08-24T10:12:15.645233",
     "status": "completed"
    },
    "tags": []
   },
   "outputs": [],
   "source": [
    "layers = [Affine(\"first\", 784, 100), Relu(\"first\"), Affine(\"second\", 100, 100), Relu(\"second\"), Affine(\"third\", 100, 2), Affine(\"final\", 2, 1), Sigmoid(\"final\")]\n",
    "\n",
    "model_neural = Model(layers)\n",
    "model_logistic = Model([Affine(\"logits\", 784, 1), Sigmoid(\"sigmoid\")])"
   ]
  },
  {
   "cell_type": "code",
   "execution_count": 20,
   "metadata": {
    "execution": {
     "iopub.execute_input": "2020-08-24T10:12:15.766011Z",
     "iopub.status.busy": "2020-08-24T10:12:15.765402Z",
     "iopub.status.idle": "2020-08-24T10:12:15.779113Z",
     "shell.execute_reply": "2020-08-24T10:12:15.778636Z"
    },
    "papermill": {
     "duration": 0.049124,
     "end_time": "2020-08-24T10:12:15.779248",
     "exception": false,
     "start_time": "2020-08-24T10:12:15.730124",
     "status": "completed"
    },
    "tags": []
   },
   "outputs": [],
   "source": [
    "learner1 = Learner(loss, model_neural, opt, config.num_epochs)\n",
    "acc1 = ClfCallback(learner1, config.bs, training_xdata , testing_xdata, training_ydata, testing_ydata)\n",
    "learner1.set_callbacks([acc1])"
   ]
  },
  {
   "cell_type": "code",
   "execution_count": 21,
   "metadata": {
    "execution": {
     "iopub.execute_input": "2020-08-24T10:12:15.844574Z",
     "iopub.status.busy": "2020-08-24T10:12:15.843990Z",
     "iopub.status.idle": "2020-08-24T10:13:39.481254Z",
     "shell.execute_reply": "2020-08-24T10:13:39.482008Z"
    },
    "papermill": {
     "duration": 83.671864,
     "end_time": "2020-08-24T10:13:39.482166",
     "exception": false,
     "start_time": "2020-08-24T10:12:15.810302",
     "status": "completed"
    },
    "tags": []
   },
   "outputs": [
    {
     "name": "stdout",
     "output_type": "stream",
     "text": [
      "Epoch 0 Loss 0.24239691172410127\n",
      "train accuracy is: 0.5894675346352862, test accuracy is 0.5992943548387096\n"
     ]
    },
    {
     "name": "stdout",
     "output_type": "stream",
     "text": [
      "Epoch 10 Loss 0.12235610771964199\n",
      "train accuracy is: 0.9112835920547487, test accuracy is 0.9254032258064516\n"
     ]
    },
    {
     "name": "stdout",
     "output_type": "stream",
     "text": [
      "Epoch 20 Loss 0.06589978409210785\n",
      "train accuracy is: 0.9359873143047905, test accuracy is 0.9450604838709677\n"
     ]
    },
    {
     "name": "stdout",
     "output_type": "stream",
     "text": [
      "Epoch 30 Loss 0.0489894445350302\n",
      "train accuracy is: 0.9479218828242364, test accuracy is 0.9566532258064516\n"
     ]
    },
    {
     "name": "stdout",
     "output_type": "stream",
     "text": [
      "Epoch 40 Loss 0.04144335893038852\n",
      "train accuracy is: 0.9543481889500918, test accuracy is 0.9606854838709677\n"
     ]
    },
    {
     "name": "stdout",
     "output_type": "stream",
     "text": [
      "Epoch 50 Loss 0.03714735836307779\n",
      "train accuracy is: 0.957269237189117, test accuracy is 0.9642137096774194\n"
     ]
    },
    {
     "name": "stdout",
     "output_type": "stream",
     "text": [
      "Epoch 60 Loss 0.03432249243574171\n",
      "train accuracy is: 0.9600233683859122, test accuracy is 0.9647177419354839\n"
     ]
    },
    {
     "name": "stdout",
     "output_type": "stream",
     "text": [
      "Epoch 70 Loss 0.032279386784715945\n",
      "train accuracy is: 0.9618594558504423, test accuracy is 0.9652217741935484\n"
     ]
    },
    {
     "name": "stdout",
     "output_type": "stream",
     "text": [
      "Epoch 80 Loss 0.030705225485330404\n",
      "train accuracy is: 0.9631947921882824, test accuracy is 0.9662298387096774\n"
     ]
    },
    {
     "name": "stdout",
     "output_type": "stream",
     "text": [
      "Epoch 90 Loss 0.029442913611815835\n",
      "train accuracy is: 0.9655316307795025, test accuracy is 0.9667338709677419\n"
     ]
    },
    {
     "name": "stdout",
     "output_type": "stream",
     "text": [
      "Epoch 100 Loss 0.02839242206669324\n",
      "train accuracy is: 0.9665331330328827, test accuracy is 0.96875\n"
     ]
    },
    {
     "name": "stdout",
     "output_type": "stream",
     "text": [
      "Epoch 110 Loss 0.027502209206545836\n",
      "train accuracy is: 0.9668669671173427, test accuracy is 0.96875\n"
     ]
    },
    {
     "name": "stdout",
     "output_type": "stream",
     "text": [
      "Epoch 120 Loss 0.02673063304073505\n",
      "train accuracy is: 0.9678684693707228, test accuracy is 0.969758064516129\n"
     ]
    },
    {
     "name": "stdout",
     "output_type": "stream",
     "text": [
      "Epoch 130 Loss 0.026051871674875108\n",
      "train accuracy is: 0.9683692204974128, test accuracy is 0.9702620967741935\n"
     ]
    },
    {
     "name": "stdout",
     "output_type": "stream",
     "text": [
      "Epoch 140 Loss 0.025435721081298643\n",
      "train accuracy is: 0.9696210983141379, test accuracy is 0.9692540322580645\n"
     ]
    },
    {
     "name": "stdout",
     "output_type": "stream",
     "text": [
      "Epoch 150 Loss 0.024880478624701278\n",
      "train accuracy is: 0.9702053079619429, test accuracy is 0.9692540322580645\n"
     ]
    },
    {
     "name": "stdout",
     "output_type": "stream",
     "text": [
      "Epoch 160 Loss 0.024363933576678924\n",
      "train accuracy is: 0.971206810215323, test accuracy is 0.969758064516129\n"
     ]
    },
    {
     "name": "stdout",
     "output_type": "stream",
     "text": [
      "Epoch 170 Loss 0.023895268517324254\n",
      "train accuracy is: 0.972041395426473, test accuracy is 0.9692540322580645\n"
     ]
    },
    {
     "name": "stdout",
     "output_type": "stream",
     "text": [
      "Epoch 180 Loss 0.02344697300818101\n",
      "train accuracy is: 0.9729594391587381, test accuracy is 0.96875\n"
     ]
    },
    {
     "name": "stdout",
     "output_type": "stream",
     "text": [
      "Epoch 190 Loss 0.023028571266330594\n",
      "train accuracy is: 0.9731263562009681, test accuracy is 0.9682459677419355\n"
     ]
    },
    {
     "name": "stdout",
     "output_type": "stream",
     "text": [
      "Epoch 200 Loss 0.022633134927987276\n",
      "train accuracy is: 0.9741278584543482, test accuracy is 0.9692540322580645\n"
     ]
    },
    {
     "name": "stdout",
     "output_type": "stream",
     "text": [
      "Epoch 210 Loss 0.02226687430556446\n",
      "train accuracy is: 0.9741278584543482, test accuracy is 0.9682459677419355\n"
     ]
    },
    {
     "name": "stdout",
     "output_type": "stream",
     "text": [
      "Epoch 220 Loss 0.02192418422479232\n",
      "train accuracy is: 0.9745451510599232, test accuracy is 0.96875\n"
     ]
    },
    {
     "name": "stdout",
     "output_type": "stream",
     "text": [
      "Epoch 230 Loss 0.021584871382905445\n",
      "train accuracy is: 0.9751293607077283, test accuracy is 0.96875\n"
     ]
    },
    {
     "name": "stdout",
     "output_type": "stream",
     "text": [
      "Epoch 240 Loss 0.021270769622308082\n",
      "train accuracy is: 0.9753797362710733, test accuracy is 0.9692540322580645\n"
     ]
    },
    {
     "data": {
      "text/plain": [
       "0.04148497424750633"
      ]
     },
     "execution_count": 21,
     "metadata": {},
     "output_type": "execute_result"
    }
   ],
   "source": [
    "learner1.train_loop(dl)"
   ]
  },
  {
   "cell_type": "markdown",
   "metadata": {
    "papermill": {
     "duration": 0.038265,
     "end_time": "2020-08-24T10:13:39.558891",
     "exception": false,
     "start_time": "2020-08-24T10:13:39.520626",
     "status": "completed"
    },
    "tags": []
   },
   "source": [
    "##### Now running only the logistic regression based classification to compare results with NN"
   ]
  },
  {
   "cell_type": "code",
   "execution_count": 22,
   "metadata": {
    "execution": {
     "iopub.execute_input": "2020-08-24T10:13:39.638756Z",
     "iopub.status.busy": "2020-08-24T10:13:39.637773Z",
     "iopub.status.idle": "2020-08-24T10:13:39.648776Z",
     "shell.execute_reply": "2020-08-24T10:13:39.649092Z"
    },
    "papermill": {
     "duration": 0.052962,
     "end_time": "2020-08-24T10:13:39.649232",
     "exception": false,
     "start_time": "2020-08-24T10:13:39.596270",
     "status": "completed"
    },
    "tags": []
   },
   "outputs": [],
   "source": [
    "learner2 = Learner(loss, model_logistic, opt, config.num_epochs)\n",
    "acc2 = ClfCallback(learner2, config.bs, training_xdata , testing_xdata, training_ydata, testing_ydata)\n",
    "learner2.set_callbacks([acc2])"
   ]
  },
  {
   "cell_type": "code",
   "execution_count": 23,
   "metadata": {
    "execution": {
     "iopub.execute_input": "2020-08-24T10:13:39.727730Z",
     "iopub.status.busy": "2020-08-24T10:13:39.727186Z",
     "iopub.status.idle": "2020-08-24T10:13:54.609307Z",
     "shell.execute_reply": "2020-08-24T10:13:54.609828Z"
    },
    "papermill": {
     "duration": 14.923809,
     "end_time": "2020-08-24T10:13:54.609980",
     "exception": false,
     "start_time": "2020-08-24T10:13:39.686171",
     "status": "completed"
    },
    "tags": []
   },
   "outputs": [
    {
     "name": "stdout",
     "output_type": "stream",
     "text": [
      "Epoch 0 Loss 0.23312835750385583\n",
      "train accuracy is: 0.7179101986312802, test accuracy is 0.7182459677419355\n"
     ]
    },
    {
     "name": "stdout",
     "output_type": "stream",
     "text": [
      "Epoch 10 Loss 0.10320201616849069\n",
      "train accuracy is: 0.9074445000834586, test accuracy is 0.9193548387096774\n"
     ]
    },
    {
     "name": "stdout",
     "output_type": "stream",
     "text": [
      "Epoch 20 Loss 0.07887448499300295\n",
      "train accuracy is: 0.9298948422633951, test accuracy is 0.9430443548387096\n"
     ]
    },
    {
     "name": "stdout",
     "output_type": "stream",
     "text": [
      "Epoch 30 Loss 0.06779137463558788\n",
      "train accuracy is: 0.9366549824737106, test accuracy is 0.9490927419354839\n"
     ]
    },
    {
     "name": "stdout",
     "output_type": "stream",
     "text": [
      "Epoch 40 Loss 0.06118976925790892\n",
      "train accuracy is: 0.9419128693039559, test accuracy is 0.9506048387096774\n"
     ]
    },
    {
     "name": "stdout",
     "output_type": "stream",
     "text": [
      "Epoch 50 Loss 0.0567044207082731\n",
      "train accuracy is: 0.9451677516274412, test accuracy is 0.9536290322580645\n"
     ]
    },
    {
     "name": "stdout",
     "output_type": "stream",
     "text": [
      "Epoch 60 Loss 0.05341522981949482\n",
      "train accuracy is: 0.9477549657820064, test accuracy is 0.9561491935483871\n"
     ]
    },
    {
     "name": "stdout",
     "output_type": "stream",
     "text": [
      "Epoch 70 Loss 0.050873417647369516\n",
      "train accuracy is: 0.9492572191620764, test accuracy is 0.9591733870967742\n"
     ]
    },
    {
     "name": "stdout",
     "output_type": "stream",
     "text": [
      "Epoch 80 Loss 0.04883426661293202\n",
      "train accuracy is: 0.9507594725421465, test accuracy is 0.9616935483870968\n"
     ]
    },
    {
     "name": "stdout",
     "output_type": "stream",
     "text": [
      "Epoch 90 Loss 0.047154377764122644\n",
      "train accuracy is: 0.9525955600066767, test accuracy is 0.9627016129032258\n"
     ]
    },
    {
     "name": "stdout",
     "output_type": "stream",
     "text": [
      "Epoch 100 Loss 0.04573873763911077\n",
      "train accuracy is: 0.9543481889500918, test accuracy is 0.9642137096774194\n"
     ]
    },
    {
     "name": "stdout",
     "output_type": "stream",
     "text": [
      "Epoch 110 Loss 0.04452461839721006\n",
      "train accuracy is: 0.9555166082457018, test accuracy is 0.9637096774193549\n"
     ]
    },
    {
     "name": "stdout",
     "output_type": "stream",
     "text": [
      "Epoch 120 Loss 0.04346912231633406\n",
      "train accuracy is: 0.956434651977967, test accuracy is 0.9642137096774194\n"
     ]
    },
    {
     "name": "stdout",
     "output_type": "stream",
     "text": [
      "Epoch 130 Loss 0.04253934884149818\n",
      "train accuracy is: 0.957519612752462, test accuracy is 0.9647177419354839\n"
     ]
    },
    {
     "name": "stdout",
     "output_type": "stream",
     "text": [
      "Epoch 140 Loss 0.04171397864617677\n",
      "train accuracy is: 0.9582707394424971, test accuracy is 0.9647177419354839\n"
     ]
    },
    {
     "name": "stdout",
     "output_type": "stream",
     "text": [
      "Epoch 150 Loss 0.040974200473487855\n",
      "train accuracy is: 0.9589384076114171, test accuracy is 0.9637096774193549\n"
     ]
    },
    {
     "name": "stdout",
     "output_type": "stream",
     "text": [
      "Epoch 160 Loss 0.04030515410670914\n",
      "train accuracy is: 0.9591887831747622, test accuracy is 0.9647177419354839\n"
     ]
    },
    {
     "name": "stdout",
     "output_type": "stream",
     "text": [
      "Epoch 170 Loss 0.03969727494581646\n",
      "train accuracy is: 0.9596895343014522, test accuracy is 0.9657258064516129\n"
     ]
    },
    {
     "name": "stdout",
     "output_type": "stream",
     "text": [
      "Epoch 180 Loss 0.039141871718725726\n",
      "train accuracy is: 0.9604406609914873, test accuracy is 0.9662298387096774\n"
     ]
    },
    {
     "name": "stdout",
     "output_type": "stream",
     "text": [
      "Epoch 190 Loss 0.03862975026357916\n",
      "train accuracy is: 0.9607744950759473, test accuracy is 0.9682459677419355\n"
     ]
    },
    {
     "name": "stdout",
     "output_type": "stream",
     "text": [
      "Epoch 200 Loss 0.03815842733073872\n",
      "train accuracy is: 0.9609414121181773, test accuracy is 0.967741935483871\n"
     ]
    },
    {
     "name": "stdout",
     "output_type": "stream",
     "text": [
      "Epoch 210 Loss 0.0377202416108357\n",
      "train accuracy is: 0.9613587047237523, test accuracy is 0.96875\n"
     ]
    },
    {
     "name": "stdout",
     "output_type": "stream",
     "text": [
      "Epoch 220 Loss 0.03731348073679943\n",
      "train accuracy is: 0.9616925388082124, test accuracy is 0.9692540322580645\n"
     ]
    },
    {
     "name": "stdout",
     "output_type": "stream",
     "text": [
      "Epoch 230 Loss 0.036932892927285924\n",
      "train accuracy is: 0.9616090802870974, test accuracy is 0.969758064516129\n"
     ]
    },
    {
     "name": "stdout",
     "output_type": "stream",
     "text": [
      "Epoch 240 Loss 0.03657746416909533\n",
      "train accuracy is: 0.9618594558504423, test accuracy is 0.969758064516129\n"
     ]
    },
    {
     "data": {
      "text/plain": [
       "0.01230316619265701"
      ]
     },
     "execution_count": 23,
     "metadata": {},
     "output_type": "execute_result"
    }
   ],
   "source": [
    "learner2.train_loop(dl)"
   ]
  },
  {
   "cell_type": "markdown",
   "metadata": {
    "papermill": {
     "duration": 0.045122,
     "end_time": "2020-08-24T10:13:54.698443",
     "exception": false,
     "start_time": "2020-08-24T10:13:54.653321",
     "status": "completed"
    },
    "tags": []
   },
   "source": [
    "### Comparing results of NN and LR"
   ]
  },
  {
   "cell_type": "code",
   "execution_count": 24,
   "metadata": {
    "execution": {
     "iopub.execute_input": "2020-08-24T10:13:54.794277Z",
     "iopub.status.busy": "2020-08-24T10:13:54.793694Z",
     "iopub.status.idle": "2020-08-24T10:13:55.002558Z",
     "shell.execute_reply": "2020-08-24T10:13:55.003020Z"
    },
    "papermill": {
     "duration": 0.259159,
     "end_time": "2020-08-24T10:13:55.003185",
     "exception": false,
     "start_time": "2020-08-24T10:13:54.744026",
     "status": "completed"
    },
    "tags": []
   },
   "outputs": [
    {
     "data": {
      "text/plain": [
       "<matplotlib.legend.Legend at 0x7fcdb31f97f0>"
      ]
     },
     "execution_count": 24,
     "metadata": {},
     "output_type": "execute_result"
    },
    {
     "data": {
      "image/png": "[encoded data removed]",
      "text/plain": [
       "<Figure size 576x360 with 1 Axes>"
      ]
     },
     "metadata": {
      "needs_background": "light"
     },
     "output_type": "display_data"
    }
   ],
   "source": [
    "plt.figure(figsize=(8,5))\n",
    "plt.plot(acc1.val_accuracies, 'g-', label = \"Val Accuracies - NN\")\n",
    "plt.plot(acc1.accuracies, 'r-', label = \"Accuracies - NN\")\n",
    "plt.plot(acc2.val_accuracies, 'b-', label = \"Val Accuracies - Logistic Reg\")\n",
    "plt.plot(acc2.accuracies, 'k-', label = \"Accuracies - Logistic Reg\")\n",
    "plt.ylim(0.8,1) ## for a more spread out view\n",
    "plt.legend()"
   ]
  },
  {
   "cell_type": "markdown",
   "metadata": {
    "papermill": {
     "duration": 0.044846,
     "end_time": "2020-08-24T10:13:55.095429",
     "exception": false,
     "start_time": "2020-08-24T10:13:55.050583",
     "status": "completed"
    },
    "tags": []
   },
   "source": [
    "### Clearly NN has a better accuracy over LR; NN is overfitting - Validation accuracy (green) has dropped below training accuracy (orange), also they are diverging. This problem is not seen in LR"
   ]
  },
  {
   "cell_type": "markdown",
   "metadata": {
    "papermill": {
     "duration": 0.043391,
     "end_time": "2020-08-24T10:13:55.181411",
     "exception": false,
     "start_time": "2020-08-24T10:13:55.138020",
     "status": "completed"
    },
    "tags": []
   },
   "source": [
    "##### Now we will be moving through the network, till the output of the second last affine where we get a 2 dimensional output. We will be plotting this 2d output and probability contours"
   ]
  },
  {
   "cell_type": "code",
   "execution_count": 25,
   "metadata": {
    "execution": {
     "iopub.execute_input": "2020-08-24T10:13:55.280678Z",
     "iopub.status.busy": "2020-08-24T10:13:55.280027Z",
     "iopub.status.idle": "2020-08-24T10:13:55.292634Z",
     "shell.execute_reply": "2020-08-24T10:13:55.292124Z"
    },
    "papermill": {
     "duration": 0.063826,
     "end_time": "2020-08-24T10:13:55.292762",
     "exception": false,
     "start_time": "2020-08-24T10:13:55.228936",
     "status": "completed"
    },
    "tags": []
   },
   "outputs": [],
   "source": [
    "model_new = Model(layers[:-2])"
   ]
  },
  {
   "cell_type": "code",
   "execution_count": 26,
   "metadata": {
    "execution": {
     "iopub.execute_input": "2020-08-24T10:13:55.391315Z",
     "iopub.status.busy": "2020-08-24T10:13:55.390727Z",
     "iopub.status.idle": "2020-08-24T10:13:55.415113Z",
     "shell.execute_reply": "2020-08-24T10:13:55.415612Z"
    },
    "papermill": {
     "duration": 0.075751,
     "end_time": "2020-08-24T10:13:55.415767",
     "exception": false,
     "start_time": "2020-08-24T10:13:55.340016",
     "status": "completed"
    },
    "tags": []
   },
   "outputs": [],
   "source": [
    "plot_testing = model_new(testing_xdata)"
   ]
  },
  {
   "cell_type": "markdown",
   "metadata": {
    "papermill": {
     "duration": 0.046802,
     "end_time": "2020-08-24T10:13:55.509887",
     "exception": false,
     "start_time": "2020-08-24T10:13:55.463085",
     "status": "completed"
    },
    "tags": []
   },
   "source": [
    "##### Plotting the scatter plot of points and color coding by class"
   ]
  },
  {
   "cell_type": "code",
   "execution_count": 27,
   "metadata": {
    "execution": {
     "iopub.execute_input": "2020-08-24T10:13:55.609320Z",
     "iopub.status.busy": "2020-08-24T10:13:55.607540Z",
     "iopub.status.idle": "2020-08-24T10:13:55.803926Z",
     "shell.execute_reply": "2020-08-24T10:13:55.804755Z"
    },
    "papermill": {
     "duration": 0.248692,
     "end_time": "2020-08-24T10:13:55.804998",
     "exception": false,
     "start_time": "2020-08-24T10:13:55.556306",
     "status": "completed"
    },
    "tags": []
   },
   "outputs": [
    {
     "data": {
      "image/png": "[encoded data removed]",
      "text/plain": [
       "<Figure size 576x504 with 1 Axes>"
      ]
     },
     "metadata": {
      "needs_background": "light"
     },
     "output_type": "display_data"
    }
   ],
   "source": [
    "plt.figure(figsize=(8,7))\n",
    "plt.scatter(plot_testing[:,0], plot_testing[:,1], alpha = 0.1, c = y_test.ravel());"
   ]
  },
  {
   "cell_type": "markdown",
   "metadata": {
    "papermill": {
     "duration": 0.047906,
     "end_time": "2020-08-24T10:13:55.930027",
     "exception": false,
     "start_time": "2020-08-24T10:13:55.882121",
     "status": "completed"
    },
    "tags": []
   },
   "source": [
    "##### Plotting probability contours"
   ]
  },
  {
   "cell_type": "code",
   "execution_count": 28,
   "metadata": {
    "execution": {
     "iopub.execute_input": "2020-08-24T10:13:56.025557Z",
     "iopub.status.busy": "2020-08-24T10:13:56.024949Z",
     "iopub.status.idle": "2020-08-24T10:13:56.039275Z",
     "shell.execute_reply": "2020-08-24T10:13:56.038766Z"
    },
    "papermill": {
     "duration": 0.065181,
     "end_time": "2020-08-24T10:13:56.039403",
     "exception": false,
     "start_time": "2020-08-24T10:13:55.974222",
     "status": "completed"
    },
    "tags": []
   },
   "outputs": [],
   "source": [
    "model_prob = Model(layers[-2:]) ## picking only last two layers to get probability. That is affine followed by sigmoid"
   ]
  },
  {
   "cell_type": "code",
   "execution_count": 29,
   "metadata": {
    "execution": {
     "iopub.execute_input": "2020-08-24T10:13:56.142541Z",
     "iopub.status.busy": "2020-08-24T10:13:56.141931Z",
     "iopub.status.idle": "2020-08-24T10:13:56.155005Z",
     "shell.execute_reply": "2020-08-24T10:13:56.155460Z"
    },
    "papermill": {
     "duration": 0.06838,
     "end_time": "2020-08-24T10:13:56.155617",
     "exception": false,
     "start_time": "2020-08-24T10:13:56.087237",
     "status": "completed"
    },
    "tags": []
   },
   "outputs": [],
   "source": [
    "xgrid = np.linspace(-4, 1, 100) ## Adjust these values based on above chart, roughly -4 to 1\n",
    "ygrid = np.linspace(-7.5, 7.5, 100) ## Adjust these values based on above chart, roughly -7.5, 7.5\n",
    "xg, yg = np.meshgrid(xgrid, ygrid)\n",
    "# xg and yg are now both 100X100, lets convert them to single arrays \n",
    "\n",
    "xg_interim = np.ravel(xg)\n",
    "yg_interim = np.ravel(yg)\n",
    "\n",
    "## xg_interim, yg_interim are now arrays of len 10000, now we will stack them and then transpose to get desired shape of n rows, 2 columns\n",
    "\n",
    "X_interim = np.vstack((xg_interim, yg_interim)) ## Please note vstack takes in a tuple\n",
    "X = X_interim.T\n",
    "\n",
    "## We want a shape of n rows and 2 columns to be able to feed this to last affine\n",
    "## This last affine takes only two columns, hence the above transformation\n",
    "probability_contour = model_prob(X).reshape(100,100) ## to make it consistent with xg, yg"
   ]
  },
  {
   "cell_type": "code",
   "execution_count": 30,
   "metadata": {
    "execution": {
     "iopub.execute_input": "2020-08-24T10:13:56.266247Z",
     "iopub.status.busy": "2020-08-24T10:13:56.265755Z",
     "iopub.status.idle": "2020-08-24T10:13:56.492543Z",
     "shell.execute_reply": "2020-08-24T10:13:56.492019Z"
    },
    "papermill": {
     "duration": 0.29044,
     "end_time": "2020-08-24T10:13:56.492684",
     "exception": false,
     "start_time": "2020-08-24T10:13:56.202244",
     "status": "completed"
    },
    "tags": []
   },
   "outputs": [
    {
     "data": {
      "image/png": "[encoded data removed]",
      "text/plain": [
       "<Figure size 576x504 with 1 Axes>"
      ]
     },
     "metadata": {
      "needs_background": "light"
     },
     "output_type": "display_data"
    }
   ],
   "source": [
    "plt.figure(figsize=(8,7))\n",
    "plt.scatter(plot_testing[:,0], plot_testing[:,1], alpha = 0.1, c = y_test.ravel())\n",
    "contours = plt.contour(xg,yg,probability_contour)\n",
    "plt.clabel(contours, inline = True );"
   ]
  }
 ],
 "metadata": {
  "kernelspec": {
   "display_name": "Python 3",
   "language": "python",
   "name": "python3"
  },
  "language_info": {
   "codemirror_mode": {
    "name": "ipython",
    "version": 3
   },
   "file_extension": ".py",
   "mimetype": "text/x-python",
   "name": "python",
   "nbconvert_exporter": "python",
   "pygments_lexer": "ipython3",
   "version": "3.6.11"
  },
  "papermill": {
   "duration": 110.361215,
   "end_time": "2020-08-24T10:13:57.746618",
   "environment_variables": {},
   "exception": null,
   "input_path": "2020-08-07-NN-new.ipynb",
   "output_path": "2020-08-07-NN-new.ipynb",
   "parameters": {},
   "start_time": "2020-08-24T10:12:07.385403",
   "version": "2.1.2"
  }
 },
 "nbformat": 4,
 "nbformat_minor": 4
}