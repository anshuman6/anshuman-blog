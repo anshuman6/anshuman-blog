{
 "cells": [
  {
   "cell_type": "markdown",
   "metadata": {
    "papermill": {
     "duration": 0.035938,
     "end_time": "2020-08-11T20:12:57.767563",
     "exception": false,
     "start_time": "2020-08-11T20:12:57.731625",
     "status": "completed"
    },
    "tags": []
   },
   "source": [
    "# \"Building a basic Neural Network from scratch - Kudzu\"\n",
    "\n",
    "- badges: true\n",
    "- author: Anshuman Gupta"
   ]
  },
  {
   "cell_type": "markdown",
   "metadata": {
    "papermill": {
     "duration": 0.032197,
     "end_time": "2020-08-11T20:12:57.832915",
     "exception": false,
     "start_time": "2020-08-11T20:12:57.800718",
     "status": "completed"
    },
    "tags": []
   },
   "source": [
    "#### In this project, the idea is to write a classifier to differentiate between handwritten digits 3 and 8, from the MNIST database.\n",
    "\n",
    "#### I will using a custom built neural network library called Kudzu.This has been developed as a part of KTF/Foundations course of Univ.ai (www.univ.ai). The source code for Kudzu Library and and this notebook can be found on my git-hub profile : www.https://github.com/anshuman6 under the folder project-solution. Any feedback and comments are welcome. Please feel free to email me at: anshuman6@gmail.com\n",
    "\n",
    "#### 1. I will be using the MNIST database. \n",
    "\n",
    "#### 2. I will be comparing the results of the 4 layer NN to a standard logistic regression"
   ]
  },
  {
   "cell_type": "markdown",
   "metadata": {
    "papermill": {
     "duration": 0.032398,
     "end_time": "2020-08-11T20:12:57.898009",
     "exception": false,
     "start_time": "2020-08-11T20:12:57.865611",
     "status": "completed"
    },
    "tags": []
   },
   "source": [
    "##### Importing all the necessary libraries"
   ]
  },
  {
   "cell_type": "code",
   "execution_count": 1,
   "metadata": {
    "execution": {
     "iopub.execute_input": "2020-08-11T20:12:57.971701Z",
     "iopub.status.busy": "2020-08-11T20:12:57.971013Z",
     "iopub.status.idle": "2020-08-11T20:12:57.983339Z",
     "shell.execute_reply": "2020-08-11T20:12:57.983884Z"
    },
    "papermill": {
     "duration": 0.051728,
     "end_time": "2020-08-11T20:12:57.984119",
     "exception": false,
     "start_time": "2020-08-11T20:12:57.932391",
     "status": "completed"
    },
    "tags": []
   },
   "outputs": [],
   "source": [
    "%load_ext autoreload\n",
    "%autoreload 2"
   ]
  },
  {
   "cell_type": "code",
   "execution_count": 2,
   "metadata": {
    "execution": {
     "iopub.execute_input": "2020-08-11T20:12:58.056825Z",
     "iopub.status.busy": "2020-08-11T20:12:58.055739Z",
     "iopub.status.idle": "2020-08-11T20:12:58.736106Z",
     "shell.execute_reply": "2020-08-11T20:12:58.735544Z"
    },
    "papermill": {
     "duration": 0.718858,
     "end_time": "2020-08-11T20:12:58.736255",
     "exception": false,
     "start_time": "2020-08-11T20:12:58.017397",
     "status": "completed"
    },
    "tags": []
   },
   "outputs": [],
   "source": [
    "%matplotlib inline\n",
    "import numpy as np\n",
    "import matplotlib.pyplot as plt\n",
    "import pandas as pd"
   ]
  },
  {
   "cell_type": "markdown",
   "metadata": {
    "papermill": {
     "duration": 0.035862,
     "end_time": "2020-08-11T20:12:58.804022",
     "exception": false,
     "start_time": "2020-08-11T20:12:58.768160",
     "status": "completed"
    },
    "tags": []
   },
   "source": [
    "##### The following command helps us download MNIST from notebook itself. You can skip this if you already have MNIST. You can also download it via your terminal."
   ]
  },
  {
   "cell_type": "code",
   "execution_count": 3,
   "metadata": {
    "execution": {
     "iopub.execute_input": "2020-08-11T20:12:58.876281Z",
     "iopub.status.busy": "2020-08-11T20:12:58.875612Z",
     "iopub.status.idle": "2020-08-11T20:13:00.462247Z",
     "shell.execute_reply": "2020-08-11T20:13:00.461116Z"
    },
    "papermill": {
     "duration": 1.623214,
     "end_time": "2020-08-11T20:13:00.462523",
     "exception": false,
     "start_time": "2020-08-11T20:12:58.839309",
     "status": "completed"
    },
    "tags": []
   },
   "outputs": [
    {
     "name": "stdout",
     "output_type": "stream",
     "text": [
      "Collecting mnist\r\n"
     ]
    },
    {
     "name": "stdout",
     "output_type": "stream",
     "text": [
      "  Downloading mnist-0.2.2-py2.py3-none-any.whl (3.5 kB)\r\n"
     ]
    },
    {
     "name": "stdout",
     "output_type": "stream",
     "text": [
      "Requirement already satisfied: numpy in /opt/hostedtoolcache/Python/3.6.11/x64/lib/python3.6/site-packages (from mnist) (1.19.1)\r\n"
     ]
    },
    {
     "name": "stdout",
     "output_type": "stream",
     "text": [
      "Installing collected packages: mnist\r\n",
      "Successfully installed mnist-0.2.2\r\n"
     ]
    },
    {
     "name": "stdout",
     "output_type": "stream",
     "text": [
      "\u001b[33mWARNING: You are using pip version 20.2; however, version 20.2.2 is available.\r\n",
      "You should consider upgrading via the '/opt/hostedtoolcache/Python/3.6.11/x64/bin/python -m pip install --upgrade pip' command.\u001b[0m\r\n"
     ]
    }
   ],
   "source": [
    "!pip install mnist # Please note, it is commented out for now, you can remove comment if you want to install it"
   ]
  },
  {
   "cell_type": "markdown",
   "metadata": {
    "papermill": {
     "duration": 0.035585,
     "end_time": "2020-08-11T20:13:00.531284",
     "exception": false,
     "start_time": "2020-08-11T20:13:00.495699",
     "status": "completed"
    },
    "tags": []
   },
   "source": [
    "#### Preparing the Data"
   ]
  },
  {
   "cell_type": "code",
   "execution_count": 4,
   "metadata": {
    "execution": {
     "iopub.execute_input": "2020-08-11T20:13:00.603804Z",
     "iopub.status.busy": "2020-08-11T20:13:00.602657Z",
     "iopub.status.idle": "2020-08-11T20:13:00.620154Z",
     "shell.execute_reply": "2020-08-11T20:13:00.619416Z"
    },
    "papermill": {
     "duration": 0.05525,
     "end_time": "2020-08-11T20:13:00.620317",
     "exception": false,
     "start_time": "2020-08-11T20:13:00.565067",
     "status": "completed"
    },
    "tags": []
   },
   "outputs": [],
   "source": [
    "import mnist"
   ]
  },
  {
   "cell_type": "code",
   "execution_count": 5,
   "metadata": {
    "execution": {
     "iopub.execute_input": "2020-08-11T20:13:00.702702Z",
     "iopub.status.busy": "2020-08-11T20:13:00.696155Z",
     "iopub.status.idle": "2020-08-11T20:13:01.469587Z",
     "shell.execute_reply": "2020-08-11T20:13:01.468811Z"
    },
    "papermill": {
     "duration": 0.813455,
     "end_time": "2020-08-11T20:13:01.469750",
     "exception": false,
     "start_time": "2020-08-11T20:13:00.656295",
     "status": "completed"
    },
    "tags": []
   },
   "outputs": [],
   "source": [
    "train_images = mnist.train_images()\n",
    "train_labels = mnist.train_labels()"
   ]
  },
  {
   "cell_type": "code",
   "execution_count": 6,
   "metadata": {
    "execution": {
     "iopub.execute_input": "2020-08-11T20:13:01.545172Z",
     "iopub.status.busy": "2020-08-11T20:13:01.544402Z",
     "iopub.status.idle": "2020-08-11T20:13:01.558420Z",
     "shell.execute_reply": "2020-08-11T20:13:01.559040Z"
    },
    "papermill": {
     "duration": 0.054821,
     "end_time": "2020-08-11T20:13:01.559227",
     "exception": false,
     "start_time": "2020-08-11T20:13:01.504406",
     "status": "completed"
    },
    "tags": []
   },
   "outputs": [
    {
     "data": {
      "text/plain": [
       "((60000, 28, 28), (60000,))"
      ]
     },
     "execution_count": 6,
     "metadata": {},
     "output_type": "execute_result"
    }
   ],
   "source": [
    "train_images.shape, train_labels.shape"
   ]
  },
  {
   "cell_type": "code",
   "execution_count": 7,
   "metadata": {
    "execution": {
     "iopub.execute_input": "2020-08-11T20:13:01.635767Z",
     "iopub.status.busy": "2020-08-11T20:13:01.635003Z",
     "iopub.status.idle": "2020-08-11T20:13:01.902770Z",
     "shell.execute_reply": "2020-08-11T20:13:01.902138Z"
    },
    "papermill": {
     "duration": 0.308669,
     "end_time": "2020-08-11T20:13:01.902921",
     "exception": false,
     "start_time": "2020-08-11T20:13:01.594252",
     "status": "completed"
    },
    "tags": []
   },
   "outputs": [],
   "source": [
    "test_images = mnist.test_images()\n",
    "test_labels = mnist.test_labels()"
   ]
  },
  {
   "cell_type": "code",
   "execution_count": 8,
   "metadata": {
    "execution": {
     "iopub.execute_input": "2020-08-11T20:13:01.976020Z",
     "iopub.status.busy": "2020-08-11T20:13:01.975291Z",
     "iopub.status.idle": "2020-08-11T20:13:01.989446Z",
     "shell.execute_reply": "2020-08-11T20:13:01.990104Z"
    },
    "papermill": {
     "duration": 0.052951,
     "end_time": "2020-08-11T20:13:01.990277",
     "exception": false,
     "start_time": "2020-08-11T20:13:01.937326",
     "status": "completed"
    },
    "tags": []
   },
   "outputs": [
    {
     "data": {
      "text/plain": [
       "((10000, 28, 28), (10000,))"
      ]
     },
     "execution_count": 8,
     "metadata": {},
     "output_type": "execute_result"
    }
   ],
   "source": [
    "test_images.shape, test_labels.shape"
   ]
  },
  {
   "cell_type": "code",
   "execution_count": 9,
   "metadata": {
    "execution": {
     "iopub.execute_input": "2020-08-11T20:13:02.076020Z",
     "iopub.status.busy": "2020-08-11T20:13:02.075245Z",
     "iopub.status.idle": "2020-08-11T20:13:02.278322Z",
     "shell.execute_reply": "2020-08-11T20:13:02.277746Z"
    },
    "papermill": {
     "duration": 0.249536,
     "end_time": "2020-08-11T20:13:02.278465",
     "exception": false,
     "start_time": "2020-08-11T20:13:02.028929",
     "status": "completed"
    },
    "tags": []
   },
   "outputs": [
    {
     "name": "stdout",
     "output_type": "stream",
     "text": [
      "2\n"
     ]
    },
    {
     "data": {
      "text/plain": [
       "<matplotlib.image.AxesImage at 0x7fe5ace2e320>"
      ]
     },
     "execution_count": 9,
     "metadata": {},
     "output_type": "execute_result"
    },
    {
     "data": {
      "image/png": "[encoded data removed]",
      "text/plain": [
       "<Figure size 432x288 with 1 Axes>"
      ]
     },
     "metadata": {
      "needs_background": "light"
     },
     "output_type": "display_data"
    }
   ],
   "source": [
    "image_index = 7776 # You may select anything up to 60,000\n",
    "print(train_labels[image_index]) \n",
    "plt.imshow(train_images[image_index], cmap='Greys')"
   ]
  },
  {
   "cell_type": "markdown",
   "metadata": {
    "papermill": {
     "duration": 0.035268,
     "end_time": "2020-08-11T20:13:02.349361",
     "exception": false,
     "start_time": "2020-08-11T20:13:02.314093",
     "status": "completed"
    },
    "tags": []
   },
   "source": [
    "## Filter data to get 3 and 8 out"
   ]
  },
  {
   "cell_type": "code",
   "execution_count": 10,
   "metadata": {
    "execution": {
     "iopub.execute_input": "2020-08-11T20:13:02.425354Z",
     "iopub.status.busy": "2020-08-11T20:13:02.424641Z",
     "iopub.status.idle": "2020-08-11T20:13:02.444994Z",
     "shell.execute_reply": "2020-08-11T20:13:02.445527Z"
    },
    "papermill": {
     "duration": 0.061009,
     "end_time": "2020-08-11T20:13:02.445784",
     "exception": false,
     "start_time": "2020-08-11T20:13:02.384775",
     "status": "completed"
    },
    "tags": []
   },
   "outputs": [],
   "source": [
    "train_filter = np.where((train_labels == 3 ) | (train_labels == 8))\n",
    "test_filter = np.where((test_labels == 3) | (test_labels == 8))\n",
    "X_train, y_train = train_images[train_filter], train_labels[train_filter]\n",
    "X_test, y_test = test_images[test_filter], test_labels[test_filter]"
   ]
  },
  {
   "cell_type": "markdown",
   "metadata": {
    "papermill": {
     "duration": 0.034909,
     "end_time": "2020-08-11T20:13:02.516132",
     "exception": false,
     "start_time": "2020-08-11T20:13:02.481223",
     "status": "completed"
    },
    "tags": []
   },
   "source": [
    "##### We normalize the pizel values in the 0 to 1 range"
   ]
  },
  {
   "cell_type": "code",
   "execution_count": 11,
   "metadata": {
    "execution": {
     "iopub.execute_input": "2020-08-11T20:13:02.596254Z",
     "iopub.status.busy": "2020-08-11T20:13:02.595614Z",
     "iopub.status.idle": "2020-08-11T20:13:02.660159Z",
     "shell.execute_reply": "2020-08-11T20:13:02.659519Z"
    },
    "papermill": {
     "duration": 0.104378,
     "end_time": "2020-08-11T20:13:02.660304",
     "exception": false,
     "start_time": "2020-08-11T20:13:02.555926",
     "status": "completed"
    },
    "tags": []
   },
   "outputs": [],
   "source": [
    "X_train = X_train/255.\n",
    "X_test = X_test/255."
   ]
  },
  {
   "cell_type": "markdown",
   "metadata": {
    "papermill": {
     "duration": 0.035955,
     "end_time": "2020-08-11T20:13:02.732357",
     "exception": false,
     "start_time": "2020-08-11T20:13:02.696402",
     "status": "completed"
    },
    "tags": []
   },
   "source": [
    "And setup the labels as 1 (when the digit is 3) and 0 (when the digit is 8)"
   ]
  },
  {
   "cell_type": "code",
   "execution_count": 12,
   "metadata": {
    "execution": {
     "iopub.execute_input": "2020-08-11T20:13:02.809506Z",
     "iopub.status.busy": "2020-08-11T20:13:02.808842Z",
     "iopub.status.idle": "2020-08-11T20:13:02.823086Z",
     "shell.execute_reply": "2020-08-11T20:13:02.822466Z"
    },
    "papermill": {
     "duration": 0.055258,
     "end_time": "2020-08-11T20:13:02.823238",
     "exception": false,
     "start_time": "2020-08-11T20:13:02.767980",
     "status": "completed"
    },
    "tags": []
   },
   "outputs": [],
   "source": [
    "y_train = 1*(y_train==3)\n",
    "y_test = 1*(y_test==3)"
   ]
  },
  {
   "cell_type": "code",
   "execution_count": 13,
   "metadata": {
    "execution": {
     "iopub.execute_input": "2020-08-11T20:13:02.899162Z",
     "iopub.status.busy": "2020-08-11T20:13:02.898492Z",
     "iopub.status.idle": "2020-08-11T20:13:02.918923Z",
     "shell.execute_reply": "2020-08-11T20:13:02.915459Z"
    },
    "papermill": {
     "duration": 0.060527,
     "end_time": "2020-08-11T20:13:02.919086",
     "exception": false,
     "start_time": "2020-08-11T20:13:02.858559",
     "status": "completed"
    },
    "tags": []
   },
   "outputs": [
    {
     "data": {
      "text/plain": [
       "((11982, 28, 28), (1984, 28, 28))"
      ]
     },
     "execution_count": 13,
     "metadata": {},
     "output_type": "execute_result"
    }
   ],
   "source": [
    "X_train.shape, X_test.shape"
   ]
  },
  {
   "cell_type": "markdown",
   "metadata": {
    "papermill": {
     "duration": 0.036506,
     "end_time": "2020-08-11T20:13:02.993411",
     "exception": false,
     "start_time": "2020-08-11T20:13:02.956905",
     "status": "completed"
    },
    "tags": []
   },
   "source": [
    "##### We reshape the data to flatten the image pixels into a set of features or co-variates:"
   ]
  },
  {
   "cell_type": "code",
   "execution_count": 14,
   "metadata": {
    "execution": {
     "iopub.execute_input": "2020-08-11T20:13:03.070902Z",
     "iopub.status.busy": "2020-08-11T20:13:03.070251Z",
     "iopub.status.idle": "2020-08-11T20:13:03.085907Z",
     "shell.execute_reply": "2020-08-11T20:13:03.085278Z"
    },
    "papermill": {
     "duration": 0.056925,
     "end_time": "2020-08-11T20:13:03.086056",
     "exception": false,
     "start_time": "2020-08-11T20:13:03.029131",
     "status": "completed"
    },
    "tags": []
   },
   "outputs": [
    {
     "data": {
      "text/plain": [
       "((11982, 784), (1984, 784))"
      ]
     },
     "execution_count": 14,
     "metadata": {},
     "output_type": "execute_result"
    }
   ],
   "source": [
    "X_train = X_train.reshape(X_train.shape[0], -1)\n",
    "X_test = X_test.reshape(X_test.shape[0], -1)\n",
    "X_train.shape, X_test.shape"
   ]
  },
  {
   "cell_type": "markdown",
   "metadata": {
    "papermill": {
     "duration": 0.036956,
     "end_time": "2020-08-11T20:13:03.167304",
     "exception": false,
     "start_time": "2020-08-11T20:13:03.130348",
     "status": "completed"
    },
    "tags": []
   },
   "source": [
    "##### Importing Kudzu library and its functionality"
   ]
  },
  {
   "cell_type": "code",
   "execution_count": 15,
   "metadata": {
    "execution": {
     "iopub.execute_input": "2020-08-11T20:13:03.245000Z",
     "iopub.status.busy": "2020-08-11T20:13:03.244209Z",
     "iopub.status.idle": "2020-08-11T20:13:03.270266Z",
     "shell.execute_reply": "2020-08-11T20:13:03.269401Z"
    },
    "papermill": {
     "duration": 0.067287,
     "end_time": "2020-08-11T20:13:03.270448",
     "exception": false,
     "start_time": "2020-08-11T20:13:03.203161",
     "status": "completed"
    },
    "tags": []
   },
   "outputs": [],
   "source": [
    "from kudzu.data import Data, Dataloader, Sampler\n",
    "from kudzu.callbacks import AccCallback\n",
    "from kudzu.loss import MSE\n",
    "from kudzu.layer import Affine, Sigmoid\n",
    "from kudzu.model import Model\n",
    "from kudzu.optim import GD\n",
    "from kudzu.train import Learner\n",
    "from kudzu.callbacks import ClfCallback\n",
    "from kudzu.layer import Sigmoid\n",
    "from kudzu.layer import Relu"
   ]
  },
  {
   "cell_type": "markdown",
   "metadata": {
    "papermill": {
     "duration": 0.040119,
     "end_time": "2020-08-11T20:13:03.347768",
     "exception": false,
     "start_time": "2020-08-11T20:13:03.307649",
     "status": "completed"
    },
    "tags": []
   },
   "source": [
    "##### We are creating a class, just so that we can use it to store our parameters for us"
   ]
  },
  {
   "cell_type": "code",
   "execution_count": 16,
   "metadata": {
    "execution": {
     "iopub.execute_input": "2020-08-11T20:13:03.433909Z",
     "iopub.status.busy": "2020-08-11T20:13:03.428249Z",
     "iopub.status.idle": "2020-08-11T20:13:03.454151Z",
     "shell.execute_reply": "2020-08-11T20:13:03.453395Z"
    },
    "papermill": {
     "duration": 0.067822,
     "end_time": "2020-08-11T20:13:03.454317",
     "exception": false,
     "start_time": "2020-08-11T20:13:03.386495",
     "status": "completed"
    },
    "tags": []
   },
   "outputs": [],
   "source": [
    "class Config:\n",
    "    pass\n",
    "config = Config()\n",
    "config.lr = 0.001\n",
    "config.num_epochs = 250\n",
    "config.bs = 50"
   ]
  },
  {
   "cell_type": "markdown",
   "metadata": {
    "papermill": {
     "duration": 0.038913,
     "end_time": "2020-08-11T20:13:03.537104",
     "exception": false,
     "start_time": "2020-08-11T20:13:03.498191",
     "status": "completed"
    },
    "tags": []
   },
   "source": [
    "##### Initializing Data"
   ]
  },
  {
   "cell_type": "code",
   "execution_count": 17,
   "metadata": {
    "execution": {
     "iopub.execute_input": "2020-08-11T20:13:03.619150Z",
     "iopub.status.busy": "2020-08-11T20:13:03.618410Z",
     "iopub.status.idle": "2020-08-11T20:13:03.635570Z",
     "shell.execute_reply": "2020-08-11T20:13:03.634827Z"
    },
    "papermill": {
     "duration": 0.057508,
     "end_time": "2020-08-11T20:13:03.635734",
     "exception": false,
     "start_time": "2020-08-11T20:13:03.578226",
     "status": "completed"
    },
    "tags": []
   },
   "outputs": [],
   "source": [
    "data = Data(X_train, y_train.reshape(-1,1))\n",
    "loss = MSE()\n",
    "opt = GD(config.lr)\n",
    "sampler = Sampler(data, config.bs, shuffle=True)\n",
    "dl = Dataloader(data, sampler)"
   ]
  },
  {
   "cell_type": "markdown",
   "metadata": {
    "papermill": {
     "duration": 0.037144,
     "end_time": "2020-08-11T20:13:03.713311",
     "exception": false,
     "start_time": "2020-08-11T20:13:03.676167",
     "status": "completed"
    },
    "tags": []
   },
   "source": [
    "##### Constructing 2 different layers, one for NN and one only for logistic regression."
   ]
  },
  {
   "cell_type": "markdown",
   "metadata": {
    "papermill": {
     "duration": 0.036791,
     "end_time": "2020-08-11T20:13:03.785465",
     "exception": false,
     "start_time": "2020-08-11T20:13:03.748674",
     "status": "completed"
    },
    "tags": []
   },
   "source": [
    "##### Creating containers for data to be passed, to calculate accuracies"
   ]
  },
  {
   "cell_type": "code",
   "execution_count": 18,
   "metadata": {
    "execution": {
     "iopub.execute_input": "2020-08-11T20:13:03.861458Z",
     "iopub.status.busy": "2020-08-11T20:13:03.860761Z",
     "iopub.status.idle": "2020-08-11T20:13:03.875313Z",
     "shell.execute_reply": "2020-08-11T20:13:03.875883Z"
    },
    "papermill": {
     "duration": 0.055147,
     "end_time": "2020-08-11T20:13:03.876137",
     "exception": false,
     "start_time": "2020-08-11T20:13:03.820990",
     "status": "completed"
    },
    "tags": []
   },
   "outputs": [],
   "source": [
    "training_xdata = X_train\n",
    "testing_xdata = X_test\n",
    "training_ydata = y_train.reshape(-1,1)\n",
    "testing_ydata = y_test.reshape(-1,1)"
   ]
  },
  {
   "cell_type": "markdown",
   "metadata": {
    "papermill": {
     "duration": 0.03621,
     "end_time": "2020-08-11T20:13:03.955304",
     "exception": false,
     "start_time": "2020-08-11T20:13:03.919094",
     "status": "completed"
    },
    "tags": []
   },
   "source": [
    "##### Initializing models and Running training loop: "
   ]
  },
  {
   "cell_type": "code",
   "execution_count": 19,
   "metadata": {
    "execution": {
     "iopub.execute_input": "2020-08-11T20:13:04.032137Z",
     "iopub.status.busy": "2020-08-11T20:13:04.031452Z",
     "iopub.status.idle": "2020-08-11T20:13:04.052952Z",
     "shell.execute_reply": "2020-08-11T20:13:04.053715Z"
    },
    "papermill": {
     "duration": 0.063112,
     "end_time": "2020-08-11T20:13:04.053923",
     "exception": false,
     "start_time": "2020-08-11T20:13:03.990811",
     "status": "completed"
    },
    "tags": []
   },
   "outputs": [],
   "source": [
    "layers = [Affine(\"first\", 784, 100), Relu(\"first\"), Affine(\"second\", 100, 100), Relu(\"second\"), Affine(\"third\", 100, 2), Affine(\"final\", 2, 1), Sigmoid(\"final\")]\n",
    "\n",
    "model_neural = Model(layers)\n",
    "model_logistic = Model([Affine(\"logits\", 784, 1), Sigmoid(\"sigmoid\")])"
   ]
  },
  {
   "cell_type": "code",
   "execution_count": 20,
   "metadata": {
    "execution": {
     "iopub.execute_input": "2020-08-11T20:13:04.130278Z",
     "iopub.status.busy": "2020-08-11T20:13:04.129579Z",
     "iopub.status.idle": "2020-08-11T20:13:04.145789Z",
     "shell.execute_reply": "2020-08-11T20:13:04.144941Z"
    },
    "papermill": {
     "duration": 0.055762,
     "end_time": "2020-08-11T20:13:04.145976",
     "exception": false,
     "start_time": "2020-08-11T20:13:04.090214",
     "status": "completed"
    },
    "tags": []
   },
   "outputs": [],
   "source": [
    "learner1 = Learner(loss, model_neural, opt, config.num_epochs)\n",
    "acc1 = ClfCallback(learner1, config.bs, training_xdata , testing_xdata, training_ydata, testing_ydata)\n",
    "learner1.set_callbacks([acc1])"
   ]
  },
  {
   "cell_type": "code",
   "execution_count": 21,
   "metadata": {
    "execution": {
     "iopub.execute_input": "2020-08-11T20:13:04.227912Z",
     "iopub.status.busy": "2020-08-11T20:13:04.227268Z",
     "iopub.status.idle": "2020-08-11T20:15:20.430074Z",
     "shell.execute_reply": "2020-08-11T20:15:20.429432Z"
    },
    "papermill": {
     "duration": 136.244208,
     "end_time": "2020-08-11T20:15:20.430223",
     "exception": false,
     "start_time": "2020-08-11T20:13:04.186015",
     "status": "completed"
    },
    "tags": []
   },
   "outputs": [
    {
     "name": "stdout",
     "output_type": "stream",
     "text": [
      "Epoch 0 Loss 0.2532296531620116\n",
      "train accuracy is: 0.4547654815556668, test accuracy is 0.4536290322580645\n"
     ]
    },
    {
     "name": "stdout",
     "output_type": "stream",
     "text": [
      "Epoch 10 Loss 0.21687857988773404\n",
      "train accuracy is: 0.8514438324152896, test accuracy is 0.8679435483870968\n"
     ]
    },
    {
     "name": "stdout",
     "output_type": "stream",
     "text": [
      "Epoch 20 Loss 0.12377804420393454\n",
      "train accuracy is: 0.8980971457185779, test accuracy is 0.9102822580645161\n"
     ]
    },
    {
     "name": "stdout",
     "output_type": "stream",
     "text": [
      "Epoch 30 Loss 0.07164720202564268\n",
      "train accuracy is: 0.9251377065598397, test accuracy is 0.9400201612903226\n"
     ]
    },
    {
     "name": "stdout",
     "output_type": "stream",
     "text": [
      "Epoch 40 Loss 0.053886701546796624\n",
      "train accuracy is: 0.9399098647971958, test accuracy is 0.9516129032258065\n"
     ]
    },
    {
     "name": "stdout",
     "output_type": "stream",
     "text": [
      "Epoch 50 Loss 0.04530208865752915\n",
      "train accuracy is: 0.9485060924720414, test accuracy is 0.9591733870967742\n"
     ]
    },
    {
     "name": "stdout",
     "output_type": "stream",
     "text": [
      "Epoch 60 Loss 0.04021156065900123\n",
      "train accuracy is: 0.9530963111333667, test accuracy is 0.9702620967741935\n"
     ]
    },
    {
     "name": "stdout",
     "output_type": "stream",
     "text": [
      "Epoch 70 Loss 0.03680030917099007\n",
      "train accuracy is: 0.957185778668002, test accuracy is 0.9702620967741935\n"
     ]
    },
    {
     "name": "stdout",
     "output_type": "stream",
     "text": [
      "Epoch 80 Loss 0.034323993812999984\n",
      "train accuracy is: 0.9600233683859122, test accuracy is 0.9722782258064516\n"
     ]
    },
    {
     "name": "stdout",
     "output_type": "stream",
     "text": [
      "Epoch 90 Loss 0.03241271813644606\n",
      "train accuracy is: 0.9625271240193624, test accuracy is 0.9707661290322581\n"
     ]
    },
    {
     "name": "stdout",
     "output_type": "stream",
     "text": [
      "Epoch 100 Loss 0.030866612553204144\n",
      "train accuracy is: 0.9646135870472375, test accuracy is 0.9707661290322581\n"
     ]
    },
    {
     "name": "stdout",
     "output_type": "stream",
     "text": [
      "Epoch 110 Loss 0.029583229837791002\n",
      "train accuracy is: 0.9664496745117677, test accuracy is 0.9712701612903226\n"
     ]
    },
    {
     "name": "stdout",
     "output_type": "stream",
     "text": [
      "Epoch 120 Loss 0.028498683195691127\n",
      "train accuracy is: 0.9677015523284928, test accuracy is 0.9712701612903226\n"
     ]
    },
    {
     "name": "stdout",
     "output_type": "stream",
     "text": [
      "Epoch 130 Loss 0.027553062125113565\n",
      "train accuracy is: 0.9686195960607578, test accuracy is 0.9707661290322581\n"
     ]
    },
    {
     "name": "stdout",
     "output_type": "stream",
     "text": [
      "Epoch 140 Loss 0.026722057045187406\n",
      "train accuracy is: 0.9693707227507928, test accuracy is 0.9717741935483871\n"
     ]
    },
    {
     "name": "stdout",
     "output_type": "stream",
     "text": [
      "Epoch 150 Loss 0.025980855224992074\n",
      "train accuracy is: 0.9702053079619429, test accuracy is 0.9717741935483871\n"
     ]
    },
    {
     "name": "stdout",
     "output_type": "stream",
     "text": [
      "Epoch 160 Loss 0.025317307770614514\n",
      "train accuracy is: 0.970956434651978, test accuracy is 0.9722782258064516\n"
     ]
    },
    {
     "name": "stdout",
     "output_type": "stream",
     "text": [
      "Epoch 170 Loss 0.024713654852986766\n",
      "train accuracy is: 0.9716241028208981, test accuracy is 0.9727822580645161\n"
     ]
    },
    {
     "name": "stdout",
     "output_type": "stream",
     "text": [
      "Epoch 180 Loss 0.024160115828199772\n",
      "train accuracy is: 0.972041395426473, test accuracy is 0.9742943548387096\n"
     ]
    },
    {
     "name": "stdout",
     "output_type": "stream",
     "text": [
      "Epoch 190 Loss 0.023649105685847178\n",
      "train accuracy is: 0.972458688032048, test accuracy is 0.9737903225806451\n"
     ]
    },
    {
     "name": "stdout",
     "output_type": "stream",
     "text": [
      "Epoch 200 Loss 0.023164989428942993\n",
      "train accuracy is: 0.9730428976798531, test accuracy is 0.9737903225806451\n"
     ]
    },
    {
     "name": "stdout",
     "output_type": "stream",
     "text": [
      "Epoch 210 Loss 0.022722975538632985\n",
      "train accuracy is: 0.9739609414121182, test accuracy is 0.9737903225806451\n"
     ]
    },
    {
     "name": "stdout",
     "output_type": "stream",
     "text": [
      "Epoch 220 Loss 0.022299236322614144\n",
      "train accuracy is: 0.9742947754965782, test accuracy is 0.9742943548387096\n"
     ]
    },
    {
     "name": "stdout",
     "output_type": "stream",
     "text": [
      "Epoch 230 Loss 0.021895065619180545\n",
      "train accuracy is: 0.9746286095810383, test accuracy is 0.9742943548387096\n"
     ]
    },
    {
     "name": "stdout",
     "output_type": "stream",
     "text": [
      "Epoch 240 Loss 0.02150508774801036\n",
      "train accuracy is: 0.9751293607077283, test accuracy is 0.9742943548387096\n"
     ]
    },
    {
     "data": {
      "text/plain": [
       "0.034358583105775484"
      ]
     },
     "execution_count": 21,
     "metadata": {},
     "output_type": "execute_result"
    }
   ],
   "source": [
    "learner1.train_loop(dl)"
   ]
  },
  {
   "cell_type": "markdown",
   "metadata": {
    "papermill": {
     "duration": 0.04421,
     "end_time": "2020-08-11T20:15:20.519776",
     "exception": false,
     "start_time": "2020-08-11T20:15:20.475566",
     "status": "completed"
    },
    "tags": []
   },
   "source": [
    "##### Now running only the logistic regression based classification to compare results with NN"
   ]
  },
  {
   "cell_type": "code",
   "execution_count": 22,
   "metadata": {
    "execution": {
     "iopub.execute_input": "2020-08-11T20:15:20.616145Z",
     "iopub.status.busy": "2020-08-11T20:15:20.615480Z",
     "iopub.status.idle": "2020-08-11T20:15:20.627978Z",
     "shell.execute_reply": "2020-08-11T20:15:20.628445Z"
    },
    "papermill": {
     "duration": 0.061426,
     "end_time": "2020-08-11T20:15:20.628606",
     "exception": false,
     "start_time": "2020-08-11T20:15:20.567180",
     "status": "completed"
    },
    "tags": []
   },
   "outputs": [],
   "source": [
    "learner2 = Learner(loss, model_logistic, opt, config.num_epochs)\n",
    "acc2 = ClfCallback(learner2, config.bs, training_xdata , testing_xdata, training_ydata, testing_ydata)\n",
    "learner2.set_callbacks([acc2])"
   ]
  },
  {
   "cell_type": "code",
   "execution_count": 23,
   "metadata": {
    "execution": {
     "iopub.execute_input": "2020-08-11T20:15:20.726642Z",
     "iopub.status.busy": "2020-08-11T20:15:20.725921Z",
     "iopub.status.idle": "2020-08-11T20:15:40.746428Z",
     "shell.execute_reply": "2020-08-11T20:15:40.747072Z"
    },
    "papermill": {
     "duration": 20.071745,
     "end_time": "2020-08-11T20:15:40.747240",
     "exception": false,
     "start_time": "2020-08-11T20:15:20.675495",
     "status": "completed"
    },
    "tags": []
   },
   "outputs": [
    {
     "name": "stdout",
     "output_type": "stream",
     "text": [
      "Epoch 0 Loss 0.2393764843891359\n",
      "train accuracy is: 0.685194458354198, test accuracy is 0.7016129032258065\n"
     ]
    },
    {
     "name": "stdout",
     "output_type": "stream",
     "text": [
      "Epoch 10 Loss 0.10206392865525879\n",
      "train accuracy is: 0.9122850943081289, test accuracy is 0.922883064516129\n"
     ]
    },
    {
     "name": "stdout",
     "output_type": "stream",
     "text": [
      "Epoch 20 Loss 0.07865440231640913\n",
      "train accuracy is: 0.9288098814889, test accuracy is 0.9410282258064516\n"
     ]
    },
    {
     "name": "stdout",
     "output_type": "stream",
     "text": [
      "Epoch 30 Loss 0.0677496086574491\n",
      "train accuracy is: 0.9367384409948256, test accuracy is 0.9480846774193549\n"
     ]
    },
    {
     "name": "stdout",
     "output_type": "stream",
     "text": [
      "Epoch 40 Loss 0.06116251640757418\n",
      "train accuracy is: 0.9419128693039559, test accuracy is 0.9546370967741935\n"
     ]
    },
    {
     "name": "stdout",
     "output_type": "stream",
     "text": [
      "Epoch 50 Loss 0.05667636987108038\n",
      "train accuracy is: 0.9455015857119012, test accuracy is 0.9556451612903226\n"
     ]
    },
    {
     "name": "stdout",
     "output_type": "stream",
     "text": [
      "Epoch 60 Loss 0.053385837290721584\n",
      "train accuracy is: 0.9484226339509264, test accuracy is 0.9591733870967742\n"
     ]
    },
    {
     "name": "stdout",
     "output_type": "stream",
     "text": [
      "Epoch 70 Loss 0.050849818462511825\n",
      "train accuracy is: 0.9499248873309964, test accuracy is 0.9601814516129032\n"
     ]
    },
    {
     "name": "stdout",
     "output_type": "stream",
     "text": [
      "Epoch 80 Loss 0.04882148900552428\n",
      "train accuracy is: 0.9515940577532966, test accuracy is 0.9616935483870968\n"
     ]
    },
    {
     "name": "stdout",
     "output_type": "stream",
     "text": [
      "Epoch 90 Loss 0.047153699619460705\n",
      "train accuracy is: 0.9527624770489067, test accuracy is 0.9637096774193549\n"
     ]
    },
    {
     "name": "stdout",
     "output_type": "stream",
     "text": [
      "Epoch 100 Loss 0.04575047739365228\n",
      "train accuracy is: 0.9535970622600568, test accuracy is 0.9637096774193549\n"
     ]
    },
    {
     "name": "stdout",
     "output_type": "stream",
     "text": [
      "Epoch 110 Loss 0.044549064253199586\n",
      "train accuracy is: 0.9546820230345519, test accuracy is 0.9647177419354839\n"
     ]
    },
    {
     "name": "stdout",
     "output_type": "stream",
     "text": [
      "Epoch 120 Loss 0.043505713453884425\n",
      "train accuracy is: 0.9559339008512769, test accuracy is 0.9662298387096774\n"
     ]
    },
    {
     "name": "stdout",
     "output_type": "stream",
     "text": [
      "Epoch 130 Loss 0.04258745030375382\n",
      "train accuracy is: 0.956601569020197, test accuracy is 0.9662298387096774\n"
     ]
    },
    {
     "name": "stdout",
     "output_type": "stream",
     "text": [
      "Epoch 140 Loss 0.04177142175566402\n",
      "train accuracy is: 0.957102320146887, test accuracy is 0.9657258064516129\n"
     ]
    },
    {
     "name": "stdout",
     "output_type": "stream",
     "text": [
      "Epoch 150 Loss 0.04103878090736469\n",
      "train accuracy is: 0.9577699883158071, test accuracy is 0.9657258064516129\n"
     ]
    },
    {
     "name": "stdout",
     "output_type": "stream",
     "text": [
      "Epoch 160 Loss 0.04037754904209007\n",
      "train accuracy is: 0.958604573526957, test accuracy is 0.9662298387096774\n"
     ]
    },
    {
     "name": "stdout",
     "output_type": "stream",
     "text": [
      "Epoch 170 Loss 0.03977539954131791\n",
      "train accuracy is: 0.9591053246536472, test accuracy is 0.9667338709677419\n"
     ]
    },
    {
     "name": "stdout",
     "output_type": "stream",
     "text": [
      "Epoch 180 Loss 0.03922480648013735\n",
      "train accuracy is: 0.9594391587381071, test accuracy is 0.9667338709677419\n"
     ]
    },
    {
     "name": "stdout",
     "output_type": "stream",
     "text": [
      "Epoch 190 Loss 0.03871801174252751\n",
      "train accuracy is: 0.9600233683859122, test accuracy is 0.9667338709677419\n"
     ]
    },
    {
     "name": "stdout",
     "output_type": "stream",
     "text": [
      "Epoch 200 Loss 0.03825008505775136\n",
      "train accuracy is: 0.9602737439492572, test accuracy is 0.9682459677419355\n"
     ]
    },
    {
     "name": "stdout",
     "output_type": "stream",
     "text": [
      "Epoch 210 Loss 0.037815177974302866\n",
      "train accuracy is: 0.9605241195126022, test accuracy is 0.9682459677419355\n"
     ]
    },
    {
     "name": "stdout",
     "output_type": "stream",
     "text": [
      "Epoch 220 Loss 0.037408856514577725\n",
      "train accuracy is: 0.9612752462026373, test accuracy is 0.9682459677419355\n"
     ]
    },
    {
     "name": "stdout",
     "output_type": "stream",
     "text": [
      "Epoch 230 Loss 0.037031190263292955\n",
      "train accuracy is: 0.9616090802870974, test accuracy is 0.9682459677419355\n"
     ]
    },
    {
     "name": "stdout",
     "output_type": "stream",
     "text": [
      "Epoch 240 Loss 0.03667569337419844\n",
      "train accuracy is: 0.9617759973293273, test accuracy is 0.9682459677419355\n"
     ]
    },
    {
     "data": {
      "text/plain": [
       "0.04733454987384192"
      ]
     },
     "execution_count": 23,
     "metadata": {},
     "output_type": "execute_result"
    }
   ],
   "source": [
    "learner2.train_loop(dl)"
   ]
  },
  {
   "cell_type": "markdown",
   "metadata": {
    "papermill": {
     "duration": 0.064868,
     "end_time": "2020-08-11T20:15:40.867575",
     "exception": false,
     "start_time": "2020-08-11T20:15:40.802707",
     "status": "completed"
    },
    "tags": []
   },
   "source": [
    "### Comparing results of NN and LR"
   ]
  },
  {
   "cell_type": "code",
   "execution_count": 24,
   "metadata": {
    "execution": {
     "iopub.execute_input": "2020-08-11T20:15:40.985747Z",
     "iopub.status.busy": "2020-08-11T20:15:40.985054Z",
     "iopub.status.idle": "2020-08-11T20:15:41.269422Z",
     "shell.execute_reply": "2020-08-11T20:15:41.268763Z"
    },
    "papermill": {
     "duration": 0.346445,
     "end_time": "2020-08-11T20:15:41.269608",
     "exception": false,
     "start_time": "2020-08-11T20:15:40.923163",
     "status": "completed"
    },
    "tags": []
   },
   "outputs": [
    {
     "data": {
      "text/plain": [
       "<matplotlib.legend.Legend at 0x7fe5aca06a90>"
      ]
     },
     "execution_count": 24,
     "metadata": {},
     "output_type": "execute_result"
    },
    {
     "data": {
      "image/png": "[encoded data removed]",
      "text/plain": [
       "<Figure size 576x360 with 1 Axes>"
      ]
     },
     "metadata": {
      "needs_background": "light"
     },
     "output_type": "display_data"
    }
   ],
   "source": [
    "plt.figure(figsize=(8,5))\n",
    "plt.plot(acc1.val_accuracies, 'g-', label = \"Val Accuracies - NN\")\n",
    "plt.plot(acc1.accuracies, 'r-', label = \"Accuracies - NN\")\n",
    "plt.plot(acc2.val_accuracies, 'b-', label = \"Val Accuracies - Logistic Reg\")\n",
    "plt.plot(acc2.accuracies, 'k-', label = \"Accuracies - Logistic Reg\")\n",
    "plt.ylim(0.8,1) ## for a more spread out view\n",
    "plt.legend()"
   ]
  },
  {
   "cell_type": "markdown",
   "metadata": {
    "papermill": {
     "duration": 0.053851,
     "end_time": "2020-08-11T20:15:41.376701",
     "exception": false,
     "start_time": "2020-08-11T20:15:41.322850",
     "status": "completed"
    },
    "tags": []
   },
   "source": [
    "### Clearly NN has a better accuracy over LR; NN is overfitting - Validation accuracy (green) has dropped below training accuracy (orange), also they are diverging. This problem is not seen in LR"
   ]
  },
  {
   "cell_type": "markdown",
   "metadata": {
    "papermill": {
     "duration": 0.05088,
     "end_time": "2020-08-11T20:15:41.478030",
     "exception": false,
     "start_time": "2020-08-11T20:15:41.427150",
     "status": "completed"
    },
    "tags": []
   },
   "source": [
    "##### Now we will be moving through the network, till the output of the second last affine where we get a 2 dimensional output. We will be plotting this 2d output and probability contours"
   ]
  },
  {
   "cell_type": "code",
   "execution_count": 25,
   "metadata": {
    "execution": {
     "iopub.execute_input": "2020-08-11T20:15:41.589838Z",
     "iopub.status.busy": "2020-08-11T20:15:41.589126Z",
     "iopub.status.idle": "2020-08-11T20:15:41.604071Z",
     "shell.execute_reply": "2020-08-11T20:15:41.603498Z"
    },
    "papermill": {
     "duration": 0.073429,
     "end_time": "2020-08-11T20:15:41.604225",
     "exception": false,
     "start_time": "2020-08-11T20:15:41.530796",
     "status": "completed"
    },
    "tags": []
   },
   "outputs": [],
   "source": [
    "model_new = Model(layers[:-2])"
   ]
  },
  {
   "cell_type": "code",
   "execution_count": 26,
   "metadata": {
    "execution": {
     "iopub.execute_input": "2020-08-11T20:15:41.717901Z",
     "iopub.status.busy": "2020-08-11T20:15:41.717242Z",
     "iopub.status.idle": "2020-08-11T20:15:41.744061Z",
     "shell.execute_reply": "2020-08-11T20:15:41.744577Z"
    },
    "papermill": {
     "duration": 0.085064,
     "end_time": "2020-08-11T20:15:41.744761",
     "exception": false,
     "start_time": "2020-08-11T20:15:41.659697",
     "status": "completed"
    },
    "tags": []
   },
   "outputs": [],
   "source": [
    "plot_testing = model_new(testing_xdata)"
   ]
  },
  {
   "cell_type": "markdown",
   "metadata": {
    "papermill": {
     "duration": 0.077928,
     "end_time": "2020-08-11T20:15:41.877747",
     "exception": false,
     "start_time": "2020-08-11T20:15:41.799819",
     "status": "completed"
    },
    "tags": []
   },
   "source": [
    "##### Plotting the scatter plot of points and color coding by class"
   ]
  },
  {
   "cell_type": "code",
   "execution_count": 27,
   "metadata": {
    "execution": {
     "iopub.execute_input": "2020-08-11T20:15:41.987030Z",
     "iopub.status.busy": "2020-08-11T20:15:41.986380Z",
     "iopub.status.idle": "2020-08-11T20:15:42.241167Z",
     "shell.execute_reply": "2020-08-11T20:15:42.240483Z"
    },
    "papermill": {
     "duration": 0.310945,
     "end_time": "2020-08-11T20:15:42.241349",
     "exception": false,
     "start_time": "2020-08-11T20:15:41.930404",
     "status": "completed"
    },
    "tags": []
   },
   "outputs": [
    {
     "data": {
      "image/png": "[encoded data removed]",
      "text/plain": [
       "<Figure size 576x504 with 1 Axes>"
      ]
     },
     "metadata": {
      "needs_background": "light"
     },
     "output_type": "display_data"
    }
   ],
   "source": [
    "plt.figure(figsize=(8,7))\n",
    "plt.scatter(plot_testing[:,0], plot_testing[:,1], alpha = 0.1, c = y_test.ravel());"
   ]
  },
  {
   "cell_type": "markdown",
   "metadata": {
    "papermill": {
     "duration": 0.055515,
     "end_time": "2020-08-11T20:15:42.354197",
     "exception": false,
     "start_time": "2020-08-11T20:15:42.298682",
     "status": "completed"
    },
    "tags": []
   },
   "source": [
    "##### Plotting probability contours"
   ]
  },
  {
   "cell_type": "code",
   "execution_count": 28,
   "metadata": {
    "execution": {
     "iopub.execute_input": "2020-08-11T20:15:42.462370Z",
     "iopub.status.busy": "2020-08-11T20:15:42.461621Z",
     "iopub.status.idle": "2020-08-11T20:15:42.474544Z",
     "shell.execute_reply": "2020-08-11T20:15:42.473968Z"
    },
    "papermill": {
     "duration": 0.068827,
     "end_time": "2020-08-11T20:15:42.474694",
     "exception": false,
     "start_time": "2020-08-11T20:15:42.405867",
     "status": "completed"
    },
    "tags": []
   },
   "outputs": [],
   "source": [
    "model_prob = Model(layers[-2:]) ## picking only last two layers to get probability. That is affine followed by sigmoid"
   ]
  },
  {
   "cell_type": "code",
   "execution_count": 29,
   "metadata": {
    "execution": {
     "iopub.execute_input": "2020-08-11T20:15:42.590756Z",
     "iopub.status.busy": "2020-08-11T20:15:42.589860Z",
     "iopub.status.idle": "2020-08-11T20:15:42.606228Z",
     "shell.execute_reply": "2020-08-11T20:15:42.606774Z"
    },
    "papermill": {
     "duration": 0.075586,
     "end_time": "2020-08-11T20:15:42.606968",
     "exception": false,
     "start_time": "2020-08-11T20:15:42.531382",
     "status": "completed"
    },
    "tags": []
   },
   "outputs": [],
   "source": [
    "xgrid = np.linspace(-4, 1, 100) ## Adjust these values based on above chart, roughly -4 to 1\n",
    "ygrid = np.linspace(-7.5, 7.5, 100) ## Adjust these values based on above chart, roughly -7.5, 7.5\n",
    "xg, yg = np.meshgrid(xgrid, ygrid)\n",
    "# xg and yg are now both 100X100, lets convert them to single arrays \n",
    "\n",
    "xg_interim = np.ravel(xg)\n",
    "yg_interim = np.ravel(yg)\n",
    "\n",
    "## xg_interim, yg_interim are now arrays of len 10000, now we will stack them and then transpose to get desired shape of n rows, 2 columns\n",
    "\n",
    "X_interim = np.vstack((xg_interim, yg_interim)) ## Please note vstack takes in a tuple\n",
    "X = X_interim.T\n",
    "\n",
    "## We want a shape of n rows and 2 columns to be able to feed this to last affine\n",
    "## This last affine takes only two columns, hence the above transformation\n",
    "probability_contour = model_prob(X).reshape(100,100) ## to make it consistent with xg, yg"
   ]
  },
  {
   "cell_type": "code",
   "execution_count": 30,
   "metadata": {
    "execution": {
     "iopub.execute_input": "2020-08-11T20:15:42.728157Z",
     "iopub.status.busy": "2020-08-11T20:15:42.727467Z",
     "iopub.status.idle": "2020-08-11T20:15:43.019431Z",
     "shell.execute_reply": "2020-08-11T20:15:43.020017Z"
    },
    "papermill": {
     "duration": 0.351621,
     "end_time": "2020-08-11T20:15:43.020185",
     "exception": false,
     "start_time": "2020-08-11T20:15:42.668564",
     "status": "completed"
    },
    "tags": []
   },
   "outputs": [
    {
     "data": {
      "image/png": "[encoded data removed]",
      "text/plain": [
       "<Figure size 576x504 with 1 Axes>"
      ]
     },
     "metadata": {
      "needs_background": "light"
     },
     "output_type": "display_data"
    }
   ],
   "source": [
    "plt.figure(figsize=(8,7))\n",
    "plt.scatter(plot_testing[:,0], plot_testing[:,1], alpha = 0.1, c = y_test.ravel())\n",
    "contours = plt.contour(xg,yg,probability_contour)\n",
    "plt.clabel(contours, inline = True );"
   ]
  }
 ],
 "metadata": {
  "kernelspec": {
   "display_name": "Python 3",
   "language": "python",
   "name": "python3"
  },
  "language_info": {
   "codemirror_mode": {
    "name": "ipython",
    "version": 3
   },
   "file_extension": ".py",
   "mimetype": "text/x-python",
   "name": "python",
   "nbconvert_exporter": "python",
   "pygments_lexer": "ipython3",
   "version": "3.6.11"
  },
  "papermill": {
   "duration": 166.94008,
   "end_time": "2020-08-11T20:15:43.488802",
   "environment_variables": {},
   "exception": null,
   "input_path": "2020-08-07-NN-new.ipynb",
   "output_path": "2020-08-07-NN-new.ipynb",
   "parameters": {},
   "start_time": "2020-08-11T20:12:56.548722",
   "version": "2.1.2"
  }
 },
 "nbformat": 4,
 "nbformat_minor": 4
}