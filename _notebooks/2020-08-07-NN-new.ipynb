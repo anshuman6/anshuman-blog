{
 "cells": [
  {
   "cell_type": "markdown",
   "metadata": {
    "papermill": {
     "duration": 0.02988,
     "end_time": "2020-08-14T00:26:34.472659",
     "exception": false,
     "start_time": "2020-08-14T00:26:34.442779",
     "status": "completed"
    },
    "tags": []
   },
   "source": [
    "# \"Building a basic Neural Network from scratch - Kudzu\"\n",
    "\n",
    "- badges: true\n",
    "- author: Anshuman Gupta"
   ]
  },
  {
   "cell_type": "markdown",
   "metadata": {
    "papermill": {
     "duration": 0.2309,
     "end_time": "2020-08-14T00:26:34.727312",
     "exception": false,
     "start_time": "2020-08-14T00:26:34.496412",
     "status": "completed"
    },
    "tags": []
   },
   "source": [
    "#### In this project, the idea is to write a classifier to differentiate between handwritten digits 3 and 8, from the MNIST database.\n",
    "\n",
    "#### I will using a custom built neural network library called Kudzu.This has been developed as a part of KTF/Foundations course of Univ.ai (www.univ.ai). The source code for Kudzu Library and and this notebook can be found on my git-hub profile : www.https://github.com/anshuman6 under the folder project-solution. Any feedback and comments are welcome. Please feel free to email me at: anshuman6@gmail.com\n",
    "\n",
    "#### 1. I will be using the MNIST database. \n",
    "\n",
    "#### 2. I will be comparing the results of the 4 layer NN to a standard logistic regression"
   ]
  },
  {
   "cell_type": "markdown",
   "metadata": {
    "papermill": {
     "duration": 0.046291,
     "end_time": "2020-08-14T00:26:35.271551",
     "exception": false,
     "start_time": "2020-08-14T00:26:35.225260",
     "status": "completed"
    },
    "tags": []
   },
   "source": [
    "##### Importing all the necessary libraries"
   ]
  },
  {
   "cell_type": "code",
   "execution_count": 1,
   "metadata": {
    "execution": {
     "iopub.execute_input": "2020-08-14T00:26:35.332399Z",
     "iopub.status.busy": "2020-08-14T00:26:35.331908Z",
     "iopub.status.idle": "2020-08-14T00:26:35.341802Z",
     "shell.execute_reply": "2020-08-14T00:26:35.342254Z"
    },
    "papermill": {
     "duration": 0.041559,
     "end_time": "2020-08-14T00:26:35.342385",
     "exception": false,
     "start_time": "2020-08-14T00:26:35.300826",
     "status": "completed"
    },
    "tags": []
   },
   "outputs": [],
   "source": [
    "%load_ext autoreload\n",
    "%autoreload 2"
   ]
  },
  {
   "cell_type": "code",
   "execution_count": 2,
   "metadata": {
    "execution": {
     "iopub.execute_input": "2020-08-14T00:26:35.391602Z",
     "iopub.status.busy": "2020-08-14T00:26:35.391132Z",
     "iopub.status.idle": "2020-08-14T00:26:35.882767Z",
     "shell.execute_reply": "2020-08-14T00:26:35.881752Z"
    },
    "papermill": {
     "duration": 0.517919,
     "end_time": "2020-08-14T00:26:35.882918",
     "exception": false,
     "start_time": "2020-08-14T00:26:35.364999",
     "status": "completed"
    },
    "tags": []
   },
   "outputs": [],
   "source": [
    "%matplotlib inline\n",
    "import numpy as np\n",
    "import matplotlib.pyplot as plt\n",
    "import pandas as pd"
   ]
  },
  {
   "cell_type": "markdown",
   "metadata": {
    "papermill": {
     "duration": 0.024601,
     "end_time": "2020-08-14T00:26:35.932740",
     "exception": false,
     "start_time": "2020-08-14T00:26:35.908139",
     "status": "completed"
    },
    "tags": []
   },
   "source": [
    "##### The following command helps us download MNIST from notebook itself. You can skip this if you already have MNIST. You can also download it via your terminal."
   ]
  },
  {
   "cell_type": "code",
   "execution_count": 3,
   "metadata": {
    "execution": {
     "iopub.execute_input": "2020-08-14T00:26:35.985219Z",
     "iopub.status.busy": "2020-08-14T00:26:35.984192Z",
     "iopub.status.idle": "2020-08-14T00:26:37.268912Z",
     "shell.execute_reply": "2020-08-14T00:26:37.267999Z"
    },
    "papermill": {
     "duration": 1.311851,
     "end_time": "2020-08-14T00:26:37.269049",
     "exception": false,
     "start_time": "2020-08-14T00:26:35.957198",
     "status": "completed"
    },
    "tags": []
   },
   "outputs": [
    {
     "name": "stdout",
     "output_type": "stream",
     "text": [
      "Collecting mnist\r\n"
     ]
    },
    {
     "name": "stdout",
     "output_type": "stream",
     "text": [
      "  Downloading mnist-0.2.2-py2.py3-none-any.whl (3.5 kB)\r\n"
     ]
    },
    {
     "name": "stdout",
     "output_type": "stream",
     "text": [
      "Requirement already satisfied: numpy in /opt/hostedtoolcache/Python/3.6.11/x64/lib/python3.6/site-packages (from mnist) (1.19.1)\r\n"
     ]
    },
    {
     "name": "stdout",
     "output_type": "stream",
     "text": [
      "Installing collected packages: mnist\r\n",
      "Successfully installed mnist-0.2.2\r\n"
     ]
    },
    {
     "name": "stdout",
     "output_type": "stream",
     "text": [
      "\u001b[33mWARNING: You are using pip version 20.2.1; however, version 20.2.2 is available.\r\n",
      "You should consider upgrading via the '/opt/hostedtoolcache/Python/3.6.11/x64/bin/python -m pip install --upgrade pip' command.\u001b[0m\r\n"
     ]
    }
   ],
   "source": [
    "!pip install mnist # Please note, it is commented out for now, you can remove comment if you want to install it"
   ]
  },
  {
   "cell_type": "markdown",
   "metadata": {
    "papermill": {
     "duration": 0.024203,
     "end_time": "2020-08-14T00:26:37.318263",
     "exception": false,
     "start_time": "2020-08-14T00:26:37.294060",
     "status": "completed"
    },
    "tags": []
   },
   "source": [
    "#### Preparing the Data"
   ]
  },
  {
   "cell_type": "code",
   "execution_count": 4,
   "metadata": {
    "execution": {
     "iopub.execute_input": "2020-08-14T00:26:37.373471Z",
     "iopub.status.busy": "2020-08-14T00:26:37.371638Z",
     "iopub.status.idle": "2020-08-14T00:26:37.382861Z",
     "shell.execute_reply": "2020-08-14T00:26:37.382456Z"
    },
    "papermill": {
     "duration": 0.040721,
     "end_time": "2020-08-14T00:26:37.382967",
     "exception": false,
     "start_time": "2020-08-14T00:26:37.342246",
     "status": "completed"
    },
    "tags": []
   },
   "outputs": [],
   "source": [
    "import mnist"
   ]
  },
  {
   "cell_type": "code",
   "execution_count": 5,
   "metadata": {
    "execution": {
     "iopub.execute_input": "2020-08-14T00:26:37.434658Z",
     "iopub.status.busy": "2020-08-14T00:26:37.434053Z",
     "iopub.status.idle": "2020-08-14T00:26:38.179736Z",
     "shell.execute_reply": "2020-08-14T00:26:38.180143Z"
    },
    "papermill": {
     "duration": 0.773555,
     "end_time": "2020-08-14T00:26:38.180287",
     "exception": false,
     "start_time": "2020-08-14T00:26:37.406732",
     "status": "completed"
    },
    "tags": []
   },
   "outputs": [],
   "source": [
    "train_images = mnist.train_images()\n",
    "train_labels = mnist.train_labels()"
   ]
  },
  {
   "cell_type": "code",
   "execution_count": 6,
   "metadata": {
    "execution": {
     "iopub.execute_input": "2020-08-14T00:26:38.234503Z",
     "iopub.status.busy": "2020-08-14T00:26:38.232974Z",
     "iopub.status.idle": "2020-08-14T00:26:38.247361Z",
     "shell.execute_reply": "2020-08-14T00:26:38.247800Z"
    },
    "papermill": {
     "duration": 0.043386,
     "end_time": "2020-08-14T00:26:38.247928",
     "exception": false,
     "start_time": "2020-08-14T00:26:38.204542",
     "status": "completed"
    },
    "tags": []
   },
   "outputs": [
    {
     "data": {
      "text/plain": [
       "((60000, 28, 28), (60000,))"
      ]
     },
     "execution_count": 6,
     "metadata": {},
     "output_type": "execute_result"
    }
   ],
   "source": [
    "train_images.shape, train_labels.shape"
   ]
  },
  {
   "cell_type": "code",
   "execution_count": 7,
   "metadata": {
    "execution": {
     "iopub.execute_input": "2020-08-14T00:26:38.299880Z",
     "iopub.status.busy": "2020-08-14T00:26:38.298860Z",
     "iopub.status.idle": "2020-08-14T00:26:38.561149Z",
     "shell.execute_reply": "2020-08-14T00:26:38.561945Z"
    },
    "papermill": {
     "duration": 0.290755,
     "end_time": "2020-08-14T00:26:38.562101",
     "exception": false,
     "start_time": "2020-08-14T00:26:38.271346",
     "status": "completed"
    },
    "tags": []
   },
   "outputs": [],
   "source": [
    "test_images = mnist.test_images()\n",
    "test_labels = mnist.test_labels()"
   ]
  },
  {
   "cell_type": "code",
   "execution_count": 8,
   "metadata": {
    "execution": {
     "iopub.execute_input": "2020-08-14T00:26:38.619529Z",
     "iopub.status.busy": "2020-08-14T00:26:38.619049Z",
     "iopub.status.idle": "2020-08-14T00:26:38.633578Z",
     "shell.execute_reply": "2020-08-14T00:26:38.633106Z"
    },
    "papermill": {
     "duration": 0.043566,
     "end_time": "2020-08-14T00:26:38.633694",
     "exception": false,
     "start_time": "2020-08-14T00:26:38.590128",
     "status": "completed"
    },
    "tags": []
   },
   "outputs": [
    {
     "data": {
      "text/plain": [
       "((10000, 28, 28), (10000,))"
      ]
     },
     "execution_count": 8,
     "metadata": {},
     "output_type": "execute_result"
    }
   ],
   "source": [
    "test_images.shape, test_labels.shape"
   ]
  },
  {
   "cell_type": "code",
   "execution_count": 9,
   "metadata": {
    "execution": {
     "iopub.execute_input": "2020-08-14T00:26:38.688655Z",
     "iopub.status.busy": "2020-08-14T00:26:38.688011Z",
     "iopub.status.idle": "2020-08-14T00:26:38.836643Z",
     "shell.execute_reply": "2020-08-14T00:26:38.836255Z"
    },
    "papermill": {
     "duration": 0.176085,
     "end_time": "2020-08-14T00:26:38.836745",
     "exception": false,
     "start_time": "2020-08-14T00:26:38.660660",
     "status": "completed"
    },
    "tags": []
   },
   "outputs": [
    {
     "name": "stdout",
     "output_type": "stream",
     "text": [
      "2\n"
     ]
    },
    {
     "data": {
      "text/plain": [
       "<matplotlib.image.AxesImage at 0x7f688bacb358>"
      ]
     },
     "execution_count": 9,
     "metadata": {},
     "output_type": "execute_result"
    },
    {
     "data": {
      "image/png": "[encoded data removed]",
      "text/plain": [
       "<Figure size 432x288 with 1 Axes>"
      ]
     },
     "metadata": {
      "needs_background": "light"
     },
     "output_type": "display_data"
    }
   ],
   "source": [
    "image_index = 7776 # You may select anything up to 60,000\n",
    "print(train_labels[image_index]) \n",
    "plt.imshow(train_images[image_index], cmap='Greys')"
   ]
  },
  {
   "cell_type": "markdown",
   "metadata": {
    "papermill": {
     "duration": 0.028294,
     "end_time": "2020-08-14T00:26:38.892136",
     "exception": false,
     "start_time": "2020-08-14T00:26:38.863842",
     "status": "completed"
    },
    "tags": []
   },
   "source": [
    "## Filter data to get 3 and 8 out"
   ]
  },
  {
   "cell_type": "code",
   "execution_count": 10,
   "metadata": {
    "execution": {
     "iopub.execute_input": "2020-08-14T00:26:38.953272Z",
     "iopub.status.busy": "2020-08-14T00:26:38.952670Z",
     "iopub.status.idle": "2020-08-14T00:26:38.971264Z",
     "shell.execute_reply": "2020-08-14T00:26:38.971645Z"
    },
    "papermill": {
     "duration": 0.04985,
     "end_time": "2020-08-14T00:26:38.971767",
     "exception": false,
     "start_time": "2020-08-14T00:26:38.921917",
     "status": "completed"
    },
    "tags": []
   },
   "outputs": [],
   "source": [
    "train_filter = np.where((train_labels == 3 ) | (train_labels == 8))\n",
    "test_filter = np.where((test_labels == 3) | (test_labels == 8))\n",
    "X_train, y_train = train_images[train_filter], train_labels[train_filter]\n",
    "X_test, y_test = test_images[test_filter], test_labels[test_filter]"
   ]
  },
  {
   "cell_type": "markdown",
   "metadata": {
    "papermill": {
     "duration": 0.025857,
     "end_time": "2020-08-14T00:26:39.027989",
     "exception": false,
     "start_time": "2020-08-14T00:26:39.002132",
     "status": "completed"
    },
    "tags": []
   },
   "source": [
    "##### We normalize the pizel values in the 0 to 1 range"
   ]
  },
  {
   "cell_type": "code",
   "execution_count": 11,
   "metadata": {
    "execution": {
     "iopub.execute_input": "2020-08-14T00:26:39.087723Z",
     "iopub.status.busy": "2020-08-14T00:26:39.087251Z",
     "iopub.status.idle": "2020-08-14T00:26:39.136231Z",
     "shell.execute_reply": "2020-08-14T00:26:39.136954Z"
    },
    "papermill": {
     "duration": 0.082182,
     "end_time": "2020-08-14T00:26:39.137115",
     "exception": false,
     "start_time": "2020-08-14T00:26:39.054933",
     "status": "completed"
    },
    "tags": []
   },
   "outputs": [],
   "source": [
    "X_train = X_train/255.\n",
    "X_test = X_test/255."
   ]
  },
  {
   "cell_type": "markdown",
   "metadata": {
    "papermill": {
     "duration": 0.025977,
     "end_time": "2020-08-14T00:26:39.190980",
     "exception": false,
     "start_time": "2020-08-14T00:26:39.165003",
     "status": "completed"
    },
    "tags": []
   },
   "source": [
    "And setup the labels as 1 (when the digit is 3) and 0 (when the digit is 8)"
   ]
  },
  {
   "cell_type": "code",
   "execution_count": 12,
   "metadata": {
    "execution": {
     "iopub.execute_input": "2020-08-14T00:26:39.246176Z",
     "iopub.status.busy": "2020-08-14T00:26:39.245654Z",
     "iopub.status.idle": "2020-08-14T00:26:39.257181Z",
     "shell.execute_reply": "2020-08-14T00:26:39.257693Z"
    },
    "papermill": {
     "duration": 0.040732,
     "end_time": "2020-08-14T00:26:39.257845",
     "exception": false,
     "start_time": "2020-08-14T00:26:39.217113",
     "status": "completed"
    },
    "tags": []
   },
   "outputs": [],
   "source": [
    "y_train = 1*(y_train==3)\n",
    "y_test = 1*(y_test==3)"
   ]
  },
  {
   "cell_type": "code",
   "execution_count": 13,
   "metadata": {
    "execution": {
     "iopub.execute_input": "2020-08-14T00:26:39.314245Z",
     "iopub.status.busy": "2020-08-14T00:26:39.313711Z",
     "iopub.status.idle": "2020-08-14T00:26:39.328213Z",
     "shell.execute_reply": "2020-08-14T00:26:39.327687Z"
    },
    "papermill": {
     "duration": 0.043722,
     "end_time": "2020-08-14T00:26:39.328322",
     "exception": false,
     "start_time": "2020-08-14T00:26:39.284600",
     "status": "completed"
    },
    "tags": []
   },
   "outputs": [
    {
     "data": {
      "text/plain": [
       "((11982, 28, 28), (1984, 28, 28))"
      ]
     },
     "execution_count": 13,
     "metadata": {},
     "output_type": "execute_result"
    }
   ],
   "source": [
    "X_train.shape, X_test.shape"
   ]
  },
  {
   "cell_type": "markdown",
   "metadata": {
    "papermill": {
     "duration": 0.025475,
     "end_time": "2020-08-14T00:26:39.378222",
     "exception": false,
     "start_time": "2020-08-14T00:26:39.352747",
     "status": "completed"
    },
    "tags": []
   },
   "source": [
    "##### We reshape the data to flatten the image pixels into a set of features or co-variates:"
   ]
  },
  {
   "cell_type": "code",
   "execution_count": 14,
   "metadata": {
    "execution": {
     "iopub.execute_input": "2020-08-14T00:26:39.432111Z",
     "iopub.status.busy": "2020-08-14T00:26:39.431638Z",
     "iopub.status.idle": "2020-08-14T00:26:39.442497Z",
     "shell.execute_reply": "2020-08-14T00:26:39.442045Z"
    },
    "papermill": {
     "duration": 0.039541,
     "end_time": "2020-08-14T00:26:39.442581",
     "exception": false,
     "start_time": "2020-08-14T00:26:39.403040",
     "status": "completed"
    },
    "tags": []
   },
   "outputs": [
    {
     "data": {
      "text/plain": [
       "((11982, 784), (1984, 784))"
      ]
     },
     "execution_count": 14,
     "metadata": {},
     "output_type": "execute_result"
    }
   ],
   "source": [
    "X_train = X_train.reshape(X_train.shape[0], -1)\n",
    "X_test = X_test.reshape(X_test.shape[0], -1)\n",
    "X_train.shape, X_test.shape"
   ]
  },
  {
   "cell_type": "markdown",
   "metadata": {
    "papermill": {
     "duration": 0.024587,
     "end_time": "2020-08-14T00:26:39.491796",
     "exception": false,
     "start_time": "2020-08-14T00:26:39.467209",
     "status": "completed"
    },
    "tags": []
   },
   "source": [
    "##### Importing Kudzu library and its functionality"
   ]
  },
  {
   "cell_type": "code",
   "execution_count": 15,
   "metadata": {
    "execution": {
     "iopub.execute_input": "2020-08-14T00:26:39.548223Z",
     "iopub.status.busy": "2020-08-14T00:26:39.547694Z",
     "iopub.status.idle": "2020-08-14T00:26:39.567157Z",
     "shell.execute_reply": "2020-08-14T00:26:39.566552Z"
    },
    "papermill": {
     "duration": 0.050709,
     "end_time": "2020-08-14T00:26:39.567298",
     "exception": false,
     "start_time": "2020-08-14T00:26:39.516589",
     "status": "completed"
    },
    "tags": []
   },
   "outputs": [],
   "source": [
    "from kudzu.data import Data, Dataloader, Sampler\n",
    "from kudzu.callbacks import AccCallback\n",
    "from kudzu.loss import MSE\n",
    "from kudzu.layer import Affine, Sigmoid\n",
    "from kudzu.model import Model\n",
    "from kudzu.optim import GD\n",
    "from kudzu.train import Learner\n",
    "from kudzu.callbacks import ClfCallback\n",
    "from kudzu.layer import Sigmoid\n",
    "from kudzu.layer import Relu"
   ]
  },
  {
   "cell_type": "markdown",
   "metadata": {
    "papermill": {
     "duration": 0.026969,
     "end_time": "2020-08-14T00:26:39.623343",
     "exception": false,
     "start_time": "2020-08-14T00:26:39.596374",
     "status": "completed"
    },
    "tags": []
   },
   "source": [
    "##### We are creating a class, just so that we can use it to store our parameters for us"
   ]
  },
  {
   "cell_type": "code",
   "execution_count": 16,
   "metadata": {
    "execution": {
     "iopub.execute_input": "2020-08-14T00:26:39.679600Z",
     "iopub.status.busy": "2020-08-14T00:26:39.679026Z",
     "iopub.status.idle": "2020-08-14T00:26:39.692677Z",
     "shell.execute_reply": "2020-08-14T00:26:39.692156Z"
    },
    "papermill": {
     "duration": 0.043402,
     "end_time": "2020-08-14T00:26:39.692822",
     "exception": false,
     "start_time": "2020-08-14T00:26:39.649420",
     "status": "completed"
    },
    "tags": []
   },
   "outputs": [],
   "source": [
    "class Config:\n",
    "    pass\n",
    "config = Config()\n",
    "config.lr = 0.001\n",
    "config.num_epochs = 250\n",
    "config.bs = 50"
   ]
  },
  {
   "cell_type": "markdown",
   "metadata": {
    "papermill": {
     "duration": 0.025243,
     "end_time": "2020-08-14T00:26:39.743024",
     "exception": false,
     "start_time": "2020-08-14T00:26:39.717781",
     "status": "completed"
    },
    "tags": []
   },
   "source": [
    "##### Initializing Data"
   ]
  },
  {
   "cell_type": "code",
   "execution_count": 17,
   "metadata": {
    "execution": {
     "iopub.execute_input": "2020-08-14T00:26:39.797521Z",
     "iopub.status.busy": "2020-08-14T00:26:39.797008Z",
     "iopub.status.idle": "2020-08-14T00:26:39.807742Z",
     "shell.execute_reply": "2020-08-14T00:26:39.807334Z"
    },
    "papermill": {
     "duration": 0.040687,
     "end_time": "2020-08-14T00:26:39.807838",
     "exception": false,
     "start_time": "2020-08-14T00:26:39.767151",
     "status": "completed"
    },
    "tags": []
   },
   "outputs": [],
   "source": [
    "data = Data(X_train, y_train.reshape(-1,1))\n",
    "loss = MSE()\n",
    "opt = GD(config.lr)\n",
    "sampler = Sampler(data, config.bs, shuffle=True)\n",
    "dl = Dataloader(data, sampler)"
   ]
  },
  {
   "cell_type": "markdown",
   "metadata": {
    "papermill": {
     "duration": 0.02461,
     "end_time": "2020-08-14T00:26:39.856221",
     "exception": false,
     "start_time": "2020-08-14T00:26:39.831611",
     "status": "completed"
    },
    "tags": []
   },
   "source": [
    "##### Constructing 2 different layers, one for NN and one only for logistic regression."
   ]
  },
  {
   "cell_type": "markdown",
   "metadata": {
    "papermill": {
     "duration": 0.024707,
     "end_time": "2020-08-14T00:26:39.906928",
     "exception": false,
     "start_time": "2020-08-14T00:26:39.882221",
     "status": "completed"
    },
    "tags": []
   },
   "source": [
    "##### Creating containers for data to be passed, to calculate accuracies"
   ]
  },
  {
   "cell_type": "code",
   "execution_count": 18,
   "metadata": {
    "execution": {
     "iopub.execute_input": "2020-08-14T00:26:39.959436Z",
     "iopub.status.busy": "2020-08-14T00:26:39.958747Z",
     "iopub.status.idle": "2020-08-14T00:26:39.973547Z",
     "shell.execute_reply": "2020-08-14T00:26:39.974074Z"
    },
    "papermill": {
     "duration": 0.042276,
     "end_time": "2020-08-14T00:26:39.974210",
     "exception": false,
     "start_time": "2020-08-14T00:26:39.931934",
     "status": "completed"
    },
    "tags": []
   },
   "outputs": [],
   "source": [
    "training_xdata = X_train\n",
    "testing_xdata = X_test\n",
    "training_ydata = y_train.reshape(-1,1)\n",
    "testing_ydata = y_test.reshape(-1,1)"
   ]
  },
  {
   "cell_type": "markdown",
   "metadata": {
    "papermill": {
     "duration": 0.025811,
     "end_time": "2020-08-14T00:26:40.023967",
     "exception": false,
     "start_time": "2020-08-14T00:26:39.998156",
     "status": "completed"
    },
    "tags": []
   },
   "source": [
    "##### Initializing models and Running training loop: "
   ]
  },
  {
   "cell_type": "code",
   "execution_count": 19,
   "metadata": {
    "execution": {
     "iopub.execute_input": "2020-08-14T00:26:40.081720Z",
     "iopub.status.busy": "2020-08-14T00:26:40.081216Z",
     "iopub.status.idle": "2020-08-14T00:26:40.097219Z",
     "shell.execute_reply": "2020-08-14T00:26:40.097636Z"
    },
    "papermill": {
     "duration": 0.049603,
     "end_time": "2020-08-14T00:26:40.097761",
     "exception": false,
     "start_time": "2020-08-14T00:26:40.048158",
     "status": "completed"
    },
    "tags": []
   },
   "outputs": [],
   "source": [
    "layers = [Affine(\"first\", 784, 100), Relu(\"first\"), Affine(\"second\", 100, 100), Relu(\"second\"), Affine(\"third\", 100, 2), Affine(\"final\", 2, 1), Sigmoid(\"final\")]\n",
    "\n",
    "model_neural = Model(layers)\n",
    "model_logistic = Model([Affine(\"logits\", 784, 1), Sigmoid(\"sigmoid\")])"
   ]
  },
  {
   "cell_type": "code",
   "execution_count": 20,
   "metadata": {
    "execution": {
     "iopub.execute_input": "2020-08-14T00:26:40.154585Z",
     "iopub.status.busy": "2020-08-14T00:26:40.154081Z",
     "iopub.status.idle": "2020-08-14T00:26:40.166477Z",
     "shell.execute_reply": "2020-08-14T00:26:40.166065Z"
    },
    "papermill": {
     "duration": 0.040506,
     "end_time": "2020-08-14T00:26:40.166572",
     "exception": false,
     "start_time": "2020-08-14T00:26:40.126066",
     "status": "completed"
    },
    "tags": []
   },
   "outputs": [],
   "source": [
    "learner1 = Learner(loss, model_neural, opt, config.num_epochs)\n",
    "acc1 = ClfCallback(learner1, config.bs, training_xdata , testing_xdata, training_ydata, testing_ydata)\n",
    "learner1.set_callbacks([acc1])"
   ]
  },
  {
   "cell_type": "code",
   "execution_count": 21,
   "metadata": {
    "execution": {
     "iopub.execute_input": "2020-08-14T00:26:40.219526Z",
     "iopub.status.busy": "2020-08-14T00:26:40.218977Z",
     "iopub.status.idle": "2020-08-14T00:27:56.687980Z",
     "shell.execute_reply": "2020-08-14T00:27:56.688723Z"
    },
    "papermill": {
     "duration": 76.498358,
     "end_time": "2020-08-14T00:27:56.688877",
     "exception": false,
     "start_time": "2020-08-14T00:26:40.190519",
     "status": "completed"
    },
    "tags": []
   },
   "outputs": [
    {
     "name": "stdout",
     "output_type": "stream",
     "text": [
      "Epoch 0 Loss 0.23389326406334848\n",
      "train accuracy is: 0.6955433149724587, test accuracy is 0.6869959677419355\n"
     ]
    },
    {
     "name": "stdout",
     "output_type": "stream",
     "text": [
      "Epoch 10 Loss 0.1027984161459574\n",
      "train accuracy is: 0.9101986312802537, test accuracy is 0.9243951612903226\n"
     ]
    },
    {
     "name": "stdout",
     "output_type": "stream",
     "text": [
      "Epoch 20 Loss 0.061845151659013234\n",
      "train accuracy is: 0.9344016024036054, test accuracy is 0.9490927419354839\n"
     ]
    },
    {
     "name": "stdout",
     "output_type": "stream",
     "text": [
      "Epoch 30 Loss 0.04772087015034495\n",
      "train accuracy is: 0.9463361709230512, test accuracy is 0.9581653225806451\n"
     ]
    },
    {
     "name": "stdout",
     "output_type": "stream",
     "text": [
      "Epoch 40 Loss 0.040695245381272574\n",
      "train accuracy is: 0.9526790185277917, test accuracy is 0.9662298387096774\n"
     ]
    },
    {
     "name": "stdout",
     "output_type": "stream",
     "text": [
      "Epoch 50 Loss 0.03644493045709573\n",
      "train accuracy is: 0.9567684860624269, test accuracy is 0.9672379032258065\n"
     ]
    },
    {
     "name": "stdout",
     "output_type": "stream",
     "text": [
      "Epoch 60 Loss 0.03354382713794414\n",
      "train accuracy is: 0.9602737439492572, test accuracy is 0.9672379032258065\n"
     ]
    },
    {
     "name": "stdout",
     "output_type": "stream",
     "text": [
      "Epoch 70 Loss 0.03139849552160542\n",
      "train accuracy is: 0.9632782507093974, test accuracy is 0.9707661290322581\n"
     ]
    },
    {
     "name": "stdout",
     "output_type": "stream",
     "text": [
      "Epoch 80 Loss 0.029752619176080602\n",
      "train accuracy is: 0.9649474211316975, test accuracy is 0.9722782258064516\n"
     ]
    },
    {
     "name": "stdout",
     "output_type": "stream",
     "text": [
      "Epoch 90 Loss 0.028415658376744507\n",
      "train accuracy is: 0.9675346352862627, test accuracy is 0.9712701612903226\n"
     ]
    },
    {
     "name": "stdout",
     "output_type": "stream",
     "text": [
      "Epoch 100 Loss 0.02729983695701112\n",
      "train accuracy is: 0.9687865131029878, test accuracy is 0.9707661290322581\n"
     ]
    },
    {
     "name": "stdout",
     "output_type": "stream",
     "text": [
      "Epoch 110 Loss 0.026344950108211206\n",
      "train accuracy is: 0.9697880153563679, test accuracy is 0.9707661290322581\n"
     ]
    },
    {
     "name": "stdout",
     "output_type": "stream",
     "text": [
      "Epoch 120 Loss 0.02550772418673567\n",
      "train accuracy is: 0.9701218494408279, test accuracy is 0.9707661290322581\n"
     ]
    },
    {
     "name": "stdout",
     "output_type": "stream",
     "text": [
      "Epoch 130 Loss 0.024764733662123322\n",
      "train accuracy is: 0.970956434651978, test accuracy is 0.9712701612903226\n"
     ]
    },
    {
     "name": "stdout",
     "output_type": "stream",
     "text": [
      "Epoch 140 Loss 0.02409889829007811\n",
      "train accuracy is: 0.971707561342013, test accuracy is 0.9707661290322581\n"
     ]
    },
    {
     "name": "stdout",
     "output_type": "stream",
     "text": [
      "Epoch 150 Loss 0.02348233684193503\n",
      "train accuracy is: 0.9722083124687031, test accuracy is 0.9707661290322581\n"
     ]
    },
    {
     "name": "stdout",
     "output_type": "stream",
     "text": [
      "Epoch 160 Loss 0.022915207745141466\n",
      "train accuracy is: 0.9728759806376232, test accuracy is 0.9707661290322581\n"
     ]
    },
    {
     "name": "stdout",
     "output_type": "stream",
     "text": [
      "Epoch 170 Loss 0.02239542559019982\n",
      "train accuracy is: 0.9736271073276581, test accuracy is 0.9707661290322581\n"
     ]
    },
    {
     "name": "stdout",
     "output_type": "stream",
     "text": [
      "Epoch 180 Loss 0.021913924092262664\n",
      "train accuracy is: 0.9742113169754631, test accuracy is 0.9712701612903226\n"
     ]
    },
    {
     "name": "stdout",
     "output_type": "stream",
     "text": [
      "Epoch 190 Loss 0.021457660704462183\n",
      "train accuracy is: 0.9748789851443832, test accuracy is 0.9717741935483871\n"
     ]
    },
    {
     "name": "stdout",
     "output_type": "stream",
     "text": [
      "Epoch 200 Loss 0.021025510238070533\n",
      "train accuracy is: 0.9754631947921882, test accuracy is 0.9717741935483871\n"
     ]
    },
    {
     "name": "stdout",
     "output_type": "stream",
     "text": [
      "Epoch 210 Loss 0.020609702447153218\n",
      "train accuracy is: 0.9760474044399933, test accuracy is 0.9732862903225806\n"
     ]
    },
    {
     "name": "stdout",
     "output_type": "stream",
     "text": [
      "Epoch 220 Loss 0.020209414632642787\n",
      "train accuracy is: 0.9768819896511434, test accuracy is 0.9737903225806451\n"
     ]
    },
    {
     "name": "stdout",
     "output_type": "stream",
     "text": [
      "Epoch 230 Loss 0.019815812556431216\n",
      "train accuracy is: 0.9774661992989484, test accuracy is 0.9742943548387096\n"
     ]
    },
    {
     "name": "stdout",
     "output_type": "stream",
     "text": [
      "Epoch 240 Loss 0.01943973141638265\n",
      "train accuracy is: 0.9781338674678685, test accuracy is 0.9747983870967742\n"
     ]
    },
    {
     "data": {
      "text/plain": [
       "0.04679713603454727"
      ]
     },
     "execution_count": 21,
     "metadata": {},
     "output_type": "execute_result"
    }
   ],
   "source": [
    "learner1.train_loop(dl)"
   ]
  },
  {
   "cell_type": "markdown",
   "metadata": {
    "papermill": {
     "duration": 0.035064,
     "end_time": "2020-08-14T00:27:56.760580",
     "exception": false,
     "start_time": "2020-08-14T00:27:56.725516",
     "status": "completed"
    },
    "tags": []
   },
   "source": [
    "##### Now running only the logistic regression based classification to compare results with NN"
   ]
  },
  {
   "cell_type": "code",
   "execution_count": 22,
   "metadata": {
    "execution": {
     "iopub.execute_input": "2020-08-14T00:27:56.831920Z",
     "iopub.status.busy": "2020-08-14T00:27:56.830822Z",
     "iopub.status.idle": "2020-08-14T00:27:56.842943Z",
     "shell.execute_reply": "2020-08-14T00:27:56.842399Z"
    },
    "papermill": {
     "duration": 0.049293,
     "end_time": "2020-08-14T00:27:56.843055",
     "exception": false,
     "start_time": "2020-08-14T00:27:56.793762",
     "status": "completed"
    },
    "tags": []
   },
   "outputs": [],
   "source": [
    "learner2 = Learner(loss, model_logistic, opt, config.num_epochs)\n",
    "acc2 = ClfCallback(learner2, config.bs, training_xdata , testing_xdata, training_ydata, testing_ydata)\n",
    "learner2.set_callbacks([acc2])"
   ]
  },
  {
   "cell_type": "code",
   "execution_count": 23,
   "metadata": {
    "execution": {
     "iopub.execute_input": "2020-08-14T00:27:56.913381Z",
     "iopub.status.busy": "2020-08-14T00:27:56.912911Z",
     "iopub.status.idle": "2020-08-14T00:28:10.685501Z",
     "shell.execute_reply": "2020-08-14T00:28:10.685975Z"
    },
    "papermill": {
     "duration": 13.808988,
     "end_time": "2020-08-14T00:28:10.686128",
     "exception": false,
     "start_time": "2020-08-14T00:27:56.877140",
     "status": "completed"
    },
    "tags": []
   },
   "outputs": [
    {
     "name": "stdout",
     "output_type": "stream",
     "text": [
      "Epoch 0 Loss 0.23682388315056996\n",
      "train accuracy is: 0.7090635953930896, test accuracy is 0.6995967741935484\n"
     ]
    },
    {
     "name": "stdout",
     "output_type": "stream",
     "text": [
      "Epoch 10 Loss 0.10094613629013376\n",
      "train accuracy is: 0.9180437322650643, test accuracy is 0.9223790322580645\n"
     ]
    },
    {
     "name": "stdout",
     "output_type": "stream",
     "text": [
      "Epoch 20 Loss 0.07708774228129756\n",
      "train accuracy is: 0.9340677683191454, test accuracy is 0.9420362903225806\n"
     ]
    },
    {
     "name": "stdout",
     "output_type": "stream",
     "text": [
      "Epoch 30 Loss 0.06633218066994175\n",
      "train accuracy is: 0.9415790352194959, test accuracy is 0.9511088709677419\n"
     ]
    },
    {
     "name": "stdout",
     "output_type": "stream",
     "text": [
      "Epoch 40 Loss 0.05996268744092717\n",
      "train accuracy is: 0.9448339175429812, test accuracy is 0.9556451612903226\n"
     ]
    },
    {
     "name": "stdout",
     "output_type": "stream",
     "text": [
      "Epoch 50 Loss 0.05566343113403273\n",
      "train accuracy is: 0.9476715072608913, test accuracy is 0.9576612903225806\n"
     ]
    },
    {
     "name": "stdout",
     "output_type": "stream",
     "text": [
      "Epoch 60 Loss 0.052525634586884265\n",
      "train accuracy is: 0.9498414288098815, test accuracy is 0.9586693548387096\n"
     ]
    },
    {
     "name": "stdout",
     "output_type": "stream",
     "text": [
      "Epoch 70 Loss 0.05010739477085665\n",
      "train accuracy is: 0.9519278918377566, test accuracy is 0.9611895161290323\n"
     ]
    },
    {
     "name": "stdout",
     "output_type": "stream",
     "text": [
      "Epoch 80 Loss 0.04817302209045213\n",
      "train accuracy is: 0.9530963111333667, test accuracy is 0.9621975806451613\n"
     ]
    },
    {
     "name": "stdout",
     "output_type": "stream",
     "text": [
      "Epoch 90 Loss 0.04658090441543095\n",
      "train accuracy is: 0.9542647304289767, test accuracy is 0.9642137096774194\n"
     ]
    },
    {
     "name": "stdout",
     "output_type": "stream",
     "text": [
      "Epoch 100 Loss 0.04523842214787829\n",
      "train accuracy is: 0.9545985645134368, test accuracy is 0.9652217741935484\n"
     ]
    },
    {
     "name": "stdout",
     "output_type": "stream",
     "text": [
      "Epoch 110 Loss 0.0440893467914633\n",
      "train accuracy is: 0.9557669838090469, test accuracy is 0.9662298387096774\n"
     ]
    },
    {
     "name": "stdout",
     "output_type": "stream",
     "text": [
      "Epoch 120 Loss 0.04308849664953922\n",
      "train accuracy is: 0.956100817893507, test accuracy is 0.9667338709677419\n"
     ]
    },
    {
     "name": "stdout",
     "output_type": "stream",
     "text": [
      "Epoch 130 Loss 0.04220768829869677\n",
      "train accuracy is: 0.956935403104657, test accuracy is 0.9667338709677419\n"
     ]
    },
    {
     "name": "stdout",
     "output_type": "stream",
     "text": [
      "Epoch 140 Loss 0.04142339623165107\n",
      "train accuracy is: 0.957603071273577, test accuracy is 0.9667338709677419\n"
     ]
    },
    {
     "name": "stdout",
     "output_type": "stream",
     "text": [
      "Epoch 150 Loss 0.040719082361294755\n",
      "train accuracy is: 0.958103822400267, test accuracy is 0.9667338709677419\n"
     ]
    },
    {
     "name": "stdout",
     "output_type": "stream",
     "text": [
      "Epoch 160 Loss 0.0400822622735753\n",
      "train accuracy is: 0.958604573526957, test accuracy is 0.9667338709677419\n"
     ]
    },
    {
     "name": "stdout",
     "output_type": "stream",
     "text": [
      "Epoch 170 Loss 0.03950223224480918\n",
      "train accuracy is: 0.9592722416958771, test accuracy is 0.967741935483871\n"
     ]
    },
    {
     "name": "stdout",
     "output_type": "stream",
     "text": [
      "Epoch 180 Loss 0.038970250854567456\n",
      "train accuracy is: 0.9596060757803372, test accuracy is 0.967741935483871\n"
     ]
    },
    {
     "name": "stdout",
     "output_type": "stream",
     "text": [
      "Epoch 190 Loss 0.03848095591902412\n",
      "train accuracy is: 0.9597729928225672, test accuracy is 0.9672379032258065\n"
     ]
    },
    {
     "name": "stdout",
     "output_type": "stream",
     "text": [
      "Epoch 200 Loss 0.03802819817328326\n",
      "train accuracy is: 0.9601068269070272, test accuracy is 0.9672379032258065\n"
     ]
    },
    {
     "name": "stdout",
     "output_type": "stream",
     "text": [
      "Epoch 210 Loss 0.037607764414201564\n",
      "train accuracy is: 0.9603572024703723, test accuracy is 0.9672379032258065\n"
     ]
    },
    {
     "name": "stdout",
     "output_type": "stream",
     "text": [
      "Epoch 220 Loss 0.03721543076037809\n",
      "train accuracy is: 0.9604406609914873, test accuracy is 0.9667338709677419\n"
     ]
    },
    {
     "name": "stdout",
     "output_type": "stream",
     "text": [
      "Epoch 230 Loss 0.03684891081016672\n",
      "train accuracy is: 0.9609414121181773, test accuracy is 0.9667338709677419\n"
     ]
    },
    {
     "name": "stdout",
     "output_type": "stream",
     "text": [
      "Epoch 240 Loss 0.03650508801630713\n",
      "train accuracy is: 0.9611917876815222, test accuracy is 0.9672379032258065\n"
     ]
    },
    {
     "data": {
      "text/plain": [
       "0.020040076826629182"
      ]
     },
     "execution_count": 23,
     "metadata": {},
     "output_type": "execute_result"
    }
   ],
   "source": [
    "learner2.train_loop(dl)"
   ]
  },
  {
   "cell_type": "markdown",
   "metadata": {
    "papermill": {
     "duration": 0.040842,
     "end_time": "2020-08-14T00:28:10.766960",
     "exception": false,
     "start_time": "2020-08-14T00:28:10.726118",
     "status": "completed"
    },
    "tags": []
   },
   "source": [
    "### Comparing results of NN and LR"
   ]
  },
  {
   "cell_type": "code",
   "execution_count": 24,
   "metadata": {
    "execution": {
     "iopub.execute_input": "2020-08-14T00:28:10.859975Z",
     "iopub.status.busy": "2020-08-14T00:28:10.858947Z",
     "iopub.status.idle": "2020-08-14T00:28:11.049107Z",
     "shell.execute_reply": "2020-08-14T00:28:11.048655Z"
    },
    "papermill": {
     "duration": 0.240055,
     "end_time": "2020-08-14T00:28:11.049235",
     "exception": false,
     "start_time": "2020-08-14T00:28:10.809180",
     "status": "completed"
    },
    "tags": []
   },
   "outputs": [
    {
     "data": {
      "text/plain": [
       "<matplotlib.legend.Legend at 0x7f688b6a6f98>"
      ]
     },
     "execution_count": 24,
     "metadata": {},
     "output_type": "execute_result"
    },
    {
     "data": {
      "image/png": "[encoded data removed]",
      "text/plain": [
       "<Figure size 576x360 with 1 Axes>"
      ]
     },
     "metadata": {
      "needs_background": "light"
     },
     "output_type": "display_data"
    }
   ],
   "source": [
    "plt.figure(figsize=(8,5))\n",
    "plt.plot(acc1.val_accuracies, 'g-', label = \"Val Accuracies - NN\")\n",
    "plt.plot(acc1.accuracies, 'r-', label = \"Accuracies - NN\")\n",
    "plt.plot(acc2.val_accuracies, 'b-', label = \"Val Accuracies - Logistic Reg\")\n",
    "plt.plot(acc2.accuracies, 'k-', label = \"Accuracies - Logistic Reg\")\n",
    "plt.ylim(0.8,1) ## for a more spread out view\n",
    "plt.legend()"
   ]
  },
  {
   "cell_type": "markdown",
   "metadata": {
    "papermill": {
     "duration": 0.03746,
     "end_time": "2020-08-14T00:28:11.129171",
     "exception": false,
     "start_time": "2020-08-14T00:28:11.091711",
     "status": "completed"
    },
    "tags": []
   },
   "source": [
    "### Clearly NN has a better accuracy over LR; NN is overfitting - Validation accuracy (green) has dropped below training accuracy (orange), also they are diverging. This problem is not seen in LR"
   ]
  },
  {
   "cell_type": "markdown",
   "metadata": {
    "papermill": {
     "duration": 0.037985,
     "end_time": "2020-08-14T00:28:11.204611",
     "exception": false,
     "start_time": "2020-08-14T00:28:11.166626",
     "status": "completed"
    },
    "tags": []
   },
   "source": [
    "##### Now we will be moving through the network, till the output of the second last affine where we get a 2 dimensional output. We will be plotting this 2d output and probability contours"
   ]
  },
  {
   "cell_type": "code",
   "execution_count": 25,
   "metadata": {
    "execution": {
     "iopub.execute_input": "2020-08-14T00:28:11.283441Z",
     "iopub.status.busy": "2020-08-14T00:28:11.283024Z",
     "iopub.status.idle": "2020-08-14T00:28:11.295264Z",
     "shell.execute_reply": "2020-08-14T00:28:11.294479Z"
    },
    "papermill": {
     "duration": 0.052179,
     "end_time": "2020-08-14T00:28:11.295372",
     "exception": false,
     "start_time": "2020-08-14T00:28:11.243193",
     "status": "completed"
    },
    "tags": []
   },
   "outputs": [],
   "source": [
    "model_new = Model(layers[:-2])"
   ]
  },
  {
   "cell_type": "code",
   "execution_count": 26,
   "metadata": {
    "execution": {
     "iopub.execute_input": "2020-08-14T00:28:11.378834Z",
     "iopub.status.busy": "2020-08-14T00:28:11.378361Z",
     "iopub.status.idle": "2020-08-14T00:28:11.395086Z",
     "shell.execute_reply": "2020-08-14T00:28:11.395491Z"
    },
    "papermill": {
     "duration": 0.063538,
     "end_time": "2020-08-14T00:28:11.395612",
     "exception": false,
     "start_time": "2020-08-14T00:28:11.332074",
     "status": "completed"
    },
    "tags": []
   },
   "outputs": [],
   "source": [
    "plot_testing = model_new(testing_xdata)"
   ]
  },
  {
   "cell_type": "markdown",
   "metadata": {
    "papermill": {
     "duration": 0.042955,
     "end_time": "2020-08-14T00:28:11.477059",
     "exception": false,
     "start_time": "2020-08-14T00:28:11.434104",
     "status": "completed"
    },
    "tags": []
   },
   "source": [
    "##### Plotting the scatter plot of points and color coding by class"
   ]
  },
  {
   "cell_type": "code",
   "execution_count": 27,
   "metadata": {
    "execution": {
     "iopub.execute_input": "2020-08-14T00:28:11.584068Z",
     "iopub.status.busy": "2020-08-14T00:28:11.583593Z",
     "iopub.status.idle": "2020-08-14T00:28:11.770350Z",
     "shell.execute_reply": "2020-08-14T00:28:11.770720Z"
    },
    "papermill": {
     "duration": 0.253636,
     "end_time": "2020-08-14T00:28:11.770850",
     "exception": false,
     "start_time": "2020-08-14T00:28:11.517214",
     "status": "completed"
    },
    "tags": []
   },
   "outputs": [
    {
     "data": {
      "image/png": "[encoded data removed]",
      "text/plain": [
       "<Figure size 576x504 with 1 Axes>"
      ]
     },
     "metadata": {
      "needs_background": "light"
     },
     "output_type": "display_data"
    }
   ],
   "source": [
    "plt.figure(figsize=(8,7))\n",
    "plt.scatter(plot_testing[:,0], plot_testing[:,1], alpha = 0.1, c = y_test.ravel());"
   ]
  },
  {
   "cell_type": "markdown",
   "metadata": {
    "papermill": {
     "duration": 0.041306,
     "end_time": "2020-08-14T00:28:11.854209",
     "exception": false,
     "start_time": "2020-08-14T00:28:11.812903",
     "status": "completed"
    },
    "tags": []
   },
   "source": [
    "##### Plotting probability contours"
   ]
  },
  {
   "cell_type": "code",
   "execution_count": 28,
   "metadata": {
    "execution": {
     "iopub.execute_input": "2020-08-14T00:28:11.936949Z",
     "iopub.status.busy": "2020-08-14T00:28:11.936465Z",
     "iopub.status.idle": "2020-08-14T00:28:11.947623Z",
     "shell.execute_reply": "2020-08-14T00:28:11.948091Z"
    },
    "papermill": {
     "duration": 0.055087,
     "end_time": "2020-08-14T00:28:11.948237",
     "exception": false,
     "start_time": "2020-08-14T00:28:11.893150",
     "status": "completed"
    },
    "tags": []
   },
   "outputs": [],
   "source": [
    "model_prob = Model(layers[-2:]) ## picking only last two layers to get probability. That is affine followed by sigmoid"
   ]
  },
  {
   "cell_type": "code",
   "execution_count": 29,
   "metadata": {
    "execution": {
     "iopub.execute_input": "2020-08-14T00:28:12.051519Z",
     "iopub.status.busy": "2020-08-14T00:28:12.050468Z",
     "iopub.status.idle": "2020-08-14T00:28:12.063250Z",
     "shell.execute_reply": "2020-08-14T00:28:12.063618Z"
    },
    "papermill": {
     "duration": 0.06007,
     "end_time": "2020-08-14T00:28:12.063737",
     "exception": false,
     "start_time": "2020-08-14T00:28:12.003667",
     "status": "completed"
    },
    "tags": []
   },
   "outputs": [],
   "source": [
    "xgrid = np.linspace(-4, 1, 100) ## Adjust these values based on above chart, roughly -4 to 1\n",
    "ygrid = np.linspace(-7.5, 7.5, 100) ## Adjust these values based on above chart, roughly -7.5, 7.5\n",
    "xg, yg = np.meshgrid(xgrid, ygrid)\n",
    "# xg and yg are now both 100X100, lets convert them to single arrays \n",
    "\n",
    "xg_interim = np.ravel(xg)\n",
    "yg_interim = np.ravel(yg)\n",
    "\n",
    "## xg_interim, yg_interim are now arrays of len 10000, now we will stack them and then transpose to get desired shape of n rows, 2 columns\n",
    "\n",
    "X_interim = np.vstack((xg_interim, yg_interim)) ## Please note vstack takes in a tuple\n",
    "X = X_interim.T\n",
    "\n",
    "## We want a shape of n rows and 2 columns to be able to feed this to last affine\n",
    "## This last affine takes only two columns, hence the above transformation\n",
    "probability_contour = model_prob(X).reshape(100,100) ## to make it consistent with xg, yg"
   ]
  },
  {
   "cell_type": "code",
   "execution_count": 30,
   "metadata": {
    "execution": {
     "iopub.execute_input": "2020-08-14T00:28:12.151273Z",
     "iopub.status.busy": "2020-08-14T00:28:12.150678Z",
     "iopub.status.idle": "2020-08-14T00:28:12.379860Z",
     "shell.execute_reply": "2020-08-14T00:28:12.380325Z"
    },
    "papermill": {
     "duration": 0.273847,
     "end_time": "2020-08-14T00:28:12.380487",
     "exception": false,
     "start_time": "2020-08-14T00:28:12.106640",
     "status": "completed"
    },
    "tags": []
   },
   "outputs": [
    {
     "data": {
      "image/png": "[encoded data removed]",
      "text/plain": [
       "<Figure size 576x504 with 1 Axes>"
      ]
     },
     "metadata": {
      "needs_background": "light"
     },
     "output_type": "display_data"
    }
   ],
   "source": [
    "plt.figure(figsize=(8,7))\n",
    "plt.scatter(plot_testing[:,0], plot_testing[:,1], alpha = 0.1, c = y_test.ravel())\n",
    "contours = plt.contour(xg,yg,probability_contour)\n",
    "plt.clabel(contours, inline = True );"
   ]
  }
 ],
 "metadata": {
  "kernelspec": {
   "display_name": "Python 3",
   "language": "python",
   "name": "python3"
  },
  "language_info": {
   "codemirror_mode": {
    "name": "ipython",
    "version": 3
   },
   "file_extension": ".py",
   "mimetype": "text/x-python",
   "name": "python",
   "nbconvert_exporter": "python",
   "pygments_lexer": "ipython3",
   "version": "3.6.11"
  },
  "papermill": {
   "duration": 100.296054,
   "end_time": "2020-08-14T00:28:13.715652",
   "environment_variables": {},
   "exception": null,
   "input_path": "2020-08-07-NN-new.ipynb",
   "output_path": "2020-08-07-NN-new.ipynb",
   "parameters": {},
   "start_time": "2020-08-14T00:26:33.419598",
   "version": "2.1.2"
  }
 },
 "nbformat": 4,
 "nbformat_minor": 4
}