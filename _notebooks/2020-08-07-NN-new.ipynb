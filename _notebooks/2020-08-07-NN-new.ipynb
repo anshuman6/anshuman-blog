{
 "cells": [
  {
   "cell_type": "markdown",
   "metadata": {
    "papermill": {
     "duration": 0.031123,
     "end_time": "2020-08-12T10:12:12.454703",
     "exception": false,
     "start_time": "2020-08-12T10:12:12.423580",
     "status": "completed"
    },
    "tags": []
   },
   "source": [
    "# \"Building a basic Neural Network from scratch - Kudzu\"\n",
    "\n",
    "- badges: true\n",
    "- author: Anshuman Gupta"
   ]
  },
  {
   "cell_type": "markdown",
   "metadata": {
    "papermill": {
     "duration": 0.024329,
     "end_time": "2020-08-12T10:12:12.504713",
     "exception": false,
     "start_time": "2020-08-12T10:12:12.480384",
     "status": "completed"
    },
    "tags": []
   },
   "source": [
    "#### In this project, the idea is to write a classifier to differentiate between handwritten digits 3 and 8, from the MNIST database.\n",
    "\n",
    "#### I will using a custom built neural network library called Kudzu.This has been developed as a part of KTF/Foundations course of Univ.ai (www.univ.ai). The source code for Kudzu Library and and this notebook can be found on my git-hub profile : www.https://github.com/anshuman6 under the folder project-solution. Any feedback and comments are welcome. Please feel free to email me at: anshuman6@gmail.com\n",
    "\n",
    "#### 1. I will be using the MNIST database. \n",
    "\n",
    "#### 2. I will be comparing the results of the 4 layer NN to a standard logistic regression"
   ]
  },
  {
   "cell_type": "markdown",
   "metadata": {
    "papermill": {
     "duration": 0.024014,
     "end_time": "2020-08-12T10:12:12.552694",
     "exception": false,
     "start_time": "2020-08-12T10:12:12.528680",
     "status": "completed"
    },
    "tags": []
   },
   "source": [
    "##### Importing all the necessary libraries"
   ]
  },
  {
   "cell_type": "code",
   "execution_count": 1,
   "metadata": {
    "execution": {
     "iopub.execute_input": "2020-08-12T10:12:12.608565Z",
     "iopub.status.busy": "2020-08-12T10:12:12.607966Z",
     "iopub.status.idle": "2020-08-12T10:12:12.617854Z",
     "shell.execute_reply": "2020-08-12T10:12:12.617441Z"
    },
    "papermill": {
     "duration": 0.040246,
     "end_time": "2020-08-12T10:12:12.617987",
     "exception": false,
     "start_time": "2020-08-12T10:12:12.577741",
     "status": "completed"
    },
    "tags": []
   },
   "outputs": [],
   "source": [
    "%load_ext autoreload\n",
    "%autoreload 2"
   ]
  },
  {
   "cell_type": "code",
   "execution_count": 2,
   "metadata": {
    "execution": {
     "iopub.execute_input": "2020-08-12T10:12:12.674806Z",
     "iopub.status.busy": "2020-08-12T10:12:12.674237Z",
     "iopub.status.idle": "2020-08-12T10:12:13.205968Z",
     "shell.execute_reply": "2020-08-12T10:12:13.204580Z"
    },
    "papermill": {
     "duration": 0.561918,
     "end_time": "2020-08-12T10:12:13.206194",
     "exception": false,
     "start_time": "2020-08-12T10:12:12.644276",
     "status": "completed"
    },
    "tags": []
   },
   "outputs": [],
   "source": [
    "%matplotlib inline\n",
    "import numpy as np\n",
    "import matplotlib.pyplot as plt\n",
    "import pandas as pd"
   ]
  },
  {
   "cell_type": "markdown",
   "metadata": {
    "papermill": {
     "duration": 0.026726,
     "end_time": "2020-08-12T10:12:13.259624",
     "exception": false,
     "start_time": "2020-08-12T10:12:13.232898",
     "status": "completed"
    },
    "tags": []
   },
   "source": [
    "##### The following command helps us download MNIST from notebook itself. You can skip this if you already have MNIST. You can also download it via your terminal."
   ]
  },
  {
   "cell_type": "code",
   "execution_count": 3,
   "metadata": {
    "execution": {
     "iopub.execute_input": "2020-08-12T10:12:13.321658Z",
     "iopub.status.busy": "2020-08-12T10:12:13.321117Z",
     "iopub.status.idle": "2020-08-12T10:12:14.684209Z",
     "shell.execute_reply": "2020-08-12T10:12:14.684814Z"
    },
    "papermill": {
     "duration": 1.396648,
     "end_time": "2020-08-12T10:12:14.684980",
     "exception": false,
     "start_time": "2020-08-12T10:12:13.288332",
     "status": "completed"
    },
    "tags": []
   },
   "outputs": [
    {
     "name": "stdout",
     "output_type": "stream",
     "text": [
      "Collecting mnist\r\n"
     ]
    },
    {
     "name": "stdout",
     "output_type": "stream",
     "text": [
      "  Downloading mnist-0.2.2-py2.py3-none-any.whl (3.5 kB)\r\n"
     ]
    },
    {
     "name": "stdout",
     "output_type": "stream",
     "text": [
      "Requirement already satisfied: numpy in /opt/hostedtoolcache/Python/3.6.11/x64/lib/python3.6/site-packages (from mnist) (1.19.1)\r\n"
     ]
    },
    {
     "name": "stdout",
     "output_type": "stream",
     "text": [
      "Installing collected packages: mnist\r\n"
     ]
    },
    {
     "name": "stdout",
     "output_type": "stream",
     "text": [
      "Successfully installed mnist-0.2.2\r\n",
      "\u001b[33mWARNING: You are using pip version 20.2.1; however, version 20.2.2 is available.\r\n",
      "You should consider upgrading via the '/opt/hostedtoolcache/Python/3.6.11/x64/bin/python -m pip install --upgrade pip' command.\u001b[0m\r\n"
     ]
    }
   ],
   "source": [
    "!pip install mnist # Please note, it is commented out for now, you can remove comment if you want to install it"
   ]
  },
  {
   "cell_type": "markdown",
   "metadata": {
    "papermill": {
     "duration": 0.028146,
     "end_time": "2020-08-12T10:12:14.739889",
     "exception": false,
     "start_time": "2020-08-12T10:12:14.711743",
     "status": "completed"
    },
    "tags": []
   },
   "source": [
    "#### Preparing the Data"
   ]
  },
  {
   "cell_type": "code",
   "execution_count": 4,
   "metadata": {
    "execution": {
     "iopub.execute_input": "2020-08-12T10:12:14.800530Z",
     "iopub.status.busy": "2020-08-12T10:12:14.800037Z",
     "iopub.status.idle": "2020-08-12T10:12:14.817586Z",
     "shell.execute_reply": "2020-08-12T10:12:14.817143Z"
    },
    "papermill": {
     "duration": 0.049293,
     "end_time": "2020-08-12T10:12:14.817705",
     "exception": false,
     "start_time": "2020-08-12T10:12:14.768412",
     "status": "completed"
    },
    "tags": []
   },
   "outputs": [],
   "source": [
    "import mnist"
   ]
  },
  {
   "cell_type": "code",
   "execution_count": 5,
   "metadata": {
    "execution": {
     "iopub.execute_input": "2020-08-12T10:12:14.880246Z",
     "iopub.status.busy": "2020-08-12T10:12:14.879693Z",
     "iopub.status.idle": "2020-08-12T10:12:16.499878Z",
     "shell.execute_reply": "2020-08-12T10:12:16.499388Z"
    },
    "papermill": {
     "duration": 1.654987,
     "end_time": "2020-08-12T10:12:16.500012",
     "exception": false,
     "start_time": "2020-08-12T10:12:14.845025",
     "status": "completed"
    },
    "tags": []
   },
   "outputs": [],
   "source": [
    "train_images = mnist.train_images()\n",
    "train_labels = mnist.train_labels()"
   ]
  },
  {
   "cell_type": "code",
   "execution_count": 6,
   "metadata": {
    "execution": {
     "iopub.execute_input": "2020-08-12T10:12:16.552383Z",
     "iopub.status.busy": "2020-08-12T10:12:16.551854Z",
     "iopub.status.idle": "2020-08-12T10:12:16.568828Z",
     "shell.execute_reply": "2020-08-12T10:12:16.568365Z"
    },
    "papermill": {
     "duration": 0.045455,
     "end_time": "2020-08-12T10:12:16.568942",
     "exception": false,
     "start_time": "2020-08-12T10:12:16.523487",
     "status": "completed"
    },
    "tags": []
   },
   "outputs": [
    {
     "data": {
      "text/plain": [
       "((60000, 28, 28), (60000,))"
      ]
     },
     "execution_count": 6,
     "metadata": {},
     "output_type": "execute_result"
    }
   ],
   "source": [
    "train_images.shape, train_labels.shape"
   ]
  },
  {
   "cell_type": "code",
   "execution_count": 7,
   "metadata": {
    "execution": {
     "iopub.execute_input": "2020-08-12T10:12:16.624416Z",
     "iopub.status.busy": "2020-08-12T10:12:16.623887Z",
     "iopub.status.idle": "2020-08-12T10:12:17.520033Z",
     "shell.execute_reply": "2020-08-12T10:12:17.518598Z"
    },
    "papermill": {
     "duration": 0.927631,
     "end_time": "2020-08-12T10:12:17.520262",
     "exception": false,
     "start_time": "2020-08-12T10:12:16.592631",
     "status": "completed"
    },
    "tags": []
   },
   "outputs": [],
   "source": [
    "test_images = mnist.test_images()\n",
    "test_labels = mnist.test_labels()"
   ]
  },
  {
   "cell_type": "code",
   "execution_count": 8,
   "metadata": {
    "execution": {
     "iopub.execute_input": "2020-08-12T10:12:17.577916Z",
     "iopub.status.busy": "2020-08-12T10:12:17.577440Z",
     "iopub.status.idle": "2020-08-12T10:12:17.590631Z",
     "shell.execute_reply": "2020-08-12T10:12:17.590125Z"
    },
    "papermill": {
     "duration": 0.043808,
     "end_time": "2020-08-12T10:12:17.590760",
     "exception": false,
     "start_time": "2020-08-12T10:12:17.546952",
     "status": "completed"
    },
    "tags": []
   },
   "outputs": [
    {
     "data": {
      "text/plain": [
       "((10000, 28, 28), (10000,))"
      ]
     },
     "execution_count": 8,
     "metadata": {},
     "output_type": "execute_result"
    }
   ],
   "source": [
    "test_images.shape, test_labels.shape"
   ]
  },
  {
   "cell_type": "code",
   "execution_count": 9,
   "metadata": {
    "execution": {
     "iopub.execute_input": "2020-08-12T10:12:17.643846Z",
     "iopub.status.busy": "2020-08-12T10:12:17.643419Z",
     "iopub.status.idle": "2020-08-12T10:12:17.794800Z",
     "shell.execute_reply": "2020-08-12T10:12:17.793921Z"
    },
    "papermill": {
     "duration": 0.180729,
     "end_time": "2020-08-12T10:12:17.794907",
     "exception": false,
     "start_time": "2020-08-12T10:12:17.614178",
     "status": "completed"
    },
    "tags": []
   },
   "outputs": [
    {
     "name": "stdout",
     "output_type": "stream",
     "text": [
      "2\n"
     ]
    },
    {
     "data": {
      "text/plain": [
       "<matplotlib.image.AxesImage at 0x7fc9ac80e320>"
      ]
     },
     "execution_count": 9,
     "metadata": {},
     "output_type": "execute_result"
    },
    {
     "data": {
      "image/png": "[encoded data removed]",
      "text/plain": [
       "<Figure size 432x288 with 1 Axes>"
      ]
     },
     "metadata": {
      "needs_background": "light"
     },
     "output_type": "display_data"
    }
   ],
   "source": [
    "image_index = 7776 # You may select anything up to 60,000\n",
    "print(train_labels[image_index]) \n",
    "plt.imshow(train_images[image_index], cmap='Greys')"
   ]
  },
  {
   "cell_type": "markdown",
   "metadata": {
    "papermill": {
     "duration": 0.026735,
     "end_time": "2020-08-12T10:12:17.849555",
     "exception": false,
     "start_time": "2020-08-12T10:12:17.822820",
     "status": "completed"
    },
    "tags": []
   },
   "source": [
    "## Filter data to get 3 and 8 out"
   ]
  },
  {
   "cell_type": "code",
   "execution_count": 10,
   "metadata": {
    "execution": {
     "iopub.execute_input": "2020-08-12T10:12:17.908444Z",
     "iopub.status.busy": "2020-08-12T10:12:17.908009Z",
     "iopub.status.idle": "2020-08-12T10:12:17.927280Z",
     "shell.execute_reply": "2020-08-12T10:12:17.926462Z"
    },
    "papermill": {
     "duration": 0.05086,
     "end_time": "2020-08-12T10:12:17.927432",
     "exception": false,
     "start_time": "2020-08-12T10:12:17.876572",
     "status": "completed"
    },
    "tags": []
   },
   "outputs": [],
   "source": [
    "train_filter = np.where((train_labels == 3 ) | (train_labels == 8))\n",
    "test_filter = np.where((test_labels == 3) | (test_labels == 8))\n",
    "X_train, y_train = train_images[train_filter], train_labels[train_filter]\n",
    "X_test, y_test = test_images[test_filter], test_labels[test_filter]"
   ]
  },
  {
   "cell_type": "markdown",
   "metadata": {
    "papermill": {
     "duration": 0.026116,
     "end_time": "2020-08-12T10:12:17.981932",
     "exception": false,
     "start_time": "2020-08-12T10:12:17.955816",
     "status": "completed"
    },
    "tags": []
   },
   "source": [
    "##### We normalize the pizel values in the 0 to 1 range"
   ]
  },
  {
   "cell_type": "code",
   "execution_count": 11,
   "metadata": {
    "execution": {
     "iopub.execute_input": "2020-08-12T10:12:18.047933Z",
     "iopub.status.busy": "2020-08-12T10:12:18.047303Z",
     "iopub.status.idle": "2020-08-12T10:12:18.100147Z",
     "shell.execute_reply": "2020-08-12T10:12:18.099620Z"
    },
    "papermill": {
     "duration": 0.090558,
     "end_time": "2020-08-12T10:12:18.100291",
     "exception": false,
     "start_time": "2020-08-12T10:12:18.009733",
     "status": "completed"
    },
    "tags": []
   },
   "outputs": [],
   "source": [
    "X_train = X_train/255.\n",
    "X_test = X_test/255."
   ]
  },
  {
   "cell_type": "markdown",
   "metadata": {
    "papermill": {
     "duration": 0.027575,
     "end_time": "2020-08-12T10:12:18.155494",
     "exception": false,
     "start_time": "2020-08-12T10:12:18.127919",
     "status": "completed"
    },
    "tags": []
   },
   "source": [
    "And setup the labels as 1 (when the digit is 3) and 0 (when the digit is 8)"
   ]
  },
  {
   "cell_type": "code",
   "execution_count": 12,
   "metadata": {
    "execution": {
     "iopub.execute_input": "2020-08-12T10:12:18.211389Z",
     "iopub.status.busy": "2020-08-12T10:12:18.210889Z",
     "iopub.status.idle": "2020-08-12T10:12:18.222262Z",
     "shell.execute_reply": "2020-08-12T10:12:18.222682Z"
    },
    "papermill": {
     "duration": 0.041231,
     "end_time": "2020-08-12T10:12:18.222808",
     "exception": false,
     "start_time": "2020-08-12T10:12:18.181577",
     "status": "completed"
    },
    "tags": []
   },
   "outputs": [],
   "source": [
    "y_train = 1*(y_train==3)\n",
    "y_test = 1*(y_test==3)"
   ]
  },
  {
   "cell_type": "code",
   "execution_count": 13,
   "metadata": {
    "execution": {
     "iopub.execute_input": "2020-08-12T10:12:18.282721Z",
     "iopub.status.busy": "2020-08-12T10:12:18.282160Z",
     "iopub.status.idle": "2020-08-12T10:12:18.294168Z",
     "shell.execute_reply": "2020-08-12T10:12:18.293786Z"
    },
    "papermill": {
     "duration": 0.0441,
     "end_time": "2020-08-12T10:12:18.294278",
     "exception": false,
     "start_time": "2020-08-12T10:12:18.250178",
     "status": "completed"
    },
    "tags": []
   },
   "outputs": [
    {
     "data": {
      "text/plain": [
       "((11982, 28, 28), (1984, 28, 28))"
      ]
     },
     "execution_count": 13,
     "metadata": {},
     "output_type": "execute_result"
    }
   ],
   "source": [
    "X_train.shape, X_test.shape"
   ]
  },
  {
   "cell_type": "markdown",
   "metadata": {
    "papermill": {
     "duration": 0.026576,
     "end_time": "2020-08-12T10:12:18.347642",
     "exception": false,
     "start_time": "2020-08-12T10:12:18.321066",
     "status": "completed"
    },
    "tags": []
   },
   "source": [
    "##### We reshape the data to flatten the image pixels into a set of features or co-variates:"
   ]
  },
  {
   "cell_type": "code",
   "execution_count": 14,
   "metadata": {
    "execution": {
     "iopub.execute_input": "2020-08-12T10:12:18.404134Z",
     "iopub.status.busy": "2020-08-12T10:12:18.403646Z",
     "iopub.status.idle": "2020-08-12T10:12:18.414705Z",
     "shell.execute_reply": "2020-08-12T10:12:18.415170Z"
    },
    "papermill": {
     "duration": 0.040616,
     "end_time": "2020-08-12T10:12:18.415299",
     "exception": false,
     "start_time": "2020-08-12T10:12:18.374683",
     "status": "completed"
    },
    "tags": []
   },
   "outputs": [
    {
     "data": {
      "text/plain": [
       "((11982, 784), (1984, 784))"
      ]
     },
     "execution_count": 14,
     "metadata": {},
     "output_type": "execute_result"
    }
   ],
   "source": [
    "X_train = X_train.reshape(X_train.shape[0], -1)\n",
    "X_test = X_test.reshape(X_test.shape[0], -1)\n",
    "X_train.shape, X_test.shape"
   ]
  },
  {
   "cell_type": "markdown",
   "metadata": {
    "papermill": {
     "duration": 0.028207,
     "end_time": "2020-08-12T10:12:18.471350",
     "exception": false,
     "start_time": "2020-08-12T10:12:18.443143",
     "status": "completed"
    },
    "tags": []
   },
   "source": [
    "##### Importing Kudzu library and its functionality"
   ]
  },
  {
   "cell_type": "code",
   "execution_count": 15,
   "metadata": {
    "execution": {
     "iopub.execute_input": "2020-08-12T10:12:18.538233Z",
     "iopub.status.busy": "2020-08-12T10:12:18.537632Z",
     "iopub.status.idle": "2020-08-12T10:12:18.556292Z",
     "shell.execute_reply": "2020-08-12T10:12:18.556738Z"
    },
    "papermill": {
     "duration": 0.05478,
     "end_time": "2020-08-12T10:12:18.556888",
     "exception": false,
     "start_time": "2020-08-12T10:12:18.502108",
     "status": "completed"
    },
    "tags": []
   },
   "outputs": [],
   "source": [
    "from kudzu.data import Data, Dataloader, Sampler\n",
    "from kudzu.callbacks import AccCallback\n",
    "from kudzu.loss import MSE\n",
    "from kudzu.layer import Affine, Sigmoid\n",
    "from kudzu.model import Model\n",
    "from kudzu.optim import GD\n",
    "from kudzu.train import Learner\n",
    "from kudzu.callbacks import ClfCallback\n",
    "from kudzu.layer import Sigmoid\n",
    "from kudzu.layer import Relu"
   ]
  },
  {
   "cell_type": "markdown",
   "metadata": {
    "papermill": {
     "duration": 0.027665,
     "end_time": "2020-08-12T10:12:18.614124",
     "exception": false,
     "start_time": "2020-08-12T10:12:18.586459",
     "status": "completed"
    },
    "tags": []
   },
   "source": [
    "##### We are creating a class, just so that we can use it to store our parameters for us"
   ]
  },
  {
   "cell_type": "code",
   "execution_count": 16,
   "metadata": {
    "execution": {
     "iopub.execute_input": "2020-08-12T10:12:18.678088Z",
     "iopub.status.busy": "2020-08-12T10:12:18.677540Z",
     "iopub.status.idle": "2020-08-12T10:12:18.688877Z",
     "shell.execute_reply": "2020-08-12T10:12:18.689291Z"
    },
    "papermill": {
     "duration": 0.046206,
     "end_time": "2020-08-12T10:12:18.689418",
     "exception": false,
     "start_time": "2020-08-12T10:12:18.643212",
     "status": "completed"
    },
    "tags": []
   },
   "outputs": [],
   "source": [
    "class Config:\n",
    "    pass\n",
    "config = Config()\n",
    "config.lr = 0.001\n",
    "config.num_epochs = 250\n",
    "config.bs = 50"
   ]
  },
  {
   "cell_type": "markdown",
   "metadata": {
    "papermill": {
     "duration": 0.029058,
     "end_time": "2020-08-12T10:12:18.746241",
     "exception": false,
     "start_time": "2020-08-12T10:12:18.717183",
     "status": "completed"
    },
    "tags": []
   },
   "source": [
    "##### Initializing Data"
   ]
  },
  {
   "cell_type": "code",
   "execution_count": 17,
   "metadata": {
    "execution": {
     "iopub.execute_input": "2020-08-12T10:12:18.818226Z",
     "iopub.status.busy": "2020-08-12T10:12:18.817613Z",
     "iopub.status.idle": "2020-08-12T10:12:18.828462Z",
     "shell.execute_reply": "2020-08-12T10:12:18.827980Z"
    },
    "papermill": {
     "duration": 0.051593,
     "end_time": "2020-08-12T10:12:18.828602",
     "exception": false,
     "start_time": "2020-08-12T10:12:18.777009",
     "status": "completed"
    },
    "tags": []
   },
   "outputs": [],
   "source": [
    "data = Data(X_train, y_train.reshape(-1,1))\n",
    "loss = MSE()\n",
    "opt = GD(config.lr)\n",
    "sampler = Sampler(data, config.bs, shuffle=True)\n",
    "dl = Dataloader(data, sampler)"
   ]
  },
  {
   "cell_type": "markdown",
   "metadata": {
    "papermill": {
     "duration": 0.029965,
     "end_time": "2020-08-12T10:12:18.888140",
     "exception": false,
     "start_time": "2020-08-12T10:12:18.858175",
     "status": "completed"
    },
    "tags": []
   },
   "source": [
    "##### Constructing 2 different layers, one for NN and one only for logistic regression."
   ]
  },
  {
   "cell_type": "markdown",
   "metadata": {
    "papermill": {
     "duration": 0.030239,
     "end_time": "2020-08-12T10:12:18.949459",
     "exception": false,
     "start_time": "2020-08-12T10:12:18.919220",
     "status": "completed"
    },
    "tags": []
   },
   "source": [
    "##### Creating containers for data to be passed, to calculate accuracies"
   ]
  },
  {
   "cell_type": "code",
   "execution_count": 18,
   "metadata": {
    "execution": {
     "iopub.execute_input": "2020-08-12T10:12:19.013244Z",
     "iopub.status.busy": "2020-08-12T10:12:19.012648Z",
     "iopub.status.idle": "2020-08-12T10:12:19.027088Z",
     "shell.execute_reply": "2020-08-12T10:12:19.026051Z"
    },
    "papermill": {
     "duration": 0.048478,
     "end_time": "2020-08-12T10:12:19.027219",
     "exception": false,
     "start_time": "2020-08-12T10:12:18.978741",
     "status": "completed"
    },
    "tags": []
   },
   "outputs": [],
   "source": [
    "training_xdata = X_train\n",
    "testing_xdata = X_test\n",
    "training_ydata = y_train.reshape(-1,1)\n",
    "testing_ydata = y_test.reshape(-1,1)"
   ]
  },
  {
   "cell_type": "markdown",
   "metadata": {
    "papermill": {
     "duration": 0.030542,
     "end_time": "2020-08-12T10:12:19.088767",
     "exception": false,
     "start_time": "2020-08-12T10:12:19.058225",
     "status": "completed"
    },
    "tags": []
   },
   "source": [
    "##### Initializing models and Running training loop: "
   ]
  },
  {
   "cell_type": "code",
   "execution_count": 19,
   "metadata": {
    "execution": {
     "iopub.execute_input": "2020-08-12T10:12:19.151668Z",
     "iopub.status.busy": "2020-08-12T10:12:19.151057Z",
     "iopub.status.idle": "2020-08-12T10:12:19.172416Z",
     "shell.execute_reply": "2020-08-12T10:12:19.171936Z"
    },
    "papermill": {
     "duration": 0.054646,
     "end_time": "2020-08-12T10:12:19.172553",
     "exception": false,
     "start_time": "2020-08-12T10:12:19.117907",
     "status": "completed"
    },
    "tags": []
   },
   "outputs": [],
   "source": [
    "layers = [Affine(\"first\", 784, 100), Relu(\"first\"), Affine(\"second\", 100, 100), Relu(\"second\"), Affine(\"third\", 100, 2), Affine(\"final\", 2, 1), Sigmoid(\"final\")]\n",
    "\n",
    "model_neural = Model(layers)\n",
    "model_logistic = Model([Affine(\"logits\", 784, 1), Sigmoid(\"sigmoid\")])"
   ]
  },
  {
   "cell_type": "code",
   "execution_count": 20,
   "metadata": {
    "execution": {
     "iopub.execute_input": "2020-08-12T10:12:19.237299Z",
     "iopub.status.busy": "2020-08-12T10:12:19.236757Z",
     "iopub.status.idle": "2020-08-12T10:12:19.251093Z",
     "shell.execute_reply": "2020-08-12T10:12:19.251560Z"
    },
    "papermill": {
     "duration": 0.048157,
     "end_time": "2020-08-12T10:12:19.251705",
     "exception": false,
     "start_time": "2020-08-12T10:12:19.203548",
     "status": "completed"
    },
    "tags": []
   },
   "outputs": [],
   "source": [
    "learner1 = Learner(loss, model_neural, opt, config.num_epochs)\n",
    "acc1 = ClfCallback(learner1, config.bs, training_xdata , testing_xdata, training_ydata, testing_ydata)\n",
    "learner1.set_callbacks([acc1])"
   ]
  },
  {
   "cell_type": "code",
   "execution_count": 21,
   "metadata": {
    "execution": {
     "iopub.execute_input": "2020-08-12T10:12:19.307772Z",
     "iopub.status.busy": "2020-08-12T10:12:19.307157Z",
     "iopub.status.idle": "2020-08-12T10:13:34.626358Z",
     "shell.execute_reply": "2020-08-12T10:13:34.626911Z"
    },
    "papermill": {
     "duration": 75.348003,
     "end_time": "2020-08-12T10:13:34.627078",
     "exception": false,
     "start_time": "2020-08-12T10:12:19.279075",
     "status": "completed"
    },
    "tags": []
   },
   "outputs": [
    {
     "name": "stdout",
     "output_type": "stream",
     "text": [
      "Epoch 0 Loss 0.24831675183318416\n",
      "train accuracy is: 0.5593390085127692, test accuracy is 0.5584677419354839\n"
     ]
    },
    {
     "name": "stdout",
     "output_type": "stream",
     "text": [
      "Epoch 10 Loss 0.18144827484470544\n",
      "train accuracy is: 0.8765648472709063, test accuracy is 0.8850806451612904\n"
     ]
    },
    {
     "name": "stdout",
     "output_type": "stream",
     "text": [
      "Epoch 20 Loss 0.09084475223388258\n",
      "train accuracy is: 0.9096978801535637, test accuracy is 0.9153225806451613\n"
     ]
    },
    {
     "name": "stdout",
     "output_type": "stream",
     "text": [
      "Epoch 30 Loss 0.06006609397873812\n",
      "train accuracy is: 0.9359873143047905, test accuracy is 0.9415322580645161\n"
     ]
    },
    {
     "name": "stdout",
     "output_type": "stream",
     "text": [
      "Epoch 40 Loss 0.047428618067487806\n",
      "train accuracy is: 0.9483391754298114, test accuracy is 0.9536290322580645\n"
     ]
    },
    {
     "name": "stdout",
     "output_type": "stream",
     "text": [
      "Epoch 50 Loss 0.04093598492085981\n",
      "train accuracy is: 0.9531797696544817, test accuracy is 0.9581653225806451\n"
     ]
    },
    {
     "name": "stdout",
     "output_type": "stream",
     "text": [
      "Epoch 60 Loss 0.03700321699260275\n",
      "train accuracy is: 0.9562677349357369, test accuracy is 0.9606854838709677\n"
     ]
    },
    {
     "name": "stdout",
     "output_type": "stream",
     "text": [
      "Epoch 70 Loss 0.03430327112686595\n",
      "train accuracy is: 0.9589384076114171, test accuracy is 0.9632056451612904\n"
     ]
    },
    {
     "name": "stdout",
     "output_type": "stream",
     "text": [
      "Epoch 80 Loss 0.03229547511954546\n",
      "train accuracy is: 0.9615256217659823, test accuracy is 0.9632056451612904\n"
     ]
    },
    {
     "name": "stdout",
     "output_type": "stream",
     "text": [
      "Epoch 90 Loss 0.030696492171437745\n",
      "train accuracy is: 0.9633617092305125, test accuracy is 0.9647177419354839\n"
     ]
    },
    {
     "name": "stdout",
     "output_type": "stream",
     "text": [
      "Epoch 100 Loss 0.029410998422465338\n",
      "train accuracy is: 0.9647805040894676, test accuracy is 0.9652217741935484\n"
     ]
    },
    {
     "name": "stdout",
     "output_type": "stream",
     "text": [
      "Epoch 110 Loss 0.02831484192433442\n",
      "train accuracy is: 0.9665331330328827, test accuracy is 0.9662298387096774\n"
     ]
    },
    {
     "name": "stdout",
     "output_type": "stream",
     "text": [
      "Epoch 120 Loss 0.02735598865204847\n",
      "train accuracy is: 0.9676180938073777, test accuracy is 0.9682459677419355\n"
     ]
    },
    {
     "name": "stdout",
     "output_type": "stream",
     "text": [
      "Epoch 130 Loss 0.026513344143031414\n",
      "train accuracy is: 0.9691203471874479, test accuracy is 0.9682459677419355\n"
     ]
    },
    {
     "name": "stdout",
     "output_type": "stream",
     "text": [
      "Epoch 140 Loss 0.025759842771106357\n",
      "train accuracy is: 0.9701218494408279, test accuracy is 0.96875\n"
     ]
    },
    {
     "name": "stdout",
     "output_type": "stream",
     "text": [
      "Epoch 150 Loss 0.025082956337555185\n",
      "train accuracy is: 0.971039893173093, test accuracy is 0.969758064516129\n"
     ]
    },
    {
     "name": "stdout",
     "output_type": "stream",
     "text": [
      "Epoch 160 Loss 0.024452580717993628\n",
      "train accuracy is: 0.971540644299783, test accuracy is 0.9707661290322581\n"
     ]
    },
    {
     "name": "stdout",
     "output_type": "stream",
     "text": [
      "Epoch 170 Loss 0.023872438297463005\n",
      "train accuracy is: 0.971707561342013, test accuracy is 0.9707661290322581\n"
     ]
    },
    {
     "name": "stdout",
     "output_type": "stream",
     "text": [
      "Epoch 180 Loss 0.023337208774735184\n",
      "train accuracy is: 0.972291770989818, test accuracy is 0.9712701612903226\n"
     ]
    },
    {
     "name": "stdout",
     "output_type": "stream",
     "text": [
      "Epoch 190 Loss 0.02283261938040866\n",
      "train accuracy is: 0.9731263562009681, test accuracy is 0.9712701612903226\n"
     ]
    },
    {
     "name": "stdout",
     "output_type": "stream",
     "text": [
      "Epoch 200 Loss 0.02235872513228548\n",
      "train accuracy is: 0.9737940243698882, test accuracy is 0.9707661290322581\n"
     ]
    },
    {
     "name": "stdout",
     "output_type": "stream",
     "text": [
      "Epoch 210 Loss 0.021901263458592658\n",
      "train accuracy is: 0.9742113169754631, test accuracy is 0.9712701612903226\n"
     ]
    },
    {
     "name": "stdout",
     "output_type": "stream",
     "text": [
      "Epoch 220 Loss 0.02147431574760907\n",
      "train accuracy is: 0.9753797362710733, test accuracy is 0.9712701612903226\n"
     ]
    },
    {
     "name": "stdout",
     "output_type": "stream",
     "text": [
      "Epoch 230 Loss 0.02105566856494283\n",
      "train accuracy is: 0.9759639459188784, test accuracy is 0.9712701612903226\n"
     ]
    },
    {
     "name": "stdout",
     "output_type": "stream",
     "text": [
      "Epoch 240 Loss 0.02064983170324835\n",
      "train accuracy is: 0.9763812385244534, test accuracy is 0.9717741935483871\n"
     ]
    },
    {
     "data": {
      "text/plain": [
       "0.001901762935343059"
      ]
     },
     "execution_count": 21,
     "metadata": {},
     "output_type": "execute_result"
    }
   ],
   "source": [
    "learner1.train_loop(dl)"
   ]
  },
  {
   "cell_type": "markdown",
   "metadata": {
    "papermill": {
     "duration": 0.029416,
     "end_time": "2020-08-12T10:13:34.688743",
     "exception": false,
     "start_time": "2020-08-12T10:13:34.659327",
     "status": "completed"
    },
    "tags": []
   },
   "source": [
    "##### Now running only the logistic regression based classification to compare results with NN"
   ]
  },
  {
   "cell_type": "code",
   "execution_count": 22,
   "metadata": {
    "execution": {
     "iopub.execute_input": "2020-08-12T10:13:34.756491Z",
     "iopub.status.busy": "2020-08-12T10:13:34.755948Z",
     "iopub.status.idle": "2020-08-12T10:13:34.762575Z",
     "shell.execute_reply": "2020-08-12T10:13:34.762164Z"
    },
    "papermill": {
     "duration": 0.043668,
     "end_time": "2020-08-12T10:13:34.762674",
     "exception": false,
     "start_time": "2020-08-12T10:13:34.719006",
     "status": "completed"
    },
    "tags": []
   },
   "outputs": [],
   "source": [
    "learner2 = Learner(loss, model_logistic, opt, config.num_epochs)\n",
    "acc2 = ClfCallback(learner2, config.bs, training_xdata , testing_xdata, training_ydata, testing_ydata)\n",
    "learner2.set_callbacks([acc2])"
   ]
  },
  {
   "cell_type": "code",
   "execution_count": 23,
   "metadata": {
    "execution": {
     "iopub.execute_input": "2020-08-12T10:13:34.826520Z",
     "iopub.status.busy": "2020-08-12T10:13:34.825992Z",
     "iopub.status.idle": "2020-08-12T10:13:48.926764Z",
     "shell.execute_reply": "2020-08-12T10:13:48.927492Z"
    },
    "papermill": {
     "duration": 14.13331,
     "end_time": "2020-08-12T10:13:48.927647",
     "exception": false,
     "start_time": "2020-08-12T10:13:34.794337",
     "status": "completed"
    },
    "tags": []
   },
   "outputs": [
    {
     "name": "stdout",
     "output_type": "stream",
     "text": [
      "Epoch 0 Loss 0.24532568726553802\n",
      "train accuracy is: 0.6786846937072275, test accuracy is 0.6985887096774194\n"
     ]
    },
    {
     "name": "stdout",
     "output_type": "stream",
     "text": [
      "Epoch 10 Loss 0.1023678985016026\n",
      "train accuracy is: 0.9174595226172593, test accuracy is 0.9254032258064516\n"
     ]
    },
    {
     "name": "stdout",
     "output_type": "stream",
     "text": [
      "Epoch 20 Loss 0.07825634725775625\n",
      "train accuracy is: 0.9332331831079953, test accuracy is 0.9445564516129032\n"
     ]
    },
    {
     "name": "stdout",
     "output_type": "stream",
     "text": [
      "Epoch 30 Loss 0.06738201876618793\n",
      "train accuracy is: 0.9396594892338508, test accuracy is 0.9495967741935484\n"
     ]
    },
    {
     "name": "stdout",
     "output_type": "stream",
     "text": [
      "Epoch 40 Loss 0.060921355905789926\n",
      "train accuracy is: 0.9435820397262561, test accuracy is 0.954133064516129\n"
     ]
    },
    {
     "name": "stdout",
     "output_type": "stream",
     "text": [
      "Epoch 50 Loss 0.056544103941461386\n",
      "train accuracy is: 0.9460023368385913, test accuracy is 0.9576612903225806\n"
     ]
    },
    {
     "name": "stdout",
     "output_type": "stream",
     "text": [
      "Epoch 60 Loss 0.053335574212660206\n",
      "train accuracy is: 0.9478384243031214, test accuracy is 0.9596774193548387\n"
     ]
    },
    {
     "name": "stdout",
     "output_type": "stream",
     "text": [
      "Epoch 70 Loss 0.05085946618818462\n",
      "train accuracy is: 0.9501752628943415, test accuracy is 0.9596774193548387\n"
     ]
    },
    {
     "name": "stdout",
     "output_type": "stream",
     "text": [
      "Epoch 80 Loss 0.04887464788715898\n",
      "train accuracy is: 0.9513436821899516, test accuracy is 0.9601814516129032\n"
     ]
    },
    {
     "name": "stdout",
     "output_type": "stream",
     "text": [
      "Epoch 90 Loss 0.04723552982318931\n",
      "train accuracy is: 0.9524286429644466, test accuracy is 0.9632056451612904\n"
     ]
    },
    {
     "name": "stdout",
     "output_type": "stream",
     "text": [
      "Epoch 100 Loss 0.045853761049505115\n",
      "train accuracy is: 0.9536805207811717, test accuracy is 0.9637096774193549\n"
     ]
    },
    {
     "name": "stdout",
     "output_type": "stream",
     "text": [
      "Epoch 110 Loss 0.04466825478350297\n",
      "train accuracy is: 0.9549323985978968, test accuracy is 0.9642137096774194\n"
     ]
    },
    {
     "name": "stdout",
     "output_type": "stream",
     "text": [
      "Epoch 120 Loss 0.04363577739747555\n",
      "train accuracy is: 0.9559339008512769, test accuracy is 0.9642137096774194\n"
     ]
    },
    {
     "name": "stdout",
     "output_type": "stream",
     "text": [
      "Epoch 130 Loss 0.04272631310225387\n",
      "train accuracy is: 0.956685027541312, test accuracy is 0.9642137096774194\n"
     ]
    },
    {
     "name": "stdout",
     "output_type": "stream",
     "text": [
      "Epoch 140 Loss 0.04191572049785711\n",
      "train accuracy is: 0.956935403104657, test accuracy is 0.9642137096774194\n"
     ]
    },
    {
     "name": "stdout",
     "output_type": "stream",
     "text": [
      "Epoch 150 Loss 0.04118822808871331\n",
      "train accuracy is: 0.957603071273577, test accuracy is 0.9652217741935484\n"
     ]
    },
    {
     "name": "stdout",
     "output_type": "stream",
     "text": [
      "Epoch 160 Loss 0.04052939597003492\n",
      "train accuracy is: 0.9584376564847271, test accuracy is 0.9652217741935484\n"
     ]
    },
    {
     "name": "stdout",
     "output_type": "stream",
     "text": [
      "Epoch 170 Loss 0.03993021117635616\n",
      "train accuracy is: 0.9590218661325322, test accuracy is 0.9652217741935484\n"
     ]
    },
    {
     "name": "stdout",
     "output_type": "stream",
     "text": [
      "Epoch 180 Loss 0.039380025528550855\n",
      "train accuracy is: 0.9591053246536472, test accuracy is 0.9647177419354839\n"
     ]
    },
    {
     "name": "stdout",
     "output_type": "stream",
     "text": [
      "Epoch 190 Loss 0.03887390017307573\n",
      "train accuracy is: 0.9593557002169921, test accuracy is 0.9647177419354839\n"
     ]
    },
    {
     "name": "stdout",
     "output_type": "stream",
     "text": [
      "Epoch 200 Loss 0.038406585042596655\n",
      "train accuracy is: 0.9594391587381071, test accuracy is 0.9637096774193549\n"
     ]
    },
    {
     "name": "stdout",
     "output_type": "stream",
     "text": [
      "Epoch 210 Loss 0.037971252333704145\n",
      "train accuracy is: 0.9595226172592222, test accuracy is 0.9642137096774194\n"
     ]
    },
    {
     "name": "stdout",
     "output_type": "stream",
     "text": [
      "Epoch 220 Loss 0.037566314857098215\n",
      "train accuracy is: 0.9596895343014522, test accuracy is 0.9642137096774194\n"
     ]
    },
    {
     "name": "stdout",
     "output_type": "stream",
     "text": [
      "Epoch 230 Loss 0.03718635920254738\n",
      "train accuracy is: 0.9601902854281422, test accuracy is 0.9642137096774194\n"
     ]
    },
    {
     "name": "stdout",
     "output_type": "stream",
     "text": [
      "Epoch 240 Loss 0.03683107139096968\n",
      "train accuracy is: 0.9603572024703723, test accuracy is 0.9642137096774194\n"
     ]
    },
    {
     "data": {
      "text/plain": [
       "0.05328099981799253"
      ]
     },
     "execution_count": 23,
     "metadata": {},
     "output_type": "execute_result"
    }
   ],
   "source": [
    "learner2.train_loop(dl)"
   ]
  },
  {
   "cell_type": "markdown",
   "metadata": {
    "papermill": {
     "duration": 0.040727,
     "end_time": "2020-08-12T10:13:49.009825",
     "exception": false,
     "start_time": "2020-08-12T10:13:48.969098",
     "status": "completed"
    },
    "tags": []
   },
   "source": [
    "### Comparing results of NN and LR"
   ]
  },
  {
   "cell_type": "code",
   "execution_count": 24,
   "metadata": {
    "execution": {
     "iopub.execute_input": "2020-08-12T10:13:49.099149Z",
     "iopub.status.busy": "2020-08-12T10:13:49.098133Z",
     "iopub.status.idle": "2020-08-12T10:13:49.308482Z",
     "shell.execute_reply": "2020-08-12T10:13:49.308880Z"
    },
    "papermill": {
     "duration": 0.257288,
     "end_time": "2020-08-12T10:13:49.309021",
     "exception": false,
     "start_time": "2020-08-12T10:13:49.051733",
     "status": "completed"
    },
    "tags": []
   },
   "outputs": [
    {
     "data": {
      "text/plain": [
       "<matplotlib.legend.Legend at 0x7fc9ac3e5a90>"
      ]
     },
     "execution_count": 24,
     "metadata": {},
     "output_type": "execute_result"
    },
    {
     "data": {
      "image/png": "[encoded data removed]",
      "text/plain": [
       "<Figure size 576x360 with 1 Axes>"
      ]
     },
     "metadata": {
      "needs_background": "light"
     },
     "output_type": "display_data"
    }
   ],
   "source": [
    "plt.figure(figsize=(8,5))\n",
    "plt.plot(acc1.val_accuracies, 'g-', label = \"Val Accuracies - NN\")\n",
    "plt.plot(acc1.accuracies, 'r-', label = \"Accuracies - NN\")\n",
    "plt.plot(acc2.val_accuracies, 'b-', label = \"Val Accuracies - Logistic Reg\")\n",
    "plt.plot(acc2.accuracies, 'k-', label = \"Accuracies - Logistic Reg\")\n",
    "plt.ylim(0.8,1) ## for a more spread out view\n",
    "plt.legend()"
   ]
  },
  {
   "cell_type": "markdown",
   "metadata": {
    "papermill": {
     "duration": 0.043161,
     "end_time": "2020-08-12T10:13:49.395955",
     "exception": false,
     "start_time": "2020-08-12T10:13:49.352794",
     "status": "completed"
    },
    "tags": []
   },
   "source": [
    "### Clearly NN has a better accuracy over LR; NN is overfitting - Validation accuracy (green) has dropped below training accuracy (orange), also they are diverging. This problem is not seen in LR"
   ]
  },
  {
   "cell_type": "markdown",
   "metadata": {
    "papermill": {
     "duration": 0.040926,
     "end_time": "2020-08-12T10:13:49.477521",
     "exception": false,
     "start_time": "2020-08-12T10:13:49.436595",
     "status": "completed"
    },
    "tags": []
   },
   "source": [
    "##### Now we will be moving through the network, till the output of the second last affine where we get a 2 dimensional output. We will be plotting this 2d output and probability contours"
   ]
  },
  {
   "cell_type": "code",
   "execution_count": 25,
   "metadata": {
    "execution": {
     "iopub.execute_input": "2020-08-12T10:13:49.568374Z",
     "iopub.status.busy": "2020-08-12T10:13:49.566943Z",
     "iopub.status.idle": "2020-08-12T10:13:49.579191Z",
     "shell.execute_reply": "2020-08-12T10:13:49.578703Z"
    },
    "papermill": {
     "duration": 0.059684,
     "end_time": "2020-08-12T10:13:49.579291",
     "exception": false,
     "start_time": "2020-08-12T10:13:49.519607",
     "status": "completed"
    },
    "tags": []
   },
   "outputs": [],
   "source": [
    "model_new = Model(layers[:-2])"
   ]
  },
  {
   "cell_type": "code",
   "execution_count": 26,
   "metadata": {
    "execution": {
     "iopub.execute_input": "2020-08-12T10:13:49.670543Z",
     "iopub.status.busy": "2020-08-12T10:13:49.670060Z",
     "iopub.status.idle": "2020-08-12T10:13:49.691280Z",
     "shell.execute_reply": "2020-08-12T10:13:49.691940Z"
    },
    "papermill": {
     "duration": 0.067967,
     "end_time": "2020-08-12T10:13:49.692090",
     "exception": false,
     "start_time": "2020-08-12T10:13:49.624123",
     "status": "completed"
    },
    "tags": []
   },
   "outputs": [],
   "source": [
    "plot_testing = model_new(testing_xdata)"
   ]
  },
  {
   "cell_type": "markdown",
   "metadata": {
    "papermill": {
     "duration": 0.042712,
     "end_time": "2020-08-12T10:13:49.777090",
     "exception": false,
     "start_time": "2020-08-12T10:13:49.734378",
     "status": "completed"
    },
    "tags": []
   },
   "source": [
    "##### Plotting the scatter plot of points and color coding by class"
   ]
  },
  {
   "cell_type": "code",
   "execution_count": 27,
   "metadata": {
    "execution": {
     "iopub.execute_input": "2020-08-12T10:13:49.893394Z",
     "iopub.status.busy": "2020-08-12T10:13:49.892852Z",
     "iopub.status.idle": "2020-08-12T10:13:50.092508Z",
     "shell.execute_reply": "2020-08-12T10:13:50.093017Z"
    },
    "papermill": {
     "duration": 0.272198,
     "end_time": "2020-08-12T10:13:50.093166",
     "exception": false,
     "start_time": "2020-08-12T10:13:49.820968",
     "status": "completed"
    },
    "tags": []
   },
   "outputs": [
    {
     "data": {
      "image/png": "[encoded data removed]",
      "text/plain": [
       "<Figure size 576x504 with 1 Axes>"
      ]
     },
     "metadata": {
      "needs_background": "light"
     },
     "output_type": "display_data"
    }
   ],
   "source": [
    "plt.figure(figsize=(8,7))\n",
    "plt.scatter(plot_testing[:,0], plot_testing[:,1], alpha = 0.1, c = y_test.ravel());"
   ]
  },
  {
   "cell_type": "markdown",
   "metadata": {
    "papermill": {
     "duration": 0.045587,
     "end_time": "2020-08-12T10:13:50.184184",
     "exception": false,
     "start_time": "2020-08-12T10:13:50.138597",
     "status": "completed"
    },
    "tags": []
   },
   "source": [
    "##### Plotting probability contours"
   ]
  },
  {
   "cell_type": "code",
   "execution_count": 28,
   "metadata": {
    "execution": {
     "iopub.execute_input": "2020-08-12T10:13:50.288245Z",
     "iopub.status.busy": "2020-08-12T10:13:50.286796Z",
     "iopub.status.idle": "2020-08-12T10:13:50.296951Z",
     "shell.execute_reply": "2020-08-12T10:13:50.297388Z"
    },
    "papermill": {
     "duration": 0.065821,
     "end_time": "2020-08-12T10:13:50.297505",
     "exception": false,
     "start_time": "2020-08-12T10:13:50.231684",
     "status": "completed"
    },
    "tags": []
   },
   "outputs": [],
   "source": [
    "model_prob = Model(layers[-2:]) ## picking only last two layers to get probability. That is affine followed by sigmoid"
   ]
  },
  {
   "cell_type": "code",
   "execution_count": 29,
   "metadata": {
    "execution": {
     "iopub.execute_input": "2020-08-12T10:13:50.394919Z",
     "iopub.status.busy": "2020-08-12T10:13:50.394332Z",
     "iopub.status.idle": "2020-08-12T10:13:50.407535Z",
     "shell.execute_reply": "2020-08-12T10:13:50.407915Z"
    },
    "papermill": {
     "duration": 0.064178,
     "end_time": "2020-08-12T10:13:50.408037",
     "exception": false,
     "start_time": "2020-08-12T10:13:50.343859",
     "status": "completed"
    },
    "tags": []
   },
   "outputs": [],
   "source": [
    "xgrid = np.linspace(-4, 1, 100) ## Adjust these values based on above chart, roughly -4 to 1\n",
    "ygrid = np.linspace(-7.5, 7.5, 100) ## Adjust these values based on above chart, roughly -7.5, 7.5\n",
    "xg, yg = np.meshgrid(xgrid, ygrid)\n",
    "# xg and yg are now both 100X100, lets convert them to single arrays \n",
    "\n",
    "xg_interim = np.ravel(xg)\n",
    "yg_interim = np.ravel(yg)\n",
    "\n",
    "## xg_interim, yg_interim are now arrays of len 10000, now we will stack them and then transpose to get desired shape of n rows, 2 columns\n",
    "\n",
    "X_interim = np.vstack((xg_interim, yg_interim)) ## Please note vstack takes in a tuple\n",
    "X = X_interim.T\n",
    "\n",
    "## We want a shape of n rows and 2 columns to be able to feed this to last affine\n",
    "## This last affine takes only two columns, hence the above transformation\n",
    "probability_contour = model_prob(X).reshape(100,100) ## to make it consistent with xg, yg"
   ]
  },
  {
   "cell_type": "code",
   "execution_count": 30,
   "metadata": {
    "execution": {
     "iopub.execute_input": "2020-08-12T10:13:50.512671Z",
     "iopub.status.busy": "2020-08-12T10:13:50.512138Z",
     "iopub.status.idle": "2020-08-12T10:13:50.738814Z",
     "shell.execute_reply": "2020-08-12T10:13:50.738350Z"
    },
    "papermill": {
     "duration": 0.28561,
     "end_time": "2020-08-12T10:13:50.738961",
     "exception": false,
     "start_time": "2020-08-12T10:13:50.453351",
     "status": "completed"
    },
    "tags": []
   },
   "outputs": [
    {
     "data": {
      "image/png": "[encoded data removed]",
      "text/plain": [
       "<Figure size 576x504 with 1 Axes>"
      ]
     },
     "metadata": {
      "needs_background": "light"
     },
     "output_type": "display_data"
    }
   ],
   "source": [
    "plt.figure(figsize=(8,7))\n",
    "plt.scatter(plot_testing[:,0], plot_testing[:,1], alpha = 0.1, c = y_test.ravel())\n",
    "contours = plt.contour(xg,yg,probability_contour)\n",
    "plt.clabel(contours, inline = True );"
   ]
  }
 ],
 "metadata": {
  "kernelspec": {
   "display_name": "Python 3",
   "language": "python",
   "name": "python3"
  },
  "language_info": {
   "codemirror_mode": {
    "name": "ipython",
    "version": 3
   },
   "file_extension": ".py",
   "mimetype": "text/x-python",
   "name": "python",
   "nbconvert_exporter": "python",
   "pygments_lexer": "ipython3",
   "version": "3.6.11"
  },
  "papermill": {
   "duration": 99.72599,
   "end_time": "2020-08-12T10:13:51.091651",
   "environment_variables": {},
   "exception": null,
   "input_path": "2020-08-07-NN-new.ipynb",
   "output_path": "2020-08-07-NN-new.ipynb",
   "parameters": {},
   "start_time": "2020-08-12T10:12:11.365661",
   "version": "2.1.2"
  }
 },
 "nbformat": 4,
 "nbformat_minor": 4
}