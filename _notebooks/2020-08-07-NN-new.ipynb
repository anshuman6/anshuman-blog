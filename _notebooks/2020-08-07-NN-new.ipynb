{
 "cells": [
  {
   "cell_type": "markdown",
   "metadata": {
    "papermill": {
     "duration": 0.043529,
     "end_time": "2020-08-23T10:12:45.629935",
     "exception": false,
     "start_time": "2020-08-23T10:12:45.586406",
     "status": "completed"
    },
    "tags": []
   },
   "source": [
    "# \"Building a basic Neural Network from scratch - Kudzu\"\n",
    "\n",
    "- badges: true\n",
    "- author: Anshuman Gupta"
   ]
  },
  {
   "cell_type": "markdown",
   "metadata": {
    "papermill": {
     "duration": 0.027726,
     "end_time": "2020-08-23T10:12:45.686132",
     "exception": false,
     "start_time": "2020-08-23T10:12:45.658406",
     "status": "completed"
    },
    "tags": []
   },
   "source": [
    "#### In this project, the idea is to write a classifier to differentiate between handwritten digits 3 and 8, from the MNIST database.\n",
    "\n",
    "#### I will using a custom built neural network library called Kudzu.This has been developed as a part of KTF/Foundations course of Univ.ai (www.univ.ai). The source code for Kudzu Library and and this notebook can be found on my git-hub profile : www.https://github.com/anshuman6 under the folder project-solution. Any feedback and comments are welcome. Please feel free to email me at: anshuman6@gmail.com\n",
    "\n",
    "#### 1. I will be using the MNIST database. \n",
    "\n",
    "#### 2. I will be comparing the results of the 4 layer NN to a standard logistic regression"
   ]
  },
  {
   "cell_type": "markdown",
   "metadata": {
    "papermill": {
     "duration": 0.027163,
     "end_time": "2020-08-23T10:12:45.740893",
     "exception": false,
     "start_time": "2020-08-23T10:12:45.713730",
     "status": "completed"
    },
    "tags": []
   },
   "source": [
    "##### Importing all the necessary libraries"
   ]
  },
  {
   "cell_type": "code",
   "execution_count": 1,
   "metadata": {
    "execution": {
     "iopub.execute_input": "2020-08-23T10:12:45.802429Z",
     "iopub.status.busy": "2020-08-23T10:12:45.801845Z",
     "iopub.status.idle": "2020-08-23T10:12:45.813070Z",
     "shell.execute_reply": "2020-08-23T10:12:45.813583Z"
    },
    "papermill": {
     "duration": 0.044921,
     "end_time": "2020-08-23T10:12:45.813740",
     "exception": false,
     "start_time": "2020-08-23T10:12:45.768819",
     "status": "completed"
    },
    "tags": []
   },
   "outputs": [],
   "source": [
    "%load_ext autoreload\n",
    "%autoreload 2"
   ]
  },
  {
   "cell_type": "code",
   "execution_count": 2,
   "metadata": {
    "execution": {
     "iopub.execute_input": "2020-08-23T10:12:45.875617Z",
     "iopub.status.busy": "2020-08-23T10:12:45.875038Z",
     "iopub.status.idle": "2020-08-23T10:12:46.460018Z",
     "shell.execute_reply": "2020-08-23T10:12:46.460893Z"
    },
    "papermill": {
     "duration": 0.618997,
     "end_time": "2020-08-23T10:12:46.461067",
     "exception": false,
     "start_time": "2020-08-23T10:12:45.842070",
     "status": "completed"
    },
    "tags": []
   },
   "outputs": [],
   "source": [
    "%matplotlib inline\n",
    "import numpy as np\n",
    "import matplotlib.pyplot as plt\n",
    "import pandas as pd"
   ]
  },
  {
   "cell_type": "markdown",
   "metadata": {
    "papermill": {
     "duration": 0.027857,
     "end_time": "2020-08-23T10:12:46.517532",
     "exception": false,
     "start_time": "2020-08-23T10:12:46.489675",
     "status": "completed"
    },
    "tags": []
   },
   "source": [
    "##### The following command helps us download MNIST from notebook itself. You can skip this if you already have MNIST. You can also download it via your terminal."
   ]
  },
  {
   "cell_type": "code",
   "execution_count": 3,
   "metadata": {
    "execution": {
     "iopub.execute_input": "2020-08-23T10:12:46.580652Z",
     "iopub.status.busy": "2020-08-23T10:12:46.580034Z",
     "iopub.status.idle": "2020-08-23T10:12:48.022010Z",
     "shell.execute_reply": "2020-08-23T10:12:48.023646Z"
    },
    "papermill": {
     "duration": 1.477625,
     "end_time": "2020-08-23T10:12:48.023823",
     "exception": false,
     "start_time": "2020-08-23T10:12:46.546198",
     "status": "completed"
    },
    "tags": []
   },
   "outputs": [
    {
     "name": "stdout",
     "output_type": "stream",
     "text": [
      "Collecting mnist\r\n"
     ]
    },
    {
     "name": "stdout",
     "output_type": "stream",
     "text": [
      "  Downloading mnist-0.2.2-py2.py3-none-any.whl (3.5 kB)\r\n",
      "Requirement already satisfied: numpy in /opt/hostedtoolcache/Python/3.6.11/x64/lib/python3.6/site-packages (from mnist) (1.19.1)\r\n"
     ]
    },
    {
     "name": "stdout",
     "output_type": "stream",
     "text": [
      "Installing collected packages: mnist\r\n"
     ]
    },
    {
     "name": "stdout",
     "output_type": "stream",
     "text": [
      "Successfully installed mnist-0.2.2\r\n"
     ]
    }
   ],
   "source": [
    "!pip install mnist # Please note, it is commented out for now, you can remove comment if you want to install it"
   ]
  },
  {
   "cell_type": "markdown",
   "metadata": {
    "papermill": {
     "duration": 0.030799,
     "end_time": "2020-08-23T10:12:48.087374",
     "exception": false,
     "start_time": "2020-08-23T10:12:48.056575",
     "status": "completed"
    },
    "tags": []
   },
   "source": [
    "#### Preparing the Data"
   ]
  },
  {
   "cell_type": "code",
   "execution_count": 4,
   "metadata": {
    "execution": {
     "iopub.execute_input": "2020-08-23T10:12:48.154013Z",
     "iopub.status.busy": "2020-08-23T10:12:48.153036Z",
     "iopub.status.idle": "2020-08-23T10:12:48.169059Z",
     "shell.execute_reply": "2020-08-23T10:12:48.168575Z"
    },
    "papermill": {
     "duration": 0.051637,
     "end_time": "2020-08-23T10:12:48.169191",
     "exception": false,
     "start_time": "2020-08-23T10:12:48.117554",
     "status": "completed"
    },
    "tags": []
   },
   "outputs": [],
   "source": [
    "import mnist"
   ]
  },
  {
   "cell_type": "code",
   "execution_count": 5,
   "metadata": {
    "execution": {
     "iopub.execute_input": "2020-08-23T10:12:48.231564Z",
     "iopub.status.busy": "2020-08-23T10:12:48.230971Z",
     "iopub.status.idle": "2020-08-23T10:12:49.143397Z",
     "shell.execute_reply": "2020-08-23T10:12:49.142234Z"
    },
    "papermill": {
     "duration": 0.94513,
     "end_time": "2020-08-23T10:12:49.143546",
     "exception": false,
     "start_time": "2020-08-23T10:12:48.198416",
     "status": "completed"
    },
    "tags": []
   },
   "outputs": [],
   "source": [
    "train_images = mnist.train_images()\n",
    "train_labels = mnist.train_labels()"
   ]
  },
  {
   "cell_type": "code",
   "execution_count": 6,
   "metadata": {
    "execution": {
     "iopub.execute_input": "2020-08-23T10:12:49.214242Z",
     "iopub.status.busy": "2020-08-23T10:12:49.205971Z",
     "iopub.status.idle": "2020-08-23T10:12:49.221360Z",
     "shell.execute_reply": "2020-08-23T10:12:49.222260Z"
    },
    "papermill": {
     "duration": 0.048839,
     "end_time": "2020-08-23T10:12:49.222412",
     "exception": false,
     "start_time": "2020-08-23T10:12:49.173573",
     "status": "completed"
    },
    "tags": []
   },
   "outputs": [
    {
     "data": {
      "text/plain": [
       "((60000, 28, 28), (60000,))"
      ]
     },
     "execution_count": 6,
     "metadata": {},
     "output_type": "execute_result"
    }
   ],
   "source": [
    "train_images.shape, train_labels.shape"
   ]
  },
  {
   "cell_type": "code",
   "execution_count": 7,
   "metadata": {
    "execution": {
     "iopub.execute_input": "2020-08-23T10:12:49.283575Z",
     "iopub.status.busy": "2020-08-23T10:12:49.283000Z",
     "iopub.status.idle": "2020-08-23T10:12:49.696720Z",
     "shell.execute_reply": "2020-08-23T10:12:49.696110Z"
    },
    "papermill": {
     "duration": 0.445675,
     "end_time": "2020-08-23T10:12:49.696862",
     "exception": false,
     "start_time": "2020-08-23T10:12:49.251187",
     "status": "completed"
    },
    "tags": []
   },
   "outputs": [],
   "source": [
    "test_images = mnist.test_images()\n",
    "test_labels = mnist.test_labels()"
   ]
  },
  {
   "cell_type": "code",
   "execution_count": 8,
   "metadata": {
    "execution": {
     "iopub.execute_input": "2020-08-23T10:12:49.759912Z",
     "iopub.status.busy": "2020-08-23T10:12:49.759311Z",
     "iopub.status.idle": "2020-08-23T10:12:49.774263Z",
     "shell.execute_reply": "2020-08-23T10:12:49.774806Z"
    },
    "papermill": {
     "duration": 0.047712,
     "end_time": "2020-08-23T10:12:49.774947",
     "exception": false,
     "start_time": "2020-08-23T10:12:49.727235",
     "status": "completed"
    },
    "tags": []
   },
   "outputs": [
    {
     "data": {
      "text/plain": [
       "((10000, 28, 28), (10000,))"
      ]
     },
     "execution_count": 8,
     "metadata": {},
     "output_type": "execute_result"
    }
   ],
   "source": [
    "test_images.shape, test_labels.shape"
   ]
  },
  {
   "cell_type": "code",
   "execution_count": 9,
   "metadata": {
    "execution": {
     "iopub.execute_input": "2020-08-23T10:12:49.838956Z",
     "iopub.status.busy": "2020-08-23T10:12:49.838380Z",
     "iopub.status.idle": "2020-08-23T10:12:50.002245Z",
     "shell.execute_reply": "2020-08-23T10:12:50.001694Z"
    },
    "papermill": {
     "duration": 0.198245,
     "end_time": "2020-08-23T10:12:50.002374",
     "exception": false,
     "start_time": "2020-08-23T10:12:49.804129",
     "status": "completed"
    },
    "tags": []
   },
   "outputs": [
    {
     "name": "stdout",
     "output_type": "stream",
     "text": [
      "2\n"
     ]
    },
    {
     "data": {
      "text/plain": [
       "<matplotlib.image.AxesImage at 0x7f5cad1a4160>"
      ]
     },
     "execution_count": 9,
     "metadata": {},
     "output_type": "execute_result"
    },
    {
     "data": {
      "image/png": "[encoded data removed]",
      "text/plain": [
       "<Figure size 432x288 with 1 Axes>"
      ]
     },
     "metadata": {
      "needs_background": "light"
     },
     "output_type": "display_data"
    }
   ],
   "source": [
    "image_index = 7776 # You may select anything up to 60,000\n",
    "print(train_labels[image_index]) \n",
    "plt.imshow(train_images[image_index], cmap='Greys')"
   ]
  },
  {
   "cell_type": "markdown",
   "metadata": {
    "papermill": {
     "duration": 0.030968,
     "end_time": "2020-08-23T10:12:50.069414",
     "exception": false,
     "start_time": "2020-08-23T10:12:50.038446",
     "status": "completed"
    },
    "tags": []
   },
   "source": [
    "## Filter data to get 3 and 8 out"
   ]
  },
  {
   "cell_type": "code",
   "execution_count": 10,
   "metadata": {
    "execution": {
     "iopub.execute_input": "2020-08-23T10:12:50.137425Z",
     "iopub.status.busy": "2020-08-23T10:12:50.135626Z",
     "iopub.status.idle": "2020-08-23T10:12:50.154572Z",
     "shell.execute_reply": "2020-08-23T10:12:50.154067Z"
    },
    "papermill": {
     "duration": 0.054901,
     "end_time": "2020-08-23T10:12:50.154754",
     "exception": false,
     "start_time": "2020-08-23T10:12:50.099853",
     "status": "completed"
    },
    "tags": []
   },
   "outputs": [],
   "source": [
    "train_filter = np.where((train_labels == 3 ) | (train_labels == 8))\n",
    "test_filter = np.where((test_labels == 3) | (test_labels == 8))\n",
    "X_train, y_train = train_images[train_filter], train_labels[train_filter]\n",
    "X_test, y_test = test_images[test_filter], test_labels[test_filter]"
   ]
  },
  {
   "cell_type": "markdown",
   "metadata": {
    "papermill": {
     "duration": 0.030653,
     "end_time": "2020-08-23T10:12:50.216898",
     "exception": false,
     "start_time": "2020-08-23T10:12:50.186245",
     "status": "completed"
    },
    "tags": []
   },
   "source": [
    "##### We normalize the pizel values in the 0 to 1 range"
   ]
  },
  {
   "cell_type": "code",
   "execution_count": 11,
   "metadata": {
    "execution": {
     "iopub.execute_input": "2020-08-23T10:12:50.281273Z",
     "iopub.status.busy": "2020-08-23T10:12:50.280681Z",
     "iopub.status.idle": "2020-08-23T10:12:50.336000Z",
     "shell.execute_reply": "2020-08-23T10:12:50.336840Z"
    },
    "papermill": {
     "duration": 0.089898,
     "end_time": "2020-08-23T10:12:50.337030",
     "exception": false,
     "start_time": "2020-08-23T10:12:50.247132",
     "status": "completed"
    },
    "tags": []
   },
   "outputs": [],
   "source": [
    "X_train = X_train/255.\n",
    "X_test = X_test/255."
   ]
  },
  {
   "cell_type": "markdown",
   "metadata": {
    "papermill": {
     "duration": 0.030436,
     "end_time": "2020-08-23T10:12:50.397936",
     "exception": false,
     "start_time": "2020-08-23T10:12:50.367500",
     "status": "completed"
    },
    "tags": []
   },
   "source": [
    "And setup the labels as 1 (when the digit is 3) and 0 (when the digit is 8)"
   ]
  },
  {
   "cell_type": "code",
   "execution_count": 12,
   "metadata": {
    "execution": {
     "iopub.execute_input": "2020-08-23T10:12:50.464263Z",
     "iopub.status.busy": "2020-08-23T10:12:50.463687Z",
     "iopub.status.idle": "2020-08-23T10:12:50.479447Z",
     "shell.execute_reply": "2020-08-23T10:12:50.478844Z"
    },
    "papermill": {
     "duration": 0.05027,
     "end_time": "2020-08-23T10:12:50.479572",
     "exception": false,
     "start_time": "2020-08-23T10:12:50.429302",
     "status": "completed"
    },
    "tags": []
   },
   "outputs": [],
   "source": [
    "y_train = 1*(y_train==3)\n",
    "y_test = 1*(y_test==3)"
   ]
  },
  {
   "cell_type": "code",
   "execution_count": 13,
   "metadata": {
    "execution": {
     "iopub.execute_input": "2020-08-23T10:12:50.542807Z",
     "iopub.status.busy": "2020-08-23T10:12:50.542234Z",
     "iopub.status.idle": "2020-08-23T10:12:50.559297Z",
     "shell.execute_reply": "2020-08-23T10:12:50.558728Z"
    },
    "papermill": {
     "duration": 0.050213,
     "end_time": "2020-08-23T10:12:50.559418",
     "exception": false,
     "start_time": "2020-08-23T10:12:50.509205",
     "status": "completed"
    },
    "tags": []
   },
   "outputs": [
    {
     "data": {
      "text/plain": [
       "((11982, 28, 28), (1984, 28, 28))"
      ]
     },
     "execution_count": 13,
     "metadata": {},
     "output_type": "execute_result"
    }
   ],
   "source": [
    "X_train.shape, X_test.shape"
   ]
  },
  {
   "cell_type": "markdown",
   "metadata": {
    "papermill": {
     "duration": 0.031547,
     "end_time": "2020-08-23T10:12:50.621225",
     "exception": false,
     "start_time": "2020-08-23T10:12:50.589678",
     "status": "completed"
    },
    "tags": []
   },
   "source": [
    "##### We reshape the data to flatten the image pixels into a set of features or co-variates:"
   ]
  },
  {
   "cell_type": "code",
   "execution_count": 14,
   "metadata": {
    "execution": {
     "iopub.execute_input": "2020-08-23T10:12:50.687802Z",
     "iopub.status.busy": "2020-08-23T10:12:50.687172Z",
     "iopub.status.idle": "2020-08-23T10:12:50.702555Z",
     "shell.execute_reply": "2020-08-23T10:12:50.703004Z"
    },
    "papermill": {
     "duration": 0.050251,
     "end_time": "2020-08-23T10:12:50.703151",
     "exception": false,
     "start_time": "2020-08-23T10:12:50.652900",
     "status": "completed"
    },
    "tags": []
   },
   "outputs": [
    {
     "data": {
      "text/plain": [
       "((11982, 784), (1984, 784))"
      ]
     },
     "execution_count": 14,
     "metadata": {},
     "output_type": "execute_result"
    }
   ],
   "source": [
    "X_train = X_train.reshape(X_train.shape[0], -1)\n",
    "X_test = X_test.reshape(X_test.shape[0], -1)\n",
    "X_train.shape, X_test.shape"
   ]
  },
  {
   "cell_type": "markdown",
   "metadata": {
    "papermill": {
     "duration": 0.03082,
     "end_time": "2020-08-23T10:12:50.765725",
     "exception": false,
     "start_time": "2020-08-23T10:12:50.734905",
     "status": "completed"
    },
    "tags": []
   },
   "source": [
    "##### Importing Kudzu library and its functionality"
   ]
  },
  {
   "cell_type": "code",
   "execution_count": 15,
   "metadata": {
    "execution": {
     "iopub.execute_input": "2020-08-23T10:12:50.840925Z",
     "iopub.status.busy": "2020-08-23T10:12:50.840292Z",
     "iopub.status.idle": "2020-08-23T10:12:50.862245Z",
     "shell.execute_reply": "2020-08-23T10:12:50.861649Z"
    },
    "papermill": {
     "duration": 0.066157,
     "end_time": "2020-08-23T10:12:50.862367",
     "exception": false,
     "start_time": "2020-08-23T10:12:50.796210",
     "status": "completed"
    },
    "tags": []
   },
   "outputs": [],
   "source": [
    "from kudzu.data import Data, Dataloader, Sampler\n",
    "from kudzu.callbacks import AccCallback\n",
    "from kudzu.loss import MSE\n",
    "from kudzu.layer import Affine, Sigmoid\n",
    "from kudzu.model import Model\n",
    "from kudzu.optim import GD\n",
    "from kudzu.train import Learner\n",
    "from kudzu.callbacks import ClfCallback\n",
    "from kudzu.layer import Sigmoid\n",
    "from kudzu.layer import Relu"
   ]
  },
  {
   "cell_type": "markdown",
   "metadata": {
    "papermill": {
     "duration": 0.031347,
     "end_time": "2020-08-23T10:12:50.924691",
     "exception": false,
     "start_time": "2020-08-23T10:12:50.893344",
     "status": "completed"
    },
    "tags": []
   },
   "source": [
    "##### We are creating a class, just so that we can use it to store our parameters for us"
   ]
  },
  {
   "cell_type": "code",
   "execution_count": 16,
   "metadata": {
    "execution": {
     "iopub.execute_input": "2020-08-23T10:12:50.990635Z",
     "iopub.status.busy": "2020-08-23T10:12:50.990057Z",
     "iopub.status.idle": "2020-08-23T10:12:51.007519Z",
     "shell.execute_reply": "2020-08-23T10:12:51.007036Z"
    },
    "papermill": {
     "duration": 0.052277,
     "end_time": "2020-08-23T10:12:51.007701",
     "exception": false,
     "start_time": "2020-08-23T10:12:50.955424",
     "status": "completed"
    },
    "tags": []
   },
   "outputs": [],
   "source": [
    "class Config:\n",
    "    pass\n",
    "config = Config()\n",
    "config.lr = 0.001\n",
    "config.num_epochs = 250\n",
    "config.bs = 50"
   ]
  },
  {
   "cell_type": "markdown",
   "metadata": {
    "papermill": {
     "duration": 0.03247,
     "end_time": "2020-08-23T10:12:51.070745",
     "exception": false,
     "start_time": "2020-08-23T10:12:51.038275",
     "status": "completed"
    },
    "tags": []
   },
   "source": [
    "##### Initializing Data"
   ]
  },
  {
   "cell_type": "code",
   "execution_count": 17,
   "metadata": {
    "execution": {
     "iopub.execute_input": "2020-08-23T10:12:51.137634Z",
     "iopub.status.busy": "2020-08-23T10:12:51.137036Z",
     "iopub.status.idle": "2020-08-23T10:12:51.150837Z",
     "shell.execute_reply": "2020-08-23T10:12:51.151276Z"
    },
    "papermill": {
     "duration": 0.049819,
     "end_time": "2020-08-23T10:12:51.151418",
     "exception": false,
     "start_time": "2020-08-23T10:12:51.101599",
     "status": "completed"
    },
    "tags": []
   },
   "outputs": [],
   "source": [
    "data = Data(X_train, y_train.reshape(-1,1))\n",
    "loss = MSE()\n",
    "opt = GD(config.lr)\n",
    "sampler = Sampler(data, config.bs, shuffle=True)\n",
    "dl = Dataloader(data, sampler)"
   ]
  },
  {
   "cell_type": "markdown",
   "metadata": {
    "papermill": {
     "duration": 0.030808,
     "end_time": "2020-08-23T10:12:51.213088",
     "exception": false,
     "start_time": "2020-08-23T10:12:51.182280",
     "status": "completed"
    },
    "tags": []
   },
   "source": [
    "##### Constructing 2 different layers, one for NN and one only for logistic regression."
   ]
  },
  {
   "cell_type": "markdown",
   "metadata": {
    "papermill": {
     "duration": 0.030714,
     "end_time": "2020-08-23T10:12:51.275487",
     "exception": false,
     "start_time": "2020-08-23T10:12:51.244773",
     "status": "completed"
    },
    "tags": []
   },
   "source": [
    "##### Creating containers for data to be passed, to calculate accuracies"
   ]
  },
  {
   "cell_type": "code",
   "execution_count": 18,
   "metadata": {
    "execution": {
     "iopub.execute_input": "2020-08-23T10:12:51.354435Z",
     "iopub.status.busy": "2020-08-23T10:12:51.352111Z",
     "iopub.status.idle": "2020-08-23T10:12:51.364747Z",
     "shell.execute_reply": "2020-08-23T10:12:51.365120Z"
    },
    "papermill": {
     "duration": 0.051097,
     "end_time": "2020-08-23T10:12:51.365244",
     "exception": false,
     "start_time": "2020-08-23T10:12:51.314147",
     "status": "completed"
    },
    "tags": []
   },
   "outputs": [],
   "source": [
    "training_xdata = X_train\n",
    "testing_xdata = X_test\n",
    "training_ydata = y_train.reshape(-1,1)\n",
    "testing_ydata = y_test.reshape(-1,1)"
   ]
  },
  {
   "cell_type": "markdown",
   "metadata": {
    "papermill": {
     "duration": 0.031807,
     "end_time": "2020-08-23T10:12:51.431738",
     "exception": false,
     "start_time": "2020-08-23T10:12:51.399931",
     "status": "completed"
    },
    "tags": []
   },
   "source": [
    "##### Initializing models and Running training loop: "
   ]
  },
  {
   "cell_type": "code",
   "execution_count": 19,
   "metadata": {
    "execution": {
     "iopub.execute_input": "2020-08-23T10:12:51.508413Z",
     "iopub.status.busy": "2020-08-23T10:12:51.507612Z",
     "iopub.status.idle": "2020-08-23T10:12:51.526505Z",
     "shell.execute_reply": "2020-08-23T10:12:51.526031Z"
    },
    "papermill": {
     "duration": 0.064135,
     "end_time": "2020-08-23T10:12:51.526652",
     "exception": false,
     "start_time": "2020-08-23T10:12:51.462517",
     "status": "completed"
    },
    "tags": []
   },
   "outputs": [],
   "source": [
    "layers = [Affine(\"first\", 784, 100), Relu(\"first\"), Affine(\"second\", 100, 100), Relu(\"second\"), Affine(\"third\", 100, 2), Affine(\"final\", 2, 1), Sigmoid(\"final\")]\n",
    "\n",
    "model_neural = Model(layers)\n",
    "model_logistic = Model([Affine(\"logits\", 784, 1), Sigmoid(\"sigmoid\")])"
   ]
  },
  {
   "cell_type": "code",
   "execution_count": 20,
   "metadata": {
    "execution": {
     "iopub.execute_input": "2020-08-23T10:12:51.591856Z",
     "iopub.status.busy": "2020-08-23T10:12:51.591317Z",
     "iopub.status.idle": "2020-08-23T10:12:51.604309Z",
     "shell.execute_reply": "2020-08-23T10:12:51.604782Z"
    },
    "papermill": {
     "duration": 0.047947,
     "end_time": "2020-08-23T10:12:51.604917",
     "exception": false,
     "start_time": "2020-08-23T10:12:51.556970",
     "status": "completed"
    },
    "tags": []
   },
   "outputs": [],
   "source": [
    "learner1 = Learner(loss, model_neural, opt, config.num_epochs)\n",
    "acc1 = ClfCallback(learner1, config.bs, training_xdata , testing_xdata, training_ydata, testing_ydata)\n",
    "learner1.set_callbacks([acc1])"
   ]
  },
  {
   "cell_type": "code",
   "execution_count": 21,
   "metadata": {
    "execution": {
     "iopub.execute_input": "2020-08-23T10:12:51.670094Z",
     "iopub.status.busy": "2020-08-23T10:12:51.669516Z",
     "iopub.status.idle": "2020-08-23T10:14:17.847757Z",
     "shell.execute_reply": "2020-08-23T10:14:17.848552Z"
    },
    "papermill": {
     "duration": 86.212738,
     "end_time": "2020-08-23T10:14:17.848703",
     "exception": false,
     "start_time": "2020-08-23T10:12:51.635965",
     "status": "completed"
    },
    "tags": []
   },
   "outputs": [
    {
     "name": "stdout",
     "output_type": "stream",
     "text": [
      "Epoch 0 Loss 0.23546213004344033\n",
      "train accuracy is: 0.7306793523618762, test accuracy is 0.7328629032258065\n"
     ]
    },
    {
     "name": "stdout",
     "output_type": "stream",
     "text": [
      "Epoch 10 Loss 0.08987339936603435\n",
      "train accuracy is: 0.9235519946586547, test accuracy is 0.9369959677419355\n"
     ]
    },
    {
     "name": "stdout",
     "output_type": "stream",
     "text": [
      "Epoch 20 Loss 0.055138612463072396\n",
      "train accuracy is: 0.9439158738107161, test accuracy is 0.9536290322580645\n"
     ]
    },
    {
     "name": "stdout",
     "output_type": "stream",
     "text": [
      "Epoch 30 Loss 0.04367478933458198\n",
      "train accuracy is: 0.9515940577532966, test accuracy is 0.9601814516129032\n"
     ]
    },
    {
     "name": "stdout",
     "output_type": "stream",
     "text": [
      "Epoch 40 Loss 0.03797775143012877\n",
      "train accuracy is: 0.957185778668002, test accuracy is 0.9642137096774194\n"
     ]
    },
    {
     "name": "stdout",
     "output_type": "stream",
     "text": [
      "Epoch 50 Loss 0.03442073639370115\n",
      "train accuracy is: 0.9608579535970623, test accuracy is 0.9682459677419355\n"
     ]
    },
    {
     "name": "stdout",
     "output_type": "stream",
     "text": [
      "Epoch 60 Loss 0.03186583960634236\n",
      "train accuracy is: 0.9634451677516275, test accuracy is 0.9692540322580645\n"
     ]
    },
    {
     "name": "stdout",
     "output_type": "stream",
     "text": [
      "Epoch 70 Loss 0.0298941076913094\n",
      "train accuracy is: 0.9656150893006176, test accuracy is 0.9707661290322581\n"
     ]
    },
    {
     "name": "stdout",
     "output_type": "stream",
     "text": [
      "Epoch 80 Loss 0.028278491110582078\n",
      "train accuracy is: 0.9669504256384577, test accuracy is 0.9702620967741935\n"
     ]
    },
    {
     "name": "stdout",
     "output_type": "stream",
     "text": [
      "Epoch 90 Loss 0.02691191450076475\n",
      "train accuracy is: 0.9687030545818728, test accuracy is 0.9702620967741935\n"
     ]
    },
    {
     "name": "stdout",
     "output_type": "stream",
     "text": [
      "Epoch 100 Loss 0.025735642621795455\n",
      "train accuracy is: 0.9705391420464029, test accuracy is 0.9712701612903226\n"
     ]
    },
    {
     "name": "stdout",
     "output_type": "stream",
     "text": [
      "Epoch 110 Loss 0.024705519529875736\n",
      "train accuracy is: 0.971540644299783, test accuracy is 0.9717741935483871\n"
     ]
    },
    {
     "name": "stdout",
     "output_type": "stream",
     "text": [
      "Epoch 120 Loss 0.023784781806243615\n",
      "train accuracy is: 0.9728759806376232, test accuracy is 0.9712701612903226\n"
     ]
    },
    {
     "name": "stdout",
     "output_type": "stream",
     "text": [
      "Epoch 130 Loss 0.022964788905335168\n",
      "train accuracy is: 0.9738774828910032, test accuracy is 0.9717741935483871\n"
     ]
    },
    {
     "name": "stdout",
     "output_type": "stream",
     "text": [
      "Epoch 140 Loss 0.02222043276271939\n",
      "train accuracy is: 0.9749624436654982, test accuracy is 0.9722782258064516\n"
     ]
    },
    {
     "name": "stdout",
     "output_type": "stream",
     "text": [
      "Epoch 150 Loss 0.021532887159310916\n",
      "train accuracy is: 0.9757135703555333, test accuracy is 0.9722782258064516\n"
     ]
    },
    {
     "name": "stdout",
     "output_type": "stream",
     "text": [
      "Epoch 160 Loss 0.020894017883020886\n",
      "train accuracy is: 0.9766316140877984, test accuracy is 0.9722782258064516\n"
     ]
    },
    {
     "name": "stdout",
     "output_type": "stream",
     "text": [
      "Epoch 170 Loss 0.020297747814865055\n",
      "train accuracy is: 0.9772992822567184, test accuracy is 0.9732862903225806\n"
     ]
    },
    {
     "name": "stdout",
     "output_type": "stream",
     "text": [
      "Epoch 180 Loss 0.019730626036087533\n",
      "train accuracy is: 0.9779669504256384, test accuracy is 0.9732862903225806\n"
     ]
    },
    {
     "name": "stdout",
     "output_type": "stream",
     "text": [
      "Epoch 190 Loss 0.01919922645022071\n",
      "train accuracy is: 0.9786346185945585, test accuracy is 0.9737903225806451\n"
     ]
    },
    {
     "name": "stdout",
     "output_type": "stream",
     "text": [
      "Epoch 200 Loss 0.0186991519330105\n",
      "train accuracy is: 0.9793022867634785, test accuracy is 0.9737903225806451\n"
     ]
    },
    {
     "name": "stdout",
     "output_type": "stream",
     "text": [
      "Epoch 210 Loss 0.01822415495151762\n",
      "train accuracy is: 0.9799699549323986, test accuracy is 0.9742943548387096\n"
     ]
    },
    {
     "name": "stdout",
     "output_type": "stream",
     "text": [
      "Epoch 220 Loss 0.017765070605431\n",
      "train accuracy is: 0.9805541645802036, test accuracy is 0.9742943548387096\n"
     ]
    },
    {
     "name": "stdout",
     "output_type": "stream",
     "text": [
      "Epoch 230 Loss 0.01732296985842479\n",
      "train accuracy is: 0.9809714571857787, test accuracy is 0.9753024193548387\n"
     ]
    },
    {
     "name": "stdout",
     "output_type": "stream",
     "text": [
      "Epoch 240 Loss 0.0168989014034108\n",
      "train accuracy is: 0.9818895009180437, test accuracy is 0.9768145161290323\n"
     ]
    },
    {
     "data": {
      "text/plain": [
       "0.02302214208256685"
      ]
     },
     "execution_count": 21,
     "metadata": {},
     "output_type": "execute_result"
    }
   ],
   "source": [
    "learner1.train_loop(dl)"
   ]
  },
  {
   "cell_type": "markdown",
   "metadata": {
    "papermill": {
     "duration": 0.037514,
     "end_time": "2020-08-23T10:14:17.925228",
     "exception": false,
     "start_time": "2020-08-23T10:14:17.887714",
     "status": "completed"
    },
    "tags": []
   },
   "source": [
    "##### Now running only the logistic regression based classification to compare results with NN"
   ]
  },
  {
   "cell_type": "code",
   "execution_count": 22,
   "metadata": {
    "execution": {
     "iopub.execute_input": "2020-08-23T10:14:18.012066Z",
     "iopub.status.busy": "2020-08-23T10:14:18.010963Z",
     "iopub.status.idle": "2020-08-23T10:14:18.023006Z",
     "shell.execute_reply": "2020-08-23T10:14:18.022407Z"
    },
    "papermill": {
     "duration": 0.059118,
     "end_time": "2020-08-23T10:14:18.023189",
     "exception": false,
     "start_time": "2020-08-23T10:14:17.964071",
     "status": "completed"
    },
    "tags": []
   },
   "outputs": [],
   "source": [
    "learner2 = Learner(loss, model_logistic, opt, config.num_epochs)\n",
    "acc2 = ClfCallback(learner2, config.bs, training_xdata , testing_xdata, training_ydata, testing_ydata)\n",
    "learner2.set_callbacks([acc2])"
   ]
  },
  {
   "cell_type": "code",
   "execution_count": 23,
   "metadata": {
    "execution": {
     "iopub.execute_input": "2020-08-23T10:14:18.106221Z",
     "iopub.status.busy": "2020-08-23T10:14:18.105612Z",
     "iopub.status.idle": "2020-08-23T10:14:34.347708Z",
     "shell.execute_reply": "2020-08-23T10:14:34.348505Z"
    },
    "papermill": {
     "duration": 16.286544,
     "end_time": "2020-08-23T10:14:34.348667",
     "exception": false,
     "start_time": "2020-08-23T10:14:18.062123",
     "status": "completed"
    },
    "tags": []
   },
   "outputs": [
    {
     "name": "stdout",
     "output_type": "stream",
     "text": [
      "Epoch 0 Loss 0.27507978255414883\n",
      "train accuracy is: 0.5383074611917876, test accuracy is 0.5751008064516129\n"
     ]
    },
    {
     "name": "stdout",
     "output_type": "stream",
     "text": [
      "Epoch 10 Loss 0.10809107626427517\n",
      "train accuracy is: 0.9031881155065932, test accuracy is 0.9117943548387096\n"
     ]
    },
    {
     "name": "stdout",
     "output_type": "stream",
     "text": [
      "Epoch 20 Loss 0.0818542702586092\n",
      "train accuracy is: 0.9233016190953096, test accuracy is 0.9375\n"
     ]
    },
    {
     "name": "stdout",
     "output_type": "stream",
     "text": [
      "Epoch 30 Loss 0.0701122798789571\n",
      "train accuracy is: 0.9336504757135704, test accuracy is 0.9470766129032258\n"
     ]
    },
    {
     "name": "stdout",
     "output_type": "stream",
     "text": [
      "Epoch 40 Loss 0.06312323466733603\n",
      "train accuracy is: 0.9389918210649307, test accuracy is 0.9485887096774194\n"
     ]
    },
    {
     "name": "stdout",
     "output_type": "stream",
     "text": [
      "Epoch 50 Loss 0.05838234313931848\n",
      "train accuracy is: 0.943248205641796, test accuracy is 0.9511088709677419\n"
     ]
    },
    {
     "name": "stdout",
     "output_type": "stream",
     "text": [
      "Epoch 60 Loss 0.054907103237141604\n",
      "train accuracy is: 0.9467534635286263, test accuracy is 0.954133064516129\n"
     ]
    },
    {
     "name": "stdout",
     "output_type": "stream",
     "text": [
      "Epoch 70 Loss 0.05222383319221212\n",
      "train accuracy is: 0.9489233850776164, test accuracy is 0.9551411290322581\n"
     ]
    },
    {
     "name": "stdout",
     "output_type": "stream",
     "text": [
      "Epoch 80 Loss 0.05007594345091216\n",
      "train accuracy is: 0.9505925554999165, test accuracy is 0.9571572580645161\n"
     ]
    },
    {
     "name": "stdout",
     "output_type": "stream",
     "text": [
      "Epoch 90 Loss 0.04830426126430328\n",
      "train accuracy is: 0.9518444333166416, test accuracy is 0.9576612903225806\n"
     ]
    },
    {
     "name": "stdout",
     "output_type": "stream",
     "text": [
      "Epoch 100 Loss 0.04681307750546148\n",
      "train accuracy is: 0.9525955600066767, test accuracy is 0.9581653225806451\n"
     ]
    },
    {
     "name": "stdout",
     "output_type": "stream",
     "text": [
      "Epoch 110 Loss 0.04553410507536904\n",
      "train accuracy is: 0.9537639793022867, test accuracy is 0.9596774193548387\n"
     ]
    },
    {
     "name": "stdout",
     "output_type": "stream",
     "text": [
      "Epoch 120 Loss 0.044422633749833976\n",
      "train accuracy is: 0.9550158571190118, test accuracy is 0.9611895161290323\n"
     ]
    },
    {
     "name": "stdout",
     "output_type": "stream",
     "text": [
      "Epoch 130 Loss 0.043444163303244895\n",
      "train accuracy is: 0.9555166082457018, test accuracy is 0.9621975806451613\n"
     ]
    },
    {
     "name": "stdout",
     "output_type": "stream",
     "text": [
      "Epoch 140 Loss 0.04257424419972386\n",
      "train accuracy is: 0.9563511934568519, test accuracy is 0.9621975806451613\n"
     ]
    },
    {
     "name": "stdout",
     "output_type": "stream",
     "text": [
      "Epoch 150 Loss 0.04179483540105074\n",
      "train accuracy is: 0.957102320146887, test accuracy is 0.9637096774193549\n"
     ]
    },
    {
     "name": "stdout",
     "output_type": "stream",
     "text": [
      "Epoch 160 Loss 0.041090185157936\n",
      "train accuracy is: 0.957603071273577, test accuracy is 0.9642137096774194\n"
     ]
    },
    {
     "name": "stdout",
     "output_type": "stream",
     "text": [
      "Epoch 170 Loss 0.04044913497338479\n",
      "train accuracy is: 0.9581872809213821, test accuracy is 0.9642137096774194\n"
     ]
    },
    {
     "name": "stdout",
     "output_type": "stream",
     "text": [
      "Epoch 180 Loss 0.039863659345964156\n",
      "train accuracy is: 0.9586880320480721, test accuracy is 0.9652217741935484\n"
     ]
    },
    {
     "name": "stdout",
     "output_type": "stream",
     "text": [
      "Epoch 190 Loss 0.03932458045692992\n",
      "train accuracy is: 0.9592722416958771, test accuracy is 0.9652217741935484\n"
     ]
    },
    {
     "name": "stdout",
     "output_type": "stream",
     "text": [
      "Epoch 200 Loss 0.038827247984835576\n",
      "train accuracy is: 0.9596895343014522, test accuracy is 0.9652217741935484\n"
     ]
    },
    {
     "name": "stdout",
     "output_type": "stream",
     "text": [
      "Epoch 210 Loss 0.038365582251387205\n",
      "train accuracy is: 0.9601902854281422, test accuracy is 0.9662298387096774\n"
     ]
    },
    {
     "name": "stdout",
     "output_type": "stream",
     "text": [
      "Epoch 220 Loss 0.037936462212828106\n",
      "train accuracy is: 0.9602737439492572, test accuracy is 0.9662298387096774\n"
     ]
    },
    {
     "name": "stdout",
     "output_type": "stream",
     "text": [
      "Epoch 230 Loss 0.037535179478986144\n",
      "train accuracy is: 0.9605241195126022, test accuracy is 0.9667338709677419\n"
     ]
    },
    {
     "name": "stdout",
     "output_type": "stream",
     "text": [
      "Epoch 240 Loss 0.037159489807127945\n",
      "train accuracy is: 0.9606910365548322, test accuracy is 0.9672379032258065\n"
     ]
    },
    {
     "data": {
      "text/plain": [
       "0.06180806802836246"
      ]
     },
     "execution_count": 23,
     "metadata": {},
     "output_type": "execute_result"
    }
   ],
   "source": [
    "learner2.train_loop(dl)"
   ]
  },
  {
   "cell_type": "markdown",
   "metadata": {
    "papermill": {
     "duration": 0.048471,
     "end_time": "2020-08-23T10:14:34.444864",
     "exception": false,
     "start_time": "2020-08-23T10:14:34.396393",
     "status": "completed"
    },
    "tags": []
   },
   "source": [
    "### Comparing results of NN and LR"
   ]
  },
  {
   "cell_type": "code",
   "execution_count": 24,
   "metadata": {
    "execution": {
     "iopub.execute_input": "2020-08-23T10:14:34.554056Z",
     "iopub.status.busy": "2020-08-23T10:14:34.553461Z",
     "iopub.status.idle": "2020-08-23T10:14:34.767798Z",
     "shell.execute_reply": "2020-08-23T10:14:34.767266Z"
    },
    "papermill": {
     "duration": 0.27163,
     "end_time": "2020-08-23T10:14:34.767931",
     "exception": false,
     "start_time": "2020-08-23T10:14:34.496301",
     "status": "completed"
    },
    "tags": []
   },
   "outputs": [
    {
     "data": {
      "text/plain": [
       "<matplotlib.legend.Legend at 0x7f5cacd7a7f0>"
      ]
     },
     "execution_count": 24,
     "metadata": {},
     "output_type": "execute_result"
    },
    {
     "data": {
      "image/png": "[encoded data removed]",
      "text/plain": [
       "<Figure size 576x360 with 1 Axes>"
      ]
     },
     "metadata": {
      "needs_background": "light"
     },
     "output_type": "display_data"
    }
   ],
   "source": [
    "plt.figure(figsize=(8,5))\n",
    "plt.plot(acc1.val_accuracies, 'g-', label = \"Val Accuracies - NN\")\n",
    "plt.plot(acc1.accuracies, 'r-', label = \"Accuracies - NN\")\n",
    "plt.plot(acc2.val_accuracies, 'b-', label = \"Val Accuracies - Logistic Reg\")\n",
    "plt.plot(acc2.accuracies, 'k-', label = \"Accuracies - Logistic Reg\")\n",
    "plt.ylim(0.8,1) ## for a more spread out view\n",
    "plt.legend()"
   ]
  },
  {
   "cell_type": "markdown",
   "metadata": {
    "papermill": {
     "duration": 0.049566,
     "end_time": "2020-08-23T10:14:34.874650",
     "exception": false,
     "start_time": "2020-08-23T10:14:34.825084",
     "status": "completed"
    },
    "tags": []
   },
   "source": [
    "### Clearly NN has a better accuracy over LR; NN is overfitting - Validation accuracy (green) has dropped below training accuracy (orange), also they are diverging. This problem is not seen in LR"
   ]
  },
  {
   "cell_type": "markdown",
   "metadata": {
    "papermill": {
     "duration": 0.055116,
     "end_time": "2020-08-23T10:14:34.981585",
     "exception": false,
     "start_time": "2020-08-23T10:14:34.926469",
     "status": "completed"
    },
    "tags": []
   },
   "source": [
    "##### Now we will be moving through the network, till the output of the second last affine where we get a 2 dimensional output. We will be plotting this 2d output and probability contours"
   ]
  },
  {
   "cell_type": "code",
   "execution_count": 25,
   "metadata": {
    "execution": {
     "iopub.execute_input": "2020-08-23T10:14:35.102367Z",
     "iopub.status.busy": "2020-08-23T10:14:35.101488Z",
     "iopub.status.idle": "2020-08-23T10:14:35.114329Z",
     "shell.execute_reply": "2020-08-23T10:14:35.114810Z"
    },
    "papermill": {
     "duration": 0.076276,
     "end_time": "2020-08-23T10:14:35.114963",
     "exception": false,
     "start_time": "2020-08-23T10:14:35.038687",
     "status": "completed"
    },
    "tags": []
   },
   "outputs": [],
   "source": [
    "model_new = Model(layers[:-2])"
   ]
  },
  {
   "cell_type": "code",
   "execution_count": 26,
   "metadata": {
    "execution": {
     "iopub.execute_input": "2020-08-23T10:14:35.222409Z",
     "iopub.status.busy": "2020-08-23T10:14:35.221821Z",
     "iopub.status.idle": "2020-08-23T10:14:35.242586Z",
     "shell.execute_reply": "2020-08-23T10:14:35.243358Z"
    },
    "papermill": {
     "duration": 0.077566,
     "end_time": "2020-08-23T10:14:35.243529",
     "exception": false,
     "start_time": "2020-08-23T10:14:35.165963",
     "status": "completed"
    },
    "tags": []
   },
   "outputs": [],
   "source": [
    "plot_testing = model_new(testing_xdata)"
   ]
  },
  {
   "cell_type": "markdown",
   "metadata": {
    "papermill": {
     "duration": 0.050507,
     "end_time": "2020-08-23T10:14:35.342197",
     "exception": false,
     "start_time": "2020-08-23T10:14:35.291690",
     "status": "completed"
    },
    "tags": []
   },
   "source": [
    "##### Plotting the scatter plot of points and color coding by class"
   ]
  },
  {
   "cell_type": "code",
   "execution_count": 27,
   "metadata": {
    "execution": {
     "iopub.execute_input": "2020-08-23T10:14:35.441640Z",
     "iopub.status.busy": "2020-08-23T10:14:35.441051Z",
     "iopub.status.idle": "2020-08-23T10:14:35.662240Z",
     "shell.execute_reply": "2020-08-23T10:14:35.661742Z"
    },
    "papermill": {
     "duration": 0.273899,
     "end_time": "2020-08-23T10:14:35.662376",
     "exception": false,
     "start_time": "2020-08-23T10:14:35.388477",
     "status": "completed"
    },
    "tags": []
   },
   "outputs": [
    {
     "data": {
      "image/png": "[encoded data removed]",
      "text/plain": [
       "<Figure size 576x504 with 1 Axes>"
      ]
     },
     "metadata": {
      "needs_background": "light"
     },
     "output_type": "display_data"
    }
   ],
   "source": [
    "plt.figure(figsize=(8,7))\n",
    "plt.scatter(plot_testing[:,0], plot_testing[:,1], alpha = 0.1, c = y_test.ravel());"
   ]
  },
  {
   "cell_type": "markdown",
   "metadata": {
    "papermill": {
     "duration": 0.059199,
     "end_time": "2020-08-23T10:14:35.804080",
     "exception": false,
     "start_time": "2020-08-23T10:14:35.744881",
     "status": "completed"
    },
    "tags": []
   },
   "source": [
    "##### Plotting probability contours"
   ]
  },
  {
   "cell_type": "code",
   "execution_count": 28,
   "metadata": {
    "execution": {
     "iopub.execute_input": "2020-08-23T10:14:35.909687Z",
     "iopub.status.busy": "2020-08-23T10:14:35.909100Z",
     "iopub.status.idle": "2020-08-23T10:14:35.923043Z",
     "shell.execute_reply": "2020-08-23T10:14:35.923550Z"
    },
    "papermill": {
     "duration": 0.068015,
     "end_time": "2020-08-23T10:14:35.923694",
     "exception": false,
     "start_time": "2020-08-23T10:14:35.855679",
     "status": "completed"
    },
    "tags": []
   },
   "outputs": [],
   "source": [
    "model_prob = Model(layers[-2:]) ## picking only last two layers to get probability. That is affine followed by sigmoid"
   ]
  },
  {
   "cell_type": "code",
   "execution_count": 29,
   "metadata": {
    "execution": {
     "iopub.execute_input": "2020-08-23T10:14:36.032400Z",
     "iopub.status.busy": "2020-08-23T10:14:36.031766Z",
     "iopub.status.idle": "2020-08-23T10:14:36.047531Z",
     "shell.execute_reply": "2020-08-23T10:14:36.047982Z"
    },
    "papermill": {
     "duration": 0.074282,
     "end_time": "2020-08-23T10:14:36.048136",
     "exception": false,
     "start_time": "2020-08-23T10:14:35.973854",
     "status": "completed"
    },
    "tags": []
   },
   "outputs": [],
   "source": [
    "xgrid = np.linspace(-4, 1, 100) ## Adjust these values based on above chart, roughly -4 to 1\n",
    "ygrid = np.linspace(-7.5, 7.5, 100) ## Adjust these values based on above chart, roughly -7.5, 7.5\n",
    "xg, yg = np.meshgrid(xgrid, ygrid)\n",
    "# xg and yg are now both 100X100, lets convert them to single arrays \n",
    "\n",
    "xg_interim = np.ravel(xg)\n",
    "yg_interim = np.ravel(yg)\n",
    "\n",
    "## xg_interim, yg_interim are now arrays of len 10000, now we will stack them and then transpose to get desired shape of n rows, 2 columns\n",
    "\n",
    "X_interim = np.vstack((xg_interim, yg_interim)) ## Please note vstack takes in a tuple\n",
    "X = X_interim.T\n",
    "\n",
    "## We want a shape of n rows and 2 columns to be able to feed this to last affine\n",
    "## This last affine takes only two columns, hence the above transformation\n",
    "probability_contour = model_prob(X).reshape(100,100) ## to make it consistent with xg, yg"
   ]
  },
  {
   "cell_type": "code",
   "execution_count": 30,
   "metadata": {
    "execution": {
     "iopub.execute_input": "2020-08-23T10:14:36.165906Z",
     "iopub.status.busy": "2020-08-23T10:14:36.165311Z",
     "iopub.status.idle": "2020-08-23T10:14:36.393807Z",
     "shell.execute_reply": "2020-08-23T10:14:36.392760Z"
    },
    "papermill": {
     "duration": 0.292836,
     "end_time": "2020-08-23T10:14:36.393943",
     "exception": false,
     "start_time": "2020-08-23T10:14:36.101107",
     "status": "completed"
    },
    "tags": []
   },
   "outputs": [
    {
     "data": {
      "image/png": "[encoded data removed]",
      "text/plain": [
       "<Figure size 576x504 with 1 Axes>"
      ]
     },
     "metadata": {
      "needs_background": "light"
     },
     "output_type": "display_data"
    }
   ],
   "source": [
    "plt.figure(figsize=(8,7))\n",
    "plt.scatter(plot_testing[:,0], plot_testing[:,1], alpha = 0.1, c = y_test.ravel())\n",
    "contours = plt.contour(xg,yg,probability_contour)\n",
    "plt.clabel(contours, inline = True );"
   ]
  }
 ],
 "metadata": {
  "kernelspec": {
   "display_name": "Python 3",
   "language": "python",
   "name": "python3"
  },
  "language_info": {
   "codemirror_mode": {
    "name": "ipython",
    "version": 3
   },
   "file_extension": ".py",
   "mimetype": "text/x-python",
   "name": "python",
   "nbconvert_exporter": "python",
   "pygments_lexer": "ipython3",
   "version": "3.6.11"
  },
  "papermill": {
   "duration": 112.349353,
   "end_time": "2020-08-23T10:14:36.856351",
   "environment_variables": {},
   "exception": null,
   "input_path": "2020-08-07-NN-new.ipynb",
   "output_path": "2020-08-07-NN-new.ipynb",
   "parameters": {},
   "start_time": "2020-08-23T10:12:44.506998",
   "version": "2.1.2"
  }
 },
 "nbformat": 4,
 "nbformat_minor": 4
}