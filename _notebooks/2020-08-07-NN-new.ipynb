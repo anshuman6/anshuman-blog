{
 "cells": [
  {
   "cell_type": "markdown",
   "metadata": {
    "papermill": {
     "duration": 0.034324,
     "end_time": "2020-08-12T20:13:04.758446",
     "exception": false,
     "start_time": "2020-08-12T20:13:04.724122",
     "status": "completed"
    },
    "tags": []
   },
   "source": [
    "# \"Building a basic Neural Network from scratch - Kudzu\"\n",
    "\n",
    "- badges: true\n",
    "- author: Anshuman Gupta"
   ]
  },
  {
   "cell_type": "markdown",
   "metadata": {
    "papermill": {
     "duration": 0.030807,
     "end_time": "2020-08-12T20:13:04.820938",
     "exception": false,
     "start_time": "2020-08-12T20:13:04.790131",
     "status": "completed"
    },
    "tags": []
   },
   "source": [
    "#### In this project, the idea is to write a classifier to differentiate between handwritten digits 3 and 8, from the MNIST database.\n",
    "\n",
    "#### I will using a custom built neural network library called Kudzu.This has been developed as a part of KTF/Foundations course of Univ.ai (www.univ.ai). The source code for Kudzu Library and and this notebook can be found on my git-hub profile : www.https://github.com/anshuman6 under the folder project-solution. Any feedback and comments are welcome. Please feel free to email me at: anshuman6@gmail.com\n",
    "\n",
    "#### 1. I will be using the MNIST database. \n",
    "\n",
    "#### 2. I will be comparing the results of the 4 layer NN to a standard logistic regression"
   ]
  },
  {
   "cell_type": "markdown",
   "metadata": {
    "papermill": {
     "duration": 0.031569,
     "end_time": "2020-08-12T20:13:04.883092",
     "exception": false,
     "start_time": "2020-08-12T20:13:04.851523",
     "status": "completed"
    },
    "tags": []
   },
   "source": [
    "##### Importing all the necessary libraries"
   ]
  },
  {
   "cell_type": "code",
   "execution_count": 1,
   "metadata": {
    "execution": {
     "iopub.execute_input": "2020-08-12T20:13:04.960288Z",
     "iopub.status.busy": "2020-08-12T20:13:04.959513Z",
     "iopub.status.idle": "2020-08-12T20:13:04.971452Z",
     "shell.execute_reply": "2020-08-12T20:13:04.970897Z"
    },
    "papermill": {
     "duration": 0.047787,
     "end_time": "2020-08-12T20:13:04.971612",
     "exception": false,
     "start_time": "2020-08-12T20:13:04.923825",
     "status": "completed"
    },
    "tags": []
   },
   "outputs": [],
   "source": [
    "%load_ext autoreload\n",
    "%autoreload 2"
   ]
  },
  {
   "cell_type": "code",
   "execution_count": 2,
   "metadata": {
    "execution": {
     "iopub.execute_input": "2020-08-12T20:13:05.039455Z",
     "iopub.status.busy": "2020-08-12T20:13:05.038805Z",
     "iopub.status.idle": "2020-08-12T20:13:05.654334Z",
     "shell.execute_reply": "2020-08-12T20:13:05.653246Z"
    },
    "papermill": {
     "duration": 0.651237,
     "end_time": "2020-08-12T20:13:05.654501",
     "exception": false,
     "start_time": "2020-08-12T20:13:05.003264",
     "status": "completed"
    },
    "tags": []
   },
   "outputs": [],
   "source": [
    "%matplotlib inline\n",
    "import numpy as np\n",
    "import matplotlib.pyplot as plt\n",
    "import pandas as pd"
   ]
  },
  {
   "cell_type": "markdown",
   "metadata": {
    "papermill": {
     "duration": 0.032177,
     "end_time": "2020-08-12T20:13:05.720083",
     "exception": false,
     "start_time": "2020-08-12T20:13:05.687906",
     "status": "completed"
    },
    "tags": []
   },
   "source": [
    "##### The following command helps us download MNIST from notebook itself. You can skip this if you already have MNIST. You can also download it via your terminal."
   ]
  },
  {
   "cell_type": "code",
   "execution_count": 3,
   "metadata": {
    "execution": {
     "iopub.execute_input": "2020-08-12T20:13:05.788620Z",
     "iopub.status.busy": "2020-08-12T20:13:05.787975Z",
     "iopub.status.idle": "2020-08-12T20:13:07.621048Z",
     "shell.execute_reply": "2020-08-12T20:13:07.620296Z"
    },
    "papermill": {
     "duration": 1.869312,
     "end_time": "2020-08-12T20:13:07.621199",
     "exception": false,
     "start_time": "2020-08-12T20:13:05.751887",
     "status": "completed"
    },
    "tags": []
   },
   "outputs": [
    {
     "name": "stdout",
     "output_type": "stream",
     "text": [
      "Collecting mnist\r\n"
     ]
    },
    {
     "name": "stdout",
     "output_type": "stream",
     "text": [
      "  Downloading mnist-0.2.2-py2.py3-none-any.whl (3.5 kB)\r\n"
     ]
    },
    {
     "name": "stdout",
     "output_type": "stream",
     "text": [
      "Requirement already satisfied: numpy in /opt/hostedtoolcache/Python/3.6.11/x64/lib/python3.6/site-packages (from mnist) (1.19.1)\r\n"
     ]
    },
    {
     "name": "stdout",
     "output_type": "stream",
     "text": [
      "Installing collected packages: mnist\r\n"
     ]
    },
    {
     "name": "stdout",
     "output_type": "stream",
     "text": [
      "Successfully installed mnist-0.2.2\r\n"
     ]
    },
    {
     "name": "stdout",
     "output_type": "stream",
     "text": [
      "\u001b[33mWARNING: You are using pip version 20.2.1; however, version 20.2.2 is available.\r\n",
      "You should consider upgrading via the '/opt/hostedtoolcache/Python/3.6.11/x64/bin/python -m pip install --upgrade pip' command.\u001b[0m\r\n"
     ]
    }
   ],
   "source": [
    "!pip install mnist # Please note, it is commented out for now, you can remove comment if you want to install it"
   ]
  },
  {
   "cell_type": "markdown",
   "metadata": {
    "papermill": {
     "duration": 0.032767,
     "end_time": "2020-08-12T20:13:07.689117",
     "exception": false,
     "start_time": "2020-08-12T20:13:07.656350",
     "status": "completed"
    },
    "tags": []
   },
   "source": [
    "#### Preparing the Data"
   ]
  },
  {
   "cell_type": "code",
   "execution_count": 4,
   "metadata": {
    "execution": {
     "iopub.execute_input": "2020-08-12T20:13:07.763541Z",
     "iopub.status.busy": "2020-08-12T20:13:07.756369Z",
     "iopub.status.idle": "2020-08-12T20:13:07.774386Z",
     "shell.execute_reply": "2020-08-12T20:13:07.773707Z"
    },
    "papermill": {
     "duration": 0.053468,
     "end_time": "2020-08-12T20:13:07.774528",
     "exception": false,
     "start_time": "2020-08-12T20:13:07.721060",
     "status": "completed"
    },
    "tags": []
   },
   "outputs": [],
   "source": [
    "import mnist"
   ]
  },
  {
   "cell_type": "code",
   "execution_count": 5,
   "metadata": {
    "execution": {
     "iopub.execute_input": "2020-08-12T20:13:07.855092Z",
     "iopub.status.busy": "2020-08-12T20:13:07.847498Z",
     "iopub.status.idle": "2020-08-12T20:13:09.538644Z",
     "shell.execute_reply": "2020-08-12T20:13:09.537994Z"
    },
    "papermill": {
     "duration": 1.729504,
     "end_time": "2020-08-12T20:13:09.538796",
     "exception": false,
     "start_time": "2020-08-12T20:13:07.809292",
     "status": "completed"
    },
    "tags": []
   },
   "outputs": [],
   "source": [
    "train_images = mnist.train_images()\n",
    "train_labels = mnist.train_labels()"
   ]
  },
  {
   "cell_type": "code",
   "execution_count": 6,
   "metadata": {
    "execution": {
     "iopub.execute_input": "2020-08-12T20:13:09.612633Z",
     "iopub.status.busy": "2020-08-12T20:13:09.612000Z",
     "iopub.status.idle": "2020-08-12T20:13:09.628263Z",
     "shell.execute_reply": "2020-08-12T20:13:09.627733Z"
    },
    "papermill": {
     "duration": 0.05495,
     "end_time": "2020-08-12T20:13:09.628393",
     "exception": false,
     "start_time": "2020-08-12T20:13:09.573443",
     "status": "completed"
    },
    "tags": []
   },
   "outputs": [
    {
     "data": {
      "text/plain": [
       "((60000, 28, 28), (60000,))"
      ]
     },
     "execution_count": 6,
     "metadata": {},
     "output_type": "execute_result"
    }
   ],
   "source": [
    "train_images.shape, train_labels.shape"
   ]
  },
  {
   "cell_type": "code",
   "execution_count": 7,
   "metadata": {
    "execution": {
     "iopub.execute_input": "2020-08-12T20:13:09.701370Z",
     "iopub.status.busy": "2020-08-12T20:13:09.700715Z",
     "iopub.status.idle": "2020-08-12T20:13:10.600534Z",
     "shell.execute_reply": "2020-08-12T20:13:10.601085Z"
    },
    "papermill": {
     "duration": 0.938951,
     "end_time": "2020-08-12T20:13:10.601269",
     "exception": false,
     "start_time": "2020-08-12T20:13:09.662318",
     "status": "completed"
    },
    "tags": []
   },
   "outputs": [],
   "source": [
    "test_images = mnist.test_images()\n",
    "test_labels = mnist.test_labels()"
   ]
  },
  {
   "cell_type": "code",
   "execution_count": 8,
   "metadata": {
    "execution": {
     "iopub.execute_input": "2020-08-12T20:13:10.676682Z",
     "iopub.status.busy": "2020-08-12T20:13:10.675977Z",
     "iopub.status.idle": "2020-08-12T20:13:10.690822Z",
     "shell.execute_reply": "2020-08-12T20:13:10.691399Z"
    },
    "papermill": {
     "duration": 0.055671,
     "end_time": "2020-08-12T20:13:10.691566",
     "exception": false,
     "start_time": "2020-08-12T20:13:10.635895",
     "status": "completed"
    },
    "tags": []
   },
   "outputs": [
    {
     "data": {
      "text/plain": [
       "((10000, 28, 28), (10000,))"
      ]
     },
     "execution_count": 8,
     "metadata": {},
     "output_type": "execute_result"
    }
   ],
   "source": [
    "test_images.shape, test_labels.shape"
   ]
  },
  {
   "cell_type": "code",
   "execution_count": 9,
   "metadata": {
    "execution": {
     "iopub.execute_input": "2020-08-12T20:13:10.761332Z",
     "iopub.status.busy": "2020-08-12T20:13:10.760530Z",
     "iopub.status.idle": "2020-08-12T20:13:10.970031Z",
     "shell.execute_reply": "2020-08-12T20:13:10.969427Z"
    },
    "papermill": {
     "duration": 0.245353,
     "end_time": "2020-08-12T20:13:10.970199",
     "exception": false,
     "start_time": "2020-08-12T20:13:10.724846",
     "status": "completed"
    },
    "tags": []
   },
   "outputs": [
    {
     "name": "stdout",
     "output_type": "stream",
     "text": [
      "2\n"
     ]
    },
    {
     "data": {
      "text/plain": [
       "<matplotlib.image.AxesImage at 0x7f4d30d56320>"
      ]
     },
     "execution_count": 9,
     "metadata": {},
     "output_type": "execute_result"
    },
    {
     "data": {
      "image/png": "[encoded data removed]",
      "text/plain": [
       "<Figure size 432x288 with 1 Axes>"
      ]
     },
     "metadata": {
      "needs_background": "light"
     },
     "output_type": "display_data"
    }
   ],
   "source": [
    "image_index = 7776 # You may select anything up to 60,000\n",
    "print(train_labels[image_index]) \n",
    "plt.imshow(train_images[image_index], cmap='Greys')"
   ]
  },
  {
   "cell_type": "markdown",
   "metadata": {
    "papermill": {
     "duration": 0.031995,
     "end_time": "2020-08-12T20:13:11.035469",
     "exception": false,
     "start_time": "2020-08-12T20:13:11.003474",
     "status": "completed"
    },
    "tags": []
   },
   "source": [
    "## Filter data to get 3 and 8 out"
   ]
  },
  {
   "cell_type": "code",
   "execution_count": 10,
   "metadata": {
    "execution": {
     "iopub.execute_input": "2020-08-12T20:13:11.112036Z",
     "iopub.status.busy": "2020-08-12T20:13:11.111330Z",
     "iopub.status.idle": "2020-08-12T20:13:11.131095Z",
     "shell.execute_reply": "2020-08-12T20:13:11.131601Z"
    },
    "papermill": {
     "duration": 0.061868,
     "end_time": "2020-08-12T20:13:11.131763",
     "exception": false,
     "start_time": "2020-08-12T20:13:11.069895",
     "status": "completed"
    },
    "tags": []
   },
   "outputs": [],
   "source": [
    "train_filter = np.where((train_labels == 3 ) | (train_labels == 8))\n",
    "test_filter = np.where((test_labels == 3) | (test_labels == 8))\n",
    "X_train, y_train = train_images[train_filter], train_labels[train_filter]\n",
    "X_test, y_test = test_images[test_filter], test_labels[test_filter]"
   ]
  },
  {
   "cell_type": "markdown",
   "metadata": {
    "papermill": {
     "duration": 0.033272,
     "end_time": "2020-08-12T20:13:11.199624",
     "exception": false,
     "start_time": "2020-08-12T20:13:11.166352",
     "status": "completed"
    },
    "tags": []
   },
   "source": [
    "##### We normalize the pizel values in the 0 to 1 range"
   ]
  },
  {
   "cell_type": "code",
   "execution_count": 11,
   "metadata": {
    "execution": {
     "iopub.execute_input": "2020-08-12T20:13:11.270576Z",
     "iopub.status.busy": "2020-08-12T20:13:11.269887Z",
     "iopub.status.idle": "2020-08-12T20:13:11.333864Z",
     "shell.execute_reply": "2020-08-12T20:13:11.333301Z"
    },
    "papermill": {
     "duration": 0.100072,
     "end_time": "2020-08-12T20:13:11.334068",
     "exception": false,
     "start_time": "2020-08-12T20:13:11.233996",
     "status": "completed"
    },
    "tags": []
   },
   "outputs": [],
   "source": [
    "X_train = X_train/255.\n",
    "X_test = X_test/255."
   ]
  },
  {
   "cell_type": "markdown",
   "metadata": {
    "papermill": {
     "duration": 0.032963,
     "end_time": "2020-08-12T20:13:11.399254",
     "exception": false,
     "start_time": "2020-08-12T20:13:11.366291",
     "status": "completed"
    },
    "tags": []
   },
   "source": [
    "And setup the labels as 1 (when the digit is 3) and 0 (when the digit is 8)"
   ]
  },
  {
   "cell_type": "code",
   "execution_count": 12,
   "metadata": {
    "execution": {
     "iopub.execute_input": "2020-08-12T20:13:11.469551Z",
     "iopub.status.busy": "2020-08-12T20:13:11.468877Z",
     "iopub.status.idle": "2020-08-12T20:13:11.481625Z",
     "shell.execute_reply": "2020-08-12T20:13:11.481124Z"
    },
    "papermill": {
     "duration": 0.049544,
     "end_time": "2020-08-12T20:13:11.481763",
     "exception": false,
     "start_time": "2020-08-12T20:13:11.432219",
     "status": "completed"
    },
    "tags": []
   },
   "outputs": [],
   "source": [
    "y_train = 1*(y_train==3)\n",
    "y_test = 1*(y_test==3)"
   ]
  },
  {
   "cell_type": "code",
   "execution_count": 13,
   "metadata": {
    "execution": {
     "iopub.execute_input": "2020-08-12T20:13:11.552105Z",
     "iopub.status.busy": "2020-08-12T20:13:11.551508Z",
     "iopub.status.idle": "2020-08-12T20:13:11.565319Z",
     "shell.execute_reply": "2020-08-12T20:13:11.565854Z"
    },
    "papermill": {
     "duration": 0.051321,
     "end_time": "2020-08-12T20:13:11.566030",
     "exception": false,
     "start_time": "2020-08-12T20:13:11.514709",
     "status": "completed"
    },
    "tags": []
   },
   "outputs": [
    {
     "data": {
      "text/plain": [
       "((11982, 28, 28), (1984, 28, 28))"
      ]
     },
     "execution_count": 13,
     "metadata": {},
     "output_type": "execute_result"
    }
   ],
   "source": [
    "X_train.shape, X_test.shape"
   ]
  },
  {
   "cell_type": "markdown",
   "metadata": {
    "papermill": {
     "duration": 0.03839,
     "end_time": "2020-08-12T20:13:11.641109",
     "exception": false,
     "start_time": "2020-08-12T20:13:11.602719",
     "status": "completed"
    },
    "tags": []
   },
   "source": [
    "##### We reshape the data to flatten the image pixels into a set of features or co-variates:"
   ]
  },
  {
   "cell_type": "code",
   "execution_count": 14,
   "metadata": {
    "execution": {
     "iopub.execute_input": "2020-08-12T20:13:11.715916Z",
     "iopub.status.busy": "2020-08-12T20:13:11.715282Z",
     "iopub.status.idle": "2020-08-12T20:13:11.730455Z",
     "shell.execute_reply": "2020-08-12T20:13:11.729667Z"
    },
    "papermill": {
     "duration": 0.054053,
     "end_time": "2020-08-12T20:13:11.730609",
     "exception": false,
     "start_time": "2020-08-12T20:13:11.676556",
     "status": "completed"
    },
    "tags": []
   },
   "outputs": [
    {
     "data": {
      "text/plain": [
       "((11982, 784), (1984, 784))"
      ]
     },
     "execution_count": 14,
     "metadata": {},
     "output_type": "execute_result"
    }
   ],
   "source": [
    "X_train = X_train.reshape(X_train.shape[0], -1)\n",
    "X_test = X_test.reshape(X_test.shape[0], -1)\n",
    "X_train.shape, X_test.shape"
   ]
  },
  {
   "cell_type": "markdown",
   "metadata": {
    "papermill": {
     "duration": 0.036252,
     "end_time": "2020-08-12T20:13:11.802787",
     "exception": false,
     "start_time": "2020-08-12T20:13:11.766535",
     "status": "completed"
    },
    "tags": []
   },
   "source": [
    "##### Importing Kudzu library and its functionality"
   ]
  },
  {
   "cell_type": "code",
   "execution_count": 15,
   "metadata": {
    "execution": {
     "iopub.execute_input": "2020-08-12T20:13:11.881705Z",
     "iopub.status.busy": "2020-08-12T20:13:11.880736Z",
     "iopub.status.idle": "2020-08-12T20:13:11.903451Z",
     "shell.execute_reply": "2020-08-12T20:13:11.902749Z"
    },
    "papermill": {
     "duration": 0.064632,
     "end_time": "2020-08-12T20:13:11.903601",
     "exception": false,
     "start_time": "2020-08-12T20:13:11.838969",
     "status": "completed"
    },
    "tags": []
   },
   "outputs": [],
   "source": [
    "from kudzu.data import Data, Dataloader, Sampler\n",
    "from kudzu.callbacks import AccCallback\n",
    "from kudzu.loss import MSE\n",
    "from kudzu.layer import Affine, Sigmoid\n",
    "from kudzu.model import Model\n",
    "from kudzu.optim import GD\n",
    "from kudzu.train import Learner\n",
    "from kudzu.callbacks import ClfCallback\n",
    "from kudzu.layer import Sigmoid\n",
    "from kudzu.layer import Relu"
   ]
  },
  {
   "cell_type": "markdown",
   "metadata": {
    "papermill": {
     "duration": 0.039344,
     "end_time": "2020-08-12T20:13:11.979284",
     "exception": false,
     "start_time": "2020-08-12T20:13:11.939940",
     "status": "completed"
    },
    "tags": []
   },
   "source": [
    "##### We are creating a class, just so that we can use it to store our parameters for us"
   ]
  },
  {
   "cell_type": "code",
   "execution_count": 16,
   "metadata": {
    "execution": {
     "iopub.execute_input": "2020-08-12T20:13:12.055971Z",
     "iopub.status.busy": "2020-08-12T20:13:12.055222Z",
     "iopub.status.idle": "2020-08-12T20:13:12.069630Z",
     "shell.execute_reply": "2020-08-12T20:13:12.069060Z"
    },
    "papermill": {
     "duration": 0.054843,
     "end_time": "2020-08-12T20:13:12.069791",
     "exception": false,
     "start_time": "2020-08-12T20:13:12.014948",
     "status": "completed"
    },
    "tags": []
   },
   "outputs": [],
   "source": [
    "class Config:\n",
    "    pass\n",
    "config = Config()\n",
    "config.lr = 0.001\n",
    "config.num_epochs = 250\n",
    "config.bs = 50"
   ]
  },
  {
   "cell_type": "markdown",
   "metadata": {
    "papermill": {
     "duration": 0.036293,
     "end_time": "2020-08-12T20:13:12.145126",
     "exception": false,
     "start_time": "2020-08-12T20:13:12.108833",
     "status": "completed"
    },
    "tags": []
   },
   "source": [
    "##### Initializing Data"
   ]
  },
  {
   "cell_type": "code",
   "execution_count": 17,
   "metadata": {
    "execution": {
     "iopub.execute_input": "2020-08-12T20:13:12.220780Z",
     "iopub.status.busy": "2020-08-12T20:13:12.220059Z",
     "iopub.status.idle": "2020-08-12T20:13:12.233898Z",
     "shell.execute_reply": "2020-08-12T20:13:12.232996Z"
    },
    "papermill": {
     "duration": 0.052771,
     "end_time": "2020-08-12T20:13:12.234067",
     "exception": false,
     "start_time": "2020-08-12T20:13:12.181296",
     "status": "completed"
    },
    "tags": []
   },
   "outputs": [],
   "source": [
    "data = Data(X_train, y_train.reshape(-1,1))\n",
    "loss = MSE()\n",
    "opt = GD(config.lr)\n",
    "sampler = Sampler(data, config.bs, shuffle=True)\n",
    "dl = Dataloader(data, sampler)"
   ]
  },
  {
   "cell_type": "markdown",
   "metadata": {
    "papermill": {
     "duration": 0.037457,
     "end_time": "2020-08-12T20:13:12.306771",
     "exception": false,
     "start_time": "2020-08-12T20:13:12.269314",
     "status": "completed"
    },
    "tags": []
   },
   "source": [
    "##### Constructing 2 different layers, one for NN and one only for logistic regression."
   ]
  },
  {
   "cell_type": "markdown",
   "metadata": {
    "papermill": {
     "duration": 0.034332,
     "end_time": "2020-08-12T20:13:12.376947",
     "exception": false,
     "start_time": "2020-08-12T20:13:12.342615",
     "status": "completed"
    },
    "tags": []
   },
   "source": [
    "##### Creating containers for data to be passed, to calculate accuracies"
   ]
  },
  {
   "cell_type": "code",
   "execution_count": 18,
   "metadata": {
    "execution": {
     "iopub.execute_input": "2020-08-12T20:13:12.452158Z",
     "iopub.status.busy": "2020-08-12T20:13:12.451515Z",
     "iopub.status.idle": "2020-08-12T20:13:12.465194Z",
     "shell.execute_reply": "2020-08-12T20:13:12.464480Z"
    },
    "papermill": {
     "duration": 0.052817,
     "end_time": "2020-08-12T20:13:12.465338",
     "exception": false,
     "start_time": "2020-08-12T20:13:12.412521",
     "status": "completed"
    },
    "tags": []
   },
   "outputs": [],
   "source": [
    "training_xdata = X_train\n",
    "testing_xdata = X_test\n",
    "training_ydata = y_train.reshape(-1,1)\n",
    "testing_ydata = y_test.reshape(-1,1)"
   ]
  },
  {
   "cell_type": "markdown",
   "metadata": {
    "papermill": {
     "duration": 0.034743,
     "end_time": "2020-08-12T20:13:12.536481",
     "exception": false,
     "start_time": "2020-08-12T20:13:12.501738",
     "status": "completed"
    },
    "tags": []
   },
   "source": [
    "##### Initializing models and Running training loop: "
   ]
  },
  {
   "cell_type": "code",
   "execution_count": 19,
   "metadata": {
    "execution": {
     "iopub.execute_input": "2020-08-12T20:13:12.612339Z",
     "iopub.status.busy": "2020-08-12T20:13:12.611725Z",
     "iopub.status.idle": "2020-08-12T20:13:12.629206Z",
     "shell.execute_reply": "2020-08-12T20:13:12.629855Z"
    },
    "papermill": {
     "duration": 0.058744,
     "end_time": "2020-08-12T20:13:12.630031",
     "exception": false,
     "start_time": "2020-08-12T20:13:12.571287",
     "status": "completed"
    },
    "tags": []
   },
   "outputs": [],
   "source": [
    "layers = [Affine(\"first\", 784, 100), Relu(\"first\"), Affine(\"second\", 100, 100), Relu(\"second\"), Affine(\"third\", 100, 2), Affine(\"final\", 2, 1), Sigmoid(\"final\")]\n",
    "\n",
    "model_neural = Model(layers)\n",
    "model_logistic = Model([Affine(\"logits\", 784, 1), Sigmoid(\"sigmoid\")])"
   ]
  },
  {
   "cell_type": "code",
   "execution_count": 20,
   "metadata": {
    "execution": {
     "iopub.execute_input": "2020-08-12T20:13:12.711838Z",
     "iopub.status.busy": "2020-08-12T20:13:12.711175Z",
     "iopub.status.idle": "2020-08-12T20:13:12.724845Z",
     "shell.execute_reply": "2020-08-12T20:13:12.724278Z"
    },
    "papermill": {
     "duration": 0.058317,
     "end_time": "2020-08-12T20:13:12.724984",
     "exception": false,
     "start_time": "2020-08-12T20:13:12.666667",
     "status": "completed"
    },
    "tags": []
   },
   "outputs": [],
   "source": [
    "learner1 = Learner(loss, model_neural, opt, config.num_epochs)\n",
    "acc1 = ClfCallback(learner1, config.bs, training_xdata , testing_xdata, training_ydata, testing_ydata)\n",
    "learner1.set_callbacks([acc1])"
   ]
  },
  {
   "cell_type": "code",
   "execution_count": 21,
   "metadata": {
    "execution": {
     "iopub.execute_input": "2020-08-12T20:13:12.800358Z",
     "iopub.status.busy": "2020-08-12T20:13:12.799694Z",
     "iopub.status.idle": "2020-08-12T20:15:32.557304Z",
     "shell.execute_reply": "2020-08-12T20:15:32.557773Z"
    },
    "papermill": {
     "duration": 139.797403,
     "end_time": "2020-08-12T20:15:32.557937",
     "exception": false,
     "start_time": "2020-08-12T20:13:12.760534",
     "status": "completed"
    },
    "tags": []
   },
   "outputs": [
    {
     "name": "stdout",
     "output_type": "stream",
     "text": [
      "Epoch 0 Loss 0.2456858355835934\n",
      "train accuracy is: 0.57102320146887, test accuracy is 0.5594758064516129\n"
     ]
    },
    {
     "name": "stdout",
     "output_type": "stream",
     "text": [
      "Epoch 10 Loss 0.10630291194323409\n",
      "train accuracy is: 0.9152896010682691, test accuracy is 0.9248991935483871\n"
     ]
    },
    {
     "name": "stdout",
     "output_type": "stream",
     "text": [
      "Epoch 20 Loss 0.06034126417872089\n",
      "train accuracy is: 0.9409113670505759, test accuracy is 0.9490927419354839\n"
     ]
    },
    {
     "name": "stdout",
     "output_type": "stream",
     "text": [
      "Epoch 30 Loss 0.04609908723450299\n",
      "train accuracy is: 0.9504256384576866, test accuracy is 0.9576612903225806\n"
     ]
    },
    {
     "name": "stdout",
     "output_type": "stream",
     "text": [
      "Epoch 40 Loss 0.03940458730334355\n",
      "train accuracy is: 0.9550993156401268, test accuracy is 0.9606854838709677\n"
     ]
    },
    {
     "name": "stdout",
     "output_type": "stream",
     "text": [
      "Epoch 50 Loss 0.035501207286454235\n",
      "train accuracy is: 0.9591887831747622, test accuracy is 0.9637096774193549\n"
     ]
    },
    {
     "name": "stdout",
     "output_type": "stream",
     "text": [
      "Epoch 60 Loss 0.032924842436432046\n",
      "train accuracy is: 0.9625271240193624, test accuracy is 0.9657258064516129\n"
     ]
    },
    {
     "name": "stdout",
     "output_type": "stream",
     "text": [
      "Epoch 70 Loss 0.031053868853893322\n",
      "train accuracy is: 0.9644466700050075, test accuracy is 0.9667338709677419\n"
     ]
    },
    {
     "name": "stdout",
     "output_type": "stream",
     "text": [
      "Epoch 80 Loss 0.029610206075167855\n",
      "train accuracy is: 0.9665331330328827, test accuracy is 0.9657258064516129\n"
     ]
    },
    {
     "name": "stdout",
     "output_type": "stream",
     "text": [
      "Epoch 90 Loss 0.028448377868473707\n",
      "train accuracy is: 0.9682857619762978, test accuracy is 0.9657258064516129\n"
     ]
    },
    {
     "name": "stdout",
     "output_type": "stream",
     "text": [
      "Epoch 100 Loss 0.02748262636663866\n",
      "train accuracy is: 0.9695376397930229, test accuracy is 0.9657258064516129\n"
     ]
    },
    {
     "name": "stdout",
     "output_type": "stream",
     "text": [
      "Epoch 110 Loss 0.026657244894070387\n",
      "train accuracy is: 0.970372225004173, test accuracy is 0.9667338709677419\n"
     ]
    },
    {
     "name": "stdout",
     "output_type": "stream",
     "text": [
      "Epoch 120 Loss 0.025935046147780857\n",
      "train accuracy is: 0.971206810215323, test accuracy is 0.9672379032258065\n"
     ]
    },
    {
     "name": "stdout",
     "output_type": "stream",
     "text": [
      "Epoch 130 Loss 0.02528751642722246\n",
      "train accuracy is: 0.971290268736438, test accuracy is 0.9672379032258065\n"
     ]
    },
    {
     "name": "stdout",
     "output_type": "stream",
     "text": [
      "Epoch 140 Loss 0.024706829316867095\n",
      "train accuracy is: 0.971540644299783, test accuracy is 0.9672379032258065\n"
     ]
    },
    {
     "name": "stdout",
     "output_type": "stream",
     "text": [
      "Epoch 150 Loss 0.02416944215739025\n",
      "train accuracy is: 0.972041395426473, test accuracy is 0.9682459677419355\n"
     ]
    },
    {
     "name": "stdout",
     "output_type": "stream",
     "text": [
      "Epoch 160 Loss 0.02367323200198601\n",
      "train accuracy is: 0.9727090635953931, test accuracy is 0.96875\n"
     ]
    },
    {
     "name": "stdout",
     "output_type": "stream",
     "text": [
      "Epoch 170 Loss 0.023205087828497978\n",
      "train accuracy is: 0.9736271073276581, test accuracy is 0.969758064516129\n"
     ]
    },
    {
     "name": "stdout",
     "output_type": "stream",
     "text": [
      "Epoch 180 Loss 0.02276155994584271\n",
      "train accuracy is: 0.9737940243698882, test accuracy is 0.9707661290322581\n"
     ]
    },
    {
     "name": "stdout",
     "output_type": "stream",
     "text": [
      "Epoch 190 Loss 0.02234921569024315\n",
      "train accuracy is: 0.9741278584543482, test accuracy is 0.9712701612903226\n"
     ]
    },
    {
     "name": "stdout",
     "output_type": "stream",
     "text": [
      "Epoch 200 Loss 0.021943772180039223\n",
      "train accuracy is: 0.9746286095810383, test accuracy is 0.9707661290322581\n"
     ]
    },
    {
     "name": "stdout",
     "output_type": "stream",
     "text": [
      "Epoch 210 Loss 0.021561379700812715\n",
      "train accuracy is: 0.9748789851443832, test accuracy is 0.9712701612903226\n"
     ]
    },
    {
     "name": "stdout",
     "output_type": "stream",
     "text": [
      "Epoch 220 Loss 0.021197379519351012\n",
      "train accuracy is: 0.9753797362710733, test accuracy is 0.9712701612903226\n"
     ]
    },
    {
     "name": "stdout",
     "output_type": "stream",
     "text": [
      "Epoch 230 Loss 0.020836759308736064\n",
      "train accuracy is: 0.9757970288766483, test accuracy is 0.9707661290322581\n"
     ]
    },
    {
     "name": "stdout",
     "output_type": "stream",
     "text": [
      "Epoch 240 Loss 0.020485827208086168\n",
      "train accuracy is: 0.9760474044399933, test accuracy is 0.9722782258064516\n"
     ]
    },
    {
     "data": {
      "text/plain": [
       "0.011840333998553424"
      ]
     },
     "execution_count": 21,
     "metadata": {},
     "output_type": "execute_result"
    }
   ],
   "source": [
    "learner1.train_loop(dl)"
   ]
  },
  {
   "cell_type": "markdown",
   "metadata": {
    "papermill": {
     "duration": 0.044058,
     "end_time": "2020-08-12T20:15:32.644268",
     "exception": false,
     "start_time": "2020-08-12T20:15:32.600210",
     "status": "completed"
    },
    "tags": []
   },
   "source": [
    "##### Now running only the logistic regression based classification to compare results with NN"
   ]
  },
  {
   "cell_type": "code",
   "execution_count": 22,
   "metadata": {
    "execution": {
     "iopub.execute_input": "2020-08-12T20:15:32.736248Z",
     "iopub.status.busy": "2020-08-12T20:15:32.735606Z",
     "iopub.status.idle": "2020-08-12T20:15:32.748833Z",
     "shell.execute_reply": "2020-08-12T20:15:32.748320Z"
    },
    "papermill": {
     "duration": 0.060285,
     "end_time": "2020-08-12T20:15:32.749102",
     "exception": false,
     "start_time": "2020-08-12T20:15:32.688817",
     "status": "completed"
    },
    "tags": []
   },
   "outputs": [],
   "source": [
    "learner2 = Learner(loss, model_logistic, opt, config.num_epochs)\n",
    "acc2 = ClfCallback(learner2, config.bs, training_xdata , testing_xdata, training_ydata, testing_ydata)\n",
    "learner2.set_callbacks([acc2])"
   ]
  },
  {
   "cell_type": "code",
   "execution_count": 23,
   "metadata": {
    "execution": {
     "iopub.execute_input": "2020-08-12T20:15:32.838956Z",
     "iopub.status.busy": "2020-08-12T20:15:32.838343Z",
     "iopub.status.idle": "2020-08-12T20:15:53.521894Z",
     "shell.execute_reply": "2020-08-12T20:15:53.522636Z"
    },
    "papermill": {
     "duration": 20.731449,
     "end_time": "2020-08-12T20:15:53.522860",
     "exception": false,
     "start_time": "2020-08-12T20:15:32.791411",
     "status": "completed"
    },
    "tags": []
   },
   "outputs": [
    {
     "name": "stdout",
     "output_type": "stream",
     "text": [
      "Epoch 0 Loss 0.2658743646385376\n",
      "train accuracy is: 0.5861291937906861, test accuracy is 0.5665322580645161\n"
     ]
    },
    {
     "name": "stdout",
     "output_type": "stream",
     "text": [
      "Epoch 10 Loss 0.10606078817114764\n",
      "train accuracy is: 0.9048572859288934, test accuracy is 0.9223790322580645\n"
     ]
    },
    {
     "name": "stdout",
     "output_type": "stream",
     "text": [
      "Epoch 20 Loss 0.08077011000419211\n",
      "train accuracy is: 0.9229677850108496, test accuracy is 0.9390120967741935\n"
     ]
    },
    {
     "name": "stdout",
     "output_type": "stream",
     "text": [
      "Epoch 30 Loss 0.0694382190999829\n",
      "train accuracy is: 0.9333166416291103, test accuracy is 0.9465725806451613\n"
     ]
    },
    {
     "name": "stdout",
     "output_type": "stream",
     "text": [
      "Epoch 40 Loss 0.06265790276767821\n",
      "train accuracy is: 0.9379903188115507, test accuracy is 0.952116935483871\n"
     ]
    },
    {
     "name": "stdout",
     "output_type": "stream",
     "text": [
      "Epoch 50 Loss 0.058034155592920626\n",
      "train accuracy is: 0.9418294107828409, test accuracy is 0.9566532258064516\n"
     ]
    },
    {
     "name": "stdout",
     "output_type": "stream",
     "text": [
      "Epoch 60 Loss 0.054631665632226344\n",
      "train accuracy is: 0.9442497078951761, test accuracy is 0.9591733870967742\n"
     ]
    },
    {
     "name": "stdout",
     "output_type": "stream",
     "text": [
      "Epoch 70 Loss 0.051997922416252514\n",
      "train accuracy is: 0.9471707561342013, test accuracy is 0.9621975806451613\n"
     ]
    },
    {
     "name": "stdout",
     "output_type": "stream",
     "text": [
      "Epoch 80 Loss 0.04988230099756118\n",
      "train accuracy is: 0.9487564680353864, test accuracy is 0.9621975806451613\n"
     ]
    },
    {
     "name": "stdout",
     "output_type": "stream",
     "text": [
      "Epoch 90 Loss 0.0481356707562138\n",
      "train accuracy is: 0.9499248873309964, test accuracy is 0.9642137096774194\n"
     ]
    },
    {
     "name": "stdout",
     "output_type": "stream",
     "text": [
      "Epoch 100 Loss 0.046664747447040314\n",
      "train accuracy is: 0.9510933066266066, test accuracy is 0.9642137096774194\n"
     ]
    },
    {
     "name": "stdout",
     "output_type": "stream",
     "text": [
      "Epoch 110 Loss 0.04540121465777941\n",
      "train accuracy is: 0.9526790185277917, test accuracy is 0.9647177419354839\n"
     ]
    },
    {
     "name": "stdout",
     "output_type": "stream",
     "text": [
      "Epoch 120 Loss 0.044302503618400345\n",
      "train accuracy is: 0.9535136037389418, test accuracy is 0.9647177419354839\n"
     ]
    },
    {
     "name": "stdout",
     "output_type": "stream",
     "text": [
      "Epoch 130 Loss 0.043333980156302056\n",
      "train accuracy is: 0.9544316474712068, test accuracy is 0.9652217741935484\n"
     ]
    },
    {
     "name": "stdout",
     "output_type": "stream",
     "text": [
      "Epoch 140 Loss 0.0424734001916712\n",
      "train accuracy is: 0.9552662326823569, test accuracy is 0.9657258064516129\n"
     ]
    },
    {
     "name": "stdout",
     "output_type": "stream",
     "text": [
      "Epoch 150 Loss 0.04170099333971524\n",
      "train accuracy is: 0.956100817893507, test accuracy is 0.9667338709677419\n"
     ]
    },
    {
     "name": "stdout",
     "output_type": "stream",
     "text": [
      "Epoch 160 Loss 0.0410032803422787\n",
      "train accuracy is: 0.956851944583542, test accuracy is 0.9667338709677419\n"
     ]
    },
    {
     "name": "stdout",
     "output_type": "stream",
     "text": [
      "Epoch 170 Loss 0.04036889057535145\n",
      "train accuracy is: 0.957102320146887, test accuracy is 0.9672379032258065\n"
     ]
    },
    {
     "name": "stdout",
     "output_type": "stream",
     "text": [
      "Epoch 180 Loss 0.03978775027752738\n",
      "train accuracy is: 0.957603071273577, test accuracy is 0.9667338709677419\n"
     ]
    },
    {
     "name": "stdout",
     "output_type": "stream",
     "text": [
      "Epoch 190 Loss 0.039253461245079786\n",
      "train accuracy is: 0.9581872809213821, test accuracy is 0.9667338709677419\n"
     ]
    },
    {
     "name": "stdout",
     "output_type": "stream",
     "text": [
      "Epoch 200 Loss 0.038759902372365686\n",
      "train accuracy is: 0.9588549490903021, test accuracy is 0.9672379032258065\n"
     ]
    },
    {
     "name": "stdout",
     "output_type": "stream",
     "text": [
      "Epoch 210 Loss 0.03830253066052574\n",
      "train accuracy is: 0.9591053246536472, test accuracy is 0.9672379032258065\n"
     ]
    },
    {
     "name": "stdout",
     "output_type": "stream",
     "text": [
      "Epoch 220 Loss 0.03787660413043602\n",
      "train accuracy is: 0.9593557002169921, test accuracy is 0.9672379032258065\n"
     ]
    },
    {
     "name": "stdout",
     "output_type": "stream",
     "text": [
      "Epoch 230 Loss 0.037477986573833916\n",
      "train accuracy is: 0.9597729928225672, test accuracy is 0.9682459677419355\n"
     ]
    },
    {
     "name": "stdout",
     "output_type": "stream",
     "text": [
      "Epoch 240 Loss 0.037106260860407275\n",
      "train accuracy is: 0.9597729928225672, test accuracy is 0.9682459677419355\n"
     ]
    },
    {
     "data": {
      "text/plain": [
       "0.043270311584233556"
      ]
     },
     "execution_count": 23,
     "metadata": {},
     "output_type": "execute_result"
    }
   ],
   "source": [
    "learner2.train_loop(dl)"
   ]
  },
  {
   "cell_type": "markdown",
   "metadata": {
    "papermill": {
     "duration": 0.053211,
     "end_time": "2020-08-12T20:15:53.631174",
     "exception": false,
     "start_time": "2020-08-12T20:15:53.577963",
     "status": "completed"
    },
    "tags": []
   },
   "source": [
    "### Comparing results of NN and LR"
   ]
  },
  {
   "cell_type": "code",
   "execution_count": 24,
   "metadata": {
    "execution": {
     "iopub.execute_input": "2020-08-12T20:15:53.747622Z",
     "iopub.status.busy": "2020-08-12T20:15:53.746950Z",
     "iopub.status.idle": "2020-08-12T20:15:54.024776Z",
     "shell.execute_reply": "2020-08-12T20:15:54.024058Z"
    },
    "papermill": {
     "duration": 0.338504,
     "end_time": "2020-08-12T20:15:54.024976",
     "exception": false,
     "start_time": "2020-08-12T20:15:53.686472",
     "status": "completed"
    },
    "tags": []
   },
   "outputs": [
    {
     "data": {
      "text/plain": [
       "<matplotlib.legend.Legend at 0x7f4d3092fa90>"
      ]
     },
     "execution_count": 24,
     "metadata": {},
     "output_type": "execute_result"
    },
    {
     "data": {
      "image/png": "[encoded data removed]",
      "text/plain": [
       "<Figure size 576x360 with 1 Axes>"
      ]
     },
     "metadata": {
      "needs_background": "light"
     },
     "output_type": "display_data"
    }
   ],
   "source": [
    "plt.figure(figsize=(8,5))\n",
    "plt.plot(acc1.val_accuracies, 'g-', label = \"Val Accuracies - NN\")\n",
    "plt.plot(acc1.accuracies, 'r-', label = \"Accuracies - NN\")\n",
    "plt.plot(acc2.val_accuracies, 'b-', label = \"Val Accuracies - Logistic Reg\")\n",
    "plt.plot(acc2.accuracies, 'k-', label = \"Accuracies - Logistic Reg\")\n",
    "plt.ylim(0.8,1) ## for a more spread out view\n",
    "plt.legend()"
   ]
  },
  {
   "cell_type": "markdown",
   "metadata": {
    "papermill": {
     "duration": 0.051789,
     "end_time": "2020-08-12T20:15:54.132881",
     "exception": false,
     "start_time": "2020-08-12T20:15:54.081092",
     "status": "completed"
    },
    "tags": []
   },
   "source": [
    "### Clearly NN has a better accuracy over LR; NN is overfitting - Validation accuracy (green) has dropped below training accuracy (orange), also they are diverging. This problem is not seen in LR"
   ]
  },
  {
   "cell_type": "markdown",
   "metadata": {
    "papermill": {
     "duration": 0.051485,
     "end_time": "2020-08-12T20:15:54.236426",
     "exception": false,
     "start_time": "2020-08-12T20:15:54.184941",
     "status": "completed"
    },
    "tags": []
   },
   "source": [
    "##### Now we will be moving through the network, till the output of the second last affine where we get a 2 dimensional output. We will be plotting this 2d output and probability contours"
   ]
  },
  {
   "cell_type": "code",
   "execution_count": 25,
   "metadata": {
    "execution": {
     "iopub.execute_input": "2020-08-12T20:15:54.343267Z",
     "iopub.status.busy": "2020-08-12T20:15:54.342521Z",
     "iopub.status.idle": "2020-08-12T20:15:54.355490Z",
     "shell.execute_reply": "2020-08-12T20:15:54.356176Z"
    },
    "papermill": {
     "duration": 0.071114,
     "end_time": "2020-08-12T20:15:54.356348",
     "exception": false,
     "start_time": "2020-08-12T20:15:54.285234",
     "status": "completed"
    },
    "tags": []
   },
   "outputs": [],
   "source": [
    "model_new = Model(layers[:-2])"
   ]
  },
  {
   "cell_type": "code",
   "execution_count": 26,
   "metadata": {
    "execution": {
     "iopub.execute_input": "2020-08-12T20:15:54.468385Z",
     "iopub.status.busy": "2020-08-12T20:15:54.467732Z",
     "iopub.status.idle": "2020-08-12T20:15:54.495261Z",
     "shell.execute_reply": "2020-08-12T20:15:54.495833Z"
    },
    "papermill": {
     "duration": 0.086305,
     "end_time": "2020-08-12T20:15:54.496079",
     "exception": false,
     "start_time": "2020-08-12T20:15:54.409774",
     "status": "completed"
    },
    "tags": []
   },
   "outputs": [],
   "source": [
    "plot_testing = model_new(testing_xdata)"
   ]
  },
  {
   "cell_type": "markdown",
   "metadata": {
    "papermill": {
     "duration": 0.076904,
     "end_time": "2020-08-12T20:15:54.628251",
     "exception": false,
     "start_time": "2020-08-12T20:15:54.551347",
     "status": "completed"
    },
    "tags": []
   },
   "source": [
    "##### Plotting the scatter plot of points and color coding by class"
   ]
  },
  {
   "cell_type": "code",
   "execution_count": 27,
   "metadata": {
    "execution": {
     "iopub.execute_input": "2020-08-12T20:15:54.749096Z",
     "iopub.status.busy": "2020-08-12T20:15:54.745983Z",
     "iopub.status.idle": "2020-08-12T20:15:55.005908Z",
     "shell.execute_reply": "2020-08-12T20:15:55.006513Z"
    },
    "papermill": {
     "duration": 0.322104,
     "end_time": "2020-08-12T20:15:55.006691",
     "exception": false,
     "start_time": "2020-08-12T20:15:54.684587",
     "status": "completed"
    },
    "tags": []
   },
   "outputs": [
    {
     "data": {
      "image/png": "[encoded data removed]",
      "text/plain": [
       "<Figure size 576x504 with 1 Axes>"
      ]
     },
     "metadata": {
      "needs_background": "light"
     },
     "output_type": "display_data"
    }
   ],
   "source": [
    "plt.figure(figsize=(8,7))\n",
    "plt.scatter(plot_testing[:,0], plot_testing[:,1], alpha = 0.1, c = y_test.ravel());"
   ]
  },
  {
   "cell_type": "markdown",
   "metadata": {
    "papermill": {
     "duration": 0.056458,
     "end_time": "2020-08-12T20:15:55.121762",
     "exception": false,
     "start_time": "2020-08-12T20:15:55.065304",
     "status": "completed"
    },
    "tags": []
   },
   "source": [
    "##### Plotting probability contours"
   ]
  },
  {
   "cell_type": "code",
   "execution_count": 28,
   "metadata": {
    "execution": {
     "iopub.execute_input": "2020-08-12T20:15:55.237813Z",
     "iopub.status.busy": "2020-08-12T20:15:55.237201Z",
     "iopub.status.idle": "2020-08-12T20:15:55.252036Z",
     "shell.execute_reply": "2020-08-12T20:15:55.251296Z"
    },
    "papermill": {
     "duration": 0.075752,
     "end_time": "2020-08-12T20:15:55.252167",
     "exception": false,
     "start_time": "2020-08-12T20:15:55.176415",
     "status": "completed"
    },
    "tags": []
   },
   "outputs": [],
   "source": [
    "model_prob = Model(layers[-2:]) ## picking only last two layers to get probability. That is affine followed by sigmoid"
   ]
  },
  {
   "cell_type": "code",
   "execution_count": 29,
   "metadata": {
    "execution": {
     "iopub.execute_input": "2020-08-12T20:15:55.374713Z",
     "iopub.status.busy": "2020-08-12T20:15:55.374008Z",
     "iopub.status.idle": "2020-08-12T20:15:55.389477Z",
     "shell.execute_reply": "2020-08-12T20:15:55.389974Z"
    },
    "papermill": {
     "duration": 0.083291,
     "end_time": "2020-08-12T20:15:55.390276",
     "exception": false,
     "start_time": "2020-08-12T20:15:55.306985",
     "status": "completed"
    },
    "tags": []
   },
   "outputs": [],
   "source": [
    "xgrid = np.linspace(-4, 1, 100) ## Adjust these values based on above chart, roughly -4 to 1\n",
    "ygrid = np.linspace(-7.5, 7.5, 100) ## Adjust these values based on above chart, roughly -7.5, 7.5\n",
    "xg, yg = np.meshgrid(xgrid, ygrid)\n",
    "# xg and yg are now both 100X100, lets convert them to single arrays \n",
    "\n",
    "xg_interim = np.ravel(xg)\n",
    "yg_interim = np.ravel(yg)\n",
    "\n",
    "## xg_interim, yg_interim are now arrays of len 10000, now we will stack them and then transpose to get desired shape of n rows, 2 columns\n",
    "\n",
    "X_interim = np.vstack((xg_interim, yg_interim)) ## Please note vstack takes in a tuple\n",
    "X = X_interim.T\n",
    "\n",
    "## We want a shape of n rows and 2 columns to be able to feed this to last affine\n",
    "## This last affine takes only two columns, hence the above transformation\n",
    "probability_contour = model_prob(X).reshape(100,100) ## to make it consistent with xg, yg"
   ]
  },
  {
   "cell_type": "code",
   "execution_count": 30,
   "metadata": {
    "execution": {
     "iopub.execute_input": "2020-08-12T20:15:55.514555Z",
     "iopub.status.busy": "2020-08-12T20:15:55.513908Z",
     "iopub.status.idle": "2020-08-12T20:15:55.823091Z",
     "shell.execute_reply": "2020-08-12T20:15:55.822599Z"
    },
    "papermill": {
     "duration": 0.374867,
     "end_time": "2020-08-12T20:15:55.823270",
     "exception": false,
     "start_time": "2020-08-12T20:15:55.448403",
     "status": "completed"
    },
    "tags": []
   },
   "outputs": [
    {
     "data": {
      "image/png": "[encoded data removed]",
      "text/plain": [
       "<Figure size 576x504 with 1 Axes>"
      ]
     },
     "metadata": {
      "needs_background": "light"
     },
     "output_type": "display_data"
    }
   ],
   "source": [
    "plt.figure(figsize=(8,7))\n",
    "plt.scatter(plot_testing[:,0], plot_testing[:,1], alpha = 0.1, c = y_test.ravel())\n",
    "contours = plt.contour(xg,yg,probability_contour)\n",
    "plt.clabel(contours, inline = True );"
   ]
  }
 ],
 "metadata": {
  "kernelspec": {
   "display_name": "Python 3",
   "language": "python",
   "name": "python3"
  },
  "language_info": {
   "codemirror_mode": {
    "name": "ipython",
    "version": 3
   },
   "file_extension": ".py",
   "mimetype": "text/x-python",
   "name": "python",
   "nbconvert_exporter": "python",
   "pygments_lexer": "ipython3",
   "version": "3.6.11"
  },
  "papermill": {
   "duration": 172.675275,
   "end_time": "2020-08-12T20:15:56.286007",
   "environment_variables": {},
   "exception": null,
   "input_path": "2020-08-07-NN-new.ipynb",
   "output_path": "2020-08-07-NN-new.ipynb",
   "parameters": {},
   "start_time": "2020-08-12T20:13:03.610732",
   "version": "2.1.2"
  }
 },
 "nbformat": 4,
 "nbformat_minor": 4
}