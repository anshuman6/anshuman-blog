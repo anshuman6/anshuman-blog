{
 "cells": [
  {
   "cell_type": "markdown",
   "metadata": {
    "papermill": {
     "duration": 0.032539,
     "end_time": "2020-08-15T00:27:17.817706",
     "exception": false,
     "start_time": "2020-08-15T00:27:17.785167",
     "status": "completed"
    },
    "tags": []
   },
   "source": [
    "# \"Building a basic Neural Network from scratch - Kudzu\"\n",
    "\n",
    "- badges: true\n",
    "- author: Anshuman Gupta"
   ]
  },
  {
   "cell_type": "markdown",
   "metadata": {
    "papermill": {
     "duration": 0.02746,
     "end_time": "2020-08-15T00:27:17.873033",
     "exception": false,
     "start_time": "2020-08-15T00:27:17.845573",
     "status": "completed"
    },
    "tags": []
   },
   "source": [
    "#### In this project, the idea is to write a classifier to differentiate between handwritten digits 3 and 8, from the MNIST database.\n",
    "\n",
    "#### I will using a custom built neural network library called Kudzu.This has been developed as a part of KTF/Foundations course of Univ.ai (www.univ.ai). The source code for Kudzu Library and and this notebook can be found on my git-hub profile : www.https://github.com/anshuman6 under the folder project-solution. Any feedback and comments are welcome. Please feel free to email me at: anshuman6@gmail.com\n",
    "\n",
    "#### 1. I will be using the MNIST database. \n",
    "\n",
    "#### 2. I will be comparing the results of the 4 layer NN to a standard logistic regression"
   ]
  },
  {
   "cell_type": "markdown",
   "metadata": {
    "papermill": {
     "duration": 0.027799,
     "end_time": "2020-08-15T00:27:17.931015",
     "exception": false,
     "start_time": "2020-08-15T00:27:17.903216",
     "status": "completed"
    },
    "tags": []
   },
   "source": [
    "##### Importing all the necessary libraries"
   ]
  },
  {
   "cell_type": "code",
   "execution_count": 1,
   "metadata": {
    "execution": {
     "iopub.execute_input": "2020-08-15T00:27:17.993183Z",
     "iopub.status.busy": "2020-08-15T00:27:17.992547Z",
     "iopub.status.idle": "2020-08-15T00:27:18.005068Z",
     "shell.execute_reply": "2020-08-15T00:27:18.004412Z"
    },
    "papermill": {
     "duration": 0.04667,
     "end_time": "2020-08-15T00:27:18.005216",
     "exception": false,
     "start_time": "2020-08-15T00:27:17.958546",
     "status": "completed"
    },
    "tags": []
   },
   "outputs": [],
   "source": [
    "%load_ext autoreload\n",
    "%autoreload 2"
   ]
  },
  {
   "cell_type": "code",
   "execution_count": 2,
   "metadata": {
    "execution": {
     "iopub.execute_input": "2020-08-15T00:27:18.074946Z",
     "iopub.status.busy": "2020-08-15T00:27:18.074167Z",
     "iopub.status.idle": "2020-08-15T00:27:18.647426Z",
     "shell.execute_reply": "2020-08-15T00:27:18.648434Z"
    },
    "papermill": {
     "duration": 0.610254,
     "end_time": "2020-08-15T00:27:18.648634",
     "exception": false,
     "start_time": "2020-08-15T00:27:18.038380",
     "status": "completed"
    },
    "tags": []
   },
   "outputs": [],
   "source": [
    "%matplotlib inline\n",
    "import numpy as np\n",
    "import matplotlib.pyplot as plt\n",
    "import pandas as pd"
   ]
  },
  {
   "cell_type": "markdown",
   "metadata": {
    "papermill": {
     "duration": 0.029818,
     "end_time": "2020-08-15T00:27:18.709586",
     "exception": false,
     "start_time": "2020-08-15T00:27:18.679768",
     "status": "completed"
    },
    "tags": []
   },
   "source": [
    "##### The following command helps us download MNIST from notebook itself. You can skip this if you already have MNIST. You can also download it via your terminal."
   ]
  },
  {
   "cell_type": "code",
   "execution_count": 3,
   "metadata": {
    "execution": {
     "iopub.execute_input": "2020-08-15T00:27:18.768909Z",
     "iopub.status.busy": "2020-08-15T00:27:18.768224Z",
     "iopub.status.idle": "2020-08-15T00:27:20.488165Z",
     "shell.execute_reply": "2020-08-15T00:27:20.488719Z"
    },
    "papermill": {
     "duration": 1.752279,
     "end_time": "2020-08-15T00:27:20.488896",
     "exception": false,
     "start_time": "2020-08-15T00:27:18.736617",
     "status": "completed"
    },
    "tags": []
   },
   "outputs": [
    {
     "name": "stdout",
     "output_type": "stream",
     "text": [
      "Collecting mnist\r\n"
     ]
    },
    {
     "name": "stdout",
     "output_type": "stream",
     "text": [
      "  Downloading mnist-0.2.2-py2.py3-none-any.whl (3.5 kB)\r\n"
     ]
    },
    {
     "name": "stdout",
     "output_type": "stream",
     "text": [
      "Requirement already satisfied: numpy in /opt/hostedtoolcache/Python/3.6.11/x64/lib/python3.6/site-packages (from mnist) (1.19.1)\r\n"
     ]
    },
    {
     "name": "stdout",
     "output_type": "stream",
     "text": [
      "Installing collected packages: mnist\r\n",
      "Successfully installed mnist-0.2.2\r\n"
     ]
    },
    {
     "name": "stdout",
     "output_type": "stream",
     "text": [
      "\u001b[33mWARNING: You are using pip version 20.2.1; however, version 20.2.2 is available.\r\n",
      "You should consider upgrading via the '/opt/hostedtoolcache/Python/3.6.11/x64/bin/python -m pip install --upgrade pip' command.\u001b[0m\r\n"
     ]
    }
   ],
   "source": [
    "!pip install mnist # Please note, it is commented out for now, you can remove comment if you want to install it"
   ]
  },
  {
   "cell_type": "markdown",
   "metadata": {
    "papermill": {
     "duration": 0.029829,
     "end_time": "2020-08-15T00:27:20.547530",
     "exception": false,
     "start_time": "2020-08-15T00:27:20.517701",
     "status": "completed"
    },
    "tags": []
   },
   "source": [
    "#### Preparing the Data"
   ]
  },
  {
   "cell_type": "code",
   "execution_count": 4,
   "metadata": {
    "execution": {
     "iopub.execute_input": "2020-08-15T00:27:20.617270Z",
     "iopub.status.busy": "2020-08-15T00:27:20.616563Z",
     "iopub.status.idle": "2020-08-15T00:27:20.633538Z",
     "shell.execute_reply": "2020-08-15T00:27:20.632954Z"
    },
    "papermill": {
     "duration": 0.052603,
     "end_time": "2020-08-15T00:27:20.633669",
     "exception": false,
     "start_time": "2020-08-15T00:27:20.581066",
     "status": "completed"
    },
    "tags": []
   },
   "outputs": [],
   "source": [
    "import mnist"
   ]
  },
  {
   "cell_type": "code",
   "execution_count": 5,
   "metadata": {
    "execution": {
     "iopub.execute_input": "2020-08-15T00:27:20.700999Z",
     "iopub.status.busy": "2020-08-15T00:27:20.700406Z",
     "iopub.status.idle": "2020-08-15T00:27:22.270832Z",
     "shell.execute_reply": "2020-08-15T00:27:22.270219Z"
    },
    "papermill": {
     "duration": 1.605665,
     "end_time": "2020-08-15T00:27:22.271002",
     "exception": false,
     "start_time": "2020-08-15T00:27:20.665337",
     "status": "completed"
    },
    "tags": []
   },
   "outputs": [],
   "source": [
    "train_images = mnist.train_images()\n",
    "train_labels = mnist.train_labels()"
   ]
  },
  {
   "cell_type": "code",
   "execution_count": 6,
   "metadata": {
    "execution": {
     "iopub.execute_input": "2020-08-15T00:27:22.340095Z",
     "iopub.status.busy": "2020-08-15T00:27:22.339257Z",
     "iopub.status.idle": "2020-08-15T00:27:22.355561Z",
     "shell.execute_reply": "2020-08-15T00:27:22.354897Z"
    },
    "papermill": {
     "duration": 0.056421,
     "end_time": "2020-08-15T00:27:22.355742",
     "exception": false,
     "start_time": "2020-08-15T00:27:22.299321",
     "status": "completed"
    },
    "tags": []
   },
   "outputs": [
    {
     "data": {
      "text/plain": [
       "((60000, 28, 28), (60000,))"
      ]
     },
     "execution_count": 6,
     "metadata": {},
     "output_type": "execute_result"
    }
   ],
   "source": [
    "train_images.shape, train_labels.shape"
   ]
  },
  {
   "cell_type": "code",
   "execution_count": 7,
   "metadata": {
    "execution": {
     "iopub.execute_input": "2020-08-15T00:27:22.434542Z",
     "iopub.status.busy": "2020-08-15T00:27:22.433879Z",
     "iopub.status.idle": "2020-08-15T00:27:23.282342Z",
     "shell.execute_reply": "2020-08-15T00:27:23.281469Z"
    },
    "papermill": {
     "duration": 0.887134,
     "end_time": "2020-08-15T00:27:23.282473",
     "exception": false,
     "start_time": "2020-08-15T00:27:22.395339",
     "status": "completed"
    },
    "tags": []
   },
   "outputs": [],
   "source": [
    "test_images = mnist.test_images()\n",
    "test_labels = mnist.test_labels()"
   ]
  },
  {
   "cell_type": "code",
   "execution_count": 8,
   "metadata": {
    "execution": {
     "iopub.execute_input": "2020-08-15T00:27:23.344291Z",
     "iopub.status.busy": "2020-08-15T00:27:23.343668Z",
     "iopub.status.idle": "2020-08-15T00:27:23.356211Z",
     "shell.execute_reply": "2020-08-15T00:27:23.356743Z"
    },
    "papermill": {
     "duration": 0.045658,
     "end_time": "2020-08-15T00:27:23.356867",
     "exception": false,
     "start_time": "2020-08-15T00:27:23.311209",
     "status": "completed"
    },
    "tags": []
   },
   "outputs": [
    {
     "data": {
      "text/plain": [
       "((10000, 28, 28), (10000,))"
      ]
     },
     "execution_count": 8,
     "metadata": {},
     "output_type": "execute_result"
    }
   ],
   "source": [
    "test_images.shape, test_labels.shape"
   ]
  },
  {
   "cell_type": "code",
   "execution_count": 9,
   "metadata": {
    "execution": {
     "iopub.execute_input": "2020-08-15T00:27:23.421073Z",
     "iopub.status.busy": "2020-08-15T00:27:23.420242Z",
     "iopub.status.idle": "2020-08-15T00:27:23.591148Z",
     "shell.execute_reply": "2020-08-15T00:27:23.590551Z"
    },
    "papermill": {
     "duration": 0.205951,
     "end_time": "2020-08-15T00:27:23.591309",
     "exception": false,
     "start_time": "2020-08-15T00:27:23.385358",
     "status": "completed"
    },
    "tags": []
   },
   "outputs": [
    {
     "name": "stdout",
     "output_type": "stream",
     "text": [
      "2\n"
     ]
    },
    {
     "data": {
      "text/plain": [
       "<matplotlib.image.AxesImage at 0x7f338e9512e8>"
      ]
     },
     "execution_count": 9,
     "metadata": {},
     "output_type": "execute_result"
    },
    {
     "data": {
      "image/png": "[encoded data removed]",
      "text/plain": [
       "<Figure size 432x288 with 1 Axes>"
      ]
     },
     "metadata": {
      "needs_background": "light"
     },
     "output_type": "display_data"
    }
   ],
   "source": [
    "image_index = 7776 # You may select anything up to 60,000\n",
    "print(train_labels[image_index]) \n",
    "plt.imshow(train_images[image_index], cmap='Greys')"
   ]
  },
  {
   "cell_type": "markdown",
   "metadata": {
    "papermill": {
     "duration": 0.034159,
     "end_time": "2020-08-15T00:27:23.659769",
     "exception": false,
     "start_time": "2020-08-15T00:27:23.625610",
     "status": "completed"
    },
    "tags": []
   },
   "source": [
    "## Filter data to get 3 and 8 out"
   ]
  },
  {
   "cell_type": "code",
   "execution_count": 10,
   "metadata": {
    "execution": {
     "iopub.execute_input": "2020-08-15T00:27:23.731467Z",
     "iopub.status.busy": "2020-08-15T00:27:23.730850Z",
     "iopub.status.idle": "2020-08-15T00:27:23.751634Z",
     "shell.execute_reply": "2020-08-15T00:27:23.752277Z"
    },
    "papermill": {
     "duration": 0.05929,
     "end_time": "2020-08-15T00:27:23.752480",
     "exception": false,
     "start_time": "2020-08-15T00:27:23.693190",
     "status": "completed"
    },
    "tags": []
   },
   "outputs": [],
   "source": [
    "train_filter = np.where((train_labels == 3 ) | (train_labels == 8))\n",
    "test_filter = np.where((test_labels == 3) | (test_labels == 8))\n",
    "X_train, y_train = train_images[train_filter], train_labels[train_filter]\n",
    "X_test, y_test = test_images[test_filter], test_labels[test_filter]"
   ]
  },
  {
   "cell_type": "markdown",
   "metadata": {
    "papermill": {
     "duration": 0.031999,
     "end_time": "2020-08-15T00:27:23.816819",
     "exception": false,
     "start_time": "2020-08-15T00:27:23.784820",
     "status": "completed"
    },
    "tags": []
   },
   "source": [
    "##### We normalize the pizel values in the 0 to 1 range"
   ]
  },
  {
   "cell_type": "code",
   "execution_count": 11,
   "metadata": {
    "execution": {
     "iopub.execute_input": "2020-08-15T00:27:23.892987Z",
     "iopub.status.busy": "2020-08-15T00:27:23.883045Z",
     "iopub.status.idle": "2020-08-15T00:27:23.946186Z",
     "shell.execute_reply": "2020-08-15T00:27:23.945689Z"
    },
    "papermill": {
     "duration": 0.098893,
     "end_time": "2020-08-15T00:27:23.946314",
     "exception": false,
     "start_time": "2020-08-15T00:27:23.847421",
     "status": "completed"
    },
    "tags": []
   },
   "outputs": [],
   "source": [
    "X_train = X_train/255.\n",
    "X_test = X_test/255."
   ]
  },
  {
   "cell_type": "markdown",
   "metadata": {
    "papermill": {
     "duration": 0.032938,
     "end_time": "2020-08-15T00:27:24.012552",
     "exception": false,
     "start_time": "2020-08-15T00:27:23.979614",
     "status": "completed"
    },
    "tags": []
   },
   "source": [
    "And setup the labels as 1 (when the digit is 3) and 0 (when the digit is 8)"
   ]
  },
  {
   "cell_type": "code",
   "execution_count": 12,
   "metadata": {
    "execution": {
     "iopub.execute_input": "2020-08-15T00:27:24.081073Z",
     "iopub.status.busy": "2020-08-15T00:27:24.080475Z",
     "iopub.status.idle": "2020-08-15T00:27:24.093935Z",
     "shell.execute_reply": "2020-08-15T00:27:24.093285Z"
    },
    "papermill": {
     "duration": 0.051129,
     "end_time": "2020-08-15T00:27:24.094084",
     "exception": false,
     "start_time": "2020-08-15T00:27:24.042955",
     "status": "completed"
    },
    "tags": []
   },
   "outputs": [],
   "source": [
    "y_train = 1*(y_train==3)\n",
    "y_test = 1*(y_test==3)"
   ]
  },
  {
   "cell_type": "code",
   "execution_count": 13,
   "metadata": {
    "execution": {
     "iopub.execute_input": "2020-08-15T00:27:24.163260Z",
     "iopub.status.busy": "2020-08-15T00:27:24.162616Z",
     "iopub.status.idle": "2020-08-15T00:27:24.175956Z",
     "shell.execute_reply": "2020-08-15T00:27:24.175439Z"
    },
    "papermill": {
     "duration": 0.049205,
     "end_time": "2020-08-15T00:27:24.176080",
     "exception": false,
     "start_time": "2020-08-15T00:27:24.126875",
     "status": "completed"
    },
    "tags": []
   },
   "outputs": [
    {
     "data": {
      "text/plain": [
       "((11982, 28, 28), (1984, 28, 28))"
      ]
     },
     "execution_count": 13,
     "metadata": {},
     "output_type": "execute_result"
    }
   ],
   "source": [
    "X_train.shape, X_test.shape"
   ]
  },
  {
   "cell_type": "markdown",
   "metadata": {
    "papermill": {
     "duration": 0.031766,
     "end_time": "2020-08-15T00:27:24.238380",
     "exception": false,
     "start_time": "2020-08-15T00:27:24.206614",
     "status": "completed"
    },
    "tags": []
   },
   "source": [
    "##### We reshape the data to flatten the image pixels into a set of features or co-variates:"
   ]
  },
  {
   "cell_type": "code",
   "execution_count": 14,
   "metadata": {
    "execution": {
     "iopub.execute_input": "2020-08-15T00:27:24.317243Z",
     "iopub.status.busy": "2020-08-15T00:27:24.309259Z",
     "iopub.status.idle": "2020-08-15T00:27:24.320764Z",
     "shell.execute_reply": "2020-08-15T00:27:24.320272Z"
    },
    "papermill": {
     "duration": 0.051275,
     "end_time": "2020-08-15T00:27:24.320886",
     "exception": false,
     "start_time": "2020-08-15T00:27:24.269611",
     "status": "completed"
    },
    "tags": []
   },
   "outputs": [
    {
     "data": {
      "text/plain": [
       "((11982, 784), (1984, 784))"
      ]
     },
     "execution_count": 14,
     "metadata": {},
     "output_type": "execute_result"
    }
   ],
   "source": [
    "X_train = X_train.reshape(X_train.shape[0], -1)\n",
    "X_test = X_test.reshape(X_test.shape[0], -1)\n",
    "X_train.shape, X_test.shape"
   ]
  },
  {
   "cell_type": "markdown",
   "metadata": {
    "papermill": {
     "duration": 0.030309,
     "end_time": "2020-08-15T00:27:24.392347",
     "exception": false,
     "start_time": "2020-08-15T00:27:24.362038",
     "status": "completed"
    },
    "tags": []
   },
   "source": [
    "##### Importing Kudzu library and its functionality"
   ]
  },
  {
   "cell_type": "code",
   "execution_count": 15,
   "metadata": {
    "execution": {
     "iopub.execute_input": "2020-08-15T00:27:24.473926Z",
     "iopub.status.busy": "2020-08-15T00:27:24.464878Z",
     "iopub.status.idle": "2020-08-15T00:27:24.483994Z",
     "shell.execute_reply": "2020-08-15T00:27:24.483477Z"
    },
    "papermill": {
     "duration": 0.05867,
     "end_time": "2020-08-15T00:27:24.484140",
     "exception": false,
     "start_time": "2020-08-15T00:27:24.425470",
     "status": "completed"
    },
    "tags": []
   },
   "outputs": [],
   "source": [
    "from kudzu.data import Data, Dataloader, Sampler\n",
    "from kudzu.callbacks import AccCallback\n",
    "from kudzu.loss import MSE\n",
    "from kudzu.layer import Affine, Sigmoid\n",
    "from kudzu.model import Model\n",
    "from kudzu.optim import GD\n",
    "from kudzu.train import Learner\n",
    "from kudzu.callbacks import ClfCallback\n",
    "from kudzu.layer import Sigmoid\n",
    "from kudzu.layer import Relu"
   ]
  },
  {
   "cell_type": "markdown",
   "metadata": {
    "papermill": {
     "duration": 0.028395,
     "end_time": "2020-08-15T00:27:24.545024",
     "exception": false,
     "start_time": "2020-08-15T00:27:24.516629",
     "status": "completed"
    },
    "tags": []
   },
   "source": [
    "##### We are creating a class, just so that we can use it to store our parameters for us"
   ]
  },
  {
   "cell_type": "code",
   "execution_count": 16,
   "metadata": {
    "execution": {
     "iopub.execute_input": "2020-08-15T00:27:24.612854Z",
     "iopub.status.busy": "2020-08-15T00:27:24.612152Z",
     "iopub.status.idle": "2020-08-15T00:27:24.623934Z",
     "shell.execute_reply": "2020-08-15T00:27:24.624663Z"
    },
    "papermill": {
     "duration": 0.048622,
     "end_time": "2020-08-15T00:27:24.624803",
     "exception": false,
     "start_time": "2020-08-15T00:27:24.576181",
     "status": "completed"
    },
    "tags": []
   },
   "outputs": [],
   "source": [
    "class Config:\n",
    "    pass\n",
    "config = Config()\n",
    "config.lr = 0.001\n",
    "config.num_epochs = 250\n",
    "config.bs = 50"
   ]
  },
  {
   "cell_type": "markdown",
   "metadata": {
    "papermill": {
     "duration": 0.030162,
     "end_time": "2020-08-15T00:27:24.688218",
     "exception": false,
     "start_time": "2020-08-15T00:27:24.658056",
     "status": "completed"
    },
    "tags": []
   },
   "source": [
    "##### Initializing Data"
   ]
  },
  {
   "cell_type": "code",
   "execution_count": 17,
   "metadata": {
    "execution": {
     "iopub.execute_input": "2020-08-15T00:27:24.761030Z",
     "iopub.status.busy": "2020-08-15T00:27:24.760396Z",
     "iopub.status.idle": "2020-08-15T00:27:24.770888Z",
     "shell.execute_reply": "2020-08-15T00:27:24.770422Z"
    },
    "papermill": {
     "duration": 0.050907,
     "end_time": "2020-08-15T00:27:24.771006",
     "exception": false,
     "start_time": "2020-08-15T00:27:24.720099",
     "status": "completed"
    },
    "tags": []
   },
   "outputs": [],
   "source": [
    "data = Data(X_train, y_train.reshape(-1,1))\n",
    "loss = MSE()\n",
    "opt = GD(config.lr)\n",
    "sampler = Sampler(data, config.bs, shuffle=True)\n",
    "dl = Dataloader(data, sampler)"
   ]
  },
  {
   "cell_type": "markdown",
   "metadata": {
    "papermill": {
     "duration": 0.031546,
     "end_time": "2020-08-15T00:27:24.833035",
     "exception": false,
     "start_time": "2020-08-15T00:27:24.801489",
     "status": "completed"
    },
    "tags": []
   },
   "source": [
    "##### Constructing 2 different layers, one for NN and one only for logistic regression."
   ]
  },
  {
   "cell_type": "markdown",
   "metadata": {
    "papermill": {
     "duration": 0.029228,
     "end_time": "2020-08-15T00:27:24.893376",
     "exception": false,
     "start_time": "2020-08-15T00:27:24.864148",
     "status": "completed"
    },
    "tags": []
   },
   "source": [
    "##### Creating containers for data to be passed, to calculate accuracies"
   ]
  },
  {
   "cell_type": "code",
   "execution_count": 18,
   "metadata": {
    "execution": {
     "iopub.execute_input": "2020-08-15T00:27:24.973366Z",
     "iopub.status.busy": "2020-08-15T00:27:24.968035Z",
     "iopub.status.idle": "2020-08-15T00:27:24.975479Z",
     "shell.execute_reply": "2020-08-15T00:27:24.976011Z"
    },
    "papermill": {
     "duration": 0.050443,
     "end_time": "2020-08-15T00:27:24.976136",
     "exception": false,
     "start_time": "2020-08-15T00:27:24.925693",
     "status": "completed"
    },
    "tags": []
   },
   "outputs": [],
   "source": [
    "training_xdata = X_train\n",
    "testing_xdata = X_test\n",
    "training_ydata = y_train.reshape(-1,1)\n",
    "testing_ydata = y_test.reshape(-1,1)"
   ]
  },
  {
   "cell_type": "markdown",
   "metadata": {
    "papermill": {
     "duration": 0.030869,
     "end_time": "2020-08-15T00:27:25.035766",
     "exception": false,
     "start_time": "2020-08-15T00:27:25.004897",
     "status": "completed"
    },
    "tags": []
   },
   "source": [
    "##### Initializing models and Running training loop: "
   ]
  },
  {
   "cell_type": "code",
   "execution_count": 19,
   "metadata": {
    "execution": {
     "iopub.execute_input": "2020-08-15T00:27:25.104875Z",
     "iopub.status.busy": "2020-08-15T00:27:25.104273Z",
     "iopub.status.idle": "2020-08-15T00:27:25.122658Z",
     "shell.execute_reply": "2020-08-15T00:27:25.123130Z"
    },
    "papermill": {
     "duration": 0.054607,
     "end_time": "2020-08-15T00:27:25.123285",
     "exception": false,
     "start_time": "2020-08-15T00:27:25.068678",
     "status": "completed"
    },
    "tags": []
   },
   "outputs": [],
   "source": [
    "layers = [Affine(\"first\", 784, 100), Relu(\"first\"), Affine(\"second\", 100, 100), Relu(\"second\"), Affine(\"third\", 100, 2), Affine(\"final\", 2, 1), Sigmoid(\"final\")]\n",
    "\n",
    "model_neural = Model(layers)\n",
    "model_logistic = Model([Affine(\"logits\", 784, 1), Sigmoid(\"sigmoid\")])"
   ]
  },
  {
   "cell_type": "code",
   "execution_count": 20,
   "metadata": {
    "execution": {
     "iopub.execute_input": "2020-08-15T00:27:25.193331Z",
     "iopub.status.busy": "2020-08-15T00:27:25.192717Z",
     "iopub.status.idle": "2020-08-15T00:27:25.203055Z",
     "shell.execute_reply": "2020-08-15T00:27:25.203557Z"
    },
    "papermill": {
     "duration": 0.047844,
     "end_time": "2020-08-15T00:27:25.203695",
     "exception": false,
     "start_time": "2020-08-15T00:27:25.155851",
     "status": "completed"
    },
    "tags": []
   },
   "outputs": [],
   "source": [
    "learner1 = Learner(loss, model_neural, opt, config.num_epochs)\n",
    "acc1 = ClfCallback(learner1, config.bs, training_xdata , testing_xdata, training_ydata, testing_ydata)\n",
    "learner1.set_callbacks([acc1])"
   ]
  },
  {
   "cell_type": "code",
   "execution_count": 21,
   "metadata": {
    "execution": {
     "iopub.execute_input": "2020-08-15T00:27:25.273767Z",
     "iopub.status.busy": "2020-08-15T00:27:25.273223Z",
     "iopub.status.idle": "2020-08-15T00:29:41.839824Z",
     "shell.execute_reply": "2020-08-15T00:29:41.840746Z"
    },
    "papermill": {
     "duration": 136.605317,
     "end_time": "2020-08-15T00:29:41.840929",
     "exception": false,
     "start_time": "2020-08-15T00:27:25.235612",
     "status": "completed"
    },
    "tags": []
   },
   "outputs": [
    {
     "name": "stdout",
     "output_type": "stream",
     "text": [
      "Epoch 0 Loss 0.2217756219190365\n",
      "train accuracy is: 0.7614755466533133, test accuracy is 0.7711693548387096\n"
     ]
    },
    {
     "name": "stdout",
     "output_type": "stream",
     "text": [
      "Epoch 10 Loss 0.08022369667173662\n",
      "train accuracy is: 0.9222166583208146, test accuracy is 0.9314516129032258\n"
     ]
    },
    {
     "name": "stdout",
     "output_type": "stream",
     "text": [
      "Epoch 20 Loss 0.052335294142029046\n",
      "train accuracy is: 0.9465030879652813, test accuracy is 0.954133064516129\n"
     ]
    },
    {
     "name": "stdout",
     "output_type": "stream",
     "text": [
      "Epoch 30 Loss 0.042162971281596726\n",
      "train accuracy is: 0.9538474378234018, test accuracy is 0.9616935483870968\n"
     ]
    },
    {
     "name": "stdout",
     "output_type": "stream",
     "text": [
      "Epoch 40 Loss 0.036892874316805914\n",
      "train accuracy is: 0.9591887831747622, test accuracy is 0.9667338709677419\n"
     ]
    },
    {
     "name": "stdout",
     "output_type": "stream",
     "text": [
      "Epoch 50 Loss 0.0335707209399182\n",
      "train accuracy is: 0.9615256217659823, test accuracy is 0.9682459677419355\n"
     ]
    },
    {
     "name": "stdout",
     "output_type": "stream",
     "text": [
      "Epoch 60 Loss 0.0312330643481317\n",
      "train accuracy is: 0.9641962944416625, test accuracy is 0.9692540322580645\n"
     ]
    },
    {
     "name": "stdout",
     "output_type": "stream",
     "text": [
      "Epoch 70 Loss 0.029462445051453505\n",
      "train accuracy is: 0.9663662159906526, test accuracy is 0.9707661290322581\n"
     ]
    },
    {
     "name": "stdout",
     "output_type": "stream",
     "text": [
      "Epoch 80 Loss 0.028061885436360113\n",
      "train accuracy is: 0.9674511767651477, test accuracy is 0.9717741935483871\n"
     ]
    },
    {
     "name": "stdout",
     "output_type": "stream",
     "text": [
      "Epoch 90 Loss 0.026900158402065916\n",
      "train accuracy is: 0.9691203471874479, test accuracy is 0.9707661290322581\n"
     ]
    },
    {
     "name": "stdout",
     "output_type": "stream",
     "text": [
      "Epoch 100 Loss 0.025928660412106536\n",
      "train accuracy is: 0.970288766483058, test accuracy is 0.9712701612903226\n"
     ]
    },
    {
     "name": "stdout",
     "output_type": "stream",
     "text": [
      "Epoch 110 Loss 0.025074711591695997\n",
      "train accuracy is: 0.971039893173093, test accuracy is 0.9707661290322581\n"
     ]
    },
    {
     "name": "stdout",
     "output_type": "stream",
     "text": [
      "Epoch 120 Loss 0.0243320503561446\n",
      "train accuracy is: 0.971957936905358, test accuracy is 0.9722782258064516\n"
     ]
    },
    {
     "name": "stdout",
     "output_type": "stream",
     "text": [
      "Epoch 130 Loss 0.02365451397155088\n",
      "train accuracy is: 0.9727090635953931, test accuracy is 0.9717741935483871\n"
     ]
    },
    {
     "name": "stdout",
     "output_type": "stream",
     "text": [
      "Epoch 140 Loss 0.023039736540221237\n",
      "train accuracy is: 0.9735436488065431, test accuracy is 0.9717741935483871\n"
     ]
    },
    {
     "name": "stdout",
     "output_type": "stream",
     "text": [
      "Epoch 150 Loss 0.022465408202455253\n",
      "train accuracy is: 0.9743782340176932, test accuracy is 0.9712701612903226\n"
     ]
    },
    {
     "name": "stdout",
     "output_type": "stream",
     "text": [
      "Epoch 160 Loss 0.021932627632055193\n",
      "train accuracy is: 0.9754631947921882, test accuracy is 0.9722782258064516\n"
     ]
    },
    {
     "name": "stdout",
     "output_type": "stream",
     "text": [
      "Epoch 170 Loss 0.021434353496185773\n",
      "train accuracy is: 0.9760474044399933, test accuracy is 0.9722782258064516\n"
     ]
    },
    {
     "name": "stdout",
     "output_type": "stream",
     "text": [
      "Epoch 180 Loss 0.020959828452889816\n",
      "train accuracy is: 0.9763812385244534, test accuracy is 0.9727822580645161\n"
     ]
    },
    {
     "name": "stdout",
     "output_type": "stream",
     "text": [
      "Epoch 190 Loss 0.020513943116155665\n",
      "train accuracy is: 0.9768819896511434, test accuracy is 0.9727822580645161\n"
     ]
    },
    {
     "name": "stdout",
     "output_type": "stream",
     "text": [
      "Epoch 200 Loss 0.020087429648220505\n",
      "train accuracy is: 0.9776331163411784, test accuracy is 0.9732862903225806\n"
     ]
    },
    {
     "name": "stdout",
     "output_type": "stream",
     "text": [
      "Epoch 210 Loss 0.019694601718675514\n",
      "train accuracy is: 0.9782173259889835, test accuracy is 0.9732862903225806\n"
     ]
    },
    {
     "name": "stdout",
     "output_type": "stream",
     "text": [
      "Epoch 220 Loss 0.019304883086048892\n",
      "train accuracy is: 0.9791353697212486, test accuracy is 0.9737903225806451\n"
     ]
    },
    {
     "name": "stdout",
     "output_type": "stream",
     "text": [
      "Epoch 230 Loss 0.018935539642407188\n",
      "train accuracy is: 0.9797195793690536, test accuracy is 0.9732862903225806\n"
     ]
    },
    {
     "name": "stdout",
     "output_type": "stream",
     "text": [
      "Epoch 240 Loss 0.01858045441638737\n",
      "train accuracy is: 0.9801368719746286, test accuracy is 0.9742943548387096\n"
     ]
    },
    {
     "data": {
      "text/plain": [
       "0.006262562057950097"
      ]
     },
     "execution_count": 21,
     "metadata": {},
     "output_type": "execute_result"
    }
   ],
   "source": [
    "learner1.train_loop(dl)"
   ]
  },
  {
   "cell_type": "markdown",
   "metadata": {
    "papermill": {
     "duration": 0.041538,
     "end_time": "2020-08-15T00:29:41.923393",
     "exception": false,
     "start_time": "2020-08-15T00:29:41.881855",
     "status": "completed"
    },
    "tags": []
   },
   "source": [
    "##### Now running only the logistic regression based classification to compare results with NN"
   ]
  },
  {
   "cell_type": "code",
   "execution_count": 22,
   "metadata": {
    "execution": {
     "iopub.execute_input": "2020-08-15T00:29:42.015794Z",
     "iopub.status.busy": "2020-08-15T00:29:42.015114Z",
     "iopub.status.idle": "2020-08-15T00:29:42.029023Z",
     "shell.execute_reply": "2020-08-15T00:29:42.028448Z"
    },
    "papermill": {
     "duration": 0.062607,
     "end_time": "2020-08-15T00:29:42.029178",
     "exception": false,
     "start_time": "2020-08-15T00:29:41.966571",
     "status": "completed"
    },
    "tags": []
   },
   "outputs": [],
   "source": [
    "learner2 = Learner(loss, model_logistic, opt, config.num_epochs)\n",
    "acc2 = ClfCallback(learner2, config.bs, training_xdata , testing_xdata, training_ydata, testing_ydata)\n",
    "learner2.set_callbacks([acc2])"
   ]
  },
  {
   "cell_type": "code",
   "execution_count": 23,
   "metadata": {
    "execution": {
     "iopub.execute_input": "2020-08-15T00:29:42.127390Z",
     "iopub.status.busy": "2020-08-15T00:29:42.126742Z",
     "iopub.status.idle": "2020-08-15T00:30:02.237530Z",
     "shell.execute_reply": "2020-08-15T00:30:02.238310Z"
    },
    "papermill": {
     "duration": 20.160468,
     "end_time": "2020-08-15T00:30:02.238464",
     "exception": false,
     "start_time": "2020-08-15T00:29:42.077996",
     "status": "completed"
    },
    "tags": []
   },
   "outputs": [
    {
     "name": "stdout",
     "output_type": "stream",
     "text": [
      "Epoch 0 Loss 0.23051178549392018\n",
      "train accuracy is: 0.714822233350025, test accuracy is 0.7217741935483871\n"
     ]
    },
    {
     "name": "stdout",
     "output_type": "stream",
     "text": [
      "Epoch 10 Loss 0.1041274377424143\n",
      "train accuracy is: 0.9030211984643632, test accuracy is 0.9107862903225806\n"
     ]
    },
    {
     "name": "stdout",
     "output_type": "stream",
     "text": [
      "Epoch 20 Loss 0.07969779543175226\n",
      "train accuracy is: 0.9258888332498748, test accuracy is 0.9354838709677419\n"
     ]
    },
    {
     "name": "stdout",
     "output_type": "stream",
     "text": [
      "Epoch 30 Loss 0.0683559956857523\n",
      "train accuracy is: 0.9362376898681355, test accuracy is 0.9430443548387096\n"
     ]
    },
    {
     "name": "stdout",
     "output_type": "stream",
     "text": [
      "Epoch 40 Loss 0.061574399344275034\n",
      "train accuracy is: 0.9429978300784511, test accuracy is 0.9501008064516129\n"
     ]
    },
    {
     "name": "stdout",
     "output_type": "stream",
     "text": [
      "Epoch 50 Loss 0.056984208769387396\n",
      "train accuracy is: 0.9465865464863963, test accuracy is 0.954133064516129\n"
     ]
    },
    {
     "name": "stdout",
     "output_type": "stream",
     "text": [
      "Epoch 60 Loss 0.053635097848524646\n",
      "train accuracy is: 0.9487564680353864, test accuracy is 0.9551411290322581\n"
     ]
    },
    {
     "name": "stdout",
     "output_type": "stream",
     "text": [
      "Epoch 70 Loss 0.051063049573436145\n",
      "train accuracy is: 0.9505090969788015, test accuracy is 0.9571572580645161\n"
     ]
    },
    {
     "name": "stdout",
     "output_type": "stream",
     "text": [
      "Epoch 80 Loss 0.04901165465892263\n",
      "train accuracy is: 0.9516775162744117, test accuracy is 0.9576612903225806\n"
     ]
    },
    {
     "name": "stdout",
     "output_type": "stream",
     "text": [
      "Epoch 90 Loss 0.04732759423288144\n",
      "train accuracy is: 0.9535136037389418, test accuracy is 0.9601814516129032\n"
     ]
    },
    {
     "name": "stdout",
     "output_type": "stream",
     "text": [
      "Epoch 100 Loss 0.04591285262340436\n",
      "train accuracy is: 0.9543481889500918, test accuracy is 0.9611895161290323\n"
     ]
    },
    {
     "name": "stdout",
     "output_type": "stream",
     "text": [
      "Epoch 110 Loss 0.04470335886904554\n",
      "train accuracy is: 0.9553496912034719, test accuracy is 0.9627016129032258\n"
     ]
    },
    {
     "name": "stdout",
     "output_type": "stream",
     "text": [
      "Epoch 120 Loss 0.043652923549006774\n",
      "train accuracy is: 0.9561842764146219, test accuracy is 0.9621975806451613\n"
     ]
    },
    {
     "name": "stdout",
     "output_type": "stream",
     "text": [
      "Epoch 130 Loss 0.042731037643152774\n",
      "train accuracy is: 0.9567684860624269, test accuracy is 0.9627016129032258\n"
     ]
    },
    {
     "name": "stdout",
     "output_type": "stream",
     "text": [
      "Epoch 140 Loss 0.041910971378428516\n",
      "train accuracy is: 0.957185778668002, test accuracy is 0.9632056451612904\n"
     ]
    },
    {
     "name": "stdout",
     "output_type": "stream",
     "text": [
      "Epoch 150 Loss 0.04117610485154637\n",
      "train accuracy is: 0.957603071273577, test accuracy is 0.9632056451612904\n"
     ]
    },
    {
     "name": "stdout",
     "output_type": "stream",
     "text": [
      "Epoch 160 Loss 0.04051260917477139\n",
      "train accuracy is: 0.9584376564847271, test accuracy is 0.9637096774193549\n"
     ]
    },
    {
     "name": "stdout",
     "output_type": "stream",
     "text": [
      "Epoch 170 Loss 0.03990854091468005\n",
      "train accuracy is: 0.9584376564847271, test accuracy is 0.9637096774193549\n"
     ]
    },
    {
     "name": "stdout",
     "output_type": "stream",
     "text": [
      "Epoch 180 Loss 0.03935631170086168\n",
      "train accuracy is: 0.9591887831747622, test accuracy is 0.9632056451612904\n"
     ]
    },
    {
     "name": "stdout",
     "output_type": "stream",
     "text": [
      "Epoch 190 Loss 0.03884826244485665\n",
      "train accuracy is: 0.9595226172592222, test accuracy is 0.9637096774193549\n"
     ]
    },
    {
     "name": "stdout",
     "output_type": "stream",
     "text": [
      "Epoch 200 Loss 0.03837828486476876\n",
      "train accuracy is: 0.9600233683859122, test accuracy is 0.9637096774193549\n"
     ]
    },
    {
     "name": "stdout",
     "output_type": "stream",
     "text": [
      "Epoch 210 Loss 0.037942711265662565\n",
      "train accuracy is: 0.9602737439492572, test accuracy is 0.9642137096774194\n"
     ]
    },
    {
     "name": "stdout",
     "output_type": "stream",
     "text": [
      "Epoch 220 Loss 0.03753612638328378\n",
      "train accuracy is: 0.9605241195126022, test accuracy is 0.9647177419354839\n"
     ]
    },
    {
     "name": "stdout",
     "output_type": "stream",
     "text": [
      "Epoch 230 Loss 0.037156522955863906\n",
      "train accuracy is: 0.9611917876815222, test accuracy is 0.9647177419354839\n"
     ]
    },
    {
     "name": "stdout",
     "output_type": "stream",
     "text": [
      "Epoch 240 Loss 0.036801058557830196\n",
      "train accuracy is: 0.9613587047237523, test accuracy is 0.9647177419354839\n"
     ]
    },
    {
     "data": {
      "text/plain": [
       "0.03307153784348908"
      ]
     },
     "execution_count": 23,
     "metadata": {},
     "output_type": "execute_result"
    }
   ],
   "source": [
    "learner2.train_loop(dl)"
   ]
  },
  {
   "cell_type": "markdown",
   "metadata": {
    "papermill": {
     "duration": 0.047317,
     "end_time": "2020-08-15T00:30:02.347566",
     "exception": false,
     "start_time": "2020-08-15T00:30:02.300249",
     "status": "completed"
    },
    "tags": []
   },
   "source": [
    "### Comparing results of NN and LR"
   ]
  },
  {
   "cell_type": "code",
   "execution_count": 24,
   "metadata": {
    "execution": {
     "iopub.execute_input": "2020-08-15T00:30:02.451544Z",
     "iopub.status.busy": "2020-08-15T00:30:02.450933Z",
     "iopub.status.idle": "2020-08-15T00:30:02.715693Z",
     "shell.execute_reply": "2020-08-15T00:30:02.714971Z"
    },
    "papermill": {
     "duration": 0.319773,
     "end_time": "2020-08-15T00:30:02.715858",
     "exception": false,
     "start_time": "2020-08-15T00:30:02.396085",
     "status": "completed"
    },
    "tags": []
   },
   "outputs": [
    {
     "data": {
      "text/plain": [
       "<matplotlib.legend.Legend at 0x7f338e5289e8>"
      ]
     },
     "execution_count": 24,
     "metadata": {},
     "output_type": "execute_result"
    },
    {
     "data": {
      "image/png": "[encoded data removed]",
      "text/plain": [
       "<Figure size 576x360 with 1 Axes>"
      ]
     },
     "metadata": {
      "needs_background": "light"
     },
     "output_type": "display_data"
    }
   ],
   "source": [
    "plt.figure(figsize=(8,5))\n",
    "plt.plot(acc1.val_accuracies, 'g-', label = \"Val Accuracies - NN\")\n",
    "plt.plot(acc1.accuracies, 'r-', label = \"Accuracies - NN\")\n",
    "plt.plot(acc2.val_accuracies, 'b-', label = \"Val Accuracies - Logistic Reg\")\n",
    "plt.plot(acc2.accuracies, 'k-', label = \"Accuracies - Logistic Reg\")\n",
    "plt.ylim(0.8,1) ## for a more spread out view\n",
    "plt.legend()"
   ]
  },
  {
   "cell_type": "markdown",
   "metadata": {
    "papermill": {
     "duration": 0.052483,
     "end_time": "2020-08-15T00:30:02.816770",
     "exception": false,
     "start_time": "2020-08-15T00:30:02.764287",
     "status": "completed"
    },
    "tags": []
   },
   "source": [
    "### Clearly NN has a better accuracy over LR; NN is overfitting - Validation accuracy (green) has dropped below training accuracy (orange), also they are diverging. This problem is not seen in LR"
   ]
  },
  {
   "cell_type": "markdown",
   "metadata": {
    "papermill": {
     "duration": 0.044526,
     "end_time": "2020-08-15T00:30:02.906938",
     "exception": false,
     "start_time": "2020-08-15T00:30:02.862412",
     "status": "completed"
    },
    "tags": []
   },
   "source": [
    "##### Now we will be moving through the network, till the output of the second last affine where we get a 2 dimensional output. We will be plotting this 2d output and probability contours"
   ]
  },
  {
   "cell_type": "code",
   "execution_count": 25,
   "metadata": {
    "execution": {
     "iopub.execute_input": "2020-08-15T00:30:03.008941Z",
     "iopub.status.busy": "2020-08-15T00:30:03.008146Z",
     "iopub.status.idle": "2020-08-15T00:30:03.020674Z",
     "shell.execute_reply": "2020-08-15T00:30:03.021315Z"
    },
    "papermill": {
     "duration": 0.069357,
     "end_time": "2020-08-15T00:30:03.021496",
     "exception": false,
     "start_time": "2020-08-15T00:30:02.952139",
     "status": "completed"
    },
    "tags": []
   },
   "outputs": [],
   "source": [
    "model_new = Model(layers[:-2])"
   ]
  },
  {
   "cell_type": "code",
   "execution_count": 26,
   "metadata": {
    "execution": {
     "iopub.execute_input": "2020-08-15T00:30:03.138826Z",
     "iopub.status.busy": "2020-08-15T00:30:03.138213Z",
     "iopub.status.idle": "2020-08-15T00:30:03.160287Z",
     "shell.execute_reply": "2020-08-15T00:30:03.160941Z"
    },
    "papermill": {
     "duration": 0.084573,
     "end_time": "2020-08-15T00:30:03.161130",
     "exception": false,
     "start_time": "2020-08-15T00:30:03.076557",
     "status": "completed"
    },
    "tags": []
   },
   "outputs": [],
   "source": [
    "plot_testing = model_new(testing_xdata)"
   ]
  },
  {
   "cell_type": "markdown",
   "metadata": {
    "papermill": {
     "duration": 0.069815,
     "end_time": "2020-08-15T00:30:03.278772",
     "exception": false,
     "start_time": "2020-08-15T00:30:03.208957",
     "status": "completed"
    },
    "tags": []
   },
   "source": [
    "##### Plotting the scatter plot of points and color coding by class"
   ]
  },
  {
   "cell_type": "code",
   "execution_count": 27,
   "metadata": {
    "execution": {
     "iopub.execute_input": "2020-08-15T00:30:03.385960Z",
     "iopub.status.busy": "2020-08-15T00:30:03.385374Z",
     "iopub.status.idle": "2020-08-15T00:30:03.589643Z",
     "shell.execute_reply": "2020-08-15T00:30:03.590245Z"
    },
    "papermill": {
     "duration": 0.258799,
     "end_time": "2020-08-15T00:30:03.590728",
     "exception": false,
     "start_time": "2020-08-15T00:30:03.331929",
     "status": "completed"
    },
    "tags": []
   },
   "outputs": [
    {
     "data": {
      "image/png": "[encoded data removed]",
      "text/plain": [
       "<Figure size 576x504 with 1 Axes>"
      ]
     },
     "metadata": {
      "needs_background": "light"
     },
     "output_type": "display_data"
    }
   ],
   "source": [
    "plt.figure(figsize=(8,7))\n",
    "plt.scatter(plot_testing[:,0], plot_testing[:,1], alpha = 0.1, c = y_test.ravel());"
   ]
  },
  {
   "cell_type": "markdown",
   "metadata": {
    "papermill": {
     "duration": 0.052072,
     "end_time": "2020-08-15T00:30:03.694088",
     "exception": false,
     "start_time": "2020-08-15T00:30:03.642016",
     "status": "completed"
    },
    "tags": []
   },
   "source": [
    "##### Plotting probability contours"
   ]
  },
  {
   "cell_type": "code",
   "execution_count": 28,
   "metadata": {
    "execution": {
     "iopub.execute_input": "2020-08-15T00:30:03.809105Z",
     "iopub.status.busy": "2020-08-15T00:30:03.803504Z",
     "iopub.status.idle": "2020-08-15T00:30:03.816248Z",
     "shell.execute_reply": "2020-08-15T00:30:03.816849Z"
    },
    "papermill": {
     "duration": 0.071696,
     "end_time": "2020-08-15T00:30:03.817029",
     "exception": false,
     "start_time": "2020-08-15T00:30:03.745333",
     "status": "completed"
    },
    "tags": []
   },
   "outputs": [],
   "source": [
    "model_prob = Model(layers[-2:]) ## picking only last two layers to get probability. That is affine followed by sigmoid"
   ]
  },
  {
   "cell_type": "code",
   "execution_count": 29,
   "metadata": {
    "execution": {
     "iopub.execute_input": "2020-08-15T00:30:03.922962Z",
     "iopub.status.busy": "2020-08-15T00:30:03.922196Z",
     "iopub.status.idle": "2020-08-15T00:30:03.937777Z",
     "shell.execute_reply": "2020-08-15T00:30:03.938337Z"
    },
    "papermill": {
     "duration": 0.07159,
     "end_time": "2020-08-15T00:30:03.938524",
     "exception": false,
     "start_time": "2020-08-15T00:30:03.866934",
     "status": "completed"
    },
    "tags": []
   },
   "outputs": [],
   "source": [
    "xgrid = np.linspace(-4, 1, 100) ## Adjust these values based on above chart, roughly -4 to 1\n",
    "ygrid = np.linspace(-7.5, 7.5, 100) ## Adjust these values based on above chart, roughly -7.5, 7.5\n",
    "xg, yg = np.meshgrid(xgrid, ygrid)\n",
    "# xg and yg are now both 100X100, lets convert them to single arrays \n",
    "\n",
    "xg_interim = np.ravel(xg)\n",
    "yg_interim = np.ravel(yg)\n",
    "\n",
    "## xg_interim, yg_interim are now arrays of len 10000, now we will stack them and then transpose to get desired shape of n rows, 2 columns\n",
    "\n",
    "X_interim = np.vstack((xg_interim, yg_interim)) ## Please note vstack takes in a tuple\n",
    "X = X_interim.T\n",
    "\n",
    "## We want a shape of n rows and 2 columns to be able to feed this to last affine\n",
    "## This last affine takes only two columns, hence the above transformation\n",
    "probability_contour = model_prob(X).reshape(100,100) ## to make it consistent with xg, yg"
   ]
  },
  {
   "cell_type": "code",
   "execution_count": 30,
   "metadata": {
    "execution": {
     "iopub.execute_input": "2020-08-15T00:30:04.052359Z",
     "iopub.status.busy": "2020-08-15T00:30:04.051690Z",
     "iopub.status.idle": "2020-08-15T00:30:04.315669Z",
     "shell.execute_reply": "2020-08-15T00:30:04.316143Z"
    },
    "papermill": {
     "duration": 0.323113,
     "end_time": "2020-08-15T00:30:04.316298",
     "exception": false,
     "start_time": "2020-08-15T00:30:03.993185",
     "status": "completed"
    },
    "tags": []
   },
   "outputs": [
    {
     "data": {
      "image/png": "[encoded data removed]",
      "text/plain": [
       "<Figure size 576x504 with 1 Axes>"
      ]
     },
     "metadata": {
      "needs_background": "light"
     },
     "output_type": "display_data"
    }
   ],
   "source": [
    "plt.figure(figsize=(8,7))\n",
    "plt.scatter(plot_testing[:,0], plot_testing[:,1], alpha = 0.1, c = y_test.ravel())\n",
    "contours = plt.contour(xg,yg,probability_contour)\n",
    "plt.clabel(contours, inline = True );"
   ]
  }
 ],
 "metadata": {
  "kernelspec": {
   "display_name": "Python 3",
   "language": "python",
   "name": "python3"
  },
  "language_info": {
   "codemirror_mode": {
    "name": "ipython",
    "version": 3
   },
   "file_extension": ".py",
   "mimetype": "text/x-python",
   "name": "python",
   "nbconvert_exporter": "python",
   "pygments_lexer": "ipython3",
   "version": "3.6.11"
  },
  "papermill": {
   "duration": 167.968867,
   "end_time": "2020-08-15T00:30:04.673859",
   "environment_variables": {},
   "exception": null,
   "input_path": "2020-08-07-NN-new.ipynb",
   "output_path": "2020-08-07-NN-new.ipynb",
   "parameters": {},
   "start_time": "2020-08-15T00:27:16.704992",
   "version": "2.1.2"
  }
 },
 "nbformat": 4,
 "nbformat_minor": 4
}