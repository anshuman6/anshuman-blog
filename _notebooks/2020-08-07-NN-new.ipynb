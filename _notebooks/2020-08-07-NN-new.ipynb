{
 "cells": [
  {
   "cell_type": "markdown",
   "metadata": {
    "papermill": {
     "duration": 0.031408,
     "end_time": "2020-08-22T20:12:29.323990",
     "exception": false,
     "start_time": "2020-08-22T20:12:29.292582",
     "status": "completed"
    },
    "tags": []
   },
   "source": [
    "# \"Building a basic Neural Network from scratch - Kudzu\"\n",
    "\n",
    "- badges: true\n",
    "- author: Anshuman Gupta"
   ]
  },
  {
   "cell_type": "markdown",
   "metadata": {
    "papermill": {
     "duration": 0.025202,
     "end_time": "2020-08-22T20:12:29.373591",
     "exception": false,
     "start_time": "2020-08-22T20:12:29.348389",
     "status": "completed"
    },
    "tags": []
   },
   "source": [
    "#### In this project, the idea is to write a classifier to differentiate between handwritten digits 3 and 8, from the MNIST database.\n",
    "\n",
    "#### I will using a custom built neural network library called Kudzu.This has been developed as a part of KTF/Foundations course of Univ.ai (www.univ.ai). The source code for Kudzu Library and and this notebook can be found on my git-hub profile : www.https://github.com/anshuman6 under the folder project-solution. Any feedback and comments are welcome. Please feel free to email me at: anshuman6@gmail.com\n",
    "\n",
    "#### 1. I will be using the MNIST database. \n",
    "\n",
    "#### 2. I will be comparing the results of the 4 layer NN to a standard logistic regression"
   ]
  },
  {
   "cell_type": "markdown",
   "metadata": {
    "papermill": {
     "duration": 0.024632,
     "end_time": "2020-08-22T20:12:29.423332",
     "exception": false,
     "start_time": "2020-08-22T20:12:29.398700",
     "status": "completed"
    },
    "tags": []
   },
   "source": [
    "##### Importing all the necessary libraries"
   ]
  },
  {
   "cell_type": "code",
   "execution_count": 1,
   "metadata": {
    "execution": {
     "iopub.execute_input": "2020-08-22T20:12:29.482311Z",
     "iopub.status.busy": "2020-08-22T20:12:29.481759Z",
     "iopub.status.idle": "2020-08-22T20:12:29.496846Z",
     "shell.execute_reply": "2020-08-22T20:12:29.494551Z"
    },
    "papermill": {
     "duration": 0.047599,
     "end_time": "2020-08-22T20:12:29.497595",
     "exception": false,
     "start_time": "2020-08-22T20:12:29.449996",
     "status": "completed"
    },
    "tags": []
   },
   "outputs": [],
   "source": [
    "%load_ext autoreload\n",
    "%autoreload 2"
   ]
  },
  {
   "cell_type": "code",
   "execution_count": 2,
   "metadata": {
    "execution": {
     "iopub.execute_input": "2020-08-22T20:12:29.557578Z",
     "iopub.status.busy": "2020-08-22T20:12:29.556967Z",
     "iopub.status.idle": "2020-08-22T20:12:30.089647Z",
     "shell.execute_reply": "2020-08-22T20:12:30.090221Z"
    },
    "papermill": {
     "duration": 0.567416,
     "end_time": "2020-08-22T20:12:30.090412",
     "exception": false,
     "start_time": "2020-08-22T20:12:29.522996",
     "status": "completed"
    },
    "tags": []
   },
   "outputs": [],
   "source": [
    "%matplotlib inline\n",
    "import numpy as np\n",
    "import matplotlib.pyplot as plt\n",
    "import pandas as pd"
   ]
  },
  {
   "cell_type": "markdown",
   "metadata": {
    "papermill": {
     "duration": 0.02585,
     "end_time": "2020-08-22T20:12:30.145658",
     "exception": false,
     "start_time": "2020-08-22T20:12:30.119808",
     "status": "completed"
    },
    "tags": []
   },
   "source": [
    "##### The following command helps us download MNIST from notebook itself. You can skip this if you already have MNIST. You can also download it via your terminal."
   ]
  },
  {
   "cell_type": "code",
   "execution_count": 3,
   "metadata": {
    "execution": {
     "iopub.execute_input": "2020-08-22T20:12:30.217124Z",
     "iopub.status.busy": "2020-08-22T20:12:30.216500Z",
     "iopub.status.idle": "2020-08-22T20:12:31.601175Z",
     "shell.execute_reply": "2020-08-22T20:12:31.602019Z"
    },
    "papermill": {
     "duration": 1.428788,
     "end_time": "2020-08-22T20:12:31.602268",
     "exception": false,
     "start_time": "2020-08-22T20:12:30.173480",
     "status": "completed"
    },
    "tags": []
   },
   "outputs": [
    {
     "name": "stdout",
     "output_type": "stream",
     "text": [
      "Collecting mnist\r\n"
     ]
    },
    {
     "name": "stdout",
     "output_type": "stream",
     "text": [
      "  Downloading mnist-0.2.2-py2.py3-none-any.whl (3.5 kB)\r\n",
      "Requirement already satisfied: numpy in /opt/hostedtoolcache/Python/3.6.11/x64/lib/python3.6/site-packages (from mnist) (1.19.1)\r\n"
     ]
    },
    {
     "name": "stdout",
     "output_type": "stream",
     "text": [
      "Installing collected packages: mnist\r\n",
      "Successfully installed mnist-0.2.2\r\n"
     ]
    }
   ],
   "source": [
    "!pip install mnist # Please note, it is commented out for now, you can remove comment if you want to install it"
   ]
  },
  {
   "cell_type": "markdown",
   "metadata": {
    "papermill": {
     "duration": 0.02812,
     "end_time": "2020-08-22T20:12:31.660203",
     "exception": false,
     "start_time": "2020-08-22T20:12:31.632083",
     "status": "completed"
    },
    "tags": []
   },
   "source": [
    "#### Preparing the Data"
   ]
  },
  {
   "cell_type": "code",
   "execution_count": 4,
   "metadata": {
    "execution": {
     "iopub.execute_input": "2020-08-22T20:12:31.718608Z",
     "iopub.status.busy": "2020-08-22T20:12:31.718033Z",
     "iopub.status.idle": "2020-08-22T20:12:31.734004Z",
     "shell.execute_reply": "2020-08-22T20:12:31.733505Z"
    },
    "papermill": {
     "duration": 0.046768,
     "end_time": "2020-08-22T20:12:31.734125",
     "exception": false,
     "start_time": "2020-08-22T20:12:31.687357",
     "status": "completed"
    },
    "tags": []
   },
   "outputs": [],
   "source": [
    "import mnist"
   ]
  },
  {
   "cell_type": "code",
   "execution_count": 5,
   "metadata": {
    "execution": {
     "iopub.execute_input": "2020-08-22T20:12:31.800638Z",
     "iopub.status.busy": "2020-08-22T20:12:31.792805Z",
     "iopub.status.idle": "2020-08-22T20:12:33.397183Z",
     "shell.execute_reply": "2020-08-22T20:12:33.397640Z"
    },
    "papermill": {
     "duration": 1.636009,
     "end_time": "2020-08-22T20:12:33.397777",
     "exception": false,
     "start_time": "2020-08-22T20:12:31.761768",
     "status": "completed"
    },
    "tags": []
   },
   "outputs": [],
   "source": [
    "train_images = mnist.train_images()\n",
    "train_labels = mnist.train_labels()"
   ]
  },
  {
   "cell_type": "code",
   "execution_count": 6,
   "metadata": {
    "execution": {
     "iopub.execute_input": "2020-08-22T20:12:33.457205Z",
     "iopub.status.busy": "2020-08-22T20:12:33.456725Z",
     "iopub.status.idle": "2020-08-22T20:12:33.473274Z",
     "shell.execute_reply": "2020-08-22T20:12:33.472816Z"
    },
    "papermill": {
     "duration": 0.047833,
     "end_time": "2020-08-22T20:12:33.473395",
     "exception": false,
     "start_time": "2020-08-22T20:12:33.425562",
     "status": "completed"
    },
    "tags": []
   },
   "outputs": [
    {
     "data": {
      "text/plain": [
       "((60000, 28, 28), (60000,))"
      ]
     },
     "execution_count": 6,
     "metadata": {},
     "output_type": "execute_result"
    }
   ],
   "source": [
    "train_images.shape, train_labels.shape"
   ]
  },
  {
   "cell_type": "code",
   "execution_count": 7,
   "metadata": {
    "execution": {
     "iopub.execute_input": "2020-08-22T20:12:33.530607Z",
     "iopub.status.busy": "2020-08-22T20:12:33.530074Z",
     "iopub.status.idle": "2020-08-22T20:12:34.366463Z",
     "shell.execute_reply": "2020-08-22T20:12:34.365945Z"
    },
    "papermill": {
     "duration": 0.866526,
     "end_time": "2020-08-22T20:12:34.366596",
     "exception": false,
     "start_time": "2020-08-22T20:12:33.500070",
     "status": "completed"
    },
    "tags": []
   },
   "outputs": [],
   "source": [
    "test_images = mnist.test_images()\n",
    "test_labels = mnist.test_labels()"
   ]
  },
  {
   "cell_type": "code",
   "execution_count": 8,
   "metadata": {
    "execution": {
     "iopub.execute_input": "2020-08-22T20:12:34.430886Z",
     "iopub.status.busy": "2020-08-22T20:12:34.430352Z",
     "iopub.status.idle": "2020-08-22T20:12:34.445334Z",
     "shell.execute_reply": "2020-08-22T20:12:34.444873Z"
    },
    "papermill": {
     "duration": 0.048507,
     "end_time": "2020-08-22T20:12:34.445451",
     "exception": false,
     "start_time": "2020-08-22T20:12:34.396944",
     "status": "completed"
    },
    "tags": []
   },
   "outputs": [
    {
     "data": {
      "text/plain": [
       "((10000, 28, 28), (10000,))"
      ]
     },
     "execution_count": 8,
     "metadata": {},
     "output_type": "execute_result"
    }
   ],
   "source": [
    "test_images.shape, test_labels.shape"
   ]
  },
  {
   "cell_type": "code",
   "execution_count": 9,
   "metadata": {
    "execution": {
     "iopub.execute_input": "2020-08-22T20:12:34.505187Z",
     "iopub.status.busy": "2020-08-22T20:12:34.504630Z",
     "iopub.status.idle": "2020-08-22T20:12:34.648941Z",
     "shell.execute_reply": "2020-08-22T20:12:34.648434Z"
    },
    "papermill": {
     "duration": 0.177191,
     "end_time": "2020-08-22T20:12:34.649066",
     "exception": false,
     "start_time": "2020-08-22T20:12:34.471875",
     "status": "completed"
    },
    "tags": []
   },
   "outputs": [
    {
     "name": "stdout",
     "output_type": "stream",
     "text": [
      "2\n"
     ]
    },
    {
     "data": {
      "text/plain": [
       "<matplotlib.image.AxesImage at 0x7f7198f830f0>"
      ]
     },
     "execution_count": 9,
     "metadata": {},
     "output_type": "execute_result"
    },
    {
     "data": {
      "image/png": "[encoded data removed]",
      "text/plain": [
       "<Figure size 432x288 with 1 Axes>"
      ]
     },
     "metadata": {
      "needs_background": "light"
     },
     "output_type": "display_data"
    }
   ],
   "source": [
    "image_index = 7776 # You may select anything up to 60,000\n",
    "print(train_labels[image_index]) \n",
    "plt.imshow(train_images[image_index], cmap='Greys')"
   ]
  },
  {
   "cell_type": "markdown",
   "metadata": {
    "papermill": {
     "duration": 0.028312,
     "end_time": "2020-08-22T20:12:34.706328",
     "exception": false,
     "start_time": "2020-08-22T20:12:34.678016",
     "status": "completed"
    },
    "tags": []
   },
   "source": [
    "## Filter data to get 3 and 8 out"
   ]
  },
  {
   "cell_type": "code",
   "execution_count": 10,
   "metadata": {
    "execution": {
     "iopub.execute_input": "2020-08-22T20:12:34.766966Z",
     "iopub.status.busy": "2020-08-22T20:12:34.766423Z",
     "iopub.status.idle": "2020-08-22T20:12:34.786313Z",
     "shell.execute_reply": "2020-08-22T20:12:34.786892Z"
    },
    "papermill": {
     "duration": 0.053287,
     "end_time": "2020-08-22T20:12:34.787065",
     "exception": false,
     "start_time": "2020-08-22T20:12:34.733778",
     "status": "completed"
    },
    "tags": []
   },
   "outputs": [],
   "source": [
    "train_filter = np.where((train_labels == 3 ) | (train_labels == 8))\n",
    "test_filter = np.where((test_labels == 3) | (test_labels == 8))\n",
    "X_train, y_train = train_images[train_filter], train_labels[train_filter]\n",
    "X_test, y_test = test_images[test_filter], test_labels[test_filter]"
   ]
  },
  {
   "cell_type": "markdown",
   "metadata": {
    "papermill": {
     "duration": 0.026718,
     "end_time": "2020-08-22T20:12:34.841986",
     "exception": false,
     "start_time": "2020-08-22T20:12:34.815268",
     "status": "completed"
    },
    "tags": []
   },
   "source": [
    "##### We normalize the pizel values in the 0 to 1 range"
   ]
  },
  {
   "cell_type": "code",
   "execution_count": 11,
   "metadata": {
    "execution": {
     "iopub.execute_input": "2020-08-22T20:12:34.899238Z",
     "iopub.status.busy": "2020-08-22T20:12:34.898706Z",
     "iopub.status.idle": "2020-08-22T20:12:34.952039Z",
     "shell.execute_reply": "2020-08-22T20:12:34.951467Z"
    },
    "papermill": {
     "duration": 0.085785,
     "end_time": "2020-08-22T20:12:34.952178",
     "exception": false,
     "start_time": "2020-08-22T20:12:34.866393",
     "status": "completed"
    },
    "tags": []
   },
   "outputs": [],
   "source": [
    "X_train = X_train/255.\n",
    "X_test = X_test/255."
   ]
  },
  {
   "cell_type": "markdown",
   "metadata": {
    "papermill": {
     "duration": 0.026973,
     "end_time": "2020-08-22T20:12:35.005146",
     "exception": false,
     "start_time": "2020-08-22T20:12:34.978173",
     "status": "completed"
    },
    "tags": []
   },
   "source": [
    "And setup the labels as 1 (when the digit is 3) and 0 (when the digit is 8)"
   ]
  },
  {
   "cell_type": "code",
   "execution_count": 12,
   "metadata": {
    "execution": {
     "iopub.execute_input": "2020-08-22T20:12:35.064828Z",
     "iopub.status.busy": "2020-08-22T20:12:35.064241Z",
     "iopub.status.idle": "2020-08-22T20:12:35.076247Z",
     "shell.execute_reply": "2020-08-22T20:12:35.075770Z"
    },
    "papermill": {
     "duration": 0.044007,
     "end_time": "2020-08-22T20:12:35.076371",
     "exception": false,
     "start_time": "2020-08-22T20:12:35.032364",
     "status": "completed"
    },
    "tags": []
   },
   "outputs": [],
   "source": [
    "y_train = 1*(y_train==3)\n",
    "y_test = 1*(y_test==3)"
   ]
  },
  {
   "cell_type": "code",
   "execution_count": 13,
   "metadata": {
    "execution": {
     "iopub.execute_input": "2020-08-22T20:12:35.133051Z",
     "iopub.status.busy": "2020-08-22T20:12:35.132527Z",
     "iopub.status.idle": "2020-08-22T20:12:35.146620Z",
     "shell.execute_reply": "2020-08-22T20:12:35.146234Z"
    },
    "papermill": {
     "duration": 0.043266,
     "end_time": "2020-08-22T20:12:35.146725",
     "exception": false,
     "start_time": "2020-08-22T20:12:35.103459",
     "status": "completed"
    },
    "tags": []
   },
   "outputs": [
    {
     "data": {
      "text/plain": [
       "((11982, 28, 28), (1984, 28, 28))"
      ]
     },
     "execution_count": 13,
     "metadata": {},
     "output_type": "execute_result"
    }
   ],
   "source": [
    "X_train.shape, X_test.shape"
   ]
  },
  {
   "cell_type": "markdown",
   "metadata": {
    "papermill": {
     "duration": 0.028445,
     "end_time": "2020-08-22T20:12:35.203461",
     "exception": false,
     "start_time": "2020-08-22T20:12:35.175016",
     "status": "completed"
    },
    "tags": []
   },
   "source": [
    "##### We reshape the data to flatten the image pixels into a set of features or co-variates:"
   ]
  },
  {
   "cell_type": "code",
   "execution_count": 14,
   "metadata": {
    "execution": {
     "iopub.execute_input": "2020-08-22T20:12:35.264517Z",
     "iopub.status.busy": "2020-08-22T20:12:35.263968Z",
     "iopub.status.idle": "2020-08-22T20:12:35.277702Z",
     "shell.execute_reply": "2020-08-22T20:12:35.277296Z"
    },
    "papermill": {
     "duration": 0.046031,
     "end_time": "2020-08-22T20:12:35.277830",
     "exception": false,
     "start_time": "2020-08-22T20:12:35.231799",
     "status": "completed"
    },
    "tags": []
   },
   "outputs": [
    {
     "data": {
      "text/plain": [
       "((11982, 784), (1984, 784))"
      ]
     },
     "execution_count": 14,
     "metadata": {},
     "output_type": "execute_result"
    }
   ],
   "source": [
    "X_train = X_train.reshape(X_train.shape[0], -1)\n",
    "X_test = X_test.reshape(X_test.shape[0], -1)\n",
    "X_train.shape, X_test.shape"
   ]
  },
  {
   "cell_type": "markdown",
   "metadata": {
    "papermill": {
     "duration": 0.027359,
     "end_time": "2020-08-22T20:12:35.333340",
     "exception": false,
     "start_time": "2020-08-22T20:12:35.305981",
     "status": "completed"
    },
    "tags": []
   },
   "source": [
    "##### Importing Kudzu library and its functionality"
   ]
  },
  {
   "cell_type": "code",
   "execution_count": 15,
   "metadata": {
    "execution": {
     "iopub.execute_input": "2020-08-22T20:12:35.393138Z",
     "iopub.status.busy": "2020-08-22T20:12:35.392604Z",
     "iopub.status.idle": "2020-08-22T20:12:35.413235Z",
     "shell.execute_reply": "2020-08-22T20:12:35.412703Z"
    },
    "papermill": {
     "duration": 0.052641,
     "end_time": "2020-08-22T20:12:35.413367",
     "exception": false,
     "start_time": "2020-08-22T20:12:35.360726",
     "status": "completed"
    },
    "tags": []
   },
   "outputs": [],
   "source": [
    "from kudzu.data import Data, Dataloader, Sampler\n",
    "from kudzu.callbacks import AccCallback\n",
    "from kudzu.loss import MSE\n",
    "from kudzu.layer import Affine, Sigmoid\n",
    "from kudzu.model import Model\n",
    "from kudzu.optim import GD\n",
    "from kudzu.train import Learner\n",
    "from kudzu.callbacks import ClfCallback\n",
    "from kudzu.layer import Sigmoid\n",
    "from kudzu.layer import Relu"
   ]
  },
  {
   "cell_type": "markdown",
   "metadata": {
    "papermill": {
     "duration": 0.026454,
     "end_time": "2020-08-22T20:12:35.467170",
     "exception": false,
     "start_time": "2020-08-22T20:12:35.440716",
     "status": "completed"
    },
    "tags": []
   },
   "source": [
    "##### We are creating a class, just so that we can use it to store our parameters for us"
   ]
  },
  {
   "cell_type": "code",
   "execution_count": 16,
   "metadata": {
    "execution": {
     "iopub.execute_input": "2020-08-22T20:12:35.523269Z",
     "iopub.status.busy": "2020-08-22T20:12:35.522735Z",
     "iopub.status.idle": "2020-08-22T20:12:35.534790Z",
     "shell.execute_reply": "2020-08-22T20:12:35.535197Z"
    },
    "papermill": {
     "duration": 0.042437,
     "end_time": "2020-08-22T20:12:35.535313",
     "exception": false,
     "start_time": "2020-08-22T20:12:35.492876",
     "status": "completed"
    },
    "tags": []
   },
   "outputs": [],
   "source": [
    "class Config:\n",
    "    pass\n",
    "config = Config()\n",
    "config.lr = 0.001\n",
    "config.num_epochs = 250\n",
    "config.bs = 50"
   ]
  },
  {
   "cell_type": "markdown",
   "metadata": {
    "papermill": {
     "duration": 0.026442,
     "end_time": "2020-08-22T20:12:35.587778",
     "exception": false,
     "start_time": "2020-08-22T20:12:35.561336",
     "status": "completed"
    },
    "tags": []
   },
   "source": [
    "##### Initializing Data"
   ]
  },
  {
   "cell_type": "code",
   "execution_count": 17,
   "metadata": {
    "execution": {
     "iopub.execute_input": "2020-08-22T20:12:35.647529Z",
     "iopub.status.busy": "2020-08-22T20:12:35.646967Z",
     "iopub.status.idle": "2020-08-22T20:12:35.660165Z",
     "shell.execute_reply": "2020-08-22T20:12:35.660576Z"
    },
    "papermill": {
     "duration": 0.044463,
     "end_time": "2020-08-22T20:12:35.660712",
     "exception": false,
     "start_time": "2020-08-22T20:12:35.616249",
     "status": "completed"
    },
    "tags": []
   },
   "outputs": [],
   "source": [
    "data = Data(X_train, y_train.reshape(-1,1))\n",
    "loss = MSE()\n",
    "opt = GD(config.lr)\n",
    "sampler = Sampler(data, config.bs, shuffle=True)\n",
    "dl = Dataloader(data, sampler)"
   ]
  },
  {
   "cell_type": "markdown",
   "metadata": {
    "papermill": {
     "duration": 0.029885,
     "end_time": "2020-08-22T20:12:35.718329",
     "exception": false,
     "start_time": "2020-08-22T20:12:35.688444",
     "status": "completed"
    },
    "tags": []
   },
   "source": [
    "##### Constructing 2 different layers, one for NN and one only for logistic regression."
   ]
  },
  {
   "cell_type": "markdown",
   "metadata": {
    "papermill": {
     "duration": 0.026819,
     "end_time": "2020-08-22T20:12:35.772456",
     "exception": false,
     "start_time": "2020-08-22T20:12:35.745637",
     "status": "completed"
    },
    "tags": []
   },
   "source": [
    "##### Creating containers for data to be passed, to calculate accuracies"
   ]
  },
  {
   "cell_type": "code",
   "execution_count": 18,
   "metadata": {
    "execution": {
     "iopub.execute_input": "2020-08-22T20:12:35.834721Z",
     "iopub.status.busy": "2020-08-22T20:12:35.834141Z",
     "iopub.status.idle": "2020-08-22T20:12:35.847723Z",
     "shell.execute_reply": "2020-08-22T20:12:35.847176Z"
    },
    "papermill": {
     "duration": 0.045931,
     "end_time": "2020-08-22T20:12:35.847844",
     "exception": false,
     "start_time": "2020-08-22T20:12:35.801913",
     "status": "completed"
    },
    "tags": []
   },
   "outputs": [],
   "source": [
    "training_xdata = X_train\n",
    "testing_xdata = X_test\n",
    "training_ydata = y_train.reshape(-1,1)\n",
    "testing_ydata = y_test.reshape(-1,1)"
   ]
  },
  {
   "cell_type": "markdown",
   "metadata": {
    "papermill": {
     "duration": 0.025096,
     "end_time": "2020-08-22T20:12:35.899311",
     "exception": false,
     "start_time": "2020-08-22T20:12:35.874215",
     "status": "completed"
    },
    "tags": []
   },
   "source": [
    "##### Initializing models and Running training loop: "
   ]
  },
  {
   "cell_type": "code",
   "execution_count": 19,
   "metadata": {
    "execution": {
     "iopub.execute_input": "2020-08-22T20:12:35.958695Z",
     "iopub.status.busy": "2020-08-22T20:12:35.957645Z",
     "iopub.status.idle": "2020-08-22T20:12:35.975920Z",
     "shell.execute_reply": "2020-08-22T20:12:35.974983Z"
    },
    "papermill": {
     "duration": 0.049854,
     "end_time": "2020-08-22T20:12:35.976044",
     "exception": false,
     "start_time": "2020-08-22T20:12:35.926190",
     "status": "completed"
    },
    "tags": []
   },
   "outputs": [],
   "source": [
    "layers = [Affine(\"first\", 784, 100), Relu(\"first\"), Affine(\"second\", 100, 100), Relu(\"second\"), Affine(\"third\", 100, 2), Affine(\"final\", 2, 1), Sigmoid(\"final\")]\n",
    "\n",
    "model_neural = Model(layers)\n",
    "model_logistic = Model([Affine(\"logits\", 784, 1), Sigmoid(\"sigmoid\")])"
   ]
  },
  {
   "cell_type": "code",
   "execution_count": 20,
   "metadata": {
    "execution": {
     "iopub.execute_input": "2020-08-22T20:12:36.036384Z",
     "iopub.status.busy": "2020-08-22T20:12:36.035801Z",
     "iopub.status.idle": "2020-08-22T20:12:36.048473Z",
     "shell.execute_reply": "2020-08-22T20:12:36.048943Z"
    },
    "papermill": {
     "duration": 0.045093,
     "end_time": "2020-08-22T20:12:36.049087",
     "exception": false,
     "start_time": "2020-08-22T20:12:36.003994",
     "status": "completed"
    },
    "tags": []
   },
   "outputs": [],
   "source": [
    "learner1 = Learner(loss, model_neural, opt, config.num_epochs)\n",
    "acc1 = ClfCallback(learner1, config.bs, training_xdata , testing_xdata, training_ydata, testing_ydata)\n",
    "learner1.set_callbacks([acc1])"
   ]
  },
  {
   "cell_type": "code",
   "execution_count": 21,
   "metadata": {
    "execution": {
     "iopub.execute_input": "2020-08-22T20:12:36.110343Z",
     "iopub.status.busy": "2020-08-22T20:12:36.109806Z",
     "iopub.status.idle": "2020-08-22T20:13:57.647708Z",
     "shell.execute_reply": "2020-08-22T20:13:57.648526Z"
    },
    "papermill": {
     "duration": 81.570725,
     "end_time": "2020-08-22T20:13:57.648681",
     "exception": false,
     "start_time": "2020-08-22T20:12:36.077956",
     "status": "completed"
    },
    "tags": []
   },
   "outputs": [
    {
     "name": "stdout",
     "output_type": "stream",
     "text": [
      "Epoch 0 Loss 0.23929223444299574\n",
      "train accuracy is: 0.7374394925721917, test accuracy is 0.7520161290322581\n"
     ]
    },
    {
     "name": "stdout",
     "output_type": "stream",
     "text": [
      "Epoch 10 Loss 0.1682438804547703\n",
      "train accuracy is: 0.9020196962109831, test accuracy is 0.907258064516129\n"
     ]
    },
    {
     "name": "stdout",
     "output_type": "stream",
     "text": [
      "Epoch 20 Loss 0.0831184437411494\n",
      "train accuracy is: 0.9238858287431146, test accuracy is 0.9319556451612904\n"
     ]
    },
    {
     "name": "stdout",
     "output_type": "stream",
     "text": [
      "Epoch 30 Loss 0.05616724163485629\n",
      "train accuracy is: 0.9420797863461859, test accuracy is 0.9485887096774194\n"
     ]
    },
    {
     "name": "stdout",
     "output_type": "stream",
     "text": [
      "Epoch 40 Loss 0.0454251582489499\n",
      "train accuracy is: 0.9489233850776164, test accuracy is 0.9571572580645161\n"
     ]
    },
    {
     "name": "stdout",
     "output_type": "stream",
     "text": [
      "Epoch 50 Loss 0.03977615797213459\n",
      "train accuracy is: 0.9538474378234018, test accuracy is 0.9642137096774194\n"
     ]
    },
    {
     "name": "stdout",
     "output_type": "stream",
     "text": [
      "Epoch 60 Loss 0.03626153600790334\n",
      "train accuracy is: 0.956434651977967, test accuracy is 0.9672379032258065\n"
     ]
    },
    {
     "name": "stdout",
     "output_type": "stream",
     "text": [
      "Epoch 70 Loss 0.03381272176605285\n",
      "train accuracy is: 0.9591053246536472, test accuracy is 0.96875\n"
     ]
    },
    {
     "name": "stdout",
     "output_type": "stream",
     "text": [
      "Epoch 80 Loss 0.03197482773944744\n",
      "train accuracy is: 0.9619429143715573, test accuracy is 0.9712701612903226\n"
     ]
    },
    {
     "name": "stdout",
     "output_type": "stream",
     "text": [
      "Epoch 90 Loss 0.03051362411095289\n",
      "train accuracy is: 0.9640293773994325, test accuracy is 0.9707661290322581\n"
     ]
    },
    {
     "name": "stdout",
     "output_type": "stream",
     "text": [
      "Epoch 100 Loss 0.029304192966854423\n",
      "train accuracy is: 0.9652812552161576, test accuracy is 0.9707661290322581\n"
     ]
    },
    {
     "name": "stdout",
     "output_type": "stream",
     "text": [
      "Epoch 110 Loss 0.028272910562445828\n",
      "train accuracy is: 0.9664496745117677, test accuracy is 0.9717741935483871\n"
     ]
    },
    {
     "name": "stdout",
     "output_type": "stream",
     "text": [
      "Epoch 120 Loss 0.027382349080400912\n",
      "train accuracy is: 0.9674511767651477, test accuracy is 0.9722782258064516\n"
     ]
    },
    {
     "name": "stdout",
     "output_type": "stream",
     "text": [
      "Epoch 130 Loss 0.026591838780171958\n",
      "train accuracy is: 0.9682023034551828, test accuracy is 0.9727822580645161\n"
     ]
    },
    {
     "name": "stdout",
     "output_type": "stream",
     "text": [
      "Epoch 140 Loss 0.025883416908456015\n",
      "train accuracy is: 0.9692038057085628, test accuracy is 0.9732862903225806\n"
     ]
    },
    {
     "name": "stdout",
     "output_type": "stream",
     "text": [
      "Epoch 150 Loss 0.025241382278482345\n",
      "train accuracy is: 0.9695376397930229, test accuracy is 0.9737903225806451\n"
     ]
    },
    {
     "name": "stdout",
     "output_type": "stream",
     "text": [
      "Epoch 160 Loss 0.02466739009827874\n",
      "train accuracy is: 0.9699549323985979, test accuracy is 0.9742943548387096\n"
     ]
    },
    {
     "name": "stdout",
     "output_type": "stream",
     "text": [
      "Epoch 170 Loss 0.0241317877889193\n",
      "train accuracy is: 0.970789517609748, test accuracy is 0.9742943548387096\n"
     ]
    },
    {
     "name": "stdout",
     "output_type": "stream",
     "text": [
      "Epoch 180 Loss 0.023643826393973555\n",
      "train accuracy is: 0.971457185778668, test accuracy is 0.9747983870967742\n"
     ]
    },
    {
     "name": "stdout",
     "output_type": "stream",
     "text": [
      "Epoch 190 Loss 0.023190799793233966\n",
      "train accuracy is: 0.972291770989818, test accuracy is 0.9742943548387096\n"
     ]
    },
    {
     "name": "stdout",
     "output_type": "stream",
     "text": [
      "Epoch 200 Loss 0.022757514223577503\n",
      "train accuracy is: 0.9733767317643132, test accuracy is 0.9742943548387096\n"
     ]
    },
    {
     "name": "stdout",
     "output_type": "stream",
     "text": [
      "Epoch 210 Loss 0.022352988962918048\n",
      "train accuracy is: 0.9736271073276581, test accuracy is 0.9742943548387096\n"
     ]
    },
    {
     "name": "stdout",
     "output_type": "stream",
     "text": [
      "Epoch 220 Loss 0.021956675815874443\n",
      "train accuracy is: 0.9739609414121182, test accuracy is 0.9737903225806451\n"
     ]
    },
    {
     "name": "stdout",
     "output_type": "stream",
     "text": [
      "Epoch 230 Loss 0.02157074723224862\n",
      "train accuracy is: 0.9744616925388082, test accuracy is 0.9737903225806451\n"
     ]
    },
    {
     "name": "stdout",
     "output_type": "stream",
     "text": [
      "Epoch 240 Loss 0.021209091097087417\n",
      "train accuracy is: 0.9749624436654982, test accuracy is 0.9737903225806451\n"
     ]
    },
    {
     "data": {
      "text/plain": [
       "0.036669809404481064"
      ]
     },
     "execution_count": 21,
     "metadata": {},
     "output_type": "execute_result"
    }
   ],
   "source": [
    "learner1.train_loop(dl)"
   ]
  },
  {
   "cell_type": "markdown",
   "metadata": {
    "papermill": {
     "duration": 0.035556,
     "end_time": "2020-08-22T20:13:57.722742",
     "exception": false,
     "start_time": "2020-08-22T20:13:57.687186",
     "status": "completed"
    },
    "tags": []
   },
   "source": [
    "##### Now running only the logistic regression based classification to compare results with NN"
   ]
  },
  {
   "cell_type": "code",
   "execution_count": 22,
   "metadata": {
    "execution": {
     "iopub.execute_input": "2020-08-22T20:13:57.800146Z",
     "iopub.status.busy": "2020-08-22T20:13:57.799380Z",
     "iopub.status.idle": "2020-08-22T20:13:57.811010Z",
     "shell.execute_reply": "2020-08-22T20:13:57.811468Z"
    },
    "papermill": {
     "duration": 0.052716,
     "end_time": "2020-08-22T20:13:57.811616",
     "exception": false,
     "start_time": "2020-08-22T20:13:57.758900",
     "status": "completed"
    },
    "tags": []
   },
   "outputs": [],
   "source": [
    "learner2 = Learner(loss, model_logistic, opt, config.num_epochs)\n",
    "acc2 = ClfCallback(learner2, config.bs, training_xdata , testing_xdata, training_ydata, testing_ydata)\n",
    "learner2.set_callbacks([acc2])"
   ]
  },
  {
   "cell_type": "code",
   "execution_count": 23,
   "metadata": {
    "execution": {
     "iopub.execute_input": "2020-08-22T20:13:57.888333Z",
     "iopub.status.busy": "2020-08-22T20:13:57.887762Z",
     "iopub.status.idle": "2020-08-22T20:14:12.722581Z",
     "shell.execute_reply": "2020-08-22T20:14:12.723390Z"
    },
    "papermill": {
     "duration": 14.875078,
     "end_time": "2020-08-22T20:14:12.723552",
     "exception": false,
     "start_time": "2020-08-22T20:13:57.848474",
     "status": "completed"
    },
    "tags": []
   },
   "outputs": [
    {
     "name": "stdout",
     "output_type": "stream",
     "text": [
      "Epoch 0 Loss 0.23921708092754757\n",
      "train accuracy is: 0.7310966449674512, test accuracy is 0.7338709677419355\n"
     ]
    },
    {
     "name": "stdout",
     "output_type": "stream",
     "text": [
      "Epoch 10 Loss 0.0983201149948818\n",
      "train accuracy is: 0.9213820731096645, test accuracy is 0.9279233870967742\n"
     ]
    },
    {
     "name": "stdout",
     "output_type": "stream",
     "text": [
      "Epoch 20 Loss 0.07623409356419004\n",
      "train accuracy is: 0.9327324319813053, test accuracy is 0.9430443548387096\n"
     ]
    },
    {
     "name": "stdout",
     "output_type": "stream",
     "text": [
      "Epoch 30 Loss 0.06607686337251993\n",
      "train accuracy is: 0.9400767818394258, test accuracy is 0.9506048387096774\n"
     ]
    },
    {
     "name": "stdout",
     "output_type": "stream",
     "text": [
      "Epoch 40 Loss 0.05994520395827361\n",
      "train accuracy is: 0.943832415289601, test accuracy is 0.9546370967741935\n"
     ]
    },
    {
     "name": "stdout",
     "output_type": "stream",
     "text": [
      "Epoch 50 Loss 0.055749825901131145\n",
      "train accuracy is: 0.9473376731764314, test accuracy is 0.9571572580645161\n"
     ]
    },
    {
     "name": "stdout",
     "output_type": "stream",
     "text": [
      "Epoch 60 Loss 0.05265845488642993\n",
      "train accuracy is: 0.9490903021198465, test accuracy is 0.9596774193548387\n"
     ]
    },
    {
     "name": "stdout",
     "output_type": "stream",
     "text": [
      "Epoch 70 Loss 0.050260948109867164\n",
      "train accuracy is: 0.9510933066266066, test accuracy is 0.9611895161290323\n"
     ]
    },
    {
     "name": "stdout",
     "output_type": "stream",
     "text": [
      "Epoch 80 Loss 0.04833505530683992\n",
      "train accuracy is: 0.9521782674011017, test accuracy is 0.9637096774193549\n"
     ]
    },
    {
     "name": "stdout",
     "output_type": "stream",
     "text": [
      "Epoch 90 Loss 0.046745755101377254\n",
      "train accuracy is: 0.9535136037389418, test accuracy is 0.9647177419354839\n"
     ]
    },
    {
     "name": "stdout",
     "output_type": "stream",
     "text": [
      "Epoch 100 Loss 0.0454032422378468\n",
      "train accuracy is: 0.9545985645134368, test accuracy is 0.9657258064516129\n"
     ]
    },
    {
     "name": "stdout",
     "output_type": "stream",
     "text": [
      "Epoch 110 Loss 0.04424930765142993\n",
      "train accuracy is: 0.9552662326823569, test accuracy is 0.9652217741935484\n"
     ]
    },
    {
     "name": "stdout",
     "output_type": "stream",
     "text": [
      "Epoch 120 Loss 0.04324443452234091\n",
      "train accuracy is: 0.9559339008512769, test accuracy is 0.9657258064516129\n"
     ]
    },
    {
     "name": "stdout",
     "output_type": "stream",
     "text": [
      "Epoch 130 Loss 0.04235790937991933\n",
      "train accuracy is: 0.956935403104657, test accuracy is 0.9652217741935484\n"
     ]
    },
    {
     "name": "stdout",
     "output_type": "stream",
     "text": [
      "Epoch 140 Loss 0.04156901250958291\n",
      "train accuracy is: 0.957603071273577, test accuracy is 0.9652217741935484\n"
     ]
    },
    {
     "name": "stdout",
     "output_type": "stream",
     "text": [
      "Epoch 150 Loss 0.04085969837289626\n",
      "train accuracy is: 0.9581872809213821, test accuracy is 0.9657258064516129\n"
     ]
    },
    {
     "name": "stdout",
     "output_type": "stream",
     "text": [
      "Epoch 160 Loss 0.040218151466948536\n",
      "train accuracy is: 0.9585211150058421, test accuracy is 0.9662298387096774\n"
     ]
    },
    {
     "name": "stdout",
     "output_type": "stream",
     "text": [
      "Epoch 170 Loss 0.039633575756121815\n",
      "train accuracy is: 0.9590218661325322, test accuracy is 0.9657258064516129\n"
     ]
    },
    {
     "name": "stdout",
     "output_type": "stream",
     "text": [
      "Epoch 180 Loss 0.03909732415036225\n",
      "train accuracy is: 0.9596060757803372, test accuracy is 0.9662298387096774\n"
     ]
    },
    {
     "name": "stdout",
     "output_type": "stream",
     "text": [
      "Epoch 190 Loss 0.038602911922741456\n",
      "train accuracy is: 0.9599399098647972, test accuracy is 0.9662298387096774\n"
     ]
    },
    {
     "name": "stdout",
     "output_type": "stream",
     "text": [
      "Epoch 200 Loss 0.0381458614615911\n",
      "train accuracy is: 0.9603572024703723, test accuracy is 0.9667338709677419\n"
     ]
    },
    {
     "name": "stdout",
     "output_type": "stream",
     "text": [
      "Epoch 210 Loss 0.03772191440617113\n",
      "train accuracy is: 0.9606910365548322, test accuracy is 0.9667338709677419\n"
     ]
    },
    {
     "name": "stdout",
     "output_type": "stream",
     "text": [
      "Epoch 220 Loss 0.037325966109799734\n",
      "train accuracy is: 0.9608579535970623, test accuracy is 0.9667338709677419\n"
     ]
    },
    {
     "name": "stdout",
     "output_type": "stream",
     "text": [
      "Epoch 230 Loss 0.03695561446677523\n",
      "train accuracy is: 0.9610248706392923, test accuracy is 0.9672379032258065\n"
     ]
    },
    {
     "name": "stdout",
     "output_type": "stream",
     "text": [
      "Epoch 240 Loss 0.03660820246769741\n",
      "train accuracy is: 0.9611083291604072, test accuracy is 0.9672379032258065\n"
     ]
    },
    {
     "data": {
      "text/plain": [
       "0.028919750318477447"
      ]
     },
     "execution_count": 23,
     "metadata": {},
     "output_type": "execute_result"
    }
   ],
   "source": [
    "learner2.train_loop(dl)"
   ]
  },
  {
   "cell_type": "markdown",
   "metadata": {
    "papermill": {
     "duration": 0.042026,
     "end_time": "2020-08-22T20:14:12.808255",
     "exception": false,
     "start_time": "2020-08-22T20:14:12.766229",
     "status": "completed"
    },
    "tags": []
   },
   "source": [
    "### Comparing results of NN and LR"
   ]
  },
  {
   "cell_type": "code",
   "execution_count": 24,
   "metadata": {
    "execution": {
     "iopub.execute_input": "2020-08-22T20:14:12.897567Z",
     "iopub.status.busy": "2020-08-22T20:14:12.896536Z",
     "iopub.status.idle": "2020-08-22T20:14:13.099022Z",
     "shell.execute_reply": "2020-08-22T20:14:13.099516Z"
    },
    "papermill": {
     "duration": 0.249158,
     "end_time": "2020-08-22T20:14:13.099675",
     "exception": false,
     "start_time": "2020-08-22T20:14:12.850517",
     "status": "completed"
    },
    "tags": []
   },
   "outputs": [
    {
     "data": {
      "text/plain": [
       "<matplotlib.legend.Legend at 0x7f7198b59828>"
      ]
     },
     "execution_count": 24,
     "metadata": {},
     "output_type": "execute_result"
    },
    {
     "data": {
      "image/png": "[encoded data removed]",
      "text/plain": [
       "<Figure size 576x360 with 1 Axes>"
      ]
     },
     "metadata": {
      "needs_background": "light"
     },
     "output_type": "display_data"
    }
   ],
   "source": [
    "plt.figure(figsize=(8,5))\n",
    "plt.plot(acc1.val_accuracies, 'g-', label = \"Val Accuracies - NN\")\n",
    "plt.plot(acc1.accuracies, 'r-', label = \"Accuracies - NN\")\n",
    "plt.plot(acc2.val_accuracies, 'b-', label = \"Val Accuracies - Logistic Reg\")\n",
    "plt.plot(acc2.accuracies, 'k-', label = \"Accuracies - Logistic Reg\")\n",
    "plt.ylim(0.8,1) ## for a more spread out view\n",
    "plt.legend()"
   ]
  },
  {
   "cell_type": "markdown",
   "metadata": {
    "papermill": {
     "duration": 0.043379,
     "end_time": "2020-08-22T20:14:13.186478",
     "exception": false,
     "start_time": "2020-08-22T20:14:13.143099",
     "status": "completed"
    },
    "tags": []
   },
   "source": [
    "### Clearly NN has a better accuracy over LR; NN is overfitting - Validation accuracy (green) has dropped below training accuracy (orange), also they are diverging. This problem is not seen in LR"
   ]
  },
  {
   "cell_type": "markdown",
   "metadata": {
    "papermill": {
     "duration": 0.042432,
     "end_time": "2020-08-22T20:14:13.271454",
     "exception": false,
     "start_time": "2020-08-22T20:14:13.229022",
     "status": "completed"
    },
    "tags": []
   },
   "source": [
    "##### Now we will be moving through the network, till the output of the second last affine where we get a 2 dimensional output. We will be plotting this 2d output and probability contours"
   ]
  },
  {
   "cell_type": "code",
   "execution_count": 25,
   "metadata": {
    "execution": {
     "iopub.execute_input": "2020-08-22T20:14:13.364873Z",
     "iopub.status.busy": "2020-08-22T20:14:13.364462Z",
     "iopub.status.idle": "2020-08-22T20:14:13.373962Z",
     "shell.execute_reply": "2020-08-22T20:14:13.373429Z"
    },
    "papermill": {
     "duration": 0.060999,
     "end_time": "2020-08-22T20:14:13.374078",
     "exception": false,
     "start_time": "2020-08-22T20:14:13.313079",
     "status": "completed"
    },
    "tags": []
   },
   "outputs": [],
   "source": [
    "model_new = Model(layers[:-2])"
   ]
  },
  {
   "cell_type": "code",
   "execution_count": 26,
   "metadata": {
    "execution": {
     "iopub.execute_input": "2020-08-22T20:14:13.461680Z",
     "iopub.status.busy": "2020-08-22T20:14:13.461160Z",
     "iopub.status.idle": "2020-08-22T20:14:13.481314Z",
     "shell.execute_reply": "2020-08-22T20:14:13.481773Z"
    },
    "papermill": {
     "duration": 0.066694,
     "end_time": "2020-08-22T20:14:13.481911",
     "exception": false,
     "start_time": "2020-08-22T20:14:13.415217",
     "status": "completed"
    },
    "tags": []
   },
   "outputs": [],
   "source": [
    "plot_testing = model_new(testing_xdata)"
   ]
  },
  {
   "cell_type": "markdown",
   "metadata": {
    "papermill": {
     "duration": 0.043141,
     "end_time": "2020-08-22T20:14:13.569042",
     "exception": false,
     "start_time": "2020-08-22T20:14:13.525901",
     "status": "completed"
    },
    "tags": []
   },
   "source": [
    "##### Plotting the scatter plot of points and color coding by class"
   ]
  },
  {
   "cell_type": "code",
   "execution_count": 27,
   "metadata": {
    "execution": {
     "iopub.execute_input": "2020-08-22T20:14:13.664470Z",
     "iopub.status.busy": "2020-08-22T20:14:13.657536Z",
     "iopub.status.idle": "2020-08-22T20:14:13.859915Z",
     "shell.execute_reply": "2020-08-22T20:14:13.860369Z"
    },
    "papermill": {
     "duration": 0.248565,
     "end_time": "2020-08-22T20:14:13.860517",
     "exception": false,
     "start_time": "2020-08-22T20:14:13.611952",
     "status": "completed"
    },
    "tags": []
   },
   "outputs": [
    {
     "data": {
      "image/png": "[encoded data removed]",
      "text/plain": [
       "<Figure size 576x504 with 1 Axes>"
      ]
     },
     "metadata": {
      "needs_background": "light"
     },
     "output_type": "display_data"
    }
   ],
   "source": [
    "plt.figure(figsize=(8,7))\n",
    "plt.scatter(plot_testing[:,0], plot_testing[:,1], alpha = 0.1, c = y_test.ravel());"
   ]
  },
  {
   "cell_type": "markdown",
   "metadata": {
    "papermill": {
     "duration": 0.044708,
     "end_time": "2020-08-22T20:14:13.974477",
     "exception": false,
     "start_time": "2020-08-22T20:14:13.929769",
     "status": "completed"
    },
    "tags": []
   },
   "source": [
    "##### Plotting probability contours"
   ]
  },
  {
   "cell_type": "code",
   "execution_count": 28,
   "metadata": {
    "execution": {
     "iopub.execute_input": "2020-08-22T20:14:14.070937Z",
     "iopub.status.busy": "2020-08-22T20:14:14.070342Z",
     "iopub.status.idle": "2020-08-22T20:14:14.084553Z",
     "shell.execute_reply": "2020-08-22T20:14:14.084082Z"
    },
    "papermill": {
     "duration": 0.063244,
     "end_time": "2020-08-22T20:14:14.084672",
     "exception": false,
     "start_time": "2020-08-22T20:14:14.021428",
     "status": "completed"
    },
    "tags": []
   },
   "outputs": [],
   "source": [
    "model_prob = Model(layers[-2:]) ## picking only last two layers to get probability. That is affine followed by sigmoid"
   ]
  },
  {
   "cell_type": "code",
   "execution_count": 29,
   "metadata": {
    "execution": {
     "iopub.execute_input": "2020-08-22T20:14:14.186917Z",
     "iopub.status.busy": "2020-08-22T20:14:14.186324Z",
     "iopub.status.idle": "2020-08-22T20:14:14.200608Z",
     "shell.execute_reply": "2020-08-22T20:14:14.201057Z"
    },
    "papermill": {
     "duration": 0.069556,
     "end_time": "2020-08-22T20:14:14.201210",
     "exception": false,
     "start_time": "2020-08-22T20:14:14.131654",
     "status": "completed"
    },
    "tags": []
   },
   "outputs": [],
   "source": [
    "xgrid = np.linspace(-4, 1, 100) ## Adjust these values based on above chart, roughly -4 to 1\n",
    "ygrid = np.linspace(-7.5, 7.5, 100) ## Adjust these values based on above chart, roughly -7.5, 7.5\n",
    "xg, yg = np.meshgrid(xgrid, ygrid)\n",
    "# xg and yg are now both 100X100, lets convert them to single arrays \n",
    "\n",
    "xg_interim = np.ravel(xg)\n",
    "yg_interim = np.ravel(yg)\n",
    "\n",
    "## xg_interim, yg_interim are now arrays of len 10000, now we will stack them and then transpose to get desired shape of n rows, 2 columns\n",
    "\n",
    "X_interim = np.vstack((xg_interim, yg_interim)) ## Please note vstack takes in a tuple\n",
    "X = X_interim.T\n",
    "\n",
    "## We want a shape of n rows and 2 columns to be able to feed this to last affine\n",
    "## This last affine takes only two columns, hence the above transformation\n",
    "probability_contour = model_prob(X).reshape(100,100) ## to make it consistent with xg, yg"
   ]
  },
  {
   "cell_type": "code",
   "execution_count": 30,
   "metadata": {
    "execution": {
     "iopub.execute_input": "2020-08-22T20:14:14.309184Z",
     "iopub.status.busy": "2020-08-22T20:14:14.308536Z",
     "iopub.status.idle": "2020-08-22T20:14:14.533681Z",
     "shell.execute_reply": "2020-08-22T20:14:14.533192Z"
    },
    "papermill": {
     "duration": 0.284842,
     "end_time": "2020-08-22T20:14:14.533818",
     "exception": false,
     "start_time": "2020-08-22T20:14:14.248976",
     "status": "completed"
    },
    "tags": []
   },
   "outputs": [
    {
     "data": {
      "image/png": "[encoded data removed]",
      "text/plain": [
       "<Figure size 576x504 with 1 Axes>"
      ]
     },
     "metadata": {
      "needs_background": "light"
     },
     "output_type": "display_data"
    }
   ],
   "source": [
    "plt.figure(figsize=(8,7))\n",
    "plt.scatter(plot_testing[:,0], plot_testing[:,1], alpha = 0.1, c = y_test.ravel())\n",
    "contours = plt.contour(xg,yg,probability_contour)\n",
    "plt.clabel(contours, inline = True );"
   ]
  }
 ],
 "metadata": {
  "kernelspec": {
   "display_name": "Python 3",
   "language": "python",
   "name": "python3"
  },
  "language_info": {
   "codemirror_mode": {
    "name": "ipython",
    "version": 3
   },
   "file_extension": ".py",
   "mimetype": "text/x-python",
   "name": "python",
   "nbconvert_exporter": "python",
   "pygments_lexer": "ipython3",
   "version": "3.6.11"
  },
  "papermill": {
   "duration": 106.771648,
   "end_time": "2020-08-22T20:14:14.988159",
   "environment_variables": {},
   "exception": null,
   "input_path": "2020-08-07-NN-new.ipynb",
   "output_path": "2020-08-07-NN-new.ipynb",
   "parameters": {},
   "start_time": "2020-08-22T20:12:28.216511",
   "version": "2.1.2"
  }
 },
 "nbformat": 4,
 "nbformat_minor": 4
}