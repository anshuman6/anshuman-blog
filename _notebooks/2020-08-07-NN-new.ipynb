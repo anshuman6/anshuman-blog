{
 "cells": [
  {
   "cell_type": "markdown",
   "metadata": {
    "papermill": {
     "duration": 0.038413,
     "end_time": "2020-08-25T10:14:49.955537",
     "exception": false,
     "start_time": "2020-08-25T10:14:49.917124",
     "status": "completed"
    },
    "tags": []
   },
   "source": [
    "# \"Building a basic Neural Network from scratch - Kudzu\"\n",
    "\n",
    "- badges: true\n",
    "- author: Anshuman Gupta"
   ]
  },
  {
   "cell_type": "markdown",
   "metadata": {
    "papermill": {
     "duration": 0.033766,
     "end_time": "2020-08-25T10:14:50.024221",
     "exception": false,
     "start_time": "2020-08-25T10:14:49.990455",
     "status": "completed"
    },
    "tags": []
   },
   "source": [
    "#### In this project, the idea is to write a classifier to differentiate between handwritten digits 3 and 8, from the MNIST database.\n",
    "\n",
    "#### I will using a custom built neural network library called Kudzu.This has been developed as a part of KTF/Foundations course of Univ.ai (www.univ.ai). The source code for Kudzu Library and and this notebook can be found on my git-hub profile : www.https://github.com/anshuman6 under the folder project-solution. Any feedback and comments are welcome. Please feel free to email me at: anshuman6@gmail.com\n",
    "\n",
    "#### 1. I will be using the MNIST database. \n",
    "\n",
    "#### 2. I will be comparing the results of the 4 layer NN to a standard logistic regression"
   ]
  },
  {
   "cell_type": "markdown",
   "metadata": {
    "papermill": {
     "duration": 0.033672,
     "end_time": "2020-08-25T10:14:50.093861",
     "exception": false,
     "start_time": "2020-08-25T10:14:50.060189",
     "status": "completed"
    },
    "tags": []
   },
   "source": [
    "##### Importing all the necessary libraries"
   ]
  },
  {
   "cell_type": "code",
   "execution_count": 1,
   "metadata": {
    "execution": {
     "iopub.execute_input": "2020-08-25T10:14:50.169665Z",
     "iopub.status.busy": "2020-08-25T10:14:50.168939Z",
     "iopub.status.idle": "2020-08-25T10:14:50.181412Z",
     "shell.execute_reply": "2020-08-25T10:14:50.180771Z"
    },
    "papermill": {
     "duration": 0.051388,
     "end_time": "2020-08-25T10:14:50.181587",
     "exception": false,
     "start_time": "2020-08-25T10:14:50.130199",
     "status": "completed"
    },
    "tags": []
   },
   "outputs": [],
   "source": [
    "%load_ext autoreload\n",
    "%autoreload 2"
   ]
  },
  {
   "cell_type": "code",
   "execution_count": 2,
   "metadata": {
    "execution": {
     "iopub.execute_input": "2020-08-25T10:14:50.250335Z",
     "iopub.status.busy": "2020-08-25T10:14:50.249670Z",
     "iopub.status.idle": "2020-08-25T10:14:50.880454Z",
     "shell.execute_reply": "2020-08-25T10:14:50.879837Z"
    },
    "papermill": {
     "duration": 0.667125,
     "end_time": "2020-08-25T10:14:50.880619",
     "exception": false,
     "start_time": "2020-08-25T10:14:50.213494",
     "status": "completed"
    },
    "tags": []
   },
   "outputs": [],
   "source": [
    "%matplotlib inline\n",
    "import numpy as np\n",
    "import matplotlib.pyplot as plt\n",
    "import pandas as pd"
   ]
  },
  {
   "cell_type": "markdown",
   "metadata": {
    "papermill": {
     "duration": 0.032506,
     "end_time": "2020-08-25T10:14:50.947119",
     "exception": false,
     "start_time": "2020-08-25T10:14:50.914613",
     "status": "completed"
    },
    "tags": []
   },
   "source": [
    "##### The following command helps us download MNIST from notebook itself. You can skip this if you already have MNIST. You can also download it via your terminal."
   ]
  },
  {
   "cell_type": "code",
   "execution_count": 3,
   "metadata": {
    "execution": {
     "iopub.execute_input": "2020-08-25T10:14:51.031091Z",
     "iopub.status.busy": "2020-08-25T10:14:51.020491Z",
     "iopub.status.idle": "2020-08-25T10:14:52.577257Z",
     "shell.execute_reply": "2020-08-25T10:14:52.577782Z"
    },
    "papermill": {
     "duration": 1.601639,
     "end_time": "2020-08-25T10:14:52.577962",
     "exception": false,
     "start_time": "2020-08-25T10:14:50.976323",
     "status": "completed"
    },
    "tags": []
   },
   "outputs": [
    {
     "name": "stdout",
     "output_type": "stream",
     "text": [
      "Collecting mnist\r\n"
     ]
    },
    {
     "name": "stdout",
     "output_type": "stream",
     "text": [
      "  Downloading mnist-0.2.2-py2.py3-none-any.whl (3.5 kB)\r\n"
     ]
    },
    {
     "name": "stdout",
     "output_type": "stream",
     "text": [
      "Requirement already satisfied: numpy in /opt/hostedtoolcache/Python/3.6.11/x64/lib/python3.6/site-packages (from mnist) (1.19.1)\r\n"
     ]
    },
    {
     "name": "stdout",
     "output_type": "stream",
     "text": [
      "Installing collected packages: mnist\r\n"
     ]
    },
    {
     "name": "stdout",
     "output_type": "stream",
     "text": [
      "Successfully installed mnist-0.2.2\r\n"
     ]
    }
   ],
   "source": [
    "!pip install mnist # Please note, it is commented out for now, you can remove comment if you want to install it"
   ]
  },
  {
   "cell_type": "markdown",
   "metadata": {
    "papermill": {
     "duration": 0.036031,
     "end_time": "2020-08-25T10:14:52.645711",
     "exception": false,
     "start_time": "2020-08-25T10:14:52.609680",
     "status": "completed"
    },
    "tags": []
   },
   "source": [
    "#### Preparing the Data"
   ]
  },
  {
   "cell_type": "code",
   "execution_count": 4,
   "metadata": {
    "execution": {
     "iopub.execute_input": "2020-08-25T10:14:52.714810Z",
     "iopub.status.busy": "2020-08-25T10:14:52.714155Z",
     "iopub.status.idle": "2020-08-25T10:14:52.730729Z",
     "shell.execute_reply": "2020-08-25T10:14:52.729670Z"
    },
    "papermill": {
     "duration": 0.052937,
     "end_time": "2020-08-25T10:14:52.730887",
     "exception": false,
     "start_time": "2020-08-25T10:14:52.677950",
     "status": "completed"
    },
    "tags": []
   },
   "outputs": [],
   "source": [
    "import mnist"
   ]
  },
  {
   "cell_type": "code",
   "execution_count": 5,
   "metadata": {
    "execution": {
     "iopub.execute_input": "2020-08-25T10:14:52.810028Z",
     "iopub.status.busy": "2020-08-25T10:14:52.809309Z",
     "iopub.status.idle": "2020-08-25T10:14:53.765108Z",
     "shell.execute_reply": "2020-08-25T10:14:53.764446Z"
    },
    "papermill": {
     "duration": 0.998806,
     "end_time": "2020-08-25T10:14:53.765278",
     "exception": false,
     "start_time": "2020-08-25T10:14:52.766472",
     "status": "completed"
    },
    "tags": []
   },
   "outputs": [],
   "source": [
    "train_images = mnist.train_images()\n",
    "train_labels = mnist.train_labels()"
   ]
  },
  {
   "cell_type": "code",
   "execution_count": 6,
   "metadata": {
    "execution": {
     "iopub.execute_input": "2020-08-25T10:14:53.863333Z",
     "iopub.status.busy": "2020-08-25T10:14:53.862618Z",
     "iopub.status.idle": "2020-08-25T10:14:53.866142Z",
     "shell.execute_reply": "2020-08-25T10:14:53.866760Z"
    },
    "papermill": {
     "duration": 0.06181,
     "end_time": "2020-08-25T10:14:53.866924",
     "exception": false,
     "start_time": "2020-08-25T10:14:53.805114",
     "status": "completed"
    },
    "tags": []
   },
   "outputs": [
    {
     "data": {
      "text/plain": [
       "((60000, 28, 28), (60000,))"
      ]
     },
     "execution_count": 6,
     "metadata": {},
     "output_type": "execute_result"
    }
   ],
   "source": [
    "train_images.shape, train_labels.shape"
   ]
  },
  {
   "cell_type": "code",
   "execution_count": 7,
   "metadata": {
    "execution": {
     "iopub.execute_input": "2020-08-25T10:14:53.960434Z",
     "iopub.status.busy": "2020-08-25T10:14:53.959718Z",
     "iopub.status.idle": "2020-08-25T10:14:54.446007Z",
     "shell.execute_reply": "2020-08-25T10:14:54.446658Z"
    },
    "papermill": {
     "duration": 0.542274,
     "end_time": "2020-08-25T10:14:54.446858",
     "exception": false,
     "start_time": "2020-08-25T10:14:53.904584",
     "status": "completed"
    },
    "tags": []
   },
   "outputs": [],
   "source": [
    "test_images = mnist.test_images()\n",
    "test_labels = mnist.test_labels()"
   ]
  },
  {
   "cell_type": "code",
   "execution_count": 8,
   "metadata": {
    "execution": {
     "iopub.execute_input": "2020-08-25T10:14:54.544689Z",
     "iopub.status.busy": "2020-08-25T10:14:54.543869Z",
     "iopub.status.idle": "2020-08-25T10:14:54.547258Z",
     "shell.execute_reply": "2020-08-25T10:14:54.547853Z"
    },
    "papermill": {
     "duration": 0.060654,
     "end_time": "2020-08-25T10:14:54.548021",
     "exception": false,
     "start_time": "2020-08-25T10:14:54.487367",
     "status": "completed"
    },
    "tags": []
   },
   "outputs": [
    {
     "data": {
      "text/plain": [
       "((10000, 28, 28), (10000,))"
      ]
     },
     "execution_count": 8,
     "metadata": {},
     "output_type": "execute_result"
    }
   ],
   "source": [
    "test_images.shape, test_labels.shape"
   ]
  },
  {
   "cell_type": "code",
   "execution_count": 9,
   "metadata": {
    "execution": {
     "iopub.execute_input": "2020-08-25T10:14:54.622210Z",
     "iopub.status.busy": "2020-08-25T10:14:54.621574Z",
     "iopub.status.idle": "2020-08-25T10:14:54.803225Z",
     "shell.execute_reply": "2020-08-25T10:14:54.803815Z"
    },
    "papermill": {
     "duration": 0.219137,
     "end_time": "2020-08-25T10:14:54.804003",
     "exception": false,
     "start_time": "2020-08-25T10:14:54.584866",
     "status": "completed"
    },
    "tags": []
   },
   "outputs": [
    {
     "name": "stdout",
     "output_type": "stream",
     "text": [
      "2\n"
     ]
    },
    {
     "data": {
      "text/plain": [
       "<matplotlib.image.AxesImage at 0x7f5cfc6b3128>"
      ]
     },
     "execution_count": 9,
     "metadata": {},
     "output_type": "execute_result"
    },
    {
     "data": {
      "image/png": "[encoded data removed]",
      "text/plain": [
       "<Figure size 432x288 with 1 Axes>"
      ]
     },
     "metadata": {
      "needs_background": "light"
     },
     "output_type": "display_data"
    }
   ],
   "source": [
    "image_index = 7776 # You may select anything up to 60,000\n",
    "print(train_labels[image_index]) \n",
    "plt.imshow(train_images[image_index], cmap='Greys')"
   ]
  },
  {
   "cell_type": "markdown",
   "metadata": {
    "papermill": {
     "duration": 0.035046,
     "end_time": "2020-08-25T10:14:54.876006",
     "exception": false,
     "start_time": "2020-08-25T10:14:54.840960",
     "status": "completed"
    },
    "tags": []
   },
   "source": [
    "## Filter data to get 3 and 8 out"
   ]
  },
  {
   "cell_type": "code",
   "execution_count": 10,
   "metadata": {
    "execution": {
     "iopub.execute_input": "2020-08-25T10:14:54.949312Z",
     "iopub.status.busy": "2020-08-25T10:14:54.948665Z",
     "iopub.status.idle": "2020-08-25T10:14:54.969732Z",
     "shell.execute_reply": "2020-08-25T10:14:54.969172Z"
    },
    "papermill": {
     "duration": 0.060784,
     "end_time": "2020-08-25T10:14:54.969885",
     "exception": false,
     "start_time": "2020-08-25T10:14:54.909101",
     "status": "completed"
    },
    "tags": []
   },
   "outputs": [],
   "source": [
    "train_filter = np.where((train_labels == 3 ) | (train_labels == 8))\n",
    "test_filter = np.where((test_labels == 3) | (test_labels == 8))\n",
    "X_train, y_train = train_images[train_filter], train_labels[train_filter]\n",
    "X_test, y_test = test_images[test_filter], test_labels[test_filter]"
   ]
  },
  {
   "cell_type": "markdown",
   "metadata": {
    "papermill": {
     "duration": 0.034142,
     "end_time": "2020-08-25T10:14:55.038766",
     "exception": false,
     "start_time": "2020-08-25T10:14:55.004624",
     "status": "completed"
    },
    "tags": []
   },
   "source": [
    "##### We normalize the pizel values in the 0 to 1 range"
   ]
  },
  {
   "cell_type": "code",
   "execution_count": 11,
   "metadata": {
    "execution": {
     "iopub.execute_input": "2020-08-25T10:14:55.112133Z",
     "iopub.status.busy": "2020-08-25T10:14:55.111499Z",
     "iopub.status.idle": "2020-08-25T10:14:55.181251Z",
     "shell.execute_reply": "2020-08-25T10:14:55.180688Z"
    },
    "papermill": {
     "duration": 0.110104,
     "end_time": "2020-08-25T10:14:55.181407",
     "exception": false,
     "start_time": "2020-08-25T10:14:55.071303",
     "status": "completed"
    },
    "tags": []
   },
   "outputs": [],
   "source": [
    "X_train = X_train/255.\n",
    "X_test = X_test/255."
   ]
  },
  {
   "cell_type": "markdown",
   "metadata": {
    "papermill": {
     "duration": 0.036491,
     "end_time": "2020-08-25T10:14:55.257306",
     "exception": false,
     "start_time": "2020-08-25T10:14:55.220815",
     "status": "completed"
    },
    "tags": []
   },
   "source": [
    "And setup the labels as 1 (when the digit is 3) and 0 (when the digit is 8)"
   ]
  },
  {
   "cell_type": "code",
   "execution_count": 12,
   "metadata": {
    "execution": {
     "iopub.execute_input": "2020-08-25T10:14:55.334832Z",
     "iopub.status.busy": "2020-08-25T10:14:55.334161Z",
     "iopub.status.idle": "2020-08-25T10:14:55.346580Z",
     "shell.execute_reply": "2020-08-25T10:14:55.347088Z"
    },
    "papermill": {
     "duration": 0.055994,
     "end_time": "2020-08-25T10:14:55.347262",
     "exception": false,
     "start_time": "2020-08-25T10:14:55.291268",
     "status": "completed"
    },
    "tags": []
   },
   "outputs": [],
   "source": [
    "y_train = 1*(y_train==3)\n",
    "y_test = 1*(y_test==3)"
   ]
  },
  {
   "cell_type": "code",
   "execution_count": 13,
   "metadata": {
    "execution": {
     "iopub.execute_input": "2020-08-25T10:14:55.420691Z",
     "iopub.status.busy": "2020-08-25T10:14:55.420056Z",
     "iopub.status.idle": "2020-08-25T10:14:55.434611Z",
     "shell.execute_reply": "2020-08-25T10:14:55.435228Z"
    },
    "papermill": {
     "duration": 0.053096,
     "end_time": "2020-08-25T10:14:55.435386",
     "exception": false,
     "start_time": "2020-08-25T10:14:55.382290",
     "status": "completed"
    },
    "tags": []
   },
   "outputs": [
    {
     "data": {
      "text/plain": [
       "((11982, 28, 28), (1984, 28, 28))"
      ]
     },
     "execution_count": 13,
     "metadata": {},
     "output_type": "execute_result"
    }
   ],
   "source": [
    "X_train.shape, X_test.shape"
   ]
  },
  {
   "cell_type": "markdown",
   "metadata": {
    "papermill": {
     "duration": 0.03435,
     "end_time": "2020-08-25T10:14:55.502682",
     "exception": false,
     "start_time": "2020-08-25T10:14:55.468332",
     "status": "completed"
    },
    "tags": []
   },
   "source": [
    "##### We reshape the data to flatten the image pixels into a set of features or co-variates:"
   ]
  },
  {
   "cell_type": "code",
   "execution_count": 14,
   "metadata": {
    "execution": {
     "iopub.execute_input": "2020-08-25T10:14:55.596193Z",
     "iopub.status.busy": "2020-08-25T10:14:55.595551Z",
     "iopub.status.idle": "2020-08-25T10:14:55.599032Z",
     "shell.execute_reply": "2020-08-25T10:14:55.599561Z"
    },
    "papermill": {
     "duration": 0.06307,
     "end_time": "2020-08-25T10:14:55.599712",
     "exception": false,
     "start_time": "2020-08-25T10:14:55.536642",
     "status": "completed"
    },
    "tags": []
   },
   "outputs": [
    {
     "data": {
      "text/plain": [
       "((11982, 784), (1984, 784))"
      ]
     },
     "execution_count": 14,
     "metadata": {},
     "output_type": "execute_result"
    }
   ],
   "source": [
    "X_train = X_train.reshape(X_train.shape[0], -1)\n",
    "X_test = X_test.reshape(X_test.shape[0], -1)\n",
    "X_train.shape, X_test.shape"
   ]
  },
  {
   "cell_type": "markdown",
   "metadata": {
    "papermill": {
     "duration": 0.033156,
     "end_time": "2020-08-25T10:14:55.667711",
     "exception": false,
     "start_time": "2020-08-25T10:14:55.634555",
     "status": "completed"
    },
    "tags": []
   },
   "source": [
    "##### Importing Kudzu library and its functionality"
   ]
  },
  {
   "cell_type": "code",
   "execution_count": 15,
   "metadata": {
    "execution": {
     "iopub.execute_input": "2020-08-25T10:14:55.748290Z",
     "iopub.status.busy": "2020-08-25T10:14:55.739816Z",
     "iopub.status.idle": "2020-08-25T10:14:55.760681Z",
     "shell.execute_reply": "2020-08-25T10:14:55.761290Z"
    },
    "papermill": {
     "duration": 0.059495,
     "end_time": "2020-08-25T10:14:55.761441",
     "exception": false,
     "start_time": "2020-08-25T10:14:55.701946",
     "status": "completed"
    },
    "tags": []
   },
   "outputs": [],
   "source": [
    "from kudzu.data import Data, Dataloader, Sampler\n",
    "from kudzu.callbacks import AccCallback\n",
    "from kudzu.loss import MSE\n",
    "from kudzu.layer import Affine, Sigmoid\n",
    "from kudzu.model import Model\n",
    "from kudzu.optim import GD\n",
    "from kudzu.train import Learner\n",
    "from kudzu.callbacks import ClfCallback\n",
    "from kudzu.layer import Sigmoid\n",
    "from kudzu.layer import Relu"
   ]
  },
  {
   "cell_type": "markdown",
   "metadata": {
    "papermill": {
     "duration": 0.037004,
     "end_time": "2020-08-25T10:14:55.833492",
     "exception": false,
     "start_time": "2020-08-25T10:14:55.796488",
     "status": "completed"
    },
    "tags": []
   },
   "source": [
    "##### We are creating a class, just so that we can use it to store our parameters for us"
   ]
  },
  {
   "cell_type": "code",
   "execution_count": 16,
   "metadata": {
    "execution": {
     "iopub.execute_input": "2020-08-25T10:14:55.920306Z",
     "iopub.status.busy": "2020-08-25T10:14:55.919658Z",
     "iopub.status.idle": "2020-08-25T10:14:55.927738Z",
     "shell.execute_reply": "2020-08-25T10:14:55.928267Z"
    },
    "papermill": {
     "duration": 0.06082,
     "end_time": "2020-08-25T10:14:55.928419",
     "exception": false,
     "start_time": "2020-08-25T10:14:55.867599",
     "status": "completed"
    },
    "tags": []
   },
   "outputs": [],
   "source": [
    "class Config:\n",
    "    pass\n",
    "config = Config()\n",
    "config.lr = 0.001\n",
    "config.num_epochs = 250\n",
    "config.bs = 50"
   ]
  },
  {
   "cell_type": "markdown",
   "metadata": {
    "papermill": {
     "duration": 0.035032,
     "end_time": "2020-08-25T10:14:55.999804",
     "exception": false,
     "start_time": "2020-08-25T10:14:55.964772",
     "status": "completed"
    },
    "tags": []
   },
   "source": [
    "##### Initializing Data"
   ]
  },
  {
   "cell_type": "code",
   "execution_count": 17,
   "metadata": {
    "execution": {
     "iopub.execute_input": "2020-08-25T10:14:56.081901Z",
     "iopub.status.busy": "2020-08-25T10:14:56.081256Z",
     "iopub.status.idle": "2020-08-25T10:14:56.092874Z",
     "shell.execute_reply": "2020-08-25T10:14:56.092324Z"
    },
    "papermill": {
     "duration": 0.057413,
     "end_time": "2020-08-25T10:14:56.093011",
     "exception": false,
     "start_time": "2020-08-25T10:14:56.035598",
     "status": "completed"
    },
    "tags": []
   },
   "outputs": [],
   "source": [
    "data = Data(X_train, y_train.reshape(-1,1))\n",
    "loss = MSE()\n",
    "opt = GD(config.lr)\n",
    "sampler = Sampler(data, config.bs, shuffle=True)\n",
    "dl = Dataloader(data, sampler)"
   ]
  },
  {
   "cell_type": "markdown",
   "metadata": {
    "papermill": {
     "duration": 0.033149,
     "end_time": "2020-08-25T10:14:56.161223",
     "exception": false,
     "start_time": "2020-08-25T10:14:56.128074",
     "status": "completed"
    },
    "tags": []
   },
   "source": [
    "##### Constructing 2 different layers, one for NN and one only for logistic regression."
   ]
  },
  {
   "cell_type": "markdown",
   "metadata": {
    "papermill": {
     "duration": 0.040133,
     "end_time": "2020-08-25T10:14:56.238153",
     "exception": false,
     "start_time": "2020-08-25T10:14:56.198020",
     "status": "completed"
    },
    "tags": []
   },
   "source": [
    "##### Creating containers for data to be passed, to calculate accuracies"
   ]
  },
  {
   "cell_type": "code",
   "execution_count": 18,
   "metadata": {
    "execution": {
     "iopub.execute_input": "2020-08-25T10:14:56.340249Z",
     "iopub.status.busy": "2020-08-25T10:14:56.335264Z",
     "iopub.status.idle": "2020-08-25T10:14:56.342593Z",
     "shell.execute_reply": "2020-08-25T10:14:56.343165Z"
    },
    "papermill": {
     "duration": 0.064317,
     "end_time": "2020-08-25T10:14:56.343343",
     "exception": false,
     "start_time": "2020-08-25T10:14:56.279026",
     "status": "completed"
    },
    "tags": []
   },
   "outputs": [],
   "source": [
    "training_xdata = X_train\n",
    "testing_xdata = X_test\n",
    "training_ydata = y_train.reshape(-1,1)\n",
    "testing_ydata = y_test.reshape(-1,1)"
   ]
  },
  {
   "cell_type": "markdown",
   "metadata": {
    "papermill": {
     "duration": 0.038735,
     "end_time": "2020-08-25T10:14:56.421823",
     "exception": false,
     "start_time": "2020-08-25T10:14:56.383088",
     "status": "completed"
    },
    "tags": []
   },
   "source": [
    "##### Initializing models and Running training loop: "
   ]
  },
  {
   "cell_type": "code",
   "execution_count": 19,
   "metadata": {
    "execution": {
     "iopub.execute_input": "2020-08-25T10:14:56.501103Z",
     "iopub.status.busy": "2020-08-25T10:14:56.500439Z",
     "iopub.status.idle": "2020-08-25T10:14:56.518152Z",
     "shell.execute_reply": "2020-08-25T10:14:56.517621Z"
    },
    "papermill": {
     "duration": 0.060614,
     "end_time": "2020-08-25T10:14:56.518296",
     "exception": false,
     "start_time": "2020-08-25T10:14:56.457682",
     "status": "completed"
    },
    "tags": []
   },
   "outputs": [],
   "source": [
    "layers = [Affine(\"first\", 784, 100), Relu(\"first\"), Affine(\"second\", 100, 100), Relu(\"second\"), Affine(\"third\", 100, 2), Affine(\"final\", 2, 1), Sigmoid(\"final\")]\n",
    "\n",
    "model_neural = Model(layers)\n",
    "model_logistic = Model([Affine(\"logits\", 784, 1), Sigmoid(\"sigmoid\")])"
   ]
  },
  {
   "cell_type": "code",
   "execution_count": 20,
   "metadata": {
    "execution": {
     "iopub.execute_input": "2020-08-25T10:14:56.595797Z",
     "iopub.status.busy": "2020-08-25T10:14:56.595139Z",
     "iopub.status.idle": "2020-08-25T10:14:56.607769Z",
     "shell.execute_reply": "2020-08-25T10:14:56.608307Z"
    },
    "papermill": {
     "duration": 0.054321,
     "end_time": "2020-08-25T10:14:56.608462",
     "exception": false,
     "start_time": "2020-08-25T10:14:56.554141",
     "status": "completed"
    },
    "tags": []
   },
   "outputs": [],
   "source": [
    "learner1 = Learner(loss, model_neural, opt, config.num_epochs)\n",
    "acc1 = ClfCallback(learner1, config.bs, training_xdata , testing_xdata, training_ydata, testing_ydata)\n",
    "learner1.set_callbacks([acc1])"
   ]
  },
  {
   "cell_type": "code",
   "execution_count": 21,
   "metadata": {
    "execution": {
     "iopub.execute_input": "2020-08-25T10:14:56.684579Z",
     "iopub.status.busy": "2020-08-25T10:14:56.683932Z",
     "iopub.status.idle": "2020-08-25T10:17:04.496342Z",
     "shell.execute_reply": "2020-08-25T10:17:04.497194Z"
    },
    "papermill": {
     "duration": 127.854211,
     "end_time": "2020-08-25T10:17:04.497367",
     "exception": false,
     "start_time": "2020-08-25T10:14:56.643156",
     "status": "completed"
    },
    "tags": []
   },
   "outputs": [
    {
     "name": "stdout",
     "output_type": "stream",
     "text": [
      "Epoch 0 Loss 0.2515056605992278\n",
      "train accuracy is: 0.6184276414621933, test accuracy is 0.6300403225806451\n"
     ]
    },
    {
     "name": "stdout",
     "output_type": "stream",
     "text": [
      "Epoch 10 Loss 0.09621606720730051\n",
      "train accuracy is: 0.9110332164914038, test accuracy is 0.9304435483870968\n"
     ]
    },
    {
     "name": "stdout",
     "output_type": "stream",
     "text": [
      "Epoch 20 Loss 0.05914508944245013\n",
      "train accuracy is: 0.9369888165581706, test accuracy is 0.9490927419354839\n"
     ]
    },
    {
     "name": "stdout",
     "output_type": "stream",
     "text": [
      "Epoch 30 Loss 0.046282337674735025\n",
      "train accuracy is: 0.9489233850776164, test accuracy is 0.9596774193548387\n"
     ]
    },
    {
     "name": "stdout",
     "output_type": "stream",
     "text": [
      "Epoch 40 Loss 0.03984738893826218\n",
      "train accuracy is: 0.9550158571190118, test accuracy is 0.9637096774193549\n"
     ]
    },
    {
     "name": "stdout",
     "output_type": "stream",
     "text": [
      "Epoch 50 Loss 0.035896842397302425\n",
      "train accuracy is: 0.9593557002169921, test accuracy is 0.9662298387096774\n"
     ]
    },
    {
     "name": "stdout",
     "output_type": "stream",
     "text": [
      "Epoch 60 Loss 0.0331490328934265\n",
      "train accuracy is: 0.9620263728926723, test accuracy is 0.9692540322580645\n"
     ]
    },
    {
     "name": "stdout",
     "output_type": "stream",
     "text": [
      "Epoch 70 Loss 0.031075013107623572\n",
      "train accuracy is: 0.9645301285261225, test accuracy is 0.9712701612903226\n"
     ]
    },
    {
     "name": "stdout",
     "output_type": "stream",
     "text": [
      "Epoch 80 Loss 0.02941777088645805\n",
      "train accuracy is: 0.9661158404273076, test accuracy is 0.9717741935483871\n"
     ]
    },
    {
     "name": "stdout",
     "output_type": "stream",
     "text": [
      "Epoch 90 Loss 0.02805681702187696\n",
      "train accuracy is: 0.9676180938073777, test accuracy is 0.9722782258064516\n"
     ]
    },
    {
     "name": "stdout",
     "output_type": "stream",
     "text": [
      "Epoch 100 Loss 0.026908029622376962\n",
      "train accuracy is: 0.9686195960607578, test accuracy is 0.9712701612903226\n"
     ]
    },
    {
     "name": "stdout",
     "output_type": "stream",
     "text": [
      "Epoch 110 Loss 0.025899125980301446\n",
      "train accuracy is: 0.9697880153563679, test accuracy is 0.9717741935483871\n"
     ]
    },
    {
     "name": "stdout",
     "output_type": "stream",
     "text": [
      "Epoch 120 Loss 0.02502283437686068\n",
      "train accuracy is: 0.9711233516942079, test accuracy is 0.9722782258064516\n"
     ]
    },
    {
     "name": "stdout",
     "output_type": "stream",
     "text": [
      "Epoch 130 Loss 0.02423024205607828\n",
      "train accuracy is: 0.972041395426473, test accuracy is 0.9727822580645161\n"
     ]
    },
    {
     "name": "stdout",
     "output_type": "stream",
     "text": [
      "Epoch 140 Loss 0.02352246075621728\n",
      "train accuracy is: 0.9730428976798531, test accuracy is 0.9727822580645161\n"
     ]
    },
    {
     "name": "stdout",
     "output_type": "stream",
     "text": [
      "Epoch 150 Loss 0.022861587739271837\n",
      "train accuracy is: 0.9736271073276581, test accuracy is 0.9727822580645161\n"
     ]
    },
    {
     "name": "stdout",
     "output_type": "stream",
     "text": [
      "Epoch 160 Loss 0.022251555244886177\n",
      "train accuracy is: 0.9746286095810383, test accuracy is 0.9727822580645161\n"
     ]
    },
    {
     "name": "stdout",
     "output_type": "stream",
     "text": [
      "Epoch 170 Loss 0.021686528722236583\n",
      "train accuracy is: 0.9754631947921882, test accuracy is 0.9727822580645161\n"
     ]
    },
    {
     "name": "stdout",
     "output_type": "stream",
     "text": [
      "Epoch 180 Loss 0.021158154775811587\n",
      "train accuracy is: 0.9758804873977633, test accuracy is 0.9732862903225806\n"
     ]
    },
    {
     "name": "stdout",
     "output_type": "stream",
     "text": [
      "Epoch 190 Loss 0.020660599456339867\n",
      "train accuracy is: 0.9759639459188784, test accuracy is 0.9732862903225806\n"
     ]
    },
    {
     "name": "stdout",
     "output_type": "stream",
     "text": [
      "Epoch 200 Loss 0.020184386873747483\n",
      "train accuracy is: 0.9767150726089133, test accuracy is 0.9737903225806451\n"
     ]
    },
    {
     "name": "stdout",
     "output_type": "stream",
     "text": [
      "Epoch 210 Loss 0.0197373188461167\n",
      "train accuracy is: 0.9774661992989484, test accuracy is 0.9737903225806451\n"
     ]
    },
    {
     "name": "stdout",
     "output_type": "stream",
     "text": [
      "Epoch 220 Loss 0.019302492941344986\n",
      "train accuracy is: 0.9782173259889835, test accuracy is 0.9742943548387096\n"
     ]
    },
    {
     "name": "stdout",
     "output_type": "stream",
     "text": [
      "Epoch 230 Loss 0.018879583327297073\n",
      "train accuracy is: 0.9788849941579035, test accuracy is 0.9742943548387096\n"
     ]
    },
    {
     "name": "stdout",
     "output_type": "stream",
     "text": [
      "Epoch 240 Loss 0.018468971089334485\n",
      "train accuracy is: 0.9793022867634785, test accuracy is 0.9742943548387096\n"
     ]
    },
    {
     "data": {
      "text/plain": [
       "0.010861370859609653"
      ]
     },
     "execution_count": 21,
     "metadata": {},
     "output_type": "execute_result"
    }
   ],
   "source": [
    "learner1.train_loop(dl)"
   ]
  },
  {
   "cell_type": "markdown",
   "metadata": {
    "papermill": {
     "duration": 0.044104,
     "end_time": "2020-08-25T10:17:04.584982",
     "exception": false,
     "start_time": "2020-08-25T10:17:04.540878",
     "status": "completed"
    },
    "tags": []
   },
   "source": [
    "##### Now running only the logistic regression based classification to compare results with NN"
   ]
  },
  {
   "cell_type": "code",
   "execution_count": 22,
   "metadata": {
    "execution": {
     "iopub.execute_input": "2020-08-25T10:17:04.688141Z",
     "iopub.status.busy": "2020-08-25T10:17:04.686820Z",
     "iopub.status.idle": "2020-08-25T10:17:04.690806Z",
     "shell.execute_reply": "2020-08-25T10:17:04.691645Z"
    },
    "papermill": {
     "duration": 0.062077,
     "end_time": "2020-08-25T10:17:04.691800",
     "exception": false,
     "start_time": "2020-08-25T10:17:04.629723",
     "status": "completed"
    },
    "tags": []
   },
   "outputs": [],
   "source": [
    "learner2 = Learner(loss, model_logistic, opt, config.num_epochs)\n",
    "acc2 = ClfCallback(learner2, config.bs, training_xdata , testing_xdata, training_ydata, testing_ydata)\n",
    "learner2.set_callbacks([acc2])"
   ]
  },
  {
   "cell_type": "code",
   "execution_count": 23,
   "metadata": {
    "execution": {
     "iopub.execute_input": "2020-08-25T10:17:04.808678Z",
     "iopub.status.busy": "2020-08-25T10:17:04.807640Z",
     "iopub.status.idle": "2020-08-25T10:17:24.074822Z",
     "shell.execute_reply": "2020-08-25T10:17:24.075686Z"
    },
    "papermill": {
     "duration": 19.338983,
     "end_time": "2020-08-25T10:17:24.075857",
     "exception": false,
     "start_time": "2020-08-25T10:17:04.736874",
     "status": "completed"
    },
    "tags": []
   },
   "outputs": [
    {
     "name": "stdout",
     "output_type": "stream",
     "text": [
      "Epoch 0 Loss 0.23391341433293564\n",
      "train accuracy is: 0.7183274912368552, test accuracy is 0.7303427419354839\n"
     ]
    },
    {
     "name": "stdout",
     "output_type": "stream",
     "text": [
      "Epoch 10 Loss 0.09836957170518382\n",
      "train accuracy is: 0.9196294441662494, test accuracy is 0.9289314516129032\n"
     ]
    },
    {
     "name": "stdout",
     "output_type": "stream",
     "text": [
      "Epoch 20 Loss 0.07684020482657962\n",
      "train accuracy is: 0.9318143882490403, test accuracy is 0.9400201612903226\n"
     ]
    },
    {
     "name": "stdout",
     "output_type": "stream",
     "text": [
      "Epoch 30 Loss 0.06677650710174919\n",
      "train accuracy is: 0.9381572358537806, test accuracy is 0.9460685483870968\n"
     ]
    },
    {
     "name": "stdout",
     "output_type": "stream",
     "text": [
      "Epoch 40 Loss 0.06063218738444567\n",
      "train accuracy is: 0.942163244867301, test accuracy is 0.9506048387096774\n"
     ]
    },
    {
     "name": "stdout",
     "output_type": "stream",
     "text": [
      "Epoch 50 Loss 0.05640069907575286\n",
      "train accuracy is: 0.9455850442330161, test accuracy is 0.9546370967741935\n"
     ]
    },
    {
     "name": "stdout",
     "output_type": "stream",
     "text": [
      "Epoch 60 Loss 0.05326768614893975\n",
      "train accuracy is: 0.9480887998664663, test accuracy is 0.9551411290322581\n"
     ]
    },
    {
     "name": "stdout",
     "output_type": "stream",
     "text": [
      "Epoch 70 Loss 0.05083140625268069\n",
      "train accuracy is: 0.9496745117676515, test accuracy is 0.9581653225806451\n"
     ]
    },
    {
     "name": "stdout",
     "output_type": "stream",
     "text": [
      "Epoch 80 Loss 0.04887006754877406\n",
      "train accuracy is: 0.9510098481054916, test accuracy is 0.9606854838709677\n"
     ]
    },
    {
     "name": "stdout",
     "output_type": "stream",
     "text": [
      "Epoch 90 Loss 0.04724531840253592\n",
      "train accuracy is: 0.9517609747955266, test accuracy is 0.9606854838709677\n"
     ]
    },
    {
     "name": "stdout",
     "output_type": "stream",
     "text": [
      "Epoch 100 Loss 0.045874292082774056\n",
      "train accuracy is: 0.9527624770489067, test accuracy is 0.9616935483870968\n"
     ]
    },
    {
     "name": "stdout",
     "output_type": "stream",
     "text": [
      "Epoch 110 Loss 0.04469229331681306\n",
      "train accuracy is: 0.9537639793022867, test accuracy is 0.9616935483870968\n"
     ]
    },
    {
     "name": "stdout",
     "output_type": "stream",
     "text": [
      "Epoch 120 Loss 0.04366369526663653\n",
      "train accuracy is: 0.9551827741612419, test accuracy is 0.9616935483870968\n"
     ]
    },
    {
     "name": "stdout",
     "output_type": "stream",
     "text": [
      "Epoch 130 Loss 0.042755251276468495\n",
      "train accuracy is: 0.9556835252879319, test accuracy is 0.9627016129032258\n"
     ]
    },
    {
     "name": "stdout",
     "output_type": "stream",
     "text": [
      "Epoch 140 Loss 0.041946374745901134\n",
      "train accuracy is: 0.9561842764146219, test accuracy is 0.9627016129032258\n"
     ]
    },
    {
     "name": "stdout",
     "output_type": "stream",
     "text": [
      "Epoch 150 Loss 0.04121820080684727\n",
      "train accuracy is: 0.956601569020197, test accuracy is 0.9632056451612904\n"
     ]
    },
    {
     "name": "stdout",
     "output_type": "stream",
     "text": [
      "Epoch 160 Loss 0.040559064393451374\n",
      "train accuracy is: 0.957102320146887, test accuracy is 0.9637096774193549\n"
     ]
    },
    {
     "name": "stdout",
     "output_type": "stream",
     "text": [
      "Epoch 170 Loss 0.03995855581356412\n",
      "train accuracy is: 0.957102320146887, test accuracy is 0.9642137096774194\n"
     ]
    },
    {
     "name": "stdout",
     "output_type": "stream",
     "text": [
      "Epoch 180 Loss 0.03940756621232857\n",
      "train accuracy is: 0.9578534468369221, test accuracy is 0.9632056451612904\n"
     ]
    },
    {
     "name": "stdout",
     "output_type": "stream",
     "text": [
      "Epoch 190 Loss 0.0389007140119299\n",
      "train accuracy is: 0.9584376564847271, test accuracy is 0.9632056451612904\n"
     ]
    },
    {
     "name": "stdout",
     "output_type": "stream",
     "text": [
      "Epoch 200 Loss 0.03843115596440942\n",
      "train accuracy is: 0.9588549490903021, test accuracy is 0.9637096774193549\n"
     ]
    },
    {
     "name": "stdout",
     "output_type": "stream",
     "text": [
      "Epoch 210 Loss 0.037995232140534956\n",
      "train accuracy is: 0.9592722416958771, test accuracy is 0.9642137096774194\n"
     ]
    },
    {
     "name": "stdout",
     "output_type": "stream",
     "text": [
      "Epoch 220 Loss 0.037588476591724526\n",
      "train accuracy is: 0.9596060757803372, test accuracy is 0.9642137096774194\n"
     ]
    },
    {
     "name": "stdout",
     "output_type": "stream",
     "text": [
      "Epoch 230 Loss 0.03720837267779849\n",
      "train accuracy is: 0.9597729928225672, test accuracy is 0.9642137096774194\n"
     ]
    },
    {
     "name": "stdout",
     "output_type": "stream",
     "text": [
      "Epoch 240 Loss 0.0368509315750234\n",
      "train accuracy is: 0.9604406609914873, test accuracy is 0.9642137096774194\n"
     ]
    },
    {
     "data": {
      "text/plain": [
       "0.05262092253071638"
      ]
     },
     "execution_count": 23,
     "metadata": {},
     "output_type": "execute_result"
    }
   ],
   "source": [
    "learner2.train_loop(dl)"
   ]
  },
  {
   "cell_type": "markdown",
   "metadata": {
    "papermill": {
     "duration": 0.051427,
     "end_time": "2020-08-25T10:17:24.180978",
     "exception": false,
     "start_time": "2020-08-25T10:17:24.129551",
     "status": "completed"
    },
    "tags": []
   },
   "source": [
    "### Comparing results of NN and LR"
   ]
  },
  {
   "cell_type": "code",
   "execution_count": 24,
   "metadata": {
    "execution": {
     "iopub.execute_input": "2020-08-25T10:17:24.310152Z",
     "iopub.status.busy": "2020-08-25T10:17:24.309080Z",
     "iopub.status.idle": "2020-08-25T10:17:24.557237Z",
     "shell.execute_reply": "2020-08-25T10:17:24.556616Z"
    },
    "papermill": {
     "duration": 0.319923,
     "end_time": "2020-08-25T10:17:24.557396",
     "exception": false,
     "start_time": "2020-08-25T10:17:24.237473",
     "status": "completed"
    },
    "tags": []
   },
   "outputs": [
    {
     "data": {
      "text/plain": [
       "<matplotlib.legend.Legend at 0x7f5cfc289828>"
      ]
     },
     "execution_count": 24,
     "metadata": {},
     "output_type": "execute_result"
    },
    {
     "data": {
      "image/png": "[encoded data removed]",
      "text/plain": [
       "<Figure size 576x360 with 1 Axes>"
      ]
     },
     "metadata": {
      "needs_background": "light"
     },
     "output_type": "display_data"
    }
   ],
   "source": [
    "plt.figure(figsize=(8,5))\n",
    "plt.plot(acc1.val_accuracies, 'g-', label = \"Val Accuracies - NN\")\n",
    "plt.plot(acc1.accuracies, 'r-', label = \"Accuracies - NN\")\n",
    "plt.plot(acc2.val_accuracies, 'b-', label = \"Val Accuracies - Logistic Reg\")\n",
    "plt.plot(acc2.accuracies, 'k-', label = \"Accuracies - Logistic Reg\")\n",
    "plt.ylim(0.8,1) ## for a more spread out view\n",
    "plt.legend()"
   ]
  },
  {
   "cell_type": "markdown",
   "metadata": {
    "papermill": {
     "duration": 0.057615,
     "end_time": "2020-08-25T10:17:24.675577",
     "exception": false,
     "start_time": "2020-08-25T10:17:24.617962",
     "status": "completed"
    },
    "tags": []
   },
   "source": [
    "### Clearly NN has a better accuracy over LR; NN is overfitting - Validation accuracy (green) has dropped below training accuracy (orange), also they are diverging. This problem is not seen in LR"
   ]
  },
  {
   "cell_type": "markdown",
   "metadata": {
    "papermill": {
     "duration": 0.05925,
     "end_time": "2020-08-25T10:17:24.798763",
     "exception": false,
     "start_time": "2020-08-25T10:17:24.739513",
     "status": "completed"
    },
    "tags": []
   },
   "source": [
    "##### Now we will be moving through the network, till the output of the second last affine where we get a 2 dimensional output. We will be plotting this 2d output and probability contours"
   ]
  },
  {
   "cell_type": "code",
   "execution_count": 25,
   "metadata": {
    "execution": {
     "iopub.execute_input": "2020-08-25T10:17:24.928030Z",
     "iopub.status.busy": "2020-08-25T10:17:24.924689Z",
     "iopub.status.idle": "2020-08-25T10:17:24.938378Z",
     "shell.execute_reply": "2020-08-25T10:17:24.937123Z"
    },
    "papermill": {
     "duration": 0.081071,
     "end_time": "2020-08-25T10:17:24.938535",
     "exception": false,
     "start_time": "2020-08-25T10:17:24.857464",
     "status": "completed"
    },
    "tags": []
   },
   "outputs": [],
   "source": [
    "model_new = Model(layers[:-2])"
   ]
  },
  {
   "cell_type": "code",
   "execution_count": 26,
   "metadata": {
    "execution": {
     "iopub.execute_input": "2020-08-25T10:17:25.060280Z",
     "iopub.status.busy": "2020-08-25T10:17:25.059559Z",
     "iopub.status.idle": "2020-08-25T10:17:25.087908Z",
     "shell.execute_reply": "2020-08-25T10:17:25.088697Z"
    },
    "papermill": {
     "duration": 0.089538,
     "end_time": "2020-08-25T10:17:25.088873",
     "exception": false,
     "start_time": "2020-08-25T10:17:24.999335",
     "status": "completed"
    },
    "tags": []
   },
   "outputs": [],
   "source": [
    "plot_testing = model_new(testing_xdata)"
   ]
  },
  {
   "cell_type": "markdown",
   "metadata": {
    "papermill": {
     "duration": 0.078788,
     "end_time": "2020-08-25T10:17:25.222022",
     "exception": false,
     "start_time": "2020-08-25T10:17:25.143234",
     "status": "completed"
    },
    "tags": []
   },
   "source": [
    "##### Plotting the scatter plot of points and color coding by class"
   ]
  },
  {
   "cell_type": "code",
   "execution_count": 27,
   "metadata": {
    "execution": {
     "iopub.execute_input": "2020-08-25T10:17:25.336904Z",
     "iopub.status.busy": "2020-08-25T10:17:25.335914Z",
     "iopub.status.idle": "2020-08-25T10:17:25.575178Z",
     "shell.execute_reply": "2020-08-25T10:17:25.575768Z"
    },
    "papermill": {
     "duration": 0.297888,
     "end_time": "2020-08-25T10:17:25.575949",
     "exception": false,
     "start_time": "2020-08-25T10:17:25.278061",
     "status": "completed"
    },
    "tags": []
   },
   "outputs": [
    {
     "data": {
      "image/png": "[encoded data removed]",
      "text/plain": [
       "<Figure size 576x504 with 1 Axes>"
      ]
     },
     "metadata": {
      "needs_background": "light"
     },
     "output_type": "display_data"
    }
   ],
   "source": [
    "plt.figure(figsize=(8,7))\n",
    "plt.scatter(plot_testing[:,0], plot_testing[:,1], alpha = 0.1, c = y_test.ravel());"
   ]
  },
  {
   "cell_type": "markdown",
   "metadata": {
    "papermill": {
     "duration": 0.05511,
     "end_time": "2020-08-25T10:17:25.697040",
     "exception": false,
     "start_time": "2020-08-25T10:17:25.641930",
     "status": "completed"
    },
    "tags": []
   },
   "source": [
    "##### Plotting probability contours"
   ]
  },
  {
   "cell_type": "code",
   "execution_count": 28,
   "metadata": {
    "execution": {
     "iopub.execute_input": "2020-08-25T10:17:25.816013Z",
     "iopub.status.busy": "2020-08-25T10:17:25.815287Z",
     "iopub.status.idle": "2020-08-25T10:17:25.827933Z",
     "shell.execute_reply": "2020-08-25T10:17:25.829799Z"
    },
    "papermill": {
     "duration": 0.077437,
     "end_time": "2020-08-25T10:17:25.829973",
     "exception": false,
     "start_time": "2020-08-25T10:17:25.752536",
     "status": "completed"
    },
    "tags": []
   },
   "outputs": [],
   "source": [
    "model_prob = Model(layers[-2:]) ## picking only last two layers to get probability. That is affine followed by sigmoid"
   ]
  },
  {
   "cell_type": "code",
   "execution_count": 29,
   "metadata": {
    "execution": {
     "iopub.execute_input": "2020-08-25T10:17:25.947445Z",
     "iopub.status.busy": "2020-08-25T10:17:25.946786Z",
     "iopub.status.idle": "2020-08-25T10:17:25.963232Z",
     "shell.execute_reply": "2020-08-25T10:17:25.963806Z"
    },
    "papermill": {
     "duration": 0.0752,
     "end_time": "2020-08-25T10:17:25.963989",
     "exception": false,
     "start_time": "2020-08-25T10:17:25.888789",
     "status": "completed"
    },
    "tags": []
   },
   "outputs": [],
   "source": [
    "xgrid = np.linspace(-4, 1, 100) ## Adjust these values based on above chart, roughly -4 to 1\n",
    "ygrid = np.linspace(-7.5, 7.5, 100) ## Adjust these values based on above chart, roughly -7.5, 7.5\n",
    "xg, yg = np.meshgrid(xgrid, ygrid)\n",
    "# xg and yg are now both 100X100, lets convert them to single arrays \n",
    "\n",
    "xg_interim = np.ravel(xg)\n",
    "yg_interim = np.ravel(yg)\n",
    "\n",
    "## xg_interim, yg_interim are now arrays of len 10000, now we will stack them and then transpose to get desired shape of n rows, 2 columns\n",
    "\n",
    "X_interim = np.vstack((xg_interim, yg_interim)) ## Please note vstack takes in a tuple\n",
    "X = X_interim.T\n",
    "\n",
    "## We want a shape of n rows and 2 columns to be able to feed this to last affine\n",
    "## This last affine takes only two columns, hence the above transformation\n",
    "probability_contour = model_prob(X).reshape(100,100) ## to make it consistent with xg, yg"
   ]
  },
  {
   "cell_type": "code",
   "execution_count": 30,
   "metadata": {
    "execution": {
     "iopub.execute_input": "2020-08-25T10:17:26.130578Z",
     "iopub.status.busy": "2020-08-25T10:17:26.104919Z",
     "iopub.status.idle": "2020-08-25T10:17:26.392733Z",
     "shell.execute_reply": "2020-08-25T10:17:26.393272Z"
    },
    "papermill": {
     "duration": 0.368831,
     "end_time": "2020-08-25T10:17:26.393441",
     "exception": false,
     "start_time": "2020-08-25T10:17:26.024610",
     "status": "completed"
    },
    "tags": []
   },
   "outputs": [
    {
     "data": {
      "image/png": "[encoded data removed]",
      "text/plain": [
       "<Figure size 576x504 with 1 Axes>"
      ]
     },
     "metadata": {
      "needs_background": "light"
     },
     "output_type": "display_data"
    }
   ],
   "source": [
    "plt.figure(figsize=(8,7))\n",
    "plt.scatter(plot_testing[:,0], plot_testing[:,1], alpha = 0.1, c = y_test.ravel())\n",
    "contours = plt.contour(xg,yg,probability_contour)\n",
    "plt.clabel(contours, inline = True );"
   ]
  }
 ],
 "metadata": {
  "kernelspec": {
   "display_name": "Python 3",
   "language": "python",
   "name": "python3"
  },
  "language_info": {
   "codemirror_mode": {
    "name": "ipython",
    "version": 3
   },
   "file_extension": ".py",
   "mimetype": "text/x-python",
   "name": "python",
   "nbconvert_exporter": "python",
   "pygments_lexer": "ipython3",
   "version": "3.6.11"
  },
  "papermill": {
   "duration": 158.12467,
   "end_time": "2020-08-25T10:17:26.871507",
   "environment_variables": {},
   "exception": null,
   "input_path": "2020-08-07-NN-new.ipynb",
   "output_path": "2020-08-07-NN-new.ipynb",
   "parameters": {},
   "start_time": "2020-08-25T10:14:48.746837",
   "version": "2.1.2"
  }
 },
 "nbformat": 4,
 "nbformat_minor": 4
}