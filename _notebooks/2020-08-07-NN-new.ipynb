{
 "cells": [
  {
   "cell_type": "markdown",
   "metadata": {
    "papermill": {
     "duration": 0.030234,
     "end_time": "2020-08-26T20:14:20.720686",
     "exception": false,
     "start_time": "2020-08-26T20:14:20.690452",
     "status": "completed"
    },
    "tags": []
   },
   "source": [
    "# \"Building a basic Neural Network from scratch - Kudzu\"\n",
    "\n",
    "- badges: true\n",
    "- author: Anshuman Gupta"
   ]
  },
  {
   "cell_type": "markdown",
   "metadata": {
    "papermill": {
     "duration": 0.024906,
     "end_time": "2020-08-26T20:14:20.770820",
     "exception": false,
     "start_time": "2020-08-26T20:14:20.745914",
     "status": "completed"
    },
    "tags": []
   },
   "source": [
    "#### In this project, the idea is to write a classifier to differentiate between handwritten digits 3 and 8, from the MNIST database.\n",
    "\n",
    "#### I will using a custom built neural network library called Kudzu.This has been developed as a part of KTF/Foundations course of Univ.ai (www.univ.ai). The source code for Kudzu Library and and this notebook can be found on my git-hub profile : www.https://github.com/anshuman6 under the folder project-solution. Any feedback and comments are welcome. Please feel free to email me at: anshuman6@gmail.com\n",
    "\n",
    "#### 1. I will be using the MNIST database. \n",
    "\n",
    "#### 2. I will be comparing the results of the 4 layer NN to a standard logistic regression"
   ]
  },
  {
   "cell_type": "markdown",
   "metadata": {
    "papermill": {
     "duration": 0.025328,
     "end_time": "2020-08-26T20:14:20.823249",
     "exception": false,
     "start_time": "2020-08-26T20:14:20.797921",
     "status": "completed"
    },
    "tags": []
   },
   "source": [
    "##### Importing all the necessary libraries"
   ]
  },
  {
   "cell_type": "code",
   "execution_count": 1,
   "metadata": {
    "execution": {
     "iopub.execute_input": "2020-08-26T20:14:20.881399Z",
     "iopub.status.busy": "2020-08-26T20:14:20.880842Z",
     "iopub.status.idle": "2020-08-26T20:14:20.892292Z",
     "shell.execute_reply": "2020-08-26T20:14:20.891783Z"
    },
    "papermill": {
     "duration": 0.042693,
     "end_time": "2020-08-26T20:14:20.892426",
     "exception": false,
     "start_time": "2020-08-26T20:14:20.849733",
     "status": "completed"
    },
    "tags": []
   },
   "outputs": [],
   "source": [
    "%load_ext autoreload\n",
    "%autoreload 2"
   ]
  },
  {
   "cell_type": "code",
   "execution_count": 2,
   "metadata": {
    "execution": {
     "iopub.execute_input": "2020-08-26T20:14:20.949578Z",
     "iopub.status.busy": "2020-08-26T20:14:20.949035Z",
     "iopub.status.idle": "2020-08-26T20:14:21.479078Z",
     "shell.execute_reply": "2020-08-26T20:14:21.479627Z"
    },
    "papermill": {
     "duration": 0.56585,
     "end_time": "2020-08-26T20:14:21.479815",
     "exception": false,
     "start_time": "2020-08-26T20:14:20.913965",
     "status": "completed"
    },
    "tags": []
   },
   "outputs": [],
   "source": [
    "%matplotlib inline\n",
    "import numpy as np\n",
    "import matplotlib.pyplot as plt\n",
    "import pandas as pd"
   ]
  },
  {
   "cell_type": "markdown",
   "metadata": {
    "papermill": {
     "duration": 0.024439,
     "end_time": "2020-08-26T20:14:21.530871",
     "exception": false,
     "start_time": "2020-08-26T20:14:21.506432",
     "status": "completed"
    },
    "tags": []
   },
   "source": [
    "##### The following command helps us download MNIST from notebook itself. You can skip this if you already have MNIST. You can also download it via your terminal."
   ]
  },
  {
   "cell_type": "code",
   "execution_count": 3,
   "metadata": {
    "execution": {
     "iopub.execute_input": "2020-08-26T20:14:21.583722Z",
     "iopub.status.busy": "2020-08-26T20:14:21.583152Z",
     "iopub.status.idle": "2020-08-26T20:14:22.862914Z",
     "shell.execute_reply": "2020-08-26T20:14:22.862374Z"
    },
    "papermill": {
     "duration": 1.308505,
     "end_time": "2020-08-26T20:14:22.863068",
     "exception": false,
     "start_time": "2020-08-26T20:14:21.554563",
     "status": "completed"
    },
    "tags": []
   },
   "outputs": [
    {
     "name": "stdout",
     "output_type": "stream",
     "text": [
      "Collecting mnist\r\n"
     ]
    },
    {
     "name": "stdout",
     "output_type": "stream",
     "text": [
      "  Downloading mnist-0.2.2-py2.py3-none-any.whl (3.5 kB)\r\n",
      "Requirement already satisfied: numpy in /opt/hostedtoolcache/Python/3.6.11/x64/lib/python3.6/site-packages (from mnist) (1.19.1)\r\n"
     ]
    },
    {
     "name": "stdout",
     "output_type": "stream",
     "text": [
      "Installing collected packages: mnist\r\n"
     ]
    },
    {
     "name": "stdout",
     "output_type": "stream",
     "text": [
      "Successfully installed mnist-0.2.2\r\n"
     ]
    }
   ],
   "source": [
    "!pip install mnist # Please note, it is commented out for now, you can remove comment if you want to install it"
   ]
  },
  {
   "cell_type": "markdown",
   "metadata": {
    "papermill": {
     "duration": 0.025974,
     "end_time": "2020-08-26T20:14:22.913692",
     "exception": false,
     "start_time": "2020-08-26T20:14:22.887718",
     "status": "completed"
    },
    "tags": []
   },
   "source": [
    "#### Preparing the Data"
   ]
  },
  {
   "cell_type": "code",
   "execution_count": 4,
   "metadata": {
    "execution": {
     "iopub.execute_input": "2020-08-26T20:14:22.972415Z",
     "iopub.status.busy": "2020-08-26T20:14:22.971834Z",
     "iopub.status.idle": "2020-08-26T20:14:22.986797Z",
     "shell.execute_reply": "2020-08-26T20:14:22.986323Z"
    },
    "papermill": {
     "duration": 0.04629,
     "end_time": "2020-08-26T20:14:22.986928",
     "exception": false,
     "start_time": "2020-08-26T20:14:22.940638",
     "status": "completed"
    },
    "tags": []
   },
   "outputs": [],
   "source": [
    "import mnist"
   ]
  },
  {
   "cell_type": "code",
   "execution_count": 5,
   "metadata": {
    "execution": {
     "iopub.execute_input": "2020-08-26T20:14:23.042930Z",
     "iopub.status.busy": "2020-08-26T20:14:23.042352Z",
     "iopub.status.idle": "2020-08-26T20:14:23.811693Z",
     "shell.execute_reply": "2020-08-26T20:14:23.810774Z"
    },
    "papermill": {
     "duration": 0.799166,
     "end_time": "2020-08-26T20:14:23.811913",
     "exception": false,
     "start_time": "2020-08-26T20:14:23.012747",
     "status": "completed"
    },
    "tags": []
   },
   "outputs": [],
   "source": [
    "train_images = mnist.train_images()\n",
    "train_labels = mnist.train_labels()"
   ]
  },
  {
   "cell_type": "code",
   "execution_count": 6,
   "metadata": {
    "execution": {
     "iopub.execute_input": "2020-08-26T20:14:23.869345Z",
     "iopub.status.busy": "2020-08-26T20:14:23.868709Z",
     "iopub.status.idle": "2020-08-26T20:14:23.883978Z",
     "shell.execute_reply": "2020-08-26T20:14:23.883502Z"
    },
    "papermill": {
     "duration": 0.044089,
     "end_time": "2020-08-26T20:14:23.884226",
     "exception": false,
     "start_time": "2020-08-26T20:14:23.840137",
     "status": "completed"
    },
    "tags": []
   },
   "outputs": [
    {
     "data": {
      "text/plain": [
       "((60000, 28, 28), (60000,))"
      ]
     },
     "execution_count": 6,
     "metadata": {},
     "output_type": "execute_result"
    }
   ],
   "source": [
    "train_images.shape, train_labels.shape"
   ]
  },
  {
   "cell_type": "code",
   "execution_count": 7,
   "metadata": {
    "execution": {
     "iopub.execute_input": "2020-08-26T20:14:23.936946Z",
     "iopub.status.busy": "2020-08-26T20:14:23.936364Z",
     "iopub.status.idle": "2020-08-26T20:14:24.210850Z",
     "shell.execute_reply": "2020-08-26T20:14:24.211253Z"
    },
    "papermill": {
     "duration": 0.302798,
     "end_time": "2020-08-26T20:14:24.211398",
     "exception": false,
     "start_time": "2020-08-26T20:14:23.908600",
     "status": "completed"
    },
    "tags": []
   },
   "outputs": [],
   "source": [
    "test_images = mnist.test_images()\n",
    "test_labels = mnist.test_labels()"
   ]
  },
  {
   "cell_type": "code",
   "execution_count": 8,
   "metadata": {
    "execution": {
     "iopub.execute_input": "2020-08-26T20:14:24.269344Z",
     "iopub.status.busy": "2020-08-26T20:14:24.268765Z",
     "iopub.status.idle": "2020-08-26T20:14:24.282232Z",
     "shell.execute_reply": "2020-08-26T20:14:24.281846Z"
    },
    "papermill": {
     "duration": 0.043154,
     "end_time": "2020-08-26T20:14:24.282342",
     "exception": false,
     "start_time": "2020-08-26T20:14:24.239188",
     "status": "completed"
    },
    "tags": []
   },
   "outputs": [
    {
     "data": {
      "text/plain": [
       "((10000, 28, 28), (10000,))"
      ]
     },
     "execution_count": 8,
     "metadata": {},
     "output_type": "execute_result"
    }
   ],
   "source": [
    "test_images.shape, test_labels.shape"
   ]
  },
  {
   "cell_type": "code",
   "execution_count": 9,
   "metadata": {
    "execution": {
     "iopub.execute_input": "2020-08-26T20:14:24.335979Z",
     "iopub.status.busy": "2020-08-26T20:14:24.335496Z",
     "iopub.status.idle": "2020-08-26T20:14:24.469278Z",
     "shell.execute_reply": "2020-08-26T20:14:24.470112Z"
    },
    "papermill": {
     "duration": 0.163613,
     "end_time": "2020-08-26T20:14:24.470357",
     "exception": false,
     "start_time": "2020-08-26T20:14:24.306744",
     "status": "completed"
    },
    "tags": []
   },
   "outputs": [
    {
     "name": "stdout",
     "output_type": "stream",
     "text": [
      "2\n"
     ]
    },
    {
     "data": {
      "text/plain": [
       "<matplotlib.image.AxesImage at 0x7fef7f230b38>"
      ]
     },
     "execution_count": 9,
     "metadata": {},
     "output_type": "execute_result"
    },
    {
     "data": {
      "image/png": "[encoded data removed]",
      "text/plain": [
       "<Figure size 432x288 with 1 Axes>"
      ]
     },
     "metadata": {
      "needs_background": "light"
     },
     "output_type": "display_data"
    }
   ],
   "source": [
    "image_index = 7776 # You may select anything up to 60,000\n",
    "print(train_labels[image_index]) \n",
    "plt.imshow(train_images[image_index], cmap='Greys')"
   ]
  },
  {
   "cell_type": "markdown",
   "metadata": {
    "papermill": {
     "duration": 0.027068,
     "end_time": "2020-08-26T20:14:24.525369",
     "exception": false,
     "start_time": "2020-08-26T20:14:24.498301",
     "status": "completed"
    },
    "tags": []
   },
   "source": [
    "## Filter data to get 3 and 8 out"
   ]
  },
  {
   "cell_type": "code",
   "execution_count": 10,
   "metadata": {
    "execution": {
     "iopub.execute_input": "2020-08-26T20:14:24.582792Z",
     "iopub.status.busy": "2020-08-26T20:14:24.582318Z",
     "iopub.status.idle": "2020-08-26T20:14:24.601559Z",
     "shell.execute_reply": "2020-08-26T20:14:24.601084Z"
    },
    "papermill": {
     "duration": 0.049575,
     "end_time": "2020-08-26T20:14:24.601662",
     "exception": false,
     "start_time": "2020-08-26T20:14:24.552087",
     "status": "completed"
    },
    "tags": []
   },
   "outputs": [],
   "source": [
    "train_filter = np.where((train_labels == 3 ) | (train_labels == 8))\n",
    "test_filter = np.where((test_labels == 3) | (test_labels == 8))\n",
    "X_train, y_train = train_images[train_filter], train_labels[train_filter]\n",
    "X_test, y_test = test_images[test_filter], test_labels[test_filter]"
   ]
  },
  {
   "cell_type": "markdown",
   "metadata": {
    "papermill": {
     "duration": 0.025174,
     "end_time": "2020-08-26T20:14:24.651910",
     "exception": false,
     "start_time": "2020-08-26T20:14:24.626736",
     "status": "completed"
    },
    "tags": []
   },
   "source": [
    "##### We normalize the pizel values in the 0 to 1 range"
   ]
  },
  {
   "cell_type": "code",
   "execution_count": 11,
   "metadata": {
    "execution": {
     "iopub.execute_input": "2020-08-26T20:14:24.706922Z",
     "iopub.status.busy": "2020-08-26T20:14:24.706363Z",
     "iopub.status.idle": "2020-08-26T20:14:24.756884Z",
     "shell.execute_reply": "2020-08-26T20:14:24.756234Z"
    },
    "papermill": {
     "duration": 0.080094,
     "end_time": "2020-08-26T20:14:24.757017",
     "exception": false,
     "start_time": "2020-08-26T20:14:24.676923",
     "status": "completed"
    },
    "tags": []
   },
   "outputs": [],
   "source": [
    "X_train = X_train/255.\n",
    "X_test = X_test/255."
   ]
  },
  {
   "cell_type": "markdown",
   "metadata": {
    "papermill": {
     "duration": 0.02887,
     "end_time": "2020-08-26T20:14:24.812106",
     "exception": false,
     "start_time": "2020-08-26T20:14:24.783236",
     "status": "completed"
    },
    "tags": []
   },
   "source": [
    "And setup the labels as 1 (when the digit is 3) and 0 (when the digit is 8)"
   ]
  },
  {
   "cell_type": "code",
   "execution_count": 12,
   "metadata": {
    "execution": {
     "iopub.execute_input": "2020-08-26T20:14:24.872651Z",
     "iopub.status.busy": "2020-08-26T20:14:24.872068Z",
     "iopub.status.idle": "2020-08-26T20:14:24.885887Z",
     "shell.execute_reply": "2020-08-26T20:14:24.885409Z"
    },
    "papermill": {
     "duration": 0.045425,
     "end_time": "2020-08-26T20:14:24.886017",
     "exception": false,
     "start_time": "2020-08-26T20:14:24.840592",
     "status": "completed"
    },
    "tags": []
   },
   "outputs": [],
   "source": [
    "y_train = 1*(y_train==3)\n",
    "y_test = 1*(y_test==3)"
   ]
  },
  {
   "cell_type": "code",
   "execution_count": 13,
   "metadata": {
    "execution": {
     "iopub.execute_input": "2020-08-26T20:14:24.942996Z",
     "iopub.status.busy": "2020-08-26T20:14:24.942525Z",
     "iopub.status.idle": "2020-08-26T20:14:24.956341Z",
     "shell.execute_reply": "2020-08-26T20:14:24.956807Z"
    },
    "papermill": {
     "duration": 0.043688,
     "end_time": "2020-08-26T20:14:24.956945",
     "exception": false,
     "start_time": "2020-08-26T20:14:24.913257",
     "status": "completed"
    },
    "tags": []
   },
   "outputs": [
    {
     "data": {
      "text/plain": [
       "((11982, 28, 28), (1984, 28, 28))"
      ]
     },
     "execution_count": 13,
     "metadata": {},
     "output_type": "execute_result"
    }
   ],
   "source": [
    "X_train.shape, X_test.shape"
   ]
  },
  {
   "cell_type": "markdown",
   "metadata": {
    "papermill": {
     "duration": 0.027024,
     "end_time": "2020-08-26T20:14:25.010675",
     "exception": false,
     "start_time": "2020-08-26T20:14:24.983651",
     "status": "completed"
    },
    "tags": []
   },
   "source": [
    "##### We reshape the data to flatten the image pixels into a set of features or co-variates:"
   ]
  },
  {
   "cell_type": "code",
   "execution_count": 14,
   "metadata": {
    "execution": {
     "iopub.execute_input": "2020-08-26T20:14:25.071194Z",
     "iopub.status.busy": "2020-08-26T20:14:25.070610Z",
     "iopub.status.idle": "2020-08-26T20:14:25.084624Z",
     "shell.execute_reply": "2020-08-26T20:14:25.084146Z"
    },
    "papermill": {
     "duration": 0.046975,
     "end_time": "2020-08-26T20:14:25.084769",
     "exception": false,
     "start_time": "2020-08-26T20:14:25.037794",
     "status": "completed"
    },
    "tags": []
   },
   "outputs": [
    {
     "data": {
      "text/plain": [
       "((11982, 784), (1984, 784))"
      ]
     },
     "execution_count": 14,
     "metadata": {},
     "output_type": "execute_result"
    }
   ],
   "source": [
    "X_train = X_train.reshape(X_train.shape[0], -1)\n",
    "X_test = X_test.reshape(X_test.shape[0], -1)\n",
    "X_train.shape, X_test.shape"
   ]
  },
  {
   "cell_type": "markdown",
   "metadata": {
    "papermill": {
     "duration": 0.028057,
     "end_time": "2020-08-26T20:14:25.142528",
     "exception": false,
     "start_time": "2020-08-26T20:14:25.114471",
     "status": "completed"
    },
    "tags": []
   },
   "source": [
    "##### Importing Kudzu library and its functionality"
   ]
  },
  {
   "cell_type": "code",
   "execution_count": 15,
   "metadata": {
    "execution": {
     "iopub.execute_input": "2020-08-26T20:14:25.205813Z",
     "iopub.status.busy": "2020-08-26T20:14:25.205217Z",
     "iopub.status.idle": "2020-08-26T20:14:25.224221Z",
     "shell.execute_reply": "2020-08-26T20:14:25.223753Z"
    },
    "papermill": {
     "duration": 0.052709,
     "end_time": "2020-08-26T20:14:25.224343",
     "exception": false,
     "start_time": "2020-08-26T20:14:25.171634",
     "status": "completed"
    },
    "tags": []
   },
   "outputs": [],
   "source": [
    "from kudzu.data import Data, Dataloader, Sampler\n",
    "from kudzu.callbacks import AccCallback\n",
    "from kudzu.loss import MSE\n",
    "from kudzu.layer import Affine, Sigmoid\n",
    "from kudzu.model import Model\n",
    "from kudzu.optim import GD\n",
    "from kudzu.train import Learner\n",
    "from kudzu.callbacks import ClfCallback\n",
    "from kudzu.layer import Sigmoid\n",
    "from kudzu.layer import Relu"
   ]
  },
  {
   "cell_type": "markdown",
   "metadata": {
    "papermill": {
     "duration": 0.028653,
     "end_time": "2020-08-26T20:14:25.279473",
     "exception": false,
     "start_time": "2020-08-26T20:14:25.250820",
     "status": "completed"
    },
    "tags": []
   },
   "source": [
    "##### We are creating a class, just so that we can use it to store our parameters for us"
   ]
  },
  {
   "cell_type": "code",
   "execution_count": 16,
   "metadata": {
    "execution": {
     "iopub.execute_input": "2020-08-26T20:14:25.340415Z",
     "iopub.status.busy": "2020-08-26T20:14:25.339817Z",
     "iopub.status.idle": "2020-08-26T20:14:25.353468Z",
     "shell.execute_reply": "2020-08-26T20:14:25.354041Z"
    },
    "papermill": {
     "duration": 0.046848,
     "end_time": "2020-08-26T20:14:25.354191",
     "exception": false,
     "start_time": "2020-08-26T20:14:25.307343",
     "status": "completed"
    },
    "tags": []
   },
   "outputs": [],
   "source": [
    "class Config:\n",
    "    pass\n",
    "config = Config()\n",
    "config.lr = 0.001\n",
    "config.num_epochs = 250\n",
    "config.bs = 50"
   ]
  },
  {
   "cell_type": "markdown",
   "metadata": {
    "papermill": {
     "duration": 0.02932,
     "end_time": "2020-08-26T20:14:25.412771",
     "exception": false,
     "start_time": "2020-08-26T20:14:25.383451",
     "status": "completed"
    },
    "tags": []
   },
   "source": [
    "##### Initializing Data"
   ]
  },
  {
   "cell_type": "code",
   "execution_count": 17,
   "metadata": {
    "execution": {
     "iopub.execute_input": "2020-08-26T20:14:25.485450Z",
     "iopub.status.busy": "2020-08-26T20:14:25.484841Z",
     "iopub.status.idle": "2020-08-26T20:14:25.487483Z",
     "shell.execute_reply": "2020-08-26T20:14:25.488114Z"
    },
    "papermill": {
     "duration": 0.044597,
     "end_time": "2020-08-26T20:14:25.488256",
     "exception": false,
     "start_time": "2020-08-26T20:14:25.443659",
     "status": "completed"
    },
    "tags": []
   },
   "outputs": [],
   "source": [
    "data = Data(X_train, y_train.reshape(-1,1))\n",
    "loss = MSE()\n",
    "opt = GD(config.lr)\n",
    "sampler = Sampler(data, config.bs, shuffle=True)\n",
    "dl = Dataloader(data, sampler)"
   ]
  },
  {
   "cell_type": "markdown",
   "metadata": {
    "papermill": {
     "duration": 0.028919,
     "end_time": "2020-08-26T20:14:25.544438",
     "exception": false,
     "start_time": "2020-08-26T20:14:25.515519",
     "status": "completed"
    },
    "tags": []
   },
   "source": [
    "##### Constructing 2 different layers, one for NN and one only for logistic regression."
   ]
  },
  {
   "cell_type": "markdown",
   "metadata": {
    "papermill": {
     "duration": 0.02898,
     "end_time": "2020-08-26T20:14:25.601892",
     "exception": false,
     "start_time": "2020-08-26T20:14:25.572912",
     "status": "completed"
    },
    "tags": []
   },
   "source": [
    "##### Creating containers for data to be passed, to calculate accuracies"
   ]
  },
  {
   "cell_type": "code",
   "execution_count": 18,
   "metadata": {
    "execution": {
     "iopub.execute_input": "2020-08-26T20:14:25.665503Z",
     "iopub.status.busy": "2020-08-26T20:14:25.664868Z",
     "iopub.status.idle": "2020-08-26T20:14:25.677932Z",
     "shell.execute_reply": "2020-08-26T20:14:25.677459Z"
    },
    "papermill": {
     "duration": 0.046395,
     "end_time": "2020-08-26T20:14:25.678069",
     "exception": false,
     "start_time": "2020-08-26T20:14:25.631674",
     "status": "completed"
    },
    "tags": []
   },
   "outputs": [],
   "source": [
    "training_xdata = X_train\n",
    "testing_xdata = X_test\n",
    "training_ydata = y_train.reshape(-1,1)\n",
    "testing_ydata = y_test.reshape(-1,1)"
   ]
  },
  {
   "cell_type": "markdown",
   "metadata": {
    "papermill": {
     "duration": 0.028721,
     "end_time": "2020-08-26T20:14:25.736914",
     "exception": false,
     "start_time": "2020-08-26T20:14:25.708193",
     "status": "completed"
    },
    "tags": []
   },
   "source": [
    "##### Initializing models and Running training loop: "
   ]
  },
  {
   "cell_type": "code",
   "execution_count": 19,
   "metadata": {
    "execution": {
     "iopub.execute_input": "2020-08-26T20:14:25.800394Z",
     "iopub.status.busy": "2020-08-26T20:14:25.799783Z",
     "iopub.status.idle": "2020-08-26T20:14:25.819248Z",
     "shell.execute_reply": "2020-08-26T20:14:25.817918Z"
    },
    "papermill": {
     "duration": 0.053659,
     "end_time": "2020-08-26T20:14:25.819376",
     "exception": false,
     "start_time": "2020-08-26T20:14:25.765717",
     "status": "completed"
    },
    "tags": []
   },
   "outputs": [],
   "source": [
    "layers = [Affine(\"first\", 784, 100), Relu(\"first\"), Affine(\"second\", 100, 100), Relu(\"second\"), Affine(\"third\", 100, 2), Affine(\"final\", 2, 1), Sigmoid(\"final\")]\n",
    "\n",
    "model_neural = Model(layers)\n",
    "model_logistic = Model([Affine(\"logits\", 784, 1), Sigmoid(\"sigmoid\")])"
   ]
  },
  {
   "cell_type": "code",
   "execution_count": 20,
   "metadata": {
    "execution": {
     "iopub.execute_input": "2020-08-26T20:14:25.883232Z",
     "iopub.status.busy": "2020-08-26T20:14:25.882607Z",
     "iopub.status.idle": "2020-08-26T20:14:25.900355Z",
     "shell.execute_reply": "2020-08-26T20:14:25.899647Z"
    },
    "papermill": {
     "duration": 0.05295,
     "end_time": "2020-08-26T20:14:25.900492",
     "exception": false,
     "start_time": "2020-08-26T20:14:25.847542",
     "status": "completed"
    },
    "tags": []
   },
   "outputs": [],
   "source": [
    "learner1 = Learner(loss, model_neural, opt, config.num_epochs)\n",
    "acc1 = ClfCallback(learner1, config.bs, training_xdata , testing_xdata, training_ydata, testing_ydata)\n",
    "learner1.set_callbacks([acc1])"
   ]
  },
  {
   "cell_type": "code",
   "execution_count": 21,
   "metadata": {
    "execution": {
     "iopub.execute_input": "2020-08-26T20:14:25.967953Z",
     "iopub.status.busy": "2020-08-26T20:14:25.967430Z",
     "iopub.status.idle": "2020-08-26T20:15:49.263805Z",
     "shell.execute_reply": "2020-08-26T20:15:49.264989Z"
    },
    "papermill": {
     "duration": 83.334839,
     "end_time": "2020-08-26T20:15:49.265540",
     "exception": false,
     "start_time": "2020-08-26T20:14:25.930701",
     "status": "completed"
    },
    "tags": []
   },
   "outputs": [
    {
     "name": "stdout",
     "output_type": "stream",
     "text": [
      "Epoch 0 Loss 0.20222691836766057\n",
      "train accuracy is: 0.7945251210148556, test accuracy is 0.8185483870967742\n"
     ]
    },
    {
     "name": "stdout",
     "output_type": "stream",
     "text": [
      "Epoch 10 Loss 0.05436883429916238\n",
      "train accuracy is: 0.9465030879652813, test accuracy is 0.952116935483871\n"
     ]
    },
    {
     "name": "stdout",
     "output_type": "stream",
     "text": [
      "Epoch 20 Loss 0.0380432944209968\n",
      "train accuracy is: 0.9608579535970623, test accuracy is 0.9672379032258065\n"
     ]
    },
    {
     "name": "stdout",
     "output_type": "stream",
     "text": [
      "Epoch 30 Loss 0.03184394401824145\n",
      "train accuracy is: 0.9661158404273076, test accuracy is 0.9692540322580645\n"
     ]
    },
    {
     "name": "stdout",
     "output_type": "stream",
     "text": [
      "Epoch 40 Loss 0.028348744654845347\n",
      "train accuracy is: 0.9691203471874479, test accuracy is 0.9707661290322581\n"
     ]
    },
    {
     "name": "stdout",
     "output_type": "stream",
     "text": [
      "Epoch 50 Loss 0.025983945590595334\n",
      "train accuracy is: 0.9702053079619429, test accuracy is 0.9742943548387096\n"
     ]
    },
    {
     "name": "stdout",
     "output_type": "stream",
     "text": [
      "Epoch 60 Loss 0.024214985686759977\n",
      "train accuracy is: 0.972375229510933, test accuracy is 0.9753024193548387\n"
     ]
    },
    {
     "name": "stdout",
     "output_type": "stream",
     "text": [
      "Epoch 70 Loss 0.022799997678772846\n",
      "train accuracy is: 0.9744616925388082, test accuracy is 0.9758064516129032\n"
     ]
    },
    {
     "name": "stdout",
     "output_type": "stream",
     "text": [
      "Epoch 80 Loss 0.021623686206103696\n",
      "train accuracy is: 0.9756301118344183, test accuracy is 0.9768145161290323\n"
     ]
    },
    {
     "name": "stdout",
     "output_type": "stream",
     "text": [
      "Epoch 90 Loss 0.020611188384289814\n",
      "train accuracy is: 0.9771323652144884, test accuracy is 0.9783266129032258\n"
     ]
    },
    {
     "name": "stdout",
     "output_type": "stream",
     "text": [
      "Epoch 100 Loss 0.019720145192907462\n",
      "train accuracy is: 0.9783007845100985, test accuracy is 0.9783266129032258\n"
     ]
    },
    {
     "name": "stdout",
     "output_type": "stream",
     "text": [
      "Epoch 110 Loss 0.01891295788904981\n",
      "train accuracy is: 0.9796361208479386, test accuracy is 0.9798387096774194\n"
     ]
    },
    {
     "name": "stdout",
     "output_type": "stream",
     "text": [
      "Epoch 120 Loss 0.018179289309677722\n",
      "train accuracy is: 0.9804707060590886, test accuracy is 0.9793346774193549\n"
     ]
    },
    {
     "name": "stdout",
     "output_type": "stream",
     "text": [
      "Epoch 130 Loss 0.017506889246234565\n",
      "train accuracy is: 0.9815556668335838, test accuracy is 0.9793346774193549\n"
     ]
    },
    {
     "name": "stdout",
     "output_type": "stream",
     "text": [
      "Epoch 140 Loss 0.01689275531046109\n",
      "train accuracy is: 0.9823067935236187, test accuracy is 0.9808467741935484\n"
     ]
    },
    {
     "name": "stdout",
     "output_type": "stream",
     "text": [
      "Epoch 150 Loss 0.016315531853167014\n",
      "train accuracy is: 0.9825571690869638, test accuracy is 0.9828629032258065\n"
     ]
    },
    {
     "name": "stdout",
     "output_type": "stream",
     "text": [
      "Epoch 160 Loss 0.015777568973226144\n",
      "train accuracy is: 0.9831413787347688, test accuracy is 0.983366935483871\n"
     ]
    },
    {
     "name": "stdout",
     "output_type": "stream",
     "text": [
      "Epoch 170 Loss 0.015258537686881535\n",
      "train accuracy is: 0.9838090469036889, test accuracy is 0.983366935483871\n"
     ]
    },
    {
     "name": "stdout",
     "output_type": "stream",
     "text": [
      "Epoch 180 Loss 0.01478146096433851\n",
      "train accuracy is: 0.9843097980303789, test accuracy is 0.9838709677419355\n"
     ]
    },
    {
     "name": "stdout",
     "output_type": "stream",
     "text": [
      "Epoch 190 Loss 0.014327994818188297\n",
      "train accuracy is: 0.9848940076781839, test accuracy is 0.983366935483871\n"
     ]
    },
    {
     "name": "stdout",
     "output_type": "stream",
     "text": [
      "Epoch 200 Loss 0.01390214262944101\n",
      "train accuracy is: 0.985561675847104, test accuracy is 0.983366935483871\n"
     ]
    },
    {
     "name": "stdout",
     "output_type": "stream",
     "text": [
      "Epoch 210 Loss 0.013483175293671348\n",
      "train accuracy is: 0.986062426973794, test accuracy is 0.983366935483871\n"
     ]
    },
    {
     "name": "stdout",
     "output_type": "stream",
     "text": [
      "Epoch 220 Loss 0.01309685442272481\n",
      "train accuracy is: 0.9865631781004841, test accuracy is 0.983366935483871\n"
     ]
    },
    {
     "name": "stdout",
     "output_type": "stream",
     "text": [
      "Epoch 230 Loss 0.012723619256141652\n",
      "train accuracy is: 0.9871473877482891, test accuracy is 0.983366935483871\n"
     ]
    },
    {
     "name": "stdout",
     "output_type": "stream",
     "text": [
      "Epoch 240 Loss 0.012365900512657787\n",
      "train accuracy is: 0.9878150559172092, test accuracy is 0.9848790322580645\n"
     ]
    },
    {
     "data": {
      "text/plain": [
       "0.005869798363062974"
      ]
     },
     "execution_count": 21,
     "metadata": {},
     "output_type": "execute_result"
    }
   ],
   "source": [
    "learner1.train_loop(dl)"
   ]
  },
  {
   "cell_type": "markdown",
   "metadata": {
    "papermill": {
     "duration": 0.041036,
     "end_time": "2020-08-26T20:15:49.349270",
     "exception": false,
     "start_time": "2020-08-26T20:15:49.308234",
     "status": "completed"
    },
    "tags": []
   },
   "source": [
    "##### Now running only the logistic regression based classification to compare results with NN"
   ]
  },
  {
   "cell_type": "code",
   "execution_count": 22,
   "metadata": {
    "execution": {
     "iopub.execute_input": "2020-08-26T20:15:49.422422Z",
     "iopub.status.busy": "2020-08-26T20:15:49.421804Z",
     "iopub.status.idle": "2020-08-26T20:15:49.433583Z",
     "shell.execute_reply": "2020-08-26T20:15:49.434068Z"
    },
    "papermill": {
     "duration": 0.05117,
     "end_time": "2020-08-26T20:15:49.434220",
     "exception": false,
     "start_time": "2020-08-26T20:15:49.383050",
     "status": "completed"
    },
    "tags": []
   },
   "outputs": [],
   "source": [
    "learner2 = Learner(loss, model_logistic, opt, config.num_epochs)\n",
    "acc2 = ClfCallback(learner2, config.bs, training_xdata , testing_xdata, training_ydata, testing_ydata)\n",
    "learner2.set_callbacks([acc2])"
   ]
  },
  {
   "cell_type": "code",
   "execution_count": 23,
   "metadata": {
    "execution": {
     "iopub.execute_input": "2020-08-26T20:15:49.506061Z",
     "iopub.status.busy": "2020-08-26T20:15:49.505567Z",
     "iopub.status.idle": "2020-08-26T20:16:04.206167Z",
     "shell.execute_reply": "2020-08-26T20:16:04.207064Z"
    },
    "papermill": {
     "duration": 14.737561,
     "end_time": "2020-08-26T20:16:04.207241",
     "exception": false,
     "start_time": "2020-08-26T20:15:49.469680",
     "status": "completed"
    },
    "tags": []
   },
   "outputs": [
    {
     "name": "stdout",
     "output_type": "stream",
     "text": [
      "Epoch 0 Loss 0.28774311265395647\n",
      "train accuracy is: 0.47638123852445335, test accuracy is 0.4657258064516129\n"
     ]
    },
    {
     "name": "stdout",
     "output_type": "stream",
     "text": [
      "Epoch 10 Loss 0.10563983133567852\n",
      "train accuracy is: 0.9098647971957937, test accuracy is 0.9238911290322581\n"
     ]
    },
    {
     "name": "stdout",
     "output_type": "stream",
     "text": [
      "Epoch 20 Loss 0.08002044653831966\n",
      "train accuracy is: 0.9263895843765648, test accuracy is 0.9395161290322581\n"
     ]
    },
    {
     "name": "stdout",
     "output_type": "stream",
     "text": [
      "Epoch 30 Loss 0.06882664138250714\n",
      "train accuracy is: 0.9332331831079953, test accuracy is 0.9450604838709677\n"
     ]
    },
    {
     "name": "stdout",
     "output_type": "stream",
     "text": [
      "Epoch 40 Loss 0.062171834183741496\n",
      "train accuracy is: 0.9395760307127358, test accuracy is 0.9546370967741935\n"
     ]
    },
    {
     "name": "stdout",
     "output_type": "stream",
     "text": [
      "Epoch 50 Loss 0.05763850091056084\n",
      "train accuracy is: 0.9419128693039559, test accuracy is 0.9571572580645161\n"
     ]
    },
    {
     "name": "stdout",
     "output_type": "stream",
     "text": [
      "Epoch 60 Loss 0.054300973307915584\n",
      "train accuracy is: 0.9446670005007511, test accuracy is 0.9591733870967742\n"
     ]
    },
    {
     "name": "stdout",
     "output_type": "stream",
     "text": [
      "Epoch 70 Loss 0.05171761790196236\n",
      "train accuracy is: 0.9470872976130863, test accuracy is 0.9616935483870968\n"
     ]
    },
    {
     "name": "stdout",
     "output_type": "stream",
     "text": [
      "Epoch 80 Loss 0.04964159100828611\n",
      "train accuracy is: 0.9489233850776164, test accuracy is 0.9616935483870968\n"
     ]
    },
    {
     "name": "stdout",
     "output_type": "stream",
     "text": [
      "Epoch 90 Loss 0.04792722994871243\n",
      "train accuracy is: 0.9506760140210315, test accuracy is 0.9621975806451613\n"
     ]
    },
    {
     "name": "stdout",
     "output_type": "stream",
     "text": [
      "Epoch 100 Loss 0.04648074972062957\n",
      "train accuracy is: 0.9522617259222167, test accuracy is 0.9627016129032258\n"
     ]
    },
    {
     "name": "stdout",
     "output_type": "stream",
     "text": [
      "Epoch 110 Loss 0.04523910059765807\n",
      "train accuracy is: 0.9534301452178268, test accuracy is 0.9637096774193549\n"
     ]
    },
    {
     "name": "stdout",
     "output_type": "stream",
     "text": [
      "Epoch 120 Loss 0.04415844716618005\n",
      "train accuracy is: 0.9541812719078618, test accuracy is 0.9637096774193549\n"
     ]
    },
    {
     "name": "stdout",
     "output_type": "stream",
     "text": [
      "Epoch 130 Loss 0.043206005786788605\n",
      "train accuracy is: 0.9549323985978968, test accuracy is 0.9642137096774194\n"
     ]
    },
    {
     "name": "stdout",
     "output_type": "stream",
     "text": [
      "Epoch 140 Loss 0.04235780333116376\n",
      "train accuracy is: 0.9556835252879319, test accuracy is 0.9642137096774194\n"
     ]
    },
    {
     "name": "stdout",
     "output_type": "stream",
     "text": [
      "Epoch 150 Loss 0.04159730467690995\n",
      "train accuracy is: 0.956434651977967, test accuracy is 0.9637096774193549\n"
     ]
    },
    {
     "name": "stdout",
     "output_type": "stream",
     "text": [
      "Epoch 160 Loss 0.040908741563788535\n",
      "train accuracy is: 0.957436154231347, test accuracy is 0.9647177419354839\n"
     ]
    },
    {
     "name": "stdout",
     "output_type": "stream",
     "text": [
      "Epoch 170 Loss 0.04028285970205004\n",
      "train accuracy is: 0.9578534468369221, test accuracy is 0.9647177419354839\n"
     ]
    },
    {
     "name": "stdout",
     "output_type": "stream",
     "text": [
      "Epoch 180 Loss 0.03970924820049172\n",
      "train accuracy is: 0.9581872809213821, test accuracy is 0.9647177419354839\n"
     ]
    },
    {
     "name": "stdout",
     "output_type": "stream",
     "text": [
      "Epoch 190 Loss 0.039182738801081314\n",
      "train accuracy is: 0.9584376564847271, test accuracy is 0.9647177419354839\n"
     ]
    },
    {
     "name": "stdout",
     "output_type": "stream",
     "text": [
      "Epoch 200 Loss 0.03869490714408934\n",
      "train accuracy is: 0.9588549490903021, test accuracy is 0.9652217741935484\n"
     ]
    },
    {
     "name": "stdout",
     "output_type": "stream",
     "text": [
      "Epoch 210 Loss 0.03824273165384235\n",
      "train accuracy is: 0.9591053246536472, test accuracy is 0.9657258064516129\n"
     ]
    },
    {
     "name": "stdout",
     "output_type": "stream",
     "text": [
      "Epoch 220 Loss 0.03782157178839162\n",
      "train accuracy is: 0.9593557002169921, test accuracy is 0.9657258064516129\n"
     ]
    },
    {
     "name": "stdout",
     "output_type": "stream",
     "text": [
      "Epoch 230 Loss 0.03742856689686644\n",
      "train accuracy is: 0.9599399098647972, test accuracy is 0.9647177419354839\n"
     ]
    },
    {
     "name": "stdout",
     "output_type": "stream",
     "text": [
      "Epoch 240 Loss 0.037058957685444406\n",
      "train accuracy is: 0.9600233683859122, test accuracy is 0.9652217741935484\n"
     ]
    },
    {
     "data": {
      "text/plain": [
       "0.049948196637928335"
      ]
     },
     "execution_count": 23,
     "metadata": {},
     "output_type": "execute_result"
    }
   ],
   "source": [
    "learner2.train_loop(dl)"
   ]
  },
  {
   "cell_type": "markdown",
   "metadata": {
    "papermill": {
     "duration": 0.047635,
     "end_time": "2020-08-26T20:16:04.301097",
     "exception": false,
     "start_time": "2020-08-26T20:16:04.253462",
     "status": "completed"
    },
    "tags": []
   },
   "source": [
    "### Comparing results of NN and LR"
   ]
  },
  {
   "cell_type": "code",
   "execution_count": 24,
   "metadata": {
    "execution": {
     "iopub.execute_input": "2020-08-26T20:16:04.390771Z",
     "iopub.status.busy": "2020-08-26T20:16:04.389687Z",
     "iopub.status.idle": "2020-08-26T20:16:04.573280Z",
     "shell.execute_reply": "2020-08-26T20:16:04.573735Z"
    },
    "papermill": {
     "duration": 0.230102,
     "end_time": "2020-08-26T20:16:04.573891",
     "exception": false,
     "start_time": "2020-08-26T20:16:04.343789",
     "status": "completed"
    },
    "tags": []
   },
   "outputs": [
    {
     "data": {
      "text/plain": [
       "<matplotlib.legend.Legend at 0x7fef7ee142e8>"
      ]
     },
     "execution_count": 24,
     "metadata": {},
     "output_type": "execute_result"
    },
    {
     "data": {
      "image/png": "[encoded data removed]",
      "text/plain": [
       "<Figure size 576x360 with 1 Axes>"
      ]
     },
     "metadata": {
      "needs_background": "light"
     },
     "output_type": "display_data"
    }
   ],
   "source": [
    "plt.figure(figsize=(8,5))\n",
    "plt.plot(acc1.val_accuracies, 'g-', label = \"Val Accuracies - NN\")\n",
    "plt.plot(acc1.accuracies, 'r-', label = \"Accuracies - NN\")\n",
    "plt.plot(acc2.val_accuracies, 'b-', label = \"Val Accuracies - Logistic Reg\")\n",
    "plt.plot(acc2.accuracies, 'k-', label = \"Accuracies - Logistic Reg\")\n",
    "plt.ylim(0.8,1) ## for a more spread out view\n",
    "plt.legend()"
   ]
  },
  {
   "cell_type": "markdown",
   "metadata": {
    "papermill": {
     "duration": 0.040312,
     "end_time": "2020-08-26T20:16:04.652649",
     "exception": false,
     "start_time": "2020-08-26T20:16:04.612337",
     "status": "completed"
    },
    "tags": []
   },
   "source": [
    "### Clearly NN has a better accuracy over LR; NN is overfitting - Validation accuracy (green) has dropped below training accuracy (orange), also they are diverging. This problem is not seen in LR"
   ]
  },
  {
   "cell_type": "markdown",
   "metadata": {
    "papermill": {
     "duration": 0.041683,
     "end_time": "2020-08-26T20:16:04.733170",
     "exception": false,
     "start_time": "2020-08-26T20:16:04.691487",
     "status": "completed"
    },
    "tags": []
   },
   "source": [
    "##### Now we will be moving through the network, till the output of the second last affine where we get a 2 dimensional output. We will be plotting this 2d output and probability contours"
   ]
  },
  {
   "cell_type": "code",
   "execution_count": 25,
   "metadata": {
    "execution": {
     "iopub.execute_input": "2020-08-26T20:16:04.822034Z",
     "iopub.status.busy": "2020-08-26T20:16:04.821487Z",
     "iopub.status.idle": "2020-08-26T20:16:04.834437Z",
     "shell.execute_reply": "2020-08-26T20:16:04.833867Z"
    },
    "papermill": {
     "duration": 0.059468,
     "end_time": "2020-08-26T20:16:04.834538",
     "exception": false,
     "start_time": "2020-08-26T20:16:04.775070",
     "status": "completed"
    },
    "tags": []
   },
   "outputs": [],
   "source": [
    "model_new = Model(layers[:-2])"
   ]
  },
  {
   "cell_type": "code",
   "execution_count": 26,
   "metadata": {
    "execution": {
     "iopub.execute_input": "2020-08-26T20:16:04.920445Z",
     "iopub.status.busy": "2020-08-26T20:16:04.919429Z",
     "iopub.status.idle": "2020-08-26T20:16:04.939091Z",
     "shell.execute_reply": "2020-08-26T20:16:04.938622Z"
    },
    "papermill": {
     "duration": 0.064496,
     "end_time": "2020-08-26T20:16:04.939224",
     "exception": false,
     "start_time": "2020-08-26T20:16:04.874728",
     "status": "completed"
    },
    "tags": []
   },
   "outputs": [],
   "source": [
    "plot_testing = model_new(testing_xdata)"
   ]
  },
  {
   "cell_type": "markdown",
   "metadata": {
    "papermill": {
     "duration": 0.046375,
     "end_time": "2020-08-26T20:16:05.030220",
     "exception": false,
     "start_time": "2020-08-26T20:16:04.983845",
     "status": "completed"
    },
    "tags": []
   },
   "source": [
    "##### Plotting the scatter plot of points and color coding by class"
   ]
  },
  {
   "cell_type": "code",
   "execution_count": 27,
   "metadata": {
    "execution": {
     "iopub.execute_input": "2020-08-26T20:16:05.123870Z",
     "iopub.status.busy": "2020-08-26T20:16:05.122829Z",
     "iopub.status.idle": "2020-08-26T20:16:05.290840Z",
     "shell.execute_reply": "2020-08-26T20:16:05.291509Z"
    },
    "papermill": {
     "duration": 0.21761,
     "end_time": "2020-08-26T20:16:05.291687",
     "exception": false,
     "start_time": "2020-08-26T20:16:05.074077",
     "status": "completed"
    },
    "tags": []
   },
   "outputs": [
    {
     "data": {
      "image/png": "[encoded data removed]",
      "text/plain": [
       "<Figure size 576x504 with 1 Axes>"
      ]
     },
     "metadata": {
      "needs_background": "light"
     },
     "output_type": "display_data"
    }
   ],
   "source": [
    "plt.figure(figsize=(8,7))\n",
    "plt.scatter(plot_testing[:,0], plot_testing[:,1], alpha = 0.1, c = y_test.ravel());"
   ]
  },
  {
   "cell_type": "markdown",
   "metadata": {
    "papermill": {
     "duration": 0.040491,
     "end_time": "2020-08-26T20:16:05.401096",
     "exception": false,
     "start_time": "2020-08-26T20:16:05.360605",
     "status": "completed"
    },
    "tags": []
   },
   "source": [
    "##### Plotting probability contours"
   ]
  },
  {
   "cell_type": "code",
   "execution_count": 28,
   "metadata": {
    "execution": {
     "iopub.execute_input": "2020-08-26T20:16:05.492912Z",
     "iopub.status.busy": "2020-08-26T20:16:05.492333Z",
     "iopub.status.idle": "2020-08-26T20:16:05.505411Z",
     "shell.execute_reply": "2020-08-26T20:16:05.505746Z"
    },
    "papermill": {
     "duration": 0.060832,
     "end_time": "2020-08-26T20:16:05.505853",
     "exception": false,
     "start_time": "2020-08-26T20:16:05.445021",
     "status": "completed"
    },
    "tags": []
   },
   "outputs": [],
   "source": [
    "model_prob = Model(layers[-2:]) ## picking only last two layers to get probability. That is affine followed by sigmoid"
   ]
  },
  {
   "cell_type": "code",
   "execution_count": 29,
   "metadata": {
    "execution": {
     "iopub.execute_input": "2020-08-26T20:16:05.598652Z",
     "iopub.status.busy": "2020-08-26T20:16:05.598077Z",
     "iopub.status.idle": "2020-08-26T20:16:05.611182Z",
     "shell.execute_reply": "2020-08-26T20:16:05.611621Z"
    },
    "papermill": {
     "duration": 0.060929,
     "end_time": "2020-08-26T20:16:05.611763",
     "exception": false,
     "start_time": "2020-08-26T20:16:05.550834",
     "status": "completed"
    },
    "tags": []
   },
   "outputs": [],
   "source": [
    "xgrid = np.linspace(-4, 1, 100) ## Adjust these values based on above chart, roughly -4 to 1\n",
    "ygrid = np.linspace(-7.5, 7.5, 100) ## Adjust these values based on above chart, roughly -7.5, 7.5\n",
    "xg, yg = np.meshgrid(xgrid, ygrid)\n",
    "# xg and yg are now both 100X100, lets convert them to single arrays \n",
    "\n",
    "xg_interim = np.ravel(xg)\n",
    "yg_interim = np.ravel(yg)\n",
    "\n",
    "## xg_interim, yg_interim are now arrays of len 10000, now we will stack them and then transpose to get desired shape of n rows, 2 columns\n",
    "\n",
    "X_interim = np.vstack((xg_interim, yg_interim)) ## Please note vstack takes in a tuple\n",
    "X = X_interim.T\n",
    "\n",
    "## We want a shape of n rows and 2 columns to be able to feed this to last affine\n",
    "## This last affine takes only two columns, hence the above transformation\n",
    "probability_contour = model_prob(X).reshape(100,100) ## to make it consistent with xg, yg"
   ]
  },
  {
   "cell_type": "code",
   "execution_count": 30,
   "metadata": {
    "execution": {
     "iopub.execute_input": "2020-08-26T20:16:05.708689Z",
     "iopub.status.busy": "2020-08-26T20:16:05.708169Z",
     "iopub.status.idle": "2020-08-26T20:16:05.914622Z",
     "shell.execute_reply": "2020-08-26T20:16:05.914014Z"
    },
    "papermill": {
     "duration": 0.259869,
     "end_time": "2020-08-26T20:16:05.914778",
     "exception": false,
     "start_time": "2020-08-26T20:16:05.654909",
     "status": "completed"
    },
    "tags": []
   },
   "outputs": [
    {
     "data": {
      "image/png": "[encoded data removed]",
      "text/plain": [
       "<Figure size 576x504 with 1 Axes>"
      ]
     },
     "metadata": {
      "needs_background": "light"
     },
     "output_type": "display_data"
    }
   ],
   "source": [
    "plt.figure(figsize=(8,7))\n",
    "plt.scatter(plot_testing[:,0], plot_testing[:,1], alpha = 0.1, c = y_test.ravel())\n",
    "contours = plt.contour(xg,yg,probability_contour)\n",
    "plt.clabel(contours, inline = True );"
   ]
  }
 ],
 "metadata": {
  "kernelspec": {
   "display_name": "Python 3",
   "language": "python",
   "name": "python3"
  },
  "language_info": {
   "codemirror_mode": {
    "name": "ipython",
    "version": 3
   },
   "file_extension": ".py",
   "mimetype": "text/x-python",
   "name": "python",
   "nbconvert_exporter": "python",
   "pygments_lexer": "ipython3",
   "version": "3.6.11"
  },
  "papermill": {
   "duration": 106.634603,
   "end_time": "2020-08-26T20:16:06.269388",
   "environment_variables": {},
   "exception": null,
   "input_path": "2020-08-07-NN-new.ipynb",
   "output_path": "2020-08-07-NN-new.ipynb",
   "parameters": {},
   "start_time": "2020-08-26T20:14:19.634785",
   "version": "2.1.2"
  }
 },
 "nbformat": 4,
 "nbformat_minor": 4
}