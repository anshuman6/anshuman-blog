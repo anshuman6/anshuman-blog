{
 "cells": [
  {
   "cell_type": "markdown",
   "metadata": {
    "papermill": {
     "duration": 0.032401,
     "end_time": "2020-08-09T07:33:56.741259",
     "exception": false,
     "start_time": "2020-08-09T07:33:56.708858",
     "status": "completed"
    },
    "tags": []
   },
   "source": [
    "# \"Building a basic Neural Network from scratch - Kudzu\"\n",
    "\n",
    "- badges: true\n",
    "- author: Anshuman Gupta"
   ]
  },
  {
   "cell_type": "markdown",
   "metadata": {
    "papermill": {
     "duration": 0.201632,
     "end_time": "2020-08-09T07:33:57.700050",
     "exception": false,
     "start_time": "2020-08-09T07:33:57.498418",
     "status": "completed"
    },
    "tags": []
   },
   "source": [
    "#### In this project, the idea is to write a classifier to differentiate between handwritten digits 3 and 8, from the MNIST database.\n",
    "\n",
    "#### I will using a custom built neural network library called Kudzu.This has been developed as a part of KTF/Foundations course of Univ.ai (www.univ.ai). The source code for Kudzu Library and and this notebook can be found on my git-hub profile : www.https://github.com/anshuman6 under the folder project-solution. Any feedback and comments are welcome. Please feel free to email me at: anshuman6@gmail.com\n",
    "\n",
    "#### 1. I will be using the MNIST database. \n",
    "\n",
    "#### 2. I will be comparing the results of the 4 layer NN to a standard logistic regression"
   ]
  },
  {
   "cell_type": "markdown",
   "metadata": {
    "papermill": {
     "duration": 0.025889,
     "end_time": "2020-08-09T07:33:57.755436",
     "exception": false,
     "start_time": "2020-08-09T07:33:57.729547",
     "status": "completed"
    },
    "tags": []
   },
   "source": [
    "##### Importing all the necessary libraries"
   ]
  },
  {
   "cell_type": "code",
   "execution_count": 1,
   "metadata": {
    "execution": {
     "iopub.execute_input": "2020-08-09T07:33:57.822497Z",
     "iopub.status.busy": "2020-08-09T07:33:57.821753Z",
     "iopub.status.idle": "2020-08-09T07:33:57.831796Z",
     "shell.execute_reply": "2020-08-09T07:33:57.832377Z"
    },
    "papermill": {
     "duration": 0.050269,
     "end_time": "2020-08-09T07:33:57.832552",
     "exception": false,
     "start_time": "2020-08-09T07:33:57.782283",
     "status": "completed"
    },
    "tags": []
   },
   "outputs": [],
   "source": [
    "%load_ext autoreload\n",
    "%autoreload 2"
   ]
  },
  {
   "cell_type": "code",
   "execution_count": 2,
   "metadata": {
    "execution": {
     "iopub.execute_input": "2020-08-09T07:33:57.890952Z",
     "iopub.status.busy": "2020-08-09T07:33:57.890182Z",
     "iopub.status.idle": "2020-08-09T07:33:58.482291Z",
     "shell.execute_reply": "2020-08-09T07:33:58.482913Z"
    },
    "papermill": {
     "duration": 0.623413,
     "end_time": "2020-08-09T07:33:58.483078",
     "exception": false,
     "start_time": "2020-08-09T07:33:57.859665",
     "status": "completed"
    },
    "tags": []
   },
   "outputs": [],
   "source": [
    "%matplotlib inline\n",
    "import numpy as np\n",
    "import matplotlib.pyplot as plt\n",
    "import pandas as pd"
   ]
  },
  {
   "cell_type": "markdown",
   "metadata": {
    "papermill": {
     "duration": 0.025976,
     "end_time": "2020-08-09T07:33:58.536126",
     "exception": false,
     "start_time": "2020-08-09T07:33:58.510150",
     "status": "completed"
    },
    "tags": []
   },
   "source": [
    "##### The following command helps us download MNIST from notebook itself. You can skip this if you already have MNIST. You can also download it via your terminal."
   ]
  },
  {
   "cell_type": "code",
   "execution_count": 3,
   "metadata": {
    "execution": {
     "iopub.execute_input": "2020-08-09T07:33:58.592688Z",
     "iopub.status.busy": "2020-08-09T07:33:58.591836Z",
     "iopub.status.idle": "2020-08-09T07:34:00.177549Z",
     "shell.execute_reply": "2020-08-09T07:34:00.178032Z"
    },
    "papermill": {
     "duration": 1.616031,
     "end_time": "2020-08-09T07:34:00.178199",
     "exception": false,
     "start_time": "2020-08-09T07:33:58.562168",
     "status": "completed"
    },
    "tags": []
   },
   "outputs": [
    {
     "name": "stdout",
     "output_type": "stream",
     "text": [
      "Requirement already satisfied: mnist in /opt/anaconda3/lib/python3.7/site-packages (0.2.2)\n",
      "Requirement already satisfied: numpy in /opt/anaconda3/lib/python3.7/site-packages (from mnist) (1.18.1)\n"
     ]
    }
   ],
   "source": [
    "!pip install mnist # Please note, it is commented out for now, you can remove comment if you want to install it"
   ]
  },
  {
   "cell_type": "markdown",
   "metadata": {
    "papermill": {
     "duration": 0.028497,
     "end_time": "2020-08-09T07:34:00.235512",
     "exception": false,
     "start_time": "2020-08-09T07:34:00.207015",
     "status": "completed"
    },
    "tags": []
   },
   "source": [
    "#### Preparing the Data"
   ]
  },
  {
   "cell_type": "code",
   "execution_count": 4,
   "metadata": {
    "execution": {
     "iopub.execute_input": "2020-08-09T07:34:00.294880Z",
     "iopub.status.busy": "2020-08-09T07:34:00.294331Z",
     "iopub.status.idle": "2020-08-09T07:34:00.309503Z",
     "shell.execute_reply": "2020-08-09T07:34:00.308998Z"
    },
    "papermill": {
     "duration": 0.046302,
     "end_time": "2020-08-09T07:34:00.309624",
     "exception": false,
     "start_time": "2020-08-09T07:34:00.263322",
     "status": "completed"
    },
    "tags": []
   },
   "outputs": [],
   "source": [
    "import mnist"
   ]
  },
  {
   "cell_type": "code",
   "execution_count": 5,
   "metadata": {
    "execution": {
     "iopub.execute_input": "2020-08-09T07:34:00.374114Z",
     "iopub.status.busy": "2020-08-09T07:34:00.373500Z",
     "iopub.status.idle": "2020-08-09T07:34:01.011313Z",
     "shell.execute_reply": "2020-08-09T07:34:01.010661Z"
    },
    "papermill": {
     "duration": 0.668475,
     "end_time": "2020-08-09T07:34:01.011473",
     "exception": false,
     "start_time": "2020-08-09T07:34:00.342998",
     "status": "completed"
    },
    "tags": []
   },
   "outputs": [],
   "source": [
    "train_images = mnist.train_images()\n",
    "train_labels = mnist.train_labels()"
   ]
  },
  {
   "cell_type": "code",
   "execution_count": 6,
   "metadata": {
    "execution": {
     "iopub.execute_input": "2020-08-09T07:34:01.073927Z",
     "iopub.status.busy": "2020-08-09T07:34:01.073290Z",
     "iopub.status.idle": "2020-08-09T07:34:01.089019Z",
     "shell.execute_reply": "2020-08-09T07:34:01.088527Z"
    },
    "papermill": {
     "duration": 0.048649,
     "end_time": "2020-08-09T07:34:01.089147",
     "exception": false,
     "start_time": "2020-08-09T07:34:01.040498",
     "status": "completed"
    },
    "tags": []
   },
   "outputs": [
    {
     "data": {
      "text/plain": [
       "((60000, 28, 28), (60000,))"
      ]
     },
     "execution_count": 6,
     "metadata": {},
     "output_type": "execute_result"
    }
   ],
   "source": [
    "train_images.shape, train_labels.shape"
   ]
  },
  {
   "cell_type": "code",
   "execution_count": 7,
   "metadata": {
    "execution": {
     "iopub.execute_input": "2020-08-09T07:34:01.149604Z",
     "iopub.status.busy": "2020-08-09T07:34:01.148952Z",
     "iopub.status.idle": "2020-08-09T07:34:01.392021Z",
     "shell.execute_reply": "2020-08-09T07:34:01.391316Z"
    },
    "papermill": {
     "duration": 0.275344,
     "end_time": "2020-08-09T07:34:01.392251",
     "exception": false,
     "start_time": "2020-08-09T07:34:01.116907",
     "status": "completed"
    },
    "tags": []
   },
   "outputs": [],
   "source": [
    "test_images = mnist.test_images()\n",
    "test_labels = mnist.test_labels()"
   ]
  },
  {
   "cell_type": "code",
   "execution_count": 8,
   "metadata": {
    "execution": {
     "iopub.execute_input": "2020-08-09T07:34:01.456685Z",
     "iopub.status.busy": "2020-08-09T07:34:01.456064Z",
     "iopub.status.idle": "2020-08-09T07:34:01.470918Z",
     "shell.execute_reply": "2020-08-09T07:34:01.470311Z"
    },
    "papermill": {
     "duration": 0.048724,
     "end_time": "2020-08-09T07:34:01.471081",
     "exception": false,
     "start_time": "2020-08-09T07:34:01.422357",
     "status": "completed"
    },
    "tags": []
   },
   "outputs": [
    {
     "data": {
      "text/plain": [
       "((10000, 28, 28), (10000,))"
      ]
     },
     "execution_count": 8,
     "metadata": {},
     "output_type": "execute_result"
    }
   ],
   "source": [
    "test_images.shape, test_labels.shape"
   ]
  },
  {
   "cell_type": "code",
   "execution_count": 9,
   "metadata": {
    "execution": {
     "iopub.execute_input": "2020-08-09T07:34:01.539191Z",
     "iopub.status.busy": "2020-08-09T07:34:01.538484Z",
     "iopub.status.idle": "2020-08-09T07:34:01.748398Z",
     "shell.execute_reply": "2020-08-09T07:34:01.747810Z"
    },
    "papermill": {
     "duration": 0.246459,
     "end_time": "2020-08-09T07:34:01.748577",
     "exception": false,
     "start_time": "2020-08-09T07:34:01.502118",
     "status": "completed"
    },
    "tags": []
   },
   "outputs": [
    {
     "name": "stdout",
     "output_type": "stream",
     "text": [
      "2\n"
     ]
    },
    {
     "data": {
      "text/plain": [
       "<matplotlib.image.AxesImage at 0x12a2ee690>"
      ]
     },
     "execution_count": 9,
     "metadata": {},
     "output_type": "execute_result"
    },
    {
     "data": {
      "image/png": "[encoded data removed]",
      "text/plain": [
       "<Figure size 432x288 with 1 Axes>"
      ]
     },
     "metadata": {
      "needs_background": "light"
     },
     "output_type": "display_data"
    }
   ],
   "source": [
    "image_index = 7776 # You may select anything up to 60,000\n",
    "print(train_labels[image_index]) \n",
    "plt.imshow(train_images[image_index], cmap='Greys')"
   ]
  },
  {
   "cell_type": "markdown",
   "metadata": {
    "papermill": {
     "duration": 0.031896,
     "end_time": "2020-08-09T07:34:01.813300",
     "exception": false,
     "start_time": "2020-08-09T07:34:01.781404",
     "status": "completed"
    },
    "tags": []
   },
   "source": [
    "## Filter data to get 3 and 8 out"
   ]
  },
  {
   "cell_type": "code",
   "execution_count": 10,
   "metadata": {
    "execution": {
     "iopub.execute_input": "2020-08-09T07:34:01.883739Z",
     "iopub.status.busy": "2020-08-09T07:34:01.882920Z",
     "iopub.status.idle": "2020-08-09T07:34:01.904530Z",
     "shell.execute_reply": "2020-08-09T07:34:01.903961Z"
    },
    "papermill": {
     "duration": 0.058528,
     "end_time": "2020-08-09T07:34:01.904686",
     "exception": false,
     "start_time": "2020-08-09T07:34:01.846158",
     "status": "completed"
    },
    "tags": []
   },
   "outputs": [],
   "source": [
    "train_filter = np.where((train_labels == 3 ) | (train_labels == 8))\n",
    "test_filter = np.where((test_labels == 3) | (test_labels == 8))\n",
    "X_train, y_train = train_images[train_filter], train_labels[train_filter]\n",
    "X_test, y_test = test_images[test_filter], test_labels[test_filter]"
   ]
  },
  {
   "cell_type": "markdown",
   "metadata": {
    "papermill": {
     "duration": 0.032886,
     "end_time": "2020-08-09T07:34:01.971336",
     "exception": false,
     "start_time": "2020-08-09T07:34:01.938450",
     "status": "completed"
    },
    "tags": []
   },
   "source": [
    "##### We normalize the pizel values in the 0 to 1 range"
   ]
  },
  {
   "cell_type": "code",
   "execution_count": 11,
   "metadata": {
    "execution": {
     "iopub.execute_input": "2020-08-09T07:34:02.042973Z",
     "iopub.status.busy": "2020-08-09T07:34:02.042278Z",
     "iopub.status.idle": "2020-08-09T07:34:02.107832Z",
     "shell.execute_reply": "2020-08-09T07:34:02.107238Z"
    },
    "papermill": {
     "duration": 0.103627,
     "end_time": "2020-08-09T07:34:02.107985",
     "exception": false,
     "start_time": "2020-08-09T07:34:02.004358",
     "status": "completed"
    },
    "tags": []
   },
   "outputs": [],
   "source": [
    "X_train = X_train/255.\n",
    "X_test = X_test/255."
   ]
  },
  {
   "cell_type": "markdown",
   "metadata": {
    "papermill": {
     "duration": 0.033446,
     "end_time": "2020-08-09T07:34:02.175133",
     "exception": false,
     "start_time": "2020-08-09T07:34:02.141687",
     "status": "completed"
    },
    "tags": []
   },
   "source": [
    "And setup the labels as 1 (when the digit is 3) and 0 (when the digit is 8)"
   ]
  },
  {
   "cell_type": "code",
   "execution_count": 12,
   "metadata": {
    "execution": {
     "iopub.execute_input": "2020-08-09T07:34:02.245315Z",
     "iopub.status.busy": "2020-08-09T07:34:02.244546Z",
     "iopub.status.idle": "2020-08-09T07:34:02.258336Z",
     "shell.execute_reply": "2020-08-09T07:34:02.257610Z"
    },
    "papermill": {
     "duration": 0.049817,
     "end_time": "2020-08-09T07:34:02.258483",
     "exception": false,
     "start_time": "2020-08-09T07:34:02.208666",
     "status": "completed"
    },
    "tags": []
   },
   "outputs": [],
   "source": [
    "y_train = 1*(y_train==3)\n",
    "y_test = 1*(y_test==3)"
   ]
  },
  {
   "cell_type": "code",
   "execution_count": 13,
   "metadata": {
    "execution": {
     "iopub.execute_input": "2020-08-09T07:34:02.325952Z",
     "iopub.status.busy": "2020-08-09T07:34:02.325161Z",
     "iopub.status.idle": "2020-08-09T07:34:02.338529Z",
     "shell.execute_reply": "2020-08-09T07:34:02.339077Z"
    },
    "papermill": {
     "duration": 0.04849,
     "end_time": "2020-08-09T07:34:02.339216",
     "exception": false,
     "start_time": "2020-08-09T07:34:02.290726",
     "status": "completed"
    },
    "tags": []
   },
   "outputs": [
    {
     "data": {
      "text/plain": [
       "((11982, 28, 28), (1984, 28, 28))"
      ]
     },
     "execution_count": 13,
     "metadata": {},
     "output_type": "execute_result"
    }
   ],
   "source": [
    "X_train.shape, X_test.shape"
   ]
  },
  {
   "cell_type": "markdown",
   "metadata": {
    "papermill": {
     "duration": 0.118829,
     "end_time": "2020-08-09T07:34:02.493978",
     "exception": false,
     "start_time": "2020-08-09T07:34:02.375149",
     "status": "completed"
    },
    "tags": []
   },
   "source": [
    "##### We reshape the data to flatten the image pixels into a set of features or co-variates:"
   ]
  },
  {
   "cell_type": "code",
   "execution_count": 14,
   "metadata": {
    "execution": {
     "iopub.execute_input": "2020-08-09T07:34:02.562577Z",
     "iopub.status.busy": "2020-08-09T07:34:02.561997Z",
     "iopub.status.idle": "2020-08-09T07:34:02.576707Z",
     "shell.execute_reply": "2020-08-09T07:34:02.577295Z"
    },
    "papermill": {
     "duration": 0.051094,
     "end_time": "2020-08-09T07:34:02.577438",
     "exception": false,
     "start_time": "2020-08-09T07:34:02.526344",
     "status": "completed"
    },
    "tags": []
   },
   "outputs": [
    {
     "data": {
      "text/plain": [
       "((11982, 784), (1984, 784))"
      ]
     },
     "execution_count": 14,
     "metadata": {},
     "output_type": "execute_result"
    }
   ],
   "source": [
    "X_train = X_train.reshape(X_train.shape[0], -1)\n",
    "X_test = X_test.reshape(X_test.shape[0], -1)\n",
    "X_train.shape, X_test.shape"
   ]
  },
  {
   "cell_type": "markdown",
   "metadata": {
    "papermill": {
     "duration": 0.029113,
     "end_time": "2020-08-09T07:34:02.636603",
     "exception": false,
     "start_time": "2020-08-09T07:34:02.607490",
     "status": "completed"
    },
    "tags": []
   },
   "source": [
    "##### Importing Kudzu library and its functionality"
   ]
  },
  {
   "cell_type": "code",
   "execution_count": 15,
   "metadata": {
    "execution": {
     "iopub.execute_input": "2020-08-09T07:34:02.705640Z",
     "iopub.status.busy": "2020-08-09T07:34:02.704853Z",
     "iopub.status.idle": "2020-08-09T07:34:02.810031Z",
     "shell.execute_reply": "2020-08-09T07:34:02.809329Z"
    },
    "papermill": {
     "duration": 0.141087,
     "end_time": "2020-08-09T07:34:02.810197",
     "exception": true,
     "start_time": "2020-08-09T07:34:02.669110",
     "status": "failed"
    },
    "tags": []
   },
   "outputs": [],
   "source": [
    "from kudzu.data import Data, Dataloader, Sampler\n",
    "from kudzu.callbacks import AccCallback\n",
    "from kudzu.loss import MSE\n",
    "from kudzu.layer import Affine, Sigmoid\n",
    "from kudzu.model import Model\n",
    "from kudzu.optim import GD\n",
    "from kudzu.train import Learner\n",
    "from kudzu.callbacks import ClfCallback\n",
    "from kudzu.layer import Sigmoid\n",
    "from kudzu.layer import Relu"
   ]
  },
  {
   "cell_type": "markdown",
   "metadata": {
    "papermill": {
     "duration": null,
     "end_time": null,
     "exception": null,
     "start_time": null,
     "status": "pending"
    },
    "tags": []
   },
   "source": [
    "##### We are creating a class, just so that we can use it to store our parameters for us"
   ]
  },
  {
   "cell_type": "code",
   "execution_count": 16,
   "metadata": {
    "papermill": {
     "duration": null,
     "end_time": null,
     "exception": null,
     "start_time": null,
     "status": "pending"
    },
    "tags": []
   },
   "outputs": [],
   "source": [
    "class Config:\n",
    "    pass\n",
    "config = Config()\n",
    "config.lr = 0.001\n",
    "config.num_epochs = 250\n",
    "config.bs = 50"
   ]
  },
  {
   "cell_type": "markdown",
   "metadata": {
    "papermill": {
     "duration": null,
     "end_time": null,
     "exception": null,
     "start_time": null,
     "status": "pending"
    },
    "tags": []
   },
   "source": [
    "##### Initializing Data"
   ]
  },
  {
   "cell_type": "code",
   "execution_count": 17,
   "metadata": {
    "papermill": {
     "duration": null,
     "end_time": null,
     "exception": null,
     "start_time": null,
     "status": "pending"
    },
    "tags": []
   },
   "outputs": [],
   "source": [
    "data = Data(X_train, y_train.reshape(-1,1))\n",
    "loss = MSE()\n",
    "opt = GD(config.lr)\n",
    "sampler = Sampler(data, config.bs, shuffle=True)\n",
    "dl = Dataloader(data, sampler)"
   ]
  },
  {
   "cell_type": "markdown",
   "metadata": {
    "papermill": {
     "duration": null,
     "end_time": null,
     "exception": null,
     "start_time": null,
     "status": "pending"
    },
    "tags": []
   },
   "source": [
    "##### Constructing 2 different layers, one for NN and one only for logistic regression."
   ]
  },
  {
   "cell_type": "markdown",
   "metadata": {
    "papermill": {
     "duration": null,
     "end_time": null,
     "exception": null,
     "start_time": null,
     "status": "pending"
    },
    "tags": []
   },
   "source": [
    "##### Creating containers for data to be passed, to calculate accuracies"
   ]
  },
  {
   "cell_type": "code",
   "execution_count": 18,
   "metadata": {
    "papermill": {
     "duration": null,
     "end_time": null,
     "exception": null,
     "start_time": null,
     "status": "pending"
    },
    "tags": []
   },
   "outputs": [],
   "source": [
    "training_xdata = X_train\n",
    "testing_xdata = X_test\n",
    "training_ydata = y_train.reshape(-1,1)\n",
    "testing_ydata = y_test.reshape(-1,1)"
   ]
  },
  {
   "cell_type": "markdown",
   "metadata": {
    "papermill": {
     "duration": null,
     "end_time": null,
     "exception": null,
     "start_time": null,
     "status": "pending"
    },
    "tags": []
   },
   "source": [
    "##### Initializing models and Running training loop: "
   ]
  },
  {
   "cell_type": "code",
   "execution_count": 19,
   "metadata": {
    "papermill": {
     "duration": null,
     "end_time": null,
     "exception": null,
     "start_time": null,
     "status": "pending"
    },
    "tags": []
   },
   "outputs": [],
   "source": [
    "layers = [Affine(\"first\", 784, 100), Relu(\"first\"), Affine(\"second\", 100, 100), Relu(\"second\"), Affine(\"third\", 100, 2), Affine(\"final\", 2, 1), Sigmoid(\"final\")]\n",
    "\n",
    "model_neural = Model(layers)\n",
    "model_logistic = Model([Affine(\"logits\", 784, 1), Sigmoid(\"sigmoid\")])"
   ]
  },
  {
   "cell_type": "code",
   "execution_count": 20,
   "metadata": {
    "papermill": {
     "duration": null,
     "end_time": null,
     "exception": null,
     "start_time": null,
     "status": "pending"
    },
    "tags": []
   },
   "outputs": [],
   "source": [
    "learner1 = Learner(loss, model_neural, opt, config.num_epochs)\n",
    "acc1 = ClfCallback(learner1, config.bs, training_xdata , testing_xdata, training_ydata, testing_ydata)\n",
    "learner1.set_callbacks([acc1])"
   ]
  },
  {
   "cell_type": "code",
   "execution_count": 21,
   "metadata": {
    "papermill": {
     "duration": null,
     "end_time": null,
     "exception": null,
     "start_time": null,
     "status": "pending"
    },
    "tags": []
   },
   "outputs": [
    {
     "name": "stdout",
     "output_type": "stream",
     "text": [
      "Epoch 0 Loss 0.23804215606847853\n",
      "train accuracy is: 0.699549323985979, test accuracy is 0.7207661290322581\n",
      "Epoch 10 Loss 0.07715511218576697\n",
      "train accuracy is: 0.9221331997996995, test accuracy is 0.9319556451612904\n",
      "Epoch 20 Loss 0.050449809549984306\n",
      "train accuracy is: 0.9451677516274412, test accuracy is 0.9485887096774194\n",
      "Epoch 30 Loss 0.0406430373571059\n",
      "train accuracy is: 0.9535970622600568, test accuracy is 0.9596774193548387\n",
      "Epoch 40 Loss 0.03556898570676975\n",
      "train accuracy is: 0.9591887831747622, test accuracy is 0.9657258064516129\n",
      "Epoch 50 Loss 0.0323609656998777\n",
      "train accuracy is: 0.9617759973293273, test accuracy is 0.9712701612903226\n",
      "Epoch 60 Loss 0.030066253960325317\n",
      "train accuracy is: 0.9656150893006176, test accuracy is 0.969758064516129\n",
      "Epoch 70 Loss 0.028320443927310878\n",
      "train accuracy is: 0.9672008012018027, test accuracy is 0.9717741935483871\n",
      "Epoch 80 Loss 0.026905896527333314\n",
      "train accuracy is: 0.9693707227507928, test accuracy is 0.9717741935483871\n",
      "Epoch 90 Loss 0.02570675306976654\n",
      "train accuracy is: 0.970872976130863, test accuracy is 0.9722782258064516\n",
      "Epoch 100 Loss 0.024682409948487957\n",
      "train accuracy is: 0.971874478384243, test accuracy is 0.9732862903225806\n",
      "Epoch 110 Loss 0.023788541312290766\n",
      "train accuracy is: 0.9726256050742781, test accuracy is 0.9732862903225806\n",
      "Epoch 120 Loss 0.022988830697398512\n",
      "train accuracy is: 0.9730428976798531, test accuracy is 0.9742943548387096\n",
      "Epoch 130 Loss 0.022271904038569188\n",
      "train accuracy is: 0.9745451510599232, test accuracy is 0.9737903225806451\n",
      "Epoch 140 Loss 0.021619110453129465\n",
      "train accuracy is: 0.9757970288766483, test accuracy is 0.9742943548387096\n",
      "Epoch 150 Loss 0.021017779347902863\n",
      "train accuracy is: 0.9765481555666834, test accuracy is 0.9732862903225806\n",
      "Epoch 160 Loss 0.020464364487089402\n",
      "train accuracy is: 0.9771323652144884, test accuracy is 0.9742943548387096\n",
      "Epoch 170 Loss 0.019941987178320564\n",
      "train accuracy is: 0.9775496578200634, test accuracy is 0.9753024193548387\n",
      "Epoch 180 Loss 0.01945257190309293\n",
      "train accuracy is: 0.9780504089467534, test accuracy is 0.9753024193548387\n",
      "Epoch 190 Loss 0.018978788588788816\n",
      "train accuracy is: 0.9783007845100985, test accuracy is 0.9753024193548387\n",
      "Epoch 200 Loss 0.01853558326975641\n",
      "train accuracy is: 0.9784677015523285, test accuracy is 0.9763104838709677\n",
      "Epoch 210 Loss 0.018108085703136767\n",
      "train accuracy is: 0.9791353697212486, test accuracy is 0.9763104838709677\n",
      "Epoch 220 Loss 0.017699124472031303\n",
      "train accuracy is: 0.9798864964112836, test accuracy is 0.9768145161290323\n",
      "Epoch 230 Loss 0.017300205257769177\n",
      "train accuracy is: 0.9806376231013186, test accuracy is 0.9773185483870968\n",
      "Epoch 240 Loss 0.016923774288226612\n",
      "train accuracy is: 0.9810549157068936, test accuracy is 0.9773185483870968\n"
     ]
    },
    {
     "data": {
      "text/plain": [
       "0.00089730756476159"
      ]
     },
     "execution_count": 21,
     "metadata": {},
     "output_type": "execute_result"
    }
   ],
   "source": [
    "learner1.train_loop(dl)"
   ]
  },
  {
   "cell_type": "markdown",
   "metadata": {
    "papermill": {
     "duration": null,
     "end_time": null,
     "exception": null,
     "start_time": null,
     "status": "pending"
    },
    "tags": []
   },
   "source": [
    "##### Now running only the logistic regression based classification to compare results with NN"
   ]
  },
  {
   "cell_type": "code",
   "execution_count": 22,
   "metadata": {
    "papermill": {
     "duration": null,
     "end_time": null,
     "exception": null,
     "start_time": null,
     "status": "pending"
    },
    "tags": []
   },
   "outputs": [],
   "source": [
    "learner2 = Learner(loss, model_logistic, opt, config.num_epochs)\n",
    "acc2 = ClfCallback(learner2, config.bs, training_xdata , testing_xdata, training_ydata, testing_ydata)\n",
    "learner2.set_callbacks([acc2])"
   ]
  },
  {
   "cell_type": "code",
   "execution_count": 23,
   "metadata": {
    "papermill": {
     "duration": null,
     "end_time": null,
     "exception": null,
     "start_time": null,
     "status": "pending"
    },
    "tags": []
   },
   "outputs": [
    {
     "name": "stdout",
     "output_type": "stream",
     "text": [
      "Epoch 0 Loss 0.2655620721972256\n",
      "train accuracy is: 0.586045735269571, test accuracy is 0.6275201612903226\n",
      "Epoch 10 Loss 0.10667606700659632\n",
      "train accuracy is: 0.9020196962109831, test accuracy is 0.9128024193548387\n",
      "Epoch 20 Loss 0.08134731596720882\n",
      "train accuracy is: 0.9237189117008847, test accuracy is 0.9359879032258065\n",
      "Epoch 30 Loss 0.06977423152783387\n",
      "train accuracy is: 0.9329828075446503, test accuracy is 0.9455645161290323\n",
      "Epoch 40 Loss 0.0628231169663324\n",
      "train accuracy is: 0.9391587381071608, test accuracy is 0.9546370967741935\n",
      "Epoch 50 Loss 0.05809440131484635\n",
      "train accuracy is: 0.943248205641796, test accuracy is 0.9551411290322581\n",
      "Epoch 60 Loss 0.05462858787784139\n",
      "train accuracy is: 0.9462527124019362, test accuracy is 0.9576612903225806\n",
      "Epoch 70 Loss 0.05195618747132523\n",
      "train accuracy is: 0.9483391754298114, test accuracy is 0.9581653225806451\n",
      "Epoch 80 Loss 0.04982020394568973\n",
      "train accuracy is: 0.9500083458521115, test accuracy is 0.9606854838709677\n",
      "Epoch 90 Loss 0.04806354723567289\n",
      "train accuracy is: 0.9517609747955266, test accuracy is 0.9632056451612904\n",
      "Epoch 100 Loss 0.04658653035453608\n",
      "train accuracy is: 0.9523451844433317, test accuracy is 0.9642137096774194\n",
      "Epoch 110 Loss 0.04532180484242245\n",
      "train accuracy is: 0.9528459355700217, test accuracy is 0.9637096774193549\n",
      "Epoch 120 Loss 0.04422291936762329\n",
      "train accuracy is: 0.9534301452178268, test accuracy is 0.9647177419354839\n",
      "Epoch 130 Loss 0.04325673109832113\n",
      "train accuracy is: 0.9540143548656318, test accuracy is 0.9642137096774194\n",
      "Epoch 140 Loss 0.04239884450526056\n",
      "train accuracy is: 0.9550993156401268, test accuracy is 0.9642137096774194\n",
      "Epoch 150 Loss 0.041629121490589574\n",
      "train accuracy is: 0.9553496912034719, test accuracy is 0.9642137096774194\n",
      "Epoch 160 Loss 0.04093532683423674\n",
      "train accuracy is: 0.956100817893507, test accuracy is 0.9647177419354839\n",
      "Epoch 170 Loss 0.04030310662247446\n",
      "train accuracy is: 0.956601569020197, test accuracy is 0.9647177419354839\n",
      "Epoch 180 Loss 0.039726083327024195\n",
      "train accuracy is: 0.957269237189117, test accuracy is 0.9652217741935484\n",
      "Epoch 190 Loss 0.03919454400344273\n",
      "train accuracy is: 0.957603071273577, test accuracy is 0.9662298387096774\n",
      "Epoch 200 Loss 0.03870427697276338\n",
      "train accuracy is: 0.9581872809213821, test accuracy is 0.9662298387096774\n",
      "Epoch 210 Loss 0.038248502801853816\n",
      "train accuracy is: 0.9587714905691871, test accuracy is 0.9662298387096774\n",
      "Epoch 220 Loss 0.03782522212159002\n",
      "train accuracy is: 0.9589384076114171, test accuracy is 0.9662298387096774\n",
      "Epoch 230 Loss 0.03742909826807534\n",
      "train accuracy is: 0.9589384076114171, test accuracy is 0.9662298387096774\n",
      "Epoch 240 Loss 0.03705780520951553\n",
      "train accuracy is: 0.9592722416958771, test accuracy is 0.9662298387096774\n"
     ]
    },
    {
     "data": {
      "text/plain": [
       "0.06805370677853001"
      ]
     },
     "execution_count": 23,
     "metadata": {},
     "output_type": "execute_result"
    }
   ],
   "source": [
    "learner2.train_loop(dl)"
   ]
  },
  {
   "cell_type": "markdown",
   "metadata": {
    "papermill": {
     "duration": null,
     "end_time": null,
     "exception": null,
     "start_time": null,
     "status": "pending"
    },
    "tags": []
   },
   "source": [
    "### Comparing results of NN and LR"
   ]
  },
  {
   "cell_type": "code",
   "execution_count": 24,
   "metadata": {
    "papermill": {
     "duration": null,
     "end_time": null,
     "exception": null,
     "start_time": null,
     "status": "pending"
    },
    "tags": []
   },
   "outputs": [
    {
     "data": {
      "text/plain": [
       "<matplotlib.legend.Legend at 0x141344650>"
      ]
     },
     "execution_count": 24,
     "metadata": {},
     "output_type": "execute_result"
    },
    {
     "data": {
      "image/png": "[encoded data removed]",
      "text/plain": [
       "<Figure size 576x360 with 1 Axes>"
      ]
     },
     "metadata": {
      "needs_background": "light"
     },
     "output_type": "display_data"
    }
   ],
   "source": [
    "plt.figure(figsize=(8,5))\n",
    "plt.plot(acc1.val_accuracies, 'g-', label = \"Val Accuracies - NN\")\n",
    "plt.plot(acc1.accuracies, 'r-', label = \"Accuracies - NN\")\n",
    "plt.plot(acc2.val_accuracies, 'b-', label = \"Val Accuracies - Logistic Reg\")\n",
    "plt.plot(acc2.accuracies, 'k-', label = \"Accuracies - Logistic Reg\")\n",
    "plt.ylim(0.8,1) ## for a more spread out view\n",
    "plt.legend()"
   ]
  },
  {
   "cell_type": "markdown",
   "metadata": {
    "papermill": {
     "duration": null,
     "end_time": null,
     "exception": null,
     "start_time": null,
     "status": "pending"
    },
    "tags": []
   },
   "source": [
    "### Clearly NN has a better accuracy over LR; NN is overfitting - Validation accuracy (green) has dropped below training accuracy (orange), also they are diverging. This problem is not seen in LR"
   ]
  },
  {
   "cell_type": "markdown",
   "metadata": {
    "papermill": {
     "duration": null,
     "end_time": null,
     "exception": null,
     "start_time": null,
     "status": "pending"
    },
    "tags": []
   },
   "source": [
    "##### Now we will be moving through the network, till the output of the second last affine where we get a 2 dimensional output. We will be plotting this 2d output and probability contours"
   ]
  },
  {
   "cell_type": "code",
   "execution_count": 25,
   "metadata": {
    "papermill": {
     "duration": null,
     "end_time": null,
     "exception": null,
     "start_time": null,
     "status": "pending"
    },
    "tags": []
   },
   "outputs": [],
   "source": [
    "model_new = Model(layers[:-2])"
   ]
  },
  {
   "cell_type": "code",
   "execution_count": 26,
   "metadata": {
    "papermill": {
     "duration": null,
     "end_time": null,
     "exception": null,
     "start_time": null,
     "status": "pending"
    },
    "tags": []
   },
   "outputs": [],
   "source": [
    "plot_testing = model_new(testing_xdata)"
   ]
  },
  {
   "cell_type": "markdown",
   "metadata": {
    "papermill": {
     "duration": null,
     "end_time": null,
     "exception": null,
     "start_time": null,
     "status": "pending"
    },
    "tags": []
   },
   "source": [
    "##### Plotting the scatter plot of points and color coding by class"
   ]
  },
  {
   "cell_type": "code",
   "execution_count": 27,
   "metadata": {
    "papermill": {
     "duration": null,
     "end_time": null,
     "exception": null,
     "start_time": null,
     "status": "pending"
    },
    "tags": []
   },
   "outputs": [
    {
     "data": {
      "image/png": "[encoded data removed]",
      "text/plain": [
       "<Figure size 576x504 with 1 Axes>"
      ]
     },
     "metadata": {
      "needs_background": "light"
     },
     "output_type": "display_data"
    }
   ],
   "source": [
    "plt.figure(figsize=(8,7))\n",
    "plt.scatter(plot_testing[:,0], plot_testing[:,1], alpha = 0.1, c = y_test.ravel());"
   ]
  },
  {
   "cell_type": "markdown",
   "metadata": {
    "papermill": {
     "duration": null,
     "end_time": null,
     "exception": null,
     "start_time": null,
     "status": "pending"
    },
    "tags": []
   },
   "source": [
    "##### Plotting probability contours"
   ]
  },
  {
   "cell_type": "code",
   "execution_count": 28,
   "metadata": {
    "papermill": {
     "duration": null,
     "end_time": null,
     "exception": null,
     "start_time": null,
     "status": "pending"
    },
    "tags": []
   },
   "outputs": [],
   "source": [
    "model_prob = Model(layers[-2:]) ## picking only last two layers to get probability. That is affine followed by sigmoid"
   ]
  },
  {
   "cell_type": "code",
   "execution_count": 29,
   "metadata": {
    "papermill": {
     "duration": null,
     "end_time": null,
     "exception": null,
     "start_time": null,
     "status": "pending"
    },
    "tags": []
   },
   "outputs": [],
   "source": [
    "xgrid = np.linspace(-4, 1, 100) ## Adjust these values based on above chart, roughly -4 to 1\n",
    "ygrid = np.linspace(-7.5, 7.5, 100) ## Adjust these values based on above chart, roughly -7.5, 7.5\n",
    "xg, yg = np.meshgrid(xgrid, ygrid)\n",
    "# xg and yg are now both 100X100, lets convert them to single arrays \n",
    "\n",
    "xg_interim = np.ravel(xg)\n",
    "yg_interim = np.ravel(yg)\n",
    "\n",
    "## xg_interim, yg_interim are now arrays of len 10000, now we will stack them and then transpose to get desired shape of n rows, 2 columns\n",
    "\n",
    "X_interim = np.vstack((xg_interim, yg_interim)) ## Please note vstack takes in a tuple\n",
    "X = X_interim.T\n",
    "\n",
    "## We want a shape of n rows and 2 columns to be able to feed this to last affine\n",
    "## This last affine takes only two columns, hence the above transformation\n",
    "probability_contour = model_prob(X).reshape(100,100) ## to make it consistent with xg, yg"
   ]
  },
  {
   "cell_type": "code",
   "execution_count": 30,
   "metadata": {
    "papermill": {
     "duration": null,
     "end_time": null,
     "exception": null,
     "start_time": null,
     "status": "pending"
    },
    "tags": []
   },
   "outputs": [
    {
     "data": {
      "image/png": "[encoded data removed]",
      "text/plain": [
       "<Figure size 576x504 with 1 Axes>"
      ]
     },
     "metadata": {
      "needs_background": "light"
     },
     "output_type": "display_data"
    }
   ],
   "source": [
    "plt.figure(figsize=(8,7))\n",
    "plt.scatter(plot_testing[:,0], plot_testing[:,1], alpha = 0.1, c = y_test.ravel())\n",
    "contours = plt.contour(xg,yg,probability_contour)\n",
    "plt.clabel(contours, inline = True );"
   ]
  }
 ],
 "metadata": {
  "kernelspec": {
   "display_name": "Python 3",
   "language": "python",
   "name": "python3"
  },
  "language_info": {
   "codemirror_mode": {
    "name": "ipython",
    "version": 3
   },
   "file_extension": ".py",
   "mimetype": "text/x-python",
   "name": "python",
   "nbconvert_exporter": "python",
   "pygments_lexer": "ipython3",
   "version": "3.7.6"
  },
  "papermill": {
   "duration": 7.606145,
   "end_time": "2020-08-09T07:34:03.217714",
   "environment_variables": {},
   "exception": true,
   "input_path": "2020-08-07-NN-new.ipynb",
   "output_path": "2020-08-07-NN-new.ipynb",
   "parameters": {},
   "start_time": "2020-08-09T07:33:55.611569",
   "version": "2.1.2"
  }
 },
 "nbformat": 4,
 "nbformat_minor": 4
}
