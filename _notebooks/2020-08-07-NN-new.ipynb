{
 "cells": [
  {
   "cell_type": "markdown",
   "metadata": {
    "papermill": {
     "duration": 0.02768,
     "end_time": "2020-08-12T00:26:30.988550",
     "exception": false,
     "start_time": "2020-08-12T00:26:30.960870",
     "status": "completed"
    },
    "tags": []
   },
   "source": [
    "# \"Building a basic Neural Network from scratch - Kudzu\"\n",
    "\n",
    "- badges: true\n",
    "- author: Anshuman Gupta"
   ]
  },
  {
   "cell_type": "markdown",
   "metadata": {
    "papermill": {
     "duration": 0.026173,
     "end_time": "2020-08-12T00:26:31.041501",
     "exception": false,
     "start_time": "2020-08-12T00:26:31.015328",
     "status": "completed"
    },
    "tags": []
   },
   "source": [
    "#### In this project, the idea is to write a classifier to differentiate between handwritten digits 3 and 8, from the MNIST database.\n",
    "\n",
    "#### I will using a custom built neural network library called Kudzu.This has been developed as a part of KTF/Foundations course of Univ.ai (www.univ.ai). The source code for Kudzu Library and and this notebook can be found on my git-hub profile : www.https://github.com/anshuman6 under the folder project-solution. Any feedback and comments are welcome. Please feel free to email me at: anshuman6@gmail.com\n",
    "\n",
    "#### 1. I will be using the MNIST database. \n",
    "\n",
    "#### 2. I will be comparing the results of the 4 layer NN to a standard logistic regression"
   ]
  },
  {
   "cell_type": "markdown",
   "metadata": {
    "papermill": {
     "duration": 0.025517,
     "end_time": "2020-08-12T00:26:31.101494",
     "exception": false,
     "start_time": "2020-08-12T00:26:31.075977",
     "status": "completed"
    },
    "tags": []
   },
   "source": [
    "##### Importing all the necessary libraries"
   ]
  },
  {
   "cell_type": "code",
   "execution_count": 1,
   "metadata": {
    "execution": {
     "iopub.execute_input": "2020-08-12T00:26:31.159643Z",
     "iopub.status.busy": "2020-08-12T00:26:31.159001Z",
     "iopub.status.idle": "2020-08-12T00:26:31.169782Z",
     "shell.execute_reply": "2020-08-12T00:26:31.170218Z"
    },
    "papermill": {
     "duration": 0.041501,
     "end_time": "2020-08-12T00:26:31.170412",
     "exception": false,
     "start_time": "2020-08-12T00:26:31.128911",
     "status": "completed"
    },
    "tags": []
   },
   "outputs": [],
   "source": [
    "%load_ext autoreload\n",
    "%autoreload 2"
   ]
  },
  {
   "cell_type": "code",
   "execution_count": 2,
   "metadata": {
    "execution": {
     "iopub.execute_input": "2020-08-12T00:26:31.222098Z",
     "iopub.status.busy": "2020-08-12T00:26:31.221556Z",
     "iopub.status.idle": "2020-08-12T00:26:31.727596Z",
     "shell.execute_reply": "2020-08-12T00:26:31.728086Z"
    },
    "papermill": {
     "duration": 0.533571,
     "end_time": "2020-08-12T00:26:31.728269",
     "exception": false,
     "start_time": "2020-08-12T00:26:31.194698",
     "status": "completed"
    },
    "tags": []
   },
   "outputs": [],
   "source": [
    "%matplotlib inline\n",
    "import numpy as np\n",
    "import matplotlib.pyplot as plt\n",
    "import pandas as pd"
   ]
  },
  {
   "cell_type": "markdown",
   "metadata": {
    "papermill": {
     "duration": 0.027329,
     "end_time": "2020-08-12T00:26:31.781076",
     "exception": false,
     "start_time": "2020-08-12T00:26:31.753747",
     "status": "completed"
    },
    "tags": []
   },
   "source": [
    "##### The following command helps us download MNIST from notebook itself. You can skip this if you already have MNIST. You can also download it via your terminal."
   ]
  },
  {
   "cell_type": "code",
   "execution_count": 3,
   "metadata": {
    "execution": {
     "iopub.execute_input": "2020-08-12T00:26:31.832593Z",
     "iopub.status.busy": "2020-08-12T00:26:31.832057Z",
     "iopub.status.idle": "2020-08-12T00:26:33.180980Z",
     "shell.execute_reply": "2020-08-12T00:26:33.180340Z"
    },
    "papermill": {
     "duration": 1.375024,
     "end_time": "2020-08-12T00:26:33.181116",
     "exception": false,
     "start_time": "2020-08-12T00:26:31.806092",
     "status": "completed"
    },
    "tags": []
   },
   "outputs": [
    {
     "name": "stdout",
     "output_type": "stream",
     "text": [
      "Collecting mnist\r\n"
     ]
    },
    {
     "name": "stdout",
     "output_type": "stream",
     "text": [
      "  Downloading mnist-0.2.2-py2.py3-none-any.whl (3.5 kB)\r\n"
     ]
    },
    {
     "name": "stdout",
     "output_type": "stream",
     "text": [
      "Requirement already satisfied: numpy in /opt/hostedtoolcache/Python/3.6.11/x64/lib/python3.6/site-packages (from mnist) (1.19.1)\r\n"
     ]
    },
    {
     "name": "stdout",
     "output_type": "stream",
     "text": [
      "Installing collected packages: mnist\r\n",
      "Successfully installed mnist-0.2.2\r\n"
     ]
    },
    {
     "name": "stdout",
     "output_type": "stream",
     "text": [
      "\u001b[33mWARNING: You are using pip version 20.2; however, version 20.2.2 is available.\r\n",
      "You should consider upgrading via the '/opt/hostedtoolcache/Python/3.6.11/x64/bin/python -m pip install --upgrade pip' command.\u001b[0m\r\n"
     ]
    }
   ],
   "source": [
    "!pip install mnist # Please note, it is commented out for now, you can remove comment if you want to install it"
   ]
  },
  {
   "cell_type": "markdown",
   "metadata": {
    "papermill": {
     "duration": 0.027069,
     "end_time": "2020-08-12T00:26:33.240627",
     "exception": false,
     "start_time": "2020-08-12T00:26:33.213558",
     "status": "completed"
    },
    "tags": []
   },
   "source": [
    "#### Preparing the Data"
   ]
  },
  {
   "cell_type": "code",
   "execution_count": 4,
   "metadata": {
    "execution": {
     "iopub.execute_input": "2020-08-12T00:26:33.308848Z",
     "iopub.status.busy": "2020-08-12T00:26:33.303321Z",
     "iopub.status.idle": "2020-08-12T00:26:33.318487Z",
     "shell.execute_reply": "2020-08-12T00:26:33.317468Z"
    },
    "papermill": {
     "duration": 0.049676,
     "end_time": "2020-08-12T00:26:33.318601",
     "exception": false,
     "start_time": "2020-08-12T00:26:33.268925",
     "status": "completed"
    },
    "tags": []
   },
   "outputs": [],
   "source": [
    "import mnist"
   ]
  },
  {
   "cell_type": "code",
   "execution_count": 5,
   "metadata": {
    "execution": {
     "iopub.execute_input": "2020-08-12T00:26:33.375236Z",
     "iopub.status.busy": "2020-08-12T00:26:33.374539Z",
     "iopub.status.idle": "2020-08-12T00:26:34.080843Z",
     "shell.execute_reply": "2020-08-12T00:26:34.080202Z"
    },
    "papermill": {
     "duration": 0.736179,
     "end_time": "2020-08-12T00:26:34.080974",
     "exception": false,
     "start_time": "2020-08-12T00:26:33.344795",
     "status": "completed"
    },
    "tags": []
   },
   "outputs": [],
   "source": [
    "train_images = mnist.train_images()\n",
    "train_labels = mnist.train_labels()"
   ]
  },
  {
   "cell_type": "code",
   "execution_count": 6,
   "metadata": {
    "execution": {
     "iopub.execute_input": "2020-08-12T00:26:34.149190Z",
     "iopub.status.busy": "2020-08-12T00:26:34.142017Z",
     "iopub.status.idle": "2020-08-12T00:26:34.157663Z",
     "shell.execute_reply": "2020-08-12T00:26:34.157108Z"
    },
    "papermill": {
     "duration": 0.046507,
     "end_time": "2020-08-12T00:26:34.157772",
     "exception": false,
     "start_time": "2020-08-12T00:26:34.111265",
     "status": "completed"
    },
    "tags": []
   },
   "outputs": [
    {
     "data": {
      "text/plain": [
       "((60000, 28, 28), (60000,))"
      ]
     },
     "execution_count": 6,
     "metadata": {},
     "output_type": "execute_result"
    }
   ],
   "source": [
    "train_images.shape, train_labels.shape"
   ]
  },
  {
   "cell_type": "code",
   "execution_count": 7,
   "metadata": {
    "execution": {
     "iopub.execute_input": "2020-08-12T00:26:34.216628Z",
     "iopub.status.busy": "2020-08-12T00:26:34.216079Z",
     "iopub.status.idle": "2020-08-12T00:26:34.507633Z",
     "shell.execute_reply": "2020-08-12T00:26:34.508084Z"
    },
    "papermill": {
     "duration": 0.324745,
     "end_time": "2020-08-12T00:26:34.508270",
     "exception": false,
     "start_time": "2020-08-12T00:26:34.183525",
     "status": "completed"
    },
    "tags": []
   },
   "outputs": [],
   "source": [
    "test_images = mnist.test_images()\n",
    "test_labels = mnist.test_labels()"
   ]
  },
  {
   "cell_type": "code",
   "execution_count": 8,
   "metadata": {
    "execution": {
     "iopub.execute_input": "2020-08-12T00:26:34.565609Z",
     "iopub.status.busy": "2020-08-12T00:26:34.564921Z",
     "iopub.status.idle": "2020-08-12T00:26:34.577913Z",
     "shell.execute_reply": "2020-08-12T00:26:34.577468Z"
    },
    "papermill": {
     "duration": 0.04291,
     "end_time": "2020-08-12T00:26:34.578020",
     "exception": false,
     "start_time": "2020-08-12T00:26:34.535110",
     "status": "completed"
    },
    "tags": []
   },
   "outputs": [
    {
     "data": {
      "text/plain": [
       "((10000, 28, 28), (10000,))"
      ]
     },
     "execution_count": 8,
     "metadata": {},
     "output_type": "execute_result"
    }
   ],
   "source": [
    "test_images.shape, test_labels.shape"
   ]
  },
  {
   "cell_type": "code",
   "execution_count": 9,
   "metadata": {
    "execution": {
     "iopub.execute_input": "2020-08-12T00:26:34.635280Z",
     "iopub.status.busy": "2020-08-12T00:26:34.634691Z",
     "iopub.status.idle": "2020-08-12T00:26:34.816544Z",
     "shell.execute_reply": "2020-08-12T00:26:34.816013Z"
    },
    "papermill": {
     "duration": 0.211688,
     "end_time": "2020-08-12T00:26:34.816665",
     "exception": false,
     "start_time": "2020-08-12T00:26:34.604977",
     "status": "completed"
    },
    "tags": []
   },
   "outputs": [
    {
     "name": "stdout",
     "output_type": "stream",
     "text": [
      "2\n"
     ]
    },
    {
     "data": {
      "text/plain": [
       "<matplotlib.image.AxesImage at 0x7fa70fc34358>"
      ]
     },
     "execution_count": 9,
     "metadata": {},
     "output_type": "execute_result"
    },
    {
     "data": {
      "image/png": "[encoded data removed]",
      "text/plain": [
       "<Figure size 432x288 with 1 Axes>"
      ]
     },
     "metadata": {
      "needs_background": "light"
     },
     "output_type": "display_data"
    }
   ],
   "source": [
    "image_index = 7776 # You may select anything up to 60,000\n",
    "print(train_labels[image_index]) \n",
    "plt.imshow(train_images[image_index], cmap='Greys')"
   ]
  },
  {
   "cell_type": "markdown",
   "metadata": {
    "papermill": {
     "duration": 0.030878,
     "end_time": "2020-08-12T00:26:34.878213",
     "exception": false,
     "start_time": "2020-08-12T00:26:34.847335",
     "status": "completed"
    },
    "tags": []
   },
   "source": [
    "## Filter data to get 3 and 8 out"
   ]
  },
  {
   "cell_type": "code",
   "execution_count": 10,
   "metadata": {
    "execution": {
     "iopub.execute_input": "2020-08-12T00:26:34.944860Z",
     "iopub.status.busy": "2020-08-12T00:26:34.939214Z",
     "iopub.status.idle": "2020-08-12T00:26:34.958654Z",
     "shell.execute_reply": "2020-08-12T00:26:34.958155Z"
    },
    "papermill": {
     "duration": 0.050965,
     "end_time": "2020-08-12T00:26:34.958772",
     "exception": false,
     "start_time": "2020-08-12T00:26:34.907807",
     "status": "completed"
    },
    "tags": []
   },
   "outputs": [],
   "source": [
    "train_filter = np.where((train_labels == 3 ) | (train_labels == 8))\n",
    "test_filter = np.where((test_labels == 3) | (test_labels == 8))\n",
    "X_train, y_train = train_images[train_filter], train_labels[train_filter]\n",
    "X_test, y_test = test_images[test_filter], test_labels[test_filter]"
   ]
  },
  {
   "cell_type": "markdown",
   "metadata": {
    "papermill": {
     "duration": 0.02807,
     "end_time": "2020-08-12T00:26:35.020516",
     "exception": false,
     "start_time": "2020-08-12T00:26:34.992446",
     "status": "completed"
    },
    "tags": []
   },
   "source": [
    "##### We normalize the pizel values in the 0 to 1 range"
   ]
  },
  {
   "cell_type": "code",
   "execution_count": 11,
   "metadata": {
    "execution": {
     "iopub.execute_input": "2020-08-12T00:26:35.081844Z",
     "iopub.status.busy": "2020-08-12T00:26:35.081281Z",
     "iopub.status.idle": "2020-08-12T00:26:35.139531Z",
     "shell.execute_reply": "2020-08-12T00:26:35.138957Z"
    },
    "papermill": {
     "duration": 0.091519,
     "end_time": "2020-08-12T00:26:35.139694",
     "exception": false,
     "start_time": "2020-08-12T00:26:35.048175",
     "status": "completed"
    },
    "tags": []
   },
   "outputs": [],
   "source": [
    "X_train = X_train/255.\n",
    "X_test = X_test/255."
   ]
  },
  {
   "cell_type": "markdown",
   "metadata": {
    "papermill": {
     "duration": 0.026452,
     "end_time": "2020-08-12T00:26:35.193996",
     "exception": false,
     "start_time": "2020-08-12T00:26:35.167544",
     "status": "completed"
    },
    "tags": []
   },
   "source": [
    "And setup the labels as 1 (when the digit is 3) and 0 (when the digit is 8)"
   ]
  },
  {
   "cell_type": "code",
   "execution_count": 12,
   "metadata": {
    "execution": {
     "iopub.execute_input": "2020-08-12T00:26:35.252246Z",
     "iopub.status.busy": "2020-08-12T00:26:35.251684Z",
     "iopub.status.idle": "2020-08-12T00:26:35.263431Z",
     "shell.execute_reply": "2020-08-12T00:26:35.262987Z"
    },
    "papermill": {
     "duration": 0.04125,
     "end_time": "2020-08-12T00:26:35.263537",
     "exception": false,
     "start_time": "2020-08-12T00:26:35.222287",
     "status": "completed"
    },
    "tags": []
   },
   "outputs": [],
   "source": [
    "y_train = 1*(y_train==3)\n",
    "y_test = 1*(y_test==3)"
   ]
  },
  {
   "cell_type": "code",
   "execution_count": 13,
   "metadata": {
    "execution": {
     "iopub.execute_input": "2020-08-12T00:26:35.322129Z",
     "iopub.status.busy": "2020-08-12T00:26:35.321583Z",
     "iopub.status.idle": "2020-08-12T00:26:35.332148Z",
     "shell.execute_reply": "2020-08-12T00:26:35.332649Z"
    },
    "papermill": {
     "duration": 0.040593,
     "end_time": "2020-08-12T00:26:35.332763",
     "exception": false,
     "start_time": "2020-08-12T00:26:35.292170",
     "status": "completed"
    },
    "tags": []
   },
   "outputs": [
    {
     "data": {
      "text/plain": [
       "((11982, 28, 28), (1984, 28, 28))"
      ]
     },
     "execution_count": 13,
     "metadata": {},
     "output_type": "execute_result"
    }
   ],
   "source": [
    "X_train.shape, X_test.shape"
   ]
  },
  {
   "cell_type": "markdown",
   "metadata": {
    "papermill": {
     "duration": 0.027454,
     "end_time": "2020-08-12T00:26:35.386662",
     "exception": false,
     "start_time": "2020-08-12T00:26:35.359208",
     "status": "completed"
    },
    "tags": []
   },
   "source": [
    "##### We reshape the data to flatten the image pixels into a set of features or co-variates:"
   ]
  },
  {
   "cell_type": "code",
   "execution_count": 14,
   "metadata": {
    "execution": {
     "iopub.execute_input": "2020-08-12T00:26:35.450399Z",
     "iopub.status.busy": "2020-08-12T00:26:35.449759Z",
     "iopub.status.idle": "2020-08-12T00:26:35.462527Z",
     "shell.execute_reply": "2020-08-12T00:26:35.462088Z"
    },
    "papermill": {
     "duration": 0.042949,
     "end_time": "2020-08-12T00:26:35.462634",
     "exception": false,
     "start_time": "2020-08-12T00:26:35.419685",
     "status": "completed"
    },
    "tags": []
   },
   "outputs": [
    {
     "data": {
      "text/plain": [
       "((11982, 784), (1984, 784))"
      ]
     },
     "execution_count": 14,
     "metadata": {},
     "output_type": "execute_result"
    }
   ],
   "source": [
    "X_train = X_train.reshape(X_train.shape[0], -1)\n",
    "X_test = X_test.reshape(X_test.shape[0], -1)\n",
    "X_train.shape, X_test.shape"
   ]
  },
  {
   "cell_type": "markdown",
   "metadata": {
    "papermill": {
     "duration": 0.032304,
     "end_time": "2020-08-12T00:26:35.526604",
     "exception": false,
     "start_time": "2020-08-12T00:26:35.494300",
     "status": "completed"
    },
    "tags": []
   },
   "source": [
    "##### Importing Kudzu library and its functionality"
   ]
  },
  {
   "cell_type": "code",
   "execution_count": 15,
   "metadata": {
    "execution": {
     "iopub.execute_input": "2020-08-12T00:26:35.584891Z",
     "iopub.status.busy": "2020-08-12T00:26:35.584214Z",
     "iopub.status.idle": "2020-08-12T00:26:35.602070Z",
     "shell.execute_reply": "2020-08-12T00:26:35.602510Z"
    },
    "papermill": {
     "duration": 0.048309,
     "end_time": "2020-08-12T00:26:35.602625",
     "exception": false,
     "start_time": "2020-08-12T00:26:35.554316",
     "status": "completed"
    },
    "tags": []
   },
   "outputs": [],
   "source": [
    "from kudzu.data import Data, Dataloader, Sampler\n",
    "from kudzu.callbacks import AccCallback\n",
    "from kudzu.loss import MSE\n",
    "from kudzu.layer import Affine, Sigmoid\n",
    "from kudzu.model import Model\n",
    "from kudzu.optim import GD\n",
    "from kudzu.train import Learner\n",
    "from kudzu.callbacks import ClfCallback\n",
    "from kudzu.layer import Sigmoid\n",
    "from kudzu.layer import Relu"
   ]
  },
  {
   "cell_type": "markdown",
   "metadata": {
    "papermill": {
     "duration": 0.027982,
     "end_time": "2020-08-12T00:26:35.656810",
     "exception": false,
     "start_time": "2020-08-12T00:26:35.628828",
     "status": "completed"
    },
    "tags": []
   },
   "source": [
    "##### We are creating a class, just so that we can use it to store our parameters for us"
   ]
  },
  {
   "cell_type": "code",
   "execution_count": 16,
   "metadata": {
    "execution": {
     "iopub.execute_input": "2020-08-12T00:26:35.715902Z",
     "iopub.status.busy": "2020-08-12T00:26:35.715325Z",
     "iopub.status.idle": "2020-08-12T00:26:35.727131Z",
     "shell.execute_reply": "2020-08-12T00:26:35.727795Z"
    },
    "papermill": {
     "duration": 0.043872,
     "end_time": "2020-08-12T00:26:35.728088",
     "exception": false,
     "start_time": "2020-08-12T00:26:35.684216",
     "status": "completed"
    },
    "tags": []
   },
   "outputs": [],
   "source": [
    "class Config:\n",
    "    pass\n",
    "config = Config()\n",
    "config.lr = 0.001\n",
    "config.num_epochs = 250\n",
    "config.bs = 50"
   ]
  },
  {
   "cell_type": "markdown",
   "metadata": {
    "papermill": {
     "duration": 0.026742,
     "end_time": "2020-08-12T00:26:35.784911",
     "exception": false,
     "start_time": "2020-08-12T00:26:35.758169",
     "status": "completed"
    },
    "tags": []
   },
   "source": [
    "##### Initializing Data"
   ]
  },
  {
   "cell_type": "code",
   "execution_count": 17,
   "metadata": {
    "execution": {
     "iopub.execute_input": "2020-08-12T00:26:35.845431Z",
     "iopub.status.busy": "2020-08-12T00:26:35.844918Z",
     "iopub.status.idle": "2020-08-12T00:26:35.856778Z",
     "shell.execute_reply": "2020-08-12T00:26:35.856363Z"
    },
    "papermill": {
     "duration": 0.044178,
     "end_time": "2020-08-12T00:26:35.856891",
     "exception": false,
     "start_time": "2020-08-12T00:26:35.812713",
     "status": "completed"
    },
    "tags": []
   },
   "outputs": [],
   "source": [
    "data = Data(X_train, y_train.reshape(-1,1))\n",
    "loss = MSE()\n",
    "opt = GD(config.lr)\n",
    "sampler = Sampler(data, config.bs, shuffle=True)\n",
    "dl = Dataloader(data, sampler)"
   ]
  },
  {
   "cell_type": "markdown",
   "metadata": {
    "papermill": {
     "duration": 0.030111,
     "end_time": "2020-08-12T00:26:35.914917",
     "exception": false,
     "start_time": "2020-08-12T00:26:35.884806",
     "status": "completed"
    },
    "tags": []
   },
   "source": [
    "##### Constructing 2 different layers, one for NN and one only for logistic regression."
   ]
  },
  {
   "cell_type": "markdown",
   "metadata": {
    "papermill": {
     "duration": 0.028272,
     "end_time": "2020-08-12T00:26:35.974256",
     "exception": false,
     "start_time": "2020-08-12T00:26:35.945984",
     "status": "completed"
    },
    "tags": []
   },
   "source": [
    "##### Creating containers for data to be passed, to calculate accuracies"
   ]
  },
  {
   "cell_type": "code",
   "execution_count": 18,
   "metadata": {
    "execution": {
     "iopub.execute_input": "2020-08-12T00:26:36.043827Z",
     "iopub.status.busy": "2020-08-12T00:26:36.043219Z",
     "iopub.status.idle": "2020-08-12T00:26:36.057270Z",
     "shell.execute_reply": "2020-08-12T00:26:36.057831Z"
    },
    "papermill": {
     "duration": 0.048173,
     "end_time": "2020-08-12T00:26:36.058001",
     "exception": false,
     "start_time": "2020-08-12T00:26:36.009828",
     "status": "completed"
    },
    "tags": []
   },
   "outputs": [],
   "source": [
    "training_xdata = X_train\n",
    "testing_xdata = X_test\n",
    "training_ydata = y_train.reshape(-1,1)\n",
    "testing_ydata = y_test.reshape(-1,1)"
   ]
  },
  {
   "cell_type": "markdown",
   "metadata": {
    "papermill": {
     "duration": 0.029769,
     "end_time": "2020-08-12T00:26:36.117368",
     "exception": false,
     "start_time": "2020-08-12T00:26:36.087599",
     "status": "completed"
    },
    "tags": []
   },
   "source": [
    "##### Initializing models and Running training loop: "
   ]
  },
  {
   "cell_type": "code",
   "execution_count": 19,
   "metadata": {
    "execution": {
     "iopub.execute_input": "2020-08-12T00:26:36.180555Z",
     "iopub.status.busy": "2020-08-12T00:26:36.179877Z",
     "iopub.status.idle": "2020-08-12T00:26:36.195243Z",
     "shell.execute_reply": "2020-08-12T00:26:36.194654Z"
    },
    "papermill": {
     "duration": 0.048299,
     "end_time": "2020-08-12T00:26:36.195355",
     "exception": false,
     "start_time": "2020-08-12T00:26:36.147056",
     "status": "completed"
    },
    "tags": []
   },
   "outputs": [],
   "source": [
    "layers = [Affine(\"first\", 784, 100), Relu(\"first\"), Affine(\"second\", 100, 100), Relu(\"second\"), Affine(\"third\", 100, 2), Affine(\"final\", 2, 1), Sigmoid(\"final\")]\n",
    "\n",
    "model_neural = Model(layers)\n",
    "model_logistic = Model([Affine(\"logits\", 784, 1), Sigmoid(\"sigmoid\")])"
   ]
  },
  {
   "cell_type": "code",
   "execution_count": 20,
   "metadata": {
    "execution": {
     "iopub.execute_input": "2020-08-12T00:26:36.258349Z",
     "iopub.status.busy": "2020-08-12T00:26:36.257774Z",
     "iopub.status.idle": "2020-08-12T00:26:36.268462Z",
     "shell.execute_reply": "2020-08-12T00:26:36.267888Z"
    },
    "papermill": {
     "duration": 0.044409,
     "end_time": "2020-08-12T00:26:36.268603",
     "exception": false,
     "start_time": "2020-08-12T00:26:36.224194",
     "status": "completed"
    },
    "tags": []
   },
   "outputs": [],
   "source": [
    "learner1 = Learner(loss, model_neural, opt, config.num_epochs)\n",
    "acc1 = ClfCallback(learner1, config.bs, training_xdata , testing_xdata, training_ydata, testing_ydata)\n",
    "learner1.set_callbacks([acc1])"
   ]
  },
  {
   "cell_type": "code",
   "execution_count": 21,
   "metadata": {
    "execution": {
     "iopub.execute_input": "2020-08-12T00:26:36.328979Z",
     "iopub.status.busy": "2020-08-12T00:26:36.328394Z",
     "iopub.status.idle": "2020-08-12T00:28:49.930946Z",
     "shell.execute_reply": "2020-08-12T00:28:49.930100Z"
    },
    "papermill": {
     "duration": 133.633446,
     "end_time": "2020-08-12T00:28:49.931077",
     "exception": false,
     "start_time": "2020-08-12T00:26:36.297631",
     "status": "completed"
    },
    "tags": []
   },
   "outputs": [
    {
     "name": "stdout",
     "output_type": "stream",
     "text": [
      "Epoch 0 Loss 0.2225195851019431\n",
      "train accuracy is: 0.7622266733433484, test accuracy is 0.7479838709677419\n"
     ]
    },
    {
     "name": "stdout",
     "output_type": "stream",
     "text": [
      "Epoch 10 Loss 0.06845190078879143\n",
      "train accuracy is: 0.9312301786012351, test accuracy is 0.9430443548387096\n"
     ]
    },
    {
     "name": "stdout",
     "output_type": "stream",
     "text": [
      "Epoch 20 Loss 0.04642373832558463\n",
      "train accuracy is: 0.9502587214154565, test accuracy is 0.9576612903225806\n"
     ]
    },
    {
     "name": "stdout",
     "output_type": "stream",
     "text": [
      "Epoch 30 Loss 0.03841639263315883\n",
      "train accuracy is: 0.957352695710232, test accuracy is 0.9652217741935484\n"
     ]
    },
    {
     "name": "stdout",
     "output_type": "stream",
     "text": [
      "Epoch 40 Loss 0.03413339435651386\n",
      "train accuracy is: 0.9606075780337172, test accuracy is 0.967741935483871\n"
     ]
    },
    {
     "name": "stdout",
     "output_type": "stream",
     "text": [
      "Epoch 50 Loss 0.03132570936200716\n",
      "train accuracy is: 0.9641962944416625, test accuracy is 0.96875\n"
     ]
    },
    {
     "name": "stdout",
     "output_type": "stream",
     "text": [
      "Epoch 60 Loss 0.0292592918700543\n",
      "train accuracy is: 0.9670338841595727, test accuracy is 0.969758064516129\n"
     ]
    },
    {
     "name": "stdout",
     "output_type": "stream",
     "text": [
      "Epoch 70 Loss 0.027640317626719018\n",
      "train accuracy is: 0.9687865131029878, test accuracy is 0.96875\n"
     ]
    },
    {
     "name": "stdout",
     "output_type": "stream",
     "text": [
      "Epoch 80 Loss 0.02630527912996113\n",
      "train accuracy is: 0.9701218494408279, test accuracy is 0.9682459677419355\n"
     ]
    },
    {
     "name": "stdout",
     "output_type": "stream",
     "text": [
      "Epoch 90 Loss 0.025175891237257563\n",
      "train accuracy is: 0.971957936905358, test accuracy is 0.96875\n"
     ]
    },
    {
     "name": "stdout",
     "output_type": "stream",
     "text": [
      "Epoch 100 Loss 0.0242210170009837\n",
      "train accuracy is: 0.9727925221165081, test accuracy is 0.969758064516129\n"
     ]
    },
    {
     "name": "stdout",
     "output_type": "stream",
     "text": [
      "Epoch 110 Loss 0.023361809404093933\n",
      "train accuracy is: 0.9739609414121182, test accuracy is 0.9702620967741935\n"
     ]
    },
    {
     "name": "stdout",
     "output_type": "stream",
     "text": [
      "Epoch 120 Loss 0.02258506958384938\n",
      "train accuracy is: 0.9749624436654982, test accuracy is 0.9717741935483871\n"
     ]
    },
    {
     "name": "stdout",
     "output_type": "stream",
     "text": [
      "Epoch 130 Loss 0.021875625370652265\n",
      "train accuracy is: 0.9763812385244534, test accuracy is 0.9727822580645161\n"
     ]
    },
    {
     "name": "stdout",
     "output_type": "stream",
     "text": [
      "Epoch 140 Loss 0.021231020459077744\n",
      "train accuracy is: 0.9768819896511434, test accuracy is 0.9722782258064516\n"
     ]
    },
    {
     "name": "stdout",
     "output_type": "stream",
     "text": [
      "Epoch 150 Loss 0.02063189318196041\n",
      "train accuracy is: 0.9775496578200634, test accuracy is 0.9717741935483871\n"
     ]
    },
    {
     "name": "stdout",
     "output_type": "stream",
     "text": [
      "Epoch 160 Loss 0.02008304225996461\n",
      "train accuracy is: 0.9780504089467534, test accuracy is 0.9727822580645161\n"
     ]
    },
    {
     "name": "stdout",
     "output_type": "stream",
     "text": [
      "Epoch 170 Loss 0.01956870993729334\n",
      "train accuracy is: 0.9783842430312135, test accuracy is 0.9737903225806451\n"
     ]
    },
    {
     "name": "stdout",
     "output_type": "stream",
     "text": [
      "Epoch 180 Loss 0.019086579381559134\n",
      "train accuracy is: 0.9788849941579035, test accuracy is 0.9737903225806451\n"
     ]
    },
    {
     "name": "stdout",
     "output_type": "stream",
     "text": [
      "Epoch 190 Loss 0.018630248600356055\n",
      "train accuracy is: 0.9793022867634785, test accuracy is 0.9737903225806451\n"
     ]
    },
    {
     "name": "stdout",
     "output_type": "stream",
     "text": [
      "Epoch 200 Loss 0.018188922491478892\n",
      "train accuracy is: 0.9793857452845935, test accuracy is 0.9747983870967742\n"
     ]
    },
    {
     "name": "stdout",
     "output_type": "stream",
     "text": [
      "Epoch 210 Loss 0.01777766654796162\n",
      "train accuracy is: 0.9801368719746286, test accuracy is 0.9747983870967742\n"
     ]
    },
    {
     "name": "stdout",
     "output_type": "stream",
     "text": [
      "Epoch 220 Loss 0.017375345751833284\n",
      "train accuracy is: 0.9806376231013186, test accuracy is 0.9763104838709677\n"
     ]
    },
    {
     "name": "stdout",
     "output_type": "stream",
     "text": [
      "Epoch 230 Loss 0.016988863480070716\n",
      "train accuracy is: 0.9810549157068936, test accuracy is 0.9773185483870968\n"
     ]
    },
    {
     "name": "stdout",
     "output_type": "stream",
     "text": [
      "Epoch 240 Loss 0.016615922590164964\n",
      "train accuracy is: 0.9815556668335838, test accuracy is 0.9773185483870968\n"
     ]
    },
    {
     "data": {
      "text/plain": [
       "0.0047893053947365045"
      ]
     },
     "execution_count": 21,
     "metadata": {},
     "output_type": "execute_result"
    }
   ],
   "source": [
    "learner1.train_loop(dl)"
   ]
  },
  {
   "cell_type": "markdown",
   "metadata": {
    "papermill": {
     "duration": 0.039682,
     "end_time": "2020-08-12T00:28:50.009339",
     "exception": false,
     "start_time": "2020-08-12T00:28:49.969657",
     "status": "completed"
    },
    "tags": []
   },
   "source": [
    "##### Now running only the logistic regression based classification to compare results with NN"
   ]
  },
  {
   "cell_type": "code",
   "execution_count": 22,
   "metadata": {
    "execution": {
     "iopub.execute_input": "2020-08-12T00:28:50.088571Z",
     "iopub.status.busy": "2020-08-12T00:28:50.087862Z",
     "iopub.status.idle": "2020-08-12T00:28:50.100225Z",
     "shell.execute_reply": "2020-08-12T00:28:50.099648Z"
    },
    "papermill": {
     "duration": 0.055108,
     "end_time": "2020-08-12T00:28:50.100339",
     "exception": false,
     "start_time": "2020-08-12T00:28:50.045231",
     "status": "completed"
    },
    "tags": []
   },
   "outputs": [],
   "source": [
    "learner2 = Learner(loss, model_logistic, opt, config.num_epochs)\n",
    "acc2 = ClfCallback(learner2, config.bs, training_xdata , testing_xdata, training_ydata, testing_ydata)\n",
    "learner2.set_callbacks([acc2])"
   ]
  },
  {
   "cell_type": "code",
   "execution_count": 23,
   "metadata": {
    "execution": {
     "iopub.execute_input": "2020-08-12T00:28:50.178435Z",
     "iopub.status.busy": "2020-08-12T00:28:50.177884Z",
     "iopub.status.idle": "2020-08-12T00:29:09.409978Z",
     "shell.execute_reply": "2020-08-12T00:29:09.410760Z"
    },
    "papermill": {
     "duration": 19.273831,
     "end_time": "2020-08-12T00:29:09.410951",
     "exception": false,
     "start_time": "2020-08-12T00:28:50.137120",
     "status": "completed"
    },
    "tags": []
   },
   "outputs": [
    {
     "name": "stdout",
     "output_type": "stream",
     "text": [
      "Epoch 0 Loss 0.21712555935796898\n",
      "train accuracy is: 0.7887664830579202, test accuracy is 0.7993951612903226\n"
     ]
    },
    {
     "name": "stdout",
     "output_type": "stream",
     "text": [
      "Epoch 10 Loss 0.09977632390731891\n",
      "train accuracy is: 0.913536972124854, test accuracy is 0.9203629032258065\n"
     ]
    },
    {
     "name": "stdout",
     "output_type": "stream",
     "text": [
      "Epoch 20 Loss 0.07825789787717216\n",
      "train accuracy is: 0.9292271740944751, test accuracy is 0.9359879032258065\n"
     ]
    },
    {
     "name": "stdout",
     "output_type": "stream",
     "text": [
      "Epoch 30 Loss 0.06787802037986716\n",
      "train accuracy is: 0.9365715239525956, test accuracy is 0.9430443548387096\n"
     ]
    },
    {
     "name": "stdout",
     "output_type": "stream",
     "text": [
      "Epoch 40 Loss 0.06149641249282163\n",
      "train accuracy is: 0.9406609914872308, test accuracy is 0.9480846774193549\n"
     ]
    },
    {
     "name": "stdout",
     "output_type": "stream",
     "text": [
      "Epoch 50 Loss 0.05708572157811863\n",
      "train accuracy is: 0.9445000834585211, test accuracy is 0.9511088709677419\n"
     ]
    },
    {
     "name": "stdout",
     "output_type": "stream",
     "text": [
      "Epoch 60 Loss 0.053815983544351374\n",
      "train accuracy is: 0.9480887998664663, test accuracy is 0.9536290322580645\n"
     ]
    },
    {
     "name": "stdout",
     "output_type": "stream",
     "text": [
      "Epoch 70 Loss 0.051274576481500696\n",
      "train accuracy is: 0.9496745117676515, test accuracy is 0.9561491935483871\n"
     ]
    },
    {
     "name": "stdout",
     "output_type": "stream",
     "text": [
      "Epoch 80 Loss 0.04923017224264372\n",
      "train accuracy is: 0.9509263895843766, test accuracy is 0.9581653225806451\n"
     ]
    },
    {
     "name": "stdout",
     "output_type": "stream",
     "text": [
      "Epoch 90 Loss 0.047539663562310125\n",
      "train accuracy is: 0.9516775162744117, test accuracy is 0.9596774193548387\n"
     ]
    },
    {
     "name": "stdout",
     "output_type": "stream",
     "text": [
      "Epoch 100 Loss 0.04611189488939101\n",
      "train accuracy is: 0.9531797696544817, test accuracy is 0.9606854838709677\n"
     ]
    },
    {
     "name": "stdout",
     "output_type": "stream",
     "text": [
      "Epoch 110 Loss 0.04488659273292483\n",
      "train accuracy is: 0.9541812719078618, test accuracy is 0.9621975806451613\n"
     ]
    },
    {
     "name": "stdout",
     "output_type": "stream",
     "text": [
      "Epoch 120 Loss 0.04381966674160764\n",
      "train accuracy is: 0.9550993156401268, test accuracy is 0.9627016129032258\n"
     ]
    },
    {
     "name": "stdout",
     "output_type": "stream",
     "text": [
      "Epoch 130 Loss 0.04287879326801963\n",
      "train accuracy is: 0.9557669838090469, test accuracy is 0.9627016129032258\n"
     ]
    },
    {
     "name": "stdout",
     "output_type": "stream",
     "text": [
      "Epoch 140 Loss 0.04204235975926096\n",
      "train accuracy is: 0.9567684860624269, test accuracy is 0.9637096774193549\n"
     ]
    },
    {
     "name": "stdout",
     "output_type": "stream",
     "text": [
      "Epoch 150 Loss 0.04129143295484636\n",
      "train accuracy is: 0.957102320146887, test accuracy is 0.9637096774193549\n"
     ]
    },
    {
     "name": "stdout",
     "output_type": "stream",
     "text": [
      "Epoch 160 Loss 0.040612849768371054\n",
      "train accuracy is: 0.9577699883158071, test accuracy is 0.9637096774193549\n"
     ]
    },
    {
     "name": "stdout",
     "output_type": "stream",
     "text": [
      "Epoch 170 Loss 0.039995046574584275\n",
      "train accuracy is: 0.9585211150058421, test accuracy is 0.9637096774193549\n"
     ]
    },
    {
     "name": "stdout",
     "output_type": "stream",
     "text": [
      "Epoch 180 Loss 0.03942975208369755\n",
      "train accuracy is: 0.9590218661325322, test accuracy is 0.9647177419354839\n"
     ]
    },
    {
     "name": "stdout",
     "output_type": "stream",
     "text": [
      "Epoch 190 Loss 0.038910664371270776\n",
      "train accuracy is: 0.9592722416958771, test accuracy is 0.9652217741935484\n"
     ]
    },
    {
     "name": "stdout",
     "output_type": "stream",
     "text": [
      "Epoch 200 Loss 0.0384300908559496\n",
      "train accuracy is: 0.9602737439492572, test accuracy is 0.9652217741935484\n"
     ]
    },
    {
     "name": "stdout",
     "output_type": "stream",
     "text": [
      "Epoch 210 Loss 0.037984880491528\n",
      "train accuracy is: 0.9603572024703723, test accuracy is 0.9652217741935484\n"
     ]
    },
    {
     "name": "stdout",
     "output_type": "stream",
     "text": [
      "Epoch 220 Loss 0.03756916459815519\n",
      "train accuracy is: 0.9606910365548322, test accuracy is 0.9657258064516129\n"
     ]
    },
    {
     "name": "stdout",
     "output_type": "stream",
     "text": [
      "Epoch 230 Loss 0.03718133056749443\n",
      "train accuracy is: 0.9609414121181773, test accuracy is 0.9667338709677419\n"
     ]
    },
    {
     "name": "stdout",
     "output_type": "stream",
     "text": [
      "Epoch 240 Loss 0.03681773035521731\n",
      "train accuracy is: 0.9610248706392923, test accuracy is 0.9667338709677419\n"
     ]
    },
    {
     "data": {
      "text/plain": [
       "0.014854320763113"
      ]
     },
     "execution_count": 23,
     "metadata": {},
     "output_type": "execute_result"
    }
   ],
   "source": [
    "learner2.train_loop(dl)"
   ]
  },
  {
   "cell_type": "markdown",
   "metadata": {
    "papermill": {
     "duration": 0.046179,
     "end_time": "2020-08-12T00:29:09.504771",
     "exception": false,
     "start_time": "2020-08-12T00:29:09.458592",
     "status": "completed"
    },
    "tags": []
   },
   "source": [
    "### Comparing results of NN and LR"
   ]
  },
  {
   "cell_type": "code",
   "execution_count": 24,
   "metadata": {
    "execution": {
     "iopub.execute_input": "2020-08-12T00:29:09.601193Z",
     "iopub.status.busy": "2020-08-12T00:29:09.600567Z",
     "iopub.status.idle": "2020-08-12T00:29:09.870307Z",
     "shell.execute_reply": "2020-08-12T00:29:09.869707Z"
    },
    "papermill": {
     "duration": 0.320285,
     "end_time": "2020-08-12T00:29:09.870437",
     "exception": false,
     "start_time": "2020-08-12T00:29:09.550152",
     "status": "completed"
    },
    "tags": []
   },
   "outputs": [
    {
     "data": {
      "text/plain": [
       "<matplotlib.legend.Legend at 0x7fa70f80ea90>"
      ]
     },
     "execution_count": 24,
     "metadata": {},
     "output_type": "execute_result"
    },
    {
     "data": {
      "image/png": "[encoded data removed]",
      "text/plain": [
       "<Figure size 576x360 with 1 Axes>"
      ]
     },
     "metadata": {
      "needs_background": "light"
     },
     "output_type": "display_data"
    }
   ],
   "source": [
    "plt.figure(figsize=(8,5))\n",
    "plt.plot(acc1.val_accuracies, 'g-', label = \"Val Accuracies - NN\")\n",
    "plt.plot(acc1.accuracies, 'r-', label = \"Accuracies - NN\")\n",
    "plt.plot(acc2.val_accuracies, 'b-', label = \"Val Accuracies - Logistic Reg\")\n",
    "plt.plot(acc2.accuracies, 'k-', label = \"Accuracies - Logistic Reg\")\n",
    "plt.ylim(0.8,1) ## for a more spread out view\n",
    "plt.legend()"
   ]
  },
  {
   "cell_type": "markdown",
   "metadata": {
    "papermill": {
     "duration": 0.046219,
     "end_time": "2020-08-12T00:29:09.964421",
     "exception": false,
     "start_time": "2020-08-12T00:29:09.918202",
     "status": "completed"
    },
    "tags": []
   },
   "source": [
    "### Clearly NN has a better accuracy over LR; NN is overfitting - Validation accuracy (green) has dropped below training accuracy (orange), also they are diverging. This problem is not seen in LR"
   ]
  },
  {
   "cell_type": "markdown",
   "metadata": {
    "papermill": {
     "duration": 0.048287,
     "end_time": "2020-08-12T00:29:10.060430",
     "exception": false,
     "start_time": "2020-08-12T00:29:10.012143",
     "status": "completed"
    },
    "tags": []
   },
   "source": [
    "##### Now we will be moving through the network, till the output of the second last affine where we get a 2 dimensional output. We will be plotting this 2d output and probability contours"
   ]
  },
  {
   "cell_type": "code",
   "execution_count": 25,
   "metadata": {
    "execution": {
     "iopub.execute_input": "2020-08-12T00:29:10.166387Z",
     "iopub.status.busy": "2020-08-12T00:29:10.165149Z",
     "iopub.status.idle": "2020-08-12T00:29:10.177643Z",
     "shell.execute_reply": "2020-08-12T00:29:10.178186Z"
    },
    "papermill": {
     "duration": 0.068234,
     "end_time": "2020-08-12T00:29:10.178371",
     "exception": false,
     "start_time": "2020-08-12T00:29:10.110137",
     "status": "completed"
    },
    "tags": []
   },
   "outputs": [],
   "source": [
    "model_new = Model(layers[:-2])"
   ]
  },
  {
   "cell_type": "code",
   "execution_count": 26,
   "metadata": {
    "execution": {
     "iopub.execute_input": "2020-08-12T00:29:10.282547Z",
     "iopub.status.busy": "2020-08-12T00:29:10.281938Z",
     "iopub.status.idle": "2020-08-12T00:29:10.309129Z",
     "shell.execute_reply": "2020-08-12T00:29:10.309720Z"
    },
    "papermill": {
     "duration": 0.080596,
     "end_time": "2020-08-12T00:29:10.309875",
     "exception": false,
     "start_time": "2020-08-12T00:29:10.229279",
     "status": "completed"
    },
    "tags": []
   },
   "outputs": [],
   "source": [
    "plot_testing = model_new(testing_xdata)"
   ]
  },
  {
   "cell_type": "markdown",
   "metadata": {
    "papermill": {
     "duration": 0.069279,
     "end_time": "2020-08-12T00:29:10.428235",
     "exception": false,
     "start_time": "2020-08-12T00:29:10.358956",
     "status": "completed"
    },
    "tags": []
   },
   "source": [
    "##### Plotting the scatter plot of points and color coding by class"
   ]
  },
  {
   "cell_type": "code",
   "execution_count": 27,
   "metadata": {
    "execution": {
     "iopub.execute_input": "2020-08-12T00:29:10.534397Z",
     "iopub.status.busy": "2020-08-12T00:29:10.533753Z",
     "iopub.status.idle": "2020-08-12T00:29:10.757603Z",
     "shell.execute_reply": "2020-08-12T00:29:10.758157Z"
    },
    "papermill": {
     "duration": 0.278845,
     "end_time": "2020-08-12T00:29:10.758490",
     "exception": false,
     "start_time": "2020-08-12T00:29:10.479645",
     "status": "completed"
    },
    "tags": []
   },
   "outputs": [
    {
     "data": {
      "image/png": "[encoded data removed]",
      "text/plain": [
       "<Figure size 576x504 with 1 Axes>"
      ]
     },
     "metadata": {
      "needs_background": "light"
     },
     "output_type": "display_data"
    }
   ],
   "source": [
    "plt.figure(figsize=(8,7))\n",
    "plt.scatter(plot_testing[:,0], plot_testing[:,1], alpha = 0.1, c = y_test.ravel());"
   ]
  },
  {
   "cell_type": "markdown",
   "metadata": {
    "papermill": {
     "duration": 0.047686,
     "end_time": "2020-08-12T00:29:10.855051",
     "exception": false,
     "start_time": "2020-08-12T00:29:10.807365",
     "status": "completed"
    },
    "tags": []
   },
   "source": [
    "##### Plotting probability contours"
   ]
  },
  {
   "cell_type": "code",
   "execution_count": 28,
   "metadata": {
    "execution": {
     "iopub.execute_input": "2020-08-12T00:29:10.954847Z",
     "iopub.status.busy": "2020-08-12T00:29:10.954104Z",
     "iopub.status.idle": "2020-08-12T00:29:10.967335Z",
     "shell.execute_reply": "2020-08-12T00:29:10.966795Z"
    },
    "papermill": {
     "duration": 0.066372,
     "end_time": "2020-08-12T00:29:10.967488",
     "exception": false,
     "start_time": "2020-08-12T00:29:10.901116",
     "status": "completed"
    },
    "tags": []
   },
   "outputs": [],
   "source": [
    "model_prob = Model(layers[-2:]) ## picking only last two layers to get probability. That is affine followed by sigmoid"
   ]
  },
  {
   "cell_type": "code",
   "execution_count": 29,
   "metadata": {
    "execution": {
     "iopub.execute_input": "2020-08-12T00:29:11.072996Z",
     "iopub.status.busy": "2020-08-12T00:29:11.072367Z",
     "iopub.status.idle": "2020-08-12T00:29:11.087426Z",
     "shell.execute_reply": "2020-08-12T00:29:11.088052Z"
    },
    "papermill": {
     "duration": 0.069589,
     "end_time": "2020-08-12T00:29:11.088247",
     "exception": false,
     "start_time": "2020-08-12T00:29:11.018658",
     "status": "completed"
    },
    "tags": []
   },
   "outputs": [],
   "source": [
    "xgrid = np.linspace(-4, 1, 100) ## Adjust these values based on above chart, roughly -4 to 1\n",
    "ygrid = np.linspace(-7.5, 7.5, 100) ## Adjust these values based on above chart, roughly -7.5, 7.5\n",
    "xg, yg = np.meshgrid(xgrid, ygrid)\n",
    "# xg and yg are now both 100X100, lets convert them to single arrays \n",
    "\n",
    "xg_interim = np.ravel(xg)\n",
    "yg_interim = np.ravel(yg)\n",
    "\n",
    "## xg_interim, yg_interim are now arrays of len 10000, now we will stack them and then transpose to get desired shape of n rows, 2 columns\n",
    "\n",
    "X_interim = np.vstack((xg_interim, yg_interim)) ## Please note vstack takes in a tuple\n",
    "X = X_interim.T\n",
    "\n",
    "## We want a shape of n rows and 2 columns to be able to feed this to last affine\n",
    "## This last affine takes only two columns, hence the above transformation\n",
    "probability_contour = model_prob(X).reshape(100,100) ## to make it consistent with xg, yg"
   ]
  },
  {
   "cell_type": "code",
   "execution_count": 30,
   "metadata": {
    "execution": {
     "iopub.execute_input": "2020-08-12T00:29:11.198482Z",
     "iopub.status.busy": "2020-08-12T00:29:11.197882Z",
     "iopub.status.idle": "2020-08-12T00:29:11.487483Z",
     "shell.execute_reply": "2020-08-12T00:29:11.488047Z"
    },
    "papermill": {
     "duration": 0.346426,
     "end_time": "2020-08-12T00:29:11.488202",
     "exception": false,
     "start_time": "2020-08-12T00:29:11.141776",
     "status": "completed"
    },
    "tags": []
   },
   "outputs": [
    {
     "data": {
      "image/png": "[encoded data removed]",
      "text/plain": [
       "<Figure size 576x504 with 1 Axes>"
      ]
     },
     "metadata": {
      "needs_background": "light"
     },
     "output_type": "display_data"
    }
   ],
   "source": [
    "plt.figure(figsize=(8,7))\n",
    "plt.scatter(plot_testing[:,0], plot_testing[:,1], alpha = 0.1, c = y_test.ravel())\n",
    "contours = plt.contour(xg,yg,probability_contour)\n",
    "plt.clabel(contours, inline = True );"
   ]
  }
 ],
 "metadata": {
  "kernelspec": {
   "display_name": "Python 3",
   "language": "python",
   "name": "python3"
  },
  "language_info": {
   "codemirror_mode": {
    "name": "ipython",
    "version": 3
   },
   "file_extension": ".py",
   "mimetype": "text/x-python",
   "name": "python",
   "nbconvert_exporter": "python",
   "pygments_lexer": "ipython3",
   "version": "3.6.11"
  },
  "papermill": {
   "duration": 162.051139,
   "end_time": "2020-08-12T00:29:11.947018",
   "environment_variables": {},
   "exception": null,
   "input_path": "2020-08-07-NN-new.ipynb",
   "output_path": "2020-08-07-NN-new.ipynb",
   "parameters": {},
   "start_time": "2020-08-12T00:26:29.895879",
   "version": "2.1.2"
  }
 },
 "nbformat": 4,
 "nbformat_minor": 4
}