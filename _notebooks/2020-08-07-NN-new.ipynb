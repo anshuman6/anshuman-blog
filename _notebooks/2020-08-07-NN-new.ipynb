{
 "cells": [
  {
   "cell_type": "markdown",
   "metadata": {
    "papermill": {
     "duration": 0.032868,
     "end_time": "2020-08-11T10:11:43.787646",
     "exception": false,
     "start_time": "2020-08-11T10:11:43.754778",
     "status": "completed"
    },
    "tags": []
   },
   "source": [
    "# \"Building a basic Neural Network from scratch - Kudzu\"\n",
    "\n",
    "- badges: true\n",
    "- author: Anshuman Gupta"
   ]
  },
  {
   "cell_type": "markdown",
   "metadata": {
    "papermill": {
     "duration": 0.02941,
     "end_time": "2020-08-11T10:11:43.847419",
     "exception": false,
     "start_time": "2020-08-11T10:11:43.818009",
     "status": "completed"
    },
    "tags": []
   },
   "source": [
    "#### In this project, the idea is to write a classifier to differentiate between handwritten digits 3 and 8, from the MNIST database.\n",
    "\n",
    "#### I will using a custom built neural network library called Kudzu.This has been developed as a part of KTF/Foundations course of Univ.ai (www.univ.ai). The source code for Kudzu Library and and this notebook can be found on my git-hub profile : www.https://github.com/anshuman6 under the folder project-solution. Any feedback and comments are welcome. Please feel free to email me at: anshuman6@gmail.com\n",
    "\n",
    "#### 1. I will be using the MNIST database. \n",
    "\n",
    "#### 2. I will be comparing the results of the 4 layer NN to a standard logistic regression"
   ]
  },
  {
   "cell_type": "markdown",
   "metadata": {
    "papermill": {
     "duration": 0.028598,
     "end_time": "2020-08-11T10:11:43.904468",
     "exception": false,
     "start_time": "2020-08-11T10:11:43.875870",
     "status": "completed"
    },
    "tags": []
   },
   "source": [
    "##### Importing all the necessary libraries"
   ]
  },
  {
   "cell_type": "code",
   "execution_count": 1,
   "metadata": {
    "execution": {
     "iopub.execute_input": "2020-08-11T10:11:43.971768Z",
     "iopub.status.busy": "2020-08-11T10:11:43.971113Z",
     "iopub.status.idle": "2020-08-11T10:11:43.983146Z",
     "shell.execute_reply": "2020-08-11T10:11:43.982636Z"
    },
    "papermill": {
     "duration": 0.046457,
     "end_time": "2020-08-11T10:11:43.983279",
     "exception": false,
     "start_time": "2020-08-11T10:11:43.936822",
     "status": "completed"
    },
    "tags": []
   },
   "outputs": [],
   "source": [
    "%load_ext autoreload\n",
    "%autoreload 2"
   ]
  },
  {
   "cell_type": "code",
   "execution_count": 2,
   "metadata": {
    "execution": {
     "iopub.execute_input": "2020-08-11T10:11:44.051215Z",
     "iopub.status.busy": "2020-08-11T10:11:44.050581Z",
     "iopub.status.idle": "2020-08-11T10:11:44.637899Z",
     "shell.execute_reply": "2020-08-11T10:11:44.637340Z"
    },
    "papermill": {
     "duration": 0.625279,
     "end_time": "2020-08-11T10:11:44.638039",
     "exception": false,
     "start_time": "2020-08-11T10:11:44.012760",
     "status": "completed"
    },
    "tags": []
   },
   "outputs": [],
   "source": [
    "%matplotlib inline\n",
    "import numpy as np\n",
    "import matplotlib.pyplot as plt\n",
    "import pandas as pd"
   ]
  },
  {
   "cell_type": "markdown",
   "metadata": {
    "papermill": {
     "duration": 0.030132,
     "end_time": "2020-08-11T10:11:44.697935",
     "exception": false,
     "start_time": "2020-08-11T10:11:44.667803",
     "status": "completed"
    },
    "tags": []
   },
   "source": [
    "##### The following command helps us download MNIST from notebook itself. You can skip this if you already have MNIST. You can also download it via your terminal."
   ]
  },
  {
   "cell_type": "code",
   "execution_count": 3,
   "metadata": {
    "execution": {
     "iopub.execute_input": "2020-08-11T10:11:44.761731Z",
     "iopub.status.busy": "2020-08-11T10:11:44.761086Z",
     "iopub.status.idle": "2020-08-11T10:11:46.295048Z",
     "shell.execute_reply": "2020-08-11T10:11:46.295609Z"
    },
    "papermill": {
     "duration": 1.567936,
     "end_time": "2020-08-11T10:11:46.295795",
     "exception": false,
     "start_time": "2020-08-11T10:11:44.727859",
     "status": "completed"
    },
    "tags": []
   },
   "outputs": [
    {
     "name": "stdout",
     "output_type": "stream",
     "text": [
      "Collecting mnist\r\n"
     ]
    },
    {
     "name": "stdout",
     "output_type": "stream",
     "text": [
      "  Downloading mnist-0.2.2-py2.py3-none-any.whl (3.5 kB)\r\n",
      "Requirement already satisfied: numpy in /opt/hostedtoolcache/Python/3.6.11/x64/lib/python3.6/site-packages (from mnist) (1.19.1)\r\n"
     ]
    },
    {
     "name": "stdout",
     "output_type": "stream",
     "text": [
      "Installing collected packages: mnist\r\n"
     ]
    },
    {
     "name": "stdout",
     "output_type": "stream",
     "text": [
      "Successfully installed mnist-0.2.2\r\n"
     ]
    },
    {
     "name": "stdout",
     "output_type": "stream",
     "text": [
      "\u001b[33mWARNING: You are using pip version 20.2; however, version 20.2.1 is available.\r\n",
      "You should consider upgrading via the '/opt/hostedtoolcache/Python/3.6.11/x64/bin/python -m pip install --upgrade pip' command.\u001b[0m\r\n"
     ]
    }
   ],
   "source": [
    "!pip install mnist # Please note, it is commented out for now, you can remove comment if you want to install it"
   ]
  },
  {
   "cell_type": "markdown",
   "metadata": {
    "papermill": {
     "duration": 0.034149,
     "end_time": "2020-08-11T10:11:46.362867",
     "exception": false,
     "start_time": "2020-08-11T10:11:46.328718",
     "status": "completed"
    },
    "tags": []
   },
   "source": [
    "#### Preparing the Data"
   ]
  },
  {
   "cell_type": "code",
   "execution_count": 4,
   "metadata": {
    "execution": {
     "iopub.execute_input": "2020-08-11T10:11:46.446816Z",
     "iopub.status.busy": "2020-08-11T10:11:46.437050Z",
     "iopub.status.idle": "2020-08-11T10:11:46.453506Z",
     "shell.execute_reply": "2020-08-11T10:11:46.454177Z"
    },
    "papermill": {
     "duration": 0.057656,
     "end_time": "2020-08-11T10:11:46.454347",
     "exception": false,
     "start_time": "2020-08-11T10:11:46.396691",
     "status": "completed"
    },
    "tags": []
   },
   "outputs": [],
   "source": [
    "import mnist"
   ]
  },
  {
   "cell_type": "code",
   "execution_count": 5,
   "metadata": {
    "execution": {
     "iopub.execute_input": "2020-08-11T10:11:46.522084Z",
     "iopub.status.busy": "2020-08-11T10:11:46.521169Z",
     "iopub.status.idle": "2020-08-11T10:11:47.231197Z",
     "shell.execute_reply": "2020-08-11T10:11:47.230574Z"
    },
    "papermill": {
     "duration": 0.744183,
     "end_time": "2020-08-11T10:11:47.231350",
     "exception": false,
     "start_time": "2020-08-11T10:11:46.487167",
     "status": "completed"
    },
    "tags": []
   },
   "outputs": [],
   "source": [
    "train_images = mnist.train_images()\n",
    "train_labels = mnist.train_labels()"
   ]
  },
  {
   "cell_type": "code",
   "execution_count": 6,
   "metadata": {
    "execution": {
     "iopub.execute_input": "2020-08-11T10:11:47.302292Z",
     "iopub.status.busy": "2020-08-11T10:11:47.301597Z",
     "iopub.status.idle": "2020-08-11T10:11:47.315562Z",
     "shell.execute_reply": "2020-08-11T10:11:47.316219Z"
    },
    "papermill": {
     "duration": 0.052956,
     "end_time": "2020-08-11T10:11:47.316362",
     "exception": false,
     "start_time": "2020-08-11T10:11:47.263406",
     "status": "completed"
    },
    "tags": []
   },
   "outputs": [
    {
     "data": {
      "text/plain": [
       "((60000, 28, 28), (60000,))"
      ]
     },
     "execution_count": 6,
     "metadata": {},
     "output_type": "execute_result"
    }
   ],
   "source": [
    "train_images.shape, train_labels.shape"
   ]
  },
  {
   "cell_type": "code",
   "execution_count": 7,
   "metadata": {
    "execution": {
     "iopub.execute_input": "2020-08-11T10:11:47.386444Z",
     "iopub.status.busy": "2020-08-11T10:11:47.385746Z",
     "iopub.status.idle": "2020-08-11T10:11:47.636671Z",
     "shell.execute_reply": "2020-08-11T10:11:47.635985Z"
    },
    "papermill": {
     "duration": 0.287312,
     "end_time": "2020-08-11T10:11:47.636833",
     "exception": false,
     "start_time": "2020-08-11T10:11:47.349521",
     "status": "completed"
    },
    "tags": []
   },
   "outputs": [],
   "source": [
    "test_images = mnist.test_images()\n",
    "test_labels = mnist.test_labels()"
   ]
  },
  {
   "cell_type": "code",
   "execution_count": 8,
   "metadata": {
    "execution": {
     "iopub.execute_input": "2020-08-11T10:11:47.702299Z",
     "iopub.status.busy": "2020-08-11T10:11:47.701687Z",
     "iopub.status.idle": "2020-08-11T10:11:47.715639Z",
     "shell.execute_reply": "2020-08-11T10:11:47.715155Z"
    },
    "papermill": {
     "duration": 0.047849,
     "end_time": "2020-08-11T10:11:47.715752",
     "exception": false,
     "start_time": "2020-08-11T10:11:47.667903",
     "status": "completed"
    },
    "tags": []
   },
   "outputs": [
    {
     "data": {
      "text/plain": [
       "((10000, 28, 28), (10000,))"
      ]
     },
     "execution_count": 8,
     "metadata": {},
     "output_type": "execute_result"
    }
   ],
   "source": [
    "test_images.shape, test_labels.shape"
   ]
  },
  {
   "cell_type": "code",
   "execution_count": 9,
   "metadata": {
    "execution": {
     "iopub.execute_input": "2020-08-11T10:11:47.781996Z",
     "iopub.status.busy": "2020-08-11T10:11:47.781339Z",
     "iopub.status.idle": "2020-08-11T10:11:47.958671Z",
     "shell.execute_reply": "2020-08-11T10:11:47.959176Z"
    },
    "papermill": {
     "duration": 0.213858,
     "end_time": "2020-08-11T10:11:47.959459",
     "exception": false,
     "start_time": "2020-08-11T10:11:47.745601",
     "status": "completed"
    },
    "tags": []
   },
   "outputs": [
    {
     "name": "stdout",
     "output_type": "stream",
     "text": [
      "2\n"
     ]
    },
    {
     "data": {
      "text/plain": [
       "<matplotlib.image.AxesImage at 0x7f873e2c0320>"
      ]
     },
     "execution_count": 9,
     "metadata": {},
     "output_type": "execute_result"
    },
    {
     "data": {
      "image/png": "[encoded data removed]",
      "text/plain": [
       "<Figure size 432x288 with 1 Axes>"
      ]
     },
     "metadata": {
      "needs_background": "light"
     },
     "output_type": "display_data"
    }
   ],
   "source": [
    "image_index = 7776 # You may select anything up to 60,000\n",
    "print(train_labels[image_index]) \n",
    "plt.imshow(train_images[image_index], cmap='Greys')"
   ]
  },
  {
   "cell_type": "markdown",
   "metadata": {
    "papermill": {
     "duration": 0.033352,
     "end_time": "2020-08-11T10:11:48.026559",
     "exception": false,
     "start_time": "2020-08-11T10:11:47.993207",
     "status": "completed"
    },
    "tags": []
   },
   "source": [
    "## Filter data to get 3 and 8 out"
   ]
  },
  {
   "cell_type": "code",
   "execution_count": 10,
   "metadata": {
    "execution": {
     "iopub.execute_input": "2020-08-11T10:11:48.101655Z",
     "iopub.status.busy": "2020-08-11T10:11:48.100979Z",
     "iopub.status.idle": "2020-08-11T10:11:48.119473Z",
     "shell.execute_reply": "2020-08-11T10:11:48.118902Z"
    },
    "papermill": {
     "duration": 0.05858,
     "end_time": "2020-08-11T10:11:48.119617",
     "exception": false,
     "start_time": "2020-08-11T10:11:48.061037",
     "status": "completed"
    },
    "tags": []
   },
   "outputs": [],
   "source": [
    "train_filter = np.where((train_labels == 3 ) | (train_labels == 8))\n",
    "test_filter = np.where((test_labels == 3) | (test_labels == 8))\n",
    "X_train, y_train = train_images[train_filter], train_labels[train_filter]\n",
    "X_test, y_test = test_images[test_filter], test_labels[test_filter]"
   ]
  },
  {
   "cell_type": "markdown",
   "metadata": {
    "papermill": {
     "duration": 0.036623,
     "end_time": "2020-08-11T10:11:48.191013",
     "exception": false,
     "start_time": "2020-08-11T10:11:48.154390",
     "status": "completed"
    },
    "tags": []
   },
   "source": [
    "##### We normalize the pizel values in the 0 to 1 range"
   ]
  },
  {
   "cell_type": "code",
   "execution_count": 11,
   "metadata": {
    "execution": {
     "iopub.execute_input": "2020-08-11T10:11:48.263450Z",
     "iopub.status.busy": "2020-08-11T10:11:48.262122Z",
     "iopub.status.idle": "2020-08-11T10:11:48.319937Z",
     "shell.execute_reply": "2020-08-11T10:11:48.319382Z"
    },
    "papermill": {
     "duration": 0.09649,
     "end_time": "2020-08-11T10:11:48.320097",
     "exception": false,
     "start_time": "2020-08-11T10:11:48.223607",
     "status": "completed"
    },
    "tags": []
   },
   "outputs": [],
   "source": [
    "X_train = X_train/255.\n",
    "X_test = X_test/255."
   ]
  },
  {
   "cell_type": "markdown",
   "metadata": {
    "papermill": {
     "duration": 0.032639,
     "end_time": "2020-08-11T10:11:48.385062",
     "exception": false,
     "start_time": "2020-08-11T10:11:48.352423",
     "status": "completed"
    },
    "tags": []
   },
   "source": [
    "And setup the labels as 1 (when the digit is 3) and 0 (when the digit is 8)"
   ]
  },
  {
   "cell_type": "code",
   "execution_count": 12,
   "metadata": {
    "execution": {
     "iopub.execute_input": "2020-08-11T10:11:48.452244Z",
     "iopub.status.busy": "2020-08-11T10:11:48.451585Z",
     "iopub.status.idle": "2020-08-11T10:11:48.465428Z",
     "shell.execute_reply": "2020-08-11T10:11:48.464906Z"
    },
    "papermill": {
     "duration": 0.049539,
     "end_time": "2020-08-11T10:11:48.465546",
     "exception": false,
     "start_time": "2020-08-11T10:11:48.416007",
     "status": "completed"
    },
    "tags": []
   },
   "outputs": [],
   "source": [
    "y_train = 1*(y_train==3)\n",
    "y_test = 1*(y_test==3)"
   ]
  },
  {
   "cell_type": "code",
   "execution_count": 13,
   "metadata": {
    "execution": {
     "iopub.execute_input": "2020-08-11T10:11:48.537184Z",
     "iopub.status.busy": "2020-08-11T10:11:48.536522Z",
     "iopub.status.idle": "2020-08-11T10:11:48.549766Z",
     "shell.execute_reply": "2020-08-11T10:11:48.550349Z"
    },
    "papermill": {
     "duration": 0.050144,
     "end_time": "2020-08-11T10:11:48.550475",
     "exception": false,
     "start_time": "2020-08-11T10:11:48.500331",
     "status": "completed"
    },
    "tags": []
   },
   "outputs": [
    {
     "data": {
      "text/plain": [
       "((11982, 28, 28), (1984, 28, 28))"
      ]
     },
     "execution_count": 13,
     "metadata": {},
     "output_type": "execute_result"
    }
   ],
   "source": [
    "X_train.shape, X_test.shape"
   ]
  },
  {
   "cell_type": "markdown",
   "metadata": {
    "papermill": {
     "duration": 0.031465,
     "end_time": "2020-08-11T10:11:48.614460",
     "exception": false,
     "start_time": "2020-08-11T10:11:48.582995",
     "status": "completed"
    },
    "tags": []
   },
   "source": [
    "##### We reshape the data to flatten the image pixels into a set of features or co-variates:"
   ]
  },
  {
   "cell_type": "code",
   "execution_count": 14,
   "metadata": {
    "execution": {
     "iopub.execute_input": "2020-08-11T10:11:48.687152Z",
     "iopub.status.busy": "2020-08-11T10:11:48.686445Z",
     "iopub.status.idle": "2020-08-11T10:11:48.701110Z",
     "shell.execute_reply": "2020-08-11T10:11:48.701627Z"
    },
    "papermill": {
     "duration": 0.053675,
     "end_time": "2020-08-11T10:11:48.701764",
     "exception": false,
     "start_time": "2020-08-11T10:11:48.648089",
     "status": "completed"
    },
    "tags": []
   },
   "outputs": [
    {
     "data": {
      "text/plain": [
       "((11982, 784), (1984, 784))"
      ]
     },
     "execution_count": 14,
     "metadata": {},
     "output_type": "execute_result"
    }
   ],
   "source": [
    "X_train = X_train.reshape(X_train.shape[0], -1)\n",
    "X_test = X_test.reshape(X_test.shape[0], -1)\n",
    "X_train.shape, X_test.shape"
   ]
  },
  {
   "cell_type": "markdown",
   "metadata": {
    "papermill": {
     "duration": 0.032944,
     "end_time": "2020-08-11T10:11:48.767178",
     "exception": false,
     "start_time": "2020-08-11T10:11:48.734234",
     "status": "completed"
    },
    "tags": []
   },
   "source": [
    "##### Importing Kudzu library and its functionality"
   ]
  },
  {
   "cell_type": "code",
   "execution_count": 15,
   "metadata": {
    "execution": {
     "iopub.execute_input": "2020-08-11T10:11:48.839282Z",
     "iopub.status.busy": "2020-08-11T10:11:48.838596Z",
     "iopub.status.idle": "2020-08-11T10:11:48.858980Z",
     "shell.execute_reply": "2020-08-11T10:11:48.858417Z"
    },
    "papermill": {
     "duration": 0.058782,
     "end_time": "2020-08-11T10:11:48.859116",
     "exception": false,
     "start_time": "2020-08-11T10:11:48.800334",
     "status": "completed"
    },
    "tags": []
   },
   "outputs": [],
   "source": [
    "from kudzu.data import Data, Dataloader, Sampler\n",
    "from kudzu.callbacks import AccCallback\n",
    "from kudzu.loss import MSE\n",
    "from kudzu.layer import Affine, Sigmoid\n",
    "from kudzu.model import Model\n",
    "from kudzu.optim import GD\n",
    "from kudzu.train import Learner\n",
    "from kudzu.callbacks import ClfCallback\n",
    "from kudzu.layer import Sigmoid\n",
    "from kudzu.layer import Relu"
   ]
  },
  {
   "cell_type": "markdown",
   "metadata": {
    "papermill": {
     "duration": 0.033628,
     "end_time": "2020-08-11T10:11:48.925631",
     "exception": false,
     "start_time": "2020-08-11T10:11:48.892003",
     "status": "completed"
    },
    "tags": []
   },
   "source": [
    "##### We are creating a class, just so that we can use it to store our parameters for us"
   ]
  },
  {
   "cell_type": "code",
   "execution_count": 16,
   "metadata": {
    "execution": {
     "iopub.execute_input": "2020-08-11T10:11:49.000057Z",
     "iopub.status.busy": "2020-08-11T10:11:48.999340Z",
     "iopub.status.idle": "2020-08-11T10:11:49.013021Z",
     "shell.execute_reply": "2020-08-11T10:11:49.013715Z"
    },
    "papermill": {
     "duration": 0.053731,
     "end_time": "2020-08-11T10:11:49.013872",
     "exception": false,
     "start_time": "2020-08-11T10:11:48.960141",
     "status": "completed"
    },
    "tags": []
   },
   "outputs": [],
   "source": [
    "class Config:\n",
    "    pass\n",
    "config = Config()\n",
    "config.lr = 0.001\n",
    "config.num_epochs = 250\n",
    "config.bs = 50"
   ]
  },
  {
   "cell_type": "markdown",
   "metadata": {
    "papermill": {
     "duration": 0.034027,
     "end_time": "2020-08-11T10:11:49.082714",
     "exception": false,
     "start_time": "2020-08-11T10:11:49.048687",
     "status": "completed"
    },
    "tags": []
   },
   "source": [
    "##### Initializing Data"
   ]
  },
  {
   "cell_type": "code",
   "execution_count": 17,
   "metadata": {
    "execution": {
     "iopub.execute_input": "2020-08-11T10:11:49.154452Z",
     "iopub.status.busy": "2020-08-11T10:11:49.153762Z",
     "iopub.status.idle": "2020-08-11T10:11:49.166579Z",
     "shell.execute_reply": "2020-08-11T10:11:49.167271Z"
    },
    "papermill": {
     "duration": 0.051199,
     "end_time": "2020-08-11T10:11:49.167431",
     "exception": false,
     "start_time": "2020-08-11T10:11:49.116232",
     "status": "completed"
    },
    "tags": []
   },
   "outputs": [],
   "source": [
    "data = Data(X_train, y_train.reshape(-1,1))\n",
    "loss = MSE()\n",
    "opt = GD(config.lr)\n",
    "sampler = Sampler(data, config.bs, shuffle=True)\n",
    "dl = Dataloader(data, sampler)"
   ]
  },
  {
   "cell_type": "markdown",
   "metadata": {
    "papermill": {
     "duration": 0.035457,
     "end_time": "2020-08-11T10:11:49.242567",
     "exception": false,
     "start_time": "2020-08-11T10:11:49.207110",
     "status": "completed"
    },
    "tags": []
   },
   "source": [
    "##### Constructing 2 different layers, one for NN and one only for logistic regression."
   ]
  },
  {
   "cell_type": "markdown",
   "metadata": {
    "papermill": {
     "duration": 0.031867,
     "end_time": "2020-08-11T10:11:49.307774",
     "exception": false,
     "start_time": "2020-08-11T10:11:49.275907",
     "status": "completed"
    },
    "tags": []
   },
   "source": [
    "##### Creating containers for data to be passed, to calculate accuracies"
   ]
  },
  {
   "cell_type": "code",
   "execution_count": 18,
   "metadata": {
    "execution": {
     "iopub.execute_input": "2020-08-11T10:11:49.379329Z",
     "iopub.status.busy": "2020-08-11T10:11:49.378654Z",
     "iopub.status.idle": "2020-08-11T10:11:49.390466Z",
     "shell.execute_reply": "2020-08-11T10:11:49.391036Z"
    },
    "papermill": {
     "duration": 0.050779,
     "end_time": "2020-08-11T10:11:49.391193",
     "exception": false,
     "start_time": "2020-08-11T10:11:49.340414",
     "status": "completed"
    },
    "tags": []
   },
   "outputs": [],
   "source": [
    "training_xdata = X_train\n",
    "testing_xdata = X_test\n",
    "training_ydata = y_train.reshape(-1,1)\n",
    "testing_ydata = y_test.reshape(-1,1)"
   ]
  },
  {
   "cell_type": "markdown",
   "metadata": {
    "papermill": {
     "duration": 0.032595,
     "end_time": "2020-08-11T10:11:49.456659",
     "exception": false,
     "start_time": "2020-08-11T10:11:49.424064",
     "status": "completed"
    },
    "tags": []
   },
   "source": [
    "##### Initializing models and Running training loop: "
   ]
  },
  {
   "cell_type": "code",
   "execution_count": 19,
   "metadata": {
    "execution": {
     "iopub.execute_input": "2020-08-11T10:11:49.531527Z",
     "iopub.status.busy": "2020-08-11T10:11:49.530754Z",
     "iopub.status.idle": "2020-08-11T10:11:49.547560Z",
     "shell.execute_reply": "2020-08-11T10:11:49.546951Z"
    },
    "papermill": {
     "duration": 0.058794,
     "end_time": "2020-08-11T10:11:49.547693",
     "exception": false,
     "start_time": "2020-08-11T10:11:49.488899",
     "status": "completed"
    },
    "tags": []
   },
   "outputs": [],
   "source": [
    "layers = [Affine(\"first\", 784, 100), Relu(\"first\"), Affine(\"second\", 100, 100), Relu(\"second\"), Affine(\"third\", 100, 2), Affine(\"final\", 2, 1), Sigmoid(\"final\")]\n",
    "\n",
    "model_neural = Model(layers)\n",
    "model_logistic = Model([Affine(\"logits\", 784, 1), Sigmoid(\"sigmoid\")])"
   ]
  },
  {
   "cell_type": "code",
   "execution_count": 20,
   "metadata": {
    "execution": {
     "iopub.execute_input": "2020-08-11T10:11:49.618261Z",
     "iopub.status.busy": "2020-08-11T10:11:49.617632Z",
     "iopub.status.idle": "2020-08-11T10:11:49.629464Z",
     "shell.execute_reply": "2020-08-11T10:11:49.630096Z"
    },
    "papermill": {
     "duration": 0.049236,
     "end_time": "2020-08-11T10:11:49.630227",
     "exception": false,
     "start_time": "2020-08-11T10:11:49.580991",
     "status": "completed"
    },
    "tags": []
   },
   "outputs": [],
   "source": [
    "learner1 = Learner(loss, model_neural, opt, config.num_epochs)\n",
    "acc1 = ClfCallback(learner1, config.bs, training_xdata , testing_xdata, training_ydata, testing_ydata)\n",
    "learner1.set_callbacks([acc1])"
   ]
  },
  {
   "cell_type": "code",
   "execution_count": 21,
   "metadata": {
    "execution": {
     "iopub.execute_input": "2020-08-11T10:11:49.702197Z",
     "iopub.status.busy": "2020-08-11T10:11:49.701538Z",
     "iopub.status.idle": "2020-08-11T10:13:51.452975Z",
     "shell.execute_reply": "2020-08-11T10:13:51.453589Z"
    },
    "papermill": {
     "duration": 121.790464,
     "end_time": "2020-08-11T10:13:51.453757",
     "exception": false,
     "start_time": "2020-08-11T10:11:49.663293",
     "status": "completed"
    },
    "tags": []
   },
   "outputs": [
    {
     "name": "stdout",
     "output_type": "stream",
     "text": [
      "Epoch 0 Loss 0.26027284802317063\n",
      "train accuracy is: 0.6412118177265899, test accuracy is 0.6441532258064516\n"
     ]
    },
    {
     "name": "stdout",
     "output_type": "stream",
     "text": [
      "Epoch 10 Loss 0.06649633302835257\n",
      "train accuracy is: 0.9367384409948256, test accuracy is 0.9465725806451613\n"
     ]
    },
    {
     "name": "stdout",
     "output_type": "stream",
     "text": [
      "Epoch 20 Loss 0.04582147185007312\n",
      "train accuracy is: 0.9520113503588716, test accuracy is 0.9566532258064516\n"
     ]
    },
    {
     "name": "stdout",
     "output_type": "stream",
     "text": [
      "Epoch 30 Loss 0.038316648495227514\n",
      "train accuracy is: 0.9578534468369221, test accuracy is 0.9627016129032258\n"
     ]
    },
    {
     "name": "stdout",
     "output_type": "stream",
     "text": [
      "Epoch 40 Loss 0.03422127622270463\n",
      "train accuracy is: 0.9614421632448673, test accuracy is 0.9667338709677419\n"
     ]
    },
    {
     "name": "stdout",
     "output_type": "stream",
     "text": [
      "Epoch 50 Loss 0.03155234113833093\n",
      "train accuracy is: 0.9636955433149724, test accuracy is 0.969758064516129\n"
     ]
    },
    {
     "name": "stdout",
     "output_type": "stream",
     "text": [
      "Epoch 60 Loss 0.02958733975273089\n",
      "train accuracy is: 0.9664496745117677, test accuracy is 0.9692540322580645\n"
     ]
    },
    {
     "name": "stdout",
     "output_type": "stream",
     "text": [
      "Epoch 70 Loss 0.028027862844383147\n",
      "train accuracy is: 0.9684526790185278, test accuracy is 0.9702620967741935\n"
     ]
    },
    {
     "name": "stdout",
     "output_type": "stream",
     "text": [
      "Epoch 80 Loss 0.02673989327657602\n",
      "train accuracy is: 0.9706226005675179, test accuracy is 0.9702620967741935\n"
     ]
    },
    {
     "name": "stdout",
     "output_type": "stream",
     "text": [
      "Epoch 90 Loss 0.025644781949794627\n",
      "train accuracy is: 0.971373727257553, test accuracy is 0.9712701612903226\n"
     ]
    },
    {
     "name": "stdout",
     "output_type": "stream",
     "text": [
      "Epoch 100 Loss 0.02468640204093869\n",
      "train accuracy is: 0.9727090635953931, test accuracy is 0.9717741935483871\n"
     ]
    },
    {
     "name": "stdout",
     "output_type": "stream",
     "text": [
      "Epoch 110 Loss 0.023838614896148497\n",
      "train accuracy is: 0.9735436488065431, test accuracy is 0.9717741935483871\n"
     ]
    },
    {
     "name": "stdout",
     "output_type": "stream",
     "text": [
      "Epoch 120 Loss 0.02306723929591684\n",
      "train accuracy is: 0.9745451510599232, test accuracy is 0.9722782258064516\n"
     ]
    },
    {
     "name": "stdout",
     "output_type": "stream",
     "text": [
      "Epoch 130 Loss 0.02237811574847074\n",
      "train accuracy is: 0.9757135703555333, test accuracy is 0.9732862903225806\n"
     ]
    },
    {
     "name": "stdout",
     "output_type": "stream",
     "text": [
      "Epoch 140 Loss 0.021747861474782224\n",
      "train accuracy is: 0.9762977800033383, test accuracy is 0.9732862903225806\n"
     ]
    },
    {
     "name": "stdout",
     "output_type": "stream",
     "text": [
      "Epoch 150 Loss 0.02115887589334526\n",
      "train accuracy is: 0.9768819896511434, test accuracy is 0.9732862903225806\n"
     ]
    },
    {
     "name": "stdout",
     "output_type": "stream",
     "text": [
      "Epoch 160 Loss 0.020601736090051927\n",
      "train accuracy is: 0.9776331163411784, test accuracy is 0.9732862903225806\n"
     ]
    },
    {
     "name": "stdout",
     "output_type": "stream",
     "text": [
      "Epoch 170 Loss 0.020078457560694138\n",
      "train accuracy is: 0.9783842430312135, test accuracy is 0.9737903225806451\n"
     ]
    },
    {
     "name": "stdout",
     "output_type": "stream",
     "text": [
      "Epoch 180 Loss 0.01957704780085592\n",
      "train accuracy is: 0.9788849941579035, test accuracy is 0.9737903225806451\n"
     ]
    },
    {
     "name": "stdout",
     "output_type": "stream",
     "text": [
      "Epoch 190 Loss 0.019092229858731463\n",
      "train accuracy is: 0.9797195793690536, test accuracy is 0.9737903225806451\n"
     ]
    },
    {
     "name": "stdout",
     "output_type": "stream",
     "text": [
      "Epoch 200 Loss 0.01863617730384533\n",
      "train accuracy is: 0.9798864964112836, test accuracy is 0.9747983870967742\n"
     ]
    },
    {
     "name": "stdout",
     "output_type": "stream",
     "text": [
      "Epoch 210 Loss 0.01821172536764065\n",
      "train accuracy is: 0.9805541645802036, test accuracy is 0.9753024193548387\n"
     ]
    },
    {
     "name": "stdout",
     "output_type": "stream",
     "text": [
      "Epoch 220 Loss 0.017798243575415748\n",
      "train accuracy is: 0.9808879986646637, test accuracy is 0.9753024193548387\n"
     ]
    },
    {
     "name": "stdout",
     "output_type": "stream",
     "text": [
      "Epoch 230 Loss 0.017415827819840836\n",
      "train accuracy is: 0.9813052912702387, test accuracy is 0.9753024193548387\n"
     ]
    },
    {
     "name": "stdout",
     "output_type": "stream",
     "text": [
      "Epoch 240 Loss 0.01703407951727794\n",
      "train accuracy is: 0.9821398764813888, test accuracy is 0.9753024193548387\n"
     ]
    },
    {
     "data": {
      "text/plain": [
       "0.001262805141024669"
      ]
     },
     "execution_count": 21,
     "metadata": {},
     "output_type": "execute_result"
    }
   ],
   "source": [
    "learner1.train_loop(dl)"
   ]
  },
  {
   "cell_type": "markdown",
   "metadata": {
    "papermill": {
     "duration": 0.040744,
     "end_time": "2020-08-11T10:13:51.536971",
     "exception": false,
     "start_time": "2020-08-11T10:13:51.496227",
     "status": "completed"
    },
    "tags": []
   },
   "source": [
    "##### Now running only the logistic regression based classification to compare results with NN"
   ]
  },
  {
   "cell_type": "code",
   "execution_count": 22,
   "metadata": {
    "execution": {
     "iopub.execute_input": "2020-08-11T10:13:51.627255Z",
     "iopub.status.busy": "2020-08-11T10:13:51.626593Z",
     "iopub.status.idle": "2020-08-11T10:13:51.637537Z",
     "shell.execute_reply": "2020-08-11T10:13:51.638120Z"
    },
    "papermill": {
     "duration": 0.058107,
     "end_time": "2020-08-11T10:13:51.638253",
     "exception": false,
     "start_time": "2020-08-11T10:13:51.580146",
     "status": "completed"
    },
    "tags": []
   },
   "outputs": [],
   "source": [
    "learner2 = Learner(loss, model_logistic, opt, config.num_epochs)\n",
    "acc2 = ClfCallback(learner2, config.bs, training_xdata , testing_xdata, training_ydata, testing_ydata)\n",
    "learner2.set_callbacks([acc2])"
   ]
  },
  {
   "cell_type": "code",
   "execution_count": 23,
   "metadata": {
    "execution": {
     "iopub.execute_input": "2020-08-11T10:13:51.733496Z",
     "iopub.status.busy": "2020-08-11T10:13:51.729054Z",
     "iopub.status.idle": "2020-08-11T10:14:09.582124Z",
     "shell.execute_reply": "2020-08-11T10:14:09.583029Z"
    },
    "papermill": {
     "duration": 17.90314,
     "end_time": "2020-08-11T10:14:09.583233",
     "exception": false,
     "start_time": "2020-08-11T10:13:51.680093",
     "status": "completed"
    },
    "tags": []
   },
   "outputs": [
    {
     "name": "stdout",
     "output_type": "stream",
     "text": [
      "Epoch 0 Loss 0.261517208674117\n",
      "train accuracy is: 0.6169253880821232, test accuracy is 0.6280241935483871\n"
     ]
    },
    {
     "name": "stdout",
     "output_type": "stream",
     "text": [
      "Epoch 10 Loss 0.10335574114025026\n",
      "train accuracy is: 0.914288098814889, test accuracy is 0.9279233870967742\n"
     ]
    },
    {
     "name": "stdout",
     "output_type": "stream",
     "text": [
      "Epoch 20 Loss 0.07851994152911998\n",
      "train accuracy is: 0.9330662660657653, test accuracy is 0.9420362903225806\n"
     ]
    },
    {
     "name": "stdout",
     "output_type": "stream",
     "text": [
      "Epoch 30 Loss 0.06743746561749162\n",
      "train accuracy is: 0.9402436988816558, test accuracy is 0.9490927419354839\n"
     ]
    },
    {
     "name": "stdout",
     "output_type": "stream",
     "text": [
      "Epoch 40 Loss 0.06088149965059718\n",
      "train accuracy is: 0.9444166249374061, test accuracy is 0.953125\n"
     ]
    },
    {
     "name": "stdout",
     "output_type": "stream",
     "text": [
      "Epoch 50 Loss 0.05645337018575142\n",
      "train accuracy is: 0.9461692538808212, test accuracy is 0.954133064516129\n"
     ]
    },
    {
     "name": "stdout",
     "output_type": "stream",
     "text": [
      "Epoch 60 Loss 0.05321365261081568\n",
      "train accuracy is: 0.9485060924720414, test accuracy is 0.9566532258064516\n"
     ]
    },
    {
     "name": "stdout",
     "output_type": "stream",
     "text": [
      "Epoch 70 Loss 0.05071601330847732\n",
      "train accuracy is: 0.9510098481054916, test accuracy is 0.9576612903225806\n"
     ]
    },
    {
     "name": "stdout",
     "output_type": "stream",
     "text": [
      "Epoch 80 Loss 0.04871606164711802\n",
      "train accuracy is: 0.9523451844433317, test accuracy is 0.9596774193548387\n"
     ]
    },
    {
     "name": "stdout",
     "output_type": "stream",
     "text": [
      "Epoch 90 Loss 0.04706884547421234\n",
      "train accuracy is: 0.9544316474712068, test accuracy is 0.9616935483870968\n"
     ]
    },
    {
     "name": "stdout",
     "output_type": "stream",
     "text": [
      "Epoch 100 Loss 0.0456820781233211\n",
      "train accuracy is: 0.9550158571190118, test accuracy is 0.9621975806451613\n"
     ]
    },
    {
     "name": "stdout",
     "output_type": "stream",
     "text": [
      "Epoch 110 Loss 0.044492263869922895\n",
      "train accuracy is: 0.9558504423301619, test accuracy is 0.9627016129032258\n"
     ]
    },
    {
     "name": "stdout",
     "output_type": "stream",
     "text": [
      "Epoch 120 Loss 0.04345805857175068\n",
      "train accuracy is: 0.9563511934568519, test accuracy is 0.9632056451612904\n"
     ]
    },
    {
     "name": "stdout",
     "output_type": "stream",
     "text": [
      "Epoch 130 Loss 0.042547469004064906\n",
      "train accuracy is: 0.957018861625772, test accuracy is 0.9642137096774194\n"
     ]
    },
    {
     "name": "stdout",
     "output_type": "stream",
     "text": [
      "Epoch 140 Loss 0.04173680420923381\n",
      "train accuracy is: 0.957436154231347, test accuracy is 0.9647177419354839\n"
     ]
    },
    {
     "name": "stdout",
     "output_type": "stream",
     "text": [
      "Epoch 150 Loss 0.041009745728600694\n",
      "train accuracy is: 0.9581872809213821, test accuracy is 0.9642137096774194\n"
     ]
    },
    {
     "name": "stdout",
     "output_type": "stream",
     "text": [
      "Epoch 160 Loss 0.04035248435341179\n",
      "train accuracy is: 0.9585211150058421, test accuracy is 0.9642137096774194\n"
     ]
    },
    {
     "name": "stdout",
     "output_type": "stream",
     "text": [
      "Epoch 170 Loss 0.03975435493637627\n",
      "train accuracy is: 0.9591887831747622, test accuracy is 0.9647177419354839\n"
     ]
    },
    {
     "name": "stdout",
     "output_type": "stream",
     "text": [
      "Epoch 180 Loss 0.039206474461068265\n",
      "train accuracy is: 0.9594391587381071, test accuracy is 0.9647177419354839\n"
     ]
    },
    {
     "name": "stdout",
     "output_type": "stream",
     "text": [
      "Epoch 190 Loss 0.03870213033240969\n",
      "train accuracy is: 0.9593557002169921, test accuracy is 0.9652217741935484\n"
     ]
    },
    {
     "name": "stdout",
     "output_type": "stream",
     "text": [
      "Epoch 200 Loss 0.038235446137861076\n",
      "train accuracy is: 0.9596060757803372, test accuracy is 0.9652217741935484\n"
     ]
    },
    {
     "name": "stdout",
     "output_type": "stream",
     "text": [
      "Epoch 210 Loss 0.037802333230822355\n",
      "train accuracy is: 0.9599399098647972, test accuracy is 0.9647177419354839\n"
     ]
    },
    {
     "name": "stdout",
     "output_type": "stream",
     "text": [
      "Epoch 220 Loss 0.03739904011620313\n",
      "train accuracy is: 0.9602737439492572, test accuracy is 0.9642137096774194\n"
     ]
    },
    {
     "name": "stdout",
     "output_type": "stream",
     "text": [
      "Epoch 230 Loss 0.03702199339884965\n",
      "train accuracy is: 0.9602737439492572, test accuracy is 0.9652217741935484\n"
     ]
    },
    {
     "name": "stdout",
     "output_type": "stream",
     "text": [
      "Epoch 240 Loss 0.03666838813480121\n",
      "train accuracy is: 0.9604406609914873, test accuracy is 0.9657258064516129\n"
     ]
    },
    {
     "data": {
      "text/plain": [
       "0.059748972934330055"
      ]
     },
     "execution_count": 23,
     "metadata": {},
     "output_type": "execute_result"
    }
   ],
   "source": [
    "learner2.train_loop(dl)"
   ]
  },
  {
   "cell_type": "markdown",
   "metadata": {
    "papermill": {
     "duration": 0.057631,
     "end_time": "2020-08-11T10:14:09.691238",
     "exception": false,
     "start_time": "2020-08-11T10:14:09.633607",
     "status": "completed"
    },
    "tags": []
   },
   "source": [
    "### Comparing results of NN and LR"
   ]
  },
  {
   "cell_type": "code",
   "execution_count": 24,
   "metadata": {
    "execution": {
     "iopub.execute_input": "2020-08-11T10:14:09.802779Z",
     "iopub.status.busy": "2020-08-11T10:14:09.802069Z",
     "iopub.status.idle": "2020-08-11T10:14:10.061636Z",
     "shell.execute_reply": "2020-08-11T10:14:10.062099Z"
    },
    "papermill": {
     "duration": 0.314936,
     "end_time": "2020-08-11T10:14:10.062293",
     "exception": false,
     "start_time": "2020-08-11T10:14:09.747357",
     "status": "completed"
    },
    "tags": []
   },
   "outputs": [
    {
     "data": {
      "text/plain": [
       "<matplotlib.legend.Legend at 0x7f873de99a90>"
      ]
     },
     "execution_count": 24,
     "metadata": {},
     "output_type": "execute_result"
    },
    {
     "data": {
      "image/png": "[encoded data removed]",
      "text/plain": [
       "<Figure size 576x360 with 1 Axes>"
      ]
     },
     "metadata": {
      "needs_background": "light"
     },
     "output_type": "display_data"
    }
   ],
   "source": [
    "plt.figure(figsize=(8,5))\n",
    "plt.plot(acc1.val_accuracies, 'g-', label = \"Val Accuracies - NN\")\n",
    "plt.plot(acc1.accuracies, 'r-', label = \"Accuracies - NN\")\n",
    "plt.plot(acc2.val_accuracies, 'b-', label = \"Val Accuracies - Logistic Reg\")\n",
    "plt.plot(acc2.accuracies, 'k-', label = \"Accuracies - Logistic Reg\")\n",
    "plt.ylim(0.8,1) ## for a more spread out view\n",
    "plt.legend()"
   ]
  },
  {
   "cell_type": "markdown",
   "metadata": {
    "papermill": {
     "duration": 0.050206,
     "end_time": "2020-08-11T10:14:10.163408",
     "exception": false,
     "start_time": "2020-08-11T10:14:10.113202",
     "status": "completed"
    },
    "tags": []
   },
   "source": [
    "### Clearly NN has a better accuracy over LR; NN is overfitting - Validation accuracy (green) has dropped below training accuracy (orange), also they are diverging. This problem is not seen in LR"
   ]
  },
  {
   "cell_type": "markdown",
   "metadata": {
    "papermill": {
     "duration": 0.049205,
     "end_time": "2020-08-11T10:14:10.264544",
     "exception": false,
     "start_time": "2020-08-11T10:14:10.215339",
     "status": "completed"
    },
    "tags": []
   },
   "source": [
    "##### Now we will be moving through the network, till the output of the second last affine where we get a 2 dimensional output. We will be plotting this 2d output and probability contours"
   ]
  },
  {
   "cell_type": "code",
   "execution_count": 25,
   "metadata": {
    "execution": {
     "iopub.execute_input": "2020-08-11T10:14:10.373053Z",
     "iopub.status.busy": "2020-08-11T10:14:10.372394Z",
     "iopub.status.idle": "2020-08-11T10:14:10.388519Z",
     "shell.execute_reply": "2020-08-11T10:14:10.389171Z"
    },
    "papermill": {
     "duration": 0.073177,
     "end_time": "2020-08-11T10:14:10.389342",
     "exception": false,
     "start_time": "2020-08-11T10:14:10.316165",
     "status": "completed"
    },
    "tags": []
   },
   "outputs": [],
   "source": [
    "model_new = Model(layers[:-2])"
   ]
  },
  {
   "cell_type": "code",
   "execution_count": 26,
   "metadata": {
    "execution": {
     "iopub.execute_input": "2020-08-11T10:14:10.506944Z",
     "iopub.status.busy": "2020-08-11T10:14:10.506255Z",
     "iopub.status.idle": "2020-08-11T10:14:10.531785Z",
     "shell.execute_reply": "2020-08-11T10:14:10.532396Z"
    },
    "papermill": {
     "duration": 0.086832,
     "end_time": "2020-08-11T10:14:10.532552",
     "exception": false,
     "start_time": "2020-08-11T10:14:10.445720",
     "status": "completed"
    },
    "tags": []
   },
   "outputs": [],
   "source": [
    "plot_testing = model_new(testing_xdata)"
   ]
  },
  {
   "cell_type": "markdown",
   "metadata": {
    "papermill": {
     "duration": 0.05236,
     "end_time": "2020-08-11T10:14:10.638662",
     "exception": false,
     "start_time": "2020-08-11T10:14:10.586302",
     "status": "completed"
    },
    "tags": []
   },
   "source": [
    "##### Plotting the scatter plot of points and color coding by class"
   ]
  },
  {
   "cell_type": "code",
   "execution_count": 27,
   "metadata": {
    "execution": {
     "iopub.execute_input": "2020-08-11T10:14:10.770559Z",
     "iopub.status.busy": "2020-08-11T10:14:10.769874Z",
     "iopub.status.idle": "2020-08-11T10:14:11.006717Z",
     "shell.execute_reply": "2020-08-11T10:14:11.007533Z"
    },
    "papermill": {
     "duration": 0.293395,
     "end_time": "2020-08-11T10:14:11.007737",
     "exception": false,
     "start_time": "2020-08-11T10:14:10.714342",
     "status": "completed"
    },
    "tags": []
   },
   "outputs": [
    {
     "data": {
      "image/png": "[encoded data removed]",
      "text/plain": [
       "<Figure size 576x504 with 1 Axes>"
      ]
     },
     "metadata": {
      "needs_background": "light"
     },
     "output_type": "display_data"
    }
   ],
   "source": [
    "plt.figure(figsize=(8,7))\n",
    "plt.scatter(plot_testing[:,0], plot_testing[:,1], alpha = 0.1, c = y_test.ravel());"
   ]
  },
  {
   "cell_type": "markdown",
   "metadata": {
    "papermill": {
     "duration": 0.054921,
     "end_time": "2020-08-11T10:14:11.117200",
     "exception": false,
     "start_time": "2020-08-11T10:14:11.062279",
     "status": "completed"
    },
    "tags": []
   },
   "source": [
    "##### Plotting probability contours"
   ]
  },
  {
   "cell_type": "code",
   "execution_count": 28,
   "metadata": {
    "execution": {
     "iopub.execute_input": "2020-08-11T10:14:11.228561Z",
     "iopub.status.busy": "2020-08-11T10:14:11.227956Z",
     "iopub.status.idle": "2020-08-11T10:14:11.241236Z",
     "shell.execute_reply": "2020-08-11T10:14:11.240606Z"
    },
    "papermill": {
     "duration": 0.071148,
     "end_time": "2020-08-11T10:14:11.241357",
     "exception": false,
     "start_time": "2020-08-11T10:14:11.170209",
     "status": "completed"
    },
    "tags": []
   },
   "outputs": [],
   "source": [
    "model_prob = Model(layers[-2:]) ## picking only last two layers to get probability. That is affine followed by sigmoid"
   ]
  },
  {
   "cell_type": "code",
   "execution_count": 29,
   "metadata": {
    "execution": {
     "iopub.execute_input": "2020-08-11T10:14:11.362089Z",
     "iopub.status.busy": "2020-08-11T10:14:11.361497Z",
     "iopub.status.idle": "2020-08-11T10:14:11.375983Z",
     "shell.execute_reply": "2020-08-11T10:14:11.376482Z"
    },
    "papermill": {
     "duration": 0.070708,
     "end_time": "2020-08-11T10:14:11.376658",
     "exception": false,
     "start_time": "2020-08-11T10:14:11.305950",
     "status": "completed"
    },
    "tags": []
   },
   "outputs": [],
   "source": [
    "xgrid = np.linspace(-4, 1, 100) ## Adjust these values based on above chart, roughly -4 to 1\n",
    "ygrid = np.linspace(-7.5, 7.5, 100) ## Adjust these values based on above chart, roughly -7.5, 7.5\n",
    "xg, yg = np.meshgrid(xgrid, ygrid)\n",
    "# xg and yg are now both 100X100, lets convert them to single arrays \n",
    "\n",
    "xg_interim = np.ravel(xg)\n",
    "yg_interim = np.ravel(yg)\n",
    "\n",
    "## xg_interim, yg_interim are now arrays of len 10000, now we will stack them and then transpose to get desired shape of n rows, 2 columns\n",
    "\n",
    "X_interim = np.vstack((xg_interim, yg_interim)) ## Please note vstack takes in a tuple\n",
    "X = X_interim.T\n",
    "\n",
    "## We want a shape of n rows and 2 columns to be able to feed this to last affine\n",
    "## This last affine takes only two columns, hence the above transformation\n",
    "probability_contour = model_prob(X).reshape(100,100) ## to make it consistent with xg, yg"
   ]
  },
  {
   "cell_type": "code",
   "execution_count": 30,
   "metadata": {
    "execution": {
     "iopub.execute_input": "2020-08-11T10:14:11.488753Z",
     "iopub.status.busy": "2020-08-11T10:14:11.487333Z",
     "iopub.status.idle": "2020-08-11T10:14:11.780076Z",
     "shell.execute_reply": "2020-08-11T10:14:11.779544Z"
    },
    "papermill": {
     "duration": 0.35083,
     "end_time": "2020-08-11T10:14:11.780214",
     "exception": false,
     "start_time": "2020-08-11T10:14:11.429384",
     "status": "completed"
    },
    "tags": []
   },
   "outputs": [
    {
     "data": {
      "image/png": "[encoded data removed]",
      "text/plain": [
       "<Figure size 576x504 with 1 Axes>"
      ]
     },
     "metadata": {
      "needs_background": "light"
     },
     "output_type": "display_data"
    }
   ],
   "source": [
    "plt.figure(figsize=(8,7))\n",
    "plt.scatter(plot_testing[:,0], plot_testing[:,1], alpha = 0.1, c = y_test.ravel())\n",
    "contours = plt.contour(xg,yg,probability_contour)\n",
    "plt.clabel(contours, inline = True );"
   ]
  }
 ],
 "metadata": {
  "kernelspec": {
   "display_name": "Python 3",
   "language": "python",
   "name": "python3"
  },
  "language_info": {
   "codemirror_mode": {
    "name": "ipython",
    "version": 3
   },
   "file_extension": ".py",
   "mimetype": "text/x-python",
   "name": "python",
   "nbconvert_exporter": "python",
   "pygments_lexer": "ipython3",
   "version": "3.6.11"
  },
  "papermill": {
   "duration": 150.429896,
   "end_time": "2020-08-11T10:14:13.088853",
   "environment_variables": {},
   "exception": null,
   "input_path": "2020-08-07-NN-new.ipynb",
   "output_path": "2020-08-07-NN-new.ipynb",
   "parameters": {},
   "start_time": "2020-08-11T10:11:42.658957",
   "version": "2.1.2"
  }
 },
 "nbformat": 4,
 "nbformat_minor": 4
}