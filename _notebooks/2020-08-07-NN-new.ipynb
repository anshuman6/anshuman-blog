{
 "cells": [
  {
   "cell_type": "markdown",
   "metadata": {
    "papermill": {
     "duration": 0.035572,
     "end_time": "2020-08-13T00:27:08.885924",
     "exception": false,
     "start_time": "2020-08-13T00:27:08.850352",
     "status": "completed"
    },
    "tags": []
   },
   "source": [
    "# \"Building a basic Neural Network from scratch - Kudzu\"\n",
    "\n",
    "- badges: true\n",
    "- author: Anshuman Gupta"
   ]
  },
  {
   "cell_type": "markdown",
   "metadata": {
    "papermill": {
     "duration": 0.03208,
     "end_time": "2020-08-13T00:27:08.949490",
     "exception": false,
     "start_time": "2020-08-13T00:27:08.917410",
     "status": "completed"
    },
    "tags": []
   },
   "source": [
    "#### In this project, the idea is to write a classifier to differentiate between handwritten digits 3 and 8, from the MNIST database.\n",
    "\n",
    "#### I will using a custom built neural network library called Kudzu.This has been developed as a part of KTF/Foundations course of Univ.ai (www.univ.ai). The source code for Kudzu Library and and this notebook can be found on my git-hub profile : www.https://github.com/anshuman6 under the folder project-solution. Any feedback and comments are welcome. Please feel free to email me at: anshuman6@gmail.com\n",
    "\n",
    "#### 1. I will be using the MNIST database. \n",
    "\n",
    "#### 2. I will be comparing the results of the 4 layer NN to a standard logistic regression"
   ]
  },
  {
   "cell_type": "markdown",
   "metadata": {
    "papermill": {
     "duration": 0.031296,
     "end_time": "2020-08-13T00:27:09.013485",
     "exception": false,
     "start_time": "2020-08-13T00:27:08.982189",
     "status": "completed"
    },
    "tags": []
   },
   "source": [
    "##### Importing all the necessary libraries"
   ]
  },
  {
   "cell_type": "code",
   "execution_count": 1,
   "metadata": {
    "execution": {
     "iopub.execute_input": "2020-08-13T00:27:09.084163Z",
     "iopub.status.busy": "2020-08-13T00:27:09.083060Z",
     "iopub.status.idle": "2020-08-13T00:27:09.096433Z",
     "shell.execute_reply": "2020-08-13T00:27:09.095207Z"
    },
    "papermill": {
     "duration": 0.050981,
     "end_time": "2020-08-13T00:27:09.096601",
     "exception": false,
     "start_time": "2020-08-13T00:27:09.045620",
     "status": "completed"
    },
    "tags": []
   },
   "outputs": [],
   "source": [
    "%load_ext autoreload\n",
    "%autoreload 2"
   ]
  },
  {
   "cell_type": "code",
   "execution_count": 2,
   "metadata": {
    "execution": {
     "iopub.execute_input": "2020-08-13T00:27:09.163331Z",
     "iopub.status.busy": "2020-08-13T00:27:09.162719Z",
     "iopub.status.idle": "2020-08-13T00:27:09.774489Z",
     "shell.execute_reply": "2020-08-13T00:27:09.773871Z"
    },
    "papermill": {
     "duration": 0.645097,
     "end_time": "2020-08-13T00:27:09.774639",
     "exception": false,
     "start_time": "2020-08-13T00:27:09.129542",
     "status": "completed"
    },
    "tags": []
   },
   "outputs": [],
   "source": [
    "%matplotlib inline\n",
    "import numpy as np\n",
    "import matplotlib.pyplot as plt\n",
    "import pandas as pd"
   ]
  },
  {
   "cell_type": "markdown",
   "metadata": {
    "papermill": {
     "duration": 0.034475,
     "end_time": "2020-08-13T00:27:09.841304",
     "exception": false,
     "start_time": "2020-08-13T00:27:09.806829",
     "status": "completed"
    },
    "tags": []
   },
   "source": [
    "##### The following command helps us download MNIST from notebook itself. You can skip this if you already have MNIST. You can also download it via your terminal."
   ]
  },
  {
   "cell_type": "code",
   "execution_count": 3,
   "metadata": {
    "execution": {
     "iopub.execute_input": "2020-08-13T00:27:09.908331Z",
     "iopub.status.busy": "2020-08-13T00:27:09.907678Z",
     "iopub.status.idle": "2020-08-13T00:27:11.553197Z",
     "shell.execute_reply": "2020-08-13T00:27:11.552618Z"
    },
    "papermill": {
     "duration": 1.68046,
     "end_time": "2020-08-13T00:27:11.553344",
     "exception": false,
     "start_time": "2020-08-13T00:27:09.872884",
     "status": "completed"
    },
    "tags": []
   },
   "outputs": [
    {
     "name": "stdout",
     "output_type": "stream",
     "text": [
      "Collecting mnist\r\n"
     ]
    },
    {
     "name": "stdout",
     "output_type": "stream",
     "text": [
      "  Downloading mnist-0.2.2-py2.py3-none-any.whl (3.5 kB)\r\n"
     ]
    },
    {
     "name": "stdout",
     "output_type": "stream",
     "text": [
      "Requirement already satisfied: numpy in /opt/hostedtoolcache/Python/3.6.11/x64/lib/python3.6/site-packages (from mnist) (1.19.1)\r\n"
     ]
    },
    {
     "name": "stdout",
     "output_type": "stream",
     "text": [
      "Installing collected packages: mnist\r\n"
     ]
    },
    {
     "name": "stdout",
     "output_type": "stream",
     "text": [
      "Successfully installed mnist-0.2.2\r\n"
     ]
    },
    {
     "name": "stdout",
     "output_type": "stream",
     "text": [
      "\u001b[33mWARNING: You are using pip version 20.2.1; however, version 20.2.2 is available.\r\n",
      "You should consider upgrading via the '/opt/hostedtoolcache/Python/3.6.11/x64/bin/python -m pip install --upgrade pip' command.\u001b[0m\r\n"
     ]
    }
   ],
   "source": [
    "!pip install mnist # Please note, it is commented out for now, you can remove comment if you want to install it"
   ]
  },
  {
   "cell_type": "markdown",
   "metadata": {
    "papermill": {
     "duration": 0.033932,
     "end_time": "2020-08-13T00:27:11.620463",
     "exception": false,
     "start_time": "2020-08-13T00:27:11.586531",
     "status": "completed"
    },
    "tags": []
   },
   "source": [
    "#### Preparing the Data"
   ]
  },
  {
   "cell_type": "code",
   "execution_count": 4,
   "metadata": {
    "execution": {
     "iopub.execute_input": "2020-08-13T00:27:11.702901Z",
     "iopub.status.busy": "2020-08-13T00:27:11.694764Z",
     "iopub.status.idle": "2020-08-13T00:27:11.711677Z",
     "shell.execute_reply": "2020-08-13T00:27:11.711103Z"
    },
    "papermill": {
     "duration": 0.054413,
     "end_time": "2020-08-13T00:27:11.711812",
     "exception": false,
     "start_time": "2020-08-13T00:27:11.657399",
     "status": "completed"
    },
    "tags": []
   },
   "outputs": [],
   "source": [
    "import mnist"
   ]
  },
  {
   "cell_type": "code",
   "execution_count": 5,
   "metadata": {
    "execution": {
     "iopub.execute_input": "2020-08-13T00:27:11.781758Z",
     "iopub.status.busy": "2020-08-13T00:27:11.781054Z",
     "iopub.status.idle": "2020-08-13T00:27:13.010816Z",
     "shell.execute_reply": "2020-08-13T00:27:13.011406Z"
    },
    "papermill": {
     "duration": 1.265992,
     "end_time": "2020-08-13T00:27:13.011581",
     "exception": false,
     "start_time": "2020-08-13T00:27:11.745589",
     "status": "completed"
    },
    "tags": []
   },
   "outputs": [],
   "source": [
    "train_images = mnist.train_images()\n",
    "train_labels = mnist.train_labels()"
   ]
  },
  {
   "cell_type": "code",
   "execution_count": 6,
   "metadata": {
    "execution": {
     "iopub.execute_input": "2020-08-13T00:27:13.082890Z",
     "iopub.status.busy": "2020-08-13T00:27:13.082216Z",
     "iopub.status.idle": "2020-08-13T00:27:13.099097Z",
     "shell.execute_reply": "2020-08-13T00:27:13.098468Z"
    },
    "papermill": {
     "duration": 0.053909,
     "end_time": "2020-08-13T00:27:13.099233",
     "exception": false,
     "start_time": "2020-08-13T00:27:13.045324",
     "status": "completed"
    },
    "tags": []
   },
   "outputs": [
    {
     "data": {
      "text/plain": [
       "((60000, 28, 28), (60000,))"
      ]
     },
     "execution_count": 6,
     "metadata": {},
     "output_type": "execute_result"
    }
   ],
   "source": [
    "train_images.shape, train_labels.shape"
   ]
  },
  {
   "cell_type": "code",
   "execution_count": 7,
   "metadata": {
    "execution": {
     "iopub.execute_input": "2020-08-13T00:27:13.173417Z",
     "iopub.status.busy": "2020-08-13T00:27:13.172696Z",
     "iopub.status.idle": "2020-08-13T00:27:13.833475Z",
     "shell.execute_reply": "2020-08-13T00:27:13.834014Z"
    },
    "papermill": {
     "duration": 0.700359,
     "end_time": "2020-08-13T00:27:13.834241",
     "exception": false,
     "start_time": "2020-08-13T00:27:13.133882",
     "status": "completed"
    },
    "tags": []
   },
   "outputs": [],
   "source": [
    "test_images = mnist.test_images()\n",
    "test_labels = mnist.test_labels()"
   ]
  },
  {
   "cell_type": "code",
   "execution_count": 8,
   "metadata": {
    "execution": {
     "iopub.execute_input": "2020-08-13T00:27:13.909540Z",
     "iopub.status.busy": "2020-08-13T00:27:13.908914Z",
     "iopub.status.idle": "2020-08-13T00:27:13.923253Z",
     "shell.execute_reply": "2020-08-13T00:27:13.923853Z"
    },
    "papermill": {
     "duration": 0.054337,
     "end_time": "2020-08-13T00:27:13.924011",
     "exception": false,
     "start_time": "2020-08-13T00:27:13.869674",
     "status": "completed"
    },
    "tags": []
   },
   "outputs": [
    {
     "data": {
      "text/plain": [
       "((10000, 28, 28), (10000,))"
      ]
     },
     "execution_count": 8,
     "metadata": {},
     "output_type": "execute_result"
    }
   ],
   "source": [
    "test_images.shape, test_labels.shape"
   ]
  },
  {
   "cell_type": "code",
   "execution_count": 9,
   "metadata": {
    "execution": {
     "iopub.execute_input": "2020-08-13T00:27:13.998348Z",
     "iopub.status.busy": "2020-08-13T00:27:13.997656Z",
     "iopub.status.idle": "2020-08-13T00:27:14.202591Z",
     "shell.execute_reply": "2020-08-13T00:27:14.203139Z"
    },
    "papermill": {
     "duration": 0.243908,
     "end_time": "2020-08-13T00:27:14.203307",
     "exception": false,
     "start_time": "2020-08-13T00:27:13.959399",
     "status": "completed"
    },
    "tags": []
   },
   "outputs": [
    {
     "name": "stdout",
     "output_type": "stream",
     "text": [
      "2\n"
     ]
    },
    {
     "data": {
      "text/plain": [
       "<matplotlib.image.AxesImage at 0x7fdddf74d320>"
      ]
     },
     "execution_count": 9,
     "metadata": {},
     "output_type": "execute_result"
    },
    {
     "data": {
      "image/png": "[encoded data removed]",
      "text/plain": [
       "<Figure size 432x288 with 1 Axes>"
      ]
     },
     "metadata": {
      "needs_background": "light"
     },
     "output_type": "display_data"
    }
   ],
   "source": [
    "image_index = 7776 # You may select anything up to 60,000\n",
    "print(train_labels[image_index]) \n",
    "plt.imshow(train_images[image_index], cmap='Greys')"
   ]
  },
  {
   "cell_type": "markdown",
   "metadata": {
    "papermill": {
     "duration": 0.033513,
     "end_time": "2020-08-13T00:27:14.272382",
     "exception": false,
     "start_time": "2020-08-13T00:27:14.238869",
     "status": "completed"
    },
    "tags": []
   },
   "source": [
    "## Filter data to get 3 and 8 out"
   ]
  },
  {
   "cell_type": "code",
   "execution_count": 10,
   "metadata": {
    "execution": {
     "iopub.execute_input": "2020-08-13T00:27:14.355117Z",
     "iopub.status.busy": "2020-08-13T00:27:14.348989Z",
     "iopub.status.idle": "2020-08-13T00:27:14.370096Z",
     "shell.execute_reply": "2020-08-13T00:27:14.369389Z"
    },
    "papermill": {
     "duration": 0.062042,
     "end_time": "2020-08-13T00:27:14.370246",
     "exception": false,
     "start_time": "2020-08-13T00:27:14.308204",
     "status": "completed"
    },
    "tags": []
   },
   "outputs": [],
   "source": [
    "train_filter = np.where((train_labels == 3 ) | (train_labels == 8))\n",
    "test_filter = np.where((test_labels == 3) | (test_labels == 8))\n",
    "X_train, y_train = train_images[train_filter], train_labels[train_filter]\n",
    "X_test, y_test = test_images[test_filter], test_labels[test_filter]"
   ]
  },
  {
   "cell_type": "markdown",
   "metadata": {
    "papermill": {
     "duration": 0.033977,
     "end_time": "2020-08-13T00:27:14.440486",
     "exception": false,
     "start_time": "2020-08-13T00:27:14.406509",
     "status": "completed"
    },
    "tags": []
   },
   "source": [
    "##### We normalize the pizel values in the 0 to 1 range"
   ]
  },
  {
   "cell_type": "code",
   "execution_count": 11,
   "metadata": {
    "execution": {
     "iopub.execute_input": "2020-08-13T00:27:14.513856Z",
     "iopub.status.busy": "2020-08-13T00:27:14.513229Z",
     "iopub.status.idle": "2020-08-13T00:27:14.576565Z",
     "shell.execute_reply": "2020-08-13T00:27:14.577085Z"
    },
    "papermill": {
     "duration": 0.101927,
     "end_time": "2020-08-13T00:27:14.577253",
     "exception": false,
     "start_time": "2020-08-13T00:27:14.475326",
     "status": "completed"
    },
    "tags": []
   },
   "outputs": [],
   "source": [
    "X_train = X_train/255.\n",
    "X_test = X_test/255."
   ]
  },
  {
   "cell_type": "markdown",
   "metadata": {
    "papermill": {
     "duration": 0.038557,
     "end_time": "2020-08-13T00:27:14.652523",
     "exception": false,
     "start_time": "2020-08-13T00:27:14.613966",
     "status": "completed"
    },
    "tags": []
   },
   "source": [
    "And setup the labels as 1 (when the digit is 3) and 0 (when the digit is 8)"
   ]
  },
  {
   "cell_type": "code",
   "execution_count": 12,
   "metadata": {
    "execution": {
     "iopub.execute_input": "2020-08-13T00:27:14.731055Z",
     "iopub.status.busy": "2020-08-13T00:27:14.730351Z",
     "iopub.status.idle": "2020-08-13T00:27:14.744476Z",
     "shell.execute_reply": "2020-08-13T00:27:14.743905Z"
    },
    "papermill": {
     "duration": 0.055919,
     "end_time": "2020-08-13T00:27:14.744606",
     "exception": false,
     "start_time": "2020-08-13T00:27:14.688687",
     "status": "completed"
    },
    "tags": []
   },
   "outputs": [],
   "source": [
    "y_train = 1*(y_train==3)\n",
    "y_test = 1*(y_test==3)"
   ]
  },
  {
   "cell_type": "code",
   "execution_count": 13,
   "metadata": {
    "execution": {
     "iopub.execute_input": "2020-08-13T00:27:14.818637Z",
     "iopub.status.busy": "2020-08-13T00:27:14.817998Z",
     "iopub.status.idle": "2020-08-13T00:27:14.832584Z",
     "shell.execute_reply": "2020-08-13T00:27:14.833155Z"
    },
    "papermill": {
     "duration": 0.05333,
     "end_time": "2020-08-13T00:27:14.833300",
     "exception": false,
     "start_time": "2020-08-13T00:27:14.779970",
     "status": "completed"
    },
    "tags": []
   },
   "outputs": [
    {
     "data": {
      "text/plain": [
       "((11982, 28, 28), (1984, 28, 28))"
      ]
     },
     "execution_count": 13,
     "metadata": {},
     "output_type": "execute_result"
    }
   ],
   "source": [
    "X_train.shape, X_test.shape"
   ]
  },
  {
   "cell_type": "markdown",
   "metadata": {
    "papermill": {
     "duration": 0.035494,
     "end_time": "2020-08-13T00:27:14.902469",
     "exception": false,
     "start_time": "2020-08-13T00:27:14.866975",
     "status": "completed"
    },
    "tags": []
   },
   "source": [
    "##### We reshape the data to flatten the image pixels into a set of features or co-variates:"
   ]
  },
  {
   "cell_type": "code",
   "execution_count": 14,
   "metadata": {
    "execution": {
     "iopub.execute_input": "2020-08-13T00:27:14.979635Z",
     "iopub.status.busy": "2020-08-13T00:27:14.978951Z",
     "iopub.status.idle": "2020-08-13T00:27:14.994120Z",
     "shell.execute_reply": "2020-08-13T00:27:14.994698Z"
    },
    "papermill": {
     "duration": 0.056127,
     "end_time": "2020-08-13T00:27:14.994856",
     "exception": false,
     "start_time": "2020-08-13T00:27:14.938729",
     "status": "completed"
    },
    "tags": []
   },
   "outputs": [
    {
     "data": {
      "text/plain": [
       "((11982, 784), (1984, 784))"
      ]
     },
     "execution_count": 14,
     "metadata": {},
     "output_type": "execute_result"
    }
   ],
   "source": [
    "X_train = X_train.reshape(X_train.shape[0], -1)\n",
    "X_test = X_test.reshape(X_test.shape[0], -1)\n",
    "X_train.shape, X_test.shape"
   ]
  },
  {
   "cell_type": "markdown",
   "metadata": {
    "papermill": {
     "duration": 0.035608,
     "end_time": "2020-08-13T00:27:15.067925",
     "exception": false,
     "start_time": "2020-08-13T00:27:15.032317",
     "status": "completed"
    },
    "tags": []
   },
   "source": [
    "##### Importing Kudzu library and its functionality"
   ]
  },
  {
   "cell_type": "code",
   "execution_count": 15,
   "metadata": {
    "execution": {
     "iopub.execute_input": "2020-08-13T00:27:15.146791Z",
     "iopub.status.busy": "2020-08-13T00:27:15.145995Z",
     "iopub.status.idle": "2020-08-13T00:27:15.168938Z",
     "shell.execute_reply": "2020-08-13T00:27:15.168253Z"
    },
    "papermill": {
     "duration": 0.063741,
     "end_time": "2020-08-13T00:27:15.169074",
     "exception": false,
     "start_time": "2020-08-13T00:27:15.105333",
     "status": "completed"
    },
    "tags": []
   },
   "outputs": [],
   "source": [
    "from kudzu.data import Data, Dataloader, Sampler\n",
    "from kudzu.callbacks import AccCallback\n",
    "from kudzu.loss import MSE\n",
    "from kudzu.layer import Affine, Sigmoid\n",
    "from kudzu.model import Model\n",
    "from kudzu.optim import GD\n",
    "from kudzu.train import Learner\n",
    "from kudzu.callbacks import ClfCallback\n",
    "from kudzu.layer import Sigmoid\n",
    "from kudzu.layer import Relu"
   ]
  },
  {
   "cell_type": "markdown",
   "metadata": {
    "papermill": {
     "duration": 0.036463,
     "end_time": "2020-08-13T00:27:15.244170",
     "exception": false,
     "start_time": "2020-08-13T00:27:15.207707",
     "status": "completed"
    },
    "tags": []
   },
   "source": [
    "##### We are creating a class, just so that we can use it to store our parameters for us"
   ]
  },
  {
   "cell_type": "code",
   "execution_count": 16,
   "metadata": {
    "execution": {
     "iopub.execute_input": "2020-08-13T00:27:15.319982Z",
     "iopub.status.busy": "2020-08-13T00:27:15.319302Z",
     "iopub.status.idle": "2020-08-13T00:27:15.333409Z",
     "shell.execute_reply": "2020-08-13T00:27:15.332823Z"
    },
    "papermill": {
     "duration": 0.053514,
     "end_time": "2020-08-13T00:27:15.333545",
     "exception": false,
     "start_time": "2020-08-13T00:27:15.280031",
     "status": "completed"
    },
    "tags": []
   },
   "outputs": [],
   "source": [
    "class Config:\n",
    "    pass\n",
    "config = Config()\n",
    "config.lr = 0.001\n",
    "config.num_epochs = 250\n",
    "config.bs = 50"
   ]
  },
  {
   "cell_type": "markdown",
   "metadata": {
    "papermill": {
     "duration": 0.034848,
     "end_time": "2020-08-13T00:27:15.403259",
     "exception": false,
     "start_time": "2020-08-13T00:27:15.368411",
     "status": "completed"
    },
    "tags": []
   },
   "source": [
    "##### Initializing Data"
   ]
  },
  {
   "cell_type": "code",
   "execution_count": 17,
   "metadata": {
    "execution": {
     "iopub.execute_input": "2020-08-13T00:27:15.478685Z",
     "iopub.status.busy": "2020-08-13T00:27:15.477985Z",
     "iopub.status.idle": "2020-08-13T00:27:15.493290Z",
     "shell.execute_reply": "2020-08-13T00:27:15.492734Z"
    },
    "papermill": {
     "duration": 0.055707,
     "end_time": "2020-08-13T00:27:15.493436",
     "exception": false,
     "start_time": "2020-08-13T00:27:15.437729",
     "status": "completed"
    },
    "tags": []
   },
   "outputs": [],
   "source": [
    "data = Data(X_train, y_train.reshape(-1,1))\n",
    "loss = MSE()\n",
    "opt = GD(config.lr)\n",
    "sampler = Sampler(data, config.bs, shuffle=True)\n",
    "dl = Dataloader(data, sampler)"
   ]
  },
  {
   "cell_type": "markdown",
   "metadata": {
    "papermill": {
     "duration": 0.037136,
     "end_time": "2020-08-13T00:27:15.569756",
     "exception": false,
     "start_time": "2020-08-13T00:27:15.532620",
     "status": "completed"
    },
    "tags": []
   },
   "source": [
    "##### Constructing 2 different layers, one for NN and one only for logistic regression."
   ]
  },
  {
   "cell_type": "markdown",
   "metadata": {
    "papermill": {
     "duration": 0.036771,
     "end_time": "2020-08-13T00:27:15.641766",
     "exception": false,
     "start_time": "2020-08-13T00:27:15.604995",
     "status": "completed"
    },
    "tags": []
   },
   "source": [
    "##### Creating containers for data to be passed, to calculate accuracies"
   ]
  },
  {
   "cell_type": "code",
   "execution_count": 18,
   "metadata": {
    "execution": {
     "iopub.execute_input": "2020-08-13T00:27:15.721581Z",
     "iopub.status.busy": "2020-08-13T00:27:15.720915Z",
     "iopub.status.idle": "2020-08-13T00:27:15.734361Z",
     "shell.execute_reply": "2020-08-13T00:27:15.736903Z"
    },
    "papermill": {
     "duration": 0.057525,
     "end_time": "2020-08-13T00:27:15.737057",
     "exception": false,
     "start_time": "2020-08-13T00:27:15.679532",
     "status": "completed"
    },
    "tags": []
   },
   "outputs": [],
   "source": [
    "training_xdata = X_train\n",
    "testing_xdata = X_test\n",
    "training_ydata = y_train.reshape(-1,1)\n",
    "testing_ydata = y_test.reshape(-1,1)"
   ]
  },
  {
   "cell_type": "markdown",
   "metadata": {
    "papermill": {
     "duration": 0.035524,
     "end_time": "2020-08-13T00:27:15.810763",
     "exception": false,
     "start_time": "2020-08-13T00:27:15.775239",
     "status": "completed"
    },
    "tags": []
   },
   "source": [
    "##### Initializing models and Running training loop: "
   ]
  },
  {
   "cell_type": "code",
   "execution_count": 19,
   "metadata": {
    "execution": {
     "iopub.execute_input": "2020-08-13T00:27:15.886346Z",
     "iopub.status.busy": "2020-08-13T00:27:15.885630Z",
     "iopub.status.idle": "2020-08-13T00:27:15.904033Z",
     "shell.execute_reply": "2020-08-13T00:27:15.904619Z"
    },
    "papermill": {
     "duration": 0.059104,
     "end_time": "2020-08-13T00:27:15.904787",
     "exception": false,
     "start_time": "2020-08-13T00:27:15.845683",
     "status": "completed"
    },
    "tags": []
   },
   "outputs": [],
   "source": [
    "layers = [Affine(\"first\", 784, 100), Relu(\"first\"), Affine(\"second\", 100, 100), Relu(\"second\"), Affine(\"third\", 100, 2), Affine(\"final\", 2, 1), Sigmoid(\"final\")]\n",
    "\n",
    "model_neural = Model(layers)\n",
    "model_logistic = Model([Affine(\"logits\", 784, 1), Sigmoid(\"sigmoid\")])"
   ]
  },
  {
   "cell_type": "code",
   "execution_count": 20,
   "metadata": {
    "execution": {
     "iopub.execute_input": "2020-08-13T00:27:15.984928Z",
     "iopub.status.busy": "2020-08-13T00:27:15.984317Z",
     "iopub.status.idle": "2020-08-13T00:27:15.998253Z",
     "shell.execute_reply": "2020-08-13T00:27:15.998875Z"
    },
    "papermill": {
     "duration": 0.057257,
     "end_time": "2020-08-13T00:27:15.999027",
     "exception": false,
     "start_time": "2020-08-13T00:27:15.941770",
     "status": "completed"
    },
    "tags": []
   },
   "outputs": [],
   "source": [
    "learner1 = Learner(loss, model_neural, opt, config.num_epochs)\n",
    "acc1 = ClfCallback(learner1, config.bs, training_xdata , testing_xdata, training_ydata, testing_ydata)\n",
    "learner1.set_callbacks([acc1])"
   ]
  },
  {
   "cell_type": "code",
   "execution_count": 21,
   "metadata": {
    "execution": {
     "iopub.execute_input": "2020-08-13T00:27:16.077516Z",
     "iopub.status.busy": "2020-08-13T00:27:16.076757Z",
     "iopub.status.idle": "2020-08-13T00:29:36.733380Z",
     "shell.execute_reply": "2020-08-13T00:29:36.734252Z"
    },
    "papermill": {
     "duration": 140.697717,
     "end_time": "2020-08-13T00:29:36.734427",
     "exception": false,
     "start_time": "2020-08-13T00:27:16.036710",
     "status": "completed"
    },
    "tags": []
   },
   "outputs": [
    {
     "name": "stdout",
     "output_type": "stream",
     "text": [
      "Epoch 0 Loss 0.23224819156593496\n",
      "train accuracy is: 0.7173259889834752, test accuracy is 0.7308467741935484\n"
     ]
    },
    {
     "name": "stdout",
     "output_type": "stream",
     "text": [
      "Epoch 10 Loss 0.09520125386937163\n",
      "train accuracy is: 0.9191286930395594, test accuracy is 0.9329637096774194\n"
     ]
    },
    {
     "name": "stdout",
     "output_type": "stream",
     "text": [
      "Epoch 20 Loss 0.058479892582185826\n",
      "train accuracy is: 0.9389918210649307, test accuracy is 0.9475806451612904\n"
     ]
    },
    {
     "name": "stdout",
     "output_type": "stream",
     "text": [
      "Epoch 30 Loss 0.04593919765462161\n",
      "train accuracy is: 0.9495075947254215, test accuracy is 0.9596774193548387\n"
     ]
    },
    {
     "name": "stdout",
     "output_type": "stream",
     "text": [
      "Epoch 40 Loss 0.03948496791656345\n",
      "train accuracy is: 0.9547654815556669, test accuracy is 0.9672379032258065\n"
     ]
    },
    {
     "name": "stdout",
     "output_type": "stream",
     "text": [
      "Epoch 50 Loss 0.035514224645784284\n",
      "train accuracy is: 0.9600233683859122, test accuracy is 0.9692540322580645\n"
     ]
    },
    {
     "name": "stdout",
     "output_type": "stream",
     "text": [
      "Epoch 60 Loss 0.03279795632049034\n",
      "train accuracy is: 0.9622767484560174, test accuracy is 0.9702620967741935\n"
     ]
    },
    {
     "name": "stdout",
     "output_type": "stream",
     "text": [
      "Epoch 70 Loss 0.030776239090358728\n",
      "train accuracy is: 0.9645301285261225, test accuracy is 0.9707661290322581\n"
     ]
    },
    {
     "name": "stdout",
     "output_type": "stream",
     "text": [
      "Epoch 80 Loss 0.02919041617790796\n",
      "train accuracy is: 0.9667000500751126, test accuracy is 0.9707661290322581\n"
     ]
    },
    {
     "name": "stdout",
     "output_type": "stream",
     "text": [
      "Epoch 90 Loss 0.02789868663948059\n",
      "train accuracy is: 0.9675346352862627, test accuracy is 0.9712701612903226\n"
     ]
    },
    {
     "name": "stdout",
     "output_type": "stream",
     "text": [
      "Epoch 100 Loss 0.02679301128859421\n",
      "train accuracy is: 0.9689534301452178, test accuracy is 0.9712701612903226\n"
     ]
    },
    {
     "name": "stdout",
     "output_type": "stream",
     "text": [
      "Epoch 110 Loss 0.025853326531694084\n",
      "train accuracy is: 0.9697045568352529, test accuracy is 0.9712701612903226\n"
     ]
    },
    {
     "name": "stdout",
     "output_type": "stream",
     "text": [
      "Epoch 120 Loss 0.025015195669612904\n",
      "train accuracy is: 0.9705391420464029, test accuracy is 0.9727822580645161\n"
     ]
    },
    {
     "name": "stdout",
     "output_type": "stream",
     "text": [
      "Epoch 130 Loss 0.024270310829160754\n",
      "train accuracy is: 0.970956434651978, test accuracy is 0.9722782258064516\n"
     ]
    },
    {
     "name": "stdout",
     "output_type": "stream",
     "text": [
      "Epoch 140 Loss 0.02358537206473692\n",
      "train accuracy is: 0.971540644299783, test accuracy is 0.9712701612903226\n"
     ]
    },
    {
     "name": "stdout",
     "output_type": "stream",
     "text": [
      "Epoch 150 Loss 0.022959956008972885\n",
      "train accuracy is: 0.972291770989818, test accuracy is 0.9712701612903226\n"
     ]
    },
    {
     "name": "stdout",
     "output_type": "stream",
     "text": [
      "Epoch 160 Loss 0.02237400927140113\n",
      "train accuracy is: 0.9733767317643132, test accuracy is 0.9712701612903226\n"
     ]
    },
    {
     "name": "stdout",
     "output_type": "stream",
     "text": [
      "Epoch 170 Loss 0.021827934524563067\n",
      "train accuracy is: 0.9742947754965782, test accuracy is 0.9717741935483871\n"
     ]
    },
    {
     "name": "stdout",
     "output_type": "stream",
     "text": [
      "Epoch 180 Loss 0.021312555784166506\n",
      "train accuracy is: 0.9751293607077283, test accuracy is 0.9722782258064516\n"
     ]
    },
    {
     "name": "stdout",
     "output_type": "stream",
     "text": [
      "Epoch 190 Loss 0.020824455398531262\n",
      "train accuracy is: 0.9757135703555333, test accuracy is 0.9722782258064516\n"
     ]
    },
    {
     "name": "stdout",
     "output_type": "stream",
     "text": [
      "Epoch 200 Loss 0.020351605850033504\n",
      "train accuracy is: 0.9764646970455684, test accuracy is 0.9742943548387096\n"
     ]
    },
    {
     "name": "stdout",
     "output_type": "stream",
     "text": [
      "Epoch 210 Loss 0.019911233886232702\n",
      "train accuracy is: 0.9773827407778334, test accuracy is 0.9742943548387096\n"
     ]
    },
    {
     "name": "stdout",
     "output_type": "stream",
     "text": [
      "Epoch 220 Loss 0.0194805697757993\n",
      "train accuracy is: 0.9781338674678685, test accuracy is 0.9753024193548387\n"
     ]
    },
    {
     "name": "stdout",
     "output_type": "stream",
     "text": [
      "Epoch 230 Loss 0.019074882869030817\n",
      "train accuracy is: 0.9789684526790186, test accuracy is 0.9758064516129032\n"
     ]
    },
    {
     "name": "stdout",
     "output_type": "stream",
     "text": [
      "Epoch 240 Loss 0.01868020687327624\n",
      "train accuracy is: 0.9795526623268236, test accuracy is 0.9758064516129032\n"
     ]
    },
    {
     "data": {
      "text/plain": [
       "0.004083256435356413"
      ]
     },
     "execution_count": 21,
     "metadata": {},
     "output_type": "execute_result"
    }
   ],
   "source": [
    "learner1.train_loop(dl)"
   ]
  },
  {
   "cell_type": "markdown",
   "metadata": {
    "papermill": {
     "duration": 0.044982,
     "end_time": "2020-08-13T00:29:36.827116",
     "exception": false,
     "start_time": "2020-08-13T00:29:36.782134",
     "status": "completed"
    },
    "tags": []
   },
   "source": [
    "##### Now running only the logistic regression based classification to compare results with NN"
   ]
  },
  {
   "cell_type": "code",
   "execution_count": 22,
   "metadata": {
    "execution": {
     "iopub.execute_input": "2020-08-13T00:29:36.928416Z",
     "iopub.status.busy": "2020-08-13T00:29:36.927584Z",
     "iopub.status.idle": "2020-08-13T00:29:36.938586Z",
     "shell.execute_reply": "2020-08-13T00:29:36.939787Z"
    },
    "papermill": {
     "duration": 0.067642,
     "end_time": "2020-08-13T00:29:36.939980",
     "exception": false,
     "start_time": "2020-08-13T00:29:36.872338",
     "status": "completed"
    },
    "tags": []
   },
   "outputs": [],
   "source": [
    "learner2 = Learner(loss, model_logistic, opt, config.num_epochs)\n",
    "acc2 = ClfCallback(learner2, config.bs, training_xdata , testing_xdata, training_ydata, testing_ydata)\n",
    "learner2.set_callbacks([acc2])"
   ]
  },
  {
   "cell_type": "code",
   "execution_count": 23,
   "metadata": {
    "execution": {
     "iopub.execute_input": "2020-08-13T00:29:37.040562Z",
     "iopub.status.busy": "2020-08-13T00:29:37.039768Z",
     "iopub.status.idle": "2020-08-13T00:29:57.644962Z",
     "shell.execute_reply": "2020-08-13T00:29:57.645835Z"
    },
    "papermill": {
     "duration": 20.658026,
     "end_time": "2020-08-13T00:29:57.646010",
     "exception": false,
     "start_time": "2020-08-13T00:29:36.987984",
     "status": "completed"
    },
    "tags": []
   },
   "outputs": [
    {
     "name": "stdout",
     "output_type": "stream",
     "text": [
      "Epoch 0 Loss 0.2463006996387612\n",
      "train accuracy is: 0.6659155399766317, test accuracy is 0.6789314516129032\n"
     ]
    },
    {
     "name": "stdout",
     "output_type": "stream",
     "text": [
      "Epoch 10 Loss 0.1038607298129882\n",
      "train accuracy is: 0.9086129193790686, test accuracy is 0.9198588709677419\n"
     ]
    },
    {
     "name": "stdout",
     "output_type": "stream",
     "text": [
      "Epoch 20 Loss 0.07926808874466257\n",
      "train accuracy is: 0.927891837756635, test accuracy is 0.9354838709677419\n"
     ]
    },
    {
     "name": "stdout",
     "output_type": "stream",
     "text": [
      "Epoch 30 Loss 0.0680412275069343\n",
      "train accuracy is: 0.9359873143047905, test accuracy is 0.9445564516129032\n"
     ]
    },
    {
     "name": "stdout",
     "output_type": "stream",
     "text": [
      "Epoch 40 Loss 0.06135573729189822\n",
      "train accuracy is: 0.9406609914872308, test accuracy is 0.9490927419354839\n"
     ]
    },
    {
     "name": "stdout",
     "output_type": "stream",
     "text": [
      "Epoch 50 Loss 0.05683290870302439\n",
      "train accuracy is: 0.943832415289601, test accuracy is 0.9536290322580645\n"
     ]
    },
    {
     "name": "stdout",
     "output_type": "stream",
     "text": [
      "Epoch 60 Loss 0.053530134835132324\n",
      "train accuracy is: 0.9465030879652813, test accuracy is 0.9576612903225806\n"
     ]
    },
    {
     "name": "stdout",
     "output_type": "stream",
     "text": [
      "Epoch 70 Loss 0.050988382278019995\n",
      "train accuracy is: 0.9481722583875813, test accuracy is 0.9591733870967742\n"
     ]
    },
    {
     "name": "stdout",
     "output_type": "stream",
     "text": [
      "Epoch 80 Loss 0.04895990731540001\n",
      "train accuracy is: 0.9496745117676515, test accuracy is 0.9601814516129032\n"
     ]
    },
    {
     "name": "stdout",
     "output_type": "stream",
     "text": [
      "Epoch 90 Loss 0.04729010981723231\n",
      "train accuracy is: 0.9507594725421465, test accuracy is 0.9601814516129032\n"
     ]
    },
    {
     "name": "stdout",
     "output_type": "stream",
     "text": [
      "Epoch 100 Loss 0.04588650358899164\n",
      "train accuracy is: 0.9522617259222167, test accuracy is 0.9606854838709677\n"
     ]
    },
    {
     "name": "stdout",
     "output_type": "stream",
     "text": [
      "Epoch 110 Loss 0.0446855003653646\n",
      "train accuracy is: 0.9531797696544817, test accuracy is 0.9621975806451613\n"
     ]
    },
    {
     "name": "stdout",
     "output_type": "stream",
     "text": [
      "Epoch 120 Loss 0.04364099835645742\n",
      "train accuracy is: 0.9542647304289767, test accuracy is 0.9637096774193549\n"
     ]
    },
    {
     "name": "stdout",
     "output_type": "stream",
     "text": [
      "Epoch 130 Loss 0.04272205059462213\n",
      "train accuracy is: 0.9550993156401268, test accuracy is 0.9642137096774194\n"
     ]
    },
    {
     "name": "stdout",
     "output_type": "stream",
     "text": [
      "Epoch 140 Loss 0.04190623530231742\n",
      "train accuracy is: 0.956434651977967, test accuracy is 0.9632056451612904\n"
     ]
    },
    {
     "name": "stdout",
     "output_type": "stream",
     "text": [
      "Epoch 150 Loss 0.041173792580567685\n",
      "train accuracy is: 0.957018861625772, test accuracy is 0.9627016129032258\n"
     ]
    },
    {
     "name": "stdout",
     "output_type": "stream",
     "text": [
      "Epoch 160 Loss 0.04051113983991515\n",
      "train accuracy is: 0.957603071273577, test accuracy is 0.9637096774193549\n"
     ]
    },
    {
     "name": "stdout",
     "output_type": "stream",
     "text": [
      "Epoch 170 Loss 0.03990896869250079\n",
      "train accuracy is: 0.9582707394424971, test accuracy is 0.9642137096774194\n"
     ]
    },
    {
     "name": "stdout",
     "output_type": "stream",
     "text": [
      "Epoch 180 Loss 0.03935694933987467\n",
      "train accuracy is: 0.958604573526957, test accuracy is 0.9642137096774194\n"
     ]
    },
    {
     "name": "stdout",
     "output_type": "stream",
     "text": [
      "Epoch 190 Loss 0.03884978396461555\n",
      "train accuracy is: 0.9588549490903021, test accuracy is 0.9642137096774194\n"
     ]
    },
    {
     "name": "stdout",
     "output_type": "stream",
     "text": [
      "Epoch 200 Loss 0.03838057368040196\n",
      "train accuracy is: 0.9595226172592222, test accuracy is 0.9652217741935484\n"
     ]
    },
    {
     "name": "stdout",
     "output_type": "stream",
     "text": [
      "Epoch 210 Loss 0.03794498266580286\n",
      "train accuracy is: 0.9595226172592222, test accuracy is 0.9652217741935484\n"
     ]
    },
    {
     "name": "stdout",
     "output_type": "stream",
     "text": [
      "Epoch 220 Loss 0.0375390563321535\n",
      "train accuracy is: 0.9599399098647972, test accuracy is 0.9652217741935484\n"
     ]
    },
    {
     "name": "stdout",
     "output_type": "stream",
     "text": [
      "Epoch 230 Loss 0.03716012713911416\n",
      "train accuracy is: 0.9601902854281422, test accuracy is 0.9652217741935484\n"
     ]
    },
    {
     "name": "stdout",
     "output_type": "stream",
     "text": [
      "Epoch 240 Loss 0.03680336026080332\n",
      "train accuracy is: 0.9605241195126022, test accuracy is 0.9657258064516129\n"
     ]
    },
    {
     "data": {
      "text/plain": [
       "0.02441312835274343"
      ]
     },
     "execution_count": 23,
     "metadata": {},
     "output_type": "execute_result"
    }
   ],
   "source": [
    "learner2.train_loop(dl)"
   ]
  },
  {
   "cell_type": "markdown",
   "metadata": {
    "papermill": {
     "duration": 0.059258,
     "end_time": "2020-08-13T00:29:57.762100",
     "exception": false,
     "start_time": "2020-08-13T00:29:57.702842",
     "status": "completed"
    },
    "tags": []
   },
   "source": [
    "### Comparing results of NN and LR"
   ]
  },
  {
   "cell_type": "code",
   "execution_count": 24,
   "metadata": {
    "execution": {
     "iopub.execute_input": "2020-08-13T00:29:57.881946Z",
     "iopub.status.busy": "2020-08-13T00:29:57.881224Z",
     "iopub.status.idle": "2020-08-13T00:29:58.169842Z",
     "shell.execute_reply": "2020-08-13T00:29:58.170430Z"
    },
    "papermill": {
     "duration": 0.35225,
     "end_time": "2020-08-13T00:29:58.170612",
     "exception": false,
     "start_time": "2020-08-13T00:29:57.818362",
     "status": "completed"
    },
    "tags": []
   },
   "outputs": [
    {
     "data": {
      "text/plain": [
       "<matplotlib.legend.Legend at 0x7fdddf325a90>"
      ]
     },
     "execution_count": 24,
     "metadata": {},
     "output_type": "execute_result"
    },
    {
     "data": {
      "image/png": "[encoded data removed]",
      "text/plain": [
       "<Figure size 576x360 with 1 Axes>"
      ]
     },
     "metadata": {
      "needs_background": "light"
     },
     "output_type": "display_data"
    }
   ],
   "source": [
    "plt.figure(figsize=(8,5))\n",
    "plt.plot(acc1.val_accuracies, 'g-', label = \"Val Accuracies - NN\")\n",
    "plt.plot(acc1.accuracies, 'r-', label = \"Accuracies - NN\")\n",
    "plt.plot(acc2.val_accuracies, 'b-', label = \"Val Accuracies - Logistic Reg\")\n",
    "plt.plot(acc2.accuracies, 'k-', label = \"Accuracies - Logistic Reg\")\n",
    "plt.ylim(0.8,1) ## for a more spread out view\n",
    "plt.legend()"
   ]
  },
  {
   "cell_type": "markdown",
   "metadata": {
    "papermill": {
     "duration": 0.056776,
     "end_time": "2020-08-13T00:29:58.285745",
     "exception": false,
     "start_time": "2020-08-13T00:29:58.228969",
     "status": "completed"
    },
    "tags": []
   },
   "source": [
    "### Clearly NN has a better accuracy over LR; NN is overfitting - Validation accuracy (green) has dropped below training accuracy (orange), also they are diverging. This problem is not seen in LR"
   ]
  },
  {
   "cell_type": "markdown",
   "metadata": {
    "papermill": {
     "duration": 0.05845,
     "end_time": "2020-08-13T00:29:58.401675",
     "exception": false,
     "start_time": "2020-08-13T00:29:58.343225",
     "status": "completed"
    },
    "tags": []
   },
   "source": [
    "##### Now we will be moving through the network, till the output of the second last affine where we get a 2 dimensional output. We will be plotting this 2d output and probability contours"
   ]
  },
  {
   "cell_type": "code",
   "execution_count": 25,
   "metadata": {
    "execution": {
     "iopub.execute_input": "2020-08-13T00:29:58.521694Z",
     "iopub.status.busy": "2020-08-13T00:29:58.521001Z",
     "iopub.status.idle": "2020-08-13T00:29:58.534718Z",
     "shell.execute_reply": "2020-08-13T00:29:58.534030Z"
    },
    "papermill": {
     "duration": 0.07632,
     "end_time": "2020-08-13T00:29:58.534883",
     "exception": false,
     "start_time": "2020-08-13T00:29:58.458563",
     "status": "completed"
    },
    "tags": []
   },
   "outputs": [],
   "source": [
    "model_new = Model(layers[:-2])"
   ]
  },
  {
   "cell_type": "code",
   "execution_count": 26,
   "metadata": {
    "execution": {
     "iopub.execute_input": "2020-08-13T00:29:58.651546Z",
     "iopub.status.busy": "2020-08-13T00:29:58.650842Z",
     "iopub.status.idle": "2020-08-13T00:29:58.679466Z",
     "shell.execute_reply": "2020-08-13T00:29:58.680313Z"
    },
    "papermill": {
     "duration": 0.089475,
     "end_time": "2020-08-13T00:29:58.680493",
     "exception": false,
     "start_time": "2020-08-13T00:29:58.591018",
     "status": "completed"
    },
    "tags": []
   },
   "outputs": [],
   "source": [
    "plot_testing = model_new(testing_xdata)"
   ]
  },
  {
   "cell_type": "markdown",
   "metadata": {
    "papermill": {
     "duration": 0.079532,
     "end_time": "2020-08-13T00:29:58.817346",
     "exception": false,
     "start_time": "2020-08-13T00:29:58.737814",
     "status": "completed"
    },
    "tags": []
   },
   "source": [
    "##### Plotting the scatter plot of points and color coding by class"
   ]
  },
  {
   "cell_type": "code",
   "execution_count": 27,
   "metadata": {
    "execution": {
     "iopub.execute_input": "2020-08-13T00:29:58.937022Z",
     "iopub.status.busy": "2020-08-13T00:29:58.936366Z",
     "iopub.status.idle": "2020-08-13T00:29:59.211098Z",
     "shell.execute_reply": "2020-08-13T00:29:59.211732Z"
    },
    "papermill": {
     "duration": 0.337366,
     "end_time": "2020-08-13T00:29:59.211907",
     "exception": false,
     "start_time": "2020-08-13T00:29:58.874541",
     "status": "completed"
    },
    "tags": []
   },
   "outputs": [
    {
     "data": {
      "image/png": "[encoded data removed]",
      "text/plain": [
       "<Figure size 576x504 with 1 Axes>"
      ]
     },
     "metadata": {
      "needs_background": "light"
     },
     "output_type": "display_data"
    }
   ],
   "source": [
    "plt.figure(figsize=(8,7))\n",
    "plt.scatter(plot_testing[:,0], plot_testing[:,1], alpha = 0.1, c = y_test.ravel());"
   ]
  },
  {
   "cell_type": "markdown",
   "metadata": {
    "papermill": {
     "duration": 0.059134,
     "end_time": "2020-08-13T00:29:59.331647",
     "exception": false,
     "start_time": "2020-08-13T00:29:59.272513",
     "status": "completed"
    },
    "tags": []
   },
   "source": [
    "##### Plotting probability contours"
   ]
  },
  {
   "cell_type": "code",
   "execution_count": 28,
   "metadata": {
    "execution": {
     "iopub.execute_input": "2020-08-13T00:29:59.455837Z",
     "iopub.status.busy": "2020-08-13T00:29:59.455167Z",
     "iopub.status.idle": "2020-08-13T00:29:59.468632Z",
     "shell.execute_reply": "2020-08-13T00:29:59.469214Z"
    },
    "papermill": {
     "duration": 0.077965,
     "end_time": "2020-08-13T00:29:59.469370",
     "exception": false,
     "start_time": "2020-08-13T00:29:59.391405",
     "status": "completed"
    },
    "tags": []
   },
   "outputs": [],
   "source": [
    "model_prob = Model(layers[-2:]) ## picking only last two layers to get probability. That is affine followed by sigmoid"
   ]
  },
  {
   "cell_type": "code",
   "execution_count": 29,
   "metadata": {
    "execution": {
     "iopub.execute_input": "2020-08-13T00:29:59.592599Z",
     "iopub.status.busy": "2020-08-13T00:29:59.591858Z",
     "iopub.status.idle": "2020-08-13T00:29:59.610394Z",
     "shell.execute_reply": "2020-08-13T00:29:59.611016Z"
    },
    "papermill": {
     "duration": 0.082991,
     "end_time": "2020-08-13T00:29:59.611325",
     "exception": false,
     "start_time": "2020-08-13T00:29:59.528334",
     "status": "completed"
    },
    "tags": []
   },
   "outputs": [],
   "source": [
    "xgrid = np.linspace(-4, 1, 100) ## Adjust these values based on above chart, roughly -4 to 1\n",
    "ygrid = np.linspace(-7.5, 7.5, 100) ## Adjust these values based on above chart, roughly -7.5, 7.5\n",
    "xg, yg = np.meshgrid(xgrid, ygrid)\n",
    "# xg and yg are now both 100X100, lets convert them to single arrays \n",
    "\n",
    "xg_interim = np.ravel(xg)\n",
    "yg_interim = np.ravel(yg)\n",
    "\n",
    "## xg_interim, yg_interim are now arrays of len 10000, now we will stack them and then transpose to get desired shape of n rows, 2 columns\n",
    "\n",
    "X_interim = np.vstack((xg_interim, yg_interim)) ## Please note vstack takes in a tuple\n",
    "X = X_interim.T\n",
    "\n",
    "## We want a shape of n rows and 2 columns to be able to feed this to last affine\n",
    "## This last affine takes only two columns, hence the above transformation\n",
    "probability_contour = model_prob(X).reshape(100,100) ## to make it consistent with xg, yg"
   ]
  },
  {
   "cell_type": "code",
   "execution_count": 30,
   "metadata": {
    "execution": {
     "iopub.execute_input": "2020-08-13T00:29:59.747979Z",
     "iopub.status.busy": "2020-08-13T00:29:59.747173Z",
     "iopub.status.idle": "2020-08-13T00:30:00.045490Z",
     "shell.execute_reply": "2020-08-13T00:30:00.046101Z"
    },
    "papermill": {
     "duration": 0.367804,
     "end_time": "2020-08-13T00:30:00.046280",
     "exception": false,
     "start_time": "2020-08-13T00:29:59.678476",
     "status": "completed"
    },
    "tags": []
   },
   "outputs": [
    {
     "data": {
      "image/png": "[encoded data removed]",
      "text/plain": [
       "<Figure size 576x504 with 1 Axes>"
      ]
     },
     "metadata": {
      "needs_background": "light"
     },
     "output_type": "display_data"
    }
   ],
   "source": [
    "plt.figure(figsize=(8,7))\n",
    "plt.scatter(plot_testing[:,0], plot_testing[:,1], alpha = 0.1, c = y_test.ravel())\n",
    "contours = plt.contour(xg,yg,probability_contour)\n",
    "plt.clabel(contours, inline = True );"
   ]
  }
 ],
 "metadata": {
  "kernelspec": {
   "display_name": "Python 3",
   "language": "python",
   "name": "python3"
  },
  "language_info": {
   "codemirror_mode": {
    "name": "ipython",
    "version": 3
   },
   "file_extension": ".py",
   "mimetype": "text/x-python",
   "name": "python",
   "nbconvert_exporter": "python",
   "pygments_lexer": "ipython3",
   "version": "3.6.11"
  },
  "papermill": {
   "duration": 172.783645,
   "end_time": "2020-08-13T00:30:00.517631",
   "environment_variables": {},
   "exception": null,
   "input_path": "2020-08-07-NN-new.ipynb",
   "output_path": "2020-08-07-NN-new.ipynb",
   "parameters": {},
   "start_time": "2020-08-13T00:27:07.733986",
   "version": "2.1.2"
  }
 },
 "nbformat": 4,
 "nbformat_minor": 4
}