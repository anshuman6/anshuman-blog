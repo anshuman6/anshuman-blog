{
 "cells": [
  {
   "cell_type": "markdown",
   "metadata": {
    "papermill": {
     "duration": 0.035139,
     "end_time": "2020-08-11T00:27:09.557715",
     "exception": false,
     "start_time": "2020-08-11T00:27:09.522576",
     "status": "completed"
    },
    "tags": []
   },
   "source": [
    "# \"Building a basic Neural Network from scratch - Kudzu\"\n",
    "\n",
    "- badges: true\n",
    "- author: Anshuman Gupta"
   ]
  },
  {
   "cell_type": "markdown",
   "metadata": {
    "papermill": {
     "duration": 0.028781,
     "end_time": "2020-08-11T00:27:09.615089",
     "exception": false,
     "start_time": "2020-08-11T00:27:09.586308",
     "status": "completed"
    },
    "tags": []
   },
   "source": [
    "#### In this project, the idea is to write a classifier to differentiate between handwritten digits 3 and 8, from the MNIST database.\n",
    "\n",
    "#### I will using a custom built neural network library called Kudzu.This has been developed as a part of KTF/Foundations course of Univ.ai (www.univ.ai). The source code for Kudzu Library and and this notebook can be found on my git-hub profile : www.https://github.com/anshuman6 under the folder project-solution. Any feedback and comments are welcome. Please feel free to email me at: anshuman6@gmail.com\n",
    "\n",
    "#### 1. I will be using the MNIST database. \n",
    "\n",
    "#### 2. I will be comparing the results of the 4 layer NN to a standard logistic regression"
   ]
  },
  {
   "cell_type": "markdown",
   "metadata": {
    "papermill": {
     "duration": 0.027739,
     "end_time": "2020-08-11T00:27:09.670347",
     "exception": false,
     "start_time": "2020-08-11T00:27:09.642608",
     "status": "completed"
    },
    "tags": []
   },
   "source": [
    "##### Importing all the necessary libraries"
   ]
  },
  {
   "cell_type": "code",
   "execution_count": 1,
   "metadata": {
    "execution": {
     "iopub.execute_input": "2020-08-11T00:27:09.734339Z",
     "iopub.status.busy": "2020-08-11T00:27:09.733699Z",
     "iopub.status.idle": "2020-08-11T00:27:09.745012Z",
     "shell.execute_reply": "2020-08-11T00:27:09.745475Z"
    },
    "papermill": {
     "duration": 0.046582,
     "end_time": "2020-08-11T00:27:09.745652",
     "exception": false,
     "start_time": "2020-08-11T00:27:09.699070",
     "status": "completed"
    },
    "tags": []
   },
   "outputs": [],
   "source": [
    "%load_ext autoreload\n",
    "%autoreload 2"
   ]
  },
  {
   "cell_type": "code",
   "execution_count": 2,
   "metadata": {
    "execution": {
     "iopub.execute_input": "2020-08-11T00:27:09.806100Z",
     "iopub.status.busy": "2020-08-11T00:27:09.805504Z",
     "iopub.status.idle": "2020-08-11T00:27:10.398664Z",
     "shell.execute_reply": "2020-08-11T00:27:10.397716Z"
    },
    "papermill": {
     "duration": 0.625156,
     "end_time": "2020-08-11T00:27:10.398903",
     "exception": false,
     "start_time": "2020-08-11T00:27:09.773747",
     "status": "completed"
    },
    "tags": []
   },
   "outputs": [],
   "source": [
    "%matplotlib inline\n",
    "import numpy as np\n",
    "import matplotlib.pyplot as plt\n",
    "import pandas as pd"
   ]
  },
  {
   "cell_type": "markdown",
   "metadata": {
    "papermill": {
     "duration": 0.027992,
     "end_time": "2020-08-11T00:27:10.464832",
     "exception": false,
     "start_time": "2020-08-11T00:27:10.436840",
     "status": "completed"
    },
    "tags": []
   },
   "source": [
    "##### The following command helps us download MNIST from notebook itself. You can skip this if you already have MNIST. You can also download it via your terminal."
   ]
  },
  {
   "cell_type": "code",
   "execution_count": 3,
   "metadata": {
    "execution": {
     "iopub.execute_input": "2020-08-11T00:27:10.524691Z",
     "iopub.status.busy": "2020-08-11T00:27:10.524082Z",
     "iopub.status.idle": "2020-08-11T00:27:12.022874Z",
     "shell.execute_reply": "2020-08-11T00:27:12.021940Z"
    },
    "papermill": {
     "duration": 1.530953,
     "end_time": "2020-08-11T00:27:12.023114",
     "exception": false,
     "start_time": "2020-08-11T00:27:10.492161",
     "status": "completed"
    },
    "tags": []
   },
   "outputs": [
    {
     "name": "stdout",
     "output_type": "stream",
     "text": [
      "Collecting mnist\r\n"
     ]
    },
    {
     "name": "stdout",
     "output_type": "stream",
     "text": [
      "  Downloading mnist-0.2.2-py2.py3-none-any.whl (3.5 kB)\r\n"
     ]
    },
    {
     "name": "stdout",
     "output_type": "stream",
     "text": [
      "Requirement already satisfied: numpy in /opt/hostedtoolcache/Python/3.6.11/x64/lib/python3.6/site-packages (from mnist) (1.19.1)\r\n"
     ]
    },
    {
     "name": "stdout",
     "output_type": "stream",
     "text": [
      "Installing collected packages: mnist\r\n"
     ]
    },
    {
     "name": "stdout",
     "output_type": "stream",
     "text": [
      "Successfully installed mnist-0.2.2\r\n"
     ]
    },
    {
     "name": "stdout",
     "output_type": "stream",
     "text": [
      "\u001b[33mWARNING: You are using pip version 20.2; however, version 20.2.1 is available.\r\n",
      "You should consider upgrading via the '/opt/hostedtoolcache/Python/3.6.11/x64/bin/python -m pip install --upgrade pip' command.\u001b[0m\r\n"
     ]
    }
   ],
   "source": [
    "!pip install mnist # Please note, it is commented out for now, you can remove comment if you want to install it"
   ]
  },
  {
   "cell_type": "markdown",
   "metadata": {
    "papermill": {
     "duration": 0.030307,
     "end_time": "2020-08-11T00:27:12.086993",
     "exception": false,
     "start_time": "2020-08-11T00:27:12.056686",
     "status": "completed"
    },
    "tags": []
   },
   "source": [
    "#### Preparing the Data"
   ]
  },
  {
   "cell_type": "code",
   "execution_count": 4,
   "metadata": {
    "execution": {
     "iopub.execute_input": "2020-08-11T00:27:12.152794Z",
     "iopub.status.busy": "2020-08-11T00:27:12.152196Z",
     "iopub.status.idle": "2020-08-11T00:27:12.169055Z",
     "shell.execute_reply": "2020-08-11T00:27:12.168205Z"
    },
    "papermill": {
     "duration": 0.052027,
     "end_time": "2020-08-11T00:27:12.169276",
     "exception": false,
     "start_time": "2020-08-11T00:27:12.117249",
     "status": "completed"
    },
    "tags": []
   },
   "outputs": [],
   "source": [
    "import mnist"
   ]
  },
  {
   "cell_type": "code",
   "execution_count": 5,
   "metadata": {
    "execution": {
     "iopub.execute_input": "2020-08-11T00:27:12.237114Z",
     "iopub.status.busy": "2020-08-11T00:27:12.236481Z",
     "iopub.status.idle": "2020-08-11T00:27:13.114621Z",
     "shell.execute_reply": "2020-08-11T00:27:13.113903Z"
    },
    "papermill": {
     "duration": 0.91551,
     "end_time": "2020-08-11T00:27:13.114823",
     "exception": false,
     "start_time": "2020-08-11T00:27:12.199313",
     "status": "completed"
    },
    "tags": []
   },
   "outputs": [],
   "source": [
    "train_images = mnist.train_images()\n",
    "train_labels = mnist.train_labels()"
   ]
  },
  {
   "cell_type": "code",
   "execution_count": 6,
   "metadata": {
    "execution": {
     "iopub.execute_input": "2020-08-11T00:27:13.181022Z",
     "iopub.status.busy": "2020-08-11T00:27:13.180425Z",
     "iopub.status.idle": "2020-08-11T00:27:13.195850Z",
     "shell.execute_reply": "2020-08-11T00:27:13.195328Z"
    },
    "papermill": {
     "duration": 0.048467,
     "end_time": "2020-08-11T00:27:13.195985",
     "exception": false,
     "start_time": "2020-08-11T00:27:13.147518",
     "status": "completed"
    },
    "tags": []
   },
   "outputs": [
    {
     "data": {
      "text/plain": [
       "((60000, 28, 28), (60000,))"
      ]
     },
     "execution_count": 6,
     "metadata": {},
     "output_type": "execute_result"
    }
   ],
   "source": [
    "train_images.shape, train_labels.shape"
   ]
  },
  {
   "cell_type": "code",
   "execution_count": 7,
   "metadata": {
    "execution": {
     "iopub.execute_input": "2020-08-11T00:27:13.260713Z",
     "iopub.status.busy": "2020-08-11T00:27:13.260114Z",
     "iopub.status.idle": "2020-08-11T00:27:13.536477Z",
     "shell.execute_reply": "2020-08-11T00:27:13.537083Z"
    },
    "papermill": {
     "duration": 0.311509,
     "end_time": "2020-08-11T00:27:13.537251",
     "exception": false,
     "start_time": "2020-08-11T00:27:13.225742",
     "status": "completed"
    },
    "tags": []
   },
   "outputs": [],
   "source": [
    "test_images = mnist.test_images()\n",
    "test_labels = mnist.test_labels()"
   ]
  },
  {
   "cell_type": "code",
   "execution_count": 8,
   "metadata": {
    "execution": {
     "iopub.execute_input": "2020-08-11T00:27:13.601913Z",
     "iopub.status.busy": "2020-08-11T00:27:13.601320Z",
     "iopub.status.idle": "2020-08-11T00:27:13.616776Z",
     "shell.execute_reply": "2020-08-11T00:27:13.616265Z"
    },
    "papermill": {
     "duration": 0.049738,
     "end_time": "2020-08-11T00:27:13.616909",
     "exception": false,
     "start_time": "2020-08-11T00:27:13.567171",
     "status": "completed"
    },
    "tags": []
   },
   "outputs": [
    {
     "data": {
      "text/plain": [
       "((10000, 28, 28), (10000,))"
      ]
     },
     "execution_count": 8,
     "metadata": {},
     "output_type": "execute_result"
    }
   ],
   "source": [
    "test_images.shape, test_labels.shape"
   ]
  },
  {
   "cell_type": "code",
   "execution_count": 9,
   "metadata": {
    "execution": {
     "iopub.execute_input": "2020-08-11T00:27:13.683672Z",
     "iopub.status.busy": "2020-08-11T00:27:13.683028Z",
     "iopub.status.idle": "2020-08-11T00:27:13.853743Z",
     "shell.execute_reply": "2020-08-11T00:27:13.854225Z"
    },
    "papermill": {
     "duration": 0.206491,
     "end_time": "2020-08-11T00:27:13.854419",
     "exception": false,
     "start_time": "2020-08-11T00:27:13.647928",
     "status": "completed"
    },
    "tags": []
   },
   "outputs": [
    {
     "name": "stdout",
     "output_type": "stream",
     "text": [
      "2\n"
     ]
    },
    {
     "data": {
      "text/plain": [
       "<matplotlib.image.AxesImage at 0x7f297028b2e8>"
      ]
     },
     "execution_count": 9,
     "metadata": {},
     "output_type": "execute_result"
    },
    {
     "data": {
      "image/png": "[encoded data removed]",
      "text/plain": [
       "<Figure size 432x288 with 1 Axes>"
      ]
     },
     "metadata": {
      "needs_background": "light"
     },
     "output_type": "display_data"
    }
   ],
   "source": [
    "image_index = 7776 # You may select anything up to 60,000\n",
    "print(train_labels[image_index]) \n",
    "plt.imshow(train_images[image_index], cmap='Greys')"
   ]
  },
  {
   "cell_type": "markdown",
   "metadata": {
    "papermill": {
     "duration": 0.036131,
     "end_time": "2020-08-11T00:27:13.922257",
     "exception": false,
     "start_time": "2020-08-11T00:27:13.886126",
     "status": "completed"
    },
    "tags": []
   },
   "source": [
    "## Filter data to get 3 and 8 out"
   ]
  },
  {
   "cell_type": "code",
   "execution_count": 10,
   "metadata": {
    "execution": {
     "iopub.execute_input": "2020-08-11T00:27:13.991706Z",
     "iopub.status.busy": "2020-08-11T00:27:13.991067Z",
     "iopub.status.idle": "2020-08-11T00:27:14.010878Z",
     "shell.execute_reply": "2020-08-11T00:27:14.010269Z"
    },
    "papermill": {
     "duration": 0.057288,
     "end_time": "2020-08-11T00:27:14.011014",
     "exception": false,
     "start_time": "2020-08-11T00:27:13.953726",
     "status": "completed"
    },
    "tags": []
   },
   "outputs": [],
   "source": [
    "train_filter = np.where((train_labels == 3 ) | (train_labels == 8))\n",
    "test_filter = np.where((test_labels == 3) | (test_labels == 8))\n",
    "X_train, y_train = train_images[train_filter], train_labels[train_filter]\n",
    "X_test, y_test = test_images[test_filter], test_labels[test_filter]"
   ]
  },
  {
   "cell_type": "markdown",
   "metadata": {
    "papermill": {
     "duration": 0.031379,
     "end_time": "2020-08-11T00:27:14.073854",
     "exception": false,
     "start_time": "2020-08-11T00:27:14.042475",
     "status": "completed"
    },
    "tags": []
   },
   "source": [
    "##### We normalize the pizel values in the 0 to 1 range"
   ]
  },
  {
   "cell_type": "code",
   "execution_count": 11,
   "metadata": {
    "execution": {
     "iopub.execute_input": "2020-08-11T00:27:14.146457Z",
     "iopub.status.busy": "2020-08-11T00:27:14.145077Z",
     "iopub.status.idle": "2020-08-11T00:27:14.200967Z",
     "shell.execute_reply": "2020-08-11T00:27:14.200032Z"
    },
    "papermill": {
     "duration": 0.092413,
     "end_time": "2020-08-11T00:27:14.201185",
     "exception": false,
     "start_time": "2020-08-11T00:27:14.108772",
     "status": "completed"
    },
    "tags": []
   },
   "outputs": [],
   "source": [
    "X_train = X_train/255.\n",
    "X_test = X_test/255."
   ]
  },
  {
   "cell_type": "markdown",
   "metadata": {
    "papermill": {
     "duration": 0.031654,
     "end_time": "2020-08-11T00:27:14.264895",
     "exception": false,
     "start_time": "2020-08-11T00:27:14.233241",
     "status": "completed"
    },
    "tags": []
   },
   "source": [
    "And setup the labels as 1 (when the digit is 3) and 0 (when the digit is 8)"
   ]
  },
  {
   "cell_type": "code",
   "execution_count": 12,
   "metadata": {
    "execution": {
     "iopub.execute_input": "2020-08-11T00:27:14.332221Z",
     "iopub.status.busy": "2020-08-11T00:27:14.331634Z",
     "iopub.status.idle": "2020-08-11T00:27:14.346765Z",
     "shell.execute_reply": "2020-08-11T00:27:14.346225Z"
    },
    "papermill": {
     "duration": 0.050902,
     "end_time": "2020-08-11T00:27:14.346904",
     "exception": false,
     "start_time": "2020-08-11T00:27:14.296002",
     "status": "completed"
    },
    "tags": []
   },
   "outputs": [],
   "source": [
    "y_train = 1*(y_train==3)\n",
    "y_test = 1*(y_test==3)"
   ]
  },
  {
   "cell_type": "code",
   "execution_count": 13,
   "metadata": {
    "execution": {
     "iopub.execute_input": "2020-08-11T00:27:14.414700Z",
     "iopub.status.busy": "2020-08-11T00:27:14.414060Z",
     "iopub.status.idle": "2020-08-11T00:27:14.429224Z",
     "shell.execute_reply": "2020-08-11T00:27:14.428706Z"
    },
    "papermill": {
     "duration": 0.051101,
     "end_time": "2020-08-11T00:27:14.429355",
     "exception": false,
     "start_time": "2020-08-11T00:27:14.378254",
     "status": "completed"
    },
    "tags": []
   },
   "outputs": [
    {
     "data": {
      "text/plain": [
       "((11982, 28, 28), (1984, 28, 28))"
      ]
     },
     "execution_count": 13,
     "metadata": {},
     "output_type": "execute_result"
    }
   ],
   "source": [
    "X_train.shape, X_test.shape"
   ]
  },
  {
   "cell_type": "markdown",
   "metadata": {
    "papermill": {
     "duration": 0.031668,
     "end_time": "2020-08-11T00:27:14.492581",
     "exception": false,
     "start_time": "2020-08-11T00:27:14.460913",
     "status": "completed"
    },
    "tags": []
   },
   "source": [
    "##### We reshape the data to flatten the image pixels into a set of features or co-variates:"
   ]
  },
  {
   "cell_type": "code",
   "execution_count": 14,
   "metadata": {
    "execution": {
     "iopub.execute_input": "2020-08-11T00:27:14.560764Z",
     "iopub.status.busy": "2020-08-11T00:27:14.560140Z",
     "iopub.status.idle": "2020-08-11T00:27:14.576008Z",
     "shell.execute_reply": "2020-08-11T00:27:14.575483Z"
    },
    "papermill": {
     "duration": 0.05181,
     "end_time": "2020-08-11T00:27:14.576145",
     "exception": false,
     "start_time": "2020-08-11T00:27:14.524335",
     "status": "completed"
    },
    "tags": []
   },
   "outputs": [
    {
     "data": {
      "text/plain": [
       "((11982, 784), (1984, 784))"
      ]
     },
     "execution_count": 14,
     "metadata": {},
     "output_type": "execute_result"
    }
   ],
   "source": [
    "X_train = X_train.reshape(X_train.shape[0], -1)\n",
    "X_test = X_test.reshape(X_test.shape[0], -1)\n",
    "X_train.shape, X_test.shape"
   ]
  },
  {
   "cell_type": "markdown",
   "metadata": {
    "papermill": {
     "duration": 0.031797,
     "end_time": "2020-08-11T00:27:14.640263",
     "exception": false,
     "start_time": "2020-08-11T00:27:14.608466",
     "status": "completed"
    },
    "tags": []
   },
   "source": [
    "##### Importing Kudzu library and its functionality"
   ]
  },
  {
   "cell_type": "code",
   "execution_count": 15,
   "metadata": {
    "execution": {
     "iopub.execute_input": "2020-08-11T00:27:14.710899Z",
     "iopub.status.busy": "2020-08-11T00:27:14.710238Z",
     "iopub.status.idle": "2020-08-11T00:27:14.730213Z",
     "shell.execute_reply": "2020-08-11T00:27:14.729706Z"
    },
    "papermill": {
     "duration": 0.057827,
     "end_time": "2020-08-11T00:27:14.730376",
     "exception": false,
     "start_time": "2020-08-11T00:27:14.672549",
     "status": "completed"
    },
    "tags": []
   },
   "outputs": [],
   "source": [
    "from kudzu.data import Data, Dataloader, Sampler\n",
    "from kudzu.callbacks import AccCallback\n",
    "from kudzu.loss import MSE\n",
    "from kudzu.layer import Affine, Sigmoid\n",
    "from kudzu.model import Model\n",
    "from kudzu.optim import GD\n",
    "from kudzu.train import Learner\n",
    "from kudzu.callbacks import ClfCallback\n",
    "from kudzu.layer import Sigmoid\n",
    "from kudzu.layer import Relu"
   ]
  },
  {
   "cell_type": "markdown",
   "metadata": {
    "papermill": {
     "duration": 0.032618,
     "end_time": "2020-08-11T00:27:14.794716",
     "exception": false,
     "start_time": "2020-08-11T00:27:14.762098",
     "status": "completed"
    },
    "tags": []
   },
   "source": [
    "##### We are creating a class, just so that we can use it to store our parameters for us"
   ]
  },
  {
   "cell_type": "code",
   "execution_count": 16,
   "metadata": {
    "execution": {
     "iopub.execute_input": "2020-08-11T00:27:14.864480Z",
     "iopub.status.busy": "2020-08-11T00:27:14.863861Z",
     "iopub.status.idle": "2020-08-11T00:27:14.879710Z",
     "shell.execute_reply": "2020-08-11T00:27:14.879196Z"
    },
    "papermill": {
     "duration": 0.052951,
     "end_time": "2020-08-11T00:27:14.879847",
     "exception": false,
     "start_time": "2020-08-11T00:27:14.826896",
     "status": "completed"
    },
    "tags": []
   },
   "outputs": [],
   "source": [
    "class Config:\n",
    "    pass\n",
    "config = Config()\n",
    "config.lr = 0.001\n",
    "config.num_epochs = 250\n",
    "config.bs = 50"
   ]
  },
  {
   "cell_type": "markdown",
   "metadata": {
    "papermill": {
     "duration": 0.031694,
     "end_time": "2020-08-11T00:27:14.943672",
     "exception": false,
     "start_time": "2020-08-11T00:27:14.911978",
     "status": "completed"
    },
    "tags": []
   },
   "source": [
    "##### Initializing Data"
   ]
  },
  {
   "cell_type": "code",
   "execution_count": 17,
   "metadata": {
    "execution": {
     "iopub.execute_input": "2020-08-11T00:27:15.013473Z",
     "iopub.status.busy": "2020-08-11T00:27:15.012870Z",
     "iopub.status.idle": "2020-08-11T00:27:15.025749Z",
     "shell.execute_reply": "2020-08-11T00:27:15.026201Z"
    },
    "papermill": {
     "duration": 0.050654,
     "end_time": "2020-08-11T00:27:15.026422",
     "exception": false,
     "start_time": "2020-08-11T00:27:14.975768",
     "status": "completed"
    },
    "tags": []
   },
   "outputs": [],
   "source": [
    "data = Data(X_train, y_train.reshape(-1,1))\n",
    "loss = MSE()\n",
    "opt = GD(config.lr)\n",
    "sampler = Sampler(data, config.bs, shuffle=True)\n",
    "dl = Dataloader(data, sampler)"
   ]
  },
  {
   "cell_type": "markdown",
   "metadata": {
    "papermill": {
     "duration": 0.031616,
     "end_time": "2020-08-11T00:27:15.089998",
     "exception": false,
     "start_time": "2020-08-11T00:27:15.058382",
     "status": "completed"
    },
    "tags": []
   },
   "source": [
    "##### Constructing 2 different layers, one for NN and one only for logistic regression."
   ]
  },
  {
   "cell_type": "markdown",
   "metadata": {
    "papermill": {
     "duration": 0.031805,
     "end_time": "2020-08-11T00:27:15.153549",
     "exception": false,
     "start_time": "2020-08-11T00:27:15.121744",
     "status": "completed"
    },
    "tags": []
   },
   "source": [
    "##### Creating containers for data to be passed, to calculate accuracies"
   ]
  },
  {
   "cell_type": "code",
   "execution_count": 18,
   "metadata": {
    "execution": {
     "iopub.execute_input": "2020-08-11T00:27:15.223242Z",
     "iopub.status.busy": "2020-08-11T00:27:15.222615Z",
     "iopub.status.idle": "2020-08-11T00:27:15.236477Z",
     "shell.execute_reply": "2020-08-11T00:27:15.236933Z"
    },
    "papermill": {
     "duration": 0.051393,
     "end_time": "2020-08-11T00:27:15.237092",
     "exception": false,
     "start_time": "2020-08-11T00:27:15.185699",
     "status": "completed"
    },
    "tags": []
   },
   "outputs": [],
   "source": [
    "training_xdata = X_train\n",
    "testing_xdata = X_test\n",
    "training_ydata = y_train.reshape(-1,1)\n",
    "testing_ydata = y_test.reshape(-1,1)"
   ]
  },
  {
   "cell_type": "markdown",
   "metadata": {
    "papermill": {
     "duration": 0.031913,
     "end_time": "2020-08-11T00:27:15.301091",
     "exception": false,
     "start_time": "2020-08-11T00:27:15.269178",
     "status": "completed"
    },
    "tags": []
   },
   "source": [
    "##### Initializing models and Running training loop: "
   ]
  },
  {
   "cell_type": "code",
   "execution_count": 19,
   "metadata": {
    "execution": {
     "iopub.execute_input": "2020-08-11T00:27:15.378861Z",
     "iopub.status.busy": "2020-08-11T00:27:15.378193Z",
     "iopub.status.idle": "2020-08-11T00:27:15.398146Z",
     "shell.execute_reply": "2020-08-11T00:27:15.397594Z"
    },
    "papermill": {
     "duration": 0.058458,
     "end_time": "2020-08-11T00:27:15.398281",
     "exception": false,
     "start_time": "2020-08-11T00:27:15.339823",
     "status": "completed"
    },
    "tags": []
   },
   "outputs": [],
   "source": [
    "layers = [Affine(\"first\", 784, 100), Relu(\"first\"), Affine(\"second\", 100, 100), Relu(\"second\"), Affine(\"third\", 100, 2), Affine(\"final\", 2, 1), Sigmoid(\"final\")]\n",
    "\n",
    "model_neural = Model(layers)\n",
    "model_logistic = Model([Affine(\"logits\", 784, 1), Sigmoid(\"sigmoid\")])"
   ]
  },
  {
   "cell_type": "code",
   "execution_count": 20,
   "metadata": {
    "execution": {
     "iopub.execute_input": "2020-08-11T00:27:15.478931Z",
     "iopub.status.busy": "2020-08-11T00:27:15.477406Z",
     "iopub.status.idle": "2020-08-11T00:27:15.492304Z",
     "shell.execute_reply": "2020-08-11T00:27:15.491149Z"
    },
    "papermill": {
     "duration": 0.052503,
     "end_time": "2020-08-11T00:27:15.492450",
     "exception": false,
     "start_time": "2020-08-11T00:27:15.439947",
     "status": "completed"
    },
    "tags": []
   },
   "outputs": [],
   "source": [
    "learner1 = Learner(loss, model_neural, opt, config.num_epochs)\n",
    "acc1 = ClfCallback(learner1, config.bs, training_xdata , testing_xdata, training_ydata, testing_ydata)\n",
    "learner1.set_callbacks([acc1])"
   ]
  },
  {
   "cell_type": "code",
   "execution_count": 21,
   "metadata": {
    "execution": {
     "iopub.execute_input": "2020-08-11T00:27:15.565694Z",
     "iopub.status.busy": "2020-08-11T00:27:15.560568Z",
     "iopub.status.idle": "2020-08-11T00:28:42.441965Z",
     "shell.execute_reply": "2020-08-11T00:28:42.442782Z"
    },
    "papermill": {
     "duration": 86.918713,
     "end_time": "2020-08-11T00:28:42.442952",
     "exception": false,
     "start_time": "2020-08-11T00:27:15.524239",
     "status": "completed"
    },
    "tags": []
   },
   "outputs": [
    {
     "name": "stdout",
     "output_type": "stream",
     "text": [
      "Epoch 0 Loss 0.20410462634943374\n",
      "train accuracy is: 0.814805541645802, test accuracy is 0.8371975806451613\n"
     ]
    },
    {
     "name": "stdout",
     "output_type": "stream",
     "text": [
      "Epoch 10 Loss 0.05805483207661552\n",
      "train accuracy is: 0.9408279085294609, test accuracy is 0.952116935483871\n"
     ]
    },
    {
     "name": "stdout",
     "output_type": "stream",
     "text": [
      "Epoch 20 Loss 0.04156939279357477\n",
      "train accuracy is: 0.9548489400767819, test accuracy is 0.9632056451612904\n"
     ]
    },
    {
     "name": "stdout",
     "output_type": "stream",
     "text": [
      "Epoch 30 Loss 0.03501823253083362\n",
      "train accuracy is: 0.9605241195126022, test accuracy is 0.9652217741935484\n"
     ]
    },
    {
     "name": "stdout",
     "output_type": "stream",
     "text": [
      "Epoch 40 Loss 0.031257585062908294\n",
      "train accuracy is: 0.9647805040894676, test accuracy is 0.96875\n"
     ]
    },
    {
     "name": "stdout",
     "output_type": "stream",
     "text": [
      "Epoch 50 Loss 0.028678229409237907\n",
      "train accuracy is: 0.9679519278918377, test accuracy is 0.9707661290322581\n"
     ]
    },
    {
     "name": "stdout",
     "output_type": "stream",
     "text": [
      "Epoch 60 Loss 0.026729704582924448\n",
      "train accuracy is: 0.9701218494408279, test accuracy is 0.9702620967741935\n"
     ]
    },
    {
     "name": "stdout",
     "output_type": "stream",
     "text": [
      "Epoch 70 Loss 0.025188007224835166\n",
      "train accuracy is: 0.971791019863128, test accuracy is 0.9712701612903226\n"
     ]
    },
    {
     "name": "stdout",
     "output_type": "stream",
     "text": [
      "Epoch 80 Loss 0.023915960083534152\n",
      "train accuracy is: 0.9731263562009681, test accuracy is 0.9702620967741935\n"
     ]
    },
    {
     "name": "stdout",
     "output_type": "stream",
     "text": [
      "Epoch 90 Loss 0.022826628379081424\n",
      "train accuracy is: 0.9740443999332332, test accuracy is 0.9717741935483871\n"
     ]
    },
    {
     "name": "stdout",
     "output_type": "stream",
     "text": [
      "Epoch 100 Loss 0.021870361280417507\n",
      "train accuracy is: 0.9751293607077283, test accuracy is 0.9717741935483871\n"
     ]
    },
    {
     "name": "stdout",
     "output_type": "stream",
     "text": [
      "Epoch 110 Loss 0.02100679131305344\n",
      "train accuracy is: 0.9761308629611083, test accuracy is 0.9722782258064516\n"
     ]
    },
    {
     "name": "stdout",
     "output_type": "stream",
     "text": [
      "Epoch 120 Loss 0.020238893465015607\n",
      "train accuracy is: 0.9767985311300283, test accuracy is 0.9727822580645161\n"
     ]
    },
    {
     "name": "stdout",
     "output_type": "stream",
     "text": [
      "Epoch 130 Loss 0.019528597526370994\n",
      "train accuracy is: 0.9777165748622935, test accuracy is 0.9737903225806451\n"
     ]
    },
    {
     "name": "stdout",
     "output_type": "stream",
     "text": [
      "Epoch 140 Loss 0.018874321474623014\n",
      "train accuracy is: 0.9786346185945585, test accuracy is 0.9747983870967742\n"
     ]
    },
    {
     "name": "stdout",
     "output_type": "stream",
     "text": [
      "Epoch 150 Loss 0.01826201252922598\n",
      "train accuracy is: 0.9795526623268236, test accuracy is 0.9747983870967742\n"
     ]
    },
    {
     "name": "stdout",
     "output_type": "stream",
     "text": [
      "Epoch 160 Loss 0.0176882325732156\n",
      "train accuracy is: 0.9798864964112836, test accuracy is 0.9758064516129032\n"
     ]
    },
    {
     "name": "stdout",
     "output_type": "stream",
     "text": [
      "Epoch 170 Loss 0.017153469993540046\n",
      "train accuracy is: 0.9813887497913537, test accuracy is 0.9758064516129032\n"
     ]
    },
    {
     "name": "stdout",
     "output_type": "stream",
     "text": [
      "Epoch 180 Loss 0.016651540589655577\n",
      "train accuracy is: 0.9818060423969287, test accuracy is 0.9763104838709677\n"
     ]
    },
    {
     "name": "stdout",
     "output_type": "stream",
     "text": [
      "Epoch 190 Loss 0.016177532472523216\n",
      "train accuracy is: 0.9828910031714237, test accuracy is 0.9768145161290323\n"
     ]
    },
    {
     "name": "stdout",
     "output_type": "stream",
     "text": [
      "Epoch 200 Loss 0.015721596154410423\n",
      "train accuracy is: 0.9831413787347688, test accuracy is 0.9773185483870968\n"
     ]
    },
    {
     "name": "stdout",
     "output_type": "stream",
     "text": [
      "Epoch 210 Loss 0.01529904981424992\n",
      "train accuracy is: 0.9842263395092639, test accuracy is 0.9783266129032258\n"
     ]
    },
    {
     "name": "stdout",
     "output_type": "stream",
     "text": [
      "Epoch 220 Loss 0.014882802456868505\n",
      "train accuracy is: 0.9849774661992989, test accuracy is 0.9788306451612904\n"
     ]
    },
    {
     "name": "stdout",
     "output_type": "stream",
     "text": [
      "Epoch 230 Loss 0.014497699243448407\n",
      "train accuracy is: 0.9853947588048739, test accuracy is 0.9798387096774194\n"
     ]
    },
    {
     "name": "stdout",
     "output_type": "stream",
     "text": [
      "Epoch 240 Loss 0.014121829707921075\n",
      "train accuracy is: 0.985645134368219, test accuracy is 0.9803427419354839\n"
     ]
    },
    {
     "data": {
      "text/plain": [
       "0.04130927328513475"
      ]
     },
     "execution_count": 21,
     "metadata": {},
     "output_type": "execute_result"
    }
   ],
   "source": [
    "learner1.train_loop(dl)"
   ]
  },
  {
   "cell_type": "markdown",
   "metadata": {
    "papermill": {
     "duration": 0.039524,
     "end_time": "2020-08-11T00:28:42.522205",
     "exception": false,
     "start_time": "2020-08-11T00:28:42.482681",
     "status": "completed"
    },
    "tags": []
   },
   "source": [
    "##### Now running only the logistic regression based classification to compare results with NN"
   ]
  },
  {
   "cell_type": "code",
   "execution_count": 22,
   "metadata": {
    "execution": {
     "iopub.execute_input": "2020-08-11T00:28:42.609056Z",
     "iopub.status.busy": "2020-08-11T00:28:42.608230Z",
     "iopub.status.idle": "2020-08-11T00:28:42.618519Z",
     "shell.execute_reply": "2020-08-11T00:28:42.617939Z"
    },
    "papermill": {
     "duration": 0.057057,
     "end_time": "2020-08-11T00:28:42.618664",
     "exception": false,
     "start_time": "2020-08-11T00:28:42.561607",
     "status": "completed"
    },
    "tags": []
   },
   "outputs": [],
   "source": [
    "learner2 = Learner(loss, model_logistic, opt, config.num_epochs)\n",
    "acc2 = ClfCallback(learner2, config.bs, training_xdata , testing_xdata, training_ydata, testing_ydata)\n",
    "learner2.set_callbacks([acc2])"
   ]
  },
  {
   "cell_type": "code",
   "execution_count": 23,
   "metadata": {
    "execution": {
     "iopub.execute_input": "2020-08-11T00:28:42.708661Z",
     "iopub.status.busy": "2020-08-11T00:28:42.706571Z",
     "iopub.status.idle": "2020-08-11T00:28:58.295580Z",
     "shell.execute_reply": "2020-08-11T00:28:58.296057Z"
    },
    "papermill": {
     "duration": 15.637716,
     "end_time": "2020-08-11T00:28:58.296213",
     "exception": false,
     "start_time": "2020-08-11T00:28:42.658497",
     "status": "completed"
    },
    "tags": []
   },
   "outputs": [
    {
     "name": "stdout",
     "output_type": "stream",
     "text": [
      "Epoch 0 Loss 0.21557740054602087\n",
      "train accuracy is: 0.7701552328492739, test accuracy is 0.7772177419354839\n"
     ]
    },
    {
     "name": "stdout",
     "output_type": "stream",
     "text": [
      "Epoch 10 Loss 0.09985831185683199\n",
      "train accuracy is: 0.913036220998164, test accuracy is 0.9309475806451613\n"
     ]
    },
    {
     "name": "stdout",
     "output_type": "stream",
     "text": [
      "Epoch 20 Loss 0.0778444388319554\n",
      "train accuracy is: 0.92997830078451, test accuracy is 0.9435483870967742\n"
     ]
    },
    {
     "name": "stdout",
     "output_type": "stream",
     "text": [
      "Epoch 30 Loss 0.06750004029629977\n",
      "train accuracy is: 0.9380737773326656, test accuracy is 0.9480846774193549\n"
     ]
    },
    {
     "name": "stdout",
     "output_type": "stream",
     "text": [
      "Epoch 40 Loss 0.06120374678446995\n",
      "train accuracy is: 0.9418294107828409, test accuracy is 0.953125\n"
     ]
    },
    {
     "name": "stdout",
     "output_type": "stream",
     "text": [
      "Epoch 50 Loss 0.05687165731846525\n",
      "train accuracy is: 0.9459188783174762, test accuracy is 0.9566532258064516\n"
     ]
    },
    {
     "name": "stdout",
     "output_type": "stream",
     "text": [
      "Epoch 60 Loss 0.053665269449636954\n",
      "train accuracy is: 0.9476715072608913, test accuracy is 0.9596774193548387\n"
     ]
    },
    {
     "name": "stdout",
     "output_type": "stream",
     "text": [
      "Epoch 70 Loss 0.05117228250700006\n",
      "train accuracy is: 0.9493406776831914, test accuracy is 0.9606854838709677\n"
     ]
    },
    {
     "name": "stdout",
     "output_type": "stream",
     "text": [
      "Epoch 80 Loss 0.049163776103530815\n",
      "train accuracy is: 0.9513436821899516, test accuracy is 0.9621975806451613\n"
     ]
    },
    {
     "name": "stdout",
     "output_type": "stream",
     "text": [
      "Epoch 90 Loss 0.047503345286396444\n",
      "train accuracy is: 0.9525955600066767, test accuracy is 0.9627016129032258\n"
     ]
    },
    {
     "name": "stdout",
     "output_type": "stream",
     "text": [
      "Epoch 100 Loss 0.046099906109399805\n",
      "train accuracy is: 0.9532632281755967, test accuracy is 0.9627016129032258\n"
     ]
    },
    {
     "name": "stdout",
     "output_type": "stream",
     "text": [
      "Epoch 110 Loss 0.044894209025419414\n",
      "train accuracy is: 0.9547654815556669, test accuracy is 0.9642137096774194\n"
     ]
    },
    {
     "name": "stdout",
     "output_type": "stream",
     "text": [
      "Epoch 120 Loss 0.043843309320488515\n",
      "train accuracy is: 0.9553496912034719, test accuracy is 0.9637096774193549\n"
     ]
    },
    {
     "name": "stdout",
     "output_type": "stream",
     "text": [
      "Epoch 130 Loss 0.04291638692269919\n",
      "train accuracy is: 0.956100817893507, test accuracy is 0.9632056451612904\n"
     ]
    },
    {
     "name": "stdout",
     "output_type": "stream",
     "text": [
      "Epoch 140 Loss 0.04209063356791397\n",
      "train accuracy is: 0.9562677349357369, test accuracy is 0.9652217741935484\n"
     ]
    },
    {
     "name": "stdout",
     "output_type": "stream",
     "text": [
      "Epoch 150 Loss 0.041348906347431935\n",
      "train accuracy is: 0.956685027541312, test accuracy is 0.9657258064516129\n"
     ]
    },
    {
     "name": "stdout",
     "output_type": "stream",
     "text": [
      "Epoch 160 Loss 0.04067782237278163\n",
      "train accuracy is: 0.956851944583542, test accuracy is 0.9652217741935484\n"
     ]
    },
    {
     "name": "stdout",
     "output_type": "stream",
     "text": [
      "Epoch 170 Loss 0.040066780704067766\n",
      "train accuracy is: 0.957185778668002, test accuracy is 0.9662298387096774\n"
     ]
    },
    {
     "name": "stdout",
     "output_type": "stream",
     "text": [
      "Epoch 180 Loss 0.03950700731444625\n",
      "train accuracy is: 0.957436154231347, test accuracy is 0.9662298387096774\n"
     ]
    },
    {
     "name": "stdout",
     "output_type": "stream",
     "text": [
      "Epoch 190 Loss 0.0389913792019226\n",
      "train accuracy is: 0.9579369053580371, test accuracy is 0.9662298387096774\n"
     ]
    },
    {
     "name": "stdout",
     "output_type": "stream",
     "text": [
      "Epoch 200 Loss 0.03851530362371736\n",
      "train accuracy is: 0.9587714905691871, test accuracy is 0.9667338709677419\n"
     ]
    },
    {
     "name": "stdout",
     "output_type": "stream",
     "text": [
      "Epoch 210 Loss 0.038072626543479135\n",
      "train accuracy is: 0.9592722416958771, test accuracy is 0.9667338709677419\n"
     ]
    },
    {
     "name": "stdout",
     "output_type": "stream",
     "text": [
      "Epoch 220 Loss 0.037660006608135566\n",
      "train accuracy is: 0.9598564513436821, test accuracy is 0.9662298387096774\n"
     ]
    },
    {
     "name": "stdout",
     "output_type": "stream",
     "text": [
      "Epoch 230 Loss 0.03727455715374872\n",
      "train accuracy is: 0.9601902854281422, test accuracy is 0.9657258064516129\n"
     ]
    },
    {
     "name": "stdout",
     "output_type": "stream",
     "text": [
      "Epoch 240 Loss 0.036913692994255246\n",
      "train accuracy is: 0.9604406609914873, test accuracy is 0.9657258064516129\n"
     ]
    },
    {
     "data": {
      "text/plain": [
       "0.02802143022478443"
      ]
     },
     "execution_count": 23,
     "metadata": {},
     "output_type": "execute_result"
    }
   ],
   "source": [
    "learner2.train_loop(dl)"
   ]
  },
  {
   "cell_type": "markdown",
   "metadata": {
    "papermill": {
     "duration": 0.04853,
     "end_time": "2020-08-11T00:28:58.392830",
     "exception": false,
     "start_time": "2020-08-11T00:28:58.344300",
     "status": "completed"
    },
    "tags": []
   },
   "source": [
    "### Comparing results of NN and LR"
   ]
  },
  {
   "cell_type": "code",
   "execution_count": 24,
   "metadata": {
    "execution": {
     "iopub.execute_input": "2020-08-11T00:28:58.493475Z",
     "iopub.status.busy": "2020-08-11T00:28:58.492844Z",
     "iopub.status.idle": "2020-08-11T00:28:58.725740Z",
     "shell.execute_reply": "2020-08-11T00:28:58.726230Z"
    },
    "papermill": {
     "duration": 0.285962,
     "end_time": "2020-08-11T00:28:58.726409",
     "exception": false,
     "start_time": "2020-08-11T00:28:58.440447",
     "status": "completed"
    },
    "tags": []
   },
   "outputs": [
    {
     "data": {
      "text/plain": [
       "<matplotlib.legend.Legend at 0x7f296fe64a20>"
      ]
     },
     "execution_count": 24,
     "metadata": {},
     "output_type": "execute_result"
    },
    {
     "data": {
      "image/png": "[encoded data removed]",
      "text/plain": [
       "<Figure size 576x360 with 1 Axes>"
      ]
     },
     "metadata": {
      "needs_background": "light"
     },
     "output_type": "display_data"
    }
   ],
   "source": [
    "plt.figure(figsize=(8,5))\n",
    "plt.plot(acc1.val_accuracies, 'g-', label = \"Val Accuracies - NN\")\n",
    "plt.plot(acc1.accuracies, 'r-', label = \"Accuracies - NN\")\n",
    "plt.plot(acc2.val_accuracies, 'b-', label = \"Val Accuracies - Logistic Reg\")\n",
    "plt.plot(acc2.accuracies, 'k-', label = \"Accuracies - Logistic Reg\")\n",
    "plt.ylim(0.8,1) ## for a more spread out view\n",
    "plt.legend()"
   ]
  },
  {
   "cell_type": "markdown",
   "metadata": {
    "papermill": {
     "duration": 0.04831,
     "end_time": "2020-08-11T00:28:58.823347",
     "exception": false,
     "start_time": "2020-08-11T00:28:58.775037",
     "status": "completed"
    },
    "tags": []
   },
   "source": [
    "### Clearly NN has a better accuracy over LR; NN is overfitting - Validation accuracy (green) has dropped below training accuracy (orange), also they are diverging. This problem is not seen in LR"
   ]
  },
  {
   "cell_type": "markdown",
   "metadata": {
    "papermill": {
     "duration": 0.048041,
     "end_time": "2020-08-11T00:28:58.920517",
     "exception": false,
     "start_time": "2020-08-11T00:28:58.872476",
     "status": "completed"
    },
    "tags": []
   },
   "source": [
    "##### Now we will be moving through the network, till the output of the second last affine where we get a 2 dimensional output. We will be plotting this 2d output and probability contours"
   ]
  },
  {
   "cell_type": "code",
   "execution_count": 25,
   "metadata": {
    "execution": {
     "iopub.execute_input": "2020-08-11T00:28:59.022442Z",
     "iopub.status.busy": "2020-08-11T00:28:59.021797Z",
     "iopub.status.idle": "2020-08-11T00:28:59.034367Z",
     "shell.execute_reply": "2020-08-11T00:28:59.033866Z"
    },
    "papermill": {
     "duration": 0.063594,
     "end_time": "2020-08-11T00:28:59.034496",
     "exception": false,
     "start_time": "2020-08-11T00:28:58.970902",
     "status": "completed"
    },
    "tags": []
   },
   "outputs": [],
   "source": [
    "model_new = Model(layers[:-2])"
   ]
  },
  {
   "cell_type": "code",
   "execution_count": 26,
   "metadata": {
    "execution": {
     "iopub.execute_input": "2020-08-11T00:28:59.135105Z",
     "iopub.status.busy": "2020-08-11T00:28:59.134484Z",
     "iopub.status.idle": "2020-08-11T00:28:59.157262Z",
     "shell.execute_reply": "2020-08-11T00:28:59.158028Z"
    },
    "papermill": {
     "duration": 0.07606,
     "end_time": "2020-08-11T00:28:59.158192",
     "exception": false,
     "start_time": "2020-08-11T00:28:59.082132",
     "status": "completed"
    },
    "tags": []
   },
   "outputs": [],
   "source": [
    "plot_testing = model_new(testing_xdata)"
   ]
  },
  {
   "cell_type": "markdown",
   "metadata": {
    "papermill": {
     "duration": 0.048436,
     "end_time": "2020-08-11T00:28:59.255597",
     "exception": false,
     "start_time": "2020-08-11T00:28:59.207161",
     "status": "completed"
    },
    "tags": []
   },
   "source": [
    "##### Plotting the scatter plot of points and color coding by class"
   ]
  },
  {
   "cell_type": "code",
   "execution_count": 27,
   "metadata": {
    "execution": {
     "iopub.execute_input": "2020-08-11T00:28:59.393077Z",
     "iopub.status.busy": "2020-08-11T00:28:59.392350Z",
     "iopub.status.idle": "2020-08-11T00:28:59.597526Z",
     "shell.execute_reply": "2020-08-11T00:28:59.597013Z"
    },
    "papermill": {
     "duration": 0.293189,
     "end_time": "2020-08-11T00:28:59.597670",
     "exception": false,
     "start_time": "2020-08-11T00:28:59.304481",
     "status": "completed"
    },
    "tags": []
   },
   "outputs": [
    {
     "data": {
      "image/png": "[encoded data removed]",
      "text/plain": [
       "<Figure size 576x504 with 1 Axes>"
      ]
     },
     "metadata": {
      "needs_background": "light"
     },
     "output_type": "display_data"
    }
   ],
   "source": [
    "plt.figure(figsize=(8,7))\n",
    "plt.scatter(plot_testing[:,0], plot_testing[:,1], alpha = 0.1, c = y_test.ravel());"
   ]
  },
  {
   "cell_type": "markdown",
   "metadata": {
    "papermill": {
     "duration": 0.050019,
     "end_time": "2020-08-11T00:28:59.697743",
     "exception": false,
     "start_time": "2020-08-11T00:28:59.647724",
     "status": "completed"
    },
    "tags": []
   },
   "source": [
    "##### Plotting probability contours"
   ]
  },
  {
   "cell_type": "code",
   "execution_count": 28,
   "metadata": {
    "execution": {
     "iopub.execute_input": "2020-08-11T00:28:59.807559Z",
     "iopub.status.busy": "2020-08-11T00:28:59.801753Z",
     "iopub.status.idle": "2020-08-11T00:28:59.814010Z",
     "shell.execute_reply": "2020-08-11T00:28:59.814552Z"
    },
    "papermill": {
     "duration": 0.066986,
     "end_time": "2020-08-11T00:28:59.814719",
     "exception": false,
     "start_time": "2020-08-11T00:28:59.747733",
     "status": "completed"
    },
    "tags": []
   },
   "outputs": [],
   "source": [
    "model_prob = Model(layers[-2:]) ## picking only last two layers to get probability. That is affine followed by sigmoid"
   ]
  },
  {
   "cell_type": "code",
   "execution_count": 29,
   "metadata": {
    "execution": {
     "iopub.execute_input": "2020-08-11T00:28:59.921600Z",
     "iopub.status.busy": "2020-08-11T00:28:59.920528Z",
     "iopub.status.idle": "2020-08-11T00:28:59.936446Z",
     "shell.execute_reply": "2020-08-11T00:28:59.936943Z"
    },
    "papermill": {
     "duration": 0.071244,
     "end_time": "2020-08-11T00:28:59.937100",
     "exception": false,
     "start_time": "2020-08-11T00:28:59.865856",
     "status": "completed"
    },
    "tags": []
   },
   "outputs": [],
   "source": [
    "xgrid = np.linspace(-4, 1, 100) ## Adjust these values based on above chart, roughly -4 to 1\n",
    "ygrid = np.linspace(-7.5, 7.5, 100) ## Adjust these values based on above chart, roughly -7.5, 7.5\n",
    "xg, yg = np.meshgrid(xgrid, ygrid)\n",
    "# xg and yg are now both 100X100, lets convert them to single arrays \n",
    "\n",
    "xg_interim = np.ravel(xg)\n",
    "yg_interim = np.ravel(yg)\n",
    "\n",
    "## xg_interim, yg_interim are now arrays of len 10000, now we will stack them and then transpose to get desired shape of n rows, 2 columns\n",
    "\n",
    "X_interim = np.vstack((xg_interim, yg_interim)) ## Please note vstack takes in a tuple\n",
    "X = X_interim.T\n",
    "\n",
    "## We want a shape of n rows and 2 columns to be able to feed this to last affine\n",
    "## This last affine takes only two columns, hence the above transformation\n",
    "probability_contour = model_prob(X).reshape(100,100) ## to make it consistent with xg, yg"
   ]
  },
  {
   "cell_type": "code",
   "execution_count": 30,
   "metadata": {
    "execution": {
     "iopub.execute_input": "2020-08-11T00:29:00.055839Z",
     "iopub.status.busy": "2020-08-11T00:29:00.055196Z",
     "iopub.status.idle": "2020-08-11T00:29:00.293388Z",
     "shell.execute_reply": "2020-08-11T00:29:00.293869Z"
    },
    "papermill": {
     "duration": 0.305959,
     "end_time": "2020-08-11T00:29:00.294025",
     "exception": false,
     "start_time": "2020-08-11T00:28:59.988066",
     "status": "completed"
    },
    "tags": []
   },
   "outputs": [
    {
     "data": {
      "image/png": "[encoded data removed]",
      "text/plain": [
       "<Figure size 576x504 with 1 Axes>"
      ]
     },
     "metadata": {
      "needs_background": "light"
     },
     "output_type": "display_data"
    }
   ],
   "source": [
    "plt.figure(figsize=(8,7))\n",
    "plt.scatter(plot_testing[:,0], plot_testing[:,1], alpha = 0.1, c = y_test.ravel())\n",
    "contours = plt.contour(xg,yg,probability_contour)\n",
    "plt.clabel(contours, inline = True );"
   ]
  }
 ],
 "metadata": {
  "kernelspec": {
   "display_name": "Python 3",
   "language": "python",
   "name": "python3"
  },
  "language_info": {
   "codemirror_mode": {
    "name": "ipython",
    "version": 3
   },
   "file_extension": ".py",
   "mimetype": "text/x-python",
   "name": "python",
   "nbconvert_exporter": "python",
   "pygments_lexer": "ipython3",
   "version": "3.6.11"
  },
  "papermill": {
   "duration": 112.32947,
   "end_time": "2020-08-11T00:29:00.755747",
   "environment_variables": {},
   "exception": null,
   "input_path": "2020-08-07-NN-new.ipynb",
   "output_path": "2020-08-07-NN-new.ipynb",
   "parameters": {},
   "start_time": "2020-08-11T00:27:08.426277",
   "version": "2.1.2"
  }
 },
 "nbformat": 4,
 "nbformat_minor": 4
}